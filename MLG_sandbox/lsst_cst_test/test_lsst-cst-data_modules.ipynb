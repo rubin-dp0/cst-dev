{
 "cells": [
  {
   "cell_type": "markdown",
   "id": "408afa68-35e1-4c50-84ba-fbb52d61484b",
   "metadata": {},
   "source": [
    "# Test lsst.cst.data module\n",
    "\n",
    "Melissa Graham\n",
    "\n",
    "branch tickets/PREOPS-4788\n",
    "\n",
    "Use each module in the package, alphabetically as listed at\n",
    "<a href=\"https://lsst-cst.lsst.io/v/PREOPS-4726/api/data_utils.html\">visualization_utils</a>.\n",
    "\n",
    "Take a naive approach and just explore, using the documentation but not the repo's notebooks (much)."
   ]
  },
  {
   "cell_type": "markdown",
   "id": "9eaaf1b2-4a09-4591-bb63-f1580894b6f2",
   "metadata": {},
   "source": [
    "## Summary\n",
    "\n",
    "Names like \"Band\" and \"TAPServer\" we probably need to avoid, likely redundant\n",
    "with LSST Science Pipelines.\n",
    "\n",
    "My ignorance of pandas has caused redundancy in functionality, unfortunately."
   ]
  },
  {
   "cell_type": "code",
   "execution_count": 1,
   "id": "72dc7a9c-6e0d-4265-9a14-0d9918f3760e",
   "metadata": {
    "execution": {
     "iopub.execute_input": "2024-02-27T04:55:34.036607Z",
     "iopub.status.busy": "2024-02-27T04:55:34.035982Z",
     "iopub.status.idle": "2024-02-27T04:55:34.517169Z",
     "shell.execute_reply": "2024-02-27T04:55:34.516475Z",
     "shell.execute_reply.started": "2024-02-27T04:55:34.036575Z"
    }
   },
   "outputs": [
    {
     "name": "stdout",
     "output_type": "stream",
     "text": [
      "Weekly 2024_04\n",
      "2024-02-27\n",
      "0.1.dev262+gbf83e98\n",
      "::::::::::::::\n",
      "/home/melissagraham/lsst-cst/.git/HEAD\n",
      "::::::::::::::\n",
      "ref: refs/heads/tickets/PREOPS-4788\n"
     ]
    },
    {
     "data": {
      "text/plain": [
       "0"
      ]
     },
     "execution_count": 1,
     "metadata": {},
     "output_type": "execute_result"
    }
   ],
   "source": [
    "! echo $IMAGE_DESCRIPTION\n",
    "\n",
    "from datetime import date\n",
    "print(date.today())\n",
    "\n",
    "import lsst.cst\n",
    "print(lsst.cst.__version__)\n",
    "\n",
    "os.system('more ~/lsst-cst/.git/HEAD')"
   ]
  },
  {
   "cell_type": "markdown",
   "id": "5cf2bd17-7fea-41f2-a808-1ad7b135b28d",
   "metadata": {},
   "source": [
    "## Import module and explore"
   ]
  },
  {
   "cell_type": "code",
   "execution_count": 2,
   "id": "7a6d8ff3-5fc9-48d1-9853-76675b7c2423",
   "metadata": {
    "execution": {
     "iopub.execute_input": "2024-02-27T04:55:50.168272Z",
     "iopub.status.busy": "2024-02-27T04:55:50.167556Z",
     "iopub.status.idle": "2024-02-27T04:55:51.963513Z",
     "shell.execute_reply": "2024-02-27T04:55:51.962829Z",
     "shell.execute_reply.started": "2024-02-27T04:55:50.168243Z"
    }
   },
   "outputs": [],
   "source": [
    "import lsst.cst.data"
   ]
  },
  {
   "cell_type": "code",
   "execution_count": 3,
   "id": "54bb0aed-c92b-44c7-a9cf-b5201a859c04",
   "metadata": {
    "execution": {
     "iopub.execute_input": "2024-02-27T04:56:03.511434Z",
     "iopub.status.busy": "2024-02-27T04:56:03.510873Z",
     "iopub.status.idle": "2024-02-27T04:56:03.514865Z",
     "shell.execute_reply": "2024-02-27T04:56:03.514285Z",
     "shell.execute_reply.started": "2024-02-27T04:56:03.511403Z"
    }
   },
   "outputs": [
    {
     "name": "stdout",
     "output_type": "stream",
     "text": [
      "Band\n",
      "DataWrapper\n",
      "TAPService\n",
      "data_id_to_str\n",
      "format\n",
      "ids_to_str\n",
      "queries\n",
      "shuffle_dataframe\n",
      "sort_dataframe\n",
      "tools\n",
      "tract_patch_from_ra_dec\n"
     ]
    }
   ],
   "source": [
    "for tmp in dir(lsst.cst.data):\n",
    "    if tmp[0] != '_':\n",
    "        print(tmp)"
   ]
  },
  {
   "cell_type": "markdown",
   "id": "ad47b7b2-d118-411a-b0e3-0544c3356ebe",
   "metadata": {},
   "source": [
    "## Test components\n",
    "\n",
    "### Band\n",
    "\n",
    "Should rename to describe what it does."
   ]
  },
  {
   "cell_type": "code",
   "execution_count": 4,
   "id": "cda9d869-4b77-4016-af6b-566265eecb65",
   "metadata": {
    "execution": {
     "iopub.execute_input": "2024-02-27T05:04:50.653010Z",
     "iopub.status.busy": "2024-02-27T05:04:50.652705Z",
     "iopub.status.idle": "2024-02-27T05:04:50.656015Z",
     "shell.execute_reply": "2024-02-27T05:04:50.655512Z",
     "shell.execute_reply.started": "2024-02-27T05:04:50.652987Z"
    }
   },
   "outputs": [],
   "source": [
    "from lsst.cst.data import Band"
   ]
  },
  {
   "cell_type": "code",
   "execution_count": 5,
   "id": "ba8ef99a-f78a-42d6-925d-2a4c230e4f95",
   "metadata": {
    "execution": {
     "iopub.execute_input": "2024-02-27T05:04:52.350098Z",
     "iopub.status.busy": "2024-02-27T05:04:52.349375Z",
     "iopub.status.idle": "2024-02-27T05:04:52.385472Z",
     "shell.execute_reply": "2024-02-27T05:04:52.384734Z",
     "shell.execute_reply.started": "2024-02-27T05:04:52.350073Z"
    }
   },
   "outputs": [
    {
     "data": {
      "text/plain": [
       "\u001b[0;31mInit signature:\u001b[0m\n",
       "\u001b[0mBand\u001b[0m\u001b[0;34m(\u001b[0m\u001b[0;34m\u001b[0m\n",
       "\u001b[0;34m\u001b[0m    \u001b[0mvalue\u001b[0m\u001b[0;34m,\u001b[0m\u001b[0;34m\u001b[0m\n",
       "\u001b[0;34m\u001b[0m    \u001b[0mnames\u001b[0m\u001b[0;34m=\u001b[0m\u001b[0;32mNone\u001b[0m\u001b[0;34m,\u001b[0m\u001b[0;34m\u001b[0m\n",
       "\u001b[0;34m\u001b[0m    \u001b[0;34m*\u001b[0m\u001b[0;34m,\u001b[0m\u001b[0;34m\u001b[0m\n",
       "\u001b[0;34m\u001b[0m    \u001b[0mmodule\u001b[0m\u001b[0;34m=\u001b[0m\u001b[0;32mNone\u001b[0m\u001b[0;34m,\u001b[0m\u001b[0;34m\u001b[0m\n",
       "\u001b[0;34m\u001b[0m    \u001b[0mqualname\u001b[0m\u001b[0;34m=\u001b[0m\u001b[0;32mNone\u001b[0m\u001b[0;34m,\u001b[0m\u001b[0;34m\u001b[0m\n",
       "\u001b[0;34m\u001b[0m    \u001b[0mtype\u001b[0m\u001b[0;34m=\u001b[0m\u001b[0;32mNone\u001b[0m\u001b[0;34m,\u001b[0m\u001b[0;34m\u001b[0m\n",
       "\u001b[0;34m\u001b[0m    \u001b[0mstart\u001b[0m\u001b[0;34m=\u001b[0m\u001b[0;36m1\u001b[0m\u001b[0;34m,\u001b[0m\u001b[0;34m\u001b[0m\n",
       "\u001b[0;34m\u001b[0m    \u001b[0mboundary\u001b[0m\u001b[0;34m=\u001b[0m\u001b[0;32mNone\u001b[0m\u001b[0;34m,\u001b[0m\u001b[0;34m\u001b[0m\n",
       "\u001b[0;34m\u001b[0m\u001b[0;34m)\u001b[0m\u001b[0;34m\u001b[0m\u001b[0;34m\u001b[0m\u001b[0m\n",
       "\u001b[0;31mDocstring:\u001b[0m      Exposure bands available.\n",
       "\u001b[0;31mFile:\u001b[0m           ~/lsst-cst/src/lsst/cst/data/queries.py\n",
       "\u001b[0;31mType:\u001b[0m           EnumType\n",
       "\u001b[0;31mSubclasses:\u001b[0m     "
      ]
     },
     "metadata": {},
     "output_type": "display_data"
    }
   ],
   "source": [
    "Band?"
   ]
  },
  {
   "cell_type": "markdown",
   "id": "a9d14f8f-8189-48af-a0d8-9f25d7420ea7",
   "metadata": {},
   "source": [
    "### DataWrapper\n",
    "\n",
    "Unclear. This does something with image metadata?\n",
    "\n",
    "Is this something that could be tucked into a different module, not a user-facing class?"
   ]
  },
  {
   "cell_type": "code",
   "execution_count": 6,
   "id": "39371f55-bef9-4d90-859e-8779a086205d",
   "metadata": {
    "execution": {
     "iopub.execute_input": "2024-02-27T05:05:24.526823Z",
     "iopub.status.busy": "2024-02-27T05:05:24.526125Z",
     "iopub.status.idle": "2024-02-27T05:05:24.529429Z",
     "shell.execute_reply": "2024-02-27T05:05:24.528868Z",
     "shell.execute_reply.started": "2024-02-27T05:05:24.526798Z"
    }
   },
   "outputs": [],
   "source": [
    "from lsst.cst.data import DataWrapper"
   ]
  },
  {
   "cell_type": "code",
   "execution_count": 7,
   "id": "e2e6d8cd-a45b-498d-8d2f-30677b8bdef5",
   "metadata": {
    "execution": {
     "iopub.execute_input": "2024-02-27T05:05:28.554108Z",
     "iopub.status.busy": "2024-02-27T05:05:28.553404Z",
     "iopub.status.idle": "2024-02-27T05:05:28.558176Z",
     "shell.execute_reply": "2024-02-27T05:05:28.557644Z",
     "shell.execute_reply.started": "2024-02-27T05:05:28.554083Z"
    }
   },
   "outputs": [
    {
     "data": {
      "text/plain": [
       "\u001b[0;31mInit signature:\u001b[0m \u001b[0mDataWrapper\u001b[0m\u001b[0;34m(\u001b[0m\u001b[0mdata\u001b[0m\u001b[0;34m:\u001b[0m \u001b[0mpandas\u001b[0m\u001b[0;34m.\u001b[0m\u001b[0mcore\u001b[0m\u001b[0;34m.\u001b[0m\u001b[0mframe\u001b[0m\u001b[0;34m.\u001b[0m\u001b[0mDataFrame\u001b[0m\u001b[0;34m)\u001b[0m\u001b[0;34m\u001b[0m\u001b[0;34m\u001b[0m\u001b[0m\n",
       "\u001b[0;31mDocstring:\u001b[0m     \n",
       "Data wrapper to facilitate most common operations over\n",
       "a pandas dataframe..\n",
       "\n",
       "Parameters\n",
       "----------\n",
       "data: `pd.DataFrame`\n",
       "    Exposure data information.\n",
       "\u001b[0;31mFile:\u001b[0m           ~/lsst-cst/src/lsst/cst/data/queries.py\n",
       "\u001b[0;31mType:\u001b[0m           type\n",
       "\u001b[0;31mSubclasses:\u001b[0m     "
      ]
     },
     "metadata": {},
     "output_type": "display_data"
    }
   ],
   "source": [
    "DataWrapper?"
   ]
  },
  {
   "cell_type": "markdown",
   "id": "85942057-dafa-4d53-aaf3-39218801fdef",
   "metadata": {},
   "source": [
    "### TAPService\n",
    "\n",
    "Is this necessary? The lsst rsp package already provides.\n",
    "\n",
    "If this is doing something else... need a different name."
   ]
  },
  {
   "cell_type": "code",
   "execution_count": 8,
   "id": "f5c9f3e3-b66d-44a1-a67c-8dc17fc6e1b1",
   "metadata": {
    "execution": {
     "iopub.execute_input": "2024-02-27T05:05:45.816057Z",
     "iopub.status.busy": "2024-02-27T05:05:45.815401Z",
     "iopub.status.idle": "2024-02-27T05:05:45.819009Z",
     "shell.execute_reply": "2024-02-27T05:05:45.818371Z",
     "shell.execute_reply.started": "2024-02-27T05:05:45.816019Z"
    }
   },
   "outputs": [],
   "source": [
    "from lsst.cst.data import TAPService"
   ]
  },
  {
   "cell_type": "code",
   "execution_count": 9,
   "id": "21ba2663-092c-45ee-82be-789af20d1a2c",
   "metadata": {
    "execution": {
     "iopub.execute_input": "2024-02-27T05:05:50.513660Z",
     "iopub.status.busy": "2024-02-27T05:05:50.512967Z",
     "iopub.status.idle": "2024-02-27T05:05:50.518485Z",
     "shell.execute_reply": "2024-02-27T05:05:50.517800Z",
     "shell.execute_reply.started": "2024-02-27T05:05:50.513635Z"
    }
   },
   "outputs": [
    {
     "data": {
      "text/plain": [
       "\u001b[0;31mInit signature:\u001b[0m \u001b[0mTAPService\u001b[0m\u001b[0;34m(\u001b[0m\u001b[0mquery\u001b[0m\u001b[0;34m:\u001b[0m \u001b[0mUnion\u001b[0m\u001b[0;34m[\u001b[0m\u001b[0mstr\u001b[0m\u001b[0;34m,\u001b[0m \u001b[0mlsst\u001b[0m\u001b[0;34m.\u001b[0m\u001b[0mcst\u001b[0m\u001b[0;34m.\u001b[0m\u001b[0mdata\u001b[0m\u001b[0;34m.\u001b[0m\u001b[0mqueries\u001b[0m\u001b[0;34m.\u001b[0m\u001b[0mQuery\u001b[0m\u001b[0;34m,\u001b[0m \u001b[0mNoneType\u001b[0m\u001b[0;34m]\u001b[0m \u001b[0;34m=\u001b[0m \u001b[0;32mNone\u001b[0m\u001b[0;34m)\u001b[0m\u001b[0;34m\u001b[0m\u001b[0;34m\u001b[0m\u001b[0m\n",
       "\u001b[0;31mDocstring:\u001b[0m     \n",
       "Facade of the TAP service\n",
       "\n",
       "Parameters\n",
       "----------\n",
       "query: `Optional [str | Query]`\n",
       "    Query to be launched\n",
       "\u001b[0;31mFile:\u001b[0m           ~/lsst-cst/src/lsst/cst/data/queries.py\n",
       "\u001b[0;31mType:\u001b[0m           type\n",
       "\u001b[0;31mSubclasses:\u001b[0m     "
      ]
     },
     "metadata": {},
     "output_type": "display_data"
    }
   ],
   "source": [
    "TAPService?"
   ]
  },
  {
   "cell_type": "markdown",
   "id": "71ff92bb-2952-42f8-bf4e-7df7afe92ca7",
   "metadata": {},
   "source": [
    "### data_id_to_str\n",
    "\n",
    "Does not work as expected. Did not recognize \"tract\"?"
   ]
  },
  {
   "cell_type": "code",
   "execution_count": 10,
   "id": "4d1a6148-bf15-491d-8df0-8ff42a1714ca",
   "metadata": {
    "execution": {
     "iopub.execute_input": "2024-02-27T05:06:52.154965Z",
     "iopub.status.busy": "2024-02-27T05:06:52.154326Z",
     "iopub.status.idle": "2024-02-27T05:06:52.158181Z",
     "shell.execute_reply": "2024-02-27T05:06:52.157482Z",
     "shell.execute_reply.started": "2024-02-27T05:06:52.154918Z"
    }
   },
   "outputs": [],
   "source": [
    "from lsst.cst.data import data_id_to_str"
   ]
  },
  {
   "cell_type": "code",
   "execution_count": 11,
   "id": "67680ce3-071f-4099-9b5b-8b0f6585bd9d",
   "metadata": {
    "execution": {
     "iopub.execute_input": "2024-02-27T05:06:56.324236Z",
     "iopub.status.busy": "2024-02-27T05:06:56.323479Z",
     "iopub.status.idle": "2024-02-27T05:06:56.329425Z",
     "shell.execute_reply": "2024-02-27T05:06:56.328736Z",
     "shell.execute_reply.started": "2024-02-27T05:06:56.324207Z"
    }
   },
   "outputs": [
    {
     "data": {
      "text/plain": [
       "\u001b[0;31mSignature:\u001b[0m \u001b[0mdata_id_to_str\u001b[0m\u001b[0;34m(\u001b[0m\u001b[0mdata_id\u001b[0m\u001b[0;34m:\u001b[0m \u001b[0mdict\u001b[0m\u001b[0;34m)\u001b[0m\u001b[0;34m\u001b[0m\u001b[0;34m\u001b[0m\u001b[0m\n",
       "\u001b[0;31mDocstring:\u001b[0m\n",
       "Returns a data identifier dictionary to a string\n",
       "\n",
       "Parameters\n",
       "----------\n",
       "data_id: 'dict'\n",
       "    Data identifier dictionary.\n",
       "\n",
       "Returns\n",
       "-------\n",
       "data_id_str: `str`\n",
       "    Data identifier string\n",
       "\u001b[0;31mFile:\u001b[0m      ~/lsst-cst/src/lsst/cst/data/format.py\n",
       "\u001b[0;31mType:\u001b[0m      function"
      ]
     },
     "metadata": {},
     "output_type": "display_data"
    }
   ],
   "source": [
    "data_id_to_str?"
   ]
  },
  {
   "cell_type": "code",
   "execution_count": 12,
   "id": "24f203f2-7888-4093-8c95-64f190369ce4",
   "metadata": {
    "execution": {
     "iopub.execute_input": "2024-02-27T05:07:38.342646Z",
     "iopub.status.busy": "2024-02-27T05:07:38.341923Z",
     "iopub.status.idle": "2024-02-27T05:07:38.546790Z",
     "shell.execute_reply": "2024-02-27T05:07:38.545752Z",
     "shell.execute_reply.started": "2024-02-27T05:07:38.342619Z"
    }
   },
   "outputs": [
    {
     "ename": "TypeError",
     "evalue": "CalExpId.__init__() got an unexpected keyword argument 'tract'",
     "output_type": "error",
     "traceback": [
      "\u001b[0;31m---------------------------------------------------------------------------\u001b[0m",
      "\u001b[0;31mTypeError\u001b[0m                                 Traceback (most recent call last)",
      "Cell \u001b[0;32mIn[12], line 2\u001b[0m\n\u001b[1;32m      1\u001b[0m my_dataId \u001b[38;5;241m=\u001b[39m {\u001b[38;5;124m'\u001b[39m\u001b[38;5;124mband\u001b[39m\u001b[38;5;124m'\u001b[39m: \u001b[38;5;124m'\u001b[39m\u001b[38;5;124mi\u001b[39m\u001b[38;5;124m'\u001b[39m, \u001b[38;5;124m'\u001b[39m\u001b[38;5;124mtract\u001b[39m\u001b[38;5;124m'\u001b[39m: \u001b[38;5;241m4431\u001b[39m, \u001b[38;5;124m'\u001b[39m\u001b[38;5;124mpatch\u001b[39m\u001b[38;5;124m'\u001b[39m: \u001b[38;5;241m17\u001b[39m}\n\u001b[0;32m----> 2\u001b[0m my_string \u001b[38;5;241m=\u001b[39m \u001b[43mdata_id_to_str\u001b[49m\u001b[43m(\u001b[49m\u001b[43mmy_dataId\u001b[49m\u001b[43m)\u001b[49m\n\u001b[1;32m      3\u001b[0m \u001b[38;5;28mprint\u001b[39m(my_string)\n",
      "File \u001b[0;32m~/lsst-cst/src/lsst/cst/data/format.py:46\u001b[0m, in \u001b[0;36mdata_id_to_str\u001b[0;34m(data_id)\u001b[0m\n\u001b[1;32m     33\u001b[0m \u001b[38;5;28;01mdef\u001b[39;00m \u001b[38;5;21mdata_id_to_str\u001b[39m(data_id: \u001b[38;5;28mdict\u001b[39m):\n\u001b[1;32m     34\u001b[0m \u001b[38;5;250m    \u001b[39m\u001b[38;5;124;03m\"\"\"Returns a data identifier dictionary to a string\u001b[39;00m\n\u001b[1;32m     35\u001b[0m \n\u001b[1;32m     36\u001b[0m \u001b[38;5;124;03m    Parameters\u001b[39;00m\n\u001b[0;32m   (...)\u001b[0m\n\u001b[1;32m     44\u001b[0m \u001b[38;5;124;03m        Data identifier string\u001b[39;00m\n\u001b[1;32m     45\u001b[0m \u001b[38;5;124;03m    \"\"\"\u001b[39;00m\n\u001b[0;32m---> 46\u001b[0m     cal_exp_id \u001b[38;5;241m=\u001b[39m \u001b[43mCalExpId\u001b[49m\u001b[43m(\u001b[49m\u001b[38;5;241;43m*\u001b[39;49m\u001b[38;5;241;43m*\u001b[39;49m\u001b[43mdata_id\u001b[49m\u001b[43m)\u001b[49m\n\u001b[1;32m     47\u001b[0m     \u001b[38;5;28;01mreturn\u001b[39;00m \u001b[38;5;28mstr\u001b[39m(cal_exp_id)\n",
      "\u001b[0;31mTypeError\u001b[0m: CalExpId.__init__() got an unexpected keyword argument 'tract'"
     ]
    }
   ],
   "source": [
    "my_dataId = {'band': 'i', 'tract': 4431, 'patch': 17}\n",
    "my_string = data_id_to_str(my_dataId)\n",
    "print(my_string)"
   ]
  },
  {
   "cell_type": "markdown",
   "id": "da73885b-7137-42e4-afc3-f02a1852bbae",
   "metadata": {},
   "source": [
    "### format\n",
    "\n",
    "Too general a name."
   ]
  },
  {
   "cell_type": "code",
   "execution_count": 13,
   "id": "f75a89b7-84fa-4a67-a03c-386e479db6a1",
   "metadata": {
    "execution": {
     "iopub.execute_input": "2024-02-27T05:11:00.395910Z",
     "iopub.status.busy": "2024-02-27T05:11:00.395146Z",
     "iopub.status.idle": "2024-02-27T05:11:00.398806Z",
     "shell.execute_reply": "2024-02-27T05:11:00.398241Z",
     "shell.execute_reply.started": "2024-02-27T05:11:00.395884Z"
    }
   },
   "outputs": [],
   "source": [
    "from lsst.cst.data import format"
   ]
  },
  {
   "cell_type": "code",
   "execution_count": 14,
   "id": "14a4aaf9-12a1-4dfa-992f-085e664f7810",
   "metadata": {
    "execution": {
     "iopub.execute_input": "2024-02-27T05:11:03.109532Z",
     "iopub.status.busy": "2024-02-27T05:11:03.108817Z",
     "iopub.status.idle": "2024-02-27T05:11:03.113872Z",
     "shell.execute_reply": "2024-02-27T05:11:03.113344Z",
     "shell.execute_reply.started": "2024-02-27T05:11:03.109499Z"
    }
   },
   "outputs": [
    {
     "data": {
      "text/plain": [
       "\u001b[0;31mType:\u001b[0m        module\n",
       "\u001b[0;31mString form:\u001b[0m <module 'lsst.cst.data.format' from '/home/melissagraham/lsst-cst/src/lsst/cst/data/format.py'>\n",
       "\u001b[0;31mFile:\u001b[0m        ~/lsst-cst/src/lsst/cst/data/format.py\n",
       "\u001b[0;31mDocstring:\u001b[0m   data science format utils."
      ]
     },
     "metadata": {},
     "output_type": "display_data"
    }
   ],
   "source": [
    "format?"
   ]
  },
  {
   "cell_type": "markdown",
   "id": "844d60dd-8491-4f3e-a489-e62a455409e5",
   "metadata": {},
   "source": [
    "### ids_to_str"
   ]
  },
  {
   "cell_type": "code",
   "execution_count": 15,
   "id": "9fbe6af4-add6-42a4-83c9-a5ae24384093",
   "metadata": {
    "execution": {
     "iopub.execute_input": "2024-02-27T05:13:37.409799Z",
     "iopub.status.busy": "2024-02-27T05:13:37.409037Z",
     "iopub.status.idle": "2024-02-27T05:13:37.412733Z",
     "shell.execute_reply": "2024-02-27T05:13:37.411989Z",
     "shell.execute_reply.started": "2024-02-27T05:13:37.409772Z"
    }
   },
   "outputs": [],
   "source": [
    "from lsst.cst.data import ids_to_str"
   ]
  },
  {
   "cell_type": "code",
   "execution_count": 16,
   "id": "bc72b414-d6b3-45be-8569-c2ab5925f33c",
   "metadata": {
    "execution": {
     "iopub.execute_input": "2024-02-27T05:13:43.285522Z",
     "iopub.status.busy": "2024-02-27T05:13:43.284407Z",
     "iopub.status.idle": "2024-02-27T05:13:43.292853Z",
     "shell.execute_reply": "2024-02-27T05:13:43.291910Z",
     "shell.execute_reply.started": "2024-02-27T05:13:43.285467Z"
    }
   },
   "outputs": [
    {
     "data": {
      "text/plain": [
       "\u001b[0;31mSignature:\u001b[0m \u001b[0mids_to_str\u001b[0m\u001b[0;34m(\u001b[0m\u001b[0mdata_ids\u001b[0m\u001b[0;34m:\u001b[0m \u001b[0mnumpy\u001b[0m\u001b[0;34m.\u001b[0m\u001b[0mndarray\u001b[0m\u001b[0;34m)\u001b[0m \u001b[0;34m->\u001b[0m \u001b[0mstr\u001b[0m\u001b[0;34m\u001b[0m\u001b[0;34m\u001b[0m\u001b[0m\n",
       "\u001b[0;31mDocstring:\u001b[0m\n",
       "Transform a numpy array of ids (long int)\n",
       "    to a comma-separated values string\n",
       "\n",
       "Parameters\n",
       "----------\n",
       "data_ids: `numpy.ndarray`\n",
       "    numpy array with objects id\n",
       "\n",
       "Returns\n",
       "-------\n",
       "result: `str`\n",
       "    String with separated by comma-separated values\n",
       "    from the data_ids\n",
       "\u001b[0;31mFile:\u001b[0m      ~/lsst-cst/src/lsst/cst/data/format.py\n",
       "\u001b[0;31mType:\u001b[0m      function"
      ]
     },
     "metadata": {},
     "output_type": "display_data"
    }
   ],
   "source": [
    "ids_to_str?"
   ]
  },
  {
   "cell_type": "code",
   "execution_count": 20,
   "id": "76478524-0659-4f03-9998-8bda066f4d67",
   "metadata": {
    "execution": {
     "iopub.execute_input": "2024-02-27T05:15:31.300047Z",
     "iopub.status.busy": "2024-02-27T05:15:31.299239Z",
     "iopub.status.idle": "2024-02-27T05:15:31.302727Z",
     "shell.execute_reply": "2024-02-27T05:15:31.302164Z",
     "shell.execute_reply.started": "2024-02-27T05:15:31.300019Z"
    }
   },
   "outputs": [],
   "source": [
    "import numpy as np"
   ]
  },
  {
   "cell_type": "code",
   "execution_count": 17,
   "id": "82dad218-f016-4a76-931d-74c3cb254c38",
   "metadata": {
    "execution": {
     "iopub.execute_input": "2024-02-27T05:14:44.445799Z",
     "iopub.status.busy": "2024-02-27T05:14:44.445085Z",
     "iopub.status.idle": "2024-02-27T05:14:44.449268Z",
     "shell.execute_reply": "2024-02-27T05:14:44.448664Z",
     "shell.execute_reply.started": "2024-02-27T05:14:44.445775Z"
    }
   },
   "outputs": [
    {
     "ename": "SyntaxError",
     "evalue": "leading zeros in decimal integer literals are not permitted; use an 0o prefix for octal integers (2650939700.py, line 1)",
     "output_type": "error",
     "traceback": [
      "\u001b[0;36m  Cell \u001b[0;32mIn[17], line 1\u001b[0;36m\u001b[0m\n\u001b[0;31m    my_array = np.asarray([234, 464, 0923, -2340, -023, 1002340923408203984])\u001b[0m\n\u001b[0m                                     ^\u001b[0m\n\u001b[0;31mSyntaxError\u001b[0m\u001b[0;31m:\u001b[0m leading zeros in decimal integer literals are not permitted; use an 0o prefix for octal integers\n"
     ]
    }
   ],
   "source": [
    "my_array = np.asarray([234, 464, 0923, -2340, -023, 1002340923408203984])\n",
    "my_string = ids_to_str(my_array)\n",
    "print(my_string)"
   ]
  },
  {
   "cell_type": "code",
   "execution_count": 21,
   "id": "7423bf1a-3bac-4aee-9254-0e95c29aa7e6",
   "metadata": {
    "execution": {
     "iopub.execute_input": "2024-02-27T05:15:34.618874Z",
     "iopub.status.busy": "2024-02-27T05:15:34.618349Z",
     "iopub.status.idle": "2024-02-27T05:15:34.622661Z",
     "shell.execute_reply": "2024-02-27T05:15:34.621996Z",
     "shell.execute_reply.started": "2024-02-27T05:15:34.618849Z"
    }
   },
   "outputs": [
    {
     "name": "stdout",
     "output_type": "stream",
     "text": [
      "(234, 464, 923, -2340, -982349823948985, 1002340923408203984)\n"
     ]
    }
   ],
   "source": [
    "my_array = np.asarray([234, 464, 923, -2340, -982349823948985, 1002340923408203984])\n",
    "my_string = ids_to_str(my_array)\n",
    "print(my_string)"
   ]
  },
  {
   "cell_type": "markdown",
   "id": "d383122f-f9ca-47ca-9e36-9e4e3a161d12",
   "metadata": {},
   "source": [
    "### queries\n",
    "\n",
    "Unclear."
   ]
  },
  {
   "cell_type": "code",
   "execution_count": 22,
   "id": "c2885427-d63a-4068-9925-f409c7e65ea6",
   "metadata": {
    "execution": {
     "iopub.execute_input": "2024-02-27T05:15:54.222479Z",
     "iopub.status.busy": "2024-02-27T05:15:54.222194Z",
     "iopub.status.idle": "2024-02-27T05:15:54.225854Z",
     "shell.execute_reply": "2024-02-27T05:15:54.225101Z",
     "shell.execute_reply.started": "2024-02-27T05:15:54.222459Z"
    }
   },
   "outputs": [],
   "source": [
    "from lsst.cst.data import queries"
   ]
  },
  {
   "cell_type": "code",
   "execution_count": 23,
   "id": "10431a51-2482-4a56-9a3e-f04a2009de66",
   "metadata": {
    "execution": {
     "iopub.execute_input": "2024-02-27T05:15:58.516089Z",
     "iopub.status.busy": "2024-02-27T05:15:58.515396Z",
     "iopub.status.idle": "2024-02-27T05:15:58.520145Z",
     "shell.execute_reply": "2024-02-27T05:15:58.519571Z",
     "shell.execute_reply.started": "2024-02-27T05:15:58.516063Z"
    }
   },
   "outputs": [
    {
     "data": {
      "text/plain": [
       "\u001b[0;31mType:\u001b[0m        module\n",
       "\u001b[0;31mString form:\u001b[0m <module 'lsst.cst.data.queries' from '/home/melissagraham/lsst-cst/src/lsst/cst/data/queries.py'>\n",
       "\u001b[0;31mFile:\u001b[0m        ~/lsst-cst/src/lsst/cst/data/queries.py\n",
       "\u001b[0;31mDocstring:\u001b[0m   data science query tools"
      ]
     },
     "metadata": {},
     "output_type": "display_data"
    }
   ],
   "source": [
    "queries?"
   ]
  },
  {
   "cell_type": "markdown",
   "id": "e71d7692-8cb2-4aae-9739-6477be9a320d",
   "metadata": {},
   "source": [
    "### shuffle_dataframe\n",
    "\n",
    "Not sure this is needed, shuffling is already a function of a pandas dataframe, with `df.sample()`. "
   ]
  },
  {
   "cell_type": "code",
   "execution_count": 24,
   "id": "e0d303e2-2e06-4d9f-9010-9da7502137bb",
   "metadata": {
    "execution": {
     "iopub.execute_input": "2024-02-27T05:16:20.026715Z",
     "iopub.status.busy": "2024-02-27T05:16:20.026179Z",
     "iopub.status.idle": "2024-02-27T05:16:20.029661Z",
     "shell.execute_reply": "2024-02-27T05:16:20.029089Z",
     "shell.execute_reply.started": "2024-02-27T05:16:20.026687Z"
    }
   },
   "outputs": [],
   "source": [
    "from lsst.cst.data import shuffle_dataframe"
   ]
  },
  {
   "cell_type": "code",
   "execution_count": 25,
   "id": "f48c527c-59a2-4a63-a84b-77ddb8c4b5b6",
   "metadata": {
    "execution": {
     "iopub.execute_input": "2024-02-27T05:16:26.305254Z",
     "iopub.status.busy": "2024-02-27T05:16:26.304641Z",
     "iopub.status.idle": "2024-02-27T05:16:26.309768Z",
     "shell.execute_reply": "2024-02-27T05:16:26.309236Z",
     "shell.execute_reply.started": "2024-02-27T05:16:26.305230Z"
    }
   },
   "outputs": [
    {
     "data": {
      "text/plain": [
       "\u001b[0;31mSignature:\u001b[0m \u001b[0mshuffle_dataframe\u001b[0m\u001b[0;34m(\u001b[0m\u001b[0mdf\u001b[0m\u001b[0;34m:\u001b[0m \u001b[0mpandas\u001b[0m\u001b[0;34m.\u001b[0m\u001b[0mcore\u001b[0m\u001b[0;34m.\u001b[0m\u001b[0mframe\u001b[0m\u001b[0;34m.\u001b[0m\u001b[0mDataFrame\u001b[0m\u001b[0;34m,\u001b[0m \u001b[0mrandom_state\u001b[0m\u001b[0;34m:\u001b[0m \u001b[0mint\u001b[0m \u001b[0;34m=\u001b[0m \u001b[0;36m0\u001b[0m\u001b[0;34m)\u001b[0m \u001b[0;34m->\u001b[0m \u001b[0mpandas\u001b[0m\u001b[0;34m.\u001b[0m\u001b[0mcore\u001b[0m\u001b[0;34m.\u001b[0m\u001b[0mframe\u001b[0m\u001b[0;34m.\u001b[0m\u001b[0mDataFrame\u001b[0m\u001b[0;34m\u001b[0m\u001b[0;34m\u001b[0m\u001b[0m\n",
       "\u001b[0;31mDocstring:\u001b[0m\n",
       "Return a copy of the dataframe df shuffled, random_state\n",
       "argument may be used to reproduce same shuffling.\n",
       "\n",
       "Parameters\n",
       "----------\n",
       "df: `pandas.DataFrame`\n",
       "    dataframe to be shuffled\n",
       "\n",
       "random_state: `int`\n",
       "    number to reproduce same randomness\n",
       "\n",
       "Returns\n",
       "-------\n",
       "result: `pandas.DataFrame`\n",
       "    shuffled dataframe\n",
       "\u001b[0;31mFile:\u001b[0m      ~/lsst-cst/src/lsst/cst/data/format.py\n",
       "\u001b[0;31mType:\u001b[0m      function"
      ]
     },
     "metadata": {},
     "output_type": "display_data"
    }
   ],
   "source": [
    "shuffle_dataframe?"
   ]
  },
  {
   "cell_type": "code",
   "execution_count": 26,
   "id": "c1b57202-bf03-4591-9cc5-219cf2e3a9b7",
   "metadata": {
    "execution": {
     "iopub.execute_input": "2024-02-27T05:16:44.296967Z",
     "iopub.status.busy": "2024-02-27T05:16:44.296317Z",
     "iopub.status.idle": "2024-02-27T05:16:44.299666Z",
     "shell.execute_reply": "2024-02-27T05:16:44.299159Z",
     "shell.execute_reply.started": "2024-02-27T05:16:44.296927Z"
    }
   },
   "outputs": [],
   "source": [
    "import pandas as pd"
   ]
  },
  {
   "cell_type": "code",
   "execution_count": 29,
   "id": "f3907b9f-57f9-4bf8-b758-8344b817a62b",
   "metadata": {
    "execution": {
     "iopub.execute_input": "2024-02-27T05:20:36.195059Z",
     "iopub.status.busy": "2024-02-27T05:20:36.194441Z",
     "iopub.status.idle": "2024-02-27T05:20:36.202400Z",
     "shell.execute_reply": "2024-02-27T05:20:36.201872Z",
     "shell.execute_reply.started": "2024-02-27T05:20:36.195032Z"
    }
   },
   "outputs": [
    {
     "name": "stdout",
     "output_type": "stream",
     "text": [
      "   col1  col2\n",
      "0     0    10\n",
      "1     1    11\n",
      "2     2    12\n",
      "3     3    13\n",
      "4     4    14\n",
      "5     5    15\n",
      "6     6    16\n",
      "7     7    17\n",
      "8     8    18\n",
      "9     9    19\n"
     ]
    }
   ],
   "source": [
    "my_array1 = [0, 1, 2, 3, 4, 5, 6, 7, 8, 9]\n",
    "my_array2 = [10, 11, 12, 13, 14, 15, 16, 17, 18, 19]\n",
    "my_pd = pd.DataFrame(data={'col1': my_array1, 'col2': my_array2})\n",
    "print(my_pd)"
   ]
  },
  {
   "cell_type": "code",
   "execution_count": 30,
   "id": "9a3dfc27-654b-4939-9fed-9478f073d646",
   "metadata": {
    "execution": {
     "iopub.execute_input": "2024-02-27T05:20:49.693250Z",
     "iopub.status.busy": "2024-02-27T05:20:49.692423Z",
     "iopub.status.idle": "2024-02-27T05:20:49.698576Z",
     "shell.execute_reply": "2024-02-27T05:20:49.697989Z",
     "shell.execute_reply.started": "2024-02-27T05:20:49.693218Z"
    }
   },
   "outputs": [
    {
     "name": "stdout",
     "output_type": "stream",
     "text": [
      "   col1  col2\n",
      "2     2    12\n",
      "8     8    18\n",
      "4     4    14\n",
      "9     9    19\n",
      "1     1    11\n",
      "6     6    16\n",
      "7     7    17\n",
      "3     3    13\n",
      "0     0    10\n",
      "5     5    15\n"
     ]
    }
   ],
   "source": [
    "my_shuffled_pd = shuffle_dataframe(my_pd)\n",
    "print(my_shuffled_pd)"
   ]
  },
  {
   "cell_type": "code",
   "execution_count": 31,
   "id": "747c111b-7e45-4ba1-80de-87dd26e317f5",
   "metadata": {
    "execution": {
     "iopub.execute_input": "2024-02-27T05:22:42.104864Z",
     "iopub.status.busy": "2024-02-27T05:22:42.103978Z",
     "iopub.status.idle": "2024-02-27T05:22:42.110359Z",
     "shell.execute_reply": "2024-02-27T05:22:42.109817Z",
     "shell.execute_reply.started": "2024-02-27T05:22:42.104835Z"
    }
   },
   "outputs": [
    {
     "name": "stdout",
     "output_type": "stream",
     "text": [
      "   col1  col2\n",
      "0     0    10\n",
      "4     4    14\n",
      "9     9    19\n",
      "8     8    18\n",
      "1     1    11\n",
      "2     2    12\n",
      "6     6    16\n",
      "3     3    13\n",
      "7     7    17\n",
      "5     5    15\n"
     ]
    }
   ],
   "source": [
    "my_shuffled_pd_v2 = my_pd.sample(frac = 1)\n",
    "print(my_shuffled_pd_v2)"
   ]
  },
  {
   "cell_type": "markdown",
   "id": "465b1b4b-2822-4eb8-8bb7-00c4891e26bc",
   "metadata": {},
   "source": [
    "### sort_dataframe\n",
    "\n",
    "I looked at the pandas documentation and I think this functionality already exists.\n",
    "\n",
    "I'm not a big pandas user but sorting, with or without reordering the index, is already a functionality."
   ]
  },
  {
   "cell_type": "code",
   "execution_count": 32,
   "id": "4e9c0fa8-48d6-4411-9a7c-8fa26e7e3aee",
   "metadata": {
    "execution": {
     "iopub.execute_input": "2024-02-27T05:23:54.104682Z",
     "iopub.status.busy": "2024-02-27T05:23:54.104054Z",
     "iopub.status.idle": "2024-02-27T05:23:54.107675Z",
     "shell.execute_reply": "2024-02-27T05:23:54.107156Z",
     "shell.execute_reply.started": "2024-02-27T05:23:54.104650Z"
    }
   },
   "outputs": [],
   "source": [
    "from lsst.cst.data import sort_dataframe"
   ]
  },
  {
   "cell_type": "code",
   "execution_count": 33,
   "id": "83000b3d-3c24-4c58-a971-b5073a533bbf",
   "metadata": {
    "execution": {
     "iopub.execute_input": "2024-02-27T05:23:59.232962Z",
     "iopub.status.busy": "2024-02-27T05:23:59.232332Z",
     "iopub.status.idle": "2024-02-27T05:23:59.238554Z",
     "shell.execute_reply": "2024-02-27T05:23:59.237993Z",
     "shell.execute_reply.started": "2024-02-27T05:23:59.232916Z"
    }
   },
   "outputs": [
    {
     "data": {
      "text/plain": [
       "\u001b[0;31mSignature:\u001b[0m\n",
       "\u001b[0msort_dataframe\u001b[0m\u001b[0;34m(\u001b[0m\u001b[0;34m\u001b[0m\n",
       "\u001b[0;34m\u001b[0m    \u001b[0mdf\u001b[0m\u001b[0;34m:\u001b[0m \u001b[0mpandas\u001b[0m\u001b[0;34m.\u001b[0m\u001b[0mcore\u001b[0m\u001b[0;34m.\u001b[0m\u001b[0mframe\u001b[0m\u001b[0;34m.\u001b[0m\u001b[0mDataFrame\u001b[0m\u001b[0;34m,\u001b[0m\u001b[0;34m\u001b[0m\n",
       "\u001b[0;34m\u001b[0m    \u001b[0msort_key\u001b[0m\u001b[0;34m:\u001b[0m \u001b[0mstr\u001b[0m\u001b[0;34m,\u001b[0m\u001b[0;34m\u001b[0m\n",
       "\u001b[0;34m\u001b[0m    \u001b[0mascending\u001b[0m\u001b[0;34m:\u001b[0m \u001b[0mbool\u001b[0m \u001b[0;34m=\u001b[0m \u001b[0;32mFalse\u001b[0m\u001b[0;34m,\u001b[0m\u001b[0;34m\u001b[0m\n",
       "\u001b[0;34m\u001b[0m    \u001b[0mset_index\u001b[0m\u001b[0;34m:\u001b[0m \u001b[0mbool\u001b[0m \u001b[0;34m=\u001b[0m \u001b[0;32mTrue\u001b[0m\u001b[0;34m,\u001b[0m\u001b[0;34m\u001b[0m\n",
       "\u001b[0;34m\u001b[0m\u001b[0;34m)\u001b[0m \u001b[0;34m->\u001b[0m \u001b[0mpandas\u001b[0m\u001b[0;34m.\u001b[0m\u001b[0mcore\u001b[0m\u001b[0;34m.\u001b[0m\u001b[0mframe\u001b[0m\u001b[0;34m.\u001b[0m\u001b[0mDataFrame\u001b[0m\u001b[0;34m\u001b[0m\u001b[0;34m\u001b[0m\u001b[0m\n",
       "\u001b[0;31mDocstring:\u001b[0m\n",
       "Return a sorted copy of the dataframe 'df' by index,\n",
       "selecting the desired order (ascending or descending)\n",
       "using the ascending argument, it also exchanges the index\n",
       "of the dataframe for the sort_key if set_index parameter\n",
       "is True (default).\n",
       "\n",
       "Parameters\n",
       "----------\n",
       "df : `pandas.DataFrame`\n",
       "    dataframe to be sorted\n",
       "sort_key: `str`\n",
       "    column key used to sort the dataframe\n",
       "ascending: `bool`, optional\n",
       "    ascending/descending sorting\n",
       "set_index: `bool`, optional\n",
       "    set sorted key as the dataframe index\n",
       "\n",
       "Returns\n",
       "-------\n",
       "result : `pandas.DataFrame`\n",
       "    Copy of the `~pandas.DataFrame` sorted using the selected column.\n",
       "\u001b[0;31mFile:\u001b[0m      ~/lsst-cst/src/lsst/cst/data/format.py\n",
       "\u001b[0;31mType:\u001b[0m      function"
      ]
     },
     "metadata": {},
     "output_type": "display_data"
    }
   ],
   "source": [
    "sort_dataframe?"
   ]
  },
  {
   "cell_type": "code",
   "execution_count": 35,
   "id": "b4c38285-312a-42ba-b577-20349edb76d5",
   "metadata": {
    "execution": {
     "iopub.execute_input": "2024-02-27T05:26:42.331746Z",
     "iopub.status.busy": "2024-02-27T05:26:42.330976Z",
     "iopub.status.idle": "2024-02-27T05:26:42.338377Z",
     "shell.execute_reply": "2024-02-27T05:26:42.337735Z",
     "shell.execute_reply.started": "2024-02-27T05:26:42.331715Z"
    }
   },
   "outputs": [
    {
     "name": "stdout",
     "output_type": "stream",
     "text": [
      "   col1  col2\n",
      "0   2.0  16.0\n",
      "1   7.0  14.0\n",
      "2   4.0   8.0\n",
      "3   8.0  18.0\n",
      "4  10.0  10.0\n",
      "5   5.0  20.0\n",
      "6   1.0   2.0\n",
      "7   3.0  12.0\n",
      "8   9.0   4.0\n",
      "9   6.0   6.0\n"
     ]
    }
   ],
   "source": [
    "my_array1 = 1.0 * (np.random.choice(10, size=10, replace=False) + 1.0)\n",
    "my_array2 = 2.0 * (np.random.choice(10, size=10, replace=False) + 1.0)\n",
    "my_pd = pd.DataFrame(data={'col1': my_array1, 'col2': my_array2})\n",
    "print(my_pd)"
   ]
  },
  {
   "cell_type": "code",
   "execution_count": 36,
   "id": "1ae48961-d5b9-41ac-bfd4-b8874b7aa7eb",
   "metadata": {
    "execution": {
     "iopub.execute_input": "2024-02-27T05:28:05.225134Z",
     "iopub.status.busy": "2024-02-27T05:28:05.224559Z",
     "iopub.status.idle": "2024-02-27T05:28:05.231250Z",
     "shell.execute_reply": "2024-02-27T05:28:05.230668Z",
     "shell.execute_reply.started": "2024-02-27T05:28:05.225108Z"
    }
   },
   "outputs": [
    {
     "name": "stdout",
     "output_type": "stream",
     "text": [
      "   col1  col2\n",
      "6   1.0   2.0\n",
      "0   2.0  16.0\n",
      "7   3.0  12.0\n",
      "2   4.0   8.0\n",
      "5   5.0  20.0\n",
      "9   6.0   6.0\n",
      "1   7.0  14.0\n",
      "3   8.0  18.0\n",
      "8   9.0   4.0\n",
      "4  10.0  10.0\n"
     ]
    }
   ],
   "source": [
    "my_sorted_pd = my_pd.sort_values(by=['col1'])\n",
    "print(my_sorted_pd)"
   ]
  },
  {
   "cell_type": "code",
   "execution_count": 37,
   "id": "efbb54b7-40c7-47d2-a221-4612404c7c7b",
   "metadata": {
    "execution": {
     "iopub.execute_input": "2024-02-27T05:28:57.208402Z",
     "iopub.status.busy": "2024-02-27T05:28:57.208078Z",
     "iopub.status.idle": "2024-02-27T05:28:57.215379Z",
     "shell.execute_reply": "2024-02-27T05:28:57.214481Z",
     "shell.execute_reply.started": "2024-02-27T05:28:57.208382Z"
    }
   },
   "outputs": [
    {
     "name": "stdout",
     "output_type": "stream",
     "text": [
      "   col1  col2\n",
      "4  10.0  10.0\n",
      "8   9.0   4.0\n",
      "3   8.0  18.0\n",
      "1   7.0  14.0\n",
      "9   6.0   6.0\n",
      "5   5.0  20.0\n",
      "2   4.0   8.0\n",
      "7   3.0  12.0\n",
      "0   2.0  16.0\n",
      "6   1.0   2.0\n"
     ]
    }
   ],
   "source": [
    "my_sorted_pd_v2 = my_pd.sort_values(by=['col1'], ascending=False)\n",
    "print(my_sorted_pd_v2)"
   ]
  },
  {
   "cell_type": "code",
   "execution_count": 38,
   "id": "66e84302-a758-44cb-a236-5e52b791e51e",
   "metadata": {
    "execution": {
     "iopub.execute_input": "2024-02-27T05:29:27.569170Z",
     "iopub.status.busy": "2024-02-27T05:29:27.568442Z",
     "iopub.status.idle": "2024-02-27T05:29:27.574630Z",
     "shell.execute_reply": "2024-02-27T05:29:27.574075Z",
     "shell.execute_reply.started": "2024-02-27T05:29:27.569144Z"
    }
   },
   "outputs": [
    {
     "name": "stdout",
     "output_type": "stream",
     "text": [
      "   col1  col2\n",
      "0   1.0   2.0\n",
      "1   2.0  16.0\n",
      "2   3.0  12.0\n",
      "3   4.0   8.0\n",
      "4   5.0  20.0\n",
      "5   6.0   6.0\n",
      "6   7.0  14.0\n",
      "7   8.0  18.0\n",
      "8   9.0   4.0\n",
      "9  10.0  10.0\n"
     ]
    }
   ],
   "source": [
    "my_sorted_pd_v3 = my_pd.sort_values(by=['col1'], ignore_index=True)\n",
    "print(my_sorted_pd_v3)"
   ]
  },
  {
   "cell_type": "markdown",
   "id": "75e6d45b-71de-4d33-b91c-c3153b6b9124",
   "metadata": {},
   "source": [
    "### tools\n",
    "\n",
    "Unclear"
   ]
  },
  {
   "cell_type": "code",
   "execution_count": 39,
   "id": "eb58eb6c-743d-43e5-849c-cc854f086e15",
   "metadata": {
    "execution": {
     "iopub.execute_input": "2024-02-27T05:30:45.216382Z",
     "iopub.status.busy": "2024-02-27T05:30:45.215718Z",
     "iopub.status.idle": "2024-02-27T05:30:45.219356Z",
     "shell.execute_reply": "2024-02-27T05:30:45.218808Z",
     "shell.execute_reply.started": "2024-02-27T05:30:45.216356Z"
    }
   },
   "outputs": [],
   "source": [
    "from lsst.cst.data import tools"
   ]
  },
  {
   "cell_type": "code",
   "execution_count": 40,
   "id": "628e42ec-2a26-4c21-9a07-693515b73f53",
   "metadata": {
    "execution": {
     "iopub.execute_input": "2024-02-27T05:30:49.054940Z",
     "iopub.status.busy": "2024-02-27T05:30:49.054215Z",
     "iopub.status.idle": "2024-02-27T05:30:49.059138Z",
     "shell.execute_reply": "2024-02-27T05:30:49.058520Z",
     "shell.execute_reply.started": "2024-02-27T05:30:49.054910Z"
    }
   },
   "outputs": [
    {
     "data": {
      "text/plain": [
       "\u001b[0;31mType:\u001b[0m        module\n",
       "\u001b[0;31mString form:\u001b[0m <module 'lsst.cst.data.tools' from '/home/melissagraham/lsst-cst/src/lsst/cst/data/tools.py'>\n",
       "\u001b[0;31mFile:\u001b[0m        ~/lsst-cst/src/lsst/cst/data/tools.py\n",
       "\u001b[0;31mDocstring:\u001b[0m   data science data tools."
      ]
     },
     "metadata": {},
     "output_type": "display_data"
    }
   ],
   "source": [
    "tools?"
   ]
  },
  {
   "cell_type": "markdown",
   "id": "7e9038a8-f01e-43a0-a8d3-cc373b7720b0",
   "metadata": {},
   "source": [
    "### tract_patch_from_ra_dec\n",
    "\n",
    "Nice!"
   ]
  },
  {
   "cell_type": "code",
   "execution_count": 41,
   "id": "b363be71-2526-4823-9fbd-69417e0a24fd",
   "metadata": {
    "execution": {
     "iopub.execute_input": "2024-02-27T05:31:46.755331Z",
     "iopub.status.busy": "2024-02-27T05:31:46.754623Z",
     "iopub.status.idle": "2024-02-27T05:31:46.758146Z",
     "shell.execute_reply": "2024-02-27T05:31:46.757611Z",
     "shell.execute_reply.started": "2024-02-27T05:31:46.755300Z"
    }
   },
   "outputs": [],
   "source": [
    "from lsst.cst.data import tract_patch_from_ra_dec"
   ]
  },
  {
   "cell_type": "code",
   "execution_count": 42,
   "id": "a366937d-58a4-4caa-8f21-a3575b1c5f92",
   "metadata": {
    "execution": {
     "iopub.execute_input": "2024-02-27T05:31:52.663223Z",
     "iopub.status.busy": "2024-02-27T05:31:52.662771Z",
     "iopub.status.idle": "2024-02-27T05:31:52.668451Z",
     "shell.execute_reply": "2024-02-27T05:31:52.667915Z",
     "shell.execute_reply.started": "2024-02-27T05:31:52.663191Z"
    }
   },
   "outputs": [
    {
     "data": {
      "text/plain": [
       "\u001b[0;31mSignature:\u001b[0m \u001b[0mtract_patch_from_ra_dec\u001b[0m\u001b[0;34m(\u001b[0m\u001b[0mra\u001b[0m\u001b[0;34m:\u001b[0m \u001b[0mfloat\u001b[0m\u001b[0;34m,\u001b[0m \u001b[0mdec\u001b[0m\u001b[0;34m:\u001b[0m \u001b[0mfloat\u001b[0m\u001b[0;34m)\u001b[0m\u001b[0;34m\u001b[0m\u001b[0;34m\u001b[0m\u001b[0m\n",
       "\u001b[0;31mDocstring:\u001b[0m\n",
       "Look for nearest tract-patch information from a\n",
       "coordinate.\n",
       "\n",
       "Parameters\n",
       "----------\n",
       "ra: `np.float64`\n",
       "    Coordinate ascension.\n",
       "dec: `np.float64`\n",
       "    Coordinate declination.\n",
       "\n",
       "Returns\n",
       "-------\n",
       "value: `TractPatchInformation`\n",
       "    Tract patch information\n",
       "\u001b[0;31mFile:\u001b[0m      ~/lsst-cst/src/lsst/cst/data/tools.py\n",
       "\u001b[0;31mType:\u001b[0m      function"
      ]
     },
     "metadata": {},
     "output_type": "display_data"
    }
   ],
   "source": [
    "tract_patch_from_ra_dec?"
   ]
  },
  {
   "cell_type": "code",
   "execution_count": 43,
   "id": "503a81fe-6e22-40d1-a115-ccfc5046aa8d",
   "metadata": {
    "execution": {
     "iopub.execute_input": "2024-02-27T05:32:23.514178Z",
     "iopub.status.busy": "2024-02-27T05:32:23.513875Z",
     "iopub.status.idle": "2024-02-27T05:32:39.177575Z",
     "shell.execute_reply": "2024-02-27T05:32:39.176924Z",
     "shell.execute_reply.started": "2024-02-27T05:32:23.514158Z"
    }
   },
   "outputs": [
    {
     "name": "stdout",
     "output_type": "stream",
     "text": [
      "tract: 3831 patch: 10\n"
     ]
    }
   ],
   "source": [
    "my_ra = 62.0\n",
    "my_dec = -37.0\n",
    "my_results = tract_patch_from_ra_dec(my_ra, my_dec)\n",
    "print(my_results)"
   ]
  },
  {
   "cell_type": "code",
   "execution_count": null,
   "id": "bd139f6b-700c-43e2-a1b8-a01e731dc610",
   "metadata": {},
   "outputs": [],
   "source": []
  }
 ],
 "metadata": {
  "kernelspec": {
   "display_name": "LSST",
   "language": "python",
   "name": "lsst"
  },
  "language_info": {
   "codemirror_mode": {
    "name": "ipython",
    "version": 3
   },
   "file_extension": ".py",
   "mimetype": "text/x-python",
   "name": "python",
   "nbconvert_exporter": "python",
   "pygments_lexer": "ipython3",
   "version": "3.11.7"
  }
 },
 "nbformat": 4,
 "nbformat_minor": 5
}
