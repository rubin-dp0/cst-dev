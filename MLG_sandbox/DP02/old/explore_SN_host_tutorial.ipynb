{
 "cells": [
  {
   "cell_type": "markdown",
   "id": "da5f7e75-c74a-4668-831d-292b42965a3c",
   "metadata": {
    "tags": []
   },
   "source": [
    "# SNIa Host Association\n",
    "\n",
    "Contact author: Melissa Graham\n",
    "\n",
    "Date last verified to run: Fri Dec 30, 2022\n",
    "\n",
    "RSP environment version: Weekly 2022_40"
   ]
  },
  {
   "cell_type": "markdown",
   "id": "4e0239b1-d3a9-4f39-8837-ce2800d26d99",
   "metadata": {},
   "source": [
    "## 1. Introduction\n",
    "\n",
    "The DP0.2 `DiaObjects` catalog **does not contain** the host association parameters described in the Rubin Observatory Data Products Definitions Document (DPDD; <a href=\"https://docushare.lsstcorp.org/docushare/dsweb/Get/LSE-163/LSE-163_DataProductsDefinitionDocumentDPDD.pdf\">ls.st/dpdd</a>) and in the Data Management Tech Note on \"Host Galaxy Association for DIAObjects\" (<a href=\"https://dmtn-151.lsst.io/\">DMTN-151</a>), but future data releases will."
   ]
  },
  {
   "cell_type": "markdown",
   "id": "cbbb7d92-3a9d-47d9-a3b5-8cc49b390e1b",
   "metadata": {},
   "source": [
    "As listed in Table 3 of Version 3.7 of the DPDD, the future `DiaObjects` catalog will contain the following columns.\n",
    "\n",
    " * `nearbyObj` = Closest `Objects` (3 stars and 3 galaxies) in the Data Release database.\n",
    " * `nearbyObjDist` = Distances to `nearbyObj`.\n",
    " * `nearbyExtObj` = Three extended `Objects` with lowest separations in the Data Release database.\n",
    " * `nearbyExtObjSep` = Separations of `nearbyExtObj`.\n",
    "\n",
    "Whereas `nearbyObj` would be identified based on the on-sky two-dimensional distances using only the object centroids, the `nearbyExtObj` \"separations\" would be calculated with respect to the transient location using the second moments of each Object’s luminosity profile (as described in DMTN-151)."
   ]
  },
  {
   "cell_type": "markdown",
   "id": "8cdf358d-f736-472b-ba6f-b1fce704a483",
   "metadata": {},
   "source": [
    "In this notebook, two options for measuring the \"separation\" between SNIa coordinates and a potential host galaxy are considered.\n",
    "\n",
    "1. **Effective Kron separation.**  \n",
    "The Kron radius for a galaxy is based on the first image moment (Kron 1980).\n",
    "It is more typically used for flux measurements than for galaxy size and shape, as twice the Kron radius will capture >90% of the galaxy flux.\n",
    "In the DP0.2 `Object` table, the Kron radius for a given filter, e.g., `r_kronRad`, is the square root of the product of the semi-major and semi-minor axes of the galaxy, and it is given in arcseconds.\n",
    "The _effective_ Kron separation is the distance bewteen the SNIa and the galaxy barycenter, divided by the galaxy's Kron radius.\n",
    "In this notebook we explore both the r- and i-band effective Kron separations.\n",
    "\n",
    "2. **Effective elliptical separation.**\n",
    "This is based on the adaptive second moments of the galaxy's luminosity profile.\n",
    "In the DP0.2 `Object` table, the second moments are provided in the `shape_xx` ($Ixx$), `shape_yy` ($Iyy$), and `shape_xy` ($Ixy$) columns, in arcseconds.\n",
    "Where $x$ and $y$ are RA and Declination, respectively, and $ \\delta x = x_{SN}-x_{galaxy} $ and $ \\delta y = y_{SN}-y_{galaxy} $ are in arcsec, the effective elliptical separation $R$ can be calculated with the equations below. See also <a href=\"https://sextractor.readthedocs.io/en/latest/Position.html#ellipse-parameters-cxx-cyy-cxy\">this description and graphic of the ellipse parameters CXX, CYY, CXY in the Source Extractor documentation by E. Bertin</a>.\n",
    "$$ C_{xx} = {I_{yy} \\over {I_{xx}I_{yy} - I_{xy}^2}} $$ \n",
    "$$ C_{yy} = {I_{xx} \\over {I_{xx}I_{yy} - I_{xy}^2}} $$ \n",
    "$$ C_{xy} = {-2 I_{xy} \\over {I_{xx}I_{yy} - I_{xy}^2}} $$\n",
    "$$ R^2 = C_{xx}(\\delta x)^2 + C_{yy}(\\delta y)^2 + C_{xy}(\\delta x)(\\delta y) $$"
   ]
  },
  {
   "cell_type": "markdown",
   "id": "ab5df19d-bed5-4e5e-b1e3-45b74f7acbd8",
   "metadata": {},
   "source": [
    "As we will see in Section 2 and 3, even a separation distance that accounts for a host galaxy's luminosity profile is not going to be sufficient for identifying the correct host galaxy 100% of the time.\n",
    "\n",
    "As host association is more challenging at low-redshifts, in the future `DiaObjects` will also be cross-matched to a catalog of nearby low-redshift galaxies (e.g., NGC/IC or similar), with the following columns added to the `DiaObjects` table (as in Table 3 of the DPDD).\n",
    " * `nearbyLowzGal` = External catalog name of the nearest low-redshift galaxy.\n",
    " * `nearbyLowzGalSep` = Separation of `nearbyLowzGal`.\n",
    " \n",
    "Using priors based on galaxy morphology and photometric-redshifts, combined with information about the SN type or brightness, can also improve host association algorithms.\n",
    "\n",
    "SN host association is also an active area of ongoing research.\n",
    "Two recent papers exploring host association options include:\n",
    " * DELIGHT: Deep Learning Identification of Galaxy Hosts of Transients using Multiresolution Images (<a href=\"https://ui.adsabs.harvard.edu/abs/2022AJ....164..195F/abstract\">Förster et al. 2022</a>)\n",
    " * GHOST: Using Only Host Galaxy Information to Accurately Associate and Distinguish Supernovae (<a href=\"https://ui.adsabs.harvard.edu/abs/2021ApJ...908..170G/abstract\">Gagliano et al. 2021</a>) \n",
    " \n",
    "<br>"
   ]
  },
  {
   "cell_type": "markdown",
   "id": "30c247e2-3336-41eb-8da3-4eff70b798e7",
   "metadata": {},
   "source": [
    "**In this notebook.**\n",
    "\n",
    "**Section 2.** Choose one true low-z SNIa with a large offset from its big bright host.\n",
    "Explore the properties of its true host, and identify nearby objects using the measures above.\n",
    "Visualize the environment by displaying the deepCoadd image and marking the SN, its host, and interloping galaxies.\n",
    " \n",
    "**Section 3.** Retrieve a large sample of SNIa, calculate the properties of their hosts, and associate them with nearby objects using the measures above. Determine what fraction of true hosts are identified as the \"nearest\" galaxy, or in the top three, as a function of redshift.\n",
    "\n",
    "**Appendix.** Steps through the process for identifying the one true low-z SNIa with a large offset from its big bright host, used in Section 2.\n",
    " \n",
    "> **Important!** Keep in mind that the demonstration in this notebook is _very_ simple! In practice, when doing science with SNIa and their host galaxies, association algorithms incorporate SNIa and host galaxy information as priors, such as brightness, redshift, and morphology. "
   ]
  },
  {
   "cell_type": "markdown",
   "id": "dd4642bb-ab1f-404f-958f-516d32379d35",
   "metadata": {
    "tags": []
   },
   "source": [
    "### 1.1. Import packages"
   ]
  },
  {
   "cell_type": "code",
   "execution_count": null,
   "id": "72375312-460e-49d0-9e21-b4205ca3ae4a",
   "metadata": {},
   "outputs": [],
   "source": [
    "import numpy as np\n",
    "import pandas as pd\n",
    "import matplotlib\n",
    "import matplotlib.pyplot as plt\n",
    "import time\n",
    "import gc\n",
    "\n",
    "from astropy.wcs import WCS\n",
    "from astropy.units import UnitsWarning\n",
    "from astropy.coordinates import SkyCoord\n",
    "from astropy.coordinates import match_coordinates_sky\n",
    "import astropy.units as u\n",
    "\n",
    "from lsst.rsp import get_tap_service\n",
    "import lsst.afw.display as afwDisplay\n",
    "from lsst.daf.butler import Butler\n",
    "import lsst.geom as geom"
   ]
  },
  {
   "cell_type": "markdown",
   "id": "9f23b8e4-9999-46a0-aafb-1549eb06081a",
   "metadata": {},
   "source": [
    "### 1.2. Set global parameters and functions"
   ]
  },
  {
   "cell_type": "code",
   "execution_count": null,
   "id": "e816eab2-93a0-4716-832b-406151917bcb",
   "metadata": {},
   "outputs": [],
   "source": [
    "butler = Butler('dp02', collections='2.2i/runs/DP0.2')\n",
    "skymap = butler.get('skyMap')"
   ]
  },
  {
   "cell_type": "code",
   "execution_count": null,
   "id": "1656f8e4-62c1-4d26-ba32-442ad336f863",
   "metadata": {},
   "outputs": [],
   "source": [
    "service = get_tap_service()"
   ]
  },
  {
   "cell_type": "code",
   "execution_count": null,
   "id": "f6912e44-c640-4e31-b435-0fe6e667fd30",
   "metadata": {},
   "outputs": [],
   "source": [
    "pd.set_option('display.max_rows', 20)\n",
    "afwDisplay.setDefaultBackend('matplotlib')"
   ]
  },
  {
   "cell_type": "code",
   "execution_count": null,
   "id": "fab015fb-0a5a-47f4-ad31-5ff8967be26c",
   "metadata": {},
   "outputs": [],
   "source": [
    "plot_filter_labels = ['u', 'g', 'r', 'i', 'z', 'y']\n",
    "plot_filter_colors = {'u' : '#56b4e9', 'g' : '#008060', 'r' : '#ff4000',\n",
    "                      'i' : '#850000', 'z' : '#6600cc', 'y' : '#000000'}\n",
    "plot_filter_symbols = {'u' : 'o', 'g' : '^', 'r' : 'v', \n",
    "                       'i' : 's', 'z' : '*', 'y' : 'p'}"
   ]
  },
  {
   "cell_type": "code",
   "execution_count": null,
   "id": "a02f1220-3633-428b-b46f-aee08786641b",
   "metadata": {},
   "outputs": [],
   "source": [
    "def cutout_coadd(butler, ra, dec, band='r', datasetType='deepCoadd',\n",
    "                 skymap=None, cutoutSideLength=51, **kwargs):\n",
    "    \"\"\"\n",
    "    Produce a cutout from a coadd at the given ra, dec position.\n",
    "\n",
    "    Adapted from DC2 tutorial notebook by Michael Wood-Vasey.\n",
    "\n",
    "    Parameters\n",
    "    ----------\n",
    "    butler: lsst.daf.persistence.Butler\n",
    "        Servant providing access to a data repository\n",
    "    ra: float\n",
    "        Right ascension of the center of the cutout, in degrees\n",
    "    dec: float\n",
    "        Declination of the center of the cutout, in degrees\n",
    "    band: string\n",
    "        Filter of the image to load\n",
    "    datasetType: string ['deepCoadd']\n",
    "        Which type of coadd to load.  Doesn't support 'calexp'\n",
    "    skymap: lsst.afw.skyMap.SkyMap [optional]\n",
    "        Pass in to avoid the Butler read.  Useful if you have lots of them.\n",
    "    cutoutSideLength: float [optional]\n",
    "        Size of the cutout region in pixels.\n",
    "\n",
    "    Returns\n",
    "    -------\n",
    "    MaskedImage\n",
    "    \"\"\"\n",
    "    radec = geom.SpherePoint(ra, dec, geom.degrees)\n",
    "    cutoutSize = geom.ExtentI(cutoutSideLength, cutoutSideLength)\n",
    "\n",
    "    if skymap is None:\n",
    "        skymap = butler.get(\"skyMap\")\n",
    "\n",
    "    # Look up the tract, patch for the RA, Dec\n",
    "    tractInfo = skymap.findTract(radec)\n",
    "    patchInfo = tractInfo.findPatch(radec)\n",
    "    xy = geom.PointI(tractInfo.getWcs().skyToPixel(radec))\n",
    "    bbox = geom.BoxI(xy - cutoutSize // 2, cutoutSize)\n",
    "    patch = tractInfo.getSequentialPatchIndex(patchInfo)\n",
    "\n",
    "    coaddId = {'tract': tractInfo.getId(), 'patch': patch, 'band': band}\n",
    "    parameters = {'bbox': bbox}\n",
    "\n",
    "    cutout_image = butler.get(datasetType, parameters=parameters,\n",
    "                              dataId=coaddId)\n",
    "\n",
    "    return cutout_image"
   ]
  },
  {
   "cell_type": "markdown",
   "id": "e66c3ad2-2aec-40a6-bef0-c1c03559b4b2",
   "metadata": {
    "tags": []
   },
   "source": [
    "## 2. Explore the true and potential hosts for one SNIa\n",
    "\n",
    "In the Appendix below, low-z SNIa with large host offsets from big bright host galaxies are identified.\n",
    "\n",
    "One is here selected to explore further -- one SNIa which has multiple other galaxies interloping between it and its true host.\n",
    "\n",
    "This SNIa has `id_truth_type` = MS_9684_23_3.\n",
    "\n",
    "Retrieve the `ra`, `dec`, and `host_galaxy` identifier for this SNIa from the `TruthSummary` table."
   ]
  },
  {
   "cell_type": "code",
   "execution_count": null,
   "id": "2128160e-cc87-4161-a25b-b8fb5af218dc",
   "metadata": {},
   "outputs": [],
   "source": [
    "%%time\n",
    "\n",
    "query = \"SELECT id_truth_type, ra, dec, host_galaxy \"\\\n",
    "        \"FROM dp02_dc2_catalogs.TruthSummary \"\\\n",
    "        \"WHERE id_truth_type = 'MS_9684_23_3'\"\n",
    "results = service.search(query).to_table().to_pandas()\n",
    "\n",
    "sn_ra = float(results.loc[0, 'ra'])\n",
    "sn_dec = float(results.loc[0, 'dec'])\n",
    "sn_coords = SkyCoord(ra=sn_ra*u.degree, dec=sn_dec*u.degree)\n",
    "sn_host_id = int(results.loc[0, 'host_galaxy'])\n",
    "del query, results"
   ]
  },
  {
   "cell_type": "markdown",
   "id": "3cad1f87-f5b9-44b8-9258-c17b1adcb48f",
   "metadata": {},
   "source": [
    "### 2.1. True host\n",
    "\n",
    "Retrieve `objectId` for the true host from the `MatchesTruth` table."
   ]
  },
  {
   "cell_type": "code",
   "execution_count": null,
   "id": "bf9bf8d6-a34f-4c4c-bc46-2251246b04b0",
   "metadata": {},
   "outputs": [],
   "source": [
    "%%time\n",
    "\n",
    "query = \"SELECT match_objectId \"\\\n",
    "        \"FROM dp02_dc2_catalogs.MatchesTruth \"\\\n",
    "        \"WHERE id = \"+str(sn_host_id)\n",
    "results = service.search(query).to_table().to_pandas()\n",
    "\n",
    "sn_host_objectId = int(results.loc[0, 'match_objectId'])\n",
    "del query, results"
   ]
  },
  {
   "cell_type": "markdown",
   "id": "8d2906e7-fe41-4b26-8b24-205eb7950886",
   "metadata": {},
   "source": [
    "Retrieve information about the true host from the `Object` table.\n",
    "\n",
    "The shape and Kron parameters are all in units of arcseconds."
   ]
  },
  {
   "cell_type": "code",
   "execution_count": null,
   "id": "70bacd41-4c46-422c-8d30-dfbc1f449c47",
   "metadata": {},
   "outputs": [],
   "source": [
    "%%time\n",
    "\n",
    "query = \"SELECT objectId, coord_ra, coord_dec, x, y, refExtendedness, \"\\\n",
    "        \"shape_xx, shape_xy, shape_yy, r_kronRad, i_kronRad \"\\\n",
    "        \"FROM dp02_dc2_catalogs.Object \"\\\n",
    "        \"WHERE objectId = \"+str(sn_host_objectId)\n",
    "Host = service.search(query).to_table().to_pandas()\n",
    "del query"
   ]
  },
  {
   "cell_type": "markdown",
   "id": "6d595c13-4078-48c8-8fa1-79aa8dbeb6b5",
   "metadata": {},
   "source": [
    "Print the difference in RA and Declination between the SNIa and its true host. (Note that the cos-dec term is not included here, these are not on-sky distances, they are just differences in coordinates)."
   ]
  },
  {
   "cell_type": "code",
   "execution_count": null,
   "id": "3d121136-5331-486c-bf44-a6d94447ef92",
   "metadata": {},
   "outputs": [],
   "source": [
    "print('delta-RA (SN-host): ', 3600.0 * (sn_ra - Host.loc[0, 'coord_ra']), ' arcsec')\n",
    "print('delta-Dec (SN-host): ', 3600.0 * (sn_dec - Host.loc[0, 'coord_dec']), ' arcsec')"
   ]
  },
  {
   "cell_type": "markdown",
   "id": "8edb65e4-cc0e-4092-aa9d-5a8b8ff6146d",
   "metadata": {},
   "source": [
    "Calculate the 2-dimensional (scalar) offset between SNIa and true host, and add it to the `Host` table."
   ]
  },
  {
   "cell_type": "code",
   "execution_count": null,
   "id": "f320e1be-8b1e-4886-8b27-b5bc0d364497",
   "metadata": {},
   "outputs": [],
   "source": [
    "Host['sn_offset'] = np.zeros(1, dtype='float')\n",
    "host_coords = SkyCoord(ra=float(Host.loc[0, 'coord_ra'])*u.degree, \n",
    "                       dec=float(Host.loc[0, 'coord_dec'])*u.degree)\n",
    "Host.loc[0, 'sn_offset'] = sn_coords.separation(host_coords).arcsec\n",
    "print('sn_offset = %10.6f arcsec' % Host.loc[0, 'sn_offset'])"
   ]
  },
  {
   "cell_type": "markdown",
   "id": "96b79eb6-e708-46d3-a7f2-208dd80e7407",
   "metadata": {},
   "source": [
    "Calculate the separation distance in Kron radii (in r- and i-band), and add it to the `Host` table."
   ]
  },
  {
   "cell_type": "code",
   "execution_count": null,
   "id": "00b811fb-c681-484a-8eed-461cad4d6e2f",
   "metadata": {},
   "outputs": [],
   "source": [
    "Host['sn_kronSep_r'] = np.zeros(1, dtype='float')\n",
    "Host.loc[0, 'sn_kronSep_r'] = Host.loc[0, 'sn_offset'] / Host.loc[0, 'r_kronRad']\n",
    "Host['sn_kronSep_i'] = np.zeros(1, dtype='float')\n",
    "Host.loc[0, 'sn_kronSep_i'] = Host.loc[0, 'sn_offset'] / Host.loc[0, 'i_kronRad']\n",
    "print('sn_kronSep_r = %10.6f arcsec' % Host.loc[0, 'sn_kronSep_r'])\n",
    "print('sn_kronSep_i = %10.6f arcsec' % Host.loc[0, 'sn_kronSep_i'])"
   ]
  },
  {
   "cell_type": "markdown",
   "id": "7cddb266-23ad-4478-bfbc-6291dac4edea",
   "metadata": {},
   "source": [
    "Calculate the separation distance in elliptical radii, and add it to the `Host` table as `sn_R`."
   ]
  },
  {
   "cell_type": "code",
   "execution_count": null,
   "id": "fa8c9b74-7f4c-4a3e-85dc-e70d6c9f1661",
   "metadata": {},
   "outputs": [],
   "source": [
    "temp = host_coords.spherical_offsets_to(sn_coords)\n",
    "xr = 3600.0 * temp[0].deg\n",
    "yr = 3600.0 * temp[1].deg\n",
    "del temp\n",
    "print('xr: %6.3f   yr: %6.3f   (%6.3f)' % (xr, yr, np.sqrt(xr**2 + yr**2)))"
   ]
  },
  {
   "cell_type": "code",
   "execution_count": null,
   "id": "57b18180-7f9a-4b46-bbf9-d53d4c7386b3",
   "metadata": {},
   "outputs": [],
   "source": [
    "Ixx = Host.loc[0, 'shape_xx']\n",
    "Iyy = Host.loc[0, 'shape_yy']\n",
    "Ixy = Host.loc[0, 'shape_xy']\n",
    "print('Ixx: %6.3f   Iyy: %6.3f   Ixy: %6.3f' % (Ixx, Iyy, Ixy))"
   ]
  },
  {
   "cell_type": "code",
   "execution_count": null,
   "id": "5e6d21cf-5310-43dd-9f8e-8ae49da7ebab",
   "metadata": {},
   "outputs": [],
   "source": [
    "Cxx = Iyy / ((Ixx * Iyy) - Ixy)\n",
    "Cyy = Ixx / ((Ixx * Iyy) - Ixy)\n",
    "Cxy = -2.0 * (Ixy) / ((Ixx * Iyy) - Ixy)\n",
    "print('Cxx: %7.4f   Cyy: %7.4f   Cxy: %7.4f' % (Cxx, Cyy, Cxy))"
   ]
  },
  {
   "cell_type": "code",
   "execution_count": null,
   "id": "f8416ccd-9875-4b81-8120-1a0eba2a7644",
   "metadata": {},
   "outputs": [],
   "source": [
    "Host['sn_R'] = np.zeros(1, dtype='float')\n",
    "Host.loc[0, 'sn_R'] = np.sqrt((Cxx * xr**2) + (Cyy * yr**2) + (Cxy * xr * yr))\n",
    "print('sn_R = ', Host.loc[0, 'sn_R'])"
   ]
  },
  {
   "cell_type": "code",
   "execution_count": null,
   "id": "347e9314-df5c-4685-a852-4999d56d2e25",
   "metadata": {},
   "outputs": [],
   "source": [
    "del xr, yr, Ixx, Iyy, Ixy, Cxx, Cyy, Cxy"
   ]
  },
  {
   "cell_type": "code",
   "execution_count": null,
   "id": "a3ef1577-a37a-4419-8c27-52993b7d04a0",
   "metadata": {},
   "outputs": [],
   "source": [
    "Host"
   ]
  },
  {
   "cell_type": "markdown",
   "id": "e0dce6f9-730c-4fb8-99b1-0a0341d800fc",
   "metadata": {},
   "source": [
    "**Summary:** The true host, although the separation distance in effective Kron radii is <3, the separation distance in effective elliptical radii is almost 5. "
   ]
  },
  {
   "cell_type": "markdown",
   "id": "f4091cd4-9ea4-44cf-a264-826cacd83774",
   "metadata": {},
   "source": [
    "### 2.2. Potential hosts\n",
    "\n",
    "Retrieve all `Objects` within 1 arcminute of the true SNIa.\n",
    "\n",
    "As usual with the `Objects` catalog, impose that `detect_isPrimary` be true.\n",
    "\n",
    "Only retrieve extended objects (i.e., reject point sources which are likely stars) by imposing that `refExtendedness` be =1."
   ]
  },
  {
   "cell_type": "code",
   "execution_count": null,
   "id": "5d99708a-524d-4afc-a0d2-2885285714cc",
   "metadata": {},
   "outputs": [],
   "source": [
    "%%time\n",
    "\n",
    "str_snra = str(np.round(sn_ra, 6))\n",
    "str_sndec = str(np.round(sn_dec, 6))\n",
    "str_rdeg = str(np.round(60.0 / 3600.0, 6))\n",
    "query = \"SELECT objectId, coord_ra, coord_dec, x, y, refExtendedness, \"\\\n",
    "        \"shape_xx, shape_xy, shape_yy, r_kronRad, i_kronRad \"\\\n",
    "        \"FROM dp02_dc2_catalogs.Object \"\\\n",
    "        \"WHERE CONTAINS(POINT('ICRS', coord_ra, coord_dec), \"\\\n",
    "        \"CIRCLE('ICRS', \"+str_snra+\", \"+str_sndec+\", \"+str_rdeg+\")) = 1 \"\\\n",
    "        \"AND detect_isPrimary = 1 AND refExtendedness = 1\"\n",
    "Obj = service.search(query).to_table().to_pandas()\n",
    "del str_snra, str_sndec, str_rdeg, query"
   ]
  },
  {
   "cell_type": "code",
   "execution_count": null,
   "id": "6c07d3b0-2313-4710-8f2e-b4f0cfc61eda",
   "metadata": {},
   "outputs": [],
   "source": [
    "# Obj"
   ]
  },
  {
   "cell_type": "markdown",
   "id": "5d3c5942-c92e-42d3-9531-ffcd0e5e4436",
   "metadata": {},
   "source": [
    "Calculate the 2-dimensional (scalar) offset between SNIa and each `Object`."
   ]
  },
  {
   "cell_type": "code",
   "execution_count": null,
   "id": "1e36c065-c35e-4a33-ac56-0f18a69a9ffc",
   "metadata": {},
   "outputs": [],
   "source": [
    "Obj['sn_offset'] = np.zeros(len(Obj), dtype='float')\n",
    "for i in range(len(Obj)):\n",
    "    coord_obj = SkyCoord(ra=Obj.loc[i, 'coord_ra']*u.degree,\n",
    "                         dec=Obj.loc[i, 'coord_dec']*u.degree)\n",
    "    Obj.loc[i, 'sn_offset'] = sn_coords.separation(coord_obj).arcsec\n",
    "    del coord_obj"
   ]
  },
  {
   "cell_type": "markdown",
   "id": "e3804d25-1904-4444-9a86-cceeb1544d8b",
   "metadata": {},
   "source": [
    "Calculate the separation distance in Kron radii (in r- and i-band)."
   ]
  },
  {
   "cell_type": "code",
   "execution_count": null,
   "id": "c51e4ff1-b55b-4c9c-8b6c-69e95f33bec8",
   "metadata": {},
   "outputs": [],
   "source": [
    "Obj['sn_kronSep_r'] = np.zeros(len(Obj), dtype='float')\n",
    "Obj['sn_kronSep_i'] = np.zeros(len(Obj), dtype='float')\n",
    "for i in range(len(Obj)):\n",
    "    if np.isfinite(Obj['r_kronRad'][i]):\n",
    "        Obj.loc[i, 'sn_kronSep_r'] = Obj['sn_offset'][i] / Obj['r_kronRad'][i]\n",
    "    else:\n",
    "        Obj.loc[i, 'sn_kronSep_r'] = 999.9\n",
    "    if np.isfinite(Obj['i_kronRad'][i]):\n",
    "        Obj.loc[i, 'sn_kronSep_i'] = Obj['sn_offset'][i] / Obj['i_kronRad'][i]\n",
    "    else:\n",
    "        Obj.loc[i, 'sn_kronSep_i'] = 999.9"
   ]
  },
  {
   "cell_type": "markdown",
   "id": "b469aab1-6026-4cee-932c-c95867c59178",
   "metadata": {},
   "source": [
    "Calculate the separation distance in elliptical radii."
   ]
  },
  {
   "cell_type": "code",
   "execution_count": null,
   "id": "b9b71f25-949c-44af-b0f2-427e415f0f5e",
   "metadata": {},
   "outputs": [],
   "source": [
    "%%time\n",
    "\n",
    "Obj['sn_R'] = np.zeros(len(Obj), dtype='float')\n",
    "for i in range(len(Obj)):\n",
    "    obj_coords = SkyCoord(ra=Obj.loc[i, 'coord_ra']*u.degree,\n",
    "                          dec=Obj.loc[i, 'coord_dec']*u.degree)\n",
    "    temp = obj_coords.spherical_offsets_to(sn_coords)\n",
    "    xr = 3600.0 * temp[0].deg\n",
    "    yr = 3600.0 * temp[1].deg\n",
    "    del temp, obj_coords\n",
    "    Ixx = Obj.loc[i, 'shape_xx']\n",
    "    Iyy = Obj.loc[i, 'shape_yy']\n",
    "    Ixy = Obj.loc[i, 'shape_xy']\n",
    "    Cxx = Iyy / ((Ixx * Iyy) - Ixy)\n",
    "    Cyy = Ixx / ((Ixx * Iyy) - Ixy)\n",
    "    Cxy = -2.0 * (Ixy) / ((Ixx * Iyy) - Ixy)\n",
    "    Obj.loc[i, 'sn_R'] = np.sqrt((Cxx * xr**2) + (Cyy * yr**2) + (Cxy * xr * yr))\n",
    "    del Ixx, Iyy, Ixy, Cxx, Cyy, Cxy"
   ]
  },
  {
   "cell_type": "markdown",
   "id": "19b4c9e7-a309-4274-a596-f963e9b1ca30",
   "metadata": {},
   "source": [
    "Plot distributions of host offset measures, with the corresponding value for the true host as a vertical line."
   ]
  },
  {
   "cell_type": "code",
   "execution_count": null,
   "id": "dee2e7dc-878e-468a-b3de-993b9eaa1e5d",
   "metadata": {},
   "outputs": [],
   "source": [
    "fig = plt.figure(figsize=(4, 2))\n",
    "plt.hist(Obj.loc[:, 'sn_offset'], bins=50, histtype='step', color='grey', label='nearby objects')\n",
    "plt.axvline(Host.loc[0, 'sn_offset'], color='dodgerblue', label='true host')\n",
    "plt.xlabel('SN Offset [arcsec]')\n",
    "plt.ylabel('# Nearby Objects')\n",
    "plt.legend(loc='best')\n",
    "plt.show()"
   ]
  },
  {
   "cell_type": "code",
   "execution_count": null,
   "id": "de3e420a-dd1d-4833-8828-a265256e3c2c",
   "metadata": {},
   "outputs": [],
   "source": [
    "fig = plt.figure(figsize=(4, 2))\n",
    "tx = np.where(Obj.loc[:, 'sn_kronSep_r'] < 900.0)[0]\n",
    "plt.hist(Obj.loc[tx, 'sn_kronSep_r'], bins=50, histtype='step', color='orange', label='r-band')\n",
    "del tx\n",
    "tx = np.where(Obj.loc[:, 'sn_kronSep_i'] < 900.0)[0]\n",
    "plt.hist(Obj.loc[tx, 'sn_kronSep_i'], bins=50, histtype='step', color='brown', label='i-band')\n",
    "del tx\n",
    "plt.axvline(Host.loc[0, 'sn_kronSep_r'], color='dodgerblue', lw=3, alpha=0.3, label='true host (r)')\n",
    "plt.axvline(Host.loc[0, 'sn_kronSep_i'], color='dodgerblue', lw=1, ls='dashed', label='true host (i)')\n",
    "plt.xlabel('SN Separation in Kron Radii [arcsec]')\n",
    "plt.ylabel('# Nearby Objects')\n",
    "plt.legend(loc='upper right')\n",
    "plt.show()"
   ]
  },
  {
   "cell_type": "code",
   "execution_count": null,
   "id": "6e41fd0f-7351-4bad-ba93-227f22ede5ac",
   "metadata": {},
   "outputs": [],
   "source": [
    "fig = plt.figure(figsize=(4, 2))\n",
    "plt.hist(Obj.loc[:, 'sn_R'], bins=50, histtype='step', color='grey', label='nearby objects')\n",
    "plt.axvline(Host.loc[0, 'sn_R'], color='dodgerblue', label='true host')\n",
    "plt.xlabel('SN Offset in Elliptical Radii [arcsec]')\n",
    "plt.ylabel('# Nearby Objects')\n",
    "plt.legend(loc='best')\n",
    "plt.show()"
   ]
  },
  {
   "cell_type": "markdown",
   "id": "452302c3-1fbf-411d-b612-683c5feae80e",
   "metadata": {},
   "source": [
    "It is clear that for this SNIa, the true host is not in the top three by any measure. \n",
    "\n",
    "> **Important!** This is not a surprise! Remember that this particular SNIa was selected for exploration because it was expected to be a challenging case."
   ]
  },
  {
   "cell_type": "markdown",
   "id": "a412e7df-8a62-462d-b013-e559ccf47e6c",
   "metadata": {},
   "source": [
    "### 2.3. Visualize the environment\n",
    "\n",
    "Create a cutout of the r-band `deepCoadd` at the location of the SNIa."
   ]
  },
  {
   "cell_type": "code",
   "execution_count": null,
   "id": "31b54e6a-a7bf-4c26-bf3c-a230df2d6d82",
   "metadata": {},
   "outputs": [],
   "source": [
    "cutout = cutout_coadd(butler, sn_ra, sn_dec, band='r', cutoutSideLength=201)"
   ]
  },
  {
   "cell_type": "markdown",
   "id": "f3290541-817b-4d23-8326-400b1f816914",
   "metadata": {},
   "source": [
    "Convert the SNIa coordinates into pixels."
   ]
  },
  {
   "cell_type": "code",
   "execution_count": null,
   "id": "5cec0d46-800b-40ca-b8c8-2a24f392b785",
   "metadata": {},
   "outputs": [],
   "source": [
    "sn_radec = geom.SpherePoint(sn_ra, sn_dec, geom.degrees)\n",
    "wcs = cutout.getWcs()\n",
    "sn_xy = geom.PointI(wcs.skyToPixel(sn_radec))"
   ]
  },
  {
   "cell_type": "markdown",
   "id": "17dfbc3b-d8e6-4bf1-9faf-341b49f3896f",
   "metadata": {},
   "source": [
    "Display the cutout with a red plus for the SNIa location and a green circle for the host."
   ]
  },
  {
   "cell_type": "code",
   "execution_count": null,
   "id": "d9a5dbb7-f10d-4fe4-abde-b17d20b97f1d",
   "metadata": {},
   "outputs": [],
   "source": [
    "fig, ax = plt.subplots()\n",
    "display = afwDisplay.Display(frame=fig)\n",
    "display.scale('asinh', 'zscale')\n",
    "display.mtv(cutout.image)\n",
    "with display.Buffering():\n",
    "    display.dot('+', sn_xy.getX(), sn_xy.getY(), ctype=afwDisplay.RED)\n",
    "    display.dot('o', Host.loc[0, 'x'], Host.loc[0, 'y'], size=10, ctype='green')\n",
    "plt.show()"
   ]
  },
  {
   "cell_type": "markdown",
   "id": "13898f4c-f318-49e8-97d1-fcb516de01bb",
   "metadata": {},
   "source": [
    "Display the cutout as above, but add colored circles for the four `Objects` with the lowest effective Kron radii in the r-band (circles). (Using i-band identifies the same four `Objects`)."
   ]
  },
  {
   "cell_type": "code",
   "execution_count": null,
   "id": "3ce23ff4-261a-4855-abb6-2b1d9616ab1c",
   "metadata": {},
   "outputs": [],
   "source": [
    "sx = np.argsort(Obj.loc[:, 'sn_kronSep_r'])\n",
    "\n",
    "fig, ax = plt.subplots()\n",
    "display = afwDisplay.Display(frame=fig)\n",
    "display.scale('asinh', 'zscale')\n",
    "display.mtv(cutout.image)\n",
    "with display.Buffering():\n",
    "    display.dot('+', sn_xy.getX(), sn_xy.getY(), ctype=afwDisplay.RED)\n",
    "    display.dot('o', Host.loc[0, 'x'], Host.loc[0, 'y'], size=10, ctype='green')\n",
    "    display.dot('o', Obj.loc[sx[0], 'x'], Obj.loc[sx[0], 'y'], size=4, ctype='yellow')        \n",
    "    display.dot('o', Obj.loc[sx[1], 'x'], Obj.loc[sx[1], 'y'], size=4, ctype='orange')        \n",
    "    display.dot('o', Obj.loc[sx[2], 'x'], Obj.loc[sx[2], 'y'], size=4, ctype='red')        \n",
    "    display.dot('o', Obj.loc[sx[3], 'x'], Obj.loc[sx[3], 'y'], size=4, ctype='magenta')     \n",
    "plt.show()\n",
    "del sx"
   ]
  },
  {
   "cell_type": "markdown",
   "id": "6b5aa95b-0116-44f2-83e7-f968ab8a27f4",
   "metadata": {},
   "source": [
    "Display the cutout as above, but add colored circles for the four `Objects` with the lowest effective elliptical radii."
   ]
  },
  {
   "cell_type": "code",
   "execution_count": null,
   "id": "fea457be-24bc-45ce-ae26-69c1bd007a2d",
   "metadata": {},
   "outputs": [],
   "source": [
    "sx = np.argsort(Obj.loc[:, 'sn_R'])\n",
    "\n",
    "fig, ax = plt.subplots()\n",
    "display = afwDisplay.Display(frame=fig)\n",
    "display.scale('asinh', 'zscale')\n",
    "display.mtv(cutout.image)\n",
    "with display.Buffering():\n",
    "    display.dot('+', sn_xy.getX(), sn_xy.getY(), ctype=afwDisplay.RED)\n",
    "    display.dot('o', Host.loc[0, 'x'], Host.loc[0, 'y'], size=10, ctype='green')\n",
    "    display.dot('o', Obj.loc[sx[0], 'x'], Obj.loc[sx[0], 'y'], size=4, ctype='yellow')        \n",
    "    display.dot('o', Obj.loc[sx[1], 'x'], Obj.loc[sx[1], 'y'], size=4, ctype='orange')        \n",
    "    display.dot('o', Obj.loc[sx[2], 'x'], Obj.loc[sx[2], 'y'], size=4, ctype='red')        \n",
    "    display.dot('o', Obj.loc[sx[3], 'x'], Obj.loc[sx[3], 'y'], size=4, ctype='magenta')        \n",
    "plt.show()\n",
    "del sx"
   ]
  },
  {
   "cell_type": "code",
   "execution_count": null,
   "id": "df77ae61-ee90-417a-9e3f-5dc29918d8b8",
   "metadata": {},
   "outputs": [],
   "source": [
    "del sn_ra, sn_dec, sn_coords, sn_host_id, sn_host_objectId\n",
    "del Host, host_coords, Obj\n",
    "del cutout, sn_radec, wcs, sn_xy"
   ]
  },
  {
   "cell_type": "markdown",
   "id": "7665ac04-19e7-4c95-909a-479a34e9162a",
   "metadata": {},
   "source": [
    "## 3. Evaluate the frequency of host association errors\n",
    "\n",
    "Select a bunch of random true SNIa from the `TruthSummary` table."
   ]
  },
  {
   "cell_type": "code",
   "execution_count": null,
   "id": "7c329072-cc42-4d4e-af7f-8c741a980522",
   "metadata": {},
   "outputs": [],
   "source": [
    "%%time\n",
    "\n",
    "query = \"SELECT id_truth_type, id, ra, dec, truth_type, redshift, host_galaxy \"\\\n",
    "        \"FROM dp02_dc2_catalogs.TruthSummary \"\\\n",
    "        \"WHERE CONTAINS(POINT('ICRS', ra, dec), CIRCLE('ICRS', 57.5, -36.5, 2)) = 1 \"\\\n",
    "        \"AND truth_type = 3\"\n",
    "TrueSNIa = service.search(query).to_table().to_pandas()\n",
    "del query"
   ]
  },
  {
   "cell_type": "code",
   "execution_count": null,
   "id": "e7a0dbf2-ea86-4727-b0df-75e0a7dd0f45",
   "metadata": {},
   "outputs": [],
   "source": [
    "TrueSNIa"
   ]
  },
  {
   "cell_type": "markdown",
   "id": "76def056-a9c5-489a-bd39-84ae5eb7ec73",
   "metadata": {},
   "source": [
    "Use the `host_galaxy` column to retrieve the `Object` catalog identifiers from the `match_objectId` column from the `MatchesTruth` table."
   ]
  },
  {
   "cell_type": "code",
   "execution_count": null,
   "id": "00089d57-9301-4316-adce-3876b2725807",
   "metadata": {},
   "outputs": [],
   "source": [
    "tuple_string_hostId = '('\n",
    "for i in range(len(TrueSNIa)):\n",
    "    tuple_string_hostId += str(TrueSNIa.loc[i, 'host_galaxy'])\n",
    "    if i < len(TrueSNIa)-1: tuple_string_hostId += ', '\n",
    "    else: tuple_string_hostId += ')'"
   ]
  },
  {
   "cell_type": "markdown",
   "id": "f34c635b-8469-46ed-8fe0-3fe23dae1f36",
   "metadata": {},
   "source": [
    "The following cell typically takes about a minute."
   ]
  },
  {
   "cell_type": "code",
   "execution_count": null,
   "id": "79fb9d56-da71-4bbb-a522-226b1aee95ca",
   "metadata": {},
   "outputs": [],
   "source": [
    "%%time\n",
    "\n",
    "query = \"SELECT id, match_objectId \"\\\n",
    "        \"FROM dp02_dc2_catalogs.MatchesTruth \"\\\n",
    "        \"WHERE id IN \"+tuple_string_hostId+\" \"\\\n",
    "        \"AND match_objectId >= 0\"\n",
    "TrueSNIaHosts = service.search(query).to_table().to_pandas()\n",
    "del query"
   ]
  },
  {
   "cell_type": "code",
   "execution_count": null,
   "id": "9513fdfa-89b0-41b6-811c-2d83acc2ee93",
   "metadata": {},
   "outputs": [],
   "source": [
    "TrueSNIaHosts"
   ]
  },
  {
   "cell_type": "markdown",
   "id": "016070e4-23d6-45ee-befe-1c77bf9d54fd",
   "metadata": {},
   "source": [
    "Add the `match_objectId` to the `TrueSNIa` table as new column `host_objectId`."
   ]
  },
  {
   "cell_type": "code",
   "execution_count": null,
   "id": "a1be7ce7-12f9-4a89-9c5c-5700d3f9bb08",
   "metadata": {},
   "outputs": [],
   "source": [
    "%%time\n",
    "\n",
    "TrueSNIa['host_objectId'] = np.zeros(len(TrueSNIa), dtype='int') - 1\n",
    "for i in range(len(TrueSNIa)):\n",
    "    tx = np.where(TrueSNIaHosts.loc[:, 'id'] == str(TrueSNIa.loc[i, 'host_galaxy']))[0]\n",
    "    if len(tx) == 1:\n",
    "        TrueSNIa.loc[i, 'host_objectId'] = TrueSNIaHosts.loc[tx[0], 'match_objectId']\n",
    "    del tx"
   ]
  },
  {
   "cell_type": "code",
   "execution_count": null,
   "id": "aeb3bdc5-25bc-4e04-ae48-b9162c5acab2",
   "metadata": {},
   "outputs": [],
   "source": [
    "TrueSNIa"
   ]
  },
  {
   "cell_type": "code",
   "execution_count": null,
   "id": "8061087a-37b4-4c5f-8d8b-58f87786c072",
   "metadata": {},
   "outputs": [],
   "source": [
    "tx = np.where(TrueSNIa.loc[:, 'host_objectId'] >= 0)[0]\n",
    "print('Number of TrueSNIa with a true host galaxy matched to the Object table: ', len(tx))\n",
    "del tx"
   ]
  },
  {
   "cell_type": "code",
   "execution_count": null,
   "id": "a319f667-c419-430b-8a06-7f85a7cfb238",
   "metadata": {},
   "outputs": [],
   "source": [
    "del TrueSNIaHosts"
   ]
  },
  {
   "cell_type": "code",
   "execution_count": null,
   "id": "18a32176-3e16-4e49-b321-a54a7557cd37",
   "metadata": {},
   "outputs": [],
   "source": [
    "# TrueSNIa"
   ]
  },
  {
   "cell_type": "markdown",
   "id": "eea8b408-4e78-4030-a06a-7a737d8836b8",
   "metadata": {},
   "source": [
    "Retrieve all the `Objects` that are in the same region as the true SNIa.\n",
    "\n",
    "Impose that `detect_isPrimary` be true.\n",
    "\n",
    "However, do not exclude objects that are point sources (i.e., do NOT require that `refExtendedness` be = 1).\n",
    "\n",
    "This is a big query and it takes a few minutes."
   ]
  },
  {
   "cell_type": "code",
   "execution_count": null,
   "id": "8ec3183f-01a6-4a72-bd3e-2be87a4d0671",
   "metadata": {},
   "outputs": [],
   "source": [
    "%%time\n",
    "\n",
    "query = \"SELECT objectId, coord_ra, coord_dec, x, y, refExtendedness, \"\\\n",
    "        \"shape_xx, shape_xy, shape_yy, r_kronRad, i_kronRad \"\\\n",
    "        \"FROM dp02_dc2_catalogs.Object \"\\\n",
    "        \"WHERE CONTAINS(POINT('ICRS', coord_ra, coord_dec), \"\\\n",
    "        \"CIRCLE('ICRS', 57.5, -36.5, 2)) = 1 \"\\\n",
    "        \"AND detect_isPrimary = 1\"\n",
    "Obj = service.search(query).to_table().to_pandas()"
   ]
  },
  {
   "cell_type": "code",
   "execution_count": null,
   "id": "1d63c75a-cfb0-48eb-921b-a3c7c57bb495",
   "metadata": {},
   "outputs": [],
   "source": [
    "# Obj"
   ]
  },
  {
   "cell_type": "markdown",
   "id": "ae0c2c66-9c30-4429-b884-12707352242d",
   "metadata": {},
   "source": [
    "### 3.1. Characterize all true hosts\n",
    "\n",
    "Calculate the separations for the true hosts."
   ]
  },
  {
   "cell_type": "code",
   "execution_count": null,
   "id": "5ac9b5a7-7e8b-4184-be9b-26d23ff4464c",
   "metadata": {},
   "outputs": [],
   "source": [
    "TrueSNIa['host_detected'] = np.zeros(len(TrueSNIa), dtype='int')\n",
    "TrueSNIa['host_offset'] = np.zeros(len(TrueSNIa), dtype='float')\n",
    "TrueSNIa['host_kronSep'] = np.zeros(len(TrueSNIa), dtype='float')\n",
    "TrueSNIa['host_ellRad'] = np.zeros(len(TrueSNIa), dtype='float')"
   ]
  },
  {
   "cell_type": "markdown",
   "id": "18717a05-fe3a-4263-b9dd-e5e65dcc5b02",
   "metadata": {},
   "source": [
    "This cell takes a couple of minutes."
   ]
  },
  {
   "cell_type": "code",
   "execution_count": null,
   "id": "f94d0b56-7865-4963-9818-e76115fb24b3",
   "metadata": {},
   "outputs": [],
   "source": [
    "%%time\n",
    "\n",
    "for i in range(len(TrueSNIa)):\n",
    "    \n",
    "    sn_coords = SkyCoord(ra=TrueSNIa.loc[i, 'ra']*u.degree, \n",
    "                         dec=TrueSNIa.loc[i, 'dec']*u.degree)\n",
    "    \n",
    "    if TrueSNIa.loc[i, 'host_objectId'] >= 0:\n",
    "        cx = np.where(TrueSNIa.loc[i, 'host_objectId'] == Obj.loc[:, 'objectId'])[0]\n",
    "        if len(cx) == 1:\n",
    "            TrueSNIa.loc[i, 'host_detected'] = 1\n",
    "            \n",
    "            host_coords = SkyCoord(ra=Obj.loc[cx[0], 'coord_ra']*u.degree,\n",
    "                                   dec=Obj.loc[cx[0], 'coord_dec']*u.degree)\n",
    "            \n",
    "            offset = float(sn_coords.separation(host_coords).arcsec)\n",
    "            kronRad = float(Obj.loc[cx[0], 'r_kronRad'])\n",
    "            \n",
    "            TrueSNIa.loc[i, 'host_offset'] = offset\n",
    "            TrueSNIa.loc[i, 'host_kronSep'] = offset / kronRad\n",
    "            \n",
    "            Ixx = float(Obj.loc[cx[0], 'shape_xx'])\n",
    "            Iyy = float(Obj.loc[cx[0], 'shape_yy'])\n",
    "            Ixy = float(Obj.loc[cx[0], 'shape_xy'])\n",
    "            \n",
    "            temp = host_coords.spherical_offsets_to(sn_coords)\n",
    "            xr = 3600.0 * temp[0].deg\n",
    "            yr = 3600.0 * temp[1].deg\n",
    "            Cxx = Iyy / ((Ixx * Iyy) - Ixy)\n",
    "            Cyy = Ixx / ((Ixx * Iyy) - Ixy)\n",
    "            Cxy = -2.0 * (Ixy) / ((Ixx * Iyy) - Ixy)\n",
    "            TrueSNIa.loc[i, 'host_ellRad'] = np.sqrt((Cxx * xr**2) + (Cyy * yr**2) + (Cxy * xr * yr))\n",
    "            del Cxx, Cyy, Cxy, xr, yr, temp\n",
    "            \n",
    "            del Ixx, Iyy, Ixy, kronRad, offset, host_coords\n",
    "        del cx\n",
    "    del sn_coords"
   ]
  },
  {
   "cell_type": "code",
   "execution_count": null,
   "id": "955d52b9-e6cf-400e-987c-0accc338c049",
   "metadata": {},
   "outputs": [],
   "source": [
    "TrueSNIa"
   ]
  },
  {
   "cell_type": "markdown",
   "id": "c1f35b76-bd3d-4b83-9dac-d46f889c85f4",
   "metadata": {},
   "source": [
    "Plot the distributions of true host offsets."
   ]
  },
  {
   "cell_type": "code",
   "execution_count": null,
   "id": "edc217d7-fdb9-4355-9b26-664c92226b73",
   "metadata": {},
   "outputs": [],
   "source": [
    "tx = np.where(TrueSNIa.loc[:, 'host_detected'] >= 1)[0]"
   ]
  },
  {
   "cell_type": "code",
   "execution_count": null,
   "id": "af998ec3-f5e6-4916-875f-1b7e8945e09d",
   "metadata": {},
   "outputs": [],
   "source": [
    "fig = plt.figure(figsize=(4, 2))\n",
    "plt.hist(np.log10(TrueSNIa.loc[tx, 'host_offset']), bins=50, histtype='step', log=True, color='grey')\n",
    "plt.xlabel('log10(Host Offset) [arcsec]')\n",
    "plt.ylabel('# SNIa')\n",
    "plt.show()"
   ]
  },
  {
   "cell_type": "code",
   "execution_count": null,
   "id": "7b52694b-a1b1-4ea1-a788-310d234b0ab2",
   "metadata": {},
   "outputs": [],
   "source": [
    "fig = plt.figure(figsize=(4, 2))\n",
    "plt.hist(TrueSNIa.loc[tx, 'host_kronSep'], bins=50, histtype='step', log=True, color='orange')\n",
    "plt.xlabel('Host Effective Kron Radii [arcsec]')\n",
    "plt.ylabel('# SNIa')\n",
    "plt.show()"
   ]
  },
  {
   "cell_type": "code",
   "execution_count": null,
   "id": "75f62f5a-3d16-4c8c-8691-d6ea23aa1db0",
   "metadata": {},
   "outputs": [],
   "source": [
    "fig = plt.figure(figsize=(4, 2))\n",
    "plt.hist(TrueSNIa.loc[tx, 'host_ellRad'], bins=50, histtype='step', log=True, color='orange')\n",
    "plt.xlabel('Host Effective Elliptical Radii [arcsec]')\n",
    "plt.ylabel('# SNIa')\n",
    "plt.show()"
   ]
  },
  {
   "cell_type": "code",
   "execution_count": null,
   "id": "9c2d7f3c-16f2-4aa2-b29e-db3823bbbb17",
   "metadata": {},
   "outputs": [],
   "source": [
    "del tx"
   ]
  },
  {
   "cell_type": "markdown",
   "id": "032b8316-0270-4237-b869-b2f9c08bd2ab",
   "metadata": {},
   "source": [
    "### 3.2. Characterize all associated Objects (potential hosts)\n",
    "\n",
    "For each true SNIa that has a true host which was matched to the `Object` catalog (i.e., `TrueSNIa['host_objectId']` >= 0), identify whether the true host is the most nearby or in the top three nearby galaxies, via the three separation distances.\n",
    "\n",
    "The following are = 1 if the true host is the `Obj` with the lowest:\n",
    " * `host_nearest_offset` : two-dimensional sky distance\n",
    " * `host_nearest_kronSep` : r-band _effective_ Kron radius (Kron separation)\n",
    " * `host_nearest_ellRad` : _effective_ elliptical radius (based on second moments)\n",
    "\n",
    "The following are = 1 if the true host is within the top three `Obj` with the lowest:\n",
    " * `host_topthree_offset` : two-dimensional sky distance\n",
    " * `host_topthree_kronSep` : r-band _effective_ Kron radius (Kron separation)\n",
    " * `host_topthree_ellRad` : _effective_ elliptical radius (based on second moments)\n",
    " \n",
    "The above columns are = 0 if the true host was matched to the `Object` catalog, but wasn't the nearest or in the top three, and they are = -1 if the true host was not matched to the `Object` catalog."
   ]
  },
  {
   "cell_type": "code",
   "execution_count": null,
   "id": "8eab343f-5762-4101-ab77-f8199fb253ab",
   "metadata": {},
   "outputs": [],
   "source": [
    "TrueSNIa['host_nearest_offset'] = np.zeros(len(TrueSNIa), dtype='int') - 1\n",
    "TrueSNIa['host_nearest_kronSep'] = np.zeros(len(TrueSNIa), dtype='int') - 1\n",
    "TrueSNIa['host_nearest_ellRad'] = np.zeros(len(TrueSNIa), dtype='int') - 1\n",
    "TrueSNIa['host_topthree_offset'] = np.zeros(len(TrueSNIa), dtype='int') - 1\n",
    "TrueSNIa['host_topthree_kronSep'] = np.zeros(len(TrueSNIa), dtype='int') - 1\n",
    "TrueSNIa['host_topthree_ellRad'] = np.zeros(len(TrueSNIa), dtype='int') - 1"
   ]
  },
  {
   "cell_type": "code",
   "execution_count": null,
   "id": "33f85c74-b583-404d-b0ea-aeff4fa0d7da",
   "metadata": {},
   "outputs": [],
   "source": [
    "tx = np.where(TrueSNIa.loc[i, 'host_objectId'] >= 0)[0]\n",
    "TrueSNIa.loc[tx, 'host_nearest_offset'] = int(0)\n",
    "TrueSNIa.loc[tx, 'host_nearest_kronSep'] = int(0)\n",
    "TrueSNIa.loc[tx, 'host_nearest_ellRad'] = int(0)\n",
    "TrueSNIa.loc[tx, 'host_topthree_offset'] = int(0)\n",
    "TrueSNIa.loc[tx, 'host_topthree_kronSep'] = int(0)\n",
    "TrueSNIa.loc[tx, 'host_topthree_ellRad'] = int(0)\n",
    "del tx"
   ]
  },
  {
   "cell_type": "code",
   "execution_count": null,
   "id": "9220ae8d-bc44-4ae1-8e8e-d9c8c775ca71",
   "metadata": {},
   "outputs": [],
   "source": [
    "Obj['Cxx'] = Obj['shape_yy'] / \\\n",
    "            ((Obj['shape_xx'] * Obj['shape_yy']) - Obj['shape_xy'])\n",
    "Obj['Cyy'] = Obj['shape_xx'] / \\\n",
    "            ((Obj['shape_xx'] * Obj['shape_yy']) - Obj['shape_xy'])\n",
    "Obj['Cxy'] = -2.0 * Obj['shape_xy'] / \\\n",
    "            ((Obj['shape_xx'] * Obj['shape_yy']) - Obj['shape_xy'])"
   ]
  },
  {
   "cell_type": "markdown",
   "id": "a3521b04-5281-4f81-8096-3c596ce10f94",
   "metadata": {},
   "source": [
    "This computation is intense, and can take a while.\n",
    "\n",
    "Use the `temp_N` to only do it for a subset of the SNIa.\n",
    "\n",
    "For 5000 SNIa, it takes about 4 minutes to compute."
   ]
  },
  {
   "cell_type": "code",
   "execution_count": null,
   "id": "169577d0-8658-4914-9df7-0f9bfe0c3270",
   "metadata": {},
   "outputs": [],
   "source": [
    "temp_N = 5000"
   ]
  },
  {
   "cell_type": "code",
   "execution_count": null,
   "id": "e793c0f0-c7b6-458e-9aa3-cbeddea112ab",
   "metadata": {},
   "outputs": [],
   "source": [
    "%%time\n",
    "\n",
    "TrueSNIa['host_assoc_attempt'] = np.zeros(len(TrueSNIa), dtype='int')\n",
    "\n",
    "for i in range(temp_N):\n",
    "\n",
    "    if TrueSNIa.loc[i, 'host_objectId'] >= 0:\n",
    "        temp_hostId = TrueSNIa.loc[i, 'host_objectId']\n",
    "        sn_coords = SkyCoord(ra=TrueSNIa.loc[i, 'ra']*u.degree, dec=TrueSNIa.loc[i, 'dec']*u.degree)\n",
    "        \n",
    "        temp_limit = 10.0 / 3600.0\n",
    "        if TrueSNIa.loc[i, 'host_offset'] > 1.0:\n",
    "            temp_limit = 10.0 * TrueSNIa.loc[i, 'host_offset'] / 3600.0\n",
    "        tx = np.where((np.abs(Obj.loc[:, 'coord_ra'] - TrueSNIa.loc[i, 'ra']) < temp_limit)\n",
    "                     & (np.abs(Obj.loc[:, 'coord_dec'] - TrueSNIa.loc[i, 'dec']) < temp_limit))[0]\n",
    "        \n",
    "        if len(tx) < 3:\n",
    "            temp_limit = 90.0 / 3600.0\n",
    "            tx = np.where((np.abs(Obj.loc[:, 'coord_ra'] - TrueSNIa.loc[i, 'ra']) < temp_limit)\n",
    "                         & (np.abs(Obj.loc[:, 'coord_dec'] - TrueSNIa.loc[i, 'dec']) < temp_limit))[0]\n",
    "                    \n",
    "        if len(tx) > 3:\n",
    "            TrueSNIa.loc[i, 'host_assoc_attempt'] = 1\n",
    "\n",
    "            coords = SkyCoord(ra=Obj.loc[tx, 'coord_ra'].values*u.degree,\n",
    "                              dec=Obj.loc[tx, 'coord_dec'].values*u.degree)\n",
    "            offsets = np.asarray(sn_coords.separation(coords).arcsec, dtype='float')    \n",
    "            kronSeps = np.asarray(offsets / Obj.loc[tx, 'r_kronRad'].values, dtype='float')\n",
    "            temps = coords.spherical_offsets_to(sn_coords)\n",
    "            xr = 3600.0 * temps[0].deg\n",
    "            yr = 3600.0 * temps[1].deg\n",
    "            ellRads = np.sqrt((Obj.loc[tx, 'Cxx'].values * xr**2) + \\\n",
    "                              (Obj.loc[tx, 'Cyy'].values * yr**2) + \\\n",
    "                              (Obj.loc[tx, 'Cxy'].values * xr * yr))\n",
    "            \n",
    "            sx1 = np.argsort(offsets)\n",
    "            sx2 = np.argsort(kronSeps)\n",
    "            sx3 = np.argsort(ellRads)\n",
    "                                    \n",
    "            if (Obj.loc[tx[sx1[0]], 'objectId'] == temp_hostId) \\\n",
    "            | (Obj.loc[tx[sx1[1]], 'objectId'] == temp_hostId) \\\n",
    "            | (Obj.loc[tx[sx1[2]], 'objectId'] == temp_hostId):\n",
    "                TrueSNIa.loc[i, 'host_topthree_offset'] = 1\n",
    "            if (Obj.loc[tx[sx1[0]], 'objectId'] == temp_hostId):\n",
    "                TrueSNIa.loc[i, 'host_nearest_offset'] = 1\n",
    "                \n",
    "            if (Obj.loc[tx[sx2[0]], 'objectId'] == temp_hostId) \\\n",
    "            | (Obj.loc[tx[sx2[1]], 'objectId'] == temp_hostId) \\\n",
    "            | (Obj.loc[tx[sx2[2]], 'objectId'] == temp_hostId):\n",
    "                TrueSNIa.loc[i, 'host_topthree_kronSep'] = 1\n",
    "            if (Obj.loc[tx[sx2[0]], 'objectId'] == temp_hostId):\n",
    "                TrueSNIa.loc[i, 'host_nearest_kronSep'] = 1\n",
    "            \n",
    "            if (Obj.loc[tx[sx3[0]], 'objectId'] == temp_hostId) \\\n",
    "            | (Obj.loc[tx[sx3[1]], 'objectId'] == temp_hostId) \\\n",
    "            | (Obj.loc[tx[sx3[2]], 'objectId'] == temp_hostId):\n",
    "                TrueSNIa.loc[i, 'host_topthree_ellRad'] = 1\n",
    "            if (Obj.loc[tx[sx3[0]], 'objectId'] == temp_hostId):\n",
    "                TrueSNIa.loc[i, 'host_nearest_ellRad'] = 1\n",
    "                \n",
    "            del coords, offsets, kronSeps, temps, xr, yr, ellRads\n",
    "            del sx1, sx2, sx3\n",
    "                \n",
    "        del temp_limit, sn_coords, tx, temp_hostId"
   ]
  },
  {
   "cell_type": "code",
   "execution_count": null,
   "id": "98721b99-ba4e-4242-9291-bb2cee36e4f2",
   "metadata": {},
   "outputs": [],
   "source": [
    "# TrueSNIa"
   ]
  },
  {
   "cell_type": "markdown",
   "id": "ef060515-803d-4d17-bd82-c669552521c8",
   "metadata": {},
   "source": [
    "Show for how many true SNIa was the nearest host association attempted."
   ]
  },
  {
   "cell_type": "code",
   "execution_count": null,
   "id": "2ad8053d-cc2c-48f8-a8df-24298628cd83",
   "metadata": {},
   "outputs": [],
   "source": [
    "tx = np.where(TrueSNIa['host_assoc_attempt'] > 0)[0]\n",
    "print(len(tx))\n",
    "del tx"
   ]
  },
  {
   "cell_type": "markdown",
   "id": "b1ad4e72-1d50-4d75-aa3a-7fcf8d3147c5",
   "metadata": {},
   "source": [
    "### 3.3. Fraction of true hosts associated with their SNIa\n",
    "\n",
    "Plot the number of true SNIa, as a function of redshift, was the true host the nearest, or in the top three, by each of the separation measures."
   ]
  },
  {
   "cell_type": "code",
   "execution_count": null,
   "id": "f2c7f045-3f4c-4ebf-86ce-156d403ad5bc",
   "metadata": {},
   "outputs": [],
   "source": [
    "tx = np.where((TrueSNIa.loc[:, 'host_assoc_attempt'] > 0))[0]\n",
    "tx1 = np.where(TrueSNIa.loc[tx, 'host_nearest_offset'] == 1)[0]\n",
    "tx2 = np.where(TrueSNIa.loc[tx, 'host_topthree_offset'] == 1)[0]\n",
    "tx3 = np.where(TrueSNIa.loc[tx, 'host_nearest_kronSep'] == 1)[0]\n",
    "tx4 = np.where(TrueSNIa.loc[tx, 'host_topthree_kronSep'] == 1)[0]\n",
    "tx5 = np.where(TrueSNIa.loc[tx, 'host_nearest_ellRad'] == 1)[0]\n",
    "tx6 = np.where(TrueSNIa.loc[tx, 'host_topthree_ellRad'] == 1)[0]"
   ]
  },
  {
   "cell_type": "code",
   "execution_count": null,
   "id": "dce2d2e1-dd81-4f08-ac71-b17d96acef05",
   "metadata": {},
   "outputs": [],
   "source": [
    "fig = plt.figure(figsize=(5, 3))\n",
    "plt.hist(TrueSNIa.loc[tx, 'redshift'], bins=20, histtype='step', \n",
    "         log=False, color='grey', label='total')\n",
    "plt.hist(TrueSNIa.loc[tx[tx1], 'redshift'], bins=20, histtype='step', \n",
    "         log=False, color='dodgerblue', label='offset')\n",
    "plt.hist(TrueSNIa.loc[tx[tx3], 'redshift'], bins=20, histtype='step', \n",
    "         log=False, color='darkorange', label='kron radii')\n",
    "plt.hist(TrueSNIa.loc[tx[tx5], 'redshift'], bins=20, histtype='step', \n",
    "         log=False, color='brown', label='elliptical radii')\n",
    "plt.xlabel('Redshift')\n",
    "plt.ylabel('# SNIa')\n",
    "plt.title('The True Host was the Nearest Object')\n",
    "plt.legend(loc='upper left')\n",
    "plt.show()"
   ]
  },
  {
   "cell_type": "code",
   "execution_count": null,
   "id": "585eca2e-7375-4f8e-9e8e-87ca50829e99",
   "metadata": {},
   "outputs": [],
   "source": [
    "fig = plt.figure(figsize=(5, 3))\n",
    "plt.hist(TrueSNIa.loc[tx, 'redshift'], bins=20, histtype='step', \n",
    "         log=False, color='grey', label='total')\n",
    "plt.hist(TrueSNIa.loc[tx[tx2], 'redshift'], bins=20, histtype='step', \n",
    "         log=False, color='dodgerblue', label='offset')\n",
    "plt.hist(TrueSNIa.loc[tx[tx4], 'redshift'], bins=20, histtype='step', \n",
    "         log=False, color='darkorange', label='kron radii')\n",
    "plt.hist(TrueSNIa.loc[tx[tx6], 'redshift'], bins=20, histtype='step', \n",
    "         log=False, color='brown', label='elliptical radii')\n",
    "plt.xlabel('Redshift')\n",
    "plt.ylabel('# SNIa')\n",
    "plt.title('The True Host was in the Top Three')\n",
    "plt.legend(loc='upper left')\n",
    "plt.show()"
   ]
  },
  {
   "cell_type": "code",
   "execution_count": null,
   "id": "9b8973df-12bd-43ec-b253-c1dc2b3b7a82",
   "metadata": {},
   "outputs": [],
   "source": [
    "del tx, tx1, tx2, tx3, tx4, tx5, tx6"
   ]
  },
  {
   "cell_type": "markdown",
   "id": "3cf799d0-491d-4fdf-ae62-cca3d5626241",
   "metadata": {},
   "source": [
    "Print out the fraction of SNIa for which the true host was the nearest, or in the top three, by redshift bin."
   ]
  },
  {
   "cell_type": "code",
   "execution_count": null,
   "id": "092ea832-1d4c-4de0-be37-9aeabe71d692",
   "metadata": {},
   "outputs": [],
   "source": [
    "zbins = [[0.0, 0.2], [0.2, 0.4], [0.4, 0.6], [0.6, 0.8], [0.8, 1.0]]\n",
    "\n",
    "print('          offset              kron radii           elliptical radii')\n",
    "print('z1  z2    nearest  topthree   nearest  topthree    nearest topthree')\n",
    "for zbin in zbins:\n",
    "    tx = np.where((TrueSNIa.loc[:, 'redshift'] >= zbin[0]) &\\\n",
    "                  (TrueSNIa.loc[:, 'redshift'] < zbin[1]) &\\\n",
    "                  (TrueSNIa.loc[:, 'host_assoc_attempt'] > 0))[0]\n",
    "    tx1 = np.where(TrueSNIa.loc[tx, 'host_nearest_offset'] == 1)[0]\n",
    "    tx2 = np.where(TrueSNIa.loc[tx, 'host_topthree_offset'] == 1)[0]\n",
    "    tx3 = np.where(TrueSNIa.loc[tx, 'host_nearest_kronSep'] == 1)[0]\n",
    "    tx4 = np.where(TrueSNIa.loc[tx, 'host_topthree_kronSep'] == 1)[0]\n",
    "    tx5 = np.where(TrueSNIa.loc[tx, 'host_nearest_ellRad'] == 1)[0]\n",
    "    tx6 = np.where(TrueSNIa.loc[tx, 'host_topthree_ellRad'] == 1)[0]\n",
    "    \n",
    "    print('%3.1f %3.1f   %4.2f     %4.2f       %4.2f     %4.2f        %4.2f     %4.2f' % \\\n",
    "         (zbin[0], zbin[1], \\\n",
    "          len(tx1)/len(tx), len(tx2)/len(tx), \\\n",
    "          len(tx3)/len(tx), len(tx4)/len(tx), \\\n",
    "          len(tx5)/len(tx), len(tx6)/len(tx)))"
   ]
  },
  {
   "cell_type": "markdown",
   "id": "cb277ba6-451d-44ac-a0d2-2c750bd3addb",
   "metadata": {},
   "source": [
    "When I originally ran Section 4 with `temp_N = 5000`, the above table values were as follows."
   ]
  },
  {
   "cell_type": "raw",
   "id": "82b04abf-d487-4728-ad7d-4f8f168c99c6",
   "metadata": {},
   "source": [
    "          offset              kron radii           elliptical radii\n",
    "z1  z2    nearest  topthree   nearest  topthree    nearest topthree\n",
    "0.0 0.2   0.77     0.94       0.68     0.94        0.60     0.91\n",
    "0.2 0.4   0.84     0.91       0.84     0.94        0.84     0.93\n",
    "0.4 0.6   0.84     0.92       0.84     0.92        0.85     0.93\n",
    "0.6 0.8   0.87     0.95       0.88     0.96        0.89     0.97\n",
    "0.8 1.0   0.90     0.96       0.89     0.96        0.91     0.97"
   ]
  },
  {
   "cell_type": "markdown",
   "id": "2064e066-f481-4af1-8304-9c07c7bfc234",
   "metadata": {},
   "source": [
    "> **Important!** Although the above demonstration shows that 20-30% of the low-redshift SNIa do not have their true host identified as the nearest galaxy by these three measures, the true host _is_ included in the top three at least 90% of the time.\n",
    "\n",
    "> And, the above demonstration is very simple! In practice, when doing science with SNIa and their host galaxies, association algorithms incorporate SNIa and host galaxy information as priors, such as brightness, redshift, morphology. This notebook has not tried to do anything like that."
   ]
  },
  {
   "cell_type": "code",
   "execution_count": null,
   "id": "4fe962d4-67bc-44b9-acad-7856d56b2981",
   "metadata": {},
   "outputs": [],
   "source": [
    "del TrueSNIa, Obj"
   ]
  },
  {
   "cell_type": "markdown",
   "id": "8e68917b-4029-4f0d-9b03-f5bf1681ccfd",
   "metadata": {
    "tags": []
   },
   "source": [
    "<br>\n",
    "<br>\n",
    "\n",
    "# Appendix\n",
    "\n",
    "## A. Find a low-z SNIa with a large offset from a big bright host\n",
    "\n",
    "Start with a random bunch of true SNIa with z<0.2 near the center of the DC2 simulation area."
   ]
  },
  {
   "cell_type": "code",
   "execution_count": null,
   "id": "d6377e8f-3005-459f-8aa7-62ef6b60e320",
   "metadata": {},
   "outputs": [],
   "source": [
    "%%time\n",
    "\n",
    "query = \"SELECT id_truth_type, id, ra, dec, truth_type, redshift, host_galaxy \"\\\n",
    "        \"FROM dp02_dc2_catalogs.TruthSummary \"\\\n",
    "        \"WHERE CONTAINS(POINT('ICRS', ra, dec), CIRCLE('ICRS', 57.5, -36.5, 2)) = 1 \"\\\n",
    "        \"AND truth_type = 3 AND redshift < 0.2\"\n",
    "TrueSNIa = service.search(query).to_table().to_pandas()\n",
    "del query"
   ]
  },
  {
   "cell_type": "code",
   "execution_count": null,
   "id": "c7a4410b-5550-4bcb-a9dc-a41f64532d6a",
   "metadata": {},
   "outputs": [],
   "source": [
    "# TrueSNIa"
   ]
  },
  {
   "cell_type": "markdown",
   "id": "d337836f-0cdb-47fc-a304-15a2e5900f77",
   "metadata": {},
   "source": [
    "Make a tuple-formatted string of the `host_galaxy` column, which is the `id` column in both the `TruthSummary` and `MatchesTruth` tables."
   ]
  },
  {
   "cell_type": "code",
   "execution_count": null,
   "id": "116b04d5-5293-4cfc-bdce-ae26fa1fd457",
   "metadata": {},
   "outputs": [],
   "source": [
    "tuple_string_hostId = '('\n",
    "for i in range(len(TrueSNIa)):\n",
    "    tuple_string_hostId += str(TrueSNIa.loc[i, 'host_galaxy'])\n",
    "    if i < len(TrueSNIa)-1: tuple_string_hostId += ', '\n",
    "    else: tuple_string_hostId += ')'"
   ]
  },
  {
   "cell_type": "code",
   "execution_count": null,
   "id": "d18c9d5c-3667-4ddb-a073-5b95d4efb548",
   "metadata": {},
   "outputs": [],
   "source": [
    "# print(tuple_string_hostId)"
   ]
  },
  {
   "cell_type": "markdown",
   "id": "de04bf20-6f63-49ca-b153-f2e9794ec1ac",
   "metadata": {},
   "source": [
    "Use the `MatchesTruth` table to retrieve the `objectId` for the hosts."
   ]
  },
  {
   "cell_type": "code",
   "execution_count": null,
   "id": "ef52dc66-888e-4f17-a566-cbbef038fdbe",
   "metadata": {},
   "outputs": [],
   "source": [
    "%%time\n",
    "\n",
    "query = \"SELECT id, truth_type, id_truth_type, match_objectId \"\\\n",
    "        \"FROM dp02_dc2_catalogs.MatchesTruth \"\\\n",
    "        \"WHERE id IN \"+tuple_string_hostId\n",
    "TrueSNIaHosts = service.search(query).to_table().to_pandas()\n",
    "del query"
   ]
  },
  {
   "cell_type": "code",
   "execution_count": null,
   "id": "1dc6ce39-a3cf-401d-93a0-f35aeaced282",
   "metadata": {},
   "outputs": [],
   "source": [
    "# TrueSNIaHosts"
   ]
  },
  {
   "cell_type": "markdown",
   "id": "46053833-2d93-4e8f-bf4d-c82e53d09088",
   "metadata": {},
   "source": [
    "Make a tuple-formatted string of the `match_objectId` column. \n",
    "\n",
    "Notice that one of the hosts has a `match_objectId` = `<NA>`, and skip that one."
   ]
  },
  {
   "cell_type": "code",
   "execution_count": null,
   "id": "ebb55534-ec2f-4642-9052-35ad74c1545b",
   "metadata": {},
   "outputs": [],
   "source": [
    "tuple_string_objectId = '('\n",
    "for i in range(len(TrueSNIaHosts)):\n",
    "    if str(TrueSNIaHosts.loc[i, 'match_objectId']) != '<NA>':\n",
    "        tuple_string_objectId += str(TrueSNIaHosts.loc[i, 'match_objectId'])\n",
    "        if i < len(TrueSNIaHosts)-1: tuple_string_objectId += ', '\n",
    "        else: tuple_string_objectId += ')'"
   ]
  },
  {
   "cell_type": "code",
   "execution_count": null,
   "id": "8b46e305-8b5e-4254-b198-8e61e645eb98",
   "metadata": {},
   "outputs": [],
   "source": [
    "# print(tuple_string_objectId)"
   ]
  },
  {
   "cell_type": "markdown",
   "id": "b646ab54-96c6-46a4-b347-57b9b9255aa3",
   "metadata": {},
   "source": [
    "Retrieve measurements for the host galaxies from the `Object` table."
   ]
  },
  {
   "cell_type": "code",
   "execution_count": null,
   "id": "4cd0bca8-4383-4006-a97a-4c6c90461609",
   "metadata": {},
   "outputs": [],
   "source": [
    "%%time\n",
    "\n",
    "query = \"SELECT objectId, coord_ra, coord_dec, footprintArea, \"\\\n",
    "        \"scisql_nanojanskyToAbMag(r_cModelFlux) as r_cModelMag \"\\\n",
    "        \"FROM dp02_dc2_catalogs.Object \"\\\n",
    "        \"WHERE objectId IN \"+tuple_string_objectId\n",
    "Obj = service.search(query).to_table().to_pandas()\n",
    "del query"
   ]
  },
  {
   "cell_type": "code",
   "execution_count": null,
   "id": "75d94295-d5fe-47fa-af2c-fafee7e0e9a4",
   "metadata": {},
   "outputs": [],
   "source": [
    "# Obj"
   ]
  },
  {
   "cell_type": "markdown",
   "id": "ffd05cb9-39ed-4926-b527-f8c0e615ebe3",
   "metadata": {},
   "source": [
    "Add the host information to the `TrueSNIa` table."
   ]
  },
  {
   "cell_type": "code",
   "execution_count": null,
   "id": "3020211a-c02b-48f3-9824-638d7f7103b8",
   "metadata": {},
   "outputs": [],
   "source": [
    "TrueSNIa['host_objectId'] = np.zeros(len(TrueSNIa), dtype='int')\n",
    "TrueSNIa['host_ra'] = np.zeros(len(TrueSNIa), dtype='float')\n",
    "TrueSNIa['host_dec'] = np.zeros(len(TrueSNIa), dtype='float')\n",
    "TrueSNIa['host_footprintArea'] = np.zeros(len(TrueSNIa), dtype='float')\n",
    "TrueSNIa['host_r_cModelMag'] = np.zeros(len(TrueSNIa), dtype='float')\n",
    "TrueSNIa['host_offset'] = np.zeros(len(TrueSNIa), dtype='float')\n",
    "\n",
    "for i in range(len(TrueSNIa)):\n",
    "    str_id = str(TrueSNIa.loc[i, 'host_galaxy'])\n",
    "    tx = np.where(str_id == TrueSNIaHosts.loc[:, 'id'])[0]\n",
    "    if len(tx) == 1:\n",
    "        tx2 = np.where(TrueSNIaHosts.loc[tx[0], 'match_objectId'] == Obj.loc[:, 'objectId'])[0]\n",
    "        if len(tx2) == 1:\n",
    "            TrueSNIa.loc[i, 'host_objectId'] = Obj.loc[tx2[0], 'objectId']\n",
    "            TrueSNIa.loc[i, 'host_ra'] = Obj.loc[tx2[0], 'coord_ra']\n",
    "            TrueSNIa.loc[i, 'host_dec'] = Obj.loc[tx2[0], 'coord_dec']\n",
    "            TrueSNIa.loc[i, 'host_footprintArea'] = Obj.loc[tx2[0], 'footprintArea']\n",
    "            TrueSNIa.loc[i, 'host_r_cModelMag'] = Obj.loc[tx2[0], 'r_cModelMag']\n",
    "            coord_SNIa = SkyCoord(ra=TrueSNIa.loc[i, 'ra']*u.degree, \n",
    "                                  dec=TrueSNIa.loc[i, 'dec']*u.degree)\n",
    "            coord_host = SkyCoord(ra=Obj.loc[tx2[0], 'coord_ra']*u.degree, \n",
    "                                  dec=Obj.loc[tx2[0], 'coord_dec']*u.degree)\n",
    "            offset = coord_SNIa.separation(coord_host)\n",
    "            TrueSNIa.loc[i, 'host_offset'] = offset.arcsec\n",
    "            del coord_SNIa, coord_host, offset\n",
    "        del tx2\n",
    "    del tx"
   ]
  },
  {
   "cell_type": "code",
   "execution_count": null,
   "id": "5ff83654-38de-435e-8c34-14c7b9b316c0",
   "metadata": {},
   "outputs": [],
   "source": [
    "# TrueSNIa"
   ]
  },
  {
   "cell_type": "markdown",
   "id": "59873050-69bf-4705-9d54-c9f806c4f476",
   "metadata": {},
   "source": [
    "Plot the host galaxy brightness vs. footprint area."
   ]
  },
  {
   "cell_type": "code",
   "execution_count": null,
   "id": "48d9f8b2-6350-4560-8da8-131865f1c7bd",
   "metadata": {},
   "outputs": [],
   "source": [
    "fig = plt.figure(figsize=(4, 2))\n",
    "tx = np.where((TrueSNIa.loc[:, 'host_footprintArea'] > 1.0) \n",
    "              & (TrueSNIa.loc[:, 'host_r_cModelMag'] > 1.0))[0]\n",
    "plt.plot(np.log10(TrueSNIa.loc[tx, 'host_footprintArea']), \n",
    "         TrueSNIa.loc[tx, 'host_r_cModelMag'], 'o', alpha=0.3)\n",
    "plt.xlabel('log10(host_footprintArea)')\n",
    "plt.ylabel('host_r_cModelMag')\n",
    "plt.ylim([22,14])\n",
    "plt.show()\n",
    "del tx"
   ]
  },
  {
   "cell_type": "markdown",
   "id": "e47540c0-14a3-4150-9815-032fa4fab727",
   "metadata": {},
   "source": [
    "Plot the host galaxy redshift vs. SNIa offset."
   ]
  },
  {
   "cell_type": "code",
   "execution_count": null,
   "id": "183d91b9-76c9-4dd8-ba98-6f847924b815",
   "metadata": {},
   "outputs": [],
   "source": [
    "fig = plt.figure(figsize=(4, 2))\n",
    "tx = np.where(TrueSNIa.loc[:, 'host_offset'] > 0.001)[0]\n",
    "plt.plot(TrueSNIa.loc[tx, 'redshift'], \n",
    "         np.log10(TrueSNIa.loc[tx, 'host_offset']), 'o', alpha=0.3)\n",
    "plt.xlabel('redshift')\n",
    "plt.ylabel('log10(host_offset)')\n",
    "plt.show()\n",
    "del tx"
   ]
  },
  {
   "cell_type": "markdown",
   "id": "77bc8416-6a17-45a6-872d-7e2156580c0f",
   "metadata": {},
   "source": [
    "Select SNIa that are well-offset from their large bright (but not too bright) host."
   ]
  },
  {
   "cell_type": "code",
   "execution_count": null,
   "id": "69f0244d-5c91-4175-aed0-490a6f635fe6",
   "metadata": {},
   "outputs": [],
   "source": [
    "tx = np.where((TrueSNIa.loc[:, 'host_footprintArea'] > 25000)\n",
    "              & (TrueSNIa.loc[:, 'host_r_cModelMag'] < 18)\n",
    "              & (TrueSNIa.loc[:, 'host_r_cModelMag'] > 17)\n",
    "              & (TrueSNIa.loc[:, 'host_offset'] > 10.0))[0]\n",
    "\n",
    "for x in tx:\n",
    "    str_snra = str(np.round(float(TrueSNIa.loc[x, 'ra']), 6))\n",
    "    str_sndec = str(np.round(float(TrueSNIa.loc[x, 'dec']), 6))\n",
    "    str_rdeg = str(np.round(float(TrueSNIa.loc[x, 'host_offset'] / 3600.0), 6))\n",
    "    query = \"SELECT objectId \"\\\n",
    "            \"FROM dp02_dc2_catalogs.Object \"\\\n",
    "            \"WHERE CONTAINS(POINT('ICRS', coord_ra, coord_dec), \"\\\n",
    "            \"CIRCLE('ICRS', \"+str_snra+\", \"+str_sndec+\", \"+str_rdeg+\")) = 1 \"\\\n",
    "            \"AND detect_isPrimary = 1 AND refExtendedness = 1\"\n",
    "    results = service.search(query)\n",
    "    del query\n",
    "    print('%3i %13s %8.6f %7.1f %5.2f %5.2f %3i' % \n",
    "          (x, TrueSNIa.loc[x, 'id_truth_type'], TrueSNIa.loc[x, 'redshift'], \n",
    "           TrueSNIa.loc[x, 'host_footprintArea'], TrueSNIa.loc[x, 'host_r_cModelMag'],\n",
    "           TrueSNIa.loc[x, 'host_offset'], len(results)))\n",
    "    del results, str_snra, str_sndec, str_rdeg\n",
    "\n",
    "del tx"
   ]
  },
  {
   "cell_type": "markdown",
   "id": "00dcc255-8696-40c8-9841-1c5139f2fe8c",
   "metadata": {},
   "source": [
    "Let's choose to explore SNIa MS_9684_23_3 in Section 2 above.\n",
    "\n",
    "There are 16 other extended (non point source) objects between it and its host."
   ]
  },
  {
   "cell_type": "markdown",
   "id": "4ec9fb45-dec5-48f9-8e0b-2e5ba3168c3c",
   "metadata": {},
   "source": [
    "Clean up the arrays that are not needed anymore."
   ]
  },
  {
   "cell_type": "code",
   "execution_count": null,
   "id": "14448f66-2eff-4e43-b7d0-7a2b2b85d72c",
   "metadata": {},
   "outputs": [],
   "source": [
    "del TrueSNIa, TrueSNIaHosts, Obj"
   ]
  },
  {
   "cell_type": "code",
   "execution_count": null,
   "id": "7a0407fc-c987-485f-94e1-e51f3150ea19",
   "metadata": {},
   "outputs": [],
   "source": []
  }
 ],
 "metadata": {
  "kernelspec": {
   "display_name": "LSST",
   "language": "python",
   "name": "lsst"
  },
  "language_info": {
   "codemirror_mode": {
    "name": "ipython",
    "version": 3
   },
   "file_extension": ".py",
   "mimetype": "text/x-python",
   "name": "python",
   "nbconvert_exporter": "python",
   "pygments_lexer": "ipython3",
   "version": "3.10.5"
  }
 },
 "nbformat": 4,
 "nbformat_minor": 5
}
