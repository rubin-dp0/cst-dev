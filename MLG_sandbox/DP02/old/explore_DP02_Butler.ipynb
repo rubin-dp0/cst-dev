{
 "cells": [
  {
   "cell_type": "code",
   "execution_count": null,
   "id": "49b18fce-d7bc-4293-ba66-78cf2ff280a5",
   "metadata": {},
   "outputs": [],
   "source": [
    "import numpy as np\n",
    "import matplotlib\n",
    "import matplotlib.pyplot as plt\n",
    "import time\n",
    "\n",
    "import pandas\n",
    "pandas.set_option('display.max_rows', 1000)\n",
    "\n",
    "# from lsst.rsp import get_tap_service, retrieve_query\n",
    "\n",
    "import lsst.daf.butler as dafButler\n",
    "\n",
    "import lsst.geom\n",
    "import lsst.afw.display as afwDisplay\n",
    "\n",
    "afwDisplay.setDefaultBackend('matplotlib')"
   ]
  },
  {
   "cell_type": "markdown",
   "id": "3d56556e-8041-4f46-85d3-e943897fda4a",
   "metadata": {},
   "source": [
    "# Butler"
   ]
  },
  {
   "cell_type": "code",
   "execution_count": null,
   "id": "dc420be5-faa1-41ad-ac8e-453e001a3484",
   "metadata": {},
   "outputs": [],
   "source": [
    "# collection = '2.2i/runs/test-med-1/v23_0_0_rc2/PREOPS-863'\n",
    "# collection = '2.2i/runs/DP0.2/v23_0_2/PREOPS-905/step_all'"
   ]
  },
  {
   "cell_type": "code",
   "execution_count": null,
   "id": "caf12052-c924-41e9-bac6-d4d5bf095aa9",
   "metadata": {},
   "outputs": [],
   "source": [
    "config = 'dp02'\n",
    "collection = '2.2i/runs/DP0.2'\n",
    "\n",
    "butler = dafButler.Butler(config, collections=collection)\n",
    "\n",
    "registry = butler.registry"
   ]
  },
  {
   "cell_type": "code",
   "execution_count": null,
   "id": "38ec993f-1b6e-449d-9480-b75601502669",
   "metadata": {},
   "outputs": [],
   "source": [
    "# for c in sorted(registry.queryCollections()):\n",
    "#     print(c)"
   ]
  },
  {
   "cell_type": "code",
   "execution_count": null,
   "id": "64657cc9-ac67-4daf-85d6-26a20a4d95f2",
   "metadata": {},
   "outputs": [],
   "source": [
    "for x in sorted(registry.queryDatasetTypes()):\n",
    "    temp = str(x)\n",
    "    # if temp.find('ExposureF') > -1:\n",
    "    # if temp.find('DataFrame') > -1:\n",
    "    #     print(temp)\n",
    "    print(temp)"
   ]
  },
  {
   "cell_type": "code",
   "execution_count": null,
   "id": "dcdda441-7cbb-42d1-8290-5b6bb4f37e10",
   "metadata": {},
   "outputs": [],
   "source": [
    "# dataId = {'skymap': 'DC2', 'tract': 4431, 'patch': 17}\n",
    "# objs = butler.get('objectTable', dataId)\n",
    "# objs.columns"
   ]
  },
  {
   "cell_type": "code",
   "execution_count": null,
   "id": "b0158477-7c09-4f99-ac64-fa12e8fb2974",
   "metadata": {},
   "outputs": [],
   "source": [
    "# dataId = {'visit': 919515, 'detector': 80}\n",
    "# srcs = butler.get('sourceTable', dataId)\n",
    "# srcs.columns"
   ]
  },
  {
   "cell_type": "code",
   "execution_count": null,
   "id": "4f9404e5-e798-4220-832f-7e0831401ed6",
   "metadata": {},
   "outputs": [],
   "source": [
    "# dataId = {'skymap': 'DC2', 'tract': 4431, 'patch': 17}\n",
    "# fsrcs = butler.get('forcedSourceTable', dataId)\n",
    "# fsrcs.columns\n",
    "# print(len(fsrcs.columns))"
   ]
  },
  {
   "cell_type": "code",
   "execution_count": null,
   "id": "56040281-0326-4950-bc64-7ff7bf854196",
   "metadata": {},
   "outputs": [],
   "source": [
    "# dataId = {'skymap': 'DC2', 'tract': 4431}\n",
    "# dobjs = butler.get('diaObjectTable_tract', dataId)\n",
    "# dobjs.columns"
   ]
  },
  {
   "cell_type": "code",
   "execution_count": null,
   "id": "d32b0a6b-d874-4dfe-911e-cdb695120ab7",
   "metadata": {},
   "outputs": [],
   "source": [
    "# dataId = {'skymap': 'DC2', 'tract': 4431}\n",
    "# dsrcs = butler.get('diaSourceTable_tract', dataId)\n",
    "# dsrcs.columns\n",
    "# print(len(dsrcs.columns))"
   ]
  },
  {
   "cell_type": "code",
   "execution_count": null,
   "id": "0e20325c-bee7-4316-a308-1ae4b9853f7e",
   "metadata": {},
   "outputs": [],
   "source": [
    "dataId = {'visit': 919515, 'detector': 80}\n",
    "dsrcs = butler.get('diaSourceTable', dataId)\n",
    "dsrcs.columns\n",
    "print(len(dsrcs.columns))"
   ]
  },
  {
   "cell_type": "code",
   "execution_count": null,
   "id": "ea8f0f92-f0d0-42ea-bfba-0ea9523c0cdf",
   "metadata": {},
   "outputs": [],
   "source": [
    "# dataId = {'skymap': 'DC2', 'tract': 4431}\n",
    "# dfsrcs = butler.get('forcedSourceOnDiaObjectTable_tract', dataId)\n",
    "# dfsrcs.columns\n",
    "# print(len(dfsrcs.columns))"
   ]
  },
  {
   "cell_type": "code",
   "execution_count": null,
   "id": "803d7e8d-8e3d-4954-9473-b9b9bbb9c716",
   "metadata": {},
   "outputs": [],
   "source": []
  },
  {
   "cell_type": "code",
   "execution_count": null,
   "id": "3cdafd21-3acf-4ff2-a2bd-9f68bcf7dbf1",
   "metadata": {},
   "outputs": [],
   "source": []
  },
  {
   "cell_type": "markdown",
   "id": "52b3d17f-f7e2-4a39-88f3-ec3e295a3ca2",
   "metadata": {},
   "source": [
    "## Images, Difference Images"
   ]
  },
  {
   "cell_type": "code",
   "execution_count": null,
   "id": "54e825a6-4128-4daa-ba8e-3abcada3a706",
   "metadata": {},
   "outputs": [],
   "source": [
    "# dataId = {'band': 'i', 'tract': 4431, 'patch': 17}\n",
    "# my_deepCoadd = butler.get('deepCoadd', dataId=dataId)\n",
    "# fig = plt.figure(figsize=(6, 4))\n",
    "# afw_display = afwDisplay.Display(1)\n",
    "# afw_display.scale('asinh', 'zscale')\n",
    "# afw_display.mtv(my_deepCoadd.image)\n",
    "# plt.gca().axis('off')"
   ]
  },
  {
   "cell_type": "code",
   "execution_count": null,
   "id": "e434691d-8cef-42ab-b2a9-a4be7f8e1dd8",
   "metadata": {},
   "outputs": [],
   "source": [
    "# dataId = {'band': 'i', 'tract': 4431, 'patch': 17}\n",
    "# my_goodSeeingCoadd = butler.get('goodSeeingCoadd', dataId=dataId)\n",
    "# fig = plt.figure(figsize=(6, 4))\n",
    "# afw_display = afwDisplay.Display(1)\n",
    "# afw_display.scale('asinh', 'zscale')\n",
    "# afw_display.mtv(my_goodSeeingCoadd.image)\n",
    "# plt.gca().axis('off')"
   ]
  },
  {
   "cell_type": "code",
   "execution_count": null,
   "id": "af817c5a-eded-4a2e-9f8a-afd393fa4905",
   "metadata": {},
   "outputs": [],
   "source": [
    "dataId = {'band': 'i', 'visit': 919515, 'detector': 80}\n",
    "my_calexp = butler.get('calexp', dataId=dataId)\n",
    "fig = plt.figure(figsize=(12, 8))\n",
    "afw_display = afwDisplay.Display(1)\n",
    "afw_display.scale('asinh', 'zscale')\n",
    "afw_display.mtv(my_calexp.image)\n",
    "plt.gca().axis('off')"
   ]
  },
  {
   "cell_type": "code",
   "execution_count": null,
   "id": "cd037f25-8076-44d8-b9bc-558fc4fa68d4",
   "metadata": {},
   "outputs": [],
   "source": [
    "dataId = {'band': 'i', 'visit': 919515, 'detector': 80}\n",
    "my_gSDdE = butler.get('goodSeeingDiff_differenceExp', dataId=dataId)\n",
    "fig = plt.figure(figsize=(12, 8))\n",
    "afw_display = afwDisplay.Display(1)\n",
    "afw_display.scale('asinh', 'zscale')\n",
    "afw_display.mtv(my_gSDdE.image)\n",
    "plt.gca().axis('off')"
   ]
  },
  {
   "cell_type": "code",
   "execution_count": null,
   "id": "35bcecf2-9d3b-4cd8-ad72-365fc138a3b9",
   "metadata": {},
   "outputs": [],
   "source": [
    "dataId = {'band': 'i', 'visit': 919515, 'detector': 80}\n",
    "my_gSDtE = butler.get('goodSeeingDiff_templateExp', dataId=dataId)\n",
    "fig = plt.figure(figsize=(12, 8))\n",
    "afw_display = afwDisplay.Display(1)\n",
    "afw_display.scale('asinh', 'zscale')\n",
    "afw_display.mtv(my_gSDtE.image)\n",
    "plt.gca().axis('off')"
   ]
  },
  {
   "cell_type": "code",
   "execution_count": null,
   "id": "f657d837-a8da-40ad-895f-09fa0b63106c",
   "metadata": {},
   "outputs": [],
   "source": []
  },
  {
   "cell_type": "code",
   "execution_count": null,
   "id": "83f3c5b2-7c49-4de9-87f4-500de2ab83a8",
   "metadata": {},
   "outputs": [],
   "source": []
  },
  {
   "cell_type": "code",
   "execution_count": null,
   "id": "0062b2a9-274a-4675-bc12-f09d1ea46ca2",
   "metadata": {},
   "outputs": [],
   "source": []
  },
  {
   "cell_type": "markdown",
   "id": "69d6b20d-c6e2-4fb3-9405-cffe6cfb4d52",
   "metadata": {},
   "source": [
    "## Look for truth data"
   ]
  },
  {
   "cell_type": "code",
   "execution_count": null,
   "id": "e2000ce1-d2fc-4567-bfcf-729630219654",
   "metadata": {},
   "outputs": [],
   "source": [
    "config = 'dp02'"
   ]
  },
  {
   "cell_type": "code",
   "execution_count": null,
   "id": "dbddf98f-cfaf-4428-98b3-8e608a217270",
   "metadata": {},
   "outputs": [],
   "source": [
    "collection = '2.2i/truth_summary'"
   ]
  },
  {
   "cell_type": "code",
   "execution_count": null,
   "id": "97eb0f41-10df-452b-b1b7-f8c011d37cf8",
   "metadata": {},
   "outputs": [],
   "source": [
    "butler = dafButler.Butler(config, collections=collection)\n",
    "registry = butler.registry"
   ]
  },
  {
   "cell_type": "code",
   "execution_count": null,
   "id": "2b303f22-ff6a-48b7-9449-7e02f8f14ce7",
   "metadata": {},
   "outputs": [],
   "source": [
    "for c in sorted(registry.queryCollections()):\n",
    "    temp = str(c)\n",
    "    if temp.find('truth') > -1:\n",
    "        print(temp)"
   ]
  },
  {
   "cell_type": "code",
   "execution_count": null,
   "id": "cbf5a911-b325-46f7-bd23-031c42114199",
   "metadata": {},
   "outputs": [],
   "source": [
    "for x in sorted(registry.queryDatasetTypes()):\n",
    "    temp = str(x)\n",
    "    if temp.find('truth') > -1:\n",
    "        print(temp)"
   ]
  },
  {
   "cell_type": "code",
   "execution_count": null,
   "id": "1cf86ff9-684a-4f1d-95ef-49dfaf539150",
   "metadata": {},
   "outputs": [],
   "source": [
    "for c in sorted(registry.queryCollections(collection, flattenChains=True)):\n",
    "    print(c, registry.getCollectionType(c))"
   ]
  },
  {
   "cell_type": "code",
   "execution_count": null,
   "id": "b6078286-bc12-44e8-b1df-dc6483a72206",
   "metadata": {},
   "outputs": [],
   "source": [
    "### For example, grab truth_summary for a tract\n",
    "dataId = {'tract': 3829}\n",
    "data = butler.get('truth_summary', dataId)"
   ]
  },
  {
   "cell_type": "code",
   "execution_count": null,
   "id": "7fddb24a-dbb4-4402-b70d-317487436ada",
   "metadata": {},
   "outputs": [],
   "source": [
    "data.columns"
   ]
  },
  {
   "cell_type": "markdown",
   "id": "c3441d13-0074-4df6-8d39-5cdf052886ea",
   "metadata": {},
   "source": [
    "<br><br>\n",
    "\n",
    "## DiaObjects\n",
    "\n",
    "DiaObjects via the Butler."
   ]
  },
  {
   "cell_type": "code",
   "execution_count": null,
   "id": "de7325e1-5696-442b-9e32-0d5434fb8dac",
   "metadata": {},
   "outputs": [],
   "source": [
    "config = 'dp02'\n",
    "collection = '2.2i/runs/DP0.2/v23_0_2/PREOPS-905/step_all'\n",
    "butler = dafButler.Butler(config, collections=collection)"
   ]
  },
  {
   "cell_type": "code",
   "execution_count": null,
   "id": "89f9d24e-bb63-4043-9540-4024bf4983a2",
   "metadata": {},
   "outputs": [],
   "source": [
    "import lsst.sphgeom\n",
    "pixelization = lsst.sphgeom.HtmPixelization(11)"
   ]
  },
  {
   "cell_type": "code",
   "execution_count": null,
   "id": "1cd6c931-9f2e-4a74-af06-c35cfef0a9c3",
   "metadata": {},
   "outputs": [],
   "source": [
    "htm_id = pixelization.index(\n",
    "    lsst.sphgeom.UnitVector3d(\n",
    "        lsst.sphgeom.LonLat.fromDegrees(57.5, -36.5)\n",
    "    )\n",
    ")\n",
    "\n",
    "# Obtain and print the scale to provide a sense of the size of the sky pixelization being used\n",
    "scale = pixelization.triangle(htm_id).getBoundingCircle().getOpeningAngle().asDegrees()*3600\n",
    "print(f'HTM ID={htm_id} at level={pixelization.getLevel()} is a ~{scale:0.2}\" triangle.')"
   ]
  },
  {
   "cell_type": "code",
   "execution_count": null,
   "id": "2fd031eb-7309-4eb9-ab42-3c84c1c8607a",
   "metadata": {},
   "outputs": [],
   "source": [
    "datasetRefs = registry.queryDatasets(\"diaObjectTable_tract\", htm20=htm_id)"
   ]
  },
  {
   "cell_type": "code",
   "execution_count": null,
   "id": "196a36d6-916a-4d46-93f7-b4d658dea142",
   "metadata": {},
   "outputs": [],
   "source": [
    "for i, ref in enumerate(datasetRefs):\n",
    "    print(i, ref)\n",
    "    if i > 6:\n",
    "        break"
   ]
  },
  {
   "cell_type": "code",
   "execution_count": null,
   "id": "566d9e2c-ebea-4e34-8e3a-a79512db4ae7",
   "metadata": {},
   "outputs": [],
   "source": [
    "dataId = {'tract': 3829}\n",
    "my_diaObjects = butler.get('diaObjectTable_tract', dataId)\n",
    "my_diaSources = butler.get('diaSourceTable_tract', dataId)"
   ]
  },
  {
   "cell_type": "code",
   "execution_count": null,
   "id": "0efe561b-3a2c-4012-8882-2160b6cd825d",
   "metadata": {},
   "outputs": [],
   "source": [
    "print(len(my_diaObjects))\n",
    "print(len(my_diaSources))"
   ]
  },
  {
   "cell_type": "code",
   "execution_count": null,
   "id": "445e6b7b-cc5c-465b-898b-80899f194071",
   "metadata": {},
   "outputs": [],
   "source": [
    "# my_diaObjects"
   ]
  },
  {
   "cell_type": "code",
   "execution_count": null,
   "id": "c358ac9a-2abf-40bd-9341-b2399f97af46",
   "metadata": {},
   "outputs": [],
   "source": [
    "diaO_id  = my_diaObjects.index.to_numpy()\n",
    "diaO_ra  = my_diaObjects.ra.to_numpy()\n",
    "diaO_dec = my_diaObjects.decl.to_numpy()\n",
    "\n",
    "diaO_gPSMagMin = -2.5 * np.log10(my_diaObjects.gPSFluxMax.to_numpy()/1.0e32) - 48.60\n",
    "diaO_rPSMagMin = -2.5 * np.log10(my_diaObjects.rPSFluxMax.to_numpy()/1.0e32) - 48.60\n",
    "diaO_iPSMagMin = -2.5 * np.log10(my_diaObjects.iPSFluxMax.to_numpy()/1.0e32) - 48.60\n",
    "\n",
    "diaO_nDiaSources = my_diaObjects.nDiaSources.to_numpy()"
   ]
  },
  {
   "cell_type": "code",
   "execution_count": null,
   "id": "b76686a9-e1b3-477a-9487-ce301e0eb586",
   "metadata": {},
   "outputs": [],
   "source": [
    "# plt.hist( diaO_nDiaSources, bins=20, log=True )\n",
    "# plt.show()"
   ]
  },
  {
   "cell_type": "code",
   "execution_count": null,
   "id": "ae39b1a1-078c-4041-8a75-beea8b394865",
   "metadata": {},
   "outputs": [],
   "source": [
    "# plt.hist( diaO_gPSMagMin, bins=20, log=True )\n",
    "# plt.show()"
   ]
  },
  {
   "cell_type": "code",
   "execution_count": null,
   "id": "317b0cec-cbd7-4901-bd12-ac4bf8c301db",
   "metadata": {},
   "outputs": [],
   "source": [
    "# plt.plot( diaO_ra, diaO_dec, 'o', ms=2, alpha=0.05 )\n",
    "# plt.show()"
   ]
  },
  {
   "cell_type": "code",
   "execution_count": null,
   "id": "b460bd56-a6be-4c31-a32c-99936542ed0d",
   "metadata": {},
   "outputs": [],
   "source": [
    "# my_diaSources"
   ]
  },
  {
   "cell_type": "code",
   "execution_count": null,
   "id": "89f31d1c-d9c7-4125-ace5-2f5a7fea35c7",
   "metadata": {},
   "outputs": [],
   "source": [
    "diaS_diaObjectId = my_diaSources.diaObjectId.to_numpy()\n",
    "\n",
    "diaS_filterName  = my_diaSources.filterName.to_numpy()\n",
    "diaS_midPointTai = my_diaSources.midPointTai.to_numpy()\n",
    "diaS_psFlux      = my_diaSources.psFlux.to_numpy()\n",
    "diaS_psFluxErr   = my_diaSources.psFluxErr.to_numpy()\n",
    "diaS_psMag       = -2.5 * np.log10(diaS_psFlux/1.0e32) - 48.60\n",
    "\n",
    "upperflux        = diaS_psFlux + diaS_psFluxErr\n",
    "lowermag         = -2.5 * np.log10(upperflux/1.0e32) - 48.60\n",
    "diaS_psMagErr    = diaS_psMag - lowermag\n",
    "del upperflux, lowermag"
   ]
  },
  {
   "cell_type": "markdown",
   "id": "105ffab6-70bc-413b-b2ce-20fce74473fe",
   "metadata": {},
   "source": [
    "Making durations takes a while so probably you only want to do this for the potential SNIa-like ones in reality."
   ]
  },
  {
   "cell_type": "code",
   "execution_count": null,
   "id": "b61f89cb-ae97-418a-8451-7652baf2d670",
   "metadata": {},
   "outputs": [],
   "source": [
    "# diaO_duration = np.zeros( len(diaO_id), dtype='float' )\n",
    "\n",
    "# for i in range(len(diaO_id)):\n",
    "#     sx = np.where( diaS_diaObjectId == diaO_id[i] )[0]\n",
    "#     if len(sx) > 1:\n",
    "#         diaO_duration[i] = np.max(diaS_midPointTai[sx]) - np.min(diaS_midPointTai[sx])"
   ]
  },
  {
   "cell_type": "code",
   "execution_count": null,
   "id": "ff38f4e7-70af-4482-bd1b-3839a784e07e",
   "metadata": {},
   "outputs": [],
   "source": [
    "# plt.hist( diaO_duration, bins=20, log=True )\n",
    "# plt.show()"
   ]
  },
  {
   "cell_type": "code",
   "execution_count": null,
   "id": "9d2cd990-296d-46e6-b1ca-93236aff569b",
   "metadata": {},
   "outputs": [],
   "source": [
    "# tx = np.where( (diaO_nDiaSources > 15) & \\\n",
    "#                (diaO_rPSMagMin > 18.0) & \\\n",
    "#                (diaO_rPSMagMin < 22.5) & \\\n",
    "#                (diaO_duration > 10.0)  & \\\n",
    "#                (diaO_duration < 200.0) )[0]\n",
    "# print(len(tx))"
   ]
  },
  {
   "cell_type": "code",
   "execution_count": null,
   "id": "8c1acf73-ab1c-470e-983d-3265a4d8600c",
   "metadata": {},
   "outputs": [],
   "source": [
    "# plt.hist( diaO_nDiaSources[tx], bins=20 )\n",
    "# plt.show()"
   ]
  },
  {
   "cell_type": "code",
   "execution_count": null,
   "id": "fee00835-7651-43c0-8013-0c766007698b",
   "metadata": {},
   "outputs": [],
   "source": [
    "# filter_names = ['u', 'g', 'r', 'i', 'z', 'y']\n",
    "# filter_color = ['darkviolet', 'darkgreen', 'red', 'darkorange', 'brown', 'black']\n",
    "# filter_symbol = ['o', '^', 'v', 's', '*', 'p']"
   ]
  },
  {
   "cell_type": "code",
   "execution_count": null,
   "id": "8990a39f-a086-42d9-b6f5-dac5844d498e",
   "metadata": {},
   "outputs": [],
   "source": [
    "# fig, ax = plt.subplots( 3, 5, figsize=(20,10), sharey=False, sharex=False)\n",
    "\n",
    "# i = 0\n",
    "# j = 0\n",
    "\n",
    "# for t in tx:\n",
    "#     sx = np.where( diaS_diaObjectId == diaO_id[t] )[0]\n",
    "#     for f, filt in enumerate(filter_names):\n",
    "#         fx = np.where(diaS_filterName[sx] == filt)[0]\n",
    "#         ax[i,j].plot(diaS_midPointTai[sx[fx]], diaS_psMag[sx[fx]],\n",
    "#                        filter_symbol[f], ms=15, mew=0, alpha=0.5, color=filter_color[f])\n",
    "#         del fx\n",
    "#     ax[i,j].set_ylim([np.nanmax(diaS_psMag[sx])+0.2, np.nanmin(diaS_psMag[sx])-0.2])\n",
    "#     j += 1\n",
    "#     if j == 5:\n",
    "#         j = 0\n",
    "#         i += 1\n",
    "    \n",
    "# plt.show()"
   ]
  },
  {
   "cell_type": "code",
   "execution_count": null,
   "id": "2ea977ef-4c3e-4aa1-bb44-166e0b3a4842",
   "metadata": {},
   "outputs": [],
   "source": []
  }
 ],
 "metadata": {
  "kernelspec": {
   "display_name": "LSST",
   "language": "python",
   "name": "lsst"
  },
  "language_info": {
   "codemirror_mode": {
    "name": "ipython",
    "version": 3
   },
   "file_extension": ".py",
   "mimetype": "text/x-python",
   "name": "python",
   "nbconvert_exporter": "python",
   "pygments_lexer": "ipython3",
   "version": "3.10.4"
  }
 },
 "nbformat": 4,
 "nbformat_minor": 5
}
