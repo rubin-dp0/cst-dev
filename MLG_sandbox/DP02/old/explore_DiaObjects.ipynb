{
 "cells": [
  {
   "cell_type": "markdown",
   "id": "d0bd5206-f211-4485-bfff-5971d936b582",
   "metadata": {},
   "source": [
    "# DiaObject Summary Parameters\n",
    "\n",
    "What are they? Let's find out.\n",
    "\n",
    "## Set Up"
   ]
  },
  {
   "cell_type": "code",
   "execution_count": null,
   "id": "be6e8779-3480-4b86-a9f0-3554e251db06",
   "metadata": {},
   "outputs": [],
   "source": [
    "import numpy as np\n",
    "import matplotlib\n",
    "import matplotlib.pyplot as plt\n",
    "\n",
    "import pandas\n",
    "pandas.set_option('display.max_rows', 1000)\n",
    "\n",
    "from lsst.rsp import get_tap_service, retrieve_query"
   ]
  },
  {
   "cell_type": "code",
   "execution_count": null,
   "id": "36ab9362-4421-401d-82c8-2847d1be353e",
   "metadata": {},
   "outputs": [],
   "source": [
    "service = get_tap_service()"
   ]
  },
  {
   "cell_type": "markdown",
   "id": "fa6e9f56-5546-4383-bd0c-372f4f1b4a16",
   "metadata": {},
   "source": [
    "<br>\n",
    "\n",
    "## Examine the DiaObject summary parameters for one DiaObject\n",
    "\n",
    "### Object Table\n",
    "\n",
    "If you want to print all the columns:"
   ]
  },
  {
   "cell_type": "code",
   "execution_count": null,
   "id": "3ea2e985-6a2e-4d22-9d8b-388aa9e7ee57",
   "metadata": {},
   "outputs": [],
   "source": [
    "results = service.search(\"SELECT column_name, datatype, description, unit from TAP_SCHEMA.columns \"\\\n",
    "                         \"WHERE table_name = 'dp02_test_PREOPS863_00.DiaObject'\")\n",
    "results.to_table().to_pandas()"
   ]
  },
  {
   "cell_type": "markdown",
   "id": "512b130a-7b3c-44eb-8b91-4196d73e9de4",
   "metadata": {},
   "source": [
    "### DiaObject summary parameters\n",
    "\n",
    "Number of detections.\n",
    " * nDiaSources\n",
    " * fPSFluxNdata\n",
    " \n",
    "Statistics of the point source (PS) flux values from the DiaSources.\n",
    " * fPSFluxMax\n",
    " * fPSFluxMin\n",
    " * fPSFluxMean\n",
    " * fPSFluxSigma\n",
    " * fPSFluxMeanErr --> _(error for the mean value)_\n",
    " * fPSFluxErrMean --> _(mean of the flux errors)_\n",
    " * fPSFluxMAD --> _(mean absolute deviation; average distance between each data point and the mean)_\n",
    " * fPSFluxChi2 --> _(Chi2 statistic for the scatter of psFlux around psFluxMean)_\n",
    " * fPSFluxSkew --> _(measure of asymmetry about the mean; 0 means asymmetric)_\n",
    " * fPSFluxStetsonJ --> _(defined in Stetson 1996; a variability index developed for Cepheids)_\n",
    " * fPSFluxPercentile05, 25, 50, 75, 95 --> _(from a cumulative distribution of PS flux values)_\n",
    "\n",
    "From fitting a straight line to the PS flux values from the DiaSources.\n",
    " * fPSFluxLinearIntercept\n",
    " * fPSFluxLinearSlope\n",
    " * fPSFluxMaxSlope\n",
    "\n",
    "Statistics of the total (TOT) flux values from the DiaSources.\n",
    " * fTOTFluxMean\n",
    " * fTOTFluxMeanErr\n",
    " * fTOTFluxSigma"
   ]
  },
  {
   "cell_type": "markdown",
   "id": "7a4ec1f9-c44c-4bc5-9d48-b2ae30ba49a0",
   "metadata": {},
   "source": [
    "### Query for a few DiaObjects and choose one to examine in the r-band.\n",
    "\n",
    "Retreive all of the columns listed above for the r-band.\n",
    "\n",
    "Use the following to return bright DiaObjects with r-band variability.\n",
    " * rPSFluxNdata > 20\n",
    " * rPSFluxSigma > 100000\n",
    " * rPSFluxMin > 0\n",
    "\n",
    "Query within 2 degrees centered on the test area's center, 57.5, -36.5."
   ]
  },
  {
   "cell_type": "code",
   "execution_count": null,
   "id": "79259c07-5f2b-4945-9fdf-9c953f0707b0",
   "metadata": {},
   "outputs": [],
   "source": [
    "results = service.search(\"SELECT ra, decl, diaObjectId, nDiaSources, rPSFluxNdata, \"\\\n",
    "                         \"rPSFluxMax, rPSFluxMin, rPSFluxMean, rPSFluxSigma, \"\\\n",
    "                         \"rPSFluxMeanErr, rPSFluxErrMean, rPSFluxChi2, rPSFluxMAD, \"\\\n",
    "                         \"rPSFluxSkew, rTOTFluxMean, rTOTFluxMeanErr, rTOTFluxSigma, \"\\\n",
    "                         \"rPSFluxLinearIntercept, rPSFluxLinearSlope, rPSFluxMaxSlope, \"\\\n",
    "                         \"rPSFluxPercentile05, rPSFluxPercentile25, rPSFluxPercentile50, \"\\\n",
    "                         \"rPSFluxPercentile75, rPSFluxPercentile95, rPSFluxStetsonJ \"\n",
    "                         \"FROM dp02_test_PREOPS863_00.DiaObject \"\\\n",
    "                         \"WHERE rPSFluxNdata > 20 AND rPSFluxSigma > 10000 AND rPSFluxMin > 0 \"\\\n",
    "                         \"AND CONTAINS(POINT('ICRS', ra, decl), CIRCLE('ICRS', 57.5, -36.5, 2.0)) = 1 \", maxrec=10)\n",
    "DiaObjs = results.to_table()\n",
    "del results"
   ]
  },
  {
   "cell_type": "code",
   "execution_count": null,
   "id": "15a79e03-84ef-4b51-932b-82d35e92e836",
   "metadata": {},
   "outputs": [],
   "source": [
    "DiaObjs"
   ]
  },
  {
   "cell_type": "code",
   "execution_count": null,
   "id": "e8a5e5a3-0484-40f1-b378-bf3825227922",
   "metadata": {},
   "outputs": [],
   "source": [
    "sel_diaObjectId = 1649997517384843274\n",
    "sel_x = np.where( DiaObjs['diaObjectId'] == sel_diaObjectId )[0]\n",
    "print(sel_x)"
   ]
  },
  {
   "cell_type": "markdown",
   "id": "7fe833ea-388a-4d66-8577-0690d9351907",
   "metadata": {},
   "source": [
    "### DiaSource Table\n",
    "\n",
    "If you want to print all the columns:"
   ]
  },
  {
   "cell_type": "code",
   "execution_count": null,
   "id": "99dacf0b-0e0e-4faf-8c94-c9abad942267",
   "metadata": {},
   "outputs": [],
   "source": [
    "# results = service.search(\"SELECT column_name, datatype, description, unit from TAP_SCHEMA.columns \"\\\n",
    "#                          \"WHERE table_name = 'dp02_test_PREOPS863_00.DiaSource'\")\n",
    "# results.to_table().to_pandas()"
   ]
  },
  {
   "cell_type": "markdown",
   "id": "c6546bbc-40fe-4753-9d31-b7c21c2faa8e",
   "metadata": {},
   "source": [
    "Retrieve all of the r-band DiaSources for the selected DiaObject."
   ]
  },
  {
   "cell_type": "code",
   "execution_count": null,
   "id": "56beb164-8caf-4a59-8f3c-52d1d013cb00",
   "metadata": {},
   "outputs": [],
   "source": [
    "results = service.search(\"SELECT ra, decl, diaObjectId, diaSourceId, filterName, midPointTai, \"\\\n",
    "                         \"psFlux, psFluxErr, totFlux, totFluxErr \"\\\n",
    "                         \"FROM dp02_test_PREOPS863_00.DiaSource \"\\\n",
    "                         \"WHERE diaObjectId = \"+str(sel_diaObjectId)+\" AND filterName = 'r'\")\n",
    "DiaSrcs = results.to_table()\n",
    "del results"
   ]
  },
  {
   "cell_type": "code",
   "execution_count": null,
   "id": "f15a036d-19c8-4743-987c-4c73a6d08126",
   "metadata": {},
   "outputs": [],
   "source": [
    "print( len(DiaSrcs) )\n",
    "# DiaSrcs"
   ]
  },
  {
   "cell_type": "markdown",
   "id": "1665d005-61c5-4cea-9930-ec3ad150b0d0",
   "metadata": {},
   "source": [
    "### Plot the r-band lightcurve\n",
    "\n",
    "Plot the point source flux (`psFlux`) vs. the mid-exposure time in MJD (`midPointTai`).\n",
    "\n",
    "Plot also the total flux (`totFlux`) vs. MJD.\n",
    "\n",
    "Flux errors may be too small to generate visible error bars; flux error values explored below."
   ]
  },
  {
   "cell_type": "code",
   "execution_count": null,
   "id": "4b95d9ba-0757-4cb7-b8ab-dbed13ec599d",
   "metadata": {},
   "outputs": [],
   "source": [
    "fig = plt.figure(figsize=(14,5))\n",
    "plt.rcParams.update({'font.size':18})\n",
    "\n",
    "xvals = DiaSrcs['midPointTai']\n",
    "yvals = DiaSrcs['psFlux']\n",
    "yevals = DiaSrcs['psFluxErr']\n",
    "plt.errorbar( xvals, yvals, yerr=yevals, fmt='o', ms=10, color='red', alpha=0.5, mew=0, label='psFlux' )\n",
    "\n",
    "yvals = DiaSrcs['totFlux']\n",
    "yevals = DiaSrcs['totFluxErr']\n",
    "plt.errorbar( xvals, yvals, yerr=yevals, fmt='o', ms=10, color='orange', alpha=0.5, mew=0, label='totFlux')\n",
    "\n",
    "plt.legend(loc='best')\n",
    "plt.xlabel('MJD')\n",
    "plt.ylabel('Flux')\n",
    "plt.show()\n",
    "\n",
    "del xvals, yvals, yevals"
   ]
  },
  {
   "cell_type": "markdown",
   "id": "42139848-5c7f-4744-8b14-16a2d4ec40b0",
   "metadata": {},
   "source": [
    "### Lightcurve with various summary parameters for PS flux"
   ]
  },
  {
   "cell_type": "code",
   "execution_count": null,
   "id": "e50f9d89-b6dd-4f9d-a82d-f7e8bcb5e7b2",
   "metadata": {},
   "outputs": [],
   "source": [
    "fig = plt.figure(figsize=(14,7))\n",
    "plt.rcParams.update({'font.size':18})\n",
    "\n",
    "xvals = DiaSrcs['midPointTai']\n",
    "yvals = DiaSrcs['psFlux']\n",
    "yevals = DiaSrcs['psFluxErr']\n",
    "plt.errorbar( xvals, yvals, yerr=yevals, fmt='o', ms=10, color='red', alpha=0.5, mew=0, label='psFlux' )\n",
    "del xvals, yvals, yevals\n",
    "\n",
    "plt.axhline( DiaObjs['rPSFluxMax'][sel_x].value,  ls='solid', lw=2, color='grey', alpha=0.5, label='Max' )\n",
    "plt.axhline( DiaObjs['rPSFluxMean'][sel_x].value, ls='solid', lw=4, color='grey', alpha=0.5, label='Mean' )\n",
    "plt.axhline( DiaObjs['rPSFluxMin'][sel_x].value,  ls='solid', lw=2, color='grey', alpha=0.5, label='Min' )\n",
    "\n",
    "val1 = DiaObjs['rPSFluxMean'][sel_x].value + DiaObjs['rPSFluxSigma'][sel_x].value\n",
    "val2 = DiaObjs['rPSFluxMean'][sel_x].value - DiaObjs['rPSFluxSigma'][sel_x].value\n",
    "plt.axhline( val1, ls='dashed', lw=2, color='grey', alpha=0.5, label='+/- Sigma' )\n",
    "plt.axhline( val2, ls='dashed', lw=2, color='grey', alpha=0.5 )\n",
    "del val1, val2\n",
    "\n",
    "val1 = DiaObjs['rPSFluxMean'][sel_x].value + DiaObjs['rPSFluxMAD'][sel_x].value\n",
    "val2 = DiaObjs['rPSFluxMean'][sel_x].value - DiaObjs['rPSFluxMAD'][sel_x].value\n",
    "plt.axhline( val1, ls='dashed', lw=2, color='darkgreen', alpha=0.5, label='+/- MAD' )\n",
    "plt.axhline( val2, ls='dashed', lw=2, color='darkgreen', alpha=0.5 )\n",
    "del val1, val2\n",
    "\n",
    "### This is very small, ~200\n",
    "# val1 = DiaObjs['rPSFluxMean'][sel_x].value + DiaObjs['rPSFluxMeanErr'][sel_x].value\n",
    "# val2 = DiaObjs['rPSFluxMean'][sel_x].value - DiaObjs['rPSFluxMeanErr'][sel_x].value\n",
    "# plt.axhline( val1, ls='dashed', lw=2, color='darkviolet', alpha=0.5, label='+/- MeanErr' )\n",
    "# plt.axhline( val2, ls='dashed', lw=2, color='darkviolet', alpha=0.5 )\n",
    "# del val1, val2\n",
    "\n",
    "sx = np.argsort( DiaSrcs['midPointTai'] )\n",
    "xvals = DiaSrcs['midPointTai'][sx]\n",
    "yvals = (DiaObjs['rPSFluxLinearSlope'][sel_x] * xvals) + DiaObjs['rPSFluxLinearIntercept'][sel_x]\n",
    "plt.plot( xvals, yvals, ls='solid', lw=2, color='dodgerblue', alpha=0.5, label='Fit Line' )\n",
    "del xvals,yvals\n",
    "\n",
    "plt.legend( loc=(1.01,0.5), fontsize=14)\n",
    "plt.xlabel('MJD')\n",
    "plt.ylabel('PS Flux')\n",
    "\n",
    "plt.show()"
   ]
  },
  {
   "cell_type": "markdown",
   "id": "79805444-6607-4fa1-9e07-4dd4edea0c19",
   "metadata": {},
   "source": [
    "### Lightcurve with various summary parameters for TOT flux"
   ]
  },
  {
   "cell_type": "code",
   "execution_count": null,
   "id": "60d93671-a224-4b3a-a70b-78dd2913f7ae",
   "metadata": {},
   "outputs": [],
   "source": [
    "fig = plt.figure(figsize=(14,7))\n",
    "plt.rcParams.update({'font.size':18})\n",
    "\n",
    "xvals = DiaSrcs['midPointTai']\n",
    "yvals = DiaSrcs['totFlux']\n",
    "yevals = DiaSrcs['totFluxErr']\n",
    "plt.errorbar( xvals, yvals, yerr=yevals, fmt='o', ms=10, color='orange', alpha=0.5, mew=0, label='totFlux')\n",
    "del xvals, yvals, yevals\n",
    "\n",
    "val = DiaObjs['rTOTFluxMean'][sel_x]\n",
    "plt.axhline( val, ls='solid', lw=4, color='grey', alpha=0.5, label='Mean' )\n",
    "del val\n",
    "\n",
    "val1 = DiaObjs['rTOTFluxMean'][sel_x] + DiaObjs['rTOTFluxSigma'][sel_x]\n",
    "val2 = DiaObjs['rTOTFluxMean'][sel_x] - DiaObjs['rTOTFluxSigma'][sel_x]\n",
    "plt.axhline( val1, ls='dashed', lw=2, color='grey', alpha=0.5, label='+/- Sigma' )\n",
    "plt.axhline( val2, ls='dashed', lw=2, color='grey', alpha=0.5 )\n",
    "del val1, val2\n",
    "\n",
    "### This is very small, ~200\n",
    "# val1 = DiaObjs['rTOTFluxMean'][sel_x] + DiaObjs['rTOTFluxMeanErr'][sel_x]\n",
    "# val2 = DiaObjs['rTOTFluxMean'][sel_x] - DiaObjs['rTOTFluxMeanErr'][sel_x]\n",
    "# plt.axhline( val1, ls='dashed', lw=2, color='darkviolet', alpha=0.5, label='+/- MeanErr' )\n",
    "# plt.axhline( val2, ls='dashed', lw=2, color='darkviolet', alpha=0.5 )\n",
    "# del val1, val2\n",
    "\n",
    "plt.legend( loc=(1.01,0.5), fontsize=14)\n",
    "plt.xlabel('MJD')\n",
    "plt.ylabel('TOT Flux')\n",
    "\n",
    "plt.show()"
   ]
  },
  {
   "cell_type": "markdown",
   "id": "69442520-d3c9-41fd-a499-eb06d7e8da83",
   "metadata": {},
   "source": [
    "### The lightcurve's flux errors\n",
    "\n",
    "The flux errors are relatively small for this bright object, and do not show up as error bars above. Take a look."
   ]
  },
  {
   "cell_type": "code",
   "execution_count": null,
   "id": "9036e6a4-a51f-4acf-870f-e8d385e67a7a",
   "metadata": {},
   "outputs": [],
   "source": [
    "fig = plt.figure(figsize=(14,5))\n",
    "plt.rcParams.update({'font.size':18})\n",
    "\n",
    "xvals = DiaSrcs['midPointTai']\n",
    "yvals = DiaSrcs['psFluxErr']\n",
    "plt.plot( xvals, yvals, 's', ms=10, color='red', alpha=0.5, mew=0, label='psFluxErr' )\n",
    "\n",
    "val = DiaObjs['rPSFluxErrMean'][sel_x]\n",
    "plt.axhline( val, ls='solid', lw=2, color='red', alpha=0.5, label='rPSFluxErrMean' )\n",
    "del val\n",
    "\n",
    "yvals = DiaSrcs['totFluxErr']\n",
    "plt.plot( xvals, yvals, 's', ms=10, color='orange', alpha=0.5, mew=0, label='totFluxErr' )\n",
    "del xvals,yvals\n",
    "\n",
    "plt.legend( loc=(1.01,0.5), fontsize=14)\n",
    "plt.xlabel('MJD')\n",
    "plt.ylabel('Flux Error')\n",
    "\n",
    "plt.show()"
   ]
  },
  {
   "cell_type": "markdown",
   "id": "de9b2baa-16f0-4027-9bf4-be0de87dc452",
   "metadata": {},
   "source": [
    "### DiaObject Skew, Chi2, and StetsonJ"
   ]
  },
  {
   "cell_type": "code",
   "execution_count": null,
   "id": "fe2bc650-c5f6-40c8-8cda-ce95149f426d",
   "metadata": {},
   "outputs": [],
   "source": [
    "print( 'Skew value: ', DiaObjs['rPSFluxSkew'][sel_x].value )\n",
    "print( 'Chi2 value: ', DiaObjs['rPSFluxChi2'][sel_x].value )\n",
    "print( 'J value: ', DiaObjs['rPSFluxStetsonJ'][sel_x].value )"
   ]
  },
  {
   "cell_type": "markdown",
   "id": "66773702-007a-4107-a103-f529815a824a",
   "metadata": {},
   "source": [
    "#### What is Chi2 here, exactly?\n",
    "\n",
    "From the DPDD: `psFluxChi2` is \"the scatter of psFlux around psFluxMean\".\n",
    "\n",
    "Where `psFluxMean` is the \"weighted mean of point-source model flux, psFlux\".\n",
    "\n",
    "Let's calculate Chi2 ourselves and see if it is the same as the `DiaObjs['rPSFluxChi2']`."
   ]
  },
  {
   "cell_type": "code",
   "execution_count": null,
   "id": "5e5f4429-7036-4936-b64c-533d32b3b348",
   "metadata": {},
   "outputs": [],
   "source": [
    "val = np.sum( (DiaSrcs['psFlux'] - DiaObjs['rPSFluxMean'][sel_x])**2 / DiaObjs['rPSFluxMean'][sel_x] ) \n",
    "\n",
    "print( 'Our calculated Chi2 value: ', val )\n",
    "print( 'The difference from the DiaObjects Chi2 value: ', val - DiaObjs['rPSFluxChi2'][sel_x].value )\n",
    "\n",
    "del val"
   ]
  },
  {
   "cell_type": "markdown",
   "id": "5f3fe342-ef6f-4922-a364-f13b02a81f3c",
   "metadata": {},
   "source": [
    "Unclear exactly why there is (such a large) a difference..."
   ]
  },
  {
   "cell_type": "markdown",
   "id": "3add46f8-bd6b-4a15-8bb7-87e209e0d235",
   "metadata": {},
   "source": [
    "### DiaObject Flux Percentiles: 05, 25, 50, 75, 95"
   ]
  },
  {
   "cell_type": "code",
   "execution_count": null,
   "id": "72d3c7ac-f0f2-44c5-8189-12fc01bdaca1",
   "metadata": {},
   "outputs": [],
   "source": [
    "fig = plt.figure(figsize=(14,5))\n",
    "plt.rcParams.update({'font.size':18})\n",
    "\n",
    "### sort the DiaSrcs by psFlux and plot cumulative flux by index\n",
    "sx = np.argsort( DiaSrcs['psFlux'] )\n",
    "xvals = (np.arange( len(sx), dtype='float' ) + 1.0 ) / float(len(sx))\n",
    "yvals = DiaSrcs['psFlux'][sx]\n",
    "plt.plot( xvals, yvals, 'o', ms=10, alpha=0.5, color='grey', mew=0, label='PS Flux' )\n",
    "\n",
    "### interpolate, and plot the interpolated values\n",
    "ixvals = (np.arange( 100, dtype='float' ) + 1.0 ) / 100.0\n",
    "iyvals = np.interp( ixvals, xvals, yvals )\n",
    "plt.plot( ixvals, iyvals, lw=1, alpha=0.8, color='black', label='Interpolation' )\n",
    "\n",
    "### print the interpolated values for the percentiles\n",
    "# for pc in [0.05,0.25,0.50,0.75,0.95]:\n",
    "#     tx = np.argmin( np.abs( ixvals - pc ) )\n",
    "#     print( ixvals[tx], iyvals[tx] )\n",
    "#     del tx\n",
    "\n",
    "del sx, xvals, yvals, ixvals, iyvals\n",
    "\n",
    "### plot the DiaObjs percentiles\n",
    "plt.plot( 0.05, DiaObjs['rPSFluxPercentile05'][sel_x].value, '*', ms=15, color='red', label='DiaObj Percentile' )\n",
    "plt.plot( 0.25, DiaObjs['rPSFluxPercentile25'][sel_x].value, '*', ms=15, color='red' )\n",
    "plt.plot( 0.50, DiaObjs['rPSFluxPercentile50'][sel_x].value, '*', ms=15, color='red' )\n",
    "plt.plot( 0.75, DiaObjs['rPSFluxPercentile75'][sel_x].value, '*', ms=15, color='red' )\n",
    "plt.plot( 0.95, DiaObjs['rPSFluxPercentile95'][sel_x].value, '*', ms=15, color='red' )\n",
    "\n",
    "plt.legend( loc=(1.01,0.5), fontsize=14)\n",
    "plt.xlabel('Index')\n",
    "plt.ylabel('Sorted PS Flux')\n",
    "\n",
    "plt.show()"
   ]
  },
  {
   "cell_type": "markdown",
   "id": "5b330eca-f7c9-4dc8-a28d-4a0b8832e486",
   "metadata": {},
   "source": [
    "### Clean up"
   ]
  },
  {
   "cell_type": "code",
   "execution_count": null,
   "id": "c3349f5d-4b52-43ef-853b-b9e6a17a6fd9",
   "metadata": {},
   "outputs": [],
   "source": [
    "del DiaObjs, DiaSrcs, sel_x"
   ]
  },
  {
   "cell_type": "markdown",
   "id": "a20809b0-1cde-42b5-94b8-5d8e8ec18685",
   "metadata": {},
   "source": [
    "<br>\n",
    "\n",
    "## Examine the DiaObject summary parameter values for many DiaObjects"
   ]
  },
  {
   "cell_type": "code",
   "execution_count": null,
   "id": "39032b4a-0358-49d0-8c73-8bffbaa86ac7",
   "metadata": {},
   "outputs": [],
   "source": [
    "filters = ['u','g','r','i','z','y']\n",
    "flt_clr = ['darkviolet','darkgreen','red','darkorange','brown','black']"
   ]
  },
  {
   "cell_type": "markdown",
   "id": "550d696e-9f0f-447a-b98b-29e474807685",
   "metadata": {},
   "source": [
    "### Number of detections"
   ]
  },
  {
   "cell_type": "code",
   "execution_count": null,
   "id": "ff1f3559-e928-4de3-889d-eb18f4182af5",
   "metadata": {},
   "outputs": [],
   "source": [
    "results = service.search(\"SELECT diaObjectId, nDiaSources, \"\\\n",
    "                         \"uPSFluxNdata, gPSFluxNdata, rPSFluxNdata, iPSFluxNdata, zPSFluxNdata, yPSFluxNdata \"\\\n",
    "                         \"FROM dp02_test_PREOPS863_00.DiaObject \"\\\n",
    "                         \"WHERE CONTAINS(POINT('ICRS', ra, decl), CIRCLE('ICRS', 57.5, -36.5, 2.0)) = 1 \", maxrec=100000)\n",
    "DiaObjs = results.to_table()\n",
    "del results"
   ]
  },
  {
   "cell_type": "code",
   "execution_count": null,
   "id": "70316b82-8524-4fae-88d3-4587660c5146",
   "metadata": {},
   "outputs": [],
   "source": [
    "# DiaObjs"
   ]
  },
  {
   "cell_type": "markdown",
   "id": "9e65aca4-22ff-420c-bffb-1c027d1cd1c9",
   "metadata": {},
   "source": [
    "Check the maximum number of detections per filter, and over all filters."
   ]
  },
  {
   "cell_type": "code",
   "execution_count": null,
   "id": "9c8d8904-5224-4229-a56d-53d743b0fc8c",
   "metadata": {},
   "outputs": [],
   "source": [
    "for filt in filters:\n",
    "    tmp = filt+'PSFluxNdata'\n",
    "    tx = np.where( np.isnan( DiaObjs[tmp] ) )[0]\n",
    "    DiaObjs[tmp][tx] = 0.0\n",
    "    print( filt, int( np.max( DiaObjs[tmp] ) ) )\n",
    "    del tmp,tx\n",
    "print( 'all ', int( np.max( DiaObjs['nDiaSources'] ) ) )\n",
    "\n",
    "print( ' ' )\n",
    "tx = np.where( np.isnan( DiaObjs['nDiaSources'] ) | (DiaObjs['nDiaSources'] < 1) )[0]\n",
    "print( 'All DiaObjects have at least one DiaSource, this number should be 0: ', len(tx) )"
   ]
  },
  {
   "cell_type": "markdown",
   "id": "f01025f6-8424-45de-853d-3044ad0763fc",
   "metadata": {},
   "source": [
    "Plot a histogram of the number of detections per filter."
   ]
  },
  {
   "cell_type": "code",
   "execution_count": null,
   "id": "8b884225-4c58-448a-a56a-82ff5fae53b9",
   "metadata": {},
   "outputs": [],
   "source": [
    "usebins = np.arange( 41, dtype='float' ) - 0.5\n",
    "\n",
    "fig = plt.figure(figsize=(14,5))\n",
    "plt.rcParams.update({'font.size':18})\n",
    "\n",
    "for f,filt in enumerate(filters):\n",
    "    tmp = filt+'PSFluxNdata'\n",
    "    plt.hist( DiaObjs[tmp], bins=usebins, histtype='step', log=True, color=flt_clr[f], label=filt )\n",
    "\n",
    "plt.legend( loc=(1.01,0.4) )\n",
    "plt.xlabel( 'Number of DiaSources' )\n",
    "plt.ylabel( 'Number of DiaObjects' )\n",
    "\n",
    "plt.show()"
   ]
  },
  {
   "cell_type": "markdown",
   "id": "65ec953b-409a-4b1d-a15c-ad876189c833",
   "metadata": {},
   "source": [
    "Plot a histogram for the number of detections in any filter."
   ]
  },
  {
   "cell_type": "code",
   "execution_count": null,
   "id": "bac3c2e7-bf6d-4fae-82d7-d9c3042b5c38",
   "metadata": {},
   "outputs": [],
   "source": [
    "usebins = np.arange( 118, dtype='float' ) - 0.5\n",
    "\n",
    "fig = plt.figure(figsize=(14,5))\n",
    "plt.rcParams.update({'font.size':18})\n",
    "\n",
    "plt.hist( DiaObjs['nDiaSources'], bins=usebins, histtype='step', log=True, color='grey' )\n",
    "\n",
    "plt.xlabel( 'Number of DiaSources' )\n",
    "plt.ylabel( 'Number of DiaObjects' )\n",
    "\n",
    "plt.show()"
   ]
  },
  {
   "cell_type": "code",
   "execution_count": null,
   "id": "015a0180-72fc-4fa4-935a-99927e316afc",
   "metadata": {},
   "outputs": [],
   "source": [
    "del DiaObjs"
   ]
  },
  {
   "cell_type": "markdown",
   "id": "cb9915de-aaeb-42d1-b64b-87e592bb3e81",
   "metadata": {},
   "source": [
    "### Min, Max, Mean and Sigma in all six filters\n",
    "\n",
    "Enforce that nDiaSources > 1, otherwise Mean and Sigma are meaningless."
   ]
  },
  {
   "cell_type": "code",
   "execution_count": null,
   "id": "ca8d8398-8c0b-4e39-b0db-cd4d0c6d4583",
   "metadata": {},
   "outputs": [],
   "source": [
    "results = service.search(\"SELECT diaObjectId, nDiaSources, \"\\\n",
    "                         \"uPSFluxMax, gPSFluxMax, rPSFluxMax, iPSFluxMax, zPSFluxMax, yPSFluxMax, \"\\\n",
    "                         \"uPSFluxMin, gPSFluxMin, rPSFluxMin, iPSFluxMin, zPSFluxMin, yPSFluxMin, \"\\\n",
    "                         \"uPSFluxMean, gPSFluxMean, rPSFluxMean, iPSFluxMean, zPSFluxMean, yPSFluxMean, \"\\\n",
    "                         \"uPSFluxSigma, gPSFluxSigma, rPSFluxSigma, iPSFluxSigma, zPSFluxSigma, yPSFluxSigma \"\\\n",
    "                         \"FROM dp02_test_PREOPS863_00.DiaObject \"\\\n",
    "                         \"WHERE nDiaSources > 1 \"\\\n",
    "                         \"AND CONTAINS(POINT('ICRS', ra, decl), CIRCLE('ICRS', 57.5, -36.5, 2.0)) = 1 \", maxrec=100000)\n",
    "DiaObjs = results.to_table()\n",
    "print( len(DiaObjs) )\n",
    "del results"
   ]
  },
  {
   "cell_type": "code",
   "execution_count": null,
   "id": "1c40321f-05ea-4bf9-a29c-92da1498d31d",
   "metadata": {},
   "outputs": [],
   "source": [
    "# DiaObjs"
   ]
  },
  {
   "cell_type": "markdown",
   "id": "05f49bd9-7eaa-4739-b7a8-5110d9db4add",
   "metadata": {},
   "source": [
    "Plot distributions of min and max in magnitudes"
   ]
  },
  {
   "cell_type": "code",
   "execution_count": null,
   "id": "aff925c9-ac8d-4bd1-8c5b-c6fdb3571ebb",
   "metadata": {},
   "outputs": [],
   "source": [
    "for f,filt in enumerate(filters):\n",
    "    x = np.where( DiaObjs[filt+'PSFluxMax'] <= 0.0 )[0]\n",
    "    y = np.where( DiaObjs[filt+'PSFluxMean'] <= 0.0 )[0]\n",
    "    z = np.where( DiaObjs[filt+'PSFluxMin'] <= 0.0 )[0]\n",
    "    p = np.where( (DiaObjs[filt+'PSFluxMax'] > 0.0) & \n",
    "                 (DiaObjs[filt+'PSFluxMean'] > 0.0) & \n",
    "                 (DiaObjs[filt+'PSFluxMin'] > 0.0) )[0]\n",
    "    print(filt, len(x), len(y), len(z), len(p))\n",
    "del x, y, z, p"
   ]
  },
  {
   "cell_type": "code",
   "execution_count": null,
   "id": "8463a1ea-033e-4f80-bdb7-9349d1a6fe04",
   "metadata": {},
   "outputs": [],
   "source": [
    "for f,filt in enumerate(filters):\n",
    "    DiaObjs[filt+'PSMagMin'] = -2.50 * np.log10(DiaObjs[filt+'PSFluxMax']) + 31.4\n",
    "    DiaObjs[filt+'PSMagMax'] = -2.50 * np.log10(DiaObjs[filt+'PSFluxMin']) + 31.4"
   ]
  },
  {
   "cell_type": "code",
   "execution_count": null,
   "id": "d8679747-4022-4d0c-9345-6b13fb31c632",
   "metadata": {},
   "outputs": [],
   "source": [
    "fig, ax = plt.subplots( 2, figsize=(14,7), sharey=True, sharex=True )\n",
    "\n",
    "for f,filt in enumerate(filters):\n",
    "    ax[0].hist( DiaObjs[filt+'PSMagMax'], bins=30, histtype='step', color=flt_clr[f] )\n",
    "\n",
    "for f,filt in enumerate(filters):\n",
    "    ax[1].hist( DiaObjs[filt+'PSMagMin'], bins=30, histtype='step', color=flt_clr[f] )\n",
    "\n",
    "ax[0].set_xlabel('Mag Max')\n",
    "ax[1].set_xlabel('Mag Min')\n",
    "ax[1].set_xlim([12,30])\n",
    "# ax[0].set_ylim([-1e5,1e6])\n",
    "plt.show()"
   ]
  },
  {
   "cell_type": "markdown",
   "id": "699e1994-50f9-4565-8dc3-bac9f43a518f",
   "metadata": {},
   "source": [
    "Plot PS Flux Mean vs. Sigma for each of the six filters"
   ]
  },
  {
   "cell_type": "code",
   "execution_count": null,
   "id": "0981c162-a9ca-4903-8e31-f92dce150360",
   "metadata": {},
   "outputs": [],
   "source": [
    "# fig, ax = plt.subplots( 2, 3, figsize=(14,7), sharey=True, sharex=True )\n",
    "\n",
    "# i = 0\n",
    "# j = 0\n",
    "# for f,filt in enumerate(filters):\n",
    "#     xvals = DiaObjs[filt+'PSFluxMean']\n",
    "#     yvals = DiaObjs[filt+'PSFluxSigma']\n",
    "#     ax[i,j].plot( xvals, yvals, 'o', ms=2, alpha=0.2, mew=0, color=flt_clr[f])\n",
    "#     j += 1\n",
    "\n",
    "#     if f == 2:\n",
    "#         i = 1\n",
    "#         j = 0\n",
    "\n",
    "# ax[0,0].set_ylabel('PS Flux Sigma')\n",
    "# ax[1,0].set_ylabel('PS Flux Sigma')\n",
    "# ax[1,0].set_xlabel('PS Flux Mean')\n",
    "# ax[1,1].set_xlabel('PS Flux Mean')\n",
    "# ax[1,2].set_xlabel('PS Flux Mean')\n",
    "\n",
    "# ax[0,0].set_xlim([-1e6,1e6])\n",
    "# ax[0,0].set_ylim([-1e5,1e6])\n",
    "# plt.show()"
   ]
  },
  {
   "cell_type": "markdown",
   "id": "099a2e80-0675-4d71-9ffc-d415e6c00614",
   "metadata": {},
   "source": [
    "Plot distributions of Mean and Sigma -- these seem to be showing that the y and u bands have brighter DiaObjects and greater variability?"
   ]
  },
  {
   "cell_type": "code",
   "execution_count": null,
   "id": "8970b736-e723-4965-ac36-e802a672acca",
   "metadata": {},
   "outputs": [],
   "source": [
    "fig = plt.figure(figsize=(14,5))\n",
    "plt.rcParams.update({'font.size':18})\n",
    "\n",
    "for f,filt in enumerate(filters):\n",
    "    tmp = filt+'PSFluxMean'\n",
    "    plt.hist( DiaObjs[tmp], histtype='step', log=True, color=flt_clr[f], label=filt )\n",
    "\n",
    "plt.legend( loc=(1.01,0.4) )\n",
    "plt.xlabel( 'PS Flux Mean' )\n",
    "plt.ylabel( 'Number of DiaObjects' )\n",
    "\n",
    "plt.show()"
   ]
  },
  {
   "cell_type": "code",
   "execution_count": null,
   "id": "5fb9d416-c4af-40e9-ba93-6f150dec72aa",
   "metadata": {},
   "outputs": [],
   "source": [
    "fig = plt.figure(figsize=(14,5))\n",
    "plt.rcParams.update({'font.size':18})\n",
    "\n",
    "for f,filt in enumerate(filters):\n",
    "    tmp = filt+'PSFluxSigma'\n",
    "    plt.hist( DiaObjs[tmp], histtype='step', log=True, color=flt_clr[f], label=filt )\n",
    "\n",
    "plt.legend( loc=(1.01,0.4) )\n",
    "plt.xlabel( 'PS Flux Sigma' )\n",
    "plt.ylabel( 'Number of DiaObjects' )\n",
    "\n",
    "plt.show()"
   ]
  },
  {
   "cell_type": "code",
   "execution_count": null,
   "id": "779246ca-1bd3-41f3-a7fb-84b383548f27",
   "metadata": {},
   "outputs": [],
   "source": [
    "del DiaObjs"
   ]
  },
  {
   "cell_type": "markdown",
   "id": "56a9af46-4a91-4997-b4c7-c6a13c3803ba",
   "metadata": {},
   "source": [
    "### Chi2, Skew, and StetsonJ parameters\n",
    "\n",
    "Enforce that nDiaSources > 1, otherwise the variability parameters are meaningless."
   ]
  },
  {
   "cell_type": "code",
   "execution_count": null,
   "id": "587c76ba-0463-4538-90e0-47df2988375a",
   "metadata": {},
   "outputs": [],
   "source": [
    "results = service.search(\"SELECT diaObjectId, nDiaSources, \"\\\n",
    "                         \"uPSFluxChi2, gPSFluxChi2, rPSFluxChi2, iPSFluxChi2, zPSFluxChi2, yPSFluxChi2, \"\\\n",
    "                         \"uPSFluxSkew, gPSFluxSkew, rPSFluxSkew, iPSFluxSkew, zPSFluxSkew, yPSFluxSkew, \"\\\n",
    "                         \"uPSFluxStetsonJ, gPSFluxStetsonJ, rPSFluxStetsonJ, iPSFluxStetsonJ, zPSFluxStetsonJ, yPSFluxStetsonJ \"\\\n",
    "                         \"FROM dp02_test_PREOPS863_00.DiaObject \"\\\n",
    "                         \"WHERE nDiaSources > 1 \"\\\n",
    "                         \"AND CONTAINS(POINT('ICRS', ra, decl), CIRCLE('ICRS', 57.5, -36.5, 2.0)) = 1 \", maxrec=100000)\n",
    "DiaObjs = results.to_table()\n",
    "del results\n",
    "#DiaObjs"
   ]
  },
  {
   "cell_type": "code",
   "execution_count": null,
   "id": "94422977-916a-468c-b88c-a85ea911fb4e",
   "metadata": {},
   "outputs": [],
   "source": [
    "fig = plt.figure(figsize=(14,5))\n",
    "plt.rcParams.update({'font.size':18})\n",
    "\n",
    "for f,filt in enumerate(filters):\n",
    "    tmp = filt+'PSFluxChi2'\n",
    "    plt.hist( DiaObjs[tmp], histtype='step', log=True, color=flt_clr[f], label=filt )\n",
    "\n",
    "plt.legend( loc=(1.01,0.4) )\n",
    "plt.xlabel( 'PS Flux Chi2' )\n",
    "plt.ylabel( 'Number of DiaObjects' )\n",
    "\n",
    "plt.show()"
   ]
  },
  {
   "cell_type": "code",
   "execution_count": null,
   "id": "f357d117-75da-4812-a28a-743ea5ac46c7",
   "metadata": {},
   "outputs": [],
   "source": [
    "fig = plt.figure(figsize=(14,5))\n",
    "plt.rcParams.update({'font.size':18})\n",
    "\n",
    "for f,filt in enumerate(filters):\n",
    "    tmp = filt+'PSFluxSkew'\n",
    "    plt.hist( DiaObjs[tmp], histtype='step', log=True, color=flt_clr[f], label=filt )\n",
    "\n",
    "plt.legend( loc=(1.01,0.4) )\n",
    "plt.xlabel( 'PS Flux Skew' )\n",
    "plt.ylabel( 'Number of DiaObjects' )\n",
    "\n",
    "plt.show()"
   ]
  },
  {
   "cell_type": "code",
   "execution_count": null,
   "id": "abe03d11-aa6e-4693-a01c-4fd117048a5b",
   "metadata": {},
   "outputs": [],
   "source": [
    "fig = plt.figure(figsize=(14,5))\n",
    "plt.rcParams.update({'font.size':18})\n",
    "\n",
    "for f,filt in enumerate(filters):\n",
    "    tmp = filt+'PSFluxStetsonJ'\n",
    "    plt.hist( DiaObjs[tmp], histtype='step', log=True, color=flt_clr[f], label=filt )\n",
    "\n",
    "plt.legend( loc=(1.01,0.4) )\n",
    "plt.xlabel( 'PS Flux Stetson J' )\n",
    "plt.ylabel( 'Number of DiaObjects' )\n",
    "\n",
    "plt.show()"
   ]
  },
  {
   "cell_type": "code",
   "execution_count": null,
   "id": "0a42a150-3ee7-4bd1-8286-f6dc7d3431d3",
   "metadata": {},
   "outputs": [],
   "source": []
  }
 ],
 "metadata": {
  "kernelspec": {
   "display_name": "LSST",
   "language": "python",
   "name": "lsst"
  },
  "language_info": {
   "codemirror_mode": {
    "name": "ipython",
    "version": 3
   },
   "file_extension": ".py",
   "mimetype": "text/x-python",
   "name": "python",
   "nbconvert_exporter": "python",
   "pygments_lexer": "ipython3",
   "version": "3.10.4"
  }
 },
 "nbformat": 4,
 "nbformat_minor": 5
}
