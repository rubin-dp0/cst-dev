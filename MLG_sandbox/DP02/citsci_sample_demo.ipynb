{
 "cells": [
  {
   "cell_type": "markdown",
   "id": "d134a79b-a067-44f8-8e05-48f00a26b75c",
   "metadata": {},
   "source": [
    "# A demo sample for citizen science\n",
    "\n",
    "Melissa Graham <br>\n",
    "Fri Dec 16 2022 <br>\n",
    "Weekly 2022_40 <br>\n",
    "\n",
    "Based on tutorial notebooks 03a and 07a.\n",
    "\n",
    "Identify a sample of 100 \"low-z SNIa-like\" `DiaObjects`.\n",
    "\n",
    "Create two derived data products per `DiaObject`:\n",
    "1. multiband lightcurves using the `DiaSources` (detections, not forced photometry)\n",
    "2. 20x20 arcsec i-band cutouts of the deepCoadds (to see host galaxies)\n",
    "\n",
    "Output files stored in \"citsci_sample_files/\" with prefix \"lc_\" for lightcurves and \"co_\" for cutouts.\n",
    "\n",
    "## Imports"
   ]
  },
  {
   "cell_type": "code",
   "execution_count": 1,
   "id": "55214cea-29de-4140-8483-50bacd71c96c",
   "metadata": {},
   "outputs": [],
   "source": [
    "import gc\n",
    "import time\n",
    "import numpy\n",
    "import matplotlib.pyplot as plt\n",
    "from astropy.cosmology import FlatLambdaCDM\n",
    "\n",
    "import lsst.afw.display as afwDisplay\n",
    "from lsst.daf.butler import Butler\n",
    "from lsst.rsp import get_tap_service\n",
    "import lsst.geom as geom\n",
    "from lsst.rsp import get_tap_service"
   ]
  },
  {
   "cell_type": "markdown",
   "id": "2700786d-8c14-41d8-84f6-ed514ae80b36",
   "metadata": {},
   "source": [
    "## Services, parameters settings, functions"
   ]
  },
  {
   "cell_type": "code",
   "execution_count": 2,
   "id": "5ee14352-2682-43f9-ae98-fd8016f1d1dd",
   "metadata": {},
   "outputs": [],
   "source": [
    "afwDisplay.setDefaultBackend('matplotlib')\n",
    "\n",
    "cosmo = FlatLambdaCDM(H0=70, Om0=0.3)\n",
    "\n",
    "plt.style.use('tableau-colorblind10')\n",
    "plot_filter_labels = ['u', 'g', 'r', 'i', 'z', 'y']\n",
    "plot_filter_colors = {'u': '#56b4e9', 'g': '#008060', 'r': '#ff4000',\n",
    "                      'i': '#850000', 'z': '#6600cc', 'y': '#000000'}\n",
    "plot_filter_symbols = {'u': 'o', 'g': '^', 'r': 'v', 'i': 's', 'z': '*', 'y': 'p'}"
   ]
  },
  {
   "cell_type": "code",
   "execution_count": 3,
   "id": "ce717ba0-6c96-4dff-a092-3fc2ed0fda35",
   "metadata": {},
   "outputs": [],
   "source": [
    "service = get_tap_service()"
   ]
  },
  {
   "cell_type": "code",
   "execution_count": 4,
   "id": "4376bf03-4b4c-4c28-8c4e-f27e74591c52",
   "metadata": {},
   "outputs": [
    {
     "data": {
      "text/html": [
       "<pre style=\"margin: 0.1em;\n",
       "padding-left: 0.25em;\n",
       "border-left-style: solid;\n",
       "font-family: var(--jp-code-font-family);\n",
       "font-size: var(--jp-code-font-size);\n",
       "line-height: var(--jp-code-line-height);\n",
       "\"><span style=\"color: var(--jp-warn-color2)\">botocore.credentials</span> <span style=\"color: var(--jp-info-color0)\">INFO</span>: Found credentials in shared credentials file: /home/melissagraham/.lsst/aws-credentials.ini</pre>"
      ],
      "text/plain": [
       "<IPython.core.display.HTML object>"
      ]
     },
     "metadata": {},
     "output_type": "display_data"
    }
   ],
   "source": [
    "butler = Butler('dp02', collections='2.2i/runs/DP0.2')"
   ]
  },
  {
   "cell_type": "code",
   "execution_count": 5,
   "id": "7ee8fa9e-cd73-4d33-98b1-79128c7280f7",
   "metadata": {},
   "outputs": [],
   "source": [
    "def remove_figure(fig):\n",
    "    \"\"\"\n",
    "    Remove a figure to reduce memory footprint.\n",
    "\n",
    "    Parameters\n",
    "    ----------\n",
    "    fig: matplotlib.figure.Figure\n",
    "        Figure to be removed.\n",
    "\n",
    "    Returns\n",
    "    -------\n",
    "    None\n",
    "    \"\"\"\n",
    "    # get the axes and clear their images\n",
    "    for ax in fig.get_axes():\n",
    "        for im in ax.get_images():\n",
    "            im.remove()\n",
    "    fig.clf()       # clear the figure\n",
    "    plt.close(fig)  # close the figure\n",
    "    gc.collect()    # call the garbage collector"
   ]
  },
  {
   "cell_type": "code",
   "execution_count": 6,
   "id": "8aedb799-6abc-44d5-9686-9229a8ed836e",
   "metadata": {},
   "outputs": [],
   "source": [
    "def cutout_coadd(butler, ra, dec, band='r', datasetType='deepCoadd',\n",
    "                 skymap=None, cutoutSideLength=51, **kwargs):\n",
    "    \"\"\"\n",
    "    Produce a cutout from a coadd at the given ra, dec position.\n",
    "\n",
    "    Adapted from DC2 tutorial notebook by Michael Wood-Vasey.\n",
    "\n",
    "    Parameters\n",
    "    ----------\n",
    "    butler: lsst.daf.persistence.Butler\n",
    "        Servant providing access to a data repository\n",
    "    ra: float\n",
    "        Right ascension of the center of the cutout, in degrees\n",
    "    dec: float\n",
    "        Declination of the center of the cutout, in degrees\n",
    "    band: string\n",
    "        Filter of the image to load\n",
    "    datasetType: string ['deepCoadd']\n",
    "        Which type of coadd to load.  Doesn't support 'calexp'\n",
    "    skymap: lsst.afw.skyMap.SkyMap [optional]\n",
    "        Pass in to avoid the Butler read.  Useful if you have lots of them.\n",
    "    cutoutSideLength: float [optional]\n",
    "        Size of the cutout region in pixels.\n",
    "\n",
    "    Returns\n",
    "    -------\n",
    "    MaskedImage\n",
    "    \"\"\"\n",
    "    radec = geom.SpherePoint(ra, dec, geom.degrees)\n",
    "    cutoutSize = geom.ExtentI(cutoutSideLength, cutoutSideLength)\n",
    "\n",
    "    if skymap is None:\n",
    "        skymap = butler.get(\"skyMap\")\n",
    "\n",
    "    # Look up the tract, patch for the RA, Dec\n",
    "    tractInfo = skymap.findTract(radec)\n",
    "    patchInfo = tractInfo.findPatch(radec)\n",
    "    xy = geom.PointI(tractInfo.getWcs().skyToPixel(radec))\n",
    "    bbox = geom.BoxI(xy - cutoutSize // 2, cutoutSize)\n",
    "    patch = tractInfo.getSequentialPatchIndex(patchInfo)\n",
    "\n",
    "    coaddId = {'tract': tractInfo.getId(), 'patch': patch, 'band': band}\n",
    "    parameters = {'bbox': bbox}\n",
    "\n",
    "    cutout_image = butler.get(datasetType, parameters=parameters,\n",
    "                              dataId=coaddId)\n",
    "\n",
    "    return cutout_image"
   ]
  },
  {
   "cell_type": "markdown",
   "id": "6dd2a446-d9fd-4718-8497-584f1630205a",
   "metadata": {},
   "source": [
    "## Identify \"low-z SNIa-like\" DiaObjects"
   ]
  },
  {
   "cell_type": "code",
   "execution_count": 7,
   "id": "3cf75a0d-54b2-4c35-b9d8-53a31a550a9d",
   "metadata": {},
   "outputs": [],
   "source": [
    "redshift_min = 0.1\n",
    "redshift_max = 0.3\n",
    "\n",
    "snia_peak_mag = -19.0\n",
    "snia_peak_mag_range = 0.5\n",
    "\n",
    "snia_peak_mr_min = cosmo.distmod(redshift_min).value + snia_peak_mag - snia_peak_mag_range\n",
    "snia_peak_mr_max = cosmo.distmod(redshift_max).value + snia_peak_mag + snia_peak_mag_range\n",
    "\n",
    "snia_peak_mg_max = 24.0\n",
    "snia_peak_mi_max = 24.0\n",
    "\n",
    "snia_ampl_mr_min = 1.5\n",
    "snia_ampl_mr_max = 5.5\n",
    "\n",
    "snia_nDiaSources_min = 15\n",
    "snia_nDiaSources_max = 100\n",
    "\n",
    "snia_duration_min = 50\n",
    "snia_duration_max = 300"
   ]
  },
  {
   "cell_type": "code",
   "execution_count": 8,
   "id": "ab85628f-480f-4550-a00f-d34f4d206b8b",
   "metadata": {},
   "outputs": [
    {
     "name": "stdout",
     "output_type": "stream",
     "text": [
      "CPU times: user 41.9 ms, sys: 0 ns, total: 41.9 ms\n",
      "Wall time: 19.9 s\n"
     ]
    }
   ],
   "source": [
    "%%time\n",
    "results = service.search(\"SELECT ra, decl, diaObjectId \"\n",
    "                         \"FROM dp02_dc2_catalogs.DiaObject \"\n",
    "                         \"WHERE nDiaSources > \"+str(snia_nDiaSources_min)+\" \"\n",
    "                         \"AND nDiaSources < \"+str(snia_nDiaSources_max)+\" \"\n",
    "                         \"AND scisql_nanojanskyToAbMag(rPSFluxMax) > \"+str(snia_peak_mr_min)+\" \"\n",
    "                         \"AND scisql_nanojanskyToAbMag(rPSFluxMax) < \"+str(snia_peak_mr_max)+\" \"\n",
    "                         \"AND scisql_nanojanskyToAbMag(gPSFluxMax) < \"+str(snia_peak_mg_max)+\" \"\n",
    "                         \"AND scisql_nanojanskyToAbMag(iPSFluxMax) < \"+str(snia_peak_mi_max)+\" \"\n",
    "                         \"AND scisql_nanojanskyToAbMag(rPSFluxMin)\"\n",
    "                         \" - scisql_nanojanskyToAbMag(rPSFluxMax) < \"+str(snia_ampl_mr_max)+\" \"\n",
    "                         \"AND scisql_nanojanskyToAbMag(rPSFluxMin)\"\n",
    "                         \" - scisql_nanojanskyToAbMag(rPSFluxMax) > \"+str(snia_ampl_mr_min)+\" \",\n",
    "                         maxrec=3000)\n",
    "DiaObjs = results.to_table()\n",
    "del results"
   ]
  },
  {
   "cell_type": "code",
   "execution_count": 9,
   "id": "6a6b0cdc-afaa-462c-b8ce-51ace73d3e02",
   "metadata": {},
   "outputs": [],
   "source": [
    "my_DiaObjId_string = '('\n",
    "for i in range(len(DiaObjs)):\n",
    "    my_DiaObjId_string += str(DiaObjs['diaObjectId'][i])\n",
    "    if i < len(DiaObjs)-1:\n",
    "        my_DiaObjId_string += ', '\n",
    "    else:\n",
    "        my_DiaObjId_string += ')'"
   ]
  },
  {
   "cell_type": "code",
   "execution_count": 10,
   "id": "4d1ce9ed-3477-4101-b831-e5d0dc4ea673",
   "metadata": {},
   "outputs": [
    {
     "name": "stdout",
     "output_type": "stream",
     "text": [
      "CPU times: user 1.84 s, sys: 19.9 ms, total: 1.86 s\n",
      "Wall time: 18.7 s\n"
     ]
    }
   ],
   "source": [
    "%%time\n",
    "results = service.search(\"SELECT ra, decl, diaObjectId, diaSourceId, \"\n",
    "                         \"filterName, midPointTai, \"\n",
    "                         \"scisql_nanojanskyToAbMag(psFlux) AS psAbMag \"\n",
    "                         \"FROM dp02_dc2_catalogs.DiaSource \"\n",
    "                         \"WHERE diaObjectId IN \"+my_DiaObjId_string)\n",
    "DiaSrcs = results.to_table()\n",
    "del results"
   ]
  },
  {
   "cell_type": "code",
   "execution_count": 11,
   "id": "d8ae62f3-bef2-4e1c-95c3-7ed6fedaa381",
   "metadata": {},
   "outputs": [],
   "source": [
    "DiaObjs['duration'] = numpy.zeros(len(DiaObjs), dtype='float')\n",
    "for i in range(len(DiaObjs)):\n",
    "    tx = numpy.where(DiaSrcs['diaObjectId'] == DiaObjs['diaObjectId'][i])[0]\n",
    "    DiaObjs['duration'][i] = numpy.max(DiaSrcs['midPointTai'][tx]) \\\n",
    "                             - numpy.min(DiaSrcs['midPointTai'][tx])"
   ]
  },
  {
   "cell_type": "code",
   "execution_count": 12,
   "id": "ec6d6ff7-3de2-4079-bdf6-73058d424079",
   "metadata": {},
   "outputs": [
    {
     "name": "stdout",
     "output_type": "stream",
     "text": [
      "171\n"
     ]
    }
   ],
   "source": [
    "sel_sne = numpy.where((DiaObjs['duration'] > snia_duration_min)\n",
    "                       & (DiaObjs['duration'] < snia_duration_max))[0]\n",
    "print(len(sel_sne))"
   ]
  },
  {
   "cell_type": "markdown",
   "id": "50e8ee79-f016-4274-b600-95b8e342bbf1",
   "metadata": {},
   "source": [
    "## Make PNG lightcurves"
   ]
  },
  {
   "cell_type": "code",
   "execution_count": 13,
   "id": "08185535-cad4-4297-90cf-b39531fcd3c0",
   "metadata": {},
   "outputs": [
    {
     "name": "stdout",
     "output_type": "stream",
     "text": [
      "CPU times: user 11.9 s, sys: 13.5 s, total: 25.3 s\n",
      "Wall time: 12.9 s\n"
     ]
    }
   ],
   "source": [
    "%%time\n",
    "outpath = 'citsci_sample_files/'\n",
    "temp = range(100)\n",
    "\n",
    "for sel in sel_sne[temp]:\n",
    "    fnm = outpath + 'lc_'+ str(DiaObjs['diaObjectId'][sel])\n",
    "    fig = plt.figure(figsize=(4, 3))\n",
    "    \n",
    "    tx = numpy.where(DiaSrcs['diaObjectId'] == DiaObjs['diaObjectId'][sel])[0]\n",
    "    mx = numpy.argmin(DiaSrcs['psAbMag'][tx])\n",
    "    t0 = DiaSrcs['midPointTai'][tx[mx]]\n",
    "    y1 = numpy.max(DiaSrcs['psAbMag'][tx]) + 0.2\n",
    "    y2 = numpy.min(DiaSrcs['psAbMag'][tx]) - 0.2\n",
    "    del tx, mx\n",
    "    \n",
    "    for f, filt in enumerate(plot_filter_labels):\n",
    "        fx = numpy.where((DiaSrcs['diaObjectId'] == DiaObjs['diaObjectId'][sel]) \\\n",
    "                         & (DiaSrcs['filterName'] == filt))[0]\n",
    "        plt.plot(DiaSrcs['midPointTai'][fx] - t0,\n",
    "                 DiaSrcs['psAbMag'][fx],\n",
    "                 plot_filter_symbols[filt], ms=10, mew=0, alpha=0.5,\n",
    "                 color=plot_filter_colors[filt])\n",
    "        del fx\n",
    "        \n",
    "    plt.ylim([y1, y2])\n",
    "    plt.xlabel('days')\n",
    "    plt.ylabel('magnitude')\n",
    "    plt.title(str(DiaObjs['diaObjectId'][sel]))\n",
    "    plt.tight_layout()\n",
    "    plt.savefig(fnm)\n",
    "    plt.close()\n",
    "    \n",
    "    del t0, y1, y2"
   ]
  },
  {
   "cell_type": "markdown",
   "id": "6fb82cae-d158-4fad-9635-6d59fc4a8db8",
   "metadata": {},
   "source": [
    "## Make PNG cutouts"
   ]
  },
  {
   "cell_type": "code",
   "execution_count": 14,
   "id": "08cf9cd7-6031-45b9-8d6b-0bf9208570aa",
   "metadata": {},
   "outputs": [
    {
     "name": "stdout",
     "output_type": "stream",
     "text": [
      "CPU times: user 3min 19s, sys: 1min 6s, total: 4min 25s\n",
      "Wall time: 5min 24s\n"
     ]
    }
   ],
   "source": [
    "%%time\n",
    "outpath = 'citsci_sample_files/'\n",
    "temp = range(100)\n",
    "\n",
    "for sel in sel_sne[temp]:\n",
    "    fnm = outpath + 'co_' + str(DiaObjs['diaObjectId'][sel])\n",
    "    ra = DiaObjs['ra'][sel]\n",
    "    dec = DiaObjs['decl'][sel]\n",
    "    \n",
    "    cutout_image = cutout_coadd(butler, ra, dec, band='i', \n",
    "                                datasetType='deepCoadd',\n",
    "                                cutoutSideLength=101)\n",
    "\n",
    "    fig = plt.figure(figsize=(4, 4))\n",
    "    afw_display = afwDisplay.Display(frame=fig)\n",
    "    afw_display.scale('asinh', 'zscale')\n",
    "    afw_display.mtv(cutout_image.image)\n",
    "    \n",
    "    cutout_wcs = cutout_image.getWcs()\n",
    "    radec = geom.SpherePoint(ra, dec, geom.degrees)\n",
    "    xy = geom.PointI(cutout_wcs.skyToPixel(radec))\n",
    "    \n",
    "    afw_display.dot('x', xy.getX(), xy.getY(), size=1, ctype='orange')\n",
    "    plt.gca().axis('off')\n",
    "    plt.title(str(DiaObjs['diaObjectId'][sel]))\n",
    "    plt.savefig(fnm)\n",
    "    plt.close()\n",
    "    \n",
    "    del fnm, ra, dec\n",
    "    del cutout_image, cutout_wcs, radec, xy\n",
    "    remove_figure(fig)"
   ]
  },
  {
   "cell_type": "code",
   "execution_count": null,
   "id": "e9d76e5d-7c9b-48ba-8181-90942babb3e2",
   "metadata": {},
   "outputs": [],
   "source": []
  }
 ],
 "metadata": {
  "kernelspec": {
   "display_name": "LSST",
   "language": "python",
   "name": "lsst"
  },
  "language_info": {
   "codemirror_mode": {
    "name": "ipython",
    "version": 3
   },
   "file_extension": ".py",
   "mimetype": "text/x-python",
   "name": "python",
   "nbconvert_exporter": "python",
   "pygments_lexer": "ipython3",
   "version": "3.10.5"
  }
 },
 "nbformat": 4,
 "nbformat_minor": 5
}
