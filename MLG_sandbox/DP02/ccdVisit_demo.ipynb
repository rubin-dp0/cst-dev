{
 "cells": [
  {
   "cell_type": "code",
   "execution_count": 1,
   "id": "6ca237ee-dd7e-436f-9c75-e8fca1fbfbcc",
   "metadata": {
    "execution": {
     "iopub.execute_input": "2023-03-22T19:29:20.797005Z",
     "iopub.status.busy": "2023-03-22T19:29:20.796357Z",
     "iopub.status.idle": "2023-03-22T19:29:21.080554Z",
     "shell.execute_reply": "2023-03-22T19:29:21.079923Z",
     "shell.execute_reply.started": "2023-03-22T19:29:20.796984Z"
    }
   },
   "outputs": [],
   "source": [
    "import numpy as np\n",
    "import matplotlib.pyplot as plt\n",
    "from astropy import units as u\n",
    "from astropy.coordinates import SkyCoord\n",
    "\n",
    "from lsst.rsp import get_tap_service, retrieve_query"
   ]
  },
  {
   "cell_type": "code",
   "execution_count": 2,
   "id": "acd06488-d6fa-47c3-872e-113641d39fb9",
   "metadata": {
    "execution": {
     "iopub.execute_input": "2023-03-22T19:29:30.973793Z",
     "iopub.status.busy": "2023-03-22T19:29:30.973106Z",
     "iopub.status.idle": "2023-03-22T19:29:31.059654Z",
     "shell.execute_reply": "2023-03-22T19:29:31.058560Z",
     "shell.execute_reply.started": "2023-03-22T19:29:30.973771Z"
    }
   },
   "outputs": [],
   "source": [
    "service = get_tap_service()"
   ]
  },
  {
   "cell_type": "code",
   "execution_count": 24,
   "id": "a10a17a4-15ca-4b0f-b826-e4c6d56c2a21",
   "metadata": {
    "execution": {
     "iopub.execute_input": "2023-03-22T19:40:02.006692Z",
     "iopub.status.busy": "2023-03-22T19:40:02.005814Z",
     "iopub.status.idle": "2023-03-22T19:40:02.009654Z",
     "shell.execute_reply": "2023-03-22T19:40:02.009016Z",
     "shell.execute_reply.started": "2023-03-22T19:40:02.006648Z"
    },
    "tags": []
   },
   "outputs": [],
   "source": [
    "use_center_coords = \"62, -37\"\n",
    "use_radius = \"0.1\""
   ]
  },
  {
   "cell_type": "code",
   "execution_count": 25,
   "id": "f51be752-27fb-4bd5-bd34-a0d29f4d7e62",
   "metadata": {
    "execution": {
     "iopub.execute_input": "2023-03-22T19:40:02.387081Z",
     "iopub.status.busy": "2023-03-22T19:40:02.386472Z",
     "iopub.status.idle": "2023-03-22T19:40:02.870943Z",
     "shell.execute_reply": "2023-03-22T19:40:02.870422Z",
     "shell.execute_reply.started": "2023-03-22T19:40:02.387053Z"
    },
    "tags": []
   },
   "outputs": [],
   "source": [
    "query = \"SELECT ra, decl, band, visitId, ccdVisitId, detector, expMidptMJD \" + \\\n",
    "        \"FROM dp02_dc2_catalogs.CcdVisit \" + \\\n",
    "        \"WHERE CONTAINS(POINT('ICRS', ra, decl), \" + \\\n",
    "        \"CIRCLE('ICRS', \" + use_center_coords + \", \" + use_radius + \")) = 1 \" + \\\n",
    "        \"AND band = 'r' \" + \\\n",
    "        \"AND expMidptMJD > 59633 \" + \\\n",
    "        \"AND expMidptMJD < 59635 \"\n",
    "results = service.search(query)"
   ]
  },
  {
   "cell_type": "code",
   "execution_count": 26,
   "id": "93f1b400-555d-4475-8b1d-8a9168d7c8bd",
   "metadata": {
    "execution": {
     "iopub.execute_input": "2023-03-22T19:40:02.985708Z",
     "iopub.status.busy": "2023-03-22T19:40:02.985237Z",
     "iopub.status.idle": "2023-03-22T19:40:02.990527Z",
     "shell.execute_reply": "2023-03-22T19:40:02.990079Z",
     "shell.execute_reply.started": "2023-03-22T19:40:02.985689Z"
    },
    "tags": []
   },
   "outputs": [
    {
     "data": {
      "text/plain": [
       "<Table length=1>\n",
       "    ra         decl     band  visitId ccdVisitId detector  expMidptMJD \n",
       "   deg         deg                                              d      \n",
       " float64     float64   object  int64    int64     int64      float64   \n",
       "---------- ----------- ------ ------- ---------- -------- -------------\n",
       "62.1017179 -37.0084166      r   40327   40327165      165 59634.0870892"
      ]
     },
     "execution_count": 26,
     "metadata": {},
     "output_type": "execute_result"
    }
   ],
   "source": [
    "results"
   ]
  },
  {
   "cell_type": "code",
   "execution_count": null,
   "id": "2da984a7-11b7-4dc6-8b20-4e3868cc803e",
   "metadata": {},
   "outputs": [],
   "source": []
  }
 ],
 "metadata": {
  "kernelspec": {
   "display_name": "LSST",
   "language": "python",
   "name": "lsst"
  },
  "language_info": {
   "codemirror_mode": {
    "name": "ipython",
    "version": 3
   },
   "file_extension": ".py",
   "mimetype": "text/x-python",
   "name": "python",
   "nbconvert_exporter": "python",
   "pygments_lexer": "ipython3",
   "version": "3.10.9"
  }
 },
 "nbformat": 4,
 "nbformat_minor": 5
}
