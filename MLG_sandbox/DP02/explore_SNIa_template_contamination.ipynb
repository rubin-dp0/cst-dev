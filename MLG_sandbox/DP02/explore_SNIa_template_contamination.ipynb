{
 "cells": [
  {
   "cell_type": "markdown",
   "id": "f5d0f21b-e48a-49d0-9df1-c1a5bb72522b",
   "metadata": {},
   "source": [
    "# Quantify and Correct SNIa Forced-Flux Lightcurves for Template Contamination\n",
    "\n",
    "Contact author: Melissa Graham\n",
    "\n",
    "Date last verified to run: Fri Dec 23, 2022\n",
    "\n",
    "RSP environment version: Weekly 2022_40\n",
    "\n",
    "\n",
    "## 1. Introduction\n",
    "\n",
    "For DP0.2, the template images were constructed using the 30% of the images with the best seeing over the 6-year DC2 simulation.\n",
    "\n",
    "This results in some flux in the template images (\"template contamination\") for some supernovae, which is then subtracted during difference image analysis, leading to negative or reduced difference-image fluxes.\n",
    "\n",
    "**Quantify template contamination:** Section 3 estimates that 50% of SNIa lightcurves are affected by template contamination.\n",
    "\n",
    "**Correct SNIa lightcurves for template contamination:** Section 4 demonstrates a method for correcting for template contamination using the forced photometry fluxes during \"off-peak\" visits obtained before and after then supernova.\n",
    "\n",
    "\n",
    "### 1.1. Import packages"
   ]
  },
  {
   "cell_type": "code",
   "execution_count": null,
   "id": "820d15e3-b902-434f-9e65-d29dd978ecf5",
   "metadata": {},
   "outputs": [],
   "source": [
    "import time\n",
    "import numpy as np\n",
    "import matplotlib\n",
    "import matplotlib.pyplot as plt\n",
    "\n",
    "from astropy.units import UnitsWarning\n",
    "from astropy.coordinates import SkyCoord\n",
    "from astropy.coordinates import match_coordinates_sky\n",
    "import astropy.units as u\n",
    "\n",
    "import pandas\n",
    "pandas.set_option('display.max_rows', 1000)\n",
    "\n",
    "from lsst.rsp import get_tap_service, retrieve_query\n",
    "import lsst.afw.display as afwDisplay\n",
    "from lsst.daf.butler import Butler\n",
    "import lsst.geom as geom"
   ]
  },
  {
   "cell_type": "markdown",
   "id": "33eea253-82f8-48e1-8f55-84cc971d8c14",
   "metadata": {},
   "source": [
    "### 1.2. Set global parameters and functions"
   ]
  },
  {
   "cell_type": "code",
   "execution_count": null,
   "id": "adbd96f8-2003-4b98-8e3f-70018a4a9223",
   "metadata": {},
   "outputs": [],
   "source": [
    "service = get_tap_service()"
   ]
  },
  {
   "cell_type": "code",
   "execution_count": null,
   "id": "09929498-fac5-4ef4-919d-3396c813b1cd",
   "metadata": {},
   "outputs": [],
   "source": [
    "plot_filter_labels = ['u', 'g', 'r', 'i', 'z', 'y']\n",
    "plot_filter_colors = {'u' : '#56b4e9', 'g' : '#008060', 'r' : '#ff4000',\n",
    "                      'i' : '#850000', 'z' : '#6600cc', 'y' : '#000000'}\n",
    "plot_filter_symbols = {'u' : 'o', 'g' : '^', 'r' : 'v', \n",
    "                       'i' : 's', 'z' : '*', 'y' : 'p'}"
   ]
  },
  {
   "cell_type": "code",
   "execution_count": null,
   "id": "6b485545-af10-4f06-bf85-d849b9c25e39",
   "metadata": {},
   "outputs": [],
   "source": [
    "afwDisplay.setDefaultBackend('matplotlib')"
   ]
  },
  {
   "cell_type": "markdown",
   "id": "cde075e6-e6f8-410e-a254-5f3e56a304d9",
   "metadata": {},
   "source": [
    "## 2. Establish a sample of SNIa\n",
    "\n",
    "### 2.1. Get a sample of z<0.5 true SNIa\n",
    "\n",
    "Use a radius = 4 degree cone search near the center of DC2.\n",
    "\n",
    "This should return around 10416 true SNIa and take < 2 minutes."
   ]
  },
  {
   "cell_type": "code",
   "execution_count": null,
   "id": "6d41ff8e-d9a4-40df-904e-45650a35c984",
   "metadata": {},
   "outputs": [],
   "source": [
    "%%time\n",
    "\n",
    "query = \"SELECT mt.id_truth_type, ts.ra, ts.dec, ts.truth_type \"\\\n",
    "        \"FROM dp02_dc2_catalogs.MatchesTruth AS mt \"\\\n",
    "        \"JOIN dp02_dc2_catalogs.TruthSummary AS ts ON mt.id_truth_type = ts.id_truth_type \"\\\n",
    "        \"WHERE CONTAINS(POINT('ICRS', ra, dec), CIRCLE('ICRS', 57.5, -36.5, 4)) = 1 \"\\\n",
    "        \"AND ts.truth_type = 3 AND ts.redshift < 0.5\"\n",
    "results = service.search(query)\n",
    "del query"
   ]
  },
  {
   "cell_type": "markdown",
   "id": "1a492f1c-dd76-4678-8701-44e42851ad90",
   "metadata": {},
   "source": [
    "Convert results to a pandas table with `to_table().to_pandas()`."
   ]
  },
  {
   "cell_type": "code",
   "execution_count": null,
   "id": "c721fdf0-ad04-4ea6-9358-e014f0bbde11",
   "metadata": {},
   "outputs": [],
   "source": [
    "TrueSNIa = results.to_table().to_pandas()\n",
    "del results\n",
    "print('len(TrueSNIa) = ', len(TrueSNIa))"
   ]
  },
  {
   "cell_type": "markdown",
   "id": "2168402c-f894-49d2-a9a8-31ba4937b559",
   "metadata": {},
   "source": [
    "Option to display table contents."
   ]
  },
  {
   "cell_type": "code",
   "execution_count": null,
   "id": "04a70b6e-a742-4031-a875-c183664c44db",
   "metadata": {},
   "outputs": [],
   "source": [
    "# TrueSNIa"
   ]
  },
  {
   "cell_type": "markdown",
   "id": "fd170362-aaca-485f-acfb-9e15fe34c456",
   "metadata": {},
   "source": [
    "### 2.2. Get a sample of `DiaObjects`\n",
    "\n",
    "Retrieve DiaObjects from the same region which were detected with a maximum flux of at least 1000 nJy in the r- and i-bands, and at least 5 detections in r- and i-bands.\n",
    "\n",
    "SNIa that have a redshift < 0.5 and were detected near peak brightness would meet this criteria.\n",
    "\n",
    "This should return 116953 `DiaObjects` and take < 1 minute.\n",
    "\n",
    "Convert results to a pandas table with `to_table().to_pandas()`."
   ]
  },
  {
   "cell_type": "code",
   "execution_count": null,
   "id": "5f17f8c7-5fed-4b12-9ba3-54a11ddfbfd3",
   "metadata": {},
   "outputs": [],
   "source": [
    "%%time\n",
    "\n",
    "query = \"SELECT diaObjectId, ra, decl \"\\\n",
    "        \"FROM dp02_dc2_catalogs.DiaObject \"\\\n",
    "        \"WHERE CONTAINS(POINT('ICRS', ra, decl), CIRCLE('ICRS', 57.5, -36.5, 4)) = 1 \"\\\n",
    "        \"AND rPSFluxMax > 1000 AND iPSFluxMax > 1000 \"\\\n",
    "        \"AND rPSFluxNdata > 5 AND iPSFluxNdata > 5\"\n",
    "results = service.search(query)\n",
    "del query"
   ]
  },
  {
   "cell_type": "markdown",
   "id": "0546096c-06b1-4d78-bc28-6313e0f65b65",
   "metadata": {},
   "source": [
    "Convert results to a pandas table with `to_table().to_pandas()`."
   ]
  },
  {
   "cell_type": "code",
   "execution_count": null,
   "id": "a4a9e29f-c6cf-4ca8-ba3a-85cc23529ba6",
   "metadata": {},
   "outputs": [],
   "source": [
    "DiaObjs = results.to_table().to_pandas()\n",
    "del results\n",
    "print('len(DiaObjs) = ', len(DiaObjs))"
   ]
  },
  {
   "cell_type": "markdown",
   "id": "fb078a05-e925-45fa-9579-7eb22e450fcf",
   "metadata": {},
   "source": [
    "Option to display table contents."
   ]
  },
  {
   "cell_type": "code",
   "execution_count": null,
   "id": "4efaacc5-2af6-4019-921f-9ed1b563aab0",
   "metadata": {},
   "outputs": [],
   "source": [
    "# DiaObjs"
   ]
  },
  {
   "cell_type": "markdown",
   "id": "6ba05333-a805-4799-a46b-8b0c7634c8c9",
   "metadata": {},
   "source": [
    "### 2.3. Match `TrueSNIa` to `DiaObjs`\n",
    "\n",
    "First, use `astropy` to create arrays of sky coordinates (RA, Dec) using `SkyCoord`."
   ]
  },
  {
   "cell_type": "code",
   "execution_count": null,
   "id": "ab40a1e3-504d-4e3a-b3bd-58ad4f87d429",
   "metadata": {},
   "outputs": [],
   "source": [
    "TrueSNIa_skycoord = SkyCoord(ra=TrueSNIa.loc[:, 'ra'].values*u.degree, \n",
    "                             dec=TrueSNIa.loc[:, 'dec'].values*u.degree)\n",
    "DiaObjs_skycoord = SkyCoord(ra=DiaObjs.loc[:, 'ra'].values*u.degree, \n",
    "                            dec=DiaObjs.loc[:, 'decl'].values*u.degree)"
   ]
  },
  {
   "cell_type": "markdown",
   "id": "312efbb7-384d-4fbb-ac67-46df29840a4b",
   "metadata": {},
   "source": [
    "Use `match_coordinates_sky` to find the nearest `DiaObjs` table entry for each `TrueSNIa` table entry.\n",
    "\n",
    "`idx` = the index in `DiaObjs` to the nearest match of each `TrueSNIa`\n",
    "\n",
    "`d2d` = the two-dimenstional distance to the nearest match, in arcsec\n",
    "\n",
    "`d3d` = a three-dimensional distance is returned, but meaningless for our use-case"
   ]
  },
  {
   "cell_type": "code",
   "execution_count": null,
   "id": "5e57b4a0-19f2-4297-9478-c42f75526829",
   "metadata": {},
   "outputs": [],
   "source": [
    "idx, d2d, d3d = match_coordinates_sky(TrueSNIa_skycoord, DiaObjs_skycoord)"
   ]
  },
  {
   "cell_type": "markdown",
   "id": "9fbb2e35-f706-47b7-b8f9-40a8c2c8a102",
   "metadata": {},
   "source": [
    "In the figure below, the distribution of 2d distances to the nearest `DiaObjs` for each `TrueSNIa` shows that applying a maximum of 1 arcsecond as a \"real\" match would be appropriate."
   ]
  },
  {
   "cell_type": "code",
   "execution_count": null,
   "id": "464f44b2-fd17-4e6e-b36b-bb9a6f09dc1b",
   "metadata": {},
   "outputs": [],
   "source": [
    "fig = plt.figure(figsize=(4, 2))\n",
    "plt.hist(np.log10(d2d.arcsec), bins=50)\n",
    "plt.xlabel('log distance to nearest match [arcsec]')\n",
    "plt.show()"
   ]
  },
  {
   "cell_type": "markdown",
   "id": "5bcd2e1f-89df-496e-9dc7-ad5d8ff16369",
   "metadata": {},
   "source": [
    "Print the number of `TrueSNIa` that are matched within 1 arcsecond of a `DiaObjs`.\n",
    "\n",
    "This will show how many `DiaObjs` there are with which to explore template contamination."
   ]
  },
  {
   "cell_type": "code",
   "execution_count": null,
   "id": "6f0c7a5c-58af-4e3c-87e4-89b1f569a8b6",
   "metadata": {},
   "outputs": [],
   "source": [
    "tx = np.where(d2d.arcsec < 1.0)[0]\n",
    "print(len(tx))\n",
    "del tx"
   ]
  },
  {
   "cell_type": "markdown",
   "id": "026c5d43-6003-477f-a75a-3dee8d0902f6",
   "metadata": {},
   "source": [
    "Add columns to the `TrueSNIa` table to store the match information for good matches.\n",
    "\n",
    "Use negative values as the placeholder."
   ]
  },
  {
   "cell_type": "code",
   "execution_count": null,
   "id": "1ef4212f-e6f2-4cfe-a6aa-a022a02ea216",
   "metadata": {},
   "outputs": [],
   "source": [
    "TrueSNIa['DiaObjs_idx'] = np.zeros(len(TrueSNIa), dtype='int') - 1\n",
    "TrueSNIa['DiaObjs_d2d'] = np.zeros(len(TrueSNIa), dtype='float') - 1.0"
   ]
  },
  {
   "cell_type": "markdown",
   "id": "2cb7dee6-40f6-44a7-9dde-038cb6da1681",
   "metadata": {},
   "source": [
    "Fill in the database with match information for the good matches only."
   ]
  },
  {
   "cell_type": "code",
   "execution_count": null,
   "id": "4dff7739-e49e-48b2-ac1f-e6cb33f646f2",
   "metadata": {},
   "outputs": [],
   "source": [
    "d2d_arcsec = d2d.arcsec\n",
    "tx = np.where(d2d.arcsec < 1.0)[0]\n",
    "for x in tx:\n",
    "    TrueSNIa.loc[x, 'DiaObjs_idx'] = idx[x]\n",
    "    TrueSNIa.loc[x, 'DiaObjs_d2d'] = d2d_arcsec[x]\n",
    "del tx, d2d_arcsec\n",
    "del idx, d2d, d3d"
   ]
  },
  {
   "cell_type": "markdown",
   "id": "ccee3048-a780-4857-8959-93a288b9ec79",
   "metadata": {},
   "source": [
    "Option to see how the two columns have been added to the table, with negative values used as placeholders for no match information."
   ]
  },
  {
   "cell_type": "code",
   "execution_count": null,
   "id": "0d5edf3c-3600-4be9-ab49-dbe400e53746",
   "metadata": {},
   "outputs": [],
   "source": [
    "# TrueSNIa"
   ]
  },
  {
   "cell_type": "markdown",
   "id": "3091362a-2c30-4765-a0c7-faa90e022767",
   "metadata": {},
   "source": [
    "### 2.4. Make the list of `DiaObjects` that are SNIa\n",
    "\n",
    "Create a string, formatted as a tuple, that contains a list of all the `diaObjectId` values for the elements of `DiaObjs` matched to `TrueSNIa`."
   ]
  },
  {
   "cell_type": "code",
   "execution_count": null,
   "id": "ef074521-db02-4fa9-85ec-0c7e777896d8",
   "metadata": {},
   "outputs": [],
   "source": [
    "tuple_string_diaObjectId = '('\n",
    "tx = np.where(TrueSNIa.loc[:, 'DiaObjs_idx'] >= 0)[0]\n",
    "for i, x in enumerate(tx):\n",
    "    tuple_string_diaObjectId += str(DiaObjs.loc[TrueSNIa.loc[x, 'DiaObjs_idx'], 'diaObjectId'])\n",
    "    if i < len(tx)-1:\n",
    "        tuple_string_diaObjectId += ','\n",
    "    else:\n",
    "        tuple_string_diaObjectId += ')'\n",
    "del tx"
   ]
  },
  {
   "cell_type": "markdown",
   "id": "4a5bb320-b0b5-4372-912d-7621ec4b1a35",
   "metadata": {},
   "source": [
    "Option to view the string-formatted tuple."
   ]
  },
  {
   "cell_type": "code",
   "execution_count": null,
   "id": "3545255c-adc7-4960-b76d-30cf32028995",
   "metadata": {},
   "outputs": [],
   "source": [
    "# print(tuple_string_diaObjectId)"
   ]
  },
  {
   "cell_type": "markdown",
   "id": "3b2f2789-f9dc-4970-94d0-2e62d611011a",
   "metadata": {},
   "source": [
    "After this, we don't use the DiaObjs or TrueSNIa dataframes again."
   ]
  },
  {
   "cell_type": "code",
   "execution_count": null,
   "id": "a00221b2-f3dd-4e72-a748-58cef514fbd6",
   "metadata": {},
   "outputs": [],
   "source": [
    "del DiaObjs, TrueSNIa"
   ]
  },
  {
   "cell_type": "markdown",
   "id": "9c97f155-2abc-4479-92a4-9e1b8fda1099",
   "metadata": {},
   "source": [
    "## 3. Estimate the fraction of SNIa affected by template contamination\n",
    "\n",
    "Without template contamination, supernovae would never be detected with a negative flux value in a difference image.\n",
    "\n",
    "In other words, the minimum difference-image fluxes for `DiaObjects` matched with true SNIa _should_ always be positive.\n",
    "\n",
    "The fraction which are negative indicates approximately how many true SNIa `DiaObjects` are impacted by template contamination.\n",
    "\n",
    "Use the forced photometry in the `ForcedSourceOnDiaObjects` table to determin how often the true SNIa `DiaObjects` identified above are detected with negative flux during visits that are well before or well after (\"off-peak\") the SNIa event.\n",
    "\n",
    "### 3.1. Retrieve difference-image forced photometry\n",
    "\n",
    "The PSF-fit fluxes are available in `ForcedSourceOnDiaObjects`, but to get the visit dates requires a join with the `CcdVisit` table.\n",
    "\n",
    "Retrieve data from `ForcedSourceOnDiaObjects` for all forced sources associated with a `DiaObject` which was matched to a true SNIa.\n",
    "\n",
    "Retrive also the `coord_ra` and `coord_dec` from `ForcedSourceOnDiaObjects`, and the `visit` and `detector` from `CcdVisit`, for use in Section 5."
   ]
  },
  {
   "cell_type": "code",
   "execution_count": null,
   "id": "2379a010-bdcc-44b2-9d64-cc3d57104c94",
   "metadata": {},
   "outputs": [],
   "source": [
    "%%time\n",
    "\n",
    "query = \"SELECT fsodo.diaObjectId, fsodo.ccdVisitId, fsodo.coord_ra, fsodo.coord_dec, \"\\\n",
    "        \"fsodo.psfDiffFlux, fsodo.psfDiffFluxErr, fsodo.psfDiffFlux_flag, \"\\\n",
    "        \"ccdv.ccdVisitId, ccdv.visitId, ccdv.detector, ccdv.band, ccdv.expMidptMJD \"\\\n",
    "        \"FROM dp02_dc2_catalogs.ForcedSourceOnDiaObject AS fsodo \"\\\n",
    "        \"JOIN dp02_dc2_catalogs.CcdVisit AS ccdv ON ccdv.ccdVisitId = fsodo.ccdVisitId \"\\\n",
    "        \"WHERE fsodo.diaObjectId IN \"+tuple_string_diaObjectId\n",
    "results = service.search(query)\n",
    "del query"
   ]
  },
  {
   "cell_type": "markdown",
   "id": "846c51b9-3a5d-4ea2-86d9-9b5aba8b0043",
   "metadata": {},
   "source": [
    "Convert results to a pandas table."
   ]
  },
  {
   "cell_type": "code",
   "execution_count": null,
   "id": "13b44511-5638-483c-9245-bdbeee028ced",
   "metadata": {},
   "outputs": [],
   "source": [
    "FSrc = results.to_table().to_pandas()\n",
    "del results"
   ]
  },
  {
   "cell_type": "markdown",
   "id": "5aaff6d8-70f4-46ba-955c-7eb1f367f59c",
   "metadata": {},
   "source": [
    "Option to view the table of data retrieved."
   ]
  },
  {
   "cell_type": "code",
   "execution_count": null,
   "id": "61f47e58-840d-4742-b0bb-f279c0621eb3",
   "metadata": {},
   "outputs": [],
   "source": [
    "# FSrc"
   ]
  },
  {
   "cell_type": "markdown",
   "id": "1da5f648-12e9-4807-a5d2-b422028d4b11",
   "metadata": {},
   "source": [
    "### 3.2. Identify dates of peak brightess \n",
    "\n",
    "Make an array of the unique `diaObjectid` for the `DiaObjects` matched to true SNIa, for which forced photometry was retrieved from the `ForcedSourceOnDiaObject` table."
   ]
  },
  {
   "cell_type": "code",
   "execution_count": null,
   "id": "c68d46f5-5cb9-40f0-81f1-64151255f25d",
   "metadata": {},
   "outputs": [],
   "source": [
    "SNIa_diaObjectId = np.unique(FSrc.loc[:, 'diaObjectId'])"
   ]
  },
  {
   "cell_type": "markdown",
   "id": "235267f1-cc2c-4bde-a042-73370a92fc1a",
   "metadata": {},
   "source": [
    "Determine the date of the brightest detection (\"`SNIa_bdet_date`\") in MJD.\n",
    "\n",
    "This is not necessarily the date of peak light (maximum brightness) for SNIa, which is typically determined with multi-band lightcurve fits.\n",
    "But it is close enough for the purposes of this demonstration."
   ]
  },
  {
   "cell_type": "code",
   "execution_count": null,
   "id": "6d33da1b-2ece-4eb1-ac69-670e4e50ab6a",
   "metadata": {},
   "outputs": [],
   "source": [
    "%%time\n",
    "\n",
    "SNIa_bdet_date = np.zeros(len(SNIa_diaObjectId), dtype='float')\n",
    "for i, id_val in enumerate(SNIa_diaObjectId):\n",
    "    sx = np.where(FSrc['diaObjectId'] == id_val)[0]\n",
    "    mx = np.argmax(FSrc.loc[sx, 'psfDiffFlux'])\n",
    "    SNIa_bdet_date[i] = FSrc.loc[sx[mx], 'expMidptMJD']\n",
    "    del sx, mx"
   ]
  },
  {
   "cell_type": "markdown",
   "id": "9af828f7-05e1-4333-9306-9f64098fe394",
   "metadata": {},
   "source": [
    "### 3.3. Calculate the off-peak flux statistics\n",
    "\n",
    "Make arrays of the minimum, maximum, mean, and standard deviation (`std`) of the difference-image forced flux in the \"off-peak\" visits (i.e., >300 days before, or >500 days after, the peak date), along with the number of visits (`N`) that contributed to these statistical measures, for each of the six filters.\n",
    "\n",
    "Only use unflagged values of `psfDiffFlux` in these statistical measures.\n",
    "\n",
    "This takes about 30 seconds to compute."
   ]
  },
  {
   "cell_type": "code",
   "execution_count": null,
   "id": "8cb96a92-204c-469e-bcea-7a1ab54e94f5",
   "metadata": {},
   "outputs": [],
   "source": [
    "%%time\n",
    "\n",
    "SNIa_offpeak_min = np.zeros((len(SNIa_diaObjectId), 6), dtype='float')\n",
    "SNIa_offpeak_max = np.zeros((len(SNIa_diaObjectId), 6), dtype='float')\n",
    "SNIa_offpeak_mean = np.zeros((len(SNIa_diaObjectId), 6), dtype='float')\n",
    "SNIa_offpeak_std = np.zeros((len(SNIa_diaObjectId), 6), dtype='float')\n",
    "SNIa_offpeak_N = np.zeros((len(SNIa_diaObjectId), 6), dtype='int')\n",
    "\n",
    "for i, id_val in enumerate(SNIa_diaObjectId):\n",
    "    sx = np.where(FSrc['diaObjectId'] == id_val)[0]\n",
    "    if len(sx) > 0:\n",
    "        for f, filt in enumerate(plot_filter_labels):\n",
    "            fx = np.where(FSrc.loc[sx, 'band'] == filt)[0]\n",
    "            if len(fx) > 0:\n",
    "                dx = np.where((FSrc.loc[sx[fx], 'psfDiffFlux_flag'] == 0)\n",
    "                              & ((FSrc.loc[sx[fx], 'expMidptMJD'] <= SNIa_bdet_date[i]-300) \n",
    "                                 |(FSrc.loc[sx[fx], 'expMidptMJD'] >= SNIa_bdet_date[i]+500)))[0]\n",
    "                SNIa_offpeak_N[i, f] = len(dx)\n",
    "                if len(dx) > 0:\n",
    "                    SNIa_offpeak_min[i, f] = np.min(FSrc.loc[sx[fx[dx]], 'psfDiffFlux'])\n",
    "                    SNIa_offpeak_max[i, f] = np.max(FSrc.loc[sx[fx[dx]], 'psfDiffFlux'])\n",
    "                    SNIa_offpeak_mean[i, f] = np.mean(FSrc.loc[sx[fx[dx]], 'psfDiffFlux'])\n",
    "                    SNIa_offpeak_std[i, f] = np.std(FSrc.loc[sx[fx[dx]], 'psfDiffFlux'])\n",
    "                del dx\n",
    "            del fx\n",
    "    del sx"
   ]
  },
  {
   "cell_type": "markdown",
   "id": "21b2aca1-98a9-4d7e-95f7-d620961fc559",
   "metadata": {},
   "source": [
    "### 3.4. Plots to explore the off-peak forced flux statistics\n",
    "\n",
    "#### 3.4.1. Number of off-peak visits"
   ]
  },
  {
   "cell_type": "code",
   "execution_count": null,
   "id": "2d224da3-0f93-46ee-9d88-105862ccf89d",
   "metadata": {},
   "outputs": [],
   "source": [
    "fig, ax = plt.subplots(3, 2, figsize=(14,6), sharex=False)\n",
    "\n",
    "f = 0\n",
    "for i in range(3):\n",
    "    for j in range(2):\n",
    "        filt = plot_filter_labels[f]\n",
    "        ax[i,j].hist(SNIa_offpeak_N[:, f], bins=20, histtype='step', log=True,\n",
    "                     lw=1, ls='solid', color=plot_filter_colors[filt])\n",
    "        f += 1\n",
    "\n",
    "ax[2,0].set_xlabel('# Off-peak Visits')\n",
    "ax[2,1].set_xlabel('# Off-peak Visits')\n",
    "ax[0,0].set_ylabel('# SNIa')\n",
    "ax[1,0].set_ylabel('# SNIa')\n",
    "ax[2,0].set_ylabel('# SNIa')\n",
    "plt.show()"
   ]
  },
  {
   "cell_type": "markdown",
   "id": "65d02fe6-c923-4382-ab83-8ff81f2f1667",
   "metadata": {},
   "source": [
    "#### 3.4.2. Minimum, maximum, and mean of off-peak forced fluxes\n",
    "\n",
    "Plot the distribution of minimum (dotted), maximum (dashed), and mean (solid) difference-image forced photometry fluxes for the `DiaObjects` that are matched to a true SNIa.\n",
    "\n",
    "Notice that the x-axis limits for the 'y' band are broader.\n",
    "\n",
    "Grey lines indicate the _approximate_ 5-sigma detection limit in the processed visit images (PVI; direct images).\n",
    "\n",
    "`depths_PVI_mags` = the approximate 5-sigma limiting magnitudes for a single direct image, in magnitudes\n",
    "\n",
    "`SNR5_PVI_nJy` = same as `depths_PVI_mags`, but in flux.\n",
    "\n",
    "When the off-peak mean forced flux value is less than the 5-sigma limit, it can be considered a significant negative detection in the difference image."
   ]
  },
  {
   "cell_type": "code",
   "execution_count": null,
   "id": "f33a4616-e3e7-496f-ae34-38fd6c4f38b6",
   "metadata": {},
   "outputs": [],
   "source": [
    "depths_PVI_mags = np.asarray([23.9,25.0,24.7,24.0,23.3,22.1], dtype='float')\n",
    "SNR5_PVI_nJy = 10.0**((depths_PVI_mags - 31.4) / -2.5)"
   ]
  },
  {
   "cell_type": "code",
   "execution_count": null,
   "id": "b0340a75-045b-4384-b20d-f391121b4e87",
   "metadata": {},
   "outputs": [],
   "source": [
    "fig, ax = plt.subplots(3, 2, figsize=(14,6), sharex=False)\n",
    "\n",
    "f = 0\n",
    "for i in range(3):\n",
    "    for j in range(2):\n",
    "        filt = plot_filter_labels[f]\n",
    "        \n",
    "        ax[i,j].axvspan(-1.0 * SNR5_PVI_nJy[f], SNR5_PVI_nJy[f], alpha=0.2, \n",
    "                        color='grey', label='SNR<5')\n",
    "        ax[i,j].hist(SNIa_offpeak_min[:, f], bins=150, histtype='step', log=True,\n",
    "                     lw=1, ls='dotted', color=plot_filter_colors[filt], label='min')\n",
    "        ax[i,j].hist(SNIa_offpeak_max[:, f], bins=150, histtype='step', log=True,\n",
    "                     lw=1, ls='dashed', color=plot_filter_colors[filt], label='max')\n",
    "        ax[i,j].hist(SNIa_offpeak_mean[:, f], bins=150, histtype='step', log=True,\n",
    "                     lw=2, ls='solid', color=plot_filter_colors[filt], label='mean')\n",
    "\n",
    "        if filt == 'u': ax[i,j].set_xlim([-8000, 2000])\n",
    "        elif filt == 'g': ax[i,j].set_xlim([-10000, 3000])\n",
    "        elif filt == 'r': ax[i,j].set_xlim([-20000, 5000])\n",
    "        elif filt == 'i': ax[i,j].set_xlim([-20000, 5000])\n",
    "        elif filt == 'z': ax[i,j].set_xlim([-20000, 5000])\n",
    "        elif filt == 'y': ax[i,j].set_xlim([-20000, 5000])\n",
    "\n",
    "        ax[i,j].legend(loc='upper left')\n",
    "        f += 1\n",
    "\n",
    "ax[2,0].set_xlabel('Off-peak Forced Flux')\n",
    "ax[2,1].set_xlabel('Off-peak Forced Flux')\n",
    "ax[0,0].set_ylabel('# DiaObjects')\n",
    "ax[1,0].set_ylabel('# DiaObjects')\n",
    "ax[2,0].set_ylabel('# DiaObjects')\n",
    "plt.show()"
   ]
  },
  {
   "cell_type": "markdown",
   "id": "52ad4edc-342b-4c6d-a8f2-dfdd7193432f",
   "metadata": {},
   "source": [
    "#### 3.4.3. Mean vs. standard deviation in off-peak forced fluxes\n",
    "\n",
    "The plot below visualizes the standard deviation about the mean of the off-peak forced fluxes.\n",
    "\n",
    "Where the standard deviation is low, the mean is an accurate estimate of the off-peak flux.\n",
    "\n",
    "The plot shows that in most cases where the off-peak forced flux is \"significantly negative\", and detected with SNR>5 (outside the grey region), the standard deviation is consistently low (<500 nJy)."
   ]
  },
  {
   "cell_type": "code",
   "execution_count": null,
   "id": "48d94f29-9d08-45ed-abb4-e7340021fc5a",
   "metadata": {},
   "outputs": [],
   "source": [
    "fig, ax = plt.subplots(3, 2, figsize=(14,6), sharex=False)\n",
    "\n",
    "f = 0\n",
    "for i in range(3):\n",
    "    for j in range(2):\n",
    "        filt = plot_filter_labels[f]\n",
    "        \n",
    "        ax[i,j].axvspan(-1.0 * SNR5_PVI_nJy[f], SNR5_PVI_nJy[f], alpha=0.2, \n",
    "                        color='grey', label='SNR<5')\n",
    "        ax[i,j].plot(SNIa_offpeak_mean[:, f], SNIa_offpeak_std[:, f],\n",
    "                     plot_filter_symbols[filt], color=plot_filter_colors[filt])\n",
    "\n",
    "        if filt == 'u': ax[i,j].set_xlim([-8000, 1000])\n",
    "        elif filt == 'g': ax[i,j].set_xlim([-10000, 2000])\n",
    "        elif filt == 'r': ax[i,j].set_xlim([-20000, 2000])\n",
    "        elif filt == 'i': ax[i,j].set_xlim([-20000, 2000])\n",
    "        elif filt == 'z': ax[i,j].set_xlim([-20000, 2000])\n",
    "        elif filt == 'y': ax[i,j].set_xlim([-20000, 2000])\n",
    "        \n",
    "        ax[i,j].set_ylim([0,2000])\n",
    "        if filt == 'y': ax[i,j].set_ylim([0,4000])\n",
    "\n",
    "        # ax[i,j].legend(loc='upper left')\n",
    "        f += 1\n",
    "\n",
    "ax[2,0].set_xlabel('Mean Off-Peak Forced Flux')\n",
    "ax[2,1].set_xlabel('Mean')\n",
    "ax[0,0].set_ylabel('Std. Dev.')\n",
    "ax[1,0].set_ylabel('Std. Dev.')\n",
    "ax[2,0].set_ylabel('Std. Dev.')\n",
    "plt.show()"
   ]
  },
  {
   "cell_type": "markdown",
   "id": "0ef72376-c377-494d-b8af-499f92828264",
   "metadata": {},
   "source": [
    "### 3.5. Estimate the fraction of true SNIa with \"significantly negative\" off-peak difference-image forced fluxes\n",
    "\n",
    "Calculate the fraction of SNIa that have a mean forced flux during \"off-peak\" epochs that is \"significantly negative\" (i.e., with SNR > 5), for each filter.\n",
    "This is approximately the fraction of true SNIa affected by template contamination, per filter."
   ]
  },
  {
   "cell_type": "code",
   "execution_count": null,
   "id": "e01ec491-07e8-479a-80d7-945f49d961fe",
   "metadata": {},
   "outputs": [],
   "source": [
    "frac_filt = np.zeros(6, dtype='float')\n",
    "for f, filt in enumerate(plot_filter_labels):\n",
    "    fx = np.where(np.isfinite(SNIa_offpeak_mean[:, f]))[0]\n",
    "    tx = np.where(SNIa_offpeak_mean[fx, f] < -1.0 * SNR5_PVI_nJy[f])[0]\n",
    "    frac_filt[f] = np.round(float(len(tx)) / float(len(fx)), 3)\n",
    "    print(filt, frac_filt[f])\n",
    "    del fx, tx\n",
    "del frac_filt"
   ]
  },
  {
   "cell_type": "markdown",
   "id": "7a447733-b0bd-4415-8076-9f927a34e5b9",
   "metadata": {},
   "source": [
    "Calculate the fraction affected _in any filter_. "
   ]
  },
  {
   "cell_type": "code",
   "execution_count": null,
   "id": "94066098-0841-4ee8-b850-9a0ede4e87ed",
   "metadata": {},
   "outputs": [],
   "source": [
    "tempN = len(SNIa_offpeak_mean[:, f])\n",
    "tempflag1 = np.zeros(tempN, dtype='int')\n",
    "tempflag2 = np.zeros(tempN, dtype='int')\n",
    "\n",
    "for i in range(tempN):\n",
    "    for f, filt in enumerate(plot_filter_labels):\n",
    "        if np.isfinite(SNIa_offpeak_mean[i, f]):\n",
    "            tempflag1[i] = 1\n",
    "            if SNIa_offpeak_mean[i, f] < -1.0 * SNR5_PVI_nJy[f]:\n",
    "                tempflag2[i] = 1\n",
    "\n",
    "tx1 = np.where(tempflag1 == 1)[0]\n",
    "tx2 = np.where(tempflag2 == 1)[0]\n",
    "print(tempN, len(tx1), len(tx2))\n",
    "print(np.round(float(len(tx2)) / float(len(tx1)), 3))\n",
    "del tempN, tempflag1, tempflag2, tx1, tx2"
   ]
  },
  {
   "cell_type": "markdown",
   "id": "435e771b-3ab0-48fc-9d34-52d13a423977",
   "metadata": {},
   "source": [
    "This suggests that 50% of all SNIa are affected by template contamination in at least one band.\n",
    "\n",
    "Since the templates are generated from the third of images with the best seeing, it makes sense that SNIa would experience template contamination about a third of the time in a given filter. \n",
    "\n",
    "The reason why the _gri_ filters are affected more than _uzy_ is likely due to detectablity -- SNIa are fainter in _uzy_, and spend less time above the magnitude threshold, leading to fewer cases of template contamination which is also a smaller effect, less detectable by our brute method, when it does occur."
   ]
  },
  {
   "cell_type": "markdown",
   "id": "94e46dac-e335-43ce-8ecd-21ca1163cd51",
   "metadata": {},
   "source": [
    "## 4. Correct a lightcurve for template contamination\n",
    "\n",
    "### 4.1. Identify a SNIa to use for this demo\n",
    "\n",
    "Identify a few SNIa that seem particularly badly affected by template contamination."
   ]
  },
  {
   "cell_type": "code",
   "execution_count": null,
   "id": "1696e6cc-3a6f-44d2-97f3-cba5eba6e58c",
   "metadata": {},
   "outputs": [],
   "source": [
    "tx = np.where((SNIa_offpeak_mean[:, 1] < -1.0 * SNR5_PVI_nJy[1])\n",
    "             & (SNIa_offpeak_mean[:, 2] < -1.0 * SNR5_PVI_nJy[2])\n",
    "             & (SNIa_offpeak_mean[:, 3] < -1.0 * SNR5_PVI_nJy[3])\n",
    "             & (SNIa_offpeak_std[:, 1] < 500)\n",
    "             & (SNIa_offpeak_std[:, 2] < 500)\n",
    "             & (SNIa_offpeak_std[:, 3] < 500)\n",
    "             & (SNIa_offpeak_N[:, 1] > 30)\n",
    "             & (SNIa_offpeak_N[:, 2] > 30)\n",
    "             & (SNIa_offpeak_N[:, 3] > 30))[0]\n",
    "for x in tx:\n",
    "    print('%21s  %8.1f %8.1f %8.1f  %7.1f %7.1f %7.1f  %3i %3i %3i' % \n",
    "          (SNIa_diaObjectId[x], SNIa_offpeak_mean[x, 1], \n",
    "           SNIa_offpeak_mean[x, 2], SNIa_offpeak_mean[x, 3],\n",
    "           SNIa_offpeak_std[x, 1], SNIa_offpeak_std[x, 2],\n",
    "           SNIa_offpeak_std[x, 3], SNIa_offpeak_N[x, 3],\n",
    "           SNIa_offpeak_N[x, 1], SNIa_offpeak_N[x, 2]))\n",
    "del tx"
   ]
  },
  {
   "cell_type": "markdown",
   "id": "33bea930-c7e1-4466-99b8-6f9e9a1e3f5f",
   "metadata": {},
   "source": [
    "Choose one of the above to explore in more detail."
   ]
  },
  {
   "cell_type": "code",
   "execution_count": null,
   "id": "4232f977-92a9-45c5-b2aa-5bde82833e93",
   "metadata": {},
   "outputs": [],
   "source": [
    "use_id = 1822057892992253972"
   ]
  },
  {
   "cell_type": "code",
   "execution_count": null,
   "id": "074f2924-aa0f-42c0-81e9-55cd8b15833f",
   "metadata": {},
   "outputs": [],
   "source": [
    "snx = np.where(SNIa_diaObjectId == use_id)[0]\n",
    "fsx = np.where(FSrc['diaObjectId'] == use_id)[0]"
   ]
  },
  {
   "cell_type": "markdown",
   "id": "b7bbc302-69e1-4912-9c46-504176d08fd2",
   "metadata": {},
   "source": [
    "### 4.2. Plot the forced flux lightcurve\n",
    "\n",
    "Also plot the off-peak statistical measures of mean forced flux (dashed line) and a grey area marking +/- one standard deviation about the mean.\n",
    "\n",
    "The particular SNIa chosen, with `diaObjectId` = `1822057892992253972`, occurred near the end of the DC2 simulation and thus there are a great many off-peak visits to use to estimate the template contamination."
   ]
  },
  {
   "cell_type": "code",
   "execution_count": null,
   "id": "6bac0f82-9443-4e6f-8a4a-c8c0aba5e093",
   "metadata": {},
   "outputs": [],
   "source": [
    "fig, ax = plt.subplots(3, 2, figsize=(14,6), sharex=True)\n",
    "f = 0\n",
    "for i in range(3):\n",
    "    for j in range(2):\n",
    "        filt = plot_filter_labels[f]\n",
    "        \n",
    "        ax[i,j].axhline(0.0, lw=1, ls='solid', alpha=1, color='black')\n",
    "        ax[i,j].axhline(SNIa_offpeak_mean[snx, f], lw=2, ls='dashed', alpha=1, color='black')\n",
    "        templo = float(SNIa_offpeak_mean[snx, f] - SNIa_offpeak_std[snx, f])\n",
    "        temphi = float(SNIa_offpeak_mean[snx, f] + SNIa_offpeak_std[snx, f])\n",
    "        ax[i,j].axhspan(templo, temphi, alpha=0.4, color='grey')\n",
    "        del templo, temphi\n",
    "        \n",
    "        fx = np.where((FSrc.loc[fsx, 'band'] == filt) \n",
    "                      & (np.isfinite(FSrc.loc[fsx, 'psfDiffFlux'])))[0]\n",
    "        xvals = FSrc.loc[fsx[fx], 'expMidptMJD']\n",
    "        yvals = FSrc.loc[fsx[fx], 'psfDiffFlux']\n",
    "        yevals = FSrc.loc[fsx[fx], 'psfDiffFluxErr']\n",
    "        ax[i,j].errorbar(xvals, yvals, yevals, fmt=plot_filter_symbols[filt],\n",
    "                 color=plot_filter_colors[filt])\n",
    "        del fx, xvals, yvals, yevals, filt\n",
    "        \n",
    "        f += 1\n",
    "\n",
    "ax[2,0].set_xlabel('MJD')\n",
    "ax[2,1].set_xlabel('MJD')\n",
    "ax[0,0].set_ylabel('Forced Flux')\n",
    "ax[1,0].set_ylabel('Forced Flux')\n",
    "ax[2,0].set_ylabel('Forced Flux')\n",
    "plt.show()"
   ]
  },
  {
   "cell_type": "markdown",
   "id": "099ac385-fed6-4dcd-a10b-ef9731a61fe1",
   "metadata": {},
   "source": [
    "### 4.3. Apply the flux correction and re-plot\n",
    "\n",
    "To correct the forced flux values, subtract the value of `SNIa_offpeak_mean`.\n",
    "\n",
    "To include this correction in the error bars, add in quadrature the forced flux error and the value of `SNIa_offpeak_std`."
   ]
  },
  {
   "cell_type": "code",
   "execution_count": null,
   "id": "e3050735-8918-4b4c-a04e-4342c0f975dc",
   "metadata": {},
   "outputs": [],
   "source": [
    "fig, ax = plt.subplots(3, 2, figsize=(14,6), sharex=True)\n",
    "f = 0\n",
    "for i in range(3):\n",
    "    for j in range(2):\n",
    "        filt = plot_filter_labels[f]\n",
    "\n",
    "        ax[i,j].axhline(0.0, lw=1, ls='solid', alpha=1, color='black')\n",
    "        \n",
    "        fx = np.where((FSrc.loc[fsx, 'band'] == filt) \n",
    "                      & (np.isfinite(FSrc.loc[fsx, 'psfDiffFlux'])))[0]\n",
    "        xvals = FSrc.loc[fsx[fx], 'expMidptMJD']\n",
    "        yvals = FSrc.loc[fsx[fx], 'psfDiffFlux'] - SNIa_offpeak_mean[snx, f]\n",
    "        yevals = np.sqrt((FSrc.loc[fsx[fx], 'psfDiffFluxErr']**2)\n",
    "                         + (SNIa_offpeak_std[snx, f]**2))\n",
    "        ax[i,j].errorbar(xvals, yvals, yevals, fmt=plot_filter_symbols[filt],\n",
    "                 color=plot_filter_colors[filt])\n",
    "        del fx, xvals, yvals, yevals, filt\n",
    "\n",
    "        f += 1\n",
    "\n",
    "ax[0,0].set_xlim([60750, 61500])\n",
    "ax[2,0].set_xlabel('MJD')\n",
    "ax[2,1].set_xlabel('MJD')\n",
    "ax[0,0].set_ylabel('Corrected Forced Flux')\n",
    "ax[1,0].set_ylabel('Corrected Forced Flux')\n",
    "ax[2,0].set_ylabel('Corrected Forced Flux')\n",
    "plt.show()"
   ]
  },
  {
   "cell_type": "markdown",
   "id": "fb58efed-c0ae-4570-b793-0d7e638af6ca",
   "metadata": {},
   "source": [
    "## 5. Review images\n",
    "\n",
    "Use the butler for image retrieval."
   ]
  },
  {
   "cell_type": "code",
   "execution_count": null,
   "id": "da9132fa-5b5d-475d-8407-701730e577a7",
   "metadata": {},
   "outputs": [],
   "source": [
    "butler = Butler('dp02', collections='2.2i/runs/DP0.2')"
   ]
  },
  {
   "cell_type": "markdown",
   "id": "785af89e-8f87-4c14-9af4-23e538cd0858",
   "metadata": {},
   "source": [
    "### 5.1. Define a cutout function"
   ]
  },
  {
   "cell_type": "code",
   "execution_count": null,
   "id": "2b7ca5c8-c0b1-4f6f-9649-1b45f7e78c88",
   "metadata": {},
   "outputs": [],
   "source": [
    "def cutout_image(butler, ra, dec, visit, detector, \n",
    "                 imageType='goodSeeingDiff_templateExp', \n",
    "                 cutoutSideLength=51, **kwargs):\n",
    "    \n",
    "    \"\"\"\n",
    "    Produce a cutout from a calexp at the given ra, dec position.\n",
    "\n",
    "    Adapted from cutout_coadd which was adapted from a DC2 tutorial\n",
    "    notebook by Michael Wood-Vasey.\n",
    "\n",
    "    Parameters\n",
    "    ----------\n",
    "    butler: lsst.daf.persistence.Butler\n",
    "        Servant providing access to a data repository\n",
    "    ra: float\n",
    "        Right ascension of the center of the cutout, in degrees\n",
    "    dec: float\n",
    "        Declination of the center of the cutout, in degrees\n",
    "    visit: int\n",
    "        Visit id\n",
    "    detector: int\n",
    "        Detector id\n",
    "    imageType: str\n",
    "        Either 'goodSeeingDiff_templateExp' or 'goodSeeingDiff_differenceExp'\n",
    "    cutoutSideLength: float [optional]\n",
    "        Size of the cutout region in pixels.\n",
    "\n",
    "    Returns\n",
    "    -------\n",
    "    MaskedImage\n",
    "    \"\"\"\n",
    "    \n",
    "    dataId = {'visit': visit, 'detector': detector}    \n",
    "    radec = geom.SpherePoint(ra, dec, geom.degrees)\n",
    "    cutoutSize = geom.ExtentI(cutoutSideLength, cutoutSideLength)    \n",
    "    image_wcs = butler.get(imageType+'.wcs', **dataId)\n",
    "    xy = geom.PointI(image_wcs.skyToPixel(radec))\n",
    "    bbox = geom.BoxI(xy - cutoutSize // 2, cutoutSize)\n",
    "    parameters = {'bbox': bbox}\n",
    "    cutout_image = butler.get(imageType, parameters=parameters, **dataId)\n",
    "\n",
    "    return cutout_image"
   ]
  },
  {
   "cell_type": "markdown",
   "id": "37f99f70-66df-4234-a6e2-a9dc579f7421",
   "metadata": {},
   "source": [
    "### 5.2. Display the r-band template and difference images for 2 visits\n",
    "\n",
    "First, we need the selected SNIa's RA and Dec."
   ]
  },
  {
   "cell_type": "code",
   "execution_count": null,
   "id": "520a3042-f279-4e61-ac8e-f18ce93d536b",
   "metadata": {},
   "outputs": [],
   "source": [
    "sn_ra = FSrc.loc[fsx[0], 'coord_ra']\n",
    "sn_dec = FSrc.loc[fsx[0], 'coord_dec']\n",
    "print(sn_ra, sn_dec)"
   ]
  },
  {
   "cell_type": "markdown",
   "id": "aac3f62b-80e3-4927-9b65-4b55aed6117a",
   "metadata": {},
   "source": [
    "Choose two visits from around the SNIa explosion."
   ]
  },
  {
   "cell_type": "code",
   "execution_count": null,
   "id": "2135f54f-ba8a-419e-b58e-dbc72efc154a",
   "metadata": {},
   "outputs": [],
   "source": [
    "tx = np.where((FSrc.loc[fsx, 'band'] == 'r')\n",
    "              & (FSrc.loc[fsx, 'expMidptMJD'] > 61200)\n",
    "              & (FSrc.loc[fsx, 'expMidptMJD'] < 61310))[0]\n",
    "for x in tx:\n",
    "    print(FSrc.loc[fsx[x], 'expMidptMJD'], FSrc.loc[fsx[x], 'psfDiffFlux'],\n",
    "          FSrc.loc[fsx[x], 'visitId'], FSrc.loc[fsx[x], 'detector'], )"
   ]
  },
  {
   "cell_type": "code",
   "execution_count": null,
   "id": "4a9474aa-b67c-47e3-b93d-53875eaeac87",
   "metadata": {},
   "outputs": [],
   "source": [
    "use_visit_dets = np.asarray([[1155562, 73], [1171793, 68]], dtype='int')"
   ]
  },
  {
   "cell_type": "markdown",
   "id": "909949a2-0716-4d9b-9513-07b3985c2e4d",
   "metadata": {},
   "source": [
    "Plot the template at left, and the difference at right, for the two selected visits."
   ]
  },
  {
   "cell_type": "code",
   "execution_count": null,
   "id": "47854ada-27cf-4539-b423-dcae51828d5b",
   "metadata": {},
   "outputs": [],
   "source": [
    "temp1 = cutout_image(butler, sn_ra, sn_dec, \n",
    "                     use_visit_dets[0,0], use_visit_dets[0,1], \n",
    "                     imageType='goodSeeingDiff_templateExp')\n",
    "diff1 = cutout_image(butler, sn_ra, sn_dec, \n",
    "                     use_visit_dets[0,0], use_visit_dets[0,1], \n",
    "                     imageType='goodSeeingDiff_differenceExp')\n",
    "temp2 = cutout_image(butler, sn_ra, sn_dec, \n",
    "                     use_visit_dets[1,0], use_visit_dets[1,1], \n",
    "                     imageType='goodSeeingDiff_templateExp')\n",
    "diff2 = cutout_image(butler, sn_ra, sn_dec, \n",
    "                     use_visit_dets[1,0], use_visit_dets[1,1], \n",
    "                     imageType='goodSeeingDiff_differenceExp')"
   ]
  },
  {
   "cell_type": "code",
   "execution_count": null,
   "id": "304c060e-1a11-41f4-b7a6-8070238b0679",
   "metadata": {},
   "outputs": [],
   "source": [
    "fig, ax = plt.subplots(2, 2, figsize=(8, 7))\n",
    "\n",
    "plt.sca(ax[0, 0])  # set the first axis as current\n",
    "display1 = afwDisplay.Display(frame=fig)\n",
    "display1.scale('linear', 'zscale')\n",
    "display1.mtv(temp1.image)\n",
    "\n",
    "plt.sca(ax[0, 1])  # set the second axis as current\n",
    "display2 = afwDisplay.Display(frame=fig)\n",
    "display2.scale('linear', 'zscale')\n",
    "display2.mtv(diff1.image)\n",
    "\n",
    "plt.sca(ax[1, 0])  # set the second axis as current\n",
    "display3 = afwDisplay.Display(frame=fig)\n",
    "display3.scale('linear', 'zscale')\n",
    "display3.mtv(temp2.image)\n",
    "\n",
    "plt.sca(ax[1, 1])  # set the second axis as current\n",
    "display4 = afwDisplay.Display(frame=fig)\n",
    "display4.scale('linear', 'zscale')\n",
    "display4.mtv(diff2.image)\n",
    "\n",
    "plt.tight_layout()\n",
    "plt.show()"
   ]
  },
  {
   "cell_type": "code",
   "execution_count": null,
   "id": "8def63e3-970e-4c14-a3ec-216055736663",
   "metadata": {},
   "outputs": [],
   "source": []
  }
 ],
 "metadata": {
  "kernelspec": {
   "display_name": "LSST",
   "language": "python",
   "name": "lsst"
  },
  "language_info": {
   "codemirror_mode": {
    "name": "ipython",
    "version": 3
   },
   "file_extension": ".py",
   "mimetype": "text/x-python",
   "name": "python",
   "nbconvert_exporter": "python",
   "pygments_lexer": "ipython3",
   "version": "3.10.5"
  }
 },
 "nbformat": 4,
 "nbformat_minor": 5
}
