{
 "cells": [
  {
   "cell_type": "markdown",
   "id": "f5d0f21b-e48a-49d0-9df1-c1a5bb72522b",
   "metadata": {},
   "source": [
    "# Quantify and Correct Template for Contamination\n",
    "\n",
    "Contact author: Melissa Graham\n",
    "\n",
    "Date last verified to run: Fri Dec 23, 2022\n",
    "\n",
    "RSP environment version: Weekly 2022_40\n",
    "\n",
    "\n",
    "**STATUS** Needs to be redone. Using the `DiaObject` minimum detected flux to evaluate the fraction of SNIa that experience template contamination seems to be a great overestimate when compared with the fraction derived from using the `ForcedSourceOnDiaObjects`. So start it all over but only use `ForcedSourceOnDiaObjects`.\n",
    "\n",
    "\n",
    "## 1. Introduction\n",
    "\n",
    "For DP0.2, the template images were constructed using the 30% of the images with the best seeing over the 6-year DC2 simulation.\n",
    "\n",
    "This results in some flux in the template images (\"template contamination\") for some supernovae which is then subtracted during difference image analysis, leading to negative or reduced difference-image fluxes.\n",
    "\n",
    "Section 3 demonstrates that ~45% of SNIa lightcurves are affected by template contamination.\n",
    "\n",
    "Section 4 demonstrates a method for correcting for template contamination using the `ForcedSourceOnDiaObjects` catalog, which has an uncertainty of 10-20%.\n",
    "\n",
    "### 1.1. Import packages"
   ]
  },
  {
   "cell_type": "code",
   "execution_count": null,
   "id": "820d15e3-b902-434f-9e65-d29dd978ecf5",
   "metadata": {},
   "outputs": [],
   "source": [
    "import time\n",
    "import numpy as np\n",
    "import matplotlib\n",
    "import matplotlib.pyplot as plt\n",
    "\n",
    "from astropy.units import UnitsWarning\n",
    "from astropy.coordinates import SkyCoord\n",
    "from astropy.coordinates import match_coordinates_sky\n",
    "import astropy.units as u\n",
    "\n",
    "import pandas\n",
    "pandas.set_option('display.max_rows', 1000)\n",
    "\n",
    "from lsst.rsp import get_tap_service, retrieve_query"
   ]
  },
  {
   "cell_type": "markdown",
   "id": "33eea253-82f8-48e1-8f55-84cc971d8c14",
   "metadata": {},
   "source": [
    "### 1.2. Set global parameters and functions"
   ]
  },
  {
   "cell_type": "code",
   "execution_count": null,
   "id": "adbd96f8-2003-4b98-8e3f-70018a4a9223",
   "metadata": {},
   "outputs": [],
   "source": [
    "service = get_tap_service()"
   ]
  },
  {
   "cell_type": "code",
   "execution_count": null,
   "id": "09929498-fac5-4ef4-919d-3396c813b1cd",
   "metadata": {},
   "outputs": [],
   "source": [
    "plot_filter_labels = ['u', 'g', 'r', 'i', 'z', 'y']\n",
    "plot_filter_colors = {'u' : '#56b4e9', 'g' : '#008060', 'r' : '#ff4000',\n",
    "                      'i' : '#850000', 'z' : '#6600cc', 'y' : '#000000'}\n",
    "plot_filter_symbols = {'u' : 'o', 'g' : '^', 'r' : 'v', \n",
    "                       'i' : 's', 'z' : '*', 'y' : 'p'}"
   ]
  },
  {
   "cell_type": "markdown",
   "id": "cde075e6-e6f8-410e-a254-5f3e56a304d9",
   "metadata": {},
   "source": [
    "## 2. Establish a sample of SNIa\n",
    "\n",
    "### 2.1. Get a large sample of z<0.5 true SNIa\n",
    "\n",
    "Use a radius = 4 degree cone search near the center of DC2.\n",
    "\n",
    "This should return around 10416 true SNIa and take < 2 minutes."
   ]
  },
  {
   "cell_type": "code",
   "execution_count": null,
   "id": "6d41ff8e-d9a4-40df-904e-45650a35c984",
   "metadata": {},
   "outputs": [],
   "source": [
    "%%time\n",
    "query = \"SELECT mt.id_truth_type, ts.ra, ts.dec, ts.truth_type \"\\\n",
    "        \"FROM dp02_dc2_catalogs.MatchesTruth AS mt \"\\\n",
    "        \"JOIN dp02_dc2_catalogs.TruthSummary AS ts ON mt.id_truth_type = ts.id_truth_type \"\\\n",
    "        \"WHERE CONTAINS(POINT('ICRS', ra, dec), CIRCLE('ICRS', 57.5, -36.5, 4)) = 1 \"\\\n",
    "        \"AND ts.truth_type = 3 AND ts.redshift < 0.5\"\n",
    "results = service.search(query)\n",
    "del query"
   ]
  },
  {
   "cell_type": "markdown",
   "id": "1a492f1c-dd76-4678-8701-44e42851ad90",
   "metadata": {},
   "source": [
    "Convert results to a pandas table with `to_table().to_pandas()`."
   ]
  },
  {
   "cell_type": "code",
   "execution_count": null,
   "id": "c721fdf0-ad04-4ea6-9358-e014f0bbde11",
   "metadata": {},
   "outputs": [],
   "source": [
    "TrueSNIa = results.to_table().to_pandas()\n",
    "del results\n",
    "print('len(TrueSNIa) = ', len(TrueSNIa))"
   ]
  },
  {
   "cell_type": "markdown",
   "id": "2168402c-f894-49d2-a9a8-31ba4937b559",
   "metadata": {},
   "source": [
    "Option to display table contents."
   ]
  },
  {
   "cell_type": "code",
   "execution_count": null,
   "id": "04a70b6e-a742-4031-a875-c183664c44db",
   "metadata": {},
   "outputs": [],
   "source": [
    "# TrueSNIa"
   ]
  },
  {
   "cell_type": "markdown",
   "id": "fd170362-aaca-485f-acfb-9e15fe34c456",
   "metadata": {},
   "source": [
    "### 2.2. Get a large sample of `DiaObjects`\n",
    "\n",
    "Retrieve DiaObjects from the same region which were detected with a maximum flux of at least 1000 nJy in the r- and i-bands, and at least 5 detections in r- and i-bands.\n",
    "\n",
    "SNIa that have a redshift < 0.5 and were detected near peak brightness would meet this criteria.\n",
    "\n",
    "This should return 116953 `DiaObjects` and take < 1 minute.\n",
    "\n",
    "Convert results to a pandas table with `to_table().to_pandas()`."
   ]
  },
  {
   "cell_type": "code",
   "execution_count": null,
   "id": "5f17f8c7-5fed-4b12-9ba3-54a11ddfbfd3",
   "metadata": {},
   "outputs": [],
   "source": [
    "%%time\n",
    "query = \"SELECT diaObjectId, ra, decl \"\\\n",
    "        \"FROM dp02_dc2_catalogs.DiaObject \"\\\n",
    "        \"WHERE CONTAINS(POINT('ICRS', ra, decl), CIRCLE('ICRS', 57.5, -36.5, 4)) = 1 \"\\\n",
    "        \"AND rPSFluxMax > 1000 AND iPSFluxMax > 1000 \"\\\n",
    "        \"AND rPSFluxNdata > 5 AND iPSFluxNdata > 5\"\n",
    "results = service.search(query)\n",
    "del query"
   ]
  },
  {
   "cell_type": "markdown",
   "id": "0546096c-06b1-4d78-bc28-6313e0f65b65",
   "metadata": {},
   "source": [
    "Convert results to a pandas table with `to_table().to_pandas()`."
   ]
  },
  {
   "cell_type": "code",
   "execution_count": null,
   "id": "a4a9e29f-c6cf-4ca8-ba3a-85cc23529ba6",
   "metadata": {},
   "outputs": [],
   "source": [
    "DiaObjs = results.to_table().to_pandas()\n",
    "del results\n",
    "print('len(DiaObjs) = ', len(DiaObjs))"
   ]
  },
  {
   "cell_type": "markdown",
   "id": "fb078a05-e925-45fa-9579-7eb22e450fcf",
   "metadata": {},
   "source": [
    "Option to display table contents."
   ]
  },
  {
   "cell_type": "code",
   "execution_count": null,
   "id": "4efaacc5-2af6-4019-921f-9ed1b563aab0",
   "metadata": {},
   "outputs": [],
   "source": [
    "# DiaObjs"
   ]
  },
  {
   "cell_type": "markdown",
   "id": "6ba05333-a805-4799-a46b-8b0c7634c8c9",
   "metadata": {},
   "source": [
    "### 2.3. Match `TrueSNIa` to `DiaObjs`\n",
    "\n",
    "First, use `astropy` to create arrays of sky coordinates (RA, Dec) using `SkyCoord`."
   ]
  },
  {
   "cell_type": "code",
   "execution_count": null,
   "id": "ab40a1e3-504d-4e3a-b3bd-58ad4f87d429",
   "metadata": {},
   "outputs": [],
   "source": [
    "TrueSNIa_skycoord = SkyCoord(ra=TrueSNIa.loc[:, 'ra'].values*u.degree, \n",
    "                             dec=TrueSNIa.loc[:, 'dec'].values*u.degree)\n",
    "DiaObjs_skycoord = SkyCoord(ra=DiaObjs.loc[:, 'ra'].values*u.degree, \n",
    "                            dec=DiaObjs.loc[:, 'decl'].values*u.degree)"
   ]
  },
  {
   "cell_type": "markdown",
   "id": "312efbb7-384d-4fbb-ac67-46df29840a4b",
   "metadata": {},
   "source": [
    "Use `match_coordinates_sky` to find the nearest `DiaObjs` table entry for each `TrueSNIa` table entry.\n",
    "\n",
    "`idx` = the index in `DiaObjs` to the nearest match of each `TrueSNIa`\n",
    "\n",
    "`d2d` = the two-dimenstional distance to the nearest match, in arcsec\n",
    "\n",
    "`d3d` = a three-dimensional distance is returned, but meaningless for our use-case"
   ]
  },
  {
   "cell_type": "code",
   "execution_count": null,
   "id": "5e57b4a0-19f2-4297-9478-c42f75526829",
   "metadata": {},
   "outputs": [],
   "source": [
    "idx, d2d, d3d = match_coordinates_sky(TrueSNIa_skycoord, DiaObjs_skycoord)"
   ]
  },
  {
   "cell_type": "markdown",
   "id": "9fbb2e35-f706-47b7-b8f9-40a8c2c8a102",
   "metadata": {},
   "source": [
    "In the figure below, the distribution of 2d distances to the nearest `DiaObjs` for each `TrueSNIa` shows that applying a maximum of 1 arcsecond as a \"real\" match would be appropriate."
   ]
  },
  {
   "cell_type": "code",
   "execution_count": null,
   "id": "464f44b2-fd17-4e6e-b36b-bb9a6f09dc1b",
   "metadata": {},
   "outputs": [],
   "source": [
    "fig = plt.figure(figsize=(4, 2))\n",
    "plt.hist(np.log10(d2d.arcsec), bins=50)\n",
    "plt.xlabel('log distance to nearest match [arcsec]')\n",
    "plt.show()"
   ]
  },
  {
   "cell_type": "markdown",
   "id": "5bcd2e1f-89df-496e-9dc7-ad5d8ff16369",
   "metadata": {},
   "source": [
    "Print the number of `TrueSNIa` that are matched within 1 arcsecond of a `DiaObjs`.\n",
    "\n",
    "This will show how many `DiaObjs` there are with which to explore template contamination."
   ]
  },
  {
   "cell_type": "code",
   "execution_count": null,
   "id": "6f0c7a5c-58af-4e3c-87e4-89b1f569a8b6",
   "metadata": {},
   "outputs": [],
   "source": [
    "tx = np.where(d2d.arcsec < 1.0)[0]\n",
    "print(len(tx))\n",
    "del tx"
   ]
  },
  {
   "cell_type": "markdown",
   "id": "026c5d43-6003-477f-a75a-3dee8d0902f6",
   "metadata": {},
   "source": [
    "Add columns to the `TrueSNIa` table to store the match information for good matches.\n",
    "\n",
    "Use negative values as the placeholder."
   ]
  },
  {
   "cell_type": "code",
   "execution_count": null,
   "id": "1ef4212f-e6f2-4cfe-a6aa-a022a02ea216",
   "metadata": {},
   "outputs": [],
   "source": [
    "TrueSNIa['DiaObjs_idx'] = np.zeros(len(TrueSNIa), dtype='int') - 1\n",
    "TrueSNIa['DiaObjs_d2d'] = np.zeros(len(TrueSNIa), dtype='float') - 1.0"
   ]
  },
  {
   "cell_type": "markdown",
   "id": "2cb7dee6-40f6-44a7-9dde-038cb6da1681",
   "metadata": {},
   "source": [
    "Fill in the database with match information for the good matches only."
   ]
  },
  {
   "cell_type": "code",
   "execution_count": null,
   "id": "4dff7739-e49e-48b2-ac1f-e6cb33f646f2",
   "metadata": {},
   "outputs": [],
   "source": [
    "d2d_arcsec = d2d.arcsec\n",
    "tx = np.where(d2d.arcsec < 1.0)[0]\n",
    "for x in tx:\n",
    "    TrueSNIa.loc[x, 'DiaObjs_idx'] = idx[x]\n",
    "    TrueSNIa.loc[x, 'DiaObjs_d2d'] = d2d_arcsec[x]\n",
    "del tx, d2d_arcsec\n",
    "del idx, d2d, d3d"
   ]
  },
  {
   "cell_type": "markdown",
   "id": "ccee3048-a780-4857-8959-93a288b9ec79",
   "metadata": {},
   "source": [
    "Option to see how the two columns have been added to the table, with negative values used as placeholders for no match information."
   ]
  },
  {
   "cell_type": "code",
   "execution_count": null,
   "id": "0d5edf3c-3600-4be9-ab49-dbe400e53746",
   "metadata": {},
   "outputs": [],
   "source": [
    "# TrueSNIa"
   ]
  },
  {
   "cell_type": "markdown",
   "id": "542092b5-1a71-48d0-b1ac-53b9ad466819",
   "metadata": {},
   "source": [
    "## 3. Estimate fraction of SNIa affected by template contamination\n",
    "\n",
    "Without template contamination, supernovae would never be detected with a negative flux value in a difference image.\n",
    "\n",
    "In other words, the minimum `DiaSource` difference-image fluxes for `DiaObjects` matched with true SNIa _should_ always be positive.\n",
    "\n",
    "The fraction which are negative indicates approximately how many true SNIa `DiaObjects` are impacted by template contamination.\n",
    "\n",
    "\n",
    "### 3.1. Retrieve minimum detected difference-image fluxes for true SNIa\n",
    "\n",
    "First create a string, formatted as a tuple, that contains a list of all the `diaObjectId` values for the elements of `DiaObjs` matched to `TrueSNIa`."
   ]
  },
  {
   "cell_type": "code",
   "execution_count": null,
   "id": "ef074521-db02-4fa9-85ec-0c7e777896d8",
   "metadata": {},
   "outputs": [],
   "source": [
    "tuple_string_diaObjectId = '('\n",
    "tx = np.where(TrueSNIa.loc[:, 'DiaObjs_idx'] >= 0)[0]\n",
    "for i, x in enumerate(tx):\n",
    "    tuple_string_diaObjectId += str(DiaObjs.loc[TrueSNIa.loc[x, 'DiaObjs_idx'], 'diaObjectId'])\n",
    "    if i < len(tx)-1:\n",
    "        tuple_string_diaObjectId += ','\n",
    "    else:\n",
    "        tuple_string_diaObjectId += ')'\n",
    "del tx"
   ]
  },
  {
   "cell_type": "markdown",
   "id": "4a5bb320-b0b5-4372-912d-7621ec4b1a35",
   "metadata": {},
   "source": [
    "Option to view the string-formatted tuple."
   ]
  },
  {
   "cell_type": "code",
   "execution_count": null,
   "id": "3545255c-adc7-4960-b76d-30cf32028995",
   "metadata": {},
   "outputs": [],
   "source": [
    "# print(tuple_string_diaObjectId)"
   ]
  },
  {
   "cell_type": "markdown",
   "id": "3b2f2789-f9dc-4970-94d0-2e62d611011a",
   "metadata": {},
   "source": [
    "After this, we don't use the DiaObjs or TrueSNIa dataframes again."
   ]
  },
  {
   "cell_type": "code",
   "execution_count": null,
   "id": "a00221b2-f3dd-4e72-a748-58cef514fbd6",
   "metadata": {},
   "outputs": [],
   "source": [
    "del DiaObjs, TrueSNIa"
   ]
  },
  {
   "cell_type": "markdown",
   "id": "293735a3-3994-4bbd-a187-cdb29dc3385b",
   "metadata": {},
   "source": [
    "Retrieve the minimum difference-image flux detections from the `DiaObject` catalog."
   ]
  },
  {
   "cell_type": "code",
   "execution_count": null,
   "id": "c2381b67-71f8-401b-872d-8f02896fb08e",
   "metadata": {},
   "outputs": [],
   "source": [
    "%%time\n",
    "query = \"SELECT diaObjectId, uPSFluxMin, gPSFluxMin, rPSFluxMin, \"\\\n",
    "        \"iPSFluxMin, zPSFluxMin, yPSFluxMin \"\\\n",
    "        \"FROM dp02_dc2_catalogs.DiaObject \"\\\n",
    "        \"WHERE diaObjectId IN \"+tuple_string_diaObjectId\n",
    "results = service.search(query)\n",
    "del query"
   ]
  },
  {
   "cell_type": "code",
   "execution_count": null,
   "id": "bff63e54-5b41-4795-ac6a-3528cc8be45c",
   "metadata": {},
   "outputs": [],
   "source": [
    "DiaObj_PSFluxMin = results.to_table().to_pandas()\n",
    "del results"
   ]
  },
  {
   "cell_type": "markdown",
   "id": "5dc42cd7-b0d2-48cd-b6fb-1507edcaeb28",
   "metadata": {},
   "source": [
    "### 3.2. Plot distribution of minimum detected difference-image fluxes for true SNIa\n",
    "\n",
    "Below, plot the distribution of minimum detected fluxes (i.e., from `DiaSources`) by filter (colored histograms) for `DiaObjects` matched to SNIa.\n",
    "\n",
    "Notice that the x-axis limits for the 'y' band are broader.\n",
    "\n",
    "Grey lines indicate the _approximate_ 5-sigma detection limit in the processed visit images (PVI; direct images).\n",
    "\n",
    "`depths_PVI_mags` = the approximate 5-sigma limiting magnitudes for a single direct image, in magnitudes\n",
    "\n",
    "`SNR5_PVI_nJy` = same as `depths_PVI_mags`, but in flux"
   ]
  },
  {
   "cell_type": "code",
   "execution_count": null,
   "id": "29c417f5-fda1-490e-9bd9-3886fd53a36a",
   "metadata": {},
   "outputs": [],
   "source": [
    "depths_PVI_mags = np.asarray([23.9,25.0,24.7,24.0,23.3,22.1], dtype='float')\n",
    "SNR5_PVI_nJy = 10.0**((depths_PVI_mags - 31.4) / -2.5)"
   ]
  },
  {
   "cell_type": "code",
   "execution_count": null,
   "id": "1ddfdd8d-bd29-4d83-9cfa-caf020bdbae9",
   "metadata": {},
   "outputs": [],
   "source": [
    "fig, ax = plt.subplots(3, 2, figsize=(14,6), sharex=False)\n",
    "\n",
    "f = 0\n",
    "for i in range(3):\n",
    "    for j in range(2):\n",
    "        filt = plot_filter_labels[f]\n",
    "        \n",
    "        ax[i,j].axvline(-1.0 * SNR5_PVI_nJy[f], alpha=0.5, color='grey')\n",
    "        ax[i,j].axvline(SNR5_PVI_nJy[f], alpha=0.5, color='grey', label='SNR=5')\n",
    "\n",
    "        tx = np.where((DiaObj_PSFluxMin[filt+'PSFluxMin'] > -20000)\n",
    "                      & (DiaObj_PSFluxMin[filt+'PSFluxMin'] < 20000))[0]\n",
    "        ax[i,j].hist(DiaObj_PSFluxMin.loc[tx, filt+'PSFluxMin'], bins=100, histtype='step',\n",
    "                     lw=2, color=plot_filter_colors[filt], label=filt)\n",
    "        del tx\n",
    "\n",
    "        ax[i,j].legend(loc='best')\n",
    "        if filt == 'y':\n",
    "            ax[i,j].set_xlim([-20000, 20000])\n",
    "        else:\n",
    "            ax[i,j].set_xlim([-5000, 5000])\n",
    "        f += 1\n",
    "\n",
    "ax[2,0].set_xlabel('DiaSource PSFluxMin')\n",
    "ax[2,1].set_xlabel('DiaSource PSFluxMin')\n",
    "ax[0,0].set_ylabel('# DiaObjects')\n",
    "ax[1,0].set_ylabel('# DiaObjects')\n",
    "ax[2,0].set_ylabel('# DiaObjects')\n",
    "plt.show()"
   ]
  },
  {
   "cell_type": "markdown",
   "id": "cda45e89-e9d2-4a3b-9823-6a8dbb141796",
   "metadata": {},
   "source": [
    "Above, it is a bit odd that there are detections within the vertical lines, but this is probably (at least in part) due to the fact that _estimated_ PVI depths are used.\n",
    "\n",
    "### 3.3. Calculate fraction of true SNIa with \"significantly negative\" minimum detected difference-image fluxes\n",
    "\n",
    "Below, calculate the fraction of `DiaObjects` matched to SNIa that have a `PSFluxMin` that was detected to be significantly negative (i.e., with SNR > 5), for each filter.\n",
    "\n",
    "This is approximately the number of true SNIa affected by template contamination, per filter."
   ]
  },
  {
   "cell_type": "code",
   "execution_count": null,
   "id": "491ac823-4565-435a-af9c-03058e3162bb",
   "metadata": {},
   "outputs": [],
   "source": [
    "frac_filt = np.zeros(6, dtype='float')\n",
    "for f, filt in enumerate(plot_filter_labels):\n",
    "    fx = np.where(np.isfinite(DiaObj_PSFluxMin[filt+'PSFluxMin']))[0]\n",
    "    tx = np.where(DiaObj_PSFluxMin.loc[fx, filt+'PSFluxMin'] < -1.0 * SNR5_PVI_nJy[f])[0]\n",
    "    frac_filt[f] = np.round(float(len(tx)) / float(len(fx)), 3)\n",
    "    print(filt, frac_filt[f])\n",
    "del frac_filt"
   ]
  },
  {
   "cell_type": "markdown",
   "id": "3d6e19ff-302d-4526-905e-41b48076ec7e",
   "metadata": {},
   "source": [
    "Calculate the fraction of `DiaObjects` matched to SNIa that have a `PSFluxMin` that was detected to be significantly negative _in any filter_. "
   ]
  },
  {
   "cell_type": "code",
   "execution_count": null,
   "id": "8cb82667-f71d-42b0-965f-977b16111a2c",
   "metadata": {},
   "outputs": [],
   "source": [
    "flag = np.zeros(len(DiaObj_PSFluxMin), dtype='int')\n",
    "for i in range(len(DiaObj_PSFluxMin)):\n",
    "    for f, filt in enumerate(plot_filter_labels):\n",
    "        if (np.isfinite(DiaObj_PSFluxMin.loc[i, filt+'PSFluxMin'])) \\\n",
    "           & (DiaObj_PSFluxMin.loc[i, filt+'PSFluxMin'] < -1.0 * SNR5_PVI_nJy[f]):\n",
    "            flag[i] = 1\n",
    "\n",
    "tx = np.where(flag == 1)[0]\n",
    "print(np.round(float(len(tx)) / float(len(DiaObj_PSFluxMin)), 3))\n",
    "del flag, tx"
   ]
  },
  {
   "cell_type": "markdown",
   "id": "18554636-91bf-450c-958e-9ab2c7596d59",
   "metadata": {},
   "source": [
    "**Thus, the fraction of true SNIa affected by template contamination is about 75%.**\n",
    "\n",
    "**That seems way too high?**\n",
    "\n",
    "This does not include true SNIa for which there was a \"small\" amount of flux in the template, where \"small\" means an amount of flux less than the 5-sigma limiting flux for a single direct image in that filter. "
   ]
  },
  {
   "cell_type": "code",
   "execution_count": null,
   "id": "284f466d-a6ba-438e-adb4-1c978637688b",
   "metadata": {},
   "outputs": [],
   "source": [
    "del DiaObj_PSFluxMin"
   ]
  },
  {
   "cell_type": "markdown",
   "id": "9c97f155-2abc-4479-92a4-9e1b8fda1099",
   "metadata": {},
   "source": [
    "## 4. Generate a correction for template contamination\n",
    "\n",
    "Use the forced photometry in the `ForcedSourceOnDiaObjects` table to generate and then apply a correction for template contamination.\n",
    "\n",
    "### 4.1. Retrieve difference-image forced photometry\n",
    "\n",
    "The PSF-fit fluxes are available in `ForcedSourceOnDiaObjects`, but to get the visit dates requires a join with the `CcdVisit` table.\n",
    "\n",
    "Retrieve data from `ForcedSourceOnDiaObjects` for all forced sources associated with a `DiaObject` which was matched to a true SNIa."
   ]
  },
  {
   "cell_type": "code",
   "execution_count": null,
   "id": "2379a010-bdcc-44b2-9d64-cc3d57104c94",
   "metadata": {},
   "outputs": [],
   "source": [
    "%%time\n",
    "query = \"SELECT fsodo.diaObjectId, fsodo.ccdVisitId, \"\\\n",
    "        \"fsodo.psfDiffFlux, fsodo.psfDiffFluxErr, fsodo.psfDiffFlux_flag, \"\\\n",
    "        \"ccdv.ccdVisitId, ccdv.band, ccdv.expMidptMJD \"\\\n",
    "        \"FROM dp02_dc2_catalogs.ForcedSourceOnDiaObject AS fsodo \"\\\n",
    "        \"JOIN dp02_dc2_catalogs.CcdVisit AS ccdv ON ccdv.ccdVisitId = fsodo.ccdVisitId \"\\\n",
    "        \"WHERE fsodo.diaObjectId IN \"+tuple_string_diaObjectId\n",
    "results = service.search(query)\n",
    "del query"
   ]
  },
  {
   "cell_type": "markdown",
   "id": "846c51b9-3a5d-4ea2-86d9-9b5aba8b0043",
   "metadata": {},
   "source": [
    "Convert results to a pandas table."
   ]
  },
  {
   "cell_type": "code",
   "execution_count": null,
   "id": "13b44511-5638-483c-9245-bdbeee028ced",
   "metadata": {},
   "outputs": [],
   "source": [
    "FSrc = results.to_table().to_pandas()\n",
    "del results"
   ]
  },
  {
   "cell_type": "markdown",
   "id": "5aaff6d8-70f4-46ba-955c-7eb1f367f59c",
   "metadata": {},
   "source": [
    "Option to view the table of data retrieved."
   ]
  },
  {
   "cell_type": "code",
   "execution_count": null,
   "id": "61f47e58-840d-4742-b0bb-f279c0621eb3",
   "metadata": {},
   "outputs": [],
   "source": [
    "# FSrc"
   ]
  },
  {
   "cell_type": "markdown",
   "id": "1da5f648-12e9-4807-a5d2-b422028d4b11",
   "metadata": {},
   "source": [
    "### 4.2. Identify dates of peak brightess \n",
    "\n",
    "First, make an array of the unique `diaObjectid` for the `DiaObjects` matched to true SNIa, for which forced photometry was retrieved from the `ForcedSourceOnDiaObject` table."
   ]
  },
  {
   "cell_type": "code",
   "execution_count": null,
   "id": "c68d46f5-5cb9-40f0-81f1-64151255f25d",
   "metadata": {},
   "outputs": [],
   "source": [
    "SNIa_diaObjectId = np.unique(FSrc.loc[:, 'diaObjectId'])"
   ]
  },
  {
   "cell_type": "markdown",
   "id": "235267f1-cc2c-4bde-a042-73370a92fc1a",
   "metadata": {},
   "source": [
    "Next, make an array to hold the date of the brightest detection in MJD."
   ]
  },
  {
   "cell_type": "code",
   "execution_count": null,
   "id": "debd2b13-69d7-4266-b2ca-4523b4f2682a",
   "metadata": {},
   "outputs": [],
   "source": [
    "SNIa_peak_date = np.zeros(len(SNIa_diaObjectId), dtype='float')"
   ]
  },
  {
   "cell_type": "markdown",
   "id": "e383ecdc-b13a-4674-bca5-8f6ccf422aec",
   "metadata": {},
   "source": [
    "Determine the peak date from the difference-image fluxes."
   ]
  },
  {
   "cell_type": "code",
   "execution_count": null,
   "id": "6d33da1b-2ece-4eb1-ac69-670e4e50ab6a",
   "metadata": {},
   "outputs": [],
   "source": [
    "%%time\n",
    "for i, id_val in enumerate(SNIa_diaObjectId):\n",
    "    sx = np.where(FSrc['diaObjectId'] == id_val)[0]\n",
    "    mx = np.argmax(FSrc.loc[sx, 'psfDiffFlux'])\n",
    "    SNIa_peak_date[i] = FSrc.loc[sx[mx], 'expMidptMJD']\n",
    "    del sx, mx"
   ]
  },
  {
   "cell_type": "markdown",
   "id": "9af828f7-05e1-4333-9306-9f64098fe394",
   "metadata": {},
   "source": [
    "### 4.3. Calculate flux correction factor and uncertainty\n",
    "\n",
    "First, make arrays to hold the mean and standard deviation (`std`) of the difference-image forced flux in the \"off-peak\" visits (i.e., >300 days before, or >500 days after, the peak date), along with the number of visits (`N`) that contributed, per filter."
   ]
  },
  {
   "cell_type": "code",
   "execution_count": null,
   "id": "ba0e0f18-0e29-4909-bc21-fbe9f86d4541",
   "metadata": {},
   "outputs": [],
   "source": [
    "SNIa_offpeak_min = np.zeros((len(SNIa_diaObjectId), 6), dtype='float')\n",
    "SNIa_offpeak_max = np.zeros((len(SNIa_diaObjectId), 6), dtype='float')\n",
    "SNIa_offpeak_mean = np.zeros((len(SNIa_diaObjectId), 6), dtype='float')\n",
    "SNIa_offpeak_std = np.zeros((len(SNIa_diaObjectId), 6), dtype='float')\n",
    "SNIa_offpeak_N = np.zeros((len(SNIa_diaObjectId), 6), dtype='int')"
   ]
  },
  {
   "cell_type": "markdown",
   "id": "5e27e08d-466d-4952-8ca5-21ae652bc5a3",
   "metadata": {},
   "source": [
    "Fill the arrays.\n",
    "\n",
    "Only use unflagged values of `psfDiffFlux`. \n",
    "\n",
    "This takes about 30 seconds to compute."
   ]
  },
  {
   "cell_type": "code",
   "execution_count": null,
   "id": "8cb96a92-204c-469e-bcea-7a1ab54e94f5",
   "metadata": {},
   "outputs": [],
   "source": [
    "%%time\n",
    "for i, id_val in enumerate(SNIa_diaObjectId):\n",
    "    sx = np.where(FSrc['diaObjectId'] == id_val)[0]\n",
    "    if len(sx) > 0:\n",
    "        for f, filt in enumerate(plot_filter_labels):\n",
    "            fx = np.where(FSrc.loc[sx, 'band'] == filt)[0]\n",
    "            if len(fx) > 0:\n",
    "                dx = np.where((FSrc.loc[sx[fx], 'psfDiffFlux_flag'] == 0)\n",
    "                              & ((FSrc.loc[sx[fx], 'expMidptMJD'] <= SNIa_peak_date[i]-300) \n",
    "                                 |(FSrc.loc[sx[fx], 'expMidptMJD'] >= SNIa_peak_date[i]+500)))[0]\n",
    "                SNIa_offpeak_N[i, f] = len(dx)\n",
    "                if len(dx) > 0:\n",
    "                    SNIa_offpeak_min[i, f] = np.min(FSrc.loc[sx[fx[dx]], 'psfDiffFlux'])\n",
    "                    SNIa_offpeak_max[i, f] = np.max(FSrc.loc[sx[fx[dx]], 'psfDiffFlux'])\n",
    "                    SNIa_offpeak_mean[i, f] = np.mean(FSrc.loc[sx[fx[dx]], 'psfDiffFlux'])\n",
    "                    SNIa_offpeak_std[i, f] = np.std(FSrc.loc[sx[fx[dx]], 'psfDiffFlux'])\n",
    "                del dx\n",
    "            del fx\n",
    "    del sx"
   ]
  },
  {
   "cell_type": "markdown",
   "id": "65d02fe6-c923-4382-ab83-8ff81f2f1667",
   "metadata": {},
   "source": [
    "Plot the distribution of minimum (dotted), maximum (dashed), and mean (solid) difference-image forced photometry fluxes for the `DiaObjects` that are matched to a true SNIa."
   ]
  },
  {
   "cell_type": "code",
   "execution_count": null,
   "id": "b0340a75-045b-4384-b20d-f391121b4e87",
   "metadata": {},
   "outputs": [],
   "source": [
    "fig, ax = plt.subplots(3, 2, figsize=(14,6), sharex=False)\n",
    "\n",
    "f = 0\n",
    "for i in range(3):\n",
    "    for j in range(2):\n",
    "        filt = plot_filter_labels[f]\n",
    "        \n",
    "        ax[i,j].axvline(-1.0 * SNR5_PVI_nJy[f], alpha=0.5, color='grey')\n",
    "        ax[i,j].axvline(SNR5_PVI_nJy[f], alpha=0.5, color='grey', label='SNR>5')\n",
    "\n",
    "        tx = np.where((SNIa_offpeak_N[:, f] >= 3)\n",
    "                      & (SNIa_offpeak_min[:, f] > -20000)\n",
    "                      & (SNIa_offpeak_min[:, f] < 20000))[0]\n",
    "        ax[i,j].hist(SNIa_offpeak_min[tx, f], bins=150, histtype='step', log=True,\n",
    "                     lw=1, ls='dotted', color=plot_filter_colors[filt], label='min')\n",
    "        del tx\n",
    "        \n",
    "        tx = np.where((SNIa_offpeak_N[:, f] >= 3)\n",
    "                      & (SNIa_offpeak_max[:, f] > -20000)\n",
    "                      & (SNIa_offpeak_max[:, f] < 20000))[0]\n",
    "        ax[i,j].hist(SNIa_offpeak_max[tx, f], bins=150, histtype='step', log=True,\n",
    "                     lw=1, ls='dashed', color=plot_filter_colors[filt], label='max')\n",
    "        del tx\n",
    "\n",
    "        tx = np.where((SNIa_offpeak_N[:, f] >= 3)\n",
    "                      & (SNIa_offpeak_mean[:, f] > -20000)\n",
    "                      & (SNIa_offpeak_mean[:, f] < 20000))[0]\n",
    "        ax[i,j].hist(SNIa_offpeak_mean[tx, f], bins=150, histtype='step', log=True,\n",
    "                     lw=2, ls='solid', color=plot_filter_colors[filt], label='mean')\n",
    "        del tx\n",
    "\n",
    "        if filt == 'y':\n",
    "            ax[i,j].set_xlim([-20000, 20000])\n",
    "        else:\n",
    "            ax[i,j].set_xlim([-5000, 5000])\n",
    "\n",
    "        ax[i,j].legend(loc='best')\n",
    "        f += 1\n",
    "\n",
    "ax[2,0].set_xlabel('Off-peak Forced Flux')\n",
    "ax[2,1].set_xlabel('Off-peak Forced Flux')\n",
    "ax[0,0].set_ylabel('# DiaObjects')\n",
    "ax[1,0].set_ylabel('# DiaObjects')\n",
    "ax[2,0].set_ylabel('# DiaObjects')\n",
    "plt.show()"
   ]
  },
  {
   "cell_type": "markdown",
   "id": "0ef72376-c377-494d-b8af-499f92828264",
   "metadata": {},
   "source": [
    "It's very strange that in the above plots, the distributions of the minimum fluxes (dotted) are not similar to the left component of the distributions plotted using the `PSFluxMin`, above.\n",
    "\n",
    "If we were using only the `ForcedSourceOnDiaObject` table, what would be the fraction of true SNIa that have an average off-peak forced flux that is \"significantly negative\"?"
   ]
  },
  {
   "cell_type": "code",
   "execution_count": null,
   "id": "e01ec491-07e8-479a-80d7-945f49d961fe",
   "metadata": {},
   "outputs": [],
   "source": [
    "frac_filt = np.zeros(6, dtype='float')\n",
    "for f, filt in enumerate(plot_filter_labels):\n",
    "    fx = np.where(np.isfinite(SNIa_offpeak_mean[:, f]))[0]\n",
    "    tx = np.where(SNIa_offpeak_mean[fx, f] < -1.0 * SNR5_PVI_nJy[f])[0]\n",
    "    frac_filt[f] = np.round(float(len(tx)) / float(len(fx)), 3)\n",
    "    print(filt, frac_filt[f])\n",
    "    del fx, tx\n",
    "del frac_filt"
   ]
  },
  {
   "cell_type": "markdown",
   "id": "ee47d1a4-36b1-4956-83e6-867626ba6c6e",
   "metadata": {},
   "source": [
    "Much lower than before!\n",
    "\n",
    "Perhaps there is something going on here, could the minimum fluxes from `DiaSource` really be so different?\n",
    "\n",
    "### 4.3. Calculate flux correction factor and uncertainty with `DiaSource`"
   ]
  },
  {
   "cell_type": "code",
   "execution_count": null,
   "id": "db4e7c61-11a5-442c-8b2f-06ec60a153f8",
   "metadata": {},
   "outputs": [],
   "source": [
    "query = \"SELECT ds.diaObjectId, ds.ccdVisitId, \"\\\n",
    "        \"ds.psFlux, ds.psFluxErr, ds.psfFlux_flag, \"\\\n",
    "        \"ccdv.ccdVisitId, ccdv.band, ccdv.expMidptMJD \"\\\n",
    "        \"FROM dp02_dc2_catalogs.DiaSource AS ds \"\\\n",
    "        \"JOIN dp02_dc2_catalogs.CcdVisit AS ccdv ON ccdv.ccdVisitId = ds.ccdVisitId \"\\\n",
    "        \"WHERE ds.diaObjectId IN \"+tuple_string_diaObjectId\n",
    "results = service.search(query)\n",
    "del query"
   ]
  },
  {
   "cell_type": "code",
   "execution_count": null,
   "id": "920115fc-10f3-4cbc-ae4d-14d6f553b546",
   "metadata": {},
   "outputs": [],
   "source": [
    "DSrc = results.to_table().to_pandas()\n",
    "del results"
   ]
  },
  {
   "cell_type": "code",
   "execution_count": null,
   "id": "eaafd2c6-9889-48c3-bf4d-8cacddfdbf09",
   "metadata": {},
   "outputs": [],
   "source": [
    "SNIa_offpeak_ds_min = np.zeros((len(SNIa_diaObjectId), 6), dtype='float')\n",
    "SNIa_offpeak_ds_max = np.zeros((len(SNIa_diaObjectId), 6), dtype='float')\n",
    "SNIa_offpeak_ds_mean = np.zeros((len(SNIa_diaObjectId), 6), dtype='float')\n",
    "SNIa_offpeak_ds_std = np.zeros((len(SNIa_diaObjectId), 6), dtype='float')\n",
    "SNIa_offpeak_ds_N = np.zeros((len(SNIa_diaObjectId), 6), dtype='int')"
   ]
  },
  {
   "cell_type": "code",
   "execution_count": null,
   "id": "4151806f-b406-464a-88b2-63105612422c",
   "metadata": {},
   "outputs": [],
   "source": [
    "%%time\n",
    "for i, id_val in enumerate(SNIa_diaObjectId):\n",
    "    sx = np.where(DSrc['diaObjectId'] == id_val)[0]\n",
    "    if len(sx) > 0:\n",
    "        for f, filt in enumerate(plot_filter_labels):\n",
    "            fx = np.where(DSrc.loc[sx, 'band'] == filt)[0]\n",
    "            if len(fx) > 0:\n",
    "                dx = np.where(((DSrc.loc[sx[fx], 'expMidptMJD'] <= SNIa_peak_date[i]-300) \n",
    "                               | (DSrc.loc[sx[fx], 'expMidptMJD'] >= SNIa_peak_date[i]+500)))[0]\n",
    "                SNIa_offpeak_ds_N[i, f] = len(dx)\n",
    "                if len(dx) > 0:\n",
    "                    SNIa_offpeak_ds_min[i, f] = np.min(DSrc.loc[sx[fx[dx]], 'psFlux'])\n",
    "                    SNIa_offpeak_ds_max[i, f] = np.max(DSrc.loc[sx[fx[dx]], 'psFlux'])\n",
    "                    SNIa_offpeak_ds_mean[i, f] = np.mean(DSrc.loc[sx[fx[dx]], 'psFlux'])\n",
    "                    SNIa_offpeak_ds_std[i, f] = np.std(DSrc.loc[sx[fx[dx]], 'psFlux'])\n",
    "                del dx\n",
    "            del fx\n",
    "    del sx"
   ]
  },
  {
   "cell_type": "code",
   "execution_count": null,
   "id": "b3a645f2-fb07-4857-8bd4-f8a6909e763f",
   "metadata": {},
   "outputs": [],
   "source": [
    "fig, ax = plt.subplots(3, 2, figsize=(14,6), sharex=False)\n",
    "\n",
    "f = 0\n",
    "for i in range(3):\n",
    "    for j in range(2):\n",
    "        filt = plot_filter_labels[f]\n",
    "        \n",
    "        ax[i,j].axvline(-1.0 * SNR5_PVI_nJy[f], alpha=0.5, color='grey')\n",
    "        ax[i,j].axvline(SNR5_PVI_nJy[f], alpha=0.5, color='grey', label='SNR>5')\n",
    "\n",
    "        tx = np.where((SNIa_offpeak_ds_N[:, f] >= 3)\n",
    "                      & (SNIa_offpeak_ds_min[:, f] > -20000)\n",
    "                      & (SNIa_offpeak_ds_min[:, f] < 20000))[0]\n",
    "        ax[i,j].hist(SNIa_offpeak_ds_min[tx, f], bins=150, histtype='step',\n",
    "                     lw=1, ls='dotted', color=plot_filter_colors[filt], label='min')\n",
    "        del tx\n",
    "        \n",
    "        tx = np.where((SNIa_offpeak_ds_N[:, f] >= 3)\n",
    "                      & (SNIa_offpeak_ds_max[:, f] > -20000)\n",
    "                      & (SNIa_offpeak_ds_max[:, f] < 20000))[0]\n",
    "        ax[i,j].hist(SNIa_offpeak_ds_max[tx, f], bins=150, histtype='step',\n",
    "                     lw=1, ls='dashed', color=plot_filter_colors[filt], label='max')\n",
    "        del tx\n",
    "\n",
    "        tx = np.where((SNIa_offpeak_ds_N[:, f] >= 3)\n",
    "                      & (SNIa_offpeak_ds_mean[:, f] > -20000)\n",
    "                      & (SNIa_offpeak_ds_mean[:, f] < 20000))[0]\n",
    "        ax[i,j].hist(SNIa_offpeak_ds_mean[tx, f], bins=100, histtype='step',\n",
    "                     lw=2, ls='solid', color=plot_filter_colors[filt], label='mean')\n",
    "        del tx\n",
    "\n",
    "        if filt == 'y':\n",
    "            ax[i,j].set_xlim([-20000, 20000])\n",
    "        else:\n",
    "            ax[i,j].set_xlim([-5000, 5000])\n",
    "\n",
    "        ax[i,j].legend(loc='best')\n",
    "        f += 1\n",
    "\n",
    "ax[2,0].set_xlabel('Off-peak DiaSource Flux')\n",
    "ax[2,1].set_xlabel('Off-peak DiaSource Flux')\n",
    "ax[0,0].set_ylabel('# DiaObjects')\n",
    "ax[1,0].set_ylabel('# DiaObjects')\n",
    "ax[2,0].set_ylabel('# DiaObjects')\n",
    "plt.show()"
   ]
  },
  {
   "cell_type": "code",
   "execution_count": null,
   "id": "21a13a2e-2c47-4c8b-aeca-d37d4ce3631a",
   "metadata": {},
   "outputs": [],
   "source": [
    "frac_filt = np.zeros(6, dtype='float')\n",
    "for f, filt in enumerate(plot_filter_labels):\n",
    "    fx = np.where(np.isfinite(SNIa_offpeak_ds_mean[:, f]))[0]\n",
    "    tx = np.where(SNIa_offpeak_ds_mean[fx, f] < -1.0 * SNR5_PVI_nJy[f])[0]\n",
    "    frac_filt[f] = np.round(float(len(tx)) / float(len(fx)), 3)\n",
    "    print(filt, frac_filt[f])\n",
    "    del fx, tx\n",
    "del frac_filt"
   ]
  },
  {
   "cell_type": "markdown",
   "id": "7a1208fd-2865-4727-9ff0-a6d6f47de009",
   "metadata": {},
   "source": [
    "OK this is showing that when `DiaObjects` are detected in off-peak visits, they are detected with a negative flux.\n",
    "\n",
    "BUT, it is only the `DiaObjects` with template contamination that _would_ be detected off-peak, and in that case, they would be detected with a negative flux.\n",
    "\n",
    "Whereas when we use forced photometry, it is for everything.\n",
    "\n",
    "How many SNIa are actually _detected_ during the off-peak visits?"
   ]
  },
  {
   "cell_type": "code",
   "execution_count": null,
   "id": "10084ff9-c6ed-46a9-b87c-30633627e848",
   "metadata": {},
   "outputs": [],
   "source": [
    "fig, ax = plt.subplots(3, 2, figsize=(14,6), sharex=False)\n",
    "\n",
    "f = 0\n",
    "for i in range(3):\n",
    "    for j in range(2):\n",
    "        filt = plot_filter_labels[f]\n",
    "        tx1 = np.where(SNIa_offpeak_ds_N[:, f] >= 20)[0]\n",
    "        tx = np.where(SNIa_offpeak_ds_N[:, f] < 20)[0]\n",
    "        ax[i,j].hist(SNIa_offpeak_ds_N[tx, f], bins=21, range=(-0.5,20.5), histtype='step',\n",
    "                     log=True, lw=1, ls='solid', color=plot_filter_colors[filt],\n",
    "                     label=filt+' (+'+str(int(len(tx1)))+' with N>20)')\n",
    "        del tx, tx1\n",
    "\n",
    "        ax[i,j].legend(loc='best')\n",
    "        f += 1\n",
    "\n",
    "ax[2,0].set_xlabel('# Off-peak Detections')\n",
    "ax[2,1].set_xlabel('# Off-peak Detections')\n",
    "ax[0,0].set_ylabel('# DiaObjects')\n",
    "ax[1,0].set_ylabel('# DiaObjects')\n",
    "ax[2,0].set_ylabel('# DiaObjects')\n",
    "plt.show()"
   ]
  },
  {
   "cell_type": "markdown",
   "id": "13bd60b5-3725-4ffa-8ac8-888a906faa80",
   "metadata": {},
   "source": [
    "### 4.5. For off-peak detections, plot detected vs. forced flux"
   ]
  },
  {
   "cell_type": "code",
   "execution_count": null,
   "id": "c8376ec6-ab90-4089-a688-db8502a0e7b6",
   "metadata": {},
   "outputs": [],
   "source": [
    "%%time\n",
    "t1 = time.time()\n",
    "fig, ax = plt.subplots(3, 2, figsize=(14,6), sharex=False)\n",
    "\n",
    "for sn in range(len(SNIa_diaObjectId)):\n",
    "    id_val = SNIa_diaObjectId[sn]\n",
    "    if sn == 100:\n",
    "        t2 = time.time()\n",
    "        print('100 SN in, ', t2-t1)\n",
    "    if sn == 500:\n",
    "        t2 = time.time()\n",
    "        print('500 SN in, ', t2-t1)\n",
    "        \n",
    "    ds_sx = np.where(DSrc.loc[:, 'diaObjectId'] == id_val)[0]\n",
    "    fs_sx = np.where(FSrc.loc[:, 'diaObjectId'] == id_val)[0]\n",
    "    \n",
    "    f = 0\n",
    "    if (len(ds_sx) > 1) & (len(fs_sx) > 1):\n",
    "        for i in range(3):\n",
    "            for j in range(2):\n",
    "                filt = plot_filter_labels[f]\n",
    "                ds_fx = np.where(DSrc.loc[ds_sx, 'band'] == filt)[0]\n",
    "                fs_fx = np.where(FSrc.loc[fs_sx, 'band'] == filt)[0]\n",
    "\n",
    "                if (len(ds_fx) > 1) & (len(fs_fx) > 1):\n",
    "                    ds_dx = np.where(((DSrc.loc[ds_sx[ds_fx], 'expMidptMJD'] <= SNIa_peak_date[sn]-300) \n",
    "                                      | (DSrc.loc[ds_sx[ds_fx], 'expMidptMJD'] >= SNIa_peak_date[sn]+500)))[0]\n",
    "                    fs_dx = np.where(((FSrc.loc[fs_sx[fs_fx], 'expMidptMJD'] <= SNIa_peak_date[sn]-300) \n",
    "                                      | (FSrc.loc[fs_sx[fs_fx], 'expMidptMJD'] >= SNIa_peak_date[sn]+500)))[0]\n",
    "\n",
    "                    if (len(ds_dx) > 1) & (len(fs_dx) > 1):\n",
    "                        for x in ds_dx:\n",
    "                            tx = np.where(DSrc.loc[ds_sx[ds_fx[x]], 'ccdVisitId'] == \n",
    "                                          FSrc.loc[fs_sx[fs_fx[fs_dx[:]]], 'ccdVisitId'])[0]\n",
    "                            if len(tx) == 1:\n",
    "                                ax[i,j].plot(DSrc.loc[ds_sx[ds_fx[x]], 'psFlux'],\n",
    "                                             FSrc.loc[fs_sx[fs_fx[fs_dx[tx]]], 'psfDiffFlux'],\n",
    "                                             plot_filter_symbols[filt],\n",
    "                                             color = plot_filter_colors[filt],\n",
    "                                             alpha=0.3, label = filt)\n",
    "                                \n",
    "                    del ds_dx, fs_dx\n",
    "                    \n",
    "                del ds_fx, fs_fx\n",
    "                # ax[i,j].legend(loc='best')\n",
    "                f += 1\n",
    "                \n",
    "    del ds_sx, fs_sx\n",
    "\n",
    "ax[2,0].set_xlabel('detected flux')\n",
    "ax[2,1].set_xlabel('detected flux')\n",
    "ax[0,0].set_ylabel('forced flux')\n",
    "ax[1,0].set_ylabel('forced flux')\n",
    "ax[2,0].set_ylabel('forced flux')\n",
    "plt.show()"
   ]
  },
  {
   "cell_type": "markdown",
   "id": "fef86bf7-b3dc-4b21-9daf-291a07dd49fa",
   "metadata": {},
   "source": [
    "For off-peak detections, at leasted the detection and forced fluxes match.\n",
    "\n",
    "Still not sure what's going on with the `DiaSource` minimum fluxes indicating a much higher fraction of SNIa with template contamination than `ForcedSourceOnDiaObject` minimum fluxes though.\n",
    "\n",
    "Next steps might be to just skip the whole part of using the `DiaObject` summary parameters and go straight to using only `ForcedSourceOnDiaObject`. That's the best way to quantify off-peak flux in the difference images."
   ]
  },
  {
   "cell_type": "code",
   "execution_count": null,
   "id": "5589664d-6bb4-46e6-ba54-4f03659de467",
   "metadata": {},
   "outputs": [],
   "source": []
  },
  {
   "cell_type": "code",
   "execution_count": null,
   "id": "446cdfd6-c537-4747-a535-c4c23df06c19",
   "metadata": {},
   "outputs": [],
   "source": []
  },
  {
   "cell_type": "code",
   "execution_count": null,
   "id": "d83d9034-46c7-4529-bd2f-ac8de8897513",
   "metadata": {},
   "outputs": [],
   "source": []
  },
  {
   "cell_type": "code",
   "execution_count": null,
   "id": "b700edd3-4df4-4cc1-8bcf-a293696d981b",
   "metadata": {},
   "outputs": [],
   "source": []
  },
  {
   "cell_type": "code",
   "execution_count": null,
   "id": "1e2a6d20-5f90-4faa-8fd1-92fc3dd79406",
   "metadata": {},
   "outputs": [],
   "source": []
  },
  {
   "cell_type": "code",
   "execution_count": null,
   "id": "81d44dce-1954-4839-9bee-3bc68058d23d",
   "metadata": {},
   "outputs": [],
   "source": []
  }
 ],
 "metadata": {
  "kernelspec": {
   "display_name": "LSST",
   "language": "python",
   "name": "lsst"
  },
  "language_info": {
   "codemirror_mode": {
    "name": "ipython",
    "version": 3
   },
   "file_extension": ".py",
   "mimetype": "text/x-python",
   "name": "python",
   "nbconvert_exporter": "python",
   "pygments_lexer": "ipython3",
   "version": "3.10.5"
  }
 },
 "nbformat": 4,
 "nbformat_minor": 5
}
