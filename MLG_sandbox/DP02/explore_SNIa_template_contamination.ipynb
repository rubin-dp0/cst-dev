{
 "cells": [
  {
   "cell_type": "markdown",
   "id": "f5d0f21b-e48a-49d0-9df1-c1a5bb72522b",
   "metadata": {},
   "source": [
    "# Quantify and Correct Template Contamination for SNIa in DP0.2\n",
    "\n",
    "In this notebook, we find that ~40% of SNIa lightcurves are affected by template contamination in DP0.2.\n",
    "\n",
    "SNIa should *never* be detected with negative flux in a difference image. *All* instances of a significant (SNR>5) detection of a SNIa in a difference image is evidence of template contamination by SNIa light.\n",
    "\n",
    "We also explore a process for automatically correcting for template contamination, and find that it can estimate the flux value to be *added back to the SNIa fluxes* with about 10% uncertainty, which is still pretty high for any scientists trying to do things like SNIa light curve fitting for cosmology.\n",
    "\n",
    "## Set Up"
   ]
  },
  {
   "cell_type": "code",
   "execution_count": 1,
   "id": "820d15e3-b902-434f-9e65-d29dd978ecf5",
   "metadata": {},
   "outputs": [],
   "source": [
    "import time\n",
    "import numpy as np\n",
    "import matplotlib\n",
    "import matplotlib.pyplot as plt\n",
    "\n",
    "import pandas\n",
    "pandas.set_option('display.max_rows', 1000)\n",
    "\n",
    "from lsst.rsp import get_tap_service, retrieve_query"
   ]
  },
  {
   "cell_type": "code",
   "execution_count": 2,
   "id": "adbd96f8-2003-4b98-8e3f-70018a4a9223",
   "metadata": {},
   "outputs": [],
   "source": [
    "service = get_tap_service()"
   ]
  },
  {
   "cell_type": "code",
   "execution_count": 3,
   "id": "09929498-fac5-4ef4-919d-3396c813b1cd",
   "metadata": {},
   "outputs": [],
   "source": [
    "plot_filter_labels = ['u', 'g', 'r', 'i', 'z', 'y']\n",
    "plot_filter_colors = {'u' : '#56b4e9', 'g' : '#008060', 'r' : '#ff4000',\n",
    "                     'i' : '#850000', 'z' : '#6600cc', 'y' : '#000000'}\n",
    "plot_filter_symbols = {'u' : 'o', 'g' : '^', 'r' : 'v', 'i' : 's', 'z' : '*', 'y' : 'p'}"
   ]
  },
  {
   "cell_type": "markdown",
   "id": "cde075e6-e6f8-410e-a254-5f3e56a304d9",
   "metadata": {},
   "source": [
    "## Get a large sample of truth SNIa from DP0.1\n",
    "\n",
    "Use a radius =4 degree cone search near the center of DC2."
   ]
  },
  {
   "cell_type": "code",
   "execution_count": 4,
   "id": "6d41ff8e-d9a4-40df-904e-45650a35c984",
   "metadata": {},
   "outputs": [
    {
     "name": "stdout",
     "output_type": "stream",
     "text": [
      "10416\n",
      "CPU times: user 140 ms, sys: 7 ms, total: 147 ms\n",
      "Wall time: 1min 2s\n"
     ]
    }
   ],
   "source": [
    "%%time\n",
    "\n",
    "results = service.search(\"SELECT ra, dec \"\n",
    "                         \"FROM dp01_dc2_catalogs.truth_match \"\n",
    "                         \"WHERE CONTAINS(POINT('ICRS', ra, dec), CIRCLE('ICRS', 57.5, -36.5, 4)) = 1 \"\n",
    "                         \"AND truth_type = 3 AND redshift < 0.5\", maxrec=20000)\n",
    "\n",
    "myTruthTable = results.to_table()\n",
    "print(len(myTruthTable))\n",
    "del results"
   ]
  },
  {
   "cell_type": "markdown",
   "id": "fd170362-aaca-485f-acfb-9e15fe34c456",
   "metadata": {},
   "source": [
    "## Match the SNIa to the DP0.2 DiaObjects catalog\n",
    "\n",
    "### Get DiaObjects\n",
    "Retrieve all DiaObjects from the same region that were detected with a maximum flux of at least 1000 nJy in the r- and i-bands. All \"detected\" SNIa with redshift <0.5 would meet this criteria."
   ]
  },
  {
   "cell_type": "code",
   "execution_count": 5,
   "id": "5f17f8c7-5fed-4b12-9ba3-54a11ddfbfd3",
   "metadata": {},
   "outputs": [
    {
     "name": "stdout",
     "output_type": "stream",
     "text": [
      "290656\n",
      "CPU times: user 3.36 s, sys: 79.3 ms, total: 3.44 s\n",
      "Wall time: 9.75 s\n"
     ]
    }
   ],
   "source": [
    "%%time\n",
    "\n",
    "results = service.search(\"SELECT ra, decl, diaObjectId \"\n",
    "                         \"FROM dp02_dc2_catalogs.DiaObject \"\n",
    "                         \"WHERE CONTAINS(POINT('ICRS', ra, decl), CIRCLE('ICRS', 57.5, -36.5, 4)) = 1 \"\n",
    "                         \"AND rPSFluxMax > 1000 AND iPSFluxMax > 1000\",\n",
    "                         maxrec=1000000)\n",
    "\n",
    "DiaObjs = results.to_table()\n",
    "print(len(DiaObjs))\n",
    "del results"
   ]
  },
  {
   "cell_type": "markdown",
   "id": "08ffe4d1-3170-4e01-a1c5-7b9939bd0941",
   "metadata": {},
   "source": [
    "Prepare to hold the matched diaObjectId in myTruthTable."
   ]
  },
  {
   "cell_type": "code",
   "execution_count": 6,
   "id": "77fc44c2-ac4a-4bf6-b90b-86a412f7df49",
   "metadata": {},
   "outputs": [],
   "source": [
    "myTruthTable['diaObjectId_dp02'] = np.zeros(len(myTruthTable), dtype='int')"
   ]
  },
  {
   "cell_type": "markdown",
   "id": "af86d368-9dca-452a-bf23-54217e60ddf2",
   "metadata": {},
   "source": [
    "### Do the spatial match\n",
    "\n",
    "For every SNIa in myTruthTable, first find nearby DiaObjs (within a 4\" box) and then calculate a proper radial offset and record a match as an offset <2\" on sky."
   ]
  },
  {
   "cell_type": "code",
   "execution_count": 7,
   "id": "67e040dc-a622-4292-b1da-ed453d7fb356",
   "metadata": {},
   "outputs": [
    {
     "name": "stdout",
     "output_type": "stream",
     "text": [
      "CPU times: user 1min 23s, sys: 12.2 ms, total: 1min 23s\n",
      "Wall time: 1min 23s\n"
     ]
    }
   ],
   "source": [
    "%%time\n",
    "\n",
    "for i in range(len(myTruthTable)):\n",
    "    tx = np.where((DiaObjs['ra'] - myTruthTable['ra'][i] < 4.0/3600.0) & \\\n",
    "                  (DiaObjs['decl'] - myTruthTable['dec'][i] < 4.0/3600.0))[0]\n",
    "    if len(tx) > 0:\n",
    "        cosdec = np.cos(myTruthTable['dec'][i] * np.pi / 180.0)\n",
    "        radii = np.sqrt((cosdec * (DiaObjs['ra'][tx] - myTruthTable['ra'][i]))**2 + \\\n",
    "                        (DiaObjs['decl'][tx] - myTruthTable['dec'][i])**2)\n",
    "        ttx = np.where(radii < 2.0/3600.0)[0]\n",
    "        if len(ttx) == 1:\n",
    "            myTruthTable['diaObjectId_dp02'][i] = DiaObjs['diaObjectId'][tx[ttx]]\n",
    "        del ttx, radii, cosdec\n",
    "    del tx  "
   ]
  },
  {
   "cell_type": "markdown",
   "id": "799ae12d-933d-42c7-94fd-718d50d18bdc",
   "metadata": {},
   "source": [
    "How many matches?"
   ]
  },
  {
   "cell_type": "code",
   "execution_count": 8,
   "id": "3fc15210-ab5f-40bf-8938-52e305759ab0",
   "metadata": {},
   "outputs": [
    {
     "name": "stdout",
     "output_type": "stream",
     "text": [
      "Matched:  2298 0.2206221198156682\n"
     ]
    }
   ],
   "source": [
    "tx = np.where(myTruthTable['diaObjectId_dp02'] != 0)[0]\n",
    "print('Matched: ', len(tx), len(tx)/len(myTruthTable))"
   ]
  },
  {
   "cell_type": "markdown",
   "id": "e8ec8a4d-0f35-4bb2-951b-b0c74cbbfa52",
   "metadata": {},
   "source": [
    "## Fraction of affected SNIa\n",
    "\n",
    "SNIa should never be detected as negative sources in a difference image. If they do, it means they appear in the template image. What fraction of our true SNIa that are detected as DiaObjects have a significant negative minimum flux, indicating template contamination?\n",
    "\n",
    "First, retrive the minimum fluxes from the DiaObjects catalog."
   ]
  },
  {
   "cell_type": "code",
   "execution_count": 9,
   "id": "cd11ee86-c09f-4fb6-b3c5-aae346bfdfff",
   "metadata": {},
   "outputs": [],
   "source": [
    "for f in range(6):\n",
    "    temp = plot_filter_labels[f] + 'PSFluxMin'\n",
    "    myTruthTable[temp] = np.zeros(len(myTruthTable), dtype='float')"
   ]
  },
  {
   "cell_type": "code",
   "execution_count": 10,
   "id": "57074ea6-6994-49fa-a0b6-7952e5c92e9d",
   "metadata": {},
   "outputs": [
    {
     "name": "stderr",
     "output_type": "stream",
     "text": [
      "/opt/lsst/software/stack/conda/miniconda3-py38_4.9.2/envs/lsst-scipipe-4.0.0/lib/python3.10/site-packages/astropy/table/column.py:1169: UserWarning: Warning: converting a masked element to nan.\n",
      "  self.data[index] = value\n"
     ]
    },
    {
     "name": "stdout",
     "output_type": "stream",
     "text": [
      "CPU times: user 26.1 s, sys: 1.24 s, total: 27.4 s\n",
      "Wall time: 6min 39s\n"
     ]
    }
   ],
   "source": [
    "%%time\n",
    "\n",
    "for i in range(len(myTruthTable)):\n",
    "    if myTruthTable['diaObjectId_dp02'][i] != 0:\n",
    "        results = service.search(\"SELECT uPSFluxMin, gPSFluxMin, rPSFluxMin, \"\n",
    "                                 \"iPSFluxMin, zPSFluxMin, yPSFluxMin \"\n",
    "                                 \"FROM dp02_dc2_catalogs.DiaObject \"\n",
    "                                 \"WHERE diaObjectId = \"+str(myTruthTable['diaObjectId_dp02'][i]))\n",
    "        \n",
    "        for f in range(6):\n",
    "            temp = plot_filter_labels[f] + 'PSFluxMin'\n",
    "            myTruthTable[temp][i] = results[temp][0]\n",
    "        \n",
    "        del results"
   ]
  },
  {
   "cell_type": "markdown",
   "id": "ee441755-dc8b-462e-910d-692e723ebc47",
   "metadata": {},
   "source": [
    "Use the Processed Visit Image (PVI; single-image) depths to define what a SNR>5 detection would be in flux (in nJy)."
   ]
  },
  {
   "cell_type": "code",
   "execution_count": 11,
   "id": "7f8a5ddf-6cfa-40c6-bdb9-a0b79f7a5719",
   "metadata": {},
   "outputs": [],
   "source": [
    "depths_PVI_mags = np.asarray([23.9,25.0,24.7,24.0,23.3,22.1], dtype='float')\n",
    "SNR5_PVI_nJy = 10.0**((depths_PVI_mags - 31.4) / -2.5)"
   ]
  },
  {
   "cell_type": "markdown",
   "id": "29a29d2f-16da-475c-9531-7a08c9b10283",
   "metadata": {},
   "source": [
    "Plot histograms."
   ]
  },
  {
   "cell_type": "code",
   "execution_count": 12,
   "id": "56eda0b9-46de-40f0-99ed-c417d7be9f89",
   "metadata": {},
   "outputs": [
    {
     "data": {
      "image/png": "[encoded data removed]",
      "text/plain": [
       "<Figure size 1008x432 with 6 Axes>"
      ]
     },
     "metadata": {
      "needs_background": "light"
     },
     "output_type": "display_data"
    }
   ],
   "source": [
    "# for plotting purposes\n",
    "xmin = -10000\n",
    "xmax = 10000\n",
    "\n",
    "fig, ax = plt.subplots(3, 2, figsize=(14,6))\n",
    "\n",
    "f = 0\n",
    "for i in range(3):\n",
    "    for j in range(2):\n",
    "        temp = plot_filter_labels[f]+'PSFluxMin'\n",
    "        filtc = plot_filter_colors[plot_filter_labels[f]]\n",
    "        ttx = np.where((myTruthTable[temp][tx] > xmin) & (myTruthTable[temp][tx] < xmax))[0]\n",
    "        ax[i,j].hist(myTruthTable[temp][tx[ttx]], 200, color=filtc, label=plot_filter_labels[f])\n",
    "        ax[i,j].axvline(-1.0 * SNR5_PVI_nJy[f], color='grey')\n",
    "        ax[i,j].axvline(SNR5_PVI_nJy[f], color='grey')\n",
    "        ax[i,j].set_xlim([xmin,xmax])\n",
    "        ax[i,j].set_xlabel('Minimum Difference-Image Flux')\n",
    "        ax[i,j].legend(loc='upper right')\n",
    "        f += 1\n",
    "        del filtc, temp, ttx\n",
    "\n",
    "plt.suptitle('Distributions of Minimum Difference-Image Flux for SNIa DiaObjects')\n",
    "plt.show()"
   ]
  },
  {
   "cell_type": "markdown",
   "id": "f1764037-8fd4-4ee3-8744-58285ec1a982",
   "metadata": {},
   "source": [
    "Above, it is odd that there are detections within the vertical lines. They would be SNR<5 detections. Why and how do they sneak in? A question for another time.\n",
    "\n",
    "## Fraction of SNeIa with template contamination"
   ]
  },
  {
   "cell_type": "code",
   "execution_count": 13,
   "id": "31f92e0d-cef9-42ce-a8da-aa8ac07ba91a",
   "metadata": {},
   "outputs": [
    {
     "name": "stdout",
     "output_type": "stream",
     "text": [
      "u 0.01\n",
      "g 0.17\n",
      "r 0.26\n",
      "i 0.19\n",
      "z 0.05\n",
      "y 0.01\n",
      " \n",
      "In any filter: 0.43\n"
     ]
    }
   ],
   "source": [
    "for f in range(6):\n",
    "    temp = plot_filter_labels[f] + 'PSFluxMin'\n",
    "    ttx = np.where(myTruthTable[temp][tx] < -1.0 * SNR5_PVI_nJy[f])[0]\n",
    "    print('%s %4.2f' % (plot_filter_labels[f], len(ttx)/len(tx)))\n",
    "    del temp, ttx\n",
    "\n",
    "print(' ')\n",
    "atx = np.where((myTruthTable['uPSFluxMin'][tx] < -1.0 * SNR5_PVI_nJy[0]) |\n",
    "               (myTruthTable['gPSFluxMin'][tx] < -1.0 * SNR5_PVI_nJy[1]) |\n",
    "               (myTruthTable['rPSFluxMin'][tx] < -1.0 * SNR5_PVI_nJy[2]) |\n",
    "               (myTruthTable['iPSFluxMin'][tx] < -1.0 * SNR5_PVI_nJy[3]) |\n",
    "               (myTruthTable['zPSFluxMin'][tx] < -1.0 * SNR5_PVI_nJy[4]) |\n",
    "               (myTruthTable['yPSFluxMin'][tx] < -1.0 * SNR5_PVI_nJy[5]))[0]\n",
    "print('In any filter: %4.2f' % (len(atx)/len(tx)))\n",
    "del atx"
   ]
  },
  {
   "cell_type": "markdown",
   "id": "c4d55cf5-6a20-425d-bb1a-f496de485847",
   "metadata": {},
   "source": [
    "It appears that **~40% of all SNIa**, which are detected as DiaObjects, suffer from template contamination in at least one filter. That fraction is high enough that everyone working on SNIa photometry needs to be aware of the issue and take measures to always correct their lightcurves for potential template contamination."
   ]
  },
  {
   "cell_type": "code",
   "execution_count": 14,
   "id": "6df1445d-b2a1-4b1d-98d3-3375a198b03c",
   "metadata": {},
   "outputs": [],
   "source": [
    "del tx"
   ]
  },
  {
   "cell_type": "markdown",
   "id": "9c97f155-2abc-4479-92a4-9e1b8fda1099",
   "metadata": {},
   "source": [
    "## Making Corrections Automatically?\n",
    "\n",
    "Ideally we would use the forced photometry on the difference image at the location of the DiaObject for this, but as we don't have it yet, we'll have to use the detections in the DiaObject catalog.\n",
    "\n",
    "An example correction might be, for each SNIa, to identify the date of maximum flux detected (in any filter), and then for any and all detections <300 days before and >500 days after that date, determine the mean and standard deviation of the difference-image detections in each filter.\n",
    "\n",
    "The mean could then be the correction added to the difference-image flux, and the standard deviation can be the error imposed by this process.\n",
    "\n",
    "### First, get all the maximum fluxes"
   ]
  },
  {
   "cell_type": "code",
   "execution_count": 15,
   "id": "f08a7947-99d9-4f30-9e05-bea47cf3be7b",
   "metadata": {},
   "outputs": [],
   "source": [
    "for f in range(6):\n",
    "    temp = plot_filter_labels[f] + 'PSFluxMax'\n",
    "    myTruthTable[temp] = np.zeros(len(myTruthTable), dtype='float')"
   ]
  },
  {
   "cell_type": "code",
   "execution_count": 16,
   "id": "bf63ecb1-9b3b-4a34-8299-477864a059f7",
   "metadata": {},
   "outputs": [
    {
     "name": "stdout",
     "output_type": "stream",
     "text": [
      "CPU times: user 25.7 s, sys: 1.27 s, total: 27 s\n",
      "Wall time: 6min 42s\n"
     ]
    }
   ],
   "source": [
    "%%time\n",
    "\n",
    "for i in range(len(myTruthTable)):\n",
    "    if myTruthTable['diaObjectId_dp02'][i] != 0:\n",
    "        results = service.search(\"SELECT uPSFluxMax, gPSFluxMax, rPSFluxMax, \"\n",
    "                                 \"iPSFluxMax, zPSFluxMax, yPSFluxMax \"\n",
    "                                 \"FROM dp02_dc2_catalogs.DiaObject \"\n",
    "                                 \"WHERE diaObjectId = \"+str(myTruthTable['diaObjectId_dp02'][i]))\n",
    "        \n",
    "        for f in range(6):\n",
    "            temp = plot_filter_labels[f] + 'PSFluxMax'\n",
    "            myTruthTable[temp][i] = results[temp][0]\n",
    "        \n",
    "        del results"
   ]
  },
  {
   "cell_type": "markdown",
   "id": "69522c0e-cc55-41e9-adb8-05e5a63724b7",
   "metadata": {},
   "source": [
    "Set up storage for the mean, standard deviation, and number of detections <300 days before and >500 days after the epoch of maximum flux."
   ]
  },
  {
   "cell_type": "code",
   "execution_count": 17,
   "id": "3b537ee2-9d31-4913-b560-76ccc21b3420",
   "metadata": {},
   "outputs": [],
   "source": [
    "for f in range(6):\n",
    "    temp1 = plot_filter_labels[f] + '_cont_mean'\n",
    "    temp2 = plot_filter_labels[f] + '_cont_sdev'\n",
    "    temp3 = plot_filter_labels[f] + '_cont_N'\n",
    "    myTruthTable[temp1] = np.zeros(len(myTruthTable), dtype='float')\n",
    "    myTruthTable[temp2] = np.zeros(len(myTruthTable), dtype='float')\n",
    "    myTruthTable[temp3] = np.zeros(len(myTruthTable), dtype='float')"
   ]
  },
  {
   "cell_type": "markdown",
   "id": "d0c07286-d486-43ec-894f-a26460147a52",
   "metadata": {},
   "source": [
    "Retrieve lightcurves from the DiaSource catalogs and identify epochs pre- and post- maximum light."
   ]
  },
  {
   "cell_type": "code",
   "execution_count": 18,
   "id": "92f4c776-e3f2-4740-8724-a88dbeed2250",
   "metadata": {},
   "outputs": [
    {
     "name": "stdout",
     "output_type": "stream",
     "text": [
      "CPU times: user 30.8 s, sys: 1.34 s, total: 32.1 s\n",
      "Wall time: 6min 32s\n"
     ]
    }
   ],
   "source": [
    "%%time\n",
    "\n",
    "for i in range(len(myTruthTable)):\n",
    "    if myTruthTable['diaObjectId_dp02'][i] != 0:\n",
    "        results = service.search(\"SELECT filterName, midPointTai, psFlux \"\n",
    "                                 \"FROM dp02_dc2_catalogs.DiaSource \"\n",
    "                                 \"WHERE diaObjectId = \"+str(myTruthTable['diaObjectId_dp02'][i]))\n",
    "\n",
    "        for f in range(6):\n",
    "            fx = np.where(results['filterName'] == plot_filter_labels[f])[0]\n",
    "            if len(fx) > 0:\n",
    "                mx = np.argmax(results['psFlux'][fx])\n",
    "                max_mjd = results['midPointTai'][fx[mx]]\n",
    "                tx = np.where((results['midPointTai'][fx] < max_mjd - 100.0) |\n",
    "                              (results['midPointTai'][fx] > max_mjd + 500.0) )[0]\n",
    "                myTruthTable[plot_filter_labels[f] + '_cont_N'][i] = len(tx)\n",
    "                if len(tx) > 0:\n",
    "                    myTruthTable[plot_filter_labels[f] + '_cont_mean'][i] = np.mean(results['psFlux'][fx[tx]])\n",
    "                    myTruthTable[plot_filter_labels[f] + '_cont_sdev'][i] = np.std(results['psFlux'][fx[tx]])\n",
    "                del mx, tx, max_mjd\n",
    "            del fx"
   ]
  },
  {
   "cell_type": "markdown",
   "id": "483eb771-da78-4401-9617-5cca587fe4d2",
   "metadata": {},
   "source": [
    "### Plot distributions of these potential corrections\n",
    "\n",
    "First plot the distribution of the number of pre- and post-LC detections that exist for the set of matched SNIa. We can see that many only have 1, which would be insufficient to estimate a correction (and they probably don't need it, anyway)."
   ]
  },
  {
   "cell_type": "code",
   "execution_count": 40,
   "id": "10e0ad3d-fb27-4327-a453-052977a1d959",
   "metadata": {},
   "outputs": [
    {
     "data": {
      "image/png": "[encoded data removed]",
      "text/plain": [
       "<Figure size 1008x432 with 6 Axes>"
      ]
     },
     "metadata": {
      "needs_background": "light"
     },
     "output_type": "display_data"
    }
   ],
   "source": [
    "fig, ax = plt.subplots(3, 2, figsize=(14,6))\n",
    "f = 0\n",
    "for i in range(3):\n",
    "    for j in range(2):\n",
    "        temp = plot_filter_labels[f]+'_cont_N'\n",
    "        filtc = plot_filter_colors[plot_filter_labels[f]]\n",
    "        tx = np.where(myTruthTable[temp] > 0)[0]\n",
    "        ax[i,j].hist(myTruthTable[temp][tx], 100, color=filtc, label=plot_filter_labels[f])\n",
    "        ax[i,j].set_xlabel('Number of Pre & Post LC Detections')\n",
    "        ax[i,j].legend(loc='upper right')\n",
    "        f += 1\n",
    "        del filtc, temp, tx\n",
    "plt.show()"
   ]
  },
  {
   "cell_type": "markdown",
   "id": "3160527c-a43c-4d1e-b69a-5f4e43010b64",
   "metadata": {},
   "source": [
    "Plot the distribution of the flux values for all pre- and post-LC detections. It appears that only a tiny amount are positive, as they should be -- but not zero, which is a problem, because maybe our time range is not fully excluding epochs with SNIa light in the PVI."
   ]
  },
  {
   "cell_type": "code",
   "execution_count": 34,
   "id": "a574d0ee-696b-4282-8c8a-3413614ab100",
   "metadata": {},
   "outputs": [
    {
     "data": {
      "image/png": "[encoded data removed]",
      "text/plain": [
       "<Figure size 1008x432 with 6 Axes>"
      ]
     },
     "metadata": {
      "needs_background": "light"
     },
     "output_type": "display_data"
    }
   ],
   "source": [
    "xmin = -10000\n",
    "xmax = 10000\n",
    "\n",
    "fig, ax = plt.subplots(3, 2, figsize=(14,6))\n",
    "f = 0\n",
    "for i in range(3):\n",
    "    for j in range(2):\n",
    "        temp1 = plot_filter_labels[f]+'_cont_mean'\n",
    "        temp3 = plot_filter_labels[f]+'_cont_N'\n",
    "        filtc = plot_filter_colors[plot_filter_labels[f]]\n",
    "        tx = np.where((myTruthTable[temp3] > 1) & \\\n",
    "                      (myTruthTable[temp1] > xmin) & \\\n",
    "                      (myTruthTable[temp1] < xmax))[0]\n",
    "        ax[i,j].hist(myTruthTable[temp1][tx], 100, color=filtc, label=plot_filter_labels[f])\n",
    "        ax[i,j].set_xlabel('Average psFlux of Pre & Post LC Detections')\n",
    "        ax[i,j].set_xlim([xmin,xmax])\n",
    "        ax[i,j].legend(loc='upper right')\n",
    "        f += 1\n",
    "        del filtc, temp1, temp3, tx\n",
    "plt.show()"
   ]
  },
  {
   "cell_type": "markdown",
   "id": "78389374-ea02-4a68-aa4d-59a27203585a",
   "metadata": {},
   "source": [
    "Plot the distribution of standard deviation in the flux values for all pre- and post-LC detections. "
   ]
  },
  {
   "cell_type": "code",
   "execution_count": 35,
   "id": "9aa07dd7-79a1-4ea1-8e66-8011c9e99d6b",
   "metadata": {},
   "outputs": [
    {
     "data": {
      "image/png": "[encoded data removed]",
      "text/plain": [
       "<Figure size 1008x432 with 6 Axes>"
      ]
     },
     "metadata": {
      "needs_background": "light"
     },
     "output_type": "display_data"
    }
   ],
   "source": [
    "xmin = -100\n",
    "xmax = 2000\n",
    "\n",
    "fig, ax = plt.subplots(3, 2, figsize=(14,6))\n",
    "f = 0\n",
    "for i in range(3):\n",
    "    for j in range(2):\n",
    "        temp2 = plot_filter_labels[f]+'_cont_sdev'\n",
    "        temp3 = plot_filter_labels[f]+'_cont_N'\n",
    "        filtc = plot_filter_colors[plot_filter_labels[f]]\n",
    "        tx = np.where((myTruthTable[temp3] > 1) & \\\n",
    "                     (myTruthTable[temp2] > xmin) & \\\n",
    "                     (myTruthTable[temp2] < xmax))[0]\n",
    "        ax[i,j].hist(myTruthTable[temp2][tx], 100, color=filtc, label=plot_filter_labels[f])\n",
    "        ax[i,j].set_xlim([xmin,xmax])\n",
    "        ax[i,j].set_xlabel('Std.Dev. of Pre & Post LC Detections')\n",
    "        ax[i,j].legend(loc='upper right')\n",
    "        f += 1\n",
    "        del filtc, temp2, temp3, tx\n",
    "plt.show()"
   ]
  },
  {
   "cell_type": "markdown",
   "id": "cdee7cf5-5e1c-43bf-a4bd-823a9530e1aa",
   "metadata": {},
   "source": [
    "More meaningful is the distribution of the standard deviation *divided by the mean* (i.e., as a fraction of the mean flux value) for all pre- and post-LC detections. "
   ]
  },
  {
   "cell_type": "code",
   "execution_count": 38,
   "id": "61e39465-3567-4250-9b34-09a38ba7c07c",
   "metadata": {},
   "outputs": [
    {
     "name": "stderr",
     "output_type": "stream",
     "text": [
      "/tmp/ipykernel_13001/2332682209.py:12: RuntimeWarning: invalid value encountered in true_divide\n",
      "  value = myTruthTable[temp2]/np.abs(myTruthTable[temp1])\n"
     ]
    },
    {
     "data": {
      "image/png": "[encoded data removed]",
      "text/plain": [
       "<Figure size 1008x432 with 6 Axes>"
      ]
     },
     "metadata": {
      "needs_background": "light"
     },
     "output_type": "display_data"
    }
   ],
   "source": [
    "xmin = -0.1\n",
    "xmax = 1.0\n",
    "\n",
    "fig, ax = plt.subplots(3, 2, figsize=(14,6))\n",
    "f = 0\n",
    "for i in range(3):\n",
    "    for j in range(2):\n",
    "        temp1 = plot_filter_labels[f]+'_cont_mean'\n",
    "        temp2 = plot_filter_labels[f]+'_cont_sdev'\n",
    "        temp3 = plot_filter_labels[f]+'_cont_N'\n",
    "        filtc = plot_filter_colors[plot_filter_labels[f]]\n",
    "        value = myTruthTable[temp2]/np.abs(myTruthTable[temp1])\n",
    "        \n",
    "        tx = np.where((myTruthTable[temp3] > 1) & \\\n",
    "                     (value > xmin) & \\\n",
    "                     (value < xmax))[0]\n",
    "        \n",
    "        ax[i,j].hist(value[tx], 100, color=filtc, label=plot_filter_labels[f])\n",
    "        ax[i,j].set_xlim([xmin,xmax])\n",
    "        ax[i,j].set_xlabel('Std.Dev./Mean of Pre & Post LC Detections')\n",
    "        ax[i,j].legend(loc='upper right')\n",
    "        f += 1\n",
    "        del filtc, temp2, temp3, tx\n",
    "plt.show()"
   ]
  },
  {
   "cell_type": "markdown",
   "id": "40d66c87-e7d3-4257-9a20-f6e56be81b36",
   "metadata": {},
   "source": [
    "The above plot shows that the standard deviation in the flux values for all pre- and post-LC detections is around 10% of the mean flux of those detections. Which shows that we can only measure template contamination with an error of about 10% using this method. "
   ]
  },
  {
   "cell_type": "code",
   "execution_count": null,
   "id": "81d44dce-1954-4839-9bee-3bc68058d23d",
   "metadata": {},
   "outputs": [],
   "source": []
  }
 ],
 "metadata": {
  "kernelspec": {
   "display_name": "LSST",
   "language": "python",
   "name": "lsst"
  },
  "language_info": {
   "codemirror_mode": {
    "name": "ipython",
    "version": 3
   },
   "file_extension": ".py",
   "mimetype": "text/x-python",
   "name": "python",
   "nbconvert_exporter": "python",
   "pygments_lexer": "ipython3",
   "version": "3.10.4"
  }
 },
 "nbformat": 4,
 "nbformat_minor": 5
}
