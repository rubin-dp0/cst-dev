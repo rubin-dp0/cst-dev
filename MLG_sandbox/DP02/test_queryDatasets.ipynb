{
 "cells": [
  {
   "cell_type": "markdown",
   "id": "35c8de07-c8f0-48f2-a8dc-169a49171587",
   "metadata": {},
   "source": [
    "Check that use of `queryDatasets` for overlapping images is returning what we want.\n",
    "\n",
    "Import packages and set up the butler."
   ]
  },
  {
   "cell_type": "code",
   "execution_count": null,
   "id": "7905f8fb-df15-43c8-8c4c-bc5011c5c177",
   "metadata": {
    "tags": []
   },
   "outputs": [],
   "source": [
    "import matplotlib.pyplot as plt\n",
    "import lsst.daf.butler as dafButler"
   ]
  },
  {
   "cell_type": "code",
   "execution_count": null,
   "id": "9c052aff-0785-4848-9046-683826db6c0e",
   "metadata": {
    "tags": []
   },
   "outputs": [],
   "source": [
    "butler = dafButler.Butler('dp02', collections='2.2i/runs/DP0.2')"
   ]
  },
  {
   "cell_type": "code",
   "execution_count": null,
   "id": "3ccf1b8f-7dcc-4e5d-8209-473524fed493",
   "metadata": {},
   "outputs": [],
   "source": [
    "registry = butler.registry"
   ]
  },
  {
   "cell_type": "markdown",
   "id": "3998c1de-0819-4d88-8844-1ab68566c2c4",
   "metadata": {},
   "source": [
    "Define funtion for getting corners as arrays of RA and Dec."
   ]
  },
  {
   "cell_type": "code",
   "execution_count": null,
   "id": "e37fffcc-3db3-4a7b-b2fe-829da27ba5b5",
   "metadata": {},
   "outputs": [],
   "source": [
    "def get_corners_radec(wcs, bbox):\n",
    "\n",
    "    corners_x = [bbox.beginX, bbox.beginX, bbox.endX, bbox.endX]\n",
    "    corners_y = [bbox.beginY, bbox.endY, bbox.endY, bbox.beginY]\n",
    "    \n",
    "    corners_ra = []\n",
    "    corners_dec = []\n",
    "    \n",
    "    for i in range(4):\n",
    "        radec = wcs.pixelToSky(corners_x[i], corners_y[i])\n",
    "        corners_ra.append(radec.getRa().asDegrees())\n",
    "        corners_dec.append(radec.getDec().asDegrees())\n",
    "    \n",
    "    return corners_ra, corners_dec"
   ]
  },
  {
   "cell_type": "markdown",
   "id": "365d083a-c838-41b3-9695-c0a7286998b3",
   "metadata": {},
   "source": [
    "Use case.\n",
    "\n",
    "The visit and detector are known, and the dataId is defined."
   ]
  },
  {
   "cell_type": "code",
   "execution_count": null,
   "id": "42602941-f512-4743-ad87-84ae1d70c710",
   "metadata": {
    "tags": []
   },
   "outputs": [],
   "source": [
    "dataId = {'visit': 192350, 'detector': 175}\n",
    "visitInfo = butler.get('calexp.visitInfo', dataId=dataId)\n",
    "print(visitInfo)"
   ]
  },
  {
   "cell_type": "markdown",
   "id": "68def284-c834-4b58-93d2-07e8c3b3b1e7",
   "metadata": {},
   "source": [
    "Get corners."
   ]
  },
  {
   "cell_type": "code",
   "execution_count": null,
   "id": "5c8ceedf-5a4f-4415-a049-639a9d5369fd",
   "metadata": {
    "tags": []
   },
   "outputs": [],
   "source": [
    "calexp_wcs = butler.get('calexp.wcs', dataId=dataId)\n",
    "calexp_bbox = butler.get('calexp.bbox', dataId=dataId)\n",
    "calexp_corners_ra, calexp_corners_dec = get_corners_radec(calexp_wcs, calexp_bbox)\n",
    "for i in range(4):\n",
    "    print(calexp_corners_ra[i], calexp_corners_dec[i])"
   ]
  },
  {
   "cell_type": "markdown",
   "id": "7aa0fd4e-585a-450e-b6e1-576d2703d41e",
   "metadata": {},
   "source": [
    "Get the list of overlapping deepCoadd tract and patches with `queryDatasets`."
   ]
  },
  {
   "cell_type": "code",
   "execution_count": null,
   "id": "31cce6c0-8bd5-4746-a742-7878b51f6b84",
   "metadata": {
    "tags": []
   },
   "outputs": [],
   "source": [
    "for ref in registry.queryDatasets(\"deepCoadd\", dataId=dataId):\n",
    "    print(ref)"
   ]
  },
  {
   "cell_type": "markdown",
   "id": "e84fd11a-98ac-48e1-a55c-f932501068af",
   "metadata": {},
   "source": [
    "Do all these patches really overlap with the single visit and detector?\n",
    "\n",
    "Plot all the bboxes."
   ]
  },
  {
   "cell_type": "code",
   "execution_count": null,
   "id": "24d67361-afe4-45a4-882f-82e715771bab",
   "metadata": {
    "tags": []
   },
   "outputs": [],
   "source": [
    "fig = plt.figure()\n",
    "\n",
    "xvals = []\n",
    "yvals = []\n",
    "for i in range(4):\n",
    "    xvals.append(calexp_corners_ra[i])\n",
    "    yvals.append(calexp_corners_dec[i])\n",
    "xvals.append(calexp_corners_ra[0])\n",
    "yvals.append(calexp_corners_dec[0])\n",
    "plt.plot(xvals, yvals, ls='solid', color='blue', label='visit detector')\n",
    "del xvals, yvals\n",
    "\n",
    "for r, ref in enumerate(registry.queryDatasets(\"deepCoadd\", dataId=dataId)):\n",
    "    deepCoadd_dataId = ref.dataId\n",
    "    deepCoadd_wcs = butler.get('deepCoadd.wcs', dataId=deepCoadd_dataId)\n",
    "    deepCoadd_bbox = butler.get('deepCoadd.bbox', dataId=deepCoadd_dataId)\n",
    "    deepCoadd_corners_ra, deepCoadd_corners_dec = get_corners_radec(deepCoadd_wcs, deepCoadd_bbox)\n",
    "\n",
    "    xvals = []\n",
    "    yvals = []\n",
    "    for i in range(4):\n",
    "        xvals.append(deepCoadd_corners_ra[i])\n",
    "        yvals.append(deepCoadd_corners_dec[i])\n",
    "    xvals.append(deepCoadd_corners_ra[0])\n",
    "    yvals.append(deepCoadd_corners_dec[0])\n",
    "    plt.plot(xvals, yvals, ls='solid', lw=1, color='grey')\n",
    "    del xvals, yvals\n",
    "    del deepCoadd_dataId, deepCoadd_wcs, deepCoadd_bbox\n",
    "    del deepCoadd_corners_ra, deepCoadd_corners_dec\n",
    "\n",
    "plt.xlabel('RA')\n",
    "plt.ylabel('Dec')\n",
    "plt.legend()\n",
    "plt.show()"
   ]
  },
  {
   "cell_type": "code",
   "execution_count": null,
   "id": "f328b468-2d97-4dda-87bf-2f8ff3133a4c",
   "metadata": {},
   "outputs": [],
   "source": []
  }
 ],
 "metadata": {
  "kernelspec": {
   "display_name": "LSST",
   "language": "python",
   "name": "lsst"
  },
  "language_info": {
   "codemirror_mode": {
    "name": "ipython",
    "version": 3
   },
   "file_extension": ".py",
   "mimetype": "text/x-python",
   "name": "python",
   "nbconvert_exporter": "python",
   "pygments_lexer": "ipython3",
   "version": "3.10.5"
  }
 },
 "nbformat": 4,
 "nbformat_minor": 5
}
