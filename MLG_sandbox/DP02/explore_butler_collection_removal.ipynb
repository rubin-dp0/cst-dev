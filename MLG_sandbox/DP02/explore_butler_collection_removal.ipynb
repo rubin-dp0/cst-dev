{
 "cells": [
  {
   "cell_type": "markdown",
   "id": "73cdd5c1-3fca-4e1c-a649-03cccadc52cc",
   "metadata": {},
   "source": [
    "# How to delete butler collections. STAFF ONLY\n",
    "\n",
    "Users should be encouraged to take up space, and not try to delete things from the butler."
   ]
  },
  {
   "cell_type": "code",
   "execution_count": null,
   "id": "2ab9cd50-c860-4ff7-8203-0a562080c23e",
   "metadata": {},
   "outputs": [],
   "source": [
    "import os\n",
    "import getpass\n",
    "from lsst.daf.butler import Butler, DatasetType, CollectionType, Datastore"
   ]
  },
  {
   "cell_type": "code",
   "execution_count": null,
   "id": "be40ba06-f7a8-4df8-807d-9e52405ccee5",
   "metadata": {},
   "outputs": [],
   "source": [
    "config = 'dp02'\n",
    "butler = Butler(config)"
   ]
  },
  {
   "cell_type": "markdown",
   "id": "f9621907-b6e8-45fb-bbd3-ad9ff9b815a6",
   "metadata": {},
   "source": [
    "## Identify collections to delete"
   ]
  },
  {
   "cell_type": "code",
   "execution_count": null,
   "id": "1ba1ad8e-e539-4fd3-80e9-c8583afa367b",
   "metadata": {},
   "outputs": [],
   "source": [
    "# my_outputCollection = 'u/melissagraham/coadd_recreation_nb'\n",
    "my_outputCollection = 'u/melissagraham/custom_coadd_window1_test1'"
   ]
  },
  {
   "cell_type": "markdown",
   "id": "f30da874-9187-41e3-bb3c-f0854fdc880b",
   "metadata": {},
   "source": [
    "Get the list of all the collections with that name which already exist.\n",
    "\n",
    "These were all made in draft_Create_Custom_Coadds.ipynb\n",
    "\n",
    "The collection 'u/melissagraham/coadd_recreation_nb' was a CHAINED collection that was made."
   ]
  },
  {
   "cell_type": "code",
   "execution_count": null,
   "id": "1b0e1d16-5872-44fd-b9df-ba9af61f28ae",
   "metadata": {},
   "outputs": [],
   "source": [
    "for c in sorted(butler.registry.queryCollections()):\n",
    "    if c.find(my_outputCollection) > -1:\n",
    "        print(c)"
   ]
  },
  {
   "cell_type": "code",
   "execution_count": null,
   "id": "f663385b-81de-4cee-a634-e1f377d5b1e1",
   "metadata": {},
   "outputs": [],
   "source": [
    "del butler"
   ]
  },
  {
   "cell_type": "markdown",
   "id": "abc7b472-fcfe-496a-992d-7b78d20a043a",
   "metadata": {},
   "source": [
    "## To delete stuff\n",
    "\n",
    "I will need a butler with write permissions.\n",
    "\n",
    "Instantiate it with only `my_outputCollection`, for safety."
   ]
  },
  {
   "cell_type": "code",
   "execution_count": null,
   "id": "a704203b-0339-478c-8e0b-48dfe987584c",
   "metadata": {},
   "outputs": [],
   "source": [
    "tmpButler = Butler(config, collections=my_outputCollection, writeable=True)"
   ]
  },
  {
   "cell_type": "markdown",
   "id": "0bd80870-4e38-40be-86d4-4335bf32f8b0",
   "metadata": {},
   "source": [
    "### delete collections\n",
    "\n",
    "`tmpButler.registry.removeCollection` will work for removing a collection. This is a CHAINED collection.\n",
    "\n",
    "**WARNING** that the following would remove the deepcoadd you'd already made!!"
   ]
  },
  {
   "cell_type": "code",
   "execution_count": null,
   "id": "44f7dde9-ca15-4eff-a572-d2da2811e9d8",
   "metadata": {},
   "outputs": [],
   "source": [
    "# tmpButler.registry.removeCollection('u/melissagraham/coadd_recreation_nb')\n",
    "tmpButler.registry.removeCollection('u/melissagraham/custom_coadd_window1_test1')"
   ]
  },
  {
   "cell_type": "markdown",
   "id": "05597640-a532-480f-936a-8e6c5108d0db",
   "metadata": {},
   "source": [
    "Check:"
   ]
  },
  {
   "cell_type": "code",
   "execution_count": null,
   "id": "c3d4f993-62f9-4001-9110-d35cc8a4920f",
   "metadata": {},
   "outputs": [],
   "source": [
    "for c in sorted(tmpButler.registry.queryCollections()):\n",
    "    if c.find(my_outputCollection) > -1:\n",
    "        print(c)"
   ]
  },
  {
   "cell_type": "markdown",
   "id": "362fc6d0-8dd4-426f-9477-ef67761c989e",
   "metadata": {},
   "source": [
    "### delete runs\n",
    "\n",
    "But 'removeCollection' will not work to remove the results of a RUN collection.\n",
    "\n",
    "This does not work: <br>\n",
    "`tmpButler.registry.removeCollection('u/melissagraham/coadd_recreation_nb/20220610T171249Z')`\n",
    "<br>\n",
    "\n",
    "And neither does: <br>\n",
    "`tmpButler.registry.removeCollection('u/melissagraham/coadd_recreation_nb/TestWindow1')`\n",
    "<br>\n",
    "\n",
    "Instead, do this:"
   ]
  },
  {
   "cell_type": "code",
   "execution_count": null,
   "id": "cac2fa42-f2b6-4255-8da9-71bd5be87ef4",
   "metadata": {},
   "outputs": [],
   "source": [
    "# tmpButler.removeRuns(['u/melissagraham/coadd_recreation_nb/TestWindow1'])\n",
    "# tmpButler.removeRuns(['u/melissagraham/coadd_recreation_nb/TestWindow2'])\n",
    "# tmpButler.removeRuns(['u/melissagraham/coadd_recreation_nb/TestWindow3'])\n",
    "\n",
    "tmpButler.removeRuns(['u/melissagraham/custom_coadd_window1_test1/20230215T021158Z'])\n",
    "tmpButler.removeRuns(['u/melissagraham/custom_coadd_window1_test1/20230215T164015Z'])\n",
    "tmpButler.removeRuns(['u/melissagraham/custom_coadd_window1_test1/20230215T165818Z'])\n",
    "tmpButler.removeRuns(['u/melissagraham/custom_coadd_window1_test1/20230215T172824Z'])\n",
    "tmpButler.removeRuns(['u/melissagraham/custom_coadd_window1_test1/20230215T175539Z'])"
   ]
  },
  {
   "cell_type": "markdown",
   "id": "2c10bd72-cccd-40a0-a8b3-8033cd79d29d",
   "metadata": {},
   "source": [
    "See? No output, nothing left."
   ]
  },
  {
   "cell_type": "code",
   "execution_count": null,
   "id": "e6a7d452-831e-4145-a431-9f912704534f",
   "metadata": {},
   "outputs": [],
   "source": [
    "for c in sorted(tmpButler.registry.queryCollections()):\n",
    "    if c.find(my_outputCollection) > -1:\n",
    "        print(c)"
   ]
  },
  {
   "cell_type": "markdown",
   "id": "5647c263-88c5-4ae4-967f-9b3efd105e12",
   "metadata": {},
   "source": [
    "### bulk removal\n",
    "\n",
    "If you want to do a bulk removal."
   ]
  },
  {
   "cell_type": "code",
   "execution_count": null,
   "id": "38c7d946-e6cf-4562-8170-be05c9394416",
   "metadata": {},
   "outputs": [],
   "source": [
    "# for c in sorted(tmpButler.registry.queryCollections()):\n",
    "#     if c.find(my_outputCollection) > -1:\n",
    "#         print('Removing: ', c)\n",
    "#         tmpButler.removeRuns([c])"
   ]
  },
  {
   "cell_type": "markdown",
   "id": "904146d5-bc08-4163-891e-2b72790ef644",
   "metadata": {},
   "source": [
    "See? All gone:"
   ]
  },
  {
   "cell_type": "code",
   "execution_count": null,
   "id": "ab95bcd1-f134-4b38-aa65-499c9e2145be",
   "metadata": {},
   "outputs": [],
   "source": [
    "for c in sorted(tmpButler.registry.queryCollections()):\n",
    "    if c.find(my_outputCollection) > -1:\n",
    "        print(c)"
   ]
  },
  {
   "cell_type": "code",
   "execution_count": null,
   "id": "3f2a4fd4-658d-42a4-ab50-226834ddfda1",
   "metadata": {},
   "outputs": [],
   "source": [
    "del tmpButler"
   ]
  },
  {
   "cell_type": "markdown",
   "id": "bbd69930-7694-4737-a624-bc41c413293a",
   "metadata": {},
   "source": [
    "<br>\n",
    "<br>\n",
    "<br>\n",
    "\n",
    "## No, none of this was the way.\n",
    "\n",
    "Just leaving these explorations here, in case.\n",
    "\n",
    "From the sqlalche.me link, an \"Integrity Error\" is \"Exception raised when the relational integrity of the database is affected, e.g. a foreign key check fails.\"\n",
    "\n",
    "Let's explore more to try and figure out why I can't delete that collection.\n",
    "\n",
    "Double check the type of collection it is."
   ]
  },
  {
   "cell_type": "code",
   "execution_count": null,
   "id": "e06e26a7-cbcd-4b73-8783-1f917cd7bf74",
   "metadata": {},
   "outputs": [],
   "source": [
    "# tmpButler.registry.getCollectionType('u/melissagraham/coadd_recreation_nb/20220610T171249Z')"
   ]
  },
  {
   "cell_type": "markdown",
   "id": "fbaf7cd0-310c-4564-8c43-6208405e51b4",
   "metadata": {},
   "source": [
    "Since this is a RUN collection type, it should be removable, so it says here: https://pipelines.lsst.io/py-api/lsst.daf.butler.Registry.html#lsst.daf.butler.Registry.removeCollection\n",
    "\n",
    "The above also specifies: \n",
    "_\"If this is a RUN collection, all datasets and quanta in it are also fully removed. This requires that those datasets be removed (or at least trashed) from any datastores that hold them first.\"_\n",
    "\n",
    "OK so we must first remove the dataset from the datastore: https://pipelines.lsst.io/modules/lsst.daf.butler/datastores.html\n",
    "\n",
    "The above says the default configuration values can be inspected at `$DAF_BUTLER_DIR/python/lsst/daf/butler/configs` "
   ]
  },
  {
   "cell_type": "code",
   "execution_count": null,
   "id": "93096b6a-01ea-4e5c-94fb-704093c50373",
   "metadata": {},
   "outputs": [],
   "source": [
    "# os.system('ls $DAF_BUTLER_DIR/python/lsst/daf/butler/configs')"
   ]
  },
  {
   "cell_type": "code",
   "execution_count": null,
   "id": "f05770b0-b8b8-4394-9aec-7c22bf65a0f6",
   "metadata": {},
   "outputs": [],
   "source": [
    "# filename_datastore_yaml = '$DAF_BUTLER_DIR/python/lsst/daf/butler/configs/datastore.yaml'"
   ]
  },
  {
   "cell_type": "code",
   "execution_count": null,
   "id": "7d62b7b6-2a0f-473a-910a-53a50c689604",
   "metadata": {},
   "outputs": [],
   "source": [
    "# os.system('more '+filename_datastore_yaml)"
   ]
  },
  {
   "cell_type": "markdown",
   "id": "db665df4-602d-4bd7-a009-d7cdc11db470",
   "metadata": {},
   "source": [
    "There is a `lsst.daf.butler.Datastore.remove` which will _\"Indicate to the Datastore that a Dataset can be removed\"_. https://pipelines.lsst.io/py-api/lsst.daf.butler.Datastore.html#lsst.daf.butler.Datastore.remove\n",
    "\n",
    "So now figure out how to use that `Datastore.remove` function on the datasets for my collection.\n",
    "\n",
    "> **STOP HERE:** not sure that messing with the datastores is the way to go, check with Clare... "
   ]
  },
  {
   "cell_type": "code",
   "execution_count": null,
   "id": "4dca7032-0b4b-49ec-afec-0f97425b7ce7",
   "metadata": {},
   "outputs": [],
   "source": [
    "# tmpDatastore = Datastore( ??? )"
   ]
  },
  {
   "cell_type": "code",
   "execution_count": null,
   "id": "1fb82011-3f84-43c4-a46d-8f2a25c99f8e",
   "metadata": {},
   "outputs": [],
   "source": [
    "# tmpButler.datastore.remove( ??? )"
   ]
  },
  {
   "cell_type": "code",
   "execution_count": null,
   "id": "2fbe1ade-0b12-47eb-a377-ce4b89da5963",
   "metadata": {},
   "outputs": [],
   "source": [
    "# del tmpButler"
   ]
  },
  {
   "cell_type": "code",
   "execution_count": null,
   "id": "c7d82215-43b4-49c8-8514-b43fd4ecf1d5",
   "metadata": {},
   "outputs": [],
   "source": []
  }
 ],
 "metadata": {
  "kernelspec": {
   "display_name": "LSST",
   "language": "python",
   "name": "lsst"
  },
  "language_info": {
   "codemirror_mode": {
    "name": "ipython",
    "version": 3
   },
   "file_extension": ".py",
   "mimetype": "text/x-python",
   "name": "python",
   "nbconvert_exporter": "python",
   "pygments_lexer": "ipython3",
   "version": "3.10.5"
  }
 },
 "nbformat": 4,
 "nbformat_minor": 5
}
