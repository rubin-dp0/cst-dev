{
 "cells": [
  {
   "cell_type": "markdown",
   "id": "d4363b80-98e3-436a-b54c-28b5286bb299",
   "metadata": {},
   "source": [
    "# Recipes\n",
    "\n",
    "Double check every recipe listed in the dp0-2.lsst.io documentation for ADQL recipes."
   ]
  },
  {
   "cell_type": "code",
   "execution_count": 28,
   "id": "a46c4d50-f443-48ed-8804-a3903bd61d96",
   "metadata": {},
   "outputs": [],
   "source": [
    "from lsst.rsp import get_tap_service, retrieve_query\n",
    "import numpy\n",
    "import matplotlib.pyplot as plt"
   ]
  },
  {
   "cell_type": "code",
   "execution_count": null,
   "id": "5ddb8648-7f5a-479d-a4a5-c30d55b73ec7",
   "metadata": {},
   "outputs": [],
   "source": [
    "service = get_tap_service()"
   ]
  },
  {
   "cell_type": "markdown",
   "id": "83306ed6-f306-4995-8d26-8c3177f2123d",
   "metadata": {},
   "source": [
    "## Cone Search"
   ]
  },
  {
   "cell_type": "code",
   "execution_count": 2,
   "id": "f85beef6-697b-410d-aec4-342248f34048",
   "metadata": {},
   "outputs": [
    {
     "data": {
      "text/plain": [
       "<Table length=100>\n",
       " coord_dec   coord_ra  deblend_nChild ... z_psfFluxErr    z_ra   \n",
       "    deg        deg                    ...     nJy         deg    \n",
       "  float64    float64       int32      ...   float64     float64  \n",
       "----------- ---------- -------------- ... ------------ ----------\n",
       "-44.5129261 49.9828082              0 ...   93.4543846 49.9828081\n",
       "  -44.51063 49.7664208              0 ...   96.8546919 49.7664479\n",
       "-44.5091781  49.765766              0 ...   97.2166618 49.7657681\n",
       "-44.5139071 50.0702578              0 ...   92.0929853 50.0702569\n",
       "-44.5123156 49.8943233              0 ...   87.2205548 49.8943228\n",
       "-44.5126099 49.8953354              0 ...   86.6904408 49.8953348\n",
       "-44.5115258 49.7810784              0 ...   94.4548481 49.7810781\n",
       "-44.5119118 49.7816127              0 ...   94.4763712 49.7816367\n",
       "  -44.51251   50.03217              0 ...   89.8343625 50.0321703\n",
       "        ...        ...            ... ...          ...        ...\n",
       "-44.5123155 49.9783954              0 ...   93.3294968 49.9783949\n",
       "-44.5121424 49.9770035              0 ...   91.9253327 49.9770087\n",
       "-44.5120653  49.957224              0 ...   93.6856675 49.9572272\n",
       "-44.5150942 50.0211175              0 ...   91.5640441 50.0210454\n",
       "-44.5143318 49.9531746              0 ...     93.62192 49.9531729\n",
       "-44.5139127  49.953791              0 ...   95.0501122 49.9537841\n",
       "-44.5127834 49.7705094              0 ...   98.8618994 49.7704878\n",
       "-44.5124965 49.7700434              0 ...   99.1352476 49.7700391\n",
       "-44.5125889 49.8219018              0 ...   93.7618249 49.8219019\n",
       "-44.5131123 49.8215621              0 ...   93.8123428  49.821562"
      ]
     },
     "execution_count": 2,
     "metadata": {},
     "output_type": "execute_result"
    }
   ],
   "source": [
    "query = \"SELECT TOP 100 * FROM dp02_dc2_catalogs.Object\"\n",
    "results = service.search(query)\n",
    "results.to_table()"
   ]
  },
  {
   "cell_type": "markdown",
   "id": "edd37f1b-667a-4d35-8dbe-fd9c3a5e8dc5",
   "metadata": {},
   "source": [
    "## Convert fluxes to magnitudes"
   ]
  },
  {
   "cell_type": "code",
   "execution_count": 6,
   "id": "984da320-3a0c-4a67-b503-c522248aac9a",
   "metadata": {},
   "outputs": [
    {
     "data": {
      "text/html": [
       "<div><i>Table length=7332</i>\n",
       "<table id=\"table140260794526416\" class=\"table-striped table-bordered table-condensed\">\n",
       "<thead><tr><th>coord_dec</th><th>coord_ra</th><th>g_calibMag</th><th>g_calibMagErr</th></tr></thead>\n",
       "<thead><tr><th>deg</th><th>deg</th><th></th><th></th></tr></thead>\n",
       "<thead><tr><th>float64</th><th>float64</th><th>float64</th><th>float64</th></tr></thead>\n",
       "<tr><td>-36.9656694</td><td>62.0369809</td><td>26.582637878944716</td><td>0.4263455785056728</td></tr>\n",
       "<tr><td>-36.965212</td><td>62.036374</td><td>26.99956701321028</td><td>0.6273079714987698</td></tr>\n",
       "<tr><td>-36.9657835</td><td>62.0365534</td><td>26.903565359447207</td><td>0.572580273491416</td></tr>\n",
       "<tr><td>-36.9658675</td><td>62.0042675</td><td>24.88546772515444</td><td>0.09111463207875205</td></tr>\n",
       "<tr><td>-36.9653025</td><td>62.0035388</td><td>26.322966993161558</td><td>0.3411027771126243</td></tr>\n",
       "<tr><td>-36.9645116</td><td>62.0363382</td><td>25.94904653065489</td><td>0.2399847954151581</td></tr>\n",
       "<tr><td>-36.9658251</td><td>62.013897</td><td>22.62467174115603</td><td>0.011398692618869163</td></tr>\n",
       "<tr><td>-36.964871</td><td>62.0249569</td><td>23.827615802602327</td><td>0.033164855788257515</td></tr>\n",
       "<tr><td>-36.9645238</td><td>62.0243696</td><td>26.33175007659848</td><td>0.33332836173347247</td></tr>\n",
       "<tr><td>...</td><td>...</td><td>...</td><td>...</td></tr>\n",
       "<tr><td>-36.9628383</td><td>61.9933049</td><td>26.621137806693916</td><td>0.4412889944283155</td></tr>\n",
       "<tr><td>-36.9626554</td><td>61.9725688</td><td>26.14633235186159</td><td>0.28518663651399756</td></tr>\n",
       "<tr><td>-36.963367</td><td>61.9796937</td><td>27.24827136461829</td><td>0.7834184992581551</td></tr>\n",
       "<tr><td>-36.9630899</td><td>61.970684</td><td>26.239247701080256</td><td>0.3099198903287268</td></tr>\n",
       "<tr><td>-36.9628929</td><td>61.9585622</td><td>26.56198701593429</td><td>0.41642743202918964</td></tr>\n",
       "<tr><td>-36.9600283</td><td>61.9707257</td><td>26.23211372834674</td><td>0.30839498692103273</td></tr>\n",
       "<tr><td>-36.9596363</td><td>61.9770762</td><td>26.494352710896855</td><td>0.3933202349196549</td></tr>\n",
       "<tr><td>-36.9603412</td><td>61.9901775</td><td>26.186682086117763</td><td>0.29553216034498764</td></tr>\n",
       "<tr><td>-36.9596033</td><td>61.9690528</td><td>27.08110254443669</td><td>0.6774725969744869</td></tr>\n",
       "<tr><td>-36.9594333</td><td>61.9932344</td><td>26.815879166972003</td><td>0.5293429617405913</td></tr>\n",
       "</table></div>"
      ],
      "text/plain": [
       "<Table length=7332>\n",
       " coord_dec   coord_ra      g_calibMag        g_calibMagErr    \n",
       "    deg        deg                                            \n",
       "  float64    float64        float64             float64       \n",
       "----------- ---------- ------------------ --------------------\n",
       "-36.9656694 62.0369809 26.582637878944716   0.4263455785056728\n",
       " -36.965212  62.036374  26.99956701321028   0.6273079714987698\n",
       "-36.9657835 62.0365534 26.903565359447207    0.572580273491416\n",
       "-36.9658675 62.0042675  24.88546772515444  0.09111463207875205\n",
       "-36.9653025 62.0035388 26.322966993161558   0.3411027771126243\n",
       "-36.9645116 62.0363382  25.94904653065489   0.2399847954151581\n",
       "-36.9658251  62.013897  22.62467174115603 0.011398692618869163\n",
       " -36.964871 62.0249569 23.827615802602327 0.033164855788257515\n",
       "-36.9645238 62.0243696  26.33175007659848  0.33332836173347247\n",
       "        ...        ...                ...                  ...\n",
       "-36.9628383 61.9933049 26.621137806693916   0.4412889944283155\n",
       "-36.9626554 61.9725688  26.14633235186159  0.28518663651399756\n",
       " -36.963367 61.9796937  27.24827136461829   0.7834184992581551\n",
       "-36.9630899  61.970684 26.239247701080256   0.3099198903287268\n",
       "-36.9628929 61.9585622  26.56198701593429  0.41642743202918964\n",
       "-36.9600283 61.9707257  26.23211372834674  0.30839498692103273\n",
       "-36.9596363 61.9770762 26.494352710896855   0.3933202349196549\n",
       "-36.9603412 61.9901775 26.186682086117763  0.29553216034498764\n",
       "-36.9596033 61.9690528  27.08110254443669   0.6774725969744869\n",
       "-36.9594333 61.9932344 26.815879166972003   0.5293429617405913"
      ]
     },
     "execution_count": 6,
     "metadata": {},
     "output_type": "execute_result"
    }
   ],
   "source": [
    "query = \"SELECT coord_dec, coord_ra, \"\\\n",
    "        \"scisql_nanojanskyToAbMag(g_calibFlux) AS g_calibMag, \"\\\n",
    "        \"scisql_nanojanskyToAbMagSigma(g_calibFlux, g_calibFluxErr) as g_calibMagErr \"\\\n",
    "        \"FROM dp02_dc2_catalogs.Object \"\\\n",
    "        \"WHERE CONTAINS(POINT('ICRS', coord_ra, coord_dec), \"\\\n",
    "        \"CIRCLE('ICRS', 62, -37, 0.05)) = 1\"\n",
    "\n",
    "results = service.search(query)\n",
    "results.to_table()"
   ]
  },
  {
   "cell_type": "markdown",
   "id": "08b9f396-0af2-4d7d-b12d-ebfab377664d",
   "metadata": {},
   "source": [
    "## Table joins"
   ]
  },
  {
   "cell_type": "code",
   "execution_count": 7,
   "id": "4fa42996-3c55-4b33-b9e4-a0be278c0340",
   "metadata": {},
   "outputs": [
    {
     "data": {
      "text/html": [
       "<div><i>Table length=96606</i>\n",
       "<table id=\"table140260794530160\" class=\"table-striped table-bordered table-condensed\">\n",
       "<thead><tr><th>src_ccdVisitId</th><th>src_extendedness</th><th>src_band</th><th>src_psfAbMag</th><th>cv_obsStartMJD</th><th>cv_seeing</th></tr></thead>\n",
       "<thead><tr><th></th><th></th><th></th><th></th><th></th><th>arcsec</th></tr></thead>\n",
       "<thead><tr><th>int64</th><th>float64</th><th>object</th><th>float64</th><th>float64</th><th>float64</th></tr></thead>\n",
       "<tr><td>924164158</td><td>0.0</td><td>i</td><td>20.649165177100908</td><td>60937.2993156</td><td>0.8542065</td></tr>\n",
       "<tr><td>924164158</td><td>0.0</td><td>i</td><td>20.314904637534205</td><td>60937.2993156</td><td>0.8542065</td></tr>\n",
       "<tr><td>924164158</td><td>0.0</td><td>i</td><td>18.130966651009956</td><td>60937.2993156</td><td>0.8542065</td></tr>\n",
       "<tr><td>924164158</td><td>0.0</td><td>i</td><td>18.822950294776405</td><td>60937.2993156</td><td>0.8542065</td></tr>\n",
       "<tr><td>924164158</td><td>0.0</td><td>i</td><td>19.016681186122455</td><td>60937.2993156</td><td>0.8542065</td></tr>\n",
       "<tr><td>924164158</td><td>0.0</td><td>i</td><td>20.78608708708488</td><td>60937.2993156</td><td>0.8542065</td></tr>\n",
       "<tr><td>924164158</td><td>0.0</td><td>i</td><td>19.753672584349893</td><td>60937.2993156</td><td>0.8542065</td></tr>\n",
       "<tr><td>924164158</td><td>0.0</td><td>i</td><td>21.362631404454277</td><td>60937.2993156</td><td>0.8542065</td></tr>\n",
       "<tr><td>924164158</td><td>0.0</td><td>i</td><td>18.30194960901137</td><td>60937.2993156</td><td>0.8542065</td></tr>\n",
       "<tr><td>...</td><td>...</td><td>...</td><td>...</td><td>...</td><td>...</td></tr>\n",
       "<tr><td>924125174</td><td>0.0</td><td>i</td><td>20.616539785698965</td><td>60937.2815216</td><td>0.8530782</td></tr>\n",
       "<tr><td>924125174</td><td>0.0</td><td>i</td><td>20.156236503457464</td><td>60937.2815216</td><td>0.8530782</td></tr>\n",
       "<tr><td>924125174</td><td>0.0</td><td>i</td><td>20.150309998221697</td><td>60937.2815216</td><td>0.8530782</td></tr>\n",
       "<tr><td>924125174</td><td>0.0</td><td>i</td><td>21.15183725274071</td><td>60937.2815216</td><td>0.8530782</td></tr>\n",
       "<tr><td>924125174</td><td>0.0</td><td>i</td><td>20.165930324964933</td><td>60937.2815216</td><td>0.8530782</td></tr>\n",
       "<tr><td>924125174</td><td>0.0</td><td>i</td><td>21.21543003519037</td><td>60937.2815216</td><td>0.8530782</td></tr>\n",
       "<tr><td>924125174</td><td>0.0</td><td>i</td><td>20.693628812180123</td><td>60937.2815216</td><td>0.8530782</td></tr>\n",
       "<tr><td>924125174</td><td>0.0</td><td>i</td><td>18.42105060614438</td><td>60937.2815216</td><td>0.8530782</td></tr>\n",
       "<tr><td>924125174</td><td>0.0</td><td>i</td><td>19.45947042293202</td><td>60937.2815216</td><td>0.8530782</td></tr>\n",
       "<tr><td>924125172</td><td>0.0</td><td>i</td><td>21.284395585810547</td><td>60937.2815216</td><td>0.8511186</td></tr>\n",
       "</table></div>"
      ],
      "text/plain": [
       "<Table length=96606>\n",
       "src_ccdVisitId src_extendedness src_band ... cv_obsStartMJD cv_seeing\n",
       "                                         ...                  arcsec \n",
       "    int64          float64       object  ...    float64      float64 \n",
       "-------------- ---------------- -------- ... -------------- ---------\n",
       "     924164158              0.0        i ...  60937.2993156 0.8542065\n",
       "     924164158              0.0        i ...  60937.2993156 0.8542065\n",
       "     924164158              0.0        i ...  60937.2993156 0.8542065\n",
       "     924164158              0.0        i ...  60937.2993156 0.8542065\n",
       "     924164158              0.0        i ...  60937.2993156 0.8542065\n",
       "     924164158              0.0        i ...  60937.2993156 0.8542065\n",
       "     924164158              0.0        i ...  60937.2993156 0.8542065\n",
       "     924164158              0.0        i ...  60937.2993156 0.8542065\n",
       "     924164158              0.0        i ...  60937.2993156 0.8542065\n",
       "           ...              ...      ... ...            ...       ...\n",
       "     924125174              0.0        i ...  60937.2815216 0.8530782\n",
       "     924125174              0.0        i ...  60937.2815216 0.8530782\n",
       "     924125174              0.0        i ...  60937.2815216 0.8530782\n",
       "     924125174              0.0        i ...  60937.2815216 0.8530782\n",
       "     924125174              0.0        i ...  60937.2815216 0.8530782\n",
       "     924125174              0.0        i ...  60937.2815216 0.8530782\n",
       "     924125174              0.0        i ...  60937.2815216 0.8530782\n",
       "     924125174              0.0        i ...  60937.2815216 0.8530782\n",
       "     924125174              0.0        i ...  60937.2815216 0.8530782\n",
       "     924125172              0.0        i ...  60937.2815216 0.8511186"
      ]
     },
     "execution_count": 7,
     "metadata": {},
     "output_type": "execute_result"
    }
   ],
   "source": [
    "query = \"SELECT src.ccdVisitId AS src_ccdVisitId, \"\\\n",
    "        \"src.extendedness AS src_extendedness, \"\\\n",
    "        \"src.band AS src_band, \"\\\n",
    "        \"scisql_nanojanskyToAbMag(src.psfFlux) AS src_psfAbMag, \"\\\n",
    "        \"cv.obsStartMJD AS cv_obsStartMJD, \"\\\n",
    "        \"cv.seeing AS cv_seeing \"\\\n",
    "        \"FROM dp02_dc2_catalogs.Source AS src \"\\\n",
    "        \"JOIN dp02_dc2_catalogs.CcdVisit AS cv \"\\\n",
    "        \"ON src.ccdVisitId = cv.ccdVisitId \"\\\n",
    "        \"WHERE CONTAINS(POINT('ICRS', coord_ra, coord_dec), \"\\\n",
    "        \"CIRCLE('ICRS', 62.0, -37, 1)) = 1 \"\\\n",
    "        \"AND src.band = 'i' \"\\\n",
    "        \"AND src.extendedness = 0 \"\\\n",
    "        \"AND src.psfFlux > 10000 \"\\\n",
    "        \"AND cv.obsStartMJD > 60925 \"\\\n",
    "        \"AND cv.obsStartMJD < 60955\"\n",
    "\n",
    "results = service.search(query)\n",
    "results.to_table()"
   ]
  },
  {
   "cell_type": "markdown",
   "id": "63de68fe-8c8b-472e-ae67-3a933ec5c73f",
   "metadata": {},
   "source": [
    "## TruthSummary and MatchesTruth table joins"
   ]
  },
  {
   "cell_type": "code",
   "execution_count": 8,
   "id": "948b4941-1516-4ad3-a691-ffba2b7d7430",
   "metadata": {},
   "outputs": [
    {
     "data": {
      "text/html": [
       "<div><i>Table length=1</i>\n",
       "<table id=\"table140260794887152\" class=\"table-striped table-bordered table-condensed\">\n",
       "<thead><tr><th>mt_id_truth_type</th><th>mt_match_objectId</th><th>obj_objectId</th><th>ts_redshift</th></tr></thead>\n",
       "<thead><tr><th>object</th><th>int64</th><th>int64</th><th>float32</th></tr></thead>\n",
       "<tr><td>9752536104_1</td><td>1486698050427598336</td><td>1486698050427598336</td><td>1.05513</td></tr>\n",
       "</table></div>"
      ],
      "text/plain": [
       "<Table length=1>\n",
       "mt_id_truth_type  mt_match_objectId      obj_objectId    ts_redshift\n",
       "     object             int64               int64          float32  \n",
       "---------------- ------------------- ------------------- -----------\n",
       "    9752536104_1 1486698050427598336 1486698050427598336     1.05513"
      ]
     },
     "execution_count": 8,
     "metadata": {},
     "output_type": "execute_result"
    }
   ],
   "source": [
    "query = \"SELECT mt.id_truth_type AS mt_id_truth_type, \"\\\n",
    "        \"mt.match_objectId AS mt_match_objectId, \"\\\n",
    "        \"obj.objectId AS obj_objectId, \"\\\n",
    "        \"ts.redshift AS ts_redshift \"\\\n",
    "        \"FROM dp02_dc2_catalogs.MatchesTruth AS mt \"\\\n",
    "        \"JOIN dp02_dc2_catalogs.TruthSummary AS ts \"\\\n",
    "        \"ON mt.id_truth_type=ts.id_truth_type \"\\\n",
    "        \"JOIN dp02_dc2_catalogs.Object AS obj \"\\\n",
    "        \"ON mt.match_objectId=obj.objectId \"\\\n",
    "        \"WHERE obj.objectId=1486698050427598336 \"\\\n",
    "        \"AND ts.truth_type=1 \"\\\n",
    "        \"AND obj.detect_isPrimary=1 \"\\\n",
    "        \"ORDER BY obj_objectId DESC\"\n",
    "results = service.search(query)\n",
    "results.to_table()"
   ]
  },
  {
   "cell_type": "markdown",
   "id": "2b4315da-c1d7-4fac-98b2-86b4c52ed237",
   "metadata": {},
   "source": [
    "## Individual objects"
   ]
  },
  {
   "cell_type": "markdown",
   "id": "80ec41ae-1c8d-4b7d-8279-94071169ab63",
   "metadata": {},
   "source": [
    "### first let's find an interesting population in color-space to work with"
   ]
  },
  {
   "cell_type": "code",
   "execution_count": 18,
   "id": "bb1669bb-8bdb-42b1-a7c0-f236c72c4024",
   "metadata": {},
   "outputs": [],
   "source": [
    "m1 = 20\n",
    "m2 = 18"
   ]
  },
  {
   "cell_type": "code",
   "execution_count": 23,
   "id": "8d7c5c6e-d71d-4f69-bb85-f0b9039190ba",
   "metadata": {},
   "outputs": [
    {
     "name": "stdout",
     "output_type": "stream",
     "text": [
      "36308.0 229087.0\n"
     ]
    }
   ],
   "source": [
    "sf1 = str(numpy.ceil(numpy.power( 10, (m1 - 31.4)/(-2.5))))\n",
    "sf2 = str(numpy.ceil(numpy.power( 10, (m2 - 31.4)/(-2.5))))\n",
    "print(sf1, sf2)"
   ]
  },
  {
   "cell_type": "code",
   "execution_count": 37,
   "id": "b59e3fff-9fe0-4157-bf9e-758abb5393dc",
   "metadata": {},
   "outputs": [
    {
     "data": {
      "text/html": [
       "<div><i>Table length=33578</i>\n",
       "<table id=\"table140260639050096\" class=\"table-striped table-bordered table-condensed\">\n",
       "<thead><tr><th>objectId</th><th>g_calibFlux</th><th>r_calibFlux</th><th>i_calibFlux</th><th>z_calibFlux</th></tr></thead>\n",
       "<thead><tr><th></th><th>nJy</th><th>nJy</th><th>nJy</th><th>nJy</th></tr></thead>\n",
       "<thead><tr><th>int64</th><th>float64</th><th>float64</th><th>float64</th><th>float64</th></tr></thead>\n",
       "<tr><td>1327840610446520805</td><td>43077.6254755</td><td>57111.1248009</td><td>62757.8434306</td><td>63741.9215871</td></tr>\n",
       "<tr><td>1327840610446516245</td><td>46550.7834108</td><td>63284.5690617</td><td>70859.7174351</td><td>73159.7140567</td></tr>\n",
       "<tr><td>1327840610446516703</td><td>39237.8985323</td><td>72373.7313796</td><td>91768.7897646</td><td>101115.1228777</td></tr>\n",
       "<tr><td>1327840610446518519</td><td>41631.9836579</td><td>98033.6111058</td><td>138283.738131</td><td>160884.5631347</td></tr>\n",
       "<tr><td>1327840610446524710</td><td>96052.1646028</td><td>165036.7921767</td><td>204382.8631616</td><td>222793.2182173</td></tr>\n",
       "<tr><td>1327823018260479984</td><td>71274.6144065</td><td>95348.3464881</td><td>106886.9287472</td><td>110630.5336188</td></tr>\n",
       "<tr><td>1327823018260479792</td><td>56832.5190085</td><td>70081.8268821</td><td>74104.3009616</td><td>73976.8570312</td></tr>\n",
       "<tr><td>1327823018260478520</td><td>76789.0598216</td><td>111122.9730887</td><td>129080.9418792</td><td>136756.799266</td></tr>\n",
       "<tr><td>1327823018260479144</td><td>66733.9353091</td><td>94328.7739712</td><td>108086.691514</td><td>113272.2749718</td></tr>\n",
       "<tr><td>...</td><td>...</td><td>...</td><td>...</td><td>...</td></tr>\n",
       "<tr><td>1911250276237477821</td><td>96781.8185097</td><td>126904.258833</td><td>139678.8709048</td><td>144367.5403415</td></tr>\n",
       "<tr><td>1911250276237474681</td><td>40152.5754855</td><td>51224.6524087</td><td>55385.5004058</td><td>55781.8739993</td></tr>\n",
       "<tr><td>1911250276237475811</td><td>48467.3383837</td><td>106627.7419454</td><td>145781.9621543</td><td>167406.7168327</td></tr>\n",
       "<tr><td>1911250276237475950</td><td>122812.3975989</td><td>179574.1667167</td><td>209242.1836949</td><td>221853.9136712</td></tr>\n",
       "<tr><td>1911250276237475110</td><td>61431.7606395</td><td>79809.5013443</td><td>87411.9325388</td><td>88657.9932137</td></tr>\n",
       "<tr><td>1911250276237481174</td><td>64330.8273247</td><td>94608.8373294</td><td>108746.3963133</td><td>113361.7168263</td></tr>\n",
       "<tr><td>1911250276237479656</td><td>36368.4116515</td><td>46436.4189379</td><td>50451.8791408</td><td>51597.3888515</td></tr>\n",
       "<tr><td>1911250276237479512</td><td>58105.0863069</td><td>72473.183023</td><td>77117.1771912</td><td>77097.7195663</td></tr>\n",
       "<tr><td>1911250276237472733</td><td>50224.6358584</td><td>61203.5093538</td><td>65082.6924265</td><td>64655.3622435</td></tr>\n",
       "<tr><td>1911250276237471683</td><td>72958.7385678</td><td>95392.5019501</td><td>105222.9787009</td><td>108603.217697</td></tr>\n",
       "</table></div>"
      ],
      "text/plain": [
       "<Table length=33578>\n",
       "      objectId       g_calibFlux    r_calibFlux    i_calibFlux    z_calibFlux  \n",
       "                         nJy            nJy            nJy            nJy      \n",
       "       int64           float64        float64        float64        float64    \n",
       "------------------- -------------- -------------- -------------- --------------\n",
       "1327840610446520805  43077.6254755  57111.1248009  62757.8434306  63741.9215871\n",
       "1327840610446516245  46550.7834108  63284.5690617  70859.7174351  73159.7140567\n",
       "1327840610446516703  39237.8985323  72373.7313796  91768.7897646 101115.1228777\n",
       "1327840610446518519  41631.9836579  98033.6111058  138283.738131 160884.5631347\n",
       "1327840610446524710  96052.1646028 165036.7921767 204382.8631616 222793.2182173\n",
       "1327823018260479984  71274.6144065  95348.3464881 106886.9287472 110630.5336188\n",
       "1327823018260479792  56832.5190085  70081.8268821  74104.3009616  73976.8570312\n",
       "1327823018260478520  76789.0598216 111122.9730887 129080.9418792  136756.799266\n",
       "1327823018260479144  66733.9353091  94328.7739712  108086.691514 113272.2749718\n",
       "                ...            ...            ...            ...            ...\n",
       "1911250276237477821  96781.8185097  126904.258833 139678.8709048 144367.5403415\n",
       "1911250276237474681  40152.5754855  51224.6524087  55385.5004058  55781.8739993\n",
       "1911250276237475811  48467.3383837 106627.7419454 145781.9621543 167406.7168327\n",
       "1911250276237475950 122812.3975989 179574.1667167 209242.1836949 221853.9136712\n",
       "1911250276237475110  61431.7606395  79809.5013443  87411.9325388  88657.9932137\n",
       "1911250276237481174  64330.8273247  94608.8373294 108746.3963133 113361.7168263\n",
       "1911250276237479656  36368.4116515  46436.4189379  50451.8791408  51597.3888515\n",
       "1911250276237479512  58105.0863069   72473.183023  77117.1771912  77097.7195663\n",
       "1911250276237472733  50224.6358584  61203.5093538  65082.6924265  64655.3622435\n",
       "1911250276237471683  72958.7385678  95392.5019501 105222.9787009  108603.217697"
      ]
     },
     "execution_count": 37,
     "metadata": {},
     "output_type": "execute_result"
    }
   ],
   "source": [
    "query = \"SELECT objectId, g_calibFlux, r_calibFlux, i_calibFlux, z_calibFlux \"\\\n",
    "        \"FROM dp02_dc2_catalogs.Object \"\\\n",
    "        \"WHERE CONTAINS(POINT('ICRS', coord_ra, coord_dec), \"\\\n",
    "        \"CIRCLE('ICRS', 62, -37, 5)) = 1 \"\\\n",
    "        \"AND detect_isPrimary = 1 \"\\\n",
    "        \"AND refExtendedness = 0 \"\\\n",
    "        \"AND g_calibFlux > \"+sf1+\" \"\\\n",
    "        \"AND g_calibFlux < \"+sf2+\" \"\\\n",
    "        \"AND r_calibFlux > \"+sf1+\" \"\\\n",
    "        \"AND r_calibFlux < \"+sf2+\" \"\\\n",
    "        \"AND i_calibFlux > \"+sf1+\" \"\\\n",
    "        \"AND i_calibFlux < \"+sf2+\" \"\\\n",
    "        \"AND z_calibFlux > \"+sf1+\" \"\\\n",
    "        \"AND z_calibFlux < \"+sf2+\" \"\\\n",
    "\n",
    "results = service.search(query)\n",
    "results.to_table()"
   ]
  },
  {
   "cell_type": "code",
   "execution_count": 48,
   "id": "7310fe25-cd93-4203-889c-8f7d5f2a149f",
   "metadata": {},
   "outputs": [
    {
     "data": {
      "text/plain": [
       "(-55000.0, 30000.0)"
      ]
     },
     "execution_count": 48,
     "metadata": {},
     "output_type": "execute_result"
    },
    {
     "data": {
      "image/png": "[encoded data removed]",
      "text/plain": [
       "<Figure size 640x480 with 1 Axes>"
      ]
     },
     "metadata": {},
     "output_type": "display_data"
    }
   ],
   "source": [
    "plt.plot(results['g_calibFlux']-results['r_calibFlux'],\n",
    "         results['i_calibFlux']-results['z_calibFlux'],\n",
    "         'o', ms=3, mew=0, alpha=0.5)\n",
    "plt.plot([0.0,25000,25000,0,0],[5000,5000,15000,15000,5000])\n",
    "plt.xlim([-90000,40000])\n",
    "plt.ylim([-55000,30000])"
   ]
  },
  {
   "cell_type": "code",
   "execution_count": 50,
   "id": "c13bb5e9-91f6-40d2-97ea-5093b21c83bd",
   "metadata": {},
   "outputs": [],
   "source": [
    "s_gmr_low = '0'\n",
    "s_gmr_hi  = '25000'\n",
    "s_imz_low = '5000'\n",
    "s_imz_hi  = '15000'"
   ]
  },
  {
   "cell_type": "code",
   "execution_count": 51,
   "id": "c7979055-013c-4309-ad98-715f5cad97ee",
   "metadata": {},
   "outputs": [
    {
     "data": {
      "text/html": [
       "<div><i>Table length=256</i>\n",
       "<table id=\"table140260634456464\" class=\"table-striped table-bordered table-condensed\">\n",
       "<thead><tr><th>objectId</th></tr></thead>\n",
       "<thead><tr><th>int64</th></tr></thead>\n",
       "<tr><td>1249537790362809267</td></tr>\n",
       "<tr><td>1252528461990360512</td></tr>\n",
       "<tr><td>1248772530269893180</td></tr>\n",
       "<tr><td>1251728017525343554</td></tr>\n",
       "<tr><td>1251710425339299404</td></tr>\n",
       "<tr><td>1250030371572068167</td></tr>\n",
       "<tr><td>1253443255664678173</td></tr>\n",
       "<tr><td>1251807182362538413</td></tr>\n",
       "<tr><td>1252607626827575504</td></tr>\n",
       "<tr><td>1249784080967440401</td></tr>\n",
       "<tr><td>...</td></tr>\n",
       "<tr><td>2184219430995668848</td></tr>\n",
       "<tr><td>2185864300390814945</td></tr>\n",
       "<tr><td>2184571274716557806</td></tr>\n",
       "<tr><td>2182081980391259187</td></tr>\n",
       "<tr><td>2185037467646726650</td></tr>\n",
       "<tr><td>2187298063553402698</td></tr>\n",
       "<tr><td>2186488822995356994</td></tr>\n",
       "<tr><td>2187148529972061040</td></tr>\n",
       "<tr><td>2187359636204575651</td></tr>\n",
       "<tr><td>2186875851088359187</td></tr>\n",
       "</table></div>"
      ],
      "text/plain": [
       "<Table length=256>\n",
       "      objectId     \n",
       "       int64       \n",
       "-------------------\n",
       "1249537790362809267\n",
       "1252528461990360512\n",
       "1248772530269893180\n",
       "1251728017525343554\n",
       "1251710425339299404\n",
       "1250030371572068167\n",
       "1253443255664678173\n",
       "1251807182362538413\n",
       "1252607626827575504\n",
       "1249784080967440401\n",
       "                ...\n",
       "2184219430995668848\n",
       "2185864300390814945\n",
       "2184571274716557806\n",
       "2182081980391259187\n",
       "2185037467646726650\n",
       "2187298063553402698\n",
       "2186488822995356994\n",
       "2187148529972061040\n",
       "2187359636204575651\n",
       "2186875851088359187"
      ]
     },
     "execution_count": 51,
     "metadata": {},
     "output_type": "execute_result"
    }
   ],
   "source": [
    "query = \"SELECT objectId \"\\\n",
    "        \"FROM dp02_dc2_catalogs.Object \"\\\n",
    "        \"WHERE detect_isPrimary = 1 \"\\\n",
    "        \"AND refExtendedness = 0 \"\\\n",
    "        \"AND g_calibFlux > \"+sf1+\" \"\\\n",
    "        \"AND g_calibFlux < \"+sf2+\" \"\\\n",
    "        \"AND r_calibFlux > \"+sf1+\" \"\\\n",
    "        \"AND r_calibFlux < \"+sf2+\" \"\\\n",
    "        \"AND i_calibFlux > \"+sf1+\" \"\\\n",
    "        \"AND i_calibFlux < \"+sf2+\" \"\\\n",
    "        \"AND z_calibFlux > \"+sf1+\" \"\\\n",
    "        \"AND z_calibFlux < \"+sf2+\" \"\\\n",
    "        \"AND g_calibFlux - r_calibFlux > \"+s_gmr_low+\" \"\\\n",
    "        \"AND g_calibFlux - r_calibFlux < \"+s_gmr_hi+\" \"\\\n",
    "        \"AND i_calibFlux - z_calibFlux > \"+s_imz_low+\" \"\\\n",
    "        \"AND i_calibFlux - z_calibFlux < \"+s_imz_hi+\" \"\\\n",
    "\n",
    "results = service.search(query)\n",
    "results.to_table()"
   ]
  },
  {
   "cell_type": "code",
   "execution_count": 57,
   "id": "0070ca33-31c6-45fe-a656-9c4b32d6afe3",
   "metadata": {},
   "outputs": [
    {
     "name": "stdout",
     "output_type": "stream",
     "text": [
      "(1249537790362809267, 1252528461990360512, 1248772530269893180, 1251728017525343554, 1251710425339299404, 1250030371572068167, 1253443255664678173, 1251807182362538413, 1252607626827575504, 1249784080967440401, 1253065023664713612, 1325835101237446771, 1253575197060015134, 1249027616967521118, 1250769243385931188, 1327180903469839020, 1250742855106867126, 1327559135469795049, 1327233680027980005, 1330197963376469541, 1326134168400205152, 1329353538446318891, 1329511868120737770, 1327779037795355379, 1329907692306735740, 1403478214344443676, 1252801140874048474, 1326556380865280269, 1405184656390778649, 1403495806530516256, 1329599829050944409, 1407286922623092480, 1407348495274254048, 1329960468864854025, 1406583235181327629, 1408236900669485178, 1404472172855996316, 1405008734530341474, 1407533213227707836, 1408377638157848715, 1408456802995044263, 1407445252297488710, 1407629970250949562, 1484903647451063686, 1405052714995458882, 1407973017878826594, 1485739276288158831, 1486636477776439437, 1483601825683783051, 1486979525404295711, 1404911977507104019, 1405360578251231786, 1488272551078559466, 1408474395181095440, 1488791520566867180, 1487014709776379503, 1484666152939457787, 1408412822529937340, 1488351715915760292, 1488782724473843962, 1486372594985757906, 1485211510706831897, 1485141141962650491, 1485668907543997603, 1486029547357903989, 1489029015078460596, 1565071239255458216, 1488166997962305798, 1488580414334310266, 1488633190892462586, 1567252670324976630, 1567173505487777995, 1568536899906221756, 1568484123348076692, 1488879481497085872, 1566883234418043552, 1566883234418036703, 1488615598706438460, 1568448938975992786, 1488870685404068805, 1565686965767009282, 1565625393115858566, 1483892096753501132, 1566109178232081292, 1568079503069066936, 1566505002418079561, 1566329080557638123, 1565159200185680846, 1484771706055733358, 1485994362985817088, 1568580880371313618, 1487401737869369644, 1569451693580524177, 1569504470138656321, 1567120728929635032, 1567410999999379573, 1567340631255181785, 1570296118510622937, 1649944740826752615, 1568906335813146471, 1568967908464293507, 1570093808371144526, 1567560533580751503, 1569346140464256237, 1567912377301642251, 1569891498231621688, 1653832613942566074, 1570234545859491903, 1567032767999415161, 1650463710315052826, 1651325727431236169, 1653929370965804195, 1570111400557178028, 1570111400557194400, 1652565976547372622, 1652258113291582070, 1569205402975898303, 1652609957012474610, 1649452159617491041, 1736172840723446126, 1651079436826618261, 1737413089839584397, 1651563221942830175, 1739154716257949803, 1739128327978905163, 1649355402594253180, 1736639033653634474, 1734721485374778069, 1733797895607442379, 1738266310862740090, 1735601094677007411, 1738530193653414505, 1739374618583521560, 1737281148444240536, 1737545031234927380, 1737545031234914623, 1737738545281413963, 1737729749188383017, 1738187146025542663, 1733604381560963430, 1734712689281772017, 1739444987327702547, 1821019954015674947, 1736674218025728371, 1738926017839368239, 1738327883513898720, 1738820464723140098, 1822383348434105671, 1825769844247656244, 1822831949178241992, 1820676906387798579, 1737800117932560606, 1738679727234776935, 1824916623224510873, 1825330039596552267, 1824344877178065853, 1823236569457275566, 1736445519607135444, 1826024930945299211, 1823764335038604696, 1822225018759709993, 1826104095782505263, 1822559270294569289, 1822172242201586826, 1913783551027881338, 1825857805177873874, 1824811070108241676, 1825664291131389326, 1821116711038926125, 1825189302108197790, 1912859961260540155, 1823817111596743336, 1912842369074496846, 1912851165167523276, 1913809939306951053, 1910361870842242120, 1913343746376762196, 1822119465643443650, 1909728552144644371, 1913968268981340451, 1912129885539706965, 1912508117539646089, 1998243636227115528, 1910995189539832754, 1911039170004947805, 2001278288319776928, 1910616957539877772, 2001770869528987337, 1914126598655726448, 2003415738924173484, 1910150764609699919, 2002975934273056316, 1910537792702683156, 2000970425063974345, 1911417402004912359, 2001392637529065936, 2003380554552080940, 2001858830459236363, 2003090283482361280, 1914452054097558253, 2000952832877949560, 2001023201622127425, 1999809340785079301, 2090417895006834202, 2002175489808052259, 2092115540960115465, 1999756564226930521, 2090567428588212879, 2002852788970756332, 2003635641249719455, 2094727980587699895, 2090189196588255352, 2092282666727540683, 2092212297983368503, 2000662561808223448, 2091552591006711145, 2094754368866792119, 2093945128308728154, 2089784576309244239, 2091534998820664160, 2093637265052970108, 2093628468959934615, 2094173826727309766, 2092440996401936982, 2092907189332111331, 2093232644773941573, 2094481689983097475, 2094947882913256835, 2094165030634292538, 2182240310065662614, 2090347526262652805, 2185239777786239002, 2093109499471637654, 2093039130727441829, 2186541599553528609, 2091913230820602063, 2094587243099361608, 2182688910809804614, 2090778534820754368, 2092889597146081695, 2187025384669742526, 2094182622820347505, 2186251328483791588, 2182090776484280295, 2182803260019078775, 2183674073228253173, 2184219430995668848, 2185864300390814945, 2184571274716557806, 2182081980391259187, 2185037467646726650, 2187298063553402698, 2186488822995356994, 2187148529972061040, 2187359636204575651, 2186875851088359187)\n"
     ]
    }
   ],
   "source": [
    "my_tuple_string = str(\"(\")\n",
    "for i in range(len(results)):\n",
    "    my_tuple_string += str(results['objectId'][i])\n",
    "    if i < len(results)-1:\n",
    "        my_tuple_string += \", \"\n",
    "    elif i == len(results)-1:\n",
    "        my_tuple_string += \")\"\n",
    "print(my_tuple_string)"
   ]
  },
  {
   "cell_type": "code",
   "execution_count": 58,
   "id": "4786198f-aaec-44bd-9c8d-be634f60876d",
   "metadata": {},
   "outputs": [
    {
     "name": "stdout",
     "output_type": "stream",
     "text": [
      "SELECT objectId, g_calibFlux, r_calibFlux, i_calibFlux, z_calibFlux FROM dp02_dc2_catalogs.Object WHERE objectId IN (1249537790362809267, 1252528461990360512, 1248772530269893180, 1251728017525343554, 1251710425339299404, 1250030371572068167, 1253443255664678173, 1251807182362538413, 1252607626827575504, 1249784080967440401, 1253065023664713612, 1325835101237446771, 1253575197060015134, 1249027616967521118, 1250769243385931188, 1327180903469839020, 1250742855106867126, 1327559135469795049, 1327233680027980005, 1330197963376469541, 1326134168400205152, 1329353538446318891, 1329511868120737770, 1327779037795355379, 1329907692306735740, 1403478214344443676, 1252801140874048474, 1326556380865280269, 1405184656390778649, 1403495806530516256, 1329599829050944409, 1407286922623092480, 1407348495274254048, 1329960468864854025, 1406583235181327629, 1408236900669485178, 1404472172855996316, 1405008734530341474, 1407533213227707836, 1408377638157848715, 1408456802995044263, 1407445252297488710, 1407629970250949562, 1484903647451063686, 1405052714995458882, 1407973017878826594, 1485739276288158831, 1486636477776439437, 1483601825683783051, 1486979525404295711, 1404911977507104019, 1405360578251231786, 1488272551078559466, 1408474395181095440, 1488791520566867180, 1487014709776379503, 1484666152939457787, 1408412822529937340, 1488351715915760292, 1488782724473843962, 1486372594985757906, 1485211510706831897, 1485141141962650491, 1485668907543997603, 1486029547357903989, 1489029015078460596, 1565071239255458216, 1488166997962305798, 1488580414334310266, 1488633190892462586, 1567252670324976630, 1567173505487777995, 1568536899906221756, 1568484123348076692, 1488879481497085872, 1566883234418043552, 1566883234418036703, 1488615598706438460, 1568448938975992786, 1488870685404068805, 1565686965767009282, 1565625393115858566, 1483892096753501132, 1566109178232081292, 1568079503069066936, 1566505002418079561, 1566329080557638123, 1565159200185680846, 1484771706055733358, 1485994362985817088, 1568580880371313618, 1487401737869369644, 1569451693580524177, 1569504470138656321, 1567120728929635032, 1567410999999379573, 1567340631255181785, 1570296118510622937, 1649944740826752615, 1568906335813146471, 1568967908464293507, 1570093808371144526, 1567560533580751503, 1569346140464256237, 1567912377301642251, 1569891498231621688, 1653832613942566074, 1570234545859491903, 1567032767999415161, 1650463710315052826, 1651325727431236169, 1653929370965804195, 1570111400557178028, 1570111400557194400, 1652565976547372622, 1652258113291582070, 1569205402975898303, 1652609957012474610, 1649452159617491041, 1736172840723446126, 1651079436826618261, 1737413089839584397, 1651563221942830175, 1739154716257949803, 1739128327978905163, 1649355402594253180, 1736639033653634474, 1734721485374778069, 1733797895607442379, 1738266310862740090, 1735601094677007411, 1738530193653414505, 1739374618583521560, 1737281148444240536, 1737545031234927380, 1737545031234914623, 1737738545281413963, 1737729749188383017, 1738187146025542663, 1733604381560963430, 1734712689281772017, 1739444987327702547, 1821019954015674947, 1736674218025728371, 1738926017839368239, 1738327883513898720, 1738820464723140098, 1822383348434105671, 1825769844247656244, 1822831949178241992, 1820676906387798579, 1737800117932560606, 1738679727234776935, 1824916623224510873, 1825330039596552267, 1824344877178065853, 1823236569457275566, 1736445519607135444, 1826024930945299211, 1823764335038604696, 1822225018759709993, 1826104095782505263, 1822559270294569289, 1822172242201586826, 1913783551027881338, 1825857805177873874, 1824811070108241676, 1825664291131389326, 1821116711038926125, 1825189302108197790, 1912859961260540155, 1823817111596743336, 1912842369074496846, 1912851165167523276, 1913809939306951053, 1910361870842242120, 1913343746376762196, 1822119465643443650, 1909728552144644371, 1913968268981340451, 1912129885539706965, 1912508117539646089, 1998243636227115528, 1910995189539832754, 1911039170004947805, 2001278288319776928, 1910616957539877772, 2001770869528987337, 1914126598655726448, 2003415738924173484, 1910150764609699919, 2002975934273056316, 1910537792702683156, 2000970425063974345, 1911417402004912359, 2001392637529065936, 2003380554552080940, 2001858830459236363, 2003090283482361280, 1914452054097558253, 2000952832877949560, 2001023201622127425, 1999809340785079301, 2090417895006834202, 2002175489808052259, 2092115540960115465, 1999756564226930521, 2090567428588212879, 2002852788970756332, 2003635641249719455, 2094727980587699895, 2090189196588255352, 2092282666727540683, 2092212297983368503, 2000662561808223448, 2091552591006711145, 2094754368866792119, 2093945128308728154, 2089784576309244239, 2091534998820664160, 2093637265052970108, 2093628468959934615, 2094173826727309766, 2092440996401936982, 2092907189332111331, 2093232644773941573, 2094481689983097475, 2094947882913256835, 2094165030634292538, 2182240310065662614, 2090347526262652805, 2185239777786239002, 2093109499471637654, 2093039130727441829, 2186541599553528609, 2091913230820602063, 2094587243099361608, 2182688910809804614, 2090778534820754368, 2092889597146081695, 2187025384669742526, 2094182622820347505, 2186251328483791588, 2182090776484280295, 2182803260019078775, 2183674073228253173, 2184219430995668848, 2185864300390814945, 2184571274716557806, 2182081980391259187, 2185037467646726650, 2187298063553402698, 2186488822995356994, 2187148529972061040, 2187359636204575651, 2186875851088359187)\n"
     ]
    }
   ],
   "source": [
    "query2 = \"SELECT objectId, g_calibFlux, r_calibFlux, i_calibFlux, z_calibFlux \"\\\n",
    "        \"FROM dp02_dc2_catalogs.Object \"\\\n",
    "        \"WHERE objectId IN \"+my_tuple_string\n",
    "\n",
    "print(query2)"
   ]
  },
  {
   "cell_type": "code",
   "execution_count": 59,
   "id": "362a33d2-bb86-478f-b95c-d17760d9ae43",
   "metadata": {},
   "outputs": [
    {
     "data": {
      "text/html": [
       "<div><i>Table length=256</i>\n",
       "<table id=\"table140260634452144\" class=\"table-striped table-bordered table-condensed\">\n",
       "<thead><tr><th>objectId</th><th>g_calibFlux</th><th>r_calibFlux</th><th>i_calibFlux</th><th>z_calibFlux</th></tr></thead>\n",
       "<thead><tr><th></th><th>nJy</th><th>nJy</th><th>nJy</th><th>nJy</th></tr></thead>\n",
       "<thead><tr><th>int64</th><th>float64</th><th>float64</th><th>float64</th><th>float64</th></tr></thead>\n",
       "<tr><td>1249537790362809267</td><td>74861.905009</td><td>71008.7684608</td><td>63042.0371438</td><td>55295.08567</td></tr>\n",
       "<tr><td>1252528461990360512</td><td>110279.2848563</td><td>103913.6772331</td><td>92179.3105265</td><td>80406.3727666</td></tr>\n",
       "<tr><td>1252607626827575504</td><td>96108.1210792</td><td>95609.7740778</td><td>88384.9612932</td><td>79696.7243888</td></tr>\n",
       "<tr><td>1252801140874048474</td><td>94118.0766943</td><td>85865.5781955</td><td>74113.9735787</td><td>62961.2774641</td></tr>\n",
       "<tr><td>1251710425339299404</td><td>129635.5052602</td><td>121466.0002045</td><td>106874.0670465</td><td>93195.9468387</td></tr>\n",
       "<tr><td>1251728017525343554</td><td>111372.6558593</td><td>93813.3084746</td><td>77025.5928906</td><td>66590.9042056</td></tr>\n",
       "<tr><td>1248772530269893180</td><td>72595.604498</td><td>61877.0381984</td><td>50825.0721705</td><td>42161.666567</td></tr>\n",
       "<tr><td>1325835101237446771</td><td>114152.960789</td><td>103744.8805816</td><td>89196.0421991</td><td>76138.2338808</td></tr>\n",
       "<tr><td>1253065023664713612</td><td>72724.1161393</td><td>61051.1147073</td><td>102095.5764369</td><td>93704.9358262</td></tr>\n",
       "<tr><td>...</td><td>...</td><td>...</td><td>...</td><td>...</td></tr>\n",
       "<tr><td>2186875851088359187</td><td>62666.8632296</td><td>57186.7707077</td><td>49111.1434235</td><td>41897.1903819</td></tr>\n",
       "<tr><td>2187359636204575651</td><td>95745.5349136</td><td>79156.4205667</td><td>64599.1809859</td><td>54474.7606363</td></tr>\n",
       "<tr><td>2182803260019078775</td><td>91076.7656398</td><td>90219.9417546</td><td>83112.6684777</td><td>74389.0004326</td></tr>\n",
       "<tr><td>2185239777786239002</td><td>130713.541969</td><td>116003.8164243</td><td>98327.1543131</td><td>87343.6271439</td></tr>\n",
       "<tr><td>2186541599553528609</td><td>173042.2490842</td><td>150009.5912486</td><td>125931.405689</td><td>111673.7994818</td></tr>\n",
       "<tr><td>2182688910809804614</td><td>94723.9182924</td><td>77299.5450092</td><td>63340.5676845</td><td>54551.3688877</td></tr>\n",
       "<tr><td>2187025384669742526</td><td>101879.3017759</td><td>82570.7490406</td><td>65940.9914385</td><td>53787.8186745</td></tr>\n",
       "<tr><td>2182090776484280295</td><td>102760.6970588</td><td>78249.4564194</td><td>60194.2346268</td><td>48123.1526688</td></tr>\n",
       "<tr><td>2184571274716557806</td><td>48540.0410614</td><td>48107.196714</td><td>49044.0356911</td><td>36565.9873243</td></tr>\n",
       "<tr><td>2185037467646726650</td><td>51026.9397598</td><td>49877.4753044</td><td>45447.5431071</td><td>40351.6122363</td></tr>\n",
       "</table></div>"
      ],
      "text/plain": [
       "<Table length=256>\n",
       "      objectId       g_calibFlux    r_calibFlux    i_calibFlux    z_calibFlux  \n",
       "                         nJy            nJy            nJy            nJy      \n",
       "       int64           float64        float64        float64        float64    \n",
       "------------------- -------------- -------------- -------------- --------------\n",
       "1249537790362809267   74861.905009  71008.7684608  63042.0371438    55295.08567\n",
       "1252528461990360512 110279.2848563 103913.6772331  92179.3105265  80406.3727666\n",
       "1252607626827575504  96108.1210792  95609.7740778  88384.9612932  79696.7243888\n",
       "1252801140874048474  94118.0766943  85865.5781955  74113.9735787  62961.2774641\n",
       "1251710425339299404 129635.5052602 121466.0002045 106874.0670465  93195.9468387\n",
       "1251728017525343554 111372.6558593  93813.3084746  77025.5928906  66590.9042056\n",
       "1248772530269893180   72595.604498  61877.0381984  50825.0721705   42161.666567\n",
       "1325835101237446771  114152.960789 103744.8805816  89196.0421991  76138.2338808\n",
       "1253065023664713612  72724.1161393  61051.1147073 102095.5764369  93704.9358262\n",
       "                ...            ...            ...            ...            ...\n",
       "2186875851088359187  62666.8632296  57186.7707077  49111.1434235  41897.1903819\n",
       "2187359636204575651  95745.5349136  79156.4205667  64599.1809859  54474.7606363\n",
       "2182803260019078775  91076.7656398  90219.9417546  83112.6684777  74389.0004326\n",
       "2185239777786239002  130713.541969 116003.8164243  98327.1543131  87343.6271439\n",
       "2186541599553528609 173042.2490842 150009.5912486  125931.405689 111673.7994818\n",
       "2182688910809804614  94723.9182924  77299.5450092  63340.5676845  54551.3688877\n",
       "2187025384669742526 101879.3017759  82570.7490406  65940.9914385  53787.8186745\n",
       "2182090776484280295 102760.6970588  78249.4564194  60194.2346268  48123.1526688\n",
       "2184571274716557806  48540.0410614   48107.196714  49044.0356911  36565.9873243\n",
       "2185037467646726650  51026.9397598  49877.4753044  45447.5431071  40351.6122363"
      ]
     },
     "execution_count": 59,
     "metadata": {},
     "output_type": "execute_result"
    }
   ],
   "source": [
    "results2 = service.search(query2)\n",
    "results2.to_table()"
   ]
  },
  {
   "cell_type": "markdown",
   "id": "811bb0e8-5475-4d98-b3af-3c7cb11073c0",
   "metadata": {},
   "source": [
    "### that's a bit much for the doc, just pick the first 12"
   ]
  },
  {
   "cell_type": "code",
   "execution_count": 60,
   "id": "74418a81-0dd8-499f-860b-19027bbfd8b8",
   "metadata": {},
   "outputs": [
    {
     "data": {
      "text/html": [
       "<div><i>Table length=12</i>\n",
       "<table id=\"table140260635836816\" class=\"table-striped table-bordered table-condensed\">\n",
       "<thead><tr><th>objectId</th><th>g_calibFlux</th><th>r_calibFlux</th><th>i_calibFlux</th><th>z_calibFlux</th></tr></thead>\n",
       "<thead><tr><th></th><th>nJy</th><th>nJy</th><th>nJy</th><th>nJy</th></tr></thead>\n",
       "<thead><tr><th>int64</th><th>float64</th><th>float64</th><th>float64</th><th>float64</th></tr></thead>\n",
       "<tr><td>1249537790362809267</td><td>74861.905009</td><td>71008.7684608</td><td>63042.0371438</td><td>55295.08567</td></tr>\n",
       "<tr><td>1252528461990360512</td><td>110279.2848563</td><td>103913.6772331</td><td>92179.3105265</td><td>80406.3727666</td></tr>\n",
       "<tr><td>1252607626827575504</td><td>96108.1210792</td><td>95609.7740778</td><td>88384.9612932</td><td>79696.7243888</td></tr>\n",
       "<tr><td>1248772530269893180</td><td>72595.604498</td><td>61877.0381984</td><td>50825.0721705</td><td>42161.666567</td></tr>\n",
       "<tr><td>1250030371572068167</td><td>60933.2661254</td><td>53611.4883397</td><td>44881.5931521</td><td>37466.7524269</td></tr>\n",
       "<tr><td>1251710425339299404</td><td>129635.5052602</td><td>121466.0002045</td><td>106874.0670465</td><td>93195.9468387</td></tr>\n",
       "<tr><td>1251728017525343554</td><td>111372.6558593</td><td>93813.3084746</td><td>77025.5928906</td><td>66590.9042056</td></tr>\n",
       "<tr><td>1325835101237446771</td><td>114152.960789</td><td>103744.8805816</td><td>89196.0421991</td><td>76138.2338808</td></tr>\n",
       "<tr><td>1253065023664713612</td><td>72724.1161393</td><td>61051.1147073</td><td>102095.5764369</td><td>93704.9358262</td></tr>\n",
       "<tr><td>1253443255664678173</td><td>60797.7722173</td><td>53166.6322455</td><td>44254.5940212</td><td>37224.9124137</td></tr>\n",
       "<tr><td>1249784080967440401</td><td>85838.9205471</td><td>76815.2468344</td><td>65459.6013708</td><td>55405.4532517</td></tr>\n",
       "<tr><td>1251807182362538413</td><td>100053.8253458</td><td>80094.502865</td><td>63105.6080841</td><td>51177.8382063</td></tr>\n",
       "</table></div>"
      ],
      "text/plain": [
       "<Table length=12>\n",
       "      objectId       g_calibFlux    r_calibFlux    i_calibFlux    z_calibFlux \n",
       "                         nJy            nJy            nJy            nJy     \n",
       "       int64           float64        float64        float64        float64   \n",
       "------------------- -------------- -------------- -------------- -------------\n",
       "1249537790362809267   74861.905009  71008.7684608  63042.0371438   55295.08567\n",
       "1252528461990360512 110279.2848563 103913.6772331  92179.3105265 80406.3727666\n",
       "1252607626827575504  96108.1210792  95609.7740778  88384.9612932 79696.7243888\n",
       "1248772530269893180   72595.604498  61877.0381984  50825.0721705  42161.666567\n",
       "1250030371572068167  60933.2661254  53611.4883397  44881.5931521 37466.7524269\n",
       "1251710425339299404 129635.5052602 121466.0002045 106874.0670465 93195.9468387\n",
       "1251728017525343554 111372.6558593  93813.3084746  77025.5928906 66590.9042056\n",
       "1325835101237446771  114152.960789 103744.8805816  89196.0421991 76138.2338808\n",
       "1253065023664713612  72724.1161393  61051.1147073 102095.5764369 93704.9358262\n",
       "1253443255664678173  60797.7722173  53166.6322455  44254.5940212 37224.9124137\n",
       "1249784080967440401  85838.9205471  76815.2468344  65459.6013708 55405.4532517\n",
       "1251807182362538413 100053.8253458   80094.502865  63105.6080841 51177.8382063"
      ]
     },
     "execution_count": 60,
     "metadata": {},
     "output_type": "execute_result"
    }
   ],
   "source": [
    "my_list = \"(1249537790362809267, 1252528461990360512, 1248772530269893180, \"\\\n",
    "          \"1251728017525343554, 1251710425339299404, 1250030371572068167, \"\\\n",
    "          \"1253443255664678173, 1251807182362538413, 1252607626827575504, \"\\\n",
    "          \"1249784080967440401, 1253065023664713612, 1325835101237446771)\"\n",
    "\n",
    "query = \"SELECT objectId, g_calibFlux, r_calibFlux, i_calibFlux, z_calibFlux \"\\\n",
    "        \"FROM dp02_dc2_catalogs.Object \"\\\n",
    "        \"WHERE objectId IN \"+my_list\n",
    "\n",
    "results = service.search(query)\n",
    "results.to_table()"
   ]
  },
  {
   "cell_type": "code",
   "execution_count": null,
   "id": "0157e1a5-7dc7-4d72-8826-a1f470f164e3",
   "metadata": {},
   "outputs": [],
   "source": []
  }
 ],
 "metadata": {
  "kernelspec": {
   "display_name": "LSST",
   "language": "python",
   "name": "lsst"
  },
  "language_info": {
   "codemirror_mode": {
    "name": "ipython",
    "version": 3
   },
   "file_extension": ".py",
   "mimetype": "text/x-python",
   "name": "python",
   "nbconvert_exporter": "python",
   "pygments_lexer": "ipython3",
   "version": "3.10.5"
  }
 },
 "nbformat": 4,
 "nbformat_minor": 5
}
