{
 "cells": [
  {
   "cell_type": "markdown",
   "id": "88e46a87-3937-4534-ae66-8343f99049ed",
   "metadata": {},
   "source": [
    "<img align=\"left\" src = https://project.lsst.org/sites/default/files/Rubin-O-Logo_0.png width=250 style=\"padding: 10px\"> \n",
    "<b>DRAFT: Coadd Recreation</b> <br>\n",
    "Contact author: Melissa Graham <br>\n",
    "Last verified to run: <i>yyyy-mm-dd</i> <br>\n",
    "LSST Science Piplines version: Weekly 2022_22 <br>\n",
    "Container Size: large <br>\n",
    "Targeted learning level: intermediate <br>"
   ]
  },
  {
   "cell_type": "raw",
   "id": "4bb97a81-0ca4-4a15-88df-a8e34c2fc7ea",
   "metadata": {},
   "source": [
    "Recent changes since Clare last looked (Thu Jun 30):\n",
    " - removed all the cells having to do with renaming outputs\n",
    " - added Section 7 \"Known Limitations\"\n",
    " - added the link to lsst.ctrl.mpexec.SimplePipelineExecutor.html\n",
    " - added description for what the quanta is\n",
    " - demonstrates how to get the new coadd from the quanta\n",
    "\n",
    "Need help with:\n",
    " - S.3.1.1 deleting user's butler collections\n",
    "   --> working on it in explore_butler_collection_removal.ipynb\n",
    " - S.5 rerunning source detection and measurement\n",
    "   --> working on it in explore_source_measurement_coadd.ipynb\n",
    "\n",
    "To Do:\n",
    " - S.4.3 run source measurement, compare with original deepCoadd\n",
    " - flake8 this NB"
   ]
  },
  {
   "cell_type": "code",
   "execution_count": 1,
   "id": "c3750d29-8d6c-4c65-996a-4afe8f784fab",
   "metadata": {},
   "outputs": [],
   "source": [
    "# %load_ext pycodestyle_magic\n",
    "# %flake8_on\n",
    "# import logging\n",
    "# logging.getLogger(\"flake8\").setLevel(logging.FATAL)"
   ]
  },
  {
   "cell_type": "markdown",
   "id": "985dbaac-2239-4e63-99af-069885693cd9",
   "metadata": {},
   "source": [
    "**Description:** Recreate a deepCoad using only a subset of the input visits."
   ]
  },
  {
   "cell_type": "markdown",
   "id": "835825c1-745b-4bb5-bad8-861812618231",
   "metadata": {},
   "source": [
    "**Skills:** Use of pipetasks for image coaddition. Creating and writing to Butler collections. Properties of deepCoadds."
   ]
  },
  {
   "cell_type": "markdown",
   "id": "e710443e-0f79-4a89-ae31-c07bed8e5d8d",
   "metadata": {},
   "source": [
    "**LSST Data Products:** DP0.2 images: deepCoadd. DP0.2 catalogs: visitTable."
   ]
  },
  {
   "cell_type": "markdown",
   "id": "5d2d1c4b-2893-4abc-99c3-c305338e5d05",
   "metadata": {},
   "source": [
    "**Packages:** lsst.daf.butler, lsst.ctrl.mpexec, lsst.pipe.base"
   ]
  },
  {
   "cell_type": "markdown",
   "id": "5992b774-f0bf-49d7-8e23-7aca9788f6fb",
   "metadata": {},
   "source": [
    "**Credit:** Originally developed by Melissa Graham and Clare Saunders."
   ]
  },
  {
   "cell_type": "markdown",
   "id": "37ebdbb7-c12d-4645-8259-13aed7872ebb",
   "metadata": {},
   "source": [
    "**Get Support:**\n",
    "Find DP0-related documentation and resources at <a href=\"https://dp0-2.lsst.io\">dp0-2.lsst.io</a>. Questions are welcome as new topics in the <a href=\"https://community.lsst.org/c/support/dp0\">Support - Data Preview 0 Category</a> of the Rubin Community Forum. Rubin staff will respond to all questions posted there."
   ]
  },
  {
   "cell_type": "markdown",
   "id": "7b41f9a0-c6b3-4279-bfe4-692ff5e9a473",
   "metadata": {
    "tags": []
   },
   "source": [
    "## 1. Introduction\n",
    "\n",
    "This notebook shows how to retrieve information about the individual images that contributed to a deepCoadd, and how to make a new coadded image using only a subset of the inputs.\n",
    "\n",
    "In the past you might have used iraf's imcombine or Astromatics's SWarp (for example) to coadd images.\n",
    "This notebook demonstrates the appropriate methods for coadding LSST images with the LSST Science Pipelines.\n",
    "\n",
    "Science applications of coadding a subsets of LSST images includes searching for faint, slowly-evolving transients or variables (e.g.,, coadding images by season), using the effects of differential chromatic refraction (e.g., coadding images in bins of airmass), or perhaps searching for low surface brightness features (e.g., coadding only dark-time images with the faintest sky backgrounds)."
   ]
  },
  {
   "cell_type": "markdown",
   "id": "0127a799-1cd7-4a7a-9deb-911938589161",
   "metadata": {},
   "source": [
    "### 1.1. Package imports"
   ]
  },
  {
   "cell_type": "code",
   "execution_count": 2,
   "id": "4aef3e1b-efee-4d8a-9ed0-d9a910be88d3",
   "metadata": {},
   "outputs": [],
   "source": [
    "# standard python packages for numerical processing, plotting, and databases\n",
    "import time\n",
    "import getpass\n",
    "import numpy as np\n",
    "import matplotlib\n",
    "import matplotlib.pyplot as plt\n",
    "import pandas\n",
    "\n",
    "# astropy package for time unit conversions\n",
    "from astropy.time import Time\n",
    "\n",
    "# lsst packages for data access and display\n",
    "import lsst.geom\n",
    "import lsst.afw.display as afwDisplay\n",
    "\n",
    "# import lsst.daf.butler as dafButler\n",
    "from lsst.daf.butler import Butler, DatasetType, CollectionType\n",
    "\n",
    "# lsst packages for executing pipeline tasks\n",
    "from lsst.ctrl.mpexec import SimplePipelineExecutor\n",
    "from lsst.pipe.base import Pipeline, Instrument"
   ]
  },
  {
   "cell_type": "markdown",
   "id": "633fe9bd-43cd-478e-81d9-d3fe6f712841",
   "metadata": {},
   "source": [
    "### 1.2. Define functions and parameters\n",
    "\n",
    "Set a few parameters related to plotting and display."
   ]
  },
  {
   "cell_type": "code",
   "execution_count": 3,
   "id": "f7952911-b6e2-43c3-9e28-6a60431a3530",
   "metadata": {},
   "outputs": [],
   "source": [
    "font = {'size': 14}\n",
    "matplotlib.rc('font', **font)\n",
    "\n",
    "pandas.set_option('display.max_rows', 1000)\n",
    "\n",
    "afwDisplay.setDefaultBackend('matplotlib')"
   ]
  },
  {
   "cell_type": "markdown",
   "id": "f5bf823a-f544-46e3-a3db-df71bd6c083f",
   "metadata": {},
   "source": [
    "Set the DP0.2 config and collection, and instantiate the butler."
   ]
  },
  {
   "cell_type": "code",
   "execution_count": 4,
   "id": "9340359c-49d6-471e-af30-2b2387756468",
   "metadata": {},
   "outputs": [],
   "source": [
    "config = 'dp02'\n",
    "collection = '2.2i/runs/DP0.2'"
   ]
  },
  {
   "cell_type": "markdown",
   "id": "6bd41452-8c27-4572-b4ae-22f82d9b6d3f",
   "metadata": {},
   "source": [
    "> **Notice:** It is OK to ignore a pink-window message saying \"WARNING: version mismatch between CFITSIO header (v4.000999999999999) and linked library (v4.01).\""
   ]
  },
  {
   "cell_type": "code",
   "execution_count": 5,
   "id": "86bb0ff0-0693-4d13-8f75-b8e4b4a7abb4",
   "metadata": {},
   "outputs": [
    {
     "data": {
      "text/html": [
       "<pre style=\"margin: 0.1em;\n",
       "padding-left: 0.25em;\n",
       "border-left-style: solid;\n",
       "font-family: var(--jp-code-font-family);\n",
       "font-size: var(--jp-code-font-size);\n",
       "line-height: var(--jp-code-line-height);\n",
       "\"><span style=\"color: var(--jp-warn-color2)\">botocore.credentials</span> <span style=\"color: var(--jp-info-color0)\">INFO</span>: Found credentials in shared credentials file: /home/melissagraham/.lsst/aws-credentials.ini</pre>"
      ],
      "text/plain": [
       "<IPython.core.display.HTML object>"
      ]
     },
     "metadata": {},
     "output_type": "display_data"
    },
    {
     "name": "stderr",
     "output_type": "stream",
     "text": [
      "\n",
      "WARNING: version mismatch between CFITSIO header (v4.000999999999999) and linked library (v4.01).\n",
      "\n",
      "\n",
      "WARNING: version mismatch between CFITSIO header (v4.000999999999999) and linked library (v4.01).\n",
      "\n",
      "\n",
      "WARNING: version mismatch between CFITSIO header (v4.000999999999999) and linked library (v4.01).\n",
      "\n"
     ]
    }
   ],
   "source": [
    "butler = Butler(config, collections=collection)"
   ]
  },
  {
   "cell_type": "markdown",
   "id": "460b2aa1-d80d-4060-b45b-2d4fb51eeac9",
   "metadata": {},
   "source": [
    "Option to display all the deepCoadd datasetTypes available via our butler."
   ]
  },
  {
   "cell_type": "code",
   "execution_count": 6,
   "id": "be44d01d-eab6-48b2-92af-d0a3c8ec01d1",
   "metadata": {},
   "outputs": [],
   "source": [
    "# for x in sorted(butler.registry.queryDatasetTypes()):\n",
    "#     temp = str(x)\n",
    "#     if temp.find('deepCoadd') > -1:\n",
    "#         print(x)\n",
    "#     del temp"
   ]
  },
  {
   "cell_type": "markdown",
   "id": "c42ce015-7441-4155-bc6c-201d4118efce",
   "metadata": {},
   "source": [
    "## 2. Identify the visits to combine\n",
    "\n",
    "This example starts with a given sky coordinate -- in this case, the right ascension and declination of a known galaxy cluster in the DC2 data set are used.\n",
    "\n",
    "The DC2 skyMap is used to identify the deepCoadd which contains that coordinate, and then the butler is used to retrieve the deepCoadd and the list of visit ids which were combined to create it.\n",
    "\n",
    "The visitTable is then used to obtain the acquisition dates of the input visits.\n",
    "For this example, the visits in two short time ranges have been arbitrarily selected as the visits to be coadded."
   ]
  },
  {
   "cell_type": "markdown",
   "id": "0f50f8d0-6a1b-4f32-9e44-5f9edd0f9e31",
   "metadata": {},
   "source": [
    "### 2.1. Identify and retrieve the deepCoadd\n",
    "\n",
    "This takes 4-5 seconds."
   ]
  },
  {
   "cell_type": "code",
   "execution_count": 7,
   "id": "6e5849dd-f51c-4443-b3b9-48f73b5b3eae",
   "metadata": {},
   "outputs": [
    {
     "name": "stdout",
     "output_type": "stream",
     "text": [
      "My tract and patch:  4431 17\n",
      "CPU times: user 3.51 s, sys: 1.21 s, total: 4.72 s\n",
      "Wall time: 5.64 s\n"
     ]
    }
   ],
   "source": [
    "%%time\n",
    "\n",
    "my_ra_deg = 55.745834\n",
    "my_dec_deg = -32.269167\n",
    "\n",
    "my_spherePoint = lsst.geom.SpherePoint(my_ra_deg*lsst.geom.degrees,\n",
    "                                       my_dec_deg*lsst.geom.degrees)\n",
    "\n",
    "skymap = butler.get('skyMap')\n",
    "tract = skymap.findTract(my_spherePoint)\n",
    "my_tract = tract.tract_id\n",
    "my_patch = tract.findPatch(my_spherePoint).getSequentialIndex()\n",
    "print('My tract and patch: ', my_tract, my_patch)\n",
    "\n",
    "my_dataId = {'band': 'i', 'tract': my_tract, 'patch': my_patch}\n",
    "my_deepCoadd = butler.get('deepCoadd', dataId=my_dataId)\n",
    "\n",
    "del my_ra_deg, my_dec_deg, my_spherePoint, tract"
   ]
  },
  {
   "cell_type": "markdown",
   "id": "88c4d270-a2bf-4d35-a5c8-560fd1e675b7",
   "metadata": {},
   "source": [
    "Option to display the deepCoadd image."
   ]
  },
  {
   "cell_type": "code",
   "execution_count": 8,
   "id": "6ed19ab9-d079-42e4-bff4-55eeef94afcb",
   "metadata": {},
   "outputs": [],
   "source": [
    "# fig = plt.figure(figsize=(6, 4))\n",
    "# afw_display = afwDisplay.Display(1)\n",
    "# afw_display.scale('asinh', 'zscale')\n",
    "# afw_display.mtv(my_deepCoadd.image)\n",
    "# plt.gca().axis('off')"
   ]
  },
  {
   "cell_type": "markdown",
   "id": "34b35b55-74d4-422e-bf9d-a13c1aab45c1",
   "metadata": {},
   "source": [
    "Option to learn more about the deepCoadd metadata, such as bounding box, corners, and the World Coordinate System (WCS).\n",
    "It is not necessary to know the bounding box for a deepCoadd in order to find all of the calexps that were used to assemble it, this is simply a demonstration for the learner."
   ]
  },
  {
   "cell_type": "code",
   "execution_count": 9,
   "id": "8c89c7e6-e96d-4135-9e44-06b84987ffb2",
   "metadata": {},
   "outputs": [],
   "source": [
    "# my_deepCoadd_bbox = butler.get('deepCoadd.bbox', dataId=my_dataId)\n",
    "# print('bbox')\n",
    "# print(my_deepCoadd_bbox.beginX, my_deepCoadd_bbox.beginY,\n",
    "#       my_deepCoadd_bbox.endX, my_deepCoadd_bbox.endY)\n",
    "\n",
    "# print('')\n",
    "# print('corners')\n",
    "# print(my_deepCoadd_bbox.getCorners())\n",
    "\n",
    "# print('')\n",
    "# print('wcs')\n",
    "# my_deepCoadd_wcs = butler.get('deepCoadd.wcs', dataId=my_dataId)\n",
    "# print(my_deepCoadd_wcs)\n",
    "\n",
    "# del my_deepCoadd_bbox, my_deepCoadd_wcs"
   ]
  },
  {
   "cell_type": "markdown",
   "id": "92be360e-c8d0-4b99-be77-827561954c5b",
   "metadata": {},
   "source": [
    "### 2.2. Retrieve the deepCoadd's input visits\n",
    "\n",
    "This takes 2-3 seconds."
   ]
  },
  {
   "cell_type": "code",
   "execution_count": 10,
   "id": "b8c4f4b7-2447-4361-96c9-ca805d9106df",
   "metadata": {},
   "outputs": [
    {
     "name": "stdout",
     "output_type": "stream",
     "text": [
      "CPU times: user 2.07 s, sys: 889 ms, total: 2.96 s\n",
      "Wall time: 3.04 s\n"
     ]
    }
   ],
   "source": [
    "%%time\n",
    "\n",
    "my_coadd_inputs = butler.get(\"deepCoadd_calexp.coaddInputs\", my_dataId)"
   ]
  },
  {
   "cell_type": "markdown",
   "id": "273ada69-3204-426d-9bec-a12d54dcfceb",
   "metadata": {},
   "source": [
    "Option to display the coadd inputs as an astropy table."
   ]
  },
  {
   "cell_type": "code",
   "execution_count": 11,
   "id": "6708a08e-7cfb-429b-a121-7b918aa27b73",
   "metadata": {},
   "outputs": [],
   "source": [
    "# my_coadd_inputs.visits.asAstropy()"
   ]
  },
  {
   "cell_type": "markdown",
   "id": "15e26c9d-e8b1-4f9d-93f7-0a37545c3d4c",
   "metadata": {},
   "source": [
    "The length of this table, 161, indicates that 161 separate visits contributed to this deepCoadd."
   ]
  },
  {
   "cell_type": "code",
   "execution_count": 12,
   "id": "ae810206-6d17-42d9-96df-3560cf711e94",
   "metadata": {},
   "outputs": [
    {
     "data": {
      "text/plain": [
       "161"
      ]
     },
     "execution_count": 12,
     "metadata": {},
     "output_type": "execute_result"
    }
   ],
   "source": [
    "len(my_coadd_inputs.visits)"
   ]
  },
  {
   "cell_type": "markdown",
   "id": "fc08dafe-6a6a-4d04-8b0b-ca25b33b37ed",
   "metadata": {},
   "source": [
    "Option to list all of the deepCoadd input visit ids."
   ]
  },
  {
   "cell_type": "code",
   "execution_count": 13,
   "id": "d54bbfd1-497f-4875-a5c8-707c1bf82193",
   "metadata": {},
   "outputs": [],
   "source": [
    "# my_coadd_visits = my_coadd_inputs.visits['id']\n",
    "# my_coadd_visits"
   ]
  },
  {
   "cell_type": "markdown",
   "id": "cd7f0a95-9d41-44d1-aff7-6f6b59f77eeb",
   "metadata": {},
   "source": [
    "### 2.3. Identify the acquisition dates for the input visits\n",
    "\n",
    "First, get the entire visit table."
   ]
  },
  {
   "cell_type": "code",
   "execution_count": 14,
   "id": "027cdc0f-0d1d-4330-83a9-ca8d67932044",
   "metadata": {},
   "outputs": [],
   "source": [
    "visitTableRef = list(butler.registry.queryDatasets('visitTable'))"
   ]
  },
  {
   "cell_type": "code",
   "execution_count": 15,
   "id": "35cbbfe6-11b1-4500-baf3-cba58d529bf8",
   "metadata": {},
   "outputs": [],
   "source": [
    "visitTable = butler.get(visitTableRef[0])"
   ]
  },
  {
   "cell_type": "markdown",
   "id": "17a9591c-2e9f-4ef9-b385-c167b3ff2936",
   "metadata": {},
   "source": [
    "Option to display the contents of the visitTable."
   ]
  },
  {
   "cell_type": "code",
   "execution_count": 16,
   "id": "a31b7e5c-df48-44f6-8854-b073f701ed1c",
   "metadata": {},
   "outputs": [],
   "source": [
    "# visitTable"
   ]
  },
  {
   "cell_type": "markdown",
   "id": "1e628388-4a7b-4197-8aaa-80b925f5995d",
   "metadata": {},
   "source": [
    "The fact that the id column for both the my_coadd_inputs.vists table and the visitTable is the visit number (visit id) makes it simple to retrieve the MJDs of our coadd input visits."
   ]
  },
  {
   "cell_type": "code",
   "execution_count": 17,
   "id": "1c1a95b0-2702-4e2f-b6bf-b81f32ee918d",
   "metadata": {},
   "outputs": [],
   "source": [
    "my_coadd_visits_mjds = visitTable.loc[my_coadd_inputs.visits['id']]['expMidptMJD']"
   ]
  },
  {
   "cell_type": "markdown",
   "id": "f85ea9a3-0711-4f77-a309-15f403e6bcb5",
   "metadata": {},
   "source": [
    "These list of MJDs have 161 elements, for the 161 separate visits contributed to this deepCoadd."
   ]
  },
  {
   "cell_type": "code",
   "execution_count": 18,
   "id": "95c50262-b42c-4151-b862-26e7ba8af02c",
   "metadata": {},
   "outputs": [
    {
     "data": {
      "text/plain": [
       "161"
      ]
     },
     "execution_count": 18,
     "metadata": {},
     "output_type": "execute_result"
    }
   ],
   "source": [
    "len(my_coadd_visits_mjds)"
   ]
  },
  {
   "cell_type": "markdown",
   "id": "c0abddb8-f601-4388-b838-5e3dae9308f3",
   "metadata": {},
   "source": [
    "### 2.4. Identify input visits to combine into a new Coadd\n",
    "\n",
    "Say, for the sake of a science example, that a supernova exploded on MJD = 60960.\n",
    "\n",
    "As a user, we want to stack images first from the month before to look for a faint precursor, and then maybe also the month before that.\n",
    "\n",
    "Thus, we identify input visits in two date ranges:\n",
    "\n",
    "Window1: 60925 to 60955 (the month before)\n",
    "\n",
    "Window2: 60885 to 60922 (the month before that)"
   ]
  },
  {
   "cell_type": "code",
   "execution_count": 19,
   "id": "dd205feb-436a-40e7-8119-6b2944255533",
   "metadata": {},
   "outputs": [
    {
     "data": {
      "image/png": "[encoded data removed]",
      "text/plain": [
       "<Figure size 720x576 with 2 Axes>"
      ]
     },
     "metadata": {
      "needs_background": "light"
     },
     "output_type": "display_data"
    }
   ],
   "source": [
    "Window1_start = 60925\n",
    "Window1_end = 60955\n",
    "\n",
    "Window2_start = 60885\n",
    "Window2_end = 60922\n",
    "\n",
    "fig, ax = plt.subplots(2, figsize=(10, 8))\n",
    "\n",
    "ax[0].hist(my_coadd_visits_mjds, bins=150, color='dodgerblue')\n",
    "ax[0].set_xlabel('MJD')\n",
    "ax[0].set_ylabel('Number of Visits')\n",
    "ax[0].axvline(Window1_start, ls='dotted', color='firebrick')\n",
    "ax[0].axvline(Window1_end, ls='dotted', color='firebrick')\n",
    "ax[0].axvline(Window2_start, ls='dashed', color='darkorange')\n",
    "ax[0].axvline(Window2_end, ls='dashed', color='darkorange')\n",
    "\n",
    "ax[1].hist(my_coadd_visits_mjds, bins=150, color='dodgerblue')\n",
    "ax[1].set_xlabel('MJD')\n",
    "ax[1].set_ylabel('Number of Visits')\n",
    "ax[1].set_xlim([60880, 60985])\n",
    "ax[1].axvline(Window1_start, ls='dotted', color='firebrick')\n",
    "ax[1].axvline(Window1_end, ls='dotted', color='firebrick')\n",
    "ax[1].text(Window1_start+1, 7.5, 'Window1', color='firebrick')\n",
    "ax[1].axvline(Window2_start, ls='dashed', color='darkorange')\n",
    "ax[1].axvline(Window2_end, ls='dashed', color='darkorange')\n",
    "ax[1].text(Window2_start+1, 7.5, 'Window1', color='darkorange')\n",
    "\n",
    "plt.show()"
   ]
  },
  {
   "cell_type": "markdown",
   "id": "bd659dea-4c4d-4592-a93b-fc93e7ee9344",
   "metadata": {},
   "source": [
    "There are six visits in Window1, and ten in Window2."
   ]
  },
  {
   "cell_type": "markdown",
   "id": "38f882d3-026a-4de7-920a-56072bfd5f96",
   "metadata": {},
   "source": [
    "## 3. Create a coadd for the visits in Window1"
   ]
  },
  {
   "cell_type": "markdown",
   "id": "96b1bcdc-3be9-46a7-b853-0fca694f2e44",
   "metadata": {},
   "source": [
    "Put the list of visits for Window1 into a string, formatted as a tuple, for use in a query later on.\n",
    "(\"Formatted as a tuple\" means within round brackets and separated by commas)."
   ]
  },
  {
   "cell_type": "code",
   "execution_count": 20,
   "id": "487e8fcb-8366-4ba7-9f09-4ad413c9fed1",
   "metadata": {},
   "outputs": [
    {
     "name": "stdout",
     "output_type": "stream",
     "text": [
      "(919515,924057,924085,924086,929477,930353)\n"
     ]
    }
   ],
   "source": [
    "my_range = np.array((my_coadd_visits_mjds > Window1_start) & \n",
    "                    (my_coadd_visits_mjds < Window1_end))\n",
    "my_visits = my_coadd_inputs.visits[my_range]\n",
    "my_visits_tupleString = \"(\"+\",\".join(my_visits['id'].astype(str))+\")\"\n",
    "print(my_visits_tupleString)"
   ]
  },
  {
   "cell_type": "markdown",
   "id": "a86fe32e-0c36-4e50-a2b4-98d36ed1b3b1",
   "metadata": {},
   "source": [
    "### 3.1. Name a new butler collection for your output\n",
    "\n",
    "> **Important:** Use the convention `u/[Your User Name]/coadd_recreation_nb` to set up a new output collection for this tutorial.\n",
    "Recall that RSP user names are the same as GitHub user names, because GitHub accounts are used to authorize access to the RSP."
   ]
  },
  {
   "cell_type": "code",
   "execution_count": 21,
   "id": "68013bdf-2624-48c5-9002-95afb351fef8",
   "metadata": {},
   "outputs": [
    {
     "name": "stdout",
     "output_type": "stream",
     "text": [
      "Name of new butler collection for my output:  u/melissagraham/coadd_recreation_nb\n"
     ]
    }
   ],
   "source": [
    "my_username = getpass.getuser()\n",
    "my_outputCollection = 'u/'+my_username+'/coadd_recreation_nb'\n",
    "print('Name of new butler collection for my output: ', my_outputCollection)"
   ]
  },
  {
   "cell_type": "markdown",
   "id": "0c4c35fd-402a-4878-80d4-0402e3740ff3",
   "metadata": {},
   "source": [
    "Check if this output collection already exists? If nothing is printed below this cell, the output collection does not already exist."
   ]
  },
  {
   "cell_type": "code",
   "execution_count": 22,
   "id": "1814025e-a06b-41c8-8b56-b5d7fcde04d5",
   "metadata": {},
   "outputs": [],
   "source": [
    "for c in sorted(butler.registry.queryCollections()):\n",
    "    if c.find(my_outputCollection) > -1:\n",
    "        print(c)"
   ]
  },
  {
   "cell_type": "markdown",
   "id": "323bde7d-5a93-44ac-a02b-8709a78f6050",
   "metadata": {},
   "source": [
    "Delete the current butler. In the next section, a simple butler is created and used thereafter."
   ]
  },
  {
   "cell_type": "code",
   "execution_count": 23,
   "id": "22a9d72a-46d9-4791-97d2-45cb20fae8dd",
   "metadata": {},
   "outputs": [],
   "source": [
    "del butler"
   ]
  },
  {
   "cell_type": "markdown",
   "id": "5d12d1c6-fd47-4c6e-845c-9e10bccc22d2",
   "metadata": {},
   "source": [
    "### 3.2. Set up a simple butler and name the output run for Window1"
   ]
  },
  {
   "cell_type": "markdown",
   "id": "a3763cc6-1f00-43dd-affb-193b78b4f7be",
   "metadata": {},
   "source": [
    "> **Notice:** In future updates to the LSST Science Pipelines, it will be possible to use: <br>\n",
    "`simpleButler = SimplePipelineExecutor.prep_butler(config, inputs=[collection], output=my_outputCollection)`\n",
    "\n",
    "For the LSST Science Pipelines version Weekly_2022_22, the following workaround is needed to set up a simple butler and create a new output collection with the name selected above.\n",
    "\n",
    "Users have the option of defining the name of the `outputRun` to be whatever they want.\n",
    "\n",
    "For example, to name an `outputRun` using a unique timestamp, use: <br>\n",
    "`outputRun = f\"{my_outputCollection}/{Instrument.makeCollectionTimestamp()}\"` <br>\n",
    "Timestamps are year month day T hour minute second Z, where the time is UTC.\n",
    "\n",
    "But in this case, we will just use `TestWindow1` as our `outputRun` name."
   ]
  },
  {
   "cell_type": "code",
   "execution_count": 24,
   "id": "c9431dfe-de6f-45f1-b083-09a3b83de627",
   "metadata": {},
   "outputs": [
    {
     "name": "stdout",
     "output_type": "stream",
     "text": [
      "Made CollectionType.RUN:  u/melissagraham/coadd_recreation_nb/TestWindow1\n",
      "Made CollectionType.CHAINED:  u/melissagraham/coadd_recreation_nb\n"
     ]
    }
   ],
   "source": [
    "outputRun = f\"{my_outputCollection}/TestWindow1\"\n",
    "\n",
    "tmpButler = Butler(config, writeable=True)\n",
    "\n",
    "tmpButler.registry.registerCollection(outputRun, CollectionType.RUN)\n",
    "print('Made CollectionType.RUN: ', outputRun)\n",
    "\n",
    "tmpButler.registry.registerCollection(my_outputCollection, CollectionType.CHAINED)\n",
    "print('Made CollectionType.CHAINED: ', my_outputCollection)\n",
    "\n",
    "collections = [collection]\n",
    "collections.insert(0, outputRun)\n",
    "\n",
    "tmpButler.registry.setCollectionChain(my_outputCollection, collections)\n",
    "\n",
    "simpleButler = Butler(butler=tmpButler, collections=[my_outputCollection], run=outputRun)\n",
    "\n",
    "del tmpButler"
   ]
  },
  {
   "cell_type": "markdown",
   "id": "33abd84d-f4d5-4dbf-8feb-15308c42c773",
   "metadata": {},
   "source": [
    "Check that the subdirectory of the newly created output collection is first in the list.\n",
    "The output will go into that specific RUN collection."
   ]
  },
  {
   "cell_type": "code",
   "execution_count": 25,
   "id": "46962fa6-ef50-4933-9d5d-7f66c22a23c8",
   "metadata": {},
   "outputs": [
    {
     "data": {
      "text/plain": [
       "CollectionSearch(('u/melissagraham/coadd_recreation_nb/TestWindow1', '2.2i/runs/DP0.2'))"
      ]
     },
     "execution_count": 25,
     "metadata": {},
     "output_type": "execute_result"
    }
   ],
   "source": [
    "simpleButler.registry.getCollectionChain(my_outputCollection)"
   ]
  },
  {
   "cell_type": "markdown",
   "id": "cec8f5a4-74bf-449b-9246-7e549dc56efe",
   "metadata": {},
   "source": [
    "Option: check the output collection run names that currently exist."
   ]
  },
  {
   "cell_type": "code",
   "execution_count": 27,
   "id": "a40c9fa9-8955-4cee-bf3b-360bcf07e5ef",
   "metadata": {},
   "outputs": [],
   "source": [
    "# for c in sorted(simpleButler.registry.queryCollections()):\n",
    "#     if c.find(my_outputCollection) > -1:\n",
    "#         print('Found: ', c)"
   ]
  },
  {
   "cell_type": "markdown",
   "id": "e1740781-d79a-4202-971b-f9ef8f6a9329",
   "metadata": {
    "tags": []
   },
   "source": [
    "### 3.3. Select the makeWarp and assembleCoadd tasks\n",
    "\n",
    "In order to combine the identified visits into a new Coadd, two steps of the larger Data Release pipeline must be included: makeWarp and assembleCoadd. \n",
    "Although warped images are created during processing, they are not stored long-term because they take up a lot of space and because they can be easily recreated when needed.\n",
    "\n",
    "Find relevant documentation for more information about <a href=\"https://pipelines.lsst.io/v/weekly/modules/lsst.pipe.base/creating-a-pipeline.html\">creating a pipeline</a> or the <a href=\"https://pipelines.lsst.io/modules/lsst.pipe.tasks/tasks/lsst.pipe.tasks.assembleCoadd.AssembleCoaddTask.html\">assembleCoadd<a> task.\n",
    "\n",
    "The following method for creating the `assembleCoaddPipeline` task in a notebook -- using the `from_uri` function and passing a file path -- is not intuitive, but is preferred because it gives the user all of the configuration settings for the instrument automatically, and because it most closely replicates the command-line syntax."
   ]
  },
  {
   "cell_type": "code",
   "execution_count": 28,
   "id": "31df8776-0574-4d69-804e-4ddc7e78dde1",
   "metadata": {},
   "outputs": [],
   "source": [
    "assembleCoaddPipeline = Pipeline.from_uri('${PIPE_TASKS_DIR}/pipelines/DRP.yaml#makeWarp,assembleCoadd')"
   ]
  },
  {
   "cell_type": "markdown",
   "id": "7c29643b-a88f-4fe0-b136-ca0baa03201f",
   "metadata": {},
   "source": [
    "The other tasks available are listed in the yaml file. \n",
    "To see the other tasks, first open a new terminal (click the blue + button at upper left and then select terminal).\n",
    "Then create a Rubin Observatory environment, navigate to the DRP.yaml file, and view its contents with:\n",
    "> `setup lsst_distrib` <br>\n",
    "> `cd ${PIPE_TASKS_DIR}/pipelines/`<br>\n",
    "> `more DRP.yaml`\n",
    "\n",
    "When attempting to use `more` on the DRP.yaml file, a redirect to its true location might be returned. If so, follow the path given."
   ]
  },
  {
   "cell_type": "markdown",
   "id": "de7ebc47-f65e-4c46-b9c4-954248c32478",
   "metadata": {},
   "source": [
    "### 3.4. Configure the pipeline\n",
    "\n",
    "Configurations can be set using `addConfigOverride(<taskName>, <configName>, <configValue>)`.\n",
    "\n",
    "There is only one configuration that must be set, and it is to clarify to the pipeline that it _does not_ need to redo a final image characterization step.\n",
    "Currently, this configuration is needed due to a version mismatch: the DP0.2 data sets were processed with Version 23 of the LSST Science Pipelines, whereas this notebook uses the version \"Weekly 2022_22\".\n",
    "This configuration might not be needed in the future."
   ]
  },
  {
   "cell_type": "code",
   "execution_count": 29,
   "id": "fe6ac227-1047-4ba2-bc36-386934a7821b",
   "metadata": {},
   "outputs": [],
   "source": [
    "assembleCoaddPipeline.addConfigOverride('makeWarp', 'doApplyFinalizedPsf', False)"
   ]
  },
  {
   "cell_type": "markdown",
   "id": "34207342-4542-4477-a900-8c095ed8be56",
   "metadata": {},
   "source": [
    "### 3.5. Create the full query string\n",
    "\n",
    "Above, the visits to be recombined were stored in \"my_visits_tupleString\".\n",
    "\n",
    "Below, the full query string is built to include the patch being recreated."
   ]
  },
  {
   "cell_type": "code",
   "execution_count": 30,
   "id": "ba1aa59a-db98-4d3c-b46e-e15f8901b18d",
   "metadata": {},
   "outputs": [
    {
     "name": "stdout",
     "output_type": "stream",
     "text": [
      "tract = 4431 AND patch = 17 AND visit in (919515,924057,924085,924086,929477,930353) AND skymap = 'DC2'\n"
     ]
    }
   ],
   "source": [
    "queryString = f\"tract = {my_tract} AND patch = {my_patch} AND \" + \\\n",
    "              f\"visit in {my_visits_tupleString} AND skymap = 'DC2'\"\n",
    "\n",
    "print(queryString)"
   ]
  },
  {
   "cell_type": "markdown",
   "id": "d335b20d-3cb9-4a45-9e09-d1b5a7023cc0",
   "metadata": {},
   "source": [
    "### 3.6. Use the Simple Pipeline Executor to run the pipeline\n",
    "\n",
    "The <a href=\"https://pipelines.lsst.io/v/weekly/py-api/lsst.ctrl.mpexec.SimplePipelineExecutor.html\">Simple Pipeline Executor</a> is a simple, high-level executor for pipelines that is primarily used for unit tests and small-scale integration of PipelineTask classes. It is appropriate to use in this case, where we are doing small-scale pipeline integration, in this case, of the makeWarp and assembleCoaddPipeline tasks only."
   ]
  },
  {
   "cell_type": "markdown",
   "id": "3bf4a0b0-c88e-4c3c-8525-4e0fd56f91a6",
   "metadata": {},
   "source": [
    "Learn more about the Simple Pipeline Executor."
   ]
  },
  {
   "cell_type": "code",
   "execution_count": null,
   "id": "e7a8e183-bee2-4117-b830-ca69f78649d1",
   "metadata": {},
   "outputs": [],
   "source": [
    "# SimplePipelineExecutor.from_pipeline?"
   ]
  },
  {
   "cell_type": "markdown",
   "id": "872efc12-f282-473f-9bf3-fd43eb0a3627",
   "metadata": {},
   "source": [
    "Set up the Simple Pipeline Executor. This step takes about 1.5 minutes."
   ]
  },
  {
   "cell_type": "code",
   "execution_count": 31,
   "id": "50c26734-de0e-40f9-899a-42e9de2a52dc",
   "metadata": {},
   "outputs": [
    {
     "name": "stdout",
     "output_type": "stream",
     "text": [
      "CPU times: user 1.17 s, sys: 80 ms, total: 1.25 s\n",
      "Wall time: 1min 56s\n"
     ]
    }
   ],
   "source": [
    "%%time\n",
    "spe = SimplePipelineExecutor.from_pipeline(assembleCoaddPipeline, where=queryString, butler=simpleButler)"
   ]
  },
  {
   "cell_type": "markdown",
   "id": "7fba6582-9f37-46e6-bca0-e4fe673a3fdd",
   "metadata": {
    "tags": []
   },
   "source": [
    "Run the pipeline.\n",
    "\n",
    "There will be a lot of standard output. Right-click to the left of the cell and choose \"Enable Scrolling for Outputs\" to condense all of the output into a scrollable inset window.\n",
    "\n",
    "This takes about 16 minutes for 6 visits."
   ]
  },
  {
   "cell_type": "code",
   "execution_count": 32,
   "id": "ebe78d52-d186-4220-b58a-1dafd518ca0f",
   "metadata": {
    "scrolled": true,
    "tags": []
   },
   "outputs": [
    {
     "data": {
      "text/html": [
       "<pre style=\"margin: 0.1em;\n",
       "padding-left: 0.25em;\n",
       "border-left-style: solid;\n",
       "font-family: var(--jp-code-font-family);\n",
       "font-size: var(--jp-code-font-size);\n",
       "line-height: var(--jp-code-line-height);\n",
       "\"><span style=\"color: var(--jp-warn-color2)\">lsst.makeWarp.select</span> <span style=\"color: var(--jp-info-color0)\">INFO</span>: Selecting calexp {instrument: &#x27;LSSTCam-imSim&#x27;, detector: 165, visit: 930353, ...}</pre>"
      ],
      "text/plain": [
       "<IPython.core.display.HTML object>"
      ]
     },
     "metadata": {},
     "output_type": "display_data"
    },
    {
     "data": {
      "text/html": [
       "<pre style=\"margin: 0.1em;\n",
       "padding-left: 0.25em;\n",
       "border-left-style: solid;\n",
       "font-family: var(--jp-code-font-family);\n",
       "font-size: var(--jp-code-font-size);\n",
       "line-height: var(--jp-code-line-height);\n",
       "\"><span style=\"color: var(--jp-warn-color2)\">lsst.makeWarp.select</span> <span style=\"color: var(--jp-info-color0)\">INFO</span>: Selecting calexp {instrument: &#x27;LSSTCam-imSim&#x27;, detector: 166, visit: 930353, ...}</pre>"
      ],
      "text/plain": [
       "<IPython.core.display.HTML object>"
      ]
     },
     "metadata": {},
     "output_type": "display_data"
    },
    {
     "data": {
      "text/html": [
       "<pre style=\"margin: 0.1em;\n",
       "padding-left: 0.25em;\n",
       "border-left-style: solid;\n",
       "font-family: var(--jp-code-font-family);\n",
       "font-size: var(--jp-code-font-size);\n",
       "line-height: var(--jp-code-line-height);\n",
       "\"><span style=\"color: var(--jp-warn-color2)\">lsst.makeWarp.select</span> <span style=\"color: var(--jp-info-color0)\">INFO</span>: Selecting calexp {instrument: &#x27;LSSTCam-imSim&#x27;, detector: 168, visit: 930353, ...}</pre>"
      ],
      "text/plain": [
       "<IPython.core.display.HTML object>"
      ]
     },
     "metadata": {},
     "output_type": "display_data"
    },
    {
     "data": {
      "text/html": [
       "<pre style=\"margin: 0.1em;\n",
       "padding-left: 0.25em;\n",
       "border-left-style: solid;\n",
       "font-family: var(--jp-code-font-family);\n",
       "font-size: var(--jp-code-font-size);\n",
       "line-height: var(--jp-code-line-height);\n",
       "\"><span style=\"color: var(--jp-warn-color2)\">lsst.makeWarp.select</span> <span style=\"color: var(--jp-info-color0)\">INFO</span>: Selecting calexp {instrument: &#x27;LSSTCam-imSim&#x27;, detector: 169, visit: 930353, ...}</pre>"
      ],
      "text/plain": [
       "<IPython.core.display.HTML object>"
      ]
     },
     "metadata": {},
     "output_type": "display_data"
    },
    {
     "data": {
      "text/html": [
       "<pre style=\"margin: 0.1em;\n",
       "padding-left: 0.25em;\n",
       "border-left-style: solid;\n",
       "font-family: var(--jp-code-font-family);\n",
       "font-size: var(--jp-code-font-size);\n",
       "line-height: var(--jp-code-line-height);\n",
       "\"><span style=\"color: var(--jp-warn-color2)\">lsst.makeWarp</span> <span style=\"color: var(--jp-info-color0)\">INFO</span>: Processing calexp 1 of 4 for this Warp: id={instrument: &#x27;LSSTCam-imSim&#x27;, detector: 165, visit: 930353, ...}</pre>"
      ],
      "text/plain": [
       "<IPython.core.display.HTML object>"
      ]
     },
     "metadata": {},
     "output_type": "display_data"
    },
    {
     "data": {
      "text/html": [
       "<pre style=\"margin: 0.1em;\n",
       "padding-left: 0.25em;\n",
       "border-left-style: solid;\n",
       "font-family: var(--jp-code-font-family);\n",
       "font-size: var(--jp-code-font-size);\n",
       "line-height: var(--jp-code-line-height);\n",
       "\"><span style=\"color: var(--jp-warn-color2)\">lsst.makeWarp.warpAndPsfMatch.psfMatch</span> <span style=\"color: var(--jp-info-color0)\">INFO</span>: compute Psf-matching kernel</pre>"
      ],
      "text/plain": [
       "<IPython.core.display.HTML object>"
      ]
     },
     "metadata": {},
     "output_type": "display_data"
    },
    {
     "data": {
      "text/html": [
       "<pre style=\"margin: 0.1em;\n",
       "padding-left: 0.25em;\n",
       "border-left-style: solid;\n",
       "font-family: var(--jp-code-font-family);\n",
       "font-size: var(--jp-code-font-size);\n",
       "line-height: var(--jp-code-line-height);\n",
       "\"><span style=\"color: var(--jp-warn-color2)\">lsst.makeWarp.warpAndPsfMatch.psfMatch</span> <span style=\"color: var(--jp-info-color0)\">INFO</span>: Adjusted dimensions of reference PSF model from (9, 9) to (57, 57)</pre>"
      ],
      "text/plain": [
       "<IPython.core.display.HTML object>"
      ]
     },
     "metadata": {},
     "output_type": "display_data"
    },
    {
     "data": {
      "text/html": [
       "<pre style=\"margin: 0.1em;\n",
       "padding-left: 0.25em;\n",
       "border-left-style: solid;\n",
       "font-family: var(--jp-code-font-family);\n",
       "font-size: var(--jp-code-font-size);\n",
       "line-height: var(--jp-code-line-height);\n",
       "\"><span style=\"color: var(--jp-warn-color2)\">lsst.ip.diffim.generateAlardLuptonBasisList</span> <span style=\"color: var(--jp-info-color0)\">INFO</span>: PSF sigmas are not available or scaling by fwhm disabled, falling back to config values</pre>"
      ],
      "text/plain": [
       "<IPython.core.display.HTML object>"
      ]
     },
     "metadata": {},
     "output_type": "display_data"
    },
    {
     "data": {
      "text/html": [
       "<pre style=\"margin: 0.1em;\n",
       "padding-left: 0.25em;\n",
       "border-left-style: solid;\n",
       "font-family: var(--jp-code-font-family);\n",
       "font-size: var(--jp-code-font-size);\n",
       "line-height: var(--jp-code-line-height);\n",
       "\"><span style=\"color: var(--jp-warn-color2)\">lsst.makeWarp.warpAndPsfMatch.psfMatch</span> <span style=\"color: var(--jp-info-color0)\">INFO</span>: Psf-match science exposure to reference</pre>"
      ],
      "text/plain": [
       "<IPython.core.display.HTML object>"
      ]
     },
     "metadata": {},
     "output_type": "display_data"
    },
    {
     "data": {
      "text/html": [
       "<pre style=\"margin: 0.1em;\n",
       "padding-left: 0.25em;\n",
       "border-left-style: solid;\n",
       "font-family: var(--jp-code-font-family);\n",
       "font-size: var(--jp-code-font-size);\n",
       "line-height: var(--jp-code-line-height);\n",
       "\"><span style=\"color: var(--jp-warn-color2)\">lsst.makeWarp.warpAndPsfMatch.psfMatch</span> <span style=\"color: var(--jp-info-color0)\">INFO</span>: done</pre>"
      ],
      "text/plain": [
       "<IPython.core.display.HTML object>"
      ]
     },
     "metadata": {},
     "output_type": "display_data"
    },
    {
     "data": {
      "text/html": [
       "<pre style=\"margin: 0.1em;\n",
       "padding-left: 0.25em;\n",
       "border-left-style: solid;\n",
       "font-family: var(--jp-code-font-family);\n",
       "font-size: var(--jp-code-font-size);\n",
       "line-height: var(--jp-code-line-height);\n",
       "\"><span style=\"color: var(--jp-warn-color2)\">lsst.makeWarp</span> <span style=\"color: var(--jp-info-color0)\">INFO</span>: Processing calexp 2 of 4 for this Warp: id={instrument: &#x27;LSSTCam-imSim&#x27;, detector: 166, visit: 930353, ...}</pre>"
      ],
      "text/plain": [
       "<IPython.core.display.HTML object>"
      ]
     },
     "metadata": {},
     "output_type": "display_data"
    },
    {
     "data": {
      "text/html": [
       "<pre style=\"margin: 0.1em;\n",
       "padding-left: 0.25em;\n",
       "border-left-style: solid;\n",
       "font-family: var(--jp-code-font-family);\n",
       "font-size: var(--jp-code-font-size);\n",
       "line-height: var(--jp-code-line-height);\n",
       "\"><span style=\"color: var(--jp-warn-color2)\">lsst.makeWarp.warpAndPsfMatch.psfMatch</span> <span style=\"color: var(--jp-info-color0)\">INFO</span>: compute Psf-matching kernel</pre>"
      ],
      "text/plain": [
       "<IPython.core.display.HTML object>"
      ]
     },
     "metadata": {},
     "output_type": "display_data"
    },
    {
     "data": {
      "text/html": [
       "<pre style=\"margin: 0.1em;\n",
       "padding-left: 0.25em;\n",
       "border-left-style: solid;\n",
       "font-family: var(--jp-code-font-family);\n",
       "font-size: var(--jp-code-font-size);\n",
       "line-height: var(--jp-code-line-height);\n",
       "\"><span style=\"color: var(--jp-warn-color2)\">lsst.makeWarp.warpAndPsfMatch.psfMatch</span> <span style=\"color: var(--jp-info-color0)\">INFO</span>: Adjusted dimensions of reference PSF model from (9, 9) to (57, 57)</pre>"
      ],
      "text/plain": [
       "<IPython.core.display.HTML object>"
      ]
     },
     "metadata": {},
     "output_type": "display_data"
    },
    {
     "data": {
      "text/html": [
       "<pre style=\"margin: 0.1em;\n",
       "padding-left: 0.25em;\n",
       "border-left-style: solid;\n",
       "font-family: var(--jp-code-font-family);\n",
       "font-size: var(--jp-code-font-size);\n",
       "line-height: var(--jp-code-line-height);\n",
       "\"><span style=\"color: var(--jp-warn-color2)\">lsst.ip.diffim.generateAlardLuptonBasisList</span> <span style=\"color: var(--jp-info-color0)\">INFO</span>: PSF sigmas are not available or scaling by fwhm disabled, falling back to config values</pre>"
      ],
      "text/plain": [
       "<IPython.core.display.HTML object>"
      ]
     },
     "metadata": {},
     "output_type": "display_data"
    },
    {
     "data": {
      "text/html": [
       "<pre style=\"margin: 0.1em;\n",
       "padding-left: 0.25em;\n",
       "border-left-style: solid;\n",
       "font-family: var(--jp-code-font-family);\n",
       "font-size: var(--jp-code-font-size);\n",
       "line-height: var(--jp-code-line-height);\n",
       "\"><span style=\"color: var(--jp-warn-color2)\">lsst.makeWarp.warpAndPsfMatch.psfMatch</span> <span style=\"color: var(--jp-info-color0)\">INFO</span>: Psf-match science exposure to reference</pre>"
      ],
      "text/plain": [
       "<IPython.core.display.HTML object>"
      ]
     },
     "metadata": {},
     "output_type": "display_data"
    },
    {
     "data": {
      "text/html": [
       "<pre style=\"margin: 0.1em;\n",
       "padding-left: 0.25em;\n",
       "border-left-style: solid;\n",
       "font-family: var(--jp-code-font-family);\n",
       "font-size: var(--jp-code-font-size);\n",
       "line-height: var(--jp-code-line-height);\n",
       "\"><span style=\"color: var(--jp-warn-color2)\">lsst.makeWarp.warpAndPsfMatch.psfMatch</span> <span style=\"color: var(--jp-info-color0)\">INFO</span>: done</pre>"
      ],
      "text/plain": [
       "<IPython.core.display.HTML object>"
      ]
     },
     "metadata": {},
     "output_type": "display_data"
    },
    {
     "data": {
      "text/html": [
       "<pre style=\"margin: 0.1em;\n",
       "padding-left: 0.25em;\n",
       "border-left-style: solid;\n",
       "font-family: var(--jp-code-font-family);\n",
       "font-size: var(--jp-code-font-size);\n",
       "line-height: var(--jp-code-line-height);\n",
       "\"><span style=\"color: var(--jp-warn-color2)\">lsst.makeWarp</span> <span style=\"color: var(--jp-info-color0)\">INFO</span>: Processing calexp 3 of 4 for this Warp: id={instrument: &#x27;LSSTCam-imSim&#x27;, detector: 168, visit: 930353, ...}</pre>"
      ],
      "text/plain": [
       "<IPython.core.display.HTML object>"
      ]
     },
     "metadata": {},
     "output_type": "display_data"
    },
    {
     "data": {
      "text/html": [
       "<pre style=\"margin: 0.1em;\n",
       "padding-left: 0.25em;\n",
       "border-left-style: solid;\n",
       "font-family: var(--jp-code-font-family);\n",
       "font-size: var(--jp-code-font-size);\n",
       "line-height: var(--jp-code-line-height);\n",
       "\"><span style=\"color: var(--jp-warn-color2)\">lsst.makeWarp.warpAndPsfMatch.psfMatch</span> <span style=\"color: var(--jp-info-color0)\">INFO</span>: compute Psf-matching kernel</pre>"
      ],
      "text/plain": [
       "<IPython.core.display.HTML object>"
      ]
     },
     "metadata": {},
     "output_type": "display_data"
    },
    {
     "data": {
      "text/html": [
       "<pre style=\"margin: 0.1em;\n",
       "padding-left: 0.25em;\n",
       "border-left-style: solid;\n",
       "font-family: var(--jp-code-font-family);\n",
       "font-size: var(--jp-code-font-size);\n",
       "line-height: var(--jp-code-line-height);\n",
       "\"><span style=\"color: var(--jp-warn-color2)\">lsst.makeWarp.warpAndPsfMatch.psfMatch</span> <span style=\"color: var(--jp-info-color0)\">INFO</span>: Adjusted dimensions of reference PSF model from (9, 9) to (57, 57)</pre>"
      ],
      "text/plain": [
       "<IPython.core.display.HTML object>"
      ]
     },
     "metadata": {},
     "output_type": "display_data"
    },
    {
     "data": {
      "text/html": [
       "<pre style=\"margin: 0.1em;\n",
       "padding-left: 0.25em;\n",
       "border-left-style: solid;\n",
       "font-family: var(--jp-code-font-family);\n",
       "font-size: var(--jp-code-font-size);\n",
       "line-height: var(--jp-code-line-height);\n",
       "\"><span style=\"color: var(--jp-warn-color2)\">lsst.ip.diffim.generateAlardLuptonBasisList</span> <span style=\"color: var(--jp-info-color0)\">INFO</span>: PSF sigmas are not available or scaling by fwhm disabled, falling back to config values</pre>"
      ],
      "text/plain": [
       "<IPython.core.display.HTML object>"
      ]
     },
     "metadata": {},
     "output_type": "display_data"
    },
    {
     "data": {
      "text/html": [
       "<pre style=\"margin: 0.1em;\n",
       "padding-left: 0.25em;\n",
       "border-left-style: solid;\n",
       "font-family: var(--jp-code-font-family);\n",
       "font-size: var(--jp-code-font-size);\n",
       "line-height: var(--jp-code-line-height);\n",
       "\"><span style=\"color: var(--jp-warn-color2)\">lsst.makeWarp.warpAndPsfMatch.psfMatch</span> <span style=\"color: var(--jp-info-color0)\">INFO</span>: Psf-match science exposure to reference</pre>"
      ],
      "text/plain": [
       "<IPython.core.display.HTML object>"
      ]
     },
     "metadata": {},
     "output_type": "display_data"
    },
    {
     "data": {
      "text/html": [
       "<pre style=\"margin: 0.1em;\n",
       "padding-left: 0.25em;\n",
       "border-left-style: solid;\n",
       "font-family: var(--jp-code-font-family);\n",
       "font-size: var(--jp-code-font-size);\n",
       "line-height: var(--jp-code-line-height);\n",
       "\"><span style=\"color: var(--jp-warn-color2)\">lsst.makeWarp.warpAndPsfMatch.psfMatch</span> <span style=\"color: var(--jp-info-color0)\">INFO</span>: done</pre>"
      ],
      "text/plain": [
       "<IPython.core.display.HTML object>"
      ]
     },
     "metadata": {},
     "output_type": "display_data"
    },
    {
     "data": {
      "text/html": [
       "<pre style=\"margin: 0.1em;\n",
       "padding-left: 0.25em;\n",
       "border-left-style: solid;\n",
       "font-family: var(--jp-code-font-family);\n",
       "font-size: var(--jp-code-font-size);\n",
       "line-height: var(--jp-code-line-height);\n",
       "\"><span style=\"color: var(--jp-warn-color2)\">lsst.makeWarp</span> <span style=\"color: var(--jp-info-color0)\">INFO</span>: Processing calexp 4 of 4 for this Warp: id={instrument: &#x27;LSSTCam-imSim&#x27;, detector: 169, visit: 930353, ...}</pre>"
      ],
      "text/plain": [
       "<IPython.core.display.HTML object>"
      ]
     },
     "metadata": {},
     "output_type": "display_data"
    },
    {
     "data": {
      "text/html": [
       "<pre style=\"margin: 0.1em;\n",
       "padding-left: 0.25em;\n",
       "border-left-style: solid;\n",
       "font-family: var(--jp-code-font-family);\n",
       "font-size: var(--jp-code-font-size);\n",
       "line-height: var(--jp-code-line-height);\n",
       "\"><span style=\"color: var(--jp-warn-color2)\">lsst.makeWarp.warpAndPsfMatch.psfMatch</span> <span style=\"color: var(--jp-info-color0)\">INFO</span>: compute Psf-matching kernel</pre>"
      ],
      "text/plain": [
       "<IPython.core.display.HTML object>"
      ]
     },
     "metadata": {},
     "output_type": "display_data"
    },
    {
     "data": {
      "text/html": [
       "<pre style=\"margin: 0.1em;\n",
       "padding-left: 0.25em;\n",
       "border-left-style: solid;\n",
       "font-family: var(--jp-code-font-family);\n",
       "font-size: var(--jp-code-font-size);\n",
       "line-height: var(--jp-code-line-height);\n",
       "\"><span style=\"color: var(--jp-warn-color2)\">lsst.makeWarp.warpAndPsfMatch.psfMatch</span> <span style=\"color: var(--jp-info-color0)\">INFO</span>: Adjusted dimensions of reference PSF model from (9, 9) to (57, 57)</pre>"
      ],
      "text/plain": [
       "<IPython.core.display.HTML object>"
      ]
     },
     "metadata": {},
     "output_type": "display_data"
    },
    {
     "data": {
      "text/html": [
       "<pre style=\"margin: 0.1em;\n",
       "padding-left: 0.25em;\n",
       "border-left-style: solid;\n",
       "font-family: var(--jp-code-font-family);\n",
       "font-size: var(--jp-code-font-size);\n",
       "line-height: var(--jp-code-line-height);\n",
       "\"><span style=\"color: var(--jp-warn-color2)\">lsst.ip.diffim.generateAlardLuptonBasisList</span> <span style=\"color: var(--jp-info-color0)\">INFO</span>: PSF sigmas are not available or scaling by fwhm disabled, falling back to config values</pre>"
      ],
      "text/plain": [
       "<IPython.core.display.HTML object>"
      ]
     },
     "metadata": {},
     "output_type": "display_data"
    },
    {
     "data": {
      "text/html": [
       "<pre style=\"margin: 0.1em;\n",
       "padding-left: 0.25em;\n",
       "border-left-style: solid;\n",
       "font-family: var(--jp-code-font-family);\n",
       "font-size: var(--jp-code-font-size);\n",
       "line-height: var(--jp-code-line-height);\n",
       "\"><span style=\"color: var(--jp-warn-color2)\">lsst.makeWarp.warpAndPsfMatch.psfMatch</span> <span style=\"color: var(--jp-info-color0)\">INFO</span>: Psf-match science exposure to reference</pre>"
      ],
      "text/plain": [
       "<IPython.core.display.HTML object>"
      ]
     },
     "metadata": {},
     "output_type": "display_data"
    },
    {
     "data": {
      "text/html": [
       "<pre style=\"margin: 0.1em;\n",
       "padding-left: 0.25em;\n",
       "border-left-style: solid;\n",
       "font-family: var(--jp-code-font-family);\n",
       "font-size: var(--jp-code-font-size);\n",
       "line-height: var(--jp-code-line-height);\n",
       "\"><span style=\"color: var(--jp-warn-color2)\">lsst.makeWarp.warpAndPsfMatch.psfMatch</span> <span style=\"color: var(--jp-info-color0)\">INFO</span>: done</pre>"
      ],
      "text/plain": [
       "<IPython.core.display.HTML object>"
      ]
     },
     "metadata": {},
     "output_type": "display_data"
    },
    {
     "data": {
      "text/html": [
       "<pre style=\"margin: 0.1em;\n",
       "padding-left: 0.25em;\n",
       "border-left-style: solid;\n",
       "font-family: var(--jp-code-font-family);\n",
       "font-size: var(--jp-code-font-size);\n",
       "line-height: var(--jp-code-line-height);\n",
       "\"><span style=\"color: var(--jp-warn-color2)\">lsst.makeWarp</span> <span style=\"color: var(--jp-info-color0)\">INFO</span>: directWarp has 16076133 good pixels (91.1%)</pre>"
      ],
      "text/plain": [
       "<IPython.core.display.HTML object>"
      ]
     },
     "metadata": {},
     "output_type": "display_data"
    },
    {
     "data": {
      "text/html": [
       "<pre style=\"margin: 0.1em;\n",
       "padding-left: 0.25em;\n",
       "border-left-style: solid;\n",
       "font-family: var(--jp-code-font-family);\n",
       "font-size: var(--jp-code-font-size);\n",
       "line-height: var(--jp-code-line-height);\n",
       "\"><span style=\"color: var(--jp-warn-color2)\">lsst.makeWarp</span> <span style=\"color: var(--jp-info-color0)\">INFO</span>: psfMatchedWarp has 15873200 good pixels (90.0%)</pre>"
      ],
      "text/plain": [
       "<IPython.core.display.HTML object>"
      ]
     },
     "metadata": {},
     "output_type": "display_data"
    },
    {
     "data": {
      "text/html": [
       "<pre style=\"margin: 0.1em;\n",
       "padding-left: 0.25em;\n",
       "border-left-style: solid;\n",
       "font-family: var(--jp-code-font-family);\n",
       "font-size: var(--jp-code-font-size);\n",
       "line-height: var(--jp-code-line-height);\n",
       "\"><span style=\"color: var(--jp-warn-color2)\">lsst.ctrl.mpexec.singleQuantumExecutor</span> <span style=\"color: var(--jp-info-color0)\">INFO</span>: Execution of task &#x27;makeWarp&#x27; on quantum {instrument: &#x27;LSSTCam-imSim&#x27;, skymap: &#x27;DC2&#x27;, tract: 4431, patch: 17, visit: 930353, ...} took 155.619 seconds</pre>"
      ],
      "text/plain": [
       "<IPython.core.display.HTML object>"
      ]
     },
     "metadata": {},
     "output_type": "display_data"
    },
    {
     "data": {
      "text/html": [
       "<pre style=\"margin: 0.1em;\n",
       "padding-left: 0.25em;\n",
       "border-left-style: solid;\n",
       "font-family: var(--jp-code-font-family);\n",
       "font-size: var(--jp-code-font-size);\n",
       "line-height: var(--jp-code-line-height);\n",
       "\"><span style=\"color: var(--jp-warn-color2)\">lsst.makeWarp.select</span> <span style=\"color: var(--jp-info-color0)\">INFO</span>: Selecting calexp {instrument: &#x27;LSSTCam-imSim&#x27;, detector: 139, visit: 924086, ...}</pre>"
      ],
      "text/plain": [
       "<IPython.core.display.HTML object>"
      ]
     },
     "metadata": {},
     "output_type": "display_data"
    },
    {
     "data": {
      "text/html": [
       "<pre style=\"margin: 0.1em;\n",
       "padding-left: 0.25em;\n",
       "border-left-style: solid;\n",
       "font-family: var(--jp-code-font-family);\n",
       "font-size: var(--jp-code-font-size);\n",
       "line-height: var(--jp-code-line-height);\n",
       "\"><span style=\"color: var(--jp-warn-color2)\">lsst.makeWarp.select</span> <span style=\"color: var(--jp-info-color0)\">INFO</span>: Selecting calexp {instrument: &#x27;LSSTCam-imSim&#x27;, detector: 140, visit: 924086, ...}</pre>"
      ],
      "text/plain": [
       "<IPython.core.display.HTML object>"
      ]
     },
     "metadata": {},
     "output_type": "display_data"
    },
    {
     "data": {
      "text/html": [
       "<pre style=\"margin: 0.1em;\n",
       "padding-left: 0.25em;\n",
       "border-left-style: solid;\n",
       "font-family: var(--jp-code-font-family);\n",
       "font-size: var(--jp-code-font-size);\n",
       "line-height: var(--jp-code-line-height);\n",
       "\"><span style=\"color: var(--jp-warn-color2)\">lsst.makeWarp.select</span> <span style=\"color: var(--jp-info-color0)\">INFO</span>: Selecting calexp {instrument: &#x27;LSSTCam-imSim&#x27;, detector: 141, visit: 924086, ...}</pre>"
      ],
      "text/plain": [
       "<IPython.core.display.HTML object>"
      ]
     },
     "metadata": {},
     "output_type": "display_data"
    },
    {
     "data": {
      "text/html": [
       "<pre style=\"margin: 0.1em;\n",
       "padding-left: 0.25em;\n",
       "border-left-style: solid;\n",
       "font-family: var(--jp-code-font-family);\n",
       "font-size: var(--jp-code-font-size);\n",
       "line-height: var(--jp-code-line-height);\n",
       "\"><span style=\"color: var(--jp-warn-color2)\">lsst.makeWarp.select</span> <span style=\"color: var(--jp-info-color0)\">INFO</span>: Selecting calexp {instrument: &#x27;LSSTCam-imSim&#x27;, detector: 142, visit: 924086, ...}</pre>"
      ],
      "text/plain": [
       "<IPython.core.display.HTML object>"
      ]
     },
     "metadata": {},
     "output_type": "display_data"
    },
    {
     "data": {
      "text/html": [
       "<pre style=\"margin: 0.1em;\n",
       "padding-left: 0.25em;\n",
       "border-left-style: solid;\n",
       "font-family: var(--jp-code-font-family);\n",
       "font-size: var(--jp-code-font-size);\n",
       "line-height: var(--jp-code-line-height);\n",
       "\"><span style=\"color: var(--jp-warn-color2)\">lsst.makeWarp.select</span> <span style=\"color: var(--jp-info-color0)\">INFO</span>: Selecting calexp {instrument: &#x27;LSSTCam-imSim&#x27;, detector: 143, visit: 924086, ...}</pre>"
      ],
      "text/plain": [
       "<IPython.core.display.HTML object>"
      ]
     },
     "metadata": {},
     "output_type": "display_data"
    },
    {
     "data": {
      "text/html": [
       "<pre style=\"margin: 0.1em;\n",
       "padding-left: 0.25em;\n",
       "border-left-style: solid;\n",
       "font-family: var(--jp-code-font-family);\n",
       "font-size: var(--jp-code-font-size);\n",
       "line-height: var(--jp-code-line-height);\n",
       "\"><span style=\"color: var(--jp-warn-color2)\">lsst.makeWarp</span> <span style=\"color: var(--jp-info-color0)\">INFO</span>: Processing calexp 1 of 5 for this Warp: id={instrument: &#x27;LSSTCam-imSim&#x27;, detector: 139, visit: 924086, ...}</pre>"
      ],
      "text/plain": [
       "<IPython.core.display.HTML object>"
      ]
     },
     "metadata": {},
     "output_type": "display_data"
    },
    {
     "data": {
      "text/html": [
       "<pre style=\"margin: 0.1em;\n",
       "padding-left: 0.25em;\n",
       "border-left-style: solid;\n",
       "font-family: var(--jp-code-font-family);\n",
       "font-size: var(--jp-code-font-size);\n",
       "line-height: var(--jp-code-line-height);\n",
       "\"><span style=\"color: var(--jp-warn-color2)\">lsst.makeWarp.warpAndPsfMatch.psfMatch</span> <span style=\"color: var(--jp-info-color0)\">INFO</span>: compute Psf-matching kernel</pre>"
      ],
      "text/plain": [
       "<IPython.core.display.HTML object>"
      ]
     },
     "metadata": {},
     "output_type": "display_data"
    },
    {
     "data": {
      "text/html": [
       "<pre style=\"margin: 0.1em;\n",
       "padding-left: 0.25em;\n",
       "border-left-style: solid;\n",
       "font-family: var(--jp-code-font-family);\n",
       "font-size: var(--jp-code-font-size);\n",
       "line-height: var(--jp-code-line-height);\n",
       "\"><span style=\"color: var(--jp-warn-color2)\">lsst.makeWarp.warpAndPsfMatch.psfMatch</span> <span style=\"color: var(--jp-info-color0)\">INFO</span>: Adjusted dimensions of reference PSF model from (9, 9) to (57, 57)</pre>"
      ],
      "text/plain": [
       "<IPython.core.display.HTML object>"
      ]
     },
     "metadata": {},
     "output_type": "display_data"
    },
    {
     "data": {
      "text/html": [
       "<pre style=\"margin: 0.1em;\n",
       "padding-left: 0.25em;\n",
       "border-left-style: solid;\n",
       "font-family: var(--jp-code-font-family);\n",
       "font-size: var(--jp-code-font-size);\n",
       "line-height: var(--jp-code-line-height);\n",
       "\"><span style=\"color: var(--jp-warn-color2)\">lsst.ip.diffim.generateAlardLuptonBasisList</span> <span style=\"color: var(--jp-info-color0)\">INFO</span>: PSF sigmas are not available or scaling by fwhm disabled, falling back to config values</pre>"
      ],
      "text/plain": [
       "<IPython.core.display.HTML object>"
      ]
     },
     "metadata": {},
     "output_type": "display_data"
    },
    {
     "data": {
      "text/html": [
       "<pre style=\"margin: 0.1em;\n",
       "padding-left: 0.25em;\n",
       "border-left-style: solid;\n",
       "font-family: var(--jp-code-font-family);\n",
       "font-size: var(--jp-code-font-size);\n",
       "line-height: var(--jp-code-line-height);\n",
       "\"><span style=\"color: var(--jp-warn-color2)\">lsst.makeWarp.warpAndPsfMatch.psfMatch</span> <span style=\"color: var(--jp-info-color0)\">INFO</span>: Psf-match science exposure to reference</pre>"
      ],
      "text/plain": [
       "<IPython.core.display.HTML object>"
      ]
     },
     "metadata": {},
     "output_type": "display_data"
    },
    {
     "data": {
      "text/html": [
       "<pre style=\"margin: 0.1em;\n",
       "padding-left: 0.25em;\n",
       "border-left-style: solid;\n",
       "font-family: var(--jp-code-font-family);\n",
       "font-size: var(--jp-code-font-size);\n",
       "line-height: var(--jp-code-line-height);\n",
       "\"><span style=\"color: var(--jp-warn-color2)\">lsst.makeWarp.warpAndPsfMatch.psfMatch</span> <span style=\"color: var(--jp-info-color0)\">INFO</span>: done</pre>"
      ],
      "text/plain": [
       "<IPython.core.display.HTML object>"
      ]
     },
     "metadata": {},
     "output_type": "display_data"
    },
    {
     "data": {
      "text/html": [
       "<pre style=\"margin: 0.1em;\n",
       "padding-left: 0.25em;\n",
       "border-left-style: solid;\n",
       "font-family: var(--jp-code-font-family);\n",
       "font-size: var(--jp-code-font-size);\n",
       "line-height: var(--jp-code-line-height);\n",
       "\"><span style=\"color: var(--jp-warn-color2)\">lsst.makeWarp</span> <span style=\"color: var(--jp-info-color0)\">INFO</span>: Processing calexp 2 of 5 for this Warp: id={instrument: &#x27;LSSTCam-imSim&#x27;, detector: 140, visit: 924086, ...}</pre>"
      ],
      "text/plain": [
       "<IPython.core.display.HTML object>"
      ]
     },
     "metadata": {},
     "output_type": "display_data"
    },
    {
     "data": {
      "text/html": [
       "<pre style=\"margin: 0.1em;\n",
       "padding-left: 0.25em;\n",
       "border-left-style: solid;\n",
       "font-family: var(--jp-code-font-family);\n",
       "font-size: var(--jp-code-font-size);\n",
       "line-height: var(--jp-code-line-height);\n",
       "\"><span style=\"color: var(--jp-warn-color2)\">lsst.makeWarp.warpAndPsfMatch.psfMatch</span> <span style=\"color: var(--jp-info-color0)\">INFO</span>: compute Psf-matching kernel</pre>"
      ],
      "text/plain": [
       "<IPython.core.display.HTML object>"
      ]
     },
     "metadata": {},
     "output_type": "display_data"
    },
    {
     "data": {
      "text/html": [
       "<pre style=\"margin: 0.1em;\n",
       "padding-left: 0.25em;\n",
       "border-left-style: solid;\n",
       "font-family: var(--jp-code-font-family);\n",
       "font-size: var(--jp-code-font-size);\n",
       "line-height: var(--jp-code-line-height);\n",
       "\"><span style=\"color: var(--jp-warn-color2)\">lsst.makeWarp.warpAndPsfMatch.psfMatch</span> <span style=\"color: var(--jp-info-color0)\">INFO</span>: Adjusted dimensions of reference PSF model from (9, 9) to (57, 57)</pre>"
      ],
      "text/plain": [
       "<IPython.core.display.HTML object>"
      ]
     },
     "metadata": {},
     "output_type": "display_data"
    },
    {
     "data": {
      "text/html": [
       "<pre style=\"margin: 0.1em;\n",
       "padding-left: 0.25em;\n",
       "border-left-style: solid;\n",
       "font-family: var(--jp-code-font-family);\n",
       "font-size: var(--jp-code-font-size);\n",
       "line-height: var(--jp-code-line-height);\n",
       "\"><span style=\"color: var(--jp-warn-color2)\">lsst.ip.diffim.generateAlardLuptonBasisList</span> <span style=\"color: var(--jp-info-color0)\">INFO</span>: PSF sigmas are not available or scaling by fwhm disabled, falling back to config values</pre>"
      ],
      "text/plain": [
       "<IPython.core.display.HTML object>"
      ]
     },
     "metadata": {},
     "output_type": "display_data"
    },
    {
     "data": {
      "text/html": [
       "<pre style=\"margin: 0.1em;\n",
       "padding-left: 0.25em;\n",
       "border-left-style: solid;\n",
       "font-family: var(--jp-code-font-family);\n",
       "font-size: var(--jp-code-font-size);\n",
       "line-height: var(--jp-code-line-height);\n",
       "\"><span style=\"color: var(--jp-warn-color2)\">lsst.makeWarp.warpAndPsfMatch.psfMatch</span> <span style=\"color: var(--jp-info-color0)\">INFO</span>: Psf-match science exposure to reference</pre>"
      ],
      "text/plain": [
       "<IPython.core.display.HTML object>"
      ]
     },
     "metadata": {},
     "output_type": "display_data"
    },
    {
     "data": {
      "text/html": [
       "<pre style=\"margin: 0.1em;\n",
       "padding-left: 0.25em;\n",
       "border-left-style: solid;\n",
       "font-family: var(--jp-code-font-family);\n",
       "font-size: var(--jp-code-font-size);\n",
       "line-height: var(--jp-code-line-height);\n",
       "\"><span style=\"color: var(--jp-warn-color2)\">lsst.makeWarp.warpAndPsfMatch.psfMatch</span> <span style=\"color: var(--jp-info-color0)\">INFO</span>: done</pre>"
      ],
      "text/plain": [
       "<IPython.core.display.HTML object>"
      ]
     },
     "metadata": {},
     "output_type": "display_data"
    },
    {
     "data": {
      "text/html": [
       "<pre style=\"margin: 0.1em;\n",
       "padding-left: 0.25em;\n",
       "border-left-style: solid;\n",
       "font-family: var(--jp-code-font-family);\n",
       "font-size: var(--jp-code-font-size);\n",
       "line-height: var(--jp-code-line-height);\n",
       "\"><span style=\"color: var(--jp-warn-color2)\">lsst.makeWarp</span> <span style=\"color: var(--jp-info-color0)\">INFO</span>: Processing calexp 3 of 5 for this Warp: id={instrument: &#x27;LSSTCam-imSim&#x27;, detector: 141, visit: 924086, ...}</pre>"
      ],
      "text/plain": [
       "<IPython.core.display.HTML object>"
      ]
     },
     "metadata": {},
     "output_type": "display_data"
    },
    {
     "data": {
      "text/html": [
       "<pre style=\"margin: 0.1em;\n",
       "padding-left: 0.25em;\n",
       "border-left-style: solid;\n",
       "font-family: var(--jp-code-font-family);\n",
       "font-size: var(--jp-code-font-size);\n",
       "line-height: var(--jp-code-line-height);\n",
       "\"><span style=\"color: var(--jp-warn-color2)\">lsst.makeWarp.warpAndPsfMatch.psfMatch</span> <span style=\"color: var(--jp-info-color0)\">INFO</span>: compute Psf-matching kernel</pre>"
      ],
      "text/plain": [
       "<IPython.core.display.HTML object>"
      ]
     },
     "metadata": {},
     "output_type": "display_data"
    },
    {
     "data": {
      "text/html": [
       "<pre style=\"margin: 0.1em;\n",
       "padding-left: 0.25em;\n",
       "border-left-style: solid;\n",
       "font-family: var(--jp-code-font-family);\n",
       "font-size: var(--jp-code-font-size);\n",
       "line-height: var(--jp-code-line-height);\n",
       "\"><span style=\"color: var(--jp-warn-color2)\">lsst.makeWarp.warpAndPsfMatch.psfMatch</span> <span style=\"color: var(--jp-info-color0)\">INFO</span>: Adjusted dimensions of reference PSF model from (9, 9) to (57, 57)</pre>"
      ],
      "text/plain": [
       "<IPython.core.display.HTML object>"
      ]
     },
     "metadata": {},
     "output_type": "display_data"
    },
    {
     "data": {
      "text/html": [
       "<pre style=\"margin: 0.1em;\n",
       "padding-left: 0.25em;\n",
       "border-left-style: solid;\n",
       "font-family: var(--jp-code-font-family);\n",
       "font-size: var(--jp-code-font-size);\n",
       "line-height: var(--jp-code-line-height);\n",
       "\"><span style=\"color: var(--jp-warn-color2)\">lsst.ip.diffim.generateAlardLuptonBasisList</span> <span style=\"color: var(--jp-info-color0)\">INFO</span>: PSF sigmas are not available or scaling by fwhm disabled, falling back to config values</pre>"
      ],
      "text/plain": [
       "<IPython.core.display.HTML object>"
      ]
     },
     "metadata": {},
     "output_type": "display_data"
    },
    {
     "data": {
      "text/html": [
       "<pre style=\"margin: 0.1em;\n",
       "padding-left: 0.25em;\n",
       "border-left-style: solid;\n",
       "font-family: var(--jp-code-font-family);\n",
       "font-size: var(--jp-code-font-size);\n",
       "line-height: var(--jp-code-line-height);\n",
       "\"><span style=\"color: var(--jp-warn-color2)\">lsst.makeWarp.warpAndPsfMatch.psfMatch</span> <span style=\"color: var(--jp-info-color0)\">INFO</span>: Psf-match science exposure to reference</pre>"
      ],
      "text/plain": [
       "<IPython.core.display.HTML object>"
      ]
     },
     "metadata": {},
     "output_type": "display_data"
    },
    {
     "data": {
      "text/html": [
       "<pre style=\"margin: 0.1em;\n",
       "padding-left: 0.25em;\n",
       "border-left-style: solid;\n",
       "font-family: var(--jp-code-font-family);\n",
       "font-size: var(--jp-code-font-size);\n",
       "line-height: var(--jp-code-line-height);\n",
       "\"><span style=\"color: var(--jp-warn-color2)\">lsst.makeWarp.warpAndPsfMatch.psfMatch</span> <span style=\"color: var(--jp-info-color0)\">INFO</span>: done</pre>"
      ],
      "text/plain": [
       "<IPython.core.display.HTML object>"
      ]
     },
     "metadata": {},
     "output_type": "display_data"
    },
    {
     "data": {
      "text/html": [
       "<pre style=\"margin: 0.1em;\n",
       "padding-left: 0.25em;\n",
       "border-left-style: solid;\n",
       "font-family: var(--jp-code-font-family);\n",
       "font-size: var(--jp-code-font-size);\n",
       "line-height: var(--jp-code-line-height);\n",
       "\"><span style=\"color: var(--jp-warn-color2)\">lsst.makeWarp</span> <span style=\"color: var(--jp-info-color0)\">INFO</span>: Processing calexp 4 of 5 for this Warp: id={instrument: &#x27;LSSTCam-imSim&#x27;, detector: 142, visit: 924086, ...}</pre>"
      ],
      "text/plain": [
       "<IPython.core.display.HTML object>"
      ]
     },
     "metadata": {},
     "output_type": "display_data"
    },
    {
     "data": {
      "text/html": [
       "<pre style=\"margin: 0.1em;\n",
       "padding-left: 0.25em;\n",
       "border-left-style: solid;\n",
       "font-family: var(--jp-code-font-family);\n",
       "font-size: var(--jp-code-font-size);\n",
       "line-height: var(--jp-code-line-height);\n",
       "\"><span style=\"color: var(--jp-warn-color2)\">lsst.makeWarp.warpAndPsfMatch.psfMatch</span> <span style=\"color: var(--jp-info-color0)\">INFO</span>: compute Psf-matching kernel</pre>"
      ],
      "text/plain": [
       "<IPython.core.display.HTML object>"
      ]
     },
     "metadata": {},
     "output_type": "display_data"
    },
    {
     "data": {
      "text/html": [
       "<pre style=\"margin: 0.1em;\n",
       "padding-left: 0.25em;\n",
       "border-left-style: solid;\n",
       "font-family: var(--jp-code-font-family);\n",
       "font-size: var(--jp-code-font-size);\n",
       "line-height: var(--jp-code-line-height);\n",
       "\"><span style=\"color: var(--jp-warn-color2)\">lsst.makeWarp.warpAndPsfMatch.psfMatch</span> <span style=\"color: var(--jp-info-color0)\">INFO</span>: Adjusted dimensions of reference PSF model from (9, 9) to (57, 57)</pre>"
      ],
      "text/plain": [
       "<IPython.core.display.HTML object>"
      ]
     },
     "metadata": {},
     "output_type": "display_data"
    },
    {
     "data": {
      "text/html": [
       "<pre style=\"margin: 0.1em;\n",
       "padding-left: 0.25em;\n",
       "border-left-style: solid;\n",
       "font-family: var(--jp-code-font-family);\n",
       "font-size: var(--jp-code-font-size);\n",
       "line-height: var(--jp-code-line-height);\n",
       "\"><span style=\"color: var(--jp-warn-color2)\">lsst.ip.diffim.generateAlardLuptonBasisList</span> <span style=\"color: var(--jp-info-color0)\">INFO</span>: PSF sigmas are not available or scaling by fwhm disabled, falling back to config values</pre>"
      ],
      "text/plain": [
       "<IPython.core.display.HTML object>"
      ]
     },
     "metadata": {},
     "output_type": "display_data"
    },
    {
     "data": {
      "text/html": [
       "<pre style=\"margin: 0.1em;\n",
       "padding-left: 0.25em;\n",
       "border-left-style: solid;\n",
       "font-family: var(--jp-code-font-family);\n",
       "font-size: var(--jp-code-font-size);\n",
       "line-height: var(--jp-code-line-height);\n",
       "\"><span style=\"color: var(--jp-warn-color2)\">lsst.makeWarp.warpAndPsfMatch.psfMatch</span> <span style=\"color: var(--jp-info-color0)\">INFO</span>: Psf-match science exposure to reference</pre>"
      ],
      "text/plain": [
       "<IPython.core.display.HTML object>"
      ]
     },
     "metadata": {},
     "output_type": "display_data"
    },
    {
     "data": {
      "text/html": [
       "<pre style=\"margin: 0.1em;\n",
       "padding-left: 0.25em;\n",
       "border-left-style: solid;\n",
       "font-family: var(--jp-code-font-family);\n",
       "font-size: var(--jp-code-font-size);\n",
       "line-height: var(--jp-code-line-height);\n",
       "\"><span style=\"color: var(--jp-warn-color2)\">lsst.makeWarp.warpAndPsfMatch.psfMatch</span> <span style=\"color: var(--jp-info-color0)\">INFO</span>: done</pre>"
      ],
      "text/plain": [
       "<IPython.core.display.HTML object>"
      ]
     },
     "metadata": {},
     "output_type": "display_data"
    },
    {
     "data": {
      "text/html": [
       "<pre style=\"margin: 0.1em;\n",
       "padding-left: 0.25em;\n",
       "border-left-style: solid;\n",
       "font-family: var(--jp-code-font-family);\n",
       "font-size: var(--jp-code-font-size);\n",
       "line-height: var(--jp-code-line-height);\n",
       "\"><span style=\"color: var(--jp-warn-color2)\">lsst.makeWarp</span> <span style=\"color: var(--jp-info-color0)\">INFO</span>: Processing calexp 5 of 5 for this Warp: id={instrument: &#x27;LSSTCam-imSim&#x27;, detector: 143, visit: 924086, ...}</pre>"
      ],
      "text/plain": [
       "<IPython.core.display.HTML object>"
      ]
     },
     "metadata": {},
     "output_type": "display_data"
    },
    {
     "data": {
      "text/html": [
       "<pre style=\"margin: 0.1em;\n",
       "padding-left: 0.25em;\n",
       "border-left-style: solid;\n",
       "font-family: var(--jp-code-font-family);\n",
       "font-size: var(--jp-code-font-size);\n",
       "line-height: var(--jp-code-line-height);\n",
       "\"><span style=\"color: var(--jp-warn-color2)\">lsst.makeWarp.warpAndPsfMatch.psfMatch</span> <span style=\"color: var(--jp-info-color0)\">INFO</span>: compute Psf-matching kernel</pre>"
      ],
      "text/plain": [
       "<IPython.core.display.HTML object>"
      ]
     },
     "metadata": {},
     "output_type": "display_data"
    },
    {
     "data": {
      "text/html": [
       "<pre style=\"margin: 0.1em;\n",
       "padding-left: 0.25em;\n",
       "border-left-style: solid;\n",
       "font-family: var(--jp-code-font-family);\n",
       "font-size: var(--jp-code-font-size);\n",
       "line-height: var(--jp-code-line-height);\n",
       "\"><span style=\"color: var(--jp-warn-color2)\">lsst.makeWarp.warpAndPsfMatch.psfMatch</span> <span style=\"color: var(--jp-info-color0)\">INFO</span>: Adjusted dimensions of reference PSF model from (9, 9) to (57, 57)</pre>"
      ],
      "text/plain": [
       "<IPython.core.display.HTML object>"
      ]
     },
     "metadata": {},
     "output_type": "display_data"
    },
    {
     "data": {
      "text/html": [
       "<pre style=\"margin: 0.1em;\n",
       "padding-left: 0.25em;\n",
       "border-left-style: solid;\n",
       "font-family: var(--jp-code-font-family);\n",
       "font-size: var(--jp-code-font-size);\n",
       "line-height: var(--jp-code-line-height);\n",
       "\"><span style=\"color: var(--jp-warn-color2)\">lsst.ip.diffim.generateAlardLuptonBasisList</span> <span style=\"color: var(--jp-info-color0)\">INFO</span>: PSF sigmas are not available or scaling by fwhm disabled, falling back to config values</pre>"
      ],
      "text/plain": [
       "<IPython.core.display.HTML object>"
      ]
     },
     "metadata": {},
     "output_type": "display_data"
    },
    {
     "data": {
      "text/html": [
       "<pre style=\"margin: 0.1em;\n",
       "padding-left: 0.25em;\n",
       "border-left-style: solid;\n",
       "font-family: var(--jp-code-font-family);\n",
       "font-size: var(--jp-code-font-size);\n",
       "line-height: var(--jp-code-line-height);\n",
       "\"><span style=\"color: var(--jp-warn-color2)\">lsst.makeWarp.warpAndPsfMatch.psfMatch</span> <span style=\"color: var(--jp-info-color0)\">INFO</span>: Psf-match science exposure to reference</pre>"
      ],
      "text/plain": [
       "<IPython.core.display.HTML object>"
      ]
     },
     "metadata": {},
     "output_type": "display_data"
    },
    {
     "data": {
      "text/html": [
       "<pre style=\"margin: 0.1em;\n",
       "padding-left: 0.25em;\n",
       "border-left-style: solid;\n",
       "font-family: var(--jp-code-font-family);\n",
       "font-size: var(--jp-code-font-size);\n",
       "line-height: var(--jp-code-line-height);\n",
       "\"><span style=\"color: var(--jp-warn-color2)\">lsst.makeWarp.warpAndPsfMatch.psfMatch</span> <span style=\"color: var(--jp-info-color0)\">INFO</span>: done</pre>"
      ],
      "text/plain": [
       "<IPython.core.display.HTML object>"
      ]
     },
     "metadata": {},
     "output_type": "display_data"
    },
    {
     "data": {
      "text/html": [
       "<pre style=\"margin: 0.1em;\n",
       "padding-left: 0.25em;\n",
       "border-left-style: solid;\n",
       "font-family: var(--jp-code-font-family);\n",
       "font-size: var(--jp-code-font-size);\n",
       "line-height: var(--jp-code-line-height);\n",
       "\"><span style=\"color: var(--jp-warn-color2)\">lsst.makeWarp</span> <span style=\"color: var(--jp-info-color0)\">INFO</span>: directWarp has 16136708 good pixels (91.5%)</pre>"
      ],
      "text/plain": [
       "<IPython.core.display.HTML object>"
      ]
     },
     "metadata": {},
     "output_type": "display_data"
    },
    {
     "data": {
      "text/html": [
       "<pre style=\"margin: 0.1em;\n",
       "padding-left: 0.25em;\n",
       "border-left-style: solid;\n",
       "font-family: var(--jp-code-font-family);\n",
       "font-size: var(--jp-code-font-size);\n",
       "line-height: var(--jp-code-line-height);\n",
       "\"><span style=\"color: var(--jp-warn-color2)\">lsst.makeWarp</span> <span style=\"color: var(--jp-info-color0)\">INFO</span>: psfMatchedWarp has 15929402 good pixels (90.3%)</pre>"
      ],
      "text/plain": [
       "<IPython.core.display.HTML object>"
      ]
     },
     "metadata": {},
     "output_type": "display_data"
    },
    {
     "data": {
      "text/html": [
       "<pre style=\"margin: 0.1em;\n",
       "padding-left: 0.25em;\n",
       "border-left-style: solid;\n",
       "font-family: var(--jp-code-font-family);\n",
       "font-size: var(--jp-code-font-size);\n",
       "line-height: var(--jp-code-line-height);\n",
       "\"><span style=\"color: var(--jp-warn-color2)\">lsst.ctrl.mpexec.singleQuantumExecutor</span> <span style=\"color: var(--jp-info-color0)\">INFO</span>: Execution of task &#x27;makeWarp&#x27; on quantum {instrument: &#x27;LSSTCam-imSim&#x27;, skymap: &#x27;DC2&#x27;, tract: 4431, patch: 17, visit: 924086, ...} took 165.983 seconds</pre>"
      ],
      "text/plain": [
       "<IPython.core.display.HTML object>"
      ]
     },
     "metadata": {},
     "output_type": "display_data"
    },
    {
     "data": {
      "text/html": [
       "<pre style=\"margin: 0.1em;\n",
       "padding-left: 0.25em;\n",
       "border-left-style: solid;\n",
       "font-family: var(--jp-code-font-family);\n",
       "font-size: var(--jp-code-font-size);\n",
       "line-height: var(--jp-code-line-height);\n",
       "\"><span style=\"color: var(--jp-warn-color2)\">lsst.makeWarp.select</span> <span style=\"color: var(--jp-info-color0)\">INFO</span>: Selecting calexp {instrument: &#x27;LSSTCam-imSim&#x27;, detector: 110, visit: 919515, ...}</pre>"
      ],
      "text/plain": [
       "<IPython.core.display.HTML object>"
      ]
     },
     "metadata": {},
     "output_type": "display_data"
    },
    {
     "data": {
      "text/html": [
       "<pre style=\"margin: 0.1em;\n",
       "padding-left: 0.25em;\n",
       "border-left-style: solid;\n",
       "font-family: var(--jp-code-font-family);\n",
       "font-size: var(--jp-code-font-size);\n",
       "line-height: var(--jp-code-line-height);\n",
       "\"><span style=\"color: var(--jp-warn-color2)\">lsst.makeWarp.select</span> <span style=\"color: var(--jp-info-color0)\">INFO</span>: Selecting calexp {instrument: &#x27;LSSTCam-imSim&#x27;, detector: 113, visit: 919515, ...}</pre>"
      ],
      "text/plain": [
       "<IPython.core.display.HTML object>"
      ]
     },
     "metadata": {},
     "output_type": "display_data"
    },
    {
     "data": {
      "text/html": [
       "<pre style=\"margin: 0.1em;\n",
       "padding-left: 0.25em;\n",
       "border-left-style: solid;\n",
       "font-family: var(--jp-code-font-family);\n",
       "font-size: var(--jp-code-font-size);\n",
       "line-height: var(--jp-code-line-height);\n",
       "\"><span style=\"color: var(--jp-warn-color2)\">lsst.makeWarp.select</span> <span style=\"color: var(--jp-info-color0)\">INFO</span>: Selecting calexp {instrument: &#x27;LSSTCam-imSim&#x27;, detector: 116, visit: 919515, ...}</pre>"
      ],
      "text/plain": [
       "<IPython.core.display.HTML object>"
      ]
     },
     "metadata": {},
     "output_type": "display_data"
    },
    {
     "data": {
      "text/html": [
       "<pre style=\"margin: 0.1em;\n",
       "padding-left: 0.25em;\n",
       "border-left-style: solid;\n",
       "font-family: var(--jp-code-font-family);\n",
       "font-size: var(--jp-code-font-size);\n",
       "line-height: var(--jp-code-line-height);\n",
       "\"><span style=\"color: var(--jp-warn-color2)\">lsst.makeWarp</span> <span style=\"color: var(--jp-info-color0)\">INFO</span>: Processing calexp 1 of 3 for this Warp: id={instrument: &#x27;LSSTCam-imSim&#x27;, detector: 110, visit: 919515, ...}</pre>"
      ],
      "text/plain": [
       "<IPython.core.display.HTML object>"
      ]
     },
     "metadata": {},
     "output_type": "display_data"
    },
    {
     "data": {
      "text/html": [
       "<pre style=\"margin: 0.1em;\n",
       "padding-left: 0.25em;\n",
       "border-left-style: solid;\n",
       "font-family: var(--jp-code-font-family);\n",
       "font-size: var(--jp-code-font-size);\n",
       "line-height: var(--jp-code-line-height);\n",
       "\"><span style=\"color: var(--jp-warn-color2)\">lsst.makeWarp.warpAndPsfMatch.psfMatch</span> <span style=\"color: var(--jp-info-color0)\">INFO</span>: compute Psf-matching kernel</pre>"
      ],
      "text/plain": [
       "<IPython.core.display.HTML object>"
      ]
     },
     "metadata": {},
     "output_type": "display_data"
    },
    {
     "data": {
      "text/html": [
       "<pre style=\"margin: 0.1em;\n",
       "padding-left: 0.25em;\n",
       "border-left-style: solid;\n",
       "font-family: var(--jp-code-font-family);\n",
       "font-size: var(--jp-code-font-size);\n",
       "line-height: var(--jp-code-line-height);\n",
       "\"><span style=\"color: var(--jp-warn-color2)\">lsst.makeWarp.warpAndPsfMatch.psfMatch</span> <span style=\"color: var(--jp-info-color0)\">INFO</span>: Adjusted dimensions of reference PSF model from (9, 9) to (57, 57)</pre>"
      ],
      "text/plain": [
       "<IPython.core.display.HTML object>"
      ]
     },
     "metadata": {},
     "output_type": "display_data"
    },
    {
     "data": {
      "text/html": [
       "<pre style=\"margin: 0.1em;\n",
       "padding-left: 0.25em;\n",
       "border-left-style: solid;\n",
       "font-family: var(--jp-code-font-family);\n",
       "font-size: var(--jp-code-font-size);\n",
       "line-height: var(--jp-code-line-height);\n",
       "\"><span style=\"color: var(--jp-warn-color2)\">lsst.ip.diffim.generateAlardLuptonBasisList</span> <span style=\"color: var(--jp-info-color0)\">INFO</span>: PSF sigmas are not available or scaling by fwhm disabled, falling back to config values</pre>"
      ],
      "text/plain": [
       "<IPython.core.display.HTML object>"
      ]
     },
     "metadata": {},
     "output_type": "display_data"
    },
    {
     "data": {
      "text/html": [
       "<pre style=\"margin: 0.1em;\n",
       "padding-left: 0.25em;\n",
       "border-left-style: solid;\n",
       "font-family: var(--jp-code-font-family);\n",
       "font-size: var(--jp-code-font-size);\n",
       "line-height: var(--jp-code-line-height);\n",
       "\"><span style=\"color: var(--jp-warn-color2)\">lsst.makeWarp.warpAndPsfMatch.psfMatch</span> <span style=\"color: var(--jp-info-color0)\">INFO</span>: Psf-match science exposure to reference</pre>"
      ],
      "text/plain": [
       "<IPython.core.display.HTML object>"
      ]
     },
     "metadata": {},
     "output_type": "display_data"
    },
    {
     "data": {
      "text/html": [
       "<pre style=\"margin: 0.1em;\n",
       "padding-left: 0.25em;\n",
       "border-left-style: solid;\n",
       "font-family: var(--jp-code-font-family);\n",
       "font-size: var(--jp-code-font-size);\n",
       "line-height: var(--jp-code-line-height);\n",
       "\"><span style=\"color: var(--jp-warn-color2)\">lsst.makeWarp.warpAndPsfMatch.psfMatch</span> <span style=\"color: var(--jp-info-color0)\">INFO</span>: done</pre>"
      ],
      "text/plain": [
       "<IPython.core.display.HTML object>"
      ]
     },
     "metadata": {},
     "output_type": "display_data"
    },
    {
     "data": {
      "text/html": [
       "<pre style=\"margin: 0.1em;\n",
       "padding-left: 0.25em;\n",
       "border-left-style: solid;\n",
       "font-family: var(--jp-code-font-family);\n",
       "font-size: var(--jp-code-font-size);\n",
       "line-height: var(--jp-code-line-height);\n",
       "\"><span style=\"color: var(--jp-warn-color2)\">lsst.makeWarp</span> <span style=\"color: var(--jp-info-color0)\">INFO</span>: Processing calexp 2 of 3 for this Warp: id={instrument: &#x27;LSSTCam-imSim&#x27;, detector: 113, visit: 919515, ...}</pre>"
      ],
      "text/plain": [
       "<IPython.core.display.HTML object>"
      ]
     },
     "metadata": {},
     "output_type": "display_data"
    },
    {
     "data": {
      "text/html": [
       "<pre style=\"margin: 0.1em;\n",
       "padding-left: 0.25em;\n",
       "border-left-style: solid;\n",
       "font-family: var(--jp-code-font-family);\n",
       "font-size: var(--jp-code-font-size);\n",
       "line-height: var(--jp-code-line-height);\n",
       "\"><span style=\"color: var(--jp-warn-color2)\">lsst.makeWarp.warpAndPsfMatch.psfMatch</span> <span style=\"color: var(--jp-info-color0)\">INFO</span>: compute Psf-matching kernel</pre>"
      ],
      "text/plain": [
       "<IPython.core.display.HTML object>"
      ]
     },
     "metadata": {},
     "output_type": "display_data"
    },
    {
     "data": {
      "text/html": [
       "<pre style=\"margin: 0.1em;\n",
       "padding-left: 0.25em;\n",
       "border-left-style: solid;\n",
       "font-family: var(--jp-code-font-family);\n",
       "font-size: var(--jp-code-font-size);\n",
       "line-height: var(--jp-code-line-height);\n",
       "\"><span style=\"color: var(--jp-warn-color2)\">lsst.makeWarp.warpAndPsfMatch.psfMatch</span> <span style=\"color: var(--jp-info-color0)\">INFO</span>: Adjusted dimensions of reference PSF model from (9, 9) to (57, 57)</pre>"
      ],
      "text/plain": [
       "<IPython.core.display.HTML object>"
      ]
     },
     "metadata": {},
     "output_type": "display_data"
    },
    {
     "data": {
      "text/html": [
       "<pre style=\"margin: 0.1em;\n",
       "padding-left: 0.25em;\n",
       "border-left-style: solid;\n",
       "font-family: var(--jp-code-font-family);\n",
       "font-size: var(--jp-code-font-size);\n",
       "line-height: var(--jp-code-line-height);\n",
       "\"><span style=\"color: var(--jp-warn-color2)\">lsst.ip.diffim.generateAlardLuptonBasisList</span> <span style=\"color: var(--jp-info-color0)\">INFO</span>: PSF sigmas are not available or scaling by fwhm disabled, falling back to config values</pre>"
      ],
      "text/plain": [
       "<IPython.core.display.HTML object>"
      ]
     },
     "metadata": {},
     "output_type": "display_data"
    },
    {
     "data": {
      "text/html": [
       "<pre style=\"margin: 0.1em;\n",
       "padding-left: 0.25em;\n",
       "border-left-style: solid;\n",
       "font-family: var(--jp-code-font-family);\n",
       "font-size: var(--jp-code-font-size);\n",
       "line-height: var(--jp-code-line-height);\n",
       "\"><span style=\"color: var(--jp-warn-color2)\">lsst.makeWarp.warpAndPsfMatch.psfMatch</span> <span style=\"color: var(--jp-info-color0)\">INFO</span>: Psf-match science exposure to reference</pre>"
      ],
      "text/plain": [
       "<IPython.core.display.HTML object>"
      ]
     },
     "metadata": {},
     "output_type": "display_data"
    },
    {
     "data": {
      "text/html": [
       "<pre style=\"margin: 0.1em;\n",
       "padding-left: 0.25em;\n",
       "border-left-style: solid;\n",
       "font-family: var(--jp-code-font-family);\n",
       "font-size: var(--jp-code-font-size);\n",
       "line-height: var(--jp-code-line-height);\n",
       "\"><span style=\"color: var(--jp-warn-color2)\">lsst.makeWarp.warpAndPsfMatch.psfMatch</span> <span style=\"color: var(--jp-info-color0)\">INFO</span>: done</pre>"
      ],
      "text/plain": [
       "<IPython.core.display.HTML object>"
      ]
     },
     "metadata": {},
     "output_type": "display_data"
    },
    {
     "data": {
      "text/html": [
       "<pre style=\"margin: 0.1em;\n",
       "padding-left: 0.25em;\n",
       "border-left-style: solid;\n",
       "font-family: var(--jp-code-font-family);\n",
       "font-size: var(--jp-code-font-size);\n",
       "line-height: var(--jp-code-line-height);\n",
       "\"><span style=\"color: var(--jp-warn-color2)\">lsst.makeWarp</span> <span style=\"color: var(--jp-info-color0)\">INFO</span>: Processing calexp 3 of 3 for this Warp: id={instrument: &#x27;LSSTCam-imSim&#x27;, detector: 116, visit: 919515, ...}</pre>"
      ],
      "text/plain": [
       "<IPython.core.display.HTML object>"
      ]
     },
     "metadata": {},
     "output_type": "display_data"
    },
    {
     "data": {
      "text/html": [
       "<pre style=\"margin: 0.1em;\n",
       "padding-left: 0.25em;\n",
       "border-left-style: solid;\n",
       "font-family: var(--jp-code-font-family);\n",
       "font-size: var(--jp-code-font-size);\n",
       "line-height: var(--jp-code-line-height);\n",
       "\"><span style=\"color: var(--jp-warn-color2)\">lsst.makeWarp.warpAndPsfMatch.psfMatch</span> <span style=\"color: var(--jp-info-color0)\">INFO</span>: compute Psf-matching kernel</pre>"
      ],
      "text/plain": [
       "<IPython.core.display.HTML object>"
      ]
     },
     "metadata": {},
     "output_type": "display_data"
    },
    {
     "data": {
      "text/html": [
       "<pre style=\"margin: 0.1em;\n",
       "padding-left: 0.25em;\n",
       "border-left-style: solid;\n",
       "font-family: var(--jp-code-font-family);\n",
       "font-size: var(--jp-code-font-size);\n",
       "line-height: var(--jp-code-line-height);\n",
       "\"><span style=\"color: var(--jp-warn-color2)\">lsst.makeWarp.warpAndPsfMatch.psfMatch</span> <span style=\"color: var(--jp-info-color0)\">INFO</span>: Adjusted dimensions of reference PSF model from (9, 9) to (57, 57)</pre>"
      ],
      "text/plain": [
       "<IPython.core.display.HTML object>"
      ]
     },
     "metadata": {},
     "output_type": "display_data"
    },
    {
     "data": {
      "text/html": [
       "<pre style=\"margin: 0.1em;\n",
       "padding-left: 0.25em;\n",
       "border-left-style: solid;\n",
       "font-family: var(--jp-code-font-family);\n",
       "font-size: var(--jp-code-font-size);\n",
       "line-height: var(--jp-code-line-height);\n",
       "\"><span style=\"color: var(--jp-warn-color2)\">lsst.ip.diffim.generateAlardLuptonBasisList</span> <span style=\"color: var(--jp-info-color0)\">INFO</span>: PSF sigmas are not available or scaling by fwhm disabled, falling back to config values</pre>"
      ],
      "text/plain": [
       "<IPython.core.display.HTML object>"
      ]
     },
     "metadata": {},
     "output_type": "display_data"
    },
    {
     "data": {
      "text/html": [
       "<pre style=\"margin: 0.1em;\n",
       "padding-left: 0.25em;\n",
       "border-left-style: solid;\n",
       "font-family: var(--jp-code-font-family);\n",
       "font-size: var(--jp-code-font-size);\n",
       "line-height: var(--jp-code-line-height);\n",
       "\"><span style=\"color: var(--jp-warn-color2)\">lsst.makeWarp.warpAndPsfMatch.psfMatch</span> <span style=\"color: var(--jp-info-color0)\">INFO</span>: Psf-match science exposure to reference</pre>"
      ],
      "text/plain": [
       "<IPython.core.display.HTML object>"
      ]
     },
     "metadata": {},
     "output_type": "display_data"
    },
    {
     "data": {
      "text/html": [
       "<pre style=\"margin: 0.1em;\n",
       "padding-left: 0.25em;\n",
       "border-left-style: solid;\n",
       "font-family: var(--jp-code-font-family);\n",
       "font-size: var(--jp-code-font-size);\n",
       "line-height: var(--jp-code-line-height);\n",
       "\"><span style=\"color: var(--jp-warn-color2)\">lsst.makeWarp.warpAndPsfMatch.psfMatch</span> <span style=\"color: var(--jp-info-color0)\">INFO</span>: done</pre>"
      ],
      "text/plain": [
       "<IPython.core.display.HTML object>"
      ]
     },
     "metadata": {},
     "output_type": "display_data"
    },
    {
     "data": {
      "text/html": [
       "<pre style=\"margin: 0.1em;\n",
       "padding-left: 0.25em;\n",
       "border-left-style: solid;\n",
       "font-family: var(--jp-code-font-family);\n",
       "font-size: var(--jp-code-font-size);\n",
       "line-height: var(--jp-code-line-height);\n",
       "\"><span style=\"color: var(--jp-warn-color2)\">lsst.makeWarp</span> <span style=\"color: var(--jp-info-color0)\">INFO</span>: directWarp has 8982709 good pixels (50.9%)</pre>"
      ],
      "text/plain": [
       "<IPython.core.display.HTML object>"
      ]
     },
     "metadata": {},
     "output_type": "display_data"
    },
    {
     "data": {
      "text/html": [
       "<pre style=\"margin: 0.1em;\n",
       "padding-left: 0.25em;\n",
       "border-left-style: solid;\n",
       "font-family: var(--jp-code-font-family);\n",
       "font-size: var(--jp-code-font-size);\n",
       "line-height: var(--jp-code-line-height);\n",
       "\"><span style=\"color: var(--jp-warn-color2)\">lsst.makeWarp</span> <span style=\"color: var(--jp-info-color0)\">INFO</span>: psfMatchedWarp has 8856818 good pixels (50.2%)</pre>"
      ],
      "text/plain": [
       "<IPython.core.display.HTML object>"
      ]
     },
     "metadata": {},
     "output_type": "display_data"
    },
    {
     "data": {
      "text/html": [
       "<pre style=\"margin: 0.1em;\n",
       "padding-left: 0.25em;\n",
       "border-left-style: solid;\n",
       "font-family: var(--jp-code-font-family);\n",
       "font-size: var(--jp-code-font-size);\n",
       "line-height: var(--jp-code-line-height);\n",
       "\"><span style=\"color: var(--jp-warn-color2)\">lsst.ctrl.mpexec.singleQuantumExecutor</span> <span style=\"color: var(--jp-info-color0)\">INFO</span>: Execution of task &#x27;makeWarp&#x27; on quantum {instrument: &#x27;LSSTCam-imSim&#x27;, skymap: &#x27;DC2&#x27;, tract: 4431, patch: 17, visit: 919515, ...} took 95.296 seconds</pre>"
      ],
      "text/plain": [
       "<IPython.core.display.HTML object>"
      ]
     },
     "metadata": {},
     "output_type": "display_data"
    },
    {
     "data": {
      "text/html": [
       "<pre style=\"margin: 0.1em;\n",
       "padding-left: 0.25em;\n",
       "border-left-style: solid;\n",
       "font-family: var(--jp-code-font-family);\n",
       "font-size: var(--jp-code-font-size);\n",
       "line-height: var(--jp-code-line-height);\n",
       "\"><span style=\"color: var(--jp-warn-color2)\">lsst.makeWarp.select</span> <span style=\"color: var(--jp-info-color0)\">INFO</span>: Selecting calexp {instrument: &#x27;LSSTCam-imSim&#x27;, detector: 52, visit: 929477, ...}</pre>"
      ],
      "text/plain": [
       "<IPython.core.display.HTML object>"
      ]
     },
     "metadata": {},
     "output_type": "display_data"
    },
    {
     "data": {
      "text/html": [
       "<pre style=\"margin: 0.1em;\n",
       "padding-left: 0.25em;\n",
       "border-left-style: solid;\n",
       "font-family: var(--jp-code-font-family);\n",
       "font-size: var(--jp-code-font-size);\n",
       "line-height: var(--jp-code-line-height);\n",
       "\"><span style=\"color: var(--jp-warn-color2)\">lsst.makeWarp.select</span> <span style=\"color: var(--jp-info-color0)\">INFO</span>: Selecting calexp {instrument: &#x27;LSSTCam-imSim&#x27;, detector: 90, visit: 929477, ...}</pre>"
      ],
      "text/plain": [
       "<IPython.core.display.HTML object>"
      ]
     },
     "metadata": {},
     "output_type": "display_data"
    },
    {
     "data": {
      "text/html": [
       "<pre style=\"margin: 0.1em;\n",
       "padding-left: 0.25em;\n",
       "border-left-style: solid;\n",
       "font-family: var(--jp-code-font-family);\n",
       "font-size: var(--jp-code-font-size);\n",
       "line-height: var(--jp-code-line-height);\n",
       "\"><span style=\"color: var(--jp-warn-color2)\">lsst.makeWarp.select</span> <span style=\"color: var(--jp-info-color0)\">INFO</span>: Selecting calexp {instrument: &#x27;LSSTCam-imSim&#x27;, detector: 91, visit: 929477, ...}</pre>"
      ],
      "text/plain": [
       "<IPython.core.display.HTML object>"
      ]
     },
     "metadata": {},
     "output_type": "display_data"
    },
    {
     "data": {
      "text/html": [
       "<pre style=\"margin: 0.1em;\n",
       "padding-left: 0.25em;\n",
       "border-left-style: solid;\n",
       "font-family: var(--jp-code-font-family);\n",
       "font-size: var(--jp-code-font-size);\n",
       "line-height: var(--jp-code-line-height);\n",
       "\"><span style=\"color: var(--jp-warn-color2)\">lsst.makeWarp.select</span> <span style=\"color: var(--jp-info-color0)\">INFO</span>: Selecting calexp {instrument: &#x27;LSSTCam-imSim&#x27;, detector: 92, visit: 929477, ...}</pre>"
      ],
      "text/plain": [
       "<IPython.core.display.HTML object>"
      ]
     },
     "metadata": {},
     "output_type": "display_data"
    },
    {
     "data": {
      "text/html": [
       "<pre style=\"margin: 0.1em;\n",
       "padding-left: 0.25em;\n",
       "border-left-style: solid;\n",
       "font-family: var(--jp-code-font-family);\n",
       "font-size: var(--jp-code-font-size);\n",
       "line-height: var(--jp-code-line-height);\n",
       "\"><span style=\"color: var(--jp-warn-color2)\">lsst.makeWarp.select</span> <span style=\"color: var(--jp-info-color0)\">INFO</span>: Selecting calexp {instrument: &#x27;LSSTCam-imSim&#x27;, detector: 94, visit: 929477, ...}</pre>"
      ],
      "text/plain": [
       "<IPython.core.display.HTML object>"
      ]
     },
     "metadata": {},
     "output_type": "display_data"
    },
    {
     "data": {
      "text/html": [
       "<pre style=\"margin: 0.1em;\n",
       "padding-left: 0.25em;\n",
       "border-left-style: solid;\n",
       "font-family: var(--jp-code-font-family);\n",
       "font-size: var(--jp-code-font-size);\n",
       "line-height: var(--jp-code-line-height);\n",
       "\"><span style=\"color: var(--jp-warn-color2)\">lsst.makeWarp</span> <span style=\"color: var(--jp-info-color0)\">INFO</span>: Processing calexp 1 of 5 for this Warp: id={instrument: &#x27;LSSTCam-imSim&#x27;, detector: 52, visit: 929477, ...}</pre>"
      ],
      "text/plain": [
       "<IPython.core.display.HTML object>"
      ]
     },
     "metadata": {},
     "output_type": "display_data"
    },
    {
     "data": {
      "text/html": [
       "<pre style=\"margin: 0.1em;\n",
       "padding-left: 0.25em;\n",
       "border-left-style: solid;\n",
       "font-family: var(--jp-code-font-family);\n",
       "font-size: var(--jp-code-font-size);\n",
       "line-height: var(--jp-code-line-height);\n",
       "\"><span style=\"color: var(--jp-warn-color2)\">lsst.makeWarp.warpAndPsfMatch.psfMatch</span> <span style=\"color: var(--jp-info-color0)\">INFO</span>: compute Psf-matching kernel</pre>"
      ],
      "text/plain": [
       "<IPython.core.display.HTML object>"
      ]
     },
     "metadata": {},
     "output_type": "display_data"
    },
    {
     "data": {
      "text/html": [
       "<pre style=\"margin: 0.1em;\n",
       "padding-left: 0.25em;\n",
       "border-left-style: solid;\n",
       "font-family: var(--jp-code-font-family);\n",
       "font-size: var(--jp-code-font-size);\n",
       "line-height: var(--jp-code-line-height);\n",
       "\"><span style=\"color: var(--jp-warn-color2)\">lsst.makeWarp.warpAndPsfMatch.psfMatch</span> <span style=\"color: var(--jp-info-color0)\">INFO</span>: Adjusted dimensions of reference PSF model from (9, 9) to (55, 55)</pre>"
      ],
      "text/plain": [
       "<IPython.core.display.HTML object>"
      ]
     },
     "metadata": {},
     "output_type": "display_data"
    },
    {
     "data": {
      "text/html": [
       "<pre style=\"margin: 0.1em;\n",
       "padding-left: 0.25em;\n",
       "border-left-style: solid;\n",
       "font-family: var(--jp-code-font-family);\n",
       "font-size: var(--jp-code-font-size);\n",
       "line-height: var(--jp-code-line-height);\n",
       "\"><span style=\"color: var(--jp-warn-color2)\">lsst.ip.diffim.generateAlardLuptonBasisList</span> <span style=\"color: var(--jp-info-color0)\">INFO</span>: PSF sigmas are not available or scaling by fwhm disabled, falling back to config values</pre>"
      ],
      "text/plain": [
       "<IPython.core.display.HTML object>"
      ]
     },
     "metadata": {},
     "output_type": "display_data"
    },
    {
     "data": {
      "text/html": [
       "<pre style=\"margin: 0.1em;\n",
       "padding-left: 0.25em;\n",
       "border-left-style: solid;\n",
       "font-family: var(--jp-code-font-family);\n",
       "font-size: var(--jp-code-font-size);\n",
       "line-height: var(--jp-code-line-height);\n",
       "\"><span style=\"color: var(--jp-warn-color2)\">lsst.makeWarp.warpAndPsfMatch.psfMatch</span> <span style=\"color: var(--jp-info-color0)\">INFO</span>: Psf-match science exposure to reference</pre>"
      ],
      "text/plain": [
       "<IPython.core.display.HTML object>"
      ]
     },
     "metadata": {},
     "output_type": "display_data"
    },
    {
     "data": {
      "text/html": [
       "<pre style=\"margin: 0.1em;\n",
       "padding-left: 0.25em;\n",
       "border-left-style: solid;\n",
       "font-family: var(--jp-code-font-family);\n",
       "font-size: var(--jp-code-font-size);\n",
       "line-height: var(--jp-code-line-height);\n",
       "\"><span style=\"color: var(--jp-warn-color2)\">lsst.makeWarp.warpAndPsfMatch.psfMatch</span> <span style=\"color: var(--jp-info-color0)\">INFO</span>: done</pre>"
      ],
      "text/plain": [
       "<IPython.core.display.HTML object>"
      ]
     },
     "metadata": {},
     "output_type": "display_data"
    },
    {
     "data": {
      "text/html": [
       "<pre style=\"margin: 0.1em;\n",
       "padding-left: 0.25em;\n",
       "border-left-style: solid;\n",
       "font-family: var(--jp-code-font-family);\n",
       "font-size: var(--jp-code-font-size);\n",
       "line-height: var(--jp-code-line-height);\n",
       "\"><span style=\"color: var(--jp-warn-color2)\">lsst.makeWarp</span> <span style=\"color: var(--jp-info-color0)\">INFO</span>: Processing calexp 2 of 5 for this Warp: id={instrument: &#x27;LSSTCam-imSim&#x27;, detector: 90, visit: 929477, ...}</pre>"
      ],
      "text/plain": [
       "<IPython.core.display.HTML object>"
      ]
     },
     "metadata": {},
     "output_type": "display_data"
    },
    {
     "data": {
      "text/html": [
       "<pre style=\"margin: 0.1em;\n",
       "padding-left: 0.25em;\n",
       "border-left-style: solid;\n",
       "font-family: var(--jp-code-font-family);\n",
       "font-size: var(--jp-code-font-size);\n",
       "line-height: var(--jp-code-line-height);\n",
       "\"><span style=\"color: var(--jp-warn-color2)\">lsst.makeWarp.warpAndPsfMatch.psfMatch</span> <span style=\"color: var(--jp-info-color0)\">INFO</span>: compute Psf-matching kernel</pre>"
      ],
      "text/plain": [
       "<IPython.core.display.HTML object>"
      ]
     },
     "metadata": {},
     "output_type": "display_data"
    },
    {
     "data": {
      "text/html": [
       "<pre style=\"margin: 0.1em;\n",
       "padding-left: 0.25em;\n",
       "border-left-style: solid;\n",
       "font-family: var(--jp-code-font-family);\n",
       "font-size: var(--jp-code-font-size);\n",
       "line-height: var(--jp-code-line-height);\n",
       "\"><span style=\"color: var(--jp-warn-color2)\">lsst.makeWarp.warpAndPsfMatch.psfMatch</span> <span style=\"color: var(--jp-info-color0)\">INFO</span>: Adjusted dimensions of reference PSF model from (9, 9) to (55, 55)</pre>"
      ],
      "text/plain": [
       "<IPython.core.display.HTML object>"
      ]
     },
     "metadata": {},
     "output_type": "display_data"
    },
    {
     "data": {
      "text/html": [
       "<pre style=\"margin: 0.1em;\n",
       "padding-left: 0.25em;\n",
       "border-left-style: solid;\n",
       "font-family: var(--jp-code-font-family);\n",
       "font-size: var(--jp-code-font-size);\n",
       "line-height: var(--jp-code-line-height);\n",
       "\"><span style=\"color: var(--jp-warn-color2)\">lsst.ip.diffim.generateAlardLuptonBasisList</span> <span style=\"color: var(--jp-info-color0)\">INFO</span>: PSF sigmas are not available or scaling by fwhm disabled, falling back to config values</pre>"
      ],
      "text/plain": [
       "<IPython.core.display.HTML object>"
      ]
     },
     "metadata": {},
     "output_type": "display_data"
    },
    {
     "data": {
      "text/html": [
       "<pre style=\"margin: 0.1em;\n",
       "padding-left: 0.25em;\n",
       "border-left-style: solid;\n",
       "font-family: var(--jp-code-font-family);\n",
       "font-size: var(--jp-code-font-size);\n",
       "line-height: var(--jp-code-line-height);\n",
       "\"><span style=\"color: var(--jp-warn-color2)\">lsst.makeWarp.warpAndPsfMatch.psfMatch</span> <span style=\"color: var(--jp-info-color0)\">INFO</span>: Psf-match science exposure to reference</pre>"
      ],
      "text/plain": [
       "<IPython.core.display.HTML object>"
      ]
     },
     "metadata": {},
     "output_type": "display_data"
    },
    {
     "data": {
      "text/html": [
       "<pre style=\"margin: 0.1em;\n",
       "padding-left: 0.25em;\n",
       "border-left-style: solid;\n",
       "font-family: var(--jp-code-font-family);\n",
       "font-size: var(--jp-code-font-size);\n",
       "line-height: var(--jp-code-line-height);\n",
       "\"><span style=\"color: var(--jp-warn-color2)\">lsst.makeWarp.warpAndPsfMatch.psfMatch</span> <span style=\"color: var(--jp-info-color0)\">INFO</span>: done</pre>"
      ],
      "text/plain": [
       "<IPython.core.display.HTML object>"
      ]
     },
     "metadata": {},
     "output_type": "display_data"
    },
    {
     "data": {
      "text/html": [
       "<pre style=\"margin: 0.1em;\n",
       "padding-left: 0.25em;\n",
       "border-left-style: solid;\n",
       "font-family: var(--jp-code-font-family);\n",
       "font-size: var(--jp-code-font-size);\n",
       "line-height: var(--jp-code-line-height);\n",
       "\"><span style=\"color: var(--jp-warn-color2)\">lsst.makeWarp</span> <span style=\"color: var(--jp-info-color0)\">INFO</span>: Processing calexp 3 of 5 for this Warp: id={instrument: &#x27;LSSTCam-imSim&#x27;, detector: 91, visit: 929477, ...}</pre>"
      ],
      "text/plain": [
       "<IPython.core.display.HTML object>"
      ]
     },
     "metadata": {},
     "output_type": "display_data"
    },
    {
     "data": {
      "text/html": [
       "<pre style=\"margin: 0.1em;\n",
       "padding-left: 0.25em;\n",
       "border-left-style: solid;\n",
       "font-family: var(--jp-code-font-family);\n",
       "font-size: var(--jp-code-font-size);\n",
       "line-height: var(--jp-code-line-height);\n",
       "\"><span style=\"color: var(--jp-warn-color2)\">lsst.makeWarp.warpAndPsfMatch.psfMatch</span> <span style=\"color: var(--jp-info-color0)\">INFO</span>: compute Psf-matching kernel</pre>"
      ],
      "text/plain": [
       "<IPython.core.display.HTML object>"
      ]
     },
     "metadata": {},
     "output_type": "display_data"
    },
    {
     "data": {
      "text/html": [
       "<pre style=\"margin: 0.1em;\n",
       "padding-left: 0.25em;\n",
       "border-left-style: solid;\n",
       "font-family: var(--jp-code-font-family);\n",
       "font-size: var(--jp-code-font-size);\n",
       "line-height: var(--jp-code-line-height);\n",
       "\"><span style=\"color: var(--jp-warn-color2)\">lsst.makeWarp.warpAndPsfMatch.psfMatch</span> <span style=\"color: var(--jp-info-color0)\">INFO</span>: Adjusted dimensions of reference PSF model from (9, 9) to (55, 55)</pre>"
      ],
      "text/plain": [
       "<IPython.core.display.HTML object>"
      ]
     },
     "metadata": {},
     "output_type": "display_data"
    },
    {
     "data": {
      "text/html": [
       "<pre style=\"margin: 0.1em;\n",
       "padding-left: 0.25em;\n",
       "border-left-style: solid;\n",
       "font-family: var(--jp-code-font-family);\n",
       "font-size: var(--jp-code-font-size);\n",
       "line-height: var(--jp-code-line-height);\n",
       "\"><span style=\"color: var(--jp-warn-color2)\">lsst.ip.diffim.generateAlardLuptonBasisList</span> <span style=\"color: var(--jp-info-color0)\">INFO</span>: PSF sigmas are not available or scaling by fwhm disabled, falling back to config values</pre>"
      ],
      "text/plain": [
       "<IPython.core.display.HTML object>"
      ]
     },
     "metadata": {},
     "output_type": "display_data"
    },
    {
     "data": {
      "text/html": [
       "<pre style=\"margin: 0.1em;\n",
       "padding-left: 0.25em;\n",
       "border-left-style: solid;\n",
       "font-family: var(--jp-code-font-family);\n",
       "font-size: var(--jp-code-font-size);\n",
       "line-height: var(--jp-code-line-height);\n",
       "\"><span style=\"color: var(--jp-warn-color2)\">lsst.makeWarp.warpAndPsfMatch.psfMatch</span> <span style=\"color: var(--jp-info-color0)\">INFO</span>: Psf-match science exposure to reference</pre>"
      ],
      "text/plain": [
       "<IPython.core.display.HTML object>"
      ]
     },
     "metadata": {},
     "output_type": "display_data"
    },
    {
     "data": {
      "text/html": [
       "<pre style=\"margin: 0.1em;\n",
       "padding-left: 0.25em;\n",
       "border-left-style: solid;\n",
       "font-family: var(--jp-code-font-family);\n",
       "font-size: var(--jp-code-font-size);\n",
       "line-height: var(--jp-code-line-height);\n",
       "\"><span style=\"color: var(--jp-warn-color2)\">lsst.makeWarp.warpAndPsfMatch.psfMatch</span> <span style=\"color: var(--jp-info-color0)\">INFO</span>: done</pre>"
      ],
      "text/plain": [
       "<IPython.core.display.HTML object>"
      ]
     },
     "metadata": {},
     "output_type": "display_data"
    },
    {
     "data": {
      "text/html": [
       "<pre style=\"margin: 0.1em;\n",
       "padding-left: 0.25em;\n",
       "border-left-style: solid;\n",
       "font-family: var(--jp-code-font-family);\n",
       "font-size: var(--jp-code-font-size);\n",
       "line-height: var(--jp-code-line-height);\n",
       "\"><span style=\"color: var(--jp-warn-color2)\">lsst.makeWarp</span> <span style=\"color: var(--jp-info-color0)\">INFO</span>: Processing calexp 4 of 5 for this Warp: id={instrument: &#x27;LSSTCam-imSim&#x27;, detector: 92, visit: 929477, ...}</pre>"
      ],
      "text/plain": [
       "<IPython.core.display.HTML object>"
      ]
     },
     "metadata": {},
     "output_type": "display_data"
    },
    {
     "data": {
      "text/html": [
       "<pre style=\"margin: 0.1em;\n",
       "padding-left: 0.25em;\n",
       "border-left-style: solid;\n",
       "font-family: var(--jp-code-font-family);\n",
       "font-size: var(--jp-code-font-size);\n",
       "line-height: var(--jp-code-line-height);\n",
       "\"><span style=\"color: var(--jp-warn-color2)\">lsst.makeWarp.warpAndPsfMatch.psfMatch</span> <span style=\"color: var(--jp-info-color0)\">INFO</span>: compute Psf-matching kernel</pre>"
      ],
      "text/plain": [
       "<IPython.core.display.HTML object>"
      ]
     },
     "metadata": {},
     "output_type": "display_data"
    },
    {
     "data": {
      "text/html": [
       "<pre style=\"margin: 0.1em;\n",
       "padding-left: 0.25em;\n",
       "border-left-style: solid;\n",
       "font-family: var(--jp-code-font-family);\n",
       "font-size: var(--jp-code-font-size);\n",
       "line-height: var(--jp-code-line-height);\n",
       "\"><span style=\"color: var(--jp-warn-color2)\">lsst.makeWarp.warpAndPsfMatch.psfMatch</span> <span style=\"color: var(--jp-info-color0)\">INFO</span>: Adjusted dimensions of reference PSF model from (9, 9) to (55, 55)</pre>"
      ],
      "text/plain": [
       "<IPython.core.display.HTML object>"
      ]
     },
     "metadata": {},
     "output_type": "display_data"
    },
    {
     "data": {
      "text/html": [
       "<pre style=\"margin: 0.1em;\n",
       "padding-left: 0.25em;\n",
       "border-left-style: solid;\n",
       "font-family: var(--jp-code-font-family);\n",
       "font-size: var(--jp-code-font-size);\n",
       "line-height: var(--jp-code-line-height);\n",
       "\"><span style=\"color: var(--jp-warn-color2)\">lsst.ip.diffim.generateAlardLuptonBasisList</span> <span style=\"color: var(--jp-info-color0)\">INFO</span>: PSF sigmas are not available or scaling by fwhm disabled, falling back to config values</pre>"
      ],
      "text/plain": [
       "<IPython.core.display.HTML object>"
      ]
     },
     "metadata": {},
     "output_type": "display_data"
    },
    {
     "data": {
      "text/html": [
       "<pre style=\"margin: 0.1em;\n",
       "padding-left: 0.25em;\n",
       "border-left-style: solid;\n",
       "font-family: var(--jp-code-font-family);\n",
       "font-size: var(--jp-code-font-size);\n",
       "line-height: var(--jp-code-line-height);\n",
       "\"><span style=\"color: var(--jp-warn-color2)\">lsst.makeWarp.warpAndPsfMatch.psfMatch</span> <span style=\"color: var(--jp-info-color0)\">INFO</span>: Psf-match science exposure to reference</pre>"
      ],
      "text/plain": [
       "<IPython.core.display.HTML object>"
      ]
     },
     "metadata": {},
     "output_type": "display_data"
    },
    {
     "data": {
      "text/html": [
       "<pre style=\"margin: 0.1em;\n",
       "padding-left: 0.25em;\n",
       "border-left-style: solid;\n",
       "font-family: var(--jp-code-font-family);\n",
       "font-size: var(--jp-code-font-size);\n",
       "line-height: var(--jp-code-line-height);\n",
       "\"><span style=\"color: var(--jp-warn-color2)\">lsst.makeWarp.warpAndPsfMatch.psfMatch</span> <span style=\"color: var(--jp-info-color0)\">INFO</span>: done</pre>"
      ],
      "text/plain": [
       "<IPython.core.display.HTML object>"
      ]
     },
     "metadata": {},
     "output_type": "display_data"
    },
    {
     "data": {
      "text/html": [
       "<pre style=\"margin: 0.1em;\n",
       "padding-left: 0.25em;\n",
       "border-left-style: solid;\n",
       "font-family: var(--jp-code-font-family);\n",
       "font-size: var(--jp-code-font-size);\n",
       "line-height: var(--jp-code-line-height);\n",
       "\"><span style=\"color: var(--jp-warn-color2)\">lsst.makeWarp</span> <span style=\"color: var(--jp-info-color0)\">INFO</span>: Processing calexp 5 of 5 for this Warp: id={instrument: &#x27;LSSTCam-imSim&#x27;, detector: 94, visit: 929477, ...}</pre>"
      ],
      "text/plain": [
       "<IPython.core.display.HTML object>"
      ]
     },
     "metadata": {},
     "output_type": "display_data"
    },
    {
     "data": {
      "text/html": [
       "<pre style=\"margin: 0.1em;\n",
       "padding-left: 0.25em;\n",
       "border-left-style: solid;\n",
       "font-family: var(--jp-code-font-family);\n",
       "font-size: var(--jp-code-font-size);\n",
       "line-height: var(--jp-code-line-height);\n",
       "\"><span style=\"color: var(--jp-warn-color2)\">lsst.makeWarp.warpAndPsfMatch.psfMatch</span> <span style=\"color: var(--jp-info-color0)\">INFO</span>: compute Psf-matching kernel</pre>"
      ],
      "text/plain": [
       "<IPython.core.display.HTML object>"
      ]
     },
     "metadata": {},
     "output_type": "display_data"
    },
    {
     "data": {
      "text/html": [
       "<pre style=\"margin: 0.1em;\n",
       "padding-left: 0.25em;\n",
       "border-left-style: solid;\n",
       "font-family: var(--jp-code-font-family);\n",
       "font-size: var(--jp-code-font-size);\n",
       "line-height: var(--jp-code-line-height);\n",
       "\"><span style=\"color: var(--jp-warn-color2)\">lsst.makeWarp.warpAndPsfMatch.psfMatch</span> <span style=\"color: var(--jp-info-color0)\">INFO</span>: Adjusted dimensions of reference PSF model from (9, 9) to (55, 55)</pre>"
      ],
      "text/plain": [
       "<IPython.core.display.HTML object>"
      ]
     },
     "metadata": {},
     "output_type": "display_data"
    },
    {
     "data": {
      "text/html": [
       "<pre style=\"margin: 0.1em;\n",
       "padding-left: 0.25em;\n",
       "border-left-style: solid;\n",
       "font-family: var(--jp-code-font-family);\n",
       "font-size: var(--jp-code-font-size);\n",
       "line-height: var(--jp-code-line-height);\n",
       "\"><span style=\"color: var(--jp-warn-color2)\">lsst.ip.diffim.generateAlardLuptonBasisList</span> <span style=\"color: var(--jp-info-color0)\">INFO</span>: PSF sigmas are not available or scaling by fwhm disabled, falling back to config values</pre>"
      ],
      "text/plain": [
       "<IPython.core.display.HTML object>"
      ]
     },
     "metadata": {},
     "output_type": "display_data"
    },
    {
     "data": {
      "text/html": [
       "<pre style=\"margin: 0.1em;\n",
       "padding-left: 0.25em;\n",
       "border-left-style: solid;\n",
       "font-family: var(--jp-code-font-family);\n",
       "font-size: var(--jp-code-font-size);\n",
       "line-height: var(--jp-code-line-height);\n",
       "\"><span style=\"color: var(--jp-warn-color2)\">lsst.makeWarp.warpAndPsfMatch.psfMatch</span> <span style=\"color: var(--jp-info-color0)\">INFO</span>: Psf-match science exposure to reference</pre>"
      ],
      "text/plain": [
       "<IPython.core.display.HTML object>"
      ]
     },
     "metadata": {},
     "output_type": "display_data"
    },
    {
     "data": {
      "text/html": [
       "<pre style=\"margin: 0.1em;\n",
       "padding-left: 0.25em;\n",
       "border-left-style: solid;\n",
       "font-family: var(--jp-code-font-family);\n",
       "font-size: var(--jp-code-font-size);\n",
       "line-height: var(--jp-code-line-height);\n",
       "\"><span style=\"color: var(--jp-warn-color2)\">lsst.makeWarp.warpAndPsfMatch.psfMatch</span> <span style=\"color: var(--jp-info-color0)\">INFO</span>: done</pre>"
      ],
      "text/plain": [
       "<IPython.core.display.HTML object>"
      ]
     },
     "metadata": {},
     "output_type": "display_data"
    },
    {
     "data": {
      "text/html": [
       "<pre style=\"margin: 0.1em;\n",
       "padding-left: 0.25em;\n",
       "border-left-style: solid;\n",
       "font-family: var(--jp-code-font-family);\n",
       "font-size: var(--jp-code-font-size);\n",
       "line-height: var(--jp-code-line-height);\n",
       "\"><span style=\"color: var(--jp-warn-color2)\">lsst.makeWarp</span> <span style=\"color: var(--jp-info-color0)\">INFO</span>: directWarp has 16280498 good pixels (92.3%)</pre>"
      ],
      "text/plain": [
       "<IPython.core.display.HTML object>"
      ]
     },
     "metadata": {},
     "output_type": "display_data"
    },
    {
     "data": {
      "text/html": [
       "<pre style=\"margin: 0.1em;\n",
       "padding-left: 0.25em;\n",
       "border-left-style: solid;\n",
       "font-family: var(--jp-code-font-family);\n",
       "font-size: var(--jp-code-font-size);\n",
       "line-height: var(--jp-code-line-height);\n",
       "\"><span style=\"color: var(--jp-warn-color2)\">lsst.makeWarp</span> <span style=\"color: var(--jp-info-color0)\">INFO</span>: psfMatchedWarp has 16091293 good pixels (91.2%)</pre>"
      ],
      "text/plain": [
       "<IPython.core.display.HTML object>"
      ]
     },
     "metadata": {},
     "output_type": "display_data"
    },
    {
     "data": {
      "text/html": [
       "<pre style=\"margin: 0.1em;\n",
       "padding-left: 0.25em;\n",
       "border-left-style: solid;\n",
       "font-family: var(--jp-code-font-family);\n",
       "font-size: var(--jp-code-font-size);\n",
       "line-height: var(--jp-code-line-height);\n",
       "\"><span style=\"color: var(--jp-warn-color2)\">lsst.ctrl.mpexec.singleQuantumExecutor</span> <span style=\"color: var(--jp-info-color0)\">INFO</span>: Execution of task &#x27;makeWarp&#x27; on quantum {instrument: &#x27;LSSTCam-imSim&#x27;, skymap: &#x27;DC2&#x27;, tract: 4431, patch: 17, visit: 929477, ...} took 164.883 seconds</pre>"
      ],
      "text/plain": [
       "<IPython.core.display.HTML object>"
      ]
     },
     "metadata": {},
     "output_type": "display_data"
    },
    {
     "data": {
      "text/html": [
       "<pre style=\"margin: 0.1em;\n",
       "padding-left: 0.25em;\n",
       "border-left-style: solid;\n",
       "font-family: var(--jp-code-font-family);\n",
       "font-size: var(--jp-code-font-size);\n",
       "line-height: var(--jp-code-line-height);\n",
       "\"><span style=\"color: var(--jp-warn-color2)\">lsst.makeWarp.select</span> <span style=\"color: var(--jp-info-color0)\">INFO</span>: Selecting calexp {instrument: &#x27;LSSTCam-imSim&#x27;, detector: 30, visit: 924057, ...}</pre>"
      ],
      "text/plain": [
       "<IPython.core.display.HTML object>"
      ]
     },
     "metadata": {},
     "output_type": "display_data"
    },
    {
     "data": {
      "text/html": [
       "<pre style=\"margin: 0.1em;\n",
       "padding-left: 0.25em;\n",
       "border-left-style: solid;\n",
       "font-family: var(--jp-code-font-family);\n",
       "font-size: var(--jp-code-font-size);\n",
       "line-height: var(--jp-code-line-height);\n",
       "\"><span style=\"color: var(--jp-warn-color2)\">lsst.makeWarp.select</span> <span style=\"color: var(--jp-info-color0)\">INFO</span>: Selecting calexp {instrument: &#x27;LSSTCam-imSim&#x27;, detector: 31, visit: 924057, ...}</pre>"
      ],
      "text/plain": [
       "<IPython.core.display.HTML object>"
      ]
     },
     "metadata": {},
     "output_type": "display_data"
    },
    {
     "data": {
      "text/html": [
       "<pre style=\"margin: 0.1em;\n",
       "padding-left: 0.25em;\n",
       "border-left-style: solid;\n",
       "font-family: var(--jp-code-font-family);\n",
       "font-size: var(--jp-code-font-size);\n",
       "line-height: var(--jp-code-line-height);\n",
       "\"><span style=\"color: var(--jp-warn-color2)\">lsst.makeWarp.select</span> <span style=\"color: var(--jp-info-color0)\">INFO</span>: Selecting calexp {instrument: &#x27;LSSTCam-imSim&#x27;, detector: 33, visit: 924057, ...}</pre>"
      ],
      "text/plain": [
       "<IPython.core.display.HTML object>"
      ]
     },
     "metadata": {},
     "output_type": "display_data"
    },
    {
     "data": {
      "text/html": [
       "<pre style=\"margin: 0.1em;\n",
       "padding-left: 0.25em;\n",
       "border-left-style: solid;\n",
       "font-family: var(--jp-code-font-family);\n",
       "font-size: var(--jp-code-font-size);\n",
       "line-height: var(--jp-code-line-height);\n",
       "\"><span style=\"color: var(--jp-warn-color2)\">lsst.makeWarp.select</span> <span style=\"color: var(--jp-info-color0)\">INFO</span>: Selecting calexp {instrument: &#x27;LSSTCam-imSim&#x27;, detector: 34, visit: 924057, ...}</pre>"
      ],
      "text/plain": [
       "<IPython.core.display.HTML object>"
      ]
     },
     "metadata": {},
     "output_type": "display_data"
    },
    {
     "data": {
      "text/html": [
       "<pre style=\"margin: 0.1em;\n",
       "padding-left: 0.25em;\n",
       "border-left-style: solid;\n",
       "font-family: var(--jp-code-font-family);\n",
       "font-size: var(--jp-code-font-size);\n",
       "line-height: var(--jp-code-line-height);\n",
       "\"><span style=\"color: var(--jp-warn-color2)\">lsst.makeWarp</span> <span style=\"color: var(--jp-info-color0)\">INFO</span>: Processing calexp 1 of 4 for this Warp: id={instrument: &#x27;LSSTCam-imSim&#x27;, detector: 30, visit: 924057, ...}</pre>"
      ],
      "text/plain": [
       "<IPython.core.display.HTML object>"
      ]
     },
     "metadata": {},
     "output_type": "display_data"
    },
    {
     "data": {
      "text/html": [
       "<pre style=\"margin: 0.1em;\n",
       "padding-left: 0.25em;\n",
       "border-left-style: solid;\n",
       "font-family: var(--jp-code-font-family);\n",
       "font-size: var(--jp-code-font-size);\n",
       "line-height: var(--jp-code-line-height);\n",
       "\"><span style=\"color: var(--jp-warn-color2)\">lsst.makeWarp.warpAndPsfMatch.psfMatch</span> <span style=\"color: var(--jp-info-color0)\">INFO</span>: compute Psf-matching kernel</pre>"
      ],
      "text/plain": [
       "<IPython.core.display.HTML object>"
      ]
     },
     "metadata": {},
     "output_type": "display_data"
    },
    {
     "data": {
      "text/html": [
       "<pre style=\"margin: 0.1em;\n",
       "padding-left: 0.25em;\n",
       "border-left-style: solid;\n",
       "font-family: var(--jp-code-font-family);\n",
       "font-size: var(--jp-code-font-size);\n",
       "line-height: var(--jp-code-line-height);\n",
       "\"><span style=\"color: var(--jp-warn-color2)\">lsst.makeWarp.warpAndPsfMatch.psfMatch</span> <span style=\"color: var(--jp-info-color0)\">INFO</span>: Adjusted dimensions of reference PSF model from (9, 9) to (57, 57)</pre>"
      ],
      "text/plain": [
       "<IPython.core.display.HTML object>"
      ]
     },
     "metadata": {},
     "output_type": "display_data"
    },
    {
     "data": {
      "text/html": [
       "<pre style=\"margin: 0.1em;\n",
       "padding-left: 0.25em;\n",
       "border-left-style: solid;\n",
       "font-family: var(--jp-code-font-family);\n",
       "font-size: var(--jp-code-font-size);\n",
       "line-height: var(--jp-code-line-height);\n",
       "\"><span style=\"color: var(--jp-warn-color2)\">lsst.ip.diffim.generateAlardLuptonBasisList</span> <span style=\"color: var(--jp-info-color0)\">INFO</span>: PSF sigmas are not available or scaling by fwhm disabled, falling back to config values</pre>"
      ],
      "text/plain": [
       "<IPython.core.display.HTML object>"
      ]
     },
     "metadata": {},
     "output_type": "display_data"
    },
    {
     "data": {
      "text/html": [
       "<pre style=\"margin: 0.1em;\n",
       "padding-left: 0.25em;\n",
       "border-left-style: solid;\n",
       "font-family: var(--jp-code-font-family);\n",
       "font-size: var(--jp-code-font-size);\n",
       "line-height: var(--jp-code-line-height);\n",
       "\"><span style=\"color: var(--jp-warn-color2)\">lsst.makeWarp.warpAndPsfMatch.psfMatch</span> <span style=\"color: var(--jp-info-color0)\">INFO</span>: Psf-match science exposure to reference</pre>"
      ],
      "text/plain": [
       "<IPython.core.display.HTML object>"
      ]
     },
     "metadata": {},
     "output_type": "display_data"
    },
    {
     "data": {
      "text/html": [
       "<pre style=\"margin: 0.1em;\n",
       "padding-left: 0.25em;\n",
       "border-left-style: solid;\n",
       "font-family: var(--jp-code-font-family);\n",
       "font-size: var(--jp-code-font-size);\n",
       "line-height: var(--jp-code-line-height);\n",
       "\"><span style=\"color: var(--jp-warn-color2)\">lsst.makeWarp.warpAndPsfMatch.psfMatch</span> <span style=\"color: var(--jp-info-color0)\">INFO</span>: done</pre>"
      ],
      "text/plain": [
       "<IPython.core.display.HTML object>"
      ]
     },
     "metadata": {},
     "output_type": "display_data"
    },
    {
     "data": {
      "text/html": [
       "<pre style=\"margin: 0.1em;\n",
       "padding-left: 0.25em;\n",
       "border-left-style: solid;\n",
       "font-family: var(--jp-code-font-family);\n",
       "font-size: var(--jp-code-font-size);\n",
       "line-height: var(--jp-code-line-height);\n",
       "\"><span style=\"color: var(--jp-warn-color2)\">lsst.makeWarp</span> <span style=\"color: var(--jp-info-color0)\">INFO</span>: Processing calexp 2 of 4 for this Warp: id={instrument: &#x27;LSSTCam-imSim&#x27;, detector: 31, visit: 924057, ...}</pre>"
      ],
      "text/plain": [
       "<IPython.core.display.HTML object>"
      ]
     },
     "metadata": {},
     "output_type": "display_data"
    },
    {
     "data": {
      "text/html": [
       "<pre style=\"margin: 0.1em;\n",
       "padding-left: 0.25em;\n",
       "border-left-style: solid;\n",
       "font-family: var(--jp-code-font-family);\n",
       "font-size: var(--jp-code-font-size);\n",
       "line-height: var(--jp-code-line-height);\n",
       "\"><span style=\"color: var(--jp-warn-color2)\">lsst.makeWarp.warpAndPsfMatch.psfMatch</span> <span style=\"color: var(--jp-info-color0)\">INFO</span>: compute Psf-matching kernel</pre>"
      ],
      "text/plain": [
       "<IPython.core.display.HTML object>"
      ]
     },
     "metadata": {},
     "output_type": "display_data"
    },
    {
     "data": {
      "text/html": [
       "<pre style=\"margin: 0.1em;\n",
       "padding-left: 0.25em;\n",
       "border-left-style: solid;\n",
       "font-family: var(--jp-code-font-family);\n",
       "font-size: var(--jp-code-font-size);\n",
       "line-height: var(--jp-code-line-height);\n",
       "\"><span style=\"color: var(--jp-warn-color2)\">lsst.makeWarp.warpAndPsfMatch.psfMatch</span> <span style=\"color: var(--jp-info-color0)\">INFO</span>: Adjusted dimensions of reference PSF model from (9, 9) to (57, 57)</pre>"
      ],
      "text/plain": [
       "<IPython.core.display.HTML object>"
      ]
     },
     "metadata": {},
     "output_type": "display_data"
    },
    {
     "data": {
      "text/html": [
       "<pre style=\"margin: 0.1em;\n",
       "padding-left: 0.25em;\n",
       "border-left-style: solid;\n",
       "font-family: var(--jp-code-font-family);\n",
       "font-size: var(--jp-code-font-size);\n",
       "line-height: var(--jp-code-line-height);\n",
       "\"><span style=\"color: var(--jp-warn-color2)\">lsst.ip.diffim.generateAlardLuptonBasisList</span> <span style=\"color: var(--jp-info-color0)\">INFO</span>: PSF sigmas are not available or scaling by fwhm disabled, falling back to config values</pre>"
      ],
      "text/plain": [
       "<IPython.core.display.HTML object>"
      ]
     },
     "metadata": {},
     "output_type": "display_data"
    },
    {
     "data": {
      "text/html": [
       "<pre style=\"margin: 0.1em;\n",
       "padding-left: 0.25em;\n",
       "border-left-style: solid;\n",
       "font-family: var(--jp-code-font-family);\n",
       "font-size: var(--jp-code-font-size);\n",
       "line-height: var(--jp-code-line-height);\n",
       "\"><span style=\"color: var(--jp-warn-color2)\">lsst.makeWarp.warpAndPsfMatch.psfMatch</span> <span style=\"color: var(--jp-info-color0)\">INFO</span>: Psf-match science exposure to reference</pre>"
      ],
      "text/plain": [
       "<IPython.core.display.HTML object>"
      ]
     },
     "metadata": {},
     "output_type": "display_data"
    },
    {
     "data": {
      "text/html": [
       "<pre style=\"margin: 0.1em;\n",
       "padding-left: 0.25em;\n",
       "border-left-style: solid;\n",
       "font-family: var(--jp-code-font-family);\n",
       "font-size: var(--jp-code-font-size);\n",
       "line-height: var(--jp-code-line-height);\n",
       "\"><span style=\"color: var(--jp-warn-color2)\">lsst.makeWarp.warpAndPsfMatch.psfMatch</span> <span style=\"color: var(--jp-info-color0)\">INFO</span>: done</pre>"
      ],
      "text/plain": [
       "<IPython.core.display.HTML object>"
      ]
     },
     "metadata": {},
     "output_type": "display_data"
    },
    {
     "data": {
      "text/html": [
       "<pre style=\"margin: 0.1em;\n",
       "padding-left: 0.25em;\n",
       "border-left-style: solid;\n",
       "font-family: var(--jp-code-font-family);\n",
       "font-size: var(--jp-code-font-size);\n",
       "line-height: var(--jp-code-line-height);\n",
       "\"><span style=\"color: var(--jp-warn-color2)\">lsst.makeWarp</span> <span style=\"color: var(--jp-info-color0)\">INFO</span>: Processing calexp 3 of 4 for this Warp: id={instrument: &#x27;LSSTCam-imSim&#x27;, detector: 33, visit: 924057, ...}</pre>"
      ],
      "text/plain": [
       "<IPython.core.display.HTML object>"
      ]
     },
     "metadata": {},
     "output_type": "display_data"
    },
    {
     "data": {
      "text/html": [
       "<pre style=\"margin: 0.1em;\n",
       "padding-left: 0.25em;\n",
       "border-left-style: solid;\n",
       "font-family: var(--jp-code-font-family);\n",
       "font-size: var(--jp-code-font-size);\n",
       "line-height: var(--jp-code-line-height);\n",
       "\"><span style=\"color: var(--jp-warn-color2)\">lsst.makeWarp.warpAndPsfMatch.psfMatch</span> <span style=\"color: var(--jp-info-color0)\">INFO</span>: compute Psf-matching kernel</pre>"
      ],
      "text/plain": [
       "<IPython.core.display.HTML object>"
      ]
     },
     "metadata": {},
     "output_type": "display_data"
    },
    {
     "data": {
      "text/html": [
       "<pre style=\"margin: 0.1em;\n",
       "padding-left: 0.25em;\n",
       "border-left-style: solid;\n",
       "font-family: var(--jp-code-font-family);\n",
       "font-size: var(--jp-code-font-size);\n",
       "line-height: var(--jp-code-line-height);\n",
       "\"><span style=\"color: var(--jp-warn-color2)\">lsst.makeWarp.warpAndPsfMatch.psfMatch</span> <span style=\"color: var(--jp-info-color0)\">INFO</span>: Adjusted dimensions of reference PSF model from (9, 9) to (57, 57)</pre>"
      ],
      "text/plain": [
       "<IPython.core.display.HTML object>"
      ]
     },
     "metadata": {},
     "output_type": "display_data"
    },
    {
     "data": {
      "text/html": [
       "<pre style=\"margin: 0.1em;\n",
       "padding-left: 0.25em;\n",
       "border-left-style: solid;\n",
       "font-family: var(--jp-code-font-family);\n",
       "font-size: var(--jp-code-font-size);\n",
       "line-height: var(--jp-code-line-height);\n",
       "\"><span style=\"color: var(--jp-warn-color2)\">lsst.ip.diffim.generateAlardLuptonBasisList</span> <span style=\"color: var(--jp-info-color0)\">INFO</span>: PSF sigmas are not available or scaling by fwhm disabled, falling back to config values</pre>"
      ],
      "text/plain": [
       "<IPython.core.display.HTML object>"
      ]
     },
     "metadata": {},
     "output_type": "display_data"
    },
    {
     "data": {
      "text/html": [
       "<pre style=\"margin: 0.1em;\n",
       "padding-left: 0.25em;\n",
       "border-left-style: solid;\n",
       "font-family: var(--jp-code-font-family);\n",
       "font-size: var(--jp-code-font-size);\n",
       "line-height: var(--jp-code-line-height);\n",
       "\"><span style=\"color: var(--jp-warn-color2)\">lsst.makeWarp.warpAndPsfMatch.psfMatch</span> <span style=\"color: var(--jp-info-color0)\">INFO</span>: Psf-match science exposure to reference</pre>"
      ],
      "text/plain": [
       "<IPython.core.display.HTML object>"
      ]
     },
     "metadata": {},
     "output_type": "display_data"
    },
    {
     "data": {
      "text/html": [
       "<pre style=\"margin: 0.1em;\n",
       "padding-left: 0.25em;\n",
       "border-left-style: solid;\n",
       "font-family: var(--jp-code-font-family);\n",
       "font-size: var(--jp-code-font-size);\n",
       "line-height: var(--jp-code-line-height);\n",
       "\"><span style=\"color: var(--jp-warn-color2)\">lsst.makeWarp.warpAndPsfMatch.psfMatch</span> <span style=\"color: var(--jp-info-color0)\">INFO</span>: done</pre>"
      ],
      "text/plain": [
       "<IPython.core.display.HTML object>"
      ]
     },
     "metadata": {},
     "output_type": "display_data"
    },
    {
     "data": {
      "text/html": [
       "<pre style=\"margin: 0.1em;\n",
       "padding-left: 0.25em;\n",
       "border-left-style: solid;\n",
       "font-family: var(--jp-code-font-family);\n",
       "font-size: var(--jp-code-font-size);\n",
       "line-height: var(--jp-code-line-height);\n",
       "\"><span style=\"color: var(--jp-warn-color2)\">lsst.makeWarp</span> <span style=\"color: var(--jp-info-color0)\">INFO</span>: Processing calexp 4 of 4 for this Warp: id={instrument: &#x27;LSSTCam-imSim&#x27;, detector: 34, visit: 924057, ...}</pre>"
      ],
      "text/plain": [
       "<IPython.core.display.HTML object>"
      ]
     },
     "metadata": {},
     "output_type": "display_data"
    },
    {
     "data": {
      "text/html": [
       "<pre style=\"margin: 0.1em;\n",
       "padding-left: 0.25em;\n",
       "border-left-style: solid;\n",
       "font-family: var(--jp-code-font-family);\n",
       "font-size: var(--jp-code-font-size);\n",
       "line-height: var(--jp-code-line-height);\n",
       "\"><span style=\"color: var(--jp-warn-color2)\">lsst.makeWarp.warpAndPsfMatch.psfMatch</span> <span style=\"color: var(--jp-info-color0)\">INFO</span>: compute Psf-matching kernel</pre>"
      ],
      "text/plain": [
       "<IPython.core.display.HTML object>"
      ]
     },
     "metadata": {},
     "output_type": "display_data"
    },
    {
     "data": {
      "text/html": [
       "<pre style=\"margin: 0.1em;\n",
       "padding-left: 0.25em;\n",
       "border-left-style: solid;\n",
       "font-family: var(--jp-code-font-family);\n",
       "font-size: var(--jp-code-font-size);\n",
       "line-height: var(--jp-code-line-height);\n",
       "\"><span style=\"color: var(--jp-warn-color2)\">lsst.makeWarp.warpAndPsfMatch.psfMatch</span> <span style=\"color: var(--jp-info-color0)\">INFO</span>: Adjusted dimensions of reference PSF model from (9, 9) to (57, 57)</pre>"
      ],
      "text/plain": [
       "<IPython.core.display.HTML object>"
      ]
     },
     "metadata": {},
     "output_type": "display_data"
    },
    {
     "data": {
      "text/html": [
       "<pre style=\"margin: 0.1em;\n",
       "padding-left: 0.25em;\n",
       "border-left-style: solid;\n",
       "font-family: var(--jp-code-font-family);\n",
       "font-size: var(--jp-code-font-size);\n",
       "line-height: var(--jp-code-line-height);\n",
       "\"><span style=\"color: var(--jp-warn-color2)\">lsst.ip.diffim.generateAlardLuptonBasisList</span> <span style=\"color: var(--jp-info-color0)\">INFO</span>: PSF sigmas are not available or scaling by fwhm disabled, falling back to config values</pre>"
      ],
      "text/plain": [
       "<IPython.core.display.HTML object>"
      ]
     },
     "metadata": {},
     "output_type": "display_data"
    },
    {
     "data": {
      "text/html": [
       "<pre style=\"margin: 0.1em;\n",
       "padding-left: 0.25em;\n",
       "border-left-style: solid;\n",
       "font-family: var(--jp-code-font-family);\n",
       "font-size: var(--jp-code-font-size);\n",
       "line-height: var(--jp-code-line-height);\n",
       "\"><span style=\"color: var(--jp-warn-color2)\">lsst.makeWarp.warpAndPsfMatch.psfMatch</span> <span style=\"color: var(--jp-info-color0)\">INFO</span>: Psf-match science exposure to reference</pre>"
      ],
      "text/plain": [
       "<IPython.core.display.HTML object>"
      ]
     },
     "metadata": {},
     "output_type": "display_data"
    },
    {
     "data": {
      "text/html": [
       "<pre style=\"margin: 0.1em;\n",
       "padding-left: 0.25em;\n",
       "border-left-style: solid;\n",
       "font-family: var(--jp-code-font-family);\n",
       "font-size: var(--jp-code-font-size);\n",
       "line-height: var(--jp-code-line-height);\n",
       "\"><span style=\"color: var(--jp-warn-color2)\">lsst.makeWarp.warpAndPsfMatch.psfMatch</span> <span style=\"color: var(--jp-info-color0)\">INFO</span>: done</pre>"
      ],
      "text/plain": [
       "<IPython.core.display.HTML object>"
      ]
     },
     "metadata": {},
     "output_type": "display_data"
    },
    {
     "data": {
      "text/html": [
       "<pre style=\"margin: 0.1em;\n",
       "padding-left: 0.25em;\n",
       "border-left-style: solid;\n",
       "font-family: var(--jp-code-font-family);\n",
       "font-size: var(--jp-code-font-size);\n",
       "line-height: var(--jp-code-line-height);\n",
       "\"><span style=\"color: var(--jp-warn-color2)\">lsst.makeWarp</span> <span style=\"color: var(--jp-info-color0)\">INFO</span>: directWarp has 16098179 good pixels (91.3%)</pre>"
      ],
      "text/plain": [
       "<IPython.core.display.HTML object>"
      ]
     },
     "metadata": {},
     "output_type": "display_data"
    },
    {
     "data": {
      "text/html": [
       "<pre style=\"margin: 0.1em;\n",
       "padding-left: 0.25em;\n",
       "border-left-style: solid;\n",
       "font-family: var(--jp-code-font-family);\n",
       "font-size: var(--jp-code-font-size);\n",
       "line-height: var(--jp-code-line-height);\n",
       "\"><span style=\"color: var(--jp-warn-color2)\">lsst.makeWarp</span> <span style=\"color: var(--jp-info-color0)\">INFO</span>: psfMatchedWarp has 15894357 good pixels (90.1%)</pre>"
      ],
      "text/plain": [
       "<IPython.core.display.HTML object>"
      ]
     },
     "metadata": {},
     "output_type": "display_data"
    },
    {
     "data": {
      "text/html": [
       "<pre style=\"margin: 0.1em;\n",
       "padding-left: 0.25em;\n",
       "border-left-style: solid;\n",
       "font-family: var(--jp-code-font-family);\n",
       "font-size: var(--jp-code-font-size);\n",
       "line-height: var(--jp-code-line-height);\n",
       "\"><span style=\"color: var(--jp-warn-color2)\">lsst.ctrl.mpexec.singleQuantumExecutor</span> <span style=\"color: var(--jp-info-color0)\">INFO</span>: Execution of task &#x27;makeWarp&#x27; on quantum {instrument: &#x27;LSSTCam-imSim&#x27;, skymap: &#x27;DC2&#x27;, tract: 4431, patch: 17, visit: 924057, ...} took 155.543 seconds</pre>"
      ],
      "text/plain": [
       "<IPython.core.display.HTML object>"
      ]
     },
     "metadata": {},
     "output_type": "display_data"
    },
    {
     "data": {
      "text/html": [
       "<pre style=\"margin: 0.1em;\n",
       "padding-left: 0.25em;\n",
       "border-left-style: solid;\n",
       "font-family: var(--jp-code-font-family);\n",
       "font-size: var(--jp-code-font-size);\n",
       "line-height: var(--jp-code-line-height);\n",
       "\"><span style=\"color: var(--jp-warn-color2)\">lsst.makeWarp.select</span> <span style=\"color: var(--jp-info-color0)\">INFO</span>: Selecting calexp {instrument: &#x27;LSSTCam-imSim&#x27;, detector: 178, visit: 924085, ...}</pre>"
      ],
      "text/plain": [
       "<IPython.core.display.HTML object>"
      ]
     },
     "metadata": {},
     "output_type": "display_data"
    },
    {
     "data": {
      "text/html": [
       "<pre style=\"margin: 0.1em;\n",
       "padding-left: 0.25em;\n",
       "border-left-style: solid;\n",
       "font-family: var(--jp-code-font-family);\n",
       "font-size: var(--jp-code-font-size);\n",
       "line-height: var(--jp-code-line-height);\n",
       "\"><span style=\"color: var(--jp-warn-color2)\">lsst.makeWarp</span> <span style=\"color: var(--jp-info-color0)\">INFO</span>: Processing calexp 1 of 1 for this Warp: id={instrument: &#x27;LSSTCam-imSim&#x27;, detector: 178, visit: 924085, ...}</pre>"
      ],
      "text/plain": [
       "<IPython.core.display.HTML object>"
      ]
     },
     "metadata": {},
     "output_type": "display_data"
    },
    {
     "data": {
      "text/html": [
       "<pre style=\"margin: 0.1em;\n",
       "padding-left: 0.25em;\n",
       "border-left-style: solid;\n",
       "font-family: var(--jp-code-font-family);\n",
       "font-size: var(--jp-code-font-size);\n",
       "line-height: var(--jp-code-line-height);\n",
       "\"><span style=\"color: var(--jp-warn-color2)\">lsst.makeWarp.warpAndPsfMatch.psfMatch</span> <span style=\"color: var(--jp-info-color0)\">INFO</span>: compute Psf-matching kernel</pre>"
      ],
      "text/plain": [
       "<IPython.core.display.HTML object>"
      ]
     },
     "metadata": {},
     "output_type": "display_data"
    },
    {
     "data": {
      "text/html": [
       "<pre style=\"margin: 0.1em;\n",
       "padding-left: 0.25em;\n",
       "border-left-style: solid;\n",
       "font-family: var(--jp-code-font-family);\n",
       "font-size: var(--jp-code-font-size);\n",
       "line-height: var(--jp-code-line-height);\n",
       "\"><span style=\"color: var(--jp-warn-color2)\">lsst.makeWarp.warpAndPsfMatch.psfMatch</span> <span style=\"color: var(--jp-info-color0)\">INFO</span>: Adjusted dimensions of reference PSF model from (9, 9) to (57, 57)</pre>"
      ],
      "text/plain": [
       "<IPython.core.display.HTML object>"
      ]
     },
     "metadata": {},
     "output_type": "display_data"
    },
    {
     "data": {
      "text/html": [
       "<pre style=\"margin: 0.1em;\n",
       "padding-left: 0.25em;\n",
       "border-left-style: solid;\n",
       "font-family: var(--jp-code-font-family);\n",
       "font-size: var(--jp-code-font-size);\n",
       "line-height: var(--jp-code-line-height);\n",
       "\"><span style=\"color: var(--jp-warn-color2)\">lsst.ip.diffim.generateAlardLuptonBasisList</span> <span style=\"color: var(--jp-info-color0)\">INFO</span>: PSF sigmas are not available or scaling by fwhm disabled, falling back to config values</pre>"
      ],
      "text/plain": [
       "<IPython.core.display.HTML object>"
      ]
     },
     "metadata": {},
     "output_type": "display_data"
    },
    {
     "data": {
      "text/html": [
       "<pre style=\"margin: 0.1em;\n",
       "padding-left: 0.25em;\n",
       "border-left-style: solid;\n",
       "font-family: var(--jp-code-font-family);\n",
       "font-size: var(--jp-code-font-size);\n",
       "line-height: var(--jp-code-line-height);\n",
       "\"><span style=\"color: var(--jp-warn-color2)\">lsst.makeWarp.warpAndPsfMatch.psfMatch</span> <span style=\"color: var(--jp-info-color0)\">INFO</span>: Psf-match science exposure to reference</pre>"
      ],
      "text/plain": [
       "<IPython.core.display.HTML object>"
      ]
     },
     "metadata": {},
     "output_type": "display_data"
    },
    {
     "data": {
      "text/html": [
       "<pre style=\"margin: 0.1em;\n",
       "padding-left: 0.25em;\n",
       "border-left-style: solid;\n",
       "font-family: var(--jp-code-font-family);\n",
       "font-size: var(--jp-code-font-size);\n",
       "line-height: var(--jp-code-line-height);\n",
       "\"><span style=\"color: var(--jp-warn-color2)\">lsst.makeWarp.warpAndPsfMatch.psfMatch</span> <span style=\"color: var(--jp-info-color0)\">INFO</span>: done</pre>"
      ],
      "text/plain": [
       "<IPython.core.display.HTML object>"
      ]
     },
     "metadata": {},
     "output_type": "display_data"
    },
    {
     "data": {
      "text/html": [
       "<pre style=\"margin: 0.1em;\n",
       "padding-left: 0.25em;\n",
       "border-left-style: solid;\n",
       "font-family: var(--jp-code-font-family);\n",
       "font-size: var(--jp-code-font-size);\n",
       "line-height: var(--jp-code-line-height);\n",
       "\"><span style=\"color: var(--jp-warn-color2)\">lsst.makeWarp</span> <span style=\"color: var(--jp-info-color0)\">INFO</span>: directWarp has 831332 good pixels (4.7%)</pre>"
      ],
      "text/plain": [
       "<IPython.core.display.HTML object>"
      ]
     },
     "metadata": {},
     "output_type": "display_data"
    },
    {
     "data": {
      "text/html": [
       "<pre style=\"margin: 0.1em;\n",
       "padding-left: 0.25em;\n",
       "border-left-style: solid;\n",
       "font-family: var(--jp-code-font-family);\n",
       "font-size: var(--jp-code-font-size);\n",
       "line-height: var(--jp-code-line-height);\n",
       "\"><span style=\"color: var(--jp-warn-color2)\">lsst.makeWarp</span> <span style=\"color: var(--jp-info-color0)\">INFO</span>: psfMatchedWarp has 805735 good pixels (4.6%)</pre>"
      ],
      "text/plain": [
       "<IPython.core.display.HTML object>"
      ]
     },
     "metadata": {},
     "output_type": "display_data"
    },
    {
     "data": {
      "text/html": [
       "<pre style=\"margin: 0.1em;\n",
       "padding-left: 0.25em;\n",
       "border-left-style: solid;\n",
       "font-family: var(--jp-code-font-family);\n",
       "font-size: var(--jp-code-font-size);\n",
       "line-height: var(--jp-code-line-height);\n",
       "\"><span style=\"color: var(--jp-warn-color2)\">lsst.ctrl.mpexec.singleQuantumExecutor</span> <span style=\"color: var(--jp-info-color0)\">INFO</span>: Execution of task &#x27;makeWarp&#x27; on quantum {instrument: &#x27;LSSTCam-imSim&#x27;, skymap: &#x27;DC2&#x27;, tract: 4431, patch: 17, visit: 924085, ...} took 28.423 seconds</pre>"
      ],
      "text/plain": [
       "<IPython.core.display.HTML object>"
      ]
     },
     "metadata": {},
     "output_type": "display_data"
    },
    {
     "data": {
      "text/html": [
       "<pre style=\"margin: 0.1em;\n",
       "padding-left: 0.25em;\n",
       "border-left-style: solid;\n",
       "font-family: var(--jp-code-font-family);\n",
       "font-size: var(--jp-code-font-size);\n",
       "line-height: var(--jp-code-line-height);\n",
       "\"><span style=\"color: var(--jp-warn-color2)\">lsst.assembleCoadd</span> <span style=\"color: var(--jp-info-color0)\">INFO</span>: Weight of deepCoadd_directWarp {instrument: &#x27;LSSTCam-imSim&#x27;, skymap: &#x27;DC2&#x27;, tract: 4431, patch: 17, visit: 919515, ...} = 3.466</pre>"
      ],
      "text/plain": [
       "<IPython.core.display.HTML object>"
      ]
     },
     "metadata": {},
     "output_type": "display_data"
    },
    {
     "data": {
      "text/html": [
       "<pre style=\"margin: 0.1em;\n",
       "padding-left: 0.25em;\n",
       "border-left-style: solid;\n",
       "font-family: var(--jp-code-font-family);\n",
       "font-size: var(--jp-code-font-size);\n",
       "line-height: var(--jp-code-line-height);\n",
       "\"><span style=\"color: var(--jp-warn-color2)\">lsst.assembleCoadd</span> <span style=\"color: var(--jp-info-color0)\">INFO</span>: Weight of deepCoadd_directWarp {instrument: &#x27;LSSTCam-imSim&#x27;, skymap: &#x27;DC2&#x27;, tract: 4431, patch: 17, visit: 924057, ...} = 4.384</pre>"
      ],
      "text/plain": [
       "<IPython.core.display.HTML object>"
      ]
     },
     "metadata": {},
     "output_type": "display_data"
    },
    {
     "data": {
      "text/html": [
       "<pre style=\"margin: 0.1em;\n",
       "padding-left: 0.25em;\n",
       "border-left-style: solid;\n",
       "font-family: var(--jp-code-font-family);\n",
       "font-size: var(--jp-code-font-size);\n",
       "line-height: var(--jp-code-line-height);\n",
       "\"><span style=\"color: var(--jp-warn-color2)\">lsst.assembleCoadd</span> <span style=\"color: var(--jp-info-color0)\">INFO</span>: Weight of deepCoadd_directWarp {instrument: &#x27;LSSTCam-imSim&#x27;, skymap: &#x27;DC2&#x27;, tract: 4431, patch: 17, visit: 924085, ...} = 4.447</pre>"
      ],
      "text/plain": [
       "<IPython.core.display.HTML object>"
      ]
     },
     "metadata": {},
     "output_type": "display_data"
    },
    {
     "data": {
      "text/html": [
       "<pre style=\"margin: 0.1em;\n",
       "padding-left: 0.25em;\n",
       "border-left-style: solid;\n",
       "font-family: var(--jp-code-font-family);\n",
       "font-size: var(--jp-code-font-size);\n",
       "line-height: var(--jp-code-line-height);\n",
       "\"><span style=\"color: var(--jp-warn-color2)\">lsst.assembleCoadd</span> <span style=\"color: var(--jp-info-color0)\">INFO</span>: Weight of deepCoadd_directWarp {instrument: &#x27;LSSTCam-imSim&#x27;, skymap: &#x27;DC2&#x27;, tract: 4431, patch: 17, visit: 924086, ...} = 4.550</pre>"
      ],
      "text/plain": [
       "<IPython.core.display.HTML object>"
      ]
     },
     "metadata": {},
     "output_type": "display_data"
    },
    {
     "data": {
      "text/html": [
       "<pre style=\"margin: 0.1em;\n",
       "padding-left: 0.25em;\n",
       "border-left-style: solid;\n",
       "font-family: var(--jp-code-font-family);\n",
       "font-size: var(--jp-code-font-size);\n",
       "line-height: var(--jp-code-line-height);\n",
       "\"><span style=\"color: var(--jp-warn-color2)\">lsst.assembleCoadd</span> <span style=\"color: var(--jp-info-color0)\">INFO</span>: Weight of deepCoadd_directWarp {instrument: &#x27;LSSTCam-imSim&#x27;, skymap: &#x27;DC2&#x27;, tract: 4431, patch: 17, visit: 929477, ...} = 4.051</pre>"
      ],
      "text/plain": [
       "<IPython.core.display.HTML object>"
      ]
     },
     "metadata": {},
     "output_type": "display_data"
    },
    {
     "data": {
      "text/html": [
       "<pre style=\"margin: 0.1em;\n",
       "padding-left: 0.25em;\n",
       "border-left-style: solid;\n",
       "font-family: var(--jp-code-font-family);\n",
       "font-size: var(--jp-code-font-size);\n",
       "line-height: var(--jp-code-line-height);\n",
       "\"><span style=\"color: var(--jp-warn-color2)\">lsst.assembleCoadd</span> <span style=\"color: var(--jp-info-color0)\">INFO</span>: Weight of deepCoadd_directWarp {instrument: &#x27;LSSTCam-imSim&#x27;, skymap: &#x27;DC2&#x27;, tract: 4431, patch: 17, visit: 930353, ...} = 3.769</pre>"
      ],
      "text/plain": [
       "<IPython.core.display.HTML object>"
      ]
     },
     "metadata": {},
     "output_type": "display_data"
    },
    {
     "data": {
      "text/html": [
       "<pre style=\"margin: 0.1em;\n",
       "padding-left: 0.25em;\n",
       "border-left-style: solid;\n",
       "font-family: var(--jp-code-font-family);\n",
       "font-size: var(--jp-code-font-size);\n",
       "line-height: var(--jp-code-line-height);\n",
       "\"><span style=\"color: var(--jp-warn-color2)\">lsst.assembleCoadd</span> <span style=\"color: var(--jp-info-color0)\">INFO</span>: Found 6 deepCoadd_directWarp</pre>"
      ],
      "text/plain": [
       "<IPython.core.display.HTML object>"
      ]
     },
     "metadata": {},
     "output_type": "display_data"
    },
    {
     "data": {
      "text/html": [
       "<pre style=\"margin: 0.1em;\n",
       "padding-left: 0.25em;\n",
       "border-left-style: solid;\n",
       "font-family: var(--jp-code-font-family);\n",
       "font-size: var(--jp-code-font-size);\n",
       "line-height: var(--jp-code-line-height);\n",
       "\"><span style=\"color: var(--jp-warn-color2)\">lsst.assembleCoadd.assembleStaticSkyModel</span> <span style=\"color: var(--jp-info-color0)\">INFO</span>: Weight of deepCoadd_psfMatchedWarp {instrument: &#x27;LSSTCam-imSim&#x27;, skymap: &#x27;DC2&#x27;, tract: 4431, patch: 17, visit: 919515, ...} = 0.517</pre>"
      ],
      "text/plain": [
       "<IPython.core.display.HTML object>"
      ]
     },
     "metadata": {},
     "output_type": "display_data"
    },
    {
     "data": {
      "text/html": [
       "<pre style=\"margin: 0.1em;\n",
       "padding-left: 0.25em;\n",
       "border-left-style: solid;\n",
       "font-family: var(--jp-code-font-family);\n",
       "font-size: var(--jp-code-font-size);\n",
       "line-height: var(--jp-code-line-height);\n",
       "\"><span style=\"color: var(--jp-warn-color2)\">lsst.assembleCoadd.assembleStaticSkyModel</span> <span style=\"color: var(--jp-info-color0)\">INFO</span>: Weight of deepCoadd_psfMatchedWarp {instrument: &#x27;LSSTCam-imSim&#x27;, skymap: &#x27;DC2&#x27;, tract: 4431, patch: 17, visit: 924057, ...} = 0.419</pre>"
      ],
      "text/plain": [
       "<IPython.core.display.HTML object>"
      ]
     },
     "metadata": {},
     "output_type": "display_data"
    },
    {
     "data": {
      "text/html": [
       "<pre style=\"margin: 0.1em;\n",
       "padding-left: 0.25em;\n",
       "border-left-style: solid;\n",
       "font-family: var(--jp-code-font-family);\n",
       "font-size: var(--jp-code-font-size);\n",
       "line-height: var(--jp-code-line-height);\n",
       "\"><span style=\"color: var(--jp-warn-color2)\">lsst.assembleCoadd.assembleStaticSkyModel</span> <span style=\"color: var(--jp-info-color0)\">INFO</span>: Weight of deepCoadd_psfMatchedWarp {instrument: &#x27;LSSTCam-imSim&#x27;, skymap: &#x27;DC2&#x27;, tract: 4431, patch: 17, visit: 924085, ...} = 0.495</pre>"
      ],
      "text/plain": [
       "<IPython.core.display.HTML object>"
      ]
     },
     "metadata": {},
     "output_type": "display_data"
    },
    {
     "data": {
      "text/html": [
       "<pre style=\"margin: 0.1em;\n",
       "padding-left: 0.25em;\n",
       "border-left-style: solid;\n",
       "font-family: var(--jp-code-font-family);\n",
       "font-size: var(--jp-code-font-size);\n",
       "line-height: var(--jp-code-line-height);\n",
       "\"><span style=\"color: var(--jp-warn-color2)\">lsst.assembleCoadd.assembleStaticSkyModel</span> <span style=\"color: var(--jp-info-color0)\">INFO</span>: Weight of deepCoadd_psfMatchedWarp {instrument: &#x27;LSSTCam-imSim&#x27;, skymap: &#x27;DC2&#x27;, tract: 4431, patch: 17, visit: 924086, ...} = 0.465</pre>"
      ],
      "text/plain": [
       "<IPython.core.display.HTML object>"
      ]
     },
     "metadata": {},
     "output_type": "display_data"
    },
    {
     "data": {
      "text/html": [
       "<pre style=\"margin: 0.1em;\n",
       "padding-left: 0.25em;\n",
       "border-left-style: solid;\n",
       "font-family: var(--jp-code-font-family);\n",
       "font-size: var(--jp-code-font-size);\n",
       "line-height: var(--jp-code-line-height);\n",
       "\"><span style=\"color: var(--jp-warn-color2)\">lsst.assembleCoadd.assembleStaticSkyModel</span> <span style=\"color: var(--jp-info-color0)\">INFO</span>: Weight of deepCoadd_psfMatchedWarp {instrument: &#x27;LSSTCam-imSim&#x27;, skymap: &#x27;DC2&#x27;, tract: 4431, patch: 17, visit: 929477, ...} = 0.247</pre>"
      ],
      "text/plain": [
       "<IPython.core.display.HTML object>"
      ]
     },
     "metadata": {},
     "output_type": "display_data"
    },
    {
     "data": {
      "text/html": [
       "<pre style=\"margin: 0.1em;\n",
       "padding-left: 0.25em;\n",
       "border-left-style: solid;\n",
       "font-family: var(--jp-code-font-family);\n",
       "font-size: var(--jp-code-font-size);\n",
       "line-height: var(--jp-code-line-height);\n",
       "\"><span style=\"color: var(--jp-warn-color2)\">lsst.assembleCoadd.assembleStaticSkyModel</span> <span style=\"color: var(--jp-info-color0)\">INFO</span>: Weight of deepCoadd_psfMatchedWarp {instrument: &#x27;LSSTCam-imSim&#x27;, skymap: &#x27;DC2&#x27;, tract: 4431, patch: 17, visit: 930353, ...} = 1.158</pre>"
      ],
      "text/plain": [
       "<IPython.core.display.HTML object>"
      ]
     },
     "metadata": {},
     "output_type": "display_data"
    },
    {
     "data": {
      "text/html": [
       "<pre style=\"margin: 0.1em;\n",
       "padding-left: 0.25em;\n",
       "border-left-style: solid;\n",
       "font-family: var(--jp-code-font-family);\n",
       "font-size: var(--jp-code-font-size);\n",
       "line-height: var(--jp-code-line-height);\n",
       "\"><span style=\"color: var(--jp-warn-color2)\">lsst.assembleCoadd.assembleStaticSkyModel</span> <span style=\"color: var(--jp-info-color0)\">INFO</span>: Found 6 deepCoadd_psfMatchedWarp</pre>"
      ],
      "text/plain": [
       "<IPython.core.display.HTML object>"
      ]
     },
     "metadata": {},
     "output_type": "display_data"
    },
    {
     "data": {
      "text/html": [
       "<pre style=\"margin: 0.1em;\n",
       "padding-left: 0.25em;\n",
       "border-left-style: solid;\n",
       "font-family: var(--jp-code-font-family);\n",
       "font-size: var(--jp-code-font-size);\n",
       "line-height: var(--jp-code-line-height);\n",
       "\"><span style=\"color: var(--jp-warn-color2)\">lsst.assembleCoadd.assembleStaticSkyModel</span> <span style=\"color: var(--jp-info-color0)\">INFO</span>: Assembling 6 deepCoadd_psfMatchedWarp</pre>"
      ],
      "text/plain": [
       "<IPython.core.display.HTML object>"
      ]
     },
     "metadata": {},
     "output_type": "display_data"
    },
    {
     "data": {
      "text/html": [
       "<pre style=\"margin: 0.1em;\n",
       "padding-left: 0.25em;\n",
       "border-left-style: solid;\n",
       "font-family: var(--jp-code-font-family);\n",
       "font-size: var(--jp-code-font-size);\n",
       "line-height: var(--jp-code-line-height);\n",
       "\"><span style=\"color: var(--jp-warn-color2)\">lsst.assembleCoadd.assembleStaticSkyModel.interpImage</span> <span style=\"color: var(--jp-info-color0)\">INFO</span>: Creating psf model for interpolation from fwhm(pixels) = 3.0 [default]</pre>"
      ],
      "text/plain": [
       "<IPython.core.display.HTML object>"
      ]
     },
     "metadata": {},
     "output_type": "display_data"
    },
    {
     "data": {
      "text/html": [
       "<pre style=\"margin: 0.1em;\n",
       "padding-left: 0.25em;\n",
       "border-left-style: solid;\n",
       "font-family: var(--jp-code-font-family);\n",
       "font-size: var(--jp-code-font-size);\n",
       "line-height: var(--jp-code-line-height);\n",
       "\"><span style=\"color: var(--jp-warn-color2)\">lsst.assembleCoadd.assembleStaticSkyModel.interpImage</span> <span style=\"color: var(--jp-info-color0)\">INFO</span>: fallbackValueType MEDIAN has been set to 0.0273</pre>"
      ],
      "text/plain": [
       "<IPython.core.display.HTML object>"
      ]
     },
     "metadata": {},
     "output_type": "display_data"
    },
    {
     "data": {
      "text/html": [
       "<pre style=\"margin: 0.1em;\n",
       "padding-left: 0.25em;\n",
       "border-left-style: solid;\n",
       "font-family: var(--jp-code-font-family);\n",
       "font-size: var(--jp-code-font-size);\n",
       "line-height: var(--jp-code-line-height);\n",
       "\"><span style=\"color: var(--jp-warn-color2)\">lsst.assembleCoadd.assembleStaticSkyModel.interpImage</span> <span style=\"color: var(--jp-info-color0)\">INFO</span>: Interpolated over 0 NO_DATA pixels.</pre>"
      ],
      "text/plain": [
       "<IPython.core.display.HTML object>"
      ]
     },
     "metadata": {},
     "output_type": "display_data"
    },
    {
     "data": {
      "text/html": [
       "<pre style=\"margin: 0.1em;\n",
       "padding-left: 0.25em;\n",
       "border-left-style: solid;\n",
       "font-family: var(--jp-code-font-family);\n",
       "font-size: var(--jp-code-font-size);\n",
       "line-height: var(--jp-code-line-height);\n",
       "\"><span style=\"color: var(--jp-warn-color2)\">lsst.assembleCoadd.detectTemplate</span> <span style=\"color: var(--jp-info-color0)\">INFO</span>: Detected 6034 positive peaks in 3184 footprints to 5 sigma</pre>"
      ],
      "text/plain": [
       "<IPython.core.display.HTML object>"
      ]
     },
     "metadata": {},
     "output_type": "display_data"
    },
    {
     "data": {
      "text/html": [
       "<pre style=\"margin: 0.1em;\n",
       "padding-left: 0.25em;\n",
       "border-left-style: solid;\n",
       "font-family: var(--jp-code-font-family);\n",
       "font-size: var(--jp-code-font-size);\n",
       "line-height: var(--jp-code-line-height);\n",
       "\"><span style=\"color: var(--jp-warn-color2)\">lsst.assembleCoadd.scaleWarpVariance</span> <span style=\"color: var(--jp-info-color0)\">INFO</span>: Renormalizing variance by 0.867723</pre>"
      ],
      "text/plain": [
       "<IPython.core.display.HTML object>"
      ]
     },
     "metadata": {},
     "output_type": "display_data"
    },
    {
     "data": {
      "text/html": [
       "<pre style=\"margin: 0.1em;\n",
       "padding-left: 0.25em;\n",
       "border-left-style: solid;\n",
       "font-family: var(--jp-code-font-family);\n",
       "font-size: var(--jp-code-font-size);\n",
       "line-height: var(--jp-code-line-height);\n",
       "\"><span style=\"color: var(--jp-warn-color2)\">lsst.assembleCoadd.detect</span> <span style=\"color: var(--jp-info-color0)\">INFO</span>: Detected 2 positive peaks in 2 footprints and 0 negative peaks in 0 footprints to 5 sigma</pre>"
      ],
      "text/plain": [
       "<IPython.core.display.HTML object>"
      ]
     },
     "metadata": {},
     "output_type": "display_data"
    },
    {
     "data": {
      "text/html": [
       "<pre style=\"margin: 0.1em;\n",
       "padding-left: 0.25em;\n",
       "border-left-style: solid;\n",
       "font-family: var(--jp-code-font-family);\n",
       "font-size: var(--jp-code-font-size);\n",
       "line-height: var(--jp-code-line-height);\n",
       "\"><span style=\"color: var(--jp-warn-color2)\">lsst.assembleCoadd.scaleWarpVariance</span> <span style=\"color: var(--jp-info-color0)\">INFO</span>: Renormalizing variance by 0.890992</pre>"
      ],
      "text/plain": [
       "<IPython.core.display.HTML object>"
      ]
     },
     "metadata": {},
     "output_type": "display_data"
    },
    {
     "data": {
      "text/html": [
       "<pre style=\"margin: 0.1em;\n",
       "padding-left: 0.25em;\n",
       "border-left-style: solid;\n",
       "font-family: var(--jp-code-font-family);\n",
       "font-size: var(--jp-code-font-size);\n",
       "line-height: var(--jp-code-line-height);\n",
       "\"><span style=\"color: var(--jp-warn-color2)\">lsst.assembleCoadd.detect</span> <span style=\"color: var(--jp-info-color0)\">INFO</span>: Detected 5 positive peaks in 4 footprints and 4 negative peaks in 2 footprints to 5 sigma</pre>"
      ],
      "text/plain": [
       "<IPython.core.display.HTML object>"
      ]
     },
     "metadata": {},
     "output_type": "display_data"
    },
    {
     "data": {
      "text/html": [
       "<pre style=\"margin: 0.1em;\n",
       "padding-left: 0.25em;\n",
       "border-left-style: solid;\n",
       "font-family: var(--jp-code-font-family);\n",
       "font-size: var(--jp-code-font-size);\n",
       "line-height: var(--jp-code-line-height);\n",
       "\"><span style=\"color: var(--jp-warn-color2)\">lsst.assembleCoadd.scaleWarpVariance</span> <span style=\"color: var(--jp-info-color0)\">INFO</span>: Renormalizing variance by 0.920655</pre>"
      ],
      "text/plain": [
       "<IPython.core.display.HTML object>"
      ]
     },
     "metadata": {},
     "output_type": "display_data"
    },
    {
     "data": {
      "text/html": [
       "<pre style=\"margin: 0.1em;\n",
       "padding-left: 0.25em;\n",
       "border-left-style: solid;\n",
       "font-family: var(--jp-code-font-family);\n",
       "font-size: var(--jp-code-font-size);\n",
       "line-height: var(--jp-code-line-height);\n",
       "\"><span style=\"color: var(--jp-warn-color2)\">lsst.assembleCoadd.detect</span> <span style=\"color: var(--jp-info-color0)\">INFO</span>: Detected 0 positive peaks in 0 footprints and 0 negative peaks in 0 footprints to 5 sigma</pre>"
      ],
      "text/plain": [
       "<IPython.core.display.HTML object>"
      ]
     },
     "metadata": {},
     "output_type": "display_data"
    },
    {
     "data": {
      "text/html": [
       "<pre style=\"margin: 0.1em;\n",
       "padding-left: 0.25em;\n",
       "border-left-style: solid;\n",
       "font-family: var(--jp-code-font-family);\n",
       "font-size: var(--jp-code-font-size);\n",
       "line-height: var(--jp-code-line-height);\n",
       "\"><span style=\"color: var(--jp-warn-color2)\">lsst.assembleCoadd.scaleWarpVariance</span> <span style=\"color: var(--jp-info-color0)\">INFO</span>: Renormalizing variance by 0.921171</pre>"
      ],
      "text/plain": [
       "<IPython.core.display.HTML object>"
      ]
     },
     "metadata": {},
     "output_type": "display_data"
    },
    {
     "data": {
      "text/html": [
       "<pre style=\"margin: 0.1em;\n",
       "padding-left: 0.25em;\n",
       "border-left-style: solid;\n",
       "font-family: var(--jp-code-font-family);\n",
       "font-size: var(--jp-code-font-size);\n",
       "line-height: var(--jp-code-line-height);\n",
       "\"><span style=\"color: var(--jp-warn-color2)\">lsst.assembleCoadd.detect</span> <span style=\"color: var(--jp-info-color0)\">INFO</span>: Detected 2 positive peaks in 2 footprints and 4 negative peaks in 3 footprints to 5 sigma</pre>"
      ],
      "text/plain": [
       "<IPython.core.display.HTML object>"
      ]
     },
     "metadata": {},
     "output_type": "display_data"
    },
    {
     "data": {
      "text/html": [
       "<pre style=\"margin: 0.1em;\n",
       "padding-left: 0.25em;\n",
       "border-left-style: solid;\n",
       "font-family: var(--jp-code-font-family);\n",
       "font-size: var(--jp-code-font-size);\n",
       "line-height: var(--jp-code-line-height);\n",
       "\"><span style=\"color: var(--jp-warn-color2)\">lsst.assembleCoadd.scaleWarpVariance</span> <span style=\"color: var(--jp-info-color0)\">INFO</span>: Renormalizing variance by 0.728356</pre>"
      ],
      "text/plain": [
       "<IPython.core.display.HTML object>"
      ]
     },
     "metadata": {},
     "output_type": "display_data"
    },
    {
     "data": {
      "text/html": [
       "<pre style=\"margin: 0.1em;\n",
       "padding-left: 0.25em;\n",
       "border-left-style: solid;\n",
       "font-family: var(--jp-code-font-family);\n",
       "font-size: var(--jp-code-font-size);\n",
       "line-height: var(--jp-code-line-height);\n",
       "\"><span style=\"color: var(--jp-warn-color2)\">lsst.assembleCoadd.detect</span> <span style=\"color: var(--jp-info-color0)\">INFO</span>: Detected 70 positive peaks in 17 footprints and 3 negative peaks in 2 footprints to 5 sigma</pre>"
      ],
      "text/plain": [
       "<IPython.core.display.HTML object>"
      ]
     },
     "metadata": {},
     "output_type": "display_data"
    },
    {
     "data": {
      "text/html": [
       "<pre style=\"margin: 0.1em;\n",
       "padding-left: 0.25em;\n",
       "border-left-style: solid;\n",
       "font-family: var(--jp-code-font-family);\n",
       "font-size: var(--jp-code-font-size);\n",
       "line-height: var(--jp-code-line-height);\n",
       "\"><span style=\"color: var(--jp-warn-color2)\">lsst.assembleCoadd.scaleWarpVariance</span> <span style=\"color: var(--jp-info-color0)\">INFO</span>: Renormalizing variance by 1.040958</pre>"
      ],
      "text/plain": [
       "<IPython.core.display.HTML object>"
      ]
     },
     "metadata": {},
     "output_type": "display_data"
    },
    {
     "data": {
      "text/html": [
       "<pre style=\"margin: 0.1em;\n",
       "padding-left: 0.25em;\n",
       "border-left-style: solid;\n",
       "font-family: var(--jp-code-font-family);\n",
       "font-size: var(--jp-code-font-size);\n",
       "line-height: var(--jp-code-line-height);\n",
       "\"><span style=\"color: var(--jp-warn-color2)\">lsst.assembleCoadd.detect</span> <span style=\"color: var(--jp-info-color0)\">INFO</span>: Detected 12 positive peaks in 6 footprints and 12 negative peaks in 5 footprints to 5 sigma</pre>"
      ],
      "text/plain": [
       "<IPython.core.display.HTML object>"
      ]
     },
     "metadata": {},
     "output_type": "display_data"
    },
    {
     "data": {
      "text/html": [
       "<pre style=\"margin: 0.1em;\n",
       "padding-left: 0.25em;\n",
       "border-left-style: solid;\n",
       "font-family: var(--jp-code-font-family);\n",
       "font-size: var(--jp-code-font-size);\n",
       "line-height: var(--jp-code-line-height);\n",
       "\"><span style=\"color: var(--jp-warn-color2)\">lsst.assembleCoadd</span> <span style=\"color: var(--jp-info-color0)\">INFO</span>: Assembling 6 deepCoadd_directWarp</pre>"
      ],
      "text/plain": [
       "<IPython.core.display.HTML object>"
      ]
     },
     "metadata": {},
     "output_type": "display_data"
    },
    {
     "data": {
      "text/html": [
       "<pre style=\"margin: 0.1em;\n",
       "padding-left: 0.25em;\n",
       "border-left-style: solid;\n",
       "font-family: var(--jp-code-font-family);\n",
       "font-size: var(--jp-code-font-size);\n",
       "line-height: var(--jp-code-line-height);\n",
       "\"><span style=\"color: var(--jp-warn-color2)\">lsst.assembleCoadd.interpImage</span> <span style=\"color: var(--jp-info-color0)\">INFO</span>: Creating psf model for interpolation from fwhm(pixels) = 3.0 [default]</pre>"
      ],
      "text/plain": [
       "<IPython.core.display.HTML object>"
      ]
     },
     "metadata": {},
     "output_type": "display_data"
    },
    {
     "data": {
      "text/html": [
       "<pre style=\"margin: 0.1em;\n",
       "padding-left: 0.25em;\n",
       "border-left-style: solid;\n",
       "font-family: var(--jp-code-font-family);\n",
       "font-size: var(--jp-code-font-size);\n",
       "line-height: var(--jp-code-line-height);\n",
       "\"><span style=\"color: var(--jp-warn-color2)\">lsst.assembleCoadd.interpImage</span> <span style=\"color: var(--jp-info-color0)\">INFO</span>: fallbackValueType MEDIAN has been set to 0.0159</pre>"
      ],
      "text/plain": [
       "<IPython.core.display.HTML object>"
      ]
     },
     "metadata": {},
     "output_type": "display_data"
    },
    {
     "data": {
      "text/html": [
       "<pre style=\"margin: 0.1em;\n",
       "padding-left: 0.25em;\n",
       "border-left-style: solid;\n",
       "font-family: var(--jp-code-font-family);\n",
       "font-size: var(--jp-code-font-size);\n",
       "line-height: var(--jp-code-line-height);\n",
       "\"><span style=\"color: var(--jp-warn-color2)\">lsst.assembleCoadd.interpImage</span> <span style=\"color: var(--jp-info-color0)\">INFO</span>: Interpolated over 278 NO_DATA pixels.</pre>"
      ],
      "text/plain": [
       "<IPython.core.display.HTML object>"
      ]
     },
     "metadata": {},
     "output_type": "display_data"
    },
    {
     "data": {
      "text/html": [
       "<pre style=\"margin: 0.1em;\n",
       "padding-left: 0.25em;\n",
       "border-left-style: solid;\n",
       "font-family: var(--jp-code-font-family);\n",
       "font-size: var(--jp-code-font-size);\n",
       "line-height: var(--jp-code-line-height);\n",
       "\"><span style=\"color: var(--jp-warn-color2)\">lsst.ctrl.mpexec.singleQuantumExecutor</span> <span style=\"color: var(--jp-info-color0)\">INFO</span>: Execution of task &#x27;assembleCoadd&#x27; on quantum {band: &#x27;i&#x27;, skymap: &#x27;DC2&#x27;, tract: 4431, patch: 17} took 221.362 seconds</pre>"
      ],
      "text/plain": [
       "<IPython.core.display.HTML object>"
      ]
     },
     "metadata": {},
     "output_type": "display_data"
    },
    {
     "name": "stdout",
     "output_type": "stream",
     "text": [
      "CPU times: user 15min 20s, sys: 1min 21s, total: 16min 42s\n",
      "Wall time: 16min 39s\n"
     ]
    }
   ],
   "source": [
    "%%time\n",
    "quanta = spe.run()"
   ]
  },
  {
   "cell_type": "markdown",
   "id": "ed37a316-41d3-4bb6-8187-2da1250d71de",
   "metadata": {},
   "source": [
    "## 4. Display and analyse the results\n",
    "\n",
    "### 4.1. The quanta\n",
    "\n",
    "The \"quanta\" that was just created is a list of objects corresponding to each of the pipeline tasks that were ran.\n",
    "There will be one for each visit’s makeWarp and one for assembleCoadd.\n",
    "Each of those has information about, e.g., the name of the task, the reference to the input and output."
   ]
  },
  {
   "cell_type": "code",
   "execution_count": null,
   "id": "ed3ae560-1376-41f5-b68c-f27859546c99",
   "metadata": {},
   "outputs": [],
   "source": [
    "# quanta"
   ]
  },
  {
   "cell_type": "markdown",
   "id": "aeedcf66-5179-46e1-89e8-1cd809eb0aaa",
   "metadata": {},
   "source": [
    "Option to put your cursor after the period and press the tab key to see the pop-up window of methods for quanta."
   ]
  },
  {
   "cell_type": "code",
   "execution_count": null,
   "id": "9750295b-bcc4-4736-a983-9b24b7713fc8",
   "metadata": {},
   "outputs": [],
   "source": [
    "# quanta."
   ]
  },
  {
   "cell_type": "markdown",
   "id": "e14dff77-845a-4e21-b511-a577e6b3c97a",
   "metadata": {},
   "source": [
    "Display the task names for each quantum in quanta to find the one associated with the assembleCoadd task."
   ]
  },
  {
   "cell_type": "code",
   "execution_count": 33,
   "id": "2c75391a-84a4-488f-94ef-2a3cf5bad965",
   "metadata": {},
   "outputs": [
    {
     "name": "stdout",
     "output_type": "stream",
     "text": [
      "0 lsst.pipe.tasks.makeCoaddTempExp.MakeWarpTask\n",
      "1 lsst.pipe.tasks.makeCoaddTempExp.MakeWarpTask\n",
      "2 lsst.pipe.tasks.makeCoaddTempExp.MakeWarpTask\n",
      "3 lsst.pipe.tasks.makeCoaddTempExp.MakeWarpTask\n",
      "4 lsst.pipe.tasks.makeCoaddTempExp.MakeWarpTask\n",
      "5 lsst.pipe.tasks.makeCoaddTempExp.MakeWarpTask\n",
      "6 lsst.pipe.tasks.assembleCoadd.CompareWarpAssembleCoaddTask\n"
     ]
    }
   ],
   "source": [
    "for q, quantum in enumerate(quanta):\n",
    "    print(q, quantum.taskName)"
   ]
  },
  {
   "cell_type": "markdown",
   "id": "a98acfa7-95db-44c7-b0df-2c29b24e37e8",
   "metadata": {},
   "source": [
    "Set `coadd_index` equal to the index for the outputs of `lsst.pipe.tasks.assembleCoadd`.\n",
    "\n",
    "When this tutorial was prepared, the output of the cell above showed that the first six elements of quanta (indices 0 through 5) were the results of makeWarp for the six visits, and then the seventh (index 6) was the results of `assembleCoadd`.\n",
    "\n",
    "This should be the same unless you've changed how many visits are input to the custom coadd.\n",
    "\n",
    "> E.g., `coadd_index = 6`"
   ]
  },
  {
   "cell_type": "code",
   "execution_count": 34,
   "id": "2d02655d-4e33-49ef-8d0d-441ecd4ab414",
   "metadata": {},
   "outputs": [],
   "source": [
    "coadd_index = 6"
   ]
  },
  {
   "cell_type": "markdown",
   "id": "c40a4b06-117c-4cb6-85ca-478412821c24",
   "metadata": {},
   "source": [
    "Option to display information using the `inputs` and `outputs` methods for quanta."
   ]
  },
  {
   "cell_type": "code",
   "execution_count": null,
   "id": "f27a9f02-ad51-45d5-b004-6951b7f45ad7",
   "metadata": {},
   "outputs": [],
   "source": [
    "# quanta[coadd_index].inputs"
   ]
  },
  {
   "cell_type": "code",
   "execution_count": null,
   "id": "1276c9f9-f1d2-40c7-b1ea-7daf23838158",
   "metadata": {},
   "outputs": [],
   "source": [
    "# quanta[coadd_index].outputs"
   ]
  },
  {
   "cell_type": "code",
   "execution_count": 35,
   "id": "b95ac82a-df63-4671-8f57-9c9bdbc6106e",
   "metadata": {},
   "outputs": [
    {
     "name": "stdout",
     "output_type": "stream",
     "text": [
      "DatasetType('deepCoadd', {band, skymap, tract, patch}, ExposureF)\n",
      "DatasetType('assembleCoadd_metadata', {band, skymap, tract, patch}, PropertySet)\n",
      "DatasetType('deepCoadd_inputMap', {band, skymap, tract, patch}, HealSparseMap)\n",
      "DatasetType('assembleCoadd_log', {band, skymap, tract, patch}, ButlerLogRecords)\n"
     ]
    }
   ],
   "source": [
    "for output in quanta[coadd_index].outputs:\n",
    "    print(output)"
   ]
  },
  {
   "cell_type": "markdown",
   "id": "923668a1-9bda-40e9-9fe4-d10cd0d5fa0c",
   "metadata": {},
   "source": [
    "The deepCoadd is the output we're interested in. Notice that it has a DatasetType of ExposureF, so it is the image."
   ]
  },
  {
   "cell_type": "code",
   "execution_count": 36,
   "id": "26a8f2a4-a889-400b-aa0b-4483b9c31fee",
   "metadata": {},
   "outputs": [
    {
     "data": {
      "text/plain": [
       "[DatasetRef(DatasetType('deepCoadd', {band, skymap, tract, patch}, ExposureF), {band: 'i', skymap: 'DC2', tract: 4431, patch: 17})]"
      ]
     },
     "execution_count": 36,
     "metadata": {},
     "output_type": "execute_result"
    }
   ],
   "source": [
    "quanta[coadd_index].outputs['deepCoadd']"
   ]
  },
  {
   "cell_type": "markdown",
   "id": "a3ef617f-03d2-4879-b6cd-a80cb7192c65",
   "metadata": {},
   "source": [
    "From the square brackets, it's a list of just one element. So the DatasetRef for just our new coadd would be:\n",
    "\n",
    "> `quanta[coadd_index].outputs['deepCoadd'][0]`\n",
    "\n",
    "The above output is used in Section 4.2.1, below, to retrieve the new custom coadd image from the simpleButler."
   ]
  },
  {
   "cell_type": "markdown",
   "id": "76d7fbb4-c3a2-4d9f-be5b-9ca91ae0cbc7",
   "metadata": {},
   "source": [
    "### 4.2. The new Coadd\n",
    "\n",
    "#### 4.2.1. Option 1 - use the quanta"
   ]
  },
  {
   "cell_type": "code",
   "execution_count": 41,
   "id": "6ce67ffb-6e78-42a2-91d3-c93af77e3a9a",
   "metadata": {},
   "outputs": [],
   "source": [
    "my_new_deepCoadd = simpleButler.get(quanta[coadd_index].outputs['deepCoadd'][0])"
   ]
  },
  {
   "cell_type": "markdown",
   "id": "08c9f136-c859-44a5-8f20-14edd1ec2ce5",
   "metadata": {},
   "source": [
    "#### 4.2.2. Option 2 - use the dataId\n",
    "\n",
    "The dataId for the deepCoadd of interest was already defined:\n",
    "> `my_dataId = {'band': 'i', 'tract': my_tract, 'patch': my_patch}`\n",
    "\n",
    "Use it to retrieve the newly made Coadd (which is named deepCoadd by default) from the simple butler.\n",
    "\n",
    "So long as you use the simpleButler, it will search the collections in order, and since we made sure that the new collection we just created and wrote to appears first -- as checked in the first cell below -- it will take the deepCoadd from that new collection."
   ]
  },
  {
   "cell_type": "code",
   "execution_count": 39,
   "id": "15c45e5b-9c01-4d9a-acf1-8780ec93b5de",
   "metadata": {},
   "outputs": [
    {
     "data": {
      "text/plain": [
       "CollectionSearch(('u/melissagraham/coadd_recreation_nb/TestWindow1', '2.2i/runs/DP0.2'))"
      ]
     },
     "execution_count": 39,
     "metadata": {},
     "output_type": "execute_result"
    }
   ],
   "source": [
    "# simpleButler.registry.getCollectionChain(my_outputCollection)"
   ]
  },
  {
   "cell_type": "code",
   "execution_count": 40,
   "id": "74e56269-f945-4a69-9931-4b0b63cda199",
   "metadata": {},
   "outputs": [],
   "source": [
    "# my_new_deepCoadd = simpleButler.get('deepCoadd', dataId=my_dataId)"
   ]
  },
  {
   "cell_type": "markdown",
   "id": "86f2e113-1cd4-4dbd-9d91-7e4075417f5c",
   "metadata": {},
   "source": [
    "<br>\n",
    "\n",
    "**A note on accessing your run results in another notebook.**\n",
    "\n",
    "The results have been permanently written to the butler.\n",
    "\n",
    "If you instantiated a new butler in a new notebook: <br>\n",
    "`config = \"dp02\"`<br>\n",
    "`collection = \"u/melissagraham/coadd_recreation_nb/TestWindow1\"`<br>\n",
    "`butler = Butler(config, collections=collection)`<br>\n",
    "\n",
    "Then you would be able to define the dataId in the same way:<br>\n",
    "`my_dataId = {'band': 'i', 'tract': 4431, 'patch': 17}`<br>\n",
    "\n",
    "And retrieve your new deepCoadd with:<br>\n",
    "`my_new_deepCoadd = Butler.get('deepCoadd', dataId=my_dataId)`.\n",
    "\n",
    "In the two code cells above, since we already have our collection in the `simpleButler`, we use it, but it's not the only way."
   ]
  },
  {
   "cell_type": "markdown",
   "id": "40f23100-15af-4e0c-b036-d507eeaffe36",
   "metadata": {},
   "source": [
    "#### 4.2.3. Check the inputs of the new Coadd\n",
    "\n",
    "Check the inputs of my_new_deepCoadd, and compare them with the \"queryString\", and see that they match."
   ]
  },
  {
   "cell_type": "code",
   "execution_count": 42,
   "id": "42a2d904-2c31-4f48-b564-a122978371f4",
   "metadata": {},
   "outputs": [],
   "source": [
    "my_new_deepCoadd_inputs = simpleButler.get(\"deepCoadd.coaddInputs\", my_dataId)"
   ]
  },
  {
   "cell_type": "code",
   "execution_count": 43,
   "id": "971b923c-dc89-41c1-8e79-9b30d2152343",
   "metadata": {},
   "outputs": [
    {
     "data": {
      "text/html": [
       "<div><i>Table length=6</i>\n",
       "<table id=\"table139689246369168\" class=\"table-striped table-bordered table-condensed\">\n",
       "<thead><tr><th>id</th><th>bbox_min_x</th><th>bbox_min_y</th><th>bbox_max_x</th><th>bbox_max_y</th><th>goodpix</th><th>weight</th><th>filter</th></tr></thead>\n",
       "<thead><tr><th></th><th>pix</th><th>pix</th><th>pix</th><th>pix</th><th></th><th></th><th></th></tr></thead>\n",
       "<thead><tr><th>int64</th><th>int32</th><th>int32</th><th>int32</th><th>int32</th><th>int32</th><th>float64</th><th>str32</th></tr></thead>\n",
       "<tr><td>919515</td><td>11900</td><td>7900</td><td>16099</td><td>12099</td><td>8982709</td><td>3.4656688819793495</td><td>i_sim_1.4</td></tr>\n",
       "<tr><td>924057</td><td>11900</td><td>7900</td><td>16099</td><td>12099</td><td>16098179</td><td>4.384267091685517</td><td>i_sim_1.4</td></tr>\n",
       "<tr><td>924085</td><td>11900</td><td>7900</td><td>16099</td><td>12099</td><td>831332</td><td>4.446833161599578</td><td>i_sim_1.4</td></tr>\n",
       "<tr><td>924086</td><td>11900</td><td>7900</td><td>16099</td><td>12099</td><td>16136708</td><td>4.550420295334223</td><td>i_sim_1.4</td></tr>\n",
       "<tr><td>929477</td><td>11900</td><td>7900</td><td>16099</td><td>12099</td><td>16280498</td><td>4.051326013718346</td><td>i_sim_1.4</td></tr>\n",
       "<tr><td>930353</td><td>11900</td><td>7900</td><td>16099</td><td>12099</td><td>16076133</td><td>3.7685753871220466</td><td>i_sim_1.4</td></tr>\n",
       "</table></div>"
      ],
      "text/plain": [
       "<Table length=6>\n",
       "  id   bbox_min_x bbox_min_y ... goodpix        weight         filter \n",
       "          pix        pix     ...                                      \n",
       "int64    int32      int32    ...  int32        float64         str32  \n",
       "------ ---------- ---------- ... -------- ------------------ ---------\n",
       "919515      11900       7900 ...  8982709 3.4656688819793495 i_sim_1.4\n",
       "924057      11900       7900 ... 16098179  4.384267091685517 i_sim_1.4\n",
       "924085      11900       7900 ...   831332  4.446833161599578 i_sim_1.4\n",
       "924086      11900       7900 ... 16136708  4.550420295334223 i_sim_1.4\n",
       "929477      11900       7900 ... 16280498  4.051326013718346 i_sim_1.4\n",
       "930353      11900       7900 ... 16076133 3.7685753871220466 i_sim_1.4"
      ]
     },
     "execution_count": 43,
     "metadata": {},
     "output_type": "execute_result"
    }
   ],
   "source": [
    "my_new_deepCoadd_inputs.visits.asAstropy()"
   ]
  },
  {
   "cell_type": "markdown",
   "id": "a42df602-9d76-4419-9fef-25bd3fc9e874",
   "metadata": {},
   "source": [
    "#### 4.2.4. Display the new Coadd"
   ]
  },
  {
   "cell_type": "code",
   "execution_count": 44,
   "id": "9c4f7bb6-61ad-42d5-beab-1e09a1537864",
   "metadata": {},
   "outputs": [
    {
     "data": {
      "text/plain": [
       "(11899.5, 16099.5, 7899.5, 12099.5)"
      ]
     },
     "execution_count": 44,
     "metadata": {},
     "output_type": "execute_result"
    },
    {
     "data": {
      "image/png": "[encoded data removed]",
      "text/plain": [
       "<Figure size 720x432 with 2 Axes>"
      ]
     },
     "metadata": {
      "needs_background": "light"
     },
     "output_type": "display_data"
    }
   ],
   "source": [
    "fig = plt.figure(figsize=(10, 6))\n",
    "afw_display = afwDisplay.Display(1)\n",
    "afw_display.scale('asinh', 'zscale')\n",
    "afw_display.mtv(my_new_deepCoadd.image)\n",
    "plt.gca().axis('off')"
   ]
  },
  {
   "cell_type": "markdown",
   "id": "1290081e-24b6-404b-82d3-4fc77fac0f0c",
   "metadata": {},
   "source": [
    "#### 4.2.5. Retrieve the configurations for the run\n",
    "\n",
    "In this example, only one configuration parameter was changed from the default values. This was in Section 3.4 where we set:\n",
    "`assembleCoaddPipeline.addConfigOverride('makeWarp', 'doApplyFinalizedPsf', False)`.\n",
    "\n",
    "The configurations can be retrieved for the in `simpleButler` with the following calls."
   ]
  },
  {
   "cell_type": "code",
   "execution_count": 47,
   "id": "ae64cd5a-ca9b-4025-bf4e-3f3b277feb44",
   "metadata": {},
   "outputs": [],
   "source": [
    "my_makeWarp_config = simpleButler.get(\"makeWarp_config\", my_dataId)"
   ]
  },
  {
   "cell_type": "code",
   "execution_count": 48,
   "id": "50637d6b-a52d-420c-b62e-5786194e2049",
   "metadata": {},
   "outputs": [],
   "source": [
    "my_assembleCoadd_config = simpleButler.get(\"assembleCoadd_config\", my_dataId)"
   ]
  },
  {
   "cell_type": "markdown",
   "id": "70713694-fe6d-4ecc-92d3-04038645ff58",
   "metadata": {},
   "source": [
    "Optional: print all of the keys and values for each pipeline tasks's configuration."
   ]
  },
  {
   "cell_type": "code",
   "execution_count": 51,
   "id": "9ff7a2d1-10c2-4b1d-bc98-51de42723a5f",
   "metadata": {},
   "outputs": [],
   "source": [
    "# for key, value in my_makeWarp_config.items():\n",
    "#     print(key, value)"
   ]
  },
  {
   "cell_type": "code",
   "execution_count": 52,
   "id": "ee7fcec3-e0ae-4bf3-8290-6b0627cd3abb",
   "metadata": {},
   "outputs": [],
   "source": [
    "# for key, value in my_assembleCoadd_config.items():\n",
    "#     print(key, value)"
   ]
  },
  {
   "cell_type": "markdown",
   "id": "e00e18d6-8b03-4d54-a8c8-11ef1152d5cc",
   "metadata": {},
   "source": [
    "## 5. Rerun source detection and measurement\n",
    "\n",
    "> **Help Question:** Working this out in **explore_source_measurement_coadd.ipynb**.\n",
    "\n"
   ]
  },
  {
   "cell_type": "code",
   "execution_count": null,
   "id": "137299dc-dbe1-448d-8179-7c1218c3a7aa",
   "metadata": {},
   "outputs": [],
   "source": []
  },
  {
   "cell_type": "code",
   "execution_count": null,
   "id": "753aab73-87b8-400e-9cf0-4890b417c6f0",
   "metadata": {},
   "outputs": [],
   "source": []
  },
  {
   "cell_type": "markdown",
   "id": "3990fb27-a4a1-4ada-94db-b265a2b87417",
   "metadata": {},
   "source": [
    "## 6. Exercises for the learner\n",
    "\n",
    "### 6.1. Create a coadd for date Window2.\n",
    "\n",
    "### 6.2. Use airmass constraints instead of MJD to identify the subset of visits to coadd.\n",
    "\n",
    "> Hint: use \n",
    "> `my_coadd_visits_airmass = visitTable.loc[my_coadd_inputs.visits['id']]['airmass']`"
   ]
  },
  {
   "cell_type": "markdown",
   "id": "b078e2da-ad96-4594-bfca-31dcaeaa961c",
   "metadata": {},
   "source": [
    "## 7. Known Limitations\n",
    "\n",
    "1. In order to make multiple different deepCoadds, e.g., one per week over a multi-week period, the user needs to repeat the process starting with making the simpleButler. Each new deepCoadd would be stored with the same name, \"deepCoadd\", but with a different Butler collection timestamp. The user would be able to tell which new deepCoadd was composed of which visits using the \".coaddInputs\" as above."
   ]
  },
  {
   "cell_type": "code",
   "execution_count": null,
   "id": "aa227f57-335e-4735-a916-1ed7c83c7d09",
   "metadata": {},
   "outputs": [],
   "source": []
  }
 ],
 "metadata": {
  "kernelspec": {
   "display_name": "LSST",
   "language": "python",
   "name": "lsst"
  },
  "language_info": {
   "codemirror_mode": {
    "name": "ipython",
    "version": 3
   },
   "file_extension": ".py",
   "mimetype": "text/x-python",
   "name": "python",
   "nbconvert_exporter": "python",
   "pygments_lexer": "ipython3",
   "version": "3.10.5"
  }
 },
 "nbformat": 4,
 "nbformat_minor": 5
}
