{
 "cells": [
  {
   "cell_type": "markdown",
   "id": "9cd32b73-9795-491b-8c4f-d324d3d1395c",
   "metadata": {},
   "source": [
    "# Explore how to read the new DESC truth tables in parquet format"
   ]
  },
  {
   "cell_type": "markdown",
   "id": "d756e879-8c46-4e37-96fd-431cc01dcd87",
   "metadata": {},
   "source": [
    "Jim Chiang put the enhanced truth tables in `/project` for us:\n",
    " - `/project/jchiang/Run2.2i/truth/` contains\n",
    "   - `SNe/truth_sn_summary_v1-0-0.parquet`\n",
    "   - `SNe/truth_sn_variability_v1-0-0.parquet`\n",
    "   - `stars/truth_star_summary_v1-0-0.parquet`\n",
    "   - `stars/truth_star_variability_v1-0-0.parquet`\n",
    "\n",
    "\n",
    "\n",
    "Set up."
   ]
  },
  {
   "cell_type": "code",
   "execution_count": 1,
   "id": "c8bc532d-b33f-4c26-b9fe-479f0b31292a",
   "metadata": {},
   "outputs": [],
   "source": [
    "import numpy as np\n",
    "import time"
   ]
  },
  {
   "cell_type": "markdown",
   "id": "6ce7569f-0b26-426f-871a-dbe669dfa33b",
   "metadata": {},
   "source": [
    "## GCRCatalogs -- couldn't get it set up\n",
    "\n",
    "Also not sure the db files are GCRCatalog-accessible..."
   ]
  },
  {
   "cell_type": "code",
   "execution_count": 2,
   "id": "fbe8af87-fa3c-4f3e-b976-2abb57ca398f",
   "metadata": {},
   "outputs": [],
   "source": [
    "import GCRCatalogs\n",
    "from GCRCatalogs.helpers.tract_catalogs import tract_filter, sample_filter\n",
    "from GCRCatalogs import GCRQuery"
   ]
  },
  {
   "cell_type": "code",
   "execution_count": 4,
   "id": "6d0867bf-d5ec-4943-bc77-71782c63c8f0",
   "metadata": {},
   "outputs": [
    {
     "data": {
      "text/plain": [
       "'/project/jchiang/Run2.2i/truth/'"
      ]
     },
     "execution_count": 4,
     "metadata": {},
     "output_type": "execute_result"
    }
   ],
   "source": [
    "GCRCatalogs.get_root_dir()"
   ]
  },
  {
   "cell_type": "code",
   "execution_count": 5,
   "id": "af503f7e-025e-43d9-8fc4-0c1abe0a8c73",
   "metadata": {},
   "outputs": [
    {
     "data": {
      "text/plain": [
       "['desc_cosmodc2',\n",
       " 'desc_dc2_run2.2i_dr6_object',\n",
       " 'desc_dc2_run2.2i_dr6_object_with_truth_match',\n",
       " 'desc_dc2_run2.2i_dr6_truth',\n",
       " 'desc_dc2_run2.2i_truth_galaxy_summary',\n",
       " 'desc_dc2_run2.2i_truth_sn_summary',\n",
       " 'desc_dc2_run2.2i_truth_sn_variability',\n",
       " 'desc_dc2_run2.2i_truth_star_summary',\n",
       " 'desc_dc2_run2.2i_truth_star_variability']"
      ]
     },
     "execution_count": 5,
     "metadata": {},
     "output_type": "execute_result"
    }
   ],
   "source": [
    "GCRCatalogs.get_public_catalog_names()"
   ]
  },
  {
   "cell_type": "code",
   "execution_count": null,
   "id": "80c4106c-1c56-40c5-820d-25c66352fb0d",
   "metadata": {},
   "outputs": [],
   "source": [
    "# obj_cat = GCRCatalogs.load_catalog(\"truth_sn_summary_v1-0-0.db\")"
   ]
  },
  {
   "cell_type": "markdown",
   "id": "d25d600a-bd40-4201-b2c1-fc7a2b889c55",
   "metadata": {},
   "source": [
    "## Spark -- couldn't get it set up\n",
    "\n",
    "`Spark`, and in particular `pyspark`, can be used to apply SQL queries directly to parquet tables.\n",
    " - https://spark.apache.org/docs/latest/sql-getting-started.html\n",
    " - https://spark.apache.org/docs/latest/sql-data-sources-parquet.html\n",
    " \n",
    "However, while `pyspark` is easy enough to `pip install`, it requires java and some other stuff in order to run in a notebook. E.g.,\n",
    " - https://sparkbyexamples.com/pyspark/install-pyspark-in-anaconda-jupyter-notebook/\n",
    " - https://opensource.com/article/18/11/pyspark-jupyter-notebook\n",
    " \n",
    "And it was the java installation that seemed too much to expect of users.\n",
    "\n",
    "JAVA_HOME being undefined was the error."
   ]
  },
  {
   "cell_type": "code",
   "execution_count": null,
   "id": "89a8df66-3de1-49a4-a5d3-75f642dffdb0",
   "metadata": {},
   "outputs": [],
   "source": [
    "# from pyspark.sql import SparkSession\n",
    "# spark = SparkSession.builder.appName('Ops').getOrCreate()"
   ]
  },
  {
   "cell_type": "markdown",
   "id": "52129f89-aae4-4d6c-834b-a8cabbdd0551",
   "metadata": {},
   "source": [
    "## Try with pandas\n",
    "\n",
    "SN table small enough to reqd in whole.\n",
    "\n",
    "Jeff showed in his NB that reading even one column of the variable star table taks 15 min."
   ]
  },
  {
   "cell_type": "code",
   "execution_count": null,
   "id": "4932d6c3-c0e4-487d-969c-9b90161362c2",
   "metadata": {},
   "outputs": [],
   "source": [
    "import pandas as pd"
   ]
  },
  {
   "cell_type": "code",
   "execution_count": null,
   "id": "75503e47-f7d9-4d86-9488-f133dc9ca001",
   "metadata": {},
   "outputs": [],
   "source": [
    "pfnm = '/project/jchiang/Run2.2i/truth/SNe/truth_sn_summary_v1-0-0.parquet'"
   ]
  },
  {
   "cell_type": "code",
   "execution_count": null,
   "id": "de148194-c081-405b-a5fc-c484e4438cd8",
   "metadata": {},
   "outputs": [],
   "source": [
    "result = pd.read_parquet(pfnm)"
   ]
  },
  {
   "cell_type": "code",
   "execution_count": null,
   "id": "d0e58693-35ab-4995-bf79-8b92aced90e9",
   "metadata": {},
   "outputs": [],
   "source": [
    "result"
   ]
  },
  {
   "cell_type": "code",
   "execution_count": null,
   "id": "bfa75d18-bf5b-4631-abae-eb7922b0f9d3",
   "metadata": {},
   "outputs": [],
   "source": [
    "tx = np.where((result['t0'] > 60770) & (result['t0'] < 60780))[0]"
   ]
  },
  {
   "cell_type": "code",
   "execution_count": null,
   "id": "341da48b-60fe-466b-b2c6-6211fda5a8da",
   "metadata": {},
   "outputs": [],
   "source": [
    "print(len(tx))"
   ]
  },
  {
   "cell_type": "code",
   "execution_count": null,
   "id": "d2a6d50d-d355-4bc2-ab4f-e6fc6aa32f04",
   "metadata": {},
   "outputs": [],
   "source": [
    "del result, tx"
   ]
  },
  {
   "cell_type": "markdown",
   "id": "a90c7eff-9efc-46b9-afb5-18b49eaef813",
   "metadata": {},
   "source": [
    "## Try with pyarrow"
   ]
  },
  {
   "cell_type": "code",
   "execution_count": null,
   "id": "47a8f8cc-9d36-4164-8bee-a7f61637793c",
   "metadata": {},
   "outputs": [],
   "source": [
    "import pyarrow.parquet as pq"
   ]
  },
  {
   "cell_type": "code",
   "execution_count": null,
   "id": "e0fc91a6-bdb5-4783-9f4c-1e814bed880a",
   "metadata": {},
   "outputs": [],
   "source": [
    "result = pq.read_table(pfnm, columns=['ra', 'dec']).to_pandas()"
   ]
  },
  {
   "cell_type": "code",
   "execution_count": null,
   "id": "6b68011e-04f3-48d8-8e7e-6aff67886d18",
   "metadata": {},
   "outputs": [],
   "source": [
    "result"
   ]
  },
  {
   "cell_type": "code",
   "execution_count": null,
   "id": "bffe0399-248f-46e8-aa43-2b0020003cf8",
   "metadata": {},
   "outputs": [],
   "source": [
    "del result"
   ]
  },
  {
   "cell_type": "markdown",
   "id": "f005b79f-ca02-49ab-9a9f-9913387de019",
   "metadata": {},
   "source": [
    "The above works fine, because the SN table is short. The following is not even possible."
   ]
  },
  {
   "cell_type": "code",
   "execution_count": null,
   "id": "63c07f4f-727d-40db-b644-5af20aeb5e9e",
   "metadata": {},
   "outputs": [],
   "source": [
    "pfnm = '/project/jchiang/Run2.2i/truth/stars/truth_star_variability_v1-0-0.parquet'"
   ]
  },
  {
   "cell_type": "code",
   "execution_count": null,
   "id": "f91d0cad-e41e-4929-899d-e38283222b69",
   "metadata": {},
   "outputs": [],
   "source": [
    "%%time\n",
    "result = pq.read_table(pfnm, columns=['id']).to_pandas()"
   ]
  },
  {
   "cell_type": "code",
   "execution_count": null,
   "id": "a46a7004-5fb8-4bf8-8718-834895ccb8ad",
   "metadata": {},
   "outputs": [],
   "source": []
  }
 ],
 "metadata": {
  "kernelspec": {
   "display_name": "LSST",
   "language": "python",
   "name": "lsst"
  },
  "language_info": {
   "codemirror_mode": {
    "name": "ipython",
    "version": 3
   },
   "file_extension": ".py",
   "mimetype": "text/x-python",
   "name": "python",
   "nbconvert_exporter": "python",
   "pygments_lexer": "ipython3",
   "version": "3.10.5"
  }
 },
 "nbformat": 4,
 "nbformat_minor": 5
}
