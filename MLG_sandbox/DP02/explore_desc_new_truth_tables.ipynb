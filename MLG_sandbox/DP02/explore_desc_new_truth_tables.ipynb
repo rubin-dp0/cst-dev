{
 "cells": [
  {
   "cell_type": "markdown",
   "id": "9cd32b73-9795-491b-8c4f-d324d3d1395c",
   "metadata": {},
   "source": [
    "# Extended DESC truth tables in parquet format\n",
    "\n",
    "Contact authors: Jeff Carlin and Melissa Graham\n",
    "\n",
    "Last verified to run on 2022-10-27 with Weekly 40.\n",
    "\n",
    "Container size: large"
   ]
  },
  {
   "cell_type": "markdown",
   "id": "d756e879-8c46-4e37-96fd-431cc01dcd87",
   "metadata": {},
   "source": [
    "## 1.0. Introduction\n",
    "\n",
    "Jim Chiang has put additional truth tables in `/project` for DP0 delegates:\n",
    " - `/project/jchiang/Run2.2i/truth/` contains\n",
    "   - `SNe/truth_sn_summary_v1-0-0.parquet` (46M)\n",
    "   - `SNe/truth_sn_variability_v1-0-0.parquet` (247M)\n",
    "   - `stars/truth_star_summary_v1-0-0.parquet` (211M)\n",
    "   - `stars/truth_star_variability_v1-0-0.parquet` (5.3G)\n",
    "\n",
    "This notebook demonstrates how to retreive data from these files.\n",
    "\n",
    "> **Warning:** the truth star variability file, at 5.3 G, is too large to be read in full. As demonstrated in Section 2, it takes about 15-20 seconds to retrieve the full simulated light curve for a single star. \n",
    "Use the `truth_star_variability` file with care to **avoid crashing the kernel**.\n",
    "\n",
    "For files small enough to be read in full, use the `pandas` package and read it all into a dataframe.\n",
    "\n",
    "For the large file of truth star variability, users have the option of using `pyarrow` (Section 2.2) or `dask` (Section 2.3) for retrieving variability data for a single star, and converting it into a `pandas` dataframe.\n",
    "\n",
    "> **Notice:** these truth tables have not been (and will not be) cross-matched to the DP0.2 DiaObject table, but this notebook demonstrates how users can cross-match their objects of interest with these truth tables.\n",
    "\n",
    "### 1.1. Import packages."
   ]
  },
  {
   "cell_type": "code",
   "execution_count": 2,
   "id": "c8bc532d-b33f-4c26-b9fe-479f0b31292a",
   "metadata": {},
   "outputs": [],
   "source": [
    "import numpy as np\n",
    "import matplotlib.pyplot as plt\n",
    "import time, gc\n",
    "import pandas as pd\n",
    "import pyarrow.parquet as pq\n",
    "import dask.dataframe as dd"
   ]
  },
  {
   "cell_type": "markdown",
   "id": "33a6d262-9ded-41d1-981f-ac111571a2e9",
   "metadata": {},
   "source": [
    "## 2.0. Stars"
   ]
  },
  {
   "cell_type": "code",
   "execution_count": null,
   "id": "2024bca9-4cd3-470a-9bca-16ff2646cee4",
   "metadata": {},
   "outputs": [],
   "source": [
    "pfnm_star_sum = '/project/jchiang/Run2.2i/truth/stars/truth_star_summary_v1-0-0.parquet'\n",
    "pfnm_star_var = '/project/jchiang/Run2.2i/truth/stars/truth_star_variability_v1-0-0.parquet'"
   ]
  },
  {
   "cell_type": "markdown",
   "id": "b438cb98-5179-46ca-b713-683388950bbd",
   "metadata": {},
   "source": [
    "The star summary file, at 211 M, is small enough to be read in entirely with `pandas`.\n",
    "\n",
    "Attempted to use `pd.read_parquet` with the star variability file (5.3 G) will crash the kernel."
   ]
  },
  {
   "cell_type": "code",
   "execution_count": null,
   "id": "16d37271-f6e1-45c0-b915-89d7fa3f9bb6",
   "metadata": {},
   "outputs": [],
   "source": [
    "%%time\n",
    "result_star_sum = pd.read_parquet(pfnm_star_sum)"
   ]
  },
  {
   "cell_type": "markdown",
   "id": "f3dc1d3b-e51b-4b6a-acce-a94b42019f9b",
   "metadata": {},
   "source": [
    "**Option** to view the star summary table."
   ]
  },
  {
   "cell_type": "code",
   "execution_count": null,
   "id": "59fb479a-323e-48d5-aa14-b8e01cc27633",
   "metadata": {},
   "outputs": [],
   "source": [
    "# result_star_sum"
   ]
  },
  {
   "cell_type": "markdown",
   "id": "c2cc670f-d059-473a-91d1-d961b226c916",
   "metadata": {},
   "source": [
    "### 2.1. Identify a single true star of interest\n",
    "\n",
    "Use `numpy.unique` to figure out how many differet variable star types there are."
   ]
  },
  {
   "cell_type": "code",
   "execution_count": null,
   "id": "73109ce8-0004-4e63-9f42-da0d9821b3b9",
   "metadata": {},
   "outputs": [],
   "source": [
    "unique_models, counts_models = np.unique(result_star_sum['model'], return_counts=True)\n",
    "for u in range(len(unique_models)):\n",
    "    print(u, unique_models[u], counts_models[u])"
   ]
  },
  {
   "cell_type": "markdown",
   "id": "70a5e969-a388-455e-8cad-0e235454278c",
   "metadata": {},
   "source": [
    "Use `tx` to index all 211 of the RR Lyrae stars. Print the `id`, `ra`, and `dec` of a random RR Lyrae."
   ]
  },
  {
   "cell_type": "code",
   "execution_count": null,
   "id": "72c3c11e-7d20-4481-9843-baf60c42ee70",
   "metadata": {},
   "outputs": [],
   "source": [
    "tx = np.where(result_star_sum['model'][:] == 'applyRRly')[0]\n",
    "ri = np.random.choice(tx, size=1)\n",
    "print(result_star_sum['id'][ri[0]], \\\n",
    "      result_star_sum['ra'][ri[0]], \\\n",
    "      result_star_sum['dec'][ri[0]])\n",
    "del tx, ri"
   ]
  },
  {
   "cell_type": "markdown",
   "id": "ad930aa0-90ee-4715-a1f0-cc45e8e1da10",
   "metadata": {},
   "source": [
    "If all we had was an RA and Dec that we got by, for example, identifying a `DiaObject` that we thought might be an RR Lyrae, we could find the `id` in the star summary table.\n",
    "\n",
    "For this example, use RA = 72.5850633 and Dec = -44.6386746."
   ]
  },
  {
   "cell_type": "code",
   "execution_count": null,
   "id": "69ada608-29ee-4700-8f0d-4a3ee5a33323",
   "metadata": {},
   "outputs": [],
   "source": [
    "my_star_ra = 72.5850633\n",
    "my_star_dec = -44.6386746"
   ]
  },
  {
   "cell_type": "code",
   "execution_count": null,
   "id": "00e44850-2079-491e-b92f-efb29477c4d1",
   "metadata": {},
   "outputs": [],
   "source": [
    "tx = np.where((np.abs(result_star_sum['ra'] - my_star_ra) < 2.0/3600.)\n",
    "              & (np.abs(result_star_sum['dec'] - my_star_dec) < 2.0/3600.))[0]\n",
    "if(len(tx) == 1):\n",
    "    print('Unique match identified within 2 arcseconds.')\n",
    "    print(result_star_sum['id'][tx[0]], \\\n",
    "          result_star_sum['ra'][tx[0]], \\\n",
    "          result_star_sum['dec'][tx[0]])\n",
    "else:\n",
    "    print('Number of matches: ', len(tx))\n",
    "del tx"
   ]
  },
  {
   "cell_type": "markdown",
   "id": "8b96ca23-74c0-4550-b543-a0ea95e2f021",
   "metadata": {},
   "source": [
    "Clean up."
   ]
  },
  {
   "cell_type": "code",
   "execution_count": null,
   "id": "bc24c699-b9ba-4273-ba9d-266e07d82513",
   "metadata": {},
   "outputs": [],
   "source": [
    "del result_star_sum, my_star_ra, my_star_dec\n",
    "gc.collect()"
   ]
  },
  {
   "cell_type": "markdown",
   "id": "a2211840-e561-459d-b170-65ac37aea050",
   "metadata": {},
   "source": [
    "### 2.2. Use `pyarrow` to retrieve the true light curve\n",
    "\n",
    "Use `pyarrow` to retrieve the  true variability (true light curve) for this one RR Lyrae of interest, with `id` = 836896.\n",
    "\n",
    "Read the parquet table and only retrieve rows where `id` = 836896. This takes about 10 seconds."
   ]
  },
  {
   "cell_type": "code",
   "execution_count": null,
   "id": "83267c64-7c06-4fdd-9bc5-8bcfab07980b",
   "metadata": {},
   "outputs": [],
   "source": [
    "%%time\n",
    "result = pq.read_table(pfnm_star_var, use_threads=True,\n",
    "                         filters=[('id', '==', 836896)])"
   ]
  },
  {
   "cell_type": "markdown",
   "id": "80dee140-eb9e-473c-97ff-70cfd1449a30",
   "metadata": {},
   "source": [
    "Convert the result ot a pandas dataframe, `df`. This takes <1 second."
   ]
  },
  {
   "cell_type": "code",
   "execution_count": null,
   "id": "1c501dc3-3b5c-4131-83f6-8b616eb79b51",
   "metadata": {},
   "outputs": [],
   "source": [
    "%%time\n",
    "df = result.to_pandas()"
   ]
  },
  {
   "cell_type": "markdown",
   "id": "2fce9bce-727b-4d46-9157-c27a3c0de626",
   "metadata": {},
   "source": [
    "**Option** to show the dataframe."
   ]
  },
  {
   "cell_type": "code",
   "execution_count": null,
   "id": "3a4b2cea-de1a-4aa2-b9e6-3ea6bca08cbf",
   "metadata": {},
   "outputs": [],
   "source": [
    "# df"
   ]
  },
  {
   "cell_type": "markdown",
   "id": "e8331823-2383-4841-b6a3-76c9736cec76",
   "metadata": {},
   "source": [
    "Plot the g, r, and i-band `delta_flux` values."
   ]
  },
  {
   "cell_type": "code",
   "execution_count": null,
   "id": "5a3207dd-4cff-41d7-ba8f-8d1e166e78e4",
   "metadata": {},
   "outputs": [],
   "source": [
    "gx = df['bandpass'][:] == 'g'\n",
    "rx = df['bandpass'][:] == 'r'\n",
    "ix = df['bandpass'][:] == 'i'\n",
    "plt.plot(df['MJD'][gx], df['delta_flux'][gx], \\\n",
    "         'o', ms=3, mew=0, alpha=0.3, color='darkgreen')\n",
    "plt.plot(df['MJD'][rx], df['delta_flux'][rx], \\\n",
    "         'o', ms=3, mew=0, alpha=0.3, color='darkorange')\n",
    "plt.plot(df['MJD'][ix], df['delta_flux'][ix], \\\n",
    "         'o', ms=3, mew=0, alpha=0.3, color='black')\n",
    "plt.show()\n",
    "del gx, rx, ix"
   ]
  },
  {
   "cell_type": "code",
   "execution_count": null,
   "id": "63214b81-404c-463e-a5b3-0859bd9de540",
   "metadata": {},
   "outputs": [],
   "source": [
    "del result, df\n",
    "gc.collect()"
   ]
  },
  {
   "cell_type": "markdown",
   "id": "4fbf38dd-5218-46ad-9d93-26633f15a079",
   "metadata": {},
   "source": [
    "### 2.3. Use `dask` to retrieve the true light curve\n",
    "\n",
    "Use `dask` to retrieve the  true variability (true light curve) for this one RR Lyrae of interest, with `id` = 836896.\n",
    "\n",
    "**Option** to read the parquet file and view what `dd.read_parquet` returns. Note that it is the structure of the dataframe, NOT a dataframe filled with values."
   ]
  },
  {
   "cell_type": "code",
   "execution_count": null,
   "id": "91167569-4833-4b22-8ee1-7f4fc7daa724",
   "metadata": {},
   "outputs": [],
   "source": [
    "# %%time\n",
    "# result = dd.read_parquet(pfnm_star_var)\n",
    "# result\n",
    "# del result"
   ]
  },
  {
   "cell_type": "markdown",
   "id": "1a38040f-5240-4892-9c22-b10b463a1529",
   "metadata": {},
   "source": [
    "Read the parquet table and only retrieve rows where `id` = 836896. This takes <1 second."
   ]
  },
  {
   "cell_type": "code",
   "execution_count": null,
   "id": "c46acec9-fcc8-40f0-be9b-764513e1b021",
   "metadata": {},
   "outputs": [],
   "source": [
    "%%time\n",
    "result = dd.read_parquet(pfnm_star_var, filters = [('id', '==', 836896)])"
   ]
  },
  {
   "cell_type": "markdown",
   "id": "a651bb75-b182-442b-8d8d-d30e43a1ea8e",
   "metadata": {},
   "source": [
    "Convert the result into a `pandas` dataframe. This takes up to 15 seconds."
   ]
  },
  {
   "cell_type": "code",
   "execution_count": null,
   "id": "78752e78-478d-41b7-9907-ab97c1413d8c",
   "metadata": {},
   "outputs": [],
   "source": [
    "%%time\n",
    "df = result.compute()"
   ]
  },
  {
   "cell_type": "markdown",
   "id": "8db861ac-7059-47e3-98ae-6d1b5e30b145",
   "metadata": {},
   "source": [
    "**Option** to show the `pandas` dataframe."
   ]
  },
  {
   "cell_type": "code",
   "execution_count": null,
   "id": "e3e984d0-a91d-4125-9a20-a1230fbeb0ec",
   "metadata": {},
   "outputs": [],
   "source": [
    "# df"
   ]
  },
  {
   "cell_type": "markdown",
   "id": "016646aa-27d2-45dc-ad25-45af2fddbda0",
   "metadata": {},
   "source": [
    "Plot the g, r, and i-band `delta_flux` values."
   ]
  },
  {
   "cell_type": "code",
   "execution_count": null,
   "id": "34ad50e3-bec1-4cdb-8fc0-5137e722966d",
   "metadata": {},
   "outputs": [],
   "source": [
    "gx = df['bandpass'][:] == 'g'\n",
    "rx = df['bandpass'][:] == 'r'\n",
    "ix = df['bandpass'][:] == 'i'\n",
    "plt.plot(df['MJD'][gx], df['delta_flux'][gx], \\\n",
    "         'o', ms=3, mew=0, alpha=0.3, color='darkgreen')\n",
    "plt.plot(df['MJD'][rx], df['delta_flux'][rx], \\\n",
    "         'o', ms=3, mew=0, alpha=0.3, color='darkorange')\n",
    "plt.plot(df['MJD'][ix], df['delta_flux'][ix], \\\n",
    "         'o', ms=3, mew=0, alpha=0.3, color='black')\n",
    "plt.show()\n",
    "del gx, rx, ix"
   ]
  },
  {
   "cell_type": "code",
   "execution_count": null,
   "id": "e8a32325-5810-4204-be18-379ffe3ba706",
   "metadata": {},
   "outputs": [],
   "source": [
    "del result, df\n",
    "gc.collect()"
   ]
  },
  {
   "cell_type": "markdown",
   "id": "6c8ceb0b-a8c7-410a-8a83-8dc276540286",
   "metadata": {},
   "source": [
    "## 3.0. Supernovae"
   ]
  },
  {
   "cell_type": "code",
   "execution_count": 3,
   "id": "7f2ee2e8-69b0-49c5-a2ea-3db493f890c4",
   "metadata": {},
   "outputs": [],
   "source": [
    "pfnm_sn_sum = '/project/jchiang/Run2.2i/truth/SNe/truth_sn_summary_v1-0-0.parquet'\n",
    "pfnm_sn_var = '/project/jchiang/Run2.2i/truth/SNe/truth_sn_variability_v1-0-0.parquet'"
   ]
  },
  {
   "cell_type": "code",
   "execution_count": 4,
   "id": "cb53f6e6-8fde-4369-9b86-7ab73ef7c260",
   "metadata": {},
   "outputs": [
    {
     "name": "stdout",
     "output_type": "stream",
     "text": [
      "CPU times: user 254 ms, sys: 218 ms, total: 472 ms\n",
      "Wall time: 475 ms\n"
     ]
    }
   ],
   "source": [
    "%%time\n",
    "result_sn_sum = pd.read_parquet(pfnm_sn_sum)"
   ]
  },
  {
   "cell_type": "code",
   "execution_count": 5,
   "id": "fa8ba7ee-9359-4881-aa3c-06e140005ed9",
   "metadata": {},
   "outputs": [
    {
     "data": {
      "text/html": [
       "<div>\n",
       "<style scoped>\n",
       "    .dataframe tbody tr th:only-of-type {\n",
       "        vertical-align: middle;\n",
       "    }\n",
       "\n",
       "    .dataframe tbody tr th {\n",
       "        vertical-align: top;\n",
       "    }\n",
       "\n",
       "    .dataframe thead th {\n",
       "        text-align: right;\n",
       "    }\n",
       "</style>\n",
       "<table border=\"1\" class=\"dataframe\">\n",
       "  <thead>\n",
       "    <tr style=\"text-align: right;\">\n",
       "      <th></th>\n",
       "      <th>id_string</th>\n",
       "      <th>host_galaxy</th>\n",
       "      <th>ra</th>\n",
       "      <th>dec</th>\n",
       "      <th>redshift</th>\n",
       "      <th>c</th>\n",
       "      <th>mB</th>\n",
       "      <th>t0</th>\n",
       "      <th>x0</th>\n",
       "      <th>x1</th>\n",
       "      <th>id</th>\n",
       "      <th>av</th>\n",
       "      <th>rv</th>\n",
       "      <th>max_flux_u</th>\n",
       "      <th>max_flux_g</th>\n",
       "      <th>max_flux_r</th>\n",
       "      <th>max_flux_i</th>\n",
       "      <th>max_flux_z</th>\n",
       "      <th>max_flux_y</th>\n",
       "    </tr>\n",
       "  </thead>\n",
       "  <tbody>\n",
       "    <tr>\n",
       "      <th>0</th>\n",
       "      <td>MS_10199_0</td>\n",
       "      <td>10562502111</td>\n",
       "      <td>66.115587</td>\n",
       "      <td>-40.866055</td>\n",
       "      <td>0.077278</td>\n",
       "      <td>0.035201</td>\n",
       "      <td>18.516489</td>\n",
       "      <td>60772.368515</td>\n",
       "      <td>6.173744e-04</td>\n",
       "      <td>1.477374</td>\n",
       "      <td>10816002161686</td>\n",
       "      <td>0.096224</td>\n",
       "      <td>3.1</td>\n",
       "      <td>NaN</td>\n",
       "      <td>NaN</td>\n",
       "      <td>NaN</td>\n",
       "      <td>NaN</td>\n",
       "      <td>6543.662109</td>\n",
       "      <td>70800.187500</td>\n",
       "    </tr>\n",
       "    <tr>\n",
       "      <th>1</th>\n",
       "      <td>MS_10199_1</td>\n",
       "      <td>10562500822</td>\n",
       "      <td>66.662435</td>\n",
       "      <td>-42.042877</td>\n",
       "      <td>0.073256</td>\n",
       "      <td>-0.086665</td>\n",
       "      <td>17.966773</td>\n",
       "      <td>63060.297448</td>\n",
       "      <td>1.027672e-03</td>\n",
       "      <td>0.576378</td>\n",
       "      <td>10816000841750</td>\n",
       "      <td>0.081817</td>\n",
       "      <td>3.1</td>\n",
       "      <td>NaN</td>\n",
       "      <td>17351.597656</td>\n",
       "      <td>NaN</td>\n",
       "      <td>70927.117188</td>\n",
       "      <td>55145.105469</td>\n",
       "      <td>94845.875000</td>\n",
       "    </tr>\n",
       "    <tr>\n",
       "      <th>2</th>\n",
       "      <td>MS_10199_2</td>\n",
       "      <td>10562500735</td>\n",
       "      <td>65.212146</td>\n",
       "      <td>-41.416473</td>\n",
       "      <td>0.068469</td>\n",
       "      <td>0.037553</td>\n",
       "      <td>19.078334</td>\n",
       "      <td>62832.166508</td>\n",
       "      <td>3.703208e-04</td>\n",
       "      <td>-0.177457</td>\n",
       "      <td>10816000752662</td>\n",
       "      <td>0.071639</td>\n",
       "      <td>3.1</td>\n",
       "      <td>2589.770752</td>\n",
       "      <td>73588.171875</td>\n",
       "      <td>39960.710938</td>\n",
       "      <td>49958.871094</td>\n",
       "      <td>35685.750000</td>\n",
       "      <td>47779.726562</td>\n",
       "    </tr>\n",
       "    <tr>\n",
       "      <th>3</th>\n",
       "      <td>MS_10199_3</td>\n",
       "      <td>10562502246</td>\n",
       "      <td>65.469824</td>\n",
       "      <td>-41.109646</td>\n",
       "      <td>0.080189</td>\n",
       "      <td>0.076715</td>\n",
       "      <td>19.192019</td>\n",
       "      <td>61400.008116</td>\n",
       "      <td>3.348096e-04</td>\n",
       "      <td>-1.344205</td>\n",
       "      <td>10816002299926</td>\n",
       "      <td>0.108552</td>\n",
       "      <td>3.1</td>\n",
       "      <td>10282.806641</td>\n",
       "      <td>25551.062500</td>\n",
       "      <td>72298.148438</td>\n",
       "      <td>55859.316406</td>\n",
       "      <td>12957.909180</td>\n",
       "      <td>42383.917969</td>\n",
       "    </tr>\n",
       "    <tr>\n",
       "      <th>4</th>\n",
       "      <td>MS_10199_5</td>\n",
       "      <td>10562504918</td>\n",
       "      <td>65.986211</td>\n",
       "      <td>-42.086708</td>\n",
       "      <td>0.115499</td>\n",
       "      <td>-0.012653</td>\n",
       "      <td>19.388848</td>\n",
       "      <td>61342.657248</td>\n",
       "      <td>2.775546e-04</td>\n",
       "      <td>0.474204</td>\n",
       "      <td>10816005036054</td>\n",
       "      <td>0.084987</td>\n",
       "      <td>3.1</td>\n",
       "      <td>1207.371338</td>\n",
       "      <td>30067.052734</td>\n",
       "      <td>25256.710938</td>\n",
       "      <td>46585.750000</td>\n",
       "      <td>31519.847656</td>\n",
       "      <td>32113.683594</td>\n",
       "    </tr>\n",
       "    <tr>\n",
       "      <th>...</th>\n",
       "      <td>...</td>\n",
       "      <td>...</td>\n",
       "      <td>...</td>\n",
       "      <td>...</td>\n",
       "      <td>...</td>\n",
       "      <td>...</td>\n",
       "      <td>...</td>\n",
       "      <td>...</td>\n",
       "      <td>...</td>\n",
       "      <td>...</td>\n",
       "      <td>...</td>\n",
       "      <td>...</td>\n",
       "      <td>...</td>\n",
       "      <td>...</td>\n",
       "      <td>...</td>\n",
       "      <td>...</td>\n",
       "      <td>...</td>\n",
       "      <td>...</td>\n",
       "      <td>...</td>\n",
       "    </tr>\n",
       "    <tr>\n",
       "      <th>405288</th>\n",
       "      <td>MS_9047_4204</td>\n",
       "      <td>2814669465</td>\n",
       "      <td>65.563507</td>\n",
       "      <td>-28.369243</td>\n",
       "      <td>0.970664</td>\n",
       "      <td>0.012134</td>\n",
       "      <td>24.870431</td>\n",
       "      <td>60775.352207</td>\n",
       "      <td>1.777808e-06</td>\n",
       "      <td>0.970683</td>\n",
       "      <td>2882221532182</td>\n",
       "      <td>0.102293</td>\n",
       "      <td>3.1</td>\n",
       "      <td>NaN</td>\n",
       "      <td>NaN</td>\n",
       "      <td>1.423070</td>\n",
       "      <td>22.788200</td>\n",
       "      <td>737.987366</td>\n",
       "      <td>657.338623</td>\n",
       "    </tr>\n",
       "    <tr>\n",
       "      <th>405289</th>\n",
       "      <td>MS_9047_4205</td>\n",
       "      <td>2814681850</td>\n",
       "      <td>64.084658</td>\n",
       "      <td>-27.958133</td>\n",
       "      <td>0.977860</td>\n",
       "      <td>-0.148739</td>\n",
       "      <td>24.273878</td>\n",
       "      <td>62470.479889</td>\n",
       "      <td>3.075572e-06</td>\n",
       "      <td>1.038007</td>\n",
       "      <td>2882234214422</td>\n",
       "      <td>0.129386</td>\n",
       "      <td>3.1</td>\n",
       "      <td>53.433254</td>\n",
       "      <td>41.071884</td>\n",
       "      <td>658.171875</td>\n",
       "      <td>1246.436157</td>\n",
       "      <td>1186.183594</td>\n",
       "      <td>985.751160</td>\n",
       "    </tr>\n",
       "    <tr>\n",
       "      <th>405290</th>\n",
       "      <td>MS_9047_4206</td>\n",
       "      <td>2814685005</td>\n",
       "      <td>65.058137</td>\n",
       "      <td>-28.552109</td>\n",
       "      <td>0.962130</td>\n",
       "      <td>0.117223</td>\n",
       "      <td>25.409439</td>\n",
       "      <td>61506.364087</td>\n",
       "      <td>1.081487e-06</td>\n",
       "      <td>0.965478</td>\n",
       "      <td>2882237445142</td>\n",
       "      <td>0.165537</td>\n",
       "      <td>3.1</td>\n",
       "      <td>0.000757</td>\n",
       "      <td>NaN</td>\n",
       "      <td>94.811592</td>\n",
       "      <td>63.658932</td>\n",
       "      <td>40.061329</td>\n",
       "      <td>409.666016</td>\n",
       "    </tr>\n",
       "    <tr>\n",
       "      <th>405291</th>\n",
       "      <td>MS_9047_4207</td>\n",
       "      <td>2814668118</td>\n",
       "      <td>64.484798</td>\n",
       "      <td>-27.860924</td>\n",
       "      <td>0.974147</td>\n",
       "      <td>0.147051</td>\n",
       "      <td>25.588282</td>\n",
       "      <td>62863.183383</td>\n",
       "      <td>9.187455e-07</td>\n",
       "      <td>0.442576</td>\n",
       "      <td>2882220152854</td>\n",
       "      <td>0.136652</td>\n",
       "      <td>3.1</td>\n",
       "      <td>0.008117</td>\n",
       "      <td>2.380490</td>\n",
       "      <td>81.333008</td>\n",
       "      <td>261.303101</td>\n",
       "      <td>345.730713</td>\n",
       "      <td>320.325409</td>\n",
       "    </tr>\n",
       "    <tr>\n",
       "      <th>405292</th>\n",
       "      <td>MS_9047_4208</td>\n",
       "      <td>2814667201</td>\n",
       "      <td>64.486264</td>\n",
       "      <td>-28.610331</td>\n",
       "      <td>0.969581</td>\n",
       "      <td>-0.019177</td>\n",
       "      <td>25.054778</td>\n",
       "      <td>60813.009828</td>\n",
       "      <td>1.504870e-06</td>\n",
       "      <td>0.150243</td>\n",
       "      <td>2882219213846</td>\n",
       "      <td>0.111928</td>\n",
       "      <td>3.1</td>\n",
       "      <td>0.071496</td>\n",
       "      <td>NaN</td>\n",
       "      <td>6.872719</td>\n",
       "      <td>36.254253</td>\n",
       "      <td>41.102951</td>\n",
       "      <td>54.332729</td>\n",
       "    </tr>\n",
       "  </tbody>\n",
       "</table>\n",
       "<p>405293 rows × 19 columns</p>\n",
       "</div>"
      ],
      "text/plain": [
       "           id_string  host_galaxy         ra        dec  redshift         c  \\\n",
       "0         MS_10199_0  10562502111  66.115587 -40.866055  0.077278  0.035201   \n",
       "1         MS_10199_1  10562500822  66.662435 -42.042877  0.073256 -0.086665   \n",
       "2         MS_10199_2  10562500735  65.212146 -41.416473  0.068469  0.037553   \n",
       "3         MS_10199_3  10562502246  65.469824 -41.109646  0.080189  0.076715   \n",
       "4         MS_10199_5  10562504918  65.986211 -42.086708  0.115499 -0.012653   \n",
       "...              ...          ...        ...        ...       ...       ...   \n",
       "405288  MS_9047_4204   2814669465  65.563507 -28.369243  0.970664  0.012134   \n",
       "405289  MS_9047_4205   2814681850  64.084658 -27.958133  0.977860 -0.148739   \n",
       "405290  MS_9047_4206   2814685005  65.058137 -28.552109  0.962130  0.117223   \n",
       "405291  MS_9047_4207   2814668118  64.484798 -27.860924  0.974147  0.147051   \n",
       "405292  MS_9047_4208   2814667201  64.486264 -28.610331  0.969581 -0.019177   \n",
       "\n",
       "               mB            t0            x0        x1              id  \\\n",
       "0       18.516489  60772.368515  6.173744e-04  1.477374  10816002161686   \n",
       "1       17.966773  63060.297448  1.027672e-03  0.576378  10816000841750   \n",
       "2       19.078334  62832.166508  3.703208e-04 -0.177457  10816000752662   \n",
       "3       19.192019  61400.008116  3.348096e-04 -1.344205  10816002299926   \n",
       "4       19.388848  61342.657248  2.775546e-04  0.474204  10816005036054   \n",
       "...           ...           ...           ...       ...             ...   \n",
       "405288  24.870431  60775.352207  1.777808e-06  0.970683   2882221532182   \n",
       "405289  24.273878  62470.479889  3.075572e-06  1.038007   2882234214422   \n",
       "405290  25.409439  61506.364087  1.081487e-06  0.965478   2882237445142   \n",
       "405291  25.588282  62863.183383  9.187455e-07  0.442576   2882220152854   \n",
       "405292  25.054778  60813.009828  1.504870e-06  0.150243   2882219213846   \n",
       "\n",
       "              av   rv    max_flux_u    max_flux_g    max_flux_r    max_flux_i  \\\n",
       "0       0.096224  3.1           NaN           NaN           NaN           NaN   \n",
       "1       0.081817  3.1           NaN  17351.597656           NaN  70927.117188   \n",
       "2       0.071639  3.1   2589.770752  73588.171875  39960.710938  49958.871094   \n",
       "3       0.108552  3.1  10282.806641  25551.062500  72298.148438  55859.316406   \n",
       "4       0.084987  3.1   1207.371338  30067.052734  25256.710938  46585.750000   \n",
       "...          ...  ...           ...           ...           ...           ...   \n",
       "405288  0.102293  3.1           NaN           NaN      1.423070     22.788200   \n",
       "405289  0.129386  3.1     53.433254     41.071884    658.171875   1246.436157   \n",
       "405290  0.165537  3.1      0.000757           NaN     94.811592     63.658932   \n",
       "405291  0.136652  3.1      0.008117      2.380490     81.333008    261.303101   \n",
       "405292  0.111928  3.1      0.071496           NaN      6.872719     36.254253   \n",
       "\n",
       "          max_flux_z    max_flux_y  \n",
       "0        6543.662109  70800.187500  \n",
       "1       55145.105469  94845.875000  \n",
       "2       35685.750000  47779.726562  \n",
       "3       12957.909180  42383.917969  \n",
       "4       31519.847656  32113.683594  \n",
       "...              ...           ...  \n",
       "405288    737.987366    657.338623  \n",
       "405289   1186.183594    985.751160  \n",
       "405290     40.061329    409.666016  \n",
       "405291    345.730713    320.325409  \n",
       "405292     41.102951     54.332729  \n",
       "\n",
       "[405293 rows x 19 columns]"
      ]
     },
     "execution_count": 5,
     "metadata": {},
     "output_type": "execute_result"
    }
   ],
   "source": [
    "result_sn_sum"
   ]
  },
  {
   "cell_type": "code",
   "execution_count": 6,
   "id": "ce1ab188-047d-4b6c-9a20-26186ea9b145",
   "metadata": {},
   "outputs": [
    {
     "name": "stdout",
     "output_type": "stream",
     "text": [
      "CPU times: user 3.12 s, sys: 2.31 s, total: 5.43 s\n",
      "Wall time: 4.27 s\n"
     ]
    }
   ],
   "source": [
    "%%time\n",
    "result_sn_var = pd.read_parquet(pfnm_sn_var)"
   ]
  },
  {
   "cell_type": "code",
   "execution_count": 7,
   "id": "9c7f17e6-2634-4ac3-80c7-203f5b7bed83",
   "metadata": {},
   "outputs": [
    {
     "data": {
      "text/html": [
       "<div>\n",
       "<style scoped>\n",
       "    .dataframe tbody tr th:only-of-type {\n",
       "        vertical-align: middle;\n",
       "    }\n",
       "\n",
       "    .dataframe tbody tr th {\n",
       "        vertical-align: top;\n",
       "    }\n",
       "\n",
       "    .dataframe thead th {\n",
       "        text-align: right;\n",
       "    }\n",
       "</style>\n",
       "<table border=\"1\" class=\"dataframe\">\n",
       "  <thead>\n",
       "    <tr style=\"text-align: right;\">\n",
       "      <th></th>\n",
       "      <th>id_string</th>\n",
       "      <th>obsHistID</th>\n",
       "      <th>MJD</th>\n",
       "      <th>bandpass</th>\n",
       "      <th>delta_flux</th>\n",
       "      <th>id</th>\n",
       "    </tr>\n",
       "  </thead>\n",
       "  <tbody>\n",
       "    <tr>\n",
       "      <th>0</th>\n",
       "      <td>MS_10199_0</td>\n",
       "      <td>796369</td>\n",
       "      <td>60753.011084</td>\n",
       "      <td>z</td>\n",
       "      <td>1761.107666</td>\n",
       "      <td>10816002161686</td>\n",
       "    </tr>\n",
       "    <tr>\n",
       "      <th>1</th>\n",
       "      <td>MS_10199_0</td>\n",
       "      <td>796420</td>\n",
       "      <td>60753.039172</td>\n",
       "      <td>z</td>\n",
       "      <td>1808.408447</td>\n",
       "      <td>10816002161686</td>\n",
       "    </tr>\n",
       "    <tr>\n",
       "      <th>2</th>\n",
       "      <td>MS_10199_0</td>\n",
       "      <td>798153</td>\n",
       "      <td>60754.996432</td>\n",
       "      <td>z</td>\n",
       "      <td>6543.662109</td>\n",
       "      <td>10816002161686</td>\n",
       "    </tr>\n",
       "    <tr>\n",
       "      <th>3</th>\n",
       "      <td>MS_10199_0</td>\n",
       "      <td>799057</td>\n",
       "      <td>60755.999051</td>\n",
       "      <td>y</td>\n",
       "      <td>3875.850098</td>\n",
       "      <td>10816002161686</td>\n",
       "    </tr>\n",
       "    <tr>\n",
       "      <th>4</th>\n",
       "      <td>MS_10199_0</td>\n",
       "      <td>809099</td>\n",
       "      <td>60767.990715</td>\n",
       "      <td>y</td>\n",
       "      <td>70788.859375</td>\n",
       "      <td>10816002161686</td>\n",
       "    </tr>\n",
       "    <tr>\n",
       "      <th>...</th>\n",
       "      <td>...</td>\n",
       "      <td>...</td>\n",
       "      <td>...</td>\n",
       "      <td>...</td>\n",
       "      <td>...</td>\n",
       "      <td>...</td>\n",
       "    </tr>\n",
       "    <tr>\n",
       "      <th>27998609</th>\n",
       "      <td>MS_9047_4208</td>\n",
       "      <td>913914</td>\n",
       "      <td>60910.406923</td>\n",
       "      <td>r</td>\n",
       "      <td>4.555153</td>\n",
       "      <td>2882219213846</td>\n",
       "    </tr>\n",
       "    <tr>\n",
       "      <th>27998610</th>\n",
       "      <td>MS_9047_4208</td>\n",
       "      <td>914716</td>\n",
       "      <td>60911.313434</td>\n",
       "      <td>u</td>\n",
       "      <td>0.000000</td>\n",
       "      <td>2882219213846</td>\n",
       "    </tr>\n",
       "    <tr>\n",
       "      <th>27998611</th>\n",
       "      <td>MS_9047_4208</td>\n",
       "      <td>914720</td>\n",
       "      <td>60911.315222</td>\n",
       "      <td>u</td>\n",
       "      <td>0.000000</td>\n",
       "      <td>2882219213846</td>\n",
       "    </tr>\n",
       "    <tr>\n",
       "      <th>27998612</th>\n",
       "      <td>MS_9047_4208</td>\n",
       "      <td>914721</td>\n",
       "      <td>60911.315668</td>\n",
       "      <td>u</td>\n",
       "      <td>0.000000</td>\n",
       "      <td>2882219213846</td>\n",
       "    </tr>\n",
       "    <tr>\n",
       "      <th>27998613</th>\n",
       "      <td>MS_9047_4208</td>\n",
       "      <td>914951</td>\n",
       "      <td>60911.421249</td>\n",
       "      <td>y</td>\n",
       "      <td>49.455540</td>\n",
       "      <td>2882219213846</td>\n",
       "    </tr>\n",
       "  </tbody>\n",
       "</table>\n",
       "<p>27998614 rows × 6 columns</p>\n",
       "</div>"
      ],
      "text/plain": [
       "             id_string  obsHistID           MJD bandpass    delta_flux  \\\n",
       "0           MS_10199_0     796369  60753.011084        z   1761.107666   \n",
       "1           MS_10199_0     796420  60753.039172        z   1808.408447   \n",
       "2           MS_10199_0     798153  60754.996432        z   6543.662109   \n",
       "3           MS_10199_0     799057  60755.999051        y   3875.850098   \n",
       "4           MS_10199_0     809099  60767.990715        y  70788.859375   \n",
       "...                ...        ...           ...      ...           ...   \n",
       "27998609  MS_9047_4208     913914  60910.406923        r      4.555153   \n",
       "27998610  MS_9047_4208     914716  60911.313434        u      0.000000   \n",
       "27998611  MS_9047_4208     914720  60911.315222        u      0.000000   \n",
       "27998612  MS_9047_4208     914721  60911.315668        u      0.000000   \n",
       "27998613  MS_9047_4208     914951  60911.421249        y     49.455540   \n",
       "\n",
       "                      id  \n",
       "0         10816002161686  \n",
       "1         10816002161686  \n",
       "2         10816002161686  \n",
       "3         10816002161686  \n",
       "4         10816002161686  \n",
       "...                  ...  \n",
       "27998609   2882219213846  \n",
       "27998610   2882219213846  \n",
       "27998611   2882219213846  \n",
       "27998612   2882219213846  \n",
       "27998613   2882219213846  \n",
       "\n",
       "[27998614 rows x 6 columns]"
      ]
     },
     "execution_count": 7,
     "metadata": {},
     "output_type": "execute_result"
    }
   ],
   "source": [
    "result_sn_var"
   ]
  },
  {
   "cell_type": "code",
   "execution_count": 8,
   "id": "384ff114-8ec7-4d94-9304-28a637cb4f7c",
   "metadata": {},
   "outputs": [
    {
     "data": {
      "text/plain": [
       "0"
      ]
     },
     "execution_count": 8,
     "metadata": {},
     "output_type": "execute_result"
    }
   ],
   "source": [
    "del result_sn_sum, result_sn_var\n",
    "gc.collect()"
   ]
  },
  {
   "cell_type": "code",
   "execution_count": null,
   "id": "368c2bc7-4d7d-4ca4-acc0-8dabbffb018b",
   "metadata": {},
   "outputs": [],
   "source": []
  },
  {
   "cell_type": "code",
   "execution_count": null,
   "id": "817c25cd-8f2e-4a96-9f66-0e887383ee3c",
   "metadata": {},
   "outputs": [],
   "source": []
  },
  {
   "cell_type": "code",
   "execution_count": null,
   "id": "34976fc0-580b-403d-887c-ee4662983987",
   "metadata": {},
   "outputs": [],
   "source": []
  },
  {
   "cell_type": "code",
   "execution_count": null,
   "id": "1ec220d9-b8eb-4c07-bd70-47e3ad864aab",
   "metadata": {},
   "outputs": [],
   "source": []
  },
  {
   "cell_type": "code",
   "execution_count": null,
   "id": "b5c87f28-9567-44ad-a3b7-28b68d6929e5",
   "metadata": {},
   "outputs": [],
   "source": []
  },
  {
   "cell_type": "code",
   "execution_count": null,
   "id": "dfea60e5-f3bd-4f20-8016-800b3a835b99",
   "metadata": {},
   "outputs": [],
   "source": []
  },
  {
   "cell_type": "code",
   "execution_count": null,
   "id": "ff857b80-d2a1-4294-bc0f-a6582bd8a97e",
   "metadata": {},
   "outputs": [],
   "source": []
  },
  {
   "cell_type": "code",
   "execution_count": null,
   "id": "9962cd3f-fc4d-4840-b418-2878d622fe5e",
   "metadata": {},
   "outputs": [],
   "source": []
  },
  {
   "cell_type": "markdown",
   "id": "6ce7569f-0b26-426f-871a-dbe669dfa33b",
   "metadata": {},
   "source": [
    "## GCRCatalogs -- couldn't get it set up\n",
    "\n",
    "Also not sure the db files are GCRCatalog-accessible..."
   ]
  },
  {
   "cell_type": "code",
   "execution_count": null,
   "id": "fbe8af87-fa3c-4f3e-b976-2abb57ca398f",
   "metadata": {},
   "outputs": [],
   "source": [
    "import GCRCatalogs\n",
    "from GCRCatalogs.helpers.tract_catalogs import tract_filter, sample_filter\n",
    "from GCRCatalogs import GCRQuery"
   ]
  },
  {
   "cell_type": "code",
   "execution_count": null,
   "id": "6d0867bf-d5ec-4943-bc77-71782c63c8f0",
   "metadata": {},
   "outputs": [],
   "source": [
    "GCRCatalogs.get_root_dir()"
   ]
  },
  {
   "cell_type": "code",
   "execution_count": null,
   "id": "af503f7e-025e-43d9-8fc4-0c1abe0a8c73",
   "metadata": {},
   "outputs": [],
   "source": [
    "GCRCatalogs.get_public_catalog_names()"
   ]
  },
  {
   "cell_type": "code",
   "execution_count": null,
   "id": "80c4106c-1c56-40c5-820d-25c66352fb0d",
   "metadata": {},
   "outputs": [],
   "source": [
    "# obj_cat = GCRCatalogs.load_catalog(\"truth_sn_summary_v1-0-0.db\")"
   ]
  },
  {
   "cell_type": "markdown",
   "id": "d25d600a-bd40-4201-b2c1-fc7a2b889c55",
   "metadata": {},
   "source": [
    "## Spark -- couldn't get it set up\n",
    "\n",
    "`Spark`, and in particular `pyspark`, can be used to apply SQL queries directly to parquet tables.\n",
    " - https://spark.apache.org/docs/latest/sql-getting-started.html\n",
    " - https://spark.apache.org/docs/latest/sql-data-sources-parquet.html\n",
    " \n",
    "However, while `pyspark` is easy enough to `pip install`, it requires java and some other stuff in order to run in a notebook. E.g.,\n",
    " - https://sparkbyexamples.com/pyspark/install-pyspark-in-anaconda-jupyter-notebook/\n",
    " - https://opensource.com/article/18/11/pyspark-jupyter-notebook\n",
    " \n",
    "And it was the java installation that seemed too much to expect of users.\n",
    "\n",
    "JAVA_HOME being undefined was the error."
   ]
  },
  {
   "cell_type": "code",
   "execution_count": null,
   "id": "89a8df66-3de1-49a4-a5d3-75f642dffdb0",
   "metadata": {},
   "outputs": [],
   "source": [
    "# from pyspark.sql import SparkSession\n",
    "# spark = SparkSession.builder.appName('Ops').getOrCreate()"
   ]
  },
  {
   "cell_type": "markdown",
   "id": "52129f89-aae4-4d6c-834b-a8cabbdd0551",
   "metadata": {},
   "source": [
    "## Try with pandas -- varstar parquet too big\n",
    "\n",
    "SN table small enough to reqd in whole.\n",
    "\n",
    "Jeff showed in his NB that reading even one column of the variable star table taks 15 min.\n",
    "\n",
    "https://github.com/rubin-dp0/cet-dev/blob/main/JLC_slagheap/dc2_truth_parquet_exploration.ipynb"
   ]
  },
  {
   "cell_type": "code",
   "execution_count": null,
   "id": "4932d6c3-c0e4-487d-969c-9b90161362c2",
   "metadata": {},
   "outputs": [],
   "source": [
    "import pandas as pd"
   ]
  },
  {
   "cell_type": "code",
   "execution_count": null,
   "id": "75503e47-f7d9-4d86-9488-f133dc9ca001",
   "metadata": {},
   "outputs": [],
   "source": [
    "# pfnm = '/project/jchiang/Run2.2i/truth/SNe/truth_sn_summary_v1-0-0.parquet'\n",
    "pfnm = '/project/jchiang/Run2.2i/truth/stars/truth_star_summary_v1-0-0.parquet'"
   ]
  },
  {
   "cell_type": "code",
   "execution_count": null,
   "id": "de148194-c081-405b-a5fc-c484e4438cd8",
   "metadata": {},
   "outputs": [],
   "source": [
    "result = pd.read_parquet(pfnm)"
   ]
  },
  {
   "cell_type": "code",
   "execution_count": null,
   "id": "d0e58693-35ab-4995-bf79-8b92aced90e9",
   "metadata": {},
   "outputs": [],
   "source": [
    "result"
   ]
  },
  {
   "cell_type": "code",
   "execution_count": null,
   "id": "bfa75d18-bf5b-4631-abae-eb7922b0f9d3",
   "metadata": {},
   "outputs": [],
   "source": [
    "tx = np.where((result['t0'] > 60770) & (result['t0'] < 60780))[0]"
   ]
  },
  {
   "cell_type": "code",
   "execution_count": null,
   "id": "341da48b-60fe-466b-b2c6-6211fda5a8da",
   "metadata": {},
   "outputs": [],
   "source": [
    "print(len(tx))"
   ]
  },
  {
   "cell_type": "code",
   "execution_count": null,
   "id": "d2a6d50d-d355-4bc2-ab4f-e6fc6aa32f04",
   "metadata": {},
   "outputs": [],
   "source": [
    "del result, tx"
   ]
  },
  {
   "cell_type": "markdown",
   "id": "a90c7eff-9efc-46b9-afb5-18b49eaef813",
   "metadata": {},
   "source": [
    "## Try with pyarrow -- varstar parquet too big"
   ]
  },
  {
   "cell_type": "code",
   "execution_count": null,
   "id": "47a8f8cc-9d36-4164-8bee-a7f61637793c",
   "metadata": {},
   "outputs": [],
   "source": [
    "import pyarrow.parquet as pq"
   ]
  },
  {
   "cell_type": "code",
   "execution_count": null,
   "id": "e0fc91a6-bdb5-4783-9f4c-1e814bed880a",
   "metadata": {},
   "outputs": [],
   "source": [
    "result = pq.read_table(pfnm, columns=['ra', 'dec']).to_pandas()"
   ]
  },
  {
   "cell_type": "code",
   "execution_count": null,
   "id": "6b68011e-04f3-48d8-8e7e-6aff67886d18",
   "metadata": {},
   "outputs": [],
   "source": [
    "result"
   ]
  },
  {
   "cell_type": "code",
   "execution_count": null,
   "id": "bffe0399-248f-46e8-aa43-2b0020003cf8",
   "metadata": {},
   "outputs": [],
   "source": [
    "del result"
   ]
  },
  {
   "cell_type": "markdown",
   "id": "f005b79f-ca02-49ab-9a9f-9913387de019",
   "metadata": {},
   "source": [
    "The above works fine, because the SN table is short. The following is not even possible."
   ]
  },
  {
   "cell_type": "code",
   "execution_count": null,
   "id": "63c07f4f-727d-40db-b644-5af20aeb5e9e",
   "metadata": {},
   "outputs": [],
   "source": [
    "pfnm = '/project/jchiang/Run2.2i/truth/stars/truth_star_variability_v1-0-0.parquet'"
   ]
  },
  {
   "cell_type": "code",
   "execution_count": null,
   "id": "f91d0cad-e41e-4929-899d-e38283222b69",
   "metadata": {},
   "outputs": [],
   "source": [
    "%%time\n",
    "result = pq.read_table(pfnm, columns=['id']).to_pandas()"
   ]
  },
  {
   "cell_type": "code",
   "execution_count": null,
   "id": "a46a7004-5fb8-4bf8-8718-834895ccb8ad",
   "metadata": {},
   "outputs": [],
   "source": []
  }
 ],
 "metadata": {
  "kernelspec": {
   "display_name": "LSST",
   "language": "python",
   "name": "lsst"
  },
  "language_info": {
   "codemirror_mode": {
    "name": "ipython",
    "version": 3
   },
   "file_extension": ".py",
   "mimetype": "text/x-python",
   "name": "python",
   "nbconvert_exporter": "python",
   "pygments_lexer": "ipython3",
   "version": "3.10.5"
  }
 },
 "nbformat": 4,
 "nbformat_minor": 5
}
