{
 "cells": [
  {
   "cell_type": "code",
   "execution_count": null,
   "id": "4932d6c3-c0e4-487d-969c-9b90161362c2",
   "metadata": {},
   "outputs": [],
   "source": [
    "import pandas"
   ]
  },
  {
   "cell_type": "code",
   "execution_count": null,
   "id": "de148194-c081-405b-a5fc-c484e4438cd8",
   "metadata": {},
   "outputs": [],
   "source": [
    "result = pandas.read_parquet('/project/jchiang/Run2.2i/truth/SNe/truth_sn_summary_v1-0-0.parquet')"
   ]
  },
  {
   "cell_type": "code",
   "execution_count": null,
   "id": "d0e58693-35ab-4995-bf79-8b92aced90e9",
   "metadata": {},
   "outputs": [],
   "source": [
    "result"
   ]
  },
  {
   "cell_type": "code",
   "execution_count": null,
   "id": "bfa75d18-bf5b-4631-abae-eb7922b0f9d3",
   "metadata": {},
   "outputs": [],
   "source": []
  }
 ],
 "metadata": {
  "kernelspec": {
   "display_name": "LSST",
   "language": "python",
   "name": "lsst"
  },
  "language_info": {
   "codemirror_mode": {
    "name": "ipython",
    "version": 3
   },
   "file_extension": ".py",
   "mimetype": "text/x-python",
   "name": "python",
   "nbconvert_exporter": "python",
   "pygments_lexer": "ipython3",
   "version": "3.10.5"
  }
 },
 "nbformat": 4,
 "nbformat_minor": 5
}
