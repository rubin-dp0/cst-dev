{
 "cells": [
  {
   "cell_type": "code",
   "execution_count": 1,
   "id": "e579a780-46e6-4f32-b9d5-93a1f9e1bff7",
   "metadata": {
    "execution": {
     "iopub.execute_input": "2024-02-01T19:45:44.457325Z",
     "iopub.status.busy": "2024-02-01T19:45:44.457150Z",
     "iopub.status.idle": "2024-02-01T19:45:45.018256Z",
     "shell.execute_reply": "2024-02-01T19:45:45.017478Z",
     "shell.execute_reply.started": "2024-02-01T19:45:44.457308Z"
    }
   },
   "outputs": [],
   "source": [
    "from lsst.rsp import get_tap_service, retrieve_query\n",
    "import pandas as pd\n",
    "import random"
   ]
  },
  {
   "cell_type": "code",
   "execution_count": 2,
   "id": "a164bee8-ebda-4580-b6e6-93ed53b7fdb7",
   "metadata": {
    "execution": {
     "iopub.execute_input": "2024-02-01T19:45:45.021338Z",
     "iopub.status.busy": "2024-02-01T19:45:45.021097Z",
     "iopub.status.idle": "2024-02-01T19:45:45.088435Z",
     "shell.execute_reply": "2024-02-01T19:45:45.087594Z",
     "shell.execute_reply.started": "2024-02-01T19:45:45.021318Z"
    }
   },
   "outputs": [],
   "source": [
    "service = get_tap_service(\"tap\")"
   ]
  },
  {
   "cell_type": "code",
   "execution_count": 3,
   "id": "e88a365d-aaa4-45cf-a0c7-6259fcaec7e9",
   "metadata": {
    "execution": {
     "iopub.execute_input": "2024-02-01T19:45:45.092276Z",
     "iopub.status.busy": "2024-02-01T19:45:45.092038Z",
     "iopub.status.idle": "2024-02-01T19:47:01.404886Z",
     "shell.execute_reply": "2024-02-01T19:47:01.404025Z",
     "shell.execute_reply.started": "2024-02-01T19:45:45.092254Z"
    }
   },
   "outputs": [],
   "source": [
    "filename = '/scratch/DouglasLTucker/dp02_dc2_catalogs_Object_all_objectids_sorted.csv'\n",
    "random.seed(4321)\n",
    "df = pd.read_csv(filename, \n",
    "           skiprows=lambda x: x > 0 and random.random() >=0.00001)"
   ]
  },
  {
   "cell_type": "code",
   "execution_count": 4,
   "id": "cb7a6adc-b622-4615-a6a0-fcb94afc18e0",
   "metadata": {
    "execution": {
     "iopub.execute_input": "2024-02-01T19:47:01.408366Z",
     "iopub.status.busy": "2024-02-01T19:47:01.408162Z",
     "iopub.status.idle": "2024-02-01T19:47:01.412316Z",
     "shell.execute_reply": "2024-02-01T19:47:01.411719Z",
     "shell.execute_reply.started": "2024-02-01T19:47:01.408347Z"
    }
   },
   "outputs": [
    {
     "name": "stdout",
     "output_type": "stream",
     "text": [
      "2872\n"
     ]
    }
   ],
   "source": [
    "print(len(df))"
   ]
  },
  {
   "cell_type": "markdown",
   "id": "f90dcd25-142b-497e-9502-ce63fd7c8821",
   "metadata": {},
   "source": [
    "The use of ``WHERE <col> IN ()`` is a temporary work-around for DP0.2 until the functionality for user-uploaded tables\n",
    "(and joins with user-uploaded tables) is ready."
   ]
  },
  {
   "cell_type": "code",
   "execution_count": 5,
   "id": "5c363d59-dbfb-4995-abce-fdd764276cd7",
   "metadata": {
    "execution": {
     "iopub.execute_input": "2024-02-01T19:47:01.413172Z",
     "iopub.status.busy": "2024-02-01T19:47:01.412991Z",
     "iopub.status.idle": "2024-02-01T19:47:01.432476Z",
     "shell.execute_reply": "2024-02-01T19:47:01.431887Z",
     "shell.execute_reply.started": "2024-02-01T19:47:01.413155Z"
    }
   },
   "outputs": [],
   "source": [
    "# N = len(df)\n",
    "N = 100\n",
    "string_list = '('\n",
    "for i in range(N):\n",
    "    string_list = string_list + str(df['objectId'][i])\n",
    "    if i < N-1:\n",
    "        string_list = string_list + ','\n",
    "    elif i == N-1:\n",
    "        string_list = string_list + ')'"
   ]
  },
  {
   "cell_type": "code",
   "execution_count": 6,
   "id": "6f780e13-4ff4-4ce1-9fb2-e0be5f148d64",
   "metadata": {
    "execution": {
     "iopub.execute_input": "2024-02-01T19:47:01.433342Z",
     "iopub.status.busy": "2024-02-01T19:47:01.433160Z",
     "iopub.status.idle": "2024-02-01T19:47:01.450459Z",
     "shell.execute_reply": "2024-02-01T19:47:01.449832Z",
     "shell.execute_reply.started": "2024-02-01T19:47:01.433325Z"
    }
   },
   "outputs": [],
   "source": [
    "query = '''SELECT obj.objectId, obj.detect_isPrimary \n",
    "           FROM dp02_dc2_catalogs.Object AS obj \n",
    "           WHERE obj.objectId IN ''' + string_list"
   ]
  },
  {
   "cell_type": "markdown",
   "id": "4b3e4ad9-e32b-484b-8d8d-aad713e6312a",
   "metadata": {},
   "source": [
    "Synchronous queries are not recommended and will not work for queries that take >30 min."
   ]
  },
  {
   "cell_type": "code",
   "execution_count": 7,
   "id": "fe221c53-2215-4644-8f0b-f808d8d0d6b7",
   "metadata": {
    "execution": {
     "iopub.execute_input": "2024-02-01T19:47:01.451344Z",
     "iopub.status.busy": "2024-02-01T19:47:01.451165Z",
     "iopub.status.idle": "2024-02-01T19:47:01.467629Z",
     "shell.execute_reply": "2024-02-01T19:47:01.467043Z",
     "shell.execute_reply.started": "2024-02-01T19:47:01.451328Z"
    }
   },
   "outputs": [],
   "source": [
    "# results = service.search(query).to_table()"
   ]
  },
  {
   "cell_type": "markdown",
   "id": "ee5121e9-82fa-4a75-b7d9-26d0ceb078c8",
   "metadata": {},
   "source": [
    "Run an asynchronous query."
   ]
  },
  {
   "cell_type": "code",
   "execution_count": 8,
   "id": "12140e99-ed64-44d1-a8c5-703363da05a8",
   "metadata": {
    "execution": {
     "iopub.execute_input": "2024-02-01T19:47:01.468507Z",
     "iopub.status.busy": "2024-02-01T19:47:01.468328Z",
     "iopub.status.idle": "2024-02-01T19:47:01.737667Z",
     "shell.execute_reply": "2024-02-01T19:47:01.736842Z",
     "shell.execute_reply.started": "2024-02-01T19:47:01.468490Z"
    }
   },
   "outputs": [
    {
     "name": "stdout",
     "output_type": "stream",
     "text": [
      "Job URL is https://data.lsst.cloud/api/tap/async/s6bpo72zbazyxwyo\n",
      "Job phase is PENDING\n"
     ]
    }
   ],
   "source": [
    "job = service.submit_job(query)\n",
    "print('Job URL is', job.url)\n",
    "print('Job phase is', job.phase)"
   ]
  },
  {
   "cell_type": "code",
   "execution_count": 9,
   "id": "185edaed-07c8-46df-a294-0283fcd6466b",
   "metadata": {
    "execution": {
     "iopub.execute_input": "2024-02-01T19:47:01.738839Z",
     "iopub.status.busy": "2024-02-01T19:47:01.738573Z",
     "iopub.status.idle": "2024-02-01T19:47:01.825991Z",
     "shell.execute_reply": "2024-02-01T19:47:01.825087Z",
     "shell.execute_reply.started": "2024-02-01T19:47:01.738816Z"
    }
   },
   "outputs": [
    {
     "data": {
      "text/plain": [
       "<pyvo.dal.tap.AsyncTAPJob at 0x7e50bdd43910>"
      ]
     },
     "execution_count": 9,
     "metadata": {},
     "output_type": "execute_result"
    }
   ],
   "source": [
    "job.run()"
   ]
  },
  {
   "cell_type": "markdown",
   "id": "9dd8373a-5ecd-4cc0-868f-71d269e038eb",
   "metadata": {},
   "source": [
    "Check on the job phase. It will say \"EXECUTING\" while the job is in progress, and \"COMPLETED\" when it is done.\n",
    "\n",
    "At this time, there is no way to check on the progress or to have a time estimate, or to get a notificiation when it is done."
   ]
  },
  {
   "cell_type": "code",
   "execution_count": 13,
   "id": "a5c22581-9e54-4e58-b851-e2ff946c97af",
   "metadata": {
    "execution": {
     "iopub.execute_input": "2024-02-01T19:49:03.886645Z",
     "iopub.status.busy": "2024-02-01T19:49:03.885583Z",
     "iopub.status.idle": "2024-02-01T19:49:04.063567Z",
     "shell.execute_reply": "2024-02-01T19:49:04.062669Z",
     "shell.execute_reply.started": "2024-02-01T19:49:03.886612Z"
    }
   },
   "outputs": [
    {
     "name": "stdout",
     "output_type": "stream",
     "text": [
      "Job phase is now  COMPLETED\n"
     ]
    }
   ],
   "source": [
    "print('Job phase is now ', job.phase)"
   ]
  },
  {
   "cell_type": "code",
   "execution_count": 14,
   "id": "41607cc8-e592-4ef8-af17-e5cbf15b7332",
   "metadata": {
    "execution": {
     "iopub.execute_input": "2024-02-01T19:49:35.719256Z",
     "iopub.status.busy": "2024-02-01T19:49:35.718254Z",
     "iopub.status.idle": "2024-02-01T19:49:35.836213Z",
     "shell.execute_reply": "2024-02-01T19:49:35.835086Z",
     "shell.execute_reply.started": "2024-02-01T19:49:35.719224Z"
    }
   },
   "outputs": [],
   "source": [
    "async_results = job.fetch_result().to_table().to_pandas()"
   ]
  },
  {
   "cell_type": "code",
   "execution_count": null,
   "id": "df3989e6-00d0-474b-8517-97eb7846ab4f",
   "metadata": {
    "execution": {
     "iopub.status.busy": "2024-02-01T19:47:02.221237Z",
     "iopub.status.idle": "2024-02-01T19:47:02.221500Z",
     "shell.execute_reply": "2024-02-01T19:47:02.221394Z",
     "shell.execute_reply.started": "2024-02-01T19:47:02.221382Z"
    }
   },
   "outputs": [],
   "source": [
    "async_results"
   ]
  },
  {
   "cell_type": "code",
   "execution_count": null,
   "id": "3a685748-7d61-48ca-9b5e-5466e082604a",
   "metadata": {},
   "outputs": [],
   "source": []
  }
 ],
 "metadata": {
  "kernelspec": {
   "display_name": "LSST",
   "language": "python",
   "name": "lsst"
  },
  "language_info": {
   "codemirror_mode": {
    "name": "ipython",
    "version": 3
   },
   "file_extension": ".py",
   "mimetype": "text/x-python",
   "name": "python",
   "nbconvert_exporter": "python",
   "pygments_lexer": "ipython3",
   "version": "3.11.4"
  }
 },
 "nbformat": 4,
 "nbformat_minor": 5
}
