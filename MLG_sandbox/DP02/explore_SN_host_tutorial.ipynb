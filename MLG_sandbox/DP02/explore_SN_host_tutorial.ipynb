{
 "cells": [
  {
   "cell_type": "markdown",
   "id": "da5f7e75-c74a-4668-831d-292b42965a3c",
   "metadata": {},
   "source": [
    "# SNIa Host Association\n",
    "\n",
    "Contact author: Melissa Graham\n",
    "\n",
    "Date last verified to run: Thu Dec 29, 2022\n",
    "\n",
    "RSP environment version: Weekly 2022_40\n",
    "\n",
    "\n",
    "## 1. Introduction\n",
    "\n",
    "\n",
    "(1) Choose a SNIa to explore. Use truth table.\n",
    "\n",
    "(2) Show the SNIa environ (deep coadd).\n",
    "\n",
    "(3) Explain how there will be 'nearby' galaxy Object IDs in the future. Cite the DMTN.\n",
    "\n",
    "(4) Get Object table data for objects in environ.\n",
    "\n",
    "(5) Identify three nearest stars and galaxies (radial), and three nearest extended objects (separation distance).\n",
    "\n",
    "(6) How often is the lowest separation distance galaxy the true host for SNeIa?"
   ]
  },
  {
   "cell_type": "markdown",
   "id": "dd4642bb-ab1f-404f-958f-516d32379d35",
   "metadata": {},
   "source": [
    "### 1.1. Import packages"
   ]
  },
  {
   "cell_type": "code",
   "execution_count": null,
   "id": "72375312-460e-49d0-9e21-b4205ca3ae4a",
   "metadata": {},
   "outputs": [],
   "source": [
    "import numpy as np\n",
    "import pandas as pd\n",
    "import matplotlib\n",
    "import matplotlib.pyplot as plt\n",
    "import gc\n",
    "\n",
    "from astropy.wcs import WCS\n",
    "from astropy.units import UnitsWarning\n",
    "from astropy.coordinates import SkyCoord\n",
    "from astropy.coordinates import match_coordinates_sky\n",
    "import astropy.units as u\n",
    "\n",
    "from lsst.rsp import get_tap_service\n",
    "import lsst.afw.display as afwDisplay\n",
    "from lsst.daf.butler import Butler\n",
    "import lsst.geom as geom"
   ]
  },
  {
   "cell_type": "markdown",
   "id": "9f23b8e4-9999-46a0-aafb-1549eb06081a",
   "metadata": {},
   "source": [
    "### 1.2. Set global parameters and functions"
   ]
  },
  {
   "cell_type": "code",
   "execution_count": null,
   "id": "e816eab2-93a0-4716-832b-406151917bcb",
   "metadata": {},
   "outputs": [],
   "source": [
    "butler = Butler('dp02', collections='2.2i/runs/DP0.2')\n",
    "skymap = butler.get('skyMap')"
   ]
  },
  {
   "cell_type": "code",
   "execution_count": null,
   "id": "1656f8e4-62c1-4d26-ba32-442ad336f863",
   "metadata": {},
   "outputs": [],
   "source": [
    "service = get_tap_service()"
   ]
  },
  {
   "cell_type": "code",
   "execution_count": null,
   "id": "f6912e44-c640-4e31-b435-0fe6e667fd30",
   "metadata": {},
   "outputs": [],
   "source": [
    "pd.set_option('display.max_rows', 20)\n",
    "afwDisplay.setDefaultBackend('matplotlib')"
   ]
  },
  {
   "cell_type": "code",
   "execution_count": null,
   "id": "fab015fb-0a5a-47f4-ad31-5ff8967be26c",
   "metadata": {},
   "outputs": [],
   "source": [
    "plot_filter_labels = ['u', 'g', 'r', 'i', 'z', 'y']\n",
    "plot_filter_colors = {'u' : '#56b4e9', 'g' : '#008060', 'r' : '#ff4000',\n",
    "                      'i' : '#850000', 'z' : '#6600cc', 'y' : '#000000'}\n",
    "plot_filter_symbols = {'u' : 'o', 'g' : '^', 'r' : 'v', \n",
    "                       'i' : 's', 'z' : '*', 'y' : 'p'}"
   ]
  },
  {
   "cell_type": "code",
   "execution_count": null,
   "id": "6c0fa400-72b6-43c2-9b1d-f45e08731705",
   "metadata": {},
   "outputs": [],
   "source": [
    "def remove_figure(fig):\n",
    "    \"\"\"\n",
    "    Remove a figure to reduce memory footprint.\n",
    "\n",
    "    Parameters\n",
    "    ----------\n",
    "    fig: matplotlib.figure.Figure\n",
    "        Figure to be removed.\n",
    "\n",
    "    Returns\n",
    "    -------\n",
    "    None\n",
    "    \"\"\"\n",
    "    # get the axes and clear their images\n",
    "    for ax in fig.get_axes():\n",
    "        for im in ax.get_images():\n",
    "            im.remove()\n",
    "    fig.clf()       # clear the figure\n",
    "    plt.close(fig)  # close the figure\n",
    "    gc.collect()    # call the garbage collector"
   ]
  },
  {
   "cell_type": "code",
   "execution_count": null,
   "id": "a02f1220-3633-428b-b46f-aee08786641b",
   "metadata": {},
   "outputs": [],
   "source": [
    "def cutout_coadd(butler, ra, dec, band='r', datasetType='deepCoadd',\n",
    "                 skymap=None, cutoutSideLength=51, **kwargs):\n",
    "    \"\"\"\n",
    "    Produce a cutout from a coadd at the given ra, dec position.\n",
    "\n",
    "    Adapted from DC2 tutorial notebook by Michael Wood-Vasey.\n",
    "\n",
    "    Parameters\n",
    "    ----------\n",
    "    butler: lsst.daf.persistence.Butler\n",
    "        Servant providing access to a data repository\n",
    "    ra: float\n",
    "        Right ascension of the center of the cutout, in degrees\n",
    "    dec: float\n",
    "        Declination of the center of the cutout, in degrees\n",
    "    band: string\n",
    "        Filter of the image to load\n",
    "    datasetType: string ['deepCoadd']\n",
    "        Which type of coadd to load.  Doesn't support 'calexp'\n",
    "    skymap: lsst.afw.skyMap.SkyMap [optional]\n",
    "        Pass in to avoid the Butler read.  Useful if you have lots of them.\n",
    "    cutoutSideLength: float [optional]\n",
    "        Size of the cutout region in pixels.\n",
    "\n",
    "    Returns\n",
    "    -------\n",
    "    MaskedImage\n",
    "    \"\"\"\n",
    "    radec = geom.SpherePoint(ra, dec, geom.degrees)\n",
    "    cutoutSize = geom.ExtentI(cutoutSideLength, cutoutSideLength)\n",
    "\n",
    "    if skymap is None:\n",
    "        skymap = butler.get(\"skyMap\")\n",
    "\n",
    "    # Look up the tract, patch for the RA, Dec\n",
    "    tractInfo = skymap.findTract(radec)\n",
    "    patchInfo = tractInfo.findPatch(radec)\n",
    "    xy = geom.PointI(tractInfo.getWcs().skyToPixel(radec))\n",
    "    bbox = geom.BoxI(xy - cutoutSize // 2, cutoutSize)\n",
    "    patch = tractInfo.getSequentialPatchIndex(patchInfo)\n",
    "\n",
    "    coaddId = {'tract': tractInfo.getId(), 'patch': patch, 'band': band}\n",
    "    parameters = {'bbox': bbox}\n",
    "\n",
    "    cutout_image = butler.get(datasetType, parameters=parameters,\n",
    "                              dataId=coaddId)\n",
    "\n",
    "    return cutout_image"
   ]
  },
  {
   "cell_type": "markdown",
   "id": "8e68917b-4029-4f0d-9b03-f5bf1681ccfd",
   "metadata": {},
   "source": [
    "## 2. Find a low-z SNIa with a large offset from a big bright host\n",
    "\n",
    "Start with a random bunch of true SNIa with z<0.2 near the center of the DC2 simulation area."
   ]
  },
  {
   "cell_type": "code",
   "execution_count": null,
   "id": "d6377e8f-3005-459f-8aa7-62ef6b60e320",
   "metadata": {},
   "outputs": [],
   "source": [
    "%%time\n",
    "\n",
    "query = \"SELECT id_truth_type, id, ra, dec, truth_type, redshift, host_galaxy \"\\\n",
    "        \"FROM dp02_dc2_catalogs.TruthSummary \"\\\n",
    "        \"WHERE CONTAINS(POINT('ICRS', ra, dec), CIRCLE('ICRS', 57.5, -36.5, 2)) = 1 \"\\\n",
    "        \"AND truth_type = 3 AND redshift < 0.2\"\n",
    "results = service.search(query)\n",
    "del query"
   ]
  },
  {
   "cell_type": "code",
   "execution_count": null,
   "id": "b74ac4a0-2db5-4b67-88c2-f195038cc707",
   "metadata": {},
   "outputs": [],
   "source": [
    "TrueSNIa = results.to_table().to_pandas()\n",
    "del results\n",
    "print('len(TrueSNIa) = ', len(TrueSNIa))"
   ]
  },
  {
   "cell_type": "code",
   "execution_count": null,
   "id": "c7a4410b-5550-4bcb-a9dc-a41f64532d6a",
   "metadata": {},
   "outputs": [],
   "source": [
    "# TrueSNIa"
   ]
  },
  {
   "cell_type": "markdown",
   "id": "d337836f-0cdb-47fc-a304-15a2e5900f77",
   "metadata": {},
   "source": [
    "Make a tuple-formatted string of the `host_galaxy` column, which is the `id` column in both the `TruthSummary` and `MatchesTruth` tables."
   ]
  },
  {
   "cell_type": "code",
   "execution_count": null,
   "id": "116b04d5-5293-4cfc-bdce-ae26fa1fd457",
   "metadata": {},
   "outputs": [],
   "source": [
    "tuple_string_hostId = '('\n",
    "for i in range(len(TrueSNIa)):\n",
    "    tuple_string_hostId += str(TrueSNIa.loc[i, 'host_galaxy'])\n",
    "    if i < len(TrueSNIa)-1:\n",
    "        tuple_string_hostId += ', '\n",
    "    else:\n",
    "        tuple_string_hostId += ')'"
   ]
  },
  {
   "cell_type": "code",
   "execution_count": null,
   "id": "d18c9d5c-3667-4ddb-a073-5b95d4efb548",
   "metadata": {},
   "outputs": [],
   "source": [
    "# print(tuple_string_hostId)"
   ]
  },
  {
   "cell_type": "markdown",
   "id": "de04bf20-6f63-49ca-b153-f2e9794ec1ac",
   "metadata": {},
   "source": [
    "Use the `MatchesTruth` table to retrieve the `objectId` for the hosts."
   ]
  },
  {
   "cell_type": "code",
   "execution_count": null,
   "id": "ef52dc66-888e-4f17-a566-cbbef038fdbe",
   "metadata": {},
   "outputs": [],
   "source": [
    "%%time\n",
    "\n",
    "query = \"SELECT id, truth_type, id_truth_type, match_objectId \"\\\n",
    "        \"FROM dp02_dc2_catalogs.MatchesTruth AS mt \"\\\n",
    "        \"WHERE id IN \"+tuple_string_hostId\n",
    "results = service.search(query)\n",
    "del query"
   ]
  },
  {
   "cell_type": "code",
   "execution_count": null,
   "id": "22c2e59e-c45d-4885-8964-5886a745afc5",
   "metadata": {},
   "outputs": [],
   "source": [
    "TrueSNIaHosts = results.to_table().to_pandas()\n",
    "del results\n",
    "print('len(TrueSNIaHosts) = ', len(TrueSNIaHosts))"
   ]
  },
  {
   "cell_type": "code",
   "execution_count": null,
   "id": "1dc6ce39-a3cf-401d-93a0-f35aeaced282",
   "metadata": {},
   "outputs": [],
   "source": [
    "# TrueSNIaHosts"
   ]
  },
  {
   "cell_type": "markdown",
   "id": "46053833-2d93-4e8f-bf4d-c82e53d09088",
   "metadata": {},
   "source": [
    "Make a tuple-formatted string of the `match_objectId` column. \n",
    "\n",
    "Notice that one of the hosts has a `match_objectId` = `<NA>`, and skip that one."
   ]
  },
  {
   "cell_type": "code",
   "execution_count": null,
   "id": "ebb55534-ec2f-4642-9052-35ad74c1545b",
   "metadata": {},
   "outputs": [],
   "source": [
    "tuple_string_objectId = '('\n",
    "for i in range(len(TrueSNIaHosts)):\n",
    "    if str(TrueSNIaHosts.loc[i, 'match_objectId']) != '<NA>':\n",
    "        tuple_string_objectId += str(TrueSNIaHosts.loc[i, 'match_objectId'])\n",
    "        if i < len(TrueSNIaHosts)-1:\n",
    "            tuple_string_objectId += ', '\n",
    "        else:\n",
    "            tuple_string_objectId += ')'"
   ]
  },
  {
   "cell_type": "code",
   "execution_count": null,
   "id": "8b46e305-8b5e-4254-b198-8e61e645eb98",
   "metadata": {},
   "outputs": [],
   "source": [
    "# print(tuple_string_objectId)"
   ]
  },
  {
   "cell_type": "markdown",
   "id": "b646ab54-96c6-46a4-b347-57b9b9255aa3",
   "metadata": {},
   "source": [
    "Retrieve measurements for the host galaxies from the `Object` table."
   ]
  },
  {
   "cell_type": "code",
   "execution_count": null,
   "id": "4cd0bca8-4383-4006-a97a-4c6c90461609",
   "metadata": {},
   "outputs": [],
   "source": [
    "%%time\n",
    "\n",
    "query = \"SELECT objectId, coord_ra, coord_dec, footprintArea, \"\\\n",
    "        \"scisql_nanojanskyToAbMag(r_cModelFlux) as r_cModelMag \"\\\n",
    "        \"FROM dp02_dc2_catalogs.Object \"\\\n",
    "        \"WHERE objectId IN \"+tuple_string_objectId\n",
    "results = service.search(query)\n",
    "del query"
   ]
  },
  {
   "cell_type": "code",
   "execution_count": null,
   "id": "9fd4609a-5e07-4bd3-baaa-091210e118c9",
   "metadata": {},
   "outputs": [],
   "source": [
    "Obj = results.to_table().to_pandas()\n",
    "del results\n",
    "print('len(Obj) = ', len(Obj))"
   ]
  },
  {
   "cell_type": "code",
   "execution_count": null,
   "id": "75d94295-d5fe-47fa-af2c-fafee7e0e9a4",
   "metadata": {},
   "outputs": [],
   "source": [
    "# Obj"
   ]
  },
  {
   "cell_type": "markdown",
   "id": "ffd05cb9-39ed-4926-b527-f8c0e615ebe3",
   "metadata": {},
   "source": [
    "Add the host information to the `TrueSNIa` table."
   ]
  },
  {
   "cell_type": "code",
   "execution_count": null,
   "id": "dc987188-8e4b-4bb5-afc7-e5b06414c791",
   "metadata": {},
   "outputs": [],
   "source": [
    "TrueSNIa['host_objectId'] = np.zeros(len(TrueSNIa), dtype='int')\n",
    "TrueSNIa['host_ra'] = np.zeros(len(TrueSNIa), dtype='float')\n",
    "TrueSNIa['host_dec'] = np.zeros(len(TrueSNIa), dtype='float')\n",
    "TrueSNIa['host_footprintArea'] = np.zeros(len(TrueSNIa), dtype='float')\n",
    "TrueSNIa['host_r_cModelMag'] = np.zeros(len(TrueSNIa), dtype='float')\n",
    "TrueSNIa['host_offset'] = np.zeros(len(TrueSNIa), dtype='float')"
   ]
  },
  {
   "cell_type": "code",
   "execution_count": null,
   "id": "3020211a-c02b-48f3-9824-638d7f7103b8",
   "metadata": {},
   "outputs": [],
   "source": [
    "for i in range(len(TrueSNIa)):\n",
    "    str_id = str(TrueSNIa.loc[i, 'host_galaxy'])\n",
    "    tx = np.where(str_id == TrueSNIaHosts.loc[:, 'id'])[0]\n",
    "    if len(tx) == 1:\n",
    "        tx2 = np.where(TrueSNIaHosts.loc[tx[0], 'match_objectId'] == Obj.loc[:, 'objectId'])[0]\n",
    "        if len(tx2) == 1:\n",
    "            TrueSNIa.loc[i, 'host_objectId'] = Obj.loc[tx2[0], 'objectId']\n",
    "            TrueSNIa.loc[i, 'host_ra'] = Obj.loc[tx2[0], 'coord_ra']\n",
    "            TrueSNIa.loc[i, 'host_dec'] = Obj.loc[tx2[0], 'coord_dec']\n",
    "            TrueSNIa.loc[i, 'host_footprintArea'] = Obj.loc[tx2[0], 'footprintArea']\n",
    "            TrueSNIa.loc[i, 'host_r_cModelMag'] = Obj.loc[tx2[0], 'r_cModelMag']\n",
    "            \n",
    "            coord_SNIa = SkyCoord(ra=TrueSNIa.loc[i, 'ra']*u.degree, \n",
    "                                  dec=TrueSNIa.loc[i, 'dec']*u.degree)\n",
    "            coord_host = SkyCoord(ra=Obj.loc[tx2[0], 'coord_ra']*u.degree, \n",
    "                                  dec=Obj.loc[tx2[0], 'coord_dec']*u.degree)\n",
    "            offset = coord_SNIa.separation(coord_host)\n",
    "            TrueSNIa.loc[i, 'host_offset'] = offset.arcsec\n",
    "            del coord_SNIa, coord_host, offset\n",
    "        del tx2\n",
    "    del tx"
   ]
  },
  {
   "cell_type": "code",
   "execution_count": null,
   "id": "5ff83654-38de-435e-8c34-14c7b9b316c0",
   "metadata": {},
   "outputs": [],
   "source": [
    "# TrueSNIa"
   ]
  },
  {
   "cell_type": "markdown",
   "id": "59873050-69bf-4705-9d54-c9f806c4f476",
   "metadata": {},
   "source": [
    "Plot the host galaxy brightness vs. footprint area."
   ]
  },
  {
   "cell_type": "code",
   "execution_count": null,
   "id": "48d9f8b2-6350-4560-8da8-131865f1c7bd",
   "metadata": {},
   "outputs": [],
   "source": [
    "fig = plt.figure(figsize=(4, 2))\n",
    "tx = np.where((TrueSNIa.loc[:, 'host_footprintArea'] > 1.0) \n",
    "              & (TrueSNIa.loc[:, 'host_r_cModelMag'] > 1.0))[0]\n",
    "plt.plot(np.log10(TrueSNIa.loc[tx, 'host_footprintArea']), \n",
    "         TrueSNIa.loc[tx, 'host_r_cModelMag'], 'o', alpha=0.3)\n",
    "plt.xlabel('log10(host_footprintArea)')\n",
    "plt.ylabel('host_r_cModelMag')\n",
    "plt.ylim([22,14])\n",
    "plt.show()\n",
    "del tx"
   ]
  },
  {
   "cell_type": "markdown",
   "id": "e47540c0-14a3-4150-9815-032fa4fab727",
   "metadata": {},
   "source": [
    "Plot the host galaxy redshift vs. SNIa offset."
   ]
  },
  {
   "cell_type": "code",
   "execution_count": null,
   "id": "183d91b9-76c9-4dd8-ba98-6f847924b815",
   "metadata": {},
   "outputs": [],
   "source": [
    "fig = plt.figure(figsize=(4, 2))\n",
    "tx = np.where(TrueSNIa.loc[:, 'host_offset'] > 0.001)[0]\n",
    "plt.plot(TrueSNIa.loc[tx, 'redshift'], \n",
    "         np.log10(TrueSNIa.loc[tx, 'host_offset']), 'o', alpha=0.3)\n",
    "plt.xlabel('redshift')\n",
    "plt.ylabel('log10(host_offset)')\n",
    "plt.show()\n",
    "del tx"
   ]
  },
  {
   "cell_type": "markdown",
   "id": "77bc8416-6a17-45a6-872d-7e2156580c0f",
   "metadata": {},
   "source": [
    "Select SNIa that are well-offset from their large bright (but not too bright) host."
   ]
  },
  {
   "cell_type": "code",
   "execution_count": null,
   "id": "cca71d58-cb0e-43ee-9cf7-f865543f004b",
   "metadata": {},
   "outputs": [],
   "source": [
    "tx = np.where((TrueSNIa.loc[:, 'host_footprintArea'] > 25000)\n",
    "              & (TrueSNIa.loc[:, 'host_r_cModelMag'] < 18)\n",
    "              & (TrueSNIa.loc[:, 'host_r_cModelMag'] > 17)\n",
    "              & (TrueSNIa.loc[:, 'host_offset'] > 10.0))[0]"
   ]
  },
  {
   "cell_type": "code",
   "execution_count": null,
   "id": "69f0244d-5c91-4175-aed0-490a6f635fe6",
   "metadata": {},
   "outputs": [],
   "source": [
    "for x in tx:\n",
    "    str_snra = str(np.round(float(TrueSNIa.loc[x, 'ra']), 6))\n",
    "    str_sndec = str(np.round(float(TrueSNIa.loc[x, 'dec']), 6))\n",
    "    str_rdeg = str(np.round(float(TrueSNIa.loc[x, 'host_offset'] / 3600.0), 6))\n",
    "    query = \"SELECT objectId \"\\\n",
    "            \"FROM dp02_dc2_catalogs.Object \"\\\n",
    "            \"WHERE CONTAINS(POINT('ICRS', coord_ra, coord_dec), \"\\\n",
    "            \"CIRCLE('ICRS', \"+str_snra+\", \"+str_sndec+\", \"+str_rdeg+\")) = 1 \"\\\n",
    "            \"AND detect_isPrimary = 1 AND refExtendedness = 1\"\n",
    "    results = service.search(query)\n",
    "    del query\n",
    "    print('%3i %13s %8.6f %7.1f %5.2f %5.2f %3i' % \n",
    "          (x, TrueSNIa.loc[x, 'id_truth_type'], TrueSNIa.loc[x, 'redshift'], \n",
    "           TrueSNIa.loc[x, 'host_footprintArea'], TrueSNIa.loc[x, 'host_r_cModelMag'],\n",
    "           TrueSNIa.loc[x, 'host_offset'], len(results)))\n",
    "    del results, str_snra, str_sndec, str_rdeg"
   ]
  },
  {
   "cell_type": "markdown",
   "id": "00dcc255-8696-40c8-9841-1c5139f2fe8c",
   "metadata": {},
   "source": [
    "Let's choose to explore SNIa MS_9684_23_3. There are 16 other extended (non point source) objects between it and its host."
   ]
  },
  {
   "cell_type": "code",
   "execution_count": null,
   "id": "2fbfb50f-f28a-4df4-b4bd-66bdd44be99c",
   "metadata": {},
   "outputs": [],
   "source": [
    "sn_id_truth_type = 'MS_9940_41_3'\n",
    "\n",
    "use_x = np.where(TrueSNIa.loc[:, 'id_truth_type'] == sn_id_truth_type)[0]\n",
    "\n",
    "sn_redshift = float(TrueSNIa.loc[use_x, 'redshift'])\n",
    "sn_ra = float(TrueSNIa.loc[use_x, 'ra'])\n",
    "sn_dec = float(TrueSNIa.loc[use_x, 'dec'])\n",
    "sn_coords = SkyCoord(ra=sn_ra*u.degree, \n",
    "                     dec=sn_dec*u.degree)\n",
    "sn_host_objectId = int(TrueSNIa.loc[use_x, 'host_objectId'])\n",
    "sn_hostoff = float(TrueSNIa.loc[use_x, 'host_offset'])"
   ]
  },
  {
   "cell_type": "markdown",
   "id": "4ec9fb45-dec5-48f9-8e0b-2e5ba3168c3c",
   "metadata": {},
   "source": [
    "Forget everything we know about this SNIa's host, and try to do the association."
   ]
  },
  {
   "cell_type": "code",
   "execution_count": null,
   "id": "14448f66-2eff-4e43-b7d0-7a2b2b85d72c",
   "metadata": {},
   "outputs": [],
   "source": [
    "# del TrueSNIa, TrueSNIaHosts, Obj"
   ]
  },
  {
   "cell_type": "markdown",
   "id": "e66c3ad2-2aec-40a6-bef0-c1c03559b4b2",
   "metadata": {},
   "source": [
    "## 3. Explore the chosen SNIa and its environment\n",
    "\n",
    "Retrieve all `Objects` within 1 arcminute."
   ]
  },
  {
   "cell_type": "code",
   "execution_count": null,
   "id": "5d99708a-524d-4afc-a0d2-2885285714cc",
   "metadata": {},
   "outputs": [],
   "source": [
    "str_snra = str(np.round(sn_ra, 6))\n",
    "str_sndec = str(np.round(sn_dec, 6))\n",
    "str_rdeg = str(np.round(60.0 / 3600.0, 6))\n",
    "query = \"SELECT objectId, coord_ra, coord_dec, x, y, refExtendedness, \"\\\n",
    "        \"shape_xx, shape_xy, shape_yy, r_kronRad, i_kronRad \"\\\n",
    "        \"FROM dp02_dc2_catalogs.Object \"\\\n",
    "        \"WHERE CONTAINS(POINT('ICRS', coord_ra, coord_dec), \"\\\n",
    "        \"CIRCLE('ICRS', \"+str_snra+\", \"+str_sndec+\", \"+str_rdeg+\")) = 1 \"\\\n",
    "        \"AND detect_isPrimary = 1\"\n",
    "results = service.search(query)\n",
    "Obj = results.to_table().to_pandas()\n",
    "del results, str_snra, str_sndec, str_rdeg, query"
   ]
  },
  {
   "cell_type": "code",
   "execution_count": null,
   "id": "6c07d3b0-2313-4710-8f2e-b4f0cfc61eda",
   "metadata": {},
   "outputs": [],
   "source": [
    "# Obj"
   ]
  },
  {
   "cell_type": "markdown",
   "id": "5d3c5942-c92e-42d3-9531-ffcd0e5e4436",
   "metadata": {},
   "source": [
    "Calculate the on-sky 2d offset between each `Object` and the SNIa."
   ]
  },
  {
   "cell_type": "code",
   "execution_count": null,
   "id": "1e36c065-c35e-4a33-ac56-0f18a69a9ffc",
   "metadata": {},
   "outputs": [],
   "source": [
    "Obj['sn_offset'] = np.zeros(len(Obj), dtype='float')\n",
    "for i in range(len(Obj)):\n",
    "    coord_obj = SkyCoord(ra=Obj.loc[i, 'coord_ra']*u.degree,\n",
    "                         dec=Obj.loc[i, 'coord_dec']*u.degree)\n",
    "    Obj.loc[i, 'sn_offset'] = sn_coords.separation(coord_obj).arcsec\n",
    "    del coord_obj"
   ]
  },
  {
   "cell_type": "markdown",
   "id": "e3804d25-1904-4444-9a86-cceeb1544d8b",
   "metadata": {},
   "source": [
    "Calculate the separation distance using the r- and i-band Kron radii."
   ]
  },
  {
   "cell_type": "code",
   "execution_count": null,
   "id": "c51e4ff1-b55b-4c9c-8b6c-69e95f33bec8",
   "metadata": {},
   "outputs": [],
   "source": [
    "Obj['sn_sep_r'] = np.zeros(len(Obj), dtype='float')\n",
    "Obj['sn_sep_i'] = np.zeros(len(Obj), dtype='float')\n",
    "\n",
    "\n"
   ]
  },
  {
   "cell_type": "code",
   "execution_count": null,
   "id": "31b54e6a-a7bf-4c26-bf3c-a230df2d6d82",
   "metadata": {},
   "outputs": [],
   "source": [
    "cutout = cutout_coadd(butler, sn_ra, sn_dec, band='r', cutoutSideLength=201)"
   ]
  },
  {
   "cell_type": "code",
   "execution_count": null,
   "id": "dcf10a1c-9974-458b-81a4-7b8fe8a76b21",
   "metadata": {},
   "outputs": [],
   "source": [
    "sn_radec = geom.SpherePoint(sn_ra, sn_dec, geom.degrees)"
   ]
  },
  {
   "cell_type": "code",
   "execution_count": null,
   "id": "5cec0d46-800b-40ca-b8c8-2a24f392b785",
   "metadata": {},
   "outputs": [],
   "source": [
    "wcs = cutout.getWcs()"
   ]
  },
  {
   "cell_type": "code",
   "execution_count": null,
   "id": "cff1df06-d3e8-4999-ad6e-55316990d8e9",
   "metadata": {},
   "outputs": [],
   "source": [
    "sn_xy = geom.PointI(wcs.skyToPixel(sn_radec))"
   ]
  },
  {
   "cell_type": "code",
   "execution_count": null,
   "id": "c960a9af-d5c5-4c3c-acbc-8ece72ae55db",
   "metadata": {},
   "outputs": [],
   "source": [
    "query = \"SELECT objectId, coord_ra, coord_dec, x, y \"\\\n",
    "        \"FROM dp02_dc2_catalogs.Object \"\\\n",
    "        \"WHERE objectId = \"+str(sn_host_objectId)\n",
    "results = service.search(query)\n",
    "temp2 = results.to_table().to_pandas()"
   ]
  },
  {
   "cell_type": "code",
   "execution_count": null,
   "id": "7b9b8780-f3d2-4e8b-a765-d645471c473a",
   "metadata": {},
   "outputs": [],
   "source": [
    "fig, ax = plt.subplots()\n",
    "display = afwDisplay.Display(frame=fig)\n",
    "display.scale('asinh', 'zscale')\n",
    "display.mtv(cutout.image)\n",
    "\n",
    "with display.Buffering():\n",
    "    display.dot('+', sn_xy.getX(), sn_xy.getY(), ctype=afwDisplay.RED)\n",
    "    for i in range(len(temp)):\n",
    "        use_ctype = 'white'\n",
    "        if temp.loc[i, 'refExtendedness'] == 0:\n",
    "            use_ctype = 'yellow'\n",
    "        elif temp.loc[i, 'refExtendedness'] == 1:\n",
    "            use_ctype = 'orange'\n",
    "        display.dot('o', temp.loc[i, 'x'], temp.loc[i, 'y'], size=4, ctype=use_ctype)\n",
    "        del use_ctype\n",
    "    for j in range(len(temp2)):\n",
    "        display.dot('o', temp2.loc[j, 'x'], temp2.loc[j, 'y'], size=10, ctype='green')\n",
    "\n",
    "plt.show()\n",
    "remove_figure(fig)"
   ]
  },
  {
   "cell_type": "code",
   "execution_count": null,
   "id": "f961860c-84b3-4b53-a62e-ff1ffdddff1d",
   "metadata": {},
   "outputs": [],
   "source": []
  },
  {
   "cell_type": "code",
   "execution_count": null,
   "id": "80e5c212-3770-4fe7-adb4-3c003186cf70",
   "metadata": {},
   "outputs": [],
   "source": []
  },
  {
   "cell_type": "code",
   "execution_count": null,
   "id": "2b708b81-9d52-4438-baa3-6fcff523891a",
   "metadata": {},
   "outputs": [],
   "source": []
  },
  {
   "cell_type": "code",
   "execution_count": null,
   "id": "0c0a2a7c-4459-46b8-822e-63e8d23780da",
   "metadata": {},
   "outputs": [],
   "source": []
  },
  {
   "cell_type": "code",
   "execution_count": null,
   "id": "f9f0afbe-f5cd-4bc8-9a00-ef72ea084ca7",
   "metadata": {},
   "outputs": [],
   "source": [
    "# sn_ra = 67.4579\n",
    "# sn_dec = -44.0802\n",
    "# sn_spherePoint = lsst.geom.SpherePoint(sn_ra*lsst.geom.degrees,\n",
    "#                                        sn_dec*lsst.geom.degrees)\n",
    "# sn_tract = skymap.findTract(sn_spherePoint).tract_id\n",
    "# sn_patch = skymap.findTract(sn_spherePoint).findPatch(sn_spherePoint).getSequentialIndex()\n",
    "# sn_dataId_deepCoadd = {'band': 'i', 'tract': sn_tract, 'patch': sn_patch}\n",
    "# sn_deepCoadd = butler.get('deepCoadd', dataId=sn_dataId_deepCoadd)"
   ]
  },
  {
   "cell_type": "code",
   "execution_count": null,
   "id": "b18b448c-363e-4d31-9328-90fec4d05711",
   "metadata": {},
   "outputs": [],
   "source": [
    "# fig = plt.figure(figsize=(10, 8))\n",
    "# afw_display = afwDisplay.Display(1)\n",
    "# afw_display.scale('asinh', 'zscale')\n",
    "# afw_display.mtv(sn_deepCoadd.image)\n",
    "# plt.gca().axis('on')"
   ]
  },
  {
   "cell_type": "code",
   "execution_count": null,
   "id": "676c274d-af48-4eb0-9c9f-11a06c09feb9",
   "metadata": {},
   "outputs": [],
   "source": [
    "### NO -- USE TAP FOR CATALOGS\n",
    "### meaning you must decide in advance which columns to use\n",
    "\n",
    "# dataId = {'tract': sn_tract, 'patch': sn_patch}\n",
    "# nearby_objects = butler.get('objectTable', dataId=dataId)"
   ]
  },
  {
   "cell_type": "code",
   "execution_count": null,
   "id": "9c504575-d134-4b27-ae27-ff23392345a6",
   "metadata": {},
   "outputs": [],
   "source": [
    "# nearby_objects"
   ]
  },
  {
   "cell_type": "code",
   "execution_count": null,
   "id": "83001a83-0ba5-4694-8144-a3d048c2f7f5",
   "metadata": {},
   "outputs": [],
   "source": []
  }
 ],
 "metadata": {
  "kernelspec": {
   "display_name": "LSST",
   "language": "python",
   "name": "lsst"
  },
  "language_info": {
   "codemirror_mode": {
    "name": "ipython",
    "version": 3
   },
   "file_extension": ".py",
   "mimetype": "text/x-python",
   "name": "python",
   "nbconvert_exporter": "python",
   "pygments_lexer": "ipython3",
   "version": "3.10.5"
  }
 },
 "nbformat": 4,
 "nbformat_minor": 5
}
