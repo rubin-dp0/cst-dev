{
 "cells": [
  {
   "cell_type": "markdown",
   "id": "da5f7e75-c74a-4668-831d-292b42965a3c",
   "metadata": {},
   "source": [
    "# Draft SNIa Host Science\n",
    "\n",
    "(1) Choose a SNIa to explore. Use truth table.\n",
    "\n",
    "(2) Show the SNIa environ (deep coadd).\n",
    "\n",
    "(3) Explain how there will be 'nearby' galaxy Object IDs in the future. Cite the DMTN.\n",
    "\n",
    "(4) Get Object table data for objects in environ.\n",
    "\n",
    "(5) Identify three nearest stars and galaxies (radial), and three nearest extended objects (separation distance).\n",
    "\n",
    "(6) External NED search for nearest low-z galaxy?\n"
   ]
  },
  {
   "cell_type": "code",
   "execution_count": null,
   "id": "72375312-460e-49d0-9e21-b4205ca3ae4a",
   "metadata": {},
   "outputs": [],
   "source": [
    "import numpy\n",
    "import matplotlib\n",
    "import matplotlib.pyplot as plt\n",
    "\n",
    "import pandas\n",
    "pandas.set_option('display.max_rows', 1000)\n",
    "from lsst.rsp import get_tap_service, retrieve_query\n",
    "\n",
    "import lsst.daf.butler as dafButler\n",
    "import lsst.geom\n",
    "import lsst.afw.display as afwDisplay\n",
    "\n",
    "afwDisplay.setDefaultBackend('matplotlib')"
   ]
  },
  {
   "cell_type": "code",
   "execution_count": null,
   "id": "e816eab2-93a0-4716-832b-406151917bcb",
   "metadata": {},
   "outputs": [],
   "source": [
    "butler = dafButler.Butler('dp02', collections='2.2i/runs/DP0.2')"
   ]
  },
  {
   "cell_type": "code",
   "execution_count": null,
   "id": "fab015fb-0a5a-47f4-ad31-5ff8967be26c",
   "metadata": {},
   "outputs": [],
   "source": [
    "skymap = butler.get('skyMap')"
   ]
  },
  {
   "cell_type": "code",
   "execution_count": null,
   "id": "f9f0afbe-f5cd-4bc8-9a00-ef72ea084ca7",
   "metadata": {},
   "outputs": [],
   "source": [
    "sn_ra = 67.4579\n",
    "sn_dec = -44.0802\n",
    "sn_spherePoint = lsst.geom.SpherePoint(sn_ra*lsst.geom.degrees,\n",
    "                                       sn_dec*lsst.geom.degrees)\n",
    "sn_tract = skymap.findTract(sn_spherePoint).tract_id\n",
    "sn_patch = skymap.findTract(sn_spherePoint).findPatch(sn_spherePoint).getSequentialIndex()\n",
    "sn_dataId_deepCoadd = {'band': 'i', 'tract': sn_tract, 'patch': sn_patch}\n",
    "sn_deepCoadd = butler.get('deepCoadd', dataId=sn_dataId_deepCoadd)"
   ]
  },
  {
   "cell_type": "code",
   "execution_count": null,
   "id": "b18b448c-363e-4d31-9328-90fec4d05711",
   "metadata": {},
   "outputs": [],
   "source": [
    "fig = plt.figure(figsize=(10, 8))\n",
    "afw_display = afwDisplay.Display(1)\n",
    "afw_display.scale('asinh', 'zscale')\n",
    "afw_display.mtv(sn_deepCoadd.image)\n",
    "plt.gca().axis('on')"
   ]
  },
  {
   "cell_type": "code",
   "execution_count": null,
   "id": "676c274d-af48-4eb0-9c9f-11a06c09feb9",
   "metadata": {},
   "outputs": [],
   "source": [
    "### NO -- USE TAP FOR CATALOGS\n",
    "### meaning you must decide in advance which columns to use\n",
    "\n",
    "# dataId = {'tract': sn_tract, 'patch': sn_patch}\n",
    "# nearby_objects = butler.get('objectTable', dataId=dataId)"
   ]
  },
  {
   "cell_type": "code",
   "execution_count": null,
   "id": "9c504575-d134-4b27-ae27-ff23392345a6",
   "metadata": {},
   "outputs": [],
   "source": [
    "# nearby_objects"
   ]
  },
  {
   "cell_type": "code",
   "execution_count": null,
   "id": "83001a83-0ba5-4694-8144-a3d048c2f7f5",
   "metadata": {},
   "outputs": [],
   "source": []
  }
 ],
 "metadata": {
  "kernelspec": {
   "display_name": "LSST",
   "language": "python",
   "name": "lsst"
  },
  "language_info": {
   "codemirror_mode": {
    "name": "ipython",
    "version": 3
   },
   "file_extension": ".py",
   "mimetype": "text/x-python",
   "name": "python",
   "nbconvert_exporter": "python",
   "pygments_lexer": "ipython3",
   "version": "3.10.5"
  }
 },
 "nbformat": 4,
 "nbformat_minor": 5
}
