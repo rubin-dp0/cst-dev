{
 "cells": [
  {
   "cell_type": "code",
   "execution_count": null,
   "id": "bf3bf234-bac2-4212-affc-29e59645887c",
   "metadata": {},
   "outputs": [],
   "source": [
    "import time\n",
    "import numpy as np\n",
    "import matplotlib.pyplot as plt\n",
    "from lsst.rsp import get_tap_service"
   ]
  },
  {
   "cell_type": "code",
   "execution_count": null,
   "id": "2d267bf7-ac4d-42b5-b3b3-6281d1567394",
   "metadata": {},
   "outputs": [],
   "source": [
    "service = get_tap_service()"
   ]
  },
  {
   "cell_type": "markdown",
   "id": "8176cf82-ccb8-4946-85c0-48482fd5f0ec",
   "metadata": {},
   "source": [
    "## no WHERE statement"
   ]
  },
  {
   "cell_type": "code",
   "execution_count": null,
   "id": "99f00fa6-6d64-46db-8def-5405c21dbc8e",
   "metadata": {},
   "outputs": [],
   "source": [
    "query = \"SELECT objectId, coord_ra, coord_dec FROM dp02_dc2_catalogs.Object\"\n",
    "N = 10\n",
    "dt = np.zeros(N, dtype='float')"
   ]
  },
  {
   "cell_type": "code",
   "execution_count": null,
   "id": "f0b7a501-2be7-49b3-9be7-b95e6f9609f2",
   "metadata": {},
   "outputs": [],
   "source": [
    "for i in range(N):\n",
    "    t0 = time.time()\n",
    "    results = service.search(query, maxrec=1000)\n",
    "    dt[i] = time.time() - t0\n",
    "    print(dt[i])\n",
    "    del t0, results"
   ]
  },
  {
   "cell_type": "code",
   "execution_count": null,
   "id": "7b6ba2fa-76e0-4efb-9385-96caecebe2c1",
   "metadata": {},
   "outputs": [],
   "source": [
    "plt.hist(np.abs(dt), bins=20)\n",
    "plt.xlabel('time in seconds')"
   ]
  },
  {
   "cell_type": "markdown",
   "id": "24fd0a61-463f-46c4-9ed0-6968e9aa4210",
   "metadata": {},
   "source": [
    "## with WHERE statement"
   ]
  },
  {
   "cell_type": "code",
   "execution_count": null,
   "id": "4e3674f1-3115-4e74-84ac-f590d4c0cdd3",
   "metadata": {},
   "outputs": [],
   "source": [
    "query = \"SELECT objectId, coord_ra, coord_dec FROM dp02_dc2_catalogs.Object \"\\\n",
    "        \"WHERE g_calibFlux > 229000 AND g_calibFlux < 275000\"\n",
    "N = 1\n",
    "dt = np.zeros(N, dtype='float')"
   ]
  },
  {
   "cell_type": "code",
   "execution_count": null,
   "id": "f6c0c683-f707-43d9-9014-5aa2a65aa3f3",
   "metadata": {},
   "outputs": [],
   "source": [
    "for i in range(N):\n",
    "    t0 = time.time()\n",
    "    results = service.search(query, maxrec=1000)\n",
    "    dt[i] = time.time() - t0\n",
    "    print(dt[i])\n",
    "    del t0, results"
   ]
  },
  {
   "cell_type": "code",
   "execution_count": null,
   "id": "cff6291c-63e5-4aed-afd1-3447da752e9b",
   "metadata": {},
   "outputs": [],
   "source": [
    "query = \"SELECT objectId, coord_ra, coord_dec FROM dp02_dc2_catalogs.Object \"\\\n",
    "        \"WHERE g_calibFlux > 229000 AND g_calibFlux < 275000\"\n",
    "N = 1\n",
    "dt = np.zeros(N, dtype='float')"
   ]
  },
  {
   "cell_type": "code",
   "execution_count": null,
   "id": "d270b1e6-00c5-4bcd-866a-0694b33436c6",
   "metadata": {},
   "outputs": [],
   "source": [
    "for i in range(N):\n",
    "    t0 = time.time()\n",
    "    results = service.search(query)\n",
    "    dt[i] = time.time() - t0\n",
    "    print(dt[i])\n",
    "    del t0, results"
   ]
  },
  {
   "cell_type": "code",
   "execution_count": null,
   "id": "482d9044-90e8-45b1-893a-4475e0bfa204",
   "metadata": {},
   "outputs": [],
   "source": []
  }
 ],
 "metadata": {
  "kernelspec": {
   "display_name": "LSST",
   "language": "python",
   "name": "lsst"
  },
  "language_info": {
   "codemirror_mode": {
    "name": "ipython",
    "version": 3
   },
   "file_extension": ".py",
   "mimetype": "text/x-python",
   "name": "python",
   "nbconvert_exporter": "python",
   "pygments_lexer": "ipython3",
   "version": "3.10.5"
  }
 },
 "nbformat": 4,
 "nbformat_minor": 5
}
