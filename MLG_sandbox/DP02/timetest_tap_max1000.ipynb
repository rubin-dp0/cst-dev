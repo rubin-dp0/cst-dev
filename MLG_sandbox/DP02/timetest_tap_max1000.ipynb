{
 "cells": [
  {
   "cell_type": "code",
   "execution_count": 1,
   "id": "bf3bf234-bac2-4212-affc-29e59645887c",
   "metadata": {},
   "outputs": [],
   "source": [
    "import time\n",
    "import numpy as np\n",
    "import matplotlib.pyplot as plt\n",
    "from lsst.rsp import get_tap_service"
   ]
  },
  {
   "cell_type": "code",
   "execution_count": 2,
   "id": "2d267bf7-ac4d-42b5-b3b3-6281d1567394",
   "metadata": {},
   "outputs": [],
   "source": [
    "service = get_tap_service()"
   ]
  },
  {
   "cell_type": "code",
   "execution_count": 3,
   "id": "99f00fa6-6d64-46db-8def-5405c21dbc8e",
   "metadata": {},
   "outputs": [],
   "source": [
    "query = \"SELECT objectId, coord_ra, coord_dec FROM dp02_dc2_catalogs.Object\"\n",
    "N = 10\n",
    "dt = np.zeros(N, dtype='float')"
   ]
  },
  {
   "cell_type": "code",
   "execution_count": 4,
   "id": "f0b7a501-2be7-49b3-9be7-b95e6f9609f2",
   "metadata": {},
   "outputs": [
    {
     "name": "stdout",
     "output_type": "stream",
     "text": [
      "1.5455505847930908\n",
      "1.0509617328643799\n",
      "5.971421480178833\n",
      "278.1601207256317\n",
      "3.0082340240478516\n",
      "3.724055051803589\n",
      "6.362004280090332\n",
      "4.647897005081177\n",
      "2.5369811058044434\n",
      "3.4508273601531982\n"
     ]
    }
   ],
   "source": [
    "for i in range(N):\n",
    "    t0 = time.time()\n",
    "    results = service.search(query, maxrec=1000)\n",
    "    dt[i] = time.time() - t0\n",
    "    print(dt[i])\n",
    "    del t0, results"
   ]
  },
  {
   "cell_type": "code",
   "execution_count": 5,
   "id": "7b6ba2fa-76e0-4efb-9385-96caecebe2c1",
   "metadata": {},
   "outputs": [
    {
     "data": {
      "text/plain": [
       "Text(0.5, 0, 'time in seconds')"
      ]
     },
     "execution_count": 5,
     "metadata": {},
     "output_type": "execute_result"
    },
    {
     "data": {
      "image/png": "[encoded data removed]",
      "text/plain": [
       "<Figure size 640x480 with 1 Axes>"
      ]
     },
     "metadata": {},
     "output_type": "display_data"
    }
   ],
   "source": [
    "plt.hist(np.abs(dt), bins=20)\n",
    "plt.xlabel('time in seconds')"
   ]
  },
  {
   "cell_type": "code",
   "execution_count": null,
   "id": "c0456c9c-cd89-4664-bae0-03be1a5dfec4",
   "metadata": {},
   "outputs": [],
   "source": []
  }
 ],
 "metadata": {
  "kernelspec": {
   "display_name": "LSST",
   "language": "python",
   "name": "lsst"
  },
  "language_info": {
   "codemirror_mode": {
    "name": "ipython",
    "version": 3
   },
   "file_extension": ".py",
   "mimetype": "text/x-python",
   "name": "python",
   "nbconvert_exporter": "python",
   "pygments_lexer": "ipython3",
   "version": "3.10.5"
  }
 },
 "nbformat": 4,
 "nbformat_minor": 5
}
