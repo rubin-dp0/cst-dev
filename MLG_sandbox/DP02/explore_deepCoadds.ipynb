{
 "cells": [
  {
   "cell_type": "markdown",
   "id": "ca9f5ea0-76af-4cdf-a5c0-8a1b0db9b2c9",
   "metadata": {},
   "source": [
    "# Explore properties of deepCoadd\n",
    "\n",
    " * Melissa Graham\n",
    " * tue apr 18\n",
    " * data.lsst.cloud\n",
    " * w_2023_07"
   ]
  },
  {
   "cell_type": "code",
   "execution_count": null,
   "id": "4c5d162d-d9f2-4a3b-a2ea-04fbe582a2b5",
   "metadata": {},
   "outputs": [],
   "source": [
    "import numpy\n",
    "import matplotlib\n",
    "import matplotlib.pyplot as plt\n",
    "import pandas\n",
    "\n",
    "import lsst.daf.butler as dafButler\n",
    "import lsst.geom\n",
    "import lsst.afw.display as afwDisplay\n",
    "\n",
    "from astropy.wcs import WCS\n",
    "from astropy import units as u\n",
    "from astropy.coordinates import SkyCoord"
   ]
  },
  {
   "cell_type": "code",
   "execution_count": null,
   "id": "4ad735c4-f5d4-4043-ba2a-999c1c49184b",
   "metadata": {},
   "outputs": [],
   "source": [
    "pandas.set_option('display.max_rows', 1000)\n",
    "afwDisplay.setDefaultBackend('matplotlib')"
   ]
  },
  {
   "cell_type": "code",
   "execution_count": null,
   "id": "df609b12-b781-428f-93f0-366d687c18f7",
   "metadata": {},
   "outputs": [],
   "source": [
    "butler = dafButler.Butler('dp02', collections='2.2i/runs/DP0.2')"
   ]
  },
  {
   "cell_type": "code",
   "execution_count": null,
   "id": "b1d50364-374b-49b4-9c10-db1235477d2c",
   "metadata": {},
   "outputs": [],
   "source": [
    "my_ra_deg = 55.745834\n",
    "my_dec_deg = -32.269167\n",
    "my_spherePoint = lsst.geom.SpherePoint(my_ra_deg*lsst.geom.degrees,\n",
    "                                       my_dec_deg*lsst.geom.degrees)\n",
    "skymap = butler.get('skyMap')\n",
    "tract = skymap.findTract(my_spherePoint)\n",
    "patch = tract.findPatch(my_spherePoint)\n",
    "my_tract = tract.tract_id\n",
    "my_patch = patch.getSequentialIndex()\n",
    "dataId = {'band': 'i', 'tract': my_tract, 'patch': my_patch}\n"
   ]
  },
  {
   "cell_type": "code",
   "execution_count": null,
   "id": "24764c85-76ff-4247-a444-3fb772aee79e",
   "metadata": {
    "tags": []
   },
   "outputs": [],
   "source": [
    "my_deepCoadd = butler.get('deepCoadd', dataId=dataId)\n",
    "my_deepCoadd_calexp = butler.get('deepCoadd_calexp', dataId=dataId)"
   ]
  },
  {
   "cell_type": "code",
   "execution_count": null,
   "id": "2259c67e-fb85-48a9-b11d-6fa15c138aaf",
   "metadata": {
    "tags": []
   },
   "outputs": [],
   "source": [
    "print(my_deepCoadd.getPhotoCalib())"
   ]
  },
  {
   "cell_type": "code",
   "execution_count": null,
   "id": "39c5cfd5-cc6b-4a9b-99e5-cf1b71f7eb3c",
   "metadata": {
    "tags": []
   },
   "outputs": [],
   "source": [
    "print(my_deepCoadd_calexp.getPhotoCalib())"
   ]
  },
  {
   "cell_type": "code",
   "execution_count": null,
   "id": "37cf0179-7994-4032-9374-bd18927da7bf",
   "metadata": {
    "tags": []
   },
   "outputs": [],
   "source": [
    "my_objects = butler.get('objectTable', dataId=dataId)"
   ]
  },
  {
   "cell_type": "code",
   "execution_count": null,
   "id": "307dcefc-705e-42a2-be06-01f3327d5ffb",
   "metadata": {},
   "outputs": [],
   "source": [
    "my_objects"
   ]
  },
  {
   "cell_type": "code",
   "execution_count": null,
   "id": "42a9e345-c3a6-4458-a5ce-2a879c0bb556",
   "metadata": {},
   "outputs": [],
   "source": [
    "from lsst.pipe.tasks.characterizeImage import CharacterizeImageTask\n",
    "from lsst.meas.algorithms.detection import SourceDetectionTask\n",
    "from lsst.meas.deblender import SourceDeblendTask\n",
    "from lsst.meas.base import SingleFrameMeasurementTask"
   ]
  },
  {
   "cell_type": "code",
   "execution_count": null,
   "id": "7fae7c04-3085-4b96-82d6-d2d51059773c",
   "metadata": {},
   "outputs": [],
   "source": []
  }
 ],
 "metadata": {
  "kernelspec": {
   "display_name": "LSST",
   "language": "python",
   "name": "lsst"
  },
  "language_info": {
   "codemirror_mode": {
    "name": "ipython",
    "version": 3
   },
   "file_extension": ".py",
   "mimetype": "text/x-python",
   "name": "python",
   "nbconvert_exporter": "python",
   "pygments_lexer": "ipython3",
   "version": "3.10.9"
  }
 },
 "nbformat": 4,
 "nbformat_minor": 5
}
