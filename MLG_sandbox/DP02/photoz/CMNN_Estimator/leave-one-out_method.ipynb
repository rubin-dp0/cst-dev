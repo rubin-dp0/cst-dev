{
 "cells": [
  {
   "cell_type": "markdown",
   "id": "1f012517-479e-4441-aaa8-9fdc8148d42a",
   "metadata": {},
   "source": [
    "# Simulate Object Photo-z\n",
    "\n",
    "Contact: Melissa Graham <br>\n",
    "Last verified to run 2022-10-22 with LSST Science Pipelines version w40. <br>"
   ]
  },
  {
   "cell_type": "markdown",
   "id": "6a6c759e-668f-4e42-98ec-92b5a81aec9d",
   "metadata": {},
   "source": [
    "## The CMNN Photo-z Estimator\n",
    "\n",
    "The CMNN PZ Estimator is a toy estimator that is used primarily to evaluate LSST observing strategies. \n",
    "\n",
    "A full description of the Color-Matched Nearest-Neighbors (CMNN) Photometric Redshift Estimator can be found in the following journal articles:\n",
    " * <a href=\"https://ui.adsabs.harvard.edu/abs/2018AJ....155....1G/abstract\">Photometric Redshifts with the LSST: Evaluating Survey Observing Strategies</a> (Graham et al. 2018) \n",
    " * <a href=\"https://ui.adsabs.harvard.edu/abs/2020AJ....159..258G/abstract\">Photometric Redshifts with the LSST. II. The Impact of Near-infrared and Near-ultraviolet Photometry</a> (Graham et al. 2020)\n",
    "\n",
    "A full-featured version CMNN PZ Estimator can also be found on GitHub: https://github.com/dirac-institute/CMNN_Photoz_Estimator\n",
    "\n",
    "## WARNINGS\n",
    "\n",
    "**This notebook uses a *very simple* version of the CMNN PZ Estimator** with a leave-one-out analysis.\n",
    "\n",
    "This simplified version of the CMNN PZ Estimator:\n",
    " - does not handle sparse regions of color-redshift space as well as the full-featured version\n",
    " - does not have the capability to apply priors in magnitude or color\n",
    " - will not reproduce the photo-z quality demonstrated in the above papers\n",
    " - is not scalable to estimating photo-z for millions of DP0.2 Objects\n",
    " - should not be used for any scientific studies\n",
    "\n",
    "But it does make for a useful learning tool!"
   ]
  },
  {
   "cell_type": "markdown",
   "id": "d44ab9ca-36c4-4da1-904e-9656c7e06650",
   "metadata": {},
   "source": [
    "## Set up"
   ]
  },
  {
   "cell_type": "code",
   "execution_count": null,
   "id": "275a0cf4-f24d-4681-b20f-9f6c6b2a7147",
   "metadata": {},
   "outputs": [],
   "source": [
    "import time\n",
    "import numpy as np\n",
    "import pandas\n",
    "pandas.set_option('display.max_rows', 200)\n",
    "\n",
    "import matplotlib.pyplot as plt\n",
    "%matplotlib inline\n",
    "\n",
    "from scipy.stats import chi2\n",
    "\n",
    "import datetime"
   ]
  },
  {
   "cell_type": "code",
   "execution_count": null,
   "id": "656af075-d26c-488e-8041-3f1ee369f808",
   "metadata": {},
   "outputs": [],
   "source": [
    "import warnings\n",
    "from astropy.units import UnitsWarning\n",
    "warnings.simplefilter(\"ignore\", category=UnitsWarning)"
   ]
  },
  {
   "cell_type": "code",
   "execution_count": null,
   "id": "86994204-3d7a-4123-a9b9-a3182f975155",
   "metadata": {},
   "outputs": [],
   "source": [
    "from lsst.rsp import get_tap_service, retrieve_query\n",
    "service = get_tap_service()"
   ]
  },
  {
   "cell_type": "markdown",
   "id": "73ec52ab-05e4-4ddd-8718-9acf9c49e5f6",
   "metadata": {},
   "source": [
    "## 1.0. Use the TAP service to retrieve true galaxies matched to Objects\n",
    "\n",
    "Query constraints:\n",
    " * `truth_type` = 1 (true galaxies only)\n",
    " * 0.05 < true `redshift` < 2.0\n",
    " * matched to a detected `Object`\n",
    " * measured apparent i-band magnitude < 25.2\n",
    "\n",
    "Spatial constraints: Through a bit of trial and error I figured out that in order to retrieve about 200000 true galaxies, use a radius of 0.7 degrees.\n",
    "\n",
    "This query can take ten minutes."
   ]
  },
  {
   "cell_type": "code",
   "execution_count": null,
   "id": "8e1c36ef-d75e-4fd2-9643-943e84837c65",
   "metadata": {},
   "outputs": [],
   "source": [
    "query = \"SELECT mt.id_truth_type AS mt_id_truth_type, \"\\\n",
    "        \"mt.match_objectId AS mt_match_objectId, \"\\\n",
    "        \"ts.truth_type AS ts_truth_type, \"\\\n",
    "        \"ts.redshift AS ts_redshift, \"\\\n",
    "        \"scisql_nanojanskyToAbMag(ts.flux_u) AS ts_mag_u, \"\\\n",
    "        \"scisql_nanojanskyToAbMag(ts.flux_g) AS ts_mag_g, \"\\\n",
    "        \"scisql_nanojanskyToAbMag(ts.flux_r) AS ts_mag_r, \"\\\n",
    "        \"scisql_nanojanskyToAbMag(ts.flux_i) AS ts_mag_i, \"\\\n",
    "        \"scisql_nanojanskyToAbMag(ts.flux_z) AS ts_mag_z, \"\\\n",
    "        \"scisql_nanojanskyToAbMag(ts.flux_y) AS ts_mag_y, \"\\\n",
    "        \"scisql_nanojanskyToAbMag(obj.u_cModelFlux) AS obj_cModelMag_u, \"\\\n",
    "        \"scisql_nanojanskyToAbMag(obj.g_cModelFlux) AS obj_cModelMag_g, \"\\\n",
    "        \"scisql_nanojanskyToAbMag(obj.r_cModelFlux) AS obj_cModelMag_r, \"\\\n",
    "        \"scisql_nanojanskyToAbMag(obj.i_cModelFlux) AS obj_cModelMag_i, \"\\\n",
    "        \"scisql_nanojanskyToAbMag(obj.z_cModelFlux) AS obj_cModelMag_z, \"\\\n",
    "        \"scisql_nanojanskyToAbMag(obj.y_cModelFlux) AS obj_cModelMag_y, \"\\\n",
    "        \"scisql_nanojanskyToAbMagSigma(obj.u_cModelFlux,obj.u_cModelFluxErr) AS obj_cModelMagErr_u, \"\\\n",
    "        \"scisql_nanojanskyToAbMagSigma(obj.g_cModelFlux,obj.g_cModelFluxErr) AS obj_cModelMagErr_g, \"\\\n",
    "        \"scisql_nanojanskyToAbMagSigma(obj.r_cModelFlux,obj.r_cModelFluxErr) AS obj_cModelMagErr_r, \"\\\n",
    "        \"scisql_nanojanskyToAbMagSigma(obj.i_cModelFlux,obj.i_cModelFluxErr) AS obj_cModelMagErr_i, \"\\\n",
    "        \"scisql_nanojanskyToAbMagSigma(obj.z_cModelFlux,obj.z_cModelFluxErr) AS obj_cModelMagErr_z, \"\\\n",
    "        \"scisql_nanojanskyToAbMagSigma(obj.y_cModelFlux,obj.y_cModelFluxErr) AS obj_cModelMagErr_y \"\\\n",
    "        \"FROM dp02_dc2_catalogs.MatchesTruth AS mt \"\\\n",
    "        \"JOIN dp02_dc2_catalogs.TruthSummary AS ts ON mt.id_truth_type = ts.id_truth_type \"\\\n",
    "        \"JOIN dp02_dc2_catalogs.Object AS obj ON mt.match_objectId = obj.objectId \"\\\n",
    "        \"WHERE CONTAINS(POINT('ICRS', ts.ra, ts.dec), CIRCLE('ICRS', 62.0, -37.0, 0.7)) = 1 \"\\\n",
    "        \"AND ts.truth_type = 1 \"\\\n",
    "        \"AND ts.redshift > 0.05 \"\\\n",
    "        \"AND ts.redshift < 2.00 \"\\\n",
    "        \"AND scisql_nanojanskyToAbMag(obj.i_cModelFlux) < 25.2\"\n",
    "print(query)"
   ]
  },
  {
   "cell_type": "code",
   "execution_count": null,
   "id": "2f2a4779-0826-4429-ad2e-50ea29f5bff1",
   "metadata": {},
   "outputs": [],
   "source": [
    "%%time\n",
    "job = service.submit_job(query)\n",
    "print('Job URL is', job.url)\n",
    "print('Job phase is', job.phase)\n",
    "job.run()\n",
    "job.wait(phases=['COMPLETED', 'ERROR'])\n",
    "print('Job phase is', job.phase)"
   ]
  },
  {
   "cell_type": "code",
   "execution_count": null,
   "id": "a147827c-3c25-4cd8-8184-dd3d2ce38326",
   "metadata": {},
   "outputs": [],
   "source": [
    "# job.raise_if_error()"
   ]
  },
  {
   "cell_type": "code",
   "execution_count": null,
   "id": "8b74ce77-aedd-496f-b6e8-adf600a61b88",
   "metadata": {},
   "outputs": [],
   "source": [
    "results = job.fetch_result().to_table()"
   ]
  },
  {
   "cell_type": "code",
   "execution_count": null,
   "id": "dd171b1a-19b8-4a62-a18c-50882ed80242",
   "metadata": {},
   "outputs": [],
   "source": [
    "# results"
   ]
  },
  {
   "cell_type": "markdown",
   "id": "be4596ef-679b-42fd-a8e9-6ae96f2eab45",
   "metadata": {},
   "source": [
    "### 1.1 Use numpy arrays\n",
    "\n",
    "In the past they've proved quicker than pandas data frames, but, this might depend on architecture and number of objects.\n",
    "\n",
    "It is unconfirmed whether numpy is optimal for this application, but going with it for this demo."
   ]
  },
  {
   "cell_type": "code",
   "execution_count": null,
   "id": "8a2e0ccf-52da-4d6f-be7b-dc7f0e9c4c9f",
   "metadata": {},
   "outputs": [],
   "source": [
    "data_id = np.asarray(results['mt_match_objectId'], dtype='int')"
   ]
  },
  {
   "cell_type": "code",
   "execution_count": null,
   "id": "2ba6400b-2962-445e-8269-23869b2fb3ec",
   "metadata": {},
   "outputs": [],
   "source": [
    "# true (\"spec\") redshifts\n",
    "data_tz = np.asarray(results['ts_redshift'], dtype='float')\n",
    "\n",
    "# true (\"spec\") magnitudes\n",
    "data_tm = np.transpose(np.asarray((results['ts_mag_u'],results['ts_mag_g'],\\\n",
    "                                   results['ts_mag_r'],results['ts_mag_i'],\\\n",
    "                                   results['ts_mag_z'],results['ts_mag_y']),\\\n",
    "                                  dtype='float' ) )\n",
    "\n",
    "# object apparent magnitudes\n",
    "data_om = np.transpose(np.asarray((results['obj_cModelMag_u'],results['obj_cModelMag_g'],\\\n",
    "                                   results['obj_cModelMag_r'],results['obj_cModelMag_i'],\\\n",
    "                                   results['obj_cModelMag_z'],results['obj_cModelMag_y']),\\\n",
    "                                  dtype='float' ) )\n",
    "\n",
    "# object apparent magnitude errors\n",
    "data_ome = np.transpose(np.asarray((results['obj_cModelMagErr_u'],results['obj_cModelMagErr_g'],\\\n",
    "                                    results['obj_cModelMagErr_r'],results['obj_cModelMagErr_i'],\\\n",
    "                                    results['obj_cModelMagErr_z'],results['obj_cModelMagErr_y']),\\\n",
    "                                   dtype='float' ) )"
   ]
  },
  {
   "cell_type": "code",
   "execution_count": null,
   "id": "e8e8081e-0a10-4ec1-91ed-24d1466cc3c6",
   "metadata": {},
   "outputs": [],
   "source": [
    "# true (\"spec\") and object colors and color errors\n",
    "data_tc = np.zeros( (len(data_om),5), dtype='float' )\n",
    "data_oc = np.zeros( (len(data_om),5), dtype='float' )\n",
    "data_oce = np.zeros( (len(data_om),5), dtype='float' )\n",
    "\n",
    "data_tc[:,0] = data_tm[:,0] - data_tm[:,1]\n",
    "data_tc[:,1] = data_tm[:,1] - data_tm[:,2]\n",
    "data_tc[:,2] = data_tm[:,2] - data_tm[:,3]\n",
    "data_tc[:,3] = data_tm[:,3] - data_tm[:,4]\n",
    "data_tc[:,4] = data_tm[:,4] - data_tm[:,5]\n",
    "\n",
    "data_oc[:,0] = data_om[:,0] - data_om[:,1]\n",
    "data_oc[:,1] = data_om[:,1] - data_om[:,2]\n",
    "data_oc[:,2] = data_om[:,2] - data_om[:,3]\n",
    "data_oc[:,3] = data_om[:,3] - data_om[:,4]\n",
    "data_oc[:,4] = data_om[:,4] - data_om[:,5]\n",
    "\n",
    "data_oce[:,0] = np.sqrt( data_ome[:,0]**2 + data_ome[:,1]**2 )\n",
    "data_oce[:,1] = np.sqrt( data_ome[:,1]**2 + data_ome[:,2]**2 )\n",
    "data_oce[:,2] = np.sqrt( data_ome[:,2]**2 + data_ome[:,3]**2 )\n",
    "data_oce[:,3] = np.sqrt( data_ome[:,3]**2 + data_ome[:,4]**2 )\n",
    "data_oce[:,4] = np.sqrt( data_ome[:,4]**2 + data_ome[:,5]**2 )"
   ]
  },
  {
   "cell_type": "markdown",
   "id": "f7282f66-a0d4-46fa-94e3-3cbf5f7d6a6e",
   "metadata": {},
   "source": [
    "### 1.2 Plot color vs. redshift\n",
    "\n",
    "If you want to see what the galaxy properties are like.\n",
    "\n",
    "Note that the redshift distribution shows structure.\n",
    "This is cosmic variance, an effect of using a small area."
   ]
  },
  {
   "cell_type": "code",
   "execution_count": null,
   "id": "6e0455bc-9b7b-4f2b-9e92-a9e45248e1e1",
   "metadata": {},
   "outputs": [],
   "source": [
    "fig, axs = plt.subplots(2,3, figsize=(10, 5))\n",
    "fig.suptitle('true galaxy color vs. true redshift')\n",
    "axs[0,0].plot(data_tz, data_tc[:,0], 'o', ms=2, mew=0, alpha=0.01, color='darkviolet')\n",
    "axs[0,0].set_ylabel('u-g')\n",
    "axs[0,0].set_ylim([-1,2])\n",
    "axs[0,1].plot(data_tz, data_tc[:,1], 'o', ms=2, mew=0, alpha=0.01, color='darkgreen')\n",
    "axs[0,1].set_ylabel('g-r')\n",
    "axs[0,1].set_ylim([-1,2])\n",
    "axs[0,2].plot(data_tz, data_tc[:,2], 'o', ms=2, mew=0, alpha=0.01, color='darkorange')\n",
    "axs[0,2].set_ylabel('r-i')\n",
    "axs[0,2].set_ylim([-1,2])\n",
    "axs[1,0].plot(data_tz, data_tc[:,3], 'o', ms=2, mew=0, alpha=0.01, color='firebrick')\n",
    "axs[1,0].set_ylabel('i-z')\n",
    "axs[1,0].set_xlabel('redshift')\n",
    "axs[1,0].set_ylim([-1,2])\n",
    "axs[1,1].plot(data_tz, data_tc[:,4], 'o', ms=2, mew=0, alpha=0.01, color='saddlebrown')\n",
    "axs[1,1].set_ylabel('z-y')\n",
    "axs[1,1].set_xlabel('redshift')\n",
    "axs[1,1].set_ylim([-1,2])\n",
    "axs[1,2].hist(data_tz, color='grey', bins=100)\n",
    "axs[1,2].set_xlabel('redshift')\n",
    "fig.show()"
   ]
  },
  {
   "cell_type": "markdown",
   "id": "1355b2c4-12a4-460a-a5b4-4a3522f378ee",
   "metadata": {},
   "source": [
    "<br>\n",
    "\n",
    "## 2.0 Estimate photo-z\n",
    "\n",
    "This notebook uses a leave-one-out method: for each galaxy that we retrieved (i.e., each \"test\" galaxy), we use *all the other galaxies* and their true redshifts as the \"training\" set.\n",
    "\n",
    "For each test galaxy, the estimator identifies a color-matched nearest-neighbors (CMNN) subset of training galaxies.\n",
    "\n",
    "This process starts by calculating the Mahalanobis distance in color-space between the test galaxy and all training galaxies:\n",
    "\n",
    "$D_M = \\sum_{\\rm 1}^{N_{\\rm colors}} \\frac{( c_{\\rm test} - c_{\\rm train} )^2}{ (\\delta c_{\\rm test})^2}$\n",
    "\n",
    "where \n",
    " - $c_{\\rm train}$ is the (true/spec) color of the training-set galaxy (`data_tc`),\n",
    " - $c_{\\rm test}$ is the (Object/observed) color of the test-set galaxy (`data_oc`),\n",
    " - $\\delta c_{\\rm test}$ is the uncertainty in the test galaxy's color (`data_oce`), and\n",
    " - $N_{\\rm color}$ is the number of colors measured for both the test- and training-set galaxy. \n",
    "\n",
    "A threshold value is then applied to all training-set galaxies to identify the CMNN subset (i.e., those which are \"well-matched\" in color).\n",
    "\n",
    "This threshold value is defined by the percent point function (PPF).\n",
    "E.g., if the number of degrees of freedom $N_{\\rm color}=5$, PPF$=68\\%$ of all training galaxies consistent with the test galaxy will have $D_M < 5.86$.\n",
    "\n",
    "A training galaxy is then selected randomly from the CMNN subset.\n",
    "Its redshift is used as the test-set galaxy's photometric redshift.\n",
    "The standard deviation in redshifts of all CMNN subset training galaxies is used as the uncertainty in the photo-_z_ estimate.\n",
    "\n",
    "<br>\n",
    "\n",
    "### 2.1 Set the tunable parameters\n",
    "\n",
    "This simple version of the CMNN estimator takes just two tunable parameters:\n",
    "\n",
    "(1) The percent point function (`cmnn_ppf`), as described above. The default is 0.68.\n",
    "\n",
    "(2) The minimum number of colors (`cmnn_minNclr`) that a training-set galaxy must have in common with the test galaxy. The default is 5 (i.e., all five colors). This parameter could be lowered if magnitude cuts are applied, leaving some galaxies undetected in some bands."
   ]
  },
  {
   "cell_type": "code",
   "execution_count": null,
   "id": "a11a3546-b67d-459b-ba25-efe576aa432c",
   "metadata": {},
   "outputs": [],
   "source": [
    "cmnn_ppf = 0.68 \n",
    "cmnn_minNclr = 5"
   ]
  },
  {
   "cell_type": "markdown",
   "id": "aba0b4cd-9d04-48cb-a754-0018279710ea",
   "metadata": {},
   "source": [
    "We make and use a thresholds lookup table because chi2.ppf is slow. As described above, the threshold values are based on the desired percent point function (PPF)."
   ]
  },
  {
   "cell_type": "code",
   "execution_count": null,
   "id": "6ceda42a-5ff4-4e60-8ab7-89343ba0e5fe",
   "metadata": {},
   "outputs": [],
   "source": [
    "cmnn_thresh_table = np.zeros(6, dtype='float')\n",
    "for d in range(6):\n",
    "    cmnn_thresh_table[d] = chi2.ppf(cmnn_ppf,d)\n",
    "cmnn_thresh_table[0] = float(0.0000)\n",
    "\n",
    "for d in range(6):\n",
    "    print('degrees of freedom = %1i, threshold = %5.3f' % (d, np.round(cmnn_thresh_table[d],3)))"
   ]
  },
  {
   "cell_type": "markdown",
   "id": "64d25ad7-cb77-4548-8d02-d3a841bedc18",
   "metadata": {},
   "source": [
    "<br>\n",
    "\n",
    "### 2.2 Estimate the photo-z\n",
    "\n",
    "Make arrays to hold photo-z for all of the galaxies"
   ]
  },
  {
   "cell_type": "code",
   "execution_count": null,
   "id": "139828d4-7ad4-45a1-b3ad-8034581f645c",
   "metadata": {},
   "outputs": [],
   "source": [
    "data_pz = np.zeros(len(data_tz), dtype='float') - 1.0\n",
    "data_pze = np.zeros(len(data_tz), dtype='float') - 1.0"
   ]
  },
  {
   "cell_type": "markdown",
   "id": "440ec6a3-93ea-479a-acb6-7f6780282b28",
   "metadata": {},
   "source": [
    "Set `Ncalc` to be how many test-set galaxies you want photo-z estimates for.\n",
    "\n",
    "**WARNING:** It takes about 30 min to do 100,000 test galaxies (about 1.5 min to do 5,000 test galaxies)."
   ]
  },
  {
   "cell_type": "code",
   "execution_count": null,
   "id": "f7404939-dbfa-4ea5-adc0-9078297d1f1d",
   "metadata": {},
   "outputs": [],
   "source": [
    "Ncalc = 5000"
   ]
  },
  {
   "cell_type": "markdown",
   "id": "680ffaa2-ffc8-4bf8-9765-f6aece24c87d",
   "metadata": {},
   "source": [
    "Choose a random set of galaxies as the test set."
   ]
  },
  {
   "cell_type": "code",
   "execution_count": null,
   "id": "fe0cdca4-206e-42c1-9a62-f5a6f5293117",
   "metadata": {},
   "outputs": [],
   "source": [
    "rx = np.random.choice(len(data_tz), Ncalc, replace=False)"
   ]
  },
  {
   "cell_type": "markdown",
   "id": "60d4130f-7f05-4df4-a2f9-91ed8337d4c7",
   "metadata": {},
   "source": [
    "Calculate photo-z and uncertainties using the CMNN method."
   ]
  },
  {
   "cell_type": "code",
   "execution_count": null,
   "id": "657b8248-966a-43e1-9b0d-d64be4c049c9",
   "metadata": {},
   "outputs": [],
   "source": [
    "%%time\n",
    "\n",
    "t1 = datetime.datetime.now()\n",
    "\n",
    "for i,r in enumerate(rx):\n",
    "    if (i == 100) | (i == 1000) | (i == Ncalc-1000):\n",
    "        t2 = datetime.datetime.now()\n",
    "        print(i, t2-t1, ((t2-t1)/float(i))*(float(Ncalc)), ' remaining' )\n",
    "\n",
    "    # calculate DM and DOF\n",
    "    DM  = np.nansum((data_oc[r,:] - data_tc[:,:])**2 / data_oce[r,:]**2, axis=1, dtype='float')\n",
    "    DOF = np.nansum((data_oc[r,:]**2 + data_tc[:,:]**2 + 1.0) / (data_oc[r,:]**2 + data_tc[:,:]**2 + 1.0), axis=1, dtype='int')\n",
    "    \n",
    "    # calculate the thresholds\n",
    "    data_th = np.zeros(len(DOF), dtype='float')\n",
    "    for d in range(6):\n",
    "        tx = np.where(DOF == d)[0]\n",
    "        data_th[tx] = cmnn_thresh_table[d]\n",
    "        del tx\n",
    "    \n",
    "    DM[r] = 99.9\n",
    "\n",
    "    # identify the CMNN subset of training-set galaxies:\n",
    "    # those for which the DM is less than the threshold\n",
    "    ix = np.where((DOF >= cmnn_minNclr) & (data_th > 0.00010) & \\\n",
    "                  (DM > 0.00010) & (DM <= data_th))[0]\n",
    "    \n",
    "    if len(ix) > 0:\n",
    "        # choose a random training-set galaxy from the CMNN subset\n",
    "        rix = np.random.choice(ix, size=1, replace=False)[0]\n",
    "        data_pz[r] = data_tz[rix]\n",
    "        data_pze[r] = np.std(data_tz[ix])\n",
    "        del rix\n",
    "    else:\n",
    "        data_pz[r] = float('nan')\n",
    "        data_pze[r] = float('nan')\n",
    "        \n",
    "    del DM, DOF, data_th, ix"
   ]
  },
  {
   "cell_type": "markdown",
   "id": "f6c4eade-b760-4854-a5b6-3a0e721f0860",
   "metadata": {},
   "source": [
    "#### 2.2.1 Quick check of success rate"
   ]
  },
  {
   "cell_type": "code",
   "execution_count": null,
   "id": "0867beac-41b6-41ab-97e7-df62a6f7609e",
   "metadata": {},
   "outputs": [],
   "source": [
    "tx = np.where( np.isnan(data_pz) )[0]\n",
    "print( len(tx), ' galaxies did not get a pz estimate' )\n",
    "del tx\n",
    "\n",
    "tx = np.where( data_pz > 0.0 )[0]\n",
    "print( len(tx), ' galaxies did get a pz estimate' )\n",
    "del tx"
   ]
  },
  {
   "cell_type": "markdown",
   "id": "3f12d8ef-cac2-43b1-ae55-17602bf77b84",
   "metadata": {},
   "source": [
    "<br>\n",
    "\n",
    "### 2.3 Plot the photo-z results"
   ]
  },
  {
   "cell_type": "markdown",
   "id": "d2966db7-8877-4bb8-ba26-b302268f4f5e",
   "metadata": {},
   "source": [
    "#### 2.3.1 Plot the photometric *versus* the true redshifts."
   ]
  },
  {
   "cell_type": "code",
   "execution_count": null,
   "id": "b983a22f-9ea5-4d98-9686-bfe4fe7caa1e",
   "metadata": {},
   "outputs": [],
   "source": [
    "tx = np.where( data_pz > 0.0 )[0]\n",
    "\n",
    "fig = plt.figure(figsize=(4,4))\n",
    "plt.plot( [0.0,2.0], [0.0,2.0], ls='solid', lw=1, color='firebrick')\n",
    "plt.plot( data_tz[tx], data_pz[tx], 'o', ms=5, mew=0, alpha=0.1, color='grey' )\n",
    "plt.xlabel('true redshift')\n",
    "plt.ylabel('photometric redshift')\n",
    "plt.show()\n",
    "\n",
    "del tx"
   ]
  },
  {
   "cell_type": "markdown",
   "id": "02165d1e-ab7a-4325-873c-9b9d91572443",
   "metadata": {},
   "source": [
    "#### 2.3.2 Plot the photo-z uncertainty *versus* the photo-z accuracy.\n",
    "\n",
    "The photo-z accuracy is the absolute value of the difference between the true and photometric redshifts.\n",
    "\n",
    "Recall that the photo-z uncertainty is the standard deviation of the true redshifts of the training-set galaxies in the CMNN subset, as described in Section 2. The fact that a bunch of galaxies have an uncertainty of zero means there are galaxies with only 1 training-set galaxy in their CMNN subset. The full CMNN PZ Estimator treats such galaxies better (see Section 3)."
   ]
  },
  {
   "cell_type": "code",
   "execution_count": null,
   "id": "cdf97a84-866f-4680-87dd-b7b72f125949",
   "metadata": {},
   "outputs": [],
   "source": [
    "tx = np.where( data_pz > 0.0 )[0]\n",
    "\n",
    "fig = plt.figure(figsize=(4,4))\n",
    "plt.plot( [0.0,1.0], [0.0,1.0], ls='solid', lw=1, color='firebrick')\n",
    "plt.plot( np.abs(data_tz[tx]-data_pz[tx]), data_pze[tx],\\\n",
    "         'o', ms=5, mew=0, alpha=0.1, color='grey' )\n",
    "plt.xlabel('photo-z accuracy')\n",
    "plt.ylabel('photo-z uncertainty')\n",
    "plt.xlim([-0.05,1.0])\n",
    "plt.ylim([-0.05,1.0])\n",
    "plt.show()\n",
    "\n",
    "del tx"
   ]
  },
  {
   "cell_type": "markdown",
   "id": "8a7b5b80-d1b3-4f60-bdc9-ebb1443ed0f7",
   "metadata": {},
   "source": [
    "<br>\n",
    "\n",
    "## 3.0 Future Work\n",
    "\n",
    "(1) Generate a *separate* training set of ~200000 galaxies, and then apply it to a *separate* test set of many more galaxies.\n",
    "\n",
    "(2) Install the full CMNN PZ Estimator as a package, and demonstrate how to use it. This might take some modification. The full package features more parameters, and modules for statistical analysis and plotting. The additional parameters include magnitude and color priors, alternatives to randomly selecting from the CMNN subset, and more robust treatment of test-set galaxies with few training-set galaxies in the CMNN subset. \n",
    "\n",
    "(3) Demonstrate how/whether photo-z are worse from non-cModel fluxes.\n",
    "\n",
    "(4) Allow the test set to include stars mis-identified as extended objects. What are their photo-z like?"
   ]
  },
  {
   "cell_type": "code",
   "execution_count": null,
   "id": "2803e3bd-a1e8-4c5b-b862-514f9d859429",
   "metadata": {},
   "outputs": [],
   "source": []
  }
 ],
 "metadata": {
  "kernelspec": {
   "display_name": "LSST",
   "language": "python",
   "name": "lsst"
  },
  "language_info": {
   "codemirror_mode": {
    "name": "ipython",
    "version": 3
   },
   "file_extension": ".py",
   "mimetype": "text/x-python",
   "name": "python",
   "nbconvert_exporter": "python",
   "pygments_lexer": "ipython3",
   "version": "3.10.5"
  }
 },
 "nbformat": 4,
 "nbformat_minor": 5
}
