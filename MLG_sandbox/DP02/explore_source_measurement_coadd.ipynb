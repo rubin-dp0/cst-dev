{
 "cells": [
  {
   "cell_type": "markdown",
   "id": "ea18fc1d-a242-4648-8010-bb3765c816c7",
   "metadata": {
    "tags": []
   },
   "source": [
    "# Explore source measurement on a custom coadd\n",
    "\n",
    "**Runs at:** data-int.lsst.cloud"
   ]
  },
  {
   "cell_type": "markdown",
   "id": "efe0e4c4-5a41-4b9b-ad8e-8102d609acb8",
   "metadata": {},
   "source": [
    "<br>\n",
    "\n",
    "**Goal:** For a custom i-band coadd that I have made with just a week's worth of inputs, run source detection, deblend, and measurement on the coadd. The contents of this NB will become part of Section 5 of \"draft_create_custom_coadds.ipynb\".\n",
    "\n",
    "<br>\n",
    "\n",
    "**Current Issue**\n",
    "\n",
    "The `quanta = spe.run()` cell will execute, but the `lsst.deblend.multibandDeblend` step went on for >20 min, which is far too long, and made me realize we should just be doing single band deblending here.\n",
    "\n",
    "From the <a href=\"https://pipelines.lsst.io/modules/lsst.pipe.tasks/tasks/lsst.pipe.tasks.multiBand.DeblendCoaddSourcesTask.html?highlight=multibanddeblend\">docs page for multibandDeblend</a>, it looked like we could set the configuration parameter `simultaenous = False` in order to retarget to `singleBandDeblend`. So I did include this configuration override below:\n",
    "\n",
    "> `measureSourcesPipeline.addConfigOverride('deblend', 'simultaneous', 'False')`\n",
    "\n",
    "but now the `spe = SimplePipelineExecutor.from_pipeline(measureSourcesPipeline, where=queryString, butler=simpleButler)` cell yeilds the error message:\n",
    "\n",
    "> `AttributeError: lsst.pipe.tasks.deblendCoaddSourcesPipeline.DeblendCoaddSourcesMultiConfig has no attribute simultaneous`\n",
    "\n",
    "So the question is, should we be setting our pipeline to just do single band deblending, and if so, how do we do that?\n",
    "\n",
    "And maybe to step back -- should we even be doing the `mergeDetections` step if we only have a single filter?"
   ]
  },
  {
   "cell_type": "markdown",
   "id": "94dc299c-258c-4417-bba9-059b6fc83ca3",
   "metadata": {},
   "source": [
    "<br> \n",
    "\n",
    "**Last run with:**"
   ]
  },
  {
   "cell_type": "code",
   "execution_count": 1,
   "id": "83c6ec32-7419-450a-b8a5-47925e46ca2c",
   "metadata": {},
   "outputs": [
    {
     "name": "stdout",
     "output_type": "stream",
     "text": [
      "Weekly 2022_38\n",
      "lsst_distrib          g0b29ad24fb+cd38383676 \tcurrent w_2022_38 setup\n"
     ]
    }
   ],
   "source": [
    "! echo $IMAGE_DESCRIPTION\n",
    "! eups list -s | grep lsst_distrib"
   ]
  },
  {
   "cell_type": "markdown",
   "id": "4c35ae3d-e686-4806-b572-2bf5da03d61a",
   "metadata": {},
   "source": [
    "<br>\n",
    "\n",
    "**Imports & Set Up**"
   ]
  },
  {
   "cell_type": "code",
   "execution_count": 2,
   "id": "146b88ab-9582-40dd-bc2f-1b7c778af7ce",
   "metadata": {},
   "outputs": [],
   "source": [
    "import time\n",
    "import numpy as np\n",
    "import pandas\n",
    "\n",
    "import lsst.geom\n",
    "import lsst.afw.display as afwDisplay\n",
    "\n",
    "from lsst.daf.butler import Butler, CollectionType\n",
    "\n",
    "# lsst packages for executing pipeline tasks\n",
    "from lsst.ctrl.mpexec import SimplePipelineExecutor\n",
    "from lsst.pipe.base import Pipeline, Instrument"
   ]
  },
  {
   "cell_type": "code",
   "execution_count": 3,
   "id": "f275bdc0-f4b4-4e48-8224-f008f41ec0d1",
   "metadata": {},
   "outputs": [],
   "source": [
    "config = \"dp02\"\n",
    "collection = \"u/melissagraham/coadd_recreation_nb\"\n",
    "outputRun = \"u/melissagraham/coadd_recreation_nb/TestWindow1_sources\"\n",
    "my_dataId = {'band': 'i', 'tract': 4431, 'patch': 17}"
   ]
  },
  {
   "cell_type": "markdown",
   "id": "8ad0ad86-4743-4e72-b6dd-5443e44141f6",
   "metadata": {},
   "source": [
    "<br>\n",
    "\n",
    "**Optional:** Take a quick look at what I already have in the butler."
   ]
  },
  {
   "cell_type": "code",
   "execution_count": 4,
   "id": "eff0faa8-80be-4673-9ba3-e12ab26c6be6",
   "metadata": {},
   "outputs": [
    {
     "data": {
      "text/html": [
       "<pre style=\"margin: 0.1em;\n",
       "padding-left: 0.25em;\n",
       "border-left-style: solid;\n",
       "font-family: var(--jp-code-font-family);\n",
       "font-size: var(--jp-code-font-size);\n",
       "line-height: var(--jp-code-line-height);\n",
       "\"><span style=\"color: var(--jp-warn-color2)\">botocore.credentials</span> <span style=\"color: var(--jp-info-color0)\">INFO</span>: Found credentials in shared credentials file: /home/melissagraham/.lsst/aws-credentials.ini</pre>"
      ],
      "text/plain": [
       "<IPython.core.display.HTML object>"
      ]
     },
     "metadata": {},
     "output_type": "display_data"
    }
   ],
   "source": [
    "my_butler = Butler(config)"
   ]
  },
  {
   "cell_type": "code",
   "execution_count": 5,
   "id": "73524b30-6690-4dab-876e-741314075f01",
   "metadata": {},
   "outputs": [
    {
     "name": "stdout",
     "output_type": "stream",
     "text": [
      "u/melissagraham/coadd_recreation_nb\n",
      "u/melissagraham/coadd_recreation_nb/TestWindow1_coadd\n",
      "u/melissagraham/coadd_recreation_nb/TestWindow1_sources\n"
     ]
    }
   ],
   "source": [
    "for c in sorted(my_butler.registry.queryCollections()):\n",
    "    if c.find('melissagraham') > -1:\n",
    "        print(c)"
   ]
  },
  {
   "cell_type": "code",
   "execution_count": 6,
   "id": "eaf4d45d-c5db-4aa1-b55f-5502266f52a0",
   "metadata": {},
   "outputs": [],
   "source": [
    "del my_butler"
   ]
  },
  {
   "cell_type": "markdown",
   "id": "20313e44-7aaa-4e94-82e1-d9f2070d23ee",
   "metadata": {},
   "source": [
    "<br>\n",
    "\n",
    "**Optional:** Delete `TestWindow1_sources` if it already exists, because we use it as the outputRun below."
   ]
  },
  {
   "cell_type": "code",
   "execution_count": 7,
   "id": "9214a240-4069-4691-914c-64ee4cda1fa3",
   "metadata": {},
   "outputs": [],
   "source": [
    "my_butler = Butler(config, collections=[collection], writeable=True)"
   ]
  },
  {
   "cell_type": "code",
   "execution_count": 8,
   "id": "d883cf68-f2bb-4641-9741-2c2c30133c96",
   "metadata": {},
   "outputs": [],
   "source": [
    "my_butler.removeRuns(['u/melissagraham/coadd_recreation_nb/TestWindow1_sources'])"
   ]
  },
  {
   "cell_type": "code",
   "execution_count": 9,
   "id": "d3bee7b2-3be8-438a-be9c-b8e5cee71be1",
   "metadata": {},
   "outputs": [
    {
     "name": "stdout",
     "output_type": "stream",
     "text": [
      "u/melissagraham/coadd_recreation_nb\n",
      "u/melissagraham/coadd_recreation_nb/TestWindow1_coadd\n"
     ]
    }
   ],
   "source": [
    "for c in sorted(my_butler.registry.queryCollections()):\n",
    "    if c.find('melissagraham') > -1:\n",
    "        print(c)"
   ]
  },
  {
   "cell_type": "code",
   "execution_count": 10,
   "id": "c20a623d-c8be-4f08-901d-22f3bf041692",
   "metadata": {},
   "outputs": [],
   "source": [
    "del my_butler"
   ]
  },
  {
   "cell_type": "markdown",
   "id": "d9309053-a7b8-43be-864a-398b854930cb",
   "metadata": {},
   "source": [
    "<br>\n",
    "\n",
    "**Instantiate simpleButler**"
   ]
  },
  {
   "cell_type": "code",
   "execution_count": 11,
   "id": "95d8162d-cb20-467e-aaee-59cf43d2879c",
   "metadata": {},
   "outputs": [],
   "source": [
    "simpleButler = Butler(config, collections=[collection], run=outputRun, writeable=True)"
   ]
  },
  {
   "cell_type": "code",
   "execution_count": 12,
   "id": "cba8147a-aa8d-4b10-8d52-3d46a7fd73b0",
   "metadata": {},
   "outputs": [
    {
     "data": {
      "text/plain": [
       "CollectionSearch(('u/melissagraham/coadd_recreation_nb/TestWindow1_coadd', '2.2i/runs/DP0.2'))"
      ]
     },
     "execution_count": 12,
     "metadata": {},
     "output_type": "execute_result"
    }
   ],
   "source": [
    "simpleButler.registry.getCollectionChain(collection)"
   ]
  },
  {
   "cell_type": "markdown",
   "id": "61f4ba77-c2f3-4e75-b8ea-8bb193f15657",
   "metadata": {},
   "source": [
    "**Check:** that the coadd being used is the 6-input coadd from `TestWindow1_coadd`."
   ]
  },
  {
   "cell_type": "code",
   "execution_count": 13,
   "id": "455653a2-0596-474a-85b6-cb815afe7301",
   "metadata": {},
   "outputs": [
    {
     "data": {
      "text/html": [
       "<div><i>Table length=6</i>\n",
       "<table id=\"table139805099901424\" class=\"table-striped table-bordered table-condensed\">\n",
       "<thead><tr><th>id</th><th>bbox_min_x</th><th>bbox_min_y</th><th>bbox_max_x</th><th>bbox_max_y</th><th>goodpix</th><th>weight</th><th>filter</th></tr></thead>\n",
       "<thead><tr><th></th><th>pix</th><th>pix</th><th>pix</th><th>pix</th><th></th><th></th><th></th></tr></thead>\n",
       "<thead><tr><th>int64</th><th>int32</th><th>int32</th><th>int32</th><th>int32</th><th>int32</th><th>float64</th><th>str32</th></tr></thead>\n",
       "<tr><td>919515</td><td>11900</td><td>7900</td><td>16099</td><td>12099</td><td>8982709</td><td>3.4656688819793495</td><td>i_sim_1.4</td></tr>\n",
       "<tr><td>924057</td><td>11900</td><td>7900</td><td>16099</td><td>12099</td><td>16098179</td><td>4.384267091685517</td><td>i_sim_1.4</td></tr>\n",
       "<tr><td>924085</td><td>11900</td><td>7900</td><td>16099</td><td>12099</td><td>831332</td><td>4.446833161599578</td><td>i_sim_1.4</td></tr>\n",
       "<tr><td>924086</td><td>11900</td><td>7900</td><td>16099</td><td>12099</td><td>16136708</td><td>4.550420295334223</td><td>i_sim_1.4</td></tr>\n",
       "<tr><td>929477</td><td>11900</td><td>7900</td><td>16099</td><td>12099</td><td>16280498</td><td>4.051326013718346</td><td>i_sim_1.4</td></tr>\n",
       "<tr><td>930353</td><td>11900</td><td>7900</td><td>16099</td><td>12099</td><td>16076133</td><td>3.7685753871220466</td><td>i_sim_1.4</td></tr>\n",
       "</table></div>"
      ],
      "text/plain": [
       "<Table length=6>\n",
       "  id   bbox_min_x bbox_min_y ... goodpix        weight         filter \n",
       "          pix        pix     ...                                      \n",
       "int64    int32      int32    ...  int32        float64         str32  \n",
       "------ ---------- ---------- ... -------- ------------------ ---------\n",
       "919515      11900       7900 ...  8982709 3.4656688819793495 i_sim_1.4\n",
       "924057      11900       7900 ... 16098179  4.384267091685517 i_sim_1.4\n",
       "924085      11900       7900 ...   831332  4.446833161599578 i_sim_1.4\n",
       "924086      11900       7900 ... 16136708  4.550420295334223 i_sim_1.4\n",
       "929477      11900       7900 ... 16280498  4.051326013718346 i_sim_1.4\n",
       "930353      11900       7900 ... 16076133 3.7685753871220466 i_sim_1.4"
      ]
     },
     "execution_count": 13,
     "metadata": {},
     "output_type": "execute_result"
    }
   ],
   "source": [
    "my_coadd_inputs = simpleButler.get(\"deepCoadd.coaddInputs\", my_dataId)\n",
    "my_coadd_inputs.visits.asAstropy()"
   ]
  },
  {
   "cell_type": "markdown",
   "id": "310f6d24-d4ca-43aa-acc7-62c5773f841b",
   "metadata": {},
   "source": [
    "<br>\n",
    "\n",
    "**Set up the pipeline.**\n",
    "\n",
    "In the DRP.yaml file, the source detection steps that come after assembleCoadd are:\n",
    " - healSparsePropertyMaps: lsst.pipe.tasks.healSparseMapping.HealSparsePropertyMapTask\n",
    " - consolidateHealSparsePropertyMaps: lsst.pipe.tasks.healSparseMapping.ConsolidateHealSparsePropertyMapTask\n",
    " - detection: lsst.pipe.tasks.multiBand.DetectCoaddSourcesTask\n",
    " - mergeDetections: lsst.pipe.tasks.mergeDetections.MergeDetectionsTask\n",
    " - deblend: lsst.pipe.tasks.deblendCoaddSourcesPipeline.DeblendCoaddSourcesMultiTask\n",
    " - measure: lsst.pipe.tasks.multiBand.MeasureMergedCoaddSourcesTask\n",
    " - mergeMeasurements: lsst.pipe.tasks.mergeMeasurements.MergeMeasurementsTask\n",
    " - writeObjectTable: lsst.pipe.tasks.postprocess.WriteObjectTableTask\n",
    " \n",
    "Not needed are:\n",
    " - healSparsePropertyMaps: lsst.pipe.tasks.healSparseMapping.HealSparsePropertyMapTask\n",
    " - consolidateHealSparsePropertyMaps: lsst.pipe.tasks.healSparseMapping.ConsolidateHealSparsePropertyMapTask\n",
    "\n",
    "Starting with `detection` and all the lists tasks after it.\n",
    "\n",
    "**Which yaml file?**\n",
    "\n",
    "Use `$DRP_PIPE_DIR/pipelines/LSSTCam-imSim/DRP-DP0.2.yaml`, which has DP0-specific configurations, in particular the one we need to correctly set ref_cat for the measure task. This yaml file is now being used in draft_Create_Custom_Coadd as well."
   ]
  },
  {
   "cell_type": "code",
   "execution_count": 14,
   "id": "53de4ca3-34a8-484b-a775-55af4ab4ec24",
   "metadata": {},
   "outputs": [
    {
     "name": "stdout",
     "output_type": "stream",
     "text": [
      "$DRP_PIPE_DIR/pipelines/LSSTCam-imSim/DRP-DP0.2.yaml#detection,mergeDetections,deblend,measure,mergeMeasurements,writeObjectTable\n"
     ]
    }
   ],
   "source": [
    "yaml_file = '$DRP_PIPE_DIR/pipelines/LSSTCam-imSim/DRP-DP0.2.yaml'\n",
    "steps = 'detection,mergeDetections,deblend,measure,mergeMeasurements,writeObjectTable'\n",
    "my_uri = yaml_file + '#' + steps\n",
    "print(my_uri)"
   ]
  },
  {
   "cell_type": "code",
   "execution_count": 15,
   "id": "ac1d0cde-0785-4cbe-8e97-f8bb18681ef3",
   "metadata": {},
   "outputs": [],
   "source": [
    "measureSourcesPipeline = Pipeline.from_uri(my_uri)"
   ]
  },
  {
   "cell_type": "markdown",
   "id": "29580406-3566-4f59-b851-e0671392f213",
   "metadata": {},
   "source": [
    "<br>\n",
    "\n",
    "**Create query string**"
   ]
  },
  {
   "cell_type": "code",
   "execution_count": 16,
   "id": "4ce2fa01-18f8-4f30-bfd5-e683d0b2a741",
   "metadata": {},
   "outputs": [
    {
     "name": "stdout",
     "output_type": "stream",
     "text": [
      "tract = 4431 AND patch = 17 AND band = 'i' AND skymap = 'DC2'\n"
     ]
    }
   ],
   "source": [
    "queryString = \"tract = 4431 AND patch = 17 AND band = 'i' AND skymap = 'DC2'\"\n",
    "print(queryString)"
   ]
  },
  {
   "cell_type": "markdown",
   "id": "91e20bbf-2b60-42e5-86a2-6f718adb6d09",
   "metadata": {},
   "source": [
    "<br>\n",
    "\n",
    "**Configurations**\n",
    "\n",
    "The first two were figured out by trial-and-error.\n",
    "\n",
    "The third is needed because of not having the results from `finalizedCharacterization`."
   ]
  },
  {
   "cell_type": "code",
   "execution_count": 21,
   "id": "202f887c-d006-4b83-a4cf-ce81cf07209d",
   "metadata": {},
   "outputs": [],
   "source": [
    "measureSourcesPipeline.addConfigOverride('mergeDetections', 'priorityList', 'i')\n",
    "measureSourcesPipeline.addConfigOverride('mergeMeasurements', 'priorityList', 'i')\n",
    "measureSourcesPipeline.addConfigOverride('measure', 'propagateFlags.finalized_source_flags', {})"
   ]
  },
  {
   "cell_type": "markdown",
   "id": "36e408d1-0620-43aa-8fde-fa14877a8695",
   "metadata": {},
   "source": [
    "Try this in order to retarget for single-band deblending"
   ]
  },
  {
   "cell_type": "code",
   "execution_count": 22,
   "id": "f93e719b-3320-419a-ad75-1175e3378c7c",
   "metadata": {},
   "outputs": [],
   "source": [
    "measureSourcesPipeline.addConfigOverride('deblend', 'simultaneous', 'False')"
   ]
  },
  {
   "cell_type": "markdown",
   "id": "2dcbb8d2-823f-45dc-ab88-3c2c2bfca7b9",
   "metadata": {},
   "source": [
    "<br>\n",
    "\n",
    "**Optional** - Examine configs.\n",
    "\n",
    "configs for measure -- why does the measure_config produce errors?"
   ]
  },
  {
   "cell_type": "code",
   "execution_count": null,
   "id": "6e39f1a8-5de1-47a8-a542-4953b5a18c52",
   "metadata": {},
   "outputs": [],
   "source": [
    "# my_measure_config = simpleButler.get(\"measure_config\", my_dataId)\n",
    "# for key, value in my_measure_config.items():\n",
    "#     print(key, value)"
   ]
  },
  {
   "cell_type": "markdown",
   "id": "2d596030-99bd-4f45-a2b2-bedfa9cce286",
   "metadata": {},
   "source": [
    "configs for deblend"
   ]
  },
  {
   "cell_type": "code",
   "execution_count": 26,
   "id": "f793a658-4725-409c-84e0-195b7f3e5852",
   "metadata": {},
   "outputs": [],
   "source": [
    "# my_deblend_config = simpleButler.get(\"deblend_config\", my_dataId)\n",
    "# for key, value in my_deblend_config.items():\n",
    "#     print(key, value)"
   ]
  },
  {
   "cell_type": "markdown",
   "id": "1aaa19cb-9213-46b2-b847-a04a8af01577",
   "metadata": {},
   "source": [
    "configs for mergeMeasurements"
   ]
  },
  {
   "cell_type": "code",
   "execution_count": 24,
   "id": "35300ed9-67ef-4971-b3a9-33c23c8ec865",
   "metadata": {},
   "outputs": [],
   "source": [
    "# my_mergeMeasurements_config = simpleButler.get(\"mergeMeasurements_config\", my_dataId)\n",
    "# for key, value in my_mergeMeasurements_config.items():\n",
    "#     print(key, value)"
   ]
  },
  {
   "cell_type": "markdown",
   "id": "7d2f64f9-efdd-40a1-9b4f-87a74cc377b9",
   "metadata": {},
   "source": [
    "configs for writeObjectTable"
   ]
  },
  {
   "cell_type": "code",
   "execution_count": null,
   "id": "83bb2f34-ad76-408c-a278-869ff087989e",
   "metadata": {},
   "outputs": [],
   "source": [
    "# my_writeObjectTable_config = simpleButler.get(\"writeObjectTable_config\", my_dataId)\n",
    "# for key, value in my_writeObjectTable_config.items():\n",
    "#     print(key, value)"
   ]
  },
  {
   "cell_type": "markdown",
   "id": "9e9646b6-5355-4204-8ae6-b25d3231d7da",
   "metadata": {},
   "source": [
    "<br>\n",
    "\n",
    "**Create SPE**"
   ]
  },
  {
   "cell_type": "code",
   "execution_count": 27,
   "id": "488328f1-0a07-4232-9bdb-78efd93bfd29",
   "metadata": {},
   "outputs": [
    {
     "name": "stderr",
     "output_type": "stream",
     "text": [
      "/opt/lsst/software/stack/stack/miniconda3-py38_4.9.2-4.1.0/Linux64/pipe_tasks/g6a99470703+d978885a28/python/lsst/pipe/tasks/multiBand.py:243: UserWarning: MeasureMergedCoaddSourcesConnections.defaultTemplates is deprecated and no longer used. Use MeasureMergedCoaddSourcesConfig.inputCatalog.\n",
      "  warnings.warn(\"MeasureMergedCoaddSourcesConnections.defaultTemplates is deprecated and no longer used. \"\n"
     ]
    },
    {
     "ename": "AttributeError",
     "evalue": "lsst.pipe.tasks.deblendCoaddSourcesPipeline.DeblendCoaddSourcesMultiConfig has no attribute simultaneous",
     "output_type": "error",
     "traceback": [
      "\u001b[0;31m---------------------------------------------------------------------------\u001b[0m",
      "\u001b[0;31mAttributeError\u001b[0m                            Traceback (most recent call last)",
      "File \u001b[0;32m<timed exec>:1\u001b[0m, in \u001b[0;36m<module>\u001b[0;34m\u001b[0m\n",
      "File \u001b[0;32m/opt/lsst/software/stack/stack/miniconda3-py38_4.9.2-4.1.0/Linux64/ctrl_mpexec/g5106228df7+67764eb103/python/lsst/ctrl/mpexec/simple_pipeline_executor.py:218\u001b[0m, in \u001b[0;36mSimplePipelineExecutor.from_pipeline\u001b[0;34m(cls, pipeline, where, butler, **kwargs)\u001b[0m\n\u001b[1;32m    197\u001b[0m \u001b[38;5;124;03m\"\"\"Create an executor by building a QuantumGraph from an in-memory\u001b[39;00m\n\u001b[1;32m    198\u001b[0m \u001b[38;5;124;03mpipeline.\u001b[39;00m\n\u001b[1;32m    199\u001b[0m \n\u001b[0;32m   (...)\u001b[0m\n\u001b[1;32m    215\u001b[0m \u001b[38;5;124;03m    `Butler`, ready for `run` to be called.\u001b[39;00m\n\u001b[1;32m    216\u001b[0m \u001b[38;5;124;03m\"\"\"\u001b[39;00m\n\u001b[1;32m    217\u001b[0m \u001b[38;5;28;01mif\u001b[39;00m \u001b[38;5;28misinstance\u001b[39m(pipeline, Pipeline):\n\u001b[0;32m--> 218\u001b[0m     pipeline \u001b[38;5;241m=\u001b[39m \u001b[38;5;28;43mlist\u001b[39;49m\u001b[43m(\u001b[49m\u001b[43mpipeline\u001b[49m\u001b[38;5;241;43m.\u001b[39;49m\u001b[43mtoExpandedPipeline\u001b[49m\u001b[43m(\u001b[49m\u001b[43m)\u001b[49m\u001b[43m)\u001b[49m\n\u001b[1;32m    219\u001b[0m \u001b[38;5;28;01melse\u001b[39;00m:\n\u001b[1;32m    220\u001b[0m     pipeline \u001b[38;5;241m=\u001b[39m \u001b[38;5;28mlist\u001b[39m(pipeline)\n",
      "File \u001b[0;32m/opt/lsst/software/stack/stack/miniconda3-py38_4.9.2-4.1.0/Linux64/pipe_base/g646899f3d4+0154a56000/python/lsst/pipe/base/pipeline.py:665\u001b[0m, in \u001b[0;36mPipeline.toExpandedPipeline\u001b[0;34m(self)\u001b[0m\n\u001b[1;32m    663\u001b[0m taskDefs \u001b[38;5;241m=\u001b[39m []\n\u001b[1;32m    664\u001b[0m \u001b[38;5;28;01mfor\u001b[39;00m label \u001b[38;5;129;01min\u001b[39;00m \u001b[38;5;28mself\u001b[39m\u001b[38;5;241m.\u001b[39m_pipelineIR\u001b[38;5;241m.\u001b[39mtasks:\n\u001b[0;32m--> 665\u001b[0m     taskDefs\u001b[38;5;241m.\u001b[39mappend(\u001b[38;5;28;43mself\u001b[39;49m\u001b[38;5;241;43m.\u001b[39;49m\u001b[43m_buildTaskDef\u001b[49m\u001b[43m(\u001b[49m\u001b[43mlabel\u001b[49m\u001b[43m)\u001b[49m)\n\u001b[1;32m    667\u001b[0m \u001b[38;5;66;03m# lets evaluate the contracts\u001b[39;00m\n\u001b[1;32m    668\u001b[0m \u001b[38;5;28;01mif\u001b[39;00m \u001b[38;5;28mself\u001b[39m\u001b[38;5;241m.\u001b[39m_pipelineIR\u001b[38;5;241m.\u001b[39mcontracts \u001b[38;5;129;01mis\u001b[39;00m \u001b[38;5;129;01mnot\u001b[39;00m \u001b[38;5;28;01mNone\u001b[39;00m:\n",
      "File \u001b[0;32m/opt/lsst/software/stack/stack/miniconda3-py38_4.9.2-4.1.0/Linux64/pipe_base/g646899f3d4+0154a56000/python/lsst/pipe/base/pipeline.py:708\u001b[0m, in \u001b[0;36mPipeline._buildTaskDef\u001b[0;34m(self, label)\u001b[0m\n\u001b[1;32m    706\u001b[0m             \u001b[38;5;28;01mfor\u001b[39;00m key, value \u001b[38;5;129;01min\u001b[39;00m configIR\u001b[38;5;241m.\u001b[39mrest\u001b[38;5;241m.\u001b[39mitems():\n\u001b[1;32m    707\u001b[0m                 overrides\u001b[38;5;241m.\u001b[39maddValueOverride(key, value)\n\u001b[0;32m--> 708\u001b[0m \u001b[43moverrides\u001b[49m\u001b[38;5;241;43m.\u001b[39;49m\u001b[43mapplyTo\u001b[49m\u001b[43m(\u001b[49m\u001b[43mconfig\u001b[49m\u001b[43m)\u001b[49m\n\u001b[1;32m    709\u001b[0m \u001b[38;5;28;01mreturn\u001b[39;00m TaskDef(taskName\u001b[38;5;241m=\u001b[39mtaskName, config\u001b[38;5;241m=\u001b[39mconfig, taskClass\u001b[38;5;241m=\u001b[39mtaskClass, label\u001b[38;5;241m=\u001b[39mlabel)\n",
      "File \u001b[0;32m/opt/lsst/software/stack/stack/miniconda3-py38_4.9.2-4.1.0/Linux64/pipe_base/g646899f3d4+0154a56000/python/lsst/pipe/base/configOverrides.py:285\u001b[0m, in \u001b[0;36mConfigOverrides.applyTo\u001b[0;34m(self, config)\u001b[0m\n\u001b[1;32m    283\u001b[0m         tmpConfig \u001b[38;5;241m=\u001b[39m config\n\u001b[1;32m    284\u001b[0m     \u001b[38;5;66;03m# set the specified config\u001b[39;00m\n\u001b[0;32m--> 285\u001b[0m     \u001b[38;5;28;43msetattr\u001b[39;49m\u001b[43m(\u001b[49m\u001b[43mtmpConfig\u001b[49m\u001b[43m,\u001b[49m\u001b[43m \u001b[49m\u001b[43mfinalField\u001b[49m\u001b[43m,\u001b[49m\u001b[43m \u001b[49m\u001b[43mvalue\u001b[49m\u001b[43m)\u001b[49m\n\u001b[1;32m    287\u001b[0m \u001b[38;5;28;01melif\u001b[39;00m otype \u001b[38;5;129;01mis\u001b[39;00m OverrideTypes\u001b[38;5;241m.\u001b[39mPython:\n\u001b[1;32m    288\u001b[0m     \u001b[38;5;66;03m# exec python string with the context of all vars known. This\u001b[39;00m\n\u001b[1;32m    289\u001b[0m     \u001b[38;5;66;03m# both lets people use a var they know about (maybe a bit\u001b[39;00m\n\u001b[0;32m   (...)\u001b[0m\n\u001b[1;32m    294\u001b[0m     \u001b[38;5;66;03m# other config setting branches can make use of these\u001b[39;00m\n\u001b[1;32m    295\u001b[0m     \u001b[38;5;66;03m# variables.\u001b[39;00m\n\u001b[1;32m    296\u001b[0m     exec(override, \u001b[38;5;28;01mNone\u001b[39;00m, \u001b[38;5;28mvars\u001b[39m)\n",
      "File \u001b[0;32m/opt/lsst/software/stack/stack/miniconda3-py38_4.9.2-4.1.0/Linux64/pex_config/g71c1dbb2b5+9a7299d786/python/lsst/pex/config/config.py:1556\u001b[0m, in \u001b[0;36mConfig.__setattr__\u001b[0;34m(self, attr, value, at, label)\u001b[0m\n\u001b[1;32m   1553\u001b[0m     \u001b[38;5;28mself\u001b[39m\u001b[38;5;241m.\u001b[39m\u001b[38;5;18m__dict__\u001b[39m[attr] \u001b[38;5;241m=\u001b[39m value\n\u001b[1;32m   1554\u001b[0m \u001b[38;5;28;01melse\u001b[39;00m:\n\u001b[1;32m   1555\u001b[0m     \u001b[38;5;66;03m# We throw everything else.\u001b[39;00m\n\u001b[0;32m-> 1556\u001b[0m     \u001b[38;5;28;01mraise\u001b[39;00m \u001b[38;5;167;01mAttributeError\u001b[39;00m(\u001b[38;5;124m\"\u001b[39m\u001b[38;5;132;01m%s\u001b[39;00m\u001b[38;5;124m has no attribute \u001b[39m\u001b[38;5;132;01m%s\u001b[39;00m\u001b[38;5;124m\"\u001b[39m \u001b[38;5;241m%\u001b[39m (_typeStr(\u001b[38;5;28mself\u001b[39m), attr))\n",
      "\u001b[0;31mAttributeError\u001b[0m: lsst.pipe.tasks.deblendCoaddSourcesPipeline.DeblendCoaddSourcesMultiConfig has no attribute simultaneous"
     ]
    }
   ],
   "source": [
    "%%time\n",
    "spe = SimplePipelineExecutor.from_pipeline(measureSourcesPipeline, where=queryString, butler=simpleButler)"
   ]
  },
  {
   "cell_type": "markdown",
   "id": "a008e558-bf8f-448d-8b2e-9aad867e7f0a",
   "metadata": {},
   "source": [
    "**Run the pipeline.**"
   ]
  },
  {
   "cell_type": "code",
   "execution_count": null,
   "id": "c8ae8bb5-8248-4d91-a684-e29df7e068e0",
   "metadata": {},
   "outputs": [],
   "source": [
    "%%time\n",
    "quanta = spe.run()"
   ]
  },
  {
   "cell_type": "code",
   "execution_count": null,
   "id": "f3d58488-be39-4c90-bef9-3ceb0573acc6",
   "metadata": {},
   "outputs": [],
   "source": []
  },
  {
   "cell_type": "code",
   "execution_count": null,
   "id": "f0973ab3-4776-451c-bec8-5e0d8716f1a8",
   "metadata": {},
   "outputs": [],
   "source": []
  },
  {
   "cell_type": "code",
   "execution_count": null,
   "id": "00c2f528-dc76-4d8e-a294-c14a72252840",
   "metadata": {},
   "outputs": [],
   "source": []
  },
  {
   "cell_type": "code",
   "execution_count": null,
   "id": "37795a6e-c2f4-4955-b5b9-3a0f4a673413",
   "metadata": {},
   "outputs": [],
   "source": [
    "# del simpleButler"
   ]
  },
  {
   "cell_type": "code",
   "execution_count": null,
   "id": "c717b078-1bef-4f3e-b05c-76e6e668b1fe",
   "metadata": {},
   "outputs": [],
   "source": []
  },
  {
   "cell_type": "code",
   "execution_count": null,
   "id": "4f4c53df-64b7-4943-9ca8-520bc5d23e4c",
   "metadata": {},
   "outputs": [],
   "source": []
  },
  {
   "cell_type": "code",
   "execution_count": null,
   "id": "8bdc37dd-e85a-4c65-a8a7-22555888f4fe",
   "metadata": {},
   "outputs": [],
   "source": []
  },
  {
   "cell_type": "code",
   "execution_count": null,
   "id": "bc2aa30c-5e20-42e1-afb1-70dbcdec71de",
   "metadata": {},
   "outputs": [],
   "source": []
  },
  {
   "cell_type": "code",
   "execution_count": null,
   "id": "465343e5-8b67-46b7-8469-af45bcfe0f62",
   "metadata": {},
   "outputs": [],
   "source": []
  },
  {
   "cell_type": "code",
   "execution_count": null,
   "id": "75dc8b88-7212-4e02-a70b-ba06a4a438ed",
   "metadata": {},
   "outputs": [],
   "source": []
  },
  {
   "cell_type": "code",
   "execution_count": null,
   "id": "78040a57-6ff1-4e6f-a581-34ff3f856dc2",
   "metadata": {},
   "outputs": [],
   "source": []
  },
  {
   "cell_type": "code",
   "execution_count": null,
   "id": "3690b699-0743-40ca-a39b-8e9040d9fa84",
   "metadata": {},
   "outputs": [],
   "source": []
  },
  {
   "cell_type": "code",
   "execution_count": null,
   "id": "02080e65-503e-4e6f-abbd-aa5c2996db5f",
   "metadata": {},
   "outputs": [],
   "source": []
  },
  {
   "cell_type": "code",
   "execution_count": null,
   "id": "1ff82359-5817-4621-998c-835079ace862",
   "metadata": {},
   "outputs": [],
   "source": []
  },
  {
   "cell_type": "code",
   "execution_count": null,
   "id": "d3cd6a36-db3a-47c0-8a30-16be055eb920",
   "metadata": {},
   "outputs": [],
   "source": []
  },
  {
   "cell_type": "code",
   "execution_count": null,
   "id": "1603fd06-9baa-43fb-b689-29938079fdac",
   "metadata": {},
   "outputs": [],
   "source": []
  },
  {
   "cell_type": "code",
   "execution_count": null,
   "id": "ca35886f-bca8-4524-9a68-89905e4696d3",
   "metadata": {},
   "outputs": [],
   "source": []
  },
  {
   "cell_type": "code",
   "execution_count": null,
   "id": "837da429-c3bb-4b1c-a73b-3f793c5de57a",
   "metadata": {},
   "outputs": [],
   "source": []
  },
  {
   "cell_type": "code",
   "execution_count": null,
   "id": "779bea97-45ba-4c92-9e42-1f6a67cdbaed",
   "metadata": {},
   "outputs": [],
   "source": []
  },
  {
   "cell_type": "markdown",
   "id": "c16ab3de-c3b8-4ded-9854-12659c386e08",
   "metadata": {},
   "source": [
    "<br><br><br><br><br><br><br>\n",
    "\n",
    "\n",
    "# earlier attempts. ignore below\n",
    "\n",
    "\n",
    "## 2. Characterize Image Task\n",
    "\n",
    "> **Help Question:** Is it necessary to run CharacterizeImageTask on the coadd? It seems the image already has psf, is already characterized?"
   ]
  },
  {
   "cell_type": "code",
   "execution_count": null,
   "id": "464e9298-8b3a-44c2-88bb-b94567704299",
   "metadata": {},
   "outputs": [],
   "source": [
    "my_coadd_bbox = butler.get(\"deepCoadd.bbox\", dataId=my_dataId)\n",
    "x_val = my_coadd_bbox.beginX + 200\n",
    "y_val = my_coadd_bbox.beginY + 200\n",
    "point = lsst.geom.Point2D(x_val, y_val)\n",
    "\n",
    "psf = my_coadd.getPsf()\n",
    "psfShape = psf.computeShape(point)\n",
    "sigma = psfShape.getDeterminantRadius()\n",
    "pixelScale = my_coadd.getWcs().getPixelScale().asArcseconds()\n",
    "print('psf fwhm = {:.2f} arcsec at x = {:.0f}, y = {:.0f}'.format(sigma*pixelScale*2.355,x_val,y_val))"
   ]
  },
  {
   "cell_type": "markdown",
   "id": "df64185c-3428-4002-b121-d84e875ce2b1",
   "metadata": {},
   "source": [
    "If it's necessary, do like this?"
   ]
  },
  {
   "cell_type": "code",
   "execution_count": null,
   "id": "5e1386c9-bc84-4467-8b88-e11c139d2387",
   "metadata": {
    "scrolled": true,
    "tags": []
   },
   "outputs": [],
   "source": [
    "# from lsst.pipe.tasks.characterizeImage import CharacterizeImageTask\n",
    "\n",
    "# ci_config = CharacterizeImageTask.ConfigClass()\n",
    "# ci_config.psfIterations = 1\n",
    "# charImageTask = CharacterizeImageTask(config=ci_config)\n",
    "\n",
    "# result = charImageTask.run(my_coadd)"
   ]
  },
  {
   "cell_type": "markdown",
   "id": "7d887556-d81f-4dc0-a862-89ae381a2614",
   "metadata": {},
   "source": [
    "## 3. Configure Source Detection, Deblend, and Measurement Tasks"
   ]
  },
  {
   "cell_type": "code",
   "execution_count": null,
   "id": "4f40091f-9c79-43b5-a630-c79edf496203",
   "metadata": {},
   "outputs": [],
   "source": [
    "schema = afwTable.SourceTable.makeMinimalSchema()\n",
    "tab = afwTable.SourceTable.make(schema)"
   ]
  },
  {
   "cell_type": "code",
   "execution_count": null,
   "id": "b425340a-1996-4f07-8819-24a955425728",
   "metadata": {},
   "outputs": [],
   "source": [
    "schema"
   ]
  },
  {
   "cell_type": "code",
   "execution_count": null,
   "id": "cdbc1ead-647e-44b7-9a2c-bfde63f42bc7",
   "metadata": {},
   "outputs": [],
   "source": [
    "sd_config = SourceDetectionTask.ConfigClass()\n",
    "sd_config.thresholdValue = 5\n",
    "sd_config.thresholdType = \"stdev\"\n",
    "\n",
    "sourceDetectionTask = SourceDetectionTask(schema=schema, config=sd_config)"
   ]
  },
  {
   "cell_type": "code",
   "execution_count": null,
   "id": "84f4eb24-da60-4bda-ad34-3db9007cb06a",
   "metadata": {},
   "outputs": [],
   "source": [
    "sourceDeblendTask = SourceDeblendTask(schema=schema)"
   ]
  },
  {
   "cell_type": "code",
   "execution_count": null,
   "id": "a6a3c2ef-e49c-447b-ac47-abfaaac91f5a",
   "metadata": {},
   "outputs": [],
   "source": [
    "algMetadata = dafBase.PropertyList()\n",
    "print('algMetadata: ')\n",
    "algMetadata"
   ]
  },
  {
   "cell_type": "code",
   "execution_count": null,
   "id": "8c0fa1a9-7921-45da-87ff-36e5ca892ed3",
   "metadata": {},
   "outputs": [],
   "source": [
    "sm_config = SingleFrameMeasurementTask.ConfigClass()\n",
    "\n",
    "sourceMeasurementTask = SingleFrameMeasurementTask(schema=schema,\n",
    "                                                   config=sm_config,\n",
    "                                                   algMetadata=algMetadata)"
   ]
  },
  {
   "cell_type": "markdown",
   "id": "0cd43974-6583-4fc0-b69f-ff1f5daefe47",
   "metadata": {},
   "source": [
    "## 4. Run Source Detection Task"
   ]
  },
  {
   "cell_type": "code",
   "execution_count": null,
   "id": "fdbed973-1d56-444b-95dc-6d596e46dbde",
   "metadata": {},
   "outputs": [],
   "source": [
    "%%time\n",
    "result = sourceDetectionTask.run(tab, my_coadd)"
   ]
  },
  {
   "cell_type": "code",
   "execution_count": null,
   "id": "0f2e7e61-b001-4ebe-953a-c08d245f1219",
   "metadata": {},
   "outputs": [],
   "source": [
    "sources = result.sources"
   ]
  },
  {
   "cell_type": "code",
   "execution_count": null,
   "id": "cecb724d-c7fe-41b5-95e8-98bb69a5245e",
   "metadata": {},
   "outputs": [],
   "source": [
    "print(len(sources), result.numPosPeaks)"
   ]
  },
  {
   "cell_type": "code",
   "execution_count": null,
   "id": "a869a57b-ccbf-478e-936a-47da5af55727",
   "metadata": {},
   "outputs": [],
   "source": [
    "sources.asAstropy()"
   ]
  },
  {
   "cell_type": "code",
   "execution_count": null,
   "id": "97995a20-463f-4786-b51a-1a6c2952cca5",
   "metadata": {},
   "outputs": [],
   "source": [
    "tx = np.where( np.isfinite( sources['coord_ra'] ) )[0]\n",
    "print(len(tx))\n",
    "del tx"
   ]
  },
  {
   "cell_type": "markdown",
   "id": "d7297527-c1e2-4bc9-944e-88b14c517a72",
   "metadata": {},
   "source": [
    "## 5. Run Source Deblending\n",
    "\n",
    "https://pipelines.lsst.io/modules/lsst.meas.deblender/index.html\n",
    "\n",
    "https://pipelines.lsst.io/modules/lsst.meas.deblender/tasks/lsst.meas.deblender.SourceDeblendTask.html\n",
    "\n",
    "> **Help Question:** `sourceDeblendTask.run` exists with an assertion error about the schemas even when we make sure the input schema matches before we start. Not sure how to fix."
   ]
  },
  {
   "cell_type": "markdown",
   "id": "2dbf2bb5-beca-4061-b448-47299059de80",
   "metadata": {},
   "source": [
    "SourceDeblendTask modifies the source catalog in-place."
   ]
  },
  {
   "cell_type": "code",
   "execution_count": null,
   "id": "402d2f13-ce3b-4977-a8a3-67ec36216aaf",
   "metadata": {},
   "outputs": [],
   "source": [
    "assert sources.getSchema() == schema"
   ]
  },
  {
   "cell_type": "markdown",
   "id": "d7c20480-526b-4da4-bc63-2c47cdba47b9",
   "metadata": {},
   "source": [
    "Attempt to fix that by redefining schema and sourceDeblendTask."
   ]
  },
  {
   "cell_type": "code",
   "execution_count": null,
   "id": "17b4ee2d-9191-427b-ad65-566ba1a6ca54",
   "metadata": {},
   "outputs": [],
   "source": [
    "schema = sources.getSchema()"
   ]
  },
  {
   "cell_type": "code",
   "execution_count": null,
   "id": "e824eee7-aac3-4b3f-8db4-37bd7ff015c0",
   "metadata": {},
   "outputs": [],
   "source": [
    "assert sources.getSchema() == schema"
   ]
  },
  {
   "cell_type": "code",
   "execution_count": null,
   "id": "eb270251-f164-4860-a844-da5ff91daea3",
   "metadata": {},
   "outputs": [],
   "source": [
    "sourceDeblendTask = SourceDeblendTask(schema=schema)"
   ]
  },
  {
   "cell_type": "markdown",
   "id": "b88cc8e0-77cb-48b5-9286-9ba541643b00",
   "metadata": {},
   "source": [
    "Does not seem to help, below we still get the error:\n",
    "> `--> 275 assert sources.getSchema() == self.schema`"
   ]
  },
  {
   "cell_type": "code",
   "execution_count": null,
   "id": "36c6656f-3254-49ae-9819-2def3cdd7d9e",
   "metadata": {},
   "outputs": [],
   "source": [
    "%%time\n",
    "sourceDeblendTask.run(my_coadd, sources)"
   ]
  },
  {
   "cell_type": "code",
   "execution_count": null,
   "id": "99319b9f-9c83-4cc3-bd0f-b54fa824c5e8",
   "metadata": {},
   "outputs": [],
   "source": [
    "print(len(sources))"
   ]
  },
  {
   "cell_type": "markdown",
   "id": "cb2492d2-5474-4caa-aa71-e67fadd0476c",
   "metadata": {},
   "source": [
    "## 6. Run Source Measurement\n",
    "\n",
    "https://pipelines.lsst.io/modules/lsst.meas.base/tasks/lsst.meas.base.sfm.SingleFrameMeasurementTask.html"
   ]
  },
  {
   "cell_type": "code",
   "execution_count": null,
   "id": "1f3b6157-4e3a-47eb-a742-2dd7f3204bc6",
   "metadata": {},
   "outputs": [],
   "source": [
    "%%time\n",
    "sourceMeasurementTask.run(measCat=sources, exposure=my_coadd)"
   ]
  },
  {
   "cell_type": "code",
   "execution_count": null,
   "id": "f3d13856-8154-45c9-ba1a-95ff8ad990b6",
   "metadata": {},
   "outputs": [],
   "source": []
  },
  {
   "cell_type": "code",
   "execution_count": null,
   "id": "f12157f8-017e-4239-a651-236d5270ce3a",
   "metadata": {},
   "outputs": [],
   "source": []
  }
 ],
 "metadata": {
  "kernelspec": {
   "display_name": "LSST",
   "language": "python",
   "name": "lsst"
  },
  "language_info": {
   "codemirror_mode": {
    "name": "ipython",
    "version": 3
   },
   "file_extension": ".py",
   "mimetype": "text/x-python",
   "name": "python",
   "nbconvert_exporter": "python",
   "pygments_lexer": "ipython3",
   "version": "3.10.5"
  }
 },
 "nbformat": 4,
 "nbformat_minor": 5
}
