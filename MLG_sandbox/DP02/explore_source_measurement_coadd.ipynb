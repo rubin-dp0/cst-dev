{
 "cells": [
  {
   "cell_type": "markdown",
   "id": "ea18fc1d-a242-4648-8010-bb3765c816c7",
   "metadata": {},
   "source": [
    "# Explore source measurement on a custom coadd\n",
    "\n",
    "**Runs at:** data-int.lsst.cloud\n",
    "\n",
    "**Last run with:**"
   ]
  },
  {
   "cell_type": "code",
   "execution_count": 1,
   "id": "83c6ec32-7419-450a-b8a5-47925e46ca2c",
   "metadata": {},
   "outputs": [
    {
     "name": "stdout",
     "output_type": "stream",
     "text": [
      "Weekly 2022_35\n",
      "lsst_distrib          g0b29ad24fb+434521fcbd \tw_2022_35 current setup\n"
     ]
    }
   ],
   "source": [
    "! echo $IMAGE_DESCRIPTION\n",
    "! eups list -s | grep lsst_distrib"
   ]
  },
  {
   "cell_type": "markdown",
   "id": "efe0e4c4-5a41-4b9b-ad8e-8102d609acb8",
   "metadata": {},
   "source": [
    "<br>\n",
    "\n",
    "**Goal:** For a custom i-band coadd that I have made with just a week's worth of inputs:\n",
    " * (1) Run source detection and measurement on the coadd.\n",
    " * (2) Do forced photometry at a location where there was no detection.\n",
    " \n",
    "Then, all this will become part of Section 5 of \"draft_create_custom_coadds.ipynb\".\n",
    "\n",
    "**Past Errors**\n",
    "\n",
    "(1) The fact that both `mergeDetections` and `mergeMeasurements` require the `priorityList` to be set to `i` was figured out from error messages returned when spe is defined.\n",
    "\n",
    "(2) Now fixed by Weekly 2022_35:\n",
    "\n",
    "> lsst.pipe.base.pipeline ERROR: Configuration validation failed for task measure (lsst.pipe.tasks.multiBand.MeasureMergedCoaddSourcesTask)\n",
    "\n",
    "> ValueError: Gen2 (cal_ref_cat) and Gen3 (ref_cat) reference catalogs are different.  These options must be kept in sync until Gen2 is retired.\n",
    "\n",
    " - ~ This was stemming from multiBand.py, MeasureMergedCoaddSourcesConfig.validate(self)\n",
    " - ~ https://github.com/lsst/pipe_tasks/blob/main/python/lsst/pipe/tasks/multiBand.py#L824\n",
    " - ~ This error went away when I used Weekly 2022_35\n",
    "\n",
    "**New Error** \n",
    "\n",
    "There's a new ref_cat related error when defining spe. \n",
    "\n",
    "> LookupError: DatasetType 'ref_cat' referenced by MeasureMergedCoaddSourcesConnections uses 'skypix' as a dimension placeholder, but does not already exist in the registry.  Note that reference catalog names are now used as the dataset type name instead of 'ref_cat'.\n",
    "\n",
    "This 'ref_cat' parameter doesn't seem to be something I can set; as far as I can tell it's not a configuration I can set like `priorityList`.\n",
    "The error message says to use `MeasureMergedCoaddSourcesConfig.inputCatalog` instead of `MeasureMergedCoaddSourcesConnections.defaultTemplates`, but I'm not sure how the user is choosing one or the other.\n",
    "\n",
    "The part of the error message that says \"does not already exist in the registry\" made me think that maybe I need a reference catalog collection to be included when I define simpleButler, but neither of the following were helpful:<br>\n",
    "`collections = [collection,'2.2i/refcats/ci_imsim']`<br>\n",
    "`collections = [collection,'refcats']`<br>\n",
    "\n",
    "\n",
    "<br>\n",
    "\n",
    "**Imports & Set Up**"
   ]
  },
  {
   "cell_type": "code",
   "execution_count": 2,
   "id": "146b88ab-9582-40dd-bc2f-1b7c778af7ce",
   "metadata": {},
   "outputs": [],
   "source": [
    "import time\n",
    "import numpy as np\n",
    "import pandas\n",
    "\n",
    "import lsst.geom\n",
    "import lsst.afw.display as afwDisplay\n",
    "\n",
    "from lsst.daf.butler import Butler\n",
    "\n",
    "# lsst packages for executing pipeline tasks\n",
    "from lsst.ctrl.mpexec import SimplePipelineExecutor\n",
    "from lsst.pipe.base import Pipeline, Instrument"
   ]
  },
  {
   "cell_type": "code",
   "execution_count": 3,
   "id": "f275bdc0-f4b4-4e48-8224-f008f41ec0d1",
   "metadata": {},
   "outputs": [],
   "source": [
    "config = \"dp02\"\n",
    "collection = \"u/melissagraham/coadd_recreation_nb\"\n",
    "outputRun = \"u/melissagraham/coadd_recreation_nb/TestWindow1\"\n",
    "my_dataId = {'band': 'i', 'tract': 4431, 'patch': 17}"
   ]
  },
  {
   "cell_type": "markdown",
   "id": "527656da-426c-4c29-b08e-c52f8fd6e479",
   "metadata": {},
   "source": [
    "<br>\n",
    "\n",
    "**Optional:** Get the coadd I made in draft_Create_Custom_Coadd.ipynb"
   ]
  },
  {
   "cell_type": "code",
   "execution_count": 4,
   "id": "d5600cd9-4f40-438f-8490-c27cc9eba42f",
   "metadata": {},
   "outputs": [],
   "source": [
    "# butler = Butler(config, collections=collection)\n",
    "# my_coadd = butler.get('deepCoadd', dataId=my_dataId)"
   ]
  },
  {
   "cell_type": "code",
   "execution_count": 5,
   "id": "bc9e089f-ced8-45e6-a3a9-bf458fde5a69",
   "metadata": {},
   "outputs": [],
   "source": [
    "# my_coadd_inputs = butler.get(\"deepCoadd.coaddInputs\", my_dataId)\n",
    "# my_coadd_inputs.visits.asAstropy()"
   ]
  },
  {
   "cell_type": "code",
   "execution_count": 6,
   "id": "f4df04ff-3b2e-4549-873a-53e0dd9bd91c",
   "metadata": {},
   "outputs": [],
   "source": [
    "# del butler, my_coadd, my_coadd_inputs"
   ]
  },
  {
   "cell_type": "markdown",
   "id": "d9309053-a7b8-43be-864a-398b854930cb",
   "metadata": {},
   "source": [
    "<br>\n",
    "\n",
    "**simpleButler**"
   ]
  },
  {
   "cell_type": "code",
   "execution_count": 7,
   "id": "95d8162d-cb20-467e-aaee-59cf43d2879c",
   "metadata": {},
   "outputs": [
    {
     "data": {
      "text/html": [
       "<pre style=\"margin: 0.1em;\n",
       "padding-left: 0.25em;\n",
       "border-left-style: solid;\n",
       "font-family: var(--jp-code-font-family);\n",
       "font-size: var(--jp-code-font-size);\n",
       "line-height: var(--jp-code-line-height);\n",
       "\"><span style=\"color: var(--jp-warn-color2)\">botocore.credentials</span> <span style=\"color: var(--jp-info-color0)\">INFO</span>: Found credentials in shared credentials file: /home/melissagraham/.lsst/aws-credentials.ini</pre>"
      ],
      "text/plain": [
       "<IPython.core.display.HTML object>"
      ]
     },
     "metadata": {},
     "output_type": "display_data"
    }
   ],
   "source": [
    "simpleButler = Butler(config, collections=[collection], run=outputRun, writeable=True)"
   ]
  },
  {
   "cell_type": "code",
   "execution_count": 8,
   "id": "cba8147a-aa8d-4b10-8d52-3d46a7fd73b0",
   "metadata": {},
   "outputs": [
    {
     "data": {
      "text/plain": [
       "CollectionSearch(('u/melissagraham/coadd_recreation_nb/TestWindow1', '2.2i/runs/DP0.2'))"
      ]
     },
     "execution_count": 8,
     "metadata": {},
     "output_type": "execute_result"
    }
   ],
   "source": [
    "simpleButler.registry.getCollectionChain(collection)"
   ]
  },
  {
   "cell_type": "code",
   "execution_count": 9,
   "id": "8cf0db8e-189c-41dc-9e6b-9128244bb1b7",
   "metadata": {},
   "outputs": [],
   "source": [
    "### what kind of refcats are there\n",
    "# for c in sorted(simpleButler.registry.queryCollections()):\n",
    "#     if c.find('ref') > -1:\n",
    "#         print(c)"
   ]
  },
  {
   "cell_type": "markdown",
   "id": "310f6d24-d4ca-43aa-acc7-62c5773f841b",
   "metadata": {},
   "source": [
    "<br>\n",
    "\n",
    "**Set up the pipeline.**\n",
    "\n",
    "In the DRP.yaml file, the source detection steps that come after assembleCoadd are:\n",
    " - healSparsePropertyMaps: lsst.pipe.tasks.healSparseMapping.HealSparsePropertyMapTask\n",
    " - consolidateHealSparsePropertyMaps: lsst.pipe.tasks.healSparseMapping.ConsolidateHealSparsePropertyMapTask\n",
    " - detection: lsst.pipe.tasks.multiBand.DetectCoaddSourcesTask\n",
    " - mergeDetections: lsst.pipe.tasks.mergeDetections.MergeDetectionsTask\n",
    " - deblend: lsst.pipe.tasks.deblendCoaddSourcesPipeline.DeblendCoaddSourcesMultiTask\n",
    " - measure: lsst.pipe.tasks.multiBand.MeasureMergedCoaddSourcesTask\n",
    " - mergeMeasurements: lsst.pipe.tasks.mergeMeasurements.MergeMeasurementsTask\n",
    " - writeObjectTable: lsst.pipe.tasks.postprocess.WriteObjectTableTask\n",
    " \n",
    "Not needed?\n",
    " - healSparsePropertyMaps: lsst.pipe.tasks.healSparseMapping.HealSparsePropertyMapTask\n",
    " - consolidateHealSparsePropertyMaps: lsst.pipe.tasks.healSparseMapping.ConsolidateHealSparsePropertyMapTask\n",
    "\n",
    "Starting with `detection` and all the lists tasks after it.\n",
    "\n",
    "**Which yaml file?**\n",
    "\n",
    "Initially we used `${PIPE_TASKS_DIR}/pipelines/DRP.yaml`, but this points to `$DRP_PIPE_DIR/ingredients/DRP-full.yaml`.\n",
    "\n",
    "The `$DRP_PIPE_DIR/ingredients/` directory actually contains `DRP-full.yaml`, which does not list any steps past measure, and `DRP-minimal-calibration.yaml`, which does have the steps we're interested in. So we use the latter."
   ]
  },
  {
   "cell_type": "code",
   "execution_count": 10,
   "id": "53de4ca3-34a8-484b-a775-55af4ab4ec24",
   "metadata": {},
   "outputs": [
    {
     "name": "stdout",
     "output_type": "stream",
     "text": [
      "$DRP_PIPE_DIR/ingredients/DRP-minimal-calibration.yaml#detection,mergeDetections,deblend,measure,mergeMeasurements,writeObjectTable\n"
     ]
    }
   ],
   "source": [
    "# yaml_file = '${PIPE_TASKS_DIR}/pipelines/DRP.yaml'\n",
    "# yaml_file = '$DRP_PIPE_DIR/ingredients/DRP-full.yaml'\n",
    "yaml_file = '$DRP_PIPE_DIR/ingredients/DRP-minimal-calibration.yaml'\n",
    "\n",
    "steps = 'detection,mergeDetections,deblend,measure,mergeMeasurements,writeObjectTable'\n",
    "my_uri = yaml_file + '#' + steps\n",
    "\n",
    "print(my_uri)"
   ]
  },
  {
   "cell_type": "code",
   "execution_count": 11,
   "id": "ac1d0cde-0785-4cbe-8e97-f8bb18681ef3",
   "metadata": {},
   "outputs": [],
   "source": [
    "measureSourcesPipeline = Pipeline.from_uri(my_uri)"
   ]
  },
  {
   "cell_type": "markdown",
   "id": "29580406-3566-4f59-b851-e0671392f213",
   "metadata": {},
   "source": [
    "<br>\n",
    "\n",
    "**query string**"
   ]
  },
  {
   "cell_type": "code",
   "execution_count": 12,
   "id": "4ce2fa01-18f8-4f30-bfd5-e683d0b2a741",
   "metadata": {},
   "outputs": [
    {
     "name": "stdout",
     "output_type": "stream",
     "text": [
      "tract = 4431 AND patch = 17 AND band = 'i' AND skymap = 'DC2'\n"
     ]
    }
   ],
   "source": [
    "queryString = \"tract = 4431 AND patch = 17 AND band = 'i' AND skymap = 'DC2'\"\n",
    "print(queryString)"
   ]
  },
  {
   "cell_type": "markdown",
   "id": "91e20bbf-2b60-42e5-86a2-6f718adb6d09",
   "metadata": {},
   "source": [
    "<br>\n",
    "\n",
    "**Configurations**"
   ]
  },
  {
   "cell_type": "code",
   "execution_count": 13,
   "id": "202f887c-d006-4b83-a4cf-ce81cf07209d",
   "metadata": {},
   "outputs": [],
   "source": [
    "measureSourcesPipeline.addConfigOverride('mergeDetections', 'priorityList', 'i')\n",
    "measureSourcesPipeline.addConfigOverride('mergeMeasurements', 'priorityList', 'i')"
   ]
  },
  {
   "cell_type": "markdown",
   "id": "2dcbb8d2-823f-45dc-ab88-3c2c2bfca7b9",
   "metadata": {},
   "source": [
    "Examine configs.\n",
    "\n",
    "configs for measure -- why does the measure_config produce errors?"
   ]
  },
  {
   "cell_type": "code",
   "execution_count": 14,
   "id": "6e39f1a8-5de1-47a8-a542-4953b5a18c52",
   "metadata": {},
   "outputs": [],
   "source": [
    "# my_measure_config = simpleButler.get(\"measure_config\", my_dataId)\n",
    "# for key, value in my_measure_config.items():\n",
    "#     print(key, value)"
   ]
  },
  {
   "cell_type": "markdown",
   "id": "1aaa19cb-9213-46b2-b847-a04a8af01577",
   "metadata": {},
   "source": [
    "configs for mergeMeasurements"
   ]
  },
  {
   "cell_type": "code",
   "execution_count": 15,
   "id": "35300ed9-67ef-4971-b3a9-33c23c8ec865",
   "metadata": {},
   "outputs": [
    {
     "name": "stdout",
     "output_type": "stream",
     "text": [
      "saveMetadata True\n",
      "saveLogOutput True\n",
      "pseudoFilterList ['sky']\n",
      "snName base_PsfFlux\n",
      "minSN 10.0\n",
      "minSNDiff 3.0\n",
      "flags ['base_PixelFlags_flag_interpolatedCenter', 'base_PsfFlux_flag', 'ext_photometryKron_KronFlux_flag', 'modelfit_CModel_flag']\n",
      "priorityList ['i', 'r', 'z', 'y', 'g', 'u']\n",
      "coaddName deep\n",
      "connections {'inputSchema': '{inputCoaddName}Coadd_meas_schema', 'outputSchema': '{outputCoaddName}Coadd_ref_schema', 'catalogs': '{inputCoaddName}Coadd_meas', 'mergedCatalog': '{outputCoaddName}Coadd_ref', 'inputCoaddName': 'deep', 'outputCoaddName': 'deep'}\n"
     ]
    }
   ],
   "source": [
    "my_mergeMeasurements_config = simpleButler.get(\"mergeMeasurements_config\", my_dataId)\n",
    "for key, value in my_mergeMeasurements_config.items():\n",
    "    print(key, value)"
   ]
  },
  {
   "cell_type": "markdown",
   "id": "7d2f64f9-efdd-40a1-9b4f-87a74cc377b9",
   "metadata": {},
   "source": [
    "configs for writeObjectTable"
   ]
  },
  {
   "cell_type": "code",
   "execution_count": 16,
   "id": "83bb2f34-ad76-408c-a278-869ff087989e",
   "metadata": {},
   "outputs": [],
   "source": [
    "# my_writeObjectTable_config = simpleButler.get(\"writeObjectTable_config\", my_dataId)\n",
    "# for key, value in my_writeObjectTable_config.items():\n",
    "#     print(key, value)"
   ]
  },
  {
   "cell_type": "markdown",
   "id": "04895a2b-5cf0-41b8-bdb8-9b7d2bb6ae7d",
   "metadata": {},
   "source": [
    "Attempt to find configs for MeasureMergedCoaddSources, which seems to be the root of the errors from the next cell.\n",
    "\n",
    "This does not work."
   ]
  },
  {
   "cell_type": "code",
   "execution_count": 17,
   "id": "60abd68c-0795-42a5-b18e-1fa0e251e2fc",
   "metadata": {},
   "outputs": [],
   "source": [
    "# temp_config = simpleButler.get(\"MeasureMergedCoaddSources_config\", my_dataId)\n",
    "# for key, value in temp_config.items():\n",
    "#     print(key, value)"
   ]
  },
  {
   "cell_type": "markdown",
   "id": "9e9646b6-5355-4204-8ae6-b25d3231d7da",
   "metadata": {},
   "source": [
    "<br>\n",
    "\n",
    "**Create SPE**"
   ]
  },
  {
   "cell_type": "code",
   "execution_count": 18,
   "id": "488328f1-0a07-4232-9bdb-78efd93bfd29",
   "metadata": {},
   "outputs": [
    {
     "name": "stderr",
     "output_type": "stream",
     "text": [
      "/opt/lsst/software/stack/stack/miniconda3-py38_4.9.2-4.1.0/Linux64/pipe_tasks/gb1bf645dd1+9231f36432/python/lsst/pipe/tasks/multiBand.py:243: UserWarning: MeasureMergedCoaddSourcesConnections.defaultTemplates is deprecated and no longer used. Use MeasureMergedCoaddSourcesConfig.inputCatalog.\n",
      "  warnings.warn(\"MeasureMergedCoaddSourcesConnections.defaultTemplates is deprecated and no longer used. \"\n",
      "/opt/lsst/software/stack/stack/miniconda3-py38_4.9.2-4.1.0/Linux64/pex_config/g849534e15f+3b870f08dc/python/lsst/pex/config/configurableField.py:79: FutureWarning: Call to deprecated class LoadIndexedReferenceObjectsConfig. (This config is no longer used; it will be removed after v25. Please use LoadReferenceObjectsConfig instead.) -- Deprecated since version v25.0.\n",
      "  value = self._ConfigClass(__name=name, __at=at, __label=label, **storage)\n",
      "/opt/lsst/software/stack/stack/miniconda3-py38_4.9.2-4.1.0/Linux64/pex_config/g849534e15f+3b870f08dc/python/lsst/pex/config/configurableField.py:359: FutureWarning: Call to deprecated class LoadIndexedReferenceObjectsConfig. (This config is no longer used; it will be removed after v25. Please use LoadReferenceObjectsConfig instead.) -- Deprecated since version v25.0.\n",
      "  value = oldValue.ConfigClass()\n"
     ]
    },
    {
     "name": "stdout",
     "output_type": "stream",
     "text": [
      "Overriding default configuration file with /opt/lsst/software/stack/stack/miniconda3-py38_4.9.2-4.1.0/Linux64/dustmaps_cachedata/g41a3ec361e+c9b10be330/config/.dustmapsrc\n"
     ]
    },
    {
     "ename": "LookupError",
     "evalue": "DatasetType 'ref_cat' referenced by MeasureMergedCoaddSourcesConnections uses 'skypix' as a dimension placeholder, but does not already exist in the registry.  Note that reference catalog names are now used as the dataset type name instead of 'ref_cat'.",
     "output_type": "error",
     "traceback": [
      "\u001b[0;31m---------------------------------------------------------------------------\u001b[0m",
      "\u001b[0;31mKeyError\u001b[0m                                  Traceback (most recent call last)",
      "File \u001b[0;32m/opt/lsst/software/stack/stack/miniconda3-py38_4.9.2-4.1.0/Linux64/pipe_base/g8f34f99fe3+429ed8c4c1/python/lsst/pipe/base/pipeline.py:884\u001b[0m, in \u001b[0;36mTaskDatasetTypes.fromTaskDef.<locals>.makeDatasetTypesSet\u001b[0;34m(connectionType, is_input, freeze)\u001b[0m\n\u001b[1;32m    883\u001b[0m \u001b[38;5;28;01mtry\u001b[39;00m:\n\u001b[0;32m--> 884\u001b[0m     datasetType \u001b[38;5;241m=\u001b[39m \u001b[43mregistry\u001b[49m\u001b[38;5;241;43m.\u001b[39;49m\u001b[43mgetDatasetType\u001b[49m\u001b[43m(\u001b[49m\u001b[43mc\u001b[49m\u001b[38;5;241;43m.\u001b[39;49m\u001b[43mname\u001b[49m\u001b[43m)\u001b[49m\n\u001b[1;32m    885\u001b[0m \u001b[38;5;28;01mexcept\u001b[39;00m \u001b[38;5;167;01mLookupError\u001b[39;00m \u001b[38;5;28;01mas\u001b[39;00m err:\n",
      "File \u001b[0;32m/opt/lsst/software/stack/stack/miniconda3-py38_4.9.2-4.1.0/Linux64/daf_butler/g6ee339d65f+05e411d4f9/python/lsst/daf/butler/registries/sql.py:410\u001b[0m, in \u001b[0;36mSqlRegistry.getDatasetType\u001b[0;34m(self, name)\u001b[0m\n\u001b[1;32m    408\u001b[0m \u001b[38;5;28;01mdef\u001b[39;00m \u001b[38;5;21mgetDatasetType\u001b[39m(\u001b[38;5;28mself\u001b[39m, name: \u001b[38;5;28mstr\u001b[39m) \u001b[38;5;241m-\u001b[39m\u001b[38;5;241m>\u001b[39m DatasetType:\n\u001b[1;32m    409\u001b[0m     \u001b[38;5;66;03m# Docstring inherited from lsst.daf.butler.registry.Registry\u001b[39;00m\n\u001b[0;32m--> 410\u001b[0m     \u001b[38;5;28;01mreturn\u001b[39;00m \u001b[38;5;28;43mself\u001b[39;49m\u001b[38;5;241;43m.\u001b[39;49m\u001b[43m_managers\u001b[49m\u001b[38;5;241;43m.\u001b[39;49m\u001b[43mdatasets\u001b[49m\u001b[43m[\u001b[49m\u001b[43mname\u001b[49m\u001b[43m]\u001b[49m\u001b[38;5;241m.\u001b[39mdatasetType\n",
      "File \u001b[0;32m/opt/lsst/software/stack/stack/miniconda3-py38_4.9.2-4.1.0/Linux64/daf_butler/g6ee339d65f+05e411d4f9/python/lsst/daf/butler/registry/interfaces/_datasets.py:591\u001b[0m, in \u001b[0;36mDatasetRecordStorageManager.__getitem__\u001b[0;34m(self, name)\u001b[0m\n\u001b[1;32m    590\u001b[0m \u001b[38;5;28;01mif\u001b[39;00m result \u001b[38;5;129;01mis\u001b[39;00m \u001b[38;5;28;01mNone\u001b[39;00m:\n\u001b[0;32m--> 591\u001b[0m     \u001b[38;5;28;01mraise\u001b[39;00m \u001b[38;5;167;01mKeyError\u001b[39;00m(\u001b[38;5;124mf\u001b[39m\u001b[38;5;124m\"\u001b[39m\u001b[38;5;124mDataset type with name \u001b[39m\u001b[38;5;124m'\u001b[39m\u001b[38;5;132;01m{\u001b[39;00mname\u001b[38;5;132;01m}\u001b[39;00m\u001b[38;5;124m'\u001b[39m\u001b[38;5;124m not found.\u001b[39m\u001b[38;5;124m\"\u001b[39m)\n\u001b[1;32m    592\u001b[0m \u001b[38;5;28;01mreturn\u001b[39;00m result\n",
      "\u001b[0;31mKeyError\u001b[0m: \"Dataset type with name 'ref_cat' not found.\"",
      "\nThe above exception was the direct cause of the following exception:\n",
      "\u001b[0;31mLookupError\u001b[0m                               Traceback (most recent call last)",
      "File \u001b[0;32m<timed exec>:1\u001b[0m, in \u001b[0;36m<module>\u001b[0;34m\u001b[0m\n",
      "File \u001b[0;32m/opt/lsst/software/stack/stack/miniconda3-py38_4.9.2-4.1.0/Linux64/ctrl_mpexec/g3ebffe2182+35fc7b2fb2/python/lsst/ctrl/mpexec/simple_pipeline_executor.py:222\u001b[0m, in \u001b[0;36mSimplePipelineExecutor.from_pipeline\u001b[0;34m(cls, pipeline, where, butler, **kwargs)\u001b[0m\n\u001b[1;32m    220\u001b[0m     pipeline \u001b[38;5;241m=\u001b[39m \u001b[38;5;28mlist\u001b[39m(pipeline)\n\u001b[1;32m    221\u001b[0m graph_builder \u001b[38;5;241m=\u001b[39m GraphBuilder(butler\u001b[38;5;241m.\u001b[39mregistry)\n\u001b[0;32m--> 222\u001b[0m quantum_graph \u001b[38;5;241m=\u001b[39m \u001b[43mgraph_builder\u001b[49m\u001b[38;5;241;43m.\u001b[39;49m\u001b[43mmakeGraph\u001b[49m\u001b[43m(\u001b[49m\n\u001b[1;32m    223\u001b[0m \u001b[43m    \u001b[49m\u001b[43mpipeline\u001b[49m\u001b[43m,\u001b[49m\u001b[43m \u001b[49m\u001b[43mcollections\u001b[49m\u001b[38;5;241;43m=\u001b[39;49m\u001b[43mbutler\u001b[49m\u001b[38;5;241;43m.\u001b[39;49m\u001b[43mcollections\u001b[49m\u001b[43m,\u001b[49m\u001b[43m \u001b[49m\u001b[43mrun\u001b[49m\u001b[38;5;241;43m=\u001b[39;49m\u001b[43mbutler\u001b[49m\u001b[38;5;241;43m.\u001b[39;49m\u001b[43mrun\u001b[49m\u001b[43m,\u001b[49m\u001b[43m \u001b[49m\u001b[43muserQuery\u001b[49m\u001b[38;5;241;43m=\u001b[39;49m\u001b[43mwhere\u001b[49m\n\u001b[1;32m    224\u001b[0m \u001b[43m\u001b[49m\u001b[43m)\u001b[49m\n\u001b[1;32m    225\u001b[0m \u001b[38;5;28;01mreturn\u001b[39;00m \u001b[38;5;28mcls\u001b[39m(quantum_graph\u001b[38;5;241m=\u001b[39mquantum_graph, butler\u001b[38;5;241m=\u001b[39mbutler)\n",
      "File \u001b[0;32m/opt/lsst/software/stack/stack/miniconda3-py38_4.9.2-4.1.0/Linux64/pipe_base/g8f34f99fe3+429ed8c4c1/python/lsst/pipe/base/graphBuilder.py:1275\u001b[0m, in \u001b[0;36mGraphBuilder.makeGraph\u001b[0;34m(self, pipeline, collections, run, userQuery, datasetQueryConstraint, metadata, resolveRefs)\u001b[0m\n\u001b[1;32m   1273\u001b[0m \u001b[38;5;28;01mif\u001b[39;00m resolveRefs \u001b[38;5;129;01mand\u001b[39;00m run \u001b[38;5;129;01mis\u001b[39;00m \u001b[38;5;28;01mNone\u001b[39;00m:\n\u001b[1;32m   1274\u001b[0m     \u001b[38;5;28;01mraise\u001b[39;00m \u001b[38;5;167;01mValueError\u001b[39;00m(\u001b[38;5;124m\"\u001b[39m\u001b[38;5;124m`resolveRefs` requires `run` parameter.\u001b[39m\u001b[38;5;124m\"\u001b[39m)\n\u001b[0;32m-> 1275\u001b[0m scaffolding \u001b[38;5;241m=\u001b[39m \u001b[43m_PipelineScaffolding\u001b[49m\u001b[43m(\u001b[49m\u001b[43mpipeline\u001b[49m\u001b[43m,\u001b[49m\u001b[43m \u001b[49m\u001b[43mregistry\u001b[49m\u001b[38;5;241;43m=\u001b[39;49m\u001b[38;5;28;43mself\u001b[39;49m\u001b[38;5;241;43m.\u001b[39;49m\u001b[43mregistry\u001b[49m\u001b[43m)\u001b[49m\n\u001b[1;32m   1276\u001b[0m \u001b[38;5;28;01mif\u001b[39;00m \u001b[38;5;129;01mnot\u001b[39;00m collections \u001b[38;5;129;01mand\u001b[39;00m (scaffolding\u001b[38;5;241m.\u001b[39minitInputs \u001b[38;5;129;01mor\u001b[39;00m scaffolding\u001b[38;5;241m.\u001b[39minputs \u001b[38;5;129;01mor\u001b[39;00m scaffolding\u001b[38;5;241m.\u001b[39mprerequisites):\n\u001b[1;32m   1277\u001b[0m     \u001b[38;5;28;01mraise\u001b[39;00m \u001b[38;5;167;01mValueError\u001b[39;00m(\u001b[38;5;124m\"\u001b[39m\u001b[38;5;124mPipeline requires input datasets but no input collections provided.\u001b[39m\u001b[38;5;124m\"\u001b[39m)\n",
      "File \u001b[0;32m/opt/lsst/software/stack/stack/miniconda3-py38_4.9.2-4.1.0/Linux64/pipe_base/g8f34f99fe3+429ed8c4c1/python/lsst/pipe/base/graphBuilder.py:567\u001b[0m, in \u001b[0;36m_PipelineScaffolding.__init__\u001b[0;34m(self, pipeline, registry)\u001b[0m\n\u001b[1;32m    565\u001b[0m \u001b[38;5;28mself\u001b[39m\u001b[38;5;241m.\u001b[39mtasks \u001b[38;5;241m=\u001b[39m []\n\u001b[1;32m    566\u001b[0m \u001b[38;5;66;03m# Aggregate and categorize the DatasetTypes in the Pipeline.\u001b[39;00m\n\u001b[0;32m--> 567\u001b[0m datasetTypes \u001b[38;5;241m=\u001b[39m \u001b[43mPipelineDatasetTypes\u001b[49m\u001b[38;5;241;43m.\u001b[39;49m\u001b[43mfromPipeline\u001b[49m\u001b[43m(\u001b[49m\u001b[43mpipeline\u001b[49m\u001b[43m,\u001b[49m\u001b[43m \u001b[49m\u001b[43mregistry\u001b[49m\u001b[38;5;241;43m=\u001b[39;49m\u001b[43mregistry\u001b[49m\u001b[43m)\u001b[49m\n\u001b[1;32m    568\u001b[0m \u001b[38;5;66;03m# Construct dictionaries that map those DatasetTypes to structures\u001b[39;00m\n\u001b[1;32m    569\u001b[0m \u001b[38;5;66;03m# that will (later) hold addiitonal information about them.\u001b[39;00m\n\u001b[1;32m    570\u001b[0m \u001b[38;5;28;01mfor\u001b[39;00m attr \u001b[38;5;129;01min\u001b[39;00m (\n\u001b[1;32m    571\u001b[0m     \u001b[38;5;124m\"\u001b[39m\u001b[38;5;124minitInputs\u001b[39m\u001b[38;5;124m\"\u001b[39m,\n\u001b[1;32m    572\u001b[0m     \u001b[38;5;124m\"\u001b[39m\u001b[38;5;124minitIntermediates\u001b[39m\u001b[38;5;124m\"\u001b[39m,\n\u001b[0;32m   (...)\u001b[0m\n\u001b[1;32m    577\u001b[0m     \u001b[38;5;124m\"\u001b[39m\u001b[38;5;124mprerequisites\u001b[39m\u001b[38;5;124m\"\u001b[39m,\n\u001b[1;32m    578\u001b[0m ):\n",
      "File \u001b[0;32m/opt/lsst/software/stack/stack/miniconda3-py38_4.9.2-4.1.0/Linux64/pipe_base/g8f34f99fe3+429ed8c4c1/python/lsst/pipe/base/pipeline.py:1155\u001b[0m, in \u001b[0;36mPipelineDatasetTypes.fromPipeline\u001b[0;34m(cls, pipeline, registry, include_configs, include_packages)\u001b[0m\n\u001b[1;32m   1152\u001b[0m         typeStorageclassMap[outConnection\u001b[38;5;241m.\u001b[39mname] \u001b[38;5;241m=\u001b[39m outConnection\u001b[38;5;241m.\u001b[39mstorageClass\n\u001b[1;32m   1154\u001b[0m \u001b[38;5;28;01mfor\u001b[39;00m taskDef \u001b[38;5;129;01min\u001b[39;00m pipeline:\n\u001b[0;32m-> 1155\u001b[0m     thisTask \u001b[38;5;241m=\u001b[39m \u001b[43mTaskDatasetTypes\u001b[49m\u001b[38;5;241;43m.\u001b[39;49m\u001b[43mfromTaskDef\u001b[49m\u001b[43m(\u001b[49m\n\u001b[1;32m   1156\u001b[0m \u001b[43m        \u001b[49m\u001b[43mtaskDef\u001b[49m\u001b[43m,\u001b[49m\n\u001b[1;32m   1157\u001b[0m \u001b[43m        \u001b[49m\u001b[43mregistry\u001b[49m\u001b[38;5;241;43m=\u001b[39;49m\u001b[43mregistry\u001b[49m\u001b[43m,\u001b[49m\n\u001b[1;32m   1158\u001b[0m \u001b[43m        \u001b[49m\u001b[43minclude_configs\u001b[49m\u001b[38;5;241;43m=\u001b[39;49m\u001b[43minclude_configs\u001b[49m\u001b[43m,\u001b[49m\n\u001b[1;32m   1159\u001b[0m \u001b[43m        \u001b[49m\u001b[43mstorage_class_mapping\u001b[49m\u001b[38;5;241;43m=\u001b[39;49m\u001b[43mtypeStorageclassMap\u001b[49m\u001b[43m,\u001b[49m\n\u001b[1;32m   1160\u001b[0m \u001b[43m    \u001b[49m\u001b[43m)\u001b[49m\n\u001b[1;32m   1161\u001b[0m     allInitInputs\u001b[38;5;241m.\u001b[39mupdate(thisTask\u001b[38;5;241m.\u001b[39minitInputs)\n\u001b[1;32m   1162\u001b[0m     allInitOutputs\u001b[38;5;241m.\u001b[39mupdate(thisTask\u001b[38;5;241m.\u001b[39minitOutputs)\n",
      "File \u001b[0;32m/opt/lsst/software/stack/stack/miniconda3-py38_4.9.2-4.1.0/Linux64/pipe_base/g8f34f99fe3+429ed8c4c1/python/lsst/pipe/base/pipeline.py:1018\u001b[0m, in \u001b[0;36mTaskDatasetTypes.fromTaskDef\u001b[0;34m(cls, taskDef, registry, include_configs, storage_class_mapping)\u001b[0m\n\u001b[1;32m   1010\u001b[0m     outputs\u001b[38;5;241m.\u001b[39mupdate({DatasetType(taskDef\u001b[38;5;241m.\u001b[39mlogOutputDatasetName, dimensions, \u001b[38;5;124m\"\u001b[39m\u001b[38;5;124mButlerLogRecords\u001b[39m\u001b[38;5;124m\"\u001b[39m)})\n\u001b[1;32m   1012\u001b[0m outputs\u001b[38;5;241m.\u001b[39mfreeze()\n\u001b[1;32m   1014\u001b[0m \u001b[38;5;28;01mreturn\u001b[39;00m \u001b[38;5;28mcls\u001b[39m(\n\u001b[1;32m   1015\u001b[0m     initInputs\u001b[38;5;241m=\u001b[39mmakeDatasetTypesSet(\u001b[38;5;124m\"\u001b[39m\u001b[38;5;124minitInputs\u001b[39m\u001b[38;5;124m\"\u001b[39m, is_input\u001b[38;5;241m=\u001b[39m\u001b[38;5;28;01mTrue\u001b[39;00m),\n\u001b[1;32m   1016\u001b[0m     initOutputs\u001b[38;5;241m=\u001b[39minitOutputs,\n\u001b[1;32m   1017\u001b[0m     inputs\u001b[38;5;241m=\u001b[39mmakeDatasetTypesSet(\u001b[38;5;124m\"\u001b[39m\u001b[38;5;124minputs\u001b[39m\u001b[38;5;124m\"\u001b[39m, is_input\u001b[38;5;241m=\u001b[39m\u001b[38;5;28;01mTrue\u001b[39;00m),\n\u001b[0;32m-> 1018\u001b[0m     prerequisites\u001b[38;5;241m=\u001b[39m\u001b[43mmakeDatasetTypesSet\u001b[49m\u001b[43m(\u001b[49m\u001b[38;5;124;43m\"\u001b[39;49m\u001b[38;5;124;43mprerequisiteInputs\u001b[39;49m\u001b[38;5;124;43m\"\u001b[39;49m\u001b[43m,\u001b[49m\u001b[43m \u001b[49m\u001b[43mis_input\u001b[49m\u001b[38;5;241;43m=\u001b[39;49m\u001b[38;5;28;43;01mTrue\u001b[39;49;00m\u001b[43m)\u001b[49m,\n\u001b[1;32m   1019\u001b[0m     outputs\u001b[38;5;241m=\u001b[39moutputs,\n\u001b[1;32m   1020\u001b[0m )\n",
      "File \u001b[0;32m/opt/lsst/software/stack/stack/miniconda3-py38_4.9.2-4.1.0/Linux64/pipe_base/g8f34f99fe3+429ed8c4c1/python/lsst/pipe/base/pipeline.py:886\u001b[0m, in \u001b[0;36mTaskDatasetTypes.fromTaskDef.<locals>.makeDatasetTypesSet\u001b[0;34m(connectionType, is_input, freeze)\u001b[0m\n\u001b[1;32m    884\u001b[0m     datasetType \u001b[38;5;241m=\u001b[39m registry\u001b[38;5;241m.\u001b[39mgetDatasetType(c\u001b[38;5;241m.\u001b[39mname)\n\u001b[1;32m    885\u001b[0m \u001b[38;5;28;01mexcept\u001b[39;00m \u001b[38;5;167;01mLookupError\u001b[39;00m \u001b[38;5;28;01mas\u001b[39;00m err:\n\u001b[0;32m--> 886\u001b[0m     \u001b[38;5;28;01mraise\u001b[39;00m \u001b[38;5;167;01mLookupError\u001b[39;00m(\n\u001b[1;32m    887\u001b[0m         \u001b[38;5;124mf\u001b[39m\u001b[38;5;124m\"\u001b[39m\u001b[38;5;124mDatasetType \u001b[39m\u001b[38;5;124m'\u001b[39m\u001b[38;5;132;01m{\u001b[39;00mc\u001b[38;5;241m.\u001b[39mname\u001b[38;5;132;01m}\u001b[39;00m\u001b[38;5;124m'\u001b[39m\u001b[38;5;124m referenced by \u001b[39m\u001b[38;5;124m\"\u001b[39m\n\u001b[1;32m    888\u001b[0m         \u001b[38;5;124mf\u001b[39m\u001b[38;5;124m\"\u001b[39m\u001b[38;5;132;01m{\u001b[39;00m\u001b[38;5;28mtype\u001b[39m(taskDef\u001b[38;5;241m.\u001b[39mconnections)\u001b[38;5;241m.\u001b[39m\u001b[38;5;18m__name__\u001b[39m\u001b[38;5;132;01m}\u001b[39;00m\u001b[38;5;124m uses \u001b[39m\u001b[38;5;124m'\u001b[39m\u001b[38;5;124mskypix\u001b[39m\u001b[38;5;124m'\u001b[39m\u001b[38;5;124m as a dimension \u001b[39m\u001b[38;5;124m\"\u001b[39m\n\u001b[1;32m    889\u001b[0m         \u001b[38;5;124mf\u001b[39m\u001b[38;5;124m\"\u001b[39m\u001b[38;5;124mplaceholder, but does not already exist in the registry.  \u001b[39m\u001b[38;5;124m\"\u001b[39m\n\u001b[1;32m    890\u001b[0m         \u001b[38;5;124mf\u001b[39m\u001b[38;5;124m\"\u001b[39m\u001b[38;5;124mNote that reference catalog names are now used as the dataset \u001b[39m\u001b[38;5;124m\"\u001b[39m\n\u001b[1;32m    891\u001b[0m         \u001b[38;5;124mf\u001b[39m\u001b[38;5;124m\"\u001b[39m\u001b[38;5;124mtype name instead of \u001b[39m\u001b[38;5;124m'\u001b[39m\u001b[38;5;124mref_cat\u001b[39m\u001b[38;5;124m'\u001b[39m\u001b[38;5;124m.\u001b[39m\u001b[38;5;124m\"\u001b[39m\n\u001b[1;32m    892\u001b[0m     ) \u001b[38;5;28;01mfrom\u001b[39;00m \u001b[38;5;21;01merr\u001b[39;00m\n\u001b[1;32m    893\u001b[0m rest1 \u001b[38;5;241m=\u001b[39m \u001b[38;5;28mset\u001b[39m(registry\u001b[38;5;241m.\u001b[39mdimensions\u001b[38;5;241m.\u001b[39mextract(dimensions \u001b[38;5;241m-\u001b[39m \u001b[38;5;28mset\u001b[39m([\u001b[38;5;124m\"\u001b[39m\u001b[38;5;124mskypix\u001b[39m\u001b[38;5;124m\"\u001b[39m]))\u001b[38;5;241m.\u001b[39mnames)\n\u001b[1;32m    894\u001b[0m rest2 \u001b[38;5;241m=\u001b[39m \u001b[38;5;28mset\u001b[39m(\n\u001b[1;32m    895\u001b[0m     dim\u001b[38;5;241m.\u001b[39mname \u001b[38;5;28;01mfor\u001b[39;00m dim \u001b[38;5;129;01min\u001b[39;00m datasetType\u001b[38;5;241m.\u001b[39mdimensions \u001b[38;5;28;01mif\u001b[39;00m \u001b[38;5;129;01mnot\u001b[39;00m \u001b[38;5;28misinstance\u001b[39m(dim, SkyPixDimension)\n\u001b[1;32m    896\u001b[0m )\n",
      "\u001b[0;31mLookupError\u001b[0m: DatasetType 'ref_cat' referenced by MeasureMergedCoaddSourcesConnections uses 'skypix' as a dimension placeholder, but does not already exist in the registry.  Note that reference catalog names are now used as the dataset type name instead of 'ref_cat'."
     ]
    }
   ],
   "source": [
    "%%time\n",
    "spe = SimplePipelineExecutor.from_pipeline(measureSourcesPipeline, where=queryString, butler=simpleButler)"
   ]
  },
  {
   "cell_type": "code",
   "execution_count": null,
   "id": "37795a6e-c2f4-4955-b5b9-3a0f4a673413",
   "metadata": {},
   "outputs": [],
   "source": [
    "del simpleButler"
   ]
  },
  {
   "cell_type": "code",
   "execution_count": null,
   "id": "c717b078-1bef-4f3e-b05c-76e6e668b1fe",
   "metadata": {},
   "outputs": [],
   "source": []
  },
  {
   "cell_type": "code",
   "execution_count": null,
   "id": "4f4c53df-64b7-4943-9ca8-520bc5d23e4c",
   "metadata": {},
   "outputs": [],
   "source": []
  },
  {
   "cell_type": "code",
   "execution_count": null,
   "id": "8bdc37dd-e85a-4c65-a8a7-22555888f4fe",
   "metadata": {},
   "outputs": [],
   "source": []
  },
  {
   "cell_type": "code",
   "execution_count": null,
   "id": "bc2aa30c-5e20-42e1-afb1-70dbcdec71de",
   "metadata": {},
   "outputs": [],
   "source": []
  },
  {
   "cell_type": "code",
   "execution_count": null,
   "id": "465343e5-8b67-46b7-8469-af45bcfe0f62",
   "metadata": {},
   "outputs": [],
   "source": []
  },
  {
   "cell_type": "code",
   "execution_count": null,
   "id": "75dc8b88-7212-4e02-a70b-ba06a4a438ed",
   "metadata": {},
   "outputs": [],
   "source": []
  },
  {
   "cell_type": "code",
   "execution_count": null,
   "id": "78040a57-6ff1-4e6f-a581-34ff3f856dc2",
   "metadata": {},
   "outputs": [],
   "source": []
  },
  {
   "cell_type": "code",
   "execution_count": null,
   "id": "3690b699-0743-40ca-a39b-8e9040d9fa84",
   "metadata": {},
   "outputs": [],
   "source": []
  },
  {
   "cell_type": "code",
   "execution_count": null,
   "id": "02080e65-503e-4e6f-abbd-aa5c2996db5f",
   "metadata": {},
   "outputs": [],
   "source": []
  },
  {
   "cell_type": "code",
   "execution_count": null,
   "id": "1ff82359-5817-4621-998c-835079ace862",
   "metadata": {},
   "outputs": [],
   "source": []
  },
  {
   "cell_type": "code",
   "execution_count": null,
   "id": "d3cd6a36-db3a-47c0-8a30-16be055eb920",
   "metadata": {},
   "outputs": [],
   "source": []
  },
  {
   "cell_type": "code",
   "execution_count": null,
   "id": "1603fd06-9baa-43fb-b689-29938079fdac",
   "metadata": {},
   "outputs": [],
   "source": []
  },
  {
   "cell_type": "code",
   "execution_count": null,
   "id": "ca35886f-bca8-4524-9a68-89905e4696d3",
   "metadata": {},
   "outputs": [],
   "source": []
  },
  {
   "cell_type": "code",
   "execution_count": null,
   "id": "837da429-c3bb-4b1c-a73b-3f793c5de57a",
   "metadata": {},
   "outputs": [],
   "source": []
  },
  {
   "cell_type": "code",
   "execution_count": null,
   "id": "779bea97-45ba-4c92-9e42-1f6a67cdbaed",
   "metadata": {},
   "outputs": [],
   "source": []
  },
  {
   "cell_type": "markdown",
   "id": "c16ab3de-c3b8-4ded-9854-12659c386e08",
   "metadata": {},
   "source": [
    "<br><br><br><br><br><br><br>\n",
    "\n",
    "\n",
    "# earlier attempts. ignore below\n",
    "\n",
    "\n",
    "## 2. Characterize Image Task\n",
    "\n",
    "> **Help Question:** Is it necessary to run CharacterizeImageTask on the coadd? It seems the image already has psf, is already characterized?"
   ]
  },
  {
   "cell_type": "code",
   "execution_count": null,
   "id": "464e9298-8b3a-44c2-88bb-b94567704299",
   "metadata": {},
   "outputs": [],
   "source": [
    "my_coadd_bbox = butler.get(\"deepCoadd.bbox\", dataId=my_dataId)\n",
    "x_val = my_coadd_bbox.beginX + 200\n",
    "y_val = my_coadd_bbox.beginY + 200\n",
    "point = lsst.geom.Point2D(x_val, y_val)\n",
    "\n",
    "psf = my_coadd.getPsf()\n",
    "psfShape = psf.computeShape(point)\n",
    "sigma = psfShape.getDeterminantRadius()\n",
    "pixelScale = my_coadd.getWcs().getPixelScale().asArcseconds()\n",
    "print('psf fwhm = {:.2f} arcsec at x = {:.0f}, y = {:.0f}'.format(sigma*pixelScale*2.355,x_val,y_val))"
   ]
  },
  {
   "cell_type": "markdown",
   "id": "df64185c-3428-4002-b121-d84e875ce2b1",
   "metadata": {},
   "source": [
    "If it's necessary, do like this?"
   ]
  },
  {
   "cell_type": "code",
   "execution_count": null,
   "id": "5e1386c9-bc84-4467-8b88-e11c139d2387",
   "metadata": {
    "scrolled": true,
    "tags": []
   },
   "outputs": [],
   "source": [
    "# from lsst.pipe.tasks.characterizeImage import CharacterizeImageTask\n",
    "\n",
    "# ci_config = CharacterizeImageTask.ConfigClass()\n",
    "# ci_config.psfIterations = 1\n",
    "# charImageTask = CharacterizeImageTask(config=ci_config)\n",
    "\n",
    "# result = charImageTask.run(my_coadd)"
   ]
  },
  {
   "cell_type": "markdown",
   "id": "7d887556-d81f-4dc0-a862-89ae381a2614",
   "metadata": {},
   "source": [
    "## 3. Configure Source Detection, Deblend, and Measurement Tasks"
   ]
  },
  {
   "cell_type": "code",
   "execution_count": null,
   "id": "4f40091f-9c79-43b5-a630-c79edf496203",
   "metadata": {},
   "outputs": [],
   "source": [
    "schema = afwTable.SourceTable.makeMinimalSchema()\n",
    "tab = afwTable.SourceTable.make(schema)"
   ]
  },
  {
   "cell_type": "code",
   "execution_count": null,
   "id": "b425340a-1996-4f07-8819-24a955425728",
   "metadata": {},
   "outputs": [],
   "source": [
    "schema"
   ]
  },
  {
   "cell_type": "code",
   "execution_count": null,
   "id": "cdbc1ead-647e-44b7-9a2c-bfde63f42bc7",
   "metadata": {},
   "outputs": [],
   "source": [
    "sd_config = SourceDetectionTask.ConfigClass()\n",
    "sd_config.thresholdValue = 5\n",
    "sd_config.thresholdType = \"stdev\"\n",
    "\n",
    "sourceDetectionTask = SourceDetectionTask(schema=schema, config=sd_config)"
   ]
  },
  {
   "cell_type": "code",
   "execution_count": null,
   "id": "84f4eb24-da60-4bda-ad34-3db9007cb06a",
   "metadata": {},
   "outputs": [],
   "source": [
    "sourceDeblendTask = SourceDeblendTask(schema=schema)"
   ]
  },
  {
   "cell_type": "code",
   "execution_count": null,
   "id": "a6a3c2ef-e49c-447b-ac47-abfaaac91f5a",
   "metadata": {},
   "outputs": [],
   "source": [
    "algMetadata = dafBase.PropertyList()\n",
    "print('algMetadata: ')\n",
    "algMetadata"
   ]
  },
  {
   "cell_type": "code",
   "execution_count": null,
   "id": "8c0fa1a9-7921-45da-87ff-36e5ca892ed3",
   "metadata": {},
   "outputs": [],
   "source": [
    "sm_config = SingleFrameMeasurementTask.ConfigClass()\n",
    "\n",
    "sourceMeasurementTask = SingleFrameMeasurementTask(schema=schema,\n",
    "                                                   config=sm_config,\n",
    "                                                   algMetadata=algMetadata)"
   ]
  },
  {
   "cell_type": "markdown",
   "id": "0cd43974-6583-4fc0-b69f-ff1f5daefe47",
   "metadata": {},
   "source": [
    "## 4. Run Source Detection Task"
   ]
  },
  {
   "cell_type": "code",
   "execution_count": null,
   "id": "fdbed973-1d56-444b-95dc-6d596e46dbde",
   "metadata": {},
   "outputs": [],
   "source": [
    "%%time\n",
    "result = sourceDetectionTask.run(tab, my_coadd)"
   ]
  },
  {
   "cell_type": "code",
   "execution_count": null,
   "id": "0f2e7e61-b001-4ebe-953a-c08d245f1219",
   "metadata": {},
   "outputs": [],
   "source": [
    "sources = result.sources"
   ]
  },
  {
   "cell_type": "code",
   "execution_count": null,
   "id": "cecb724d-c7fe-41b5-95e8-98bb69a5245e",
   "metadata": {},
   "outputs": [],
   "source": [
    "print(len(sources), result.numPosPeaks)"
   ]
  },
  {
   "cell_type": "code",
   "execution_count": null,
   "id": "a869a57b-ccbf-478e-936a-47da5af55727",
   "metadata": {},
   "outputs": [],
   "source": [
    "sources.asAstropy()"
   ]
  },
  {
   "cell_type": "code",
   "execution_count": null,
   "id": "97995a20-463f-4786-b51a-1a6c2952cca5",
   "metadata": {},
   "outputs": [],
   "source": [
    "tx = np.where( np.isfinite( sources['coord_ra'] ) )[0]\n",
    "print(len(tx))\n",
    "del tx"
   ]
  },
  {
   "cell_type": "markdown",
   "id": "d7297527-c1e2-4bc9-944e-88b14c517a72",
   "metadata": {},
   "source": [
    "## 5. Run Source Deblending\n",
    "\n",
    "https://pipelines.lsst.io/modules/lsst.meas.deblender/index.html\n",
    "\n",
    "https://pipelines.lsst.io/modules/lsst.meas.deblender/tasks/lsst.meas.deblender.SourceDeblendTask.html\n",
    "\n",
    "> **Help Question:** `sourceDeblendTask.run` exists with an assertion error about the schemas even when we make sure the input schema matches before we start. Not sure how to fix."
   ]
  },
  {
   "cell_type": "markdown",
   "id": "2dbf2bb5-beca-4061-b448-47299059de80",
   "metadata": {},
   "source": [
    "SourceDeblendTask modifies the source catalog in-place."
   ]
  },
  {
   "cell_type": "code",
   "execution_count": null,
   "id": "402d2f13-ce3b-4977-a8a3-67ec36216aaf",
   "metadata": {},
   "outputs": [],
   "source": [
    "assert sources.getSchema() == schema"
   ]
  },
  {
   "cell_type": "markdown",
   "id": "d7c20480-526b-4da4-bc63-2c47cdba47b9",
   "metadata": {},
   "source": [
    "Attempt to fix that by redefining schema and sourceDeblendTask."
   ]
  },
  {
   "cell_type": "code",
   "execution_count": null,
   "id": "17b4ee2d-9191-427b-ad65-566ba1a6ca54",
   "metadata": {},
   "outputs": [],
   "source": [
    "schema = sources.getSchema()"
   ]
  },
  {
   "cell_type": "code",
   "execution_count": null,
   "id": "e824eee7-aac3-4b3f-8db4-37bd7ff015c0",
   "metadata": {},
   "outputs": [],
   "source": [
    "assert sources.getSchema() == schema"
   ]
  },
  {
   "cell_type": "code",
   "execution_count": null,
   "id": "eb270251-f164-4860-a844-da5ff91daea3",
   "metadata": {},
   "outputs": [],
   "source": [
    "sourceDeblendTask = SourceDeblendTask(schema=schema)"
   ]
  },
  {
   "cell_type": "markdown",
   "id": "b88cc8e0-77cb-48b5-9286-9ba541643b00",
   "metadata": {},
   "source": [
    "Does not seem to help, below we still get the error:\n",
    "> `--> 275 assert sources.getSchema() == self.schema`"
   ]
  },
  {
   "cell_type": "code",
   "execution_count": null,
   "id": "36c6656f-3254-49ae-9819-2def3cdd7d9e",
   "metadata": {},
   "outputs": [],
   "source": [
    "%%time\n",
    "sourceDeblendTask.run(my_coadd, sources)"
   ]
  },
  {
   "cell_type": "code",
   "execution_count": null,
   "id": "99319b9f-9c83-4cc3-bd0f-b54fa824c5e8",
   "metadata": {},
   "outputs": [],
   "source": [
    "print(len(sources))"
   ]
  },
  {
   "cell_type": "markdown",
   "id": "cb2492d2-5474-4caa-aa71-e67fadd0476c",
   "metadata": {},
   "source": [
    "## 6. Run Source Measurement\n",
    "\n",
    "https://pipelines.lsst.io/modules/lsst.meas.base/tasks/lsst.meas.base.sfm.SingleFrameMeasurementTask.html"
   ]
  },
  {
   "cell_type": "code",
   "execution_count": null,
   "id": "1f3b6157-4e3a-47eb-a742-2dd7f3204bc6",
   "metadata": {},
   "outputs": [],
   "source": [
    "%%time\n",
    "sourceMeasurementTask.run(measCat=sources, exposure=my_coadd)"
   ]
  },
  {
   "cell_type": "code",
   "execution_count": null,
   "id": "f3d13856-8154-45c9-ba1a-95ff8ad990b6",
   "metadata": {},
   "outputs": [],
   "source": []
  },
  {
   "cell_type": "code",
   "execution_count": null,
   "id": "f12157f8-017e-4239-a651-236d5270ce3a",
   "metadata": {},
   "outputs": [],
   "source": []
  }
 ],
 "metadata": {
  "kernelspec": {
   "display_name": "LSST",
   "language": "python",
   "name": "lsst"
  },
  "language_info": {
   "codemirror_mode": {
    "name": "ipython",
    "version": 3
   },
   "file_extension": ".py",
   "mimetype": "text/x-python",
   "name": "python",
   "nbconvert_exporter": "python",
   "pygments_lexer": "ipython3",
   "version": "3.10.5"
  }
 },
 "nbformat": 4,
 "nbformat_minor": 5
}
