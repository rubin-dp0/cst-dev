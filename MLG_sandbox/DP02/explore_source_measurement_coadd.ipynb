{
 "cells": [
  {
   "cell_type": "markdown",
   "id": "ea18fc1d-a242-4648-8010-bb3765c816c7",
   "metadata": {},
   "source": [
    "# Explore source measurement on a custom coadd\n",
    "\n",
    "**Runs at:** data-int.lsst.cloud\n",
    "\n",
    "**Last run with:** Weeky 2022_31\n",
    "\n",
    "**Goal:** For a custom i-band coadd that I have made with just a week's worth of inputs:\n",
    " * (1) Run source detection and measurement on the coadd.\n",
    " * (2) Do forced photometry at a location where there was no detection.\n",
    " \n",
    "Then, all this will become part of Section 5 of the \"Create Custom Coadd\" notebook.\n",
    "\n",
    "**Status:** Figured out one needed config override, but the new error seems unrelated to something the user can easily define. Need some help with \"ValueError: Gen2 (cal_ref_cat) and Gen3 (ref_cat) reference catalogs are different.  These options must be kept in sync until Gen2 is retired.\""
   ]
  },
  {
   "cell_type": "code",
   "execution_count": 1,
   "id": "146b88ab-9582-40dd-bc2f-1b7c778af7ce",
   "metadata": {},
   "outputs": [],
   "source": [
    "import time\n",
    "import numpy as np\n",
    "import pandas\n",
    "\n",
    "import lsst.geom\n",
    "import lsst.afw.display as afwDisplay\n",
    "\n",
    "from lsst.daf.butler import Butler\n",
    "\n",
    "# lsst packages for executing pipeline tasks\n",
    "from lsst.ctrl.mpexec import SimplePipelineExecutor\n",
    "from lsst.pipe.base import Pipeline, Instrument"
   ]
  },
  {
   "cell_type": "code",
   "execution_count": 2,
   "id": "f275bdc0-f4b4-4e48-8224-f008f41ec0d1",
   "metadata": {},
   "outputs": [],
   "source": [
    "config = \"dp02\"\n",
    "collection = \"u/melissagraham/coadd_recreation_nb\"\n",
    "outputRun = \"u/melissagraham/coadd_recreation_nb/TestWindow1\"\n",
    "my_dataId = {'band': 'i', 'tract': 4431, 'patch': 17}"
   ]
  },
  {
   "cell_type": "markdown",
   "id": "527656da-426c-4c29-b08e-c52f8fd6e479",
   "metadata": {},
   "source": [
    "<br>\n",
    "\n",
    "**Optional:** Get the coadd I made in draft_Create_Custom_Coadd.ipynb"
   ]
  },
  {
   "cell_type": "code",
   "execution_count": 3,
   "id": "d5600cd9-4f40-438f-8490-c27cc9eba42f",
   "metadata": {},
   "outputs": [],
   "source": [
    "# butler = Butler(config, collections=collection)\n",
    "# my_coadd = butler.get('deepCoadd', dataId=my_dataId)"
   ]
  },
  {
   "cell_type": "code",
   "execution_count": 4,
   "id": "bc9e089f-ced8-45e6-a3a9-bf458fde5a69",
   "metadata": {},
   "outputs": [],
   "source": [
    "# my_coadd_inputs = butler.get(\"deepCoadd.coaddInputs\", my_dataId)\n",
    "# my_coadd_inputs.visits.asAstropy()"
   ]
  },
  {
   "cell_type": "code",
   "execution_count": 5,
   "id": "f4df04ff-3b2e-4549-873a-53e0dd9bd91c",
   "metadata": {},
   "outputs": [],
   "source": [
    "# del butler, my_coadd, my_coadd_inputs"
   ]
  },
  {
   "cell_type": "markdown",
   "id": "d9309053-a7b8-43be-864a-398b854930cb",
   "metadata": {},
   "source": [
    "<br>\n",
    "\n",
    "**simpleButler**"
   ]
  },
  {
   "cell_type": "code",
   "execution_count": 6,
   "id": "95d8162d-cb20-467e-aaee-59cf43d2879c",
   "metadata": {},
   "outputs": [
    {
     "data": {
      "text/html": [
       "<pre style=\"margin: 0.1em;\n",
       "padding-left: 0.25em;\n",
       "border-left-style: solid;\n",
       "font-family: var(--jp-code-font-family);\n",
       "font-size: var(--jp-code-font-size);\n",
       "line-height: var(--jp-code-line-height);\n",
       "\"><span style=\"color: var(--jp-warn-color2)\">botocore.credentials</span> <span style=\"color: var(--jp-info-color0)\">INFO</span>: Found credentials in shared credentials file: /home/melissagraham/.lsst/aws-credentials.ini</pre>"
      ],
      "text/plain": [
       "<IPython.core.display.HTML object>"
      ]
     },
     "metadata": {},
     "output_type": "display_data"
    }
   ],
   "source": [
    "simpleButler = Butler(config, collections=[collection], run=outputRun, writeable=True)"
   ]
  },
  {
   "cell_type": "code",
   "execution_count": 7,
   "id": "cba8147a-aa8d-4b10-8d52-3d46a7fd73b0",
   "metadata": {},
   "outputs": [
    {
     "data": {
      "text/plain": [
       "CollectionSearch(('u/melissagraham/coadd_recreation_nb/TestWindow1', '2.2i/runs/DP0.2'))"
      ]
     },
     "execution_count": 7,
     "metadata": {},
     "output_type": "execute_result"
    }
   ],
   "source": [
    "simpleButler.registry.getCollectionChain(collection)"
   ]
  },
  {
   "cell_type": "code",
   "execution_count": 8,
   "id": "8cf0db8e-189c-41dc-9e6b-9128244bb1b7",
   "metadata": {},
   "outputs": [],
   "source": [
    "### what kind of refcats are there\n",
    "# for c in sorted(simpleButler.registry.queryCollections()):\n",
    "#     if c.find('ref') > -1:\n",
    "#         print(c)"
   ]
  },
  {
   "cell_type": "markdown",
   "id": "310f6d24-d4ca-43aa-acc7-62c5773f841b",
   "metadata": {},
   "source": [
    "<br>\n",
    "\n",
    "**Set up the pipeline.**\n",
    "\n",
    "In the DRP.yaml file, the source detection steps that come after assembleCoadd are:\n",
    " - healSparsePropertyMaps: lsst.pipe.tasks.healSparseMapping.HealSparsePropertyMapTask\n",
    " - consolidateHealSparsePropertyMaps: lsst.pipe.tasks.healSparseMapping.ConsolidateHealSparsePropertyMapTask\n",
    " - detection: lsst.pipe.tasks.multiBand.DetectCoaddSourcesTask\n",
    " - mergeDetections: lsst.pipe.tasks.mergeDetections.MergeDetectionsTask\n",
    " - deblend: lsst.pipe.tasks.deblendCoaddSourcesPipeline.DeblendCoaddSourcesMultiTask\n",
    " - measure: lsst.pipe.tasks.multiBand.MeasureMergedCoaddSourcesTask\n",
    " - mergeMeasurements: lsst.pipe.tasks.mergeMeasurements.MergeMeasurementsTask\n",
    " - writeObjectTable: lsst.pipe.tasks.postprocess.WriteObjectTableTask\n",
    " \n",
    "Not needed?\n",
    " - healSparsePropertyMaps: lsst.pipe.tasks.healSparseMapping.HealSparsePropertyMapTask\n",
    " - consolidateHealSparsePropertyMaps: lsst.pipe.tasks.healSparseMapping.ConsolidateHealSparsePropertyMapTask\n",
    "\n",
    "Starting with `detection` and all the lists tasks after it."
   ]
  },
  {
   "cell_type": "code",
   "execution_count": 13,
   "id": "53de4ca3-34a8-484b-a775-55af4ab4ec24",
   "metadata": {},
   "outputs": [
    {
     "name": "stdout",
     "output_type": "stream",
     "text": [
      "$DRP_PIPE_DIR/ingredients/DRP-full.yaml#detection,mergeDetections,deblend,measure,mergeMeasurements,writeObjectTable\n"
     ]
    }
   ],
   "source": [
    "# yaml_file = '${PIPE_TASKS_DIR}/pipelines/DRP.yaml'\n",
    "\n",
    "yaml_file = '$DRP_PIPE_DIR/ingredients/DRP-full.yaml'\n",
    "\n",
    "steps = 'detection,mergeDetections,deblend,measure,mergeMeasurements,writeObjectTable'\n",
    "my_uri = yaml_file + '#' + steps\n",
    "\n",
    "print(my_uri)"
   ]
  },
  {
   "cell_type": "code",
   "execution_count": 14,
   "id": "ac1d0cde-0785-4cbe-8e97-f8bb18681ef3",
   "metadata": {},
   "outputs": [],
   "source": [
    "measureSourcesPipeline = Pipeline.from_uri(my_uri)"
   ]
  },
  {
   "cell_type": "markdown",
   "id": "29580406-3566-4f59-b851-e0671392f213",
   "metadata": {},
   "source": [
    "<br>\n",
    "\n",
    "**query string**"
   ]
  },
  {
   "cell_type": "code",
   "execution_count": 15,
   "id": "4ce2fa01-18f8-4f30-bfd5-e683d0b2a741",
   "metadata": {},
   "outputs": [
    {
     "name": "stdout",
     "output_type": "stream",
     "text": [
      "tract = 4431 AND patch = 17 AND band = 'i' AND skymap = 'DC2'\n"
     ]
    }
   ],
   "source": [
    "queryString = \"tract = 4431 AND patch = 17 AND band = 'i' AND skymap = 'DC2'\"\n",
    "print(queryString)"
   ]
  },
  {
   "cell_type": "markdown",
   "id": "91e20bbf-2b60-42e5-86a2-6f718adb6d09",
   "metadata": {},
   "source": [
    "<br>\n",
    "\n",
    "**Configurations**\n",
    "\n",
    "`'mergeDetections', 'priorityList', 'i'` -- from an error when attempting to make spe I figured this one out"
   ]
  },
  {
   "cell_type": "code",
   "execution_count": 16,
   "id": "202f887c-d006-4b83-a4cf-ce81cf07209d",
   "metadata": {},
   "outputs": [],
   "source": [
    "measureSourcesPipeline.addConfigOverride('mergeDetections', 'priorityList', 'i')"
   ]
  },
  {
   "cell_type": "code",
   "execution_count": 17,
   "id": "d0914012-57e6-447d-abbb-47943ae562a8",
   "metadata": {},
   "outputs": [],
   "source": [
    "# measureSourcesPipeline.addConfigOverride('measure', 'ref_dataset_name', 'None')"
   ]
  },
  {
   "cell_type": "markdown",
   "id": "9e9646b6-5355-4204-8ae6-b25d3231d7da",
   "metadata": {},
   "source": [
    "<br>\n",
    "\n",
    ">**Help needed:** I've done a bunch of poking around but I can't figure out how to change the refObjLoader value of 'ref_dataset_name', or why anything Gen2 matters? This doesn't seem to be a configuration that can be overrided.\n",
    "\n",
    "> Can see the part of the code here:\n",
    "https://github.com/lsst/pipe_tasks/blob/main/python/lsst/pipe/tasks/multiBand.py#L824"
   ]
  },
  {
   "cell_type": "code",
   "execution_count": 18,
   "id": "488328f1-0a07-4232-9bdb-78efd93bfd29",
   "metadata": {},
   "outputs": [
    {
     "name": "stderr",
     "output_type": "stream",
     "text": [
      "/opt/lsst/software/stack/stack/miniconda3-py38_4.9.2-4.1.0/Linux64/pipe_tasks/g10f10f6499+07c6cf68ae/python/lsst/pipe/tasks/multiBand.py:594: UserWarning: MeasureMergedCoaddSourcesConnections.defaultTemplates is deprecated and no longer used. Use MeasureMergedCoaddSourcesConfig.inputCatalog.\n",
      "  warnings.warn(\"MeasureMergedCoaddSourcesConnections.defaultTemplates is deprecated and no longer used. \"\n"
     ]
    },
    {
     "data": {
      "text/html": [
       "<pre style=\"margin: 0.1em;\n",
       "padding-left: 0.25em;\n",
       "border-left-style: solid;\n",
       "font-family: var(--jp-code-font-family);\n",
       "font-size: var(--jp-code-font-size);\n",
       "line-height: var(--jp-code-line-height);\n",
       "\"><span style=\"color: var(--jp-warn-color2)\">lsst.pipe.base.pipeline</span> <span style=\"color: var(--jp-error-color2)\">ERROR</span>: Configuration validation failed for task measure (lsst.pipe.tasks.multiBand.MeasureMergedCoaddSourcesTask)</pre>"
      ],
      "text/plain": [
       "<IPython.core.display.HTML object>"
      ]
     },
     "metadata": {},
     "output_type": "display_data"
    },
    {
     "ename": "ValueError",
     "evalue": "Gen2 (cal_ref_cat) and Gen3 (ref_cat) reference catalogs are different.  These options must be kept in sync until Gen2 is retired.",
     "output_type": "error",
     "traceback": [
      "\u001b[0;31m---------------------------------------------------------------------------\u001b[0m",
      "\u001b[0;31mValueError\u001b[0m                                Traceback (most recent call last)",
      "File \u001b[0;32m<timed exec>:1\u001b[0m, in \u001b[0;36m<module>\u001b[0;34m\u001b[0m\n",
      "File \u001b[0;32m/opt/lsst/software/stack/stack/miniconda3-py38_4.9.2-4.1.0/Linux64/ctrl_mpexec/g0eed036183+82d6aac40a/python/lsst/ctrl/mpexec/simple_pipeline_executor.py:218\u001b[0m, in \u001b[0;36mSimplePipelineExecutor.from_pipeline\u001b[0;34m(cls, pipeline, where, butler, **kwargs)\u001b[0m\n\u001b[1;32m    197\u001b[0m \u001b[38;5;124;03m\"\"\"Create an executor by building a QuantumGraph from an in-memory\u001b[39;00m\n\u001b[1;32m    198\u001b[0m \u001b[38;5;124;03mpipeline.\u001b[39;00m\n\u001b[1;32m    199\u001b[0m \n\u001b[0;32m   (...)\u001b[0m\n\u001b[1;32m    215\u001b[0m \u001b[38;5;124;03m    `Butler`, ready for `run` to be called.\u001b[39;00m\n\u001b[1;32m    216\u001b[0m \u001b[38;5;124;03m\"\"\"\u001b[39;00m\n\u001b[1;32m    217\u001b[0m \u001b[38;5;28;01mif\u001b[39;00m \u001b[38;5;28misinstance\u001b[39m(pipeline, Pipeline):\n\u001b[0;32m--> 218\u001b[0m     pipeline \u001b[38;5;241m=\u001b[39m \u001b[38;5;28;43mlist\u001b[39;49m\u001b[43m(\u001b[49m\u001b[43mpipeline\u001b[49m\u001b[38;5;241;43m.\u001b[39;49m\u001b[43mtoExpandedPipeline\u001b[49m\u001b[43m(\u001b[49m\u001b[43m)\u001b[49m\u001b[43m)\u001b[49m\n\u001b[1;32m    219\u001b[0m \u001b[38;5;28;01melse\u001b[39;00m:\n\u001b[1;32m    220\u001b[0m     pipeline \u001b[38;5;241m=\u001b[39m \u001b[38;5;28mlist\u001b[39m(pipeline)\n",
      "File \u001b[0;32m/opt/lsst/software/stack/stack/miniconda3-py38_4.9.2-4.1.0/Linux64/pipe_base/g26bb7a4bc2+4f80013eac/python/lsst/pipe/base/pipeline.py:668\u001b[0m, in \u001b[0;36mPipeline.toExpandedPipeline\u001b[0;34m(self)\u001b[0m\n\u001b[1;32m    666\u001b[0m taskDefs \u001b[38;5;241m=\u001b[39m []\n\u001b[1;32m    667\u001b[0m \u001b[38;5;28;01mfor\u001b[39;00m label \u001b[38;5;129;01min\u001b[39;00m \u001b[38;5;28mself\u001b[39m\u001b[38;5;241m.\u001b[39m_pipelineIR\u001b[38;5;241m.\u001b[39mtasks:\n\u001b[0;32m--> 668\u001b[0m     taskDefs\u001b[38;5;241m.\u001b[39mappend(\u001b[38;5;28;43mself\u001b[39;49m\u001b[38;5;241;43m.\u001b[39;49m\u001b[43m_buildTaskDef\u001b[49m\u001b[43m(\u001b[49m\u001b[43mlabel\u001b[49m\u001b[43m)\u001b[49m)\n\u001b[1;32m    670\u001b[0m \u001b[38;5;66;03m# lets evaluate the contracts\u001b[39;00m\n\u001b[1;32m    671\u001b[0m \u001b[38;5;28;01mif\u001b[39;00m \u001b[38;5;28mself\u001b[39m\u001b[38;5;241m.\u001b[39m_pipelineIR\u001b[38;5;241m.\u001b[39mcontracts \u001b[38;5;129;01mis\u001b[39;00m \u001b[38;5;129;01mnot\u001b[39;00m \u001b[38;5;28;01mNone\u001b[39;00m:\n",
      "File \u001b[0;32m/opt/lsst/software/stack/stack/miniconda3-py38_4.9.2-4.1.0/Linux64/pipe_base/g26bb7a4bc2+4f80013eac/python/lsst/pipe/base/pipeline.py:712\u001b[0m, in \u001b[0;36mPipeline._buildTaskDef\u001b[0;34m(self, label)\u001b[0m\n\u001b[1;32m    710\u001b[0m                 overrides\u001b[38;5;241m.\u001b[39maddValueOverride(key, value)\n\u001b[1;32m    711\u001b[0m overrides\u001b[38;5;241m.\u001b[39mapplyTo(config)\n\u001b[0;32m--> 712\u001b[0m \u001b[38;5;28;01mreturn\u001b[39;00m \u001b[43mTaskDef\u001b[49m\u001b[43m(\u001b[49m\u001b[43mtaskName\u001b[49m\u001b[38;5;241;43m=\u001b[39;49m\u001b[43mtaskName\u001b[49m\u001b[43m,\u001b[49m\u001b[43m \u001b[49m\u001b[43mconfig\u001b[49m\u001b[38;5;241;43m=\u001b[39;49m\u001b[43mconfig\u001b[49m\u001b[43m,\u001b[49m\u001b[43m \u001b[49m\u001b[43mtaskClass\u001b[49m\u001b[38;5;241;43m=\u001b[39;49m\u001b[43mtaskClass\u001b[49m\u001b[43m,\u001b[49m\u001b[43m \u001b[49m\u001b[43mlabel\u001b[49m\u001b[38;5;241;43m=\u001b[39;49m\u001b[43mlabel\u001b[49m\u001b[43m)\u001b[49m\n",
      "File \u001b[0;32m/opt/lsst/software/stack/stack/miniconda3-py38_4.9.2-4.1.0/Linux64/pipe_base/g26bb7a4bc2+4f80013eac/python/lsst/pipe/base/pipeline.py:162\u001b[0m, in \u001b[0;36mTaskDef.__init__\u001b[0;34m(self, taskName, config, taskClass, label)\u001b[0m\n\u001b[1;32m    160\u001b[0m \u001b[38;5;28mself\u001b[39m\u001b[38;5;241m.\u001b[39mtaskName \u001b[38;5;241m=\u001b[39m taskName\n\u001b[1;32m    161\u001b[0m \u001b[38;5;28;01mtry\u001b[39;00m:\n\u001b[0;32m--> 162\u001b[0m     \u001b[43mconfig\u001b[49m\u001b[38;5;241;43m.\u001b[39;49m\u001b[43mvalidate\u001b[49m\u001b[43m(\u001b[49m\u001b[43m)\u001b[49m\n\u001b[1;32m    163\u001b[0m \u001b[38;5;28;01mexcept\u001b[39;00m \u001b[38;5;167;01mException\u001b[39;00m:\n\u001b[1;32m    164\u001b[0m     _LOG\u001b[38;5;241m.\u001b[39merror(\u001b[38;5;124m\"\u001b[39m\u001b[38;5;124mConfiguration validation failed for task \u001b[39m\u001b[38;5;132;01m%s\u001b[39;00m\u001b[38;5;124m (\u001b[39m\u001b[38;5;132;01m%s\u001b[39;00m\u001b[38;5;124m)\u001b[39m\u001b[38;5;124m\"\u001b[39m, label, taskName)\n",
      "File \u001b[0;32m/opt/lsst/software/stack/stack/miniconda3-py38_4.9.2-4.1.0/Linux64/pipe_tasks/g10f10f6499+07c6cf68ae/python/lsst/pipe/tasks/multiBand.py:828\u001b[0m, in \u001b[0;36mMeasureMergedCoaddSourcesConfig.validate\u001b[0;34m(self)\u001b[0m\n\u001b[1;32m    826\u001b[0m refCatGen2 \u001b[38;5;241m=\u001b[39m \u001b[38;5;28mgetattr\u001b[39m(\u001b[38;5;28mself\u001b[39m\u001b[38;5;241m.\u001b[39mrefObjLoader, \u001b[38;5;124m\"\u001b[39m\u001b[38;5;124mref_dataset_name\u001b[39m\u001b[38;5;124m\"\u001b[39m, \u001b[38;5;28;01mNone\u001b[39;00m)\n\u001b[1;32m    827\u001b[0m \u001b[38;5;28;01mif\u001b[39;00m refCatGen2 \u001b[38;5;129;01mis\u001b[39;00m \u001b[38;5;129;01mnot\u001b[39;00m \u001b[38;5;28;01mNone\u001b[39;00m \u001b[38;5;129;01mand\u001b[39;00m refCatGen2 \u001b[38;5;241m!=\u001b[39m \u001b[38;5;28mself\u001b[39m\u001b[38;5;241m.\u001b[39mconnections\u001b[38;5;241m.\u001b[39mrefCat:\n\u001b[0;32m--> 828\u001b[0m     \u001b[38;5;28;01mraise\u001b[39;00m \u001b[38;5;167;01mValueError\u001b[39;00m(\n\u001b[1;32m    829\u001b[0m         \u001b[38;5;124mf\u001b[39m\u001b[38;5;124m\"\u001b[39m\u001b[38;5;124mGen2 (\u001b[39m\u001b[38;5;132;01m{\u001b[39;00mrefCatGen2\u001b[38;5;132;01m}\u001b[39;00m\u001b[38;5;124m) and Gen3 (\u001b[39m\u001b[38;5;132;01m{\u001b[39;00m\u001b[38;5;28mself\u001b[39m\u001b[38;5;241m.\u001b[39mconnections\u001b[38;5;241m.\u001b[39mrefCat\u001b[38;5;132;01m}\u001b[39;00m\u001b[38;5;124m) reference catalogs \u001b[39m\u001b[38;5;124m\"\u001b[39m\n\u001b[1;32m    830\u001b[0m         \u001b[38;5;124mf\u001b[39m\u001b[38;5;124m\"\u001b[39m\u001b[38;5;124mare different.  These options must be kept in sync until Gen2 is retired.\u001b[39m\u001b[38;5;124m\"\u001b[39m\n\u001b[1;32m    831\u001b[0m     )\n",
      "\u001b[0;31mValueError\u001b[0m: Gen2 (cal_ref_cat) and Gen3 (ref_cat) reference catalogs are different.  These options must be kept in sync until Gen2 is retired."
     ]
    }
   ],
   "source": [
    "%%time\n",
    "spe = SimplePipelineExecutor.from_pipeline(measureSourcesPipeline, where=queryString, butler=simpleButler)"
   ]
  },
  {
   "cell_type": "code",
   "execution_count": null,
   "id": "37795a6e-c2f4-4955-b5b9-3a0f4a673413",
   "metadata": {},
   "outputs": [],
   "source": [
    "del simpleButler"
   ]
  },
  {
   "cell_type": "code",
   "execution_count": null,
   "id": "c717b078-1bef-4f3e-b05c-76e6e668b1fe",
   "metadata": {},
   "outputs": [],
   "source": []
  },
  {
   "cell_type": "code",
   "execution_count": null,
   "id": "4f4c53df-64b7-4943-9ca8-520bc5d23e4c",
   "metadata": {},
   "outputs": [],
   "source": []
  },
  {
   "cell_type": "code",
   "execution_count": null,
   "id": "8bdc37dd-e85a-4c65-a8a7-22555888f4fe",
   "metadata": {},
   "outputs": [],
   "source": []
  },
  {
   "cell_type": "code",
   "execution_count": null,
   "id": "bc2aa30c-5e20-42e1-afb1-70dbcdec71de",
   "metadata": {},
   "outputs": [],
   "source": []
  },
  {
   "cell_type": "markdown",
   "id": "e34ccfa7-c632-4739-b2c5-1820eaec0f3b",
   "metadata": {},
   "source": [
    "Can we look at the measure config and see what might have been used for the general processing?"
   ]
  },
  {
   "cell_type": "code",
   "execution_count": null,
   "id": "5ef5972f-84e2-48b6-a656-dc4bd5ed6dfa",
   "metadata": {},
   "outputs": [],
   "source": [
    "butler = Butler(config, collections='2.2i/runs/DP0.2')"
   ]
  },
  {
   "cell_type": "markdown",
   "id": "6462f064-5193-45d4-be77-f9e33e4455e0",
   "metadata": {},
   "source": [
    "Don't use a dataId? <br>\n",
    "`DatasetType('measure_config', {}, Config)`"
   ]
  },
  {
   "cell_type": "code",
   "execution_count": null,
   "id": "a57def78-660a-4ec9-b729-2b04b35358e1",
   "metadata": {},
   "outputs": [],
   "source": [
    "### \n",
    "# test = butler.get(\"measure_config\", dataId=my_dataId)\n",
    "test = butler.get(\"measure_config\")"
   ]
  },
  {
   "cell_type": "code",
   "execution_count": null,
   "id": "1bdc03d9-bed3-4c3d-8411-06d3274ac2a5",
   "metadata": {},
   "outputs": [],
   "source": [
    "for key,value in test.items():\n",
    "    print(key,value)"
   ]
  },
  {
   "cell_type": "code",
   "execution_count": null,
   "id": "b40d26fc-8efc-449e-93b1-337e9d548481",
   "metadata": {},
   "outputs": [],
   "source": [
    "del butler"
   ]
  },
  {
   "cell_type": "code",
   "execution_count": null,
   "id": "465343e5-8b67-46b7-8469-af45bcfe0f62",
   "metadata": {},
   "outputs": [],
   "source": []
  },
  {
   "cell_type": "markdown",
   "id": "c16ab3de-c3b8-4ded-9854-12659c386e08",
   "metadata": {},
   "source": [
    "<br><br><br><br><br><br><br>\n",
    "\n",
    "\n",
    "# earlier attempts. ignore below\n",
    "\n",
    "\n",
    "## 2. Characterize Image Task\n",
    "\n",
    "> **Help Question:** Is it necessary to run CharacterizeImageTask on the coadd? It seems the image already has psf, is already characterized?"
   ]
  },
  {
   "cell_type": "code",
   "execution_count": null,
   "id": "464e9298-8b3a-44c2-88bb-b94567704299",
   "metadata": {},
   "outputs": [],
   "source": [
    "my_coadd_bbox = butler.get(\"deepCoadd.bbox\", dataId=my_dataId)\n",
    "x_val = my_coadd_bbox.beginX + 200\n",
    "y_val = my_coadd_bbox.beginY + 200\n",
    "point = lsst.geom.Point2D(x_val, y_val)\n",
    "\n",
    "psf = my_coadd.getPsf()\n",
    "psfShape = psf.computeShape(point)\n",
    "sigma = psfShape.getDeterminantRadius()\n",
    "pixelScale = my_coadd.getWcs().getPixelScale().asArcseconds()\n",
    "print('psf fwhm = {:.2f} arcsec at x = {:.0f}, y = {:.0f}'.format(sigma*pixelScale*2.355,x_val,y_val))"
   ]
  },
  {
   "cell_type": "markdown",
   "id": "df64185c-3428-4002-b121-d84e875ce2b1",
   "metadata": {},
   "source": [
    "If it's necessary, do like this?"
   ]
  },
  {
   "cell_type": "code",
   "execution_count": null,
   "id": "5e1386c9-bc84-4467-8b88-e11c139d2387",
   "metadata": {
    "scrolled": true,
    "tags": []
   },
   "outputs": [],
   "source": [
    "# from lsst.pipe.tasks.characterizeImage import CharacterizeImageTask\n",
    "\n",
    "# ci_config = CharacterizeImageTask.ConfigClass()\n",
    "# ci_config.psfIterations = 1\n",
    "# charImageTask = CharacterizeImageTask(config=ci_config)\n",
    "\n",
    "# result = charImageTask.run(my_coadd)"
   ]
  },
  {
   "cell_type": "markdown",
   "id": "7d887556-d81f-4dc0-a862-89ae381a2614",
   "metadata": {},
   "source": [
    "## 3. Configure Source Detection, Deblend, and Measurement Tasks"
   ]
  },
  {
   "cell_type": "code",
   "execution_count": null,
   "id": "4f40091f-9c79-43b5-a630-c79edf496203",
   "metadata": {},
   "outputs": [],
   "source": [
    "schema = afwTable.SourceTable.makeMinimalSchema()\n",
    "tab = afwTable.SourceTable.make(schema)"
   ]
  },
  {
   "cell_type": "code",
   "execution_count": null,
   "id": "b425340a-1996-4f07-8819-24a955425728",
   "metadata": {},
   "outputs": [],
   "source": [
    "schema"
   ]
  },
  {
   "cell_type": "code",
   "execution_count": null,
   "id": "cdbc1ead-647e-44b7-9a2c-bfde63f42bc7",
   "metadata": {},
   "outputs": [],
   "source": [
    "sd_config = SourceDetectionTask.ConfigClass()\n",
    "sd_config.thresholdValue = 5\n",
    "sd_config.thresholdType = \"stdev\"\n",
    "\n",
    "sourceDetectionTask = SourceDetectionTask(schema=schema, config=sd_config)"
   ]
  },
  {
   "cell_type": "code",
   "execution_count": null,
   "id": "84f4eb24-da60-4bda-ad34-3db9007cb06a",
   "metadata": {},
   "outputs": [],
   "source": [
    "sourceDeblendTask = SourceDeblendTask(schema=schema)"
   ]
  },
  {
   "cell_type": "code",
   "execution_count": null,
   "id": "a6a3c2ef-e49c-447b-ac47-abfaaac91f5a",
   "metadata": {},
   "outputs": [],
   "source": [
    "algMetadata = dafBase.PropertyList()\n",
    "print('algMetadata: ')\n",
    "algMetadata"
   ]
  },
  {
   "cell_type": "code",
   "execution_count": null,
   "id": "8c0fa1a9-7921-45da-87ff-36e5ca892ed3",
   "metadata": {},
   "outputs": [],
   "source": [
    "sm_config = SingleFrameMeasurementTask.ConfigClass()\n",
    "\n",
    "sourceMeasurementTask = SingleFrameMeasurementTask(schema=schema,\n",
    "                                                   config=sm_config,\n",
    "                                                   algMetadata=algMetadata)"
   ]
  },
  {
   "cell_type": "markdown",
   "id": "0cd43974-6583-4fc0-b69f-ff1f5daefe47",
   "metadata": {},
   "source": [
    "## 4. Run Source Detection Task"
   ]
  },
  {
   "cell_type": "code",
   "execution_count": null,
   "id": "fdbed973-1d56-444b-95dc-6d596e46dbde",
   "metadata": {},
   "outputs": [],
   "source": [
    "%%time\n",
    "result = sourceDetectionTask.run(tab, my_coadd)"
   ]
  },
  {
   "cell_type": "code",
   "execution_count": null,
   "id": "0f2e7e61-b001-4ebe-953a-c08d245f1219",
   "metadata": {},
   "outputs": [],
   "source": [
    "sources = result.sources"
   ]
  },
  {
   "cell_type": "code",
   "execution_count": null,
   "id": "cecb724d-c7fe-41b5-95e8-98bb69a5245e",
   "metadata": {},
   "outputs": [],
   "source": [
    "print(len(sources), result.numPosPeaks)"
   ]
  },
  {
   "cell_type": "code",
   "execution_count": null,
   "id": "a869a57b-ccbf-478e-936a-47da5af55727",
   "metadata": {},
   "outputs": [],
   "source": [
    "sources.asAstropy()"
   ]
  },
  {
   "cell_type": "code",
   "execution_count": null,
   "id": "97995a20-463f-4786-b51a-1a6c2952cca5",
   "metadata": {},
   "outputs": [],
   "source": [
    "tx = np.where( np.isfinite( sources['coord_ra'] ) )[0]\n",
    "print(len(tx))\n",
    "del tx"
   ]
  },
  {
   "cell_type": "markdown",
   "id": "d7297527-c1e2-4bc9-944e-88b14c517a72",
   "metadata": {},
   "source": [
    "## 5. Run Source Deblending\n",
    "\n",
    "https://pipelines.lsst.io/modules/lsst.meas.deblender/index.html\n",
    "\n",
    "https://pipelines.lsst.io/modules/lsst.meas.deblender/tasks/lsst.meas.deblender.SourceDeblendTask.html\n",
    "\n",
    "> **Help Question:** `sourceDeblendTask.run` exists with an assertion error about the schemas even when we make sure the input schema matches before we start. Not sure how to fix."
   ]
  },
  {
   "cell_type": "markdown",
   "id": "2dbf2bb5-beca-4061-b448-47299059de80",
   "metadata": {},
   "source": [
    "SourceDeblendTask modifies the source catalog in-place."
   ]
  },
  {
   "cell_type": "code",
   "execution_count": null,
   "id": "402d2f13-ce3b-4977-a8a3-67ec36216aaf",
   "metadata": {},
   "outputs": [],
   "source": [
    "assert sources.getSchema() == schema"
   ]
  },
  {
   "cell_type": "markdown",
   "id": "d7c20480-526b-4da4-bc63-2c47cdba47b9",
   "metadata": {},
   "source": [
    "Attempt to fix that by redefining schema and sourceDeblendTask."
   ]
  },
  {
   "cell_type": "code",
   "execution_count": null,
   "id": "17b4ee2d-9191-427b-ad65-566ba1a6ca54",
   "metadata": {},
   "outputs": [],
   "source": [
    "schema = sources.getSchema()"
   ]
  },
  {
   "cell_type": "code",
   "execution_count": null,
   "id": "e824eee7-aac3-4b3f-8db4-37bd7ff015c0",
   "metadata": {},
   "outputs": [],
   "source": [
    "assert sources.getSchema() == schema"
   ]
  },
  {
   "cell_type": "code",
   "execution_count": null,
   "id": "eb270251-f164-4860-a844-da5ff91daea3",
   "metadata": {},
   "outputs": [],
   "source": [
    "sourceDeblendTask = SourceDeblendTask(schema=schema)"
   ]
  },
  {
   "cell_type": "markdown",
   "id": "b88cc8e0-77cb-48b5-9286-9ba541643b00",
   "metadata": {},
   "source": [
    "Does not seem to help, below we still get the error:\n",
    "> `--> 275 assert sources.getSchema() == self.schema`"
   ]
  },
  {
   "cell_type": "code",
   "execution_count": null,
   "id": "36c6656f-3254-49ae-9819-2def3cdd7d9e",
   "metadata": {},
   "outputs": [],
   "source": [
    "%%time\n",
    "sourceDeblendTask.run(my_coadd, sources)"
   ]
  },
  {
   "cell_type": "code",
   "execution_count": null,
   "id": "99319b9f-9c83-4cc3-bd0f-b54fa824c5e8",
   "metadata": {},
   "outputs": [],
   "source": [
    "print(len(sources))"
   ]
  },
  {
   "cell_type": "markdown",
   "id": "cb2492d2-5474-4caa-aa71-e67fadd0476c",
   "metadata": {},
   "source": [
    "## 6. Run Source Measurement\n",
    "\n",
    "https://pipelines.lsst.io/modules/lsst.meas.base/tasks/lsst.meas.base.sfm.SingleFrameMeasurementTask.html"
   ]
  },
  {
   "cell_type": "code",
   "execution_count": null,
   "id": "1f3b6157-4e3a-47eb-a742-2dd7f3204bc6",
   "metadata": {},
   "outputs": [],
   "source": [
    "%%time\n",
    "sourceMeasurementTask.run(measCat=sources, exposure=my_coadd)"
   ]
  },
  {
   "cell_type": "code",
   "execution_count": null,
   "id": "f3d13856-8154-45c9-ba1a-95ff8ad990b6",
   "metadata": {},
   "outputs": [],
   "source": []
  },
  {
   "cell_type": "code",
   "execution_count": null,
   "id": "f12157f8-017e-4239-a651-236d5270ce3a",
   "metadata": {},
   "outputs": [],
   "source": []
  }
 ],
 "metadata": {
  "kernelspec": {
   "display_name": "LSST",
   "language": "python",
   "name": "lsst"
  },
  "language_info": {
   "codemirror_mode": {
    "name": "ipython",
    "version": 3
   },
   "file_extension": ".py",
   "mimetype": "text/x-python",
   "name": "python",
   "nbconvert_exporter": "python",
   "pygments_lexer": "ipython3",
   "version": "3.10.5"
  }
 },
 "nbformat": 4,
 "nbformat_minor": 5
}
