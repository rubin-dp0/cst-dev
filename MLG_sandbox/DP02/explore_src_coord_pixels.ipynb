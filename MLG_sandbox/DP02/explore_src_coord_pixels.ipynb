{
 "cells": [
  {
   "cell_type": "markdown",
   "id": "af4e8d07-6d4b-4bc0-a12a-e0e0ccde1fae",
   "metadata": {},
   "source": [
    "# which pixels become coord_ra, coord_dec\n",
    "\n",
    "https://community.lsst.org/t/questions-related-to-the-use-of-data-product-calexp-and-src/8154\n",
    "\n",
    "Set up."
   ]
  },
  {
   "cell_type": "code",
   "execution_count": 1,
   "id": "166b1886-ffe2-4ca9-afb0-ef1d91392315",
   "metadata": {
    "execution": {
     "iopub.execute_input": "2023-12-15T00:05:27.977315Z",
     "iopub.status.busy": "2023-12-15T00:05:27.977118Z",
     "iopub.status.idle": "2023-12-15T00:05:30.005893Z",
     "shell.execute_reply": "2023-12-15T00:05:30.005125Z",
     "shell.execute_reply.started": "2023-12-15T00:05:27.977297Z"
    }
   },
   "outputs": [],
   "source": [
    "import numpy as np\n",
    "import pylab as plt\n",
    "import lsst.daf.butler as dafButler\n",
    "import lsst.afw.display as afwDisplay\n",
    "plt.rcParams['figure.figsize'] = (8.0, 8.0)\n",
    "afwDisplay.setDefaultBackend('matplotlib')"
   ]
  },
  {
   "cell_type": "code",
   "execution_count": 2,
   "id": "7c02df83-68c3-40aa-9903-6a3d43260428",
   "metadata": {
    "execution": {
     "iopub.execute_input": "2023-12-15T00:05:32.834157Z",
     "iopub.status.busy": "2023-12-15T00:05:32.833922Z",
     "iopub.status.idle": "2023-12-15T00:05:34.449352Z",
     "shell.execute_reply": "2023-12-15T00:05:34.448188Z",
     "shell.execute_reply.started": "2023-12-15T00:05:32.834139Z"
    }
   },
   "outputs": [],
   "source": [
    "config = 'dp02'\n",
    "collections = '2.2i/runs/DP0.2'\n",
    "butler = dafButler.Butler(config, collections=collections)"
   ]
  },
  {
   "cell_type": "markdown",
   "id": "9c807c31-f768-41d7-b631-526a5586543f",
   "metadata": {},
   "source": [
    "Get some `src` data (NOT `sourceTable` which has a different schema)."
   ]
  },
  {
   "cell_type": "code",
   "execution_count": 3,
   "id": "08824226-a84d-49b3-b537-61448f7ddc8e",
   "metadata": {
    "execution": {
     "iopub.execute_input": "2023-12-15T00:05:35.439494Z",
     "iopub.status.busy": "2023-12-15T00:05:35.438575Z",
     "iopub.status.idle": "2023-12-15T00:05:36.363795Z",
     "shell.execute_reply": "2023-12-15T00:05:36.362852Z",
     "shell.execute_reply.started": "2023-12-15T00:05:35.439456Z"
    }
   },
   "outputs": [
    {
     "name": "stdout",
     "output_type": "stream",
     "text": [
      "Retrieved catalog of 2548 sources.\n"
     ]
    }
   ],
   "source": [
    "datasetType = 'src'\n",
    "dataId = {'visit': 192350, 'detector': 175}\n",
    "src = butler.get(datasetType, dataId=dataId)\n",
    "print(f\"Retrieved catalog of {len(src)} sources.\")"
   ]
  },
  {
   "cell_type": "markdown",
   "id": "4d155a32-2118-41ca-93d8-9b44ef06348a",
   "metadata": {},
   "source": [
    "Does not default return as astropy table, like `sourceTable` does, so convert."
   ]
  },
  {
   "cell_type": "code",
   "execution_count": 4,
   "id": "03be8c51-888b-4274-bf5d-e54906a496fc",
   "metadata": {
    "execution": {
     "iopub.execute_input": "2023-12-15T00:05:37.459093Z",
     "iopub.status.busy": "2023-12-15T00:05:37.458133Z",
     "iopub.status.idle": "2023-12-15T00:05:37.521421Z",
     "shell.execute_reply": "2023-12-15T00:05:37.520558Z",
     "shell.execute_reply.started": "2023-12-15T00:05:37.459064Z"
    }
   },
   "outputs": [],
   "source": [
    "srcTable = src.asAstropy()"
   ]
  },
  {
   "cell_type": "markdown",
   "id": "6d918587-18cc-4c22-95f0-9a57324a88b9",
   "metadata": {},
   "source": [
    "Take a look."
   ]
  },
  {
   "cell_type": "code",
   "execution_count": null,
   "id": "7e794f40-7a1f-4e71-a48a-e28d9369a98f",
   "metadata": {},
   "outputs": [],
   "source": [
    "# srcTable"
   ]
  },
  {
   "cell_type": "markdown",
   "id": "d4a2d95d-f434-4432-8fc9-b226356627ba",
   "metadata": {},
   "source": [
    "What all centroids are there? (Many options)."
   ]
  },
  {
   "cell_type": "code",
   "execution_count": null,
   "id": "bdd188eb-8da7-48a3-bf57-b782764ae607",
   "metadata": {},
   "outputs": [],
   "source": [
    "# for col in srcTable.columns:\n",
    "#     tmp = str(col)\n",
    "#     if tmp.find('Centroid') > -1:\n",
    "#         print(col)"
   ]
  },
  {
   "cell_type": "markdown",
   "id": "821d42fd-69eb-4b16-894b-4f61248bcab2",
   "metadata": {},
   "source": [
    "Get the `calexp`."
   ]
  },
  {
   "cell_type": "code",
   "execution_count": 5,
   "id": "c4b1edc9-87b2-499a-a1e1-6bf8048ff058",
   "metadata": {
    "execution": {
     "iopub.execute_input": "2023-12-15T00:05:40.208996Z",
     "iopub.status.busy": "2023-12-15T00:05:40.208032Z",
     "iopub.status.idle": "2023-12-15T00:05:51.614845Z",
     "shell.execute_reply": "2023-12-15T00:05:51.613867Z",
     "shell.execute_reply.started": "2023-12-15T00:05:40.208966Z"
    }
   },
   "outputs": [],
   "source": [
    "datasetType = 'calexp'\n",
    "dataId = {'visit': 192350, 'detector': 175}\n",
    "calexp = butler.get(datasetType, dataId=dataId)"
   ]
  },
  {
   "cell_type": "markdown",
   "id": "0a97a5d6-848c-416b-9730-fcd50f2f6eb7",
   "metadata": {},
   "source": [
    "Get the WCS."
   ]
  },
  {
   "cell_type": "code",
   "execution_count": 6,
   "id": "16ae525e-51da-401a-b1f5-2b036d69281b",
   "metadata": {
    "execution": {
     "iopub.execute_input": "2023-12-15T00:05:52.737717Z",
     "iopub.status.busy": "2023-12-15T00:05:52.737403Z",
     "iopub.status.idle": "2023-12-15T00:05:52.742181Z",
     "shell.execute_reply": "2023-12-15T00:05:52.741118Z",
     "shell.execute_reply.started": "2023-12-15T00:05:52.737697Z"
    }
   },
   "outputs": [],
   "source": [
    "calexp_wcs = calexp.wcs"
   ]
  },
  {
   "cell_type": "markdown",
   "id": "179d4b17-6e0c-4a89-8a21-53b43ae2268e",
   "metadata": {},
   "source": [
    "Replicate the user-reported issue."
   ]
  },
  {
   "cell_type": "code",
   "execution_count": 7,
   "id": "5cdfb35f-e0a9-491f-89d0-908bed0bcc4d",
   "metadata": {
    "execution": {
     "iopub.execute_input": "2023-12-15T00:05:53.975122Z",
     "iopub.status.busy": "2023-12-15T00:05:53.974181Z",
     "iopub.status.idle": "2023-12-15T00:05:53.980756Z",
     "shell.execute_reply": "2023-12-15T00:05:53.980045Z",
     "shell.execute_reply.started": "2023-12-15T00:05:53.975095Z"
    }
   },
   "outputs": [
    {
     "data": {
      "text/plain": [
       "(array([302.]), array([7.00000001]))"
      ]
     },
     "execution_count": 7,
     "metadata": {},
     "output_type": "execute_result"
    }
   ],
   "source": [
    "calexp_wcs.skyToPixelArray(srcTable[0]['coord_ra'], srcTable[0]['coord_dec'])"
   ]
  },
  {
   "cell_type": "code",
   "execution_count": 8,
   "id": "c70bd96c-91c1-4374-805c-023e390d4681",
   "metadata": {
    "execution": {
     "iopub.execute_input": "2023-12-15T00:05:54.427620Z",
     "iopub.status.busy": "2023-12-15T00:05:54.426657Z",
     "iopub.status.idle": "2023-12-15T00:05:54.431647Z",
     "shell.execute_reply": "2023-12-15T00:05:54.430842Z",
     "shell.execute_reply.started": "2023-12-15T00:05:54.427594Z"
    }
   },
   "outputs": [
    {
     "name": "stdout",
     "output_type": "stream",
     "text": [
      "302.0782452916199 6.973189193494798\n"
     ]
    }
   ],
   "source": [
    "print(srcTable[0]['base_NaiveCentroid_x'], srcTable[0]['base_NaiveCentroid_y'])"
   ]
  },
  {
   "cell_type": "markdown",
   "id": "63c58629-6118-4553-a92d-17c5b1840062",
   "metadata": {},
   "source": [
    "Try the SDSS centroids instead."
   ]
  },
  {
   "cell_type": "code",
   "execution_count": 9,
   "id": "f6182f8c-c8e9-493a-a046-02da2636d9b0",
   "metadata": {
    "execution": {
     "iopub.execute_input": "2023-12-15T00:05:57.301663Z",
     "iopub.status.busy": "2023-12-15T00:05:57.301355Z",
     "iopub.status.idle": "2023-12-15T00:05:57.306392Z",
     "shell.execute_reply": "2023-12-15T00:05:57.305636Z",
     "shell.execute_reply.started": "2023-12-15T00:05:57.301642Z"
    }
   },
   "outputs": [
    {
     "name": "stdout",
     "output_type": "stream",
     "text": [
      "302.0 7.0\n"
     ]
    }
   ],
   "source": [
    "print(srcTable[0]['base_SdssCentroid_x'], srcTable[0]['base_SdssCentroid_y'])"
   ]
  },
  {
   "cell_type": "markdown",
   "id": "51122dfd-5718-483d-8e04-b1dd112e90f8",
   "metadata": {},
   "source": [
    "Yup the SDSS centroids match, like Jeff expected."
   ]
  },
  {
   "cell_type": "code",
   "execution_count": null,
   "id": "8fe31c19-fb7d-4f8c-98fd-841d05addd4f",
   "metadata": {},
   "outputs": [],
   "source": []
  }
 ],
 "metadata": {
  "kernelspec": {
   "display_name": "LSST",
   "language": "python",
   "name": "lsst"
  },
  "language_info": {
   "codemirror_mode": {
    "name": "ipython",
    "version": 3
   },
   "file_extension": ".py",
   "mimetype": "text/x-python",
   "name": "python",
   "nbconvert_exporter": "python",
   "pygments_lexer": "ipython3",
   "version": "3.11.4"
  }
 },
 "nbformat": 4,
 "nbformat_minor": 5
}
