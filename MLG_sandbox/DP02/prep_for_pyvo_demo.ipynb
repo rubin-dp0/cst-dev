{
 "cells": [
  {
   "cell_type": "markdown",
   "id": "a60974d8-3b47-4211-9b85-5d61e77eb46b",
   "metadata": {},
   "source": [
    "# prep work for a little demo\n",
    "\n",
    "Scenario: find a set of diaObjects that all are peaking around the same time.\n",
    "\n",
    "## set up"
   ]
  },
  {
   "cell_type": "code",
   "execution_count": null,
   "id": "59589a3f-cc6f-4a7d-8e03-56e3b3784f47",
   "metadata": {
    "tags": []
   },
   "outputs": [],
   "source": [
    "import numpy as np\n",
    "import matplotlib.pyplot as plt\n",
    "import pandas as pd\n",
    "from astropy.cosmology import FlatLambdaCDM\n",
    "from lsst.rsp import get_tap_service\n",
    "\n",
    "# from astropy.coordinates import SkyCoord\n",
    "# from astropy.coordinates import match_coordinates_sky\n",
    "# import astropy.units as u"
   ]
  },
  {
   "cell_type": "code",
   "execution_count": null,
   "id": "73b845d5-17dc-4501-a228-30a438053683",
   "metadata": {
    "tags": []
   },
   "outputs": [],
   "source": [
    "service = get_tap_service(\"tap\")"
   ]
  },
  {
   "cell_type": "code",
   "execution_count": null,
   "id": "16213c78-b97f-4af1-b1b7-655432d95d07",
   "metadata": {
    "tags": []
   },
   "outputs": [],
   "source": [
    "cosmo = FlatLambdaCDM(H0=70, Om0=0.3)"
   ]
  },
  {
   "cell_type": "code",
   "execution_count": null,
   "id": "e2ae13d3-b11c-453c-ac79-764036415778",
   "metadata": {
    "tags": []
   },
   "outputs": [],
   "source": [
    "plt.style.use('tableau-colorblind10')\n",
    "\n",
    "plot_filter_labels = ['u', 'g', 'r', 'i', 'z', 'y']\n",
    "plot_filter_colors = {'u': '#56b4e9', 'g': '#008060', 'r': '#ff4000',\n",
    "                      'i': '#850000', 'z': '#6600cc', 'y': '#000000'}\n",
    "plot_filter_symbols = {'u': 'o', 'g': '^', 'r': 'v', 'i': 's', 'z': '*', 'y': 'p'}"
   ]
  },
  {
   "cell_type": "markdown",
   "id": "e84fe039-5439-4ac1-b438-6ce991598da4",
   "metadata": {},
   "source": [
    "## identify potential SNIa to use\n",
    "\n",
    "Use the same method for identifying potential SNIa as in NB 07a."
   ]
  },
  {
   "cell_type": "code",
   "execution_count": null,
   "id": "ef801b0a-cf8b-4ba9-aaf9-d0b8f148c7b9",
   "metadata": {
    "tags": []
   },
   "outputs": [],
   "source": [
    "redshift_min = 0.1\n",
    "redshift_max = 0.3\n",
    "\n",
    "snia_peak_mag = -19.0\n",
    "snia_peak_mag_range = 0.5\n",
    "\n",
    "snia_peak_mr_min = cosmo.distmod(redshift_min).value + snia_peak_mag - snia_peak_mag_range\n",
    "snia_peak_mr_max = cosmo.distmod(redshift_max).value + snia_peak_mag + snia_peak_mag_range\n",
    "\n",
    "snia_peak_mg_max = 24.0\n",
    "snia_peak_mi_max = 24.0\n",
    "\n",
    "snia_ampl_mr_min = 1.5\n",
    "snia_ampl_mr_max = 5.5\n",
    "\n",
    "snia_nDiaSources_min = 15\n",
    "snia_nDiaSources_max = 100\n",
    "\n",
    "snia_duration_min = 50\n",
    "snia_duration_max = 300"
   ]
  },
  {
   "cell_type": "markdown",
   "id": "f7f29602-a25d-4c48-8f41-8f1b1aeedd68",
   "metadata": {},
   "source": [
    "Search for `diaObjects` that have suitable light curve summary parameters to potentially be SNIa."
   ]
  },
  {
   "cell_type": "code",
   "execution_count": null,
   "id": "de704905-401e-4d70-bbe7-9c4e4dd54738",
   "metadata": {
    "tags": []
   },
   "outputs": [],
   "source": [
    "DiaObjs = service.search(\"SELECT TOP 10000 \"\n",
    "                         \"ra, decl, diaObjectId, nDiaSources, \"\n",
    "                         \"scisql_nanojanskyToAbMag(rPSFluxMin) AS rMagMax, \"\n",
    "                         \"scisql_nanojanskyToAbMag(rPSFluxMax) AS rMagMin, \"\n",
    "                         \"scisql_nanojanskyToAbMag(gPSFluxMax) AS gMagMin, \"\n",
    "                         \"scisql_nanojanskyToAbMag(iPSFluxMax) AS iMagMin \"\n",
    "                         \"FROM dp02_dc2_catalogs.DiaObject \"\n",
    "                         \"WHERE nDiaSources > \"+str(snia_nDiaSources_min)+\" \"\n",
    "                         \"AND nDiaSources < \"+str(snia_nDiaSources_max)+\" \"\n",
    "                         \"AND scisql_nanojanskyToAbMag(rPSFluxMax) > \"+str(snia_peak_mr_min)+\" \"\n",
    "                         \"AND scisql_nanojanskyToAbMag(rPSFluxMax) < \"+str(snia_peak_mr_max)+\" \"\n",
    "                         \"AND scisql_nanojanskyToAbMag(gPSFluxMax) < \"+str(snia_peak_mg_max)+\" \"\n",
    "                         \"AND scisql_nanojanskyToAbMag(iPSFluxMax) < \"+str(snia_peak_mi_max)+\" \"\n",
    "                         \"AND scisql_nanojanskyToAbMag(rPSFluxMin)\"\n",
    "                         \" - scisql_nanojanskyToAbMag(rPSFluxMax) < \"+str(snia_ampl_mr_max)+\" \"\n",
    "                         \"AND scisql_nanojanskyToAbMag(rPSFluxMin)\"\n",
    "                         \" - scisql_nanojanskyToAbMag(rPSFluxMax) > \"+str(snia_ampl_mr_min)+\" \").to_table()"
   ]
  },
  {
   "cell_type": "code",
   "execution_count": null,
   "id": "8d6ef808-4a57-460d-9f06-33c8a1238299",
   "metadata": {
    "tags": []
   },
   "outputs": [],
   "source": [
    "DiaObjs['rMagAmp'] = DiaObjs['rMagMax'] - DiaObjs['rMagMin']"
   ]
  },
  {
   "cell_type": "code",
   "execution_count": null,
   "id": "0f997c3d-2b33-427e-bb97-7515404d0858",
   "metadata": {
    "tags": []
   },
   "outputs": [],
   "source": [
    "temp = np.unique(np.asarray(DiaObjs['diaObjectId'][0:-1]))\n",
    "print(len(temp))\n",
    "tempstring = \"(\" + ','.join(['%22i' % num for num in temp]) + \")\"\n",
    "# tempstring"
   ]
  },
  {
   "cell_type": "markdown",
   "id": "b1757ebb-8be4-498b-bbbe-b61920912d16",
   "metadata": {},
   "source": [
    "Get the light curves from `DiaSource` so that duration and date of r-band maximum can be determined."
   ]
  },
  {
   "cell_type": "code",
   "execution_count": null,
   "id": "8e3a8886-bdf4-4897-91ce-db8cc5fec1d6",
   "metadata": {
    "tags": []
   },
   "outputs": [],
   "source": [
    "DiaSrcs = service.search(\"SELECT diao.diaObjectId, dias.midPointTai, dias.filterName, \"\n",
    "                         \"scisql_nanojanskyToAbMag(dias.psFlux) AS psAbMag \"\n",
    "                         \"FROM dp02_dc2_catalogs.DiaObject AS diao \"\n",
    "                         \"JOIN dp02_dc2_catalogs.DiaSource AS dias \"\n",
    "                         \"ON diao.diaObjectId = dias.diaObjectId \"\n",
    "                         \"WHERE diao.diaObjectId IN \"+tempstring).to_table()"
   ]
  },
  {
   "cell_type": "code",
   "execution_count": null,
   "id": "549294d7-9ca7-4bad-a6a5-55109897840c",
   "metadata": {
    "tags": []
   },
   "outputs": [],
   "source": [
    "DiaObjs['duration'] = np.zeros(len(DiaObjs), dtype='float')\n",
    "DiaObjs['mjd_rMagMin'] = np.zeros(len(DiaObjs), dtype='float')\n",
    "DiaObjs['nDiaSrcs'] = np.zeros(len(DiaObjs), dtype='int')\n",
    "DiaObjs['nrDiaSrcs'] = np.zeros(len(DiaObjs), dtype='int')\n",
    "DiaObjs['nppDiaSrcs'] = np.zeros(len(DiaObjs), dtype='float')\n",
    "\n",
    "for i, tid in enumerate(temp):\n",
    "    # index the diaObject for this element in temp\n",
    "    ix = np.where(DiaObjs['diaObjectId'] == tid)[0]\n",
    "    # index the diaSources for this diaObject\n",
    "    tx = np.where(DiaSrcs['diaObjectId'] == tid)[0]\n",
    "    DiaObjs['nDiaSrcs'][ix] = len(tx)\n",
    "    DiaObjs['duration'][ix] = np.max(DiaSrcs['midPointTai'][tx]) - np.min(DiaSrcs['midPointTai'][tx])\n",
    "    # index the r-band diaSources for this diaObject\n",
    "    trx = np.where((DiaSrcs['diaObjectId'] == tid) & (DiaSrcs['filterName'] == 'r'))[0]\n",
    "    DiaObjs['nrDiaSrcs'][ix] = len(trx)\n",
    "    mx = np.argmin(DiaSrcs['psAbMag'][trx])\n",
    "    DiaObjs['mjd_rMagMin'][ix] = DiaSrcs['midPointTai'][trx[mx]]\n",
    "    # index the pre-\"peak\" diaSources for this diaObject\n",
    "    tpx = np.where(DiaSrcs['midPointTai'][tx] <= DiaObjs['mjd_rMagMin'][i])[0]\n",
    "    DiaObjs['nppDiaSrcs'][ix] = len(tpx)\n",
    "    del ix, tx, trx, mx, tpx"
   ]
  },
  {
   "cell_type": "code",
   "execution_count": null,
   "id": "67044b50-1c13-475f-aea8-c96f216b4b2e",
   "metadata": {
    "tags": []
   },
   "outputs": [],
   "source": [
    "DiaObjs"
   ]
  },
  {
   "cell_type": "code",
   "execution_count": null,
   "id": "4af75d1d-34cc-4a92-ad3c-a806da5d97c1",
   "metadata": {
    "tags": []
   },
   "outputs": [],
   "source": [
    "tx = np.where((DiaObjs['duration'] > snia_duration_min)\n",
    "              & (DiaObjs['duration'] < snia_duration_max))[0]\n",
    "print(len(tx))"
   ]
  },
  {
   "cell_type": "markdown",
   "id": "d4b53820-e6c0-470a-90d5-dc639536a829",
   "metadata": {},
   "source": [
    "OK so in total there are 331 SNIa that pass these crude cuts for low-z SNIa.\n",
    "\n",
    "Which dates might have many SNIa peaking?"
   ]
  },
  {
   "cell_type": "code",
   "execution_count": null,
   "id": "090a2a19-b3e9-4648-b4e5-aee81035fa81",
   "metadata": {
    "tags": []
   },
   "outputs": [],
   "source": [
    "fig = plt.figure(figsize=(3, 2))\n",
    "plt.hist(DiaObjs['mjd_rMagMin'][tx], bins=100)\n",
    "plt.show()"
   ]
  },
  {
   "cell_type": "code",
   "execution_count": null,
   "id": "9fa12732-ed93-4112-ac87-21d7932a692e",
   "metadata": {
    "tags": []
   },
   "outputs": [],
   "source": [
    "fig = plt.figure(figsize=(3, 2))\n",
    "ttx = np.where((DiaObjs['mjd_rMagMin'][tx] > 60800) & (DiaObjs['mjd_rMagMin'][tx] < 61100))[0]\n",
    "plt.hist(DiaObjs['mjd_rMagMin'][tx[ttx]], bins=100)\n",
    "plt.show()\n",
    "del ttx"
   ]
  },
  {
   "cell_type": "code",
   "execution_count": null,
   "id": "0c848ef1-8806-42ef-8847-250e6ca19372",
   "metadata": {
    "tags": []
   },
   "outputs": [],
   "source": [
    "fig = plt.figure(figsize=(3, 2))\n",
    "ttx = np.where((DiaObjs['mjd_rMagMin'][tx] > 60950) & (DiaObjs['mjd_rMagMin'][tx] < 60975))[0]\n",
    "plt.hist(DiaObjs['mjd_rMagMin'][tx[ttx]]-60950, bins=25)\n",
    "plt.xlabel('MJD - 60950')\n",
    "plt.show()\n",
    "del ttx"
   ]
  },
  {
   "cell_type": "code",
   "execution_count": null,
   "id": "5316e31a-9f49-4f6d-83f9-c841299770bb",
   "metadata": {
    "tags": []
   },
   "outputs": [],
   "source": [
    "ttx = np.where((DiaObjs['mjd_rMagMin'][tx] > 60960) & (DiaObjs['mjd_rMagMin'][tx] < 60962))[0]\n",
    "print(len(ttx))"
   ]
  },
  {
   "cell_type": "markdown",
   "id": "0c51646a-9159-420e-9435-3a5ba9f1c42f",
   "metadata": {},
   "source": [
    "OK how many of these have a lot of pre-peak light curve detections."
   ]
  },
  {
   "cell_type": "code",
   "execution_count": null,
   "id": "85b0d13c-08fb-467c-b1c3-434dea5bc996",
   "metadata": {
    "tags": []
   },
   "outputs": [],
   "source": [
    "fig = plt.figure(figsize=(3, 2))\n",
    "plt.hist(DiaObjs['nppDiaSrcs'][tx[ttx]])\n",
    "plt.show()"
   ]
  },
  {
   "cell_type": "markdown",
   "id": "f451f520-5a05-48bc-92ff-7a958991781e",
   "metadata": {},
   "source": [
    "Distribution of durations."
   ]
  },
  {
   "cell_type": "code",
   "execution_count": null,
   "id": "0dbbdbef-53e0-4fc3-bf3c-697028d3aadc",
   "metadata": {
    "tags": []
   },
   "outputs": [],
   "source": [
    "fig = plt.figure(figsize=(3, 2))\n",
    "plt.hist(DiaObjs['duration'][tx[ttx]])\n",
    "plt.show()"
   ]
  },
  {
   "cell_type": "markdown",
   "id": "ba32f293-142f-47fc-a20e-f809aa228f69",
   "metadata": {},
   "source": [
    "And what are their brightest r-band detections."
   ]
  },
  {
   "cell_type": "code",
   "execution_count": null,
   "id": "87e67b52-cbbc-4dae-b2d6-a6183821d729",
   "metadata": {
    "tags": []
   },
   "outputs": [],
   "source": [
    "fig = plt.figure(figsize=(3, 2))\n",
    "plt.hist(DiaObjs['rMagMin'][tx[ttx]])\n",
    "plt.show()"
   ]
  },
  {
   "cell_type": "code",
   "execution_count": null,
   "id": "3d6941d0-f148-4853-944e-8d5cc77fba47",
   "metadata": {
    "tags": []
   },
   "outputs": [],
   "source": [
    "fig = plt.figure(figsize=(3, 2))\n",
    "plt.plot(DiaObjs['rMagMin'][tx[ttx]], DiaObjs['nppDiaSrcs'][tx[ttx]], 'o', alpha=0.4, mew=0)\n",
    "plt.show()"
   ]
  },
  {
   "cell_type": "code",
   "execution_count": null,
   "id": "757e1335-716f-4158-ac99-9d3cea6fa2f3",
   "metadata": {
    "tags": []
   },
   "outputs": [],
   "source": [
    "tttx = np.where((DiaObjs['nppDiaSrcs'][tx[ttx]] >= 5)\n",
    "               & (DiaObjs['rMagMin'][tx[ttx]] >= 20)\n",
    "               & (DiaObjs['rMagMin'][tx[ttx]] <= 22))[0]\n",
    "print(len(tttx))"
   ]
  },
  {
   "cell_type": "markdown",
   "id": "32d9f846-ca11-4161-be47-36c489109e6f",
   "metadata": {},
   "source": [
    "Store the `diaObjectId` of our 31 objects of interest."
   ]
  },
  {
   "cell_type": "code",
   "execution_count": null,
   "id": "6da0759d-9ed4-4635-920f-4c6fc62f2611",
   "metadata": {
    "tags": []
   },
   "outputs": [],
   "source": [
    "my_list = np.asarray(DiaObjs['diaObjectId'][tx[ttx[tttx]]], dtype='int')\n",
    "my_list"
   ]
  },
  {
   "cell_type": "code",
   "execution_count": null,
   "id": "7c26e3fd-aee6-4d5c-af0c-11b4d0235420",
   "metadata": {
    "tags": []
   },
   "outputs": [],
   "source": [
    "my_list_string = \"(\" + ','.join(['%22i' % num for num in my_list]) + \")\"\n",
    "my_list_string"
   ]
  },
  {
   "cell_type": "code",
   "execution_count": null,
   "id": "85398618-44e0-46b0-ae3e-dae701541b02",
   "metadata": {
    "tags": []
   },
   "outputs": [],
   "source": [
    "del tx, ttx, tttx"
   ]
  },
  {
   "cell_type": "markdown",
   "id": "57153703-5dba-4410-933f-dcc74999dd5b",
   "metadata": {},
   "source": [
    "## which potential SNIa are the best to use for the demo?\n",
    "\n",
    "Want objects that have demonstrated a rise, and have a bunch of pre-peak light curve detections."
   ]
  },
  {
   "cell_type": "code",
   "execution_count": null,
   "id": "a8ac233f-9a4e-4c8f-8a9a-f21b637ad293",
   "metadata": {
    "tags": []
   },
   "outputs": [],
   "source": [
    "fig, ax = plt.subplots(2, 2, figsize=(10, 6), sharey=False, sharex=False)\n",
    "\n",
    "x = 0\n",
    "\n",
    "for i in range(2):\n",
    "    for j in range(2):\n",
    "        if x < len(my_list):\n",
    "            ix = np.where(DiaObjs['diaObjectId'] == my_list[x])[0]\n",
    "            tx = np.where(DiaSrcs['diaObjectId'] == my_list[x])[0]\n",
    "            print('%2i %2i %2i %20i %4.1f %4i ' \n",
    "                  % (x, i, j, my_list[x], DiaObjs['duration'][ix], len(tx)))\n",
    "            ax[i, j].axvline(DiaObjs['mjd_rMagMin'][ix] - 60960, color=plot_filter_colors['r'])\n",
    "            for f, filt in enumerate(plot_filter_labels):\n",
    "                fx = np.where(DiaSrcs['filterName'][tx] == filt)[0]\n",
    "                ax[i, j].plot(DiaSrcs['midPointTai'][tx[fx]] - 60960, \n",
    "                              DiaSrcs['psAbMag'][tx[fx]],\n",
    "                              plot_filter_symbols[filt], ms=10, mew=0, alpha=0.5,\n",
    "                              color=plot_filter_colors[filt])\n",
    "                del fx\n",
    "            del ix, tx\n",
    "            \n",
    "            ax[i, j].invert_yaxis()\n",
    "            ax[i, j].set_title(my_list[x])\n",
    "            if i == 1:\n",
    "                ax[i, j].xaxis.set_label_text('MJD (days)')\n",
    "            if j == 0:\n",
    "                ax[i, j].yaxis.set_label_text('mag')\n",
    "        x += 1\n",
    "\n",
    "plt.tight_layout()\n",
    "plt.show()"
   ]
  },
  {
   "cell_type": "markdown",
   "id": "3a8d7a68-dd09-43d1-8d7c-365904daddf4",
   "metadata": {},
   "source": [
    "OK so these will be the four that the brokers \"find\" and that we need to retrieve host info for.\n",
    "\n",
    "## what is their host situation\n",
    "\n",
    "first make sure there are at least some nearby things to check out"
   ]
  },
  {
   "cell_type": "code",
   "execution_count": null,
   "id": "1f58e67c-f626-4b64-82a3-f98f30429b20",
   "metadata": {
    "tags": []
   },
   "outputs": [],
   "source": [
    "for i, tid in enumerate(my_list):\n",
    "    ix = np.where(DiaObjs['diaObjectId'] == tid)[0]\n",
    "    print(i, tid)\n",
    "    sra = str(float(DiaObjs['ra'][ix]))\n",
    "    sdec = str(float(DiaObjs['decl'][ix]))\n",
    "    srad = str(np.round(10.0 / 3600.0, 5))\n",
    "    query = \"SELECT objectId, coord_ra, coord_dec, x, y, refExtendedness, \"\\\n",
    "    \"shape_xx, shape_xy, shape_yy, r_kronRad, i_kronRad \"\\\n",
    "    \"FROM dp02_dc2_catalogs.Object \"\\\n",
    "    \"WHERE CONTAINS(POINT('ICRS', coord_ra, coord_dec), \"\\\n",
    "    \"CIRCLE('ICRS', \"+sra+\", \"+sdec+\", \"+srad+\")) = 1 \"\\\n",
    "    \"AND detect_isPrimary = 1 \"\n",
    "    print(sra, sdec, srad)\n",
    "    Objs = service.search(query).to_table()\n",
    "    print('number of Objects within 20\" = ', len(Objs))"
   ]
  },
  {
   "cell_type": "code",
   "execution_count": null,
   "id": "4152d40b-44cb-4776-80a8-2d46b5a45df0",
   "metadata": {},
   "outputs": [],
   "source": []
  }
 ],
 "metadata": {
  "kernelspec": {
   "display_name": "LSST",
   "language": "python",
   "name": "lsst"
  },
  "language_info": {
   "codemirror_mode": {
    "name": "ipython",
    "version": 3
   },
   "file_extension": ".py",
   "mimetype": "text/x-python",
   "name": "python",
   "nbconvert_exporter": "python",
   "pygments_lexer": "ipython3",
   "version": "3.11.4"
  }
 },
 "nbformat": 4,
 "nbformat_minor": 5
}
