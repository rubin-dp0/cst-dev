{
 "cells": [
  {
   "cell_type": "markdown",
   "id": "a60974d8-3b47-4211-9b85-5d61e77eb46b",
   "metadata": {},
   "source": [
    "# prep work for a little demo\n",
    "\n",
    "Scenario: find a set of diaObjects that all are peaking around the same time.\n",
    "\n",
    "## set up"
   ]
  },
  {
   "cell_type": "code",
   "execution_count": 29,
   "id": "59589a3f-cc6f-4a7d-8e03-56e3b3784f47",
   "metadata": {
    "execution": {
     "iopub.execute_input": "2023-11-30T06:07:09.928813Z",
     "iopub.status.busy": "2023-11-30T06:07:09.927914Z",
     "iopub.status.idle": "2023-11-30T06:07:09.932971Z",
     "shell.execute_reply": "2023-11-30T06:07:09.932133Z",
     "shell.execute_reply.started": "2023-11-30T06:07:09.928784Z"
    },
    "tags": []
   },
   "outputs": [],
   "source": [
    "import numpy as np\n",
    "import matplotlib.pyplot as plt\n",
    "import pandas as pd\n",
    "from astropy.cosmology import FlatLambdaCDM\n",
    "from lsst.rsp import get_tap_service\n",
    "\n",
    "from astropy.coordinates import SkyCoord\n",
    "from astropy.coordinates import match_coordinates_sky\n",
    "import astropy.units as u"
   ]
  },
  {
   "cell_type": "code",
   "execution_count": 2,
   "id": "73b845d5-17dc-4501-a228-30a438053683",
   "metadata": {
    "execution": {
     "iopub.execute_input": "2023-11-30T05:43:45.068020Z",
     "iopub.status.busy": "2023-11-30T05:43:45.067554Z",
     "iopub.status.idle": "2023-11-30T05:43:45.347792Z",
     "shell.execute_reply": "2023-11-30T05:43:45.346917Z",
     "shell.execute_reply.started": "2023-11-30T05:43:45.067998Z"
    },
    "tags": []
   },
   "outputs": [],
   "source": [
    "service = get_tap_service(\"tap\")"
   ]
  },
  {
   "cell_type": "code",
   "execution_count": 3,
   "id": "16213c78-b97f-4af1-b1b7-655432d95d07",
   "metadata": {
    "execution": {
     "iopub.execute_input": "2023-11-30T05:43:45.349639Z",
     "iopub.status.busy": "2023-11-30T05:43:45.348935Z",
     "iopub.status.idle": "2023-11-30T05:43:45.354326Z",
     "shell.execute_reply": "2023-11-30T05:43:45.353649Z",
     "shell.execute_reply.started": "2023-11-30T05:43:45.349612Z"
    },
    "tags": []
   },
   "outputs": [],
   "source": [
    "cosmo = FlatLambdaCDM(H0=70, Om0=0.3)"
   ]
  },
  {
   "cell_type": "code",
   "execution_count": 4,
   "id": "e2ae13d3-b11c-453c-ac79-764036415778",
   "metadata": {
    "execution": {
     "iopub.execute_input": "2023-11-30T05:43:45.355541Z",
     "iopub.status.busy": "2023-11-30T05:43:45.355300Z",
     "iopub.status.idle": "2023-11-30T05:43:45.371124Z",
     "shell.execute_reply": "2023-11-30T05:43:45.370397Z",
     "shell.execute_reply.started": "2023-11-30T05:43:45.355519Z"
    },
    "tags": []
   },
   "outputs": [],
   "source": [
    "plt.style.use('tableau-colorblind10')\n",
    "\n",
    "plot_filter_labels = ['u', 'g', 'r', 'i', 'z', 'y']\n",
    "plot_filter_colors = {'u': '#56b4e9', 'g': '#008060', 'r': '#ff4000',\n",
    "                      'i': '#850000', 'z': '#6600cc', 'y': '#000000'}\n",
    "plot_filter_symbols = {'u': 'o', 'g': '^', 'r': 'v', 'i': 's', 'z': '*', 'y': 'p'}"
   ]
  },
  {
   "cell_type": "markdown",
   "id": "e84fe039-5439-4ac1-b438-6ce991598da4",
   "metadata": {},
   "source": [
    "## identify potential SNIa to use\n",
    "\n",
    "Use the same method for identifying potential SNIa as in NB 07a."
   ]
  },
  {
   "cell_type": "code",
   "execution_count": 5,
   "id": "ef801b0a-cf8b-4ba9-aaf9-d0b8f148c7b9",
   "metadata": {
    "execution": {
     "iopub.execute_input": "2023-11-30T05:43:45.372559Z",
     "iopub.status.busy": "2023-11-30T05:43:45.372310Z",
     "iopub.status.idle": "2023-11-30T05:43:45.388622Z",
     "shell.execute_reply": "2023-11-30T05:43:45.387674Z",
     "shell.execute_reply.started": "2023-11-30T05:43:45.372541Z"
    },
    "tags": []
   },
   "outputs": [],
   "source": [
    "redshift_min = 0.1\n",
    "redshift_max = 0.3\n",
    "\n",
    "snia_peak_mag = -19.0\n",
    "snia_peak_mag_range = 0.5\n",
    "\n",
    "snia_peak_mr_min = cosmo.distmod(redshift_min).value + snia_peak_mag - snia_peak_mag_range\n",
    "snia_peak_mr_max = cosmo.distmod(redshift_max).value + snia_peak_mag + snia_peak_mag_range\n",
    "\n",
    "snia_peak_mg_max = 24.0\n",
    "snia_peak_mi_max = 24.0\n",
    "\n",
    "snia_ampl_mr_min = 1.5\n",
    "snia_ampl_mr_max = 5.5\n",
    "\n",
    "snia_nDiaSources_min = 15\n",
    "snia_nDiaSources_max = 100\n",
    "\n",
    "snia_duration_min = 50\n",
    "snia_duration_max = 300"
   ]
  },
  {
   "cell_type": "markdown",
   "id": "f7f29602-a25d-4c48-8f41-8f1b1aeedd68",
   "metadata": {},
   "source": [
    "Search for `diaObjects` that have suitable light curve summary parameters to potentially be SNIa."
   ]
  },
  {
   "cell_type": "code",
   "execution_count": 6,
   "id": "de704905-401e-4d70-bbe7-9c4e4dd54738",
   "metadata": {
    "execution": {
     "iopub.execute_input": "2023-11-30T05:43:45.389849Z",
     "iopub.status.busy": "2023-11-30T05:43:45.389622Z",
     "iopub.status.idle": "2023-11-30T05:44:05.664594Z",
     "shell.execute_reply": "2023-11-30T05:44:05.663796Z",
     "shell.execute_reply.started": "2023-11-30T05:43:45.389832Z"
    },
    "tags": []
   },
   "outputs": [],
   "source": [
    "DiaObjs = service.search(\"SELECT TOP 10000 \"\n",
    "                         \"ra, decl, diaObjectId, nDiaSources, \"\n",
    "                         \"scisql_nanojanskyToAbMag(rPSFluxMin) AS rMagMax, \"\n",
    "                         \"scisql_nanojanskyToAbMag(rPSFluxMax) AS rMagMin, \"\n",
    "                         \"scisql_nanojanskyToAbMag(gPSFluxMax) AS gMagMin, \"\n",
    "                         \"scisql_nanojanskyToAbMag(iPSFluxMax) AS iMagMin \"\n",
    "                         \"FROM dp02_dc2_catalogs.DiaObject \"\n",
    "                         \"WHERE nDiaSources > \"+str(snia_nDiaSources_min)+\" \"\n",
    "                         \"AND nDiaSources < \"+str(snia_nDiaSources_max)+\" \"\n",
    "                         \"AND scisql_nanojanskyToAbMag(rPSFluxMax) > \"+str(snia_peak_mr_min)+\" \"\n",
    "                         \"AND scisql_nanojanskyToAbMag(rPSFluxMax) < \"+str(snia_peak_mr_max)+\" \"\n",
    "                         \"AND scisql_nanojanskyToAbMag(gPSFluxMax) < \"+str(snia_peak_mg_max)+\" \"\n",
    "                         \"AND scisql_nanojanskyToAbMag(iPSFluxMax) < \"+str(snia_peak_mi_max)+\" \"\n",
    "                         \"AND scisql_nanojanskyToAbMag(rPSFluxMin)\"\n",
    "                         \" - scisql_nanojanskyToAbMag(rPSFluxMax) < \"+str(snia_ampl_mr_max)+\" \"\n",
    "                         \"AND scisql_nanojanskyToAbMag(rPSFluxMin)\"\n",
    "                         \" - scisql_nanojanskyToAbMag(rPSFluxMax) > \"+str(snia_ampl_mr_min)+\" \").to_table()"
   ]
  },
  {
   "cell_type": "code",
   "execution_count": 7,
   "id": "8d6ef808-4a57-460d-9f06-33c8a1238299",
   "metadata": {
    "execution": {
     "iopub.execute_input": "2023-11-30T05:44:05.665847Z",
     "iopub.status.busy": "2023-11-30T05:44:05.665616Z",
     "iopub.status.idle": "2023-11-30T05:44:05.670143Z",
     "shell.execute_reply": "2023-11-30T05:44:05.669462Z",
     "shell.execute_reply.started": "2023-11-30T05:44:05.665828Z"
    },
    "tags": []
   },
   "outputs": [],
   "source": [
    "DiaObjs['rMagAmp'] = DiaObjs['rMagMax'] - DiaObjs['rMagMin']"
   ]
  },
  {
   "cell_type": "code",
   "execution_count": 8,
   "id": "0f997c3d-2b33-427e-bb97-7515404d0858",
   "metadata": {
    "execution": {
     "iopub.execute_input": "2023-11-30T05:44:05.671231Z",
     "iopub.status.busy": "2023-11-30T05:44:05.671029Z",
     "iopub.status.idle": "2023-11-30T05:44:05.691119Z",
     "shell.execute_reply": "2023-11-30T05:44:05.690397Z",
     "shell.execute_reply.started": "2023-11-30T05:44:05.671214Z"
    },
    "tags": []
   },
   "outputs": [
    {
     "name": "stdout",
     "output_type": "stream",
     "text": [
      "6569\n"
     ]
    }
   ],
   "source": [
    "temp = np.unique(np.asarray(DiaObjs['diaObjectId'][0:-1]))\n",
    "print(len(temp))\n",
    "tempstring = \"(\" + ','.join(['%22i' % num for num in temp]) + \")\"\n",
    "# tempstring"
   ]
  },
  {
   "cell_type": "markdown",
   "id": "b1757ebb-8be4-498b-bbbe-b61920912d16",
   "metadata": {},
   "source": [
    "Get the light curves from `DiaSource` so that duration and date of r-band maximum can be determined."
   ]
  },
  {
   "cell_type": "code",
   "execution_count": 9,
   "id": "8e3a8886-bdf4-4897-91ce-db8cc5fec1d6",
   "metadata": {
    "execution": {
     "iopub.execute_input": "2023-11-30T05:44:05.692302Z",
     "iopub.status.busy": "2023-11-30T05:44:05.692079Z",
     "iopub.status.idle": "2023-11-30T05:48:52.845006Z",
     "shell.execute_reply": "2023-11-30T05:48:52.844077Z",
     "shell.execute_reply.started": "2023-11-30T05:44:05.692285Z"
    },
    "tags": []
   },
   "outputs": [],
   "source": [
    "DiaSrcs = service.search(\"SELECT diao.diaObjectId, dias.midPointTai, dias.filterName, \"\n",
    "                         \"scisql_nanojanskyToAbMag(dias.psFlux) AS psAbMag \"\n",
    "                         \"FROM dp02_dc2_catalogs.DiaObject AS diao \"\n",
    "                         \"JOIN dp02_dc2_catalogs.DiaSource AS dias \"\n",
    "                         \"ON diao.diaObjectId = dias.diaObjectId \"\n",
    "                         \"WHERE diao.diaObjectId IN \"+tempstring).to_table()"
   ]
  },
  {
   "cell_type": "code",
   "execution_count": 10,
   "id": "549294d7-9ca7-4bad-a6a5-55109897840c",
   "metadata": {
    "execution": {
     "iopub.execute_input": "2023-11-30T05:48:52.846987Z",
     "iopub.status.busy": "2023-11-30T05:48:52.846236Z",
     "iopub.status.idle": "2023-11-30T05:49:30.266973Z",
     "shell.execute_reply": "2023-11-30T05:49:30.266031Z",
     "shell.execute_reply.started": "2023-11-30T05:48:52.846960Z"
    },
    "tags": []
   },
   "outputs": [],
   "source": [
    "DiaObjs['duration'] = np.zeros(len(DiaObjs), dtype='float')\n",
    "DiaObjs['mjd_rMagMin'] = np.zeros(len(DiaObjs), dtype='float')\n",
    "DiaObjs['nDiaSrcs'] = np.zeros(len(DiaObjs), dtype='int')\n",
    "DiaObjs['nrDiaSrcs'] = np.zeros(len(DiaObjs), dtype='int')\n",
    "DiaObjs['nppDiaSrcs'] = np.zeros(len(DiaObjs), dtype='float')\n",
    "\n",
    "for i, tid in enumerate(temp):\n",
    "    # index the diaObject for this element in temp\n",
    "    ix = np.where(DiaObjs['diaObjectId'] == tid)[0]\n",
    "    # index the diaSources for this diaObject\n",
    "    tx = np.where(DiaSrcs['diaObjectId'] == tid)[0]\n",
    "    DiaObjs['nDiaSrcs'][ix] = len(tx)\n",
    "    DiaObjs['duration'][ix] = np.max(DiaSrcs['midPointTai'][tx]) - np.min(DiaSrcs['midPointTai'][tx])\n",
    "    # index the r-band diaSources for this diaObject\n",
    "    trx = np.where((DiaSrcs['diaObjectId'] == tid) & (DiaSrcs['filterName'] == 'r'))[0]\n",
    "    DiaObjs['nrDiaSrcs'][ix] = len(trx)\n",
    "    mx = np.argmin(DiaSrcs['psAbMag'][trx])\n",
    "    DiaObjs['mjd_rMagMin'][ix] = DiaSrcs['midPointTai'][trx[mx]]\n",
    "    # index the pre-\"peak\" diaSources for this diaObject\n",
    "    tpx = np.where(DiaSrcs['midPointTai'][tx] <= DiaObjs['mjd_rMagMin'][i])[0]\n",
    "    DiaObjs['nppDiaSrcs'][ix] = len(tpx)\n",
    "    del ix, tx, trx, mx, tpx"
   ]
  },
  {
   "cell_type": "code",
   "execution_count": 11,
   "id": "67044b50-1c13-475f-aea8-c96f216b4b2e",
   "metadata": {
    "execution": {
     "iopub.execute_input": "2023-11-30T05:49:30.268321Z",
     "iopub.status.busy": "2023-11-30T05:49:30.268081Z",
     "iopub.status.idle": "2023-11-30T05:49:30.281739Z",
     "shell.execute_reply": "2023-11-30T05:49:30.281097Z",
     "shell.execute_reply.started": "2023-11-30T05:49:30.268301Z"
    },
    "tags": []
   },
   "outputs": [
    {
     "data": {
      "text/html": [
       "<div><i>Table length=6570</i>\n",
       "<table id=\"table140587803759696\" class=\"table-striped table-bordered table-condensed\">\n",
       "<thead><tr><th>ra</th><th>decl</th><th>diaObjectId</th><th>nDiaSources</th><th>rMagMax</th><th>rMagMin</th><th>gMagMin</th><th>iMagMin</th><th>rMagAmp</th><th>duration</th><th>mjd_rMagMin</th><th>nDiaSrcs</th><th>nrDiaSrcs</th><th>nppDiaSrcs</th></tr></thead>\n",
       "<thead><tr><th>deg</th><th>deg</th><th></th><th></th><th></th><th></th><th></th><th></th><th></th><th></th><th></th><th></th><th></th><th></th></tr></thead>\n",
       "<thead><tr><th>float64</th><th>float64</th><th>int64</th><th>int64</th><th>float64</th><th>float64</th><th>float64</th><th>float64</th><th>float64</th><th>float64</th><th>float64</th><th>int64</th><th>int64</th><th>float64</th></tr></thead>\n",
       "<tr><td>49.7910763</td><td>-44.5121505</td><td>1248684569339625641</td><td>59</td><td>22.902667056495986</td><td>20.625767646123265</td><td>19.856498968250772</td><td>18.918260610837965</td><td>2.276899410372721</td><td>1559.7958579999977</td><td>60701.0943082</td><td>59</td><td>2</td><td>0.0</td></tr>\n",
       "<tr><td>50.0366345</td><td>-44.6033099</td><td>1248684569339626125</td><td>70</td><td>23.642439968675003</td><td>21.544689534977653</td><td>23.143955657199157</td><td>22.67237339606578</td><td>2.0977504336973496</td><td>1171.8551970000044</td><td>61318.2902602</td><td>70</td><td>24</td><td>25.0</td></tr>\n",
       "<tr><td>50.1807874</td><td>-44.6535504</td><td>1248675773246604126</td><td>43</td><td>22.36280480327831</td><td>20.351726129016583</td><td>23.61547483152016</td><td>23.4619567849103</td><td>2.011078674261725</td><td>700.933772999997</td><td>61373.2278372</td><td>43</td><td>17</td><td>0.0</td></tr>\n",
       "<tr><td>54.8620173</td><td>-44.6481827</td><td>1249520198176736045</td><td>80</td><td>22.743170493554125</td><td>19.98012253021932</td><td>22.286429405521005</td><td>21.837460267502763</td><td>2.763047963334806</td><td>681.9322509999984</td><td>60960.2252922</td><td>80</td><td>22</td><td>0.0</td></tr>\n",
       "<tr><td>55.148125</td><td>-44.629532</td><td>1249511402083713389</td><td>79</td><td>23.637481876812412</td><td>21.20822647554448</td><td>23.106177809864455</td><td>21.986948876384943</td><td>2.429255401267934</td><td>1149.968845000003</td><td>60945.1923242</td><td>79</td><td>34</td><td>0.0</td></tr>\n",
       "<tr><td>61.3055212</td><td>-44.4875329</td><td>1250804427757977660</td><td>20</td><td>21.659034161863417</td><td>19.629902659141354</td><td>18.206524961212963</td><td>16.98841713736357</td><td>2.0291315027220627</td><td>1736.154588999998</td><td>59929.1459222</td><td>20</td><td>2</td><td>0.0</td></tr>\n",
       "<tr><td>61.3835053</td><td>-44.5735339</td><td>1250804427757978326</td><td>88</td><td>23.364667629460776</td><td>21.680602578717057</td><td>23.136989015724993</td><td>22.672848101633356</td><td>1.684065050743719</td><td>1189.7597070000047</td><td>60998.1706512</td><td>88</td><td>35</td><td>0.0</td></tr>\n",
       "<tr><td>53.9767924</td><td>-44.630488</td><td>1249546586455802795</td><td>75</td><td>23.730635551727815</td><td>20.917439153914685</td><td>22.778565831779986</td><td>22.219189094071247</td><td>2.8131963978131296</td><td>716.9955429999973</td><td>60998.1526922</td><td>75</td><td>30</td><td>0.0</td></tr>\n",
       "<tr><td>51.2332445</td><td>-44.509536</td><td>1248649384967537762</td><td>19</td><td>23.735368714085325</td><td>18.97590373930018</td><td>18.198346264103098</td><td>19.814439457113927</td><td>4.759464974785146</td><td>763.8356130000029</td><td>61327.2294072</td><td>19</td><td>5</td><td>0.0</td></tr>\n",
       "<tr><td>...</td><td>...</td><td>...</td><td>...</td><td>...</td><td>...</td><td>...</td><td>...</td><td>...</td><td>...</td><td>...</td><td>...</td><td>...</td><td>...</td></tr>\n",
       "<tr><td>59.5298673</td><td>-26.8810451</td><td>2184324984111890688</td><td>35</td><td>24.00532019876998</td><td>22.291969473948704</td><td>23.69744814421419</td><td>22.090592945030266</td><td>1.7133507248212752</td><td>705.0383180000063</td><td>61383.1597972</td><td>35</td><td>15</td><td>0.0</td></tr>\n",
       "<tr><td>65.3247783</td><td>-26.8049385</td><td>2185582825414066184</td><td>63</td><td>24.9176528445878</td><td>21.822882073898846</td><td>22.359644205052447</td><td>21.590913040375952</td><td>3.094770770688953</td><td>709.0678259999986</td><td>61389.1108212</td><td>63</td><td>23</td><td>29.0</td></tr>\n",
       "<tr><td>64.921963</td><td>-26.8718542</td><td>2185600417600110645</td><td>82</td><td>26.618409942455827</td><td>21.963909544314692</td><td>22.775403933870077</td><td>23.217187280332553</td><td>4.654500398141135</td><td>707.0591209999984</td><td>61374.2960082</td><td>82</td><td>28</td><td>57.0</td></tr>\n",
       "<tr><td>65.2013297</td><td>-26.8827353</td><td>2185591621507088426</td><td>52</td><td>24.63676859279652</td><td>22.395721583832913</td><td>23.25523105722901</td><td>22.359283984247618</td><td>2.2410470089636085</td><td>714.1672019999969</td><td>61001.1060412</td><td>52</td><td>19</td><td>37.0</td></tr>\n",
       "<tr><td>67.7651049</td><td>-26.8992645</td><td>2186480026902331594</td><td>50</td><td>24.274076732282165</td><td>22.25749882371535</td><td>22.199193683158875</td><td>21.980722811338097</td><td>2.0165779085668163</td><td>650.060298000004</td><td>61389.1108212</td><td>50</td><td>14</td><td>0.0</td></tr>\n",
       "<tr><td>67.8056244</td><td>-26.8979505</td><td>2186480026902331426</td><td>92</td><td>25.555377277210873</td><td>21.932583871462253</td><td>23.336378091956274</td><td>21.93974496895411</td><td>3.62279340574862</td><td>696.9887190000009</td><td>61389.1242542</td><td>92</td><td>26</td><td>0.0</td></tr>\n",
       "<tr><td>71.0631633</td><td>-26.9066167</td><td>2187342044018507960</td><td>20</td><td>25.21543748974944</td><td>22.351174878190108</td><td>23.612703338868116</td><td>22.541265268108283</td><td>2.864262611559333</td><td>693.9409429999941</td><td>61389.1251792</td><td>20</td><td>10</td><td>19.0</td></tr>\n",
       "<tr><td>71.1272977</td><td>-26.7468965</td><td>2187342044018507841</td><td>51</td><td>24.861586778408295</td><td>22.175613712389907</td><td>23.4722361428297</td><td>21.33481119850089</td><td>2.685973066018388</td><td>700.1401780000015</td><td>60693.1360412</td><td>51</td><td>12</td><td>15.0</td></tr>\n",
       "<tr><td>71.1320585</td><td>-26.9208529</td><td>2187342044018507929</td><td>69</td><td>25.32116409807964</td><td>21.770388508236348</td><td>23.398066855290402</td><td>21.865716017189936</td><td>3.550775589843294</td><td>701.0805709999986</td><td>61077.1041882</td><td>69</td><td>23</td><td>68.0</td></tr>\n",
       "<tr><td>70.9062291</td><td>-26.7802573</td><td>2187350840111530104</td><td>49</td><td>23.676601460654037</td><td>21.398132814578645</td><td>23.01845206734447</td><td>22.250191576868115</td><td>2.2784686460753925</td><td>0.0</td><td>0.0</td><td>0</td><td>0</td><td>0.0</td></tr>\n",
       "</table></div>"
      ],
      "text/plain": [
       "<Table length=6570>\n",
       "    ra         decl        diaObjectId     ... nDiaSrcs nrDiaSrcs nppDiaSrcs\n",
       "   deg         deg                         ...                              \n",
       " float64     float64          int64        ...  int64     int64    float64  \n",
       "---------- ----------- ------------------- ... -------- --------- ----------\n",
       "49.7910763 -44.5121505 1248684569339625641 ...       59         2        0.0\n",
       "50.0366345 -44.6033099 1248684569339626125 ...       70        24       25.0\n",
       "50.1807874 -44.6535504 1248675773246604126 ...       43        17        0.0\n",
       "54.8620173 -44.6481827 1249520198176736045 ...       80        22        0.0\n",
       " 55.148125  -44.629532 1249511402083713389 ...       79        34        0.0\n",
       "61.3055212 -44.4875329 1250804427757977660 ...       20         2        0.0\n",
       "61.3835053 -44.5735339 1250804427757978326 ...       88        35        0.0\n",
       "53.9767924  -44.630488 1249546586455802795 ...       75        30        0.0\n",
       "51.2332445  -44.509536 1248649384967537762 ...       19         5        0.0\n",
       "       ...         ...                 ... ...      ...       ...        ...\n",
       "59.5298673 -26.8810451 2184324984111890688 ...       35        15        0.0\n",
       "65.3247783 -26.8049385 2185582825414066184 ...       63        23       29.0\n",
       " 64.921963 -26.8718542 2185600417600110645 ...       82        28       57.0\n",
       "65.2013297 -26.8827353 2185591621507088426 ...       52        19       37.0\n",
       "67.7651049 -26.8992645 2186480026902331594 ...       50        14        0.0\n",
       "67.8056244 -26.8979505 2186480026902331426 ...       92        26        0.0\n",
       "71.0631633 -26.9066167 2187342044018507960 ...       20        10       19.0\n",
       "71.1272977 -26.7468965 2187342044018507841 ...       51        12       15.0\n",
       "71.1320585 -26.9208529 2187342044018507929 ...       69        23       68.0\n",
       "70.9062291 -26.7802573 2187350840111530104 ...        0         0        0.0"
      ]
     },
     "execution_count": 11,
     "metadata": {},
     "output_type": "execute_result"
    }
   ],
   "source": [
    "DiaObjs"
   ]
  },
  {
   "cell_type": "code",
   "execution_count": 12,
   "id": "4af75d1d-34cc-4a92-ad3c-a806da5d97c1",
   "metadata": {
    "execution": {
     "iopub.execute_input": "2023-11-30T05:49:30.283093Z",
     "iopub.status.busy": "2023-11-30T05:49:30.282640Z",
     "iopub.status.idle": "2023-11-30T05:49:30.291294Z",
     "shell.execute_reply": "2023-11-30T05:49:30.290665Z",
     "shell.execute_reply.started": "2023-11-30T05:49:30.283071Z"
    },
    "tags": []
   },
   "outputs": [
    {
     "name": "stdout",
     "output_type": "stream",
     "text": [
      "331\n"
     ]
    }
   ],
   "source": [
    "tx = np.where((DiaObjs['duration'] > snia_duration_min)\n",
    "              & (DiaObjs['duration'] < snia_duration_max))[0]\n",
    "print(len(tx))"
   ]
  },
  {
   "cell_type": "markdown",
   "id": "d4b53820-e6c0-470a-90d5-dc639536a829",
   "metadata": {},
   "source": [
    "OK so in total there are 331 SNIa that pass these crude cuts for low-z SNIa.\n",
    "\n",
    "Which dates might have many SNIa peaking?"
   ]
  },
  {
   "cell_type": "code",
   "execution_count": 13,
   "id": "090a2a19-b3e9-4648-b4e5-aee81035fa81",
   "metadata": {
    "execution": {
     "iopub.execute_input": "2023-11-30T05:49:30.292348Z",
     "iopub.status.busy": "2023-11-30T05:49:30.292143Z",
     "iopub.status.idle": "2023-11-30T05:49:30.585666Z",
     "shell.execute_reply": "2023-11-30T05:49:30.584983Z",
     "shell.execute_reply.started": "2023-11-30T05:49:30.292333Z"
    },
    "tags": []
   },
   "outputs": [
    {
     "data": {
      "image/png": "[encoded data removed]",
      "text/plain": [
       "<Figure size 300x200 with 1 Axes>"
      ]
     },
     "metadata": {},
     "output_type": "display_data"
    }
   ],
   "source": [
    "fig = plt.figure(figsize=(3, 2))\n",
    "plt.hist(DiaObjs['mjd_rMagMin'][tx], bins=100)\n",
    "plt.show()"
   ]
  },
  {
   "cell_type": "code",
   "execution_count": 14,
   "id": "9fa12732-ed93-4112-ac87-21d7932a692e",
   "metadata": {
    "execution": {
     "iopub.execute_input": "2023-11-30T05:49:30.586887Z",
     "iopub.status.busy": "2023-11-30T05:49:30.586640Z",
     "iopub.status.idle": "2023-11-30T05:49:30.794789Z",
     "shell.execute_reply": "2023-11-30T05:49:30.794078Z",
     "shell.execute_reply.started": "2023-11-30T05:49:30.586869Z"
    },
    "tags": []
   },
   "outputs": [
    {
     "data": {
      "image/png": "[encoded data removed]",
      "text/plain": [
       "<Figure size 300x200 with 1 Axes>"
      ]
     },
     "metadata": {},
     "output_type": "display_data"
    }
   ],
   "source": [
    "fig = plt.figure(figsize=(3, 2))\n",
    "ttx = np.where((DiaObjs['mjd_rMagMin'][tx] > 60800) & (DiaObjs['mjd_rMagMin'][tx] < 61100))[0]\n",
    "plt.hist(DiaObjs['mjd_rMagMin'][tx[ttx]], bins=100)\n",
    "plt.show()\n",
    "del ttx"
   ]
  },
  {
   "cell_type": "code",
   "execution_count": 15,
   "id": "0c848ef1-8806-42ef-8847-250e6ca19372",
   "metadata": {
    "execution": {
     "iopub.execute_input": "2023-11-30T05:49:30.795966Z",
     "iopub.status.busy": "2023-11-30T05:49:30.795735Z",
     "iopub.status.idle": "2023-11-30T05:49:30.933072Z",
     "shell.execute_reply": "2023-11-30T05:49:30.932335Z",
     "shell.execute_reply.started": "2023-11-30T05:49:30.795945Z"
    },
    "tags": []
   },
   "outputs": [
    {
     "data": {
      "image/png": "[encoded data removed]",
      "text/plain": [
       "<Figure size 300x200 with 1 Axes>"
      ]
     },
     "metadata": {},
     "output_type": "display_data"
    }
   ],
   "source": [
    "fig = plt.figure(figsize=(3, 2))\n",
    "ttx = np.where((DiaObjs['mjd_rMagMin'][tx] > 60950) & (DiaObjs['mjd_rMagMin'][tx] < 60975))[0]\n",
    "plt.hist(DiaObjs['mjd_rMagMin'][tx[ttx]]-60950, bins=25)\n",
    "plt.xlabel('MJD - 60950')\n",
    "plt.show()\n",
    "del ttx"
   ]
  },
  {
   "cell_type": "code",
   "execution_count": 16,
   "id": "5316e31a-9f49-4f6d-83f9-c841299770bb",
   "metadata": {
    "execution": {
     "iopub.execute_input": "2023-11-30T05:49:30.934268Z",
     "iopub.status.busy": "2023-11-30T05:49:30.934025Z",
     "iopub.status.idle": "2023-11-30T05:49:30.939458Z",
     "shell.execute_reply": "2023-11-30T05:49:30.938651Z",
     "shell.execute_reply.started": "2023-11-30T05:49:30.934249Z"
    },
    "tags": []
   },
   "outputs": [
    {
     "name": "stdout",
     "output_type": "stream",
     "text": [
      "55\n"
     ]
    }
   ],
   "source": [
    "ttx = np.where((DiaObjs['mjd_rMagMin'][tx] > 60960) & (DiaObjs['mjd_rMagMin'][tx] < 60962))[0]\n",
    "print(len(ttx))"
   ]
  },
  {
   "cell_type": "markdown",
   "id": "0c51646a-9159-420e-9435-3a5ba9f1c42f",
   "metadata": {},
   "source": [
    "OK how many of these have a lot of pre-peak light curve detections."
   ]
  },
  {
   "cell_type": "code",
   "execution_count": 17,
   "id": "85b0d13c-08fb-467c-b1c3-434dea5bc996",
   "metadata": {
    "execution": {
     "iopub.execute_input": "2023-11-30T05:49:30.940917Z",
     "iopub.status.busy": "2023-11-30T05:49:30.940447Z",
     "iopub.status.idle": "2023-11-30T05:49:31.060018Z",
     "shell.execute_reply": "2023-11-30T05:49:31.059316Z",
     "shell.execute_reply.started": "2023-11-30T05:49:30.940895Z"
    },
    "tags": []
   },
   "outputs": [
    {
     "data": {
      "image/png": "[encoded data removed]",
      "text/plain": [
       "<Figure size 300x200 with 1 Axes>"
      ]
     },
     "metadata": {},
     "output_type": "display_data"
    }
   ],
   "source": [
    "fig = plt.figure(figsize=(3, 2))\n",
    "plt.hist(DiaObjs['nppDiaSrcs'][tx[ttx]])\n",
    "plt.show()"
   ]
  },
  {
   "cell_type": "markdown",
   "id": "f451f520-5a05-48bc-92ff-7a958991781e",
   "metadata": {},
   "source": [
    "Distribution of durations."
   ]
  },
  {
   "cell_type": "code",
   "execution_count": 18,
   "id": "0dbbdbef-53e0-4fc3-bf3c-697028d3aadc",
   "metadata": {
    "execution": {
     "iopub.execute_input": "2023-11-30T05:49:31.061144Z",
     "iopub.status.busy": "2023-11-30T05:49:31.060916Z",
     "iopub.status.idle": "2023-11-30T05:49:31.162415Z",
     "shell.execute_reply": "2023-11-30T05:49:31.161699Z",
     "shell.execute_reply.started": "2023-11-30T05:49:31.061126Z"
    },
    "tags": []
   },
   "outputs": [
    {
     "data": {
      "image/png": "[encoded data removed]",
      "text/plain": [
       "<Figure size 300x200 with 1 Axes>"
      ]
     },
     "metadata": {},
     "output_type": "display_data"
    }
   ],
   "source": [
    "fig = plt.figure(figsize=(3, 2))\n",
    "plt.hist(DiaObjs['duration'][tx[ttx]])\n",
    "plt.show()"
   ]
  },
  {
   "cell_type": "markdown",
   "id": "ba32f293-142f-47fc-a20e-f809aa228f69",
   "metadata": {},
   "source": [
    "And what are their brightest r-band detections."
   ]
  },
  {
   "cell_type": "code",
   "execution_count": 19,
   "id": "87e67b52-cbbc-4dae-b2d6-a6183821d729",
   "metadata": {
    "execution": {
     "iopub.execute_input": "2023-11-30T05:49:31.163820Z",
     "iopub.status.busy": "2023-11-30T05:49:31.163497Z",
     "iopub.status.idle": "2023-11-30T05:49:31.277282Z",
     "shell.execute_reply": "2023-11-30T05:49:31.276417Z",
     "shell.execute_reply.started": "2023-11-30T05:49:31.163801Z"
    },
    "tags": []
   },
   "outputs": [
    {
     "data": {
      "image/png": "[encoded data removed]",
      "text/plain": [
       "<Figure size 300x200 with 1 Axes>"
      ]
     },
     "metadata": {},
     "output_type": "display_data"
    }
   ],
   "source": [
    "fig = plt.figure(figsize=(3, 2))\n",
    "plt.hist(DiaObjs['rMagMin'][tx[ttx]])\n",
    "plt.show()"
   ]
  },
  {
   "cell_type": "code",
   "execution_count": 20,
   "id": "3d6941d0-f148-4853-944e-8d5cc77fba47",
   "metadata": {
    "execution": {
     "iopub.execute_input": "2023-11-30T05:49:31.279140Z",
     "iopub.status.busy": "2023-11-30T05:49:31.278531Z",
     "iopub.status.idle": "2023-11-30T05:49:31.387385Z",
     "shell.execute_reply": "2023-11-30T05:49:31.386557Z",
     "shell.execute_reply.started": "2023-11-30T05:49:31.279112Z"
    },
    "tags": []
   },
   "outputs": [
    {
     "data": {
      "image/png": "[encoded data removed]",
      "text/plain": [
       "<Figure size 300x200 with 1 Axes>"
      ]
     },
     "metadata": {},
     "output_type": "display_data"
    }
   ],
   "source": [
    "fig = plt.figure(figsize=(3, 2))\n",
    "plt.plot(DiaObjs['rMagMin'][tx[ttx]], DiaObjs['nppDiaSrcs'][tx[ttx]], 'o', alpha=0.4, mew=0)\n",
    "plt.show()"
   ]
  },
  {
   "cell_type": "code",
   "execution_count": 21,
   "id": "757e1335-716f-4158-ac99-9d3cea6fa2f3",
   "metadata": {
    "execution": {
     "iopub.execute_input": "2023-11-30T05:49:31.388584Z",
     "iopub.status.busy": "2023-11-30T05:49:31.388339Z",
     "iopub.status.idle": "2023-11-30T05:49:31.394173Z",
     "shell.execute_reply": "2023-11-30T05:49:31.393530Z",
     "shell.execute_reply.started": "2023-11-30T05:49:31.388567Z"
    },
    "tags": []
   },
   "outputs": [
    {
     "name": "stdout",
     "output_type": "stream",
     "text": [
      "5\n"
     ]
    }
   ],
   "source": [
    "tttx = np.where((DiaObjs['nppDiaSrcs'][tx[ttx]] >= 5)\n",
    "               & (DiaObjs['rMagMin'][tx[ttx]] >= 20)\n",
    "               & (DiaObjs['rMagMin'][tx[ttx]] <= 22))[0]\n",
    "print(len(tttx))"
   ]
  },
  {
   "cell_type": "markdown",
   "id": "32d9f846-ca11-4161-be47-36c489109e6f",
   "metadata": {},
   "source": [
    "Store the `diaObjectId` of our 31 objects of interest."
   ]
  },
  {
   "cell_type": "code",
   "execution_count": 22,
   "id": "6da0759d-9ed4-4635-920f-4c6fc62f2611",
   "metadata": {
    "execution": {
     "iopub.execute_input": "2023-11-30T05:49:31.398968Z",
     "iopub.status.busy": "2023-11-30T05:49:31.398512Z",
     "iopub.status.idle": "2023-11-30T05:49:31.412302Z",
     "shell.execute_reply": "2023-11-30T05:49:31.411619Z",
     "shell.execute_reply.started": "2023-11-30T05:49:31.398946Z"
    },
    "tags": []
   },
   "outputs": [
    {
     "data": {
      "text/plain": [
       "array([1568026726510894110, 1569909090417642499, 1653700672547196623,\n",
       "       1734140943235288573, 1825796232526695593])"
      ]
     },
     "execution_count": 22,
     "metadata": {},
     "output_type": "execute_result"
    }
   ],
   "source": [
    "my_list = np.asarray(DiaObjs['diaObjectId'][tx[ttx[tttx]]], dtype='int')\n",
    "my_list"
   ]
  },
  {
   "cell_type": "code",
   "execution_count": 23,
   "id": "7c26e3fd-aee6-4d5c-af0c-11b4d0235420",
   "metadata": {
    "execution": {
     "iopub.execute_input": "2023-11-30T05:49:31.413720Z",
     "iopub.status.busy": "2023-11-30T05:49:31.413251Z",
     "iopub.status.idle": "2023-11-30T05:49:31.428226Z",
     "shell.execute_reply": "2023-11-30T05:49:31.427569Z",
     "shell.execute_reply.started": "2023-11-30T05:49:31.413699Z"
    },
    "tags": []
   },
   "outputs": [
    {
     "data": {
      "text/plain": [
       "'(   1568026726510894110,   1569909090417642499,   1653700672547196623,   1734140943235288573,   1825796232526695593)'"
      ]
     },
     "execution_count": 23,
     "metadata": {},
     "output_type": "execute_result"
    }
   ],
   "source": [
    "my_list_string = \"(\" + ','.join(['%22i' % num for num in my_list]) + \")\"\n",
    "my_list_string"
   ]
  },
  {
   "cell_type": "code",
   "execution_count": 24,
   "id": "85398618-44e0-46b0-ae3e-dae701541b02",
   "metadata": {
    "execution": {
     "iopub.execute_input": "2023-11-30T05:49:31.429449Z",
     "iopub.status.busy": "2023-11-30T05:49:31.429204Z",
     "iopub.status.idle": "2023-11-30T05:49:31.442455Z",
     "shell.execute_reply": "2023-11-30T05:49:31.441697Z",
     "shell.execute_reply.started": "2023-11-30T05:49:31.429430Z"
    },
    "tags": []
   },
   "outputs": [],
   "source": [
    "del tx, ttx, tttx"
   ]
  },
  {
   "cell_type": "markdown",
   "id": "57153703-5dba-4410-933f-dcc74999dd5b",
   "metadata": {},
   "source": [
    "## which potential SNIa are the best to use for the demo?\n",
    "\n",
    "Want objects that have demonstrated a rise, and have a bunch of pre-peak light curve detections."
   ]
  },
  {
   "cell_type": "code",
   "execution_count": 39,
   "id": "a8ac233f-9a4e-4c8f-8a9a-f21b637ad293",
   "metadata": {
    "execution": {
     "iopub.execute_input": "2023-11-30T06:18:58.746018Z",
     "iopub.status.busy": "2023-11-30T06:18:58.745212Z",
     "iopub.status.idle": "2023-11-30T06:18:59.629876Z",
     "shell.execute_reply": "2023-11-30T06:18:59.629314Z",
     "shell.execute_reply.started": "2023-11-30T06:18:58.745986Z"
    },
    "tags": []
   },
   "outputs": [
    {
     "name": "stdout",
     "output_type": "stream",
     "text": [
      " 0  0  0  1568026726510894110 58.9   35 \n",
      " 1  0  1  1569909090417642499 57.7   29 \n",
      " 2  1  0  1653700672547196623 81.0   33 \n",
      " 3  1  1  1734140943235288573 70.9   25 \n",
      " 4  2  0  1825796232526695593 67.9   34 \n"
     ]
    },
    {
     "data": {
      "image/png": "[encoded data removed]",
      "text/plain": [
       "<Figure size 1000x600 with 6 Axes>"
      ]
     },
     "metadata": {},
     "output_type": "display_data"
    }
   ],
   "source": [
    "fig, ax = plt.subplots(3, 2, figsize=(10, 6), sharey=False, sharex=False)\n",
    "\n",
    "x = 0\n",
    "\n",
    "for i in range(3):\n",
    "    for j in range(2):\n",
    "        if x < len(my_list):\n",
    "            ix = np.where(DiaObjs['diaObjectId'] == my_list[x])[0]\n",
    "            tx = np.where(DiaSrcs['diaObjectId'] == my_list[x])[0]\n",
    "            print('%2i %2i %2i %20i %4.1f %4i ' \n",
    "                  % (x, i, j, my_list[x], DiaObjs['duration'][ix], len(tx)))\n",
    "            ax[i, j].axvline(DiaObjs['mjd_rMagMin'][ix] - 60960, color=plot_filter_colors['r'])\n",
    "            for f, filt in enumerate(plot_filter_labels):\n",
    "                fx = np.where(DiaSrcs['filterName'][tx] == filt)[0]\n",
    "                ax[i, j].plot(DiaSrcs['midPointTai'][tx[fx]] - 60960, \n",
    "                              DiaSrcs['psAbMag'][tx[fx]],\n",
    "                              plot_filter_symbols[filt], ms=10, mew=0, alpha=0.5,\n",
    "                              color=plot_filter_colors[filt])\n",
    "                del fx\n",
    "            del ix, tx\n",
    "            \n",
    "            ax[i, j].invert_yaxis()\n",
    "            ax[i, j].set_title(my_list[x])\n",
    "            if i == 1:\n",
    "                ax[i, j].xaxis.set_label_text('MJD (days)')\n",
    "            if j == 0:\n",
    "                ax[i, j].yaxis.set_label_text('mag')\n",
    "        x += 1\n",
    "\n",
    "plt.tight_layout()\n",
    "plt.show()"
   ]
  },
  {
   "cell_type": "markdown",
   "id": "3a8d7a68-dd09-43d1-8d7c-365904daddf4",
   "metadata": {},
   "source": [
    "OK so these will be the five that the brokers \"find\" and that we need to retrieve host info for.\n",
    "\n",
    "## what is their host situation\n",
    "\n",
    "first make sure there are at least some nearby things to check out"
   ]
  },
  {
   "cell_type": "code",
   "execution_count": 41,
   "id": "1f58e67c-f626-4b64-82a3-f98f30429b20",
   "metadata": {
    "execution": {
     "iopub.execute_input": "2023-11-30T06:21:19.990526Z",
     "iopub.status.busy": "2023-11-30T06:21:19.989651Z",
     "iopub.status.idle": "2023-11-30T06:21:22.361533Z",
     "shell.execute_reply": "2023-11-30T06:21:22.360916Z",
     "shell.execute_reply.started": "2023-11-30T06:21:19.990489Z"
    },
    "tags": []
   },
   "outputs": [
    {
     "name": "stdout",
     "output_type": "stream",
     "text": [
      "0 1568026726510894110 63.6025914 -38.634654 0.00556\n",
      "number of Objects within 20\" =  51\n",
      "number of point:  11    extended:  40\n",
      "three nearest stars: \n",
      "1568026726510919263 0.03\n",
      "1568026726510919265 4.45\n",
      "1568026726510919393 8.53\n",
      "three nearest galaxies: \n",
      "1568026726510919266 3.15\n",
      "1568026726510919261 4.62\n",
      "1568026726510919497 5.08\n",
      "1 1569909090417642499 69.9257038 -38.1424959 0.00556\n",
      "number of Objects within 20\" =  49\n",
      "number of point:  7    extended:  42\n",
      "three nearest stars: \n",
      "1569425305301455018 6.47\n",
      "1569425305301455016 8.15\n",
      "1569425305301455020 8.62\n",
      "three nearest galaxies: \n",
      "1569425305301455007 0.02\n",
      "1569425305301455003 3.08\n",
      "1569425305301455014 3.98\n",
      "2 1653700672547196623 70.8210894 -35.9915118 0.00556\n",
      "number of Objects within 20\" =  42\n",
      "number of point:  9    extended:  33\n",
      "three nearest stars: \n",
      "1653700672547231401 9.94\n",
      "1653700672547231164 11.98\n",
      "1653700672547231611 12.03\n",
      "three nearest galaxies: \n",
      "1653700672547231391 2.13\n",
      "1653700672547231402 2.58\n",
      "1653700672547231397 4.34\n",
      "3 1734140943235288573 52.5432991 -34.9028848 0.00556\n",
      "number of Objects within 20\" =  36\n",
      "number of point:  12    extended:  24\n",
      "three nearest stars: \n",
      "1734140943235326652 0.02\n",
      "1734140943235326653 2.95\n",
      "1734140943235298415 9.66\n",
      "three nearest galaxies: \n",
      "1734140943235326493 4.7\n",
      "1734140943235293084 5.98\n",
      "1734140943235326492 6.11\n",
      "4 1825796232526695593 71.7356252 -34.2191764 0.00556\n",
      "number of Objects within 20\" =  40\n",
      "number of point:  11    extended:  29\n",
      "three nearest stars: \n",
      "1739084347513803590 9.48\n",
      "1739084347513777036 10.67\n",
      "1739084347513805129 12.13\n",
      "three nearest galaxies: \n",
      "1739084347513803559 0.03\n",
      "1739084347513803574 4.64\n",
      "1739084347513803571 5.93\n"
     ]
    }
   ],
   "source": [
    "for i, tid in enumerate(my_list):\n",
    "    ix = np.where(DiaObjs['diaObjectId'] == tid)[0]\n",
    "\n",
    "    fra = float(DiaObjs['ra'][ix])\n",
    "    fdec = float(DiaObjs['decl'][ix])\n",
    "    sra = str(fra)\n",
    "    sdec = str(fdec)\n",
    "    srad = str(np.round(20.0 / 3600.0, 5))\n",
    "    print(i, tid, sra, sdec, srad)\n",
    "\n",
    "    query = \"SELECT objectId, coord_ra, coord_dec, x, y, refExtendedness, \"\\\n",
    "    \"shape_xx, shape_xy, shape_yy, r_kronRad, i_kronRad \"\\\n",
    "    \"FROM dp02_dc2_catalogs.Object \"\\\n",
    "    \"WHERE CONTAINS(POINT('ICRS', coord_ra, coord_dec), \"\\\n",
    "    \"CIRCLE('ICRS', \"+sra+\", \"+sdec+\", \"+srad+\")) = 1 \"\\\n",
    "    \"AND detect_isPrimary = 1 \"\n",
    "    Objs = service.search(query).to_table()\n",
    "    print('number of Objects within 20\" = ', len(Objs))\n",
    "    \n",
    "    sncoord = SkyCoord(fra, fdec, unit='deg')\n",
    "    tra = np.asarray(Objs['coord_ra'], dtype='float')\n",
    "    tdec = np.asarray(Objs['coord_dec'], dtype='float')\n",
    "    objcoords = SkyCoord(tra, tdec, unit='deg')\n",
    "    separations = objcoords.separation(sncoord)\n",
    "    \n",
    "    sx = np.where(Objs['refExtendedness'] == 0)[0]\n",
    "    gx = np.where(Objs['refExtendedness'] == 1)[0]\n",
    "    print('number of point: ', len(sx), '   extended: ', len(gx))\n",
    "\n",
    "    ssx = np.argsort(separations[sx])\n",
    "    print('three nearest stars: ')\n",
    "    for j in range(3):\n",
    "        print(Objs['objectId'][sx[ssx[j]]], np.round(separations[sx[ssx[j]]].arcsec, 2))\n",
    "    \n",
    "    sgx = np.argsort(separations[gx])\n",
    "    print('three nearest galaxies: ')\n",
    "    for j in range(3):\n",
    "        print(Objs['objectId'][gx[sgx[j]]], np.round(separations[gx[sgx[j]]].arcsec, 2))\n"
   ]
  },
  {
   "cell_type": "code",
   "execution_count": 30,
   "id": "4152d40b-44cb-4776-80a8-2d46b5a45df0",
   "metadata": {
    "execution": {
     "iopub.execute_input": "2023-11-30T06:13:53.359847Z",
     "iopub.status.busy": "2023-11-30T06:13:53.358894Z",
     "iopub.status.idle": "2023-11-30T06:13:53.363963Z",
     "shell.execute_reply": "2023-11-30T06:13:53.363393Z",
     "shell.execute_reply.started": "2023-11-30T06:13:53.359811Z"
    },
    "tags": []
   },
   "outputs": [],
   "source": [
    "fra = float(DiaObjs['ra'][ix])\n",
    "fdec = float(DiaObjs['decl'][ix])"
   ]
  },
  {
   "cell_type": "code",
   "execution_count": 31,
   "id": "12d5200c-194a-4eee-b30d-47c2b0c384fe",
   "metadata": {
    "execution": {
     "iopub.execute_input": "2023-11-30T06:14:10.736707Z",
     "iopub.status.busy": "2023-11-30T06:14:10.735906Z",
     "iopub.status.idle": "2023-11-30T06:14:10.741556Z",
     "shell.execute_reply": "2023-11-30T06:14:10.740874Z",
     "shell.execute_reply.started": "2023-11-30T06:14:10.736677Z"
    },
    "tags": []
   },
   "outputs": [
    {
     "name": "stdout",
     "output_type": "stream",
     "text": [
      "point:  1    extended:  9\n"
     ]
    }
   ],
   "source": [
    "px = np.where(Objs['refExtendedness'] == 0)[0]\n",
    "ex = np.where(Objs['refExtendedness'] == 1)[0]\n",
    "print('point: ', len(px), '   extended: ', len(ex))"
   ]
  },
  {
   "cell_type": "code",
   "execution_count": 32,
   "id": "979a5005-a0ca-4386-9d0b-9dceff854dde",
   "metadata": {
    "execution": {
     "iopub.execute_input": "2023-11-30T06:14:25.681939Z",
     "iopub.status.busy": "2023-11-30T06:14:25.681225Z",
     "iopub.status.idle": "2023-11-30T06:14:25.687910Z",
     "shell.execute_reply": "2023-11-30T06:14:25.687348Z",
     "shell.execute_reply.started": "2023-11-30T06:14:25.681914Z"
    },
    "tags": []
   },
   "outputs": [],
   "source": [
    "sncoord = SkyCoord(fra, fdec, unit='deg')\n",
    "tra = np.asarray(Objs['coord_ra'], dtype='float')\n",
    "tdec = np.asarray(Objs['coord_dec'], dtype='float')\n",
    "objcoords = SkyCoord(tra, tdec, unit='deg')"
   ]
  },
  {
   "cell_type": "code",
   "execution_count": 33,
   "id": "36c2e31e-ddbb-41a9-9e83-6d6adcb6ede1",
   "metadata": {
    "execution": {
     "iopub.execute_input": "2023-11-30T06:14:27.470530Z",
     "iopub.status.busy": "2023-11-30T06:14:27.469818Z",
     "iopub.status.idle": "2023-11-30T06:14:27.476361Z",
     "shell.execute_reply": "2023-11-30T06:14:27.475807Z",
     "shell.execute_reply.started": "2023-11-30T06:14:27.470507Z"
    },
    "tags": []
   },
   "outputs": [],
   "source": [
    "separations = objcoords.separation(sncoord)"
   ]
  },
  {
   "cell_type": "code",
   "execution_count": 36,
   "id": "e5025bc7-059f-412a-91b2-af8a289cd71b",
   "metadata": {
    "execution": {
     "iopub.execute_input": "2023-11-30T06:14:38.162742Z",
     "iopub.status.busy": "2023-11-30T06:14:38.162036Z",
     "iopub.status.idle": "2023-11-30T06:14:38.166886Z",
     "shell.execute_reply": "2023-11-30T06:14:38.166390Z",
     "shell.execute_reply.started": "2023-11-30T06:14:38.162719Z"
    },
    "tags": []
   },
   "outputs": [
    {
     "data": {
      "text/plain": [
       "array([9.82143996, 8.204319  , 0.02532922, 6.82453907, 7.28050644,\n",
       "       5.92824527, 9.81128539, 9.48316343, 4.63680243, 6.97706813])"
      ]
     },
     "execution_count": 36,
     "metadata": {},
     "output_type": "execute_result"
    }
   ],
   "source": [
    "separations.arcsec"
   ]
  },
  {
   "cell_type": "code",
   "execution_count": null,
   "id": "1c241553-4d2f-4581-bdaa-12ce1578881f",
   "metadata": {},
   "outputs": [],
   "source": []
  }
 ],
 "metadata": {
  "kernelspec": {
   "display_name": "LSST",
   "language": "python",
   "name": "lsst"
  },
  "language_info": {
   "codemirror_mode": {
    "name": "ipython",
    "version": 3
   },
   "file_extension": ".py",
   "mimetype": "text/x-python",
   "name": "python",
   "nbconvert_exporter": "python",
   "pygments_lexer": "ipython3",
   "version": "3.11.4"
  }
 },
 "nbformat": 4,
 "nbformat_minor": 5
}
