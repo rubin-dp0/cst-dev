{
 "cells": [
  {
   "cell_type": "markdown",
   "id": "30c0c2a9-6cde-4d60-a386-3c5c74d99a21",
   "metadata": {},
   "source": [
    "# PZ Training Set Creation\n",
    "\n",
    "Author: Melissa Graham\n",
    "\n",
    "Date last verified to run: Wed Jan 4\n",
    "\n",
    "RSP recommended image version: Weekly 2022_40\n",
    "\n",
    "Container size: large\n",
    "\n",
    "> **Warning:** The query in Section 3.3 takes ~15 minutes to execute.\n",
    "\n",
    "\n",
    "## 1. Introduction\n",
    "\n",
    "Make a training set using true galaxies in a small area of the DC2 region.\n",
    "\n",
    "Some types of photometric redshift estimators requre a training set of galaxies with \"known\" (spectroscopic) redshifts.\n",
    "\n",
    "In this notebook, we use the DC2 `TruthSummary` table to create a training set of galaxies with \"known\" redshifts and _ugrizy_ photometry with observed apparent magnitude errors that represent the 10-year depth of the wide-fast-deep area.\n",
    "\n",
    "### 1.1. Import packages"
   ]
  },
  {
   "cell_type": "code",
   "execution_count": null,
   "id": "27683ce9-5065-4f53-99b2-9d094eba74a7",
   "metadata": {},
   "outputs": [],
   "source": [
    "import matplotlib.pyplot as plt\n",
    "import numpy as np\n",
    "import pandas\n",
    "from lsst.rsp import get_tap_service, retrieve_query"
   ]
  },
  {
   "cell_type": "markdown",
   "id": "072ea4c1-805a-4d46-b701-24e0b091147e",
   "metadata": {},
   "source": [
    "### 1.2. Define parameters"
   ]
  },
  {
   "cell_type": "code",
   "execution_count": null,
   "id": "b5ad4f19-c913-4e00-98f3-e08977c7ffa0",
   "metadata": {},
   "outputs": [],
   "source": [
    "pandas.set_option('display.max_rows', 200)\n",
    "%matplotlib inline\n",
    "service = get_tap_service()"
   ]
  },
  {
   "cell_type": "code",
   "execution_count": null,
   "id": "09b6c870-9596-4869-aa74-3d86206c2acc",
   "metadata": {},
   "outputs": [],
   "source": [
    "plot_filter_labels = ['u', 'g', 'r', 'i', 'z', 'y']\n",
    "plot_filter_colors = {'u': '#56b4e9', 'g': '#008060', 'r': '#ff4000',\n",
    "                      'i': '#850000', 'z': '#6600cc', 'y': '#000000'}\n",
    "plot_filter_symbols = {'u': 'o', 'g': '^', 'r': 'v', 'i': 's', 'z': '*', 'y': 'p'}"
   ]
  },
  {
   "cell_type": "markdown",
   "id": "7e502a86-50fe-42ad-9bf4-bbd4f8004a68",
   "metadata": {},
   "source": [
    "## 2. Obtain a couple million true galaxies\n",
    "\n",
    "Retrieve the RA, Declination, true redshift, and true fluxes (without Milky Way extinction; i.e., dereddened) from the `TruthSummary` table.\n",
    "\n",
    "This query takes about a minute."
   ]
  },
  {
   "cell_type": "code",
   "execution_count": null,
   "id": "cbe12b30-e6f4-414f-954c-8dec63cdfef3",
   "metadata": {},
   "outputs": [],
   "source": [
    "%%time\n",
    "query = \"SELECT ra, dec, redshift, \"\\\n",
    "        \"flux_u_noMW, flux_g_noMW, flux_r_noMW, flux_i_noMW, flux_z_noMW, flux_y_noMW \"\\\n",
    "        \"FROM dp02_dc2_catalogs.TruthSummary \"\\\n",
    "        \"WHERE CONTAINS(POINT('ICRS', ra, dec), CIRCLE('ICRS', 54.0, -30.5, 0.6)) = 1 \"\\\n",
    "        \"AND truth_type = 1\"\n",
    "print(query)\n",
    "print(' ')\n",
    "results = service.search(query).to_table().to_pandas()\n",
    "print('len(results) = ', len(results))"
   ]
  },
  {
   "cell_type": "markdown",
   "id": "5f5aa556-2753-4458-be54-1f035aa0e8dc",
   "metadata": {},
   "source": [
    "Show the true redshift distribution and the on-sky spatial distribution."
   ]
  },
  {
   "cell_type": "code",
   "execution_count": null,
   "id": "e204cf46-b347-4ef1-b589-6e1fb8543587",
   "metadata": {},
   "outputs": [],
   "source": [
    "fig = plt.figure(figsize=(6, 3))\n",
    "plt.hist(results['redshift'], bins=30, histtype='step', color='grey')\n",
    "plt.xlabel('true redshift')\n",
    "plt.ylabel('# galaxies')\n",
    "plt.show()"
   ]
  },
  {
   "cell_type": "code",
   "execution_count": null,
   "id": "3f7bfb08-5e1a-4346-9feb-d5b7aa4c1294",
   "metadata": {},
   "outputs": [],
   "source": [
    "fig = plt.figure(figsize=(4, 4))\n",
    "plt.plot(results['ra'], results['dec'], '.', ms=1, alpha=0.02, mew=0)\n",
    "plt.xlabel('RA [deg]')\n",
    "plt.ylabel('Dec [deg]')\n",
    "plt.show()"
   ]
  },
  {
   "cell_type": "markdown",
   "id": "cb13be5c-2570-4708-b2d0-06c55dfe37a2",
   "metadata": {},
   "source": [
    "Convert true fluxes (nJy) to true AB magnitudes and show the distribution by filter."
   ]
  },
  {
   "cell_type": "code",
   "execution_count": null,
   "id": "63c6020e-1683-46fa-90af-d9bc828a3db5",
   "metadata": {},
   "outputs": [],
   "source": [
    "for f, filt in enumerate(plot_filter_labels):\n",
    "    results['mag_'+filt+'_noMW'] = -2.5 * np.log10(results['flux_'+filt+'_noMW']) + 31.4"
   ]
  },
  {
   "cell_type": "code",
   "execution_count": null,
   "id": "b75bd75a-8f6e-4822-9d93-a9a37b5cdac8",
   "metadata": {},
   "outputs": [],
   "source": [
    "fig = plt.figure(figsize=(6, 3))\n",
    "for f, filt in enumerate(plot_filter_labels):\n",
    "    plt.hist(results['mag_'+filt+'_noMW'], bins=30, histtype='step', \n",
    "             log=True, color=plot_filter_colors[filt], label=filt)\n",
    "plt.legend(loc='upper right', fontsize=6, ncol=2)\n",
    "plt.xlim([36, 13])\n",
    "plt.xlabel('mag')\n",
    "plt.ylabel('log N')\n",
    "plt.show()"
   ]
  },
  {
   "cell_type": "markdown",
   "id": "8d53204d-ac8b-4544-9dee-30ffffe144de",
   "metadata": {},
   "source": [
    "### 2.1. Create simulated observed photometry\n",
    "\n",
    "Use the 10-year depths ($5\\sigma$ limiting magnitudes) for the LSST wide-fast-deep survey from <a href=\"https://ui.adsabs.harvard.edu/abs/2019ApJ...873..111I/abstract\">Ivezić et al. (2019)</a> to calculate magnitude uncertaintites. \n",
    "\n",
    "The photometric error, $\\sigma_{\\rm rand}$, is given in Section 3.2.1 of Ivezić et al. (2019):\n",
    "\n",
    "$$ \\sigma_{\\rm rand}^2 = (0.04 − \\gamma)x + \\gamma x^2 $$\n",
    "\n",
    "where $ x = 10^{0.4(m - m_5)}$, $m_5$ is the $5\\sigma$ limiting magnitude, $m$ is the magnitude of a galaxy, and for the LSST optical filters the values for $\\gamma$ (which sets the impact of, e.g., sky brightness) are 0.037, 0.038, 0.039, 0.039, 0.04, and 0.04 for filters _ugrizy_, respectively.\n",
    "\n",
    "Apply an uncertainty floor of 0.005. \n",
    "\n",
    "Any galaxy with a simulated uncertainty >0.2 mag is of too poor photometric quality to contribute to the training set, so the value of `mag_f_noMW_err` is reset to `NaN` and this galaxy is not used."
   ]
  },
  {
   "cell_type": "code",
   "execution_count": null,
   "id": "2de747bc-c60c-4853-9ef2-450a3e80d0bd",
   "metadata": {},
   "outputs": [],
   "source": [
    "m5 = [26.09, 27.38, 27.53, 26.83, 26.06, 24.86]\n",
    "gamma = [0.037, 0.038, 0.039, 0.039, 0.04, 0.04]"
   ]
  },
  {
   "cell_type": "code",
   "execution_count": null,
   "id": "a21782ce-e7bc-4bae-aa1d-13ec7455f52a",
   "metadata": {},
   "outputs": [],
   "source": [
    "for f, filt in enumerate(plot_filter_labels):\n",
    "    temp = np.power(10, 0.4*(results['mag_'+filt+'_noMW'] - m5[f]))\n",
    "    results['mag_'+filt+'_noMW_err'] = np.sqrt( (0.04-gamma[f])*temp + (gamma[f]*temp**2) )\n",
    "    del temp\n",
    "    \n",
    "    tx = np.where(results.loc[:, 'mag_'+filt+'_noMW_err'] < 0.005)[0]\n",
    "    results.loc[tx, 'mag_'+filt+'_noMW_err'] = 0.005\n",
    "    del tx\n",
    "    \n",
    "    tx = np.where(results.loc[:, 'mag_'+filt+'_noMW_err'] > 0.2)[0]\n",
    "    results.loc[tx, 'mag_'+filt+'_noMW_err'] = float('NaN')\n",
    "    del tx"
   ]
  },
  {
   "cell_type": "markdown",
   "id": "fbf9b7b1-63b7-43bf-84be-c0e460f589cf",
   "metadata": {},
   "source": [
    "To generate observed apparent magnitudes, a random value drawn from a normal distribution with a standard deviation equal to the photometric error for each galaxy is added to the true catalog magnitude.\n",
    "\n",
    "At the same time, ensure that all galaxies with photometric errors of `NaN` also have observed magnitudes of `NaN`."
   ]
  },
  {
   "cell_type": "code",
   "execution_count": null,
   "id": "35200655-13d0-415e-bc7e-7f335281003f",
   "metadata": {},
   "outputs": [],
   "source": [
    "for f, filt in enumerate(plot_filter_labels):\n",
    "    results['mag_'+filt+'_noMW_obs'] = results['mag_'+filt+'_noMW'] + \\\n",
    "                                       (np.random.normal(size=len(results)) * \\\n",
    "                                        results['mag_'+filt+'_noMW_err'])\n",
    "    \n",
    "    tx = np.where(np.isnan(results.loc[:, 'mag_'+filt+'_noMW_err']))[0]\n",
    "    results.loc[tx, 'mag_'+filt+'_noMW_obs'] = float('NaN')\n",
    "    del tx"
   ]
  },
  {
   "cell_type": "markdown",
   "id": "8f9cd1ee-9375-4884-aa82-347e390447d4",
   "metadata": {},
   "source": [
    "### 2.2. Apply detection limits to create training set\n",
    "\n",
    "Apply detection limits by setting the observed apparent magnitudes of any galaxy fainter than the 5-sigma limiting magnitude (10-year depth), or brighter than 17th magnitude in any filter (the saturation limit for LSST will be ~16 mag), to `NaN`."
   ]
  },
  {
   "cell_type": "code",
   "execution_count": null,
   "id": "af6b2818-a78a-4d8e-a352-1c7398e4d003",
   "metadata": {},
   "outputs": [],
   "source": [
    "for f, filt in enumerate(plot_filter_labels):\n",
    "    tx = np.where(results.loc[:, 'mag_'+filt+'_noMW_obs'] > m5[f])[0]\n",
    "    results.loc[tx, 'mag_'+filt+'_noMW_obs'] = float('NaN')\n",
    "    del tx\n",
    "\n",
    "    tx = np.where(results.loc[:, 'mag_'+filt+'_noMW_obs'] < 17.0)[0]\n",
    "    results.loc[tx, 'mag_'+filt+'_noMW_obs'] = float('NaN')\n",
    "    del tx"
   ]
  },
  {
   "cell_type": "markdown",
   "id": "48dd0d7a-ae96-4afb-9ad4-1a9313f48f70",
   "metadata": {},
   "source": [
    "Print the fraction of the original set of galaxies that remain in the training set."
   ]
  },
  {
   "cell_type": "code",
   "execution_count": null,
   "id": "cd98b383-fd80-4834-a1ee-6ec2de6a4245",
   "metadata": {},
   "outputs": [],
   "source": [
    "for f, filt in enumerate(plot_filter_labels):\n",
    "    tx = np.where(np.isfinite(results.loc[:, 'mag_'+filt+'_noMW_obs']))[0]\n",
    "    print('%1s %6i %8i %5.2f' % (filt, len(tx), len(results), float(len(tx))/float(len(results))))\n",
    "    del tx"
   ]
  },
  {
   "cell_type": "markdown",
   "id": "12c47516-5e24-4734-8f76-6e37f149212d",
   "metadata": {},
   "source": [
    "### 2.3. Print to file\n",
    "\n",
    "Print the true galaxy to the file of all training set galaxies if it was \"detected\" (based on the simulated observed apparent magnitudes) in all four filters _griz_.\n",
    "\n",
    "This takes about 30 seconds."
   ]
  },
  {
   "cell_type": "code",
   "execution_count": null,
   "id": "fba33dff-996a-4a25-8686-98f2131f80d3",
   "metadata": {},
   "outputs": [],
   "source": [
    "%%time\n",
    "\n",
    "tx = np.where(np.isfinite(results.loc[:, 'mag_g_noMW_obs'])\n",
    "              & np.isfinite(results.loc[:, 'mag_r_noMW_obs'])\n",
    "              & np.isfinite(results.loc[:, 'mag_i_noMW_obs'])\n",
    "              & np.isfinite(results.loc[:, 'mag_z_noMW_obs']))[0]\n",
    "print('number detected in griz = ', len(tx))\n",
    "print(' ')\n",
    "\n",
    "fout = open('pz_training_set.txt', 'w')\n",
    "for x in tx:\n",
    "    fout.write('%8.6f %10.6f %7.5f %7.4f %7.4f %7.4f %7.4f %7.4f %7.4f %7.4f %7.4f %7.4f %7.4f %7.4f %7.4f \\n' % \n",
    "               (results.loc[x, 'ra'], results.loc[x, 'dec'], \n",
    "                results.loc[x, 'redshift'],\n",
    "                results.loc[x, 'mag_u_noMW_obs'], results.loc[x, 'mag_g_noMW_obs'],\n",
    "                results.loc[x, 'mag_r_noMW_obs'], results.loc[x, 'mag_i_noMW_obs'],\n",
    "                results.loc[x, 'mag_z_noMW_obs'], results.loc[x, 'mag_y_noMW_obs'],\n",
    "                results.loc[x, 'mag_u_noMW_err'], results.loc[x, 'mag_g_noMW_err'],\n",
    "                results.loc[x, 'mag_r_noMW_err'], results.loc[x, 'mag_i_noMW_err'],\n",
    "                results.loc[x, 'mag_z_noMW_err'], results.loc[x, 'mag_y_noMW_err']))\n",
    "fout.close()\n",
    "del tx"
   ]
  },
  {
   "cell_type": "markdown",
   "id": "c2d0a742-d82a-4e7b-b89c-d25c87f09f35",
   "metadata": {},
   "source": [
    "## 3. Explore training set with plots\n",
    "\n",
    "To better understand the contents of the training set, make a few plots of the magnitude and redshift distributions.\n",
    "\n",
    "### 3.1. Review the magnitude distributions of the training set\n",
    "\n",
    "Compare the distribution of original true apparent magnitudes (wide transparent lines) to the distribution of simulated observed apparent magnitudes of galaxies that would be detected (narrow opaque lines)."
   ]
  },
  {
   "cell_type": "code",
   "execution_count": null,
   "id": "332b5242-e9e7-4ec3-89a3-45f810a08767",
   "metadata": {},
   "outputs": [],
   "source": [
    "fig = plt.figure(figsize=(6, 3))\n",
    "for f, filt in enumerate(plot_filter_labels):\n",
    "    plt.hist(results['mag_'+filt+'_noMW'], bins=30, histtype='step', log=True, \n",
    "             lw=3, alpha=0.2, color=plot_filter_colors[filt], label=filt+' sim')\n",
    "    plt.hist(results['mag_'+filt+'_noMW_obs'], bins=30, histtype='step', log=True, \n",
    "             lw=1, alpha=1, color=plot_filter_colors[filt], label=filt+' obs')\n",
    "plt.legend(loc='upper right', fontsize=6, ncol=2)\n",
    "plt.xlim([36, 13])\n",
    "plt.xlabel('mag')\n",
    "plt.ylabel('log N')\n",
    "plt.show()"
   ]
  },
  {
   "cell_type": "markdown",
   "id": "74cbc2c6-837a-4aab-a568-212627592abc",
   "metadata": {},
   "source": [
    "### 3.2. Review the redshift distribution of the training set\n",
    "\n",
    "It is desirable for the training set to have a redshift distribution that is representative of the `Objects` catalog (i.e., the set of galaxies for which photometric redshifts are to be calculated).\n",
    "\n",
    "The DC2 simulation contained many faint galaxies, and the plot below shows how removing them changes the redshift distribution of the training set compared to what was originally retrieved from the `TruthSummary` table."
   ]
  },
  {
   "cell_type": "code",
   "execution_count": null,
   "id": "0eb6d274-83af-46ca-b331-45a766c4ddde",
   "metadata": {},
   "outputs": [],
   "source": [
    "fig = plt.figure(figsize=(6, 3))\n",
    "plt.hist(results['redshift'], bins=30, histtype='step', lw=4, alpha=0.5,\n",
    "         color='grey', label='original')\n",
    "for f, filt in enumerate(plot_filter_labels):\n",
    "    tx = np.where(np.isfinite(results.loc[:, 'mag_'+filt+'_noMW_obs']))[0]\n",
    "    plt.hist(results.loc[tx, 'redshift'], bins=30, histtype='step', \n",
    "             color=plot_filter_colors[filt], label=filt)\n",
    "    del tx\n",
    "plt.xlabel('true redshift')\n",
    "plt.ylabel('# galaxies')\n",
    "plt.legend(loc='best', ncol=2, fontsize=8)\n",
    "plt.show()"
   ]
  },
  {
   "cell_type": "markdown",
   "id": "82a97de2-0d06-4e8a-a8d1-8c3a6bcc8d9a",
   "metadata": {},
   "source": [
    "Above shows a number distribution, but below use `density = True` (probability density: each bin will display the bin's raw count divided by the total number of counts and the bin width, so that the area under the histogram integrates to 1)."
   ]
  },
  {
   "cell_type": "code",
   "execution_count": null,
   "id": "67439bf9-75ab-47b3-bc29-e1ddb4c979e0",
   "metadata": {},
   "outputs": [],
   "source": [
    "fig = plt.figure(figsize=(6, 3))\n",
    "plt.hist(results['redshift'], bins=30, histtype='step', lw=4, alpha=0.5,\n",
    "         color='grey', density=True, label='original')\n",
    "for f, filt in enumerate(plot_filter_labels):\n",
    "    tx = np.where(np.isfinite(results.loc[:, 'mag_'+filt+'_noMW_obs']))[0]\n",
    "    plt.hist(results.loc[tx, 'redshift'], bins=30, histtype='step', density=True,\n",
    "             color=plot_filter_colors[filt], label=filt)\n",
    "    del tx\n",
    "plt.xlabel('true redshift')\n",
    "plt.ylabel('fraction of galaxies')\n",
    "plt.legend(loc='best', ncol=2, fontsize=8)\n",
    "plt.show()"
   ]
  },
  {
   "cell_type": "markdown",
   "id": "11add436-2f98-4edd-9388-29f8ce687f55",
   "metadata": {},
   "source": [
    "As above, but comparing the original redshift distribution to that for all galaxies with simulated detected observed apparent magnitude in all four filters _griz_ (solid; matches what was printed to the training set file), and in any of those four (dashed)."
   ]
  },
  {
   "cell_type": "code",
   "execution_count": null,
   "id": "d806bac7-313c-4f43-b54b-45903c6d6064",
   "metadata": {},
   "outputs": [],
   "source": [
    "fig = plt.figure(figsize=(6, 3))\n",
    "\n",
    "plt.hist(results['redshift'], bins=30, histtype='step', lw=4, alpha=0.5,\n",
    "         color='grey', density=True, label='original')\n",
    "\n",
    "tx = np.where(np.isfinite(results.loc[:, 'mag_g_noMW_obs'])\n",
    "              & np.isfinite(results.loc[:, 'mag_r_noMW_obs'])\n",
    "              & np.isfinite(results.loc[:, 'mag_i_noMW_obs'])\n",
    "              & np.isfinite(results.loc[:, 'mag_z_noMW_obs']))[0]\n",
    "plt.hist(results.loc[tx, 'redshift'], bins=30, histtype='step', density=True,\n",
    "         color='black', label='all griz')\n",
    "del tx\n",
    "\n",
    "tx = np.where(np.isfinite(results.loc[:, 'mag_g_noMW_obs'])\n",
    "              | np.isfinite(results.loc[:, 'mag_r_noMW_obs'])\n",
    "              | np.isfinite(results.loc[:, 'mag_i_noMW_obs'])\n",
    "              | np.isfinite(results.loc[:, 'mag_z_noMW_obs']))[0]\n",
    "plt.hist(results.loc[tx, 'redshift'], bins=30, histtype='step', density=True,\n",
    "         color='black', ls='dashed', label='any griz')\n",
    "del tx\n",
    "\n",
    "plt.xlabel('true redshift')\n",
    "plt.ylabel('fraction of galaxies')\n",
    "plt.legend(loc='best', fontsize=8)\n",
    "plt.show()"
   ]
  },
  {
   "cell_type": "markdown",
   "id": "4f693cb8-2e9e-43ae-b568-7c2cde2af146",
   "metadata": {},
   "source": [
    "### 3.3. Compare to the redshift distribution of matched objects\n",
    "\n",
    "Retrieve the set of true galaxies in the same small area which were matched to an `Object`.\n",
    "\n",
    "**This query takes about 15 minutes.**"
   ]
  },
  {
   "cell_type": "code",
   "execution_count": null,
   "id": "7be8121e-013b-4d3a-985f-6f2932cf3905",
   "metadata": {},
   "outputs": [],
   "source": [
    "%%time\n",
    "query = \"SELECT mt.id_truth_type, mt.match_objectId, ts.redshift, ts.truth_type, \"\\\n",
    "        \"obj.g_cModelFlux, obj.r_cModelFlux, obj.i_cModelFlux, obj.z_cModelFlux \"\\\n",
    "        \"FROM dp02_dc2_catalogs.MatchesTruth AS mt \"\\\n",
    "        \"JOIN dp02_dc2_catalogs.TruthSummary AS ts ON mt.id_truth_type = ts.id_truth_type \"\\\n",
    "        \"JOIN dp02_dc2_catalogs.Object AS obj ON mt.match_objectId = obj.objectId \"\\\n",
    "        \"WHERE CONTAINS(POINT('ICRS', ts.ra, ts.dec), CIRCLE('ICRS', 54.0, -30.5, 0.6)) = 1 \"\n",
    "print(query)\n",
    "print(' ')\n",
    "matched = service.search(query).to_table().to_pandas()\n",
    "print(len(matched))\n",
    "print(' ')"
   ]
  },
  {
   "cell_type": "markdown",
   "id": "a6565876-6843-45a5-86db-e52ac5069be3",
   "metadata": {},
   "source": [
    "<br>\n",
    "\n",
    "Add the redshift distribution for all galaxies matched to the `Object` catalog and **\"detected\"** in the 6-year `deepCoadd` in all four filters _griz_ (red dotted).\n",
    "\n",
    "**Note that below \"detected\" means \"has a flux greater than `f5`, the flux corresponding to the 10-year 5-sigma limiting magnitude (`m5`)\".** "
   ]
  },
  {
   "cell_type": "code",
   "execution_count": null,
   "id": "25191408-df81-4462-bfa7-f194d6a74eb5",
   "metadata": {},
   "outputs": [],
   "source": [
    "print(m5)\n",
    "temp = np.asarray(m5, dtype='float')\n",
    "f5 = np.zeros(6, dtype='float')\n",
    "f5 = np.power(10, (temp - 31.4) / (-2.5))\n",
    "print(f5)\n",
    "del temp"
   ]
  },
  {
   "cell_type": "code",
   "execution_count": null,
   "id": "80f19008-3530-4f19-9415-cd53c2f92ba1",
   "metadata": {},
   "outputs": [],
   "source": [
    "fig = plt.figure(figsize=(6, 3))\n",
    "\n",
    "plt.hist(results['redshift'], bins=30, histtype='step', lw=4, alpha=0.5,\n",
    "         color='grey', density=True, label='original')\n",
    "\n",
    "tx = np.where(np.isfinite(results.loc[:, 'mag_g_noMW_obs'])\n",
    "              & np.isfinite(results.loc[:, 'mag_r_noMW_obs'])\n",
    "              & np.isfinite(results.loc[:, 'mag_i_noMW_obs'])\n",
    "              & np.isfinite(results.loc[:, 'mag_z_noMW_obs']))[0]\n",
    "plt.hist(results.loc[tx, 'redshift'], bins=30, histtype='step', density=True,\n",
    "         color='black', label='all griz (training set)')\n",
    "del tx\n",
    "\n",
    "tx = np.where(np.isfinite(results.loc[:, 'mag_g_noMW_obs'])\n",
    "              | np.isfinite(results.loc[:, 'mag_r_noMW_obs'])\n",
    "              | np.isfinite(results.loc[:, 'mag_i_noMW_obs'])\n",
    "              | np.isfinite(results.loc[:, 'mag_z_noMW_obs']))[0]\n",
    "plt.hist(results.loc[tx, 'redshift'], bins=30, histtype='step', density=True,\n",
    "         color='black', ls='dashed', label='any griz')\n",
    "del tx\n",
    "\n",
    "tx = np.where((matched.loc[:, 'truth_type'] == 1) \n",
    "              & (matched.loc[:, 'g_cModelFlux'] > f5[1]) \n",
    "              & (matched.loc[:, 'r_cModelFlux'] > f5[2]) \n",
    "              & (matched.loc[:, 'i_cModelFlux'] > f5[3]) \n",
    "              & (matched.loc[:, 'z_cModelFlux'] > f5[4]))[0]\n",
    "plt.hist(matched.loc[tx, 'redshift'], bins=30, histtype='step', density=True,\n",
    "         color='red', lw=2, ls='dotted', label='matched, all griz')\n",
    "del tx\n",
    "\n",
    "plt.xlabel('true redshift')\n",
    "plt.ylabel('fraction of galaxies')\n",
    "plt.legend(loc='best', fontsize=8)\n",
    "plt.show()"
   ]
  },
  {
   "cell_type": "markdown",
   "id": "c800d894-c497-45ac-80e3-ba1cb026dd7e",
   "metadata": {},
   "source": [
    "Above we can see that the redshift distribution of the training set (solid black line) is pretty similar to the redshift distribution of detected objects (red dashed line) for which one would conceivably want to measure photometric redshifts for.\n",
    "\n",
    "This means that -- with the exception of effects caused by cosmic variance -- the training set is \"representative\"."
   ]
  },
  {
   "cell_type": "markdown",
   "id": "fde0800d-0285-4b33-8200-a5025a639a2d",
   "metadata": {},
   "source": [
    "## 4. Quantify effect of cosmic variance\n",
    "\n",
    "Do four similar queries using the same area as was used to make the training set, and compare the redshift distributions.\n",
    "\n",
    "The difference between the four distributions demonstrates the effect of cosmic variance from using a small area on the sky to generate a training set.\n",
    "\n",
    "Each query takes about a minute to execute."
   ]
  },
  {
   "cell_type": "code",
   "execution_count": null,
   "id": "6b76a417-7c42-4746-a950-6cbb047805fb",
   "metadata": {},
   "outputs": [],
   "source": [
    "%%time\n",
    "query = \"SELECT redshift, flux_g_noMW, flux_r_noMW, flux_i_noMW, flux_z_noMW \"\\\n",
    "        \"FROM dp02_dc2_catalogs.TruthSummary \"\\\n",
    "        \"WHERE CONTAINS(POINT('ICRS', ra, dec), CIRCLE('ICRS', 56.0, -30.5, 0.6)) = 1 \"\\\n",
    "        \"AND truth_type = 1\"\n",
    "temp1 = service.search(query).to_table().to_pandas()"
   ]
  },
  {
   "cell_type": "code",
   "execution_count": null,
   "id": "9887bb79-e2f2-4af0-b250-89c5a3703d0a",
   "metadata": {},
   "outputs": [],
   "source": [
    "%%time\n",
    "query = \"SELECT redshift, flux_g_noMW, flux_r_noMW, flux_i_noMW, flux_z_noMW \"\\\n",
    "        \"FROM dp02_dc2_catalogs.TruthSummary \"\\\n",
    "        \"WHERE CONTAINS(POINT('ICRS', ra, dec), CIRCLE('ICRS', 67.0, -32.5, 0.6)) = 1 \"\\\n",
    "        \"AND truth_type = 1\"\n",
    "temp2 = service.search(query).to_table().to_pandas()"
   ]
  },
  {
   "cell_type": "code",
   "execution_count": null,
   "id": "1460e168-36a9-4be1-a5cc-1dd1416a41d0",
   "metadata": {},
   "outputs": [],
   "source": [
    "%%time\n",
    "query = \"SELECT redshift, flux_g_noMW, flux_r_noMW, flux_i_noMW, flux_z_noMW \"\\\n",
    "        \"FROM dp02_dc2_catalogs.TruthSummary \"\\\n",
    "        \"WHERE CONTAINS(POINT('ICRS', ra, dec), CIRCLE('ICRS', 57.0, -37.5, 0.6)) = 1 \"\\\n",
    "        \"AND truth_type = 1\"\n",
    "temp3 = service.search(query).to_table().to_pandas()"
   ]
  },
  {
   "cell_type": "code",
   "execution_count": null,
   "id": "e4061c43-a8cf-4a74-a6f2-051ae46b7a3e",
   "metadata": {},
   "outputs": [],
   "source": [
    "%%time\n",
    "query = \"SELECT redshift, flux_g_noMW, flux_r_noMW, flux_i_noMW, flux_z_noMW \"\\\n",
    "        \"FROM dp02_dc2_catalogs.TruthSummary \"\\\n",
    "        \"WHERE CONTAINS(POINT('ICRS', ra, dec), CIRCLE('ICRS', 63.0, -41.5, 0.6)) = 1 \"\\\n",
    "        \"AND truth_type = 1\"\n",
    "temp4 = service.search(query).to_table().to_pandas()"
   ]
  },
  {
   "cell_type": "code",
   "execution_count": null,
   "id": "7e6fe405-4485-4efd-a703-770f10b072f3",
   "metadata": {},
   "outputs": [],
   "source": [
    "fig = plt.figure(figsize=(6, 3))\n",
    "\n",
    "plt.hist(results['redshift'], bins=30, histtype='step', lw=4, alpha=0.5,\n",
    "         color='grey', density=True, label='original')\n",
    "\n",
    "tx = np.where((temp1.loc[:, 'flux_g_noMW'] > f5[1])\n",
    "             & (temp1.loc[:, 'flux_r_noMW'] > f5[2])\n",
    "             & (temp1.loc[:, 'flux_i_noMW'] > f5[3])\n",
    "             & (temp1.loc[:, 'flux_z_noMW'] > f5[4]))[0]\n",
    "plt.hist(temp1.loc[tx, 'redshift'], bins=30, histtype='step', density=True, color='black')\n",
    "del tx\n",
    "\n",
    "tx = np.where((temp2.loc[:, 'flux_g_noMW'] > f5[1])\n",
    "             & (temp2.loc[:, 'flux_r_noMW'] > f5[2])\n",
    "             & (temp2.loc[:, 'flux_i_noMW'] > f5[3])\n",
    "             & (temp2.loc[:, 'flux_z_noMW'] > f5[4]))[0]\n",
    "plt.hist(temp2.loc[tx, 'redshift'], bins=30, histtype='step', density=True, color='black')\n",
    "del tx\n",
    "\n",
    "tx = np.where((temp3.loc[:, 'flux_g_noMW'] > f5[1])\n",
    "             & (temp3.loc[:, 'flux_r_noMW'] > f5[2])\n",
    "             & (temp3.loc[:, 'flux_i_noMW'] > f5[3])\n",
    "             & (temp3.loc[:, 'flux_z_noMW'] > f5[4]))[0]\n",
    "plt.hist(temp3.loc[tx, 'redshift'], bins=30, histtype='step', density=True, color='black')\n",
    "del tx\n",
    "\n",
    "tx = np.where((temp4.loc[:, 'flux_g_noMW'] > f5[1])\n",
    "             & (temp4.loc[:, 'flux_r_noMW'] > f5[2])\n",
    "             & (temp4.loc[:, 'flux_i_noMW'] > f5[3])\n",
    "             & (temp4.loc[:, 'flux_z_noMW'] > f5[4]))[0]\n",
    "plt.hist(temp4.loc[tx, 'redshift'], bins=30, histtype='step', density=True, color='black')\n",
    "del tx\n",
    "\n",
    "plt.xlabel('true redshift')\n",
    "plt.ylabel('fraction of galaxies')\n",
    "plt.legend(loc='best', fontsize=8)\n",
    "plt.show()"
   ]
  },
  {
   "cell_type": "markdown",
   "id": "d27a3abb-cdf3-459f-8bab-34b3e0a4e82a",
   "metadata": {},
   "source": [
    "Above we can see that some redshift bins around z=1 have 20% more or less galaxies in them, due to large scale structure along the sightline. \n",
    "\n",
    "Any photo-z estimator that uses N(z) is going to have its results affected by the N(z) profile along the line-of-sight for the training set."
   ]
  },
  {
   "cell_type": "code",
   "execution_count": null,
   "id": "b1aeb020-90da-425f-80b1-354eb81544c3",
   "metadata": {},
   "outputs": [],
   "source": []
  }
 ],
 "metadata": {
  "kernelspec": {
   "display_name": "LSST",
   "language": "python",
   "name": "lsst"
  },
  "language_info": {
   "codemirror_mode": {
    "name": "ipython",
    "version": 3
   },
   "file_extension": ".py",
   "mimetype": "text/x-python",
   "name": "python",
   "nbconvert_exporter": "python",
   "pygments_lexer": "ipython3",
   "version": "3.10.5"
  }
 },
 "nbformat": 4,
 "nbformat_minor": 5
}
