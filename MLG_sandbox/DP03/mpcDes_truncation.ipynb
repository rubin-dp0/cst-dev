{
 "cells": [
  {
   "cell_type": "markdown",
   "id": "f9e74220-832e-4782-a23b-91bd9ac0d323",
   "metadata": {},
   "source": [
    "Check on the reported issue with truncation.\n",
    "\n",
    "What kind of string length would be sufficient?"
   ]
  },
  {
   "cell_type": "code",
   "execution_count": null,
   "id": "05f96417-0c74-4b00-822c-4ce0a835d6db",
   "metadata": {},
   "outputs": [],
   "source": [
    "import numpy as np\n",
    "from lsst.rsp import get_tap_service"
   ]
  },
  {
   "cell_type": "code",
   "execution_count": null,
   "id": "d1d1ef34-3101-4b8c-82b2-da360670febe",
   "metadata": {},
   "outputs": [],
   "source": [
    "service = get_tap_service(\"ssotap\")"
   ]
  },
  {
   "cell_type": "code",
   "execution_count": null,
   "id": "d77bfeb1-9edd-4453-9c9e-1b527b950ffe",
   "metadata": {},
   "outputs": [],
   "source": [
    "query = '''SELECT fullDesignation,mpcDesignation,ssObjectId \n",
    "           FROM dp03_catalogs_10yr.MPCORB \n",
    "           WHERE (ssObjectId > 9000000000000000000)'''"
   ]
  },
  {
   "cell_type": "code",
   "execution_count": null,
   "id": "8103ed9f-c5e6-414d-bc93-6e430ebba433",
   "metadata": {},
   "outputs": [],
   "source": [
    "results = service.search(query).to_table()\n",
    "results"
   ]
  },
  {
   "cell_type": "code",
   "execution_count": null,
   "id": "f3a0f700-876c-4457-9803-fb4abf03462c",
   "metadata": {},
   "outputs": [],
   "source": [
    "tmp1 = []\n",
    "tmp2 = []\n",
    "for i in range(len(results)):\n",
    "    tmp1.append(len(str(results['mpcDesignation'][i])))\n",
    "    tmp2.append(len(str(results['fullDesignation'][i])))\n",
    "\n",
    "results['mpcDes_len'] = np.asarray(tmp1, dtype='int')\n",
    "results['fullDes_len'] = np.asarray(tmp2, dtype='int')\n",
    "results['fullDes_len_m5'] = np.asarray(tmp2, dtype='int') - 5\n",
    "results['des_len_diff'] = results['fullDes_len_m5'] - results['mpcDes_len']\n",
    "del tmp1, tmp2"
   ]
  },
  {
   "cell_type": "code",
   "execution_count": null,
   "id": "989051ea-30c6-4f59-b56a-83d6d59b967c",
   "metadata": {},
   "outputs": [],
   "source": [
    "results"
   ]
  },
  {
   "cell_type": "code",
   "execution_count": null,
   "id": "0a8f2047-acdf-471d-9389-9c4d4818f0b5",
   "metadata": {},
   "outputs": [],
   "source": [
    "tx = np.where(results['fullDes_len_m5'] > 8)[0]\n",
    "print(len(tx))\n",
    "del tx"
   ]
  },
  {
   "cell_type": "code",
   "execution_count": null,
   "id": "22ed590b-ce4c-4c56-8ac9-77bb3c27a817",
   "metadata": {},
   "outputs": [],
   "source": [
    "tx = np.where(results['fullDes_len_m5'] > 8)[0]"
   ]
  },
  {
   "cell_type": "code",
   "execution_count": null,
   "id": "9d3069b8-732c-421e-b0d2-bb34d4cd4a93",
   "metadata": {},
   "outputs": [],
   "source": [
    "results[tx]"
   ]
  },
  {
   "cell_type": "code",
   "execution_count": null,
   "id": "102d5272-5eb4-4bee-a5dd-2b588e04e345",
   "metadata": {},
   "outputs": [],
   "source": [
    "print(np.max(results['fullDes_len_m5']))"
   ]
  },
  {
   "cell_type": "code",
   "execution_count": null,
   "id": "a5ce09bc-a277-41fe-8d41-349197926133",
   "metadata": {},
   "outputs": [],
   "source": []
  }
 ],
 "metadata": {
  "kernelspec": {
   "display_name": "LSST",
   "language": "python",
   "name": "lsst"
  },
  "language_info": {
   "codemirror_mode": {
    "name": "ipython",
    "version": 3
   },
   "file_extension": ".py",
   "mimetype": "text/x-python",
   "name": "python",
   "nbconvert_exporter": "python",
   "pygments_lexer": "ipython3",
   "version": "3.11.4"
  }
 },
 "nbformat": 4,
 "nbformat_minor": 5
}
