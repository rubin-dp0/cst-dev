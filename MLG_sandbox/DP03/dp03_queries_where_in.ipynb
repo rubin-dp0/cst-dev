{
 "cells": [
  {
   "cell_type": "markdown",
   "id": "f6b657ce-78fd-41a3-8a8a-12b56d463bd4",
   "metadata": {},
   "source": [
    "# A DP0.3 query option for Peter Veres\n",
    "\n",
    "Set up."
   ]
  },
  {
   "cell_type": "code",
   "execution_count": 1,
   "id": "c3d8d8ec-c3b4-43a4-939d-b831cfc189df",
   "metadata": {
    "execution": {
     "iopub.execute_input": "2023-11-28T01:33:31.658377Z",
     "iopub.status.busy": "2023-11-28T01:33:31.657976Z",
     "iopub.status.idle": "2023-11-28T01:33:32.223255Z",
     "shell.execute_reply": "2023-11-28T01:33:32.222545Z",
     "shell.execute_reply.started": "2023-11-28T01:33:31.658350Z"
    },
    "tags": []
   },
   "outputs": [],
   "source": [
    "import numpy as np\n",
    "# import matplotlib.pyplot as plt\n",
    "import pandas as pd\n",
    "from lsst.rsp import get_tap_service"
   ]
  },
  {
   "cell_type": "code",
   "execution_count": 2,
   "id": "8da51f4e-66a9-4562-8192-4bd676e94a25",
   "metadata": {
    "execution": {
     "iopub.execute_input": "2023-11-28T01:33:32.226413Z",
     "iopub.status.busy": "2023-11-28T01:33:32.226229Z",
     "iopub.status.idle": "2023-11-28T01:33:32.287977Z",
     "shell.execute_reply": "2023-11-28T01:33:32.287149Z",
     "shell.execute_reply.started": "2023-11-28T01:33:32.226395Z"
    },
    "tags": []
   },
   "outputs": [],
   "source": [
    "service = get_tap_service(\"ssotap\")"
   ]
  },
  {
   "cell_type": "markdown",
   "id": "7747843a-0c7b-49ff-af3c-72a4bcf0a26a",
   "metadata": {},
   "source": [
    "## triple join\n",
    "\n",
    "Do a triple-join version of the query, and check if duplicates from the `DiaSource` table are retrieved.\n",
    "\n",
    "The duplicate that Peter found was for `diaSourceId` = -1000014274337402402, and MJD 60528.09827.\n",
    "\n",
    "Use a smaller time range for a faster query."
   ]
  },
  {
   "cell_type": "code",
   "execution_count": 3,
   "id": "150be897-0e91-4d71-808f-a4f5feb16910",
   "metadata": {
    "execution": {
     "iopub.execute_input": "2023-11-28T01:33:32.291021Z",
     "iopub.status.busy": "2023-11-28T01:33:32.290830Z",
     "iopub.status.idle": "2023-11-28T01:34:24.550873Z",
     "shell.execute_reply": "2023-11-28T01:34:24.550011Z",
     "shell.execute_reply.started": "2023-11-28T01:33:32.291003Z"
    },
    "tags": []
   },
   "outputs": [
    {
     "data": {
      "text/html": [
       "<div><i>Table length=489613</i>\n",
       "<table id=\"table139681782992080\" class=\"table-striped table-bordered table-condensed\">\n",
       "<thead><tr><th>mpcDesignation</th><th>mpcNumber</th><th>ssObjectId</th><th>fullDesignation</th><th>midPointMjdTai</th><th>ra</th><th>dec</th><th>mag</th><th>band</th><th>eclipticBeta</th><th>eclipticLambda</th><th>phaseAngle</th><th>diaSourceId</th></tr></thead>\n",
       "<thead><tr><th></th><th></th><th></th><th></th><th>d</th><th>deg</th><th>deg</th><th></th><th></th><th>deg</th><th>deg</th><th>deg</th><th></th></tr></thead>\n",
       "<thead><tr><th>str8</th><th>int32</th><th>int64</th><th>str26</th><th>float64</th><th>float64</th><th>float64</th><th>float32</th><th>str1</th><th>float64</th><th>float64</th><th>float32</th><th>int64</th></tr></thead>\n",
       "<tr><td>S100doiQ</td><td>0</td><td>14169511631100</td><td>2011 S100doiQa</td><td>60528.0592</td><td>229.3505499</td><td>-16.0275999</td><td>23.164</td><td>r</td><td>2.1060307598130077</td><td>231.20537881859224</td><td>21.629921</td><td>4382560468718205905</td></tr>\n",
       "<tr><td>S100doiQ</td><td>0</td><td>14169511631100</td><td>2011 S100doiQa</td><td>60529.06054</td><td>229.5382768</td><td>-16.0738546</td><td>22.92</td><td>i</td><td>2.108042446276485</td><td>231.39173795036453</td><td>21.66337</td><td>8736066679182986999</td></tr>\n",
       "<tr><td>S100doiQ</td><td>0</td><td>14169511631100</td><td>2011 S100doiQa</td><td>60528.03517</td><td>229.3462406</td><td>-16.0264993</td><td>22.946</td><td>i</td><td>2.10601970086341</td><td>231.20109039548535</td><td>21.62895</td><td>-7505819655383129492</td></tr>\n",
       "<tr><td>S100doiQ</td><td>0</td><td>14169511631100</td><td>2011 S100doiQa</td><td>60529.03671</td><td>229.5338767</td><td>-16.0728115</td><td>23.174</td><td>r</td><td>2.1079579425901778</td><td>231.38738096037488</td><td>21.662514</td><td>-5177897605916232160</td></tr>\n",
       "<tr><td>2003 UC1</td><td>0</td><td>21630997438946</td><td>2011 2003 UC185</td><td>60527.20714</td><td>298.6265962</td><td>-23.396531</td><td>19.103</td><td>g</td><td>-2.514933413064907</td><td>296.1122459830124</td><td>9.253874</td><td>8843940056714935808</td></tr>\n",
       "<tr><td>S100mO5w</td><td>0</td><td>426219105868011</td><td>2011 S100mO5wa</td><td>60528.08927</td><td>245.0750437</td><td>-29.9528559</td><td>23.921</td><td>r</td><td>-8.368482838442976</td><td>248.3415560040466</td><td>17.39154</td><td>-8852318714543151457</td></tr>\n",
       "<tr><td>S1006ZLi</td><td>0</td><td>636383519099723</td><td>2011 S1006ZLia</td><td>60528.10052</td><td>255.3395264</td><td>4.7602977</td><td>21.603</td><td>i</td><td>27.36378396591178</td><td>253.50122252266763</td><td>15.228839</td><td>3683915390494606209</td></tr>\n",
       "<tr><td>S1006ZLi</td><td>0</td><td>636383519099723</td><td>2011 S1006ZLia</td><td>60528.07591</td><td>255.3410405</td><td>4.7643857</td><td>21.912</td><td>r</td><td>27.368016654285764</td><td>253.5023887973632</td><td>15.225852</td><td>-220250982522433581</td></tr>\n",
       "<tr><td>S100vzmr</td><td>0</td><td>638321569403210</td><td>2011 S100vzmra</td><td>60527.23187</td><td>301.6913488</td><td>-18.4934902</td><td>23.113</td><td>r</td><td>1.7170610854691415</td><td>299.8967197427676</td><td>6.229333</td><td>5439958994279187748</td></tr>\n",
       "<tr><td>...</td><td>...</td><td>...</td><td>...</td><td>...</td><td>...</td><td>...</td><td>...</td><td>...</td><td>...</td><td>...</td><td>...</td><td>...</td></tr>\n",
       "<tr><td>S100Yoga</td><td>0</td><td>-291251439100329</td><td>2011 S100Yogaa</td><td>60528.0583</td><td>227.4898142</td><td>-15.7406883</td><td>23.389</td><td>r</td><td>1.9100202474158487</td><td>229.40236897999443</td><td>33.366756</td><td>267643437893281197</td></tr>\n",
       "<tr><td>2007 PT1</td><td>0</td><td>-244073840526222</td><td>2011 2007 PT19</td><td>60527.97499</td><td>254.4874067</td><td>-29.7911639</td><td>21.442</td><td>r</td><td>-7.077367465965106</td><td>256.47400106235705</td><td>24.359657</td><td>-8159698378203849725</td></tr>\n",
       "<tr><td>S100Yoga</td><td>0</td><td>-291251439100329</td><td>2011 S100Yogaa</td><td>60528.03427</td><td>227.4812642</td><td>-15.7367384</td><td>22.924</td><td>i</td><td>1.9116112256731441</td><td>229.39337541219155</td><td>33.36543</td><td>6763474510384271287</td></tr>\n",
       "<tr><td>S10002T5</td><td>0</td><td>-218421596809988</td><td>2011 S10002T5a</td><td>60528.00758</td><td>222.3265348</td><td>-26.3231759</td><td>23.515</td><td>r</td><td>-9.60012795255932</td><td>227.77304162292083</td><td>20.830868</td><td>7754493938399297975</td></tr>\n",
       "<tr><td>2008 UR3</td><td>0</td><td>-11299012984443</td><td>2011 2008 UR368</td><td>60528.09108</td><td>245.117465</td><td>-25.6701793</td><td>20.963</td><td>r</td><td>-4.140752147041105</td><td>247.65244362540832</td><td>28.121733</td><td>-98640856388283817</td></tr>\n",
       "<tr><td>2008 UR3</td><td>0</td><td>-11299012984443</td><td>2011 2008 UR368</td><td>60528.09017</td><td>245.1172969</td><td>-25.6701098</td><td>20.946</td><td>r</td><td>-4.140709056832426</td><td>247.65228218080964</td><td>28.121561</td><td>-8728063012638663529</td></tr>\n",
       "<tr><td>2008 UR3</td><td>0</td><td>-11299012984443</td><td>2011 2008 UR368</td><td>60528.1156</td><td>245.1222003</td><td>-25.6719067</td><td>20.759</td><td>i</td><td>-4.141738937705923</td><td>247.65695264042975</td><td>28.12639</td><td>-3581554091940682851</td></tr>\n",
       "<tr><td>2008 UR3</td><td>0</td><td>-11299012984443</td><td>2011 2008 UR368</td><td>60528.1147</td><td>245.1220351</td><td>-25.6718453</td><td>20.762</td><td>i</td><td>-4.141703388932322</td><td>247.65679514509736</td><td>28.126219</td><td>-2609783627945665485</td></tr>\n",
       "<tr><td>S100DNZh</td><td>0</td><td>-174402636796036</td><td>2011 S100DNZha</td><td>60527.99452</td><td>210.6064812</td><td>-40.583959</td><td>22.856</td><td>r</td><td>-26.300002630284368</td><td>223.18699110860666</td><td>30.604088</td><td>-7290842090112811770</td></tr>\n",
       "<tr><td>S100DNZh</td><td>0</td><td>-174402636796036</td><td>2011 S100DNZha</td><td>60528.01968</td><td>210.6168777</td><td>-40.5853889</td><td>22.467</td><td>i</td><td>-26.29830909862096</td><td>223.1957399279256</td><td>30.604666</td><td>-597302077478075000</td></tr>\n",
       "</table></div>"
      ],
      "text/plain": [
       "<Table length=489613>\n",
       "mpcDesignation mpcNumber    ssObjectId    ... phaseAngle     diaSourceId     \n",
       "                                          ...    deg                         \n",
       "     str8        int32        int64       ...  float32          int64        \n",
       "-------------- --------- ---------------- ... ---------- --------------------\n",
       "      S100doiQ         0   14169511631100 ...  21.629921  4382560468718205905\n",
       "      S100doiQ         0   14169511631100 ...   21.66337  8736066679182986999\n",
       "      S100doiQ         0   14169511631100 ...   21.62895 -7505819655383129492\n",
       "      S100doiQ         0   14169511631100 ...  21.662514 -5177897605916232160\n",
       "      2003 UC1         0   21630997438946 ...   9.253874  8843940056714935808\n",
       "      S100mO5w         0  426219105868011 ...   17.39154 -8852318714543151457\n",
       "      S1006ZLi         0  636383519099723 ...  15.228839  3683915390494606209\n",
       "      S1006ZLi         0  636383519099723 ...  15.225852  -220250982522433581\n",
       "      S100vzmr         0  638321569403210 ...   6.229333  5439958994279187748\n",
       "           ...       ...              ... ...        ...                  ...\n",
       "      S100Yoga         0 -291251439100329 ...  33.366756   267643437893281197\n",
       "      2007 PT1         0 -244073840526222 ...  24.359657 -8159698378203849725\n",
       "      S100Yoga         0 -291251439100329 ...   33.36543  6763474510384271287\n",
       "      S10002T5         0 -218421596809988 ...  20.830868  7754493938399297975\n",
       "      2008 UR3         0  -11299012984443 ...  28.121733   -98640856388283817\n",
       "      2008 UR3         0  -11299012984443 ...  28.121561 -8728063012638663529\n",
       "      2008 UR3         0  -11299012984443 ...   28.12639 -3581554091940682851\n",
       "      2008 UR3         0  -11299012984443 ...  28.126219 -2609783627945665485\n",
       "      S100DNZh         0 -174402636796036 ...  30.604088 -7290842090112811770\n",
       "      S100DNZh         0 -174402636796036 ...  30.604666  -597302077478075000"
      ]
     },
     "execution_count": 3,
     "metadata": {},
     "output_type": "execute_result"
    }
   ],
   "source": [
    "query = \"SELECT mpc.mpcDesignation, mpc.mpcNumber, mpc.ssObjectId, mpc.fullDesignation, \"\\\n",
    "        \"ds.midPointMjdTai, ds.ra, ds.dec, ds.mag, ds.band, \"\\\n",
    "        \"ss.eclipticBeta, ss.eclipticLambda, ss.phaseAngle, ss.diaSourceId \"\\\n",
    "        \"FROM dp03_catalogs_1yr.DiaSource AS ds \"\\\n",
    "        \"JOIN dp03_catalogs_1yr.SSSource AS ss ON ds.diaSourceId = ss.diaSourceId \"\\\n",
    "        \"JOIN dp03_catalogs_1yr.MPCORB AS mpc ON ds.ssObjectId = mpc.ssObjectId \"\\\n",
    "        \"WHERE ds.midPointMjdTai BETWEEN 60527.1 AND 60529.1 \"\n",
    "results = service.search(query).to_table()\n",
    "results"
   ]
  },
  {
   "cell_type": "markdown",
   "id": "fa7e48b9-4f02-4e69-8949-d6f53a89fbf3",
   "metadata": {},
   "source": [
    "Look for how many rows there are in the result table for the `DiaSource` of interest, which was duplicated with a non-join query."
   ]
  },
  {
   "cell_type": "code",
   "execution_count": 4,
   "id": "7119f924-3455-43e8-afb8-1d73db85bf46",
   "metadata": {
    "execution": {
     "iopub.execute_input": "2023-11-28T01:34:24.556309Z",
     "iopub.status.busy": "2023-11-28T01:34:24.555811Z",
     "iopub.status.idle": "2023-11-28T01:34:24.560492Z",
     "shell.execute_reply": "2023-11-28T01:34:24.559814Z",
     "shell.execute_reply.started": "2023-11-28T01:34:24.556286Z"
    },
    "tags": []
   },
   "outputs": [],
   "source": [
    "tx = np.where(results['diaSourceId'] == -1000014274337402402)[0]"
   ]
  },
  {
   "cell_type": "code",
   "execution_count": 5,
   "id": "975a41ab-eeb6-462f-867a-d930586bf2b8",
   "metadata": {
    "execution": {
     "iopub.execute_input": "2023-11-28T01:34:24.561413Z",
     "iopub.status.busy": "2023-11-28T01:34:24.561231Z",
     "iopub.status.idle": "2023-11-28T01:34:24.576431Z",
     "shell.execute_reply": "2023-11-28T01:34:24.575843Z",
     "shell.execute_reply.started": "2023-11-28T01:34:24.561397Z"
    },
    "tags": []
   },
   "outputs": [
    {
     "name": "stdout",
     "output_type": "stream",
     "text": [
      "[77281]\n"
     ]
    }
   ],
   "source": [
    "print(tx)"
   ]
  },
  {
   "cell_type": "markdown",
   "id": "30f53314-dbd4-408e-b7fe-2d5a404ec48d",
   "metadata": {},
   "source": [
    "Only one row for this `DiaSource`, good."
   ]
  },
  {
   "cell_type": "code",
   "execution_count": 6,
   "id": "68ca6dd2-d786-465d-9cca-4e51ce3798f9",
   "metadata": {
    "execution": {
     "iopub.execute_input": "2023-11-28T01:34:31.267215Z",
     "iopub.status.busy": "2023-11-28T01:34:31.266382Z",
     "iopub.status.idle": "2023-11-28T01:34:31.274973Z",
     "shell.execute_reply": "2023-11-28T01:34:31.274124Z",
     "shell.execute_reply.started": "2023-11-28T01:34:31.267190Z"
    },
    "tags": []
   },
   "outputs": [
    {
     "name": "stdout",
     "output_type": "stream",
     "text": [
      "mpcDesignation mpcNumber      ssObjectId     fullDesignation midPointMjdTai      ra       dec     mag  band    eclipticBeta      eclipticLambda   phaseAngle     diaSourceId     \n",
      "                                                                   d            deg       deg                      deg                deg            deg                         \n",
      "-------------- --------- ------------------- --------------- -------------- ----------- -------- ----- ---- ------------------ ------------------ ---------- --------------------\n",
      "      2015 UM3         0 2909710257521553353  2011 2015 UM36    60528.09827 246.3980009 -4.25119 22.98    i 17.186773165106448 245.29527821401246  14.219118 -1000014274337402402\n"
     ]
    }
   ],
   "source": [
    "print(results[:][tx[0]])"
   ]
  },
  {
   "cell_type": "markdown",
   "id": "e3517a46-7ae0-4241-80cc-49ce7e1f043a",
   "metadata": {},
   "source": [
    "How about all the other `DiaSource` values, are they all unique?"
   ]
  },
  {
   "cell_type": "code",
   "execution_count": 7,
   "id": "e6aa9f36-42e5-434c-ae7b-8e612d865de0",
   "metadata": {
    "execution": {
     "iopub.execute_input": "2023-11-28T01:34:33.062211Z",
     "iopub.status.busy": "2023-11-28T01:34:33.061151Z",
     "iopub.status.idle": "2023-11-28T01:34:33.114020Z",
     "shell.execute_reply": "2023-11-28T01:34:33.113049Z",
     "shell.execute_reply.started": "2023-11-28T01:34:33.062174Z"
    },
    "tags": []
   },
   "outputs": [],
   "source": [
    "uvals = np.unique(np.asarray(results['diaSourceId'][:]))"
   ]
  },
  {
   "cell_type": "code",
   "execution_count": 8,
   "id": "8bfac739-1379-4373-a6df-004b8c8e3e96",
   "metadata": {
    "execution": {
     "iopub.execute_input": "2023-11-28T01:34:39.003594Z",
     "iopub.status.busy": "2023-11-28T01:34:39.002722Z",
     "iopub.status.idle": "2023-11-28T01:34:39.007990Z",
     "shell.execute_reply": "2023-11-28T01:34:39.007033Z",
     "shell.execute_reply.started": "2023-11-28T01:34:39.003567Z"
    },
    "tags": []
   },
   "outputs": [
    {
     "name": "stdout",
     "output_type": "stream",
     "text": [
      "If there are no more duplicates,  489613  equals  489613\n"
     ]
    }
   ],
   "source": [
    "print('If there are no more duplicates, ', len(uvals), ' equals ', len(results))"
   ]
  },
  {
   "cell_type": "markdown",
   "id": "e001bd2d-f78e-4f68-b4dc-c1d5994bc243",
   "metadata": {},
   "source": [
    "Great.\n",
    "\n",
    "The above shows why triple joins are better than a triple-table query without a join.\n",
    "\n",
    "But, triple joins are still a bit inefficient.\n",
    "\n",
    "In the results table above, can see that the values from the `MPCORB` table take up a lot of space in the results table in a redundant way.\n",
    "\n",
    "Clean up."
   ]
  },
  {
   "cell_type": "code",
   "execution_count": 9,
   "id": "b891cec2-9b1e-4734-b3d5-526f71787d7f",
   "metadata": {
    "execution": {
     "iopub.execute_input": "2023-11-28T01:34:52.392347Z",
     "iopub.status.busy": "2023-11-28T01:34:52.391480Z",
     "iopub.status.idle": "2023-11-28T01:34:52.395462Z",
     "shell.execute_reply": "2023-11-28T01:34:52.394824Z",
     "shell.execute_reply.started": "2023-11-28T01:34:52.392321Z"
    },
    "tags": []
   },
   "outputs": [],
   "source": [
    "del query, results, tx, uvals"
   ]
  },
  {
   "cell_type": "markdown",
   "id": "608b2a1d-fd5a-410e-80dd-7851458136ee",
   "metadata": {},
   "source": [
    "<br>\n",
    "\n",
    "## double-join, two-step process\n",
    "\n",
    "Compared to the query above, remove rows from `MPCORB`, and add column `ds.ssObjectId`."
   ]
  },
  {
   "cell_type": "code",
   "execution_count": 10,
   "id": "c8e30260-be86-436c-95e5-0e64dcf5689a",
   "metadata": {
    "execution": {
     "iopub.execute_input": "2023-11-28T01:34:54.815831Z",
     "iopub.status.busy": "2023-11-28T01:34:54.814983Z",
     "iopub.status.idle": "2023-11-28T01:35:10.202193Z",
     "shell.execute_reply": "2023-11-28T01:35:10.201357Z",
     "shell.execute_reply.started": "2023-11-28T01:34:54.815806Z"
    },
    "tags": []
   },
   "outputs": [
    {
     "data": {
      "text/html": [
       "<div><i>Table length=489634</i>\n",
       "<table id=\"table139681585211728\" class=\"table-striped table-bordered table-condensed\">\n",
       "<thead><tr><th>midPointMjdTai</th><th>ra</th><th>dec</th><th>mag</th><th>band</th><th>ssObjectId</th><th>eclipticBeta</th><th>eclipticLambda</th><th>phaseAngle</th><th>diaSourceId</th></tr></thead>\n",
       "<thead><tr><th>d</th><th>deg</th><th>deg</th><th></th><th></th><th></th><th>deg</th><th>deg</th><th>deg</th><th></th></tr></thead>\n",
       "<thead><tr><th>float64</th><th>float64</th><th>float64</th><th>float32</th><th>str1</th><th>int64</th><th>float64</th><th>float64</th><th>float32</th><th>int64</th></tr></thead>\n",
       "<tr><td>60528.0592</td><td>229.3505499</td><td>-16.0275999</td><td>23.164</td><td>r</td><td>14169511631100</td><td>2.1060307598130077</td><td>231.20537881859224</td><td>21.629921</td><td>4382560468718205905</td></tr>\n",
       "<tr><td>60529.06054</td><td>229.5382768</td><td>-16.0738546</td><td>22.92</td><td>i</td><td>14169511631100</td><td>2.108042446276485</td><td>231.39173795036453</td><td>21.66337</td><td>8736066679182986999</td></tr>\n",
       "<tr><td>60528.03517</td><td>229.3462406</td><td>-16.0264993</td><td>22.946</td><td>i</td><td>14169511631100</td><td>2.10601970086341</td><td>231.20109039548535</td><td>21.62895</td><td>-7505819655383129492</td></tr>\n",
       "<tr><td>60529.03671</td><td>229.5338767</td><td>-16.0728115</td><td>23.174</td><td>r</td><td>14169511631100</td><td>2.1079579425901778</td><td>231.38738096037488</td><td>21.662514</td><td>-5177897605916232160</td></tr>\n",
       "<tr><td>60527.20714</td><td>298.6265962</td><td>-23.396531</td><td>19.103</td><td>g</td><td>21630997438946</td><td>-2.514933413064907</td><td>296.1122459830124</td><td>9.253874</td><td>8843940056714935808</td></tr>\n",
       "<tr><td>60528.08927</td><td>245.0750437</td><td>-29.9528559</td><td>23.921</td><td>r</td><td>426219105868011</td><td>-8.368482838442976</td><td>248.3415560040466</td><td>17.39154</td><td>-8852318714543151457</td></tr>\n",
       "<tr><td>60528.10052</td><td>255.3395264</td><td>4.7602977</td><td>21.603</td><td>i</td><td>636383519099723</td><td>27.36378396591178</td><td>253.50122252266763</td><td>15.228839</td><td>3683915390494606209</td></tr>\n",
       "<tr><td>60528.07591</td><td>255.3410405</td><td>4.7643857</td><td>21.912</td><td>r</td><td>636383519099723</td><td>27.368016654285764</td><td>253.5023887973632</td><td>15.225852</td><td>-220250982522433581</td></tr>\n",
       "<tr><td>60527.23187</td><td>301.6913488</td><td>-18.4934902</td><td>23.113</td><td>r</td><td>638321569403210</td><td>1.7170610854691415</td><td>299.8967197427676</td><td>6.229333</td><td>5439958994279187748</td></tr>\n",
       "<tr><td>...</td><td>...</td><td>...</td><td>...</td><td>...</td><td>...</td><td>...</td><td>...</td><td>...</td><td>...</td></tr>\n",
       "<tr><td>60528.03427</td><td>227.4812642</td><td>-15.7367384</td><td>22.924</td><td>i</td><td>-291251439100329</td><td>1.9116112256731441</td><td>229.39337541219155</td><td>33.36543</td><td>6763474510384271287</td></tr>\n",
       "<tr><td>60527.96404</td><td>254.4865821</td><td>-29.7920461</td><td>21.211</td><td>i</td><td>-244073840526222</td><td>-7.078321299938017</td><td>256.473379406363</td><td>24.356604</td><td>18793890846864163</td></tr>\n",
       "<tr><td>60527.99452</td><td>210.6064812</td><td>-40.583959</td><td>22.856</td><td>r</td><td>-174402636796036</td><td>-26.300002630284368</td><td>223.18699110860666</td><td>30.604088</td><td>-7290842090112811770</td></tr>\n",
       "<tr><td>60527.97499</td><td>254.4874067</td><td>-29.7911639</td><td>21.442</td><td>r</td><td>-244073840526222</td><td>-7.077367465965106</td><td>256.47400106235705</td><td>24.359657</td><td>-8159698378203849725</td></tr>\n",
       "<tr><td>60528.00758</td><td>222.3265348</td><td>-26.3231759</td><td>23.515</td><td>r</td><td>-218421596809988</td><td>-9.60012795255932</td><td>227.77304162292083</td><td>20.830868</td><td>7754493938399297975</td></tr>\n",
       "<tr><td>60528.01968</td><td>210.6168777</td><td>-40.5853889</td><td>22.467</td><td>i</td><td>-174402636796036</td><td>-26.29830909862096</td><td>223.1957399279256</td><td>30.604666</td><td>-597302077478075000</td></tr>\n",
       "<tr><td>60528.09017</td><td>245.1172969</td><td>-25.6701098</td><td>20.946</td><td>r</td><td>-11299012984443</td><td>-4.140709056832426</td><td>247.65228218080964</td><td>28.121561</td><td>-8728063012638663529</td></tr>\n",
       "<tr><td>60528.1156</td><td>245.1222003</td><td>-25.6719067</td><td>20.759</td><td>i</td><td>-11299012984443</td><td>-4.141738937705923</td><td>247.65695264042975</td><td>28.12639</td><td>-3581554091940682851</td></tr>\n",
       "<tr><td>60528.1147</td><td>245.1220351</td><td>-25.6718453</td><td>20.762</td><td>i</td><td>-11299012984443</td><td>-4.141703388932322</td><td>247.65679514509736</td><td>28.126219</td><td>-2609783627945665485</td></tr>\n",
       "<tr><td>60528.09108</td><td>245.117465</td><td>-25.6701793</td><td>20.963</td><td>r</td><td>-11299012984443</td><td>-4.140752147041105</td><td>247.65244362540832</td><td>28.121733</td><td>-98640856388283817</td></tr>\n",
       "</table></div>"
      ],
      "text/plain": [
       "<Table length=489634>\n",
       "midPointMjdTai      ra         dec     ... phaseAngle     diaSourceId     \n",
       "      d            deg         deg     ...    deg                         \n",
       "   float64       float64     float64   ...  float32          int64        \n",
       "-------------- ----------- ----------- ... ---------- --------------------\n",
       "    60528.0592 229.3505499 -16.0275999 ...  21.629921  4382560468718205905\n",
       "   60529.06054 229.5382768 -16.0738546 ...   21.66337  8736066679182986999\n",
       "   60528.03517 229.3462406 -16.0264993 ...   21.62895 -7505819655383129492\n",
       "   60529.03671 229.5338767 -16.0728115 ...  21.662514 -5177897605916232160\n",
       "   60527.20714 298.6265962  -23.396531 ...   9.253874  8843940056714935808\n",
       "   60528.08927 245.0750437 -29.9528559 ...   17.39154 -8852318714543151457\n",
       "   60528.10052 255.3395264   4.7602977 ...  15.228839  3683915390494606209\n",
       "   60528.07591 255.3410405   4.7643857 ...  15.225852  -220250982522433581\n",
       "   60527.23187 301.6913488 -18.4934902 ...   6.229333  5439958994279187748\n",
       "           ...         ...         ... ...        ...                  ...\n",
       "   60528.03427 227.4812642 -15.7367384 ...   33.36543  6763474510384271287\n",
       "   60527.96404 254.4865821 -29.7920461 ...  24.356604    18793890846864163\n",
       "   60527.99452 210.6064812  -40.583959 ...  30.604088 -7290842090112811770\n",
       "   60527.97499 254.4874067 -29.7911639 ...  24.359657 -8159698378203849725\n",
       "   60528.00758 222.3265348 -26.3231759 ...  20.830868  7754493938399297975\n",
       "   60528.01968 210.6168777 -40.5853889 ...  30.604666  -597302077478075000\n",
       "   60528.09017 245.1172969 -25.6701098 ...  28.121561 -8728063012638663529\n",
       "    60528.1156 245.1222003 -25.6719067 ...   28.12639 -3581554091940682851\n",
       "    60528.1147 245.1220351 -25.6718453 ...  28.126219 -2609783627945665485\n",
       "   60528.09108  245.117465 -25.6701793 ...  28.121733   -98640856388283817"
      ]
     },
     "execution_count": 10,
     "metadata": {},
     "output_type": "execute_result"
    }
   ],
   "source": [
    "query1 = \"SELECT ds.midPointMjdTai, ds.ra, ds.dec, ds.mag, ds.band, ds.ssObjectId, \"\\\n",
    "         \"ss.eclipticBeta, ss.eclipticLambda, ss.phaseAngle, ss.diaSourceId \"\\\n",
    "         \"FROM dp03_catalogs_1yr.DiaSource AS ds \"\\\n",
    "         \"JOIN dp03_catalogs_1yr.SSSource AS ss ON ds.diaSourceId = ss.diaSourceId \"\\\n",
    "         \"WHERE ds.midPointMjdTai BETWEEN 60527.1 AND 60529.1 \"\n",
    "results1 = service.search(query1).to_table()\n",
    "results1"
   ]
  },
  {
   "cell_type": "markdown",
   "id": "62818f79-f7c5-4fa1-9f27-9d94ec1579a7",
   "metadata": {},
   "source": [
    "Create a string list of the unique `ssObjectId`.\n",
    "\n",
    "This is the advice currently provided in the documentation:<br>\n",
    "https://dp0-2.lsst.io/data-access-analysis-tools/adql-recipes.html#individual-objects\n",
    "\n",
    "However, at the moment, there seems to be a limit on how long a string can be passed, and I'm trying to figure out what it is:<br>\n",
    "https://community.lsst.org/t/what-is-the-limit-for-lists-passed-to-adql/8114\n",
    "\n",
    "I'm also not sure if this is a temporary limit for DP0 or not.\n",
    "\n",
    "For now, just take a sub-set while I figure out how this part should go."
   ]
  },
  {
   "cell_type": "code",
   "execution_count": 11,
   "id": "14aa6ade-29b7-4f74-aa6d-64fc3812d5bb",
   "metadata": {
    "execution": {
     "iopub.execute_input": "2023-11-28T01:35:10.223322Z",
     "iopub.status.busy": "2023-11-28T01:35:10.222659Z",
     "iopub.status.idle": "2023-11-28T01:35:10.242073Z",
     "shell.execute_reply": "2023-11-28T01:35:10.241296Z",
     "shell.execute_reply.started": "2023-11-28T01:35:10.223299Z"
    },
    "tags": []
   },
   "outputs": [
    {
     "name": "stdout",
     "output_type": "stream",
     "text": [
      "26345\n"
     ]
    }
   ],
   "source": [
    "# temp = np.unique(np.asarray(results1['ssObjectId'][0:-1]))\n",
    "temp = np.unique(np.asarray(results1['ssObjectId'][0:50000]))\n",
    "print(len(temp))\n",
    "\n",
    "tempstring = \"(\" + ','.join(['%22i' % num for num in temp]) + \")\"\n",
    "\n",
    "del temp"
   ]
  },
  {
   "cell_type": "markdown",
   "id": "420b3a6c-73ac-46a8-b314-a81eb43430dc",
   "metadata": {},
   "source": [
    "It will print them all if you ask but it does take a moment."
   ]
  },
  {
   "cell_type": "code",
   "execution_count": 12,
   "id": "98f1b55f-b2e8-4db7-89af-85bbdbc49af2",
   "metadata": {
    "execution": {
     "iopub.execute_input": "2023-11-28T01:35:10.243903Z",
     "iopub.status.busy": "2023-11-28T01:35:10.243605Z",
     "iopub.status.idle": "2023-11-28T01:35:10.255604Z",
     "shell.execute_reply": "2023-11-28T01:35:10.254781Z",
     "shell.execute_reply.started": "2023-11-28T01:35:10.243883Z"
    },
    "tags": []
   },
   "outputs": [],
   "source": [
    "# tempstring"
   ]
  },
  {
   "cell_type": "markdown",
   "id": "42732660-d73e-4f69-8b47-40ed8eab6e77",
   "metadata": {
    "execution": {
     "iopub.execute_input": "2023-11-28T00:46:31.266948Z",
     "iopub.status.busy": "2023-11-28T00:46:31.266022Z",
     "iopub.status.idle": "2023-11-28T00:46:31.270395Z",
     "shell.execute_reply": "2023-11-28T00:46:31.269562Z",
     "shell.execute_reply.started": "2023-11-28T00:46:31.266919Z"
    },
    "tags": []
   },
   "source": [
    "Now query for the data from the `MPCORB` table."
   ]
  },
  {
   "cell_type": "code",
   "execution_count": 13,
   "id": "9bbbd8fc-190f-4a90-bce5-f78a384f18c1",
   "metadata": {
    "execution": {
     "iopub.execute_input": "2023-11-28T01:35:10.256916Z",
     "iopub.status.busy": "2023-11-28T01:35:10.256690Z",
     "iopub.status.idle": "2023-11-28T01:37:10.956092Z",
     "shell.execute_reply": "2023-11-28T01:37:10.955264Z",
     "shell.execute_reply.started": "2023-11-28T01:35:10.256899Z"
    },
    "tags": []
   },
   "outputs": [
    {
     "data": {
      "text/html": [
       "<div><i>Table length=26345</i>\n",
       "<table id=\"table139681784451728\" class=\"table-striped table-bordered table-condensed\">\n",
       "<thead><tr><th>mpcDesignation</th><th>mpcNumber</th><th>ssObjectId</th><th>fullDesignation</th></tr></thead>\n",
       "<thead><tr><th>str8</th><th>int32</th><th>int64</th><th>str26</th></tr></thead>\n",
       "<tr><td>S100doiQ</td><td>0</td><td>14169511631100</td><td>2011 S100doiQa</td></tr>\n",
       "<tr><td>2003 UC1</td><td>0</td><td>21630997438946</td><td>2011 2003 UC185</td></tr>\n",
       "<tr><td>S100hM3K</td><td>0</td><td>91337575092450</td><td>2011 S100hM3Ka</td></tr>\n",
       "<tr><td>2010 VU1</td><td>0</td><td>239345804377156</td><td>2011 2010 VU172</td></tr>\n",
       "<tr><td>S100mO5w</td><td>0</td><td>426219105868011</td><td>2011 S100mO5wa</td></tr>\n",
       "<tr><td>S1006ZLi</td><td>0</td><td>636383519099723</td><td>2011 S1006ZLia</td></tr>\n",
       "<tr><td>S100vzmr</td><td>0</td><td>638321569403210</td><td>2011 S100vzmra</td></tr>\n",
       "<tr><td>2005 XJ8</td><td>0</td><td>728813012469554</td><td>2011 2005 XJ84</td></tr>\n",
       "<tr><td>S1023qfc</td><td>0</td><td>854866448999463</td><td>2011 S1023qfca</td></tr>\n",
       "<tr><td>S10067A2</td><td>0</td><td>1017033074662418</td><td>2011 S10067A2a</td></tr>\n",
       "<tr><td>...</td><td>...</td><td>...</td><td>...</td></tr>\n",
       "<tr><td>2009 VC9</td><td>0</td><td>1873809618276282010</td><td>2011 2009 VC93</td></tr>\n",
       "<tr><td>S100rhAX</td><td>0</td><td>1873826896742950939</td><td>2011 S100rhAXa</td></tr>\n",
       "<tr><td>2020 OS8</td><td>0</td><td>1873851218942125513</td><td>2011 2020 OS87</td></tr>\n",
       "<tr><td>S100KP0v</td><td>0</td><td>1873864222536957275</td><td>2011 S100KP0va</td></tr>\n",
       "<tr><td>S100fC5f</td><td>0</td><td>1873932488767049334</td><td>2011 S100fC5fa</td></tr>\n",
       "<tr><td>S100p8ro</td><td>0</td><td>1874082917868799405</td><td>2011 S100p8roa</td></tr>\n",
       "<tr><td>2011 CQ1</td><td>0</td><td>1874351020622128381</td><td>2011 2011 CQ144</td></tr>\n",
       "<tr><td>S1002hgq</td><td>0</td><td>1874374135710837060</td><td>2011 S1002hgqa</td></tr>\n",
       "<tr><td>2002 RH1</td><td>0</td><td>1874474959850242297</td><td>2011 2002 RH14</td></tr>\n",
       "<tr><td>SS0000Uo</td><td>0</td><td>1874531919775786085</td><td>2011 SS0000Uoa</td></tr>\n",
       "</table></div>"
      ],
      "text/plain": [
       "<Table length=26345>\n",
       "mpcDesignation mpcNumber      ssObjectId     fullDesignation\n",
       "     str8        int32          int64             str26     \n",
       "-------------- --------- ------------------- ---------------\n",
       "      S100doiQ         0      14169511631100  2011 S100doiQa\n",
       "      2003 UC1         0      21630997438946 2011 2003 UC185\n",
       "      S100hM3K         0      91337575092450  2011 S100hM3Ka\n",
       "      2010 VU1         0     239345804377156 2011 2010 VU172\n",
       "      S100mO5w         0     426219105868011  2011 S100mO5wa\n",
       "      S1006ZLi         0     636383519099723  2011 S1006ZLia\n",
       "      S100vzmr         0     638321569403210  2011 S100vzmra\n",
       "      2005 XJ8         0     728813012469554  2011 2005 XJ84\n",
       "      S1023qfc         0     854866448999463  2011 S1023qfca\n",
       "      S10067A2         0    1017033074662418  2011 S10067A2a\n",
       "           ...       ...                 ...             ...\n",
       "      2009 VC9         0 1873809618276282010  2011 2009 VC93\n",
       "      S100rhAX         0 1873826896742950939  2011 S100rhAXa\n",
       "      2020 OS8         0 1873851218942125513  2011 2020 OS87\n",
       "      S100KP0v         0 1873864222536957275  2011 S100KP0va\n",
       "      S100fC5f         0 1873932488767049334  2011 S100fC5fa\n",
       "      S100p8ro         0 1874082917868799405  2011 S100p8roa\n",
       "      2011 CQ1         0 1874351020622128381 2011 2011 CQ144\n",
       "      S1002hgq         0 1874374135710837060  2011 S1002hgqa\n",
       "      2002 RH1         0 1874474959850242297  2011 2002 RH14\n",
       "      SS0000Uo         0 1874531919775786085  2011 SS0000Uoa"
      ]
     },
     "execution_count": 13,
     "metadata": {},
     "output_type": "execute_result"
    }
   ],
   "source": [
    "query2 = \"SELECT mpcDesignation, mpcNumber, ssObjectId, fullDesignation \"\\\n",
    "         \"FROM dp03_catalogs_1yr.MPCORB \"\\\n",
    "         \"WHERE ssObjectId IN \" + tempstring\n",
    "results2 = service.search(query2).to_table()\n",
    "results2"
   ]
  },
  {
   "cell_type": "code",
   "execution_count": null,
   "id": "fde0b8cb-55c5-4fa9-81d3-3b656a372fbf",
   "metadata": {},
   "outputs": [],
   "source": []
  }
 ],
 "metadata": {
  "kernelspec": {
   "display_name": "LSST",
   "language": "python",
   "name": "lsst"
  },
  "language_info": {
   "codemirror_mode": {
    "name": "ipython",
    "version": 3
   },
   "file_extension": ".py",
   "mimetype": "text/x-python",
   "name": "python",
   "nbconvert_exporter": "python",
   "pygments_lexer": "ipython3",
   "version": "3.11.4"
  }
 },
 "nbformat": 4,
 "nbformat_minor": 5
}
