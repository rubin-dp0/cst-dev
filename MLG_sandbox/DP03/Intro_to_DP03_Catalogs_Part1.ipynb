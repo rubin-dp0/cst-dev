{
 "cells": [
  {
   "cell_type": "markdown",
   "id": "bc27f992-6cfd-4c2c-bb8b-5c8a7515f0db",
   "metadata": {},
   "source": [
    "<img align=\"left\" src = https://project.lsst.org/sites/default/files/Rubin-O-Logo_0.png width=250 style=\"padding: 10px\"> \n",
    "<br><b>Introduction to the DP0.3</b> <br>\n",
    "Contact author(s): Bob Abel and Douglas Tucker<br>\n",
    "Last verified to run: 2023-07-09 <br>\n",
    "LSST Science Piplines version: Weekly 2023_21 <br>\n",
    "Container size: medium <br>\n",
    "Targeted learning level: beginner <br>"
   ]
  },
  {
   "cell_type": "code",
   "execution_count": null,
   "id": "869787c5-6fff-48ee-b783-679b01c1d853",
   "metadata": {
    "tags": []
   },
   "outputs": [],
   "source": [
    "%load_ext pycodestyle_magic\n",
    "%flake8_on\n",
    "import logging\n",
    "logging.getLogger(\"flake8\").setLevel(logging.FATAL)"
   ]
  },
  {
   "cell_type": "markdown",
   "id": "e57b4248-cf79-4945-956b-3186f3cc41c2",
   "metadata": {},
   "source": [
    "**Description:** An overview of the contents of the DP0.3 moving object catalogs."
   ]
  },
  {
   "cell_type": "markdown",
   "id": "d9fd4286-3bff-4345-affa-0d8e519b8d50",
   "metadata": {},
   "source": [
    "**Skills:** Use the TAP service and ADQL to access the DP0.3 tables."
   ]
  },
  {
   "cell_type": "markdown",
   "id": "7e79e389-8abf-4dff-b503-55c0383084d1",
   "metadata": {},
   "source": [
    "**LSST Data Products:** TAP dp03_catalogs."
   ]
  },
  {
   "cell_type": "markdown",
   "id": "07aae406-2b73-4995-a1c8-fc833a24cee2",
   "metadata": {},
   "source": [
    "**Packages:** `lsst.rsp.get_tap_service`"
   ]
  },
  {
   "cell_type": "markdown",
   "id": "8740f32b-3d92-4c10-8d88-46e600a63a96",
   "metadata": {},
   "source": [
    "**Credit:**\n",
    "Mario Jurić provided essential assistance in the initial stages of creating this notebook.  The notebook authors would also like to acknowledge help from Leanne Guy, Pedro Bernardinelli, Sarah Greenstreet, Megan Schwamb, Brian Rogers, Niall McElroy, and Jake Vanderplass, among others."
   ]
  },
  {
   "cell_type": "markdown",
   "id": "e7b54235-6bab-4626-a603-13c15a3c93b6",
   "metadata": {},
   "source": [
    "**Get Support:**\n",
    "Find DP0.3-related documentation and resources at <a href=\"https://dp0-3.lsst.io\">dp0-3.lsst.io</a>. Questions are welcome as new topics in the <a href=\"https://community.lsst.org/c/support/dp0\">Support - Data Preview 0 Category</a> of the Rubin Community Forum. Rubin staff will respond to all questions posted there."
   ]
  },
  {
   "cell_type": "markdown",
   "id": "c84499ca-08c3-47a6-b1cc-6e289ec42fdf",
   "metadata": {},
   "source": [
    "## 1. Introduction\n",
    "\n",
    "This notebook demonstrates how to access the simulated Data Preview 0.3 (DP0.3) data set in the Rubin Science Platform.\n",
    "\n",
    "For the DP0.3 simulation, only moving objects were simulated, and only catalogs were created (there are no images).\n",
    "The DP0.3 simulation is *entirely independent of and separate from* the DP0.2 simulation.\n",
    "\n",
    "DP0.3 is a hybrid catalog that contains both real and simulated Solar System objects (asteroids, near-earth objects, Trojans, trans-Neptunian objects, and even a simulated spaceship... but no comets, major planets, or the Moon).\n",
    "See the <a href=\"https://dp0-3.lsst.io\">DP0.3 documentation</a> for more information about how the hybrid catalog was created.\n",
    "\n",
    "In Rubin Operations, these tables would be constantly changing, updated every day with the results of\n",
    "the previous night's observations.\n",
    "However, for DP0.3, a static 10-year catalog has been simulated."
   ]
  },
  {
   "cell_type": "markdown",
   "id": "1fdd57af-83de-464a-863f-f0886a70d989",
   "metadata": {},
   "source": [
    "### 1.1. Package Imports\n",
    "\n",
    "Import general python packages and the Rubin TAP service utilities."
   ]
  },
  {
   "cell_type": "code",
   "execution_count": 1,
   "id": "dab33fdd-8ff9-4f8f-b027-77ba5368de5d",
   "metadata": {
    "execution": {
     "iopub.execute_input": "2023-07-10T20:20:08.207763Z",
     "iopub.status.busy": "2023-07-10T20:20:08.206923Z",
     "iopub.status.idle": "2023-07-10T20:20:09.121247Z",
     "shell.execute_reply": "2023-07-10T20:20:09.120148Z",
     "shell.execute_reply.started": "2023-07-10T20:20:08.207733Z"
    },
    "tags": []
   },
   "outputs": [],
   "source": [
    "import numpy as np\n",
    "import matplotlib.pyplot as plt\n",
    "from matplotlib import colormaps\n",
    "from matplotlib.patches import Rectangle\n",
    "import pandas as pd\n",
    "from lsst.rsp import get_tap_service"
   ]
  },
  {
   "cell_type": "markdown",
   "id": "0484b1ba-eafd-465a-8691-5c1ba3bcc208",
   "metadata": {},
   "source": [
    "## 2. Create the Rubin SSO TAP Service client\n",
    "\n",
    "The DP0.3 data sets are available via the Table Access Protocol (TAP) service,\n",
    "and can be accessed with ADQL (Astronomical Data Query Language) statements.\n",
    "\n",
    "TAP provides standardized access to catalog data for discovery, search, and retrieval.\n",
    "Full <a href=\"http://www.ivoa.net/documents/TAP\">documentation for TAP</a> is provided by the International Virtual Observatory Alliance (IVOA).\n",
    "ADQL is similar to SQL (Structured Query Langage).\n",
    "The <a href=\"http://www.ivoa.net/documents/latest/ADQL.html\">documentation for ADQL</a> includes more information about syntax and keywords.\n",
    "\n",
    "Get an instance of the SSO TAP service, and assert that it exists.\n",
    "\n",
    "> **Notice:** The DP0.3 TAP service is called `ssotap` (whereas `tap` is used for DP0.2)."
   ]
  },
  {
   "cell_type": "code",
   "execution_count": 2,
   "id": "a8daf49b-a897-479b-9524-f816bea54733",
   "metadata": {
    "execution": {
     "iopub.execute_input": "2023-07-10T20:20:09.129623Z",
     "iopub.status.busy": "2023-07-10T20:20:09.129403Z",
     "iopub.status.idle": "2023-07-10T20:20:09.194078Z",
     "shell.execute_reply": "2023-07-10T20:20:09.193137Z",
     "shell.execute_reply.started": "2023-07-10T20:20:09.129598Z"
    },
    "tags": []
   },
   "outputs": [],
   "source": [
    "service = get_tap_service(\"ssotap\")\n",
    "assert service is not None"
   ]
  },
  {
   "cell_type": "markdown",
   "id": "d49c768a-e8c5-44a6-bde1-bfa456ac7f98",
   "metadata": {},
   "source": [
    "### 2.1. What `ssotap` schemas are available?\n",
    "\n",
    "Create an ADQL query to select all (\\*) available schemas, and use the TAP service to execute the query.\n",
    "\n",
    "Use `to_table` to convert to an `astropy` table, which will display the results in a user-friendly way."
   ]
  },
  {
   "cell_type": "code",
   "execution_count": 6,
   "id": "d62ab2ef-05df-4024-b514-dc02e4379041",
   "metadata": {
    "execution": {
     "iopub.execute_input": "2023-07-10T20:22:36.185888Z",
     "iopub.status.busy": "2023-07-10T20:22:36.184447Z",
     "iopub.status.idle": "2023-07-10T20:22:36.360277Z",
     "shell.execute_reply": "2023-07-10T20:22:36.359577Z",
     "shell.execute_reply.started": "2023-07-10T20:22:36.185836Z"
    },
    "tags": []
   },
   "outputs": [
    {
     "data": {
      "text/html": [
       "<div><i>Table length=3</i>\n",
       "<table id=\"table140648263939264\" class=\"table-striped table-bordered table-condensed\">\n",
       "<thead><tr><th>description</th><th>schema_index</th><th>schema_name</th><th>utype</th></tr></thead>\n",
       "<thead><tr><th>str512</th><th>int32</th><th>str64</th><th>str512</th></tr></thead>\n",
       "<tr><td>Data Preview 0.3 contains the catalog products of a Solar System Science Collaboration simulation of the results of SSO analysis of the wide-fast-deep data from the LSST ten-year dataset.</td><td>0</td><td>dp03_catalogs</td><td></td></tr>\n",
       "<tr><td>A TAP-standard-mandated schema to describe tablesets in a TAP 1.1 service</td><td>100000</td><td>tap_schema</td><td></td></tr>\n",
       "<tr><td>UWS Metadata</td><td>120000</td><td>uws</td><td></td></tr>\n",
       "</table></div>"
      ],
      "text/plain": [
       "<Table length=3>\n",
       "                                                                                        description                                                                                         ...\n",
       "                                                                                           str512                                                                                           ...\n",
       "------------------------------------------------------------------------------------------------------------------------------------------------------------------------------------------- ...\n",
       "Data Preview 0.3 contains the catalog products of a Solar System Science Collaboration simulation of the results of SSO analysis of the wide-fast-deep data from the LSST ten-year dataset. ...\n",
       "                                                                                                                  A TAP-standard-mandated schema to describe tablesets in a TAP 1.1 service ...\n",
       "                                                                                                                                                                               UWS Metadata ..."
      ]
     },
     "execution_count": 6,
     "metadata": {},
     "output_type": "execute_result"
    }
   ],
   "source": [
    "query = \"SELECT * FROM tap_schema.schemas\"\n",
    "results = service.search(query).to_table()\n",
    "results"
   ]
  },
  {
   "cell_type": "markdown",
   "id": "e56f59e6-28d7-49f9-9030-118f43bbf5ad",
   "metadata": {},
   "source": [
    "### 2.2 What DP0.3 tables are available?"
   ]
  },
  {
   "cell_type": "markdown",
   "id": "16dbae17-6f9d-4356-941c-3e20498bc804",
   "metadata": {},
   "source": [
    "Select all available tables and display information about them."
   ]
  },
  {
   "cell_type": "code",
   "execution_count": 5,
   "id": "79bbde6a-bd68-4de8-a02d-2160dfae6bc4",
   "metadata": {
    "execution": {
     "iopub.execute_input": "2023-07-10T20:20:48.316618Z",
     "iopub.status.busy": "2023-07-10T20:20:48.315576Z",
     "iopub.status.idle": "2023-07-10T20:20:48.432731Z",
     "shell.execute_reply": "2023-07-10T20:20:48.431845Z",
     "shell.execute_reply.started": "2023-07-10T20:20:48.316582Z"
    },
    "tags": []
   },
   "outputs": [
    {
     "data": {
      "text/html": [
       "<div><i>Table length=4</i>\n",
       "<table id=\"table140648485716320\" class=\"table-striped table-bordered table-condensed\">\n",
       "<thead><tr><th>description</th><th>schema_name</th><th>table_index</th><th>table_name</th><th>table_type</th><th>utype</th></tr></thead>\n",
       "<thead><tr><th>str512</th><th>str512</th><th>int32</th><th>str64</th><th>str8</th><th>str512</th></tr></thead>\n",
       "<tr><td>The orbit catalog produced by the Minor Planet Center. Ingested daily. O(10M) rows by survey end. The columns are described at https://minorplanetcenter.net//iau/info/MPOrbitFormat.html</td><td>dp03_catalogs</td><td>0</td><td>dp03_catalogs.MPCORB</td><td>table</td><td></td></tr>\n",
       "<tr><td>LSST-computed per-object quantities. 1:1 relationship with MPCORB. Recomputed daily, upon MPCORB ingestion.</td><td>dp03_catalogs</td><td>0</td><td>dp03_catalogs.SSObject</td><td>table</td><td></td></tr>\n",
       "<tr><td>LSST-computed per-source quantities. 1:1 relationship with DIASource. Recomputed daily, upon MPCORB ingestion.</td><td>dp03_catalogs</td><td>0</td><td>dp03_catalogs.SSSource</td><td>table</td><td></td></tr>\n",
       "<tr><td>Table to store &apos;difference image sources&apos;; - sources detected at SNR &gt;=5 on difference images.</td><td>dp03_catalogs</td><td>0</td><td>dp03_catalogs.DiaSource</td><td>table</td><td></td></tr>\n",
       "</table></div>"
      ],
      "text/plain": [
       "<Table length=4>\n",
       "                                                                                       description                                                                                        ...\n",
       "                                                                                          str512                                                                                          ...\n",
       "----------------------------------------------------------------------------------------------------------------------------------------------------------------------------------------- ...\n",
       "The orbit catalog produced by the Minor Planet Center. Ingested daily. O(10M) rows by survey end. The columns are described at https://minorplanetcenter.net//iau/info/MPOrbitFormat.html ...\n",
       "                                                                              LSST-computed per-object quantities. 1:1 relationship with MPCORB. Recomputed daily, upon MPCORB ingestion. ...\n",
       "                                                                           LSST-computed per-source quantities. 1:1 relationship with DIASource. Recomputed daily, upon MPCORB ingestion. ...\n",
       "                                                                                           Table to store 'difference image sources'; - sources detected at SNR >=5 on difference images. ..."
      ]
     },
     "execution_count": 5,
     "metadata": {},
     "output_type": "execute_result"
    }
   ],
   "source": [
    "query = \"SELECT * FROM tap_schema.tables \" \\\n",
    "        \"WHERE tap_schema.tables.schema_name = 'dp03_catalogs' \" \\\n",
    "        \"ORDER BY table_index ASC\"\n",
    "results = service.search(query).to_table()\n",
    "results"
   ]
  },
  {
   "cell_type": "markdown",
   "id": "e7302673-cab0-4003-a3dd-d22b1a77a97b",
   "metadata": {},
   "source": [
    "## 3. The `MPCORB` table\n",
    "\n",
    "During Rubin Operations, Solar System Processing will occur in the daytime, after a night of observing.\n",
    "It will link together the difference-image detections of moving objects and report discoveries\n",
    "to the <a href=\"https://minorplanetcenter.net/https://minorplanetcenter.net/\">Minor Planet Center</a> (MPC),\n",
    "as well as compute derived properties (magnitudes, phase-curve fits, coordinates in various systems).\n",
    "\n",
    "The MPC will calculate the orbital parameters and these results will be passed back to Rubin, and stored\n",
    "and made available to users as the `MPCORB` table \n",
    "(the other derived properties are stored in the other three tables explored below).\n",
    "The DP0.3 `MPCORB` table is a simulation of what this data product will be like after 10 years of LSST.\n",
    "\n",
    "> **Notice:** The MPC contains all reported moving objects in the Solar System, and is not limited to those \n",
    "detected by LSST. Thus, the `MPCORB` table will have more rows than the `SSObject` table.\n",
    "\n",
    "For more information about Rubin's plans for Solar System Processing, see Section 3.2.2 of the \n",
    "<a href=\"https://docushare.lsstcorp.org/docushare/dsweb/Get/LSE-163/LSE-163_DataProductsDefinitionDocumentDPDD.pdf\">Data Products Definitions Document</a>.\n",
    "Note that there remain differences between Table 4 of the DPDD, which contain the anticipated schema \n",
    "for the moving object tables, and the DP0.3 table schemas."
   ]
  },
  {
   "cell_type": "markdown",
   "id": "cd15dac9-45bf-4a0f-9f32-5d31bb48a4d5",
   "metadata": {},
   "source": [
    "### 3.1. Size\n",
    "\n",
    "Use the TAP service to count of the number of rows in the `MPCORB` table."
   ]
  },
  {
   "cell_type": "code",
   "execution_count": 10,
   "id": "e965cf06-6e16-4117-a29b-97a6a8577fb2",
   "metadata": {
    "execution": {
     "iopub.execute_input": "2023-07-10T20:46:32.126381Z",
     "iopub.status.busy": "2023-07-10T20:46:32.125278Z",
     "iopub.status.idle": "2023-07-10T20:46:33.974104Z",
     "shell.execute_reply": "2023-07-10T20:46:33.973267Z",
     "shell.execute_reply.started": "2023-07-10T20:46:32.126345Z"
    },
    "tags": []
   },
   "outputs": [
    {
     "data": {
      "text/html": [
       "<div><i>Table length=1</i>\n",
       "<table id=\"table140648263940032\" class=\"table-striped table-bordered table-condensed\">\n",
       "<thead><tr><th>COUNT</th></tr></thead>\n",
       "<thead><tr><th>int64</th></tr></thead>\n",
       "<tr><td>14600302</td></tr>\n",
       "</table></div>"
      ],
      "text/plain": [
       "<Table length=1>\n",
       " COUNT  \n",
       " int64  \n",
       "--------\n",
       "14600302"
      ]
     },
     "execution_count": 10,
     "metadata": {},
     "output_type": "execute_result"
    }
   ],
   "source": [
    "results = service.search(\"SELECT COUNT(*) FROM dp03_catalogs.MPCORB\")\n",
    "results.to_table()"
   ]
  },
  {
   "cell_type": "markdown",
   "id": "1dfddcd0-0a73-4f41-9324-2fc590bb0fbf",
   "metadata": {},
   "source": [
    "There are 14.6 million rows in the `MPCORB` table."
   ]
  },
  {
   "cell_type": "markdown",
   "id": "69152b41-0c0c-435c-884f-553ca4a682db",
   "metadata": {},
   "source": [
    "### 3.2. Columns\n",
    "\n",
    "Use the TAP service to query for the column information from `MPCORB`.\n",
    "\n",
    "Print the results as a `pandas` table."
   ]
  },
  {
   "cell_type": "code",
   "execution_count": 27,
   "id": "d24359a4-6f1a-433b-84cf-b9184f4f673f",
   "metadata": {
    "execution": {
     "iopub.execute_input": "2023-07-10T21:10:58.624397Z",
     "iopub.status.busy": "2023-07-10T21:10:58.623189Z",
     "iopub.status.idle": "2023-07-10T21:10:58.725844Z",
     "shell.execute_reply": "2023-07-10T21:10:58.725015Z",
     "shell.execute_reply.started": "2023-07-10T21:10:58.624362Z"
    },
    "tags": []
   },
   "outputs": [
    {
     "data": {
      "text/html": [
       "<div>\n",
       "<style scoped>\n",
       "    .dataframe tbody tr th:only-of-type {\n",
       "        vertical-align: middle;\n",
       "    }\n",
       "\n",
       "    .dataframe tbody tr th {\n",
       "        vertical-align: top;\n",
       "    }\n",
       "\n",
       "    .dataframe thead th {\n",
       "        text-align: right;\n",
       "    }\n",
       "</style>\n",
       "<table border=\"1\" class=\"dataframe\">\n",
       "  <thead>\n",
       "    <tr style=\"text-align: right;\">\n",
       "      <th></th>\n",
       "      <th>column_name</th>\n",
       "      <th>datatype</th>\n",
       "      <th>description</th>\n",
       "      <th>unit</th>\n",
       "    </tr>\n",
       "  </thead>\n",
       "  <tbody>\n",
       "    <tr>\n",
       "      <th>0</th>\n",
       "      <td>arc</td>\n",
       "      <td>float</td>\n",
       "      <td>MPCORB: Arc (days), for single-opposition objects</td>\n",
       "      <td>days</td>\n",
       "    </tr>\n",
       "    <tr>\n",
       "      <th>1</th>\n",
       "      <td>arcEnd</td>\n",
       "      <td>char</td>\n",
       "      <td>MPCORB: Year of last observation (for multi-op...</td>\n",
       "      <td></td>\n",
       "    </tr>\n",
       "    <tr>\n",
       "      <th>2</th>\n",
       "      <td>arcStart</td>\n",
       "      <td>char</td>\n",
       "      <td>MPCORB: Year of first observation (for multi-o...</td>\n",
       "      <td></td>\n",
       "    </tr>\n",
       "    <tr>\n",
       "      <th>3</th>\n",
       "      <td>computer</td>\n",
       "      <td>char</td>\n",
       "      <td>MPCORB: Computer name</td>\n",
       "      <td></td>\n",
       "    </tr>\n",
       "    <tr>\n",
       "      <th>4</th>\n",
       "      <td>e</td>\n",
       "      <td>double</td>\n",
       "      <td>MPCORB: Orbital eccentricity</td>\n",
       "      <td></td>\n",
       "    </tr>\n",
       "    <tr>\n",
       "      <th>5</th>\n",
       "      <td>epoch</td>\n",
       "      <td>double</td>\n",
       "      <td>MPCORB: Epoch (in MJD, .0 TT)</td>\n",
       "      <td>MJD</td>\n",
       "    </tr>\n",
       "    <tr>\n",
       "      <th>6</th>\n",
       "      <td>flags</td>\n",
       "      <td>int</td>\n",
       "      <td>MPCORB: 4-hexdigit flags. See https://minorpla...</td>\n",
       "      <td></td>\n",
       "    </tr>\n",
       "    <tr>\n",
       "      <th>7</th>\n",
       "      <td>fullDesignation</td>\n",
       "      <td>char</td>\n",
       "      <td>MPCORB: Readable designation</td>\n",
       "      <td></td>\n",
       "    </tr>\n",
       "    <tr>\n",
       "      <th>8</th>\n",
       "      <td>incl</td>\n",
       "      <td>double</td>\n",
       "      <td>MPCORB: Inclination to the ecliptic, J2000.0 (...</td>\n",
       "      <td>degrees</td>\n",
       "    </tr>\n",
       "    <tr>\n",
       "      <th>9</th>\n",
       "      <td>lastIncludedObservation</td>\n",
       "      <td>float</td>\n",
       "      <td>MPCORB: Date of last observation included in o...</td>\n",
       "      <td>MJD</td>\n",
       "    </tr>\n",
       "    <tr>\n",
       "      <th>10</th>\n",
       "      <td>mpcDesignation</td>\n",
       "      <td>char</td>\n",
       "      <td>MPCORB: Number or provisional designation (in ...</td>\n",
       "      <td></td>\n",
       "    </tr>\n",
       "    <tr>\n",
       "      <th>11</th>\n",
       "      <td>mpcG</td>\n",
       "      <td>float</td>\n",
       "      <td>MPCORB: Slope parameter, G</td>\n",
       "      <td></td>\n",
       "    </tr>\n",
       "    <tr>\n",
       "      <th>12</th>\n",
       "      <td>mpcH</td>\n",
       "      <td>float</td>\n",
       "      <td>MPCORB: Absolute magnitude, H</td>\n",
       "      <td>mag</td>\n",
       "    </tr>\n",
       "    <tr>\n",
       "      <th>13</th>\n",
       "      <td>mpcNumber</td>\n",
       "      <td>int</td>\n",
       "      <td>MPC number (if the asteroid has been numbered;...</td>\n",
       "      <td></td>\n",
       "    </tr>\n",
       "    <tr>\n",
       "      <th>14</th>\n",
       "      <td>n</td>\n",
       "      <td>double</td>\n",
       "      <td>MPCORB: Mean daily motion (degrees per day)</td>\n",
       "      <td>degrees/day</td>\n",
       "    </tr>\n",
       "    <tr>\n",
       "      <th>15</th>\n",
       "      <td>nobs</td>\n",
       "      <td>int</td>\n",
       "      <td>MPCORB: Number of observations</td>\n",
       "      <td></td>\n",
       "    </tr>\n",
       "    <tr>\n",
       "      <th>16</th>\n",
       "      <td>node</td>\n",
       "      <td>double</td>\n",
       "      <td>MPCORB: Longitude of the ascending node, J2000...</td>\n",
       "      <td>degrees</td>\n",
       "    </tr>\n",
       "    <tr>\n",
       "      <th>17</th>\n",
       "      <td>nopp</td>\n",
       "      <td>int</td>\n",
       "      <td>MPCORB: Number of oppositions</td>\n",
       "      <td></td>\n",
       "    </tr>\n",
       "    <tr>\n",
       "      <th>18</th>\n",
       "      <td>peri</td>\n",
       "      <td>double</td>\n",
       "      <td>MPCORB: Argument of perihelion, J2000.0 (degrees)</td>\n",
       "      <td>degrees</td>\n",
       "    </tr>\n",
       "    <tr>\n",
       "      <th>19</th>\n",
       "      <td>pertsLong</td>\n",
       "      <td>char</td>\n",
       "      <td>MPCORB: Precise indicator of perturbers (blank...</td>\n",
       "      <td></td>\n",
       "    </tr>\n",
       "    <tr>\n",
       "      <th>20</th>\n",
       "      <td>pertsShort</td>\n",
       "      <td>char</td>\n",
       "      <td>MPCORB: Coarse indicator of perturbers (blank ...</td>\n",
       "      <td></td>\n",
       "    </tr>\n",
       "    <tr>\n",
       "      <th>21</th>\n",
       "      <td>q</td>\n",
       "      <td>double</td>\n",
       "      <td>MPCORB: Perihelion distance (AU)</td>\n",
       "      <td>AU</td>\n",
       "    </tr>\n",
       "    <tr>\n",
       "      <th>22</th>\n",
       "      <td>reference</td>\n",
       "      <td>char</td>\n",
       "      <td>MPCORB: Reference</td>\n",
       "      <td></td>\n",
       "    </tr>\n",
       "    <tr>\n",
       "      <th>23</th>\n",
       "      <td>rms</td>\n",
       "      <td>float</td>\n",
       "      <td>MPCORB: r.m.s residual (\")</td>\n",
       "      <td>arcsec</td>\n",
       "    </tr>\n",
       "    <tr>\n",
       "      <th>24</th>\n",
       "      <td>ssObjectId</td>\n",
       "      <td>long</td>\n",
       "      <td>LSST unique identifier (if observed by LSST)</td>\n",
       "      <td></td>\n",
       "    </tr>\n",
       "    <tr>\n",
       "      <th>25</th>\n",
       "      <td>tperi</td>\n",
       "      <td>double</td>\n",
       "      <td>MPCORB: MJD of pericentric passage</td>\n",
       "      <td>days</td>\n",
       "    </tr>\n",
       "    <tr>\n",
       "      <th>26</th>\n",
       "      <td>uncertaintyParameter</td>\n",
       "      <td>char</td>\n",
       "      <td>MPCORB: Uncertainty parameter, U</td>\n",
       "      <td></td>\n",
       "    </tr>\n",
       "  </tbody>\n",
       "</table>\n",
       "</div>"
      ],
      "text/plain": [
       "                column_name datatype   \n",
       "0                       arc    float  \\\n",
       "1                    arcEnd     char   \n",
       "2                  arcStart     char   \n",
       "3                  computer     char   \n",
       "4                         e   double   \n",
       "5                     epoch   double   \n",
       "6                     flags      int   \n",
       "7           fullDesignation     char   \n",
       "8                      incl   double   \n",
       "9   lastIncludedObservation    float   \n",
       "10           mpcDesignation     char   \n",
       "11                     mpcG    float   \n",
       "12                     mpcH    float   \n",
       "13                mpcNumber      int   \n",
       "14                        n   double   \n",
       "15                     nobs      int   \n",
       "16                     node   double   \n",
       "17                     nopp      int   \n",
       "18                     peri   double   \n",
       "19                pertsLong     char   \n",
       "20               pertsShort     char   \n",
       "21                        q   double   \n",
       "22                reference     char   \n",
       "23                      rms    float   \n",
       "24               ssObjectId     long   \n",
       "25                    tperi   double   \n",
       "26     uncertaintyParameter     char   \n",
       "\n",
       "                                          description         unit  \n",
       "0   MPCORB: Arc (days), for single-opposition objects         days  \n",
       "1   MPCORB: Year of last observation (for multi-op...               \n",
       "2   MPCORB: Year of first observation (for multi-o...               \n",
       "3                               MPCORB: Computer name               \n",
       "4                        MPCORB: Orbital eccentricity               \n",
       "5                       MPCORB: Epoch (in MJD, .0 TT)          MJD  \n",
       "6   MPCORB: 4-hexdigit flags. See https://minorpla...               \n",
       "7                        MPCORB: Readable designation               \n",
       "8   MPCORB: Inclination to the ecliptic, J2000.0 (...      degrees  \n",
       "9   MPCORB: Date of last observation included in o...          MJD  \n",
       "10  MPCORB: Number or provisional designation (in ...               \n",
       "11                         MPCORB: Slope parameter, G               \n",
       "12                      MPCORB: Absolute magnitude, H          mag  \n",
       "13  MPC number (if the asteroid has been numbered;...               \n",
       "14        MPCORB: Mean daily motion (degrees per day)  degrees/day  \n",
       "15                     MPCORB: Number of observations               \n",
       "16  MPCORB: Longitude of the ascending node, J2000...      degrees  \n",
       "17                      MPCORB: Number of oppositions               \n",
       "18  MPCORB: Argument of perihelion, J2000.0 (degrees)      degrees  \n",
       "19  MPCORB: Precise indicator of perturbers (blank...               \n",
       "20  MPCORB: Coarse indicator of perturbers (blank ...               \n",
       "21                   MPCORB: Perihelion distance (AU)           AU  \n",
       "22                                  MPCORB: Reference               \n",
       "23                         MPCORB: r.m.s residual (\")       arcsec  \n",
       "24       LSST unique identifier (if observed by LSST)               \n",
       "25                 MPCORB: MJD of pericentric passage         days  \n",
       "26                   MPCORB: Uncertainty parameter, U               "
      ]
     },
     "execution_count": 27,
     "metadata": {},
     "output_type": "execute_result"
    }
   ],
   "source": [
    "results = service.search(\"SELECT column_name, datatype, description, unit from TAP_SCHEMA.columns \"\n",
    "                         \"WHERE table_name = 'dp03_catalogs.MPCORB'\")\n",
    "results.to_table().to_pandas()"
   ]
  },
  {
   "cell_type": "markdown",
   "id": "06e52c7d-3e45-4f21-bddd-1b7e7d879e21",
   "metadata": {},
   "source": [
    "In some cases, the column descriptions cut off in the table above.\n",
    "\n",
    "Execute the following to see, for example, the full description for the `mpcDesignation` column."
   ]
  },
  {
   "cell_type": "code",
   "execution_count": 45,
   "id": "7743b75b-9c91-4756-892e-741e15bd3cef",
   "metadata": {
    "execution": {
     "iopub.execute_input": "2023-07-10T21:32:42.308839Z",
     "iopub.status.busy": "2023-07-10T21:32:42.307804Z",
     "iopub.status.idle": "2023-07-10T21:32:42.314517Z",
     "shell.execute_reply": "2023-07-10T21:32:42.313652Z",
     "shell.execute_reply.started": "2023-07-10T21:32:42.308802Z"
    },
    "tags": []
   },
   "outputs": [
    {
     "data": {
      "text/plain": [
       "'degrees'"
      ]
     },
     "execution_count": 45,
     "metadata": {},
     "output_type": "execute_result"
    }
   ],
   "source": [
    "results['description'][10]"
   ]
  },
  {
   "cell_type": "markdown",
   "id": "50c4dcdf-9e70-4c56-aa2b-15c7bc6feb65",
   "metadata": {},
   "source": [
    "### 3.3. Retrieve a random subset\n",
    "\n",
    "To retrieve a random subset of rows, make use of the fact that `ssObjectId` is a randomly assigned 64-bit long unsigned integer. \n",
    "Since ADQL interprets a 64-bit long unsigned integer as a 63-bit _signed_ integer, \n",
    "these range from a very large negative integer value to a very large positive integer value.\n",
    "This will be fixed in the future so that all identifiers are positive numbers.\n",
    "\n",
    "> **Notice:** By using `ssObjectId`, the following query returns a random subset of `MPCORB` rows\n",
    "*that are associated with a row in the `SSObject` table*.\n",
    "In other words, this limits the query to only retrive moving objects from the `MPCORB` table that have been detected by LSST.\n",
    "\n",
    "First, figure out the full range of `ssObjectId` values by using the ADQL `MAX` and `MIN` functions."
   ]
  },
  {
   "cell_type": "code",
   "execution_count": 55,
   "id": "daf15ffa-ac64-497b-8a08-2df29570fa36",
   "metadata": {
    "execution": {
     "iopub.execute_input": "2023-07-10T21:42:02.133125Z",
     "iopub.status.busy": "2023-07-10T21:42:02.131962Z",
     "iopub.status.idle": "2023-07-10T21:42:02.330597Z",
     "shell.execute_reply": "2023-07-10T21:42:02.329715Z",
     "shell.execute_reply.started": "2023-07-10T21:42:02.133064Z"
    },
    "tags": []
   },
   "outputs": [
    {
     "data": {
      "text/html": [
       "<div><i>Table length=1</i>\n",
       "<table id=\"table140648038306464\" class=\"table-striped table-bordered table-condensed\">\n",
       "<thead><tr><th>max</th><th>min</th></tr></thead>\n",
       "<thead><tr><th>int64</th><th>int64</th></tr></thead>\n",
       "<tr><td>9223370875126069107</td><td>-9223370383071521539</td></tr>\n",
       "</table></div>"
      ],
      "text/plain": [
       "<Table length=1>\n",
       "        max                 min         \n",
       "       int64               int64        \n",
       "------------------- --------------------\n",
       "9223370875126069107 -9223370383071521539"
      ]
     },
     "execution_count": 55,
     "metadata": {},
     "output_type": "execute_result"
    }
   ],
   "source": [
    "results = service.search(\"SELECT max(ssObjectId), min(ssObjectId)\"\n",
    "                         \"FROM dp03_catalogs.MPCORB\")\n",
    "results.to_table()"
   ]
  },
  {
   "cell_type": "markdown",
   "id": "086af243-a5fe-4bc3-b7d9-57595cb0c637",
   "metadata": {},
   "source": [
    "Define a search range for `ssObjectId` that would return no more than 1% of all objects in `MPCORB`."
   ]
  },
  {
   "cell_type": "code",
   "execution_count": 56,
   "id": "d398a04b-e69c-45fa-b1af-49f82354b31d",
   "metadata": {
    "execution": {
     "iopub.execute_input": "2023-07-10T21:42:02.615687Z",
     "iopub.status.busy": "2023-07-10T21:42:02.614669Z",
     "iopub.status.idle": "2023-07-10T21:42:02.620914Z",
     "shell.execute_reply": "2023-07-10T21:42:02.620061Z",
     "shell.execute_reply.started": "2023-07-10T21:42:02.615653Z"
    },
    "tags": []
   },
   "outputs": [
    {
     "name": "stdout",
     "output_type": "stream",
     "text": [
      "Search range:  9131137166374808576 9223370875126069107\n"
     ]
    }
   ],
   "source": [
    "max_val = int(results[0].get('max'))\n",
    "min_val = int(max_val - (0.01 * max_val))\n",
    "print('Search range: ', min_val, max_val)"
   ]
  },
  {
   "cell_type": "markdown",
   "id": "6ab5d7bb-6c76-4a06-9086-d6d92d458ce3",
   "metadata": {
    "execution": {
     "iopub.execute_input": "2023-06-27T22:39:44.565969Z",
     "iopub.status.busy": "2023-06-27T22:39:44.565076Z",
     "iopub.status.idle": "2023-06-27T22:39:44.570822Z",
     "shell.execute_reply": "2023-06-27T22:39:44.569984Z",
     "shell.execute_reply.started": "2023-06-27T22:39:44.565938Z"
    },
    "tags": []
   },
   "source": [
    "Execute the search, and retrive all (\\*) columns from the `MPCORB` table.\n",
    "\n",
    "Store the results in `df` as a `pandas` dataframe.\n",
    "\n",
    ">**Notice:** Warnings will appear in pink, but they can be ignored as they will soon be correct."
   ]
  },
  {
   "cell_type": "code",
   "execution_count": 57,
   "id": "21fc62cd-b749-46fa-8739-f5ba90c36d83",
   "metadata": {
    "execution": {
     "iopub.execute_input": "2023-07-10T21:42:03.304862Z",
     "iopub.status.busy": "2023-07-10T21:42:03.303573Z",
     "iopub.status.idle": "2023-07-10T21:42:09.906409Z",
     "shell.execute_reply": "2023-07-10T21:42:09.905283Z",
     "shell.execute_reply.started": "2023-07-10T21:42:03.304827Z"
    },
    "tags": []
   },
   "outputs": [
    {
     "name": "stderr",
     "output_type": "stream",
     "text": [
      "WARNING: UnitsWarning: Unit 'days' not supported by the VOUnit standard. Did you mean daS or das? [astropy.units.format.vounit]\n"
     ]
    },
    {
     "data": {
      "text/html": [
       "<pre style=\"margin: 0.1em;\n",
       "padding-left: 0.25em;\n",
       "border-left-style: solid;\n",
       "font-family: var(--jp-code-font-family);\n",
       "font-size: var(--jp-code-font-size);\n",
       "line-height: var(--jp-code-line-height);\n",
       "\"><span style=\"color: var(--jp-warn-color2)\">astropy</span> <span style=\"color: var(--jp-warn-color0)\">WARNING</span>: UnitsWarning: Unit &#x27;days&#x27; not supported by the VOUnit standard. Did you mean daS or das?</pre>"
      ],
      "text/plain": [
       "<IPython.core.display.HTML object>"
      ]
     },
     "metadata": {},
     "output_type": "display_data"
    },
    {
     "name": "stderr",
     "output_type": "stream",
     "text": [
      "WARNING: UnitsWarning: Unit 'MJD' not supported by the VOUnit standard. Did you mean MD, MJ, Md, mD, mJ or md? [astropy.units.format.vounit]\n"
     ]
    },
    {
     "data": {
      "text/html": [
       "<pre style=\"margin: 0.1em;\n",
       "padding-left: 0.25em;\n",
       "border-left-style: solid;\n",
       "font-family: var(--jp-code-font-family);\n",
       "font-size: var(--jp-code-font-size);\n",
       "line-height: var(--jp-code-line-height);\n",
       "\"><span style=\"color: var(--jp-warn-color2)\">astropy</span> <span style=\"color: var(--jp-warn-color0)\">WARNING</span>: UnitsWarning: Unit &#x27;MJD&#x27; not supported by the VOUnit standard. Did you mean MD, MJ, Md, mD, mJ or md?</pre>"
      ],
      "text/plain": [
       "<IPython.core.display.HTML object>"
      ]
     },
     "metadata": {},
     "output_type": "display_data"
    },
    {
     "name": "stderr",
     "output_type": "stream",
     "text": [
      "WARNING: UnitsWarning: Unit 'degrees' not supported by the VOUnit standard.  [astropy.units.format.vounit]\n"
     ]
    },
    {
     "data": {
      "text/html": [
       "<pre style=\"margin: 0.1em;\n",
       "padding-left: 0.25em;\n",
       "border-left-style: solid;\n",
       "font-family: var(--jp-code-font-family);\n",
       "font-size: var(--jp-code-font-size);\n",
       "line-height: var(--jp-code-line-height);\n",
       "\"><span style=\"color: var(--jp-warn-color2)\">astropy</span> <span style=\"color: var(--jp-warn-color0)\">WARNING</span>: UnitsWarning: Unit &#x27;degrees&#x27; not supported by the VOUnit standard. </pre>"
      ],
      "text/plain": [
       "<IPython.core.display.HTML object>"
      ]
     },
     "metadata": {},
     "output_type": "display_data"
    },
    {
     "name": "stderr",
     "output_type": "stream",
     "text": [
      "WARNING: UnitsWarning: Unit 'day' not supported by the VOUnit standard. Did you mean daJy, daRy or dayr? [astropy.units.format.vounit]\n"
     ]
    },
    {
     "data": {
      "text/html": [
       "<pre style=\"margin: 0.1em;\n",
       "padding-left: 0.25em;\n",
       "border-left-style: solid;\n",
       "font-family: var(--jp-code-font-family);\n",
       "font-size: var(--jp-code-font-size);\n",
       "line-height: var(--jp-code-line-height);\n",
       "\"><span style=\"color: var(--jp-warn-color2)\">astropy</span> <span style=\"color: var(--jp-warn-color0)\">WARNING</span>: UnitsWarning: Unit &#x27;day&#x27; not supported by the VOUnit standard. Did you mean daJy, daRy or dayr?</pre>"
      ],
      "text/plain": [
       "<IPython.core.display.HTML object>"
      ]
     },
     "metadata": {},
     "output_type": "display_data"
    }
   ],
   "source": [
    "results = service.search(\"SELECT * FROM dp03_catalogs.MPCORB \"\n",
    "                         \"WHERE ssObjectId BETWEEN 9131137166374808576 AND 9223370875126069107\")\n",
    "df = results.to_table().to_pandas()"
   ]
  },
  {
   "cell_type": "markdown",
   "id": "0e2fb6d0-dddf-4c35-aa1d-561f7fcf29a8",
   "metadata": {},
   "source": [
    "Display the resulting dataframe. Note that it is automatically truncated for both columns and rows \n",
    "(look for the \"...\" halfway down, and halfway across)."
   ]
  },
  {
   "cell_type": "code",
   "execution_count": 58,
   "id": "6cdda7dc-977e-46f1-84ad-aad3b7ab087f",
   "metadata": {
    "execution": {
     "iopub.execute_input": "2023-07-10T21:42:09.968283Z",
     "iopub.status.busy": "2023-07-10T21:42:09.968018Z",
     "iopub.status.idle": "2023-07-10T21:42:10.015901Z",
     "shell.execute_reply": "2023-07-10T21:42:10.015065Z",
     "shell.execute_reply.started": "2023-07-10T21:42:09.968262Z"
    },
    "tags": []
   },
   "outputs": [
    {
     "data": {
      "text/html": [
       "<div>\n",
       "<style scoped>\n",
       "    .dataframe tbody tr th:only-of-type {\n",
       "        vertical-align: middle;\n",
       "    }\n",
       "\n",
       "    .dataframe tbody tr th {\n",
       "        vertical-align: top;\n",
       "    }\n",
       "\n",
       "    .dataframe thead th {\n",
       "        text-align: right;\n",
       "    }\n",
       "</style>\n",
       "<table border=\"1\" class=\"dataframe\">\n",
       "  <thead>\n",
       "    <tr style=\"text-align: right;\">\n",
       "      <th></th>\n",
       "      <th>arc</th>\n",
       "      <th>arcEnd</th>\n",
       "      <th>arcStart</th>\n",
       "      <th>computer</th>\n",
       "      <th>e</th>\n",
       "      <th>epoch</th>\n",
       "      <th>flags</th>\n",
       "      <th>fullDesignation</th>\n",
       "      <th>incl</th>\n",
       "      <th>lastIncludedObservation</th>\n",
       "      <th>...</th>\n",
       "      <th>nopp</th>\n",
       "      <th>peri</th>\n",
       "      <th>pertsLong</th>\n",
       "      <th>pertsShort</th>\n",
       "      <th>q</th>\n",
       "      <th>reference</th>\n",
       "      <th>rms</th>\n",
       "      <th>ssObjectId</th>\n",
       "      <th>tperi</th>\n",
       "      <th>uncertaintyParameter</th>\n",
       "    </tr>\n",
       "  </thead>\n",
       "  <tbody>\n",
       "    <tr>\n",
       "      <th>0</th>\n",
       "      <td>NaN</td>\n",
       "      <td></td>\n",
       "      <td></td>\n",
       "      <td></td>\n",
       "      <td>0.570970</td>\n",
       "      <td>54800.000000</td>\n",
       "      <td>0</td>\n",
       "      <td>2011 SR00004K</td>\n",
       "      <td>25.939150</td>\n",
       "      <td>NaN</td>\n",
       "      <td>...</td>\n",
       "      <td>0</td>\n",
       "      <td>350.606980</td>\n",
       "      <td></td>\n",
       "      <td></td>\n",
       "      <td>6.113300</td>\n",
       "      <td></td>\n",
       "      <td>NaN</td>\n",
       "      <td>9185009465900868832</td>\n",
       "      <td>20859.963850</td>\n",
       "      <td></td>\n",
       "    </tr>\n",
       "    <tr>\n",
       "      <th>1</th>\n",
       "      <td>NaN</td>\n",
       "      <td></td>\n",
       "      <td></td>\n",
       "      <td></td>\n",
       "      <td>0.363600</td>\n",
       "      <td>54800.000000</td>\n",
       "      <td>0</td>\n",
       "      <td>2011 SR0000iQ</td>\n",
       "      <td>16.353220</td>\n",
       "      <td>NaN</td>\n",
       "      <td>...</td>\n",
       "      <td>0</td>\n",
       "      <td>147.316050</td>\n",
       "      <td></td>\n",
       "      <td></td>\n",
       "      <td>17.303450</td>\n",
       "      <td></td>\n",
       "      <td>NaN</td>\n",
       "      <td>9136273658435248197</td>\n",
       "      <td>51070.857800</td>\n",
       "      <td></td>\n",
       "    </tr>\n",
       "    <tr>\n",
       "      <th>2</th>\n",
       "      <td>NaN</td>\n",
       "      <td></td>\n",
       "      <td></td>\n",
       "      <td></td>\n",
       "      <td>0.422040</td>\n",
       "      <td>54800.000000</td>\n",
       "      <td>0</td>\n",
       "      <td>2011 SR0000jR</td>\n",
       "      <td>16.453660</td>\n",
       "      <td>NaN</td>\n",
       "      <td>...</td>\n",
       "      <td>0</td>\n",
       "      <td>274.863090</td>\n",
       "      <td></td>\n",
       "      <td></td>\n",
       "      <td>6.479600</td>\n",
       "      <td></td>\n",
       "      <td>NaN</td>\n",
       "      <td>9196671585077870249</td>\n",
       "      <td>28521.104640</td>\n",
       "      <td></td>\n",
       "    </tr>\n",
       "    <tr>\n",
       "      <th>3</th>\n",
       "      <td>NaN</td>\n",
       "      <td></td>\n",
       "      <td></td>\n",
       "      <td></td>\n",
       "      <td>0.639530</td>\n",
       "      <td>54800.000000</td>\n",
       "      <td>0</td>\n",
       "      <td>2011 SR0000sn</td>\n",
       "      <td>15.263050</td>\n",
       "      <td>NaN</td>\n",
       "      <td>...</td>\n",
       "      <td>0</td>\n",
       "      <td>226.268830</td>\n",
       "      <td></td>\n",
       "      <td></td>\n",
       "      <td>9.611210</td>\n",
       "      <td></td>\n",
       "      <td>NaN</td>\n",
       "      <td>9165069355693008015</td>\n",
       "      <td>47926.391840</td>\n",
       "      <td></td>\n",
       "    </tr>\n",
       "    <tr>\n",
       "      <th>4</th>\n",
       "      <td>NaN</td>\n",
       "      <td></td>\n",
       "      <td></td>\n",
       "      <td></td>\n",
       "      <td>0.558600</td>\n",
       "      <td>54800.000000</td>\n",
       "      <td>0</td>\n",
       "      <td>2011 SR0000O9</td>\n",
       "      <td>2.014410</td>\n",
       "      <td>NaN</td>\n",
       "      <td>...</td>\n",
       "      <td>0</td>\n",
       "      <td>342.576070</td>\n",
       "      <td></td>\n",
       "      <td></td>\n",
       "      <td>6.387960</td>\n",
       "      <td></td>\n",
       "      <td>NaN</td>\n",
       "      <td>9204187278771900476</td>\n",
       "      <td>54049.125620</td>\n",
       "      <td></td>\n",
       "    </tr>\n",
       "    <tr>\n",
       "      <th>...</th>\n",
       "      <td>...</td>\n",
       "      <td>...</td>\n",
       "      <td>...</td>\n",
       "      <td>...</td>\n",
       "      <td>...</td>\n",
       "      <td>...</td>\n",
       "      <td>...</td>\n",
       "      <td>...</td>\n",
       "      <td>...</td>\n",
       "      <td>...</td>\n",
       "      <td>...</td>\n",
       "      <td>...</td>\n",
       "      <td>...</td>\n",
       "      <td>...</td>\n",
       "      <td>...</td>\n",
       "      <td>...</td>\n",
       "      <td>...</td>\n",
       "      <td>...</td>\n",
       "      <td>...</td>\n",
       "      <td>...</td>\n",
       "      <td>...</td>\n",
       "    </tr>\n",
       "    <tr>\n",
       "      <th>73195</th>\n",
       "      <td>NaN</td>\n",
       "      <td></td>\n",
       "      <td></td>\n",
       "      <td></td>\n",
       "      <td>0.699330</td>\n",
       "      <td>73349.917495</td>\n",
       "      <td>0</td>\n",
       "      <td>2011 SI00029q</td>\n",
       "      <td>8.924373</td>\n",
       "      <td>NaN</td>\n",
       "      <td>...</td>\n",
       "      <td>0</td>\n",
       "      <td>155.486565</td>\n",
       "      <td></td>\n",
       "      <td></td>\n",
       "      <td>1.010904</td>\n",
       "      <td></td>\n",
       "      <td>NaN</td>\n",
       "      <td>9202444422702896229</td>\n",
       "      <td>72771.929158</td>\n",
       "      <td></td>\n",
       "    </tr>\n",
       "    <tr>\n",
       "      <th>73196</th>\n",
       "      <td>NaN</td>\n",
       "      <td></td>\n",
       "      <td></td>\n",
       "      <td></td>\n",
       "      <td>0.241565</td>\n",
       "      <td>82907.000554</td>\n",
       "      <td>0</td>\n",
       "      <td>2011 SI0002l6</td>\n",
       "      <td>9.715864</td>\n",
       "      <td>NaN</td>\n",
       "      <td>...</td>\n",
       "      <td>0</td>\n",
       "      <td>17.733114</td>\n",
       "      <td></td>\n",
       "      <td></td>\n",
       "      <td>0.974737</td>\n",
       "      <td></td>\n",
       "      <td>NaN</td>\n",
       "      <td>9177118190137388277</td>\n",
       "      <td>83012.719158</td>\n",
       "      <td></td>\n",
       "    </tr>\n",
       "    <tr>\n",
       "      <th>73197</th>\n",
       "      <td>NaN</td>\n",
       "      <td></td>\n",
       "      <td></td>\n",
       "      <td></td>\n",
       "      <td>0.563781</td>\n",
       "      <td>61365.350292</td>\n",
       "      <td>0</td>\n",
       "      <td>2011 SI0002qP</td>\n",
       "      <td>4.110239</td>\n",
       "      <td>NaN</td>\n",
       "      <td>...</td>\n",
       "      <td>0</td>\n",
       "      <td>152.428342</td>\n",
       "      <td></td>\n",
       "      <td></td>\n",
       "      <td>0.949081</td>\n",
       "      <td></td>\n",
       "      <td>NaN</td>\n",
       "      <td>9220586587601309840</td>\n",
       "      <td>61834.429501</td>\n",
       "      <td></td>\n",
       "    </tr>\n",
       "    <tr>\n",
       "      <th>73198</th>\n",
       "      <td>NaN</td>\n",
       "      <td></td>\n",
       "      <td></td>\n",
       "      <td></td>\n",
       "      <td>0.686982</td>\n",
       "      <td>64269.689620</td>\n",
       "      <td>0</td>\n",
       "      <td>2011 SI0002uH</td>\n",
       "      <td>1.053755</td>\n",
       "      <td>NaN</td>\n",
       "      <td>...</td>\n",
       "      <td>0</td>\n",
       "      <td>324.365268</td>\n",
       "      <td></td>\n",
       "      <td></td>\n",
       "      <td>0.873964</td>\n",
       "      <td></td>\n",
       "      <td>NaN</td>\n",
       "      <td>9143316944274961815</td>\n",
       "      <td>65005.664047</td>\n",
       "      <td></td>\n",
       "    </tr>\n",
       "    <tr>\n",
       "      <th>73199</th>\n",
       "      <td>NaN</td>\n",
       "      <td></td>\n",
       "      <td></td>\n",
       "      <td></td>\n",
       "      <td>0.541698</td>\n",
       "      <td>70097.664420</td>\n",
       "      <td>0</td>\n",
       "      <td>2011 SI0002wp</td>\n",
       "      <td>23.764471</td>\n",
       "      <td>NaN</td>\n",
       "      <td>...</td>\n",
       "      <td>0</td>\n",
       "      <td>23.457799</td>\n",
       "      <td></td>\n",
       "      <td></td>\n",
       "      <td>0.323058</td>\n",
       "      <td></td>\n",
       "      <td>NaN</td>\n",
       "      <td>9137949399332570056</td>\n",
       "      <td>70025.768514</td>\n",
       "      <td></td>\n",
       "    </tr>\n",
       "  </tbody>\n",
       "</table>\n",
       "<p>73200 rows × 27 columns</p>\n",
       "</div>"
      ],
      "text/plain": [
       "       arc arcEnd arcStart computer         e         epoch  flags   \n",
       "0      NaN                           0.570970  54800.000000      0  \\\n",
       "1      NaN                           0.363600  54800.000000      0   \n",
       "2      NaN                           0.422040  54800.000000      0   \n",
       "3      NaN                           0.639530  54800.000000      0   \n",
       "4      NaN                           0.558600  54800.000000      0   \n",
       "...    ...    ...      ...      ...       ...           ...    ...   \n",
       "73195  NaN                           0.699330  73349.917495      0   \n",
       "73196  NaN                           0.241565  82907.000554      0   \n",
       "73197  NaN                           0.563781  61365.350292      0   \n",
       "73198  NaN                           0.686982  64269.689620      0   \n",
       "73199  NaN                           0.541698  70097.664420      0   \n",
       "\n",
       "      fullDesignation       incl  lastIncludedObservation  ... nopp   \n",
       "0       2011 SR00004K  25.939150                      NaN  ...    0  \\\n",
       "1       2011 SR0000iQ  16.353220                      NaN  ...    0   \n",
       "2       2011 SR0000jR  16.453660                      NaN  ...    0   \n",
       "3       2011 SR0000sn  15.263050                      NaN  ...    0   \n",
       "4       2011 SR0000O9   2.014410                      NaN  ...    0   \n",
       "...               ...        ...                      ...  ...  ...   \n",
       "73195   2011 SI00029q   8.924373                      NaN  ...    0   \n",
       "73196   2011 SI0002l6   9.715864                      NaN  ...    0   \n",
       "73197   2011 SI0002qP   4.110239                      NaN  ...    0   \n",
       "73198   2011 SI0002uH   1.053755                      NaN  ...    0   \n",
       "73199   2011 SI0002wp  23.764471                      NaN  ...    0   \n",
       "\n",
       "             peri  pertsLong  pertsShort          q  reference  rms   \n",
       "0      350.606980                          6.113300             NaN  \\\n",
       "1      147.316050                         17.303450             NaN   \n",
       "2      274.863090                          6.479600             NaN   \n",
       "3      226.268830                          9.611210             NaN   \n",
       "4      342.576070                          6.387960             NaN   \n",
       "...           ...        ...         ...        ...        ...  ...   \n",
       "73195  155.486565                          1.010904             NaN   \n",
       "73196   17.733114                          0.974737             NaN   \n",
       "73197  152.428342                          0.949081             NaN   \n",
       "73198  324.365268                          0.873964             NaN   \n",
       "73199   23.457799                          0.323058             NaN   \n",
       "\n",
       "                ssObjectId         tperi uncertaintyParameter  \n",
       "0      9185009465900868832  20859.963850                       \n",
       "1      9136273658435248197  51070.857800                       \n",
       "2      9196671585077870249  28521.104640                       \n",
       "3      9165069355693008015  47926.391840                       \n",
       "4      9204187278771900476  54049.125620                       \n",
       "...                    ...           ...                  ...  \n",
       "73195  9202444422702896229  72771.929158                       \n",
       "73196  9177118190137388277  83012.719158                       \n",
       "73197  9220586587601309840  61834.429501                       \n",
       "73198  9143316944274961815  65005.664047                       \n",
       "73199  9137949399332570056  70025.768514                       \n",
       "\n",
       "[73200 rows x 27 columns]"
      ]
     },
     "execution_count": 58,
     "metadata": {},
     "output_type": "execute_result"
    }
   ],
   "source": [
    "df"
   ]
  },
  {
   "cell_type": "markdown",
   "id": "528bd445-2510-4fbd-985e-f33c91f3e47f",
   "metadata": {},
   "source": [
    "As expected, the returned number of 73200 rows is less than 1% of 14.6 million,\n",
    "but it is large enough for the purposes of demonstration.\n",
    "\n",
    "> **Notice:** There are several columns that currently contain `NaN` (not a number) values.\n",
    "For the simulated DP0.3 data these columns might be replaced in the near future, \n",
    "and for real data releases there will not be all-`NaN` columns.\n",
    "\n",
    "If desired, users can drop all-`NaN` columns with, e.g., `df.dropna(axis=1, how='all', inplace=True)`.\n",
    "However the better practice is to understand the columns and retrive only what you are going to use."
   ]
  },
  {
   "cell_type": "markdown",
   "id": "aaa28cea-3137-4a8a-a5a1-756a4943ddbb",
   "metadata": {
    "execution": {
     "iopub.execute_input": "2023-06-27T22:42:58.606568Z",
     "iopub.status.busy": "2023-06-27T22:42:58.605621Z",
     "iopub.status.idle": "2023-06-27T22:42:58.612817Z",
     "shell.execute_reply": "2023-06-27T22:42:58.611762Z",
     "shell.execute_reply.started": "2023-06-27T22:42:58.606523Z"
    },
    "tags": []
   },
   "source": [
    "**Optional:** use the `pandas` dataframe `info` function to learn more about the values in the retrieved columns.\n",
    "Uncomment the following code cell (remove the # symbol) and execute the cell to see the info on `df`."
   ]
  },
  {
   "cell_type": "code",
   "execution_count": 59,
   "id": "1752b220-1916-440b-8c3e-616c4e0623f7",
   "metadata": {
    "execution": {
     "iopub.execute_input": "2023-07-10T21:42:10.018519Z",
     "iopub.status.busy": "2023-07-10T21:42:10.017658Z",
     "iopub.status.idle": "2023-07-10T21:42:10.021894Z",
     "shell.execute_reply": "2023-07-10T21:42:10.021026Z",
     "shell.execute_reply.started": "2023-07-10T21:42:10.018493Z"
    },
    "tags": []
   },
   "outputs": [],
   "source": [
    "# df.info()"
   ]
  },
  {
   "cell_type": "markdown",
   "id": "b4a18142-d555-4cba-a499-b80902ba4a2e",
   "metadata": {},
   "source": [
    "**Optional:** use the `pandas` fuction `describe` to display population distribution information for the \n",
    "numerical columns in the dataframe (count, mean, standard deviation, etc.)."
   ]
  },
  {
   "cell_type": "code",
   "execution_count": 60,
   "id": "0cdf2982-1cc2-476c-a14b-9ba9d3561fb2",
   "metadata": {
    "execution": {
     "iopub.execute_input": "2023-07-10T21:42:10.022932Z",
     "iopub.status.busy": "2023-07-10T21:42:10.022716Z",
     "iopub.status.idle": "2023-07-10T21:42:10.036634Z",
     "shell.execute_reply": "2023-07-10T21:42:10.035792Z",
     "shell.execute_reply.started": "2023-07-10T21:42:10.022914Z"
    },
    "tags": []
   },
   "outputs": [],
   "source": [
    "# df.describe()"
   ]
  },
  {
   "cell_type": "markdown",
   "id": "9721c47c-6302-4e0c-8d38-3825ff86266c",
   "metadata": {},
   "source": [
    "### 3.4. Plot histograms of orbital elements\n",
    "\n",
    "Wikipedia provides a decent <a href=\"https://en.wikipedia.org/wiki/Orbital_elementshttps://en.wikipedia.org/wiki/Orbital_elements\">beginner-level guide to orbital elements</a>.\n",
    "\n",
    "For a quick reference, distributions are shown below for six key orbital elements."
   ]
  },
  {
   "cell_type": "code",
   "execution_count": 70,
   "id": "478cba37-0c97-4132-83e5-6bde2083b6bc",
   "metadata": {
    "execution": {
     "iopub.execute_input": "2023-07-10T21:44:51.904054Z",
     "iopub.status.busy": "2023-07-10T21:44:51.903116Z",
     "iopub.status.idle": "2023-07-10T21:44:53.145501Z",
     "shell.execute_reply": "2023-07-10T21:44:53.144746Z",
     "shell.execute_reply.started": "2023-07-10T21:44:51.904020Z"
    },
    "tags": []
   },
   "outputs": [
    {
     "data": {
      "image/png": "[encoded data removed]",
      "text/plain": [
       "<Figure size 800x400 with 6 Axes>"
      ]
     },
     "metadata": {},
     "output_type": "display_data"
    }
   ],
   "source": [
    "fig, ax = plt.subplots(2, 3, figsize=(8, 4), sharey=True)\n",
    "ax[0, 0].hist(df['e'], bins=100, log=True)\n",
    "ax[0, 0].set_xlabel('Eccentricity')\n",
    "ax[0, 0].set_ylabel('log(Number)')\n",
    "ax[0, 1].hist(df['incl'], bins=100, log=True)\n",
    "ax[0, 1].set_xlabel('Inclination (deg)')\n",
    "ax[0, 1].set_ylabel('log(Number)')\n",
    "ax[0, 2].hist(df['mpcH'], bins=100, log=True)\n",
    "ax[0, 2].set_xlabel('Absolute Magnitude, H (mag)')\n",
    "ax[0, 2].set_ylabel('log(Number)')\n",
    "ax[1, 0].hist(df['node'], bins=50, log=True)\n",
    "ax[1, 0].set_xlabel('Longitude of Ascending Node (deg)')\n",
    "ax[1, 0].set_ylabel('log(Number)')\n",
    "ax[1, 1].hist(df['peri'], bins=50, log=True)\n",
    "ax[1, 1].set_xlabel('Argument of Perihelion (deg)')\n",
    "ax[1, 1].set_ylabel('log(Number)')\n",
    "ax[1, 2].hist(df['q'], bins=100, log=True)\n",
    "ax[1, 2].set_xlabel('Perihelion Distance (AU)')\n",
    "ax[1, 2].set_ylabel('log(Number)')\n",
    "fig.suptitle('Histograms for Key Orbital Elements')\n",
    "fig.tight_layout()\n",
    "plt.show()"
   ]
  },
  {
   "cell_type": "markdown",
   "id": "463704a9-dc73-4f7c-abfd-43b2f9731539",
   "metadata": {
    "execution": {
     "iopub.execute_input": "2023-06-17T15:47:28.771164Z",
     "iopub.status.busy": "2023-06-17T15:47:28.770077Z",
     "iopub.status.idle": "2023-06-17T15:47:28.774678Z",
     "shell.execute_reply": "2023-06-17T15:47:28.773860Z",
     "shell.execute_reply.started": "2023-06-17T15:47:28.771122Z"
    },
    "tags": []
   },
   "source": [
    "## 4. The `SSObject` table\n",
    "\n",
    "During Rubin Operations, Prompt Processing will occur during the night, detecting sources in \n",
    "difference images (`DiaSources`, see Section 6) and associating them into static-sky transients\n",
    "and variables (`DiaObjects`, not included in DP0.3).\n",
    "\n",
    "The Solar System Processing which occurs in the daytime, after a night of observing,\n",
    "links together the `DiaSources` for moving objects into `SSObjects`.\n",
    "Whereas the `MPCORB` table contains the orbital elements for these moving objects,\n",
    "the `SSObjects` contains the Rubin-measured properties such as phase curve fits and absolute magnitudes.\n",
    "\n",
    "> **Notice:** no artifacts or spurious difference-image sources have been injected into the DP0.3 catalogs.\n",
    "\n",
    "### 4.1. Size\n",
    "\n",
    "Use the ADQL count function to return the size."
   ]
  },
  {
   "cell_type": "code",
   "execution_count": 67,
   "id": "cd943cfe-7c32-49da-b2eb-af12cf3b78b2",
   "metadata": {
    "execution": {
     "iopub.execute_input": "2023-07-10T21:43:56.877435Z",
     "iopub.status.busy": "2023-07-10T21:43:56.876550Z",
     "iopub.status.idle": "2023-07-10T21:43:57.238944Z",
     "shell.execute_reply": "2023-07-10T21:43:57.238252Z",
     "shell.execute_reply.started": "2023-07-10T21:43:56.877406Z"
    },
    "tags": []
   },
   "outputs": [
    {
     "data": {
      "text/html": [
       "<div>\n",
       "<style scoped>\n",
       "    .dataframe tbody tr th:only-of-type {\n",
       "        vertical-align: middle;\n",
       "    }\n",
       "\n",
       "    .dataframe tbody tr th {\n",
       "        vertical-align: top;\n",
       "    }\n",
       "\n",
       "    .dataframe thead th {\n",
       "        text-align: right;\n",
       "    }\n",
       "</style>\n",
       "<table border=\"1\" class=\"dataframe\">\n",
       "  <thead>\n",
       "    <tr style=\"text-align: right;\">\n",
       "      <th></th>\n",
       "      <th>COUNT</th>\n",
       "    </tr>\n",
       "  </thead>\n",
       "  <tbody>\n",
       "    <tr>\n",
       "      <th>0</th>\n",
       "      <td>10222593</td>\n",
       "    </tr>\n",
       "  </tbody>\n",
       "</table>\n",
       "</div>"
      ],
      "text/plain": [
       "      COUNT\n",
       "0  10222593"
      ]
     },
     "execution_count": 67,
     "metadata": {},
     "output_type": "execute_result"
    }
   ],
   "source": [
    "results = service.search(\"SELECT COUNT(*) from dp03_catalogs.SSObject\")\n",
    "results.to_table().to_pandas()"
   ]
  },
  {
   "cell_type": "markdown",
   "id": "56f8dad2-5f9a-4393-960c-f652440ed3b1",
   "metadata": {},
   "source": [
    "The DP0.3 data set contains 10.2 million solar system objects detected by Rubin.\n",
    "\n",
    "This is less than the 14.6 million objects in the `MPCORB` catalog.\n",
    "It is left as an exercise for the learner in Section 7 to determine the characteristics of those \n",
    "objects from the `MPCORB` table are missing from the `SSObject` table."
   ]
  },
  {
   "cell_type": "markdown",
   "id": "cb8901f4-f8d2-43a1-b2c4-cc020a31a30f",
   "metadata": {},
   "source": [
    "### 4.2. Columns\n",
    "\n",
    "**Option:** display a list of column names, data types, descriptions, and units."
   ]
  },
  {
   "cell_type": "code",
   "execution_count": 72,
   "id": "19816767-ea9b-4b23-a38d-c16a05450604",
   "metadata": {
    "execution": {
     "iopub.execute_input": "2023-07-10T22:00:45.149412Z",
     "iopub.status.busy": "2023-07-10T22:00:45.148911Z",
     "iopub.status.idle": "2023-07-10T22:00:45.153962Z",
     "shell.execute_reply": "2023-07-10T22:00:45.153041Z",
     "shell.execute_reply.started": "2023-07-10T22:00:45.149380Z"
    },
    "tags": []
   },
   "outputs": [],
   "source": [
    "# results = service.search(\"SELECT column_name, datatype, description, unit from TAP_SCHEMA.columns \"\n",
    "#                          \"WHERE table_name = 'dp03_catalogs.SSObject'\")\n",
    "# results.to_table().to_pandas()"
   ]
  },
  {
   "cell_type": "markdown",
   "id": "e4c7043b-4fc4-4c46-a819-9c3bdfed379a",
   "metadata": {},
   "source": [
    "### 4.3. Retrieve a random subset\n",
    "\n",
    "Use essentially the same query as was used for the `MPCORB` table, above."
   ]
  },
  {
   "cell_type": "code",
   "execution_count": 73,
   "id": "c78509c8-bb10-4fce-9921-18fe19101e72",
   "metadata": {
    "execution": {
     "iopub.execute_input": "2023-07-10T22:02:30.279761Z",
     "iopub.status.busy": "2023-07-10T22:02:30.278369Z",
     "iopub.status.idle": "2023-07-10T22:02:38.279459Z",
     "shell.execute_reply": "2023-07-10T22:02:38.278556Z",
     "shell.execute_reply.started": "2023-07-10T22:02:30.279715Z"
    },
    "tags": []
   },
   "outputs": [
    {
     "name": "stderr",
     "output_type": "stream",
     "text": [
      "WARNING: UnitsWarning: Unit 'days' not supported by the VOUnit standard. Did you mean daS or das? [astropy.units.format.vounit]\n"
     ]
    },
    {
     "data": {
      "text/html": [
       "<pre style=\"margin: 0.1em;\n",
       "padding-left: 0.25em;\n",
       "border-left-style: solid;\n",
       "font-family: var(--jp-code-font-family);\n",
       "font-size: var(--jp-code-font-size);\n",
       "line-height: var(--jp-code-line-height);\n",
       "\"><span style=\"color: var(--jp-warn-color2)\">astropy</span> <span style=\"color: var(--jp-warn-color0)\">WARNING</span>: UnitsWarning: Unit &#x27;days&#x27; not supported by the VOUnit standard. Did you mean daS or das?</pre>"
      ],
      "text/plain": [
       "<IPython.core.display.HTML object>"
      ]
     },
     "metadata": {},
     "output_type": "display_data"
    },
    {
     "name": "stderr",
     "output_type": "stream",
     "text": [
      "WARNING: UnitsWarning: Unit 'date' not supported by the VOUnit standard. Did you mean daT or dabyte? [astropy.units.format.vounit]\n"
     ]
    },
    {
     "data": {
      "text/html": [
       "<pre style=\"margin: 0.1em;\n",
       "padding-left: 0.25em;\n",
       "border-left-style: solid;\n",
       "font-family: var(--jp-code-font-family);\n",
       "font-size: var(--jp-code-font-size);\n",
       "line-height: var(--jp-code-line-height);\n",
       "\"><span style=\"color: var(--jp-warn-color2)\">astropy</span> <span style=\"color: var(--jp-warn-color0)\">WARNING</span>: UnitsWarning: Unit &#x27;date&#x27; not supported by the VOUnit standard. Did you mean daT or dabyte?</pre>"
      ],
      "text/plain": [
       "<IPython.core.display.HTML object>"
      ]
     },
     "metadata": {},
     "output_type": "display_data"
    }
   ],
   "source": [
    "results = service.search(\"SELECT * FROM dp03_catalogs.ssObject \"\n",
    "                         \"WHERE ssObjectId BETWEEN 9131137166374808576 AND 9223370875126069107\")\n",
    "df = results.to_table().to_pandas()"
   ]
  },
  {
   "cell_type": "code",
   "execution_count": 74,
   "id": "a1a152e1-50c3-49f6-9739-a375b422b805",
   "metadata": {
    "execution": {
     "iopub.execute_input": "2023-07-10T22:02:43.548400Z",
     "iopub.status.busy": "2023-07-10T22:02:43.547509Z",
     "iopub.status.idle": "2023-07-10T22:02:43.581228Z",
     "shell.execute_reply": "2023-07-10T22:02:43.580508Z",
     "shell.execute_reply.started": "2023-07-10T22:02:43.548361Z"
    },
    "tags": []
   },
   "outputs": [
    {
     "data": {
      "text/html": [
       "<div>\n",
       "<style scoped>\n",
       "    .dataframe tbody tr th:only-of-type {\n",
       "        vertical-align: middle;\n",
       "    }\n",
       "\n",
       "    .dataframe tbody tr th {\n",
       "        vertical-align: top;\n",
       "    }\n",
       "\n",
       "    .dataframe thead th {\n",
       "        text-align: right;\n",
       "    }\n",
       "</style>\n",
       "<table border=\"1\" class=\"dataframe\">\n",
       "  <thead>\n",
       "    <tr style=\"text-align: right;\">\n",
       "      <th></th>\n",
       "      <th>arc</th>\n",
       "      <th>discoverySubmissionDate</th>\n",
       "      <th>firstObservationDate</th>\n",
       "      <th>flags</th>\n",
       "      <th>gChi2</th>\n",
       "      <th>gG12</th>\n",
       "      <th>gG12Err</th>\n",
       "      <th>gH</th>\n",
       "      <th>gH_gG12_Cov</th>\n",
       "      <th>gHErr</th>\n",
       "      <th>...</th>\n",
       "      <th>yH_yG12_Cov</th>\n",
       "      <th>yHErr</th>\n",
       "      <th>yNdata</th>\n",
       "      <th>zChi2</th>\n",
       "      <th>zG12</th>\n",
       "      <th>zG12Err</th>\n",
       "      <th>zH</th>\n",
       "      <th>zH_zG12_Cov</th>\n",
       "      <th>zHErr</th>\n",
       "      <th>zNdata</th>\n",
       "    </tr>\n",
       "  </thead>\n",
       "  <tbody>\n",
       "    <tr>\n",
       "      <th>0</th>\n",
       "      <td>3089.883301</td>\n",
       "      <td>60599.295358</td>\n",
       "      <td>60592.295358</td>\n",
       "      <td>0</td>\n",
       "      <td>1.577042</td>\n",
       "      <td>0.338602</td>\n",
       "      <td>0.202955</td>\n",
       "      <td>21.161713</td>\n",
       "      <td>0.019386</td>\n",
       "      <td>0.106775</td>\n",
       "      <td>...</td>\n",
       "      <td>NaN</td>\n",
       "      <td>NaN</td>\n",
       "      <td>0</td>\n",
       "      <td>NaN</td>\n",
       "      <td>NaN</td>\n",
       "      <td>NaN</td>\n",
       "      <td>NaN</td>\n",
       "      <td>NaN</td>\n",
       "      <td>NaN</td>\n",
       "      <td>0</td>\n",
       "    </tr>\n",
       "    <tr>\n",
       "      <th>1</th>\n",
       "      <td>15.927057</td>\n",
       "      <td>61750.270241</td>\n",
       "      <td>61743.270241</td>\n",
       "      <td>0</td>\n",
       "      <td>NaN</td>\n",
       "      <td>NaN</td>\n",
       "      <td>NaN</td>\n",
       "      <td>NaN</td>\n",
       "      <td>NaN</td>\n",
       "      <td>NaN</td>\n",
       "      <td>...</td>\n",
       "      <td>NaN</td>\n",
       "      <td>NaN</td>\n",
       "      <td>0</td>\n",
       "      <td>NaN</td>\n",
       "      <td>NaN</td>\n",
       "      <td>NaN</td>\n",
       "      <td>NaN</td>\n",
       "      <td>NaN</td>\n",
       "      <td>NaN</td>\n",
       "      <td>0</td>\n",
       "    </tr>\n",
       "    <tr>\n",
       "      <th>2</th>\n",
       "      <td>2.961222</td>\n",
       "      <td>62806.302010</td>\n",
       "      <td>62799.302010</td>\n",
       "      <td>0</td>\n",
       "      <td>NaN</td>\n",
       "      <td>NaN</td>\n",
       "      <td>NaN</td>\n",
       "      <td>NaN</td>\n",
       "      <td>NaN</td>\n",
       "      <td>NaN</td>\n",
       "      <td>...</td>\n",
       "      <td>NaN</td>\n",
       "      <td>NaN</td>\n",
       "      <td>0</td>\n",
       "      <td>NaN</td>\n",
       "      <td>NaN</td>\n",
       "      <td>NaN</td>\n",
       "      <td>NaN</td>\n",
       "      <td>NaN</td>\n",
       "      <td>NaN</td>\n",
       "      <td>0</td>\n",
       "    </tr>\n",
       "    <tr>\n",
       "      <th>3</th>\n",
       "      <td>0.000000</td>\n",
       "      <td>61654.218500</td>\n",
       "      <td>61647.218500</td>\n",
       "      <td>0</td>\n",
       "      <td>NaN</td>\n",
       "      <td>NaN</td>\n",
       "      <td>NaN</td>\n",
       "      <td>NaN</td>\n",
       "      <td>NaN</td>\n",
       "      <td>NaN</td>\n",
       "      <td>...</td>\n",
       "      <td>NaN</td>\n",
       "      <td>NaN</td>\n",
       "      <td>0</td>\n",
       "      <td>NaN</td>\n",
       "      <td>NaN</td>\n",
       "      <td>NaN</td>\n",
       "      <td>NaN</td>\n",
       "      <td>NaN</td>\n",
       "      <td>NaN</td>\n",
       "      <td>0</td>\n",
       "    </tr>\n",
       "    <tr>\n",
       "      <th>4</th>\n",
       "      <td>3270.825439</td>\n",
       "      <td>60509.383445</td>\n",
       "      <td>60502.383445</td>\n",
       "      <td>0</td>\n",
       "      <td>1.676326</td>\n",
       "      <td>0.051856</td>\n",
       "      <td>0.138421</td>\n",
       "      <td>18.936575</td>\n",
       "      <td>0.018925</td>\n",
       "      <td>0.141764</td>\n",
       "      <td>...</td>\n",
       "      <td>NaN</td>\n",
       "      <td>NaN</td>\n",
       "      <td>0</td>\n",
       "      <td>1.403565</td>\n",
       "      <td>0.171461</td>\n",
       "      <td>0.162144</td>\n",
       "      <td>18.205658</td>\n",
       "      <td>0.016147</td>\n",
       "      <td>0.108125</td>\n",
       "      <td>9</td>\n",
       "    </tr>\n",
       "    <tr>\n",
       "      <th>...</th>\n",
       "      <td>...</td>\n",
       "      <td>...</td>\n",
       "      <td>...</td>\n",
       "      <td>...</td>\n",
       "      <td>...</td>\n",
       "      <td>...</td>\n",
       "      <td>...</td>\n",
       "      <td>...</td>\n",
       "      <td>...</td>\n",
       "      <td>...</td>\n",
       "      <td>...</td>\n",
       "      <td>...</td>\n",
       "      <td>...</td>\n",
       "      <td>...</td>\n",
       "      <td>...</td>\n",
       "      <td>...</td>\n",
       "      <td>...</td>\n",
       "      <td>...</td>\n",
       "      <td>...</td>\n",
       "      <td>...</td>\n",
       "      <td>...</td>\n",
       "    </tr>\n",
       "    <tr>\n",
       "      <th>51223</th>\n",
       "      <td>3371.791992</td>\n",
       "      <td>60231.321519</td>\n",
       "      <td>60224.321519</td>\n",
       "      <td>0</td>\n",
       "      <td>4.592573</td>\n",
       "      <td>-0.060991</td>\n",
       "      <td>0.727745</td>\n",
       "      <td>20.432423</td>\n",
       "      <td>0.524340</td>\n",
       "      <td>0.738144</td>\n",
       "      <td>...</td>\n",
       "      <td>NaN</td>\n",
       "      <td>NaN</td>\n",
       "      <td>0</td>\n",
       "      <td>NaN</td>\n",
       "      <td>NaN</td>\n",
       "      <td>NaN</td>\n",
       "      <td>NaN</td>\n",
       "      <td>NaN</td>\n",
       "      <td>NaN</td>\n",
       "      <td>0</td>\n",
       "    </tr>\n",
       "    <tr>\n",
       "      <th>51224</th>\n",
       "      <td>7.022134</td>\n",
       "      <td>60968.147893</td>\n",
       "      <td>60961.147893</td>\n",
       "      <td>0</td>\n",
       "      <td>NaN</td>\n",
       "      <td>NaN</td>\n",
       "      <td>NaN</td>\n",
       "      <td>NaN</td>\n",
       "      <td>NaN</td>\n",
       "      <td>NaN</td>\n",
       "      <td>...</td>\n",
       "      <td>NaN</td>\n",
       "      <td>NaN</td>\n",
       "      <td>0</td>\n",
       "      <td>NaN</td>\n",
       "      <td>NaN</td>\n",
       "      <td>NaN</td>\n",
       "      <td>NaN</td>\n",
       "      <td>NaN</td>\n",
       "      <td>NaN</td>\n",
       "      <td>0</td>\n",
       "    </tr>\n",
       "    <tr>\n",
       "      <th>51225</th>\n",
       "      <td>3071.890625</td>\n",
       "      <td>60495.238170</td>\n",
       "      <td>60488.238170</td>\n",
       "      <td>0</td>\n",
       "      <td>1.098199</td>\n",
       "      <td>0.014991</td>\n",
       "      <td>0.073796</td>\n",
       "      <td>20.547508</td>\n",
       "      <td>0.004406</td>\n",
       "      <td>0.065489</td>\n",
       "      <td>...</td>\n",
       "      <td>NaN</td>\n",
       "      <td>NaN</td>\n",
       "      <td>0</td>\n",
       "      <td>NaN</td>\n",
       "      <td>NaN</td>\n",
       "      <td>NaN</td>\n",
       "      <td>NaN</td>\n",
       "      <td>NaN</td>\n",
       "      <td>NaN</td>\n",
       "      <td>0</td>\n",
       "    </tr>\n",
       "    <tr>\n",
       "      <th>51226</th>\n",
       "      <td>2400.992676</td>\n",
       "      <td>60533.149470</td>\n",
       "      <td>60526.149470</td>\n",
       "      <td>0</td>\n",
       "      <td>1.070196</td>\n",
       "      <td>0.354199</td>\n",
       "      <td>0.155204</td>\n",
       "      <td>20.241318</td>\n",
       "      <td>0.018267</td>\n",
       "      <td>0.120746</td>\n",
       "      <td>...</td>\n",
       "      <td>NaN</td>\n",
       "      <td>NaN</td>\n",
       "      <td>0</td>\n",
       "      <td>NaN</td>\n",
       "      <td>NaN</td>\n",
       "      <td>NaN</td>\n",
       "      <td>NaN</td>\n",
       "      <td>NaN</td>\n",
       "      <td>NaN</td>\n",
       "      <td>0</td>\n",
       "    </tr>\n",
       "    <tr>\n",
       "      <th>51227</th>\n",
       "      <td>27.954716</td>\n",
       "      <td>62339.289214</td>\n",
       "      <td>62332.289214</td>\n",
       "      <td>0</td>\n",
       "      <td>NaN</td>\n",
       "      <td>NaN</td>\n",
       "      <td>NaN</td>\n",
       "      <td>NaN</td>\n",
       "      <td>NaN</td>\n",
       "      <td>NaN</td>\n",
       "      <td>...</td>\n",
       "      <td>NaN</td>\n",
       "      <td>NaN</td>\n",
       "      <td>0</td>\n",
       "      <td>NaN</td>\n",
       "      <td>NaN</td>\n",
       "      <td>NaN</td>\n",
       "      <td>NaN</td>\n",
       "      <td>NaN</td>\n",
       "      <td>NaN</td>\n",
       "      <td>0</td>\n",
       "    </tr>\n",
       "  </tbody>\n",
       "</table>\n",
       "<p>51228 rows × 55 columns</p>\n",
       "</div>"
      ],
      "text/plain": [
       "               arc  discoverySubmissionDate  firstObservationDate  flags   \n",
       "0      3089.883301             60599.295358          60592.295358      0  \\\n",
       "1        15.927057             61750.270241          61743.270241      0   \n",
       "2         2.961222             62806.302010          62799.302010      0   \n",
       "3         0.000000             61654.218500          61647.218500      0   \n",
       "4      3270.825439             60509.383445          60502.383445      0   \n",
       "...            ...                      ...                   ...    ...   \n",
       "51223  3371.791992             60231.321519          60224.321519      0   \n",
       "51224     7.022134             60968.147893          60961.147893      0   \n",
       "51225  3071.890625             60495.238170          60488.238170      0   \n",
       "51226  2400.992676             60533.149470          60526.149470      0   \n",
       "51227    27.954716             62339.289214          62332.289214      0   \n",
       "\n",
       "          gChi2      gG12   gG12Err         gH  gH_gG12_Cov     gHErr  ...   \n",
       "0      1.577042  0.338602  0.202955  21.161713     0.019386  0.106775  ...  \\\n",
       "1           NaN       NaN       NaN        NaN          NaN       NaN  ...   \n",
       "2           NaN       NaN       NaN        NaN          NaN       NaN  ...   \n",
       "3           NaN       NaN       NaN        NaN          NaN       NaN  ...   \n",
       "4      1.676326  0.051856  0.138421  18.936575     0.018925  0.141764  ...   \n",
       "...         ...       ...       ...        ...          ...       ...  ...   \n",
       "51223  4.592573 -0.060991  0.727745  20.432423     0.524340  0.738144  ...   \n",
       "51224       NaN       NaN       NaN        NaN          NaN       NaN  ...   \n",
       "51225  1.098199  0.014991  0.073796  20.547508     0.004406  0.065489  ...   \n",
       "51226  1.070196  0.354199  0.155204  20.241318     0.018267  0.120746  ...   \n",
       "51227       NaN       NaN       NaN        NaN          NaN       NaN  ...   \n",
       "\n",
       "       yH_yG12_Cov  yHErr  yNdata     zChi2      zG12   zG12Err         zH   \n",
       "0              NaN    NaN       0       NaN       NaN       NaN        NaN  \\\n",
       "1              NaN    NaN       0       NaN       NaN       NaN        NaN   \n",
       "2              NaN    NaN       0       NaN       NaN       NaN        NaN   \n",
       "3              NaN    NaN       0       NaN       NaN       NaN        NaN   \n",
       "4              NaN    NaN       0  1.403565  0.171461  0.162144  18.205658   \n",
       "...            ...    ...     ...       ...       ...       ...        ...   \n",
       "51223          NaN    NaN       0       NaN       NaN       NaN        NaN   \n",
       "51224          NaN    NaN       0       NaN       NaN       NaN        NaN   \n",
       "51225          NaN    NaN       0       NaN       NaN       NaN        NaN   \n",
       "51226          NaN    NaN       0       NaN       NaN       NaN        NaN   \n",
       "51227          NaN    NaN       0       NaN       NaN       NaN        NaN   \n",
       "\n",
       "       zH_zG12_Cov     zHErr  zNdata  \n",
       "0              NaN       NaN       0  \n",
       "1              NaN       NaN       0  \n",
       "2              NaN       NaN       0  \n",
       "3              NaN       NaN       0  \n",
       "4         0.016147  0.108125       9  \n",
       "...            ...       ...     ...  \n",
       "51223          NaN       NaN       0  \n",
       "51224          NaN       NaN       0  \n",
       "51225          NaN       NaN       0  \n",
       "51226          NaN       NaN       0  \n",
       "51227          NaN       NaN       0  \n",
       "\n",
       "[51228 rows x 55 columns]"
      ]
     },
     "execution_count": 74,
     "metadata": {},
     "output_type": "execute_result"
    }
   ],
   "source": [
    "df"
   ]
  },
  {
   "cell_type": "markdown",
   "id": "4cd4af29-a072-4361-b65b-5979d4812783",
   "metadata": {
    "execution": {
     "iopub.execute_input": "2023-06-27T21:51:31.545543Z",
     "iopub.status.busy": "2023-06-27T21:51:31.545077Z",
     "iopub.status.idle": "2023-06-27T21:51:31.549274Z",
     "shell.execute_reply": "2023-06-27T21:51:31.548724Z",
     "shell.execute_reply.started": "2023-06-27T21:51:31.545521Z"
    },
    "tags": []
   },
   "source": [
    "There are 51228 rows."
   ]
  },
  {
   "cell_type": "markdown",
   "id": "5c1b56c6-5874-4f5c-a7cd-d0a6daa69a84",
   "metadata": {},
   "source": [
    "**Options:** use the `info` or `describe` functions on the `pandas` dataframe to learn more about the retrieved results."
   ]
  },
  {
   "cell_type": "code",
   "execution_count": null,
   "id": "aeeb504b-3ae8-4483-ac8a-809ab113e213",
   "metadata": {
    "tags": []
   },
   "outputs": [],
   "source": [
    "# df.info()"
   ]
  },
  {
   "cell_type": "code",
   "execution_count": null,
   "id": "d8571bad-0431-4040-a083-cab4364a7927",
   "metadata": {
    "tags": []
   },
   "outputs": [],
   "source": [
    "# df.describe()"
   ]
  },
  {
   "cell_type": "markdown",
   "id": "f5c93746-8820-4dc1-8102-4d67b393b542",
   "metadata": {},
   "source": [
    "### 4.4. Plot a color-color diagram\n",
    "\n",
    "In the displayed dataframe above, it appears that for many `SSObjects` the phase-curve fits to derive \n",
    "absolute magnitudes were not successful, as the `<f>H` (where `<f>` is a filter u, g, r, i, z, or y) are `NaN`.\n",
    "\n",
    "Before calculating and plotting the colors, drop all of the rows for which the phase-curve fits were not successful."
   ]
  },
  {
   "cell_type": "code",
   "execution_count": 84,
   "id": "937fb5ee-ef7b-4ef3-98ea-8d7237fe2a95",
   "metadata": {
    "execution": {
     "iopub.execute_input": "2023-07-10T22:14:35.419617Z",
     "iopub.status.busy": "2023-07-10T22:14:35.418643Z",
     "iopub.status.idle": "2023-07-10T22:14:35.429262Z",
     "shell.execute_reply": "2023-07-10T22:14:35.428557Z",
     "shell.execute_reply.started": "2023-07-10T22:14:35.419585Z"
    },
    "tags": []
   },
   "outputs": [
    {
     "name": "stdout",
     "output_type": "stream",
     "text": [
      "Number of rows after dropping all rows with NaNs: 4774\n"
     ]
    }
   ],
   "source": [
    "df.dropna(inplace=True)\n",
    "df.reset_index(inplace=True)\n",
    "print('Number of rows after dropping all rows with NaNs: %d' % len(df))"
   ]
  },
  {
   "cell_type": "markdown",
   "id": "00180672-d7d6-40df-9d85-c51bb298dce6",
   "metadata": {},
   "source": [
    "For Solar System objects, absolute magnitudes are defined to be for an object 1 AU from the Sun and 1 AU \n",
    "from the observer, and at a phase angle (the angle Sun-object-Earth) of 0 degrees.\n",
    "\n",
    "Absolute magnitudes are derived by correcting for distance, fitting a function to the relationship between \n",
    "absolute magnitude and phase, and evaluating the function at a phase of 0 deg.\n",
    "\n",
    "The process for fitting phase curves will be covered in another tutorial.\n",
    "\n",
    "Calculate colors in the Rubin filters for the `SSObjects` that have absolute magnitudes."
   ]
  },
  {
   "cell_type": "code",
   "execution_count": 85,
   "id": "16eeddc9-f0dc-470c-ab96-252b4cfc66f6",
   "metadata": {
    "execution": {
     "iopub.execute_input": "2023-07-10T22:19:37.948134Z",
     "iopub.status.busy": "2023-07-10T22:19:37.947221Z",
     "iopub.status.idle": "2023-07-10T22:19:37.956599Z",
     "shell.execute_reply": "2023-07-10T22:19:37.955780Z",
     "shell.execute_reply.started": "2023-07-10T22:19:37.948103Z"
    },
    "tags": []
   },
   "outputs": [],
   "source": [
    "df['ug'] = df['uH'] - df['gH']\n",
    "df['gr'] = df['gH'] - df['rH']\n",
    "df['ri'] = df['rH'] - df['iH']\n",
    "df['iz'] = df['iH'] - df['zH']\n",
    "df['zy'] = df['zH'] - df['yH']"
   ]
  },
  {
   "cell_type": "markdown",
   "id": "8296082b-a528-4abd-92ce-52707da8ccc4",
   "metadata": {},
   "source": [
    "Plot color-color diagrams as 2-dimensional histograms (heatmaps)."
   ]
  },
  {
   "cell_type": "code",
   "execution_count": 94,
   "id": "649578b9-496c-4703-8938-b3084d37cfd2",
   "metadata": {
    "execution": {
     "iopub.execute_input": "2023-07-10T22:24:38.882594Z",
     "iopub.status.busy": "2023-07-10T22:24:38.881327Z",
     "iopub.status.idle": "2023-07-10T22:24:40.351170Z",
     "shell.execute_reply": "2023-07-10T22:24:40.350287Z",
     "shell.execute_reply.started": "2023-07-10T22:24:38.882552Z"
    },
    "tags": []
   },
   "outputs": [
    {
     "data": {
      "image/png": "[encoded data removed]",
      "text/plain": [
       "<Figure size 800x600 with 8 Axes>"
      ]
     },
     "metadata": {},
     "output_type": "display_data"
    }
   ],
   "source": [
    "fig, ax = plt.subplots(2, 2, figsize=(8, 6))\n",
    "h = ax[0, 0].hist2d(df['ug'], df['gr'], bins=100, norm='log')\n",
    "ax[0, 0].set_xlabel('u - g')\n",
    "ax[0, 0].set_ylabel('g - r')\n",
    "plt.colorbar(h[3])\n",
    "h = ax[0, 1].hist2d(df['gr'], df['ri'], bins=100, norm='log')\n",
    "ax[0, 1].set_xlabel('g - r')\n",
    "ax[0, 1].set_ylabel('r - i')\n",
    "plt.colorbar(h[3])\n",
    "h = ax[1, 0].hist2d(df['ri'], df['iz'], bins=100, norm='log')\n",
    "ax[1, 0].set_xlabel('r - i')\n",
    "ax[1, 0].set_ylabel('i - z')\n",
    "plt.colorbar(h[3])\n",
    "h = ax[1, 1].hist2d(df['iz'], df['zy'], bins=100, norm='log')\n",
    "ax[1, 1].set_xlabel('i - z')\n",
    "ax[1, 1].set_ylabel('z - y')\n",
    "plt.colorbar(h[3])\n",
    "fig.suptitle('Color-Color Plots for the SSObject Catalog')\n",
    "fig.tight_layout()\n",
    "plt.show()"
   ]
  },
  {
   "cell_type": "markdown",
   "id": "653f251d-a172-4cda-b3c5-0aeecf28d8e6",
   "metadata": {},
   "source": [
    "There are only two populations of colors in the simulation - but this is not the case for real Solar System objects.\n",
    "These plots will look very different in the future, when they are made with real Rubin data."
   ]
  },
  {
   "cell_type": "markdown",
   "id": "ef9ba117-4a6c-4a4c-9b82-5b74a9c40001",
   "metadata": {},
   "source": [
    "## 5. The `SSSource` table\n",
    "\n",
    "As described above, Solar System Processing links together the `DiaSources` (detections in the\n",
    "individual difference images) from moving objects into `SSObjects`. \n",
    "\n",
    "The `SSSource` table contains the 2-d (sky) coordinates and 3-d distances and velocities \n",
    "for every `SSObject` at the time of every LSST observation of that `SSObject`.\n",
    "The `SSSource` and `DiaSource` tables are 1:1, as they each contain data *per observation*,\n",
    "whereas `SSObject` contains data *per object*."
   ]
  },
  {
   "cell_type": "markdown",
   "id": "4dc55526-5aa8-47cd-8d2a-75f02b8b48b7",
   "metadata": {},
   "source": [
    "### 5.1. Size\n",
    "\n",
    "It can take up to a minute to retrive the size of the `SSSource` catalog."
   ]
  },
  {
   "cell_type": "code",
   "execution_count": 96,
   "id": "faa8f8da-ea55-4cf9-a6a5-ce2a9a9e983e",
   "metadata": {
    "execution": {
     "iopub.execute_input": "2023-07-10T22:51:31.027897Z",
     "iopub.status.busy": "2023-07-10T22:51:31.026765Z",
     "iopub.status.idle": "2023-07-10T22:52:11.029531Z",
     "shell.execute_reply": "2023-07-10T22:52:11.028308Z",
     "shell.execute_reply.started": "2023-07-10T22:51:31.027863Z"
    },
    "tags": []
   },
   "outputs": [
    {
     "data": {
      "text/html": [
       "<div>\n",
       "<style scoped>\n",
       "    .dataframe tbody tr th:only-of-type {\n",
       "        vertical-align: middle;\n",
       "    }\n",
       "\n",
       "    .dataframe tbody tr th {\n",
       "        vertical-align: top;\n",
       "    }\n",
       "\n",
       "    .dataframe thead th {\n",
       "        text-align: right;\n",
       "    }\n",
       "</style>\n",
       "<table border=\"1\" class=\"dataframe\">\n",
       "  <thead>\n",
       "    <tr style=\"text-align: right;\">\n",
       "      <th></th>\n",
       "      <th>COUNT</th>\n",
       "    </tr>\n",
       "  </thead>\n",
       "  <tbody>\n",
       "    <tr>\n",
       "      <th>0</th>\n",
       "      <td>1031389589</td>\n",
       "    </tr>\n",
       "  </tbody>\n",
       "</table>\n",
       "</div>"
      ],
      "text/plain": [
       "        COUNT\n",
       "0  1031389589"
      ]
     },
     "execution_count": 96,
     "metadata": {},
     "output_type": "execute_result"
    }
   ],
   "source": [
    "results = service.search(\"SELECT COUNT(*) from dp03_catalogs.SSSource\")\n",
    "results.to_table().to_pandas()"
   ]
  },
  {
   "cell_type": "markdown",
   "id": "47b9a7c5-4f38-42f3-96b8-732c72010b81",
   "metadata": {},
   "source": [
    "**_This table contains over a billion sources!_**"
   ]
  },
  {
   "cell_type": "markdown",
   "id": "05883359-a838-40ce-8106-494262b5435a",
   "metadata": {},
   "source": [
    "### 5.2. Columns\n",
    "\n",
    "**Option:** print the column information for the `SSSource` table."
   ]
  },
  {
   "cell_type": "code",
   "execution_count": 97,
   "id": "450c92ce-cc7e-4c6e-a6bd-a423d713c8ee",
   "metadata": {
    "execution": {
     "iopub.execute_input": "2023-07-10T22:52:11.058805Z",
     "iopub.status.busy": "2023-07-10T22:52:11.057987Z",
     "iopub.status.idle": "2023-07-10T22:52:11.062804Z",
     "shell.execute_reply": "2023-07-10T22:52:11.062061Z",
     "shell.execute_reply.started": "2023-07-10T22:52:11.058762Z"
    },
    "tags": []
   },
   "outputs": [],
   "source": [
    "# results = service.search(\"SELECT column_name, datatype, description, unit from TAP_SCHEMA.columns \"\n",
    "#                          \"WHERE table_name = 'dp03_catalogs.SSSource'\")\n",
    "# results.to_table().to_pandas()"
   ]
  },
  {
   "cell_type": "markdown",
   "id": "55f7fd6f-a5c8-4e58-8781-5d7f14ebf530",
   "metadata": {},
   "source": [
    "### 5.3. Retrieve data for one `SSObject`\n",
    "\n",
    "It is possible to obtain the `SSSource` data for a population of `SSObjects`.\n",
    "For example, to retrieve all `SSSources` for the `SSObjects` retrieved in Section 4,\n",
    "use a query such as: \n",
    "\n",
    "```\n",
    "SELECT * FROM dp03_catalogs.SSSource\n",
    "WHERE ssObjectId BETWEEN 9214147504250943488 AND 9223370875126069107\n",
    "```\n",
    "\n",
    "However, the better way to demonstrate the data in the `SSSource` table is to look at just one `SSObject`,\n",
    "and the one with an `ssObjectId` = `6793512588511170680` is a fun choice.\n",
    "\n",
    "Retrieve the heliocentric (sun-centered) and topocentric (observatory-centered) X and Y coordinates."
   ]
  },
  {
   "cell_type": "code",
   "execution_count": 107,
   "id": "8715489d-7c11-42b0-9797-5d29e5086d17",
   "metadata": {
    "execution": {
     "iopub.execute_input": "2023-07-10T22:59:30.484323Z",
     "iopub.status.busy": "2023-07-10T22:59:30.483270Z",
     "iopub.status.idle": "2023-07-10T22:59:30.831043Z",
     "shell.execute_reply": "2023-07-10T22:59:30.830139Z",
     "shell.execute_reply.started": "2023-07-10T22:59:30.484284Z"
    },
    "tags": []
   },
   "outputs": [
    {
     "name": "stdout",
     "output_type": "stream",
     "text": [
      "Retrieved  487  rows.\n"
     ]
    }
   ],
   "source": [
    "df_xy = service.search(\"SELECT heliocentricX, heliocentricY, topocentricX, \"\n",
    "                       \"topocentricY, ssObjectId \"\n",
    "                       \"FROM dp03_catalogs.SSSource \"\n",
    "                       \"WHERE ssObjectId = 6793512588511170680 \").to_table().to_pandas()\n",
    "print('Retrieved ', len(df_xy), ' rows.')"
   ]
  },
  {
   "cell_type": "markdown",
   "id": "b1a6bd96-c573-4b43-9310-cc3cc9411b42",
   "metadata": {},
   "source": [
    "**Options** to display the table in full or use the `info` or `describe` functions."
   ]
  },
  {
   "cell_type": "code",
   "execution_count": 101,
   "id": "defd1bb3-9065-4ca8-9171-0b2ce125a462",
   "metadata": {
    "execution": {
     "iopub.execute_input": "2023-07-10T22:57:39.176715Z",
     "iopub.status.busy": "2023-07-10T22:57:39.176301Z",
     "iopub.status.idle": "2023-07-10T22:57:39.180719Z",
     "shell.execute_reply": "2023-07-10T22:57:39.179966Z",
     "shell.execute_reply.started": "2023-07-10T22:57:39.176683Z"
    },
    "tags": []
   },
   "outputs": [],
   "source": [
    "# df_xy"
   ]
  },
  {
   "cell_type": "code",
   "execution_count": 103,
   "id": "77771ca4-ca51-4617-a9ce-8939595272b7",
   "metadata": {
    "execution": {
     "iopub.execute_input": "2023-07-10T22:58:13.198171Z",
     "iopub.status.busy": "2023-07-10T22:58:13.197157Z",
     "iopub.status.idle": "2023-07-10T22:58:13.201320Z",
     "shell.execute_reply": "2023-07-10T22:58:13.200666Z",
     "shell.execute_reply.started": "2023-07-10T22:58:13.198135Z"
    },
    "tags": []
   },
   "outputs": [],
   "source": [
    "# df_xy.info()"
   ]
  },
  {
   "cell_type": "code",
   "execution_count": 105,
   "id": "3daf9b96-9444-49b6-a702-aded212fa5ca",
   "metadata": {
    "execution": {
     "iopub.execute_input": "2023-07-10T22:58:23.538912Z",
     "iopub.status.busy": "2023-07-10T22:58:23.537891Z",
     "iopub.status.idle": "2023-07-10T22:58:23.542235Z",
     "shell.execute_reply": "2023-07-10T22:58:23.541553Z",
     "shell.execute_reply.started": "2023-07-10T22:58:23.538872Z"
    },
    "tags": []
   },
   "outputs": [],
   "source": [
    "# df_xy.describe()"
   ]
  },
  {
   "cell_type": "markdown",
   "id": "11c32da4-7632-4ca0-8e51-c3ae130bde77",
   "metadata": {},
   "source": [
    "### 5.3. Plot the orbit of one `SSObject`\n",
    "\n",
    "Plot the orbit using the X and Y heliocentric (Sun-centered; orange star) \n",
    "and topocentric (observatory-centered; blue circle) coordinates.\n",
    "This is a projection of the orbit into the plane of the Solar System.\n",
    "\n",
    "Notice how the points are not regularly spaced.\n",
    "This is because there is one point per LSST observation of the object,\n",
    "and in some years it recieves more or fewer observations.\n",
    "\n",
    "Notice how the points appear in an ellipse around the Sun with heliocentric coordinates (left).\n",
    "This is as it should be, as the object orbits the sun.\n",
    "The plot of the topocentric coordinates (right) does not appear elliptical because\n",
    "the motion of the Earth with respect to the object over the 10 years of the LSST\n",
    "is imprinted into the data. \n",
    "Tor the topocentric coordinates, the Earth's rotation also contributes, \n",
    "but it is a much smaller effect on the scale of these plots."
   ]
  },
  {
   "cell_type": "code",
   "execution_count": 129,
   "id": "0464b3fa-299a-4d27-8f47-f19cd21062b6",
   "metadata": {
    "execution": {
     "iopub.execute_input": "2023-07-10T23:12:19.313996Z",
     "iopub.status.busy": "2023-07-10T23:12:19.313034Z",
     "iopub.status.idle": "2023-07-10T23:12:20.047639Z",
     "shell.execute_reply": "2023-07-10T23:12:20.046886Z",
     "shell.execute_reply.started": "2023-07-10T23:12:19.313956Z"
    },
    "tags": []
   },
   "outputs": [
    {
     "data": {
      "image/png": "[encoded data removed]",
      "text/plain": [
       "<Figure size 800x400 with 2 Axes>"
      ]
     },
     "metadata": {},
     "output_type": "display_data"
    }
   ],
   "source": [
    "fig, ax = plt.subplots(1, 2, figsize=(8, 4))\n",
    "ax[0].grid()\n",
    "ax[0].plot(df_xy['heliocentricX'], df_xy['heliocentricY'], 'o', ms=4, mew=0, color='black')\n",
    "ax[0].plot(0, 0, '*', ms=15, color='darkorange')\n",
    "ax[0].set_xlabel('heliocentric X (AU)')\n",
    "ax[0].set_ylabel('heliocentric Y (AU)')\n",
    "ax[0].set_title('Heliocentric Coordinates')\n",
    "ax[1].grid()\n",
    "ax[1].plot(df_xy['topocentricX'], df_xy['topocentricY'], 'o', ms=4, mew=0, color='black')\n",
    "ax[1].plot(0, 0, 'o', ms=15, color='dodgerblue')\n",
    "ax[1].set_xlabel('topocentric X (AU)')\n",
    "ax[1].set_ylabel('topocentric Y (AU)')\n",
    "ax[1].set_title('Topocentric Coordinates')\n",
    "fig.suptitle('XY Path of 6793512588511170680')\n",
    "fig.tight_layout()\n",
    "plt.show()"
   ]
  },
  {
   "cell_type": "markdown",
   "id": "7c568937-4f20-489c-b113-711f32cfad34",
   "metadata": {},
   "source": [
    "## 6. The `DiaSource` catalog\n",
    "\n",
    "Last but definitely not least, the `DiaSource` table - which is actually the first to be generated\n",
    "by the Prompt Processing pipeline.\n",
    "This table will contain measurements for all sources detected with a signal-to-noise ratio of at least 5 \n",
    "in a difference image, including moving and static-sky sources.\n",
    "\n",
    "However, for simulated DP0.3 the `DiaSource` table contains *only moving objects*, and no static sky time-domain objects (and no detector artifacts).\n",
    "\n",
    "For DP0.3 the simulated `DiaSource` table contains only a subset of the columns that the\n",
    "real `DiaSource` table will have; see Table 1 of the Rubin \n",
    "<a href=\"https://docushare.lsstcorp.org/docushare/dsweb/Get/LSE-163/LSE-163_DataProductsDefinitionDocumentDPDD.pdf\">Data Products Definitions Document</a>.\n",
    "Furthermore, the `DiaSource` table contains a few extra truth columns, such as `raTrue`, `decTrue`, `magTrue`.\n",
    "\n",
    "For DP0.3, no photometric variability due to, e.g., the rotation of non-spherical bodies, collisions,\n",
    "or outgassing events were simulated. \n",
    "All evolution in apparent magnitudes with time are due to the phase curve, which is explored\n",
    "in another tutorial."
   ]
  },
  {
   "cell_type": "markdown",
   "id": "7c11588b-6129-4b89-acc4-a14f13c09053",
   "metadata": {},
   "source": [
    "### 6.1. Size\n",
    "\n",
    "**Option** to retrieve the size of the `DiaSource` table (it is 1:1 with the `SSSource` table, so the same size)."
   ]
  },
  {
   "cell_type": "code",
   "execution_count": 131,
   "id": "97cc39ef-af55-4244-939f-13a79a0f944d",
   "metadata": {
    "execution": {
     "iopub.execute_input": "2023-07-10T23:25:37.838760Z",
     "iopub.status.busy": "2023-07-10T23:25:37.838381Z",
     "iopub.status.idle": "2023-07-10T23:25:37.842759Z",
     "shell.execute_reply": "2023-07-10T23:25:37.841914Z",
     "shell.execute_reply.started": "2023-07-10T23:25:37.838737Z"
    },
    "tags": []
   },
   "outputs": [],
   "source": [
    "# results = service.search(\"SELECT COUNT(*) from dp03_catalogs.DiaSource\")\n",
    "# results.to_table().to_pandas()"
   ]
  },
  {
   "cell_type": "markdown",
   "id": "abdb5907-467b-4c2d-9797-0dbf7659a796",
   "metadata": {},
   "source": [
    "### 6.2. Columns\n",
    "\n",
    "**Option** to print the column information."
   ]
  },
  {
   "cell_type": "code",
   "execution_count": 133,
   "id": "ad2f5716-4310-4393-89fc-0299b176a169",
   "metadata": {
    "execution": {
     "iopub.execute_input": "2023-07-10T23:26:20.723463Z",
     "iopub.status.busy": "2023-07-10T23:26:20.722384Z",
     "iopub.status.idle": "2023-07-10T23:26:20.726804Z",
     "shell.execute_reply": "2023-07-10T23:26:20.726003Z",
     "shell.execute_reply.started": "2023-07-10T23:26:20.723423Z"
    },
    "tags": []
   },
   "outputs": [],
   "source": [
    "# results = service.search(\"SELECT column_name, datatype, description, unit from TAP_SCHEMA.columns \"\n",
    "#                          \"WHERE table_name = 'dp03_catalogs.DiaSource'\")\n",
    "# results.to_table().to_pandas()"
   ]
  },
  {
   "cell_type": "markdown",
   "id": "ebb6fe98-f238-4c46-8964-090eff82bec1",
   "metadata": {},
   "source": [
    "### 6.3. Retrieve data for one `SSObject`\n",
    "\n",
    "It is possible to obtain the `DiaSource` data for a population of `SSObjects`.\n",
    "For example, to retrieve all `DiaSources` for the `SSObjects` retrieved in Section 4,\n",
    "use a query such as: \n",
    "\n",
    "```\n",
    "SELECT * FROM dp03_catalogs.DiaSource\n",
    "WHERE ssObjectId BETWEEN 9214147504250943488 AND 9223370875126069107\n",
    "```\n",
    "\n",
    "However, the better way to demonstrate the data in the `DiaSource` table is to look at just one `SSObject`.\n",
    "As in Section 5, use the one with an `ssObjectId` = `6793512588511170680`.\n",
    "\n",
    "Retrive the right ascension, declination, magnitude, filter, and the <a href=\"https://en.wikipedia.org/wiki/International_Atomic_Time\">TAI</a> at the exposure's midpoint (MJD) of the observation."
   ]
  },
  {
   "cell_type": "code",
   "execution_count": 136,
   "id": "10af5ce9-89b6-4d6b-9a52-55c3e1c4dfa2",
   "metadata": {
    "execution": {
     "iopub.execute_input": "2023-07-10T23:33:13.306573Z",
     "iopub.status.busy": "2023-07-10T23:33:13.305464Z",
     "iopub.status.idle": "2023-07-10T23:33:13.632428Z",
     "shell.execute_reply": "2023-07-10T23:33:13.631341Z",
     "shell.execute_reply.started": "2023-07-10T23:33:13.306528Z"
    },
    "tags": []
   },
   "outputs": [],
   "source": [
    "df = service.search(\"SELECT ra, decl, mag, filter, midPointTai \"\n",
    "                    \"FROM dp03_catalogs.DiaSource \"\n",
    "                    \"WHERE ssObjectId = 6793512588511170680\").to_table().to_pandas()"
   ]
  },
  {
   "cell_type": "markdown",
   "id": "8985789e-a504-454d-b920-45c474e93747",
   "metadata": {},
   "source": [
    "### 6.4. Plot time-domain data for one `SSObject`\n",
    "\n",
    "First, plot the equatorial coordinates for all observations, colored by the MJD of the observation.\n",
    "\n",
    "This plot shows the location of the object on the sky, as seen from Earth.\n",
    "Recall from the plots in Section 5 that this object is only about 2 AU from the Sun,\n",
    "and so is at the inner edge of the Main Asteroid Belt.\n",
    "Parallax from the Earth's orbit contributes to the appearance of this plot."
   ]
  },
  {
   "cell_type": "code",
   "execution_count": 142,
   "id": "064324af-f6fa-46ec-a425-036ce96af31c",
   "metadata": {
    "execution": {
     "iopub.execute_input": "2023-07-10T23:38:18.436136Z",
     "iopub.status.busy": "2023-07-10T23:38:18.435255Z",
     "iopub.status.idle": "2023-07-10T23:38:18.699833Z",
     "shell.execute_reply": "2023-07-10T23:38:18.699102Z",
     "shell.execute_reply.started": "2023-07-10T23:38:18.436105Z"
    },
    "tags": []
   },
   "outputs": [
    {
     "data": {
      "image/png": "[encoded data removed]",
      "text/plain": [
       "<Figure size 1200x300 with 2 Axes>"
      ]
     },
     "metadata": {},
     "output_type": "display_data"
    }
   ],
   "source": [
    "cmap = colormaps['viridis']\n",
    "fig, ax = plt.subplots(1, 1, figsize=(12, 3))\n",
    "im = ax.scatter(df['ra'], df['decl'], c=df['midPointTai'], cmap=cmap)\n",
    "ax.set_xlabel('ra (deg)')\n",
    "ax.set_ylabel('decl (deg)')\n",
    "fig.suptitle(\"Path of one SSObject in equatorial coordinates over 10 years\")\n",
    "fig.subplots_adjust(right=0.8)\n",
    "cbar_ax = fig.add_axes([0.85, 0.15, 0.02, 0.7])\n",
    "fig.colorbar(im, cax=cbar_ax, label='TAI')\n",
    "ax.grid(True)"
   ]
  },
  {
   "cell_type": "markdown",
   "id": "e75a0bd3-022a-4277-934d-23e7de048602",
   "metadata": {},
   "source": [
    "Use of the magnitude and filter data retrieved from the `DiaSource` table is left as\n",
    "an exercise for the learner in Section 7."
   ]
  },
  {
   "cell_type": "markdown",
   "id": "68e9e475-96e2-4f47-8164-37d3ddbf67a5",
   "metadata": {
    "tags": []
   },
   "source": [
    "## 7. Exercises for the learner\n"
   ]
  },
  {
   "cell_type": "markdown",
   "id": "27380304-2669-4e14-ba81-f57fd072ebd9",
   "metadata": {},
   "source": [
    "**1. Which moving objects in the MPC did LSST not detect?**\n",
    "\n",
    "The `MPCORB` table contains all of the moving objects ever reported to the MPC,\n",
    "whereas the `SSObject` table contains all of the moving objects detected by LSST.\n",
    "Which populations of moving objects does LSST not detect?\n",
    "\n",
    "**2. How does an SSObject's magnitude change with time?**\n",
    "\n",
    "In Section 6.4, the magnitude and filter for all detections of the `SSObject` in the\n",
    "`DiaSource` table were retrieved, but not plotted, so make that plot.\n",
    "Note that the only simulated cause of photometric changes in DP0.3 objects is the phase curve,\n",
    "and so magnitude vs. phase is the more interesting and useful plot to make.\n",
    "Phase curves are covered in another tutorial."
   ]
  },
  {
   "cell_type": "code",
   "execution_count": null,
   "id": "b5d59b16-efa2-46c3-bbd7-616cb2cb9acf",
   "metadata": {},
   "outputs": [],
   "source": []
  }
 ],
 "metadata": {
  "kernelspec": {
   "display_name": "LSST",
   "language": "python",
   "name": "lsst"
  },
  "language_info": {
   "codemirror_mode": {
    "name": "ipython",
    "version": 3
   },
   "file_extension": ".py",
   "mimetype": "text/x-python",
   "name": "python",
   "nbconvert_exporter": "python",
   "pygments_lexer": "ipython3",
   "version": "3.10.10"
  }
 },
 "nbformat": 4,
 "nbformat_minor": 5
}
