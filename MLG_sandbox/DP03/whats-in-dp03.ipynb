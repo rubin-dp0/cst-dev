{
 "cells": [
  {
   "cell_type": "markdown",
   "id": "ad768d9d-c212-489f-b002-28c7c4d1025f",
   "metadata": {},
   "source": [
    "# What's in DP0.3?"
   ]
  },
  {
   "cell_type": "code",
   "execution_count": 1,
   "id": "66763012-1087-43f9-9b5a-7cceb7cbd256",
   "metadata": {
    "execution": {
     "iopub.execute_input": "2023-06-26T03:10:46.449187Z",
     "iopub.status.busy": "2023-06-26T03:10:46.448867Z",
     "iopub.status.idle": "2023-06-26T03:10:46.998542Z",
     "shell.execute_reply": "2023-06-26T03:10:46.997550Z",
     "shell.execute_reply.started": "2023-06-26T03:10:46.449152Z"
    },
    "tags": []
   },
   "outputs": [],
   "source": [
    "from lsst.rsp import get_tap_service\n",
    "import matplotlib.pyplot as plt"
   ]
  },
  {
   "cell_type": "code",
   "execution_count": 2,
   "id": "cb3a5767-7b29-4603-9fc3-30681813dd8e",
   "metadata": {
    "execution": {
     "iopub.execute_input": "2023-06-26T03:10:47.005531Z",
     "iopub.status.busy": "2023-06-26T03:10:47.005214Z",
     "iopub.status.idle": "2023-06-26T03:10:47.087127Z",
     "shell.execute_reply": "2023-06-26T03:10:47.085698Z",
     "shell.execute_reply.started": "2023-06-26T03:10:47.005504Z"
    },
    "tags": []
   },
   "outputs": [
    {
     "name": "stdout",
     "output_type": "stream",
     "text": [
      "https://data.lsst.cloud/api/ssotap\n"
     ]
    }
   ],
   "source": [
    "service = get_tap_service(\"ssotap\")\n",
    "print(service.baseurl)"
   ]
  },
  {
   "cell_type": "code",
   "execution_count": 3,
   "id": "04875615-a600-431b-9a64-3e92ab1dc9d0",
   "metadata": {
    "execution": {
     "iopub.execute_input": "2023-06-26T03:10:47.093075Z",
     "iopub.status.busy": "2023-06-26T03:10:47.092766Z",
     "iopub.status.idle": "2023-06-26T03:10:47.188319Z",
     "shell.execute_reply": "2023-06-26T03:10:47.187304Z",
     "shell.execute_reply.started": "2023-06-26T03:10:47.093052Z"
    },
    "tags": []
   },
   "outputs": [
    {
     "data": {
      "text/html": [
       "<div><i>Table length=3</i>\n",
       "<table id=\"table139775812681680\" class=\"table-striped table-bordered table-condensed\">\n",
       "<thead><tr><th>description</th><th>schema_index</th><th>schema_name</th><th>utype</th></tr></thead>\n",
       "<thead><tr><th>str512</th><th>int32</th><th>str64</th><th>str512</th></tr></thead>\n",
       "<tr><td>Data Preview 0.3 contains the catalog products of a Solar System Science Collaboration simulation of the results of SSO analysis of the wide-fast-deep data from the LSST ten-year dataset.</td><td>0</td><td>dp03_catalogs</td><td></td></tr>\n",
       "<tr><td>A TAP-standard-mandated schema to describe tablesets in a TAP 1.1 service</td><td>100000</td><td>tap_schema</td><td></td></tr>\n",
       "<tr><td>UWS Metadata</td><td>120000</td><td>uws</td><td></td></tr>\n",
       "</table></div>"
      ],
      "text/plain": [
       "<Table length=3>\n",
       "                                                                                        description                                                                                         ...\n",
       "                                                                                           str512                                                                                           ...\n",
       "------------------------------------------------------------------------------------------------------------------------------------------------------------------------------------------- ...\n",
       "Data Preview 0.3 contains the catalog products of a Solar System Science Collaboration simulation of the results of SSO analysis of the wide-fast-deep data from the LSST ten-year dataset. ...\n",
       "                                                                                                                  A TAP-standard-mandated schema to describe tablesets in a TAP 1.1 service ...\n",
       "                                                                                                                                                                               UWS Metadata ..."
      ]
     },
     "execution_count": 3,
     "metadata": {},
     "output_type": "execute_result"
    }
   ],
   "source": [
    "query = \"SELECT * FROM tap_schema.schemas\"\n",
    "results = service.search(query).to_table()\n",
    "results"
   ]
  },
  {
   "cell_type": "code",
   "execution_count": null,
   "id": "0cf20f60-ae29-4629-97ab-61af8a41ef0d",
   "metadata": {
    "tags": []
   },
   "outputs": [],
   "source": [
    "query = \"SELECT * FROM tap_schema.tables \" \\\n",
    "        \"WHERE tap_schema.tables.schema_name = 'dp03_catalogs' \"\n",
    "results = service.search(query).to_table()\n",
    "results"
   ]
  },
  {
   "cell_type": "code",
   "execution_count": null,
   "id": "276d806f-d3e8-4fb4-a832-0ad75a4729f1",
   "metadata": {
    "tags": []
   },
   "outputs": [],
   "source": [
    "results = service.search(\"SELECT column_name, datatype, description, unit from TAP_SCHEMA.columns \"\n",
    "                         \"WHERE table_name = 'dp03_catalogs.DiaSource'\")\n",
    "results.to_table().to_pandas()"
   ]
  },
  {
   "cell_type": "code",
   "execution_count": null,
   "id": "e68bd238-7d06-4f98-9f63-0d1d2bec9314",
   "metadata": {
    "tags": []
   },
   "outputs": [],
   "source": [
    "results = service.search(\"SELECT SSObjectId, ra, decl, mag \"\n",
    "                         \"FROM dp03_catalogs.DiaSource \"\n",
    "                         \"WHERE CONTAINS(POINT('ICRS', ra, decl), \"\n",
    "                         \"CIRCLE('ICRS', 1.0, 0, 1.0)) = 1 \"\n",
    "                         \"AND mag < 18\").to_table().to_pandas()\n",
    "results"
   ]
  },
  {
   "cell_type": "code",
   "execution_count": null,
   "id": "52198211-1606-4456-b479-af42c787aa98",
   "metadata": {
    "tags": []
   },
   "outputs": [],
   "source": [
    "plt.plot(results['ra'], results['decl'], 'o', ms=2, mew=0)"
   ]
  },
  {
   "cell_type": "code",
   "execution_count": null,
   "id": "d472b549-4bc8-488c-b42c-bc8cd9e482fa",
   "metadata": {
    "tags": []
   },
   "outputs": [],
   "source": [
    "results = service.search(\"SELECT column_name, datatype, description, unit from TAP_SCHEMA.columns \"\n",
    "                         \"WHERE table_name = 'dp03_catalogs.SSObject'\")\n",
    "results.to_table().to_pandas()"
   ]
  },
  {
   "cell_type": "markdown",
   "id": "6249884b-9d3a-47ef-b8db-9f1c7dd85f74",
   "metadata": {},
   "source": [
    "H G1 G2 defined in:\n",
    "https://ui.adsabs.harvard.edu/abs/2010Icar..209..542M/abstract"
   ]
  },
  {
   "cell_type": "code",
   "execution_count": null,
   "id": "0e5f1b4f-3b60-4c42-853a-6a18cdcaa25a",
   "metadata": {},
   "outputs": [],
   "source": []
  }
 ],
 "metadata": {
  "kernelspec": {
   "display_name": "LSST",
   "language": "python",
   "name": "lsst"
  },
  "language_info": {
   "codemirror_mode": {
    "name": "ipython",
    "version": 3
   },
   "file_extension": ".py",
   "mimetype": "text/x-python",
   "name": "python",
   "nbconvert_exporter": "python",
   "pygments_lexer": "ipython3",
   "version": "3.10.10"
  }
 },
 "nbformat": 4,
 "nbformat_minor": 5
}
