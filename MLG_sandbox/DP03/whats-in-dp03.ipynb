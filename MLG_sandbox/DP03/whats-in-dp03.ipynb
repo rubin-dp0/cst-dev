{
 "cells": [
  {
   "cell_type": "markdown",
   "id": "ad768d9d-c212-489f-b002-28c7c4d1025f",
   "metadata": {},
   "source": [
    "# What's in DP0.3? Which columns are empty?\n",
    "\n",
    "A column is empty if:\n",
    " * both its min and max value are NaN, or\n",
    " * both its min and max value are zero, or\n",
    " * the first and last of sorted values are empty strings."
   ]
  },
  {
   "cell_type": "code",
   "execution_count": 1,
   "id": "66763012-1087-43f9-9b5a-7cceb7cbd256",
   "metadata": {
    "execution": {
     "iopub.execute_input": "2023-07-29T02:25:54.798523Z",
     "iopub.status.busy": "2023-07-29T02:25:54.798308Z",
     "iopub.status.idle": "2023-07-29T02:25:55.285706Z",
     "shell.execute_reply": "2023-07-29T02:25:55.284848Z",
     "shell.execute_reply.started": "2023-07-29T02:25:54.798501Z"
    },
    "tags": []
   },
   "outputs": [],
   "source": [
    "from lsst.rsp import get_tap_service\n",
    "import matplotlib.pyplot as plt\n",
    "import numpy as np"
   ]
  },
  {
   "cell_type": "code",
   "execution_count": 2,
   "id": "cb3a5767-7b29-4603-9fc3-30681813dd8e",
   "metadata": {
    "execution": {
     "iopub.execute_input": "2023-07-29T02:25:55.289566Z",
     "iopub.status.busy": "2023-07-29T02:25:55.289336Z",
     "iopub.status.idle": "2023-07-29T02:25:55.357940Z",
     "shell.execute_reply": "2023-07-29T02:25:55.356721Z",
     "shell.execute_reply.started": "2023-07-29T02:25:55.289546Z"
    },
    "tags": []
   },
   "outputs": [
    {
     "name": "stdout",
     "output_type": "stream",
     "text": [
      "https://data.lsst.cloud/api/ssotap\n"
     ]
    }
   ],
   "source": [
    "service = get_tap_service(\"ssotap\")\n",
    "print(service.baseurl)"
   ]
  },
  {
   "cell_type": "code",
   "execution_count": 3,
   "id": "04875615-a600-431b-9a64-3e92ab1dc9d0",
   "metadata": {
    "execution": {
     "iopub.execute_input": "2023-07-29T02:25:55.362307Z",
     "iopub.status.busy": "2023-07-29T02:25:55.362066Z",
     "iopub.status.idle": "2023-07-29T02:25:55.365778Z",
     "shell.execute_reply": "2023-07-29T02:25:55.365002Z",
     "shell.execute_reply.started": "2023-07-29T02:25:55.362286Z"
    },
    "tags": []
   },
   "outputs": [],
   "source": [
    "# query = \"SELECT * FROM tap_schema.schemas\"\n",
    "# results = service.search(query).to_table()\n",
    "# results"
   ]
  },
  {
   "cell_type": "code",
   "execution_count": 4,
   "id": "0cf20f60-ae29-4629-97ab-61af8a41ef0d",
   "metadata": {
    "execution": {
     "iopub.execute_input": "2023-07-29T02:25:55.369276Z",
     "iopub.status.busy": "2023-07-29T02:25:55.369042Z",
     "iopub.status.idle": "2023-07-29T02:25:55.386818Z",
     "shell.execute_reply": "2023-07-29T02:25:55.385760Z",
     "shell.execute_reply.started": "2023-07-29T02:25:55.369254Z"
    },
    "tags": []
   },
   "outputs": [],
   "source": [
    "# query = \"SELECT * FROM tap_schema.tables \" \\\n",
    "#         \"WHERE tap_schema.tables.schema_name = 'dp03_catalogs_10yr' \"\n",
    "# results = service.search(query).to_table()\n",
    "# results"
   ]
  },
  {
   "cell_type": "markdown",
   "id": "79aad3b6-d0a3-436b-bb97-ea5ffef9e82f",
   "metadata": {},
   "source": [
    "## MPCORB"
   ]
  },
  {
   "cell_type": "code",
   "execution_count": 5,
   "id": "e9776907-9262-4690-815c-4c14861ebb6d",
   "metadata": {
    "execution": {
     "iopub.execute_input": "2023-07-29T02:25:55.391177Z",
     "iopub.status.busy": "2023-07-29T02:25:55.390896Z",
     "iopub.status.idle": "2023-07-29T02:25:56.065465Z",
     "shell.execute_reply": "2023-07-29T02:25:56.064342Z",
     "shell.execute_reply.started": "2023-07-29T02:25:55.391154Z"
    },
    "tags": []
   },
   "outputs": [],
   "source": [
    "results = service.search(\"SELECT column_name, datatype from TAP_SCHEMA.columns \"\n",
    "                         \"WHERE table_name = 'dp03_catalogs_10yr.MPCORB'\").to_table().to_pandas()\n",
    "# results"
   ]
  },
  {
   "cell_type": "code",
   "execution_count": 6,
   "id": "a3c1cf7f-caf0-4dc4-842e-a539515a20f0",
   "metadata": {
    "execution": {
     "iopub.execute_input": "2023-07-29T02:25:56.070268Z",
     "iopub.status.busy": "2023-07-29T02:25:56.070009Z",
     "iopub.status.idle": "2023-07-29T02:25:56.075020Z",
     "shell.execute_reply": "2023-07-29T02:25:56.074046Z",
     "shell.execute_reply.started": "2023-07-29T02:25:56.070245Z"
    },
    "tags": []
   },
   "outputs": [],
   "source": [
    "colnames = results['column_name']\n",
    "datatypes = results['datatype']\n",
    "del results"
   ]
  },
  {
   "cell_type": "code",
   "execution_count": 33,
   "id": "3bf159d4-c2b7-42a1-8772-20900f2070f7",
   "metadata": {
    "execution": {
     "iopub.execute_input": "2023-07-29T02:35:52.504310Z",
     "iopub.status.busy": "2023-07-29T02:35:52.503935Z",
     "iopub.status.idle": "2023-07-29T02:35:54.076326Z",
     "shell.execute_reply": "2023-07-29T02:35:54.075488Z",
     "shell.execute_reply.started": "2023-07-29T02:35:52.504284Z"
    },
    "tags": []
   },
   "outputs": [
    {
     "data": {
      "text/html": [
       "<div>\n",
       "<style scoped>\n",
       "    .dataframe tbody tr th:only-of-type {\n",
       "        vertical-align: middle;\n",
       "    }\n",
       "\n",
       "    .dataframe tbody tr th {\n",
       "        vertical-align: top;\n",
       "    }\n",
       "\n",
       "    .dataframe thead th {\n",
       "        text-align: right;\n",
       "    }\n",
       "</style>\n",
       "<table border=\"1\" class=\"dataframe\">\n",
       "  <thead>\n",
       "    <tr style=\"text-align: right;\">\n",
       "      <th></th>\n",
       "      <th>minval</th>\n",
       "      <th>maxval</th>\n",
       "      <th>count</th>\n",
       "    </tr>\n",
       "  </thead>\n",
       "  <tbody>\n",
       "    <tr>\n",
       "      <th>0</th>\n",
       "      <td>-9223370383071521539</td>\n",
       "      <td>9223370875126069107</td>\n",
       "      <td>14462388</td>\n",
       "    </tr>\n",
       "  </tbody>\n",
       "</table>\n",
       "</div>"
      ],
      "text/plain": [
       "                minval               maxval     count\n",
       "0 -9223370383071521539  9223370875126069107  14462388"
      ]
     },
     "execution_count": 33,
     "metadata": {},
     "output_type": "execute_result"
    }
   ],
   "source": [
    "results = service.search(\"SELECT MIN(ssObjectId) AS minval, \"\n",
    "                         \"MAX(ssObjectId) AS maxval, \"\n",
    "                         \"COUNT(ssObjectId) AS count \"\n",
    "                         \"FROM dp03_catalogs_10yr.MPCORB \").to_table().to_pandas()\n",
    "results"
   ]
  },
  {
   "cell_type": "code",
   "execution_count": 34,
   "id": "5cbfa6df-3741-486b-8629-c1dd13b8a9f9",
   "metadata": {
    "execution": {
     "iopub.execute_input": "2023-07-29T02:35:54.085784Z",
     "iopub.status.busy": "2023-07-29T02:35:54.085518Z",
     "iopub.status.idle": "2023-07-29T02:35:54.090185Z",
     "shell.execute_reply": "2023-07-29T02:35:54.089243Z",
     "shell.execute_reply.started": "2023-07-29T02:35:54.085762Z"
    },
    "tags": []
   },
   "outputs": [
    {
     "name": "stdout",
     "output_type": "stream",
     "text": [
      "9038903457623547904\n"
     ]
    }
   ],
   "source": [
    "print(int(results['maxval'][0] - (0.02 * results['maxval'][0])))"
   ]
  },
  {
   "cell_type": "code",
   "execution_count": 35,
   "id": "a3a5dcaf-9c6d-401b-83ba-306a3c1ea5da",
   "metadata": {
    "execution": {
     "iopub.execute_input": "2023-07-29T02:35:54.091847Z",
     "iopub.status.busy": "2023-07-29T02:35:54.091625Z",
     "iopub.status.idle": "2023-07-29T02:35:54.106702Z",
     "shell.execute_reply": "2023-07-29T02:35:54.105877Z",
     "shell.execute_reply.started": "2023-07-29T02:35:54.091829Z"
    },
    "tags": []
   },
   "outputs": [],
   "source": [
    "del results"
   ]
  },
  {
   "cell_type": "code",
   "execution_count": 37,
   "id": "57c31758-e512-4f99-8a6b-832acce8e6d0",
   "metadata": {
    "execution": {
     "iopub.execute_input": "2023-07-29T02:36:05.897114Z",
     "iopub.status.busy": "2023-07-29T02:36:05.896628Z",
     "iopub.status.idle": "2023-07-29T02:36:19.884586Z",
     "shell.execute_reply": "2023-07-29T02:36:19.883396Z",
     "shell.execute_reply.started": "2023-07-29T02:36:05.897084Z"
    },
    "tags": []
   },
   "outputs": [
    {
     "name": "stdout",
     "output_type": "stream",
     "text": [
      "144472\n"
     ]
    }
   ],
   "source": [
    "results = service.search(\"SELECT * \"\n",
    "                         \"FROM dp03_catalogs_10yr.MPCORB \"\n",
    "                         \"WHERE ssObjectId > 9038903457623547904\").to_table().to_pandas()\n",
    "print(len(results))"
   ]
  },
  {
   "cell_type": "code",
   "execution_count": 40,
   "id": "e08a41fb-4eb7-47fe-9c39-3d89700f133c",
   "metadata": {
    "execution": {
     "iopub.execute_input": "2023-07-29T02:41:34.508071Z",
     "iopub.status.busy": "2023-07-29T02:41:34.507576Z",
     "iopub.status.idle": "2023-07-29T02:41:35.184008Z",
     "shell.execute_reply": "2023-07-29T02:41:35.182731Z",
     "shell.execute_reply.started": "2023-07-29T02:41:34.508038Z"
    },
    "tags": []
   },
   "outputs": [
    {
     "name": "stderr",
     "output_type": "stream",
     "text": [
      "/tmp/ipykernel_11427/984848404.py:4: RuntimeWarning: All-NaN axis encountered\n",
      "  nanmin = np.nanmin(results[col])\n",
      "/tmp/ipykernel_11427/984848404.py:5: RuntimeWarning: All-NaN axis encountered\n",
      "  nanmax = np.nanmax(results[col])\n",
      "/tmp/ipykernel_11427/984848404.py:12: RuntimeWarning: All-NaN axis encountered\n",
      "  np.nanmin(results[col]),\n",
      "/tmp/ipykernel_11427/984848404.py:13: RuntimeWarning: All-NaN axis encountered\n",
      "  np.nanmax(results[col])))\n"
     ]
    },
    {
     "name": "stdout",
     "output_type": "stream",
     "text": [
      " 0   1  arc                            float                       NAN                  NAN\n",
      " 1   1  arcEnd                         char                                                \n",
      " 2   1  arcStart                       char                                                \n",
      " 3   1  computer                       char                                                \n",
      " 4   0  e                              double               1.4632E-04           1.1363E+01\n",
      " 5   0  epoch                          double               5.9443E+04           6.4675E+04\n",
      " 6   1  flags                          int                  0.0000E+00           0.0000E+00\n",
      " 7   0  fullDesignation                char              2011 1062 T-3      2011 iso0012110\n",
      " 8   0  incl                           double               8.0000E-05           1.7897E+02\n",
      " 9   1  lastIncludedObservation        float                       NAN                  NAN\n",
      "10   0  mpcDesignation                 char                   1062 T-3             iso00121\n",
      "11   0  mpcG                           float                1.5000E-01           1.5000E-01\n",
      "12   0  mpcH                           float                1.0400E+00           3.0190E+01\n",
      "13   1  mpcNumber                      int                  0.0000E+00           0.0000E+00\n",
      "14   1  n                              double                      NAN                  NAN\n",
      "15   1  nobs                           int                  0.0000E+00           0.0000E+00\n",
      "16   0  node                           double               6.6000E-04           3.5999E+02\n",
      "17   1  nopp                           int                  0.0000E+00           0.0000E+00\n",
      "18   0  peri                           double               1.7762E-03           3.6000E+02\n",
      "19   1  pertsLong                      char                                                \n",
      "20   1  pertsShort                     char                                                \n",
      "21   0  q                              double               7.3921E-03           6.5071E+01\n",
      "22   1  reference                      char                                                \n",
      "23   1  rms                            float                       NAN                  NAN\n",
      "24   0  ssObjectId                     long                 9.0389E+18           9.2234E+18\n",
      "25   0  tperi                          double              -1.2709E+03           1.3800E+05\n",
      "26   1  uncertaintyParameter           char                                                \n"
     ]
    }
   ],
   "source": [
    "flag = np.zeros(len(colnames), dtype='int')\n",
    "for i, (col, dtype) in enumerate(zip(colnames, datatypes)):\n",
    "    if dtype != 'char':\n",
    "        nanmin = np.nanmin(results[col])\n",
    "        nanmax = np.nanmax(results[col])\n",
    "        if np.isnan(nanmin) & np.isnan(nanmax):\n",
    "            flag[i] = 1\n",
    "        elif np.isfinite(nanmin) & np.isfinite(nanmax):\n",
    "            if ((nanmin == 0.0) | (nanmax == 0.0)) & (nanmax - nanmin == 0.0):\n",
    "                flag[i] = 1\n",
    "        print('%2i  %2i  %-30s %-10s %20.4E %20.4E' % (i, flag[i], col, dtype, \n",
    "                                                       np.nanmin(results[col]), \n",
    "                                                       np.nanmax(results[col])))\n",
    "    else:\n",
    "        uvals = np.unique(results[col])\n",
    "        if uvals[0] == '':\n",
    "            flag[i] = 1\n",
    "        print('%2i  %2i  %-30s %-10s %20s %20s' % (i, flag[i], col, dtype, uvals[0], uvals[-1]))"
   ]
  },
  {
   "cell_type": "markdown",
   "id": "a6b017c2-354a-4b17-bf85-06293859a948",
   "metadata": {},
   "source": [
    "### List of empty columns"
   ]
  },
  {
   "cell_type": "code",
   "execution_count": 41,
   "id": "dc947236-9140-4314-b3a4-0101a476103b",
   "metadata": {
    "execution": {
     "iopub.execute_input": "2023-07-29T02:41:47.820003Z",
     "iopub.status.busy": "2023-07-29T02:41:47.819622Z",
     "iopub.status.idle": "2023-07-29T02:41:47.825415Z",
     "shell.execute_reply": "2023-07-29T02:41:47.824293Z",
     "shell.execute_reply.started": "2023-07-29T02:41:47.819951Z"
    },
    "tags": []
   },
   "outputs": [
    {
     "name": "stdout",
     "output_type": "stream",
     "text": [
      "arc\n",
      "arcEnd\n",
      "arcStart\n",
      "computer\n",
      "flags\n",
      "lastIncludedObservation\n",
      "mpcNumber\n",
      "n\n",
      "nobs\n",
      "nopp\n",
      "pertsLong\n",
      "pertsShort\n",
      "reference\n",
      "rms\n",
      "uncertaintyParameter\n"
     ]
    }
   ],
   "source": [
    "tx = np.where(flag == 1)[0]\n",
    "for x in tx:\n",
    "    print(colnames[x])"
   ]
  },
  {
   "cell_type": "code",
   "execution_count": 42,
   "id": "85ced9bc-54c8-4419-ab4f-cbee4efcf53f",
   "metadata": {
    "execution": {
     "iopub.execute_input": "2023-07-29T02:41:48.075297Z",
     "iopub.status.busy": "2023-07-29T02:41:48.074218Z",
     "iopub.status.idle": "2023-07-29T02:41:48.096266Z",
     "shell.execute_reply": "2023-07-29T02:41:48.095172Z",
     "shell.execute_reply.started": "2023-07-29T02:41:48.075264Z"
    },
    "tags": []
   },
   "outputs": [],
   "source": [
    "del results, flag, colnames, datatypes"
   ]
  },
  {
   "cell_type": "markdown",
   "id": "c21162b8-846e-4830-87fa-65930dd313af",
   "metadata": {},
   "source": [
    "## SSObject"
   ]
  },
  {
   "cell_type": "code",
   "execution_count": 43,
   "id": "fe05e825-2b9d-450e-a4ad-44e7f048cb34",
   "metadata": {
    "execution": {
     "iopub.execute_input": "2023-07-29T02:42:34.724885Z",
     "iopub.status.busy": "2023-07-29T02:42:34.724103Z",
     "iopub.status.idle": "2023-07-29T02:42:34.907945Z",
     "shell.execute_reply": "2023-07-29T02:42:34.906876Z",
     "shell.execute_reply.started": "2023-07-29T02:42:34.724844Z"
    },
    "tags": []
   },
   "outputs": [],
   "source": [
    "results = service.search(\"SELECT column_name, datatype from TAP_SCHEMA.columns \"\n",
    "                         \"WHERE table_name = 'dp03_catalogs_10yr.SSObject'\").to_table().to_pandas()\n",
    "# results"
   ]
  },
  {
   "cell_type": "code",
   "execution_count": 44,
   "id": "ab96fd18-4ac8-493b-a246-827d01bc6c5e",
   "metadata": {
    "execution": {
     "iopub.execute_input": "2023-07-29T02:42:35.488323Z",
     "iopub.status.busy": "2023-07-29T02:42:35.487855Z",
     "iopub.status.idle": "2023-07-29T02:42:35.492874Z",
     "shell.execute_reply": "2023-07-29T02:42:35.492019Z",
     "shell.execute_reply.started": "2023-07-29T02:42:35.488292Z"
    },
    "tags": []
   },
   "outputs": [],
   "source": [
    "colnames = results['column_name']\n",
    "datatypes = results['datatype']\n",
    "del results"
   ]
  },
  {
   "cell_type": "code",
   "execution_count": 45,
   "id": "34853de0-d359-41f6-a56d-9e48dcb76952",
   "metadata": {
    "execution": {
     "iopub.execute_input": "2023-07-29T02:42:38.371831Z",
     "iopub.status.busy": "2023-07-29T02:42:38.370688Z",
     "iopub.status.idle": "2023-07-29T02:42:46.912789Z",
     "shell.execute_reply": "2023-07-29T02:42:46.911735Z",
     "shell.execute_reply.started": "2023-07-29T02:42:38.371789Z"
    },
    "tags": []
   },
   "outputs": [],
   "source": [
    "results = service.search(\"SELECT * \"\n",
    "                         \"FROM dp03_catalogs_10yr.SSObject \"\n",
    "                         \"WHERE ssObjectId > 9038903457623547904\").to_table().to_pandas()"
   ]
  },
  {
   "cell_type": "code",
   "execution_count": 46,
   "id": "7782a832-1186-4275-a77c-b03d38829027",
   "metadata": {
    "execution": {
     "iopub.execute_input": "2023-07-29T02:43:02.957239Z",
     "iopub.status.busy": "2023-07-29T02:43:02.956832Z",
     "iopub.status.idle": "2023-07-29T02:43:03.001420Z",
     "shell.execute_reply": "2023-07-29T02:43:03.000356Z",
     "shell.execute_reply.started": "2023-07-29T02:43:02.957207Z"
    },
    "tags": []
   },
   "outputs": [
    {
     "name": "stdout",
     "output_type": "stream",
     "text": [
      " 0   0  arc                            float                0.0000E+00           3.6509E+03\n",
      " 1   0  discoverySubmissionDate        double               6.0218E+04           6.3872E+04\n",
      " 2   0  firstObservationDate           double               6.0218E+04           6.3865E+04\n",
      " 3   0  flags                          long                 6.6000E+01           2.1740E+03\n",
      " 4   0  g_Chi2                         float                2.9486E-03           1.1336E+03\n",
      " 5   0  g_G12                          float               -1.2398E+05           2.3839E+06\n",
      " 6   0  g_G12Err                       float                1.1028E-03           1.5701E+12\n",
      " 7   0  g_H                            float                9.4873E+00           3.9079E+01\n",
      " 8   0  g_H_gG12_Cov                   float               -8.1780E+16           1.1349E+18\n",
      " 9   0  g_HErr                         float                1.6906E-04           9.7831E+05\n",
      "10   0  g_Ndata                        int                  0.0000E+00           4.0600E+02\n",
      "11   0  i_Chi2                         float                4.9387E-03           9.0850E+02\n",
      "12   0  i_G12                          float               -5.6468E+05           4.0609E+06\n",
      "13   0  i_G12Err                       float                4.1067E-04           8.4956E+11\n",
      "14   0  i_H                            float                8.9112E+00           4.2630E+01\n",
      "15   0  i_H_iG12_Cov                   float               -1.8396E+18           2.7423E+17\n",
      "16   0  i_HErr                         float                1.3440E-04           2.3811E+06\n",
      "17   0  i_Ndata                        int                  0.0000E+00           8.2000E+02\n",
      "18   1  maxExtendedness                float                0.0000E+00           0.0000E+00\n",
      "19   1  medianExtendedness             float                0.0000E+00           0.0000E+00\n",
      "20   1  minExtendedness                float                0.0000E+00           0.0000E+00\n",
      "21   1  MOID                           float                0.0000E+00           0.0000E+00\n",
      "22   1  MOIDDeltaV                     float                0.0000E+00           0.0000E+00\n",
      "23   1  MOIDEclipticLongitude          float                0.0000E+00           0.0000E+00\n",
      "24   1  MOIDTrueAnomaly                float                0.0000E+00           0.0000E+00\n",
      "25   0  numObs                         int                  1.0000E+00           4.9880E+03\n",
      "26   0  r_Chi2                         float                5.4553E-07           1.1538E+03\n",
      "27   0  r_G12                          float               -4.8621E+05           5.3520E+05\n",
      "28   0  r_G12Err                       float                7.4954E-04           2.6235E+11\n",
      "29   0  r_H                            float                9.0182E+00           4.0440E+01\n",
      "30   0  r_H_rG12_Cov                   float               -1.8818E+17           8.4401E+15\n",
      "31   0  r_HErr                         float                1.0424E-04           8.2668E+05\n",
      "32   0  r_Ndata                        int                  0.0000E+00           8.3000E+02\n",
      "33   0  ssObjectId                     long                 9.0389E+18           9.2234E+18\n",
      "34   1  u_Chi2                         float                       NAN                  NAN\n",
      "35   1  u_G12                          float                       NAN                  NAN\n",
      "36   1  u_G12Err                       float                       NAN                  NAN\n",
      "37   1  u_H                            float                       NAN                  NAN\n",
      "38   1  u_H_uG12_Cov                   float                       NAN                  NAN\n",
      "39   1  u_HErr                         float                       NAN                  NAN\n",
      "40   1  u_Ndata                        int                  0.0000E+00           0.0000E+00\n",
      "41   1  y_Chi2                         float                       NAN                  NAN\n",
      "42   1  y_G12                          float                       NAN                  NAN\n",
      "43   1  y_G12Err                       float                       NAN                  NAN\n",
      "44   1  y_H                            float                       NAN                  NAN\n",
      "45   1  y_H_yG12_Cov                   float                       NAN                  NAN\n",
      "46   1  y_HErr                         float                       NAN                  NAN\n",
      "47   1  y_Ndata                        int                  0.0000E+00           0.0000E+00\n",
      "48   0  z_Chi2                         float                5.2464E-03           4.9834E+02\n",
      "49   0  z_G12                          float               -7.6725E+05           6.1218E+05\n",
      "50   0  z_G12Err                       float                1.5689E-03           9.2584E+11\n",
      "51   0  z_H                            float                8.9077E+00           3.9794E+01\n",
      "52   0  z_H_zG12_Cov                   float               -1.2291E+18           1.3217E+17\n",
      "53   0  z_HErr                         float                2.2244E-04           1.3276E+06\n",
      "54   0  z_Ndata                        int                  0.0000E+00           4.4600E+02\n"
     ]
    },
    {
     "name": "stderr",
     "output_type": "stream",
     "text": [
      "/tmp/ipykernel_11427/984848404.py:4: RuntimeWarning: All-NaN axis encountered\n",
      "  nanmin = np.nanmin(results[col])\n",
      "/tmp/ipykernel_11427/984848404.py:5: RuntimeWarning: All-NaN axis encountered\n",
      "  nanmax = np.nanmax(results[col])\n",
      "/tmp/ipykernel_11427/984848404.py:12: RuntimeWarning: All-NaN axis encountered\n",
      "  np.nanmin(results[col]),\n",
      "/tmp/ipykernel_11427/984848404.py:13: RuntimeWarning: All-NaN axis encountered\n",
      "  np.nanmax(results[col])))\n"
     ]
    }
   ],
   "source": [
    "flag = np.zeros(len(colnames), dtype='int')\n",
    "for i, (col, dtype) in enumerate(zip(colnames, datatypes)):\n",
    "    if dtype != 'char':\n",
    "        nanmin = np.nanmin(results[col])\n",
    "        nanmax = np.nanmax(results[col])\n",
    "        if np.isnan(nanmin) & np.isnan(nanmax):\n",
    "            flag[i] = 1\n",
    "        elif np.isfinite(nanmin) & np.isfinite(nanmax):\n",
    "            if ((nanmin == 0.0) | (nanmax == 0.0)) & (nanmax - nanmin == 0.0):\n",
    "                flag[i] = 1\n",
    "        print('%2i  %2i  %-30s %-10s %20.4E %20.4E' % (i, flag[i], col, dtype, \n",
    "                                                       np.nanmin(results[col]), \n",
    "                                                       np.nanmax(results[col])))\n",
    "    else:\n",
    "        uvals = np.unique(results[col])\n",
    "        if uvals[0] == '':\n",
    "            flag[i] = 1\n",
    "        print('%2i  %2i  %-30s %-10s %20s %20s' % (i, flag[i], col, dtype, uvals[0], uvals[-1]))"
   ]
  },
  {
   "cell_type": "markdown",
   "id": "652dc270-e4a2-4518-8068-0a71ebc82f22",
   "metadata": {},
   "source": [
    "### List of empty columns"
   ]
  },
  {
   "cell_type": "code",
   "execution_count": 47,
   "id": "94f8c59d-d62e-43d6-96ce-b93e0128f363",
   "metadata": {
    "execution": {
     "iopub.execute_input": "2023-07-29T02:43:36.253349Z",
     "iopub.status.busy": "2023-07-29T02:43:36.252992Z",
     "iopub.status.idle": "2023-07-29T02:43:36.258720Z",
     "shell.execute_reply": "2023-07-29T02:43:36.257683Z",
     "shell.execute_reply.started": "2023-07-29T02:43:36.253324Z"
    },
    "tags": []
   },
   "outputs": [
    {
     "name": "stdout",
     "output_type": "stream",
     "text": [
      "maxExtendedness\n",
      "medianExtendedness\n",
      "minExtendedness\n",
      "MOID\n",
      "MOIDDeltaV\n",
      "MOIDEclipticLongitude\n",
      "MOIDTrueAnomaly\n",
      "u_Chi2\n",
      "u_G12\n",
      "u_G12Err\n",
      "u_H\n",
      "u_H_uG12_Cov\n",
      "u_HErr\n",
      "u_Ndata\n",
      "y_Chi2\n",
      "y_G12\n",
      "y_G12Err\n",
      "y_H\n",
      "y_H_yG12_Cov\n",
      "y_HErr\n",
      "y_Ndata\n"
     ]
    }
   ],
   "source": [
    "tx = np.where(flag == 1)[0]\n",
    "for x in tx:\n",
    "    print(colnames[x])"
   ]
  },
  {
   "cell_type": "code",
   "execution_count": 48,
   "id": "1439fc6a-a504-4de9-a9c8-53ffbf83f086",
   "metadata": {
    "execution": {
     "iopub.execute_input": "2023-07-29T02:43:36.541267Z",
     "iopub.status.busy": "2023-07-29T02:43:36.540880Z",
     "iopub.status.idle": "2023-07-29T02:43:36.551118Z",
     "shell.execute_reply": "2023-07-29T02:43:36.549955Z",
     "shell.execute_reply.started": "2023-07-29T02:43:36.541241Z"
    },
    "tags": []
   },
   "outputs": [],
   "source": [
    "del results, flag"
   ]
  },
  {
   "cell_type": "code",
   "execution_count": null,
   "id": "d63ca783-1499-4df2-81f3-e66bde268fa1",
   "metadata": {},
   "outputs": [],
   "source": []
  },
  {
   "cell_type": "code",
   "execution_count": null,
   "id": "44e9d82e-26ba-493d-9744-5dabf4a1a01b",
   "metadata": {},
   "outputs": [],
   "source": []
  },
  {
   "cell_type": "markdown",
   "id": "046e7cc1-fb92-4f8f-91d0-03eba99b2b4b",
   "metadata": {},
   "source": [
    "## DiaSource"
   ]
  },
  {
   "cell_type": "code",
   "execution_count": 49,
   "id": "276d806f-d3e8-4fb4-a832-0ad75a4729f1",
   "metadata": {
    "execution": {
     "iopub.execute_input": "2023-07-29T02:46:07.152506Z",
     "iopub.status.busy": "2023-07-29T02:46:07.151399Z",
     "iopub.status.idle": "2023-07-29T02:46:07.330503Z",
     "shell.execute_reply": "2023-07-29T02:46:07.329568Z",
     "shell.execute_reply.started": "2023-07-29T02:46:07.152472Z"
    },
    "tags": []
   },
   "outputs": [],
   "source": [
    "results = service.search(\"SELECT column_name, datatype from TAP_SCHEMA.columns \"\n",
    "                         \"WHERE table_name = 'dp03_catalogs_10yr.DiaSource'\").to_table().to_pandas()\n",
    "# results"
   ]
  },
  {
   "cell_type": "code",
   "execution_count": 50,
   "id": "50f789e1-8453-4b60-8639-0e872f9063e9",
   "metadata": {
    "execution": {
     "iopub.execute_input": "2023-07-29T02:46:07.492899Z",
     "iopub.status.busy": "2023-07-29T02:46:07.491931Z",
     "iopub.status.idle": "2023-07-29T02:46:07.496977Z",
     "shell.execute_reply": "2023-07-29T02:46:07.495995Z",
     "shell.execute_reply.started": "2023-07-29T02:46:07.492869Z"
    },
    "tags": []
   },
   "outputs": [],
   "source": [
    "colnames = results['column_name']\n",
    "datatypes = results['datatype']\n",
    "del results"
   ]
  },
  {
   "cell_type": "code",
   "execution_count": 56,
   "id": "2b799bab-f119-4c13-adc8-2d7e1f43f962",
   "metadata": {
    "execution": {
     "iopub.execute_input": "2023-07-29T02:49:42.000927Z",
     "iopub.status.busy": "2023-07-29T02:49:42.000476Z",
     "iopub.status.idle": "2023-07-29T02:50:44.396643Z",
     "shell.execute_reply": "2023-07-29T02:50:44.395666Z",
     "shell.execute_reply.started": "2023-07-29T02:49:42.000894Z"
    },
    "tags": []
   },
   "outputs": [
    {
     "data": {
      "text/html": [
       "<div>\n",
       "<style scoped>\n",
       "    .dataframe tbody tr th:only-of-type {\n",
       "        vertical-align: middle;\n",
       "    }\n",
       "\n",
       "    .dataframe tbody tr th {\n",
       "        vertical-align: top;\n",
       "    }\n",
       "\n",
       "    .dataframe thead th {\n",
       "        text-align: right;\n",
       "    }\n",
       "</style>\n",
       "<table border=\"1\" class=\"dataframe\">\n",
       "  <thead>\n",
       "    <tr style=\"text-align: right;\">\n",
       "      <th></th>\n",
       "      <th>minval</th>\n",
       "      <th>maxval</th>\n",
       "      <th>count</th>\n",
       "    </tr>\n",
       "  </thead>\n",
       "  <tbody>\n",
       "    <tr>\n",
       "      <th>0</th>\n",
       "      <td>-9223372009544453425</td>\n",
       "      <td>9223372024865461180</td>\n",
       "      <td>653005444</td>\n",
       "    </tr>\n",
       "  </tbody>\n",
       "</table>\n",
       "</div>"
      ],
      "text/plain": [
       "                minval               maxval      count\n",
       "0 -9223372009544453425  9223372024865461180  653005444"
      ]
     },
     "execution_count": 56,
     "metadata": {},
     "output_type": "execute_result"
    }
   ],
   "source": [
    "results = service.search(\"SELECT MIN(diaSourceId) AS minval, \"\n",
    "                         \"MAX(diaSourceId) AS maxval, \"\n",
    "                         \"COUNT(diaSourceId) AS count \"\n",
    "                         \"FROM dp03_catalogs_10yr.DiaSource \").to_table().to_pandas()\n",
    "results"
   ]
  },
  {
   "cell_type": "code",
   "execution_count": 57,
   "id": "14dd7a67-6f4b-43a7-b18c-06616531a090",
   "metadata": {
    "execution": {
     "iopub.execute_input": "2023-07-29T02:50:44.407569Z",
     "iopub.status.busy": "2023-07-29T02:50:44.407324Z",
     "iopub.status.idle": "2023-07-29T02:50:44.412347Z",
     "shell.execute_reply": "2023-07-29T02:50:44.411406Z",
     "shell.execute_reply.started": "2023-07-29T02:50:44.407548Z"
    },
    "tags": []
   },
   "outputs": [
    {
     "name": "stdout",
     "output_type": "stream",
     "text": [
      "9218760338853028864\n"
     ]
    }
   ],
   "source": [
    "print(int(results['maxval'][0] - (0.0005 * results['maxval'][0])))"
   ]
  },
  {
   "cell_type": "code",
   "execution_count": 58,
   "id": "962bf3da-0a38-4f7a-9781-3c7b6f9628e3",
   "metadata": {
    "execution": {
     "iopub.execute_input": "2023-07-29T02:50:44.414615Z",
     "iopub.status.busy": "2023-07-29T02:50:44.414083Z",
     "iopub.status.idle": "2023-07-29T02:50:44.428653Z",
     "shell.execute_reply": "2023-07-29T02:50:44.427882Z",
     "shell.execute_reply.started": "2023-07-29T02:50:44.414587Z"
    },
    "tags": []
   },
   "outputs": [],
   "source": [
    "del results"
   ]
  },
  {
   "cell_type": "code",
   "execution_count": 60,
   "id": "135e4abf-d202-4f08-a452-1bb0731f030b",
   "metadata": {
    "execution": {
     "iopub.execute_input": "2023-07-29T02:50:56.062903Z",
     "iopub.status.busy": "2023-07-29T02:50:56.061960Z",
     "iopub.status.idle": "2023-07-29T02:51:09.212735Z",
     "shell.execute_reply": "2023-07-29T02:51:09.211623Z",
     "shell.execute_reply.started": "2023-07-29T02:50:56.062864Z"
    },
    "tags": []
   },
   "outputs": [
    {
     "name": "stdout",
     "output_type": "stream",
     "text": [
      "162269\n"
     ]
    }
   ],
   "source": [
    "results = service.search(\"SELECT * \"\n",
    "                         \"FROM dp03_catalogs_10yr.DiaSource \"\n",
    "                         \"WHERE ssObjectId > 9218760338853028864\").to_table().to_pandas()\n",
    "print(len(results))"
   ]
  },
  {
   "cell_type": "code",
   "execution_count": 61,
   "id": "3e635672-bd64-45fc-b677-7adacdc2ea9b",
   "metadata": {
    "execution": {
     "iopub.execute_input": "2023-07-29T02:51:11.393293Z",
     "iopub.status.busy": "2023-07-29T02:51:11.392338Z",
     "iopub.status.idle": "2023-07-29T02:51:11.824978Z",
     "shell.execute_reply": "2023-07-29T02:51:11.824077Z",
     "shell.execute_reply.started": "2023-07-29T02:51:11.393244Z"
    },
    "tags": []
   },
   "outputs": [
    {
     "name": "stdout",
     "output_type": "stream",
     "text": [
      " 0   0  band                           char                          g                    z\n",
      " 1   0  ccdVisitId                     long                 1.6830E+03           2.0857E+06\n",
      " 2   0  dec                            double              -6.9948E+01           3.5642E+01\n",
      " 3   0  decErr                         float                1.9799E-06           6.3192E-01\n",
      " 4   0  decTrue                        double              -6.9948E+01           3.5642E+01\n",
      " 5   0  diaObjectId                    long                -9.2232E+18           9.2233E+18\n",
      " 6   0  diaSourceId                    long                -9.2233E+18           9.2234E+18\n",
      " 7   0  mag                            float                1.5748E+01           5.0101E+01\n",
      " 8   0  magErr                         float                1.0000E-03           9.1070E+00\n",
      " 9   0  magTrueVband                   float                1.6232E+01           3.4004E+01\n",
      "10   0  midPointMjdTai                 double               6.0220E+04           6.3869E+04\n",
      "11   0  nameTrue                       char                   1990 HY6            St500nARa\n",
      "12   0  ra                             double               2.4060E-04           3.6000E+02\n",
      "13   1  ra_dec_Cov                     float                0.0000E+00           0.0000E+00\n",
      "14   0  raErr                          float                1.9799E-06           6.3192E-01\n",
      "15   0  raTrue                         double               2.2395E-04           3.6000E+02\n",
      "16   0  snr                            float                1.0113E-01           9.2103E+02\n",
      "17   0  ssObjectId                     long                 9.2188E+18           9.2234E+18\n"
     ]
    },
    {
     "name": "stderr",
     "output_type": "stream",
     "text": [
      "/tmp/ipykernel_11427/984848404.py:9: RuntimeWarning: overflow encountered in long_scalars\n",
      "  if ((nanmin == 0.0) | (nanmax == 0.0)) & (nanmax - nanmin == 0.0):\n"
     ]
    },
    {
     "name": "stdout",
     "output_type": "stream",
     "text": [
      "18   0  ssObjectReassocTime            char                60219.99373          63869.32741\n"
     ]
    }
   ],
   "source": [
    "flag = np.zeros(len(colnames), dtype='int')\n",
    "for i, (col, dtype) in enumerate(zip(colnames, datatypes)):\n",
    "    if dtype != 'char':\n",
    "        nanmin = np.nanmin(results[col])\n",
    "        nanmax = np.nanmax(results[col])\n",
    "        if np.isnan(nanmin) & np.isnan(nanmax):\n",
    "            flag[i] = 1\n",
    "        elif np.isfinite(nanmin) & np.isfinite(nanmax):\n",
    "            if ((nanmin == 0.0) | (nanmax == 0.0)) & (nanmax - nanmin == 0.0):\n",
    "                flag[i] = 1\n",
    "        print('%2i  %2i  %-30s %-10s %20.4E %20.4E' % (i, flag[i], col, dtype, \n",
    "                                                       np.nanmin(results[col]), \n",
    "                                                       np.nanmax(results[col])))\n",
    "    else:\n",
    "        uvals = np.unique(results[col])\n",
    "        if uvals[0] == '':\n",
    "            flag[i] = 1\n",
    "        print('%2i  %2i  %-30s %-10s %20s %20s' % (i, flag[i], col, dtype, uvals[0], uvals[-1]))"
   ]
  },
  {
   "cell_type": "markdown",
   "id": "56446a1e-ae1e-40a9-aa3a-76f6aa0654e0",
   "metadata": {},
   "source": [
    "### List of empty columns"
   ]
  },
  {
   "cell_type": "code",
   "execution_count": 62,
   "id": "f7c3fa1f-86c2-4dad-ad8d-b2e87cdf0a0c",
   "metadata": {
    "execution": {
     "iopub.execute_input": "2023-07-29T02:51:25.767007Z",
     "iopub.status.busy": "2023-07-29T02:51:25.766079Z",
     "iopub.status.idle": "2023-07-29T02:51:25.772109Z",
     "shell.execute_reply": "2023-07-29T02:51:25.771193Z",
     "shell.execute_reply.started": "2023-07-29T02:51:25.766952Z"
    },
    "tags": []
   },
   "outputs": [
    {
     "name": "stdout",
     "output_type": "stream",
     "text": [
      "ra_dec_Cov\n"
     ]
    }
   ],
   "source": [
    "tx = np.where(flag == 1)[0]\n",
    "for x in tx:\n",
    "    print(colnames[x])"
   ]
  },
  {
   "cell_type": "code",
   "execution_count": 63,
   "id": "4f92886d-b3ce-4d6d-9d29-e649acfc4afd",
   "metadata": {
    "execution": {
     "iopub.execute_input": "2023-07-29T02:51:26.043906Z",
     "iopub.status.busy": "2023-07-29T02:51:26.042852Z",
     "iopub.status.idle": "2023-07-29T02:51:26.054788Z",
     "shell.execute_reply": "2023-07-29T02:51:26.053753Z",
     "shell.execute_reply.started": "2023-07-29T02:51:26.043862Z"
    },
    "tags": []
   },
   "outputs": [],
   "source": [
    "del results, flag"
   ]
  },
  {
   "cell_type": "markdown",
   "id": "4c62537c-0174-41b7-b825-c79cc8648a85",
   "metadata": {},
   "source": [
    "## SSSource"
   ]
  },
  {
   "cell_type": "code",
   "execution_count": 64,
   "id": "5bd1bc70-f6f8-4751-8212-7bfd42f27dc0",
   "metadata": {
    "execution": {
     "iopub.execute_input": "2023-07-29T02:51:53.352449Z",
     "iopub.status.busy": "2023-07-29T02:51:53.351541Z",
     "iopub.status.idle": "2023-07-29T02:51:54.464688Z",
     "shell.execute_reply": "2023-07-29T02:51:54.463638Z",
     "shell.execute_reply.started": "2023-07-29T02:51:53.352410Z"
    },
    "tags": []
   },
   "outputs": [],
   "source": [
    "results = service.search(\"SELECT column_name, datatype from TAP_SCHEMA.columns \"\n",
    "                         \"WHERE table_name = 'dp03_catalogs_10yr.SSSource'\").to_table().to_pandas()\n",
    "# results"
   ]
  },
  {
   "cell_type": "code",
   "execution_count": 65,
   "id": "efa73258-cf04-492c-a508-5da389fc19f7",
   "metadata": {
    "execution": {
     "iopub.execute_input": "2023-07-29T02:52:01.585241Z",
     "iopub.status.busy": "2023-07-29T02:52:01.584357Z",
     "iopub.status.idle": "2023-07-29T02:52:01.589651Z",
     "shell.execute_reply": "2023-07-29T02:52:01.588721Z",
     "shell.execute_reply.started": "2023-07-29T02:52:01.585204Z"
    },
    "tags": []
   },
   "outputs": [],
   "source": [
    "colnames = results['column_name']\n",
    "datatypes = results['datatype']\n",
    "del results"
   ]
  },
  {
   "cell_type": "code",
   "execution_count": 66,
   "id": "6fca92f4-3435-4eb1-b02e-0c55440edc20",
   "metadata": {
    "execution": {
     "iopub.execute_input": "2023-07-29T02:52:17.038954Z",
     "iopub.status.busy": "2023-07-29T02:52:17.037625Z",
     "iopub.status.idle": "2023-07-29T02:52:35.016578Z",
     "shell.execute_reply": "2023-07-29T02:52:35.015442Z",
     "shell.execute_reply.started": "2023-07-29T02:52:17.038910Z"
    },
    "tags": []
   },
   "outputs": [
    {
     "name": "stdout",
     "output_type": "stream",
     "text": [
      "162269\n"
     ]
    }
   ],
   "source": [
    "results = service.search(\"SELECT * \"\n",
    "                         \"FROM dp03_catalogs_10yr.SSSource \"\n",
    "                         \"WHERE ssObjectId > 9218760338853028864\").to_table().to_pandas()\n",
    "print(len(results))"
   ]
  },
  {
   "cell_type": "code",
   "execution_count": 67,
   "id": "caead3e5-a726-4883-b569-02f8ef03768d",
   "metadata": {
    "execution": {
     "iopub.execute_input": "2023-07-29T02:52:58.994895Z",
     "iopub.status.busy": "2023-07-29T02:52:58.994453Z",
     "iopub.status.idle": "2023-07-29T02:52:59.363378Z",
     "shell.execute_reply": "2023-07-29T02:52:59.362307Z",
     "shell.execute_reply.started": "2023-07-29T02:52:58.994866Z"
    },
    "tags": []
   },
   "outputs": [
    {
     "name": "stdout",
     "output_type": "stream",
     "text": [
      " 0   0  diaSourceId                    long                -9.2233E+18           9.2234E+18\n",
      " 1   0  eclipticBeta                   double              -5.6310E+01           4.0350E+01\n",
      " 2   0  eclipticLambda                 double               9.4427E-03           3.5999E+02\n",
      " 3   0  galacticB                      double              -8.9138E+01           8.3551E+01\n",
      " 4   0  galacticL                      double               2.8331E-04           3.6000E+02\n",
      " 5   0  heliocentricDist               float                9.8169E-01           6.1776E+01\n",
      " 6   0  heliocentricVX                 float               -1.8945E-02           1.8605E-02\n",
      " 7   0  heliocentricVY                 float               -1.3782E-02           1.5872E-02\n",
      " 8   0  heliocentricVZ                 float               -9.8119E-03           1.0604E-02\n",
      " 9   0  heliocentricX                  float               -3.9302E+01           4.1593E+01\n",
      "10   0  heliocentricY                  float               -2.9044E+01           5.3265E+01\n",
      "11   0  heliocentricZ                  float               -1.5287E+01           2.4375E+01\n",
      "12   1  mpcUniqueId                    long                 0.0000E+00           0.0000E+00\n",
      "13   0  phaseAngle                     float                2.5555E-02           1.0026E+02\n",
      "14   1  predictedDecErr                float                       NAN                  NAN\n",
      "15   1  predictedMagnitude             float                       NAN                  NAN\n",
      "16   1  predictedMagnitudeErr          float                       NAN                  NAN\n",
      "17   1  predictedRaDecCov              float                       NAN                  NAN\n",
      "18   1  predictedRaErr                 float                       NAN                  NAN\n",
      "19   1  residualDec                    double                      NAN                  NAN\n",
      "20   1  residualRa                     double                      NAN                  NAN\n",
      "21   0  ssObjectId                     long                 9.2188E+18           9.2234E+18\n",
      "22   0  topocentricDist                float                4.5017E-02           6.1388E+01\n",
      "23   0  topocentricVX                  float               -2.5535E-02           2.5853E-02\n",
      "24   0  topocentricVY                  float               -2.3225E-02           2.4701E-02\n",
      "25   0  topocentricVZ                  float               -1.4481E-02           1.5050E-02\n",
      "26   0  topocentricX                   float               -3.8925E+01           4.2272E+01\n",
      "27   0  topocentricY                   float               -2.9578E+01           5.3308E+01\n",
      "28   0  topocentricZ                   float               -1.5534E+01           2.4407E+01\n"
     ]
    },
    {
     "name": "stderr",
     "output_type": "stream",
     "text": [
      "/tmp/ipykernel_11427/984848404.py:9: RuntimeWarning: overflow encountered in long_scalars\n",
      "  if ((nanmin == 0.0) | (nanmax == 0.0)) & (nanmax - nanmin == 0.0):\n",
      "/tmp/ipykernel_11427/984848404.py:4: RuntimeWarning: All-NaN axis encountered\n",
      "  nanmin = np.nanmin(results[col])\n",
      "/tmp/ipykernel_11427/984848404.py:5: RuntimeWarning: All-NaN axis encountered\n",
      "  nanmax = np.nanmax(results[col])\n",
      "/tmp/ipykernel_11427/984848404.py:12: RuntimeWarning: All-NaN axis encountered\n",
      "  np.nanmin(results[col]),\n",
      "/tmp/ipykernel_11427/984848404.py:13: RuntimeWarning: All-NaN axis encountered\n",
      "  np.nanmax(results[col])))\n"
     ]
    }
   ],
   "source": [
    "flag = np.zeros(len(colnames), dtype='int')\n",
    "for i, (col, dtype) in enumerate(zip(colnames, datatypes)):\n",
    "    if dtype != 'char':\n",
    "        nanmin = np.nanmin(results[col])\n",
    "        nanmax = np.nanmax(results[col])\n",
    "        if np.isnan(nanmin) & np.isnan(nanmax):\n",
    "            flag[i] = 1\n",
    "        elif np.isfinite(nanmin) & np.isfinite(nanmax):\n",
    "            if ((nanmin == 0.0) | (nanmax == 0.0)) & (nanmax - nanmin == 0.0):\n",
    "                flag[i] = 1\n",
    "        print('%2i  %2i  %-30s %-10s %20.4E %20.4E' % (i, flag[i], col, dtype, \n",
    "                                                       np.nanmin(results[col]), \n",
    "                                                       np.nanmax(results[col])))\n",
    "    else:\n",
    "        uvals = np.unique(results[col])\n",
    "        if uvals[0] == '':\n",
    "            flag[i] = 1\n",
    "        print('%2i  %2i  %-30s %-10s %20s %20s' % (i, flag[i], col, dtype, uvals[0], uvals[-1]))"
   ]
  },
  {
   "cell_type": "markdown",
   "id": "261b0d16-e4d8-453b-85c6-d431e2098fb7",
   "metadata": {},
   "source": [
    "### List of empty columns"
   ]
  },
  {
   "cell_type": "code",
   "execution_count": 68,
   "id": "2a5a2321-87ff-42bc-a9ca-0a331d087dcc",
   "metadata": {
    "execution": {
     "iopub.execute_input": "2023-07-29T02:53:07.436034Z",
     "iopub.status.busy": "2023-07-29T02:53:07.435000Z",
     "iopub.status.idle": "2023-07-29T02:53:07.440564Z",
     "shell.execute_reply": "2023-07-29T02:53:07.439770Z",
     "shell.execute_reply.started": "2023-07-29T02:53:07.435991Z"
    },
    "tags": []
   },
   "outputs": [
    {
     "name": "stdout",
     "output_type": "stream",
     "text": [
      "mpcUniqueId\n",
      "predictedDecErr\n",
      "predictedMagnitude\n",
      "predictedMagnitudeErr\n",
      "predictedRaDecCov\n",
      "predictedRaErr\n",
      "residualDec\n",
      "residualRa\n"
     ]
    }
   ],
   "source": [
    "tx = np.where(flag == 1)[0]\n",
    "for x in tx:\n",
    "    print(colnames[x])"
   ]
  },
  {
   "cell_type": "code",
   "execution_count": 69,
   "id": "029cdbc1-d34b-434a-88af-4180acb4e03c",
   "metadata": {
    "execution": {
     "iopub.execute_input": "2023-07-29T02:53:07.812518Z",
     "iopub.status.busy": "2023-07-29T02:53:07.811497Z",
     "iopub.status.idle": "2023-07-29T02:53:07.816305Z",
     "shell.execute_reply": "2023-07-29T02:53:07.815456Z",
     "shell.execute_reply.started": "2023-07-29T02:53:07.812481Z"
    },
    "tags": []
   },
   "outputs": [],
   "source": [
    "del results, flag"
   ]
  },
  {
   "cell_type": "code",
   "execution_count": null,
   "id": "da8c0e7f-ded5-455e-8d3b-c2b58731226d",
   "metadata": {},
   "outputs": [],
   "source": []
  }
 ],
 "metadata": {
  "kernelspec": {
   "display_name": "LSST",
   "language": "python",
   "name": "lsst"
  },
  "language_info": {
   "codemirror_mode": {
    "name": "ipython",
    "version": 3
   },
   "file_extension": ".py",
   "mimetype": "text/x-python",
   "name": "python",
   "nbconvert_exporter": "python",
   "pygments_lexer": "ipython3",
   "version": "3.10.10"
  }
 },
 "nbformat": 4,
 "nbformat_minor": 5
}
