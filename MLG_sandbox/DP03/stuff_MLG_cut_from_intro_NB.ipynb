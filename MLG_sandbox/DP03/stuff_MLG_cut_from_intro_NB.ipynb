{
 "cells": [
  {
   "cell_type": "markdown",
   "id": "5166a782-fd19-4b31-8c80-e39b404a2e24",
   "metadata": {},
   "source": [
    "<img align=\"left\" src = https://project.lsst.org/sites/default/files/Rubin-O-Logo_0.png width=250 style=\"padding: 10px\"> \n",
    "<br><b>Introduction to DP0.3 -- Part 2?</b> <br>\n",
    "Contact author(s): Bob Abel and Douglas Tucker<br>\n",
    "Last verified to run: 2023-07-09 <br>\n",
    "LSST Science Piplines version: Weekly 2023_21 <br>\n",
    "Container size: medium <br>\n",
    "Targeted learning level: beginner <br>"
   ]
  },
  {
   "cell_type": "markdown",
   "id": "eff469eb-c5ca-45bd-b5bb-bcacd9d2ef3a",
   "metadata": {},
   "source": [
    "## 1. Albedo and diameters\n",
    "\n",
    "TBD. Reference the first one."
   ]
  },
  {
   "cell_type": "markdown",
   "id": "165d418a-2b92-477e-a9db-f1e498fa1ab1",
   "metadata": {},
   "source": [
    "### 1.1 Package Imports\n",
    "\n",
    "Import general python packages and the Rubin TAP service utilities."
   ]
  },
  {
   "cell_type": "code",
   "execution_count": null,
   "id": "c2912e87-6195-4d33-8d8d-59758a5f60cf",
   "metadata": {},
   "outputs": [],
   "source": [
    "import numpy as np\n",
    "import matplotlib.pyplot as plt\n",
    "from matplotlib import colormaps\n",
    "from matplotlib.patches import Rectangle\n",
    "import pandas as pd\n",
    "\n",
    "from lsst.rsp import get_tap_service, retrieve_query"
   ]
  },
  {
   "cell_type": "markdown",
   "id": "294d7517-4406-4872-b2db-6dec94205cde",
   "metadata": {
    "tags": []
   },
   "source": [
    "### 1.2 Define Functions and Parameters"
   ]
  },
  {
   "cell_type": "markdown",
   "id": "e4bf1013-5292-4a87-adfb-3200426d739f",
   "metadata": {},
   "source": [
    "Here, we define a function, `estDistFromHandAlbedo`, which estimates the diameter (in km) of an solar system object based on its solar system absolute magnitude, `H`, and its geometric albedo, `a`.  It assumes a spherical body and is just a rough estimate.  We will use it later.\n",
    "\n",
    "We obtained this function from https://cneos.jpl.nasa.gov/tools/ast_size_est.html, where the diameter is estimated using the equation `estDiam` = $10^{[3.1236 - 0.5log_{10}a - 0.2H]}$."
   ]
  },
  {
   "cell_type": "code",
   "execution_count": null,
   "id": "5d1c754d-e2d8-4355-a023-a94fa7cee27b",
   "metadata": {
    "tags": []
   },
   "outputs": [],
   "source": [
    "def estDiamFromHandAlbedo(H, a=0.15):\n",
    "    import numpy as np\n",
    "    estDiam = np.power(10., 3.1236 - 0.5*np.log10(a) - 0.2*H)\n",
    "    return estDiam"
   ]
  },
  {
   "cell_type": "code",
   "execution_count": null,
   "id": "4138b330-03e4-4d8b-b0bf-93a48172622d",
   "metadata": {},
   "outputs": [],
   "source": []
  },
  {
   "cell_type": "code",
   "execution_count": null,
   "id": "582f39e5-22e2-4b95-acaf-86e3c4a40ca1",
   "metadata": {},
   "outputs": [],
   "source": []
  },
  {
   "cell_type": "markdown",
   "id": "b6edb11a-c11b-4cbe-9bd2-c19423264a3f",
   "metadata": {},
   "source": [
    "Now let's estimate the diameters of these solar system objects.  We can do this by making use of the solar system absolute magnitudes, or `H` magnitudes, for these objects, by making a reasonable assumption for their geometric albedos, `a`, and by employing the function `estDiamFromHandAlbedo` we defined in Section 1.2 above.  The estimated diameters are in kilometers.\n",
    "\n",
    "The `MPCORB` table does not include estimated geometric albedos; so we will make the and we will assume an albedo of `a`=0.15, which is not atypical for, say, an S-class asteroid.  Based on the table provided at https://cneos.jpl.nasa.gov/tools/ast_size_est.html, this does not appear to be a particularly bad assumption, and it appears unlikely that the diameter estimate for any particular object would be much more than a factor or 2-3 off (and, on average, much closer to the truth).\n",
    "\n",
    "(_Recall that, for solar system objects, absolute magnitudes are defined to be for an object 1 A.U. from the Sun and 1 A.U. from the observer, and at a phase angle (the angle Sun-object-Earth) of 0 degrees._)"
   ]
  },
  {
   "cell_type": "code",
   "execution_count": null,
   "id": "31d4ed23-85db-46c8-9154-76317ad62df0",
   "metadata": {
    "tags": []
   },
   "outputs": [],
   "source": [
    "df['estDiam'] = estDiamFromHandAlbedo(df['mpcH'])"
   ]
  },
  {
   "cell_type": "markdown",
   "id": "642f8846-4341-4745-aaf6-672571d3de8a",
   "metadata": {},
   "source": [
    "And let's look at the overall distribution of estimated diameters."
   ]
  },
  {
   "cell_type": "code",
   "execution_count": null,
   "id": "e6ff511b-ddbc-41ac-a787-a8bd3b11345e",
   "metadata": {
    "tags": []
   },
   "outputs": [],
   "source": [
    "df['estDiam'].describe()"
   ]
  },
  {
   "cell_type": "markdown",
   "id": "903139d0-8242-4f5a-a820-3199268c9a44",
   "metadata": {
    "execution": {
     "iopub.execute_input": "2023-07-10T00:57:58.448698Z",
     "iopub.status.busy": "2023-07-10T00:57:58.447895Z",
     "iopub.status.idle": "2023-07-10T00:57:58.681968Z",
     "shell.execute_reply": "2023-07-10T00:57:58.680755Z",
     "shell.execute_reply.started": "2023-07-10T00:57:58.448670Z"
    },
    "tags": []
   },
   "source": [
    "And plot the whole histogram:"
   ]
  },
  {
   "cell_type": "code",
   "execution_count": null,
   "id": "ce3c5e15-d0c5-4baa-a91d-6ffd748772be",
   "metadata": {
    "tags": []
   },
   "outputs": [],
   "source": [
    "plt.hist(np.log10(df['estDiam']), bins=100)\n",
    "plt.xlabel('log10(Estimated Diameter [km])')\n",
    "plt.grid(True)\n",
    "plt.title('Histogram of Estimated Asteroid Diameters')"
   ]
  },
  {
   "cell_type": "markdown",
   "id": "e0aa8af6-c25f-4b89-af64-243e97708b65",
   "metadata": {},
   "source": [
    "Note the peak in the distribution is in the 0.1-0.3 km range, but that there is a much smaller, secondary peak near 100 km."
   ]
  },
  {
   "cell_type": "markdown",
   "id": "bdfed233-c459-4723-b057-137a5d5a34ac",
   "metadata": {},
   "source": [
    "## Plot inclincation vs eccentricity\n",
    "\n",
    "Now, before moving on, let us plot the sine of the inclination (sin(i)) and the eccentricity of the objects as a function of their semi-major axis.  We note that the sin(i) plot compares well with [Figure 5.5 in the LSST Science Book](https://www.lsst.org/sites/default/files/docs/sciencebook/SB_5.pdf)."
   ]
  },
  {
   "cell_type": "code",
   "execution_count": null,
   "id": "424151d7-8861-4d59-898c-590dfe3be8fe",
   "metadata": {
    "tags": []
   },
   "outputs": [],
   "source": [
    "df['semi'] = df['q']/(1. - df['e'])\n",
    "fig, ax = plt.subplots(1, 2, figsize=(10, 4))\n",
    "ax[0].scatter(df['semi'], np.sin(np.pi / 180. * df['incl']), alpha=0.1, s=1)\n",
    "ax[0].set_xlim(0, 6)\n",
    "ax[0].set_xlabel('Semi-Major Axis (AU)')\n",
    "ax[0].set_ylabel('sin(i)')\n",
    "ax[0].set_title('Asteroid Semi-Major Axis vs. Inclination')\n",
    "\n",
    "ax[1].scatter(df['semi'], df['e'], alpha=0.1, s=1)\n",
    "ax[1].set_xlim(0, 6)\n",
    "ax[1].set_xlabel('Semi-Major Axis (AU)')\n",
    "ax[1].set_ylabel('Eccentricity')\n",
    "ax[1].set_title('Asteroid Semi-Major Axis vs. Eccentricity')\n"
   ]
  },
  {
   "cell_type": "code",
   "execution_count": null,
   "id": "98952283-f637-4df8-b198-a44cb6e0e199",
   "metadata": {},
   "outputs": [],
   "source": []
  },
  {
   "cell_type": "markdown",
   "id": "4da7fe99-0080-467c-970c-28cf7dc74f83",
   "metadata": {},
   "source": [
    "## DiaSource truth RA/Dec"
   ]
  },
  {
   "cell_type": "code",
   "execution_count": 134,
   "id": "8316f316-8761-4116-9e99-b245827692b1",
   "metadata": {
    "execution": {
     "iopub.execute_input": "2023-07-10T23:28:04.737040Z",
     "iopub.status.busy": "2023-07-10T23:28:04.735851Z",
     "iopub.status.idle": "2023-07-10T23:28:44.181318Z",
     "shell.execute_reply": "2023-07-10T23:28:44.180297Z",
     "shell.execute_reply.started": "2023-07-10T23:28:04.737006Z"
    },
    "tags": []
   },
   "outputs": [
    {
     "data": {
      "text/html": [
       "<div>\n",
       "<style scoped>\n",
       "    .dataframe tbody tr th:only-of-type {\n",
       "        vertical-align: middle;\n",
       "    }\n",
       "\n",
       "    .dataframe tbody tr th {\n",
       "        vertical-align: top;\n",
       "    }\n",
       "\n",
       "    .dataframe thead th {\n",
       "        text-align: right;\n",
       "    }\n",
       "</style>\n",
       "<table border=\"1\" class=\"dataframe\">\n",
       "  <thead>\n",
       "    <tr style=\"text-align: right;\">\n",
       "      <th></th>\n",
       "      <th>_decTrue</th>\n",
       "      <th>_magTrue</th>\n",
       "      <th>_name</th>\n",
       "      <th>_raTrue</th>\n",
       "      <th>_V</th>\n",
       "      <th>ccdVisitId</th>\n",
       "      <th>decl</th>\n",
       "      <th>declSigma</th>\n",
       "      <th>diaObjectId</th>\n",
       "      <th>diaSourceId</th>\n",
       "      <th>filter</th>\n",
       "      <th>mag</th>\n",
       "      <th>magSigma</th>\n",
       "      <th>midPointTai</th>\n",
       "      <th>ra</th>\n",
       "      <th>ra_decl_Cov</th>\n",
       "      <th>raSigma</th>\n",
       "      <th>snr</th>\n",
       "      <th>ssObjectId</th>\n",
       "      <th>ssObjectReassocTime</th>\n",
       "    </tr>\n",
       "  </thead>\n",
       "  <tbody>\n",
       "    <tr>\n",
       "      <th>0</th>\n",
       "      <td>-24.225311</td>\n",
       "      <td>23.053452</td>\n",
       "      <td>S100sanTa</td>\n",
       "      <td>207.755563</td>\n",
       "      <td>23.308453</td>\n",
       "      <td>674480</td>\n",
       "      <td>-24.225271</td>\n",
       "      <td>0.000012</td>\n",
       "      <td>-9194409445772103316</td>\n",
       "      <td>-2331882174261098207</td>\n",
       "      <td>r</td>\n",
       "      <td>23.011091</td>\n",
       "      <td>0.105311</td>\n",
       "      <td>61410.336766</td>\n",
       "      <td>207.755559</td>\n",
       "      <td>0.0</td>\n",
       "      <td>0.000012</td>\n",
       "      <td>9.817913</td>\n",
       "      <td>9214148730396380762</td>\n",
       "      <td>61410.33676566108</td>\n",
       "    </tr>\n",
       "    <tr>\n",
       "      <th>1</th>\n",
       "      <td>-31.678294</td>\n",
       "      <td>23.319633</td>\n",
       "      <td>S100sanTa</td>\n",
       "      <td>220.752671</td>\n",
       "      <td>22.924633</td>\n",
       "      <td>698833</td>\n",
       "      <td>-31.678287</td>\n",
       "      <td>0.000004</td>\n",
       "      <td>-6256623948270999662</td>\n",
       "      <td>867347560563835451</td>\n",
       "      <td>g</td>\n",
       "      <td>23.202835</td>\n",
       "      <td>0.051420</td>\n",
       "      <td>61448.322456</td>\n",
       "      <td>220.752679</td>\n",
       "      <td>0.0</td>\n",
       "      <td>0.000004</td>\n",
       "      <td>20.618900</td>\n",
       "      <td>9214148730396380762</td>\n",
       "      <td>61448.32245558813</td>\n",
       "    </tr>\n",
       "    <tr>\n",
       "      <th>2</th>\n",
       "      <td>-35.464861</td>\n",
       "      <td>22.956850</td>\n",
       "      <td>S100sanTa</td>\n",
       "      <td>225.668462</td>\n",
       "      <td>22.561850</td>\n",
       "      <td>715404</td>\n",
       "      <td>-35.464856</td>\n",
       "      <td>0.000004</td>\n",
       "      <td>7731624285748347487</td>\n",
       "      <td>4057711316122120355</td>\n",
       "      <td>g</td>\n",
       "      <td>22.909597</td>\n",
       "      <td>0.043292</td>\n",
       "      <td>61472.302620</td>\n",
       "      <td>225.668472</td>\n",
       "      <td>0.0</td>\n",
       "      <td>0.000004</td>\n",
       "      <td>24.582699</td>\n",
       "      <td>9214148730396380762</td>\n",
       "      <td>61472.30261962077</td>\n",
       "    </tr>\n",
       "    <tr>\n",
       "      <th>3</th>\n",
       "      <td>-35.468458</td>\n",
       "      <td>22.306400</td>\n",
       "      <td>S100sanTa</td>\n",
       "      <td>225.671436</td>\n",
       "      <td>22.561399</td>\n",
       "      <td>715454</td>\n",
       "      <td>-35.468452</td>\n",
       "      <td>0.000004</td>\n",
       "      <td>-2233634430585881080</td>\n",
       "      <td>-4559935229320354350</td>\n",
       "      <td>r</td>\n",
       "      <td>22.361153</td>\n",
       "      <td>0.036251</td>\n",
       "      <td>61472.328547</td>\n",
       "      <td>225.671433</td>\n",
       "      <td>0.0</td>\n",
       "      <td>0.000004</td>\n",
       "      <td>29.453165</td>\n",
       "      <td>9214148730396380762</td>\n",
       "      <td>61472.32854716052</td>\n",
       "    </tr>\n",
       "    <tr>\n",
       "      <th>4</th>\n",
       "      <td>-36.946448</td>\n",
       "      <td>21.941467</td>\n",
       "      <td>S100sanTa</td>\n",
       "      <td>226.569719</td>\n",
       "      <td>22.347467</td>\n",
       "      <td>724652</td>\n",
       "      <td>-36.946441</td>\n",
       "      <td>0.000015</td>\n",
       "      <td>-2049956630163863401</td>\n",
       "      <td>-9077906755528548216</td>\n",
       "      <td>y</td>\n",
       "      <td>21.535053</td>\n",
       "      <td>0.155601</td>\n",
       "      <td>61484.286459</td>\n",
       "      <td>226.569734</td>\n",
       "      <td>0.0</td>\n",
       "      <td>0.000015</td>\n",
       "      <td>6.489630</td>\n",
       "      <td>9214148730396380762</td>\n",
       "      <td>61484.286458514434</td>\n",
       "    </tr>\n",
       "    <tr>\n",
       "      <th>...</th>\n",
       "      <td>...</td>\n",
       "      <td>...</td>\n",
       "      <td>...</td>\n",
       "      <td>...</td>\n",
       "      <td>...</td>\n",
       "      <td>...</td>\n",
       "      <td>...</td>\n",
       "      <td>...</td>\n",
       "      <td>...</td>\n",
       "      <td>...</td>\n",
       "      <td>...</td>\n",
       "      <td>...</td>\n",
       "      <td>...</td>\n",
       "      <td>...</td>\n",
       "      <td>...</td>\n",
       "      <td>...</td>\n",
       "      <td>...</td>\n",
       "      <td>...</td>\n",
       "      <td>...</td>\n",
       "      <td>...</td>\n",
       "    </tr>\n",
       "    <tr>\n",
       "      <th>514641</th>\n",
       "      <td>-34.652599</td>\n",
       "      <td>24.401119</td>\n",
       "      <td>S103XLFDa</td>\n",
       "      <td>307.722253</td>\n",
       "      <td>24.006119</td>\n",
       "      <td>1204168</td>\n",
       "      <td>-34.652585</td>\n",
       "      <td>0.000010</td>\n",
       "      <td>-1924715674319929053</td>\n",
       "      <td>-8857431520458120138</td>\n",
       "      <td>g</td>\n",
       "      <td>24.499786</td>\n",
       "      <td>0.128201</td>\n",
       "      <td>62332.289671</td>\n",
       "      <td>307.722266</td>\n",
       "      <td>0.0</td>\n",
       "      <td>0.000010</td>\n",
       "      <td>7.978828</td>\n",
       "      <td>9223370875126069107</td>\n",
       "      <td>62332.28967146229</td>\n",
       "    </tr>\n",
       "    <tr>\n",
       "      <th>514642</th>\n",
       "      <td>-34.655695</td>\n",
       "      <td>23.750782</td>\n",
       "      <td>S103XLFDa</td>\n",
       "      <td>307.718947</td>\n",
       "      <td>24.005781</td>\n",
       "      <td>1204218</td>\n",
       "      <td>-34.655698</td>\n",
       "      <td>0.000020</td>\n",
       "      <td>3318635922697265774</td>\n",
       "      <td>-4238294346999639404</td>\n",
       "      <td>r</td>\n",
       "      <td>23.661789</td>\n",
       "      <td>0.167787</td>\n",
       "      <td>62332.314235</td>\n",
       "      <td>307.718945</td>\n",
       "      <td>0.0</td>\n",
       "      <td>0.000020</td>\n",
       "      <td>5.983797</td>\n",
       "      <td>9223370875126069107</td>\n",
       "      <td>62332.314234522964</td>\n",
       "    </tr>\n",
       "    <tr>\n",
       "      <th>514643</th>\n",
       "      <td>-34.652541</td>\n",
       "      <td>24.401125</td>\n",
       "      <td>S103XLFDa</td>\n",
       "      <td>307.722315</td>\n",
       "      <td>24.006126</td>\n",
       "      <td>1204167</td>\n",
       "      <td>-34.652524</td>\n",
       "      <td>0.000010</td>\n",
       "      <td>-7997578408965141681</td>\n",
       "      <td>-8042164758176009436</td>\n",
       "      <td>g</td>\n",
       "      <td>24.408400</td>\n",
       "      <td>0.129775</td>\n",
       "      <td>62332.289214</td>\n",
       "      <td>307.722327</td>\n",
       "      <td>0.0</td>\n",
       "      <td>0.000010</td>\n",
       "      <td>7.876266</td>\n",
       "      <td>9223370875126069107</td>\n",
       "      <td>62332.28921414037</td>\n",
       "    </tr>\n",
       "    <tr>\n",
       "      <th>514644</th>\n",
       "      <td>-34.655637</td>\n",
       "      <td>23.750788</td>\n",
       "      <td>S103XLFDa</td>\n",
       "      <td>307.719008</td>\n",
       "      <td>24.005789</td>\n",
       "      <td>1204217</td>\n",
       "      <td>-34.655634</td>\n",
       "      <td>0.000021</td>\n",
       "      <td>2880493405153015000</td>\n",
       "      <td>-9191273500434976743</td>\n",
       "      <td>r</td>\n",
       "      <td>23.808342</td>\n",
       "      <td>0.170734</td>\n",
       "      <td>62332.313777</td>\n",
       "      <td>307.719012</td>\n",
       "      <td>0.0</td>\n",
       "      <td>0.000021</td>\n",
       "      <td>5.872323</td>\n",
       "      <td>9223370875126069107</td>\n",
       "      <td>62332.313777201045</td>\n",
       "    </tr>\n",
       "    <tr>\n",
       "      <th>514645</th>\n",
       "      <td>-36.049106</td>\n",
       "      <td>24.114136</td>\n",
       "      <td>S103XLFDa</td>\n",
       "      <td>304.300188</td>\n",
       "      <td>24.369135</td>\n",
       "      <td>1218739</td>\n",
       "      <td>-36.049096</td>\n",
       "      <td>0.000016</td>\n",
       "      <td>-5529956504950886001</td>\n",
       "      <td>-5033772860686032613</td>\n",
       "      <td>r</td>\n",
       "      <td>23.804064</td>\n",
       "      <td>0.173192</td>\n",
       "      <td>62360.243931</td>\n",
       "      <td>304.300127</td>\n",
       "      <td>0.0</td>\n",
       "      <td>0.000016</td>\n",
       "      <td>5.782279</td>\n",
       "      <td>9223370875126069107</td>\n",
       "      <td>62360.24393069297</td>\n",
       "    </tr>\n",
       "  </tbody>\n",
       "</table>\n",
       "<p>514646 rows × 20 columns</p>\n",
       "</div>"
      ],
      "text/plain": [
       "         _decTrue   _magTrue      _name     _raTrue         _V  ccdVisitId   \n",
       "0      -24.225311  23.053452  S100sanTa  207.755563  23.308453      674480  \\\n",
       "1      -31.678294  23.319633  S100sanTa  220.752671  22.924633      698833   \n",
       "2      -35.464861  22.956850  S100sanTa  225.668462  22.561850      715404   \n",
       "3      -35.468458  22.306400  S100sanTa  225.671436  22.561399      715454   \n",
       "4      -36.946448  21.941467  S100sanTa  226.569719  22.347467      724652   \n",
       "...           ...        ...        ...         ...        ...         ...   \n",
       "514641 -34.652599  24.401119  S103XLFDa  307.722253  24.006119     1204168   \n",
       "514642 -34.655695  23.750782  S103XLFDa  307.718947  24.005781     1204218   \n",
       "514643 -34.652541  24.401125  S103XLFDa  307.722315  24.006126     1204167   \n",
       "514644 -34.655637  23.750788  S103XLFDa  307.719008  24.005789     1204217   \n",
       "514645 -36.049106  24.114136  S103XLFDa  304.300188  24.369135     1218739   \n",
       "\n",
       "             decl  declSigma          diaObjectId          diaSourceId filter   \n",
       "0      -24.225271   0.000012 -9194409445772103316 -2331882174261098207      r  \\\n",
       "1      -31.678287   0.000004 -6256623948270999662   867347560563835451      g   \n",
       "2      -35.464856   0.000004  7731624285748347487  4057711316122120355      g   \n",
       "3      -35.468452   0.000004 -2233634430585881080 -4559935229320354350      r   \n",
       "4      -36.946441   0.000015 -2049956630163863401 -9077906755528548216      y   \n",
       "...           ...        ...                  ...                  ...    ...   \n",
       "514641 -34.652585   0.000010 -1924715674319929053 -8857431520458120138      g   \n",
       "514642 -34.655698   0.000020  3318635922697265774 -4238294346999639404      r   \n",
       "514643 -34.652524   0.000010 -7997578408965141681 -8042164758176009436      g   \n",
       "514644 -34.655634   0.000021  2880493405153015000 -9191273500434976743      r   \n",
       "514645 -36.049096   0.000016 -5529956504950886001 -5033772860686032613      r   \n",
       "\n",
       "              mag  magSigma   midPointTai          ra  ra_decl_Cov   raSigma   \n",
       "0       23.011091  0.105311  61410.336766  207.755559          0.0  0.000012  \\\n",
       "1       23.202835  0.051420  61448.322456  220.752679          0.0  0.000004   \n",
       "2       22.909597  0.043292  61472.302620  225.668472          0.0  0.000004   \n",
       "3       22.361153  0.036251  61472.328547  225.671433          0.0  0.000004   \n",
       "4       21.535053  0.155601  61484.286459  226.569734          0.0  0.000015   \n",
       "...           ...       ...           ...         ...          ...       ...   \n",
       "514641  24.499786  0.128201  62332.289671  307.722266          0.0  0.000010   \n",
       "514642  23.661789  0.167787  62332.314235  307.718945          0.0  0.000020   \n",
       "514643  24.408400  0.129775  62332.289214  307.722327          0.0  0.000010   \n",
       "514644  23.808342  0.170734  62332.313777  307.719012          0.0  0.000021   \n",
       "514645  23.804064  0.173192  62360.243931  304.300127          0.0  0.000016   \n",
       "\n",
       "              snr           ssObjectId ssObjectReassocTime  \n",
       "0        9.817913  9214148730396380762   61410.33676566108  \n",
       "1       20.618900  9214148730396380762   61448.32245558813  \n",
       "2       24.582699  9214148730396380762   61472.30261962077  \n",
       "3       29.453165  9214148730396380762   61472.32854716052  \n",
       "4        6.489630  9214148730396380762  61484.286458514434  \n",
       "...           ...                  ...                 ...  \n",
       "514641   7.978828  9223370875126069107   62332.28967146229  \n",
       "514642   5.983797  9223370875126069107  62332.314234522964  \n",
       "514643   7.876266  9223370875126069107   62332.28921414037  \n",
       "514644   5.872323  9223370875126069107  62332.313777201045  \n",
       "514645   5.782279  9223370875126069107   62360.24393069297  \n",
       "\n",
       "[514646 rows x 20 columns]"
      ]
     },
     "execution_count": 134,
     "metadata": {},
     "output_type": "execute_result"
    }
   ],
   "source": [
    "query = \"\"\"SELECT *\n",
    "           FROM dp03_catalogs.DiaSource\n",
    "           WHERE ssObjectId\n",
    "           BETWEEN 9214147504250943488 AND 9223370875126069107\"\"\"\n",
    "\n",
    "df = service.search(query).to_table().to_pandas()\n",
    "df"
   ]
  },
  {
   "cell_type": "markdown",
   "id": "7be06e18-eb5a-4972-a5c6-f272da2567bd",
   "metadata": {},
   "source": [
    "As before, let us first look at the column information in this table."
   ]
  },
  {
   "cell_type": "code",
   "execution_count": null,
   "id": "0101156f-c56d-45c9-8501-3e15fbdb537c",
   "metadata": {
    "tags": []
   },
   "outputs": [],
   "source": [
    "df.info()"
   ]
  },
  {
   "cell_type": "markdown",
   "id": "d537c1a7-9fb8-47f3-be1a-633c22430add",
   "metadata": {},
   "source": [
    "Also as before, let us output some basic population distribution information for the numerical columns in this pandas data frame."
   ]
  },
  {
   "cell_type": "code",
   "execution_count": null,
   "id": "e07e4f59-0b4a-496a-b5b6-d739791709ef",
   "metadata": {
    "tags": []
   },
   "outputs": [],
   "source": [
    "df.describe()"
   ]
  },
  {
   "cell_type": "markdown",
   "id": "1dc83d04-588d-4946-a2a3-adddc1310a9d",
   "metadata": {},
   "source": [
    "It seems like the true values of RA, Dec and mag nearly agree with the observed values, but the observed values have some regular, Gaussian-like error distribution added.  Let's plot the offsets."
   ]
  },
  {
   "cell_type": "code",
   "execution_count": 135,
   "id": "1cb7863b-10a9-4d7e-81a9-f419d756110c",
   "metadata": {
    "execution": {
     "iopub.execute_input": "2023-07-10T23:28:44.201952Z",
     "iopub.status.busy": "2023-07-10T23:28:44.201656Z",
     "iopub.status.idle": "2023-07-10T23:28:45.605884Z",
     "shell.execute_reply": "2023-07-10T23:28:45.605195Z",
     "shell.execute_reply.started": "2023-07-10T23:28:44.201931Z"
    },
    "tags": []
   },
   "outputs": [
    {
     "data": {
      "image/png": "[encoded data removed]",
      "text/plain": [
       "<Figure size 1400x400 with 3 Axes>"
      ]
     },
     "metadata": {},
     "output_type": "display_data"
    }
   ],
   "source": [
    "fig, ax = plt.subplots(1, 3, figsize=(14, 4))\n",
    "fig.tight_layout(pad=5.0)\n",
    "fig.suptitle('\"Observed - Truth\" for RA, DEC, and mag')\n",
    "\n",
    "ax[0].hist(3600.*(df['ra']-df['_raTrue']), bins=100)\n",
    "ax[0].set_xlabel('ra - _raTrue [arcsec]')\n",
    "ax[0].set_ylabel('Number')\n",
    "ax[0].grid(True)\n",
    "\n",
    "ax[1].hist(3600.*(df['decl']-df['_decTrue']), bins=100)\n",
    "ax[1].set_xlabel('dec- _ decTrue [arcsec]')\n",
    "ax[1].set_ylabel('Number')\n",
    "ax[1].grid(True)\n",
    "\n",
    "ax[2].hist(df['mag']-df['_magTrue'], bins=100)\n",
    "ax[2].set_xlabel('mag - _magTrue [mag]')\n",
    "ax[2].set_ylabel('Number')\n",
    "ax[2].grid(True)"
   ]
  },
  {
   "cell_type": "markdown",
   "id": "53e5926b-2139-44ab-b16b-e09dce62cae1",
   "metadata": {
    "execution": {
     "iopub.execute_input": "2023-07-03T04:49:47.616198Z",
     "iopub.status.busy": "2023-07-03T04:49:47.615028Z",
     "iopub.status.idle": "2023-07-03T04:49:47.622354Z",
     "shell.execute_reply": "2023-07-03T04:49:47.621167Z",
     "shell.execute_reply.started": "2023-07-03T04:49:47.616147Z"
    },
    "tags": []
   },
   "source": [
    "## DiaSource heatmap\n",
    "\n",
    "Now let us plot the asteroid distribution as a function of RA and DEC, adding a red rectangle that shows the rough location of the **DP0.2** data set.   Note that there is a small but non-negligible sky overlap with DP0.2. We leave it to the reader to see if the DP0.3 dates of observation also overlap with those from DP0.2."
   ]
  },
  {
   "cell_type": "code",
   "execution_count": null,
   "id": "01bf1fc4-dcdd-489a-abe9-6243fa0f6c0b",
   "metadata": {
    "tags": []
   },
   "outputs": [],
   "source": [
    "fig = plt.figure()\n",
    "ax = fig.add_subplot(111)\n",
    "ax.hist2d(df['ra'], df['decl'], bins=100, norm='log')\n",
    "plt.xlabel('ra (deg)')\n",
    "plt.ylabel('declination (deg)')\n",
    "plt.title('ra vs. dec')\n",
    "ax.add_patch(Rectangle((50, -44), 25, 18,\n",
    "                       edgecolor='red',\n",
    "                       fill=False,\n",
    "                       lw=2))\n",
    "ax.annotate(\n",
    "    'DP0.2',\n",
    "    xy=(52, -37), xycoords='data',\n",
    "    xytext=(0, 0), textcoords='offset points',\n",
    "    color='red', size=8.0)\n",
    "\n",
    "ax.grid()"
   ]
  },
  {
   "cell_type": "markdown",
   "id": "5db13683-33bc-4f8e-ad00-fdcb40b2ac17",
   "metadata": {},
   "source": [
    "Recall this plot is derived from the `DiaSource` table, and the RA,DEC coordinates change over time for each DiaSource.  Thus, coherent features seen in the above plot are due to observing strategy and not to unchanging positions of the DiaSources themselves.  For  instance, the two dense (yellow-green) squares near RA,DEC=(40,-5) and (150,+2) are due to two Deep Drilling Fields in the DP0.3 data -- i.e., fields observed much more than other fields nearby."
   ]
  },
  {
   "cell_type": "markdown",
   "id": "f11d60a8-7a66-4c20-a113-c5e6e03d1a58",
   "metadata": {},
   "source": [
    "## DiaSource lightcurve\n",
    "\n",
    "We can also plot this object's observed apparent magnitude vs. time (mid-point TAI, in days).  It appears to have a ~500 day periodicity, plus longer periods probably related to the fact that the the asteroid and our telescope are in different orbits."
   ]
  },
  {
   "cell_type": "code",
   "execution_count": null,
   "id": "a2440efb-4b5e-4de4-bceb-81c7992e038a",
   "metadata": {
    "tags": []
   },
   "outputs": [],
   "source": [
    "plt.scatter(df['midPointTai'], df['mag'])\n",
    "plt.gca().invert_yaxis()\n",
    "plt.xlabel('midPoint TAI (days)')\n",
    "plt.ylabel('Magnitude')\n",
    "plt.title(\"\"\"ssObjectId 6793512588511170680:\n",
    "             Magnitude vs. midPoint TAI\"\"\")\n",
    "plt.grid(True)"
   ]
  }
 ],
 "metadata": {
  "kernelspec": {
   "display_name": "LSST",
   "language": "python",
   "name": "lsst"
  },
  "language_info": {
   "codemirror_mode": {
    "name": "ipython",
    "version": 3
   },
   "file_extension": ".py",
   "mimetype": "text/x-python",
   "name": "python",
   "nbconvert_exporter": "python",
   "pygments_lexer": "ipython3",
   "version": "3.10.10"
  }
 },
 "nbformat": 4,
 "nbformat_minor": 5
}
