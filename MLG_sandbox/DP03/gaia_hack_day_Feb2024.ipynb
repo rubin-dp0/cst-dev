{
 "cells": [
  {
   "cell_type": "markdown",
   "id": "f15d982e-fa51-4c44-b646-287fe4807c2b",
   "metadata": {},
   "source": [
    "# Gaia data for DP0.3 asteroids\n",
    "\n",
    "By Melissa & Jake\n",
    "\n",
    "From the Gaia Sprint Day, Feb 2024\n",
    "\n",
    "Weekly 2024_04\n",
    "\n",
    "## Import packages and establish TAP connections"
   ]
  },
  {
   "cell_type": "code",
   "execution_count": 30,
   "id": "4b842708-7bfb-498d-96a1-3a1c7624530b",
   "metadata": {
    "execution": {
     "iopub.execute_input": "2024-02-24T18:14:53.832252Z",
     "iopub.status.busy": "2024-02-24T18:14:53.831382Z",
     "iopub.status.idle": "2024-02-24T18:14:54.199756Z",
     "shell.execute_reply": "2024-02-24T18:14:54.199142Z",
     "shell.execute_reply.started": "2024-02-24T18:14:53.832227Z"
    }
   },
   "outputs": [],
   "source": [
    "import numpy as np\n",
    "import matplotlib.pyplot as plt\n",
    "import pyvo\n",
    "from lsst.rsp import get_tap_service"
   ]
  },
  {
   "cell_type": "code",
   "execution_count": 2,
   "id": "e8e43ae5-6290-449a-8c2a-012743da0fc8",
   "metadata": {
    "execution": {
     "iopub.execute_input": "2024-02-24T17:57:01.315721Z",
     "iopub.status.busy": "2024-02-24T17:57:01.314972Z",
     "iopub.status.idle": "2024-02-24T17:57:01.319078Z",
     "shell.execute_reply": "2024-02-24T17:57:01.318481Z",
     "shell.execute_reply.started": "2024-02-24T17:57:01.315695Z"
    }
   },
   "outputs": [],
   "source": [
    "gaia_tap_url = 'https://gea.esac.esa.int/tap-server/tap'\n",
    "gaia_tap = pyvo.dal.TAPService(gaia_tap_url)\n",
    "assert gaia_tap is not None\n",
    "assert gaia_tap.baseurl == gaia_tap_url"
   ]
  },
  {
   "cell_type": "code",
   "execution_count": 3,
   "id": "98e64574-277b-4939-ae02-952989db5ec8",
   "metadata": {
    "execution": {
     "iopub.execute_input": "2024-02-24T17:57:03.252766Z",
     "iopub.status.busy": "2024-02-24T17:57:03.252126Z",
     "iopub.status.idle": "2024-02-24T17:57:03.334928Z",
     "shell.execute_reply": "2024-02-24T17:57:03.334349Z",
     "shell.execute_reply.started": "2024-02-24T17:57:03.252738Z"
    }
   },
   "outputs": [],
   "source": [
    "lsst_tap = get_tap_service(\"ssotap\")\n",
    "assert lsst_tap is not None"
   ]
  },
  {
   "cell_type": "markdown",
   "id": "9224dbbb-bc14-49ff-b876-a8ac5fc98fdb",
   "metadata": {},
   "source": [
    "## Access Gaia data\n",
    "\n",
    "### Explore what is available"
   ]
  },
  {
   "cell_type": "code",
   "execution_count": 21,
   "id": "415e0327-d864-449c-8dc1-55c5fc9e0227",
   "metadata": {
    "execution": {
     "iopub.execute_input": "2024-02-24T18:06:54.268996Z",
     "iopub.status.busy": "2024-02-24T18:06:54.268232Z",
     "iopub.status.idle": "2024-02-24T18:06:54.271374Z",
     "shell.execute_reply": "2024-02-24T18:06:54.270865Z",
     "shell.execute_reply.started": "2024-02-24T18:06:54.268970Z"
    }
   },
   "outputs": [],
   "source": [
    "# query = \"SELECT * FROM tap_schema.schemas\"\n",
    "# results = gaia_tap.run_sync(query).to_table()\n",
    "# results"
   ]
  },
  {
   "cell_type": "markdown",
   "id": "cdad0aeb-0756-4e63-beea-3bde3ccff5ac",
   "metadata": {},
   "source": [
    "Below, tried to explore gaiadr3 to see which tables are available but\n",
    "the `schema_name` is type object and I can't figure out how\n",
    "to make this query work. This is how it was done in DP03_02 NB.\n",
    "\n",
    "Used the Portal instead to explore TAP tables."
   ]
  },
  {
   "cell_type": "code",
   "execution_count": 22,
   "id": "9f4f744a-c873-4e61-993d-dd24fcdf92db",
   "metadata": {
    "execution": {
     "iopub.execute_input": "2024-02-24T18:08:03.274707Z",
     "iopub.status.busy": "2024-02-24T18:08:03.274008Z",
     "iopub.status.idle": "2024-02-24T18:08:03.277538Z",
     "shell.execute_reply": "2024-02-24T18:08:03.276926Z",
     "shell.execute_reply.started": "2024-02-24T18:08:03.274681Z"
    }
   },
   "outputs": [],
   "source": [
    "# query = \"SELECT * FROM tap_schema.tables \" \\\n",
    "#         \"WHERE tap_schema.tables.schema_name = 'gaiadr3'\"\n",
    "# results = gaia_tap.search(query).to_table()\n",
    "# results"
   ]
  },
  {
   "cell_type": "markdown",
   "id": "9e2f2fd7-93d8-458b-99df-526d95dd04ed",
   "metadata": {},
   "source": [
    "Get 10000 solar system objects."
   ]
  },
  {
   "cell_type": "code",
   "execution_count": 23,
   "id": "f382d331-69ef-4118-a202-14047c0e283f",
   "metadata": {
    "execution": {
     "iopub.execute_input": "2024-02-24T18:11:46.856529Z",
     "iopub.status.busy": "2024-02-24T18:11:46.855704Z",
     "iopub.status.idle": "2024-02-24T18:11:48.004271Z",
     "shell.execute_reply": "2024-02-24T18:11:48.003434Z",
     "shell.execute_reply.started": "2024-02-24T18:11:46.856502Z"
    }
   },
   "outputs": [],
   "source": [
    "query = \"SELECT TOP 10000 denomination, num_observations FROM gaiadr3.sso_orbits\"\n",
    "pd_gaia = gaia_tap.search(query).to_table().to_pandas()"
   ]
  },
  {
   "cell_type": "markdown",
   "id": "0fe92da7-9784-40fe-8043-47aca3df6186",
   "metadata": {},
   "source": [
    "After some exploring in the portal, figured out that `denomination` is\n",
    "the MPC designation. \n",
    "\n",
    "The standard format for MPC designation is the year, then a space,\n",
    "and then an identifier that is several characters, captial letters and numbers.\n",
    "\n",
    "Some Gaia tables use underscores instead of spaces and/or lower-case letters\n",
    "instead of capital letters. \n",
    "\n",
    "Define:\n",
    " * `mpc_desig1` : spaces and capital letters\n",
    " * `mpc_desig2` : spaces and lower-case letters"
   ]
  },
  {
   "cell_type": "code",
   "execution_count": 24,
   "id": "1c120a71-f9db-4415-b3ec-9b609b7b9944",
   "metadata": {
    "execution": {
     "iopub.execute_input": "2024-02-24T18:11:50.142610Z",
     "iopub.status.busy": "2024-02-24T18:11:50.141906Z",
     "iopub.status.idle": "2024-02-24T18:11:50.155738Z",
     "shell.execute_reply": "2024-02-24T18:11:50.155032Z",
     "shell.execute_reply.started": "2024-02-24T18:11:50.142566Z"
    }
   },
   "outputs": [],
   "source": [
    "pd_gaia['mpc_desig1'] = pd_gaia['denomination'].str.replace('_', ' ').str.upper()\n",
    "pd_gaia['mpc_desig2'] = pd_gaia['denomination'].str.replace('_', ' ')"
   ]
  },
  {
   "cell_type": "code",
   "execution_count": 25,
   "id": "fcc4f2de-3c58-4030-89b1-3b1f302a2bde",
   "metadata": {
    "execution": {
     "iopub.execute_input": "2024-02-24T18:11:51.082375Z",
     "iopub.status.busy": "2024-02-24T18:11:51.081554Z",
     "iopub.status.idle": "2024-02-24T18:11:51.094273Z",
     "shell.execute_reply": "2024-02-24T18:11:51.093725Z",
     "shell.execute_reply.started": "2024-02-24T18:11:51.082345Z"
    }
   },
   "outputs": [
    {
     "data": {
      "text/html": [
       "<div>\n",
       "<style scoped>\n",
       "    .dataframe tbody tr th:only-of-type {\n",
       "        vertical-align: middle;\n",
       "    }\n",
       "\n",
       "    .dataframe tbody tr th {\n",
       "        vertical-align: top;\n",
       "    }\n",
       "\n",
       "    .dataframe thead th {\n",
       "        text-align: right;\n",
       "    }\n",
       "</style>\n",
       "<table border=\"1\" class=\"dataframe\">\n",
       "  <thead>\n",
       "    <tr style=\"text-align: right;\">\n",
       "      <th></th>\n",
       "      <th>denomination</th>\n",
       "      <th>num_observations</th>\n",
       "      <th>mpc_desig1</th>\n",
       "      <th>mpc_desig2</th>\n",
       "    </tr>\n",
       "  </thead>\n",
       "  <tbody>\n",
       "    <tr>\n",
       "      <th>0</th>\n",
       "      <td>2001_sc288</td>\n",
       "      <td>149</td>\n",
       "      <td>2001 SC288</td>\n",
       "      <td>2001 sc288</td>\n",
       "    </tr>\n",
       "    <tr>\n",
       "      <th>1</th>\n",
       "      <td>haldane</td>\n",
       "      <td>75</td>\n",
       "      <td>HALDANE</td>\n",
       "      <td>haldane</td>\n",
       "    </tr>\n",
       "    <tr>\n",
       "      <th>2</th>\n",
       "      <td>2000_so179</td>\n",
       "      <td>213</td>\n",
       "      <td>2000 SO179</td>\n",
       "      <td>2000 so179</td>\n",
       "    </tr>\n",
       "    <tr>\n",
       "      <th>3</th>\n",
       "      <td>2000_uk45</td>\n",
       "      <td>69</td>\n",
       "      <td>2000 UK45</td>\n",
       "      <td>2000 uk45</td>\n",
       "    </tr>\n",
       "    <tr>\n",
       "      <th>4</th>\n",
       "      <td>spirit</td>\n",
       "      <td>199</td>\n",
       "      <td>SPIRIT</td>\n",
       "      <td>spirit</td>\n",
       "    </tr>\n",
       "    <tr>\n",
       "      <th>...</th>\n",
       "      <td>...</td>\n",
       "      <td>...</td>\n",
       "      <td>...</td>\n",
       "      <td>...</td>\n",
       "    </tr>\n",
       "    <tr>\n",
       "      <th>9995</th>\n",
       "      <td>2004_xe32</td>\n",
       "      <td>129</td>\n",
       "      <td>2004 XE32</td>\n",
       "      <td>2004 xe32</td>\n",
       "    </tr>\n",
       "    <tr>\n",
       "      <th>9996</th>\n",
       "      <td>2004_dz14</td>\n",
       "      <td>63</td>\n",
       "      <td>2004 DZ14</td>\n",
       "      <td>2004 dz14</td>\n",
       "    </tr>\n",
       "    <tr>\n",
       "      <th>9997</th>\n",
       "      <td>2001_bn33</td>\n",
       "      <td>85</td>\n",
       "      <td>2001 BN33</td>\n",
       "      <td>2001 bn33</td>\n",
       "    </tr>\n",
       "    <tr>\n",
       "      <th>9998</th>\n",
       "      <td>2005_us107</td>\n",
       "      <td>66</td>\n",
       "      <td>2005 US107</td>\n",
       "      <td>2005 us107</td>\n",
       "    </tr>\n",
       "    <tr>\n",
       "      <th>9999</th>\n",
       "      <td>1999_te259</td>\n",
       "      <td>184</td>\n",
       "      <td>1999 TE259</td>\n",
       "      <td>1999 te259</td>\n",
       "    </tr>\n",
       "  </tbody>\n",
       "</table>\n",
       "<p>10000 rows × 4 columns</p>\n",
       "</div>"
      ],
      "text/plain": [
       "     denomination  num_observations  mpc_desig1  mpc_desig2\n",
       "0      2001_sc288               149  2001 SC288  2001 sc288\n",
       "1         haldane                75     HALDANE     haldane\n",
       "2      2000_so179               213  2000 SO179  2000 so179\n",
       "3       2000_uk45                69   2000 UK45   2000 uk45\n",
       "4          spirit               199      SPIRIT      spirit\n",
       "...           ...               ...         ...         ...\n",
       "9995    2004_xe32               129   2004 XE32   2004 xe32\n",
       "9996    2004_dz14                63   2004 DZ14   2004 dz14\n",
       "9997    2001_bn33                85   2001 BN33   2001 bn33\n",
       "9998   2005_us107                66  2005 US107  2005 us107\n",
       "9999   1999_te259               184  1999 TE259  1999 te259\n",
       "\n",
       "[10000 rows x 4 columns]"
      ]
     },
     "execution_count": 25,
     "metadata": {},
     "output_type": "execute_result"
    }
   ],
   "source": [
    "pd_gaia"
   ]
  },
  {
   "cell_type": "markdown",
   "id": "d4edf37e-f377-4e50-8221-9742275edf15",
   "metadata": {},
   "source": [
    "## Access DP0.3 data\n",
    "\n",
    "Get 10000 ojbects that have at least 10 observations and an H magnitude\n",
    "less than 21 mag (bright).\n",
    "\n",
    "Bright objects are more likely to have been detected by Gaia."
   ]
  },
  {
   "cell_type": "code",
   "execution_count": 26,
   "id": "1f365b4d-8b05-4b0d-afdb-004287846d72",
   "metadata": {
    "execution": {
     "iopub.execute_input": "2024-02-24T18:14:03.226776Z",
     "iopub.status.busy": "2024-02-24T18:14:03.225921Z",
     "iopub.status.idle": "2024-02-24T18:14:05.989134Z",
     "shell.execute_reply": "2024-02-24T18:14:05.988519Z",
     "shell.execute_reply.started": "2024-02-24T18:14:03.226748Z"
    }
   },
   "outputs": [],
   "source": [
    "query = \"SELECT TOP 10000 mpc.mpcDesignation, mpc.mpcH, sso.numObs, sso.ssObjectId \"\\\n",
    "        \"FROM dp03_catalogs_10yr.MPCORB AS mpc \"\\\n",
    "        \"JOIN dp03_catalogs_10yr.SSObject AS sso \"\\\n",
    "        \"ON mpc.ssObjectId = sso.ssObjectId \"\\\n",
    "        \"WHERE sso.numObs > 10 AND mpc.mpcH < 21\"\n",
    "pd_lsst = lsst_tap.search(query).to_table().to_pandas()"
   ]
  },
  {
   "cell_type": "markdown",
   "id": "07c7b5f3-caf2-4e6f-902f-da998262e979",
   "metadata": {},
   "source": [
    "Also create `mpc_desig1` with all capital letters."
   ]
  },
  {
   "cell_type": "code",
   "execution_count": 27,
   "id": "4938ec62-9070-4511-86b7-99a864c45e8b",
   "metadata": {
    "execution": {
     "iopub.execute_input": "2024-02-24T18:14:06.018012Z",
     "iopub.status.busy": "2024-02-24T18:14:06.017739Z",
     "iopub.status.idle": "2024-02-24T18:14:06.023842Z",
     "shell.execute_reply": "2024-02-24T18:14:06.023356Z",
     "shell.execute_reply.started": "2024-02-24T18:14:06.017994Z"
    }
   },
   "outputs": [],
   "source": [
    "pd_lsst['mpc_desig1'] = pd_lsst['mpcDesignation'].str.upper()"
   ]
  },
  {
   "cell_type": "code",
   "execution_count": 28,
   "id": "1daf2f2f-c7aa-4dab-a4c9-80ddadcd93f1",
   "metadata": {
    "execution": {
     "iopub.execute_input": "2024-02-24T18:14:06.025025Z",
     "iopub.status.busy": "2024-02-24T18:14:06.024819Z",
     "iopub.status.idle": "2024-02-24T18:14:06.044432Z",
     "shell.execute_reply": "2024-02-24T18:14:06.043818Z",
     "shell.execute_reply.started": "2024-02-24T18:14:06.025004Z"
    }
   },
   "outputs": [
    {
     "data": {
      "text/html": [
       "<div>\n",
       "<style scoped>\n",
       "    .dataframe tbody tr th:only-of-type {\n",
       "        vertical-align: middle;\n",
       "    }\n",
       "\n",
       "    .dataframe tbody tr th {\n",
       "        vertical-align: top;\n",
       "    }\n",
       "\n",
       "    .dataframe thead th {\n",
       "        text-align: right;\n",
       "    }\n",
       "</style>\n",
       "<table border=\"1\" class=\"dataframe\">\n",
       "  <thead>\n",
       "    <tr style=\"text-align: right;\">\n",
       "      <th></th>\n",
       "      <th>mpcDesignation</th>\n",
       "      <th>mpcH</th>\n",
       "      <th>numObs</th>\n",
       "      <th>ssObjectId</th>\n",
       "      <th>mpc_desig1</th>\n",
       "    </tr>\n",
       "  </thead>\n",
       "  <tbody>\n",
       "    <tr>\n",
       "      <th>0</th>\n",
       "      <td>S101q3vm</td>\n",
       "      <td>20.580000</td>\n",
       "      <td>45</td>\n",
       "      <td>-9223370383071521539</td>\n",
       "      <td>S101Q3VM</td>\n",
       "    </tr>\n",
       "    <tr>\n",
       "      <th>1</th>\n",
       "      <td>S1008gC7</td>\n",
       "      <td>20.670000</td>\n",
       "      <td>22</td>\n",
       "      <td>-9223366535898786459</td>\n",
       "      <td>S1008GC7</td>\n",
       "    </tr>\n",
       "    <tr>\n",
       "      <th>2</th>\n",
       "      <td>2022 PV1</td>\n",
       "      <td>15.190000</td>\n",
       "      <td>212</td>\n",
       "      <td>-9223365099512229794</td>\n",
       "      <td>2022 PV1</td>\n",
       "    </tr>\n",
       "    <tr>\n",
       "      <th>3</th>\n",
       "      <td>S101lM1o</td>\n",
       "      <td>20.580000</td>\n",
       "      <td>28</td>\n",
       "      <td>-9223364443532342230</td>\n",
       "      <td>S101LM1O</td>\n",
       "    </tr>\n",
       "    <tr>\n",
       "      <th>4</th>\n",
       "      <td>2004 PX6</td>\n",
       "      <td>16.730000</td>\n",
       "      <td>211</td>\n",
       "      <td>-9223354132337021199</td>\n",
       "      <td>2004 PX6</td>\n",
       "    </tr>\n",
       "    <tr>\n",
       "      <th>...</th>\n",
       "      <td>...</td>\n",
       "      <td>...</td>\n",
       "      <td>...</td>\n",
       "      <td>...</td>\n",
       "      <td>...</td>\n",
       "    </tr>\n",
       "    <tr>\n",
       "      <th>9995</th>\n",
       "      <td>2010 GC6</td>\n",
       "      <td>15.780000</td>\n",
       "      <td>279</td>\n",
       "      <td>-9178627963286576493</td>\n",
       "      <td>2010 GC6</td>\n",
       "    </tr>\n",
       "    <tr>\n",
       "      <th>9996</th>\n",
       "      <td>2004 YP2</td>\n",
       "      <td>16.139999</td>\n",
       "      <td>234</td>\n",
       "      <td>-9178627269070829876</td>\n",
       "      <td>2004 YP2</td>\n",
       "    </tr>\n",
       "    <tr>\n",
       "      <th>9997</th>\n",
       "      <td>2002 UW4</td>\n",
       "      <td>18.430000</td>\n",
       "      <td>228</td>\n",
       "      <td>-9178626036298106887</td>\n",
       "      <td>2002 UW4</td>\n",
       "    </tr>\n",
       "    <tr>\n",
       "      <th>9998</th>\n",
       "      <td>S1001UmE</td>\n",
       "      <td>15.020000</td>\n",
       "      <td>262</td>\n",
       "      <td>-9178620883575921398</td>\n",
       "      <td>S1001UME</td>\n",
       "    </tr>\n",
       "    <tr>\n",
       "      <th>9999</th>\n",
       "      <td>1999 VX8</td>\n",
       "      <td>14.650000</td>\n",
       "      <td>266</td>\n",
       "      <td>-9178619542723258609</td>\n",
       "      <td>1999 VX8</td>\n",
       "    </tr>\n",
       "  </tbody>\n",
       "</table>\n",
       "<p>10000 rows × 5 columns</p>\n",
       "</div>"
      ],
      "text/plain": [
       "     mpcDesignation       mpcH  numObs           ssObjectId mpc_desig1\n",
       "0          S101q3vm  20.580000      45 -9223370383071521539   S101Q3VM\n",
       "1          S1008gC7  20.670000      22 -9223366535898786459   S1008GC7\n",
       "2          2022 PV1  15.190000     212 -9223365099512229794   2022 PV1\n",
       "3          S101lM1o  20.580000      28 -9223364443532342230   S101LM1O\n",
       "4          2004 PX6  16.730000     211 -9223354132337021199   2004 PX6\n",
       "...             ...        ...     ...                  ...        ...\n",
       "9995       2010 GC6  15.780000     279 -9178627963286576493   2010 GC6\n",
       "9996       2004 YP2  16.139999     234 -9178627269070829876   2004 YP2\n",
       "9997       2002 UW4  18.430000     228 -9178626036298106887   2002 UW4\n",
       "9998       S1001UmE  15.020000     262 -9178620883575921398   S1001UME\n",
       "9999       1999 VX8  14.650000     266 -9178619542723258609   1999 VX8\n",
       "\n",
       "[10000 rows x 5 columns]"
      ]
     },
     "execution_count": 28,
     "metadata": {},
     "output_type": "execute_result"
    }
   ],
   "source": [
    "pd_lsst"
   ]
  },
  {
   "cell_type": "markdown",
   "id": "bce10a44-a13b-4e42-be35-d7e0a05f2b50",
   "metadata": {},
   "source": [
    "## Match Gaia & DP0.3 data using designations"
   ]
  },
  {
   "cell_type": "code",
   "execution_count": 31,
   "id": "275ffa3d-bf3f-41cb-83f4-74e2a868bb30",
   "metadata": {
    "execution": {
     "iopub.execute_input": "2024-02-24T18:14:57.332092Z",
     "iopub.status.busy": "2024-02-24T18:14:57.331306Z",
     "iopub.status.idle": "2024-02-24T18:15:04.515898Z",
     "shell.execute_reply": "2024-02-24T18:15:04.515289Z",
     "shell.execute_reply.started": "2024-02-24T18:14:57.332063Z"
    }
   },
   "outputs": [
    {
     "name": "stdout",
     "output_type": "stream",
     "text": [
      "match  2002_qj6 2002 QJ6 184     2002 QJ6 293 -9220246324893037857\n",
      "match  2000_tb4 2000 TB4 98     2000 TB4 399 -9217496323063234344\n",
      "match  1999_jv5 1999 JV5 35     1999 JV5 340 -9215133665071394313\n",
      "match  2000_ss3 2000 SS3 341     2000 SS3 298 -9215008618020954753\n",
      "match  2002_gt8 2002 GT8 79     2002 GT8 217 -9213123882490191216\n",
      "match  1999_rd1 1999 RD1 119     1999 RD1 219 -9207897402210044224\n",
      "match  2001_sd1 2001 SD1 133     2001 SD1 226 -9204336110659258408\n",
      "match  1132_t-1 1132 T-1 242     1132 T-1 249 -9203773188588633326\n",
      "match  2002_pu1 2002 PU1 102     2002 PU1 350 -9193139087942386641\n",
      "match  1999_xq1 1999 XQ1 174     1999 XQ1 222 -9192495980634424459\n",
      "match  1999_cv1 1999 CV1 201     1999 CV1 153 -9191356645823939974\n",
      "match  2006_bd1 2006 BD1 206     2006 BD1 288 -9185586931848576327\n",
      "match  1999_rd1 1999 RD1 119     1999 RD1 314 -9183694582524310840\n",
      "match  1998_hf3 1998 HF3 257     1998 HF3 229 -9183137241548068028\n",
      "match  1998_xe6 1998 XE6 119     1998 XE6 362 -9182013405046634127\n",
      "match  2001_xr2 2001 XR2 176     2001 XR2 337 -9180274227479909965\n"
     ]
    }
   ],
   "source": [
    "for i in range(len(pd_lsst)):\n",
    "    str1 = pd_lsst['mpc_desig1'][i]\n",
    "    tx = np.where(str1 == pd_gaia['mpc_desig1'][:])[0]\n",
    "    if len(tx) > 0:\n",
    "        print('match ', \n",
    "              pd_gaia['denomination'][tx[0]], \n",
    "              pd_gaia['mpc_desig1'][tx[0]], \n",
    "              pd_gaia['num_observations'][tx[0]], '   ',\n",
    "              pd_lsst['mpc_desig1'][i],\n",
    "              pd_lsst['numObs'][i],\n",
    "              pd_lsst['ssObjectId'][i])"
   ]
  },
  {
   "cell_type": "markdown",
   "id": "b91374f0-8e49-4a90-b57d-9d043b365deb",
   "metadata": {},
   "source": [
    "Choose one to plot a light curve for."
   ]
  },
  {
   "cell_type": "code",
   "execution_count": 32,
   "id": "20ed4944-f6aa-4334-87ef-676be56fb11c",
   "metadata": {
    "execution": {
     "iopub.execute_input": "2024-02-24T18:15:29.649601Z",
     "iopub.status.busy": "2024-02-24T18:15:29.648896Z",
     "iopub.status.idle": "2024-02-24T18:15:29.652676Z",
     "shell.execute_reply": "2024-02-24T18:15:29.652018Z",
     "shell.execute_reply.started": "2024-02-24T18:15:29.649560Z"
    }
   },
   "outputs": [],
   "source": [
    "my_denomination = '2002_qj6'\n",
    "my_mpc_desig1 = '2002 QJ6'\n",
    "my_mpc_desig2 = '2002 qj6'\n",
    "my_ssObjectId = '-9220246324893037857'"
   ]
  },
  {
   "cell_type": "markdown",
   "id": "bf585f68-7166-434e-a611-f5aace71072e",
   "metadata": {},
   "source": [
    "### Get Gaia photometry.\n",
    "\n",
    "Apparent g-band magnitudes and dates from `sso_observation`."
   ]
  },
  {
   "cell_type": "code",
   "execution_count": 33,
   "id": "92b1b930-ea49-421b-a25f-3dc9ece47c36",
   "metadata": {
    "execution": {
     "iopub.execute_input": "2024-02-24T18:15:46.862775Z",
     "iopub.status.busy": "2024-02-24T18:15:46.862449Z",
     "iopub.status.idle": "2024-02-24T18:15:59.906965Z",
     "shell.execute_reply": "2024-02-24T18:15:59.906354Z",
     "shell.execute_reply.started": "2024-02-24T18:15:46.862753Z"
    }
   },
   "outputs": [],
   "source": [
    "query = \"SELECT epoch, epoch_utc, g_mag \"\\\n",
    "        \"FROM gaiadr3.sso_observation \"\\\n",
    "        \"WHERE denomination = '\" + my_mpc_desig2 + \"'\"\n",
    "pd_gaia_obs = gaia_tap.search(query).to_table().to_pandas()"
   ]
  },
  {
   "cell_type": "markdown",
   "id": "6f9733fb-f8e4-4e74-a87b-00868592d6de",
   "metadata": {},
   "source": [
    "Convert TCB times to JD and MJD.\n",
    "\n",
    "From <a href=\"https://gea.esac.esa.int/archive/documentation/GDR2/Gaia_archive/chap_datamodel/sec_dm_sso_tables/ssec_dm_sso_observation.html\">the documentation</a>, \n",
    "`epoch` is the Gaia-centric epoch TCB(Gaia).\n",
    "\n",
    "The conversion is JD = TCB + 2455197.5 (day)."
   ]
  },
  {
   "cell_type": "code",
   "execution_count": 34,
   "id": "dc2e068c-dd81-4f82-a2ca-4d023ba02588",
   "metadata": {
    "execution": {
     "iopub.execute_input": "2024-02-24T18:18:37.593240Z",
     "iopub.status.busy": "2024-02-24T18:18:37.592351Z",
     "iopub.status.idle": "2024-02-24T18:18:37.597923Z",
     "shell.execute_reply": "2024-02-24T18:18:37.597363Z",
     "shell.execute_reply.started": "2024-02-24T18:18:37.593210Z"
    }
   },
   "outputs": [],
   "source": [
    "pd_gaia_obs['epoch_jd'] = pd_gaia_obs['epoch_utc'] + 2455197.5\n",
    "pd_gaia_obs['epoch_mjd'] = pd_gaia_obs['epoch_utc'] + 55197.5"
   ]
  },
  {
   "cell_type": "code",
   "execution_count": 35,
   "id": "56a927c5-802f-460a-8a36-b8413a55dd97",
   "metadata": {
    "execution": {
     "iopub.execute_input": "2024-02-24T18:18:38.128448Z",
     "iopub.status.busy": "2024-02-24T18:18:38.127867Z",
     "iopub.status.idle": "2024-02-24T18:18:38.140719Z",
     "shell.execute_reply": "2024-02-24T18:18:38.140244Z",
     "shell.execute_reply.started": "2024-02-24T18:18:38.128423Z"
    }
   },
   "outputs": [
    {
     "data": {
      "text/html": [
       "<div>\n",
       "<style scoped>\n",
       "    .dataframe tbody tr th:only-of-type {\n",
       "        vertical-align: middle;\n",
       "    }\n",
       "\n",
       "    .dataframe tbody tr th {\n",
       "        vertical-align: top;\n",
       "    }\n",
       "\n",
       "    .dataframe thead th {\n",
       "        text-align: right;\n",
       "    }\n",
       "</style>\n",
       "<table border=\"1\" class=\"dataframe\">\n",
       "  <thead>\n",
       "    <tr style=\"text-align: right;\">\n",
       "      <th></th>\n",
       "      <th>epoch</th>\n",
       "      <th>epoch_utc</th>\n",
       "      <th>g_mag</th>\n",
       "      <th>epoch_jd</th>\n",
       "      <th>epoch_mjd</th>\n",
       "    </tr>\n",
       "  </thead>\n",
       "  <tbody>\n",
       "    <tr>\n",
       "      <th>0</th>\n",
       "      <td>2122.405405</td>\n",
       "      <td>2122.404396</td>\n",
       "      <td>20.505686</td>\n",
       "      <td>2.457320e+06</td>\n",
       "      <td>57319.904396</td>\n",
       "    </tr>\n",
       "    <tr>\n",
       "      <th>1</th>\n",
       "      <td>2122.405461</td>\n",
       "      <td>2122.404452</td>\n",
       "      <td>20.505686</td>\n",
       "      <td>2.457320e+06</td>\n",
       "      <td>57319.904452</td>\n",
       "    </tr>\n",
       "    <tr>\n",
       "      <th>2</th>\n",
       "      <td>2122.405517</td>\n",
       "      <td>2122.404508</td>\n",
       "      <td>20.505686</td>\n",
       "      <td>2.457320e+06</td>\n",
       "      <td>57319.904508</td>\n",
       "    </tr>\n",
       "    <tr>\n",
       "      <th>3</th>\n",
       "      <td>2122.405573</td>\n",
       "      <td>2122.404564</td>\n",
       "      <td>20.505686</td>\n",
       "      <td>2.457320e+06</td>\n",
       "      <td>57319.904564</td>\n",
       "    </tr>\n",
       "    <tr>\n",
       "      <th>4</th>\n",
       "      <td>2122.655536</td>\n",
       "      <td>2122.654527</td>\n",
       "      <td>20.520324</td>\n",
       "      <td>2.457320e+06</td>\n",
       "      <td>57320.154527</td>\n",
       "    </tr>\n",
       "    <tr>\n",
       "      <th>...</th>\n",
       "      <td>...</td>\n",
       "      <td>...</td>\n",
       "      <td>...</td>\n",
       "      <td>...</td>\n",
       "      <td>...</td>\n",
       "    </tr>\n",
       "    <tr>\n",
       "      <th>179</th>\n",
       "      <td>2656.708497</td>\n",
       "      <td>2656.707468</td>\n",
       "      <td>20.134015</td>\n",
       "      <td>2.457854e+06</td>\n",
       "      <td>57854.207468</td>\n",
       "    </tr>\n",
       "    <tr>\n",
       "      <th>180</th>\n",
       "      <td>2656.708553</td>\n",
       "      <td>2656.707525</td>\n",
       "      <td>20.134015</td>\n",
       "      <td>2.457854e+06</td>\n",
       "      <td>57854.207525</td>\n",
       "    </tr>\n",
       "    <tr>\n",
       "      <th>181</th>\n",
       "      <td>2656.708610</td>\n",
       "      <td>2656.707581</td>\n",
       "      <td>20.134015</td>\n",
       "      <td>2.457854e+06</td>\n",
       "      <td>57854.207581</td>\n",
       "    </tr>\n",
       "    <tr>\n",
       "      <th>182</th>\n",
       "      <td>2656.708666</td>\n",
       "      <td>2656.707637</td>\n",
       "      <td>20.134015</td>\n",
       "      <td>2.457854e+06</td>\n",
       "      <td>57854.207637</td>\n",
       "    </tr>\n",
       "    <tr>\n",
       "      <th>183</th>\n",
       "      <td>2656.708722</td>\n",
       "      <td>2656.707693</td>\n",
       "      <td>20.134015</td>\n",
       "      <td>2.457854e+06</td>\n",
       "      <td>57854.207693</td>\n",
       "    </tr>\n",
       "  </tbody>\n",
       "</table>\n",
       "<p>184 rows × 5 columns</p>\n",
       "</div>"
      ],
      "text/plain": [
       "           epoch    epoch_utc      g_mag      epoch_jd     epoch_mjd\n",
       "0    2122.405405  2122.404396  20.505686  2.457320e+06  57319.904396\n",
       "1    2122.405461  2122.404452  20.505686  2.457320e+06  57319.904452\n",
       "2    2122.405517  2122.404508  20.505686  2.457320e+06  57319.904508\n",
       "3    2122.405573  2122.404564  20.505686  2.457320e+06  57319.904564\n",
       "4    2122.655536  2122.654527  20.520324  2.457320e+06  57320.154527\n",
       "..           ...          ...        ...           ...           ...\n",
       "179  2656.708497  2656.707468  20.134015  2.457854e+06  57854.207468\n",
       "180  2656.708553  2656.707525  20.134015  2.457854e+06  57854.207525\n",
       "181  2656.708610  2656.707581  20.134015  2.457854e+06  57854.207581\n",
       "182  2656.708666  2656.707637  20.134015  2.457854e+06  57854.207637\n",
       "183  2656.708722  2656.707693  20.134015  2.457854e+06  57854.207693\n",
       "\n",
       "[184 rows x 5 columns]"
      ]
     },
     "execution_count": 35,
     "metadata": {},
     "output_type": "execute_result"
    }
   ],
   "source": [
    "pd_gaia_obs"
   ]
  },
  {
   "cell_type": "markdown",
   "id": "7d098666-5962-49ca-ad11-dfb1cfef86dc",
   "metadata": {},
   "source": [
    "### Get LSST photometry.\n",
    "\n",
    "From `diaSource`."
   ]
  },
  {
   "cell_type": "code",
   "execution_count": 36,
   "id": "957951ff-010b-4a27-bc91-ca0b9b12a61a",
   "metadata": {
    "execution": {
     "iopub.execute_input": "2024-02-24T18:20:22.148883Z",
     "iopub.status.busy": "2024-02-24T18:20:22.147925Z",
     "iopub.status.idle": "2024-02-24T18:20:23.145959Z",
     "shell.execute_reply": "2024-02-24T18:20:23.145361Z",
     "shell.execute_reply.started": "2024-02-24T18:20:22.148840Z"
    }
   },
   "outputs": [],
   "source": [
    "query = \"SELECT midpointMjdTai, mag, band \"\\\n",
    "        \"FROM dp03_catalogs_10yr.DiaSource \"\\\n",
    "        \"WHERE ssObjectId = \" + my_ssObjectId\n",
    "pd_lsst_obs = lsst_tap.search(query).to_table().to_pandas()"
   ]
  },
  {
   "cell_type": "code",
   "execution_count": 37,
   "id": "8e70c1de-d342-4cf9-910d-f6dec3188773",
   "metadata": {
    "execution": {
     "iopub.execute_input": "2024-02-24T18:20:23.172717Z",
     "iopub.status.busy": "2024-02-24T18:20:23.172330Z",
     "iopub.status.idle": "2024-02-24T18:20:23.180834Z",
     "shell.execute_reply": "2024-02-24T18:20:23.180348Z",
     "shell.execute_reply.started": "2024-02-24T18:20:23.172698Z"
    }
   },
   "outputs": [
    {
     "data": {
      "text/html": [
       "<div>\n",
       "<style scoped>\n",
       "    .dataframe tbody tr th:only-of-type {\n",
       "        vertical-align: middle;\n",
       "    }\n",
       "\n",
       "    .dataframe tbody tr th {\n",
       "        vertical-align: top;\n",
       "    }\n",
       "\n",
       "    .dataframe thead th {\n",
       "        text-align: right;\n",
       "    }\n",
       "</style>\n",
       "<table border=\"1\" class=\"dataframe\">\n",
       "  <thead>\n",
       "    <tr style=\"text-align: right;\">\n",
       "      <th></th>\n",
       "      <th>midpointMjdTai</th>\n",
       "      <th>mag</th>\n",
       "      <th>band</th>\n",
       "    </tr>\n",
       "  </thead>\n",
       "  <tbody>\n",
       "    <tr>\n",
       "      <th>0</th>\n",
       "      <td>63834.27803</td>\n",
       "      <td>19.952999</td>\n",
       "      <td>r</td>\n",
       "    </tr>\n",
       "    <tr>\n",
       "      <th>1</th>\n",
       "      <td>60604.03635</td>\n",
       "      <td>20.589001</td>\n",
       "      <td>i</td>\n",
       "    </tr>\n",
       "    <tr>\n",
       "      <th>2</th>\n",
       "      <td>62969.08553</td>\n",
       "      <td>21.058001</td>\n",
       "      <td>g</td>\n",
       "    </tr>\n",
       "    <tr>\n",
       "      <th>3</th>\n",
       "      <td>63375.32592</td>\n",
       "      <td>20.139999</td>\n",
       "      <td>i</td>\n",
       "    </tr>\n",
       "    <tr>\n",
       "      <th>4</th>\n",
       "      <td>63375.32781</td>\n",
       "      <td>20.107000</td>\n",
       "      <td>i</td>\n",
       "    </tr>\n",
       "    <tr>\n",
       "      <th>...</th>\n",
       "      <td>...</td>\n",
       "      <td>...</td>\n",
       "      <td>...</td>\n",
       "    </tr>\n",
       "    <tr>\n",
       "      <th>288</th>\n",
       "      <td>63786.39825</td>\n",
       "      <td>20.924000</td>\n",
       "      <td>r</td>\n",
       "    </tr>\n",
       "    <tr>\n",
       "      <th>289</th>\n",
       "      <td>62910.24143</td>\n",
       "      <td>19.931000</td>\n",
       "      <td>r</td>\n",
       "    </tr>\n",
       "    <tr>\n",
       "      <th>290</th>\n",
       "      <td>63852.22766</td>\n",
       "      <td>19.318001</td>\n",
       "      <td>i</td>\n",
       "    </tr>\n",
       "    <tr>\n",
       "      <th>291</th>\n",
       "      <td>61502.27304</td>\n",
       "      <td>19.767000</td>\n",
       "      <td>i</td>\n",
       "    </tr>\n",
       "    <tr>\n",
       "      <th>292</th>\n",
       "      <td>61494.35783</td>\n",
       "      <td>20.134001</td>\n",
       "      <td>r</td>\n",
       "    </tr>\n",
       "  </tbody>\n",
       "</table>\n",
       "<p>293 rows × 3 columns</p>\n",
       "</div>"
      ],
      "text/plain": [
       "     midpointMjdTai        mag band\n",
       "0       63834.27803  19.952999    r\n",
       "1       60604.03635  20.589001    i\n",
       "2       62969.08553  21.058001    g\n",
       "3       63375.32592  20.139999    i\n",
       "4       63375.32781  20.107000    i\n",
       "..              ...        ...  ...\n",
       "288     63786.39825  20.924000    r\n",
       "289     62910.24143  19.931000    r\n",
       "290     63852.22766  19.318001    i\n",
       "291     61502.27304  19.767000    i\n",
       "292     61494.35783  20.134001    r\n",
       "\n",
       "[293 rows x 3 columns]"
      ]
     },
     "execution_count": 37,
     "metadata": {},
     "output_type": "execute_result"
    }
   ],
   "source": [
    "pd_lsst_obs"
   ]
  },
  {
   "cell_type": "markdown",
   "id": "b1ea6023-ef7a-4abc-ba87-aada21f38e83",
   "metadata": {},
   "source": [
    "## Plot the combined light curve"
   ]
  },
  {
   "cell_type": "code",
   "execution_count": 38,
   "id": "586025cb-432d-491d-9ac3-71e859d6ea21",
   "metadata": {
    "execution": {
     "iopub.execute_input": "2024-02-24T18:20:56.761196Z",
     "iopub.status.busy": "2024-02-24T18:20:56.760352Z",
     "iopub.status.idle": "2024-02-24T18:20:56.955552Z",
     "shell.execute_reply": "2024-02-24T18:20:56.955011Z",
     "shell.execute_reply.started": "2024-02-24T18:20:56.761166Z"
    }
   },
   "outputs": [
    {
     "data": {
      "image/png": "[encoded data removed]",
      "text/plain": [
       "<Figure size 600x400 with 1 Axes>"
      ]
     },
     "metadata": {},
     "output_type": "display_data"
    }
   ],
   "source": [
    "fig = plt.figure(figsize=(6, 4))\n",
    "plt.plot(pd_gaia_obs['epoch_mjd'], pd_gaia_obs['g_mag'], \n",
    "         'o', color='cyan', label='Gaia G')\n",
    "fx = np.where(pd_lsst_obs['band'][:] == 'g')[0]\n",
    "plt.plot(pd_lsst_obs['midpointMjdTai'][fx], pd_lsst_obs['mag'][fx], \n",
    "         'o', color='dodgerblue', label='LSST g')\n",
    "plt.legend(loc='upper left')\n",
    "plt.xlabel('mjd')\n",
    "plt.ylabel('mag')\n",
    "plt.title(my_mpc_desig1)\n",
    "plt.show()"
   ]
  },
  {
   "cell_type": "markdown",
   "id": "67cd376d-dead-4692-b7d2-3782e0d9e770",
   "metadata": {},
   "source": [
    "## Stretch goals\n",
    "\n",
    " * figure out how to get phase of Gaia observations\n",
    " * plot phase curve corrected light curve\n",
    " * explore population matches like Jake did"
   ]
  },
  {
   "cell_type": "code",
   "execution_count": null,
   "id": "55c3b4c1-50c4-4234-bb72-bdf1f7df5090",
   "metadata": {},
   "outputs": [],
   "source": []
  }
 ],
 "metadata": {
  "kernelspec": {
   "display_name": "LSST",
   "language": "python",
   "name": "lsst"
  },
  "language_info": {
   "codemirror_mode": {
    "name": "ipython",
    "version": 3
   },
   "file_extension": ".py",
   "mimetype": "text/x-python",
   "name": "python",
   "nbconvert_exporter": "python",
   "pygments_lexer": "ipython3",
   "version": "3.11.7"
  }
 },
 "nbformat": 4,
 "nbformat_minor": 5
}
