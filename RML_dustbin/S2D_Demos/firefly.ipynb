{
 "cells": [
  {
   "cell_type": "markdown",
   "id": "749b0ddf",
   "metadata": {},
   "source": [
    "<img align=\"left\" src = https://project.lsst.org/sites/default/files/Rubin-O-Logo_0.png width=170 style=\"padding: 10px\"> \n",
    "<b>Little Demo: firefly</b> <br>\n",
    "Contact author(s): Melissa Graham <br>\n",
    "Last verified to run: 2023-02-17 <br>\n",
    "LSST Science Pipelines version: Weekly 2023_07 <br>\n",
    "Container Size: medium"
   ]
  },
  {
   "cell_type": "markdown",
   "id": "6613a190-029b-409b-97d7-1860f20d108b",
   "metadata": {},
   "source": [
    "Firefly is an interactive interface for image data display.\n",
    "\n",
    "## 1. Set up\n",
    "\n",
    "Import packages."
   ]
  },
  {
   "cell_type": "code",
   "execution_count": 10,
   "id": "7acc79a4-8530-42d9-96e5-b7acb4397864",
   "metadata": {
    "execution": {
     "iopub.execute_input": "2023-05-05T20:54:19.367445Z",
     "iopub.status.busy": "2023-05-05T20:54:19.366697Z",
     "iopub.status.idle": "2023-05-05T20:54:19.370826Z",
     "shell.execute_reply": "2023-05-05T20:54:19.370147Z",
     "shell.execute_reply.started": "2023-05-05T20:54:19.367406Z"
    },
    "tags": []
   },
   "outputs": [],
   "source": [
    "import lsst.daf.butler as dafButler\n",
    "import lsst.afw.display as afwDisplay"
   ]
  },
  {
   "cell_type": "markdown",
   "id": "d2a71fda-9dc5-4b1a-9f69-3f7350475787",
   "metadata": {},
   "source": [
    "Set the default backend to Firefly.\n",
    "\n",
    "This will open Firefly in a new window within the Notebook Aspect.\n",
    "\n",
    "Grab the tab and drag it to the right, about halfway down the screen, to show this notebook and the Firefly interface side-by-side."
   ]
  },
  {
   "cell_type": "code",
   "execution_count": 11,
   "id": "04f09abe-95fe-4a14-94a9-51b5b5da886b",
   "metadata": {
    "execution": {
     "iopub.execute_input": "2023-05-05T20:54:22.442609Z",
     "iopub.status.busy": "2023-05-05T20:54:22.441738Z",
     "iopub.status.idle": "2023-05-05T20:54:23.047305Z",
     "shell.execute_reply": "2023-05-05T20:54:23.046529Z",
     "shell.execute_reply.started": "2023-05-05T20:54:22.442582Z"
    },
    "tags": []
   },
   "outputs": [],
   "source": [
    "afwDisplay.setDefaultBackend('firefly')\n",
    "afw_display = afwDisplay.Display(frame=1)"
   ]
  },
  {
   "cell_type": "markdown",
   "id": "0a22f185-9f8c-466d-bf62-1fb5f425a9a1",
   "metadata": {},
   "source": [
    "Instantiate the `butler`."
   ]
  },
  {
   "cell_type": "code",
   "execution_count": 12,
   "id": "1d5e324b-b6b5-4a74-8e1c-7c1af25afe63",
   "metadata": {
    "execution": {
     "iopub.execute_input": "2023-05-05T20:54:24.517085Z",
     "iopub.status.busy": "2023-05-05T20:54:24.516199Z",
     "iopub.status.idle": "2023-05-05T20:54:26.639053Z",
     "shell.execute_reply": "2023-05-05T20:54:26.638104Z",
     "shell.execute_reply.started": "2023-05-05T20:54:24.517053Z"
    },
    "tags": []
   },
   "outputs": [],
   "source": [
    "butler = dafButler.Butler('dp02', collections='2.2i/runs/DP0.2')"
   ]
  },
  {
   "cell_type": "markdown",
   "id": "110b8791-d4f1-4b99-9f41-d0942e32dafd",
   "metadata": {},
   "source": [
    "Set the `dataId` for the `butler` assuming the visit and detector are already known."
   ]
  },
  {
   "cell_type": "code",
   "execution_count": 19,
   "id": "861c5b2d-24a7-43ff-95cf-659c9f3a82ba",
   "metadata": {
    "execution": {
     "iopub.execute_input": "2023-05-05T20:58:10.282549Z",
     "iopub.status.busy": "2023-05-05T20:58:10.281572Z",
     "iopub.status.idle": "2023-05-05T20:58:11.355383Z",
     "shell.execute_reply": "2023-05-05T20:58:11.354214Z",
     "shell.execute_reply.started": "2023-05-05T20:58:10.282517Z"
    },
    "tags": []
   },
   "outputs": [],
   "source": [
    "dataId = {'visit': 192350, 'detector': 175}\n",
    "#dataId = {'visit': 934013, 'detector': 80}\n",
    "calexp = butler.get('calexp', **dataId)"
   ]
  },
  {
   "cell_type": "markdown",
   "id": "ec1a8ee2-3f7f-4411-80c9-a3ea19dce474",
   "metadata": {},
   "source": [
    "## 2. Display image"
   ]
  },
  {
   "cell_type": "code",
   "execution_count": 21,
   "id": "d8013733-35f7-47a5-b721-2812c6acfdaa",
   "metadata": {
    "execution": {
     "iopub.execute_input": "2023-05-05T21:00:37.281929Z",
     "iopub.status.busy": "2023-05-05T21:00:37.280833Z",
     "iopub.status.idle": "2023-05-05T21:00:39.454083Z",
     "shell.execute_reply": "2023-05-05T21:00:39.453017Z",
     "shell.execute_reply.started": "2023-05-05T21:00:37.281890Z"
    },
    "tags": []
   },
   "outputs": [],
   "source": [
    "afw_display.mtv(calexp)"
   ]
  },
  {
   "cell_type": "markdown",
   "id": "11de86b9-8844-4ac7-ba33-9390648d10dc",
   "metadata": {},
   "source": [
    "Alter the mask layer transparency.\n",
    "\n",
    "This can also be done from the icon that looks like a set of overlapping boxes and has hover-over text \"Manipulate overlay density\"."
   ]
  },
  {
   "cell_type": "code",
   "execution_count": 26,
   "id": "7ad00207-538a-4fd2-affa-dc89b5f65191",
   "metadata": {
    "execution": {
     "iopub.execute_input": "2023-05-05T21:03:13.908438Z",
     "iopub.status.busy": "2023-05-05T21:03:13.907555Z",
     "iopub.status.idle": "2023-05-05T21:03:14.372965Z",
     "shell.execute_reply": "2023-05-05T21:03:14.372012Z",
     "shell.execute_reply.started": "2023-05-05T21:03:13.908407Z"
    },
    "tags": []
   },
   "outputs": [],
   "source": [
    "afw_display.setMaskTransparency(20)"
   ]
  },
  {
   "cell_type": "code",
   "execution_count": 9,
   "id": "cc449470-f44f-47d1-824a-fcd04e7a1c49",
   "metadata": {
    "execution": {
     "iopub.execute_input": "2023-05-05T20:53:38.978150Z",
     "iopub.status.busy": "2023-05-05T20:53:38.977341Z",
     "iopub.status.idle": "2023-05-05T20:53:39.453347Z",
     "shell.execute_reply": "2023-05-05T20:53:39.452540Z",
     "shell.execute_reply.started": "2023-05-05T20:53:38.978123Z"
    },
    "tags": []
   },
   "outputs": [],
   "source": [
    "afw_display.setMaskTransparency(80)"
   ]
  },
  {
   "cell_type": "code",
   "execution_count": 23,
   "id": "71b09f89-18d1-40a1-bb51-3a73d4f494bc",
   "metadata": {
    "execution": {
     "iopub.execute_input": "2023-05-05T21:01:49.040520Z",
     "iopub.status.busy": "2023-05-05T21:01:49.039286Z",
     "iopub.status.idle": "2023-05-05T21:01:49.520429Z",
     "shell.execute_reply": "2023-05-05T21:01:49.519366Z",
     "shell.execute_reply.started": "2023-05-05T21:01:49.040488Z"
    },
    "tags": []
   },
   "outputs": [],
   "source": [
    "afw_display.setMaskTransparency(100)"
   ]
  },
  {
   "cell_type": "markdown",
   "id": "82f181fd-a65c-48fd-8de2-d584f781ea6d",
   "metadata": {},
   "source": [
    "Alter the pixel scaling.\n",
    "\n",
    "This can also be done from the icon that looks like a histogram and hover-over text \"Stretch drop down\"."
   ]
  },
  {
   "cell_type": "code",
   "execution_count": 10,
   "id": "9fd266ab-02a8-4735-8796-693b0043d44b",
   "metadata": {
    "execution": {
     "iopub.execute_input": "2023-05-05T18:20:56.464200Z",
     "iopub.status.busy": "2023-05-05T18:20:56.462963Z",
     "iopub.status.idle": "2023-05-05T18:20:56.508604Z",
     "shell.execute_reply": "2023-05-05T18:20:56.507567Z",
     "shell.execute_reply.started": "2023-05-05T18:20:56.464140Z"
    }
   },
   "outputs": [],
   "source": [
    "afw_display.scale(\"asinh\", -5, 20)"
   ]
  },
  {
   "cell_type": "code",
   "execution_count": 11,
   "id": "45ecb2c6-d32d-48be-a87b-b614ed2f0a8a",
   "metadata": {
    "execution": {
     "iopub.execute_input": "2023-05-05T18:21:07.350706Z",
     "iopub.status.busy": "2023-05-05T18:21:07.349609Z",
     "iopub.status.idle": "2023-05-05T18:21:07.392434Z",
     "shell.execute_reply": "2023-05-05T18:21:07.391450Z",
     "shell.execute_reply.started": "2023-05-05T18:21:07.350673Z"
    }
   },
   "outputs": [],
   "source": [
    "afw_display.scale(\"asinh\", \"zscale\")"
   ]
  },
  {
   "cell_type": "markdown",
   "id": "8ecb1912-7c70-4ea2-afc5-1f5373e7a2dc",
   "metadata": {},
   "source": [
    "Play around in the Firefly window!"
   ]
  },
  {
   "cell_type": "markdown",
   "id": "ffec3127-d4c9-43f5-bd44-ecb26792344c",
   "metadata": {},
   "source": [
    "## 3. Overplot sources"
   ]
  },
  {
   "cell_type": "code",
   "execution_count": 24,
   "id": "945dd190-a529-4d49-bdfd-d8e53c26aac0",
   "metadata": {
    "execution": {
     "iopub.execute_input": "2023-05-05T21:03:01.378153Z",
     "iopub.status.busy": "2023-05-05T21:03:01.377594Z",
     "iopub.status.idle": "2023-05-05T21:03:01.917702Z",
     "shell.execute_reply": "2023-05-05T21:03:01.916630Z",
     "shell.execute_reply.started": "2023-05-05T21:03:01.378124Z"
    },
    "tags": []
   },
   "outputs": [],
   "source": [
    "src = butler.get('src', **dataId)"
   ]
  },
  {
   "cell_type": "code",
   "execution_count": 28,
   "id": "50a5fe38-94fd-4eb2-9334-68d7210d4c0a",
   "metadata": {
    "execution": {
     "iopub.execute_input": "2023-05-05T21:03:25.267938Z",
     "iopub.status.busy": "2023-05-05T21:03:25.266793Z",
     "iopub.status.idle": "2023-05-05T21:03:25.371509Z",
     "shell.execute_reply": "2023-05-05T21:03:25.370697Z",
     "shell.execute_reply.started": "2023-05-05T21:03:25.267905Z"
    },
    "tags": []
   },
   "outputs": [],
   "source": [
    "with afw_display.Buffering():\n",
    "    for record in src:\n",
    "        afw_display.dot('o', record.getX(), record.getY(), \n",
    "                        size=20, ctype='orange')"
   ]
  },
  {
   "cell_type": "markdown",
   "id": "2c516e24-b7e0-45b8-9178-4cb4bec1b08c",
   "metadata": {},
   "source": [
    "Erase the overplotted sources."
   ]
  },
  {
   "cell_type": "code",
   "execution_count": 27,
   "id": "463a1f0d-4c4b-4d38-9852-b85668f17366",
   "metadata": {
    "execution": {
     "iopub.execute_input": "2023-05-05T21:03:18.549438Z",
     "iopub.status.busy": "2023-05-05T21:03:18.548616Z",
     "iopub.status.idle": "2023-05-05T21:03:18.594622Z",
     "shell.execute_reply": "2023-05-05T21:03:18.593234Z",
     "shell.execute_reply.started": "2023-05-05T21:03:18.549412Z"
    },
    "tags": []
   },
   "outputs": [],
   "source": [
    "afw_display.erase()"
   ]
  },
  {
   "cell_type": "code",
   "execution_count": null,
   "id": "7e96967c-1b5a-49a0-b559-2fd7f8de4b33",
   "metadata": {},
   "outputs": [],
   "source": []
  }
 ],
 "metadata": {
  "kernelspec": {
   "display_name": "LSST",
   "language": "python",
   "name": "lsst"
  },
  "language_info": {
   "codemirror_mode": {
    "name": "ipython",
    "version": 3
   },
   "file_extension": ".py",
   "mimetype": "text/x-python",
   "name": "python",
   "nbconvert_exporter": "python",
   "pygments_lexer": "ipython3",
   "version": "3.10.9"
  },
  "toc-autonumbering": false
 },
 "nbformat": 4,
 "nbformat_minor": 5
}
