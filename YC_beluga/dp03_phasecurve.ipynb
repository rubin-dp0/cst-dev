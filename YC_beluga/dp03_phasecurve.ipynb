{
 "cells": [
  {
   "cell_type": "markdown",
   "id": "749b0ddf",
   "metadata": {},
   "source": [
    "<img align=\"left\" src = https://project.lsst.org/sites/default/files/Rubin-O-Logo_0.png width=250 style=\"padding: 10px\"> \n",
    "<br>\n",
    "<b>Phase Curve of Solar System Objects</b> <br>\n",
    "Contact authors: Christina Williams and Yumi Choi<br>\n",
    "Last verified to run: <i>2023-07-dd</i> <br>\n",
    "LSST Science Piplines version: Weekly <i>2023_21</i> <br>\n",
    "Container Size: medium <br>\n",
    "Targeted learning level: intermediate <br>"
   ]
  },
  {
   "cell_type": "markdown",
   "id": "9da1a210-d858-42fe-8591-570965b8be1a",
   "metadata": {},
   "source": [
    "**Description:** Investigate the derivation of phase curves for solar systme objects and explore DP0.3-provided phase curve parameters. "
   ]
  },
  {
   "cell_type": "markdown",
   "id": "80a0baf5-51ad-40ec-8991-060a7b27c289",
   "metadata": {},
   "source": [
    "**Skills:** Use various TAP tables, including joining multiple tables. Derive and compare phase curves. Explore accuracy of the phase curve parameters as a function of obervations."
   ]
  },
  {
   "cell_type": "markdown",
   "id": "393da88f-7978-4920-aa4a-a9830df6eed9",
   "metadata": {},
   "source": [
    "**LSST Data Products:** TAP tables dp03_catalogs.SSObject, dp03_catalogs.MPCORB, dp03_catalogs.DiaSource, dp03_catalogs.SSSource"
   ]
  },
  {
   "cell_type": "markdown",
   "id": "5c67fab9-136a-4adc-bb42-142b91ab69dd",
   "metadata": {},
   "source": [
    "**Packages:** numpy, scipy, pandas, matplotlib, seaborn, lsst.rsp"
   ]
  },
  {
   "cell_type": "markdown",
   "id": "8f72b27f",
   "metadata": {},
   "source": [
    "**Credit:**\n",
    "Inspired by a notebook develeoped by _Meg (need full name!!)_. Standalone functions for phase curve fitting are provided by Pedro Bernardinelli. References: <a href=\"https://ui.adsabs.harvard.edu/abs/2010Icar..209..542M/abstract\">Muinonen et al. (2010)</a> and <a href=\"http://astronotes.co.uk/blog/2018/05/28/determining-the-h-g-parameters-of-atlas-asteroid-phase-curves.html\">David Young's webpage.</a>"
   ]
  },
  {
   "cell_type": "markdown",
   "id": "28e91cbf-ab7f-4e26-9276-b00299d6065e",
   "metadata": {},
   "source": [
    "**Get Support:**\n",
    "Find DP0.3-related documentation and resources at <a href=\"https://dp0-3.lsst.io\">dp0-3.lsst.io</a>. Questions are welcome as new topics in the <a href=\"https://community.lsst.org/c/support/dp0\">Support - Data Preview 0 Category</a> of the Rubin Community Forum. Rubin staff will respond to all questions posted there."
   ]
  },
  {
   "cell_type": "markdown",
   "id": "cfc73be0",
   "metadata": {},
   "source": [
    "## 1. Introduction"
   ]
  },
  {
   "cell_type": "code",
   "execution_count": null,
   "id": "cddc1458",
   "metadata": {
    "tags": []
   },
   "outputs": [],
   "source": [
    "# general python packages\n",
    "import numpy as np\n",
    "from scipy.interpolate import CubicSpline\n",
    "from scipy.optimize import leastsq\n",
    "import pandas as pd\n",
    "import warnings\n",
    "import matplotlib.pyplot as plt\n",
    "import matplotlib.patches as mpatches\n",
    "import seaborn as sns\n",
    "\n",
    "# LSST package for TAP queries\n",
    "from lsst.rsp import get_tap_service"
   ]
  },
  {
   "cell_type": "markdown",
   "id": "c217adff-25ed-4fce-95e7-8aa04630f6cc",
   "metadata": {},
   "source": [
    "### 1.2 Define Functions and Parameters"
   ]
  },
  {
   "cell_type": "markdown",
   "id": "8a4a8b3b-91cf-4729-a707-99b7b11a5b8d",
   "metadata": {},
   "source": [
    "Set up some plotting defaults:"
   ]
  },
  {
   "cell_type": "code",
   "execution_count": null,
   "id": "c780a382-5c5e-4f20-9ffd-7aa517c37146",
   "metadata": {
    "tags": []
   },
   "outputs": [],
   "source": [
    "plt.style.use('tableau-colorblind10')\n",
    "prop_cycle = plt.rcParams['axes.prop_cycle']\n",
    "colors = prop_cycle.by_key()['color']\n",
    "params = {'axes.labelsize': 15,\n",
    "          'font.size': 15,\n",
    "          'legend.fontsize': 12}\n",
    "plt.rcParams.update(params)"
   ]
  },
  {
   "cell_type": "markdown",
   "id": "ca7ae11c-5ee6-4b64-9ed3-7a0e2b9630a3",
   "metadata": {},
   "source": [
    "To supress NumPy RuntimeWarning"
   ]
  },
  {
   "cell_type": "code",
   "execution_count": null,
   "id": "cbc8769f-e313-46f3-970b-7596636b5342",
   "metadata": {
    "tags": []
   },
   "outputs": [],
   "source": [
    "np.seterr(divide='ignore')"
   ]
  },
  {
   "cell_type": "markdown",
   "id": "e4d55d16-f2c0-495c-8f43-0b93bc44ed89",
   "metadata": {},
   "source": [
    "Define functions for phase curvit fitting:"
   ]
  },
  {
   "cell_type": "code",
   "execution_count": null,
   "id": "2d95d30d-77f4-420c-a791-b90dfad3f6ea",
   "metadata": {
    "tags": []
   },
   "outputs": [],
   "source": [
    "# Constants values taken from sbpy (https://sbpy.org) for convenience\n",
    "A = [3.332, 1.862]\n",
    "B = [0.631, 1.218]\n",
    "C = [0.986, 0.238]\n",
    "\n",
    "alpha_12 = np.deg2rad([7.5, 30., 60, 90, 120, 150])\n",
    "\n",
    "phi_1_sp = [7.5e-1, 3.3486016e-1, 1.3410560e-1, 5.1104756e-2, 2.1465687e-2, 3.6396989e-3]\n",
    "phi_1_derivs = [-1.9098593, -9.1328612e-2]\n",
    "\n",
    "phi_2_sp = [9.25e-1, 6.2884169e-1, 3.1755495e-1, 1.2716367e-1, 2.2373903e-2, 1.6505689e-4]\n",
    "phi_2_derivs = [-5.7295780e-1, -8.6573138e-8]\n",
    "\n",
    "alpha_3 = np.deg2rad([0.0, 0.3, 1., 2., 4., 8., 12., 20., 30.])\n",
    "\n",
    "phi_3_sp = [1., 8.3381185e-1, 5.7735424e-1, 4.2144772e-1, 2.3174230e-1, 1.0348178e-1, 6.1733473e-2, 1.6107006e-2, 0.]\n",
    "phi_3_derivs = [-1.0630097, 0]\n",
    "\n",
    "phi_1 = CubicSpline(alpha_12, phi_1_sp, bc_type=((1,phi_1_derivs[0]),(1,phi_1_derivs[1])))\n",
    "phi_2 = CubicSpline(alpha_12, phi_2_sp, bc_type=((1,phi_2_derivs[0]),(1,phi_2_derivs[1])))\n",
    "phi_3 = CubicSpline(alpha_3, phi_3_sp, bc_type=((1,phi_3_derivs[0]),(1,phi_3_derivs[1])))"
   ]
  },
  {
   "cell_type": "code",
   "execution_count": null,
   "id": "abbfa96c-d77b-4b63-b092-8e1a1e14aeca",
   "metadata": {
    "tags": []
   },
   "outputs": [],
   "source": [
    "def HG_model(phase, params):\n",
    "    \"\"\"\n",
    "    Compute HG model phase curve for a given set \n",
    "    of parameters. The simplest 2-parameter model.\n",
    "\n",
    "    Parameters\n",
    "    ----------\n",
    "    phase: ndarray\n",
    "        phase angle in radians\n",
    "    params: list\n",
    "        phase curve parameters\n",
    "\n",
    "    Returns\n",
    "    -------\n",
    "    computed reduced magnitude: ndarray     \n",
    "    \"\"\"\n",
    "    \n",
    "    sin_a = np.sin(phase)\n",
    "    tan_ah = np.tan(phase/2)\n",
    "    \n",
    "    W = np.exp(-90.56 * tan_ah * tan_ah)    \n",
    "    scale_sina = sin_a/(0.119 + 1.341*sin_a - 0.754*sin_a*sin_a)\n",
    "    \n",
    "    phi_1_S = 1 - C[0] * scale_sina\n",
    "    phi_2_S = 1 - C[1] * scale_sina\n",
    "    \n",
    "    phi_1_L = np.exp(-A[0] * np.power(tan_ah, B[0]))\n",
    "    phi_2_L = np.exp(-A[1] * np.power(tan_ah, B[1]))\n",
    "    \n",
    "    phi_1 = W * phi_1_S + (1-W) * phi_1_L\n",
    "    phi_2 = W * phi_2_S + (1-W) * phi_2_L\n",
    "    \n",
    "    return params[0] - 2.5*np.log10((1-params[1])* phi_1 + (params[1]) * phi_2) "
   ]
  },
  {
   "cell_type": "code",
   "execution_count": null,
   "id": "4c4908e8-859f-4bd3-a9cf-7f006a505b98",
   "metadata": {
    "tags": []
   },
   "outputs": [],
   "source": [
    "def HG1G2_model(phase, params):\n",
    "    \"\"\"\n",
    "    Compute HG1G2 model phase curve for a given set \n",
    "    of parameters. This is a 3-parameter model, which works best\n",
    "    when sufficiently long phaseangle coverage is available.\n",
    "\n",
    "    Parameters\n",
    "    ----------\n",
    "    phase: ndarray\n",
    "        phase angle in radians\n",
    "    params: list\n",
    "        phase curve parameters\n",
    "\n",
    "    Returns\n",
    "    -------\n",
    "    computed reduced magnitude: ndarray     \n",
    "    \"\"\"\n",
    "\n",
    "    tan_ah = np.tan(phase/2)\n",
    "\n",
    "    phi_1_ev = phi_1(phase)  \n",
    "    phi_2_ev = phi_2(phase)  \n",
    "    phi_3_ev = phi_3(phase)  \n",
    "\n",
    "    msk = phase < 7.5 * np.pi/180\n",
    "\n",
    "    phi_1_ev[msk] = 1-6*phase[msk]/np.pi \n",
    "    phi_2_ev[msk] = 1- 9 * phase[msk]/(5*np.pi)\n",
    "\n",
    "    phi_3_ev[phase > np.pi/6] = 0\n",
    "\n",
    "    return params[0] - 2.5 * np.log10(params[1] * phi_1_ev + params[2] * phi_2_ev + (1-params[1]-params[2]) * phi_3_ev)"
   ]
  },
  {
   "cell_type": "code",
   "execution_count": null,
   "id": "4119e25a-0f1b-4acc-ade2-5ca6b669617f",
   "metadata": {
    "tags": []
   },
   "outputs": [],
   "source": [
    "def HG12_model(phase, params): \n",
    "    \"\"\"\n",
    "    Compute HG12 model phase curve for a given set \n",
    "    of parameters. This is a 2-parameter, simplified version\n",
    "    of HG1G2 model, which is useful when phaseangle coverage is shorter. \n",
    "\n",
    "    Parameters\n",
    "    ----------\n",
    "    phase: ndarray\n",
    "        phase angle in radians\n",
    "    params: list\n",
    "        phase curve parameters\n",
    "\n",
    "    Returns\n",
    "    -------\n",
    "    computed reduced magnitude: ndarray\n",
    "    \"\"\"\n",
    "    \n",
    "    if params[1] >= 0.2:\n",
    "        G1 = +0.9529*params[1] + 0.02162 \n",
    "        G2 = -0.6125*params[1] + 0.5572\n",
    "    else:\n",
    "        G1 = +0.7527*params[1] + 0.06164  \n",
    "        G2 = -0.9612*params[1] + 0.6270\n",
    "\n",
    "    return HG1G2_model(phase, [params[0], G1, G2])"
   ]
  },
  {
   "cell_type": "code",
   "execution_count": null,
   "id": "0014b131-11e5-4ab1-b805-31163b105371",
   "metadata": {
    "tags": []
   },
   "outputs": [],
   "source": [
    "def wd(params, mag, phase, mag_err, model):\n",
    "    \"\"\"\n",
    "    Compute weighted deviation for a given model.\n",
    "    \"\"\"\n",
    "    \n",
    "    pred = model(phase, params)\n",
    "    \n",
    "    return (mag - pred)/mag_err"
   ]
  },
  {
   "cell_type": "code",
   "execution_count": null,
   "id": "37d86162-8557-4f65-9813-ec46818466a9",
   "metadata": {
    "tags": []
   },
   "outputs": [],
   "source": [
    "def fit(mag, phase, sigma, model=HG12_model, params=[0.1]):\n",
    "    \"\"\"\n",
    "    Fit phase curve for given observations to a designated model.\n",
    "    \n",
    "    Parameters\n",
    "    ----------\n",
    "    mag: ndarray\n",
    "        reduced magnitude\n",
    "    phase: ndarray\n",
    "        phase angle in degrees\n",
    "    sigma: ndarray\n",
    "        uncertainty in magnitude\n",
    "    model: function (default=HG12_model)\n",
    "        phase curve model function\n",
    "    params: list (default=[0.1])\n",
    "        phase curve paramters\n",
    "\n",
    "    Returns\n",
    "    -------\n",
    "    sol: tuple\n",
    "        best-fit solution\n",
    "    \"\"\"\n",
    "    \n",
    "    phase = np.deg2rad(phase)\n",
    "    sol = leastsq(wd, [mag[0]] + params,  (mag, phase, sigma, model), full_output = True)\n",
    "\n",
    "    return sol"
   ]
  },
  {
   "cell_type": "code",
   "execution_count": null,
   "id": "5cdf1dd4-10b7-4c1f-8f4f-b4ab252822a6",
   "metadata": {
    "tags": []
   },
   "outputs": [],
   "source": [
    "def fit_models(reducedMag, magSigma, phaseAngle, verbose=False):\n",
    "    \"\"\"\n",
    "    Fit phase curves for given observations to 3 different models.\n",
    "    \n",
    "    Parameters\n",
    "    ----------\n",
    "    reducedMag: ndarray\n",
    "        reduced magnitude\n",
    "    magSigma: ndarray\n",
    "        uncertainty in magnitude\n",
    "    phaseAngle: ndarray\n",
    "        phase angle in degrees\n",
    "\n",
    "    Returns\n",
    "    -------\n",
    "    solutions: dict\n",
    "        Best-fit solutions for each model\n",
    "    \"\"\"\n",
    "\n",
    "    # We fit observations using each one of the HG, HG12 and HG1G2 models \n",
    "    # and store the resulting solutions in a dictionary of dictionaries.\n",
    "    # Save np.nan values when the fit has not been converged\n",
    "    solutions = {}\n",
    "\n",
    "    # Let's do HG first\n",
    "    sol_HG = fit(reducedMag, phaseAngle, magSigma, model=HG_model)\n",
    "\n",
    "    solutions['HG'] = {}  \n",
    "    try:\n",
    "        solutions['HG']['chi2'] = np.sum(sol_HG[2]['fvec']**2)\n",
    "        solutions['HG']['H'] = sol_HG[0][0]\n",
    "        solutions['HG']['G'] = sol_HG[0][1]\n",
    "        solutions['HG']['H_err'] = np.sqrt(sol_HG[1][0,0])\n",
    "        solutions['HG']['G_err'] = np.sqrt(sol_HG[1][1,1])\n",
    "        solutions['HG']['cov'] = sol_HG[1]\n",
    "    except TypeError:\n",
    "        if verbose:\n",
    "            print('HG model is not converging')\n",
    "        solutions['HG']['chi2'] = np.nan\n",
    "        solutions['HG']['H'] = np.nan\n",
    "        solutions['HG']['G'] = np.nan\n",
    "        solutions['HG']['H_err'] = np.nan\n",
    "        solutions['HG']['G_err'] = np.nan\n",
    "        solutions['HG']['cov'] = np.nan            \n",
    "\n",
    "    # Now HG12\n",
    "    sol_HG12 = fit(reducedMag, phaseAngle, magSigma, model=HG12_model)\n",
    "\n",
    "    solutions['HG12'] = {}\n",
    "    try:\n",
    "        solutions['HG12']['chi2'] = np.sum(sol_HG12[2]['fvec']**2)\n",
    "        solutions['HG12']['H'] = sol_HG12[0][0]\n",
    "        solutions['HG12']['G12'] = sol_HG12[0][1]\n",
    "        solutions['HG12']['H_err'] = np.sqrt(sol_HG12[1][0,0])\n",
    "        solutions['HG12']['G12_err'] = np.sqrt(sol_HG12[1][1,1])\n",
    "        solutions['HG12']['cov'] = sol_HG12[1]\n",
    "    except TypeError:\n",
    "        if verbose:\n",
    "            print('HG12 model is not converging')\n",
    "        solutions['HG12']['chi2'] = np.nan\n",
    "        solutions['HG12']['H'] = np.nan\n",
    "        solutions['HG12']['G12'] = np.nan\n",
    "        solutions['HG12']['H_err'] = np.nan\n",
    "        solutions['HG12']['G12_err'] = np.nan\n",
    "        solutions['HG12']['cov'] = np.nan\n",
    "\n",
    "    # Finally, HG1G2 - note this returns an extra parameter\n",
    "    sol_HG1G2 = fit(reducedMag, phaseAngle, magSigma, model=HG1G2_model, params=[0.1, 0.1])\n",
    "    \n",
    "    solutions['HG1G2'] = {}\n",
    "    try:\n",
    "        solutions['HG1G2']['chi2'] = np.sum(sol_HG1G2[2]['fvec']**2)\n",
    "        solutions['HG1G2']['H'] = sol_HG1G2[0][0]\n",
    "        solutions['HG1G2']['G1'] = sol_HG1G2[0][1]\n",
    "        solutions['HG1G2']['G2'] = sol_HG1G2[0][2]\n",
    "        solutions['HG1G2']['H_err'] = np.sqrt(sol_HG1G2[1][0,0])\n",
    "        solutions['HG1G2']['G1_err'] = np.sqrt(sol_HG1G2[1][1,1])\n",
    "        solutions['HG1G2']['G2_err'] = np.sqrt(sol_HG1G2[1][2,2])\n",
    "        solutions['HG1G2']['cov'] = sol_HG1G2[1]\n",
    "    except TypeError:\n",
    "        if verbose: \n",
    "            print('HG1G2 model is not converging')\n",
    "        solutions['HG1G2']['chi2'] = np.nan\n",
    "        solutions['HG1G2']['H'] = np.nan\n",
    "        solutions['HG1G2']['G1'] = np.nan\n",
    "        solutions['HG1G2']['G2'] = np.nan\n",
    "        solutions['HG1G2']['H_err'] = np.nan\n",
    "        solutions['HG1G2']['G1_err'] = np.nan\n",
    "        solutions['HG1G2']['G2_err'] = np.nan\n",
    "        solutions['HG1G2']['cov'] = np.nan\n",
    "        \n",
    "    return solutions"
   ]
  },
  {
   "cell_type": "markdown",
   "id": "ec51ac0b",
   "metadata": {
    "tags": []
   },
   "source": [
    "## 2. Querying the DP0.3 tables and fitting phase curves of SS objects\n",
    "\n",
    "### 2.1 Create the Rubin TAP Service Client\n",
    "\n",
    "Get an instance of the TAP service, and assert that it exists."
   ]
  },
  {
   "cell_type": "code",
   "execution_count": null,
   "id": "81b8cd59-1ba3-4eaa-846f-6478ed0c3cf5",
   "metadata": {
    "tags": []
   },
   "outputs": [],
   "source": [
    "service = get_tap_service(\"ssotap\")\n",
    "assert service is not None"
   ]
  },
  {
   "cell_type": "markdown",
   "id": "bf968de5-ce59-41c9-88f0-83cd88bdc083",
   "metadata": {},
   "source": [
    "### 2.2 Querying the DP0.3 SSObject and MPCORB catalogs"
   ]
  },
  {
   "cell_type": "markdown",
   "id": "171e087c-b314-48f7-8f22-6013115f2cb9",
   "metadata": {},
   "source": [
    "For phase curve fitting, we need apparent magnitudes & uncertainties, phase angles, topocentric (tdist) and heliocentric (rdist) distances.\n",
    "\n",
    "_In the ssObjectTable, the column G12 is correct in that the final table\n",
    "should contain the parameter G12, however, the existing version of the column\n",
    "actually contains parameter G (and therefore should be compared to the HG_model\n",
    "not HG12 model. The plan is to replace the contents of G12 column with actual G12\n",
    "fit parameters in the final version. This needs to be checked before release._ \n"
   ]
  },
  {
   "cell_type": "code",
   "execution_count": null,
   "id": "5d59d020-7e09-4626-9aa8-287bc20187d0",
   "metadata": {
    "tags": []
   },
   "outputs": [],
   "source": [
    "# To keep a reasonable run time for this tutorial, we select objects with number of objects > 3000 and arc > 3000 days. \n",
    "nobs_thrh = '3000' # Number of LSST observations\n",
    "arc_thrh = '3000' # Arc of LSST observations; units in days"
   ]
  },
  {
   "cell_type": "code",
   "execution_count": null,
   "id": "9841c6de-f012-41e7-aae7-23da5c77e4e6",
   "metadata": {
    "tags": []
   },
   "outputs": [],
   "source": [
    "# Getting a table of columns for unique objects with number of observations > nobs_thrh and arc longer than arc_thrh\n",
    "query = \"\"\"\n",
    "SELECT \n",
    "    mpc.ssObjectId, mpc.q, mpc.mpcG, mpc.mpcH,\n",
    "    sso.arc, sso.numObs, \n",
    "    sso.uH, sso.uHerr, sso.uG12, sso.uG12err, sso.uH_uG12_Cov,\n",
    "    sso.gH, sso.gHerr, sso.gG12, sso.gG12err, sso.gH_gG12_Cov,\n",
    "    sso.rH, sso.rHerr, sso.rG12, sso.rG12err, sso.rH_rG12_Cov,\n",
    "    sso.iH, sso.iHerr, sso.iG12, sso.iG12err, sso.iH_iG12_Cov,\n",
    "    sso.zH, sso.zHerr, sso.zG12, sso.zG12err, sso.zH_zG12_Cov,\n",
    "    sso.yH, sso.yHerr, sso.yG12, sso.yG12err, sso.yH_yG12_Cov\n",
    "FROM \n",
    "    dp03_catalogs.MPCORB as mpc \n",
    "INNER JOIN dp03_catalogs.SSObject as sso \n",
    "ON mpc.ssObjectId = sso.ssObjectId \n",
    "WHERE sso.numObs > {} AND sso.arc > {} ORDER by sso.ssObjectId \n",
    "\"\"\".format(nobs_thrh, arc_thrh)\n",
    "\n",
    "df_uniqueObj = service.search(query).to_table()\n",
    "df_uniqueObj"
   ]
  },
  {
   "cell_type": "markdown",
   "id": "977dd781-f675-4ed4-89ac-07cb6042515e",
   "metadata": {},
   "source": [
    "### 2.3 Querying the DP0.3 DiaSource and SSSource catalogs\n",
    "\n",
    "Getting time series data for the unique objects selected above. This query usually takes ~30 sec."
   ]
  },
  {
   "cell_type": "code",
   "execution_count": null,
   "id": "bb665e68-f274-4c50-9b82-4899b084c33a",
   "metadata": {
    "tags": []
   },
   "outputs": [],
   "source": [
    "query = \"\"\"\n",
    "SELECT \n",
    "    dia.ssObjectId, dia.diaSourceId, dia.mag,\n",
    "    dia.magSigma, dia.filter, dia.midPointTai, \n",
    "    sss.phaseAngle, sss.topocentricDist, sss.heliocentricDist\n",
    "FROM \n",
    "    dp03_catalogs.DiaSource as dia\n",
    "INNER JOIN \n",
    "    dp03_catalogs.SSSource as sss\n",
    "ON \n",
    "    dia.diaSourceId = sss.diaSourceId\n",
    "WHERE \n",
    "    dia.ssObjectId \n",
    "    IN (\n",
    "        SELECT sso.ssObjectId\n",
    "        FROM dp03_catalogs.SSObject as sso \n",
    "        WHERE sso.numObs > {} AND sso.arc > {}\n",
    "        )\n",
    "ORDER by dia.ssObjectId \n",
    "\"\"\".format(nobs_thrh, arc_thrh)\n",
    "\n",
    "df_indivObs = service.search(query).to_table()\n",
    "df_indivObs"
   ]
  },
  {
   "cell_type": "markdown",
   "id": "e366f714-8078-40a5-9eee-65639fa293ca",
   "metadata": {},
   "source": [
    "Double check if the number of unique objects in df_indivObs is identical to that of df_uniqueObj."
   ]
  },
  {
   "cell_type": "code",
   "execution_count": null,
   "id": "077c9400-f3fe-422d-bb2b-7ad0f2587e3d",
   "metadata": {
    "tags": []
   },
   "outputs": [],
   "source": [
    "assert len(df_uniqueObj) == len(np.unique(df_indivObs['ssObjectId']))"
   ]
  },
  {
   "cell_type": "markdown",
   "id": "f57f57e2-a386-46af-a527-73d397658b72",
   "metadata": {},
   "source": [
    "### 2.4 Fitting phase curve per filter per unique object using three different fitting functions"
   ]
  },
  {
   "cell_type": "markdown",
   "id": "392ff14e-eca1-4677-8de8-4dae0e6811bc",
   "metadata": {},
   "source": [
    "Compute reduced magnitude for each observation and add it as a column to the df_indivObs. Reduced magnitude is normalized apparent magnitude of an asteroid to make as if it is observed at 1 AU from both the Sun and the Earth."
   ]
  },
  {
   "cell_type": "code",
   "execution_count": null,
   "id": "3a387ad4-6057-4631-84fc-da9f99559b26",
   "metadata": {
    "tags": []
   },
   "outputs": [],
   "source": [
    "dmag = -5. * np.log10(df_indivObs['topocentricDist']*df_indivObs['heliocentricDist'])\n",
    "reduced_mag = df_indivObs['mag'] + dmag\n",
    "\n",
    "df_indivObs.add_column(reduced_mag, name='reducedMag')"
   ]
  },
  {
   "cell_type": "markdown",
   "id": "98becb52-7bd3-44d8-9b06-f00b9a419467",
   "metadata": {},
   "source": [
    "Fitting phase curve per filter per unique object using three different fitting functions. This cell takes ~6 min for 269 unique objects with the medium container size."
   ]
  },
  {
   "cell_type": "code",
   "execution_count": null,
   "id": "5771b7ed-a488-47b5-9c19-91beae25843a",
   "metadata": {
    "tags": []
   },
   "outputs": [],
   "source": [
    "fitted_array = []\n",
    "\n",
    "for iobj in df_uniqueObj['ssObjectId']:\n",
    "    idx = df_indivObs['ssObjectId'] == iobj\n",
    "    df_tmp = df_indivObs[idx]\n",
    "    filts = np.unique(df_tmp['filter'])\n",
    "    for ifilt in filts:\n",
    "        idx_filt = df_tmp['filter'] == ifilt\n",
    "        nobs_ifilt = len(df_tmp[idx_filt])\n",
    "    \n",
    "        # number of observations needs to be greater than the number of fit parameter, which is 3.\n",
    "        if nobs_ifilt > 3:\n",
    "            x_fitted = fit_models(df_tmp['reducedMag'][idx_filt], \n",
    "                                  df_tmp['magSigma'][idx_filt], \n",
    "                                  df_tmp['phaseAngle'][idx_filt]\n",
    "                                  )\n",
    "            fitted_array.append([iobj, ifilt, x_fitted])"
   ]
  },
  {
   "cell_type": "code",
   "execution_count": null,
   "id": "7e3a2828-febe-4036-8f5c-06120a014310",
   "metadata": {
    "tags": []
   },
   "outputs": [],
   "source": [
    "results = pd.DataFrame(fitted_array)\n",
    "results.columns=['ssObjectId', 'fname', 'fit_param']\n",
    "\n",
    "# Uncomment the line below if you want to display the contents of the model fit return:\n",
    "# print(x_fitted)"
   ]
  },
  {
   "cell_type": "markdown",
   "id": "a57c8214-2e6b-4355-af8d-284527705faa",
   "metadata": {},
   "source": [
    "Converting the fit parameter dictionary to individual columns in a pandas dataframe makes it easy to read each parameters. But it also takes some time. It might be great if we can come up with a more efficient way of storing and accessing all the necessary columns for making plots and doing analysis in later parts of this tutorial."
   ]
  },
  {
   "cell_type": "code",
   "execution_count": null,
   "id": "fc5cbf77-0299-4063-86f1-533bc42fca60",
   "metadata": {
    "tags": []
   },
   "outputs": [],
   "source": [
    "results = results[['ssObjectId', 'fname']].join(pd.json_normalize(results.fit_param))"
   ]
  },
  {
   "cell_type": "code",
   "execution_count": null,
   "id": "8447c26c-0f37-464e-8577-401ec764134b",
   "metadata": {
    "tags": []
   },
   "outputs": [],
   "source": [
    "# Plot the G vs H paramters from the two 2-parameter model fits: HG and HG12\n",
    "fig = plt.figure(figsize=(13,8))\n",
    "gs = fig.add_gridspec(2, 3, wspace=0, hspace=0)\n",
    "axs = gs.subplots(sharex=True, sharey=True)\n",
    "axs = axs.ravel()\n",
    "\n",
    "for i,ifilt in enumerate(filts):\n",
    "    axs[i].errorbar(results[results.fname==ifilt]['HG.H'],\n",
    "                    results[results.fname==ifilt]['HG.G'], \n",
    "                    xerr=results[results.fname==ifilt]['HG.H_err'],\n",
    "                    yerr=results[results.fname==ifilt]['HG.G_err'],\n",
    "                    fmt='.', alpha=0.5, label='HG model')\n",
    "    axs[i].errorbar(results[results.fname==ifilt]['HG12.H'],\n",
    "                    results[results.fname==ifilt]['HG12.G12'], \n",
    "                    xerr=results[results.fname==ifilt]['HG12.H_err'],\n",
    "                    yerr=results[results.fname==ifilt]['HG12.G12_err'], \n",
    "                    fmt='.', alpha=0.5, label='HG12 model')\n",
    "        \n",
    "    plt.yscale('log')\n",
    "    axs[i].text(17, 7, ifilt+'-band')\n",
    "\n",
    "fig.supxlabel('Absolute magnitude, H [mag]')\n",
    "fig.supylabel('Slope parameter, G')\n",
    "axs[0].legend(loc=2)"
   ]
  },
  {
   "cell_type": "code",
   "execution_count": null,
   "id": "3523f9a4-1773-4731-97c8-8d14c1487846",
   "metadata": {
    "tags": []
   },
   "outputs": [],
   "source": [
    "# Plot example phase curves in u,g,r,i,z,y for a single object\n",
    "iObj = 1 # you can pick any integer number between 0 and 268\n",
    "sId = df_uniqueObj['ssObjectId'][iObj]\n",
    "df_tmp = df_indivObs[df_indivObs['ssObjectId'] == sId]\n",
    "phases = np.linspace(0,90,100)\n",
    "\n",
    "for i,ifilt in enumerate(filts):\n",
    "    idx = df_tmp['filter'] == ifilt\n",
    "    \n",
    "    # Plot observations\n",
    "    plt.errorbar(df_tmp['phaseAngle'][idx], df_tmp['reducedMag'][idx], yerr=df_tmp['magSigma'][idx],\n",
    "                 fmt='.', color=colors[i], alpha=0.5, label=ifilt)\n",
    "\n",
    "    # Plot HG model\n",
    "    HG_mag = HG_model(np.deg2rad(phases),\n",
    "                     [results[(results.ssObjectId == sId) & (results.fname == ifilt)]['HG.H'].values,\n",
    "                      results[(results.ssObjectId == sId) & (results.fname == ifilt)]['HG.G'].values])\n",
    "    plt.plot(phases, HG_mag, color=colors[i], label ='HG 2-parameter model')\n",
    "    \n",
    "    #Plot HG12 model\n",
    "    HG12_mag = HG12_model(np.deg2rad(phases),\n",
    "                         [results[(results.ssObjectId == sId) & (results.fname == ifilt)]['HG12.H'].values,\n",
    "                          results[(results.ssObjectId == sId) & (results.fname == ifilt)]['HG12.G12'].values])\n",
    "    plt.plot(phases, HG12_mag, color=colors[i], linestyle='--',  label ='HG12 2-parameter model')\n",
    "    \n",
    "    # Plot HG1G2 model \n",
    "    HG1G2_mag = HG1G2_model(np.deg2rad(phases), \n",
    "                           [results[(results.ssObjectId == sId) & (results.fname == ifilt)]['HG1G2.H'].values,\n",
    "                            results[(results.ssObjectId == sId) & (results.fname == ifilt)]['HG1G2.G1'].values,\n",
    "                            results[(results.ssObjectId == sId) & (results.fname == ifilt)]['HG1G2.G2'].values])\n",
    "    plt.plot(phases, HG1G2_mag, color=colors[i], linestyle='dotted',  label ='HG1G2 3-parameter model')\n",
    "    \n",
    "plt.xlim(df_tmp['phaseAngle'].min()-5, df_tmp['phaseAngle'].max()+5)\n",
    "plt.ylim(df_tmp['reducedMag'].max()+0.5, df_tmp['reducedMag'].min()-0.5)\n",
    "plt.xlabel('Phase Angle [deg]')\n",
    "plt.ylabel('Reduced magnitude [mag]')\n",
    "plt.legend(bbox_to_anchor=(1.05, 1.0), loc='upper left', ncol=2)\n",
    "plt.title('ssObjectId = %d' % sId)"
   ]
  },
  {
   "cell_type": "markdown",
   "id": "d90bfc05-7f77-49a8-8db8-3bb1d1186471",
   "metadata": {},
   "source": [
    "### 2.5 Explore phase curve fit uncertainty"
   ]
  },
  {
   "cell_type": "code",
   "execution_count": null,
   "id": "2b072f76-a90b-4a75-89ff-65cc00c8c1cf",
   "metadata": {
    "tags": []
   },
   "outputs": [],
   "source": [
    "# Note: df_uniqueObj contains the model params and errors\n",
    "\n",
    "# For the same unique object picked in the above cell, we delve into u- and i-filters \n",
    "# to demonstrate fit uncertainty in a sharp contrast\n",
    "\n",
    "for ifilt in ['u', 'i']:\n",
    "    idx = df_tmp['filter'] == ifilt\n",
    "    plt.errorbar(df_tmp['phaseAngle'][idx], df_tmp['reducedMag'][idx], yerr=df_tmp['magSigma'][idx],\n",
    "                 fmt='o', label=ifilt, zorder=10)\n",
    "\n",
    "    # Grab the phase curve parameters for the HG12 model stored in SSObject Table.\n",
    "    # In priciple, these parameters should be identical to those derived for the HG12 model above in this NB.\n",
    "    HG_mag_sso = HG_model(np.deg2rad(phases), [df_uniqueObj[ifilt+'H'][iObj], df_uniqueObj[ifilt+'G12'][iObj]])\n",
    "    plt.plot(phases, HG_mag_sso, 'k--', alpha=0.3)\n",
    "    \n",
    "    # Compute min/max values in reduced mag at each phase angle\n",
    "    p1 = HG_model(np.deg2rad(phases), [df_uniqueObj[ifilt+'H'][iObj] + df_uniqueObj[ifilt+'Herr'][iObj], \n",
    "                                       df_uniqueObj[ifilt+'G12'][iObj] + df_uniqueObj[ifilt+'G12err'][iObj]])\n",
    "\n",
    "    p2 = HG_model(np.deg2rad(phases), [df_uniqueObj[ifilt+'H'][iObj] - df_uniqueObj[ifilt+'Herr'][iObj], \n",
    "                                       df_uniqueObj[ifilt+'G12'][iObj] + df_uniqueObj[ifilt+'G12err'][iObj]])\n",
    "\n",
    "    p3 = HG_model(np.deg2rad(phases), [df_uniqueObj[ifilt+'H'][iObj] + df_uniqueObj[ifilt+'Herr'][iObj], \n",
    "                                       df_uniqueObj[ifilt+'G12'][iObj] - df_uniqueObj[ifilt+'G12err'][iObj]])\n",
    "\n",
    "    p4 = HG_model(np.deg2rad(phases), [df_uniqueObj[ifilt+'H'][iObj] - df_uniqueObj[ifilt+'Herr'][iObj], \n",
    "                                       df_uniqueObj[ifilt+'G12'][iObj] - df_uniqueObj[ifilt+'G12err'][iObj]])\n",
    "    \n",
    "    HG_magHigh = np.maximum(np.maximum(p1, p2), np.maximum(p3, p4))\n",
    "    HG_magLow = np.minimum(np.minimum(p1, p2), np.minimum(p3, p4))\n",
    "    \n",
    "    plt.fill_between(phases, HG_magLow, HG_magHigh, alpha=0.3)\n",
    "\n",
    "plt.xlim(df_tmp['phaseAngle'].min()-5, df_tmp['phaseAngle'].max()+5)\n",
    "plt.ylim(df_tmp['reducedMag'].max()+0.5, df_tmp['reducedMag'].min()-0.5)\n",
    "plt.xlabel('Phase Angle [deg]')\n",
    "plt.ylabel('Reduced magnitude [mag]')\n",
    "plt.legend(bbox_to_anchor=(1.05, 1.0), loc='upper left')\n",
    "plt.title('ssObjectId = %d' % sId)"
   ]
  },
  {
   "cell_type": "markdown",
   "id": "b75ee539-b0a8-4290-a59c-e5452d138600",
   "metadata": {},
   "source": [
    "Here we compare the typical apparent magnitude uncertainties per band to see how that impacts the fit. "
   ]
  },
  {
   "cell_type": "code",
   "execution_count": null,
   "id": "eae70ca2-c3fa-4ae7-9020-aaaab89aab83",
   "metadata": {
    "tags": []
   },
   "outputs": [],
   "source": [
    "# Compute meadian apparent magnitude and its median uncertainty in r-filter in this example\n",
    "mag_med = []\n",
    "magSigma_med = []\n",
    "ifilt = 'r'\n",
    "    \n",
    "for iobj in df_uniqueObj['ssObjectId']:\n",
    "    idx = df_indivObs['ssObjectId'] == iobj\n",
    "    df_tmp = df_indivObs[idx]\n",
    "    idx_filt = df_tmp['filter'] == ifilt\n",
    "    \n",
    "    mag_med.append(np.median(df_tmp['mag'][idx_filt]))\n",
    "    magSigma_med.append(np.median(df_tmp['magSigma'][idx_filt]))\n",
    "    \n",
    "# Plot phase curve parameters vs. median apparent magnitude and its median uncertainty\n",
    "plt.figure(figsize=(13,5))\n",
    "\n",
    "plt.subplot(121)\n",
    "plt.plot(mag_med, df_uniqueObj[ifilt+'Herr'], '.', alpha=.5, label=ifilt+'-band abs mag H')\n",
    "plt.plot(mag_med, df_uniqueObj[ifilt+'G12err'], '.', alpha=.5, label=ifilt+'-band G parameter')\n",
    "plt.ylabel('Uncertainty in phase curve fit')\n",
    "plt.xlabel('Median apparent mag')\n",
    "plt.legend()\n",
    "\n",
    "plt.subplot(122)\n",
    "plt.plot(magSigma_med, df_uniqueObj[ifilt+'Herr'],'.',alpha=.5)\n",
    "plt.plot(magSigma_med, df_uniqueObj[ifilt+'G12err'],'.',alpha=.5)\n",
    "plt.ylabel('Uncertainty in phase curve fit')\n",
    "plt.xlabel('Median uncertainty in apparent mag')\n",
    "\n",
    "plt.tight_layout()"
   ]
  },
  {
   "cell_type": "markdown",
   "id": "3e4cf814-647a-4237-aca1-38f4c6977b39",
   "metadata": {},
   "source": [
    "Clean up all before moving on to population study"
   ]
  },
  {
   "cell_type": "code",
   "execution_count": null,
   "id": "074e08d9-ef5a-4658-993e-f5306a653aa7",
   "metadata": {},
   "outputs": [],
   "source": [
    "del df_uniqueObj, df_indivObs, results"
   ]
  },
  {
   "cell_type": "markdown",
   "id": "df408bac-a77a-4997-b946-b8f12bda924c",
   "metadata": {},
   "source": [
    "## 3. Population study of measurements of the SS objects DP0.3 tables \n",
    "\n",
    "Now that we have demonstrated how to fit a phase curve to DP0.3 data, experimented with 3 different models, and compared those to the automated fits that are stored in the SSObject Table, we look at the population in aggregate: population study with the fit results (e.g., how the fit values differ due to number of observations, or for near/far or bright/faint objects)."
   ]
  },
  {
   "cell_type": "code",
   "execution_count": null,
   "id": "d9ab0a46-f65a-4cde-a665-4231fa65d291",
   "metadata": {
    "tags": []
   },
   "outputs": [],
   "source": [
    "# First, re-query for a table of columns for unique objects with number of observations and arc over larger\n",
    "# dynamic range than before, and add some extra criteria of use in assessing uncertainty. To decide: is\n",
    "# this second query is necessary, or should we adapt the earlier query and sub-sample it with \n",
    "# nobs_thrh and arc_thrh >3000, since the query takes a long time (~5 min).\n",
    "\n",
    "nobs_thrh = 50 \n",
    "arc_thrh = 100\n",
    "\n",
    "query = \"\"\"\n",
    "SELECT TOP 50000\n",
    "    mpc.ssObjectId, mpc.q, sso.arc, sso.numObs, \n",
    "    sso.uH, sso.uHerr, sso.uG12, sso.uG12err, \n",
    "    sso.gH, sso.gHerr, sso.gG12, sso.gG12err, \n",
    "    sso.rH, sso.rHerr, sso.rG12, sso.rG12err, \n",
    "    sso.iH, sso.iHerr, sso.iG12, sso.iG12err, \n",
    "    sso.zH, sso.zHerr, sso.zG12, sso.zG12err, \n",
    "    sso.yH, sso.yHerr, sso.yG12, sso.yG12err,\n",
    "    sso.uNdata, sso.gNdata, sso.rNdata, \n",
    "    sso.iNdata, sso.zNdata, sso.yNdata\n",
    "FROM \n",
    "    dp03_catalogs.MPCORB as mpc \n",
    "INNER JOIN dp03_catalogs.SSObject as sso \n",
    "ON mpc.ssObjectId = sso.ssObjectId \n",
    "WHERE sso.numObs > {} AND sso.arc > {} \n",
    "\"\"\".format(nobs_thrh, arc_thrh)\n",
    "\n",
    "res = service.search(query).to_table().to_pandas()\n",
    "res"
   ]
  },
  {
   "cell_type": "markdown",
   "id": "757b4299-4027-4c2e-b724-7cc250a08eca",
   "metadata": {
    "execution": {
     "iopub.execute_input": "2023-07-26T22:07:31.329924Z",
     "iopub.status.busy": "2023-07-26T22:07:31.329022Z",
     "iopub.status.idle": "2023-07-26T22:07:31.332845Z",
     "shell.execute_reply": "2023-07-26T22:07:31.332248Z",
     "shell.execute_reply.started": "2023-07-26T22:07:31.329889Z"
    },
    "tags": []
   },
   "source": [
    "### 3.1 Distribution of H and G parameters in all six filters\n"
   ]
  },
  {
   "cell_type": "code",
   "execution_count": null,
   "id": "62d0dc79-c46b-459d-ab27-d0ce6470ef4a",
   "metadata": {
    "tags": []
   },
   "outputs": [],
   "source": [
    "# Plot the G vs H paramters from the two 2-parameter model fits: HG and HG12\n",
    "fig = plt.figure(figsize=(13,8))\n",
    "gs = fig.add_gridspec(2, 3, wspace=0, hspace=0)\n",
    "axs = gs.subplots(sharex=True, sharey=True)\n",
    "axs = axs.ravel()\n",
    "\n",
    "for i,ifilt in enumerate(filts):\n",
    "    sns.histplot(x=res[ifilt+'H'], y=res[ifilt+'G12'], bins=100, log_scale=(False, True), ax=axs[i])\n",
    "    axs[i].text(20, 30, ifilt+'-band')\n",
    "    axs[i].set(xlabel=None)\n",
    "    axs[i].set(ylabel=None)\n",
    "\n",
    "fig.supxlabel('Absolute magnitude, H [mag]')\n",
    "fig.supylabel('Slope parameter, G')"
   ]
  },
  {
   "cell_type": "markdown",
   "id": "c071e963-ebb9-45f0-bdde-6c43269dc6b2",
   "metadata": {},
   "source": [
    "### 3.2 Exploration based on numObs (total number) and arc (total baseline in days) of LSST observations\n",
    "\n",
    "First, we have a look at how phase curve modeling accuracy might depend on \"global\" measurements (across all filters). For this section we compare total number of observations for a given source (numObs) and the total time baseline across which observations are made (arc of LSST observations) and explore whether or not these factors impact the quality of phase curve modeling. In general, the first plot shows that more observations yields lower uncertainties in the model fits. I have to admit I don't totally understand the second plot comparing uncertainties as a function of time baseline of observations (arc). I am guessing that longer arc does not translate directly to lower uncertainties, since most(?) of the objects in the catalog are distant (fewer sources close to sun?). Since distant objects can have quite long orbits, perhaps the requisite arc for a good fit varies substantially within the population? Maybe this plot would yield better results if the comparison is made after the sample is grouped by heliocentric distance or something."
   ]
  },
  {
   "cell_type": "code",
   "execution_count": null,
   "id": "1f572d01-6e33-4107-b125-0134ba141500",
   "metadata": {
    "tags": []
   },
   "outputs": [],
   "source": [
    "fig = plt.figure(figsize=(10,10))\n",
    "gs = fig.add_gridspec(2, 2, wspace=0)\n",
    "axs = gs.subplots(sharey=True)\n",
    "\n",
    "# Uncertainty in i-band absolute magnitude vs. Number of LSST observations\n",
    "sns.histplot(x=res['numObs'], y=res['iHerr'], bins=100, log_scale=(False, True), ax=axs[0,0])\n",
    "axs[0,0].set_xlabel('Number of LSST observations')\n",
    "\n",
    "# Uncertainty in i-band absolute magnitude vs. length of arc\n",
    "sns.histplot(x=res['arc'], y=res['iHerr'], bins=100, ax=axs[0,1])\n",
    "axs[0,1].set_xlabel('Arc [days]')\n",
    "\n",
    "# Uncertainty in i-band slope parameter vs. Number of LSST observations\n",
    "sns.histplot(x=res['numObs'], y=res['iG12err'], bins=100, ax=axs[1,0])\n",
    "axs[1,0].set_xlabel('Number of LSST observations')\n",
    "\n",
    "# Uncertainty in i-band slope parameter vs. length of arc\n",
    "sns.histplot(x=res['arc'], y=res['iG12err'], bins=100, ax=axs[1,1])\n",
    "axs[1,1].set_xlabel('Arc [days]')"
   ]
  },
  {
   "cell_type": "markdown",
   "id": "72e8f22e-96f1-4061-be95-b580eb3cd33e",
   "metadata": {},
   "source": [
    "### 3.3 Number of data used per band\n",
    "\n",
    "The above plots compare numObs (total) with model fits (per band) which may not be the ideal metric since as one can see from the modeling of individual objects in different filters in Section 2.4, the quality of phase curves can vary quite a bit between filters. Instead, we can look at the number of datapoints included in the phase curve modeling on a per filter basis (i.e. rNdata for the r-band in the SSObject Table). Below, we look at the distribution of the number of observations in each filter used to model the phase curve per filter for all SSObjects which in total have more than 100 numObs and arc (as per query above). One can see that generally, r and i bands produce the most data points for recovering phase curves, while u-band produces the fewest. In the second plot, one can see that the "
   ]
  },
  {
   "cell_type": "code",
   "execution_count": null,
   "id": "a37e63c9-6d7a-47d7-afe1-8f20aad2794a",
   "metadata": {
    "tags": []
   },
   "outputs": [],
   "source": [
    "fig, axs = plt.subplots(1, 2, figsize=(13,4))\n",
    "\n",
    "filters = ['u','g','r','i','z','y']\n",
    "for i,ifilt in enumerate(filters):\n",
    "    axs[0].hist(res[ifilt+'Ndata'], bins=100, range=(0,1300), histtype='step', label=ifilt+'-band')\n",
    "    \n",
    "axs[0].set_yscale('log')\n",
    "axs[0].legend()\n",
    "axs[0].set_xlabel('Number of data points per filter')\n",
    "axs[0].set_ylabel('Number of sources')\n",
    "\n",
    "\n",
    "sns.histplot(x=res['rNdata'], y=100*res['rHerr']/res['rH'], \n",
    "             bins=100, log_scale=(False, True), color='r', alpha=0.7, ax=axs[1])\n",
    "sns.histplot(x=res['uNdata'], y=100*res['uHerr']/res['uH'], \n",
    "             bins=100, log_scale=(False, True), color='b', ax=axs[1])\n",
    "    \n",
    "axs[1].set_xlabel('Number of data points per filter')\n",
    "axs[1].set_ylabel('Fractional Uncertainty in H [%]')\n",
    "r_patch = mpatches.Patch(color='red', alpha=0.7, label='r-band')\n",
    "u_patch = mpatches.Patch(color='blue', label='u-band')\n",
    "axs[1].legend(handles=[r_patch, u_patch])"
   ]
  },
  {
   "cell_type": "markdown",
   "id": "e6200c58-ddd2-4f6d-b8a7-ed883ed26f92",
   "metadata": {},
   "source": [
    "## Brainstorming additional parameters to use for characterizing the measurements \n",
    "These parameters could be useful for the end of section 3, where we explore what measurements we can use that are in df_indivObs and storing a \"quality\" parameter for them in a new column of df_uniqObj. \n",
    "\n",
    "Some ideas to compare uncertainties to (just pick a couple good informative ones): \n",
    "- number of observations (done)\n",
    "- arc (done)\n",
    "- sso.zNdata (or other filters) = number of datapoints used to fit phase curve (per filter; perhaps less noisy than total number of obs; done)\n",
    "- Pick mean or median apparent mag photometric uncertainty for the best 68% of measurements? (done)\n",
    "- mean or median reduced mag uncertainty for best 68% of measurements? (TBD)\n",
    "- sso.MOID = minimum orbit intersection distance to earth (farther at fixed size means potentially it will stay faint always?) Pedro suggests this will not be a useful metric as it will change a lot and won't be included in 2nd DP0.3 release.\n",
    "- Pick some median dia.snr = signal to noise ratio at which the source was detected in difference image (TBD)"
   ]
  },
  {
   "cell_type": "code",
   "execution_count": null,
   "id": "6796291e-8aa7-45e0-9f8d-202eeb076089",
   "metadata": {},
   "outputs": [],
   "source": []
  }
 ],
 "metadata": {
  "kernelspec": {
   "display_name": "LSST",
   "language": "python",
   "name": "lsst"
  },
  "language_info": {
   "codemirror_mode": {
    "name": "ipython",
    "version": 3
   },
   "file_extension": ".py",
   "mimetype": "text/x-python",
   "name": "python",
   "nbconvert_exporter": "python",
   "pygments_lexer": "ipython3",
   "version": "3.10.10"
  },
  "toc-autonumbering": false
 },
 "nbformat": 4,
 "nbformat_minor": 5
}
