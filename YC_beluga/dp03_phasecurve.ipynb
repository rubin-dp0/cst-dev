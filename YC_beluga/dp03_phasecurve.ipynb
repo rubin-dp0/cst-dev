{
 "cells": [
  {
   "cell_type": "markdown",
   "id": "749b0ddf",
   "metadata": {},
   "source": [
    "<img align=\"left\" src = https://project.lsst.org/sites/default/files/Rubin-O-Logo_0.png width=250 style=\"padding: 10px\"> \n",
    "<b>CET Template Notebook</b> <br>\n",
    "Contact author(s): <i>Author Name</i> <br>\n",
    "Last verified to run: <i>yyyy-mm-dd</i> <br>\n",
    "LSST Science Piplines version: Weekly <i>yyyy_xx</i> <br>\n",
    "Container Size: <i>medium</i> <br>\n",
    "Targeted learning level: <i>beginner</i> <br>"
   ]
  },
  {
   "cell_type": "markdown",
   "id": "2d9cd09b-d5c4-4610-993b-711bdc9bd80e",
   "metadata": {},
   "source": [
    "_In this template, text in italics are examples or instructions that should be: (a) removed if it is not applicable to the notebook; or (b) replaced with text that is appropriate for the notebook. But bold or regular text should appear pretty much as-is in all CET notebooks. For more information, see the [CET's Guidelines for Tutorial Notebooks](https://confluence.lsstcorp.org/pages/viewpage.action?pageId=168857070)._"
   ]
  },
  {
   "cell_type": "markdown",
   "id": "582ab507-a7ae-4024-95c9-38aabeb602a6",
   "metadata": {},
   "source": [
    "_While developing, use the following code cell to check that the code conforms to standards, but then delete the cell and \"Kernel --> Restart Kernel and Clear All Outputs\" before saving and committing._"
   ]
  },
  {
   "cell_type": "code",
   "execution_count": 1,
   "id": "7acc79a4-8530-42d9-96e5-b7acb4397864",
   "metadata": {
    "execution": {
     "iopub.execute_input": "2023-07-12T19:05:01.970447Z",
     "iopub.status.busy": "2023-07-12T19:05:01.970134Z",
     "iopub.status.idle": "2023-07-12T19:05:01.974655Z",
     "shell.execute_reply": "2023-07-12T19:05:01.973607Z",
     "shell.execute_reply.started": "2023-07-12T19:05:01.970407Z"
    }
   },
   "outputs": [],
   "source": [
    "# %load_ext pycodestyle_magic\n",
    "# %flake8_on\n",
    "# import logging\n",
    "# logging.getLogger(\"flake8\").setLevel(logging.FATAL)"
   ]
  },
  {
   "cell_type": "markdown",
   "id": "482777d8-0a8d-432e-ba53-2da536700407",
   "metadata": {},
   "source": [
    "_The six cells below are considered the extended header of the notebook. The first four will be used, verbatim, to create the table of notebook metadata in the README.md file for the repository._"
   ]
  },
  {
   "cell_type": "markdown",
   "id": "9da1a210-d858-42fe-8591-570965b8be1a",
   "metadata": {},
   "source": [
    "**Description:** _Very brief description of notebook._"
   ]
  },
  {
   "cell_type": "markdown",
   "id": "80a0baf5-51ad-40ec-8991-060a7b27c289",
   "metadata": {},
   "source": [
    "**Skills:** _Brief list of skills to match the README.md file for the repository._"
   ]
  },
  {
   "cell_type": "markdown",
   "id": "393da88f-7978-4920-aa4a-a9830df6eed9",
   "metadata": {},
   "source": [
    "**LSST Data Products:** _List the all of the types of LSST catalogs and images used._"
   ]
  },
  {
   "cell_type": "markdown",
   "id": "5c67fab9-136a-4adc-bb42-142b91ab69dd",
   "metadata": {},
   "source": [
    "**Packages:** _List the python packages used._ (_List the packages being taught first, e.g., afwDisplay for a notebook about displaying images. Then supporting packages, e.g., lsst.daf.butler for a notebook about displaying images. It is OK to leave out basic support packages like os or glob.)_"
   ]
  },
  {
   "cell_type": "markdown",
   "id": "8f72b27f",
   "metadata": {},
   "source": [
    "**Credit:**\n",
    "_E.g., \"Originally developed by\" or \"Based on notebooks developed by\" and then people's names, including journal article or software release citations if appropriate._\n",
    "Please consider acknowledging them if this notebook is used for the preparation of journal articles, software releases, or other notebooks."
   ]
  },
  {
   "cell_type": "markdown",
   "id": "28e91cbf-ab7f-4e26-9276-b00299d6065e",
   "metadata": {},
   "source": [
    "**Get Support:**\n",
    "Find DP0-related documentation and resources at <a href=\"https://dp0-2.lsst.io\">dp0-2.lsst.io</a>. Questions are welcome as new topics in the <a href=\"https://community.lsst.org/c/support/dp0\">Support - Data Preview 0 Category</a> of the Rubin Community Forum. Rubin staff will respond to all questions posted there."
   ]
  },
  {
   "cell_type": "markdown",
   "id": "cfc73be0",
   "metadata": {},
   "source": [
    "## 1. Introduction\n",
    "\n",
    "_Provide a light narrative about this notebook, e.g., \"This notebook will teach the user...\"._\n",
    "\n",
    "_Cite or link to any external information or documentation, and cross-reference to other notebooks._"
   ]
  },
  {
   "cell_type": "markdown",
   "id": "dc36f107",
   "metadata": {},
   "source": [
    "### 1.1 Package Imports\n",
    "\n",
    "_All package imports should be done in the first code cell._\n",
    "\n",
    "_Provide explanation or external links to package documentation, where appropriate._\n",
    "\n",
    "_E.g., Numpy is a fundamental package for scientific computing with arrays in Python (<a href=\"https://numpy.org\">numpy.org</a>)._\n",
    "\n",
    "_Use code cell comments to describe the packages being imported._"
   ]
  },
  {
   "cell_type": "code",
   "execution_count": 2,
   "id": "cddc1458",
   "metadata": {
    "execution": {
     "iopub.execute_input": "2023-07-12T19:05:01.978321Z",
     "iopub.status.busy": "2023-07-12T19:05:01.978041Z",
     "iopub.status.idle": "2023-07-12T19:05:04.126726Z",
     "shell.execute_reply": "2023-07-12T19:05:04.125940Z",
     "shell.execute_reply.started": "2023-07-12T19:05:01.978301Z"
    },
    "tags": []
   },
   "outputs": [],
   "source": [
    "# general python packages\n",
    "import numpy as np\n",
    "import pandas as pd\n",
    "import matplotlib.pyplot as plt\n",
    "plt.style.use('tableau-colorblind10')\n",
    "\n",
    "# LSST package for TAP queries\n",
    "from lsst.rsp import get_tap_service, retrieve_query\n",
    "\n",
    "# LSST package for Butler queries\n",
    "import lsst.daf.butler as dafButler\n",
    "\n",
    "# LSST package for image display\n",
    "import lsst.afw.display as afwDisplay\n",
    "\n",
    "from matplotlib import colormaps\n",
    "\n"
   ]
  },
  {
   "cell_type": "markdown",
   "id": "c217adff-25ed-4fce-95e7-8aa04630f6cc",
   "metadata": {},
   "source": [
    "### 1.2 Define Functions and Parameters\n",
    "\n",
    "Import some functions from Pedro"
   ]
  },
  {
   "cell_type": "code",
   "execution_count": 3,
   "id": "37d86162-8557-4f65-9813-ec46818466a9",
   "metadata": {
    "execution": {
     "iopub.execute_input": "2023-07-12T19:05:04.131236Z",
     "iopub.status.busy": "2023-07-12T19:05:04.130624Z",
     "iopub.status.idle": "2023-07-12T19:05:04.329670Z",
     "shell.execute_reply": "2023-07-12T19:05:04.328817Z",
     "shell.execute_reply.started": "2023-07-12T19:05:04.131211Z"
    },
    "tags": []
   },
   "outputs": [],
   "source": [
    "import numpy as np \n",
    "from scipy.interpolate import CubicSpline\n",
    "from scipy.optimize import leastsq\n",
    "#Constants\n",
    "\n",
    "A = [3.332, 1.862]\n",
    "B = [0.631, 1.218]\n",
    "C = [0.986, 0.238]\n",
    "\n",
    "#values taken from sbpy for convenience\n",
    "\n",
    "alpha_12 = np.deg2rad([7.5, 30., 60, 90, 120, 150])\n",
    "\n",
    "phi_1_sp = [7.5e-1, 3.3486016e-1, 1.3410560e-1, 5.1104756e-2, 2.1465687e-2, 3.6396989e-3]\n",
    "phi_1_derivs = [-1.9098593, -9.1328612e-2]\n",
    "\n",
    "phi_2_sp = [9.25e-1, 6.2884169e-1, 3.1755495e-1, 1.2716367e-1, 2.2373903e-2, 1.6505689e-4]\n",
    "phi_2_derivs = [-5.7295780e-1, -8.6573138e-8]\n",
    "\n",
    "alpha_3 = np.deg2rad([0.0, 0.3, 1., 2., 4., 8., 12., 20., 30.])\n",
    "\n",
    "phi_3_sp = [1., 8.3381185e-1, 5.7735424e-1, 4.2144772e-1, 2.3174230e-1, 1.0348178e-1, 6.1733473e-2, 1.6107006e-2, 0.]\n",
    "phi_3_derivs = [-1.0630097, 0]\n",
    "\n",
    "\n",
    "phi_1 = CubicSpline(alpha_12, phi_1_sp, bc_type=((1,phi_1_derivs[0]),(1,phi_1_derivs[1])))\n",
    "phi_2 = CubicSpline(alpha_12, phi_2_sp, bc_type=((1,phi_2_derivs[0]),(1,phi_2_derivs[1])))\n",
    "phi_3 = CubicSpline(alpha_3, phi_3_sp, bc_type=((1,phi_3_derivs[0]),(1,phi_3_derivs[1])))\n",
    "\n",
    "\n",
    "def HG_model(phase, params):\n",
    "    \"\"\"\n",
    "    Reference: Bowell et al. (1989)\n",
    "    This is the oldest 2 parameter model. \n",
    "    \"\"\"\n",
    "    sin_a = np.sin(phase)\n",
    "    tan_ah = np.tan(phase/2)\n",
    "    \n",
    "    W = np.exp(-90.56 * tan_ah * tan_ah)    \n",
    "    scale_sina = sin_a/(0.119 + 1.341*sin_a - 0.754*sin_a*sin_a)\n",
    "    \n",
    "    phi_1_S = 1 - C[0] * scale_sina\n",
    "    phi_2_S = 1 - C[1] * scale_sina\n",
    "    \n",
    "    phi_1_L = np.exp(-A[0] * np.power(tan_ah, B[0]))\n",
    "    phi_2_L = np.exp(-A[1] * np.power(tan_ah, B[1]))\n",
    "    \n",
    "    phi_1 = W * phi_1_S + (1-W) * phi_1_L\n",
    "    phi_2 = W * phi_2_S + (1-W) * phi_2_L\n",
    "    return params[0] - 2.5*np.log10((1-params[1])* phi_1 + (params[1]) * phi_2) \n",
    "\n",
    "\n",
    "\n",
    "def HG1G2_model(phase, params):\n",
    "    \"\"\"\n",
    "    Reference: Muinonen et al. (2010) https://ui.adsabs.harvard.edu/abs/2010Icar..209..542M/abstract\n",
    "    This is the 3 parameter model, which works best when you have a sufficiently long phaseangle coverage.\n",
    "    \"\"\"\n",
    "\n",
    "    tan_ah = np.tan(phase/2)\n",
    "\n",
    "    phi_1_ev = phi_1(phase)  \n",
    "    phi_2_ev = phi_2(phase)  \n",
    "    phi_3_ev = phi_3(phase)  \n",
    "\n",
    "    msk = phase < 7.5 * np.pi/180\n",
    "\n",
    "    phi_1_ev[msk] = 1-6*phase[msk]/np.pi \n",
    "    phi_2_ev[msk] = 1- 9 * phase[msk]/(5*np.pi)\n",
    "\n",
    "    phi_3_ev[phase > np.pi/6] = 0\n",
    "\n",
    "    return params[0] - 2.5 * np.log10(params[1] * phi_1_ev + params[2] * phi_2_ev + (1-params[1]-params[2]) * phi_3_ev)\n",
    "\n",
    "\n",
    "def HG12_model(phase, params): \n",
    "    \"\"\"\n",
    "    Reference:\n",
    "    Muinonen et al. (2010) https://ui.adsabs.harvard.edu/abs/2010Icar..209..542M/abstract\n",
    "    This is a simplified version of HG1G2. It's more useful when phaseangle coverage is shorter.\n",
    "    \"\"\"\n",
    "    if params[1] >= 0.2:\n",
    "        G1 = +0.9529*params[1] + 0.02162 \n",
    "        G2 = -0.6125*params[1] + 0.5572\n",
    "    else:\n",
    "        G1 = +0.7527*params[1] + 0.06164  \n",
    "        G2 = -0.9612*params[1] + 0.6270\n",
    "\n",
    "    return HG1G2_model(phase, [params[0], G1, G2])\n",
    "\n",
    "\n",
    "def chi2(params, mag, phase, mag_err, model):\n",
    "    pred = model(phase, params)\n",
    "    return (mag - pred)/mag_err\n",
    "\n",
    "\n",
    "def fit(mag, phase, sigma, model=HG12_model, params=[0.1]):\n",
    "    phase = np.deg2rad(phase)\n",
    "\n",
    "    sol = leastsq(chi2, [mag[0]] + params,  (mag, phase, sigma, model), full_output = True)\n",
    "\n",
    "    return sol"
   ]
  },
  {
   "cell_type": "code",
   "execution_count": 4,
   "id": "5cdf1dd4-10b7-4c1f-8f4f-b4ab252822a6",
   "metadata": {
    "execution": {
     "iopub.execute_input": "2023-07-12T19:05:04.333282Z",
     "iopub.status.busy": "2023-07-12T19:05:04.332878Z",
     "iopub.status.idle": "2023-07-12T19:05:04.345543Z",
     "shell.execute_reply": "2023-07-12T19:05:04.344842Z",
     "shell.execute_reply.started": "2023-07-12T19:05:04.333260Z"
    },
    "tags": []
   },
   "outputs": [],
   "source": [
    "def fit_models(mag, magSigma, phaseAngle, tdist, rdist, verbose=False):\n",
    "\n",
    "    # correct the mag to 1AU distance\n",
    "    dmag = -5. * np.log10(tdist*rdist)\n",
    "    mag = mag + dmag\n",
    "\n",
    "    #double check if this is needed\n",
    "    #phaseAngle = np.deg2rad(phaseAngle)\n",
    "\n",
    "    # now we'll fit using each one of the HG, HG12 and HG1G2 models and store these in a dictionary of dictionaries\n",
    "    solutions = {}\n",
    "\n",
    "    #Let's do HG first\n",
    "    sol_HG = fit(mag, phaseAngle, magSigma, model=HG_model)\n",
    "\n",
    "    solutions['HG'] = {}\n",
    "    # save np.nan values when the fit has not been converged\n",
    "    try:\n",
    "        solutions['HG']['chi2'] = np.sum(sol_HG[2]['fvec']**2)\n",
    "        solutions['HG']['H'] = sol_HG[0][0]\n",
    "        solutions['HG']['G'] = sol_HG[0][1]\n",
    "        solutions['HG']['H_err'] = np.sqrt(sol_HG[1][0,0])\n",
    "        solutions['HG']['G_err'] = np.sqrt(sol_HG[1][1,1])\n",
    "        solutions['HG']['cov'] = sol_HG[1]\n",
    "    except TypeError:\n",
    "        if verbose:\n",
    "            print('HG model is not converging')\n",
    "        solutions['HG']['chi2'] = np.nan\n",
    "        solutions['HG']['H'] = np.nan\n",
    "        solutions['HG']['G'] = np.nan\n",
    "        solutions['HG']['H_err'] = np.nan\n",
    "        solutions['HG']['G_err'] = np.nan\n",
    "        solutions['HG']['cov'] = np.nan\n",
    "            \n",
    "\n",
    "    # now HG12\n",
    "    sol_HG12 = fit(mag, phaseAngle, magSigma, model=HG12_model)\n",
    "\n",
    "    solutions['HG12'] = {}\n",
    "    # save np.nan values when the fit has not been converged\n",
    "    try:\n",
    "        solutions['HG12']['chi2'] = np.sum(sol_HG12[2]['fvec']**2)\n",
    "        solutions['HG12']['H'] = sol_HG12[0][0]\n",
    "        solutions['HG12']['G12'] = sol_HG12[0][1]\n",
    "        solutions['HG12']['H_err'] = np.sqrt(sol_HG12[1][0,0])\n",
    "        solutions['HG12']['G12_err'] = np.sqrt(sol_HG12[1][1,1])\n",
    "        solutions['HG12']['cov'] = sol_HG12[1]\n",
    "    except TypeError:\n",
    "        if verbose:\n",
    "            print('HG12 model is not converging')\n",
    "        solutions['HG12']['chi2'] = np.nan\n",
    "        solutions['HG12']['H'] = np.nan\n",
    "        solutions['HG12']['G12'] = np.nan\n",
    "        solutions['HG12']['H_err'] = np.nan\n",
    "        solutions['HG12']['G12_err'] = np.nan\n",
    "        solutions['HG12']['cov'] = np.nan\n",
    "\n",
    "    # finally, HG1G2 - note this returns an extra parameter\n",
    "\n",
    "    # now HG12, let's tell the code we need that extra parameter\n",
    "    sol_HG1G2 = fit(mag, phaseAngle, magSigma, model=HG1G2_model, params=[0.1, 0.1])\n",
    "    \n",
    "    solutions['HG1G2'] = {}\n",
    "    # save np.nan values when the fit has not been converged\n",
    "    try:\n",
    "        solutions['HG1G2']['chi2'] = np.sum(sol_HG1G2[2]['fvec']**2)\n",
    "        solutions['HG1G2']['H'] = sol_HG1G2[0][0]\n",
    "        solutions['HG1G2']['G1'] = sol_HG1G2[0][1]\n",
    "        solutions['HG1G2']['G2'] = sol_HG1G2[0][1]\n",
    "        solutions['HG1G2']['H_err'] = np.sqrt(sol_HG1G2[1][0,0])\n",
    "        solutions['HG1G2']['G1_err'] = np.sqrt(sol_HG1G2[1][1,1])\n",
    "        solutions['HG1G2']['G2_err'] = np.sqrt(sol_HG1G2[1][2,2])\n",
    "        solutions['HG1G2']['cov'] = sol_HG1G2[1]\n",
    "    except TypeError:\n",
    "        if verbose: \n",
    "            print('HG1G2 model is not converging')\n",
    "        solutions['HG1G2']['chi2'] = np.nan\n",
    "        solutions['HG1G2']['H'] = np.nan\n",
    "        solutions['HG1G2']['G1'] = np.nan\n",
    "        solutions['HG1G2']['G2'] = np.nan\n",
    "        solutions['HG1G2']['H_err'] = np.nan\n",
    "        solutions['HG1G2']['G1_err'] = np.nan\n",
    "        solutions['HG1G2']['G2_err'] = np.nan\n",
    "        solutions['HG1G2']['cov'] = np.nan\n",
    "    \n",
    "    \n",
    "    return solutions"
   ]
  },
  {
   "cell_type": "markdown",
   "id": "ec51ac0b",
   "metadata": {
    "tags": []
   },
   "source": [
    "## 2. Querying the DP0.3 tables and fitting phase curves of SS objects\n",
    "\n",
    "Some notes:\n",
    "Definitions to help explain what we are doing in the tutorial:\n",
    "Model orbital properties from MPCORB:\n",
    "q = perihelion distance (au; do we need this?)\n",
    "mpcG = slope parameter G\n",
    "mpcH = absolute magnitude H\n",
    "For population studies, should we use the model parameters stored in MPCORB instead of re-doing the fitting? If yes, we should include mpcG and mpcH to the queries below.\n",
    "\n",
    "### 2.1 Create the Rubin TAP Service Client\n",
    "\n",
    "Get an instance of the TAP service, and assert that it exists.Get an instance of the TAP service, and assert that it exists."
   ]
  },
  {
   "cell_type": "code",
   "execution_count": 5,
   "id": "81b8cd59-1ba3-4eaa-846f-6478ed0c3cf5",
   "metadata": {
    "execution": {
     "iopub.execute_input": "2023-07-12T19:05:04.348586Z",
     "iopub.status.busy": "2023-07-12T19:05:04.348358Z",
     "iopub.status.idle": "2023-07-12T19:05:04.423066Z",
     "shell.execute_reply": "2023-07-12T19:05:04.422316Z",
     "shell.execute_reply.started": "2023-07-12T19:05:04.348568Z"
    },
    "tags": []
   },
   "outputs": [],
   "source": [
    "service = get_tap_service(\"ssotap\")\n",
    "assert service is not None"
   ]
  },
  {
   "cell_type": "markdown",
   "id": "bf968de5-ce59-41c9-88f0-83cd88bdc083",
   "metadata": {},
   "source": [
    "### 2.2 Querying the DP0.3 SSObject and MPCORB catalogs"
   ]
  },
  {
   "cell_type": "markdown",
   "id": "171e087c-b314-48f7-8f22-6013115f2cb9",
   "metadata": {},
   "source": [
    "NOTE!!\n",
    "\n",
    "To ensure to have sufficient data points over a long enough phase angle baseline\n",
    "as well as to keep a reasonable run time for this tutorial,\n",
    "we select objects with number of objects > 3000 and arc > 3000 days. I came up with these numbers fter performing some run time tests. Especially, the fitting part takes long. \n",
    "\n",
    "For phase curve fitting, we need apparent magnitudes & uncertainties, phase angle topocentric (tdist) and heliocentric (rdist) distances & uncertainties (but they are 0; from SSSource). fitHG12 returns the absmag and phase coeff (G12) These will all be per band. \n",
    "\n",
    "In the ssObjectTable, the column G12 is correct in that the final table\n",
    "should contain the parameter G12, however, the existing version of the column\n",
    "actually contains parameter G (and therefore should be compared to the HG_model\n",
    "not HG12 model. The plan is to replace the contents of G12 column with actual G12\n",
    "fit parameters in the final version\n"
   ]
  },
  {
   "cell_type": "markdown",
   "id": "2d0c2c1c-9b6e-450f-8001-45617a43f5dc",
   "metadata": {},
   "source": [
    "What is the absolute magnitude? The measured magnitude (apparent magnitude) of a Solar System object depends on the incident light from the Sun, in addition to the distance to the observer (as is usual for sources outside the Solar System). So to convert from the apparent magnitude to the reduced magnitude, one factors in this reduction in flux, conventionally bringing both distances to 1 au so the conversion becomes a factor of -5log10 ( heliocentric distance * topocentric distance). There is also the question of the illumination angle, so that a higher phase angle means that a smaller fraction of the object's surface is being illuminated (I think that link @Yumi Choi sent earlier this week is the most accessible I've seen). The absolute magnitude is the magnitude at 1 au from the Sun, 1 au from the observer and at 0 phase angle (note this is an unphysical situation: an object will never satisfy these 3 conditions simultaneously). Typically then one fits the absolute magnitude with an assumed phase curve model (eg the HG or HG12 models). That Muinonen et al (2010) paper goes over in detail.\n"
   ]
  },
  {
   "cell_type": "code",
   "execution_count": 6,
   "id": "5d59d020-7e09-4626-9aa8-287bc20187d0",
   "metadata": {
    "execution": {
     "iopub.execute_input": "2023-07-12T19:05:04.424580Z",
     "iopub.status.busy": "2023-07-12T19:05:04.424027Z",
     "iopub.status.idle": "2023-07-12T19:05:04.427651Z",
     "shell.execute_reply": "2023-07-12T19:05:04.427032Z",
     "shell.execute_reply.started": "2023-07-12T19:05:04.424555Z"
    },
    "tags": []
   },
   "outputs": [],
   "source": [
    "nobs_thrh = '3000'\n",
    "arc_thrh = '3000'"
   ]
  },
  {
   "cell_type": "code",
   "execution_count": 7,
   "id": "9841c6de-f012-41e7-aae7-23da5c77e4e6",
   "metadata": {
    "execution": {
     "iopub.execute_input": "2023-07-12T19:05:04.429043Z",
     "iopub.status.busy": "2023-07-12T19:05:04.428707Z",
     "iopub.status.idle": "2023-07-12T19:05:04.661433Z",
     "shell.execute_reply": "2023-07-12T19:05:04.660457Z",
     "shell.execute_reply.started": "2023-07-12T19:05:04.429022Z"
    },
    "tags": []
   },
   "outputs": [
    {
     "name": "stderr",
     "output_type": "stream",
     "text": [
      "WARNING: UnitsWarning: Unit 'days' not supported by the VOUnit standard. Did you mean daS or das? [astropy.units.format.vounit]\n"
     ]
    },
    {
     "data": {
      "text/html": [
       "<pre style=\"margin: 0.1em;\n",
       "padding-left: 0.25em;\n",
       "border-left-style: solid;\n",
       "font-family: var(--jp-code-font-family);\n",
       "font-size: var(--jp-code-font-size);\n",
       "line-height: var(--jp-code-line-height);\n",
       "\"><span style=\"color: var(--jp-warn-color2)\">astropy</span> <span style=\"color: var(--jp-warn-color0)\">WARNING</span>: UnitsWarning: Unit &#x27;days&#x27; not supported by the VOUnit standard. Did you mean daS or das?</pre>"
      ],
      "text/plain": [
       "<IPython.core.display.HTML object>"
      ]
     },
     "metadata": {},
     "output_type": "display_data"
    },
    {
     "data": {
      "text/html": [
       "<div><i>Table length=269</i>\n",
       "<table id=\"table140424530589200\" class=\"table-striped table-bordered table-condensed\">\n",
       "<thead><tr><th>ssObjectId</th><th>q</th><th>arc</th><th>numObs</th><th>uH</th><th>uHerr</th><th>uG12</th><th>uG12err</th><th>gH</th><th>gHerr</th><th>gG12</th><th>gG12err</th><th>rH</th><th>rHerr</th><th>rG12</th><th>rG12err</th><th>iH</th><th>iHerr</th><th>iG12</th><th>iG12err</th><th>zH</th><th>zHerr</th><th>zG12</th><th>zG12err</th><th>yH</th><th>yHerr</th><th>yG12</th><th>yG12err</th></tr></thead>\n",
       "<thead><tr><th></th><th>AU</th><th>days</th><th></th><th>mag</th><th>mag</th><th>mag</th><th>mag</th><th>mag</th><th>mag</th><th>mag</th><th>mag</th><th>mag</th><th>mag</th><th>mag</th><th>mag</th><th>mag</th><th>mag</th><th>mag</th><th>mag</th><th>mag</th><th>mag</th><th>mag</th><th>mag</th><th>mag</th><th>mag</th><th>mag</th><th>mag</th></tr></thead>\n",
       "<thead><tr><th>int64</th><th>float64</th><th>float32</th><th>int32</th><th>float32</th><th>float32</th><th>float32</th><th>float32</th><th>float32</th><th>float32</th><th>float32</th><th>float32</th><th>float32</th><th>float32</th><th>float32</th><th>float32</th><th>float32</th><th>float32</th><th>float32</th><th>float32</th><th>float32</th><th>float32</th><th>float32</th><th>float32</th><th>float32</th><th>float32</th><th>float32</th><th>float32</th></tr></thead>\n",
       "<tr><td>-9160335891119196734</td><td>2.18848</td><td>3341.0935</td><td>3010</td><td>15.974593</td><td>0.003538737</td><td>0.13540827</td><td>0.003439854</td><td>14.655099</td><td>0.0008827314</td><td>0.12975127</td><td>0.0007974115</td><td>14.1867895</td><td>0.00061638607</td><td>0.13442001</td><td>0.0005615722</td><td>14.069777</td><td>0.00073934335</td><td>0.13603345</td><td>0.0006567771</td><td>14.0716505</td><td>0.0013131155</td><td>0.14293106</td><td>0.0012290746</td><td>14.06428</td><td>0.0016321399</td><td>0.14187744</td><td>0.0015170963</td></tr>\n",
       "<tr><td>-9122550463736920866</td><td>2.90333</td><td>3541.1165</td><td>3186</td><td>18.779285</td><td>0.08071087</td><td>0.55770034</td><td>0.15304966</td><td>17.224314</td><td>0.007449597</td><td>0.12733981</td><td>0.007642086</td><td>16.761005</td><td>0.0045596617</td><td>0.13943394</td><td>0.004886307</td><td>16.628132</td><td>0.0067277593</td><td>0.12562878</td><td>0.006778814</td><td>16.602016</td><td>0.018299524</td><td>0.10527938</td><td>0.01896701</td><td>16.698843</td><td>0.03555247</td><td>0.26963112</td><td>0.047310278</td></tr>\n",
       "<tr><td>-9104426139280684352</td><td>1.99854</td><td>3295.7324</td><td>3105</td><td>20.688686</td><td>0.10572543</td><td>0.11616846</td><td>0.09167436</td><td>19.197058</td><td>0.006623197</td><td>0.13803145</td><td>0.0057763476</td><td>18.547478</td><td>0.0035120018</td><td>0.1369316</td><td>0.0030281474</td><td>18.346308</td><td>0.0046819383</td><td>0.1363627</td><td>0.0040087253</td><td>18.379213</td><td>0.009388997</td><td>0.117804505</td><td>0.0089924615</td><td>18.44825</td><td>0.017234057</td><td>0.19176692</td><td>0.016526204</td></tr>\n",
       "<tr><td>-9055761814619818019</td><td>2.6703</td><td>3585.1802</td><td>3260</td><td>18.12982</td><td>0.04630982</td><td>0.23237284</td><td>0.060211547</td><td>16.749468</td><td>0.0046555423</td><td>0.14125136</td><td>0.0050033457</td><td>16.274412</td><td>0.0026356217</td><td>0.1404339</td><td>0.0028890504</td><td>16.161871</td><td>0.00361793</td><td>0.14957283</td><td>0.0038542263</td><td>16.15884</td><td>0.008501896</td><td>0.1462766</td><td>0.009115202</td><td>16.166477</td><td>0.015653847</td><td>0.1860451</td><td>0.017875474</td></tr>\n",
       "<tr><td>-8861604831036051458</td><td>33.90530835</td><td>3467.649</td><td>3850</td><td>--</td><td>--</td><td>--</td><td>--</td><td>--</td><td>--</td><td>--</td><td>--</td><td>--</td><td>--</td><td>--</td><td>--</td><td>--</td><td>--</td><td>--</td><td>--</td><td>--</td><td>--</td><td>--</td><td>--</td><td>--</td><td>--</td><td>--</td><td>--</td></tr>\n",
       "<tr><td>-8824888193414498318</td><td>2.79174</td><td>3589.2207</td><td>3064</td><td>16.57724</td><td>0.009231824</td><td>0.14588262</td><td>0.009154001</td><td>15.035247</td><td>0.001580692</td><td>0.13509357</td><td>0.0014482355</td><td>14.388222</td><td>0.00095599465</td><td>0.13785343</td><td>0.0008837154</td><td>14.187011</td><td>0.0011644945</td><td>0.13704121</td><td>0.00106577</td><td>14.237688</td><td>0.0018251783</td><td>0.13364868</td><td>0.0017882781</td><td>14.248958</td><td>0.0025201426</td><td>0.14867143</td><td>0.0024787793</td></tr>\n",
       "<tr><td>-8775539482313645283</td><td>3.09719</td><td>3545.956</td><td>3004</td><td>18.715216</td><td>0.07829525</td><td>0.56085956</td><td>0.14959951</td><td>17.206036</td><td>0.006490891</td><td>0.15646611</td><td>0.0072020767</td><td>16.724682</td><td>0.004724906</td><td>0.14349854</td><td>0.0052410667</td><td>16.597546</td><td>0.006596554</td><td>0.1357407</td><td>0.00703722</td><td>16.60387</td><td>0.016017416</td><td>0.15739147</td><td>0.018234806</td><td>16.652065</td><td>0.03338243</td><td>0.24090612</td><td>0.0446976</td></tr>\n",
       "<tr><td>-8760000674864496854</td><td>2.81679</td><td>3516.2617</td><td>3141</td><td>17.245808</td><td>0.019255549</td><td>0.1260429</td><td>0.020576926</td><td>15.73284</td><td>0.0026378245</td><td>0.14366013</td><td>0.0027296534</td><td>15.085377</td><td>0.0013993066</td><td>0.14536168</td><td>0.0014744721</td><td>14.884882</td><td>0.0015459601</td><td>0.14542618</td><td>0.0015926966</td><td>14.936535</td><td>0.0029964321</td><td>0.1423352</td><td>0.003379272</td><td>14.944049</td><td>0.0047305888</td><td>0.15746163</td><td>0.0051825684</td></tr>\n",
       "<tr><td>-8635167377781342998</td><td>2.74443</td><td>3594.9558</td><td>3157</td><td>18.155043</td><td>0.03319362</td><td>0.21671943</td><td>0.04639871</td><td>16.559296</td><td>0.0029225582</td><td>0.13091233</td><td>0.003381267</td><td>15.915352</td><td>0.0015930005</td><td>0.13875501</td><td>0.0018845152</td><td>15.712104</td><td>0.0018612464</td><td>0.13283196</td><td>0.0021719532</td><td>15.765409</td><td>0.0037137098</td><td>0.13436238</td><td>0.0043372717</td><td>15.760177</td><td>0.0067911055</td><td>0.13392861</td><td>0.008015249</td></tr>\n",
       "<tr><td>...</td><td>...</td><td>...</td><td>...</td><td>...</td><td>...</td><td>...</td><td>...</td><td>...</td><td>...</td><td>...</td><td>...</td><td>...</td><td>...</td><td>...</td><td>...</td><td>...</td><td>...</td><td>...</td><td>...</td><td>...</td><td>...</td><td>...</td><td>...</td><td>...</td><td>...</td><td>...</td><td>...</td></tr>\n",
       "<tr><td>8683515540195454691</td><td>2.53269</td><td>3587.1973</td><td>3211</td><td>18.49568</td><td>0.026257917</td><td>0.15305772</td><td>0.028531108</td><td>16.94665</td><td>0.0027232885</td><td>0.12790711</td><td>0.0025895895</td><td>16.301746</td><td>0.0015707976</td><td>0.13280387</td><td>0.0015002796</td><td>16.101444</td><td>0.0019376894</td><td>0.13220505</td><td>0.0018315696</td><td>16.16542</td><td>0.0048297136</td><td>0.14018084</td><td>0.004208536</td><td>16.158442</td><td>0.0070637204</td><td>0.14173763</td><td>0.0067368248</td></tr>\n",
       "<tr><td>8802638659679527188</td><td>2.71052</td><td>3583.964</td><td>3224</td><td>18.719513</td><td>0.059923694</td><td>0.34234115</td><td>0.0753151</td><td>17.23883</td><td>0.0044892905</td><td>0.13356216</td><td>0.0044589676</td><td>16.764183</td><td>0.0031017014</td><td>0.13336399</td><td>0.0031187579</td><td>16.647495</td><td>0.0041417377</td><td>0.13393502</td><td>0.0040941886</td><td>16.648151</td><td>0.008642475</td><td>0.14416106</td><td>0.009328135</td><td>16.660303</td><td>0.0147194145</td><td>0.16195929</td><td>0.015720401</td></tr>\n",
       "<tr><td>8810551120910341888</td><td>1.6871</td><td>3587.6384</td><td>3032</td><td>18.459698</td><td>0.036361095</td><td>0.17946972</td><td>0.037894003</td><td>16.927464</td><td>0.003848131</td><td>0.13807501</td><td>0.003412858</td><td>16.275867</td><td>0.0019972995</td><td>0.13708882</td><td>0.0016504514</td><td>16.074905</td><td>0.0024721064</td><td>0.13547018</td><td>0.001986285</td><td>16.123728</td><td>0.0046559586</td><td>0.1311908</td><td>0.0037349313</td><td>16.13405</td><td>0.009021726</td><td>0.14633133</td><td>0.0073052314</td></tr>\n",
       "<tr><td>8864665690345922564</td><td>4.91629</td><td>3296.7827</td><td>3827</td><td>14.981673</td><td>0.011901507</td><td>0.16457196</td><td>0.019111067</td><td>13.681441</td><td>0.0021419916</td><td>0.18081799</td><td>0.0033027115</td><td>13.204593</td><td>0.0015301179</td><td>0.17665668</td><td>0.002350827</td><td>13.081241</td><td>0.0019878454</td><td>0.17097364</td><td>0.0029488588</td><td>13.080452</td><td>0.0046674884</td><td>0.1825838</td><td>0.007532404</td><td>--</td><td>--</td><td>--</td><td>--</td></tr>\n",
       "<tr><td>8878564262053182586</td><td>32.16359039</td><td>3476.6465</td><td>3224</td><td>--</td><td>--</td><td>--</td><td>--</td><td>--</td><td>--</td><td>--</td><td>--</td><td>--</td><td>--</td><td>--</td><td>--</td><td>--</td><td>--</td><td>--</td><td>--</td><td>--</td><td>--</td><td>--</td><td>--</td><td>--</td><td>--</td><td>--</td><td>--</td></tr>\n",
       "<tr><td>8896170296136021652</td><td>2.71559</td><td>3159.7673</td><td>3057</td><td>17.942713</td><td>0.038026012</td><td>0.22931056</td><td>0.0535328</td><td>16.375015</td><td>0.0040289382</td><td>0.1475389</td><td>0.00437217</td><td>15.716663</td><td>0.002179411</td><td>0.1368636</td><td>0.002351005</td><td>15.52177</td><td>0.0034763257</td><td>0.14328921</td><td>0.0036052489</td><td>15.584849</td><td>0.007234726</td><td>0.1509897</td><td>0.007880614</td><td>15.564807</td><td>0.00998181</td><td>0.13401486</td><td>0.011206697</td></tr>\n",
       "<tr><td>9087912756022919586</td><td>1.96156</td><td>3415.9595</td><td>3495</td><td>18.492708</td><td>0.042864606</td><td>0.12555458</td><td>0.037152484</td><td>17.19575</td><td>0.0047058845</td><td>0.13080613</td><td>0.0045514577</td><td>16.718084</td><td>0.00291605</td><td>0.1264</td><td>0.0026773154</td><td>16.606272</td><td>0.004052037</td><td>0.13369891</td><td>0.0037683113</td><td>16.59296</td><td>0.007010609</td><td>0.1260533</td><td>0.006749815</td><td>16.602362</td><td>0.014963476</td><td>0.1528705</td><td>0.014244054</td></tr>\n",
       "<tr><td>9105834766396340182</td><td>37.27347</td><td>3411.7842</td><td>6747</td><td>--</td><td>--</td><td>--</td><td>--</td><td>--</td><td>--</td><td>--</td><td>--</td><td>--</td><td>--</td><td>--</td><td>--</td><td>--</td><td>--</td><td>--</td><td>--</td><td>--</td><td>--</td><td>--</td><td>--</td><td>--</td><td>--</td><td>--</td><td>--</td></tr>\n",
       "<tr><td>9191019046053181752</td><td>2.16609</td><td>3391.0942</td><td>3536</td><td>18.172703</td><td>0.016820513</td><td>0.1779822</td><td>0.023572825</td><td>16.85917</td><td>0.003035657</td><td>0.15304077</td><td>0.0035102163</td><td>16.368813</td><td>0.0025798457</td><td>0.1365032</td><td>0.002711876</td><td>16.24285</td><td>0.0038104546</td><td>0.13222921</td><td>0.003915439</td><td>16.250248</td><td>0.0065502888</td><td>0.14544615</td><td>0.0070189107</td><td>16.269455</td><td>0.009526543</td><td>0.18394531</td><td>0.01117851</td></tr>\n",
       "<tr><td>9203790165780173604</td><td>3.0274</td><td>3589.1824</td><td>3509</td><td>17.56971</td><td>0.017541511</td><td>0.17220081</td><td>0.02053022</td><td>16.031258</td><td>0.0028819765</td><td>0.16155721</td><td>0.0029524085</td><td>15.367849</td><td>0.0017799307</td><td>0.14745575</td><td>0.0017957555</td><td>15.166467</td><td>0.001974881</td><td>0.1472186</td><td>0.001995312</td><td>15.226478</td><td>0.003407883</td><td>0.15326928</td><td>0.0037189745</td><td>15.2115345</td><td>0.0073691984</td><td>0.14414006</td><td>0.0076091993</td></tr>\n",
       "</table></div>"
      ],
      "text/plain": [
       "<Table length=269>\n",
       "     ssObjectId           q         arc    ...    yG12      yG12err   \n",
       "                          AU        days   ...    mag         mag     \n",
       "       int64           float64    float32  ...  float32     float32   \n",
       "-------------------- ----------- --------- ... ---------- ------------\n",
       "-9160335891119196734     2.18848 3341.0935 ... 0.14187744 0.0015170963\n",
       "-9122550463736920866     2.90333 3541.1165 ... 0.26963112  0.047310278\n",
       "-9104426139280684352     1.99854 3295.7324 ... 0.19176692  0.016526204\n",
       "-9055761814619818019      2.6703 3585.1802 ...  0.1860451  0.017875474\n",
       "-8861604831036051458 33.90530835  3467.649 ...         --           --\n",
       "-8824888193414498318     2.79174 3589.2207 ... 0.14867143 0.0024787793\n",
       "-8775539482313645283     3.09719  3545.956 ... 0.24090612    0.0446976\n",
       "-8760000674864496854     2.81679 3516.2617 ... 0.15746163 0.0051825684\n",
       "-8635167377781342998     2.74443 3594.9558 ... 0.13392861  0.008015249\n",
       "                 ...         ...       ... ...        ...          ...\n",
       " 8683515540195454691     2.53269 3587.1973 ... 0.14173763 0.0067368248\n",
       " 8802638659679527188     2.71052  3583.964 ... 0.16195929  0.015720401\n",
       " 8810551120910341888      1.6871 3587.6384 ... 0.14633133 0.0073052314\n",
       " 8864665690345922564     4.91629 3296.7827 ...         --           --\n",
       " 8878564262053182586 32.16359039 3476.6465 ...         --           --\n",
       " 8896170296136021652     2.71559 3159.7673 ... 0.13401486  0.011206697\n",
       " 9087912756022919586     1.96156 3415.9595 ...  0.1528705  0.014244054\n",
       " 9105834766396340182    37.27347 3411.7842 ...         --           --\n",
       " 9191019046053181752     2.16609 3391.0942 ... 0.18394531   0.01117851\n",
       " 9203790165780173604      3.0274 3589.1824 ... 0.14414006 0.0076091993"
      ]
     },
     "execution_count": 7,
     "metadata": {},
     "output_type": "execute_result"
    }
   ],
   "source": [
    "# Getting a table of columns for unique objects with number of observations > nobs_thrh and arc longer than arc_thrh\n",
    "query = \"\"\"\n",
    "SELECT \n",
    "    mpc.ssObjectId, mpc.q, sso.arc, sso.numObs, \n",
    "    sso.uH, sso.uHerr, sso.uG12, sso.uG12err, \n",
    "    sso.gH, sso.gHerr, sso.gG12, sso.gG12err, \n",
    "    sso.rH, sso.rHerr, sso.rG12, sso.rG12err, \n",
    "    sso.iH, sso.iHerr, sso.iG12, sso.iG12err, \n",
    "    sso.zH, sso.zHerr, sso.zG12, sso.zG12err, \n",
    "    sso.yH, sso.yHerr, sso.yG12, sso.yG12err \n",
    "FROM \n",
    "    dp03_catalogs.MPCORB as mpc \n",
    "INNER JOIN dp03_catalogs.SSObject as sso \n",
    "ON mpc.ssObjectId = sso.ssObjectId \n",
    "WHERE sso.numObs > {} AND sso.arc > {} ORDER by sso.ssObjectId \n",
    "\"\"\".format(nobs_thrh, arc_thrh)\n",
    "\n",
    "df_uniqueObj = service.search(query).to_table()\n",
    "df_uniqueObj"
   ]
  },
  {
   "cell_type": "markdown",
   "id": "977dd781-f675-4ed4-89ac-07cb6042515e",
   "metadata": {},
   "source": [
    "### 2.3 Querying the DP0.3 DiaSource and SSSource catalogs\n",
    "\n",
    "Getting a table for time series data for unique objects with number of observations > nobs_thrh and arc longer than arc_thrh\n",
    "This query usually takes ~30 sec, but could run a bit longer when traffic is busy."
   ]
  },
  {
   "cell_type": "code",
   "execution_count": 8,
   "id": "bb665e68-f274-4c50-9b82-4899b084c33a",
   "metadata": {
    "execution": {
     "iopub.execute_input": "2023-07-12T19:05:04.663076Z",
     "iopub.status.busy": "2023-07-12T19:05:04.662733Z",
     "iopub.status.idle": "2023-07-12T19:05:35.882686Z",
     "shell.execute_reply": "2023-07-12T19:05:35.881915Z",
     "shell.execute_reply.started": "2023-07-12T19:05:04.663044Z"
    },
    "tags": []
   },
   "outputs": [
    {
     "data": {
      "text/html": [
       "<div><i>Table length=975478</i>\n",
       "<table id=\"table140424530345024\" class=\"table-striped table-bordered table-condensed\">\n",
       "<thead><tr><th>ssObjectId</th><th>diaSourceId</th><th>mag</th><th>magSigma</th><th>filter</th><th>midPointTai</th><th>phaseAngle</th><th>topocentricDist</th><th>heliocentricDist</th></tr></thead>\n",
       "<thead><tr><th></th><th></th><th></th><th></th><th></th><th>d</th><th>deg</th><th>AU</th><th>AU</th></tr></thead>\n",
       "<thead><tr><th>int64</th><th>int64</th><th>float32</th><th>float32</th><th>str1</th><th>float64</th><th>float32</th><th>float32</th><th>float32</th></tr></thead>\n",
       "<tr><td>-9160335891119196734</td><td>-4714752590257754695</td><td>17.715965</td><td>0.00507329</td><td>y</td><td>61088.18156689308</td><td>3.882442</td><td>1.6952062</td><td>2.6727955</td></tr>\n",
       "<tr><td>-9160335891119196734</td><td>8658493076713800913</td><td>17.713116</td><td>0.005512223</td><td>y</td><td>61088.20183066884</td><td>3.8867426</td><td>1.6952555</td><td>2.6728256</td></tr>\n",
       "<tr><td>-9160335891119196734</td><td>4916825279755151979</td><td>17.90116</td><td>0.003526958</td><td>z</td><td>61096.175285391946</td><td>6.33933</td><td>1.7237068</td><td>2.6845658</td></tr>\n",
       "<tr><td>-9160335891119196734</td><td>-9017304948609349146</td><td>17.836683</td><td>0.0021887536</td><td>r</td><td>61087.26830092715</td><td>3.7129395</td><td>1.6931158</td><td>2.6714406</td></tr>\n",
       "<tr><td>-9160335891119196734</td><td>-4424267694392087797</td><td>17.86899</td><td>0.002020167</td><td>r</td><td>61089.28010348667</td><td>4.1327105</td><td>1.6980523</td><td>2.6744227</td></tr>\n",
       "<tr><td>-9160335891119196734</td><td>-2764579693930997294</td><td>17.83147</td><td>0.0021406596</td><td>r</td><td>61087.26874901561</td><td>3.7130158</td><td>1.6931168</td><td>2.6714413</td></tr>\n",
       "<tr><td>-9160335891119196734</td><td>7902761923550661644</td><td>17.894371</td><td>0.0033611385</td><td>z</td><td>61096.174839292136</td><td>6.3391657</td><td>1.7237047</td><td>2.684565</td></tr>\n",
       "<tr><td>-9160335891119196734</td><td>9009871121378705816</td><td>17.816067</td><td>0.0017486681</td><td>r</td><td>61086.19705696757</td><td>3.5645716</td><td>1.6909616</td><td>2.6698487</td></tr>\n",
       "<tr><td>-9160335891119196734</td><td>6406382983379411074</td><td>18.573612</td><td>0.0030984601</td><td>r</td><td>61119.01867663698</td><td>14.240715</td><td>1.8956778</td><td>2.717249</td></tr>\n",
       "<tr><td>...</td><td>...</td><td>...</td><td>...</td><td>...</td><td>...</td><td>...</td><td>...</td><td>...</td></tr>\n",
       "<tr><td>9203790165780173604</td><td>-1557938372420750455</td><td>20.284704</td><td>0.053415038</td><td>y</td><td>61043.21868668499</td><td>14.111825</td><td>2.3552034</td><td>3.082369</td></tr>\n",
       "<tr><td>9203790165780173604</td><td>-4016337604394759024</td><td>20.313766</td><td>0.053273443</td><td>y</td><td>61043.21910335165</td><td>14.111732</td><td>2.3551989</td><td>3.082369</td></tr>\n",
       "<tr><td>9203790165780173604</td><td>-6298070745220651782</td><td>20.239717</td><td>0.056912202</td><td>y</td><td>61043.21952001831</td><td>14.111639</td><td>2.3551946</td><td>3.082369</td></tr>\n",
       "<tr><td>9203790165780173604</td><td>-5151849880381787589</td><td>20.365908</td><td>0.056762334</td><td>y</td><td>61043.219936684975</td><td>14.111546</td><td>2.35519</td><td>3.082369</td></tr>\n",
       "<tr><td>9203790165780173604</td><td>3408390026159617041</td><td>20.339458</td><td>0.05565292</td><td>y</td><td>61043.22035335164</td><td>14.111453</td><td>2.3551855</td><td>3.082369</td></tr>\n",
       "<tr><td>9203790165780173604</td><td>6646355968839897089</td><td>20.240353</td><td>0.055507608</td><td>y</td><td>61043.2207700183</td><td>14.11136</td><td>2.355181</td><td>3.082369</td></tr>\n",
       "<tr><td>9203790165780173604</td><td>1486040561808118359</td><td>20.195679</td><td>0.056801163</td><td>y</td><td>61043.22118668496</td><td>14.111267</td><td>2.3551764</td><td>3.082369</td></tr>\n",
       "<tr><td>9203790165780173604</td><td>-2887956910338251868</td><td>20.248884</td><td>0.05665397</td><td>y</td><td>61043.22160335162</td><td>14.111174</td><td>2.3551722</td><td>3.082369</td></tr>\n",
       "<tr><td>9203790165780173604</td><td>-847387466245305063</td><td>20.231302</td><td>0.05460713</td><td>y</td><td>61043.222020018286</td><td>14.111081</td><td>2.3551676</td><td>3.0823693</td></tr>\n",
       "<tr><td>9203790165780173604</td><td>3950444837881511120</td><td>20.30793</td><td>0.054470066</td><td>y</td><td>61043.22243668495</td><td>14.110988</td><td>2.355163</td><td>3.0823693</td></tr>\n",
       "</table></div>"
      ],
      "text/plain": [
       "<Table length=975478>\n",
       "     ssObjectId          diaSourceId      ... topocentricDist heliocentricDist\n",
       "                                          ...        AU              AU       \n",
       "       int64                int64         ...     float32         float32     \n",
       "-------------------- -------------------- ... --------------- ----------------\n",
       "-9160335891119196734 -4714752590257754695 ...       1.6952062        2.6727955\n",
       "-9160335891119196734  8658493076713800913 ...       1.6952555        2.6728256\n",
       "-9160335891119196734  4916825279755151979 ...       1.7237068        2.6845658\n",
       "-9160335891119196734 -9017304948609349146 ...       1.6931158        2.6714406\n",
       "-9160335891119196734 -4424267694392087797 ...       1.6980523        2.6744227\n",
       "-9160335891119196734 -2764579693930997294 ...       1.6931168        2.6714413\n",
       "-9160335891119196734  7902761923550661644 ...       1.7237047         2.684565\n",
       "-9160335891119196734  9009871121378705816 ...       1.6909616        2.6698487\n",
       "-9160335891119196734  6406382983379411074 ...       1.8956778         2.717249\n",
       "                 ...                  ... ...             ...              ...\n",
       " 9203790165780173604 -1557938372420750455 ...       2.3552034         3.082369\n",
       " 9203790165780173604 -4016337604394759024 ...       2.3551989         3.082369\n",
       " 9203790165780173604 -6298070745220651782 ...       2.3551946         3.082369\n",
       " 9203790165780173604 -5151849880381787589 ...         2.35519         3.082369\n",
       " 9203790165780173604  3408390026159617041 ...       2.3551855         3.082369\n",
       " 9203790165780173604  6646355968839897089 ...        2.355181         3.082369\n",
       " 9203790165780173604  1486040561808118359 ...       2.3551764         3.082369\n",
       " 9203790165780173604 -2887956910338251868 ...       2.3551722         3.082369\n",
       " 9203790165780173604  -847387466245305063 ...       2.3551676        3.0823693\n",
       " 9203790165780173604  3950444837881511120 ...        2.355163        3.0823693"
      ]
     },
     "execution_count": 8,
     "metadata": {},
     "output_type": "execute_result"
    }
   ],
   "source": [
    "query = \"\"\"\n",
    "SELECT \n",
    "    dia.ssObjectId, dia.diaSourceId, dia.mag,\n",
    "    dia.magSigma, dia.filter, dia.midPointTai, \n",
    "    sss.phaseAngle, sss.topocentricDist, sss.heliocentricDist\n",
    "FROM \n",
    "    dp03_catalogs.DiaSource as dia\n",
    "INNER JOIN \n",
    "    dp03_catalogs.SSSource as sss\n",
    "ON \n",
    "    dia.diaSourceId = sss.diaSourceId\n",
    "WHERE \n",
    "    dia.ssObjectId \n",
    "    IN (\n",
    "        SELECT sso.ssObjectId\n",
    "        FROM dp03_catalogs.SSObject as sso \n",
    "        WHERE sso.numObs > {} AND sso.arc > {}\n",
    "        )\n",
    "ORDER by dia.ssObjectId \n",
    "\"\"\".format(nobs_thrh, arc_thrh)\n",
    "\n",
    "df_indivObs = service.search(query).to_table()\n",
    "df_indivObs"
   ]
  },
  {
   "cell_type": "markdown",
   "id": "e366f714-8078-40a5-9eee-65639fa293ca",
   "metadata": {},
   "source": [
    "Double check if the number of unique objects in df_indivObs equals to that of df_uniqueObj."
   ]
  },
  {
   "cell_type": "code",
   "execution_count": 9,
   "id": "077c9400-f3fe-422d-bb2b-7ad0f2587e3d",
   "metadata": {
    "execution": {
     "iopub.execute_input": "2023-07-12T19:05:35.884135Z",
     "iopub.status.busy": "2023-07-12T19:05:35.883633Z",
     "iopub.status.idle": "2023-07-12T19:05:35.922715Z",
     "shell.execute_reply": "2023-07-12T19:05:35.921900Z",
     "shell.execute_reply.started": "2023-07-12T19:05:35.884113Z"
    },
    "tags": []
   },
   "outputs": [],
   "source": [
    "assert len(df_uniqueObj) == len(np.unique(df_indivObs['ssObjectId']))"
   ]
  },
  {
   "cell_type": "markdown",
   "id": "f57f57e2-a386-46af-a527-73d397658b72",
   "metadata": {},
   "source": [
    "### 2.4 Fitting phase curve per filter per unique object"
   ]
  },
  {
   "cell_type": "markdown",
   "id": "392ff14e-eca1-4677-8de8-4dae0e6811bc",
   "metadata": {},
   "source": [
    "Compute reduced magnitude for each observation and add it as a column to the df_indivObs"
   ]
  },
  {
   "cell_type": "code",
   "execution_count": 10,
   "id": "3a387ad4-6057-4631-84fc-da9f99559b26",
   "metadata": {
    "execution": {
     "iopub.execute_input": "2023-07-12T19:05:35.924050Z",
     "iopub.status.busy": "2023-07-12T19:05:35.923773Z",
     "iopub.status.idle": "2023-07-12T19:05:35.938171Z",
     "shell.execute_reply": "2023-07-12T19:05:35.937498Z",
     "shell.execute_reply.started": "2023-07-12T19:05:35.924030Z"
    },
    "tags": []
   },
   "outputs": [],
   "source": [
    "dmag = -5. * np.log10(df_indivObs['topocentricDist']*df_indivObs['heliocentricDist'])\n",
    "reduced_mag = df_indivObs['mag'] + dmag\n",
    "\n",
    "df_indivObs.add_column(reduced_mag, name='reducedMag')"
   ]
  },
  {
   "cell_type": "markdown",
   "id": "98becb52-7bd3-44d8-9b06-f00b9a419467",
   "metadata": {},
   "source": [
    "Fitting phase curve per filter per unique object using three different fitting functions. This part takes ~6 min for 269 unique objects unless we parallelize the code. Note that I selected the medium server size."
   ]
  },
  {
   "cell_type": "code",
   "execution_count": 11,
   "id": "5771b7ed-a488-47b5-9c19-91beae25843a",
   "metadata": {
    "execution": {
     "iopub.execute_input": "2023-07-12T19:05:35.939417Z",
     "iopub.status.busy": "2023-07-12T19:05:35.939141Z",
     "iopub.status.idle": "2023-07-12T19:11:46.500776Z",
     "shell.execute_reply": "2023-07-12T19:11:46.499882Z",
     "shell.execute_reply.started": "2023-07-12T19:05:35.939376Z"
    },
    "tags": []
   },
   "outputs": [
    {
     "name": "stderr",
     "output_type": "stream",
     "text": [
      "/tmp/ipykernel_5980/1411616609.py:73: RuntimeWarning: invalid value encountered in log10\n",
      "  return params[0] - 2.5 * np.log10(params[1] * phi_1_ev + params[2] * phi_2_ev + (1-params[1]-params[2]) * phi_3_ev)\n"
     ]
    }
   ],
   "source": [
    "fitted_array = []\n",
    "\n",
    "for iobj in df_uniqueObj['ssObjectId']:\n",
    "    idx = df_indivObs['ssObjectId'] == iobj\n",
    "    df_tmp = df_indivObs[idx]\n",
    "    filts = np.unique(df_tmp['filter'])\n",
    "    for ifilt in filts:\n",
    "        idx_filt = df_tmp['filter'] == ifilt\n",
    "        nobs_ifilt = len(df_tmp[idx_filt])\n",
    "    \n",
    "        # number of observations needs to be greater than the number of fit parameter, which is 3.\n",
    "        if nobs_ifilt > 3:\n",
    "            x_fitted = fit_models(df_tmp['mag'][idx_filt], \n",
    "                                  df_tmp['magSigma'][idx_filt], \n",
    "                                  df_tmp['phaseAngle'][idx_filt],\n",
    "                                  df_tmp['topocentricDist'][idx_filt],  \n",
    "                                  df_tmp['heliocentricDist'][idx_filt],\n",
    "                    )\n",
    "            fitted_array.append([iobj, ifilt, x_fitted])"
   ]
  },
  {
   "cell_type": "code",
   "execution_count": 17,
   "id": "7e3a2828-febe-4036-8f5c-06120a014310",
   "metadata": {
    "execution": {
     "iopub.execute_input": "2023-07-12T19:26:28.335490Z",
     "iopub.status.busy": "2023-07-12T19:26:28.334512Z",
     "iopub.status.idle": "2023-07-12T19:26:28.366038Z",
     "shell.execute_reply": "2023-07-12T19:26:28.365073Z",
     "shell.execute_reply.started": "2023-07-12T19:26:28.335448Z"
    },
    "tags": []
   },
   "outputs": [
    {
     "name": "stdout",
     "output_type": "stream",
     "text": [
      "               ssObjectId fname   \n",
      "0    -9160335891119196734     g  \\\n",
      "1    -9160335891119196734     i   \n",
      "2    -9160335891119196734     r   \n",
      "3    -9160335891119196734     u   \n",
      "4    -9160335891119196734     y   \n",
      "...                   ...   ...   \n",
      "1593  9203790165780173604     i   \n",
      "1594  9203790165780173604     r   \n",
      "1595  9203790165780173604     u   \n",
      "1596  9203790165780173604     y   \n",
      "1597  9203790165780173604     z   \n",
      "\n",
      "                                              fit_param  \n",
      "0     {'HG': {'chi2': 409.9457799260048, 'H': 14.655...  \n",
      "1     {'HG': {'chi2': 1083.1233932963737, 'H': 14.06...  \n",
      "2     {'HG': {'chi2': 1552.5905520477754, 'H': 14.18...  \n",
      "3     {'HG': {'chi2': 229.32227148886042, 'H': 15.97...  \n",
      "4     {'HG': {'chi2': 843.0627199314671, 'H': 14.064...  \n",
      "...                                                 ...  \n",
      "1593  {'HG': {'chi2': 925.7070693393051, 'H': 15.166...  \n",
      "1594  {'HG': {'chi2': 1065.1044049398593, 'H': 15.36...  \n",
      "1595  {'HG': {'chi2': 159.8423214126953, 'H': 17.570...  \n",
      "1596  {'HG': {'chi2': 795.985732075001, 'H': 15.2116...  \n",
      "1597  {'HG': {'chi2': 592.8143208901741, 'H': 15.226...  \n",
      "\n",
      "[1598 rows x 3 columns]\n"
     ]
    }
   ],
   "source": [
    "results = pd.DataFrame(fitted_array)\n",
    "results.columns=['ssObjectId', 'fname', 'fit_param']\n",
    "print(results)"
   ]
  },
  {
   "cell_type": "markdown",
   "id": "a57c8214-2e6b-4355-af8d-284527705faa",
   "metadata": {},
   "source": [
    "Converting the fit parameter dictionary to individual columns in a pandas dataframe makes it easy to read each parameters. But it also takes some time. It might be great if we can come up with a more efficient way of storing and accessing all the necessary columns for making plots and doing analysis in later parts of this tutorial."
   ]
  },
  {
   "cell_type": "code",
   "execution_count": 13,
   "id": "fc5cbf77-0299-4063-86f1-533bc42fca60",
   "metadata": {
    "execution": {
     "iopub.execute_input": "2023-07-12T19:11:46.513307Z",
     "iopub.status.busy": "2023-07-12T19:11:46.513027Z",
     "iopub.status.idle": "2023-07-12T19:11:46.562299Z",
     "shell.execute_reply": "2023-07-12T19:11:46.561608Z",
     "shell.execute_reply.started": "2023-07-12T19:11:46.513286Z"
    },
    "tags": []
   },
   "outputs": [],
   "source": [
    "results = results[['ssObjectId', 'fname']].join(pd.json_normalize(results.fit_param))"
   ]
  },
  {
   "cell_type": "code",
   "execution_count": 14,
   "id": "8447c26c-0f37-464e-8577-401ec764134b",
   "metadata": {
    "execution": {
     "iopub.execute_input": "2023-07-12T19:11:46.563721Z",
     "iopub.status.busy": "2023-07-12T19:11:46.563274Z",
     "iopub.status.idle": "2023-07-12T19:11:47.340671Z",
     "shell.execute_reply": "2023-07-12T19:11:47.339773Z",
     "shell.execute_reply.started": "2023-07-12T19:11:46.563696Z"
    },
    "tags": []
   },
   "outputs": [
    {
     "data": {
      "text/plain": [
       "Text(0, 0.5, 'G')"
      ]
     },
     "execution_count": 14,
     "metadata": {},
     "output_type": "execute_result"
    },
    {
     "data": {
      "image/png": "[encoded data removed]",
      "text/plain": [
       "<Figure size 1800x500 with 3 Axes>"
      ]
     },
     "metadata": {},
     "output_type": "display_data"
    }
   ],
   "source": [
    "plt.figure(figsize=(18,5))\n",
    "\n",
    "plt.subplot(131)\n",
    "h = plt.hist2d(results[results.fname=='g']['HG.H'], results[results.fname=='g']['HG.G'], bins=100)\n",
    "plt.title('g-band')\n",
    "plt.xlabel('H')\n",
    "plt.ylabel('G')\n",
    "\n",
    "plt.subplot(132)\n",
    "h = plt.hist2d(results[results.fname=='r']['HG.H'], results[results.fname=='r']['HG.G'], bins=100)\n",
    "plt.title('r-band')\n",
    "plt.xlabel('H')\n",
    "plt.ylabel('G')\n",
    "\n",
    "plt.subplot(133)\n",
    "h = plt.hist2d(results[results.fname=='i']['HG.H'], results[results.fname=='i']['HG.G'], bins=100)\n",
    "plt.title('i-band')\n",
    "plt.xlabel('H')\n",
    "plt.ylabel('G')"
   ]
  },
  {
   "cell_type": "code",
   "execution_count": 15,
   "id": "3523f9a4-1773-4731-97c8-8d14c1487846",
   "metadata": {
    "execution": {
     "iopub.execute_input": "2023-07-12T19:11:47.342444Z",
     "iopub.status.busy": "2023-07-12T19:11:47.342056Z",
     "iopub.status.idle": "2023-07-12T19:11:47.811686Z",
     "shell.execute_reply": "2023-07-12T19:11:47.810898Z",
     "shell.execute_reply.started": "2023-07-12T19:11:47.342418Z"
    },
    "tags": []
   },
   "outputs": [
    {
     "data": {
      "text/plain": [
       "Text(0.5, 1.0, 'ssObjectId = -9160335891119196734')"
      ]
     },
     "execution_count": 15,
     "metadata": {},
     "output_type": "execute_result"
    },
    {
     "data": {
      "image/png": "[encoded data removed]",
      "text/plain": [
       "<Figure size 640x480 with 1 Axes>"
      ]
     },
     "metadata": {},
     "output_type": "display_data"
    }
   ],
   "source": [
    "# Plot example phase curve for a single object\n",
    "sId = df_uniqueObj['ssObjectId'][0]\n",
    "df_tmp = df_indivObs[df_indivObs['ssObjectId'] == sId]\n",
    "\n",
    "for ifilt in filts:\n",
    "    idx = df_tmp['filter'] == ifilt\n",
    "    \n",
    "    plt.errorbar(df_tmp['phaseAngle'][idx], df_tmp['reducedMag'][idx], yerr=df_tmp['magSigma'][idx], fmt='o', label=ifilt)\n",
    "\n",
    "    phases = np.linspace(0,90,100)\n",
    "    HG_mag = HG_model(np.deg2rad(phases),\n",
    "                     [results[(results.ssObjectId == sId) & (results.fname == ifilt)]['HG.H'].values,\n",
    "                      results[(results.ssObjectId == sId) & (results.fname == ifilt)]['HG.G'].values])\n",
    "    # HG12_mag = HG12_model(np.deg2rad(phases), [x['HG12']['H'], x['HG12']['G12']])\n",
    "    # HG_mag = HG_model(np.deg2rad(phases), [x['HG']['H'], x['HG']['G']])\n",
    "    # HG1G2_mag = HG1G2_model(np.deg2rad(phases), [x['HG1G2']['H'], x['HG1G2']['G1'], x['HG1G2']['G2']])\n",
    "\n",
    "    plt.plot(phases, HG_mag, label ='HG 2-parameter model')\n",
    "    \n",
    "plt.xlim(df_tmp['phaseAngle'].min()-5, df_tmp['phaseAngle'].max()+5)\n",
    "plt.ylim(df_tmp['reducedMag'].max()+0.5, df_tmp['reducedMag'].min()-0.5)\n",
    "plt.xlabel('Phase Angle [deg]')\n",
    "plt.ylabel('Reduced magnitude [mag]')\n",
    "plt.legend(bbox_to_anchor=(1.05, 1.0), loc='upper left')\n",
    "plt.title('ssObjectId = %d' % sId)"
   ]
  },
  {
   "cell_type": "markdown",
   "id": "a5582914-20b4-4d37-be01-d7086c5ac652",
   "metadata": {},
   "source": [
    "## Junk Code Below"
   ]
  },
  {
   "cell_type": "code",
   "execution_count": 16,
   "id": "08bf7919-64c0-488d-87fc-eef4c1181390",
   "metadata": {
    "execution": {
     "iopub.execute_input": "2023-07-12T19:11:47.813221Z",
     "iopub.status.busy": "2023-07-12T19:11:47.812837Z",
     "iopub.status.idle": "2023-07-12T19:11:47.967713Z",
     "shell.execute_reply": "2023-07-12T19:11:47.965633Z",
     "shell.execute_reply.started": "2023-07-12T19:11:47.813194Z"
    },
    "tags": []
   },
   "outputs": [
    {
     "ename": "NameError",
     "evalue": "name 'df' is not defined",
     "output_type": "error",
     "traceback": [
      "\u001b[0;31m---------------------------------------------------------------------------\u001b[0m",
      "\u001b[0;31mNameError\u001b[0m                                 Traceback (most recent call last)",
      "Input \u001b[0;32mIn [16]\u001b[0m, in \u001b[0;36m<cell line: 1>\u001b[0;34m()\u001b[0m\n\u001b[0;32m----> 1\u001b[0m whr \u001b[38;5;241m=\u001b[39m np\u001b[38;5;241m.\u001b[39mwhere(\u001b[43mdf\u001b[49m[\u001b[38;5;124m'\u001b[39m\u001b[38;5;124mfilter\u001b[39m\u001b[38;5;124m'\u001b[39m] \u001b[38;5;241m==\u001b[39m \u001b[38;5;124m'\u001b[39m\u001b[38;5;124mr\u001b[39m\u001b[38;5;124m'\u001b[39m)[\u001b[38;5;241m0\u001b[39m]\n\u001b[1;32m      2\u001b[0m whz \u001b[38;5;241m=\u001b[39m np\u001b[38;5;241m.\u001b[39mwhere(df[\u001b[38;5;124m'\u001b[39m\u001b[38;5;124mfilter\u001b[39m\u001b[38;5;124m'\u001b[39m] \u001b[38;5;241m==\u001b[39m \u001b[38;5;124m'\u001b[39m\u001b[38;5;124mz\u001b[39m\u001b[38;5;124m'\u001b[39m)[\u001b[38;5;241m0\u001b[39m]\n\u001b[1;32m      3\u001b[0m whi \u001b[38;5;241m=\u001b[39m np\u001b[38;5;241m.\u001b[39mwhere(df[\u001b[38;5;124m'\u001b[39m\u001b[38;5;124mfilter\u001b[39m\u001b[38;5;124m'\u001b[39m] \u001b[38;5;241m==\u001b[39m \u001b[38;5;124m'\u001b[39m\u001b[38;5;124mi\u001b[39m\u001b[38;5;124m'\u001b[39m)[\u001b[38;5;241m0\u001b[39m]\n",
      "\u001b[0;31mNameError\u001b[0m: name 'df' is not defined"
     ]
    }
   ],
   "source": [
    "whr = np.where(df['filter'] == 'r')[0]\n",
    "whz = np.where(df['filter'] == 'z')[0]\n",
    "whi = np.where(df['filter'] == 'i')[0]\n",
    "whg = np.where(df['filter'] == 'g')[0]\n",
    "print(df['magSigma'][whr])\n",
    "\n",
    "whband = whi\n",
    "\n",
    "# Include these for distance correction to Reduced magnitude:\n",
    "tdist = df['topocentricDist']\n",
    "rdist = df['heliocentricDist']\n",
    "dmag = -5. * np.log10(tdist*rdist)\n",
    "\n",
    "\n",
    "#plt.errorbar(df['phaseAngle'][whr], df['mag'][whr]+dmag[whr], yerr=df['magSigma'][whr],fmt='o', alpha=.8,label='r band')\n",
    "#plt.errorbar(df['phaseAngle'][whz], df['mag'][whz]+dmag[whz], yerr=df['magSigma'][whz],fmt='o', alpha=.8,label='z')\n",
    "plt.errorbar(df['phaseAngle'][whband], df['mag'][whband]+dmag[whband], yerr=df['magSigma'][whband],fmt='ro', alpha=.8,label='i')\n",
    "#plt.errorbar(df['phaseAngle'][whg], df['mag'][whg]+dmag[whg], yerr=df['magSigma'][whg],fmt='ok', alpha=.8,label='g')\n",
    "\n",
    "#plt.ylim((np.max(df['mag'][whr]+dmag[whr])+.1,np.min(df['mag'][whr]+dmag[whr])-1.5))\n",
    "plt.ylim(np.max(df['mag'][whband]+dmag[whband])+0.5, np.min(df['mag'][whband]+dmag[whband])-0.5)\n",
    "plt.xlim(np.min(df['phaseAngle'][whband])-5, np.max(df['phaseAngle'][whband])+5)\n",
    "plt.xlabel('Phase Angle [deg]')\n",
    "plt.ylabel('Reduced magnitude')\n",
    "\n",
    "#print(df['mag'][whr], df['phaseAngle'][whr])\n",
    "#print(len(whr))\n",
    "#print(np.unique(df['filter']))\n",
    "\n",
    "\n",
    "#x = fit_models(df['mag'][whr], df['magSigma'][whr], df['phaseAngle'][whr], df['topocentricDist'][whr], df['heliocentricDist'][whr])\n",
    "x = fit_models(df['mag'][whband], df['magSigma'][whband], df['phaseAngle'][whband], df['topocentricDist'][whband], df['heliocentricDist'][whband])\n",
    "\n",
    "\n",
    "phases = np.linspace(0,90,100)\n",
    "HG12_mag = HG12_model(np.deg2rad(phases), [x['HG12']['H'], x['HG12']['G12']])\n",
    "HG_mag = HG_model(np.deg2rad(phases), [x['HG']['H'], x['HG']['G']])\n",
    "HG1G2_mag = HG1G2_model(np.deg2rad(phases), [x['HG1G2']['H'], x['HG1G2']['G1'], x['HG1G2']['G2']])\n",
    "\n",
    "plt.plot(phases, HG_mag, label ='HG 2 parameter model')\n",
    "#plt.plot(phases, HG12_mag, label='HG12 2 parameters model')\n",
    "#plt.plot(phases, HG1G2_mag, label='HG1G2 3 parameter model')\n",
    "\n",
    "# first character is the filter.\n",
    "# NOTE: In the ssObjectTable, the column G12 is correct in that the final table\n",
    "# should contain the parameter G12, however, the existing version of the column\n",
    "# actually contains parameter G (and therefore should be compared to the HG_model\n",
    "# not HG12 model. The plan is to replace the contents of G12 column with actual G12\n",
    "# fit parameters in the final version\n",
    "query2 = \"SELECT ssObjectId, rH, rHerr, rG12, rG12err, \" + \\\n",
    "         \"iH, iHerr, iG12, iG12err \" + \\\n",
    "        \"FROM dp03_catalogs.SSObject  \" + \\\n",
    "        \"WHERE ssObjectId = \" + str(ssObjId) + \" \"\n",
    "\n",
    "df2 = service.search(query2).to_table() # .to_pandas()\n",
    "print(df2)\n",
    "\n",
    "#HG12_mag_sso = HG12_model(np.deg2rad(phases), [df2['rH'], df2['rG12']])\n",
    "#HG12_mag_sso = HG12_model(np.deg2rad(phases), [df2['iH'], df2['iG12']])\n",
    "#HG_mag = HG_model(np.deg2rad(phases), [x['HG']['H'], x['HG']['G']])\n",
    "HG_mag_sso = HG_model(np.deg2rad(phases), [df2['iH'], df2['iG12']])\n",
    "#HG1G2_mag = HG1G2_model(np.deg2rad(phases), [x['HG1G2']['H'], x['HG1G2']['G1'], x['HG1G2']['G2']])\n",
    "\n",
    "plt.plot(phases, HG_mag_sso, label ='Model in SSObject table')\n",
    "\n",
    "plt.legend()\n"
   ]
  },
  {
   "cell_type": "code",
   "execution_count": null,
   "id": "7d1ce43b-03ee-46b4-9718-74596ab7c0e2",
   "metadata": {
    "execution": {
     "iopub.status.busy": "2023-07-12T19:11:47.968539Z",
     "iopub.status.idle": "2023-07-12T19:11:47.968839Z",
     "shell.execute_reply": "2023-07-12T19:11:47.968706Z",
     "shell.execute_reply.started": "2023-07-12T19:11:47.968694Z"
    },
    "tags": []
   },
   "outputs": [],
   "source": [
    "\n",
    "#query = \"SELECT mpc.ssObjectId, mpc.q, sso.ssObjectId, sso.arc, dia.mag,\" + \\\n",
    "#        \"dia.magSigma, dia.filter, sss.phaseAngle, sss.topocentricDist, \" + \\\n",
    "#        \"sss.heliocentricDist, dia.midPointTai \" + \\\n",
    "#        \"FROM dp03_catalogs.MPCORB as mpc \" + \\\n",
    "#        \"JOIN dp03_catalogs.SSObject as sso \" + \\\n",
    "#        \"ON mpc.ssObjectId = sso.ssObjectId \" + \\\n",
    "#        \"JOIN dp03_catalogs.DiaSource as dia \" + \\\n",
    "#        \"ON mpc.ssObjectId = dia.ssObjectId \" + \\\n",
    "#        \"JOIN dp03_catalogs.SSSource as sss \" + \\\n",
    "#        \"ON mpc.ssObjectId = sss.ssObjectId \" + \\\n",
    "#        \"WHERE sss.ssObjectId = 3728357697728353090\"\n"
   ]
  },
  {
   "cell_type": "code",
   "execution_count": null,
   "id": "4dd72e29-d068-436d-8a8d-01121a3d8dec",
   "metadata": {
    "execution": {
     "iopub.status.busy": "2023-07-12T19:11:47.969927Z",
     "iopub.status.idle": "2023-07-12T19:11:47.970213Z",
     "shell.execute_reply": "2023-07-12T19:11:47.970082Z",
     "shell.execute_reply.started": "2023-07-12T19:11:47.970071Z"
    }
   },
   "outputs": [],
   "source": [
    "#This is joining all 4 tables at once. It's convient b/c it returns a single table with all columns we need from the 4 tables, but takes longer than separting two queries \n",
    "\n",
    "# Getting a list of ssObjectID for sources with number of observations > 1000 and arc longer than 3000 days \n",
    "# to have sufficient phase angle coverage.\n",
    "# query0 = \"\"\"\n",
    "# SELECT \n",
    "#     mpc.ssObjectId, mpc.q, sso.arc, sso.numObs, \n",
    "#     sso.uH, sso.uHerr, sso.uG12, sso.uG12err, \n",
    "#     sso.gH, sso.gHerr, sso.gG12, sso.gG12err, \n",
    "#     sso.rH, sso.rHerr, sso.rG12, sso.rG12err, \n",
    "#     sso.iH, sso.iHerr, sso.iG12, sso.iG12err, \n",
    "#     sso.zH, sso.zHerr, sso.zG12, sso.zG12err, \n",
    "#     sso.yH, sso.yHerr, sso.yG12, sso.yG12err, \n",
    "#     sss.diaSourceId, dia.mag\n",
    "# FROM \n",
    "#     dp03_catalogs.MPCORB as mpc \n",
    "# INNER JOIN dp03_catalogs.SSObject as sso \n",
    "# ON mpc.ssObjectId = sso.ssObjectId \n",
    "# INNER JOIN dp03_catalogs.DiaSource as dia\n",
    "# ON sso.ssObjectId = dia.ssObjectId\n",
    "# INNER JOIN dp03_catalogs.SSSource as sss\n",
    "# ON dia.diaSourceId = sss.diaSourceId\n",
    "# WHERE sso.numObs > 2000 AND sso.arc > 3000 \n",
    "    \n",
    "# \"\"\"\n",
    "# df0 = service.search(query0).to_table()\n",
    "# df0"
   ]
  },
  {
   "cell_type": "code",
   "execution_count": null,
   "id": "fa0d9211-1160-47fd-9a1e-70b814b827f5",
   "metadata": {
    "execution": {
     "iopub.status.busy": "2023-07-12T19:11:47.971118Z",
     "iopub.status.idle": "2023-07-12T19:11:47.971424Z",
     "shell.execute_reply": "2023-07-12T19:11:47.971279Z",
     "shell.execute_reply.started": "2023-07-12T19:11:47.971267Z"
    },
    "tags": []
   },
   "outputs": [],
   "source": [
    "# Object from Meg's notebook: -9223369546614897710\n",
    "#ssObjId = df0['ssObjectId'] \n",
    "\n",
    "# diaObjectId is the ID that links the individual measurements between DiaObject and SSSource,\n",
    "# so you have to match on this id for unique measurement matching. \n",
    "# To then match this object to MPCORB and SSObject, you have\n",
    "# to link on the SSObjectID (hwich is unique per solar system object)\n",
    "\n",
    "# query = \"SELECT dia.diaSourceId, sss.diaSourceId, dia.mag, \" + \\\n",
    "#         \"dia.magSigma, dia.filter, sss.phaseAngle, sss.topocentricDist, \" + \\\n",
    "#         \"sss.heliocentricDist, dia.midPointTai \" + \\\n",
    "#         \"FROM dp03_catalogs.DiaSource as dia \" + \\\n",
    "#         \"JOIN dp03_catalogs.SSSource as sss \" + \\\n",
    "#         \"ON dia.diaSourceId = sss.diaSourceId \" + \\\n",
    "#         \"WHERE dia.ssObjectId IN {} ORDER by sss.diaSourceId\".format(tuple(df0['ssObjectId']))\n",
    "\n",
    "\n",
    "# df = service.search(query).to_table()\n",
    "# df"
   ]
  },
  {
   "cell_type": "code",
   "execution_count": null,
   "id": "2a4b749e-e17f-48e5-84a4-c725dbac9244",
   "metadata": {
    "execution": {
     "iopub.status.busy": "2023-07-12T19:11:47.972780Z",
     "iopub.status.idle": "2023-07-12T19:11:47.973095Z",
     "shell.execute_reply": "2023-07-12T19:11:47.972966Z",
     "shell.execute_reply.started": "2023-07-12T19:11:47.972953Z"
    },
    "tags": []
   },
   "outputs": [],
   "source": [
    "fit_param = {}\n",
    "\n",
    "for iobj in df_uniqueObj['ssObjectId']:\n",
    "    idx = df_indivObs['ssObjectId'] == iobj\n",
    "    df_tmp = df_indivObs[idx]\n",
    "    filts = np.unique(df_tmp['filter'])\n",
    "    x_filt = {}\n",
    "    for ifilt in filts:\n",
    "        idx_filt = df_tmp['filter'] == ifilt\n",
    "        nobs_ifilt = len(df_tmp[idx_filt])\n",
    "    \n",
    "        # number of observations needs to be greater than the number of fit parameter, which is 3.\n",
    "        if nobs_ifilt > 3:\n",
    "            x_filt[ifilt] = fit_models(df_tmp['mag'][idx_filt], \n",
    "                                       df_tmp['magSigma'][idx_filt], \n",
    "                                       df_tmp['phaseAngle'][idx_filt],\n",
    "                                       df_tmp['topocentricDist'][idx_filt],  \n",
    "                                       df_tmp['heliocentricDist'][idx_filt],\n",
    "                    )\n",
    "            \n",
    "    fit_param[iobj] = x_filt\n",
    "    "
   ]
  }
 ],
 "metadata": {
  "kernelspec": {
   "display_name": "LSST",
   "language": "python",
   "name": "lsst"
  },
  "language_info": {
   "codemirror_mode": {
    "name": "ipython",
    "version": 3
   },
   "file_extension": ".py",
   "mimetype": "text/x-python",
   "name": "python",
   "nbconvert_exporter": "python",
   "pygments_lexer": "ipython3",
   "version": "3.10.10"
  },
  "toc-autonumbering": false
 },
 "nbformat": 4,
 "nbformat_minor": 5
}
