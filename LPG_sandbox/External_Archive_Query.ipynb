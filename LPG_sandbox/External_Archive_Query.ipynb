{
 "cells": [
  {
   "cell_type": "code",
   "execution_count": null,
   "id": "25b50e57-3f60-413d-94cf-672f7cbe549f",
   "metadata": {
    "tags": []
   },
   "outputs": [],
   "source": [
    "# Import general python packages\n",
    "import numpy as np\n",
    "import pandas as pd\n",
    "\n",
    "# pyvo services\n",
    "import pyvo\n",
    "\n",
    "# Plotting\n",
    "import holoviews as hv\n",
    "from holoviews import dim\n",
    "hv.extension('bokeh')"
   ]
  },
  {
   "cell_type": "code",
   "execution_count": null,
   "id": "d03240c6-59ff-4dc6-af2f-92fdc6b20eb9",
   "metadata": {
    "tags": []
   },
   "outputs": [],
   "source": [
    "import pyvo\n",
    "\n",
    "gaia_tap_url = \"https://gea.esac.esa.int/tap-server/tap\"\n",
    "gaia_ts = pyvo.dal.TAPService(gaia_tap_url)\n",
    "\n",
    "query = \"\"\"\n",
    "SELECT ra,dec, DISTANCE(POINT(81.28, -69.78), \n",
    "POINT(ra,dec)) as ang_sep\n",
    "FROM gaiadr3.gaia_source \n",
    "WHERE CONTAINS(POINT('ICRS', ra, dec), \n",
    "CIRCLE('ICRS', 81.28, -69.78, 5./60))=1\n",
    "AND phot_g_mean_mag < 20.5\n",
    "AND parallax IS NOT NULL\n",
    "order by ang_sep ASC\n",
    "\"\"\"\n",
    "\n",
    "results = gaia_ts.search(query).to_table().to_pandas()\n",
    "print(len(results))"
   ]
  },
  {
   "cell_type": "code",
   "execution_count": null,
   "id": "76cbdb29-54d8-40c4-ad2d-4dfa2d660368",
   "metadata": {
    "tags": []
   },
   "outputs": [],
   "source": [
    "radec = results[['ra', 'dec']]\n",
    "df = pd.DataFrame(radec).values.tolist()"
   ]
  },
  {
   "cell_type": "code",
   "execution_count": null,
   "id": "1d2ef33a-61f6-401b-93ec-76130843d658",
   "metadata": {
    "tags": []
   },
   "outputs": [],
   "source": [
    "scatter = hv.Scatter(df)\n",
    "scatter.opts(color='teal', marker='o', size=0.5, \n",
    "            width=600, height=300,\n",
    "            fontsize={'title': 10, 'labels': 10, 'xticks': 10, 'yticks': 10},\n",
    "            xlabel='ra', ylabel=\"dec\",\n",
    "            title=\"Spatial distribution of Gaia DR3 sources overlapping a DP0.2 field\")"
   ]
  }
 ],
 "metadata": {
  "kernelspec": {
   "display_name": "LSST",
   "language": "python",
   "name": "lsst"
  },
  "language_info": {
   "codemirror_mode": {
    "name": "ipython",
    "version": 3
   },
   "file_extension": ".py",
   "mimetype": "text/x-python",
   "name": "python",
   "nbconvert_exporter": "python",
   "pygments_lexer": "ipython3",
   "version": "3.10.10"
  }
 },
 "nbformat": 4,
 "nbformat_minor": 5
}
