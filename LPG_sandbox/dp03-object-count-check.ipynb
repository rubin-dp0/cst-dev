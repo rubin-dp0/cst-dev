{
 "cells": [
  {
   "cell_type": "markdown",
   "id": "79cffbac-47af-40a8-a34e-6007d6b5ca51",
   "metadata": {},
   "source": [
    "<img align=\"left\" src = https://project.lsst.org/sites/default/files/Rubin-O-Logo_0.png width=250 style=\"padding: 10px\"> \n",
    "<p><p><p><p>\n",
    "<b>DP0.3 Solar System Science Exploration - Catalog Counts</b> <br>\n",
    "Contact author: <i>Leanne Guy</i> <br>\n",
    "Last verified to run: <i>2023-06-26</i> <br>\n",
    "LSST Science Piplines version: Weekly <i>2023_21</i> <br>\n",
    "Container Size: <i>medium</i> <br>\n",
    "Targeted learning level: <i>intermediate</i> <br>"
   ]
  },
  {
   "cell_type": "markdown",
   "id": "bda9bd1c-5b8f-4d72-8f0e-c085b6515dbc",
   "metadata": {},
   "source": [
    "This notebook inspects the number count in each table in the DP0.3 table and checks that they are consistent with expectation "
   ]
  },
  {
   "cell_type": "code",
   "execution_count": 1,
   "id": "5d3300bc-11c8-41ba-a2cb-97ebb7938fe5",
   "metadata": {
    "execution": {
     "iopub.execute_input": "2023-06-27T17:12:58.325266Z",
     "iopub.status.busy": "2023-06-27T17:12:58.324949Z",
     "iopub.status.idle": "2023-06-27T17:12:58.328690Z",
     "shell.execute_reply": "2023-06-27T17:12:58.328103Z",
     "shell.execute_reply.started": "2023-06-27T17:12:58.325241Z"
    },
    "tags": []
   },
   "outputs": [],
   "source": [
    "from lsst.rsp import get_tap_service"
   ]
  },
  {
   "cell_type": "code",
   "execution_count": 2,
   "id": "511b59f8-733a-456c-a7d3-fbb336f4f3be",
   "metadata": {
    "execution": {
     "iopub.execute_input": "2023-06-27T17:12:58.331745Z",
     "iopub.status.busy": "2023-06-27T17:12:58.331541Z",
     "iopub.status.idle": "2023-06-27T17:12:58.415916Z",
     "shell.execute_reply": "2023-06-27T17:12:58.414788Z",
     "shell.execute_reply.started": "2023-06-27T17:12:58.331727Z"
    },
    "tags": []
   },
   "outputs": [],
   "source": [
    "# Get the SSO tap service \n",
    "service = get_tap_service('ssotap')\n",
    "assert service is not None\n",
    "\n",
    "expected_base_url = os.path.join(os.getenv(\"EXTERNAL_INSTANCE_URL\", \"\"), \n",
    "                                 '/'.join(('api', 'ssotap')))\n",
    "assert service.baseurl == expected_base_url"
   ]
  },
  {
   "cell_type": "code",
   "execution_count": 3,
   "id": "2f339be0-1075-4b56-8550-f000b8bb7eef",
   "metadata": {
    "execution": {
     "iopub.execute_input": "2023-06-27T17:12:58.420130Z",
     "iopub.status.busy": "2023-06-27T17:12:58.419591Z",
     "iopub.status.idle": "2023-06-27T17:13:00.207297Z",
     "shell.execute_reply": "2023-06-27T17:13:00.206249Z",
     "shell.execute_reply.started": "2023-06-27T17:12:58.420106Z"
    },
    "tags": []
   },
   "outputs": [],
   "source": [
    "# Get the number of entries in the SSObject table \n",
    "query = \"\"\"\n",
    "SELECT COUNT(*) from dp03_catalogs.MPCOrb\n",
    "\"\"\"\n",
    "results = service.search(query)\n",
    "n_mpcorb = results.getvalue('COUNT', 0)"
   ]
  },
  {
   "cell_type": "code",
   "execution_count": 4,
   "id": "d9b91acf-128a-4446-8603-2328d2ede59c",
   "metadata": {
    "execution": {
     "iopub.execute_input": "2023-06-27T17:13:00.211777Z",
     "iopub.status.busy": "2023-06-27T17:13:00.211193Z",
     "iopub.status.idle": "2023-06-27T17:13:00.527207Z",
     "shell.execute_reply": "2023-06-27T17:13:00.526404Z",
     "shell.execute_reply.started": "2023-06-27T17:13:00.211743Z"
    },
    "tags": []
   },
   "outputs": [],
   "source": [
    "# Get the number of entries in the SSObject table \n",
    "query = \"\"\"\n",
    "SELECT COUNT(*) from dp03_catalogs.SSObject\n",
    "\"\"\"\n",
    "results = service.search(query)\n",
    "n_ssobject = results.getvalue('COUNT', 0)"
   ]
  },
  {
   "cell_type": "code",
   "execution_count": 5,
   "id": "7133d351-54ff-4197-86c4-e0314c51cc4c",
   "metadata": {
    "execution": {
     "iopub.execute_input": "2023-06-27T17:13:00.530935Z",
     "iopub.status.busy": "2023-06-27T17:13:00.530399Z",
     "iopub.status.idle": "2023-06-27T17:13:36.183807Z",
     "shell.execute_reply": "2023-06-27T17:13:36.182891Z",
     "shell.execute_reply.started": "2023-06-27T17:13:00.530912Z"
    },
    "tags": []
   },
   "outputs": [],
   "source": [
    "query = \"\"\"\n",
    "SELECT COUNT(*) from dp03_catalogs.SSSource\n",
    "\"\"\"\n",
    "results = service.search(query)\n",
    "n_sssource = results.getvalue('COUNT', 0)"
   ]
  },
  {
   "cell_type": "code",
   "execution_count": 6,
   "id": "0184f27b-1ea7-4781-bed5-8c4f339b2430",
   "metadata": {
    "execution": {
     "iopub.execute_input": "2023-06-27T17:13:36.187401Z",
     "iopub.status.busy": "2023-06-27T17:13:36.187116Z",
     "iopub.status.idle": "2023-06-27T17:13:55.211520Z",
     "shell.execute_reply": "2023-06-27T17:13:55.210341Z",
     "shell.execute_reply.started": "2023-06-27T17:13:36.187369Z"
    },
    "tags": []
   },
   "outputs": [],
   "source": [
    "query = \"\"\"\n",
    "SELECT COUNT(*) from dp03_catalogs.DiaSource\n",
    "\"\"\"\n",
    "results = service.search(query)\n",
    "n_diasource = results.getvalue('COUNT', 0)"
   ]
  },
  {
   "cell_type": "markdown",
   "id": "f2775d00-1bfe-499d-9c1c-d24a18438eae",
   "metadata": {},
   "source": [
    "We expect a 1:1 relationship between MPCOrb and SSObject"
   ]
  },
  {
   "cell_type": "code",
   "execution_count": 7,
   "id": "f9fd0420-daad-4003-a27d-5436d5f38fbd",
   "metadata": {
    "execution": {
     "iopub.execute_input": "2023-06-27T17:13:55.213031Z",
     "iopub.status.busy": "2023-06-27T17:13:55.212705Z",
     "iopub.status.idle": "2023-06-27T17:13:55.218179Z",
     "shell.execute_reply": "2023-06-27T17:13:55.217465Z",
     "shell.execute_reply.started": "2023-06-27T17:13:55.213005Z"
    },
    "tags": []
   },
   "outputs": [
    {
     "name": "stdout",
     "output_type": "stream",
     "text": [
      "Assertion failed: \n",
      "N entries MPCORB 14600302 != N entries SSObjeect 10222593\n"
     ]
    }
   ],
   "source": [
    "try:\n",
    "    assert n_mpcorb == n_ssobject\n",
    "except AssertionError as e:\n",
    "    print(f\"Assertion failed:\", str(e))\n",
    "    print(f\"N entries MPCORB {n_mpcorb} != N entries SSObject {n_ssobject}\")"
   ]
  },
  {
   "cell_type": "markdown",
   "id": "77574acc-20fd-4ce3-ae05-baf8b4507706",
   "metadata": {},
   "source": [
    "We expect a 1:1 relationship between DIASource and SSSource"
   ]
  },
  {
   "cell_type": "code",
   "execution_count": 8,
   "id": "7888797b-9242-4e54-8fa3-4e30d308baa3",
   "metadata": {
    "execution": {
     "iopub.execute_input": "2023-06-27T17:13:55.219376Z",
     "iopub.status.busy": "2023-06-27T17:13:55.219137Z",
     "iopub.status.idle": "2023-06-27T17:13:55.234568Z",
     "shell.execute_reply": "2023-06-27T17:13:55.233864Z",
     "shell.execute_reply.started": "2023-06-27T17:13:55.219357Z"
    },
    "tags": []
   },
   "outputs": [],
   "source": [
    "try:\n",
    "    assert n_sssource == n_diasource\n",
    "except AssertionError as e:\n",
    "    print(\"Assertion failed:\", str(e))\n",
    "    print(f\"N entries SSSource {n_sssource} != N entries DIASource {n_diasource}\")"
   ]
  }
 ],
 "metadata": {
  "kernelspec": {
   "display_name": "LSST",
   "language": "python",
   "name": "lsst"
  },
  "language_info": {
   "codemirror_mode": {
    "name": "ipython",
    "version": 3
   },
   "file_extension": ".py",
   "mimetype": "text/x-python",
   "name": "python",
   "nbconvert_exporter": "python",
   "pygments_lexer": "ipython3",
   "version": "3.10.10"
  }
 },
 "nbformat": 4,
 "nbformat_minor": 5
}
