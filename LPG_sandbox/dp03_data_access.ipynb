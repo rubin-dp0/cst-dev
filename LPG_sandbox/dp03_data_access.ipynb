{
 "cells": [
  {
   "cell_type": "markdown",
   "id": "79cffbac-47af-40a8-a34e-6007d6b5ca51",
   "metadata": {},
   "source": [
    "# Try using the SSSC data "
   ]
  },
  {
   "cell_type": "code",
   "execution_count": 12,
   "id": "5d3300bc-11c8-41ba-a2cb-97ebb7938fe5",
   "metadata": {
    "execution": {
     "iopub.execute_input": "2023-06-16T19:09:08.117685Z",
     "iopub.status.busy": "2023-06-16T19:09:08.116748Z",
     "iopub.status.idle": "2023-06-16T19:09:08.121354Z",
     "shell.execute_reply": "2023-06-16T19:09:08.120691Z",
     "shell.execute_reply.started": "2023-06-16T19:09:08.117650Z"
    },
    "tags": []
   },
   "outputs": [],
   "source": [
    "import pandas\n",
    "from pandas.testing import assert_frame_equal\n",
    "from lsst.rsp import get_tap_service, retrieve_query, get_hostname\n",
    "pandas.set_option('display.max_rows', 20)"
   ]
  },
  {
   "cell_type": "code",
   "execution_count": 5,
   "id": "adc2fbb0-17c7-4bb6-805f-1ec5badcec44",
   "metadata": {
    "execution": {
     "iopub.execute_input": "2023-06-16T19:06:59.600522Z",
     "iopub.status.busy": "2023-06-16T19:06:59.600257Z",
     "iopub.status.idle": "2023-06-16T19:06:59.669145Z",
     "shell.execute_reply": "2023-06-16T19:06:59.667963Z",
     "shell.execute_reply.started": "2023-06-16T19:06:59.600501Z"
    },
    "tags": []
   },
   "outputs": [
    {
     "name": "stderr",
     "output_type": "stream",
     "text": [
      "/tmp/ipykernel_702/1975941569.py:3: DeprecationWarning: get_tap_service() is deprecated, use get_tap_service(\"tap\")\n",
      "  service = get_tap_service()\n"
     ]
    }
   ],
   "source": [
    "# Get the default tap service using the old interface\n",
    "# note that it gives a deprecation warning - we will not use this. \n",
    "service = get_tap_service()"
   ]
  },
  {
   "cell_type": "code",
   "execution_count": 20,
   "id": "d3baba41-3cc0-47a6-9195-583ac2d19263",
   "metadata": {
    "execution": {
     "iopub.execute_input": "2023-06-16T19:11:45.147302Z",
     "iopub.status.busy": "2023-06-16T19:11:45.146260Z",
     "iopub.status.idle": "2023-06-16T19:11:45.151552Z",
     "shell.execute_reply": "2023-06-16T19:11:45.150519Z",
     "shell.execute_reply.started": "2023-06-16T19:11:45.147262Z"
    },
    "tags": []
   },
   "outputs": [],
   "source": [
    "host_url = os.getenv(\"EXTERNAL_INSTANCE_URL\", \"\")"
   ]
  },
  {
   "cell_type": "code",
   "execution_count": 22,
   "id": "511b59f8-733a-456c-a7d3-fbb336f4f3be",
   "metadata": {
    "execution": {
     "iopub.execute_input": "2023-06-16T19:11:52.349982Z",
     "iopub.status.busy": "2023-06-16T19:11:52.348964Z",
     "iopub.status.idle": "2023-06-16T19:11:52.423265Z",
     "shell.execute_reply": "2023-06-16T19:11:52.422455Z",
     "shell.execute_reply.started": "2023-06-16T19:11:52.349945Z"
    },
    "tags": []
   },
   "outputs": [],
   "source": [
    "service = get_tap_service('tap')\n",
    "assert service is not None\n",
    "assert service.baseurl == host_url + \"/api/tap\""
   ]
  },
  {
   "cell_type": "code",
   "execution_count": 7,
   "id": "47d12217-3658-4ed3-8a6d-61ef2f5772c6",
   "metadata": {
    "execution": {
     "iopub.execute_input": "2023-06-16T19:06:59.729785Z",
     "iopub.status.busy": "2023-06-16T19:06:59.729023Z",
     "iopub.status.idle": "2023-06-16T19:06:59.733422Z",
     "shell.execute_reply": "2023-06-16T19:06:59.732742Z",
     "shell.execute_reply.started": "2023-06-16T19:06:59.729756Z"
    },
    "tags": []
   },
   "outputs": [],
   "source": [
    "query = \"\"\"\n",
    "SELECT * FROM tap_schema.schemas\n",
    "\"\"\""
   ]
  },
  {
   "cell_type": "code",
   "execution_count": 8,
   "id": "08e63f31-d03c-4dc7-a719-8c338358e0a0",
   "metadata": {
    "execution": {
     "iopub.execute_input": "2023-06-16T19:06:59.735659Z",
     "iopub.status.busy": "2023-06-16T19:06:59.735385Z",
     "iopub.status.idle": "2023-06-16T19:06:59.954923Z",
     "shell.execute_reply": "2023-06-16T19:06:59.954246Z",
     "shell.execute_reply.started": "2023-06-16T19:06:59.735637Z"
    }
   },
   "outputs": [
    {
     "name": "stdout",
     "output_type": "stream",
     "text": [
      "<class 'pyvo.dal.tap.TAPResults'>\n"
     ]
    }
   ],
   "source": [
    "results = service.search(query)\n",
    "print(type(results))"
   ]
  },
  {
   "cell_type": "code",
   "execution_count": 9,
   "id": "0b746e10-d214-4055-9ff7-b3c919df5b6b",
   "metadata": {
    "execution": {
     "iopub.execute_input": "2023-06-16T19:06:59.956026Z",
     "iopub.status.busy": "2023-06-16T19:06:59.955782Z",
     "iopub.status.idle": "2023-06-16T19:07:00.065487Z",
     "shell.execute_reply": "2023-06-16T19:07:00.064816Z",
     "shell.execute_reply.started": "2023-06-16T19:06:59.956006Z"
    },
    "tags": []
   },
   "outputs": [
    {
     "data": {
      "text/html": [
       "<div><i>Table length=5</i>\n",
       "<table id=\"table140087236923632\" class=\"table-striped table-bordered table-condensed\">\n",
       "<thead><tr><th>description</th><th>schema_index</th><th>schema_name</th><th>utype</th></tr></thead>\n",
       "<thead><tr><th>str512</th><th>int32</th><th>str64</th><th>str512</th></tr></thead>\n",
       "<tr><td>Data Preview 0.1 includes five tables based on the DESC&apos;s Data Challenge 2 simulation of 300 square degrees of the wide-fast-deep LSST survey region after 5 years. All tables contain objects detected in coadded images.</td><td>1</td><td>dp01_dc2_catalogs</td><td></td></tr>\n",
       "<tr><td>Data Preview 0.2 contains the image and catalog products of the Rubin Science Pipelines v23 processing of the DESC Data Challenge 2 simulation, which covered 300 square degrees of the wide-fast-deep LSST survey region over 5 years.</td><td>0</td><td>dp02_dc2_catalogs</td><td></td></tr>\n",
       "<tr><td>ObsCore v1.1 attributes in ObsTAP realization</td><td>2</td><td>ivoa</td><td></td></tr>\n",
       "<tr><td>A TAP-standard-mandated schema to describe tablesets in a TAP 1.1 service</td><td>100000</td><td>tap_schema</td><td></td></tr>\n",
       "<tr><td>UWS Metadata</td><td>120000</td><td>uws</td><td></td></tr>\n",
       "</table></div>"
      ],
      "text/plain": [
       "<Table length=5>\n",
       "                                                                                                              description                                                                                                               ...\n",
       "                                                                                                                 str512                                                                                                                 ...\n",
       "--------------------------------------------------------------------------------------------------------------------------------------------------------------------------------------------------------------------------------------- ...\n",
       "             Data Preview 0.1 includes five tables based on the DESC's Data Challenge 2 simulation of 300 square degrees of the wide-fast-deep LSST survey region after 5 years. All tables contain objects detected in coadded images. ...\n",
       "Data Preview 0.2 contains the image and catalog products of the Rubin Science Pipelines v23 processing of the DESC Data Challenge 2 simulation, which covered 300 square degrees of the wide-fast-deep LSST survey region over 5 years. ...\n",
       "                                                                                                                                                                                          ObsCore v1.1 attributes in ObsTAP realization ...\n",
       "                                                                                                                                                              A TAP-standard-mandated schema to describe tablesets in a TAP 1.1 service ...\n",
       "                                                                                                                                                                                                                           UWS Metadata ..."
      ]
     },
     "execution_count": 9,
     "metadata": {},
     "output_type": "execute_result"
    }
   ],
   "source": [
    "results = service.search(query).to_table()\n",
    "results"
   ]
  },
  {
   "cell_type": "markdown",
   "id": "8426ef70-53a0-4e67-9e16-0ef47e3ada1b",
   "metadata": {},
   "source": [
    "See that the standard default tap service provides access to the DP0.1/2 tables"
   ]
  },
  {
   "cell_type": "code",
   "execution_count": 10,
   "id": "c6d4554f-b937-4f5d-8e93-a75b63acf747",
   "metadata": {
    "execution": {
     "iopub.execute_input": "2023-06-16T19:07:00.067105Z",
     "iopub.status.busy": "2023-06-16T19:07:00.066428Z",
     "iopub.status.idle": "2023-06-16T19:07:00.136809Z",
     "shell.execute_reply": "2023-06-16T19:07:00.135577Z",
     "shell.execute_reply.started": "2023-06-16T19:07:00.067081Z"
    },
    "tags": []
   },
   "outputs": [
    {
     "name": "stdout",
     "output_type": "stream",
     "text": [
      "https://data.lsst.cloud/api/ssotap\n"
     ]
    },
    {
     "ename": "AssertionError",
     "evalue": "",
     "output_type": "error",
     "traceback": [
      "\u001b[0;31m---------------------------------------------------------------------------\u001b[0m",
      "\u001b[0;31mAssertionError\u001b[0m                            Traceback (most recent call last)",
      "Input \u001b[0;32mIn [10]\u001b[0m, in \u001b[0;36m<cell line: 5>\u001b[0;34m()\u001b[0m\n\u001b[1;32m      3\u001b[0m \u001b[38;5;28;01massert\u001b[39;00m service \u001b[38;5;129;01mis\u001b[39;00m \u001b[38;5;129;01mnot\u001b[39;00m \u001b[38;5;28;01mNone\u001b[39;00m\n\u001b[1;32m      4\u001b[0m \u001b[38;5;28mprint\u001b[39m(sso_tap\u001b[38;5;241m.\u001b[39mbaseurl)\n\u001b[0;32m----> 5\u001b[0m \u001b[38;5;28;01massert\u001b[39;00m sso_tap\u001b[38;5;241m.\u001b[39mbaseurl \u001b[38;5;241m==\u001b[39m \u001b[38;5;124m\"\u001b[39m\u001b[38;5;124mhttps://data-int.lsst.cloud/api/ssotap\u001b[39m\u001b[38;5;124m\"\u001b[39m\n",
      "\u001b[0;31mAssertionError\u001b[0m: "
     ]
    }
   ],
   "source": [
    "# Now we will get an sso specific tap service \n",
    "sso_tap = get_tap_service(\"ssotap\")\n",
    "assert service is not None\n",
    "print(sso_tap.baseurl)\n",
    "assert sso_tap.baseurl == host_url + \"/api/ssotap\""
   ]
  },
  {
   "cell_type": "code",
   "execution_count": null,
   "id": "0413e678-42a5-4fdd-b421-bce3a3a50db4",
   "metadata": {
    "execution": {
     "iopub.status.busy": "2023-06-16T19:07:00.137610Z",
     "iopub.status.idle": "2023-06-16T19:07:00.137939Z",
     "shell.execute_reply": "2023-06-16T19:07:00.137806Z",
     "shell.execute_reply.started": "2023-06-16T19:07:00.137793Z"
    },
    "tags": []
   },
   "outputs": [],
   "source": [
    "results = sso_tap.search(query)"
   ]
  },
  {
   "cell_type": "code",
   "execution_count": null,
   "id": "2cc40073-3d56-4548-aca0-0cb42aa4c5a4",
   "metadata": {
    "execution": {
     "iopub.status.busy": "2023-06-16T19:07:00.139116Z",
     "iopub.status.idle": "2023-06-16T19:07:00.139408Z",
     "shell.execute_reply": "2023-06-16T19:07:00.139287Z",
     "shell.execute_reply.started": "2023-06-16T19:07:00.139275Z"
    },
    "tags": []
   },
   "outputs": [],
   "source": [
    "results = sso_tap.search(query).to_table()\n",
    "results"
   ]
  },
  {
   "cell_type": "code",
   "execution_count": null,
   "id": "54a0f64c-f50d-48bd-ad87-7b2f02e0edc5",
   "metadata": {
    "execution": {
     "iopub.status.busy": "2023-06-16T19:07:00.140811Z",
     "iopub.status.idle": "2023-06-16T19:07:00.141149Z",
     "shell.execute_reply": "2023-06-16T19:07:00.141012Z",
     "shell.execute_reply.started": "2023-06-16T19:07:00.140999Z"
    },
    "tags": []
   },
   "outputs": [],
   "source": [
    "schema_names = results['schema_name']\n",
    "for name in schema_names:\n",
    "    if name.find('dp03') > -1:\n",
    "        dp03_schema_name = name\n",
    "        break\n",
    "print(\"DP0.3 schema is \" + dp03_schema_name)"
   ]
  },
  {
   "cell_type": "code",
   "execution_count": null,
   "id": "3e50557a-df50-4d91-a374-f3430844a2db",
   "metadata": {
    "execution": {
     "iopub.status.busy": "2023-06-16T19:07:00.142193Z",
     "iopub.status.idle": "2023-06-16T19:07:00.142576Z",
     "shell.execute_reply": "2023-06-16T19:07:00.142442Z",
     "shell.execute_reply.started": "2023-06-16T19:07:00.142429Z"
    },
    "tags": []
   },
   "outputs": [],
   "source": [
    "query = \"\"\"\n",
    "SELECT * FROM tap_schema.tables\n",
    "WHERE tap_schema.tables.schema_name = \n",
    "'dp03_catalogs' \n",
    "ORDER by table_index ASC\n",
    "\"\"\""
   ]
  },
  {
   "cell_type": "code",
   "execution_count": null,
   "id": "9d057399-ee39-45fa-81a2-1e285f9e83d7",
   "metadata": {
    "execution": {
     "iopub.status.busy": "2023-06-16T19:07:00.143650Z",
     "iopub.status.idle": "2023-06-16T19:07:00.143946Z",
     "shell.execute_reply": "2023-06-16T19:07:00.143826Z",
     "shell.execute_reply.started": "2023-06-16T19:07:00.143814Z"
    },
    "tags": []
   },
   "outputs": [],
   "source": [
    "results = sso_tap.search(query).to_table()\n",
    "results"
   ]
  }
 ],
 "metadata": {
  "kernelspec": {
   "display_name": "LSST",
   "language": "python",
   "name": "lsst"
  },
  "language_info": {
   "codemirror_mode": {
    "name": "ipython",
    "version": 3
   },
   "file_extension": ".py",
   "mimetype": "text/x-python",
   "name": "python",
   "nbconvert_exporter": "python",
   "pygments_lexer": "ipython3",
   "version": "3.10.10"
  }
 },
 "nbformat": 4,
 "nbformat_minor": 5
}
