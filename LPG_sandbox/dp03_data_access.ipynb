{
 "cells": [
  {
   "cell_type": "markdown",
   "id": "79cffbac-47af-40a8-a34e-6007d6b5ca51",
   "metadata": {},
   "source": [
    "# Try using the SSSC data "
   ]
  },
  {
   "cell_type": "code",
   "execution_count": 1,
   "id": "5d3300bc-11c8-41ba-a2cb-97ebb7938fe5",
   "metadata": {
    "execution": {
     "iopub.execute_input": "2023-06-13T00:47:38.650984Z",
     "iopub.status.busy": "2023-06-13T00:47:38.650786Z",
     "iopub.status.idle": "2023-06-13T00:47:39.225901Z",
     "shell.execute_reply": "2023-06-13T00:47:39.225128Z",
     "shell.execute_reply.started": "2023-06-13T00:47:38.650965Z"
    },
    "tags": []
   },
   "outputs": [],
   "source": [
    "import pandas\n",
    "from pandas.testing import assert_frame_equal\n",
    "from lsst.rsp import get_tap_service, retrieve_query\n",
    "pandas.set_option('display.max_rows', 20)"
   ]
  },
  {
   "cell_type": "code",
   "execution_count": 2,
   "id": "adc2fbb0-17c7-4bb6-805f-1ec5badcec44",
   "metadata": {
    "execution": {
     "iopub.execute_input": "2023-06-13T00:47:39.229252Z",
     "iopub.status.busy": "2023-06-13T00:47:39.229029Z",
     "iopub.status.idle": "2023-06-13T00:47:39.298982Z",
     "shell.execute_reply": "2023-06-13T00:47:39.298195Z",
     "shell.execute_reply.started": "2023-06-13T00:47:39.229234Z"
    },
    "tags": []
   },
   "outputs": [
    {
     "name": "stderr",
     "output_type": "stream",
     "text": [
      "/tmp/ipykernel_2836/1975941569.py:3: DeprecationWarning: get_tap_service() is deprecated, use get_tap_service(\"tap\")\n",
      "  service = get_tap_service()\n"
     ]
    }
   ],
   "source": [
    "# Get the default tap service using the old interface\n",
    "# note that it gives a deprecation warning - we will not use this. \n",
    "service = get_tap_service()"
   ]
  },
  {
   "cell_type": "code",
   "execution_count": 3,
   "id": "511b59f8-733a-456c-a7d3-fbb336f4f3be",
   "metadata": {
    "execution": {
     "iopub.execute_input": "2023-06-13T00:47:39.302211Z",
     "iopub.status.busy": "2023-06-13T00:47:39.301929Z",
     "iopub.status.idle": "2023-06-13T00:47:39.368725Z",
     "shell.execute_reply": "2023-06-13T00:47:39.367992Z",
     "shell.execute_reply.started": "2023-06-13T00:47:39.302190Z"
    },
    "tags": []
   },
   "outputs": [],
   "source": [
    "service = get_tap_service('tap')\n",
    "assert service is not None\n",
    "assert service.baseurl == \"https://data-int.lsst.cloud/api/tap\""
   ]
  },
  {
   "cell_type": "code",
   "execution_count": 4,
   "id": "47d12217-3658-4ed3-8a6d-61ef2f5772c6",
   "metadata": {
    "execution": {
     "iopub.execute_input": "2023-06-13T00:47:39.371866Z",
     "iopub.status.busy": "2023-06-13T00:47:39.371652Z",
     "iopub.status.idle": "2023-06-13T00:47:39.375216Z",
     "shell.execute_reply": "2023-06-13T00:47:39.374622Z",
     "shell.execute_reply.started": "2023-06-13T00:47:39.371848Z"
    },
    "tags": []
   },
   "outputs": [],
   "source": [
    "query = \"\"\"\n",
    "SELECT * FROM tap_schema.schemas\n",
    "\"\"\""
   ]
  },
  {
   "cell_type": "code",
   "execution_count": 5,
   "id": "08e63f31-d03c-4dc7-a719-8c338358e0a0",
   "metadata": {
    "execution": {
     "iopub.execute_input": "2023-06-13T00:47:39.378201Z",
     "iopub.status.busy": "2023-06-13T00:47:39.377919Z",
     "iopub.status.idle": "2023-06-13T00:47:39.469340Z",
     "shell.execute_reply": "2023-06-13T00:47:39.468644Z",
     "shell.execute_reply.started": "2023-06-13T00:47:39.378181Z"
    }
   },
   "outputs": [
    {
     "name": "stdout",
     "output_type": "stream",
     "text": [
      "<class 'pyvo.dal.tap.TAPResults'>\n"
     ]
    }
   ],
   "source": [
    "results = service.search(query)\n",
    "print(type(results))"
   ]
  },
  {
   "cell_type": "code",
   "execution_count": 6,
   "id": "0b746e10-d214-4055-9ff7-b3c919df5b6b",
   "metadata": {
    "execution": {
     "iopub.execute_input": "2023-06-13T00:47:39.470587Z",
     "iopub.status.busy": "2023-06-13T00:47:39.470280Z",
     "iopub.status.idle": "2023-06-13T00:47:39.558690Z",
     "shell.execute_reply": "2023-06-13T00:47:39.557981Z",
     "shell.execute_reply.started": "2023-06-13T00:47:39.470558Z"
    },
    "tags": []
   },
   "outputs": [
    {
     "data": {
      "text/html": [
       "<div><i>Table length=5</i>\n",
       "<table id=\"table140621614307488\" class=\"table-striped table-bordered table-condensed\">\n",
       "<thead><tr><th>description</th><th>schema_index</th><th>schema_name</th><th>utype</th></tr></thead>\n",
       "<thead><tr><th>str512</th><th>int32</th><th>str64</th><th>str512</th></tr></thead>\n",
       "<tr><td>Data Preview 0.1 includes five tables based on the DESC&apos;s Data Challenge 2 simulation of 300 square degrees of the wide-fast-deep LSST survey region after 5 years. All tables contain objects detected in coadded images.</td><td>1</td><td>dp01_dc2_catalogs</td><td></td></tr>\n",
       "<tr><td>Data Preview 0.2 contains the image and catalog products of the Rubin Science Pipelines v23 processing of the DESC Data Challenge 2 simulation, which covered 300 square degrees of the wide-fast-deep LSST survey region over 5 years.</td><td>0</td><td>dp02_dc2_catalogs</td><td></td></tr>\n",
       "<tr><td>ObsCore v1.1 attributes in ObsTAP realization</td><td>2</td><td>ivoa</td><td></td></tr>\n",
       "<tr><td>A TAP-standard-mandated schema to describe tablesets in a TAP 1.1 service</td><td>100000</td><td>tap_schema</td><td></td></tr>\n",
       "<tr><td>UWS Metadata</td><td>120000</td><td>uws</td><td></td></tr>\n",
       "</table></div>"
      ],
      "text/plain": [
       "<Table length=5>\n",
       "                                                                                                              description                                                                                                               ...\n",
       "                                                                                                                 str512                                                                                                                 ...\n",
       "--------------------------------------------------------------------------------------------------------------------------------------------------------------------------------------------------------------------------------------- ...\n",
       "             Data Preview 0.1 includes five tables based on the DESC's Data Challenge 2 simulation of 300 square degrees of the wide-fast-deep LSST survey region after 5 years. All tables contain objects detected in coadded images. ...\n",
       "Data Preview 0.2 contains the image and catalog products of the Rubin Science Pipelines v23 processing of the DESC Data Challenge 2 simulation, which covered 300 square degrees of the wide-fast-deep LSST survey region over 5 years. ...\n",
       "                                                                                                                                                                                          ObsCore v1.1 attributes in ObsTAP realization ...\n",
       "                                                                                                                                                              A TAP-standard-mandated schema to describe tablesets in a TAP 1.1 service ...\n",
       "                                                                                                                                                                                                                           UWS Metadata ..."
      ]
     },
     "execution_count": 6,
     "metadata": {},
     "output_type": "execute_result"
    }
   ],
   "source": [
    "results = service.search(query).to_table()\n",
    "results"
   ]
  },
  {
   "cell_type": "markdown",
   "id": "8426ef70-53a0-4e67-9e16-0ef47e3ada1b",
   "metadata": {},
   "source": [
    "See that the standard default tap service provides access to the DP0.1/2 tables"
   ]
  },
  {
   "cell_type": "code",
   "execution_count": 7,
   "id": "c6d4554f-b937-4f5d-8e93-a75b63acf747",
   "metadata": {
    "execution": {
     "iopub.execute_input": "2023-06-13T00:47:39.559856Z",
     "iopub.status.busy": "2023-06-13T00:47:39.559596Z",
     "iopub.status.idle": "2023-06-13T00:47:39.622215Z",
     "shell.execute_reply": "2023-06-13T00:47:39.621125Z",
     "shell.execute_reply.started": "2023-06-13T00:47:39.559836Z"
    },
    "tags": []
   },
   "outputs": [
    {
     "name": "stdout",
     "output_type": "stream",
     "text": [
      "https://data-int.lsst.cloud/api/ssotap\n"
     ]
    }
   ],
   "source": [
    "# Now we will get an sso specific tap service \n",
    "sso_tap = get_tap_service(\"ssotap\")\n",
    "assert service is not None\n",
    "print(sso_tap.baseurl)\n",
    "assert sso_tap.baseurl == \"https://data-int.lsst.cloud/api/ssotap\""
   ]
  },
  {
   "cell_type": "code",
   "execution_count": 8,
   "id": "0413e678-42a5-4fdd-b421-bce3a3a50db4",
   "metadata": {
    "execution": {
     "iopub.execute_input": "2023-06-13T00:47:39.623671Z",
     "iopub.status.busy": "2023-06-13T00:47:39.623394Z",
     "iopub.status.idle": "2023-06-13T00:47:39.761899Z",
     "shell.execute_reply": "2023-06-13T00:47:39.761050Z",
     "shell.execute_reply.started": "2023-06-13T00:47:39.623651Z"
    },
    "tags": []
   },
   "outputs": [],
   "source": [
    "results = sso_tap.search(query)"
   ]
  },
  {
   "cell_type": "code",
   "execution_count": 9,
   "id": "2cc40073-3d56-4548-aca0-0cb42aa4c5a4",
   "metadata": {
    "execution": {
     "iopub.execute_input": "2023-06-13T00:47:39.763421Z",
     "iopub.status.busy": "2023-06-13T00:47:39.762920Z",
     "iopub.status.idle": "2023-06-13T00:47:39.854363Z",
     "shell.execute_reply": "2023-06-13T00:47:39.853390Z",
     "shell.execute_reply.started": "2023-06-13T00:47:39.763397Z"
    },
    "tags": []
   },
   "outputs": [
    {
     "data": {
      "text/html": [
       "<div><i>Table length=3</i>\n",
       "<table id=\"table140621878410640\" class=\"table-striped table-bordered table-condensed\">\n",
       "<thead><tr><th>description</th><th>schema_index</th><th>schema_name</th><th>utype</th></tr></thead>\n",
       "<thead><tr><th>str512</th><th>int32</th><th>str64</th><th>str512</th></tr></thead>\n",
       "<tr><td>Data Preview 0.3 contains the catalog products of a Solar System Science Collaboration simulation of the results of SSO analysis of the wide-fast-deep data from the LSST ten-year dataset.</td><td>0</td><td>dp03_catalogs</td><td></td></tr>\n",
       "<tr><td>A TAP-standard-mandated schema to describe tablesets in a TAP 1.1 service</td><td>100000</td><td>tap_schema</td><td></td></tr>\n",
       "<tr><td>UWS Metadata</td><td>120000</td><td>uws</td><td></td></tr>\n",
       "</table></div>"
      ],
      "text/plain": [
       "<Table length=3>\n",
       "                                                                                        description                                                                                         ...\n",
       "                                                                                           str512                                                                                           ...\n",
       "------------------------------------------------------------------------------------------------------------------------------------------------------------------------------------------- ...\n",
       "Data Preview 0.3 contains the catalog products of a Solar System Science Collaboration simulation of the results of SSO analysis of the wide-fast-deep data from the LSST ten-year dataset. ...\n",
       "                                                                                                                  A TAP-standard-mandated schema to describe tablesets in a TAP 1.1 service ...\n",
       "                                                                                                                                                                               UWS Metadata ..."
      ]
     },
     "execution_count": 9,
     "metadata": {},
     "output_type": "execute_result"
    }
   ],
   "source": [
    "results = sso_tap.search(query).to_table()\n",
    "results"
   ]
  },
  {
   "cell_type": "code",
   "execution_count": 10,
   "id": "54a0f64c-f50d-48bd-ad87-7b2f02e0edc5",
   "metadata": {
    "execution": {
     "iopub.execute_input": "2023-06-13T00:47:39.856294Z",
     "iopub.status.busy": "2023-06-13T00:47:39.855849Z",
     "iopub.status.idle": "2023-06-13T00:47:39.861630Z",
     "shell.execute_reply": "2023-06-13T00:47:39.860755Z",
     "shell.execute_reply.started": "2023-06-13T00:47:39.856263Z"
    },
    "tags": []
   },
   "outputs": [
    {
     "name": "stdout",
     "output_type": "stream",
     "text": [
      "DP0.3 schema is dp03_catalogs\n"
     ]
    }
   ],
   "source": [
    "schema_names = results['schema_name']\n",
    "for name in schema_names:\n",
    "    if name.find('dp03') > -1:\n",
    "        dp03_schema_name = name\n",
    "        break\n",
    "print(\"DP0.3 schema is \" + dp03_schema_name)"
   ]
  },
  {
   "cell_type": "code",
   "execution_count": 11,
   "id": "3e50557a-df50-4d91-a374-f3430844a2db",
   "metadata": {
    "execution": {
     "iopub.execute_input": "2023-06-13T00:47:39.863396Z",
     "iopub.status.busy": "2023-06-13T00:47:39.863015Z",
     "iopub.status.idle": "2023-06-13T00:47:39.878622Z",
     "shell.execute_reply": "2023-06-13T00:47:39.877796Z",
     "shell.execute_reply.started": "2023-06-13T00:47:39.863363Z"
    },
    "tags": []
   },
   "outputs": [],
   "source": [
    "query = \"\"\"\n",
    "SELECT * FROM tap_schema.tables\n",
    "WHERE tap_schema.tables.schema_name = \n",
    "'dp03_catalogs' \n",
    "ORDER by table_index ASC\n",
    "\"\"\""
   ]
  },
  {
   "cell_type": "code",
   "execution_count": 12,
   "id": "9d057399-ee39-45fa-81a2-1e285f9e83d7",
   "metadata": {
    "execution": {
     "iopub.execute_input": "2023-06-13T00:47:39.880055Z",
     "iopub.status.busy": "2023-06-13T00:47:39.879681Z",
     "iopub.status.idle": "2023-06-13T00:47:39.990831Z",
     "shell.execute_reply": "2023-06-13T00:47:39.990219Z",
     "shell.execute_reply.started": "2023-06-13T00:47:39.880023Z"
    },
    "tags": []
   },
   "outputs": [
    {
     "data": {
      "text/html": [
       "<div><i>Table length=4</i>\n",
       "<table id=\"table140621476816704\" class=\"table-striped table-bordered table-condensed\">\n",
       "<thead><tr><th>description</th><th>schema_name</th><th>table_index</th><th>table_name</th><th>table_type</th><th>utype</th></tr></thead>\n",
       "<thead><tr><th>str512</th><th>str512</th><th>int32</th><th>str64</th><th>str8</th><th>str512</th></tr></thead>\n",
       "<tr><td>The orbit catalog produced by the Minor Planet Center. Ingested daily. O(10M) rows by survey end. The columns are described at https://minorplanetcenter.net//iau/info/MPOrbitFormat.html</td><td>dp03_catalogs</td><td>0</td><td>dp03_catalogs.MPCORB</td><td>table</td><td></td></tr>\n",
       "<tr><td>LSST-computed per-object quantities. 1:1 relationship with MPCORB. Recomputed daily, upon MPCORB ingestion.</td><td>dp03_catalogs</td><td>0</td><td>dp03_catalogs.SSObject</td><td>table</td><td></td></tr>\n",
       "<tr><td>LSST-computed per-source quantities. 1:1 relationship with DIASource. Recomputed daily, upon MPCORB ingestion.</td><td>dp03_catalogs</td><td>0</td><td>dp03_catalogs.SSSource</td><td>table</td><td></td></tr>\n",
       "<tr><td>Table to store &apos;difference image sources&apos;; - sources detected at SNR &gt;=5 on difference images.</td><td>dp03_catalogs</td><td>0</td><td>dp03_catalogs.DiaSource</td><td>table</td><td></td></tr>\n",
       "</table></div>"
      ],
      "text/plain": [
       "<Table length=4>\n",
       "                                                                                       description                                                                                        ...\n",
       "                                                                                          str512                                                                                          ...\n",
       "----------------------------------------------------------------------------------------------------------------------------------------------------------------------------------------- ...\n",
       "The orbit catalog produced by the Minor Planet Center. Ingested daily. O(10M) rows by survey end. The columns are described at https://minorplanetcenter.net//iau/info/MPOrbitFormat.html ...\n",
       "                                                                              LSST-computed per-object quantities. 1:1 relationship with MPCORB. Recomputed daily, upon MPCORB ingestion. ...\n",
       "                                                                           LSST-computed per-source quantities. 1:1 relationship with DIASource. Recomputed daily, upon MPCORB ingestion. ...\n",
       "                                                                                           Table to store 'difference image sources'; - sources detected at SNR >=5 on difference images. ..."
      ]
     },
     "execution_count": 12,
     "metadata": {},
     "output_type": "execute_result"
    }
   ],
   "source": [
    "results = sso_tap.search(query).to_table()\n",
    "results"
   ]
  }
 ],
 "metadata": {
  "kernelspec": {
   "display_name": "LSST",
   "language": "python",
   "name": "lsst"
  },
  "language_info": {
   "codemirror_mode": {
    "name": "ipython",
    "version": 3
   },
   "file_extension": ".py",
   "mimetype": "text/x-python",
   "name": "python",
   "nbconvert_exporter": "python",
   "pygments_lexer": "ipython3",
   "version": "3.10.10"
  }
 },
 "nbformat": 4,
 "nbformat_minor": 5
}
