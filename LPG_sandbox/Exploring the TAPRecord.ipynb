{
 "cells": [
  {
   "cell_type": "code",
   "execution_count": null,
   "id": "08a86aa4-bd16-4fb1-9d35-c1a61632c61c",
   "metadata": {},
   "outputs": [],
   "source": [
    "Exploring the TAPRecord\n",
    "\n",
    "results = service.search(query)\n",
    "print(results.fieldnames)\n",
    "\n",
    "\n",
    "results.getdesc\n",
    "results.getvalue"
   ]
  }
 ],
 "metadata": {
  "kernelspec": {
   "display_name": "LSST",
   "language": "python",
   "name": "lsst"
  },
  "language_info": {
   "codemirror_mode": {
    "name": "ipython",
    "version": 3
   },
   "file_extension": ".py",
   "mimetype": "text/x-python",
   "name": "python",
   "nbconvert_exporter": "python",
   "pygments_lexer": "ipython3",
   "version": "3.11.4"
  }
 },
 "nbformat": 4,
 "nbformat_minor": 5
}
