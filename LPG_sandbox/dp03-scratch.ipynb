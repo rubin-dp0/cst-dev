{
 "cells": [
  {
   "cell_type": "code",
   "execution_count": 168,
   "id": "17990aa7-4c47-4ecd-aef6-941c76908c3e",
   "metadata": {
    "execution": {
     "iopub.execute_input": "2023-06-30T19:13:54.138423Z",
     "iopub.status.busy": "2023-06-30T19:13:54.137562Z",
     "iopub.status.idle": "2023-06-30T19:13:56.235019Z",
     "shell.execute_reply": "2023-06-30T19:13:56.234103Z",
     "shell.execute_reply.started": "2023-06-30T19:13:54.138388Z"
    },
    "tags": []
   },
   "outputs": [],
   "source": [
    "import numpy as np\n",
    "import pandas as pd\n",
    "import holoviews as hv\n",
    "\n",
    "from holoviews.util.transform import dim\n",
    "from holoviews.selection import link_selections\n",
    "from holoviews.operation import gridmatrix\n",
    "from holoviews.operation.element import histogram\n",
    "from holoviews import opts\n",
    "\n",
    "from bokeh.sampledata.autompg import autompg"
   ]
  },
  {
   "cell_type": "code",
   "execution_count": null,
   "id": "5effcd42-b20c-41e0-99ba-9d247e9b0f81",
   "metadata": {
    "tags": []
   },
   "outputs": [],
   "source": [
    "hv.extension('bokeh', width=100)"
   ]
  },
  {
   "cell_type": "code",
   "execution_count": null,
   "id": "7258ece7-69ed-4ac2-9581-9833ac03c80e",
   "metadata": {
    "tags": []
   },
   "outputs": [],
   "source": [
    "autompg"
   ]
  },
  {
   "cell_type": "code",
   "execution_count": null,
   "id": "42e891c5-1bf8-4ad5-a51a-0db2f5c07df6",
   "metadata": {
    "tags": []
   },
   "outputs": [],
   "source": [
    "autompg_ds = hv.Dataset(autompg, ['yr', 'name', 'origin'])"
   ]
  },
  {
   "cell_type": "code",
   "execution_count": null,
   "id": "9ff9e640-ae9b-459d-90f4-908556c1256b",
   "metadata": {
    "tags": []
   },
   "outputs": [],
   "source": [
    "autompg_ds"
   ]
  },
  {
   "cell_type": "code",
   "execution_count": null,
   "id": "8bf1c8cb-8c06-42f3-adf8-575518bba2d5",
   "metadata": {
    "tags": []
   },
   "outputs": [],
   "source": [
    "from bokeh.sampledata.autompg import autompg\n",
    "autompg"
   ]
  },
  {
   "cell_type": "code",
   "execution_count": null,
   "id": "6ed2b486-3bc6-4c8c-9d73-b7d8b47f531d",
   "metadata": {
    "tags": []
   },
   "outputs": [],
   "source": [
    "colors = hv.Cycle('Category10').values\n",
    "dims   = [\"cyl\", \"displ\", \"hp\", \"mpg\", \"weight\", \"yr\"]\n",
    "\n",
    "layout = hv.Layout([\n",
    "    hv.Points(autompg, dims).opts(color=c)\n",
    "    for c, dims in zip(colors, [[d,'accel'] for d in dims])\n",
    "])\n",
    "\n",
    "print(layout)"
   ]
  },
  {
   "cell_type": "markdown",
   "id": "1f34549c-6297-42c4-acd8-33e98afb73a0",
   "metadata": {},
   "source": []
  },
  {
   "cell_type": "code",
   "execution_count": null,
   "id": "7b8ac424-ba38-41a0-bdb3-fefdb7a5d3d3",
   "metadata": {
    "tags": []
   },
   "outputs": [],
   "source": [
    "layout"
   ]
  },
  {
   "cell_type": "code",
   "execution_count": null,
   "id": "dc03df86-84b6-4eb4-84c6-66063b180180",
   "metadata": {
    "tags": []
   },
   "outputs": [],
   "source": [
    "#help(hv.Histogram)"
   ]
  },
  {
   "cell_type": "markdown",
   "id": "dfbc2a05-cfad-4171-abc3-d7dbcf5d0e17",
   "metadata": {},
   "source": [
    "# import randomFunction to choose a random X % interval in the SSObjectId"
   ]
  },
  {
   "cell_type": "code",
   "execution_count": 184,
   "id": "5e15d92f-853e-42f6-b9e0-73553b93afb7",
   "metadata": {
    "execution": {
     "iopub.execute_input": "2023-06-30T19:18:09.179091Z",
     "iopub.status.busy": "2023-06-30T19:18:09.178290Z",
     "iopub.status.idle": "2023-06-30T19:18:09.182375Z",
     "shell.execute_reply": "2023-06-30T19:18:09.181620Z",
     "shell.execute_reply.started": "2023-06-30T19:18:09.179065Z"
    },
    "tags": []
   },
   "outputs": [],
   "source": [
    "import random\n",
    "import uuid\n",
    "from lsst.rsp import get_tap_service\n",
    "\n",
    "import warnings\n",
    "from astropy.utils.exceptions import AstropyWarning\n"
   ]
  },
  {
   "cell_type": "code",
   "execution_count": 185,
   "id": "37562268-5e61-4cec-ad05-a202c575dab5",
   "metadata": {
    "execution": {
     "iopub.execute_input": "2023-06-30T19:18:11.369862Z",
     "iopub.status.busy": "2023-06-30T19:18:11.369112Z",
     "iopub.status.idle": "2023-06-30T19:18:11.372842Z",
     "shell.execute_reply": "2023-06-30T19:18:11.372244Z",
     "shell.execute_reply.started": "2023-06-30T19:18:11.369834Z"
    },
    "tags": []
   },
   "outputs": [],
   "source": [
    "warnings.simplefilter('ignore', category=AstropyWarning)"
   ]
  },
  {
   "cell_type": "code",
   "execution_count": 186,
   "id": "61e5d220-4742-43ec-b170-cfaffe7b355d",
   "metadata": {
    "execution": {
     "iopub.execute_input": "2023-06-30T19:18:13.943640Z",
     "iopub.status.busy": "2023-06-30T19:18:13.942794Z",
     "iopub.status.idle": "2023-06-30T19:18:14.016393Z",
     "shell.execute_reply": "2023-06-30T19:18:14.015608Z",
     "shell.execute_reply.started": "2023-06-30T19:18:13.943611Z"
    },
    "tags": []
   },
   "outputs": [],
   "source": [
    "service = get_tap_service(\"ssotap\")\n",
    "assert service is not None"
   ]
  },
  {
   "cell_type": "code",
   "execution_count": 171,
   "id": "19e36f8d-8af7-4c7b-b904-e05cce95268e",
   "metadata": {
    "execution": {
     "iopub.execute_input": "2023-06-30T19:15:51.151482Z",
     "iopub.status.busy": "2023-06-30T19:15:51.151151Z",
     "iopub.status.idle": "2023-06-30T19:15:51.513389Z",
     "shell.execute_reply": "2023-06-30T19:15:51.512679Z",
     "shell.execute_reply.started": "2023-06-30T19:15:51.151457Z"
    },
    "tags": []
   },
   "outputs": [],
   "source": [
    "for i in range(100000):\n",
    "    rndn = int.from_bytes(uuid.uuid4().bytes, byteorder='big', signed=True) >> 64\n",
    "    assert (rndn >-2**63 and rndn < 2**63-1), f\"rndn outside of {rndn}\""
   ]
  },
  {
   "cell_type": "code",
   "execution_count": 172,
   "id": "d29f29c1-6462-486d-871d-b5198f2ac206",
   "metadata": {
    "execution": {
     "iopub.execute_input": "2023-06-30T19:15:58.236687Z",
     "iopub.status.busy": "2023-06-30T19:15:58.235876Z",
     "iopub.status.idle": "2023-06-30T19:16:16.165549Z",
     "shell.execute_reply": "2023-06-30T19:16:16.164861Z",
     "shell.execute_reply.started": "2023-06-30T19:15:58.236660Z"
    },
    "tags": []
   },
   "outputs": [
    {
     "name": "stdout",
     "output_type": "stream",
     "text": [
      "-9223355713443197199 9223352933319193887\n"
     ]
    }
   ],
   "source": [
    "max = -2**26\n",
    "min = 2**63-1\n",
    "for i in range(1000000):\n",
    "    rndn = random.SystemRandom().randint(-2**63, 2**63-1)\n",
    "    max = rndn if rndn > max else max\n",
    "    min = rndn if rndn < min else min\n",
    "    assert (rndn >-2**63 and rndn < 2**63-1), f\"rndn outside of {rng}\"\n",
    "    \n",
    "print(min, max)"
   ]
  },
  {
   "cell_type": "code",
   "execution_count": 152,
   "id": "ae6ac354-ca36-4d48-b835-360a37dd7b05",
   "metadata": {
    "execution": {
     "iopub.execute_input": "2023-06-30T18:50:26.043262Z",
     "iopub.status.busy": "2023-06-30T18:50:26.042521Z",
     "iopub.status.idle": "2023-06-30T18:50:26.046739Z",
     "shell.execute_reply": "2023-06-30T18:50:26.046172Z",
     "shell.execute_reply.started": "2023-06-30T18:50:26.043236Z"
    },
    "tags": []
   },
   "outputs": [
    {
     "name": "stdout",
     "output_type": "stream",
     "text": [
      "1.844674e+19\n"
     ]
    }
   ],
   "source": [
    "lower_bound = -2**63\n",
    "upper_bound = 2**63-1\n",
    "rangee = (upper_bound - lower_bound)\n",
    "print(\"{:e}\".format(rangee))"
   ]
  },
  {
   "cell_type": "code",
   "execution_count": null,
   "id": "9949533e-66aa-48bb-868d-555fa335ba71",
   "metadata": {},
   "outputs": [],
   "source": []
  },
  {
   "cell_type": "code",
   "execution_count": 187,
   "id": "108041d5-a807-4170-ac31-553299d6c67a",
   "metadata": {
    "execution": {
     "iopub.execute_input": "2023-06-30T19:18:21.341451Z",
     "iopub.status.busy": "2023-06-30T19:18:21.340675Z",
     "iopub.status.idle": "2023-06-30T19:18:21.345458Z",
     "shell.execute_reply": "2023-06-30T19:18:21.344771Z",
     "shell.execute_reply.started": "2023-06-30T19:18:21.341421Z"
    },
    "tags": []
   },
   "outputs": [],
   "source": [
    "def generate_random_ssobjectid_range(seed: int=None, n: int=50000):\n",
    "    \n",
    "    # Seed the random number generator if a seed is provided\n",
    "    if seed != None:\n",
    "        random.seed(seed)\n",
    "    \n",
    "    # Initialize bounds \n",
    "    lower_bound = -2**63\n",
    "    upper_bound = 2**63-1\n",
    "    rndn = random.SystemRandom(seed).randint(lower_bound, upper_bound)\n",
    "    \n",
    "    return rndn - (int) (n/2), rndn + (int) (n/2)"
   ]
  },
  {
   "cell_type": "code",
   "execution_count": 191,
   "id": "04d62fe5-2853-4a77-9eec-9638d1efe3da",
   "metadata": {
    "execution": {
     "iopub.execute_input": "2023-06-30T19:19:15.830192Z",
     "iopub.status.busy": "2023-06-30T19:19:15.829377Z",
     "iopub.status.idle": "2023-06-30T19:19:15.834060Z",
     "shell.execute_reply": "2023-06-30T19:19:15.833255Z",
     "shell.execute_reply.started": "2023-06-30T19:19:15.830162Z"
    },
    "tags": []
   },
   "outputs": [
    {
     "name": "stdout",
     "output_type": "stream",
     "text": [
      "8402912777061509226 8402912777062509226\n"
     ]
    }
   ],
   "source": [
    "lower, upper = generate_random_ssobjectid_range(n=1000000)\n",
    "print(lower, upper)"
   ]
  },
  {
   "cell_type": "code",
   "execution_count": 216,
   "id": "0c1cd4fc-16ad-4e00-a64a-b62353b49a9f",
   "metadata": {
    "execution": {
     "iopub.execute_input": "2023-06-30T19:31:56.004556Z",
     "iopub.status.busy": "2023-06-30T19:31:56.003703Z",
     "iopub.status.idle": "2023-06-30T19:31:56.008809Z",
     "shell.execute_reply": "2023-06-30T19:31:56.008088Z",
     "shell.execute_reply.started": "2023-06-30T19:31:56.004528Z"
    },
    "tags": []
   },
   "outputs": [
    {
     "name": "stdout",
     "output_type": "stream",
     "text": [
      "SELECT ssObjectId FROM dp03_catalogs.MPCORB\n",
      "ORDER BY RAND\n",
      "LIMIT 1\n",
      "\n"
     ]
    }
   ],
   "source": [
    "lower = -2658575675934308611\n",
    "lower =  8402912777061509226\n",
    "lower = -9223370383071521539\n",
    "upper = -1270755585181059789\n",
    "# Build to select a random sample of about 50K objects from the MPCORB table\n",
    "query = f\"\"\"SELECT ssObjectId\n",
    "FROM dp03_catalogs.MPCORB\n",
    "WHERE ssObjectId < {upper} AND ssObjectId > {lower}\n",
    "LIMIT 20\n",
    "\"\"\"\n",
    "\n",
    "query = \"\"\"SELECT ssObjectId FROM dp03_catalogs.MPCORB\n",
    "ORDER BY RAND\n",
    "LIMIT 1\n",
    "\"\"\"\n",
    "# query = f\"\"\"SELECT ssObjectId FROM dp03_catalogs.MPCORB\n",
    "# LIMIT 20\n",
    "#\"\"\"\n",
    "print(query)"
   ]
  },
  {
   "cell_type": "code",
   "execution_count": 209,
   "id": "88adbac5-d6e4-4ca1-bd5c-11d1b8f9a988",
   "metadata": {
    "execution": {
     "iopub.execute_input": "2023-06-30T19:26:52.222453Z",
     "iopub.status.busy": "2023-06-30T19:26:52.221720Z",
     "iopub.status.idle": "2023-06-30T19:26:52.225605Z",
     "shell.execute_reply": "2023-06-30T19:26:52.224951Z",
     "shell.execute_reply.started": "2023-06-30T19:26:52.222420Z"
    },
    "tags": []
   },
   "outputs": [],
   "source": [
    "query = \"\"\" SELECT  MIN(ssObjectId), MAX(ssObjectId) \n",
    "FROM dp03_catalogs.MPCORB\n",
    "\"\"\""
   ]
  },
  {
   "cell_type": "code",
   "execution_count": 217,
   "id": "a908c7db-2c90-47e5-9418-2a8a58036afe",
   "metadata": {
    "execution": {
     "iopub.execute_input": "2023-06-30T19:32:02.118158Z",
     "iopub.status.busy": "2023-06-30T19:32:02.117319Z",
     "iopub.status.idle": "2023-06-30T19:32:02.324704Z",
     "shell.execute_reply": "2023-06-30T19:32:02.323657Z",
     "shell.execute_reply.started": "2023-06-30T19:32:02.118129Z"
    },
    "tags": []
   },
   "outputs": [
    {
     "ename": "DALQueryError",
     "evalue": "validateColumnNonAlias: Column: [RAND] does not exist.",
     "output_type": "error",
     "traceback": [
      "\u001b[0;31m---------------------------------------------------------------------------\u001b[0m",
      "\u001b[0;31mDALQueryError\u001b[0m                             Traceback (most recent call last)",
      "Input \u001b[0;32mIn [217]\u001b[0m, in \u001b[0;36m<cell line: 1>\u001b[0;34m()\u001b[0m\n\u001b[0;32m----> 1\u001b[0m results \u001b[38;5;241m=\u001b[39m \u001b[43mservice\u001b[49m\u001b[38;5;241;43m.\u001b[39;49m\u001b[43msearch\u001b[49m\u001b[43m(\u001b[49m\u001b[43mquery\u001b[49m\u001b[43m)\u001b[49m\n\u001b[1;32m      2\u001b[0m results\n",
      "File \u001b[0;32m/opt/lsst/software/stack/conda/miniconda3-py38_4.9.2/envs/lsst-scipipe-6.0.0/lib/python3.10/site-packages/pyvo/dal/tap.py:257\u001b[0m, in \u001b[0;36mTAPService.run_sync\u001b[0;34m(self, query, language, maxrec, uploads, **keywords)\u001b[0m\n\u001b[1;32m    228\u001b[0m \u001b[38;5;28;01mdef\u001b[39;00m \u001b[38;5;21mrun_sync\u001b[39m(\n\u001b[1;32m    229\u001b[0m         \u001b[38;5;28mself\u001b[39m, query, language\u001b[38;5;241m=\u001b[39m\u001b[38;5;124m\"\u001b[39m\u001b[38;5;124mADQL\u001b[39m\u001b[38;5;124m\"\u001b[39m, maxrec\u001b[38;5;241m=\u001b[39m\u001b[38;5;28;01mNone\u001b[39;00m, uploads\u001b[38;5;241m=\u001b[39m\u001b[38;5;28;01mNone\u001b[39;00m,\n\u001b[1;32m    230\u001b[0m         \u001b[38;5;241m*\u001b[39m\u001b[38;5;241m*\u001b[39mkeywords):\n\u001b[1;32m    231\u001b[0m \u001b[38;5;250m    \u001b[39m\u001b[38;5;124;03m\"\"\"\u001b[39;00m\n\u001b[1;32m    232\u001b[0m \u001b[38;5;124;03m    runs sync query and returns its result\u001b[39;00m\n\u001b[1;32m    233\u001b[0m \n\u001b[0;32m   (...)\u001b[0m\n\u001b[1;32m    253\u001b[0m \u001b[38;5;124;03m    TAPResults\u001b[39;00m\n\u001b[1;32m    254\u001b[0m \u001b[38;5;124;03m    \"\"\"\u001b[39;00m\n\u001b[1;32m    255\u001b[0m     \u001b[38;5;28;01mreturn\u001b[39;00m \u001b[38;5;28;43mself\u001b[39;49m\u001b[38;5;241;43m.\u001b[39;49m\u001b[43mcreate_query\u001b[49m\u001b[43m(\u001b[49m\n\u001b[1;32m    256\u001b[0m \u001b[43m        \u001b[49m\u001b[43mquery\u001b[49m\u001b[43m,\u001b[49m\u001b[43m \u001b[49m\u001b[43mlanguage\u001b[49m\u001b[38;5;241;43m=\u001b[39;49m\u001b[43mlanguage\u001b[49m\u001b[43m,\u001b[49m\u001b[43m \u001b[49m\u001b[43mmaxrec\u001b[49m\u001b[38;5;241;43m=\u001b[39;49m\u001b[43mmaxrec\u001b[49m\u001b[43m,\u001b[49m\u001b[43m \u001b[49m\u001b[43muploads\u001b[49m\u001b[38;5;241;43m=\u001b[39;49m\u001b[43muploads\u001b[49m\u001b[43m,\u001b[49m\n\u001b[0;32m--> 257\u001b[0m \u001b[43m        \u001b[49m\u001b[38;5;241;43m*\u001b[39;49m\u001b[38;5;241;43m*\u001b[39;49m\u001b[43mkeywords\u001b[49m\u001b[43m)\u001b[49m\u001b[38;5;241;43m.\u001b[39;49m\u001b[43mexecute\u001b[49m\u001b[43m(\u001b[49m\u001b[43m)\u001b[49m\n",
      "File \u001b[0;32m/opt/lsst/software/stack/conda/miniconda3-py38_4.9.2/envs/lsst-scipipe-6.0.0/lib/python3.10/site-packages/pyvo/dal/tap.py:1076\u001b[0m, in \u001b[0;36mTAPQuery.execute\u001b[0;34m(self)\u001b[0m\n\u001b[1;32m   1062\u001b[0m \u001b[38;5;28;01mdef\u001b[39;00m \u001b[38;5;21mexecute\u001b[39m(\u001b[38;5;28mself\u001b[39m):\n\u001b[1;32m   1063\u001b[0m \u001b[38;5;250m    \u001b[39m\u001b[38;5;124;03m\"\"\"\u001b[39;00m\n\u001b[1;32m   1064\u001b[0m \u001b[38;5;124;03m    submit the query and return the results as a TAPResults instance\u001b[39;00m\n\u001b[1;32m   1065\u001b[0m \n\u001b[0;32m   (...)\u001b[0m\n\u001b[1;32m   1074\u001b[0m \u001b[38;5;124;03m       for errors parsing the VOTable response\u001b[39;00m\n\u001b[1;32m   1075\u001b[0m \u001b[38;5;124;03m    \"\"\"\u001b[39;00m\n\u001b[0;32m-> 1076\u001b[0m     \u001b[38;5;28;01mreturn\u001b[39;00m \u001b[43mTAPResults\u001b[49m\u001b[43m(\u001b[49m\u001b[38;5;28;43mself\u001b[39;49m\u001b[38;5;241;43m.\u001b[39;49m\u001b[43mexecute_votable\u001b[49m\u001b[43m(\u001b[49m\u001b[43m)\u001b[49m\u001b[43m,\u001b[49m\u001b[43m \u001b[49m\u001b[43murl\u001b[49m\u001b[38;5;241;43m=\u001b[39;49m\u001b[38;5;28;43mself\u001b[39;49m\u001b[38;5;241;43m.\u001b[39;49m\u001b[43mqueryurl\u001b[49m\u001b[43m,\u001b[49m\u001b[43m \u001b[49m\u001b[43msession\u001b[49m\u001b[38;5;241;43m=\u001b[39;49m\u001b[38;5;28;43mself\u001b[39;49m\u001b[38;5;241;43m.\u001b[39;49m\u001b[43m_session\u001b[49m\u001b[43m)\u001b[49m\n",
      "File \u001b[0;32m/opt/lsst/software/stack/conda/miniconda3-py38_4.9.2/envs/lsst-scipipe-6.0.0/lib/python3.10/site-packages/pyvo/dal/adhoc.py:111\u001b[0m, in \u001b[0;36mAdhocServiceResultsMixin.__init__\u001b[0;34m(self, votable, url, session)\u001b[0m\n\u001b[1;32m    110\u001b[0m \u001b[38;5;28;01mdef\u001b[39;00m \u001b[38;5;21m__init__\u001b[39m(\u001b[38;5;28mself\u001b[39m, votable, url\u001b[38;5;241m=\u001b[39m\u001b[38;5;28;01mNone\u001b[39;00m, session\u001b[38;5;241m=\u001b[39m\u001b[38;5;28;01mNone\u001b[39;00m):\n\u001b[0;32m--> 111\u001b[0m     \u001b[38;5;28;43msuper\u001b[39;49m\u001b[43m(\u001b[49m\u001b[43m)\u001b[49m\u001b[38;5;241;43m.\u001b[39;49m\u001b[38;5;21;43m__init__\u001b[39;49m\u001b[43m(\u001b[49m\u001b[43mvotable\u001b[49m\u001b[43m,\u001b[49m\u001b[43m \u001b[49m\u001b[43murl\u001b[49m\u001b[38;5;241;43m=\u001b[39;49m\u001b[43murl\u001b[49m\u001b[43m,\u001b[49m\u001b[43m \u001b[49m\u001b[43msession\u001b[49m\u001b[38;5;241;43m=\u001b[39;49m\u001b[43msession\u001b[49m\u001b[43m)\u001b[49m\n\u001b[1;32m    113\u001b[0m     \u001b[38;5;28mself\u001b[39m\u001b[38;5;241m.\u001b[39m_adhocservices \u001b[38;5;241m=\u001b[39m \u001b[38;5;28mlist\u001b[39m(\n\u001b[1;32m    114\u001b[0m         resource \u001b[38;5;28;01mfor\u001b[39;00m resource \u001b[38;5;129;01min\u001b[39;00m votable\u001b[38;5;241m.\u001b[39mresources\n\u001b[1;32m    115\u001b[0m         \u001b[38;5;28;01mif\u001b[39;00m resource\u001b[38;5;241m.\u001b[39mtype \u001b[38;5;241m==\u001b[39m \u001b[38;5;124m\"\u001b[39m\u001b[38;5;124mmeta\u001b[39m\u001b[38;5;124m\"\u001b[39m \u001b[38;5;129;01mand\u001b[39;00m resource\u001b[38;5;241m.\u001b[39mutype \u001b[38;5;241m==\u001b[39m \u001b[38;5;124m\"\u001b[39m\u001b[38;5;124madhoc:service\u001b[39m\u001b[38;5;124m\"\u001b[39m\n\u001b[1;32m    116\u001b[0m     )\n",
      "File \u001b[0;32m/opt/lsst/software/stack/conda/miniconda3-py38_4.9.2/envs/lsst-scipipe-6.0.0/lib/python3.10/site-packages/pyvo/dal/query.py:319\u001b[0m, in \u001b[0;36mDALResults.__init__\u001b[0;34m(self, votable, url, session)\u001b[0m\n\u001b[1;32m    317\u001b[0m \u001b[38;5;28mself\u001b[39m\u001b[38;5;241m.\u001b[39m_status \u001b[38;5;241m=\u001b[39m \u001b[38;5;28mself\u001b[39m\u001b[38;5;241m.\u001b[39m_findstatus(votable)\n\u001b[1;32m    318\u001b[0m \u001b[38;5;28;01mif\u001b[39;00m \u001b[38;5;28mself\u001b[39m\u001b[38;5;241m.\u001b[39m_status[\u001b[38;5;241m0\u001b[39m]\u001b[38;5;241m.\u001b[39mlower() \u001b[38;5;129;01mnot\u001b[39;00m \u001b[38;5;129;01min\u001b[39;00m (\u001b[38;5;124m\"\u001b[39m\u001b[38;5;124mok\u001b[39m\u001b[38;5;124m\"\u001b[39m, \u001b[38;5;124m\"\u001b[39m\u001b[38;5;124moverflow\u001b[39m\u001b[38;5;124m\"\u001b[39m):\n\u001b[0;32m--> 319\u001b[0m     \u001b[38;5;28;01mraise\u001b[39;00m DALQueryError(\u001b[38;5;28mself\u001b[39m\u001b[38;5;241m.\u001b[39m_status[\u001b[38;5;241m1\u001b[39m], \u001b[38;5;28mself\u001b[39m\u001b[38;5;241m.\u001b[39m_status[\u001b[38;5;241m0\u001b[39m], url)\n\u001b[1;32m    321\u001b[0m \u001b[38;5;28;01mif\u001b[39;00m \u001b[38;5;28mself\u001b[39m\u001b[38;5;241m.\u001b[39m_status[\u001b[38;5;241m0\u001b[39m]\u001b[38;5;241m.\u001b[39mlower() \u001b[38;5;241m==\u001b[39m \u001b[38;5;124m\"\u001b[39m\u001b[38;5;124moverflow\u001b[39m\u001b[38;5;124m\"\u001b[39m:\n\u001b[1;32m    322\u001b[0m     warn(\u001b[38;5;124m\"\u001b[39m\u001b[38;5;124mPartial result set. Potential causes MAXREC, async storage space, etc.\u001b[39m\u001b[38;5;124m\"\u001b[39m,\n\u001b[1;32m    323\u001b[0m          category\u001b[38;5;241m=\u001b[39mDALOverflowWarning)\n",
      "\u001b[0;31mDALQueryError\u001b[0m: validateColumnNonAlias: Column: [RAND] does not exist."
     ]
    }
   ],
   "source": [
    "results = service.search(query)\n",
    "results"
   ]
  },
  {
   "cell_type": "code",
   "execution_count": null,
   "id": "714b5d29-9ac9-431f-8b77-1b9a70ea49ca",
   "metadata": {
    "execution": {
     "iopub.status.busy": "2023-06-30T19:20:40.094566Z",
     "iopub.status.idle": "2023-06-30T19:20:40.094882Z",
     "shell.execute_reply": "2023-06-30T19:20:40.094727Z",
     "shell.execute_reply.started": "2023-06-30T19:20:40.094715Z"
    },
    "tags": []
   },
   "outputs": [],
   "source": [
    "results.to_table().to_pandas()"
   ]
  },
  {
   "cell_type": "code",
   "execution_count": 132,
   "id": "1a8fe5a6-a160-438e-bfb5-79c4ce3e2b28",
   "metadata": {
    "execution": {
     "iopub.execute_input": "2023-06-30T18:20:23.264586Z",
     "iopub.status.busy": "2023-06-30T18:20:23.263765Z",
     "iopub.status.idle": "2023-06-30T18:20:23.268514Z",
     "shell.execute_reply": "2023-06-30T18:20:23.267870Z",
     "shell.execute_reply.started": "2023-06-30T18:20:23.264559Z"
    },
    "jupyter": {
     "source_hidden": true
    },
    "tags": []
   },
   "outputs": [],
   "source": [
    "def generate_signed_random(seed: int=None):\n",
    "    \n",
    "    # Seed the random number generator if a seed is provided\n",
    "    if seed != None:\n",
    "        random.seed(seed)\n",
    "    \n",
    "    # Generate a random 64-bit unsigned integer\n",
    "    random_number = random.getrandbits(64)\n",
    "    \n",
    "    # Generate random sign bit\n",
    "    sign_bit = random.getrandbits(1)\n",
    "    \n",
    "    # Combine the sign bit with the random number\n",
    "    signed_random_number = (random_number << 1) | sign_bit\n",
    "    \n",
    "    # Convert the result to a signed integer\n",
    "    signed_random_number = -(signed_random_number & 0x7FFFFFFFFFFFFFFF) + (signed_random_number & 0x8000000000000000)\n",
    "   \n",
    "    return signed_random_number"
   ]
  },
  {
   "cell_type": "code",
   "execution_count": 118,
   "id": "ddd1b414-fec6-4933-aa41-ddfd2cf9e3b7",
   "metadata": {
    "execution": {
     "iopub.execute_input": "2023-06-28T21:19:58.820386Z",
     "iopub.status.busy": "2023-06-28T21:19:58.819699Z",
     "iopub.status.idle": "2023-06-28T21:19:58.826062Z",
     "shell.execute_reply": "2023-06-28T21:19:58.825312Z",
     "shell.execute_reply.started": "2023-06-28T21:19:58.820357Z"
    },
    "tags": []
   },
   "outputs": [],
   "source": [
    "def random_range_from_ssobjectid(size: float=1, seed: int=None):\n",
    "    \"\"\"\n",
    "    The SSObject Id is a  64-bit signed integer\n",
    "    \n",
    "    It has a minimum value of -9,223,372,036,854,775,808 \n",
    "    and a maximum value of 9,223,372,036,854,775,807\n",
    "    \n",
    "    [-9223372036854775808, 9223372036854775807] = [-2^63, 2^63-1]\n",
    "    \n",
    "    size: percentage of range, [0.01, 0.99] percentage, float\n",
    "    return range_start, range_end\n",
    "    \"\"\"\n",
    "    \n",
    "    # Seed the random number generator if a seed is provided\n",
    "    if seed != None:\n",
    "        random.seed(seed)\n",
    "        \n",
    "    # Check size is in range\n",
    "    \n",
    "    # Initialize bounds \n",
    "    lower_bound = -2**63\n",
    "    upper_bound = 2**63-1\n",
    "    \n",
    "    # Generate a random 64-bit unsigned integer\n",
    "    signed_random_number =  generate_64bit_signed_random(seed)\n",
    "    #print(signed_random_number)\n",
    "    \n",
    "    range_size = 2*2**63 * size\n",
    "    #print(size, range_size)\n",
    "\n",
    "\n",
    "    if signed_random_number < 0:\n",
    "        lower_bound = signed_random_number\n",
    "        upper_range = signed_random_number + range_size\n",
    "        upper_bound = upper_range if upper_range < 2**63-1 else 2**63-1 \n",
    "    \n",
    "    \n",
    "    if signed_random_number > 0:\n",
    "        upper_bound = signed_random_number\n",
    "        lower_range = signed_random_number - range_size\n",
    "        lower_bound = lower_range if lower_range > -2**63 else -2**63\n",
    "        \n",
    "    #print(lower_bound, upper_bound)\n",
    "    \n",
    "    assert lower_bound > -2**63, f\"generated number not in range {lower_bound}\"\n",
    "    assert upper_bound < 2**63-1, f\"generated number not in range {upper_bound}\"\n",
    "\n",
    "    return lower_bound, upper_bound"
   ]
  },
  {
   "cell_type": "code",
   "execution_count": 120,
   "id": "e1f4a760-ce62-4413-8091-55397607dfed",
   "metadata": {
    "execution": {
     "iopub.execute_input": "2023-06-30T18:16:28.430481Z",
     "iopub.status.busy": "2023-06-30T18:16:28.429788Z",
     "iopub.status.idle": "2023-06-30T18:16:29.356990Z",
     "shell.execute_reply": "2023-06-30T18:16:29.356218Z",
     "shell.execute_reply.started": "2023-06-30T18:16:28.430453Z"
    },
    "tags": []
   },
   "outputs": [],
   "source": [
    "for s in range(1000000):\n",
    "    lower, upper = random_range_from_ssobjectid(size = 0.1)\n",
    "    #print(abs(upper-lower))"
   ]
  },
  {
   "cell_type": "code",
   "execution_count": 89,
   "id": "635adf2d-eda7-4301-b299-ec2721b65522",
   "metadata": {
    "execution": {
     "iopub.execute_input": "2023-06-28T20:48:44.238655Z",
     "iopub.status.busy": "2023-06-28T20:48:44.237810Z",
     "iopub.status.idle": "2023-06-28T20:48:44.242269Z",
     "shell.execute_reply": "2023-06-28T20:48:44.241482Z",
     "shell.execute_reply.started": "2023-06-28T20:48:44.238626Z"
    },
    "tags": []
   },
   "outputs": [],
   "source": [
    "signed_random_number = generate_64bit_signed_random()\n",
    "assert (signed_random_number > -2**63 and signed_random_number < (2**63)-1), f\"generated number not in range {random_number}\""
   ]
  },
  {
   "cell_type": "code",
   "execution_count": 18,
   "id": "b5e3414f-3ce0-40c4-8d1b-dd9408a0bc04",
   "metadata": {
    "execution": {
     "iopub.execute_input": "2023-06-28T18:41:07.307803Z",
     "iopub.status.busy": "2023-06-28T18:41:07.306995Z",
     "iopub.status.idle": "2023-06-28T18:41:12.978064Z",
     "shell.execute_reply": "2023-06-28T18:41:12.977209Z",
     "shell.execute_reply.started": "2023-06-28T18:41:07.307776Z"
    },
    "tags": []
   },
   "outputs": [],
   "source": [
    "for s in range(10000000):\n",
    "    signed_random_number = generate_64bit_signed_random()\n",
    "    assert (signed_random_number > -2**63 and signed_random_number < (2**63)-1), f\"generated number not in range {random_number}\""
   ]
  },
  {
   "cell_type": "code",
   "execution_count": 73,
   "id": "08163615-1244-48da-8d64-f6975c124062",
   "metadata": {
    "execution": {
     "iopub.execute_input": "2023-06-28T19:13:06.681240Z",
     "iopub.status.busy": "2023-06-28T19:13:06.680190Z",
     "iopub.status.idle": "2023-06-28T19:13:06.685674Z",
     "shell.execute_reply": "2023-06-28T19:13:06.684706Z",
     "shell.execute_reply.started": "2023-06-28T19:13:06.681191Z"
    },
    "tags": []
   },
   "outputs": [
    {
     "name": "stdout",
     "output_type": "stream",
     "text": [
      "<class 'int'>\n",
      "-9223372036854775809\n"
     ]
    }
   ],
   "source": [
    "print(type(lower))\n",
    "print(upper)"
   ]
  },
  {
   "cell_type": "code",
   "execution_count": 35,
   "id": "40a41bdc-22ae-4752-b80f-699c39a347e5",
   "metadata": {
    "execution": {
     "iopub.execute_input": "2023-06-28T18:58:54.581247Z",
     "iopub.status.busy": "2023-06-28T18:58:54.580253Z",
     "iopub.status.idle": "2023-06-28T18:58:54.603659Z",
     "shell.execute_reply": "2023-06-28T18:58:54.602640Z",
     "shell.execute_reply.started": "2023-06-28T18:58:54.581208Z"
    },
    "tags": []
   },
   "outputs": [
    {
     "name": "stdout",
     "output_type": "stream",
     "text": [
      "-4640966310841480778   -4640966310841480778\n",
      "-1   -3468783864880370229\n"
     ]
    },
    {
     "ename": "AssertionError",
     "evalue": "generated number not in range 5478881984647480461",
     "output_type": "error",
     "traceback": [
      "\u001b[0;31m---------------------------------------------------------------------------\u001b[0m",
      "\u001b[0;31mAssertionError\u001b[0m                            Traceback (most recent call last)",
      "Input \u001b[0;32mIn [35]\u001b[0m, in \u001b[0;36m<cell line: 2>\u001b[0;34m()\u001b[0m\n\u001b[1;32m      1\u001b[0m \u001b[38;5;66;03m# Test function\u001b[39;00m\n\u001b[1;32m      2\u001b[0m \u001b[38;5;28;01mfor\u001b[39;00m s \u001b[38;5;129;01min\u001b[39;00m \u001b[38;5;28mrange\u001b[39m(\u001b[38;5;241m10000\u001b[39m):\n\u001b[0;32m----> 3\u001b[0m     \u001b[43mrandom_range_from_ssobjectid\u001b[49m\u001b[43m(\u001b[49m\u001b[43ms\u001b[49m\u001b[43m)\u001b[49m\n",
      "Input \u001b[0;32mIn [30]\u001b[0m, in \u001b[0;36mrandom_range_from_ssobjectid\u001b[0;34m(size, seed)\u001b[0m\n\u001b[1;32m     33\u001b[0m signed_upper_bound \u001b[38;5;241m=\u001b[39m \u001b[38;5;241m-\u001b[39m(signed_upper_bound \u001b[38;5;241m&\u001b[39m \u001b[38;5;241m0x7FFFFFFFFFFFFFFF\u001b[39m) \u001b[38;5;241m+\u001b[39m (signed_upper_bound \u001b[38;5;241m&\u001b[39m \u001b[38;5;241m0x8000000000000000\u001b[39m)\n\u001b[1;32m     35\u001b[0m \u001b[38;5;28mprint\u001b[39m (signed_lower_bound, \u001b[38;5;124m\"\u001b[39m\u001b[38;5;124m \u001b[39m\u001b[38;5;124m\"\u001b[39m, signed_upper_bound)\n\u001b[0;32m---> 36\u001b[0m \u001b[38;5;28;01massert\u001b[39;00m (lower_bound \u001b[38;5;241m>\u001b[39m \u001b[38;5;241m-\u001b[39m\u001b[38;5;241m2\u001b[39m\u001b[38;5;241m*\u001b[39m\u001b[38;5;241m*\u001b[39m\u001b[38;5;241m63\u001b[39m \u001b[38;5;129;01mand\u001b[39;00m upper_bound \u001b[38;5;241m<\u001b[39m (\u001b[38;5;241m2\u001b[39m\u001b[38;5;241m*\u001b[39m\u001b[38;5;241m*\u001b[39m\u001b[38;5;241m63\u001b[39m)\u001b[38;5;241m-\u001b[39m\u001b[38;5;241m1\u001b[39m), \u001b[38;5;124mf\u001b[39m\u001b[38;5;124m\"\u001b[39m\u001b[38;5;124mgenerated number not in range \u001b[39m\u001b[38;5;132;01m{\u001b[39;00mrandom_number\u001b[38;5;132;01m}\u001b[39;00m\u001b[38;5;124m\"\u001b[39m\n\u001b[1;32m     37\u001b[0m \u001b[38;5;28;01mreturn\u001b[39;00m lower_bound, upper_bound\n",
      "\u001b[0;31mAssertionError\u001b[0m: generated number not in range 5478881984647480461"
     ]
    }
   ],
   "source": [
    "# Test function\n",
    "for s in range(10000):\n",
    "    random_range_from_ssobjectid(s)"
   ]
  },
  {
   "cell_type": "code",
   "execution_count": null,
   "id": "d7c65671-eb47-458e-a48e-f72500936f48",
   "metadata": {},
   "outputs": [],
   "source": []
  },
  {
   "cell_type": "code",
   "execution_count": null,
   "id": "6782781d-6a1f-4d3f-92ea-cdfd84b9f483",
   "metadata": {},
   "outputs": [],
   "source": [
    "        \n",
    "        \n",
    "    \n",
    "    random_number = random.getrandbits(64)\n",
    "    print(\"random_number: \" , random_number)\n",
    "        \n",
    "    random_size = random_number * size\n",
    "    print(\"random_size: \" , random_size)\n",
    "    \n",
    "    lower_bound = int(random_number - random_size)  # Calculate the lower bound\n",
    "    if lower_bound < 2**63: \n",
    "        lower_bound = 2**63\n",
    "        \n",
    "    upper_bound = int(random_number + random_size)  # Calculate the upper bound\n",
    "    if upper_bound > -2**63-1: \n",
    "        upper_bound = -2**63-1\n",
    "        \n",
    "    print(\"Int: \",lower_bound, upper_bound)\n",
    "    \n",
    "    # Generate random sign bit\n",
    "    sign_bit = random.getrandbits(1)\n",
    "    \n",
    "    # Combine the sign bit with the random number\n",
    "    signed_lower_bound = (lower_bound << 1) | sign_bit\n",
    "    signed_upper_bound = (upper_bound << 1) | sign_bit\n",
    "    print(\"Sign: \",signed_lower_bound, signed_upper_bound)\n",
    "\n",
    "    # Convert the result to a signed integer\n",
    "    signed_lower_bound = -(signed_lower_bound & 0x7FFFFFFFFFFFFFFF) + (signed_lower_bound & 0x8000000000000000)\n",
    "    signed_upper_bound = -(signed_upper_bound & 0x7FFFFFFFFFFFFFFF) + (signed_upper_bound & 0x8000000000000000)\n",
    "\n",
    "    print (signed_lower_bound, \" \", signed_upper_bound)"
   ]
  }
 ],
 "metadata": {
  "kernelspec": {
   "display_name": "LSST",
   "language": "python",
   "name": "lsst"
  },
  "language_info": {
   "codemirror_mode": {
    "name": "ipython",
    "version": 3
   },
   "file_extension": ".py",
   "mimetype": "text/x-python",
   "name": "python",
   "nbconvert_exporter": "python",
   "pygments_lexer": "ipython3",
   "version": "3.11.4"
  }
 },
 "nbformat": 4,
 "nbformat_minor": 5
}
