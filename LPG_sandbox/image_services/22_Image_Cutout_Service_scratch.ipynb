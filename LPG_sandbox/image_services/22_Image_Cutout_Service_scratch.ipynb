{
 "cells": [
  {
   "cell_type": "markdown",
   "id": "749b0ddf",
   "metadata": {},
   "source": [
    "<img align=\"left\" src = https://project.lsst.org/sites/default/files/Rubin-O-Logo_0.png width=250 style=\"padding: 10px\"> \n",
    "<p><p><p><p>\n",
    "<b>Rubin Image Cutout Service Tutorial</b> <br>\n",
    "Contact author: <i>Leanne Guy</i> <br>\n",
    "Last verified to run: <i>2022-04-29</i> <br>\n",
    "LSST Science Piplines version: Weekly <i>2022_17</i> <br>\n",
    "Container Size: <i>medium</i> <br>\n",
    "Targeted learning level: <i>intermediate</i> <br>"
   ]
  },
  {
   "cell_type": "markdown",
   "id": "2d9cd09b-d5c4-4610-993b-711bdc9bd80e",
   "metadata": {},
   "source": [
    "_In this template, text in italics are examples or instructions that should be: (a) removed if it is not applicable to the notebook; or (b) replaced with text that is appropriate for the notebook. But bold or regular text should appear pretty much as-is in all CET notebooks._"
   ]
  },
  {
   "cell_type": "markdown",
   "id": "582ab507-a7ae-4024-95c9-38aabeb602a6",
   "metadata": {},
   "source": [
    "_While developing, use the following code cell to check that the code conforms to standards, but then delete the cell and \"Kernel --> Restart Kernel and Clear All Outputs\" before saving and committing._"
   ]
  },
  {
   "cell_type": "code",
   "execution_count": null,
   "id": "7acc79a4-8530-42d9-96e5-b7acb4397864",
   "metadata": {},
   "outputs": [],
   "source": [
    "# %load_ext pycodestyle_magic\n",
    "# %flake8_on\n",
    "# import logging\n",
    "# logging.getLogger(\"flake8\").setLevel(logging.FATAL)"
   ]
  },
  {
   "cell_type": "markdown",
   "id": "482777d8-0a8d-432e-ba53-2da536700407",
   "metadata": {},
   "source": [
    "_The six cells below are considered the extended header of the notebook. The first four will be used, verbatim, to create the table of notebook metadata in the README.md file for the repository._"
   ]
  },
  {
   "cell_type": "markdown",
   "id": "9da1a210-d858-42fe-8591-570965b8be1a",
   "metadata": {},
   "source": [
    "**Description:** _Very brief description of notebook._\n",
    "\n",
    "This notebook provides: \n",
    "1. An introduction to the IVOA ObsCore table and its use\n"
   ]
  },
  {
   "cell_type": "markdown",
   "id": "80a0baf5-51ad-40ec-8991-060a7b27c289",
   "metadata": {},
   "source": [
    "**Skills:** _Brief list of skills to match the README.md file for the repository._"
   ]
  },
  {
   "cell_type": "markdown",
   "id": "393da88f-7978-4920-aa4a-a9830df6eed9",
   "metadata": {},
   "source": [
    "**LSST Data Products:** _List the all of the LSST catalogs and images used._"
   ]
  },
  {
   "cell_type": "markdown",
   "id": "5c67fab9-136a-4adc-bb42-142b91ab69dd",
   "metadata": {},
   "source": [
    "**Packages:** _List the python packages used._ (_List the packages being taught first, e.g., afwDisplay for a notebook about displaying images. Then supporting packages, e.g., lsst.daf.butler for a notebook about displaying images. It is OK to leave out basic support packages like os or glob.)_"
   ]
  },
  {
   "cell_type": "markdown",
   "id": "8f72b27f",
   "metadata": {},
   "source": [
    "**Credit:** This tutorial was developed for DP0.2 by Leanne Guy. Please consider acknowledging them if this notebook is used for the preparation of journal articles, software releases, or other notebooks."
   ]
  },
  {
   "cell_type": "markdown",
   "id": "28e91cbf-ab7f-4e26-9276-b00299d6065e",
   "metadata": {},
   "source": [
    "**Get Support:**\n",
    "Find DP0-related documentation and resources at <a href=\"https://dp0-1.lsst.io\">dp0-1.lsst.io</a>. Questions are welcome as new topics in the <a href=\"https://community.lsst.org/c/support/dp0\">Support - Data Preview 0 Category</a> of the Rubin Community Forum. Rubin staff will respond to all questions posted there."
   ]
  },
  {
   "cell_type": "markdown",
   "id": "cfc73be0",
   "metadata": {},
   "source": [
    "## 1. Introduction (TODO)\n",
    "\n",
    "This Jupyter Notebook will illustrate how to use the Rubin Image Cutout Service\n",
    "\n",
    "This service is fully SODA compliant and the SIAv2 interface is the way to access the service and get images. Add in the IVOA spec documents\n",
    "\n",
    "The API read-the-docs is: https://pyvo.readthedocs.io/en/latest/_modules/pyvo/dal/sia2.html\n",
    "\n",
    "A useful unit test: https://github.com/lsst-dm/image_cutout_backend/blob/main/tests/test_imageCutoutsBackend.py\n",
    "\n",
    "_Provide a light narrative about this notebook, e.g., \"This notebook will teach the user...\"._\n",
    "This notebook will teach the user how to use the LSST Image Cutout Service.\n",
    "\n",
    "_Cite or link to any external information or documentation, and cross-reference to other notebooks._\n",
    "*  https://dmtn-208.lsst.io/\n",
    "*  https://dmtn-139.lsst.io\n",
    "\n",
    "https://data-int.lsst.cloud/api/cutout/sync?id=8a953c0321bd4878bfa694dbf628ea81&circle=53.13925%20-34.0215%200.0105\n",
    "\n",
    "\n",
    "Sme goals\n",
    "* Explore the ivoa.ObsCore table and understand its use. "
   ]
  },
  {
   "cell_type": "markdown",
   "id": "dc36f107",
   "metadata": {},
   "source": [
    "### 1.1 Package Imports\n",
    "\n",
    "_All package imports should be done in the first code cell._\n",
    "\n",
    "_Provide explanation or external links to package documentation, where appropriate._\n",
    "\n",
    "_E.g., Numpy is a fundamental package for scientific computing with arrays in Python (<a href=\"https://numpy.org\">numpy.org</a>)._\n",
    "\n",
    "_Use code cell comments to describe the packages being imported._"
   ]
  },
  {
   "cell_type": "code",
   "execution_count": null,
   "id": "cddc1458",
   "metadata": {
    "tags": []
   },
   "outputs": [],
   "source": [
    "# Import general python packages\n",
    "import numpy as np\n",
    "import re\n",
    "import pandas\n",
    "from pandas.testing import assert_frame_equal\n",
    "import uuid\n",
    "import requests\n",
    "\n",
    "# Import the Rubin TAP service utilities\n",
    "from lsst.rsp import get_tap_service, retrieve_query\n",
    "import lsst.daf.butler as Butler\n",
    "import lsst.geom\n",
    "import lsst.resources\n",
    "import lsst.geom as geom\n",
    "\n",
    "import pyvo\n",
    "from lsst.afw.image import Exposure, ExposureF\n",
    "from lsst.afw.image import ImageF\n",
    "from pyvo.dal.adhoc import DatalinkResults, SodaQuery\n",
    "\n",
    "# Plotting with MPL\n",
    "import matplotlib.pyplot as plt\n",
    "import lsst.afw.display as afwDisplay\n",
    "import lsst.afw.image as afwImage\n",
    "\n",
    "# Import the Rubin TAP service utilities\n",
    "from lsst.rsp import get_tap_service\n",
    "from lsst.rsp import get_tap_service, retrieve_query\n",
    "from lsst.rsp.utils import get_access_token\n",
    "\n",
    "# Ignore warnings\n",
    "import warnings\n",
    "from astropy.units import UnitsWarning\n",
    "from astropy.io import fits\n",
    "\n",
    "# Astropy\n",
    "from astropy import units as u\n",
    "from astropy.coordinates import SkyCoord\n",
    "from astropy.coordinates import SkyCoord\n",
    "from astropy.time import Time\n",
    "from astropy.utils.data import download_file\n",
    "from astropy.visualization import  ZScaleInterval, AsinhStretch\n",
    "from astropy.wcs import WCS          # imports astropy's World Coordinate System function WCS\n",
    "from astropy.visualization import simple_norm, imshow_norm\n",
    "from astropy.visualization import ImageNormalize,  ZScaleInterval\n",
    "from astropy.visualization.stretch import SinhStretch, LinearStretch, SqrtStretch\n",
    "\n",
    "from pyvo.dal.adhoc import DatalinkResults, SodaQuery\n",
    "\n",
    "# Holoviz for interactive visualization\n",
    "import bokeh\n",
    "from bokeh.io import output_file, output_notebook, show\n",
    "from bokeh.layouts import gridplot\n",
    "from bokeh.models import ColumnDataSource, CDSView, GroupFilter, HoverTool\n",
    "from bokeh.plotting import figure\n",
    "from bokeh.transform import factor_cmap\n",
    "import holoviews as hv\n",
    "from holoviews import streams, opts\n",
    "from holoviews.operation.datashader import rasterize\n",
    "\n",
    "# Set the holoviews plotting library to be bokeh\n",
    "# You will see the holoviews + bokeh icons displayed when the library is loaded successfully\n",
    "hv.extension('bokeh')\n",
    "\n",
    "# Display bokeh plots inline in the notebook\n",
    "output_notebook()"
   ]
  },
  {
   "cell_type": "code",
   "execution_count": null,
   "id": "16c1b54f-d697-437e-8677-5d22a3d90942",
   "metadata": {},
   "outputs": [],
   "source": [
    "# Ignore warnings\n",
    "warnings.simplefilter(\"ignore\", category=UnitsWarning)\n",
    "warnings.simplefilter(\"ignore\", category=UserWarning)\n",
    "\n",
    "# Set the maximum number of rows to display from pandas\n",
    "pandas.set_option('display.max_rows', 20)\n",
    "\n",
    "# Configure bokeh to generate output in notebook cells when show() is called.\n",
    "output_notebook()"
   ]
  },
  {
   "cell_type": "code",
   "execution_count": null,
   "id": "564ebab2-e113-4466-9c69-71645f172645",
   "metadata": {},
   "outputs": [],
   "source": [
    "# This should match the verified version listed at the start of the notebook\n",
    "! echo ${IMAGE_DESCRIPTION}\n",
    "! eups list lsst_distrib"
   ]
  },
  {
   "cell_type": "markdown",
   "id": "c217adff-25ed-4fce-95e7-8aa04630f6cc",
   "metadata": {},
   "source": [
    "### 1.2 Define Functions and Parameters\n",
    "\n",
    "_If your notebook defines functions or parameters to use later or throughout, do it here in sub-section 1.2._\n",
    "\n",
    "_It is OK to rename the subsection to be more specific to the notebook, and/or to use sub-sub-sections like \"1.2.1 Define global cosmological parameter values\" or \"1.2.2 Define a function to make an image cutout\"._\n",
    "\n",
    "_It is OK to remove this sub-section if it is not being used._"
   ]
  },
  {
   "cell_type": "code",
   "execution_count": null,
   "id": "db206140-eac0-4d53-aa80-5d15ad223754",
   "metadata": {},
   "outputs": [],
   "source": [
    "# Function to autogenerate a plot title from the dataId.\n",
    "def dataIdToString(dataId: dict) -> str:\n",
    "    \"\"\"Run the finder on the given dataset with the given butler.\n",
    "   \n",
    "   Parameters\n",
    "    ----------\n",
    "    ref : `DataId`\n",
    "        the dataId \n",
    "   \n",
    "   Returns\n",
    "    -------\n",
    "    title : `str` (only if result is not `None`)\n",
    "        Plot title from string\n",
    "    \"\"\"\n",
    "    \n",
    "    title = \"DC2 image: \"\n",
    "    for key, value in dataId.items():\n",
    "        title += str(key) + \": \" + str(value) + \" \"\n",
    "    return title.strip() "
   ]
  },
  {
   "cell_type": "code",
   "execution_count": null,
   "id": "63ef5782-4bb6-4084-badd-1fe59af0c601",
   "metadata": {},
   "outputs": [],
   "source": [
    "def transformAndPlotImage(image: Exposure, img_opts: dict = None):\n",
    "    \"\"\"Plot and image using holoviews\n",
    "   \n",
    "   Parameters\n",
    "    ----------\n",
    "    image : `Exposure`\n",
    "        the image to plot\n",
    "        \n",
    "    opts : `\n",
    "   \n",
    "   Returns\n",
    "    -------\n",
    "    title : `str` (only if result is not `None`)\n",
    "        Plot title from string\n",
    "    \"\"\"\n",
    "    arrayData = image.image.array\n",
    "    \n",
    "    # Apply a asinh/zscale mapping to the data    \n",
    "    transform = ZScaleInterval() + AsinhStretch()\n",
    "    \n",
    "    scaledArrayData = transform(arrayData)\n",
    "    scaledFlippedArrayData = np.flipud(scaledArrayData)    \n",
    "    bbox_img = coadd_calexp.getBBox()\n",
    "    bounds_img = (bbox_img.endX, bbox_img.endY,bbox_img.beginX, bbox_img.beginY)\n",
    "    \n",
    "    # Define some default plot options for the Image if not passed\n",
    "    if img_opts is None:\n",
    "        img_opts = dict(height=600, width=700,  xaxis=\"bottom\", \n",
    "                        padding = 0.01, fontsize={'title': '8pt'},\n",
    "                        colorbar=True, toolbar='right', show_grid=True,\n",
    "                        tools=['hover']\n",
    "                   )\n",
    "    # Overlay the WCS\n",
    "    wcs = image.getWcs()\n",
    "    projection=WCS(image.getWcs().getFitsMetadata())\n",
    "    \n",
    "    # Create the Image element.\n",
    "    img = hv.Image(scaledFlippedArrayData, \n",
    "                   bounds=bounds_img, \n",
    "                   kdims=['x', 'y']).opts(\n",
    "        cmap = \"Gray\",  xlabel = 'X', ylabel ='Y',  title = \"Image Cutout Demo\", **img_opts)\n",
    "    # img = img.redim.range(z=(0.3, 0.8))\n",
    "    return rasterize(img)"
   ]
  },
  {
   "cell_type": "markdown",
   "id": "ec51ac0b",
   "metadata": {
    "tags": []
   },
   "source": [
    "## 2. Data Preparation\n"
   ]
  },
  {
   "cell_type": "code",
   "execution_count": null,
   "id": "81b8cd59-1ba3-4eaa-846f-6478ed0c3cf5",
   "metadata": {},
   "outputs": [],
   "source": [
    "# Butler repositoty \n",
    "config = 'dp02'\n",
    "collection = '2.2i/runs/DP0.2'\n",
    "butler = Butler.Butler(config, collections=collection)\n",
    "registry = butler.registry"
   ]
  },
  {
   "cell_type": "code",
   "execution_count": null,
   "id": "44d3db3b-3c7c-4bee-be1f-07a2ac5a3224",
   "metadata": {},
   "outputs": [],
   "source": [
    "# Let's use the same image as NB 3\n",
    "dataId_coadd = dict(tract=4431, patch=17, band=\"i\", skymap=\"DC2\") \n",
    "datasetRef_coadd = registry.findDataset('deepCoadd_calexp', dataId_coadd)\n",
    "coadd_calexp = butler.get(datasetRef_coadd)\n",
    "assert type(coadd_calexp) == lsst.afw.image.ExposureF\n",
    "print(coadd_calexp.getFilter())"
   ]
  },
  {
   "cell_type": "code",
   "execution_count": null,
   "id": "08185c5a-c727-4795-99be-6e50fcfb772d",
   "metadata": {
    "tags": []
   },
   "outputs": [],
   "source": [
    "# PVI \n",
    "dataId_calexp = {'visit': 192350, 'detector': 175, 'band': 'i'}\n",
    "datasetRef_calexp = registry.findDataset('calexp', dataId_calexp)\n",
    "calexp = butler.getDirect(datasetRef_calexp )\n",
    "ci = calexp.getInfo().getId()"
   ]
  },
  {
   "cell_type": "markdown",
   "id": "68716ccb-8a74-43c1-9e1b-3a555097fbee",
   "metadata": {},
   "source": [
    "We are going to need the DataSetRef so we are going to use a differnt way to get the Butler info\n",
    "We can get first the dataset reference from the butler knowing the dataid. butler.get and butler.getDirect can be used to then get the exposure but butler.get will take teh datasetRef and convert it back to a dataId and datasetType , query the registry again to make sure everything is consistent. getDirect bypasses this and assuems that the datasetRef I have   was gotten fro the registry, and is hence much more efficient. "
   ]
  },
  {
   "cell_type": "code",
   "execution_count": null,
   "id": "4ddb3f6d-beac-44f1-a249-b21353e4f0e0",
   "metadata": {},
   "outputs": [],
   "source": [
    "# Get the WCS \n",
    "wcs = coadd_calexp.getWcs()\n",
    "projection=WCS(coadd_calexp.getWcs().getFitsMetadata())"
   ]
  },
  {
   "cell_type": "code",
   "execution_count": null,
   "id": "9daf968a-6741-452b-97ba-1ed13df9fb41",
   "metadata": {},
   "outputs": [],
   "source": [
    "datasetRef_coadd.id"
   ]
  },
  {
   "cell_type": "code",
   "execution_count": null,
   "id": "6cec802d-aad1-4422-997a-7260131aa5a7",
   "metadata": {},
   "outputs": [],
   "source": [
    "# Plot the image + mask + maskedimage\n",
    "# TODO \n",
    "bbox_img = coadd_calexp.getBBox()\n",
    "bbox_img.endX"
   ]
  },
  {
   "cell_type": "code",
   "execution_count": null,
   "id": "dabf91a4-8fc5-4f44-b293-3fcb31fe5828",
   "metadata": {
    "tags": []
   },
   "outputs": [],
   "source": [
    "# Visualze the image  \n",
    "# Look at the rich galaxy cluster in the botton left!!!\n",
    "transformAndPlotImage(calexp)"
   ]
  },
  {
   "cell_type": "code",
   "execution_count": null,
   "id": "c648f9a3-60fc-4166-bee7-cb4684d09655",
   "metadata": {
    "tags": []
   },
   "outputs": [],
   "source": [
    "# Plot the same image but with matlotlib\n",
    "import matplotlib.pyplot as plt      # imports matplotlib.pyplot as plt\n",
    "import lsst.afw.display as afwDisplay\n",
    "afwDisplay.setDefaultBackend('matplotlib')\n",
    "\n",
    "# create a matplotlib.pyplot figure\n",
    "fig, ax = plt.subplots()\n",
    "# get an alias to the lsst.afw.display.Display() method\n",
    "display = afwDisplay.Display(frame=fig)\n",
    "# set the image stretch algorithm and range\n",
    "display.scale('asinh', 'zscale')\n",
    "# load the image into the display\n",
    "display.mtv(calexp.image)\n",
    "plt.show()"
   ]
  },
  {
   "cell_type": "markdown",
   "id": "b9e562cb-0789-4fae-9bc0-b998d444a0e8",
   "metadata": {},
   "source": [
    "## 3.0 Get a cutout of the galaxy cluster \n",
    "\n",
    "Let's get a cutout of the galaxy cluster in the bottom left\n",
    "The cluster seems to be centered at about (X, Y) = (12500, 8500).\n",
    "We can use the \"pixelToSky\" method of the WCS to get the sky coordinates:\n",
    "\n",
    "Need the Butler UUID of an image \n",
    "\n",
    "The initial implementation of the image cutout service will only return FITS files\n",
    "\n",
    "Initial implementation supports \n",
    "CIRCLE and POLYGON.  POS=RANGE not implemented - check!\n",
    "\n",
    "The initial version of the cutout service will only support a single ID parameter and a single stencil parameter.\n",
    "The ID parameter must be a UUID assigned by the Butler and uniquely identifying a source image"
   ]
  },
  {
   "cell_type": "markdown",
   "id": "2ca832f6-3a3d-4372-a496-4682f9890bf4",
   "metadata": {},
   "source": [
    "### 3.1 Use the Butler to get an image cutout"
   ]
  },
  {
   "cell_type": "code",
   "execution_count": null,
   "id": "45ab0f4d-3fb1-4b3a-bec7-6df7170d1aa9",
   "metadata": {},
   "outputs": [],
   "source": [
    "# Let's get teh coordinates of the gallaxy cluster and define a circle around them radec = wcs.pixelToSky(12500, 8500)\n",
    "# The cluster seems to be centered at about (X, Y) = (12500, 8500).\n",
    "# We can use the \"pixelToSky\" method of the WCS to get the sky coordinates:\n",
    "x,y = (12500, 8700)\n",
    "radec = wcs.pixelToSky(x,y)\n",
    "print(radec.getRa().asDegrees(), radec.getDec().asDegrees())"
   ]
  },
  {
   "cell_type": "markdown",
   "id": "685fff9e-29ad-4a98-b6b5-3c12d78d9f2c",
   "metadata": {},
   "source": [
    "**TODO** - automate the extraction of x,y, using holoviz/streams tooling to interactively find the point of interest"
   ]
  },
  {
   "cell_type": "code",
   "execution_count": null,
   "id": "57275f3c-315c-40b9-a352-a41a03eced80",
   "metadata": {},
   "outputs": [],
   "source": [
    "# Defin a circle around the point\n",
    "point = lsst.geom.SpherePoint(radec.getRa().asDegrees() * lsst.geom.degrees, radec.getDec().asDegrees() * lsst.geom.degrees)\n",
    "radius = 10 * lsst.geom.arcseconds\n",
    "point, radius"
   ]
  },
  {
   "cell_type": "code",
   "execution_count": null,
   "id": "22c3a5b4-c46f-45c5-87d2-a33fa55866d2",
   "metadata": {},
   "outputs": [],
   "source": [
    "# Need the UUID for the cutout service \n",
    "calexp_uuid = datasetRef_coadd.id\n",
    "assert isinstance(calexp_uuid, uuid.UUID)"
   ]
  },
  {
   "cell_type": "code",
   "execution_count": null,
   "id": "3fcdffcb-f0ab-4561-9041-2fd28b4e67e5",
   "metadata": {},
   "outputs": [],
   "source": [
    "# Use the Butler to get the cutout\n",
    "cutoutSideLength = 1000\n",
    "cutoutSize = geom.ExtentI(cutoutSideLength, cutoutSideLength)\n",
    "xy = geom.PointI(x,y)\n",
    "bbox = geom.BoxI(xy - cutoutSize // 2, cutoutSize)\n",
    "parameters = {'bbox': bbox}\n",
    "dsType = \"deepCoadd\""
   ]
  },
  {
   "cell_type": "code",
   "execution_count": null,
   "id": "65d50dc5-d7e3-4a0c-aa3c-2a9088e49114",
   "metadata": {},
   "outputs": [],
   "source": [
    "cutout_image = butler.get(dsType, parameters=parameters, dataId=dataId_coadd)\n",
    "assert cutout_image is not None\n",
    "print(\"The size of the cutout in pixels is: \", cutout_image.image.array.shape)"
   ]
  },
  {
   "cell_type": "code",
   "execution_count": null,
   "id": "c6a6f102-d55b-441c-a8d0-90397a6b5318",
   "metadata": {},
   "outputs": [],
   "source": [
    "transformAndPlotImage(cutout_image)"
   ]
  },
  {
   "cell_type": "code",
   "execution_count": null,
   "id": "6193c0c8-a86a-4de5-a5b0-b31d0dcc2eba",
   "metadata": {},
   "outputs": [],
   "source": [
    "# Show how to overlay the WCS and extract the centre of the galaxy cluster\n",
    "wcs = coadd_calexp.getWcs()\n",
    "print(wcs)\n",
    "radec = wcs.pixelToSky(12500, 8500)\n",
    "ra, dec = radec.getRa().asDegrees(), radec.getDec().asDegrees()\n",
    "print(ra, dec)"
   ]
  },
  {
   "cell_type": "markdown",
   "id": "29e3c6d4-2f69-44ce-95fb-acd8a4539ec1",
   "metadata": {},
   "source": [
    "### 3.2 Understanding the ivoa ObsCore table and its use\n",
    "\n",
    "Add in here a description of what the ObsCore service is. \n",
    "\n",
    "The IVOA-defined obscore table contains generic metadata for datasets held at the IDF. The table is accessible via ADQL queries via a TAP endpoint.\n",
    "\n",
    "\n",
    "In this example, we query the "
   ]
  },
  {
   "cell_type": "code",
   "execution_count": null,
   "id": "258a2858-4b1d-4e68-a770-403028a799f5",
   "metadata": {},
   "outputs": [],
   "source": [
    "service = get_tap_service()"
   ]
  },
  {
   "cell_type": "code",
   "execution_count": null,
   "id": "1e8e80c6-0294-441d-b8a2-7bc41a783994",
   "metadata": {},
   "outputs": [],
   "source": [
    "query = \"SELECT COUNT(*) from ivoa.ObsCore\"\n",
    "result = service.search(query).to_table()\n",
    "result"
   ]
  },
  {
   "cell_type": "markdown",
   "id": "cd3414c5-42d1-4fc2-a34c-bea7f3fc0d10",
   "metadata": {},
   "source": [
    "The ivoa.ObsCore contains 8475974 entries"
   ]
  },
  {
   "cell_type": "code",
   "execution_count": null,
   "id": "ca1dec57-4432-49c5-bb58-3e5908e1a22f",
   "metadata": {},
   "outputs": [],
   "source": [
    "# Let's look at the exact calexp from above \n",
    "# First recall the dataId \n",
    "print(dataId_calexp)"
   ]
  },
  {
   "cell_type": "code",
   "execution_count": null,
   "id": "91fd153b-4c84-4360-a5b6-1142b5991a68",
   "metadata": {},
   "outputs": [],
   "source": [
    "lsst_tract = dataId_calexp.get('tract')\n",
    "lsst_patch = dataId_calexp.get('patch')\n",
    "lsst_band = dataId_calexp.get('band')"
   ]
  },
  {
   "cell_type": "code",
   "execution_count": null,
   "id": "e55e7cab-8690-4449-8b7c-80f6195f265b",
   "metadata": {},
   "outputs": [],
   "source": [
    "# The image UUID is part of the access url field\n",
    "# TODO- is there an easier more intuitive way to access the URL?\n",
    "url_str = '%' + str(datasetRef_coadd.id)\n",
    "print(url_str)"
   ]
  },
  {
   "cell_type": "code",
   "execution_count": null,
   "id": "9544b9a9-5e9b-446d-9174-259eba44b5a4",
   "metadata": {},
   "outputs": [],
   "source": [
    "# Build the query \n",
    "# THIS DID WORK????? it now returns no results\n",
    "query = \"\"\"SELECT * FROM ivoa.ObsCore  \n",
    "WHERE obs_collection = 'LSST.DP02' AND dataproduct_type = 'image' \n",
    "AND instrument_name = 'LSSTCam-imSim' \n",
    "AND access_url like '\"\"\" + url_str + \"\"\"'\n",
    "\"\"\"\n",
    "print(query)"
   ]
  },
  {
   "cell_type": "code",
   "execution_count": null,
   "id": "581dd824-ba9c-410f-a9be-77cbee8de0d5",
   "metadata": {},
   "outputs": [],
   "source": [
    "# Build a query with no selection on UUID \n",
    "query = \"\"\"SELECT * FROM ivoa.ObsCore  \n",
    "WHERE obs_collection = 'LSST.DP02' AND dataproduct_type = 'image' \n",
    "AND instrument_name = 'LSSTCam-imSim' \n",
    "LIMIT 5\n",
    "\"\"\"\n",
    "print(query)"
   ]
  },
  {
   "cell_type": "code",
   "execution_count": null,
   "id": "be2dd6f7-e19a-4113-a1c1-3f32cb14ca12",
   "metadata": {},
   "outputs": [],
   "source": [
    "results = service.search(query).to_table()"
   ]
  },
  {
   "cell_type": "code",
   "execution_count": null,
   "id": "41e188df-b8df-4dd1-977e-0f3065596b5c",
   "metadata": {},
   "outputs": [],
   "source": [
    "# We passed a single UUID (in the first query) so there must be 1 result only (but there are zero)\n",
    "# assert len(results) == 1  \n",
    "print(len(results))\n",
    "results"
   ]
  },
  {
   "cell_type": "code",
   "execution_count": null,
   "id": "8ec35357-6904-4db4-a5bf-719fce8a54a0",
   "metadata": {},
   "outputs": [],
   "source": [
    "# Select all images in a region\n",
    "query = \"\"\"SELECT * FROM ivoa.ObsCore \n",
    "WHERE obs_collection = 'LSST.DP02' AND dataproduct_type = 'image' \n",
    "AND instrument_name = 'LSSTCam-imSim' \n",
    "AND CONTAINS(POINT('ICRS', 62.61, -36.57), s_region)=1 \n",
    "\"\"\"\n",
    "print(query)"
   ]
  },
  {
   "cell_type": "code",
   "execution_count": null,
   "id": "c086cb39-29fd-46f3-9954-07ed3bd75a80",
   "metadata": {},
   "outputs": [],
   "source": [
    "# limit to 5 images for initial testing \n",
    "result = service.search(query, maxrec=5).to_table()\n",
    "result"
   ]
  },
  {
   "cell_type": "code",
   "execution_count": null,
   "id": "2fe8324e-c909-4756-96fa-896879ed0065",
   "metadata": {},
   "outputs": [],
   "source": [
    "# Get our RSP access token (we will need this to download the data)\n",
    "token = get_access_token()"
   ]
  },
  {
   "cell_type": "code",
   "execution_count": null,
   "id": "591cf327-ae12-464d-bcfa-126d1f3740d1",
   "metadata": {},
   "outputs": [],
   "source": [
    "# Let's take a qick look at the ivoa.ObsCore schema\n",
    "# Prepare the query to explore the tables in the DP0.1 schema\n",
    "query = \"SELECT * FROM tap_schema.tables where schema_name like 'ivoa' order by table_index ASC\"\n",
    "print(query)"
   ]
  },
  {
   "cell_type": "code",
   "execution_count": null,
   "id": "b5b42739-701f-4f00-9192-0d0d01b8c9f1",
   "metadata": {},
   "outputs": [],
   "source": [
    "results = service.search(query).to_table()\n",
    "results"
   ]
  },
  {
   "cell_type": "code",
   "execution_count": null,
   "id": "54a9822a-ff66-4ba8-ac77-db16703a7321",
   "metadata": {},
   "outputs": [],
   "source": [
    "# Return the first calep found in the ObsCore table \n",
    "#aurl = \"https://data.lsst.cloud/api/datalink/links?ID=butler%3A//dp02/20d28216-534a-4102-b8a7-1c7f32a9b78c\"\n",
    "query = \"\"\"\n",
    "SELECT * FROM ivoa.ObsCore WHERE access_url like '%20d28216-534a-4102-b8a7-1c7f32a9b78c' \n",
    "\"\"\"\n",
    "print(query)"
   ]
  },
  {
   "cell_type": "code",
   "execution_count": null,
   "id": "e0e304ae-a93c-424e-bdeb-bbf2af2cb299",
   "metadata": {},
   "outputs": [],
   "source": [
    "results = service.search(query)\n",
    "r = results\n",
    "results.to_table().show_in_notebook()"
   ]
  },
  {
   "cell_type": "markdown",
   "id": "b59c8395-8d50-4619-a786-306428d04e78",
   "metadata": {},
   "source": [
    "### 3.3 Use the Image Cutout Service with PyVO\n",
    "Examples: \n",
    "https://github.com/astropy/pyvo/blob/main/examples/images/ex_get_cutouts.py\n",
    "https://github.com/astropy/pyvo/blob/main/examples/images/ex_casA_image_cat.py"
   ]
  },
  {
   "cell_type": "code",
   "execution_count": null,
   "id": "4888e687-180f-4250-b917-d4171620fc7e",
   "metadata": {},
   "outputs": [],
   "source": [
    "# PyVo : # https://pyvo.readthedocs.io/en/latest/api/pyvo.dal.SIAService.html\n",
    "# TODO provide an introduction to SIA/SODA in the description section\n",
    "from pyvo.dal.sia import search, SIAService\n",
    "import pyvo as vo\n",
    "from pyvo.dal.adhoc import DatalinkResults, SodaQuery"
   ]
  },
  {
   "cell_type": "code",
   "execution_count": null,
   "id": "db045955-6bca-4a3a-b609-294652be690d",
   "metadata": {},
   "outputs": [],
   "source": [
    "# We need to pass an authenticated session to the image cutout service. We will get this from the TAP service \n",
    "service = lsst.rsp.get_tap_service()\n",
    "assert service is not None\n",
    "assert service.baseurl == 'https://data.lsst.cloud/api/tap'"
   ]
  },
  {
   "cell_type": "code",
   "execution_count": null,
   "id": "d76d92e6-64b6-4b9e-b5bc-9ce3ecd28046",
   "metadata": {},
   "outputs": [],
   "source": [
    "# Now lets retrieve the first calibrated exposure \n",
    "results = service.search(\"SELECT * FROM ivoa.ObsCore WHERE dataproduct_subtype='lsst.calexp' LIMIT 1\")"
   ]
  },
  {
   "cell_type": "code",
   "execution_count": null,
   "id": "2f3462dc-08c5-418f-843c-a36cb5ca3ee7",
   "metadata": {},
   "outputs": [],
   "source": [
    "# Extract the session authentiction for reuse\n",
    "auth_session = service._session"
   ]
  },
  {
   "cell_type": "code",
   "execution_count": null,
   "id": "214ea7be-ac3a-4da0-a78f-3360336583bd",
   "metadata": {},
   "outputs": [],
   "source": [
    "# Or let's retrieve the image with a nice galaxy cluster above\n",
    "results = service.search(\"SELECT * FROM ivoa.ObsCore WHERE dataproduct_subtype='lsst.calexp' LIMIT 1\")"
   ]
  },
  {
   "cell_type": "code",
   "execution_count": null,
   "id": "ac31588c-a6b6-40f6-b214-0d6ed334c1e6",
   "metadata": {},
   "outputs": [],
   "source": [
    "# The result returned by the TAP service is not the image itself but rather an access URL for the image\n",
    "# NOTE : here a lot more description of the datalinks service shoudl be added\n",
    "results.to_table().show_in_notebook()"
   ]
  },
  {
   "cell_type": "code",
   "execution_count": null,
   "id": "b5e3f653-d2af-4269-b3b4-a04536fd44a7",
   "metadata": {},
   "outputs": [],
   "source": [
    "# Extract the access URL from the result in the first row\n",
    "result = results[0]\n",
    "f\"Datalink link service url: {result.getdataurl()}\""
   ]
  },
  {
   "cell_type": "code",
   "execution_count": null,
   "id": "29e208a7-5e4e-4ca0-a797-0233fe828106",
   "metadata": {},
   "outputs": [],
   "source": [
    "# Attempt to set up auth following the recipe in get_tap_service()\n",
    "# def setup_auth():\n",
    "#     s = requests.Session()\n",
    "#     tok = get_access_token()\n",
    "#     assert tok is not None\n",
    "\n",
    "#     s.headers[\"Authorization\"] = \"Bearer \" + tok\n",
    "#     auth = pyvo.auth.authsession.AuthSession()\n",
    "#     auth.credentials.set(\"lsst-token\", s)\n",
    "    \n",
    "#     datalink_url = os.getenv(\"EXTERNAL_INSTANCE_URL\", \"\") + \"/api/datalink\"\n",
    "#     cutout_url = os.getenv(\"EXTERNAL_INSTANCE_URL\", \"\") + \"/api/cutout\"\n",
    "    \n",
    "#     auth.add_security_method_for_url(datalink_url, \"lsst-token\")\n",
    "#     auth.add_security_method_for_url(datalink_url + \"/links\", \"lsst-token\")\n",
    "#     auth.add_security_method_for_url(cutout_url, \"lsst-token\")\n",
    "    \n",
    "#     return auth"
   ]
  },
  {
   "cell_type": "code",
   "execution_count": null,
   "id": "a9487054-48e8-49e8-845f-eb7375b442af",
   "metadata": {},
   "outputs": [],
   "source": [
    "# Document this better\n",
    "#auth = setup_auth()\n",
    "# s = requests.Session()\n",
    "# tok = get_access_token()\n",
    "# assert tok is not None\n",
    "\n",
    "# s.headers[\"Authorization\"] = \"Bearer \" + tok\n",
    "# auth = pyvo.auth.authsession.AuthSession()\n",
    "# auth.credentials.set(\"lsst-token\", s)"
   ]
  },
  {
   "cell_type": "code",
   "execution_count": null,
   "id": "13308830-b679-46ec-bd87-f74ef913be5b",
   "metadata": {},
   "outputs": [],
   "source": [
    "datalink_url = os.getenv(\"EXTERNAL_INSTANCE_URL\", \"\") + \"/api/datalink\"\n",
    "cutout_url = os.getenv(\"EXTERNAL_INSTANCE_URL\", \"\") + \"/api/cutout\""
   ]
  },
  {
   "cell_type": "code",
   "execution_count": null,
   "id": "304a50a6-689f-45ca-b6da-03632b87441d",
   "metadata": {},
   "outputs": [],
   "source": [
    "# auth.add_security_method_for_url(datalink_url, \"lsst-token\")\n",
    "# auth.add_security_method_for_url(datalink_url + \"/links\", \"lsst-token\")\n",
    "# auth.add_security_method_for_url(cutout_url, \"lsst-token\")"
   ]
  },
  {
   "cell_type": "code",
   "execution_count": null,
   "id": "5df7b97c-7c76-4d5c-8fe6-0c3f1c749dd3",
   "metadata": {},
   "outputs": [],
   "source": [
    "dl_results = DatalinkResults.from_result_url(result.getdataurl(),session=auth_session)\n",
    "dl_results.to_table().show_in_notebook()"
   ]
  },
  {
   "cell_type": "code",
   "execution_count": null,
   "id": "ac53b6da-a79a-4131-8f72-95c8624b1aad",
   "metadata": {},
   "outputs": [],
   "source": [
    "print(dl_results.status)"
   ]
  },
  {
   "cell_type": "code",
   "execution_count": null,
   "id": "192a6ef7-4a5d-4c08-8679-1eee03346772",
   "metadata": {},
   "outputs": [],
   "source": [
    "print(dl_results.votable)"
   ]
  },
  {
   "cell_type": "code",
   "execution_count": null,
   "id": "09b365cd-40f0-4ec0-b32c-5e42e63b51f1",
   "metadata": {},
   "outputs": [],
   "source": [
    "# Now we can grab the google signed URL for the image (note that this will expire)\n",
    "image_url = dl_results.getrecord(0).get('access_url')\n",
    "print(image_url)"
   ]
  },
  {
   "cell_type": "code",
   "execution_count": null,
   "id": "96074baf-f05d-4772-bb97-93de86914d63",
   "metadata": {},
   "outputs": [],
   "source": [
    "# Now let's download the image \n",
    "filename = download_file(image_url)\n",
    "hdulist = fits.open(image_url)"
   ]
  },
  {
   "cell_type": "code",
   "execution_count": null,
   "id": "307c6025-db28-44ab-a38d-ccbe969dc675",
   "metadata": {},
   "outputs": [],
   "source": [
    "# Looks like a deepCoadd_calexp to me...\n",
    "for hdu in hdulist:\n",
    "    print(hdu.name)"
   ]
  },
  {
   "cell_type": "code",
   "execution_count": null,
   "id": "fa867727-c815-4fa6-bbb5-7c759563079c",
   "metadata": {},
   "outputs": [],
   "source": [
    "# Let's plot the image and see what it looks like...\n",
    "image = hdulist[1].data\n",
    "\n",
    "fig = plt.figure()\n",
    "ax = fig.add_subplot(1, 1, 1)\n",
    "im = imshow_norm(image, ax, origin='lower', interval=ZScaleInterval(), stretch=SqrtStretch(), cmap='gray')\n",
    "fig.colorbar(im[0])"
   ]
  },
  {
   "cell_type": "code",
   "execution_count": null,
   "id": "e6db6639-195a-467e-9a5a-05984d9da04e",
   "metadata": {},
   "outputs": [],
   "source": [
    "# We can also create an ExposureF stack object - if say we want to do some reprocessing \n",
    "new_coadd = ExposureF(filename)\n",
    "\n",
    "fig, ax = plt.subplots()\n",
    "display = afwDisplay.Display(frame=fig)\n",
    "display.scale('asinh', 'zscale')\n",
    "display.mtv(new_coadd.maskedImage)\n",
    "plt.show()"
   ]
  },
  {
   "cell_type": "code",
   "execution_count": null,
   "id": "03e65529-86a2-43d3-aa2c-258787feac44",
   "metadata": {},
   "outputs": [],
   "source": [
    "# Now we can create the datalink, which will allow us to access the (transient) signed URL for image access\n",
    "datalink = DatalinkResults.from_result_url(result.getdataurl(),session=auth_session)\n",
    "print(datalink.status)\n",
    "#print(datalink.votable)\n",
    "\n",
    "# Now we can grab the google signed URL for the image (note that this will expire)\n",
    "image_url = datalink.getrecord(0).get('access_url')\n",
    "print(image_url)"
   ]
  },
  {
   "cell_type": "code",
   "execution_count": null,
   "id": "7b53bc6d-3d2f-47ba-a4d6-8f360b277254",
   "metadata": {},
   "outputs": [],
   "source": [
    "# Now let's retrive the image "
   ]
  },
  {
   "cell_type": "code",
   "execution_count": null,
   "id": "7f463102-09c0-4455-b874-c3509633369c",
   "metadata": {},
   "outputs": [],
   "source": [
    "# Gregory How do I call the cutout service to give me the same cutout as I get above from the Butler? \n",
    "calexp_uuid = datasetRef_calexp.id\n",
    "cutout_coords = SkyCoord(radec.getRa().asDegrees()*u.degree, radec.getDec().asDegrees()*u.degree, unit=\"deg\", frame=\"icrs\")\n",
    "cutout_radius = 10\n",
    "cutout_pos = 'CIRCLE 55.8 -32.3 10.0'\n",
    "cutout_pos"
   ]
  },
  {
   "cell_type": "code",
   "execution_count": null,
   "id": "aeac9615-5f99-4c14-9377-8f79c9037a18",
   "metadata": {},
   "outputs": [],
   "source": [
    "help(service.search)"
   ]
  },
  {
   "cell_type": "code",
   "execution_count": null,
   "id": "f6288a25-2355-4213-85ab-0adeca3e3fcf",
   "metadata": {},
   "outputs": [],
   "source": [
    "# submit a SIA query to this service with the given parameters\n",
    "# error : file does not appear to be a VOTable\n",
    "# service.search(pos=cutout_coords)"
   ]
  },
  {
   "cell_type": "code",
   "execution_count": null,
   "id": "e68a931c-2141-44a4-9f53-db9fe46a6b78",
   "metadata": {},
   "outputs": [],
   "source": [
    "# fails\n",
    "# service.search(pos=(350.85, 58.815),size=0.25,format=\"image/fits\", )"
   ]
  },
  {
   "cell_type": "code",
   "execution_count": null,
   "id": "3624b5fa-24a1-4a9c-80eb-9ac57f775399",
   "metadata": {},
   "outputs": [],
   "source": [
    "# fails: DALFormatError: E19: None:8:0: E19: File does not appear to be a VOTABLE\n",
    "\n",
    "#cutouts1 = service.search(pos=(148.8888, 69.065), size=0.2)\n",
    "#query1 = service.create_query(size=0.2)  # or create a query object\n",
    "#query1.pos = (350.85, 58.815)\n",
    "# cutouts2 = query1.execute()"
   ]
  },
  {
   "cell_type": "code",
   "execution_count": null,
   "id": "9fce0268-ce6a-49af-987e-ede35c61eb7f",
   "metadata": {},
   "outputs": [],
   "source": [
    "# fails: DALFormatError: E19: None:8:0: E19: File does not appear to be a VOTABLE\n",
    "query3 = service.create_query(pos=(350.85, 58.815),\n",
    "                              size=0.25, format=\"image/fits\")\n",
    "# images = query3.execute()\n",
    "# firstim = images[0]"
   ]
  },
  {
   "cell_type": "markdown",
   "id": "81f5d343-c51c-4757-bb4e-2db814ba6ed1",
   "metadata": {},
   "source": [
    "# Use SODA to create a cutout\n",
    "\n",
    "In this section we make use of pyvo to call obstap, gets the results and then follows the links returned to get a cutout.\n",
    "\n",
    "TODO: Describe te SODA service\n",
    "\n",
    "SODA wants the Butler UUID. Specifically, the URL is similar to \n",
    "https://data-int.lsst.cloud/api/cutout/sync?id=8a953c0321bd4878bfa694dbf628ea81&circle=53.13925%20-34.0215%200.0105 \n",
    "(the id parameter is the Butler UUID, and the remaining parameters are the cutout request, \n",
    "and there's a POST version as well and an async version following the SODA standard)."
   ]
  },
  {
   "cell_type": "code",
   "execution_count": null,
   "id": "b13285eb-fce5-4b6e-a899-dbdb20778fe7",
   "metadata": {
    "tags": []
   },
   "outputs": [],
   "source": [
    "# Let's use the same coadd as before \n",
    "url_str= '%' + str(datasetRef_coadd.id) + '%'\n",
    "q = \"\"\"\n",
    "SELECT * FROM ivoa.ObsCore \n",
    "WHERE access_url like '\"\"\" + url_str + \"\"\"'\n",
    "\"\"\" "
   ]
  },
  {
   "cell_type": "code",
   "execution_count": null,
   "id": "d68be552-78b9-41ca-bd41-96a8ac9e1d80",
   "metadata": {
    "tags": []
   },
   "outputs": [],
   "source": [
    "print(q)"
   ]
  },
  {
   "cell_type": "code",
   "execution_count": null,
   "id": "2ab59225-da99-461e-87c8-5fb69be83132",
   "metadata": {},
   "outputs": [],
   "source": [
    "# Use a simple query to return the coadd with a nice galaxy cluster\n",
    "# Note that the setup_auth() method needs to have been run\n",
    "results = service.search(q, maxrec=1)\n",
    "results.to_table().show_in_notebook()"
   ]
  },
  {
   "cell_type": "code",
   "execution_count": null,
   "id": "ee87f9f3-6b8d-4c60-b036-a27d921dbcb6",
   "metadata": {},
   "outputs": [],
   "source": [
    "r=results[0]\n",
    "print(f\"Datalink link service url:  {r.getdataurl()}\")\n",
    "dr = DatalinkResults.from_result_url(r.getdataurl(), session=auth_session)\n",
    "dr.to_table().show_in_notebook()"
   ]
  },
  {
   "cell_type": "markdown",
   "id": "28259f31-f34a-4735-938a-58598a4123d1",
   "metadata": {},
   "source": [
    "You will see above that there are 2 results. One is similar to above in that it provides an access URL to the image. The second is the cutout service. We will use this to get a cutout by using SodaQuery \n",
    "\n",
    "Note:  add some description and an introduction here as to what SODA and a SODA service is. "
   ]
  },
  {
   "cell_type": "code",
   "execution_count": null,
   "id": "2b996b8b-aabd-4a49-821a-9f9b71e91fae",
   "metadata": {},
   "outputs": [],
   "source": [
    "sq = SodaQuery.from_resource(dr, dr.get_adhocservice_by_id(\"cutout-sync\"), \n",
    "                             session=auth_session)\n",
    "\n",
    "# Now define a circle shape that provides an ra, dec and radius, that defines the shape of the cutout\n",
    "# Describe the SodaQuery API here \n",
    "\n",
    "# Using the results 'r' above, we can see \n",
    "print(r[\"s_ra\"], r[\"s_dec\"])"
   ]
  },
  {
   "cell_type": "code",
   "execution_count": null,
   "id": "16f5eda4-634c-4581-8173-eade75d04c84",
   "metadata": {},
   "outputs": [],
   "source": [
    "# rather than use the centre of the image, that we get from the query, we'll take the centre of the galaxy cluster, extracted above \n",
    "print(ra, dec)"
   ]
  },
  {
   "cell_type": "code",
   "execution_count": null,
   "id": "e367b9ad-64e8-49da-8de3-2e19bb8c5775",
   "metadata": {},
   "outputs": [],
   "source": [
    "radius = 0.01 # units\n",
    "#sq.circle = (r[\"s_ra\"], r[\"s_dec\"], radius)\n",
    "sq.circle = (ra, dec, radius)"
   ]
  },
  {
   "cell_type": "code",
   "execution_count": null,
   "id": "c8a86704-c45a-4a37-bdc7-d9cd0ffac7cb",
   "metadata": {},
   "outputs": [],
   "source": [
    "print(type(sq))\n",
    "print(sq.circle)\n",
    "print(sq)"
   ]
  },
  {
   "cell_type": "code",
   "execution_count": null,
   "id": "5d861c6d-bc2b-44d8-9660-80475c6663e9",
   "metadata": {
    "tags": []
   },
   "outputs": [],
   "source": [
    "sodaPoly = os.path.join(os.getenv('HOME'), 'DATA/soda-polygon.fits')\n",
    "with open(sodaPoly, 'bw') as f:\n",
    "    f.write(sq.execute_stream().read())"
   ]
  },
  {
   "cell_type": "code",
   "execution_count": null,
   "id": "5d34df6a-55ad-4c39-87dd-5d350a580022",
   "metadata": {
    "tags": []
   },
   "outputs": [],
   "source": [
    "# Display the cutout\n",
    "i = ImageF(sodaPoly)     #read FITS file into afw image object\n",
    "afw_display = lsst.afw.display.Display()      #get an alias to the lsst.afw.display.Display() method\n",
    "afw_display.scale('asinh', 'zscale')    #set the image stretch algorithm and range\n",
    "afw_display.mtv(i)                     #load the image into the display"
   ]
  },
  {
   "cell_type": "code",
   "execution_count": null,
   "id": "00f6de03-47a5-4770-9fd0-fb237dc306b5",
   "metadata": {},
   "outputs": [],
   "source": [
    "host=os.getenv(\"EXTERNAL_INSTANCE_URL\")\n",
    "print(host)\n",
    "SODA_URL=\"{}/api/image/soda/sync\".format(host)\n",
    "ID='default.calexp.r'\n",
    "print(SODA_URL)"
   ]
  },
  {
   "cell_type": "code",
   "execution_count": null,
   "id": "cb508ec5-b040-429a-903b-7ae2b640364e",
   "metadata": {},
   "outputs": [],
   "source": [
    "q3 = pyvo.dal.adhoc.SodaQuery(\n",
    "    SODA_URL, \n",
    "    ID=ID, \n",
    "    POS='POLYGON 216.67 -0.52 216.685 -0.52 216.677 -0.54'\n",
    ")\n",
    "q3"
   ]
  },
  {
   "cell_type": "code",
   "execution_count": null,
   "id": "5b945ce2-f889-47c1-bdd1-afa4e1242539",
   "metadata": {},
   "outputs": [],
   "source": [
    "sodaPoly = os.path.join(os.getenv('HOME'), 'DATA/soda-polygon.fits')\n",
    "with open(sodaPoly, 'bw+') as f3:\n",
    "    f3.write(q3.execute_stream().read())"
   ]
  },
  {
   "cell_type": "code",
   "execution_count": null,
   "id": "3491a00b-cf30-4bf0-96c9-8d9d5b8bfa3f",
   "metadata": {},
   "outputs": [],
   "source": [
    "# Some test objects\n",
    "P0 = ['CIRCLE 1.0 2.0 3.0']\n",
    "P1 = ['CIRCLE 1.0 2.0 3.0', 'RANGE 1.0 2.0 3.0 4.0']\n",
    "service = SodaQuery(baseurl=SODA_URL)"
   ]
  },
  {
   "cell_type": "code",
   "execution_count": null,
   "id": "038e62f2-f960-4052-a4fd-098314f43dd6",
   "metadata": {},
   "outputs": [],
   "source": [
    "size = 20/3600 # 20 arcseconds\n",
    "POS='CIRCLE 216.68 -0.53 %03.3f' % size"
   ]
  },
  {
   "cell_type": "code",
   "execution_count": null,
   "id": "05769fdc-0f7f-495c-ac40-f3f69250d52b",
   "metadata": {},
   "outputs": [],
   "source": [
    "POS"
   ]
  },
  {
   "cell_type": "markdown",
   "id": "d2ca7945-bfd3-4d21-93c6-82441dd56b92",
   "metadata": {},
   "source": [
    "# Circle type defined in DALI\n",
    "https://www.ivoa.net/documents/DALI/20170517/REC-DALI-1.1.html#tth_sEc3.3.6\n",
    "\n",
    "Circle values serialised in VOTable or service parameters must have the following metadata in the FIELD element: datatype=\"double\" or datatype=\"float\", arraysize=\"3\", xtype=\"circle\". For circles in a spherical coordinate system, the values are ordered as: longitude latitude radius; longitude values must fall within [0,360], latitude values within [-90,90], and radius values in (0,180]. For example:\n",
    "\n",
    "12.3 45.6 0.5\n",
    "\n",
    "In spherical coordinates, all longitude values must fall within [0,360] and all latitude values within [-90,90]."
   ]
  },
  {
   "cell_type": "code",
   "execution_count": null,
   "id": "a7953590-5cbd-4c96-93f5-b8e78a662860",
   "metadata": {},
   "outputs": [],
   "source": [
    "cutout_coords"
   ]
  },
  {
   "cell_type": "code",
   "execution_count": null,
   "id": "7ba56f2c-402d-4f95-8d32-a026251fc091",
   "metadata": {},
   "outputs": [],
   "source": [
    "cutout_pos"
   ]
  },
  {
   "cell_type": "code",
   "execution_count": null,
   "id": "6eca3f9b-cbe4-47d2-b37e-b7598fb2035f",
   "metadata": {},
   "outputs": [],
   "source": [
    "query = SodaQuery(SODA_URL, id=calexp_uuid, pos = cutout_pos, session=auth_session)"
   ]
  },
  {
   "cell_type": "code",
   "execution_count": null,
   "id": "d669e997-7e23-41ed-9e4c-b726cfbbb760",
   "metadata": {},
   "outputs": [],
   "source": [
    "# query = service.create_query()\n",
    "query.execute()"
   ]
  },
  {
   "cell_type": "code",
   "execution_count": null,
   "id": "a3982e85-0d76-4cf5-97b6-24fa79144fb4",
   "metadata": {},
   "outputs": [],
   "source": [
    "cutout_circle = os.path.join(os.getenv('HOME'), 'DATA/soda-circle.fits')\n",
    "with open(cutout_circle, 'bw+') as f1:\n",
    "    f1.write(query.e().read())"
   ]
  },
  {
   "cell_type": "code",
   "execution_count": null,
   "id": "24b0dc5a-86c6-46b0-a156-847b4fc25dd9",
   "metadata": {},
   "outputs": [],
   "source": [
    "# from astropy.io import fits\n",
    "fits_image_filename = fits.util.get_testdata_filepath(cutout_circle)\n",
    "hdul = fits.open(fits_image_filename)"
   ]
  },
  {
   "cell_type": "code",
   "execution_count": null,
   "id": "efecfc02-041e-438b-b729-7c45f26e290a",
   "metadata": {},
   "outputs": [],
   "source": [
    "# Search for available services \n",
    "# sia, tap, \n",
    "services = vo.regsearch(servicetype='sia')\n",
    "for service in (services):\n",
    "    print(service.res_title)"
   ]
  },
  {
   "cell_type": "markdown",
   "id": "70c30d1b-e45b-4bef-9e8a-a033452d8c25",
   "metadata": {},
   "source": [
    "#### 3.2.1 Synchronous query of the ICS"
   ]
  },
  {
   "cell_type": "markdown",
   "id": "6bbb9a57-918c-4b99-ab10-f243efd73faf",
   "metadata": {},
   "source": [
    "#### 3.2.2 Asynchronous query of the ICS"
   ]
  },
  {
   "cell_type": "markdown",
   "id": "5daa3bc3-c2b0-4731-a20f-00fca51c448d",
   "metadata": {},
   "source": [
    "#### 4.0 Simple Image Access SIA\n",
    "\n",
    "Simple Image Access\n",
    "The Simple Image Access (SIA) protocol provides capabilities for the discovery, description, access, and retrieval of multi-dimensional image datasets, including 2-D images as well as datacubes of three or more dimensions. SIA data discovery is based on the ObsCore Data Model, which primarily describes data products by the physical axes (spatial, spectral, time, and polarization). Image datasets with dimension greater than 2 are often referred to as datacubes, cube or image cube datasets and may be considered examples of hypercube or n-cube data. PyVO supports both versions of SIA."
   ]
  },
  {
   "cell_type": "code",
   "execution_count": null,
   "id": "39e687aa-7bd3-4127-a433-e8daeccdf6ec",
   "metadata": {},
   "outputs": [],
   "source": [
    "pos = SkyCoord.from_name('Eta Carina')\n",
    "size = Quantity(0.5, unit=\"deg\")\n",
    "sia_service = vo.dal.SIAService(\"http://dc.zah.uni-heidelberg.de/hppunion/q/im/siap.xml\")\n",
    "sia_results = sia_service.search(pos=pos, size=size)"
   ]
  },
  {
   "cell_type": "code",
   "execution_count": null,
   "id": "8397b047-c538-4365-a4f7-8b653671444b",
   "metadata": {},
   "outputs": [],
   "source": []
  }
 ],
 "metadata": {
  "kernelspec": {
   "display_name": "LSST",
   "language": "python",
   "name": "lsst"
  },
  "language_info": {
   "codemirror_mode": {
    "name": "ipython",
    "version": 3
   },
   "file_extension": ".py",
   "mimetype": "text/x-python",
   "name": "python",
   "nbconvert_exporter": "python",
   "pygments_lexer": "ipython3",
   "version": "3.10.10"
  },
  "toc-autonumbering": false
 },
 "nbformat": 4,
 "nbformat_minor": 5
}
