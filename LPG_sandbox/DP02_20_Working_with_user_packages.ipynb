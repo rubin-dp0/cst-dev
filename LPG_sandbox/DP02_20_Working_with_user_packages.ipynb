{
 "cells": [
  {
   "cell_type": "markdown",
   "id": "2f0883bc-6272-451a-8b50-9184e2248954",
   "metadata": {},
   "source": [
    "<img align=\"left\" src = https://project.lsst.org/sites/default/files/Rubin-O-Logo_0.png width=250 style=\"padding: 10px\"> \n",
    "<b>Working with user installed packages</b> <br>\n",
    "Contact author: Leanne Guy <br>\n",
    "Last verified to run: 2023-07-27<br>\n",
    "LSST Science Piplines version: Weekly 2023_15<br>\n",
    "Container size: medium <br>\n",
    "Targeted learning level: beginner <br>"
   ]
  },
  {
   "cell_type": "markdown",
   "id": "c4778164-58f3-4e2a-bf64-341240b01eac",
   "metadata": {},
   "source": [
    "**Description:** An simple example showing how to install and setup user packages that require building libraries and a modification to the LD_LIBRARY_PATH so that they can be used in a notebook\n",
    "\n",
    "**Packages:** os, bagpipes, PyMultiNest, MultiNest, PyCuba, Cuba\n",
    "\n",
    "**References:** As an example, we will install the bagpipes package and the dependencies described at ```https://github.com/JohannesBuchner/PyMultiNest/blob/master/doc/install.rst```\n",
    "\n",
    "**TODO:** Extend this to show how to install R locally and configure it and the use it \n",
    "Make  a docker container based on centos to download the RPMs necessary (because my mac is not centos I need a container). Copy them to the RSP and then use yum to install them in a local directory (yum local install ~/local/ XX.rpm) . Onces installed there will be some magic needed in ~/notebooks/.user_setups to make R available in the RSP"
   ]
  },
  {
   "cell_type": "markdown",
   "id": "0cd20249-93cc-4638-b366-b3db5e35932b",
   "metadata": {},
   "source": [
    "# 1. Install user packages \n",
    "\n",
    "Open a terminal in the RSP to execute the commands in this section\n",
    "\n",
    "### 1.1 Install the bagpipes package with pip\n",
    "```\n",
    "pip install --user bagpipes\n",
    "```\n",
    "You should get the message ```Successfully installed bagpipes-1.0.2 corner-2.2.2 pymultinest-2.11 spectres-2.2.0```\n",
    "\n",
    "PyMultiNest is a Python interface for MultiNest. The MultiNest package itself is not included. Before we can use the bagpipes package, which depends on pymultinest, we must install Multinest and update the environment in the LSST kernel\n",
    "\n",
    "### 1.2 Install and build dependencies \n",
    "\n",
    "Packages can be installed in the ```~/local``` directory. Execute the following from the command line\n",
    "\n",
    "```\n",
    "cd ~/local\n",
    "git clone https://github.com/JohannesBuchner/MultiNest\n",
    "cd MultiNest/build\n",
    "cmake ..\n",
    "make\n",
    "```\n",
    "\n",
    "### 1.3 Update local setup \n",
    "The LD_LIBRARY_PATH environment variable must now be updated to point to the MultiNest lib directory in both the  ```.bashrc```, to use bagpipes in python started on the command line, and in the  ```~/notebooks.user_setups``` to us it in a notebook\n",
    "\n",
    "In a terminal execute\n",
    "```\n",
    "export LD_LIBRARY_PATH=${LD_LIBRARY_PATH}:${HOME}local/MultiNest/lib\n",
    "python -c 'import bagpipes as pipes'\n",
    "```\n",
    "You can also add the ```export LD_LIBRARY_PATH``` to your ```~/.bashrc``` file so that this is setup automatically everytime you login. \n",
    "\n",
    "Finally, edit the ```~/notebooks.user_setups``` file to add the following line to be able to use ```bagpipes``` from a notebook\n",
    "```\n",
    "export LD_LIBRARY_PATH=${LD_LIBRARY_PATH}:/home/leanne/local/MultiNest/lib\n",
    "```\n",
    "\n",
    "You will need to log out and log back in again before you execute the next cell. "
   ]
  },
  {
   "cell_type": "markdown",
   "id": "041bfd09-8ec3-46fe-b597-be31c7ce6c87",
   "metadata": {},
   "source": [
    "# 2. Check the environment in the notebook and use the bagpipes package\n",
    "\n",
    "Execute the next cell to inspect the ```LD_LIBRARY_PATH```. Note that the last entry should be ```${HOME}/local/MultiNest/lib```"
   ]
  },
  {
   "cell_type": "code",
   "execution_count": null,
   "id": "1c89f642-c2d5-482f-827c-69235058f05d",
   "metadata": {
    "tags": []
   },
   "outputs": [],
   "source": [
    "import os\n",
    "print(os.getenv('LD_LIBRARY_PATH'))"
   ]
  },
  {
   "cell_type": "code",
   "execution_count": null,
   "id": "a17e9519-1488-4ab4-854e-51e1baf5dd4e",
   "metadata": {
    "tags": []
   },
   "outputs": [],
   "source": [
    "import bagpipes as pipes"
   ]
  }
 ],
 "metadata": {
  "kernelspec": {
   "display_name": "LSST",
   "language": "python",
   "name": "lsst"
  },
  "language_info": {
   "codemirror_mode": {
    "name": "ipython",
    "version": 3
   },
   "file_extension": ".py",
   "mimetype": "text/x-python",
   "name": "python",
   "nbconvert_exporter": "python",
   "pygments_lexer": "ipython3",
   "version": "3.10.10"
  }
 },
 "nbformat": 4,
 "nbformat_minor": 5
}
