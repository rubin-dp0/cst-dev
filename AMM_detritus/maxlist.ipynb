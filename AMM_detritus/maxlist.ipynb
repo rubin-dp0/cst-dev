{
 "cells": [
  {
   "cell_type": "code",
   "execution_count": 4,
   "id": "2ad85957-97e9-45d3-b567-07c48db4be8c",
   "metadata": {
    "execution": {
     "iopub.execute_input": "2023-12-04T01:10:37.961272Z",
     "iopub.status.busy": "2023-12-04T01:10:37.960546Z",
     "iopub.status.idle": "2023-12-04T01:10:38.797271Z",
     "shell.execute_reply": "2023-12-04T01:10:38.796423Z",
     "shell.execute_reply.started": "2023-12-04T01:10:37.961247Z"
    }
   },
   "outputs": [],
   "source": [
    "# initially copied from:\n",
    "# https://dp0-3.lsst.io/data-products-dp0-3/table-access-and-queries.html#query-a-list-of-objects\n",
    "\n",
    "from lsst.rsp import get_tap_service, retrieve_query\n",
    "service = get_tap_service(\"ssotap\")\n",
    "\n",
    "sId_list = [-9222537907249304995, -9222483995821535577, -9221971933016733299]\n",
    "\n",
    "query = \"\"\"SELECT *\n",
    "FROM dp03_catalogs_10yr.MPCORB\n",
    "WHERE ssObjectId IN {}\n",
    "\"\"\".format(tuple(sId_list))\n",
    "\n",
    "results = service.search(query).to_table()"
   ]
  },
  {
   "cell_type": "code",
   "execution_count": 5,
   "id": "d137edeb-3a1a-46b3-b474-71e815a8dc40",
   "metadata": {
    "execution": {
     "iopub.execute_input": "2023-12-04T01:10:41.130330Z",
     "iopub.status.busy": "2023-12-04T01:10:41.129323Z",
     "iopub.status.idle": "2023-12-04T01:10:41.134659Z",
     "shell.execute_reply": "2023-12-04T01:10:41.134011Z",
     "shell.execute_reply.started": "2023-12-04T01:10:41.130300Z"
    }
   },
   "outputs": [
    {
     "data": {
      "text/plain": [
       "3"
      ]
     },
     "execution_count": 5,
     "metadata": {},
     "output_type": "execute_result"
    }
   ],
   "source": [
    "len(results)"
   ]
  },
  {
   "cell_type": "code",
   "execution_count": 6,
   "id": "3b53381b-a17f-44aa-a63a-439bdd6f2f3c",
   "metadata": {
    "execution": {
     "iopub.execute_input": "2023-12-04T01:10:44.397087Z",
     "iopub.status.busy": "2023-12-04T01:10:44.396223Z",
     "iopub.status.idle": "2023-12-04T01:10:44.407152Z",
     "shell.execute_reply": "2023-12-04T01:10:44.406451Z",
     "shell.execute_reply.started": "2023-12-04T01:10:44.397062Z"
    }
   },
   "outputs": [
    {
     "data": {
      "text/html": [
       "<div><i>Table length=3</i>\n",
       "<table id=\"table137979558897488\" class=\"table-striped table-bordered table-condensed\">\n",
       "<thead><tr><th>arc</th><th>arcEnd</th><th>arcStart</th><th>computer</th><th>e</th><th>epoch</th><th>flags</th><th>fullDesignation</th><th>incl</th><th>lastIncludedObservation</th><th>mpcDesignation</th><th>mpcG</th><th>mpcH</th><th>mpcNumber</th><th>n</th><th>nobs</th><th>node</th><th>nopp</th><th>peri</th><th>pertsLong</th><th>pertsShort</th><th>q</th><th>reference</th><th>rms</th><th>ssObjectId</th><th>tperi</th><th>uncertaintyParameter</th></tr></thead>\n",
       "<thead><tr><th>d</th><th></th><th></th><th></th><th></th><th>d</th><th></th><th></th><th>deg</th><th>d</th><th></th><th></th><th>mag</th><th></th><th>deg / d</th><th></th><th>deg</th><th></th><th>deg</th><th></th><th></th><th>AU</th><th></th><th>arcsec</th><th></th><th>d</th><th></th></tr></thead>\n",
       "<thead><tr><th>float32</th><th>object</th><th>object</th><th>str10</th><th>float64</th><th>float64</th><th>int32</th><th>str26</th><th>float64</th><th>float32</th><th>str8</th><th>float32</th><th>float32</th><th>int32</th><th>float64</th><th>int32</th><th>float64</th><th>int32</th><th>float64</th><th>str3</th><th>str3</th><th>float64</th><th>str9</th><th>float32</th><th>int64</th><th>float64</th><th>str1</th></tr></thead>\n",
       "<tr><td>--</td><td></td><td></td><td></td><td>0.09660125473857706</td><td>60065.0</td><td>0</td><td>2011 2006 XD51</td><td>6.541370000000017</td><td>--</td><td>2006 XD5</td><td>0.15</td><td>16.87</td><td>0</td><td>--</td><td>0</td><td>282.7572</td><td>0</td><td>33.70771535485865</td><td></td><td></td><td>2.2310128288283435</td><td></td><td>--</td><td>-9222537907249304995</td><td>60654.18301596001</td><td></td></tr>\n",
       "<tr><td>--</td><td></td><td></td><td></td><td>0.29424069155468396</td><td>60065.0</td><td>0</td><td>2011 S100cZmaa</td><td>10.015610000000006</td><td>--</td><td>S100cZma</td><td>0.15</td><td>17.17</td><td>0</td><td>--</td><td>0</td><td>302.24453</td><td>0</td><td>348.1765924044362</td><td></td><td></td><td>1.9362316683839091</td><td></td><td>--</td><td>-9222483995821535577</td><td>60657.2132531273</td><td></td></tr>\n",
       "<tr><td>--</td><td></td><td></td><td></td><td>0.0976291375766725</td><td>60065.0</td><td>0</td><td>2011 S100jSSda</td><td>13.28997</td><td>--</td><td>S100jSSd</td><td>0.15</td><td>18.0</td><td>0</td><td>--</td><td>0</td><td>311.94194999999996</td><td>0</td><td>40.313064718479055</td><td></td><td></td><td>2.888555675946908</td><td></td><td>--</td><td>-9221971933016733299</td><td>60178.3183227696</td><td></td></tr>\n",
       "</table></div>"
      ],
      "text/plain": [
       "<Table length=3>\n",
       "  arc   arcEnd arcStart ...       tperi       uncertaintyParameter\n",
       "   d                    ...         d                             \n",
       "float32 object  object  ...      float64              str1        \n",
       "------- ------ -------- ... ----------------- --------------------\n",
       "     --                 ... 60654.18301596001                     \n",
       "     --                 ...  60657.2132531273                     \n",
       "     --                 ...  60178.3183227696                     "
      ]
     },
     "execution_count": 6,
     "metadata": {},
     "output_type": "execute_result"
    }
   ],
   "source": [
    "results"
   ]
  },
  {
   "cell_type": "code",
   "execution_count": 7,
   "id": "22c7df53-29f3-409d-9fac-810f779fc3ae",
   "metadata": {
    "execution": {
     "iopub.execute_input": "2023-12-04T01:11:45.208984Z",
     "iopub.status.busy": "2023-12-04T01:11:45.208120Z",
     "iopub.status.idle": "2023-12-04T01:11:45.212468Z",
     "shell.execute_reply": "2023-12-04T01:11:45.211775Z",
     "shell.execute_reply.started": "2023-12-04T01:11:45.208954Z"
    }
   },
   "outputs": [],
   "source": [
    "query = \"\"\"SELECT ssObjectId\n",
    "FROM dp03_catalogs_10yr.MPCORB\"\"\""
   ]
  },
  {
   "cell_type": "code",
   "execution_count": 8,
   "id": "f373d10a-a543-4e2c-8169-79ccaa159546",
   "metadata": {
    "execution": {
     "iopub.execute_input": "2023-12-04T01:11:52.169751Z",
     "iopub.status.busy": "2023-12-04T01:11:52.168859Z",
     "iopub.status.idle": "2023-12-04T01:12:48.693808Z",
     "shell.execute_reply": "2023-12-04T01:12:48.693160Z",
     "shell.execute_reply.started": "2023-12-04T01:11:52.169722Z"
    }
   },
   "outputs": [],
   "source": [
    "results = service.search(query).to_table()"
   ]
  },
  {
   "cell_type": "code",
   "execution_count": 9,
   "id": "1bf2d0c6-74f4-49bf-a681-186e317f1e93",
   "metadata": {
    "execution": {
     "iopub.execute_input": "2023-12-04T01:13:38.028614Z",
     "iopub.status.busy": "2023-12-04T01:13:38.027849Z",
     "iopub.status.idle": "2023-12-04T01:13:38.032620Z",
     "shell.execute_reply": "2023-12-04T01:13:38.032149Z",
     "shell.execute_reply.started": "2023-12-04T01:13:38.028589Z"
    }
   },
   "outputs": [
    {
     "data": {
      "text/plain": [
       "14462388"
      ]
     },
     "execution_count": 9,
     "metadata": {},
     "output_type": "execute_result"
    }
   ],
   "source": [
    "len(results)\n"
   ]
  },
  {
   "cell_type": "code",
   "execution_count": 10,
   "id": "65191e13-ba14-409b-96e3-ac991d81d04c",
   "metadata": {
    "execution": {
     "iopub.execute_input": "2023-12-04T01:13:55.800862Z",
     "iopub.status.busy": "2023-12-04T01:13:55.800184Z",
     "iopub.status.idle": "2023-12-04T01:13:55.804806Z",
     "shell.execute_reply": "2023-12-04T01:13:55.804257Z",
     "shell.execute_reply.started": "2023-12-04T01:13:55.800838Z"
    }
   },
   "outputs": [
    {
     "data": {
      "text/plain": [
       "14.462388"
      ]
     },
     "execution_count": 10,
     "metadata": {},
     "output_type": "execute_result"
    }
   ],
   "source": [
    "float(len(results))/(1.0e6)"
   ]
  },
  {
   "cell_type": "code",
   "execution_count": 11,
   "id": "b4fd4667-003d-4920-a334-ab6b3e36cd81",
   "metadata": {
    "execution": {
     "iopub.execute_input": "2023-12-04T01:14:28.725272Z",
     "iopub.status.busy": "2023-12-04T01:14:28.724587Z",
     "iopub.status.idle": "2023-12-04T01:14:28.729137Z",
     "shell.execute_reply": "2023-12-04T01:14:28.728551Z",
     "shell.execute_reply.started": "2023-12-04T01:14:28.725247Z"
    }
   },
   "outputs": [
    {
     "data": {
      "text/plain": [
       "astropy.table.table.Table"
      ]
     },
     "execution_count": 11,
     "metadata": {},
     "output_type": "execute_result"
    }
   ],
   "source": [
    "type(results)"
   ]
  },
  {
   "cell_type": "code",
   "execution_count": 12,
   "id": "97c79ce0-794c-4f6a-b40f-bebd42efe6cd",
   "metadata": {
    "execution": {
     "iopub.execute_input": "2023-12-04T01:14:36.111516Z",
     "iopub.status.busy": "2023-12-04T01:14:36.110849Z",
     "iopub.status.idle": "2023-12-04T01:14:36.116627Z",
     "shell.execute_reply": "2023-12-04T01:14:36.116092Z",
     "shell.execute_reply.started": "2023-12-04T01:14:36.111494Z"
    }
   },
   "outputs": [
    {
     "data": {
      "text/html": [
       "<div><i>Table length=9</i>\n",
       "<table id=\"table137979556536336\" class=\"table-striped table-bordered table-condensed\">\n",
       "<thead><tr><th>ssObjectId</th></tr></thead>\n",
       "<thead><tr><th>int64</th></tr></thead>\n",
       "<tr><td>-9223370383071521539</td></tr>\n",
       "<tr><td>-9223370057963832713</td></tr>\n",
       "<tr><td>-9223366535898786459</td></tr>\n",
       "<tr><td>-9223366201893835407</td></tr>\n",
       "<tr><td>-9223365890219040920</td></tr>\n",
       "<tr><td>-9223365099512229794</td></tr>\n",
       "<tr><td>-9223365032625775433</td></tr>\n",
       "<tr><td>-9223364579175989579</td></tr>\n",
       "<tr><td>-9223364443532342230</td></tr>\n",
       "</table></div>"
      ],
      "text/plain": [
       "<Table length=9>\n",
       "     ssObjectId     \n",
       "       int64        \n",
       "--------------------\n",
       "-9223370383071521539\n",
       "-9223370057963832713\n",
       "-9223366535898786459\n",
       "-9223366201893835407\n",
       "-9223365890219040920\n",
       "-9223365099512229794\n",
       "-9223365032625775433\n",
       "-9223364579175989579\n",
       "-9223364443532342230"
      ]
     },
     "execution_count": 12,
     "metadata": {},
     "output_type": "execute_result"
    }
   ],
   "source": [
    "results[0:9]"
   ]
  },
  {
   "cell_type": "code",
   "execution_count": 14,
   "id": "42a0c279-fd66-4069-913d-b4fad9afeb15",
   "metadata": {
    "execution": {
     "iopub.execute_input": "2023-12-04T01:15:05.726945Z",
     "iopub.status.busy": "2023-12-04T01:15:05.726253Z",
     "iopub.status.idle": "2023-12-04T01:15:06.293882Z",
     "shell.execute_reply": "2023-12-04T01:15:06.293191Z",
     "shell.execute_reply.started": "2023-12-04T01:15:05.726916Z"
    }
   },
   "outputs": [
    {
     "data": {
      "text/plain": [
       "True"
      ]
     },
     "execution_count": 14,
     "metadata": {},
     "output_type": "execute_result"
    }
   ],
   "source": [
    "import numpy as np\n",
    "len(results) == len(np.unique(results['ssObjectId']))"
   ]
  },
  {
   "cell_type": "code",
   "execution_count": 15,
   "id": "cf6a68f5-2968-4276-84c7-c4fb19beff02",
   "metadata": {
    "execution": {
     "iopub.execute_input": "2023-12-04T01:15:40.130771Z",
     "iopub.status.busy": "2023-12-04T01:15:40.129965Z",
     "iopub.status.idle": "2023-12-04T01:15:40.146937Z",
     "shell.execute_reply": "2023-12-04T01:15:40.146275Z",
     "shell.execute_reply.started": "2023-12-04T01:15:40.130733Z"
    }
   },
   "outputs": [
    {
     "data": {
      "text/plain": [
       "-9223370383071521539"
      ]
     },
     "execution_count": 15,
     "metadata": {},
     "output_type": "execute_result"
    }
   ],
   "source": [
    "np.min(results['ssObjectId'])"
   ]
  },
  {
   "cell_type": "code",
   "execution_count": 16,
   "id": "9da020c0-1233-4d94-b2ef-5e89d35bc0cc",
   "metadata": {
    "execution": {
     "iopub.execute_input": "2023-12-04T01:15:49.008973Z",
     "iopub.status.busy": "2023-12-04T01:15:49.008309Z",
     "iopub.status.idle": "2023-12-04T01:15:49.024611Z",
     "shell.execute_reply": "2023-12-04T01:15:49.024087Z",
     "shell.execute_reply.started": "2023-12-04T01:15:49.008949Z"
    }
   },
   "outputs": [
    {
     "data": {
      "text/plain": [
       "9223370875126069107"
      ]
     },
     "execution_count": 16,
     "metadata": {},
     "output_type": "execute_result"
    }
   ],
   "source": [
    "np.max(results['ssObjectId'])"
   ]
  },
  {
   "cell_type": "code",
   "execution_count": 17,
   "id": "2ad6d481-d2a2-4b46-8dcc-4176fb821dee",
   "metadata": {
    "execution": {
     "iopub.execute_input": "2023-12-04T01:16:56.180403Z",
     "iopub.status.busy": "2023-12-04T01:16:56.179659Z",
     "iopub.status.idle": "2023-12-04T01:16:56.815982Z",
     "shell.execute_reply": "2023-12-04T01:16:56.815352Z",
     "shell.execute_reply.started": "2023-12-04T01:16:56.180374Z"
    }
   },
   "outputs": [],
   "source": [
    "results.write('dp03_all_ssObjectId.fits', format='fits')"
   ]
  },
  {
   "cell_type": "code",
   "execution_count": 18,
   "id": "6bd85fa7-40b9-483e-8457-5981210f23e7",
   "metadata": {
    "execution": {
     "iopub.execute_input": "2023-12-04T01:19:58.045235Z",
     "iopub.status.busy": "2023-12-04T01:19:58.044494Z",
     "iopub.status.idle": "2023-12-04T01:19:58.050834Z",
     "shell.execute_reply": "2023-12-04T01:19:58.050195Z",
     "shell.execute_reply.started": "2023-12-04T01:19:58.045210Z"
    }
   },
   "outputs": [
    {
     "data": {
      "text/html": [
       "<div><i>Table length=9</i>\n",
       "<table id=\"table137979552952976\" class=\"table-striped table-bordered table-condensed\">\n",
       "<thead><tr><th>ssObjectId</th></tr></thead>\n",
       "<thead><tr><th>int64</th></tr></thead>\n",
       "<tr><td>-9223370383071521539</td></tr>\n",
       "<tr><td>-9223370057963832713</td></tr>\n",
       "<tr><td>-9223366535898786459</td></tr>\n",
       "<tr><td>-9223366201893835407</td></tr>\n",
       "<tr><td>-9223365890219040920</td></tr>\n",
       "<tr><td>-9223365099512229794</td></tr>\n",
       "<tr><td>-9223365032625775433</td></tr>\n",
       "<tr><td>-9223364579175989579</td></tr>\n",
       "<tr><td>-9223364443532342230</td></tr>\n",
       "</table></div>"
      ],
      "text/plain": [
       "<Table length=9>\n",
       "     ssObjectId     \n",
       "       int64        \n",
       "--------------------\n",
       "-9223370383071521539\n",
       "-9223370057963832713\n",
       "-9223366535898786459\n",
       "-9223366201893835407\n",
       "-9223365890219040920\n",
       "-9223365099512229794\n",
       "-9223365032625775433\n",
       "-9223364579175989579\n",
       "-9223364443532342230"
      ]
     },
     "execution_count": 18,
     "metadata": {},
     "output_type": "execute_result"
    }
   ],
   "source": [
    "results[0:9]"
   ]
  },
  {
   "cell_type": "code",
   "execution_count": 19,
   "id": "7db36520-e31e-4b23-9bcb-bf035bb5cf3f",
   "metadata": {
    "execution": {
     "iopub.execute_input": "2023-12-04T01:21:04.835069Z",
     "iopub.status.busy": "2023-12-04T01:21:04.834248Z",
     "iopub.status.idle": "2023-12-04T01:21:04.883423Z",
     "shell.execute_reply": "2023-12-04T01:21:04.882809Z",
     "shell.execute_reply.started": "2023-12-04T01:21:04.835021Z"
    }
   },
   "outputs": [],
   "source": [
    "import numpy as np\n",
    "\n",
    "vals = np.array(results['ssObjectId'])"
   ]
  },
  {
   "cell_type": "code",
   "execution_count": 20,
   "id": "4c04111b-d64c-40f5-960e-cf176094ed4f",
   "metadata": {
    "execution": {
     "iopub.execute_input": "2023-12-04T01:21:08.832670Z",
     "iopub.status.busy": "2023-12-04T01:21:08.832269Z",
     "iopub.status.idle": "2023-12-04T01:21:08.837826Z",
     "shell.execute_reply": "2023-12-04T01:21:08.836994Z",
     "shell.execute_reply.started": "2023-12-04T01:21:08.832637Z"
    }
   },
   "outputs": [
    {
     "data": {
      "text/plain": [
       "numpy.ndarray"
      ]
     },
     "execution_count": 20,
     "metadata": {},
     "output_type": "execute_result"
    }
   ],
   "source": [
    "type(vals)\n"
   ]
  },
  {
   "cell_type": "code",
   "execution_count": 21,
   "id": "eab6307b-0563-4add-a9fd-c1864f5cb18d",
   "metadata": {
    "execution": {
     "iopub.execute_input": "2023-12-04T01:21:11.111340Z",
     "iopub.status.busy": "2023-12-04T01:21:11.110662Z",
     "iopub.status.idle": "2023-12-04T01:21:11.115119Z",
     "shell.execute_reply": "2023-12-04T01:21:11.114586Z",
     "shell.execute_reply.started": "2023-12-04T01:21:11.111316Z"
    }
   },
   "outputs": [
    {
     "data": {
      "text/plain": [
       "array([-9223370383071521539, -9223370057963832713, -9223366535898786459,\n",
       "       ...,  9223370323280082057,  9223370430250665087,\n",
       "        9223370875126069107])"
      ]
     },
     "execution_count": 21,
     "metadata": {},
     "output_type": "execute_result"
    }
   ],
   "source": [
    "vals"
   ]
  },
  {
   "cell_type": "code",
   "execution_count": 22,
   "id": "62cdb010-988b-440d-a77b-aca135ee6097",
   "metadata": {
    "execution": {
     "iopub.execute_input": "2023-12-04T01:21:19.125311Z",
     "iopub.status.busy": "2023-12-04T01:21:19.124575Z",
     "iopub.status.idle": "2023-12-04T01:21:19.660089Z",
     "shell.execute_reply": "2023-12-04T01:21:19.659400Z",
     "shell.execute_reply.started": "2023-12-04T01:21:19.125285Z"
    }
   },
   "outputs": [],
   "source": [
    "np.random.shuffle(vals)"
   ]
  },
  {
   "cell_type": "code",
   "execution_count": 23,
   "id": "b7bc182a-9bcd-4d68-8187-0481615ab126",
   "metadata": {
    "execution": {
     "iopub.execute_input": "2023-12-04T01:21:21.830869Z",
     "iopub.status.busy": "2023-12-04T01:21:21.830203Z",
     "iopub.status.idle": "2023-12-04T01:21:21.834861Z",
     "shell.execute_reply": "2023-12-04T01:21:21.834289Z",
     "shell.execute_reply.started": "2023-12-04T01:21:21.830844Z"
    }
   },
   "outputs": [
    {
     "data": {
      "text/plain": [
       "array([ 2623226267927743935, -4310758388144315371, -3993862067051674505,\n",
       "       ..., -2267977275693685077,  3989464740491490783,\n",
       "       -6913754598516060015])"
      ]
     },
     "execution_count": 23,
     "metadata": {},
     "output_type": "execute_result"
    }
   ],
   "source": [
    "vals"
   ]
  },
  {
   "cell_type": "code",
   "execution_count": 24,
   "id": "4f763796-62f4-4959-8472-35a52f961374",
   "metadata": {
    "execution": {
     "iopub.execute_input": "2023-12-04T01:21:30.443820Z",
     "iopub.status.busy": "2023-12-04T01:21:30.443150Z",
     "iopub.status.idle": "2023-12-04T01:21:31.837950Z",
     "shell.execute_reply": "2023-12-04T01:21:31.837375Z",
     "shell.execute_reply.started": "2023-12-04T01:21:30.443797Z"
    }
   },
   "outputs": [
    {
     "data": {
      "text/plain": [
       "True"
      ]
     },
     "execution_count": 24,
     "metadata": {},
     "output_type": "execute_result"
    }
   ],
   "source": [
    "len(np.unique(vals)) == len(vals)"
   ]
  },
  {
   "cell_type": "code",
   "execution_count": 66,
   "id": "230364ba-2330-4e70-8a94-dbc7d26ed577",
   "metadata": {
    "execution": {
     "iopub.execute_input": "2023-12-04T04:49:01.508022Z",
     "iopub.status.busy": "2023-12-04T04:49:01.507109Z",
     "iopub.status.idle": "2023-12-04T04:49:01.551499Z",
     "shell.execute_reply": "2023-12-04T04:49:01.550774Z",
     "shell.execute_reply.started": "2023-12-04T04:49:01.507998Z"
    }
   },
   "outputs": [],
   "source": [
    "# sId_list = vals[0:100] # this worked fast\n",
    "# sId_list = vals[0:1000] # this worked fast\n",
    "# sId_list = vals[0:10000] # this worked in 10's of seconds, maybe half a minute\n",
    "# sId_list = vals[0:30000] # this worked in a little under two minutes\n",
    "# sId_list = vals[0:40000] # this worked in 3 minutes and 22 seconds\n",
    "# sId_list = vals[0:50000] # this worked in 5 minutes and 20 seconds\n",
    "# sId_list = vals[0:60000] # this worked in 8 minutes and 37 seconds\n",
    "# sId_list = vals[0:70000] # this worked in 11 minutes and 48 seconds\n",
    "sId_list = vals[0:80000]\n",
    "\n",
    "\n",
    "query = \"\"\"SELECT * FROM dp03_catalogs_10yr.MPCORB\n",
    "WHERE ssObjectId IN {}\n",
    "\"\"\".format(tuple(sId_list))"
   ]
  },
  {
   "cell_type": "code",
   "execution_count": 67,
   "id": "710cc194-cbcb-4225-8a0a-bef20c39bc4f",
   "metadata": {
    "execution": {
     "iopub.execute_input": "2023-12-04T04:49:04.318314Z",
     "iopub.status.busy": "2023-12-04T04:49:04.317390Z",
     "iopub.status.idle": "2023-12-04T04:49:04.322408Z",
     "shell.execute_reply": "2023-12-04T04:49:04.321620Z",
     "shell.execute_reply.started": "2023-12-04T04:49:04.318287Z"
    }
   },
   "outputs": [
    {
     "data": {
      "text/plain": [
       "1710098"
      ]
     },
     "execution_count": 67,
     "metadata": {},
     "output_type": "execute_result"
    }
   ],
   "source": [
    "len(query)"
   ]
  },
  {
   "cell_type": "code",
   "execution_count": null,
   "id": "5ccf9167-c0e5-4758-8d37-c9c9925b3092",
   "metadata": {
    "execution": {
     "iopub.execute_input": "2023-12-04T04:49:06.556941Z",
     "iopub.status.busy": "2023-12-04T04:49:06.556204Z"
    }
   },
   "outputs": [],
   "source": [
    "foo = service.search(query)"
   ]
  },
  {
   "cell_type": "code",
   "execution_count": 62,
   "id": "737d7043-e079-4bce-9bf6-67edf7f88422",
   "metadata": {
    "execution": {
     "iopub.execute_input": "2023-12-04T04:35:35.202790Z",
     "iopub.status.busy": "2023-12-04T04:35:35.201906Z",
     "iopub.status.idle": "2023-12-04T04:35:35.207166Z",
     "shell.execute_reply": "2023-12-04T04:35:35.206507Z",
     "shell.execute_reply.started": "2023-12-04T04:35:35.202760Z"
    }
   },
   "outputs": [
    {
     "data": {
      "text/plain": [
       "60000"
      ]
     },
     "execution_count": 62,
     "metadata": {},
     "output_type": "execute_result"
    }
   ],
   "source": [
    "len(foo)"
   ]
  },
  {
   "cell_type": "code",
   "execution_count": 37,
   "id": "c61b5de6-eab8-4c7f-99c7-93b13b5c5373",
   "metadata": {
    "execution": {
     "iopub.execute_input": "2023-12-04T01:24:28.805871Z",
     "iopub.status.busy": "2023-12-04T01:24:28.804879Z",
     "iopub.status.idle": "2023-12-04T01:24:28.808941Z",
     "shell.execute_reply": "2023-12-04T01:24:28.808267Z",
     "shell.execute_reply.started": "2023-12-04T01:24:28.805844Z"
    }
   },
   "outputs": [],
   "source": [
    "#foo"
   ]
  },
  {
   "cell_type": "code",
   "execution_count": null,
   "id": "eaece52b-76df-4e7e-89e0-355feca843f5",
   "metadata": {},
   "outputs": [],
   "source": []
  }
 ],
 "metadata": {
  "kernelspec": {
   "display_name": "LSST",
   "language": "python",
   "name": "lsst"
  },
  "language_info": {
   "codemirror_mode": {
    "name": "ipython",
    "version": 3
   },
   "file_extension": ".py",
   "mimetype": "text/x-python",
   "name": "python",
   "nbconvert_exporter": "python",
   "pygments_lexer": "ipython3",
   "version": "3.11.4"
  }
 },
 "nbformat": 4,
 "nbformat_minor": 5
}
