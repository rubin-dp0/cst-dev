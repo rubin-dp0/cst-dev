{
 "cells": [
  {
   "cell_type": "code",
   "execution_count": 1,
   "id": "03be79a9-5506-4a1e-bdf6-a022f982cbf6",
   "metadata": {
    "execution": {
     "iopub.execute_input": "2023-04-21T16:39:14.737357Z",
     "iopub.status.busy": "2023-04-21T16:39:14.736987Z",
     "iopub.status.idle": "2023-04-21T16:39:14.741511Z",
     "shell.execute_reply": "2023-04-21T16:39:14.740689Z",
     "shell.execute_reply.started": "2023-04-21T16:39:14.737330Z"
    }
   },
   "outputs": [],
   "source": [
    "import pyvo\n",
    "\n",
    "tap = pyvo.dal.TAPService('https://datalab.noirlab.edu/tap')"
   ]
  },
  {
   "cell_type": "code",
   "execution_count": 2,
   "id": "4b33c70e-9003-4e78-af67-acaf08a152a4",
   "metadata": {
    "execution": {
     "iopub.execute_input": "2023-04-21T16:39:16.676199Z",
     "iopub.status.busy": "2023-04-21T16:39:16.675836Z",
     "iopub.status.idle": "2023-04-21T16:39:18.914008Z",
     "shell.execute_reply": "2023-04-21T16:39:18.913080Z",
     "shell.execute_reply.started": "2023-04-21T16:39:16.676174Z"
    }
   },
   "outputs": [],
   "source": [
    "count = tap.run_sync('select count(*) from des_dr2.main WHERE ra > 60 AND ra < 61 AND dec < -35 AND dec > -36')"
   ]
  },
  {
   "cell_type": "code",
   "execution_count": 3,
   "id": "b54b80b2-02a4-466c-97ec-1fe31aa73db9",
   "metadata": {
    "execution": {
     "iopub.execute_input": "2023-04-21T16:39:21.763324Z",
     "iopub.status.busy": "2023-04-21T16:39:21.762323Z",
     "iopub.status.idle": "2023-04-21T16:39:21.768889Z",
     "shell.execute_reply": "2023-04-21T16:39:21.768211Z",
     "shell.execute_reply.started": "2023-04-21T16:39:21.763291Z"
    }
   },
   "outputs": [
    {
     "data": {
      "text/plain": [
       "<Table length=1>\n",
       "COUNT \n",
       "int64 \n",
       "------\n",
       "116580"
      ]
     },
     "execution_count": 3,
     "metadata": {},
     "output_type": "execute_result"
    }
   ],
   "source": [
    "count"
   ]
  },
  {
   "cell_type": "code",
   "execution_count": 4,
   "id": "5a701c54-d96c-4af3-89e2-03a220511ee0",
   "metadata": {
    "execution": {
     "iopub.execute_input": "2023-04-21T16:39:58.873808Z",
     "iopub.status.busy": "2023-04-21T16:39:58.873008Z",
     "iopub.status.idle": "2023-04-21T16:40:01.235481Z",
     "shell.execute_reply": "2023-04-21T16:40:01.234673Z",
     "shell.execute_reply.started": "2023-04-21T16:39:58.873776Z"
    }
   },
   "outputs": [],
   "source": [
    "count = tap.run_sync('select count(*) from ls_dr9.tractor WHERE ra > 60 AND ra < 61 AND dec < -35 AND dec > -36')"
   ]
  },
  {
   "cell_type": "code",
   "execution_count": 5,
   "id": "d43300d6-5bd5-4f90-ab41-b3109db717ae",
   "metadata": {
    "execution": {
     "iopub.execute_input": "2023-04-21T16:40:03.910349Z",
     "iopub.status.busy": "2023-04-21T16:40:03.909982Z",
     "iopub.status.idle": "2023-04-21T16:40:03.916101Z",
     "shell.execute_reply": "2023-04-21T16:40:03.915435Z",
     "shell.execute_reply.started": "2023-04-21T16:40:03.910321Z"
    }
   },
   "outputs": [
    {
     "data": {
      "text/plain": [
       "<Table length=1>\n",
       "COUNT \n",
       "int64 \n",
       "------\n",
       "134627"
      ]
     },
     "execution_count": 5,
     "metadata": {},
     "output_type": "execute_result"
    }
   ],
   "source": [
    "count"
   ]
  },
  {
   "cell_type": "code",
   "execution_count": 35,
   "id": "6e30d206-6cbd-473c-8d64-e2467df8fcaa",
   "metadata": {
    "execution": {
     "iopub.execute_input": "2023-04-21T16:52:24.519135Z",
     "iopub.status.busy": "2023-04-21T16:52:24.518222Z",
     "iopub.status.idle": "2023-04-21T16:52:25.614577Z",
     "shell.execute_reply": "2023-04-21T16:52:25.613783Z",
     "shell.execute_reply.started": "2023-04-21T16:52:24.519098Z"
    },
    "tags": []
   },
   "outputs": [],
   "source": [
    "count = tap.run_sync(\"select count(*) from ls_dr9.tractor WHERE ra > 60.7 AND ra < 61 AND dec < -35.7 AND dec > -36 AND type = 'PSF'\")"
   ]
  },
  {
   "cell_type": "code",
   "execution_count": 36,
   "id": "b7f3adbf-b7be-4218-a17c-2139bea4aa45",
   "metadata": {
    "execution": {
     "iopub.execute_input": "2023-04-21T16:52:26.987696Z",
     "iopub.status.busy": "2023-04-21T16:52:26.986868Z",
     "iopub.status.idle": "2023-04-21T16:52:26.992723Z",
     "shell.execute_reply": "2023-04-21T16:52:26.992128Z",
     "shell.execute_reply.started": "2023-04-21T16:52:26.987663Z"
    },
    "tags": []
   },
   "outputs": [
    {
     "data": {
      "text/plain": [
       "<Table length=1>\n",
       "COUNT\n",
       "int64\n",
       "-----\n",
       " 4584"
      ]
     },
     "execution_count": 36,
     "metadata": {},
     "output_type": "execute_result"
    }
   ],
   "source": [
    "count"
   ]
  },
  {
   "cell_type": "code",
   "execution_count": 48,
   "id": "2ad6e477-8060-413f-9505-667a5715e03f",
   "metadata": {
    "execution": {
     "iopub.execute_input": "2023-04-21T16:53:55.943378Z",
     "iopub.status.busy": "2023-04-21T16:53:55.942985Z",
     "iopub.status.idle": "2023-04-21T16:54:00.783961Z",
     "shell.execute_reply": "2023-04-21T16:54:00.783120Z",
     "shell.execute_reply.started": "2023-04-21T16:53:55.943349Z"
    },
    "tags": []
   },
   "outputs": [],
   "source": [
    "result = tap.run_sync(\"select * from ls_dr9.tractor WHERE ra > 60.5 AND ra < 61 AND dec < -35.5 AND dec > -36 AND type = 'PSF' AND snr_r > 10\")"
   ]
  },
  {
   "cell_type": "code",
   "execution_count": 49,
   "id": "0697fe65-df61-4a44-9eb6-5635f179d365",
   "metadata": {
    "execution": {
     "iopub.execute_input": "2023-04-21T16:54:03.647209Z",
     "iopub.status.busy": "2023-04-21T16:54:03.646284Z",
     "iopub.status.idle": "2023-04-21T16:54:03.651619Z",
     "shell.execute_reply": "2023-04-21T16:54:03.650899Z",
     "shell.execute_reply.started": "2023-04-21T16:54:03.647180Z"
    },
    "tags": []
   },
   "outputs": [
    {
     "data": {
      "text/plain": [
       "3231"
      ]
     },
     "execution_count": 49,
     "metadata": {},
     "output_type": "execute_result"
    }
   ],
   "source": [
    "len(result)"
   ]
  },
  {
   "cell_type": "code",
   "execution_count": 50,
   "id": "030a0ea9-30c7-4d3e-a897-8bd2bf0ae952",
   "metadata": {
    "execution": {
     "iopub.execute_input": "2023-04-21T16:54:06.232708Z",
     "iopub.status.busy": "2023-04-21T16:54:06.232381Z",
     "iopub.status.idle": "2023-04-21T16:54:06.322261Z",
     "shell.execute_reply": "2023-04-21T16:54:06.321194Z",
     "shell.execute_reply.started": "2023-04-21T16:54:06.232685Z"
    },
    "tags": []
   },
   "outputs": [
    {
     "data": {
      "text/plain": [
       "<Table length=3231>\n",
       "        glat             ls_id               dec         ... type wise_coadd_id\n",
       "                                                         ...                   \n",
       "      float64            int64             float64       ... str4      str8    \n",
       "------------------- ---------------- ------------------- ... ---- -------------\n",
       " -48.85877194720281 9906608708258836  -35.99391263609836 ...  PSF      0596m364\n",
       "-48.854342182911004 9906608708258995 -35.991500939921586 ...  PSF      0596m364\n",
       " -48.86336111317631 9906608708258639  -35.97817346807138 ...  PSF      0596m364\n",
       " -48.85761054993074 9906608708258865  -35.97943783030094 ...  PSF      0596m364\n",
       " -48.85957955328576 9906608708258786  -35.97694198156744 ...  PSF      0596m364\n",
       " -48.85199796627719 9906608708259088  -35.99848248118078 ...  PSF      0596m364\n",
       " -48.84913163734985 9906608708259182  -35.98532517115388 ...  PSF      0596m364\n",
       " -48.84632316639214 9906608708259291  -35.98766195481038 ...  PSF      0596m364\n",
       " -48.84644400824747 9906608708259279  -35.98038516053359 ...  PSF      0596m364\n",
       "                ...              ...                 ... ...  ...           ...\n",
       " -48.45189158381323 9906608861808782 -35.535540341195784 ...  PSF      0603m349\n",
       "-48.448200527530666 9906608861808928 -35.536135431092596 ...  PSF      0603m349\n",
       " -48.45101905704297 9906608861808819  -35.53327896530953 ...  PSF      0603m349\n",
       "-48.452092115693006 9906608861808767 -35.527383945872316 ...  PSF      0603m349\n",
       " -48.45125099642838 9906608861808793 -35.524321303359024 ...  PSF      0603m349\n",
       "-48.446199374437825 9906608861808983  -35.52301596166951 ...  PSF      0603m349\n",
       " -48.44560820330847 9906608861809009   -35.5217848081644 ...  PSF      0603m349\n",
       " -48.44550012043991 9906608861809003  -35.51543501678989 ...  PSF      0603m349\n",
       "-48.449906706354376 9906608861808814  -35.50311914633666 ...  PSF      0603m349\n",
       " -48.44271012722022 9906608861809083 -35.501375224366924 ...  PSF      0603m349"
      ]
     },
     "execution_count": 50,
     "metadata": {},
     "output_type": "execute_result"
    }
   ],
   "source": [
    "result"
   ]
  },
  {
   "cell_type": "code",
   "execution_count": 109,
   "id": "3331421a-d8c2-4d25-806b-5997661e823f",
   "metadata": {
    "execution": {
     "iopub.execute_input": "2023-04-21T17:32:18.505655Z",
     "iopub.status.busy": "2023-04-21T17:32:18.504890Z",
     "iopub.status.idle": "2023-04-21T17:32:18.792989Z",
     "shell.execute_reply": "2023-04-21T17:32:18.792281Z",
     "shell.execute_reply.started": "2023-04-21T17:32:18.505629Z"
    },
    "tags": []
   },
   "outputs": [
    {
     "data": {
      "image/png": "[encoded data removed]",
      "text/plain": [
       "<Figure size 640x480 with 1 Axes>"
      ]
     },
     "metadata": {},
     "output_type": "display_data"
    }
   ],
   "source": [
    "import matplotlib.pyplot as plt\n",
    "import numpy as np\n",
    "bins = np.arange(15, 26, 0.5)\n",
    "counts_decals, _, __ = plt.hist(result['mag_r'], bins)"
   ]
  },
  {
   "cell_type": "code",
   "execution_count": 54,
   "id": "1969490f-e57c-4cde-9079-625181b96313",
   "metadata": {
    "execution": {
     "iopub.execute_input": "2023-04-21T17:08:57.856493Z",
     "iopub.status.busy": "2023-04-21T17:08:57.855628Z",
     "iopub.status.idle": "2023-04-21T17:08:57.942114Z",
     "shell.execute_reply": "2023-04-21T17:08:57.941208Z",
     "shell.execute_reply.started": "2023-04-21T17:08:57.856460Z"
    },
    "tags": []
   },
   "outputs": [],
   "source": [
    "from lsst.rsp import get_tap_service\n",
    "\n",
    "service = get_tap_service()\n"
   ]
  },
  {
   "cell_type": "code",
   "execution_count": 59,
   "id": "ba98515b-34e4-4bfe-822d-4337d0149eca",
   "metadata": {
    "execution": {
     "iopub.execute_input": "2023-04-21T17:13:41.567506Z",
     "iopub.status.busy": "2023-04-21T17:13:41.566433Z",
     "iopub.status.idle": "2023-04-21T17:15:25.088986Z",
     "shell.execute_reply": "2023-04-21T17:15:25.087969Z",
     "shell.execute_reply.started": "2023-04-21T17:13:41.567469Z"
    },
    "tags": []
   },
   "outputs": [],
   "source": [
    "query = \"SELECT * \" + \\\n",
    "        \"FROM dp02_dc2_catalogs.TruthSummary \" + \\\n",
    "        \"WHERE ra > 60.5 AND ra < 61 AND dec < -35.5 AND dec > -36 AND truth_type = 2\"\n",
    "dp0 = service.search(query).to_table()"
   ]
  },
  {
   "cell_type": "code",
   "execution_count": 114,
   "id": "cf35dd4f-3862-427d-9447-ddedc60590d4",
   "metadata": {
    "execution": {
     "iopub.execute_input": "2023-04-21T17:44:22.558304Z",
     "iopub.status.busy": "2023-04-21T17:44:22.557943Z",
     "iopub.status.idle": "2023-04-21T17:44:22.562663Z",
     "shell.execute_reply": "2023-04-21T17:44:22.562079Z",
     "shell.execute_reply.started": "2023-04-21T17:44:22.558278Z"
    },
    "tags": []
   },
   "outputs": [
    {
     "data": {
      "text/plain": [
       "2600"
      ]
     },
     "execution_count": 114,
     "metadata": {},
     "output_type": "execute_result"
    }
   ],
   "source": [
    "len(dp0)"
   ]
  },
  {
   "cell_type": "code",
   "execution_count": 110,
   "id": "85ee03e5-1880-45bc-a547-617bf652d0fb",
   "metadata": {
    "execution": {
     "iopub.execute_input": "2023-04-21T17:32:25.630343Z",
     "iopub.status.busy": "2023-04-21T17:32:25.630016Z",
     "iopub.status.idle": "2023-04-21T17:32:26.342383Z",
     "shell.execute_reply": "2023-04-21T17:32:26.341577Z",
     "shell.execute_reply.started": "2023-04-21T17:32:25.630320Z"
    },
    "tags": []
   },
   "outputs": [
    {
     "data": {
      "image/png": "[encoded data removed]",
      "text/plain": [
       "<Figure size 640x480 with 1 Axes>"
      ]
     },
     "metadata": {},
     "output_type": "display_data"
    }
   ],
   "source": [
    "counts_dp0, _, __ = plt.hist(dp0['mag_r'], bins)"
   ]
  },
  {
   "cell_type": "code",
   "execution_count": 99,
   "id": "c746e96d-d1b8-45a4-9a74-4346914504a6",
   "metadata": {
    "execution": {
     "iopub.execute_input": "2023-04-21T17:29:45.953655Z",
     "iopub.status.busy": "2023-04-21T17:29:45.953303Z",
     "iopub.status.idle": "2023-04-21T17:29:45.958888Z",
     "shell.execute_reply": "2023-04-21T17:29:45.958164Z",
     "shell.execute_reply.started": "2023-04-21T17:29:45.953630Z"
    },
    "tags": []
   },
   "outputs": [
    {
     "name": "stdout",
     "output_type": "stream",
     "text": [
      "28.188\n",
      "9.22715\n"
     ]
    }
   ],
   "source": [
    "print(np.max(dp0['mag_r']))\n",
    "print(np.min(dp0['mag_r']))"
   ]
  },
  {
   "cell_type": "code",
   "execution_count": 113,
   "id": "94d68507-45fc-4581-81ee-c9ba2a799b2e",
   "metadata": {
    "execution": {
     "iopub.execute_input": "2023-04-21T17:33:48.934544Z",
     "iopub.status.busy": "2023-04-21T17:33:48.933774Z",
     "iopub.status.idle": "2023-04-21T17:33:49.446296Z",
     "shell.execute_reply": "2023-04-21T17:33:49.445676Z",
     "shell.execute_reply.started": "2023-04-21T17:33:48.934519Z"
    },
    "tags": []
   },
   "outputs": [
    {
     "name": "stdout",
     "output_type": "stream",
     "text": [
      "22\n",
      "21\n"
     ]
    },
    {
     "data": {
      "text/plain": [
       "Text(0.5, 1.0, '60.5 < ra < 61, -36 < dec < -35.5')"
      ]
     },
     "execution_count": 113,
     "metadata": {},
     "output_type": "execute_result"
    },
    {
     "data": {
      "image/png": "[encoded data removed]",
      "text/plain": [
       "<Figure size 640x480 with 1 Axes>"
      ]
     },
     "metadata": {},
     "output_type": "display_data"
    }
   ],
   "source": [
    "print(len(bins))\n",
    "print(len(counts_decals))\n",
    "plt.plot(bins[:-1], counts_decals, label='DECaLS DR9 (type = PSF, snr_r > 10)')\n",
    "plt.plot(bins[:-1], counts_dp0, label='DP0 TruthSummary (truth_type = 2)')\n",
    "plt.xlabel('r magnitude')\n",
    "plt.ylabel('PSF sources per bin')\n",
    "ax = plt.gca()\n",
    "ax.legend()\n",
    "plt.yscale('log')\n",
    "plt.title('60.5 < ra < 61, -36 < dec < -35.5')"
   ]
  },
  {
   "cell_type": "code",
   "execution_count": 126,
   "id": "f2426222-a073-4bea-9502-c6ff40d114fb",
   "metadata": {
    "execution": {
     "iopub.execute_input": "2023-04-21T18:37:02.395607Z",
     "iopub.status.busy": "2023-04-21T18:37:02.394819Z",
     "iopub.status.idle": "2023-04-21T18:37:02.398949Z",
     "shell.execute_reply": "2023-04-21T18:37:02.398286Z",
     "shell.execute_reply.started": "2023-04-21T18:37:02.395576Z"
    },
    "tags": []
   },
   "outputs": [],
   "source": [
    "use_center_coords = '60.75, -35.75'\n",
    "\n",
    "my_adql_query = \"SELECT * \"+ \\\n",
    "                \"FROM dp02_dc2_catalogs.TruthSummary \" + \\\n",
    "                \"WHERE CONTAINS(POINT('ICRS', ra, dec), \" + \\\n",
    "                \"CIRCLE('ICRS', \" + use_center_coords + \", 0.3536)) = 1 AND truth_type = 2\"\n",
    "\n"
   ]
  },
  {
   "cell_type": "code",
   "execution_count": 127,
   "id": "8cd2e0a0-f10e-4131-a8cd-cbea3e85dbde",
   "metadata": {
    "execution": {
     "iopub.execute_input": "2023-04-21T18:37:04.853348Z",
     "iopub.status.busy": "2023-04-21T18:37:04.852572Z",
     "iopub.status.idle": "2023-04-21T18:37:04.857627Z",
     "shell.execute_reply": "2023-04-21T18:37:04.856873Z",
     "shell.execute_reply.started": "2023-04-21T18:37:04.853317Z"
    },
    "tags": []
   },
   "outputs": [
    {
     "data": {
      "text/plain": [
       "\"SELECT * FROM dp02_dc2_catalogs.TruthSummary WHERE CONTAINS(POINT('ICRS', ra, dec), CIRCLE('ICRS', 60.75, -35.75, 0.3536)) = 1 AND truth_type = 2\""
      ]
     },
     "execution_count": 127,
     "metadata": {},
     "output_type": "execute_result"
    }
   ],
   "source": [
    "my_adql_query"
   ]
  },
  {
   "cell_type": "code",
   "execution_count": 128,
   "id": "2066a0f2-fca0-486e-b249-0b497afed304",
   "metadata": {
    "execution": {
     "iopub.execute_input": "2023-04-21T18:37:10.003093Z",
     "iopub.status.busy": "2023-04-21T18:37:10.002380Z",
     "iopub.status.idle": "2023-04-21T18:37:11.043416Z",
     "shell.execute_reply": "2023-04-21T18:37:11.042495Z",
     "shell.execute_reply.started": "2023-04-21T18:37:10.003069Z"
    },
    "tags": []
   },
   "outputs": [],
   "source": [
    "cone = service.search(my_adql_query).to_table()"
   ]
  },
  {
   "cell_type": "code",
   "execution_count": 129,
   "id": "46274f80-f5fc-4030-a208-08ece69c8bf8",
   "metadata": {
    "execution": {
     "iopub.execute_input": "2023-04-21T18:37:15.681794Z",
     "iopub.status.busy": "2023-04-21T18:37:15.680817Z",
     "iopub.status.idle": "2023-04-21T18:37:15.686057Z",
     "shell.execute_reply": "2023-04-21T18:37:15.685442Z",
     "shell.execute_reply.started": "2023-04-21T18:37:15.681761Z"
    },
    "tags": []
   },
   "outputs": [
    {
     "data": {
      "text/plain": [
       "5071"
      ]
     },
     "execution_count": 129,
     "metadata": {},
     "output_type": "execute_result"
    }
   ],
   "source": [
    "len(cone)"
   ]
  },
  {
   "cell_type": "code",
   "execution_count": null,
   "id": "d8dd7a4a-759e-47c2-b801-138aa77f1df2",
   "metadata": {},
   "outputs": [],
   "source": []
  }
 ],
 "metadata": {
  "kernelspec": {
   "display_name": "LSST",
   "language": "python",
   "name": "lsst"
  },
  "language_info": {
   "codemirror_mode": {
    "name": "ipython",
    "version": 3
   },
   "file_extension": ".py",
   "mimetype": "text/x-python",
   "name": "python",
   "nbconvert_exporter": "python",
   "pygments_lexer": "ipython3",
   "version": "3.10.9"
  }
 },
 "nbformat": 4,
 "nbformat_minor": 5
}
