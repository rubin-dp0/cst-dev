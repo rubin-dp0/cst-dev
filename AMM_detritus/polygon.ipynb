{
 "cells": [
  {
   "cell_type": "code",
   "execution_count": 21,
   "id": "d417063e-92fa-4fe3-8edb-c38e48bf161c",
   "metadata": {
    "execution": {
     "iopub.execute_input": "2023-04-23T08:54:44.938719Z",
     "iopub.status.busy": "2023-04-23T08:54:44.937686Z",
     "iopub.status.idle": "2023-04-23T08:54:45.023562Z",
     "shell.execute_reply": "2023-04-23T08:54:45.022768Z",
     "shell.execute_reply.started": "2023-04-23T08:54:44.938680Z"
    },
    "tags": []
   },
   "outputs": [],
   "source": [
    "import matplotlib.pyplot as plt\n",
    "\n",
    "from lsst.rsp import get_tap_service\n",
    "\n",
    "service = get_tap_service()"
   ]
  },
  {
   "cell_type": "code",
   "execution_count": 22,
   "id": "b77d70b6-6756-4609-b16d-2b6cc3c39133",
   "metadata": {
    "execution": {
     "iopub.execute_input": "2023-04-23T08:54:45.025442Z",
     "iopub.status.busy": "2023-04-23T08:54:45.025070Z",
     "iopub.status.idle": "2023-04-23T08:54:45.029731Z",
     "shell.execute_reply": "2023-04-23T08:54:45.029169Z",
     "shell.execute_reply.started": "2023-04-23T08:54:45.025419Z"
    },
    "tags": []
   },
   "outputs": [],
   "source": [
    "ra_corners = [60.5, 60.5, 61, 61]\n",
    "dec_corners = [-36, -35.5, -35.5, -36]\n",
    "\n",
    "query = \"SELECT * \" + \\\n",
    "        \"FROM dp02_dc2_catalogs.TruthSummary \" + \\\n",
    "        \"WHERE CONTAINS(POINT('ICRS', ra, dec), \" +\\\n",
    "        \"POLYGON('ICRS', \" + str(ra_corners[0]) + \", \" + str(dec_corners[0]) + \", \" +\\\n",
    "        str(ra_corners[1]) + \", \" + str(dec_corners[1]) + \", \" +\\\n",
    "        str(ra_corners[2]) + \", \" + str(dec_corners[2]) + \", \" +\\\n",
    "        str(ra_corners[3]) + \", \" + str(dec_corners[3]) + \")) = 1 AND truth_type = 2\"\n",
    "#results = service.search(query)"
   ]
  },
  {
   "cell_type": "code",
   "execution_count": 23,
   "id": "f17ec377-82fa-40fa-8230-89bf50223542",
   "metadata": {
    "execution": {
     "iopub.execute_input": "2023-04-23T08:54:45.030950Z",
     "iopub.status.busy": "2023-04-23T08:54:45.030524Z",
     "iopub.status.idle": "2023-04-23T08:54:45.325517Z",
     "shell.execute_reply": "2023-04-23T08:54:45.324723Z",
     "shell.execute_reply.started": "2023-04-23T08:54:45.030929Z"
    },
    "tags": []
   },
   "outputs": [
    {
     "data": {
      "text/plain": [
       "<matplotlib.collections.PathCollection at 0x7fe67cb45a50>"
      ]
     },
     "execution_count": 23,
     "metadata": {},
     "output_type": "execute_result"
    },
    {
     "data": {
      "image/png": "[encoded data removed]",
      "text/plain": [
       "<Figure size 640x480 with 1 Axes>"
      ]
     },
     "metadata": {},
     "output_type": "display_data"
    }
   ],
   "source": [
    "plt.plot(ra_corners, dec_corners)\n",
    "plt.scatter(ra_corners, dec_corners, marker='o')"
   ]
  },
  {
   "cell_type": "code",
   "execution_count": 24,
   "id": "ce9637f7-e645-45c0-92e3-96f70eea13de",
   "metadata": {
    "execution": {
     "iopub.execute_input": "2023-04-23T08:54:45.327517Z",
     "iopub.status.busy": "2023-04-23T08:54:45.326915Z",
     "iopub.status.idle": "2023-04-23T08:54:45.331812Z",
     "shell.execute_reply": "2023-04-23T08:54:45.331159Z",
     "shell.execute_reply.started": "2023-04-23T08:54:45.327493Z"
    },
    "tags": []
   },
   "outputs": [
    {
     "data": {
      "text/plain": [
       "\"SELECT * FROM dp02_dc2_catalogs.TruthSummary WHERE CONTAINS(POINT('ICRS', ra, dec), POLYGON('ICRS', 60.5, -36, 60.5, -35.5, 61, -35.5, 61, -36)) = 1 AND truth_type = 2\""
      ]
     },
     "execution_count": 24,
     "metadata": {},
     "output_type": "execute_result"
    }
   ],
   "source": [
    "query"
   ]
  },
  {
   "cell_type": "code",
   "execution_count": 25,
   "id": "4b080a4e-c0c5-4d1e-a786-baf7a1067338",
   "metadata": {
    "execution": {
     "iopub.execute_input": "2023-04-23T08:54:45.332795Z",
     "iopub.status.busy": "2023-04-23T08:54:45.332597Z",
     "iopub.status.idle": "2023-04-23T08:54:45.817151Z",
     "shell.execute_reply": "2023-04-23T08:54:45.816396Z",
     "shell.execute_reply.started": "2023-04-23T08:54:45.332778Z"
    },
    "tags": []
   },
   "outputs": [],
   "source": [
    "cat = service.search(query).to_table()"
   ]
  },
  {
   "cell_type": "code",
   "execution_count": 26,
   "id": "ddede976-aabb-4b92-8d5a-3ef171e10042",
   "metadata": {
    "execution": {
     "iopub.execute_input": "2023-04-23T08:54:45.818707Z",
     "iopub.status.busy": "2023-04-23T08:54:45.818134Z",
     "iopub.status.idle": "2023-04-23T08:54:45.822747Z",
     "shell.execute_reply": "2023-04-23T08:54:45.822074Z",
     "shell.execute_reply.started": "2023-04-23T08:54:45.818683Z"
    },
    "tags": []
   },
   "outputs": [
    {
     "data": {
      "text/plain": [
       "2600"
      ]
     },
     "execution_count": 26,
     "metadata": {},
     "output_type": "execute_result"
    }
   ],
   "source": [
    "len(cat)"
   ]
  },
  {
   "cell_type": "code",
   "execution_count": null,
   "id": "84b9c4cd-92a2-4dad-99ba-a93fcd93c505",
   "metadata": {},
   "outputs": [],
   "source": []
  }
 ],
 "metadata": {
  "kernelspec": {
   "display_name": "LSST",
   "language": "python",
   "name": "lsst"
  },
  "language_info": {
   "codemirror_mode": {
    "name": "ipython",
    "version": 3
   },
   "file_extension": ".py",
   "mimetype": "text/x-python",
   "name": "python",
   "nbconvert_exporter": "python",
   "pygments_lexer": "ipython3",
   "version": "3.10.9"
  }
 },
 "nbformat": 4,
 "nbformat_minor": 5
}
