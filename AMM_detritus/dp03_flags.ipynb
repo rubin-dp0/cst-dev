{
 "cells": [
  {
   "cell_type": "code",
   "execution_count": 1,
   "id": "b6f575d0-da87-4f12-bcaf-ce5b4702ea81",
   "metadata": {
    "execution": {
     "iopub.execute_input": "2023-08-02T02:20:46.041306Z",
     "iopub.status.busy": "2023-08-02T02:20:46.040451Z",
     "iopub.status.idle": "2023-08-02T02:20:46.528547Z",
     "shell.execute_reply": "2023-08-02T02:20:46.527759Z",
     "shell.execute_reply.started": "2023-08-02T02:20:46.041277Z"
    },
    "tags": []
   },
   "outputs": [],
   "source": [
    "from lsst.rsp import get_tap_service\n",
    "import matplotlib.pyplot as plt\n",
    "import numpy as np"
   ]
  },
  {
   "cell_type": "code",
   "execution_count": 2,
   "id": "d7daa5bc-9c34-45bd-997d-a5db1dce8d06",
   "metadata": {
    "execution": {
     "iopub.execute_input": "2023-08-02T02:20:56.958036Z",
     "iopub.status.busy": "2023-08-02T02:20:56.957065Z",
     "iopub.status.idle": "2023-08-02T02:20:57.027500Z",
     "shell.execute_reply": "2023-08-02T02:20:57.026332Z",
     "shell.execute_reply.started": "2023-08-02T02:20:56.957997Z"
    },
    "tags": []
   },
   "outputs": [
    {
     "name": "stdout",
     "output_type": "stream",
     "text": [
      "https://data.lsst.cloud/api/ssotap\n"
     ]
    }
   ],
   "source": [
    "service = get_tap_service(\"ssotap\")\n",
    "print(service.baseurl)"
   ]
  },
  {
   "cell_type": "code",
   "execution_count": 4,
   "id": "977b47e5-0a15-49e3-b3ea-2c15e139fbf7",
   "metadata": {
    "execution": {
     "iopub.execute_input": "2023-08-02T02:23:35.163784Z",
     "iopub.status.busy": "2023-08-02T02:23:35.162611Z",
     "iopub.status.idle": "2023-08-02T02:23:53.046377Z",
     "shell.execute_reply": "2023-08-02T02:23:53.045380Z",
     "shell.execute_reply.started": "2023-08-02T02:23:35.163734Z"
    },
    "tags": []
   },
   "outputs": [],
   "source": [
    "results = service.search(\"SELECT flags FROM dp03_catalogs_10yr.SSObject\").to_table() # .to_pandas"
   ]
  },
  {
   "cell_type": "code",
   "execution_count": 5,
   "id": "069a7dac-e2b1-4427-a738-491cf061efeb",
   "metadata": {
    "execution": {
     "iopub.execute_input": "2023-08-02T02:23:59.263648Z",
     "iopub.status.busy": "2023-08-02T02:23:59.262450Z",
     "iopub.status.idle": "2023-08-02T02:23:59.269482Z",
     "shell.execute_reply": "2023-08-02T02:23:59.268521Z",
     "shell.execute_reply.started": "2023-08-02T02:23:59.263603Z"
    },
    "tags": []
   },
   "outputs": [
    {
     "data": {
      "text/plain": [
       "4443479"
      ]
     },
     "execution_count": 5,
     "metadata": {},
     "output_type": "execute_result"
    }
   ],
   "source": [
    "len(results)"
   ]
  },
  {
   "cell_type": "code",
   "execution_count": 6,
   "id": "7eeb6659-4631-4f9c-9e3c-ebe797df983a",
   "metadata": {
    "execution": {
     "iopub.execute_input": "2023-08-02T02:24:07.949012Z",
     "iopub.status.busy": "2023-08-02T02:24:07.947822Z",
     "iopub.status.idle": "2023-08-02T02:24:07.954767Z",
     "shell.execute_reply": "2023-08-02T02:24:07.953806Z",
     "shell.execute_reply.started": "2023-08-02T02:24:07.948971Z"
    },
    "tags": []
   },
   "outputs": [
    {
     "data": {
      "text/plain": [
       "astropy.table.table.Table"
      ]
     },
     "execution_count": 6,
     "metadata": {},
     "output_type": "execute_result"
    }
   ],
   "source": [
    "type(results)"
   ]
  },
  {
   "cell_type": "code",
   "execution_count": 8,
   "id": "0e742e15-96d8-4614-bd24-f379062105a9",
   "metadata": {
    "execution": {
     "iopub.execute_input": "2023-08-02T02:24:36.988426Z",
     "iopub.status.busy": "2023-08-02T02:24:36.987976Z",
     "iopub.status.idle": "2023-08-02T02:24:36.996849Z",
     "shell.execute_reply": "2023-08-02T02:24:36.995857Z",
     "shell.execute_reply.started": "2023-08-02T02:24:36.988365Z"
    },
    "tags": []
   },
   "outputs": [
    {
     "data": {
      "text/html": [
       "<div><i>Table length=4443479</i>\n",
       "<table id=\"table140216017296480\" class=\"table-striped table-bordered table-condensed\">\n",
       "<thead><tr><th>flags</th></tr></thead>\n",
       "<thead><tr><th>int64</th></tr></thead>\n",
       "<tr><td>66</td></tr>\n",
       "<tr><td>66</td></tr>\n",
       "<tr><td>98</td></tr>\n",
       "<tr><td>66</td></tr>\n",
       "<tr><td>66</td></tr>\n",
       "<tr><td>70</td></tr>\n",
       "<tr><td>66</td></tr>\n",
       "<tr><td>66</td></tr>\n",
       "<tr><td>102</td></tr>\n",
       "<tr><td>66</td></tr>\n",
       "<tr><td>...</td></tr>\n",
       "<tr><td>66</td></tr>\n",
       "<tr><td>66</td></tr>\n",
       "<tr><td>66</td></tr>\n",
       "<tr><td>118</td></tr>\n",
       "<tr><td>66</td></tr>\n",
       "<tr><td>66</td></tr>\n",
       "<tr><td>66</td></tr>\n",
       "<tr><td>66</td></tr>\n",
       "<tr><td>66</td></tr>\n",
       "<tr><td>66</td></tr>\n",
       "</table></div>"
      ],
      "text/plain": [
       "<Table length=4443479>\n",
       "flags\n",
       "int64\n",
       "-----\n",
       "   66\n",
       "   66\n",
       "   98\n",
       "   66\n",
       "   66\n",
       "   70\n",
       "   66\n",
       "   66\n",
       "  102\n",
       "   66\n",
       "  ...\n",
       "   66\n",
       "   66\n",
       "   66\n",
       "  118\n",
       "   66\n",
       "   66\n",
       "   66\n",
       "   66\n",
       "   66\n",
       "   66"
      ]
     },
     "execution_count": 8,
     "metadata": {},
     "output_type": "execute_result"
    }
   ],
   "source": [
    "results"
   ]
  },
  {
   "cell_type": "code",
   "execution_count": 10,
   "id": "d7ca1c63-cbca-4b17-a73a-693a6a7175ae",
   "metadata": {
    "execution": {
     "iopub.execute_input": "2023-08-02T02:24:54.097378Z",
     "iopub.status.busy": "2023-08-02T02:24:54.096283Z",
     "iopub.status.idle": "2023-08-02T02:24:54.101365Z",
     "shell.execute_reply": "2023-08-02T02:24:54.100425Z",
     "shell.execute_reply.started": "2023-08-02T02:24:54.097312Z"
    },
    "tags": []
   },
   "outputs": [],
   "source": [
    "flags = results['flags']"
   ]
  },
  {
   "cell_type": "code",
   "execution_count": 11,
   "id": "540ac9c9-f74c-4254-92a6-bd2e1bfb0245",
   "metadata": {
    "execution": {
     "iopub.execute_input": "2023-08-02T02:25:02.074854Z",
     "iopub.status.busy": "2023-08-02T02:25:02.074199Z",
     "iopub.status.idle": "2023-08-02T02:25:02.085244Z",
     "shell.execute_reply": "2023-08-02T02:25:02.084636Z",
     "shell.execute_reply.started": "2023-08-02T02:25:02.074822Z"
    },
    "tags": []
   },
   "outputs": [
    {
     "data": {
      "text/plain": [
       "0"
      ]
     },
     "execution_count": 11,
     "metadata": {},
     "output_type": "execute_result"
    }
   ],
   "source": [
    "np.min(flags)"
   ]
  },
  {
   "cell_type": "code",
   "execution_count": 12,
   "id": "709d1e95-a2b4-4ff5-8983-24f7cd1a668e",
   "metadata": {
    "execution": {
     "iopub.execute_input": "2023-08-02T02:25:09.587043Z",
     "iopub.status.busy": "2023-08-02T02:25:09.586180Z",
     "iopub.status.idle": "2023-08-02T02:25:09.633597Z",
     "shell.execute_reply": "2023-08-02T02:25:09.632685Z",
     "shell.execute_reply.started": "2023-08-02T02:25:09.587006Z"
    },
    "tags": []
   },
   "outputs": [
    {
     "data": {
      "text/plain": [
       "2"
      ]
     },
     "execution_count": 12,
     "metadata": {},
     "output_type": "execute_result"
    }
   ],
   "source": [
    "np.min(flags[flags != 0])"
   ]
  },
  {
   "cell_type": "code",
   "execution_count": 13,
   "id": "34bbc3a7-f4e8-4da8-b6bc-761d5d4d155b",
   "metadata": {
    "execution": {
     "iopub.execute_input": "2023-08-02T02:25:23.473426Z",
     "iopub.status.busy": "2023-08-02T02:25:23.472611Z",
     "iopub.status.idle": "2023-08-02T02:25:23.493934Z",
     "shell.execute_reply": "2023-08-02T02:25:23.493245Z",
     "shell.execute_reply.started": "2023-08-02T02:25:23.473394Z"
    },
    "tags": []
   },
   "outputs": [
    {
     "data": {
      "text/plain": [
       "4443446"
      ]
     },
     "execution_count": 13,
     "metadata": {},
     "output_type": "execute_result"
    }
   ],
   "source": [
    "np.sum(flags >= 66)"
   ]
  },
  {
   "cell_type": "code",
   "execution_count": 14,
   "id": "1e4dc8bd-afda-4722-bce0-5a59efdb8c72",
   "metadata": {
    "execution": {
     "iopub.execute_input": "2023-08-02T02:25:31.828740Z",
     "iopub.status.busy": "2023-08-02T02:25:31.827981Z",
     "iopub.status.idle": "2023-08-02T02:25:31.847875Z",
     "shell.execute_reply": "2023-08-02T02:25:31.847276Z",
     "shell.execute_reply.started": "2023-08-02T02:25:31.828708Z"
    },
    "tags": []
   },
   "outputs": [
    {
     "data": {
      "text/plain": [
       "33"
      ]
     },
     "execution_count": 14,
     "metadata": {},
     "output_type": "execute_result"
    }
   ],
   "source": [
    "np.sum(flags < 66)"
   ]
  },
  {
   "cell_type": "code",
   "execution_count": 15,
   "id": "fa97ad6a-423b-4897-a8c8-076115f6a6af",
   "metadata": {
    "execution": {
     "iopub.execute_input": "2023-08-02T02:25:40.632602Z",
     "iopub.status.busy": "2023-08-02T02:25:40.631767Z",
     "iopub.status.idle": "2023-08-02T02:25:40.892245Z",
     "shell.execute_reply": "2023-08-02T02:25:40.891637Z",
     "shell.execute_reply.started": "2023-08-02T02:25:40.632570Z"
    },
    "tags": []
   },
   "outputs": [
    {
     "data": {
      "text/html": [
       "&lt;MaskedColumn name=&apos;flags&apos; dtype=&apos;int64&apos; length=41&gt;\n",
       "<table>\n",
       "<tr><td>0</td></tr>\n",
       "<tr><td>2</td></tr>\n",
       "<tr><td>6</td></tr>\n",
       "<tr><td>34</td></tr>\n",
       "<tr><td>66</td></tr>\n",
       "<tr><td>70</td></tr>\n",
       "<tr><td>74</td></tr>\n",
       "<tr><td>78</td></tr>\n",
       "<tr><td>82</td></tr>\n",
       "<tr><td>86</td></tr>\n",
       "<tr><td>90</td></tr>\n",
       "<tr><td>94</td></tr>\n",
       "<tr><td>...</td></tr>\n",
       "<tr><td>2130</td></tr>\n",
       "<tr><td>2134</td></tr>\n",
       "<tr><td>2138</td></tr>\n",
       "<tr><td>2142</td></tr>\n",
       "<tr><td>2146</td></tr>\n",
       "<tr><td>2150</td></tr>\n",
       "<tr><td>2154</td></tr>\n",
       "<tr><td>2158</td></tr>\n",
       "<tr><td>2162</td></tr>\n",
       "<tr><td>2166</td></tr>\n",
       "<tr><td>2170</td></tr>\n",
       "<tr><td>2174</td></tr>\n",
       "</table>"
      ],
      "text/plain": [
       "<MaskedColumn name='flags' dtype='int64' length=41>\n",
       "   0\n",
       "   2\n",
       "   6\n",
       "  34\n",
       "  66\n",
       "  70\n",
       "  74\n",
       "  78\n",
       "  82\n",
       "  86\n",
       "  90\n",
       "  94\n",
       " ...\n",
       "2130\n",
       "2134\n",
       "2138\n",
       "2142\n",
       "2146\n",
       "2150\n",
       "2154\n",
       "2158\n",
       "2162\n",
       "2166\n",
       "2170\n",
       "2174"
      ]
     },
     "execution_count": 15,
     "metadata": {},
     "output_type": "execute_result"
    }
   ],
   "source": [
    "np.unique(flags)"
   ]
  },
  {
   "cell_type": "code",
   "execution_count": null,
   "id": "462ca57e-0c5a-4b84-95b1-03320d14f351",
   "metadata": {},
   "outputs": [],
   "source": []
  }
 ],
 "metadata": {
  "kernelspec": {
   "display_name": "LSST",
   "language": "python",
   "name": "lsst"
  },
  "language_info": {
   "codemirror_mode": {
    "name": "ipython",
    "version": 3
   },
   "file_extension": ".py",
   "mimetype": "text/x-python",
   "name": "python",
   "nbconvert_exporter": "python",
   "pygments_lexer": "ipython3",
   "version": "3.10.10"
  }
 },
 "nbformat": 4,
 "nbformat_minor": 5
}
