{
 "cells": [
  {
   "cell_type": "code",
   "execution_count": 1,
   "id": "2f2b2b5b-bf48-4918-af72-c59ff341d347",
   "metadata": {
    "execution": {
     "iopub.execute_input": "2023-04-21T16:11:18.706644Z",
     "iopub.status.busy": "2023-04-21T16:11:18.706344Z",
     "iopub.status.idle": "2023-04-21T16:11:19.480692Z",
     "shell.execute_reply": "2023-04-21T16:11:19.479825Z",
     "shell.execute_reply.started": "2023-04-21T16:11:18.706625Z"
    },
    "tags": []
   },
   "outputs": [],
   "source": [
    "import pyvo\n",
    "import matplotlib.pyplot as plt\n",
    "import numpy as np"
   ]
  },
  {
   "cell_type": "code",
   "execution_count": 13,
   "id": "6caf9831-9685-4b87-a0d1-176a1e7030ea",
   "metadata": {
    "execution": {
     "iopub.execute_input": "2023-04-21T16:26:47.033040Z",
     "iopub.status.busy": "2023-04-21T16:26:47.032591Z",
     "iopub.status.idle": "2023-04-21T16:26:47.037329Z",
     "shell.execute_reply": "2023-04-21T16:26:47.036622Z",
     "shell.execute_reply.started": "2023-04-21T16:26:47.033007Z"
    },
    "tags": []
   },
   "outputs": [],
   "source": [
    "tap = pyvo.dal.TAPService('https://datalab.noirlab.edu/tap')"
   ]
  },
  {
   "cell_type": "code",
   "execution_count": 7,
   "id": "21a388af-f938-4eb1-8bb9-45faabbc320e",
   "metadata": {
    "execution": {
     "iopub.execute_input": "2023-04-21T16:17:53.820562Z",
     "iopub.status.busy": "2023-04-21T16:17:53.819870Z",
     "iopub.status.idle": "2023-04-21T16:17:53.823882Z",
     "shell.execute_reply": "2023-04-21T16:17:53.823278Z",
     "shell.execute_reply.started": "2023-04-21T16:17:53.820533Z"
    },
    "tags": []
   },
   "outputs": [],
   "source": [
    "query_string = \"SELECT COUNT(*) FROM ls_dr9.tractor WHERE brick_primary = 1 AND type = 'PSF' AND allmask_g = 0 and allmask_r = 0 and allmask_z = 0AND fracflux_g < 0.05 and fracflux_r < 0.05 and fracflux_z <  0.05AND flux_g > 0 and flux_r > 0 and flux_z > 0AND q3c_radial_query(ra,dec, 62.0, -37.0, 0.1)\""
   ]
  },
  {
   "cell_type": "code",
   "execution_count": 8,
   "id": "62a849ed-0c8b-46ed-beec-b695de9b19b1",
   "metadata": {
    "execution": {
     "iopub.execute_input": "2023-04-21T16:17:56.029177Z",
     "iopub.status.busy": "2023-04-21T16:17:56.028289Z",
     "iopub.status.idle": "2023-04-21T16:17:56.033293Z",
     "shell.execute_reply": "2023-04-21T16:17:56.032446Z",
     "shell.execute_reply.started": "2023-04-21T16:17:56.029146Z"
    },
    "tags": []
   },
   "outputs": [
    {
     "name": "stdout",
     "output_type": "stream",
     "text": [
      "SELECT COUNT(*) FROM ls_dr9.tractor WHERE brick_primary = 1 AND type = 'PSF' AND allmask_g = 0 and allmask_r = 0 and allmask_z = 0AND fracflux_g < 0.05 and fracflux_r < 0.05 and fracflux_z <  0.05AND flux_g > 0 and flux_r > 0 and flux_z > 0AND q3c_radial_query(ra,dec, 62.0, -37.0, 0.1)\n"
     ]
    }
   ],
   "source": [
    "print(query_string)"
   ]
  },
  {
   "cell_type": "code",
   "execution_count": 9,
   "id": "b80161fd-e134-4a92-be57-06fea679eff5",
   "metadata": {
    "execution": {
     "iopub.execute_input": "2023-04-21T16:18:18.068866Z",
     "iopub.status.busy": "2023-04-21T16:18:18.068499Z",
     "iopub.status.idle": "2023-04-21T16:18:19.226393Z",
     "shell.execute_reply": "2023-04-21T16:18:19.225089Z",
     "shell.execute_reply.started": "2023-04-21T16:18:18.068843Z"
    },
    "tags": []
   },
   "outputs": [
    {
     "ename": "DALQueryError",
     "evalue": "IllegalArgumentException: net.sf.jsqlparser.JSQLParserException JSQLParserException:  ParseException: Encountered \"q3c_radial_query ( ra , dec , 62.0 , - 37.0 , 0.1 ) <EOF>\" at line 1, column 245.\nWas expecting one of:\n    \"NOT\" ...\n    \"(\" ...\n    \"NULL\" ...\n    \"CASE\" ...\n    \"?\" ...\n    \"+\" ...\n    \"-\" ...\n    \"{fn\" ...\n    <S_IDENTIFIER> \".\" ...\n    <S_IDENTIFIER> \"(\" \"NULL\" ...\n    <S_IDENTIFIER> \"(\" \"CASE\" ...\n    <S_IDENTIFIER> \"(\" \"?\" ...\n    <S_IDENTIFIER> \"(\" \"+\" ...\n    <S_IDENTIFIER> \"(\" \"-\" ...\n    <S_IDENTIFIER> \"(\" \"{fn\" ...\n    <S_IDENTIFIER> \"(\" <S_IDENTIFIER> \".\" ...\n    <S_IDENTIFIER> \"(\" <S_IDENTIFIER> \"(\" ...\n    <S_IDENTIFIER> \"(\" <S_DOUBLE> ...\n    <S_IDENTIFIER> \"(\" <S_INTEGER> ...\n    <S_IDENTIFIER> \"(\" <S_IDENTIFIER> \"*\" ...\n    <S_IDENTIFIER> \"(\" <S_IDENTIFIER> \"/\" ...\n    <S_IDENTIFIER> \"(\" <S_IDENTIFIER> \"+\" ...\n    <S_IDENTIFIER> \"(\" <S_IDENTIFIER> \"-\" ...\n    <S_IDENTIFIER> \"(\" <S_IDENTIFIER> \",\" \"NULL\" ...\n    <S_IDENTIFIER> \"(\" <S_IDENTIFIER> \",\" \"CASE\" ...\n    <S_IDENTIFIER> \"(\" <S_IDENTIFIER> \",\" \"?\" ...\n    <S_IDENTIFIER> \"(\" <S_IDENTIFIER> \",\" \"+\" ...\n    <S_IDENTIFIER> \"(\" <S_IDENTIFIER> \",\" \"-\" ...\n    <S_IDENTIFIER> \"(\" <S_IDENTIFIER> \",\" \"{fn\" ...\n    <S_IDENTIFIER> \"(\" <S_IDENTIFIER> \",\" <S_IDENTIFIER> \".\" ...\n    <S_IDENTIFIER> \"(\" <S_IDENTIFIER> \",\" <S_IDENTIFIER> \"(\" ...\n    <S_IDENTIFIER> \"(\" <S_IDENTIFIER> \",\" <S_DOUBLE> ...\n    <S_IDENTIFIER> \"(\" <S_IDENTIFIER> \",\" <S_INTEGER> ...\n    <S_IDENTIFIER> \"(\" <S_IDENTIFIER> \",\" <S_IDENTIFIER> \"*\" ...\n    <S_IDENTIFIER> \"(\" <S_IDENTIFIER> \",\" <S_IDENTIFIER> \"/\" ...\n    <S_IDENTIFIER> \"(\" <S_IDENTIFIER> \",\" <S_IDENTIFIER> \"+\" ...\n    <S_IDENTIFIER> \"(\" <S_IDENTIFIER> \",\" <S_IDENTIFIER> \"-\" ...\n    <S_IDENTIFIER> \"(\" <S_IDENTIFIER> \",\" <S_IDENTIFIER> \",\" \"NULL\" ...\n    <S_IDENTIFIER> \"(\" <S_IDENTIFIER> \",\" <S_IDENTIFIER> \",\" \"CASE\" ...\n    <S_IDENTIFIER> \"(\" <S_IDENTIFIER> \",\" <S_IDENTIFIER> \",\" \"?\" ...\n    <S_IDENTIFIER> \"(\" <S_IDENTIFIER> \",\" <S_IDENTIFIER> \",\" \"+\" ...\n    <S_IDENTIFIER> \"(\" <S_IDENTIFIER> \",\" <S_IDENTIFIER> \",\" \"-\" ...\n    <S_IDENTIFIER> \"(\" <S_IDENTIFIER> \",\" <S_IDENTIFIER> \",\" \"{fn\" ...\n    <S_IDENTIFIER> \"(\" <S_IDENTIFIER> \",\" <S_IDENTIFIER> \",\" <S_IDENTIFIER> ...\n    <S_IDENTIFIER> \"(\" <S_IDENTIFIER> \",\" <S_IDENTIFIER> \",\" <S_QUOTED_IDENTIFIER> ...\n    <S_IDENTIFIER> \"(\" <S_IDENTIFIER> \",\" <S_IDENTIFIER> \",\" \"REPLACE\" ...\n    <S_IDENTIFIER> \"(\" <S_IDENTIFIER> \",\" <S_IDENTIFIER> \",\" <S_DOUBLE> \"*\" ...\n    <S_IDENTIFIER> \"(\" <S_IDENTIFIER> \",\" <S_IDENTIFIER> \",\" <S_DOUBLE> \"/\" ...\n    <S_IDENTIFIER> \"(\" <S_IDENTIFIER> \",\" <S_IDENTIFIER> \",\" <S_DOUBLE> \"+\" ...\n    <S_IDENTIFIER> \"(\" <S_IDENTIFIER> \",\" <S_IDENTIFIER> \",\" <S_DOUBLE> \"-\" ...\n    <S_IDENTIFIER> \"(\" <S_IDENTIFIER> \",\" <S_IDENTIFIER> \",\" <S_DOUBLE> \",\" \"NULL\" ...\n    <S_IDENTIFIER> \"(\" <S_IDENTIFIER> \",\" <S_IDENTIFIER> \",\" <S_DOUBLE> \",\" \"CASE\" ...\n    <S_IDENTIFIER> \"(\" <S_IDENTIFIER> \",\" <S_IDENTIFIER> \",\" <S_DOUBLE> \",\" \"?\" ...\n    <S_IDENTIFIER> \"(\" <S_IDENTIFIER> \",\" <S_IDENTIFIER> \",\" <S_DOUBLE> \",\" \"+\" ...\n    <S_IDENTIFIER> \"(\" <S_IDENTIFIER> \",\" <S_IDENTIFIER> \",\" <S_DOUBLE> \",\" \"-\" \"{fn\" ...\n    <S_IDENTIFIER> \"(\" <S_IDENTIFIER> \",\" <S_IDENTIFIER> \",\" <S_DOUBLE> \",\" \"-\" <S_IDENTIFIER> ...\n    <S_IDENTIFIER> \"(\" <S_IDENTIFIER> \",\" <S_IDENTIFIER> \",\" <S_DOUBLE> \",\" \"-\" <S_QUOTED_IDENTIFIER> ...\n    <S_IDENTIFIER> \"(\" <S_IDENTIFIER> \",\" <S_IDENTIFIER> \",\" <S_DOUBLE> \",\" \"-\" \"REPLACE\" ...\n    <S_IDENTIFIER> \"(\" <S_IDENTIFIER> \",\" <S_IDENTIFIER> \",\" <S_DOUBLE> \",\" \"-\" <S_DOUBLE> \"*\" ...\n    <S_IDENTIFIER> \"(\" <S_IDENTIFIER> \",\" <S_IDENTIFIER> \",\" <S_DOUBLE> \",\" \"-\" <S_DOUBLE> \"/\" ...\n    <S_IDENTIFIER> \"(\" <S_IDENTIFIER> \",\" <S_IDENTIFIER> \",\" <S_DOUBLE> \",\" \"-\" <S_DOUBLE> \"+\" ...\n    <S_IDENTIFIER> \"(\" <S_IDENTIFIER> \",\" <S_IDENTIFIER> \",\" <S_DOUBLE> \",\" \"-\" <S_DOUBLE> \"-\" ...\n    <S_IDENTIFIER> \"(\" <S_IDENTIFIER> \",\" <S_IDENTIFIER> \",\" <S_DOUBLE> \",\" \"-\" <S_DOUBLE> \",\" \"NULL\" ...\n    <S_IDENTIFIER> \"(\" <S_IDENTIFIER> \",\" <S_IDENTIFIER> \",\" <S_DOUBLE> \",\" \"-\" <S_DOUBLE> \",\" \"CASE\" ...\n    <S_IDENTIFIER> \"(\" <S_IDENTIFIER> \",\" <S_IDENTIFIER> \",\" <S_DOUBLE> \",\" \"-\" <S_DOUBLE> \",\" \"?\" ...\n    <S_IDENTIFIER> \"(\" <S_IDENTIFIER> \",\" <S_IDENTIFIER> \",\" <S_DOUBLE> \",\" \"-\" <S_DOUBLE> \",\" \"+\" ...\n    <S_IDENTIFIER> \"(\" <S_IDENTIFIER> \",\" <S_IDENTIFIER> \",\" <S_DOUBLE> \",\" \"-\" <S_DOUBLE> \",\" \"-\" ...\n    <S_IDENTIFIER> \"(\" <S_IDENTIFIER> \",\" <S_IDENTIFIER> \",\" <S_DOUBLE> \",\" \"-\" <S_DOUBLE> \",\" \"{fn\" ...\n    <S_IDENTIFIER> \"(\" <S_IDENTIFIER> \",\" <S_IDENTIFIER> \",\" <S_DOUBLE> \",\" \"-\" <S_DOUBLE> \",\" <S_IDENTIFIER> ...\n    <S_IDENTIFIER> \"(\" <S_IDENTIFIER> \",\" <S_IDENTIFIER> \",\" <S_DOUBLE> \",\" \"-\" <S_DOUBLE> \",\" <S_QUOTED_IDENTIFIER> ...\n    <S_IDENTIFIER> \"(\" <S_IDENTIFIER> \",\" <S_IDENTIFIER> \",\" <S_DOUBLE> \",\" \"-\" <S_DOUBLE> \",\" \"REPLACE\" ...\n    <S_IDENTIFIER> \"(\" <S_IDENTIFIER> \",\" <S_IDENTIFIER> \",\" <S_DOUBLE> \",\" \"-\" <S_DOUBLE> \",\" <S_DOUBLE> \"*\" ...\n    <S_IDENTIFIER> \"(\" <S_IDENTIFIER> \",\" <S_IDENTIFIER> \",\" <S_DOUBLE> \",\" \"-\" <S_DOUBLE> \",\" <S_DOUBLE> \"/\" ...\n    <S_IDENTIFIER> \"(\" <S_IDENTIFIER> \",\" <S_IDENTIFIER> \",\" <S_DOUBLE> \",\" \"-\" <S_DOUBLE> \",\" <S_DOUBLE> \"+\" ...\n    <S_IDENTIFIER> \"(\" <S_IDENTIFIER> \",\" <S_IDENTIFIER> \",\" <S_DOUBLE> \",\" \"-\" <S_DOUBLE> \",\" <S_DOUBLE> \"-\" ...\n    <S_IDENTIFIER> \"(\" <S_IDENTIFIER> \",\" <S_IDENTIFIER> \",\" <S_DOUBLE> \",\" \"-\" <S_DOUBLE> \",\" <S_DOUBLE> \",\" ...\n    <S_IDENTIFIER> \"(\" <S_IDENTIFIER> \",\" <S_IDENTIFIER> \",\" <S_DOUBLE> \",\" \"-\" <S_DOUBLE> \",\" <S_DOUBLE> \")\" \"}\" ...\n    <S_IDENTIFIER> \"(\" <S_IDENTIFIER> \",\" <S_IDENTIFIER> \",\" <S_DOUBLE> \",\" \"-\" <S_DOUBLE> \",\" <S_DOUBLE> \")\" \"*\" ...\n    <S_IDENTIFIER> \"(\" <S_IDENTIFIER> \",\" <S_IDENTIFIER> \",\" <S_DOUBLE> \",\" \"-\" <S_DOUBLE> \",\" <S_DOUBLE> \")\" \"/\" ...\n    <S_IDENTIFIER> \"(\" <S_IDENTIFIER> \",\" <S_IDENTIFIER> \",\" <S_DOUBLE> \",\" \"-\" <S_DOUBLE> \",\" <S_DOUBLE> \")\" \"+\" ...\n    <S_IDENTIFIER> \"(\" <S_IDENTIFIER> \",\" <S_IDENTIFIER> \",\" <S_DOUBLE> \",\" \"-\" <S_DOUBLE> \",\" <S_DOUBLE> \")\" \"-\" ...\n    <S_IDENTIFIER> \"(\" <S_IDENTIFIER> \",\" <S_IDENTIFIER> \",\" <S_DOUBLE> \",\" \"-\" <S_DOUBLE> \",\" <S_DOUBLE> \")\" \"NOT\" ...\n    <S_IDENTIFIER> \"(\" <S_IDENTIFIER> \",\" <S_IDENTIFIER> \",\" <S_DOUBLE> \",\" \"-\" <S_DOUBLE> \",\" <S_DOUBLE> \")\" \"IN\" ...\n    <S_IDENTIFIER> \"(\" <S_IDENTIFIER> \",\" <S_IDENTIFIER> \",\" <S_DOUBLE> \",\" \"-\" <S_DOUBLE> \",\" <S_DOUBLE> \")\" \"BETWEEN\" ...\n    <S_IDENTIFIER> \"(\" <S_IDENTIFIER> \",\" <S_IDENTIFIER> \",\" <S_DOUBLE> \",\" \"-\" <S_DOUBLE> \",\" <S_DOUBLE> \")\" \"IS\" ...\n    \"EXISTS\" ...\n    <S_IDENTIFIER> \"(\" <S_IDENTIFIER> \",\" <S_IDENTIFIER> \",\" <S_DOUBLE> \",\" \"-\" <S_DOUBLE> \",\" <S_DOUBLE> \")\" \"LIKE\" ...\n    \"ALL\" ...\n    \"ANY\" ...\n    \"SOME\" ...\n    <S_IDENTIFIER> \"(\" <S_IDENTIFIER> \",\" <S_IDENTIFIER> \",\" <S_DOUBLE> \",\" \"-\" <S_DOUBLE> \",\" <S_DOUBLE> \")\" \">\" ...\n    <S_IDENTIFIER> \"(\" <S_IDENTIFIER> \",\" <S_IDENTIFIER> \",\" <S_DOUBLE> \",\" \"-\" <S_DOUBLE> \",\" <S_DOUBLE> \")\" \"<\" ...\n    <S_IDENTIFIER> \"(\" <S_IDENTIFIER> \",\" <S_IDENTIFIER> \",\" <S_DOUBLE> \",\" \"-\" <S_DOUBLE> \",\" <S_DOUBLE> \")\" \"=\" ...\n    <S_IDENTIFIER> \"(\" <S_IDENTIFIER> \",\" <S_IDENTIFIER> \",\" <S_DOUBLE> \",\" \"-\" <S_DOUBLE> \",\" <S_DOUBLE> \")\" \">=\" ...\n    <S_IDENTIFIER> \"(\" <S_IDENTIFIER> \",\" <S_IDENTIFIER> \",\" <S_DOUBLE> \",\" \"-\" <S_DOUBLE> \",\" <S_DOUBLE> \")\" \"<=\" ...\n    <S_IDENTIFIER> \"(\" <S_IDENTIFIER> \",\" <S_IDENTIFIER> \",\" <S_DOUBLE> \",\" \"-\" <S_DOUBLE> \",\" <S_DOUBLE> \")\" \"<>\" ...\n    <S_IDENTIFIER> \"(\" <S_IDENTIFIER> \",\" <S_IDENTIFIER> \",\" <S_DOUBLE> \",\" \"-\" <S_DOUBLE> \",\" <S_DOUBLE> \")\" \"!=\" ...",
     "output_type": "error",
     "traceback": [
      "\u001b[0;31m---------------------------------------------------------------------------\u001b[0m",
      "\u001b[0;31mDALQueryError\u001b[0m                             Traceback (most recent call last)",
      "Input \u001b[0;32mIn [9]\u001b[0m, in \u001b[0;36m<cell line: 1>\u001b[0;34m()\u001b[0m\n\u001b[0;32m----> 1\u001b[0m data \u001b[38;5;241m=\u001b[39m \u001b[43mtap\u001b[49m\u001b[38;5;241;43m.\u001b[39;49m\u001b[43mrun_sync\u001b[49m\u001b[43m(\u001b[49m\u001b[43mquery_string\u001b[49m\u001b[43m)\u001b[49m\n",
      "File \u001b[0;32m/opt/lsst/software/stack/conda/miniconda3-py38_4.9.2/envs/lsst-scipipe-5.1.0/lib/python3.10/site-packages/pyvo/dal/tap.py:257\u001b[0m, in \u001b[0;36mTAPService.run_sync\u001b[0;34m(self, query, language, maxrec, uploads, **keywords)\u001b[0m\n\u001b[1;32m    228\u001b[0m \u001b[38;5;28;01mdef\u001b[39;00m \u001b[38;5;21mrun_sync\u001b[39m(\n\u001b[1;32m    229\u001b[0m         \u001b[38;5;28mself\u001b[39m, query, language\u001b[38;5;241m=\u001b[39m\u001b[38;5;124m\"\u001b[39m\u001b[38;5;124mADQL\u001b[39m\u001b[38;5;124m\"\u001b[39m, maxrec\u001b[38;5;241m=\u001b[39m\u001b[38;5;28;01mNone\u001b[39;00m, uploads\u001b[38;5;241m=\u001b[39m\u001b[38;5;28;01mNone\u001b[39;00m,\n\u001b[1;32m    230\u001b[0m         \u001b[38;5;241m*\u001b[39m\u001b[38;5;241m*\u001b[39mkeywords):\n\u001b[1;32m    231\u001b[0m     \u001b[38;5;124;03m\"\"\"\u001b[39;00m\n\u001b[1;32m    232\u001b[0m \u001b[38;5;124;03m    runs sync query and returns its result\u001b[39;00m\n\u001b[1;32m    233\u001b[0m \n\u001b[0;32m   (...)\u001b[0m\n\u001b[1;32m    253\u001b[0m \u001b[38;5;124;03m    TAPResults\u001b[39;00m\n\u001b[1;32m    254\u001b[0m \u001b[38;5;124;03m    \"\"\"\u001b[39;00m\n\u001b[1;32m    255\u001b[0m     \u001b[38;5;28;01mreturn\u001b[39;00m \u001b[38;5;28;43mself\u001b[39;49m\u001b[38;5;241;43m.\u001b[39;49m\u001b[43mcreate_query\u001b[49m\u001b[43m(\u001b[49m\n\u001b[1;32m    256\u001b[0m \u001b[43m        \u001b[49m\u001b[43mquery\u001b[49m\u001b[43m,\u001b[49m\u001b[43m \u001b[49m\u001b[43mlanguage\u001b[49m\u001b[38;5;241;43m=\u001b[39;49m\u001b[43mlanguage\u001b[49m\u001b[43m,\u001b[49m\u001b[43m \u001b[49m\u001b[43mmaxrec\u001b[49m\u001b[38;5;241;43m=\u001b[39;49m\u001b[43mmaxrec\u001b[49m\u001b[43m,\u001b[49m\u001b[43m \u001b[49m\u001b[43muploads\u001b[49m\u001b[38;5;241;43m=\u001b[39;49m\u001b[43muploads\u001b[49m\u001b[43m,\u001b[49m\n\u001b[0;32m--> 257\u001b[0m \u001b[43m        \u001b[49m\u001b[38;5;241;43m*\u001b[39;49m\u001b[38;5;241;43m*\u001b[39;49m\u001b[43mkeywords\u001b[49m\u001b[43m)\u001b[49m\u001b[38;5;241;43m.\u001b[39;49m\u001b[43mexecute\u001b[49m\u001b[43m(\u001b[49m\u001b[43m)\u001b[49m\n",
      "File \u001b[0;32m/opt/lsst/software/stack/conda/miniconda3-py38_4.9.2/envs/lsst-scipipe-5.1.0/lib/python3.10/site-packages/pyvo/dal/tap.py:1073\u001b[0m, in \u001b[0;36mTAPQuery.execute\u001b[0;34m(self)\u001b[0m\n\u001b[1;32m   1059\u001b[0m \u001b[38;5;28;01mdef\u001b[39;00m \u001b[38;5;21mexecute\u001b[39m(\u001b[38;5;28mself\u001b[39m):\n\u001b[1;32m   1060\u001b[0m     \u001b[38;5;124;03m\"\"\"\u001b[39;00m\n\u001b[1;32m   1061\u001b[0m \u001b[38;5;124;03m    submit the query and return the results as a TAPResults instance\u001b[39;00m\n\u001b[1;32m   1062\u001b[0m \n\u001b[0;32m   (...)\u001b[0m\n\u001b[1;32m   1071\u001b[0m \u001b[38;5;124;03m       for errors parsing the VOTable response\u001b[39;00m\n\u001b[1;32m   1072\u001b[0m \u001b[38;5;124;03m    \"\"\"\u001b[39;00m\n\u001b[0;32m-> 1073\u001b[0m     \u001b[38;5;28;01mreturn\u001b[39;00m \u001b[43mTAPResults\u001b[49m\u001b[43m(\u001b[49m\u001b[38;5;28;43mself\u001b[39;49m\u001b[38;5;241;43m.\u001b[39;49m\u001b[43mexecute_votable\u001b[49m\u001b[43m(\u001b[49m\u001b[43m)\u001b[49m\u001b[43m,\u001b[49m\u001b[43m \u001b[49m\u001b[43murl\u001b[49m\u001b[38;5;241;43m=\u001b[39;49m\u001b[38;5;28;43mself\u001b[39;49m\u001b[38;5;241;43m.\u001b[39;49m\u001b[43mqueryurl\u001b[49m\u001b[43m,\u001b[49m\u001b[43m \u001b[49m\u001b[43msession\u001b[49m\u001b[38;5;241;43m=\u001b[39;49m\u001b[38;5;28;43mself\u001b[39;49m\u001b[38;5;241;43m.\u001b[39;49m\u001b[43m_session\u001b[49m\u001b[43m)\u001b[49m\n",
      "File \u001b[0;32m/opt/lsst/software/stack/conda/miniconda3-py38_4.9.2/envs/lsst-scipipe-5.1.0/lib/python3.10/site-packages/pyvo/dal/adhoc.py:111\u001b[0m, in \u001b[0;36mAdhocServiceResultsMixin.__init__\u001b[0;34m(self, votable, url, session)\u001b[0m\n\u001b[1;32m    110\u001b[0m \u001b[38;5;28;01mdef\u001b[39;00m \u001b[38;5;21m__init__\u001b[39m(\u001b[38;5;28mself\u001b[39m, votable, url\u001b[38;5;241m=\u001b[39m\u001b[38;5;28;01mNone\u001b[39;00m, session\u001b[38;5;241m=\u001b[39m\u001b[38;5;28;01mNone\u001b[39;00m):\n\u001b[0;32m--> 111\u001b[0m     \u001b[38;5;28;43msuper\u001b[39;49m\u001b[43m(\u001b[49m\u001b[43m)\u001b[49m\u001b[38;5;241;43m.\u001b[39;49m\u001b[38;5;21;43m__init__\u001b[39;49m\u001b[43m(\u001b[49m\u001b[43mvotable\u001b[49m\u001b[43m,\u001b[49m\u001b[43m \u001b[49m\u001b[43murl\u001b[49m\u001b[38;5;241;43m=\u001b[39;49m\u001b[43murl\u001b[49m\u001b[43m,\u001b[49m\u001b[43m \u001b[49m\u001b[43msession\u001b[49m\u001b[38;5;241;43m=\u001b[39;49m\u001b[43msession\u001b[49m\u001b[43m)\u001b[49m\n\u001b[1;32m    113\u001b[0m     \u001b[38;5;28mself\u001b[39m\u001b[38;5;241m.\u001b[39m_adhocservices \u001b[38;5;241m=\u001b[39m \u001b[38;5;28mlist\u001b[39m(\n\u001b[1;32m    114\u001b[0m         resource \u001b[38;5;28;01mfor\u001b[39;00m resource \u001b[38;5;129;01min\u001b[39;00m votable\u001b[38;5;241m.\u001b[39mresources\n\u001b[1;32m    115\u001b[0m         \u001b[38;5;28;01mif\u001b[39;00m resource\u001b[38;5;241m.\u001b[39mtype \u001b[38;5;241m==\u001b[39m \u001b[38;5;124m\"\u001b[39m\u001b[38;5;124mmeta\u001b[39m\u001b[38;5;124m\"\u001b[39m \u001b[38;5;129;01mand\u001b[39;00m resource\u001b[38;5;241m.\u001b[39mutype \u001b[38;5;241m==\u001b[39m \u001b[38;5;124m\"\u001b[39m\u001b[38;5;124madhoc:service\u001b[39m\u001b[38;5;124m\"\u001b[39m\n\u001b[1;32m    116\u001b[0m     )\n",
      "File \u001b[0;32m/opt/lsst/software/stack/conda/miniconda3-py38_4.9.2/envs/lsst-scipipe-5.1.0/lib/python3.10/site-packages/pyvo/dal/query.py:321\u001b[0m, in \u001b[0;36mDALResults.__init__\u001b[0;34m(self, votable, url, session)\u001b[0m\n\u001b[1;32m    319\u001b[0m \u001b[38;5;28mself\u001b[39m\u001b[38;5;241m.\u001b[39m_status \u001b[38;5;241m=\u001b[39m \u001b[38;5;28mself\u001b[39m\u001b[38;5;241m.\u001b[39m_findstatus(votable)\n\u001b[1;32m    320\u001b[0m \u001b[38;5;28;01mif\u001b[39;00m \u001b[38;5;28mself\u001b[39m\u001b[38;5;241m.\u001b[39m_status[\u001b[38;5;241m0\u001b[39m]\u001b[38;5;241m.\u001b[39mlower() \u001b[38;5;129;01mnot\u001b[39;00m \u001b[38;5;129;01min\u001b[39;00m (\u001b[38;5;124m\"\u001b[39m\u001b[38;5;124mok\u001b[39m\u001b[38;5;124m\"\u001b[39m, \u001b[38;5;124m\"\u001b[39m\u001b[38;5;124moverflow\u001b[39m\u001b[38;5;124m\"\u001b[39m):\n\u001b[0;32m--> 321\u001b[0m     \u001b[38;5;28;01mraise\u001b[39;00m DALQueryError(\u001b[38;5;28mself\u001b[39m\u001b[38;5;241m.\u001b[39m_status[\u001b[38;5;241m1\u001b[39m], \u001b[38;5;28mself\u001b[39m\u001b[38;5;241m.\u001b[39m_status[\u001b[38;5;241m0\u001b[39m], url)\n\u001b[1;32m    323\u001b[0m \u001b[38;5;28;01mif\u001b[39;00m \u001b[38;5;28mself\u001b[39m\u001b[38;5;241m.\u001b[39m_status[\u001b[38;5;241m0\u001b[39m]\u001b[38;5;241m.\u001b[39mlower() \u001b[38;5;241m==\u001b[39m \u001b[38;5;124m\"\u001b[39m\u001b[38;5;124moverflow\u001b[39m\u001b[38;5;124m\"\u001b[39m:\n\u001b[1;32m    324\u001b[0m     warn(\u001b[38;5;124m\"\u001b[39m\u001b[38;5;124mPartial result set. Potential causes MAXREC, async storage space, etc.\u001b[39m\u001b[38;5;124m\"\u001b[39m,\n\u001b[1;32m    325\u001b[0m          category\u001b[38;5;241m=\u001b[39mDALOverflowWarning)\n",
      "\u001b[0;31mDALQueryError\u001b[0m: IllegalArgumentException: net.sf.jsqlparser.JSQLParserException JSQLParserException:  ParseException: Encountered \"q3c_radial_query ( ra , dec , 62.0 , - 37.0 , 0.1 ) <EOF>\" at line 1, column 245.\nWas expecting one of:\n    \"NOT\" ...\n    \"(\" ...\n    \"NULL\" ...\n    \"CASE\" ...\n    \"?\" ...\n    \"+\" ...\n    \"-\" ...\n    \"{fn\" ...\n    <S_IDENTIFIER> \".\" ...\n    <S_IDENTIFIER> \"(\" \"NULL\" ...\n    <S_IDENTIFIER> \"(\" \"CASE\" ...\n    <S_IDENTIFIER> \"(\" \"?\" ...\n    <S_IDENTIFIER> \"(\" \"+\" ...\n    <S_IDENTIFIER> \"(\" \"-\" ...\n    <S_IDENTIFIER> \"(\" \"{fn\" ...\n    <S_IDENTIFIER> \"(\" <S_IDENTIFIER> \".\" ...\n    <S_IDENTIFIER> \"(\" <S_IDENTIFIER> \"(\" ...\n    <S_IDENTIFIER> \"(\" <S_DOUBLE> ...\n    <S_IDENTIFIER> \"(\" <S_INTEGER> ...\n    <S_IDENTIFIER> \"(\" <S_IDENTIFIER> \"*\" ...\n    <S_IDENTIFIER> \"(\" <S_IDENTIFIER> \"/\" ...\n    <S_IDENTIFIER> \"(\" <S_IDENTIFIER> \"+\" ...\n    <S_IDENTIFIER> \"(\" <S_IDENTIFIER> \"-\" ...\n    <S_IDENTIFIER> \"(\" <S_IDENTIFIER> \",\" \"NULL\" ...\n    <S_IDENTIFIER> \"(\" <S_IDENTIFIER> \",\" \"CASE\" ...\n    <S_IDENTIFIER> \"(\" <S_IDENTIFIER> \",\" \"?\" ...\n    <S_IDENTIFIER> \"(\" <S_IDENTIFIER> \",\" \"+\" ...\n    <S_IDENTIFIER> \"(\" <S_IDENTIFIER> \",\" \"-\" ...\n    <S_IDENTIFIER> \"(\" <S_IDENTIFIER> \",\" \"{fn\" ...\n    <S_IDENTIFIER> \"(\" <S_IDENTIFIER> \",\" <S_IDENTIFIER> \".\" ...\n    <S_IDENTIFIER> \"(\" <S_IDENTIFIER> \",\" <S_IDENTIFIER> \"(\" ...\n    <S_IDENTIFIER> \"(\" <S_IDENTIFIER> \",\" <S_DOUBLE> ...\n    <S_IDENTIFIER> \"(\" <S_IDENTIFIER> \",\" <S_INTEGER> ...\n    <S_IDENTIFIER> \"(\" <S_IDENTIFIER> \",\" <S_IDENTIFIER> \"*\" ...\n    <S_IDENTIFIER> \"(\" <S_IDENTIFIER> \",\" <S_IDENTIFIER> \"/\" ...\n    <S_IDENTIFIER> \"(\" <S_IDENTIFIER> \",\" <S_IDENTIFIER> \"+\" ...\n    <S_IDENTIFIER> \"(\" <S_IDENTIFIER> \",\" <S_IDENTIFIER> \"-\" ...\n    <S_IDENTIFIER> \"(\" <S_IDENTIFIER> \",\" <S_IDENTIFIER> \",\" \"NULL\" ...\n    <S_IDENTIFIER> \"(\" <S_IDENTIFIER> \",\" <S_IDENTIFIER> \",\" \"CASE\" ...\n    <S_IDENTIFIER> \"(\" <S_IDENTIFIER> \",\" <S_IDENTIFIER> \",\" \"?\" ...\n    <S_IDENTIFIER> \"(\" <S_IDENTIFIER> \",\" <S_IDENTIFIER> \",\" \"+\" ...\n    <S_IDENTIFIER> \"(\" <S_IDENTIFIER> \",\" <S_IDENTIFIER> \",\" \"-\" ...\n    <S_IDENTIFIER> \"(\" <S_IDENTIFIER> \",\" <S_IDENTIFIER> \",\" \"{fn\" ...\n    <S_IDENTIFIER> \"(\" <S_IDENTIFIER> \",\" <S_IDENTIFIER> \",\" <S_IDENTIFIER> ...\n    <S_IDENTIFIER> \"(\" <S_IDENTIFIER> \",\" <S_IDENTIFIER> \",\" <S_QUOTED_IDENTIFIER> ...\n    <S_IDENTIFIER> \"(\" <S_IDENTIFIER> \",\" <S_IDENTIFIER> \",\" \"REPLACE\" ...\n    <S_IDENTIFIER> \"(\" <S_IDENTIFIER> \",\" <S_IDENTIFIER> \",\" <S_DOUBLE> \"*\" ...\n    <S_IDENTIFIER> \"(\" <S_IDENTIFIER> \",\" <S_IDENTIFIER> \",\" <S_DOUBLE> \"/\" ...\n    <S_IDENTIFIER> \"(\" <S_IDENTIFIER> \",\" <S_IDENTIFIER> \",\" <S_DOUBLE> \"+\" ...\n    <S_IDENTIFIER> \"(\" <S_IDENTIFIER> \",\" <S_IDENTIFIER> \",\" <S_DOUBLE> \"-\" ...\n    <S_IDENTIFIER> \"(\" <S_IDENTIFIER> \",\" <S_IDENTIFIER> \",\" <S_DOUBLE> \",\" \"NULL\" ...\n    <S_IDENTIFIER> \"(\" <S_IDENTIFIER> \",\" <S_IDENTIFIER> \",\" <S_DOUBLE> \",\" \"CASE\" ...\n    <S_IDENTIFIER> \"(\" <S_IDENTIFIER> \",\" <S_IDENTIFIER> \",\" <S_DOUBLE> \",\" \"?\" ...\n    <S_IDENTIFIER> \"(\" <S_IDENTIFIER> \",\" <S_IDENTIFIER> \",\" <S_DOUBLE> \",\" \"+\" ...\n    <S_IDENTIFIER> \"(\" <S_IDENTIFIER> \",\" <S_IDENTIFIER> \",\" <S_DOUBLE> \",\" \"-\" \"{fn\" ...\n    <S_IDENTIFIER> \"(\" <S_IDENTIFIER> \",\" <S_IDENTIFIER> \",\" <S_DOUBLE> \",\" \"-\" <S_IDENTIFIER> ...\n    <S_IDENTIFIER> \"(\" <S_IDENTIFIER> \",\" <S_IDENTIFIER> \",\" <S_DOUBLE> \",\" \"-\" <S_QUOTED_IDENTIFIER> ...\n    <S_IDENTIFIER> \"(\" <S_IDENTIFIER> \",\" <S_IDENTIFIER> \",\" <S_DOUBLE> \",\" \"-\" \"REPLACE\" ...\n    <S_IDENTIFIER> \"(\" <S_IDENTIFIER> \",\" <S_IDENTIFIER> \",\" <S_DOUBLE> \",\" \"-\" <S_DOUBLE> \"*\" ...\n    <S_IDENTIFIER> \"(\" <S_IDENTIFIER> \",\" <S_IDENTIFIER> \",\" <S_DOUBLE> \",\" \"-\" <S_DOUBLE> \"/\" ...\n    <S_IDENTIFIER> \"(\" <S_IDENTIFIER> \",\" <S_IDENTIFIER> \",\" <S_DOUBLE> \",\" \"-\" <S_DOUBLE> \"+\" ...\n    <S_IDENTIFIER> \"(\" <S_IDENTIFIER> \",\" <S_IDENTIFIER> \",\" <S_DOUBLE> \",\" \"-\" <S_DOUBLE> \"-\" ...\n    <S_IDENTIFIER> \"(\" <S_IDENTIFIER> \",\" <S_IDENTIFIER> \",\" <S_DOUBLE> \",\" \"-\" <S_DOUBLE> \",\" \"NULL\" ...\n    <S_IDENTIFIER> \"(\" <S_IDENTIFIER> \",\" <S_IDENTIFIER> \",\" <S_DOUBLE> \",\" \"-\" <S_DOUBLE> \",\" \"CASE\" ...\n    <S_IDENTIFIER> \"(\" <S_IDENTIFIER> \",\" <S_IDENTIFIER> \",\" <S_DOUBLE> \",\" \"-\" <S_DOUBLE> \",\" \"?\" ...\n    <S_IDENTIFIER> \"(\" <S_IDENTIFIER> \",\" <S_IDENTIFIER> \",\" <S_DOUBLE> \",\" \"-\" <S_DOUBLE> \",\" \"+\" ...\n    <S_IDENTIFIER> \"(\" <S_IDENTIFIER> \",\" <S_IDENTIFIER> \",\" <S_DOUBLE> \",\" \"-\" <S_DOUBLE> \",\" \"-\" ...\n    <S_IDENTIFIER> \"(\" <S_IDENTIFIER> \",\" <S_IDENTIFIER> \",\" <S_DOUBLE> \",\" \"-\" <S_DOUBLE> \",\" \"{fn\" ...\n    <S_IDENTIFIER> \"(\" <S_IDENTIFIER> \",\" <S_IDENTIFIER> \",\" <S_DOUBLE> \",\" \"-\" <S_DOUBLE> \",\" <S_IDENTIFIER> ...\n    <S_IDENTIFIER> \"(\" <S_IDENTIFIER> \",\" <S_IDENTIFIER> \",\" <S_DOUBLE> \",\" \"-\" <S_DOUBLE> \",\" <S_QUOTED_IDENTIFIER> ...\n    <S_IDENTIFIER> \"(\" <S_IDENTIFIER> \",\" <S_IDENTIFIER> \",\" <S_DOUBLE> \",\" \"-\" <S_DOUBLE> \",\" \"REPLACE\" ...\n    <S_IDENTIFIER> \"(\" <S_IDENTIFIER> \",\" <S_IDENTIFIER> \",\" <S_DOUBLE> \",\" \"-\" <S_DOUBLE> \",\" <S_DOUBLE> \"*\" ...\n    <S_IDENTIFIER> \"(\" <S_IDENTIFIER> \",\" <S_IDENTIFIER> \",\" <S_DOUBLE> \",\" \"-\" <S_DOUBLE> \",\" <S_DOUBLE> \"/\" ...\n    <S_IDENTIFIER> \"(\" <S_IDENTIFIER> \",\" <S_IDENTIFIER> \",\" <S_DOUBLE> \",\" \"-\" <S_DOUBLE> \",\" <S_DOUBLE> \"+\" ...\n    <S_IDENTIFIER> \"(\" <S_IDENTIFIER> \",\" <S_IDENTIFIER> \",\" <S_DOUBLE> \",\" \"-\" <S_DOUBLE> \",\" <S_DOUBLE> \"-\" ...\n    <S_IDENTIFIER> \"(\" <S_IDENTIFIER> \",\" <S_IDENTIFIER> \",\" <S_DOUBLE> \",\" \"-\" <S_DOUBLE> \",\" <S_DOUBLE> \",\" ...\n    <S_IDENTIFIER> \"(\" <S_IDENTIFIER> \",\" <S_IDENTIFIER> \",\" <S_DOUBLE> \",\" \"-\" <S_DOUBLE> \",\" <S_DOUBLE> \")\" \"}\" ...\n    <S_IDENTIFIER> \"(\" <S_IDENTIFIER> \",\" <S_IDENTIFIER> \",\" <S_DOUBLE> \",\" \"-\" <S_DOUBLE> \",\" <S_DOUBLE> \")\" \"*\" ...\n    <S_IDENTIFIER> \"(\" <S_IDENTIFIER> \",\" <S_IDENTIFIER> \",\" <S_DOUBLE> \",\" \"-\" <S_DOUBLE> \",\" <S_DOUBLE> \")\" \"/\" ...\n    <S_IDENTIFIER> \"(\" <S_IDENTIFIER> \",\" <S_IDENTIFIER> \",\" <S_DOUBLE> \",\" \"-\" <S_DOUBLE> \",\" <S_DOUBLE> \")\" \"+\" ...\n    <S_IDENTIFIER> \"(\" <S_IDENTIFIER> \",\" <S_IDENTIFIER> \",\" <S_DOUBLE> \",\" \"-\" <S_DOUBLE> \",\" <S_DOUBLE> \")\" \"-\" ...\n    <S_IDENTIFIER> \"(\" <S_IDENTIFIER> \",\" <S_IDENTIFIER> \",\" <S_DOUBLE> \",\" \"-\" <S_DOUBLE> \",\" <S_DOUBLE> \")\" \"NOT\" ...\n    <S_IDENTIFIER> \"(\" <S_IDENTIFIER> \",\" <S_IDENTIFIER> \",\" <S_DOUBLE> \",\" \"-\" <S_DOUBLE> \",\" <S_DOUBLE> \")\" \"IN\" ...\n    <S_IDENTIFIER> \"(\" <S_IDENTIFIER> \",\" <S_IDENTIFIER> \",\" <S_DOUBLE> \",\" \"-\" <S_DOUBLE> \",\" <S_DOUBLE> \")\" \"BETWEEN\" ...\n    <S_IDENTIFIER> \"(\" <S_IDENTIFIER> \",\" <S_IDENTIFIER> \",\" <S_DOUBLE> \",\" \"-\" <S_DOUBLE> \",\" <S_DOUBLE> \")\" \"IS\" ...\n    \"EXISTS\" ...\n    <S_IDENTIFIER> \"(\" <S_IDENTIFIER> \",\" <S_IDENTIFIER> \",\" <S_DOUBLE> \",\" \"-\" <S_DOUBLE> \",\" <S_DOUBLE> \")\" \"LIKE\" ...\n    \"ALL\" ...\n    \"ANY\" ...\n    \"SOME\" ...\n    <S_IDENTIFIER> \"(\" <S_IDENTIFIER> \",\" <S_IDENTIFIER> \",\" <S_DOUBLE> \",\" \"-\" <S_DOUBLE> \",\" <S_DOUBLE> \")\" \">\" ...\n    <S_IDENTIFIER> \"(\" <S_IDENTIFIER> \",\" <S_IDENTIFIER> \",\" <S_DOUBLE> \",\" \"-\" <S_DOUBLE> \",\" <S_DOUBLE> \")\" \"<\" ...\n    <S_IDENTIFIER> \"(\" <S_IDENTIFIER> \",\" <S_IDENTIFIER> \",\" <S_DOUBLE> \",\" \"-\" <S_DOUBLE> \",\" <S_DOUBLE> \")\" \"=\" ...\n    <S_IDENTIFIER> \"(\" <S_IDENTIFIER> \",\" <S_IDENTIFIER> \",\" <S_DOUBLE> \",\" \"-\" <S_DOUBLE> \",\" <S_DOUBLE> \")\" \">=\" ...\n    <S_IDENTIFIER> \"(\" <S_IDENTIFIER> \",\" <S_IDENTIFIER> \",\" <S_DOUBLE> \",\" \"-\" <S_DOUBLE> \",\" <S_DOUBLE> \")\" \"<=\" ...\n    <S_IDENTIFIER> \"(\" <S_IDENTIFIER> \",\" <S_IDENTIFIER> \",\" <S_DOUBLE> \",\" \"-\" <S_DOUBLE> \",\" <S_DOUBLE> \")\" \"<>\" ...\n    <S_IDENTIFIER> \"(\" <S_IDENTIFIER> \",\" <S_IDENTIFIER> \",\" <S_DOUBLE> \",\" \"-\" <S_DOUBLE> \",\" <S_DOUBLE> \")\" \"!=\" ..."
     ]
    }
   ],
   "source": [
    "data = tap.run_sync(query_string)"
   ]
  },
  {
   "cell_type": "code",
   "execution_count": 10,
   "id": "2b72b251-0b78-4293-a897-c71f8c39f382",
   "metadata": {
    "execution": {
     "iopub.execute_input": "2023-04-21T16:20:36.174795Z",
     "iopub.status.busy": "2023-04-21T16:20:36.174447Z",
     "iopub.status.idle": "2023-04-21T16:20:36.178570Z",
     "shell.execute_reply": "2023-04-21T16:20:36.177766Z",
     "shell.execute_reply.started": "2023-04-21T16:20:36.174774Z"
    }
   },
   "outputs": [],
   "source": [
    "# https://pyvo.readthedocs.io/en/latest/api/pyvo.dal.conesearch.html"
   ]
  },
  {
   "cell_type": "code",
   "execution_count": 11,
   "id": "efe8a06b-2d65-4983-a89c-7207e17e2e77",
   "metadata": {
    "execution": {
     "iopub.execute_input": "2023-04-21T16:22:53.649694Z",
     "iopub.status.busy": "2023-04-21T16:22:53.648898Z",
     "iopub.status.idle": "2023-04-21T16:22:53.663298Z",
     "shell.execute_reply": "2023-04-21T16:22:53.662444Z",
     "shell.execute_reply.started": "2023-04-21T16:22:53.649638Z"
    }
   },
   "outputs": [
    {
     "ename": "NameError",
     "evalue": "name 'url' is not defined",
     "output_type": "error",
     "traceback": [
      "\u001b[0;31m---------------------------------------------------------------------------\u001b[0m",
      "\u001b[0;31mNameError\u001b[0m                                 Traceback (most recent call last)",
      "Input \u001b[0;32mIn [11]\u001b[0m, in \u001b[0;36m<cell line: 1>\u001b[0;34m()\u001b[0m\n\u001b[0;32m----> 1\u001b[0m pyvo\u001b[38;5;241m.\u001b[39mdal\u001b[38;5;241m.\u001b[39mconesearch(\u001b[43murl\u001b[49m, pos, radius\u001b[38;5;241m=\u001b[39m\u001b[38;5;241m1.0\u001b[39m, verbosity\u001b[38;5;241m=\u001b[39m\u001b[38;5;241m2\u001b[39m, \u001b[38;5;241m*\u001b[39m\u001b[38;5;241m*\u001b[39mkeywords)\n",
      "\u001b[0;31mNameError\u001b[0m: name 'url' is not defined"
     ]
    }
   ],
   "source": [
    "pyvo.dal.conesearch(url, pos, radius=1.0, verbosity=2, **keywords)"
   ]
  },
  {
   "cell_type": "code",
   "execution_count": 12,
   "id": "2b70cac7-e073-4929-a355-9d60c6493bc3",
   "metadata": {
    "execution": {
     "iopub.execute_input": "2023-04-21T16:22:59.529929Z",
     "iopub.status.busy": "2023-04-21T16:22:59.529030Z",
     "iopub.status.idle": "2023-04-21T16:22:59.532792Z",
     "shell.execute_reply": "2023-04-21T16:22:59.532098Z",
     "shell.execute_reply.started": "2023-04-21T16:22:59.529901Z"
    }
   },
   "outputs": [],
   "source": [
    "# pip install --ignore-installed --no-cache-dir astro-datalab"
   ]
  },
  {
   "cell_type": "code",
   "execution_count": 14,
   "id": "cd054061-f555-4851-b554-25f384a9bb9e",
   "metadata": {
    "execution": {
     "iopub.execute_input": "2023-04-21T16:27:04.240185Z",
     "iopub.status.busy": "2023-04-21T16:27:04.239317Z",
     "iopub.status.idle": "2023-04-21T16:27:05.150110Z",
     "shell.execute_reply": "2023-04-21T16:27:05.149261Z",
     "shell.execute_reply.started": "2023-04-21T16:27:04.240155Z"
    }
   },
   "outputs": [],
   "source": [
    "data = tap.run_sync('select * from gaia_edr3.gaia_source limit 10')"
   ]
  },
  {
   "cell_type": "code",
   "execution_count": 15,
   "id": "82cebdfe-8c6b-45b7-bbc4-2c2f201b6ab0",
   "metadata": {
    "execution": {
     "iopub.execute_input": "2023-04-21T16:27:08.599420Z",
     "iopub.status.busy": "2023-04-21T16:27:08.598423Z",
     "iopub.status.idle": "2023-04-21T16:27:08.604106Z",
     "shell.execute_reply": "2023-04-21T16:27:08.603240Z",
     "shell.execute_reply.started": "2023-04-21T16:27:08.599390Z"
    }
   },
   "outputs": [
    {
     "data": {
      "text/plain": [
       "10"
      ]
     },
     "execution_count": 15,
     "metadata": {},
     "output_type": "execute_result"
    }
   ],
   "source": [
    "len(data)"
   ]
  },
  {
   "cell_type": "code",
   "execution_count": 17,
   "id": "b7e11b90-6afc-404d-9a5d-f0a982a80245",
   "metadata": {
    "execution": {
     "iopub.execute_input": "2023-04-21T16:28:05.413467Z",
     "iopub.status.busy": "2023-04-21T16:28:05.412733Z",
     "iopub.status.idle": "2023-04-21T16:28:06.190610Z",
     "shell.execute_reply": "2023-04-21T16:28:06.189774Z",
     "shell.execute_reply.started": "2023-04-21T16:28:05.413435Z"
    },
    "tags": []
   },
   "outputs": [],
   "source": [
    "data = tap.run_sync('select * from gaia_edr3.gaia_source WHERE ra > 10 limit 10')"
   ]
  },
  {
   "cell_type": "code",
   "execution_count": 18,
   "id": "c498f809-27f8-4f9e-a386-de3628943347",
   "metadata": {
    "execution": {
     "iopub.execute_input": "2023-04-21T16:28:10.059045Z",
     "iopub.status.busy": "2023-04-21T16:28:10.058724Z",
     "iopub.status.idle": "2023-04-21T16:28:10.095350Z",
     "shell.execute_reply": "2023-04-21T16:28:10.094714Z",
     "shell.execute_reply.started": "2023-04-21T16:28:10.059023Z"
    }
   },
   "outputs": [
    {
     "data": {
      "text/plain": [
       "<Table length=10>\n",
       "    solution_id          source_id      ...          designation         \n",
       "       int64               int64        ...             str29            \n",
       "------------------- ------------------- ... -----------------------------\n",
       "1636042515805110273  427660515126475136 ...  Gaia EDR3 427660515126475136\n",
       "1636042515805110273  424748041958913536 ...  Gaia EDR3 424748041958913536\n",
       "1636042515805110273  424902218408144384 ...  Gaia EDR3 424902218408144384\n",
       "1636042515805110273 2377258217878762752 ... Gaia EDR3 2377258217878762752\n",
       "1636042515805110273  424936956104905984 ...  Gaia EDR3 424936956104905984\n",
       "1636042515805110273 4979705655601388160 ... Gaia EDR3 4979705655601388160\n",
       "1636042515805110273  564658697570729728 ...  Gaia EDR3 564658697570729728\n",
       "1636042515805110273  425373943256754048 ...  Gaia EDR3 425373943256754048\n",
       "1636042515805110273  564223806361741440 ...  Gaia EDR3 564223806361741440\n",
       "1636042515805110273  527647010172049024 ...  Gaia EDR3 527647010172049024"
      ]
     },
     "execution_count": 18,
     "metadata": {},
     "output_type": "execute_result"
    }
   ],
   "source": [
    "data"
   ]
  },
  {
   "cell_type": "code",
   "execution_count": 19,
   "id": "ddb8e9ca-9971-4a98-9b66-f82ba71237f9",
   "metadata": {
    "execution": {
     "iopub.execute_input": "2023-04-21T16:28:33.514797Z",
     "iopub.status.busy": "2023-04-21T16:28:33.514478Z",
     "iopub.status.idle": "2023-04-21T16:28:33.519915Z",
     "shell.execute_reply": "2023-04-21T16:28:33.519297Z",
     "shell.execute_reply.started": "2023-04-21T16:28:33.514776Z"
    }
   },
   "outputs": [
    {
     "data": {
      "text/plain": [
       "masked_array(data=[10.000000024943867, 10.000001293576972,\n",
       "                   10.000002657023812, 10.000003825784756,\n",
       "                   10.000004351401483, 10.00000483503322,\n",
       "                   10.000005114325903, 10.000005687103036,\n",
       "                   10.000005978279127, 10.000006743523313],\n",
       "             mask=[False, False, False, False, False, False, False, False,\n",
       "                   False, False],\n",
       "       fill_value=1e+20)"
      ]
     },
     "execution_count": 19,
     "metadata": {},
     "output_type": "execute_result"
    }
   ],
   "source": [
    "data['ra']"
   ]
  },
  {
   "cell_type": "code",
   "execution_count": 22,
   "id": "c9fd3b92-29e0-4cbd-ba46-0bee930fd862",
   "metadata": {
    "execution": {
     "iopub.execute_input": "2023-04-21T16:32:56.370136Z",
     "iopub.status.busy": "2023-04-21T16:32:56.369318Z",
     "iopub.status.idle": "2023-04-21T16:32:58.724985Z",
     "shell.execute_reply": "2023-04-21T16:32:58.724170Z",
     "shell.execute_reply.started": "2023-04-21T16:32:56.370106Z"
    },
    "tags": []
   },
   "outputs": [],
   "source": [
    "data = tap.run_sync('select * from des_dr2.main WHERE ra > 60 AND ra < 61 AND dec < -35 AND dec > -36')"
   ]
  },
  {
   "cell_type": "code",
   "execution_count": 26,
   "id": "13062838-5858-4a60-b47c-972416e89049",
   "metadata": {
    "execution": {
     "iopub.execute_input": "2023-04-21T16:35:13.866631Z",
     "iopub.status.busy": "2023-04-21T16:35:13.865716Z",
     "iopub.status.idle": "2023-04-21T16:35:13.871132Z",
     "shell.execute_reply": "2023-04-21T16:35:13.870417Z",
     "shell.execute_reply.started": "2023-04-21T16:35:13.866601Z"
    },
    "tags": []
   },
   "outputs": [
    {
     "data": {
      "text/plain": [
       "1"
      ]
     },
     "execution_count": 26,
     "metadata": {},
     "output_type": "execute_result"
    }
   ],
   "source": [
    "len(data)"
   ]
  },
  {
   "cell_type": "code",
   "execution_count": 27,
   "id": "698dc0d9-e660-4b41-baa3-937ab697a9be",
   "metadata": {
    "execution": {
     "iopub.execute_input": "2023-04-21T16:58:44.368051Z",
     "iopub.status.busy": "2023-04-21T16:58:44.367096Z",
     "iopub.status.idle": "2023-04-21T16:58:44.371342Z",
     "shell.execute_reply": "2023-04-21T16:58:44.370576Z",
     "shell.execute_reply.started": "2023-04-21T16:58:44.368023Z"
    }
   },
   "outputs": [],
   "source": [
    "from lsst.rsp import get_tap_service"
   ]
  },
  {
   "cell_type": "code",
   "execution_count": 28,
   "id": "383095ee-b160-4316-bbb3-0bd10fd0e2e8",
   "metadata": {
    "execution": {
     "iopub.execute_input": "2023-04-21T16:59:06.463564Z",
     "iopub.status.busy": "2023-04-21T16:59:06.463175Z",
     "iopub.status.idle": "2023-04-21T16:59:06.548830Z",
     "shell.execute_reply": "2023-04-21T16:59:06.548010Z",
     "shell.execute_reply.started": "2023-04-21T16:59:06.463539Z"
    }
   },
   "outputs": [],
   "source": [
    "service = get_tap_service()"
   ]
  },
  {
   "cell_type": "code",
   "execution_count": null,
   "id": "0aef7849-4911-497e-bcb2-ca95179cd272",
   "metadata": {},
   "outputs": [],
   "source": []
  }
 ],
 "metadata": {
  "kernelspec": {
   "display_name": "LSST",
   "language": "python",
   "name": "lsst"
  },
  "language_info": {
   "codemirror_mode": {
    "name": "ipython",
    "version": 3
   },
   "file_extension": ".py",
   "mimetype": "text/x-python",
   "name": "python",
   "nbconvert_exporter": "python",
   "pygments_lexer": "ipython3",
   "version": "3.10.9"
  }
 },
 "nbformat": 4,
 "nbformat_minor": 5
}
