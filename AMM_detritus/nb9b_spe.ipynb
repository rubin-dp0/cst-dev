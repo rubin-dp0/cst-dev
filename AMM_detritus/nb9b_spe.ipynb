{
 "cells": [
  {
   "cell_type": "markdown",
   "id": "59c564d7-753f-4c98-b72e-df6cce1b1531",
   "metadata": {},
   "source": [
    "draft augmented version of notebook 9b using Simple Pipeline Executor (SPE)"
   ]
  },
  {
   "cell_type": "code",
   "execution_count": 17,
   "id": "af77cc06-47dc-474d-b996-ccfd890a8917",
   "metadata": {},
   "outputs": [
    {
     "name": "stdout",
     "output_type": "stream",
     "text": [
      "w_2022_40\n"
     ]
    }
   ],
   "source": [
    "# copied from existing notebooks 9a, 9b\n",
    "! echo $IMAGE_DESCRIPTION"
   ]
  },
  {
   "cell_type": "code",
   "execution_count": 18,
   "id": "fa4b5a9b-d149-4d8e-ac04-e3ed979c232d",
   "metadata": {},
   "outputs": [],
   "source": [
    "# copied from existing notebook 9a\n",
    "#import getpass\n",
    "import os\n",
    "import numpy as np\n",
    "import matplotlib\n",
    "import matplotlib.pyplot as plt\n",
    "import pandas\n",
    "from astropy.time import Time\n",
    "\n",
    "import lsst.geom\n",
    "import lsst.afw.display as afwDisplay\n",
    "from lsst.daf.butler import Butler, DatasetType, CollectionType\n",
    "from lsst.ctrl.mpexec import SimplePipelineExecutor\n",
    "from lsst.pipe.base import Pipeline, Instrument"
   ]
  },
  {
   "cell_type": "code",
   "execution_count": 19,
   "id": "54f3a4ab-f33f-40e8-a1f6-86cdc4e29968",
   "metadata": {},
   "outputs": [],
   "source": [
    "my_collection_identifier = 'custom_coadd_window1_test1'\n",
    "my_username = os.environ['USER']\n",
    "my_collection = 'u/' + my_username + '/' + my_collection_identifier"
   ]
  },
  {
   "cell_type": "code",
   "execution_count": 20,
   "id": "b9fe5ecf-d6b2-4df0-bdac-67444e694f17",
   "metadata": {},
   "outputs": [
    {
     "name": "stdout",
     "output_type": "stream",
     "text": [
      "u/ameisner/custom_coadd_window1_test1\n"
     ]
    }
   ],
   "source": [
    "print(my_collection)"
   ]
  },
  {
   "cell_type": "code",
   "execution_count": 21,
   "id": "96d436f7-fb4d-4dc6-87bf-9b8f4f3e6d2e",
   "metadata": {},
   "outputs": [],
   "source": [
    "ordered_collections_list = [my_collection, '2.2i/runs/DP0.2']\n",
    "### ordered_collections_list = ['2.2i/runs/DP0.2'] # this was just a test, don't actually want to do this !!"
   ]
  },
  {
   "cell_type": "code",
   "execution_count": 22,
   "id": "84228dfe-4b83-403f-8f5a-0ce505349358",
   "metadata": {},
   "outputs": [],
   "source": [
    "butler = Butler('dp02', collections=ordered_collections_list)"
   ]
  },
  {
   "cell_type": "code",
   "execution_count": 23,
   "id": "0239b687-0bd0-44f6-bb7a-cc4dd4671de6",
   "metadata": {},
   "outputs": [],
   "source": [
    "my_tract = 4431\n",
    "my_patch = 17\n",
    "my_visits_tupleString = '(919515,924057,924085,924086,929477,930353)' # not used until later\n",
    "my_dataId = {'band': 'i', 'tract': my_tract, 'patch': my_patch}\n",
    "my_deepCoadd = butler.get('deepCoadd', my_dataId)"
   ]
  },
  {
   "cell_type": "code",
   "execution_count": 24,
   "id": "186034e0-d69d-4708-9fb1-0585e56ef74e",
   "metadata": {},
   "outputs": [
    {
     "data": {
      "text/html": [
       "<div><i>Table length=6</i>\n",
       "<table id=\"table140314289899936\" class=\"table-striped table-bordered table-condensed\">\n",
       "<thead><tr><th>id</th><th>bbox_min_x</th><th>bbox_min_y</th><th>bbox_max_x</th><th>bbox_max_y</th><th>goodpix</th><th>weight</th><th>filter</th></tr></thead>\n",
       "<thead><tr><th></th><th>pix</th><th>pix</th><th>pix</th><th>pix</th><th></th><th></th><th></th></tr></thead>\n",
       "<thead><tr><th>int64</th><th>int32</th><th>int32</th><th>int32</th><th>int32</th><th>int32</th><th>float64</th><th>str32</th></tr></thead>\n",
       "<tr><td>919515</td><td>11900</td><td>7900</td><td>16099</td><td>12099</td><td>8982709</td><td>3.4656688819793495</td><td>i_sim_1.4</td></tr>\n",
       "<tr><td>924057</td><td>11900</td><td>7900</td><td>16099</td><td>12099</td><td>16098179</td><td>4.384267091685517</td><td>i_sim_1.4</td></tr>\n",
       "<tr><td>924085</td><td>11900</td><td>7900</td><td>16099</td><td>12099</td><td>831332</td><td>4.446833161599578</td><td>i_sim_1.4</td></tr>\n",
       "<tr><td>924086</td><td>11900</td><td>7900</td><td>16099</td><td>12099</td><td>16136708</td><td>4.550420295334223</td><td>i_sim_1.4</td></tr>\n",
       "<tr><td>929477</td><td>11900</td><td>7900</td><td>16099</td><td>12099</td><td>16280498</td><td>4.051326013718346</td><td>i_sim_1.4</td></tr>\n",
       "<tr><td>930353</td><td>11900</td><td>7900</td><td>16099</td><td>12099</td><td>16076133</td><td>3.7685753871220466</td><td>i_sim_1.4</td></tr>\n",
       "</table></div>"
      ],
      "text/plain": [
       "<Table length=6>\n",
       "  id   bbox_min_x bbox_min_y ... goodpix        weight         filter \n",
       "          pix        pix     ...                                      \n",
       "int64    int32      int32    ...  int32        float64         str32  \n",
       "------ ---------- ---------- ... -------- ------------------ ---------\n",
       "919515      11900       7900 ...  8982709 3.4656688819793495 i_sim_1.4\n",
       "924057      11900       7900 ... 16098179  4.384267091685517 i_sim_1.4\n",
       "924085      11900       7900 ...   831332  4.446833161599578 i_sim_1.4\n",
       "924086      11900       7900 ... 16136708  4.550420295334223 i_sim_1.4\n",
       "929477      11900       7900 ... 16280498  4.051326013718346 i_sim_1.4\n",
       "930353      11900       7900 ... 16076133 3.7685753871220466 i_sim_1.4"
      ]
     },
     "execution_count": 24,
     "metadata": {},
     "output_type": "execute_result"
    }
   ],
   "source": [
    "my_deepCoadd_inputs = my_deepCoadd.getInfo().getCoaddInputs()\n",
    "my_deepCoadd_inputs.visits.asAstropy()"
   ]
  },
  {
   "cell_type": "code",
   "execution_count": 25,
   "id": "be61793b-66e0-400c-a053-77f7ea4a8863",
   "metadata": {},
   "outputs": [
    {
     "data": {
      "text/plain": [
       "6"
      ]
     },
     "execution_count": 25,
     "metadata": {},
     "output_type": "execute_result"
    }
   ],
   "source": [
    "len(my_deepCoadd_inputs.visits)"
   ]
  },
  {
   "cell_type": "code",
   "execution_count": 10,
   "id": "c38340c2-3c48-4a7b-bbdb-f43f62b55976",
   "metadata": {},
   "outputs": [],
   "source": [
    "# relevant subset of $DRP_PIPE_DIR/ingredients/LSSTCam-imSim/DRP.yaml\n",
    "\n",
    "#  step3:\n",
    "#    subset:\n",
    "#      - makeWarp          ### already done in 9a\n",
    "#      - assembleCoadd     ### already done in 9a\n",
    "#      - detection\n",
    "#      - mergeDetections\n",
    "#      - deblend\n",
    "#      - measure\n",
    "#      - mergeMeasurements\n",
    "#      - forcedPhotCoadd\n",
    "#      - transformObjectTable\n",
    "#      - writeObjectTable\n",
    "#      - consolidateObjectTable\n",
    "#      - healSparsePropertyMaps    ### not necessary based on Jira ticket description\n",
    "#      - selectGoodSeeingVisits    ### not necessary based on Jira ticket description\n",
    "#      - templateGen               ### not necessary based on Jira ticket description\n",
    "#    description: |"
   ]
  },
  {
   "cell_type": "code",
   "execution_count": 26,
   "id": "51cd513a-56bc-4a54-9f10-bd945fbf08f9",
   "metadata": {},
   "outputs": [
    {
     "name": "stdout",
     "output_type": "stream",
     "text": [
      "$DRP_PIPE_DIR/ingredients/LSSTCam-imSim/DRP.yaml#detection,mergeDetections,deblend,measure,mergeMeasurements,forcedPhotCoadd,transformObjectTable,writeObjectTable,consolidateObjectTable\n"
     ]
    }
   ],
   "source": [
    "yaml_file = '$DRP_PIPE_DIR/ingredients/LSSTCam-imSim/DRP.yaml'\n",
    "steps = 'detection,mergeDetections,deblend,measure,mergeMeasurements,forcedPhotCoadd,transformObjectTable,writeObjectTable,consolidateObjectTable'\n",
    "my_uri = yaml_file + '#' + steps\n",
    "print(my_uri)"
   ]
  },
  {
   "cell_type": "code",
   "execution_count": 27,
   "id": "9be5b535-8bf6-4257-b802-5afc53da6ced",
   "metadata": {},
   "outputs": [],
   "source": [
    "myDetectionPipeline = Pipeline.from_uri(my_uri)"
   ]
  },
  {
   "cell_type": "code",
   "execution_count": 13,
   "id": "62408836-586c-41af-8445-c7d2e39767d5",
   "metadata": {},
   "outputs": [],
   "source": [
    "#configs from 9b: \n",
    "#  (1) characterizeimage -- 1 psfiteration    ### i think this is actually irrelevant when using the SPE framework?\n",
    "#  (2) detection -- thresholdValue = 10 (10 sigma)\n",
    "#  (3) detection -- thresholdType = \"stdev\""
   ]
  },
  {
   "cell_type": "code",
   "execution_count": 14,
   "id": "b5bf85b5-730a-47ac-92ec-0a7646875d58",
   "metadata": {},
   "outputs": [],
   "source": [
    "# myDetectionPipeline.addConfigOverride('CharacterizeImage', 'psfIterations', 1) # this crashes with \"LookupError: There are no tasks labeled 'CharacterizeImage' in the pipeline\"\n",
    "#myDetectionPipeline.addConfigOverride('characterizeImage', 'psfIterations', 1) # this crashes with \"LookupError: There are no tasks labeled 'characterizeImage' in the pipeline\""
   ]
  },
  {
   "cell_type": "code",
   "execution_count": 28,
   "id": "efaf8cad-aafa-4156-92c8-47253e9bbc5a",
   "metadata": {},
   "outputs": [],
   "source": [
    "myDetectionPipeline.addConfigOverride('detection', 'thresholdValue', 10)\n",
    "myDetectionPipeline.addConfigOverride('detection', 'thresholdType', \"stdev\")"
   ]
  },
  {
   "cell_type": "code",
   "execution_count": 29,
   "id": "e1597e66-c95e-46ef-854b-3220ab4396a4",
   "metadata": {},
   "outputs": [
    {
     "name": "stdout",
     "output_type": "stream",
     "text": [
      "tract = 4431 AND patch = 17 AND visit in (919515,924057,924085,924086,929477,930353) AND skymap = 'DC2'\n"
     ]
    }
   ],
   "source": [
    "queryString = f\"tract = {my_tract} AND patch = {my_patch} AND \" + \\\n",
    "              f\"visit in {my_visits_tupleString} AND skymap = 'DC2'\"\n",
    "\n",
    "print(queryString)"
   ]
  },
  {
   "cell_type": "code",
   "execution_count": 30,
   "id": "463f5b51-d088-4dba-a8f7-ccebb91c5a47",
   "metadata": {},
   "outputs": [],
   "source": [
    "my_outputCollection = 'u/ameisner/nb9a_spe'"
   ]
  },
  {
   "cell_type": "code",
   "execution_count": 31,
   "id": "8a8fae96-7a2c-41ae-a27b-44ef07915933",
   "metadata": {},
   "outputs": [],
   "source": [
    "simpleButler = SimplePipelineExecutor.prep_butler('dp02', \n",
    "                                                  inputs=ordered_collections_list, \n",
    "                                                  output=my_outputCollection)"
   ]
  },
  {
   "cell_type": "code",
   "execution_count": 32,
   "id": "f1f68143-8ce7-41b7-a11e-6e3b190a61fc",
   "metadata": {},
   "outputs": [
    {
     "data": {
      "text/plain": [
       "CollectionSearch(('u/ameisner/nb9a_spe/20230508T070540Z', 'u/ameisner/custom_coadd_window1_test1', '2.2i/runs/DP0.2'))"
      ]
     },
     "execution_count": 32,
     "metadata": {},
     "output_type": "execute_result"
    }
   ],
   "source": [
    "simpleButler.registry.getCollectionChain(my_outputCollection)"
   ]
  },
  {
   "cell_type": "code",
   "execution_count": 33,
   "id": "467bd0a4-f716-4886-97ea-2a3b9186837e",
   "metadata": {},
   "outputs": [
    {
     "name": "stdout",
     "output_type": "stream",
     "text": [
      "Found:  u/ameisner/nb9a_spe\n",
      "Found:  u/ameisner/nb9a_spe/20230508T070540Z\n"
     ]
    }
   ],
   "source": [
    "for c in sorted(simpleButler.registry.queryCollections(my_outputCollection+'*')):\n",
    "    print('Found: ', c)"
   ]
  },
  {
   "cell_type": "code",
   "execution_count": 34,
   "id": "6b0edd05-ed43-40a5-8d8b-a639dfa899d6",
   "metadata": {},
   "outputs": [
    {
     "name": "stderr",
     "output_type": "stream",
     "text": [
      "/opt/lsst/software/stack/stack/miniconda3-py38_4.9.2-4.1.0/Linux64/pipe_tasks/g369a80f31c+b9be13ffc2/python/lsst/pipe/tasks/multiBand.py:261: UserWarning: MeasureMergedCoaddSourcesConnections.defaultTemplates is deprecated and no longer used. Use MeasureMergedCoaddSourcesConfig.inputCatalog.\n",
      "  warnings.warn(\"MeasureMergedCoaddSourcesConnections.defaultTemplates is deprecated and no longer used. \"\n"
     ]
    },
    {
     "ename": "AttributeError",
     "evalue": "lsst.pipe.tasks.multiBand.DetectCoaddSourcesConfig has no attribute thresholdValue",
     "output_type": "error",
     "traceback": [
      "\u001b[0;31m---------------------------------------------------------------------------\u001b[0m",
      "\u001b[0;31mAttributeError\u001b[0m                            Traceback (most recent call last)",
      "File \u001b[0;32m<timed exec>:1\u001b[0m, in \u001b[0;36m<module>\u001b[0;34m\u001b[0m\n",
      "File \u001b[0;32m/opt/lsst/software/stack/stack/miniconda3-py38_4.9.2-4.1.0/Linux64/ctrl_mpexec/g993939a6a1+f01622d10f/python/lsst/ctrl/mpexec/simple_pipeline_executor.py:218\u001b[0m, in \u001b[0;36mSimplePipelineExecutor.from_pipeline\u001b[0;34m(cls, pipeline, where, butler, **kwargs)\u001b[0m\n\u001b[1;32m    197\u001b[0m \u001b[38;5;124;03m\"\"\"Create an executor by building a QuantumGraph from an in-memory\u001b[39;00m\n\u001b[1;32m    198\u001b[0m \u001b[38;5;124;03mpipeline.\u001b[39;00m\n\u001b[1;32m    199\u001b[0m \n\u001b[0;32m   (...)\u001b[0m\n\u001b[1;32m    215\u001b[0m \u001b[38;5;124;03m    `Butler`, ready for `run` to be called.\u001b[39;00m\n\u001b[1;32m    216\u001b[0m \u001b[38;5;124;03m\"\"\"\u001b[39;00m\n\u001b[1;32m    217\u001b[0m \u001b[38;5;28;01mif\u001b[39;00m \u001b[38;5;28misinstance\u001b[39m(pipeline, Pipeline):\n\u001b[0;32m--> 218\u001b[0m     pipeline \u001b[38;5;241m=\u001b[39m \u001b[38;5;28;43mlist\u001b[39;49m\u001b[43m(\u001b[49m\u001b[43mpipeline\u001b[49m\u001b[38;5;241;43m.\u001b[39;49m\u001b[43mtoExpandedPipeline\u001b[49m\u001b[43m(\u001b[49m\u001b[43m)\u001b[49m\u001b[43m)\u001b[49m\n\u001b[1;32m    219\u001b[0m \u001b[38;5;28;01melse\u001b[39;00m:\n\u001b[1;32m    220\u001b[0m     pipeline \u001b[38;5;241m=\u001b[39m \u001b[38;5;28mlist\u001b[39m(pipeline)\n",
      "File \u001b[0;32m/opt/lsst/software/stack/stack/miniconda3-py38_4.9.2-4.1.0/Linux64/pipe_base/gbbd6c36fd7+a713711289/python/lsst/pipe/base/pipeline.py:665\u001b[0m, in \u001b[0;36mPipeline.toExpandedPipeline\u001b[0;34m(self)\u001b[0m\n\u001b[1;32m    663\u001b[0m taskDefs \u001b[38;5;241m=\u001b[39m []\n\u001b[1;32m    664\u001b[0m \u001b[38;5;28;01mfor\u001b[39;00m label \u001b[38;5;129;01min\u001b[39;00m \u001b[38;5;28mself\u001b[39m\u001b[38;5;241m.\u001b[39m_pipelineIR\u001b[38;5;241m.\u001b[39mtasks:\n\u001b[0;32m--> 665\u001b[0m     taskDefs\u001b[38;5;241m.\u001b[39mappend(\u001b[38;5;28;43mself\u001b[39;49m\u001b[38;5;241;43m.\u001b[39;49m\u001b[43m_buildTaskDef\u001b[49m\u001b[43m(\u001b[49m\u001b[43mlabel\u001b[49m\u001b[43m)\u001b[49m)\n\u001b[1;32m    667\u001b[0m \u001b[38;5;66;03m# lets evaluate the contracts\u001b[39;00m\n\u001b[1;32m    668\u001b[0m \u001b[38;5;28;01mif\u001b[39;00m \u001b[38;5;28mself\u001b[39m\u001b[38;5;241m.\u001b[39m_pipelineIR\u001b[38;5;241m.\u001b[39mcontracts \u001b[38;5;129;01mis\u001b[39;00m \u001b[38;5;129;01mnot\u001b[39;00m \u001b[38;5;28;01mNone\u001b[39;00m:\n",
      "File \u001b[0;32m/opt/lsst/software/stack/stack/miniconda3-py38_4.9.2-4.1.0/Linux64/pipe_base/gbbd6c36fd7+a713711289/python/lsst/pipe/base/pipeline.py:708\u001b[0m, in \u001b[0;36mPipeline._buildTaskDef\u001b[0;34m(self, label)\u001b[0m\n\u001b[1;32m    706\u001b[0m             \u001b[38;5;28;01mfor\u001b[39;00m key, value \u001b[38;5;129;01min\u001b[39;00m configIR\u001b[38;5;241m.\u001b[39mrest\u001b[38;5;241m.\u001b[39mitems():\n\u001b[1;32m    707\u001b[0m                 overrides\u001b[38;5;241m.\u001b[39maddValueOverride(key, value)\n\u001b[0;32m--> 708\u001b[0m \u001b[43moverrides\u001b[49m\u001b[38;5;241;43m.\u001b[39;49m\u001b[43mapplyTo\u001b[49m\u001b[43m(\u001b[49m\u001b[43mconfig\u001b[49m\u001b[43m)\u001b[49m\n\u001b[1;32m    709\u001b[0m \u001b[38;5;28;01mreturn\u001b[39;00m TaskDef(taskName\u001b[38;5;241m=\u001b[39mtaskName, config\u001b[38;5;241m=\u001b[39mconfig, taskClass\u001b[38;5;241m=\u001b[39mtaskClass, label\u001b[38;5;241m=\u001b[39mlabel)\n",
      "File \u001b[0;32m/opt/lsst/software/stack/stack/miniconda3-py38_4.9.2-4.1.0/Linux64/pipe_base/gbbd6c36fd7+a713711289/python/lsst/pipe/base/configOverrides.py:285\u001b[0m, in \u001b[0;36mConfigOverrides.applyTo\u001b[0;34m(self, config)\u001b[0m\n\u001b[1;32m    283\u001b[0m         tmpConfig \u001b[38;5;241m=\u001b[39m config\n\u001b[1;32m    284\u001b[0m     \u001b[38;5;66;03m# set the specified config\u001b[39;00m\n\u001b[0;32m--> 285\u001b[0m     \u001b[38;5;28;43msetattr\u001b[39;49m\u001b[43m(\u001b[49m\u001b[43mtmpConfig\u001b[49m\u001b[43m,\u001b[49m\u001b[43m \u001b[49m\u001b[43mfinalField\u001b[49m\u001b[43m,\u001b[49m\u001b[43m \u001b[49m\u001b[43mvalue\u001b[49m\u001b[43m)\u001b[49m\n\u001b[1;32m    287\u001b[0m \u001b[38;5;28;01melif\u001b[39;00m otype \u001b[38;5;129;01mis\u001b[39;00m OverrideTypes\u001b[38;5;241m.\u001b[39mPython:\n\u001b[1;32m    288\u001b[0m     \u001b[38;5;66;03m# exec python string with the context of all vars known. This\u001b[39;00m\n\u001b[1;32m    289\u001b[0m     \u001b[38;5;66;03m# both lets people use a var they know about (maybe a bit\u001b[39;00m\n\u001b[0;32m   (...)\u001b[0m\n\u001b[1;32m    294\u001b[0m     \u001b[38;5;66;03m# other config setting branches can make use of these\u001b[39;00m\n\u001b[1;32m    295\u001b[0m     \u001b[38;5;66;03m# variables.\u001b[39;00m\n\u001b[1;32m    296\u001b[0m     exec(override, \u001b[38;5;28;01mNone\u001b[39;00m, \u001b[38;5;28mvars\u001b[39m)\n",
      "File \u001b[0;32m/opt/lsst/software/stack/stack/miniconda3-py38_4.9.2-4.1.0/Linux64/pex_config/g71c1dbb2b5+9a7299d786/python/lsst/pex/config/config.py:1556\u001b[0m, in \u001b[0;36mConfig.__setattr__\u001b[0;34m(self, attr, value, at, label)\u001b[0m\n\u001b[1;32m   1553\u001b[0m     \u001b[38;5;28mself\u001b[39m\u001b[38;5;241m.\u001b[39m\u001b[38;5;18m__dict__\u001b[39m[attr] \u001b[38;5;241m=\u001b[39m value\n\u001b[1;32m   1554\u001b[0m \u001b[38;5;28;01melse\u001b[39;00m:\n\u001b[1;32m   1555\u001b[0m     \u001b[38;5;66;03m# We throw everything else.\u001b[39;00m\n\u001b[0;32m-> 1556\u001b[0m     \u001b[38;5;28;01mraise\u001b[39;00m \u001b[38;5;167;01mAttributeError\u001b[39;00m(\u001b[38;5;124m\"\u001b[39m\u001b[38;5;132;01m%s\u001b[39;00m\u001b[38;5;124m has no attribute \u001b[39m\u001b[38;5;132;01m%s\u001b[39;00m\u001b[38;5;124m\"\u001b[39m \u001b[38;5;241m%\u001b[39m (_typeStr(\u001b[38;5;28mself\u001b[39m), attr))\n",
      "\u001b[0;31mAttributeError\u001b[0m: lsst.pipe.tasks.multiBand.DetectCoaddSourcesConfig has no attribute thresholdValue"
     ]
    }
   ],
   "source": [
    "%%time\n",
    "spe = SimplePipelineExecutor.from_pipeline(myDetectionPipeline, \n",
    "                                           where=queryString, \n",
    "                                           butler=simpleButler)"
   ]
  },
  {
   "cell_type": "code",
   "execution_count": null,
   "id": "8ef53e02-59b9-4c6e-962d-73dcebf1a7ac",
   "metadata": {},
   "outputs": [],
   "source": []
  }
 ],
 "metadata": {
  "kernelspec": {
   "display_name": "LSST",
   "language": "python",
   "name": "lsst"
  },
  "language_info": {
   "codemirror_mode": {
    "name": "ipython",
    "version": 3
   },
   "file_extension": ".py",
   "mimetype": "text/x-python",
   "name": "python",
   "nbconvert_exporter": "python",
   "pygments_lexer": "ipython3",
   "version": "3.10.5"
  }
 },
 "nbformat": 4,
 "nbformat_minor": 5
}
