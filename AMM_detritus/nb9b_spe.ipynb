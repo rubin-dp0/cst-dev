{
 "cells": [
  {
   "cell_type": "markdown",
   "id": "59c564d7-753f-4c98-b72e-df6cce1b1531",
   "metadata": {},
   "source": [
    "draft augmented version of notebook 9b using Simple Pipeline Executor (SPE)"
   ]
  },
  {
   "cell_type": "code",
   "execution_count": 1,
   "id": "af77cc06-47dc-474d-b996-ccfd890a8917",
   "metadata": {},
   "outputs": [
    {
     "name": "stdout",
     "output_type": "stream",
     "text": [
      "w_2022_40\n"
     ]
    }
   ],
   "source": [
    "# copied from existing notebooks 9a, 9b\n",
    "! echo $IMAGE_DESCRIPTION"
   ]
  },
  {
   "cell_type": "code",
   "execution_count": 2,
   "id": "fa4b5a9b-d149-4d8e-ac04-e3ed979c232d",
   "metadata": {},
   "outputs": [],
   "source": [
    "# copied from existing notebook 9a\n",
    "#import getpass\n",
    "import os\n",
    "import numpy as np\n",
    "import matplotlib\n",
    "import matplotlib.pyplot as plt\n",
    "import pandas\n",
    "from astropy.time import Time\n",
    "\n",
    "import lsst.geom\n",
    "import lsst.afw.display as afwDisplay\n",
    "from lsst.daf.butler import Butler, DatasetType, CollectionType\n",
    "from lsst.ctrl.mpexec import SimplePipelineExecutor\n",
    "from lsst.pipe.base import Pipeline, Instrument"
   ]
  },
  {
   "cell_type": "code",
   "execution_count": 3,
   "id": "54f3a4ab-f33f-40e8-a1f6-86cdc4e29968",
   "metadata": {},
   "outputs": [],
   "source": [
    "my_collection_identifier = 'custom_coadd_window1_test1'\n",
    "my_username = os.environ['USER']\n",
    "my_collection = 'u/' + my_username + '/' + my_collection_identifier"
   ]
  },
  {
   "cell_type": "code",
   "execution_count": 4,
   "id": "b9fe5ecf-d6b2-4df0-bdac-67444e694f17",
   "metadata": {},
   "outputs": [
    {
     "name": "stdout",
     "output_type": "stream",
     "text": [
      "u/ameisner/custom_coadd_window1_test1\n"
     ]
    }
   ],
   "source": [
    "print(my_collection)"
   ]
  },
  {
   "cell_type": "code",
   "execution_count": 5,
   "id": "96d436f7-fb4d-4dc6-87bf-9b8f4f3e6d2e",
   "metadata": {},
   "outputs": [],
   "source": [
    "ordered_collections_list = [my_collection, '2.2i/runs/DP0.2']\n",
    "### ordered_collections_list = ['2.2i/runs/DP0.2'] # this was just a test, don't actually want to do this !!"
   ]
  },
  {
   "cell_type": "code",
   "execution_count": 6,
   "id": "84228dfe-4b83-403f-8f5a-0ce505349358",
   "metadata": {},
   "outputs": [],
   "source": [
    "butler = Butler('dp02', collections=ordered_collections_list)"
   ]
  },
  {
   "cell_type": "code",
   "execution_count": 7,
   "id": "0239b687-0bd0-44f6-bb7a-cc4dd4671de6",
   "metadata": {},
   "outputs": [],
   "source": [
    "my_tract = 4431\n",
    "my_patch = 17\n",
    "my_visits_tupleString = '(919515,924057,924085,924086,929477,930353)' # not used until later\n",
    "my_dataId = {'band': 'i', 'tract': my_tract, 'patch': my_patch}\n",
    "my_deepCoadd = butler.get('deepCoadd', my_dataId)"
   ]
  },
  {
   "cell_type": "code",
   "execution_count": 8,
   "id": "186034e0-d69d-4708-9fb1-0585e56ef74e",
   "metadata": {},
   "outputs": [
    {
     "data": {
      "text/html": [
       "<div><i>Table length=6</i>\n",
       "<table id=\"table140211523991584\" class=\"table-striped table-bordered table-condensed\">\n",
       "<thead><tr><th>id</th><th>bbox_min_x</th><th>bbox_min_y</th><th>bbox_max_x</th><th>bbox_max_y</th><th>goodpix</th><th>weight</th><th>filter</th></tr></thead>\n",
       "<thead><tr><th></th><th>pix</th><th>pix</th><th>pix</th><th>pix</th><th></th><th></th><th></th></tr></thead>\n",
       "<thead><tr><th>int64</th><th>int32</th><th>int32</th><th>int32</th><th>int32</th><th>int32</th><th>float64</th><th>str32</th></tr></thead>\n",
       "<tr><td>919515</td><td>11900</td><td>7900</td><td>16099</td><td>12099</td><td>8982709</td><td>3.4656688819793495</td><td>i_sim_1.4</td></tr>\n",
       "<tr><td>924057</td><td>11900</td><td>7900</td><td>16099</td><td>12099</td><td>16098179</td><td>4.384267091685517</td><td>i_sim_1.4</td></tr>\n",
       "<tr><td>924085</td><td>11900</td><td>7900</td><td>16099</td><td>12099</td><td>831332</td><td>4.446833161599578</td><td>i_sim_1.4</td></tr>\n",
       "<tr><td>924086</td><td>11900</td><td>7900</td><td>16099</td><td>12099</td><td>16136708</td><td>4.550420295334223</td><td>i_sim_1.4</td></tr>\n",
       "<tr><td>929477</td><td>11900</td><td>7900</td><td>16099</td><td>12099</td><td>16280498</td><td>4.051326013718346</td><td>i_sim_1.4</td></tr>\n",
       "<tr><td>930353</td><td>11900</td><td>7900</td><td>16099</td><td>12099</td><td>16076133</td><td>3.7685753871220466</td><td>i_sim_1.4</td></tr>\n",
       "</table></div>"
      ],
      "text/plain": [
       "<Table length=6>\n",
       "  id   bbox_min_x bbox_min_y ... goodpix        weight         filter \n",
       "          pix        pix     ...                                      \n",
       "int64    int32      int32    ...  int32        float64         str32  \n",
       "------ ---------- ---------- ... -------- ------------------ ---------\n",
       "919515      11900       7900 ...  8982709 3.4656688819793495 i_sim_1.4\n",
       "924057      11900       7900 ... 16098179  4.384267091685517 i_sim_1.4\n",
       "924085      11900       7900 ...   831332  4.446833161599578 i_sim_1.4\n",
       "924086      11900       7900 ... 16136708  4.550420295334223 i_sim_1.4\n",
       "929477      11900       7900 ... 16280498  4.051326013718346 i_sim_1.4\n",
       "930353      11900       7900 ... 16076133 3.7685753871220466 i_sim_1.4"
      ]
     },
     "execution_count": 8,
     "metadata": {},
     "output_type": "execute_result"
    }
   ],
   "source": [
    "my_deepCoadd_inputs = my_deepCoadd.getInfo().getCoaddInputs()\n",
    "my_deepCoadd_inputs.visits.asAstropy()"
   ]
  },
  {
   "cell_type": "code",
   "execution_count": 9,
   "id": "be61793b-66e0-400c-a053-77f7ea4a8863",
   "metadata": {},
   "outputs": [
    {
     "data": {
      "text/plain": [
       "6"
      ]
     },
     "execution_count": 9,
     "metadata": {},
     "output_type": "execute_result"
    }
   ],
   "source": [
    "len(my_deepCoadd_inputs.visits)"
   ]
  },
  {
   "cell_type": "code",
   "execution_count": 10,
   "id": "c38340c2-3c48-4a7b-bbdb-f43f62b55976",
   "metadata": {},
   "outputs": [],
   "source": [
    "# relevant subset of $DRP_PIPE_DIR/ingredients/LSSTCam-imSim/DRP.yaml\n",
    "\n",
    "#  step3:\n",
    "#    subset:\n",
    "#      - makeWarp          ### already done in 9a\n",
    "#      - assembleCoadd     ### already done in 9a\n",
    "#      - detection\n",
    "#      - mergeDetections\n",
    "#      - deblend\n",
    "#      - measure\n",
    "#      - mergeMeasurements\n",
    "#      - forcedPhotCoadd\n",
    "#      - transformObjectTable\n",
    "#      - writeObjectTable\n",
    "#      - consolidateObjectTable\n",
    "#      - healSparsePropertyMaps    ### not necessary based on Jira ticket description\n",
    "#      - selectGoodSeeingVisits    ### not necessary based on Jira ticket description\n",
    "#      - templateGen               ### not necessary based on Jira ticket description\n",
    "#    description: |"
   ]
  },
  {
   "cell_type": "code",
   "execution_count": 12,
   "id": "51cd513a-56bc-4a54-9f10-bd945fbf08f9",
   "metadata": {},
   "outputs": [
    {
     "name": "stdout",
     "output_type": "stream",
     "text": [
      "$DRP_PIPE_DIR/ingredients/LSSTCam-imSim/DRP.yaml#detection,mergeDetections,deblend,measure,mergeMeasurements,forcedPhotCoadd,transformObjectTable,writeObjectTable,consolidateObjectTable\n"
     ]
    }
   ],
   "source": [
    "yaml_file = '$DRP_PIPE_DIR/ingredients/LSSTCam-imSim/DRP.yaml'\n",
    "steps = 'detection' # try this as an initial test case\n",
    "# steps = 'detection,mergeDetections,deblend,measure,mergeMeasurements,forcedPhotCoadd,transformObjectTable,writeObjectTable,consolidateObjectTable'\n",
    "my_uri = yaml_file + '#' + steps\n",
    "print(my_uri)"
   ]
  },
  {
   "cell_type": "code",
   "execution_count": 13,
   "id": "9be5b535-8bf6-4257-b802-5afc53da6ced",
   "metadata": {},
   "outputs": [],
   "source": [
    "myDetectionPipeline = Pipeline.from_uri(my_uri)"
   ]
  },
  {
   "cell_type": "code",
   "execution_count": 13,
   "id": "62408836-586c-41af-8445-c7d2e39767d5",
   "metadata": {},
   "outputs": [],
   "source": [
    "#configs from 9b: \n",
    "#  (1) characterizeimage -- 1 psfiteration    ### i think this is actually irrelevant when using the SPE framework?\n",
    "#  (2) detection -- thresholdValue = 10 (10 sigma)\n",
    "#  (3) detection -- thresholdType = \"stdev\""
   ]
  },
  {
   "cell_type": "code",
   "execution_count": 14,
   "id": "b5bf85b5-730a-47ac-92ec-0a7646875d58",
   "metadata": {},
   "outputs": [],
   "source": [
    "# myDetectionPipeline.addConfigOverride('CharacterizeImage', 'psfIterations', 1) # this crashes with \"LookupError: There are no tasks labeled 'CharacterizeImage' in the pipeline\"\n",
    "#myDetectionPipeline.addConfigOverride('characterizeImage', 'psfIterations', 1) # this crashes with \"LookupError: There are no tasks labeled 'characterizeImage' in the pipeline\""
   ]
  },
  {
   "cell_type": "code",
   "execution_count": 14,
   "id": "efaf8cad-aafa-4156-92c8-47253e9bbc5a",
   "metadata": {},
   "outputs": [
    {
     "data": {
      "text/plain": [
       "\u001b[0;31mSignature:\u001b[0m\n",
       "\u001b[0mmyDetectionPipeline\u001b[0m\u001b[0;34m.\u001b[0m\u001b[0maddConfigOverride\u001b[0m\u001b[0;34m(\u001b[0m\u001b[0;34m\u001b[0m\n",
       "\u001b[0;34m\u001b[0m    \u001b[0mlabel\u001b[0m\u001b[0;34m:\u001b[0m \u001b[0;34m'str'\u001b[0m\u001b[0;34m,\u001b[0m\u001b[0;34m\u001b[0m\n",
       "\u001b[0;34m\u001b[0m    \u001b[0mkey\u001b[0m\u001b[0;34m:\u001b[0m \u001b[0;34m'str'\u001b[0m\u001b[0;34m,\u001b[0m\u001b[0;34m\u001b[0m\n",
       "\u001b[0;34m\u001b[0m    \u001b[0mvalue\u001b[0m\u001b[0;34m:\u001b[0m \u001b[0;34m'object'\u001b[0m\u001b[0;34m,\u001b[0m\u001b[0;34m\u001b[0m\n",
       "\u001b[0;34m\u001b[0m\u001b[0;34m)\u001b[0m \u001b[0;34m->\u001b[0m \u001b[0;34m'None'\u001b[0m\u001b[0;34m\u001b[0m\u001b[0;34m\u001b[0m\u001b[0m\n",
       "\u001b[0;31mDocstring:\u001b[0m\n",
       "Apply single config override.\n",
       "\n",
       "Parameters\n",
       "----------\n",
       "label : `str`\n",
       "    Label of the task.\n",
       "key: `str`\n",
       "    Fully-qualified field name.\n",
       "value : object\n",
       "    Value to be given to a field.\n",
       "\u001b[0;31mFile:\u001b[0m      /opt/lsst/software/stack/stack/miniconda3-py38_4.9.2-4.1.0/Linux64/pipe_base/gbbd6c36fd7+a713711289/python/lsst/pipe/base/pipeline.py\n",
       "\u001b[0;31mType:\u001b[0m      method\n"
      ]
     },
     "metadata": {},
     "output_type": "display_data"
    }
   ],
   "source": [
    "myDetectionPipeline.addConfigOverride('detection', 'detection.thresholdValue', 10)\n",
    "#myDetectionPipeline.addConfigOverride('detection', 'detection.thresholdType', \"stdev\")\n",
    "?myDetectionPipeline.addConfigOverride"
   ]
  },
  {
   "cell_type": "code",
   "execution_count": 15,
   "id": "e1597e66-c95e-46ef-854b-3220ab4396a4",
   "metadata": {},
   "outputs": [
    {
     "name": "stdout",
     "output_type": "stream",
     "text": [
      "tract = 4431 AND patch = 17 AND visit in (919515,924057,924085,924086,929477,930353) AND skymap = 'DC2'\n"
     ]
    }
   ],
   "source": [
    "queryString = f\"tract = {my_tract} AND patch = {my_patch} AND \" + \\\n",
    "              f\"visit in {my_visits_tupleString} AND skymap = 'DC2'\"\n",
    "\n",
    "print(queryString)"
   ]
  },
  {
   "cell_type": "code",
   "execution_count": 16,
   "id": "463f5b51-d088-4dba-a8f7-ccebb91c5a47",
   "metadata": {},
   "outputs": [],
   "source": [
    "my_outputCollection = 'u/ameisner/nb9a_spe'"
   ]
  },
  {
   "cell_type": "code",
   "execution_count": 17,
   "id": "8a8fae96-7a2c-41ae-a27b-44ef07915933",
   "metadata": {},
   "outputs": [],
   "source": [
    "simpleButler = SimplePipelineExecutor.prep_butler('dp02', \n",
    "                                                  inputs=ordered_collections_list, \n",
    "                                                  output=my_outputCollection)"
   ]
  },
  {
   "cell_type": "code",
   "execution_count": 18,
   "id": "f1f68143-8ce7-41b7-a11e-6e3b190a61fc",
   "metadata": {},
   "outputs": [
    {
     "data": {
      "text/plain": [
       "CollectionSearch(('u/ameisner/nb9a_spe/20230508T072348Z', 'u/ameisner/custom_coadd_window1_test1', '2.2i/runs/DP0.2'))"
      ]
     },
     "execution_count": 18,
     "metadata": {},
     "output_type": "execute_result"
    }
   ],
   "source": [
    "simpleButler.registry.getCollectionChain(my_outputCollection)"
   ]
  },
  {
   "cell_type": "code",
   "execution_count": 19,
   "id": "467bd0a4-f716-4886-97ea-2a3b9186837e",
   "metadata": {},
   "outputs": [
    {
     "name": "stdout",
     "output_type": "stream",
     "text": [
      "Found:  u/ameisner/nb9a_spe\n",
      "Found:  u/ameisner/nb9a_spe/20230508T070540Z\n",
      "Found:  u/ameisner/nb9a_spe/20230508T071351Z\n",
      "Found:  u/ameisner/nb9a_spe/20230508T072348Z\n"
     ]
    }
   ],
   "source": [
    "for c in sorted(simpleButler.registry.queryCollections(my_outputCollection+'*')):\n",
    "    print('Found: ', c)"
   ]
  },
  {
   "cell_type": "code",
   "execution_count": 20,
   "id": "6b0edd05-ed43-40a5-8d8b-a639dfa899d6",
   "metadata": {},
   "outputs": [
    {
     "name": "stderr",
     "output_type": "stream",
     "text": [
      "/opt/lsst/software/stack/stack/miniconda3-py38_4.9.2-4.1.0/Linux64/pipe_tasks/g369a80f31c+b9be13ffc2/python/lsst/pipe/tasks/multiBand.py:261: UserWarning: MeasureMergedCoaddSourcesConnections.defaultTemplates is deprecated and no longer used. Use MeasureMergedCoaddSourcesConfig.inputCatalog.\n",
      "  warnings.warn(\"MeasureMergedCoaddSourcesConnections.defaultTemplates is deprecated and no longer used. \"\n",
      "/opt/lsst/software/stack/stack/miniconda3-py38_4.9.2-4.1.0/Linux64/pex_config/g71c1dbb2b5+9a7299d786/python/lsst/pex/config/configurableField.py:79: FutureWarning: Call to deprecated class LoadIndexedReferenceObjectsConfig. (This config is no longer used; it will be removed after v25. Please use LoadReferenceObjectsConfig instead.) -- Deprecated since version v25.0.\n",
      "  value = self._ConfigClass(__name=name, __at=at, __label=label, **storage)\n",
      "/opt/lsst/software/stack/stack/miniconda3-py38_4.9.2-4.1.0/Linux64/pex_config/g71c1dbb2b5+9a7299d786/python/lsst/pex/config/configurableField.py:359: FutureWarning: Call to deprecated class LoadIndexedReferenceObjectsConfig. (This config is no longer used; it will be removed after v25. Please use LoadReferenceObjectsConfig instead.) -- Deprecated since version v25.0.\n",
      "  value = oldValue.ConfigClass()\n"
     ]
    },
    {
     "name": "stdout",
     "output_type": "stream",
     "text": [
      "Overriding default configuration file with /opt/lsst/software/stack/stack/miniconda3-py38_4.9.2-4.1.0/Linux64/dustmaps_cachedata/g41a3ec361e+62d12e78cb/config/.dustmapsrc\n"
     ]
    },
    {
     "data": {
      "text/html": [
       "<pre style=\"margin: 0.1em;\n",
       "padding-left: 0.25em;\n",
       "border-left-style: solid;\n",
       "font-family: var(--jp-code-font-family);\n",
       "font-size: var(--jp-code-font-size);\n",
       "line-height: var(--jp-code-line-height);\n",
       "\"><span style=\"color: var(--jp-warn-color2)\">lsst.pipe.base.graphBuilder</span> <span style=\"color: var(--jp-warn-color0)\">WARNING</span>: No datasets of type finalized_src_table in collection &#x27;u/ameisner/nb9a_spe/20230508T072348Z&#x27;.</pre>"
      ],
      "text/plain": [
       "<IPython.core.display.HTML object>"
      ]
     },
     "metadata": {},
     "output_type": "display_data"
    },
    {
     "data": {
      "text/html": [
       "<pre style=\"margin: 0.1em;\n",
       "padding-left: 0.25em;\n",
       "border-left-style: solid;\n",
       "font-family: var(--jp-code-font-family);\n",
       "font-size: var(--jp-code-font-size);\n",
       "line-height: var(--jp-code-line-height);\n",
       "\"><span style=\"color: var(--jp-warn-color2)\">lsst.pipe.base.graphBuilder</span> <span style=\"color: var(--jp-warn-color0)\">WARNING</span>: No datasets of type finalized_src_table in collection &#x27;u/ameisner/custom_coadd_window1_test1/20230507T122237Z&#x27;.</pre>"
      ],
      "text/plain": [
       "<IPython.core.display.HTML object>"
      ]
     },
     "metadata": {},
     "output_type": "display_data"
    },
    {
     "data": {
      "text/html": [
       "<pre style=\"margin: 0.1em;\n",
       "padding-left: 0.25em;\n",
       "border-left-style: solid;\n",
       "font-family: var(--jp-code-font-family);\n",
       "font-size: var(--jp-code-font-size);\n",
       "line-height: var(--jp-code-line-height);\n",
       "\"><span style=\"color: var(--jp-warn-color2)\">lsst.pipe.base.graphBuilder</span> <span style=\"color: var(--jp-warn-color0)\">WARNING</span>: No datasets of type finalized_src_table in collection &#x27;2.2i/runs/DP0.2/w_2022_22/PREOPS-1209/20220601T202430Z&#x27;.</pre>"
      ],
      "text/plain": [
       "<IPython.core.display.HTML object>"
      ]
     },
     "metadata": {},
     "output_type": "display_data"
    },
    {
     "data": {
      "text/html": [
       "<pre style=\"margin: 0.1em;\n",
       "padding-left: 0.25em;\n",
       "border-left-style: solid;\n",
       "font-family: var(--jp-code-font-family);\n",
       "font-size: var(--jp-code-font-size);\n",
       "line-height: var(--jp-code-line-height);\n",
       "\"><span style=\"color: var(--jp-warn-color2)\">lsst.pipe.base.graphBuilder</span> <span style=\"color: var(--jp-warn-color0)\">WARNING</span>: No datasets of type finalized_src_table in collection &#x27;2.2i/runs/DP0.2/w_2022_22/PREOPS-1209/20220602T165151Z&#x27;.</pre>"
      ],
      "text/plain": [
       "<IPython.core.display.HTML object>"
      ]
     },
     "metadata": {},
     "output_type": "display_data"
    },
    {
     "data": {
      "text/html": [
       "<pre style=\"margin: 0.1em;\n",
       "padding-left: 0.25em;\n",
       "border-left-style: solid;\n",
       "font-family: var(--jp-code-font-family);\n",
       "font-size: var(--jp-code-font-size);\n",
       "line-height: var(--jp-code-line-height);\n",
       "\"><span style=\"color: var(--jp-warn-color2)\">lsst.pipe.base.graphBuilder</span> <span style=\"color: var(--jp-warn-color0)\">WARNING</span>: No datasets of type finalized_src_table in collection &#x27;2.2i/runs/DP0.2/v23_0_2/PREOPS-905/step7/20220501T161443Z&#x27;.</pre>"
      ],
      "text/plain": [
       "<IPython.core.display.HTML object>"
      ]
     },
     "metadata": {},
     "output_type": "display_data"
    },
    {
     "data": {
      "text/html": [
       "<pre style=\"margin: 0.1em;\n",
       "padding-left: 0.25em;\n",
       "border-left-style: solid;\n",
       "font-family: var(--jp-code-font-family);\n",
       "font-size: var(--jp-code-font-size);\n",
       "line-height: var(--jp-code-line-height);\n",
       "\"><span style=\"color: var(--jp-warn-color2)\">lsst.pipe.base.graphBuilder</span> <span style=\"color: var(--jp-warn-color0)\">WARNING</span>: No datasets of type finalized_src_table in collection &#x27;2.2i/runs/DP0.2/v23_0_2/PREOPS-905/step6_1/20220512T201515Z&#x27;.</pre>"
      ],
      "text/plain": [
       "<IPython.core.display.HTML object>"
      ]
     },
     "metadata": {},
     "output_type": "display_data"
    },
    {
     "data": {
      "text/html": [
       "<pre style=\"margin: 0.1em;\n",
       "padding-left: 0.25em;\n",
       "border-left-style: solid;\n",
       "font-family: var(--jp-code-font-family);\n",
       "font-size: var(--jp-code-font-size);\n",
       "line-height: var(--jp-code-line-height);\n",
       "\"><span style=\"color: var(--jp-warn-color2)\">lsst.pipe.base.graphBuilder</span> <span style=\"color: var(--jp-warn-color0)\">WARNING</span>: No datasets of type finalized_src_table in collection &#x27;2.2i/runs/DP0.2/v23_0_2/PREOPS-905/step6_10/20220514T021220Z&#x27;.</pre>"
      ],
      "text/plain": [
       "<IPython.core.display.HTML object>"
      ]
     },
     "metadata": {},
     "output_type": "display_data"
    },
    {
     "data": {
      "text/html": [
       "<pre style=\"margin: 0.1em;\n",
       "padding-left: 0.25em;\n",
       "border-left-style: solid;\n",
       "font-family: var(--jp-code-font-family);\n",
       "font-size: var(--jp-code-font-size);\n",
       "line-height: var(--jp-code-line-height);\n",
       "\"><span style=\"color: var(--jp-warn-color2)\">lsst.pipe.base.graphBuilder</span> <span style=\"color: var(--jp-warn-color0)\">WARNING</span>: No datasets of type finalized_src_table in collection &#x27;2.2i/runs/DP0.2/v23_0_2/PREOPS-905/step6_11/20220514T051259Z&#x27;.</pre>"
      ],
      "text/plain": [
       "<IPython.core.display.HTML object>"
      ]
     },
     "metadata": {},
     "output_type": "display_data"
    },
    {
     "data": {
      "text/html": [
       "<pre style=\"margin: 0.1em;\n",
       "padding-left: 0.25em;\n",
       "border-left-style: solid;\n",
       "font-family: var(--jp-code-font-family);\n",
       "font-size: var(--jp-code-font-size);\n",
       "line-height: var(--jp-code-line-height);\n",
       "\"><span style=\"color: var(--jp-warn-color2)\">lsst.pipe.base.graphBuilder</span> <span style=\"color: var(--jp-warn-color0)\">WARNING</span>: No datasets of type finalized_src_table in collection &#x27;2.2i/runs/DP0.2/v23_0_2/PREOPS-905/step6_12/20220514T081014Z&#x27;.</pre>"
      ],
      "text/plain": [
       "<IPython.core.display.HTML object>"
      ]
     },
     "metadata": {},
     "output_type": "display_data"
    },
    {
     "data": {
      "text/html": [
       "<pre style=\"margin: 0.1em;\n",
       "padding-left: 0.25em;\n",
       "border-left-style: solid;\n",
       "font-family: var(--jp-code-font-family);\n",
       "font-size: var(--jp-code-font-size);\n",
       "line-height: var(--jp-code-line-height);\n",
       "\"><span style=\"color: var(--jp-warn-color2)\">lsst.pipe.base.graphBuilder</span> <span style=\"color: var(--jp-warn-color0)\">WARNING</span>: No datasets of type finalized_src_table in collection &#x27;2.2i/runs/DP0.2/v23_0_2/PREOPS-905/step6_13/20220514T110509Z&#x27;.</pre>"
      ],
      "text/plain": [
       "<IPython.core.display.HTML object>"
      ]
     },
     "metadata": {},
     "output_type": "display_data"
    },
    {
     "data": {
      "text/html": [
       "<pre style=\"margin: 0.1em;\n",
       "padding-left: 0.25em;\n",
       "border-left-style: solid;\n",
       "font-family: var(--jp-code-font-family);\n",
       "font-size: var(--jp-code-font-size);\n",
       "line-height: var(--jp-code-line-height);\n",
       "\"><span style=\"color: var(--jp-warn-color2)\">lsst.pipe.base.graphBuilder</span> <span style=\"color: var(--jp-warn-color0)\">WARNING</span>: No datasets of type finalized_src_table in collection &#x27;2.2i/runs/DP0.2/v23_0_2/PREOPS-905/step6_14/20220514T140812Z&#x27;.</pre>"
      ],
      "text/plain": [
       "<IPython.core.display.HTML object>"
      ]
     },
     "metadata": {},
     "output_type": "display_data"
    },
    {
     "data": {
      "text/html": [
       "<pre style=\"margin: 0.1em;\n",
       "padding-left: 0.25em;\n",
       "border-left-style: solid;\n",
       "font-family: var(--jp-code-font-family);\n",
       "font-size: var(--jp-code-font-size);\n",
       "line-height: var(--jp-code-line-height);\n",
       "\"><span style=\"color: var(--jp-warn-color2)\">lsst.pipe.base.graphBuilder</span> <span style=\"color: var(--jp-warn-color0)\">WARNING</span>: No datasets of type finalized_src_table in collection &#x27;2.2i/runs/DP0.2/v23_0_2/PREOPS-905/step6_15/20220514T171751Z&#x27;.</pre>"
      ],
      "text/plain": [
       "<IPython.core.display.HTML object>"
      ]
     },
     "metadata": {},
     "output_type": "display_data"
    },
    {
     "data": {
      "text/html": [
       "<pre style=\"margin: 0.1em;\n",
       "padding-left: 0.25em;\n",
       "border-left-style: solid;\n",
       "font-family: var(--jp-code-font-family);\n",
       "font-size: var(--jp-code-font-size);\n",
       "line-height: var(--jp-code-line-height);\n",
       "\"><span style=\"color: var(--jp-warn-color2)\">lsst.pipe.base.graphBuilder</span> <span style=\"color: var(--jp-warn-color0)\">WARNING</span>: No datasets of type finalized_src_table in collection &#x27;2.2i/runs/DP0.2/v23_0_2/PREOPS-905/step6_16/20220514T201929Z&#x27;.</pre>"
      ],
      "text/plain": [
       "<IPython.core.display.HTML object>"
      ]
     },
     "metadata": {},
     "output_type": "display_data"
    },
    {
     "data": {
      "text/html": [
       "<pre style=\"margin: 0.1em;\n",
       "padding-left: 0.25em;\n",
       "border-left-style: solid;\n",
       "font-family: var(--jp-code-font-family);\n",
       "font-size: var(--jp-code-font-size);\n",
       "line-height: var(--jp-code-line-height);\n",
       "\"><span style=\"color: var(--jp-warn-color2)\">lsst.pipe.base.graphBuilder</span> <span style=\"color: var(--jp-warn-color0)\">WARNING</span>: No datasets of type finalized_src_table in collection &#x27;2.2i/runs/DP0.2/v23_0_2/PREOPS-905/step6_17/20220514T232440Z&#x27;.</pre>"
      ],
      "text/plain": [
       "<IPython.core.display.HTML object>"
      ]
     },
     "metadata": {},
     "output_type": "display_data"
    },
    {
     "data": {
      "text/html": [
       "<pre style=\"margin: 0.1em;\n",
       "padding-left: 0.25em;\n",
       "border-left-style: solid;\n",
       "font-family: var(--jp-code-font-family);\n",
       "font-size: var(--jp-code-font-size);\n",
       "line-height: var(--jp-code-line-height);\n",
       "\"><span style=\"color: var(--jp-warn-color2)\">lsst.pipe.base.graphBuilder</span> <span style=\"color: var(--jp-warn-color0)\">WARNING</span>: No datasets of type finalized_src_table in collection &#x27;2.2i/runs/DP0.2/v23_0_2/PREOPS-905/step6_17/20220516T033516Z&#x27;.</pre>"
      ],
      "text/plain": [
       "<IPython.core.display.HTML object>"
      ]
     },
     "metadata": {},
     "output_type": "display_data"
    },
    {
     "data": {
      "text/html": [
       "<pre style=\"margin: 0.1em;\n",
       "padding-left: 0.25em;\n",
       "border-left-style: solid;\n",
       "font-family: var(--jp-code-font-family);\n",
       "font-size: var(--jp-code-font-size);\n",
       "line-height: var(--jp-code-line-height);\n",
       "\"><span style=\"color: var(--jp-warn-color2)\">lsst.pipe.base.graphBuilder</span> <span style=\"color: var(--jp-warn-color0)\">WARNING</span>: No datasets of type finalized_src_table in collection &#x27;2.2i/runs/DP0.2/v23_0_2/PREOPS-905/step6_18/20220515T023234Z&#x27;.</pre>"
      ],
      "text/plain": [
       "<IPython.core.display.HTML object>"
      ]
     },
     "metadata": {},
     "output_type": "display_data"
    },
    {
     "data": {
      "text/html": [
       "<pre style=\"margin: 0.1em;\n",
       "padding-left: 0.25em;\n",
       "border-left-style: solid;\n",
       "font-family: var(--jp-code-font-family);\n",
       "font-size: var(--jp-code-font-size);\n",
       "line-height: var(--jp-code-line-height);\n",
       "\"><span style=\"color: var(--jp-warn-color2)\">lsst.pipe.base.graphBuilder</span> <span style=\"color: var(--jp-warn-color0)\">WARNING</span>: No datasets of type finalized_src_table in collection &#x27;2.2i/runs/DP0.2/v23_0_2/PREOPS-905/step6_19/20220515T054618Z&#x27;.</pre>"
      ],
      "text/plain": [
       "<IPython.core.display.HTML object>"
      ]
     },
     "metadata": {},
     "output_type": "display_data"
    },
    {
     "data": {
      "text/html": [
       "<pre style=\"margin: 0.1em;\n",
       "padding-left: 0.25em;\n",
       "border-left-style: solid;\n",
       "font-family: var(--jp-code-font-family);\n",
       "font-size: var(--jp-code-font-size);\n",
       "line-height: var(--jp-code-line-height);\n",
       "\"><span style=\"color: var(--jp-warn-color2)\">lsst.pipe.base.graphBuilder</span> <span style=\"color: var(--jp-warn-color0)\">WARNING</span>: No datasets of type finalized_src_table in collection &#x27;2.2i/runs/DP0.2/v23_0_2/PREOPS-905/step6_2/20220513T015911Z&#x27;.</pre>"
      ],
      "text/plain": [
       "<IPython.core.display.HTML object>"
      ]
     },
     "metadata": {},
     "output_type": "display_data"
    },
    {
     "data": {
      "text/html": [
       "<pre style=\"margin: 0.1em;\n",
       "padding-left: 0.25em;\n",
       "border-left-style: solid;\n",
       "font-family: var(--jp-code-font-family);\n",
       "font-size: var(--jp-code-font-size);\n",
       "line-height: var(--jp-code-line-height);\n",
       "\"><span style=\"color: var(--jp-warn-color2)\">lsst.pipe.base.graphBuilder</span> <span style=\"color: var(--jp-warn-color0)\">WARNING</span>: No datasets of type finalized_src_table in collection &#x27;2.2i/runs/DP0.2/v23_0_2/PREOPS-905/step6_20/20220515T144944Z&#x27;.</pre>"
      ],
      "text/plain": [
       "<IPython.core.display.HTML object>"
      ]
     },
     "metadata": {},
     "output_type": "display_data"
    },
    {
     "data": {
      "text/html": [
       "<pre style=\"margin: 0.1em;\n",
       "padding-left: 0.25em;\n",
       "border-left-style: solid;\n",
       "font-family: var(--jp-code-font-family);\n",
       "font-size: var(--jp-code-font-size);\n",
       "line-height: var(--jp-code-line-height);\n",
       "\"><span style=\"color: var(--jp-warn-color2)\">lsst.pipe.base.graphBuilder</span> <span style=\"color: var(--jp-warn-color0)\">WARNING</span>: No datasets of type finalized_src_table in collection &#x27;2.2i/runs/DP0.2/v23_0_2/PREOPS-905/step6_3/20220513T050000Z&#x27;.</pre>"
      ],
      "text/plain": [
       "<IPython.core.display.HTML object>"
      ]
     },
     "metadata": {},
     "output_type": "display_data"
    },
    {
     "data": {
      "text/html": [
       "<pre style=\"margin: 0.1em;\n",
       "padding-left: 0.25em;\n",
       "border-left-style: solid;\n",
       "font-family: var(--jp-code-font-family);\n",
       "font-size: var(--jp-code-font-size);\n",
       "line-height: var(--jp-code-line-height);\n",
       "\"><span style=\"color: var(--jp-warn-color2)\">lsst.pipe.base.graphBuilder</span> <span style=\"color: var(--jp-warn-color0)\">WARNING</span>: No datasets of type finalized_src_table in collection &#x27;2.2i/runs/DP0.2/v23_0_2/PREOPS-905/step6_4/20220515T113417Z&#x27;.</pre>"
      ],
      "text/plain": [
       "<IPython.core.display.HTML object>"
      ]
     },
     "metadata": {},
     "output_type": "display_data"
    },
    {
     "data": {
      "text/html": [
       "<pre style=\"margin: 0.1em;\n",
       "padding-left: 0.25em;\n",
       "border-left-style: solid;\n",
       "font-family: var(--jp-code-font-family);\n",
       "font-size: var(--jp-code-font-size);\n",
       "line-height: var(--jp-code-line-height);\n",
       "\"><span style=\"color: var(--jp-warn-color2)\">lsst.pipe.base.graphBuilder</span> <span style=\"color: var(--jp-warn-color0)\">WARNING</span>: No datasets of type finalized_src_table in collection &#x27;2.2i/runs/DP0.2/v23_0_2/PREOPS-905/step6_5/20220513T110250Z&#x27;.</pre>"
      ],
      "text/plain": [
       "<IPython.core.display.HTML object>"
      ]
     },
     "metadata": {},
     "output_type": "display_data"
    },
    {
     "data": {
      "text/html": [
       "<pre style=\"margin: 0.1em;\n",
       "padding-left: 0.25em;\n",
       "border-left-style: solid;\n",
       "font-family: var(--jp-code-font-family);\n",
       "font-size: var(--jp-code-font-size);\n",
       "line-height: var(--jp-code-line-height);\n",
       "\"><span style=\"color: var(--jp-warn-color2)\">lsst.pipe.base.graphBuilder</span> <span style=\"color: var(--jp-warn-color0)\">WARNING</span>: No datasets of type finalized_src_table in collection &#x27;2.2i/runs/DP0.2/v23_0_2/PREOPS-905/step6_6/20220513T140400Z&#x27;.</pre>"
      ],
      "text/plain": [
       "<IPython.core.display.HTML object>"
      ]
     },
     "metadata": {},
     "output_type": "display_data"
    },
    {
     "data": {
      "text/html": [
       "<pre style=\"margin: 0.1em;\n",
       "padding-left: 0.25em;\n",
       "border-left-style: solid;\n",
       "font-family: var(--jp-code-font-family);\n",
       "font-size: var(--jp-code-font-size);\n",
       "line-height: var(--jp-code-line-height);\n",
       "\"><span style=\"color: var(--jp-warn-color2)\">lsst.pipe.base.graphBuilder</span> <span style=\"color: var(--jp-warn-color0)\">WARNING</span>: No datasets of type finalized_src_table in collection &#x27;2.2i/runs/DP0.2/v23_0_2/PREOPS-905/step6_7/20220513T170841Z&#x27;.</pre>"
      ],
      "text/plain": [
       "<IPython.core.display.HTML object>"
      ]
     },
     "metadata": {},
     "output_type": "display_data"
    },
    {
     "data": {
      "text/html": [
       "<pre style=\"margin: 0.1em;\n",
       "padding-left: 0.25em;\n",
       "border-left-style: solid;\n",
       "font-family: var(--jp-code-font-family);\n",
       "font-size: var(--jp-code-font-size);\n",
       "line-height: var(--jp-code-line-height);\n",
       "\"><span style=\"color: var(--jp-warn-color2)\">lsst.pipe.base.graphBuilder</span> <span style=\"color: var(--jp-warn-color0)\">WARNING</span>: No datasets of type finalized_src_table in collection &#x27;2.2i/runs/DP0.2/v23_0_2/PREOPS-905/step6_8/20220513T201047Z&#x27;.</pre>"
      ],
      "text/plain": [
       "<IPython.core.display.HTML object>"
      ]
     },
     "metadata": {},
     "output_type": "display_data"
    },
    {
     "data": {
      "text/html": [
       "<pre style=\"margin: 0.1em;\n",
       "padding-left: 0.25em;\n",
       "border-left-style: solid;\n",
       "font-family: var(--jp-code-font-family);\n",
       "font-size: var(--jp-code-font-size);\n",
       "line-height: var(--jp-code-line-height);\n",
       "\"><span style=\"color: var(--jp-warn-color2)\">lsst.pipe.base.graphBuilder</span> <span style=\"color: var(--jp-warn-color0)\">WARNING</span>: No datasets of type finalized_src_table in collection &#x27;2.2i/runs/DP0.2/v23_0_2/PREOPS-905/step6_9/20220513T231122Z&#x27;.</pre>"
      ],
      "text/plain": [
       "<IPython.core.display.HTML object>"
      ]
     },
     "metadata": {},
     "output_type": "display_data"
    },
    {
     "data": {
      "text/html": [
       "<pre style=\"margin: 0.1em;\n",
       "padding-left: 0.25em;\n",
       "border-left-style: solid;\n",
       "font-family: var(--jp-code-font-family);\n",
       "font-size: var(--jp-code-font-size);\n",
       "line-height: var(--jp-code-line-height);\n",
       "\"><span style=\"color: var(--jp-warn-color2)\">lsst.pipe.base.graphBuilder</span> <span style=\"color: var(--jp-warn-color0)\">WARNING</span>: No datasets of type finalized_src_table in collection &#x27;2.2i/runs/DP0.2/v23_0_2/PREOPS-905/step5_52/20220511T193037Z&#x27;.</pre>"
      ],
      "text/plain": [
       "<IPython.core.display.HTML object>"
      ]
     },
     "metadata": {},
     "output_type": "display_data"
    },
    {
     "data": {
      "text/html": [
       "<pre style=\"margin: 0.1em;\n",
       "padding-left: 0.25em;\n",
       "border-left-style: solid;\n",
       "font-family: var(--jp-code-font-family);\n",
       "font-size: var(--jp-code-font-size);\n",
       "line-height: var(--jp-code-line-height);\n",
       "\"><span style=\"color: var(--jp-warn-color2)\">lsst.pipe.base.graphBuilder</span> <span style=\"color: var(--jp-warn-color0)\">WARNING</span>: No datasets of type finalized_src_table in collection &#x27;2.2i/runs/DP0.2/v23_0_2/PREOPS-905/step5_51/20220511T172849Z&#x27;.</pre>"
      ],
      "text/plain": [
       "<IPython.core.display.HTML object>"
      ]
     },
     "metadata": {},
     "output_type": "display_data"
    },
    {
     "data": {
      "text/html": [
       "<pre style=\"margin: 0.1em;\n",
       "padding-left: 0.25em;\n",
       "border-left-style: solid;\n",
       "font-family: var(--jp-code-font-family);\n",
       "font-size: var(--jp-code-font-size);\n",
       "line-height: var(--jp-code-line-height);\n",
       "\"><span style=\"color: var(--jp-warn-color2)\">lsst.pipe.base.graphBuilder</span> <span style=\"color: var(--jp-warn-color0)\">WARNING</span>: No datasets of type finalized_src_table in collection &#x27;2.2i/runs/DP0.2/v23_0_2/PREOPS-905/step5_50/20220511T152602Z&#x27;.</pre>"
      ],
      "text/plain": [
       "<IPython.core.display.HTML object>"
      ]
     },
     "metadata": {},
     "output_type": "display_data"
    },
    {
     "data": {
      "text/html": [
       "<pre style=\"margin: 0.1em;\n",
       "padding-left: 0.25em;\n",
       "border-left-style: solid;\n",
       "font-family: var(--jp-code-font-family);\n",
       "font-size: var(--jp-code-font-size);\n",
       "line-height: var(--jp-code-line-height);\n",
       "\"><span style=\"color: var(--jp-warn-color2)\">lsst.pipe.base.graphBuilder</span> <span style=\"color: var(--jp-warn-color0)\">WARNING</span>: No datasets of type finalized_src_table in collection &#x27;2.2i/runs/DP0.2/v23_0_2/PREOPS-905/step5_49/20220511T224921Z&#x27;.</pre>"
      ],
      "text/plain": [
       "<IPython.core.display.HTML object>"
      ]
     },
     "metadata": {},
     "output_type": "display_data"
    },
    {
     "data": {
      "text/html": [
       "<pre style=\"margin: 0.1em;\n",
       "padding-left: 0.25em;\n",
       "border-left-style: solid;\n",
       "font-family: var(--jp-code-font-family);\n",
       "font-size: var(--jp-code-font-size);\n",
       "line-height: var(--jp-code-line-height);\n",
       "\"><span style=\"color: var(--jp-warn-color2)\">lsst.pipe.base.graphBuilder</span> <span style=\"color: var(--jp-warn-color0)\">WARNING</span>: No datasets of type finalized_src_table in collection &#x27;2.2i/runs/DP0.2/v23_0_2/PREOPS-905/step5_48/20220511T115326Z&#x27;.</pre>"
      ],
      "text/plain": [
       "<IPython.core.display.HTML object>"
      ]
     },
     "metadata": {},
     "output_type": "display_data"
    },
    {
     "data": {
      "text/html": [
       "<pre style=\"margin: 0.1em;\n",
       "padding-left: 0.25em;\n",
       "border-left-style: solid;\n",
       "font-family: var(--jp-code-font-family);\n",
       "font-size: var(--jp-code-font-size);\n",
       "line-height: var(--jp-code-line-height);\n",
       "\"><span style=\"color: var(--jp-warn-color2)\">lsst.pipe.base.graphBuilder</span> <span style=\"color: var(--jp-warn-color0)\">WARNING</span>: No datasets of type finalized_src_table in collection &#x27;2.2i/runs/DP0.2/v23_0_2/PREOPS-905/step5_47/20220511T093215Z&#x27;.</pre>"
      ],
      "text/plain": [
       "<IPython.core.display.HTML object>"
      ]
     },
     "metadata": {},
     "output_type": "display_data"
    },
    {
     "data": {
      "text/html": [
       "<pre style=\"margin: 0.1em;\n",
       "padding-left: 0.25em;\n",
       "border-left-style: solid;\n",
       "font-family: var(--jp-code-font-family);\n",
       "font-size: var(--jp-code-font-size);\n",
       "line-height: var(--jp-code-line-height);\n",
       "\"><span style=\"color: var(--jp-warn-color2)\">lsst.pipe.base.graphBuilder</span> <span style=\"color: var(--jp-warn-color0)\">WARNING</span>: No datasets of type finalized_src_table in collection &#x27;2.2i/runs/DP0.2/v23_0_2/PREOPS-905/step5_46/20220511T072551Z&#x27;.</pre>"
      ],
      "text/plain": [
       "<IPython.core.display.HTML object>"
      ]
     },
     "metadata": {},
     "output_type": "display_data"
    },
    {
     "data": {
      "text/html": [
       "<pre style=\"margin: 0.1em;\n",
       "padding-left: 0.25em;\n",
       "border-left-style: solid;\n",
       "font-family: var(--jp-code-font-family);\n",
       "font-size: var(--jp-code-font-size);\n",
       "line-height: var(--jp-code-line-height);\n",
       "\"><span style=\"color: var(--jp-warn-color2)\">lsst.pipe.base.graphBuilder</span> <span style=\"color: var(--jp-warn-color0)\">WARNING</span>: No datasets of type finalized_src_table in collection &#x27;2.2i/runs/DP0.2/v23_0_2/PREOPS-905/step5_45/20220511T051607Z&#x27;.</pre>"
      ],
      "text/plain": [
       "<IPython.core.display.HTML object>"
      ]
     },
     "metadata": {},
     "output_type": "display_data"
    },
    {
     "data": {
      "text/html": [
       "<pre style=\"margin: 0.1em;\n",
       "padding-left: 0.25em;\n",
       "border-left-style: solid;\n",
       "font-family: var(--jp-code-font-family);\n",
       "font-size: var(--jp-code-font-size);\n",
       "line-height: var(--jp-code-line-height);\n",
       "\"><span style=\"color: var(--jp-warn-color2)\">lsst.pipe.base.graphBuilder</span> <span style=\"color: var(--jp-warn-color0)\">WARNING</span>: No datasets of type finalized_src_table in collection &#x27;2.2i/runs/DP0.2/v23_0_2/PREOPS-905/step5_44/20220511T030333Z&#x27;.</pre>"
      ],
      "text/plain": [
       "<IPython.core.display.HTML object>"
      ]
     },
     "metadata": {},
     "output_type": "display_data"
    },
    {
     "data": {
      "text/html": [
       "<pre style=\"margin: 0.1em;\n",
       "padding-left: 0.25em;\n",
       "border-left-style: solid;\n",
       "font-family: var(--jp-code-font-family);\n",
       "font-size: var(--jp-code-font-size);\n",
       "line-height: var(--jp-code-line-height);\n",
       "\"><span style=\"color: var(--jp-warn-color2)\">lsst.pipe.base.graphBuilder</span> <span style=\"color: var(--jp-warn-color0)\">WARNING</span>: No datasets of type finalized_src_table in collection &#x27;2.2i/runs/DP0.2/v23_0_2/PREOPS-905/step5_43/20220511T010324Z&#x27;.</pre>"
      ],
      "text/plain": [
       "<IPython.core.display.HTML object>"
      ]
     },
     "metadata": {},
     "output_type": "display_data"
    },
    {
     "data": {
      "text/html": [
       "<pre style=\"margin: 0.1em;\n",
       "padding-left: 0.25em;\n",
       "border-left-style: solid;\n",
       "font-family: var(--jp-code-font-family);\n",
       "font-size: var(--jp-code-font-size);\n",
       "line-height: var(--jp-code-line-height);\n",
       "\"><span style=\"color: var(--jp-warn-color2)\">lsst.pipe.base.graphBuilder</span> <span style=\"color: var(--jp-warn-color0)\">WARNING</span>: No datasets of type finalized_src_table in collection &#x27;2.2i/runs/DP0.2/v23_0_2/PREOPS-905/step5_42/20220510T225220Z&#x27;.</pre>"
      ],
      "text/plain": [
       "<IPython.core.display.HTML object>"
      ]
     },
     "metadata": {},
     "output_type": "display_data"
    },
    {
     "data": {
      "text/html": [
       "<pre style=\"margin: 0.1em;\n",
       "padding-left: 0.25em;\n",
       "border-left-style: solid;\n",
       "font-family: var(--jp-code-font-family);\n",
       "font-size: var(--jp-code-font-size);\n",
       "line-height: var(--jp-code-line-height);\n",
       "\"><span style=\"color: var(--jp-warn-color2)\">lsst.pipe.base.graphBuilder</span> <span style=\"color: var(--jp-warn-color0)\">WARNING</span>: No datasets of type finalized_src_table in collection &#x27;2.2i/runs/DP0.2/v23_0_2/PREOPS-905/step5_41/20220510T204315Z&#x27;.</pre>"
      ],
      "text/plain": [
       "<IPython.core.display.HTML object>"
      ]
     },
     "metadata": {},
     "output_type": "display_data"
    },
    {
     "data": {
      "text/html": [
       "<pre style=\"margin: 0.1em;\n",
       "padding-left: 0.25em;\n",
       "border-left-style: solid;\n",
       "font-family: var(--jp-code-font-family);\n",
       "font-size: var(--jp-code-font-size);\n",
       "line-height: var(--jp-code-line-height);\n",
       "\"><span style=\"color: var(--jp-warn-color2)\">lsst.pipe.base.graphBuilder</span> <span style=\"color: var(--jp-warn-color0)\">WARNING</span>: No datasets of type finalized_src_table in collection &#x27;2.2i/runs/DP0.2/v23_0_2/PREOPS-905/step5_40/20220510T182122Z&#x27;.</pre>"
      ],
      "text/plain": [
       "<IPython.core.display.HTML object>"
      ]
     },
     "metadata": {},
     "output_type": "display_data"
    },
    {
     "data": {
      "text/html": [
       "<pre style=\"margin: 0.1em;\n",
       "padding-left: 0.25em;\n",
       "border-left-style: solid;\n",
       "font-family: var(--jp-code-font-family);\n",
       "font-size: var(--jp-code-font-size);\n",
       "line-height: var(--jp-code-line-height);\n",
       "\"><span style=\"color: var(--jp-warn-color2)\">lsst.pipe.base.graphBuilder</span> <span style=\"color: var(--jp-warn-color0)\">WARNING</span>: No datasets of type finalized_src_table in collection &#x27;2.2i/runs/DP0.2/v23_0_2/PREOPS-905/step5_39/20220510T165619Z&#x27;.</pre>"
      ],
      "text/plain": [
       "<IPython.core.display.HTML object>"
      ]
     },
     "metadata": {},
     "output_type": "display_data"
    },
    {
     "data": {
      "text/html": [
       "<pre style=\"margin: 0.1em;\n",
       "padding-left: 0.25em;\n",
       "border-left-style: solid;\n",
       "font-family: var(--jp-code-font-family);\n",
       "font-size: var(--jp-code-font-size);\n",
       "line-height: var(--jp-code-line-height);\n",
       "\"><span style=\"color: var(--jp-warn-color2)\">lsst.pipe.base.graphBuilder</span> <span style=\"color: var(--jp-warn-color0)\">WARNING</span>: No datasets of type finalized_src_table in collection &#x27;2.2i/runs/DP0.2/v23_0_2/PREOPS-905/step5_38/20220510T144157Z&#x27;.</pre>"
      ],
      "text/plain": [
       "<IPython.core.display.HTML object>"
      ]
     },
     "metadata": {},
     "output_type": "display_data"
    },
    {
     "data": {
      "text/html": [
       "<pre style=\"margin: 0.1em;\n",
       "padding-left: 0.25em;\n",
       "border-left-style: solid;\n",
       "font-family: var(--jp-code-font-family);\n",
       "font-size: var(--jp-code-font-size);\n",
       "line-height: var(--jp-code-line-height);\n",
       "\"><span style=\"color: var(--jp-warn-color2)\">lsst.pipe.base.graphBuilder</span> <span style=\"color: var(--jp-warn-color0)\">WARNING</span>: No datasets of type finalized_src_table in collection &#x27;2.2i/runs/DP0.2/v23_0_2/PREOPS-905/step5_37/20220510T122823Z&#x27;.</pre>"
      ],
      "text/plain": [
       "<IPython.core.display.HTML object>"
      ]
     },
     "metadata": {},
     "output_type": "display_data"
    },
    {
     "data": {
      "text/html": [
       "<pre style=\"margin: 0.1em;\n",
       "padding-left: 0.25em;\n",
       "border-left-style: solid;\n",
       "font-family: var(--jp-code-font-family);\n",
       "font-size: var(--jp-code-font-size);\n",
       "line-height: var(--jp-code-line-height);\n",
       "\"><span style=\"color: var(--jp-warn-color2)\">lsst.pipe.base.graphBuilder</span> <span style=\"color: var(--jp-warn-color0)\">WARNING</span>: No datasets of type finalized_src_table in collection &#x27;2.2i/runs/DP0.2/v23_0_2/PREOPS-905/step5_36/20220510T102009Z&#x27;.</pre>"
      ],
      "text/plain": [
       "<IPython.core.display.HTML object>"
      ]
     },
     "metadata": {},
     "output_type": "display_data"
    },
    {
     "data": {
      "text/html": [
       "<pre style=\"margin: 0.1em;\n",
       "padding-left: 0.25em;\n",
       "border-left-style: solid;\n",
       "font-family: var(--jp-code-font-family);\n",
       "font-size: var(--jp-code-font-size);\n",
       "line-height: var(--jp-code-line-height);\n",
       "\"><span style=\"color: var(--jp-warn-color2)\">lsst.pipe.base.graphBuilder</span> <span style=\"color: var(--jp-warn-color0)\">WARNING</span>: No datasets of type finalized_src_table in collection &#x27;2.2i/runs/DP0.2/v23_0_2/PREOPS-905/step5_35/20220510T082734Z&#x27;.</pre>"
      ],
      "text/plain": [
       "<IPython.core.display.HTML object>"
      ]
     },
     "metadata": {},
     "output_type": "display_data"
    },
    {
     "data": {
      "text/html": [
       "<pre style=\"margin: 0.1em;\n",
       "padding-left: 0.25em;\n",
       "border-left-style: solid;\n",
       "font-family: var(--jp-code-font-family);\n",
       "font-size: var(--jp-code-font-size);\n",
       "line-height: var(--jp-code-line-height);\n",
       "\"><span style=\"color: var(--jp-warn-color2)\">lsst.pipe.base.graphBuilder</span> <span style=\"color: var(--jp-warn-color0)\">WARNING</span>: No datasets of type finalized_src_table in collection &#x27;2.2i/runs/DP0.2/v23_0_2/PREOPS-905/step5_34/20220510T062419Z&#x27;.</pre>"
      ],
      "text/plain": [
       "<IPython.core.display.HTML object>"
      ]
     },
     "metadata": {},
     "output_type": "display_data"
    },
    {
     "data": {
      "text/html": [
       "<pre style=\"margin: 0.1em;\n",
       "padding-left: 0.25em;\n",
       "border-left-style: solid;\n",
       "font-family: var(--jp-code-font-family);\n",
       "font-size: var(--jp-code-font-size);\n",
       "line-height: var(--jp-code-line-height);\n",
       "\"><span style=\"color: var(--jp-warn-color2)\">lsst.pipe.base.graphBuilder</span> <span style=\"color: var(--jp-warn-color0)\">WARNING</span>: No datasets of type finalized_src_table in collection &#x27;2.2i/runs/DP0.2/v23_0_2/PREOPS-905/step5_30/20220511T210005Z&#x27;.</pre>"
      ],
      "text/plain": [
       "<IPython.core.display.HTML object>"
      ]
     },
     "metadata": {},
     "output_type": "display_data"
    },
    {
     "data": {
      "text/html": [
       "<pre style=\"margin: 0.1em;\n",
       "padding-left: 0.25em;\n",
       "border-left-style: solid;\n",
       "font-family: var(--jp-code-font-family);\n",
       "font-size: var(--jp-code-font-size);\n",
       "line-height: var(--jp-code-line-height);\n",
       "\"><span style=\"color: var(--jp-warn-color2)\">lsst.pipe.base.graphBuilder</span> <span style=\"color: var(--jp-warn-color0)\">WARNING</span>: No datasets of type finalized_src_table in collection &#x27;2.2i/runs/DP0.2/v23_0_2/PREOPS-905/step5_12/20220507T050423Z&#x27;.</pre>"
      ],
      "text/plain": [
       "<IPython.core.display.HTML object>"
      ]
     },
     "metadata": {},
     "output_type": "display_data"
    },
    {
     "data": {
      "text/html": [
       "<pre style=\"margin: 0.1em;\n",
       "padding-left: 0.25em;\n",
       "border-left-style: solid;\n",
       "font-family: var(--jp-code-font-family);\n",
       "font-size: var(--jp-code-font-size);\n",
       "line-height: var(--jp-code-line-height);\n",
       "\"><span style=\"color: var(--jp-warn-color2)\">lsst.pipe.base.graphBuilder</span> <span style=\"color: var(--jp-warn-color0)\">WARNING</span>: No datasets of type finalized_src_table in collection &#x27;2.2i/runs/DP0.2/v23_0_2/PREOPS-905/step5_1/20220512T001721Z&#x27;.</pre>"
      ],
      "text/plain": [
       "<IPython.core.display.HTML object>"
      ]
     },
     "metadata": {},
     "output_type": "display_data"
    },
    {
     "data": {
      "text/html": [
       "<pre style=\"margin: 0.1em;\n",
       "padding-left: 0.25em;\n",
       "border-left-style: solid;\n",
       "font-family: var(--jp-code-font-family);\n",
       "font-size: var(--jp-code-font-size);\n",
       "line-height: var(--jp-code-line-height);\n",
       "\"><span style=\"color: var(--jp-warn-color2)\">lsst.pipe.base.graphBuilder</span> <span style=\"color: var(--jp-warn-color0)\">WARNING</span>: No datasets of type finalized_src_table in collection &#x27;2.2i/runs/DP0.2/v23_0_2/PREOPS-905/step5_1/20220503T191629Z&#x27;.</pre>"
      ],
      "text/plain": [
       "<IPython.core.display.HTML object>"
      ]
     },
     "metadata": {},
     "output_type": "display_data"
    },
    {
     "data": {
      "text/html": [
       "<pre style=\"margin: 0.1em;\n",
       "padding-left: 0.25em;\n",
       "border-left-style: solid;\n",
       "font-family: var(--jp-code-font-family);\n",
       "font-size: var(--jp-code-font-size);\n",
       "line-height: var(--jp-code-line-height);\n",
       "\"><span style=\"color: var(--jp-warn-color2)\">lsst.pipe.base.graphBuilder</span> <span style=\"color: var(--jp-warn-color0)\">WARNING</span>: No datasets of type finalized_src_table in collection &#x27;2.2i/runs/DP0.2/v23_0_2/PREOPS-905/step5_10/20220506T225821Z&#x27;.</pre>"
      ],
      "text/plain": [
       "<IPython.core.display.HTML object>"
      ]
     },
     "metadata": {},
     "output_type": "display_data"
    },
    {
     "data": {
      "text/html": [
       "<pre style=\"margin: 0.1em;\n",
       "padding-left: 0.25em;\n",
       "border-left-style: solid;\n",
       "font-family: var(--jp-code-font-family);\n",
       "font-size: var(--jp-code-font-size);\n",
       "line-height: var(--jp-code-line-height);\n",
       "\"><span style=\"color: var(--jp-warn-color2)\">lsst.pipe.base.graphBuilder</span> <span style=\"color: var(--jp-warn-color0)\">WARNING</span>: No datasets of type finalized_src_table in collection &#x27;2.2i/runs/DP0.2/v23_0_2/PREOPS-905/step5_11/20220507T020003Z&#x27;.</pre>"
      ],
      "text/plain": [
       "<IPython.core.display.HTML object>"
      ]
     },
     "metadata": {},
     "output_type": "display_data"
    },
    {
     "data": {
      "text/html": [
       "<pre style=\"margin: 0.1em;\n",
       "padding-left: 0.25em;\n",
       "border-left-style: solid;\n",
       "font-family: var(--jp-code-font-family);\n",
       "font-size: var(--jp-code-font-size);\n",
       "line-height: var(--jp-code-line-height);\n",
       "\"><span style=\"color: var(--jp-warn-color2)\">lsst.pipe.base.graphBuilder</span> <span style=\"color: var(--jp-warn-color0)\">WARNING</span>: No datasets of type finalized_src_table in collection &#x27;2.2i/runs/DP0.2/v23_0_2/PREOPS-905/step5_13/20220507T224408Z&#x27;.</pre>"
      ],
      "text/plain": [
       "<IPython.core.display.HTML object>"
      ]
     },
     "metadata": {},
     "output_type": "display_data"
    },
    {
     "data": {
      "text/html": [
       "<pre style=\"margin: 0.1em;\n",
       "padding-left: 0.25em;\n",
       "border-left-style: solid;\n",
       "font-family: var(--jp-code-font-family);\n",
       "font-size: var(--jp-code-font-size);\n",
       "line-height: var(--jp-code-line-height);\n",
       "\"><span style=\"color: var(--jp-warn-color2)\">lsst.pipe.base.graphBuilder</span> <span style=\"color: var(--jp-warn-color0)\">WARNING</span>: No datasets of type finalized_src_table in collection &#x27;2.2i/runs/DP0.2/v23_0_2/PREOPS-905/step5_14/20220508T012319Z&#x27;.</pre>"
      ],
      "text/plain": [
       "<IPython.core.display.HTML object>"
      ]
     },
     "metadata": {},
     "output_type": "display_data"
    },
    {
     "data": {
      "text/html": [
       "<pre style=\"margin: 0.1em;\n",
       "padding-left: 0.25em;\n",
       "border-left-style: solid;\n",
       "font-family: var(--jp-code-font-family);\n",
       "font-size: var(--jp-code-font-size);\n",
       "line-height: var(--jp-code-line-height);\n",
       "\"><span style=\"color: var(--jp-warn-color2)\">lsst.pipe.base.graphBuilder</span> <span style=\"color: var(--jp-warn-color0)\">WARNING</span>: No datasets of type finalized_src_table in collection &#x27;2.2i/runs/DP0.2/v23_0_2/PREOPS-905/step5_15/20220508T042652Z&#x27;.</pre>"
      ],
      "text/plain": [
       "<IPython.core.display.HTML object>"
      ]
     },
     "metadata": {},
     "output_type": "display_data"
    },
    {
     "data": {
      "text/html": [
       "<pre style=\"margin: 0.1em;\n",
       "padding-left: 0.25em;\n",
       "border-left-style: solid;\n",
       "font-family: var(--jp-code-font-family);\n",
       "font-size: var(--jp-code-font-size);\n",
       "line-height: var(--jp-code-line-height);\n",
       "\"><span style=\"color: var(--jp-warn-color2)\">lsst.pipe.base.graphBuilder</span> <span style=\"color: var(--jp-warn-color0)\">WARNING</span>: No datasets of type finalized_src_table in collection &#x27;2.2i/runs/DP0.2/v23_0_2/PREOPS-905/step5_16/20220508T072602Z&#x27;.</pre>"
      ],
      "text/plain": [
       "<IPython.core.display.HTML object>"
      ]
     },
     "metadata": {},
     "output_type": "display_data"
    },
    {
     "data": {
      "text/html": [
       "<pre style=\"margin: 0.1em;\n",
       "padding-left: 0.25em;\n",
       "border-left-style: solid;\n",
       "font-family: var(--jp-code-font-family);\n",
       "font-size: var(--jp-code-font-size);\n",
       "line-height: var(--jp-code-line-height);\n",
       "\"><span style=\"color: var(--jp-warn-color2)\">lsst.pipe.base.graphBuilder</span> <span style=\"color: var(--jp-warn-color0)\">WARNING</span>: No datasets of type finalized_src_table in collection &#x27;2.2i/runs/DP0.2/v23_0_2/PREOPS-905/step5_17/20220508T103019Z&#x27;.</pre>"
      ],
      "text/plain": [
       "<IPython.core.display.HTML object>"
      ]
     },
     "metadata": {},
     "output_type": "display_data"
    },
    {
     "data": {
      "text/html": [
       "<pre style=\"margin: 0.1em;\n",
       "padding-left: 0.25em;\n",
       "border-left-style: solid;\n",
       "font-family: var(--jp-code-font-family);\n",
       "font-size: var(--jp-code-font-size);\n",
       "line-height: var(--jp-code-line-height);\n",
       "\"><span style=\"color: var(--jp-warn-color2)\">lsst.pipe.base.graphBuilder</span> <span style=\"color: var(--jp-warn-color0)\">WARNING</span>: No datasets of type finalized_src_table in collection &#x27;2.2i/runs/DP0.2/v23_0_2/PREOPS-905/step5_18/20220508T124926Z&#x27;.</pre>"
      ],
      "text/plain": [
       "<IPython.core.display.HTML object>"
      ]
     },
     "metadata": {},
     "output_type": "display_data"
    },
    {
     "data": {
      "text/html": [
       "<pre style=\"margin: 0.1em;\n",
       "padding-left: 0.25em;\n",
       "border-left-style: solid;\n",
       "font-family: var(--jp-code-font-family);\n",
       "font-size: var(--jp-code-font-size);\n",
       "line-height: var(--jp-code-line-height);\n",
       "\"><span style=\"color: var(--jp-warn-color2)\">lsst.pipe.base.graphBuilder</span> <span style=\"color: var(--jp-warn-color0)\">WARNING</span>: No datasets of type finalized_src_table in collection &#x27;2.2i/runs/DP0.2/v23_0_2/PREOPS-905/step5_19/20220508T155145Z&#x27;.</pre>"
      ],
      "text/plain": [
       "<IPython.core.display.HTML object>"
      ]
     },
     "metadata": {},
     "output_type": "display_data"
    },
    {
     "data": {
      "text/html": [
       "<pre style=\"margin: 0.1em;\n",
       "padding-left: 0.25em;\n",
       "border-left-style: solid;\n",
       "font-family: var(--jp-code-font-family);\n",
       "font-size: var(--jp-code-font-size);\n",
       "line-height: var(--jp-code-line-height);\n",
       "\"><span style=\"color: var(--jp-warn-color2)\">lsst.pipe.base.graphBuilder</span> <span style=\"color: var(--jp-warn-color0)\">WARNING</span>: No datasets of type finalized_src_table in collection &#x27;2.2i/runs/DP0.2/v23_0_2/PREOPS-905/step5_2/20220505T095134Z&#x27;.</pre>"
      ],
      "text/plain": [
       "<IPython.core.display.HTML object>"
      ]
     },
     "metadata": {},
     "output_type": "display_data"
    },
    {
     "data": {
      "text/html": [
       "<pre style=\"margin: 0.1em;\n",
       "padding-left: 0.25em;\n",
       "border-left-style: solid;\n",
       "font-family: var(--jp-code-font-family);\n",
       "font-size: var(--jp-code-font-size);\n",
       "line-height: var(--jp-code-line-height);\n",
       "\"><span style=\"color: var(--jp-warn-color2)\">lsst.pipe.base.graphBuilder</span> <span style=\"color: var(--jp-warn-color0)\">WARNING</span>: No datasets of type finalized_src_table in collection &#x27;2.2i/runs/DP0.2/v23_0_2/PREOPS-905/step5_2/20220505T200125Z&#x27;.</pre>"
      ],
      "text/plain": [
       "<IPython.core.display.HTML object>"
      ]
     },
     "metadata": {},
     "output_type": "display_data"
    },
    {
     "data": {
      "text/html": [
       "<pre style=\"margin: 0.1em;\n",
       "padding-left: 0.25em;\n",
       "border-left-style: solid;\n",
       "font-family: var(--jp-code-font-family);\n",
       "font-size: var(--jp-code-font-size);\n",
       "line-height: var(--jp-code-line-height);\n",
       "\"><span style=\"color: var(--jp-warn-color2)\">lsst.pipe.base.graphBuilder</span> <span style=\"color: var(--jp-warn-color0)\">WARNING</span>: No datasets of type finalized_src_table in collection &#x27;2.2i/runs/DP0.2/v23_0_2/PREOPS-905/step5_20/20220508T185905Z&#x27;.</pre>"
      ],
      "text/plain": [
       "<IPython.core.display.HTML object>"
      ]
     },
     "metadata": {},
     "output_type": "display_data"
    },
    {
     "data": {
      "text/html": [
       "<pre style=\"margin: 0.1em;\n",
       "padding-left: 0.25em;\n",
       "border-left-style: solid;\n",
       "font-family: var(--jp-code-font-family);\n",
       "font-size: var(--jp-code-font-size);\n",
       "line-height: var(--jp-code-line-height);\n",
       "\"><span style=\"color: var(--jp-warn-color2)\">lsst.pipe.base.graphBuilder</span> <span style=\"color: var(--jp-warn-color0)\">WARNING</span>: No datasets of type finalized_src_table in collection &#x27;2.2i/runs/DP0.2/v23_0_2/PREOPS-905/step5_21/20220508T221147Z&#x27;.</pre>"
      ],
      "text/plain": [
       "<IPython.core.display.HTML object>"
      ]
     },
     "metadata": {},
     "output_type": "display_data"
    },
    {
     "data": {
      "text/html": [
       "<pre style=\"margin: 0.1em;\n",
       "padding-left: 0.25em;\n",
       "border-left-style: solid;\n",
       "font-family: var(--jp-code-font-family);\n",
       "font-size: var(--jp-code-font-size);\n",
       "line-height: var(--jp-code-line-height);\n",
       "\"><span style=\"color: var(--jp-warn-color2)\">lsst.pipe.base.graphBuilder</span> <span style=\"color: var(--jp-warn-color0)\">WARNING</span>: No datasets of type finalized_src_table in collection &#x27;2.2i/runs/DP0.2/v23_0_2/PREOPS-905/step5_22/20220509T011312Z&#x27;.</pre>"
      ],
      "text/plain": [
       "<IPython.core.display.HTML object>"
      ]
     },
     "metadata": {},
     "output_type": "display_data"
    },
    {
     "data": {
      "text/html": [
       "<pre style=\"margin: 0.1em;\n",
       "padding-left: 0.25em;\n",
       "border-left-style: solid;\n",
       "font-family: var(--jp-code-font-family);\n",
       "font-size: var(--jp-code-font-size);\n",
       "line-height: var(--jp-code-line-height);\n",
       "\"><span style=\"color: var(--jp-warn-color2)\">lsst.pipe.base.graphBuilder</span> <span style=\"color: var(--jp-warn-color0)\">WARNING</span>: No datasets of type finalized_src_table in collection &#x27;2.2i/runs/DP0.2/v23_0_2/PREOPS-905/step5_23/20220509T041228Z&#x27;.</pre>"
      ],
      "text/plain": [
       "<IPython.core.display.HTML object>"
      ]
     },
     "metadata": {},
     "output_type": "display_data"
    },
    {
     "data": {
      "text/html": [
       "<pre style=\"margin: 0.1em;\n",
       "padding-left: 0.25em;\n",
       "border-left-style: solid;\n",
       "font-family: var(--jp-code-font-family);\n",
       "font-size: var(--jp-code-font-size);\n",
       "line-height: var(--jp-code-line-height);\n",
       "\"><span style=\"color: var(--jp-warn-color2)\">lsst.pipe.base.graphBuilder</span> <span style=\"color: var(--jp-warn-color0)\">WARNING</span>: No datasets of type finalized_src_table in collection &#x27;2.2i/runs/DP0.2/v23_0_2/PREOPS-905/step5_24/20220509T071757Z&#x27;.</pre>"
      ],
      "text/plain": [
       "<IPython.core.display.HTML object>"
      ]
     },
     "metadata": {},
     "output_type": "display_data"
    },
    {
     "data": {
      "text/html": [
       "<pre style=\"margin: 0.1em;\n",
       "padding-left: 0.25em;\n",
       "border-left-style: solid;\n",
       "font-family: var(--jp-code-font-family);\n",
       "font-size: var(--jp-code-font-size);\n",
       "line-height: var(--jp-code-line-height);\n",
       "\"><span style=\"color: var(--jp-warn-color2)\">lsst.pipe.base.graphBuilder</span> <span style=\"color: var(--jp-warn-color0)\">WARNING</span>: No datasets of type finalized_src_table in collection &#x27;2.2i/runs/DP0.2/v23_0_2/PREOPS-905/step5_25/20220509T102239Z&#x27;.</pre>"
      ],
      "text/plain": [
       "<IPython.core.display.HTML object>"
      ]
     },
     "metadata": {},
     "output_type": "display_data"
    },
    {
     "data": {
      "text/html": [
       "<pre style=\"margin: 0.1em;\n",
       "padding-left: 0.25em;\n",
       "border-left-style: solid;\n",
       "font-family: var(--jp-code-font-family);\n",
       "font-size: var(--jp-code-font-size);\n",
       "line-height: var(--jp-code-line-height);\n",
       "\"><span style=\"color: var(--jp-warn-color2)\">lsst.pipe.base.graphBuilder</span> <span style=\"color: var(--jp-warn-color0)\">WARNING</span>: No datasets of type finalized_src_table in collection &#x27;2.2i/runs/DP0.2/v23_0_2/PREOPS-905/step5_26/20220509T132805Z&#x27;.</pre>"
      ],
      "text/plain": [
       "<IPython.core.display.HTML object>"
      ]
     },
     "metadata": {},
     "output_type": "display_data"
    },
    {
     "data": {
      "text/html": [
       "<pre style=\"margin: 0.1em;\n",
       "padding-left: 0.25em;\n",
       "border-left-style: solid;\n",
       "font-family: var(--jp-code-font-family);\n",
       "font-size: var(--jp-code-font-size);\n",
       "line-height: var(--jp-code-line-height);\n",
       "\"><span style=\"color: var(--jp-warn-color2)\">lsst.pipe.base.graphBuilder</span> <span style=\"color: var(--jp-warn-color0)\">WARNING</span>: No datasets of type finalized_src_table in collection &#x27;2.2i/runs/DP0.2/v23_0_2/PREOPS-905/step5_27/20220509T155625Z&#x27;.</pre>"
      ],
      "text/plain": [
       "<IPython.core.display.HTML object>"
      ]
     },
     "metadata": {},
     "output_type": "display_data"
    },
    {
     "data": {
      "text/html": [
       "<pre style=\"margin: 0.1em;\n",
       "padding-left: 0.25em;\n",
       "border-left-style: solid;\n",
       "font-family: var(--jp-code-font-family);\n",
       "font-size: var(--jp-code-font-size);\n",
       "line-height: var(--jp-code-line-height);\n",
       "\"><span style=\"color: var(--jp-warn-color2)\">lsst.pipe.base.graphBuilder</span> <span style=\"color: var(--jp-warn-color0)\">WARNING</span>: No datasets of type finalized_src_table in collection &#x27;2.2i/runs/DP0.2/v23_0_2/PREOPS-905/step5_28/20220509T180251Z&#x27;.</pre>"
      ],
      "text/plain": [
       "<IPython.core.display.HTML object>"
      ]
     },
     "metadata": {},
     "output_type": "display_data"
    },
    {
     "data": {
      "text/html": [
       "<pre style=\"margin: 0.1em;\n",
       "padding-left: 0.25em;\n",
       "border-left-style: solid;\n",
       "font-family: var(--jp-code-font-family);\n",
       "font-size: var(--jp-code-font-size);\n",
       "line-height: var(--jp-code-line-height);\n",
       "\"><span style=\"color: var(--jp-warn-color2)\">lsst.pipe.base.graphBuilder</span> <span style=\"color: var(--jp-warn-color0)\">WARNING</span>: No datasets of type finalized_src_table in collection &#x27;2.2i/runs/DP0.2/v23_0_2/PREOPS-905/step5_29/20220509T200842Z&#x27;.</pre>"
      ],
      "text/plain": [
       "<IPython.core.display.HTML object>"
      ]
     },
     "metadata": {},
     "output_type": "display_data"
    },
    {
     "data": {
      "text/html": [
       "<pre style=\"margin: 0.1em;\n",
       "padding-left: 0.25em;\n",
       "border-left-style: solid;\n",
       "font-family: var(--jp-code-font-family);\n",
       "font-size: var(--jp-code-font-size);\n",
       "line-height: var(--jp-code-line-height);\n",
       "\"><span style=\"color: var(--jp-warn-color2)\">lsst.pipe.base.graphBuilder</span> <span style=\"color: var(--jp-warn-color0)\">WARNING</span>: No datasets of type finalized_src_table in collection &#x27;2.2i/runs/DP0.2/v23_0_2/PREOPS-905/step5_3/20220505T200225Z&#x27;.</pre>"
      ],
      "text/plain": [
       "<IPython.core.display.HTML object>"
      ]
     },
     "metadata": {},
     "output_type": "display_data"
    },
    {
     "data": {
      "text/html": [
       "<pre style=\"margin: 0.1em;\n",
       "padding-left: 0.25em;\n",
       "border-left-style: solid;\n",
       "font-family: var(--jp-code-font-family);\n",
       "font-size: var(--jp-code-font-size);\n",
       "line-height: var(--jp-code-line-height);\n",
       "\"><span style=\"color: var(--jp-warn-color2)\">lsst.pipe.base.graphBuilder</span> <span style=\"color: var(--jp-warn-color0)\">WARNING</span>: No datasets of type finalized_src_table in collection &#x27;2.2i/runs/DP0.2/v23_0_2/PREOPS-905/step5_31/20220509T234815Z&#x27;.</pre>"
      ],
      "text/plain": [
       "<IPython.core.display.HTML object>"
      ]
     },
     "metadata": {},
     "output_type": "display_data"
    },
    {
     "data": {
      "text/html": [
       "<pre style=\"margin: 0.1em;\n",
       "padding-left: 0.25em;\n",
       "border-left-style: solid;\n",
       "font-family: var(--jp-code-font-family);\n",
       "font-size: var(--jp-code-font-size);\n",
       "line-height: var(--jp-code-line-height);\n",
       "\"><span style=\"color: var(--jp-warn-color2)\">lsst.pipe.base.graphBuilder</span> <span style=\"color: var(--jp-warn-color0)\">WARNING</span>: No datasets of type finalized_src_table in collection &#x27;2.2i/runs/DP0.2/v23_0_2/PREOPS-905/step5_32/20220510T020028Z&#x27;.</pre>"
      ],
      "text/plain": [
       "<IPython.core.display.HTML object>"
      ]
     },
     "metadata": {},
     "output_type": "display_data"
    },
    {
     "data": {
      "text/html": [
       "<pre style=\"margin: 0.1em;\n",
       "padding-left: 0.25em;\n",
       "border-left-style: solid;\n",
       "font-family: var(--jp-code-font-family);\n",
       "font-size: var(--jp-code-font-size);\n",
       "line-height: var(--jp-code-line-height);\n",
       "\"><span style=\"color: var(--jp-warn-color2)\">lsst.pipe.base.graphBuilder</span> <span style=\"color: var(--jp-warn-color0)\">WARNING</span>: No datasets of type finalized_src_table in collection &#x27;2.2i/runs/DP0.2/v23_0_2/PREOPS-905/step5_33/20220510T041257Z&#x27;.</pre>"
      ],
      "text/plain": [
       "<IPython.core.display.HTML object>"
      ]
     },
     "metadata": {},
     "output_type": "display_data"
    },
    {
     "data": {
      "text/html": [
       "<pre style=\"margin: 0.1em;\n",
       "padding-left: 0.25em;\n",
       "border-left-style: solid;\n",
       "font-family: var(--jp-code-font-family);\n",
       "font-size: var(--jp-code-font-size);\n",
       "line-height: var(--jp-code-line-height);\n",
       "\"><span style=\"color: var(--jp-warn-color2)\">lsst.pipe.base.graphBuilder</span> <span style=\"color: var(--jp-warn-color0)\">WARNING</span>: No datasets of type finalized_src_table in collection &#x27;2.2i/runs/DP0.2/v23_0_2/PREOPS-905/step5_4/20220505T233000Z&#x27;.</pre>"
      ],
      "text/plain": [
       "<IPython.core.display.HTML object>"
      ]
     },
     "metadata": {},
     "output_type": "display_data"
    },
    {
     "data": {
      "text/html": [
       "<pre style=\"margin: 0.1em;\n",
       "padding-left: 0.25em;\n",
       "border-left-style: solid;\n",
       "font-family: var(--jp-code-font-family);\n",
       "font-size: var(--jp-code-font-size);\n",
       "line-height: var(--jp-code-line-height);\n",
       "\"><span style=\"color: var(--jp-warn-color2)\">lsst.pipe.base.graphBuilder</span> <span style=\"color: var(--jp-warn-color0)\">WARNING</span>: No datasets of type finalized_src_table in collection &#x27;2.2i/runs/DP0.2/v23_0_2/PREOPS-905/step5_5/20220506T040307Z&#x27;.</pre>"
      ],
      "text/plain": [
       "<IPython.core.display.HTML object>"
      ]
     },
     "metadata": {},
     "output_type": "display_data"
    },
    {
     "data": {
      "text/html": [
       "<pre style=\"margin: 0.1em;\n",
       "padding-left: 0.25em;\n",
       "border-left-style: solid;\n",
       "font-family: var(--jp-code-font-family);\n",
       "font-size: var(--jp-code-font-size);\n",
       "line-height: var(--jp-code-line-height);\n",
       "\"><span style=\"color: var(--jp-warn-color2)\">lsst.pipe.base.graphBuilder</span> <span style=\"color: var(--jp-warn-color0)\">WARNING</span>: No datasets of type finalized_src_table in collection &#x27;2.2i/runs/DP0.2/v23_0_2/PREOPS-905/step5_6/20220506T080709Z&#x27;.</pre>"
      ],
      "text/plain": [
       "<IPython.core.display.HTML object>"
      ]
     },
     "metadata": {},
     "output_type": "display_data"
    },
    {
     "data": {
      "text/html": [
       "<pre style=\"margin: 0.1em;\n",
       "padding-left: 0.25em;\n",
       "border-left-style: solid;\n",
       "font-family: var(--jp-code-font-family);\n",
       "font-size: var(--jp-code-font-size);\n",
       "line-height: var(--jp-code-line-height);\n",
       "\"><span style=\"color: var(--jp-warn-color2)\">lsst.pipe.base.graphBuilder</span> <span style=\"color: var(--jp-warn-color0)\">WARNING</span>: No datasets of type finalized_src_table in collection &#x27;2.2i/runs/DP0.2/v23_0_2/PREOPS-905/step5_7/20220506T121157Z&#x27;.</pre>"
      ],
      "text/plain": [
       "<IPython.core.display.HTML object>"
      ]
     },
     "metadata": {},
     "output_type": "display_data"
    },
    {
     "data": {
      "text/html": [
       "<pre style=\"margin: 0.1em;\n",
       "padding-left: 0.25em;\n",
       "border-left-style: solid;\n",
       "font-family: var(--jp-code-font-family);\n",
       "font-size: var(--jp-code-font-size);\n",
       "line-height: var(--jp-code-line-height);\n",
       "\"><span style=\"color: var(--jp-warn-color2)\">lsst.pipe.base.graphBuilder</span> <span style=\"color: var(--jp-warn-color0)\">WARNING</span>: No datasets of type finalized_src_table in collection &#x27;2.2i/runs/DP0.2/v23_0_2/PREOPS-905/step5_8/20220506T160546Z&#x27;.</pre>"
      ],
      "text/plain": [
       "<IPython.core.display.HTML object>"
      ]
     },
     "metadata": {},
     "output_type": "display_data"
    },
    {
     "data": {
      "text/html": [
       "<pre style=\"margin: 0.1em;\n",
       "padding-left: 0.25em;\n",
       "border-left-style: solid;\n",
       "font-family: var(--jp-code-font-family);\n",
       "font-size: var(--jp-code-font-size);\n",
       "line-height: var(--jp-code-line-height);\n",
       "\"><span style=\"color: var(--jp-warn-color2)\">lsst.pipe.base.graphBuilder</span> <span style=\"color: var(--jp-warn-color0)\">WARNING</span>: No datasets of type finalized_src_table in collection &#x27;2.2i/runs/DP0.2/v23_0_2/PREOPS-905/step5_9/20220506T195012Z&#x27;.</pre>"
      ],
      "text/plain": [
       "<IPython.core.display.HTML object>"
      ]
     },
     "metadata": {},
     "output_type": "display_data"
    },
    {
     "data": {
      "text/html": [
       "<pre style=\"margin: 0.1em;\n",
       "padding-left: 0.25em;\n",
       "border-left-style: solid;\n",
       "font-family: var(--jp-code-font-family);\n",
       "font-size: var(--jp-code-font-size);\n",
       "line-height: var(--jp-code-line-height);\n",
       "\"><span style=\"color: var(--jp-warn-color2)\">lsst.pipe.base.graphBuilder</span> <span style=\"color: var(--jp-warn-color0)\">WARNING</span>: No datasets of type finalized_src_table in collection &#x27;2.2i/runs/DP0.2/v23_0_1/PREOPS-905/step4_38/20220429T022751Z&#x27;.</pre>"
      ],
      "text/plain": [
       "<IPython.core.display.HTML object>"
      ]
     },
     "metadata": {},
     "output_type": "display_data"
    },
    {
     "data": {
      "text/html": [
       "<pre style=\"margin: 0.1em;\n",
       "padding-left: 0.25em;\n",
       "border-left-style: solid;\n",
       "font-family: var(--jp-code-font-family);\n",
       "font-size: var(--jp-code-font-size);\n",
       "line-height: var(--jp-code-line-height);\n",
       "\"><span style=\"color: var(--jp-warn-color2)\">lsst.pipe.base.graphBuilder</span> <span style=\"color: var(--jp-warn-color0)\">WARNING</span>: No datasets of type finalized_src_table in collection &#x27;2.2i/runs/DP0.2/v23_0_1/PREOPS-905/step4_1/20220419T041129Z&#x27;.</pre>"
      ],
      "text/plain": [
       "<IPython.core.display.HTML object>"
      ]
     },
     "metadata": {},
     "output_type": "display_data"
    },
    {
     "data": {
      "text/html": [
       "<pre style=\"margin: 0.1em;\n",
       "padding-left: 0.25em;\n",
       "border-left-style: solid;\n",
       "font-family: var(--jp-code-font-family);\n",
       "font-size: var(--jp-code-font-size);\n",
       "line-height: var(--jp-code-line-height);\n",
       "\"><span style=\"color: var(--jp-warn-color2)\">lsst.pipe.base.graphBuilder</span> <span style=\"color: var(--jp-warn-color0)\">WARNING</span>: No datasets of type finalized_src_table in collection &#x27;2.2i/runs/DP0.2/v23_0_1/PREOPS-905/step4_10/20220429T200139Z&#x27;.</pre>"
      ],
      "text/plain": [
       "<IPython.core.display.HTML object>"
      ]
     },
     "metadata": {},
     "output_type": "display_data"
    },
    {
     "data": {
      "text/html": [
       "<pre style=\"margin: 0.1em;\n",
       "padding-left: 0.25em;\n",
       "border-left-style: solid;\n",
       "font-family: var(--jp-code-font-family);\n",
       "font-size: var(--jp-code-font-size);\n",
       "line-height: var(--jp-code-line-height);\n",
       "\"><span style=\"color: var(--jp-warn-color2)\">lsst.pipe.base.graphBuilder</span> <span style=\"color: var(--jp-warn-color0)\">WARNING</span>: No datasets of type finalized_src_table in collection &#x27;2.2i/runs/DP0.2/v23_0_1/PREOPS-905/step4_11/20220430T013535Z&#x27;.</pre>"
      ],
      "text/plain": [
       "<IPython.core.display.HTML object>"
      ]
     },
     "metadata": {},
     "output_type": "display_data"
    },
    {
     "data": {
      "text/html": [
       "<pre style=\"margin: 0.1em;\n",
       "padding-left: 0.25em;\n",
       "border-left-style: solid;\n",
       "font-family: var(--jp-code-font-family);\n",
       "font-size: var(--jp-code-font-size);\n",
       "line-height: var(--jp-code-line-height);\n",
       "\"><span style=\"color: var(--jp-warn-color2)\">lsst.pipe.base.graphBuilder</span> <span style=\"color: var(--jp-warn-color0)\">WARNING</span>: No datasets of type finalized_src_table in collection &#x27;2.2i/runs/DP0.2/v23_0_1/PREOPS-905/step4_12/20220430T070958Z&#x27;.</pre>"
      ],
      "text/plain": [
       "<IPython.core.display.HTML object>"
      ]
     },
     "metadata": {},
     "output_type": "display_data"
    },
    {
     "data": {
      "text/html": [
       "<pre style=\"margin: 0.1em;\n",
       "padding-left: 0.25em;\n",
       "border-left-style: solid;\n",
       "font-family: var(--jp-code-font-family);\n",
       "font-size: var(--jp-code-font-size);\n",
       "line-height: var(--jp-code-line-height);\n",
       "\"><span style=\"color: var(--jp-warn-color2)\">lsst.pipe.base.graphBuilder</span> <span style=\"color: var(--jp-warn-color0)\">WARNING</span>: No datasets of type finalized_src_table in collection &#x27;2.2i/runs/DP0.2/v23_0_1/PREOPS-905/step4_13/20220422T152623Z&#x27;.</pre>"
      ],
      "text/plain": [
       "<IPython.core.display.HTML object>"
      ]
     },
     "metadata": {},
     "output_type": "display_data"
    },
    {
     "data": {
      "text/html": [
       "<pre style=\"margin: 0.1em;\n",
       "padding-left: 0.25em;\n",
       "border-left-style: solid;\n",
       "font-family: var(--jp-code-font-family);\n",
       "font-size: var(--jp-code-font-size);\n",
       "line-height: var(--jp-code-line-height);\n",
       "\"><span style=\"color: var(--jp-warn-color2)\">lsst.pipe.base.graphBuilder</span> <span style=\"color: var(--jp-warn-color0)\">WARNING</span>: No datasets of type finalized_src_table in collection &#x27;2.2i/runs/DP0.2/v23_0_1/PREOPS-905/step4_14/20220423T111506Z&#x27;.</pre>"
      ],
      "text/plain": [
       "<IPython.core.display.HTML object>"
      ]
     },
     "metadata": {},
     "output_type": "display_data"
    },
    {
     "data": {
      "text/html": [
       "<pre style=\"margin: 0.1em;\n",
       "padding-left: 0.25em;\n",
       "border-left-style: solid;\n",
       "font-family: var(--jp-code-font-family);\n",
       "font-size: var(--jp-code-font-size);\n",
       "line-height: var(--jp-code-line-height);\n",
       "\"><span style=\"color: var(--jp-warn-color2)\">lsst.pipe.base.graphBuilder</span> <span style=\"color: var(--jp-warn-color0)\">WARNING</span>: No datasets of type finalized_src_table in collection &#x27;2.2i/runs/DP0.2/v23_0_1/PREOPS-905/step4_15/20220423T171322Z&#x27;.</pre>"
      ],
      "text/plain": [
       "<IPython.core.display.HTML object>"
      ]
     },
     "metadata": {},
     "output_type": "display_data"
    },
    {
     "data": {
      "text/html": [
       "<pre style=\"margin: 0.1em;\n",
       "padding-left: 0.25em;\n",
       "border-left-style: solid;\n",
       "font-family: var(--jp-code-font-family);\n",
       "font-size: var(--jp-code-font-size);\n",
       "line-height: var(--jp-code-line-height);\n",
       "\"><span style=\"color: var(--jp-warn-color2)\">lsst.pipe.base.graphBuilder</span> <span style=\"color: var(--jp-warn-color0)\">WARNING</span>: No datasets of type finalized_src_table in collection &#x27;2.2i/runs/DP0.2/v23_0_1/PREOPS-905/step4_16/20220423T220848Z&#x27;.</pre>"
      ],
      "text/plain": [
       "<IPython.core.display.HTML object>"
      ]
     },
     "metadata": {},
     "output_type": "display_data"
    },
    {
     "data": {
      "text/html": [
       "<pre style=\"margin: 0.1em;\n",
       "padding-left: 0.25em;\n",
       "border-left-style: solid;\n",
       "font-family: var(--jp-code-font-family);\n",
       "font-size: var(--jp-code-font-size);\n",
       "line-height: var(--jp-code-line-height);\n",
       "\"><span style=\"color: var(--jp-warn-color2)\">lsst.pipe.base.graphBuilder</span> <span style=\"color: var(--jp-warn-color0)\">WARNING</span>: No datasets of type finalized_src_table in collection &#x27;2.2i/runs/DP0.2/v23_0_1/PREOPS-905/step4_17/20220424T030657Z&#x27;.</pre>"
      ],
      "text/plain": [
       "<IPython.core.display.HTML object>"
      ]
     },
     "metadata": {},
     "output_type": "display_data"
    },
    {
     "data": {
      "text/html": [
       "<pre style=\"margin: 0.1em;\n",
       "padding-left: 0.25em;\n",
       "border-left-style: solid;\n",
       "font-family: var(--jp-code-font-family);\n",
       "font-size: var(--jp-code-font-size);\n",
       "line-height: var(--jp-code-line-height);\n",
       "\"><span style=\"color: var(--jp-warn-color2)\">lsst.pipe.base.graphBuilder</span> <span style=\"color: var(--jp-warn-color0)\">WARNING</span>: No datasets of type finalized_src_table in collection &#x27;2.2i/runs/DP0.2/v23_0_1/PREOPS-905/step4_18/20220424T081202Z&#x27;.</pre>"
      ],
      "text/plain": [
       "<IPython.core.display.HTML object>"
      ]
     },
     "metadata": {},
     "output_type": "display_data"
    },
    {
     "data": {
      "text/html": [
       "<pre style=\"margin: 0.1em;\n",
       "padding-left: 0.25em;\n",
       "border-left-style: solid;\n",
       "font-family: var(--jp-code-font-family);\n",
       "font-size: var(--jp-code-font-size);\n",
       "line-height: var(--jp-code-line-height);\n",
       "\"><span style=\"color: var(--jp-warn-color2)\">lsst.pipe.base.graphBuilder</span> <span style=\"color: var(--jp-warn-color0)\">WARNING</span>: No datasets of type finalized_src_table in collection &#x27;2.2i/runs/DP0.2/v23_0_1/PREOPS-905/step4_19/20220424T131819Z&#x27;.</pre>"
      ],
      "text/plain": [
       "<IPython.core.display.HTML object>"
      ]
     },
     "metadata": {},
     "output_type": "display_data"
    },
    {
     "data": {
      "text/html": [
       "<pre style=\"margin: 0.1em;\n",
       "padding-left: 0.25em;\n",
       "border-left-style: solid;\n",
       "font-family: var(--jp-code-font-family);\n",
       "font-size: var(--jp-code-font-size);\n",
       "line-height: var(--jp-code-line-height);\n",
       "\"><span style=\"color: var(--jp-warn-color2)\">lsst.pipe.base.graphBuilder</span> <span style=\"color: var(--jp-warn-color0)\">WARNING</span>: No datasets of type finalized_src_table in collection &#x27;2.2i/runs/DP0.2/v23_0_1/PREOPS-905/step4_2/20220419T082436Z&#x27;.</pre>"
      ],
      "text/plain": [
       "<IPython.core.display.HTML object>"
      ]
     },
     "metadata": {},
     "output_type": "display_data"
    },
    {
     "data": {
      "text/html": [
       "<pre style=\"margin: 0.1em;\n",
       "padding-left: 0.25em;\n",
       "border-left-style: solid;\n",
       "font-family: var(--jp-code-font-family);\n",
       "font-size: var(--jp-code-font-size);\n",
       "line-height: var(--jp-code-line-height);\n",
       "\"><span style=\"color: var(--jp-warn-color2)\">lsst.pipe.base.graphBuilder</span> <span style=\"color: var(--jp-warn-color0)\">WARNING</span>: No datasets of type finalized_src_table in collection &#x27;2.2i/runs/DP0.2/v23_0_1/PREOPS-905/step4_20/20220424T182451Z&#x27;.</pre>"
      ],
      "text/plain": [
       "<IPython.core.display.HTML object>"
      ]
     },
     "metadata": {},
     "output_type": "display_data"
    },
    {
     "data": {
      "text/html": [
       "<pre style=\"margin: 0.1em;\n",
       "padding-left: 0.25em;\n",
       "border-left-style: solid;\n",
       "font-family: var(--jp-code-font-family);\n",
       "font-size: var(--jp-code-font-size);\n",
       "line-height: var(--jp-code-line-height);\n",
       "\"><span style=\"color: var(--jp-warn-color2)\">lsst.pipe.base.graphBuilder</span> <span style=\"color: var(--jp-warn-color0)\">WARNING</span>: No datasets of type finalized_src_table in collection &#x27;2.2i/runs/DP0.2/v23_0_1/PREOPS-905/step4_21/20220425T033108Z&#x27;.</pre>"
      ],
      "text/plain": [
       "<IPython.core.display.HTML object>"
      ]
     },
     "metadata": {},
     "output_type": "display_data"
    },
    {
     "data": {
      "text/html": [
       "<pre style=\"margin: 0.1em;\n",
       "padding-left: 0.25em;\n",
       "border-left-style: solid;\n",
       "font-family: var(--jp-code-font-family);\n",
       "font-size: var(--jp-code-font-size);\n",
       "line-height: var(--jp-code-line-height);\n",
       "\"><span style=\"color: var(--jp-warn-color2)\">lsst.pipe.base.graphBuilder</span> <span style=\"color: var(--jp-warn-color0)\">WARNING</span>: No datasets of type finalized_src_table in collection &#x27;2.2i/runs/DP0.2/v23_0_1/PREOPS-905/step4_22/20220425T090248Z&#x27;.</pre>"
      ],
      "text/plain": [
       "<IPython.core.display.HTML object>"
      ]
     },
     "metadata": {},
     "output_type": "display_data"
    },
    {
     "data": {
      "text/html": [
       "<pre style=\"margin: 0.1em;\n",
       "padding-left: 0.25em;\n",
       "border-left-style: solid;\n",
       "font-family: var(--jp-code-font-family);\n",
       "font-size: var(--jp-code-font-size);\n",
       "line-height: var(--jp-code-line-height);\n",
       "\"><span style=\"color: var(--jp-warn-color2)\">lsst.pipe.base.graphBuilder</span> <span style=\"color: var(--jp-warn-color0)\">WARNING</span>: No datasets of type finalized_src_table in collection &#x27;2.2i/runs/DP0.2/v23_0_1/PREOPS-905/step4_23/20220425T143818Z&#x27;.</pre>"
      ],
      "text/plain": [
       "<IPython.core.display.HTML object>"
      ]
     },
     "metadata": {},
     "output_type": "display_data"
    },
    {
     "data": {
      "text/html": [
       "<pre style=\"margin: 0.1em;\n",
       "padding-left: 0.25em;\n",
       "border-left-style: solid;\n",
       "font-family: var(--jp-code-font-family);\n",
       "font-size: var(--jp-code-font-size);\n",
       "line-height: var(--jp-code-line-height);\n",
       "\"><span style=\"color: var(--jp-warn-color2)\">lsst.pipe.base.graphBuilder</span> <span style=\"color: var(--jp-warn-color0)\">WARNING</span>: No datasets of type finalized_src_table in collection &#x27;2.2i/runs/DP0.2/v23_0_1/PREOPS-905/step4_24/20220425T200112Z&#x27;.</pre>"
      ],
      "text/plain": [
       "<IPython.core.display.HTML object>"
      ]
     },
     "metadata": {},
     "output_type": "display_data"
    },
    {
     "data": {
      "text/html": [
       "<pre style=\"margin: 0.1em;\n",
       "padding-left: 0.25em;\n",
       "border-left-style: solid;\n",
       "font-family: var(--jp-code-font-family);\n",
       "font-size: var(--jp-code-font-size);\n",
       "line-height: var(--jp-code-line-height);\n",
       "\"><span style=\"color: var(--jp-warn-color2)\">lsst.pipe.base.graphBuilder</span> <span style=\"color: var(--jp-warn-color0)\">WARNING</span>: No datasets of type finalized_src_table in collection &#x27;2.2i/runs/DP0.2/v23_0_1/PREOPS-905/step4_25/20220426T012543Z&#x27;.</pre>"
      ],
      "text/plain": [
       "<IPython.core.display.HTML object>"
      ]
     },
     "metadata": {},
     "output_type": "display_data"
    },
    {
     "data": {
      "text/html": [
       "<pre style=\"margin: 0.1em;\n",
       "padding-left: 0.25em;\n",
       "border-left-style: solid;\n",
       "font-family: var(--jp-code-font-family);\n",
       "font-size: var(--jp-code-font-size);\n",
       "line-height: var(--jp-code-line-height);\n",
       "\"><span style=\"color: var(--jp-warn-color2)\">lsst.pipe.base.graphBuilder</span> <span style=\"color: var(--jp-warn-color0)\">WARNING</span>: No datasets of type finalized_src_table in collection &#x27;2.2i/runs/DP0.2/v23_0_1/PREOPS-905/step4_26/20220426T070107Z&#x27;.</pre>"
      ],
      "text/plain": [
       "<IPython.core.display.HTML object>"
      ]
     },
     "metadata": {},
     "output_type": "display_data"
    },
    {
     "data": {
      "text/html": [
       "<pre style=\"margin: 0.1em;\n",
       "padding-left: 0.25em;\n",
       "border-left-style: solid;\n",
       "font-family: var(--jp-code-font-family);\n",
       "font-size: var(--jp-code-font-size);\n",
       "line-height: var(--jp-code-line-height);\n",
       "\"><span style=\"color: var(--jp-warn-color2)\">lsst.pipe.base.graphBuilder</span> <span style=\"color: var(--jp-warn-color0)\">WARNING</span>: No datasets of type finalized_src_table in collection &#x27;2.2i/runs/DP0.2/v23_0_1/PREOPS-905/step4_27/20220426T123155Z&#x27;.</pre>"
      ],
      "text/plain": [
       "<IPython.core.display.HTML object>"
      ]
     },
     "metadata": {},
     "output_type": "display_data"
    },
    {
     "data": {
      "text/html": [
       "<pre style=\"margin: 0.1em;\n",
       "padding-left: 0.25em;\n",
       "border-left-style: solid;\n",
       "font-family: var(--jp-code-font-family);\n",
       "font-size: var(--jp-code-font-size);\n",
       "line-height: var(--jp-code-line-height);\n",
       "\"><span style=\"color: var(--jp-warn-color2)\">lsst.pipe.base.graphBuilder</span> <span style=\"color: var(--jp-warn-color0)\">WARNING</span>: No datasets of type finalized_src_table in collection &#x27;2.2i/runs/DP0.2/v23_0_1/PREOPS-905/step4_28/20220426T180134Z&#x27;.</pre>"
      ],
      "text/plain": [
       "<IPython.core.display.HTML object>"
      ]
     },
     "metadata": {},
     "output_type": "display_data"
    },
    {
     "data": {
      "text/html": [
       "<pre style=\"margin: 0.1em;\n",
       "padding-left: 0.25em;\n",
       "border-left-style: solid;\n",
       "font-family: var(--jp-code-font-family);\n",
       "font-size: var(--jp-code-font-size);\n",
       "line-height: var(--jp-code-line-height);\n",
       "\"><span style=\"color: var(--jp-warn-color2)\">lsst.pipe.base.graphBuilder</span> <span style=\"color: var(--jp-warn-color0)\">WARNING</span>: No datasets of type finalized_src_table in collection &#x27;2.2i/runs/DP0.2/v23_0_1/PREOPS-905/step4_29/20220426T233505Z&#x27;.</pre>"
      ],
      "text/plain": [
       "<IPython.core.display.HTML object>"
      ]
     },
     "metadata": {},
     "output_type": "display_data"
    },
    {
     "data": {
      "text/html": [
       "<pre style=\"margin: 0.1em;\n",
       "padding-left: 0.25em;\n",
       "border-left-style: solid;\n",
       "font-family: var(--jp-code-font-family);\n",
       "font-size: var(--jp-code-font-size);\n",
       "line-height: var(--jp-code-line-height);\n",
       "\"><span style=\"color: var(--jp-warn-color2)\">lsst.pipe.base.graphBuilder</span> <span style=\"color: var(--jp-warn-color0)\">WARNING</span>: No datasets of type finalized_src_table in collection &#x27;2.2i/runs/DP0.2/v23_0_1/PREOPS-905/step4_3/20220419T123328Z&#x27;.</pre>"
      ],
      "text/plain": [
       "<IPython.core.display.HTML object>"
      ]
     },
     "metadata": {},
     "output_type": "display_data"
    },
    {
     "data": {
      "text/html": [
       "<pre style=\"margin: 0.1em;\n",
       "padding-left: 0.25em;\n",
       "border-left-style: solid;\n",
       "font-family: var(--jp-code-font-family);\n",
       "font-size: var(--jp-code-font-size);\n",
       "line-height: var(--jp-code-line-height);\n",
       "\"><span style=\"color: var(--jp-warn-color2)\">lsst.pipe.base.graphBuilder</span> <span style=\"color: var(--jp-warn-color0)\">WARNING</span>: No datasets of type finalized_src_table in collection &#x27;2.2i/runs/DP0.2/v23_0_1/PREOPS-905/step4_30/20220427T050650Z&#x27;.</pre>"
      ],
      "text/plain": [
       "<IPython.core.display.HTML object>"
      ]
     },
     "metadata": {},
     "output_type": "display_data"
    },
    {
     "data": {
      "text/html": [
       "<pre style=\"margin: 0.1em;\n",
       "padding-left: 0.25em;\n",
       "border-left-style: solid;\n",
       "font-family: var(--jp-code-font-family);\n",
       "font-size: var(--jp-code-font-size);\n",
       "line-height: var(--jp-code-line-height);\n",
       "\"><span style=\"color: var(--jp-warn-color2)\">lsst.pipe.base.graphBuilder</span> <span style=\"color: var(--jp-warn-color0)\">WARNING</span>: No datasets of type finalized_src_table in collection &#x27;2.2i/runs/DP0.2/v23_0_1/PREOPS-905/step4_31/20220427T103906Z&#x27;.</pre>"
      ],
      "text/plain": [
       "<IPython.core.display.HTML object>"
      ]
     },
     "metadata": {},
     "output_type": "display_data"
    },
    {
     "data": {
      "text/html": [
       "<pre style=\"margin: 0.1em;\n",
       "padding-left: 0.25em;\n",
       "border-left-style: solid;\n",
       "font-family: var(--jp-code-font-family);\n",
       "font-size: var(--jp-code-font-size);\n",
       "line-height: var(--jp-code-line-height);\n",
       "\"><span style=\"color: var(--jp-warn-color2)\">lsst.pipe.base.graphBuilder</span> <span style=\"color: var(--jp-warn-color0)\">WARNING</span>: No datasets of type finalized_src_table in collection &#x27;2.2i/runs/DP0.2/v23_0_1/PREOPS-905/step4_32/20220427T161652Z&#x27;.</pre>"
      ],
      "text/plain": [
       "<IPython.core.display.HTML object>"
      ]
     },
     "metadata": {},
     "output_type": "display_data"
    },
    {
     "data": {
      "text/html": [
       "<pre style=\"margin: 0.1em;\n",
       "padding-left: 0.25em;\n",
       "border-left-style: solid;\n",
       "font-family: var(--jp-code-font-family);\n",
       "font-size: var(--jp-code-font-size);\n",
       "line-height: var(--jp-code-line-height);\n",
       "\"><span style=\"color: var(--jp-warn-color2)\">lsst.pipe.base.graphBuilder</span> <span style=\"color: var(--jp-warn-color0)\">WARNING</span>: No datasets of type finalized_src_table in collection &#x27;2.2i/runs/DP0.2/v23_0_1/PREOPS-905/step4_33/20220427T215556Z&#x27;.</pre>"
      ],
      "text/plain": [
       "<IPython.core.display.HTML object>"
      ]
     },
     "metadata": {},
     "output_type": "display_data"
    },
    {
     "data": {
      "text/html": [
       "<pre style=\"margin: 0.1em;\n",
       "padding-left: 0.25em;\n",
       "border-left-style: solid;\n",
       "font-family: var(--jp-code-font-family);\n",
       "font-size: var(--jp-code-font-size);\n",
       "line-height: var(--jp-code-line-height);\n",
       "\"><span style=\"color: var(--jp-warn-color2)\">lsst.pipe.base.graphBuilder</span> <span style=\"color: var(--jp-warn-color0)\">WARNING</span>: No datasets of type finalized_src_table in collection &#x27;2.2i/runs/DP0.2/v23_0_1/PREOPS-905/step4_34/20220428T033022Z&#x27;.</pre>"
      ],
      "text/plain": [
       "<IPython.core.display.HTML object>"
      ]
     },
     "metadata": {},
     "output_type": "display_data"
    },
    {
     "data": {
      "text/html": [
       "<pre style=\"margin: 0.1em;\n",
       "padding-left: 0.25em;\n",
       "border-left-style: solid;\n",
       "font-family: var(--jp-code-font-family);\n",
       "font-size: var(--jp-code-font-size);\n",
       "line-height: var(--jp-code-line-height);\n",
       "\"><span style=\"color: var(--jp-warn-color2)\">lsst.pipe.base.graphBuilder</span> <span style=\"color: var(--jp-warn-color0)\">WARNING</span>: No datasets of type finalized_src_table in collection &#x27;2.2i/runs/DP0.2/v23_0_1/PREOPS-905/step4_35/20220428T091545Z&#x27;.</pre>"
      ],
      "text/plain": [
       "<IPython.core.display.HTML object>"
      ]
     },
     "metadata": {},
     "output_type": "display_data"
    },
    {
     "data": {
      "text/html": [
       "<pre style=\"margin: 0.1em;\n",
       "padding-left: 0.25em;\n",
       "border-left-style: solid;\n",
       "font-family: var(--jp-code-font-family);\n",
       "font-size: var(--jp-code-font-size);\n",
       "line-height: var(--jp-code-line-height);\n",
       "\"><span style=\"color: var(--jp-warn-color2)\">lsst.pipe.base.graphBuilder</span> <span style=\"color: var(--jp-warn-color0)\">WARNING</span>: No datasets of type finalized_src_table in collection &#x27;2.2i/runs/DP0.2/v23_0_1/PREOPS-905/step4_36/20220428T145517Z&#x27;.</pre>"
      ],
      "text/plain": [
       "<IPython.core.display.HTML object>"
      ]
     },
     "metadata": {},
     "output_type": "display_data"
    },
    {
     "data": {
      "text/html": [
       "<pre style=\"margin: 0.1em;\n",
       "padding-left: 0.25em;\n",
       "border-left-style: solid;\n",
       "font-family: var(--jp-code-font-family);\n",
       "font-size: var(--jp-code-font-size);\n",
       "line-height: var(--jp-code-line-height);\n",
       "\"><span style=\"color: var(--jp-warn-color2)\">lsst.pipe.base.graphBuilder</span> <span style=\"color: var(--jp-warn-color0)\">WARNING</span>: No datasets of type finalized_src_table in collection &#x27;2.2i/runs/DP0.2/v23_0_1/PREOPS-905/step4_37/20220428T203907Z&#x27;.</pre>"
      ],
      "text/plain": [
       "<IPython.core.display.HTML object>"
      ]
     },
     "metadata": {},
     "output_type": "display_data"
    },
    {
     "data": {
      "text/html": [
       "<pre style=\"margin: 0.1em;\n",
       "padding-left: 0.25em;\n",
       "border-left-style: solid;\n",
       "font-family: var(--jp-code-font-family);\n",
       "font-size: var(--jp-code-font-size);\n",
       "line-height: var(--jp-code-line-height);\n",
       "\"><span style=\"color: var(--jp-warn-color2)\">lsst.pipe.base.graphBuilder</span> <span style=\"color: var(--jp-warn-color0)\">WARNING</span>: No datasets of type finalized_src_table in collection &#x27;2.2i/runs/DP0.2/v23_0_1/PREOPS-905/step4_39/20220429T081628Z&#x27;.</pre>"
      ],
      "text/plain": [
       "<IPython.core.display.HTML object>"
      ]
     },
     "metadata": {},
     "output_type": "display_data"
    },
    {
     "data": {
      "text/html": [
       "<pre style=\"margin: 0.1em;\n",
       "padding-left: 0.25em;\n",
       "border-left-style: solid;\n",
       "font-family: var(--jp-code-font-family);\n",
       "font-size: var(--jp-code-font-size);\n",
       "line-height: var(--jp-code-line-height);\n",
       "\"><span style=\"color: var(--jp-warn-color2)\">lsst.pipe.base.graphBuilder</span> <span style=\"color: var(--jp-warn-color0)\">WARNING</span>: No datasets of type finalized_src_table in collection &#x27;2.2i/runs/DP0.2/v23_0_1/PREOPS-905/step4_4/20220419T163046Z&#x27;.</pre>"
      ],
      "text/plain": [
       "<IPython.core.display.HTML object>"
      ]
     },
     "metadata": {},
     "output_type": "display_data"
    },
    {
     "data": {
      "text/html": [
       "<pre style=\"margin: 0.1em;\n",
       "padding-left: 0.25em;\n",
       "border-left-style: solid;\n",
       "font-family: var(--jp-code-font-family);\n",
       "font-size: var(--jp-code-font-size);\n",
       "line-height: var(--jp-code-line-height);\n",
       "\"><span style=\"color: var(--jp-warn-color2)\">lsst.pipe.base.graphBuilder</span> <span style=\"color: var(--jp-warn-color0)\">WARNING</span>: No datasets of type finalized_src_table in collection &#x27;2.2i/runs/DP0.2/v23_0_1/PREOPS-905/step4_40/20220429T135816Z&#x27;.</pre>"
      ],
      "text/plain": [
       "<IPython.core.display.HTML object>"
      ]
     },
     "metadata": {},
     "output_type": "display_data"
    },
    {
     "data": {
      "text/html": [
       "<pre style=\"margin: 0.1em;\n",
       "padding-left: 0.25em;\n",
       "border-left-style: solid;\n",
       "font-family: var(--jp-code-font-family);\n",
       "font-size: var(--jp-code-font-size);\n",
       "line-height: var(--jp-code-line-height);\n",
       "\"><span style=\"color: var(--jp-warn-color2)\">lsst.pipe.base.graphBuilder</span> <span style=\"color: var(--jp-warn-color0)\">WARNING</span>: No datasets of type finalized_src_table in collection &#x27;2.2i/runs/DP0.2/v23_0_1/PREOPS-905/step4_5/20220419T204203Z&#x27;.</pre>"
      ],
      "text/plain": [
       "<IPython.core.display.HTML object>"
      ]
     },
     "metadata": {},
     "output_type": "display_data"
    },
    {
     "data": {
      "text/html": [
       "<pre style=\"margin: 0.1em;\n",
       "padding-left: 0.25em;\n",
       "border-left-style: solid;\n",
       "font-family: var(--jp-code-font-family);\n",
       "font-size: var(--jp-code-font-size);\n",
       "line-height: var(--jp-code-line-height);\n",
       "\"><span style=\"color: var(--jp-warn-color2)\">lsst.pipe.base.graphBuilder</span> <span style=\"color: var(--jp-warn-color0)\">WARNING</span>: No datasets of type finalized_src_table in collection &#x27;2.2i/runs/DP0.2/v23_0_1/PREOPS-905/step4_6/20220420T005103Z&#x27;.</pre>"
      ],
      "text/plain": [
       "<IPython.core.display.HTML object>"
      ]
     },
     "metadata": {},
     "output_type": "display_data"
    },
    {
     "data": {
      "text/html": [
       "<pre style=\"margin: 0.1em;\n",
       "padding-left: 0.25em;\n",
       "border-left-style: solid;\n",
       "font-family: var(--jp-code-font-family);\n",
       "font-size: var(--jp-code-font-size);\n",
       "line-height: var(--jp-code-line-height);\n",
       "\"><span style=\"color: var(--jp-warn-color2)\">lsst.pipe.base.graphBuilder</span> <span style=\"color: var(--jp-warn-color0)\">WARNING</span>: No datasets of type finalized_src_table in collection &#x27;2.2i/runs/DP0.2/v23_0_1/PREOPS-905/step4_7/20220420T173758Z&#x27;.</pre>"
      ],
      "text/plain": [
       "<IPython.core.display.HTML object>"
      ]
     },
     "metadata": {},
     "output_type": "display_data"
    },
    {
     "data": {
      "text/html": [
       "<pre style=\"margin: 0.1em;\n",
       "padding-left: 0.25em;\n",
       "border-left-style: solid;\n",
       "font-family: var(--jp-code-font-family);\n",
       "font-size: var(--jp-code-font-size);\n",
       "line-height: var(--jp-code-line-height);\n",
       "\"><span style=\"color: var(--jp-warn-color2)\">lsst.pipe.base.graphBuilder</span> <span style=\"color: var(--jp-warn-color0)\">WARNING</span>: No datasets of type finalized_src_table in collection &#x27;2.2i/runs/DP0.2/v23_0_1/PREOPS-905/step4_8/20220420T233604Z&#x27;.</pre>"
      ],
      "text/plain": [
       "<IPython.core.display.HTML object>"
      ]
     },
     "metadata": {},
     "output_type": "display_data"
    },
    {
     "data": {
      "text/html": [
       "<pre style=\"margin: 0.1em;\n",
       "padding-left: 0.25em;\n",
       "border-left-style: solid;\n",
       "font-family: var(--jp-code-font-family);\n",
       "font-size: var(--jp-code-font-size);\n",
       "line-height: var(--jp-code-line-height);\n",
       "\"><span style=\"color: var(--jp-warn-color2)\">lsst.pipe.base.graphBuilder</span> <span style=\"color: var(--jp-warn-color0)\">WARNING</span>: No datasets of type finalized_src_table in collection &#x27;2.2i/runs/DP0.2/v23_0_1/PREOPS-905/step4_9/20220421T052720Z&#x27;.</pre>"
      ],
      "text/plain": [
       "<IPython.core.display.HTML object>"
      ]
     },
     "metadata": {},
     "output_type": "display_data"
    },
    {
     "data": {
      "text/html": [
       "<pre style=\"margin: 0.1em;\n",
       "padding-left: 0.25em;\n",
       "border-left-style: solid;\n",
       "font-family: var(--jp-code-font-family);\n",
       "font-size: var(--jp-code-font-size);\n",
       "line-height: var(--jp-code-line-height);\n",
       "\"><span style=\"color: var(--jp-warn-color2)\">lsst.pipe.base.graphBuilder</span> <span style=\"color: var(--jp-warn-color0)\">WARNING</span>: No datasets of type finalized_src_table in collection &#x27;2.2i/runs/DP0.2/v23_0_1/PREOPS-905/step3_32/20220418T184335Z&#x27;.</pre>"
      ],
      "text/plain": [
       "<IPython.core.display.HTML object>"
      ]
     },
     "metadata": {},
     "output_type": "display_data"
    },
    {
     "data": {
      "text/html": [
       "<pre style=\"margin: 0.1em;\n",
       "padding-left: 0.25em;\n",
       "border-left-style: solid;\n",
       "font-family: var(--jp-code-font-family);\n",
       "font-size: var(--jp-code-font-size);\n",
       "line-height: var(--jp-code-line-height);\n",
       "\"><span style=\"color: var(--jp-warn-color2)\">lsst.pipe.base.graphBuilder</span> <span style=\"color: var(--jp-warn-color0)\">WARNING</span>: No datasets of type finalized_src_table in collection &#x27;2.2i/runs/DP0.2/v23_0_1/PREOPS-905/step3_32/20220418T180525Z&#x27;.</pre>"
      ],
      "text/plain": [
       "<IPython.core.display.HTML object>"
      ]
     },
     "metadata": {},
     "output_type": "display_data"
    },
    {
     "data": {
      "text/html": [
       "<pre style=\"margin: 0.1em;\n",
       "padding-left: 0.25em;\n",
       "border-left-style: solid;\n",
       "font-family: var(--jp-code-font-family);\n",
       "font-size: var(--jp-code-font-size);\n",
       "line-height: var(--jp-code-line-height);\n",
       "\"><span style=\"color: var(--jp-warn-color2)\">lsst.pipe.base.graphBuilder</span> <span style=\"color: var(--jp-warn-color0)\">WARNING</span>: No datasets of type finalized_src_table in collection &#x27;2.2i/runs/DP0.2/v23_0_1/PREOPS-905/step3_32/20220418T172818Z&#x27;.</pre>"
      ],
      "text/plain": [
       "<IPython.core.display.HTML object>"
      ]
     },
     "metadata": {},
     "output_type": "display_data"
    },
    {
     "data": {
      "text/html": [
       "<pre style=\"margin: 0.1em;\n",
       "padding-left: 0.25em;\n",
       "border-left-style: solid;\n",
       "font-family: var(--jp-code-font-family);\n",
       "font-size: var(--jp-code-font-size);\n",
       "line-height: var(--jp-code-line-height);\n",
       "\"><span style=\"color: var(--jp-warn-color2)\">lsst.pipe.base.graphBuilder</span> <span style=\"color: var(--jp-warn-color0)\">WARNING</span>: No datasets of type finalized_src_table in collection &#x27;2.2i/runs/DP0.2/v23_0_1/PREOPS-905/step3_32/20220418T165935Z&#x27;.</pre>"
      ],
      "text/plain": [
       "<IPython.core.display.HTML object>"
      ]
     },
     "metadata": {},
     "output_type": "display_data"
    },
    {
     "data": {
      "text/html": [
       "<pre style=\"margin: 0.1em;\n",
       "padding-left: 0.25em;\n",
       "border-left-style: solid;\n",
       "font-family: var(--jp-code-font-family);\n",
       "font-size: var(--jp-code-font-size);\n",
       "line-height: var(--jp-code-line-height);\n",
       "\"><span style=\"color: var(--jp-warn-color2)\">lsst.pipe.base.graphBuilder</span> <span style=\"color: var(--jp-warn-color0)\">WARNING</span>: No datasets of type finalized_src_table in collection &#x27;2.2i/runs/DP0.2/v23_0_1/PREOPS-905/step3_32/20220418T165845Z&#x27;.</pre>"
      ],
      "text/plain": [
       "<IPython.core.display.HTML object>"
      ]
     },
     "metadata": {},
     "output_type": "display_data"
    },
    {
     "data": {
      "text/html": [
       "<pre style=\"margin: 0.1em;\n",
       "padding-left: 0.25em;\n",
       "border-left-style: solid;\n",
       "font-family: var(--jp-code-font-family);\n",
       "font-size: var(--jp-code-font-size);\n",
       "line-height: var(--jp-code-line-height);\n",
       "\"><span style=\"color: var(--jp-warn-color2)\">lsst.pipe.base.graphBuilder</span> <span style=\"color: var(--jp-warn-color0)\">WARNING</span>: No datasets of type finalized_src_table in collection &#x27;2.2i/runs/DP0.2/v23_0_1/PREOPS-905/step3_9/20220405T164242Z&#x27;.</pre>"
      ],
      "text/plain": [
       "<IPython.core.display.HTML object>"
      ]
     },
     "metadata": {},
     "output_type": "display_data"
    },
    {
     "data": {
      "text/html": [
       "<pre style=\"margin: 0.1em;\n",
       "padding-left: 0.25em;\n",
       "border-left-style: solid;\n",
       "font-family: var(--jp-code-font-family);\n",
       "font-size: var(--jp-code-font-size);\n",
       "line-height: var(--jp-code-line-height);\n",
       "\"><span style=\"color: var(--jp-warn-color2)\">lsst.pipe.base.graphBuilder</span> <span style=\"color: var(--jp-warn-color0)\">WARNING</span>: No datasets of type finalized_src_table in collection &#x27;2.2i/runs/DP0.2/v23_0_1/PREOPS-905/step3_9/20220330T170001Z&#x27;.</pre>"
      ],
      "text/plain": [
       "<IPython.core.display.HTML object>"
      ]
     },
     "metadata": {},
     "output_type": "display_data"
    },
    {
     "data": {
      "text/html": [
       "<pre style=\"margin: 0.1em;\n",
       "padding-left: 0.25em;\n",
       "border-left-style: solid;\n",
       "font-family: var(--jp-code-font-family);\n",
       "font-size: var(--jp-code-font-size);\n",
       "line-height: var(--jp-code-line-height);\n",
       "\"><span style=\"color: var(--jp-warn-color2)\">lsst.pipe.base.graphBuilder</span> <span style=\"color: var(--jp-warn-color0)\">WARNING</span>: No datasets of type finalized_src_table in collection &#x27;2.2i/runs/DP0.2/v23_0_1/PREOPS-905/step3_7/20220330T145650Z&#x27;.</pre>"
      ],
      "text/plain": [
       "<IPython.core.display.HTML object>"
      ]
     },
     "metadata": {},
     "output_type": "display_data"
    },
    {
     "data": {
      "text/html": [
       "<pre style=\"margin: 0.1em;\n",
       "padding-left: 0.25em;\n",
       "border-left-style: solid;\n",
       "font-family: var(--jp-code-font-family);\n",
       "font-size: var(--jp-code-font-size);\n",
       "line-height: var(--jp-code-line-height);\n",
       "\"><span style=\"color: var(--jp-warn-color2)\">lsst.pipe.base.graphBuilder</span> <span style=\"color: var(--jp-warn-color0)\">WARNING</span>: No datasets of type finalized_src_table in collection &#x27;2.2i/runs/DP0.2/v23_0_1/PREOPS-905/step3_5/20220329T232416Z&#x27;.</pre>"
      ],
      "text/plain": [
       "<IPython.core.display.HTML object>"
      ]
     },
     "metadata": {},
     "output_type": "display_data"
    },
    {
     "data": {
      "text/html": [
       "<pre style=\"margin: 0.1em;\n",
       "padding-left: 0.25em;\n",
       "border-left-style: solid;\n",
       "font-family: var(--jp-code-font-family);\n",
       "font-size: var(--jp-code-font-size);\n",
       "line-height: var(--jp-code-line-height);\n",
       "\"><span style=\"color: var(--jp-warn-color2)\">lsst.pipe.base.graphBuilder</span> <span style=\"color: var(--jp-warn-color0)\">WARNING</span>: No datasets of type finalized_src_table in collection &#x27;2.2i/runs/DP0.2/v23_0_1/PREOPS-905/step3_32/20220410T153911Z&#x27;.</pre>"
      ],
      "text/plain": [
       "<IPython.core.display.HTML object>"
      ]
     },
     "metadata": {},
     "output_type": "display_data"
    },
    {
     "data": {
      "text/html": [
       "<pre style=\"margin: 0.1em;\n",
       "padding-left: 0.25em;\n",
       "border-left-style: solid;\n",
       "font-family: var(--jp-code-font-family);\n",
       "font-size: var(--jp-code-font-size);\n",
       "line-height: var(--jp-code-line-height);\n",
       "\"><span style=\"color: var(--jp-warn-color2)\">lsst.pipe.base.graphBuilder</span> <span style=\"color: var(--jp-warn-color0)\">WARNING</span>: No datasets of type finalized_src_table in collection &#x27;2.2i/runs/DP0.2/v23_0_1/PREOPS-905/step3_32/20220410T130944Z&#x27;.</pre>"
      ],
      "text/plain": [
       "<IPython.core.display.HTML object>"
      ]
     },
     "metadata": {},
     "output_type": "display_data"
    },
    {
     "data": {
      "text/html": [
       "<pre style=\"margin: 0.1em;\n",
       "padding-left: 0.25em;\n",
       "border-left-style: solid;\n",
       "font-family: var(--jp-code-font-family);\n",
       "font-size: var(--jp-code-font-size);\n",
       "line-height: var(--jp-code-line-height);\n",
       "\"><span style=\"color: var(--jp-warn-color2)\">lsst.pipe.base.graphBuilder</span> <span style=\"color: var(--jp-warn-color0)\">WARNING</span>: No datasets of type finalized_src_table in collection &#x27;2.2i/runs/DP0.2/v23_0_1/PREOPS-905/step3_32/20220407T030512Z&#x27;.</pre>"
      ],
      "text/plain": [
       "<IPython.core.display.HTML object>"
      ]
     },
     "metadata": {},
     "output_type": "display_data"
    },
    {
     "data": {
      "text/html": [
       "<pre style=\"margin: 0.1em;\n",
       "padding-left: 0.25em;\n",
       "border-left-style: solid;\n",
       "font-family: var(--jp-code-font-family);\n",
       "font-size: var(--jp-code-font-size);\n",
       "line-height: var(--jp-code-line-height);\n",
       "\"><span style=\"color: var(--jp-warn-color2)\">lsst.pipe.base.graphBuilder</span> <span style=\"color: var(--jp-warn-color0)\">WARNING</span>: No datasets of type finalized_src_table in collection &#x27;2.2i/runs/DP0.2/v23_0_1/PREOPS-905/step3_20/20220406T145057Z&#x27;.</pre>"
      ],
      "text/plain": [
       "<IPython.core.display.HTML object>"
      ]
     },
     "metadata": {},
     "output_type": "display_data"
    },
    {
     "data": {
      "text/html": [
       "<pre style=\"margin: 0.1em;\n",
       "padding-left: 0.25em;\n",
       "border-left-style: solid;\n",
       "font-family: var(--jp-code-font-family);\n",
       "font-size: var(--jp-code-font-size);\n",
       "line-height: var(--jp-code-line-height);\n",
       "\"><span style=\"color: var(--jp-warn-color2)\">lsst.pipe.base.graphBuilder</span> <span style=\"color: var(--jp-warn-color0)\">WARNING</span>: No datasets of type finalized_src_table in collection &#x27;2.2i/runs/DP0.2/v23_0_1/PREOPS-905/step3_20/20220331T124128Z&#x27;.</pre>"
      ],
      "text/plain": [
       "<IPython.core.display.HTML object>"
      ]
     },
     "metadata": {},
     "output_type": "display_data"
    },
    {
     "data": {
      "text/html": [
       "<pre style=\"margin: 0.1em;\n",
       "padding-left: 0.25em;\n",
       "border-left-style: solid;\n",
       "font-family: var(--jp-code-font-family);\n",
       "font-size: var(--jp-code-font-size);\n",
       "line-height: var(--jp-code-line-height);\n",
       "\"><span style=\"color: var(--jp-warn-color2)\">lsst.pipe.base.graphBuilder</span> <span style=\"color: var(--jp-warn-color0)\">WARNING</span>: No datasets of type finalized_src_table in collection &#x27;2.2i/runs/DP0.2/v23_0_1/PREOPS-905/step3_19/20220331T110357Z&#x27;.</pre>"
      ],
      "text/plain": [
       "<IPython.core.display.HTML object>"
      ]
     },
     "metadata": {},
     "output_type": "display_data"
    },
    {
     "data": {
      "text/html": [
       "<pre style=\"margin: 0.1em;\n",
       "padding-left: 0.25em;\n",
       "border-left-style: solid;\n",
       "font-family: var(--jp-code-font-family);\n",
       "font-size: var(--jp-code-font-size);\n",
       "line-height: var(--jp-code-line-height);\n",
       "\"><span style=\"color: var(--jp-warn-color2)\">lsst.pipe.base.graphBuilder</span> <span style=\"color: var(--jp-warn-color0)\">WARNING</span>: No datasets of type finalized_src_table in collection &#x27;2.2i/runs/DP0.2/v23_0_1/PREOPS-905/step3_18/20220406T130306Z&#x27;.</pre>"
      ],
      "text/plain": [
       "<IPython.core.display.HTML object>"
      ]
     },
     "metadata": {},
     "output_type": "display_data"
    },
    {
     "data": {
      "text/html": [
       "<pre style=\"margin: 0.1em;\n",
       "padding-left: 0.25em;\n",
       "border-left-style: solid;\n",
       "font-family: var(--jp-code-font-family);\n",
       "font-size: var(--jp-code-font-size);\n",
       "line-height: var(--jp-code-line-height);\n",
       "\"><span style=\"color: var(--jp-warn-color2)\">lsst.pipe.base.graphBuilder</span> <span style=\"color: var(--jp-warn-color0)\">WARNING</span>: No datasets of type finalized_src_table in collection &#x27;2.2i/runs/DP0.2/v23_0_1/PREOPS-905/step3_18/20220331T084313Z&#x27;.</pre>"
      ],
      "text/plain": [
       "<IPython.core.display.HTML object>"
      ]
     },
     "metadata": {},
     "output_type": "display_data"
    },
    {
     "data": {
      "text/html": [
       "<pre style=\"margin: 0.1em;\n",
       "padding-left: 0.25em;\n",
       "border-left-style: solid;\n",
       "font-family: var(--jp-code-font-family);\n",
       "font-size: var(--jp-code-font-size);\n",
       "line-height: var(--jp-code-line-height);\n",
       "\"><span style=\"color: var(--jp-warn-color2)\">lsst.pipe.base.graphBuilder</span> <span style=\"color: var(--jp-warn-color0)\">WARNING</span>: No datasets of type finalized_src_table in collection &#x27;2.2i/runs/DP0.2/v23_0_1/PREOPS-905/step3_17/20220406T111701Z&#x27;.</pre>"
      ],
      "text/plain": [
       "<IPython.core.display.HTML object>"
      ]
     },
     "metadata": {},
     "output_type": "display_data"
    },
    {
     "data": {
      "text/html": [
       "<pre style=\"margin: 0.1em;\n",
       "padding-left: 0.25em;\n",
       "border-left-style: solid;\n",
       "font-family: var(--jp-code-font-family);\n",
       "font-size: var(--jp-code-font-size);\n",
       "line-height: var(--jp-code-line-height);\n",
       "\"><span style=\"color: var(--jp-warn-color2)\">lsst.pipe.base.graphBuilder</span> <span style=\"color: var(--jp-warn-color0)\">WARNING</span>: No datasets of type finalized_src_table in collection &#x27;2.2i/runs/DP0.2/v23_0_1/PREOPS-905/step3_17/20220331T063809Z&#x27;.</pre>"
      ],
      "text/plain": [
       "<IPython.core.display.HTML object>"
      ]
     },
     "metadata": {},
     "output_type": "display_data"
    },
    {
     "data": {
      "text/html": [
       "<pre style=\"margin: 0.1em;\n",
       "padding-left: 0.25em;\n",
       "border-left-style: solid;\n",
       "font-family: var(--jp-code-font-family);\n",
       "font-size: var(--jp-code-font-size);\n",
       "line-height: var(--jp-code-line-height);\n",
       "\"><span style=\"color: var(--jp-warn-color2)\">lsst.pipe.base.graphBuilder</span> <span style=\"color: var(--jp-warn-color0)\">WARNING</span>: No datasets of type finalized_src_table in collection &#x27;2.2i/runs/DP0.2/v23_0_1/PREOPS-905/step3_16/20220406T095810Z&#x27;.</pre>"
      ],
      "text/plain": [
       "<IPython.core.display.HTML object>"
      ]
     },
     "metadata": {},
     "output_type": "display_data"
    },
    {
     "data": {
      "text/html": [
       "<pre style=\"margin: 0.1em;\n",
       "padding-left: 0.25em;\n",
       "border-left-style: solid;\n",
       "font-family: var(--jp-code-font-family);\n",
       "font-size: var(--jp-code-font-size);\n",
       "line-height: var(--jp-code-line-height);\n",
       "\"><span style=\"color: var(--jp-warn-color2)\">lsst.pipe.base.graphBuilder</span> <span style=\"color: var(--jp-warn-color0)\">WARNING</span>: No datasets of type finalized_src_table in collection &#x27;2.2i/runs/DP0.2/v23_0_1/PREOPS-905/step3_16/20220331T050027Z&#x27;.</pre>"
      ],
      "text/plain": [
       "<IPython.core.display.HTML object>"
      ]
     },
     "metadata": {},
     "output_type": "display_data"
    },
    {
     "data": {
      "text/html": [
       "<pre style=\"margin: 0.1em;\n",
       "padding-left: 0.25em;\n",
       "border-left-style: solid;\n",
       "font-family: var(--jp-code-font-family);\n",
       "font-size: var(--jp-code-font-size);\n",
       "line-height: var(--jp-code-line-height);\n",
       "\"><span style=\"color: var(--jp-warn-color2)\">lsst.pipe.base.graphBuilder</span> <span style=\"color: var(--jp-warn-color0)\">WARNING</span>: No datasets of type finalized_src_table in collection &#x27;2.2i/runs/DP0.2/v23_0_1/PREOPS-905/step3_15/20220406T081059Z&#x27;.</pre>"
      ],
      "text/plain": [
       "<IPython.core.display.HTML object>"
      ]
     },
     "metadata": {},
     "output_type": "display_data"
    },
    {
     "data": {
      "text/html": [
       "<pre style=\"margin: 0.1em;\n",
       "padding-left: 0.25em;\n",
       "border-left-style: solid;\n",
       "font-family: var(--jp-code-font-family);\n",
       "font-size: var(--jp-code-font-size);\n",
       "line-height: var(--jp-code-line-height);\n",
       "\"><span style=\"color: var(--jp-warn-color2)\">lsst.pipe.base.graphBuilder</span> <span style=\"color: var(--jp-warn-color0)\">WARNING</span>: No datasets of type finalized_src_table in collection &#x27;2.2i/runs/DP0.2/v23_0_1/PREOPS-905/step3_15/20220331T025327Z&#x27;.</pre>"
      ],
      "text/plain": [
       "<IPython.core.display.HTML object>"
      ]
     },
     "metadata": {},
     "output_type": "display_data"
    },
    {
     "data": {
      "text/html": [
       "<pre style=\"margin: 0.1em;\n",
       "padding-left: 0.25em;\n",
       "border-left-style: solid;\n",
       "font-family: var(--jp-code-font-family);\n",
       "font-size: var(--jp-code-font-size);\n",
       "line-height: var(--jp-code-line-height);\n",
       "\"><span style=\"color: var(--jp-warn-color2)\">lsst.pipe.base.graphBuilder</span> <span style=\"color: var(--jp-warn-color0)\">WARNING</span>: No datasets of type finalized_src_table in collection &#x27;2.2i/runs/DP0.2/v23_0_1/PREOPS-905/step3_14/20220406T063431Z&#x27;.</pre>"
      ],
      "text/plain": [
       "<IPython.core.display.HTML object>"
      ]
     },
     "metadata": {},
     "output_type": "display_data"
    },
    {
     "data": {
      "text/html": [
       "<pre style=\"margin: 0.1em;\n",
       "padding-left: 0.25em;\n",
       "border-left-style: solid;\n",
       "font-family: var(--jp-code-font-family);\n",
       "font-size: var(--jp-code-font-size);\n",
       "line-height: var(--jp-code-line-height);\n",
       "\"><span style=\"color: var(--jp-warn-color2)\">lsst.pipe.base.graphBuilder</span> <span style=\"color: var(--jp-warn-color0)\">WARNING</span>: No datasets of type finalized_src_table in collection &#x27;2.2i/runs/DP0.2/v23_0_1/PREOPS-905/step3_14/20220331T004509Z&#x27;.</pre>"
      ],
      "text/plain": [
       "<IPython.core.display.HTML object>"
      ]
     },
     "metadata": {},
     "output_type": "display_data"
    },
    {
     "data": {
      "text/html": [
       "<pre style=\"margin: 0.1em;\n",
       "padding-left: 0.25em;\n",
       "border-left-style: solid;\n",
       "font-family: var(--jp-code-font-family);\n",
       "font-size: var(--jp-code-font-size);\n",
       "line-height: var(--jp-code-line-height);\n",
       "\"><span style=\"color: var(--jp-warn-color2)\">lsst.pipe.base.graphBuilder</span> <span style=\"color: var(--jp-warn-color0)\">WARNING</span>: No datasets of type finalized_src_table in collection &#x27;2.2i/runs/DP0.2/v23_0_1/PREOPS-905/step3_13/20220406T045526Z&#x27;.</pre>"
      ],
      "text/plain": [
       "<IPython.core.display.HTML object>"
      ]
     },
     "metadata": {},
     "output_type": "display_data"
    },
    {
     "data": {
      "text/html": [
       "<pre style=\"margin: 0.1em;\n",
       "padding-left: 0.25em;\n",
       "border-left-style: solid;\n",
       "font-family: var(--jp-code-font-family);\n",
       "font-size: var(--jp-code-font-size);\n",
       "line-height: var(--jp-code-line-height);\n",
       "\"><span style=\"color: var(--jp-warn-color2)\">lsst.pipe.base.graphBuilder</span> <span style=\"color: var(--jp-warn-color0)\">WARNING</span>: No datasets of type finalized_src_table in collection &#x27;2.2i/runs/DP0.2/v23_0_1/PREOPS-905/step3_13/20220330T224603Z&#x27;.</pre>"
      ],
      "text/plain": [
       "<IPython.core.display.HTML object>"
      ]
     },
     "metadata": {},
     "output_type": "display_data"
    },
    {
     "data": {
      "text/html": [
       "<pre style=\"margin: 0.1em;\n",
       "padding-left: 0.25em;\n",
       "border-left-style: solid;\n",
       "font-family: var(--jp-code-font-family);\n",
       "font-size: var(--jp-code-font-size);\n",
       "line-height: var(--jp-code-line-height);\n",
       "\"><span style=\"color: var(--jp-warn-color2)\">lsst.pipe.base.graphBuilder</span> <span style=\"color: var(--jp-warn-color0)\">WARNING</span>: No datasets of type finalized_src_table in collection &#x27;2.2i/runs/DP0.2/v23_0_1/PREOPS-905/step3_12/20220405T182718Z&#x27;.</pre>"
      ],
      "text/plain": [
       "<IPython.core.display.HTML object>"
      ]
     },
     "metadata": {},
     "output_type": "display_data"
    },
    {
     "data": {
      "text/html": [
       "<pre style=\"margin: 0.1em;\n",
       "padding-left: 0.25em;\n",
       "border-left-style: solid;\n",
       "font-family: var(--jp-code-font-family);\n",
       "font-size: var(--jp-code-font-size);\n",
       "line-height: var(--jp-code-line-height);\n",
       "\"><span style=\"color: var(--jp-warn-color2)\">lsst.pipe.base.graphBuilder</span> <span style=\"color: var(--jp-warn-color0)\">WARNING</span>: No datasets of type finalized_src_table in collection &#x27;2.2i/runs/DP0.2/v23_0_1/PREOPS-905/step3_12/20220330T204043Z&#x27;.</pre>"
      ],
      "text/plain": [
       "<IPython.core.display.HTML object>"
      ]
     },
     "metadata": {},
     "output_type": "display_data"
    },
    {
     "data": {
      "text/html": [
       "<pre style=\"margin: 0.1em;\n",
       "padding-left: 0.25em;\n",
       "border-left-style: solid;\n",
       "font-family: var(--jp-code-font-family);\n",
       "font-size: var(--jp-code-font-size);\n",
       "line-height: var(--jp-code-line-height);\n",
       "\"><span style=\"color: var(--jp-warn-color2)\">lsst.pipe.base.graphBuilder</span> <span style=\"color: var(--jp-warn-color0)\">WARNING</span>: No datasets of type finalized_src_table in collection &#x27;2.2i/runs/DP0.2/v23_0_1/PREOPS-905/step3_11/20220330T190852Z&#x27;.</pre>"
      ],
      "text/plain": [
       "<IPython.core.display.HTML object>"
      ]
     },
     "metadata": {},
     "output_type": "display_data"
    },
    {
     "data": {
      "text/html": [
       "<pre style=\"margin: 0.1em;\n",
       "padding-left: 0.25em;\n",
       "border-left-style: solid;\n",
       "font-family: var(--jp-code-font-family);\n",
       "font-size: var(--jp-code-font-size);\n",
       "line-height: var(--jp-code-line-height);\n",
       "\"><span style=\"color: var(--jp-warn-color2)\">lsst.pipe.base.graphBuilder</span> <span style=\"color: var(--jp-warn-color0)\">WARNING</span>: No datasets of type finalized_src_table in collection &#x27;2.2i/runs/DP0.2/v23_0_1/PREOPS-905/step3_27/20220322T202545Z&#x27;.</pre>"
      ],
      "text/plain": [
       "<IPython.core.display.HTML object>"
      ]
     },
     "metadata": {},
     "output_type": "display_data"
    },
    {
     "data": {
      "text/html": [
       "<pre style=\"margin: 0.1em;\n",
       "padding-left: 0.25em;\n",
       "border-left-style: solid;\n",
       "font-family: var(--jp-code-font-family);\n",
       "font-size: var(--jp-code-font-size);\n",
       "line-height: var(--jp-code-line-height);\n",
       "\"><span style=\"color: var(--jp-warn-color2)\">lsst.pipe.base.graphBuilder</span> <span style=\"color: var(--jp-warn-color0)\">WARNING</span>: No datasets of type finalized_src_table in collection &#x27;2.2i/runs/DP0.2/v23_0_1/PREOPS-905/step3_4/20220325T122210Z&#x27;.</pre>"
      ],
      "text/plain": [
       "<IPython.core.display.HTML object>"
      ]
     },
     "metadata": {},
     "output_type": "display_data"
    },
    {
     "data": {
      "text/html": [
       "<pre style=\"margin: 0.1em;\n",
       "padding-left: 0.25em;\n",
       "border-left-style: solid;\n",
       "font-family: var(--jp-code-font-family);\n",
       "font-size: var(--jp-code-font-size);\n",
       "line-height: var(--jp-code-line-height);\n",
       "\"><span style=\"color: var(--jp-warn-color2)\">lsst.pipe.base.graphBuilder</span> <span style=\"color: var(--jp-warn-color0)\">WARNING</span>: No datasets of type finalized_src_table in collection &#x27;2.2i/runs/DP0.2/v23_0_1/PREOPS-905/step3_29/20220325T223049Z&#x27;.</pre>"
      ],
      "text/plain": [
       "<IPython.core.display.HTML object>"
      ]
     },
     "metadata": {},
     "output_type": "display_data"
    },
    {
     "data": {
      "text/html": [
       "<pre style=\"margin: 0.1em;\n",
       "padding-left: 0.25em;\n",
       "border-left-style: solid;\n",
       "font-family: var(--jp-code-font-family);\n",
       "font-size: var(--jp-code-font-size);\n",
       "line-height: var(--jp-code-line-height);\n",
       "\"><span style=\"color: var(--jp-warn-color2)\">lsst.pipe.base.graphBuilder</span> <span style=\"color: var(--jp-warn-color0)\">WARNING</span>: No datasets of type finalized_src_table in collection &#x27;2.2i/runs/DP0.2/v23_0_1/PREOPS-905/step3_26/20220325T204503Z&#x27;.</pre>"
      ],
      "text/plain": [
       "<IPython.core.display.HTML object>"
      ]
     },
     "metadata": {},
     "output_type": "display_data"
    },
    {
     "data": {
      "text/html": [
       "<pre style=\"margin: 0.1em;\n",
       "padding-left: 0.25em;\n",
       "border-left-style: solid;\n",
       "font-family: var(--jp-code-font-family);\n",
       "font-size: var(--jp-code-font-size);\n",
       "line-height: var(--jp-code-line-height);\n",
       "\"><span style=\"color: var(--jp-warn-color2)\">lsst.pipe.base.graphBuilder</span> <span style=\"color: var(--jp-warn-color0)\">WARNING</span>: No datasets of type finalized_src_table in collection &#x27;2.2i/runs/DP0.2/v23_0_1/PREOPS-905/step3_25/20220325T190019Z&#x27;.</pre>"
      ],
      "text/plain": [
       "<IPython.core.display.HTML object>"
      ]
     },
     "metadata": {},
     "output_type": "display_data"
    },
    {
     "data": {
      "text/html": [
       "<pre style=\"margin: 0.1em;\n",
       "padding-left: 0.25em;\n",
       "border-left-style: solid;\n",
       "font-family: var(--jp-code-font-family);\n",
       "font-size: var(--jp-code-font-size);\n",
       "line-height: var(--jp-code-line-height);\n",
       "\"><span style=\"color: var(--jp-warn-color2)\">lsst.pipe.base.graphBuilder</span> <span style=\"color: var(--jp-warn-color0)\">WARNING</span>: No datasets of type finalized_src_table in collection &#x27;2.2i/runs/DP0.2/v23_0_1/PREOPS-905/step3_24/20220325T174013Z&#x27;.</pre>"
      ],
      "text/plain": [
       "<IPython.core.display.HTML object>"
      ]
     },
     "metadata": {},
     "output_type": "display_data"
    },
    {
     "data": {
      "text/html": [
       "<pre style=\"margin: 0.1em;\n",
       "padding-left: 0.25em;\n",
       "border-left-style: solid;\n",
       "font-family: var(--jp-code-font-family);\n",
       "font-size: var(--jp-code-font-size);\n",
       "line-height: var(--jp-code-line-height);\n",
       "\"><span style=\"color: var(--jp-warn-color2)\">lsst.pipe.base.graphBuilder</span> <span style=\"color: var(--jp-warn-color0)\">WARNING</span>: No datasets of type finalized_src_table in collection &#x27;2.2i/runs/DP0.2/v23_0_1/PREOPS-905/step3_23/20220325T155617Z&#x27;.</pre>"
      ],
      "text/plain": [
       "<IPython.core.display.HTML object>"
      ]
     },
     "metadata": {},
     "output_type": "display_data"
    },
    {
     "data": {
      "text/html": [
       "<pre style=\"margin: 0.1em;\n",
       "padding-left: 0.25em;\n",
       "border-left-style: solid;\n",
       "font-family: var(--jp-code-font-family);\n",
       "font-size: var(--jp-code-font-size);\n",
       "line-height: var(--jp-code-line-height);\n",
       "\"><span style=\"color: var(--jp-warn-color2)\">lsst.pipe.base.graphBuilder</span> <span style=\"color: var(--jp-warn-color0)\">WARNING</span>: No datasets of type finalized_src_table in collection &#x27;2.2i/runs/DP0.2/v23_0_1/PREOPS-905/step3_22/20220325T141557Z&#x27;.</pre>"
      ],
      "text/plain": [
       "<IPython.core.display.HTML object>"
      ]
     },
     "metadata": {},
     "output_type": "display_data"
    },
    {
     "data": {
      "text/html": [
       "<pre style=\"margin: 0.1em;\n",
       "padding-left: 0.25em;\n",
       "border-left-style: solid;\n",
       "font-family: var(--jp-code-font-family);\n",
       "font-size: var(--jp-code-font-size);\n",
       "line-height: var(--jp-code-line-height);\n",
       "\"><span style=\"color: var(--jp-warn-color2)\">lsst.pipe.base.graphBuilder</span> <span style=\"color: var(--jp-warn-color0)\">WARNING</span>: No datasets of type finalized_src_table in collection &#x27;2.2i/runs/DP0.2/v23_0_1/PREOPS-905/step3_2/20220325T104104Z&#x27;.</pre>"
      ],
      "text/plain": [
       "<IPython.core.display.HTML object>"
      ]
     },
     "metadata": {},
     "output_type": "display_data"
    },
    {
     "data": {
      "text/html": [
       "<pre style=\"margin: 0.1em;\n",
       "padding-left: 0.25em;\n",
       "border-left-style: solid;\n",
       "font-family: var(--jp-code-font-family);\n",
       "font-size: var(--jp-code-font-size);\n",
       "line-height: var(--jp-code-line-height);\n",
       "\"><span style=\"color: var(--jp-warn-color2)\">lsst.pipe.base.graphBuilder</span> <span style=\"color: var(--jp-warn-color0)\">WARNING</span>: No datasets of type finalized_src_table in collection &#x27;2.2i/runs/DP0.2/v23_0_1/PREOPS-905/step3_1/20220326T032806Z&#x27;.</pre>"
      ],
      "text/plain": [
       "<IPython.core.display.HTML object>"
      ]
     },
     "metadata": {},
     "output_type": "display_data"
    },
    {
     "data": {
      "text/html": [
       "<pre style=\"margin: 0.1em;\n",
       "padding-left: 0.25em;\n",
       "border-left-style: solid;\n",
       "font-family: var(--jp-code-font-family);\n",
       "font-size: var(--jp-code-font-size);\n",
       "line-height: var(--jp-code-line-height);\n",
       "\"><span style=\"color: var(--jp-warn-color2)\">lsst.pipe.base.graphBuilder</span> <span style=\"color: var(--jp-warn-color0)\">WARNING</span>: No datasets of type finalized_src_table in collection &#x27;2.2i/runs/DP0.2/v23_0_1/PREOPS-905/step3_8/20220316T205925Z&#x27;.</pre>"
      ],
      "text/plain": [
       "<IPython.core.display.HTML object>"
      ]
     },
     "metadata": {},
     "output_type": "display_data"
    },
    {
     "data": {
      "text/html": [
       "<pre style=\"margin: 0.1em;\n",
       "padding-left: 0.25em;\n",
       "border-left-style: solid;\n",
       "font-family: var(--jp-code-font-family);\n",
       "font-size: var(--jp-code-font-size);\n",
       "line-height: var(--jp-code-line-height);\n",
       "\"><span style=\"color: var(--jp-warn-color2)\">lsst.pipe.base.graphBuilder</span> <span style=\"color: var(--jp-warn-color0)\">WARNING</span>: No datasets of type finalized_src_table in collection &#x27;2.2i/runs/DP0.2/v23_0_1/PREOPS-905/step3_6/20220318T134046Z&#x27;.</pre>"
      ],
      "text/plain": [
       "<IPython.core.display.HTML object>"
      ]
     },
     "metadata": {},
     "output_type": "display_data"
    },
    {
     "data": {
      "text/html": [
       "<pre style=\"margin: 0.1em;\n",
       "padding-left: 0.25em;\n",
       "border-left-style: solid;\n",
       "font-family: var(--jp-code-font-family);\n",
       "font-size: var(--jp-code-font-size);\n",
       "line-height: var(--jp-code-line-height);\n",
       "\"><span style=\"color: var(--jp-warn-color2)\">lsst.pipe.base.graphBuilder</span> <span style=\"color: var(--jp-warn-color0)\">WARNING</span>: No datasets of type finalized_src_table in collection &#x27;2.2i/runs/DP0.2/v23_0_1/PREOPS-905/step3_27/20220316T171018Z&#x27;.</pre>"
      ],
      "text/plain": [
       "<IPython.core.display.HTML object>"
      ]
     },
     "metadata": {},
     "output_type": "display_data"
    },
    {
     "data": {
      "text/html": [
       "<pre style=\"margin: 0.1em;\n",
       "padding-left: 0.25em;\n",
       "border-left-style: solid;\n",
       "font-family: var(--jp-code-font-family);\n",
       "font-size: var(--jp-code-font-size);\n",
       "line-height: var(--jp-code-line-height);\n",
       "\"><span style=\"color: var(--jp-warn-color2)\">lsst.pipe.base.graphBuilder</span> <span style=\"color: var(--jp-warn-color0)\">WARNING</span>: No datasets of type finalized_src_table in collection &#x27;2.2i/runs/DP0.2/v23_0_1/PREOPS-905/step3_1/20220317T233937Z&#x27;.</pre>"
      ],
      "text/plain": [
       "<IPython.core.display.HTML object>"
      ]
     },
     "metadata": {},
     "output_type": "display_data"
    },
    {
     "data": {
      "text/html": [
       "<pre style=\"margin: 0.1em;\n",
       "padding-left: 0.25em;\n",
       "border-left-style: solid;\n",
       "font-family: var(--jp-code-font-family);\n",
       "font-size: var(--jp-code-font-size);\n",
       "line-height: var(--jp-code-line-height);\n",
       "\"><span style=\"color: var(--jp-warn-color2)\">lsst.pipe.base.graphBuilder</span> <span style=\"color: var(--jp-warn-color0)\">WARNING</span>: No datasets of type finalized_src_table in collection &#x27;2.2i/runs/DP0.2/v23_0_1/PREOPS-905/step3_6/20220316T192214Z&#x27;.</pre>"
      ],
      "text/plain": [
       "<IPython.core.display.HTML object>"
      ]
     },
     "metadata": {},
     "output_type": "display_data"
    },
    {
     "data": {
      "text/html": [
       "<pre style=\"margin: 0.1em;\n",
       "padding-left: 0.25em;\n",
       "border-left-style: solid;\n",
       "font-family: var(--jp-code-font-family);\n",
       "font-size: var(--jp-code-font-size);\n",
       "line-height: var(--jp-code-line-height);\n",
       "\"><span style=\"color: var(--jp-warn-color2)\">lsst.pipe.base.graphBuilder</span> <span style=\"color: var(--jp-warn-color0)\">WARNING</span>: No datasets of type finalized_src_table in collection &#x27;2.2i/runs/DP0.2/v23_0_1/PREOPS-905/step3_10/20220315T122041Z&#x27;.</pre>"
      ],
      "text/plain": [
       "<IPython.core.display.HTML object>"
      ]
     },
     "metadata": {},
     "output_type": "display_data"
    },
    {
     "data": {
      "text/html": [
       "<pre style=\"margin: 0.1em;\n",
       "padding-left: 0.25em;\n",
       "border-left-style: solid;\n",
       "font-family: var(--jp-code-font-family);\n",
       "font-size: var(--jp-code-font-size);\n",
       "line-height: var(--jp-code-line-height);\n",
       "\"><span style=\"color: var(--jp-warn-color2)\">lsst.pipe.base.graphBuilder</span> <span style=\"color: var(--jp-warn-color0)\">WARNING</span>: No datasets of type finalized_src_table in collection &#x27;2.2i/runs/DP0.2/v23_0_1/PREOPS-905/step3_8/20220309T160814Z&#x27;.</pre>"
      ],
      "text/plain": [
       "<IPython.core.display.HTML object>"
      ]
     },
     "metadata": {},
     "output_type": "display_data"
    },
    {
     "data": {
      "text/html": [
       "<pre style=\"margin: 0.1em;\n",
       "padding-left: 0.25em;\n",
       "border-left-style: solid;\n",
       "font-family: var(--jp-code-font-family);\n",
       "font-size: var(--jp-code-font-size);\n",
       "line-height: var(--jp-code-line-height);\n",
       "\"><span style=\"color: var(--jp-warn-color2)\">lsst.pipe.base.graphBuilder</span> <span style=\"color: var(--jp-warn-color0)\">WARNING</span>: No datasets of type finalized_src_table in collection &#x27;2.2i/runs/DP0.2/v23_0_1/PREOPS-905/step3_6/20220309T170243Z&#x27;.</pre>"
      ],
      "text/plain": [
       "<IPython.core.display.HTML object>"
      ]
     },
     "metadata": {},
     "output_type": "display_data"
    },
    {
     "data": {
      "text/html": [
       "<pre style=\"margin: 0.1em;\n",
       "padding-left: 0.25em;\n",
       "border-left-style: solid;\n",
       "font-family: var(--jp-code-font-family);\n",
       "font-size: var(--jp-code-font-size);\n",
       "line-height: var(--jp-code-line-height);\n",
       "\"><span style=\"color: var(--jp-warn-color2)\">lsst.pipe.base.graphBuilder</span> <span style=\"color: var(--jp-warn-color0)\">WARNING</span>: No datasets of type finalized_src_table in collection &#x27;2.2i/runs/DP0.2/v23_0_1/PREOPS-905/step3_4/20220315T051405Z&#x27;.</pre>"
      ],
      "text/plain": [
       "<IPython.core.display.HTML object>"
      ]
     },
     "metadata": {},
     "output_type": "display_data"
    },
    {
     "data": {
      "text/html": [
       "<pre style=\"margin: 0.1em;\n",
       "padding-left: 0.25em;\n",
       "border-left-style: solid;\n",
       "font-family: var(--jp-code-font-family);\n",
       "font-size: var(--jp-code-font-size);\n",
       "line-height: var(--jp-code-line-height);\n",
       "\"><span style=\"color: var(--jp-warn-color2)\">lsst.pipe.base.graphBuilder</span> <span style=\"color: var(--jp-warn-color0)\">WARNING</span>: No datasets of type finalized_src_table in collection &#x27;2.2i/runs/DP0.2/v23_0_1/PREOPS-905/step3_4/20220309T042312Z&#x27;.</pre>"
      ],
      "text/plain": [
       "<IPython.core.display.HTML object>"
      ]
     },
     "metadata": {},
     "output_type": "display_data"
    },
    {
     "data": {
      "text/html": [
       "<pre style=\"margin: 0.1em;\n",
       "padding-left: 0.25em;\n",
       "border-left-style: solid;\n",
       "font-family: var(--jp-code-font-family);\n",
       "font-size: var(--jp-code-font-size);\n",
       "line-height: var(--jp-code-line-height);\n",
       "\"><span style=\"color: var(--jp-warn-color2)\">lsst.pipe.base.graphBuilder</span> <span style=\"color: var(--jp-warn-color0)\">WARNING</span>: No datasets of type finalized_src_table in collection &#x27;2.2i/runs/DP0.2/v23_0_1/PREOPS-905/step3_31/20220314T212509Z&#x27;.</pre>"
      ],
      "text/plain": [
       "<IPython.core.display.HTML object>"
      ]
     },
     "metadata": {},
     "output_type": "display_data"
    },
    {
     "data": {
      "text/html": [
       "<pre style=\"margin: 0.1em;\n",
       "padding-left: 0.25em;\n",
       "border-left-style: solid;\n",
       "font-family: var(--jp-code-font-family);\n",
       "font-size: var(--jp-code-font-size);\n",
       "line-height: var(--jp-code-line-height);\n",
       "\"><span style=\"color: var(--jp-warn-color2)\">lsst.pipe.base.graphBuilder</span> <span style=\"color: var(--jp-warn-color0)\">WARNING</span>: No datasets of type finalized_src_table in collection &#x27;2.2i/runs/DP0.2/v23_0_1/PREOPS-905/step3_31/20220307T050825Z&#x27;.</pre>"
      ],
      "text/plain": [
       "<IPython.core.display.HTML object>"
      ]
     },
     "metadata": {},
     "output_type": "display_data"
    },
    {
     "data": {
      "text/html": [
       "<pre style=\"margin: 0.1em;\n",
       "padding-left: 0.25em;\n",
       "border-left-style: solid;\n",
       "font-family: var(--jp-code-font-family);\n",
       "font-size: var(--jp-code-font-size);\n",
       "line-height: var(--jp-code-line-height);\n",
       "\"><span style=\"color: var(--jp-warn-color2)\">lsst.pipe.base.graphBuilder</span> <span style=\"color: var(--jp-warn-color0)\">WARNING</span>: No datasets of type finalized_src_table in collection &#x27;2.2i/runs/DP0.2/v23_0_1/PREOPS-905/step3_30/20220314T194916Z&#x27;.</pre>"
      ],
      "text/plain": [
       "<IPython.core.display.HTML object>"
      ]
     },
     "metadata": {},
     "output_type": "display_data"
    },
    {
     "data": {
      "text/html": [
       "<pre style=\"margin: 0.1em;\n",
       "padding-left: 0.25em;\n",
       "border-left-style: solid;\n",
       "font-family: var(--jp-code-font-family);\n",
       "font-size: var(--jp-code-font-size);\n",
       "line-height: var(--jp-code-line-height);\n",
       "\"><span style=\"color: var(--jp-warn-color2)\">lsst.pipe.base.graphBuilder</span> <span style=\"color: var(--jp-warn-color0)\">WARNING</span>: No datasets of type finalized_src_table in collection &#x27;2.2i/runs/DP0.2/v23_0_1/PREOPS-905/step3_30/20220306T160359Z&#x27;.</pre>"
      ],
      "text/plain": [
       "<IPython.core.display.HTML object>"
      ]
     },
     "metadata": {},
     "output_type": "display_data"
    },
    {
     "data": {
      "text/html": [
       "<pre style=\"margin: 0.1em;\n",
       "padding-left: 0.25em;\n",
       "border-left-style: solid;\n",
       "font-family: var(--jp-code-font-family);\n",
       "font-size: var(--jp-code-font-size);\n",
       "line-height: var(--jp-code-line-height);\n",
       "\"><span style=\"color: var(--jp-warn-color2)\">lsst.pipe.base.graphBuilder</span> <span style=\"color: var(--jp-warn-color0)\">WARNING</span>: No datasets of type finalized_src_table in collection &#x27;2.2i/runs/DP0.2/v23_0_1/PREOPS-905/step3_3/20220315T012904Z&#x27;.</pre>"
      ],
      "text/plain": [
       "<IPython.core.display.HTML object>"
      ]
     },
     "metadata": {},
     "output_type": "display_data"
    },
    {
     "data": {
      "text/html": [
       "<pre style=\"margin: 0.1em;\n",
       "padding-left: 0.25em;\n",
       "border-left-style: solid;\n",
       "font-family: var(--jp-code-font-family);\n",
       "font-size: var(--jp-code-font-size);\n",
       "line-height: var(--jp-code-line-height);\n",
       "\"><span style=\"color: var(--jp-warn-color2)\">lsst.pipe.base.graphBuilder</span> <span style=\"color: var(--jp-warn-color0)\">WARNING</span>: No datasets of type finalized_src_table in collection &#x27;2.2i/runs/DP0.2/v23_0_1/PREOPS-905/step3_3/20220309T040429Z&#x27;.</pre>"
      ],
      "text/plain": [
       "<IPython.core.display.HTML object>"
      ]
     },
     "metadata": {},
     "output_type": "display_data"
    },
    {
     "data": {
      "text/html": [
       "<pre style=\"margin: 0.1em;\n",
       "padding-left: 0.25em;\n",
       "border-left-style: solid;\n",
       "font-family: var(--jp-code-font-family);\n",
       "font-size: var(--jp-code-font-size);\n",
       "line-height: var(--jp-code-line-height);\n",
       "\"><span style=\"color: var(--jp-warn-color2)\">lsst.pipe.base.graphBuilder</span> <span style=\"color: var(--jp-warn-color0)\">WARNING</span>: No datasets of type finalized_src_table in collection &#x27;2.2i/runs/DP0.2/v23_0_1/PREOPS-905/step3_29/20220314T204515Z&#x27;.</pre>"
      ],
      "text/plain": [
       "<IPython.core.display.HTML object>"
      ]
     },
     "metadata": {},
     "output_type": "display_data"
    },
    {
     "data": {
      "text/html": [
       "<pre style=\"margin: 0.1em;\n",
       "padding-left: 0.25em;\n",
       "border-left-style: solid;\n",
       "font-family: var(--jp-code-font-family);\n",
       "font-size: var(--jp-code-font-size);\n",
       "line-height: var(--jp-code-line-height);\n",
       "\"><span style=\"color: var(--jp-warn-color2)\">lsst.pipe.base.graphBuilder</span> <span style=\"color: var(--jp-warn-color0)\">WARNING</span>: No datasets of type finalized_src_table in collection &#x27;2.2i/runs/DP0.2/v23_0_1/PREOPS-905/step3_29/20220306T172459Z&#x27;.</pre>"
      ],
      "text/plain": [
       "<IPython.core.display.HTML object>"
      ]
     },
     "metadata": {},
     "output_type": "display_data"
    },
    {
     "data": {
      "text/html": [
       "<pre style=\"margin: 0.1em;\n",
       "padding-left: 0.25em;\n",
       "border-left-style: solid;\n",
       "font-family: var(--jp-code-font-family);\n",
       "font-size: var(--jp-code-font-size);\n",
       "line-height: var(--jp-code-line-height);\n",
       "\"><span style=\"color: var(--jp-warn-color2)\">lsst.pipe.base.graphBuilder</span> <span style=\"color: var(--jp-warn-color0)\">WARNING</span>: No datasets of type finalized_src_table in collection &#x27;2.2i/runs/DP0.2/v23_0_1/PREOPS-905/step3_28/20220314T185100Z&#x27;.</pre>"
      ],
      "text/plain": [
       "<IPython.core.display.HTML object>"
      ]
     },
     "metadata": {},
     "output_type": "display_data"
    },
    {
     "data": {
      "text/html": [
       "<pre style=\"margin: 0.1em;\n",
       "padding-left: 0.25em;\n",
       "border-left-style: solid;\n",
       "font-family: var(--jp-code-font-family);\n",
       "font-size: var(--jp-code-font-size);\n",
       "line-height: var(--jp-code-line-height);\n",
       "\"><span style=\"color: var(--jp-warn-color2)\">lsst.pipe.base.graphBuilder</span> <span style=\"color: var(--jp-warn-color0)\">WARNING</span>: No datasets of type finalized_src_table in collection &#x27;2.2i/runs/DP0.2/v23_0_1/PREOPS-905/step3_28/20220306T041600Z&#x27;.</pre>"
      ],
      "text/plain": [
       "<IPython.core.display.HTML object>"
      ]
     },
     "metadata": {},
     "output_type": "display_data"
    },
    {
     "data": {
      "text/html": [
       "<pre style=\"margin: 0.1em;\n",
       "padding-left: 0.25em;\n",
       "border-left-style: solid;\n",
       "font-family: var(--jp-code-font-family);\n",
       "font-size: var(--jp-code-font-size);\n",
       "line-height: var(--jp-code-line-height);\n",
       "\"><span style=\"color: var(--jp-warn-color2)\">lsst.pipe.base.graphBuilder</span> <span style=\"color: var(--jp-warn-color0)\">WARNING</span>: No datasets of type finalized_src_table in collection &#x27;2.2i/runs/DP0.2/v23_0_1/PREOPS-905/step3_27/20220306T050001Z&#x27;.</pre>"
      ],
      "text/plain": [
       "<IPython.core.display.HTML object>"
      ]
     },
     "metadata": {},
     "output_type": "display_data"
    },
    {
     "data": {
      "text/html": [
       "<pre style=\"margin: 0.1em;\n",
       "padding-left: 0.25em;\n",
       "border-left-style: solid;\n",
       "font-family: var(--jp-code-font-family);\n",
       "font-size: var(--jp-code-font-size);\n",
       "line-height: var(--jp-code-line-height);\n",
       "\"><span style=\"color: var(--jp-warn-color2)\">lsst.pipe.base.graphBuilder</span> <span style=\"color: var(--jp-warn-color0)\">WARNING</span>: No datasets of type finalized_src_table in collection &#x27;2.2i/runs/DP0.2/v23_0_1/PREOPS-905/step3_26/20220305T162808Z&#x27;.</pre>"
      ],
      "text/plain": [
       "<IPython.core.display.HTML object>"
      ]
     },
     "metadata": {},
     "output_type": "display_data"
    },
    {
     "data": {
      "text/html": [
       "<pre style=\"margin: 0.1em;\n",
       "padding-left: 0.25em;\n",
       "border-left-style: solid;\n",
       "font-family: var(--jp-code-font-family);\n",
       "font-size: var(--jp-code-font-size);\n",
       "line-height: var(--jp-code-line-height);\n",
       "\"><span style=\"color: var(--jp-warn-color2)\">lsst.pipe.base.graphBuilder</span> <span style=\"color: var(--jp-warn-color0)\">WARNING</span>: No datasets of type finalized_src_table in collection &#x27;2.2i/runs/DP0.2/v23_0_1/PREOPS-905/step3_25/20220305T164554Z&#x27;.</pre>"
      ],
      "text/plain": [
       "<IPython.core.display.HTML object>"
      ]
     },
     "metadata": {},
     "output_type": "display_data"
    },
    {
     "data": {
      "text/html": [
       "<pre style=\"margin: 0.1em;\n",
       "padding-left: 0.25em;\n",
       "border-left-style: solid;\n",
       "font-family: var(--jp-code-font-family);\n",
       "font-size: var(--jp-code-font-size);\n",
       "line-height: var(--jp-code-line-height);\n",
       "\"><span style=\"color: var(--jp-warn-color2)\">lsst.pipe.base.graphBuilder</span> <span style=\"color: var(--jp-warn-color0)\">WARNING</span>: No datasets of type finalized_src_table in collection &#x27;2.2i/runs/DP0.2/v23_0_1/PREOPS-905/step3_24/20220305T052326Z&#x27;.</pre>"
      ],
      "text/plain": [
       "<IPython.core.display.HTML object>"
      ]
     },
     "metadata": {},
     "output_type": "display_data"
    },
    {
     "data": {
      "text/html": [
       "<pre style=\"margin: 0.1em;\n",
       "padding-left: 0.25em;\n",
       "border-left-style: solid;\n",
       "font-family: var(--jp-code-font-family);\n",
       "font-size: var(--jp-code-font-size);\n",
       "line-height: var(--jp-code-line-height);\n",
       "\"><span style=\"color: var(--jp-warn-color2)\">lsst.pipe.base.graphBuilder</span> <span style=\"color: var(--jp-warn-color0)\">WARNING</span>: No datasets of type finalized_src_table in collection &#x27;2.2i/runs/DP0.2/v23_0_1/PREOPS-905/step3_23/20220305T044606Z&#x27;.</pre>"
      ],
      "text/plain": [
       "<IPython.core.display.HTML object>"
      ]
     },
     "metadata": {},
     "output_type": "display_data"
    },
    {
     "data": {
      "text/html": [
       "<pre style=\"margin: 0.1em;\n",
       "padding-left: 0.25em;\n",
       "border-left-style: solid;\n",
       "font-family: var(--jp-code-font-family);\n",
       "font-size: var(--jp-code-font-size);\n",
       "line-height: var(--jp-code-line-height);\n",
       "\"><span style=\"color: var(--jp-warn-color2)\">lsst.pipe.base.graphBuilder</span> <span style=\"color: var(--jp-warn-color0)\">WARNING</span>: No datasets of type finalized_src_table in collection &#x27;2.2i/runs/DP0.2/v23_0_1/PREOPS-905/step3_22/20220304T174139Z&#x27;.</pre>"
      ],
      "text/plain": [
       "<IPython.core.display.HTML object>"
      ]
     },
     "metadata": {},
     "output_type": "display_data"
    },
    {
     "data": {
      "text/html": [
       "<pre style=\"margin: 0.1em;\n",
       "padding-left: 0.25em;\n",
       "border-left-style: solid;\n",
       "font-family: var(--jp-code-font-family);\n",
       "font-size: var(--jp-code-font-size);\n",
       "line-height: var(--jp-code-line-height);\n",
       "\"><span style=\"color: var(--jp-warn-color2)\">lsst.pipe.base.graphBuilder</span> <span style=\"color: var(--jp-warn-color0)\">WARNING</span>: No datasets of type finalized_src_table in collection &#x27;2.2i/runs/DP0.2/v23_0_1/PREOPS-905/step3_21/20220314T170839Z&#x27;.</pre>"
      ],
      "text/plain": [
       "<IPython.core.display.HTML object>"
      ]
     },
     "metadata": {},
     "output_type": "display_data"
    },
    {
     "data": {
      "text/html": [
       "<pre style=\"margin: 0.1em;\n",
       "padding-left: 0.25em;\n",
       "border-left-style: solid;\n",
       "font-family: var(--jp-code-font-family);\n",
       "font-size: var(--jp-code-font-size);\n",
       "line-height: var(--jp-code-line-height);\n",
       "\"><span style=\"color: var(--jp-warn-color2)\">lsst.pipe.base.graphBuilder</span> <span style=\"color: var(--jp-warn-color0)\">WARNING</span>: No datasets of type finalized_src_table in collection &#x27;2.2i/runs/DP0.2/v23_0_1/PREOPS-905/step3_21/20220304T163449Z&#x27;.</pre>"
      ],
      "text/plain": [
       "<IPython.core.display.HTML object>"
      ]
     },
     "metadata": {},
     "output_type": "display_data"
    },
    {
     "data": {
      "text/html": [
       "<pre style=\"margin: 0.1em;\n",
       "padding-left: 0.25em;\n",
       "border-left-style: solid;\n",
       "font-family: var(--jp-code-font-family);\n",
       "font-size: var(--jp-code-font-size);\n",
       "line-height: var(--jp-code-line-height);\n",
       "\"><span style=\"color: var(--jp-warn-color2)\">lsst.pipe.base.graphBuilder</span> <span style=\"color: var(--jp-warn-color0)\">WARNING</span>: No datasets of type finalized_src_table in collection &#x27;2.2i/runs/DP0.2/v23_0_1/PREOPS-905/step3_2/20220308T164354Z&#x27;.</pre>"
      ],
      "text/plain": [
       "<IPython.core.display.HTML object>"
      ]
     },
     "metadata": {},
     "output_type": "display_data"
    },
    {
     "data": {
      "text/html": [
       "<pre style=\"margin: 0.1em;\n",
       "padding-left: 0.25em;\n",
       "border-left-style: solid;\n",
       "font-family: var(--jp-code-font-family);\n",
       "font-size: var(--jp-code-font-size);\n",
       "line-height: var(--jp-code-line-height);\n",
       "\"><span style=\"color: var(--jp-warn-color2)\">lsst.pipe.base.graphBuilder</span> <span style=\"color: var(--jp-warn-color0)\">WARNING</span>: No datasets of type finalized_src_table in collection &#x27;2.2i/runs/DP0.2/v23_0_1/PREOPS-905/step3_10/20220310T050847Z&#x27;.</pre>"
      ],
      "text/plain": [
       "<IPython.core.display.HTML object>"
      ]
     },
     "metadata": {},
     "output_type": "display_data"
    },
    {
     "data": {
      "text/html": [
       "<pre style=\"margin: 0.1em;\n",
       "padding-left: 0.25em;\n",
       "border-left-style: solid;\n",
       "font-family: var(--jp-code-font-family);\n",
       "font-size: var(--jp-code-font-size);\n",
       "line-height: var(--jp-code-line-height);\n",
       "\"><span style=\"color: var(--jp-warn-color2)\">lsst.pipe.base.graphBuilder</span> <span style=\"color: var(--jp-warn-color0)\">WARNING</span>: No datasets of type finalized_src_table in collection &#x27;2.2i/runs/DP0.2/v23_0_1/PREOPS-905/step3_1/20220308T153907Z&#x27;.</pre>"
      ],
      "text/plain": [
       "<IPython.core.display.HTML object>"
      ]
     },
     "metadata": {},
     "output_type": "display_data"
    },
    {
     "data": {
      "text/html": [
       "<pre style=\"margin: 0.1em;\n",
       "padding-left: 0.25em;\n",
       "border-left-style: solid;\n",
       "font-family: var(--jp-code-font-family);\n",
       "font-size: var(--jp-code-font-size);\n",
       "line-height: var(--jp-code-line-height);\n",
       "\"><span style=\"color: var(--jp-warn-color2)\">lsst.pipe.base.graphBuilder</span> <span style=\"color: var(--jp-warn-color0)\">WARNING</span>: No datasets of type finalized_src_table in collection &#x27;2.2i/runs/DP0.2/v23_0_1/PREOPS-905/step3_11/20220220T032646Z&#x27;.</pre>"
      ],
      "text/plain": [
       "<IPython.core.display.HTML object>"
      ]
     },
     "metadata": {},
     "output_type": "display_data"
    },
    {
     "data": {
      "text/html": [
       "<pre style=\"margin: 0.1em;\n",
       "padding-left: 0.25em;\n",
       "border-left-style: solid;\n",
       "font-family: var(--jp-code-font-family);\n",
       "font-size: var(--jp-code-font-size);\n",
       "line-height: var(--jp-code-line-height);\n",
       "\"><span style=\"color: var(--jp-warn-color2)\">lsst.pipe.base.graphBuilder</span> <span style=\"color: var(--jp-warn-color0)\">WARNING</span>: No datasets of type finalized_src_table in collection &#x27;2.2i/runs/DP0.2/v23_0_1/PREOPS-905/step3_12/20220218T172932Z&#x27;.</pre>"
      ],
      "text/plain": [
       "<IPython.core.display.HTML object>"
      ]
     },
     "metadata": {},
     "output_type": "display_data"
    },
    {
     "data": {
      "text/html": [
       "<pre style=\"margin: 0.1em;\n",
       "padding-left: 0.25em;\n",
       "border-left-style: solid;\n",
       "font-family: var(--jp-code-font-family);\n",
       "font-size: var(--jp-code-font-size);\n",
       "line-height: var(--jp-code-line-height);\n",
       "\"><span style=\"color: var(--jp-warn-color2)\">lsst.pipe.base.graphBuilder</span> <span style=\"color: var(--jp-warn-color0)\">WARNING</span>: No datasets of type finalized_src_table in collection &#x27;2.2i/runs/DP0.2/v23_0_1/PREOPS-905/step3_13/20220220T142359Z&#x27;.</pre>"
      ],
      "text/plain": [
       "<IPython.core.display.HTML object>"
      ]
     },
     "metadata": {},
     "output_type": "display_data"
    },
    {
     "data": {
      "text/html": [
       "<pre style=\"margin: 0.1em;\n",
       "padding-left: 0.25em;\n",
       "border-left-style: solid;\n",
       "font-family: var(--jp-code-font-family);\n",
       "font-size: var(--jp-code-font-size);\n",
       "line-height: var(--jp-code-line-height);\n",
       "\"><span style=\"color: var(--jp-warn-color2)\">lsst.pipe.base.graphBuilder</span> <span style=\"color: var(--jp-warn-color0)\">WARNING</span>: No datasets of type finalized_src_table in collection &#x27;2.2i/runs/DP0.2/v23_0_1/PREOPS-905/step3_13/20220302T190942Z&#x27;.</pre>"
      ],
      "text/plain": [
       "<IPython.core.display.HTML object>"
      ]
     },
     "metadata": {},
     "output_type": "display_data"
    },
    {
     "data": {
      "text/html": [
       "<pre style=\"margin: 0.1em;\n",
       "padding-left: 0.25em;\n",
       "border-left-style: solid;\n",
       "font-family: var(--jp-code-font-family);\n",
       "font-size: var(--jp-code-font-size);\n",
       "line-height: var(--jp-code-line-height);\n",
       "\"><span style=\"color: var(--jp-warn-color2)\">lsst.pipe.base.graphBuilder</span> <span style=\"color: var(--jp-warn-color0)\">WARNING</span>: No datasets of type finalized_src_table in collection &#x27;2.2i/runs/DP0.2/v23_0_1/PREOPS-905/step3_14/20220219T051120Z&#x27;.</pre>"
      ],
      "text/plain": [
       "<IPython.core.display.HTML object>"
      ]
     },
     "metadata": {},
     "output_type": "display_data"
    },
    {
     "data": {
      "text/html": [
       "<pre style=\"margin: 0.1em;\n",
       "padding-left: 0.25em;\n",
       "border-left-style: solid;\n",
       "font-family: var(--jp-code-font-family);\n",
       "font-size: var(--jp-code-font-size);\n",
       "line-height: var(--jp-code-line-height);\n",
       "\"><span style=\"color: var(--jp-warn-color2)\">lsst.pipe.base.graphBuilder</span> <span style=\"color: var(--jp-warn-color0)\">WARNING</span>: No datasets of type finalized_src_table in collection &#x27;2.2i/runs/DP0.2/v23_0_1/PREOPS-905/step3_15/20220221T015820Z&#x27;.</pre>"
      ],
      "text/plain": [
       "<IPython.core.display.HTML object>"
      ]
     },
     "metadata": {},
     "output_type": "display_data"
    },
    {
     "data": {
      "text/html": [
       "<pre style=\"margin: 0.1em;\n",
       "padding-left: 0.25em;\n",
       "border-left-style: solid;\n",
       "font-family: var(--jp-code-font-family);\n",
       "font-size: var(--jp-code-font-size);\n",
       "line-height: var(--jp-code-line-height);\n",
       "\"><span style=\"color: var(--jp-warn-color2)\">lsst.pipe.base.graphBuilder</span> <span style=\"color: var(--jp-warn-color0)\">WARNING</span>: No datasets of type finalized_src_table in collection &#x27;2.2i/runs/DP0.2/v23_0_1/PREOPS-905/step3_15/20220302T200340Z&#x27;.</pre>"
      ],
      "text/plain": [
       "<IPython.core.display.HTML object>"
      ]
     },
     "metadata": {},
     "output_type": "display_data"
    },
    {
     "data": {
      "text/html": [
       "<pre style=\"margin: 0.1em;\n",
       "padding-left: 0.25em;\n",
       "border-left-style: solid;\n",
       "font-family: var(--jp-code-font-family);\n",
       "font-size: var(--jp-code-font-size);\n",
       "line-height: var(--jp-code-line-height);\n",
       "\"><span style=\"color: var(--jp-warn-color2)\">lsst.pipe.base.graphBuilder</span> <span style=\"color: var(--jp-warn-color0)\">WARNING</span>: No datasets of type finalized_src_table in collection &#x27;2.2i/runs/DP0.2/v23_0_1/PREOPS-905/step3_16/20220219T164501Z&#x27;.</pre>"
      ],
      "text/plain": [
       "<IPython.core.display.HTML object>"
      ]
     },
     "metadata": {},
     "output_type": "display_data"
    },
    {
     "data": {
      "text/html": [
       "<pre style=\"margin: 0.1em;\n",
       "padding-left: 0.25em;\n",
       "border-left-style: solid;\n",
       "font-family: var(--jp-code-font-family);\n",
       "font-size: var(--jp-code-font-size);\n",
       "line-height: var(--jp-code-line-height);\n",
       "\"><span style=\"color: var(--jp-warn-color2)\">lsst.pipe.base.graphBuilder</span> <span style=\"color: var(--jp-warn-color0)\">WARNING</span>: No datasets of type finalized_src_table in collection &#x27;2.2i/runs/DP0.2/v23_0_1/PREOPS-905/step3_16/20220302T210859Z&#x27;.</pre>"
      ],
      "text/plain": [
       "<IPython.core.display.HTML object>"
      ]
     },
     "metadata": {},
     "output_type": "display_data"
    },
    {
     "data": {
      "text/html": [
       "<pre style=\"margin: 0.1em;\n",
       "padding-left: 0.25em;\n",
       "border-left-style: solid;\n",
       "font-family: var(--jp-code-font-family);\n",
       "font-size: var(--jp-code-font-size);\n",
       "line-height: var(--jp-code-line-height);\n",
       "\"><span style=\"color: var(--jp-warn-color2)\">lsst.pipe.base.graphBuilder</span> <span style=\"color: var(--jp-warn-color0)\">WARNING</span>: No datasets of type finalized_src_table in collection &#x27;2.2i/runs/DP0.2/v23_0_1/PREOPS-905/step3_17/20220220T035232Z&#x27;.</pre>"
      ],
      "text/plain": [
       "<IPython.core.display.HTML object>"
      ]
     },
     "metadata": {},
     "output_type": "display_data"
    },
    {
     "data": {
      "text/html": [
       "<pre style=\"margin: 0.1em;\n",
       "padding-left: 0.25em;\n",
       "border-left-style: solid;\n",
       "font-family: var(--jp-code-font-family);\n",
       "font-size: var(--jp-code-font-size);\n",
       "line-height: var(--jp-code-line-height);\n",
       "\"><span style=\"color: var(--jp-warn-color2)\">lsst.pipe.base.graphBuilder</span> <span style=\"color: var(--jp-warn-color0)\">WARNING</span>: No datasets of type finalized_src_table in collection &#x27;2.2i/runs/DP0.2/v23_0_1/PREOPS-905/step3_18/20220220T153612Z&#x27;.</pre>"
      ],
      "text/plain": [
       "<IPython.core.display.HTML object>"
      ]
     },
     "metadata": {},
     "output_type": "display_data"
    },
    {
     "data": {
      "text/html": [
       "<pre style=\"margin: 0.1em;\n",
       "padding-left: 0.25em;\n",
       "border-left-style: solid;\n",
       "font-family: var(--jp-code-font-family);\n",
       "font-size: var(--jp-code-font-size);\n",
       "line-height: var(--jp-code-line-height);\n",
       "\"><span style=\"color: var(--jp-warn-color2)\">lsst.pipe.base.graphBuilder</span> <span style=\"color: var(--jp-warn-color0)\">WARNING</span>: No datasets of type finalized_src_table in collection &#x27;2.2i/runs/DP0.2/v23_0_1/PREOPS-905/step3_19/20220221T031952Z&#x27;.</pre>"
      ],
      "text/plain": [
       "<IPython.core.display.HTML object>"
      ]
     },
     "metadata": {},
     "output_type": "display_data"
    },
    {
     "data": {
      "text/html": [
       "<pre style=\"margin: 0.1em;\n",
       "padding-left: 0.25em;\n",
       "border-left-style: solid;\n",
       "font-family: var(--jp-code-font-family);\n",
       "font-size: var(--jp-code-font-size);\n",
       "line-height: var(--jp-code-line-height);\n",
       "\"><span style=\"color: var(--jp-warn-color2)\">lsst.pipe.base.graphBuilder</span> <span style=\"color: var(--jp-warn-color0)\">WARNING</span>: No datasets of type finalized_src_table in collection &#x27;2.2i/runs/DP0.2/v23_0_1/PREOPS-905/step3_19/20220302T215536Z&#x27;.</pre>"
      ],
      "text/plain": [
       "<IPython.core.display.HTML object>"
      ]
     },
     "metadata": {},
     "output_type": "display_data"
    },
    {
     "data": {
      "text/html": [
       "<pre style=\"margin: 0.1em;\n",
       "padding-left: 0.25em;\n",
       "border-left-style: solid;\n",
       "font-family: var(--jp-code-font-family);\n",
       "font-size: var(--jp-code-font-size);\n",
       "line-height: var(--jp-code-line-height);\n",
       "\"><span style=\"color: var(--jp-warn-color2)\">lsst.pipe.base.graphBuilder</span> <span style=\"color: var(--jp-warn-color0)\">WARNING</span>: No datasets of type finalized_src_table in collection &#x27;2.2i/runs/DP0.2/v23_0_1/PREOPS-905/step3_20/20220225T211807Z&#x27;.</pre>"
      ],
      "text/plain": [
       "<IPython.core.display.HTML object>"
      ]
     },
     "metadata": {},
     "output_type": "display_data"
    },
    {
     "data": {
      "text/html": [
       "<pre style=\"margin: 0.1em;\n",
       "padding-left: 0.25em;\n",
       "border-left-style: solid;\n",
       "font-family: var(--jp-code-font-family);\n",
       "font-size: var(--jp-code-font-size);\n",
       "line-height: var(--jp-code-line-height);\n",
       "\"><span style=\"color: var(--jp-warn-color2)\">lsst.pipe.base.graphBuilder</span> <span style=\"color: var(--jp-warn-color0)\">WARNING</span>: No datasets of type finalized_src_table in collection &#x27;2.2i/runs/DP0.2/v23_0_1/PREOPS-905/step3_20/20220303T145311Z&#x27;.</pre>"
      ],
      "text/plain": [
       "<IPython.core.display.HTML object>"
      ]
     },
     "metadata": {},
     "output_type": "display_data"
    },
    {
     "data": {
      "text/html": [
       "<pre style=\"margin: 0.1em;\n",
       "padding-left: 0.25em;\n",
       "border-left-style: solid;\n",
       "font-family: var(--jp-code-font-family);\n",
       "font-size: var(--jp-code-font-size);\n",
       "line-height: var(--jp-code-line-height);\n",
       "\"><span style=\"color: var(--jp-warn-color2)\">lsst.pipe.base.graphBuilder</span> <span style=\"color: var(--jp-warn-color0)\">WARNING</span>: No datasets of type finalized_src_table in collection &#x27;2.2i/runs/DP0.2/v23_0_1/PREOPS-905/step3_5/20220218T163030Z&#x27;.</pre>"
      ],
      "text/plain": [
       "<IPython.core.display.HTML object>"
      ]
     },
     "metadata": {},
     "output_type": "display_data"
    },
    {
     "data": {
      "text/html": [
       "<pre style=\"margin: 0.1em;\n",
       "padding-left: 0.25em;\n",
       "border-left-style: solid;\n",
       "font-family: var(--jp-code-font-family);\n",
       "font-size: var(--jp-code-font-size);\n",
       "line-height: var(--jp-code-line-height);\n",
       "\"><span style=\"color: var(--jp-warn-color2)\">lsst.pipe.base.graphBuilder</span> <span style=\"color: var(--jp-warn-color0)\">WARNING</span>: No datasets of type finalized_src_table in collection &#x27;2.2i/runs/DP0.2/v23_0_1/PREOPS-905/step3_7/20220219T040206Z&#x27;.</pre>"
      ],
      "text/plain": [
       "<IPython.core.display.HTML object>"
      ]
     },
     "metadata": {},
     "output_type": "display_data"
    },
    {
     "data": {
      "text/html": [
       "<pre style=\"margin: 0.1em;\n",
       "padding-left: 0.25em;\n",
       "border-left-style: solid;\n",
       "font-family: var(--jp-code-font-family);\n",
       "font-size: var(--jp-code-font-size);\n",
       "line-height: var(--jp-code-line-height);\n",
       "\"><span style=\"color: var(--jp-warn-color2)\">lsst.pipe.base.graphBuilder</span> <span style=\"color: var(--jp-warn-color0)\">WARNING</span>: No datasets of type finalized_src_table in collection &#x27;2.2i/runs/DP0.2/v23_0_1/PREOPS-905/step3_9/20220219T154502Z&#x27;.</pre>"
      ],
      "text/plain": [
       "<IPython.core.display.HTML object>"
      ]
     },
     "metadata": {},
     "output_type": "display_data"
    },
    {
     "data": {
      "text/html": [
       "<pre style=\"margin: 0.1em;\n",
       "padding-left: 0.25em;\n",
       "border-left-style: solid;\n",
       "font-family: var(--jp-code-font-family);\n",
       "font-size: var(--jp-code-font-size);\n",
       "line-height: var(--jp-code-line-height);\n",
       "\"><span style=\"color: var(--jp-warn-color2)\">lsst.pipe.base.graphBuilder</span> <span style=\"color: var(--jp-warn-color0)\">WARNING</span>: No datasets of type finalized_src_table in collection &#x27;2.2i/runs/DP0.2/v23_0_1/PREOPS-905/step3_9/20220302T181001Z&#x27;.</pre>"
      ],
      "text/plain": [
       "<IPython.core.display.HTML object>"
      ]
     },
     "metadata": {},
     "output_type": "display_data"
    },
    {
     "data": {
      "text/html": [
       "<pre style=\"margin: 0.1em;\n",
       "padding-left: 0.25em;\n",
       "border-left-style: solid;\n",
       "font-family: var(--jp-code-font-family);\n",
       "font-size: var(--jp-code-font-size);\n",
       "line-height: var(--jp-code-line-height);\n",
       "\"><span style=\"color: var(--jp-warn-color2)\">lsst.pipe.base.graphBuilder</span> <span style=\"color: var(--jp-warn-color0)\">WARNING</span>: No datasets of type finalized_src_table in collection &#x27;2.2i/runs/DP0.2/v23_0_0_rc5/PREOPS-905/20220124T155505Z&#x27;.</pre>"
      ],
      "text/plain": [
       "<IPython.core.display.HTML object>"
      ]
     },
     "metadata": {},
     "output_type": "display_data"
    },
    {
     "data": {
      "text/html": [
       "<pre style=\"margin: 0.1em;\n",
       "padding-left: 0.25em;\n",
       "border-left-style: solid;\n",
       "font-family: var(--jp-code-font-family);\n",
       "font-size: var(--jp-code-font-size);\n",
       "line-height: var(--jp-code-line-height);\n",
       "\"><span style=\"color: var(--jp-warn-color2)\">lsst.pipe.base.graphBuilder</span> <span style=\"color: var(--jp-warn-color0)\">WARNING</span>: No datasets of type finalized_src_table in collection &#x27;2.2i/runs/DP0.2/v23_0_0_rc5/PREOPS-905/20220123T195452Z&#x27;.</pre>"
      ],
      "text/plain": [
       "<IPython.core.display.HTML object>"
      ]
     },
     "metadata": {},
     "output_type": "display_data"
    },
    {
     "data": {
      "text/html": [
       "<pre style=\"margin: 0.1em;\n",
       "padding-left: 0.25em;\n",
       "border-left-style: solid;\n",
       "font-family: var(--jp-code-font-family);\n",
       "font-size: var(--jp-code-font-size);\n",
       "line-height: var(--jp-code-line-height);\n",
       "\"><span style=\"color: var(--jp-warn-color2)\">lsst.pipe.base.graphBuilder</span> <span style=\"color: var(--jp-warn-color0)\">WARNING</span>: No datasets of type finalized_src_table in collection &#x27;2.2i/runs/DP0.2/v23_0_0_rc5/PREOPS-905/20220123T001043Z&#x27;.</pre>"
      ],
      "text/plain": [
       "<IPython.core.display.HTML object>"
      ]
     },
     "metadata": {},
     "output_type": "display_data"
    },
    {
     "data": {
      "text/html": [
       "<pre style=\"margin: 0.1em;\n",
       "padding-left: 0.25em;\n",
       "border-left-style: solid;\n",
       "font-family: var(--jp-code-font-family);\n",
       "font-size: var(--jp-code-font-size);\n",
       "line-height: var(--jp-code-line-height);\n",
       "\"><span style=\"color: var(--jp-warn-color2)\">lsst.pipe.base.graphBuilder</span> <span style=\"color: var(--jp-warn-color0)\">WARNING</span>: No datasets of type finalized_src_table in collection &#x27;2.2i/runs/DP0.2/v23_0_0_rc5/PREOPS-905/20220122T070559Z&#x27;.</pre>"
      ],
      "text/plain": [
       "<IPython.core.display.HTML object>"
      ]
     },
     "metadata": {},
     "output_type": "display_data"
    },
    {
     "data": {
      "text/html": [
       "<pre style=\"margin: 0.1em;\n",
       "padding-left: 0.25em;\n",
       "border-left-style: solid;\n",
       "font-family: var(--jp-code-font-family);\n",
       "font-size: var(--jp-code-font-size);\n",
       "line-height: var(--jp-code-line-height);\n",
       "\"><span style=\"color: var(--jp-warn-color2)\">lsst.pipe.base.graphBuilder</span> <span style=\"color: var(--jp-warn-color0)\">WARNING</span>: No datasets of type finalized_src_table in collection &#x27;2.2i/runs/DP0.2/v23_0_0_rc5/PREOPS-905/20220121T234250Z&#x27;.</pre>"
      ],
      "text/plain": [
       "<IPython.core.display.HTML object>"
      ]
     },
     "metadata": {},
     "output_type": "display_data"
    },
    {
     "data": {
      "text/html": [
       "<pre style=\"margin: 0.1em;\n",
       "padding-left: 0.25em;\n",
       "border-left-style: solid;\n",
       "font-family: var(--jp-code-font-family);\n",
       "font-size: var(--jp-code-font-size);\n",
       "line-height: var(--jp-code-line-height);\n",
       "\"><span style=\"color: var(--jp-warn-color2)\">lsst.pipe.base.graphBuilder</span> <span style=\"color: var(--jp-warn-color0)\">WARNING</span>: No datasets of type finalized_src_table in collection &#x27;2.2i/runs/DP0.2/v23_0_0_rc5/PREOPS-905/20220121T191925Z&#x27;.</pre>"
      ],
      "text/plain": [
       "<IPython.core.display.HTML object>"
      ]
     },
     "metadata": {},
     "output_type": "display_data"
    },
    {
     "data": {
      "text/html": [
       "<pre style=\"margin: 0.1em;\n",
       "padding-left: 0.25em;\n",
       "border-left-style: solid;\n",
       "font-family: var(--jp-code-font-family);\n",
       "font-size: var(--jp-code-font-size);\n",
       "line-height: var(--jp-code-line-height);\n",
       "\"><span style=\"color: var(--jp-warn-color2)\">lsst.pipe.base.graphBuilder</span> <span style=\"color: var(--jp-warn-color0)\">WARNING</span>: No datasets of type finalized_src_table in collection &#x27;2.2i/runs/DP0.2/v23_0_0_rc5/PREOPS-905/20220121T160922Z&#x27;.</pre>"
      ],
      "text/plain": [
       "<IPython.core.display.HTML object>"
      ]
     },
     "metadata": {},
     "output_type": "display_data"
    },
    {
     "data": {
      "text/html": [
       "<pre style=\"margin: 0.1em;\n",
       "padding-left: 0.25em;\n",
       "border-left-style: solid;\n",
       "font-family: var(--jp-code-font-family);\n",
       "font-size: var(--jp-code-font-size);\n",
       "line-height: var(--jp-code-line-height);\n",
       "\"><span style=\"color: var(--jp-warn-color2)\">lsst.pipe.base.graphBuilder</span> <span style=\"color: var(--jp-warn-color0)\">WARNING</span>: No datasets of type finalized_src_table in collection &#x27;2.2i/runs/DP0.2/v23_0_0_rc5/PREOPS-905/20220121T103211Z&#x27;.</pre>"
      ],
      "text/plain": [
       "<IPython.core.display.HTML object>"
      ]
     },
     "metadata": {},
     "output_type": "display_data"
    },
    {
     "data": {
      "text/html": [
       "<pre style=\"margin: 0.1em;\n",
       "padding-left: 0.25em;\n",
       "border-left-style: solid;\n",
       "font-family: var(--jp-code-font-family);\n",
       "font-size: var(--jp-code-font-size);\n",
       "line-height: var(--jp-code-line-height);\n",
       "\"><span style=\"color: var(--jp-warn-color2)\">lsst.pipe.base.graphBuilder</span> <span style=\"color: var(--jp-warn-color0)\">WARNING</span>: No datasets of type finalized_src_table in collection &#x27;2.2i/runs/DP0.2/v23_0_0_rc5/PREOPS-905/20220121T081743Z&#x27;.</pre>"
      ],
      "text/plain": [
       "<IPython.core.display.HTML object>"
      ]
     },
     "metadata": {},
     "output_type": "display_data"
    },
    {
     "data": {
      "text/html": [
       "<pre style=\"margin: 0.1em;\n",
       "padding-left: 0.25em;\n",
       "border-left-style: solid;\n",
       "font-family: var(--jp-code-font-family);\n",
       "font-size: var(--jp-code-font-size);\n",
       "line-height: var(--jp-code-line-height);\n",
       "\"><span style=\"color: var(--jp-warn-color2)\">lsst.pipe.base.graphBuilder</span> <span style=\"color: var(--jp-warn-color0)\">WARNING</span>: No datasets of type finalized_src_table in collection &#x27;2.2i/runs/DP0.2/v23_0_0_rc5/PREOPS-905/20220121T041501Z&#x27;.</pre>"
      ],
      "text/plain": [
       "<IPython.core.display.HTML object>"
      ]
     },
     "metadata": {},
     "output_type": "display_data"
    },
    {
     "data": {
      "text/html": [
       "<pre style=\"margin: 0.1em;\n",
       "padding-left: 0.25em;\n",
       "border-left-style: solid;\n",
       "font-family: var(--jp-code-font-family);\n",
       "font-size: var(--jp-code-font-size);\n",
       "line-height: var(--jp-code-line-height);\n",
       "\"><span style=\"color: var(--jp-warn-color2)\">lsst.pipe.base.graphBuilder</span> <span style=\"color: var(--jp-warn-color0)\">WARNING</span>: No datasets of type finalized_src_table in collection &#x27;2.2i/runs/DP0.2/v23_0_0_rc5/PREOPS-905/20220121T031850Z&#x27;.</pre>"
      ],
      "text/plain": [
       "<IPython.core.display.HTML object>"
      ]
     },
     "metadata": {},
     "output_type": "display_data"
    },
    {
     "data": {
      "text/html": [
       "<pre style=\"margin: 0.1em;\n",
       "padding-left: 0.25em;\n",
       "border-left-style: solid;\n",
       "font-family: var(--jp-code-font-family);\n",
       "font-size: var(--jp-code-font-size);\n",
       "line-height: var(--jp-code-line-height);\n",
       "\"><span style=\"color: var(--jp-warn-color2)\">lsst.pipe.base.graphBuilder</span> <span style=\"color: var(--jp-warn-color0)\">WARNING</span>: No datasets of type finalized_src_table in collection &#x27;2.2i/runs/DP0.2/v23_0_0_rc5/PREOPS-905/20220121T003836Z&#x27;.</pre>"
      ],
      "text/plain": [
       "<IPython.core.display.HTML object>"
      ]
     },
     "metadata": {},
     "output_type": "display_data"
    },
    {
     "data": {
      "text/html": [
       "<pre style=\"margin: 0.1em;\n",
       "padding-left: 0.25em;\n",
       "border-left-style: solid;\n",
       "font-family: var(--jp-code-font-family);\n",
       "font-size: var(--jp-code-font-size);\n",
       "line-height: var(--jp-code-line-height);\n",
       "\"><span style=\"color: var(--jp-warn-color2)\">lsst.pipe.base.graphBuilder</span> <span style=\"color: var(--jp-warn-color0)\">WARNING</span>: No datasets of type finalized_src_table in collection &#x27;2.2i/runs/DP0.2/v23_0_0_rc5/PREOPS-905/20220120T161430Z&#x27;.</pre>"
      ],
      "text/plain": [
       "<IPython.core.display.HTML object>"
      ]
     },
     "metadata": {},
     "output_type": "display_data"
    },
    {
     "data": {
      "text/html": [
       "<pre style=\"margin: 0.1em;\n",
       "padding-left: 0.25em;\n",
       "border-left-style: solid;\n",
       "font-family: var(--jp-code-font-family);\n",
       "font-size: var(--jp-code-font-size);\n",
       "line-height: var(--jp-code-line-height);\n",
       "\"><span style=\"color: var(--jp-warn-color2)\">lsst.pipe.base.graphBuilder</span> <span style=\"color: var(--jp-warn-color0)\">WARNING</span>: No datasets of type finalized_src_table in collection &#x27;2.2i/runs/DP0.2/v23_0_0_rc5/PREOPS-905/20220120T012920Z&#x27;.</pre>"
      ],
      "text/plain": [
       "<IPython.core.display.HTML object>"
      ]
     },
     "metadata": {},
     "output_type": "display_data"
    },
    {
     "data": {
      "text/html": [
       "<pre style=\"margin: 0.1em;\n",
       "padding-left: 0.25em;\n",
       "border-left-style: solid;\n",
       "font-family: var(--jp-code-font-family);\n",
       "font-size: var(--jp-code-font-size);\n",
       "line-height: var(--jp-code-line-height);\n",
       "\"><span style=\"color: var(--jp-warn-color2)\">lsst.pipe.base.graphBuilder</span> <span style=\"color: var(--jp-warn-color0)\">WARNING</span>: No datasets of type finalized_src_table in collection &#x27;2.2i/runs/DP0.2/v23_0_0_rc5/PREOPS-905/20220112T143133Z&#x27;.</pre>"
      ],
      "text/plain": [
       "<IPython.core.display.HTML object>"
      ]
     },
     "metadata": {},
     "output_type": "display_data"
    },
    {
     "data": {
      "text/html": [
       "<pre style=\"margin: 0.1em;\n",
       "padding-left: 0.25em;\n",
       "border-left-style: solid;\n",
       "font-family: var(--jp-code-font-family);\n",
       "font-size: var(--jp-code-font-size);\n",
       "line-height: var(--jp-code-line-height);\n",
       "\"><span style=\"color: var(--jp-warn-color2)\">lsst.pipe.base.graphBuilder</span> <span style=\"color: var(--jp-warn-color0)\">WARNING</span>: No datasets of type finalized_src_table in collection &#x27;2.2i/runs/DP0.2/v23_0_0_rc5/PREOPS-905/20220112T114604Z&#x27;.</pre>"
      ],
      "text/plain": [
       "<IPython.core.display.HTML object>"
      ]
     },
     "metadata": {},
     "output_type": "display_data"
    },
    {
     "data": {
      "text/html": [
       "<pre style=\"margin: 0.1em;\n",
       "padding-left: 0.25em;\n",
       "border-left-style: solid;\n",
       "font-family: var(--jp-code-font-family);\n",
       "font-size: var(--jp-code-font-size);\n",
       "line-height: var(--jp-code-line-height);\n",
       "\"><span style=\"color: var(--jp-warn-color2)\">lsst.pipe.base.graphBuilder</span> <span style=\"color: var(--jp-warn-color0)\">WARNING</span>: No datasets of type finalized_src_table in collection &#x27;2.2i/runs/DP0.2/v23_0_0_rc5/PREOPS-905/20220112T084603Z&#x27;.</pre>"
      ],
      "text/plain": [
       "<IPython.core.display.HTML object>"
      ]
     },
     "metadata": {},
     "output_type": "display_data"
    },
    {
     "data": {
      "text/html": [
       "<pre style=\"margin: 0.1em;\n",
       "padding-left: 0.25em;\n",
       "border-left-style: solid;\n",
       "font-family: var(--jp-code-font-family);\n",
       "font-size: var(--jp-code-font-size);\n",
       "line-height: var(--jp-code-line-height);\n",
       "\"><span style=\"color: var(--jp-warn-color2)\">lsst.pipe.base.graphBuilder</span> <span style=\"color: var(--jp-warn-color0)\">WARNING</span>: No datasets of type finalized_src_table in collection &#x27;2.2i/runs/DP0.2/v23_0_0_rc5/PREOPS-905/20220112T054912Z&#x27;.</pre>"
      ],
      "text/plain": [
       "<IPython.core.display.HTML object>"
      ]
     },
     "metadata": {},
     "output_type": "display_data"
    },
    {
     "data": {
      "text/html": [
       "<pre style=\"margin: 0.1em;\n",
       "padding-left: 0.25em;\n",
       "border-left-style: solid;\n",
       "font-family: var(--jp-code-font-family);\n",
       "font-size: var(--jp-code-font-size);\n",
       "line-height: var(--jp-code-line-height);\n",
       "\"><span style=\"color: var(--jp-warn-color2)\">lsst.pipe.base.graphBuilder</span> <span style=\"color: var(--jp-warn-color0)\">WARNING</span>: No datasets of type finalized_src_table in collection &#x27;2.2i/runs/DP0.2/v23_0_0_rc5/PREOPS-905/20220112T010001Z&#x27;.</pre>"
      ],
      "text/plain": [
       "<IPython.core.display.HTML object>"
      ]
     },
     "metadata": {},
     "output_type": "display_data"
    },
    {
     "data": {
      "text/html": [
       "<pre style=\"margin: 0.1em;\n",
       "padding-left: 0.25em;\n",
       "border-left-style: solid;\n",
       "font-family: var(--jp-code-font-family);\n",
       "font-size: var(--jp-code-font-size);\n",
       "line-height: var(--jp-code-line-height);\n",
       "\"><span style=\"color: var(--jp-warn-color2)\">lsst.pipe.base.graphBuilder</span> <span style=\"color: var(--jp-warn-color0)\">WARNING</span>: No datasets of type finalized_src_table in collection &#x27;2.2i/runs/DP0.2/v23_0_0_rc5/PREOPS-905/20220111T213932Z&#x27;.</pre>"
      ],
      "text/plain": [
       "<IPython.core.display.HTML object>"
      ]
     },
     "metadata": {},
     "output_type": "display_data"
    },
    {
     "data": {
      "text/html": [
       "<pre style=\"margin: 0.1em;\n",
       "padding-left: 0.25em;\n",
       "border-left-style: solid;\n",
       "font-family: var(--jp-code-font-family);\n",
       "font-size: var(--jp-code-font-size);\n",
       "line-height: var(--jp-code-line-height);\n",
       "\"><span style=\"color: var(--jp-warn-color2)\">lsst.pipe.base.graphBuilder</span> <span style=\"color: var(--jp-warn-color0)\">WARNING</span>: No datasets of type finalized_src_table in collection &#x27;2.2i/runs/DP0.2/v23_0_0_rc5/PREOPS-905/20220111T175016Z&#x27;.</pre>"
      ],
      "text/plain": [
       "<IPython.core.display.HTML object>"
      ]
     },
     "metadata": {},
     "output_type": "display_data"
    },
    {
     "data": {
      "text/html": [
       "<pre style=\"margin: 0.1em;\n",
       "padding-left: 0.25em;\n",
       "border-left-style: solid;\n",
       "font-family: var(--jp-code-font-family);\n",
       "font-size: var(--jp-code-font-size);\n",
       "line-height: var(--jp-code-line-height);\n",
       "\"><span style=\"color: var(--jp-warn-color2)\">lsst.pipe.base.graphBuilder</span> <span style=\"color: var(--jp-warn-color0)\">WARNING</span>: No datasets of type finalized_src_table in collection &#x27;2.2i/runs/DP0.2/v23_0_0_rc5/PREOPS-905/20220111T095828Z&#x27;.</pre>"
      ],
      "text/plain": [
       "<IPython.core.display.HTML object>"
      ]
     },
     "metadata": {},
     "output_type": "display_data"
    },
    {
     "data": {
      "text/html": [
       "<pre style=\"margin: 0.1em;\n",
       "padding-left: 0.25em;\n",
       "border-left-style: solid;\n",
       "font-family: var(--jp-code-font-family);\n",
       "font-size: var(--jp-code-font-size);\n",
       "line-height: var(--jp-code-line-height);\n",
       "\"><span style=\"color: var(--jp-warn-color2)\">lsst.pipe.base.graphBuilder</span> <span style=\"color: var(--jp-warn-color0)\">WARNING</span>: No datasets of type finalized_src_table in collection &#x27;2.2i/runs/DP0.2/v23_0_0_rc5/PREOPS-905/20220111T083238Z&#x27;.</pre>"
      ],
      "text/plain": [
       "<IPython.core.display.HTML object>"
      ]
     },
     "metadata": {},
     "output_type": "display_data"
    },
    {
     "data": {
      "text/html": [
       "<pre style=\"margin: 0.1em;\n",
       "padding-left: 0.25em;\n",
       "border-left-style: solid;\n",
       "font-family: var(--jp-code-font-family);\n",
       "font-size: var(--jp-code-font-size);\n",
       "line-height: var(--jp-code-line-height);\n",
       "\"><span style=\"color: var(--jp-warn-color2)\">lsst.pipe.base.graphBuilder</span> <span style=\"color: var(--jp-warn-color0)\">WARNING</span>: No datasets of type finalized_src_table in collection &#x27;2.2i/runs/DP0.2/v23_0_0_rc5/PREOPS-905/20220111T071223Z&#x27;.</pre>"
      ],
      "text/plain": [
       "<IPython.core.display.HTML object>"
      ]
     },
     "metadata": {},
     "output_type": "display_data"
    },
    {
     "data": {
      "text/html": [
       "<pre style=\"margin: 0.1em;\n",
       "padding-left: 0.25em;\n",
       "border-left-style: solid;\n",
       "font-family: var(--jp-code-font-family);\n",
       "font-size: var(--jp-code-font-size);\n",
       "line-height: var(--jp-code-line-height);\n",
       "\"><span style=\"color: var(--jp-warn-color2)\">lsst.pipe.base.graphBuilder</span> <span style=\"color: var(--jp-warn-color0)\">WARNING</span>: No datasets of type finalized_src_table in collection &#x27;2.2i/runs/DP0.2/v23_0_0_rc5/PREOPS-905/20220111T063729Z&#x27;.</pre>"
      ],
      "text/plain": [
       "<IPython.core.display.HTML object>"
      ]
     },
     "metadata": {},
     "output_type": "display_data"
    },
    {
     "data": {
      "text/html": [
       "<pre style=\"margin: 0.1em;\n",
       "padding-left: 0.25em;\n",
       "border-left-style: solid;\n",
       "font-family: var(--jp-code-font-family);\n",
       "font-size: var(--jp-code-font-size);\n",
       "line-height: var(--jp-code-line-height);\n",
       "\"><span style=\"color: var(--jp-warn-color2)\">lsst.pipe.base.graphBuilder</span> <span style=\"color: var(--jp-warn-color0)\">WARNING</span>: No datasets of type finalized_src_table in collection &#x27;2.2i/runs/DP0.2/v23_0_0_rc5/PREOPS-905/20220111T060953Z&#x27;.</pre>"
      ],
      "text/plain": [
       "<IPython.core.display.HTML object>"
      ]
     },
     "metadata": {},
     "output_type": "display_data"
    },
    {
     "data": {
      "text/html": [
       "<pre style=\"margin: 0.1em;\n",
       "padding-left: 0.25em;\n",
       "border-left-style: solid;\n",
       "font-family: var(--jp-code-font-family);\n",
       "font-size: var(--jp-code-font-size);\n",
       "line-height: var(--jp-code-line-height);\n",
       "\"><span style=\"color: var(--jp-warn-color2)\">lsst.pipe.base.graphBuilder</span> <span style=\"color: var(--jp-warn-color0)\">WARNING</span>: No datasets of type finalized_src_table in collection &#x27;2.2i/runs/DP0.2/v23_0_0_rc5/PREOPS-905/20220111T054319Z&#x27;.</pre>"
      ],
      "text/plain": [
       "<IPython.core.display.HTML object>"
      ]
     },
     "metadata": {},
     "output_type": "display_data"
    },
    {
     "data": {
      "text/html": [
       "<pre style=\"margin: 0.1em;\n",
       "padding-left: 0.25em;\n",
       "border-left-style: solid;\n",
       "font-family: var(--jp-code-font-family);\n",
       "font-size: var(--jp-code-font-size);\n",
       "line-height: var(--jp-code-line-height);\n",
       "\"><span style=\"color: var(--jp-warn-color2)\">lsst.pipe.base.graphBuilder</span> <span style=\"color: var(--jp-warn-color0)\">WARNING</span>: No datasets of type finalized_src_table in collection &#x27;2.2i/runs/DP0.2/v23_0_0_rc5/PREOPS-905/20220111T051546Z&#x27;.</pre>"
      ],
      "text/plain": [
       "<IPython.core.display.HTML object>"
      ]
     },
     "metadata": {},
     "output_type": "display_data"
    },
    {
     "data": {
      "text/html": [
       "<pre style=\"margin: 0.1em;\n",
       "padding-left: 0.25em;\n",
       "border-left-style: solid;\n",
       "font-family: var(--jp-code-font-family);\n",
       "font-size: var(--jp-code-font-size);\n",
       "line-height: var(--jp-code-line-height);\n",
       "\"><span style=\"color: var(--jp-warn-color2)\">lsst.pipe.base.graphBuilder</span> <span style=\"color: var(--jp-warn-color0)\">WARNING</span>: No datasets of type finalized_src_table in collection &#x27;2.2i/runs/DP0.2/v23_0_0_rc5/PREOPS-905/20220111T044925Z&#x27;.</pre>"
      ],
      "text/plain": [
       "<IPython.core.display.HTML object>"
      ]
     },
     "metadata": {},
     "output_type": "display_data"
    },
    {
     "data": {
      "text/html": [
       "<pre style=\"margin: 0.1em;\n",
       "padding-left: 0.25em;\n",
       "border-left-style: solid;\n",
       "font-family: var(--jp-code-font-family);\n",
       "font-size: var(--jp-code-font-size);\n",
       "line-height: var(--jp-code-line-height);\n",
       "\"><span style=\"color: var(--jp-warn-color2)\">lsst.pipe.base.graphBuilder</span> <span style=\"color: var(--jp-warn-color0)\">WARNING</span>: No datasets of type finalized_src_table in collection &#x27;2.2i/runs/DP0.2/v23_0_0_rc5/PREOPS-905/20220111T041856Z&#x27;.</pre>"
      ],
      "text/plain": [
       "<IPython.core.display.HTML object>"
      ]
     },
     "metadata": {},
     "output_type": "display_data"
    },
    {
     "data": {
      "text/html": [
       "<pre style=\"margin: 0.1em;\n",
       "padding-left: 0.25em;\n",
       "border-left-style: solid;\n",
       "font-family: var(--jp-code-font-family);\n",
       "font-size: var(--jp-code-font-size);\n",
       "line-height: var(--jp-code-line-height);\n",
       "\"><span style=\"color: var(--jp-warn-color2)\">lsst.pipe.base.graphBuilder</span> <span style=\"color: var(--jp-warn-color0)\">WARNING</span>: No datasets of type finalized_src_table in collection &#x27;2.2i/runs/DP0.2/v23_0_0_rc5/PREOPS-905/20220110T231306Z&#x27;.</pre>"
      ],
      "text/plain": [
       "<IPython.core.display.HTML object>"
      ]
     },
     "metadata": {},
     "output_type": "display_data"
    },
    {
     "data": {
      "text/html": [
       "<pre style=\"margin: 0.1em;\n",
       "padding-left: 0.25em;\n",
       "border-left-style: solid;\n",
       "font-family: var(--jp-code-font-family);\n",
       "font-size: var(--jp-code-font-size);\n",
       "line-height: var(--jp-code-line-height);\n",
       "\"><span style=\"color: var(--jp-warn-color2)\">lsst.pipe.base.graphBuilder</span> <span style=\"color: var(--jp-warn-color0)\">WARNING</span>: No datasets of type finalized_src_table in collection &#x27;2.2i/runs/DP0.2/v23_0_0_rc5/PREOPS-905/20220107T204134Z&#x27;.</pre>"
      ],
      "text/plain": [
       "<IPython.core.display.HTML object>"
      ]
     },
     "metadata": {},
     "output_type": "display_data"
    },
    {
     "data": {
      "text/html": [
       "<pre style=\"margin: 0.1em;\n",
       "padding-left: 0.25em;\n",
       "border-left-style: solid;\n",
       "font-family: var(--jp-code-font-family);\n",
       "font-size: var(--jp-code-font-size);\n",
       "line-height: var(--jp-code-line-height);\n",
       "\"><span style=\"color: var(--jp-warn-color2)\">lsst.pipe.base.graphBuilder</span> <span style=\"color: var(--jp-warn-color0)\">WARNING</span>: No datasets of type finalized_src_table in collection &#x27;2.2i/runs/DP0.2/v23_0_0_rc5/PREOPS-905/20220107T163916Z&#x27;.</pre>"
      ],
      "text/plain": [
       "<IPython.core.display.HTML object>"
      ]
     },
     "metadata": {},
     "output_type": "display_data"
    },
    {
     "data": {
      "text/html": [
       "<pre style=\"margin: 0.1em;\n",
       "padding-left: 0.25em;\n",
       "border-left-style: solid;\n",
       "font-family: var(--jp-code-font-family);\n",
       "font-size: var(--jp-code-font-size);\n",
       "line-height: var(--jp-code-line-height);\n",
       "\"><span style=\"color: var(--jp-warn-color2)\">lsst.pipe.base.graphBuilder</span> <span style=\"color: var(--jp-warn-color0)\">WARNING</span>: No datasets of type finalized_src_table in collection &#x27;2.2i/runs/DP0.2/v23_0_0_rc5/PREOPS-905/20220104T111833Z&#x27;.</pre>"
      ],
      "text/plain": [
       "<IPython.core.display.HTML object>"
      ]
     },
     "metadata": {},
     "output_type": "display_data"
    },
    {
     "data": {
      "text/html": [
       "<pre style=\"margin: 0.1em;\n",
       "padding-left: 0.25em;\n",
       "border-left-style: solid;\n",
       "font-family: var(--jp-code-font-family);\n",
       "font-size: var(--jp-code-font-size);\n",
       "line-height: var(--jp-code-line-height);\n",
       "\"><span style=\"color: var(--jp-warn-color2)\">lsst.pipe.base.graphBuilder</span> <span style=\"color: var(--jp-warn-color0)\">WARNING</span>: No datasets of type finalized_src_table in collection &#x27;2.2i/runs/DP0.2/v23_0_0_rc5/PREOPS-905/20220104T085126Z&#x27;.</pre>"
      ],
      "text/plain": [
       "<IPython.core.display.HTML object>"
      ]
     },
     "metadata": {},
     "output_type": "display_data"
    },
    {
     "data": {
      "text/html": [
       "<pre style=\"margin: 0.1em;\n",
       "padding-left: 0.25em;\n",
       "border-left-style: solid;\n",
       "font-family: var(--jp-code-font-family);\n",
       "font-size: var(--jp-code-font-size);\n",
       "line-height: var(--jp-code-line-height);\n",
       "\"><span style=\"color: var(--jp-warn-color2)\">lsst.pipe.base.graphBuilder</span> <span style=\"color: var(--jp-warn-color0)\">WARNING</span>: No datasets of type finalized_src_table in collection &#x27;2.2i/runs/DP0.2/v23_0_0_rc5/PREOPS-905/20220103T202705Z&#x27;.</pre>"
      ],
      "text/plain": [
       "<IPython.core.display.HTML object>"
      ]
     },
     "metadata": {},
     "output_type": "display_data"
    },
    {
     "data": {
      "text/html": [
       "<pre style=\"margin: 0.1em;\n",
       "padding-left: 0.25em;\n",
       "border-left-style: solid;\n",
       "font-family: var(--jp-code-font-family);\n",
       "font-size: var(--jp-code-font-size);\n",
       "line-height: var(--jp-code-line-height);\n",
       "\"><span style=\"color: var(--jp-warn-color2)\">lsst.pipe.base.graphBuilder</span> <span style=\"color: var(--jp-warn-color0)\">WARNING</span>: No datasets of type finalized_src_table in collection &#x27;2.2i/runs/DP0.2/v23_0_0_rc5/PREOPS-905/20220104T062817Z&#x27;.</pre>"
      ],
      "text/plain": [
       "<IPython.core.display.HTML object>"
      ]
     },
     "metadata": {},
     "output_type": "display_data"
    },
    {
     "data": {
      "text/html": [
       "<pre style=\"margin: 0.1em;\n",
       "padding-left: 0.25em;\n",
       "border-left-style: solid;\n",
       "font-family: var(--jp-code-font-family);\n",
       "font-size: var(--jp-code-font-size);\n",
       "line-height: var(--jp-code-line-height);\n",
       "\"><span style=\"color: var(--jp-warn-color2)\">lsst.pipe.base.graphBuilder</span> <span style=\"color: var(--jp-warn-color0)\">WARNING</span>: No datasets of type finalized_src_table in collection &#x27;2.2i/runs/DP0.2/v23_0_0_rc5/PREOPS-905/20220103T103400Z&#x27;.</pre>"
      ],
      "text/plain": [
       "<IPython.core.display.HTML object>"
      ]
     },
     "metadata": {},
     "output_type": "display_data"
    },
    {
     "data": {
      "text/html": [
       "<pre style=\"margin: 0.1em;\n",
       "padding-left: 0.25em;\n",
       "border-left-style: solid;\n",
       "font-family: var(--jp-code-font-family);\n",
       "font-size: var(--jp-code-font-size);\n",
       "line-height: var(--jp-code-line-height);\n",
       "\"><span style=\"color: var(--jp-warn-color2)\">lsst.pipe.base.graphBuilder</span> <span style=\"color: var(--jp-warn-color0)\">WARNING</span>: No datasets of type finalized_src_table in collection &#x27;2.2i/runs/DP0.2/v23_0_0_rc5/PREOPS-905/20220103T010607Z&#x27;.</pre>"
      ],
      "text/plain": [
       "<IPython.core.display.HTML object>"
      ]
     },
     "metadata": {},
     "output_type": "display_data"
    },
    {
     "data": {
      "text/html": [
       "<pre style=\"margin: 0.1em;\n",
       "padding-left: 0.25em;\n",
       "border-left-style: solid;\n",
       "font-family: var(--jp-code-font-family);\n",
       "font-size: var(--jp-code-font-size);\n",
       "line-height: var(--jp-code-line-height);\n",
       "\"><span style=\"color: var(--jp-warn-color2)\">lsst.pipe.base.graphBuilder</span> <span style=\"color: var(--jp-warn-color0)\">WARNING</span>: No datasets of type finalized_src_table in collection &#x27;2.2i/runs/DP0.2/v23_0_0_rc5/PREOPS-905/20220102T153518Z&#x27;.</pre>"
      ],
      "text/plain": [
       "<IPython.core.display.HTML object>"
      ]
     },
     "metadata": {},
     "output_type": "display_data"
    },
    {
     "data": {
      "text/html": [
       "<pre style=\"margin: 0.1em;\n",
       "padding-left: 0.25em;\n",
       "border-left-style: solid;\n",
       "font-family: var(--jp-code-font-family);\n",
       "font-size: var(--jp-code-font-size);\n",
       "line-height: var(--jp-code-line-height);\n",
       "\"><span style=\"color: var(--jp-warn-color2)\">lsst.pipe.base.graphBuilder</span> <span style=\"color: var(--jp-warn-color0)\">WARNING</span>: No datasets of type finalized_src_table in collection &#x27;2.2i/runs/DP0.2/v23_0_0_rc5/PREOPS-905/20220102T060840Z&#x27;.</pre>"
      ],
      "text/plain": [
       "<IPython.core.display.HTML object>"
      ]
     },
     "metadata": {},
     "output_type": "display_data"
    },
    {
     "data": {
      "text/html": [
       "<pre style=\"margin: 0.1em;\n",
       "padding-left: 0.25em;\n",
       "border-left-style: solid;\n",
       "font-family: var(--jp-code-font-family);\n",
       "font-size: var(--jp-code-font-size);\n",
       "line-height: var(--jp-code-line-height);\n",
       "\"><span style=\"color: var(--jp-warn-color2)\">lsst.pipe.base.graphBuilder</span> <span style=\"color: var(--jp-warn-color0)\">WARNING</span>: No datasets of type finalized_src_table in collection &#x27;2.2i/runs/DP0.2/v23_0_0_rc5/PREOPS-905/20220101T211007Z&#x27;.</pre>"
      ],
      "text/plain": [
       "<IPython.core.display.HTML object>"
      ]
     },
     "metadata": {},
     "output_type": "display_data"
    },
    {
     "data": {
      "text/html": [
       "<pre style=\"margin: 0.1em;\n",
       "padding-left: 0.25em;\n",
       "border-left-style: solid;\n",
       "font-family: var(--jp-code-font-family);\n",
       "font-size: var(--jp-code-font-size);\n",
       "line-height: var(--jp-code-line-height);\n",
       "\"><span style=\"color: var(--jp-warn-color2)\">lsst.pipe.base.graphBuilder</span> <span style=\"color: var(--jp-warn-color0)\">WARNING</span>: No datasets of type finalized_src_table in collection &#x27;2.2i/runs/DP0.2/v23_0_0_rc5/PREOPS-905/20220101T102006Z&#x27;.</pre>"
      ],
      "text/plain": [
       "<IPython.core.display.HTML object>"
      ]
     },
     "metadata": {},
     "output_type": "display_data"
    },
    {
     "data": {
      "text/html": [
       "<pre style=\"margin: 0.1em;\n",
       "padding-left: 0.25em;\n",
       "border-left-style: solid;\n",
       "font-family: var(--jp-code-font-family);\n",
       "font-size: var(--jp-code-font-size);\n",
       "line-height: var(--jp-code-line-height);\n",
       "\"><span style=\"color: var(--jp-warn-color2)\">lsst.pipe.base.graphBuilder</span> <span style=\"color: var(--jp-warn-color0)\">WARNING</span>: No datasets of type finalized_src_table in collection &#x27;2.2i/runs/DP0.2/v23_0_0_rc5/PREOPS-905/20220101T014359Z&#x27;.</pre>"
      ],
      "text/plain": [
       "<IPython.core.display.HTML object>"
      ]
     },
     "metadata": {},
     "output_type": "display_data"
    },
    {
     "data": {
      "text/html": [
       "<pre style=\"margin: 0.1em;\n",
       "padding-left: 0.25em;\n",
       "border-left-style: solid;\n",
       "font-family: var(--jp-code-font-family);\n",
       "font-size: var(--jp-code-font-size);\n",
       "line-height: var(--jp-code-line-height);\n",
       "\"><span style=\"color: var(--jp-warn-color2)\">lsst.pipe.base.graphBuilder</span> <span style=\"color: var(--jp-warn-color0)\">WARNING</span>: No datasets of type finalized_src_table in collection &#x27;2.2i/runs/DP0.2/v23_0_0_rc5/PREOPS-905/20211231T121620Z&#x27;.</pre>"
      ],
      "text/plain": [
       "<IPython.core.display.HTML object>"
      ]
     },
     "metadata": {},
     "output_type": "display_data"
    },
    {
     "data": {
      "text/html": [
       "<pre style=\"margin: 0.1em;\n",
       "padding-left: 0.25em;\n",
       "border-left-style: solid;\n",
       "font-family: var(--jp-code-font-family);\n",
       "font-size: var(--jp-code-font-size);\n",
       "line-height: var(--jp-code-line-height);\n",
       "\"><span style=\"color: var(--jp-warn-color2)\">lsst.pipe.base.graphBuilder</span> <span style=\"color: var(--jp-warn-color0)\">WARNING</span>: No datasets of type finalized_src_table in collection &#x27;2.2i/runs/DP0.2/v23_0_0_rc5/PREOPS-905/20211231T053432Z&#x27;.</pre>"
      ],
      "text/plain": [
       "<IPython.core.display.HTML object>"
      ]
     },
     "metadata": {},
     "output_type": "display_data"
    },
    {
     "data": {
      "text/html": [
       "<pre style=\"margin: 0.1em;\n",
       "padding-left: 0.25em;\n",
       "border-left-style: solid;\n",
       "font-family: var(--jp-code-font-family);\n",
       "font-size: var(--jp-code-font-size);\n",
       "line-height: var(--jp-code-line-height);\n",
       "\"><span style=\"color: var(--jp-warn-color2)\">lsst.pipe.base.graphBuilder</span> <span style=\"color: var(--jp-warn-color0)\">WARNING</span>: No datasets of type finalized_src_table in collection &#x27;2.2i/runs/DP0.2/v23_0_0_rc5/PREOPS-905/20211230T230823Z&#x27;.</pre>"
      ],
      "text/plain": [
       "<IPython.core.display.HTML object>"
      ]
     },
     "metadata": {},
     "output_type": "display_data"
    },
    {
     "data": {
      "text/html": [
       "<pre style=\"margin: 0.1em;\n",
       "padding-left: 0.25em;\n",
       "border-left-style: solid;\n",
       "font-family: var(--jp-code-font-family);\n",
       "font-size: var(--jp-code-font-size);\n",
       "line-height: var(--jp-code-line-height);\n",
       "\"><span style=\"color: var(--jp-warn-color2)\">lsst.pipe.base.graphBuilder</span> <span style=\"color: var(--jp-warn-color0)\">WARNING</span>: No datasets of type finalized_src_table in collection &#x27;2.2i/runs/DP0.2/v23_0_0_rc5/PREOPS-905/20211230T164503Z&#x27;.</pre>"
      ],
      "text/plain": [
       "<IPython.core.display.HTML object>"
      ]
     },
     "metadata": {},
     "output_type": "display_data"
    },
    {
     "data": {
      "text/html": [
       "<pre style=\"margin: 0.1em;\n",
       "padding-left: 0.25em;\n",
       "border-left-style: solid;\n",
       "font-family: var(--jp-code-font-family);\n",
       "font-size: var(--jp-code-font-size);\n",
       "line-height: var(--jp-code-line-height);\n",
       "\"><span style=\"color: var(--jp-warn-color2)\">lsst.pipe.base.graphBuilder</span> <span style=\"color: var(--jp-warn-color0)\">WARNING</span>: No datasets of type finalized_src_table in collection &#x27;2.2i/runs/DP0.2/v23_0_0_rc5/PREOPS-905/20211230T102720Z&#x27;.</pre>"
      ],
      "text/plain": [
       "<IPython.core.display.HTML object>"
      ]
     },
     "metadata": {},
     "output_type": "display_data"
    },
    {
     "data": {
      "text/html": [
       "<pre style=\"margin: 0.1em;\n",
       "padding-left: 0.25em;\n",
       "border-left-style: solid;\n",
       "font-family: var(--jp-code-font-family);\n",
       "font-size: var(--jp-code-font-size);\n",
       "line-height: var(--jp-code-line-height);\n",
       "\"><span style=\"color: var(--jp-warn-color2)\">lsst.pipe.base.graphBuilder</span> <span style=\"color: var(--jp-warn-color0)\">WARNING</span>: No datasets of type finalized_src_table in collection &#x27;2.2i/runs/DP0.2/v23_0_0_rc5/PREOPS-905/20211230T042014Z&#x27;.</pre>"
      ],
      "text/plain": [
       "<IPython.core.display.HTML object>"
      ]
     },
     "metadata": {},
     "output_type": "display_data"
    },
    {
     "data": {
      "text/html": [
       "<pre style=\"margin: 0.1em;\n",
       "padding-left: 0.25em;\n",
       "border-left-style: solid;\n",
       "font-family: var(--jp-code-font-family);\n",
       "font-size: var(--jp-code-font-size);\n",
       "line-height: var(--jp-code-line-height);\n",
       "\"><span style=\"color: var(--jp-warn-color2)\">lsst.pipe.base.graphBuilder</span> <span style=\"color: var(--jp-warn-color0)\">WARNING</span>: No datasets of type finalized_src_table in collection &#x27;2.2i/runs/DP0.2/v23_0_0_rc5/PREOPS-905/20211224T153913Z&#x27;.</pre>"
      ],
      "text/plain": [
       "<IPython.core.display.HTML object>"
      ]
     },
     "metadata": {},
     "output_type": "display_data"
    },
    {
     "data": {
      "text/html": [
       "<pre style=\"margin: 0.1em;\n",
       "padding-left: 0.25em;\n",
       "border-left-style: solid;\n",
       "font-family: var(--jp-code-font-family);\n",
       "font-size: var(--jp-code-font-size);\n",
       "line-height: var(--jp-code-line-height);\n",
       "\"><span style=\"color: var(--jp-warn-color2)\">lsst.pipe.base.graphBuilder</span> <span style=\"color: var(--jp-warn-color0)\">WARNING</span>: No datasets of type finalized_src_table in collection &#x27;2.2i/runs/DP0.2/v23_0_0_rc5/PREOPS-905/20211224T102944Z&#x27;.</pre>"
      ],
      "text/plain": [
       "<IPython.core.display.HTML object>"
      ]
     },
     "metadata": {},
     "output_type": "display_data"
    },
    {
     "data": {
      "text/html": [
       "<pre style=\"margin: 0.1em;\n",
       "padding-left: 0.25em;\n",
       "border-left-style: solid;\n",
       "font-family: var(--jp-code-font-family);\n",
       "font-size: var(--jp-code-font-size);\n",
       "line-height: var(--jp-code-line-height);\n",
       "\"><span style=\"color: var(--jp-warn-color2)\">lsst.pipe.base.graphBuilder</span> <span style=\"color: var(--jp-warn-color0)\">WARNING</span>: No datasets of type finalized_src_table in collection &#x27;2.2i/runs/DP0.2/v23_0_0_rc5/PREOPS-905/20211224T053402Z&#x27;.</pre>"
      ],
      "text/plain": [
       "<IPython.core.display.HTML object>"
      ]
     },
     "metadata": {},
     "output_type": "display_data"
    },
    {
     "data": {
      "text/html": [
       "<pre style=\"margin: 0.1em;\n",
       "padding-left: 0.25em;\n",
       "border-left-style: solid;\n",
       "font-family: var(--jp-code-font-family);\n",
       "font-size: var(--jp-code-font-size);\n",
       "line-height: var(--jp-code-line-height);\n",
       "\"><span style=\"color: var(--jp-warn-color2)\">lsst.pipe.base.graphBuilder</span> <span style=\"color: var(--jp-warn-color0)\">WARNING</span>: No datasets of type finalized_src_table in collection &#x27;2.2i/runs/DP0.2/v23_0_0_rc5/PREOPS-905/20211223T204234Z&#x27;.</pre>"
      ],
      "text/plain": [
       "<IPython.core.display.HTML object>"
      ]
     },
     "metadata": {},
     "output_type": "display_data"
    },
    {
     "data": {
      "text/html": [
       "<pre style=\"margin: 0.1em;\n",
       "padding-left: 0.25em;\n",
       "border-left-style: solid;\n",
       "font-family: var(--jp-code-font-family);\n",
       "font-size: var(--jp-code-font-size);\n",
       "line-height: var(--jp-code-line-height);\n",
       "\"><span style=\"color: var(--jp-warn-color2)\">lsst.pipe.base.graphBuilder</span> <span style=\"color: var(--jp-warn-color0)\">WARNING</span>: No datasets of type finalized_src_table in collection &#x27;2.2i/runs/DP0.2/v23_0_0_rc5/PREOPS-905/20211223T030157Z&#x27;.</pre>"
      ],
      "text/plain": [
       "<IPython.core.display.HTML object>"
      ]
     },
     "metadata": {},
     "output_type": "display_data"
    },
    {
     "data": {
      "text/html": [
       "<pre style=\"margin: 0.1em;\n",
       "padding-left: 0.25em;\n",
       "border-left-style: solid;\n",
       "font-family: var(--jp-code-font-family);\n",
       "font-size: var(--jp-code-font-size);\n",
       "line-height: var(--jp-code-line-height);\n",
       "\"><span style=\"color: var(--jp-warn-color2)\">lsst.pipe.base.graphBuilder</span> <span style=\"color: var(--jp-warn-color0)\">WARNING</span>: No datasets of type finalized_src_table in collection &#x27;2.2i/runs/DP0.2/v23_0_0_rc5/PREOPS-905/20211222T182615Z&#x27;.</pre>"
      ],
      "text/plain": [
       "<IPython.core.display.HTML object>"
      ]
     },
     "metadata": {},
     "output_type": "display_data"
    },
    {
     "data": {
      "text/html": [
       "<pre style=\"margin: 0.1em;\n",
       "padding-left: 0.25em;\n",
       "border-left-style: solid;\n",
       "font-family: var(--jp-code-font-family);\n",
       "font-size: var(--jp-code-font-size);\n",
       "line-height: var(--jp-code-line-height);\n",
       "\"><span style=\"color: var(--jp-warn-color2)\">lsst.pipe.base.graphBuilder</span> <span style=\"color: var(--jp-warn-color0)\">WARNING</span>: No datasets of type finalized_src_table in collection &#x27;2.2i/runs/DP0.2/v23_0_0_rc5/PREOPS-905/20211222T122903Z&#x27;.</pre>"
      ],
      "text/plain": [
       "<IPython.core.display.HTML object>"
      ]
     },
     "metadata": {},
     "output_type": "display_data"
    },
    {
     "data": {
      "text/html": [
       "<pre style=\"margin: 0.1em;\n",
       "padding-left: 0.25em;\n",
       "border-left-style: solid;\n",
       "font-family: var(--jp-code-font-family);\n",
       "font-size: var(--jp-code-font-size);\n",
       "line-height: var(--jp-code-line-height);\n",
       "\"><span style=\"color: var(--jp-warn-color2)\">lsst.pipe.base.graphBuilder</span> <span style=\"color: var(--jp-warn-color0)\">WARNING</span>: No datasets of type finalized_src_table in collection &#x27;2.2i/runs/DP0.2/v23_0_0_rc5/PREOPS-905/20211222T050757Z&#x27;.</pre>"
      ],
      "text/plain": [
       "<IPython.core.display.HTML object>"
      ]
     },
     "metadata": {},
     "output_type": "display_data"
    },
    {
     "data": {
      "text/html": [
       "<pre style=\"margin: 0.1em;\n",
       "padding-left: 0.25em;\n",
       "border-left-style: solid;\n",
       "font-family: var(--jp-code-font-family);\n",
       "font-size: var(--jp-code-font-size);\n",
       "line-height: var(--jp-code-line-height);\n",
       "\"><span style=\"color: var(--jp-warn-color2)\">lsst.pipe.base.graphBuilder</span> <span style=\"color: var(--jp-warn-color0)\">WARNING</span>: No datasets of type finalized_src_table in collection &#x27;2.2i/runs/DP0.2/v23_0_0_rc5/PREOPS-905/20211222T004329Z&#x27;.</pre>"
      ],
      "text/plain": [
       "<IPython.core.display.HTML object>"
      ]
     },
     "metadata": {},
     "output_type": "display_data"
    },
    {
     "data": {
      "text/html": [
       "<pre style=\"margin: 0.1em;\n",
       "padding-left: 0.25em;\n",
       "border-left-style: solid;\n",
       "font-family: var(--jp-code-font-family);\n",
       "font-size: var(--jp-code-font-size);\n",
       "line-height: var(--jp-code-line-height);\n",
       "\"><span style=\"color: var(--jp-warn-color2)\">lsst.pipe.base.graphBuilder</span> <span style=\"color: var(--jp-warn-color0)\">WARNING</span>: No datasets of type finalized_src_table in collection &#x27;2.2i/runs/DP0.2/v23_0_0_rc5/PREOPS-905/20211221T170207Z&#x27;.</pre>"
      ],
      "text/plain": [
       "<IPython.core.display.HTML object>"
      ]
     },
     "metadata": {},
     "output_type": "display_data"
    },
    {
     "data": {
      "text/html": [
       "<pre style=\"margin: 0.1em;\n",
       "padding-left: 0.25em;\n",
       "border-left-style: solid;\n",
       "font-family: var(--jp-code-font-family);\n",
       "font-size: var(--jp-code-font-size);\n",
       "line-height: var(--jp-code-line-height);\n",
       "\"><span style=\"color: var(--jp-warn-color2)\">lsst.pipe.base.graphBuilder</span> <span style=\"color: var(--jp-warn-color0)\">WARNING</span>: No datasets of type finalized_src_table in collection &#x27;2.2i/runs/DP0.2/v23_0_0_rc5/PREOPS-905/20211221T162728Z&#x27;.</pre>"
      ],
      "text/plain": [
       "<IPython.core.display.HTML object>"
      ]
     },
     "metadata": {},
     "output_type": "display_data"
    },
    {
     "data": {
      "text/html": [
       "<pre style=\"margin: 0.1em;\n",
       "padding-left: 0.25em;\n",
       "border-left-style: solid;\n",
       "font-family: var(--jp-code-font-family);\n",
       "font-size: var(--jp-code-font-size);\n",
       "line-height: var(--jp-code-line-height);\n",
       "\"><span style=\"color: var(--jp-warn-color2)\">lsst.pipe.base.graphBuilder</span> <span style=\"color: var(--jp-warn-color0)\">WARNING</span>: No datasets of type finalized_src_table in collection &#x27;2.2i/runs/DP0.2/v23_0_0_rc5/PREOPS-905/20211221T021010Z&#x27;.</pre>"
      ],
      "text/plain": [
       "<IPython.core.display.HTML object>"
      ]
     },
     "metadata": {},
     "output_type": "display_data"
    },
    {
     "data": {
      "text/html": [
       "<pre style=\"margin: 0.1em;\n",
       "padding-left: 0.25em;\n",
       "border-left-style: solid;\n",
       "font-family: var(--jp-code-font-family);\n",
       "font-size: var(--jp-code-font-size);\n",
       "line-height: var(--jp-code-line-height);\n",
       "\"><span style=\"color: var(--jp-warn-color2)\">lsst.pipe.base.graphBuilder</span> <span style=\"color: var(--jp-warn-color0)\">WARNING</span>: No datasets of type finalized_src_table in collection &#x27;2.2i/runs/DP0.2/v23_0_0_rc5/PREOPS-905/20211220T214212Z&#x27;.</pre>"
      ],
      "text/plain": [
       "<IPython.core.display.HTML object>"
      ]
     },
     "metadata": {},
     "output_type": "display_data"
    },
    {
     "data": {
      "text/html": [
       "<pre style=\"margin: 0.1em;\n",
       "padding-left: 0.25em;\n",
       "border-left-style: solid;\n",
       "font-family: var(--jp-code-font-family);\n",
       "font-size: var(--jp-code-font-size);\n",
       "line-height: var(--jp-code-line-height);\n",
       "\"><span style=\"color: var(--jp-warn-color2)\">lsst.pipe.base.graphBuilder</span> <span style=\"color: var(--jp-warn-color0)\">WARNING</span>: No datasets of type finalized_src_table in collection &#x27;2.2i/runs/DP0.2/v23_0_0_rc5/PREOPS-905/20211220T180923Z&#x27;.</pre>"
      ],
      "text/plain": [
       "<IPython.core.display.HTML object>"
      ]
     },
     "metadata": {},
     "output_type": "display_data"
    },
    {
     "data": {
      "text/html": [
       "<pre style=\"margin: 0.1em;\n",
       "padding-left: 0.25em;\n",
       "border-left-style: solid;\n",
       "font-family: var(--jp-code-font-family);\n",
       "font-size: var(--jp-code-font-size);\n",
       "line-height: var(--jp-code-line-height);\n",
       "\"><span style=\"color: var(--jp-warn-color2)\">lsst.pipe.base.graphBuilder</span> <span style=\"color: var(--jp-warn-color0)\">WARNING</span>: No datasets of type finalized_src_table in collection &#x27;2.2i/runs/DP0.2/v23_0_0_rc5/PREOPS-905/20211220T040027Z&#x27;.</pre>"
      ],
      "text/plain": [
       "<IPython.core.display.HTML object>"
      ]
     },
     "metadata": {},
     "output_type": "display_data"
    },
    {
     "data": {
      "text/html": [
       "<pre style=\"margin: 0.1em;\n",
       "padding-left: 0.25em;\n",
       "border-left-style: solid;\n",
       "font-family: var(--jp-code-font-family);\n",
       "font-size: var(--jp-code-font-size);\n",
       "line-height: var(--jp-code-line-height);\n",
       "\"><span style=\"color: var(--jp-warn-color2)\">lsst.pipe.base.graphBuilder</span> <span style=\"color: var(--jp-warn-color0)\">WARNING</span>: No datasets of type finalized_src_table in collection &#x27;2.2i/runs/DP0.2/v23_0_0_rc5/PREOPS-905/20211220T000005Z&#x27;.</pre>"
      ],
      "text/plain": [
       "<IPython.core.display.HTML object>"
      ]
     },
     "metadata": {},
     "output_type": "display_data"
    },
    {
     "data": {
      "text/html": [
       "<pre style=\"margin: 0.1em;\n",
       "padding-left: 0.25em;\n",
       "border-left-style: solid;\n",
       "font-family: var(--jp-code-font-family);\n",
       "font-size: var(--jp-code-font-size);\n",
       "line-height: var(--jp-code-line-height);\n",
       "\"><span style=\"color: var(--jp-warn-color2)\">lsst.pipe.base.graphBuilder</span> <span style=\"color: var(--jp-warn-color0)\">WARNING</span>: No datasets of type finalized_src_table in collection &#x27;2.2i/runs/DP0.2/v23_0_0_rc5/PREOPS-905/20211219T205411Z&#x27;.</pre>"
      ],
      "text/plain": [
       "<IPython.core.display.HTML object>"
      ]
     },
     "metadata": {},
     "output_type": "display_data"
    },
    {
     "data": {
      "text/html": [
       "<pre style=\"margin: 0.1em;\n",
       "padding-left: 0.25em;\n",
       "border-left-style: solid;\n",
       "font-family: var(--jp-code-font-family);\n",
       "font-size: var(--jp-code-font-size);\n",
       "line-height: var(--jp-code-line-height);\n",
       "\"><span style=\"color: var(--jp-warn-color2)\">lsst.pipe.base.graphBuilder</span> <span style=\"color: var(--jp-warn-color0)\">WARNING</span>: No datasets of type finalized_src_table in collection &#x27;2.2i/runs/DP0.2/v23_0_0_rc5/PREOPS-905/20211219T150249Z&#x27;.</pre>"
      ],
      "text/plain": [
       "<IPython.core.display.HTML object>"
      ]
     },
     "metadata": {},
     "output_type": "display_data"
    },
    {
     "data": {
      "text/html": [
       "<pre style=\"margin: 0.1em;\n",
       "padding-left: 0.25em;\n",
       "border-left-style: solid;\n",
       "font-family: var(--jp-code-font-family);\n",
       "font-size: var(--jp-code-font-size);\n",
       "line-height: var(--jp-code-line-height);\n",
       "\"><span style=\"color: var(--jp-warn-color2)\">lsst.pipe.base.graphBuilder</span> <span style=\"color: var(--jp-warn-color0)\">WARNING</span>: No datasets of type finalized_src_table in collection &#x27;2.2i/runs/DP0.2/v23_0_0_rc5/PREOPS-905/20211219T033213Z&#x27;.</pre>"
      ],
      "text/plain": [
       "<IPython.core.display.HTML object>"
      ]
     },
     "metadata": {},
     "output_type": "display_data"
    },
    {
     "data": {
      "text/html": [
       "<pre style=\"margin: 0.1em;\n",
       "padding-left: 0.25em;\n",
       "border-left-style: solid;\n",
       "font-family: var(--jp-code-font-family);\n",
       "font-size: var(--jp-code-font-size);\n",
       "line-height: var(--jp-code-line-height);\n",
       "\"><span style=\"color: var(--jp-warn-color2)\">lsst.pipe.base.graphBuilder</span> <span style=\"color: var(--jp-warn-color0)\">WARNING</span>: No datasets of type finalized_src_table in collection &#x27;2.2i/runs/DP0.2/v23_0_0_rc5/PREOPS-905/20211218T214417Z&#x27;.</pre>"
      ],
      "text/plain": [
       "<IPython.core.display.HTML object>"
      ]
     },
     "metadata": {},
     "output_type": "display_data"
    },
    {
     "data": {
      "text/html": [
       "<pre style=\"margin: 0.1em;\n",
       "padding-left: 0.25em;\n",
       "border-left-style: solid;\n",
       "font-family: var(--jp-code-font-family);\n",
       "font-size: var(--jp-code-font-size);\n",
       "line-height: var(--jp-code-line-height);\n",
       "\"><span style=\"color: var(--jp-warn-color2)\">lsst.pipe.base.graphBuilder</span> <span style=\"color: var(--jp-warn-color0)\">WARNING</span>: No datasets of type finalized_src_table in collection &#x27;2.2i/runs/DP0.2/v23_0_0_rc5/PREOPS-905/20211218T144437Z&#x27;.</pre>"
      ],
      "text/plain": [
       "<IPython.core.display.HTML object>"
      ]
     },
     "metadata": {},
     "output_type": "display_data"
    },
    {
     "data": {
      "text/html": [
       "<pre style=\"margin: 0.1em;\n",
       "padding-left: 0.25em;\n",
       "border-left-style: solid;\n",
       "font-family: var(--jp-code-font-family);\n",
       "font-size: var(--jp-code-font-size);\n",
       "line-height: var(--jp-code-line-height);\n",
       "\"><span style=\"color: var(--jp-warn-color2)\">lsst.pipe.base.graphBuilder</span> <span style=\"color: var(--jp-warn-color0)\">WARNING</span>: No datasets of type finalized_src_table in collection &#x27;2.2i/runs/DP0.2/v23_0_0_rc5/PREOPS-905/20211218T041605Z&#x27;.</pre>"
      ],
      "text/plain": [
       "<IPython.core.display.HTML object>"
      ]
     },
     "metadata": {},
     "output_type": "display_data"
    },
    {
     "data": {
      "text/html": [
       "<pre style=\"margin: 0.1em;\n",
       "padding-left: 0.25em;\n",
       "border-left-style: solid;\n",
       "font-family: var(--jp-code-font-family);\n",
       "font-size: var(--jp-code-font-size);\n",
       "line-height: var(--jp-code-line-height);\n",
       "\"><span style=\"color: var(--jp-warn-color2)\">lsst.pipe.base.graphBuilder</span> <span style=\"color: var(--jp-warn-color0)\">WARNING</span>: No datasets of type finalized_src_table in collection &#x27;2.2i/runs/DP0.2/v23_0_0_rc5/PREOPS-905/20211218T002844Z&#x27;.</pre>"
      ],
      "text/plain": [
       "<IPython.core.display.HTML object>"
      ]
     },
     "metadata": {},
     "output_type": "display_data"
    },
    {
     "data": {
      "text/html": [
       "<pre style=\"margin: 0.1em;\n",
       "padding-left: 0.25em;\n",
       "border-left-style: solid;\n",
       "font-family: var(--jp-code-font-family);\n",
       "font-size: var(--jp-code-font-size);\n",
       "line-height: var(--jp-code-line-height);\n",
       "\"><span style=\"color: var(--jp-warn-color2)\">lsst.pipe.base.graphBuilder</span> <span style=\"color: var(--jp-warn-color0)\">WARNING</span>: No datasets of type finalized_src_table in collection &#x27;2.2i/raw/DR6/WFD&#x27;.</pre>"
      ],
      "text/plain": [
       "<IPython.core.display.HTML object>"
      ]
     },
     "metadata": {},
     "output_type": "display_data"
    },
    {
     "data": {
      "text/html": [
       "<pre style=\"margin: 0.1em;\n",
       "padding-left: 0.25em;\n",
       "border-left-style: solid;\n",
       "font-family: var(--jp-code-font-family);\n",
       "font-size: var(--jp-code-font-size);\n",
       "line-height: var(--jp-code-line-height);\n",
       "\"><span style=\"color: var(--jp-warn-color2)\">lsst.pipe.base.graphBuilder</span> <span style=\"color: var(--jp-warn-color0)\">WARNING</span>: No datasets of type finalized_src_table in collection &#x27;2.2i/calib/DM-30694&#x27;.</pre>"
      ],
      "text/plain": [
       "<IPython.core.display.HTML object>"
      ]
     },
     "metadata": {},
     "output_type": "display_data"
    },
    {
     "data": {
      "text/html": [
       "<pre style=\"margin: 0.1em;\n",
       "padding-left: 0.25em;\n",
       "border-left-style: solid;\n",
       "font-family: var(--jp-code-font-family);\n",
       "font-size: var(--jp-code-font-size);\n",
       "line-height: var(--jp-code-line-height);\n",
       "\"><span style=\"color: var(--jp-warn-color2)\">lsst.pipe.base.graphBuilder</span> <span style=\"color: var(--jp-warn-color0)\">WARNING</span>: No datasets of type finalized_src_table in collection &#x27;2.2i/calib/gen2&#x27;.</pre>"
      ],
      "text/plain": [
       "<IPython.core.display.HTML object>"
      ]
     },
     "metadata": {},
     "output_type": "display_data"
    },
    {
     "data": {
      "text/html": [
       "<pre style=\"margin: 0.1em;\n",
       "padding-left: 0.25em;\n",
       "border-left-style: solid;\n",
       "font-family: var(--jp-code-font-family);\n",
       "font-size: var(--jp-code-font-size);\n",
       "line-height: var(--jp-code-line-height);\n",
       "\"><span style=\"color: var(--jp-warn-color2)\">lsst.pipe.base.graphBuilder</span> <span style=\"color: var(--jp-warn-color0)\">WARNING</span>: No datasets of type finalized_src_table in collection &#x27;2.2i/calib/DM-30694/unbounded&#x27;.</pre>"
      ],
      "text/plain": [
       "<IPython.core.display.HTML object>"
      ]
     },
     "metadata": {},
     "output_type": "display_data"
    },
    {
     "data": {
      "text/html": [
       "<pre style=\"margin: 0.1em;\n",
       "padding-left: 0.25em;\n",
       "border-left-style: solid;\n",
       "font-family: var(--jp-code-font-family);\n",
       "font-size: var(--jp-code-font-size);\n",
       "line-height: var(--jp-code-line-height);\n",
       "\"><span style=\"color: var(--jp-warn-color2)\">lsst.pipe.base.graphBuilder</span> <span style=\"color: var(--jp-warn-color0)\">WARNING</span>: No datasets of type finalized_src_table in collection &#x27;skymaps&#x27;.</pre>"
      ],
      "text/plain": [
       "<IPython.core.display.HTML object>"
      ]
     },
     "metadata": {},
     "output_type": "display_data"
    },
    {
     "data": {
      "text/html": [
       "<pre style=\"margin: 0.1em;\n",
       "padding-left: 0.25em;\n",
       "border-left-style: solid;\n",
       "font-family: var(--jp-code-font-family);\n",
       "font-size: var(--jp-code-font-size);\n",
       "line-height: var(--jp-code-line-height);\n",
       "\"><span style=\"color: var(--jp-warn-color2)\">lsst.pipe.base.graphBuilder</span> <span style=\"color: var(--jp-warn-color0)\">WARNING</span>: No datasets of type finalized_src_table in collection &#x27;refcats/PREOPS-301&#x27;.</pre>"
      ],
      "text/plain": [
       "<IPython.core.display.HTML object>"
      ]
     },
     "metadata": {},
     "output_type": "display_data"
    },
    {
     "data": {
      "text/html": [
       "<pre style=\"margin: 0.1em;\n",
       "padding-left: 0.25em;\n",
       "border-left-style: solid;\n",
       "font-family: var(--jp-code-font-family);\n",
       "font-size: var(--jp-code-font-size);\n",
       "line-height: var(--jp-code-line-height);\n",
       "\"><span style=\"color: var(--jp-warn-color2)\">lsst.pipe.base.graphBuilder</span> <span style=\"color: var(--jp-warn-color0)\">WARNING</span>: No datasets of type finalized_src_table in collection &#x27;2.2i/truth_summary&#x27;.</pre>"
      ],
      "text/plain": [
       "<IPython.core.display.HTML object>"
      ]
     },
     "metadata": {},
     "output_type": "display_data"
    },
    {
     "name": "stdout",
     "output_type": "stream",
     "text": [
      "CPU times: user 1.74 s, sys: 141 ms, total: 1.89 s\n",
      "Wall time: 1.89 s\n"
     ]
    }
   ],
   "source": [
    "%%time\n",
    "spe = SimplePipelineExecutor.from_pipeline(myDetectionPipeline, \n",
    "                                           where=queryString, \n",
    "                                           butler=simpleButler)"
   ]
  },
  {
   "cell_type": "code",
   "execution_count": 22,
   "id": "57f1301e-0f5f-48ff-9744-d232af8386fb",
   "metadata": {},
   "outputs": [
    {
     "data": {
      "text/plain": [
       "[]"
      ]
     },
     "execution_count": 22,
     "metadata": {},
     "output_type": "execute_result"
    }
   ],
   "source": [
    "spe.quantum_graph.outputQuanta"
   ]
  },
  {
   "cell_type": "code",
   "execution_count": 42,
   "id": "8ef53e02-59b9-4c6e-962d-73dcebf1a7ac",
   "metadata": {},
   "outputs": [],
   "source": [
    "import lsst.pipe.tasks.multiBand as multiBand"
   ]
  },
  {
   "cell_type": "code",
   "execution_count": 43,
   "id": "f7130d96-4bcd-4d6e-a741-8189fc2aa85f",
   "metadata": {},
   "outputs": [
    {
     "data": {
      "text/plain": [
       "lsst.pipe.tasks.multiBand.DetectCoaddSourcesConfig"
      ]
     },
     "execution_count": 43,
     "metadata": {},
     "output_type": "execute_result"
    }
   ],
   "source": [
    "multiBand.DetectCoaddSourcesConfig"
   ]
  },
  {
   "cell_type": "code",
   "execution_count": 46,
   "id": "e13dd856-63b1-4e2a-b08b-f5f837b9a00a",
   "metadata": {},
   "outputs": [
    {
     "ename": "TypeError",
     "evalue": "Config.keys() missing 1 required positional argument: 'self'",
     "output_type": "error",
     "traceback": [
      "\u001b[0;31m---------------------------------------------------------------------------\u001b[0m",
      "\u001b[0;31mTypeError\u001b[0m                                 Traceback (most recent call last)",
      "Input \u001b[0;32mIn [46]\u001b[0m, in \u001b[0;36m<cell line: 1>\u001b[0;34m()\u001b[0m\n\u001b[0;32m----> 1\u001b[0m \u001b[38;5;28;01mfor\u001b[39;00m key \u001b[38;5;129;01min\u001b[39;00m multiBand\u001b[38;5;241m.\u001b[39mDetectCoaddSourcesConfig\u001b[38;5;241m.\u001b[39mkeys():\n\u001b[1;32m      2\u001b[0m     \u001b[38;5;28mprint\u001b[39m(key)\n",
      "\u001b[0;31mTypeError\u001b[0m: Config.keys() missing 1 required positional argument: 'self'"
     ]
    }
   ],
   "source": [
    "for key in multiBand.DetectCoaddSourcesConfig.keys():\n",
    "    print(key)"
   ]
  },
  {
   "cell_type": "code",
   "execution_count": 47,
   "id": "867e079f-1f57-45c0-a6f6-7a83192aff64",
   "metadata": {},
   "outputs": [
    {
     "name": "stderr",
     "output_type": "stream",
     "text": [
      "<string>:250: FutureWarning: Config field doInsertFakes is deprecated: doInsertFakes is no longer supported. This config will be removed after v24.\n"
     ]
    }
   ],
   "source": [
    "my_detection_config = simpleButler.get(\"detection_config\", my_dataId)"
   ]
  },
  {
   "cell_type": "code",
   "execution_count": 49,
   "id": "4fd5c4e2-78c4-4a9a-b817-f60742b8d8e9",
   "metadata": {},
   "outputs": [
    {
     "name": "stdout",
     "output_type": "stream",
     "text": [
      "saveMetadata True\n",
      "saveLogOutput True\n",
      "doScaleVariance True\n",
      "scaleVariance <lsst.pex.config.configurableField.ConfigurableInstance object at 0x7f9cf7dddc90>\n",
      "detection <lsst.pex.config.configurableField.ConfigurableInstance object at 0x7f9cf7dde110>\n",
      "coaddName deep\n",
      "doInsertFakes False\n",
      "insertFakes <lsst.pex.config.configurableField.ConfigurableInstance object at 0x7f9cf7bfe740>\n",
      "hasFakes False\n",
      "connections {'detectionSchema': '{outputCoaddName}Coadd_det_schema', 'exposure': '{inputCoaddName}Coadd', 'outputBackgrounds': '{outputCoaddName}Coadd_calexp_background', 'outputSources': '{outputCoaddName}Coadd_det', 'outputExposure': '{outputCoaddName}Coadd_calexp', 'inputCoaddName': 'deep', 'outputCoaddName': 'deep'}\n"
     ]
    }
   ],
   "source": [
    "for key, value in my_detection_config.items():\n",
    "     print(key, value)"
   ]
  },
  {
   "cell_type": "code",
   "execution_count": 51,
   "id": "662f12a3-ee86-4560-8a27-e51759db8bd0",
   "metadata": {},
   "outputs": [
    {
     "data": {
      "text/plain": [
       "lsst.meas.algorithms.dynamicDetection.DynamicDetectionConfig(minPixels=1, isotropicGrow=True, combinedGrow=True, nSigmaToGrow=2.4, returnOriginalFootprints=False, thresholdValue=5.0, includeThresholdMultiplier=1.0, thresholdType='pixel_stdev', thresholdPolarity='positive', adjustBackground=0.0, reEstimateBackground=False, background={'statisticsProperty': 'MEANCLIP', 'undersampleStyle': 'REDUCE_INTERP_ORDER', 'binSize': 4096, 'binSizeX': 0, 'binSizeY': 0, 'algorithm': 'AKIMA_SPLINE', 'ignoredPixelMask': ['BAD', 'EDGE', 'DETECTED', 'DETECTED_NEGATIVE', 'NO_DATA'], 'isNanSafe': False, 'useApprox': False, 'approxOrderX': 6, 'approxOrderY': -1, 'weighting': True}, tempLocalBackground={'statisticsProperty': 'MEANCLIP', 'undersampleStyle': 'REDUCE_INTERP_ORDER', 'binSize': 64, 'binSizeX': 0, 'binSizeY': 0, 'algorithm': 'AKIMA_SPLINE', 'ignoredPixelMask': ['BAD', 'EDGE', 'DETECTED', 'DETECTED_NEGATIVE', 'NO_DATA'], 'isNanSafe': False, 'useApprox': False, 'approxOrderX': 6, 'approxOrderY': -1, 'weighting': True}, doTempLocalBackground=True, tempWideBackground={'statisticsProperty': 'MEANCLIP', 'undersampleStyle': 'REDUCE_INTERP_ORDER', 'binSize': 512, 'binSizeX': 0, 'binSizeY': 0, 'algorithm': 'AKIMA_SPLINE', 'ignoredPixelMask': ['BAD', 'EDGE', 'NO_DATA'], 'isNanSafe': False, 'useApprox': False, 'approxOrderX': 6, 'approxOrderY': -1, 'weighting': True}, doTempWideBackground=True, nPeaksMaxSimple=1, nSigmaForKernel=7.0, statsMask=['BAD', 'SAT', 'EDGE', 'NO_DATA'], prelimThresholdFactor=0.5, skyObjects={'avoidMask': ['DETECTED', 'DETECTED_NEGATIVE', 'BAD', 'NO_DATA'], 'growMask': 0, 'sourceRadius': 8.0, 'nSources': 1000, 'nTrialSources': None, 'nTrialSourcesMultiplier': 5}, doBackgroundTweak=True, minNumSources=10)"
      ]
     },
     "execution_count": 51,
     "metadata": {},
     "output_type": "execute_result"
    }
   ],
   "source": [
    "my_detection_config.detection.value"
   ]
  },
  {
   "cell_type": "code",
   "execution_count": null,
   "id": "112c3bf2-f8ae-46dd-a8d3-383a44b5c038",
   "metadata": {},
   "outputs": [],
   "source": []
  }
 ],
 "metadata": {
  "kernelspec": {
   "display_name": "LSST",
   "language": "python",
   "name": "lsst"
  },
  "language_info": {
   "codemirror_mode": {
    "name": "ipython",
    "version": 3
   },
   "file_extension": ".py",
   "mimetype": "text/x-python",
   "name": "python",
   "nbconvert_exporter": "python",
   "pygments_lexer": "ipython3",
   "version": "3.10.5"
  }
 },
 "nbformat": 4,
 "nbformat_minor": 5
}
