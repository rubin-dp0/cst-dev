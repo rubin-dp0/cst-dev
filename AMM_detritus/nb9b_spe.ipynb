{
 "cells": [
  {
   "cell_type": "markdown",
   "id": "59c564d7-753f-4c98-b72e-df6cce1b1531",
   "metadata": {},
   "source": [
    "draft augmented version of notebook 9b using Simple Pipeline Executor (SPE)"
   ]
  },
  {
   "cell_type": "code",
   "execution_count": 1,
   "id": "af77cc06-47dc-474d-b996-ccfd890a8917",
   "metadata": {},
   "outputs": [
    {
     "name": "stdout",
     "output_type": "stream",
     "text": [
      "w_2022_40\n"
     ]
    }
   ],
   "source": [
    "# copied from existing notebooks 9a, 9b\n",
    "! echo $IMAGE_DESCRIPTION"
   ]
  },
  {
   "cell_type": "code",
   "execution_count": 2,
   "id": "fa4b5a9b-d149-4d8e-ac04-e3ed979c232d",
   "metadata": {},
   "outputs": [],
   "source": [
    "# copied from existing notebook 9a\n",
    "#import getpass\n",
    "import os\n",
    "import numpy as np\n",
    "import matplotlib\n",
    "import matplotlib.pyplot as plt\n",
    "import pandas\n",
    "from astropy.time import Time\n",
    "\n",
    "import lsst.geom\n",
    "import lsst.afw.display as afwDisplay\n",
    "from lsst.daf.butler import Butler, DatasetType, CollectionType\n",
    "from lsst.ctrl.mpexec import SimplePipelineExecutor\n",
    "from lsst.pipe.base import Pipeline, Instrument"
   ]
  },
  {
   "cell_type": "code",
   "execution_count": 3,
   "id": "54f3a4ab-f33f-40e8-a1f6-86cdc4e29968",
   "metadata": {},
   "outputs": [],
   "source": [
    "my_collection_identifier = 'custom_coadd_window1_test1'\n",
    "my_username = os.environ['USER']\n",
    "my_collection = 'u/' + my_username + '/' + my_collection_identifier"
   ]
  },
  {
   "cell_type": "code",
   "execution_count": 4,
   "id": "b9fe5ecf-d6b2-4df0-bdac-67444e694f17",
   "metadata": {},
   "outputs": [
    {
     "name": "stdout",
     "output_type": "stream",
     "text": [
      "u/ameisner/custom_coadd_window1_test1\n"
     ]
    }
   ],
   "source": [
    "print(my_collection)"
   ]
  },
  {
   "cell_type": "code",
   "execution_count": 5,
   "id": "96d436f7-fb4d-4dc6-87bf-9b8f4f3e6d2e",
   "metadata": {},
   "outputs": [],
   "source": [
    "ordered_collections_list = [my_collection, '2.2i/runs/DP0.2']\n",
    "### ordered_collections_list = ['2.2i/runs/DP0.2'] # this was just a test, don't actually want to do this !!"
   ]
  },
  {
   "cell_type": "code",
   "execution_count": 6,
   "id": "84228dfe-4b83-403f-8f5a-0ce505349358",
   "metadata": {},
   "outputs": [],
   "source": [
    "butler = Butler('dp02', collections=ordered_collections_list)"
   ]
  },
  {
   "cell_type": "code",
   "execution_count": 7,
   "id": "0239b687-0bd0-44f6-bb7a-cc4dd4671de6",
   "metadata": {},
   "outputs": [],
   "source": [
    "my_tract = 4431\n",
    "my_patch = 17\n",
    "my_visits_tupleString = '(919515,924057,924085,924086,929477,930353)' # not used until later\n",
    "my_dataId = {'band': 'i', 'tract': my_tract, 'patch': my_patch}\n",
    "my_deepCoadd = butler.get('deepCoadd', my_dataId)"
   ]
  },
  {
   "cell_type": "code",
   "execution_count": 8,
   "id": "186034e0-d69d-4708-9fb1-0585e56ef74e",
   "metadata": {},
   "outputs": [
    {
     "data": {
      "text/html": [
       "<div><i>Table length=6</i>\n",
       "<table id=\"table139783937044928\" class=\"table-striped table-bordered table-condensed\">\n",
       "<thead><tr><th>id</th><th>bbox_min_x</th><th>bbox_min_y</th><th>bbox_max_x</th><th>bbox_max_y</th><th>goodpix</th><th>weight</th><th>filter</th></tr></thead>\n",
       "<thead><tr><th></th><th>pix</th><th>pix</th><th>pix</th><th>pix</th><th></th><th></th><th></th></tr></thead>\n",
       "<thead><tr><th>int64</th><th>int32</th><th>int32</th><th>int32</th><th>int32</th><th>int32</th><th>float64</th><th>str32</th></tr></thead>\n",
       "<tr><td>919515</td><td>11900</td><td>7900</td><td>16099</td><td>12099</td><td>8982709</td><td>3.4656688819793495</td><td>i_sim_1.4</td></tr>\n",
       "<tr><td>924057</td><td>11900</td><td>7900</td><td>16099</td><td>12099</td><td>16098179</td><td>4.384267091685517</td><td>i_sim_1.4</td></tr>\n",
       "<tr><td>924085</td><td>11900</td><td>7900</td><td>16099</td><td>12099</td><td>831332</td><td>4.446833161599578</td><td>i_sim_1.4</td></tr>\n",
       "<tr><td>924086</td><td>11900</td><td>7900</td><td>16099</td><td>12099</td><td>16136708</td><td>4.550420295334223</td><td>i_sim_1.4</td></tr>\n",
       "<tr><td>929477</td><td>11900</td><td>7900</td><td>16099</td><td>12099</td><td>16280498</td><td>4.051326013718346</td><td>i_sim_1.4</td></tr>\n",
       "<tr><td>930353</td><td>11900</td><td>7900</td><td>16099</td><td>12099</td><td>16076133</td><td>3.7685753871220466</td><td>i_sim_1.4</td></tr>\n",
       "</table></div>"
      ],
      "text/plain": [
       "<Table length=6>\n",
       "  id   bbox_min_x bbox_min_y ... goodpix        weight         filter \n",
       "          pix        pix     ...                                      \n",
       "int64    int32      int32    ...  int32        float64         str32  \n",
       "------ ---------- ---------- ... -------- ------------------ ---------\n",
       "919515      11900       7900 ...  8982709 3.4656688819793495 i_sim_1.4\n",
       "924057      11900       7900 ... 16098179  4.384267091685517 i_sim_1.4\n",
       "924085      11900       7900 ...   831332  4.446833161599578 i_sim_1.4\n",
       "924086      11900       7900 ... 16136708  4.550420295334223 i_sim_1.4\n",
       "929477      11900       7900 ... 16280498  4.051326013718346 i_sim_1.4\n",
       "930353      11900       7900 ... 16076133 3.7685753871220466 i_sim_1.4"
      ]
     },
     "execution_count": 8,
     "metadata": {},
     "output_type": "execute_result"
    }
   ],
   "source": [
    "my_deepCoadd_inputs = my_deepCoadd.getInfo().getCoaddInputs()\n",
    "my_deepCoadd_inputs.visits.asAstropy()"
   ]
  },
  {
   "cell_type": "code",
   "execution_count": 9,
   "id": "be61793b-66e0-400c-a053-77f7ea4a8863",
   "metadata": {},
   "outputs": [
    {
     "data": {
      "text/plain": [
       "6"
      ]
     },
     "execution_count": 9,
     "metadata": {},
     "output_type": "execute_result"
    }
   ],
   "source": [
    "len(my_deepCoadd_inputs.visits) # should be 6 or something has gone wrong..."
   ]
  },
  {
   "cell_type": "code",
   "execution_count": 10,
   "id": "47b74e47-bb71-4dcb-91b2-a0fbe04ecea2",
   "metadata": {},
   "outputs": [],
   "source": [
    "del butler"
   ]
  },
  {
   "cell_type": "code",
   "execution_count": null,
   "id": "c38340c2-3c48-4a7b-bbdb-f43f62b55976",
   "metadata": {},
   "outputs": [],
   "source": [
    "# relevant subset of $DRP_PIPE_DIR/ingredients/LSSTCam-imSim/DRP.yaml\n",
    "\n",
    "#  step3:\n",
    "#    subset:\n",
    "#      - makeWarp          ### already done in 9a\n",
    "#      - assembleCoadd     ### already done in 9a\n",
    "#      - detection\n",
    "#      - mergeDetections\n",
    "#      - deblend\n",
    "#      - measure\n",
    "#      - mergeMeasurements\n",
    "#      - forcedPhotCoadd\n",
    "#      - transformObjectTable\n",
    "#      - writeObjectTable\n",
    "#      - consolidateObjectTable\n",
    "#      - healSparsePropertyMaps    ### not necessary based on Jira ticket description\n",
    "#      - selectGoodSeeingVisits    ### not necessary based on Jira ticket description\n",
    "#      - templateGen               ### not necessary based on Jira ticket description\n",
    "#    description: |"
   ]
  },
  {
   "cell_type": "code",
   "execution_count": 11,
   "id": "51cd513a-56bc-4a54-9f10-bd945fbf08f9",
   "metadata": {},
   "outputs": [
    {
     "name": "stdout",
     "output_type": "stream",
     "text": [
      "$DRP_PIPE_DIR/ingredients/LSSTCam-imSim/DRP.yaml#detection\n"
     ]
    }
   ],
   "source": [
    "yaml_file = '$DRP_PIPE_DIR/ingredients/LSSTCam-imSim/DRP.yaml'\n",
    "steps = 'detection' # try this as an initial test case\n",
    "# steps = 'detection,mergeDetections,deblend,measure,mergeMeasurements,forcedPhotCoadd,transformObjectTable,writeObjectTable,consolidateObjectTable'\n",
    "my_uri = yaml_file + '#' + steps\n",
    "print(my_uri)"
   ]
  },
  {
   "cell_type": "code",
   "execution_count": 12,
   "id": "9be5b535-8bf6-4257-b802-5afc53da6ced",
   "metadata": {},
   "outputs": [],
   "source": [
    "myDetectionPipeline = Pipeline.from_uri(my_uri)"
   ]
  },
  {
   "cell_type": "code",
   "execution_count": null,
   "id": "62408836-586c-41af-8445-c7d2e39767d5",
   "metadata": {},
   "outputs": [],
   "source": [
    "#configs from 9b: \n",
    "#  (1) characterizeimage -- 1 psfiteration    ### i think this is actually irrelevant when using the SPE framework?\n",
    "#  (2) detection -- thresholdValue = 10 (10 sigma)\n",
    "#  (3) detection -- thresholdType = \"stdev\""
   ]
  },
  {
   "cell_type": "code",
   "execution_count": null,
   "id": "b5bf85b5-730a-47ac-92ec-0a7646875d58",
   "metadata": {},
   "outputs": [],
   "source": [
    "# myDetectionPipeline.addConfigOverride('CharacterizeImage', 'psfIterations', 1) # this crashes with \"LookupError: There are no tasks labeled 'CharacterizeImage' in the pipeline\"\n",
    "#myDetectionPipeline.addConfigOverride('characterizeImage', 'psfIterations', 1) # this crashes with \"LookupError: There are no tasks labeled 'characterizeImage' in the pipeline\""
   ]
  },
  {
   "cell_type": "code",
   "execution_count": 13,
   "id": "efaf8cad-aafa-4156-92c8-47253e9bbc5a",
   "metadata": {},
   "outputs": [
    {
     "data": {
      "text/plain": [
       "\u001b[0;31mSignature:\u001b[0m\n",
       "\u001b[0mmyDetectionPipeline\u001b[0m\u001b[0;34m.\u001b[0m\u001b[0maddConfigOverride\u001b[0m\u001b[0;34m(\u001b[0m\u001b[0;34m\u001b[0m\n",
       "\u001b[0;34m\u001b[0m    \u001b[0mlabel\u001b[0m\u001b[0;34m:\u001b[0m \u001b[0;34m'str'\u001b[0m\u001b[0;34m,\u001b[0m\u001b[0;34m\u001b[0m\n",
       "\u001b[0;34m\u001b[0m    \u001b[0mkey\u001b[0m\u001b[0;34m:\u001b[0m \u001b[0;34m'str'\u001b[0m\u001b[0;34m,\u001b[0m\u001b[0;34m\u001b[0m\n",
       "\u001b[0;34m\u001b[0m    \u001b[0mvalue\u001b[0m\u001b[0;34m:\u001b[0m \u001b[0;34m'object'\u001b[0m\u001b[0;34m,\u001b[0m\u001b[0;34m\u001b[0m\n",
       "\u001b[0;34m\u001b[0m\u001b[0;34m)\u001b[0m \u001b[0;34m->\u001b[0m \u001b[0;34m'None'\u001b[0m\u001b[0;34m\u001b[0m\u001b[0;34m\u001b[0m\u001b[0m\n",
       "\u001b[0;31mDocstring:\u001b[0m\n",
       "Apply single config override.\n",
       "\n",
       "Parameters\n",
       "----------\n",
       "label : `str`\n",
       "    Label of the task.\n",
       "key: `str`\n",
       "    Fully-qualified field name.\n",
       "value : object\n",
       "    Value to be given to a field.\n",
       "\u001b[0;31mFile:\u001b[0m      /opt/lsst/software/stack/stack/miniconda3-py38_4.9.2-4.1.0/Linux64/pipe_base/gbbd6c36fd7+a713711289/python/lsst/pipe/base/pipeline.py\n",
       "\u001b[0;31mType:\u001b[0m      method\n"
      ]
     },
     "metadata": {},
     "output_type": "display_data"
    }
   ],
   "source": [
    "myDetectionPipeline.addConfigOverride('detection', 'detection.thresholdValue', 10)\n",
    "myDetectionPipeline.addConfigOverride('detection', 'detection.thresholdType', \"stdev\")\n",
    "?myDetectionPipeline.addConfigOverride"
   ]
  },
  {
   "cell_type": "code",
   "execution_count": 14,
   "id": "e1597e66-c95e-46ef-854b-3220ab4396a4",
   "metadata": {},
   "outputs": [
    {
     "name": "stdout",
     "output_type": "stream",
     "text": [
      "tract = 4431 AND patch = 17 AND visit in (919515,924057,924085,924086,929477,930353) AND skymap = 'DC2'\n"
     ]
    }
   ],
   "source": [
    "queryString = f\"tract = {my_tract} AND patch = {my_patch} AND \" + \\\n",
    "              f\"visit in {my_visits_tupleString} AND skymap = 'DC2'\"\n",
    "\n",
    "print(queryString)"
   ]
  },
  {
   "cell_type": "code",
   "execution_count": 15,
   "id": "463f5b51-d088-4dba-a8f7-ccebb91c5a47",
   "metadata": {},
   "outputs": [],
   "source": [
    "my_outputCollection = 'u/ameisner/nb9a_spe'"
   ]
  },
  {
   "cell_type": "code",
   "execution_count": 16,
   "id": "8a8fae96-7a2c-41ae-a27b-44ef07915933",
   "metadata": {},
   "outputs": [],
   "source": [
    "simpleButler = SimplePipelineExecutor.prep_butler('dp02', \n",
    "                                                  inputs=ordered_collections_list, \n",
    "                                                  output=my_outputCollection)"
   ]
  },
  {
   "cell_type": "code",
   "execution_count": 17,
   "id": "f1f68143-8ce7-41b7-a11e-6e3b190a61fc",
   "metadata": {},
   "outputs": [
    {
     "data": {
      "text/plain": [
       "CollectionSearch(('u/ameisner/nb9a_spe/20230508T074006Z', 'u/ameisner/custom_coadd_window1_test1', '2.2i/runs/DP0.2'))"
      ]
     },
     "execution_count": 17,
     "metadata": {},
     "output_type": "execute_result"
    }
   ],
   "source": [
    "simpleButler.registry.getCollectionChain(my_outputCollection)"
   ]
  },
  {
   "cell_type": "code",
   "execution_count": 79,
   "id": "467bd0a4-f716-4886-97ea-2a3b9186837e",
   "metadata": {},
   "outputs": [
    {
     "name": "stdout",
     "output_type": "stream",
     "text": [
      "Found:  u/ameisner/nb9a_spe\n",
      "Found:  u/ameisner/nb9a_spe/20230508T070540Z\n",
      "Found:  u/ameisner/nb9a_spe/20230508T071351Z\n",
      "Found:  u/ameisner/nb9a_spe/20230508T072348Z\n",
      "Found:  u/ameisner/nb9a_spe/20230508T073025Z\n",
      "Found:  u/ameisner/nb9a_spe/20230508T074006Z\n"
     ]
    }
   ],
   "source": [
    "for c in sorted(simpleButler.registry.queryCollections(my_outputCollection+'*')):\n",
    "    print('Found: ', c)"
   ]
  },
  {
   "cell_type": "code",
   "execution_count": 19,
   "id": "6b0edd05-ed43-40a5-8d8b-a639dfa899d6",
   "metadata": {},
   "outputs": [
    {
     "name": "stderr",
     "output_type": "stream",
     "text": [
      "/opt/lsst/software/stack/stack/miniconda3-py38_4.9.2-4.1.0/Linux64/pipe_tasks/g369a80f31c+b9be13ffc2/python/lsst/pipe/tasks/multiBand.py:261: UserWarning: MeasureMergedCoaddSourcesConnections.defaultTemplates is deprecated and no longer used. Use MeasureMergedCoaddSourcesConfig.inputCatalog.\n",
      "  warnings.warn(\"MeasureMergedCoaddSourcesConnections.defaultTemplates is deprecated and no longer used. \"\n"
     ]
    },
    {
     "name": "stdout",
     "output_type": "stream",
     "text": [
      "CPU times: user 647 ms, sys: 49.9 ms, total: 697 ms\n",
      "Wall time: 1.11 s\n"
     ]
    }
   ],
   "source": [
    "%%time\n",
    "spe = SimplePipelineExecutor.from_pipeline(myDetectionPipeline, \n",
    "                                           where=queryString, \n",
    "                                           butler=simpleButler)"
   ]
  },
  {
   "cell_type": "code",
   "execution_count": 20,
   "id": "57f1301e-0f5f-48ff-9744-d232af8386fb",
   "metadata": {},
   "outputs": [
    {
     "name": "stdout",
     "output_type": "stream",
     "text": [
      "[QuantumNode(quantum=Quantum(taskName=lsst.pipe.tasks.multiBand.DetectCoaddSourcesTask, dataId={band: 'i', skymap: 'DC2', tract: 4431, patch: 17}), taskDef=TaskDef(lsst.pipe.tasks.multiBand.DetectCoaddSourcesTask, label=detection), nodeId=441d8a83-fbac-41f0-8dee-8d61f4a6e6d4)]\n"
     ]
    },
    {
     "data": {
      "text/plain": [
       "1"
      ]
     },
     "execution_count": 20,
     "metadata": {},
     "output_type": "execute_result"
    }
   ],
   "source": [
    "print(spe.quantum_graph.outputQuanta)\n",
    "len(spe.quantum_graph.outputQuanta)"
   ]
  },
  {
   "cell_type": "code",
   "execution_count": 21,
   "id": "7e15233b-9d9a-4368-8680-a0236a1ff8d1",
   "metadata": {},
   "outputs": [
    {
     "data": {
      "text/html": [
       "<pre style=\"margin: 0.1em;\n",
       "padding-left: 0.25em;\n",
       "border-left-style: solid;\n",
       "font-family: var(--jp-code-font-family);\n",
       "font-size: var(--jp-code-font-size);\n",
       "line-height: var(--jp-code-line-height);\n",
       "\"><span style=\"color: var(--jp-warn-color2)\">lsst.detection.scaleVariance</span> <span style=\"color: var(--jp-info-color0)\">INFO</span>: Renormalizing variance by 1.004598</pre>"
      ],
      "text/plain": [
       "<IPython.core.display.HTML object>"
      ]
     },
     "metadata": {},
     "output_type": "display_data"
    },
    {
     "data": {
      "text/html": [
       "<pre style=\"margin: 0.1em;\n",
       "padding-left: 0.25em;\n",
       "border-left-style: solid;\n",
       "font-family: var(--jp-code-font-family);\n",
       "font-size: var(--jp-code-font-size);\n",
       "line-height: var(--jp-code-line-height);\n",
       "\"><span style=\"color: var(--jp-warn-color2)\">lsst.detection.detection</span> <span style=\"color: var(--jp-info-color0)\">INFO</span>: Applying temporary wide background subtraction</pre>"
      ],
      "text/plain": [
       "<IPython.core.display.HTML object>"
      ]
     },
     "metadata": {},
     "output_type": "display_data"
    },
    {
     "data": {
      "text/html": [
       "<pre style=\"margin: 0.1em;\n",
       "padding-left: 0.25em;\n",
       "border-left-style: solid;\n",
       "font-family: var(--jp-code-font-family);\n",
       "font-size: var(--jp-code-font-size);\n",
       "line-height: var(--jp-code-line-height);\n",
       "\"><span style=\"color: var(--jp-warn-color2)\">lsst.detection.detection</span> <span style=\"color: var(--jp-info-color0)\">INFO</span>: Detected 4778 positive peaks in 3570 footprints to 5 sigma</pre>"
      ],
      "text/plain": [
       "<IPython.core.display.HTML object>"
      ]
     },
     "metadata": {},
     "output_type": "display_data"
    },
    {
     "data": {
      "text/html": [
       "<pre style=\"margin: 0.1em;\n",
       "padding-left: 0.25em;\n",
       "border-left-style: solid;\n",
       "font-family: var(--jp-code-font-family);\n",
       "font-size: var(--jp-code-font-size);\n",
       "line-height: var(--jp-code-line-height);\n",
       "\"><span style=\"color: var(--jp-warn-color2)\">lsst.detection.detection.skyObjects</span> <span style=\"color: var(--jp-info-color0)\">INFO</span>: Added 1000 of 1000 requested sky sources (100%)</pre>"
      ],
      "text/plain": [
       "<IPython.core.display.HTML object>"
      ]
     },
     "metadata": {},
     "output_type": "display_data"
    },
    {
     "data": {
      "text/html": [
       "<pre style=\"margin: 0.1em;\n",
       "padding-left: 0.25em;\n",
       "border-left-style: solid;\n",
       "font-family: var(--jp-code-font-family);\n",
       "font-size: var(--jp-code-font-size);\n",
       "line-height: var(--jp-code-line-height);\n",
       "\"><span style=\"color: var(--jp-warn-color2)\">lsst.detection.detection.skyMeasurement</span> <span style=\"color: var(--jp-info-color0)\">INFO</span>: Performing forced measurement on 1000 sources</pre>"
      ],
      "text/plain": [
       "<IPython.core.display.HTML object>"
      ]
     },
     "metadata": {},
     "output_type": "display_data"
    },
    {
     "data": {
      "text/html": [
       "<pre style=\"margin: 0.1em;\n",
       "padding-left: 0.25em;\n",
       "border-left-style: solid;\n",
       "font-family: var(--jp-code-font-family);\n",
       "font-size: var(--jp-code-font-size);\n",
       "line-height: var(--jp-code-line-height);\n",
       "\"><span style=\"color: var(--jp-warn-color2)\">lsst.detection.detection</span> <span style=\"color: var(--jp-info-color0)\">INFO</span>: Modifying configured detection threshold by factor 0.767935 to 7.679347</pre>"
      ],
      "text/plain": [
       "<IPython.core.display.HTML object>"
      ]
     },
     "metadata": {},
     "output_type": "display_data"
    },
    {
     "data": {
      "text/html": [
       "<pre style=\"margin: 0.1em;\n",
       "padding-left: 0.25em;\n",
       "border-left-style: solid;\n",
       "font-family: var(--jp-code-font-family);\n",
       "font-size: var(--jp-code-font-size);\n",
       "line-height: var(--jp-code-line-height);\n",
       "\"><span style=\"color: var(--jp-warn-color2)\">lsst.detection.detection</span> <span style=\"color: var(--jp-info-color0)\">INFO</span>: Detected 2934 positive peaks in 2569 footprints to 7.67935 sigma</pre>"
      ],
      "text/plain": [
       "<IPython.core.display.HTML object>"
      ]
     },
     "metadata": {},
     "output_type": "display_data"
    },
    {
     "data": {
      "text/html": [
       "<pre style=\"margin: 0.1em;\n",
       "padding-left: 0.25em;\n",
       "border-left-style: solid;\n",
       "font-family: var(--jp-code-font-family);\n",
       "font-size: var(--jp-code-font-size);\n",
       "line-height: var(--jp-code-line-height);\n",
       "\"><span style=\"color: var(--jp-warn-color2)\">lsst.detection.detection</span> <span style=\"color: var(--jp-info-color0)\">INFO</span>: Detected 3393 positive peaks in 2678 footprints to 7.67935 sigma</pre>"
      ],
      "text/plain": [
       "<IPython.core.display.HTML object>"
      ]
     },
     "metadata": {},
     "output_type": "display_data"
    },
    {
     "data": {
      "text/html": [
       "<pre style=\"margin: 0.1em;\n",
       "padding-left: 0.25em;\n",
       "border-left-style: solid;\n",
       "font-family: var(--jp-code-font-family);\n",
       "font-size: var(--jp-code-font-size);\n",
       "line-height: var(--jp-code-line-height);\n",
       "\"><span style=\"color: var(--jp-warn-color2)\">lsst.detection.detection.skyObjects</span> <span style=\"color: var(--jp-info-color0)\">INFO</span>: Added 1000 of 1000 requested sky sources (100%)</pre>"
      ],
      "text/plain": [
       "<IPython.core.display.HTML object>"
      ]
     },
     "metadata": {},
     "output_type": "display_data"
    },
    {
     "data": {
      "text/html": [
       "<pre style=\"margin: 0.1em;\n",
       "padding-left: 0.25em;\n",
       "border-left-style: solid;\n",
       "font-family: var(--jp-code-font-family);\n",
       "font-size: var(--jp-code-font-size);\n",
       "line-height: var(--jp-code-line-height);\n",
       "\"><span style=\"color: var(--jp-warn-color2)\">lsst.detection.detection.skyMeasurement</span> <span style=\"color: var(--jp-info-color0)\">INFO</span>: Performing forced measurement on 1000 sources</pre>"
      ],
      "text/plain": [
       "<IPython.core.display.HTML object>"
      ]
     },
     "metadata": {},
     "output_type": "display_data"
    },
    {
     "data": {
      "text/html": [
       "<pre style=\"margin: 0.1em;\n",
       "padding-left: 0.25em;\n",
       "border-left-style: solid;\n",
       "font-family: var(--jp-code-font-family);\n",
       "font-size: var(--jp-code-font-size);\n",
       "line-height: var(--jp-code-line-height);\n",
       "\"><span style=\"color: var(--jp-warn-color2)\">lsst.detection.detection</span> <span style=\"color: var(--jp-info-color0)\">INFO</span>: Tweaking background by -0.004311 to match sky photometry</pre>"
      ],
      "text/plain": [
       "<IPython.core.display.HTML object>"
      ]
     },
     "metadata": {},
     "output_type": "display_data"
    },
    {
     "data": {
      "text/html": [
       "<pre style=\"margin: 0.1em;\n",
       "padding-left: 0.25em;\n",
       "border-left-style: solid;\n",
       "font-family: var(--jp-code-font-family);\n",
       "font-size: var(--jp-code-font-size);\n",
       "line-height: var(--jp-code-line-height);\n",
       "\"><span style=\"color: var(--jp-warn-color2)\">lsst.ctrl.mpexec.singleQuantumExecutor</span> <span style=\"color: var(--jp-info-color0)\">INFO</span>: Execution of task &#x27;detection&#x27; on quantum {band: &#x27;i&#x27;, skymap: &#x27;DC2&#x27;, tract: 4431, patch: 17} took 42.803 seconds</pre>"
      ],
      "text/plain": [
       "<IPython.core.display.HTML object>"
      ]
     },
     "metadata": {},
     "output_type": "display_data"
    },
    {
     "data": {
      "text/html": [
       "<pre style=\"margin: 0.1em;\n",
       "padding-left: 0.25em;\n",
       "border-left-style: solid;\n",
       "font-family: var(--jp-code-font-family);\n",
       "font-size: var(--jp-code-font-size);\n",
       "line-height: var(--jp-code-line-height);\n",
       "\"><span style=\"color: var(--jp-warn-color2)\">lsst.ctrl.mpexec.singleQuantumExecutor</span> <span style=\"color: var(--jp-info-color0)\">INFO</span>: Log records could not be stored in this butler because the datastore can not ingest files, empty record list is stored instead.</pre>"
      ],
      "text/plain": [
       "<IPython.core.display.HTML object>"
      ]
     },
     "metadata": {},
     "output_type": "display_data"
    },
    {
     "name": "stdout",
     "output_type": "stream",
     "text": [
      "CPU times: user 52.4 s, sys: 3.36 s, total: 55.8 s\n",
      "Wall time: 58.8 s\n"
     ]
    }
   ],
   "source": [
    "%%time\n",
    "quanta = spe.run()"
   ]
  },
  {
   "cell_type": "code",
   "execution_count": 22,
   "id": "112c3bf2-f8ae-46dd-a8d3-383a44b5c038",
   "metadata": {},
   "outputs": [
    {
     "name": "stdout",
     "output_type": "stream",
     "text": [
      "0 lsst.pipe.tasks.multiBand.DetectCoaddSourcesTask\n"
     ]
    }
   ],
   "source": [
    "for q, quantum in enumerate(quanta):\n",
    "    print(q, quantum.taskName)"
   ]
  },
  {
   "cell_type": "code",
   "execution_count": 24,
   "id": "bc8185f5-d52c-4035-b8bc-c9e4b182062a",
   "metadata": {},
   "outputs": [
    {
     "name": "stdout",
     "output_type": "stream",
     "text": [
      "DatasetType('detection_log', {band, skymap, tract, patch}, ButlerLogRecords)\n",
      "DatasetType('deepCoadd_det', {band, skymap, tract, patch}, SourceCatalog)\n",
      "DatasetType('detection_metadata', {band, skymap, tract, patch}, PropertySet)\n",
      "DatasetType('deepCoadd_calexp', {band, skymap, tract, patch}, ExposureF)\n",
      "DatasetType('deepCoadd_calexp_background', {band, skymap, tract, patch}, Background)\n"
     ]
    }
   ],
   "source": [
    "index = 0\n",
    "for output in quanta[0].outputs:\n",
    "    print(output)"
   ]
  },
  {
   "cell_type": "code",
   "execution_count": 69,
   "id": "f1329680-5c24-478b-a63f-977f7c1391e1",
   "metadata": {},
   "outputs": [],
   "source": [
    "#del butler\n",
    "butler = Butler('dp02', collections=['u/ameisner/nb9a_spe'])"
   ]
  },
  {
   "cell_type": "code",
   "execution_count": 71,
   "id": "d2b32d91-62bf-4950-aa95-665868460504",
   "metadata": {},
   "outputs": [],
   "source": [
    "my_new_deepCoadd_calexp = simpleButler.get(quanta[index].outputs['deepCoadd_calexp'][0])\n"
   ]
  }
 ],
 "metadata": {
  "kernelspec": {
   "display_name": "LSST",
   "language": "python",
   "name": "lsst"
  },
  "language_info": {
   "codemirror_mode": {
    "name": "ipython",
    "version": 3
   },
   "file_extension": ".py",
   "mimetype": "text/x-python",
   "name": "python",
   "nbconvert_exporter": "python",
   "pygments_lexer": "ipython3",
   "version": "3.10.5"
  }
 },
 "nbformat": 4,
 "nbformat_minor": 5
}
