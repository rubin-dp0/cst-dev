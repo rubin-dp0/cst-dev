{
 "cells": [
  {
   "cell_type": "code",
   "execution_count": 1,
   "id": "cc49dcbf-63c1-4b2b-9d01-cc61ba2de637",
   "metadata": {
    "execution": {
     "iopub.execute_input": "2023-08-26T08:22:17.255343Z",
     "iopub.status.busy": "2023-08-26T08:22:17.255133Z",
     "iopub.status.idle": "2023-08-26T08:22:17.321154Z",
     "shell.execute_reply": "2023-08-26T08:22:17.320459Z",
     "shell.execute_reply.started": "2023-08-26T08:22:17.255319Z"
    },
    "tags": []
   },
   "outputs": [],
   "source": [
    "import scipy\n",
    "import numpy as np"
   ]
  },
  {
   "cell_type": "code",
   "execution_count": 2,
   "id": "72b0db7d-44f6-40cc-bc83-e7b8496c5ad4",
   "metadata": {
    "execution": {
     "iopub.execute_input": "2023-08-26T08:22:17.324334Z",
     "iopub.status.busy": "2023-08-26T08:22:17.324011Z",
     "iopub.status.idle": "2023-08-26T08:22:17.327337Z",
     "shell.execute_reply": "2023-08-26T08:22:17.326784Z",
     "shell.execute_reply.started": "2023-08-26T08:22:17.324314Z"
    },
    "tags": []
   },
   "outputs": [],
   "source": [
    "s = 5.0\n"
   ]
  },
  {
   "cell_type": "code",
   "execution_count": 3,
   "id": "1f7befb6-0734-4cae-9cb8-2c49c2f4724b",
   "metadata": {
    "execution": {
     "iopub.execute_input": "2023-08-26T08:22:17.330505Z",
     "iopub.status.busy": "2023-08-26T08:22:17.330100Z",
     "iopub.status.idle": "2023-08-26T08:22:17.340245Z",
     "shell.execute_reply": "2023-08-26T08:22:17.339557Z",
     "shell.execute_reply.started": "2023-08-26T08:22:17.330483Z"
    },
    "tags": []
   },
   "outputs": [],
   "source": [
    "n = 10000"
   ]
  },
  {
   "cell_type": "code",
   "execution_count": 4,
   "id": "85843f01-1a63-4e15-8a86-9e941e90b0b8",
   "metadata": {
    "execution": {
     "iopub.execute_input": "2023-08-26T08:22:17.343536Z",
     "iopub.status.busy": "2023-08-26T08:22:17.342872Z",
     "iopub.status.idle": "2023-08-26T08:22:17.352743Z",
     "shell.execute_reply": "2023-08-26T08:22:17.352144Z",
     "shell.execute_reply.started": "2023-08-26T08:22:17.343514Z"
    },
    "tags": []
   },
   "outputs": [],
   "source": [
    "mean = 0.0\n",
    "std = 1.0\n",
    "flux = np.random.normal(mean, std, n)"
   ]
  },
  {
   "cell_type": "code",
   "execution_count": 5,
   "id": "5752223b-1d50-4ae3-b513-c7ddcd3f1370",
   "metadata": {
    "execution": {
     "iopub.execute_input": "2023-08-26T08:22:17.355456Z",
     "iopub.status.busy": "2023-08-26T08:22:17.355247Z",
     "iopub.status.idle": "2023-08-26T08:22:17.368339Z",
     "shell.execute_reply": "2023-08-26T08:22:17.367705Z",
     "shell.execute_reply.started": "2023-08-26T08:22:17.355437Z"
    },
    "tags": []
   },
   "outputs": [
    {
     "data": {
      "text/plain": [
       "1.0079156599266927"
      ]
     },
     "execution_count": 5,
     "metadata": {},
     "output_type": "execute_result"
    }
   ],
   "source": [
    "np.std(flux)"
   ]
  },
  {
   "cell_type": "code",
   "execution_count": 6,
   "id": "31d585d8-6a2c-44eb-a74c-1ae9b5c67c65",
   "metadata": {
    "execution": {
     "iopub.execute_input": "2023-08-26T08:22:17.369574Z",
     "iopub.status.busy": "2023-08-26T08:22:17.369123Z",
     "iopub.status.idle": "2023-08-26T08:22:17.498382Z",
     "shell.execute_reply": "2023-08-26T08:22:17.497687Z",
     "shell.execute_reply.started": "2023-08-26T08:22:17.369554Z"
    },
    "tags": []
   },
   "outputs": [],
   "source": [
    "smth = scipy.ndimage.gaussian_filter1d(flux, s)"
   ]
  },
  {
   "cell_type": "code",
   "execution_count": 7,
   "id": "f256f15f-f544-48aa-bec7-947d294c8c2f",
   "metadata": {
    "execution": {
     "iopub.execute_input": "2023-08-26T08:22:17.499740Z",
     "iopub.status.busy": "2023-08-26T08:22:17.499462Z",
     "iopub.status.idle": "2023-08-26T08:22:17.504275Z",
     "shell.execute_reply": "2023-08-26T08:22:17.503640Z",
     "shell.execute_reply.started": "2023-08-26T08:22:17.499712Z"
    },
    "tags": []
   },
   "outputs": [
    {
     "name": "stdout",
     "output_type": "stream",
     "text": [
      "1.0079156599266927\n",
      "0.24741289170500833\n"
     ]
    }
   ],
   "source": [
    "print(np.std(flux))\n",
    "print(np.std(smth))"
   ]
  },
  {
   "cell_type": "code",
   "execution_count": null,
   "id": "04b3b5b4-b808-4ae6-add0-1d847f197da4",
   "metadata": {},
   "outputs": [],
   "source": []
  }
 ],
 "metadata": {
  "kernelspec": {
   "display_name": "LSST",
   "language": "python",
   "name": "lsst"
  },
  "language_info": {
   "codemirror_mode": {
    "name": "ipython",
    "version": 3
   },
   "file_extension": ".py",
   "mimetype": "text/x-python",
   "name": "python",
   "nbconvert_exporter": "python",
   "pygments_lexer": "ipython3",
   "version": "3.10.10"
  }
 },
 "nbformat": 4,
 "nbformat_minor": 5
}
