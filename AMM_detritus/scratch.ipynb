{
 "cells": [
  {
   "cell_type": "code",
   "execution_count": 1,
   "id": "8a19966e-48e9-40fd-96bf-dd0ae01d8f15",
   "metadata": {
    "execution": {
     "iopub.execute_input": "2023-04-23T02:54:07.582980Z",
     "iopub.status.busy": "2023-04-23T02:54:07.582146Z",
     "iopub.status.idle": "2023-04-23T02:54:08.039661Z",
     "shell.execute_reply": "2023-04-23T02:54:08.038757Z",
     "shell.execute_reply.started": "2023-04-23T02:54:07.582951Z"
    }
   },
   "outputs": [
    {
     "name": "stdout",
     "output_type": "stream",
     "text": [
      "Recommended (Weekly 2023_07)\n"
     ]
    }
   ],
   "source": [
    "! echo $IMAGE_DESCRIPTION"
   ]
  },
  {
   "cell_type": "code",
   "execution_count": 2,
   "id": "2c2ba9c5-8038-4769-b01f-11f1dd3df34b",
   "metadata": {
    "execution": {
     "iopub.execute_input": "2023-04-23T02:54:22.759558Z",
     "iopub.status.busy": "2023-04-23T02:54:22.758886Z",
     "iopub.status.idle": "2023-04-23T02:54:23.680958Z",
     "shell.execute_reply": "2023-04-23T02:54:23.680002Z",
     "shell.execute_reply.started": "2023-04-23T02:54:22.759526Z"
    }
   },
   "outputs": [
    {
     "name": "stdout",
     "output_type": "stream",
     "text": [
      "lsst_distrib          gdf42428520+759eb90f97 \tcurrent w_2023_07 setup\n"
     ]
    }
   ],
   "source": [
    " ! eups list -s | grep lsst_distrib"
   ]
  },
  {
   "cell_type": "code",
   "execution_count": 3,
   "id": "6dda55b1-b948-4b49-9799-da10382ddf18",
   "metadata": {
    "execution": {
     "iopub.execute_input": "2023-04-23T02:54:35.956011Z",
     "iopub.status.busy": "2023-04-23T02:54:35.955173Z",
     "iopub.status.idle": "2023-04-23T02:54:36.760334Z",
     "shell.execute_reply": "2023-04-23T02:54:36.759323Z",
     "shell.execute_reply.started": "2023-04-23T02:54:35.955982Z"
    }
   },
   "outputs": [
    {
     "name": "stdout",
     "output_type": "stream",
     "text": [
      "   gdf42428520+759eb90f97 \tcurrent w_2023_07 setup\n"
     ]
    }
   ],
   "source": [
    " ! eups list lsst_distrib"
   ]
  },
  {
   "cell_type": "code",
   "execution_count": null,
   "id": "cbd61858-54cc-414e-9550-1711dd807c37",
   "metadata": {},
   "outputs": [],
   "source": []
  }
 ],
 "metadata": {
  "kernelspec": {
   "display_name": "LSST",
   "language": "python",
   "name": "lsst"
  },
  "language_info": {
   "codemirror_mode": {
    "name": "ipython",
    "version": 3
   },
   "file_extension": ".py",
   "mimetype": "text/x-python",
   "name": "python",
   "nbconvert_exporter": "python",
   "pygments_lexer": "ipython3",
   "version": "3.10.9"
  }
 },
 "nbformat": 4,
 "nbformat_minor": 5
}
