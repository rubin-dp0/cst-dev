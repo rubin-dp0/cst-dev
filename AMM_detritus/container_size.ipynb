{
 "cells": [
  {
   "cell_type": "code",
   "execution_count": 1,
   "id": "d3d3b831-813d-4ac2-8c92-aa38ba1ca350",
   "metadata": {},
   "outputs": [],
   "source": [
    "import os"
   ]
  },
  {
   "cell_type": "code",
   "execution_count": 2,
   "id": "48ea0d26-a351-45c1-b2eb-2d050080e0d2",
   "metadata": {},
   "outputs": [],
   "source": [
    "def rsp_container_size():\n",
    "    n_cpu = int(float(os.environ['CPU_LIMIT']))\n",
    "    \n",
    "    cpus_to_size = {1: 'small', 2: 'medium', 4: 'large'}\n",
    "    \n",
    "    assert(n_cpu in cpus_to_size.keys())\n",
    "    \n",
    "    return cpus_to_size[n_cpu]"
   ]
  },
  {
   "cell_type": "code",
   "execution_count": 3,
   "id": "600cf443-2c66-48b2-a9e3-eb5b1c6ac122",
   "metadata": {},
   "outputs": [
    {
     "name": "stdout",
     "output_type": "stream",
     "text": [
      "large\n"
     ]
    }
   ],
   "source": [
    "print(rsp_container_size())"
   ]
  }
 ],
 "metadata": {
  "kernelspec": {
   "display_name": "LSST",
   "language": "python",
   "name": "lsst"
  },
  "language_info": {
   "codemirror_mode": {
    "name": "ipython",
    "version": 3
   },
   "file_extension": ".py",
   "mimetype": "text/x-python",
   "name": "python",
   "nbconvert_exporter": "python",
   "pygments_lexer": "ipython3",
   "version": "3.10.5"
  }
 },
 "nbformat": 4,
 "nbformat_minor": 5
}
