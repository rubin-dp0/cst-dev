{
 "cells": [
  {
   "cell_type": "code",
   "execution_count": 1,
   "id": "dae373b6-671d-400a-a02f-26d2d60b73e8",
   "metadata": {
    "execution": {
     "iopub.execute_input": "2023-04-21T20:16:45.959010Z",
     "iopub.status.busy": "2023-04-21T20:16:45.958707Z",
     "iopub.status.idle": "2023-04-21T20:16:45.962352Z",
     "shell.execute_reply": "2023-04-21T20:16:45.961740Z",
     "shell.execute_reply.started": "2023-04-21T20:16:45.958989Z"
    }
   },
   "outputs": [],
   "source": [
    "import pyvo\n",
    "\n",
    "tap = pyvo.dal.TAPService('https://datalab.noirlab.edu/tap')"
   ]
  },
  {
   "cell_type": "code",
   "execution_count": 7,
   "id": "2d4ccb73-1bf6-4c80-ad05-2bd7ebebb2c1",
   "metadata": {
    "execution": {
     "iopub.execute_input": "2023-04-21T20:18:00.655742Z",
     "iopub.status.busy": "2023-04-21T20:18:00.655375Z",
     "iopub.status.idle": "2023-04-21T20:18:00.659651Z",
     "shell.execute_reply": "2023-04-21T20:18:00.658877Z",
     "shell.execute_reply.started": "2023-04-21T20:18:00.655716Z"
    },
    "tags": []
   },
   "outputs": [],
   "source": [
    "query = \"SELECT TOP 100 ra, dec FROM gaia_edr3.gaia_source WHERE 't' = Q3C_RADIAL_QUERY(ra, dec,13.15,-72.8,0.1)\""
   ]
  },
  {
   "cell_type": "code",
   "execution_count": 8,
   "id": "9f1682bb-6f6e-451b-acc3-8b14153b1f3c",
   "metadata": {
    "execution": {
     "iopub.execute_input": "2023-04-21T20:18:02.541105Z",
     "iopub.status.busy": "2023-04-21T20:18:02.540151Z",
     "iopub.status.idle": "2023-04-21T20:18:02.545503Z",
     "shell.execute_reply": "2023-04-21T20:18:02.544625Z",
     "shell.execute_reply.started": "2023-04-21T20:18:02.541071Z"
    },
    "tags": []
   },
   "outputs": [
    {
     "data": {
      "text/plain": [
       "\"SELECT TOP 100 ra, dec FROM gaia_edr3.gaia_source WHERE 't' = Q3C_RADIAL_QUERY(ra, dec,13.15,-72.8,0.1)\""
      ]
     },
     "execution_count": 8,
     "metadata": {},
     "output_type": "execute_result"
    }
   ],
   "source": [
    "query"
   ]
  },
  {
   "cell_type": "code",
   "execution_count": 9,
   "id": "049a7a86-8872-45bb-aa86-6d66bc5630d4",
   "metadata": {
    "execution": {
     "iopub.execute_input": "2023-04-21T20:18:06.444463Z",
     "iopub.status.busy": "2023-04-21T20:18:06.443537Z",
     "iopub.status.idle": "2023-04-21T20:18:07.169112Z",
     "shell.execute_reply": "2023-04-21T20:18:07.168362Z",
     "shell.execute_reply.started": "2023-04-21T20:18:06.444428Z"
    },
    "tags": []
   },
   "outputs": [],
   "source": [
    "data = tap.run_sync(query)"
   ]
  },
  {
   "cell_type": "code",
   "execution_count": 10,
   "id": "334501f2-ae79-43f4-9d3c-82c54b111686",
   "metadata": {
    "execution": {
     "iopub.execute_input": "2023-04-21T20:18:11.722003Z",
     "iopub.status.busy": "2023-04-21T20:18:11.721272Z",
     "iopub.status.idle": "2023-04-21T20:18:11.725726Z",
     "shell.execute_reply": "2023-04-21T20:18:11.725166Z",
     "shell.execute_reply.started": "2023-04-21T20:18:11.721975Z"
    }
   },
   "outputs": [
    {
     "data": {
      "text/plain": [
       "100"
      ]
     },
     "execution_count": 10,
     "metadata": {},
     "output_type": "execute_result"
    }
   ],
   "source": [
    "len(data)"
   ]
  },
  {
   "cell_type": "code",
   "execution_count": 11,
   "id": "53230f3a-358a-414b-85cd-fd452aa4e670",
   "metadata": {
    "execution": {
     "iopub.execute_input": "2023-04-21T20:19:10.370932Z",
     "iopub.status.busy": "2023-04-21T20:19:10.370093Z",
     "iopub.status.idle": "2023-04-21T20:19:10.377057Z",
     "shell.execute_reply": "2023-04-21T20:19:10.376388Z",
     "shell.execute_reply.started": "2023-04-21T20:19:10.370901Z"
    }
   },
   "outputs": [
    {
     "data": {
      "text/plain": [
       "<Table length=100>\n",
       "        ra                dec        \n",
       "     float64            float64      \n",
       "------------------ ------------------\n",
       "13.066283653245613 -72.89637346421661\n",
       "13.056091977577816  -72.8960155827319\n",
       "13.050480484778562 -72.89558066055145\n",
       "13.050462122585719 -72.89529884943643\n",
       "13.044397554487947 -72.89456730009186\n",
       "13.047651622474609 -72.89484486779632\n",
       "13.053281419124378 -72.89497846426396\n",
       " 13.06266608898605  -72.8963993038663\n",
       "13.060699777514797  -72.8962129876881\n",
       "13.062354631927226 -72.89558327271887\n",
       "               ...                ...\n",
       "13.110772308246792 -72.89665649944767\n",
       "13.110090007362082 -72.89626380328332\n",
       "13.112658498644276 -72.89630454866698\n",
       " 13.10489339637486 -72.89503296757651\n",
       "13.106475103737408 -72.89518906354036\n",
       "13.107349661915839  -72.8943272049182\n",
       "13.092137250501745 -72.89452518829889\n",
       "13.095981222344074 -72.89434730376951\n",
       " 13.09515513885583 -72.89387594385586\n",
       "13.090719981777777  -72.8936927582081"
      ]
     },
     "execution_count": 11,
     "metadata": {},
     "output_type": "execute_result"
    }
   ],
   "source": [
    "data"
   ]
  },
  {
   "cell_type": "code",
   "execution_count": null,
   "id": "36b43075-49a3-4d70-9ddb-6c841d1e43ba",
   "metadata": {},
   "outputs": [],
   "source": []
  }
 ],
 "metadata": {
  "kernelspec": {
   "display_name": "LSST",
   "language": "python",
   "name": "lsst"
  },
  "language_info": {
   "codemirror_mode": {
    "name": "ipython",
    "version": 3
   },
   "file_extension": ".py",
   "mimetype": "text/x-python",
   "name": "python",
   "nbconvert_exporter": "python",
   "pygments_lexer": "ipython3",
   "version": "3.10.9"
  }
 },
 "nbformat": 4,
 "nbformat_minor": 5
}
