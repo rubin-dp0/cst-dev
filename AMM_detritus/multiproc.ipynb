{
 "cells": [
  {
   "cell_type": "code",
   "execution_count": 1,
   "id": "d38b7b85-5cac-4423-b376-c3623caae2fa",
   "metadata": {
    "execution": {
     "iopub.execute_input": "2023-07-14T03:53:21.215115Z",
     "iopub.status.busy": "2023-07-14T03:53:21.214848Z",
     "iopub.status.idle": "2023-07-14T03:53:21.218362Z",
     "shell.execute_reply": "2023-07-14T03:53:21.217641Z",
     "shell.execute_reply.started": "2023-07-14T03:53:21.215095Z"
    },
    "tags": []
   },
   "outputs": [],
   "source": [
    "from multiprocessing import Pool\n",
    "import numpy as np"
   ]
  },
  {
   "cell_type": "code",
   "execution_count": 2,
   "id": "857071b9-a431-4d40-82ad-6e50ca112031",
   "metadata": {
    "execution": {
     "iopub.execute_input": "2023-07-14T03:53:22.145300Z",
     "iopub.status.busy": "2023-07-14T03:53:22.144954Z",
     "iopub.status.idle": "2023-07-14T03:53:22.164438Z",
     "shell.execute_reply": "2023-07-14T03:53:22.163575Z",
     "shell.execute_reply.started": "2023-07-14T03:53:22.145276Z"
    },
    "tags": []
   },
   "outputs": [],
   "source": [
    "nworker = 4\n",
    "n = 1000000\n",
    "rng = np.random.default_rng()\n",
    "arr = rng.standard_normal(n)"
   ]
  },
  {
   "cell_type": "code",
   "execution_count": 3,
   "id": "ec6c8072-d871-4de0-a37b-53d3bb4bf401",
   "metadata": {
    "execution": {
     "iopub.execute_input": "2023-07-14T03:53:24.863248Z",
     "iopub.status.busy": "2023-07-14T03:53:24.862903Z",
     "iopub.status.idle": "2023-07-14T03:53:34.848738Z",
     "shell.execute_reply": "2023-07-14T03:53:34.847758Z",
     "shell.execute_reply.started": "2023-07-14T03:53:24.863224Z"
    },
    "tags": []
   },
   "outputs": [],
   "source": [
    "p =  Pool(nworker)\n",
    "results = p.map(np.argsort, [arr]*200)\n",
    "p.close()\n",
    "p.join()"
   ]
  },
  {
   "cell_type": "code",
   "execution_count": null,
   "id": "1bcfb0f2-c835-438a-ad0d-0411f422e5d4",
   "metadata": {},
   "outputs": [],
   "source": []
  }
 ],
 "metadata": {
  "kernelspec": {
   "display_name": "LSST",
   "language": "python",
   "name": "lsst"
  },
  "language_info": {
   "codemirror_mode": {
    "name": "ipython",
    "version": 3
   },
   "file_extension": ".py",
   "mimetype": "text/x-python",
   "name": "python",
   "nbconvert_exporter": "python",
   "pygments_lexer": "ipython3",
   "version": "3.10.10"
  }
 },
 "nbformat": 4,
 "nbformat_minor": 5
}
