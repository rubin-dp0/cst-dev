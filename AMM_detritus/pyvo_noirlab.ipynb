{
 "cells": [
  {
   "cell_type": "code",
   "execution_count": 1,
   "id": "2f2b2b5b-bf48-4918-af72-c59ff341d347",
   "metadata": {},
   "outputs": [],
   "source": [
    "import pyvo"
   ]
  },
  {
   "cell_type": "code",
   "execution_count": 2,
   "id": "6caf9831-9685-4b87-a0d1-176a1e7030ea",
   "metadata": {},
   "outputs": [],
   "source": [
    "tap = pyvo.dal.TAPService('https://datalab.noirlab.edu/tap')"
   ]
  },
  {
   "cell_type": "code",
   "execution_count": 3,
   "id": "21a388af-f938-4eb1-8bb9-45faabbc320e",
   "metadata": {},
   "outputs": [],
   "source": [
    "data = tap.run_sync('select * from gaia_edr3.gaia_source limit 10')"
   ]
  },
  {
   "cell_type": "code",
   "execution_count": 4,
   "id": "62a849ed-0c8b-46ed-beec-b695de9b19b1",
   "metadata": {},
   "outputs": [
    {
     "name": "stdout",
     "output_type": "stream",
     "text": [
      "10\n"
     ]
    }
   ],
   "source": [
    "print(len(data))"
   ]
  },
  {
   "cell_type": "code",
   "execution_count": 5,
   "id": "b80161fd-e134-4a92-be57-06fea679eff5",
   "metadata": {},
   "outputs": [
    {
     "data": {
      "text/plain": [
       "<Table length=10>\n",
       "    solution_id          source_id      ...          designation         \n",
       "       int64               int64        ...             str29            \n",
       "------------------- ------------------- ... -----------------------------\n",
       "1636042515805110273 1866715214899476096 ... Gaia EDR3 1866715214899476096\n",
       "1636042515805110273 1866715214893234560 ... Gaia EDR3 1866715214893234560\n",
       "1636042515805110273 1866715214893252736 ... Gaia EDR3 1866715214893252736\n",
       "1636042515805110273 1866715214898729600 ... Gaia EDR3 1866715214898729600\n",
       "1636042515805110273 1866715421051686912 ... Gaia EDR3 1866715421051686912\n",
       "1636042515805110273 1866715421057162496 ... Gaia EDR3 1866715421057162496\n",
       "1636042515805110273 1866715214893245824 ... Gaia EDR3 1866715214893245824\n",
       "1636042515805110273 1866715210593469824 ... Gaia EDR3 1866715210593469824\n",
       "1636042515805110273 1866715317977941120 ... Gaia EDR3 1866715317977941120\n",
       "1636042515805110273 1866715313675090432 ... Gaia EDR3 1866715313675090432"
      ]
     },
     "execution_count": 5,
     "metadata": {},
     "output_type": "execute_result"
    }
   ],
   "source": [
    "data"
   ]
  },
  {
   "cell_type": "code",
   "execution_count": 6,
   "id": "2b72b251-0b78-4293-a897-c71f8c39f382",
   "metadata": {},
   "outputs": [
    {
     "data": {
      "text/plain": [
       "pyvo.dal.tap.TAPResults"
      ]
     },
     "execution_count": 6,
     "metadata": {},
     "output_type": "execute_result"
    }
   ],
   "source": [
    "type(data)"
   ]
  },
  {
   "cell_type": "code",
   "execution_count": 7,
   "id": "27f10d0f-ba6b-4444-b55b-7137b587462c",
   "metadata": {},
   "outputs": [],
   "source": [
    "foo = data.to_table()\n"
   ]
  },
  {
   "cell_type": "code",
   "execution_count": 8,
   "id": "fb542fbb-4672-4018-83dc-55d525d74d7d",
   "metadata": {},
   "outputs": [
    {
     "data": {
      "text/plain": [
       "astropy.table.table.Table"
      ]
     },
     "execution_count": 8,
     "metadata": {},
     "output_type": "execute_result"
    }
   ],
   "source": [
    "type(foo)"
   ]
  },
  {
   "cell_type": "code",
   "execution_count": 9,
   "id": "f8e748b8-eb84-4f2f-83ee-98319f26abe3",
   "metadata": {},
   "outputs": [
    {
     "data": {
      "text/html": [
       "<div><i>Table length=10</i>\n",
       "<table id=\"table140326345097520\" class=\"table-striped table-bordered table-condensed\">\n",
       "<thead><tr><th>solution_id</th><th>source_id</th><th>ra</th><th>ra_error</th><th>dec</th><th>dec_error</th><th>parallax</th><th>parallax_error</th><th>parallax_over_error</th><th>pm</th><th>pmra</th><th>pmra_error</th><th>pmdec</th><th>pmdec_error</th><th>ra_dec_corr</th><th>ra_parallax_corr</th><th>ra_pmra_corr</th><th>ra_pmdec_corr</th><th>dec_parallax_corr</th><th>dec_pmra_corr</th><th>dec_pmdec_corr</th><th>parallax_pmra_corr</th><th>parallax_pmdec_corr</th><th>pmra_pmdec_corr</th><th>astrometric_gof_al</th><th>astrometric_chi2_al</th><th>astrometric_excess_noise</th><th>astrometric_excess_noise_sig</th><th>nu_eff_used_in_astrometry</th><th>pseudocolour</th><th>pseudocolour_error</th><th>ra_pseudocolour_corr</th><th>dec_pseudocolour_corr</th><th>parallax_pseudocolour_corr</th><th>pmra_pseudocolour_corr</th><th>pmdec_pseudocolour_corr</th><th>astrometric_sigma5d_max</th><th>ipd_gof_harmonic_amplitude</th><th>ipd_gof_harmonic_phase</th><th>ruwe</th><th>scan_direction_strength_k1</th><th>scan_direction_strength_k2</th><th>scan_direction_strength_k3</th><th>scan_direction_strength_k4</th><th>scan_direction_mean_k1</th><th>scan_direction_mean_k2</th><th>scan_direction_mean_k3</th><th>scan_direction_mean_k4</th><th>phot_g_mean_flux</th><th>phot_g_mean_flux_error</th><th>phot_g_mean_flux_over_error</th><th>phot_g_mean_mag</th><th>phot_bp_mean_flux</th><th>phot_bp_mean_flux_error</th><th>phot_bp_mean_flux_over_error</th><th>phot_bp_mean_mag</th><th>phot_rp_mean_flux</th><th>phot_rp_mean_flux_error</th><th>phot_rp_mean_flux_over_error</th><th>phot_rp_mean_mag</th><th>phot_bp_rp_excess_factor</th><th>bp_rp</th><th>bp_g</th><th>g_rp</th><th>dr2_radial_velocity</th><th>dr2_radial_velocity_error</th><th>l</th><th>b</th><th>ecl_lon</th><th>ecl_lat</th><th>glon</th><th>glat</th><th>elon</th><th>elat</th><th>random_index</th><th>ref_epoch</th><th>dr2_rv_template_teff</th><th>dr2_rv_template_logg</th><th>dr2_rv_template_fe_h</th><th>htm9</th><th>ring256</th><th>nest4096</th><th>random_id</th><th>astrometric_n_obs_al</th><th>astrometric_n_obs_ac</th><th>astrometric_n_good_obs_al</th><th>astrometric_n_bad_obs_al</th><th>astrometric_params_solved</th><th>astrometric_primary_flag</th><th>astrometric_matched_transits</th><th>visibility_periods_used</th><th>matched_transits</th><th>new_matched_transits</th><th>matched_transits_removed</th><th>ipd_frac_multi_peak</th><th>ipd_frac_odd_win</th><th>duplicated_source</th><th>phot_g_n_obs</th><th>phot_bp_n_obs</th><th>phot_rp_n_obs</th><th>phot_bp_n_contaminated_transits</th><th>phot_bp_n_blended_transits</th><th>phot_rp_n_contaminated_transits</th><th>phot_rp_n_blended_transits</th><th>phot_proc_mode</th><th>dr2_rv_nb_transits</th><th>designation</th></tr></thead>\n",
       "<thead><tr><th>int64</th><th>int64</th><th>float64</th><th>float64</th><th>float64</th><th>float64</th><th>float64</th><th>float64</th><th>float64</th><th>float64</th><th>float64</th><th>float64</th><th>float64</th><th>float64</th><th>float64</th><th>float64</th><th>float64</th><th>float64</th><th>float64</th><th>float64</th><th>float64</th><th>float64</th><th>float64</th><th>float64</th><th>float64</th><th>float64</th><th>float64</th><th>float64</th><th>float64</th><th>float64</th><th>float64</th><th>float64</th><th>float64</th><th>float64</th><th>float64</th><th>float64</th><th>float64</th><th>float64</th><th>float64</th><th>float64</th><th>float64</th><th>float64</th><th>float64</th><th>float64</th><th>float64</th><th>float64</th><th>float64</th><th>float64</th><th>float64</th><th>float64</th><th>float64</th><th>float64</th><th>float64</th><th>float64</th><th>float64</th><th>float64</th><th>float64</th><th>float64</th><th>float64</th><th>float64</th><th>float64</th><th>float64</th><th>float64</th><th>float64</th><th>float64</th><th>float64</th><th>float64</th><th>float64</th><th>float64</th><th>float64</th><th>float64</th><th>float64</th><th>float64</th><th>float64</th><th>int32</th><th>float32</th><th>float32</th><th>float32</th><th>float32</th><th>int32</th><th>int32</th><th>int32</th><th>float32</th><th>int16</th><th>int16</th><th>int16</th><th>int16</th><th>int16</th><th>int16</th><th>int16</th><th>int16</th><th>int16</th><th>int16</th><th>int16</th><th>int16</th><th>int16</th><th>int16</th><th>int16</th><th>int16</th><th>int16</th><th>int16</th><th>int16</th><th>int16</th><th>int16</th><th>int16</th><th>int16</th><th>str29</th></tr></thead>\n",
       "<tr><td>1636042515805110273</td><td>1866715214899476096</td><td>315.0025720304108</td><td>0.30750233</td><td>35.26629582131431</td><td>0.4149143</td><td>-0.5253019064446147</td><td>0.51394916</td><td>-1.0220892</td><td>4.066081</td><td>-1.5689091177195753</td><td>0.41371408</td><td>-3.7512048941105345</td><td>0.58070797</td><td>-0.2066411</td><td>-0.03977844</td><td>-0.13555482</td><td>0.023831405</td><td>0.10216049</td><td>0.042891335</td><td>-0.38717732</td><td>0.041905854</td><td>-0.24301131</td><td>-0.23601146</td><td>3.0031676</td><td>562.63684</td><td>1.9502292</td><td>3.306829</td><td>--</td><td>1.0840127</td><td>0.11123748</td><td>0.15012692</td><td>-0.1774293</td><td>-0.06214036</td><td>-0.068762496</td><td>0.030877966</td><td>0.84658736</td><td>0.032902416</td><td>45.818268</td><td>1.1065037</td><td>0.32078138</td><td>0.37349564</td><td>0.08625135</td><td>0.27126992</td><td>-128.82988</td><td>68.69841</td><td>14.131726</td><td>-2.7175047</td><td>170.25886989391503</td><td>0.7600729</td><td>224.00334</td><td>20.109592</td><td>62.129771691156954</td><td>4.697695</td><td>13.225587</td><td>20.855293</td><td>215.36151452651748</td><td>5.868598</td><td>36.69727</td><td>18.914976</td><td>1.6298199</td><td>1.9403172</td><td>0.74570084</td><td>1.1946163</td><td>--</td><td>--</td><td>78.7732390916837</td><td>-7.084419202375176</td><td>332.5430624703224</td><td>49.40907365639263</td><td>78.77324537823401</td><td>-7.084418857524379</td><td>332.5430683749614</td><td>49.409086190498904</td><td>1311854029</td><td>2016.0</td><td>--</td><td>--</td><td>--</td><td>3407871</td><td>167296</td><td>54328563</td><td>85.50258</td><td>415</td><td>0</td><td>411</td><td>4</td><td>95</td><td>0</td><td>48</td><td>24</td><td>50</td><td>50</td><td>0</td><td>0</td><td>0</td><td>0</td><td>415</td><td>39</td><td>45</td><td>0</td><td>0</td><td>0</td><td>1</td><td>0</td><td>0</td><td>Gaia EDR3 1866715214899476096</td></tr>\n",
       "<tr><td>1636042515805110273</td><td>1866715214893234560</td><td>315.0040808688534</td><td>0.3660619</td><td>35.266542371405166</td><td>0.60390174</td><td>0.6831757766080789</td><td>0.58081764</td><td>1.1762311</td><td>10.203672</td><td>-5.095786407904494</td><td>0.47541314</td><td>-8.840129727424058</td><td>0.6643045</td><td>0.008998524</td><td>-0.037503283</td><td>-0.18578494</td><td>-0.1074251</td><td>-0.0402576</td><td>-0.112676136</td><td>-0.50785804</td><td>-0.06271033</td><td>0.006328852</td><td>0.040157735</td><td>-0.31912014</td><td>442.34915</td><td>1.4892212</td><td>1.0017344</td><td>--</td><td>1.1678272</td><td>0.14112224</td><td>0.19263864</td><td>-0.06437454</td><td>-0.04427346</td><td>-0.082532294</td><td>-0.06252233</td><td>0.988853</td><td>0.004871921</td><td>78.13042</td><td>0.9878436</td><td>0.24553269</td><td>0.4819171</td><td>0.1713388</td><td>0.30313608</td><td>-122.69216</td><td>81.16414</td><td>16.326897</td><td>-6.6406484</td><td>113.07033062973606</td><td>0.5962169</td><td>189.6463</td><td>20.553995</td><td>45.035518361500515</td><td>4.0067296</td><td>11.239969</td><td>21.204655</td><td>112.20509766100895</td><td>5.032691</td><td>22.295248</td><td>19.622864</td><td>1.3906443</td><td>1.5817909</td><td>0.65065956</td><td>0.93113136</td><td>--</td><td>--</td><td>78.77423549590429</td><td>-7.085194264730675</td><td>332.5449335782025</td><td>49.40876339650573</td><td>78.7742417824981</td><td>-7.085193919823844</td><td>332.5449394831747</td><td>49.408775930242996</td><td>52230798</td><td>2016.0</td><td>--</td><td>--</td><td>--</td><td>3407871</td><td>167296</td><td>54328563</td><td>87.95277</td><td>402</td><td>0</td><td>402</td><td>0</td><td>95</td><td>0</td><td>46</td><td>24</td><td>48</td><td>21</td><td>0</td><td>0</td><td>0</td><td>0</td><td>412</td><td>45</td><td>45</td><td>0</td><td>1</td><td>0</td><td>1</td><td>0</td><td>0</td><td>Gaia EDR3 1866715214893234560</td></tr>\n",
       "<tr><td>1636042515805110273</td><td>1866715214893252736</td><td>314.99633051554275</td><td>0.1539217</td><td>35.2673457979876</td><td>0.18961811</td><td>0.5757248746785423</td><td>0.23681812</td><td>2.4310846</td><td>14.762663</td><td>-12.133295968090188</td><td>0.20615575</td><td>-8.409479159879085</td><td>0.24052307</td><td>-0.14076671</td><td>-0.012162757</td><td>-0.08706708</td><td>0.028235814</td><td>0.11493141</td><td>0.019892033</td><td>-0.25761363</td><td>-0.050066534</td><td>-0.04141606</td><td>-0.07669695</td><td>1.2383834</td><td>546.72736</td><td>0.0</td><td>0.0</td><td>--</td><td>1.2988586</td><td>0.05587094</td><td>0.11217324</td><td>-0.11031371</td><td>-0.053052943</td><td>-0.047327656</td><td>-0.018369202</td><td>0.33999944</td><td>0.014017028</td><td>40.40693</td><td>1.0399437</td><td>0.24942611</td><td>0.34146073</td><td>0.07546016</td><td>0.24812268</td><td>-124.881325</td><td>67.6725</td><td>12.653058</td><td>-1.9746195</td><td>319.61829773346517</td><td>0.79502237</td><td>402.0243</td><td>19.425787</td><td>76.67540087337717</td><td>4.06836</td><td>18.84676</td><td>20.626902</td><td>376.2229749396408</td><td>5.883984</td><td>63.940174</td><td>18.309282</td><td>1.4169977</td><td>2.3176193</td><td>1.2011147</td><td>1.1165047</td><td>--</td><td>--</td><td>78.77070143289642</td><td>-7.079866173109289</td><td>332.53669738761755</td><td>49.41222345877585</td><td>78.77070771918848</td><td>-7.079865828401191</td><td>332.5367032920985</td><td>49.41223599413727</td><td>1195341828</td><td>2016.0</td><td>--</td><td>--</td><td>--</td><td>3407871</td><td>167296</td><td>54328563</td><td>9.950861</td><td>476</td><td>0</td><td>476</td><td>0</td><td>95</td><td>0</td><td>55</td><td>27</td><td>57</td><td>20</td><td>0</td><td>0</td><td>0</td><td>0</td><td>487</td><td>46</td><td>51</td><td>0</td><td>3</td><td>0</td><td>0</td><td>0</td><td>0</td><td>Gaia EDR3 1866715214893252736</td></tr>\n",
       "<tr><td>1636042515805110273</td><td>1866715214898729600</td><td>314.99818112698284</td><td>0.020323085</td><td>35.267352772911664</td><td>0.027013773</td><td>0.5339445498927129</td><td>0.03244658</td><td>16.456114</td><td>10.458272</td><td>-7.746954667854095</td><td>0.027443046</td><td>-7.025677902921653</td><td>0.03697037</td><td>-0.21303529</td><td>-0.030254558</td><td>-0.06520866</td><td>-0.03413611</td><td>0.081160404</td><td>-0.04103523</td><td>-0.18688633</td><td>-0.054961666</td><td>-0.08979362</td><td>-0.19667384</td><td>-1.3687704</td><td>455.22928</td><td>0.0</td><td>0.0</td><td>1.4868238</td><td>--</td><td>--</td><td>--</td><td>--</td><td>--</td><td>--</td><td>--</td><td>0.052484684</td><td>0.0055550365</td><td>89.44369</td><td>0.95537215</td><td>0.25091803</td><td>0.36551037</td><td>0.10890667</td><td>0.23014617</td><td>-124.02356</td><td>68.5339</td><td>5.350262</td><td>-1.3723017</td><td>7785.224178809371</td><td>2.3682365</td><td>3287.3508</td><td>15.959189</td><td>3629.470832673208</td><td>10.062884</td><td>360.679</td><td>16.438934</td><td>5979.443515188434</td><td>6.941976</td><td>861.346</td><td>15.306244</td><td>1.2342502</td><td>1.1326904</td><td>0.4797449</td><td>0.6529455</td><td>--</td><td>--</td><td>78.77169737994497</td><td>-7.081009071724239</td><td>332.5387961661576</td><td>49.411576568641145</td><td>78.77170366630152</td><td>-7.081008726960092</td><td>332.53880207087315</td><td>49.411589103588724</td><td>953272521</td><td>2016.0</td><td>--</td><td>--</td><td>--</td><td>3407871</td><td>167296</td><td>54328563</td><td>44.939205</td><td>484</td><td>0</td><td>483</td><td>1</td><td>31</td><td>0</td><td>56</td><td>28</td><td>60</td><td>20</td><td>0</td><td>0</td><td>0</td><td>0</td><td>494</td><td>54</td><td>51</td><td>0</td><td>3</td><td>0</td><td>2</td><td>0</td><td>0</td><td>Gaia EDR3 1866715214898729600</td></tr>\n",
       "<tr><td>1636042515805110273</td><td>1866715421051686912</td><td>314.99449432646406</td><td>0.14094543</td><td>35.26774363959848</td><td>0.2710305</td><td>-0.1092084619719635</td><td>0.25873503</td><td>-0.4220861</td><td>6.8454437</td><td>-3.641148962468979</td><td>0.19972834</td><td>-5.7967350499810575</td><td>0.33922768</td><td>-0.35828832</td><td>-0.09214846</td><td>-0.13098627</td><td>-0.030319443</td><td>0.08244047</td><td>-0.08890399</td><td>0.07177403</td><td>0.17250758</td><td>-0.37072277</td><td>-0.45562947</td><td>-0.62350816</td><td>361.03265</td><td>0.0</td><td>0.0</td><td>--</td><td>1.4418186</td><td>0.05253154</td><td>0.1339405</td><td>-0.10386976</td><td>-0.023104759</td><td>-0.022347791</td><td>-0.034462936</td><td>0.49652892</td><td>0.07159762</td><td>65.04062</td><td>0.97607195</td><td>0.2654494</td><td>0.6604211</td><td>0.19498163</td><td>0.16742902</td><td>-116.80141</td><td>74.1071</td><td>10.870426</td><td>-4.2842126</td><td>419.6422816723092</td><td>0.9552581</td><td>439.2973</td><td>19.130169</td><td>--</td><td>--</td><td>--</td><td>--</td><td>--</td><td>--</td><td>--</td><td>--</td><td>--</td><td>--</td><td>--</td><td>--</td><td>--</td><td>--</td><td>78.77002302203562</td><td>-7.078468826065834</td><td>332.53488386754185</td><td>49.413230284627375</td><td>78.77002930824834</td><td>-7.0784684813959</td><td>332.5348897720287</td><td>49.41324282034637</td><td>1685055030</td><td>2016.0</td><td>--</td><td>--</td><td>--</td><td>3407871</td><td>167296</td><td>54328569</td><td>22.169092</td><td>373</td><td>0</td><td>370</td><td>3</td><td>95</td><td>0</td><td>43</td><td>19</td><td>43</td><td>16</td><td>0</td><td>0</td><td>2</td><td>0</td><td>361</td><td>0</td><td>0</td><td>-32768</td><td>-32768</td><td>-32768</td><td>-32768</td><td>2</td><td>0</td><td>Gaia EDR3 1866715421051686912</td></tr>\n",
       "<tr><td>1636042515805110273</td><td>1866715421057162496</td><td>314.9948152566618</td><td>0.030064315</td><td>35.26783607202657</td><td>0.041041408</td><td>0.1786754684560873</td><td>0.050046355</td><td>3.5701993</td><td>3.9130192</td><td>0.4490964709218541</td><td>0.03956362</td><td>-3.8871624910048004</td><td>0.05057993</td><td>-0.2374482</td><td>-0.054817423</td><td>-0.0897362</td><td>-0.0034611716</td><td>0.2117423</td><td>-0.03147995</td><td>-0.1579551</td><td>-0.10414054</td><td>-0.015472612</td><td>-0.18519586</td><td>3.7036717</td><td>620.85767</td><td>0.16280256</td><td>1.8967203</td><td>1.4793924</td><td>--</td><td>--</td><td>--</td><td>--</td><td>--</td><td>--</td><td>--</td><td>0.07190175</td><td>0.01035997</td><td>131.25517</td><td>1.1222006</td><td>0.266262</td><td>0.38151395</td><td>0.10564729</td><td>0.22874855</td><td>-120.92157</td><td>67.92273</td><td>9.539195</td><td>-2.6676502</td><td>4314.035406761423</td><td>3.2272696</td><td>1336.7446</td><td>16.600157</td><td>2093.6538212937194</td><td>7.775475</td><td>269.2638</td><td>17.03628</td><td>3686.322085681778</td><td>8.493955</td><td>433.99362</td><td>15.831412</td><td>1.3398073</td><td>1.2048674</td><td>0.4361229</td><td>0.76874447</td><td>--</td><td>--</td><td>78.77026553940092</td><td>-7.07860768059747</td><td>332.53530845614665</td><td>49.41320036365218</td><td>78.77027182562139</td><td>-7.078607335913906</td><td>332.53531436072797</td><td>49.41321289928746</td><td>480641118</td><td>2016.0</td><td>--</td><td>--</td><td>--</td><td>3407871</td><td>167296</td><td>54328569</td><td>18.720108</td><td>479</td><td>0</td><td>477</td><td>2</td><td>31</td><td>0</td><td>55</td><td>27</td><td>57</td><td>20</td><td>0</td><td>5</td><td>0</td><td>0</td><td>481</td><td>52</td><td>54</td><td>0</td><td>52</td><td>0</td><td>54</td><td>0</td><td>0</td><td>Gaia EDR3 1866715421057162496</td></tr>\n",
       "<tr><td>1636042515805110273</td><td>1866715214893245824</td><td>315.00009265824406</td><td>0.25041044</td><td>35.268392346659</td><td>0.3183662</td><td>-0.4738762431654537</td><td>0.38960838</td><td>-1.2162887</td><td>5.0722895</td><td>-4.214780325024118</td><td>0.33753592</td><td>-2.8220111694248553</td><td>0.43424156</td><td>-0.09866133</td><td>-0.02057205</td><td>-0.1541107</td><td>-0.023665426</td><td>0.087650016</td><td>-0.025778187</td><td>-0.32039332</td><td>-0.07585704</td><td>-0.12942083</td><td>-0.072389126</td><td>-1.7361163</td><td>416.6135</td><td>0.0</td><td>0.0</td><td>--</td><td>1.4759755</td><td>0.094536744</td><td>0.11995673</td><td>-0.11663591</td><td>-0.108089976</td><td>-0.093542725</td><td>0.04701493</td><td>0.6144807</td><td>0.009547336</td><td>27.362396</td><td>0.94177014</td><td>0.2423282</td><td>0.34436792</td><td>0.10292812</td><td>0.267137</td><td>-125.46529</td><td>71.04584</td><td>7.246705</td><td>0.64685476</td><td>173.1676163612247</td><td>0.676115</td><td>256.12155</td><td>20.0912</td><td>68.9138815275428</td><td>3.5307932</td><td>19.51796</td><td>20.742775</td><td>139.2340230531637</td><td>5.354228</td><td>26.0045</td><td>19.388533</td><td>1.2020025</td><td>1.3542423</td><td>0.6515751</td><td>0.70266724</td><td>--</td><td>--</td><td>78.77351613388021</td><td>-7.081517870756734</td><td>332.5416499586558</td><td>49.41183928355923</td><td>78.7735224202645</td><td>-7.081517525890388</td><td>332.5416558642225</td><td>49.41185181794403</td><td>258767021</td><td>2016.0</td><td>--</td><td>--</td><td>--</td><td>3407871</td><td>167296</td><td>54328563</td><td>44.72071</td><td>455</td><td>0</td><td>453</td><td>2</td><td>95</td><td>0</td><td>53</td><td>27</td><td>55</td><td>18</td><td>0</td><td>0</td><td>0</td><td>0</td><td>458</td><td>49</td><td>48</td><td>0</td><td>2</td><td>0</td><td>3</td><td>0</td><td>0</td><td>Gaia EDR3 1866715214893245824</td></tr>\n",
       "<tr><td>1636042515805110273</td><td>1866715210593469824</td><td>315.0026692503509</td><td>0.14496663</td><td>35.2692449132891</td><td>0.19020592</td><td>0.3510651785545655</td><td>0.22858432</td><td>1.5358236</td><td>8.183952</td><td>-3.96888936751185</td><td>0.19221446</td><td>-7.157164111864541</td><td>0.23617615</td><td>-0.17467807</td><td>-0.055835243</td><td>-0.17539099</td><td>0.057866167</td><td>0.108476</td><td>0.060777266</td><td>-0.33323464</td><td>-0.024180545</td><td>-0.088013545</td><td>-0.16296317</td><td>-1.0463839</td><td>468.45303</td><td>0.0</td><td>0.0</td><td>--</td><td>1.3924996</td><td>0.05330431</td><td>0.1402969</td><td>-0.14919212</td><td>-0.023176897</td><td>-0.06936797</td><td>0.0054841377</td><td>0.3424595</td><td>0.012426297</td><td>100.231804</td><td>0.96569616</td><td>0.27337095</td><td>0.35631257</td><td>0.09164062</td><td>0.2309991</td><td>-130.6848</td><td>69.55257</td><td>10.027933</td><td>-2.5882225</td><td>347.8349839250759</td><td>0.7885058</td><td>441.1318</td><td>19.333933</td><td>121.24474077153685</td><td>4.2373447</td><td>28.613377</td><td>20.129385</td><td>290.2838096015567</td><td>4.9167585</td><td>59.039673</td><td>18.59084</td><td>1.1831143</td><td>1.5385456</td><td>0.7954521</td><td>0.7430935</td><td>--</td><td>--</td><td>78.77554780609894</td><td>-7.082560617934556</td><td>332.54513202694324</td><td>49.41169859508565</td><td>78.77555409254131</td><td>-7.082560272953996</td><td>332.5451379333335</td><td>49.411711128783764</td><td>670479361</td><td>2016.0</td><td>--</td><td>--</td><td>--</td><td>3407871</td><td>167296</td><td>54328563</td><td>79.74569</td><td>486</td><td>0</td><td>485</td><td>1</td><td>95</td><td>0</td><td>56</td><td>26</td><td>58</td><td>21</td><td>0</td><td>1</td><td>0</td><td>0</td><td>486</td><td>52</td><td>54</td><td>0</td><td>0</td><td>0</td><td>2</td><td>0</td><td>0</td><td>Gaia EDR3 1866715210593469824</td></tr>\n",
       "<tr><td>1636042515805110273</td><td>1866715317977941120</td><td>315.0050640874187</td><td>0.118437715</td><td>35.27053005790395</td><td>0.15206325</td><td>0.0335835999784775</td><td>0.1878349</td><td>0.17879318</td><td>0.65863883</td><td>-0.0474950607514217</td><td>0.15583472</td><td>-0.6569241176278305</td><td>0.18793479</td><td>-0.13207743</td><td>0.015170442</td><td>-0.15068562</td><td>0.0070816865</td><td>0.058556277</td><td>-0.005120558</td><td>-0.297279</td><td>-0.104642645</td><td>-0.022534594</td><td>-0.10810588</td><td>-0.27790555</td><td>477.6912</td><td>0.0</td><td>0.0</td><td>1.4215086</td><td>--</td><td>--</td><td>--</td><td>--</td><td>--</td><td>--</td><td>--</td><td>0.26787546</td><td>0.009136096</td><td>73.907936</td><td>0.9902089</td><td>0.26447427</td><td>0.3608328</td><td>0.09553357</td><td>0.25132948</td><td>-127.33313</td><td>69.7574</td><td>15.232871</td><td>-4.052168</td><td>452.20261385606017</td><td>0.8038531</td><td>562.5438</td><td>19.049034</td><td>180.76543131575733</td><td>4.22323</td><td>42.80265</td><td>19.695753</td><td>363.8993334364359</td><td>5.1786623</td><td>70.26898</td><td>18.345442</td><td>1.2044706</td><td>1.3503113</td><td>0.646719</td><td>0.7035923</td><td>--</td><td>--</td><td>78.77781320433932</td><td>-7.083209133990343</td><td>332.5486958504827</td><td>49.412012085501125</td><td>78.77781949081698</td><td>-7.083208788882371</td><td>332.5487017579289</td><td>49.412024618496396</td><td>1358726998</td><td>2016.0</td><td>--</td><td>--</td><td>--</td><td>3407871</td><td>167296</td><td>54328566</td><td>90.19061</td><td>473</td><td>0</td><td>472</td><td>1</td><td>31</td><td>0</td><td>54</td><td>26</td><td>56</td><td>21</td><td>0</td><td>0</td><td>0</td><td>0</td><td>477</td><td>52</td><td>52</td><td>0</td><td>0</td><td>0</td><td>1</td><td>0</td><td>0</td><td>Gaia EDR3 1866715317977941120</td></tr>\n",
       "<tr><td>1636042515805110273</td><td>1866715313675090432</td><td>315.0061862365053</td><td>0.118009225</td><td>35.272752557529095</td><td>0.1511044</td><td>-0.0663766902813359</td><td>0.18077543</td><td>-0.3671776</td><td>3.445969</td><td>-1.7916519399850668</td><td>0.15521422</td><td>-2.9435839466145457</td><td>0.19454393</td><td>-0.14972125</td><td>0.050163172</td><td>-0.22674622</td><td>0.06997689</td><td>0.07340272</td><td>0.066532545</td><td>-0.3640016</td><td>-0.04211318</td><td>-0.0618912</td><td>-0.12900321</td><td>0.49304488</td><td>502.2877</td><td>0.0</td><td>0.0</td><td>1.4573637</td><td>--</td><td>--</td><td>--</td><td>--</td><td>--</td><td>--</td><td>--</td><td>0.28027594</td><td>0.008081132</td><td>112.55177</td><td>1.0154587</td><td>0.255912</td><td>0.34808818</td><td>0.11580001</td><td>0.29078764</td><td>-117.24849</td><td>70.19756</td><td>20.22124</td><td>-3.1601624</td><td>466.61142699625304</td><td>0.833798</td><td>559.62164</td><td>19.014978</td><td>217.96342623221068</td><td>4.833388</td><td>45.09537</td><td>19.492582</td><td>360.94168345130123</td><td>4.6630363</td><td>77.40486</td><td>18.354303</td><td>1.2406578</td><td>1.138279</td><td>0.4776039</td><td>0.66067505</td><td>--</td><td>--</td><td>78.78011453362187</td><td>-7.0824586417423925</td><td>332.5514425598848</td><td>49.413619999944466</td><td>78.78012082005496</td><td>-7.0824582965050995</td><td>332.5514484687816</td><td>49.413632532397976</td><td>100739396</td><td>2016.0</td><td>--</td><td>--</td><td>--</td><td>3407871</td><td>167296</td><td>54328566</td><td>24.529074</td><td>474</td><td>0</td><td>472</td><td>2</td><td>31</td><td>0</td><td>56</td><td>26</td><td>59</td><td>22</td><td>0</td><td>0</td><td>0</td><td>0</td><td>483</td><td>50</td><td>52</td><td>0</td><td>3</td><td>0</td><td>2</td><td>0</td><td>0</td><td>Gaia EDR3 1866715313675090432</td></tr>\n",
       "</table></div>"
      ],
      "text/plain": [
       "<Table length=10>\n",
       "    solution_id          source_id      ...          designation         \n",
       "       int64               int64        ...             str29            \n",
       "------------------- ------------------- ... -----------------------------\n",
       "1636042515805110273 1866715214899476096 ... Gaia EDR3 1866715214899476096\n",
       "1636042515805110273 1866715214893234560 ... Gaia EDR3 1866715214893234560\n",
       "1636042515805110273 1866715214893252736 ... Gaia EDR3 1866715214893252736\n",
       "1636042515805110273 1866715214898729600 ... Gaia EDR3 1866715214898729600\n",
       "1636042515805110273 1866715421051686912 ... Gaia EDR3 1866715421051686912\n",
       "1636042515805110273 1866715421057162496 ... Gaia EDR3 1866715421057162496\n",
       "1636042515805110273 1866715214893245824 ... Gaia EDR3 1866715214893245824\n",
       "1636042515805110273 1866715210593469824 ... Gaia EDR3 1866715210593469824\n",
       "1636042515805110273 1866715317977941120 ... Gaia EDR3 1866715317977941120\n",
       "1636042515805110273 1866715313675090432 ... Gaia EDR3 1866715313675090432"
      ]
     },
     "execution_count": 9,
     "metadata": {},
     "output_type": "execute_result"
    }
   ],
   "source": [
    "foo"
   ]
  },
  {
   "cell_type": "code",
   "execution_count": null,
   "id": "776ac49a-e8ba-4d65-a4e5-6303e6d46c45",
   "metadata": {},
   "outputs": [],
   "source": []
  }
 ],
 "metadata": {
  "kernelspec": {
   "display_name": "LSST",
   "language": "python",
   "name": "lsst"
  },
  "language_info": {
   "codemirror_mode": {
    "name": "ipython",
    "version": 3
   },
   "file_extension": ".py",
   "mimetype": "text/x-python",
   "name": "python",
   "nbconvert_exporter": "python",
   "pygments_lexer": "ipython3",
   "version": "3.10.5"
  }
 },
 "nbformat": 4,
 "nbformat_minor": 5
}
