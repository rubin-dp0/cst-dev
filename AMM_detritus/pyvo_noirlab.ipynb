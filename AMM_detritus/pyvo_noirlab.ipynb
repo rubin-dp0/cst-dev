{
 "cells": [
  {
   "cell_type": "code",
   "execution_count": 1,
   "id": "2f2b2b5b-bf48-4918-af72-c59ff341d347",
   "metadata": {
    "execution": {
     "iopub.execute_input": "2023-04-16T23:20:28.423562Z",
     "iopub.status.busy": "2023-04-16T23:20:28.423231Z",
     "iopub.status.idle": "2023-04-16T23:20:28.427115Z",
     "shell.execute_reply": "2023-04-16T23:20:28.426376Z",
     "shell.execute_reply.started": "2023-04-16T23:20:28.423540Z"
    }
   },
   "outputs": [],
   "source": [
    "import pyvo"
   ]
  },
  {
   "cell_type": "code",
   "execution_count": 2,
   "id": "6caf9831-9685-4b87-a0d1-176a1e7030ea",
   "metadata": {
    "execution": {
     "iopub.execute_input": "2023-04-16T23:20:49.984587Z",
     "iopub.status.busy": "2023-04-16T23:20:49.983842Z",
     "iopub.status.idle": "2023-04-16T23:20:49.987632Z",
     "shell.execute_reply": "2023-04-16T23:20:49.987008Z",
     "shell.execute_reply.started": "2023-04-16T23:20:49.984558Z"
    }
   },
   "outputs": [],
   "source": [
    "tap = pyvo.dal.TAPService('https://datalab.noirlab.edu/tap')"
   ]
  },
  {
   "cell_type": "code",
   "execution_count": 3,
   "id": "21a388af-f938-4eb1-8bb9-45faabbc320e",
   "metadata": {
    "execution": {
     "iopub.execute_input": "2023-04-16T23:21:00.335416Z",
     "iopub.status.busy": "2023-04-16T23:21:00.334540Z",
     "iopub.status.idle": "2023-04-16T23:21:01.282739Z",
     "shell.execute_reply": "2023-04-16T23:21:01.282059Z",
     "shell.execute_reply.started": "2023-04-16T23:21:00.335383Z"
    }
   },
   "outputs": [],
   "source": [
    "data = tap.run_sync('select * from gaia_edr3.gaia_source limit 10')"
   ]
  },
  {
   "cell_type": "code",
   "execution_count": 4,
   "id": "62a849ed-0c8b-46ed-beec-b695de9b19b1",
   "metadata": {
    "execution": {
     "iopub.execute_input": "2023-04-16T23:21:15.300139Z",
     "iopub.status.busy": "2023-04-16T23:21:15.299835Z",
     "iopub.status.idle": "2023-04-16T23:21:15.303945Z",
     "shell.execute_reply": "2023-04-16T23:21:15.303326Z",
     "shell.execute_reply.started": "2023-04-16T23:21:15.300118Z"
    }
   },
   "outputs": [
    {
     "name": "stdout",
     "output_type": "stream",
     "text": [
      "10\n"
     ]
    }
   ],
   "source": [
    "print(len(data))"
   ]
  },
  {
   "cell_type": "code",
   "execution_count": 5,
   "id": "b80161fd-e134-4a92-be57-06fea679eff5",
   "metadata": {
    "execution": {
     "iopub.execute_input": "2023-04-16T23:21:20.080627Z",
     "iopub.status.busy": "2023-04-16T23:21:20.080262Z",
     "iopub.status.idle": "2023-04-16T23:21:20.118669Z",
     "shell.execute_reply": "2023-04-16T23:21:20.118067Z",
     "shell.execute_reply.started": "2023-04-16T23:21:20.080599Z"
    }
   },
   "outputs": [
    {
     "data": {
      "text/plain": [
       "<Table length=10>\n",
       "    solution_id          source_id      ...          designation         \n",
       "       int64               int64        ...             str29            \n",
       "------------------- ------------------- ... -----------------------------\n",
       "1636042515805110273 1866715214899476096 ... Gaia EDR3 1866715214899476096\n",
       "1636042515805110273 1866715214893234560 ... Gaia EDR3 1866715214893234560\n",
       "1636042515805110273 1866715214893252736 ... Gaia EDR3 1866715214893252736\n",
       "1636042515805110273 1866715214898729600 ... Gaia EDR3 1866715214898729600\n",
       "1636042515805110273 1866715421051686912 ... Gaia EDR3 1866715421051686912\n",
       "1636042515805110273 1866715421057162496 ... Gaia EDR3 1866715421057162496\n",
       "1636042515805110273 1866715214893245824 ... Gaia EDR3 1866715214893245824\n",
       "1636042515805110273 1866715210593469824 ... Gaia EDR3 1866715210593469824\n",
       "1636042515805110273 1866715317977941120 ... Gaia EDR3 1866715317977941120\n",
       "1636042515805110273 1866715313675090432 ... Gaia EDR3 1866715313675090432"
      ]
     },
     "execution_count": 5,
     "metadata": {},
     "output_type": "execute_result"
    }
   ],
   "source": [
    "data"
   ]
  },
  {
   "cell_type": "code",
   "execution_count": null,
   "id": "2b72b251-0b78-4293-a897-c71f8c39f382",
   "metadata": {},
   "outputs": [],
   "source": []
  }
 ],
 "metadata": {
  "kernelspec": {
   "display_name": "LSST",
   "language": "python",
   "name": "lsst"
  },
  "language_info": {
   "codemirror_mode": {
    "name": "ipython",
    "version": 3
   },
   "file_extension": ".py",
   "mimetype": "text/x-python",
   "name": "python",
   "nbconvert_exporter": "python",
   "pygments_lexer": "ipython3",
   "version": "3.10.9"
  }
 },
 "nbformat": 4,
 "nbformat_minor": 5
}
