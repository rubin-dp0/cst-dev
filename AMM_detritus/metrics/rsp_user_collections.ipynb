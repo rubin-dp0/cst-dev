{
 "cells": [
  {
   "cell_type": "code",
   "execution_count": 1,
   "id": "b0301e28-2c6c-4be0-820a-8d2628b05656",
   "metadata": {
    "execution": {
     "iopub.execute_input": "2023-11-12T10:48:37.911689Z",
     "iopub.status.busy": "2023-11-12T10:48:37.911517Z",
     "iopub.status.idle": "2023-11-12T10:48:38.795060Z",
     "shell.execute_reply": "2023-11-12T10:48:38.794442Z",
     "shell.execute_reply.started": "2023-11-12T10:48:37.911673Z"
    },
    "tags": []
   },
   "outputs": [],
   "source": [
    "import numpy as np\n",
    "from lsst.daf.butler import Butler"
   ]
  },
  {
   "cell_type": "code",
   "execution_count": 2,
   "id": "aacd35bc-d047-4418-8411-47b9db98c334",
   "metadata": {
    "execution": {
     "iopub.execute_input": "2023-11-12T10:48:38.797821Z",
     "iopub.status.busy": "2023-11-12T10:48:38.797415Z",
     "iopub.status.idle": "2023-11-12T10:48:38.800429Z",
     "shell.execute_reply": "2023-11-12T10:48:38.799862Z",
     "shell.execute_reply.started": "2023-11-12T10:48:38.797801Z"
    },
    "tags": []
   },
   "outputs": [],
   "source": [
    "anonymize = True\n",
    "butler_repo = 'dp02'"
   ]
  },
  {
   "cell_type": "code",
   "execution_count": 3,
   "id": "94ee0e4d-fcff-4a5b-98c4-6bc81f3527e9",
   "metadata": {
    "execution": {
     "iopub.execute_input": "2023-11-12T10:48:38.802761Z",
     "iopub.status.busy": "2023-11-12T10:48:38.802487Z",
     "iopub.status.idle": "2023-11-12T10:48:41.583779Z",
     "shell.execute_reply": "2023-11-12T10:48:41.583065Z",
     "shell.execute_reply.started": "2023-11-12T10:48:38.802744Z"
    },
    "tags": []
   },
   "outputs": [
    {
     "name": "stdout",
     "output_type": "stream",
     "text": [
      "2840\n"
     ]
    }
   ],
   "source": [
    "butler = Butler(butler_repo)\n",
    "\n",
    "lines = butler.registry.queryCollections('*u/*')\n",
    "lines.sort()\n",
    "print(len(lines))"
   ]
  },
  {
   "cell_type": "code",
   "execution_count": 4,
   "id": "5422aa55-ff0a-4fee-8dd3-f730f6f06fa9",
   "metadata": {
    "execution": {
     "iopub.execute_input": "2023-11-12T10:48:41.584992Z",
     "iopub.status.busy": "2023-11-12T10:48:41.584726Z",
     "iopub.status.idle": "2023-11-12T10:48:41.592103Z",
     "shell.execute_reply": "2023-11-12T10:48:41.591532Z",
     "shell.execute_reply.started": "2023-11-12T10:48:41.584973Z"
    },
    "tags": []
   },
   "outputs": [
    {
     "data": {
      "text/plain": [
       "981"
      ]
     },
     "execution_count": 4,
     "metadata": {},
     "output_type": "execute_result"
    }
   ],
   "source": [
    "lines = np.array(lines)\n",
    "# remove mobu test runs (https://github.com/lsst-sqre/mobu/)\n",
    "keep = [line.find('mobu') == -1 for line in lines]\n",
    "lines = lines[keep]\n",
    "len(lines)"
   ]
  },
  {
   "cell_type": "code",
   "execution_count": 5,
   "id": "84a92a4d-7005-49b1-a1c3-59f90bd67687",
   "metadata": {
    "execution": {
     "iopub.execute_input": "2023-11-12T10:48:41.592960Z",
     "iopub.status.busy": "2023-11-12T10:48:41.592773Z",
     "iopub.status.idle": "2023-11-12T10:48:42.281657Z",
     "shell.execute_reply": "2023-11-12T10:48:42.281024Z",
     "shell.execute_reply.started": "2023-11-12T10:48:41.592944Z"
    },
    "tags": []
   },
   "outputs": [],
   "source": [
    "# code to remove \"parent\" directories\n",
    "\n",
    "delete = np.zeros(len(lines), dtype=bool)\n",
    "for line in lines:\n",
    "    for i,o in enumerate(lines):\n",
    "        if o == line:\n",
    "            continue\n",
    "        if line.find(o) != -1:\n",
    "            delete[i] = True"
   ]
  },
  {
   "cell_type": "code",
   "execution_count": 6,
   "id": "c2ebd7a6-ed27-4c9c-aa12-8dd8cfc4b42e",
   "metadata": {
    "execution": {
     "iopub.execute_input": "2023-11-12T10:48:42.282670Z",
     "iopub.status.busy": "2023-11-12T10:48:42.282449Z",
     "iopub.status.idle": "2023-11-12T10:48:42.285760Z",
     "shell.execute_reply": "2023-11-12T10:48:42.285256Z",
     "shell.execute_reply.started": "2023-11-12T10:48:42.282651Z"
    },
    "tags": []
   },
   "outputs": [],
   "source": [
    "lines = lines[np.logical_not(delete)]"
   ]
  },
  {
   "cell_type": "code",
   "execution_count": 7,
   "id": "9571abaf-a2d2-4d88-b4d8-0090dd66f954",
   "metadata": {
    "execution": {
     "iopub.execute_input": "2023-11-12T10:48:42.287442Z",
     "iopub.status.busy": "2023-11-12T10:48:42.287261Z",
     "iopub.status.idle": "2023-11-12T10:48:42.300118Z",
     "shell.execute_reply": "2023-11-12T10:48:42.299633Z",
     "shell.execute_reply.started": "2023-11-12T10:48:42.287427Z"
    },
    "tags": []
   },
   "outputs": [],
   "source": [
    "unames = []\n",
    "\n",
    "for i,line in enumerate(lines):\n",
    "    p = line.find('u/')\n",
    "    #print(i)\n",
    "    assert(p >= 0)\n",
    "    lines[i] = line[(p+2):]\n",
    "    #print(lines[i])\n",
    "    tokens = lines[i].split('/')\n",
    "    unames.append(tokens[0])"
   ]
  },
  {
   "cell_type": "code",
   "execution_count": 8,
   "id": "95af8e63-7991-4f1f-958f-3322f2b864b5",
   "metadata": {
    "execution": {
     "iopub.execute_input": "2023-11-12T10:48:42.300968Z",
     "iopub.status.busy": "2023-11-12T10:48:42.300739Z",
     "iopub.status.idle": "2023-11-12T10:48:42.312454Z",
     "shell.execute_reply": "2023-11-12T10:48:42.311996Z",
     "shell.execute_reply.started": "2023-11-12T10:48:42.300952Z"
    },
    "tags": []
   },
   "outputs": [
    {
     "data": {
      "text/plain": [
       "724"
      ]
     },
     "execution_count": 8,
     "metadata": {},
     "output_type": "execute_result"
    }
   ],
   "source": [
    "len(unames)"
   ]
  },
  {
   "cell_type": "code",
   "execution_count": 9,
   "id": "8686a065-9eed-465e-b230-8b55755fab24",
   "metadata": {
    "execution": {
     "iopub.execute_input": "2023-11-12T10:48:42.313271Z",
     "iopub.status.busy": "2023-11-12T10:48:42.313039Z",
     "iopub.status.idle": "2023-11-12T10:48:42.324585Z",
     "shell.execute_reply": "2023-11-12T10:48:42.324128Z",
     "shell.execute_reply.started": "2023-11-12T10:48:42.313255Z"
    },
    "tags": []
   },
   "outputs": [
    {
     "name": "stdout",
     "output_type": "stream",
     "text": [
      "number of RSP dp02 Butler user collection =  67\n"
     ]
    }
   ],
   "source": [
    "print('number of RSP dp02 Butler user collection = ', len(np.unique(unames)))"
   ]
  },
  {
   "cell_type": "code",
   "execution_count": 10,
   "id": "6b6fa2cf-a42d-48bf-b7c5-72b9f9e49984",
   "metadata": {
    "execution": {
     "iopub.execute_input": "2023-11-12T10:48:42.325363Z",
     "iopub.status.busy": "2023-11-12T10:48:42.325189Z",
     "iopub.status.idle": "2023-11-12T10:48:42.336497Z",
     "shell.execute_reply": "2023-11-12T10:48:42.336007Z",
     "shell.execute_reply.started": "2023-11-12T10:48:42.325349Z"
    },
    "tags": []
   },
   "outputs": [
    {
     "name": "stdout",
     "output_type": "stream",
     "text": [
      "number of unique non-bot RSP users with a dp02 Butler user collection =  67\n"
     ]
    }
   ],
   "source": [
    "unames = np.array(unames)\n",
    "print('number of unique non-bot RSP users with a dp02 Butler user collection = ', len(np.unique(unames)))"
   ]
  },
  {
   "cell_type": "code",
   "execution_count": 11,
   "id": "5fa7f570-499f-46c5-9a3b-6dbbae63a6b2",
   "metadata": {
    "execution": {
     "iopub.execute_input": "2023-11-12T10:48:42.337358Z",
     "iopub.status.busy": "2023-11-12T10:48:42.337130Z",
     "iopub.status.idle": "2023-11-12T10:48:42.347789Z",
     "shell.execute_reply": "2023-11-12T10:48:42.347318Z",
     "shell.execute_reply.started": "2023-11-12T10:48:42.337343Z"
    },
    "tags": []
   },
   "outputs": [],
   "source": [
    "if not anonymize:\n",
    "    print(np.unique(unames))"
   ]
  },
  {
   "cell_type": "code",
   "execution_count": 12,
   "id": "3850c65f-f179-4c30-b917-232304fb988f",
   "metadata": {
    "execution": {
     "iopub.execute_input": "2023-11-12T10:48:42.348644Z",
     "iopub.status.busy": "2023-11-12T10:48:42.348418Z",
     "iopub.status.idle": "2023-11-12T10:48:43.949426Z",
     "shell.execute_reply": "2023-11-12T10:48:43.948945Z",
     "shell.execute_reply.started": "2023-11-12T10:48:42.348628Z"
    },
    "tags": []
   },
   "outputs": [
    {
     "data": {
      "text/plain": [
       "<Axes: ylabel='collections per user'>"
      ]
     },
     "execution_count": 12,
     "metadata": {},
     "output_type": "execute_result"
    },
    {
     "data": {
      "image/png": "[encoded data removed]",
      "text/plain": [
       "<Figure size 1200x500 with 1 Axes>"
      ]
     },
     "metadata": {},
     "output_type": "display_data"
    }
   ],
   "source": [
    "# make a histogram of these usernames ?\n",
    "\n",
    "import pandas\n",
    "from collections import Counter\n",
    "\n",
    "uname_counts = Counter(unames)\n",
    "df = pandas.DataFrame.from_dict(uname_counts, orient='index', columns=['ncoll'])\n",
    "df.sort_values(by='ncoll', ascending=False, inplace=True)\n",
    "df\n",
    "df.plot(kind='bar', use_index=(not anonymize), legend=False, figsize=(12, 5), logy=True, xlabel='user name', ylabel='collections per user')"
   ]
  },
  {
   "cell_type": "code",
   "execution_count": 13,
   "id": "198a3a69-7087-43b1-8272-b1f751a23ac2",
   "metadata": {
    "execution": {
     "iopub.execute_input": "2023-11-12T10:48:43.950759Z",
     "iopub.status.busy": "2023-11-12T10:48:43.950234Z",
     "iopub.status.idle": "2023-11-12T10:48:43.954452Z",
     "shell.execute_reply": "2023-11-12T10:48:43.953983Z",
     "shell.execute_reply.started": "2023-11-12T10:48:43.950740Z"
    },
    "tags": []
   },
   "outputs": [
    {
     "data": {
      "text/plain": [
       "724"
      ]
     },
     "execution_count": 13,
     "metadata": {},
     "output_type": "execute_result"
    }
   ],
   "source": [
    "len(lines)"
   ]
  }
 ],
 "metadata": {
  "kernelspec": {
   "display_name": "LSST",
   "language": "python",
   "name": "lsst"
  },
  "language_info": {
   "codemirror_mode": {
    "name": "ipython",
    "version": 3
   },
   "file_extension": ".py",
   "mimetype": "text/x-python",
   "name": "python",
   "nbconvert_exporter": "python",
   "pygments_lexer": "ipython3",
   "version": "3.11.4"
  }
 },
 "nbformat": 4,
 "nbformat_minor": 5
}
