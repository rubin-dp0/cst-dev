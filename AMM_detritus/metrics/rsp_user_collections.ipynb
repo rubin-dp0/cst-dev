{
 "cells": [
  {
   "cell_type": "markdown",
   "id": "4e7bd008-b5db-4d0e-bd0a-867c65f0ddc3",
   "metadata": {},
   "source": [
    "contact author: Aaron Meisner\n",
    "\n",
    "last verified to run: 2023 Nov 16\n",
    "\n",
    "LSST pipelines version:  `w_2023_37`\n",
    "\n",
    "container size: small"
   ]
  },
  {
   "cell_type": "markdown",
   "id": "f33e52db-f882-4359-a42a-018c95331ad4",
   "metadata": {},
   "source": [
    "# compute metrics for RSP Butler user collections"
   ]
  },
  {
   "cell_type": "code",
   "execution_count": 1,
   "id": "b0301e28-2c6c-4be0-820a-8d2628b05656",
   "metadata": {
    "execution": {
     "iopub.execute_input": "2023-11-16T18:28:37.545279Z",
     "iopub.status.busy": "2023-11-16T18:28:37.545103Z",
     "iopub.status.idle": "2023-11-16T18:28:39.621739Z",
     "shell.execute_reply": "2023-11-16T18:28:39.620853Z",
     "shell.execute_reply.started": "2023-11-16T18:28:37.545261Z"
    },
    "tags": []
   },
   "outputs": [],
   "source": [
    "import numpy as np\n",
    "from lsst.daf.butler import Butler\n",
    "import matplotlib.pyplot as plt\n",
    "import os\n",
    "import time\n",
    "import pandas\n",
    "from collections import Counter"
   ]
  },
  {
   "cell_type": "markdown",
   "id": "d252f9ff-b3fc-49c7-b3d6-5374144913e9",
   "metadata": {},
   "source": [
    "note\n",
    "====\n",
    "\n",
    "Toggle the `anonymize` variable in the following code cell to turn on/off anonymization of user names throughout this notebook."
   ]
  },
  {
   "cell_type": "code",
   "execution_count": 2,
   "id": "aacd35bc-d047-4418-8411-47b9db98c334",
   "metadata": {
    "execution": {
     "iopub.execute_input": "2023-11-16T18:28:39.625502Z",
     "iopub.status.busy": "2023-11-16T18:28:39.625281Z",
     "iopub.status.idle": "2023-11-16T18:28:39.628729Z",
     "shell.execute_reply": "2023-11-16T18:28:39.628127Z",
     "shell.execute_reply.started": "2023-11-16T18:28:39.625483Z"
    },
    "tags": []
   },
   "outputs": [],
   "source": [
    "anonymize = True\n",
    "butler_repo = 'dp02'"
   ]
  },
  {
   "cell_type": "code",
   "execution_count": 3,
   "id": "db0c4732-2d85-4cee-b8fc-e5b77c6f796e",
   "metadata": {
    "execution": {
     "iopub.execute_input": "2023-11-16T18:28:39.631919Z",
     "iopub.status.busy": "2023-11-16T18:28:39.631385Z",
     "iopub.status.idle": "2023-11-16T18:28:39.649740Z",
     "shell.execute_reply": "2023-11-16T18:28:39.648868Z",
     "shell.execute_reply.started": "2023-11-16T18:28:39.631898Z"
    },
    "tags": []
   },
   "outputs": [
    {
     "name": "stdout",
     "output_type": "stream",
     "text": [
      "running RSP Butler user collection analysis on date =  2023-11-16\n"
     ]
    }
   ],
   "source": [
    "print(\"running RSP Butler user collection analysis on date = \", time.strftime(\"%Y-%m-%d\"))"
   ]
  },
  {
   "cell_type": "code",
   "execution_count": 4,
   "id": "94ee0e4d-fcff-4a5b-98c4-6bc81f3527e9",
   "metadata": {
    "execution": {
     "iopub.execute_input": "2023-11-16T18:28:39.653414Z",
     "iopub.status.busy": "2023-11-16T18:28:39.652987Z",
     "iopub.status.idle": "2023-11-16T18:28:43.122893Z",
     "shell.execute_reply": "2023-11-16T18:28:43.122074Z",
     "shell.execute_reply.started": "2023-11-16T18:28:39.653392Z"
    },
    "tags": []
   },
   "outputs": [
    {
     "name": "stdout",
     "output_type": "stream",
     "text": [
      "total number of candidate RSP Butler user collections found =  2840\n"
     ]
    }
   ],
   "source": [
    "butler = Butler(butler_repo)\n",
    "\n",
    "colls = butler.registry.queryCollections('*u/*')\n",
    "colls.sort()\n",
    "print(\"total number of candidate RSP Butler user collections found = \", len(colls))"
   ]
  },
  {
   "cell_type": "code",
   "execution_count": 5,
   "id": "5422aa55-ff0a-4fee-8dd3-f730f6f06fa9",
   "metadata": {
    "execution": {
     "iopub.execute_input": "2023-11-16T18:28:43.126133Z",
     "iopub.status.busy": "2023-11-16T18:28:43.125942Z",
     "iopub.status.idle": "2023-11-16T18:28:43.134057Z",
     "shell.execute_reply": "2023-11-16T18:28:43.133339Z",
     "shell.execute_reply.started": "2023-11-16T18:28:43.126115Z"
    },
    "tags": []
   },
   "outputs": [
    {
     "name": "stdout",
     "output_type": "stream",
     "text": [
      "total number of RSP Butler user collections retained =  981\n"
     ]
    }
   ],
   "source": [
    "colls = np.array(colls)\n",
    "# remove mobu test runs (https://github.com/lsst-sqre/mobu/)\n",
    "keep = [line.find('mobu') == -1 for line in colls]\n",
    "colls = colls[keep]\n",
    "print(\"total number of RSP Butler user collections retained = \", len(colls))"
   ]
  },
  {
   "cell_type": "code",
   "execution_count": 6,
   "id": "84a92a4d-7005-49b1-a1c3-59f90bd67687",
   "metadata": {
    "execution": {
     "iopub.execute_input": "2023-11-16T18:28:43.135517Z",
     "iopub.status.busy": "2023-11-16T18:28:43.135259Z",
     "iopub.status.idle": "2023-11-16T18:28:43.805520Z",
     "shell.execute_reply": "2023-11-16T18:28:43.804688Z",
     "shell.execute_reply.started": "2023-11-16T18:28:43.135497Z"
    },
    "tags": []
   },
   "outputs": [],
   "source": [
    "# remove \"parent\" directories\n",
    "\n",
    "delete = np.zeros(len(colls), dtype=bool)\n",
    "for line in colls:\n",
    "    for i,o in enumerate(colls):\n",
    "        if o == line:\n",
    "            continue\n",
    "        if line.find(o) != -1:\n",
    "            delete[i] = True"
   ]
  },
  {
   "cell_type": "code",
   "execution_count": 7,
   "id": "c2ebd7a6-ed27-4c9c-aa12-8dd8cfc4b42e",
   "metadata": {
    "execution": {
     "iopub.execute_input": "2023-11-16T18:28:43.806726Z",
     "iopub.status.busy": "2023-11-16T18:28:43.806506Z",
     "iopub.status.idle": "2023-11-16T18:28:43.810501Z",
     "shell.execute_reply": "2023-11-16T18:28:43.809803Z",
     "shell.execute_reply.started": "2023-11-16T18:28:43.806707Z"
    },
    "tags": []
   },
   "outputs": [],
   "source": [
    "colls = colls[np.logical_not(delete)]"
   ]
  },
  {
   "cell_type": "code",
   "execution_count": 8,
   "id": "9571abaf-a2d2-4d88-b4d8-0090dd66f954",
   "metadata": {
    "execution": {
     "iopub.execute_input": "2023-11-16T18:28:43.812014Z",
     "iopub.status.busy": "2023-11-16T18:28:43.811471Z",
     "iopub.status.idle": "2023-11-16T18:28:43.828552Z",
     "shell.execute_reply": "2023-11-16T18:28:43.827591Z",
     "shell.execute_reply.started": "2023-11-16T18:28:43.811993Z"
    },
    "tags": []
   },
   "outputs": [],
   "source": [
    "unames = []\n",
    "\n",
    "for i,line in enumerate(colls):\n",
    "    p = line.find('u/')\n",
    "    #print(i)\n",
    "    assert(p >= 0)\n",
    "    colls[i] = line[(p+2):]\n",
    "    tokens = colls[i].split('/')\n",
    "    unames.append(tokens[0])"
   ]
  },
  {
   "cell_type": "code",
   "execution_count": 9,
   "id": "d9793d98-4797-4389-a3fa-c077e36a95c3",
   "metadata": {
    "execution": {
     "iopub.execute_input": "2023-11-16T18:28:43.829810Z",
     "iopub.status.busy": "2023-11-16T18:28:43.829585Z",
     "iopub.status.idle": "2023-11-16T18:28:43.844403Z",
     "shell.execute_reply": "2023-11-16T18:28:43.843667Z",
     "shell.execute_reply.started": "2023-11-16T18:28:43.829793Z"
    },
    "tags": []
   },
   "outputs": [
    {
     "name": "stdout",
     "output_type": "stream",
     "text": [
      "number of unique RSP dp02 Butler user collections =  724\n"
     ]
    }
   ],
   "source": [
    "print('number of unique RSP dp02 Butler user collections = ', len(colls))"
   ]
  },
  {
   "cell_type": "code",
   "execution_count": 10,
   "id": "6b6fa2cf-a42d-48bf-b7c5-72b9f9e49984",
   "metadata": {
    "execution": {
     "iopub.execute_input": "2023-11-16T18:28:43.845925Z",
     "iopub.status.busy": "2023-11-16T18:28:43.845430Z",
     "iopub.status.idle": "2023-11-16T18:28:43.860419Z",
     "shell.execute_reply": "2023-11-16T18:28:43.859668Z",
     "shell.execute_reply.started": "2023-11-16T18:28:43.845902Z"
    },
    "tags": []
   },
   "outputs": [
    {
     "name": "stdout",
     "output_type": "stream",
     "text": [
      "number of unique non-bot RSP user names with a dp02 Butler user collection =  67\n"
     ]
    }
   ],
   "source": [
    "unames = np.array(unames)\n",
    "print('number of unique non-bot RSP user names with a dp02 Butler user collection = ', len(np.unique(unames)))"
   ]
  },
  {
   "cell_type": "code",
   "execution_count": 11,
   "id": "cc1761b8-6c75-446e-a0bb-911f7452d2b8",
   "metadata": {
    "execution": {
     "iopub.execute_input": "2023-11-16T18:28:43.861691Z",
     "iopub.status.busy": "2023-11-16T18:28:43.861455Z",
     "iopub.status.idle": "2023-11-16T18:28:43.875587Z",
     "shell.execute_reply": "2023-11-16T18:28:43.874854Z",
     "shell.execute_reply.started": "2023-11-16T18:28:43.861673Z"
    },
    "tags": []
   },
   "outputs": [
    {
     "name": "stdout",
     "output_type": "stream",
     "text": [
      "average number of RSP dp02 Butler user collections per user name with at least one such collection =  10.8\n"
     ]
    }
   ],
   "source": [
    "print('average number of RSP dp02 Butler user collections per user name with at least one such collection = ', '{:.1f}'.format(float(len(colls))/len(np.unique(unames))))"
   ]
  },
  {
   "cell_type": "code",
   "execution_count": 12,
   "id": "5fa7f570-499f-46c5-9a3b-6dbbae63a6b2",
   "metadata": {
    "execution": {
     "iopub.execute_input": "2023-11-16T18:28:43.876751Z",
     "iopub.status.busy": "2023-11-16T18:28:43.876537Z",
     "iopub.status.idle": "2023-11-16T18:28:43.889787Z",
     "shell.execute_reply": "2023-11-16T18:28:43.889062Z",
     "shell.execute_reply.started": "2023-11-16T18:28:43.876734Z"
    },
    "tags": []
   },
   "outputs": [],
   "source": [
    "if not anonymize:\n",
    "    print(\"list of RSP user names with at least one Butler user collection on RSP:\\n\")\n",
    "    print(np.unique(unames))"
   ]
  },
  {
   "cell_type": "code",
   "execution_count": 13,
   "id": "3850c65f-f179-4c30-b917-232304fb988f",
   "metadata": {
    "execution": {
     "iopub.execute_input": "2023-11-16T18:28:43.890950Z",
     "iopub.status.busy": "2023-11-16T18:28:43.890736Z",
     "iopub.status.idle": "2023-11-16T18:28:44.704824Z",
     "shell.execute_reply": "2023-11-16T18:28:44.703876Z",
     "shell.execute_reply.started": "2023-11-16T18:28:43.890932Z"
    },
    "tags": []
   },
   "outputs": [
    {
     "data": {
      "image/png": "[encoded data removed]",
      "text/plain": [
       "<Figure size 1200x500 with 1 Axes>"
      ]
     },
     "metadata": {},
     "output_type": "display_data"
    }
   ],
   "source": [
    "uname_counts = Counter(unames)\n",
    "df = pandas.DataFrame.from_dict(uname_counts, orient='index', columns=['ncoll'])\n",
    "df.sort_values(by='ncoll', ascending=False, inplace=True)\n",
    "df\n",
    "df.plot(kind='bar', use_index=(not anonymize), legend=False, figsize=(12, 5), logy=True, xlabel='user name', ylabel='collections per user')\n",
    "_ = plt.xlabel('user name')"
   ]
  },
  {
   "cell_type": "code",
   "execution_count": 14,
   "id": "d5bff1e9-d8cb-486d-a5bf-08058a87fc48",
   "metadata": {
    "execution": {
     "iopub.execute_input": "2023-11-16T18:28:44.706154Z",
     "iopub.status.busy": "2023-11-16T18:28:44.705916Z",
     "iopub.status.idle": "2023-11-16T18:28:44.710141Z",
     "shell.execute_reply": "2023-11-16T18:28:44.709387Z",
     "shell.execute_reply.started": "2023-11-16T18:28:44.706136Z"
    },
    "tags": []
   },
   "outputs": [],
   "source": [
    "def is_timestamp(string):\n",
    "    return (len(string) == 16) and (string[-1] == 'Z') and (string[0:2] == '20')"
   ]
  },
  {
   "cell_type": "code",
   "execution_count": 15,
   "id": "a0bc6ccc-afd6-46f2-9d53-bf5d7d91e6b5",
   "metadata": {
    "execution": {
     "iopub.execute_input": "2023-11-16T18:28:44.711263Z",
     "iopub.status.busy": "2023-11-16T18:28:44.711048Z",
     "iopub.status.idle": "2023-11-16T18:28:44.727554Z",
     "shell.execute_reply": "2023-11-16T18:28:44.726748Z",
     "shell.execute_reply.started": "2023-11-16T18:28:44.711246Z"
    },
    "tags": []
   },
   "outputs": [],
   "source": [
    "has_timestamp = np.zeros(len(colls), dtype=bool)\n",
    "for i, line in enumerate(colls):\n",
    "    has_timestamp[i] = is_timestamp(os.path.basename(line))"
   ]
  },
  {
   "cell_type": "code",
   "execution_count": 16,
   "id": "8a4a5cba-a047-44b6-ba73-cc763bea0b6f",
   "metadata": {
    "execution": {
     "iopub.execute_input": "2023-11-16T18:28:44.729187Z",
     "iopub.status.busy": "2023-11-16T18:28:44.728650Z",
     "iopub.status.idle": "2023-11-16T18:28:44.743509Z",
     "shell.execute_reply": "2023-11-16T18:28:44.742735Z",
     "shell.execute_reply.started": "2023-11-16T18:28:44.729165Z"
    },
    "tags": []
   },
   "outputs": [
    {
     "name": "stdout",
     "output_type": "stream",
     "text": [
      "number of timestamp RSP Butler user collections =  670\n",
      "number of non-timestamp RSP Butler user collections =  54\n"
     ]
    }
   ],
   "source": [
    "print(\"number of timestamp RSP Butler user collections = \", np.sum(has_timestamp))\n",
    "print(\"number of non-timestamp RSP Butler user collections = \", np.sum(np.logical_not(has_timestamp)))"
   ]
  },
  {
   "cell_type": "code",
   "execution_count": 17,
   "id": "88c166c3-99a2-42c3-86dd-6cc1163d7329",
   "metadata": {
    "execution": {
     "iopub.execute_input": "2023-11-16T18:28:44.744739Z",
     "iopub.status.busy": "2023-11-16T18:28:44.744518Z",
     "iopub.status.idle": "2023-11-16T18:28:44.758700Z",
     "shell.execute_reply": "2023-11-16T18:28:44.757923Z",
     "shell.execute_reply.started": "2023-11-16T18:28:44.744722Z"
    },
    "tags": []
   },
   "outputs": [],
   "source": [
    "years = [os.path.basename(s)[0:4] for s in colls[has_timestamp]]"
   ]
  },
  {
   "cell_type": "code",
   "execution_count": 18,
   "id": "38acb2a6-d173-4368-b177-350d29610ac5",
   "metadata": {
    "execution": {
     "iopub.execute_input": "2023-11-16T18:28:44.760081Z",
     "iopub.status.busy": "2023-11-16T18:28:44.759855Z",
     "iopub.status.idle": "2023-11-16T18:28:44.773033Z",
     "shell.execute_reply": "2023-11-16T18:28:44.772202Z",
     "shell.execute_reply.started": "2023-11-16T18:28:44.760063Z"
    },
    "tags": []
   },
   "outputs": [
    {
     "name": "stdout",
     "output_type": "stream",
     "text": [
      "unique calendar years for timestamp Butler user collection directories:\n",
      "\n",
      "['2021' '2022' '2023']\n"
     ]
    }
   ],
   "source": [
    "print(\"unique calendar years for timestamp Butler user collection directories:\\n\")\n",
    "print(np.unique(years))"
   ]
  },
  {
   "cell_type": "code",
   "execution_count": 19,
   "id": "5dc607fe-8755-4e98-8e2d-80aab267e70a",
   "metadata": {
    "execution": {
     "iopub.execute_input": "2023-11-16T18:28:44.774700Z",
     "iopub.status.busy": "2023-11-16T18:28:44.774417Z",
     "iopub.status.idle": "2023-11-16T18:28:44.785067Z",
     "shell.execute_reply": "2023-11-16T18:28:44.784449Z",
     "shell.execute_reply.started": "2023-11-16T18:28:44.774681Z"
    },
    "tags": []
   },
   "outputs": [],
   "source": [
    "years = np.array(years, dtype=float)"
   ]
  },
  {
   "cell_type": "code",
   "execution_count": 20,
   "id": "fca3b044-6478-4f3a-8ad2-159189e24648",
   "metadata": {
    "execution": {
     "iopub.execute_input": "2023-11-16T18:28:44.789500Z",
     "iopub.status.busy": "2023-11-16T18:28:44.789234Z",
     "iopub.status.idle": "2023-11-16T18:28:44.929338Z",
     "shell.execute_reply": "2023-11-16T18:28:44.928397Z",
     "shell.execute_reply.started": "2023-11-16T18:28:44.789481Z"
    },
    "tags": []
   },
   "outputs": [
    {
     "data": {
      "image/png": "[encoded data removed]",
      "text/plain": [
       "<Figure size 640x480 with 1 Axes>"
      ]
     },
     "metadata": {},
     "output_type": "display_data"
    }
   ],
   "source": [
    "# could try making a version normalized to the amount of time in the current year that's actually passed\n",
    "\n",
    "bins = np.arange(np.min(years)-0.5,np.max(years)+1.5,1)\n",
    "plt.hist(years, bins=bins)\n",
    "plt.xticks(np.unique(years))\n",
    "plt.xlabel('calendar year')\n",
    "_ = plt.ylabel('number of timestamp user collections')"
   ]
  },
  {
   "cell_type": "code",
   "execution_count": 21,
   "id": "7c4a400d-1c83-475b-b4f8-6c6bbe0ea15b",
   "metadata": {
    "execution": {
     "iopub.execute_input": "2023-11-16T18:28:44.930992Z",
     "iopub.status.busy": "2023-11-16T18:28:44.930279Z",
     "iopub.status.idle": "2023-11-16T18:28:44.934632Z",
     "shell.execute_reply": "2023-11-16T18:28:44.933793Z",
     "shell.execute_reply.started": "2023-11-16T18:28:44.930967Z"
    },
    "tags": []
   },
   "outputs": [],
   "source": [
    "# now make a list of search strings that identify DP0.2 tutorials that tell users to make output Butler user collections\n",
    "\n",
    "# nb09a = DP0.2 notebook tutorial 09a\n",
    "# nb09b = DP0.2 notebook tutorial 09b\n",
    "    # note that this was only put into production a few days ago as of this writing !!!\n",
    "    # previously nb09b did not persist any outputs (all in-memory)\n",
    "# cl02a = DP0.2 command line tutorial 02, the part corresponding to notebook tutorial 09a\n",
    "# cl02b = DP0.2 command line tutorial 02, the part corresponding to notebook tutorial 09b\n",
    "    # note that this was only put into production a few days ago as of this writing !!!\n",
    "\n",
    "collection_names_exact = {'nb09a' : 'custom_coadd_window1_test1',\n",
    "                          'nb09b' : 'custom_coadd_window1_test1_nbdet',\n",
    "                          'cl02a' : 'custom_coadd_window1_cl00',\n",
    "                          'cl02b' : 'custom_coadd_window1_cl00_det'}"
   ]
  },
  {
   "cell_type": "code",
   "execution_count": 22,
   "id": "c9676f1b-01c8-447d-b724-db5b170ab78c",
   "metadata": {
    "execution": {
     "iopub.execute_input": "2023-11-16T18:28:44.936480Z",
     "iopub.status.busy": "2023-11-16T18:28:44.935772Z",
     "iopub.status.idle": "2023-11-16T18:28:44.956916Z",
     "shell.execute_reply": "2023-11-16T18:28:44.956166Z",
     "shell.execute_reply.started": "2023-11-16T18:28:44.936448Z"
    },
    "tags": []
   },
   "outputs": [
    {
     "name": "stdout",
     "output_type": "stream",
     "text": [
      "nb09a :   found  74 user collections from  24  unique users\n",
      "nb09b :   found  6 user collections from  2  unique users\n",
      "cl02a :   found  40 user collections from  5  unique users\n",
      "cl02b :   found  4 user collections from  3  unique users\n"
     ]
    }
   ],
   "source": [
    "found_any = np.zeros(len(colls), dtype=bool)\n",
    "for k in collection_names_exact.keys():\n",
    "    found = np.array([line.find(collection_names_exact[k]) != -1 for line in colls])\n",
    "    if k.find('a') != -1:\n",
    "        discount = np.array([line.find(collection_names_exact[k.replace('a', 'b')]) != -1 for line in colls])\n",
    "        found = np.logical_and(found, np.logical_not(discount))\n",
    "        \n",
    "    found_any = np.logical_or(found_any, found)\n",
    "    print(k + ' : ', ' found ', np.sum(found), 'user collections from ', len(np.unique(unames[found])), ' unique users')"
   ]
  },
  {
   "cell_type": "code",
   "execution_count": 23,
   "id": "754782f2-9cb4-4883-8e47-8cb4a8680d74",
   "metadata": {
    "execution": {
     "iopub.execute_input": "2023-11-16T18:28:44.958287Z",
     "iopub.status.busy": "2023-11-16T18:28:44.958055Z",
     "iopub.status.idle": "2023-11-16T18:28:44.967193Z",
     "shell.execute_reply": "2023-11-16T18:28:44.966423Z",
     "shell.execute_reply.started": "2023-11-16T18:28:44.958269Z"
    },
    "tags": []
   },
   "outputs": [],
   "source": [
    "if not anonymize:\n",
    "    print(\"list of unique user names with at least one Butler user collection matching that of a DP0.2 tutorial:\\n\")\n",
    "    print(np.unique(unames[found_any]))"
   ]
  },
  {
   "cell_type": "code",
   "execution_count": 24,
   "id": "f7264051-179c-4c42-929d-f2c0a806ffea",
   "metadata": {
    "execution": {
     "iopub.execute_input": "2023-11-16T18:28:44.968494Z",
     "iopub.status.busy": "2023-11-16T18:28:44.968177Z",
     "iopub.status.idle": "2023-11-16T18:28:44.981585Z",
     "shell.execute_reply": "2023-11-16T18:28:44.980761Z",
     "shell.execute_reply.started": "2023-11-16T18:28:44.968473Z"
    },
    "tags": []
   },
   "outputs": [
    {
     "name": "stdout",
     "output_type": "stream",
     "text": [
      "total number of RSP user collections arising from DP0.2 tutorials =  124\n"
     ]
    }
   ],
   "source": [
    "print(\"total number of RSP user collections arising from DP0.2 tutorials = \", np.sum(found_any))"
   ]
  },
  {
   "cell_type": "code",
   "execution_count": 25,
   "id": "7791f864-6176-470c-a57e-12d7ae5296d9",
   "metadata": {
    "execution": {
     "iopub.execute_input": "2023-11-16T18:28:44.982753Z",
     "iopub.status.busy": "2023-11-16T18:28:44.982529Z",
     "iopub.status.idle": "2023-11-16T18:28:44.995865Z",
     "shell.execute_reply": "2023-11-16T18:28:44.995120Z",
     "shell.execute_reply.started": "2023-11-16T18:28:44.982736Z"
    },
    "tags": []
   },
   "outputs": [
    {
     "name": "stdout",
     "output_type": "stream",
     "text": [
      "number of unique RSP user names with at least one user collection matching that of a DP0.2 tutorial =  25\n"
     ]
    }
   ],
   "source": [
    "print(\"number of unique RSP user names with at least one user collection matching that of a DP0.2 tutorial = \", len(np.unique(unames[found_any])))"
   ]
  },
  {
   "cell_type": "markdown",
   "id": "2e9968d7-b20b-4f42-a9b9-5ca58e55e67d",
   "metadata": {
    "execution": {
     "iopub.execute_input": "2023-11-12T11:00:51.292381Z",
     "iopub.status.busy": "2023-11-12T11:00:51.291846Z",
     "iopub.status.idle": "2023-11-12T11:00:51.294958Z",
     "shell.execute_reply": "2023-11-12T11:00:51.294457Z",
     "shell.execute_reply.started": "2023-11-12T11:00:51.292361Z"
    },
    "tags": []
   },
   "source": [
    "notes\n",
    "=====\n",
    "'$USER' shows up among the \"user names\", could imagine special-casing to remove that..."
   ]
  }
 ],
 "metadata": {
  "kernelspec": {
   "display_name": "LSST",
   "language": "python",
   "name": "lsst"
  },
  "language_info": {
   "codemirror_mode": {
    "name": "ipython",
    "version": 3
   },
   "file_extension": ".py",
   "mimetype": "text/x-python",
   "name": "python",
   "nbconvert_exporter": "python",
   "pygments_lexer": "ipython3",
   "version": "3.11.4"
  }
 },
 "nbformat": 4,
 "nbformat_minor": 5
}
