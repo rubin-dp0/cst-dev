{
 "cells": [
  {
   "cell_type": "code",
   "execution_count": 1,
   "id": "b0301e28-2c6c-4be0-820a-8d2628b05656",
   "metadata": {
    "execution": {
     "iopub.execute_input": "2023-11-12T11:03:13.223712Z",
     "iopub.status.busy": "2023-11-12T11:03:13.223344Z",
     "iopub.status.idle": "2023-11-12T11:03:14.391785Z",
     "shell.execute_reply": "2023-11-12T11:03:14.390968Z",
     "shell.execute_reply.started": "2023-11-12T11:03:13.223691Z"
    },
    "tags": []
   },
   "outputs": [],
   "source": [
    "import numpy as np\n",
    "from lsst.daf.butler import Butler\n",
    "import matplotlib.pyplot as plt"
   ]
  },
  {
   "cell_type": "code",
   "execution_count": 2,
   "id": "aacd35bc-d047-4418-8411-47b9db98c334",
   "metadata": {
    "execution": {
     "iopub.execute_input": "2023-11-12T11:03:14.395406Z",
     "iopub.status.busy": "2023-11-12T11:03:14.395188Z",
     "iopub.status.idle": "2023-11-12T11:03:14.398502Z",
     "shell.execute_reply": "2023-11-12T11:03:14.397871Z",
     "shell.execute_reply.started": "2023-11-12T11:03:14.395387Z"
    },
    "tags": []
   },
   "outputs": [],
   "source": [
    "anonymize = True\n",
    "butler_repo = 'dp02'"
   ]
  },
  {
   "cell_type": "code",
   "execution_count": 3,
   "id": "94ee0e4d-fcff-4a5b-98c4-6bc81f3527e9",
   "metadata": {
    "execution": {
     "iopub.execute_input": "2023-11-12T11:03:14.401521Z",
     "iopub.status.busy": "2023-11-12T11:03:14.401331Z",
     "iopub.status.idle": "2023-11-12T11:03:17.352596Z",
     "shell.execute_reply": "2023-11-12T11:03:17.351914Z",
     "shell.execute_reply.started": "2023-11-12T11:03:14.401504Z"
    },
    "tags": []
   },
   "outputs": [
    {
     "name": "stdout",
     "output_type": "stream",
     "text": [
      "2840\n"
     ]
    }
   ],
   "source": [
    "butler = Butler(butler_repo)\n",
    "\n",
    "lines = butler.registry.queryCollections('*u/*')\n",
    "lines.sort()\n",
    "print(len(lines))"
   ]
  },
  {
   "cell_type": "code",
   "execution_count": 4,
   "id": "5422aa55-ff0a-4fee-8dd3-f730f6f06fa9",
   "metadata": {
    "execution": {
     "iopub.execute_input": "2023-11-12T11:03:17.353813Z",
     "iopub.status.busy": "2023-11-12T11:03:17.353541Z",
     "iopub.status.idle": "2023-11-12T11:03:17.360867Z",
     "shell.execute_reply": "2023-11-12T11:03:17.360405Z",
     "shell.execute_reply.started": "2023-11-12T11:03:17.353793Z"
    },
    "tags": []
   },
   "outputs": [
    {
     "data": {
      "text/plain": [
       "981"
      ]
     },
     "execution_count": 4,
     "metadata": {},
     "output_type": "execute_result"
    }
   ],
   "source": [
    "lines = np.array(lines)\n",
    "# remove mobu test runs (https://github.com/lsst-sqre/mobu/)\n",
    "keep = [line.find('mobu') == -1 for line in lines]\n",
    "lines = lines[keep]\n",
    "len(lines)"
   ]
  },
  {
   "cell_type": "code",
   "execution_count": 5,
   "id": "84a92a4d-7005-49b1-a1c3-59f90bd67687",
   "metadata": {
    "execution": {
     "iopub.execute_input": "2023-11-12T11:03:17.361689Z",
     "iopub.status.busy": "2023-11-12T11:03:17.361513Z",
     "iopub.status.idle": "2023-11-12T11:03:18.013967Z",
     "shell.execute_reply": "2023-11-12T11:03:18.013285Z",
     "shell.execute_reply.started": "2023-11-12T11:03:17.361674Z"
    },
    "tags": []
   },
   "outputs": [],
   "source": [
    "# code to remove \"parent\" directories\n",
    "\n",
    "delete = np.zeros(len(lines), dtype=bool)\n",
    "for line in lines:\n",
    "    for i,o in enumerate(lines):\n",
    "        if o == line:\n",
    "            continue\n",
    "        if line.find(o) != -1:\n",
    "            delete[i] = True"
   ]
  },
  {
   "cell_type": "code",
   "execution_count": 6,
   "id": "c2ebd7a6-ed27-4c9c-aa12-8dd8cfc4b42e",
   "metadata": {
    "execution": {
     "iopub.execute_input": "2023-11-12T11:03:18.015001Z",
     "iopub.status.busy": "2023-11-12T11:03:18.014788Z",
     "iopub.status.idle": "2023-11-12T11:03:18.018228Z",
     "shell.execute_reply": "2023-11-12T11:03:18.017627Z",
     "shell.execute_reply.started": "2023-11-12T11:03:18.014985Z"
    },
    "tags": []
   },
   "outputs": [],
   "source": [
    "lines = lines[np.logical_not(delete)]"
   ]
  },
  {
   "cell_type": "code",
   "execution_count": 7,
   "id": "9571abaf-a2d2-4d88-b4d8-0090dd66f954",
   "metadata": {
    "execution": {
     "iopub.execute_input": "2023-11-12T11:03:18.019118Z",
     "iopub.status.busy": "2023-11-12T11:03:18.018878Z",
     "iopub.status.idle": "2023-11-12T11:03:18.033008Z",
     "shell.execute_reply": "2023-11-12T11:03:18.032528Z",
     "shell.execute_reply.started": "2023-11-12T11:03:18.019092Z"
    },
    "tags": []
   },
   "outputs": [],
   "source": [
    "unames = []\n",
    "\n",
    "for i,line in enumerate(lines):\n",
    "    p = line.find('u/')\n",
    "    #print(i)\n",
    "    assert(p >= 0)\n",
    "    lines[i] = line[(p+2):]\n",
    "    #print(lines[i])\n",
    "    tokens = lines[i].split('/')\n",
    "    unames.append(tokens[0])"
   ]
  },
  {
   "cell_type": "code",
   "execution_count": 8,
   "id": "95af8e63-7991-4f1f-958f-3322f2b864b5",
   "metadata": {
    "execution": {
     "iopub.execute_input": "2023-11-12T11:03:18.033759Z",
     "iopub.status.busy": "2023-11-12T11:03:18.033592Z",
     "iopub.status.idle": "2023-11-12T11:03:18.046150Z",
     "shell.execute_reply": "2023-11-12T11:03:18.045665Z",
     "shell.execute_reply.started": "2023-11-12T11:03:18.033743Z"
    },
    "tags": []
   },
   "outputs": [
    {
     "data": {
      "text/plain": [
       "724"
      ]
     },
     "execution_count": 8,
     "metadata": {},
     "output_type": "execute_result"
    }
   ],
   "source": [
    "len(unames)"
   ]
  },
  {
   "cell_type": "code",
   "execution_count": 9,
   "id": "8686a065-9eed-465e-b230-8b55755fab24",
   "metadata": {
    "execution": {
     "iopub.execute_input": "2023-11-12T11:03:18.047284Z",
     "iopub.status.busy": "2023-11-12T11:03:18.046796Z",
     "iopub.status.idle": "2023-11-12T11:03:18.060870Z",
     "shell.execute_reply": "2023-11-12T11:03:18.060231Z",
     "shell.execute_reply.started": "2023-11-12T11:03:18.047248Z"
    },
    "tags": []
   },
   "outputs": [
    {
     "name": "stdout",
     "output_type": "stream",
     "text": [
      "number of RSP dp02 Butler user collection =  67\n"
     ]
    }
   ],
   "source": [
    "print('number of RSP dp02 Butler user collection = ', len(np.unique(unames)))"
   ]
  },
  {
   "cell_type": "code",
   "execution_count": 10,
   "id": "6b6fa2cf-a42d-48bf-b7c5-72b9f9e49984",
   "metadata": {
    "execution": {
     "iopub.execute_input": "2023-11-12T11:03:18.061782Z",
     "iopub.status.busy": "2023-11-12T11:03:18.061592Z",
     "iopub.status.idle": "2023-11-12T11:03:18.075944Z",
     "shell.execute_reply": "2023-11-12T11:03:18.075408Z",
     "shell.execute_reply.started": "2023-11-12T11:03:18.061766Z"
    },
    "tags": []
   },
   "outputs": [
    {
     "name": "stdout",
     "output_type": "stream",
     "text": [
      "number of unique non-bot RSP users with a dp02 Butler user collection =  67\n"
     ]
    }
   ],
   "source": [
    "unames = np.array(unames)\n",
    "print('number of unique non-bot RSP users with a dp02 Butler user collection = ', len(np.unique(unames)))"
   ]
  },
  {
   "cell_type": "code",
   "execution_count": 11,
   "id": "d9793d98-4797-4389-a3fa-c077e36a95c3",
   "metadata": {
    "execution": {
     "iopub.execute_input": "2023-11-12T11:03:18.076855Z",
     "iopub.status.busy": "2023-11-12T11:03:18.076666Z",
     "iopub.status.idle": "2023-11-12T11:03:18.089546Z",
     "shell.execute_reply": "2023-11-12T11:03:18.088963Z",
     "shell.execute_reply.started": "2023-11-12T11:03:18.076840Z"
    },
    "tags": []
   },
   "outputs": [
    {
     "name": "stdout",
     "output_type": "stream",
     "text": [
      "number of unique RSP dp02 Butler user collections =  724\n"
     ]
    }
   ],
   "source": [
    "print('number of unique RSP dp02 Butler user collections = ', len(lines))"
   ]
  },
  {
   "cell_type": "code",
   "execution_count": 12,
   "id": "cc1761b8-6c75-446e-a0bb-911f7452d2b8",
   "metadata": {
    "execution": {
     "iopub.execute_input": "2023-11-12T11:03:18.090387Z",
     "iopub.status.busy": "2023-11-12T11:03:18.090195Z",
     "iopub.status.idle": "2023-11-12T11:03:18.103993Z",
     "shell.execute_reply": "2023-11-12T11:03:18.103497Z",
     "shell.execute_reply.started": "2023-11-12T11:03:18.090372Z"
    },
    "tags": []
   },
   "outputs": [
    {
     "name": "stdout",
     "output_type": "stream",
     "text": [
      "average number of RSP dp02 Butler user collections per username with at least one such collection =  10.8\n"
     ]
    }
   ],
   "source": [
    "print('average number of RSP dp02 Butler user collections per username with at least one such collection = ', '{:.1f}'.format(float(len(lines))/len(np.unique(unames))))"
   ]
  },
  {
   "cell_type": "code",
   "execution_count": 13,
   "id": "5fa7f570-499f-46c5-9a3b-6dbbae63a6b2",
   "metadata": {
    "execution": {
     "iopub.execute_input": "2023-11-12T11:03:18.105096Z",
     "iopub.status.busy": "2023-11-12T11:03:18.104670Z",
     "iopub.status.idle": "2023-11-12T11:03:18.117498Z",
     "shell.execute_reply": "2023-11-12T11:03:18.116962Z",
     "shell.execute_reply.started": "2023-11-12T11:03:18.105079Z"
    },
    "tags": []
   },
   "outputs": [],
   "source": [
    "if not anonymize:\n",
    "    print(np.unique(unames))"
   ]
  },
  {
   "cell_type": "code",
   "execution_count": 14,
   "id": "3850c65f-f179-4c30-b917-232304fb988f",
   "metadata": {
    "execution": {
     "iopub.execute_input": "2023-11-12T11:03:18.118279Z",
     "iopub.status.busy": "2023-11-12T11:03:18.118096Z",
     "iopub.status.idle": "2023-11-12T11:03:19.244721Z",
     "shell.execute_reply": "2023-11-12T11:03:19.244050Z",
     "shell.execute_reply.started": "2023-11-12T11:03:18.118266Z"
    },
    "tags": []
   },
   "outputs": [
    {
     "data": {
      "text/plain": [
       "Text(0.5, 0, 'user name')"
      ]
     },
     "execution_count": 14,
     "metadata": {},
     "output_type": "execute_result"
    },
    {
     "data": {
      "image/png": "[encoded data removed]",
      "text/plain": [
       "<Figure size 1200x500 with 1 Axes>"
      ]
     },
     "metadata": {},
     "output_type": "display_data"
    }
   ],
   "source": [
    "# make a histogram of these usernames ?\n",
    "\n",
    "import pandas\n",
    "from collections import Counter\n",
    "\n",
    "uname_counts = Counter(unames)\n",
    "df = pandas.DataFrame.from_dict(uname_counts, orient='index', columns=['ncoll'])\n",
    "df.sort_values(by='ncoll', ascending=False, inplace=True)\n",
    "df\n",
    "df.plot(kind='bar', use_index=(not anonymize), legend=False, figsize=(12, 5), logy=True, xlabel='user name', ylabel='collections per user')\n",
    "plt.xlabel('user name')"
   ]
  },
  {
   "cell_type": "markdown",
   "id": "2e9968d7-b20b-4f42-a9b9-5ca58e55e67d",
   "metadata": {
    "execution": {
     "iopub.execute_input": "2023-11-12T11:00:51.292381Z",
     "iopub.status.busy": "2023-11-12T11:00:51.291846Z",
     "iopub.status.idle": "2023-11-12T11:00:51.294958Z",
     "shell.execute_reply": "2023-11-12T11:00:51.294457Z",
     "shell.execute_reply.started": "2023-11-12T11:00:51.292361Z"
    },
    "tags": []
   },
   "source": [
    "notes\n",
    "=====\n",
    "'$USER' shows up among the \"user names\"..."
   ]
  }
 ],
 "metadata": {
  "kernelspec": {
   "display_name": "LSST",
   "language": "python",
   "name": "lsst"
  },
  "language_info": {
   "codemirror_mode": {
    "name": "ipython",
    "version": 3
   },
   "file_extension": ".py",
   "mimetype": "text/x-python",
   "name": "python",
   "nbconvert_exporter": "python",
   "pygments_lexer": "ipython3",
   "version": "3.11.4"
  }
 },
 "nbformat": 4,
 "nbformat_minor": 5
}
