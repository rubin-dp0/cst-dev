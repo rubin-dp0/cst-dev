{
 "cells": [
  {
   "cell_type": "code",
   "execution_count": 1,
   "id": "b0301e28-2c6c-4be0-820a-8d2628b05656",
   "metadata": {
    "execution": {
     "iopub.execute_input": "2023-11-12T14:07:55.902424Z",
     "iopub.status.busy": "2023-11-12T14:07:55.902250Z",
     "iopub.status.idle": "2023-11-12T14:07:57.633009Z",
     "shell.execute_reply": "2023-11-12T14:07:57.632401Z",
     "shell.execute_reply.started": "2023-11-12T14:07:55.902407Z"
    },
    "tags": []
   },
   "outputs": [],
   "source": [
    "import numpy as np\n",
    "from lsst.daf.butler import Butler\n",
    "import matplotlib.pyplot as plt\n",
    "import os\n",
    "import time\n",
    "import pandas\n",
    "from collections import Counter"
   ]
  },
  {
   "cell_type": "code",
   "execution_count": 2,
   "id": "aacd35bc-d047-4418-8411-47b9db98c334",
   "metadata": {
    "execution": {
     "iopub.execute_input": "2023-11-12T14:07:57.634264Z",
     "iopub.status.busy": "2023-11-12T14:07:57.633754Z",
     "iopub.status.idle": "2023-11-12T14:07:57.636975Z",
     "shell.execute_reply": "2023-11-12T14:07:57.636474Z",
     "shell.execute_reply.started": "2023-11-12T14:07:57.634241Z"
    },
    "tags": []
   },
   "outputs": [],
   "source": [
    "anonymize = True\n",
    "butler_repo = 'dp02'"
   ]
  },
  {
   "cell_type": "code",
   "execution_count": 3,
   "id": "db0c4732-2d85-4cee-b8fc-e5b77c6f796e",
   "metadata": {
    "execution": {
     "iopub.execute_input": "2023-11-12T14:07:57.637949Z",
     "iopub.status.busy": "2023-11-12T14:07:57.637639Z",
     "iopub.status.idle": "2023-11-12T14:07:57.650929Z",
     "shell.execute_reply": "2023-11-12T14:07:57.650294Z",
     "shell.execute_reply.started": "2023-11-12T14:07:57.637931Z"
    },
    "tags": []
   },
   "outputs": [
    {
     "name": "stdout",
     "output_type": "stream",
     "text": [
      "running RSP Butler user collection analysis on date =  2023-11-12\n"
     ]
    }
   ],
   "source": [
    "print(\"running RSP Butler user collection analysis on date = \", time.strftime(\"%Y-%m-%d\"))"
   ]
  },
  {
   "cell_type": "code",
   "execution_count": 4,
   "id": "94ee0e4d-fcff-4a5b-98c4-6bc81f3527e9",
   "metadata": {
    "execution": {
     "iopub.execute_input": "2023-11-12T14:07:57.651894Z",
     "iopub.status.busy": "2023-11-12T14:07:57.651657Z",
     "iopub.status.idle": "2023-11-12T14:08:00.551212Z",
     "shell.execute_reply": "2023-11-12T14:08:00.550640Z",
     "shell.execute_reply.started": "2023-11-12T14:07:57.651877Z"
    },
    "tags": []
   },
   "outputs": [
    {
     "name": "stdout",
     "output_type": "stream",
     "text": [
      "total number of candidate RSP Butler user collections found =  2840\n"
     ]
    }
   ],
   "source": [
    "butler = Butler(butler_repo)\n",
    "\n",
    "colls = butler.registry.queryCollections('*u/*')\n",
    "colls.sort()\n",
    "print(\"total number of candidate RSP Butler user collections found = \", len(colls))"
   ]
  },
  {
   "cell_type": "code",
   "execution_count": 5,
   "id": "5422aa55-ff0a-4fee-8dd3-f730f6f06fa9",
   "metadata": {
    "execution": {
     "iopub.execute_input": "2023-11-12T14:08:00.552154Z",
     "iopub.status.busy": "2023-11-12T14:08:00.551950Z",
     "iopub.status.idle": "2023-11-12T14:08:00.558841Z",
     "shell.execute_reply": "2023-11-12T14:08:00.558344Z",
     "shell.execute_reply.started": "2023-11-12T14:08:00.552137Z"
    },
    "tags": []
   },
   "outputs": [
    {
     "name": "stdout",
     "output_type": "stream",
     "text": [
      "total number of RSP Butler user collections retained =  981\n"
     ]
    }
   ],
   "source": [
    "colls = np.array(colls)\n",
    "# remove mobu test runs (https://github.com/lsst-sqre/mobu/)\n",
    "keep = [line.find('mobu') == -1 for line in colls]\n",
    "colls = colls[keep]\n",
    "print(\"total number of RSP Butler user collections retained = \", len(colls))"
   ]
  },
  {
   "cell_type": "code",
   "execution_count": 6,
   "id": "84a92a4d-7005-49b1-a1c3-59f90bd67687",
   "metadata": {
    "execution": {
     "iopub.execute_input": "2023-11-12T14:08:00.559699Z",
     "iopub.status.busy": "2023-11-12T14:08:00.559517Z",
     "iopub.status.idle": "2023-11-12T14:08:01.207403Z",
     "shell.execute_reply": "2023-11-12T14:08:01.206748Z",
     "shell.execute_reply.started": "2023-11-12T14:08:00.559683Z"
    },
    "tags": []
   },
   "outputs": [],
   "source": [
    "# remove \"parent\" directories\n",
    "\n",
    "delete = np.zeros(len(colls), dtype=bool)\n",
    "for line in colls:\n",
    "    for i,o in enumerate(colls):\n",
    "        if o == line:\n",
    "            continue\n",
    "        if line.find(o) != -1:\n",
    "            delete[i] = True"
   ]
  },
  {
   "cell_type": "code",
   "execution_count": 7,
   "id": "c2ebd7a6-ed27-4c9c-aa12-8dd8cfc4b42e",
   "metadata": {
    "execution": {
     "iopub.execute_input": "2023-11-12T14:08:01.208731Z",
     "iopub.status.busy": "2023-11-12T14:08:01.208232Z",
     "iopub.status.idle": "2023-11-12T14:08:01.211615Z",
     "shell.execute_reply": "2023-11-12T14:08:01.211096Z",
     "shell.execute_reply.started": "2023-11-12T14:08:01.208711Z"
    },
    "tags": []
   },
   "outputs": [],
   "source": [
    "colls = colls[np.logical_not(delete)]"
   ]
  },
  {
   "cell_type": "code",
   "execution_count": 8,
   "id": "9571abaf-a2d2-4d88-b4d8-0090dd66f954",
   "metadata": {
    "execution": {
     "iopub.execute_input": "2023-11-12T14:08:01.212515Z",
     "iopub.status.busy": "2023-11-12T14:08:01.212342Z",
     "iopub.status.idle": "2023-11-12T14:08:01.231418Z",
     "shell.execute_reply": "2023-11-12T14:08:01.230878Z",
     "shell.execute_reply.started": "2023-11-12T14:08:01.212499Z"
    },
    "tags": []
   },
   "outputs": [],
   "source": [
    "unames = []\n",
    "\n",
    "for i,line in enumerate(colls):\n",
    "    p = line.find('u/')\n",
    "    #print(i)\n",
    "    assert(p >= 0)\n",
    "    colls[i] = line[(p+2):]\n",
    "    tokens = colls[i].split('/')\n",
    "    unames.append(tokens[0])"
   ]
  },
  {
   "cell_type": "code",
   "execution_count": 9,
   "id": "6b6fa2cf-a42d-48bf-b7c5-72b9f9e49984",
   "metadata": {
    "execution": {
     "iopub.execute_input": "2023-11-12T14:08:01.232447Z",
     "iopub.status.busy": "2023-11-12T14:08:01.232251Z",
     "iopub.status.idle": "2023-11-12T14:08:01.245473Z",
     "shell.execute_reply": "2023-11-12T14:08:01.244932Z",
     "shell.execute_reply.started": "2023-11-12T14:08:01.232432Z"
    },
    "tags": []
   },
   "outputs": [
    {
     "name": "stdout",
     "output_type": "stream",
     "text": [
      "number of unique non-bot RSP user names with a dp02 Butler user collection =  67\n"
     ]
    }
   ],
   "source": [
    "unames = np.array(unames)\n",
    "print('number of unique non-bot RSP user names with a dp02 Butler user collection = ', len(np.unique(unames)))"
   ]
  },
  {
   "cell_type": "code",
   "execution_count": 10,
   "id": "d9793d98-4797-4389-a3fa-c077e36a95c3",
   "metadata": {
    "execution": {
     "iopub.execute_input": "2023-11-12T14:08:01.246346Z",
     "iopub.status.busy": "2023-11-12T14:08:01.246165Z",
     "iopub.status.idle": "2023-11-12T14:08:01.257384Z",
     "shell.execute_reply": "2023-11-12T14:08:01.256879Z",
     "shell.execute_reply.started": "2023-11-12T14:08:01.246332Z"
    },
    "tags": []
   },
   "outputs": [
    {
     "name": "stdout",
     "output_type": "stream",
     "text": [
      "number of unique RSP dp02 Butler user collections =  724\n"
     ]
    }
   ],
   "source": [
    "print('number of unique RSP dp02 Butler user collections = ', len(colls))"
   ]
  },
  {
   "cell_type": "code",
   "execution_count": 11,
   "id": "cc1761b8-6c75-446e-a0bb-911f7452d2b8",
   "metadata": {
    "execution": {
     "iopub.execute_input": "2023-11-12T14:08:01.258248Z",
     "iopub.status.busy": "2023-11-12T14:08:01.258061Z",
     "iopub.status.idle": "2023-11-12T14:08:01.271031Z",
     "shell.execute_reply": "2023-11-12T14:08:01.270555Z",
     "shell.execute_reply.started": "2023-11-12T14:08:01.258233Z"
    },
    "tags": []
   },
   "outputs": [
    {
     "name": "stdout",
     "output_type": "stream",
     "text": [
      "average number of RSP dp02 Butler user collections per user name with at least one such collection =  10.8\n"
     ]
    }
   ],
   "source": [
    "print('average number of RSP dp02 Butler user collections per user name with at least one such collection = ', '{:.1f}'.format(float(len(colls))/len(np.unique(unames))))"
   ]
  },
  {
   "cell_type": "code",
   "execution_count": 12,
   "id": "5fa7f570-499f-46c5-9a3b-6dbbae63a6b2",
   "metadata": {
    "execution": {
     "iopub.execute_input": "2023-11-12T14:08:01.271949Z",
     "iopub.status.busy": "2023-11-12T14:08:01.271714Z",
     "iopub.status.idle": "2023-11-12T14:08:01.283719Z",
     "shell.execute_reply": "2023-11-12T14:08:01.283260Z",
     "shell.execute_reply.started": "2023-11-12T14:08:01.271933Z"
    },
    "tags": []
   },
   "outputs": [],
   "source": [
    "if not anonymize:\n",
    "    print(\"list of RSP user names with at least one Butler user collection on RSP:\\n\")\n",
    "    print(np.unique(unames))"
   ]
  },
  {
   "cell_type": "code",
   "execution_count": 27,
   "id": "3850c65f-f179-4c30-b917-232304fb988f",
   "metadata": {
    "execution": {
     "iopub.execute_input": "2023-11-12T14:08:45.737322Z",
     "iopub.status.busy": "2023-11-12T14:08:45.736391Z",
     "iopub.status.idle": "2023-11-12T14:08:46.392545Z",
     "shell.execute_reply": "2023-11-12T14:08:46.391969Z",
     "shell.execute_reply.started": "2023-11-12T14:08:45.737293Z"
    },
    "tags": []
   },
   "outputs": [
    {
     "data": {
      "image/png": "[encoded data removed]",
      "text/plain": [
       "<Figure size 1200x500 with 1 Axes>"
      ]
     },
     "metadata": {},
     "output_type": "display_data"
    }
   ],
   "source": [
    "uname_counts = Counter(unames)\n",
    "df = pandas.DataFrame.from_dict(uname_counts, orient='index', columns=['ncoll'])\n",
    "df.sort_values(by='ncoll', ascending=False, inplace=True)\n",
    "df\n",
    "df.plot(kind='bar', use_index=(not anonymize), legend=False, figsize=(12, 5), logy=True, xlabel='user name', ylabel='collections per user')\n",
    "_ = plt.xlabel('user name')"
   ]
  },
  {
   "cell_type": "code",
   "execution_count": 14,
   "id": "d5bff1e9-d8cb-486d-a5bf-08058a87fc48",
   "metadata": {
    "execution": {
     "iopub.execute_input": "2023-11-12T14:08:02.042433Z",
     "iopub.status.busy": "2023-11-12T14:08:02.042235Z",
     "iopub.status.idle": "2023-11-12T14:08:02.045520Z",
     "shell.execute_reply": "2023-11-12T14:08:02.045053Z",
     "shell.execute_reply.started": "2023-11-12T14:08:02.042418Z"
    },
    "tags": []
   },
   "outputs": [],
   "source": [
    "def is_timestamp(string):\n",
    "    return (len(string) == 16) and (string[-1] == 'Z') and (string[0:2] == '20')"
   ]
  },
  {
   "cell_type": "code",
   "execution_count": 15,
   "id": "a0bc6ccc-afd6-46f2-9d53-bf5d7d91e6b5",
   "metadata": {
    "execution": {
     "iopub.execute_input": "2023-11-12T14:08:02.046315Z",
     "iopub.status.busy": "2023-11-12T14:08:02.046144Z",
     "iopub.status.idle": "2023-11-12T14:08:02.059616Z",
     "shell.execute_reply": "2023-11-12T14:08:02.059132Z",
     "shell.execute_reply.started": "2023-11-12T14:08:02.046299Z"
    },
    "tags": []
   },
   "outputs": [],
   "source": [
    "has_timestamp = np.zeros(len(colls), dtype=bool)\n",
    "for i, line in enumerate(colls):\n",
    "    has_timestamp[i] = is_timestamp(os.path.basename(line))"
   ]
  },
  {
   "cell_type": "code",
   "execution_count": 16,
   "id": "8a4a5cba-a047-44b6-ba73-cc763bea0b6f",
   "metadata": {
    "execution": {
     "iopub.execute_input": "2023-11-12T14:08:02.060384Z",
     "iopub.status.busy": "2023-11-12T14:08:02.060211Z",
     "iopub.status.idle": "2023-11-12T14:08:02.073066Z",
     "shell.execute_reply": "2023-11-12T14:08:02.072589Z",
     "shell.execute_reply.started": "2023-11-12T14:08:02.060369Z"
    },
    "tags": []
   },
   "outputs": [
    {
     "name": "stdout",
     "output_type": "stream",
     "text": [
      "number of timestamp RSP Butler user collections =  670\n",
      "number of non-timestamp RSP Butler user collections =  54\n"
     ]
    }
   ],
   "source": [
    "print(\"number of timestamp RSP Butler user collections = \", np.sum(has_timestamp))\n",
    "print(\"number of non-timestamp RSP Butler user collections = \", np.sum(np.logical_not(has_timestamp)))"
   ]
  },
  {
   "cell_type": "code",
   "execution_count": 17,
   "id": "88c166c3-99a2-42c3-86dd-6cc1163d7329",
   "metadata": {
    "execution": {
     "iopub.execute_input": "2023-11-12T14:08:02.073825Z",
     "iopub.status.busy": "2023-11-12T14:08:02.073666Z",
     "iopub.status.idle": "2023-11-12T14:08:02.086593Z",
     "shell.execute_reply": "2023-11-12T14:08:02.086104Z",
     "shell.execute_reply.started": "2023-11-12T14:08:02.073811Z"
    },
    "tags": []
   },
   "outputs": [],
   "source": [
    "years = [os.path.basename(s)[0:4] for s in colls[has_timestamp]]"
   ]
  },
  {
   "cell_type": "code",
   "execution_count": 18,
   "id": "38acb2a6-d173-4368-b177-350d29610ac5",
   "metadata": {
    "execution": {
     "iopub.execute_input": "2023-11-12T14:08:02.087406Z",
     "iopub.status.busy": "2023-11-12T14:08:02.087234Z",
     "iopub.status.idle": "2023-11-12T14:08:02.100028Z",
     "shell.execute_reply": "2023-11-12T14:08:02.099555Z",
     "shell.execute_reply.started": "2023-11-12T14:08:02.087392Z"
    },
    "tags": []
   },
   "outputs": [
    {
     "name": "stdout",
     "output_type": "stream",
     "text": [
      "unique calendar years for timestamp Butler user collection directories:\n",
      "\n",
      "['2021' '2022' '2023']\n"
     ]
    }
   ],
   "source": [
    "print(\"unique calendar years for timestamp Butler user collection directories:\\n\")\n",
    "print(np.unique(years))"
   ]
  },
  {
   "cell_type": "code",
   "execution_count": 19,
   "id": "5dc607fe-8755-4e98-8e2d-80aab267e70a",
   "metadata": {
    "execution": {
     "iopub.execute_input": "2023-11-12T14:08:02.100788Z",
     "iopub.status.busy": "2023-11-12T14:08:02.100622Z",
     "iopub.status.idle": "2023-11-12T14:08:02.112500Z",
     "shell.execute_reply": "2023-11-12T14:08:02.111983Z",
     "shell.execute_reply.started": "2023-11-12T14:08:02.100774Z"
    },
    "tags": []
   },
   "outputs": [],
   "source": [
    "years = np.array(years, dtype=float)"
   ]
  },
  {
   "cell_type": "code",
   "execution_count": 26,
   "id": "fca3b044-6478-4f3a-8ad2-159189e24648",
   "metadata": {
    "execution": {
     "iopub.execute_input": "2023-11-12T14:08:38.395134Z",
     "iopub.status.busy": "2023-11-12T14:08:38.394391Z",
     "iopub.status.idle": "2023-11-12T14:08:38.526062Z",
     "shell.execute_reply": "2023-11-12T14:08:38.525469Z",
     "shell.execute_reply.started": "2023-11-12T14:08:38.395098Z"
    },
    "tags": []
   },
   "outputs": [
    {
     "data": {
      "image/png": "[encoded data removed]",
      "text/plain": [
       "<Figure size 640x480 with 1 Axes>"
      ]
     },
     "metadata": {},
     "output_type": "display_data"
    }
   ],
   "source": [
    "# could try making a version normalized to the amount of time in the current year that's actually passed\n",
    "\n",
    "bins = np.arange(np.min(years)-0.5,np.max(years)+1.5,1)\n",
    "plt.hist(years, bins=bins)\n",
    "plt.xticks(np.unique(years))\n",
    "plt.xlabel('calendar year')\n",
    "_ = plt.ylabel('number of timestamp user ')"
   ]
  },
  {
   "cell_type": "code",
   "execution_count": 21,
   "id": "7c4a400d-1c83-475b-b4f8-6c6bbe0ea15b",
   "metadata": {
    "execution": {
     "iopub.execute_input": "2023-11-12T14:08:02.254473Z",
     "iopub.status.busy": "2023-11-12T14:08:02.254035Z",
     "iopub.status.idle": "2023-11-12T14:08:02.257421Z",
     "shell.execute_reply": "2023-11-12T14:08:02.256891Z",
     "shell.execute_reply.started": "2023-11-12T14:08:02.254453Z"
    },
    "tags": []
   },
   "outputs": [],
   "source": [
    "# now make a list of search strings that identify DP0.2 tutorials involving \n",
    "\n",
    "# nb09a = DP0.2 notebook tutorial 09a\n",
    "# nb09b = DP0.2 notebook tutorial 09b\n",
    "    # note that this was only put into production a few days ago as of this writing !!!\n",
    "    # previously nb09b did not persist any outputs (all in-memory)\n",
    "# cl02a = DP0.2 command line tutorial 02, the part corresponding to notebook tutorial 09a\n",
    "# cl02b = DP0.2 command line tutorial 02, the part corresponding to notebook tutorial 09b\n",
    "    # note that this was only put into production a few days ago as of this writing !!!\n",
    "\n",
    "collection_names_exact = {'nb09a' : 'custom_coadd_window1_test1',\n",
    "                          'nb09b' : 'custom_coadd_window1_test1_nbdet',\n",
    "                          'cl02a' : 'custom_coadd_window1_cl00',\n",
    "                          'cl02b' : 'custom_coadd_window1_cl00_det'}"
   ]
  },
  {
   "cell_type": "code",
   "execution_count": 22,
   "id": "c9676f1b-01c8-447d-b724-db5b170ab78c",
   "metadata": {
    "execution": {
     "iopub.execute_input": "2023-11-12T14:08:02.261261Z",
     "iopub.status.busy": "2023-11-12T14:08:02.260820Z",
     "iopub.status.idle": "2023-11-12T14:08:02.275519Z",
     "shell.execute_reply": "2023-11-12T14:08:02.275002Z",
     "shell.execute_reply.started": "2023-11-12T14:08:02.261240Z"
    },
    "tags": []
   },
   "outputs": [
    {
     "name": "stdout",
     "output_type": "stream",
     "text": [
      "nb09a :   found  74 user collections from  24  unique users\n",
      "nb09b :   found  6 user collections from  2  unique users\n",
      "cl02a :   found  40 user collections from  5  unique users\n",
      "cl02b :   found  4 user collections from  3  unique users\n"
     ]
    }
   ],
   "source": [
    "found_any = np.zeros(len(colls), dtype=bool)\n",
    "for k in collection_names_exact.keys():\n",
    "    found = np.array([line.find(collection_names_exact[k]) != -1 for line in colls])\n",
    "    if k.find('a') != -1:\n",
    "        discount = np.array([line.find(collection_names_exact[k.replace('a', 'b')]) != -1 for line in colls])\n",
    "        found = np.logical_and(found, np.logical_not(discount))\n",
    "        \n",
    "    found_any = np.logical_or(found_any, found)\n",
    "    print(k + ' : ', ' found ', np.sum(found), 'user collections from ', len(np.unique(unames[found])), ' unique users')"
   ]
  },
  {
   "cell_type": "code",
   "execution_count": 23,
   "id": "754782f2-9cb4-4883-8e47-8cb4a8680d74",
   "metadata": {
    "execution": {
     "iopub.execute_input": "2023-11-12T14:08:02.287437Z",
     "iopub.status.busy": "2023-11-12T14:08:02.287230Z",
     "iopub.status.idle": "2023-11-12T14:08:02.290284Z",
     "shell.execute_reply": "2023-11-12T14:08:02.289820Z",
     "shell.execute_reply.started": "2023-11-12T14:08:02.287418Z"
    },
    "tags": []
   },
   "outputs": [],
   "source": [
    "if not anonymize:\n",
    "    print(\"list of unique user names with at one Butler user collection matching that of a DP0.2 tutorial:\\n\")\n",
    "    print(np.unique(unames[found_any]))"
   ]
  },
  {
   "cell_type": "code",
   "execution_count": 24,
   "id": "f7264051-179c-4c42-929d-f2c0a806ffea",
   "metadata": {
    "execution": {
     "iopub.execute_input": "2023-11-12T14:08:02.291158Z",
     "iopub.status.busy": "2023-11-12T14:08:02.290914Z",
     "iopub.status.idle": "2023-11-12T14:08:02.302001Z",
     "shell.execute_reply": "2023-11-12T14:08:02.301542Z",
     "shell.execute_reply.started": "2023-11-12T14:08:02.291143Z"
    },
    "tags": []
   },
   "outputs": [
    {
     "name": "stdout",
     "output_type": "stream",
     "text": [
      "total number of RSP user collections arising from DP0.2 tutorials =  124\n"
     ]
    }
   ],
   "source": [
    "print(\"total number of RSP user collections arising from DP0.2 tutorials = \", np.sum(found_any))"
   ]
  },
  {
   "cell_type": "code",
   "execution_count": 25,
   "id": "7791f864-6176-470c-a57e-12d7ae5296d9",
   "metadata": {
    "execution": {
     "iopub.execute_input": "2023-11-12T14:08:02.302982Z",
     "iopub.status.busy": "2023-11-12T14:08:02.302649Z",
     "iopub.status.idle": "2023-11-12T14:08:02.313729Z",
     "shell.execute_reply": "2023-11-12T14:08:02.313268Z",
     "shell.execute_reply.started": "2023-11-12T14:08:02.302966Z"
    },
    "tags": []
   },
   "outputs": [
    {
     "name": "stdout",
     "output_type": "stream",
     "text": [
      "number of unique RSP user names with at least one user collection matching that of a DP0.2 tutorial =  25\n"
     ]
    }
   ],
   "source": [
    "print(\"number of unique RSP user names with at least one user collection matching that of a DP0.2 tutorial = \", len(np.unique(unames[found_any])))"
   ]
  },
  {
   "cell_type": "markdown",
   "id": "2e9968d7-b20b-4f42-a9b9-5ca58e55e67d",
   "metadata": {
    "execution": {
     "iopub.execute_input": "2023-11-12T11:00:51.292381Z",
     "iopub.status.busy": "2023-11-12T11:00:51.291846Z",
     "iopub.status.idle": "2023-11-12T11:00:51.294958Z",
     "shell.execute_reply": "2023-11-12T11:00:51.294457Z",
     "shell.execute_reply.started": "2023-11-12T11:00:51.292361Z"
    },
    "tags": []
   },
   "source": [
    "notes\n",
    "=====\n",
    "'$USER' shows up among the \"user names\", could imagine special-casing to remove that..."
   ]
  }
 ],
 "metadata": {
  "kernelspec": {
   "display_name": "LSST",
   "language": "python",
   "name": "lsst"
  },
  "language_info": {
   "codemirror_mode": {
    "name": "ipython",
    "version": 3
   },
   "file_extension": ".py",
   "mimetype": "text/x-python",
   "name": "python",
   "nbconvert_exporter": "python",
   "pygments_lexer": "ipython3",
   "version": "3.11.4"
  }
 },
 "nbformat": 4,
 "nbformat_minor": 5
}
