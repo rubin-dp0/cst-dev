{
 "cells": [
  {
   "cell_type": "code",
   "execution_count": 1,
   "id": "aacd35bc-d047-4418-8411-47b9db98c334",
   "metadata": {
    "execution": {
     "iopub.execute_input": "2023-11-10T20:56:19.243249Z",
     "iopub.status.busy": "2023-11-10T20:56:19.243061Z",
     "iopub.status.idle": "2023-11-10T20:56:19.290604Z",
     "shell.execute_reply": "2023-11-10T20:56:19.288974Z",
     "shell.execute_reply.started": "2023-11-10T20:56:19.243233Z"
    },
    "tags": []
   },
   "outputs": [],
   "source": [
    "import numpy as np\n",
    "anonymize = True"
   ]
  },
  {
   "cell_type": "code",
   "execution_count": 2,
   "id": "94ee0e4d-fcff-4a5b-98c4-6bc81f3527e9",
   "metadata": {
    "execution": {
     "iopub.execute_input": "2023-11-10T20:56:19.294053Z",
     "iopub.status.busy": "2023-11-10T20:56:19.293885Z",
     "iopub.status.idle": "2023-11-10T20:56:19.307604Z",
     "shell.execute_reply": "2023-11-10T20:56:19.307102Z",
     "shell.execute_reply.started": "2023-11-10T20:56:19.294038Z"
    },
    "tags": []
   },
   "outputs": [],
   "source": [
    "filename = 'user_collections.txt'\n",
    "with open(filename, \"r\") as f:\n",
    "    lines = f.readlines()\n",
    "f.close()"
   ]
  },
  {
   "cell_type": "code",
   "execution_count": 3,
   "id": "5422aa55-ff0a-4fee-8dd3-f730f6f06fa9",
   "metadata": {
    "execution": {
     "iopub.execute_input": "2023-11-10T20:56:19.310127Z",
     "iopub.status.busy": "2023-11-10T20:56:19.309829Z",
     "iopub.status.idle": "2023-11-10T20:56:19.325037Z",
     "shell.execute_reply": "2023-11-10T20:56:19.324458Z",
     "shell.execute_reply.started": "2023-11-10T20:56:19.310100Z"
    },
    "tags": []
   },
   "outputs": [
    {
     "data": {
      "text/plain": [
       "1697"
      ]
     },
     "execution_count": 3,
     "metadata": {},
     "output_type": "execute_result"
    }
   ],
   "source": [
    "lines = np.array(lines)\n",
    "# remove mobu test runs (https://github.com/lsst-sqre/mobu/)\n",
    "keep = [line.find('mobu') == -1 for line in lines]\n",
    "lines = lines[keep]\n",
    "len(lines)"
   ]
  },
  {
   "cell_type": "code",
   "execution_count": 4,
   "id": "9571abaf-a2d2-4d88-b4d8-0090dd66f954",
   "metadata": {
    "execution": {
     "iopub.execute_input": "2023-11-10T20:56:19.325829Z",
     "iopub.status.busy": "2023-11-10T20:56:19.325658Z",
     "iopub.status.idle": "2023-11-10T20:56:19.336409Z",
     "shell.execute_reply": "2023-11-10T20:56:19.335792Z",
     "shell.execute_reply.started": "2023-11-10T20:56:19.325814Z"
    },
    "tags": []
   },
   "outputs": [],
   "source": [
    "unames = []\n",
    "\n",
    "for i,line in enumerate(lines):\n",
    "    p = line.find('u/')\n",
    "    #print(i)\n",
    "    assert(p >= 0)\n",
    "    lines[i] = line[(p+2):]\n",
    "    #print(lines[i])\n",
    "    tokens = lines[i].split('/')\n",
    "    unames.append(tokens[0])"
   ]
  },
  {
   "cell_type": "code",
   "execution_count": 5,
   "id": "95af8e63-7991-4f1f-958f-3322f2b864b5",
   "metadata": {
    "execution": {
     "iopub.execute_input": "2023-11-10T20:56:19.337170Z",
     "iopub.status.busy": "2023-11-10T20:56:19.336995Z",
     "iopub.status.idle": "2023-11-10T20:56:19.350494Z",
     "shell.execute_reply": "2023-11-10T20:56:19.349917Z",
     "shell.execute_reply.started": "2023-11-10T20:56:19.337154Z"
    },
    "tags": []
   },
   "outputs": [
    {
     "data": {
      "text/plain": [
       "1697"
      ]
     },
     "execution_count": 5,
     "metadata": {},
     "output_type": "execute_result"
    }
   ],
   "source": [
    "len(unames)"
   ]
  },
  {
   "cell_type": "code",
   "execution_count": 6,
   "id": "8686a065-9eed-465e-b230-8b55755fab24",
   "metadata": {
    "execution": {
     "iopub.execute_input": "2023-11-10T20:56:19.351527Z",
     "iopub.status.busy": "2023-11-10T20:56:19.351158Z",
     "iopub.status.idle": "2023-11-10T20:56:19.364782Z",
     "shell.execute_reply": "2023-11-10T20:56:19.364234Z",
     "shell.execute_reply.started": "2023-11-10T20:56:19.351508Z"
    },
    "tags": []
   },
   "outputs": [
    {
     "name": "stdout",
     "output_type": "stream",
     "text": [
      "number of RSP dp02 Butler user collection =  65\n"
     ]
    },
    {
     "data": {
      "text/plain": [
       "1697"
      ]
     },
     "execution_count": 6,
     "metadata": {},
     "output_type": "execute_result"
    }
   ],
   "source": [
    "print('number of RSP dp02 Butler user collection = ', len(np.unique(unames)))\n",
    "len(lines)"
   ]
  },
  {
   "cell_type": "code",
   "execution_count": 7,
   "id": "6b6fa2cf-a42d-48bf-b7c5-72b9f9e49984",
   "metadata": {
    "execution": {
     "iopub.execute_input": "2023-11-10T20:56:19.365524Z",
     "iopub.status.busy": "2023-11-10T20:56:19.365359Z",
     "iopub.status.idle": "2023-11-10T20:56:19.375336Z",
     "shell.execute_reply": "2023-11-10T20:56:19.374732Z",
     "shell.execute_reply.started": "2023-11-10T20:56:19.365510Z"
    },
    "tags": []
   },
   "outputs": [
    {
     "name": "stdout",
     "output_type": "stream",
     "text": [
      "number of unique non-bot RSP users with a dp02 Butler user collection =  65\n"
     ]
    }
   ],
   "source": [
    "unames = np.array(unames)\n",
    "print('number of unique non-bot RSP users with a dp02 Butler user collection = ', len(np.unique(unames)))"
   ]
  },
  {
   "cell_type": "code",
   "execution_count": 8,
   "id": "5fa7f570-499f-46c5-9a3b-6dbbae63a6b2",
   "metadata": {
    "execution": {
     "iopub.execute_input": "2023-11-10T20:56:19.375955Z",
     "iopub.status.busy": "2023-11-10T20:56:19.375799Z",
     "iopub.status.idle": "2023-11-10T20:56:19.398658Z",
     "shell.execute_reply": "2023-11-10T20:56:19.398079Z",
     "shell.execute_reply.started": "2023-11-10T20:56:19.375941Z"
    },
    "tags": []
   },
   "outputs": [],
   "source": [
    "if not anonymize:\n",
    "    print(np.unique(unames))"
   ]
  },
  {
   "cell_type": "code",
   "execution_count": 9,
   "id": "3850c65f-f179-4c30-b917-232304fb988f",
   "metadata": {
    "execution": {
     "iopub.execute_input": "2023-11-10T20:56:19.399443Z",
     "iopub.status.busy": "2023-11-10T20:56:19.399275Z",
     "iopub.status.idle": "2023-11-10T20:56:20.897191Z",
     "shell.execute_reply": "2023-11-10T20:56:20.896616Z",
     "shell.execute_reply.started": "2023-11-10T20:56:19.399429Z"
    },
    "tags": []
   },
   "outputs": [
    {
     "data": {
      "text/plain": [
       "<Axes: ylabel='collections per user'>"
      ]
     },
     "execution_count": 9,
     "metadata": {},
     "output_type": "execute_result"
    },
    {
     "data": {
      "image/png": "[encoded data removed]",
      "text/plain": [
       "<Figure size 1200x500 with 1 Axes>"
      ]
     },
     "metadata": {},
     "output_type": "display_data"
    }
   ],
   "source": [
    "# make a histogram of these usernames ?\n",
    "\n",
    "import pandas\n",
    "from collections import Counter\n",
    "\n",
    "uname_counts = Counter(unames)\n",
    "df = pandas.DataFrame.from_dict(uname_counts, orient='index', columns=['ncoll'])\n",
    "df.sort_values(by='ncoll', ascending=False, inplace=True)\n",
    "df\n",
    "df.plot(kind='bar', use_index=(not anonymize), legend=False, figsize=(12, 5), logy=True, xlabel='user name', ylabel='collections per user')"
   ]
  },
  {
   "cell_type": "code",
   "execution_count": 10,
   "id": "dfd33e5f-56b4-4414-8955-fe0da6ab1d9e",
   "metadata": {
    "execution": {
     "iopub.execute_input": "2023-11-10T20:56:20.898367Z",
     "iopub.status.busy": "2023-11-10T20:56:20.897922Z",
     "iopub.status.idle": "2023-11-10T20:56:24.565229Z",
     "shell.execute_reply": "2023-11-10T20:56:24.564528Z",
     "shell.execute_reply.started": "2023-11-10T20:56:20.898346Z"
    },
    "tags": []
   },
   "outputs": [],
   "source": [
    "from lsst.daf.butler import Butler\n",
    "\n",
    "butler_repo = 'dp02'\n",
    "\n",
    "butler = Butler(butler_repo)\n",
    "\n",
    "my_collections = butler.registry.queryCollections('*')"
   ]
  },
  {
   "cell_type": "code",
   "execution_count": 11,
   "id": "f03e0019-5311-40af-94e9-e247f870fc3b",
   "metadata": {
    "execution": {
     "iopub.execute_input": "2023-11-10T20:56:24.566296Z",
     "iopub.status.busy": "2023-11-10T20:56:24.566036Z",
     "iopub.status.idle": "2023-11-10T20:56:24.570026Z",
     "shell.execute_reply": "2023-11-10T20:56:24.569565Z",
     "shell.execute_reply.started": "2023-11-10T20:56:24.566273Z"
    },
    "tags": []
   },
   "outputs": [
    {
     "data": {
      "text/plain": [
       "3603"
      ]
     },
     "execution_count": 11,
     "metadata": {},
     "output_type": "execute_result"
    }
   ],
   "source": [
    "len(my_collections)\n"
   ]
  },
  {
   "cell_type": "code",
   "execution_count": 12,
   "id": "fd543f5b-03f3-45b1-91ac-e17e40a8673c",
   "metadata": {
    "execution": {
     "iopub.execute_input": "2023-11-10T20:56:24.570838Z",
     "iopub.status.busy": "2023-11-10T20:56:24.570673Z",
     "iopub.status.idle": "2023-11-10T20:56:24.584264Z",
     "shell.execute_reply": "2023-11-10T20:56:24.583703Z",
     "shell.execute_reply.started": "2023-11-10T20:56:24.570822Z"
    },
    "tags": []
   },
   "outputs": [
    {
     "name": "stdout",
     "output_type": "stream",
     "text": [
      "1744\n"
     ]
    }
   ],
   "source": [
    "keep = [mc.find('mobu') == -1 for mc in my_collections]\n",
    "print(np.sum(keep))"
   ]
  },
  {
   "cell_type": "code",
   "execution_count": 13,
   "id": "4f7671d1-5ede-427d-b620-1aed376e4394",
   "metadata": {
    "execution": {
     "iopub.execute_input": "2023-11-10T20:56:24.585080Z",
     "iopub.status.busy": "2023-11-10T20:56:24.584915Z",
     "iopub.status.idle": "2023-11-10T20:56:24.597386Z",
     "shell.execute_reply": "2023-11-10T20:56:24.596905Z",
     "shell.execute_reply.started": "2023-11-10T20:56:24.585066Z"
    },
    "tags": []
   },
   "outputs": [
    {
     "data": {
      "text/plain": [
       "list"
      ]
     },
     "execution_count": 13,
     "metadata": {},
     "output_type": "execute_result"
    }
   ],
   "source": [
    "type(my_collections)"
   ]
  },
  {
   "cell_type": "code",
   "execution_count": 14,
   "id": "3f7a058f-b692-4603-a22e-87c6f3f259ae",
   "metadata": {
    "execution": {
     "iopub.execute_input": "2023-11-10T20:56:24.598205Z",
     "iopub.status.busy": "2023-11-10T20:56:24.598013Z",
     "iopub.status.idle": "2023-11-10T20:56:24.610080Z",
     "shell.execute_reply": "2023-11-10T20:56:24.609558Z",
     "shell.execute_reply.started": "2023-11-10T20:56:24.598189Z"
    },
    "tags": []
   },
   "outputs": [],
   "source": [
    "#### NOTE : NEED TO DEDUPLICATE CASES LIKE  'u/XXX/coadd_recreation_nb' versus 'u/XXX/coadd_recreation_nb/20220604T231339Z'\n",
    "\n",
    "my_collections.sort()"
   ]
  },
  {
   "cell_type": "code",
   "execution_count": 15,
   "id": "c034c36b-3ee9-47ec-b600-f15275969d3a",
   "metadata": {
    "execution": {
     "iopub.execute_input": "2023-11-10T20:56:24.610858Z",
     "iopub.status.busy": "2023-11-10T20:56:24.610697Z",
     "iopub.status.idle": "2023-11-10T20:56:24.621340Z",
     "shell.execute_reply": "2023-11-10T20:56:24.620805Z",
     "shell.execute_reply.started": "2023-11-10T20:56:24.610844Z"
    },
    "tags": []
   },
   "outputs": [],
   "source": [
    "#my_collections"
   ]
  },
  {
   "cell_type": "code",
   "execution_count": null,
   "id": "7310577c-7143-4362-b857-e975aae0ed01",
   "metadata": {},
   "outputs": [],
   "source": []
  }
 ],
 "metadata": {
  "kernelspec": {
   "display_name": "LSST",
   "language": "python",
   "name": "lsst"
  },
  "language_info": {
   "codemirror_mode": {
    "name": "ipython",
    "version": 3
   },
   "file_extension": ".py",
   "mimetype": "text/x-python",
   "name": "python",
   "nbconvert_exporter": "python",
   "pygments_lexer": "ipython3",
   "version": "3.11.4"
  }
 },
 "nbformat": 4,
 "nbformat_minor": 5
}
