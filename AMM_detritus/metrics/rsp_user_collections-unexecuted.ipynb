{
 "cells": [
  {
   "cell_type": "markdown",
   "id": "f33e52db-f882-4359-a42a-018c95331ad4",
   "metadata": {},
   "source": [
    "# compute metrics for RSP Butler user collections"
   ]
  },
  {
   "cell_type": "code",
   "execution_count": null,
   "id": "b0301e28-2c6c-4be0-820a-8d2628b05656",
   "metadata": {
    "tags": []
   },
   "outputs": [],
   "source": [
    "import numpy as np\n",
    "from lsst.daf.butler import Butler\n",
    "import matplotlib.pyplot as plt\n",
    "import os\n",
    "import time\n",
    "import pandas\n",
    "from collections import Counter"
   ]
  },
  {
   "cell_type": "markdown",
   "id": "d252f9ff-b3fc-49c7-b3d6-5374144913e9",
   "metadata": {},
   "source": [
    "note\n",
    "====\n",
    "\n",
    "Toggle the `anonymize` variable in the following code cell to turn on/off anonymization of user names throughout this notebook."
   ]
  },
  {
   "cell_type": "code",
   "execution_count": null,
   "id": "aacd35bc-d047-4418-8411-47b9db98c334",
   "metadata": {
    "tags": []
   },
   "outputs": [],
   "source": [
    "anonymize = True\n",
    "butler_repo = 'dp02'"
   ]
  },
  {
   "cell_type": "code",
   "execution_count": null,
   "id": "db0c4732-2d85-4cee-b8fc-e5b77c6f796e",
   "metadata": {
    "tags": []
   },
   "outputs": [],
   "source": [
    "print(\"running RSP Butler user collection analysis on date = \", time.strftime(\"%Y-%m-%d\"))"
   ]
  },
  {
   "cell_type": "code",
   "execution_count": null,
   "id": "94ee0e4d-fcff-4a5b-98c4-6bc81f3527e9",
   "metadata": {
    "tags": []
   },
   "outputs": [],
   "source": [
    "butler = Butler(butler_repo)\n",
    "\n",
    "colls = butler.registry.queryCollections('*u/*')\n",
    "colls.sort()\n",
    "print(\"total number of candidate RSP Butler user collections found = \", len(colls))"
   ]
  },
  {
   "cell_type": "code",
   "execution_count": null,
   "id": "5422aa55-ff0a-4fee-8dd3-f730f6f06fa9",
   "metadata": {
    "tags": []
   },
   "outputs": [],
   "source": [
    "colls = np.array(colls)\n",
    "# remove mobu test runs (https://github.com/lsst-sqre/mobu/)\n",
    "keep = [line.find('mobu') == -1 for line in colls]\n",
    "colls = colls[keep]\n",
    "print(\"total number of RSP Butler user collections retained = \", len(colls))"
   ]
  },
  {
   "cell_type": "code",
   "execution_count": null,
   "id": "84a92a4d-7005-49b1-a1c3-59f90bd67687",
   "metadata": {
    "tags": []
   },
   "outputs": [],
   "source": [
    "# remove \"parent\" directories\n",
    "\n",
    "delete = np.zeros(len(colls), dtype=bool)\n",
    "for line in colls:\n",
    "    for i,o in enumerate(colls):\n",
    "        if o == line:\n",
    "            continue\n",
    "        if line.find(o) != -1:\n",
    "            delete[i] = True"
   ]
  },
  {
   "cell_type": "code",
   "execution_count": null,
   "id": "c2ebd7a6-ed27-4c9c-aa12-8dd8cfc4b42e",
   "metadata": {
    "tags": []
   },
   "outputs": [],
   "source": [
    "colls = colls[np.logical_not(delete)]"
   ]
  },
  {
   "cell_type": "code",
   "execution_count": null,
   "id": "9571abaf-a2d2-4d88-b4d8-0090dd66f954",
   "metadata": {
    "tags": []
   },
   "outputs": [],
   "source": [
    "unames = []\n",
    "\n",
    "for i,line in enumerate(colls):\n",
    "    p = line.find('u/')\n",
    "    #print(i)\n",
    "    assert(p >= 0)\n",
    "    colls[i] = line[(p+2):]\n",
    "    tokens = colls[i].split('/')\n",
    "    unames.append(tokens[0])"
   ]
  },
  {
   "cell_type": "code",
   "execution_count": null,
   "id": "d9793d98-4797-4389-a3fa-c077e36a95c3",
   "metadata": {
    "tags": []
   },
   "outputs": [],
   "source": [
    "print('number of unique RSP dp02 Butler user collections = ', len(colls))"
   ]
  },
  {
   "cell_type": "code",
   "execution_count": null,
   "id": "6b6fa2cf-a42d-48bf-b7c5-72b9f9e49984",
   "metadata": {
    "tags": []
   },
   "outputs": [],
   "source": [
    "unames = np.array(unames)\n",
    "print('number of unique non-bot RSP user names with a dp02 Butler user collection = ', len(np.unique(unames)))"
   ]
  },
  {
   "cell_type": "code",
   "execution_count": null,
   "id": "cc1761b8-6c75-446e-a0bb-911f7452d2b8",
   "metadata": {
    "tags": []
   },
   "outputs": [],
   "source": [
    "print('average number of RSP dp02 Butler user collections per user name with at least one such collection = ', '{:.1f}'.format(float(len(colls))/len(np.unique(unames))))"
   ]
  },
  {
   "cell_type": "code",
   "execution_count": null,
   "id": "5fa7f570-499f-46c5-9a3b-6dbbae63a6b2",
   "metadata": {
    "tags": []
   },
   "outputs": [],
   "source": [
    "if not anonymize:\n",
    "    print(\"list of RSP user names with at least one Butler user collection on RSP:\\n\")\n",
    "    print(np.unique(unames))"
   ]
  },
  {
   "cell_type": "code",
   "execution_count": null,
   "id": "3850c65f-f179-4c30-b917-232304fb988f",
   "metadata": {
    "tags": []
   },
   "outputs": [],
   "source": [
    "uname_counts = Counter(unames)\n",
    "df = pandas.DataFrame.from_dict(uname_counts, orient='index', columns=['ncoll'])\n",
    "df.sort_values(by='ncoll', ascending=False, inplace=True)\n",
    "df\n",
    "df.plot(kind='bar', use_index=(not anonymize), legend=False, figsize=(12, 5), logy=True, xlabel='user name', ylabel='collections per user')\n",
    "_ = plt.xlabel('user name')"
   ]
  },
  {
   "cell_type": "code",
   "execution_count": null,
   "id": "d5bff1e9-d8cb-486d-a5bf-08058a87fc48",
   "metadata": {
    "tags": []
   },
   "outputs": [],
   "source": [
    "def is_timestamp(string):\n",
    "    return (len(string) == 16) and (string[-1] == 'Z') and (string[0:2] == '20')"
   ]
  },
  {
   "cell_type": "code",
   "execution_count": null,
   "id": "a0bc6ccc-afd6-46f2-9d53-bf5d7d91e6b5",
   "metadata": {
    "tags": []
   },
   "outputs": [],
   "source": [
    "has_timestamp = np.zeros(len(colls), dtype=bool)\n",
    "for i, line in enumerate(colls):\n",
    "    has_timestamp[i] = is_timestamp(os.path.basename(line))"
   ]
  },
  {
   "cell_type": "code",
   "execution_count": null,
   "id": "8a4a5cba-a047-44b6-ba73-cc763bea0b6f",
   "metadata": {
    "tags": []
   },
   "outputs": [],
   "source": [
    "print(\"number of timestamp RSP Butler user collections = \", np.sum(has_timestamp))\n",
    "print(\"number of non-timestamp RSP Butler user collections = \", np.sum(np.logical_not(has_timestamp)))"
   ]
  },
  {
   "cell_type": "code",
   "execution_count": null,
   "id": "88c166c3-99a2-42c3-86dd-6cc1163d7329",
   "metadata": {
    "tags": []
   },
   "outputs": [],
   "source": [
    "years = [os.path.basename(s)[0:4] for s in colls[has_timestamp]]"
   ]
  },
  {
   "cell_type": "code",
   "execution_count": null,
   "id": "38acb2a6-d173-4368-b177-350d29610ac5",
   "metadata": {
    "tags": []
   },
   "outputs": [],
   "source": [
    "print(\"unique calendar years for timestamp Butler user collection directories:\\n\")\n",
    "print(np.unique(years))"
   ]
  },
  {
   "cell_type": "code",
   "execution_count": null,
   "id": "5dc607fe-8755-4e98-8e2d-80aab267e70a",
   "metadata": {
    "tags": []
   },
   "outputs": [],
   "source": [
    "years = np.array(years, dtype=float)"
   ]
  },
  {
   "cell_type": "code",
   "execution_count": null,
   "id": "fca3b044-6478-4f3a-8ad2-159189e24648",
   "metadata": {
    "tags": []
   },
   "outputs": [],
   "source": [
    "# could try making a version normalized to the amount of time in the current year that's actually passed\n",
    "\n",
    "bins = np.arange(np.min(years)-0.5,np.max(years)+1.5,1)\n",
    "plt.hist(years, bins=bins)\n",
    "plt.xticks(np.unique(years))\n",
    "plt.xlabel('calendar year')\n",
    "_ = plt.ylabel('number of timestamp user collections')"
   ]
  },
  {
   "cell_type": "code",
   "execution_count": null,
   "id": "7c4a400d-1c83-475b-b4f8-6c6bbe0ea15b",
   "metadata": {
    "tags": []
   },
   "outputs": [],
   "source": [
    "# now make a list of search strings that identify DP0.2 tutorials that tell users to make output Butler user collections\n",
    "\n",
    "# nb09a = DP0.2 notebook tutorial 09a\n",
    "# nb09b = DP0.2 notebook tutorial 09b\n",
    "    # note that this was only put into production a few days ago as of this writing !!!\n",
    "    # previously nb09b did not persist any outputs (all in-memory)\n",
    "# cl02a = DP0.2 command line tutorial 02, the part corresponding to notebook tutorial 09a\n",
    "# cl02b = DP0.2 command line tutorial 02, the part corresponding to notebook tutorial 09b\n",
    "    # note that this was only put into production a few days ago as of this writing !!!\n",
    "\n",
    "collection_names_exact = {'nb09a' : 'custom_coadd_window1_test1',\n",
    "                          'nb09b' : 'custom_coadd_window1_test1_nbdet',\n",
    "                          'cl02a' : 'custom_coadd_window1_cl00',\n",
    "                          'cl02b' : 'custom_coadd_window1_cl00_det'}"
   ]
  },
  {
   "cell_type": "code",
   "execution_count": null,
   "id": "c9676f1b-01c8-447d-b724-db5b170ab78c",
   "metadata": {
    "tags": []
   },
   "outputs": [],
   "source": [
    "found_any = np.zeros(len(colls), dtype=bool)\n",
    "for k in collection_names_exact.keys():\n",
    "    found = np.array([line.find(collection_names_exact[k]) != -1 for line in colls])\n",
    "    if k.find('a') != -1:\n",
    "        discount = np.array([line.find(collection_names_exact[k.replace('a', 'b')]) != -1 for line in colls])\n",
    "        found = np.logical_and(found, np.logical_not(discount))\n",
    "        \n",
    "    found_any = np.logical_or(found_any, found)\n",
    "    print(k + ' : ', ' found ', np.sum(found), 'user collections from ', len(np.unique(unames[found])), ' unique users')"
   ]
  },
  {
   "cell_type": "code",
   "execution_count": null,
   "id": "754782f2-9cb4-4883-8e47-8cb4a8680d74",
   "metadata": {
    "tags": []
   },
   "outputs": [],
   "source": [
    "if not anonymize:\n",
    "    print(\"list of unique user names with at least one Butler user collection matching that of a DP0.2 tutorial:\\n\")\n",
    "    print(np.unique(unames[found_any]))"
   ]
  },
  {
   "cell_type": "code",
   "execution_count": null,
   "id": "f7264051-179c-4c42-929d-f2c0a806ffea",
   "metadata": {
    "tags": []
   },
   "outputs": [],
   "source": [
    "print(\"total number of RSP user collections arising from DP0.2 tutorials = \", np.sum(found_any))"
   ]
  },
  {
   "cell_type": "code",
   "execution_count": null,
   "id": "7791f864-6176-470c-a57e-12d7ae5296d9",
   "metadata": {
    "tags": []
   },
   "outputs": [],
   "source": [
    "print(\"number of unique RSP user names with at least one user collection matching that of a DP0.2 tutorial = \", len(np.unique(unames[found_any])))"
   ]
  },
  {
   "cell_type": "markdown",
   "id": "2e9968d7-b20b-4f42-a9b9-5ca58e55e67d",
   "metadata": {
    "execution": {
     "iopub.execute_input": "2023-11-12T11:00:51.292381Z",
     "iopub.status.busy": "2023-11-12T11:00:51.291846Z",
     "iopub.status.idle": "2023-11-12T11:00:51.294958Z",
     "shell.execute_reply": "2023-11-12T11:00:51.294457Z",
     "shell.execute_reply.started": "2023-11-12T11:00:51.292361Z"
    },
    "tags": []
   },
   "source": [
    "notes\n",
    "=====\n",
    "'$USER' shows up among the \"user names\", could imagine special-casing to remove that..."
   ]
  }
 ],
 "metadata": {
  "kernelspec": {
   "display_name": "LSST",
   "language": "python",
   "name": "lsst"
  },
  "language_info": {
   "codemirror_mode": {
    "name": "ipython",
    "version": 3
   },
   "file_extension": ".py",
   "mimetype": "text/x-python",
   "name": "python",
   "nbconvert_exporter": "python",
   "pygments_lexer": "ipython3",
   "version": "3.11.4"
  }
 },
 "nbformat": 4,
 "nbformat_minor": 5
}
