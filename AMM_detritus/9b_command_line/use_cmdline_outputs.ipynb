{
 "cells": [
  {
   "cell_type": "code",
   "execution_count": 1,
   "id": "937f15aa-4ca8-4ac6-807d-bed13d742f2b",
   "metadata": {},
   "outputs": [],
   "source": [
    "from lsst.daf.butler import Butler\n",
    "import numpy as np\n",
    "from lsst.rsp import get_tap_service, retrieve_query\n",
    "import matplotlib.pyplot as plt"
   ]
  },
  {
   "cell_type": "code",
   "execution_count": 2,
   "id": "14be16c4-3729-47e3-881b-e92d85c58c13",
   "metadata": {},
   "outputs": [],
   "source": [
    "butler = Butler('dp02', collections=[\"u/ameisner/custom_coadd_window1_test1\"])\n",
    "\n",
    "my_dataId = {'band': 'i', 'tract': 4431, 'patch': 17}\n",
    "my_deepCoadd = butler.get('deepCoadd', my_dataId)\n",
    "my_deepCoadd_photoCalib = my_deepCoadd.getPhotoCalib()"
   ]
  },
  {
   "cell_type": "code",
   "execution_count": 3,
   "id": "b3e77ccf-46ae-4051-8c32-f2b145f93b81",
   "metadata": {},
   "outputs": [],
   "source": [
    "del butler"
   ]
  },
  {
   "cell_type": "code",
   "execution_count": 4,
   "id": "96a2f9d6-ae70-4f26-a0ab-5010af7419b6",
   "metadata": {},
   "outputs": [],
   "source": [
    "butler = Butler('dp02', collections=[\"u/ameisner/custom_coadd_window1_test1_det\"])"
   ]
  },
  {
   "cell_type": "code",
   "execution_count": 5,
   "id": "3d39e183-d82c-4f49-ae7f-7fedbc47a5f0",
   "metadata": {},
   "outputs": [],
   "source": [
    "my_sources = butler.get('deepCoadd_meas', dataId=my_dataId)"
   ]
  },
  {
   "cell_type": "code",
   "execution_count": 6,
   "id": "eebc3808-c787-4c15-9581-656a067a5e88",
   "metadata": {},
   "outputs": [
    {
     "data": {
      "text/plain": [
       "5603"
      ]
     },
     "execution_count": 6,
     "metadata": {},
     "output_type": "execute_result"
    }
   ],
   "source": [
    "# this is will be in the ~5-6k sources range (higher than expected) because it's necessary to trim to \n",
    "# detect_isPrimary=True\n",
    "\n",
    "len(my_sources)"
   ]
  },
  {
   "cell_type": "code",
   "execution_count": 7,
   "id": "e61892f2-f253-4c93-a361-1e17d12f0cb2",
   "metadata": {},
   "outputs": [],
   "source": [
    "my_sources = my_sources[my_sources['detect_isPrimary'] == True]"
   ]
  },
  {
   "cell_type": "code",
   "execution_count": 8,
   "id": "2b24d72b-0a02-40e8-b5cd-4da5d75f8e41",
   "metadata": {},
   "outputs": [
    {
     "data": {
      "text/plain": [
       "2673"
      ]
     },
     "execution_count": 8,
     "metadata": {},
     "output_type": "execute_result"
    }
   ],
   "source": [
    "# now this very closely matches the original version of notebook 9b to within a few sources\n",
    "\n",
    "len(my_sources)"
   ]
  },
  {
   "cell_type": "code",
   "execution_count": 9,
   "id": "1d61f57f-6ade-4524-b334-021c1d5658a4",
   "metadata": {},
   "outputs": [
    {
     "data": {
      "text/plain": [
       "array([ 28.58142319,  23.09514315,  22.42529654, ...,  19.51812599,\n",
       "       218.58003285,  36.09596809])"
      ]
     },
     "execution_count": 9,
     "metadata": {},
     "output_type": "execute_result"
    }
   ],
   "source": [
    "my_sources[\"base_PsfFlux_instFlux\"]"
   ]
  },
  {
   "cell_type": "code",
   "execution_count": 10,
   "id": "b7432355-5fb5-4906-896e-b7d8fc809a47",
   "metadata": {},
   "outputs": [],
   "source": [
    "# mostly copied from original version of notebook 9b\n",
    "\n",
    "i_CalibMag_AB = np.zeros(len(my_sources), dtype='float')\n",
    "for s in range(len(my_sources)):\n",
    "    i_CalibMag_AB[s] = \\\n",
    "    my_deepCoadd_photoCalib.instFluxToMagnitude(my_sources['base_PsfFlux_instFlux'][s])"
   ]
  },
  {
   "cell_type": "code",
   "execution_count": 11,
   "id": "7bb52224-7364-4f4b-9f1c-2281a8703676",
   "metadata": {},
   "outputs": [
    {
     "data": {
      "text/plain": [
       "array([23.35979037, 23.59119835, 23.62315451, ..., 23.77390471,\n",
       "       21.15097378, 23.10635326])"
      ]
     },
     "execution_count": 11,
     "metadata": {},
     "output_type": "execute_result"
    }
   ],
   "source": [
    "i_CalibMag_AB\n"
   ]
  },
  {
   "cell_type": "code",
   "execution_count": 12,
   "id": "afa80c49-8257-4c38-8022-4ff3590f470c",
   "metadata": {},
   "outputs": [
    {
     "data": {
      "text/plain": [
       "2673"
      ]
     },
     "execution_count": 12,
     "metadata": {},
     "output_type": "execute_result"
    }
   ],
   "source": [
    "len(i_CalibMag_AB)"
   ]
  },
  {
   "cell_type": "code",
   "execution_count": 18,
   "id": "fc310889-cf9b-418a-89e2-9c3d5a240ec2",
   "metadata": {},
   "outputs": [
    {
     "data": {
      "text/plain": [
       "Text(0.5, 1.0, 'custom coadd')"
      ]
     },
     "execution_count": 18,
     "metadata": {},
     "output_type": "execute_result"
    },
    {
     "data": {
      "image/png": "[encoded data removed]",
      "text/plain": [
       "<Figure size 640x480 with 1 Axes>"
      ]
     },
     "metadata": {},
     "output_type": "display_data"
    }
   ],
   "source": [
    "plt.hist(i_CalibMag_AB, bins=20, histtype='step', label='custom coadd')\n",
    "plt.xlabel(\"i-band apparent magnitude (AB)\")\n",
    "plt.ylabel(\"number of detected sources\")\n",
    "plt.title(\"custom coadd\")"
   ]
  },
  {
   "cell_type": "code",
   "execution_count": 14,
   "id": "7ca1964c-697a-4352-bd7a-e1f6aa76c4b0",
   "metadata": {},
   "outputs": [],
   "source": [
    "tap_service = get_tap_service()"
   ]
  },
  {
   "cell_type": "code",
   "execution_count": 15,
   "id": "5384ccc9-adf7-47a3-91bb-db9e10eb37ce",
   "metadata": {},
   "outputs": [
    {
     "name": "stdout",
     "output_type": "stream",
     "text": [
      "CPU times: user 330 ms, sys: 14.8 ms, total: 345 ms\n",
      "Wall time: 5.59 s\n"
     ]
    }
   ],
   "source": [
    "%%time\n",
    "query = \"SELECT objectId, coord_ra, coord_dec, detect_isPrimary, \" + \\\n",
    "        \"scisql_nanojanskyToAbMag(i_calibFlux) AS i_calibMag, \" + \\\n",
    "        \"scisql_nanojanskyToAbMagSigma(i_calibFlux, i_calibFluxErr) AS i_calibMagErr, \" + \\\n",
    "        \"i_extendedness \" + \\\n",
    "        \"FROM dp02_dc2_catalogs.Object \" + \\\n",
    "        \"WHERE CONTAINS(POINT('ICRS', coord_ra, coord_dec), \" + \\\n",
    "        \"CIRCLE('ICRS', 55.757, -32.295, 0.2)) = 1 \" + \\\n",
    "        \"AND i_calibFlux/i_calibFluxErr >= 10 \" + \\\n",
    "        \"AND detect_isPrimary = 1\"\n",
    "\n",
    "tap_results = tap_service.search(query)\n",
    "tap_table = tap_results.to_table().to_pandas()"
   ]
  },
  {
   "cell_type": "code",
   "execution_count": 16,
   "id": "dd348791-3ab1-4a5f-a543-b58a6e0965d7",
   "metadata": {},
   "outputs": [
    {
     "data": {
      "text/plain": [
       "13297"
      ]
     },
     "execution_count": 16,
     "metadata": {},
     "output_type": "execute_result"
    }
   ],
   "source": [
    "len(tap_table)"
   ]
  },
  {
   "cell_type": "code",
   "execution_count": 19,
   "id": "a96cd7ee-8e60-46f7-a9d6-2afbae2af676",
   "metadata": {},
   "outputs": [
    {
     "data": {
      "image/png": "[encoded data removed]",
      "text/plain": [
       "<Figure size 500x300 with 1 Axes>"
      ]
     },
     "metadata": {},
     "output_type": "display_data"
    }
   ],
   "source": [
    "\n",
    "plt.figure(figsize=(5, 3))\n",
    "\n",
    "plt.hist(i_CalibMag_AB, bins=25, histtype='step', label='custom coadd')\n",
    "plt.hist(tap_table['i_calibMag'], bins=20, histtype='step', label='original deepCoadd')\n",
    "\n",
    "plt.xlabel('i-band apparent magnitude (AB)')\n",
    "plt.ylabel('number of detected sources')\n",
    "plt.legend(loc='upper left')\n",
    "plt.xlim([15, 26])\n",
    "plt.show()"
   ]
  },
  {
   "cell_type": "code",
   "execution_count": null,
   "id": "105b2051-e89a-4564-86f1-5d6bc2e85042",
   "metadata": {},
   "outputs": [],
   "source": []
  }
 ],
 "metadata": {
  "kernelspec": {
   "display_name": "LSST",
   "language": "python",
   "name": "lsst"
  },
  "language_info": {
   "codemirror_mode": {
    "name": "ipython",
    "version": 3
   },
   "file_extension": ".py",
   "mimetype": "text/x-python",
   "name": "python",
   "nbconvert_exporter": "python",
   "pygments_lexer": "ipython3",
   "version": "3.10.5"
  }
 },
 "nbformat": 4,
 "nbformat_minor": 5
}
