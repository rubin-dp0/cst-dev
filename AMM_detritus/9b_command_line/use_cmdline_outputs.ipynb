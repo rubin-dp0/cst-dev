{
 "cells": [
  {
   "cell_type": "code",
   "execution_count": 1,
   "id": "937f15aa-4ca8-4ac6-807d-bed13d742f2b",
   "metadata": {},
   "outputs": [],
   "source": [
    "from lsst.daf.butler import Butler"
   ]
  },
  {
   "cell_type": "code",
   "execution_count": 2,
   "id": "14be16c4-3729-47e3-881b-e92d85c58c13",
   "metadata": {},
   "outputs": [],
   "source": [
    "butler = Butler('dp02', collections=[\"u/ameisner/custom_coadd_window1_test1\"])\n",
    "\n",
    "my_dataId = {'band': 'i', 'tract': 4431, 'patch': 17}\n",
    "my_deepCoadd = butler.get('deepCoadd', my_dataId)"
   ]
  },
  {
   "cell_type": "code",
   "execution_count": 3,
   "id": "b3e77ccf-46ae-4051-8c32-f2b145f93b81",
   "metadata": {},
   "outputs": [],
   "source": [
    "del butler"
   ]
  },
  {
   "cell_type": "code",
   "execution_count": 4,
   "id": "96a2f9d6-ae70-4f26-a0ab-5010af7419b6",
   "metadata": {},
   "outputs": [],
   "source": [
    "butler = Butler('dp02', collections=[\"u/ameisner/custom_coadd_window1_test1_det\"])"
   ]
  },
  {
   "cell_type": "code",
   "execution_count": 5,
   "id": "3d39e183-d82c-4f49-ae7f-7fedbc47a5f0",
   "metadata": {},
   "outputs": [],
   "source": [
    "my_sources = butler.get('deepCoadd_meas', dataId={\"band\": \"i\", \"tract\": 4431, \"patch\": 17})"
   ]
  },
  {
   "cell_type": "code",
   "execution_count": 6,
   "id": "eebc3808-c787-4c15-9581-656a067a5e88",
   "metadata": {},
   "outputs": [
    {
     "data": {
      "text/plain": [
       "5603"
      ]
     },
     "execution_count": 6,
     "metadata": {},
     "output_type": "execute_result"
    }
   ],
   "source": [
    "# this is will be in the ~5-6k sources range (higher than expected) because it's necessary to trim to \n",
    "# detect_isPrimary=True\n",
    "\n",
    "len(my_sources)"
   ]
  },
  {
   "cell_type": "code",
   "execution_count": 7,
   "id": "e61892f2-f253-4c93-a361-1e17d12f0cb2",
   "metadata": {},
   "outputs": [],
   "source": [
    "my_sources = my_sources[my_sources['detect_isPrimary'] == True]"
   ]
  },
  {
   "cell_type": "code",
   "execution_count": 8,
   "id": "2b24d72b-0a02-40e8-b5cd-4da5d75f8e41",
   "metadata": {},
   "outputs": [
    {
     "data": {
      "text/plain": [
       "2673"
      ]
     },
     "execution_count": 8,
     "metadata": {},
     "output_type": "execute_result"
    }
   ],
   "source": [
    "# now this very closely matches the original version of notebook 9b to within a few sources\n",
    "\n",
    "len(my_sources)"
   ]
  },
  {
   "cell_type": "code",
   "execution_count": null,
   "id": "1d61f57f-6ade-4524-b334-021c1d5658a4",
   "metadata": {},
   "outputs": [],
   "source": []
  }
 ],
 "metadata": {
  "kernelspec": {
   "display_name": "LSST",
   "language": "python",
   "name": "lsst"
  },
  "language_info": {
   "codemirror_mode": {
    "name": "ipython",
    "version": 3
   },
   "file_extension": ".py",
   "mimetype": "text/x-python",
   "name": "python",
   "nbconvert_exporter": "python",
   "pygments_lexer": "ipython3",
   "version": "3.10.5"
  }
 },
 "nbformat": 4,
 "nbformat_minor": 5
}
