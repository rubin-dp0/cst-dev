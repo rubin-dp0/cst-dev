{
 "cells": [
  {
   "cell_type": "code",
   "execution_count": 1,
   "id": "937f15aa-4ca8-4ac6-807d-bed13d742f2b",
   "metadata": {},
   "outputs": [],
   "source": [
    "from lsst.daf.butler import Butler"
   ]
  },
  {
   "cell_type": "code",
   "execution_count": 2,
   "id": "14be16c4-3729-47e3-881b-e92d85c58c13",
   "metadata": {},
   "outputs": [],
   "source": [
    "butler = Butler('dp02', collections=[\"u/ameisner/custom_coadd_window1_test1\"])\n",
    "\n",
    "my_dataId = {'band': 'i', 'tract': 4431, 'patch': 17}\n",
    "my_deepCoadd = butler.get('deepCoadd', my_dataId)\n",
    "my_deepCoadd_photoCalib = my_deepCoadd.getPhotoCalib()"
   ]
  },
  {
   "cell_type": "code",
   "execution_count": 3,
   "id": "b3e77ccf-46ae-4051-8c32-f2b145f93b81",
   "metadata": {},
   "outputs": [],
   "source": [
    "del butler"
   ]
  },
  {
   "cell_type": "code",
   "execution_count": 4,
   "id": "96a2f9d6-ae70-4f26-a0ab-5010af7419b6",
   "metadata": {},
   "outputs": [],
   "source": [
    "butler = Butler('dp02', collections=[\"u/ameisner/custom_coadd_window1_test1_det\"])"
   ]
  },
  {
   "cell_type": "code",
   "execution_count": 5,
   "id": "3d39e183-d82c-4f49-ae7f-7fedbc47a5f0",
   "metadata": {},
   "outputs": [],
   "source": [
    "my_sources = butler.get('deepCoadd_meas', dataId=my_dataId)"
   ]
  },
  {
   "cell_type": "code",
   "execution_count": 6,
   "id": "eebc3808-c787-4c15-9581-656a067a5e88",
   "metadata": {},
   "outputs": [
    {
     "data": {
      "text/plain": [
       "5603"
      ]
     },
     "execution_count": 6,
     "metadata": {},
     "output_type": "execute_result"
    }
   ],
   "source": [
    "# this is will be in the ~5-6k sources range (higher than expected) because it's necessary to trim to \n",
    "# detect_isPrimary=True\n",
    "\n",
    "len(my_sources)"
   ]
  },
  {
   "cell_type": "code",
   "execution_count": 7,
   "id": "e61892f2-f253-4c93-a361-1e17d12f0cb2",
   "metadata": {},
   "outputs": [],
   "source": [
    "my_sources = my_sources[my_sources['detect_isPrimary'] == True]"
   ]
  },
  {
   "cell_type": "code",
   "execution_count": 8,
   "id": "2b24d72b-0a02-40e8-b5cd-4da5d75f8e41",
   "metadata": {},
   "outputs": [
    {
     "data": {
      "text/plain": [
       "2673"
      ]
     },
     "execution_count": 8,
     "metadata": {},
     "output_type": "execute_result"
    }
   ],
   "source": [
    "# now this very closely matches the original version of notebook 9b to within a few sources\n",
    "\n",
    "len(my_sources)"
   ]
  },
  {
   "cell_type": "code",
   "execution_count": 9,
   "id": "1d61f57f-6ade-4524-b334-021c1d5658a4",
   "metadata": {},
   "outputs": [
    {
     "data": {
      "text/plain": [
       "array([ 28.58142319,  23.09514315,  22.42529654, ...,  19.51812599,\n",
       "       218.58003285,  36.09596809])"
      ]
     },
     "execution_count": 9,
     "metadata": {},
     "output_type": "execute_result"
    }
   ],
   "source": [
    "my_sources[\"base_PsfFlux_instFlux\"]"
   ]
  },
  {
   "cell_type": "code",
   "execution_count": 10,
   "id": "b7432355-5fb5-4906-896e-b7d8fc809a47",
   "metadata": {},
   "outputs": [],
   "source": [
    "# mostly copied from original version of notebook 9b\n",
    "\n",
    "import numpy as np\n",
    "\n",
    "i_CalibMag_AB = np.zeros(len(my_sources), dtype='float')\n",
    "for s in range(len(my_sources)):\n",
    "    i_CalibMag_AB[s] = \\\n",
    "    my_deepCoadd_photoCalib.instFluxToMagnitude(my_sources['base_PsfFlux_instFlux'][s])"
   ]
  },
  {
   "cell_type": "code",
   "execution_count": 11,
   "id": "7bb52224-7364-4f4b-9f1c-2281a8703676",
   "metadata": {},
   "outputs": [
    {
     "data": {
      "text/plain": [
       "array([23.35979037, 23.59119835, 23.62315451, ..., 23.77390471,\n",
       "       21.15097378, 23.10635326])"
      ]
     },
     "execution_count": 11,
     "metadata": {},
     "output_type": "execute_result"
    }
   ],
   "source": [
    "i_CalibMag_AB\n"
   ]
  },
  {
   "cell_type": "code",
   "execution_count": 12,
   "id": "afa80c49-8257-4c38-8022-4ff3590f470c",
   "metadata": {},
   "outputs": [
    {
     "data": {
      "text/plain": [
       "2673"
      ]
     },
     "execution_count": 12,
     "metadata": {},
     "output_type": "execute_result"
    }
   ],
   "source": [
    "len(i_CalibMag_AB)"
   ]
  },
  {
   "cell_type": "code",
   "execution_count": 15,
   "id": "fc310889-cf9b-418a-89e2-9c3d5a240ec2",
   "metadata": {},
   "outputs": [
    {
     "data": {
      "text/plain": [
       "(array([  9.,   9.,  13.,  32., 111.,  85., 101., 144., 291., 551., 917.,\n",
       "        394.,   2.,   2.,   0.,   0.,   0.,   0.,   0.,   1.]),\n",
       " array([15.58436506, 16.31208338, 17.03980171, 17.76752004, 18.49523837,\n",
       "        19.22295669, 19.95067502, 20.67839335, 21.40611167, 22.13383   ,\n",
       "        22.86154833, 23.58926665, 24.31698498, 25.04470331, 25.77242164,\n",
       "        26.50013996, 27.22785829, 27.95557662, 28.68329494, 29.41101327,\n",
       "        30.1387316 ]),\n",
       " [<matplotlib.patches.Polygon at 0x7f7a301d4c70>])"
      ]
     },
     "execution_count": 15,
     "metadata": {},
     "output_type": "execute_result"
    },
    {
     "data": {
      "image/png": "[encoded data removed]",
      "text/plain": [
       "<Figure size 640x480 with 1 Axes>"
      ]
     },
     "metadata": {},
     "output_type": "display_data"
    }
   ],
   "source": [
    "import matplotlib.pyplot as plt\n",
    "plt.hist(i_CalibMag_AB, bins=20, histtype='step', label='custom coadd')"
   ]
  },
  {
   "cell_type": "code",
   "execution_count": null,
   "id": "5384ccc9-adf7-47a3-91bb-db9e10eb37ce",
   "metadata": {},
   "outputs": [],
   "source": []
  }
 ],
 "metadata": {
  "kernelspec": {
   "display_name": "LSST",
   "language": "python",
   "name": "lsst"
  },
  "language_info": {
   "codemirror_mode": {
    "name": "ipython",
    "version": 3
   },
   "file_extension": ".py",
   "mimetype": "text/x-python",
   "name": "python",
   "nbconvert_exporter": "python",
   "pygments_lexer": "ipython3",
   "version": "3.10.5"
  }
 },
 "nbformat": 4,
 "nbformat_minor": 5
}
