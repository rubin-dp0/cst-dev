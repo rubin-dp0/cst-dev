{
 "cells": [
  {
   "cell_type": "markdown",
   "id": "749b0ddf",
   "metadata": {},
   "source": [
    "<img align=\"left\" src = https://project.lsst.org/sites/default/files/Rubin-O-Logo_0.png width=250 style=\"padding: 10px\"> \n",
    "<b>CET Template Notebook</b> <br>\n",
    "Contact author(s): <i>Author Name</i> <br>\n",
    "Last verified to run: <i>yyyy-mm-dd</i> <br>\n",
    "LSST Science Piplines version: Weekly <i>yyyy_xx</i> <br>\n",
    "Container Size: <i>medium</i> <br>\n",
    "Targeted learning level: <i>beginner</i> <br>"
   ]
  },
  {
   "cell_type": "markdown",
   "id": "9da1a210-d858-42fe-8591-570965b8be1a",
   "metadata": {},
   "source": [
    "**Description:** Example of a tutorial notebook exercise to explore deblender products. Would like to access the footprint, and plot deblended source centroids on top of the segmentation map (footprint) as a demonstration of how the deblender works."
   ]
  },
  {
   "cell_type": "code",
   "execution_count": 1,
   "id": "cddc1458",
   "metadata": {},
   "outputs": [],
   "source": [
    "# general python packages\n",
    "import numpy as np\n",
    "import os\n",
    "import matplotlib.pyplot as plt\n",
    "import gc\n",
    "import time\n",
    "plt.style.use('tableau-colorblind10')\n",
    "\n",
    "# LSST package for TAP queries\n",
    "from lsst.rsp import get_tap_service, retrieve_query\n",
    "\n",
    "# LSST package for Butler queries\n",
    "import lsst.daf.butler as Butler\n",
    "\n",
    "# Familiar stack packages\n",
    "from lsst.geom import Box2I, Box2D, Point2I, Point2D, Extent2I, Extent2D\n",
    "from lsst.afw.image import Exposure, Image, PARENT\n",
    "\n",
    "# These may be less familiar objects dealing with multi-band data products\n",
    "from lsst.afw.image import MultibandExposure, MultibandImage\n",
    "from lsst.afw.detection import MultibandFootprint, Footprint\n",
    "\n",
    "# LSST package for image display\n",
    "import lsst.afw.display as afwDisplay\n",
    "#import lsst.geom\n",
    "import lsst.geom as geom\n",
    "\n",
    "# Astropy imports\n",
    "from astropy.wcs import WCS\n",
    "from astropy import units as u\n",
    "from astropy.coordinates import SkyCoord\n",
    "from astropy.wcs.utils import skycoord_to_pixel\n",
    "from astropy.visualization import make_lupton_rgb\n",
    "from photutils import * #SkyCircularAperture\n",
    "from astropy.nddata import Cutout2D\n",
    "\n",
    "# Pipeline tasks\n",
    "from lsst.pipe.tasks.characterizeImage import CharacterizeImageTask\n",
    "from lsst.meas.algorithms.detection import SourceDetectionTask\n",
    "from lsst.meas.deblender import SourceDeblendTask\n",
    "from lsst.meas.base import SingleFrameMeasurementTask\n",
    "afwDisplay.setDefaultBackend('matplotlib')"
   ]
  },
  {
   "cell_type": "markdown",
   "id": "a771d346-bda2-4890-a877-8fec029d07d4",
   "metadata": {},
   "source": [
    "**Description:** Set up a function for plotting cutouts"
   ]
  },
  {
   "cell_type": "code",
   "execution_count": 2,
   "id": "54e8800e-26f3-4d70-9306-ef3a5fd75aa9",
   "metadata": {},
   "outputs": [],
   "source": [
    "# A function and settings  to plot a cutout from tutorial notebook 03a\n",
    "\n",
    "def cutout_coadd(butler, ra, dec, band='r', datasetType='deepCoadd',\n",
    "                 skymap=None, cutoutSideLength=51, **kwargs):\n",
    "    \"\"\"\n",
    "    Produce a cutout from a coadd at the given ra, dec position.\n",
    "\n",
    "    Adapted from DC2 tutorial notebook by Michael Wood-Vasey.\n",
    "\n",
    "    Parameters\n",
    "    ----------\n",
    "    butler: lsst.daf.persistence.Butler\n",
    "        Servant providing access to a data repository\n",
    "    ra: float\n",
    "        Right ascension of the center of the cutout, in degrees\n",
    "    dec: float\n",
    "        Declination of the center of the cutout, in degrees\n",
    "    band: string\n",
    "        Filter of the image to load\n",
    "    datasetType: string ['deepCoadd']\n",
    "        Which type of coadd to load.  Doesn't support 'calexp'\n",
    "    skymap: lsst.afw.skyMap.SkyMap [optional]\n",
    "        Pass in to avoid the Butler read.  Useful if you have lots of them.\n",
    "    cutoutSideLength: float [optional]\n",
    "        Size of the cutout region in pixels.\n",
    "\n",
    "    Returns\n",
    "    -------\n",
    "    MaskedImage\n",
    "    \"\"\"\n",
    "    radec = geom.SpherePoint(ra, dec, geom.degrees)\n",
    "    cutoutSize = geom.ExtentI(cutoutSideLength, cutoutSideLength)\n",
    "\n",
    "    if skymap is None:\n",
    "        skymap = butler.get(\"skyMap\")\n",
    "\n",
    "    # Look up the tract, patch for the RA, Dec\n",
    "    tractInfo = skymap.findTract(radec)\n",
    "    patchInfo = tractInfo.findPatch(radec)\n",
    "    xy = geom.PointI(tractInfo.getWcs().skyToPixel(radec))\n",
    "    bbox = geom.BoxI(xy - cutoutSize // 2, cutoutSize)\n",
    "    patch = tractInfo.getSequentialPatchIndex(patchInfo)\n",
    "\n",
    "    coaddId = {'tract': tractInfo.getId(), 'patch': patch, 'band': band}\n",
    "    parameters = {'bbox': bbox}\n",
    "\n",
    "    cutout_image = butler.get(datasetType, parameters=parameters,\n",
    "                              dataId=coaddId)\n",
    "\n",
    "    return cutout_image"
   ]
  },
  {
   "cell_type": "code",
   "execution_count": null,
   "id": "91c816bb-2f67-42a6-8b23-9795ab352151",
   "metadata": {},
   "outputs": [],
   "source": [
    "service = get_tap_service()\n",
    "assert service is not None\n",
    "assert service.baseurl == \"https://data.lsst.cloud/api/tap\"\n"
   ]
  },
  {
   "cell_type": "markdown",
   "id": "713c87c0-56bc-4614-bc80-e37f9aa6f8b4",
   "metadata": {},
   "source": [
    "#### Make a plot showing a blended source"
   ]
  },
  {
   "cell_type": "code",
   "execution_count": null,
   "id": "263b5d42-1505-47a3-9a63-714521de419c",
   "metadata": {},
   "outputs": [
    {
     "name": "stdout",
     "output_type": "stream",
     "text": [
      "1248675773246610542\n"
     ]
    }
   ],
   "source": [
    "# prepare to do the cutout from tutorial notebook 03\n",
    "config = 'dp02'\n",
    "collection = '2.2i/runs/DP0.2'\n",
    "butler = Butler.Butler(config, collections=collection)\n",
    "\n",
    "datasetType = \"deepCoadd\"\n",
    "\n",
    "# Choose a parent and deblended children. Here are a couple good ones:\n",
    "#1329731770446283558\t4574.5498478\t5486.0082516\t72.3165407\t-42.8674071\tTrue\t0\tFalse\tTrue\tTrue\tTrue\tFalse\t1329731770446253832\t4867\t0.9493601\t3085\t8\n",
    "#1248675773246610542\t23484.4969535\t3210.1552014\t50.1089143\t-44.4812763\tFalse\t13\tFalse\tFalse\tFalse\tFalse\tFalse\t0\t3435\t0.0\t2897\t5\n",
    "\n",
    "tract = 2897\n",
    "patch = 5\n",
    "\n",
    "sel_objid = 1248675773246610542 \n",
    "ra = 50.1089143\n",
    "dec = -44.4812763\n",
    "x = 23484.4969535\n",
    "y = 3210.1552014\n",
    "\n",
    "\n",
    "dataId = {'tract': tract, 'band': 'i', 'patch': patch }  \n",
    "blend_coadd = butler.get(datasetType, **dataId)\n",
    "\n",
    "deblend_metadata = butler.get(\"deblend_metadata\", **dataId)\n",
    "\n",
    "# Take a look at the image of the patch\n",
    "plt.figure(figsize=(30,30))\n",
    "afw_display = afwDisplay.Display()\n",
    "afw_display.setMaskTransparency(50)\n",
    "afw_display.scale('asinh', 'zscale')\n",
    "afw_display.mtv(blend_coadd.getMaskedImage()) # what does getMaskedImage do?\n",
    "\n",
    "# We use display buffering to avoid re-drawing the image\n",
    "#  after each source is plotted\n",
    "afw_display.dot('o', x, y, size=50, ctype=afwDisplay.RED)\n"
   ]
  },
  {
   "cell_type": "markdown",
   "id": "d6972731-de4a-4d8a-b057-b598df4c629f",
   "metadata": {},
   "source": [
    "### Identify the children that are deblended from the above parent source:"
   ]
  },
  {
   "cell_type": "code",
   "execution_count": 5,
   "id": "52abfcb8-89db-4457-96de-b76fca2e2c19",
   "metadata": {},
   "outputs": [
    {
     "name": "stdout",
     "output_type": "stream",
     "text": [
      "CPU times: user 19.4 ms, sys: 44 µs, total: 19.5 ms\n",
      "Wall time: 179 ms\n"
     ]
    }
   ],
   "source": [
    "%%time\n",
    "\n",
    "# This is very slow. TAP is optimized to search on RA / Dec not other stuff. Do not use.\n",
    "#query_children = \"SELECT objectId, x, y, coord_ra, coord_dec, detect_isPrimary, deblend_nChild, deblend_skipped, detect_fromBlend, \" + \\\n",
    "#        \"detect_isDeblendedModelSource, detect_isDeblendedSource, detect_isIsolated, parentObjectId, footprintArea, z_blendedness, \" + \\\n",
    "#        \"tract, patch \" + \\\n",
    "#        \"FROM dp02_dc2_catalogs.Object \" + \\\n",
    "#        \"WHERE patch = \" + str(tab_maxblend[0]['patch']) + \" AND tract = \" + str(tab_maxblend[0]['tract']) +  \\\n",
    "#        \"AND parentObjectID = \" + str(sel_objid)\n",
    "    \n",
    "# first search on RA/Dec and then use a where statement to pull out targets based on ID    \n",
    "query_children = \"SELECT ObjectId, x, y, coord_ra, coord_dec, detect_isPrimary, deblend_nChild, deblend_skipped, detect_fromBlend, \" + \\\n",
    "        \"detect_isDeblendedModelSource, detect_isDeblendedSource, detect_isIsolated, parentObjectId, footprintArea, z_blendedness, \" + \\\n",
    "        \"tract, patch \" + \\\n",
    "        \"FROM dp02_dc2_catalogs.Object \" + \\\n",
    "        \"WHERE CONTAINS(POINT('ICRS', coord_ra, coord_dec ), \" + \\\n",
    "        \"CIRCLE('ICRS', \" + str(ra) + \", \" + str(dec) + \", 0.01)) = 1 \"   \n",
    "    \n",
    "results_children = service.search(query_children, maxrec=10000)\n",
    "tab_children = results_children.to_table()\n",
    "\n",
    "whc = np.where(tab_children['parentObjectId'] == sel_objid)[0]\n",
    "\n"
   ]
  },
  {
   "cell_type": "markdown",
   "id": "67d59edb-25fb-4e63-aafd-f899037fdfe8",
   "metadata": {},
   "source": [
    "### Create an image cutout centered on the parent + children to see it better:\n"
   ]
  },
  {
   "cell_type": "code",
   "execution_count": 1,
   "id": "63adbc18-997f-46d4-b8ec-9dc2a33381cb",
   "metadata": {},
   "outputs": [
    {
     "ename": "NameError",
     "evalue": "name 'cutout_coadd' is not defined",
     "output_type": "error",
     "traceback": [
      "\u001b[0;31m---------------------------------------------------------------------------\u001b[0m",
      "\u001b[0;31mNameError\u001b[0m                                 Traceback (most recent call last)",
      "Input \u001b[0;32mIn [1]\u001b[0m, in \u001b[0;36m<cell line: 1>\u001b[0;34m()\u001b[0m\n\u001b[0;32m----> 1\u001b[0m cutout_image \u001b[38;5;241m=\u001b[39m cutout_coadd(butler, ra,dec, band\u001b[38;5;241m=\u001b[39m\u001b[38;5;124m'\u001b[39m\u001b[38;5;124mi\u001b[39m\u001b[38;5;124m'\u001b[39m, datasetType\u001b[38;5;241m=\u001b[39m\u001b[38;5;124m'\u001b[39m\u001b[38;5;124mdeepCoadd\u001b[39m\u001b[38;5;124m'\u001b[39m,\n\u001b[1;32m      2\u001b[0m                             cutoutSideLength\u001b[38;5;241m=\u001b[39m\u001b[38;5;241m501\u001b[39m)\n\u001b[1;32m      4\u001b[0m wcs \u001b[38;5;241m=\u001b[39m cutout_image\u001b[38;5;241m.\u001b[39mgetWcs()\n\u001b[1;32m      6\u001b[0m x0 \u001b[38;5;241m=\u001b[39m \u001b[38;5;28mfloat\u001b[39m(cutout_image\u001b[38;5;241m.\u001b[39mgetX0())\n",
      "\u001b[0;31mNameError\u001b[0m: name 'cutout_coadd' is not defined"
     ]
    }
   ],
   "source": [
    "\n",
    "\n",
    "cutout_image = cutout_coadd(butler, ra,dec, band='i', datasetType='deepCoadd',\n",
    "                            cutoutSideLength=501)\n",
    "\n",
    "wcs = cutout_image.getWcs()\n",
    "\n",
    "x0 = float(cutout_image.getX0())\n",
    "y0 = float(cutout_image.getY0())\n",
    "width = cutout_image.getWidth()\n",
    "height = cutout_image.getHeight()\n",
    "\n",
    "xcorners = [x0, x0+width, x0+width, x0]\n",
    "ycorners = [y0, y0, y0+width, y0+width]\n",
    "\n",
    "ra_corners = []\n",
    "dec_corners = []\n",
    "\n",
    "for i in range(len(xcorners)):\n",
    "    radec = wcs.pixelToSky(xcorners[i], ycorners[i])\n",
    "    ra_corners.append(radec.getRa().asDegrees())\n",
    "    dec_corners.append(radec.getDec().asDegrees())\n",
    "\n",
    "\n",
    "fig, ax = plt.subplots()\n",
    "display = afwDisplay.Display(frame=fig)\n",
    "display.scale('asinh', 'zscale')\n",
    "display.mtv(cutout_image.image)\n",
    "with display.Buffering():\n",
    "    for i in range(len(tab_children[whc])):\n",
    "        display.dot('+', tab_children[whc][i]['x'], tab_children[whc][i]['y'], ctype=afwDisplay.RED)\n",
    "\n",
    "display.dot('+', x, y, ctype=afwDisplay.BLUE)\n",
    "plt.show()\n",
    "\n",
    "\n"
   ]
  },
  {
   "cell_type": "markdown",
   "id": "36aecf3b-c107-4acb-a01f-0e87310ddc8d",
   "metadata": {},
   "source": [
    "### Questions: \n",
    "\n",
    "### 1) Is the footprint that deblender created to split these children still available somewhere? How to access?\n",
    "\n"
   ]
  },
  {
   "cell_type": "code",
   "execution_count": 7,
   "id": "4042e009-f26c-4eeb-ab1f-ad649f909310",
   "metadata": {},
   "outputs": [],
   "source": [
    "# Notes for constructing this notebook:\n",
    "# search for everything with parentobjID as one of these then you should get n_deblend sources.\n",
    "# when talkign to data production: best to have a well constrained problem. here's this one thing\n",
    "# here's what i'm trying to do, what is the next step. faster response this way.\n",
    "# make a new notebook where i outline one source example. ask 1 question at a time. 10min"
   ]
  }
 ],
 "metadata": {
  "kernelspec": {
   "display_name": "LSST",
   "language": "python",
   "name": "lsst"
  },
  "language_info": {
   "codemirror_mode": {
    "name": "ipython",
    "version": 3
   },
   "file_extension": ".py",
   "mimetype": "text/x-python",
   "name": "python",
   "nbconvert_exporter": "python",
   "pygments_lexer": "ipython3",
   "version": "3.10.5"
  },
  "toc-autonumbering": false
 },
 "nbformat": 4,
 "nbformat_minor": 5
}
