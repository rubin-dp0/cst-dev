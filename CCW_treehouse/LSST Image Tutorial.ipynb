{
 "cells": [
  {
   "cell_type": "markdown",
   "id": "59b71cc5-71e8-4fb9-864e-92e82021dfca",
   "metadata": {},
   "source": [
    "# LSST Image Service Tutorial\n",
    "\n",
    "This notebook provides a simple tutorial where you will inspect the observations table,\n",
    "and work with fits images of observations you select.\n",
    "\n",
    "## 1. Create TAP client\n",
    "\n",
    "We will use the Table Access Protocol (TAP; accessing source catalogs using sql-ish queries) service to access the ivoa.ObsCore table, which contains observation data. IVOA = Int'l Virtual Observatory Alliance. The Virtual Observatory (VO) is the vision that astronomical datasets and other resources should work as a seamless whole. Server-side Operations for Data Access (SODA) web service capability is a low-level data access capability or server side data processing that can act upon the data files, performing various kinds of operations: filtering/subsection, transformations, pixel operations, and applying functions to the data"
   ]
  },
  {
   "cell_type": "code",
   "execution_count": 1,
   "id": "192f5b96-2e04-431e-8022-6870726d5e5a",
   "metadata": {},
   "outputs": [],
   "source": [
    "import lsst.afw.display\n",
    "import lsst.afw.image\n",
    "import lsst.rsp\n",
    "from pyvo.dal.adhoc import DatalinkResults, SodaQuery\n",
    "\n",
    "lsst.afw.display.setDefaultBackend('matplotlib')\n",
    "service = lsst.rsp.get_tap_service()"
   ]
  },
  {
   "cell_type": "code",
   "execution_count": 2,
   "id": "f11a4be8-d08f-4842-8a91-11f78fb0091b",
   "metadata": {},
   "outputs": [],
   "source": [
    "# This cell is a hack until we get the following PR in:\n",
    "# https://github.com/lsst-sqre/lsst-rsp/pull/11\n",
    "service._session.add_security_method_for_url(\"https://data-int.lsst.cloud/api/datalink\", \"lsst-token\")\n",
    "service._session.add_security_method_for_url(\"https://data-int.lsst.cloud/api/cutout\", \"lsst-token\")"
   ]
  },
  {
   "cell_type": "markdown",
   "id": "0828ebb5-c678-4a14-b7a7-8abaeace57ac",
   "metadata": {},
   "source": [
    "## 2. Query the ObsCore table for an observation\n",
    "\n",
    "Execute a SQL statement against the ObsCore table, where you can limit the observations by time,\n",
    "type, and any other SQL features. ObsCore is a format for metadata provided for discovery of data via VO compliant TAP services by the IVOA.\n",
    "\n",
    "We will display in a table the rows returned, but for the rest of this notebook, we will only\n",
    "work with the first row."
   ]
  },
  {
   "cell_type": "code",
   "execution_count": 3,
   "id": "870a777a-cd8c-4a34-a6e4-cf4320a11d7b",
   "metadata": {},
   "outputs": [
    {
     "data": {
      "text/html": [
       "<i>Table length=1</i>\n",
       "<table id=\"table140530223529264-291653\" class=\"table-striped table-bordered table-condensed\">\n",
       "<thead><tr><th>idx</th><th>access_format</th><th>access_url</th><th>calib_level</th><th>dataproduct_subtype</th><th>dataproduct_type</th><th>em_max</th><th>em_min</th><th>em_res_power</th><th>em_xel</th><th>facility_name</th><th>instrument_name</th><th>lsst_band</th><th>lsst_detector</th><th>lsst_filter</th><th>lsst_patch</th><th>lsst_tract</th><th>lsst_visit</th><th>o_ucd</th><th>obs_collection</th><th>obs_id</th><th>obs_publisher_did</th><th>pol_xel</th><th>s_dec</th><th>s_fov</th><th>s_ra</th><th>s_region</th><th>s_resolution</th><th>s_xel1</th><th>s_xel2</th><th>t_exptime</th><th>t_max</th><th>t_min</th><th>t_resolution</th><th>t_xel</th><th>target_name</th></tr></thead>\n",
       "<thead><tr><th></th><th></th><th></th><th></th><th></th><th></th><th>m</th><th>m</th><th></th><th></th><th></th><th></th><th></th><th></th><th></th><th></th><th></th><th></th><th></th><th></th><th></th><th></th><th></th><th>deg</th><th>deg</th><th>deg</th><th></th><th>arcsec</th><th></th><th></th><th>s</th><th>d</th><th>d</th><th>s</th><th></th><th></th></tr></thead>\n",
       "<tr><td>0</td><td>application/x-votable+xml;content=datalink</td><td>https://data.lsst.cloud/api/datalink/links?ID=butler%3A//dp02/4f64102f-7923-4cf1-b981-8fbbb4bba523</td><td>2</td><td>lsst.calexp</td><td>image</td><td>1.06e-06</td><td>9.7e-07</td><td>--</td><td>--</td><td>Rubin-LSST</td><td>LSSTCam-imSim</td><td>y</td><td>32</td><td>y_sim_1.4</td><td>--</td><td>--</td><td>167862</td><td>phot.count</td><td>LSST.DP02</td><td>167862-R10_S12</td><td></td><td>--</td><td>-36.57119336310486</td><td>0.3562851119036029</td><td>62.61333086903562</td><td>POLYGON ICRS 62.658135 -36.745672 62.829695 -36.532372 62.568750 -36.396696 62.396738 -36.609621</td><td>--</td><td>--</td><td>--</td><td>30.0</td><td>59803.353033831016</td><td>59803.35268661111</td><td>--</td><td>--</td><td>UNKNOWN</td></tr>\n",
       "</table><style>table.dataTable {clear: both; width: auto !important; margin: 0 !important;}\n",
       ".dataTables_info, .dataTables_length, .dataTables_filter, .dataTables_paginate{\n",
       "display: inline-block; margin-right: 1em; }\n",
       ".paginate_button { margin-right: 5px; }\n",
       "</style>\n",
       "<script>\n",
       "\n",
       "var astropy_sort_num = function(a, b) {\n",
       "    var a_num = parseFloat(a);\n",
       "    var b_num = parseFloat(b);\n",
       "\n",
       "    if (isNaN(a_num) && isNaN(b_num))\n",
       "        return ((a < b) ? -1 : ((a > b) ? 1 : 0));\n",
       "    else if (!isNaN(a_num) && !isNaN(b_num))\n",
       "        return ((a_num < b_num) ? -1 : ((a_num > b_num) ? 1 : 0));\n",
       "    else\n",
       "        return isNaN(a_num) ? -1 : 1;\n",
       "}\n",
       "\n",
       "require.config({paths: {\n",
       "    datatables: 'https://cdn.datatables.net/1.10.12/js/jquery.dataTables.min'\n",
       "}});\n",
       "require([\"datatables\"], function(){\n",
       "    console.log(\"$('#table140530223529264-291653').dataTable()\");\n",
       "    \n",
       "jQuery.extend( jQuery.fn.dataTableExt.oSort, {\n",
       "    \"optionalnum-asc\": astropy_sort_num,\n",
       "    \"optionalnum-desc\": function (a,b) { return -astropy_sort_num(a, b); }\n",
       "});\n",
       "\n",
       "    $('#table140530223529264-291653').dataTable({\n",
       "        order: [],\n",
       "        pageLength: 50,\n",
       "        lengthMenu: [[10, 25, 50, 100, 500, 1000, -1], [10, 25, 50, 100, 500, 1000, 'All']],\n",
       "        pagingType: \"full_numbers\",\n",
       "        columnDefs: [{targets: [0, 3, 6, 7, 8, 9, 13, 15, 16, 17, 22, 23, 24, 25, 27, 28, 29, 30, 31, 32, 33, 34], type: \"optionalnum\"}]\n",
       "    });\n",
       "});\n",
       "</script>\n"
      ],
      "text/plain": [
       "<IPython.core.display.HTML object>"
      ]
     },
     "execution_count": 3,
     "metadata": {},
     "output_type": "execute_result"
    }
   ],
   "source": [
    "results = service.search(\"SELECT * FROM ivoa.ObsCore WHERE dataproduct_subtype='lsst.calexp' LIMIT 1\")\n",
    "r = results[0]\n",
    "results.to_table().show_in_notebook()"
   ]
  },
  {
   "cell_type": "markdown",
   "id": "3cc93340-fdf6-4aeb-8b13-a4db913bb250",
   "metadata": {},
   "source": [
    "## 3. Access the Datalink links service\n",
    "\n",
    "The Datalink links service, which is referred to in the access_url column in the table above,\n",
    "provides all sorts of interesting information about a particular observation."
   ]
  },
  {
   "cell_type": "code",
   "execution_count": 4,
   "id": "19bb7a84-c6b6-4e9c-a8ba-446d96ec14c5",
   "metadata": {},
   "outputs": [
    {
     "name": "stdout",
     "output_type": "stream",
     "text": [
      "Datalink link service url: https://data.lsst.cloud/api/datalink/links?ID=butler%3A//dp02/4f64102f-7923-4cf1-b981-8fbbb4bba523\n"
     ]
    },
    {
     "ename": "E19",
     "evalue": "None:8:0: E19: File does not appear to be a VOTABLE",
     "output_type": "error",
     "traceback": [
      "\u001b[0;31m---------------------------------------------------------------------------\u001b[0m",
      "\u001b[0;31mE19\u001b[0m                                       Traceback (most recent call last)",
      "Input \u001b[0;32mIn [4]\u001b[0m, in \u001b[0;36m<cell line: 2>\u001b[0;34m()\u001b[0m\n\u001b[1;32m      1\u001b[0m \u001b[38;5;28mprint\u001b[39m(\u001b[38;5;124mf\u001b[39m\u001b[38;5;124m\"\u001b[39m\u001b[38;5;124mDatalink link service url: \u001b[39m\u001b[38;5;132;01m{\u001b[39;00mr\u001b[38;5;241m.\u001b[39mgetdataurl()\u001b[38;5;132;01m}\u001b[39;00m\u001b[38;5;124m\"\u001b[39m)\n\u001b[0;32m----> 2\u001b[0m dr \u001b[38;5;241m=\u001b[39m \u001b[43mDatalinkResults\u001b[49m\u001b[38;5;241;43m.\u001b[39;49m\u001b[43mfrom_result_url\u001b[49m\u001b[43m(\u001b[49m\u001b[43mr\u001b[49m\u001b[38;5;241;43m.\u001b[39;49m\u001b[43mgetdataurl\u001b[49m\u001b[43m(\u001b[49m\u001b[43m)\u001b[49m\u001b[43m,\u001b[49m\u001b[43m \u001b[49m\u001b[43msession\u001b[49m\u001b[38;5;241;43m=\u001b[39;49m\u001b[43mservice\u001b[49m\u001b[38;5;241;43m.\u001b[39;49m\u001b[43m_session\u001b[49m\u001b[43m)\u001b[49m\n\u001b[1;32m      3\u001b[0m dr\u001b[38;5;241m.\u001b[39mto_table()\u001b[38;5;241m.\u001b[39mshow_in_notebook()\n",
      "File \u001b[0;32m/opt/lsst/software/stack/conda/miniconda3-py38_4.9.2/envs/lsst-scipipe-4.0.0/lib/python3.10/site-packages/pyvo/dal/query.py:284\u001b[0m, in \u001b[0;36mDALResults.from_result_url\u001b[0;34m(cls, result_url, session)\u001b[0m\n\u001b[1;32m    277\u001b[0m \u001b[38;5;124;03m\"\"\"\u001b[39;00m\n\u001b[1;32m    278\u001b[0m \u001b[38;5;124;03mCreate a result object from a url.\u001b[39;00m\n\u001b[1;32m    279\u001b[0m \n\u001b[1;32m    280\u001b[0m \u001b[38;5;124;03mUses the optional session to make the request.\u001b[39;00m\n\u001b[1;32m    281\u001b[0m \u001b[38;5;124;03m\"\"\"\u001b[39;00m\n\u001b[1;32m    282\u001b[0m session \u001b[38;5;241m=\u001b[39m use_session(session)\n\u001b[1;32m    283\u001b[0m \u001b[38;5;28;01mreturn\u001b[39;00m \u001b[38;5;28mcls\u001b[39m(\n\u001b[0;32m--> 284\u001b[0m     \u001b[43mvotableparse\u001b[49m\u001b[43m(\u001b[49m\u001b[38;5;28;43mcls\u001b[39;49m\u001b[38;5;241;43m.\u001b[39;49m\u001b[43m_from_result_url\u001b[49m\u001b[43m(\u001b[49m\u001b[43mresult_url\u001b[49m\u001b[43m,\u001b[49m\u001b[43m \u001b[49m\u001b[43msession\u001b[49m\u001b[43m)\u001b[49m\u001b[38;5;241;43m.\u001b[39;49m\u001b[43mread\u001b[49m\u001b[43m)\u001b[49m,\n\u001b[1;32m    285\u001b[0m     url\u001b[38;5;241m=\u001b[39mresult_url,\n\u001b[1;32m    286\u001b[0m     session\u001b[38;5;241m=\u001b[39msession)\n",
      "File \u001b[0;32m/opt/lsst/software/stack/conda/miniconda3-py38_4.9.2/envs/lsst-scipipe-4.0.0/lib/python3.10/site-packages/astropy/utils/decorators.py:546\u001b[0m, in \u001b[0;36mdeprecated_renamed_argument.<locals>.decorator.<locals>.wrapper\u001b[0;34m(*args, **kwargs)\u001b[0m\n\u001b[1;32m    543\u001b[0m             msg \u001b[38;5;241m+\u001b[39m\u001b[38;5;241m=\u001b[39m \u001b[38;5;124mf\u001b[39m\u001b[38;5;124m'\u001b[39m\u001b[38;5;130;01m\\n\u001b[39;00m\u001b[38;5;124m        Use \u001b[39m\u001b[38;5;132;01m{\u001b[39;00malternative\u001b[38;5;132;01m}\u001b[39;00m\u001b[38;5;124m instead.\u001b[39m\u001b[38;5;124m'\u001b[39m\n\u001b[1;32m    544\u001b[0m         warnings\u001b[38;5;241m.\u001b[39mwarn(msg, warning_type, stacklevel\u001b[38;5;241m=\u001b[39m\u001b[38;5;241m2\u001b[39m)\n\u001b[0;32m--> 546\u001b[0m \u001b[38;5;28;01mreturn\u001b[39;00m \u001b[43mfunction\u001b[49m\u001b[43m(\u001b[49m\u001b[38;5;241;43m*\u001b[39;49m\u001b[43margs\u001b[49m\u001b[43m,\u001b[49m\u001b[43m \u001b[49m\u001b[38;5;241;43m*\u001b[39;49m\u001b[38;5;241;43m*\u001b[39;49m\u001b[43mkwargs\u001b[49m\u001b[43m)\u001b[49m\n",
      "File \u001b[0;32m/opt/lsst/software/stack/conda/miniconda3-py38_4.9.2/envs/lsst-scipipe-4.0.0/lib/python3.10/site-packages/astropy/io/votable/table.py:160\u001b[0m, in \u001b[0;36mparse\u001b[0;34m(source, columns, invalid, verify, chunk_size, table_number, table_id, filename, unit_format, datatype_mapping, _debug_python_based_parser)\u001b[0m\n\u001b[1;32m    154\u001b[0m     config[\u001b[38;5;124m'\u001b[39m\u001b[38;5;124mfilename\u001b[39m\u001b[38;5;124m'\u001b[39m] \u001b[38;5;241m=\u001b[39m source\n\u001b[1;32m    156\u001b[0m \u001b[38;5;28;01mwith\u001b[39;00m iterparser\u001b[38;5;241m.\u001b[39mget_xml_iterator(\n\u001b[1;32m    157\u001b[0m         source,\n\u001b[1;32m    158\u001b[0m         _debug_python_based_parser\u001b[38;5;241m=\u001b[39m_debug_python_based_parser) \u001b[38;5;28;01mas\u001b[39;00m iterator:\n\u001b[1;32m    159\u001b[0m     \u001b[38;5;28;01mreturn\u001b[39;00m \u001b[43mtree\u001b[49m\u001b[38;5;241;43m.\u001b[39;49m\u001b[43mVOTableFile\u001b[49m\u001b[43m(\u001b[49m\n\u001b[0;32m--> 160\u001b[0m \u001b[43m        \u001b[49m\u001b[43mconfig\u001b[49m\u001b[38;5;241;43m=\u001b[39;49m\u001b[43mconfig\u001b[49m\u001b[43m,\u001b[49m\u001b[43m \u001b[49m\u001b[43mpos\u001b[49m\u001b[38;5;241;43m=\u001b[39;49m\u001b[43m(\u001b[49m\u001b[38;5;241;43m1\u001b[39;49m\u001b[43m,\u001b[49m\u001b[43m \u001b[49m\u001b[38;5;241;43m1\u001b[39;49m\u001b[43m)\u001b[49m\u001b[43m)\u001b[49m\u001b[38;5;241;43m.\u001b[39;49m\u001b[43mparse\u001b[49m\u001b[43m(\u001b[49m\u001b[43miterator\u001b[49m\u001b[43m,\u001b[49m\u001b[43m \u001b[49m\u001b[43mconfig\u001b[49m\u001b[43m)\u001b[49m\n",
      "File \u001b[0;32m/opt/lsst/software/stack/conda/miniconda3-py38_4.9.2/envs/lsst-scipipe-4.0.0/lib/python3.10/site-packages/astropy/io/votable/tree.py:3601\u001b[0m, in \u001b[0;36mVOTableFile.parse\u001b[0;34m(self, iterator, config)\u001b[0m\n\u001b[1;32m   3599\u001b[0m             \u001b[38;5;28;01mbreak\u001b[39;00m\n\u001b[1;32m   3600\u001b[0m         \u001b[38;5;28;01melse\u001b[39;00m:\n\u001b[0;32m-> 3601\u001b[0m             \u001b[43mvo_raise\u001b[49m\u001b[43m(\u001b[49m\u001b[43mE19\u001b[49m\u001b[43m,\u001b[49m\u001b[43m \u001b[49m\u001b[43m(\u001b[49m\u001b[43m)\u001b[49m\u001b[43m,\u001b[49m\u001b[43m \u001b[49m\u001b[43mconfig\u001b[49m\u001b[43m,\u001b[49m\u001b[43m \u001b[49m\u001b[43mpos\u001b[49m\u001b[43m)\u001b[49m\n\u001b[1;32m   3602\u001b[0m config\u001b[38;5;241m.\u001b[39mupdate(\u001b[38;5;28mself\u001b[39m\u001b[38;5;241m.\u001b[39m_get_version_checks())\n\u001b[1;32m   3604\u001b[0m tag_mapping \u001b[38;5;241m=\u001b[39m {\n\u001b[1;32m   3605\u001b[0m     \u001b[38;5;124m'\u001b[39m\u001b[38;5;124mPARAM\u001b[39m\u001b[38;5;124m'\u001b[39m: \u001b[38;5;28mself\u001b[39m\u001b[38;5;241m.\u001b[39m_add_param,\n\u001b[1;32m   3606\u001b[0m     \u001b[38;5;124m'\u001b[39m\u001b[38;5;124mRESOURCE\u001b[39m\u001b[38;5;124m'\u001b[39m: \u001b[38;5;28mself\u001b[39m\u001b[38;5;241m.\u001b[39m_add_resource,\n\u001b[0;32m   (...)\u001b[0m\n\u001b[1;32m   3611\u001b[0m     \u001b[38;5;124m'\u001b[39m\u001b[38;5;124mDESCRIPTION\u001b[39m\u001b[38;5;124m'\u001b[39m: \u001b[38;5;28mself\u001b[39m\u001b[38;5;241m.\u001b[39m_ignore_add,\n\u001b[1;32m   3612\u001b[0m     \u001b[38;5;124m'\u001b[39m\u001b[38;5;124mGROUP\u001b[39m\u001b[38;5;124m'\u001b[39m: \u001b[38;5;28mself\u001b[39m\u001b[38;5;241m.\u001b[39m_add_group}\n",
      "File \u001b[0;32m/opt/lsst/software/stack/conda/miniconda3-py38_4.9.2/envs/lsst-scipipe-4.0.0/lib/python3.10/site-packages/astropy/io/votable/exceptions.py:112\u001b[0m, in \u001b[0;36mvo_raise\u001b[0;34m(exception_class, args, config, pos)\u001b[0m\n\u001b[1;32m    110\u001b[0m \u001b[38;5;28;01mif\u001b[39;00m config \u001b[38;5;129;01mis\u001b[39;00m \u001b[38;5;28;01mNone\u001b[39;00m:\n\u001b[1;32m    111\u001b[0m     config \u001b[38;5;241m=\u001b[39m {}\n\u001b[0;32m--> 112\u001b[0m \u001b[38;5;28;01mraise\u001b[39;00m exception_class(args, config, pos)\n",
      "\u001b[0;31mE19\u001b[0m: None:8:0: E19: File does not appear to be a VOTABLE"
     ]
    }
   ],
   "source": [
    "print(f\"Datalink link service url: {r.getdataurl()}\")\n",
    "dr = DatalinkResults.from_result_url(r.getdataurl(), session=service._session)\n",
    "dr.to_table().show_in_notebook()"
   ]
  },
  {
   "cell_type": "markdown",
   "id": "3b143b1f-f951-4e95-9318-c50235669461",
   "metadata": {},
   "source": [
    "## 4. Use SODA to create a circle cutout\n",
    "\n",
    "Since the full observation is very large, you can request a cutout of different shapes around the object\n",
    "you are looking at.\n",
    "\n",
    "The first line sets up a request to the SODA service.\n",
    "The second line sets up the circle shape, providing RA, DEC, and a radius.\n",
    "The last lines read the file from the network and write it to a local fits file."
   ]
  },
  {
   "cell_type": "code",
   "execution_count": 5,
   "id": "ade1f356-8d93-45fb-889f-e87f00264bd3",
   "metadata": {},
   "outputs": [
    {
     "ename": "NameError",
     "evalue": "name 'dr' is not defined",
     "output_type": "error",
     "traceback": [
      "\u001b[0;31m---------------------------------------------------------------------------\u001b[0m",
      "\u001b[0;31mNameError\u001b[0m                                 Traceback (most recent call last)",
      "Input \u001b[0;32mIn [5]\u001b[0m, in \u001b[0;36m<cell line: 1>\u001b[0;34m()\u001b[0m\n\u001b[0;32m----> 1\u001b[0m sq \u001b[38;5;241m=\u001b[39m SodaQuery\u001b[38;5;241m.\u001b[39mfrom_resource(\u001b[43mdr\u001b[49m, dr\u001b[38;5;241m.\u001b[39mget_adhocservice_by_id(\u001b[38;5;124m\"\u001b[39m\u001b[38;5;124mcutout-sync\u001b[39m\u001b[38;5;124m\"\u001b[39m), session\u001b[38;5;241m=\u001b[39mservice\u001b[38;5;241m.\u001b[39m_session)\n\u001b[1;32m      2\u001b[0m sq\u001b[38;5;241m.\u001b[39mcircle \u001b[38;5;241m=\u001b[39m (r[\u001b[38;5;124m\"\u001b[39m\u001b[38;5;124ms_ra\u001b[39m\u001b[38;5;124m\"\u001b[39m], r[\u001b[38;5;124m\"\u001b[39m\u001b[38;5;124ms_dec\u001b[39m\u001b[38;5;124m\"\u001b[39m], \u001b[38;5;241m0.09\u001b[39m)\n\u001b[1;32m      4\u001b[0m \u001b[38;5;28;01mwith\u001b[39;00m \u001b[38;5;28mopen\u001b[39m(\u001b[38;5;124m'\u001b[39m\u001b[38;5;124mcircle-cutout.fits\u001b[39m\u001b[38;5;124m'\u001b[39m, \u001b[38;5;124m'\u001b[39m\u001b[38;5;124mbw\u001b[39m\u001b[38;5;124m'\u001b[39m) \u001b[38;5;28;01mas\u001b[39;00m f:\n",
      "\u001b[0;31mNameError\u001b[0m: name 'dr' is not defined"
     ]
    }
   ],
   "source": [
    "sq = SodaQuery.from_resource(dr, dr.get_adhocservice_by_id(\"cutout-sync\"), session=service._session)\n",
    "sq.circle = (r[\"s_ra\"], r[\"s_dec\"], 0.09)\n",
    "\n",
    "with open('circle-cutout.fits', 'bw') as f:\n",
    "    f.write(sq.execute_stream().read())"
   ]
  },
  {
   "cell_type": "markdown",
   "id": "04529b47-f31e-4480-89af-99782510f4a3",
   "metadata": {},
   "source": [
    "## 5. Display the cutout"
   ]
  },
  {
   "cell_type": "code",
   "execution_count": null,
   "id": "0227da87-f749-47f7-a68b-abbba8809c3f",
   "metadata": {},
   "outputs": [],
   "source": [
    "i = lsst.afw.image.ImageF('circle-cutout.fits')     #read FITS file into afw image object\n",
    "afw_display = lsst.afw.display.Display()      #get an alias to the lsst.afw.display.Display() method\n",
    "afw_display.scale('asinh', 'zscale')    #set the image stretch algorithm and range\n",
    "afw_display.mtv(i)                     #load the image into the display"
   ]
  }
 ],
 "metadata": {
  "kernelspec": {
   "display_name": "LSST",
   "language": "python",
   "name": "lsst"
  },
  "language_info": {
   "codemirror_mode": {
    "name": "ipython",
    "version": 3
   },
   "file_extension": ".py",
   "mimetype": "text/x-python",
   "name": "python",
   "nbconvert_exporter": "python",
   "pygments_lexer": "ipython3",
   "version": "3.10.5"
  }
 },
 "nbformat": 4,
 "nbformat_minor": 5
}
