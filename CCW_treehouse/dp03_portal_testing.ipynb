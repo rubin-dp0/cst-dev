{
 "cells": [
  {
   "cell_type": "markdown",
   "id": "749b0ddf",
   "metadata": {},
   "source": [
    "<img align=\"left\" src = https://project.lsst.org/sites/default/files/Rubin-O-Logo_0.png width=250 style=\"padding: 10px\"> \n",
    "<b>CET Template Notebook</b> <br>\n",
    "Contact author(s): <i>Author Name</i> <br>\n",
    "Last verified to run: <i>yyyy-mm-dd</i> <br>\n",
    "LSST Science Piplines version: Weekly <i>yyyy_xx</i> <br>\n",
    "Container Size: <i>medium</i> <br>\n",
    "Targeted learning level: <i>beginner</i> <br>"
   ]
  },
  {
   "cell_type": "markdown",
   "id": "2d9cd09b-d5c4-4610-993b-711bdc9bd80e",
   "metadata": {},
   "source": [
    "_In this template, text in italics are examples or instructions that should be: (a) removed if it is not applicable to the notebook; or (b) replaced with text that is appropriate for the notebook. But bold or regular text should appear pretty much as-is in all CET notebooks. For more information, see the [CET's Guidelines for Tutorial Notebooks](https://confluence.lsstcorp.org/pages/viewpage.action?pageId=168857070)._"
   ]
  },
  {
   "cell_type": "markdown",
   "id": "582ab507-a7ae-4024-95c9-38aabeb602a6",
   "metadata": {},
   "source": [
    "_While developing, use the following code cell to check that the code conforms to standards, but then delete the cell and \"Kernel --> Restart Kernel and Clear All Outputs\" before saving and committing._"
   ]
  },
  {
   "cell_type": "code",
   "execution_count": 1,
   "id": "7acc79a4-8530-42d9-96e5-b7acb4397864",
   "metadata": {
    "execution": {
     "iopub.execute_input": "2023-10-17T21:33:14.901898Z",
     "iopub.status.busy": "2023-10-17T21:33:14.901720Z",
     "iopub.status.idle": "2023-10-17T21:33:14.905586Z",
     "shell.execute_reply": "2023-10-17T21:33:14.904634Z",
     "shell.execute_reply.started": "2023-10-17T21:33:14.901880Z"
    }
   },
   "outputs": [],
   "source": [
    "#%load_ext pycodestyle_magic\n",
    "#%flake8_on\n",
    "#import logging\n",
    "#logging.getLogger(\"flake8\").setLevel(logging.FATAL)#"
   ]
  },
  {
   "cell_type": "markdown",
   "id": "482777d8-0a8d-432e-ba53-2da536700407",
   "metadata": {},
   "source": [
    "_The six cells below are considered the extended header of the notebook. The first four will be used, verbatim, to create the table of notebook metadata in the README.md file for the repository._"
   ]
  },
  {
   "cell_type": "markdown",
   "id": "9da1a210-d858-42fe-8591-570965b8be1a",
   "metadata": {},
   "source": [
    "**Description:** _Very brief description of notebook._"
   ]
  },
  {
   "cell_type": "markdown",
   "id": "80a0baf5-51ad-40ec-8991-060a7b27c289",
   "metadata": {},
   "source": [
    "**Skills:** _Brief list of skills to match the README.md file for the repository._"
   ]
  },
  {
   "cell_type": "markdown",
   "id": "393da88f-7978-4920-aa4a-a9830df6eed9",
   "metadata": {},
   "source": [
    "**LSST Data Products:** _List the all of the types of LSST catalogs and images used._"
   ]
  },
  {
   "cell_type": "markdown",
   "id": "5c67fab9-136a-4adc-bb42-142b91ab69dd",
   "metadata": {},
   "source": [
    "**Packages:** _List the python packages used._ (_List the packages being taught first, e.g., afwDisplay for a notebook about displaying images. Then supporting packages, e.g., lsst.daf.butler for a notebook about displaying images. It is OK to leave out basic support packages like os or glob.)_"
   ]
  },
  {
   "cell_type": "markdown",
   "id": "8f72b27f",
   "metadata": {},
   "source": [
    "**Credit:**\n",
    "_E.g., \"Originally developed by\" or \"Based on notebooks developed by\" and then people's names, including journal article or software release citations if appropriate._\n",
    "Please consider acknowledging them if this notebook is used for the preparation of journal articles, software releases, or other notebooks."
   ]
  },
  {
   "cell_type": "markdown",
   "id": "28e91cbf-ab7f-4e26-9276-b00299d6065e",
   "metadata": {},
   "source": [
    "**Get Support:**\n",
    "Find DP0-related documentation and resources at <a href=\"https://dp0-2.lsst.io\">dp0-2.lsst.io</a>. Questions are welcome as new topics in the <a href=\"https://community.lsst.org/c/support/dp0\">Support - Data Preview 0 Category</a> of the Rubin Community Forum. Rubin staff will respond to all questions posted there."
   ]
  },
  {
   "cell_type": "markdown",
   "id": "cfc73be0",
   "metadata": {},
   "source": [
    "## 1. Introduction\n",
    "\n",
    "_Provide a light narrative about this notebook, e.g., \"This notebook will teach the user...\"._\n",
    "\n",
    "_Cite or link to any external information or documentation, and cross-reference to other notebooks._"
   ]
  },
  {
   "cell_type": "markdown",
   "id": "dc36f107",
   "metadata": {},
   "source": [
    "### 1.1 Package Imports\n",
    "\n",
    "_All package imports should be done in the first code cell._\n",
    "\n",
    "_Provide explanation or external links to package documentation, where appropriate._\n",
    "\n",
    "_E.g., Numpy is a fundamental package for scientific computing with arrays in Python (<a href=\"https://numpy.org\">numpy.org</a>)._\n",
    "\n",
    "_Use code cell comments to describe the packages being imported._"
   ]
  },
  {
   "cell_type": "code",
   "execution_count": 2,
   "id": "cddc1458",
   "metadata": {
    "execution": {
     "iopub.execute_input": "2023-10-17T21:33:14.906500Z",
     "iopub.status.busy": "2023-10-17T21:33:14.906276Z",
     "iopub.status.idle": "2023-10-17T21:33:16.865723Z",
     "shell.execute_reply": "2023-10-17T21:33:16.864989Z",
     "shell.execute_reply.started": "2023-10-17T21:33:14.906482Z"
    }
   },
   "outputs": [],
   "source": [
    "# general python packages\n",
    "import numpy as np\n",
    "import matplotlib.pyplot as plt\n",
    "plt.style.use('tableau-colorblind10')\n",
    "\n",
    "# LSST package for TAP queries\n",
    "from lsst.rsp import get_tap_service, retrieve_query\n",
    "\n",
    "# LSST package for Butler queries\n",
    "import lsst.daf.butler as dafButler\n",
    "\n",
    "# LSST package for image display\n",
    "import lsst.afw.display as afwDisplay\n",
    "\n",
    "# general python packages\n",
    "import numpy as np\n",
    "import matplotlib.pyplot as plt\n",
    "plt.style.use('tableau-colorblind10')\n",
    "\n",
    "# LSST package for TAP queries\n",
    "from lsst.rsp import get_tap_service, retrieve_query\n",
    "\n",
    "# LSST package for Butler queries\n",
    "import lsst.daf.butler as dafButler\n",
    "\n",
    "# LSST package for image display\n",
    "import lsst.afw.display as afwDisplay\n",
    "\n",
    "from matplotlib import colormaps\n",
    "\n"
   ]
  },
  {
   "cell_type": "code",
   "execution_count": 3,
   "id": "336e4b73-70a6-4df7-b1f5-be49cc7c2805",
   "metadata": {
    "execution": {
     "iopub.execute_input": "2023-10-17T21:33:16.867332Z",
     "iopub.status.busy": "2023-10-17T21:33:16.866687Z",
     "iopub.status.idle": "2023-10-17T21:33:16.936289Z",
     "shell.execute_reply": "2023-10-17T21:33:16.935157Z",
     "shell.execute_reply.started": "2023-10-17T21:33:16.867305Z"
    }
   },
   "outputs": [],
   "source": [
    "service = get_tap_service(\"ssotap\")\n"
   ]
  },
  {
   "cell_type": "code",
   "execution_count": 4,
   "id": "74ab7425-ebb5-4e9e-aeb3-7fd5ccd831b5",
   "metadata": {
    "execution": {
     "iopub.execute_input": "2023-10-17T21:33:16.937570Z",
     "iopub.status.busy": "2023-10-17T21:33:16.937337Z",
     "iopub.status.idle": "2023-10-17T21:33:18.160376Z",
     "shell.execute_reply": "2023-10-17T21:33:18.159680Z",
     "shell.execute_reply.started": "2023-10-17T21:33:16.937550Z"
    },
    "tags": []
   },
   "outputs": [
    {
     "data": {
      "text/html": [
       "<div><i>Table length=137</i>\n",
       "<table id=\"table140016471563344\" class=\"table-striped table-bordered table-condensed\">\n",
       "<thead><tr><th>ssObjectId</th><th>q</th><th>ssObjectId2</th><th>arc</th></tr></thead>\n",
       "<thead><tr><th></th><th>AU</th><th></th><th>d</th></tr></thead>\n",
       "<thead><tr><th>int64</th><th>float64</th><th>int64</th><th>float32</th></tr></thead>\n",
       "<tr><td>5977535780727431144</td><td>0.6118754444868454</td><td>5977535780727431144</td><td>3003.859</td></tr>\n",
       "<tr><td>4350915375550808373</td><td>0.36109415570675124</td><td>4350915375550808373</td><td>3008.7427</td></tr>\n",
       "<tr><td>7114427843809346628</td><td>0.5180503801743852</td><td>7114427843809346628</td><td>3008.8723</td></tr>\n",
       "<tr><td>169600859678073684</td><td>0.6063128526256948</td><td>169600859678073684</td><td>3011.9033</td></tr>\n",
       "<tr><td>1015683152910208006</td><td>0.9687310781602868</td><td>1015683152910208006</td><td>3012.8008</td></tr>\n",
       "<tr><td>5907446096447136661</td><td>0.5929850823219581</td><td>5907446096447136661</td><td>3019.7952</td></tr>\n",
       "<tr><td>-2022279111318417234</td><td>0.5859395511579268</td><td>-2022279111318417234</td><td>3021.7915</td></tr>\n",
       "<tr><td>-2974052514586114677</td><td>0.8945069913767757</td><td>-2974052514586114677</td><td>3022.8975</td></tr>\n",
       "<tr><td>-7320927523618146355</td><td>0.2649044310393689</td><td>-7320927523618146355</td><td>3027.8025</td></tr>\n",
       "<tr><td>...</td><td>...</td><td>...</td><td>...</td></tr>\n",
       "<tr><td>-3390772372743360263</td><td>0.46013521656843676</td><td>-3390772372743360263</td><td>3640.1287</td></tr>\n",
       "<tr><td>1719740609387826269</td><td>0.5354930018195411</td><td>1719740609387826269</td><td>3640.2336</td></tr>\n",
       "<tr><td>7680808482150812592</td><td>0.09681835153830173</td><td>7680808482150812592</td><td>3642.8484</td></tr>\n",
       "<tr><td>-1463896993586394083</td><td>0.3150015796149012</td><td>-1463896993586394083</td><td>3644.9673</td></tr>\n",
       "<tr><td>7276181735131309126</td><td>0.4242360465836477</td><td>7276181735131309126</td><td>3645.0435</td></tr>\n",
       "<tr><td>-5786477361246622618</td><td>0.7066177720419344</td><td>-5786477361246622618</td><td>3647.0264</td></tr>\n",
       "<tr><td>2843021971802259081</td><td>0.2692311329096051</td><td>2843021971802259081</td><td>3647.0369</td></tr>\n",
       "<tr><td>2956589648411852100</td><td>0.7815068341650715</td><td>2956589648411852100</td><td>3647.8442</td></tr>\n",
       "<tr><td>6378017967207815463</td><td>0.6945630916333936</td><td>6378017967207815463</td><td>3649.0417</td></tr>\n",
       "<tr><td>-8322746617728974231</td><td>0.15394699010823995</td><td>-8322746617728974231</td><td>3649.0637</td></tr>\n",
       "</table></div>"
      ],
      "text/plain": [
       "<Table length=137>\n",
       "     ssObjectId               q              ssObjectId2         arc   \n",
       "                              AU                                  d    \n",
       "       int64               float64              int64          float32 \n",
       "-------------------- ------------------- -------------------- ---------\n",
       " 5977535780727431144  0.6118754444868454  5977535780727431144  3003.859\n",
       " 4350915375550808373 0.36109415570675124  4350915375550808373 3008.7427\n",
       " 7114427843809346628  0.5180503801743852  7114427843809346628 3008.8723\n",
       "  169600859678073684  0.6063128526256948   169600859678073684 3011.9033\n",
       " 1015683152910208006  0.9687310781602868  1015683152910208006 3012.8008\n",
       " 5907446096447136661  0.5929850823219581  5907446096447136661 3019.7952\n",
       "-2022279111318417234  0.5859395511579268 -2022279111318417234 3021.7915\n",
       "-2974052514586114677  0.8945069913767757 -2974052514586114677 3022.8975\n",
       "-7320927523618146355  0.2649044310393689 -7320927523618146355 3027.8025\n",
       "                 ...                 ...                  ...       ...\n",
       "-3390772372743360263 0.46013521656843676 -3390772372743360263 3640.1287\n",
       " 1719740609387826269  0.5354930018195411  1719740609387826269 3640.2336\n",
       " 7680808482150812592 0.09681835153830173  7680808482150812592 3642.8484\n",
       "-1463896993586394083  0.3150015796149012 -1463896993586394083 3644.9673\n",
       " 7276181735131309126  0.4242360465836477  7276181735131309126 3645.0435\n",
       "-5786477361246622618  0.7066177720419344 -5786477361246622618 3647.0264\n",
       " 2843021971802259081  0.2692311329096051  2843021971802259081 3647.0369\n",
       " 2956589648411852100  0.7815068341650715  2956589648411852100 3647.8442\n",
       " 6378017967207815463  0.6945630916333936  6378017967207815463 3649.0417\n",
       "-8322746617728974231 0.15394699010823995 -8322746617728974231 3649.0637"
      ]
     },
     "execution_count": 4,
     "metadata": {},
     "output_type": "execute_result"
    }
   ],
   "source": [
    "# Getting a list of ssObjectID for sources with perihelion distance < 1 AU and arc longer than 3000 days \n",
    "# to have sufficient phase angle coverage.\n",
    "query0 = \"SELECT mpc.ssObjectId, mpc.q, sso.ssObjectId, sso.arc \" + \\\n",
    "        \"FROM dp03_catalogs_10yr.MPCORB as mpc \" + \\\n",
    "        \"INNER JOIN dp03_catalogs_10yr.SSObject as sso \" + \\\n",
    "        \"ON mpc.ssObjectId = sso.ssObjectId \" + \\\n",
    "        \"WHERE sso.numObs > 300 AND sso.arc > 3000 \"  + \\\n",
    "        \"AND mpc.q < 1 ORDER by sso.arc\"\n",
    "\n",
    "df0 = service.search(query0).to_table()\n",
    "df0"
   ]
  },
  {
   "cell_type": "code",
   "execution_count": 7,
   "id": "d40b5b75-8c15-4fe7-aef8-1734c5674188",
   "metadata": {
    "execution": {
     "iopub.execute_input": "2023-10-17T21:33:35.712428Z",
     "iopub.status.busy": "2023-10-17T21:33:35.711892Z",
     "iopub.status.idle": "2023-10-17T21:33:36.091161Z",
     "shell.execute_reply": "2023-10-17T21:33:36.090486Z",
     "shell.execute_reply.started": "2023-10-17T21:33:35.712402Z"
    },
    "tags": []
   },
   "outputs": [
    {
     "data": {
      "text/plain": [
       "2956589648411852100"
      ]
     },
     "execution_count": 7,
     "metadata": {},
     "output_type": "execute_result"
    }
   ],
   "source": [
    "# Object from Meg's notebook: -9223369546614897710\n",
    "ssObjId = df0['ssObjectId'][-3] \n",
    "\n",
    "# diaObjectId is the ID that links the individual measurements between DiaObject and SSSource,\n",
    "# so you have to match on this id for unique measurement matching. \n",
    "# To then match this object to MPCORB and SSObject, you have\n",
    "# to link on the SSObjectID (hwich is unique per solar system object)\n",
    "\n",
    "query = \"SELECT dia.diaSourceId, sss.diaSourceId, dia.mag, dia.ra, dia.dec,\" + \\\n",
    "        \"sss.phaseAngle, sss.topocentricDist, \" + \\\n",
    "        \"sss.heliocentricDist, dia.midPointMjdTai \" + \\\n",
    "        \"FROM dp03_catalogs_10yr.DiaSource as dia \" + \\\n",
    "        \"JOIN dp03_catalogs_10yr.SSSource as sss \" + \\\n",
    "        \"ON dia.diaSourceId = sss.diaSourceId \" + \\\n",
    "        \"WHERE dia.ssObjectId = \" + str(ssObjId) + \"\"\n",
    "\n",
    "\n",
    "df = service.search(query).to_table()\n",
    "df\n",
    "ssObjId"
   ]
  },
  {
   "cell_type": "markdown",
   "id": "c217adff-25ed-4fce-95e7-8aa04630f6cc",
   "metadata": {},
   "source": [
    "### 1.2 Define Functions and Parameters\n",
    "\n",
    "_If your notebook defines functions or parameters to use later or throughout, do it here in sub-section 1.2._\n",
    "\n",
    "_It is OK to rename the subsection to be more specific to the notebook, and/or to use sub-sub-sections like \"1.2.1 Define global cosmological parameter values\" or \"1.2.2 Define a function to make an image cutout\"._\n",
    "\n",
    "_It is OK to remove this sub-section if it is not being used._"
   ]
  },
  {
   "cell_type": "markdown",
   "id": "ec51ac0b",
   "metadata": {
    "tags": []
   },
   "source": [
    "## 2. Section Heading\n",
    "\n",
    "_Use numbers for sections, sub-sections, and sub-sub-sections to enable referencing, e.g., \"I'm having trouble with the second code cell in Section 2.3.\"_\n",
    "\n",
    "_Use section titles that actively describe what is being done, e.g., \"Create a color-magnitude diagram\" instead of \"Plot\", so that the auto-generated table of contents is easy to navigate._\n",
    "\n",
    "### 2.1 Section Sub-heading\n",
    "\n",
    "#### 2.1.1 Section Sub-sub-heading"
   ]
  },
  {
   "cell_type": "code",
   "execution_count": null,
   "id": "81b8cd59-1ba3-4eaa-846f-6478ed0c3cf5",
   "metadata": {},
   "outputs": [],
   "source": []
  }
 ],
 "metadata": {
  "kernelspec": {
   "display_name": "LSST",
   "language": "python",
   "name": "lsst"
  },
  "language_info": {
   "codemirror_mode": {
    "name": "ipython",
    "version": 3
   },
   "file_extension": ".py",
   "mimetype": "text/x-python",
   "name": "python",
   "nbconvert_exporter": "python",
   "pygments_lexer": "ipython3",
   "version": "3.11.4"
  },
  "toc-autonumbering": false
 },
 "nbformat": 4,
 "nbformat_minor": 5
}
