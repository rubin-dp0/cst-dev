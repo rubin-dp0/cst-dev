{
 "cells": [
  {
   "cell_type": "markdown",
   "id": "749b0ddf",
   "metadata": {},
   "source": [
    "<img align=\"left\" src = https://project.lsst.org/sites/default/files/Rubin-O-Logo_0.png width=250 style=\"padding: 10px\"> \n",
    "<b>Introduction to the LSST deblender data products</b> <br>\n",
    "Contact author(s): <i>Christina WIlliams</i> <br>\n",
    "Last verified to run: <i>2023-02-24</i> <br>\n",
    "LSST Science Piplines version: Weekly <i>2023_xx</i> <br>\n",
    "Container Size: <i>medium</i> <br>\n",
    "Targeted learning level: <i>beginner</i> <br>"
   ]
  },
  {
   "cell_type": "markdown",
   "id": "9da1a210-d858-42fe-8591-570965b8be1a",
   "metadata": {},
   "source": [
    "**Description:**  Introduce the data products created by the LSST multiband deblender (Scarlet; Melchior et al. 2018; https://ui.adsabs.harvard.edu/abs/2018A%26C....24..129M/abstract) and illustrate some simple use cases for the deblender products that are stored after the pipeline is run. "
   ]
  },
  {
   "cell_type": "markdown",
   "id": "80a0baf5-51ad-40ec-8991-060a7b27c289",
   "metadata": {},
   "source": [
    "**Skills:** Learn the use cases of deblender products and keywords in LSST catalogs through visual demonstration and explanation of the keywords"
   ]
  },
  {
   "cell_type": "markdown",
   "id": "393da88f-7978-4920-aa4a-a9830df6eed9",
   "metadata": {},
   "source": [
    "**LSST Data Products:** Images (deepCoadd, skyMap, MaskedImage) and Catalogs (objectTable)"
   ]
  },
  {
   "cell_type": "markdown",
   "id": "5c67fab9-136a-4adc-bb42-142b91ab69dd",
   "metadata": {},
   "source": [
    "**Packages:** lsst.afw.image, lsst.afw.detection, lsst.rsp, lsst.daf.butler, lsst.geom, astropy, numpy, "
   ]
  },
  {
   "cell_type": "markdown",
   "id": "8f72b27f",
   "metadata": {},
   "source": [
    "**Credit:** Developed by Christina Willliams in collaboration with Melissa Graham and the Rubin Community Engagement Team for DP0.2. Influenced by StackClub notebooks demonstrating how to run the LSST deblender (Scarlet; Melchior et al. 2018) by Fred Moolekamp and Alex Drlica-Wagner. "
   ]
  },
  {
   "cell_type": "markdown",
   "id": "28e91cbf-ab7f-4e26-9276-b00299d6065e",
   "metadata": {},
   "source": [
    "**Get Support:**\n",
    "Find DP0-related documentation and resources at <a href=\"https://dp0-2.lsst.io\">dp0-2.lsst.io</a>. Questions are welcome as new topics in the <a href=\"https://community.lsst.org/c/support/dp0\">Support - Data Preview 0 Category</a> of the Rubin Community Forum. Rubin staff will respond to all questions posted there."
   ]
  },
  {
   "cell_type": "markdown",
   "id": "cfc73be0",
   "metadata": {},
   "source": [
    "## 1. Introduction\n",
    "\n",
    "This notebook is an introduction to the data products that are created by the LSST pipeline deblender. In order to build its source catalog and measure photometry of objects in images, the LSST pipeline uses a multi-wavelength deblending algorithm (Scarlet, Melchior et al. 2018) to identify independent detected components within source blends, and separate the flux from independent objects. A \"parent\" source is identified as a region of connected pixels above Signal to Noise (S/N) of XX in the deepCoadd. These regions are called footprints. Each footprint may have one or more peaks, and it is these peaks that the deblender will use to infer the number and positions of objects blended in each footprint. The de-blended sub-peaks are referred to as \"children\" of the parent in the properties saved by the deblender in the objectTable.\n",
    "\n",
    "Scarlet separates the flux among components by modeling the flux and shape of each source making up the blend.\n",
    "\n",
    "As an example, in this tutorial we will identify a heavily blended source with many components, and explore how to use the information in the objectTable produced by the deblender to identify the indepedent sources within the blend. The keywords for sources identified by the deblender should be used to identify unique sources in the objectTable. We will also show an example of how to access metadata that is attached to each deblended source in the objectTable (e.g. the deblended footprints and pixel-weight maps).\n",
    "\n",
    "An introduction to all of the available deblending flags, and the processes that produce the deblender data products discussed here can be found here:\n",
    "https://pipelines.lsst.io/modules/lsst.pipe.tasks/deblending-flags-overview.html\n",
    "\n",
    "A general discussion of blending impacts to LSST can be found in Melchior et al. 2021: https://lss.fnal.gov/archive/2021/pub/fermilab-pub-21-598-ppd.pdf\n",
    "\n",
    "Some more in depth presentations on the deblending implementation in the LSST pipeline are available from recorded talks during the Rubin PCW 2022: https://project.lsst.org/meetings/rubin2022/agenda/deblending-plans-and-challenges"
   ]
  },
  {
   "cell_type": "markdown",
   "id": "dc36f107",
   "metadata": {},
   "source": [
    "### 1.1 Package Imports\n",
    "\n",
    "The [`matplotlib`](https://matplotlib.org/), [`numpy`](http://www.numpy.org/), and [`astropy`](http://www.astropy.org/) libraries are widely used Python libraries for plotting, scientific computing, and astronomical data analysis. We will use these packages below, including the `matplotlib.pyplot` plotting sublibrary.\n",
    "\n",
    "the `lsst.rsp` package to access the TAP service and query the DP0 catalogs.\n",
    "\n",
    "Here we will use the `lsst.afw.image` and `lsst.afw.detection` packages to access some of the extended products created by the deblender pipeline. \n",
    "\n",
    "We will also use previously introduced packages including the `lsst.afw.display` library to gain access to the image visualization routines we'd like to use, and the `lsst.daf.butler` library, which is used to access data products."
   ]
  },
  {
   "cell_type": "code",
   "execution_count": null,
   "id": "d185358a-4c15-4b04-8e3d-13083191ee72",
   "metadata": {
    "tags": []
   },
   "outputs": [],
   "source": [
    "# general python packages\n",
    "import numpy as np\n",
    "import matplotlib.pyplot as plt\n",
    "import gc\n",
    "import time\n",
    "plt.style.use('tableau-colorblind10')\n",
    "\n",
    "# LSST package for TAP queries\n",
    "from lsst.rsp import get_tap_service, retrieve_query\n",
    "\n",
    "# LSST package for Butler queries\n",
    "import lsst.daf.butler as Butler\n",
    "\n",
    "# Familiar stack packages\n",
    "from lsst.geom import Box2I, Box2D, Point2I, Point2D, Extent2I, Extent2D\n",
    "from lsst.afw.image import Exposure, Image\n",
    "\n",
    "# LSST package for image display\n",
    "import lsst.afw.display as afwDisplay\n",
    "import lsst.geom as geom\n",
    "afwDisplay.setDefaultBackend('matplotlib')\n",
    "\n",
    "# Packages for dealing with multi-band data products\n",
    "from lsst.afw.image import MultibandExposure, MultibandImage\n",
    "from lsst.afw.detection import MultibandFootprint, Footprint\n",
    "\n",
    "# For the heavyFootprint2Image function\n",
    "from lsst.afw.image import MaskedImage\n",
    "\n",
    "# Astropy imports\n",
    "from astropy.wcs import WCS\n",
    "from astropy import units as u\n",
    "from astropy.coordinates import SkyCoord\n",
    "from astropy.wcs.utils import skycoord_to_pixel\n",
    "from astropy.visualization import make_lupton_rgb\n",
    "from astropy.nddata import Cutout2D"
   ]
  },
  {
   "cell_type": "markdown",
   "id": "c217adff-25ed-4fce-95e7-8aa04630f6cc",
   "metadata": {},
   "source": [
    "### 1.2 Define Functions and Parameters for the image plots \n",
    "\n",
    "Here we define default parameters for plotting, and define two functions to help us visualize deblended products: 1) cutout_coadd will make an image cutout (see tutorial notebook 03a) and 2) heavyFootprint2Image will help us grab the \"footprint\" of deblended objects for further analysis. \n",
    "\n"
   ]
  },
  {
   "cell_type": "code",
   "execution_count": null,
   "id": "54e8800e-26f3-4d70-9306-ef3a5fd75aa9",
   "metadata": {
    "tags": []
   },
   "outputs": [],
   "source": [
    "# Set up some plotting defaults:\n",
    "\n",
    "params = {'axes.labelsize': 28,\n",
    "          'font.size': 24,\n",
    "          'legend.fontsize': 14,\n",
    "          'xtick.major.width': 3,\n",
    "          'xtick.minor.width': 2,\n",
    "          'xtick.major.size': 12,\n",
    "          'xtick.minor.size': 6,\n",
    "          'xtick.direction': 'in',\n",
    "          'xtick.top': True,\n",
    "          'lines.linewidth': 3,\n",
    "          'axes.linewidth': 3,\n",
    "          'axes.labelweight': 3,\n",
    "          'axes.titleweight': 3,\n",
    "          'ytick.major.width': 3,\n",
    "          'ytick.minor.width': 2,\n",
    "          'ytick.major.size': 12,\n",
    "          'ytick.minor.size': 6,\n",
    "          'ytick.direction': 'in',\n",
    "          'ytick.right': True,\n",
    "          'figure.figsize': [8, 8],\n",
    "          'figure.facecolor': 'White'\n",
    "          }\n",
    "\n",
    "plt.rcParams.update(params)\n",
    "\n",
    "# A function and settings to plot a cutout from tutorial notebook 03a\n",
    "\n",
    "\n",
    "def cutout_coadd(butler, ra, dec, band='r', datasetType='deepCoadd',\n",
    "                 skymap=None, cutoutSideLength=51, **kwargs):\n",
    "    \"\"\"\n",
    "    Produce a cutout from a coadd at the given ra, dec position.\n",
    "\n",
    "    Adapted from DC2 tutorial notebook by Michael Wood-Vasey.\n",
    "\n",
    "    Parameters\n",
    "    ----------\n",
    "    butler: lsst.daf.persistence.Butler\n",
    "        Servant providing access to a data repository\n",
    "    ra: float\n",
    "        Right ascension of the center of the cutout, in degrees\n",
    "    dec: float\n",
    "        Declination of the center of the cutout, in degrees\n",
    "    band: string\n",
    "        Filter of the image to load\n",
    "    datasetType: string ['deepCoadd']\n",
    "        Which type of coadd to load.  Doesn't support 'calexp'\n",
    "    skymap: lsst.afw.skyMap.SkyMap [optional]\n",
    "        Pass in to avoid the Butler read.  Useful if you have lots of them.\n",
    "    cutoutSideLength: float [optional]\n",
    "        Size of the cutout region in pixels.\n",
    "\n",
    "    Returns\n",
    "    -------\n",
    "    MaskedImage\n",
    "    \"\"\"\n",
    "    radec = geom.SpherePoint(ra, dec, geom.degrees)\n",
    "    cutoutSize = geom.ExtentI(cutoutSideLength, cutoutSideLength)\n",
    "\n",
    "    if skymap is None:\n",
    "        skymap = butler.get(\"skyMap\")\n",
    "\n",
    "    # Look up the tract, patch for the RA, Dec\n",
    "    tractInfo = skymap.findTract(radec)\n",
    "    patchInfo = tractInfo.findPatch(radec)\n",
    "    xy = geom.PointI(tractInfo.getWcs().skyToPixel(radec))\n",
    "    bbox = geom.BoxI(xy - cutoutSize // 2, cutoutSize)\n",
    "    print(\"bbox = \", bbox, \"xy = \", xy, \"cutoutSize = \", cutoutSize)\n",
    "    patch = tractInfo.getSequentialPatchIndex(patchInfo)\n",
    "\n",
    "    coaddId = {'tract': tractInfo.getId(), 'patch': patch, 'band': band}\n",
    "    parameters = {'bbox': bbox}\n",
    "\n",
    "    cutout_image = butler.get(datasetType, parameters=parameters,\n",
    "                              dataId=coaddId)\n",
    "\n",
    "    return cutout_image\n",
    "\n",
    "# A function to image the footprint of deblended sources from deblender\n",
    "# products metadata:\n",
    "\n",
    "\n",
    "def heavyFootprint2Image(heavy, fill=np.nan, bbox=None, imageType=MaskedImage):\n",
    "    \"\"\"Create an image of a HeavyFootprint\n",
    "    Written by Fred Moolekamp\n",
    "    Parameters\n",
    "    ----------\n",
    "    heavy : `HeavyFootprint`\n",
    "        The HeavyFootprint to insert into the image\n",
    "    fill: number\n",
    "        Number to fill the pixels in the image that are not\n",
    "        contained in `heavy`.\n",
    "    bbox : `Box2I`\n",
    "        Bounding box of the output image.\n",
    "    imageType : `type`\n",
    "        This should be either a `MaskedImage` or `Image` and describes\n",
    "        the type of the output image.\n",
    "    Returns\n",
    "    -------\n",
    "    image : `lsst.afw.image.MaskedImage` or `lsst.afw.image.Image`\n",
    "        An image defined by `bbox` and padded with `fill` that\n",
    "        contains the projected flux in `heavy`.\n",
    "    \"\"\"\n",
    "    if bbox is None:\n",
    "        bbox = heavy.getBBox()\n",
    "    image = imageType(bbox, dtype=heavy.getImageArray().dtype)\n",
    "    image.set(fill)\n",
    "    heavy.insert(image)\n",
    "    return image"
   ]
  },
  {
   "cell_type": "markdown",
   "id": "ec51ac0b",
   "metadata": {
    "tags": []
   },
   "source": [
    "## 2. Explore the deblender data products stored in objectTable\n",
    "\n",
    "\n",
    "\n",
    "\n",
    "The pipeline records a number of keywords that can be used to identify and characterize blended sources (parents) that have been deblended into child sources, both of which are ultimately stored in the object and source tables along with isolated single objects that do not require deblending. These keywords help the user identify a unique sample and avoid double counting of objects in queries. In this tutorial we will focus on the objectTable based on the deepCoadd images. Some example boolean flags set by the deblender that are found in the objectTable:\n",
    "\n",
    "**detect_isPrimary**: \tTrue if source has no children, is in inner region of a coadd patch and is in the inner region of a coadd tract, (and is therefore a unique object in the catalog). Note that an object where **detect_isPrimary=True** can still be a deblended child, but itself was not a parent that was separated by the deblender. **To avoid double-counting sources in any selection or query (from including both the parent blend and the nearest child source, or due to including the overlapping area from two or more visits) it is important to set this flag to True.**\n",
    "\n",
    "**detect_fromBlend**: \tThis source is deblended from a parent with more than one child.\n",
    "\n",
    "**detect_isIsolated**: \tThis source was not contained in a blend (source has a single peak, **deblend_nPeaks=True** or its parent only had a single peak **deblend_parentNPeaks=True**). \n",
    "\n",
    "**detect_isDeblendedSource**: \tTrue if source has no children, is in the inner regions of its coadd patch and tract (will be unique) and is either an unblended isolated source or a deblended child from a parent. This is similar to the **detect_isDeblendedModelSource** flag, which is True if source has no children and is a deblended child (but this flag is false for unblended isolated sources).\n",
    " \n",
    "**deblend_skipped**: \tDeblender skipped this source\n",
    "\n",
    "\n",
    "Some keywords that are set by the deblender that can be used to characterize the blend/deblended sources contained in the objectTable include:\n",
    "\n",
    "**parentObjectId**: \tUnique ID of parent source. \n",
    "\n",
    "**deblend_nPeaks**: \tNumber of peaks contained in the parent blend's footprint (=1 for isolated sources)\n",
    "\n",
    "**deblend_nChild**: \tNumber of peaks deblended from the parent (differs from deblend_nPeaks in that nChild excludes both isolated sources, and child peaks that were culled during deblending)\n",
    "\n",
    "**footprintArea**:  \tNumber of pixels in the sources detection \"footprint\". The footprint is a boolean mask of pixels in the input image that were detected as part of the parent blend. This corresponds to the footprint for the \"reference band\".\n",
    "\n",
    "**refBand**:  \tFilter that the deblender identified the \"best\" location for the centroid of the peak flux based on the multi-wavelength deblending routine (referred to as the \"reference filter\").\n",
    "\n",
    "\n",
    "### 2.1 Access and print the keywords created by the deblender in objectTable\n",
    "\n",
    "In this tutorial we will explore use cases for a few of these keywords in the objectTable. These can be accessed via TAP queries, or through the butler, so we will demonstrate both. First, lets open a TAP service and initialize a Butler instance:\n"
   ]
  },
  {
   "cell_type": "code",
   "execution_count": null,
   "id": "ded13be7-79dd-41e5-9052-a22df60745c3",
   "metadata": {},
   "outputs": [],
   "source": [
    "# open TAP service\n",
    "service = get_tap_service()\n",
    "assert service is not None\n",
    "assert service.baseurl == \"https://data.lsst.cloud/api/tap\"\n",
    "\n",
    "# initialize Butler\n",
    "config = 'dp02'\n",
    "collection = '2.2i/runs/DP0.2'\n",
    "butler = Butler.Butler(config, collections=collection)\n"
   ]
  },
  {
   "cell_type": "markdown",
   "id": "98feae16-6c86-4095-9b9d-4379a3e821d4",
   "metadata": {},
   "source": [
    "\n",
    "\n",
    "In theory, one can search the LSST data for objects with certain characteristics, such as by how many sources are blended together. However, when searching either through TAP queries or using the butler, one must first identify the region of the sky to search and search in a specific region defined by RA/Dec within a certain search radius or patch/tract. This is because the databases are indexed by RA/Dec and searching by blending keywords (i.e. to identify the most blended sources or by parent object ID) are extremely inefficient. The reason that Qserv is spatially sharded, so querying by RA/Dec is always going to be more efficient than querying by butler dimensions such as patch, tract, etc. RA/Dec is the way to go to optimize TAP queries. (For more information, see tutorial notebook 02 on TAP queries, and notebook 04a on introduction to the Butler).\n",
    "\n",
    "However, we show an example below. Note that uncommenting the cell will run a query that takes approximately 15 minutes."
   ]
  },
  {
   "cell_type": "code",
   "execution_count": null,
   "id": "c7e280d4-1c81-4396-884a-e5a2cef3f105",
   "metadata": {
    "tags": []
   },
   "outputs": [],
   "source": [
    "# %%time\n",
    "\n",
    "# Use TAP service to search for very blended sources.\n",
    "# This is very slow (run time approx 15 min). TAP is optimized to\n",
    "# search on RA / Dec, not other keywords, so ideally one should not use this\n",
    "# method. But, we include it for demonstration purposes. We show a better\n",
    "# method below.\n",
    "\n",
    "# query = \"SELECT TOP 10 objectId, x, y, coord_ra, coord_dec, \" + \\\n",
    "#        detect_isPrimary, deblend_nChild, deblend_skipped,\" + \\\n",
    "#        \"detect_fromBlend, detect_isDeblendedModelSource,  \" + \\\n",
    "#        \"detect_isDeblendedSource, detect_isIsolated, parentObjectId, \" + \\\n",
    "#        \"footprintArea, z_blendedness, tract, patch \" + \\\n",
    "#        \"FROM dp02_dc2_catalogs.Object \" + \\\n",
    "#        \"WHERE deblend_nChild > 12 AND  detect_fromBlend = 1 \"\n",
    "\n",
    "# Convert the results to an Astropy table then look at it\n",
    "# tab_maxblend = results_maxblend.to_table()\n",
    "# tab_maxblend"
   ]
  },
  {
   "cell_type": "markdown",
   "id": "4510ebd7-0c2e-456a-81d9-49fc28db381b",
   "metadata": {},
   "source": [
    "Instead, if you can identify a region of the sky first and then perform the search, retrieving examples of heavily blended sources with the query is much faster. Here we have already identified an RA/Dec region with a few examples of heavily blended sources (using the long search above) as input to demonstrate the deblended data products produced by the pipeline in the rest of the tutorial:"
   ]
  },
  {
   "cell_type": "code",
   "execution_count": null,
   "id": "e6430d99-187f-48fa-a9f1-af068e52c6d3",
   "metadata": {
    "tags": []
   },
   "outputs": [],
   "source": [
    "# This ra/dec was identified by running the query above to search for blends\n",
    "# of more than 12 children.\n",
    "\n",
    "ra = 50.1089143\n",
    "dec = -44.4812763\n",
    "\n",
    "query = \"SELECT ObjectId, x, y, coord_ra, coord_dec, detect_isPrimary, \" + \\\n",
    "        \"deblend_nChild, deblend_skipped, detect_fromBlend,  \" + \\\n",
    "        \"detect_isDeblendedModelSource, detect_isDeblendedSource, \" +\\\n",
    "        \"detect_isIsolated, parentObjectId, footprintArea, z_blendedness, \" + \\\n",
    "        \"tract, patch \" + \\\n",
    "        \"FROM dp02_dc2_catalogs.Object \" + \\\n",
    "        \"WHERE CONTAINS(POINT('ICRS', coord_ra, coord_dec ), \" + \\\n",
    "        \"CIRCLE('ICRS', \" + str(ra) + \", \" + str(dec) + \", 0.005)) = 1 \"\n",
    "\n",
    "results = service.search(query, maxrec=1000)\n",
    "table = results.to_table()\n",
    "\n",
    "# print the output from this query, and a selection of deblender keywords\n",
    "table"
   ]
  },
  {
   "cell_type": "markdown",
   "id": "4011704d-0c9f-4f7b-b1c8-ccd4898b2c3d",
   "metadata": {},
   "source": [
    "### 2.2 Displaying a heavily blended source in the LSST data\n",
    "\n",
    "Lets take the first entry above, which is a \"parent\" source (it has **detect_isPrimary=False** indicating it is not a primary source, i.e. is the blended parent) that is composed of 13 blended children (i.e. **deblend_nChild = 13**). Perhaps counterintuitively, the parent is identified by **detect_isPrimary = False**, which is a keyword that should be used for identifying unique detections in the objectTable (i.e. **detect_isPrimary = True** are the deblended objects that are also detected in the center of their tracts, i.e. do not also appear in another overlapping image). When selecting samples it is important to ensure **detect_isPrimary = True** to prevent double counting of objects. "
   ]
  },
  {
   "cell_type": "code",
   "execution_count": null,
   "id": "c0353e6b-7217-488f-b0a4-1f5ad408d4b9",
   "metadata": {
    "tags": []
   },
   "outputs": [],
   "source": [
    "# set our selected \"parent\" blend of 13 sources to be the first return of the\n",
    "# TAP query above.\n",
    "sel_objid = table['ObjectId'][0]\n",
    "x = table['x'][0]\n",
    "y = table['y'][0]\n",
    "tract = table['tract'][0]\n",
    "patch = table['patch'][0]\n",
    "\n",
    "# Isolate the deblended components of the object using the parentObjectId\n",
    "whchild = np.where(table['parentObjectId'] == sel_objid)[0]\n",
    "print(len(whchild), \"sources deblended from parentObjectId\", sel_objid)\n"
   ]
  },
  {
   "cell_type": "markdown",
   "id": "555bd9c2-2281-4eaf-b132-5809271b55b6",
   "metadata": {},
   "source": [
    "The above cell demonstrates identifying the blend using the TAP query from Section 2.1, but we can return the same sources and properties using the Butler. We demonstrate the equivalent Butler query below:"
   ]
  },
  {
   "cell_type": "code",
   "execution_count": null,
   "id": "f06ce5c0-d56f-4879-a5eb-b4cb5508d3cd",
   "metadata": {},
   "outputs": [],
   "source": [
    "%%time\n",
    "# Next, demonstrate how to retrieve the same heavily blended sources using the Butler\n",
    "\n",
    "dataId = {'tract': tract, 'band': 'i', 'patch': patch }\n",
    "\n",
    "obj = butler.get('objectTable',  dataId) #tract=tract, patch=patch)\n",
    "print(f\"Retrieved catalog of {len(obj)} objects.\")\n",
    "\n",
    "obj_parentObjectId = np.asarray(obj.parentObjectId, dtype='int')\n",
    "obj_objectId = np.asarray(obj.index, dtype='int')\n",
    "obj_coord_x = np.asarray(obj.x, dtype='float')\n",
    "obj_coord_y = np.asarray(obj.y, dtype='float')\n",
    "obj_ra = np.asarray(obj.coord_ra, dtype='float') \n",
    "obj_dec = np.asarray(obj.coord_dec, dtype='float')\n",
    "\n",
    "# Pull out all of the sources that are blended with our chosen source as the parent\n",
    "wh = np.where(obj_parentObjectId == sel_objid )[0]\n",
    "for i in wh:\n",
    "    print(obj_parentObjectId[i], obj_objectId[i], obj_coord_x[i], obj_coord_y[i])\n",
    "print('FOUND', len(wh), \"sources blended with Parent ID sel_objid\")\n"
   ]
  },
  {
   "cell_type": "markdown",
   "id": "35f52616-8403-47b2-84ff-729ba755f8f0",
   "metadata": {},
   "source": [
    "\n",
    "## 2.3 Displaying an example of a heavily blended source"
   ]
  },
  {
   "cell_type": "code",
   "execution_count": null,
   "id": "31118cde-b512-4286-bade-4e1cd3e2df16",
   "metadata": {
    "tags": []
   },
   "outputs": [],
   "source": [
    "# Use the cutout function from tutorial notebook 03:\n",
    "cutout_image = cutout_coadd(butler, ra, dec, band='i', datasetType='deepCoadd',\n",
    "                            cutoutSideLength=201)\n",
    "\n",
    "wcs = cutout_image.getWcs()\n",
    "\n",
    "x0 = float(cutout_image.getX0())\n",
    "y0 = float(cutout_image.getY0())\n",
    "width = cutout_image.getWidth()\n",
    "height = cutout_image.getHeight()\n",
    "\n",
    "xcorners = [x0, x0+width, x0+width, x0]\n",
    "ycorners = [y0, y0, y0+width, y0+width]\n",
    "\n",
    "ra_corners = []\n",
    "dec_corners = []\n",
    "\n",
    "for i in range(len(xcorners)):\n",
    "    radec = wcs.pixelToSky(xcorners[i], ycorners[i])\n",
    "    ra_corners.append(radec.getRa().asDegrees())\n",
    "    dec_corners.append(radec.getDec().asDegrees())\n",
    "\n",
    "\n",
    "fig, ax = plt.subplots()\n",
    "display = afwDisplay.Display(frame=fig)\n",
    "display.scale('asinh', 'zscale')\n",
    "display.mtv(cutout_image.image)\n",
    "\n",
    "with display.Buffering():\n",
    "    for i in range(len(table[whchild])):\n",
    "        display.dot('o', table[whchild][i]['x'], table[whchild][i]['y'],\n",
    "                    ctype=afwDisplay.RED)\n",
    "        print(i, table[whchild][i]['x'], table[whchild][i]['y'])\n",
    "display.dot('+', x, y, ctype=afwDisplay.BLUE)\n",
    "plt.show()\n",
    "\n"
   ]
  },
  {
   "cell_type": "markdown",
   "id": "086660d6-5013-4186-acaa-d7bd333be923",
   "metadata": {
    "tags": []
   },
   "source": [
    "## 3. Access the deblender data products metadata\n",
    "\n",
    "\n"
   ]
  },
  {
   "cell_type": "markdown",
   "id": "5c594df6-972e-4d14-a535-b7a9039e1eb3",
   "metadata": {},
   "source": [
    "#### What other deblender results are available in the butler?\n",
    "\n",
    "Scarlet (as part of the LSST pipeline) produces the deepCoadd_deblendedFlux data product (among other output catalogs) after using the multiwavelength colors to identify peaks. Here we search for these intermediate-stage data products with the word \"blend\" in the title to see what is accessible via the Butler. We will explore a primary one, **deepCoadd_deblendedFlux** later in Section 3.1."
   ]
  },
  {
   "cell_type": "code",
   "execution_count": null,
   "id": "95479f24-f225-416a-9aba-7b37e82ab679",
   "metadata": {
    "tags": []
   },
   "outputs": [],
   "source": [
    "registry = butler.registry\n",
    "for dt in sorted(registry.queryDatasetTypes('*blend*')):\n",
    "    print(dt)"
   ]
  },
  {
   "cell_type": "markdown",
   "id": "a3132683-9ed4-459a-9e50-19641e94d5d3",
   "metadata": {},
   "source": [
    "### 3.1 What information is stored in the butler by the deblending pipeline? \n",
    "\n",
    "The various deblender tasks (source detection across filters for a merged set of flux peaks and forced photometry on those peaks, etc) will produce a number of tables that are accessible via the butler. Let's look at contents of a few of them:\n",
    "\n",
    "**deepCoadd_det:** catalog of detections in each filter that are merged to create list of multi-wavelength peaks across all filters. Only used as input for next stage of deblender.\n",
    "\n",
    "**deepCoadd_mergedet:** consistent table of sources across filters\n",
    "\n",
    "**deepCoadd_deblendedFlux:** using the list of peaks in all of the filters this table contains the deblended flux\n",
    "\n",
    "**deepCoadd_meas:** Using the \"best\" position for each flux peak (using information available from all filters) this table contains the forced photometry (i.e. at the position of the peak using the \"best\" filter, referred to as the \"reference filter\")\n",
    "\n",
    "**deepCoadd_ref:** Like the above but identifies the reference filter used to determine the best position (CHECK??)\n",
    "\n",
    "**deepCoadd_forced_src:** contains the forced photometry in each band of the best multi-wavelength determined position of each deblended peak"
   ]
  },
  {
   "cell_type": "code",
   "execution_count": null,
   "id": "4e8af3d5-a88f-49cc-97f6-5b52feba2769",
   "metadata": {
    "tags": []
   },
   "outputs": [],
   "source": [
    "%%time\n",
    "# Now, actually access the data available in this SourceCatalog and store as astropy table\n",
    "dataset = 'deepCoadd_deblendedFlux_schema'\n",
    "\n",
    "#dataset = 'deepCoadd_deblendedModel_schema' # this isn't avail for this dataID for some reason?\n",
    "dbFlux_schema = butler.get(dataset, dataId=dataId)\n",
    "for colname in dbFlux_schema.asAstropy().colnames:\n",
    "    print(colname)\n",
    "    \n",
    "dbFlux = butler.get('deepCoadd_deblendedFlux', dataId=dataId)\n",
    "#dbFlux = butler.get('deepCoadd_meas', dataId=dataId)\n",
    "dbFlux_table = dbFlux.asAstropy()"
   ]
  },
  {
   "cell_type": "code",
   "execution_count": null,
   "id": "7e9bd04c-4610-4520-a0cd-760b3aa02403",
   "metadata": {
    "tags": []
   },
   "outputs": [],
   "source": [
    "# show whats in the table\n",
    "\n",
    "print(len(dbFlux_table))\n",
    "\n",
    "dbFlux_id = np.asarray(dbFlux_table['id'], dtype='int')\n",
    "dbFlux_coord_x = np.asarray(dbFlux_table['deblend_peak_center_x'],\n",
    "                            dtype='float')\n",
    "dbFlux_coord_y = np.asarray(dbFlux_table['deblend_peak_center_y'],\n",
    "                            dtype='float')\n",
    "dbFlux_parent = np.asarray(dbFlux_table['parent'], dtype='int')\n",
    "dbFlux_merge_footprint_i = np.asarray(dbFlux_table['merge_footprint_i'])\n",
    "dbFlux_deblend_peak_insFlux = np.asarray(dbFlux_table['deblend_peak_instFlux'])\n",
    "dbFlux_deblend_modelType = np.asarray(dbFlux_table['deblend_modelType'])\n",
    "dbFlux_deblend_scarletFlux = np.asarray(dbFlux_table['deblend_scarletFlux'])\n",
    "\n",
    "tx = np.where(dbFlux_parent == sel_objid)[0]\n",
    "dbFlux_table[tx]\n"
   ]
  },
  {
   "cell_type": "markdown",
   "id": "cf89ba61-6e4f-4087-ad94-543c742903ba",
   "metadata": {},
   "source": [
    "### 3.2 Exploring deblended \"footprints\"\n",
    "\n",
    "Now that we have retrieved the deblended flux table, we can use the `.getFootprint()` method to get the footprints for all records in `dbFlux`. First we will add them to the Astropy table we made out of the deepCoadd_deblendedFlux table, and then added new columns 'footprint' will appear in the table. Then, we can display the footprints for our 13 blended sources from Section 2.\n"
   ]
  },
  {
   "cell_type": "code",
   "execution_count": null,
   "id": "e2f5d229-71d9-4040-80ad-16f6d4c38dfb",
   "metadata": {
    "tags": []
   },
   "outputs": [],
   "source": [
    "# first, retrieve footprints and add to the deepCoadd_deblendedFlux table:\n",
    "footprints = [src.getFootprint() for src in dbFlux]\n",
    "dbFlux_table[\"footprint\"] = footprints\n"
   ]
  },
  {
   "cell_type": "code",
   "execution_count": null,
   "id": "7523c2cc-6460-45fd-8a2c-c4c02452e8c1",
   "metadata": {
    "tags": []
   },
   "outputs": [],
   "source": [
    "# Now show whats in the table including the new footprint\n",
    "# addition in the last column\n",
    "\n",
    "dbFlux_table[tx]\n"
   ]
  },
  {
   "cell_type": "code",
   "execution_count": null,
   "id": "22c6d35e-cf65-48b6-853e-54d0e743fc9e",
   "metadata": {
    "tags": []
   },
   "outputs": [],
   "source": [
    "# now display the footprint for each of the 13 deblended children\n",
    "\n",
    "for i in range(len(tx)):\n",
    "    dbFlux_table['footprint'][tx[i]]\n",
    "\n",
    "    test0 = heavyFootprint2Image(dbFlux_table['footprint'][tx[i]])\n",
    "\n",
    "    fig = plt.figure(figsize=(2, 2))\n",
    "    afw_display = afwDisplay.Display(frame=fig)\n",
    "    afw_display.scale('asinh', 'zscale')\n",
    "    afw_display.mtv(test0)\n",
    "    plt.axis('off')\n",
    "    plt.show()\n",
    "\n",
    "radec = geom.SpherePoint(ra, dec, geom.degrees)\n",
    "cutoutSize = geom.ExtentI(cutoutSideLength, cutoutSideLength)\n",
    "\n",
    "# If skymap is None:\n",
    "skymap = butler.get(\"skyMap\")\n",
    "\n",
    "# Look up the tract, patch for the RA, Dec\n",
    "tractInfo = skymap.findTract(radec)\n",
    "patchInfo = tractInfo.findPatch(radec)\n",
    "xy = geom.PointI(tractInfo.getWcs().skyToPixel(radec))\n",
    "bbox = geom.BoxI(xy - cutoutSize // 2, cutoutSize)\n"
   ]
  }
 ],
 "metadata": {
  "kernelspec": {
   "display_name": "LSST",
   "language": "python",
   "name": "lsst"
  },
  "language_info": {
   "codemirror_mode": {
    "name": "ipython",
    "version": 3
   },
   "file_extension": ".py",
   "mimetype": "text/x-python",
   "name": "python",
   "nbconvert_exporter": "python",
   "pygments_lexer": "ipython3",
   "version": "3.10.9"
  },
  "toc-autonumbering": false
 },
 "nbformat": 4,
 "nbformat_minor": 5
}
