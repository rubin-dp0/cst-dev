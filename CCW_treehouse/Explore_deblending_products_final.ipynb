{
 "cells": [
  {
   "cell_type": "markdown",
   "id": "749b0ddf",
   "metadata": {},
   "source": [
    "<img align=\"left\" src = https://project.lsst.org/sites/default/files/Rubin-O-Logo_0.png width=250 style=\"padding: 10px\"> \n",
    "<b>CET Template Notebook</b> <br>\n",
    "Contact author(s): <i>Christina WIlliams</i> <br>\n",
    "Last verified to run: <i>2023-02-24</i> <br>\n",
    "LSST Science Piplines version: Weekly <i>yyyy_xx</i> <br>\n",
    "Container Size: <i>medium</i> <br>\n",
    "Targeted learning level: <i>beginner</i> <br>"
   ]
  },
  {
   "cell_type": "markdown",
   "id": "582ab507-a7ae-4024-95c9-38aabeb602a6",
   "metadata": {},
   "source": [
    "_While developing, use the following code cell to check that the code conforms to standards, but then delete the cell and \"Kernel --> Restart Kernel and Clear All Outputs\" before saving and committing._"
   ]
  },
  {
   "cell_type": "code",
   "execution_count": 1,
   "id": "7acc79a4-8530-42d9-96e5-b7acb4397864",
   "metadata": {
    "execution": {
     "iopub.execute_input": "2023-02-24T22:07:49.391467Z",
     "iopub.status.busy": "2023-02-24T22:07:49.391320Z",
     "iopub.status.idle": "2023-02-24T22:07:49.426826Z",
     "shell.execute_reply": "2023-02-24T22:07:49.426160Z",
     "shell.execute_reply.started": "2023-02-24T22:07:49.391452Z"
    }
   },
   "outputs": [],
   "source": [
    "%load_ext pycodestyle_magic\n",
    "%flake8_on\n",
    "import logging\n",
    "logging.getLogger(\"flake8\").setLevel(logging.FATAL)"
   ]
  },
  {
   "cell_type": "markdown",
   "id": "9da1a210-d858-42fe-8591-570965b8be1a",
   "metadata": {},
   "source": [
    "**Description:**  Introduce the data products created by the LSST multiband deblender (Scarlet; Melchior et al. 2018; https://ui.adsabs.harvard.edu/abs/2018A%26C....24..129M/abstract) and illustrate some simple use cases for the deblender products that are stored after the pipeline is run. "
   ]
  },
  {
   "cell_type": "markdown",
   "id": "80a0baf5-51ad-40ec-8991-060a7b27c289",
   "metadata": {},
   "source": [
    "**Skills:** Learn the use cases of deblender products and keywords in LSST catalogs through visual demonstration and explanation of the keywords"
   ]
  },
  {
   "cell_type": "markdown",
   "id": "393da88f-7978-4920-aa4a-a9830df6eed9",
   "metadata": {},
   "source": [
    "**LSST Data Products:** Images (deepCoadd, skyMap, MaskedImage) and Catalogs (objectTable)"
   ]
  },
  {
   "cell_type": "markdown",
   "id": "5c67fab9-136a-4adc-bb42-142b91ab69dd",
   "metadata": {},
   "source": [
    "**Packages:** lsst.afw.image, lsst.afw.detection, lsst.rsp, lsst.daf.butler, lsst.geom, astropy, numpy, "
   ]
  },
  {
   "cell_type": "markdown",
   "id": "8f72b27f",
   "metadata": {},
   "source": [
    "**Credit:** Developed by Christina Willliams in collaboration with Melissa Graham and the Rubin Community Engagement Team for DP0.2. Influenced by StackClub notebooks demonstrating how to run the LSST deblender (Scarlet; Melchior et al. 2018) by Fred Moolekamp and Alex Drlica-Wagner. "
   ]
  },
  {
   "cell_type": "markdown",
   "id": "28e91cbf-ab7f-4e26-9276-b00299d6065e",
   "metadata": {},
   "source": [
    "**Get Support:**\n",
    "Find DP0-related documentation and resources at <a href=\"https://dp0-2.lsst.io\">dp0-2.lsst.io</a>. Questions are welcome as new topics in the <a href=\"https://community.lsst.org/c/support/dp0\">Support - Data Preview 0 Category</a> of the Rubin Community Forum. Rubin staff will respond to all questions posted there."
   ]
  },
  {
   "cell_type": "markdown",
   "id": "cfc73be0",
   "metadata": {},
   "source": [
    "## 1. Introduction\n",
    "\n",
    "This notebook is an introduction to the data products that are created by the LSST pipeline deblender. In order to build its source catalog and measure photometry of objects in images, the LSST pipeline uses a multi-wavelength deblending algorithm (Scarlet, Melchior et al. 2018) to identify independent detected components within source blends, and separate the flux from independent objects. A \"parent\" source is identified as a region of connected pixels above Signal to Noise (S/N) of XX in the deepCoadd. These regions are called footprints. Each footprint may have one or more peaks, and it is these peaks that the deblender will use to infer the number and positions of objects blended in each footprint. The de-blended sub-peaks are referred to as \"children\" of the parent in the properties saved by the deblender in the objectTable.\n",
    "\n",
    "Scarlet separates the flux among components by modeling the flux and shape of each source making up the blend.\n",
    "\n",
    "As an example, in this tutorial we will identify a heavily blended source with many components, and explore how to use the information in the objectTable produced by the deblender to identify the indepedent sources within the blend. The keywords for sources identified by the deblender should be used to identify unique sources in the objectTable. We will also show an example of how to access metadata that is attached to each deblended source in the objectTable (e.g. the deblended footprints and pixel-weight maps).\n",
    "\n",
    "An introduction to all of the available deblending flags, and the processes that produce the deblender data products discussed here can be found here:\n",
    "https://pipelines.lsst.io/modules/lsst.pipe.tasks/deblending-flags-overview.html\n",
    "\n",
    "A general discussion of blending impacts to LSST can be found in Melchior et al. 2021: https://lss.fnal.gov/archive/2021/pub/fermilab-pub-21-598-ppd.pdf\n",
    "\n",
    "Some more in depth presentations on the deblending implementation in the LSST pipeline are available from recorded talks during the Rubin PCW 2022: https://project.lsst.org/meetings/rubin2022/agenda/deblending-plans-and-challenges"
   ]
  },
  {
   "cell_type": "markdown",
   "id": "dc36f107",
   "metadata": {},
   "source": [
    "### 1.1 Package Imports\n",
    "\n",
    "The [`matplotlib`](https://matplotlib.org/), [`numpy`](http://www.numpy.org/), and [`astropy`](http://www.astropy.org/) libraries are widely used Python libraries for plotting, scientific computing, and astronomical data analysis. We will use these packages below, including the `matplotlib.pyplot` plotting sublibrary.\n",
    "\n",
    "the `lsst.rsp` package to access the TAP service and query the DP0 catalogs.\n",
    "\n",
    "Here we will use the `lsst.afw.image` and `lsst.afw.detection` packages to access some of the extended products created by the deblender pipeline. \n",
    "\n",
    "We will also use previously introduced packages including the `lsst.afw.display` library to gain access to the image visualization routines we'd like to use, and the `lsst.daf.butler` library, which is used to access data products."
   ]
  },
  {
   "cell_type": "code",
   "execution_count": 2,
   "id": "d185358a-4c15-4b04-8e3d-13083191ee72",
   "metadata": {
    "execution": {
     "iopub.execute_input": "2023-02-24T22:07:49.429372Z",
     "iopub.status.busy": "2023-02-24T22:07:49.429150Z",
     "iopub.status.idle": "2023-02-24T22:07:51.567544Z",
     "shell.execute_reply": "2023-02-24T22:07:51.566897Z",
     "shell.execute_reply.started": "2023-02-24T22:07:49.429357Z"
    }
   },
   "outputs": [
    {
     "data": {
      "text/html": [
       "<pre style=\"margin: 0.1em;\n",
       "padding-left: 0.25em;\n",
       "border-left-style: solid;\n",
       "font-family: var(--jp-code-font-family);\n",
       "font-size: var(--jp-code-font-size);\n",
       "line-height: var(--jp-code-line-height);\n",
       "\"><span style=\"color: var(--jp-warn-color2)\">pycodestyle</span> <span style=\"color: var(--jp-info-color0)\">INFO</span>: 11:1: E402 module level import not at top of file</pre>"
      ],
      "text/plain": [
       "<IPython.core.display.HTML object>"
      ]
     },
     "metadata": {},
     "output_type": "display_data"
    },
    {
     "data": {
      "text/html": [
       "<pre style=\"margin: 0.1em;\n",
       "padding-left: 0.25em;\n",
       "border-left-style: solid;\n",
       "font-family: var(--jp-code-font-family);\n",
       "font-size: var(--jp-code-font-size);\n",
       "line-height: var(--jp-code-line-height);\n",
       "\"><span style=\"color: var(--jp-warn-color2)\">pycodestyle</span> <span style=\"color: var(--jp-info-color0)\">INFO</span>: 14:1: E402 module level import not at top of file</pre>"
      ],
      "text/plain": [
       "<IPython.core.display.HTML object>"
      ]
     },
     "metadata": {},
     "output_type": "display_data"
    },
    {
     "data": {
      "text/html": [
       "<pre style=\"margin: 0.1em;\n",
       "padding-left: 0.25em;\n",
       "border-left-style: solid;\n",
       "font-family: var(--jp-code-font-family);\n",
       "font-size: var(--jp-code-font-size);\n",
       "line-height: var(--jp-code-line-height);\n",
       "\"><span style=\"color: var(--jp-warn-color2)\">pycodestyle</span> <span style=\"color: var(--jp-info-color0)\">INFO</span>: 17:1: E402 module level import not at top of file</pre>"
      ],
      "text/plain": [
       "<IPython.core.display.HTML object>"
      ]
     },
     "metadata": {},
     "output_type": "display_data"
    },
    {
     "data": {
      "text/html": [
       "<pre style=\"margin: 0.1em;\n",
       "padding-left: 0.25em;\n",
       "border-left-style: solid;\n",
       "font-family: var(--jp-code-font-family);\n",
       "font-size: var(--jp-code-font-size);\n",
       "line-height: var(--jp-code-line-height);\n",
       "\"><span style=\"color: var(--jp-warn-color2)\">pycodestyle</span> <span style=\"color: var(--jp-info-color0)\">INFO</span>: 18:1: E402 module level import not at top of file</pre>"
      ],
      "text/plain": [
       "<IPython.core.display.HTML object>"
      ]
     },
     "metadata": {},
     "output_type": "display_data"
    },
    {
     "data": {
      "text/html": [
       "<pre style=\"margin: 0.1em;\n",
       "padding-left: 0.25em;\n",
       "border-left-style: solid;\n",
       "font-family: var(--jp-code-font-family);\n",
       "font-size: var(--jp-code-font-size);\n",
       "line-height: var(--jp-code-line-height);\n",
       "\"><span style=\"color: var(--jp-warn-color2)\">pycodestyle</span> <span style=\"color: var(--jp-info-color0)\">INFO</span>: 18:43: E261 at least two spaces before inline comment</pre>"
      ],
      "text/plain": [
       "<IPython.core.display.HTML object>"
      ]
     },
     "metadata": {},
     "output_type": "display_data"
    },
    {
     "data": {
      "text/html": [
       "<pre style=\"margin: 0.1em;\n",
       "padding-left: 0.25em;\n",
       "border-left-style: solid;\n",
       "font-family: var(--jp-code-font-family);\n",
       "font-size: var(--jp-code-font-size);\n",
       "line-height: var(--jp-code-line-height);\n",
       "\"><span style=\"color: var(--jp-warn-color2)\">pycodestyle</span> <span style=\"color: var(--jp-info-color0)\">INFO</span>: 18:44: E262 inline comment should start with &#x27;# &#x27;</pre>"
      ],
      "text/plain": [
       "<IPython.core.display.HTML object>"
      ]
     },
     "metadata": {},
     "output_type": "display_data"
    },
    {
     "data": {
      "text/html": [
       "<pre style=\"margin: 0.1em;\n",
       "padding-left: 0.25em;\n",
       "border-left-style: solid;\n",
       "font-family: var(--jp-code-font-family);\n",
       "font-size: var(--jp-code-font-size);\n",
       "line-height: var(--jp-code-line-height);\n",
       "\"><span style=\"color: var(--jp-warn-color2)\">pycodestyle</span> <span style=\"color: var(--jp-info-color0)\">INFO</span>: 21:1: E402 module level import not at top of file</pre>"
      ],
      "text/plain": [
       "<IPython.core.display.HTML object>"
      ]
     },
     "metadata": {},
     "output_type": "display_data"
    },
    {
     "data": {
      "text/html": [
       "<pre style=\"margin: 0.1em;\n",
       "padding-left: 0.25em;\n",
       "border-left-style: solid;\n",
       "font-family: var(--jp-code-font-family);\n",
       "font-size: var(--jp-code-font-size);\n",
       "line-height: var(--jp-code-line-height);\n",
       "\"><span style=\"color: var(--jp-warn-color2)\">pycodestyle</span> <span style=\"color: var(--jp-info-color0)\">INFO</span>: 22:1: E402 module level import not at top of file</pre>"
      ],
      "text/plain": [
       "<IPython.core.display.HTML object>"
      ]
     },
     "metadata": {},
     "output_type": "display_data"
    },
    {
     "data": {
      "text/html": [
       "<pre style=\"margin: 0.1em;\n",
       "padding-left: 0.25em;\n",
       "border-left-style: solid;\n",
       "font-family: var(--jp-code-font-family);\n",
       "font-size: var(--jp-code-font-size);\n",
       "line-height: var(--jp-code-line-height);\n",
       "\"><span style=\"color: var(--jp-warn-color2)\">pycodestyle</span> <span style=\"color: var(--jp-info-color0)\">INFO</span>: 26:1: E402 module level import not at top of file</pre>"
      ],
      "text/plain": [
       "<IPython.core.display.HTML object>"
      ]
     },
     "metadata": {},
     "output_type": "display_data"
    },
    {
     "data": {
      "text/html": [
       "<pre style=\"margin: 0.1em;\n",
       "padding-left: 0.25em;\n",
       "border-left-style: solid;\n",
       "font-family: var(--jp-code-font-family);\n",
       "font-size: var(--jp-code-font-size);\n",
       "line-height: var(--jp-code-line-height);\n",
       "\"><span style=\"color: var(--jp-warn-color2)\">pycodestyle</span> <span style=\"color: var(--jp-info-color0)\">INFO</span>: 27:1: E402 module level import not at top of file</pre>"
      ],
      "text/plain": [
       "<IPython.core.display.HTML object>"
      ]
     },
     "metadata": {},
     "output_type": "display_data"
    },
    {
     "data": {
      "text/html": [
       "<pre style=\"margin: 0.1em;\n",
       "padding-left: 0.25em;\n",
       "border-left-style: solid;\n",
       "font-family: var(--jp-code-font-family);\n",
       "font-size: var(--jp-code-font-size);\n",
       "line-height: var(--jp-code-line-height);\n",
       "\"><span style=\"color: var(--jp-warn-color2)\">pycodestyle</span> <span style=\"color: var(--jp-info-color0)\">INFO</span>: 30:1: E402 module level import not at top of file</pre>"
      ],
      "text/plain": [
       "<IPython.core.display.HTML object>"
      ]
     },
     "metadata": {},
     "output_type": "display_data"
    },
    {
     "data": {
      "text/html": [
       "<pre style=\"margin: 0.1em;\n",
       "padding-left: 0.25em;\n",
       "border-left-style: solid;\n",
       "font-family: var(--jp-code-font-family);\n",
       "font-size: var(--jp-code-font-size);\n",
       "line-height: var(--jp-code-line-height);\n",
       "\"><span style=\"color: var(--jp-warn-color2)\">pycodestyle</span> <span style=\"color: var(--jp-info-color0)\">INFO</span>: 33:1: E402 module level import not at top of file</pre>"
      ],
      "text/plain": [
       "<IPython.core.display.HTML object>"
      ]
     },
     "metadata": {},
     "output_type": "display_data"
    },
    {
     "data": {
      "text/html": [
       "<pre style=\"margin: 0.1em;\n",
       "padding-left: 0.25em;\n",
       "border-left-style: solid;\n",
       "font-family: var(--jp-code-font-family);\n",
       "font-size: var(--jp-code-font-size);\n",
       "line-height: var(--jp-code-line-height);\n",
       "\"><span style=\"color: var(--jp-warn-color2)\">pycodestyle</span> <span style=\"color: var(--jp-info-color0)\">INFO</span>: 34:1: E402 module level import not at top of file</pre>"
      ],
      "text/plain": [
       "<IPython.core.display.HTML object>"
      ]
     },
     "metadata": {},
     "output_type": "display_data"
    },
    {
     "data": {
      "text/html": [
       "<pre style=\"margin: 0.1em;\n",
       "padding-left: 0.25em;\n",
       "border-left-style: solid;\n",
       "font-family: var(--jp-code-font-family);\n",
       "font-size: var(--jp-code-font-size);\n",
       "line-height: var(--jp-code-line-height);\n",
       "\"><span style=\"color: var(--jp-warn-color2)\">pycodestyle</span> <span style=\"color: var(--jp-info-color0)\">INFO</span>: 35:1: E402 module level import not at top of file</pre>"
      ],
      "text/plain": [
       "<IPython.core.display.HTML object>"
      ]
     },
     "metadata": {},
     "output_type": "display_data"
    },
    {
     "data": {
      "text/html": [
       "<pre style=\"margin: 0.1em;\n",
       "padding-left: 0.25em;\n",
       "border-left-style: solid;\n",
       "font-family: var(--jp-code-font-family);\n",
       "font-size: var(--jp-code-font-size);\n",
       "line-height: var(--jp-code-line-height);\n",
       "\"><span style=\"color: var(--jp-warn-color2)\">pycodestyle</span> <span style=\"color: var(--jp-info-color0)\">INFO</span>: 36:1: E402 module level import not at top of file</pre>"
      ],
      "text/plain": [
       "<IPython.core.display.HTML object>"
      ]
     },
     "metadata": {},
     "output_type": "display_data"
    },
    {
     "data": {
      "text/html": [
       "<pre style=\"margin: 0.1em;\n",
       "padding-left: 0.25em;\n",
       "border-left-style: solid;\n",
       "font-family: var(--jp-code-font-family);\n",
       "font-size: var(--jp-code-font-size);\n",
       "line-height: var(--jp-code-line-height);\n",
       "\"><span style=\"color: var(--jp-warn-color2)\">pycodestyle</span> <span style=\"color: var(--jp-info-color0)\">INFO</span>: 37:1: E402 module level import not at top of file</pre>"
      ],
      "text/plain": [
       "<IPython.core.display.HTML object>"
      ]
     },
     "metadata": {},
     "output_type": "display_data"
    },
    {
     "data": {
      "text/html": [
       "<pre style=\"margin: 0.1em;\n",
       "padding-left: 0.25em;\n",
       "border-left-style: solid;\n",
       "font-family: var(--jp-code-font-family);\n",
       "font-size: var(--jp-code-font-size);\n",
       "line-height: var(--jp-code-line-height);\n",
       "\"><span style=\"color: var(--jp-warn-color2)\">pycodestyle</span> <span style=\"color: var(--jp-info-color0)\">INFO</span>: 38:1: E402 module level import not at top of file</pre>"
      ],
      "text/plain": [
       "<IPython.core.display.HTML object>"
      ]
     },
     "metadata": {},
     "output_type": "display_data"
    }
   ],
   "source": [
    "# general python packages\n",
    "import numpy as np\n",
    "import os\n",
    "import sys\n",
    "import matplotlib.pyplot as plt\n",
    "import gc\n",
    "import time\n",
    "plt.style.use('tableau-colorblind10')\n",
    "\n",
    "# LSST package for TAP queries\n",
    "from lsst.rsp import get_tap_service, retrieve_query\n",
    "\n",
    "# LSST package for Butler queries\n",
    "import lsst.daf.butler as Butler\n",
    "\n",
    "# Familiar stack packages\n",
    "from lsst.geom import Box2I, Box2D, Point2I, Point2D, Extent2I, Extent2D\n",
    "from lsst.afw.image import Exposure, Image #, PARENT\n",
    "\n",
    "# LSST package for image display\n",
    "import lsst.afw.display as afwDisplay\n",
    "import lsst.geom as geom\n",
    "afwDisplay.setDefaultBackend('matplotlib')\n",
    "\n",
    "# Packages for dealing with multi-band data products\n",
    "from lsst.afw.image import MultibandExposure, MultibandImage\n",
    "from lsst.afw.detection import MultibandFootprint, Footprint\n",
    "\n",
    "# For the heavyFootprintToImage function\n",
    "from lsst.afw.image import MaskedImage\n",
    "\n",
    "# Astropy imports\n",
    "from astropy.wcs import WCS\n",
    "from astropy import units as u\n",
    "from astropy.coordinates import SkyCoord\n",
    "from astropy.wcs.utils import skycoord_to_pixel\n",
    "from astropy.visualization import make_lupton_rgb\n",
    "from astropy.nddata import Cutout2D"
   ]
  },
  {
   "cell_type": "markdown",
   "id": "c217adff-25ed-4fce-95e7-8aa04630f6cc",
   "metadata": {},
   "source": [
    "### 1.2 Define Functions and Parameters for the image plots \n",
    "\n",
    "Here we define default parameters for plotting, and define two functions to help us visualize deblended products: 1) cutout_coadd will make an image cutout (see tutorial notebook 03a) and 2) heavyFootprintToImage will help us grab the \"footprint\" of deblended objects for further analysis. \n",
    "\n"
   ]
  },
  {
   "cell_type": "code",
   "execution_count": 3,
   "id": "54e8800e-26f3-4d70-9306-ef3a5fd75aa9",
   "metadata": {
    "execution": {
     "iopub.execute_input": "2023-02-24T22:07:51.570699Z",
     "iopub.status.busy": "2023-02-24T22:07:51.570504Z",
     "iopub.status.idle": "2023-02-24T22:07:51.677814Z",
     "shell.execute_reply": "2023-02-24T22:07:51.677257Z",
     "shell.execute_reply.started": "2023-02-24T22:07:51.570680Z"
    }
   },
   "outputs": [
    {
     "data": {
      "text/html": [
       "<pre style=\"margin: 0.1em;\n",
       "padding-left: 0.25em;\n",
       "border-left-style: solid;\n",
       "font-family: var(--jp-code-font-family);\n",
       "font-size: var(--jp-code-font-size);\n",
       "line-height: var(--jp-code-line-height);\n",
       "\"><span style=\"color: var(--jp-warn-color2)\">pycodestyle</span> <span style=\"color: var(--jp-info-color0)\">INFO</span>: 30:1: E302 expected 2 blank lines, found 1</pre>"
      ],
      "text/plain": [
       "<IPython.core.display.HTML object>"
      ]
     },
     "metadata": {},
     "output_type": "display_data"
    },
    {
     "data": {
      "text/html": [
       "<pre style=\"margin: 0.1em;\n",
       "padding-left: 0.25em;\n",
       "border-left-style: solid;\n",
       "font-family: var(--jp-code-font-family);\n",
       "font-size: var(--jp-code-font-size);\n",
       "line-height: var(--jp-code-line-height);\n",
       "\"><span style=\"color: var(--jp-warn-color2)\">pycodestyle</span> <span style=\"color: var(--jp-info-color0)\">INFO</span>: 69:35: E231 missing whitespace after &#x27;,&#x27;</pre>"
      ],
      "text/plain": [
       "<IPython.core.display.HTML object>"
      ]
     },
     "metadata": {},
     "output_type": "display_data"
    },
    {
     "data": {
      "text/html": [
       "<pre style=\"margin: 0.1em;\n",
       "padding-left: 0.25em;\n",
       "border-left-style: solid;\n",
       "font-family: var(--jp-code-font-family);\n",
       "font-size: var(--jp-code-font-size);\n",
       "line-height: var(--jp-code-line-height);\n",
       "\"><span style=\"color: var(--jp-warn-color2)\">pycodestyle</span> <span style=\"color: var(--jp-info-color0)\">INFO</span>: 69:55: E231 missing whitespace after &#x27;,&#x27;</pre>"
      ],
      "text/plain": [
       "<IPython.core.display.HTML object>"
      ]
     },
     "metadata": {},
     "output_type": "display_data"
    },
    {
     "data": {
      "text/html": [
       "<pre style=\"margin: 0.1em;\n",
       "padding-left: 0.25em;\n",
       "border-left-style: solid;\n",
       "font-family: var(--jp-code-font-family);\n",
       "font-size: var(--jp-code-font-size);\n",
       "line-height: var(--jp-code-line-height);\n",
       "\"><span style=\"color: var(--jp-warn-color2)\">pycodestyle</span> <span style=\"color: var(--jp-info-color0)\">INFO</span>: 80:80: E501 line too long (90 &gt; 79 characters)</pre>"
      ],
      "text/plain": [
       "<IPython.core.display.HTML object>"
      ]
     },
     "metadata": {},
     "output_type": "display_data"
    },
    {
     "data": {
      "text/html": [
       "<pre style=\"margin: 0.1em;\n",
       "padding-left: 0.25em;\n",
       "border-left-style: solid;\n",
       "font-family: var(--jp-code-font-family);\n",
       "font-size: var(--jp-code-font-size);\n",
       "line-height: var(--jp-code-line-height);\n",
       "\"><span style=\"color: var(--jp-warn-color2)\">pycodestyle</span> <span style=\"color: var(--jp-info-color0)\">INFO</span>: 82:1: E302 expected 2 blank lines, found 1</pre>"
      ],
      "text/plain": [
       "<IPython.core.display.HTML object>"
      ]
     },
     "metadata": {},
     "output_type": "display_data"
    },
    {
     "data": {
      "text/html": [
       "<pre style=\"margin: 0.1em;\n",
       "padding-left: 0.25em;\n",
       "border-left-style: solid;\n",
       "font-family: var(--jp-code-font-family);\n",
       "font-size: var(--jp-code-font-size);\n",
       "line-height: var(--jp-code-line-height);\n",
       "\"><span style=\"color: var(--jp-warn-color2)\">pycodestyle</span> <span style=\"color: var(--jp-info-color0)\">INFO</span>: 82:80: E501 line too long (80 &gt; 79 characters)</pre>"
      ],
      "text/plain": [
       "<IPython.core.display.HTML object>"
      ]
     },
     "metadata": {},
     "output_type": "display_data"
    },
    {
     "data": {
      "text/html": [
       "<pre style=\"margin: 0.1em;\n",
       "padding-left: 0.25em;\n",
       "border-left-style: solid;\n",
       "font-family: var(--jp-code-font-family);\n",
       "font-size: var(--jp-code-font-size);\n",
       "line-height: var(--jp-code-line-height);\n",
       "\"><span style=\"color: var(--jp-warn-color2)\">pycodestyle</span> <span style=\"color: var(--jp-info-color0)\">INFO</span>: 84:30: W291 trailing whitespace</pre>"
      ],
      "text/plain": [
       "<IPython.core.display.HTML object>"
      ]
     },
     "metadata": {},
     "output_type": "display_data"
    }
   ],
   "source": [
    "# Set up some plotting defaults:\n",
    "\n",
    "params = {'axes.labelsize': 28,\n",
    "          'font.size': 24,\n",
    "          'legend.fontsize': 14,\n",
    "          'xtick.major.width': 3,\n",
    "          'xtick.minor.width': 2,\n",
    "          'xtick.major.size': 12,\n",
    "          'xtick.minor.size': 6,\n",
    "          'xtick.direction': 'in',\n",
    "          'xtick.top': True,\n",
    "          'lines.linewidth': 3,\n",
    "          'axes.linewidth': 3,\n",
    "          'axes.labelweight': 3,\n",
    "          'axes.titleweight': 3,\n",
    "          'ytick.major.width': 3,\n",
    "          'ytick.minor.width': 2,\n",
    "          'ytick.major.size': 12,\n",
    "          'ytick.minor.size': 6,\n",
    "          'ytick.direction': 'in',\n",
    "          'ytick.right': True,\n",
    "          'figure.figsize': [8, 8],\n",
    "          'figure.facecolor': 'White'\n",
    "          }\n",
    "\n",
    "plt.rcParams.update(params)\n",
    "\n",
    "# A function and settings to plot a cutout from tutorial notebook 03a\n",
    "\n",
    "def cutout_coadd(butler, ra, dec, band='r', datasetType='deepCoadd',\n",
    "                 skymap=None, cutoutSideLength=51, **kwargs):\n",
    "    \"\"\"\n",
    "    Produce a cutout from a coadd at the given ra, dec position.\n",
    "\n",
    "    Adapted from DC2 tutorial notebook by Michael Wood-Vasey.\n",
    "\n",
    "    Parameters\n",
    "    ----------\n",
    "    butler: lsst.daf.persistence.Butler\n",
    "        Servant providing access to a data repository\n",
    "    ra: float\n",
    "        Right ascension of the center of the cutout, in degrees\n",
    "    dec: float\n",
    "        Declination of the center of the cutout, in degrees\n",
    "    band: string\n",
    "        Filter of the image to load\n",
    "    datasetType: string ['deepCoadd']\n",
    "        Which type of coadd to load.  Doesn't support 'calexp'\n",
    "    skymap: lsst.afw.skyMap.SkyMap [optional]\n",
    "        Pass in to avoid the Butler read.  Useful if you have lots of them.\n",
    "    cutoutSideLength: float [optional]\n",
    "        Size of the cutout region in pixels.\n",
    "\n",
    "    Returns\n",
    "    -------\n",
    "    MaskedImage\n",
    "    \"\"\"\n",
    "    radec = geom.SpherePoint(ra, dec, geom.degrees)\n",
    "    cutoutSize = geom.ExtentI(cutoutSideLength, cutoutSideLength)\n",
    "\n",
    "    if skymap is None:\n",
    "        skymap = butler.get(\"skyMap\")\n",
    "\n",
    "    # Look up the tract, patch for the RA, Dec\n",
    "    tractInfo = skymap.findTract(radec)\n",
    "    patchInfo = tractInfo.findPatch(radec)\n",
    "    xy = geom.PointI(tractInfo.getWcs().skyToPixel(radec))\n",
    "    bbox = geom.BoxI(xy - cutoutSize // 2, cutoutSize)\n",
    "    print(\"bbox = \", bbox, \"xy = \",xy, \"cutoutSize = \",cutoutSize)\n",
    "    patch = tractInfo.getSequentialPatchIndex(patchInfo)\n",
    "\n",
    "    coaddId = {'tract': tractInfo.getId(), 'patch': patch, 'band': band}\n",
    "    parameters = {'bbox': bbox}\n",
    "\n",
    "    cutout_image = butler.get(datasetType, parameters=parameters,\n",
    "                              dataId=coaddId)\n",
    "\n",
    "    return cutout_image\n",
    "\n",
    "# A function to image the footprint of deblended sources from deblender products metadata:\n",
    "\n",
    "def heavyFootprintToImage(heavy, fill=np.nan, bbox=None, imageType=MaskedImage):\n",
    "    \"\"\"Create an image of a HeavyFootprint\n",
    "    Written by Fred Moolekamp \n",
    "    Parameters\n",
    "    ----------\n",
    "    heavy : `HeavyFootprint`\n",
    "        The HeavyFootprint to insert into the image\n",
    "    fill: number\n",
    "        Number to fill the pixels in the image that are not\n",
    "        contained in `heavy`.\n",
    "    bbox : `Box2I`\n",
    "        Bounding box of the output image.\n",
    "    imageType : `type`\n",
    "        This should be either a `MaskedImage` or `Image` and describes\n",
    "        the type of the output image.\n",
    "    Returns\n",
    "    -------\n",
    "    image : `lsst.afw.image.MaskedImage` or `lsst.afw.image.Image`\n",
    "        An image defined by `bbox` and padded with `fill` that\n",
    "        contains the projected flux in `heavy`.\n",
    "    \"\"\"\n",
    "    if bbox is None:\n",
    "        bbox = heavy.getBBox()\n",
    "    image = imageType(bbox, dtype=heavy.getImageArray().dtype)\n",
    "    image.set(fill)\n",
    "    heavy.insert(image)\n",
    "    return image"
   ]
  },
  {
   "cell_type": "markdown",
   "id": "ec51ac0b",
   "metadata": {
    "tags": []
   },
   "source": [
    "## 2. Explore the deblender data products stored in objectTable\n",
    "\n",
    "\n",
    "\n",
    "\n",
    "The pipeline records a number of keywords that can be used to identify and characterize blended sources (parents) that have been deblended into child sources, both of which are ultimately stored in the object and source tables along with isolated single objects that do not require deblending. These keywords help the user identify a unique sample and avoid double counting of objects in queries. In this tutorial we will focus on the objectTable based on the deepCoadd images. Some example boolean flags set by the deblender that are found in the objectTable:\n",
    "\n",
    "**detect_isPrimary**: \tTrue if source has no children, is in inner region of a coadd patch and is in the inner region of a coadd tract, (and is therefore a unique object in the catalog). Note that an object where **detect_isPrimary=True** can still be a deblended child, but itself was not a parent that was separated by the deblender. **To avoid double-counting sources in any selection or query (from including both the parent blend and the nearest child source, or due to including the overlapping area from two or more visits) it is important to set this flag to True.**\n",
    "\n",
    "**detect_fromBlend**: \tThis source is deblended from a parent with more than one child.\n",
    "\n",
    "**detect_isIsolated**: \tThis source was not contained in a blend (source has a single peak, **deblend_nPeaks=True** or its parent only had a single peak **deblend_parentNPeaks=True**). \n",
    "\n",
    "**detect_isDeblendedSource**: \tTrue if source has no children, is in the inner regions of its coadd patch and tract (will be unique) and is either an unblended isolated source or a deblended child from a parent. This is similar to the **detect_isDeblendedModelSource** flag, which is True if source has no children and is a deblended child (but this flag is false for unblended isolated sources).\n",
    " \n",
    "**deblend_skipped**: \tDeblender skipped this source\n",
    "\n",
    "\n",
    "Some keywords that are set by the deblender that can be used to characterize the blend/deblended sources contained in the objectTable include:\n",
    "\n",
    "**parentObjectId**: \tUnique ID of parent source. \n",
    "\n",
    "**deblend_nPeaks**: \tNumber of peaks contained in the parent blend's footprint (=1 for isolated sources)\n",
    "\n",
    "**deblend_nChild**: \tNumber of peaks deblended from the parent (differs from deblend_nPeaks in that nChild excludes both isolated sources, and child peaks that were culled during deblending)\n",
    "\n",
    "**footprintArea**:  \tNumber of pixels in the sources detection \"footprint\". The footprint is a boolean mask of pixels in the input image that were detected as part of the parent blend. This corresponds to the footprint for the \"reference band\".\n",
    "\n",
    "**refBand**:  \tFilter that the deblender identified the \"best\" location for the centroid of the peak flux based on the multi-wavelength deblending routine (referred to as the \"reference filter\").\n",
    "\n",
    "\n",
    "### 2.1 Access and print the keywords created by the deblender in objectTable\n",
    "\n",
    "In this tutorial we will explore use cases for a few of these keywords in the objectTable. These can be accessed via TAP queries, or through the butler, so we will demonstrate both. First, lets open a TAP service and initialize a Butler instance:\n"
   ]
  },
  {
   "cell_type": "code",
   "execution_count": 4,
   "id": "ded13be7-79dd-41e5-9052-a22df60745c3",
   "metadata": {
    "execution": {
     "iopub.execute_input": "2023-02-24T22:07:51.680338Z",
     "iopub.status.busy": "2023-02-24T22:07:51.680170Z",
     "iopub.status.idle": "2023-02-24T22:07:54.326404Z",
     "shell.execute_reply": "2023-02-24T22:07:54.325617Z",
     "shell.execute_reply.started": "2023-02-24T22:07:51.680322Z"
    }
   },
   "outputs": [],
   "source": [
    "# open TAP service\n",
    "service = get_tap_service()\n",
    "assert service is not None\n",
    "assert service.baseurl == \"https://data.lsst.cloud/api/tap\"\n",
    "\n",
    "# initialize Butler\n",
    "config = 'dp02'\n",
    "collection = '2.2i/runs/DP0.2'\n",
    "butler = Butler.Butler(config, collections=collection)\n"
   ]
  },
  {
   "cell_type": "markdown",
   "id": "98feae16-6c86-4095-9b9d-4379a3e821d4",
   "metadata": {},
   "source": [
    "\n",
    "\n",
    "In theory, one can search the LSST data for objects with certain characteristics, such as by how many sources are blended together. However, when searching either through TAP queries or using the butler, one must first identify the region of the sky to search and search in a specific region defined by RA/Dec within a certain search radius or patch/tract. This is because the databases are indexed by RA/Dec and searching by blending keywords (i.e. to identify the most blended sources or by parent object ID) are extremely inefficient. The reason that Qserv is spatially sharded, so querying by RA/Dec is always going to be more efficient than querying by butler dimensions such as patch, tract, etc. RA/Dec is the way to go to optimize TAP queries. (For more information, see tutorial notebook 02 on TAP queries, and notebook 04a on introduction to the Butler).\n",
    "\n",
    "However, we show an example below. Note that uncommenting the cell will run a query that takes approximately 15 minutes."
   ]
  },
  {
   "cell_type": "code",
   "execution_count": 5,
   "id": "c7e280d4-1c81-4396-884a-e5a2cef3f105",
   "metadata": {
    "execution": {
     "iopub.execute_input": "2023-02-24T22:07:54.327667Z",
     "iopub.status.busy": "2023-02-24T22:07:54.327421Z",
     "iopub.status.idle": "2023-02-24T22:07:54.409615Z",
     "shell.execute_reply": "2023-02-24T22:07:54.409156Z",
     "shell.execute_reply.started": "2023-02-24T22:07:54.327643Z"
    }
   },
   "outputs": [
    {
     "data": {
      "text/html": [
       "<pre style=\"margin: 0.1em;\n",
       "padding-left: 0.25em;\n",
       "border-left-style: solid;\n",
       "font-family: var(--jp-code-font-family);\n",
       "font-size: var(--jp-code-font-size);\n",
       "line-height: var(--jp-code-line-height);\n",
       "\"><span style=\"color: var(--jp-warn-color2)\">pycodestyle</span> <span style=\"color: var(--jp-info-color0)\">INFO</span>: 1:1: E265 block comment should start with &#x27;# &#x27;</pre>"
      ],
      "text/plain": [
       "<IPython.core.display.HTML object>"
      ]
     },
     "metadata": {},
     "output_type": "display_data"
    },
    {
     "data": {
      "text/html": [
       "<pre style=\"margin: 0.1em;\n",
       "padding-left: 0.25em;\n",
       "border-left-style: solid;\n",
       "font-family: var(--jp-code-font-family);\n",
       "font-size: var(--jp-code-font-size);\n",
       "line-height: var(--jp-code-line-height);\n",
       "\"><span style=\"color: var(--jp-warn-color2)\">pycodestyle</span> <span style=\"color: var(--jp-info-color0)\">INFO</span>: 3:80: E501 line too long (97 &gt; 79 characters)</pre>"
      ],
      "text/plain": [
       "<IPython.core.display.HTML object>"
      ]
     },
     "metadata": {},
     "output_type": "display_data"
    },
    {
     "data": {
      "text/html": [
       "<pre style=\"margin: 0.1em;\n",
       "padding-left: 0.25em;\n",
       "border-left-style: solid;\n",
       "font-family: var(--jp-code-font-family);\n",
       "font-size: var(--jp-code-font-size);\n",
       "line-height: var(--jp-code-line-height);\n",
       "\"><span style=\"color: var(--jp-warn-color2)\">pycodestyle</span> <span style=\"color: var(--jp-info-color0)\">INFO</span>: 3:98: W291 trailing whitespace</pre>"
      ],
      "text/plain": [
       "<IPython.core.display.HTML object>"
      ]
     },
     "metadata": {},
     "output_type": "display_data"
    },
    {
     "data": {
      "text/html": [
       "<pre style=\"margin: 0.1em;\n",
       "padding-left: 0.25em;\n",
       "border-left-style: solid;\n",
       "font-family: var(--jp-code-font-family);\n",
       "font-size: var(--jp-code-font-size);\n",
       "line-height: var(--jp-code-line-height);\n",
       "\"><span style=\"color: var(--jp-warn-color2)\">pycodestyle</span> <span style=\"color: var(--jp-info-color0)\">INFO</span>: 4:80: E501 line too long (104 &gt; 79 characters)</pre>"
      ],
      "text/plain": [
       "<IPython.core.display.HTML object>"
      ]
     },
     "metadata": {},
     "output_type": "display_data"
    },
    {
     "data": {
      "text/html": [
       "<pre style=\"margin: 0.1em;\n",
       "padding-left: 0.25em;\n",
       "border-left-style: solid;\n",
       "font-family: var(--jp-code-font-family);\n",
       "font-size: var(--jp-code-font-size);\n",
       "line-height: var(--jp-code-line-height);\n",
       "\"><span style=\"color: var(--jp-warn-color2)\">pycodestyle</span> <span style=\"color: var(--jp-info-color0)\">INFO</span>: 7:1: E265 block comment should start with &#x27;# &#x27;</pre>"
      ],
      "text/plain": [
       "<IPython.core.display.HTML object>"
      ]
     },
     "metadata": {},
     "output_type": "display_data"
    },
    {
     "data": {
      "text/html": [
       "<pre style=\"margin: 0.1em;\n",
       "padding-left: 0.25em;\n",
       "border-left-style: solid;\n",
       "font-family: var(--jp-code-font-family);\n",
       "font-size: var(--jp-code-font-size);\n",
       "line-height: var(--jp-code-line-height);\n",
       "\"><span style=\"color: var(--jp-warn-color2)\">pycodestyle</span> <span style=\"color: var(--jp-info-color0)\">INFO</span>: 7:80: E501 line too long (135 &gt; 79 characters)</pre>"
      ],
      "text/plain": [
       "<IPython.core.display.HTML object>"
      ]
     },
     "metadata": {},
     "output_type": "display_data"
    },
    {
     "data": {
      "text/html": [
       "<pre style=\"margin: 0.1em;\n",
       "padding-left: 0.25em;\n",
       "border-left-style: solid;\n",
       "font-family: var(--jp-code-font-family);\n",
       "font-size: var(--jp-code-font-size);\n",
       "line-height: var(--jp-code-line-height);\n",
       "\"><span style=\"color: var(--jp-warn-color2)\">pycodestyle</span> <span style=\"color: var(--jp-info-color0)\">INFO</span>: 8:80: E501 line too long (137 &gt; 79 characters)</pre>"
      ],
      "text/plain": [
       "<IPython.core.display.HTML object>"
      ]
     },
     "metadata": {},
     "output_type": "display_data"
    },
    {
     "data": {
      "text/html": [
       "<pre style=\"margin: 0.1em;\n",
       "padding-left: 0.25em;\n",
       "border-left-style: solid;\n",
       "font-family: var(--jp-code-font-family);\n",
       "font-size: var(--jp-code-font-size);\n",
       "line-height: var(--jp-code-line-height);\n",
       "\"><span style=\"color: var(--jp-warn-color2)\">pycodestyle</span> <span style=\"color: var(--jp-info-color0)\">INFO</span>: 11:80: E501 line too long (128 &gt; 79 characters)</pre>"
      ],
      "text/plain": [
       "<IPython.core.display.HTML object>"
      ]
     },
     "metadata": {},
     "output_type": "display_data"
    },
    {
     "data": {
      "text/html": [
       "<pre style=\"margin: 0.1em;\n",
       "padding-left: 0.25em;\n",
       "border-left-style: solid;\n",
       "font-family: var(--jp-code-font-family);\n",
       "font-size: var(--jp-code-font-size);\n",
       "line-height: var(--jp-code-line-height);\n",
       "\"><span style=\"color: var(--jp-warn-color2)\">pycodestyle</span> <span style=\"color: var(--jp-info-color0)\">INFO</span>: 15:1: E265 block comment should start with &#x27;# &#x27;</pre>"
      ],
      "text/plain": [
       "<IPython.core.display.HTML object>"
      ]
     },
     "metadata": {},
     "output_type": "display_data"
    },
    {
     "data": {
      "text/html": [
       "<pre style=\"margin: 0.1em;\n",
       "padding-left: 0.25em;\n",
       "border-left-style: solid;\n",
       "font-family: var(--jp-code-font-family);\n",
       "font-size: var(--jp-code-font-size);\n",
       "line-height: var(--jp-code-line-height);\n",
       "\"><span style=\"color: var(--jp-warn-color2)\">pycodestyle</span> <span style=\"color: var(--jp-info-color0)\">INFO</span>: 16:1: E265 block comment should start with &#x27;# &#x27;</pre>"
      ],
      "text/plain": [
       "<IPython.core.display.HTML object>"
      ]
     },
     "metadata": {},
     "output_type": "display_data"
    },
    {
     "data": {
      "text/html": [
       "<pre style=\"margin: 0.1em;\n",
       "padding-left: 0.25em;\n",
       "border-left-style: solid;\n",
       "font-family: var(--jp-code-font-family);\n",
       "font-size: var(--jp-code-font-size);\n",
       "line-height: var(--jp-code-line-height);\n",
       "\"><span style=\"color: var(--jp-warn-color2)\">pycodestyle</span> <span style=\"color: var(--jp-info-color0)\">INFO</span>: 16:14: W291 trailing whitespace</pre>"
      ],
      "text/plain": [
       "<IPython.core.display.HTML object>"
      ]
     },
     "metadata": {},
     "output_type": "display_data"
    }
   ],
   "source": [
    "#%%time\n",
    "\n",
    "# Use TAP service to search for very blended sources. This is very slow (run time approx 15 min). \n",
    "# TAP is optimized to search on RA / Dec, not other keywords, so ideally one should not use this method.\n",
    "# But, we include it for demonstration purposes. We show a better method below.\n",
    "\n",
    "#query = \"SELECT TOP 10 objectId, x, y, coord_ra, coord_dec, detect_isPrimary, deblend_nChild, deblend_skipped, detect_fromBlend, \" + \\\n",
    "#        \"detect_isDeblendedModelSource, detect_isDeblendedSource, detect_isIsolated, parentObjectId, footprintArea, z_blendedness, \" + \\\n",
    "#        \"tract, patch \" + \\\n",
    "#        \"FROM dp02_dc2_catalogs.Object \" + \\\n",
    "#        \"WHERE deblend_nChild > 12 AND  detect_fromBlend = 1 \" #This source is deblended from a parent with more than one child\n",
    "\n",
    "# Convert the results to an Astropy table, then\n",
    "#   take a look at the table.\n",
    "#tab_maxblend = results_maxblend.to_table()\n",
    "#tab_maxblend \n"
   ]
  },
  {
   "cell_type": "markdown",
   "id": "4510ebd7-0c2e-456a-81d9-49fc28db381b",
   "metadata": {},
   "source": [
    "Instead, if you can identify a region of the sky first and then perform the search, retrieving examples of heavily blended sources with the query is much faster. Here we have already identified an RA/Dec region with a few examples of heavily blended sources (using the long search above) as input to demonstrate the deblended data products produced by the pipeline in the rest of the tutorial:"
   ]
  },
  {
   "cell_type": "code",
   "execution_count": 6,
   "id": "e6430d99-187f-48fa-a9f1-af068e52c6d3",
   "metadata": {
    "execution": {
     "iopub.execute_input": "2023-02-24T22:07:54.410440Z",
     "iopub.status.busy": "2023-02-24T22:07:54.410265Z",
     "iopub.status.idle": "2023-02-24T22:07:54.747747Z",
     "shell.execute_reply": "2023-02-24T22:07:54.747241Z",
     "shell.execute_reply.started": "2023-02-24T22:07:54.410425Z"
    }
   },
   "outputs": [
    {
     "data": {
      "text/html": [
       "<div><i>Table length=57</i>\n",
       "<table id=\"table140701254581600\" class=\"table-striped table-bordered table-condensed\">\n",
       "<thead><tr><th>ObjectId</th><th>x</th><th>y</th><th>coord_ra</th><th>coord_dec</th><th>detect_isPrimary</th><th>deblend_nChild</th><th>deblend_skipped</th><th>detect_fromBlend</th><th>detect_isDeblendedModelSource</th><th>detect_isDeblendedSource</th><th>detect_isIsolated</th><th>parentObjectId</th><th>footprintArea</th><th>z_blendedness</th><th>tract</th><th>patch</th></tr></thead>\n",
       "<thead><tr><th></th><th>pix</th><th>pix</th><th>deg</th><th>deg</th><th></th><th></th><th></th><th></th><th></th><th></th><th></th><th></th><th>pix</th><th></th><th></th><th></th></tr></thead>\n",
       "<thead><tr><th>int64</th><th>float64</th><th>float64</th><th>float64</th><th>float64</th><th>bool</th><th>int32</th><th>bool</th><th>bool</th><th>bool</th><th>bool</th><th>bool</th><th>int64</th><th>int32</th><th>float64</th><th>int64</th><th>int64</th></tr></thead>\n",
       "<tr><td>1248675773246610542</td><td>23484.4969535</td><td>3210.1552014</td><td>50.1089143</td><td>-44.4812763</td><td>False</td><td>13</td><td>False</td><td>False</td><td>False</td><td>False</td><td>False</td><td>0</td><td>3435</td><td>0.0</td><td>2897</td><td>5</td></tr>\n",
       "<tr><td>1248675773246610547</td><td>23563.5752424</td><td>3231.8072968</td><td>50.1027731</td><td>-44.4800338</td><td>False</td><td>2</td><td>False</td><td>False</td><td>False</td><td>False</td><td>False</td><td>0</td><td>527</td><td>0.0</td><td>2897</td><td>5</td></tr>\n",
       "<tr><td>1248675773246610553</td><td>23524.8643399</td><td>3227.0075054</td><td>50.1057834</td><td>-44.4803199</td><td>True</td><td>1</td><td>False</td><td>False</td><td>False</td><td>True</td><td>True</td><td>0</td><td>58</td><td>--</td><td>2897</td><td>5</td></tr>\n",
       "<tr><td>1248675773246610464</td><td>23416.9067072</td><td>3207.6626404</td><td>50.1141746</td><td>-44.4814485</td><td>False</td><td>4</td><td>False</td><td>False</td><td>False</td><td>False</td><td>False</td><td>0</td><td>442</td><td>--</td><td>2897</td><td>5</td></tr>\n",
       "<tr><td>1248675773246610465</td><td>23556.0969913</td><td>3181.0920143</td><td>50.1033197</td><td>-44.4828545</td><td>False</td><td>2</td><td>False</td><td>False</td><td>False</td><td>False</td><td>False</td><td>0</td><td>419</td><td>--</td><td>2897</td><td>5</td></tr>\n",
       "<tr><td>1248675773246610670</td><td>23512.1110001</td><td>3294.8510731</td><td>50.1068235</td><td>-44.476558</td><td>False</td><td>12</td><td>False</td><td>False</td><td>False</td><td>False</td><td>False</td><td>0</td><td>4757</td><td>0.0</td><td>2897</td><td>5</td></tr>\n",
       "<tr><td>1248675773246610610</td><td>23442.6545984</td><td>3248.4650418</td><td>50.1121983</td><td>-44.4791693</td><td>True</td><td>1</td><td>False</td><td>False</td><td>False</td><td>True</td><td>True</td><td>0</td><td>64</td><td>--</td><td>2897</td><td>5</td></tr>\n",
       "<tr><td>1248675773246610640</td><td>23553.8117286</td><td>3263.4481399</td><td>50.1035553</td><td>-44.4782812</td><td>True</td><td>1</td><td>False</td><td>False</td><td>False</td><td>True</td><td>True</td><td>0</td><td>102</td><td>0.0033508</td><td>2897</td><td>5</td></tr>\n",
       "<tr><td>1248675773246610370</td><td>23556.6803457</td><td>3156.7998564</td><td>50.1032573</td><td>-44.4842035</td><td>False</td><td>2</td><td>False</td><td>False</td><td>False</td><td>False</td><td>False</td><td>0</td><td>401</td><td>0.0</td><td>2897</td><td>5</td></tr>\n",
       "<tr><td>...</td><td>...</td><td>...</td><td>...</td><td>...</td><td>...</td><td>...</td><td>...</td><td>...</td><td>...</td><td>...</td><td>...</td><td>...</td><td>...</td><td>...</td><td>...</td><td>...</td></tr>\n",
       "<tr><td>1248675773246615870</td><td>23511.1530979</td><td>3247.0639484</td><td>50.1068648</td><td>-44.4792128</td><td>True</td><td>1</td><td>False</td><td>False</td><td>False</td><td>True</td><td>True</td><td>0</td><td>152</td><td>--</td><td>2897</td><td>5</td></tr>\n",
       "<tr><td>1248675773246615850</td><td>23483.5428225</td><td>3181.5237969</td><td>50.1089686</td><td>-44.4828671</td><td>True</td><td>1</td><td>False</td><td>False</td><td>False</td><td>True</td><td>True</td><td>0</td><td>81</td><td>--</td><td>2897</td><td>5</td></tr>\n",
       "<tr><td>1248675773246640881</td><td>23552.0152802</td><td>3263.4281146</td><td>50.1036952</td><td>-44.4782833</td><td>False</td><td>0</td><td>False</td><td>False</td><td>True</td><td>False</td><td>True</td><td>1248675773246610640</td><td>156</td><td>0.633262</td><td>2897</td><td>5</td></tr>\n",
       "<tr><td>1248675773246640824</td><td>23442.3396681</td><td>3247.395863</td><td>50.1122221</td><td>-44.4792289</td><td>False</td><td>0</td><td>False</td><td>False</td><td>True</td><td>False</td><td>True</td><td>1248675773246610610</td><td>100</td><td>0.6315091</td><td>2897</td><td>5</td></tr>\n",
       "<tr><td>1248675773246640944</td><td>23518.9851198</td><td>3275.4601887</td><td>50.1062749</td><td>-44.4776316</td><td>True</td><td>0</td><td>False</td><td>True</td><td>True</td><td>True</td><td>False</td><td>1248675773246610670</td><td>6571</td><td>0.0053926</td><td>2897</td><td>5</td></tr>\n",
       "<tr><td>1248675773246640943</td><td>23512.0997379</td><td>3294.8658756</td><td>50.1068244</td><td>-44.4765572</td><td>True</td><td>0</td><td>False</td><td>True</td><td>True</td><td>True</td><td>False</td><td>1248675773246610670</td><td>7713</td><td>0.0016515</td><td>2897</td><td>5</td></tr>\n",
       "<tr><td>1248675773246640954</td><td>23501.4978114</td><td>3280.0917691</td><td>50.1076394</td><td>-44.4773831</td><td>True</td><td>0</td><td>False</td><td>True</td><td>True</td><td>True</td><td>False</td><td>1248675773246610670</td><td>5726</td><td>1.0</td><td>2897</td><td>5</td></tr>\n",
       "<tr><td>1248675773246640950</td><td>23465.4043505</td><td>3275.9008238</td><td>50.1104463</td><td>-44.477634</td><td>True</td><td>0</td><td>False</td><td>True</td><td>True</td><td>True</td><td>False</td><td>1248675773246610670</td><td>3025</td><td>0.2845049</td><td>2897</td><td>5</td></tr>\n",
       "<tr><td>1248675773246640948</td><td>23530.0981916</td><td>3257.652995</td><td>50.1053973</td><td>-44.4786151</td><td>True</td><td>0</td><td>False</td><td>True</td><td>True</td><td>True</td><td>False</td><td>1248675773246610670</td><td>4064</td><td>0.0564175</td><td>2897</td><td>5</td></tr>\n",
       "<tr><td>1248675773246640946</td><td>23489.5605926</td><td>3278.3662732</td><td>50.1085675</td><td>-44.477485</td><td>True</td><td>0</td><td>False</td><td>True</td><td>True</td><td>True</td><td>False</td><td>1248675773246610670</td><td>5344</td><td>-0.0012892</td><td>2897</td><td>5</td></tr>\n",
       "</table></div>"
      ],
      "text/plain": [
       "<Table length=57>\n",
       "      ObjectId            x            y       ... z_blendedness tract patch\n",
       "                         pix          pix      ...                          \n",
       "       int64           float64      float64    ...    float64    int64 int64\n",
       "------------------- ------------- ------------ ... ------------- ----- -----\n",
       "1248675773246610542 23484.4969535 3210.1552014 ...           0.0  2897     5\n",
       "1248675773246610547 23563.5752424 3231.8072968 ...           0.0  2897     5\n",
       "1248675773246610553 23524.8643399 3227.0075054 ...            --  2897     5\n",
       "1248675773246610464 23416.9067072 3207.6626404 ...            --  2897     5\n",
       "1248675773246610465 23556.0969913 3181.0920143 ...            --  2897     5\n",
       "1248675773246610670 23512.1110001 3294.8510731 ...           0.0  2897     5\n",
       "1248675773246610610 23442.6545984 3248.4650418 ...            --  2897     5\n",
       "1248675773246610640 23553.8117286 3263.4481399 ...     0.0033508  2897     5\n",
       "1248675773246610370 23556.6803457 3156.7998564 ...           0.0  2897     5\n",
       "                ...           ...          ... ...           ...   ...   ...\n",
       "1248675773246615870 23511.1530979 3247.0639484 ...            --  2897     5\n",
       "1248675773246615850 23483.5428225 3181.5237969 ...            --  2897     5\n",
       "1248675773246640881 23552.0152802 3263.4281146 ...      0.633262  2897     5\n",
       "1248675773246640824 23442.3396681  3247.395863 ...     0.6315091  2897     5\n",
       "1248675773246640944 23518.9851198 3275.4601887 ...     0.0053926  2897     5\n",
       "1248675773246640943 23512.0997379 3294.8658756 ...     0.0016515  2897     5\n",
       "1248675773246640954 23501.4978114 3280.0917691 ...           1.0  2897     5\n",
       "1248675773246640950 23465.4043505 3275.9008238 ...     0.2845049  2897     5\n",
       "1248675773246640948 23530.0981916  3257.652995 ...     0.0564175  2897     5\n",
       "1248675773246640946 23489.5605926 3278.3662732 ...    -0.0012892  2897     5"
      ]
     },
     "execution_count": 6,
     "metadata": {},
     "output_type": "execute_result"
    },
    {
     "data": {
      "text/html": [
       "<pre style=\"margin: 0.1em;\n",
       "padding-left: 0.25em;\n",
       "border-left-style: solid;\n",
       "font-family: var(--jp-code-font-family);\n",
       "font-size: var(--jp-code-font-size);\n",
       "line-height: var(--jp-code-line-height);\n",
       "\"><span style=\"color: var(--jp-warn-color2)\">pycodestyle</span> <span style=\"color: var(--jp-info-color0)\">INFO</span>: 1:1: E265 block comment should start with &#x27;# &#x27;</pre>"
      ],
      "text/plain": [
       "<IPython.core.display.HTML object>"
      ]
     },
     "metadata": {},
     "output_type": "display_data"
    },
    {
     "data": {
      "text/html": [
       "<pre style=\"margin: 0.1em;\n",
       "padding-left: 0.25em;\n",
       "border-left-style: solid;\n",
       "font-family: var(--jp-code-font-family);\n",
       "font-size: var(--jp-code-font-size);\n",
       "line-height: var(--jp-code-line-height);\n",
       "\"><span style=\"color: var(--jp-warn-color2)\">pycodestyle</span> <span style=\"color: var(--jp-info-color0)\">INFO</span>: 1:80: E501 line too long (101 &gt; 79 characters)</pre>"
      ],
      "text/plain": [
       "<IPython.core.display.HTML object>"
      ]
     },
     "metadata": {},
     "output_type": "display_data"
    },
    {
     "data": {
      "text/html": [
       "<pre style=\"margin: 0.1em;\n",
       "padding-left: 0.25em;\n",
       "border-left-style: solid;\n",
       "font-family: var(--jp-code-font-family);\n",
       "font-size: var(--jp-code-font-size);\n",
       "line-height: var(--jp-code-line-height);\n",
       "\"><span style=\"color: var(--jp-warn-color2)\">pycodestyle</span> <span style=\"color: var(--jp-info-color0)\">INFO</span>: 7:80: E501 line too long (95 &gt; 79 characters)</pre>"
      ],
      "text/plain": [
       "<IPython.core.display.HTML object>"
      ]
     },
     "metadata": {},
     "output_type": "display_data"
    },
    {
     "data": {
      "text/html": [
       "<pre style=\"margin: 0.1em;\n",
       "padding-left: 0.25em;\n",
       "border-left-style: solid;\n",
       "font-family: var(--jp-code-font-family);\n",
       "font-size: var(--jp-code-font-size);\n",
       "line-height: var(--jp-code-line-height);\n",
       "\"><span style=\"color: var(--jp-warn-color2)\">pycodestyle</span> <span style=\"color: var(--jp-info-color0)\">INFO</span>: 8:80: E501 line too long (105 &gt; 79 characters)</pre>"
      ],
      "text/plain": [
       "<IPython.core.display.HTML object>"
      ]
     },
     "metadata": {},
     "output_type": "display_data"
    },
    {
     "data": {
      "text/html": [
       "<pre style=\"margin: 0.1em;\n",
       "padding-left: 0.25em;\n",
       "border-left-style: solid;\n",
       "font-family: var(--jp-code-font-family);\n",
       "font-size: var(--jp-code-font-size);\n",
       "line-height: var(--jp-code-line-height);\n",
       "\"><span style=\"color: var(--jp-warn-color2)\">pycodestyle</span> <span style=\"color: var(--jp-info-color0)\">INFO</span>: 12:73: W291 trailing whitespace</pre>"
      ],
      "text/plain": [
       "<IPython.core.display.HTML object>"
      ]
     },
     "metadata": {},
     "output_type": "display_data"
    },
    {
     "data": {
      "text/html": [
       "<pre style=\"margin: 0.1em;\n",
       "padding-left: 0.25em;\n",
       "border-left-style: solid;\n",
       "font-family: var(--jp-code-font-family);\n",
       "font-size: var(--jp-code-font-size);\n",
       "line-height: var(--jp-code-line-height);\n",
       "\"><span style=\"color: var(--jp-warn-color2)\">pycodestyle</span> <span style=\"color: var(--jp-info-color0)\">INFO</span>: 13:1: W293 blank line contains whitespace</pre>"
      ],
      "text/plain": [
       "<IPython.core.display.HTML object>"
      ]
     },
     "metadata": {},
     "output_type": "display_data"
    }
   ],
   "source": [
    "#This ra/dec was identified by running the query above to search for blends of more than 12 children.\n",
    "\n",
    "ra = 50.1089143\n",
    "dec = -44.4812763\n",
    "\n",
    "query = \"SELECT ObjectId, x, y, coord_ra, coord_dec, detect_isPrimary, \" + \\\n",
    "        \"deblend_nChild, deblend_skipped, detect_fromBlend, detect_isDeblendedModelSource, \" +\\\n",
    "        \"detect_isDeblendedSource, detect_isIsolated, parentObjectId, footprintArea, z_blendedness, \" + \\\n",
    "        \"tract, patch \" + \\\n",
    "        \"FROM dp02_dc2_catalogs.Object \" + \\\n",
    "        \"WHERE CONTAINS(POINT('ICRS', coord_ra, coord_dec ), \" + \\\n",
    "        \"CIRCLE('ICRS', \" + str(ra) + \", \" + str(dec) + \", 0.005)) = 1 \" \n",
    "        \n",
    "results = service.search(query, maxrec=1000)\n",
    "table = results.to_table()\n",
    "\n",
    "# print the output from this query, and a selection of deblender keywords\n",
    "table\n"
   ]
  },
  {
   "cell_type": "markdown",
   "id": "4011704d-0c9f-4f7b-b1c8-ccd4898b2c3d",
   "metadata": {},
   "source": [
    "### 2.2 Displaying a heavily blended source in the LSST data\n",
    "\n",
    "Lets take the first entry above, which is a \"parent\" source (it has **detect_isPrimary=False** indicating it is not a primary source, i.e. is the blended parent) that is composed of 13 blended children (i.e. **deblend_nChild = 13**). Perhaps counterintuitively, the parent is identified by **detect_isPrimary = False**, which is a keyword that should be used for identifying unique detections in the objectTable (i.e. **detect_isPrimary = True** are the deblended objects that are also detected in the center of their tracts, i.e. do not also appear in another overlapping image). When selecting samples it is important to ensure **detect_isPrimary = True** to prevent double counting of objects. "
   ]
  },
  {
   "cell_type": "code",
   "execution_count": 7,
   "id": "c0353e6b-7217-488f-b0a4-1f5ad408d4b9",
   "metadata": {
    "execution": {
     "iopub.execute_input": "2023-02-24T22:07:54.748726Z",
     "iopub.status.busy": "2023-02-24T22:07:54.748491Z",
     "iopub.status.idle": "2023-02-24T22:07:54.823860Z",
     "shell.execute_reply": "2023-02-24T22:07:54.823336Z",
     "shell.execute_reply.started": "2023-02-24T22:07:54.748711Z"
    }
   },
   "outputs": [
    {
     "data": {
      "text/html": [
       "<pre style=\"margin: 0.1em;\n",
       "padding-left: 0.25em;\n",
       "border-left-style: solid;\n",
       "font-family: var(--jp-code-font-family);\n",
       "font-size: var(--jp-code-font-size);\n",
       "line-height: var(--jp-code-line-height);\n",
       "\"><span style=\"color: var(--jp-warn-color2)\">pycodestyle</span> <span style=\"color: var(--jp-info-color0)\">INFO</span>: 1:80: E501 line too long (94 &gt; 79 characters)</pre>"
      ],
      "text/plain": [
       "<IPython.core.display.HTML object>"
      ]
     },
     "metadata": {},
     "output_type": "display_data"
    },
    {
     "data": {
      "text/html": [
       "<pre style=\"margin: 0.1em;\n",
       "padding-left: 0.25em;\n",
       "border-left-style: solid;\n",
       "font-family: var(--jp-code-font-family);\n",
       "font-size: var(--jp-code-font-size);\n",
       "line-height: var(--jp-code-line-height);\n",
       "\"><span style=\"color: var(--jp-warn-color2)\">pycodestyle</span> <span style=\"color: var(--jp-info-color0)\">INFO</span>: 8:80: E501 line too long (81 &gt; 79 characters)</pre>"
      ],
      "text/plain": [
       "<IPython.core.display.HTML object>"
      ]
     },
     "metadata": {},
     "output_type": "display_data"
    },
    {
     "data": {
      "text/html": [
       "<pre style=\"margin: 0.1em;\n",
       "padding-left: 0.25em;\n",
       "border-left-style: solid;\n",
       "font-family: var(--jp-code-font-family);\n",
       "font-size: var(--jp-code-font-size);\n",
       "line-height: var(--jp-code-line-height);\n",
       "\"><span style=\"color: var(--jp-warn-color2)\">pycodestyle</span> <span style=\"color: var(--jp-info-color0)\">INFO</span>: 10:20: E231 missing whitespace after &#x27;,&#x27;</pre>"
      ],
      "text/plain": [
       "<IPython.core.display.HTML object>"
      ]
     },
     "metadata": {},
     "output_type": "display_data"
    },
    {
     "data": {
      "text/html": [
       "<pre style=\"margin: 0.1em;\n",
       "padding-left: 0.25em;\n",
       "border-left-style: solid;\n",
       "font-family: var(--jp-code-font-family);\n",
       "font-size: var(--jp-code-font-size);\n",
       "line-height: var(--jp-code-line-height);\n",
       "\"><span style=\"color: var(--jp-warn-color2)\">pycodestyle</span> <span style=\"color: var(--jp-info-color0)\">INFO</span>: 10:80: E501 line too long (98 &gt; 79 characters)</pre>"
      ],
      "text/plain": [
       "<IPython.core.display.HTML object>"
      ]
     },
     "metadata": {},
     "output_type": "display_data"
    },
    {
     "name": "stdout",
     "output_type": "stream",
     "text": [
      "identified  13  objects deblended from object with parentObjectId 1248675773246610542\n"
     ]
    }
   ],
   "source": [
    "# set our selected \"parent\" blend of 13 sources to be the first return of the TAP query above.\n",
    "sel_objid = table['ObjectId'][0]\n",
    "x = table['x'][0]\n",
    "y = table['y'][0]\n",
    "tract = table['tract'][0]\n",
    "patch = table['patch'][0]\n",
    "\n",
    "# Isolate the deblended components of the object using the parentObjectId keyword\n",
    "whchild = np.where(table['parentObjectId'] == sel_objid)[0]\n",
    "print(\"identified \",len(whchild), \" objects deblended from object with parentObjectId\", sel_objid)\n",
    "\n"
   ]
  },
  {
   "cell_type": "markdown",
   "id": "555bd9c2-2281-4eaf-b132-5809271b55b6",
   "metadata": {},
   "source": [
    "The above cell demonstrates identifying the blend using the TAP query from Section 2.1, but we can return the same sources and properties using the Butler. We demonstrate the equivalent Butler query below:"
   ]
  },
  {
   "cell_type": "code",
   "execution_count": 8,
   "id": "f06ce5c0-d56f-4879-a5eb-b4cb5508d3cd",
   "metadata": {
    "execution": {
     "iopub.execute_input": "2023-02-24T22:07:54.824911Z",
     "iopub.status.busy": "2023-02-24T22:07:54.824547Z",
     "iopub.status.idle": "2023-02-24T22:07:57.898811Z",
     "shell.execute_reply": "2023-02-24T22:07:57.898316Z",
     "shell.execute_reply.started": "2023-02-24T22:07:54.824894Z"
    }
   },
   "outputs": [
    {
     "name": "stdout",
     "output_type": "stream",
     "text": [
      "Retrieved catalog of 32101 objects.\n",
      "1248675773246610542 1248675773246640703 23484.493982278047 3210.1595244834843\n",
      "1248675773246610542 1248675773246640704 23466.9451451522 3233.6287998058606\n",
      "1248675773246610542 1248675773246640705 23483.320008254163 3246.0487119002632\n",
      "1248675773246610542 1248675773246640706 23512.9343388915 3205.7072499403953\n",
      "1248675773246610542 1248675773246640707 23455.400666064994 3242.1856875225335\n",
      "1248675773246610542 1248675773246640708 23488.07512761676 3231.692096689908\n",
      "1248675773246610542 1248675773246640709 23459.093178291714 3230.9886405112957\n",
      "1248675773246610542 1248675773246640710 23495.101275324098 3184.438564042999\n",
      "1248675773246610542 1248675773246640711 23502.63552370019 3188.5572090849855\n",
      "1248675773246610542 1248675773246640712 23465.71870790558 3197.3916488116315\n",
      "1248675773246610542 1248675773246640713 23478.921981330524 3227.3238198632953\n",
      "1248675773246610542 1248675773246640714 23503.206784555066 3201.591832926169\n",
      "1248675773246610542 1248675773246640715 23463.005462370333 3244.5699979290935\n",
      "FOUND 13 sources blended with Parent ID sel_objid\n",
      "CPU times: user 1.95 s, sys: 3.51 s, total: 5.46 s\n",
      "Wall time: 3.07 s\n"
     ]
    }
   ],
   "source": [
    "%%time\n",
    "# Next, demonstrate how to retrieve the same heavily blended sources using the Butler\n",
    "\n",
    "dataId = {'tract': tract, 'band': 'i', 'patch': patch }\n",
    "\n",
    "obj = butler.get('objectTable',  dataId) #tract=tract, patch=patch)\n",
    "print(f\"Retrieved catalog of {len(obj)} objects.\")\n",
    "\n",
    "obj_parentObjectId = np.asarray(obj.parentObjectId, dtype='int')\n",
    "obj_objectId = np.asarray(obj.index, dtype='int')\n",
    "obj_coord_x = np.asarray(obj.x, dtype='float')\n",
    "obj_coord_y = np.asarray(obj.y, dtype='float')\n",
    "obj_ra = np.asarray(obj.coord_ra, dtype='float') \n",
    "obj_dec = np.asarray(obj.coord_dec, dtype='float')\n",
    "\n",
    "# Pull out all of the sources that are blended with our chosen source as the parent\n",
    "wh = np.where(obj_parentObjectId == sel_objid )[0]\n",
    "for i in wh:\n",
    "    print(obj_parentObjectId[i], obj_objectId[i], obj_coord_x[i], obj_coord_y[i])\n",
    "print('FOUND', len(wh), \"sources blended with Parent ID sel_objid\")\n"
   ]
  },
  {
   "cell_type": "markdown",
   "id": "35f52616-8403-47b2-84ff-729ba755f8f0",
   "metadata": {},
   "source": [
    "\n",
    "## 2.3 Displaying an example of a heavily blended source"
   ]
  },
  {
   "cell_type": "code",
   "execution_count": 9,
   "id": "31118cde-b512-4286-bade-4e1cd3e2df16",
   "metadata": {
    "execution": {
     "iopub.execute_input": "2023-02-24T22:07:57.899682Z",
     "iopub.status.busy": "2023-02-24T22:07:57.899506Z",
     "iopub.status.idle": "2023-02-24T22:08:00.215413Z",
     "shell.execute_reply": "2023-02-24T22:08:00.214930Z",
     "shell.execute_reply.started": "2023-02-24T22:07:57.899667Z"
    }
   },
   "outputs": [
    {
     "name": "stdout",
     "output_type": "stream",
     "text": [
      "bbox =  (minimum=(23384, 3110), maximum=(23584, 3310)) xy =  (23484, 3210) cutoutSize =  (201, 201)\n",
      "0 23512.9343389 3205.7072499\n",
      "1 23483.3200083 3246.0487119\n",
      "2 23466.9451452 3233.6287998\n",
      "3 23484.4939823 3210.1595245\n",
      "4 23463.0054624 3244.5699979\n",
      "5 23503.2067846 3201.5918329\n",
      "6 23478.9219813 3227.3238199\n",
      "7 23465.7187079 3197.3916488\n",
      "8 23502.6355237 3188.5572091\n",
      "9 23495.1012753 3184.438564\n",
      "10 23459.0931783 3230.9886405\n",
      "11 23488.0751276 3231.6920967\n",
      "12 23455.4006661 3242.1856875\n"
     ]
    },
    {
     "data": {
      "image/png": "[encoded data removed]",
      "text/plain": [
       "<Figure size 800x800 with 2 Axes>"
      ]
     },
     "metadata": {},
     "output_type": "display_data"
    },
    {
     "data": {
      "text/html": [
       "<pre style=\"margin: 0.1em;\n",
       "padding-left: 0.25em;\n",
       "border-left-style: solid;\n",
       "font-family: var(--jp-code-font-family);\n",
       "font-size: var(--jp-code-font-size);\n",
       "line-height: var(--jp-code-line-height);\n",
       "\"><span style=\"color: var(--jp-warn-color2)\">pycodestyle</span> <span style=\"color: var(--jp-info-color0)\">INFO</span>: 2:39: E231 missing whitespace after &#x27;,&#x27;</pre>"
      ],
      "text/plain": [
       "<IPython.core.display.HTML object>"
      ]
     },
     "metadata": {},
     "output_type": "display_data"
    },
    {
     "data": {
      "text/html": [
       "<pre style=\"margin: 0.1em;\n",
       "padding-left: 0.25em;\n",
       "border-left-style: solid;\n",
       "font-family: var(--jp-code-font-family);\n",
       "font-size: var(--jp-code-font-size);\n",
       "line-height: var(--jp-code-line-height);\n",
       "\"><span style=\"color: var(--jp-warn-color2)\">pycodestyle</span> <span style=\"color: var(--jp-info-color0)\">INFO</span>: 31:80: E501 line too long (94 &gt; 79 characters)</pre>"
      ],
      "text/plain": [
       "<IPython.core.display.HTML object>"
      ]
     },
     "metadata": {},
     "output_type": "display_data"
    }
   ],
   "source": [
    "# Use the cutout function from tutorial notebook 03:\n",
    "cutout_image = cutout_coadd(butler, ra,dec, band='i', datasetType='deepCoadd',\n",
    "                            cutoutSideLength=201)\n",
    "\n",
    "wcs = cutout_image.getWcs()\n",
    "\n",
    "x0 = float(cutout_image.getX0())\n",
    "y0 = float(cutout_image.getY0())\n",
    "width = cutout_image.getWidth()\n",
    "height = cutout_image.getHeight()\n",
    "\n",
    "xcorners = [x0, x0+width, x0+width, x0]\n",
    "ycorners = [y0, y0, y0+width, y0+width]\n",
    "\n",
    "ra_corners = []\n",
    "dec_corners = []\n",
    "\n",
    "for i in range(len(xcorners)):\n",
    "    radec = wcs.pixelToSky(xcorners[i], ycorners[i])\n",
    "    ra_corners.append(radec.getRa().asDegrees())\n",
    "    dec_corners.append(radec.getDec().asDegrees())\n",
    "\n",
    "\n",
    "fig, ax = plt.subplots()\n",
    "display = afwDisplay.Display(frame=fig)\n",
    "display.scale('asinh', 'zscale')\n",
    "display.mtv(cutout_image.image)\n",
    "\n",
    "with display.Buffering():\n",
    "    for i in range(len(table[whchild])):\n",
    "        display.dot('o', table[whchild][i]['x'], table[whchild][i]['y'], ctype=afwDisplay.RED)\n",
    "        print(i, table[whchild][i]['x'], table[whchild][i]['y'])\n",
    "display.dot('+', x, y, ctype=afwDisplay.BLUE)\n",
    "plt.show()\n",
    "\n"
   ]
  },
  {
   "cell_type": "markdown",
   "id": "086660d6-5013-4186-acaa-d7bd333be923",
   "metadata": {
    "tags": []
   },
   "source": [
    "## 3. Access the deblender data products metadata\n",
    "\n",
    "\n"
   ]
  },
  {
   "cell_type": "markdown",
   "id": "5c594df6-972e-4d14-a535-b7a9039e1eb3",
   "metadata": {},
   "source": [
    "#### What other deblender results are available in the butler?\n",
    "\n",
    "Scarlet (as part of the LSST pipeline) produces the deepCoadd_deblendedFlux data product (among other output catalogs) after using the multiwavelength colors to identify peaks. Here we search for these intermediate-stage data products with the word \"blend\" in the title to see what is accessible via the Butler. We will explore a primary one, **deepCoadd_deblendedFlux** later in Section 3.1."
   ]
  },
  {
   "cell_type": "code",
   "execution_count": 10,
   "id": "95479f24-f225-416a-9aba-7b37e82ab679",
   "metadata": {
    "execution": {
     "iopub.execute_input": "2023-02-24T22:08:00.216271Z",
     "iopub.status.busy": "2023-02-24T22:08:00.216079Z",
     "iopub.status.idle": "2023-02-24T22:08:00.305427Z",
     "shell.execute_reply": "2023-02-24T22:08:00.304848Z",
     "shell.execute_reply.started": "2023-02-24T22:08:00.216256Z"
    }
   },
   "outputs": [
    {
     "data": {
      "text/html": [
       "<pre style=\"margin: 0.1em;\n",
       "padding-left: 0.25em;\n",
       "border-left-style: solid;\n",
       "font-family: var(--jp-code-font-family);\n",
       "font-size: var(--jp-code-font-size);\n",
       "line-height: var(--jp-code-line-height);\n",
       "\"><span style=\"color: var(--jp-warn-color2)\">pycodestyle</span> <span style=\"color: var(--jp-info-color0)\">INFO</span>: 4:1: W293 blank line contains whitespace</pre>"
      ],
      "text/plain": [
       "<IPython.core.display.HTML object>"
      ]
     },
     "metadata": {},
     "output_type": "display_data"
    },
    {
     "name": "stdout",
     "output_type": "stream",
     "text": [
      "DatasetType('deblend_config', {}, Config)\n",
      "DatasetType('deblend_log', {skymap, tract, patch}, ButlerLogRecords)\n",
      "DatasetType('deblend_metadata', {skymap, tract, patch}, PropertySet)\n",
      "DatasetType('deepCoadd_deblendedFlux', {band, skymap, tract, patch}, SourceCatalog)\n",
      "DatasetType('deepCoadd_deblendedFlux_schema', {}, SourceCatalog)\n",
      "DatasetType('deepCoadd_deblendedModel', {band, skymap, tract, patch}, SourceCatalog)\n",
      "DatasetType('deepCoadd_deblendedModel_schema', {}, SourceCatalog)\n",
      "DatasetType('deepCoadd_mcalmax_deblended', {skymap, tract, patch}, SourceCatalog)\n",
      "DatasetType('deepCoadd_mcalmax_deblended_schema', {}, SourceCatalog)\n",
      "DatasetType('deepCoadd_ngmix_deblended', {skymap, tract, patch}, SourceCatalog)\n",
      "DatasetType('deepCoadd_ngmix_deblended_schema', {}, SourceCatalog)\n"
     ]
    }
   ],
   "source": [
    "registry = butler.registry\n",
    "for dt in sorted(registry.queryDatasetTypes('*blend*')):\n",
    "    print(dt)\n",
    "    "
   ]
  },
  {
   "cell_type": "markdown",
   "id": "a3132683-9ed4-459a-9e50-19641e94d5d3",
   "metadata": {},
   "source": [
    "### 3.1 What information is stored in the butler by the deblending pipeline? \n",
    "\n",
    "The various deblender tasks (source detection across filters for a merged set of flux peaks and forced photometry on those peaks, etc) will produce a number of tables that are accessible via the butler. Let's look at contents of a few of them:\n",
    "\n",
    "**deepCoadd_det:** catalog of detections in each filter that are merged to create list of multi-wavelength peaks across all filters. Only used as input for next stage of deblender.\n",
    "\n",
    "**deepCoadd_mergedet:** consistent table of sources across filters\n",
    "\n",
    "**deepCoadd_deblendedFlux:** using the list of peaks in all of the filters this table contains the deblended flux\n",
    "\n",
    "**deepCoadd_meas:** Using the \"best\" position for each flux peak (using information available from all filters) this table contains the forced photometry (i.e. at the position of the peak using the \"best\" filter, referred to as the \"reference filter\")\n",
    "\n",
    "**deepCoadd_ref:** Like the above but identifies the reference filter used to determine the best position (CHECK??)\n",
    "\n",
    "**deepCoadd_forced_src:** contains the forced photometry in each band of the best multi-wavelength determined position of each deblended peak"
   ]
  },
  {
   "cell_type": "code",
   "execution_count": 11,
   "id": "4e8af3d5-a88f-49cc-97f6-5b52feba2769",
   "metadata": {
    "execution": {
     "iopub.execute_input": "2023-02-24T22:08:00.306317Z",
     "iopub.status.busy": "2023-02-24T22:08:00.306141Z",
     "iopub.status.idle": "2023-02-24T22:08:03.311276Z",
     "shell.execute_reply": "2023-02-24T22:08:03.310774Z",
     "shell.execute_reply.started": "2023-02-24T22:08:00.306303Z"
    }
   },
   "outputs": [
    {
     "name": "stdout",
     "output_type": "stream",
     "text": [
      "id\n",
      "coord_ra\n",
      "coord_dec\n",
      "parent\n",
      "merge_footprint_i\n",
      "merge_footprint_r\n",
      "merge_footprint_z\n",
      "merge_footprint_y\n",
      "merge_footprint_g\n",
      "merge_footprint_u\n",
      "merge_footprint_sky\n",
      "merge_peak_i\n",
      "merge_peak_r\n",
      "merge_peak_z\n",
      "merge_peak_y\n",
      "merge_peak_g\n",
      "merge_peak_u\n",
      "merge_peak_sky\n",
      "deblend_runtime\n",
      "deblend_iterations\n",
      "deblend_nChild\n",
      "deblend_deblendedAsPsf\n",
      "deblend_tooManyPeaks\n",
      "deblend_parentTooBig\n",
      "deblend_masked\n",
      "deblend_sedConvergenceFailed\n",
      "deblend_morphConvergenceFailed\n",
      "deblend_blendConvergenceFailedFlag\n",
      "deblend_edgePixels\n",
      "deblend_failed\n",
      "deblend_error\n",
      "deblend_skipped\n",
      "deblend_peak_center_x\n",
      "deblend_peak_center_y\n",
      "deblend_peakId\n",
      "deblend_peak_instFlux\n",
      "deblend_modelType\n",
      "deblend_nPeaks\n",
      "deblend_parentNPeaks\n",
      "deblend_parentNChild\n",
      "deblend_scarletFlux\n",
      "deblend_logL\n",
      "deblend_spectrumInitFlag\n",
      "CPU times: user 2.36 s, sys: 1.62 s, total: 3.98 s\n",
      "Wall time: 3 s\n"
     ]
    }
   ],
   "source": [
    "%%time\n",
    "# Now, actually access the data available in this SourceCatalog and store as astropy table\n",
    "dataset = 'deepCoadd_deblendedFlux_schema'\n",
    "\n",
    "#dataset = 'deepCoadd_deblendedModel_schema' # this isn't avail for this dataID for some reason?\n",
    "dbFlux_schema = butler.get(dataset, dataId=dataId)\n",
    "for colname in dbFlux_schema.asAstropy().colnames:\n",
    "    print(colname)\n",
    "    \n",
    "dbFlux = butler.get('deepCoadd_deblendedFlux', dataId=dataId)\n",
    "#dbFlux = butler.get('deepCoadd_meas', dataId=dataId)\n",
    "dbFlux_table = dbFlux.asAstropy()"
   ]
  },
  {
   "cell_type": "code",
   "execution_count": 12,
   "id": "7e9bd04c-4610-4520-a0cd-760b3aa02403",
   "metadata": {
    "execution": {
     "iopub.execute_input": "2023-02-24T22:08:03.312117Z",
     "iopub.status.busy": "2023-02-24T22:08:03.311944Z",
     "iopub.status.idle": "2023-02-24T22:08:03.406634Z",
     "shell.execute_reply": "2023-02-24T22:08:03.406161Z",
     "shell.execute_reply.started": "2023-02-24T22:08:03.312102Z"
    },
    "tags": []
   },
   "outputs": [
    {
     "name": "stdout",
     "output_type": "stream",
     "text": [
      "32101\n"
     ]
    },
    {
     "data": {
      "text/html": [
       "<div><i>Table length=13</i>\n",
       "<table id=\"table140701261069088\" class=\"table-striped table-bordered table-condensed\">\n",
       "<thead><tr><th>id</th><th>coord_ra</th><th>coord_dec</th><th>parent</th><th>merge_footprint_i</th><th>merge_footprint_r</th><th>merge_footprint_z</th><th>merge_footprint_y</th><th>merge_footprint_g</th><th>merge_footprint_u</th><th>merge_footprint_sky</th><th>merge_peak_i</th><th>merge_peak_r</th><th>merge_peak_z</th><th>merge_peak_y</th><th>merge_peak_g</th><th>merge_peak_u</th><th>merge_peak_sky</th><th>deblend_runtime</th><th>deblend_iterations</th><th>deblend_nChild</th><th>deblend_deblendedAsPsf</th><th>deblend_tooManyPeaks</th><th>deblend_parentTooBig</th><th>deblend_masked</th><th>deblend_sedConvergenceFailed</th><th>deblend_morphConvergenceFailed</th><th>deblend_blendConvergenceFailedFlag</th><th>deblend_edgePixels</th><th>deblend_failed</th><th>deblend_error</th><th>deblend_skipped</th><th>deblend_peak_center_x</th><th>deblend_peak_center_y</th><th>deblend_peakId</th><th>deblend_peak_instFlux</th><th>deblend_modelType</th><th>deblend_nPeaks</th><th>deblend_parentNPeaks</th><th>deblend_parentNChild</th><th>deblend_scarletFlux</th><th>deblend_logL</th><th>deblend_spectrumInitFlag</th></tr></thead>\n",
       "<thead><tr><th></th><th>rad</th><th>rad</th><th></th><th></th><th></th><th></th><th></th><th></th><th></th><th></th><th></th><th></th><th></th><th></th><th></th><th></th><th></th><th></th><th></th><th></th><th></th><th></th><th></th><th></th><th></th><th></th><th></th><th></th><th></th><th></th><th></th><th>pix</th><th>pix</th><th></th><th>ct</th><th></th><th></th><th></th><th></th><th></th><th></th><th></th></tr></thead>\n",
       "<thead><tr><th>int64</th><th>float64</th><th>float64</th><th>int64</th><th>bool</th><th>bool</th><th>bool</th><th>bool</th><th>bool</th><th>bool</th><th>bool</th><th>bool</th><th>bool</th><th>bool</th><th>bool</th><th>bool</th><th>bool</th><th>bool</th><th>float32</th><th>int32</th><th>int32</th><th>bool</th><th>bool</th><th>bool</th><th>bool</th><th>bool</th><th>bool</th><th>bool</th><th>bool</th><th>bool</th><th>str25</th><th>bool</th><th>int32</th><th>int32</th><th>int32</th><th>float64</th><th>str25</th><th>int32</th><th>int32</th><th>int32</th><th>float32</th><th>float32</th><th>bool</th></tr></thead>\n",
       "<tr><td>1248675773246640703</td><td>nan</td><td>nan</td><td>1248675773246610542</td><td>True</td><td>True</td><td>True</td><td>True</td><td>True</td><td>True</td><td>False</td><td>True</td><td>True</td><td>True</td><td>True</td><td>True</td><td>True</td><td>False</td><td>0.0</td><td>0</td><td>0</td><td>False</td><td>False</td><td>False</td><td>False</td><td>False</td><td>False</td><td>True</td><td>False</td><td>False</td><td></td><td>False</td><td>23485</td><td>3210</td><td>47292</td><td>5.39021635055542</td><td>MultiExtendedSource</td><td>1</td><td>13</td><td>13</td><td>490.87234</td><td>nan</td><td>True</td></tr>\n",
       "<tr><td>1248675773246640704</td><td>nan</td><td>nan</td><td>1248675773246610542</td><td>True</td><td>True</td><td>True</td><td>True</td><td>True</td><td>True</td><td>False</td><td>True</td><td>True</td><td>True</td><td>True</td><td>True</td><td>False</td><td>False</td><td>0.0</td><td>0</td><td>0</td><td>False</td><td>False</td><td>False</td><td>False</td><td>False</td><td>False</td><td>True</td><td>False</td><td>False</td><td></td><td>False</td><td>23467</td><td>3234</td><td>47294</td><td>2.3927512168884277</td><td>MultiExtendedSource</td><td>1</td><td>13</td><td>13</td><td>106.880486</td><td>nan</td><td>True</td></tr>\n",
       "<tr><td>1248675773246640705</td><td>nan</td><td>nan</td><td>1248675773246610542</td><td>True</td><td>True</td><td>True</td><td>True</td><td>True</td><td>True</td><td>False</td><td>True</td><td>True</td><td>True</td><td>True</td><td>True</td><td>True</td><td>False</td><td>0.0</td><td>0</td><td>0</td><td>False</td><td>False</td><td>False</td><td>False</td><td>False</td><td>False</td><td>True</td><td>False</td><td>False</td><td></td><td>False</td><td>23483</td><td>3246</td><td>41242</td><td>0.33462783694267273</td><td>CompactExtendedSource</td><td>1</td><td>13</td><td>13</td><td>12.085948</td><td>nan</td><td>True</td></tr>\n",
       "<tr><td>1248675773246640706</td><td>nan</td><td>nan</td><td>1248675773246610542</td><td>True</td><td>True</td><td>True</td><td>True</td><td>True</td><td>True</td><td>False</td><td>True</td><td>True</td><td>True</td><td>False</td><td>True</td><td>False</td><td>False</td><td>0.0</td><td>0</td><td>0</td><td>False</td><td>False</td><td>False</td><td>False</td><td>False</td><td>False</td><td>True</td><td>False</td><td>False</td><td></td><td>False</td><td>23513</td><td>3206</td><td>47291</td><td>0.3295254409313202</td><td>CompactExtendedSource</td><td>1</td><td>13</td><td>13</td><td>12.935391</td><td>nan</td><td>True</td></tr>\n",
       "<tr><td>1248675773246640707</td><td>nan</td><td>nan</td><td>1248675773246610542</td><td>True</td><td>True</td><td>True</td><td>True</td><td>True</td><td>True</td><td>False</td><td>True</td><td>True</td><td>True</td><td>False</td><td>False</td><td>False</td><td>False</td><td>0.0</td><td>0</td><td>0</td><td>False</td><td>False</td><td>False</td><td>False</td><td>False</td><td>False</td><td>True</td><td>False</td><td>False</td><td></td><td>False</td><td>23455</td><td>3242</td><td>47295</td><td>0.26085060834884644</td><td>CompactExtendedSource</td><td>1</td><td>13</td><td>13</td><td>5.9582796</td><td>nan</td><td>True</td></tr>\n",
       "<tr><td>1248675773246640708</td><td>nan</td><td>nan</td><td>1248675773246610542</td><td>True</td><td>True</td><td>True</td><td>True</td><td>True</td><td>True</td><td>False</td><td>True</td><td>True</td><td>True</td><td>False</td><td>True</td><td>False</td><td>False</td><td>0.0</td><td>0</td><td>0</td><td>False</td><td>False</td><td>False</td><td>False</td><td>False</td><td>False</td><td>True</td><td>False</td><td>False</td><td></td><td>False</td><td>23488</td><td>3231</td><td>47293</td><td>0.24051915109157562</td><td>CompactExtendedSource</td><td>1</td><td>13</td><td>13</td><td>10.048364</td><td>nan</td><td>True</td></tr>\n",
       "<tr><td>1248675773246640709</td><td>nan</td><td>nan</td><td>1248675773246610542</td><td>True</td><td>True</td><td>True</td><td>True</td><td>True</td><td>True</td><td>False</td><td>False</td><td>False</td><td>False</td><td>False</td><td>True</td><td>False</td><td>False</td><td>0.0</td><td>0</td><td>0</td><td>False</td><td>False</td><td>False</td><td>False</td><td>False</td><td>False</td><td>True</td><td>False</td><td>False</td><td></td><td>False</td><td>23459</td><td>3231</td><td>50403</td><td>0.3871551752090454</td><td>CompactExtendedSource</td><td>1</td><td>13</td><td>13</td><td>22.802235</td><td>nan</td><td>True</td></tr>\n",
       "<tr><td>1248675773246640710</td><td>nan</td><td>nan</td><td>1248675773246610542</td><td>True</td><td>True</td><td>True</td><td>True</td><td>True</td><td>True</td><td>False</td><td>True</td><td>False</td><td>False</td><td>False</td><td>False</td><td>False</td><td>False</td><td>0.0</td><td>0</td><td>0</td><td>False</td><td>False</td><td>False</td><td>False</td><td>False</td><td>False</td><td>True</td><td>False</td><td>False</td><td></td><td>False</td><td>23495</td><td>3185</td><td>40993</td><td>0.1430944949388504</td><td>CompactExtendedSource</td><td>1</td><td>13</td><td>13</td><td>3.7953627</td><td>nan</td><td>True</td></tr>\n",
       "<tr><td>1248675773246640711</td><td>nan</td><td>nan</td><td>1248675773246610542</td><td>True</td><td>True</td><td>True</td><td>True</td><td>True</td><td>True</td><td>False</td><td>True</td><td>False</td><td>False</td><td>False</td><td>False</td><td>False</td><td>False</td><td>0.0</td><td>0</td><td>0</td><td>False</td><td>False</td><td>False</td><td>False</td><td>False</td><td>False</td><td>True</td><td>False</td><td>False</td><td></td><td>False</td><td>23502</td><td>3188</td><td>41007</td><td>0.11195013672113419</td><td>CompactExtendedSource</td><td>1</td><td>13</td><td>13</td><td>2.7816982</td><td>nan</td><td>True</td></tr>\n",
       "<tr><td>1248675773246640712</td><td>nan</td><td>nan</td><td>1248675773246610542</td><td>True</td><td>True</td><td>True</td><td>True</td><td>True</td><td>True</td><td>False</td><td>False</td><td>True</td><td>False</td><td>False</td><td>False</td><td>False</td><td>False</td><td>0.0</td><td>0</td><td>0</td><td>False</td><td>False</td><td>False</td><td>False</td><td>False</td><td>False</td><td>True</td><td>False</td><td>False</td><td></td><td>False</td><td>23466</td><td>3198</td><td>52379</td><td>0.02966391295194626</td><td>CompactExtendedSource</td><td>1</td><td>13</td><td>13</td><td>1.5007979</td><td>nan</td><td>True</td></tr>\n",
       "<tr><td>1248675773246640713</td><td>nan</td><td>nan</td><td>1248675773246610542</td><td>True</td><td>True</td><td>True</td><td>True</td><td>True</td><td>True</td><td>False</td><td>False</td><td>True</td><td>False</td><td>False</td><td>False</td><td>False</td><td>False</td><td>0.0</td><td>0</td><td>0</td><td>False</td><td>False</td><td>False</td><td>False</td><td>False</td><td>False</td><td>True</td><td>False</td><td>False</td><td></td><td>False</td><td>23479</td><td>3227</td><td>52382</td><td>1.6886492347454422e-21</td><td>CompactExtendedSource</td><td>1</td><td>13</td><td>13</td><td>4.1422963e-20</td><td>nan</td><td>True</td></tr>\n",
       "<tr><td>1248675773246640714</td><td>nan</td><td>nan</td><td>1248675773246610542</td><td>True</td><td>True</td><td>True</td><td>True</td><td>True</td><td>True</td><td>False</td><td>False</td><td>True</td><td>False</td><td>False</td><td>False</td><td>False</td><td>False</td><td>0.0</td><td>0</td><td>0</td><td>False</td><td>False</td><td>False</td><td>False</td><td>False</td><td>False</td><td>True</td><td>False</td><td>False</td><td></td><td>False</td><td>23503</td><td>3202</td><td>52380</td><td>0.08955945819616318</td><td>CompactExtendedSource</td><td>1</td><td>13</td><td>13</td><td>2.5225735</td><td>nan</td><td>True</td></tr>\n",
       "<tr><td>1248675773246640715</td><td>nan</td><td>nan</td><td>1248675773246610542</td><td>True</td><td>True</td><td>True</td><td>True</td><td>True</td><td>True</td><td>False</td><td>False</td><td>True</td><td>False</td><td>False</td><td>False</td><td>False</td><td>False</td><td>0.0</td><td>0</td><td>0</td><td>False</td><td>False</td><td>False</td><td>False</td><td>False</td><td>False</td><td>True</td><td>False</td><td>False</td><td></td><td>False</td><td>23463</td><td>3244</td><td>52387</td><td>0.14773274958133698</td><td>CompactExtendedSource</td><td>1</td><td>13</td><td>13</td><td>4.0033736</td><td>nan</td><td>True</td></tr>\n",
       "</table></div>"
      ],
      "text/plain": [
       "<Table length=13>\n",
       "         id         coord_ra coord_dec ... deblend_logL deblend_spectrumInitFlag\n",
       "                      rad       rad    ...                                      \n",
       "       int64        float64   float64  ...   float32              bool          \n",
       "------------------- -------- --------- ... ------------ ------------------------\n",
       "1248675773246640703      nan       nan ...          nan                     True\n",
       "1248675773246640704      nan       nan ...          nan                     True\n",
       "1248675773246640705      nan       nan ...          nan                     True\n",
       "1248675773246640706      nan       nan ...          nan                     True\n",
       "1248675773246640707      nan       nan ...          nan                     True\n",
       "1248675773246640708      nan       nan ...          nan                     True\n",
       "1248675773246640709      nan       nan ...          nan                     True\n",
       "1248675773246640710      nan       nan ...          nan                     True\n",
       "1248675773246640711      nan       nan ...          nan                     True\n",
       "1248675773246640712      nan       nan ...          nan                     True\n",
       "1248675773246640713      nan       nan ...          nan                     True\n",
       "1248675773246640714      nan       nan ...          nan                     True\n",
       "1248675773246640715      nan       nan ...          nan                     True"
      ]
     },
     "execution_count": 12,
     "metadata": {},
     "output_type": "execute_result"
    },
    {
     "data": {
      "text/html": [
       "<pre style=\"margin: 0.1em;\n",
       "padding-left: 0.25em;\n",
       "border-left-style: solid;\n",
       "font-family: var(--jp-code-font-family);\n",
       "font-size: var(--jp-code-font-size);\n",
       "line-height: var(--jp-code-line-height);\n",
       "\"><span style=\"color: var(--jp-warn-color2)\">pycodestyle</span> <span style=\"color: var(--jp-info-color0)\">INFO</span>: 1:26: W291 trailing whitespace</pre>"
      ],
      "text/plain": [
       "<IPython.core.display.HTML object>"
      ]
     },
     "metadata": {},
     "output_type": "display_data"
    },
    {
     "data": {
      "text/html": [
       "<pre style=\"margin: 0.1em;\n",
       "padding-left: 0.25em;\n",
       "border-left-style: solid;\n",
       "font-family: var(--jp-code-font-family);\n",
       "font-size: var(--jp-code-font-size);\n",
       "line-height: var(--jp-code-line-height);\n",
       "\"><span style=\"color: var(--jp-warn-color2)\">pycodestyle</span> <span style=\"color: var(--jp-info-color0)\">INFO</span>: 5:10: E221 multiple spaces before operator</pre>"
      ],
      "text/plain": [
       "<IPython.core.display.HTML object>"
      ]
     },
     "metadata": {},
     "output_type": "display_data"
    },
    {
     "data": {
      "text/html": [
       "<pre style=\"margin: 0.1em;\n",
       "padding-left: 0.25em;\n",
       "border-left-style: solid;\n",
       "font-family: var(--jp-code-font-family);\n",
       "font-size: var(--jp-code-font-size);\n",
       "line-height: var(--jp-code-line-height);\n",
       "\"><span style=\"color: var(--jp-warn-color2)\">pycodestyle</span> <span style=\"color: var(--jp-info-color0)\">INFO</span>: 6:80: E501 line too long (81 &gt; 79 characters)</pre>"
      ],
      "text/plain": [
       "<IPython.core.display.HTML object>"
      ]
     },
     "metadata": {},
     "output_type": "display_data"
    },
    {
     "data": {
      "text/html": [
       "<pre style=\"margin: 0.1em;\n",
       "padding-left: 0.25em;\n",
       "border-left-style: solid;\n",
       "font-family: var(--jp-code-font-family);\n",
       "font-size: var(--jp-code-font-size);\n",
       "line-height: var(--jp-code-line-height);\n",
       "\"><span style=\"color: var(--jp-warn-color2)\">pycodestyle</span> <span style=\"color: var(--jp-info-color0)\">INFO</span>: 7:80: E501 line too long (81 &gt; 79 characters)</pre>"
      ],
      "text/plain": [
       "<IPython.core.display.HTML object>"
      ]
     },
     "metadata": {},
     "output_type": "display_data"
    },
    {
     "data": {
      "text/html": [
       "<pre style=\"margin: 0.1em;\n",
       "padding-left: 0.25em;\n",
       "border-left-style: solid;\n",
       "font-family: var(--jp-code-font-family);\n",
       "font-size: var(--jp-code-font-size);\n",
       "line-height: var(--jp-code-line-height);\n",
       "\"><span style=\"color: var(--jp-warn-color2)\">pycodestyle</span> <span style=\"color: var(--jp-info-color0)\">INFO</span>: 8:14: E221 multiple spaces before operator</pre>"
      ],
      "text/plain": [
       "<IPython.core.display.HTML object>"
      ]
     },
     "metadata": {},
     "output_type": "display_data"
    },
    {
     "data": {
      "text/html": [
       "<pre style=\"margin: 0.1em;\n",
       "padding-left: 0.25em;\n",
       "border-left-style: solid;\n",
       "font-family: var(--jp-code-font-family);\n",
       "font-size: var(--jp-code-font-size);\n",
       "line-height: var(--jp-code-line-height);\n",
       "\"><span style=\"color: var(--jp-warn-color2)\">pycodestyle</span> <span style=\"color: var(--jp-info-color0)\">INFO</span>: 9:25: E221 multiple spaces before operator</pre>"
      ],
      "text/plain": [
       "<IPython.core.display.HTML object>"
      ]
     },
     "metadata": {},
     "output_type": "display_data"
    },
    {
     "data": {
      "text/html": [
       "<pre style=\"margin: 0.1em;\n",
       "padding-left: 0.25em;\n",
       "border-left-style: solid;\n",
       "font-family: var(--jp-code-font-family);\n",
       "font-size: var(--jp-code-font-size);\n",
       "line-height: var(--jp-code-line-height);\n",
       "\"><span style=\"color: var(--jp-warn-color2)\">pycodestyle</span> <span style=\"color: var(--jp-info-color0)\">INFO</span>: 10:80: E501 line too long (80 &gt; 79 characters)</pre>"
      ],
      "text/plain": [
       "<IPython.core.display.HTML object>"
      ]
     },
     "metadata": {},
     "output_type": "display_data"
    },
    {
     "data": {
      "text/html": [
       "<pre style=\"margin: 0.1em;\n",
       "padding-left: 0.25em;\n",
       "border-left-style: solid;\n",
       "font-family: var(--jp-code-font-family);\n",
       "font-size: var(--jp-code-font-size);\n",
       "line-height: var(--jp-code-line-height);\n",
       "\"><span style=\"color: var(--jp-warn-color2)\">pycodestyle</span> <span style=\"color: var(--jp-info-color0)\">INFO</span>: 11:25: E221 multiple spaces before operator</pre>"
      ],
      "text/plain": [
       "<IPython.core.display.HTML object>"
      ]
     },
     "metadata": {},
     "output_type": "display_data"
    },
    {
     "data": {
      "text/html": [
       "<pre style=\"margin: 0.1em;\n",
       "padding-left: 0.25em;\n",
       "border-left-style: solid;\n",
       "font-family: var(--jp-code-font-family);\n",
       "font-size: var(--jp-code-font-size);\n",
       "line-height: var(--jp-code-line-height);\n",
       "\"><span style=\"color: var(--jp-warn-color2)\">pycodestyle</span> <span style=\"color: var(--jp-info-color0)\">INFO</span>: 12:27: E221 multiple spaces before operator</pre>"
      ],
      "text/plain": [
       "<IPython.core.display.HTML object>"
      ]
     },
     "metadata": {},
     "output_type": "display_data"
    }
   ],
   "source": [
    "# show whats in the table \n",
    "\n",
    "print(len(dbFlux_table))\n",
    "\n",
    "dbFlux_id      = np.asarray(dbFlux_table['id'], dtype='int')\n",
    "dbFlux_coord_x = np.asarray(dbFlux_table['deblend_peak_center_x'], dtype='float')\n",
    "dbFlux_coord_y = np.asarray(dbFlux_table['deblend_peak_center_y'], dtype='float')\n",
    "dbFlux_parent  = np.asarray(dbFlux_table['parent'], dtype='int')\n",
    "dbFlux_merge_footprint_i     = np.asarray(dbFlux_table['merge_footprint_i'])\n",
    "dbFlux_deblend_peak_instFlux = np.asarray(dbFlux_table['deblend_peak_instFlux'])\n",
    "dbFlux_deblend_modelType     = np.asarray(dbFlux_table['deblend_modelType'])\n",
    "dbFlux_deblend_scarletFlux   = np.asarray(dbFlux_table['deblend_scarletFlux'])\n",
    "\n",
    "tx = np.where(dbFlux_parent == sel_objid)[0]\n",
    "dbFlux_table[tx]\n"
   ]
  },
  {
   "cell_type": "markdown",
   "id": "cf89ba61-6e4f-4087-ad94-543c742903ba",
   "metadata": {},
   "source": [
    "### 3.2 Exploring deblended \"footprints\"\n",
    "\n",
    "Now that we have retrieved the deblended flux table, we can use the `.getFootprint()` method to get the footprints for all records in `dbFlux`. First we will add them to the Astropy table we made out of the deepCoadd_deblendedFlux table, and then added new columns 'footprint' will appear in the table. Then, we can display the footprints for our 13 blended sources from Section 2.\n"
   ]
  },
  {
   "cell_type": "code",
   "execution_count": 13,
   "id": "e2f5d229-71d9-4040-80ad-16f6d4c38dfb",
   "metadata": {
    "execution": {
     "iopub.execute_input": "2023-02-24T22:08:03.407486Z",
     "iopub.status.busy": "2023-02-24T22:08:03.407309Z",
     "iopub.status.idle": "2023-02-24T22:08:03.597585Z",
     "shell.execute_reply": "2023-02-24T22:08:03.597041Z",
     "shell.execute_reply.started": "2023-02-24T22:08:03.407471Z"
    }
   },
   "outputs": [],
   "source": [
    "# first, retrieve footprints and add to the deepCoadd_deblendedFlux table:\n",
    "footprints = [src.getFootprint() for src in dbFlux]\n",
    "dbFlux_table[\"footprint\"] = footprints\n"
   ]
  },
  {
   "cell_type": "code",
   "execution_count": 14,
   "id": "7523c2cc-6460-45fd-8a2c-c4c02452e8c1",
   "metadata": {
    "execution": {
     "iopub.execute_input": "2023-02-24T22:08:03.598437Z",
     "iopub.status.busy": "2023-02-24T22:08:03.598268Z",
     "iopub.status.idle": "2023-02-24T22:08:03.691229Z",
     "shell.execute_reply": "2023-02-24T22:08:03.690527Z",
     "shell.execute_reply.started": "2023-02-24T22:08:03.598422Z"
    }
   },
   "outputs": [
    {
     "data": {
      "text/html": [
       "<div><i>Table length=13</i>\n",
       "<table id=\"table140698376780288\" class=\"table-striped table-bordered table-condensed\">\n",
       "<thead><tr><th>id</th><th>coord_ra</th><th>coord_dec</th><th>parent</th><th>merge_footprint_i</th><th>merge_footprint_r</th><th>merge_footprint_z</th><th>merge_footprint_y</th><th>merge_footprint_g</th><th>merge_footprint_u</th><th>merge_footprint_sky</th><th>merge_peak_i</th><th>merge_peak_r</th><th>merge_peak_z</th><th>merge_peak_y</th><th>merge_peak_g</th><th>merge_peak_u</th><th>merge_peak_sky</th><th>deblend_runtime</th><th>deblend_iterations</th><th>deblend_nChild</th><th>deblend_deblendedAsPsf</th><th>deblend_tooManyPeaks</th><th>deblend_parentTooBig</th><th>deblend_masked</th><th>deblend_sedConvergenceFailed</th><th>deblend_morphConvergenceFailed</th><th>deblend_blendConvergenceFailedFlag</th><th>deblend_edgePixels</th><th>deblend_failed</th><th>deblend_error</th><th>deblend_skipped</th><th>deblend_peak_center_x</th><th>deblend_peak_center_y</th><th>deblend_peakId</th><th>deblend_peak_instFlux</th><th>deblend_modelType</th><th>deblend_nPeaks</th><th>deblend_parentNPeaks</th><th>deblend_parentNChild</th><th>deblend_scarletFlux</th><th>deblend_logL</th><th>deblend_spectrumInitFlag</th><th>footprint</th></tr></thead>\n",
       "<thead><tr><th></th><th>rad</th><th>rad</th><th></th><th></th><th></th><th></th><th></th><th></th><th></th><th></th><th></th><th></th><th></th><th></th><th></th><th></th><th></th><th></th><th></th><th></th><th></th><th></th><th></th><th></th><th></th><th></th><th></th><th></th><th></th><th></th><th></th><th>pix</th><th>pix</th><th></th><th>ct</th><th></th><th></th><th></th><th></th><th></th><th></th><th></th><th></th></tr></thead>\n",
       "<thead><tr><th>int64</th><th>float64</th><th>float64</th><th>int64</th><th>bool</th><th>bool</th><th>bool</th><th>bool</th><th>bool</th><th>bool</th><th>bool</th><th>bool</th><th>bool</th><th>bool</th><th>bool</th><th>bool</th><th>bool</th><th>bool</th><th>float32</th><th>int32</th><th>int32</th><th>bool</th><th>bool</th><th>bool</th><th>bool</th><th>bool</th><th>bool</th><th>bool</th><th>bool</th><th>bool</th><th>str25</th><th>bool</th><th>int32</th><th>int32</th><th>int32</th><th>float64</th><th>str25</th><th>int32</th><th>int32</th><th>int32</th><th>float32</th><th>float32</th><th>bool</th><th>object</th></tr></thead>\n",
       "<tr><td>1248675773246640703</td><td>nan</td><td>nan</td><td>1248675773246610542</td><td>True</td><td>True</td><td>True</td><td>True</td><td>True</td><td>True</td><td>False</td><td>True</td><td>True</td><td>True</td><td>True</td><td>True</td><td>True</td><td>False</td><td>0.0</td><td>0</td><td>0</td><td>False</td><td>False</td><td>False</td><td>False</td><td>False</td><td>False</td><td>True</td><td>False</td><td>False</td><td></td><td>False</td><td>23485</td><td>3210</td><td>47292</td><td>5.39021635055542</td><td>MultiExtendedSource</td><td>1</td><td>13</td><td>13</td><td>490.87234</td><td>nan</td><td>True</td><td>1 peaks, area=5840, centroid=(23484.5, 3217.97)</td></tr>\n",
       "<tr><td>1248675773246640704</td><td>nan</td><td>nan</td><td>1248675773246610542</td><td>True</td><td>True</td><td>True</td><td>True</td><td>True</td><td>True</td><td>False</td><td>True</td><td>True</td><td>True</td><td>True</td><td>True</td><td>False</td><td>False</td><td>0.0</td><td>0</td><td>0</td><td>False</td><td>False</td><td>False</td><td>False</td><td>False</td><td>False</td><td>True</td><td>False</td><td>False</td><td></td><td>False</td><td>23467</td><td>3234</td><td>47294</td><td>2.3927512168884277</td><td>MultiExtendedSource</td><td>1</td><td>13</td><td>13</td><td>106.880486</td><td>nan</td><td>True</td><td>1 peaks, area=4329, centroid=(23479.5, 3223.64)</td></tr>\n",
       "<tr><td>1248675773246640705</td><td>nan</td><td>nan</td><td>1248675773246610542</td><td>True</td><td>True</td><td>True</td><td>True</td><td>True</td><td>True</td><td>False</td><td>True</td><td>True</td><td>True</td><td>True</td><td>True</td><td>True</td><td>False</td><td>0.0</td><td>0</td><td>0</td><td>False</td><td>False</td><td>False</td><td>False</td><td>False</td><td>False</td><td>True</td><td>False</td><td>False</td><td></td><td>False</td><td>23483</td><td>3246</td><td>41242</td><td>0.33462783694267273</td><td>CompactExtendedSource</td><td>1</td><td>13</td><td>13</td><td>12.085948</td><td>nan</td><td>True</td><td>1 peaks, area=3658, centroid=(23485.1, 3232.58)</td></tr>\n",
       "<tr><td>1248675773246640706</td><td>nan</td><td>nan</td><td>1248675773246610542</td><td>True</td><td>True</td><td>True</td><td>True</td><td>True</td><td>True</td><td>False</td><td>True</td><td>True</td><td>True</td><td>False</td><td>True</td><td>False</td><td>False</td><td>0.0</td><td>0</td><td>0</td><td>False</td><td>False</td><td>False</td><td>False</td><td>False</td><td>False</td><td>True</td><td>False</td><td>False</td><td></td><td>False</td><td>23513</td><td>3206</td><td>47291</td><td>0.3295254409313202</td><td>CompactExtendedSource</td><td>1</td><td>13</td><td>13</td><td>12.935391</td><td>nan</td><td>True</td><td>1 peaks, area=3190, centroid=(23497.6, 3211.93)</td></tr>\n",
       "<tr><td>1248675773246640707</td><td>nan</td><td>nan</td><td>1248675773246610542</td><td>True</td><td>True</td><td>True</td><td>True</td><td>True</td><td>True</td><td>False</td><td>True</td><td>True</td><td>True</td><td>False</td><td>False</td><td>False</td><td>False</td><td>0.0</td><td>0</td><td>0</td><td>False</td><td>False</td><td>False</td><td>False</td><td>False</td><td>False</td><td>True</td><td>False</td><td>False</td><td></td><td>False</td><td>23455</td><td>3242</td><td>47295</td><td>0.26085060834884644</td><td>CompactExtendedSource</td><td>1</td><td>13</td><td>13</td><td>5.9582796</td><td>nan</td><td>True</td><td>1 peaks, area=1951, centroid=(23467.6, 3233.05)</td></tr>\n",
       "<tr><td>1248675773246640708</td><td>nan</td><td>nan</td><td>1248675773246610542</td><td>True</td><td>True</td><td>True</td><td>True</td><td>True</td><td>True</td><td>False</td><td>True</td><td>True</td><td>True</td><td>False</td><td>True</td><td>False</td><td>False</td><td>0.0</td><td>0</td><td>0</td><td>False</td><td>False</td><td>False</td><td>False</td><td>False</td><td>False</td><td>True</td><td>False</td><td>False</td><td></td><td>False</td><td>23488</td><td>3231</td><td>47293</td><td>0.24051915109157562</td><td>CompactExtendedSource</td><td>1</td><td>13</td><td>13</td><td>10.048364</td><td>nan</td><td>True</td><td>1 peaks, area=4761, centroid=(23485.3, 3224.45)</td></tr>\n",
       "<tr><td>1248675773246640709</td><td>nan</td><td>nan</td><td>1248675773246610542</td><td>True</td><td>True</td><td>True</td><td>True</td><td>True</td><td>True</td><td>False</td><td>False</td><td>False</td><td>False</td><td>False</td><td>True</td><td>False</td><td>False</td><td>0.0</td><td>0</td><td>0</td><td>False</td><td>False</td><td>False</td><td>False</td><td>False</td><td>False</td><td>True</td><td>False</td><td>False</td><td></td><td>False</td><td>23459</td><td>3231</td><td>50403</td><td>0.3871551752090454</td><td>CompactExtendedSource</td><td>1</td><td>13</td><td>13</td><td>22.802235</td><td>nan</td><td>True</td><td>1 peaks, area=3360, centroid=(23473, 3224.49)</td></tr>\n",
       "<tr><td>1248675773246640710</td><td>nan</td><td>nan</td><td>1248675773246610542</td><td>True</td><td>True</td><td>True</td><td>True</td><td>True</td><td>True</td><td>False</td><td>True</td><td>False</td><td>False</td><td>False</td><td>False</td><td>False</td><td>False</td><td>0.0</td><td>0</td><td>0</td><td>False</td><td>False</td><td>False</td><td>False</td><td>False</td><td>False</td><td>True</td><td>False</td><td>False</td><td></td><td>False</td><td>23495</td><td>3185</td><td>40993</td><td>0.1430944949388504</td><td>CompactExtendedSource</td><td>1</td><td>13</td><td>13</td><td>3.7953627</td><td>nan</td><td>True</td><td>1 peaks, area=2585, centroid=(23491.2, 3199.54)</td></tr>\n",
       "<tr><td>1248675773246640711</td><td>nan</td><td>nan</td><td>1248675773246610542</td><td>True</td><td>True</td><td>True</td><td>True</td><td>True</td><td>True</td><td>False</td><td>True</td><td>False</td><td>False</td><td>False</td><td>False</td><td>False</td><td>False</td><td>0.0</td><td>0</td><td>0</td><td>False</td><td>False</td><td>False</td><td>False</td><td>False</td><td>False</td><td>True</td><td>False</td><td>False</td><td></td><td>False</td><td>23502</td><td>3188</td><td>41007</td><td>0.11195013672113419</td><td>CompactExtendedSource</td><td>1</td><td>13</td><td>13</td><td>2.7816982</td><td>nan</td><td>True</td><td>1 peaks, area=2094, centroid=(23495.7, 3198.87)</td></tr>\n",
       "<tr><td>1248675773246640712</td><td>nan</td><td>nan</td><td>1248675773246610542</td><td>True</td><td>True</td><td>True</td><td>True</td><td>True</td><td>True</td><td>False</td><td>False</td><td>True</td><td>False</td><td>False</td><td>False</td><td>False</td><td>False</td><td>0.0</td><td>0</td><td>0</td><td>False</td><td>False</td><td>False</td><td>False</td><td>False</td><td>False</td><td>True</td><td>False</td><td>False</td><td></td><td>False</td><td>23466</td><td>3198</td><td>52379</td><td>0.02966391295194626</td><td>CompactExtendedSource</td><td>1</td><td>13</td><td>13</td><td>1.5007979</td><td>nan</td><td>True</td><td>1 peaks, area=3235, centroid=(23475.7, 3206.57)</td></tr>\n",
       "<tr><td>1248675773246640713</td><td>nan</td><td>nan</td><td>1248675773246610542</td><td>True</td><td>True</td><td>True</td><td>True</td><td>True</td><td>True</td><td>False</td><td>False</td><td>True</td><td>False</td><td>False</td><td>False</td><td>False</td><td>False</td><td>0.0</td><td>0</td><td>0</td><td>False</td><td>False</td><td>False</td><td>False</td><td>False</td><td>False</td><td>True</td><td>False</td><td>False</td><td></td><td>False</td><td>23479</td><td>3227</td><td>52382</td><td>1.6886492347454422e-21</td><td>CompactExtendedSource</td><td>1</td><td>13</td><td>13</td><td>4.1422963e-20</td><td>nan</td><td>True</td><td>1 peaks, area=4270, centroid=(23482.9, 3227.15)</td></tr>\n",
       "<tr><td>1248675773246640714</td><td>nan</td><td>nan</td><td>1248675773246610542</td><td>True</td><td>True</td><td>True</td><td>True</td><td>True</td><td>True</td><td>False</td><td>False</td><td>True</td><td>False</td><td>False</td><td>False</td><td>False</td><td>False</td><td>0.0</td><td>0</td><td>0</td><td>False</td><td>False</td><td>False</td><td>False</td><td>False</td><td>False</td><td>True</td><td>False</td><td>False</td><td></td><td>False</td><td>23503</td><td>3202</td><td>52380</td><td>0.08955945819616318</td><td>CompactExtendedSource</td><td>1</td><td>13</td><td>13</td><td>2.5225735</td><td>nan</td><td>True</td><td>1 peaks, area=2791, centroid=(23497.3, 3207.24)</td></tr>\n",
       "<tr><td>1248675773246640715</td><td>nan</td><td>nan</td><td>1248675773246610542</td><td>True</td><td>True</td><td>True</td><td>True</td><td>True</td><td>True</td><td>False</td><td>False</td><td>True</td><td>False</td><td>False</td><td>False</td><td>False</td><td>False</td><td>0.0</td><td>0</td><td>0</td><td>False</td><td>False</td><td>False</td><td>False</td><td>False</td><td>False</td><td>True</td><td>False</td><td>False</td><td></td><td>False</td><td>23463</td><td>3244</td><td>52387</td><td>0.14773274958133698</td><td>CompactExtendedSource</td><td>1</td><td>13</td><td>13</td><td>4.0033736</td><td>nan</td><td>True</td><td>1 peaks, area=2388, centroid=(23474.9, 3235.69)</td></tr>\n",
       "</table></div>"
      ],
      "text/plain": [
       "<Table length=13>\n",
       "         id         coord_ra ...                    footprint                   \n",
       "                      rad    ...                                                \n",
       "       int64        float64  ...                      object                    \n",
       "------------------- -------- ... -----------------------------------------------\n",
       "1248675773246640703      nan ... 1 peaks, area=5840, centroid=(23484.5, 3217.97)\n",
       "1248675773246640704      nan ... 1 peaks, area=4329, centroid=(23479.5, 3223.64)\n",
       "1248675773246640705      nan ... 1 peaks, area=3658, centroid=(23485.1, 3232.58)\n",
       "1248675773246640706      nan ... 1 peaks, area=3190, centroid=(23497.6, 3211.93)\n",
       "1248675773246640707      nan ... 1 peaks, area=1951, centroid=(23467.6, 3233.05)\n",
       "1248675773246640708      nan ... 1 peaks, area=4761, centroid=(23485.3, 3224.45)\n",
       "1248675773246640709      nan ...   1 peaks, area=3360, centroid=(23473, 3224.49)\n",
       "1248675773246640710      nan ... 1 peaks, area=2585, centroid=(23491.2, 3199.54)\n",
       "1248675773246640711      nan ... 1 peaks, area=2094, centroid=(23495.7, 3198.87)\n",
       "1248675773246640712      nan ... 1 peaks, area=3235, centroid=(23475.7, 3206.57)\n",
       "1248675773246640713      nan ... 1 peaks, area=4270, centroid=(23482.9, 3227.15)\n",
       "1248675773246640714      nan ... 1 peaks, area=2791, centroid=(23497.3, 3207.24)\n",
       "1248675773246640715      nan ... 1 peaks, area=2388, centroid=(23474.9, 3235.69)"
      ]
     },
     "execution_count": 14,
     "metadata": {},
     "output_type": "execute_result"
    },
    {
     "data": {
      "text/html": [
       "<pre style=\"margin: 0.1em;\n",
       "padding-left: 0.25em;\n",
       "border-left-style: solid;\n",
       "font-family: var(--jp-code-font-family);\n",
       "font-size: var(--jp-code-font-size);\n",
       "line-height: var(--jp-code-line-height);\n",
       "\"><span style=\"color: var(--jp-warn-color2)\">pycodestyle</span> <span style=\"color: var(--jp-info-color0)\">INFO</span>: 1:80: E501 line too long (85 &gt; 79 characters)</pre>"
      ],
      "text/plain": [
       "<IPython.core.display.HTML object>"
      ]
     },
     "metadata": {},
     "output_type": "display_data"
    }
   ],
   "source": [
    "# Now show whats in the table including the new footprint addition in the last column\n",
    "\n",
    "dbFlux_table[tx]\n"
   ]
  },
  {
   "cell_type": "code",
   "execution_count": 15,
   "id": "22c6d35e-cf65-48b6-853e-54d0e743fc9e",
   "metadata": {
    "execution": {
     "iopub.execute_input": "2023-02-24T22:08:03.692539Z",
     "iopub.status.busy": "2023-02-24T22:08:03.692169Z",
     "iopub.status.idle": "2023-02-24T22:08:06.441892Z",
     "shell.execute_reply": "2023-02-24T22:08:06.441286Z",
     "shell.execute_reply.started": "2023-02-24T22:08:03.692508Z"
    },
    "tags": []
   },
   "outputs": [
    {
     "data": {
      "image/png": "[encoded data removed]",
      "text/plain": [
       "<Figure size 200x200 with 2 Axes>"
      ]
     },
     "metadata": {},
     "output_type": "display_data"
    },
    {
     "data": {
      "image/png": "[encoded data removed]",
      "text/plain": [
       "<Figure size 200x200 with 2 Axes>"
      ]
     },
     "metadata": {},
     "output_type": "display_data"
    },
    {
     "data": {
      "image/png": "[encoded data removed]",
      "text/plain": [
       "<Figure size 200x200 with 2 Axes>"
      ]
     },
     "metadata": {},
     "output_type": "display_data"
    },
    {
     "data": {
      "image/png": "[encoded data removed]",
      "text/plain": [
       "<Figure size 200x200 with 2 Axes>"
      ]
     },
     "metadata": {},
     "output_type": "display_data"
    },
    {
     "data": {
      "image/png": "[encoded data removed]",
      "text/plain": [
       "<Figure size 200x200 with 2 Axes>"
      ]
     },
     "metadata": {},
     "output_type": "display_data"
    },
    {
     "data": {
      "image/png": "[encoded data removed]",
      "text/plain": [
       "<Figure size 200x200 with 2 Axes>"
      ]
     },
     "metadata": {},
     "output_type": "display_data"
    },
    {
     "data": {
      "image/png": "[encoded data removed]",
      "text/plain": [
       "<Figure size 200x200 with 2 Axes>"
      ]
     },
     "metadata": {},
     "output_type": "display_data"
    },
    {
     "data": {
      "image/png": "[encoded data removed]",
      "text/plain": [
       "<Figure size 200x200 with 2 Axes>"
      ]
     },
     "metadata": {},
     "output_type": "display_data"
    },
    {
     "data": {
      "image/png": "[encoded data removed]",
      "text/plain": [
       "<Figure size 200x200 with 2 Axes>"
      ]
     },
     "metadata": {},
     "output_type": "display_data"
    },
    {
     "data": {
      "image/png": "[encoded data removed]",
      "text/plain": [
       "<Figure size 200x200 with 2 Axes>"
      ]
     },
     "metadata": {},
     "output_type": "display_data"
    },
    {
     "data": {
      "image/png": "[encoded data removed]",
      "text/plain": [
       "<Figure size 200x200 with 2 Axes>"
      ]
     },
     "metadata": {},
     "output_type": "display_data"
    },
    {
     "data": {
      "image/png": "[encoded data removed]",
      "text/plain": [
       "<Figure size 200x200 with 2 Axes>"
      ]
     },
     "metadata": {},
     "output_type": "display_data"
    },
    {
     "data": {
      "image/png": "[encoded data removed]",
      "text/plain": [
       "<Figure size 200x200 with 2 Axes>"
      ]
     },
     "metadata": {},
     "output_type": "display_data"
    },
    {
     "data": {
      "text/html": [
       "<pre style=\"margin: 0.1em;\n",
       "padding-left: 0.25em;\n",
       "border-left-style: solid;\n",
       "font-family: var(--jp-code-font-family);\n",
       "font-size: var(--jp-code-font-size);\n",
       "line-height: var(--jp-code-line-height);\n",
       "\"><span style=\"color: var(--jp-warn-color2)\">pycodestyle</span> <span style=\"color: var(--jp-info-color0)\">INFO</span>: 14:1: W293 blank line contains whitespace</pre>"
      ],
      "text/plain": [
       "<IPython.core.display.HTML object>"
      ]
     },
     "metadata": {},
     "output_type": "display_data"
    },
    {
     "data": {
      "text/html": [
       "<pre style=\"margin: 0.1em;\n",
       "padding-left: 0.25em;\n",
       "border-left-style: solid;\n",
       "font-family: var(--jp-code-font-family);\n",
       "font-size: var(--jp-code-font-size);\n",
       "line-height: var(--jp-code-line-height);\n",
       "\"><span style=\"color: var(--jp-warn-color2)\">pycodestyle</span> <span style=\"color: var(--jp-info-color0)\">INFO</span>: 15:1: E265 block comment should start with &#x27;# &#x27;</pre>"
      ],
      "text/plain": [
       "<IPython.core.display.HTML object>"
      ]
     },
     "metadata": {},
     "output_type": "display_data"
    },
    {
     "data": {
      "text/html": [
       "<pre style=\"margin: 0.1em;\n",
       "padding-left: 0.25em;\n",
       "border-left-style: solid;\n",
       "font-family: var(--jp-code-font-family);\n",
       "font-size: var(--jp-code-font-size);\n",
       "line-height: var(--jp-code-line-height);\n",
       "\"><span style=\"color: var(--jp-warn-color2)\">pycodestyle</span> <span style=\"color: var(--jp-info-color0)\">INFO</span>: 16:1: E265 block comment should start with &#x27;# &#x27;</pre>"
      ],
      "text/plain": [
       "<IPython.core.display.HTML object>"
      ]
     },
     "metadata": {},
     "output_type": "display_data"
    },
    {
     "data": {
      "text/html": [
       "<pre style=\"margin: 0.1em;\n",
       "padding-left: 0.25em;\n",
       "border-left-style: solid;\n",
       "font-family: var(--jp-code-font-family);\n",
       "font-size: var(--jp-code-font-size);\n",
       "line-height: var(--jp-code-line-height);\n",
       "\"><span style=\"color: var(--jp-warn-color2)\">pycodestyle</span> <span style=\"color: var(--jp-info-color0)\">INFO</span>: 17:17: E225 missing whitespace around operator</pre>"
      ],
      "text/plain": [
       "<IPython.core.display.HTML object>"
      ]
     },
     "metadata": {},
     "output_type": "display_data"
    },
    {
     "data": {
      "text/html": [
       "<pre style=\"margin: 0.1em;\n",
       "padding-left: 0.25em;\n",
       "border-left-style: solid;\n",
       "font-family: var(--jp-code-font-family);\n",
       "font-size: var(--jp-code-font-size);\n",
       "line-height: var(--jp-code-line-height);\n",
       "\"><span style=\"color: var(--jp-warn-color2)\">pycodestyle</span> <span style=\"color: var(--jp-info-color0)\">INFO</span>: 18:1: W293 blank line contains whitespace</pre>"
      ],
      "text/plain": [
       "<IPython.core.display.HTML object>"
      ]
     },
     "metadata": {},
     "output_type": "display_data"
    },
    {
     "data": {
      "text/html": [
       "<pre style=\"margin: 0.1em;\n",
       "padding-left: 0.25em;\n",
       "border-left-style: solid;\n",
       "font-family: var(--jp-code-font-family);\n",
       "font-size: var(--jp-code-font-size);\n",
       "line-height: var(--jp-code-line-height);\n",
       "\"><span style=\"color: var(--jp-warn-color2)\">pycodestyle</span> <span style=\"color: var(--jp-info-color0)\">INFO</span>: 22:1: E265 block comment should start with &#x27;# &#x27;</pre>"
      ],
      "text/plain": [
       "<IPython.core.display.HTML object>"
      ]
     },
     "metadata": {},
     "output_type": "display_data"
    },
    {
     "data": {
      "text/html": [
       "<pre style=\"margin: 0.1em;\n",
       "padding-left: 0.25em;\n",
       "border-left-style: solid;\n",
       "font-family: var(--jp-code-font-family);\n",
       "font-size: var(--jp-code-font-size);\n",
       "line-height: var(--jp-code-line-height);\n",
       "\"><span style=\"color: var(--jp-warn-color2)\">pycodestyle</span> <span style=\"color: var(--jp-info-color0)\">INFO</span>: 30:1: W293 blank line contains whitespace</pre>"
      ],
      "text/plain": [
       "<IPython.core.display.HTML object>"
      ]
     },
     "metadata": {},
     "output_type": "display_data"
    }
   ],
   "source": [
    "# now display the footprint for each of the 13 deblended children\n",
    "\n",
    "for i in range(len(tx)):\n",
    "    dbFlux_table['footprint'][tx[i]]\n",
    "\n",
    "    test0 = heavyFootprintToImage(dbFlux_table['footprint'][tx[i]])\n",
    "\n",
    "    fig = plt.figure(figsize=(2, 2))\n",
    "    afw_display = afwDisplay.Display(frame=fig)\n",
    "    afw_display.scale('asinh', 'zscale')\n",
    "    afw_display.mtv(test0)\n",
    "    plt.axis('off')\n",
    "    plt.show()\n",
    "    \n",
    "#bbox = [201,201]\n",
    "#ra,dec, band='i', datasetType='deepCoadd',\n",
    "cutoutSideLength=201\n",
    "    \n",
    "radec = geom.SpherePoint(ra, dec, geom.degrees)\n",
    "cutoutSize = geom.ExtentI(cutoutSideLength, cutoutSideLength)\n",
    "\n",
    "#if skymap is None:\n",
    "skymap = butler.get(\"skyMap\")\n",
    "\n",
    "# Look up the tract, patch for the RA, Dec\n",
    "tractInfo = skymap.findTract(radec)\n",
    "patchInfo = tractInfo.findPatch(radec)\n",
    "xy = geom.PointI(tractInfo.getWcs().skyToPixel(radec))\n",
    "bbox = geom.BoxI(xy - cutoutSize // 2, cutoutSize)\n",
    "    \n"
   ]
  }
 ],
 "metadata": {
  "kernelspec": {
   "display_name": "LSST",
   "language": "python",
   "name": "lsst"
  },
  "language_info": {
   "codemirror_mode": {
    "name": "ipython",
    "version": 3
   },
   "file_extension": ".py",
   "mimetype": "text/x-python",
   "name": "python",
   "nbconvert_exporter": "python",
   "pygments_lexer": "ipython3",
   "version": "3.10.9"
  },
  "toc-autonumbering": false
 },
 "nbformat": 4,
 "nbformat_minor": 5
}
