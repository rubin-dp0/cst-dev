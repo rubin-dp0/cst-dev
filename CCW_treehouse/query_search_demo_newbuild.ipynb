{
 "cells": [
  {
   "cell_type": "markdown",
   "id": "749b0ddf",
   "metadata": {},
   "source": [
    "## <img align=\"left\" src = https://project.lsst.org/sites/default/files/Rubin-O-Logo_0.png width=250 style=\"padding: 10px\"> \n",
    "<b>Using the image cutout tool with DP0.2</b> <br>\n",
    "Contact author(s): <i>Christina Williams</i> <br>\n",
    "Last verified to run: <i>2024-1-29</i> <br>\n",
    "LSST Science Piplines version: Weekly <i>2023_47</i> <br>\n",
    "Container Size: <i>medium</i> <br>\n",
    "Targeted learning level: <i>beginner</i> <br>"
   ]
  },
  {
   "cell_type": "code",
   "execution_count": 1,
   "id": "7acc79a4-8530-42d9-96e5-b7acb4397864",
   "metadata": {
    "execution": {
     "iopub.execute_input": "2024-02-02T21:33:17.417931Z",
     "iopub.status.busy": "2024-02-02T21:33:17.417752Z",
     "iopub.status.idle": "2024-02-02T21:33:17.420911Z",
     "shell.execute_reply": "2024-02-02T21:33:17.420133Z",
     "shell.execute_reply.started": "2024-02-02T21:33:17.417914Z"
    }
   },
   "outputs": [],
   "source": [
    "#%load_ext pycodestyle_magic\n",
    "#%flake8_on\n",
    "#import logging\n",
    "#logging.getLogger(\"flake8\").setLevel(logging.FATAL)"
   ]
  },
  {
   "cell_type": "markdown",
   "id": "9da1a210-d858-42fe-8591-570965b8be1a",
   "metadata": {},
   "source": [
    "**Description:** A demo of new search query behavior after bumping the recommended image to Weekly 2024 04 "
   ]
  },
  {
   "cell_type": "code",
   "execution_count": 2,
   "id": "cddc1458",
   "metadata": {
    "execution": {
     "iopub.execute_input": "2024-02-02T21:33:17.421833Z",
     "iopub.status.busy": "2024-02-02T21:33:17.421642Z",
     "iopub.status.idle": "2024-02-02T21:33:19.410638Z",
     "shell.execute_reply": "2024-02-02T21:33:19.410004Z",
     "shell.execute_reply.started": "2024-02-02T21:33:17.421814Z"
    },
    "tags": []
   },
   "outputs": [],
   "source": [
    "\n",
    "# Import general python packages\n",
    "import time\n",
    "import numpy as np\n",
    "\n",
    "# Science Pipelines imports\n",
    "from lsst.daf.butler import Butler, DatasetType, CollectionType\n",
    "import lsst.geom as geom\n",
    "import lsst.resources\n",
    "import lsst.afw.image as afwImage\n",
    "from lsst.afw.image import Exposure, ExposureF\n",
    "\n",
    "# Pandas tools for working with tables\n",
    "import pandas\n",
    "from pandas.testing import assert_frame_equal\n",
    "\n",
    "# Import the Rubin TAP service utilities\n",
    "from lsst.rsp import get_tap_service, retrieve_query\n",
    "\n",
    "# Astropy\n",
    "from astropy.coordinates import SkyCoord\n",
    "from astropy.visualization import ZScaleInterval, AsinhStretch\n",
    "from astropy.wcs import WCS\n"
   ]
  },
  {
   "cell_type": "markdown",
   "id": "c217adff-25ed-4fce-95e7-8aa04630f6cc",
   "metadata": {},
   "source": [
    "### 1.2 Define Functions and Parameters\n",
    "\n",
    "\n",
    "#### 1.2.1 Set up  plotting defaults for matplotlib."
   ]
  },
  {
   "cell_type": "code",
   "execution_count": 3,
   "id": "552c4cac-feca-4d51-a92f-87d5779a3300",
   "metadata": {
    "execution": {
     "iopub.execute_input": "2024-02-02T21:33:19.412158Z",
     "iopub.status.busy": "2024-02-02T21:33:19.411419Z",
     "iopub.status.idle": "2024-02-02T21:33:19.414808Z",
     "shell.execute_reply": "2024-02-02T21:33:19.414312Z",
     "shell.execute_reply.started": "2024-02-02T21:33:19.412134Z"
    },
    "tags": []
   },
   "outputs": [],
   "source": [
    "\n",
    "# Set the maximum number of rows to display from pandas\n",
    "pandas.set_option('display.max_rows', 20)\n"
   ]
  },
  {
   "cell_type": "code",
   "execution_count": 4,
   "id": "f632c1bc-44dd-4dff-9f29-3e63bf89428d",
   "metadata": {
    "execution": {
     "iopub.execute_input": "2024-02-02T21:33:19.415715Z",
     "iopub.status.busy": "2024-02-02T21:33:19.415482Z",
     "iopub.status.idle": "2024-02-02T21:33:19.485727Z",
     "shell.execute_reply": "2024-02-02T21:33:19.485134Z",
     "shell.execute_reply.started": "2024-02-02T21:33:19.415692Z"
    }
   },
   "outputs": [
    {
     "name": "stderr",
     "output_type": "stream",
     "text": [
      "/tmp/ipykernel_19464/1920553455.py:1: DeprecationWarning: get_tap_service() is deprecated, use get_tap_service(\"tap\")\n",
      "  service = get_tap_service()\n"
     ]
    }
   ],
   "source": [
    "service = get_tap_service()"
   ]
  },
  {
   "cell_type": "markdown",
   "id": "a47443c3-9455-4707-903f-59ba991cb014",
   "metadata": {},
   "source": [
    "First, define a point on the sky as the center of the image cutout. This example uses the galaxy cluster from DP0.3 Notebook Tutorial 03a. Once the RA and Dec are defined, we will create a SpherePoint class to define the location on the sky, that is then used to identify which Patch and Tract contains that location among the deepCoadd images.  "
   ]
  },
  {
   "cell_type": "code",
   "execution_count": 5,
   "id": "c5c745ad-3db2-47cc-b50b-5d0beae29a40",
   "metadata": {
    "execution": {
     "iopub.execute_input": "2024-02-02T21:33:19.486610Z",
     "iopub.status.busy": "2024-02-02T21:33:19.486394Z",
     "iopub.status.idle": "2024-02-02T21:33:19.489358Z",
     "shell.execute_reply": "2024-02-02T21:33:19.488863Z",
     "shell.execute_reply.started": "2024-02-02T21:33:19.486571Z"
    },
    "tags": []
   },
   "outputs": [],
   "source": [
    "center_coords = \"62, -37\"\n",
    "\n",
    "radius = \"0.5\"\n"
   ]
  },
  {
   "cell_type": "code",
   "execution_count": 6,
   "id": "2c3e8bae-e010-4b2e-b3fc-e688ebf42c5b",
   "metadata": {
    "execution": {
     "iopub.execute_input": "2024-02-02T21:33:19.490248Z",
     "iopub.status.busy": "2024-02-02T21:33:19.490069Z",
     "iopub.status.idle": "2024-02-02T21:33:22.987139Z",
     "shell.execute_reply": "2024-02-02T21:33:22.986621Z",
     "shell.execute_reply.started": "2024-02-02T21:33:19.490232Z"
    }
   },
   "outputs": [
    {
     "data": {
      "text/html": [
       "<div><i>Table length=5000</i>\n",
       "<table id=\"table138309335791120\" class=\"table-striped table-bordered table-condensed\">\n",
       "<thead><tr><th>objectId</th><th>coord_ra</th><th>coord_dec</th><th>u_ap09Flux</th><th>ubandS2N</th></tr></thead>\n",
       "<thead><tr><th></th><th>deg</th><th>deg</th><th>nJy</th><th></th></tr></thead>\n",
       "<thead><tr><th>int64</th><th>float64</th><th>float64</th><th>float64</th><th>object</th></tr></thead>\n",
       "<tr><td>1651413688361432675</td><td>61.9683169</td><td>-36.5458677</td><td>129.8071105</td><td>1.8820044580909516</td></tr>\n",
       "<tr><td>1651413688361432674</td><td>61.8607103</td><td>-36.5458751</td><td>24.7461712</td><td>0.3358382441578471</td></tr>\n",
       "<tr><td>1651413688361432673</td><td>61.8820737</td><td>-36.5460743</td><td>5.3881203</td><td>0.07711308436721988</td></tr>\n",
       "<tr><td>1651413688361432672</td><td>61.838656</td><td>-36.5459129</td><td>37.4895647</td><td>0.5456719779976915</td></tr>\n",
       "<tr><td>1651413688361432669</td><td>61.9169532</td><td>-36.5468863</td><td>-27.8402983</td><td>-0.3686051493357243</td></tr>\n",
       "<tr><td>1651413688361432668</td><td>61.845632</td><td>-36.5470106</td><td>-58.8446558</td><td>-0.8175252708028184</td></tr>\n",
       "<tr><td>1651413688361432676</td><td>61.7834028</td><td>-36.5453128</td><td>115.8229579</td><td>1.6794367064897746</td></tr>\n",
       "<tr><td>1651413688361432677</td><td>61.7997912</td><td>-36.5452765</td><td>-27.747789</td><td>-0.42210682049868475</td></tr>\n",
       "<tr><td>1651413688361432678</td><td>61.8259122</td><td>-36.5450507</td><td>-0.9800601</td><td>-0.014845030115992558</td></tr>\n",
       "<tr><td>...</td><td>...</td><td>...</td><td>...</td><td>...</td></tr>\n",
       "<tr><td>1651352115710274588</td><td>61.8798843</td><td>-36.7252104</td><td>58.2584465</td><td>0.8061040303551839</td></tr>\n",
       "<tr><td>1651352115710274500</td><td>61.9329034</td><td>-36.7313716</td><td>108.368752</td><td>1.5180076760412222</td></tr>\n",
       "<tr><td>1651352115710274517</td><td>61.7914298</td><td>-36.7297868</td><td>98.7490169</td><td>1.4713393531195933</td></tr>\n",
       "<tr><td>1651352115710274515</td><td>61.8408476</td><td>-36.7299902</td><td>249.792829</td><td>3.407374180538962</td></tr>\n",
       "<tr><td>1651352115710274513</td><td>61.9734372</td><td>-36.7304135</td><td>163.6678832</td><td>2.1727281133266416</td></tr>\n",
       "<tr><td>1651352115710274511</td><td>61.9095636</td><td>-36.7303973</td><td>67.4345529</td><td>0.9451214052688843</td></tr>\n",
       "<tr><td>1651352115710274509</td><td>61.8759326</td><td>-36.7307475</td><td>148.4074002</td><td>2.044240669280114</td></tr>\n",
       "<tr><td>1651352115710274507</td><td>61.981882</td><td>-36.7309943</td><td>118.762373</td><td>1.664817944027172</td></tr>\n",
       "<tr><td>1651352115710274501</td><td>61.9313695</td><td>-36.7311373</td><td>65.836979</td><td>0.9134660894853738</td></tr>\n",
       "<tr><td>1651352115710274499</td><td>61.916638</td><td>-36.7311634</td><td>29.7088883</td><td>0.4196496668804069</td></tr>\n",
       "</table></div>"
      ],
      "text/plain": [
       "<Table length=5000>\n",
       "      objectId       coord_ra   coord_dec   u_ap09Flux        ubandS2N      \n",
       "                       deg         deg         nJy                          \n",
       "       int64         float64     float64     float64           object       \n",
       "------------------- ---------- ----------- ----------- ---------------------\n",
       "1651413688361432675 61.9683169 -36.5458677 129.8071105    1.8820044580909516\n",
       "1651413688361432674 61.8607103 -36.5458751  24.7461712    0.3358382441578471\n",
       "1651413688361432673 61.8820737 -36.5460743   5.3881203   0.07711308436721988\n",
       "1651413688361432672  61.838656 -36.5459129  37.4895647    0.5456719779976915\n",
       "1651413688361432669 61.9169532 -36.5468863 -27.8402983   -0.3686051493357243\n",
       "1651413688361432668  61.845632 -36.5470106 -58.8446558   -0.8175252708028184\n",
       "1651413688361432676 61.7834028 -36.5453128 115.8229579    1.6794367064897746\n",
       "1651413688361432677 61.7997912 -36.5452765  -27.747789  -0.42210682049868475\n",
       "1651413688361432678 61.8259122 -36.5450507  -0.9800601 -0.014845030115992558\n",
       "                ...        ...         ...         ...                   ...\n",
       "1651352115710274588 61.8798843 -36.7252104  58.2584465    0.8061040303551839\n",
       "1651352115710274500 61.9329034 -36.7313716  108.368752    1.5180076760412222\n",
       "1651352115710274517 61.7914298 -36.7297868  98.7490169    1.4713393531195933\n",
       "1651352115710274515 61.8408476 -36.7299902  249.792829     3.407374180538962\n",
       "1651352115710274513 61.9734372 -36.7304135 163.6678832    2.1727281133266416\n",
       "1651352115710274511 61.9095636 -36.7303973  67.4345529    0.9451214052688843\n",
       "1651352115710274509 61.8759326 -36.7307475 148.4074002     2.044240669280114\n",
       "1651352115710274507  61.981882 -36.7309943  118.762373     1.664817944027172\n",
       "1651352115710274501 61.9313695 -36.7311373   65.836979    0.9134660894853738\n",
       "1651352115710274499  61.916638 -36.7311634  29.7088883    0.4196496668804069"
      ]
     },
     "execution_count": 6,
     "metadata": {},
     "output_type": "execute_result"
    }
   ],
   "source": [
    "\n",
    "query = \"SELECT TOP 5000 objectId, coord_ra, coord_dec, \" + \\\n",
    "        \"u_ap09Flux, \" + \\\n",
    "        \"u_ap09Flux/u_ap09FluxErr as ubandS2N \"\\\n",
    "        \"FROM dp02_dc2_catalogs.Object \" + \\\n",
    "        \"WHERE CONTAINS(POINT('ICRS', coord_ra, coord_dec), \" + \\\n",
    "        \"CIRCLE('ICRS', \" + center_coords + \", \" + radius + \")) = 1 \" + \\\n",
    "        \"AND detect_isPrimary = 1 AND detect_fromBlend = 0 \"\n",
    "\n",
    "results = service.search(query)\n",
    "\n",
    "results.to_table()"
   ]
  },
  {
   "cell_type": "code",
   "execution_count": 7,
   "id": "fe52da8d-08e7-43a8-83ea-ccfe32e1ec10",
   "metadata": {
    "execution": {
     "iopub.execute_input": "2024-02-02T21:33:22.988051Z",
     "iopub.status.busy": "2024-02-02T21:33:22.987846Z",
     "iopub.status.idle": "2024-02-02T21:33:23.382156Z",
     "shell.execute_reply": "2024-02-02T21:33:23.381040Z",
     "shell.execute_reply.started": "2024-02-02T21:33:22.988033Z"
    },
    "tags": []
   },
   "outputs": [
    {
     "ename": "TypeError",
     "evalue": "'<' not supported between instances of 'str' and 'int'",
     "output_type": "error",
     "traceback": [
      "\u001b[0;31m---------------------------------------------------------------------------\u001b[0m",
      "\u001b[0;31mTypeError\u001b[0m                                 Traceback (most recent call last)",
      "Cell \u001b[0;32mIn[7], line 3\u001b[0m\n\u001b[1;32m      1\u001b[0m \u001b[38;5;66;03m#  here, figure out where u-band flux is less then required S/N\u001b[39;00m\n\u001b[0;32m----> 3\u001b[0m whnondet \u001b[38;5;241m=\u001b[39m np\u001b[38;5;241m.\u001b[39mwhere(\u001b[43mresults\u001b[49m\u001b[43m[\u001b[49m\u001b[38;5;124;43m'\u001b[39;49m\u001b[38;5;124;43mubandS2N\u001b[39;49m\u001b[38;5;124;43m'\u001b[39;49m\u001b[43m]\u001b[49m\u001b[43m \u001b[49m\u001b[38;5;241;43m<\u001b[39;49m\u001b[43m \u001b[49m\u001b[38;5;241;43m3\u001b[39;49m)[\u001b[38;5;241m0\u001b[39m]\n",
      "File \u001b[0;32m/opt/lsst/software/stack/conda/miniconda3-py38_4.9.2/envs/lsst-scipipe-8.0.0/lib/python3.11/site-packages/numpy/ma/core.py:4185\u001b[0m, in \u001b[0;36mMaskedArray.__lt__\u001b[0;34m(self, other)\u001b[0m\n\u001b[1;32m   4184\u001b[0m \u001b[38;5;28;01mdef\u001b[39;00m \u001b[38;5;21m__lt__\u001b[39m(\u001b[38;5;28mself\u001b[39m, other):\n\u001b[0;32m-> 4185\u001b[0m     \u001b[38;5;28;01mreturn\u001b[39;00m \u001b[38;5;28;43mself\u001b[39;49m\u001b[38;5;241;43m.\u001b[39;49m\u001b[43m_comparison\u001b[49m\u001b[43m(\u001b[49m\u001b[43mother\u001b[49m\u001b[43m,\u001b[49m\u001b[43m \u001b[49m\u001b[43moperator\u001b[49m\u001b[38;5;241;43m.\u001b[39;49m\u001b[43mlt\u001b[49m\u001b[43m)\u001b[49m\n",
      "File \u001b[0;32m/opt/lsst/software/stack/conda/miniconda3-py38_4.9.2/envs/lsst-scipipe-8.0.0/lib/python3.11/site-packages/numpy/ma/core.py:4123\u001b[0m, in \u001b[0;36mMaskedArray._comparison\u001b[0;34m(self, other, compare)\u001b[0m\n\u001b[1;32m   4119\u001b[0m \u001b[38;5;28;01melse\u001b[39;00m:\n\u001b[1;32m   4120\u001b[0m     \u001b[38;5;66;03m# For regular arrays, just use the data as they come.\u001b[39;00m\n\u001b[1;32m   4121\u001b[0m     sdata \u001b[38;5;241m=\u001b[39m \u001b[38;5;28mself\u001b[39m\u001b[38;5;241m.\u001b[39mdata\n\u001b[0;32m-> 4123\u001b[0m check \u001b[38;5;241m=\u001b[39m \u001b[43mcompare\u001b[49m\u001b[43m(\u001b[49m\u001b[43msdata\u001b[49m\u001b[43m,\u001b[49m\u001b[43m \u001b[49m\u001b[43modata\u001b[49m\u001b[43m)\u001b[49m\n\u001b[1;32m   4125\u001b[0m \u001b[38;5;28;01mif\u001b[39;00m \u001b[38;5;28misinstance\u001b[39m(check, (np\u001b[38;5;241m.\u001b[39mbool_, \u001b[38;5;28mbool\u001b[39m)):\n\u001b[1;32m   4126\u001b[0m     \u001b[38;5;28;01mreturn\u001b[39;00m masked \u001b[38;5;28;01mif\u001b[39;00m mask \u001b[38;5;28;01melse\u001b[39;00m check\n",
      "\u001b[0;31mTypeError\u001b[0m: '<' not supported between instances of 'str' and 'int'"
     ]
    }
   ],
   "source": [
    "#  here, figure out where u-band flux is less then required S/N\n",
    "\n",
    "whnondet = np.where(results['ubandS2N'] < 3)[0]\n"
   ]
  },
  {
   "cell_type": "code",
   "execution_count": null,
   "id": "ed5b3f8d-e3ed-4149-9486-b98d3de4e746",
   "metadata": {},
   "outputs": [],
   "source": []
  }
 ],
 "metadata": {
  "kernelspec": {
   "display_name": "LSST",
   "language": "python",
   "name": "lsst"
  },
  "language_info": {
   "codemirror_mode": {
    "name": "ipython",
    "version": 3
   },
   "file_extension": ".py",
   "mimetype": "text/x-python",
   "name": "python",
   "nbconvert_exporter": "python",
   "pygments_lexer": "ipython3",
   "version": "3.11.7"
  },
  "toc-autonumbering": false
 },
 "nbformat": 4,
 "nbformat_minor": 5
}
