{
 "cells": [
  {
   "cell_type": "markdown",
   "id": "749b0ddf",
   "metadata": {},
   "source": [
    "## <img align=\"left\" src = https://project.lsst.org/sites/default/files/Rubin-O-Logo_0.png width=250 style=\"padding: 10px\"> \n",
    "<b>Using the image cutout tool with DP0.2</b> <br>\n",
    "Contact author(s): <i>Christina Williams</i> <br>\n",
    "Last verified to run: <i>2024-1-29</i> <br>\n",
    "LSST Science Piplines version: Weekly <i>2023_47</i> <br>\n",
    "Container Size: <i>medium</i> <br>\n",
    "Targeted learning level: <i>beginner</i> <br>"
   ]
  },
  {
   "cell_type": "code",
   "execution_count": 1,
   "id": "7acc79a4-8530-42d9-96e5-b7acb4397864",
   "metadata": {
    "execution": {
     "iopub.execute_input": "2024-02-02T22:38:01.598111Z",
     "iopub.status.busy": "2024-02-02T22:38:01.597856Z",
     "iopub.status.idle": "2024-02-02T22:38:01.601655Z",
     "shell.execute_reply": "2024-02-02T22:38:01.601054Z",
     "shell.execute_reply.started": "2024-02-02T22:38:01.598091Z"
    }
   },
   "outputs": [],
   "source": [
    "#%load_ext pycodestyle_magic\n",
    "#%flake8_on\n",
    "#import logging\n",
    "#logging.getLogger(\"flake8\").setLevel(logging.FATAL)"
   ]
  },
  {
   "cell_type": "markdown",
   "id": "9da1a210-d858-42fe-8591-570965b8be1a",
   "metadata": {},
   "source": [
    "**Description:** A demo of new search query behavior after bumping the recommended image to Weekly 2024 04 "
   ]
  },
  {
   "cell_type": "code",
   "execution_count": 2,
   "id": "cddc1458",
   "metadata": {
    "execution": {
     "iopub.execute_input": "2024-02-02T22:38:01.603081Z",
     "iopub.status.busy": "2024-02-02T22:38:01.602873Z",
     "iopub.status.idle": "2024-02-02T22:38:03.424457Z",
     "shell.execute_reply": "2024-02-02T22:38:03.423719Z",
     "shell.execute_reply.started": "2024-02-02T22:38:01.603064Z"
    },
    "tags": []
   },
   "outputs": [],
   "source": [
    "\n",
    "# Import general python packages\n",
    "import time\n",
    "import numpy as np\n",
    "\n",
    "# Science Pipelines imports\n",
    "from lsst.daf.butler import Butler, DatasetType, CollectionType\n",
    "import lsst.geom as geom\n",
    "import lsst.resources\n",
    "import lsst.afw.image as afwImage\n",
    "from lsst.afw.image import Exposure, ExposureF\n",
    "\n",
    "# Pandas tools for working with tables\n",
    "import pandas\n",
    "from pandas.testing import assert_frame_equal\n",
    "\n",
    "# Import the Rubin TAP service utilities\n",
    "from lsst.rsp import get_tap_service, retrieve_query\n",
    "\n",
    "# Astropy\n",
    "from astropy.coordinates import SkyCoord\n",
    "from astropy.visualization import ZScaleInterval, AsinhStretch\n",
    "from astropy.wcs import WCS\n"
   ]
  },
  {
   "cell_type": "markdown",
   "id": "c217adff-25ed-4fce-95e7-8aa04630f6cc",
   "metadata": {},
   "source": [
    "### 1.2 Define Functions and Parameters\n",
    "\n",
    "\n",
    "#### 1.2.1 Set up  plotting defaults for matplotlib."
   ]
  },
  {
   "cell_type": "code",
   "execution_count": 3,
   "id": "552c4cac-feca-4d51-a92f-87d5779a3300",
   "metadata": {
    "execution": {
     "iopub.execute_input": "2024-02-02T22:38:03.425913Z",
     "iopub.status.busy": "2024-02-02T22:38:03.425331Z",
     "iopub.status.idle": "2024-02-02T22:38:03.429274Z",
     "shell.execute_reply": "2024-02-02T22:38:03.428647Z",
     "shell.execute_reply.started": "2024-02-02T22:38:03.425882Z"
    },
    "tags": []
   },
   "outputs": [],
   "source": [
    "\n",
    "# Set the maximum number of rows to display from pandas\n",
    "pandas.set_option('display.max_rows', 20)\n"
   ]
  },
  {
   "cell_type": "code",
   "execution_count": 4,
   "id": "f632c1bc-44dd-4dff-9f29-3e63bf89428d",
   "metadata": {
    "execution": {
     "iopub.execute_input": "2024-02-02T22:38:03.430292Z",
     "iopub.status.busy": "2024-02-02T22:38:03.430024Z",
     "iopub.status.idle": "2024-02-02T22:38:03.503005Z",
     "shell.execute_reply": "2024-02-02T22:38:03.502271Z",
     "shell.execute_reply.started": "2024-02-02T22:38:03.430272Z"
    }
   },
   "outputs": [
    {
     "name": "stderr",
     "output_type": "stream",
     "text": [
      "/tmp/ipykernel_1715/1920553455.py:1: DeprecationWarning: get_tap_service() is deprecated, use get_tap_service(\"tap\")\n",
      "  service = get_tap_service()\n"
     ]
    }
   ],
   "source": [
    "service = get_tap_service()"
   ]
  },
  {
   "cell_type": "markdown",
   "id": "a47443c3-9455-4707-903f-59ba991cb014",
   "metadata": {},
   "source": [
    "First, define a point on the sky as the center of the image cutout. This example uses the galaxy cluster from DP0.3 Notebook Tutorial 03a. Once the RA and Dec are defined, we will create a SpherePoint class to define the location on the sky, that is then used to identify which Patch and Tract contains that location among the deepCoadd images.  "
   ]
  },
  {
   "cell_type": "code",
   "execution_count": 5,
   "id": "c5c745ad-3db2-47cc-b50b-5d0beae29a40",
   "metadata": {
    "execution": {
     "iopub.execute_input": "2024-02-02T22:38:03.504672Z",
     "iopub.status.busy": "2024-02-02T22:38:03.504440Z",
     "iopub.status.idle": "2024-02-02T22:38:03.507656Z",
     "shell.execute_reply": "2024-02-02T22:38:03.507111Z",
     "shell.execute_reply.started": "2024-02-02T22:38:03.504652Z"
    },
    "tags": []
   },
   "outputs": [],
   "source": [
    "center_coords = \"62, -37\"\n",
    "\n",
    "radius = \"0.5\"\n"
   ]
  },
  {
   "cell_type": "code",
   "execution_count": 6,
   "id": "2c3e8bae-e010-4b2e-b3fc-e688ebf42c5b",
   "metadata": {
    "execution": {
     "iopub.execute_input": "2024-02-02T22:38:03.508585Z",
     "iopub.status.busy": "2024-02-02T22:38:03.508377Z",
     "iopub.status.idle": "2024-02-02T22:38:06.122073Z",
     "shell.execute_reply": "2024-02-02T22:38:06.121338Z",
     "shell.execute_reply.started": "2024-02-02T22:38:03.508567Z"
    }
   },
   "outputs": [],
   "source": [
    "\n",
    "query = \"SELECT TOP 5000 objectId, coord_ra, coord_dec, \" + \\\n",
    "        \"u_ap09Flux, \" + \\\n",
    "        \"u_ap09Flux/u_ap09FluxErr as ubandS2N \"\\\n",
    "        \"FROM dp02_dc2_catalogs.Object \" + \\\n",
    "        \"WHERE CONTAINS(POINT('ICRS', coord_ra, coord_dec), \" + \\\n",
    "        \"CIRCLE('ICRS', \" + center_coords + \", \" + radius + \")) = 1 \" + \\\n",
    "        \"AND detect_isPrimary = 1 AND detect_fromBlend = 0 \"\n",
    "\n",
    "results = service.search(query)\n",
    "\n",
    "#results.to_table()"
   ]
  },
  {
   "cell_type": "code",
   "execution_count": 7,
   "id": "fe52da8d-08e7-43a8-83ea-ccfe32e1ec10",
   "metadata": {
    "execution": {
     "iopub.execute_input": "2024-02-02T22:38:06.123111Z",
     "iopub.status.busy": "2024-02-02T22:38:06.122910Z",
     "iopub.status.idle": "2024-02-02T22:38:06.774715Z",
     "shell.execute_reply": "2024-02-02T22:38:06.773952Z",
     "shell.execute_reply.started": "2024-02-02T22:38:06.123094Z"
    },
    "tags": []
   },
   "outputs": [
    {
     "ename": "TypeError",
     "evalue": "'<' not supported between instances of 'str' and 'int'",
     "output_type": "error",
     "traceback": [
      "\u001b[0;31m---------------------------------------------------------------------------\u001b[0m",
      "\u001b[0;31mTypeError\u001b[0m                                 Traceback (most recent call last)",
      "Cell \u001b[0;32mIn[7], line 3\u001b[0m\n\u001b[1;32m      1\u001b[0m \u001b[38;5;66;03m#  here, figure out where u-band flux is less then required S/N\u001b[39;00m\n\u001b[0;32m----> 3\u001b[0m whnondet \u001b[38;5;241m=\u001b[39m np\u001b[38;5;241m.\u001b[39mwhere(\u001b[43mresults\u001b[49m\u001b[43m[\u001b[49m\u001b[38;5;124;43m'\u001b[39;49m\u001b[38;5;124;43mubandS2N\u001b[39;49m\u001b[38;5;124;43m'\u001b[39;49m\u001b[43m]\u001b[49m\u001b[43m \u001b[49m\u001b[38;5;241;43m<\u001b[39;49m\u001b[43m \u001b[49m\u001b[38;5;241;43m3\u001b[39;49m)[\u001b[38;5;241m0\u001b[39m]\n",
      "File \u001b[0;32m/opt/lsst/software/stack/conda/miniconda3-py38_4.9.2/envs/lsst-scipipe-7.0.1/lib/python3.11/site-packages/numpy/ma/core.py:4185\u001b[0m, in \u001b[0;36mMaskedArray.__lt__\u001b[0;34m(self, other)\u001b[0m\n\u001b[1;32m   4184\u001b[0m \u001b[38;5;28;01mdef\u001b[39;00m \u001b[38;5;21m__lt__\u001b[39m(\u001b[38;5;28mself\u001b[39m, other):\n\u001b[0;32m-> 4185\u001b[0m     \u001b[38;5;28;01mreturn\u001b[39;00m \u001b[38;5;28;43mself\u001b[39;49m\u001b[38;5;241;43m.\u001b[39;49m\u001b[43m_comparison\u001b[49m\u001b[43m(\u001b[49m\u001b[43mother\u001b[49m\u001b[43m,\u001b[49m\u001b[43m \u001b[49m\u001b[43moperator\u001b[49m\u001b[38;5;241;43m.\u001b[39;49m\u001b[43mlt\u001b[49m\u001b[43m)\u001b[49m\n",
      "File \u001b[0;32m/opt/lsst/software/stack/conda/miniconda3-py38_4.9.2/envs/lsst-scipipe-7.0.1/lib/python3.11/site-packages/numpy/ma/core.py:4123\u001b[0m, in \u001b[0;36mMaskedArray._comparison\u001b[0;34m(self, other, compare)\u001b[0m\n\u001b[1;32m   4119\u001b[0m \u001b[38;5;28;01melse\u001b[39;00m:\n\u001b[1;32m   4120\u001b[0m     \u001b[38;5;66;03m# For regular arrays, just use the data as they come.\u001b[39;00m\n\u001b[1;32m   4121\u001b[0m     sdata \u001b[38;5;241m=\u001b[39m \u001b[38;5;28mself\u001b[39m\u001b[38;5;241m.\u001b[39mdata\n\u001b[0;32m-> 4123\u001b[0m check \u001b[38;5;241m=\u001b[39m \u001b[43mcompare\u001b[49m\u001b[43m(\u001b[49m\u001b[43msdata\u001b[49m\u001b[43m,\u001b[49m\u001b[43m \u001b[49m\u001b[43modata\u001b[49m\u001b[43m)\u001b[49m\n\u001b[1;32m   4125\u001b[0m \u001b[38;5;28;01mif\u001b[39;00m \u001b[38;5;28misinstance\u001b[39m(check, (np\u001b[38;5;241m.\u001b[39mbool_, \u001b[38;5;28mbool\u001b[39m)):\n\u001b[1;32m   4126\u001b[0m     \u001b[38;5;28;01mreturn\u001b[39;00m masked \u001b[38;5;28;01mif\u001b[39;00m mask \u001b[38;5;28;01melse\u001b[39;00m check\n",
      "\u001b[0;31mTypeError\u001b[0m: '<' not supported between instances of 'str' and 'int'"
     ]
    }
   ],
   "source": [
    "#  here, figure out where u-band flux is less then required S/N\n",
    "\n",
    "whnondet = np.where(results['ubandS2N'] < 3)[0]\n"
   ]
  },
  {
   "cell_type": "code",
   "execution_count": null,
   "id": "ed5b3f8d-e3ed-4149-9486-b98d3de4e746",
   "metadata": {},
   "outputs": [],
   "source": []
  }
 ],
 "metadata": {
  "kernelspec": {
   "display_name": "LSST",
   "language": "python",
   "name": "lsst"
  },
  "language_info": {
   "codemirror_mode": {
    "name": "ipython",
    "version": 3
   },
   "file_extension": ".py",
   "mimetype": "text/x-python",
   "name": "python",
   "nbconvert_exporter": "python",
   "pygments_lexer": "ipython3",
   "version": "3.11.4"
  },
  "toc-autonumbering": false
 },
 "nbformat": 4,
 "nbformat_minor": 5
}
