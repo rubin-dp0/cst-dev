{
 "cells": [
  {
   "cell_type": "markdown",
   "id": "749b0ddf",
   "metadata": {},
   "source": [
    "<img align=\"left\" src = https://project.lsst.org/sites/default/files/Rubin-O-Logo_0.png width=250 style=\"padding: 10px\"> \n",
    "<b>CET Template Notebook</b> <br>\n",
    "Contact author(s): <i>Author Name</i> <br>\n",
    "Last verified to run: <i>yyyy-mm-dd</i> <br>\n",
    "LSST Science Piplines version: Weekly <i>yyyy_xx</i> <br>\n",
    "Container Size: <i>medium</i> <br>\n",
    "Targeted learning level: <i>beginner</i> <br>"
   ]
  },
  {
   "cell_type": "markdown",
   "id": "2d9cd09b-d5c4-4610-993b-711bdc9bd80e",
   "metadata": {},
   "source": [
    "_In this template, text in italics are examples or instructions that should be: (a) removed if it is not applicable to the notebook; or (b) replaced with text that is appropriate for the notebook. But bold or regular text should appear pretty much as-is in all CET notebooks. For more information, see the [CET's Guidelines for Tutorial Notebooks](https://confluence.lsstcorp.org/pages/viewpage.action?pageId=168857070)._"
   ]
  },
  {
   "cell_type": "markdown",
   "id": "582ab507-a7ae-4024-95c9-38aabeb602a6",
   "metadata": {},
   "source": [
    "_While developing, use the following code cell to check that the code conforms to standards, but then delete the cell and \"Kernel --> Restart Kernel and Clear All Outputs\" before saving and committing._"
   ]
  },
  {
   "cell_type": "code",
   "execution_count": 1,
   "id": "7acc79a4-8530-42d9-96e5-b7acb4397864",
   "metadata": {
    "execution": {
     "iopub.execute_input": "2023-06-28T17:54:30.395053Z",
     "iopub.status.busy": "2023-06-28T17:54:30.394817Z",
     "iopub.status.idle": "2023-06-28T17:54:30.435427Z",
     "shell.execute_reply": "2023-06-28T17:54:30.434535Z",
     "shell.execute_reply.started": "2023-06-28T17:54:30.395031Z"
    }
   },
   "outputs": [],
   "source": [
    "%load_ext pycodestyle_magic\n",
    "%flake8_on\n",
    "import logging\n",
    "logging.getLogger(\"flake8\").setLevel(logging.FATAL)"
   ]
  },
  {
   "cell_type": "markdown",
   "id": "482777d8-0a8d-432e-ba53-2da536700407",
   "metadata": {},
   "source": [
    "_The six cells below are considered the extended header of the notebook. The first four will be used, verbatim, to create the table of notebook metadata in the README.md file for the repository._"
   ]
  },
  {
   "cell_type": "markdown",
   "id": "9da1a210-d858-42fe-8591-570965b8be1a",
   "metadata": {},
   "source": [
    "**Description:** _Very brief description of notebook._"
   ]
  },
  {
   "cell_type": "markdown",
   "id": "80a0baf5-51ad-40ec-8991-060a7b27c289",
   "metadata": {},
   "source": [
    "**Skills:** _Brief list of skills to match the README.md file for the repository._"
   ]
  },
  {
   "cell_type": "markdown",
   "id": "393da88f-7978-4920-aa4a-a9830df6eed9",
   "metadata": {},
   "source": [
    "**LSST Data Products:** _List the all of the types of LSST catalogs and images used._"
   ]
  },
  {
   "cell_type": "markdown",
   "id": "5c67fab9-136a-4adc-bb42-142b91ab69dd",
   "metadata": {},
   "source": [
    "**Packages:** _List the python packages used._ (_List the packages being taught first, e.g., afwDisplay for a notebook about displaying images. Then supporting packages, e.g., lsst.daf.butler for a notebook about displaying images. It is OK to leave out basic support packages like os or glob.)_"
   ]
  },
  {
   "cell_type": "markdown",
   "id": "8f72b27f",
   "metadata": {},
   "source": [
    "**Credit:**\n",
    "_E.g., \"Originally developed by\" or \"Based on notebooks developed by\" and then people's names, including journal article or software release citations if appropriate._\n",
    "Please consider acknowledging them if this notebook is used for the preparation of journal articles, software releases, or other notebooks."
   ]
  },
  {
   "cell_type": "markdown",
   "id": "28e91cbf-ab7f-4e26-9276-b00299d6065e",
   "metadata": {},
   "source": [
    "**Get Support:**\n",
    "Find DP0-related documentation and resources at <a href=\"https://dp0-2.lsst.io\">dp0-2.lsst.io</a>. Questions are welcome as new topics in the <a href=\"https://community.lsst.org/c/support/dp0\">Support - Data Preview 0 Category</a> of the Rubin Community Forum. Rubin staff will respond to all questions posted there."
   ]
  },
  {
   "cell_type": "markdown",
   "id": "cfc73be0",
   "metadata": {},
   "source": [
    "## 1. Introduction\n",
    "\n",
    "_Provide a light narrative about this notebook, e.g., \"This notebook will teach the user...\"._\n",
    "\n",
    "_Cite or link to any external information or documentation, and cross-reference to other notebooks._"
   ]
  },
  {
   "cell_type": "markdown",
   "id": "dc36f107",
   "metadata": {},
   "source": [
    "### 1.1 Package Imports\n",
    "\n",
    "_All package imports should be done in the first code cell._\n",
    "\n",
    "_Provide explanation or external links to package documentation, where appropriate._\n",
    "\n",
    "_E.g., Numpy is a fundamental package for scientific computing with arrays in Python (<a href=\"https://numpy.org\">numpy.org</a>)._\n",
    "\n",
    "_Use code cell comments to describe the packages being imported._"
   ]
  },
  {
   "cell_type": "code",
   "execution_count": 2,
   "id": "cddc1458",
   "metadata": {
    "execution": {
     "iopub.execute_input": "2023-06-28T17:54:30.439027Z",
     "iopub.status.busy": "2023-06-28T17:54:30.438808Z",
     "iopub.status.idle": "2023-06-28T17:54:32.492508Z",
     "shell.execute_reply": "2023-06-28T17:54:32.491702Z",
     "shell.execute_reply.started": "2023-06-28T17:54:30.439006Z"
    }
   },
   "outputs": [
    {
     "data": {
      "text/html": [
       "<pre style=\"margin: 0.1em;\n",
       "padding-left: 0.25em;\n",
       "border-left-style: solid;\n",
       "font-family: var(--jp-code-font-family);\n",
       "font-size: var(--jp-code-font-size);\n",
       "line-height: var(--jp-code-line-height);\n",
       "\"><span style=\"color: var(--jp-warn-color2)\">pycodestyle</span> <span style=\"color: var(--jp-info-color0)\">INFO</span>: 7:1: E402 module level import not at top of file</pre>"
      ],
      "text/plain": [
       "<IPython.core.display.HTML object>"
      ]
     },
     "metadata": {},
     "output_type": "display_data"
    },
    {
     "data": {
      "text/html": [
       "<pre style=\"margin: 0.1em;\n",
       "padding-left: 0.25em;\n",
       "border-left-style: solid;\n",
       "font-family: var(--jp-code-font-family);\n",
       "font-size: var(--jp-code-font-size);\n",
       "line-height: var(--jp-code-line-height);\n",
       "\"><span style=\"color: var(--jp-warn-color2)\">pycodestyle</span> <span style=\"color: var(--jp-info-color0)\">INFO</span>: 10:1: E402 module level import not at top of file</pre>"
      ],
      "text/plain": [
       "<IPython.core.display.HTML object>"
      ]
     },
     "metadata": {},
     "output_type": "display_data"
    },
    {
     "data": {
      "text/html": [
       "<pre style=\"margin: 0.1em;\n",
       "padding-left: 0.25em;\n",
       "border-left-style: solid;\n",
       "font-family: var(--jp-code-font-family);\n",
       "font-size: var(--jp-code-font-size);\n",
       "line-height: var(--jp-code-line-height);\n",
       "\"><span style=\"color: var(--jp-warn-color2)\">pycodestyle</span> <span style=\"color: var(--jp-info-color0)\">INFO</span>: 13:1: E402 module level import not at top of file</pre>"
      ],
      "text/plain": [
       "<IPython.core.display.HTML object>"
      ]
     },
     "metadata": {},
     "output_type": "display_data"
    },
    {
     "data": {
      "text/html": [
       "<pre style=\"margin: 0.1em;\n",
       "padding-left: 0.25em;\n",
       "border-left-style: solid;\n",
       "font-family: var(--jp-code-font-family);\n",
       "font-size: var(--jp-code-font-size);\n",
       "line-height: var(--jp-code-line-height);\n",
       "\"><span style=\"color: var(--jp-warn-color2)\">pycodestyle</span> <span style=\"color: var(--jp-info-color0)\">INFO</span>: 15:1: E402 module level import not at top of file</pre>"
      ],
      "text/plain": [
       "<IPython.core.display.HTML object>"
      ]
     },
     "metadata": {},
     "output_type": "display_data"
    }
   ],
   "source": [
    "# general python packages\n",
    "import numpy as np\n",
    "import matplotlib.pyplot as plt\n",
    "plt.style.use('tableau-colorblind10')\n",
    "\n",
    "# LSST package for TAP queries\n",
    "from lsst.rsp import get_tap_service, retrieve_query\n",
    "\n",
    "# LSST package for Butler queries\n",
    "import lsst.daf.butler as dafButler\n",
    "\n",
    "# LSST package for image display\n",
    "import lsst.afw.display as afwDisplay\n",
    "\n",
    "from matplotlib import colormaps\n",
    "\n"
   ]
  },
  {
   "cell_type": "markdown",
   "id": "c217adff-25ed-4fce-95e7-8aa04630f6cc",
   "metadata": {},
   "source": [
    "### 1.2 Define Functions and Parameters\n",
    "\n",
    "Import some functions from Pedro"
   ]
  },
  {
   "cell_type": "code",
   "execution_count": 3,
   "id": "37d86162-8557-4f65-9813-ec46818466a9",
   "metadata": {
    "execution": {
     "iopub.execute_input": "2023-06-28T17:54:32.497596Z",
     "iopub.status.busy": "2023-06-28T17:54:32.497327Z",
     "iopub.status.idle": "2023-06-28T17:54:32.882744Z",
     "shell.execute_reply": "2023-06-28T17:54:32.881884Z",
     "shell.execute_reply.started": "2023-06-28T17:54:32.497572Z"
    },
    "tags": []
   },
   "outputs": [
    {
     "data": {
      "text/html": [
       "<pre style=\"margin: 0.1em;\n",
       "padding-left: 0.25em;\n",
       "border-left-style: solid;\n",
       "font-family: var(--jp-code-font-family);\n",
       "font-size: var(--jp-code-font-size);\n",
       "line-height: var(--jp-code-line-height);\n",
       "\"><span style=\"color: var(--jp-warn-color2)\">pycodestyle</span> <span style=\"color: var(--jp-info-color0)\">INFO</span>: 1:19: W291 trailing whitespace</pre>"
      ],
      "text/plain": [
       "<IPython.core.display.HTML object>"
      ]
     },
     "metadata": {},
     "output_type": "display_data"
    },
    {
     "data": {
      "text/html": [
       "<pre style=\"margin: 0.1em;\n",
       "padding-left: 0.25em;\n",
       "border-left-style: solid;\n",
       "font-family: var(--jp-code-font-family);\n",
       "font-size: var(--jp-code-font-size);\n",
       "line-height: var(--jp-code-line-height);\n",
       "\"><span style=\"color: var(--jp-warn-color2)\">pycodestyle</span> <span style=\"color: var(--jp-info-color0)\">INFO</span>: 4:1: E265 block comment should start with &#x27;# &#x27;</pre>"
      ],
      "text/plain": [
       "<IPython.core.display.HTML object>"
      ]
     },
     "metadata": {},
     "output_type": "display_data"
    },
    {
     "data": {
      "text/html": [
       "<pre style=\"margin: 0.1em;\n",
       "padding-left: 0.25em;\n",
       "border-left-style: solid;\n",
       "font-family: var(--jp-code-font-family);\n",
       "font-size: var(--jp-code-font-size);\n",
       "line-height: var(--jp-code-line-height);\n",
       "\"><span style=\"color: var(--jp-warn-color2)\">pycodestyle</span> <span style=\"color: var(--jp-info-color0)\">INFO</span>: 10:1: E265 block comment should start with &#x27;# &#x27;</pre>"
      ],
      "text/plain": [
       "<IPython.core.display.HTML object>"
      ]
     },
     "metadata": {},
     "output_type": "display_data"
    },
    {
     "data": {
      "text/html": [
       "<pre style=\"margin: 0.1em;\n",
       "padding-left: 0.25em;\n",
       "border-left-style: solid;\n",
       "font-family: var(--jp-code-font-family);\n",
       "font-size: var(--jp-code-font-size);\n",
       "line-height: var(--jp-code-line-height);\n",
       "\"><span style=\"color: var(--jp-warn-color2)\">pycodestyle</span> <span style=\"color: var(--jp-info-color0)\">INFO</span>: 14:80: E501 line too long (89 &gt; 79 characters)</pre>"
      ],
      "text/plain": [
       "<IPython.core.display.HTML object>"
      ]
     },
     "metadata": {},
     "output_type": "display_data"
    },
    {
     "data": {
      "text/html": [
       "<pre style=\"margin: 0.1em;\n",
       "padding-left: 0.25em;\n",
       "border-left-style: solid;\n",
       "font-family: var(--jp-code-font-family);\n",
       "font-size: var(--jp-code-font-size);\n",
       "line-height: var(--jp-code-line-height);\n",
       "\"><span style=\"color: var(--jp-warn-color2)\">pycodestyle</span> <span style=\"color: var(--jp-info-color0)\">INFO</span>: 17:80: E501 line too long (90 &gt; 79 characters)</pre>"
      ],
      "text/plain": [
       "<IPython.core.display.HTML object>"
      ]
     },
     "metadata": {},
     "output_type": "display_data"
    },
    {
     "data": {
      "text/html": [
       "<pre style=\"margin: 0.1em;\n",
       "padding-left: 0.25em;\n",
       "border-left-style: solid;\n",
       "font-family: var(--jp-code-font-family);\n",
       "font-size: var(--jp-code-font-size);\n",
       "line-height: var(--jp-code-line-height);\n",
       "\"><span style=\"color: var(--jp-warn-color2)\">pycodestyle</span> <span style=\"color: var(--jp-info-color0)\">INFO</span>: 22:80: E501 line too long (117 &gt; 79 characters)</pre>"
      ],
      "text/plain": [
       "<IPython.core.display.HTML object>"
      ]
     },
     "metadata": {},
     "output_type": "display_data"
    },
    {
     "data": {
      "text/html": [
       "<pre style=\"margin: 0.1em;\n",
       "padding-left: 0.25em;\n",
       "border-left-style: solid;\n",
       "font-family: var(--jp-code-font-family);\n",
       "font-size: var(--jp-code-font-size);\n",
       "line-height: var(--jp-code-line-height);\n",
       "\"><span style=\"color: var(--jp-warn-color2)\">pycodestyle</span> <span style=\"color: var(--jp-info-color0)\">INFO</span>: 26:52: E231 missing whitespace after &#x27;,&#x27;</pre>"
      ],
      "text/plain": [
       "<IPython.core.display.HTML object>"
      ]
     },
     "metadata": {},
     "output_type": "display_data"
    },
    {
     "data": {
      "text/html": [
       "<pre style=\"margin: 0.1em;\n",
       "padding-left: 0.25em;\n",
       "border-left-style: solid;\n",
       "font-family: var(--jp-code-font-family);\n",
       "font-size: var(--jp-code-font-size);\n",
       "line-height: var(--jp-code-line-height);\n",
       "\"><span style=\"color: var(--jp-warn-color2)\">pycodestyle</span> <span style=\"color: var(--jp-info-color0)\">INFO</span>: 26:69: E231 missing whitespace after &#x27;,&#x27;</pre>"
      ],
      "text/plain": [
       "<IPython.core.display.HTML object>"
      ]
     },
     "metadata": {},
     "output_type": "display_data"
    },
    {
     "data": {
      "text/html": [
       "<pre style=\"margin: 0.1em;\n",
       "padding-left: 0.25em;\n",
       "border-left-style: solid;\n",
       "font-family: var(--jp-code-font-family);\n",
       "font-size: var(--jp-code-font-size);\n",
       "line-height: var(--jp-code-line-height);\n",
       "\"><span style=\"color: var(--jp-warn-color2)\">pycodestyle</span> <span style=\"color: var(--jp-info-color0)\">INFO</span>: 26:72: E231 missing whitespace after &#x27;,&#x27;</pre>"
      ],
      "text/plain": [
       "<IPython.core.display.HTML object>"
      ]
     },
     "metadata": {},
     "output_type": "display_data"
    },
    {
     "data": {
      "text/html": [
       "<pre style=\"margin: 0.1em;\n",
       "padding-left: 0.25em;\n",
       "border-left-style: solid;\n",
       "font-family: var(--jp-code-font-family);\n",
       "font-size: var(--jp-code-font-size);\n",
       "line-height: var(--jp-code-line-height);\n",
       "\"><span style=\"color: var(--jp-warn-color2)\">pycodestyle</span> <span style=\"color: var(--jp-info-color0)\">INFO</span>: 26:80: E501 line too long (90 &gt; 79 characters)</pre>"
      ],
      "text/plain": [
       "<IPython.core.display.HTML object>"
      ]
     },
     "metadata": {},
     "output_type": "display_data"
    },
    {
     "data": {
      "text/html": [
       "<pre style=\"margin: 0.1em;\n",
       "padding-left: 0.25em;\n",
       "border-left-style: solid;\n",
       "font-family: var(--jp-code-font-family);\n",
       "font-size: var(--jp-code-font-size);\n",
       "line-height: var(--jp-code-line-height);\n",
       "\"><span style=\"color: var(--jp-warn-color2)\">pycodestyle</span> <span style=\"color: var(--jp-info-color0)\">INFO</span>: 27:52: E231 missing whitespace after &#x27;,&#x27;</pre>"
      ],
      "text/plain": [
       "<IPython.core.display.HTML object>"
      ]
     },
     "metadata": {},
     "output_type": "display_data"
    },
    {
     "data": {
      "text/html": [
       "<pre style=\"margin: 0.1em;\n",
       "padding-left: 0.25em;\n",
       "border-left-style: solid;\n",
       "font-family: var(--jp-code-font-family);\n",
       "font-size: var(--jp-code-font-size);\n",
       "line-height: var(--jp-code-line-height);\n",
       "\"><span style=\"color: var(--jp-warn-color2)\">pycodestyle</span> <span style=\"color: var(--jp-info-color0)\">INFO</span>: 27:69: E231 missing whitespace after &#x27;,&#x27;</pre>"
      ],
      "text/plain": [
       "<IPython.core.display.HTML object>"
      ]
     },
     "metadata": {},
     "output_type": "display_data"
    },
    {
     "data": {
      "text/html": [
       "<pre style=\"margin: 0.1em;\n",
       "padding-left: 0.25em;\n",
       "border-left-style: solid;\n",
       "font-family: var(--jp-code-font-family);\n",
       "font-size: var(--jp-code-font-size);\n",
       "line-height: var(--jp-code-line-height);\n",
       "\"><span style=\"color: var(--jp-warn-color2)\">pycodestyle</span> <span style=\"color: var(--jp-info-color0)\">INFO</span>: 27:72: E231 missing whitespace after &#x27;,&#x27;</pre>"
      ],
      "text/plain": [
       "<IPython.core.display.HTML object>"
      ]
     },
     "metadata": {},
     "output_type": "display_data"
    },
    {
     "data": {
      "text/html": [
       "<pre style=\"margin: 0.1em;\n",
       "padding-left: 0.25em;\n",
       "border-left-style: solid;\n",
       "font-family: var(--jp-code-font-family);\n",
       "font-size: var(--jp-code-font-size);\n",
       "line-height: var(--jp-code-line-height);\n",
       "\"><span style=\"color: var(--jp-warn-color2)\">pycodestyle</span> <span style=\"color: var(--jp-info-color0)\">INFO</span>: 27:80: E501 line too long (90 &gt; 79 characters)</pre>"
      ],
      "text/plain": [
       "<IPython.core.display.HTML object>"
      ]
     },
     "metadata": {},
     "output_type": "display_data"
    },
    {
     "data": {
      "text/html": [
       "<pre style=\"margin: 0.1em;\n",
       "padding-left: 0.25em;\n",
       "border-left-style: solid;\n",
       "font-family: var(--jp-code-font-family);\n",
       "font-size: var(--jp-code-font-size);\n",
       "line-height: var(--jp-code-line-height);\n",
       "\"><span style=\"color: var(--jp-warn-color2)\">pycodestyle</span> <span style=\"color: var(--jp-info-color0)\">INFO</span>: 28:51: E231 missing whitespace after &#x27;,&#x27;</pre>"
      ],
      "text/plain": [
       "<IPython.core.display.HTML object>"
      ]
     },
     "metadata": {},
     "output_type": "display_data"
    },
    {
     "data": {
      "text/html": [
       "<pre style=\"margin: 0.1em;\n",
       "padding-left: 0.25em;\n",
       "border-left-style: solid;\n",
       "font-family: var(--jp-code-font-family);\n",
       "font-size: var(--jp-code-font-size);\n",
       "line-height: var(--jp-code-line-height);\n",
       "\"><span style=\"color: var(--jp-warn-color2)\">pycodestyle</span> <span style=\"color: var(--jp-info-color0)\">INFO</span>: 28:68: E231 missing whitespace after &#x27;,&#x27;</pre>"
      ],
      "text/plain": [
       "<IPython.core.display.HTML object>"
      ]
     },
     "metadata": {},
     "output_type": "display_data"
    },
    {
     "data": {
      "text/html": [
       "<pre style=\"margin: 0.1em;\n",
       "padding-left: 0.25em;\n",
       "border-left-style: solid;\n",
       "font-family: var(--jp-code-font-family);\n",
       "font-size: var(--jp-code-font-size);\n",
       "line-height: var(--jp-code-line-height);\n",
       "\"><span style=\"color: var(--jp-warn-color2)\">pycodestyle</span> <span style=\"color: var(--jp-info-color0)\">INFO</span>: 28:71: E231 missing whitespace after &#x27;,&#x27;</pre>"
      ],
      "text/plain": [
       "<IPython.core.display.HTML object>"
      ]
     },
     "metadata": {},
     "output_type": "display_data"
    },
    {
     "data": {
      "text/html": [
       "<pre style=\"margin: 0.1em;\n",
       "padding-left: 0.25em;\n",
       "border-left-style: solid;\n",
       "font-family: var(--jp-code-font-family);\n",
       "font-size: var(--jp-code-font-size);\n",
       "line-height: var(--jp-code-line-height);\n",
       "\"><span style=\"color: var(--jp-warn-color2)\">pycodestyle</span> <span style=\"color: var(--jp-info-color0)\">INFO</span>: 28:80: E501 line too long (89 &gt; 79 characters)</pre>"
      ],
      "text/plain": [
       "<IPython.core.display.HTML object>"
      ]
     },
     "metadata": {},
     "output_type": "display_data"
    },
    {
     "data": {
      "text/html": [
       "<pre style=\"margin: 0.1em;\n",
       "padding-left: 0.25em;\n",
       "border-left-style: solid;\n",
       "font-family: var(--jp-code-font-family);\n",
       "font-size: var(--jp-code-font-size);\n",
       "line-height: var(--jp-code-line-height);\n",
       "\"><span style=\"color: var(--jp-warn-color2)\">pycodestyle</span> <span style=\"color: var(--jp-info-color0)\">INFO</span>: 34:42: W291 trailing whitespace</pre>"
      ],
      "text/plain": [
       "<IPython.core.display.HTML object>"
      ]
     },
     "metadata": {},
     "output_type": "display_data"
    },
    {
     "data": {
      "text/html": [
       "<pre style=\"margin: 0.1em;\n",
       "padding-left: 0.25em;\n",
       "border-left-style: solid;\n",
       "font-family: var(--jp-code-font-family);\n",
       "font-size: var(--jp-code-font-size);\n",
       "line-height: var(--jp-code-line-height);\n",
       "\"><span style=\"color: var(--jp-warn-color2)\">pycodestyle</span> <span style=\"color: var(--jp-info-color0)\">INFO</span>: 38:1: W293 blank line contains whitespace</pre>"
      ],
      "text/plain": [
       "<IPython.core.display.HTML object>"
      ]
     },
     "metadata": {},
     "output_type": "display_data"
    },
    {
     "data": {
      "text/html": [
       "<pre style=\"margin: 0.1em;\n",
       "padding-left: 0.25em;\n",
       "border-left-style: solid;\n",
       "font-family: var(--jp-code-font-family);\n",
       "font-size: var(--jp-code-font-size);\n",
       "line-height: var(--jp-code-line-height);\n",
       "\"><span style=\"color: var(--jp-warn-color2)\">pycodestyle</span> <span style=\"color: var(--jp-info-color0)\">INFO</span>: 39:41: W291 trailing whitespace</pre>"
      ],
      "text/plain": [
       "<IPython.core.display.HTML object>"
      ]
     },
     "metadata": {},
     "output_type": "display_data"
    },
    {
     "data": {
      "text/html": [
       "<pre style=\"margin: 0.1em;\n",
       "padding-left: 0.25em;\n",
       "border-left-style: solid;\n",
       "font-family: var(--jp-code-font-family);\n",
       "font-size: var(--jp-code-font-size);\n",
       "line-height: var(--jp-code-line-height);\n",
       "\"><span style=\"color: var(--jp-warn-color2)\">pycodestyle</span> <span style=\"color: var(--jp-info-color0)\">INFO</span>: 41:1: W293 blank line contains whitespace</pre>"
      ],
      "text/plain": [
       "<IPython.core.display.HTML object>"
      ]
     },
     "metadata": {},
     "output_type": "display_data"
    },
    {
     "data": {
      "text/html": [
       "<pre style=\"margin: 0.1em;\n",
       "padding-left: 0.25em;\n",
       "border-left-style: solid;\n",
       "font-family: var(--jp-code-font-family);\n",
       "font-size: var(--jp-code-font-size);\n",
       "line-height: var(--jp-code-line-height);\n",
       "\"><span style=\"color: var(--jp-warn-color2)\">pycodestyle</span> <span style=\"color: var(--jp-info-color0)\">INFO</span>: 44:1: W293 blank line contains whitespace</pre>"
      ],
      "text/plain": [
       "<IPython.core.display.HTML object>"
      ]
     },
     "metadata": {},
     "output_type": "display_data"
    },
    {
     "data": {
      "text/html": [
       "<pre style=\"margin: 0.1em;\n",
       "padding-left: 0.25em;\n",
       "border-left-style: solid;\n",
       "font-family: var(--jp-code-font-family);\n",
       "font-size: var(--jp-code-font-size);\n",
       "line-height: var(--jp-code-line-height);\n",
       "\"><span style=\"color: var(--jp-warn-color2)\">pycodestyle</span> <span style=\"color: var(--jp-info-color0)\">INFO</span>: 47:1: W293 blank line contains whitespace</pre>"
      ],
      "text/plain": [
       "<IPython.core.display.HTML object>"
      ]
     },
     "metadata": {},
     "output_type": "display_data"
    },
    {
     "data": {
      "text/html": [
       "<pre style=\"margin: 0.1em;\n",
       "padding-left: 0.25em;\n",
       "border-left-style: solid;\n",
       "font-family: var(--jp-code-font-family);\n",
       "font-size: var(--jp-code-font-size);\n",
       "line-height: var(--jp-code-line-height);\n",
       "\"><span style=\"color: var(--jp-warn-color2)\">pycodestyle</span> <span style=\"color: var(--jp-info-color0)\">INFO</span>: 50:50: E225 missing whitespace around operator</pre>"
      ],
      "text/plain": [
       "<IPython.core.display.HTML object>"
      ]
     },
     "metadata": {},
     "output_type": "display_data"
    },
    {
     "data": {
      "text/html": [
       "<pre style=\"margin: 0.1em;\n",
       "padding-left: 0.25em;\n",
       "border-left-style: solid;\n",
       "font-family: var(--jp-code-font-family);\n",
       "font-size: var(--jp-code-font-size);\n",
       "line-height: var(--jp-code-line-height);\n",
       "\"><span style=\"color: var(--jp-warn-color2)\">pycodestyle</span> <span style=\"color: var(--jp-info-color0)\">INFO</span>: 50:80: W291 trailing whitespace</pre>"
      ],
      "text/plain": [
       "<IPython.core.display.HTML object>"
      ]
     },
     "metadata": {},
     "output_type": "display_data"
    },
    {
     "data": {
      "text/html": [
       "<pre style=\"margin: 0.1em;\n",
       "padding-left: 0.25em;\n",
       "border-left-style: solid;\n",
       "font-family: var(--jp-code-font-family);\n",
       "font-size: var(--jp-code-font-size);\n",
       "line-height: var(--jp-code-line-height);\n",
       "\"><span style=\"color: var(--jp-warn-color2)\">pycodestyle</span> <span style=\"color: var(--jp-info-color0)\">INFO</span>: 54:1: E303 too many blank lines (3)</pre>"
      ],
      "text/plain": [
       "<IPython.core.display.HTML object>"
      ]
     },
     "metadata": {},
     "output_type": "display_data"
    },
    {
     "data": {
      "text/html": [
       "<pre style=\"margin: 0.1em;\n",
       "padding-left: 0.25em;\n",
       "border-left-style: solid;\n",
       "font-family: var(--jp-code-font-family);\n",
       "font-size: var(--jp-code-font-size);\n",
       "line-height: var(--jp-code-line-height);\n",
       "\"><span style=\"color: var(--jp-warn-color2)\">pycodestyle</span> <span style=\"color: var(--jp-info-color0)\">INFO</span>: 56:80: E501 line too long (100 &gt; 79 characters)</pre>"
      ],
      "text/plain": [
       "<IPython.core.display.HTML object>"
      ]
     },
     "metadata": {},
     "output_type": "display_data"
    },
    {
     "data": {
      "text/html": [
       "<pre style=\"margin: 0.1em;\n",
       "padding-left: 0.25em;\n",
       "border-left-style: solid;\n",
       "font-family: var(--jp-code-font-family);\n",
       "font-size: var(--jp-code-font-size);\n",
       "line-height: var(--jp-code-line-height);\n",
       "\"><span style=\"color: var(--jp-warn-color2)\">pycodestyle</span> <span style=\"color: var(--jp-info-color0)\">INFO</span>: 57:80: E501 line too long (106 &gt; 79 characters)</pre>"
      ],
      "text/plain": [
       "<IPython.core.display.HTML object>"
      ]
     },
     "metadata": {},
     "output_type": "display_data"
    },
    {
     "data": {
      "text/html": [
       "<pre style=\"margin: 0.1em;\n",
       "padding-left: 0.25em;\n",
       "border-left-style: solid;\n",
       "font-family: var(--jp-code-font-family);\n",
       "font-size: var(--jp-code-font-size);\n",
       "line-height: var(--jp-code-line-height);\n",
       "\"><span style=\"color: var(--jp-warn-color2)\">pycodestyle</span> <span style=\"color: var(--jp-info-color0)\">INFO</span>: 60:5: F841 local variable &#x27;tan_ah&#x27; is assigned to but never used</pre>"
      ],
      "text/plain": [
       "<IPython.core.display.HTML object>"
      ]
     },
     "metadata": {},
     "output_type": "display_data"
    },
    {
     "data": {
      "text/html": [
       "<pre style=\"margin: 0.1em;\n",
       "padding-left: 0.25em;\n",
       "border-left-style: solid;\n",
       "font-family: var(--jp-code-font-family);\n",
       "font-size: var(--jp-code-font-size);\n",
       "line-height: var(--jp-code-line-height);\n",
       "\"><span style=\"color: var(--jp-warn-color2)\">pycodestyle</span> <span style=\"color: var(--jp-info-color0)\">INFO</span>: 62:28: W291 trailing whitespace</pre>"
      ],
      "text/plain": [
       "<IPython.core.display.HTML object>"
      ]
     },
     "metadata": {},
     "output_type": "display_data"
    },
    {
     "data": {
      "text/html": [
       "<pre style=\"margin: 0.1em;\n",
       "padding-left: 0.25em;\n",
       "border-left-style: solid;\n",
       "font-family: var(--jp-code-font-family);\n",
       "font-size: var(--jp-code-font-size);\n",
       "line-height: var(--jp-code-line-height);\n",
       "\"><span style=\"color: var(--jp-warn-color2)\">pycodestyle</span> <span style=\"color: var(--jp-info-color0)\">INFO</span>: 63:28: W291 trailing whitespace</pre>"
      ],
      "text/plain": [
       "<IPython.core.display.HTML object>"
      ]
     },
     "metadata": {},
     "output_type": "display_data"
    },
    {
     "data": {
      "text/html": [
       "<pre style=\"margin: 0.1em;\n",
       "padding-left: 0.25em;\n",
       "border-left-style: solid;\n",
       "font-family: var(--jp-code-font-family);\n",
       "font-size: var(--jp-code-font-size);\n",
       "line-height: var(--jp-code-line-height);\n",
       "\"><span style=\"color: var(--jp-warn-color2)\">pycodestyle</span> <span style=\"color: var(--jp-info-color0)\">INFO</span>: 64:28: W291 trailing whitespace</pre>"
      ],
      "text/plain": [
       "<IPython.core.display.HTML object>"
      ]
     },
     "metadata": {},
     "output_type": "display_data"
    },
    {
     "data": {
      "text/html": [
       "<pre style=\"margin: 0.1em;\n",
       "padding-left: 0.25em;\n",
       "border-left-style: solid;\n",
       "font-family: var(--jp-code-font-family);\n",
       "font-size: var(--jp-code-font-size);\n",
       "line-height: var(--jp-code-line-height);\n",
       "\"><span style=\"color: var(--jp-warn-color2)\">pycodestyle</span> <span style=\"color: var(--jp-info-color0)\">INFO</span>: 68:41: W291 trailing whitespace</pre>"
      ],
      "text/plain": [
       "<IPython.core.display.HTML object>"
      ]
     },
     "metadata": {},
     "output_type": "display_data"
    },
    {
     "data": {
      "text/html": [
       "<pre style=\"margin: 0.1em;\n",
       "padding-left: 0.25em;\n",
       "border-left-style: solid;\n",
       "font-family: var(--jp-code-font-family);\n",
       "font-size: var(--jp-code-font-size);\n",
       "line-height: var(--jp-code-line-height);\n",
       "\"><span style=\"color: var(--jp-warn-color2)\">pycodestyle</span> <span style=\"color: var(--jp-info-color0)\">INFO</span>: 69:22: E225 missing whitespace around operator</pre>"
      ],
      "text/plain": [
       "<IPython.core.display.HTML object>"
      ]
     },
     "metadata": {},
     "output_type": "display_data"
    },
    {
     "data": {
      "text/html": [
       "<pre style=\"margin: 0.1em;\n",
       "padding-left: 0.25em;\n",
       "border-left-style: solid;\n",
       "font-family: var(--jp-code-font-family);\n",
       "font-size: var(--jp-code-font-size);\n",
       "line-height: var(--jp-code-line-height);\n",
       "\"><span style=\"color: var(--jp-warn-color2)\">pycodestyle</span> <span style=\"color: var(--jp-info-color0)\">INFO</span>: 74:5: E303 too many blank lines (2)</pre>"
      ],
      "text/plain": [
       "<IPython.core.display.HTML object>"
      ]
     },
     "metadata": {},
     "output_type": "display_data"
    },
    {
     "data": {
      "text/html": [
       "<pre style=\"margin: 0.1em;\n",
       "padding-left: 0.25em;\n",
       "border-left-style: solid;\n",
       "font-family: var(--jp-code-font-family);\n",
       "font-size: var(--jp-code-font-size);\n",
       "line-height: var(--jp-code-line-height);\n",
       "\"><span style=\"color: var(--jp-warn-color2)\">pycodestyle</span> <span style=\"color: var(--jp-info-color0)\">INFO</span>: 74:80: E501 line too long (119 &gt; 79 characters)</pre>"
      ],
      "text/plain": [
       "<IPython.core.display.HTML object>"
      ]
     },
     "metadata": {},
     "output_type": "display_data"
    },
    {
     "data": {
      "text/html": [
       "<pre style=\"margin: 0.1em;\n",
       "padding-left: 0.25em;\n",
       "border-left-style: solid;\n",
       "font-family: var(--jp-code-font-family);\n",
       "font-size: var(--jp-code-font-size);\n",
       "line-height: var(--jp-code-line-height);\n",
       "\"><span style=\"color: var(--jp-warn-color2)\">pycodestyle</span> <span style=\"color: var(--jp-info-color0)\">INFO</span>: 76:1: E302 expected 2 blank lines, found 1</pre>"
      ],
      "text/plain": [
       "<IPython.core.display.HTML object>"
      ]
     },
     "metadata": {},
     "output_type": "display_data"
    },
    {
     "data": {
      "text/html": [
       "<pre style=\"margin: 0.1em;\n",
       "padding-left: 0.25em;\n",
       "border-left-style: solid;\n",
       "font-family: var(--jp-code-font-family);\n",
       "font-size: var(--jp-code-font-size);\n",
       "line-height: var(--jp-code-line-height);\n",
       "\"><span style=\"color: var(--jp-warn-color2)\">pycodestyle</span> <span style=\"color: var(--jp-info-color0)\">INFO</span>: 76:31: W291 trailing whitespace</pre>"
      ],
      "text/plain": [
       "<IPython.core.display.HTML object>"
      ]
     },
     "metadata": {},
     "output_type": "display_data"
    },
    {
     "data": {
      "text/html": [
       "<pre style=\"margin: 0.1em;\n",
       "padding-left: 0.25em;\n",
       "border-left-style: solid;\n",
       "font-family: var(--jp-code-font-family);\n",
       "font-size: var(--jp-code-font-size);\n",
       "line-height: var(--jp-code-line-height);\n",
       "\"><span style=\"color: var(--jp-warn-color2)\">pycodestyle</span> <span style=\"color: var(--jp-info-color0)\">INFO</span>: 79:80: E501 line too long (89 &gt; 79 characters)</pre>"
      ],
      "text/plain": [
       "<IPython.core.display.HTML object>"
      ]
     },
     "metadata": {},
     "output_type": "display_data"
    },
    {
     "data": {
      "text/html": [
       "<pre style=\"margin: 0.1em;\n",
       "padding-left: 0.25em;\n",
       "border-left-style: solid;\n",
       "font-family: var(--jp-code-font-family);\n",
       "font-size: var(--jp-code-font-size);\n",
       "line-height: var(--jp-code-line-height);\n",
       "\"><span style=\"color: var(--jp-warn-color2)\">pycodestyle</span> <span style=\"color: var(--jp-info-color0)\">INFO</span>: 80:80: E501 line too long (96 &gt; 79 characters)</pre>"
      ],
      "text/plain": [
       "<IPython.core.display.HTML object>"
      ]
     },
     "metadata": {},
     "output_type": "display_data"
    },
    {
     "data": {
      "text/html": [
       "<pre style=\"margin: 0.1em;\n",
       "padding-left: 0.25em;\n",
       "border-left-style: solid;\n",
       "font-family: var(--jp-code-font-family);\n",
       "font-size: var(--jp-code-font-size);\n",
       "line-height: var(--jp-code-line-height);\n",
       "\"><span style=\"color: var(--jp-warn-color2)\">pycodestyle</span> <span style=\"color: var(--jp-info-color0)\">INFO</span>: 83:41: W291 trailing whitespace</pre>"
      ],
      "text/plain": [
       "<IPython.core.display.HTML object>"
      ]
     },
     "metadata": {},
     "output_type": "display_data"
    },
    {
     "data": {
      "text/html": [
       "<pre style=\"margin: 0.1em;\n",
       "padding-left: 0.25em;\n",
       "border-left-style: solid;\n",
       "font-family: var(--jp-code-font-family);\n",
       "font-size: var(--jp-code-font-size);\n",
       "line-height: var(--jp-code-line-height);\n",
       "\"><span style=\"color: var(--jp-warn-color2)\">pycodestyle</span> <span style=\"color: var(--jp-info-color0)\">INFO</span>: 86:41: W291 trailing whitespace</pre>"
      ],
      "text/plain": [
       "<IPython.core.display.HTML object>"
      ]
     },
     "metadata": {},
     "output_type": "display_data"
    },
    {
     "data": {
      "text/html": [
       "<pre style=\"margin: 0.1em;\n",
       "padding-left: 0.25em;\n",
       "border-left-style: solid;\n",
       "font-family: var(--jp-code-font-family);\n",
       "font-size: var(--jp-code-font-size);\n",
       "line-height: var(--jp-code-line-height);\n",
       "\"><span style=\"color: var(--jp-warn-color2)\">pycodestyle</span> <span style=\"color: var(--jp-info-color0)\">INFO</span>: 91:1: E302 expected 2 blank lines, found 1</pre>"
      ],
      "text/plain": [
       "<IPython.core.display.HTML object>"
      ]
     },
     "metadata": {},
     "output_type": "display_data"
    },
    {
     "data": {
      "text/html": [
       "<pre style=\"margin: 0.1em;\n",
       "padding-left: 0.25em;\n",
       "border-left-style: solid;\n",
       "font-family: var(--jp-code-font-family);\n",
       "font-size: var(--jp-code-font-size);\n",
       "line-height: var(--jp-code-line-height);\n",
       "\"><span style=\"color: var(--jp-warn-color2)\">pycodestyle</span> <span style=\"color: var(--jp-info-color0)\">INFO</span>: 95:1: E302 expected 2 blank lines, found 1</pre>"
      ],
      "text/plain": [
       "<IPython.core.display.HTML object>"
      ]
     },
     "metadata": {},
     "output_type": "display_data"
    },
    {
     "data": {
      "text/html": [
       "<pre style=\"margin: 0.1em;\n",
       "padding-left: 0.25em;\n",
       "border-left-style: solid;\n",
       "font-family: var(--jp-code-font-family);\n",
       "font-size: var(--jp-code-font-size);\n",
       "line-height: var(--jp-code-line-height);\n",
       "\"><span style=\"color: var(--jp-warn-color2)\">pycodestyle</span> <span style=\"color: var(--jp-info-color0)\">INFO</span>: 99:5: E303 too many blank lines (2)</pre>"
      ],
      "text/plain": [
       "<IPython.core.display.HTML object>"
      ]
     },
     "metadata": {},
     "output_type": "display_data"
    },
    {
     "data": {
      "text/html": [
       "<pre style=\"margin: 0.1em;\n",
       "padding-left: 0.25em;\n",
       "border-left-style: solid;\n",
       "font-family: var(--jp-code-font-family);\n",
       "font-size: var(--jp-code-font-size);\n",
       "line-height: var(--jp-code-line-height);\n",
       "\"><span style=\"color: var(--jp-warn-color2)\">pycodestyle</span> <span style=\"color: var(--jp-info-color0)\">INFO</span>: 99:43: E241 multiple spaces after &#x27;,&#x27;</pre>"
      ],
      "text/plain": [
       "<IPython.core.display.HTML object>"
      ]
     },
     "metadata": {},
     "output_type": "display_data"
    },
    {
     "data": {
      "text/html": [
       "<pre style=\"margin: 0.1em;\n",
       "padding-left: 0.25em;\n",
       "border-left-style: solid;\n",
       "font-family: var(--jp-code-font-family);\n",
       "font-size: var(--jp-code-font-size);\n",
       "line-height: var(--jp-code-line-height);\n",
       "\"><span style=\"color: var(--jp-warn-color2)\">pycodestyle</span> <span style=\"color: var(--jp-info-color0)\">INFO</span>: 99:80: E501 line too long (91 &gt; 79 characters)</pre>"
      ],
      "text/plain": [
       "<IPython.core.display.HTML object>"
      ]
     },
     "metadata": {},
     "output_type": "display_data"
    },
    {
     "data": {
      "text/html": [
       "<pre style=\"margin: 0.1em;\n",
       "padding-left: 0.25em;\n",
       "border-left-style: solid;\n",
       "font-family: var(--jp-code-font-family);\n",
       "font-size: var(--jp-code-font-size);\n",
       "line-height: var(--jp-code-line-height);\n",
       "\"><span style=\"color: var(--jp-warn-color2)\">pycodestyle</span> <span style=\"color: var(--jp-info-color0)\">INFO</span>: 99:84: E251 unexpected spaces around keyword / parameter equals</pre>"
      ],
      "text/plain": [
       "<IPython.core.display.HTML object>"
      ]
     },
     "metadata": {},
     "output_type": "display_data"
    },
    {
     "data": {
      "text/html": [
       "<pre style=\"margin: 0.1em;\n",
       "padding-left: 0.25em;\n",
       "border-left-style: solid;\n",
       "font-family: var(--jp-code-font-family);\n",
       "font-size: var(--jp-code-font-size);\n",
       "line-height: var(--jp-code-line-height);\n",
       "\"><span style=\"color: var(--jp-warn-color2)\">pycodestyle</span> <span style=\"color: var(--jp-info-color0)\">INFO</span>: 99:86: E251 unexpected spaces around keyword / parameter equals</pre>"
      ],
      "text/plain": [
       "<IPython.core.display.HTML object>"
      ]
     },
     "metadata": {},
     "output_type": "display_data"
    }
   ],
   "source": [
    "import numpy as np \n",
    "from scipy.interpolate import CubicSpline\n",
    "from scipy.optimize import leastsq\n",
    "#Constants\n",
    "\n",
    "A = [3.332, 1.862]\n",
    "B = [0.631, 1.218]\n",
    "C = [0.986, 0.238]\n",
    "\n",
    "#values taken from sbpy for convenience\n",
    "\n",
    "alpha_12 = np.deg2rad([7.5, 30., 60, 90, 120, 150])\n",
    "\n",
    "phi_1_sp = [7.5e-1, 3.3486016e-1, 1.3410560e-1, 5.1104756e-2, 2.1465687e-2, 3.6396989e-3]\n",
    "phi_1_derivs = [-1.9098593, -9.1328612e-2]\n",
    "\n",
    "phi_2_sp = [9.25e-1, 6.2884169e-1, 3.1755495e-1, 1.2716367e-1, 2.2373903e-2, 1.6505689e-4]\n",
    "phi_2_derivs = [-5.7295780e-1, -8.6573138e-8]\n",
    "\n",
    "alpha_3 = np.deg2rad([0.0, 0.3, 1., 2., 4., 8., 12., 20., 30.])\n",
    "\n",
    "phi_3_sp = [1., 8.3381185e-1, 5.7735424e-1, 4.2144772e-1, 2.3174230e-1, 1.0348178e-1, 6.1733473e-2, 1.6107006e-2, 0.]\n",
    "phi_3_derivs = [-1.0630097, 0]\n",
    "\n",
    "\n",
    "phi_1 = CubicSpline(alpha_12, phi_1_sp, bc_type=((1,phi_1_derivs[0]),(1,phi_1_derivs[1])))\n",
    "phi_2 = CubicSpline(alpha_12, phi_2_sp, bc_type=((1,phi_2_derivs[0]),(1,phi_2_derivs[1])))\n",
    "phi_3 = CubicSpline(alpha_3, phi_3_sp, bc_type=((1,phi_3_derivs[0]),(1,phi_3_derivs[1])))\n",
    "\n",
    "\n",
    "def HG_model(phase, params):\n",
    "    \"\"\"\n",
    "    Reference: Bowell et al. (1989)\n",
    "    This is the oldest 2 parameter model. \n",
    "    \"\"\"\n",
    "    sin_a = np.sin(phase)\n",
    "    tan_ah = np.tan(phase/2)\n",
    "    \n",
    "    W = np.exp(-90.56 * tan_ah * tan_ah)    \n",
    "    scale_sina = sin_a/(0.119 + 1.341*sin_a - 0.754*sin_a*sin_a)\n",
    "    \n",
    "    phi_1_S = 1 - C[0] * scale_sina\n",
    "    phi_2_S = 1 - C[1] * scale_sina\n",
    "    \n",
    "    phi_1_L = np.exp(-A[0] * np.power(tan_ah, B[0]))\n",
    "    phi_2_L = np.exp(-A[1] * np.power(tan_ah, B[1]))\n",
    "    \n",
    "    phi_1 = W * phi_1_S + (1-W) * phi_1_L\n",
    "    phi_2 = W * phi_2_S + (1-W) * phi_2_L\n",
    "    return params[0] - 2.5*np.log10((1-params[1])* phi_1 + (params[1]) * phi_2) \n",
    "\n",
    "\n",
    "\n",
    "def HG1G2_model(phase, params):\n",
    "    \"\"\"\n",
    "    Reference: Muinonen et al. (2010) https://ui.adsabs.harvard.edu/abs/2010Icar..209..542M/abstract\n",
    "    This is the 3 parameter model, which works best when you have a sufficiently long phaseangle coverage.\n",
    "    \"\"\"\n",
    "\n",
    "    tan_ah = np.tan(phase/2)\n",
    "\n",
    "    phi_1_ev = phi_1(phase)  \n",
    "    phi_2_ev = phi_2(phase)  \n",
    "    phi_3_ev = phi_3(phase)  \n",
    "\n",
    "    msk = phase < 7.5 * np.pi/180\n",
    "\n",
    "    phi_1_ev[msk] = 1-6*phase[msk]/np.pi \n",
    "    phi_2_ev[msk] = 1- 9 * phase[msk]/(5*np.pi)\n",
    "\n",
    "    phi_3_ev[phase > np.pi/6] = 0\n",
    "\n",
    "\n",
    "    return params[0] - 2.5 * np.log10(params[1] * phi_1_ev + params[2] * phi_2_ev + (1-params[1]-params[2]) * phi_3_ev)\n",
    "\n",
    "def HG12_model(phase, params): \n",
    "    \"\"\"\n",
    "    Reference:\n",
    "    Muinonen et al. (2010) https://ui.adsabs.harvard.edu/abs/2010Icar..209..542M/abstract\n",
    "    This is a simplified version of HG1G2. It's more useful when phaseangle coverage is shorter.\n",
    "    \"\"\"\n",
    "    if params[1] >= 0.2:\n",
    "        G1 = +0.9529*params[1] + 0.02162 \n",
    "        G2 = -0.6125*params[1] + 0.5572\n",
    "    else:\n",
    "        G1 = +0.7527*params[1] + 0.06164  \n",
    "        G2 = -0.9612*params[1] + 0.6270\n",
    "\n",
    "    return HG1G2_model(phase, [params[0], G1, G2])\n",
    "\n",
    "def chi2(params, mag, phase, mag_err, model):\n",
    "    pred = model(phase, params)\n",
    "    return (mag - pred)/mag_err\n",
    "\n",
    "def fit(mag, phase, sigma, model=HG12_model, params=[0.1]):\n",
    "    phase = np.deg2rad(phase)\n",
    "\n",
    "\n",
    "    sol = leastsq(chi2, [mag[0]] + params,  (mag, phase, sigma, model), full_output = True)\n",
    "\n",
    "    return sol\n",
    "\n",
    "\n"
   ]
  },
  {
   "cell_type": "code",
   "execution_count": 4,
   "id": "5cdf1dd4-10b7-4c1f-8f4f-b4ab252822a6",
   "metadata": {
    "execution": {
     "iopub.execute_input": "2023-06-28T17:54:32.886831Z",
     "iopub.status.busy": "2023-06-28T17:54:32.886496Z",
     "iopub.status.idle": "2023-06-28T17:54:33.049736Z",
     "shell.execute_reply": "2023-06-28T17:54:33.049037Z",
     "shell.execute_reply.started": "2023-06-28T17:54:32.886808Z"
    },
    "tags": []
   },
   "outputs": [
    {
     "data": {
      "text/html": [
       "<pre style=\"margin: 0.1em;\n",
       "padding-left: 0.25em;\n",
       "border-left-style: solid;\n",
       "font-family: var(--jp-code-font-family);\n",
       "font-size: var(--jp-code-font-size);\n",
       "line-height: var(--jp-code-line-height);\n",
       "\"><span style=\"color: var(--jp-warn-color2)\">pycodestyle</span> <span style=\"color: var(--jp-info-color0)\">INFO</span>: 7:5: E265 block comment should start with &#x27;# &#x27;</pre>"
      ],
      "text/plain": [
       "<IPython.core.display.HTML object>"
      ]
     },
     "metadata": {},
     "output_type": "display_data"
    },
    {
     "data": {
      "text/html": [
       "<pre style=\"margin: 0.1em;\n",
       "padding-left: 0.25em;\n",
       "border-left-style: solid;\n",
       "font-family: var(--jp-code-font-family);\n",
       "font-size: var(--jp-code-font-size);\n",
       "line-height: var(--jp-code-line-height);\n",
       "\"><span style=\"color: var(--jp-warn-color2)\">pycodestyle</span> <span style=\"color: var(--jp-info-color0)\">INFO</span>: 8:5: E265 block comment should start with &#x27;# &#x27;</pre>"
      ],
      "text/plain": [
       "<IPython.core.display.HTML object>"
      ]
     },
     "metadata": {},
     "output_type": "display_data"
    },
    {
     "data": {
      "text/html": [
       "<pre style=\"margin: 0.1em;\n",
       "padding-left: 0.25em;\n",
       "border-left-style: solid;\n",
       "font-family: var(--jp-code-font-family);\n",
       "font-size: var(--jp-code-font-size);\n",
       "line-height: var(--jp-code-line-height);\n",
       "\"><span style=\"color: var(--jp-warn-color2)\">pycodestyle</span> <span style=\"color: var(--jp-info-color0)\">INFO</span>: 10:80: E501 line too long (115 &gt; 79 characters)</pre>"
      ],
      "text/plain": [
       "<IPython.core.display.HTML object>"
      ]
     },
     "metadata": {},
     "output_type": "display_data"
    },
    {
     "data": {
      "text/html": [
       "<pre style=\"margin: 0.1em;\n",
       "padding-left: 0.25em;\n",
       "border-left-style: solid;\n",
       "font-family: var(--jp-code-font-family);\n",
       "font-size: var(--jp-code-font-size);\n",
       "line-height: var(--jp-code-line-height);\n",
       "\"><span style=\"color: var(--jp-warn-color2)\">pycodestyle</span> <span style=\"color: var(--jp-info-color0)\">INFO</span>: 13:5: E265 block comment should start with &#x27;# &#x27;</pre>"
      ],
      "text/plain": [
       "<IPython.core.display.HTML object>"
      ]
     },
     "metadata": {},
     "output_type": "display_data"
    },
    {
     "data": {
      "text/html": [
       "<pre style=\"margin: 0.1em;\n",
       "padding-left: 0.25em;\n",
       "border-left-style: solid;\n",
       "font-family: var(--jp-code-font-family);\n",
       "font-size: var(--jp-code-font-size);\n",
       "line-height: var(--jp-code-line-height);\n",
       "\"><span style=\"color: var(--jp-warn-color2)\">pycodestyle</span> <span style=\"color: var(--jp-info-color0)\">INFO</span>: 21:51: E231 missing whitespace after &#x27;,&#x27;</pre>"
      ],
      "text/plain": [
       "<IPython.core.display.HTML object>"
      ]
     },
     "metadata": {},
     "output_type": "display_data"
    },
    {
     "data": {
      "text/html": [
       "<pre style=\"margin: 0.1em;\n",
       "padding-left: 0.25em;\n",
       "border-left-style: solid;\n",
       "font-family: var(--jp-code-font-family);\n",
       "font-size: var(--jp-code-font-size);\n",
       "line-height: var(--jp-code-line-height);\n",
       "\"><span style=\"color: var(--jp-warn-color2)\">pycodestyle</span> <span style=\"color: var(--jp-info-color0)\">INFO</span>: 22:51: E231 missing whitespace after &#x27;,&#x27;</pre>"
      ],
      "text/plain": [
       "<IPython.core.display.HTML object>"
      ]
     },
     "metadata": {},
     "output_type": "display_data"
    },
    {
     "data": {
      "text/html": [
       "<pre style=\"margin: 0.1em;\n",
       "padding-left: 0.25em;\n",
       "border-left-style: solid;\n",
       "font-family: var(--jp-code-font-family);\n",
       "font-size: var(--jp-code-font-size);\n",
       "line-height: var(--jp-code-line-height);\n",
       "\"><span style=\"color: var(--jp-warn-color2)\">pycodestyle</span> <span style=\"color: var(--jp-info-color0)\">INFO</span>: 24:1: W293 blank line contains whitespace</pre>"
      ],
      "text/plain": [
       "<IPython.core.display.HTML object>"
      ]
     },
     "metadata": {},
     "output_type": "display_data"
    },
    {
     "data": {
      "text/html": [
       "<pre style=\"margin: 0.1em;\n",
       "padding-left: 0.25em;\n",
       "border-left-style: solid;\n",
       "font-family: var(--jp-code-font-family);\n",
       "font-size: var(--jp-code-font-size);\n",
       "line-height: var(--jp-code-line-height);\n",
       "\"><span style=\"color: var(--jp-warn-color2)\">pycodestyle</span> <span style=\"color: var(--jp-info-color0)\">INFO</span>: 26:5: E303 too many blank lines (2)</pre>"
      ],
      "text/plain": [
       "<IPython.core.display.HTML object>"
      ]
     },
     "metadata": {},
     "output_type": "display_data"
    },
    {
     "data": {
      "text/html": [
       "<pre style=\"margin: 0.1em;\n",
       "padding-left: 0.25em;\n",
       "border-left-style: solid;\n",
       "font-family: var(--jp-code-font-family);\n",
       "font-size: var(--jp-code-font-size);\n",
       "line-height: var(--jp-code-line-height);\n",
       "\"><span style=\"color: var(--jp-warn-color2)\">pycodestyle</span> <span style=\"color: var(--jp-info-color0)\">INFO</span>: 34:55: E231 missing whitespace after &#x27;,&#x27;</pre>"
      ],
      "text/plain": [
       "<IPython.core.display.HTML object>"
      ]
     },
     "metadata": {},
     "output_type": "display_data"
    },
    {
     "data": {
      "text/html": [
       "<pre style=\"margin: 0.1em;\n",
       "padding-left: 0.25em;\n",
       "border-left-style: solid;\n",
       "font-family: var(--jp-code-font-family);\n",
       "font-size: var(--jp-code-font-size);\n",
       "line-height: var(--jp-code-line-height);\n",
       "\"><span style=\"color: var(--jp-warn-color2)\">pycodestyle</span> <span style=\"color: var(--jp-info-color0)\">INFO</span>: 35:57: E231 missing whitespace after &#x27;,&#x27;</pre>"
      ],
      "text/plain": [
       "<IPython.core.display.HTML object>"
      ]
     },
     "metadata": {},
     "output_type": "display_data"
    },
    {
     "data": {
      "text/html": [
       "<pre style=\"margin: 0.1em;\n",
       "padding-left: 0.25em;\n",
       "border-left-style: solid;\n",
       "font-family: var(--jp-code-font-family);\n",
       "font-size: var(--jp-code-font-size);\n",
       "line-height: var(--jp-code-line-height);\n",
       "\"><span style=\"color: var(--jp-warn-color2)\">pycodestyle</span> <span style=\"color: var(--jp-info-color0)\">INFO</span>: 41:80: E501 line too long (84 &gt; 79 characters)</pre>"
      ],
      "text/plain": [
       "<IPython.core.display.HTML object>"
      ]
     },
     "metadata": {},
     "output_type": "display_data"
    },
    {
     "data": {
      "text/html": [
       "<pre style=\"margin: 0.1em;\n",
       "padding-left: 0.25em;\n",
       "border-left-style: solid;\n",
       "font-family: var(--jp-code-font-family);\n",
       "font-size: var(--jp-code-font-size);\n",
       "line-height: var(--jp-code-line-height);\n",
       "\"><span style=\"color: var(--jp-warn-color2)\">pycodestyle</span> <span style=\"color: var(--jp-info-color0)\">INFO</span>: 49:57: E231 missing whitespace after &#x27;,&#x27;</pre>"
      ],
      "text/plain": [
       "<IPython.core.display.HTML object>"
      ]
     },
     "metadata": {},
     "output_type": "display_data"
    },
    {
     "data": {
      "text/html": [
       "<pre style=\"margin: 0.1em;\n",
       "padding-left: 0.25em;\n",
       "border-left-style: solid;\n",
       "font-family: var(--jp-code-font-family);\n",
       "font-size: var(--jp-code-font-size);\n",
       "line-height: var(--jp-code-line-height);\n",
       "\"><span style=\"color: var(--jp-warn-color2)\">pycodestyle</span> <span style=\"color: var(--jp-info-color0)\">INFO</span>: 50:58: E231 missing whitespace after &#x27;,&#x27;</pre>"
      ],
      "text/plain": [
       "<IPython.core.display.HTML object>"
      ]
     },
     "metadata": {},
     "output_type": "display_data"
    },
    {
     "data": {
      "text/html": [
       "<pre style=\"margin: 0.1em;\n",
       "padding-left: 0.25em;\n",
       "border-left-style: solid;\n",
       "font-family: var(--jp-code-font-family);\n",
       "font-size: var(--jp-code-font-size);\n",
       "line-height: var(--jp-code-line-height);\n",
       "\"><span style=\"color: var(--jp-warn-color2)\">pycodestyle</span> <span style=\"color: var(--jp-info-color0)\">INFO</span>: 51:58: E231 missing whitespace after &#x27;,&#x27;</pre>"
      ],
      "text/plain": [
       "<IPython.core.display.HTML object>"
      ]
     },
     "metadata": {},
     "output_type": "display_data"
    }
   ],
   "source": [
    "def fit_models(mag, magSigma, phaseAngle, tdist, rdist):\n",
    "\n",
    "    # correct the mag to 1AU distance\n",
    "    dmag = -5. * np.log10(tdist*rdist)\n",
    "    mag = mag + dmag\n",
    "\n",
    "    #double check if this is needed\n",
    "    #phaseAngle = np.deg2rad(phaseAngle)\n",
    "\n",
    "    # now we'll fit using each one of the HG, HG12 and HG1G2 models and store these in a dictionary of dictionaries\n",
    "    solutions = {}\n",
    "\n",
    "    #Let's do HG first\n",
    "    sol_HG = fit(mag, phaseAngle, magSigma, model=HG_model)\n",
    "\n",
    "    solutions['HG'] = {}\n",
    "\n",
    "    solutions['HG']['chi2'] = np.sum(sol_HG[2]['fvec']**2)\n",
    "    solutions['HG']['H'] = sol_HG[0][0]\n",
    "    solutions['HG']['G'] = sol_HG[0][1]\n",
    "    solutions['HG']['H_err'] = np.sqrt(sol_HG[1][0,0])\n",
    "    solutions['HG']['G_err'] = np.sqrt(sol_HG[1][1,1])\n",
    "    solutions['HG']['cov'] = sol_HG[1]\n",
    "            \n",
    "\n",
    "    # now HG12\n",
    "    sol_HG12 = fit(mag, phaseAngle, magSigma, model=HG12_model)\n",
    "\n",
    "    solutions['HG12'] = {}\n",
    "\n",
    "    solutions['HG12']['chi2'] = np.sum(sol_HG12[2]['fvec']**2)\n",
    "    solutions['HG12']['H'] = sol_HG12[0][0]\n",
    "    solutions['HG12']['G12'] = sol_HG12[0][1]\n",
    "    solutions['HG12']['H_err'] = np.sqrt(sol_HG12[1][0,0])\n",
    "    solutions['HG12']['G12_err'] = np.sqrt(sol_HG12[1][1,1])\n",
    "    solutions['HG12']['cov'] = sol_HG12[1]\n",
    "\n",
    "    # finally, HG1G2 - note this returns an extra parameter\n",
    "\n",
    "    # now HG12, let's tell the code we need that extra parameter\n",
    "    sol_HG1G2 = fit(mag, phaseAngle, magSigma, model=HG1G2_model, params=[0.1, 0.1])\n",
    "\n",
    "    solutions['HG1G2'] = {}\n",
    "\n",
    "    solutions['HG1G2']['chi2'] = np.sum(sol_HG1G2[2]['fvec']**2)\n",
    "    solutions['HG1G2']['H'] = sol_HG1G2[0][0]\n",
    "    solutions['HG1G2']['G1'] = sol_HG1G2[0][1]\n",
    "    solutions['HG1G2']['G2'] = sol_HG1G2[0][1]\n",
    "    solutions['HG1G2']['H_err'] = np.sqrt(sol_HG1G2[1][0,0])\n",
    "    solutions['HG1G2']['G1_err'] = np.sqrt(sol_HG1G2[1][1,1])\n",
    "    solutions['HG1G2']['G2_err'] = np.sqrt(sol_HG1G2[1][2,2])\n",
    "\n",
    "    solutions['HG1G2']['cov'] = sol_HG1G2[1]\n",
    "    return solutions"
   ]
  },
  {
   "cell_type": "markdown",
   "id": "ec51ac0b",
   "metadata": {
    "tags": []
   },
   "source": [
    "## 2. Section Heading\n",
    "\n",
    "_Use numbers for sections, sub-sections, and sub-sub-sections to enable referencing, e.g., \"I'm having trouble with the second code cell in Section 2.3.\"_\n",
    "\n",
    "_Use section titles that actively describe what is being done, e.g., \"Create a color-magnitude diagram\" instead of \"Plot\", so that the auto-generated table of contents is easy to navigate._\n",
    "\n",
    "### 2.1 Section Sub-heading\n",
    "\n",
    "#### 2.1.1 Section Sub-sub-heading"
   ]
  },
  {
   "cell_type": "code",
   "execution_count": 5,
   "id": "81b8cd59-1ba3-4eaa-846f-6478ed0c3cf5",
   "metadata": {
    "execution": {
     "iopub.execute_input": "2023-06-28T17:54:33.053776Z",
     "iopub.status.busy": "2023-06-28T17:54:33.053525Z",
     "iopub.status.idle": "2023-06-28T17:54:33.233249Z",
     "shell.execute_reply": "2023-06-28T17:54:33.232471Z",
     "shell.execute_reply.started": "2023-06-28T17:54:33.053756Z"
    },
    "tags": []
   },
   "outputs": [
    {
     "data": {
      "text/html": [
       "<pre style=\"margin: 0.1em;\n",
       "padding-left: 0.25em;\n",
       "border-left-style: solid;\n",
       "font-family: var(--jp-code-font-family);\n",
       "font-size: var(--jp-code-font-size);\n",
       "line-height: var(--jp-code-line-height);\n",
       "\"><span style=\"color: var(--jp-warn-color2)\">pycodestyle</span> <span style=\"color: var(--jp-info-color0)\">INFO</span>: 3:49: W291 trailing whitespace</pre>"
      ],
      "text/plain": [
       "<IPython.core.display.HTML object>"
      ]
     },
     "metadata": {},
     "output_type": "display_data"
    },
    {
     "data": {
      "text/html": [
       "<pre style=\"margin: 0.1em;\n",
       "padding-left: 0.25em;\n",
       "border-left-style: solid;\n",
       "font-family: var(--jp-code-font-family);\n",
       "font-size: var(--jp-code-font-size);\n",
       "line-height: var(--jp-code-line-height);\n",
       "\"><span style=\"color: var(--jp-warn-color2)\">pycodestyle</span> <span style=\"color: var(--jp-info-color0)\">INFO</span>: 4:80: E501 line too long (97 &gt; 79 characters)</pre>"
      ],
      "text/plain": [
       "<IPython.core.display.HTML object>"
      ]
     },
     "metadata": {},
     "output_type": "display_data"
    },
    {
     "data": {
      "text/html": [
       "<pre style=\"margin: 0.1em;\n",
       "padding-left: 0.25em;\n",
       "border-left-style: solid;\n",
       "font-family: var(--jp-code-font-family);\n",
       "font-size: var(--jp-code-font-size);\n",
       "line-height: var(--jp-code-line-height);\n",
       "\"><span style=\"color: var(--jp-warn-color2)\">pycodestyle</span> <span style=\"color: var(--jp-info-color0)\">INFO</span>: 6:80: E501 line too long (89 &gt; 79 characters)</pre>"
      ],
      "text/plain": [
       "<IPython.core.display.HTML object>"
      ]
     },
     "metadata": {},
     "output_type": "display_data"
    },
    {
     "data": {
      "text/html": [
       "<pre style=\"margin: 0.1em;\n",
       "padding-left: 0.25em;\n",
       "border-left-style: solid;\n",
       "font-family: var(--jp-code-font-family);\n",
       "font-size: var(--jp-code-font-size);\n",
       "line-height: var(--jp-code-line-height);\n",
       "\"><span style=\"color: var(--jp-warn-color2)\">pycodestyle</span> <span style=\"color: var(--jp-info-color0)\">INFO</span>: 7:80: E501 line too long (84 &gt; 79 characters)</pre>"
      ],
      "text/plain": [
       "<IPython.core.display.HTML object>"
      ]
     },
     "metadata": {},
     "output_type": "display_data"
    },
    {
     "data": {
      "text/html": [
       "<pre style=\"margin: 0.1em;\n",
       "padding-left: 0.25em;\n",
       "border-left-style: solid;\n",
       "font-family: var(--jp-code-font-family);\n",
       "font-size: var(--jp-code-font-size);\n",
       "line-height: var(--jp-code-line-height);\n",
       "\"><span style=\"color: var(--jp-warn-color2)\">pycodestyle</span> <span style=\"color: var(--jp-info-color0)\">INFO</span>: 9:80: E501 line too long (158 &gt; 79 characters)</pre>"
      ],
      "text/plain": [
       "<IPython.core.display.HTML object>"
      ]
     },
     "metadata": {},
     "output_type": "display_data"
    },
    {
     "data": {
      "text/html": [
       "<pre style=\"margin: 0.1em;\n",
       "padding-left: 0.25em;\n",
       "border-left-style: solid;\n",
       "font-family: var(--jp-code-font-family);\n",
       "font-size: var(--jp-code-font-size);\n",
       "line-height: var(--jp-code-line-height);\n",
       "\"><span style=\"color: var(--jp-warn-color2)\">pycodestyle</span> <span style=\"color: var(--jp-info-color0)\">INFO</span>: 10:1: E265 block comment should start with &#x27;# &#x27;</pre>"
      ],
      "text/plain": [
       "<IPython.core.display.HTML object>"
      ]
     },
     "metadata": {},
     "output_type": "display_data"
    },
    {
     "data": {
      "text/html": [
       "<pre style=\"margin: 0.1em;\n",
       "padding-left: 0.25em;\n",
       "border-left-style: solid;\n",
       "font-family: var(--jp-code-font-family);\n",
       "font-size: var(--jp-code-font-size);\n",
       "line-height: var(--jp-code-line-height);\n",
       "\"><span style=\"color: var(--jp-warn-color2)\">pycodestyle</span> <span style=\"color: var(--jp-info-color0)\">INFO</span>: 12:80: E501 line too long (86 &gt; 79 characters)</pre>"
      ],
      "text/plain": [
       "<IPython.core.display.HTML object>"
      ]
     },
     "metadata": {},
     "output_type": "display_data"
    }
   ],
   "source": [
    "service = get_tap_service(\"ssotap\")\n",
    "\n",
    "# select by NEO to get a larger range of orbital \n",
    "# need perihelion distance < 1 AU in MPCORB and on nobs is a lot? Or, select on long value of arc\n",
    "\n",
    "# Need to check that the phase angle units in radians vs degrees. Function above by Pedro\n",
    "# assumes they will be in degrees so may need to convert (check if goes to 90 or pi)\n",
    "\n",
    "# need apparent magnitudes & uncertainties, phase angle topocentric (tdist) and heliocentric (rdist) distances & uncertainties (but they are 0; from SSSource)\n",
    "#fitHG12 returns the absmag and phase coeff (G12) These will all be per band\n",
    "\n",
    "# could also do the query using LEFT JOIN (i.e. specify a reference catalog to improve\n",
    "# efficiency of the query)"
   ]
  },
  {
   "cell_type": "code",
   "execution_count": 6,
   "id": "fa0d9211-1160-47fd-9a1e-70b814b827f5",
   "metadata": {
    "execution": {
     "iopub.execute_input": "2023-06-28T17:54:33.234905Z",
     "iopub.status.busy": "2023-06-28T17:54:33.234658Z",
     "iopub.status.idle": "2023-06-28T17:54:33.529514Z",
     "shell.execute_reply": "2023-06-28T17:54:33.528706Z",
     "shell.execute_reply.started": "2023-06-28T17:54:33.234883Z"
    },
    "tags": []
   },
   "outputs": [
    {
     "data": {
      "text/html": [
       "<pre style=\"margin: 0.1em;\n",
       "padding-left: 0.25em;\n",
       "border-left-style: solid;\n",
       "font-family: var(--jp-code-font-family);\n",
       "font-size: var(--jp-code-font-size);\n",
       "line-height: var(--jp-code-line-height);\n",
       "\"><span style=\"color: var(--jp-warn-color2)\">pycodestyle</span> <span style=\"color: var(--jp-info-color0)\">INFO</span>: 2:31: E261 at least two spaces before inline comment</pre>"
      ],
      "text/plain": [
       "<IPython.core.display.HTML object>"
      ]
     },
     "metadata": {},
     "output_type": "display_data"
    },
    {
     "data": {
      "text/html": [
       "<pre style=\"margin: 0.1em;\n",
       "padding-left: 0.25em;\n",
       "border-left-style: solid;\n",
       "font-family: var(--jp-code-font-family);\n",
       "font-size: var(--jp-code-font-size);\n",
       "line-height: var(--jp-code-line-height);\n",
       "\"><span style=\"color: var(--jp-warn-color2)\">pycodestyle</span> <span style=\"color: var(--jp-info-color0)\">INFO</span>: 2:32: E262 inline comment should start with &#x27;# &#x27;</pre>"
      ],
      "text/plain": [
       "<IPython.core.display.HTML object>"
      ]
     },
     "metadata": {},
     "output_type": "display_data"
    },
    {
     "data": {
      "text/html": [
       "<pre style=\"margin: 0.1em;\n",
       "padding-left: 0.25em;\n",
       "border-left-style: solid;\n",
       "font-family: var(--jp-code-font-family);\n",
       "font-size: var(--jp-code-font-size);\n",
       "line-height: var(--jp-code-line-height);\n",
       "\"><span style=\"color: var(--jp-warn-color2)\">pycodestyle</span> <span style=\"color: var(--jp-info-color0)\">INFO</span>: 4:1: E265 block comment should start with &#x27;# &#x27;</pre>"
      ],
      "text/plain": [
       "<IPython.core.display.HTML object>"
      ]
     },
     "metadata": {},
     "output_type": "display_data"
    },
    {
     "data": {
      "text/html": [
       "<pre style=\"margin: 0.1em;\n",
       "padding-left: 0.25em;\n",
       "border-left-style: solid;\n",
       "font-family: var(--jp-code-font-family);\n",
       "font-size: var(--jp-code-font-size);\n",
       "line-height: var(--jp-code-line-height);\n",
       "\"><span style=\"color: var(--jp-warn-color2)\">pycodestyle</span> <span style=\"color: var(--jp-info-color0)\">INFO</span>: 5:80: E501 line too long (94 &gt; 79 characters)</pre>"
      ],
      "text/plain": [
       "<IPython.core.display.HTML object>"
      ]
     },
     "metadata": {},
     "output_type": "display_data"
    },
    {
     "data": {
      "text/html": [
       "<pre style=\"margin: 0.1em;\n",
       "padding-left: 0.25em;\n",
       "border-left-style: solid;\n",
       "font-family: var(--jp-code-font-family);\n",
       "font-size: var(--jp-code-font-size);\n",
       "line-height: var(--jp-code-line-height);\n",
       "\"><span style=\"color: var(--jp-warn-color2)\">pycodestyle</span> <span style=\"color: var(--jp-info-color0)\">INFO</span>: 6:67: W291 trailing whitespace</pre>"
      ],
      "text/plain": [
       "<IPython.core.display.HTML object>"
      ]
     },
     "metadata": {},
     "output_type": "display_data"
    },
    {
     "data": {
      "text/html": [
       "<pre style=\"margin: 0.1em;\n",
       "padding-left: 0.25em;\n",
       "border-left-style: solid;\n",
       "font-family: var(--jp-code-font-family);\n",
       "font-size: var(--jp-code-font-size);\n",
       "line-height: var(--jp-code-line-height);\n",
       "\"><span style=\"color: var(--jp-warn-color2)\">pycodestyle</span> <span style=\"color: var(--jp-info-color0)\">INFO</span>: 12:80: E501 line too long (84 &gt; 79 characters)</pre>"
      ],
      "text/plain": [
       "<IPython.core.display.HTML object>"
      ]
     },
     "metadata": {},
     "output_type": "display_data"
    },
    {
     "data": {
      "text/html": [
       "<pre style=\"margin: 0.1em;\n",
       "padding-left: 0.25em;\n",
       "border-left-style: solid;\n",
       "font-family: var(--jp-code-font-family);\n",
       "font-size: var(--jp-code-font-size);\n",
       "line-height: var(--jp-code-line-height);\n",
       "\"><span style=\"color: var(--jp-warn-color2)\">pycodestyle</span> <span style=\"color: var(--jp-info-color0)\">INFO</span>: 20:1: E303 too many blank lines (3)</pre>"
      ],
      "text/plain": [
       "<IPython.core.display.HTML object>"
      ]
     },
     "metadata": {},
     "output_type": "display_data"
    },
    {
     "data": {
      "text/html": [
       "<pre style=\"margin: 0.1em;\n",
       "padding-left: 0.25em;\n",
       "border-left-style: solid;\n",
       "font-family: var(--jp-code-font-family);\n",
       "font-size: var(--jp-code-font-size);\n",
       "line-height: var(--jp-code-line-height);\n",
       "\"><span style=\"color: var(--jp-warn-color2)\">pycodestyle</span> <span style=\"color: var(--jp-info-color0)\">INFO</span>: 20:1: E265 block comment should start with &#x27;# &#x27;</pre>"
      ],
      "text/plain": [
       "<IPython.core.display.HTML object>"
      ]
     },
     "metadata": {},
     "output_type": "display_data"
    },
    {
     "data": {
      "text/html": [
       "<pre style=\"margin: 0.1em;\n",
       "padding-left: 0.25em;\n",
       "border-left-style: solid;\n",
       "font-family: var(--jp-code-font-family);\n",
       "font-size: var(--jp-code-font-size);\n",
       "line-height: var(--jp-code-line-height);\n",
       "\"><span style=\"color: var(--jp-warn-color2)\">pycodestyle</span> <span style=\"color: var(--jp-info-color0)\">INFO</span>: 20:80: E501 line too long (87 &gt; 79 characters)</pre>"
      ],
      "text/plain": [
       "<IPython.core.display.HTML object>"
      ]
     },
     "metadata": {},
     "output_type": "display_data"
    },
    {
     "data": {
      "text/html": [
       "<pre style=\"margin: 0.1em;\n",
       "padding-left: 0.25em;\n",
       "border-left-style: solid;\n",
       "font-family: var(--jp-code-font-family);\n",
       "font-size: var(--jp-code-font-size);\n",
       "line-height: var(--jp-code-line-height);\n",
       "\"><span style=\"color: var(--jp-warn-color2)\">pycodestyle</span> <span style=\"color: var(--jp-info-color0)\">INFO</span>: 21:38: E261 at least two spaces before inline comment</pre>"
      ],
      "text/plain": [
       "<IPython.core.display.HTML object>"
      ]
     },
     "metadata": {},
     "output_type": "display_data"
    },
    {
     "data": {
      "text/html": [
       "<pre style=\"margin: 0.1em;\n",
       "padding-left: 0.25em;\n",
       "border-left-style: solid;\n",
       "font-family: var(--jp-code-font-family);\n",
       "font-size: var(--jp-code-font-size);\n",
       "line-height: var(--jp-code-line-height);\n",
       "\"><span style=\"color: var(--jp-warn-color2)\">pycodestyle</span> <span style=\"color: var(--jp-info-color0)\">INFO</span>: 21:39: E262 inline comment should start with &#x27;# &#x27;</pre>"
      ],
      "text/plain": [
       "<IPython.core.display.HTML object>"
      ]
     },
     "metadata": {},
     "output_type": "display_data"
    },
    {
     "data": {
      "text/html": [
       "<pre style=\"margin: 0.1em;\n",
       "padding-left: 0.25em;\n",
       "border-left-style: solid;\n",
       "font-family: var(--jp-code-font-family);\n",
       "font-size: var(--jp-code-font-size);\n",
       "line-height: var(--jp-code-line-height);\n",
       "\"><span style=\"color: var(--jp-warn-color2)\">pycodestyle</span> <span style=\"color: var(--jp-info-color0)\">INFO</span>: 25:1: E303 too many blank lines (3)</pre>"
      ],
      "text/plain": [
       "<IPython.core.display.HTML object>"
      ]
     },
     "metadata": {},
     "output_type": "display_data"
    },
    {
     "name": "stdout",
     "output_type": "stream",
     "text": [
      "  magSigma \n",
      "-----------\n",
      " 0.09094866\n",
      " 0.10273033\n",
      " 0.20432276\n",
      " 0.10001521\n",
      " 0.13671595\n",
      " 0.13456084\n",
      " 0.09760618\n",
      " 0.07672149\n",
      " 0.08255493\n",
      " 0.05461228\n",
      "        ...\n",
      "0.044325307\n",
      " 0.08838216\n",
      " 0.08728151\n",
      " 0.09929389\n",
      " 0.09439634\n",
      "  0.0844865\n",
      "  0.0683672\n",
      " 0.08370233\n",
      " 0.09087836\n",
      "  0.1834496\n",
      " 0.06519274\n",
      "Length = 84 rows\n"
     ]
    }
   ],
   "source": [
    "# Object from Meg's notebook:\n",
    "ssObjId = -9223369546614897710 #3728357697728353090\n",
    "\n",
    "#ssObjId = 830638013891984606\n",
    "# diaObjectId is the ID that links the individual measurements between DiaObject and SSSource,\n",
    "# so you have to match on this id for unique measurement matching. \n",
    "# To then match this object to MPCORB and SSObject, you have\n",
    "# to link on the SSObjectID (hwich is unique per solar system object)\n",
    "\n",
    "query = \"SELECT dia.mag, dia.diaSourceId, sss.diaSourceId, \" + \\\n",
    "        \"dia.magSigma, dia.filter, sss.phaseAngle, sss.topocentricDist, \" + \\\n",
    "        \"sss.heliocentricDist, dia.midPointTai, dia.ssObjectId, sss.ssObjectId \" + \\\n",
    "        \"FROM dp03_catalogs.DiaSource as dia \" + \\\n",
    "        \"JOIN dp03_catalogs.SSSource as sss \" + \\\n",
    "        \"ON dia.diaSourceId = sss.diaSourceId \" + \\\n",
    "        \"WHERE dia.ssObjectId = \" + str(ssObjId) + \"\"\n",
    "\n",
    "\n",
    "\n",
    "#query = \"SELECT TOP 10000 * FROM dp03_catalogs.SSObject WHERE arc > 3000 ORDER by arc\"\n",
    "df = service.search(query).to_table() #.to_pandas()\n",
    "\n",
    "\n",
    "\n",
    "whr = np.where(df['filter'] == 'r')[0]\n",
    "whz = np.where(df['filter'] == 'z')[0]\n",
    "whi = np.where(df['filter'] == 'i')[0]\n",
    "whg = np.where(df['filter'] == 'g')[0]\n",
    "print(df['magSigma'][whr])"
   ]
  },
  {
   "cell_type": "code",
   "execution_count": 15,
   "id": "08bf7919-64c0-488d-87fc-eef4c1181390",
   "metadata": {
    "execution": {
     "iopub.execute_input": "2023-06-28T17:55:09.402921Z",
     "iopub.status.busy": "2023-06-28T17:55:09.402316Z",
     "iopub.status.idle": "2023-06-28T17:55:10.051846Z",
     "shell.execute_reply": "2023-06-28T17:55:10.051127Z",
     "shell.execute_reply.started": "2023-06-28T17:55:09.402892Z"
    },
    "tags": []
   },
   "outputs": [
    {
     "name": "stdout",
     "output_type": "stream",
     "text": [
      "     ssObjectId          rH       rHerr       rG12      rG12err  \n",
      "                        mag        mag        mag         mag    \n",
      "-------------------- --------- ----------- ---------- -----------\n",
      "-9223369546614897710 18.454742 0.019325053 0.18883331 0.025357476\n"
     ]
    },
    {
     "data": {
      "image/png": "[encoded data removed]",
      "text/plain": [
       "<Figure size 640x480 with 1 Axes>"
      ]
     },
     "metadata": {},
     "output_type": "display_data"
    },
    {
     "data": {
      "text/html": [
       "<pre style=\"margin: 0.1em;\n",
       "padding-left: 0.25em;\n",
       "border-left-style: solid;\n",
       "font-family: var(--jp-code-font-family);\n",
       "font-size: var(--jp-code-font-size);\n",
       "line-height: var(--jp-code-line-height);\n",
       "\"><span style=\"color: var(--jp-warn-color2)\">pycodestyle</span> <span style=\"color: var(--jp-info-color0)\">INFO</span>: 9:1: E265 block comment should start with &#x27;# &#x27;</pre>"
      ],
      "text/plain": [
       "<IPython.core.display.HTML object>"
      ]
     },
     "metadata": {},
     "output_type": "display_data"
    },
    {
     "data": {
      "text/html": [
       "<pre style=\"margin: 0.1em;\n",
       "padding-left: 0.25em;\n",
       "border-left-style: solid;\n",
       "font-family: var(--jp-code-font-family);\n",
       "font-size: var(--jp-code-font-size);\n",
       "line-height: var(--jp-code-line-height);\n",
       "\"><span style=\"color: var(--jp-warn-color2)\">pycodestyle</span> <span style=\"color: var(--jp-info-color0)\">INFO</span>: 9:80: E501 line too long (121 &gt; 79 characters)</pre>"
      ],
      "text/plain": [
       "<IPython.core.display.HTML object>"
      ]
     },
     "metadata": {},
     "output_type": "display_data"
    },
    {
     "data": {
      "text/html": [
       "<pre style=\"margin: 0.1em;\n",
       "padding-left: 0.25em;\n",
       "border-left-style: solid;\n",
       "font-family: var(--jp-code-font-family);\n",
       "font-size: var(--jp-code-font-size);\n",
       "line-height: var(--jp-code-line-height);\n",
       "\"><span style=\"color: var(--jp-warn-color2)\">pycodestyle</span> <span style=\"color: var(--jp-info-color0)\">INFO</span>: 10:1: E265 block comment should start with &#x27;# &#x27;</pre>"
      ],
      "text/plain": [
       "<IPython.core.display.HTML object>"
      ]
     },
     "metadata": {},
     "output_type": "display_data"
    },
    {
     "data": {
      "text/html": [
       "<pre style=\"margin: 0.1em;\n",
       "padding-left: 0.25em;\n",
       "border-left-style: solid;\n",
       "font-family: var(--jp-code-font-family);\n",
       "font-size: var(--jp-code-font-size);\n",
       "line-height: var(--jp-code-line-height);\n",
       "\"><span style=\"color: var(--jp-warn-color2)\">pycodestyle</span> <span style=\"color: var(--jp-info-color0)\">INFO</span>: 10:80: E501 line too long (116 &gt; 79 characters)</pre>"
      ],
      "text/plain": [
       "<IPython.core.display.HTML object>"
      ]
     },
     "metadata": {},
     "output_type": "display_data"
    },
    {
     "data": {
      "text/html": [
       "<pre style=\"margin: 0.1em;\n",
       "padding-left: 0.25em;\n",
       "border-left-style: solid;\n",
       "font-family: var(--jp-code-font-family);\n",
       "font-size: var(--jp-code-font-size);\n",
       "line-height: var(--jp-code-line-height);\n",
       "\"><span style=\"color: var(--jp-warn-color2)\">pycodestyle</span> <span style=\"color: var(--jp-info-color0)\">INFO</span>: 11:80: E501 line too long (128 &gt; 79 characters)</pre>"
      ],
      "text/plain": [
       "<IPython.core.display.HTML object>"
      ]
     },
     "metadata": {},
     "output_type": "display_data"
    },
    {
     "data": {
      "text/html": [
       "<pre style=\"margin: 0.1em;\n",
       "padding-left: 0.25em;\n",
       "border-left-style: solid;\n",
       "font-family: var(--jp-code-font-family);\n",
       "font-size: var(--jp-code-font-size);\n",
       "line-height: var(--jp-code-line-height);\n",
       "\"><span style=\"color: var(--jp-warn-color2)\">pycodestyle</span> <span style=\"color: var(--jp-info-color0)\">INFO</span>: 11:99: E231 missing whitespace after &#x27;,&#x27;</pre>"
      ],
      "text/plain": [
       "<IPython.core.display.HTML object>"
      ]
     },
     "metadata": {},
     "output_type": "display_data"
    },
    {
     "data": {
      "text/html": [
       "<pre style=\"margin: 0.1em;\n",
       "padding-left: 0.25em;\n",
       "border-left-style: solid;\n",
       "font-family: var(--jp-code-font-family);\n",
       "font-size: var(--jp-code-font-size);\n",
       "line-height: var(--jp-code-line-height);\n",
       "\"><span style=\"color: var(--jp-warn-color2)\">pycodestyle</span> <span style=\"color: var(--jp-info-color0)\">INFO</span>: 11:118: E231 missing whitespace after &#x27;,&#x27;</pre>"
      ],
      "text/plain": [
       "<IPython.core.display.HTML object>"
      ]
     },
     "metadata": {},
     "output_type": "display_data"
    },
    {
     "data": {
      "text/html": [
       "<pre style=\"margin: 0.1em;\n",
       "padding-left: 0.25em;\n",
       "border-left-style: solid;\n",
       "font-family: var(--jp-code-font-family);\n",
       "font-size: var(--jp-code-font-size);\n",
       "line-height: var(--jp-code-line-height);\n",
       "\"><span style=\"color: var(--jp-warn-color2)\">pycodestyle</span> <span style=\"color: var(--jp-info-color0)\">INFO</span>: 12:1: E265 block comment should start with &#x27;# &#x27;</pre>"
      ],
      "text/plain": [
       "<IPython.core.display.HTML object>"
      ]
     },
     "metadata": {},
     "output_type": "display_data"
    },
    {
     "data": {
      "text/html": [
       "<pre style=\"margin: 0.1em;\n",
       "padding-left: 0.25em;\n",
       "border-left-style: solid;\n",
       "font-family: var(--jp-code-font-family);\n",
       "font-size: var(--jp-code-font-size);\n",
       "line-height: var(--jp-code-line-height);\n",
       "\"><span style=\"color: var(--jp-warn-color2)\">pycodestyle</span> <span style=\"color: var(--jp-info-color0)\">INFO</span>: 12:80: E501 line too long (117 &gt; 79 characters)</pre>"
      ],
      "text/plain": [
       "<IPython.core.display.HTML object>"
      ]
     },
     "metadata": {},
     "output_type": "display_data"
    },
    {
     "data": {
      "text/html": [
       "<pre style=\"margin: 0.1em;\n",
       "padding-left: 0.25em;\n",
       "border-left-style: solid;\n",
       "font-family: var(--jp-code-font-family);\n",
       "font-size: var(--jp-code-font-size);\n",
       "line-height: var(--jp-code-line-height);\n",
       "\"><span style=\"color: var(--jp-warn-color2)\">pycodestyle</span> <span style=\"color: var(--jp-info-color0)\">INFO</span>: 14:1: E265 block comment should start with &#x27;# &#x27;</pre>"
      ],
      "text/plain": [
       "<IPython.core.display.HTML object>"
      ]
     },
     "metadata": {},
     "output_type": "display_data"
    },
    {
     "data": {
      "text/html": [
       "<pre style=\"margin: 0.1em;\n",
       "padding-left: 0.25em;\n",
       "border-left-style: solid;\n",
       "font-family: var(--jp-code-font-family);\n",
       "font-size: var(--jp-code-font-size);\n",
       "line-height: var(--jp-code-line-height);\n",
       "\"><span style=\"color: var(--jp-warn-color2)\">pycodestyle</span> <span style=\"color: var(--jp-info-color0)\">INFO</span>: 14:80: E501 line too long (85 &gt; 79 characters)</pre>"
      ],
      "text/plain": [
       "<IPython.core.display.HTML object>"
      ]
     },
     "metadata": {},
     "output_type": "display_data"
    },
    {
     "data": {
      "text/html": [
       "<pre style=\"margin: 0.1em;\n",
       "padding-left: 0.25em;\n",
       "border-left-style: solid;\n",
       "font-family: var(--jp-code-font-family);\n",
       "font-size: var(--jp-code-font-size);\n",
       "line-height: var(--jp-code-line-height);\n",
       "\"><span style=\"color: var(--jp-warn-color2)\">pycodestyle</span> <span style=\"color: var(--jp-info-color0)\">INFO</span>: 15:52: E231 missing whitespace after &#x27;,&#x27;</pre>"
      ],
      "text/plain": [
       "<IPython.core.display.HTML object>"
      ]
     },
     "metadata": {},
     "output_type": "display_data"
    },
    {
     "data": {
      "text/html": [
       "<pre style=\"margin: 0.1em;\n",
       "padding-left: 0.25em;\n",
       "border-left-style: solid;\n",
       "font-family: var(--jp-code-font-family);\n",
       "font-size: var(--jp-code-font-size);\n",
       "line-height: var(--jp-code-line-height);\n",
       "\"><span style=\"color: var(--jp-warn-color2)\">pycodestyle</span> <span style=\"color: var(--jp-info-color0)\">INFO</span>: 15:80: E501 line too long (96 &gt; 79 characters)</pre>"
      ],
      "text/plain": [
       "<IPython.core.display.HTML object>"
      ]
     },
     "metadata": {},
     "output_type": "display_data"
    },
    {
     "data": {
      "text/html": [
       "<pre style=\"margin: 0.1em;\n",
       "padding-left: 0.25em;\n",
       "border-left-style: solid;\n",
       "font-family: var(--jp-code-font-family);\n",
       "font-size: var(--jp-code-font-size);\n",
       "line-height: var(--jp-code-line-height);\n",
       "\"><span style=\"color: var(--jp-warn-color2)\">pycodestyle</span> <span style=\"color: var(--jp-info-color0)\">INFO</span>: 16:1: E265 block comment should start with &#x27;# &#x27;</pre>"
      ],
      "text/plain": [
       "<IPython.core.display.HTML object>"
      ]
     },
     "metadata": {},
     "output_type": "display_data"
    },
    {
     "data": {
      "text/html": [
       "<pre style=\"margin: 0.1em;\n",
       "padding-left: 0.25em;\n",
       "border-left-style: solid;\n",
       "font-family: var(--jp-code-font-family);\n",
       "font-size: var(--jp-code-font-size);\n",
       "line-height: var(--jp-code-line-height);\n",
       "\"><span style=\"color: var(--jp-warn-color2)\">pycodestyle</span> <span style=\"color: var(--jp-info-color0)\">INFO</span>: 20:1: E265 block comment should start with &#x27;# &#x27;</pre>"
      ],
      "text/plain": [
       "<IPython.core.display.HTML object>"
      ]
     },
     "metadata": {},
     "output_type": "display_data"
    },
    {
     "data": {
      "text/html": [
       "<pre style=\"margin: 0.1em;\n",
       "padding-left: 0.25em;\n",
       "border-left-style: solid;\n",
       "font-family: var(--jp-code-font-family);\n",
       "font-size: var(--jp-code-font-size);\n",
       "line-height: var(--jp-code-line-height);\n",
       "\"><span style=\"color: var(--jp-warn-color2)\">pycodestyle</span> <span style=\"color: var(--jp-info-color0)\">INFO</span>: 21:1: E265 block comment should start with &#x27;# &#x27;</pre>"
      ],
      "text/plain": [
       "<IPython.core.display.HTML object>"
      ]
     },
     "metadata": {},
     "output_type": "display_data"
    },
    {
     "data": {
      "text/html": [
       "<pre style=\"margin: 0.1em;\n",
       "padding-left: 0.25em;\n",
       "border-left-style: solid;\n",
       "font-family: var(--jp-code-font-family);\n",
       "font-size: var(--jp-code-font-size);\n",
       "line-height: var(--jp-code-line-height);\n",
       "\"><span style=\"color: var(--jp-warn-color2)\">pycodestyle</span> <span style=\"color: var(--jp-info-color0)\">INFO</span>: 22:1: E265 block comment should start with &#x27;# &#x27;</pre>"
      ],
      "text/plain": [
       "<IPython.core.display.HTML object>"
      ]
     },
     "metadata": {},
     "output_type": "display_data"
    },
    {
     "data": {
      "text/html": [
       "<pre style=\"margin: 0.1em;\n",
       "padding-left: 0.25em;\n",
       "border-left-style: solid;\n",
       "font-family: var(--jp-code-font-family);\n",
       "font-size: var(--jp-code-font-size);\n",
       "line-height: var(--jp-code-line-height);\n",
       "\"><span style=\"color: var(--jp-warn-color2)\">pycodestyle</span> <span style=\"color: var(--jp-info-color0)\">INFO</span>: 25:1: E265 block comment should start with &#x27;# &#x27;</pre>"
      ],
      "text/plain": [
       "<IPython.core.display.HTML object>"
      ]
     },
     "metadata": {},
     "output_type": "display_data"
    },
    {
     "data": {
      "text/html": [
       "<pre style=\"margin: 0.1em;\n",
       "padding-left: 0.25em;\n",
       "border-left-style: solid;\n",
       "font-family: var(--jp-code-font-family);\n",
       "font-size: var(--jp-code-font-size);\n",
       "line-height: var(--jp-code-line-height);\n",
       "\"><span style=\"color: var(--jp-warn-color2)\">pycodestyle</span> <span style=\"color: var(--jp-info-color0)\">INFO</span>: 25:80: E501 line too long (132 &gt; 79 characters)</pre>"
      ],
      "text/plain": [
       "<IPython.core.display.HTML object>"
      ]
     },
     "metadata": {},
     "output_type": "display_data"
    },
    {
     "data": {
      "text/html": [
       "<pre style=\"margin: 0.1em;\n",
       "padding-left: 0.25em;\n",
       "border-left-style: solid;\n",
       "font-family: var(--jp-code-font-family);\n",
       "font-size: var(--jp-code-font-size);\n",
       "line-height: var(--jp-code-line-height);\n",
       "\"><span style=\"color: var(--jp-warn-color2)\">pycodestyle</span> <span style=\"color: var(--jp-info-color0)\">INFO</span>: 26:80: E501 line too long (146 &gt; 79 characters)</pre>"
      ],
      "text/plain": [
       "<IPython.core.display.HTML object>"
      ]
     },
     "metadata": {},
     "output_type": "display_data"
    },
    {
     "data": {
      "text/html": [
       "<pre style=\"margin: 0.1em;\n",
       "padding-left: 0.25em;\n",
       "border-left-style: solid;\n",
       "font-family: var(--jp-code-font-family);\n",
       "font-size: var(--jp-code-font-size);\n",
       "line-height: var(--jp-code-line-height);\n",
       "\"><span style=\"color: var(--jp-warn-color2)\">pycodestyle</span> <span style=\"color: var(--jp-info-color0)\">INFO</span>: 29:23: E231 missing whitespace after &#x27;,&#x27;</pre>"
      ],
      "text/plain": [
       "<IPython.core.display.HTML object>"
      ]
     },
     "metadata": {},
     "output_type": "display_data"
    },
    {
     "data": {
      "text/html": [
       "<pre style=\"margin: 0.1em;\n",
       "padding-left: 0.25em;\n",
       "border-left-style: solid;\n",
       "font-family: var(--jp-code-font-family);\n",
       "font-size: var(--jp-code-font-size);\n",
       "line-height: var(--jp-code-line-height);\n",
       "\"><span style=\"color: var(--jp-warn-color2)\">pycodestyle</span> <span style=\"color: var(--jp-info-color0)\">INFO</span>: 29:26: E231 missing whitespace after &#x27;,&#x27;</pre>"
      ],
      "text/plain": [
       "<IPython.core.display.HTML object>"
      ]
     },
     "metadata": {},
     "output_type": "display_data"
    },
    {
     "data": {
      "text/html": [
       "<pre style=\"margin: 0.1em;\n",
       "padding-left: 0.25em;\n",
       "border-left-style: solid;\n",
       "font-family: var(--jp-code-font-family);\n",
       "font-size: var(--jp-code-font-size);\n",
       "line-height: var(--jp-code-line-height);\n",
       "\"><span style=\"color: var(--jp-warn-color2)\">pycodestyle</span> <span style=\"color: var(--jp-info-color0)\">INFO</span>: 32:80: E501 line too long (98 &gt; 79 characters)</pre>"
      ],
      "text/plain": [
       "<IPython.core.display.HTML object>"
      ]
     },
     "metadata": {},
     "output_type": "display_data"
    },
    {
     "data": {
      "text/html": [
       "<pre style=\"margin: 0.1em;\n",
       "padding-left: 0.25em;\n",
       "border-left-style: solid;\n",
       "font-family: var(--jp-code-font-family);\n",
       "font-size: var(--jp-code-font-size);\n",
       "line-height: var(--jp-code-line-height);\n",
       "\"><span style=\"color: var(--jp-warn-color2)\">pycodestyle</span> <span style=\"color: var(--jp-info-color0)\">INFO</span>: 34:31: E251 unexpected spaces around keyword / parameter equals</pre>"
      ],
      "text/plain": [
       "<IPython.core.display.HTML object>"
      ]
     },
     "metadata": {},
     "output_type": "display_data"
    },
    {
     "data": {
      "text/html": [
       "<pre style=\"margin: 0.1em;\n",
       "padding-left: 0.25em;\n",
       "border-left-style: solid;\n",
       "font-family: var(--jp-code-font-family);\n",
       "font-size: var(--jp-code-font-size);\n",
       "line-height: var(--jp-code-line-height);\n",
       "\"><span style=\"color: var(--jp-warn-color2)\">pycodestyle</span> <span style=\"color: var(--jp-info-color0)\">INFO</span>: 40:9: E126 continuation line over-indented for hanging indent</pre>"
      ],
      "text/plain": [
       "<IPython.core.display.HTML object>"
      ]
     },
     "metadata": {},
     "output_type": "display_data"
    },
    {
     "data": {
      "text/html": [
       "<pre style=\"margin: 0.1em;\n",
       "padding-left: 0.25em;\n",
       "border-left-style: solid;\n",
       "font-family: var(--jp-code-font-family);\n",
       "font-size: var(--jp-code-font-size);\n",
       "line-height: var(--jp-code-line-height);\n",
       "\"><span style=\"color: var(--jp-warn-color2)\">pycodestyle</span> <span style=\"color: var(--jp-info-color0)\">INFO</span>: 43:40: E261 at least two spaces before inline comment</pre>"
      ],
      "text/plain": [
       "<IPython.core.display.HTML object>"
      ]
     },
     "metadata": {},
     "output_type": "display_data"
    },
    {
     "data": {
      "text/html": [
       "<pre style=\"margin: 0.1em;\n",
       "padding-left: 0.25em;\n",
       "border-left-style: solid;\n",
       "font-family: var(--jp-code-font-family);\n",
       "font-size: var(--jp-code-font-size);\n",
       "line-height: var(--jp-code-line-height);\n",
       "\"><span style=\"color: var(--jp-warn-color2)\">pycodestyle</span> <span style=\"color: var(--jp-info-color0)\">INFO</span>: 47:1: E265 block comment should start with &#x27;# &#x27;</pre>"
      ],
      "text/plain": [
       "<IPython.core.display.HTML object>"
      ]
     },
     "metadata": {},
     "output_type": "display_data"
    },
    {
     "data": {
      "text/html": [
       "<pre style=\"margin: 0.1em;\n",
       "padding-left: 0.25em;\n",
       "border-left-style: solid;\n",
       "font-family: var(--jp-code-font-family);\n",
       "font-size: var(--jp-code-font-size);\n",
       "line-height: var(--jp-code-line-height);\n",
       "\"><span style=\"color: var(--jp-warn-color2)\">pycodestyle</span> <span style=\"color: var(--jp-info-color0)\">INFO</span>: 48:1: E265 block comment should start with &#x27;# &#x27;</pre>"
      ],
      "text/plain": [
       "<IPython.core.display.HTML object>"
      ]
     },
     "metadata": {},
     "output_type": "display_data"
    },
    {
     "data": {
      "text/html": [
       "<pre style=\"margin: 0.1em;\n",
       "padding-left: 0.25em;\n",
       "border-left-style: solid;\n",
       "font-family: var(--jp-code-font-family);\n",
       "font-size: var(--jp-code-font-size);\n",
       "line-height: var(--jp-code-line-height);\n",
       "\"><span style=\"color: var(--jp-warn-color2)\">pycodestyle</span> <span style=\"color: var(--jp-info-color0)\">INFO</span>: 48:80: E501 line too long (99 &gt; 79 characters)</pre>"
      ],
      "text/plain": [
       "<IPython.core.display.HTML object>"
      ]
     },
     "metadata": {},
     "output_type": "display_data"
    },
    {
     "data": {
      "text/html": [
       "<pre style=\"margin: 0.1em;\n",
       "padding-left: 0.25em;\n",
       "border-left-style: solid;\n",
       "font-family: var(--jp-code-font-family);\n",
       "font-size: var(--jp-code-font-size);\n",
       "line-height: var(--jp-code-line-height);\n",
       "\"><span style=\"color: var(--jp-warn-color2)\">pycodestyle</span> <span style=\"color: var(--jp-info-color0)\">INFO</span>: 50:37: E251 unexpected spaces around keyword / parameter equals</pre>"
      ],
      "text/plain": [
       "<IPython.core.display.HTML object>"
      ]
     },
     "metadata": {},
     "output_type": "display_data"
    }
   ],
   "source": [
    "whband = whr\n",
    "\n",
    "# Include these for distance correction to Reduced magnitude:\n",
    "tdist = df['topocentricDist']\n",
    "rdist = df['heliocentricDist']\n",
    "dmag = -5. * np.log10(tdist*rdist)\n",
    "\n",
    "\n",
    "#plt.errorbar(df['phaseAngle'][whr], df['mag'][whr]+dmag[whr], yerr=df['magSigma'][whr],fmt='o', alpha=.8,label='r band')\n",
    "#plt.errorbar(df['phaseAngle'][whz], df['mag'][whz]+dmag[whz], yerr=df['magSigma'][whz],fmt='o', alpha=.8,label='z')\n",
    "plt.errorbar(df['phaseAngle'][whband], df['mag'][whband]+dmag[whband], yerr=df['magSigma'][whband],fmt='ro', alpha=.8,label='i')\n",
    "#plt.errorbar(df['phaseAngle'][whg], df['mag'][whg]+dmag[whg], yerr=df['magSigma'][whg],fmt='ok', alpha=.8,label='g')\n",
    "\n",
    "#plt.ylim((np.max(df['mag'][whr]+dmag[whr])+.1,np.min(df['mag'][whr]+dmag[whr])-1.5))\n",
    "plt.ylim((np.max(df['mag'][whband]+dmag[whband])+.1,np.min(df['mag'][whband]+dmag[whband])-1.5))\n",
    "#plt.xlim(0,30)\n",
    "plt.xlabel('Phase Angle [deg]')\n",
    "plt.ylabel('Reduced magnitude')\n",
    "\n",
    "#print(df['mag'][whr], df['phaseAngle'][whr])\n",
    "#print(len(whr))\n",
    "#print(np.unique(df['filter']))\n",
    "\n",
    "\n",
    "#x = fit_models(df['mag'][whr], df['magSigma'][whr], df['phaseAngle'][whr], df['topocentricDist'][whr], df['heliocentricDist'][whr])\n",
    "x = fit_models(df['mag'][whband], df['magSigma'][whband], df['phaseAngle'][whband], df['topocentricDist'][whband], df['heliocentricDist'][whband])\n",
    "\n",
    "\n",
    "phases = np.linspace(0,90,100)\n",
    "HG12_mag = HG12_model(np.deg2rad(phases), [x['HG12']['H'], x['HG12']['G12']])\n",
    "HG_mag = HG_model(np.deg2rad(phases), [x['HG']['H'], x['HG']['G']])\n",
    "HG1G2_mag = HG1G2_model(np.deg2rad(phases), [x['HG1G2']['H'], x['HG1G2']['G1'], x['HG1G2']['G2']])\n",
    "\n",
    "plt.plot(phases, HG_mag, label ='HG 2 parameter model')\n",
    "plt.plot(phases, HG12_mag, label='HG12 2 parameters model')\n",
    "plt.plot(phases, HG1G2_mag, label='HG1G2 3 parameter model')\n",
    "\n",
    "\n",
    "query2 = \"SELECT ssObjectId, rH, rHerr, rG12, rG12err \" + \\\n",
    "        \"FROM dp03_catalogs.SSObject  \" + \\\n",
    "        \"WHERE ssObjectId = \" + str(ssObjId) + \" \"\n",
    "\n",
    "df2 = service.search(query2).to_table() # .to_pandas()\n",
    "print(df2)\n",
    "\n",
    "HG12_mag_sso = HG12_model(np.deg2rad(phases), [df2['rH'], df2['rG12']])\n",
    "#HG_mag = HG_model(np.deg2rad(phases), [x['HG']['H'], x['HG']['G']])\n",
    "#HG1G2_mag = HG1G2_model(np.deg2rad(phases), [x['HG1G2']['H'], x['HG1G2']['G1'], x['HG1G2']['G2']])\n",
    "\n",
    "plt.plot(phases, HG12_mag_sso, label ='SSO parameter model')\n",
    "\n",
    "plt.legend()\n",
    "\n",
    "plt.show()\n"
   ]
  },
  {
   "cell_type": "code",
   "execution_count": null,
   "id": "542cc10f-2313-4258-9a4c-a7a96bfda58e",
   "metadata": {
    "tags": []
   },
   "outputs": [],
   "source": []
  },
  {
   "cell_type": "code",
   "execution_count": 8,
   "id": "a356aa5a-19d3-4587-9bd9-e727e6be6e26",
   "metadata": {
    "execution": {
     "iopub.execute_input": "2023-06-28T17:54:34.154876Z",
     "iopub.status.busy": "2023-06-28T17:54:34.154625Z",
     "iopub.status.idle": "2023-06-28T17:54:34.270911Z",
     "shell.execute_reply": "2023-06-28T17:54:34.270032Z",
     "shell.execute_reply.started": "2023-06-28T17:54:34.154853Z"
    },
    "tags": []
   },
   "outputs": [
    {
     "data": {
      "text/html": [
       "<pre style=\"margin: 0.1em;\n",
       "padding-left: 0.25em;\n",
       "border-left-style: solid;\n",
       "font-family: var(--jp-code-font-family);\n",
       "font-size: var(--jp-code-font-size);\n",
       "line-height: var(--jp-code-line-height);\n",
       "\"><span style=\"color: var(--jp-warn-color2)\">pycodestyle</span> <span style=\"color: var(--jp-info-color0)\">INFO</span>: 1:1: E265 block comment should start with &#x27;# &#x27;</pre>"
      ],
      "text/plain": [
       "<IPython.core.display.HTML object>"
      ]
     },
     "metadata": {},
     "output_type": "display_data"
    },
    {
     "data": {
      "text/html": [
       "<pre style=\"margin: 0.1em;\n",
       "padding-left: 0.25em;\n",
       "border-left-style: solid;\n",
       "font-family: var(--jp-code-font-family);\n",
       "font-size: var(--jp-code-font-size);\n",
       "line-height: var(--jp-code-line-height);\n",
       "\"><span style=\"color: var(--jp-warn-color2)\">pycodestyle</span> <span style=\"color: var(--jp-info-color0)\">INFO</span>: 2:1: E265 block comment should start with &#x27;# &#x27;</pre>"
      ],
      "text/plain": [
       "<IPython.core.display.HTML object>"
      ]
     },
     "metadata": {},
     "output_type": "display_data"
    }
   ],
   "source": [
    "#plt.plot(df['midPointTai'][whi],df['mag'][whi],'o')\n",
    "#plt.show()\n"
   ]
  },
  {
   "cell_type": "code",
   "execution_count": 9,
   "id": "2a26b9ea-1769-4e70-b85e-b47f701c431a",
   "metadata": {
    "execution": {
     "iopub.execute_input": "2023-06-28T17:54:34.272436Z",
     "iopub.status.busy": "2023-06-28T17:54:34.272166Z",
     "iopub.status.idle": "2023-06-28T17:54:34.387444Z",
     "shell.execute_reply": "2023-06-28T17:54:34.386515Z",
     "shell.execute_reply.started": "2023-06-28T17:54:34.272411Z"
    },
    "tags": []
   },
   "outputs": [
    {
     "data": {
      "text/html": [
       "<pre style=\"margin: 0.1em;\n",
       "padding-left: 0.25em;\n",
       "border-left-style: solid;\n",
       "font-family: var(--jp-code-font-family);\n",
       "font-size: var(--jp-code-font-size);\n",
       "line-height: var(--jp-code-line-height);\n",
       "\"><span style=\"color: var(--jp-warn-color2)\">pycodestyle</span> <span style=\"color: var(--jp-info-color0)\">INFO</span>: 1:1: E265 block comment should start with &#x27;# &#x27;</pre>"
      ],
      "text/plain": [
       "<IPython.core.display.HTML object>"
      ]
     },
     "metadata": {},
     "output_type": "display_data"
    },
    {
     "data": {
      "text/html": [
       "<pre style=\"margin: 0.1em;\n",
       "padding-left: 0.25em;\n",
       "border-left-style: solid;\n",
       "font-family: var(--jp-code-font-family);\n",
       "font-size: var(--jp-code-font-size);\n",
       "line-height: var(--jp-code-line-height);\n",
       "\"><span style=\"color: var(--jp-warn-color2)\">pycodestyle</span> <span style=\"color: var(--jp-info-color0)\">INFO</span>: 2:1: E265 block comment should start with &#x27;# &#x27;</pre>"
      ],
      "text/plain": [
       "<IPython.core.display.HTML object>"
      ]
     },
     "metadata": {},
     "output_type": "display_data"
    },
    {
     "data": {
      "text/html": [
       "<pre style=\"margin: 0.1em;\n",
       "padding-left: 0.25em;\n",
       "border-left-style: solid;\n",
       "font-family: var(--jp-code-font-family);\n",
       "font-size: var(--jp-code-font-size);\n",
       "line-height: var(--jp-code-line-height);\n",
       "\"><span style=\"color: var(--jp-warn-color2)\">pycodestyle</span> <span style=\"color: var(--jp-info-color0)\">INFO</span>: 3:1: E265 block comment should start with &#x27;# &#x27;</pre>"
      ],
      "text/plain": [
       "<IPython.core.display.HTML object>"
      ]
     },
     "metadata": {},
     "output_type": "display_data"
    }
   ],
   "source": [
    "#phases = np.linspace(0,90,100)\n",
    "#HG12_mag = HG12_model(np.deg2rad(phases), [x['HG12']['H'], x['HG12']['G12']])\n",
    "#plt.plot(phases, HG12_mag)"
   ]
  },
  {
   "cell_type": "code",
   "execution_count": 10,
   "id": "db799dc2-a0cd-4b57-86f6-fbb09dbb0ff2",
   "metadata": {
    "execution": {
     "iopub.execute_input": "2023-06-28T17:54:34.388740Z",
     "iopub.status.busy": "2023-06-28T17:54:34.388508Z",
     "iopub.status.idle": "2023-06-28T17:54:34.506565Z",
     "shell.execute_reply": "2023-06-28T17:54:34.505649Z",
     "shell.execute_reply.started": "2023-06-28T17:54:34.388719Z"
    },
    "tags": []
   },
   "outputs": [
    {
     "data": {
      "text/html": [
       "<pre style=\"margin: 0.1em;\n",
       "padding-left: 0.25em;\n",
       "border-left-style: solid;\n",
       "font-family: var(--jp-code-font-family);\n",
       "font-size: var(--jp-code-font-size);\n",
       "line-height: var(--jp-code-line-height);\n",
       "\"><span style=\"color: var(--jp-warn-color2)\">pycodestyle</span> <span style=\"color: var(--jp-info-color0)\">INFO</span>: 2:2: W291 trailing whitespace</pre>"
      ],
      "text/plain": [
       "<IPython.core.display.HTML object>"
      ]
     },
     "metadata": {},
     "output_type": "display_data"
    }
   ],
   "source": [
    "# first character is the filter\n",
    "# \n"
   ]
  },
  {
   "cell_type": "markdown",
   "id": "624e97d1-9dbe-41e9-a97f-9f5f1a1b504c",
   "metadata": {},
   "source": [
    "Junk Code Below"
   ]
  },
  {
   "cell_type": "code",
   "execution_count": 11,
   "id": "10013645-e75a-446f-9ef8-f29eed3e30da",
   "metadata": {
    "execution": {
     "iopub.execute_input": "2023-06-28T17:54:34.507952Z",
     "iopub.status.busy": "2023-06-28T17:54:34.507688Z",
     "iopub.status.idle": "2023-06-28T17:54:34.654101Z",
     "shell.execute_reply": "2023-06-28T17:54:34.653154Z",
     "shell.execute_reply.started": "2023-06-28T17:54:34.507931Z"
    },
    "tags": []
   },
   "outputs": [
    {
     "data": {
      "text/plain": [
       "{'HG': {'chi2': 63.820630991921654,\n",
       "  'H': 18.454588108967673,\n",
       "  'G': 0.18861868238310744,\n",
       "  'H_err': 0.02199004576588897,\n",
       "  'G_err': 0.02880020173220217,\n",
       "  'cov': array([[0.00048356, 0.00059519],\n",
       "         [0.00059519, 0.00082945]])},\n",
       " 'HG12': {'chi2': 63.57149559564474,\n",
       "  'H': 18.48366221511175,\n",
       "  'G12': 0.4998904125928915,\n",
       "  'H_err': 0.011724505596819229,\n",
       "  'G12_err': 0.06765372201553499,\n",
       "  'cov': array([[0.00013746, 0.00060883],\n",
       "         [0.00060883, 0.00457703]])},\n",
       " 'HG1G2': {'chi2': 63.346987638639014,\n",
       "  'H': 18.42170935695228,\n",
       "  'G1': 0.4262065529161095,\n",
       "  'G2': 0.4262065529161095,\n",
       "  'H_err': 0.1288840427505984,\n",
       "  'G1_err': 0.15655077794602001,\n",
       "  'G2_err': 0.04534484230496662,\n",
       "  'cov': array([[ 0.0166111 ,  0.01905703, -0.00328424],\n",
       "         [ 0.01905703,  0.02450815, -0.0056808 ],\n",
       "         [-0.00328424, -0.0056808 ,  0.00205615]])}}"
      ]
     },
     "execution_count": 11,
     "metadata": {},
     "output_type": "execute_result"
    }
   ],
   "source": [
    "x"
   ]
  },
  {
   "cell_type": "code",
   "execution_count": 12,
   "id": "0840506c-ecf1-40c5-abb8-e7bbf77840e8",
   "metadata": {
    "execution": {
     "iopub.execute_input": "2023-06-28T17:54:34.655655Z",
     "iopub.status.busy": "2023-06-28T17:54:34.655383Z",
     "iopub.status.idle": "2023-06-28T17:54:34.811238Z",
     "shell.execute_reply": "2023-06-28T17:54:34.810467Z",
     "shell.execute_reply.started": "2023-06-28T17:54:34.655633Z"
    },
    "tags": []
   },
   "outputs": [
    {
     "data": {
      "text/html": [
       "<pre style=\"margin: 0.1em;\n",
       "padding-left: 0.25em;\n",
       "border-left-style: solid;\n",
       "font-family: var(--jp-code-font-family);\n",
       "font-size: var(--jp-code-font-size);\n",
       "line-height: var(--jp-code-line-height);\n",
       "\"><span style=\"color: var(--jp-warn-color2)\">pycodestyle</span> <span style=\"color: var(--jp-info-color0)\">INFO</span>: 1:1: E265 block comment should start with &#x27;# &#x27;</pre>"
      ],
      "text/plain": [
       "<IPython.core.display.HTML object>"
      ]
     },
     "metadata": {},
     "output_type": "display_data"
    },
    {
     "data": {
      "text/html": [
       "<pre style=\"margin: 0.1em;\n",
       "padding-left: 0.25em;\n",
       "border-left-style: solid;\n",
       "font-family: var(--jp-code-font-family);\n",
       "font-size: var(--jp-code-font-size);\n",
       "line-height: var(--jp-code-line-height);\n",
       "\"><span style=\"color: var(--jp-warn-color2)\">pycodestyle</span> <span style=\"color: var(--jp-info-color0)\">INFO</span>: 12:1: E265 block comment should start with &#x27;# &#x27;</pre>"
      ],
      "text/plain": [
       "<IPython.core.display.HTML object>"
      ]
     },
     "metadata": {},
     "output_type": "display_data"
    },
    {
     "data": {
      "text/html": [
       "<pre style=\"margin: 0.1em;\n",
       "padding-left: 0.25em;\n",
       "border-left-style: solid;\n",
       "font-family: var(--jp-code-font-family);\n",
       "font-size: var(--jp-code-font-size);\n",
       "line-height: var(--jp-code-line-height);\n",
       "\"><span style=\"color: var(--jp-warn-color2)\">pycodestyle</span> <span style=\"color: var(--jp-info-color0)\">INFO</span>: 12:80: E501 line too long (87 &gt; 79 characters)</pre>"
      ],
      "text/plain": [
       "<IPython.core.display.HTML object>"
      ]
     },
     "metadata": {},
     "output_type": "display_data"
    },
    {
     "data": {
      "text/html": [
       "<pre style=\"margin: 0.1em;\n",
       "padding-left: 0.25em;\n",
       "border-left-style: solid;\n",
       "font-family: var(--jp-code-font-family);\n",
       "font-size: var(--jp-code-font-size);\n",
       "line-height: var(--jp-code-line-height);\n",
       "\"><span style=\"color: var(--jp-warn-color2)\">pycodestyle</span> <span style=\"color: var(--jp-info-color0)\">INFO</span>: 13:1: E265 block comment should start with &#x27;# &#x27;</pre>"
      ],
      "text/plain": [
       "<IPython.core.display.HTML object>"
      ]
     },
     "metadata": {},
     "output_type": "display_data"
    },
    {
     "data": {
      "text/html": [
       "<pre style=\"margin: 0.1em;\n",
       "padding-left: 0.25em;\n",
       "border-left-style: solid;\n",
       "font-family: var(--jp-code-font-family);\n",
       "font-size: var(--jp-code-font-size);\n",
       "line-height: var(--jp-code-line-height);\n",
       "\"><span style=\"color: var(--jp-warn-color2)\">pycodestyle</span> <span style=\"color: var(--jp-info-color0)\">INFO</span>: 14:1: E265 block comment should start with &#x27;# &#x27;</pre>"
      ],
      "text/plain": [
       "<IPython.core.display.HTML object>"
      ]
     },
     "metadata": {},
     "output_type": "display_data"
    }
   ],
   "source": [
    "#query1 = \"SELECT mpc.ssObjectId, mpc.q, sso.ssObjectId, sso.arc \" + \\\n",
    "#        \"FROM dp03_catalogs.MPCORB as mpc \" + \\\n",
    "#        \"INNER JOIN dp03_catalogs.SSObject as sso \" + \\\n",
    "#        \"ON mpc.ssObjectId = sso.ssObjectId \" + \\\n",
    "#        \"INNER JOIN dp03_catalogs.DiaSource as dia \" + \\\n",
    "#        \"ON mpc.ssObjectId = dia.ssObjectId \" + \\\n",
    "#        \"INNER JOIN dp03_catalogs.SSSource as sss \" + \\\n",
    "#        \"ON mpc.ssObjectId = sss.ssObjectId \" + \\\n",
    "#        \"WHERE mpc.ssObjectId > 1  AND sso.arc > 3000 \"  + \\\n",
    "#        \"AND mpc.q < 1 ORDER by sso.arc\"\n",
    "\n",
    "#query = \"SELECT TOP 10000 * FROM dp03_catalogs.SSObject WHERE arc > 3000 ORDER by arc\"\n",
    "#df = service.search(query).to_table().to_pandas()\n",
    "#df"
   ]
  },
  {
   "cell_type": "code",
   "execution_count": 13,
   "id": "97a8b0c5-05e0-4321-bb42-6342d9475585",
   "metadata": {
    "execution": {
     "iopub.execute_input": "2023-06-28T17:54:34.812705Z",
     "iopub.status.busy": "2023-06-28T17:54:34.812443Z",
     "iopub.status.idle": "2023-06-28T17:54:34.951729Z",
     "shell.execute_reply": "2023-06-28T17:54:34.950942Z",
     "shell.execute_reply.started": "2023-06-28T17:54:34.812682Z"
    }
   },
   "outputs": [
    {
     "data": {
      "text/html": [
       "<pre style=\"margin: 0.1em;\n",
       "padding-left: 0.25em;\n",
       "border-left-style: solid;\n",
       "font-family: var(--jp-code-font-family);\n",
       "font-size: var(--jp-code-font-size);\n",
       "line-height: var(--jp-code-line-height);\n",
       "\"><span style=\"color: var(--jp-warn-color2)\">pycodestyle</span> <span style=\"color: var(--jp-info-color0)\">INFO</span>: 1:1: E265 block comment should start with &#x27;# &#x27;</pre>"
      ],
      "text/plain": [
       "<IPython.core.display.HTML object>"
      ]
     },
     "metadata": {},
     "output_type": "display_data"
    },
    {
     "data": {
      "text/html": [
       "<pre style=\"margin: 0.1em;\n",
       "padding-left: 0.25em;\n",
       "border-left-style: solid;\n",
       "font-family: var(--jp-code-font-family);\n",
       "font-size: var(--jp-code-font-size);\n",
       "line-height: var(--jp-code-line-height);\n",
       "\"><span style=\"color: var(--jp-warn-color2)\">pycodestyle</span> <span style=\"color: var(--jp-info-color0)\">INFO</span>: 1:80: E501 line too long (80 &gt; 79 characters)</pre>"
      ],
      "text/plain": [
       "<IPython.core.display.HTML object>"
      ]
     },
     "metadata": {},
     "output_type": "display_data"
    },
    {
     "data": {
      "text/html": [
       "<pre style=\"margin: 0.1em;\n",
       "padding-left: 0.25em;\n",
       "border-left-style: solid;\n",
       "font-family: var(--jp-code-font-family);\n",
       "font-size: var(--jp-code-font-size);\n",
       "line-height: var(--jp-code-line-height);\n",
       "\"><span style=\"color: var(--jp-warn-color2)\">pycodestyle</span> <span style=\"color: var(--jp-info-color0)\">INFO</span>: 4:1: E265 block comment should start with &#x27;# &#x27;</pre>"
      ],
      "text/plain": [
       "<IPython.core.display.HTML object>"
      ]
     },
     "metadata": {},
     "output_type": "display_data"
    }
   ],
   "source": [
    "#query = \"SELECT TOP 10000 * FROM dp03_catalogs.MPCORB WHERE q < 1 ORDER by arc\"\n",
    "\n",
    "# this takes too long:\n",
    "#query = \"SELECT mpc.ssObjectId, mpc.q, sso.ssObjectId, sso.arc \" + \\\n",
    "#        \"FROM dp03_catalogs.MPCORB as mpc \" + \\\n",
    "#        \"JOIN dp03_catalogs.SSObject as sso \" + \\\n",
    "#        \"ON mpc.ssObjectId = sso.ssObjectId \" + \\\n",
    "#        \"JOIN dp03_catalogs.DiaSource as dia \" + \\\n",
    "#        \"ON mpc.ssObjectId = dia.ssObjectId \" + \\\n",
    "#        \"JOIN dp03_catalogs.SSSource as sss \" + \\\n",
    "#        \"ON mpc.ssObjectId = sss.ssObjectId \" + \\\n",
    "#        \"WHERE mpc.ssObjectId > 1  AND sso.arc > 3000 \"  + \\\n",
    "#        \"AND mpc.q < 1 ORDER by sso.arc\"\n"
   ]
  },
  {
   "cell_type": "code",
   "execution_count": 14,
   "id": "7d1ce43b-03ee-46b4-9718-74596ab7c0e2",
   "metadata": {
    "execution": {
     "iopub.execute_input": "2023-06-28T17:54:34.953019Z",
     "iopub.status.busy": "2023-06-28T17:54:34.952744Z",
     "iopub.status.idle": "2023-06-28T17:54:35.076299Z",
     "shell.execute_reply": "2023-06-28T17:54:35.075605Z",
     "shell.execute_reply.started": "2023-06-28T17:54:34.952974Z"
    },
    "tags": []
   },
   "outputs": [
    {
     "data": {
      "text/html": [
       "<pre style=\"margin: 0.1em;\n",
       "padding-left: 0.25em;\n",
       "border-left-style: solid;\n",
       "font-family: var(--jp-code-font-family);\n",
       "font-size: var(--jp-code-font-size);\n",
       "line-height: var(--jp-code-line-height);\n",
       "\"><span style=\"color: var(--jp-warn-color2)\">pycodestyle</span> <span style=\"color: var(--jp-info-color0)\">INFO</span>: 2:1: E265 block comment should start with &#x27;# &#x27;</pre>"
      ],
      "text/plain": [
       "<IPython.core.display.HTML object>"
      ]
     },
     "metadata": {},
     "output_type": "display_data"
    }
   ],
   "source": [
    "\n",
    "#query = \"SELECT mpc.ssObjectId, mpc.q, sso.ssObjectId, sso.arc, dia.mag,\" + \\\n",
    "#        \"dia.magSigma, dia.filter, sss.phaseAngle, sss.topocentricDist, \" + \\\n",
    "#        \"sss.heliocentricDist, dia.midPointTai \" + \\\n",
    "#        \"FROM dp03_catalogs.MPCORB as mpc \" + \\\n",
    "#        \"JOIN dp03_catalogs.SSObject as sso \" + \\\n",
    "#        \"ON mpc.ssObjectId = sso.ssObjectId \" + \\\n",
    "#        \"JOIN dp03_catalogs.DiaSource as dia \" + \\\n",
    "#        \"ON mpc.ssObjectId = dia.ssObjectId \" + \\\n",
    "#        \"JOIN dp03_catalogs.SSSource as sss \" + \\\n",
    "#        \"ON mpc.ssObjectId = sss.ssObjectId \" + \\\n",
    "#        \"WHERE sss.ssObjectId = 3728357697728353090\"\n"
   ]
  }
 ],
 "metadata": {
  "kernelspec": {
   "display_name": "LSST",
   "language": "python",
   "name": "lsst"
  },
  "language_info": {
   "codemirror_mode": {
    "name": "ipython",
    "version": 3
   },
   "file_extension": ".py",
   "mimetype": "text/x-python",
   "name": "python",
   "nbconvert_exporter": "python",
   "pygments_lexer": "ipython3",
   "version": "3.10.10"
  },
  "toc-autonumbering": false
 },
 "nbformat": 4,
 "nbformat_minor": 5
}
