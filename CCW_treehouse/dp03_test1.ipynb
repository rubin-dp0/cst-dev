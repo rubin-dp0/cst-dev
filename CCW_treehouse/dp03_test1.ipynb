{
 "cells": [
  {
   "cell_type": "markdown",
   "id": "749b0ddf",
   "metadata": {},
   "source": [
    "<img align=\"left\" src = https://project.lsst.org/sites/default/files/Rubin-O-Logo_0.png width=250 style=\"padding: 10px\"> \n",
    "<b>CET Template Notebook</b> <br>\n",
    "Contact author(s): <i>Author Name</i> <br>\n",
    "Last verified to run: <i>yyyy-mm-dd</i> <br>\n",
    "LSST Science Piplines version: Weekly <i>yyyy_xx</i> <br>\n",
    "Container Size: <i>medium</i> <br>\n",
    "Targeted learning level: <i>beginner</i> <br>"
   ]
  },
  {
   "cell_type": "markdown",
   "id": "2d9cd09b-d5c4-4610-993b-711bdc9bd80e",
   "metadata": {},
   "source": [
    "_In this template, text in italics are examples or instructions that should be: (a) removed if it is not applicable to the notebook; or (b) replaced with text that is appropriate for the notebook. But bold or regular text should appear pretty much as-is in all CET notebooks. For more information, see the [CET's Guidelines for Tutorial Notebooks](https://confluence.lsstcorp.org/pages/viewpage.action?pageId=168857070)._"
   ]
  },
  {
   "cell_type": "markdown",
   "id": "582ab507-a7ae-4024-95c9-38aabeb602a6",
   "metadata": {},
   "source": [
    "_While developing, use the following code cell to check that the code conforms to standards, but then delete the cell and \"Kernel --> Restart Kernel and Clear All Outputs\" before saving and committing._"
   ]
  },
  {
   "cell_type": "code",
   "execution_count": 1,
   "id": "7acc79a4-8530-42d9-96e5-b7acb4397864",
   "metadata": {
    "execution": {
     "iopub.execute_input": "2023-06-28T17:54:30.395053Z",
     "iopub.status.busy": "2023-06-28T17:54:30.394817Z",
     "iopub.status.idle": "2023-06-28T17:54:30.435427Z",
     "shell.execute_reply": "2023-06-28T17:54:30.434535Z",
     "shell.execute_reply.started": "2023-06-28T17:54:30.395031Z"
    }
   },
   "outputs": [],
   "source": [
    "%load_ext pycodestyle_magic\n",
    "%flake8_on\n",
    "import logging\n",
    "logging.getLogger(\"flake8\").setLevel(logging.FATAL)"
   ]
  },
  {
   "cell_type": "markdown",
   "id": "482777d8-0a8d-432e-ba53-2da536700407",
   "metadata": {},
   "source": [
    "_The six cells below are considered the extended header of the notebook. The first four will be used, verbatim, to create the table of notebook metadata in the README.md file for the repository._"
   ]
  },
  {
   "cell_type": "markdown",
   "id": "9da1a210-d858-42fe-8591-570965b8be1a",
   "metadata": {},
   "source": [
    "**Description:** _Very brief description of notebook._"
   ]
  },
  {
   "cell_type": "markdown",
   "id": "80a0baf5-51ad-40ec-8991-060a7b27c289",
   "metadata": {},
   "source": [
    "**Skills:** _Brief list of skills to match the README.md file for the repository._"
   ]
  },
  {
   "cell_type": "markdown",
   "id": "393da88f-7978-4920-aa4a-a9830df6eed9",
   "metadata": {},
   "source": [
    "**LSST Data Products:** _List the all of the types of LSST catalogs and images used._"
   ]
  },
  {
   "cell_type": "markdown",
   "id": "5c67fab9-136a-4adc-bb42-142b91ab69dd",
   "metadata": {},
   "source": [
    "**Packages:** _List the python packages used._ (_List the packages being taught first, e.g., afwDisplay for a notebook about displaying images. Then supporting packages, e.g., lsst.daf.butler for a notebook about displaying images. It is OK to leave out basic support packages like os or glob.)_"
   ]
  },
  {
   "cell_type": "markdown",
   "id": "8f72b27f",
   "metadata": {},
   "source": [
    "**Credit:**\n",
    "_E.g., \"Originally developed by\" or \"Based on notebooks developed by\" and then people's names, including journal article or software release citations if appropriate._\n",
    "Please consider acknowledging them if this notebook is used for the preparation of journal articles, software releases, or other notebooks."
   ]
  },
  {
   "cell_type": "markdown",
   "id": "28e91cbf-ab7f-4e26-9276-b00299d6065e",
   "metadata": {},
   "source": [
    "**Get Support:**\n",
    "Find DP0-related documentation and resources at <a href=\"https://dp0-2.lsst.io\">dp0-2.lsst.io</a>. Questions are welcome as new topics in the <a href=\"https://community.lsst.org/c/support/dp0\">Support - Data Preview 0 Category</a> of the Rubin Community Forum. Rubin staff will respond to all questions posted there."
   ]
  },
  {
   "cell_type": "markdown",
   "id": "cfc73be0",
   "metadata": {},
   "source": [
    "## 1. Introduction\n",
    "\n",
    "_Provide a light narrative about this notebook, e.g., \"This notebook will teach the user...\"._\n",
    "\n",
    "_Cite or link to any external information or documentation, and cross-reference to other notebooks._"
   ]
  },
  {
   "cell_type": "markdown",
   "id": "dc36f107",
   "metadata": {},
   "source": [
    "### 1.1 Package Imports\n",
    "\n",
    "_All package imports should be done in the first code cell._\n",
    "\n",
    "_Provide explanation or external links to package documentation, where appropriate._\n",
    "\n",
    "_E.g., Numpy is a fundamental package for scientific computing with arrays in Python (<a href=\"https://numpy.org\">numpy.org</a>)._\n",
    "\n",
    "_Use code cell comments to describe the packages being imported._"
   ]
  },
  {
   "cell_type": "code",
   "execution_count": 16,
   "id": "cddc1458",
   "metadata": {
    "execution": {
     "iopub.execute_input": "2023-06-28T21:00:19.173809Z",
     "iopub.status.busy": "2023-06-28T21:00:19.173337Z",
     "iopub.status.idle": "2023-06-28T21:00:19.179845Z",
     "shell.execute_reply": "2023-06-28T21:00:19.178892Z",
     "shell.execute_reply.started": "2023-06-28T21:00:19.173777Z"
    },
    "tags": []
   },
   "outputs": [],
   "source": [
    "# general python packages\n",
    "import numpy as np\n",
    "import matplotlib.pyplot as plt\n",
    "plt.style.use('tableau-colorblind10')\n",
    "\n",
    "# LSST package for TAP queries\n",
    "from lsst.rsp import get_tap_service, retrieve_query\n",
    "\n",
    "# LSST package for Butler queries\n",
    "import lsst.daf.butler as dafButler\n",
    "\n",
    "# LSST package for image display\n",
    "import lsst.afw.display as afwDisplay\n",
    "\n",
    "from matplotlib import colormaps\n",
    "\n"
   ]
  },
  {
   "cell_type": "markdown",
   "id": "c217adff-25ed-4fce-95e7-8aa04630f6cc",
   "metadata": {},
   "source": [
    "### 1.2 Define Functions and Parameters\n",
    "\n",
    "Import some functions from Pedro"
   ]
  },
  {
   "cell_type": "code",
   "execution_count": 17,
   "id": "37d86162-8557-4f65-9813-ec46818466a9",
   "metadata": {
    "execution": {
     "iopub.execute_input": "2023-06-28T21:00:21.838043Z",
     "iopub.status.busy": "2023-06-28T21:00:21.837362Z",
     "iopub.status.idle": "2023-06-28T21:00:21.854970Z",
     "shell.execute_reply": "2023-06-28T21:00:21.853804Z",
     "shell.execute_reply.started": "2023-06-28T21:00:21.838000Z"
    },
    "tags": []
   },
   "outputs": [],
   "source": [
    "import numpy as np \n",
    "from scipy.interpolate import CubicSpline\n",
    "from scipy.optimize import leastsq\n",
    "#Constants\n",
    "\n",
    "A = [3.332, 1.862]\n",
    "B = [0.631, 1.218]\n",
    "C = [0.986, 0.238]\n",
    "\n",
    "#values taken from sbpy for convenience\n",
    "\n",
    "alpha_12 = np.deg2rad([7.5, 30., 60, 90, 120, 150])\n",
    "\n",
    "phi_1_sp = [7.5e-1, 3.3486016e-1, 1.3410560e-1, 5.1104756e-2, 2.1465687e-2, 3.6396989e-3]\n",
    "phi_1_derivs = [-1.9098593, -9.1328612e-2]\n",
    "\n",
    "phi_2_sp = [9.25e-1, 6.2884169e-1, 3.1755495e-1, 1.2716367e-1, 2.2373903e-2, 1.6505689e-4]\n",
    "phi_2_derivs = [-5.7295780e-1, -8.6573138e-8]\n",
    "\n",
    "alpha_3 = np.deg2rad([0.0, 0.3, 1., 2., 4., 8., 12., 20., 30.])\n",
    "\n",
    "phi_3_sp = [1., 8.3381185e-1, 5.7735424e-1, 4.2144772e-1, 2.3174230e-1, 1.0348178e-1, 6.1733473e-2, 1.6107006e-2, 0.]\n",
    "phi_3_derivs = [-1.0630097, 0]\n",
    "\n",
    "\n",
    "phi_1 = CubicSpline(alpha_12, phi_1_sp, bc_type=((1,phi_1_derivs[0]),(1,phi_1_derivs[1])))\n",
    "phi_2 = CubicSpline(alpha_12, phi_2_sp, bc_type=((1,phi_2_derivs[0]),(1,phi_2_derivs[1])))\n",
    "phi_3 = CubicSpline(alpha_3, phi_3_sp, bc_type=((1,phi_3_derivs[0]),(1,phi_3_derivs[1])))\n",
    "\n",
    "\n",
    "def HG_model(phase, params):\n",
    "    \"\"\"\n",
    "    Reference: Bowell et al. (1989)\n",
    "    This is the oldest 2 parameter model. \n",
    "    \"\"\"\n",
    "    sin_a = np.sin(phase)\n",
    "    tan_ah = np.tan(phase/2)\n",
    "    \n",
    "    W = np.exp(-90.56 * tan_ah * tan_ah)    \n",
    "    scale_sina = sin_a/(0.119 + 1.341*sin_a - 0.754*sin_a*sin_a)\n",
    "    \n",
    "    phi_1_S = 1 - C[0] * scale_sina\n",
    "    phi_2_S = 1 - C[1] * scale_sina\n",
    "    \n",
    "    phi_1_L = np.exp(-A[0] * np.power(tan_ah, B[0]))\n",
    "    phi_2_L = np.exp(-A[1] * np.power(tan_ah, B[1]))\n",
    "    \n",
    "    phi_1 = W * phi_1_S + (1-W) * phi_1_L\n",
    "    phi_2 = W * phi_2_S + (1-W) * phi_2_L\n",
    "    return params[0] - 2.5*np.log10((1-params[1])* phi_1 + (params[1]) * phi_2) \n",
    "\n",
    "\n",
    "\n",
    "def HG1G2_model(phase, params):\n",
    "    \"\"\"\n",
    "    Reference: Muinonen et al. (2010) https://ui.adsabs.harvard.edu/abs/2010Icar..209..542M/abstract\n",
    "    This is the 3 parameter model, which works best when you have a sufficiently long phaseangle coverage.\n",
    "    \"\"\"\n",
    "\n",
    "    tan_ah = np.tan(phase/2)\n",
    "\n",
    "    phi_1_ev = phi_1(phase)  \n",
    "    phi_2_ev = phi_2(phase)  \n",
    "    phi_3_ev = phi_3(phase)  \n",
    "\n",
    "    msk = phase < 7.5 * np.pi/180\n",
    "\n",
    "    phi_1_ev[msk] = 1-6*phase[msk]/np.pi \n",
    "    phi_2_ev[msk] = 1- 9 * phase[msk]/(5*np.pi)\n",
    "\n",
    "    phi_3_ev[phase > np.pi/6] = 0\n",
    "\n",
    "\n",
    "    return params[0] - 2.5 * np.log10(params[1] * phi_1_ev + params[2] * phi_2_ev + (1-params[1]-params[2]) * phi_3_ev)\n",
    "\n",
    "def HG12_model(phase, params): \n",
    "    \"\"\"\n",
    "    Reference:\n",
    "    Muinonen et al. (2010) https://ui.adsabs.harvard.edu/abs/2010Icar..209..542M/abstract\n",
    "    This is a simplified version of HG1G2. It's more useful when phaseangle coverage is shorter.\n",
    "    \"\"\"\n",
    "    if params[1] >= 0.2:\n",
    "        G1 = +0.9529*params[1] + 0.02162 \n",
    "        G2 = -0.6125*params[1] + 0.5572\n",
    "    else:\n",
    "        G1 = +0.7527*params[1] + 0.06164  \n",
    "        G2 = -0.9612*params[1] + 0.6270\n",
    "\n",
    "    return HG1G2_model(phase, [params[0], G1, G2])\n",
    "\n",
    "def chi2(params, mag, phase, mag_err, model):\n",
    "    pred = model(phase, params)\n",
    "    return (mag - pred)/mag_err\n",
    "\n",
    "def fit(mag, phase, sigma, model=HG12_model, params=[0.1]):\n",
    "    phase = np.deg2rad(phase)\n",
    "\n",
    "\n",
    "    sol = leastsq(chi2, [mag[0]] + params,  (mag, phase, sigma, model), full_output = True)\n",
    "\n",
    "    return sol\n",
    "\n",
    "\n"
   ]
  },
  {
   "cell_type": "code",
   "execution_count": 18,
   "id": "5cdf1dd4-10b7-4c1f-8f4f-b4ab252822a6",
   "metadata": {
    "execution": {
     "iopub.execute_input": "2023-06-28T21:00:26.618468Z",
     "iopub.status.busy": "2023-06-28T21:00:26.617964Z",
     "iopub.status.idle": "2023-06-28T21:00:26.628911Z",
     "shell.execute_reply": "2023-06-28T21:00:26.627859Z",
     "shell.execute_reply.started": "2023-06-28T21:00:26.618433Z"
    },
    "tags": []
   },
   "outputs": [],
   "source": [
    "def fit_models(mag, magSigma, phaseAngle, tdist, rdist):\n",
    "\n",
    "    # correct the mag to 1AU distance\n",
    "    dmag = -5. * np.log10(tdist*rdist)\n",
    "    mag = mag + dmag\n",
    "\n",
    "    #double check if this is needed\n",
    "    #phaseAngle = np.deg2rad(phaseAngle)\n",
    "\n",
    "    # now we'll fit using each one of the HG, HG12 and HG1G2 models and store these in a dictionary of dictionaries\n",
    "    solutions = {}\n",
    "\n",
    "    #Let's do HG first\n",
    "    sol_HG = fit(mag, phaseAngle, magSigma, model=HG_model)\n",
    "\n",
    "    solutions['HG'] = {}\n",
    "\n",
    "    solutions['HG']['chi2'] = np.sum(sol_HG[2]['fvec']**2)\n",
    "    solutions['HG']['H'] = sol_HG[0][0]\n",
    "    solutions['HG']['G'] = sol_HG[0][1]\n",
    "    solutions['HG']['H_err'] = np.sqrt(sol_HG[1][0,0])\n",
    "    solutions['HG']['G_err'] = np.sqrt(sol_HG[1][1,1])\n",
    "    solutions['HG']['cov'] = sol_HG[1]\n",
    "            \n",
    "\n",
    "    # now HG12\n",
    "    sol_HG12 = fit(mag, phaseAngle, magSigma, model=HG12_model)\n",
    "\n",
    "    solutions['HG12'] = {}\n",
    "\n",
    "    solutions['HG12']['chi2'] = np.sum(sol_HG12[2]['fvec']**2)\n",
    "    solutions['HG12']['H'] = sol_HG12[0][0]\n",
    "    solutions['HG12']['G12'] = sol_HG12[0][1]\n",
    "    solutions['HG12']['H_err'] = np.sqrt(sol_HG12[1][0,0])\n",
    "    solutions['HG12']['G12_err'] = np.sqrt(sol_HG12[1][1,1])\n",
    "    solutions['HG12']['cov'] = sol_HG12[1]\n",
    "\n",
    "    # finally, HG1G2 - note this returns an extra parameter\n",
    "\n",
    "    # now HG12, let's tell the code we need that extra parameter\n",
    "    sol_HG1G2 = fit(mag, phaseAngle, magSigma, model=HG1G2_model, params=[0.1, 0.1])\n",
    "\n",
    "    solutions['HG1G2'] = {}\n",
    "\n",
    "    solutions['HG1G2']['chi2'] = np.sum(sol_HG1G2[2]['fvec']**2)\n",
    "    solutions['HG1G2']['H'] = sol_HG1G2[0][0]\n",
    "    solutions['HG1G2']['G1'] = sol_HG1G2[0][1]\n",
    "    solutions['HG1G2']['G2'] = sol_HG1G2[0][1]\n",
    "    solutions['HG1G2']['H_err'] = np.sqrt(sol_HG1G2[1][0,0])\n",
    "    solutions['HG1G2']['G1_err'] = np.sqrt(sol_HG1G2[1][1,1])\n",
    "    solutions['HG1G2']['G2_err'] = np.sqrt(sol_HG1G2[1][2,2])\n",
    "\n",
    "    solutions['HG1G2']['cov'] = sol_HG1G2[1]\n",
    "    return solutions"
   ]
  },
  {
   "cell_type": "markdown",
   "id": "ec51ac0b",
   "metadata": {
    "tags": []
   },
   "source": [
    "## 2. Section Heading\n",
    "\n",
    "_Use numbers for sections, sub-sections, and sub-sub-sections to enable referencing, e.g., \"I'm having trouble with the second code cell in Section 2.3.\"_\n",
    "\n",
    "_Use section titles that actively describe what is being done, e.g., \"Create a color-magnitude diagram\" instead of \"Plot\", so that the auto-generated table of contents is easy to navigate._\n",
    "\n",
    "### 2.1 Section Sub-heading\n",
    "\n",
    "#### 2.1.1 Section Sub-sub-heading"
   ]
  },
  {
   "cell_type": "code",
   "execution_count": 19,
   "id": "81b8cd59-1ba3-4eaa-846f-6478ed0c3cf5",
   "metadata": {
    "execution": {
     "iopub.execute_input": "2023-06-28T21:00:27.479001Z",
     "iopub.status.busy": "2023-06-28T21:00:27.477842Z",
     "iopub.status.idle": "2023-06-28T21:00:27.540740Z",
     "shell.execute_reply": "2023-06-28T21:00:27.539731Z",
     "shell.execute_reply.started": "2023-06-28T21:00:27.478955Z"
    },
    "tags": []
   },
   "outputs": [],
   "source": [
    "service = get_tap_service(\"ssotap\")\n",
    "\n",
    "# select by NEO to get a larger range of orbital \n",
    "# need perihelion distance < 1 AU in MPCORB and on nobs is a lot? Or, select on long value of arc\n",
    "\n",
    "# Need to check that the phase angle units in radians vs degrees. Function above by Pedro\n",
    "# assumes they will be in degrees so may need to convert (check if goes to 90 or pi)\n",
    "\n",
    "# need apparent magnitudes & uncertainties, phase angle topocentric (tdist) and heliocentric (rdist) distances & uncertainties (but they are 0; from SSSource)\n",
    "#fitHG12 returns the absmag and phase coeff (G12) These will all be per band\n",
    "\n",
    "# could also do the query using LEFT JOIN (i.e. specify a reference catalog to improve\n",
    "# efficiency of the query)"
   ]
  },
  {
   "cell_type": "code",
   "execution_count": 59,
   "id": "696c2352-ff8c-4e6b-a13d-073c370eaddb",
   "metadata": {
    "execution": {
     "iopub.execute_input": "2023-06-28T21:45:40.242612Z",
     "iopub.status.busy": "2023-06-28T21:45:40.241596Z",
     "iopub.status.idle": "2023-06-28T21:45:40.777193Z",
     "shell.execute_reply": "2023-06-28T21:45:40.776397Z",
     "shell.execute_reply.started": "2023-06-28T21:45:40.242580Z"
    },
    "tags": []
   },
   "outputs": [
    {
     "data": {
      "text/html": [
       "<div><i>Table length=403</i>\n",
       "<table id=\"table139623526459776\" class=\"table-striped table-bordered table-condensed\">\n",
       "<thead><tr><th>ssObjectId</th><th>q</th><th>ssObjectId2</th><th>arc</th><th>uH</th><th>uHerr</th><th>uG12</th><th>uG12err</th><th>gH</th><th>gHerr</th><th>gG12</th><th>gG12err</th><th>rH</th><th>rHerr</th><th>rG12</th><th>rG12err</th><th>iH</th><th>iHerr</th><th>iG12</th><th>iG12err</th><th>zH</th><th>zHerr</th><th>zG12</th><th>zG12err</th><th>yH</th><th>yHerr</th><th>yG12</th><th>yG12err</th></tr></thead>\n",
       "<thead><tr><th></th><th>AU</th><th></th><th>days</th><th>mag</th><th>mag</th><th>mag</th><th>mag</th><th>mag</th><th>mag</th><th>mag</th><th>mag</th><th>mag</th><th>mag</th><th>mag</th><th>mag</th><th>mag</th><th>mag</th><th>mag</th><th>mag</th><th>mag</th><th>mag</th><th>mag</th><th>mag</th><th>mag</th><th>mag</th><th>mag</th><th>mag</th></tr></thead>\n",
       "<thead><tr><th>int64</th><th>float64</th><th>int64</th><th>float32</th><th>float32</th><th>float32</th><th>float32</th><th>float32</th><th>float32</th><th>float32</th><th>float32</th><th>float32</th><th>float32</th><th>float32</th><th>float32</th><th>float32</th><th>float32</th><th>float32</th><th>float32</th><th>float32</th><th>float32</th><th>float32</th><th>float32</th><th>float32</th><th>float32</th><th>float32</th><th>float32</th><th>float32</th></tr></thead>\n",
       "<tr><td>7715686124374063765</td><td>0.571065676945</td><td>7715686124374063765</td><td>3002.7124</td><td>18.90946</td><td>0.0043053715</td><td>0.1608448</td><td>0.002444223</td><td>17.378702</td><td>0.0027190791</td><td>0.16151895</td><td>0.0015305596</td><td>16.714846</td><td>0.0018636519</td><td>0.15415351</td><td>0.0010499314</td><td>16.495907</td><td>0.0014645538</td><td>0.14409728</td><td>0.00080861215</td><td>16.550474</td><td>0.0020617582</td><td>0.1441396</td><td>0.0012063707</td><td>16.54686</td><td>0.0022156273</td><td>0.14521246</td><td>0.0011194511</td></tr>\n",
       "<tr><td>-8780660183998289281</td><td>0.820917810849</td><td>-8780660183998289281</td><td>3004.073</td><td>17.943047</td><td>0.003435604</td><td>0.1319347</td><td>0.002909414</td><td>16.428194</td><td>0.0020551125</td><td>0.14233191</td><td>0.0011944234</td><td>15.778479</td><td>0.0010629223</td><td>0.14242189</td><td>0.00069887086</td><td>15.578641</td><td>0.0008598937</td><td>0.14269847</td><td>0.0004986182</td><td>15.640499</td><td>0.0017590912</td><td>0.14727227</td><td>0.0009851776</td><td>15.638181</td><td>0.002484336</td><td>0.14797649</td><td>0.0014223099</td></tr>\n",
       "<tr><td>-8396876516603990761</td><td>0.418218052963</td><td>-8396876516603990761</td><td>3008.6653</td><td>--</td><td>--</td><td>--</td><td>--</td><td>19.36406</td><td>0.0023286364</td><td>0.13178268</td><td>0.0026904028</td><td>18.716324</td><td>0.0016103638</td><td>0.13308255</td><td>0.001770967</td><td>18.523846</td><td>0.00088433677</td><td>0.14102454</td><td>0.0007487681</td><td>18.595655</td><td>0.006199951</td><td>0.14965267</td><td>0.002953262</td><td>18.570574</td><td>0.0009961161</td><td>0.14045364</td><td>0.0006569257</td></tr>\n",
       "<tr><td>-5696324832212391882</td><td>0.895456946306</td><td>-5696324832212391882</td><td>3014.6917</td><td>21.189829</td><td>0.32051426</td><td>0.20681505</td><td>0.2143256</td><td>19.527521</td><td>0.0038084248</td><td>0.13452598</td><td>0.0030609749</td><td>18.88032</td><td>0.0038285942</td><td>0.1345948</td><td>0.0031471518</td><td>18.675367</td><td>0.0057876376</td><td>0.13239554</td><td>0.0049451995</td><td>18.725496</td><td>0.009042079</td><td>0.124834396</td><td>0.007938425</td><td>18.712135</td><td>0.025097558</td><td>0.1236046</td><td>0.017989833</td></tr>\n",
       "<tr><td>7679944747240041758</td><td>0.840474265631</td><td>7679944747240041758</td><td>3022.1682</td><td>21.468689</td><td>0.1359462</td><td>0.09719814</td><td>0.07827226</td><td>20.04137</td><td>0.016985144</td><td>0.16374041</td><td>0.0097732395</td><td>19.37782</td><td>0.00919161</td><td>0.15393928</td><td>0.00532</td><td>19.184336</td><td>0.018791627</td><td>0.15867557</td><td>0.010729314</td><td>19.18976</td><td>0.015509653</td><td>0.13068925</td><td>0.008929713</td><td>19.239641</td><td>0.034168627</td><td>0.16324636</td><td>0.020700412</td></tr>\n",
       "<tr><td>4031067060225681921</td><td>0.516501056815</td><td>4031067060225681921</td><td>3022.6965</td><td>--</td><td>--</td><td>--</td><td>--</td><td>20.432327</td><td>0.020913607</td><td>0.14906831</td><td>0.015531123</td><td>19.763157</td><td>0.0105768675</td><td>0.13901448</td><td>0.008295496</td><td>19.565521</td><td>0.01279993</td><td>0.1393641</td><td>0.009827861</td><td>19.586174</td><td>0.028865777</td><td>0.11401525</td><td>0.018935781</td><td>19.46163</td><td>0.124143235</td><td>0.06434943</td><td>0.060525313</td></tr>\n",
       "<tr><td>5789538255677276403</td><td>0.915375468201</td><td>5789538255677276403</td><td>3023.7039</td><td>20.711811</td><td>0.06993432</td><td>0.18250193</td><td>0.07832042</td><td>19.170547</td><td>0.0145315975</td><td>0.15215416</td><td>0.014929708</td><td>18.523186</td><td>0.006325249</td><td>0.15399528</td><td>0.006374759</td><td>18.312649</td><td>0.0059254435</td><td>0.14433254</td><td>0.004208886</td><td>18.356674</td><td>0.01097433</td><td>0.13551377</td><td>0.0082622515</td><td>18.387228</td><td>0.029069629</td><td>0.16298378</td><td>0.028573383</td></tr>\n",
       "<tr><td>1573590504143555372</td><td>0.513909734279</td><td>1573590504143555372</td><td>3025.6282</td><td>20.15517</td><td>0.036408614</td><td>0.15484202</td><td>0.022919487</td><td>18.621355</td><td>0.0040895464</td><td>0.14331573</td><td>0.0024201337</td><td>17.973162</td><td>0.0014758252</td><td>0.14535415</td><td>0.00084397173</td><td>17.781563</td><td>0.0027079</td><td>0.14965132</td><td>0.0014599088</td><td>17.833742</td><td>0.0054859472</td><td>0.14916967</td><td>0.0033518458</td><td>17.838442</td><td>0.006110435</td><td>0.1536164</td><td>0.0032637147</td></tr>\n",
       "<tr><td>1465211875903456457</td><td>0.570407991902</td><td>1465211875903456457</td><td>3026.7014</td><td>--</td><td>--</td><td>--</td><td>--</td><td>18.226704</td><td>0.002626484</td><td>0.12572697</td><td>0.003463356</td><td>17.59422</td><td>0.0034342243</td><td>0.14050585</td><td>0.0025513002</td><td>17.403496</td><td>0.011235738</td><td>0.14834368</td><td>0.0068855165</td><td>17.44274</td><td>0.031630747</td><td>0.1429017</td><td>0.019435508</td><td>17.433151</td><td>0.038535446</td><td>0.13783832</td><td>0.025149127</td></tr>\n",
       "<tr><td>...</td><td>...</td><td>...</td><td>...</td><td>...</td><td>...</td><td>...</td><td>...</td><td>...</td><td>...</td><td>...</td><td>...</td><td>...</td><td>...</td><td>...</td><td>...</td><td>...</td><td>...</td><td>...</td><td>...</td><td>...</td><td>...</td><td>...</td><td>...</td><td>...</td><td>...</td><td>...</td><td>...</td></tr>\n",
       "<tr><td>-4174613303664427375</td><td>0.55119170615</td><td>-4174613303664427375</td><td>3591.1052</td><td>20.493374</td><td>0.03730038</td><td>0.059555635</td><td>0.04388537</td><td>19.03446</td><td>0.008036942</td><td>0.14170161</td><td>0.0036242744</td><td>18.38372</td><td>0.012760312</td><td>0.13653405</td><td>0.005571188</td><td>18.184996</td><td>0.013530494</td><td>0.14000347</td><td>0.005740686</td><td>18.204073</td><td>0.030838499</td><td>0.1266901</td><td>0.012656169</td><td>18.2899</td><td>0.08760414</td><td>0.17130004</td><td>0.041242976</td></tr>\n",
       "<tr><td>-7395578929366891308</td><td>0.214091086705</td><td>-7395578929366891308</td><td>3591.1724</td><td>--</td><td>--</td><td>--</td><td>--</td><td>18.228474</td><td>0.008453396</td><td>0.15350296</td><td>0.008855625</td><td>17.56402</td><td>0.004089725</td><td>0.13739999</td><td>0.0033026226</td><td>17.36787</td><td>0.0061533763</td><td>0.13912168</td><td>0.0040311497</td><td>17.425873</td><td>0.010222008</td><td>0.13892172</td><td>0.0073962887</td><td>17.432375</td><td>0.018770121</td><td>0.14973749</td><td>0.012643555</td></tr>\n",
       "<tr><td>-2805793518033624407</td><td>0.975714561056</td><td>-2805793518033624407</td><td>3591.9397</td><td>20.10285</td><td>0.049203582</td><td>0.024774544</td><td>0.056951404</td><td>18.676514</td><td>0.009945739</td><td>0.1439382</td><td>0.010675783</td><td>18.047228</td><td>0.006779218</td><td>0.15171392</td><td>0.0064473124</td><td>17.847486</td><td>0.010721565</td><td>0.15492508</td><td>0.010514062</td><td>17.881252</td><td>0.017535424</td><td>0.13985772</td><td>0.018295154</td><td>17.907944</td><td>0.045479007</td><td>0.19952522</td><td>0.052292157</td></tr>\n",
       "<tr><td>-5203697844019299269</td><td>0.99382595657</td><td>-5203697844019299269</td><td>3592.1052</td><td>--</td><td>--</td><td>--</td><td>--</td><td>19.7107</td><td>0.012338192</td><td>0.125694</td><td>0.012614199</td><td>19.098063</td><td>0.0092777135</td><td>0.15833996</td><td>0.008070705</td><td>18.875038</td><td>0.01016377</td><td>0.14423738</td><td>0.009488919</td><td>18.955006</td><td>0.016803904</td><td>0.16170982</td><td>0.01602051</td><td>18.924423</td><td>0.030379865</td><td>0.15187918</td><td>0.029950624</td></tr>\n",
       "<tr><td>-733702708926732204</td><td>0.945414527341</td><td>-733702708926732204</td><td>3592.1716</td><td>20.49153</td><td>0.070956655</td><td>0.12906514</td><td>0.07313919</td><td>19.031883</td><td>0.009994955</td><td>0.16058399</td><td>0.009052493</td><td>18.375292</td><td>0.0047251824</td><td>0.15476409</td><td>0.005089883</td><td>18.167683</td><td>0.0073098266</td><td>0.1450522</td><td>0.0067577353</td><td>18.233461</td><td>0.010188529</td><td>0.15397198</td><td>0.009606974</td><td>18.172241</td><td>0.03062028</td><td>0.119254336</td><td>0.026758147</td></tr>\n",
       "<tr><td>4365022949153024690</td><td>0.382634799384</td><td>4365022949153024690</td><td>3593.0972</td><td>20.328697</td><td>0.030378135</td><td>0.11429369</td><td>0.02314294</td><td>18.867365</td><td>0.0046235984</td><td>0.15491621</td><td>0.002988673</td><td>18.206274</td><td>0.003257149</td><td>0.14798115</td><td>0.0020882194</td><td>17.998465</td><td>0.004310614</td><td>0.14436285</td><td>0.0031362255</td><td>18.043295</td><td>0.010045041</td><td>0.13798946</td><td>0.007022225</td><td>18.057777</td><td>0.013740331</td><td>0.1490149</td><td>0.008979782</td></tr>\n",
       "<tr><td>6378017967207815463</td><td>0.695656634477</td><td>6378017967207815463</td><td>3593.2778</td><td>--</td><td>--</td><td>--</td><td>--</td><td>17.548325</td><td>0.009357478</td><td>0.15409176</td><td>0.0084764</td><td>16.88106</td><td>0.0070029297</td><td>0.1376012</td><td>0.005769957</td><td>16.677794</td><td>0.0050930493</td><td>0.13778488</td><td>0.0037036745</td><td>16.732752</td><td>0.009272344</td><td>0.13804401</td><td>0.008644845</td><td>16.72486</td><td>0.04893134</td><td>0.13193598</td><td>0.05763198</td></tr>\n",
       "<tr><td>9195611452849605128</td><td>0.895285339291</td><td>9195611452849605128</td><td>3593.3545</td><td>18.55302</td><td>0.09291454</td><td>0.16616313</td><td>0.10088301</td><td>17.034382</td><td>0.0061252625</td><td>0.14274594</td><td>0.004518656</td><td>16.388489</td><td>0.003104142</td><td>0.14239421</td><td>0.0022201454</td><td>16.187767</td><td>0.0035726428</td><td>0.14243123</td><td>0.0027389626</td><td>16.249048</td><td>0.008257766</td><td>0.1463593</td><td>0.0059320237</td><td>16.263449</td><td>0.016756967</td><td>0.16267656</td><td>0.012168534</td></tr>\n",
       "<tr><td>-8322746617728974231</td><td>0.154159694141</td><td>-8322746617728974231</td><td>3594.0552</td><td>--</td><td>--</td><td>--</td><td>--</td><td>--</td><td>--</td><td>--</td><td>--</td><td>14.403282</td><td>0.006404332</td><td>0.12720461</td><td>0.007467781</td><td>14.201071</td><td>0.009751889</td><td>0.11955478</td><td>0.010646952</td><td>14.228765</td><td>0.01495549</td><td>0.09233822</td><td>0.015665075</td><td>--</td><td>--</td><td>--</td><td>--</td></tr>\n",
       "<tr><td>830638013891984606</td><td>0.279261461915</td><td>830638013891984606</td><td>3594.2563</td><td>17.688154</td><td>0.0033229159</td><td>0.1421231</td><td>0.0024292562</td><td>16.153215</td><td>0.0012944314</td><td>0.14063941</td><td>0.0007529602</td><td>15.506722</td><td>0.0010305123</td><td>0.14280425</td><td>0.00056117214</td><td>15.3098545</td><td>0.00093796896</td><td>0.14410302</td><td>0.00053319253</td><td>15.361993</td><td>0.0019432834</td><td>0.142931</td><td>0.0011245571</td><td>15.360459</td><td>0.0062778476</td><td>0.14419386</td><td>0.0033651984</td></tr>\n",
       "</table></div>"
      ],
      "text/plain": [
       "<Table length=403>\n",
       "     ssObjectId            q        ...     yG12      yG12err   \n",
       "                           AU       ...     mag         mag     \n",
       "       int64            float64     ...   float32     float32   \n",
       "-------------------- -------------- ... ----------- ------------\n",
       " 7715686124374063765 0.571065676945 ...  0.14521246 0.0011194511\n",
       "-8780660183998289281 0.820917810849 ...  0.14797649 0.0014223099\n",
       "-8396876516603990761 0.418218052963 ...  0.14045364 0.0006569257\n",
       "-5696324832212391882 0.895456946306 ...   0.1236046  0.017989833\n",
       " 7679944747240041758 0.840474265631 ...  0.16324636  0.020700412\n",
       " 4031067060225681921 0.516501056815 ...  0.06434943  0.060525313\n",
       " 5789538255677276403 0.915375468201 ...  0.16298378  0.028573383\n",
       " 1573590504143555372 0.513909734279 ...   0.1536164 0.0032637147\n",
       " 1465211875903456457 0.570407991902 ...  0.13783832  0.025149127\n",
       "                 ...            ... ...         ...          ...\n",
       "-4174613303664427375  0.55119170615 ...  0.17130004  0.041242976\n",
       "-7395578929366891308 0.214091086705 ...  0.14973749  0.012643555\n",
       "-2805793518033624407 0.975714561056 ...  0.19952522  0.052292157\n",
       "-5203697844019299269  0.99382595657 ...  0.15187918  0.029950624\n",
       " -733702708926732204 0.945414527341 ... 0.119254336  0.026758147\n",
       " 4365022949153024690 0.382634799384 ...   0.1490149  0.008979782\n",
       " 6378017967207815463 0.695656634477 ...  0.13193598   0.05763198\n",
       " 9195611452849605128 0.895285339291 ...  0.16267656  0.012168534\n",
       "-8322746617728974231 0.154159694141 ...          --           --\n",
       "  830638013891984606 0.279261461915 ...  0.14419386 0.0033651984"
      ]
     },
     "execution_count": 59,
     "metadata": {},
     "output_type": "execute_result"
    }
   ],
   "source": [
    "# Getting a list of ssObjectID for sources with perihelion distance < 1 AU and arc longer than 3000 days \n",
    "# to have sufficient phase angle coverage.\n",
    "query0 = \"SELECT mpc.ssObjectId, mpc.q, sso.ssObjectId, sso.arc, \" + \\\n",
    "        \"sso.uH, sso.uHerr, sso.uG12, sso.uG12err, \" + \\\n",
    "        \"sso.gH, sso.gHerr, sso.gG12, sso.gG12err, \" + \\\n",
    "        \"sso.rH, sso.rHerr, sso.rG12, sso.rG12err, \" + \\\n",
    "        \"sso.iH, sso.iHerr, sso.iG12, sso.iG12err, \" + \\\n",
    "        \"sso.zH, sso.zHerr, sso.zG12, sso.zG12err, \" + \\\n",
    "        \"sso.yH, sso.yHerr, sso.yG12, sso.yG12err \" + \\\n",
    "        \"FROM dp03_catalogs.MPCORB as mpc \" + \\\n",
    "        \"INNER JOIN dp03_catalogs.SSObject as sso \" + \\\n",
    "        \"ON mpc.ssObjectId = sso.ssObjectId \" + \\\n",
    "        \"WHERE sso.numObs > 300 AND sso.arc > 3000 \"  + \\\n",
    "        \"AND mpc.q < 1 ORDER by sso.arc\"\n",
    "\n",
    "df0 = service.search(query0).to_table()\n",
    "df0"
   ]
  },
  {
   "cell_type": "code",
   "execution_count": 60,
   "id": "fa0d9211-1160-47fd-9a1e-70b814b827f5",
   "metadata": {
    "execution": {
     "iopub.execute_input": "2023-06-28T21:45:47.583701Z",
     "iopub.status.busy": "2023-06-28T21:45:47.582572Z",
     "iopub.status.idle": "2023-06-28T21:45:47.747324Z",
     "shell.execute_reply": "2023-06-28T21:45:47.746577Z",
     "shell.execute_reply.started": "2023-06-28T21:45:47.583666Z"
    },
    "tags": []
   },
   "outputs": [
    {
     "name": "stdout",
     "output_type": "stream",
     "text": [
      "381\n"
     ]
    }
   ],
   "source": [
    "# Object from Meg's notebook: -9223369546614897710\n",
    "ssObjId = df0['ssObjectId'][-3] \n",
    "\n",
    "# diaObjectId is the ID that links the individual measurements between DiaObject and SSSource,\n",
    "# so you have to match on this id for unique measurement matching. \n",
    "# To then match this object to MPCORB and SSObject, you have\n",
    "# to link on the SSObjectID (hwich is unique per solar system object)\n",
    "\n",
    "query = \"SELECT dia.diaSourceId, sss.diaSourceId, dia.mag, \" + \\\n",
    "        \"dia.magSigma, dia.filter, sss.phaseAngle, sss.topocentricDist, \" + \\\n",
    "        \"sss.heliocentricDist, dia.midPointTai \" + \\\n",
    "        \"FROM dp03_catalogs.DiaSource as dia \" + \\\n",
    "        \"JOIN dp03_catalogs.SSSource as sss \" + \\\n",
    "        \"ON dia.diaSourceId = sss.diaSourceId \" + \\\n",
    "        \"WHERE dia.ssObjectId = \" + str(ssObjId) + \"\"\n",
    "\n",
    "\n",
    "df = service.search(query).to_table()\n",
    "print(len(df))"
   ]
  },
  {
   "cell_type": "code",
   "execution_count": null,
   "id": "10cf0b0a-2987-46f8-9b11-578a2d280004",
   "metadata": {},
   "outputs": [],
   "source": [
    "# # first character is the filter.\n",
    "# # NOTE: In the ssObjectTable, the column G12 is correct in that the final table\n",
    "# # should contain the parameter G12, however, the existing version of the column\n",
    "# # actually contains parameter G (and therefore should be compared to the HG_model\n",
    "# # not HG12 model. The plan is to replace the contents of G12 column with actual G12\n",
    "# # fit parameters in the final version\n",
    "# query2 = \"SELECT ssObjectId, rH, rHerr, rG12, rG12err, \" + \\\n",
    "#          \"iH, iHerr, iG12, iG12err \" + \\\n",
    "#          \"FROM dp03_catalogs.SSObject  \" + \\\n",
    "#          \"WHERE ssObjectId = \" + str(ssObjId) + \" \"\n",
    "\n",
    "# df2 = service.search(query2).to_table()\n",
    "# print(df2)"
   ]
  },
  {
   "cell_type": "markdown",
   "id": "1b9ac6ee-e3d2-41d8-b9aa-0662ecb01f6a",
   "metadata": {},
   "source": [
    "What is the absolute magnitude? The measured magnitude (apparent magnitude) of a Solar System object depends on the incident light from the Sun, in addition to the distance to the observer (as is usual for sources outside the Solar System). So to convert from the apparent magnitude to the reduced magnitude, one factors in this reduction in flux, conventionally bringing both distances to 1 au so the convertion becomes a factor of -5log10 ( heliocentric distance * topocentric distance). There is also the question of the illumination angle, so that a higher phase angle means that a smaller fraction of the object's surface is being illuminated (I think that link @Yumi Choi sent earlier this week is the most accessible I've seen). The absolute magnitude is the magnitude at 1 au from the Sun, 1 au from the observer and at 0 phase angle (note this is an unphysical situation: an object will never satisfy these 3 conditions simultaneously). Typically then one fits the absolute magnitude with an assumed phase curve model (eg the HG or HG12 models). That Muinonen et al (2010) paper goes over in detail."
   ]
  },
  {
   "cell_type": "code",
   "execution_count": 61,
   "id": "2a4b749e-e17f-48e5-84a4-c725dbac9244",
   "metadata": {
    "execution": {
     "iopub.execute_input": "2023-06-28T21:45:51.850559Z",
     "iopub.status.busy": "2023-06-28T21:45:51.849637Z",
     "iopub.status.idle": "2023-06-28T21:45:51.863806Z",
     "shell.execute_reply": "2023-06-28T21:45:51.862890Z",
     "shell.execute_reply.started": "2023-06-28T21:45:51.850524Z"
    },
    "tags": []
   },
   "outputs": [
    {
     "name": "stdout",
     "output_type": "stream",
     "text": [
      "Number of measurements in g: 40\n",
      "Number of measurements in i: 98\n",
      "Number of measurements in r: 95\n",
      "Number of measurements in u: 14\n",
      "Number of measurements in y: 53\n",
      "Number of measurements in z: 81\n"
     ]
    }
   ],
   "source": [
    "filts = np.unique(df['filter'])\n",
    "\n",
    "for ifilt in filts:\n",
    "    nobs_ifilt = len(df[df['filter']==ifilt])\n",
    "    print('Number of measurements in %s: %d' % (ifilt, nobs_ifilt))"
   ]
  },
  {
   "cell_type": "code",
   "execution_count": 62,
   "id": "249d4b54-7e8e-4975-b687-e623547b18a1",
   "metadata": {
    "execution": {
     "iopub.execute_input": "2023-06-28T21:45:52.711299Z",
     "iopub.status.busy": "2023-06-28T21:45:52.710297Z",
     "iopub.status.idle": "2023-06-28T21:45:52.717102Z",
     "shell.execute_reply": "2023-06-28T21:45:52.716133Z",
     "shell.execute_reply.started": "2023-06-28T21:45:52.711266Z"
    },
    "tags": []
   },
   "outputs": [],
   "source": [
    "tdist = df['topocentricDist']\n",
    "rdist = df['heliocentricDist']\n",
    "dmag = -5. * np.log10(tdist*rdist)\n",
    "\n",
    "reduced_mag = df['mag']+dmag"
   ]
  },
  {
   "cell_type": "code",
   "execution_count": 63,
   "id": "3523f9a4-1773-4731-97c8-8d14c1487846",
   "metadata": {
    "execution": {
     "iopub.execute_input": "2023-06-28T21:45:53.344220Z",
     "iopub.status.busy": "2023-06-28T21:45:53.343098Z",
     "iopub.status.idle": "2023-06-28T21:45:54.936334Z",
     "shell.execute_reply": "2023-06-28T21:45:54.935442Z",
     "shell.execute_reply.started": "2023-06-28T21:45:53.344183Z"
    },
    "tags": []
   },
   "outputs": [
    {
     "data": {
      "text/plain": [
       "<matplotlib.legend.Legend at 0x7efca2bf80d0>"
      ]
     },
     "execution_count": 63,
     "metadata": {},
     "output_type": "execute_result"
    },
    {
     "data": {
      "image/png": "[encoded data removed]",
      "text/plain": [
       "<Figure size 640x480 with 1 Axes>"
      ]
     },
     "metadata": {},
     "output_type": "display_data"
    }
   ],
   "source": [
    "for ifilt in filts:\n",
    "    idx = df['filter'] == ifilt\n",
    "    \n",
    "    plt.errorbar(df['phaseAngle'][idx], reduced_mag[idx], yerr=df['magSigma'][idx], fmt='o', label=ifilt)\n",
    "    x = fit_models(df['mag'][idx], df['magSigma'][idx], df['phaseAngle'][idx], tdist[idx], rdist[idx])\n",
    "\n",
    "\n",
    "    phases = np.linspace(0,90,100)\n",
    "    HG12_mag = HG12_model(np.deg2rad(phases), [x['HG12']['H'], x['HG12']['G12']])\n",
    "    HG_mag = HG_model(np.deg2rad(phases), [x['HG']['H'], x['HG']['G']])\n",
    "    HG1G2_mag = HG1G2_model(np.deg2rad(phases), [x['HG1G2']['H'], x['HG1G2']['G1'], x['HG1G2']['G2']])\n",
    "\n",
    "    plt.plot(phases, HG_mag, label ='HG 2 parameter model')\n",
    "    \n",
    "plt.xlim(df['phaseAngle'].min()-5, df['phaseAngle'].max()+5)\n",
    "plt.ylim(reduced_mag.max()+0.5, reduced_mag.min()-0.5)\n",
    "plt.xlabel('Phase Angle [deg]')\n",
    "plt.ylabel('Reduced magnitude [mag]')\n",
    "plt.legend()"
   ]
  },
  {
   "cell_type": "markdown",
   "id": "a5582914-20b4-4d37-be01-d7086c5ac652",
   "metadata": {},
   "source": [
    "Junk Code Below"
   ]
  },
  {
   "cell_type": "code",
   "execution_count": 25,
   "id": "08bf7919-64c0-488d-87fc-eef4c1181390",
   "metadata": {
    "execution": {
     "iopub.execute_input": "2023-06-28T21:02:39.624280Z",
     "iopub.status.busy": "2023-06-28T21:02:39.623280Z",
     "iopub.status.idle": "2023-06-28T21:02:40.086618Z",
     "shell.execute_reply": "2023-06-28T21:02:40.085760Z",
     "shell.execute_reply.started": "2023-06-28T21:02:39.624241Z"
    },
    "tags": []
   },
   "outputs": [
    {
     "name": "stdout",
     "output_type": "stream",
     "text": [
      "     ssObjectId         rH       rHerr    ...    iG12      iG12err   \n",
      "                       mag        mag     ...    mag         mag     \n",
      "------------------- --------- ----------- ... ---------- ------------\n",
      "9195611452849605128 16.388489 0.003104142 ... 0.14243123 0.0027389626\n"
     ]
    },
    {
     "data": {
      "image/png": "[encoded data removed]",
      "text/plain": [
       "<Figure size 640x480 with 1 Axes>"
      ]
     },
     "metadata": {},
     "output_type": "display_data"
    }
   ],
   "source": [
    "whr = np.where(df['filter'] == 'r')[0]\n",
    "whz = np.where(df['filter'] == 'z')[0]\n",
    "whi = np.where(df['filter'] == 'i')[0]\n",
    "whg = np.where(df['filter'] == 'g')[0]\n",
    "print(df['magSigma'][whr])\n",
    "\n",
    "whband = whi\n",
    "\n",
    "# Include these for distance correction to Reduced magnitude:\n",
    "tdist = df['topocentricDist']\n",
    "rdist = df['heliocentricDist']\n",
    "dmag = -5. * np.log10(tdist*rdist)\n",
    "\n",
    "\n",
    "#plt.errorbar(df['phaseAngle'][whr], df['mag'][whr]+dmag[whr], yerr=df['magSigma'][whr],fmt='o', alpha=.8,label='r band')\n",
    "#plt.errorbar(df['phaseAngle'][whz], df['mag'][whz]+dmag[whz], yerr=df['magSigma'][whz],fmt='o', alpha=.8,label='z')\n",
    "plt.errorbar(df['phaseAngle'][whband], df['mag'][whband]+dmag[whband], yerr=df['magSigma'][whband],fmt='ro', alpha=.8,label='i')\n",
    "#plt.errorbar(df['phaseAngle'][whg], df['mag'][whg]+dmag[whg], yerr=df['magSigma'][whg],fmt='ok', alpha=.8,label='g')\n",
    "\n",
    "#plt.ylim((np.max(df['mag'][whr]+dmag[whr])+.1,np.min(df['mag'][whr]+dmag[whr])-1.5))\n",
    "plt.ylim(np.max(df['mag'][whband]+dmag[whband])+0.5, np.min(df['mag'][whband]+dmag[whband])-0.5)\n",
    "plt.xlim(np.min(df['phaseAngle'][whband])-5, np.max(df['phaseAngle'][whband])+5)\n",
    "plt.xlabel('Phase Angle [deg]')\n",
    "plt.ylabel('Reduced magnitude')\n",
    "\n",
    "#print(df['mag'][whr], df['phaseAngle'][whr])\n",
    "#print(len(whr))\n",
    "#print(np.unique(df['filter']))\n",
    "\n",
    "\n",
    "#x = fit_models(df['mag'][whr], df['magSigma'][whr], df['phaseAngle'][whr], df['topocentricDist'][whr], df['heliocentricDist'][whr])\n",
    "x = fit_models(df['mag'][whband], df['magSigma'][whband], df['phaseAngle'][whband], df['topocentricDist'][whband], df['heliocentricDist'][whband])\n",
    "\n",
    "\n",
    "phases = np.linspace(0,90,100)\n",
    "HG12_mag = HG12_model(np.deg2rad(phases), [x['HG12']['H'], x['HG12']['G12']])\n",
    "HG_mag = HG_model(np.deg2rad(phases), [x['HG']['H'], x['HG']['G']])\n",
    "HG1G2_mag = HG1G2_model(np.deg2rad(phases), [x['HG1G2']['H'], x['HG1G2']['G1'], x['HG1G2']['G2']])\n",
    "\n",
    "plt.plot(phases, HG_mag, label ='HG 2 parameter model')\n",
    "#plt.plot(phases, HG12_mag, label='HG12 2 parameters model')\n",
    "#plt.plot(phases, HG1G2_mag, label='HG1G2 3 parameter model')\n",
    "\n",
    "# first character is the filter.\n",
    "# NOTE: In the ssObjectTable, the column G12 is correct in that the final table\n",
    "# should contain the parameter G12, however, the existing version of the column\n",
    "# actually contains parameter G (and therefore should be compared to the HG_model\n",
    "# not HG12 model. The plan is to replace the contents of G12 column with actual G12\n",
    "# fit parameters in the final version\n",
    "query2 = \"SELECT ssObjectId, rH, rHerr, rG12, rG12err, \" + \\\n",
    "         \"iH, iHerr, iG12, iG12err \" + \\\n",
    "        \"FROM dp03_catalogs.SSObject  \" + \\\n",
    "        \"WHERE ssObjectId = \" + str(ssObjId) + \" \"\n",
    "\n",
    "df2 = service.search(query2).to_table() # .to_pandas()\n",
    "print(df2)\n",
    "\n",
    "#HG12_mag_sso = HG12_model(np.deg2rad(phases), [df2['rH'], df2['rG12']])\n",
    "#HG12_mag_sso = HG12_model(np.deg2rad(phases), [df2['iH'], df2['iG12']])\n",
    "#HG_mag = HG_model(np.deg2rad(phases), [x['HG']['H'], x['HG']['G']])\n",
    "HG_mag_sso = HG_model(np.deg2rad(phases), [df2['iH'], df2['iG12']])\n",
    "#HG1G2_mag = HG1G2_model(np.deg2rad(phases), [x['HG1G2']['H'], x['HG1G2']['G1'], x['HG1G2']['G2']])\n",
    "\n",
    "plt.plot(phases, HG_mag_sso, label ='Model in SSObject table')\n",
    "\n",
    "plt.legend()\n"
   ]
  },
  {
   "cell_type": "code",
   "execution_count": 12,
   "id": "0840506c-ecf1-40c5-abb8-e7bbf77840e8",
   "metadata": {
    "execution": {
     "iopub.execute_input": "2023-06-28T17:54:34.655655Z",
     "iopub.status.busy": "2023-06-28T17:54:34.655383Z",
     "iopub.status.idle": "2023-06-28T17:54:34.811238Z",
     "shell.execute_reply": "2023-06-28T17:54:34.810467Z",
     "shell.execute_reply.started": "2023-06-28T17:54:34.655633Z"
    },
    "tags": []
   },
   "outputs": [
    {
     "data": {
      "text/html": [
       "<pre style=\"margin: 0.1em;\n",
       "padding-left: 0.25em;\n",
       "border-left-style: solid;\n",
       "font-family: var(--jp-code-font-family);\n",
       "font-size: var(--jp-code-font-size);\n",
       "line-height: var(--jp-code-line-height);\n",
       "\"><span style=\"color: var(--jp-warn-color2)\">pycodestyle</span> <span style=\"color: var(--jp-info-color0)\">INFO</span>: 1:1: E265 block comment should start with &#x27;# &#x27;</pre>"
      ],
      "text/plain": [
       "<IPython.core.display.HTML object>"
      ]
     },
     "metadata": {},
     "output_type": "display_data"
    },
    {
     "data": {
      "text/html": [
       "<pre style=\"margin: 0.1em;\n",
       "padding-left: 0.25em;\n",
       "border-left-style: solid;\n",
       "font-family: var(--jp-code-font-family);\n",
       "font-size: var(--jp-code-font-size);\n",
       "line-height: var(--jp-code-line-height);\n",
       "\"><span style=\"color: var(--jp-warn-color2)\">pycodestyle</span> <span style=\"color: var(--jp-info-color0)\">INFO</span>: 12:1: E265 block comment should start with &#x27;# &#x27;</pre>"
      ],
      "text/plain": [
       "<IPython.core.display.HTML object>"
      ]
     },
     "metadata": {},
     "output_type": "display_data"
    },
    {
     "data": {
      "text/html": [
       "<pre style=\"margin: 0.1em;\n",
       "padding-left: 0.25em;\n",
       "border-left-style: solid;\n",
       "font-family: var(--jp-code-font-family);\n",
       "font-size: var(--jp-code-font-size);\n",
       "line-height: var(--jp-code-line-height);\n",
       "\"><span style=\"color: var(--jp-warn-color2)\">pycodestyle</span> <span style=\"color: var(--jp-info-color0)\">INFO</span>: 12:80: E501 line too long (87 &gt; 79 characters)</pre>"
      ],
      "text/plain": [
       "<IPython.core.display.HTML object>"
      ]
     },
     "metadata": {},
     "output_type": "display_data"
    },
    {
     "data": {
      "text/html": [
       "<pre style=\"margin: 0.1em;\n",
       "padding-left: 0.25em;\n",
       "border-left-style: solid;\n",
       "font-family: var(--jp-code-font-family);\n",
       "font-size: var(--jp-code-font-size);\n",
       "line-height: var(--jp-code-line-height);\n",
       "\"><span style=\"color: var(--jp-warn-color2)\">pycodestyle</span> <span style=\"color: var(--jp-info-color0)\">INFO</span>: 13:1: E265 block comment should start with &#x27;# &#x27;</pre>"
      ],
      "text/plain": [
       "<IPython.core.display.HTML object>"
      ]
     },
     "metadata": {},
     "output_type": "display_data"
    },
    {
     "data": {
      "text/html": [
       "<pre style=\"margin: 0.1em;\n",
       "padding-left: 0.25em;\n",
       "border-left-style: solid;\n",
       "font-family: var(--jp-code-font-family);\n",
       "font-size: var(--jp-code-font-size);\n",
       "line-height: var(--jp-code-line-height);\n",
       "\"><span style=\"color: var(--jp-warn-color2)\">pycodestyle</span> <span style=\"color: var(--jp-info-color0)\">INFO</span>: 14:1: E265 block comment should start with &#x27;# &#x27;</pre>"
      ],
      "text/plain": [
       "<IPython.core.display.HTML object>"
      ]
     },
     "metadata": {},
     "output_type": "display_data"
    }
   ],
   "source": [
    "#query1 = \"SELECT mpc.ssObjectId, mpc.q, sso.ssObjectId, sso.arc \" + \\\n",
    "#        \"FROM dp03_catalogs.MPCORB as mpc \" + \\\n",
    "#        \"INNER JOIN dp03_catalogs.SSObject as sso \" + \\\n",
    "#        \"ON mpc.ssObjectId = sso.ssObjectId \" + \\\n",
    "#        \"INNER JOIN dp03_catalogs.DiaSource as dia \" + \\\n",
    "#        \"ON mpc.ssObjectId = dia.ssObjectId \" + \\\n",
    "#        \"INNER JOIN dp03_catalogs.SSSource as sss \" + \\\n",
    "#        \"ON mpc.ssObjectId = sss.ssObjectId \" + \\\n",
    "#        \"WHERE mpc.ssObjectId > 1  AND sso.arc > 3000 \"  + \\\n",
    "#        \"AND mpc.q < 1 ORDER by sso.arc\"\n",
    "\n",
    "#query = \"SELECT TOP 10000 * FROM dp03_catalogs.SSObject WHERE arc > 3000 ORDER by arc\"\n",
    "#df = service.search(query).to_table().to_pandas()\n",
    "#df"
   ]
  },
  {
   "cell_type": "code",
   "execution_count": 13,
   "id": "97a8b0c5-05e0-4321-bb42-6342d9475585",
   "metadata": {
    "execution": {
     "iopub.execute_input": "2023-06-28T17:54:34.812705Z",
     "iopub.status.busy": "2023-06-28T17:54:34.812443Z",
     "iopub.status.idle": "2023-06-28T17:54:34.951729Z",
     "shell.execute_reply": "2023-06-28T17:54:34.950942Z",
     "shell.execute_reply.started": "2023-06-28T17:54:34.812682Z"
    }
   },
   "outputs": [
    {
     "data": {
      "text/html": [
       "<pre style=\"margin: 0.1em;\n",
       "padding-left: 0.25em;\n",
       "border-left-style: solid;\n",
       "font-family: var(--jp-code-font-family);\n",
       "font-size: var(--jp-code-font-size);\n",
       "line-height: var(--jp-code-line-height);\n",
       "\"><span style=\"color: var(--jp-warn-color2)\">pycodestyle</span> <span style=\"color: var(--jp-info-color0)\">INFO</span>: 1:1: E265 block comment should start with &#x27;# &#x27;</pre>"
      ],
      "text/plain": [
       "<IPython.core.display.HTML object>"
      ]
     },
     "metadata": {},
     "output_type": "display_data"
    },
    {
     "data": {
      "text/html": [
       "<pre style=\"margin: 0.1em;\n",
       "padding-left: 0.25em;\n",
       "border-left-style: solid;\n",
       "font-family: var(--jp-code-font-family);\n",
       "font-size: var(--jp-code-font-size);\n",
       "line-height: var(--jp-code-line-height);\n",
       "\"><span style=\"color: var(--jp-warn-color2)\">pycodestyle</span> <span style=\"color: var(--jp-info-color0)\">INFO</span>: 1:80: E501 line too long (80 &gt; 79 characters)</pre>"
      ],
      "text/plain": [
       "<IPython.core.display.HTML object>"
      ]
     },
     "metadata": {},
     "output_type": "display_data"
    },
    {
     "data": {
      "text/html": [
       "<pre style=\"margin: 0.1em;\n",
       "padding-left: 0.25em;\n",
       "border-left-style: solid;\n",
       "font-family: var(--jp-code-font-family);\n",
       "font-size: var(--jp-code-font-size);\n",
       "line-height: var(--jp-code-line-height);\n",
       "\"><span style=\"color: var(--jp-warn-color2)\">pycodestyle</span> <span style=\"color: var(--jp-info-color0)\">INFO</span>: 4:1: E265 block comment should start with &#x27;# &#x27;</pre>"
      ],
      "text/plain": [
       "<IPython.core.display.HTML object>"
      ]
     },
     "metadata": {},
     "output_type": "display_data"
    }
   ],
   "source": [
    "#query = \"SELECT TOP 10000 * FROM dp03_catalogs.MPCORB WHERE q < 1 ORDER by arc\"\n",
    "\n",
    "# this takes too long:\n",
    "#query = \"SELECT mpc.ssObjectId, mpc.q, sso.ssObjectId, sso.arc \" + \\\n",
    "#        \"FROM dp03_catalogs.MPCORB as mpc \" + \\\n",
    "#        \"JOIN dp03_catalogs.SSObject as sso \" + \\\n",
    "#        \"ON mpc.ssObjectId = sso.ssObjectId \" + \\\n",
    "#        \"JOIN dp03_catalogs.DiaSource as dia \" + \\\n",
    "#        \"ON mpc.ssObjectId = dia.ssObjectId \" + \\\n",
    "#        \"JOIN dp03_catalogs.SSSource as sss \" + \\\n",
    "#        \"ON mpc.ssObjectId = sss.ssObjectId \" + \\\n",
    "#        \"WHERE mpc.ssObjectId > 1  AND sso.arc > 3000 \"  + \\\n",
    "#        \"AND mpc.q < 1 ORDER by sso.arc\"\n"
   ]
  },
  {
   "cell_type": "code",
   "execution_count": 14,
   "id": "7d1ce43b-03ee-46b4-9718-74596ab7c0e2",
   "metadata": {
    "execution": {
     "iopub.execute_input": "2023-06-28T17:54:34.953019Z",
     "iopub.status.busy": "2023-06-28T17:54:34.952744Z",
     "iopub.status.idle": "2023-06-28T17:54:35.076299Z",
     "shell.execute_reply": "2023-06-28T17:54:35.075605Z",
     "shell.execute_reply.started": "2023-06-28T17:54:34.952974Z"
    },
    "tags": []
   },
   "outputs": [
    {
     "data": {
      "text/html": [
       "<pre style=\"margin: 0.1em;\n",
       "padding-left: 0.25em;\n",
       "border-left-style: solid;\n",
       "font-family: var(--jp-code-font-family);\n",
       "font-size: var(--jp-code-font-size);\n",
       "line-height: var(--jp-code-line-height);\n",
       "\"><span style=\"color: var(--jp-warn-color2)\">pycodestyle</span> <span style=\"color: var(--jp-info-color0)\">INFO</span>: 2:1: E265 block comment should start with &#x27;# &#x27;</pre>"
      ],
      "text/plain": [
       "<IPython.core.display.HTML object>"
      ]
     },
     "metadata": {},
     "output_type": "display_data"
    }
   ],
   "source": [
    "\n",
    "#query = \"SELECT mpc.ssObjectId, mpc.q, sso.ssObjectId, sso.arc, dia.mag,\" + \\\n",
    "#        \"dia.magSigma, dia.filter, sss.phaseAngle, sss.topocentricDist, \" + \\\n",
    "#        \"sss.heliocentricDist, dia.midPointTai \" + \\\n",
    "#        \"FROM dp03_catalogs.MPCORB as mpc \" + \\\n",
    "#        \"JOIN dp03_catalogs.SSObject as sso \" + \\\n",
    "#        \"ON mpc.ssObjectId = sso.ssObjectId \" + \\\n",
    "#        \"JOIN dp03_catalogs.DiaSource as dia \" + \\\n",
    "#        \"ON mpc.ssObjectId = dia.ssObjectId \" + \\\n",
    "#        \"JOIN dp03_catalogs.SSSource as sss \" + \\\n",
    "#        \"ON mpc.ssObjectId = sss.ssObjectId \" + \\\n",
    "#        \"WHERE sss.ssObjectId = 3728357697728353090\"\n"
   ]
  }
 ],
 "metadata": {
  "kernelspec": {
   "display_name": "LSST",
   "language": "python",
   "name": "lsst"
  },
  "language_info": {
   "codemirror_mode": {
    "name": "ipython",
    "version": 3
   },
   "file_extension": ".py",
   "mimetype": "text/x-python",
   "name": "python",
   "nbconvert_exporter": "python",
   "pygments_lexer": "ipython3",
   "version": "3.11.4"
  },
  "toc-autonumbering": false
 },
 "nbformat": 4,
 "nbformat_minor": 5
}
