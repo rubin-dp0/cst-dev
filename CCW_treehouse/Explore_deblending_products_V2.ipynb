{
 "cells": [
  {
   "cell_type": "markdown",
   "id": "749b0ddf",
   "metadata": {},
   "source": [
    "<img align=\"left\" src = https://project.lsst.org/sites/default/files/Rubin-O-Logo_0.png width=250 style=\"padding: 10px\"> \n",
    "<b>CET Template Notebook</b> <br>\n",
    "Contact author(s): <i>Author Name</i> <br>\n",
    "Last verified to run: <i>yyyy-mm-dd</i> <br>\n",
    "LSST Science Piplines version: Weekly <i>yyyy_xx</i> <br>\n",
    "Container Size: <i>medium</i> <br>\n",
    "Targeted learning level: <i>beginner</i> <br>"
   ]
  },
  {
   "cell_type": "markdown",
   "id": "2d9cd09b-d5c4-4610-993b-711bdc9bd80e",
   "metadata": {},
   "source": [
    "_In this template, text in italics are examples or instructions that should be: (a) removed if it is not applicable to the notebook; or (b) replaced with text that is appropriate for the notebook. But bold or regular text should appear pretty much as-is in all CET notebooks. For more information, see the [CET's Guidelines for Tutorial Notebooks](https://confluence.lsstcorp.org/pages/viewpage.action?pageId=168857070)._"
   ]
  },
  {
   "cell_type": "markdown",
   "id": "582ab507-a7ae-4024-95c9-38aabeb602a6",
   "metadata": {},
   "source": [
    "_While developing, use the following code cell to check that the code conforms to standards, but then delete the cell and \"Kernel --> Restart Kernel and Clear All Outputs\" before saving and committing._"
   ]
  },
  {
   "cell_type": "code",
   "execution_count": 1,
   "id": "7acc79a4-8530-42d9-96e5-b7acb4397864",
   "metadata": {},
   "outputs": [],
   "source": [
    "#%load_ext pycodestyle_magic\n",
    "#%flake8_on\n",
    "#import logging\n",
    "#logging.getLogger(\"flake8\").setLevel(logging.FATAL)"
   ]
  },
  {
   "cell_type": "markdown",
   "id": "482777d8-0a8d-432e-ba53-2da536700407",
   "metadata": {},
   "source": [
    "_The six cells below are considered the extended header of the notebook. The first four will be used, verbatim, to create the table of notebook metadata in the README.md file for the repository._"
   ]
  },
  {
   "cell_type": "markdown",
   "id": "9da1a210-d858-42fe-8591-570965b8be1a",
   "metadata": {},
   "source": [
    "**Description:** _Very brief description of notebook._ Goal is an introduction to deblender products. Some key points to hit: what is a parent, what is a child, describe a deblender, how does it work, what are we telling people about it. bunch of flags in object catalog that are already deblended. notebook can't fully be representative of all science cases for the deblender."
   ]
  },
  {
   "cell_type": "markdown",
   "id": "80a0baf5-51ad-40ec-8991-060a7b27c289",
   "metadata": {},
   "source": [
    "**Skills:** _Brief list of skills to match the README.md file for the repository._"
   ]
  },
  {
   "cell_type": "markdown",
   "id": "393da88f-7978-4920-aa4a-a9830df6eed9",
   "metadata": {},
   "source": [
    "**LSST Data Products:** _List the all of the types of LSST catalogs and images used._"
   ]
  },
  {
   "cell_type": "markdown",
   "id": "5c67fab9-136a-4adc-bb42-142b91ab69dd",
   "metadata": {},
   "source": [
    "**Packages:** _List the python packages used._ (_List the packages being taught first, e.g., afwDisplay for a notebook about displaying images. Then supporting packages, e.g., lsst.daf.butler for a notebook about displaying images. It is OK to leave out basic support packages like os or glob.)_"
   ]
  },
  {
   "cell_type": "markdown",
   "id": "8f72b27f",
   "metadata": {},
   "source": [
    "**Credit:**\n",
    "_E.g., \"Originally developed by\" or \"Based on notebooks developed by\" and then people's names, including journal article or software release citations if appropriate._\n",
    "Please consider acknowledging them if this notebook is used for the preparation of journal articles, software releases, or other notebooks."
   ]
  },
  {
   "cell_type": "markdown",
   "id": "28e91cbf-ab7f-4e26-9276-b00299d6065e",
   "metadata": {},
   "source": [
    "**Get Support:**\n",
    "Find DP0-related documentation and resources at <a href=\"https://dp0-2.lsst.io\">dp0-2.lsst.io</a>. Questions are welcome as new topics in the <a href=\"https://community.lsst.org/c/support/dp0\">Support - Data Preview 0 Category</a> of the Rubin Community Forum. Rubin staff will respond to all questions posted there."
   ]
  },
  {
   "cell_type": "markdown",
   "id": "cfc73be0",
   "metadata": {},
   "source": [
    "## 1. Introduction\n",
    "\n",
    "_Provide a light narrative about this notebook, e.g., \"This notebook will teach the user...\"._\n",
    "\n",
    "_Cite or link to any external information or documentation, and cross-reference to other notebooks._\n",
    "\n",
    "This notebook goals are to introduce deblender data products\n",
    "\n",
    "what is a parent, what is a child, describe a deblender, how does it work, what are we telling people about it. bunch of flags in object catalog that are already deblended . notebook can't fully be representative of all science cases for the deblender.\n",
    "\n",
    "Info from pipelines.lsst.io:\n",
    "Seeded by the deepCoadd_mergeDet, the deblender works on each detection to find the flux in each component. The deblend subset produces the deepCoadd_deblendedFlux data product. The measure subset is responsible for measuring object properties on all of the deblended children produced by the deblender. This produces the deepCoadd_meas catalog data product with flux and shape measurement information for each object.\n",
    "\n",
    "step 1: how to use deblender data prodcuts. Look through pipelines.lsst.io\n",
    "\n",
    "step 2: reconfiguring deblender and running it can be stretch goal and / or followup tutorial\n"
   ]
  },
  {
   "cell_type": "markdown",
   "id": "dc36f107",
   "metadata": {},
   "source": [
    "### 1.1 Package Imports\n",
    "\n",
    "_All package imports should be done in the first code cell._\n",
    "\n",
    "_Provide explanation or external links to package documentation, where appropriate._\n",
    "\n",
    "_E.g., Numpy is a fundamental package for scientific computing with arrays in Python (<a href=\"https://numpy.org\">numpy.org</a>)._\n",
    "\n",
    "_Use code cell comments to describe the packages being imported._"
   ]
  },
  {
   "cell_type": "code",
   "execution_count": 2,
   "id": "d185358a-4c15-4b04-8e3d-13083191ee72",
   "metadata": {},
   "outputs": [],
   "source": [
    "# general python packages\n",
    "import numpy as np\n",
    "import os\n",
    "import matplotlib.pyplot as plt\n",
    "import gc\n",
    "import time\n",
    "plt.style.use('tableau-colorblind10')\n",
    "\n",
    "# LSST package for TAP queries\n",
    "from lsst.rsp import get_tap_service, retrieve_query\n",
    "\n",
    "# LSST package for Butler queries\n",
    "import lsst.daf.butler as Butler\n",
    "\n",
    "# Familiar stack packages\n",
    "from lsst.geom import Box2I, Box2D, Point2I, Point2D, Extent2I, Extent2D\n",
    "from lsst.afw.image import Exposure, Image, PARENT\n",
    "\n",
    "# These may be less familiar objects dealing with multi-band data products\n",
    "from lsst.afw.image import MultibandExposure, MultibandImage\n",
    "from lsst.afw.detection import MultibandFootprint, Footprint\n",
    "\n",
    "# LSST package for image display\n",
    "import lsst.afw.display as afwDisplay\n",
    "#import lsst.geom\n",
    "import lsst.geom as geom\n",
    "\n",
    "# Astropy imports\n",
    "from astropy.wcs import WCS\n",
    "from astropy import units as u\n",
    "from astropy.coordinates import SkyCoord\n",
    "from astropy.wcs.utils import skycoord_to_pixel\n",
    "from astropy.visualization import make_lupton_rgb\n",
    "from photutils import * #SkyCircularAperture\n",
    "from astropy.nddata import Cutout2D\n",
    "\n",
    "# Pipeline tasks\n",
    "from lsst.pipe.tasks.characterizeImage import CharacterizeImageTask\n",
    "from lsst.meas.algorithms.detection import SourceDetectionTask\n",
    "from lsst.meas.deblender import SourceDeblendTask\n",
    "from lsst.meas.base import SingleFrameMeasurementTask\n",
    "afwDisplay.setDefaultBackend('matplotlib')"
   ]
  },
  {
   "cell_type": "markdown",
   "id": "c217adff-25ed-4fce-95e7-8aa04630f6cc",
   "metadata": {},
   "source": [
    "### 1.2 Define Functions and Parameters\n",
    "\n",
    "_If your notebook defines functions or parameters to use later or throughout, do it here in sub-section 1.2._\n",
    "\n",
    "_It is OK to rename the subsection to be more specific to the notebook, and/or to use sub-sub-sections like \"1.2.1 Define global cosmological parameter values\" or \"1.2.2 Define a function to make an image cutout\"._\n",
    "\n",
    "_It is OK to remove this sub-section if it is not being used._"
   ]
  },
  {
   "cell_type": "code",
   "execution_count": 3,
   "id": "54e8800e-26f3-4d70-9306-ef3a5fd75aa9",
   "metadata": {},
   "outputs": [],
   "source": [
    "# A function and settings  to plot a cutout from tutorial notebook 03a\n",
    "\n",
    "# Set up some plotting defaults:\n",
    "\n",
    "params = {'axes.labelsize': 28,\n",
    "          'font.size': 24,\n",
    "          'legend.fontsize': 14,\n",
    "          'xtick.major.width': 3,\n",
    "          'xtick.minor.width': 2,\n",
    "          'xtick.major.size': 12,\n",
    "          'xtick.minor.size': 6,\n",
    "          'xtick.direction': 'in',\n",
    "          'xtick.top': True,\n",
    "          'lines.linewidth': 3,\n",
    "          'axes.linewidth': 3,\n",
    "          'axes.labelweight': 3,\n",
    "          'axes.titleweight': 3,\n",
    "          'ytick.major.width': 3,\n",
    "          'ytick.minor.width': 2,\n",
    "          'ytick.major.size': 12,\n",
    "          'ytick.minor.size': 6,\n",
    "          'ytick.direction': 'in',\n",
    "          'ytick.right': True,\n",
    "          'figure.figsize': [8, 8],\n",
    "          'figure.facecolor': 'White'\n",
    "          }\n",
    "\n",
    "plt.rcParams.update(params)\n",
    "\n",
    "# prepare to do the cutout from tutorial notebook 03\n",
    "def cutout_coadd(butler, ra, dec, band='r', datasetType='deepCoadd',\n",
    "                 skymap=None, cutoutSideLength=51, **kwargs):\n",
    "    \"\"\"\n",
    "    Produce a cutout from a coadd at the given ra, dec position.\n",
    "\n",
    "    Adapted from DC2 tutorial notebook by Michael Wood-Vasey.\n",
    "\n",
    "    Parameters\n",
    "    ----------\n",
    "    butler: lsst.daf.persistence.Butler\n",
    "        Servant providing access to a data repository\n",
    "    ra: float\n",
    "        Right ascension of the center of the cutout, in degrees\n",
    "    dec: float\n",
    "        Declination of the center of the cutout, in degrees\n",
    "    band: string\n",
    "        Filter of the image to load\n",
    "    datasetType: string ['deepCoadd']\n",
    "        Which type of coadd to load.  Doesn't support 'calexp'\n",
    "    skymap: lsst.afw.skyMap.SkyMap [optional]\n",
    "        Pass in to avoid the Butler read.  Useful if you have lots of them.\n",
    "    cutoutSideLength: float [optional]\n",
    "        Size of the cutout region in pixels.\n",
    "\n",
    "    Returns\n",
    "    -------\n",
    "    MaskedImage\n",
    "    \"\"\"\n",
    "    radec = geom.SpherePoint(ra, dec, geom.degrees)\n",
    "    cutoutSize = geom.ExtentI(cutoutSideLength, cutoutSideLength)\n",
    "\n",
    "    if skymap is None:\n",
    "        skymap = butler.get(\"skyMap\")\n",
    "\n",
    "    # Look up the tract, patch for the RA, Dec\n",
    "    tractInfo = skymap.findTract(radec)\n",
    "    patchInfo = tractInfo.findPatch(radec)\n",
    "    xy = geom.PointI(tractInfo.getWcs().skyToPixel(radec))\n",
    "    bbox = geom.BoxI(xy - cutoutSize // 2, cutoutSize)\n",
    "    patch = tractInfo.getSequentialPatchIndex(patchInfo)\n",
    "\n",
    "    coaddId = {'tract': tractInfo.getId(), 'patch': patch, 'band': band}\n",
    "    parameters = {'bbox': bbox}\n",
    "\n",
    "    cutout_image = butler.get(datasetType, parameters=parameters,\n",
    "                              dataId=coaddId)\n",
    "\n",
    "    return cutout_image\n",
    "\n",
    "def heavyFootprintToImage(heavy, fill=np.nan, bbox=None, imageType=MaskedImage):\n",
    "    \"\"\"Create an image of a HeavyFootprint\n",
    "    Written by Fred Moolekamp from Data Management(?)\n",
    "    Parameters\n",
    "    ----------\n",
    "    heavy : `HeavyFootprint`\n",
    "        The HeavyFootprint to insert into the image\n",
    "    fill: number\n",
    "        Number to fill the pixels in the image that are not\n",
    "        contained in `heavy`.\n",
    "    bbox : `Box2I`\n",
    "        Bounding box of the output image.\n",
    "    imageType : `type`\n",
    "        This should be either a `MaskedImage` or `Image` and describes\n",
    "        the type of the output image.\n",
    "    Returns\n",
    "    -------\n",
    "    image : `lsst.afw.image.MaskedImage` or `lsst.afw.image.Image`\n",
    "        An image defined by `bbox` and padded with `fill` that\n",
    "        contains the projected flux in `heavy`.\n",
    "    \"\"\"\n",
    "    if bbox is None:\n",
    "        bbox = heavy.getBBox()\n",
    "    image = imageType(bbox, dtype=heavy.getImageArray().dtype)\n",
    "    image.set(fill)\n",
    "    heavy.insert(image)\n",
    "    return image"
   ]
  },
  {
   "cell_type": "markdown",
   "id": "ec51ac0b",
   "metadata": {
    "tags": []
   },
   "source": [
    "## 2. Deblender data products\n",
    "\n",
    "_Use numbers for sections, sub-sections, and sub-sub-sections to enable referencing, e.g., \"I'm having trouble with the second code cell in Section 2.3.\"_\n",
    "\n",
    "_Use section titles that actively describe what is being done, e.g., \"Create a color-magnitude diagram\" instead of \"Plot\", so that the auto-generated table of contents is easy to navigate._\n",
    "\n",
    "### 2.1 Finding a heavily blended source in the LSST data\n",
    "\n",
    "_There are efficient and non-efficient ways to search the LSST data for objects with certain characteristics, such as by how many sources are blended together. The pipeline records a number of keywords that can be used to identify and characterize blended sources that have been deblended that are stored in the object and source tables. Some examples:\n",
    "\n",
    "detect_isPrimary \tTrue if source has no children, is in inner region of a coadd patch and is in the inner region of a coadd tract and is not detected in a pseudo-filter (see config.pseudoFilterList)\n",
    "\n",
    "deblend_skipped \tDeblender skipped this source\n",
    "\n",
    "detect_fromBlend \tThis source is deblended from a parent with more than one child.\n",
    "\n",
    "detect_isDeblendedModelSource \tTrue if source has no children and is in the inner region of a coadd patch and is in the inner region of a coadd tract and is not detected in a pseudo-filter (see config.pseudoFilterList) and is a deblended child\n",
    "\n",
    "parentObjectId \tUnique ID of parent source. Reference band.\n",
    "\n",
    "detect_isDeblendedSource \tTrue if source has no children and is in the inner region of a coadd patch and is in the inner region of a coadd tract and is not detected in a pseudo-filter (see config.pseudoFilterList) and is either an unblended isolated source or a deblended child from a parent with\n",
    "\n",
    "footprintArea  \tNumber of pixels in the sources detection footprint. Reference band.\n",
    "\n",
    "These can be accessed via TAP queries, or through the butler, so we will demonstrate both. However, in both cases, one must first identify the region of the sky to search and search in a specific region defined by RA/Dec within a certain search radius or patch/tract. This is because the databases are indexed by RA/Dec and searching by blending keywords (i.e. to identify the most blended sources or by parent object ID) are extremely inefficient_\n"
   ]
  },
  {
   "cell_type": "code",
   "execution_count": 4,
   "id": "ded13be7-79dd-41e5-9052-a22df60745c3",
   "metadata": {},
   "outputs": [
    {
     "data": {
      "text/html": [
       "<pre style=\"margin: 0.1em;\n",
       "padding-left: 0.25em;\n",
       "border-left-style: solid;\n",
       "font-family: var(--jp-code-font-family);\n",
       "font-size: var(--jp-code-font-size);\n",
       "line-height: var(--jp-code-line-height);\n",
       "\"><span style=\"color: var(--jp-warn-color2)\">botocore.credentials</span> <span style=\"color: var(--jp-info-color0)\">INFO</span>: Found credentials in shared credentials file: /home/christinawilliams/.lsst/aws-credentials.ini</pre>"
      ],
      "text/plain": [
       "<IPython.core.display.HTML object>"
      ]
     },
     "metadata": {},
     "output_type": "display_data"
    }
   ],
   "source": [
    "# open TAP service\n",
    "service = get_tap_service()\n",
    "assert service is not None\n",
    "assert service.baseurl == \"https://data.lsst.cloud/api/tap\"\n",
    "\n",
    "# initialize Butler\n",
    "config = 'dp02'\n",
    "collection = '2.2i/runs/DP0.2'\n",
    "butler = Butler.Butler(config, collections=collection)\n"
   ]
  },
  {
   "cell_type": "code",
   "execution_count": 5,
   "id": "c7e280d4-1c81-4396-884a-e5a2cef3f105",
   "metadata": {},
   "outputs": [],
   "source": [
    "#%%time\n",
    "# Identify some examples of very blended sources\n",
    "# THIS IS TOO SLOW (run time approx 15 min), but we show an example of what happens if you perform\n",
    "# a TAP query and do not search within an specified coordinate range. \n",
    "\n",
    "#query = \"SELECT TOP 10 objectId, x, y, coord_ra, coord_dec, detect_isPrimary, deblend_nChild, deblend_skipped, detect_fromBlend, \" + \\\n",
    "#        \"detect_isDeblendedModelSource, detect_isDeblendedSource, detect_isIsolated, parentObjectId, footprintArea, z_blendedness, \" + \\\n",
    "#        \"tract, patch \" + \\\n",
    "#        \"FROM dp02_dc2_catalogs.Object \" + \\\n",
    "#        \"WHERE deblend_nChild > 12 AND  detect_fromBlend = 1 \" #This source is deblended from a parent with more than one child\n",
    "\n",
    "#max_rec = 50\n",
    "#results_maxblend = service.search(query)#, maxrec=max_rec)\n",
    "#assert len(results1) == max_rec\n",
    "\n",
    "# Convert the results to an Astropy table, then\n",
    "#   take a look at the table.\n",
    "#tab_maxblend = results_maxblend.to_table()\n",
    "#tab_maxblend \n",
    "\n",
    "\n",
    "# This is very slow. TAP is optimized to search on RA / Dec not other stuff. Do not use.\n"
   ]
  },
  {
   "cell_type": "code",
   "execution_count": 6,
   "id": "c783acee-101a-487d-a5f1-d8e53ad38e99",
   "metadata": {},
   "outputs": [
    {
     "name": "stdout",
     "output_type": "stream",
     "text": [
      "CPU times: user 34.9 ms, sys: 2.17 ms, total: 37 ms\n",
      "Wall time: 1min 36s\n"
     ]
    }
   ],
   "source": [
    "%%time\n",
    "# instead, if you can identify a region of the sky first then the query is faster.\n",
    "# Here we have already identified a region with an example of a blend of 12 sources\n",
    "# (using the long search above) as an example to demonstrate the deblended data \n",
    "# products produced by the pipeline\n",
    "\n",
    "# Choose a parent and deblended children. Here are a couple good ones:\n",
    "#1329731770446283558\t4574.5498478\t5486.0082516\t72.3165407\t-42.8674071\tTrue\t0\tFalse\tTrue\tTrue\tTrue\tFalse\t1329731770446253832\t4867\t0.9493601\t3085\t8\n",
    "#1248675773246610542\t23484.4969535\t3210.1552014\t50.1089143\t-44.4812763\tFalse\t13\tFalse\tFalse\tFalse\tFalse\tFalse\t0\t3435\t0.0\t2897\t5\n",
    "\n",
    "tract = 2897\n",
    "patch = 5\n",
    "\n",
    "sel_objid = 1248675773246610542 \n",
    "ra = 50.1089143\n",
    "dec = -44.4812763\n",
    "x = 23484.4969535\n",
    "y = 3210.1552014\n",
    "\n",
    "\n",
    "# TAP catalogs are indexed by RA/Dec and searching based on IDs or other properties are\n",
    "# super inefficient. One option is to first search on RA/Dec and then use a where statement \n",
    "# to pull out targets based on ID  \n",
    "\n",
    "query_children = \"SELECT ObjectId, x, y, coord_ra, coord_dec, detect_isPrimary, deblend_nChild, deblend_skipped, detect_fromBlend, \" + \\\n",
    "        \"detect_isDeblendedModelSource, detect_isDeblendedSource, detect_isIsolated, parentObjectId, footprintArea, z_blendedness, \" + \\\n",
    "        \"tract, patch \" + \\\n",
    "        \"FROM dp02_dc2_catalogs.Object \" + \\\n",
    "        \"WHERE CONTAINS(POINT('ICRS', coord_ra, coord_dec ), \" + \\\n",
    "        \"CIRCLE('ICRS', \" + str(ra) + \", \" + str(dec) + \", 0.01)) = 1 \"   \n",
    "    \n",
    "results_children = service.search(query_children, maxrec=10000)\n",
    "tab_children = results_children.to_table()\n",
    "\n",
    "\n",
    "# print out the output\n",
    "\n",
    "whc = np.where(tab_children['parentObjectId'] == sel_objid)[0]\n",
    "#tab_children[whc]"
   ]
  },
  {
   "cell_type": "code",
   "execution_count": 14,
   "id": "f06ce5c0-d56f-4879-a5eb-b4cb5508d3cd",
   "metadata": {},
   "outputs": [
    {
     "name": "stdout",
     "output_type": "stream",
     "text": [
      "Retrieved catalog of 32101 objects.\n",
      "1248675773246610542 1248675773246640703 23484.493982278047 3210.1595244834843\n",
      "1248675773246610542 1248675773246640704 23466.9451451522 3233.6287998058606\n",
      "1248675773246610542 1248675773246640705 23483.320008254163 3246.0487119002632\n",
      "1248675773246610542 1248675773246640706 23512.9343388915 3205.7072499403953\n",
      "1248675773246610542 1248675773246640707 23455.400666064994 3242.1856875225335\n",
      "1248675773246610542 1248675773246640708 23488.07512761676 3231.692096689908\n",
      "1248675773246610542 1248675773246640709 23459.093178291714 3230.9886405112957\n",
      "1248675773246610542 1248675773246640710 23495.101275324098 3184.438564042999\n",
      "1248675773246610542 1248675773246640711 23502.63552370019 3188.5572090849855\n",
      "1248675773246610542 1248675773246640712 23465.71870790558 3197.3916488116315\n",
      "1248675773246610542 1248675773246640713 23478.921981330524 3227.3238198632953\n",
      "1248675773246610542 1248675773246640714 23503.206784555066 3201.591832926169\n",
      "1248675773246610542 1248675773246640715 23463.005462370333 3244.5699979290935\n",
      "FOUND 13 sources blended with Parent ID sel_objid\n",
      "CPU times: user 1.07 s, sys: 833 ms, total: 1.9 s\n",
      "Wall time: 1.47 s\n"
     ]
    }
   ],
   "source": [
    "%%time\n",
    "# Next, demonstrate how to do this using the Butler\n",
    "\n",
    "obj = butler.get('objectTable',  tract=tract, patch=patch)\n",
    "print(f\"Retrieved catalog of {len(refTable)} objects.\")\n",
    "#refTable.schema.find('detect_isPrimary')\n",
    "#refTable.schema.getNames() # can you add a wildcard here to search keywords including \"blend\"\n",
    "\n",
    "obj_parentObjectId = np.asarray(obj.parentObjectId, dtype='int')\n",
    "obj_objectId = np.asarray(obj.index, dtype='int')\n",
    "obj_coord_x = np.asarray(obj.x, dtype='float')\n",
    "obj_coord_y = np.asarray(obj.y, dtype='float')\n",
    "obj_ra = np.asarray(obj.coord_ra, dtype='float') # CHECK THESE ARE THE RIGHT ONES\n",
    "obj_dec = np.asarray(obj.coord_dec, dtype='float')\n",
    "\n",
    "#ids = refTable.index.to_numpy()\n",
    "#ras = refTable.coord_ra.to_numpy()\n",
    "#decs = refTable.coord_dec.to_numpy()\n",
    "\n",
    "# Pull out all of the sources that are blended with our chosen source as the parent\n",
    "wh = np.where(obj_parentObjectId == sel_objid )[0]\n",
    "for i in wh:\n",
    "    print(obj_parentObjectId[i], obj_objectId[i], obj_coord_x[i], obj_coord_y[i])\n",
    "print('FOUND', len(wh), \"sources blended with Parent ID sel_objid\")\n",
    "#print(obj_objectId[wh], [wh], decs[wh])"
   ]
  },
  {
   "cell_type": "markdown",
   "id": "5c594df6-972e-4d14-a535-b7a9039e1eb3",
   "metadata": {},
   "source": [
    "#### What deblender results are available in the butler?"
   ]
  },
  {
   "cell_type": "code",
   "execution_count": 17,
   "id": "95479f24-f225-416a-9aba-7b37e82ab679",
   "metadata": {},
   "outputs": [
    {
     "name": "stdout",
     "output_type": "stream",
     "text": [
      "DatasetType('deblend_config', {}, Config)\n",
      "DatasetType('deblend_log', {skymap, tract, patch}, ButlerLogRecords)\n",
      "DatasetType('deblend_metadata', {skymap, tract, patch}, PropertySet)\n",
      "DatasetType('deepCoadd_deblendedFlux', {band, skymap, tract, patch}, SourceCatalog)\n",
      "DatasetType('deepCoadd_deblendedFlux_schema', {}, SourceCatalog)\n",
      "DatasetType('deepCoadd_deblendedModel', {band, skymap, tract, patch}, SourceCatalog)\n",
      "DatasetType('deepCoadd_deblendedModel_schema', {}, SourceCatalog)\n",
      "DatasetType('deepCoadd_mcalmax_deblended', {skymap, tract, patch}, SourceCatalog)\n",
      "DatasetType('deepCoadd_mcalmax_deblended_schema', {}, SourceCatalog)\n",
      "DatasetType('deepCoadd_ngmix_deblended', {skymap, tract, patch}, SourceCatalog)\n",
      "DatasetType('deepCoadd_ngmix_deblended_schema', {}, SourceCatalog)\n"
     ]
    }
   ],
   "source": [
    "registry = butler.registry\n",
    "for dt in sorted(registry.queryDatasetTypes('*blend*')):\n",
    "    print(dt)"
   ]
  },
  {
   "cell_type": "markdown",
   "id": "35f52616-8403-47b2-84ff-729ba755f8f0",
   "metadata": {},
   "source": [
    "\n",
    "#### 2.1.1 Displaying an example of a heavily blended source"
   ]
  },
  {
   "cell_type": "code",
   "execution_count": 13,
   "id": "31118cde-b512-4286-bade-4e1cd3e2df16",
   "metadata": {},
   "outputs": [
    {
     "data": {
      "image/png": "[encoded data removed]",
      "text/plain": [
       "<Figure size 800x800 with 2 Axes>"
      ]
     },
     "metadata": {},
     "output_type": "display_data"
    }
   ],
   "source": [
    "# prepare to do the cutout from tutorial notebook 03\n",
    "cutout_image = cutout_coadd(butler, ra,dec, band='i', datasetType='deepCoadd',\n",
    "                            cutoutSideLength=201)\n",
    "\n",
    "wcs = cutout_image.getWcs()\n",
    "\n",
    "x0 = float(cutout_image.getX0())\n",
    "y0 = float(cutout_image.getY0())\n",
    "width = cutout_image.getWidth()\n",
    "height = cutout_image.getHeight()\n",
    "\n",
    "xcorners = [x0, x0+width, x0+width, x0]\n",
    "ycorners = [y0, y0, y0+width, y0+width]\n",
    "\n",
    "ra_corners = []\n",
    "dec_corners = []\n",
    "\n",
    "for i in range(len(xcorners)):\n",
    "    radec = wcs.pixelToSky(xcorners[i], ycorners[i])\n",
    "    ra_corners.append(radec.getRa().asDegrees())\n",
    "    dec_corners.append(radec.getDec().asDegrees())\n",
    "\n",
    "\n",
    "fig, ax = plt.subplots()\n",
    "display = afwDisplay.Display(frame=fig)\n",
    "display.scale('asinh', 'zscale')\n",
    "display.mtv(cutout_image.image)\n",
    "with display.Buffering():\n",
    "    for i in range(len(tab_children[whc])):\n",
    "        display.dot('+', tab_children[whc][i]['x'], tab_children[whc][i]['y'], ctype=afwDisplay.RED)\n",
    "\n",
    "display.dot('+', x, y, ctype=afwDisplay.BLUE)\n",
    "plt.show()\n"
   ]
  },
  {
   "cell_type": "code",
   "execution_count": 16,
   "id": "5de23b03-63ca-4d5e-93ff-6591ffcbb179",
   "metadata": {},
   "outputs": [
    {
     "name": "stdout",
     "output_type": "stream",
     "text": [
      "DatasetType('deblend_config', {}, Config)\n",
      "DatasetType('deblend_log', {skymap, tract, patch}, ButlerLogRecords)\n",
      "DatasetType('deblend_metadata', {skymap, tract, patch}, PropertySet)\n",
      "DatasetType('deepCoadd_deblendedFlux', {band, skymap, tract, patch}, SourceCatalog)\n",
      "DatasetType('deepCoadd_deblendedFlux_schema', {}, SourceCatalog)\n",
      "DatasetType('deepCoadd_deblendedModel', {band, skymap, tract, patch}, SourceCatalog)\n",
      "DatasetType('deepCoadd_deblendedModel_schema', {}, SourceCatalog)\n",
      "DatasetType('deepCoadd_mcalmax_deblended', {skymap, tract, patch}, SourceCatalog)\n",
      "DatasetType('deepCoadd_mcalmax_deblended_schema', {}, SourceCatalog)\n",
      "DatasetType('deepCoadd_ngmix_deblended', {skymap, tract, patch}, SourceCatalog)\n",
      "DatasetType('deepCoadd_ngmix_deblended_schema', {}, SourceCatalog)\n"
     ]
    }
   ],
   "source": []
  },
  {
   "cell_type": "code",
   "execution_count": null,
   "id": "14496eba-ebc2-43be-a200-ed7967da1aa1",
   "metadata": {},
   "outputs": [],
   "source": [
    "\n",
    "# OLD STUFF STARTS HERE:\n",
    "\n",
    "\n",
    "\n",
    "\n",
    "#center_coords = SkyCoord(55.6521739130, -31.9834710744, frame='icrs', unit='deg')\n",
    "center_coords = SkyCoord(55.7393808,-32.2751775, frame='icrs', unit='deg')\n",
    "search_radius = 10*u.arcmin\n",
    "\n",
    "use_center_coords = \"55.7393808, -32.2751775\"\n",
    "use_radius = \"0.02\"\n",
    " \n",
    "max_rec = 10\n",
    "\n",
    "query = \"SELECT objectId, x, y, coord_ra, coord_dec, detect_isPrimary, deblend_nChild, deblend_skipped, detect_fromBlend, \" + \\\n",
    "        \"detect_isDeblendedModelSource, detect_isDeblendedSource, detect_isIsolated, parentObjectId \" + \\\n",
    "        \"FROM dp02_dc2_catalogs.Object \" + \\\n",
    "        \"WHERE CONTAINS(POINT('ICRS', coord_ra, coord_dec), \" + \\\n",
    "        \"CIRCLE('ICRS', \" + use_center_coords + \", \" + use_radius + \")) = 1 \" + \\\n",
    "        \"AND  detect_fromBlend = 1 \" #This source is deblended from a parent with more than one child\n",
    "        #\"AND detect_isPrimary = 0 \" #True if source has no children and is in the inner region of a coadd patch and is in the inner region of a coadd tract and is not detected in a pseudo-filter\n",
    "        \n",
    "results_notPrimary = service.search(query)#, maxrec=max_rec)\n",
    "#assert len(results1) == max_rec\n",
    "\n",
    "# Convert the results to an Astropy table, then\n",
    "#   take a look at the table.\n",
    "tab_notPrimary = results_notPrimary.to_table()\n",
    "#tab_notPrimary \n"
   ]
  },
  {
   "cell_type": "code",
   "execution_count": null,
   "id": "bd30e3e8-eebe-4ccd-9d45-b519b26be067",
   "metadata": {},
   "outputs": [],
   "source": [
    "query = \"SELECT objectId, x, y, coord_ra, coord_dec, detect_isPrimary, deblend_nChild, deblend_skipped, detect_fromBlend, \" + \\\n",
    "        \"detect_isDeblendedModelSource, detect_isDeblendedSource, detect_isIsolated, parentObjectId \" + \\\n",
    "        \"FROM dp02_dc2_catalogs.Object \" + \\\n",
    "        \"WHERE CONTAINS(POINT('ICRS', coord_ra, coord_dec), \" + \\\n",
    "        \"CIRCLE('ICRS', \" + use_center_coords + \", \" + use_radius + \")) = 1 \" + \\\n",
    "        \"AND detect_isIsolated = 1\"\n",
    "#        \"AND detect_isPrimary = 1 \" # we want to remove this, make False to return blends\n",
    "\n",
    "results_Isolated = service.search(query)#, maxrec=max_rec)\n",
    "#assert len(results1) == max_rec\n",
    "\n",
    "# Convert the results to an Astropy table, then\n",
    "#   take a look at the table.\n",
    "tab_Isolated = results_Isolated.to_table()\n",
    "#tab_notPrimary "
   ]
  },
  {
   "cell_type": "code",
   "execution_count": null,
   "id": "d703b024-a119-4dc1-9382-fa9a54f862a4",
   "metadata": {},
   "outputs": [],
   "source": [
    "query = \"SELECT objectId, x, y, coord_ra, coord_dec, detect_isPrimary, deblend_nChild, deblend_skipped, detect_fromBlend, \" + \\\n",
    "        \"detect_isDeblendedModelSource, detect_isDeblendedSource, detect_isIsolated, parentObjectId \" + \\\n",
    "        \"FROM dp02_dc2_catalogs.Object \" + \\\n",
    "        \"WHERE CONTAINS(POINT('ICRS', coord_ra, coord_dec), \" + \\\n",
    "        \"CIRCLE('ICRS', \" + use_center_coords + \", \" + use_radius + \")) = 1 \" + \\\n",
    "        \"AND detect_isPrimary = 1 \" # we want to remove this, make False to return blends\n",
    "\n",
    "results_Primary = service.search(query)#, maxrec=max_rec)\n",
    "#assert len(results1) == max_rec\n",
    "\n",
    "# Convert the results to an Astropy table, then\n",
    "#   take a look at the table.\n",
    "tab_Primary = results_Primary.to_table()\n",
    "#tab_notPrimary "
   ]
  },
  {
   "cell_type": "code",
   "execution_count": null,
   "id": "cf8f0b26-f43d-4515-b5a8-e26085059ee5",
   "metadata": {},
   "outputs": [],
   "source": [
    "# prepare to do the cutout from tutorial notebook 03\n",
    "config = 'dp02'\n",
    "collection = '2.2i/runs/DP0.2'\n",
    "butler = Butler.Butler(config, collections=collection)\n",
    "\n",
    "dataId = {'tract': 4431, 'patch': 17, 'band': 'i'}\n",
    "datasetType = 'deepCoadd'\n",
    "# Retrieve the data using the `butler` instance and its function `get()`\n",
    "coadd = butler.get(datasetType, **dataId)\n",
    "\n",
    "# First, we need to extract the WCS solution, which provides the mapping\n",
    "#   between XY pixel values and sky coordinates:\n",
    "wcs = coadd.getWcs()\n",
    "\n",
    "# The cluster seems to be centered at about (X, Y) ~ (12500, 8500).\n",
    "# We can use the \"pixelToSky\" method of the WCS to get the sky coordinates:\n",
    "radec = wcs.pixelToSky(12500, 8500)\n",
    "ra, dec = radec.getRa().asDegrees(), radec.getDec().asDegrees()\n",
    "print(ra, dec)\n",
    "\n",
    "# Select a position at roughly the center of the galaxy cluster:\n",
    "cutout_image = cutout_coadd(butler, ra, dec, band='i', datasetType='deepCoadd',\n",
    "                            cutoutSideLength=501)\n",
    "print(\"The size of the cutout in pixels is: \", cutout_image.image.array.shape)\n",
    "\n",
    "# Display the image cutout\n",
    "fig, ax = plt.subplots()\n",
    "display = afwDisplay.Display(frame=fig)\n",
    "display.scale('asinh', 'zscale')\n",
    "display.mtv(cutout_image.image)\n",
    "\n",
    "# We use display buffering to avoid re-drawing the image\n",
    "#  after each source is plotted\n",
    "with display.Buffering():\n",
    "    for i in range(len(tab_notPrimary)):\n",
    "        display.dot('+', tab_notPrimary[i]['x'], tab_notPrimary[i]['y'], ctype=afwDisplay.RED)\n",
    "    for j in range(len(tab_Primary)):\n",
    "        display.dot('o', tab_Primary[j]['x'], tab_Primary[j]['y'], size=20, ctype='orange')\n",
    "    #for k in range(len(tab_Isolated)):\n",
    "        #display.dot('^', tab_Isolated[k]['x'], tab_Isolated[k]['y'], ctype='blue')\n",
    "\n",
    "plt.show()\n",
    "#remove_figure(fig)"
   ]
  },
  {
   "cell_type": "code",
   "execution_count": null,
   "id": "d492a9ed-e5ef-4815-be1b-38630e2c5089",
   "metadata": {},
   "outputs": [],
   "source": [
    "# get info about your cutout\n",
    "refTable = butler.get('deepCoadd_ref',  tract=4431, patch=17)\n",
    "refTable.schema.find('detect_isPrimary')\n",
    "#refTable.schema.getNames()\n"
   ]
  },
  {
   "cell_type": "code",
   "execution_count": null,
   "id": "69d24b7c-ef7a-4777-ad36-71aa2e0aa6c9",
   "metadata": {},
   "outputs": [],
   "source": []
  },
  {
   "cell_type": "code",
   "execution_count": 8,
   "id": "2796b31c-447f-4340-a1ef-73486d8ae775",
   "metadata": {},
   "outputs": [
    {
     "ename": "NameError",
     "evalue": "name 'my_cutout' is not defined",
     "output_type": "error",
     "traceback": [
      "\u001b[0;31m---------------------------------------------------------------------------\u001b[0m",
      "\u001b[0;31mNameError\u001b[0m                                 Traceback (most recent call last)",
      "Input \u001b[0;32mIn [8]\u001b[0m, in \u001b[0;36m<cell line: 12>\u001b[0;34m()\u001b[0m\n\u001b[1;32m     10\u001b[0m afw_display \u001b[38;5;241m=\u001b[39m afwDisplay\u001b[38;5;241m.\u001b[39mDisplay()\n\u001b[1;32m     11\u001b[0m afw_display\u001b[38;5;241m.\u001b[39mscale(\u001b[38;5;124m'\u001b[39m\u001b[38;5;124masinh\u001b[39m\u001b[38;5;124m'\u001b[39m, \u001b[38;5;124m'\u001b[39m\u001b[38;5;124mzscale\u001b[39m\u001b[38;5;124m'\u001b[39m)\n\u001b[0;32m---> 12\u001b[0m afw_display\u001b[38;5;241m.\u001b[39mmtv(my_cutout\u001b[38;5;241m.\u001b[39mgetImage())\n\u001b[1;32m     15\u001b[0m \u001b[38;5;66;03m# Plot the \"Parent\" source:\u001b[39;00m\n\u001b[1;32m     16\u001b[0m afw_display\u001b[38;5;241m.\u001b[39mdot(\u001b[38;5;124m'\u001b[39m\u001b[38;5;124mo\u001b[39m\u001b[38;5;124m'\u001b[39m, x, y, size\u001b[38;5;241m=\u001b[39m\u001b[38;5;241m50\u001b[39m, ctype\u001b[38;5;241m=\u001b[39mafwDisplay\u001b[38;5;241m.\u001b[39mRED)\n",
      "\u001b[0;31mNameError\u001b[0m: name 'my_cutout' is not defined"
     ]
    },
    {
     "data": {
      "text/plain": [
       "<Figure size 3000x3000 with 0 Axes>"
      ]
     },
     "metadata": {},
     "output_type": "display_data"
    },
    {
     "data": {
      "text/plain": [
       "<Figure size 800x800 with 0 Axes>"
      ]
     },
     "metadata": {},
     "output_type": "display_data"
    }
   ],
   "source": [
    "\n",
    "\n",
    "datasetType = \"deepCoadd\"\n",
    "\n",
    "\n",
    "dataId = {'tract': tract, 'band': 'i', 'patch': patch }  \n",
    "blend_coadd = butler.get(datasetType, **dataId)\n",
    "\n",
    "\n",
    "# Take a look at the image of the patch\n",
    "plt.figure(figsize=(30,30))\n",
    "afw_display = afwDisplay.Display()\n",
    "afw_display.scale('asinh', 'zscale')\n",
    "afw_display.mtv(my_cutout.getImage())\n",
    "\n",
    "\n",
    "# Plot the \"Parent\" source:\n",
    "afw_display.dot('o', x, y, size=50, ctype=afwDisplay.RED)\n"
   ]
  },
  {
   "cell_type": "markdown",
   "id": "d9ac5004-8b37-42dc-aec1-252995164e2f",
   "metadata": {},
   "source": [
    "#### 2.1.2 Section most blended objects"
   ]
  },
  {
   "cell_type": "code",
   "execution_count": null,
   "id": "91c816bb-2f67-42a6-8b23-9795ab352151",
   "metadata": {},
   "outputs": [],
   "source": [
    "\n"
   ]
  },
  {
   "cell_type": "code",
   "execution_count": null,
   "id": "263b5d42-1505-47a3-9a63-714521de419c",
   "metadata": {},
   "outputs": [],
   "source": [
    "collection = '2.2i/runs/DP0.2'\n",
    "datasetType = \"deepCoadd\"\n",
    "config = \"dp02\"\n",
    "dataId = {'tract': tab_maxblend['tract'][0], 'band': 'i', 'patch': tab_maxblend['patch'][0] }  \n",
    "blend_coadd = butler.get(datasetType, **dataId)\n",
    "\n",
    "# LOOK INTO THIS DEBLEND_METADATA MORE:\n",
    "deblend_metadata = butler.get(\"deblend_metadata\", **dataId)\n",
    "\n",
    "# Take a look at the image of the patch\n",
    "plt.figure(figsize=(30,30))\n",
    "afw_display = afwDisplay.Display()\n",
    "afw_display.setMaskTransparency(100)\n",
    "afw_display.scale('asinh', 'zscale')\n",
    "afw_display.mtv(blend_coadd.getMaskedImage()) # what does getMaskedImage do?\n",
    "\n",
    "# We use display buffering to avoid re-drawing the image\n",
    "#  after each source is plotted\n",
    "with afw_display.Buffering():\n",
    "    for i in range(len(tab_maxblend)):\n",
    "        afw_display.dot('+', tab_maxblend[i]['x'], tab_maxblend[i]['y'], ctype=afwDisplay.RED)\n"
   ]
  },
  {
   "cell_type": "code",
   "execution_count": null,
   "id": "88c739dd-c4ea-4244-883c-3c0b57ada34c",
   "metadata": {},
   "outputs": [],
   "source": []
  },
  {
   "cell_type": "code",
   "execution_count": null,
   "id": "c31392b1-d274-4899-b4dd-cfa9d8ecf571",
   "metadata": {},
   "outputs": [],
   "source": [
    "\n",
    "# first search on RA/Dec and then use a where statement to pull out targets based on ID    \n",
    "query_children = \"SELECT ObjectId, x, y, coord_ra, coord_dec, detect_isPrimary, deblend_nChild, deblend_skipped, detect_fromBlend, \" + \\\n",
    "        \"detect_isDeblendedModelSource, detect_isDeblendedSource, detect_isIsolated, parentObjectId, footprintArea, z_blendedness, \" + \\\n",
    "        \"tract, patch \" + \\\n",
    "        \"FROM dp02_dc2_catalogs.Object \" + \\\n",
    "        \"WHERE CONTAINS(POINT('ICRS', coord_ra, coord_dec ), \" + \\\n",
    "        \"CIRCLE('ICRS', \" + str(ra) + \", \" + str(dec) + \", 0.01)) = 1 \"   \n"
   ]
  },
  {
   "cell_type": "code",
   "execution_count": null,
   "id": "c4fd214f-b7e6-4878-b892-c9ceb0a566cb",
   "metadata": {},
   "outputs": [],
   "source": [
    "# A random assortment of useful notes:\n",
    "\n",
    "#Recommended Search Parameter “detect_isPrimary = True”: A good default search query parameter \n",
    "# for the Object, Source, and ForcedSource catalogs is to set detect_isPrimary = True. \n",
    "# The detect_isPrimary parameter is True if a source has no children, is in the inner region of a \n",
    "#coadd patch, is in the inner region of a coadd tract, and is not “detected” in a pseudo-filter. \n",
    "\n",
    "\n",
    "#https://pipelines.lsst.io/modules/lsst.pipe.tasks/deblending-flags-overview.html\n",
    "\n",
    "# Catalog are objects in each visit (not coadded)\n",
    "# the DP0.2 Schema Browser is helpful:\n",
    "# https://dm.lsst.org/sdm_schemas/browser/dp02.html\n",
    "# .Source catalog properties related to blending:\n",
    "# parentSourceId, blendedness_abs, blendedness_flag, blendedness_flag_noCentroid, blendedness_flag_noShape\n",
    "\n",
    "# Object catalog is sources in the final catalog\n",
    "# .Object properties related to blending:\n",
    "# deblend_nChild, deblend_skipped, detect_fromBlend, detect_isDeblendedModelSource,\n",
    "# detect_isDeblendedSource, detect_isIsolated, detect_isPrimary, parentObjectId, i_blendedness,\n",
    "# i_blendedness_flag, r_blendedness, r_blendedness_flag, (ditto u,g,y,z)\n",
    "\n",
    "# object can use colors in its deblender\n",
    "\n",
    "\n",
    "# questions for melissa:\n",
    "# - butler vs TAP for catalog access? when to use?\n",
    "# butler is inefficient for catalog access because it returns all columns for everything in\n",
    "# a track at once. This can be good for some circumstances, such as getting all objects\n",
    "# inside an track/image. TAP is better for querying things that meet some criteria. \n",
    "\n",
    "# - is there a segmentation map somewhere that identifies the deblending mask?\n",
    "# could be called \"the footprint\" see notebook 05 section 4. See also \n",
    "# https://github.com/LSSTScienceCollaborations/StackClub/blob/master/SourceDetection/Footprints.ipynb\n",
    "# - Looks like detect_isDeblendedSource = 1 and detect_isPrimary = 1 return the same thing?\n",
    "\n",
    "# action items:\n",
    "\n",
    "# look in catalog and search for particular sources that have many blends (DP0.2 doesn't\n",
    "# have low z big galaxies, only 6 years of data and also because cosmology focused \n",
    "# simulation).\n",
    "\n",
    "# go through notebook5 and learn what it is doing. this will inform stretch activities\n",
    "# for this notebook. We are not yet sure what the user-tunable parameters for the \n",
    "# deblender are, so we have to find them another way. Then we will have meeting with \n",
    "# Fred about deblender later. \n",
    "\n",
    "# scarlet is imbedded in lsst pipelines, but ALex's notebooks are a few years old so\n",
    "# are many pipeline versions ago. It is now in the pipeline. I should not have to install\n",
    "# it for myslef. Can look at what scarlet config params those old notebooks tweaked\n",
    "# can be used to map into the lsst science pipeline framework (might be called something\n",
    "# different etc).\n",
    "\n",
    "# maybe (at the end) even re-run the deblender with different parameters (stretch goal)\n",
    "# deblend is also done in notebook 05 but none of the parameters are changed. So here if \n",
    "# we get to the poitn where we can see what the user-changable parameters are, we could\n",
    "# do a couple of demos. \n",
    "\n",
    "# in the geoviews jira ticket, just keep a log of what you did (i.e. can't find example\n",
    "# of any astro applications of it). Since Keith (or Leanne?) suggested it we could also close the loop\n",
    "# with him and ask if he had any examples in mind or has he seen it. Can a convenient\n",
    "# astropy package for this already exist?\n",
    "\n",
    "# Questions for Melissa week of Nov 8:\n",
    "# - I think what I'm looking for here is what children belong to the same deblend.\n",
    "# - cant figure out how to grab a set of blends from the same deblended object\n",
    "# - can't figure out how to extract a footprint for a coadd without running the deblender again (see https://github.com/LSSTScienceCollaborations/StackClub/blob/master/SourceDetection/Footprints.ipynb)\n",
    "# - what does getMaskedImage do?\n",
    "# mask plane may contain (flags bad pixels, detection)\n",
    "# - Struggling with accessing Footprint and MultibandFootprint (class in afw). How to use, are there leftover data products or does detection have to be run?\n",
    "# in notebook 4b there's a way to say tell me everything accessible by butler. there are possibly no image metadata \n",
    "# avail from deepcoadd (since this product of deblender comes after deepcoadd is generated).\n",
    "# deblend_metadata is a property set\n",
    "\n",
    "# https://github.com/lsst/afw/blob/main/doc/lsst.afw.multiband/multiband.rst\n",
    "\n",
    "#geoviews: look in the way of whether things look nice? or fast at rendering ? what is the thing that makes it cool.\n",
    "\n",
    "# Suggestions Nov 17 for science application:\n",
    "#do we know if the parent has a non-deblended flux\n",
    "#merger fractions as fn of redshift? or host identification for time domain\n",
    "#can you select on children that have different colors than parent? \n",
    "\n",
    "\n",
    "# - what does AFW stand for? soemthing frameworks\n",
    "# Explore deblend_metadata\n",
    "#help(blend_coadd)\n",
    "#deblend_metadata = butler.get(\"deblend_metadata\", **dataId)\n",
    "#help(deblend_metadata) is basically useless info"
   ]
  }
 ],
 "metadata": {
  "kernelspec": {
   "display_name": "LSST",
   "language": "python",
   "name": "lsst"
  },
  "language_info": {
   "codemirror_mode": {
    "name": "ipython",
    "version": 3
   },
   "file_extension": ".py",
   "mimetype": "text/x-python",
   "name": "python",
   "nbconvert_exporter": "python",
   "pygments_lexer": "ipython3",
   "version": "3.10.5"
  },
  "toc-autonumbering": false
 },
 "nbformat": 4,
 "nbformat_minor": 5
}
