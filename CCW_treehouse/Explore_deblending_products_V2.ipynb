{
 "cells": [
  {
   "cell_type": "markdown",
   "id": "749b0ddf",
   "metadata": {},
   "source": [
    "<img align=\"left\" src = https://project.lsst.org/sites/default/files/Rubin-O-Logo_0.png width=250 style=\"padding: 10px\"> \n",
    "<b>CET Template Notebook</b> <br>\n",
    "Contact author(s): <i>Christina WIlliams</i> <br>\n",
    "Last verified to run: <i>yyyy-mm-dd</i> <br>\n",
    "LSST Science Piplines version: Weekly <i>yyyy_xx</i> <br>\n",
    "Container Size: <i>medium</i> <br>\n",
    "Targeted learning level: <i>beginner</i> <br>"
   ]
  },
  {
   "cell_type": "markdown",
   "id": "2d9cd09b-d5c4-4610-993b-711bdc9bd80e",
   "metadata": {},
   "source": [
    "_In this template, text in italics are examples or instructions that should be: (a) removed if it is not applicable to the notebook; or (b) replaced with text that is appropriate for the notebook. But bold or regular text should appear pretty much as-is in all CET notebooks. For more information, see the [CET's Guidelines for Tutorial Notebooks](https://confluence.lsstcorp.org/pages/viewpage.action?pageId=168857070)._"
   ]
  },
  {
   "cell_type": "markdown",
   "id": "582ab507-a7ae-4024-95c9-38aabeb602a6",
   "metadata": {},
   "source": [
    "_While developing, use the following code cell to check that the code conforms to standards, but then delete the cell and \"Kernel --> Restart Kernel and Clear All Outputs\" before saving and committing._"
   ]
  },
  {
   "cell_type": "code",
   "execution_count": 1,
   "id": "7acc79a4-8530-42d9-96e5-b7acb4397864",
   "metadata": {},
   "outputs": [],
   "source": [
    "%load_ext pycodestyle_magic\n",
    "%flake8_on\n",
    "import logging\n",
    "logging.getLogger(\"flake8\").setLevel(logging.FATAL)"
   ]
  },
  {
   "cell_type": "markdown",
   "id": "9da1a210-d858-42fe-8591-570965b8be1a",
   "metadata": {},
   "source": [
    "**Description:**  Introduce the data products created by the LSST multiband deblender (Scarlet; Melchior et al. 2018; https://ui.adsabs.harvard.edu/abs/2018A%26C....24..129M/abstract) and illustrate some simple use cases for the deblender products that are stored for use after the pipeline is run. #Some key points to hit: what is a parent, what is a child, describe a deblender, how does it work, what are we telling people about it. bunch of flags in object catalog that are already deblended. notebook can't fully be representative of all science cases for the deblender."
   ]
  },
  {
   "cell_type": "markdown",
   "id": "80a0baf5-51ad-40ec-8991-060a7b27c289",
   "metadata": {},
   "source": [
    "**Skills:** Learn the use cases of deblender products and keywords in LSST catalogs through visual demonstration and explanation of the keywords"
   ]
  },
  {
   "cell_type": "markdown",
   "id": "393da88f-7978-4920-aa4a-a9830df6eed9",
   "metadata": {},
   "source": [
    "**LSST Data Products:** Images (deepCoadd, skyMap, MaskedImage) and Catalogs (objectTable)"
   ]
  },
  {
   "cell_type": "markdown",
   "id": "5c67fab9-136a-4adc-bb42-142b91ab69dd",
   "metadata": {},
   "source": [
    "**Packages:** lsst.afw.image, lsst.afw.detection, lsst.rsp, lsst.daf.butler, lsst.geom, astropy, numpy, "
   ]
  },
  {
   "cell_type": "markdown",
   "id": "8f72b27f",
   "metadata": {},
   "source": [
    "**Credit:** Developed by Christina Willliams in collaboration with Melissa Graham and the Rubin Community Engagement Team for DP0.2. Influenced by StackClub notebooks demonstrating how to run the LSST deblender (Scarlet; Melchior et al. 2018) by Fred Moolekamp and Alex Drlica-Wagner. "
   ]
  },
  {
   "cell_type": "markdown",
   "id": "28e91cbf-ab7f-4e26-9276-b00299d6065e",
   "metadata": {},
   "source": [
    "**Get Support:**\n",
    "Find DP0-related documentation and resources at <a href=\"https://dp0-2.lsst.io\">dp0-2.lsst.io</a>. Questions are welcome as new topics in the <a href=\"https://community.lsst.org/c/support/dp0\">Support - Data Preview 0 Category</a> of the Rubin Community Forum. Rubin staff will respond to all questions posted there."
   ]
  },
  {
   "cell_type": "markdown",
   "id": "cfc73be0",
   "metadata": {},
   "source": [
    "## 1. Introduction\n",
    "\n",
    "This notebook is an introduction to the data products that are created by the LSST pipeline deblender. In order to build its source catalog and measure photometry of objects in images, the LSST pipeline uses a multi-wavelength deblending algorithm (Scarlet, Melchior et al. 2018) to identify independent detected components within source blends, and separate the flux from independent objects. A \"parent\" source is identified as a region of connected pixels above Signal to Noise (S/N) of XX in the deepCoadd. These regions are called footprints. Each footprint may have one or more peaks, and it is these peaks that the deblender will use to infer the number and positions of objects blended in each footprint. The de-blended sub-peaks are referred to as \"children\" of the parent in the properties saved by the deblender in the objectTable.\n",
    "\n",
    "\n",
    "As an example, in this tutorial we will identify a heavily blended source with many components, and explore how to use the information in the objectTable produced by the deblender to identify the indepedent sources within the blend. The keywords for sources identified by the deblender should be used to identify unique sources in the objectTable. We will also show an example of how to access metadata that is attached to each deblended source in the objectTable (e.g. the deblended footprints and pixel-weight maps).\n",
    "\n",
    "An introduction to all of the available deblending flags can be found here:\n",
    "https://pipelines.lsst.io/modules/lsst.pipe.tasks/deblending-flags-overview.html\n",
    "\n",
    "Some more advanced tutorials demonstrating how to re-run the deblender with different parameters exists at https://github.com/LSSTScienceCollaborations/StackClub/tree/master/Deblending\n",
    "\n",
    "A general discussion of blending impacts to LSST can be found in Melchior et al. 2021: https://lss.fnal.gov/archive/2021/pub/fermilab-pub-21-598-ppd.pdf\n",
    "\n",
    "Some more in depth presentations on the deblending implementation in the LSST pipeline are available from recorded talks during the Rubin PCW 2022:\n",
    "https://project.lsst.org/meetings/rubin2022/agenda/deblending-plans-and-challenges"
   ]
  },
  {
   "cell_type": "markdown",
   "id": "dc36f107",
   "metadata": {},
   "source": [
    "### 1.1 Package Imports\n",
    "\n",
    "The [`matplotlib`](https://matplotlib.org/), [`numpy`](http://www.numpy.org/), and [`astropy`](http://www.astropy.org/) libraries are widely used Python libraries for plotting, scientific computing, and astronomical data analysis. We will use these packages below, including the `matplotlib.pyplot` plotting sublibrary.\n",
    "\n",
    "the `lsst.rsp` package to access the TAP service and query the DP0 catalogs.\n",
    "\n",
    "Here we will use the `lsst.afw.image` and `lsst.afw.detection` packages to access some of the extended products created by the deblender pipeline. \n",
    "\n",
    "We will also use previously introduced packages including the `lsst.afw.display` library to gain access to the image visualization routines we'd like to use, and the `lsst.daf.butler` library, which is used to access data products."
   ]
  },
  {
   "cell_type": "code",
   "execution_count": 2,
   "id": "d185358a-4c15-4b04-8e3d-13083191ee72",
   "metadata": {},
   "outputs": [
    {
     "data": {
      "text/html": [
       "<pre style=\"margin: 0.1em;\n",
       "padding-left: 0.25em;\n",
       "border-left-style: solid;\n",
       "font-family: var(--jp-code-font-family);\n",
       "font-size: var(--jp-code-font-size);\n",
       "line-height: var(--jp-code-line-height);\n",
       "\"><span style=\"color: var(--jp-warn-color2)\">pycodestyle</span> <span style=\"color: var(--jp-info-color0)\">INFO</span>: 11:1: E402 module level import not at top of file</pre>"
      ],
      "text/plain": [
       "<IPython.core.display.HTML object>"
      ]
     },
     "metadata": {},
     "output_type": "display_data"
    },
    {
     "data": {
      "text/html": [
       "<pre style=\"margin: 0.1em;\n",
       "padding-left: 0.25em;\n",
       "border-left-style: solid;\n",
       "font-family: var(--jp-code-font-family);\n",
       "font-size: var(--jp-code-font-size);\n",
       "line-height: var(--jp-code-line-height);\n",
       "\"><span style=\"color: var(--jp-warn-color2)\">pycodestyle</span> <span style=\"color: var(--jp-info-color0)\">INFO</span>: 14:1: E402 module level import not at top of file</pre>"
      ],
      "text/plain": [
       "<IPython.core.display.HTML object>"
      ]
     },
     "metadata": {},
     "output_type": "display_data"
    },
    {
     "data": {
      "text/html": [
       "<pre style=\"margin: 0.1em;\n",
       "padding-left: 0.25em;\n",
       "border-left-style: solid;\n",
       "font-family: var(--jp-code-font-family);\n",
       "font-size: var(--jp-code-font-size);\n",
       "line-height: var(--jp-code-line-height);\n",
       "\"><span style=\"color: var(--jp-warn-color2)\">pycodestyle</span> <span style=\"color: var(--jp-info-color0)\">INFO</span>: 17:1: E402 module level import not at top of file</pre>"
      ],
      "text/plain": [
       "<IPython.core.display.HTML object>"
      ]
     },
     "metadata": {},
     "output_type": "display_data"
    },
    {
     "data": {
      "text/html": [
       "<pre style=\"margin: 0.1em;\n",
       "padding-left: 0.25em;\n",
       "border-left-style: solid;\n",
       "font-family: var(--jp-code-font-family);\n",
       "font-size: var(--jp-code-font-size);\n",
       "line-height: var(--jp-code-line-height);\n",
       "\"><span style=\"color: var(--jp-warn-color2)\">pycodestyle</span> <span style=\"color: var(--jp-info-color0)\">INFO</span>: 18:1: E402 module level import not at top of file</pre>"
      ],
      "text/plain": [
       "<IPython.core.display.HTML object>"
      ]
     },
     "metadata": {},
     "output_type": "display_data"
    },
    {
     "data": {
      "text/html": [
       "<pre style=\"margin: 0.1em;\n",
       "padding-left: 0.25em;\n",
       "border-left-style: solid;\n",
       "font-family: var(--jp-code-font-family);\n",
       "font-size: var(--jp-code-font-size);\n",
       "line-height: var(--jp-code-line-height);\n",
       "\"><span style=\"color: var(--jp-warn-color2)\">pycodestyle</span> <span style=\"color: var(--jp-info-color0)\">INFO</span>: 21:1: E402 module level import not at top of file</pre>"
      ],
      "text/plain": [
       "<IPython.core.display.HTML object>"
      ]
     },
     "metadata": {},
     "output_type": "display_data"
    },
    {
     "data": {
      "text/html": [
       "<pre style=\"margin: 0.1em;\n",
       "padding-left: 0.25em;\n",
       "border-left-style: solid;\n",
       "font-family: var(--jp-code-font-family);\n",
       "font-size: var(--jp-code-font-size);\n",
       "line-height: var(--jp-code-line-height);\n",
       "\"><span style=\"color: var(--jp-warn-color2)\">pycodestyle</span> <span style=\"color: var(--jp-info-color0)\">INFO</span>: 22:1: E402 module level import not at top of file</pre>"
      ],
      "text/plain": [
       "<IPython.core.display.HTML object>"
      ]
     },
     "metadata": {},
     "output_type": "display_data"
    },
    {
     "data": {
      "text/html": [
       "<pre style=\"margin: 0.1em;\n",
       "padding-left: 0.25em;\n",
       "border-left-style: solid;\n",
       "font-family: var(--jp-code-font-family);\n",
       "font-size: var(--jp-code-font-size);\n",
       "line-height: var(--jp-code-line-height);\n",
       "\"><span style=\"color: var(--jp-warn-color2)\">pycodestyle</span> <span style=\"color: var(--jp-info-color0)\">INFO</span>: 26:1: E402 module level import not at top of file</pre>"
      ],
      "text/plain": [
       "<IPython.core.display.HTML object>"
      ]
     },
     "metadata": {},
     "output_type": "display_data"
    },
    {
     "data": {
      "text/html": [
       "<pre style=\"margin: 0.1em;\n",
       "padding-left: 0.25em;\n",
       "border-left-style: solid;\n",
       "font-family: var(--jp-code-font-family);\n",
       "font-size: var(--jp-code-font-size);\n",
       "line-height: var(--jp-code-line-height);\n",
       "\"><span style=\"color: var(--jp-warn-color2)\">pycodestyle</span> <span style=\"color: var(--jp-info-color0)\">INFO</span>: 27:1: E402 module level import not at top of file</pre>"
      ],
      "text/plain": [
       "<IPython.core.display.HTML object>"
      ]
     },
     "metadata": {},
     "output_type": "display_data"
    },
    {
     "data": {
      "text/html": [
       "<pre style=\"margin: 0.1em;\n",
       "padding-left: 0.25em;\n",
       "border-left-style: solid;\n",
       "font-family: var(--jp-code-font-family);\n",
       "font-size: var(--jp-code-font-size);\n",
       "line-height: var(--jp-code-line-height);\n",
       "\"><span style=\"color: var(--jp-warn-color2)\">pycodestyle</span> <span style=\"color: var(--jp-info-color0)\">INFO</span>: 30:1: E402 module level import not at top of file</pre>"
      ],
      "text/plain": [
       "<IPython.core.display.HTML object>"
      ]
     },
     "metadata": {},
     "output_type": "display_data"
    },
    {
     "data": {
      "text/html": [
       "<pre style=\"margin: 0.1em;\n",
       "padding-left: 0.25em;\n",
       "border-left-style: solid;\n",
       "font-family: var(--jp-code-font-family);\n",
       "font-size: var(--jp-code-font-size);\n",
       "line-height: var(--jp-code-line-height);\n",
       "\"><span style=\"color: var(--jp-warn-color2)\">pycodestyle</span> <span style=\"color: var(--jp-info-color0)\">INFO</span>: 33:1: E402 module level import not at top of file</pre>"
      ],
      "text/plain": [
       "<IPython.core.display.HTML object>"
      ]
     },
     "metadata": {},
     "output_type": "display_data"
    },
    {
     "data": {
      "text/html": [
       "<pre style=\"margin: 0.1em;\n",
       "padding-left: 0.25em;\n",
       "border-left-style: solid;\n",
       "font-family: var(--jp-code-font-family);\n",
       "font-size: var(--jp-code-font-size);\n",
       "line-height: var(--jp-code-line-height);\n",
       "\"><span style=\"color: var(--jp-warn-color2)\">pycodestyle</span> <span style=\"color: var(--jp-info-color0)\">INFO</span>: 34:1: E402 module level import not at top of file</pre>"
      ],
      "text/plain": [
       "<IPython.core.display.HTML object>"
      ]
     },
     "metadata": {},
     "output_type": "display_data"
    },
    {
     "data": {
      "text/html": [
       "<pre style=\"margin: 0.1em;\n",
       "padding-left: 0.25em;\n",
       "border-left-style: solid;\n",
       "font-family: var(--jp-code-font-family);\n",
       "font-size: var(--jp-code-font-size);\n",
       "line-height: var(--jp-code-line-height);\n",
       "\"><span style=\"color: var(--jp-warn-color2)\">pycodestyle</span> <span style=\"color: var(--jp-info-color0)\">INFO</span>: 35:1: E402 module level import not at top of file</pre>"
      ],
      "text/plain": [
       "<IPython.core.display.HTML object>"
      ]
     },
     "metadata": {},
     "output_type": "display_data"
    },
    {
     "data": {
      "text/html": [
       "<pre style=\"margin: 0.1em;\n",
       "padding-left: 0.25em;\n",
       "border-left-style: solid;\n",
       "font-family: var(--jp-code-font-family);\n",
       "font-size: var(--jp-code-font-size);\n",
       "line-height: var(--jp-code-line-height);\n",
       "\"><span style=\"color: var(--jp-warn-color2)\">pycodestyle</span> <span style=\"color: var(--jp-info-color0)\">INFO</span>: 36:1: E402 module level import not at top of file</pre>"
      ],
      "text/plain": [
       "<IPython.core.display.HTML object>"
      ]
     },
     "metadata": {},
     "output_type": "display_data"
    },
    {
     "data": {
      "text/html": [
       "<pre style=\"margin: 0.1em;\n",
       "padding-left: 0.25em;\n",
       "border-left-style: solid;\n",
       "font-family: var(--jp-code-font-family);\n",
       "font-size: var(--jp-code-font-size);\n",
       "line-height: var(--jp-code-line-height);\n",
       "\"><span style=\"color: var(--jp-warn-color2)\">pycodestyle</span> <span style=\"color: var(--jp-info-color0)\">INFO</span>: 37:1: E402 module level import not at top of file</pre>"
      ],
      "text/plain": [
       "<IPython.core.display.HTML object>"
      ]
     },
     "metadata": {},
     "output_type": "display_data"
    },
    {
     "data": {
      "text/html": [
       "<pre style=\"margin: 0.1em;\n",
       "padding-left: 0.25em;\n",
       "border-left-style: solid;\n",
       "font-family: var(--jp-code-font-family);\n",
       "font-size: var(--jp-code-font-size);\n",
       "line-height: var(--jp-code-line-height);\n",
       "\"><span style=\"color: var(--jp-warn-color2)\">pycodestyle</span> <span style=\"color: var(--jp-info-color0)\">INFO</span>: 38:1: E402 module level import not at top of file</pre>"
      ],
      "text/plain": [
       "<IPython.core.display.HTML object>"
      ]
     },
     "metadata": {},
     "output_type": "display_data"
    }
   ],
   "source": [
    "# general python packages\n",
    "import numpy as np\n",
    "import os\n",
    "import sys\n",
    "import matplotlib.pyplot as plt\n",
    "import gc\n",
    "import time\n",
    "plt.style.use('tableau-colorblind10')\n",
    "\n",
    "# LSST package for TAP queries\n",
    "from lsst.rsp import get_tap_service, retrieve_query\n",
    "\n",
    "# LSST package for Butler queries\n",
    "import lsst.daf.butler as Butler\n",
    "\n",
    "# Familiar stack packages\n",
    "from lsst.geom import Box2I, Box2D, Point2I, Point2D, Extent2I, Extent2D\n",
    "from lsst.afw.image import Exposure, Image, PARENT\n",
    "\n",
    "# LSST package for image display\n",
    "import lsst.afw.display as afwDisplay\n",
    "import lsst.geom as geom\n",
    "afwDisplay.setDefaultBackend('matplotlib')\n",
    "\n",
    "# Packages for dealing with multi-band data products\n",
    "from lsst.afw.image import MultibandExposure, MultibandImage\n",
    "from lsst.afw.detection import MultibandFootprint, Footprint\n",
    "\n",
    "### for the heavyFootprintToImage function\n",
    "from lsst.afw.image import MaskedImage\n",
    "\n",
    "# Astropy imports\n",
    "from astropy.wcs import WCS\n",
    "from astropy import units as u\n",
    "from astropy.coordinates import SkyCoord\n",
    "from astropy.wcs.utils import skycoord_to_pixel\n",
    "from astropy.visualization import make_lupton_rgb\n",
    "from astropy.nddata import Cutout2D"
   ]
  },
  {
   "cell_type": "markdown",
   "id": "c217adff-25ed-4fce-95e7-8aa04630f6cc",
   "metadata": {},
   "source": [
    "### 1.2 Define Functions and Parameters for the image plots \n",
    "\n",
    "Here we define default parameters for plotting, and define two functions to help us visualize deblended products: 1) cutout_coadd will make an image cutout (see tutorial notebook 03a) and 2) heavyFootprintToImage will help us grab the \"footprint\" of deblended objects for further analysis. \n",
    "\n"
   ]
  },
  {
   "cell_type": "code",
   "execution_count": 3,
   "id": "54e8800e-26f3-4d70-9306-ef3a5fd75aa9",
   "metadata": {},
   "outputs": [
    {
     "data": {
      "text/html": [
       "<pre style=\"margin: 0.1em;\n",
       "padding-left: 0.25em;\n",
       "border-left-style: solid;\n",
       "font-family: var(--jp-code-font-family);\n",
       "font-size: var(--jp-code-font-size);\n",
       "line-height: var(--jp-code-line-height);\n",
       "\"><span style=\"color: var(--jp-warn-color2)\">pycodestyle</span> <span style=\"color: var(--jp-info-color0)\">INFO</span>: 30:1: E302 expected 2 blank lines, found 1</pre>"
      ],
      "text/plain": [
       "<IPython.core.display.HTML object>"
      ]
     },
     "metadata": {},
     "output_type": "display_data"
    },
    {
     "data": {
      "text/html": [
       "<pre style=\"margin: 0.1em;\n",
       "padding-left: 0.25em;\n",
       "border-left-style: solid;\n",
       "font-family: var(--jp-code-font-family);\n",
       "font-size: var(--jp-code-font-size);\n",
       "line-height: var(--jp-code-line-height);\n",
       "\"><span style=\"color: var(--jp-warn-color2)\">pycodestyle</span> <span style=\"color: var(--jp-info-color0)\">INFO</span>: 79:80: E501 line too long (90 &gt; 79 characters)</pre>"
      ],
      "text/plain": [
       "<IPython.core.display.HTML object>"
      ]
     },
     "metadata": {},
     "output_type": "display_data"
    },
    {
     "data": {
      "text/html": [
       "<pre style=\"margin: 0.1em;\n",
       "padding-left: 0.25em;\n",
       "border-left-style: solid;\n",
       "font-family: var(--jp-code-font-family);\n",
       "font-size: var(--jp-code-font-size);\n",
       "line-height: var(--jp-code-line-height);\n",
       "\"><span style=\"color: var(--jp-warn-color2)\">pycodestyle</span> <span style=\"color: var(--jp-info-color0)\">INFO</span>: 81:1: E302 expected 2 blank lines, found 1</pre>"
      ],
      "text/plain": [
       "<IPython.core.display.HTML object>"
      ]
     },
     "metadata": {},
     "output_type": "display_data"
    },
    {
     "data": {
      "text/html": [
       "<pre style=\"margin: 0.1em;\n",
       "padding-left: 0.25em;\n",
       "border-left-style: solid;\n",
       "font-family: var(--jp-code-font-family);\n",
       "font-size: var(--jp-code-font-size);\n",
       "line-height: var(--jp-code-line-height);\n",
       "\"><span style=\"color: var(--jp-warn-color2)\">pycodestyle</span> <span style=\"color: var(--jp-info-color0)\">INFO</span>: 81:80: E501 line too long (80 &gt; 79 characters)</pre>"
      ],
      "text/plain": [
       "<IPython.core.display.HTML object>"
      ]
     },
     "metadata": {},
     "output_type": "display_data"
    }
   ],
   "source": [
    "# Set up some plotting defaults:\n",
    "\n",
    "params = {'axes.labelsize': 28,\n",
    "          'font.size': 24,\n",
    "          'legend.fontsize': 14,\n",
    "          'xtick.major.width': 3,\n",
    "          'xtick.minor.width': 2,\n",
    "          'xtick.major.size': 12,\n",
    "          'xtick.minor.size': 6,\n",
    "          'xtick.direction': 'in',\n",
    "          'xtick.top': True,\n",
    "          'lines.linewidth': 3,\n",
    "          'axes.linewidth': 3,\n",
    "          'axes.labelweight': 3,\n",
    "          'axes.titleweight': 3,\n",
    "          'ytick.major.width': 3,\n",
    "          'ytick.minor.width': 2,\n",
    "          'ytick.major.size': 12,\n",
    "          'ytick.minor.size': 6,\n",
    "          'ytick.direction': 'in',\n",
    "          'ytick.right': True,\n",
    "          'figure.figsize': [8, 8],\n",
    "          'figure.facecolor': 'White'\n",
    "          }\n",
    "\n",
    "plt.rcParams.update(params)\n",
    "\n",
    "# A function and settings to plot a cutout from tutorial notebook 03a\n",
    "\n",
    "def cutout_coadd(butler, ra, dec, band='r', datasetType='deepCoadd',\n",
    "                 skymap=None, cutoutSideLength=51, **kwargs):\n",
    "    \"\"\"\n",
    "    Produce a cutout from a coadd at the given ra, dec position.\n",
    "\n",
    "    Adapted from DC2 tutorial notebook by Michael Wood-Vasey.\n",
    "\n",
    "    Parameters\n",
    "    ----------\n",
    "    butler: lsst.daf.persistence.Butler\n",
    "        Servant providing access to a data repository\n",
    "    ra: float\n",
    "        Right ascension of the center of the cutout, in degrees\n",
    "    dec: float\n",
    "        Declination of the center of the cutout, in degrees\n",
    "    band: string\n",
    "        Filter of the image to load\n",
    "    datasetType: string ['deepCoadd']\n",
    "        Which type of coadd to load.  Doesn't support 'calexp'\n",
    "    skymap: lsst.afw.skyMap.SkyMap [optional]\n",
    "        Pass in to avoid the Butler read.  Useful if you have lots of them.\n",
    "    cutoutSideLength: float [optional]\n",
    "        Size of the cutout region in pixels.\n",
    "\n",
    "    Returns\n",
    "    -------\n",
    "    MaskedImage\n",
    "    \"\"\"\n",
    "    radec = geom.SpherePoint(ra, dec, geom.degrees)\n",
    "    cutoutSize = geom.ExtentI(cutoutSideLength, cutoutSideLength)\n",
    "\n",
    "    if skymap is None:\n",
    "        skymap = butler.get(\"skyMap\")\n",
    "\n",
    "    # Look up the tract, patch for the RA, Dec\n",
    "    tractInfo = skymap.findTract(radec)\n",
    "    patchInfo = tractInfo.findPatch(radec)\n",
    "    xy = geom.PointI(tractInfo.getWcs().skyToPixel(radec))\n",
    "    bbox = geom.BoxI(xy - cutoutSize // 2, cutoutSize)\n",
    "    patch = tractInfo.getSequentialPatchIndex(patchInfo)\n",
    "\n",
    "    coaddId = {'tract': tractInfo.getId(), 'patch': patch, 'band': band}\n",
    "    parameters = {'bbox': bbox}\n",
    "\n",
    "    cutout_image = butler.get(datasetType, parameters=parameters,\n",
    "                              dataId=coaddId)\n",
    "\n",
    "    return cutout_image\n",
    "\n",
    "# A function to image the footprint of deblended sources from deblender products metadata:\n",
    "\n",
    "def heavyFootprintToImage(heavy, fill=np.nan, bbox=None, imageType=MaskedImage):\n",
    "    \"\"\"Create an image of a HeavyFootprint\n",
    "    Written by Fred Moolekamp from Data Management(?)\n",
    "    Parameters\n",
    "    ----------\n",
    "    heavy : `HeavyFootprint`\n",
    "        The HeavyFootprint to insert into the image\n",
    "    fill: number\n",
    "        Number to fill the pixels in the image that are not\n",
    "        contained in `heavy`.\n",
    "    bbox : `Box2I`\n",
    "        Bounding box of the output image.\n",
    "    imageType : `type`\n",
    "        This should be either a `MaskedImage` or `Image` and describes\n",
    "        the type of the output image.\n",
    "    Returns\n",
    "    -------\n",
    "    image : `lsst.afw.image.MaskedImage` or `lsst.afw.image.Image`\n",
    "        An image defined by `bbox` and padded with `fill` that\n",
    "        contains the projected flux in `heavy`.\n",
    "    \"\"\"\n",
    "    if bbox is None:\n",
    "        bbox = heavy.getBBox()\n",
    "    image = imageType(bbox, dtype=heavy.getImageArray().dtype)\n",
    "    image.set(fill)\n",
    "    heavy.insert(image)\n",
    "    return image"
   ]
  },
  {
   "cell_type": "markdown",
   "id": "ec51ac0b",
   "metadata": {
    "tags": []
   },
   "source": [
    "## 2. Explore the deblender data products stored in object tables\n",
    "\n",
    "_Use section titles that actively describe what is being done, e.g., \"Create a color-magnitude diagram\" instead of \"Plot\", so that the auto-generated table of contents is easy to navigate._\n",
    "\n",
    "### 2.1 Access and print the keywords created by the deblender in object tables\n",
    "\n",
    "The pipeline records a number of keywords that can be used to identify and characterize blended sources (parents) that have been deblended into child sources, both of which are ultimately stored in the object and source tables along with isolated single objects that do not require deblending. These keywords help the user identify a unique sample and avoid double counting of objects in queries. Some examples:\n",
    "\n",
    "**detect_isPrimary**: \tTrue if source has no children, is in inner region of a coadd patch and is in the inner region of a coadd tract and is not detected in a pseudo-filter (see config.pseudoFilterList)\n",
    "\n",
    "**detect_fromBlend**: \tThis source is deblended from a parent with more than one child.\n",
    "\n",
    "**parentObjectId**: \tUnique ID of parent source. Reference band.\n",
    "\n",
    "**detect_isDeblendedSource**: \tTrue if source has no children and is in the inner region of a coadd patch and is in the inner region of a coadd tract and is not detected in a pseudo-filter (see config.pseudoFilterList) and is either an unblended isolated source or a deblended child from a parent with DIFFERENCE BETWEEN THIS ANDMODEL SOURCE?\n",
    "\n",
    "\n",
    "There are also a number of additional keywords that are useful for  ...\n",
    "\n",
    "**deblend_skipped**: \tDeblender skipped this source\n",
    "\n",
    "**footprintArea**:  \tNumber of pixels in the sources detection footprint. Reference band.\n",
    "\n",
    "**detect_isDeblendedModelSource**: \tTrue if source has no children and is in the inner region of a coadd patch and is in the inner region of a coadd tract and is not detected in a pseudo-filter (see config.pseudoFilterList) and is a deblended child\n",
    "\n",
    "In this tutorial we will use a number of \n",
    "\n",
    "These can be accessed via TAP queries, or through the butler, so we will demonstrate both. \n"
   ]
  },
  {
   "cell_type": "code",
   "execution_count": 4,
   "id": "ded13be7-79dd-41e5-9052-a22df60745c3",
   "metadata": {},
   "outputs": [
    {
     "data": {
      "text/html": [
       "<pre style=\"margin: 0.1em;\n",
       "padding-left: 0.25em;\n",
       "border-left-style: solid;\n",
       "font-family: var(--jp-code-font-family);\n",
       "font-size: var(--jp-code-font-size);\n",
       "line-height: var(--jp-code-line-height);\n",
       "\"><span style=\"color: var(--jp-warn-color2)\">botocore.credentials</span> <span style=\"color: var(--jp-info-color0)\">INFO</span>: Found credentials in shared credentials file: /home/christinawilliams/.lsst/aws-credentials.ini</pre>"
      ],
      "text/plain": [
       "<IPython.core.display.HTML object>"
      ]
     },
     "metadata": {},
     "output_type": "display_data"
    }
   ],
   "source": [
    "# open TAP service\n",
    "service = get_tap_service()\n",
    "assert service is not None\n",
    "assert service.baseurl == \"https://data.lsst.cloud/api/tap\"\n",
    "\n",
    "# initialize Butler\n",
    "config = 'dp02'\n",
    "collection = '2.2i/runs/DP0.2'\n",
    "butler = Butler.Butler(config, collections=collection)\n"
   ]
  },
  {
   "cell_type": "markdown",
   "id": "5c594df6-972e-4d14-a535-b7a9039e1eb3",
   "metadata": {},
   "source": [
    "#### What deblender results are available in the butler?"
   ]
  },
  {
   "cell_type": "code",
   "execution_count": 5,
   "id": "95479f24-f225-416a-9aba-7b37e82ab679",
   "metadata": {},
   "outputs": [
    {
     "name": "stdout",
     "output_type": "stream",
     "text": [
      "DatasetType('deblend_config', {}, Config)\n",
      "DatasetType('deblend_log', {skymap, tract, patch}, ButlerLogRecords)\n",
      "DatasetType('deblend_metadata', {skymap, tract, patch}, PropertySet)\n",
      "DatasetType('deepCoadd_deblendedFlux', {band, skymap, tract, patch}, SourceCatalog)\n",
      "DatasetType('deepCoadd_deblendedFlux_schema', {}, SourceCatalog)\n",
      "DatasetType('deepCoadd_deblendedModel', {band, skymap, tract, patch}, SourceCatalog)\n",
      "DatasetType('deepCoadd_deblendedModel_schema', {}, SourceCatalog)\n",
      "DatasetType('deepCoadd_mcalmax_deblended', {skymap, tract, patch}, SourceCatalog)\n",
      "DatasetType('deepCoadd_mcalmax_deblended_schema', {}, SourceCatalog)\n",
      "DatasetType('deepCoadd_ngmix_deblended', {skymap, tract, patch}, SourceCatalog)\n",
      "DatasetType('deepCoadd_ngmix_deblended_schema', {}, SourceCatalog)\n"
     ]
    }
   ],
   "source": [
    "registry = butler.registry\n",
    "for dt in sorted(registry.queryDatasetTypes('*blend*')):\n",
    "    print(dt)"
   ]
  },
  {
   "cell_type": "markdown",
   "id": "98feae16-6c86-4095-9b9d-4379a3e821d4",
   "metadata": {},
   "source": [
    "### 2.2 Finding a heavily blended source in the LSST data\n",
    "\n",
    "In theory, one can search the LSST data for objects with certain characteristics, such as by how many sources are blended together. However, when searching either through TAP queries or using the butler, one must first identify the region of the sky to search and search in a specific region defined by RA/Dec within a certain search radius or patch/tract. This is because the databases are indexed by RA/Dec and searching by blending keywords (i.e. to identify the most blended sources or by parent object ID) are extremely inefficient. The reason that Qserv is spatially sharded, so querying by RA/Dec is always going to be more efficient than querying by butler dimensions such as patch, tract, etc. RA/Dec is the way to go to optimize TAP queries. (TO DO: reference a TAPvsBulter tutorial?)\n",
    "\n",
    "However, we show an example below. Note that uncommenting the cell will run a query that takes approximately 15 minutes."
   ]
  },
  {
   "cell_type": "code",
   "execution_count": 6,
   "id": "c7e280d4-1c81-4396-884a-e5a2cef3f105",
   "metadata": {},
   "outputs": [
    {
     "data": {
      "text/html": [
       "<pre style=\"margin: 0.1em;\n",
       "padding-left: 0.25em;\n",
       "border-left-style: solid;\n",
       "font-family: var(--jp-code-font-family);\n",
       "font-size: var(--jp-code-font-size);\n",
       "line-height: var(--jp-code-line-height);\n",
       "\"><span style=\"color: var(--jp-warn-color2)\">pycodestyle</span> <span style=\"color: var(--jp-info-color0)\">INFO</span>: 1:1: E265 block comment should start with &#x27;# &#x27;</pre>"
      ],
      "text/plain": [
       "<IPython.core.display.HTML object>"
      ]
     },
     "metadata": {},
     "output_type": "display_data"
    },
    {
     "data": {
      "text/html": [
       "<pre style=\"margin: 0.1em;\n",
       "padding-left: 0.25em;\n",
       "border-left-style: solid;\n",
       "font-family: var(--jp-code-font-family);\n",
       "font-size: var(--jp-code-font-size);\n",
       "line-height: var(--jp-code-line-height);\n",
       "\"><span style=\"color: var(--jp-warn-color2)\">pycodestyle</span> <span style=\"color: var(--jp-info-color0)\">INFO</span>: 3:80: E501 line too long (97 &gt; 79 characters)</pre>"
      ],
      "text/plain": [
       "<IPython.core.display.HTML object>"
      ]
     },
     "metadata": {},
     "output_type": "display_data"
    },
    {
     "data": {
      "text/html": [
       "<pre style=\"margin: 0.1em;\n",
       "padding-left: 0.25em;\n",
       "border-left-style: solid;\n",
       "font-family: var(--jp-code-font-family);\n",
       "font-size: var(--jp-code-font-size);\n",
       "line-height: var(--jp-code-line-height);\n",
       "\"><span style=\"color: var(--jp-warn-color2)\">pycodestyle</span> <span style=\"color: var(--jp-info-color0)\">INFO</span>: 3:98: W291 trailing whitespace</pre>"
      ],
      "text/plain": [
       "<IPython.core.display.HTML object>"
      ]
     },
     "metadata": {},
     "output_type": "display_data"
    },
    {
     "data": {
      "text/html": [
       "<pre style=\"margin: 0.1em;\n",
       "padding-left: 0.25em;\n",
       "border-left-style: solid;\n",
       "font-family: var(--jp-code-font-family);\n",
       "font-size: var(--jp-code-font-size);\n",
       "line-height: var(--jp-code-line-height);\n",
       "\"><span style=\"color: var(--jp-warn-color2)\">pycodestyle</span> <span style=\"color: var(--jp-info-color0)\">INFO</span>: 4:80: E501 line too long (104 &gt; 79 characters)</pre>"
      ],
      "text/plain": [
       "<IPython.core.display.HTML object>"
      ]
     },
     "metadata": {},
     "output_type": "display_data"
    },
    {
     "data": {
      "text/html": [
       "<pre style=\"margin: 0.1em;\n",
       "padding-left: 0.25em;\n",
       "border-left-style: solid;\n",
       "font-family: var(--jp-code-font-family);\n",
       "font-size: var(--jp-code-font-size);\n",
       "line-height: var(--jp-code-line-height);\n",
       "\"><span style=\"color: var(--jp-warn-color2)\">pycodestyle</span> <span style=\"color: var(--jp-info-color0)\">INFO</span>: 7:1: E265 block comment should start with &#x27;# &#x27;</pre>"
      ],
      "text/plain": [
       "<IPython.core.display.HTML object>"
      ]
     },
     "metadata": {},
     "output_type": "display_data"
    },
    {
     "data": {
      "text/html": [
       "<pre style=\"margin: 0.1em;\n",
       "padding-left: 0.25em;\n",
       "border-left-style: solid;\n",
       "font-family: var(--jp-code-font-family);\n",
       "font-size: var(--jp-code-font-size);\n",
       "line-height: var(--jp-code-line-height);\n",
       "\"><span style=\"color: var(--jp-warn-color2)\">pycodestyle</span> <span style=\"color: var(--jp-info-color0)\">INFO</span>: 7:80: E501 line too long (135 &gt; 79 characters)</pre>"
      ],
      "text/plain": [
       "<IPython.core.display.HTML object>"
      ]
     },
     "metadata": {},
     "output_type": "display_data"
    },
    {
     "data": {
      "text/html": [
       "<pre style=\"margin: 0.1em;\n",
       "padding-left: 0.25em;\n",
       "border-left-style: solid;\n",
       "font-family: var(--jp-code-font-family);\n",
       "font-size: var(--jp-code-font-size);\n",
       "line-height: var(--jp-code-line-height);\n",
       "\"><span style=\"color: var(--jp-warn-color2)\">pycodestyle</span> <span style=\"color: var(--jp-info-color0)\">INFO</span>: 8:80: E501 line too long (137 &gt; 79 characters)</pre>"
      ],
      "text/plain": [
       "<IPython.core.display.HTML object>"
      ]
     },
     "metadata": {},
     "output_type": "display_data"
    },
    {
     "data": {
      "text/html": [
       "<pre style=\"margin: 0.1em;\n",
       "padding-left: 0.25em;\n",
       "border-left-style: solid;\n",
       "font-family: var(--jp-code-font-family);\n",
       "font-size: var(--jp-code-font-size);\n",
       "line-height: var(--jp-code-line-height);\n",
       "\"><span style=\"color: var(--jp-warn-color2)\">pycodestyle</span> <span style=\"color: var(--jp-info-color0)\">INFO</span>: 11:80: E501 line too long (128 &gt; 79 characters)</pre>"
      ],
      "text/plain": [
       "<IPython.core.display.HTML object>"
      ]
     },
     "metadata": {},
     "output_type": "display_data"
    },
    {
     "data": {
      "text/html": [
       "<pre style=\"margin: 0.1em;\n",
       "padding-left: 0.25em;\n",
       "border-left-style: solid;\n",
       "font-family: var(--jp-code-font-family);\n",
       "font-size: var(--jp-code-font-size);\n",
       "line-height: var(--jp-code-line-height);\n",
       "\"><span style=\"color: var(--jp-warn-color2)\">pycodestyle</span> <span style=\"color: var(--jp-info-color0)\">INFO</span>: 15:1: E265 block comment should start with &#x27;# &#x27;</pre>"
      ],
      "text/plain": [
       "<IPython.core.display.HTML object>"
      ]
     },
     "metadata": {},
     "output_type": "display_data"
    },
    {
     "data": {
      "text/html": [
       "<pre style=\"margin: 0.1em;\n",
       "padding-left: 0.25em;\n",
       "border-left-style: solid;\n",
       "font-family: var(--jp-code-font-family);\n",
       "font-size: var(--jp-code-font-size);\n",
       "line-height: var(--jp-code-line-height);\n",
       "\"><span style=\"color: var(--jp-warn-color2)\">pycodestyle</span> <span style=\"color: var(--jp-info-color0)\">INFO</span>: 16:1: E265 block comment should start with &#x27;# &#x27;</pre>"
      ],
      "text/plain": [
       "<IPython.core.display.HTML object>"
      ]
     },
     "metadata": {},
     "output_type": "display_data"
    },
    {
     "data": {
      "text/html": [
       "<pre style=\"margin: 0.1em;\n",
       "padding-left: 0.25em;\n",
       "border-left-style: solid;\n",
       "font-family: var(--jp-code-font-family);\n",
       "font-size: var(--jp-code-font-size);\n",
       "line-height: var(--jp-code-line-height);\n",
       "\"><span style=\"color: var(--jp-warn-color2)\">pycodestyle</span> <span style=\"color: var(--jp-info-color0)\">INFO</span>: 16:14: W291 trailing whitespace</pre>"
      ],
      "text/plain": [
       "<IPython.core.display.HTML object>"
      ]
     },
     "metadata": {},
     "output_type": "display_data"
    }
   ],
   "source": [
    "#%%time\n",
    "\n",
    "# Use TAP service to search for very blended sources. This is very slow (run time approx 15 min). \n",
    "# TAP is optimized to search on RA / Dec, not other keywords, so ideally one should not use this method.\n",
    "# But, we include it for demonstration purposes. We show a better method below.\n",
    "\n",
    "#query = \"SELECT TOP 10 objectId, x, y, coord_ra, coord_dec, detect_isPrimary, deblend_nChild, deblend_skipped, detect_fromBlend, \" + \\\n",
    "#        \"detect_isDeblendedModelSource, detect_isDeblendedSource, detect_isIsolated, parentObjectId, footprintArea, z_blendedness, \" + \\\n",
    "#        \"tract, patch \" + \\\n",
    "#        \"FROM dp02_dc2_catalogs.Object \" + \\\n",
    "#        \"WHERE deblend_nChild > 12 AND  detect_fromBlend = 1 \" #This source is deblended from a parent with more than one child\n",
    "\n",
    "# Convert the results to an Astropy table, then\n",
    "#   take a look at the table.\n",
    "#tab_maxblend = results_maxblend.to_table()\n",
    "#tab_maxblend \n"
   ]
  },
  {
   "cell_type": "markdown",
   "id": "4510ebd7-0c2e-456a-81d9-49fc28db381b",
   "metadata": {},
   "source": [
    "Instead, if you can identify a region of the sky first and then perform the search, retrieving examples of heavily blended sources with the query is much faster. Here we have already identified an RA/Dec region with a few examples of heavily blended sources (using the long search above) as input to demonstrate the deblended data products produced by the pipeline in the rest of the tutorial:"
   ]
  },
  {
   "cell_type": "code",
   "execution_count": 7,
   "id": "e6430d99-187f-48fa-a9f1-af068e52c6d3",
   "metadata": {},
   "outputs": [
    {
     "data": {
      "text/html": [
       "<div><i>Table length=10</i>\n",
       "<table id=\"table139970259419920\" class=\"table-striped table-bordered table-condensed\">\n",
       "<thead><tr><th>ObjectId</th><th>x</th><th>y</th><th>coord_ra</th><th>coord_dec</th><th>detect_isPrimary</th><th>deblend_nChild</th><th>deblend_skipped</th><th>detect_fromBlend</th><th>detect_isDeblendedModelSource</th><th>detect_isDeblendedSource</th><th>detect_isIsolated</th><th>parentObjectId</th><th>footprintArea</th><th>z_blendedness</th><th>tract</th><th>patch</th></tr></thead>\n",
       "<thead><tr><th></th><th>pix</th><th>pix</th><th>deg</th><th>deg</th><th></th><th></th><th></th><th></th><th></th><th></th><th></th><th></th><th>pix</th><th></th><th></th><th></th></tr></thead>\n",
       "<thead><tr><th>int64</th><th>float64</th><th>float64</th><th>float64</th><th>float64</th><th>bool</th><th>int32</th><th>bool</th><th>bool</th><th>bool</th><th>bool</th><th>bool</th><th>int64</th><th>int32</th><th>float64</th><th>int64</th><th>int64</th></tr></thead>\n",
       "<tr><td>1248675773246610542</td><td>23484.4969535</td><td>3210.1552014</td><td>50.1089143</td><td>-44.4812763</td><td>False</td><td>13</td><td>False</td><td>False</td><td>False</td><td>False</td><td>False</td><td>0</td><td>3435</td><td>0.0</td><td>2897</td><td>5</td></tr>\n",
       "<tr><td>1248675773246610547</td><td>23563.5752424</td><td>3231.8072968</td><td>50.1027731</td><td>-44.4800338</td><td>False</td><td>2</td><td>False</td><td>False</td><td>False</td><td>False</td><td>False</td><td>0</td><td>527</td><td>0.0</td><td>2897</td><td>5</td></tr>\n",
       "<tr><td>1248675773246610553</td><td>23524.8643399</td><td>3227.0075054</td><td>50.1057834</td><td>-44.4803199</td><td>True</td><td>1</td><td>False</td><td>False</td><td>False</td><td>True</td><td>True</td><td>0</td><td>58</td><td>--</td><td>2897</td><td>5</td></tr>\n",
       "<tr><td>1248675773246610464</td><td>23416.9067072</td><td>3207.6626404</td><td>50.1141746</td><td>-44.4814485</td><td>False</td><td>4</td><td>False</td><td>False</td><td>False</td><td>False</td><td>False</td><td>0</td><td>442</td><td>--</td><td>2897</td><td>5</td></tr>\n",
       "<tr><td>1248675773246610465</td><td>23556.0969913</td><td>3181.0920143</td><td>50.1033197</td><td>-44.4828545</td><td>False</td><td>2</td><td>False</td><td>False</td><td>False</td><td>False</td><td>False</td><td>0</td><td>419</td><td>--</td><td>2897</td><td>5</td></tr>\n",
       "<tr><td>1248675773246610670</td><td>23512.1110001</td><td>3294.8510731</td><td>50.1068235</td><td>-44.476558</td><td>False</td><td>12</td><td>False</td><td>False</td><td>False</td><td>False</td><td>False</td><td>0</td><td>4757</td><td>0.0</td><td>2897</td><td>5</td></tr>\n",
       "<tr><td>1248675773246610610</td><td>23442.6545984</td><td>3248.4650418</td><td>50.1121983</td><td>-44.4791693</td><td>True</td><td>1</td><td>False</td><td>False</td><td>False</td><td>True</td><td>True</td><td>0</td><td>64</td><td>--</td><td>2897</td><td>5</td></tr>\n",
       "<tr><td>1248675773246610640</td><td>23553.8117286</td><td>3263.4481399</td><td>50.1035553</td><td>-44.4782812</td><td>True</td><td>1</td><td>False</td><td>False</td><td>False</td><td>True</td><td>True</td><td>0</td><td>102</td><td>0.0033508</td><td>2897</td><td>5</td></tr>\n",
       "<tr><td>1248675773246610370</td><td>23556.6803457</td><td>3156.7998564</td><td>50.1032573</td><td>-44.4842035</td><td>False</td><td>2</td><td>False</td><td>False</td><td>False</td><td>False</td><td>False</td><td>0</td><td>401</td><td>0.0</td><td>2897</td><td>5</td></tr>\n",
       "<tr><td>1248675773246614481</td><td>23500.3848399</td><td>3140.0122477</td><td>50.1076285</td><td>-44.4851644</td><td>True</td><td>1</td><td>False</td><td>False</td><td>False</td><td>True</td><td>True</td><td>0</td><td>100</td><td>--</td><td>2897</td><td>5</td></tr>\n",
       "</table></div>"
      ],
      "text/plain": [
       "<Table length=10>\n",
       "      ObjectId            x            y       ... z_blendedness tract patch\n",
       "                         pix          pix      ...                          \n",
       "       int64           float64      float64    ...    float64    int64 int64\n",
       "------------------- ------------- ------------ ... ------------- ----- -----\n",
       "1248675773246610542 23484.4969535 3210.1552014 ...           0.0  2897     5\n",
       "1248675773246610547 23563.5752424 3231.8072968 ...           0.0  2897     5\n",
       "1248675773246610553 23524.8643399 3227.0075054 ...            --  2897     5\n",
       "1248675773246610464 23416.9067072 3207.6626404 ...            --  2897     5\n",
       "1248675773246610465 23556.0969913 3181.0920143 ...            --  2897     5\n",
       "1248675773246610670 23512.1110001 3294.8510731 ...           0.0  2897     5\n",
       "1248675773246610610 23442.6545984 3248.4650418 ...            --  2897     5\n",
       "1248675773246610640 23553.8117286 3263.4481399 ...     0.0033508  2897     5\n",
       "1248675773246610370 23556.6803457 3156.7998564 ...           0.0  2897     5\n",
       "1248675773246614481 23500.3848399 3140.0122477 ...            --  2897     5"
      ]
     },
     "execution_count": 7,
     "metadata": {},
     "output_type": "execute_result"
    },
    {
     "data": {
      "text/html": [
       "<pre style=\"margin: 0.1em;\n",
       "padding-left: 0.25em;\n",
       "border-left-style: solid;\n",
       "font-family: var(--jp-code-font-family);\n",
       "font-size: var(--jp-code-font-size);\n",
       "line-height: var(--jp-code-line-height);\n",
       "\"><span style=\"color: var(--jp-warn-color2)\">pycodestyle</span> <span style=\"color: var(--jp-info-color0)\">INFO</span>: 1:1: E265 block comment should start with &#x27;# &#x27;</pre>"
      ],
      "text/plain": [
       "<IPython.core.display.HTML object>"
      ]
     },
     "metadata": {},
     "output_type": "display_data"
    },
    {
     "data": {
      "text/html": [
       "<pre style=\"margin: 0.1em;\n",
       "padding-left: 0.25em;\n",
       "border-left-style: solid;\n",
       "font-family: var(--jp-code-font-family);\n",
       "font-size: var(--jp-code-font-size);\n",
       "line-height: var(--jp-code-line-height);\n",
       "\"><span style=\"color: var(--jp-warn-color2)\">pycodestyle</span> <span style=\"color: var(--jp-info-color0)\">INFO</span>: 6:80: E501 line too long (95 &gt; 79 characters)</pre>"
      ],
      "text/plain": [
       "<IPython.core.display.HTML object>"
      ]
     },
     "metadata": {},
     "output_type": "display_data"
    },
    {
     "data": {
      "text/html": [
       "<pre style=\"margin: 0.1em;\n",
       "padding-left: 0.25em;\n",
       "border-left-style: solid;\n",
       "font-family: var(--jp-code-font-family);\n",
       "font-size: var(--jp-code-font-size);\n",
       "line-height: var(--jp-code-line-height);\n",
       "\"><span style=\"color: var(--jp-warn-color2)\">pycodestyle</span> <span style=\"color: var(--jp-info-color0)\">INFO</span>: 7:80: E501 line too long (105 &gt; 79 characters)</pre>"
      ],
      "text/plain": [
       "<IPython.core.display.HTML object>"
      ]
     },
     "metadata": {},
     "output_type": "display_data"
    },
    {
     "data": {
      "text/html": [
       "<pre style=\"margin: 0.1em;\n",
       "padding-left: 0.25em;\n",
       "border-left-style: solid;\n",
       "font-family: var(--jp-code-font-family);\n",
       "font-size: var(--jp-code-font-size);\n",
       "line-height: var(--jp-code-line-height);\n",
       "\"><span style=\"color: var(--jp-warn-color2)\">pycodestyle</span> <span style=\"color: var(--jp-info-color0)\">INFO</span>: 11:73: W291 trailing whitespace</pre>"
      ],
      "text/plain": [
       "<IPython.core.display.HTML object>"
      ]
     },
     "metadata": {},
     "output_type": "display_data"
    },
    {
     "data": {
      "text/html": [
       "<pre style=\"margin: 0.1em;\n",
       "padding-left: 0.25em;\n",
       "border-left-style: solid;\n",
       "font-family: var(--jp-code-font-family);\n",
       "font-size: var(--jp-code-font-size);\n",
       "line-height: var(--jp-code-line-height);\n",
       "\"><span style=\"color: var(--jp-warn-color2)\">pycodestyle</span> <span style=\"color: var(--jp-info-color0)\">INFO</span>: 12:1: W293 blank line contains whitespace</pre>"
      ],
      "text/plain": [
       "<IPython.core.display.HTML object>"
      ]
     },
     "metadata": {},
     "output_type": "display_data"
    }
   ],
   "source": [
    "#ra/dec identified from the long query above\n",
    "ra = 50.1089143\n",
    "dec = -44.4812763\n",
    "\n",
    "query = \"SELECT ObjectId, x, y, coord_ra, coord_dec, detect_isPrimary, \" + \\\n",
    "        \"deblend_nChild, deblend_skipped, detect_fromBlend, detect_isDeblendedModelSource, \" +\\\n",
    "        \"detect_isDeblendedSource, detect_isIsolated, parentObjectId, footprintArea, z_blendedness, \" + \\\n",
    "        \"tract, patch \" + \\\n",
    "        \"FROM dp02_dc2_catalogs.Object \" + \\\n",
    "        \"WHERE CONTAINS(POINT('ICRS', coord_ra, coord_dec ), \" + \\\n",
    "        \"CIRCLE('ICRS', \" + str(ra) + \", \" + str(dec) + \", 0.005)) = 1 \" \n",
    "        \n",
    "results = service.search(query, maxrec=10)\n",
    "table = results.to_table()\n",
    "\n",
    "# print the output from this query, and a selection of deblender keywords\n",
    "table\n"
   ]
  },
  {
   "cell_type": "markdown",
   "id": "90a859d5-84de-4277-a659-9edde639511c",
   "metadata": {},
   "source": [
    "Lets grab the first entry of our query above, that is not the primary source (i.e. is a blend; **detect_isPrimary=False**) which the deblender has identified 13 "
   ]
  },
  {
   "cell_type": "markdown",
   "id": "4011704d-0c9f-4f7b-b1c8-ccd4898b2c3d",
   "metadata": {},
   "source": [
    "Lets take the first entry above, which is a \"parent\" source that is a blend of 13 children (i.e. **deblend_nChild = 13**). Perhaps counterintuitively, the parent is identified by **detect_isPrimary = False**, which is a keyword that should be used for identifying unique detections  in the objectTable (i.e. are deblended peaks that are also detected in the center of their tracts, i.e. do not also appear in another overlapping image). When selecting samples it is important to ensure **detect_isPrimary = True** to prevent double counting of objects. All he \"primary\" flux peak of a blend (or that closest to the peak)"
   ]
  },
  {
   "cell_type": "code",
   "execution_count": 23,
   "id": "c0353e6b-7217-488f-b0a4-1f5ad408d4b9",
   "metadata": {},
   "outputs": [
    {
     "data": {
      "text/html": [
       "<pre style=\"margin: 0.1em;\n",
       "padding-left: 0.25em;\n",
       "border-left-style: solid;\n",
       "font-family: var(--jp-code-font-family);\n",
       "font-size: var(--jp-code-font-size);\n",
       "line-height: var(--jp-code-line-height);\n",
       "\"><span style=\"color: var(--jp-warn-color2)\">pycodestyle</span> <span style=\"color: var(--jp-info-color0)\">INFO</span>: 1:80: E501 line too long (90 &gt; 79 characters)</pre>"
      ],
      "text/plain": [
       "<IPython.core.display.HTML object>"
      ]
     },
     "metadata": {},
     "output_type": "display_data"
    },
    {
     "data": {
      "text/html": [
       "<pre style=\"margin: 0.1em;\n",
       "padding-left: 0.25em;\n",
       "border-left-style: solid;\n",
       "font-family: var(--jp-code-font-family);\n",
       "font-size: var(--jp-code-font-size);\n",
       "line-height: var(--jp-code-line-height);\n",
       "\"><span style=\"color: var(--jp-warn-color2)\">pycodestyle</span> <span style=\"color: var(--jp-info-color0)\">INFO</span>: 8:80: E501 line too long (81 &gt; 79 characters)</pre>"
      ],
      "text/plain": [
       "<IPython.core.display.HTML object>"
      ]
     },
     "metadata": {},
     "output_type": "display_data"
    },
    {
     "name": "stdout",
     "output_type": "stream",
     "text": [
      "[] 1248675773246610542\n"
     ]
    }
   ],
   "source": [
    "# set our selected \"parent\" blend of 13 sources to be the first return of the query above.\n",
    "sel_objid = table['ObjectId'][0]\n",
    "x = table['x'][0]\n",
    "y = table['y'][0]\n",
    "tract = table['tract'][0]\n",
    "patch = table['patch'][0]\n",
    "\n",
    "# Isolate the deblended components of the object using the parentObjectId keyword\n",
    "whchild = np.where(table['parentObjectId'] == sel_objid)[0]\n",
    "print(whchild, sel_objid)\n",
    "whc = whchild\n"
   ]
  },
  {
   "cell_type": "code",
   "execution_count": 9,
   "id": "c783acee-101a-487d-a5f1-d8e53ad38e99",
   "metadata": {},
   "outputs": [
    {
     "name": "stdout",
     "output_type": "stream",
     "text": [
      "CPU times: user 26 µs, sys: 0 ns, total: 26 µs\n",
      "Wall time: 29.3 µs\n"
     ]
    }
   ],
   "source": [
    "%%time\n",
    "# THIS CELL CAN PROB NOW GET DELETED\n",
    "# Choose a parent and deblended children. Here are a couple good ones:\n",
    "#1329731770446283558\t4574.5498478\t5486.0082516\t72.3165407\t-42.8674071\tTrue\t0\tFalse\tTrue\tTrue\tTrue\tFalse\t1329731770446253832\t4867\t0.9493601\t3085\t8\n",
    "#1248675773246610542\t23484.4969535\t3210.1552014\t50.1089143\t-44.4812763\tFalse\t13\tFalse\tFalse\tFalse\tFalse\tFalse\t0\t3435\t0.0\t2897\t5\n",
    "\n",
    "#tract = 2897\n",
    "#patch = 5\n",
    "\n",
    "#sel_objid = 1248675773246610542 \n",
    "#x = 23484.4969535\n",
    "#y = 3210.1552014\n",
    "\n",
    "\n",
    "# TAP catalogs are indexed by RA/Dec and searching based on IDs or other properties are\n",
    "# super inefficient. One option is to first search on RA/Dec and then use a where statement \n",
    "# to pull out targets based on ID  \n",
    "\n",
    "query_children = \"SELECT ObjectId, x, y, coord_ra, coord_dec, detect_isPrimary, deblend_nChild, deblend_skipped, detect_fromBlend, \" + \\\n",
    "        \"detect_isDeblendedModelSource, detect_isDeblendedSource, detect_isIsolated, parentObjectId, footprintArea, z_blendedness, \" + \\\n",
    "        \"tract, patch \" + \\\n",
    "        \"FROM dp02_dc2_catalogs.Object \" + \\\n",
    "        \"WHERE CONTAINS(POINT('ICRS', coord_ra, coord_dec ), \" + \\\n",
    "        \"CIRCLE('ICRS', \" + str(ra) + \", \" + str(dec) + \", 0.01)) = 1 \"   \n",
    "    \n",
    "#results_children = service.search(query_children, maxrec=10000)\n",
    "#tab_children = results_children.to_table()\n",
    "\n",
    "#whc = np.where(tab_children['parentObjectId'] == sel_objid)[0]\n",
    "#tab_children[whc]"
   ]
  },
  {
   "cell_type": "code",
   "execution_count": 10,
   "id": "f06ce5c0-d56f-4879-a5eb-b4cb5508d3cd",
   "metadata": {},
   "outputs": [
    {
     "name": "stdout",
     "output_type": "stream",
     "text": [
      "Retrieved catalog of 32101 objects.\n",
      "1248675773246610542 1248675773246640703 23484.493982278047 3210.1595244834843\n",
      "1248675773246610542 1248675773246640704 23466.9451451522 3233.6287998058606\n",
      "1248675773246610542 1248675773246640705 23483.320008254163 3246.0487119002632\n",
      "1248675773246610542 1248675773246640706 23512.9343388915 3205.7072499403953\n",
      "1248675773246610542 1248675773246640707 23455.400666064994 3242.1856875225335\n",
      "1248675773246610542 1248675773246640708 23488.07512761676 3231.692096689908\n",
      "1248675773246610542 1248675773246640709 23459.093178291714 3230.9886405112957\n",
      "1248675773246610542 1248675773246640710 23495.101275324098 3184.438564042999\n",
      "1248675773246610542 1248675773246640711 23502.63552370019 3188.5572090849855\n",
      "1248675773246610542 1248675773246640712 23465.71870790558 3197.3916488116315\n",
      "1248675773246610542 1248675773246640713 23478.921981330524 3227.3238198632953\n",
      "1248675773246610542 1248675773246640714 23503.206784555066 3201.591832926169\n",
      "1248675773246610542 1248675773246640715 23463.005462370333 3244.5699979290935\n",
      "FOUND 13 sources blended with Parent ID sel_objid\n",
      "CPU times: user 1.25 s, sys: 1.1 s, total: 2.35 s\n",
      "Wall time: 1.8 s\n"
     ]
    }
   ],
   "source": [
    "%%time\n",
    "# Next, demonstrate how to do this using the Butler\n",
    "\n",
    "dataId = {'tract': tract, 'band': 'i', 'patch': patch }\n",
    "\n",
    "obj = butler.get('objectTable',  dataId) #tract=tract, patch=patch)\n",
    "print(f\"Retrieved catalog of {len(obj)} objects.\")\n",
    "#refTable.schema.find('detect_isPrimary')\n",
    "#refTable.schema.getNames() # can you add a wildcard here to search keywords including \"blend\"\n",
    "\n",
    "obj_parentObjectId = np.asarray(obj.parentObjectId, dtype='int')\n",
    "obj_objectId = np.asarray(obj.index, dtype='int')\n",
    "obj_coord_x = np.asarray(obj.x, dtype='float')\n",
    "obj_coord_y = np.asarray(obj.y, dtype='float')\n",
    "obj_ra = np.asarray(obj.coord_ra, dtype='float') # CHECK THESE ARE THE RIGHT ONES\n",
    "obj_dec = np.asarray(obj.coord_dec, dtype='float')\n",
    "\n",
    "#ids = refTable.index.to_numpy()\n",
    "#ras = refTable.coord_ra.to_numpy()\n",
    "#decs = refTable.coord_dec.to_numpy()\n",
    "\n",
    "# Pull out all of the sources that are blended with our chosen source as the parent\n",
    "wh = np.where(obj_parentObjectId == sel_objid )[0]\n",
    "for i in wh:\n",
    "    print(obj_parentObjectId[i], obj_objectId[i], obj_coord_x[i], obj_coord_y[i])\n",
    "print('FOUND', len(wh), \"sources blended with Parent ID sel_objid\")\n",
    "\n"
   ]
  },
  {
   "cell_type": "markdown",
   "id": "a3132683-9ed4-459a-9e50-19641e94d5d3",
   "metadata": {},
   "source": [
    "#### What information is stored in these various datasets? Look at contents of a few of the SourceCatalog datasets\n"
   ]
  },
  {
   "cell_type": "markdown",
   "id": "01dfa19d-a254-40f2-aa68-83f16ae11375",
   "metadata": {},
   "source": [
    "dataset = 'deepCoadd_deblendedFlux_schema'\n",
    "\n",
    "\n",
    "#dataset = 'deepCoadd_deblendedModel_schema' # this isn't avail for this dataID for some reason?\n",
    "dbFlux_schema = butler.get(dataset, dataId=dataId)\n",
    "for colname in dbFlux_schema.asAstropy().colnames:\n",
    "    print(colname)"
   ]
  },
  {
   "cell_type": "code",
   "execution_count": 11,
   "id": "4e8af3d5-a88f-49cc-97f6-5b52feba2769",
   "metadata": {},
   "outputs": [
    {
     "name": "stdout",
     "output_type": "stream",
     "text": [
      "CPU times: user 3.16 s, sys: 2.08 s, total: 5.24 s\n",
      "Wall time: 4.31 s\n"
     ]
    }
   ],
   "source": [
    "%%time\n",
    "# Now, actually access the data available in this SourceCatalog and store as astropy table\n",
    "\n",
    "dbFlux = butler.get('deepCoadd_deblendedFlux', dataId=dataId)\n",
    "dbFlux_table = dbFlux.asAstropy()"
   ]
  },
  {
   "cell_type": "markdown",
   "id": "35f52616-8403-47b2-84ff-729ba755f8f0",
   "metadata": {},
   "source": [
    "\n",
    "## 2.3 Displaying an example of a heavily blended source"
   ]
  },
  {
   "cell_type": "code",
   "execution_count": 21,
   "id": "31118cde-b512-4286-bade-4e1cd3e2df16",
   "metadata": {},
   "outputs": [
    {
     "name": "stdout",
     "output_type": "stream",
     "text": [
      "TEST 0\n"
     ]
    },
    {
     "data": {
      "image/png": "[encoded data removed]",
      "text/plain": [
       "<Figure size 800x800 with 2 Axes>"
      ]
     },
     "metadata": {},
     "output_type": "display_data"
    },
    {
     "data": {
      "text/html": [
       "<pre style=\"margin: 0.1em;\n",
       "padding-left: 0.25em;\n",
       "border-left-style: solid;\n",
       "font-family: var(--jp-code-font-family);\n",
       "font-size: var(--jp-code-font-size);\n",
       "line-height: var(--jp-code-line-height);\n",
       "\"><span style=\"color: var(--jp-warn-color2)\">pycodestyle</span> <span style=\"color: var(--jp-info-color0)\">INFO</span>: 2:39: E231 missing whitespace after &#x27;,&#x27;</pre>"
      ],
      "text/plain": [
       "<IPython.core.display.HTML object>"
      ]
     },
     "metadata": {},
     "output_type": "display_data"
    },
    {
     "data": {
      "text/html": [
       "<pre style=\"margin: 0.1em;\n",
       "padding-left: 0.25em;\n",
       "border-left-style: solid;\n",
       "font-family: var(--jp-code-font-family);\n",
       "font-size: var(--jp-code-font-size);\n",
       "line-height: var(--jp-code-line-height);\n",
       "\"><span style=\"color: var(--jp-warn-color2)\">pycodestyle</span> <span style=\"color: var(--jp-info-color0)\">INFO</span>: 28:13: E231 missing whitespace after &#x27;,&#x27;</pre>"
      ],
      "text/plain": [
       "<IPython.core.display.HTML object>"
      ]
     },
     "metadata": {},
     "output_type": "display_data"
    },
    {
     "data": {
      "text/html": [
       "<pre style=\"margin: 0.1em;\n",
       "padding-left: 0.25em;\n",
       "border-left-style: solid;\n",
       "font-family: var(--jp-code-font-family);\n",
       "font-size: var(--jp-code-font-size);\n",
       "line-height: var(--jp-code-line-height);\n",
       "\"><span style=\"color: var(--jp-warn-color2)\">pycodestyle</span> <span style=\"color: var(--jp-info-color0)\">INFO</span>: 31:80: E501 line too long (94 &gt; 79 characters)</pre>"
      ],
      "text/plain": [
       "<IPython.core.display.HTML object>"
      ]
     },
     "metadata": {},
     "output_type": "display_data"
    },
    {
     "data": {
      "text/html": [
       "<pre style=\"margin: 0.1em;\n",
       "padding-left: 0.25em;\n",
       "border-left-style: solid;\n",
       "font-family: var(--jp-code-font-family);\n",
       "font-size: var(--jp-code-font-size);\n",
       "line-height: var(--jp-code-line-height);\n",
       "\"><span style=\"color: var(--jp-warn-color2)\">pycodestyle</span> <span style=\"color: var(--jp-info-color0)\">INFO</span>: 36:80: E501 line too long (112 &gt; 79 characters)</pre>"
      ],
      "text/plain": [
       "<IPython.core.display.HTML object>"
      ]
     },
     "metadata": {},
     "output_type": "display_data"
    },
    {
     "data": {
      "text/html": [
       "<pre style=\"margin: 0.1em;\n",
       "padding-left: 0.25em;\n",
       "border-left-style: solid;\n",
       "font-family: var(--jp-code-font-family);\n",
       "font-size: var(--jp-code-font-size);\n",
       "line-height: var(--jp-code-line-height);\n",
       "\"><span style=\"color: var(--jp-warn-color2)\">pycodestyle</span> <span style=\"color: var(--jp-info-color0)\">INFO</span>: 37:80: E501 line too long (117 &gt; 79 characters)</pre>"
      ],
      "text/plain": [
       "<IPython.core.display.HTML object>"
      ]
     },
     "metadata": {},
     "output_type": "display_data"
    },
    {
     "data": {
      "text/html": [
       "<pre style=\"margin: 0.1em;\n",
       "padding-left: 0.25em;\n",
       "border-left-style: solid;\n",
       "font-family: var(--jp-code-font-family);\n",
       "font-size: var(--jp-code-font-size);\n",
       "line-height: var(--jp-code-line-height);\n",
       "\"><span style=\"color: var(--jp-warn-color2)\">pycodestyle</span> <span style=\"color: var(--jp-info-color0)\">INFO</span>: 38:73: W291 trailing whitespace</pre>"
      ],
      "text/plain": [
       "<IPython.core.display.HTML object>"
      ]
     },
     "metadata": {},
     "output_type": "display_data"
    }
   ],
   "source": [
    "# prepare to do the cutout from tutorial notebook 03\n",
    "cutout_image = cutout_coadd(butler, ra,dec, band='i', datasetType='deepCoadd',\n",
    "                            cutoutSideLength=201)\n",
    "\n",
    "wcs = cutout_image.getWcs()\n",
    "\n",
    "x0 = float(cutout_image.getX0())\n",
    "y0 = float(cutout_image.getY0())\n",
    "width = cutout_image.getWidth()\n",
    "height = cutout_image.getHeight()\n",
    "\n",
    "xcorners = [x0, x0+width, x0+width, x0]\n",
    "ycorners = [y0, y0, y0+width, y0+width]\n",
    "\n",
    "ra_corners = []\n",
    "dec_corners = []\n",
    "\n",
    "for i in range(len(xcorners)):\n",
    "    radec = wcs.pixelToSky(xcorners[i], ycorners[i])\n",
    "    ra_corners.append(radec.getRa().asDegrees())\n",
    "    dec_corners.append(radec.getDec().asDegrees())\n",
    "\n",
    "\n",
    "fig, ax = plt.subplots()\n",
    "display = afwDisplay.Display(frame=fig)\n",
    "display.scale('asinh', 'zscale')\n",
    "display.mtv(cutout_image.image)\n",
    "print(\"TEST\",len(table[whchild]))\n",
    "with display.Buffering():\n",
    "    for i in range(len(table[whchild])):\n",
    "        display.dot('o', table[whchild][i]['x'], table[whchild][i]['y'], ctype=afwDisplay.RED)\n",
    "        print(i, table[whchild][i]['x'], table[whchild][i]['y'])\n",
    "display.dot('+', x, y, ctype=afwDisplay.BLUE)\n",
    "plt.show()\n",
    "\n",
    "# take a bunch of things that have multiple children, look in bulk at the scale of the changes due to deblending\n",
    "# for 1000 most blended things, average impact of deblending by showing how much their colors change and sizes change\n",
    "# followup notebook: re-run deblender with maximum deblending of clumps. \n",
    "# figure out if parent object is parent blended flux or not.\n",
    "# say you assume notebook 4 butler info\n"
   ]
  },
  {
   "cell_type": "markdown",
   "id": "086660d6-5013-4186-acaa-d7bd333be923",
   "metadata": {
    "tags": []
   },
   "source": [
    "## 3. Access the deblender data products metadata\n",
    "\n",
    "_Use numbers for sections, sub-sections, and sub-sub-sections to enable referencing, e.g., \"I'm having trouble with the second code cell in Section 2.3.\"_\n",
    "\n",
    "_Use section titles that actively describe what is being done, e.g., \"Create a color-magnitude diagram\" instead of \"Plot\", so that the auto-generated table of contents is easy to navigate._\n",
    "\n",
    "#### Now that we have retrieved the deblended flux table, we can use the `.getFootprint()` method to get the footprints for all records in `dbFlux`.\n",
    "\n",
    "#### Add them to the Astropy table, and then added new columns 'footprint' will appear in the table.\n"
   ]
  },
  {
   "cell_type": "code",
   "execution_count": 13,
   "id": "e2f5d229-71d9-4040-80ad-16f6d4c38dfb",
   "metadata": {},
   "outputs": [],
   "source": [
    "footprints = [src.getFootprint() for src in dbFlux]\n",
    "dbFlux_table[\"footprint\"] = footprints\n"
   ]
  },
  {
   "cell_type": "code",
   "execution_count": 14,
   "id": "7e9bd04c-4610-4520-a0cd-760b3aa02403",
   "metadata": {},
   "outputs": [
    {
     "name": "stdout",
     "output_type": "stream",
     "text": [
      "32101\n"
     ]
    },
    {
     "data": {
      "text/html": [
       "<div><i>Table length=13</i>\n",
       "<table id=\"table139966590539312\" class=\"table-striped table-bordered table-condensed\">\n",
       "<thead><tr><th>id</th><th>coord_ra</th><th>coord_dec</th><th>parent</th><th>merge_footprint_i</th><th>merge_footprint_r</th><th>merge_footprint_z</th><th>merge_footprint_y</th><th>merge_footprint_g</th><th>merge_footprint_u</th><th>merge_footprint_sky</th><th>merge_peak_i</th><th>merge_peak_r</th><th>merge_peak_z</th><th>merge_peak_y</th><th>merge_peak_g</th><th>merge_peak_u</th><th>merge_peak_sky</th><th>deblend_runtime</th><th>deblend_iterations</th><th>deblend_nChild</th><th>deblend_deblendedAsPsf</th><th>deblend_tooManyPeaks</th><th>deblend_parentTooBig</th><th>deblend_masked</th><th>deblend_sedConvergenceFailed</th><th>deblend_morphConvergenceFailed</th><th>deblend_blendConvergenceFailedFlag</th><th>deblend_edgePixels</th><th>deblend_failed</th><th>deblend_error</th><th>deblend_skipped</th><th>deblend_peak_center_x</th><th>deblend_peak_center_y</th><th>deblend_peakId</th><th>deblend_peak_instFlux</th><th>deblend_modelType</th><th>deblend_nPeaks</th><th>deblend_parentNPeaks</th><th>deblend_parentNChild</th><th>deblend_scarletFlux</th><th>deblend_logL</th><th>deblend_spectrumInitFlag</th><th>footprint</th></tr></thead>\n",
       "<thead><tr><th></th><th>rad</th><th>rad</th><th></th><th></th><th></th><th></th><th></th><th></th><th></th><th></th><th></th><th></th><th></th><th></th><th></th><th></th><th></th><th></th><th></th><th></th><th></th><th></th><th></th><th></th><th></th><th></th><th></th><th></th><th></th><th></th><th></th><th>pix</th><th>pix</th><th></th><th>ct</th><th></th><th></th><th></th><th></th><th></th><th></th><th></th><th></th></tr></thead>\n",
       "<thead><tr><th>int64</th><th>float64</th><th>float64</th><th>int64</th><th>bool</th><th>bool</th><th>bool</th><th>bool</th><th>bool</th><th>bool</th><th>bool</th><th>bool</th><th>bool</th><th>bool</th><th>bool</th><th>bool</th><th>bool</th><th>bool</th><th>float32</th><th>int32</th><th>int32</th><th>bool</th><th>bool</th><th>bool</th><th>bool</th><th>bool</th><th>bool</th><th>bool</th><th>bool</th><th>bool</th><th>str25</th><th>bool</th><th>int32</th><th>int32</th><th>int32</th><th>float64</th><th>str25</th><th>int32</th><th>int32</th><th>int32</th><th>float32</th><th>float32</th><th>bool</th><th>object</th></tr></thead>\n",
       "<tr><td>1248675773246640703</td><td>nan</td><td>nan</td><td>1248675773246610542</td><td>True</td><td>True</td><td>True</td><td>True</td><td>True</td><td>True</td><td>False</td><td>True</td><td>True</td><td>True</td><td>True</td><td>True</td><td>True</td><td>False</td><td>0.0</td><td>0</td><td>0</td><td>False</td><td>False</td><td>False</td><td>False</td><td>False</td><td>False</td><td>True</td><td>False</td><td>False</td><td></td><td>False</td><td>23485</td><td>3210</td><td>47292</td><td>5.39021635055542</td><td>MultiExtendedSource</td><td>1</td><td>13</td><td>13</td><td>490.87234</td><td>nan</td><td>True</td><td>1 peaks, area=5840, centroid=(23484.5, 3217.97)</td></tr>\n",
       "<tr><td>1248675773246640704</td><td>nan</td><td>nan</td><td>1248675773246610542</td><td>True</td><td>True</td><td>True</td><td>True</td><td>True</td><td>True</td><td>False</td><td>True</td><td>True</td><td>True</td><td>True</td><td>True</td><td>False</td><td>False</td><td>0.0</td><td>0</td><td>0</td><td>False</td><td>False</td><td>False</td><td>False</td><td>False</td><td>False</td><td>True</td><td>False</td><td>False</td><td></td><td>False</td><td>23467</td><td>3234</td><td>47294</td><td>2.3927512168884277</td><td>MultiExtendedSource</td><td>1</td><td>13</td><td>13</td><td>106.880486</td><td>nan</td><td>True</td><td>1 peaks, area=4329, centroid=(23479.5, 3223.64)</td></tr>\n",
       "<tr><td>1248675773246640705</td><td>nan</td><td>nan</td><td>1248675773246610542</td><td>True</td><td>True</td><td>True</td><td>True</td><td>True</td><td>True</td><td>False</td><td>True</td><td>True</td><td>True</td><td>True</td><td>True</td><td>True</td><td>False</td><td>0.0</td><td>0</td><td>0</td><td>False</td><td>False</td><td>False</td><td>False</td><td>False</td><td>False</td><td>True</td><td>False</td><td>False</td><td></td><td>False</td><td>23483</td><td>3246</td><td>41242</td><td>0.33462783694267273</td><td>CompactExtendedSource</td><td>1</td><td>13</td><td>13</td><td>12.085948</td><td>nan</td><td>True</td><td>1 peaks, area=3658, centroid=(23485.1, 3232.58)</td></tr>\n",
       "<tr><td>1248675773246640706</td><td>nan</td><td>nan</td><td>1248675773246610542</td><td>True</td><td>True</td><td>True</td><td>True</td><td>True</td><td>True</td><td>False</td><td>True</td><td>True</td><td>True</td><td>False</td><td>True</td><td>False</td><td>False</td><td>0.0</td><td>0</td><td>0</td><td>False</td><td>False</td><td>False</td><td>False</td><td>False</td><td>False</td><td>True</td><td>False</td><td>False</td><td></td><td>False</td><td>23513</td><td>3206</td><td>47291</td><td>0.3295254409313202</td><td>CompactExtendedSource</td><td>1</td><td>13</td><td>13</td><td>12.935391</td><td>nan</td><td>True</td><td>1 peaks, area=3190, centroid=(23497.6, 3211.93)</td></tr>\n",
       "<tr><td>1248675773246640707</td><td>nan</td><td>nan</td><td>1248675773246610542</td><td>True</td><td>True</td><td>True</td><td>True</td><td>True</td><td>True</td><td>False</td><td>True</td><td>True</td><td>True</td><td>False</td><td>False</td><td>False</td><td>False</td><td>0.0</td><td>0</td><td>0</td><td>False</td><td>False</td><td>False</td><td>False</td><td>False</td><td>False</td><td>True</td><td>False</td><td>False</td><td></td><td>False</td><td>23455</td><td>3242</td><td>47295</td><td>0.26085060834884644</td><td>CompactExtendedSource</td><td>1</td><td>13</td><td>13</td><td>5.9582796</td><td>nan</td><td>True</td><td>1 peaks, area=1951, centroid=(23467.6, 3233.05)</td></tr>\n",
       "<tr><td>1248675773246640708</td><td>nan</td><td>nan</td><td>1248675773246610542</td><td>True</td><td>True</td><td>True</td><td>True</td><td>True</td><td>True</td><td>False</td><td>True</td><td>True</td><td>True</td><td>False</td><td>True</td><td>False</td><td>False</td><td>0.0</td><td>0</td><td>0</td><td>False</td><td>False</td><td>False</td><td>False</td><td>False</td><td>False</td><td>True</td><td>False</td><td>False</td><td></td><td>False</td><td>23488</td><td>3231</td><td>47293</td><td>0.24051915109157562</td><td>CompactExtendedSource</td><td>1</td><td>13</td><td>13</td><td>10.048364</td><td>nan</td><td>True</td><td>1 peaks, area=4761, centroid=(23485.3, 3224.45)</td></tr>\n",
       "<tr><td>1248675773246640709</td><td>nan</td><td>nan</td><td>1248675773246610542</td><td>True</td><td>True</td><td>True</td><td>True</td><td>True</td><td>True</td><td>False</td><td>False</td><td>False</td><td>False</td><td>False</td><td>True</td><td>False</td><td>False</td><td>0.0</td><td>0</td><td>0</td><td>False</td><td>False</td><td>False</td><td>False</td><td>False</td><td>False</td><td>True</td><td>False</td><td>False</td><td></td><td>False</td><td>23459</td><td>3231</td><td>50403</td><td>0.3871551752090454</td><td>CompactExtendedSource</td><td>1</td><td>13</td><td>13</td><td>22.802235</td><td>nan</td><td>True</td><td>1 peaks, area=3360, centroid=(23473, 3224.49)</td></tr>\n",
       "<tr><td>1248675773246640710</td><td>nan</td><td>nan</td><td>1248675773246610542</td><td>True</td><td>True</td><td>True</td><td>True</td><td>True</td><td>True</td><td>False</td><td>True</td><td>False</td><td>False</td><td>False</td><td>False</td><td>False</td><td>False</td><td>0.0</td><td>0</td><td>0</td><td>False</td><td>False</td><td>False</td><td>False</td><td>False</td><td>False</td><td>True</td><td>False</td><td>False</td><td></td><td>False</td><td>23495</td><td>3185</td><td>40993</td><td>0.1430944949388504</td><td>CompactExtendedSource</td><td>1</td><td>13</td><td>13</td><td>3.7953627</td><td>nan</td><td>True</td><td>1 peaks, area=2585, centroid=(23491.2, 3199.54)</td></tr>\n",
       "<tr><td>1248675773246640711</td><td>nan</td><td>nan</td><td>1248675773246610542</td><td>True</td><td>True</td><td>True</td><td>True</td><td>True</td><td>True</td><td>False</td><td>True</td><td>False</td><td>False</td><td>False</td><td>False</td><td>False</td><td>False</td><td>0.0</td><td>0</td><td>0</td><td>False</td><td>False</td><td>False</td><td>False</td><td>False</td><td>False</td><td>True</td><td>False</td><td>False</td><td></td><td>False</td><td>23502</td><td>3188</td><td>41007</td><td>0.11195013672113419</td><td>CompactExtendedSource</td><td>1</td><td>13</td><td>13</td><td>2.7816982</td><td>nan</td><td>True</td><td>1 peaks, area=2094, centroid=(23495.7, 3198.87)</td></tr>\n",
       "<tr><td>1248675773246640712</td><td>nan</td><td>nan</td><td>1248675773246610542</td><td>True</td><td>True</td><td>True</td><td>True</td><td>True</td><td>True</td><td>False</td><td>False</td><td>True</td><td>False</td><td>False</td><td>False</td><td>False</td><td>False</td><td>0.0</td><td>0</td><td>0</td><td>False</td><td>False</td><td>False</td><td>False</td><td>False</td><td>False</td><td>True</td><td>False</td><td>False</td><td></td><td>False</td><td>23466</td><td>3198</td><td>52379</td><td>0.02966391295194626</td><td>CompactExtendedSource</td><td>1</td><td>13</td><td>13</td><td>1.5007979</td><td>nan</td><td>True</td><td>1 peaks, area=3235, centroid=(23475.7, 3206.57)</td></tr>\n",
       "<tr><td>1248675773246640713</td><td>nan</td><td>nan</td><td>1248675773246610542</td><td>True</td><td>True</td><td>True</td><td>True</td><td>True</td><td>True</td><td>False</td><td>False</td><td>True</td><td>False</td><td>False</td><td>False</td><td>False</td><td>False</td><td>0.0</td><td>0</td><td>0</td><td>False</td><td>False</td><td>False</td><td>False</td><td>False</td><td>False</td><td>True</td><td>False</td><td>False</td><td></td><td>False</td><td>23479</td><td>3227</td><td>52382</td><td>1.6886492347454422e-21</td><td>CompactExtendedSource</td><td>1</td><td>13</td><td>13</td><td>4.1422963e-20</td><td>nan</td><td>True</td><td>1 peaks, area=4270, centroid=(23482.9, 3227.15)</td></tr>\n",
       "<tr><td>1248675773246640714</td><td>nan</td><td>nan</td><td>1248675773246610542</td><td>True</td><td>True</td><td>True</td><td>True</td><td>True</td><td>True</td><td>False</td><td>False</td><td>True</td><td>False</td><td>False</td><td>False</td><td>False</td><td>False</td><td>0.0</td><td>0</td><td>0</td><td>False</td><td>False</td><td>False</td><td>False</td><td>False</td><td>False</td><td>True</td><td>False</td><td>False</td><td></td><td>False</td><td>23503</td><td>3202</td><td>52380</td><td>0.08955945819616318</td><td>CompactExtendedSource</td><td>1</td><td>13</td><td>13</td><td>2.5225735</td><td>nan</td><td>True</td><td>1 peaks, area=2791, centroid=(23497.3, 3207.24)</td></tr>\n",
       "<tr><td>1248675773246640715</td><td>nan</td><td>nan</td><td>1248675773246610542</td><td>True</td><td>True</td><td>True</td><td>True</td><td>True</td><td>True</td><td>False</td><td>False</td><td>True</td><td>False</td><td>False</td><td>False</td><td>False</td><td>False</td><td>0.0</td><td>0</td><td>0</td><td>False</td><td>False</td><td>False</td><td>False</td><td>False</td><td>False</td><td>True</td><td>False</td><td>False</td><td></td><td>False</td><td>23463</td><td>3244</td><td>52387</td><td>0.14773274958133698</td><td>CompactExtendedSource</td><td>1</td><td>13</td><td>13</td><td>4.0033736</td><td>nan</td><td>True</td><td>1 peaks, area=2388, centroid=(23474.9, 3235.69)</td></tr>\n",
       "</table></div>"
      ],
      "text/plain": [
       "<Table length=13>\n",
       "         id         coord_ra ...                    footprint                   \n",
       "                      rad    ...                                                \n",
       "       int64        float64  ...                      object                    \n",
       "------------------- -------- ... -----------------------------------------------\n",
       "1248675773246640703      nan ... 1 peaks, area=5840, centroid=(23484.5, 3217.97)\n",
       "1248675773246640704      nan ... 1 peaks, area=4329, centroid=(23479.5, 3223.64)\n",
       "1248675773246640705      nan ... 1 peaks, area=3658, centroid=(23485.1, 3232.58)\n",
       "1248675773246640706      nan ... 1 peaks, area=3190, centroid=(23497.6, 3211.93)\n",
       "1248675773246640707      nan ... 1 peaks, area=1951, centroid=(23467.6, 3233.05)\n",
       "1248675773246640708      nan ... 1 peaks, area=4761, centroid=(23485.3, 3224.45)\n",
       "1248675773246640709      nan ...   1 peaks, area=3360, centroid=(23473, 3224.49)\n",
       "1248675773246640710      nan ... 1 peaks, area=2585, centroid=(23491.2, 3199.54)\n",
       "1248675773246640711      nan ... 1 peaks, area=2094, centroid=(23495.7, 3198.87)\n",
       "1248675773246640712      nan ... 1 peaks, area=3235, centroid=(23475.7, 3206.57)\n",
       "1248675773246640713      nan ... 1 peaks, area=4270, centroid=(23482.9, 3227.15)\n",
       "1248675773246640714      nan ... 1 peaks, area=2791, centroid=(23497.3, 3207.24)\n",
       "1248675773246640715      nan ... 1 peaks, area=2388, centroid=(23474.9, 3235.69)"
      ]
     },
     "execution_count": 14,
     "metadata": {},
     "output_type": "execute_result"
    },
    {
     "data": {
      "text/html": [
       "<pre style=\"margin: 0.1em;\n",
       "padding-left: 0.25em;\n",
       "border-left-style: solid;\n",
       "font-family: var(--jp-code-font-family);\n",
       "font-size: var(--jp-code-font-size);\n",
       "line-height: var(--jp-code-line-height);\n",
       "\"><span style=\"color: var(--jp-warn-color2)\">pycodestyle</span> <span style=\"color: var(--jp-info-color0)\">INFO</span>: 2:1: E265 block comment should start with &#x27;# &#x27;</pre>"
      ],
      "text/plain": [
       "<IPython.core.display.HTML object>"
      ]
     },
     "metadata": {},
     "output_type": "display_data"
    },
    {
     "data": {
      "text/html": [
       "<pre style=\"margin: 0.1em;\n",
       "padding-left: 0.25em;\n",
       "border-left-style: solid;\n",
       "font-family: var(--jp-code-font-family);\n",
       "font-size: var(--jp-code-font-size);\n",
       "line-height: var(--jp-code-line-height);\n",
       "\"><span style=\"color: var(--jp-warn-color2)\">pycodestyle</span> <span style=\"color: var(--jp-info-color0)\">INFO</span>: 7:10: E221 multiple spaces before operator</pre>"
      ],
      "text/plain": [
       "<IPython.core.display.HTML object>"
      ]
     },
     "metadata": {},
     "output_type": "display_data"
    },
    {
     "data": {
      "text/html": [
       "<pre style=\"margin: 0.1em;\n",
       "padding-left: 0.25em;\n",
       "border-left-style: solid;\n",
       "font-family: var(--jp-code-font-family);\n",
       "font-size: var(--jp-code-font-size);\n",
       "line-height: var(--jp-code-line-height);\n",
       "\"><span style=\"color: var(--jp-warn-color2)\">pycodestyle</span> <span style=\"color: var(--jp-info-color0)\">INFO</span>: 8:80: E501 line too long (81 &gt; 79 characters)</pre>"
      ],
      "text/plain": [
       "<IPython.core.display.HTML object>"
      ]
     },
     "metadata": {},
     "output_type": "display_data"
    },
    {
     "data": {
      "text/html": [
       "<pre style=\"margin: 0.1em;\n",
       "padding-left: 0.25em;\n",
       "border-left-style: solid;\n",
       "font-family: var(--jp-code-font-family);\n",
       "font-size: var(--jp-code-font-size);\n",
       "line-height: var(--jp-code-line-height);\n",
       "\"><span style=\"color: var(--jp-warn-color2)\">pycodestyle</span> <span style=\"color: var(--jp-info-color0)\">INFO</span>: 9:80: E501 line too long (81 &gt; 79 characters)</pre>"
      ],
      "text/plain": [
       "<IPython.core.display.HTML object>"
      ]
     },
     "metadata": {},
     "output_type": "display_data"
    },
    {
     "data": {
      "text/html": [
       "<pre style=\"margin: 0.1em;\n",
       "padding-left: 0.25em;\n",
       "border-left-style: solid;\n",
       "font-family: var(--jp-code-font-family);\n",
       "font-size: var(--jp-code-font-size);\n",
       "line-height: var(--jp-code-line-height);\n",
       "\"><span style=\"color: var(--jp-warn-color2)\">pycodestyle</span> <span style=\"color: var(--jp-info-color0)\">INFO</span>: 10:14: E221 multiple spaces before operator</pre>"
      ],
      "text/plain": [
       "<IPython.core.display.HTML object>"
      ]
     },
     "metadata": {},
     "output_type": "display_data"
    },
    {
     "data": {
      "text/html": [
       "<pre style=\"margin: 0.1em;\n",
       "padding-left: 0.25em;\n",
       "border-left-style: solid;\n",
       "font-family: var(--jp-code-font-family);\n",
       "font-size: var(--jp-code-font-size);\n",
       "line-height: var(--jp-code-line-height);\n",
       "\"><span style=\"color: var(--jp-warn-color2)\">pycodestyle</span> <span style=\"color: var(--jp-info-color0)\">INFO</span>: 11:25: E221 multiple spaces before operator</pre>"
      ],
      "text/plain": [
       "<IPython.core.display.HTML object>"
      ]
     },
     "metadata": {},
     "output_type": "display_data"
    },
    {
     "data": {
      "text/html": [
       "<pre style=\"margin: 0.1em;\n",
       "padding-left: 0.25em;\n",
       "border-left-style: solid;\n",
       "font-family: var(--jp-code-font-family);\n",
       "font-size: var(--jp-code-font-size);\n",
       "line-height: var(--jp-code-line-height);\n",
       "\"><span style=\"color: var(--jp-warn-color2)\">pycodestyle</span> <span style=\"color: var(--jp-info-color0)\">INFO</span>: 12:80: E501 line too long (80 &gt; 79 characters)</pre>"
      ],
      "text/plain": [
       "<IPython.core.display.HTML object>"
      ]
     },
     "metadata": {},
     "output_type": "display_data"
    },
    {
     "data": {
      "text/html": [
       "<pre style=\"margin: 0.1em;\n",
       "padding-left: 0.25em;\n",
       "border-left-style: solid;\n",
       "font-family: var(--jp-code-font-family);\n",
       "font-size: var(--jp-code-font-size);\n",
       "line-height: var(--jp-code-line-height);\n",
       "\"><span style=\"color: var(--jp-warn-color2)\">pycodestyle</span> <span style=\"color: var(--jp-info-color0)\">INFO</span>: 13:25: E221 multiple spaces before operator</pre>"
      ],
      "text/plain": [
       "<IPython.core.display.HTML object>"
      ]
     },
     "metadata": {},
     "output_type": "display_data"
    },
    {
     "data": {
      "text/html": [
       "<pre style=\"margin: 0.1em;\n",
       "padding-left: 0.25em;\n",
       "border-left-style: solid;\n",
       "font-family: var(--jp-code-font-family);\n",
       "font-size: var(--jp-code-font-size);\n",
       "line-height: var(--jp-code-line-height);\n",
       "\"><span style=\"color: var(--jp-warn-color2)\">pycodestyle</span> <span style=\"color: var(--jp-info-color0)\">INFO</span>: 14:27: E221 multiple spaces before operator</pre>"
      ],
      "text/plain": [
       "<IPython.core.display.HTML object>"
      ]
     },
     "metadata": {},
     "output_type": "display_data"
    },
    {
     "data": {
      "text/html": [
       "<pre style=\"margin: 0.1em;\n",
       "padding-left: 0.25em;\n",
       "border-left-style: solid;\n",
       "font-family: var(--jp-code-font-family);\n",
       "font-size: var(--jp-code-font-size);\n",
       "line-height: var(--jp-code-line-height);\n",
       "\"><span style=\"color: var(--jp-warn-color2)\">pycodestyle</span> <span style=\"color: var(--jp-info-color0)\">INFO</span>: 18:1: E265 block comment should start with &#x27;# &#x27;</pre>"
      ],
      "text/plain": [
       "<IPython.core.display.HTML object>"
      ]
     },
     "metadata": {},
     "output_type": "display_data"
    },
    {
     "data": {
      "text/html": [
       "<pre style=\"margin: 0.1em;\n",
       "padding-left: 0.25em;\n",
       "border-left-style: solid;\n",
       "font-family: var(--jp-code-font-family);\n",
       "font-size: var(--jp-code-font-size);\n",
       "line-height: var(--jp-code-line-height);\n",
       "\"><span style=\"color: var(--jp-warn-color2)\">pycodestyle</span> <span style=\"color: var(--jp-info-color0)\">INFO</span>: 19:80: E501 line too long (80 &gt; 79 characters)</pre>"
      ],
      "text/plain": [
       "<IPython.core.display.HTML object>"
      ]
     },
     "metadata": {},
     "output_type": "display_data"
    },
    {
     "data": {
      "text/html": [
       "<pre style=\"margin: 0.1em;\n",
       "padding-left: 0.25em;\n",
       "border-left-style: solid;\n",
       "font-family: var(--jp-code-font-family);\n",
       "font-size: var(--jp-code-font-size);\n",
       "line-height: var(--jp-code-line-height);\n",
       "\"><span style=\"color: var(--jp-warn-color2)\">pycodestyle</span> <span style=\"color: var(--jp-info-color0)\">INFO</span>: 20:1: W293 blank line contains whitespace</pre>"
      ],
      "text/plain": [
       "<IPython.core.display.HTML object>"
      ]
     },
     "metadata": {},
     "output_type": "display_data"
    },
    {
     "data": {
      "text/html": [
       "<pre style=\"margin: 0.1em;\n",
       "padding-left: 0.25em;\n",
       "border-left-style: solid;\n",
       "font-family: var(--jp-code-font-family);\n",
       "font-size: var(--jp-code-font-size);\n",
       "line-height: var(--jp-code-line-height);\n",
       "\"><span style=\"color: var(--jp-warn-color2)\">pycodestyle</span> <span style=\"color: var(--jp-info-color0)\">INFO</span>: 21:1: E265 block comment should start with &#x27;# &#x27;</pre>"
      ],
      "text/plain": [
       "<IPython.core.display.HTML object>"
      ]
     },
     "metadata": {},
     "output_type": "display_data"
    },
    {
     "data": {
      "text/html": [
       "<pre style=\"margin: 0.1em;\n",
       "padding-left: 0.25em;\n",
       "border-left-style: solid;\n",
       "font-family: var(--jp-code-font-family);\n",
       "font-size: var(--jp-code-font-size);\n",
       "line-height: var(--jp-code-line-height);\n",
       "\"><span style=\"color: var(--jp-warn-color2)\">pycodestyle</span> <span style=\"color: var(--jp-info-color0)\">INFO</span>: 22:73: W291 trailing whitespace</pre>"
      ],
      "text/plain": [
       "<IPython.core.display.HTML object>"
      ]
     },
     "metadata": {},
     "output_type": "display_data"
    },
    {
     "data": {
      "text/html": [
       "<pre style=\"margin: 0.1em;\n",
       "padding-left: 0.25em;\n",
       "border-left-style: solid;\n",
       "font-family: var(--jp-code-font-family);\n",
       "font-size: var(--jp-code-font-size);\n",
       "line-height: var(--jp-code-line-height);\n",
       "\"><span style=\"color: var(--jp-warn-color2)\">pycodestyle</span> <span style=\"color: var(--jp-info-color0)\">INFO</span>: 23:71: W291 trailing whitespace</pre>"
      ],
      "text/plain": [
       "<IPython.core.display.HTML object>"
      ]
     },
     "metadata": {},
     "output_type": "display_data"
    }
   ],
   "source": [
    "# show whats in the table (including new footprint addition)\n",
    "#dbFlux_table\n",
    "print(len(dbFlux_table))\n",
    "# QUESTIONS\n",
    "# why are ra/dec NAN?\n",
    "\n",
    "dbFlux_id      = np.asarray(dbFlux_table['id'], dtype='int')\n",
    "dbFlux_coord_x = np.asarray(dbFlux_table['deblend_peak_center_x'], dtype='float')\n",
    "dbFlux_coord_y = np.asarray(dbFlux_table['deblend_peak_center_y'], dtype='float')\n",
    "dbFlux_parent  = np.asarray(dbFlux_table['parent'], dtype='int')\n",
    "dbFlux_merge_footprint_i     = np.asarray(dbFlux_table['merge_footprint_i'])\n",
    "dbFlux_deblend_peak_instFlux = np.asarray(dbFlux_table['deblend_peak_instFlux'])\n",
    "dbFlux_deblend_modelType     = np.asarray(dbFlux_table['deblend_modelType'])\n",
    "dbFlux_deblend_scarletFlux   = np.asarray(dbFlux_table['deblend_scarletFlux'])\n",
    "\n",
    "tx = np.where(dbFlux_parent == sel_objid)[0]\n",
    "dbFlux_table[tx]\n",
    "#for x in tx:\n",
    "#    print(dbFlux_parent[x], dbFlux_id[x], dbFlux_coord_x[x], dbFlux_coord_y[x])\n",
    "    \n",
    "#for x in tx:\n",
    "#    print(dbFlux_merge_footprint_i[x], dbFlux_deblend_peak_instFlux[x], \n",
    "#          dbFlux_deblend_modelType[x], dbFlux_deblend_scarletFlux[x])    "
   ]
  },
  {
   "cell_type": "code",
   "execution_count": 15,
   "id": "22c6d35e-cf65-48b6-853e-54d0e743fc9e",
   "metadata": {},
   "outputs": [
    {
     "data": {
      "image/png": "[encoded data removed]",
      "text/plain": [
       "<Figure size 200x200 with 2 Axes>"
      ]
     },
     "metadata": {},
     "output_type": "display_data"
    }
   ],
   "source": [
    "# now display the footprint for first child\n",
    "\n",
    "dbFlux_table['footprint'][tx[0]]\n",
    "\n",
    "test0 = heavyFootprintToImage(dbFlux_table['footprint'][tx[0]])\n",
    "\n",
    "fig = plt.figure(figsize=(2, 2))\n",
    "afw_display = afwDisplay.Display(frame=fig)\n",
    "afw_display.scale('asinh', 'zscale')\n",
    "afw_display.mtv(test0)\n",
    "plt.axis('off')\n",
    "plt.show()"
   ]
  },
  {
   "cell_type": "code",
   "execution_count": null,
   "id": "5de23b03-63ca-4d5e-93ff-6591ffcbb179",
   "metadata": {},
   "outputs": [],
   "source": []
  },
  {
   "cell_type": "code",
   "execution_count": null,
   "id": "bf0bc7e1-3ea7-44be-8f88-f4e3265473ed",
   "metadata": {},
   "outputs": [],
   "source": []
  },
  {
   "cell_type": "code",
   "execution_count": null,
   "id": "334e7059-0d98-4ca7-aaa8-f5dbaafa16f7",
   "metadata": {},
   "outputs": [],
   "source": []
  },
  {
   "cell_type": "code",
   "execution_count": null,
   "id": "4158cd19-8a8d-4fa9-888e-5f126faa8322",
   "metadata": {},
   "outputs": [],
   "source": []
  },
  {
   "cell_type": "code",
   "execution_count": null,
   "id": "c8a73e17-a102-4d5e-a490-9834a7e26e47",
   "metadata": {},
   "outputs": [],
   "source": []
  },
  {
   "cell_type": "code",
   "execution_count": 16,
   "id": "14496eba-ebc2-43be-a200-ed7967da1aa1",
   "metadata": {},
   "outputs": [
    {
     "ename": "SystemExit",
     "evalue": "",
     "output_type": "error",
     "traceback": [
      "An exception has occurred, use %tb to see the full traceback.\n",
      "\u001b[0;31mSystemExit\u001b[0m\n"
     ]
    },
    {
     "name": "stderr",
     "output_type": "stream",
     "text": [
      "/opt/lsst/software/stack/conda/miniconda3-py38_4.9.2/envs/lsst-scipipe-4.1.0/lib/python3.10/site-packages/IPython/core/interactiveshell.py:3406: UserWarning: To exit: use 'exit', 'quit', or Ctrl-D.\n",
      "  warn(\"To exit: use 'exit', 'quit', or Ctrl-D.\", stacklevel=1)\n"
     ]
    },
    {
     "data": {
      "text/html": [
       "<pre style=\"margin: 0.1em;\n",
       "padding-left: 0.25em;\n",
       "border-left-style: solid;\n",
       "font-family: var(--jp-code-font-family);\n",
       "font-size: var(--jp-code-font-size);\n",
       "line-height: var(--jp-code-line-height);\n",
       "\"><span style=\"color: var(--jp-warn-color2)\">pycodestyle</span> <span style=\"color: var(--jp-info-color0)\">INFO</span>: 7:1: E303 too many blank lines (4)</pre>"
      ],
      "text/plain": [
       "<IPython.core.display.HTML object>"
      ]
     },
     "metadata": {},
     "output_type": "display_data"
    },
    {
     "data": {
      "text/html": [
       "<pre style=\"margin: 0.1em;\n",
       "padding-left: 0.25em;\n",
       "border-left-style: solid;\n",
       "font-family: var(--jp-code-font-family);\n",
       "font-size: var(--jp-code-font-size);\n",
       "line-height: var(--jp-code-line-height);\n",
       "\"><span style=\"color: var(--jp-warn-color2)\">pycodestyle</span> <span style=\"color: var(--jp-info-color0)\">INFO</span>: 7:1: E265 block comment should start with &#x27;# &#x27;</pre>"
      ],
      "text/plain": [
       "<IPython.core.display.HTML object>"
      ]
     },
     "metadata": {},
     "output_type": "display_data"
    },
    {
     "data": {
      "text/html": [
       "<pre style=\"margin: 0.1em;\n",
       "padding-left: 0.25em;\n",
       "border-left-style: solid;\n",
       "font-family: var(--jp-code-font-family);\n",
       "font-size: var(--jp-code-font-size);\n",
       "line-height: var(--jp-code-line-height);\n",
       "\"><span style=\"color: var(--jp-warn-color2)\">pycodestyle</span> <span style=\"color: var(--jp-info-color0)\">INFO</span>: 7:80: E501 line too long (82 &gt; 79 characters)</pre>"
      ],
      "text/plain": [
       "<IPython.core.display.HTML object>"
      ]
     },
     "metadata": {},
     "output_type": "display_data"
    },
    {
     "data": {
      "text/html": [
       "<pre style=\"margin: 0.1em;\n",
       "padding-left: 0.25em;\n",
       "border-left-style: solid;\n",
       "font-family: var(--jp-code-font-family);\n",
       "font-size: var(--jp-code-font-size);\n",
       "line-height: var(--jp-code-line-height);\n",
       "\"><span style=\"color: var(--jp-warn-color2)\">pycodestyle</span> <span style=\"color: var(--jp-info-color0)\">INFO</span>: 8:36: E231 missing whitespace after &#x27;,&#x27;</pre>"
      ],
      "text/plain": [
       "<IPython.core.display.HTML object>"
      ]
     },
     "metadata": {},
     "output_type": "display_data"
    },
    {
     "data": {
      "text/html": [
       "<pre style=\"margin: 0.1em;\n",
       "padding-left: 0.25em;\n",
       "border-left-style: solid;\n",
       "font-family: var(--jp-code-font-family);\n",
       "font-size: var(--jp-code-font-size);\n",
       "line-height: var(--jp-code-line-height);\n",
       "\"><span style=\"color: var(--jp-warn-color2)\">pycodestyle</span> <span style=\"color: var(--jp-info-color0)\">INFO</span>: 13:1: W293 blank line contains whitespace</pre>"
      ],
      "text/plain": [
       "<IPython.core.display.HTML object>"
      ]
     },
     "metadata": {},
     "output_type": "display_data"
    },
    {
     "data": {
      "text/html": [
       "<pre style=\"margin: 0.1em;\n",
       "padding-left: 0.25em;\n",
       "border-left-style: solid;\n",
       "font-family: var(--jp-code-font-family);\n",
       "font-size: var(--jp-code-font-size);\n",
       "line-height: var(--jp-code-line-height);\n",
       "\"><span style=\"color: var(--jp-warn-color2)\">pycodestyle</span> <span style=\"color: var(--jp-info-color0)\">INFO</span>: 16:80: E501 line too long (127 &gt; 79 characters)</pre>"
      ],
      "text/plain": [
       "<IPython.core.display.HTML object>"
      ]
     },
     "metadata": {},
     "output_type": "display_data"
    },
    {
     "data": {
      "text/html": [
       "<pre style=\"margin: 0.1em;\n",
       "padding-left: 0.25em;\n",
       "border-left-style: solid;\n",
       "font-family: var(--jp-code-font-family);\n",
       "font-size: var(--jp-code-font-size);\n",
       "line-height: var(--jp-code-line-height);\n",
       "\"><span style=\"color: var(--jp-warn-color2)\">pycodestyle</span> <span style=\"color: var(--jp-info-color0)\">INFO</span>: 17:80: E501 line too long (105 &gt; 79 characters)</pre>"
      ],
      "text/plain": [
       "<IPython.core.display.HTML object>"
      ]
     },
     "metadata": {},
     "output_type": "display_data"
    },
    {
     "data": {
      "text/html": [
       "<pre style=\"margin: 0.1em;\n",
       "padding-left: 0.25em;\n",
       "border-left-style: solid;\n",
       "font-family: var(--jp-code-font-family);\n",
       "font-size: var(--jp-code-font-size);\n",
       "line-height: var(--jp-code-line-height);\n",
       "\"><span style=\"color: var(--jp-warn-color2)\">pycodestyle</span> <span style=\"color: var(--jp-info-color0)\">INFO</span>: 20:80: E501 line too long (81 &gt; 79 characters)</pre>"
      ],
      "text/plain": [
       "<IPython.core.display.HTML object>"
      ]
     },
     "metadata": {},
     "output_type": "display_data"
    },
    {
     "data": {
      "text/html": [
       "<pre style=\"margin: 0.1em;\n",
       "padding-left: 0.25em;\n",
       "border-left-style: solid;\n",
       "font-family: var(--jp-code-font-family);\n",
       "font-size: var(--jp-code-font-size);\n",
       "line-height: var(--jp-code-line-height);\n",
       "\"><span style=\"color: var(--jp-warn-color2)\">pycodestyle</span> <span style=\"color: var(--jp-info-color0)\">INFO</span>: 21:37: E261 at least two spaces before inline comment</pre>"
      ],
      "text/plain": [
       "<IPython.core.display.HTML object>"
      ]
     },
     "metadata": {},
     "output_type": "display_data"
    },
    {
     "data": {
      "text/html": [
       "<pre style=\"margin: 0.1em;\n",
       "padding-left: 0.25em;\n",
       "border-left-style: solid;\n",
       "font-family: var(--jp-code-font-family);\n",
       "font-size: var(--jp-code-font-size);\n",
       "line-height: var(--jp-code-line-height);\n",
       "\"><span style=\"color: var(--jp-warn-color2)\">pycodestyle</span> <span style=\"color: var(--jp-info-color0)\">INFO</span>: 21:38: E262 inline comment should start with &#x27;# &#x27;</pre>"
      ],
      "text/plain": [
       "<IPython.core.display.HTML object>"
      ]
     },
     "metadata": {},
     "output_type": "display_data"
    },
    {
     "data": {
      "text/html": [
       "<pre style=\"margin: 0.1em;\n",
       "padding-left: 0.25em;\n",
       "border-left-style: solid;\n",
       "font-family: var(--jp-code-font-family);\n",
       "font-size: var(--jp-code-font-size);\n",
       "line-height: var(--jp-code-line-height);\n",
       "\"><span style=\"color: var(--jp-warn-color2)\">pycodestyle</span> <span style=\"color: var(--jp-info-color0)\">INFO</span>: 21:80: E501 line too long (101 &gt; 79 characters)</pre>"
      ],
      "text/plain": [
       "<IPython.core.display.HTML object>"
      ]
     },
     "metadata": {},
     "output_type": "display_data"
    },
    {
     "data": {
      "text/html": [
       "<pre style=\"margin: 0.1em;\n",
       "padding-left: 0.25em;\n",
       "border-left-style: solid;\n",
       "font-family: var(--jp-code-font-family);\n",
       "font-size: var(--jp-code-font-size);\n",
       "line-height: var(--jp-code-line-height);\n",
       "\"><span style=\"color: var(--jp-warn-color2)\">pycodestyle</span> <span style=\"color: var(--jp-info-color0)\">INFO</span>: 22:9: E116 unexpected indentation (comment)</pre>"
      ],
      "text/plain": [
       "<IPython.core.display.HTML object>"
      ]
     },
     "metadata": {},
     "output_type": "display_data"
    },
    {
     "data": {
      "text/html": [
       "<pre style=\"margin: 0.1em;\n",
       "padding-left: 0.25em;\n",
       "border-left-style: solid;\n",
       "font-family: var(--jp-code-font-family);\n",
       "font-size: var(--jp-code-font-size);\n",
       "line-height: var(--jp-code-line-height);\n",
       "\"><span style=\"color: var(--jp-warn-color2)\">pycodestyle</span> <span style=\"color: var(--jp-info-color0)\">INFO</span>: 22:9: E265 block comment should start with &#x27;# &#x27;</pre>"
      ],
      "text/plain": [
       "<IPython.core.display.HTML object>"
      ]
     },
     "metadata": {},
     "output_type": "display_data"
    },
    {
     "data": {
      "text/html": [
       "<pre style=\"margin: 0.1em;\n",
       "padding-left: 0.25em;\n",
       "border-left-style: solid;\n",
       "font-family: var(--jp-code-font-family);\n",
       "font-size: var(--jp-code-font-size);\n",
       "line-height: var(--jp-code-line-height);\n",
       "\"><span style=\"color: var(--jp-warn-color2)\">pycodestyle</span> <span style=\"color: var(--jp-info-color0)\">INFO</span>: 22:80: E501 line too long (195 &gt; 79 characters)</pre>"
      ],
      "text/plain": [
       "<IPython.core.display.HTML object>"
      ]
     },
     "metadata": {},
     "output_type": "display_data"
    },
    {
     "data": {
      "text/html": [
       "<pre style=\"margin: 0.1em;\n",
       "padding-left: 0.25em;\n",
       "border-left-style: solid;\n",
       "font-family: var(--jp-code-font-family);\n",
       "font-size: var(--jp-code-font-size);\n",
       "line-height: var(--jp-code-line-height);\n",
       "\"><span style=\"color: var(--jp-warn-color2)\">pycodestyle</span> <span style=\"color: var(--jp-info-color0)\">INFO</span>: 23:1: W293 blank line contains whitespace</pre>"
      ],
      "text/plain": [
       "<IPython.core.display.HTML object>"
      ]
     },
     "metadata": {},
     "output_type": "display_data"
    },
    {
     "data": {
      "text/html": [
       "<pre style=\"margin: 0.1em;\n",
       "padding-left: 0.25em;\n",
       "border-left-style: solid;\n",
       "font-family: var(--jp-code-font-family);\n",
       "font-size: var(--jp-code-font-size);\n",
       "line-height: var(--jp-code-line-height);\n",
       "\"><span style=\"color: var(--jp-warn-color2)\">pycodestyle</span> <span style=\"color: var(--jp-info-color0)\">INFO</span>: 24:43: E261 at least two spaces before inline comment</pre>"
      ],
      "text/plain": [
       "<IPython.core.display.HTML object>"
      ]
     },
     "metadata": {},
     "output_type": "display_data"
    },
    {
     "data": {
      "text/html": [
       "<pre style=\"margin: 0.1em;\n",
       "padding-left: 0.25em;\n",
       "border-left-style: solid;\n",
       "font-family: var(--jp-code-font-family);\n",
       "font-size: var(--jp-code-font-size);\n",
       "line-height: var(--jp-code-line-height);\n",
       "\"><span style=\"color: var(--jp-warn-color2)\">pycodestyle</span> <span style=\"color: var(--jp-info-color0)\">INFO</span>: 24:43: E262 inline comment should start with &#x27;# &#x27;</pre>"
      ],
      "text/plain": [
       "<IPython.core.display.HTML object>"
      ]
     },
     "metadata": {},
     "output_type": "display_data"
    },
    {
     "data": {
      "text/html": [
       "<pre style=\"margin: 0.1em;\n",
       "padding-left: 0.25em;\n",
       "border-left-style: solid;\n",
       "font-family: var(--jp-code-font-family);\n",
       "font-size: var(--jp-code-font-size);\n",
       "line-height: var(--jp-code-line-height);\n",
       "\"><span style=\"color: var(--jp-warn-color2)\">pycodestyle</span> <span style=\"color: var(--jp-info-color0)\">INFO</span>: 25:1: E265 block comment should start with &#x27;# &#x27;</pre>"
      ],
      "text/plain": [
       "<IPython.core.display.HTML object>"
      ]
     },
     "metadata": {},
     "output_type": "display_data"
    },
    {
     "data": {
      "text/html": [
       "<pre style=\"margin: 0.1em;\n",
       "padding-left: 0.25em;\n",
       "border-left-style: solid;\n",
       "font-family: var(--jp-code-font-family);\n",
       "font-size: var(--jp-code-font-size);\n",
       "line-height: var(--jp-code-line-height);\n",
       "\"><span style=\"color: var(--jp-warn-color2)\">pycodestyle</span> <span style=\"color: var(--jp-info-color0)\">INFO</span>: 30:1: E265 block comment should start with &#x27;# &#x27;</pre>"
      ],
      "text/plain": [
       "<IPython.core.display.HTML object>"
      ]
     },
     "metadata": {},
     "output_type": "display_data"
    },
    {
     "data": {
      "text/html": [
       "<pre style=\"margin: 0.1em;\n",
       "padding-left: 0.25em;\n",
       "border-left-style: solid;\n",
       "font-family: var(--jp-code-font-family);\n",
       "font-size: var(--jp-code-font-size);\n",
       "line-height: var(--jp-code-line-height);\n",
       "\"><span style=\"color: var(--jp-warn-color2)\">pycodestyle</span> <span style=\"color: var(--jp-info-color0)\">INFO</span>: 30:16: W291 trailing whitespace</pre>"
      ],
      "text/plain": [
       "<IPython.core.display.HTML object>"
      ]
     },
     "metadata": {},
     "output_type": "display_data"
    }
   ],
   "source": [
    "sys.exit()\n",
    "# OLD STUFF STARTS HERE:\n",
    "\n",
    "\n",
    "\n",
    "\n",
    "#center_coords = SkyCoord(55.6521739130, -31.9834710744, frame='icrs', unit='deg')\n",
    "center_coords = SkyCoord(55.7393808,-32.2751775, frame='icrs', unit='deg')\n",
    "search_radius = 10*u.arcmin\n",
    "\n",
    "use_center_coords = \"55.7393808, -32.2751775\"\n",
    "use_radius = \"0.02\"\n",
    " \n",
    "max_rec = 10\n",
    "\n",
    "query = \"SELECT objectId, x, y, coord_ra, coord_dec, detect_isPrimary, deblend_nChild, deblend_skipped, detect_fromBlend, \" + \\\n",
    "        \"detect_isDeblendedModelSource, detect_isDeblendedSource, detect_isIsolated, parentObjectId \" + \\\n",
    "        \"FROM dp02_dc2_catalogs.Object \" + \\\n",
    "        \"WHERE CONTAINS(POINT('ICRS', coord_ra, coord_dec), \" + \\\n",
    "        \"CIRCLE('ICRS', \" + use_center_coords + \", \" + use_radius + \")) = 1 \" + \\\n",
    "        \"AND  detect_fromBlend = 1 \" #This source is deblended from a parent with more than one child\n",
    "        #\"AND detect_isPrimary = 0 \" #True if source has no children and is in the inner region of a coadd patch and is in the inner region of a coadd tract and is not detected in a pseudo-filter\n",
    "        \n",
    "results_notPrimary = service.search(query)#, maxrec=max_rec)\n",
    "#assert len(results1) == max_rec\n",
    "\n",
    "# Convert the results to an Astropy table, then\n",
    "#   take a look at the table.\n",
    "tab_notPrimary = results_notPrimary.to_table()\n",
    "#tab_notPrimary \n"
   ]
  },
  {
   "cell_type": "code",
   "execution_count": null,
   "id": "bd30e3e8-eebe-4ccd-9d45-b519b26be067",
   "metadata": {},
   "outputs": [],
   "source": [
    "query = \"SELECT objectId, x, y, coord_ra, coord_dec, detect_isPrimary, deblend_nChild, deblend_skipped, detect_fromBlend, \" + \\\n",
    "        \"detect_isDeblendedModelSource, detect_isDeblendedSource, detect_isIsolated, parentObjectId \" + \\\n",
    "        \"FROM dp02_dc2_catalogs.Object \" + \\\n",
    "        \"WHERE CONTAINS(POINT('ICRS', coord_ra, coord_dec), \" + \\\n",
    "        \"CIRCLE('ICRS', \" + use_center_coords + \", \" + use_radius + \")) = 1 \" + \\\n",
    "        \"AND detect_isIsolated = 1\"\n",
    "#        \"AND detect_isPrimary = 1 \" # we want to remove this, make False to return blends\n",
    "\n",
    "results_Isolated = service.search(query)#, maxrec=max_rec)\n",
    "#assert len(results1) == max_rec\n",
    "\n",
    "# Convert the results to an Astropy table, then\n",
    "#   take a look at the table.\n",
    "tab_Isolated = results_Isolated.to_table()\n",
    "#tab_notPrimary "
   ]
  },
  {
   "cell_type": "code",
   "execution_count": null,
   "id": "d703b024-a119-4dc1-9382-fa9a54f862a4",
   "metadata": {},
   "outputs": [],
   "source": [
    "query = \"SELECT objectId, x, y, coord_ra, coord_dec, detect_isPrimary, deblend_nChild, deblend_skipped, detect_fromBlend, \" + \\\n",
    "        \"detect_isDeblendedModelSource, detect_isDeblendedSource, detect_isIsolated, parentObjectId \" + \\\n",
    "        \"FROM dp02_dc2_catalogs.Object \" + \\\n",
    "        \"WHERE CONTAINS(POINT('ICRS', coord_ra, coord_dec), \" + \\\n",
    "        \"CIRCLE('ICRS', \" + use_center_coords + \", \" + use_radius + \")) = 1 \" + \\\n",
    "        \"AND detect_isPrimary = 1 \" # we want to remove this, make False to return blends\n",
    "\n",
    "results_Primary = service.search(query)#, maxrec=max_rec)\n",
    "#assert len(results1) == max_rec\n",
    "\n",
    "# Convert the results to an Astropy table, then\n",
    "#   take a look at the table.\n",
    "tab_Primary = results_Primary.to_table()\n",
    "#tab_notPrimary "
   ]
  },
  {
   "cell_type": "code",
   "execution_count": null,
   "id": "cf8f0b26-f43d-4515-b5a8-e26085059ee5",
   "metadata": {},
   "outputs": [],
   "source": [
    "# prepare to do the cutout from tutorial notebook 03\n",
    "config = 'dp02'\n",
    "collection = '2.2i/runs/DP0.2'\n",
    "butler = Butler.Butler(config, collections=collection)\n",
    "\n",
    "dataId = {'tract': 4431, 'patch': 17, 'band': 'i'}\n",
    "datasetType = 'deepCoadd'\n",
    "# Retrieve the data using the `butler` instance and its function `get()`\n",
    "coadd = butler.get(datasetType, **dataId)\n",
    "\n",
    "# First, we need to extract the WCS solution, which provides the mapping\n",
    "#   between XY pixel values and sky coordinates:\n",
    "wcs = coadd.getWcs()\n",
    "\n",
    "# The cluster seems to be centered at about (X, Y) ~ (12500, 8500).\n",
    "# We can use the \"pixelToSky\" method of the WCS to get the sky coordinates:\n",
    "radec = wcs.pixelToSky(12500, 8500)\n",
    "ra, dec = radec.getRa().asDegrees(), radec.getDec().asDegrees()\n",
    "print(ra, dec)\n",
    "\n",
    "# Select a position at roughly the center of the galaxy cluster:\n",
    "cutout_image = cutout_coadd(butler, ra, dec, band='i', datasetType='deepCoadd',\n",
    "                            cutoutSideLength=501)\n",
    "print(\"The size of the cutout in pixels is: \", cutout_image.image.array.shape)\n",
    "\n",
    "# Display the image cutout\n",
    "fig, ax = plt.subplots()\n",
    "display = afwDisplay.Display(frame=fig)\n",
    "display.scale('asinh', 'zscale')\n",
    "display.mtv(cutout_image.image)\n",
    "\n",
    "# We use display buffering to avoid re-drawing the image\n",
    "#  after each source is plotted\n",
    "with display.Buffering():\n",
    "    for i in range(len(tab_notPrimary)):\n",
    "        display.dot('+', tab_notPrimary[i]['x'], tab_notPrimary[i]['y'], ctype=afwDisplay.RED)\n",
    "    for j in range(len(tab_Primary)):\n",
    "        display.dot('o', tab_Primary[j]['x'], tab_Primary[j]['y'], size=20, ctype='orange')\n",
    "    #for k in range(len(tab_Isolated)):\n",
    "        #display.dot('^', tab_Isolated[k]['x'], tab_Isolated[k]['y'], ctype='blue')\n",
    "\n",
    "plt.show()\n",
    "#remove_figure(fig)"
   ]
  },
  {
   "cell_type": "code",
   "execution_count": null,
   "id": "d492a9ed-e5ef-4815-be1b-38630e2c5089",
   "metadata": {},
   "outputs": [],
   "source": [
    "# get info about your cutout\n",
    "refTable = butler.get('deepCoadd_ref',  tract=4431, patch=17)\n",
    "refTable.schema.find('detect_isPrimary')\n",
    "#refTable.schema.getNames()\n"
   ]
  },
  {
   "cell_type": "code",
   "execution_count": null,
   "id": "2796b31c-447f-4340-a1ef-73486d8ae775",
   "metadata": {},
   "outputs": [],
   "source": [
    "\n",
    "\n",
    "datasetType = \"deepCoadd\"\n",
    "\n",
    "\n",
    "dataId = {'tract': tract, 'band': 'i', 'patch': patch }  \n",
    "blend_coadd = butler.get(datasetType, **dataId)\n",
    "\n",
    "\n",
    "# Take a look at the image of the patch\n",
    "plt.figure(figsize=(30,30))\n",
    "afw_display = afwDisplay.Display()\n",
    "afw_display.scale('asinh', 'zscale')\n",
    "afw_display.mtv(my_cutout.getImage())\n",
    "\n",
    "\n",
    "# Plot the \"Parent\" source:\n",
    "afw_display.dot('o', x, y, size=50, ctype=afwDisplay.RED)\n"
   ]
  },
  {
   "cell_type": "markdown",
   "id": "d9ac5004-8b37-42dc-aec1-252995164e2f",
   "metadata": {},
   "source": [
    "#### 2.1.2 Section most blended objects"
   ]
  },
  {
   "cell_type": "code",
   "execution_count": null,
   "id": "91c816bb-2f67-42a6-8b23-9795ab352151",
   "metadata": {},
   "outputs": [],
   "source": [
    "\n"
   ]
  },
  {
   "cell_type": "code",
   "execution_count": null,
   "id": "263b5d42-1505-47a3-9a63-714521de419c",
   "metadata": {},
   "outputs": [],
   "source": [
    "collection = '2.2i/runs/DP0.2'\n",
    "datasetType = \"deepCoadd\"\n",
    "config = \"dp02\"\n",
    "dataId = {'tract': tab_maxblend['tract'][0], 'band': 'i', 'patch': tab_maxblend['patch'][0] }  \n",
    "blend_coadd = butler.get(datasetType, **dataId)\n",
    "\n",
    "# LOOK INTO THIS DEBLEND_METADATA MORE:\n",
    "deblend_metadata = butler.get(\"deblend_metadata\", **dataId)\n",
    "\n",
    "# Take a look at the image of the patch\n",
    "plt.figure(figsize=(30,30))\n",
    "afw_display = afwDisplay.Display()\n",
    "afw_display.setMaskTransparency(100)\n",
    "afw_display.scale('asinh', 'zscale')\n",
    "afw_display.mtv(blend_coadd.getMaskedImage()) # what does getMaskedImage do?\n",
    "\n",
    "# We use display buffering to avoid re-drawing the image\n",
    "#  after each source is plotted\n",
    "with afw_display.Buffering():\n",
    "    for i in range(len(tab_maxblend)):\n",
    "        afw_display.dot('+', tab_maxblend[i]['x'], tab_maxblend[i]['y'], ctype=afwDisplay.RED)\n"
   ]
  },
  {
   "cell_type": "code",
   "execution_count": null,
   "id": "88c739dd-c4ea-4244-883c-3c0b57ada34c",
   "metadata": {},
   "outputs": [],
   "source": []
  },
  {
   "cell_type": "code",
   "execution_count": null,
   "id": "c31392b1-d274-4899-b4dd-cfa9d8ecf571",
   "metadata": {},
   "outputs": [],
   "source": [
    "\n",
    "# first search on RA/Dec and then use a where statement to pull out targets based on ID    \n",
    "query_children = \"SELECT ObjectId, x, y, coord_ra, coord_dec, detect_isPrimary, deblend_nChild, deblend_skipped, detect_fromBlend, \" + \\\n",
    "        \"detect_isDeblendedModelSource, detect_isDeblendedSource, detect_isIsolated, parentObjectId, footprintArea, z_blendedness, \" + \\\n",
    "        \"tract, patch \" + \\\n",
    "        \"FROM dp02_dc2_catalogs.Object \" + \\\n",
    "        \"WHERE CONTAINS(POINT('ICRS', coord_ra, coord_dec ), \" + \\\n",
    "        \"CIRCLE('ICRS', \" + str(ra) + \", \" + str(dec) + \", 0.01)) = 1 \"   \n"
   ]
  },
  {
   "cell_type": "code",
   "execution_count": null,
   "id": "c4fd214f-b7e6-4878-b892-c9ceb0a566cb",
   "metadata": {},
   "outputs": [],
   "source": [
    "\n",
    "\n",
    "#what is a parent, what is a child, describe a deblender, how does it work, what are we telling people about it. \n",
    "# bunch of flags in object catalog that are already deblended . notebook can't fully be representative of all \n",
    "# science cases for the deblender.\n",
    "\n",
    "# A random assortment of useful notes:\n",
    "\n",
    "#Recommended Search Parameter “detect_isPrimary = True”: A good default search query parameter \n",
    "# for the Object, Source, and ForcedSource catalogs is to set detect_isPrimary = True. \n",
    "# The detect_isPrimary parameter is True if a source has no children, is in the inner region of a \n",
    "#coadd patch, is in the inner region of a coadd tract, and is not “detected” in a pseudo-filter. \n",
    "\n",
    "#Info from pipelines.lsst.io:\n",
    "#Seeded by the deepCoadd_mergeDet, the deblender works on each detection to find the flux in each component. The deblend subset produces the deepCoadd_deblendedFlux data product. The measure subset is responsible for measuring object properties on all of the deblended children produced by the deblender. This produces the deepCoadd_meas catalog data product with flux and shape measurement information for each object.\n",
    "\n",
    "#step 1: how to use deblender data prodcuts. Look through pipelines.lsst.io\n",
    "\n",
    "#step 2: reconfiguring deblender and running it can be stretch goal and / or followup tutorial\n",
    "\n",
    "#https://pipelines.lsst.io/modules/lsst.pipe.tasks/deblending-flags-overview.html\n",
    "\n",
    "# Catalog are objects in each visit (not coadded)\n",
    "# the DP0.2 Schema Browser is helpful:\n",
    "# https://dm.lsst.org/sdm_schemas/browser/dp02.html\n",
    "# .Source catalog properties related to blending:\n",
    "# parentSourceId, blendedness_abs, blendedness_flag, blendedness_flag_noCentroid, blendedness_flag_noShape\n",
    "\n",
    "# Object catalog is sources in the final catalog\n",
    "# .Object properties related to blending:\n",
    "# deblend_nChild, deblend_skipped, detect_fromBlend, detect_isDeblendedModelSource,\n",
    "# detect_isDeblendedSource, detect_isIsolated, detect_isPrimary, parentObjectId, i_blendedness,\n",
    "# i_blendedness_flag, r_blendedness, r_blendedness_flag, (ditto u,g,y,z)\n",
    "\n",
    "# object can use colors in its deblender\n",
    "\n",
    "\n",
    "# questions for melissa:\n",
    "# - butler vs TAP for catalog access? when to use?\n",
    "# butler is inefficient for catalog access because it returns all columns for everything in\n",
    "# a track at once. This can be good for some circumstances, such as getting all objects\n",
    "# inside an track/image. TAP is better for querying things that meet some criteria. \n",
    "\n",
    "# - is there a segmentation map somewhere that identifies the deblending mask?\n",
    "# could be called \"the footprint\" see notebook 05 section 4. See also \n",
    "# https://github.com/LSSTScienceCollaborations/StackClub/blob/master/SourceDetection/Footprints.ipynb\n",
    "# - Looks like detect_isDeblendedSource = 1 and detect_isPrimary = 1 return the same thing?\n",
    "\n",
    "# action items:\n",
    "\n",
    "# look in catalog and search for particular sources that have many blends (DP0.2 doesn't\n",
    "# have low z big galaxies, only 6 years of data and also because cosmology focused \n",
    "# simulation).\n",
    "\n",
    "# go through notebook5 and learn what it is doing. this will inform stretch activities\n",
    "# for this notebook. We are not yet sure what the user-tunable parameters for the \n",
    "# deblender are, so we have to find them another way. Then we will have meeting with \n",
    "# Fred about deblender later. \n",
    "\n",
    "# scarlet is imbedded in lsst pipelines, but ALex's notebooks are a few years old so\n",
    "# are many pipeline versions ago. It is now in the pipeline. I should not have to install\n",
    "# it for myslef. Can look at what scarlet config params those old notebooks tweaked\n",
    "# can be used to map into the lsst science pipeline framework (might be called something\n",
    "# different etc).\n",
    "\n",
    "# maybe (at the end) even re-run the deblender with different parameters (stretch goal)\n",
    "# deblend is also done in notebook 05 but none of the parameters are changed. So here if \n",
    "# we get to the poitn where we can see what the user-changable parameters are, we could\n",
    "# do a couple of demos. \n",
    "\n",
    "# in the geoviews jira ticket, just keep a log of what you did (i.e. can't find example\n",
    "# of any astro applications of it). Since Keith (or Leanne?) suggested it we could also close the loop\n",
    "# with him and ask if he had any examples in mind or has he seen it. Can a convenient\n",
    "# astropy package for this already exist?\n",
    "\n",
    "# Questions for Melissa week of Nov 8:\n",
    "# - I think what I'm looking for here is what children belong to the same deblend.\n",
    "# - cant figure out how to grab a set of blends from the same deblended object\n",
    "# - can't figure out how to extract a footprint for a coadd without running the deblender again (see https://github.com/LSSTScienceCollaborations/StackClub/blob/master/SourceDetection/Footprints.ipynb)\n",
    "# - what does getMaskedImage do?\n",
    "# mask plane may contain (flags bad pixels, detection)\n",
    "# - Struggling with accessing Footprint and MultibandFootprint (class in afw). How to use, are there leftover data products or does detection have to be run?\n",
    "# in notebook 4b there's a way to say tell me everything accessible by butler. there are possibly no image metadata \n",
    "# avail from deepcoadd (since this product of deblender comes after deepcoadd is generated).\n",
    "# deblend_metadata is a property set\n",
    "\n",
    "# https://github.com/lsst/afw/blob/main/doc/lsst.afw.multiband/multiband.rst\n",
    "\n",
    "#geoviews: look in the way of whether things look nice? or fast at rendering ? what is the thing that makes it cool.\n",
    "\n",
    "# Suggestions Nov 17 for science application:\n",
    "#do we know if the parent has a non-deblended flux\n",
    "#merger fractions as fn of redshift? or host identification for time domain\n",
    "#can you select on children that have different colors than parent? \n",
    "\n",
    "\n",
    "# - what does AFW stand for? soemthing frameworks\n",
    "# Explore deblend_metadata\n",
    "#help(blend_coadd)\n",
    "#deblend_metadata = butler.get(\"deblend_metadata\", **dataId)\n",
    "#help(deblend_metadata) is basically useless info"
   ]
  },
  {
   "cell_type": "markdown",
   "id": "f6a6e519-25b7-4a64-b73d-c1994afa721e",
   "metadata": {},
   "source": [
    "Notes for finalizing:\n",
    "- finalize reamble text \n",
    "- sketch out thoughts for the followup deblender tutorial (it should do this this and this shoudl be covered in a future notebook, we will make a ticket for it in jira. add this list to jira)\n",
    "- Melissa to look first \n",
    "- first send to Fred (when its ready) to see if he thinks we should include any additional (give him otpion to look)"
   ]
  }
 ],
 "metadata": {
  "kernelspec": {
   "display_name": "LSST",
   "language": "python",
   "name": "lsst"
  },
  "language_info": {
   "codemirror_mode": {
    "name": "ipython",
    "version": 3
   },
   "file_extension": ".py",
   "mimetype": "text/x-python",
   "name": "python",
   "nbconvert_exporter": "python",
   "pygments_lexer": "ipython3",
   "version": "3.10.5"
  },
  "toc-autonumbering": false
 },
 "nbformat": 4,
 "nbformat_minor": 5
}
