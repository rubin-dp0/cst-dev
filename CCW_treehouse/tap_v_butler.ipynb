{
 "cells": [
  {
   "cell_type": "markdown",
   "id": "fd71a3a8-4c72-4517-a44e-4c4b9bf5d91a",
   "metadata": {},
   "source": [
    "# TAP v. Butler\n",
    "\n",
    "A race to find a certain Object when we know its Id, patch, and tract."
   ]
  },
  {
   "cell_type": "code",
   "execution_count": 1,
   "id": "15a14f37-d733-4615-ab04-1afc15c5e4ca",
   "metadata": {},
   "outputs": [],
   "source": [
    "from lsst.rsp import get_tap_service, retrieve_query\n",
    "import lsst.daf.butler as dafButler\n",
    "import numpy as np"
   ]
  },
  {
   "cell_type": "code",
   "execution_count": 2,
   "id": "cda9f40c-a378-4baf-8522-4dce5ec2eecd",
   "metadata": {},
   "outputs": [],
   "source": [
    "mytract = 4431\n",
    "mypatch = 17\n",
    "myobjectid = 1909948454470206951"
   ]
  },
  {
   "cell_type": "markdown",
   "id": "ab96458f-e09e-4edd-992c-71d58dbccdf7",
   "metadata": {},
   "source": [
    "## Butler"
   ]
  },
  {
   "cell_type": "code",
   "execution_count": 3,
   "id": "954ba052-5d58-4721-9315-9a74dfce8df1",
   "metadata": {},
   "outputs": [
    {
     "data": {
      "text/html": [
       "<pre style=\"margin: 0.1em;\n",
       "padding-left: 0.25em;\n",
       "border-left-style: solid;\n",
       "font-family: var(--jp-code-font-family);\n",
       "font-size: var(--jp-code-font-size);\n",
       "line-height: var(--jp-code-line-height);\n",
       "\"><span style=\"color: var(--jp-warn-color2)\">botocore.credentials</span> <span style=\"color: var(--jp-info-color0)\">INFO</span>: Found credentials in shared credentials file: /home/melissagraham/.lsst/aws-credentials.ini</pre>"
      ],
      "text/plain": [
       "<IPython.core.display.HTML object>"
      ]
     },
     "metadata": {},
     "output_type": "display_data"
    }
   ],
   "source": [
    "butler = dafButler.Butler('dp02', collections='2.2i/runs/DP0.2')"
   ]
  },
  {
   "cell_type": "code",
   "execution_count": 4,
   "id": "c699a8c1-4a20-4c70-a265-e85c2de82180",
   "metadata": {},
   "outputs": [
    {
     "name": "stdout",
     "output_type": "stream",
     "text": [
      "CPU times: user 962 ms, sys: 745 ms, total: 1.71 s\n",
      "Wall time: 1.39 s\n"
     ]
    }
   ],
   "source": [
    "%%time\n",
    "datasetType = 'objectTable'\n",
    "dataId = {'tract': mytract, 'patch': mypatch}\n",
    "obj = butler.get(datasetType, dataId=dataId)"
   ]
  },
  {
   "cell_type": "code",
   "execution_count": 5,
   "id": "c77703e9-7c66-4fe1-ac21-4acc12e71d02",
   "metadata": {},
   "outputs": [],
   "source": [
    "# obj"
   ]
  },
  {
   "cell_type": "code",
   "execution_count": 6,
   "id": "23e058ce-ca2e-46e8-9884-2cb8c01a4e8f",
   "metadata": {},
   "outputs": [
    {
     "name": "stdout",
     "output_type": "stream",
     "text": [
      "Retrieved catalog of 37026 objects.\n"
     ]
    }
   ],
   "source": [
    "print(f\"Retrieved catalog of {len(obj)} objects.\")"
   ]
  },
  {
   "cell_type": "code",
   "execution_count": 7,
   "id": "00da6839-3171-4433-9dfa-a6dcb6914d0b",
   "metadata": {},
   "outputs": [
    {
     "name": "stdout",
     "output_type": "stream",
     "text": [
      "[37021] [55.65390937] [-32.19286897]\n",
      "CPU times: user 1.16 ms, sys: 52 µs, total: 1.21 ms\n",
      "Wall time: 1.05 ms\n"
     ]
    }
   ],
   "source": [
    "%%time\n",
    "ids = obj.index.to_numpy()\n",
    "ras = obj.coord_ra.to_numpy()\n",
    "decs = obj.coord_dec.to_numpy()\n",
    "tx = np.where( ids == myobjectid )[0]\n",
    "print('FOUND:', tx, ids[tx], ras[tx], decs[tx])"
   ]
  },
  {
   "cell_type": "code",
   "execution_count": 8,
   "id": "088d3fa2-68bb-4b14-9453-10363b880b83",
   "metadata": {},
   "outputs": [],
   "source": [
    "del ids, ras, decs, tx\n",
    "del datasetType, dataId, obj, butler"
   ]
  },
  {
   "cell_type": "markdown",
   "id": "04675e05-5eb6-43f6-ae5d-9f86dc500e96",
   "metadata": {},
   "source": [
    "## TAP"
   ]
  },
  {
   "cell_type": "code",
   "execution_count": 9,
   "id": "3943cb42-162f-4ab5-83a2-dfc54958a5d6",
   "metadata": {},
   "outputs": [],
   "source": [
    "service = get_tap_service()"
   ]
  },
  {
   "cell_type": "markdown",
   "id": "b169183e-3434-4ba9-ab13-c70663da8606",
   "metadata": {},
   "source": [
    "Just start with tract and patch, like we do with the Butler.\n",
    "\n",
    "TOO SLOW"
   ]
  },
  {
   "cell_type": "code",
   "execution_count": 10,
   "id": "d288b6b6-a72f-418e-8108-cdab392c3d72",
   "metadata": {},
   "outputs": [],
   "source": [
    "# %%time\n",
    "# query = \"SELECT ObjectId \" + \\\n",
    "#         \"FROM dp02_dc2_catalogs.Object \" + \\\n",
    "#         \"WHERE tract = \"+str(mytract)+\" AND patch = \"+str(mypatch)+\" \"\n",
    "# results = service.search(query)"
   ]
  },
  {
   "cell_type": "code",
   "execution_count": 11,
   "id": "8a4a83e2-b98c-44c2-85b2-d755fd2b7150",
   "metadata": {},
   "outputs": [],
   "source": [
    "# table = results.to_table()\n",
    "# print(f\"Retrieved catalog of {len(table)} objects.\")"
   ]
  },
  {
   "cell_type": "code",
   "execution_count": 12,
   "id": "2809855b-2244-44bd-af43-e73bd6c53e94",
   "metadata": {},
   "outputs": [],
   "source": [
    "# table"
   ]
  },
  {
   "cell_type": "code",
   "execution_count": 13,
   "id": "4a36cda6-bf23-49f3-b963-1fb78336094f",
   "metadata": {},
   "outputs": [],
   "source": [
    "# %%time\n",
    "# tx = np.where(table['ObjectId'] == myobjectid)[0]\n",
    "# print(tx[0], table['ObjectId'][tx[0]])"
   ]
  },
  {
   "cell_type": "code",
   "execution_count": 14,
   "id": "1ccb8c89-ad8d-47b4-a472-293ec0e9646d",
   "metadata": {},
   "outputs": [],
   "source": [
    "# del query, results, table, tx"
   ]
  },
  {
   "cell_type": "markdown",
   "id": "2deb757f-82e8-40ad-ac33-a2cab2218524",
   "metadata": {},
   "source": [
    "Now forget about knowing tract and patch, and query only on the known objectId\n",
    "\n",
    "TOO SLOW"
   ]
  },
  {
   "cell_type": "code",
   "execution_count": 15,
   "id": "90e30737-5da4-4781-9e98-a52295e63e80",
   "metadata": {},
   "outputs": [],
   "source": [
    "# %%time\n",
    "# query = \"SELECT ObjectId \" + \\\n",
    "#         \"FROM dp02_dc2_catalogs.Object \" + \\\n",
    "#         \"WHERE ObjectId = \"+str(myobjectid)+\" \"\n",
    "# results = service.search(query)"
   ]
  },
  {
   "cell_type": "code",
   "execution_count": 16,
   "id": "749573a5-f367-4cb0-9e86-f4ca407552ca",
   "metadata": {},
   "outputs": [],
   "source": [
    "# table = results.to_table()\n",
    "# print(f\"Retrieved catalog of {len(table)} objects.\")"
   ]
  },
  {
   "cell_type": "code",
   "execution_count": 17,
   "id": "fdd5e8d7-3602-45b1-810f-608d32f0384d",
   "metadata": {},
   "outputs": [],
   "source": [
    "# table"
   ]
  },
  {
   "cell_type": "code",
   "execution_count": 18,
   "id": "fbf304d5-fbf8-49e2-87ee-8f2408ab9554",
   "metadata": {},
   "outputs": [],
   "source": [
    "# del query, results, table"
   ]
  },
  {
   "cell_type": "markdown",
   "id": "d7a553ce-a7ef-48c7-8636-4bbfe63b5297",
   "metadata": {},
   "source": [
    "Now forget about knowing tract and patch, and use the RA Dec."
   ]
  },
  {
   "cell_type": "code",
   "execution_count": 19,
   "id": "ecac1b10-cad4-4c13-b64b-cbfe5b79631f",
   "metadata": {},
   "outputs": [
    {
     "name": "stdout",
     "output_type": "stream",
     "text": [
      "CPU times: user 13.5 ms, sys: 34.7 ms, total: 48.2 ms\n",
      "Wall time: 3.5 s\n"
     ]
    }
   ],
   "source": [
    "%%time\n",
    "query = \"SELECT ObjectId \" + \\\n",
    "        \"FROM dp02_dc2_catalogs.Object \" + \\\n",
    "        \"WHERE CONTAINS(POINT('ICRS', coord_ra, coord_dec ), \" + \\\n",
    "        \"CIRCLE('ICRS', 55.6539, -32.19286, 0.01)) = 1 \"\n",
    "results = service.search(query, maxrec=1000)"
   ]
  },
  {
   "cell_type": "code",
   "execution_count": 20,
   "id": "404aaaaa-a11f-4f8a-88da-b6a16da09c39",
   "metadata": {},
   "outputs": [
    {
     "name": "stdout",
     "output_type": "stream",
     "text": [
      "Retrieved catalog of 215 objects.\n"
     ]
    }
   ],
   "source": [
    "table = results.to_table()\n",
    "print(f\"Retrieved catalog of {len(table)} objects.\")"
   ]
  },
  {
   "cell_type": "code",
   "execution_count": 21,
   "id": "dda2515a-1ae4-4172-831c-8356a189f157",
   "metadata": {},
   "outputs": [],
   "source": [
    "# table"
   ]
  },
  {
   "cell_type": "code",
   "execution_count": 22,
   "id": "94a4f83b-044b-4fbf-8efb-93b17dbdf3f8",
   "metadata": {},
   "outputs": [
    {
     "name": "stdout",
     "output_type": "stream",
     "text": [
      "151 1909948454470206951\n",
      "CPU times: user 358 µs, sys: 147 µs, total: 505 µs\n",
      "Wall time: 447 µs\n"
     ]
    }
   ],
   "source": [
    "%%time\n",
    "tx = np.where(table['ObjectId'] == myobjectid)[0]\n",
    "print('FOUNDtx[0], table['ObjectId'][tx[0]])"
   ]
  },
  {
   "cell_type": "code",
   "execution_count": 23,
   "id": "3f078731-e573-4358-ba59-0eaa687082d8",
   "metadata": {},
   "outputs": [],
   "source": [
    "del query, results, table"
   ]
  },
  {
   "cell_type": "code",
   "execution_count": null,
   "id": "9c6709e2-2c3f-4377-bba8-46c4173b2a7e",
   "metadata": {},
   "outputs": [],
   "source": []
  }
 ],
 "metadata": {
  "kernelspec": {
   "display_name": "LSST",
   "language": "python",
   "name": "lsst"
  },
  "language_info": {
   "codemirror_mode": {
    "name": "ipython",
    "version": 3
   },
   "file_extension": ".py",
   "mimetype": "text/x-python",
   "name": "python",
   "nbconvert_exporter": "python",
   "pygments_lexer": "ipython3",
   "version": "3.10.9"
  }
 },
 "nbformat": 4,
 "nbformat_minor": 5
}
