{
 "cells": [
  {
   "cell_type": "markdown",
   "id": "749b0ddf",
   "metadata": {},
   "source": [
    "<img align=\"left\" src = https://project.lsst.org/sites/default/files/Rubin-O-Logo_0.png width=250 style=\"padding: 10px\"> \n",
    "<b>CET Template Notebook</b> <br>\n",
    "Contact author(s): <i>Author Name</i> <br>\n",
    "Last verified to run: <i>yyyy-mm-dd</i> <br>\n",
    "LSST Science Piplines version: Weekly <i>yyyy_xx</i> <br>\n",
    "Container Size: <i>medium</i> <br>\n",
    "Targeted learning level: <i>beginner</i> <br>"
   ]
  },
  {
   "cell_type": "markdown",
   "id": "2d9cd09b-d5c4-4610-993b-711bdc9bd80e",
   "metadata": {},
   "source": [
    "_In this template, text in italics are examples or instructions that should be: (a) removed if it is not applicable to the notebook; or (b) replaced with text that is appropriate for the notebook. But bold or regular text should appear pretty much as-is in all CET notebooks. For more information, see the [CET's Guidelines for Tutorial Notebooks](https://confluence.lsstcorp.org/pages/viewpage.action?pageId=168857070)._"
   ]
  },
  {
   "cell_type": "markdown",
   "id": "582ab507-a7ae-4024-95c9-38aabeb602a6",
   "metadata": {},
   "source": [
    "_While developing, use the following code cell to check that the code conforms to standards, but then delete the cell and \"Kernel --> Restart Kernel and Clear All Outputs\" before saving and committing._"
   ]
  },
  {
   "cell_type": "code",
   "execution_count": 1,
   "id": "7acc79a4-8530-42d9-96e5-b7acb4397864",
   "metadata": {},
   "outputs": [],
   "source": [
    "#%load_ext pycodestyle_magic\n",
    "#%flake8_on\n",
    "#import logging\n",
    "#logging.getLogger(\"flake8\").setLevel(logging.FATAL)"
   ]
  },
  {
   "cell_type": "markdown",
   "id": "482777d8-0a8d-432e-ba53-2da536700407",
   "metadata": {},
   "source": [
    "_The six cells below are considered the extended header of the notebook. The first four will be used, verbatim, to create the table of notebook metadata in the README.md file for the repository._"
   ]
  },
  {
   "cell_type": "markdown",
   "id": "9da1a210-d858-42fe-8591-570965b8be1a",
   "metadata": {},
   "source": [
    "**Description:** _Very brief description of notebook._"
   ]
  },
  {
   "cell_type": "markdown",
   "id": "80a0baf5-51ad-40ec-8991-060a7b27c289",
   "metadata": {},
   "source": [
    "**Skills:** _Brief list of skills to match the README.md file for the repository._"
   ]
  },
  {
   "cell_type": "markdown",
   "id": "393da88f-7978-4920-aa4a-a9830df6eed9",
   "metadata": {},
   "source": [
    "**LSST Data Products:** _List the all of the types of LSST catalogs and images used._"
   ]
  },
  {
   "cell_type": "markdown",
   "id": "5c67fab9-136a-4adc-bb42-142b91ab69dd",
   "metadata": {},
   "source": [
    "**Packages:** _List the python packages used._ (_List the packages being taught first, e.g., afwDisplay for a notebook about displaying images. Then supporting packages, e.g., lsst.daf.butler for a notebook about displaying images. It is OK to leave out basic support packages like os or glob.)_"
   ]
  },
  {
   "cell_type": "markdown",
   "id": "8f72b27f",
   "metadata": {},
   "source": [
    "**Credit:**\n",
    "_E.g., \"Originally developed by\" or \"Based on notebooks developed by\" and then people's names, including journal article or software release citations if appropriate._\n",
    "Please consider acknowledging them if this notebook is used for the preparation of journal articles, software releases, or other notebooks."
   ]
  },
  {
   "cell_type": "markdown",
   "id": "28e91cbf-ab7f-4e26-9276-b00299d6065e",
   "metadata": {},
   "source": [
    "**Get Support:**\n",
    "Find DP0-related documentation and resources at <a href=\"https://dp0-2.lsst.io\">dp0-2.lsst.io</a>. Questions are welcome as new topics in the <a href=\"https://community.lsst.org/c/support/dp0\">Support - Data Preview 0 Category</a> of the Rubin Community Forum. Rubin staff will respond to all questions posted there."
   ]
  },
  {
   "cell_type": "markdown",
   "id": "cfc73be0",
   "metadata": {},
   "source": [
    "## 1. Introduction\n",
    "\n",
    "_Provide a light narrative about this notebook, e.g., \"This notebook will teach the user...\"._\n",
    "\n",
    "_Cite or link to any external information or documentation, and cross-reference to other notebooks._"
   ]
  },
  {
   "cell_type": "markdown",
   "id": "dc36f107",
   "metadata": {},
   "source": [
    "### 1.1 Package Imports\n",
    "\n",
    "_All package imports should be done in the first code cell._\n",
    "\n",
    "_Provide explanation or external links to package documentation, where appropriate._\n",
    "\n",
    "_E.g., Numpy is a fundamental package for scientific computing with arrays in Python (<a href=\"https://numpy.org\">numpy.org</a>)._\n",
    "\n",
    "_Use code cell comments to describe the packages being imported._"
   ]
  },
  {
   "cell_type": "code",
   "execution_count": 2,
   "id": "cddc1458",
   "metadata": {},
   "outputs": [],
   "source": [
    "# general python packages\n",
    "import time\n",
    "import numpy as np\n",
    "import matplotlib.pyplot as plt\n",
    "plt.style.use('tableau-colorblind10')\n",
    "import pandas\n",
    "pandas.set_option('display.max_rows', 1000)\n",
    "\n",
    "# LSST package for TAP queries\n",
    "from lsst.rsp import get_tap_service, retrieve_query\n",
    "\n",
    "# LSST package for Butler queries\n",
    "import lsst.daf.butler as Butler\n",
    "\n",
    "# LSST package for image display\n",
    "import lsst.afw.display as afwDisplay\n",
    "import lsst.geom\n",
    "import lsst.geom as geom\n",
    "\n",
    "import matplotlib.pyplot as plt\n",
    "import gc\n",
    "\n",
    "# Astropy imports\n",
    "from astropy.wcs import WCS\n",
    "from astropy import units as u\n",
    "from astropy.coordinates import SkyCoord\n",
    "from astropy.wcs.utils import skycoord_to_pixel\n",
    "from astropy.visualization import make_lupton_rgb\n",
    "from photutils import * #SkyCircularAperture\n",
    "from astropy.nddata import Cutout2D\n",
    "\n",
    "# Object for multi-band exposures\n",
    "from lsst.afw.image import MultibandExposure\n",
    "\n",
    "afwDisplay.setDefaultBackend('matplotlib')\n",
    "\n",
    "# Set a standard figure size to use\n",
    "plt.rcParams['figure.figsize'] = (8.0, 8.0)\n",
    "\n",
    "plt.style.use('tableau-colorblind10')\n",
    "%matplotlib inline"
   ]
  },
  {
   "cell_type": "markdown",
   "id": "c217adff-25ed-4fce-95e7-8aa04630f6cc",
   "metadata": {},
   "source": [
    "### 1.2 Define Functions and Parameters\n",
    "\n",
    "_If your notebook defines functions or parameters to use later or throughout, do it here in sub-section 1.2._\n",
    "\n",
    "_It is OK to rename the subsection to be more specific to the notebook, and/or to use sub-sub-sections like \"1.2.1 Define global cosmological parameter values\" or \"1.2.2 Define a function to make an image cutout\"._\n",
    "\n",
    "_It is OK to remove this sub-section if it is not being used._"
   ]
  },
  {
   "cell_type": "markdown",
   "id": "ec51ac0b",
   "metadata": {
    "tags": []
   },
   "source": [
    "## 2. Search data for a supernova for which to create image cutouts\n",
    "\n",
    "_Use numbers for sections, sub-sections, and sub-sub-sections to enable referencing, e.g., \"I'm having trouble with the second code cell in Section 2.3.\"_\n",
    "\n",
    "_Use section titles that actively describe what is being done, e.g., \"Create a color-magnitude diagram\" instead of \"Plot\", so that the auto-generated table of contents is easy to navigate._\n",
    "\n",
    "### 2.1 Section Sub-heading\n",
    "\n",
    "#### 2.1.1 Section Sub-sub-heading"
   ]
  },
  {
   "cell_type": "code",
   "execution_count": 3,
   "id": "81b8cd59-1ba3-4eaa-846f-6478ed0c3cf5",
   "metadata": {},
   "outputs": [],
   "source": [
    "service = get_tap_service()\n",
    "assert service is not None"
   ]
  },
  {
   "cell_type": "code",
   "execution_count": 4,
   "id": "e3abfe14-e942-41ba-9550-7af5eb03ad1a",
   "metadata": {},
   "outputs": [],
   "source": [
    "# galaxy cluster coords: 55.6521739130, -31.9834710744\n",
    "# grab a DiaObject identified in Tutorial 07a to be a candidate Type 1a SN with relatively few number of \n",
    "# nDiaSources (frames over which flux varies): RA=51.2332445 Dec=-44.509536 DiaObjID=1248649384967537762\n",
    "#%%time\n",
    "\n",
    "# First setup the search like in tutorial 07a:\n",
    "redshift_min = 0.1\n",
    "redshift_max = 0.3\n",
    "snia_peak_mag = -19.0\n",
    "snia_peak_mag_range = 0.5\n",
    "snia_peak_mg_max = 24.0\n",
    "snia_peak_mi_max = 24.0\n",
    "snia_ampl_mr_min = 1.5\n",
    "snia_ampl_mr_max = 5.5\n",
    "snia_peak_mr_min = 18.82\n",
    "snia_peak_mr_max = 22.46\n",
    "# pick a set on the smaller end of time to make the output cutouts managable:\n",
    "snia_nDiaSources_min = 15\n",
    "snia_nDiaSources_max = 20\n"
   ]
  },
  {
   "cell_type": "code",
   "execution_count": 5,
   "id": "25f4ebf6-f0e1-494a-bf20-dabd2fa82dd4",
   "metadata": {},
   "outputs": [
    {
     "name": "stdout",
     "output_type": "stream",
     "text": [
      "CPU times: user 59.9 ms, sys: 2.93 ms, total: 62.8 ms\n",
      "Wall time: 20.8 s\n"
     ]
    }
   ],
   "source": [
    "%%time\n",
    "\n",
    "# retrieve candidate SN:\n",
    "results = service.search(\"SELECT ra, decl, diaObjectId, nDiaSources, \"\n",
    "                         \"scisql_nanojanskyToAbMag(rPSFluxMin) AS rMagMax, \"\n",
    "                         \"scisql_nanojanskyToAbMag(rPSFluxMax) AS rMagMin, \"\n",
    "                         \"scisql_nanojanskyToAbMag(gPSFluxMax) AS gMagMin, \"\n",
    "                         \"scisql_nanojanskyToAbMag(iPSFluxMax) AS iMagMin, \"\n",
    "                         \"scisql_nanojanskyToAbMag(rPSFluxMin)\"\n",
    "                         \" - scisql_nanojanskyToAbMag(rPSFluxMax) AS rMagAmp \"\n",
    "                         \"FROM dp02_dc2_catalogs.DiaObject \"\n",
    "                         \"WHERE nDiaSources > \"+str(snia_nDiaSources_min)+\" \"\n",
    "                         \"AND nDiaSources < \"+str(snia_nDiaSources_max)+\" \"\n",
    "                         \"AND scisql_nanojanskyToAbMag(rPSFluxMax) > \"+str(snia_peak_mr_min)+\" \"\n",
    "                         \"AND scisql_nanojanskyToAbMag(rPSFluxMax) < \"+str(snia_peak_mr_max)+\" \"\n",
    "                         \"AND scisql_nanojanskyToAbMag(gPSFluxMax) < \"+str(snia_peak_mg_max)+\" \"\n",
    "                         \"AND scisql_nanojanskyToAbMag(iPSFluxMax) < \"+str(snia_peak_mi_max)+\" \"\n",
    "                         \"AND scisql_nanojanskyToAbMag(rPSFluxMin)\"\n",
    "                         \" - scisql_nanojanskyToAbMag(rPSFluxMax) < \"+str(snia_ampl_mr_max)+\" \"\n",
    "                         \"AND scisql_nanojanskyToAbMag(rPSFluxMin)\"\n",
    "                         \" - scisql_nanojanskyToAbMag(rPSFluxMax) > \"+str(snia_ampl_mr_min)+\" \",\n",
    "                         maxrec=1000)\n",
    "\n",
    "#to use visitinfo you have to add to end of query:\n",
    "#\"ON visinfo.ccdVisitId = src.ccdVisitId \"\\\n",
    "#        \"WHERE src.objectId = \"+str(sel_objid)+\" \"\n",
    "\n",
    "DiaObjs = results.to_table().to_pandas()\n",
    "del results"
   ]
  },
  {
   "cell_type": "code",
   "execution_count": 6,
   "id": "cd8ced7f-8b10-4d86-99d0-0b35c96d336e",
   "metadata": {},
   "outputs": [
    {
     "data": {
      "text/html": [
       "<pre style=\"margin: 0.1em;\n",
       "padding-left: 0.25em;\n",
       "border-left-style: solid;\n",
       "font-family: var(--jp-code-font-family);\n",
       "font-size: var(--jp-code-font-size);\n",
       "line-height: var(--jp-code-line-height);\n",
       "\"><span style=\"color: var(--jp-warn-color2)\">botocore.credentials</span> <span style=\"color: var(--jp-info-color0)\">INFO</span>: Found credentials in shared credentials file: /home/christinawilliams/.lsst/aws-credentials.ini</pre>"
      ],
      "text/plain": [
       "<IPython.core.display.HTML object>"
      ]
     },
     "metadata": {},
     "output_type": "display_data"
    }
   ],
   "source": [
    "# Initialize the Butler  \n",
    "config = 'dp02'\n",
    "collection = '2.2i/runs/DP0.2'\n",
    "butler = Butler.Butler(config, collections=collection)\n",
    "registry = butler.registry"
   ]
  },
  {
   "cell_type": "code",
   "execution_count": 7,
   "id": "ae5a8202-0a7a-4386-81b4-c8abe742debd",
   "metadata": {},
   "outputs": [],
   "source": [
    "# look again at DiaSource catalog contents\n",
    "#results = service.search(\"SELECT column_name, datatype, description, unit from TAP_SCHEMA.columns \"\n",
    "#                         \"WHERE table_name = 'dp02_dc2_catalogs.DiaSource'\")\n",
    "#results.to_table().to_pandas()"
   ]
  },
  {
   "cell_type": "code",
   "execution_count": 8,
   "id": "9ae2cb98-085a-4101-93d9-af05fe1b634e",
   "metadata": {},
   "outputs": [],
   "source": [
    "# look again at DiaSource catalog contents\n",
    "#ccdvis = service.search(\"SELECT column_name, datatype, description, unit from TAP_SCHEMA.columns \"\n",
    "#                         \"WHERE table_name = 'dp02_dc2_catalogs.CcdVisit'\")\n",
    "#ccdvis.to_table().to_pandas()"
   ]
  },
  {
   "cell_type": "code",
   "execution_count": 9,
   "id": "702967b3-17e2-48d7-a1e2-0399c22fc622",
   "metadata": {},
   "outputs": [],
   "source": [
    "#query = \"SELECT TOP \" + str(10) + \" \" + \\\n",
    "#        \"diaObjectId, ra, decl, ccdVisitId \" + \\\n",
    "#        \"FROM dp02_dc2_catalogs.DiaSource \" #+ \\\n",
    "\n",
    "#results = service.search(query)\n",
    "#results.to_table().to_pandas()"
   ]
  },
  {
   "cell_type": "code",
   "execution_count": 10,
   "id": "e9e5ef77-7495-44eb-8ddf-a12d307cf9b2",
   "metadata": {},
   "outputs": [
    {
     "name": "stdout",
     "output_type": "stream",
     "text": [
      "1253478440036730088\n",
      "<SkyCoord (ICRS): (ra, dec) in deg\n",
      "    (72.5383603, -44.4248533)>\n"
     ]
    }
   ],
   "source": [
    "# just pick a source to use for the cutouts, like the first one\n",
    "ra, dec = DiaObjs['ra'][0], DiaObjs['decl'][0]\n",
    "sel_objid = DiaObjs['diaObjectId'][0]\n",
    "print(sel_objid)\n",
    "\n",
    "center_coords = SkyCoord(ra, dec, frame='icrs', unit='deg')\n",
    "search_radius = 1.0*u.arcmin\n",
    "use_center_coords = str(ra)+\", \"+str(dec) #\"62, -37\"\n",
    "use_radius = \"0.00028\" #1 arcsec in deg\n",
    "\n",
    "print(center_coords)\n",
    "#print(search_radius)\n",
    "                \n",
    "# find the source using a small search radius, but there are too many DiaSources in a small area (weird)\n",
    "#query = \"SELECT TOP \" + str(20) + \" \" + \\\n",
    "#        \"diaObjectId, ra, decl, coord_ra, coord_dec, ccdVisitId \" + \\\n",
    "#        \"FROM dp02_dc2_catalogs.DiaSource \" + \\\n",
    "#        \"WHERE CONTAINS(POINT('ICRS', ra, decl), \" + \\\n",
    "#        \"CIRCLE('ICRS', \" + use_center_coords + \", \" + use_radius + \")) = 1 \" \n",
    "        \n",
    "#visits = service.search(query)\n",
    "#visits.to_table().to_pandas()\n",
    "\n",
    "# try to figure out if these 2 DiaObj are the same thing or if they are separate SN simulated near eachother\n",
    "# Melissa says search appears ok, but still matches a lot of sources"
   ]
  },
  {
   "cell_type": "code",
   "execution_count": 11,
   "id": "9bab5a0f-2778-4449-a97e-9d93217a568b",
   "metadata": {},
   "outputs": [
    {
     "name": "stdout",
     "output_type": "stream",
     "text": [
      "1253478440036730088\n"
     ]
    }
   ],
   "source": [
    "# find the source by matching the source ID, which gives you the exact source\n",
    "query = \"SELECT TOP \" + str(100) + \" \" + \\\n",
    "        \"diaObjectId, ra, decl, coord_ra, coord_dec, ccdVisitId \" + \\\n",
    "        \"FROM dp02_dc2_catalogs.DiaSource \" + \\\n",
    "        \"WHERE diaObjectId = \" + str(sel_objid) + \" \"\n",
    "print(sel_objid)\n",
    "visits = service.search(query)\n",
    "my_tab = visits.to_table()#.to_pandas()\n",
    "#my_tab['test'] = np.zeros(len(ccdvisit))\n",
    "\n",
    "# adding cols to pandas tables should be straitforward\n",
    "# should be able to join the diasource with ccdvisitid tables. join on ccdvisitid \n",
    "# adql functionality join will do it. see notebook 02."
   ]
  },
  {
   "cell_type": "code",
   "execution_count": 12,
   "id": "97ead404-69b5-4ac6-a5c4-e2649976d3d5",
   "metadata": {},
   "outputs": [],
   "source": [
    "# ccdVisitId != visit\n",
    "\n",
    "# ccdvisittable is a separate catalog that contains all observations and I could use that to extract further info. \n",
    "# get detector and visit from ccdvisittable using ccdvisitid. \n",
    "\n",
    "ccdqu = \"SELECT \"  + \\\n",
    "        \"ccdVisitId, visitId, physical_filter, band, detector, obsStartMJD \" + \\\n",
    "        \"FROM dp02_dc2_catalogs.CcdVisit \" + \\\n",
    "        \"WHERE ccdVisitId = \" + str(visits['ccdVisitId'][0]) + \" \"\n",
    "\n",
    "ccdvisit = service.search(ccdqu)\n",
    "ccdvisit.to_table().to_pandas()\n",
    "\n",
    "my_tab['test'] = np.zeros(len(ccdvisit))"
   ]
  },
  {
   "cell_type": "code",
   "execution_count": 13,
   "id": "8b9d3ae9-02fb-41c6-b8fd-d0317dffc275",
   "metadata": {},
   "outputs": [
    {
     "ename": "SyntaxError",
     "evalue": "'(' was never closed (2344750824.py, line 11)",
     "output_type": "error",
     "traceback": [
      "\u001b[0;36m  Input \u001b[0;32mIn [13]\u001b[0;36m\u001b[0m\n\u001b[0;31m    for j in enumerate(#insert ccd visit id):\u001b[0m\n\u001b[0m                      ^\u001b[0m\n\u001b[0;31mSyntaxError\u001b[0m\u001b[0;31m:\u001b[0m '(' was never closed\n"
     ]
    }
   ],
   "source": [
    "# Write a loop to add these values into one table, so that we can then sort by MJD\n",
    "# visits = DiaObjs\n",
    "#print(visits, len(visits))\n",
    "my_tab['MJD'] = np.zeros(len(visits), dtype='float')\n",
    "#visits.assign(MJD=0).head()\n",
    "my_tab['visit'] = np.zeros(len(visits), dtype='float')\n",
    "my_tab['ccdVisitId_test'] = np.zeros(len(visits), dtype='float')\n",
    "my_tab['detector'] = np.zeros(len(visits), dtype='float')\n",
    "\n",
    "#dont' forget to check Melissa's test NB about imaging in slack\n",
    "for j in enumerate(#insert ccd visit id):\n",
    "    print(j)\n",
    "    ccdqu = \"SELECT \"  + \\\n",
    "        \"ccdVisitId, visitId, physical_filter, band, detector, obsStartMJD \" + \\\n",
    "        \"FROM dp02_dc2_catalogs.CcdVisit \" + \\\n",
    "        \"WHERE ccdVisitId = \" + str(j[1]) + \" \"\n",
    "    ccdvisit = service.search(ccdqu).to_table().to_pandas()\n",
    "    #my_tab2 = ccdvisit\n",
    "\n",
    "    #?\n",
    "    #FSDiaObj['expMidptMJD'][i[0]]=results['expMidptMJD'][0]\n",
    "    print(ccdvisit['obsStartMJD'])\n",
    "    my_tab['MJD'][j[0]] = ccdvisit['obsStartMJD'][0]\n",
    "    my_tab['visit'][j[0]] = ccdvisit['visitId'][0]\n",
    "    my_tab['ccdVisitId_test'][j[0]] = ccdvisit['ccdVisitId'][0]\n",
    "    my_tab['detector'][j[0]] = ccdvisit['detector'][0]\n",
    "    del ccdvisit\n"
   ]
  },
  {
   "cell_type": "code",
   "execution_count": null,
   "id": "322bf5ed-608c-4d2e-b884-d474669ee516",
   "metadata": {},
   "outputs": [],
   "source": [
    "# now try to make the cutout using butler\n",
    "# And, center on the DiaObject, not the detector center...\n",
    "\n",
    "print(visits['ccdVisitId'][0])\n",
    "datasetType = 'calexp'\n",
    "\n",
    "#data id for calexp are structured as visit and detector. \n",
    "dataId = {'visit': ccdvisit['visitId'][0], 'detector': ccdvisit['detector'][0]}\n",
    "calexp = butler.get(datasetType, dataId=dataId)\n",
    "wcs = WCS(calexp.getWcs().getFitsMetadata())\n",
    "#fig = plt.figure()\n",
    "\n",
    "\n",
    "# Define the extent in pixel coordinates using the bounding box\n",
    "calexp_extent = (calexp.getBBox().beginX, calexp.getBBox().endX,\n",
    "                 calexp.getBBox().beginY, calexp.getBBox().endY)\n",
    "\n",
    "#centerx = int(calexp.getBBox().endX / 2.)\n",
    "#centery = int(calexp.getBBox().endY / 2.)\n",
    "\n",
    "\n",
    "# length in pixels of the side of image\n",
    "figside = 1000\n",
    "\n",
    "#[centerx-figside:centerx+figside, centery-figside:centery+figside]#[centery-1000:centery+1000]\n",
    "# Display the calexp image data array using the gray colormap (cmap)\n",
    "#  and use approximately the same min and max scale values as above\n",
    "#im = plt.imshow(calexp.image.array, cmap='gray', vmin=-200.0, vmax=400,\n",
    "#                extent=calexp_extent, origin='lower')\n",
    "\n",
    "print(calexp.image.array.shape)\n",
    "#plt.subplot(projection=WCS(calexp.getWcs().getFitsMetadata()))\n",
    "\n",
    "cutout = Cutout2D(calexp.image.array, center_coords, (figside, figside), wcs=wcs)\n",
    "plt.subplot(projection=cutout.wcs)\n",
    "\n",
    "plt.imshow(cutout.data, origin='lower',cmap='gray', vmin=-200.0, vmax=400)\n",
    "\n",
    "plt.xlabel('Right Ascension')\n",
    "plt.ylabel('Declination')\n",
    "\n",
    "plt.show()\n",
    "\n",
    "\n",
    "\n",
    "\n",
    "# sanity check:\n",
    "# Set the figure's projection to be the WCS of the calexp\n",
    "plt.subplot(projection=WCS(calexp.getWcs().getFitsMetadata()))\n",
    "\n",
    "im = plt.imshow(calexp.image.array, cmap='gray', vmin=-200.0, vmax=400,extent=calexp_extent, origin='lower')\n",
    "\n",
    "cutout.plot_on_original(color='white')\n",
    "\n",
    "# these plots all have WCS issues, and they rotate between notebook runs\n",
    "radius=2\n",
    "aperture = SkyCircularAperture(center_coords, r=radius*u.arcsec)\n",
    "pix_aperture = aperture.to_pixel(wcs)\n",
    "pix_aperture.plot(color='b',lw=3)\n",
    "plt.xlabel('Right Ascension')\n",
    "plt.ylabel('Declination')\n",
    "\n",
    "plt.show()\n",
    "\n",
    "\n",
    "\n",
    "#im = plt.imshow(subfig, cmap='gray', vmin=-200.0, vmax=400,origin='lower')\n",
    "#\n",
    "#FOV = np.array([1000.,1000.])\n",
    "#size = u.Quantity((FOV[0],FOV[1]),u.arcsec)\n",
    "#wcs = WCS(calexp.getWcs().getFitsMetadata())\n",
    "#cutout = Cutout2D(subfig,center_coords,size,wcs=wcs)\n",
    "#wcs_cut = cutout.wcs\n",
    "#plt.title(label)\n",
    "#plt.imshow(cutout.data,cmap='gray')#), origin='lower', \n",
    "#x,y = skycoord_to_pixel(center_coords, wcs)\n",
    "#positions = skycoord_to_pixel(center_coords, wcs)\n",
    "#print(\"x = \",x)\n",
    "#print(\"y = \",y)\n",
    "#print(\"center_coords\",center_coords)\n",
    "#subfig = calexp.image.array[int(x)-figside:int(x)+figside, int(y)-figside:int(y)+figside]\n",
    "#im = plt.imshow(subfig, cmap='gray', vmin=-200.0, vmax=400,origin='lower')\n",
    "\n",
    "\n",
    "# Find a way to do this by adjusting the WCS and plotting around RA/Dec\n",
    "#positions = [(figside,figside)]\n",
    "#aperture = CircularAperture(positions,r=15)\n",
    "#aperture.plot(color='b',lw=3)\n",
    "\n",
    "\n",
    "\n",
    "\n",
    "\n",
    "\n",
    "#fig = plt.figure()\n",
    "#display = afwDisplay.Display(frame=fig)\n",
    "#display.scale('asinh', 'zscale')\n",
    "#display.mtv(calexp.image)\n"
   ]
  },
  {
   "cell_type": "code",
   "execution_count": null,
   "id": "0b12dc0e-66ea-46dc-acb0-0919a61faefb",
   "metadata": {},
   "outputs": [],
   "source": [
    "print(visits['ccdVisitId'][0])\n",
    "datasetType = 'calexp'\n",
    "\n",
    "#data id for calexp are structured as visit and detector. \n",
    "dataId = {'visit': ccdvisit['visitId'][0], 'detector': ccdvisit['detector'][0]}\n",
    "calexp = butler.get(datasetType, dataId=dataId)\n"
   ]
  },
  {
   "cell_type": "code",
   "execution_count": null,
   "id": "fd6b295f-75d8-4da8-80c9-2ca8693fe43b",
   "metadata": {},
   "outputs": [],
   "source": [
    "#Now try to loop over the different cutouts\n",
    "# this doens't work! Its because the detectors don't center in the same place and don't center on the DiAObject\n",
    "# length in pixels of the side of image\n",
    "figside = 500\n",
    "\n",
    "for i in range(10):\n",
    "    ccdqu = \"SELECT TOP \" + str(10) + \" \" + \\\n",
    "            \"ccdVisitId, visitId, physical_filter, band, detector, obsStartMJD \" + \\\n",
    "            \"FROM dp02_dc2_catalogs.CcdVisit \" + \\\n",
    "            \"WHERE ccdVisitId = \" + str(visits['ccdVisitId'][i]) + \" \"\n",
    "\n",
    "    ccdvisit = service.search(ccdqu)\n",
    "    ccdvisit.to_table().to_pandas()\n",
    "\n",
    "    print(i, ccdvisit['band'][0], ccdvisit['physical_filter'][0],ccdvisit['detector'][0])\n",
    "\n",
    "    #data id for calexp are structured as visit and detector. \n",
    "    dataId = {'visit': ccdvisit['visitId'][0], 'detector': ccdvisit['detector'][0]}\n",
    "    calexp = butler.get(datasetType, dataId=dataId)\n",
    "\n",
    "    wcs = WCS(calexp.getWcs().getFitsMetadata())\n",
    "    \n",
    "    # need to define extent as in the NB03. It is requred to make the wcs in the plot correctly and also the grid lines.\n",
    "    # see Melissa's test NB about this she sent you on slack\n",
    "    \n",
    "    \n",
    "    # Set the figure's projection to be the WCS of the calexp\n",
    "    plt.subplot(projection=wcs)\n",
    "    cutout = Cutout2D(calexp.image.array, center_coords, (figside, figside), wcs=wcs)\n",
    "    plt.subplot(projection=cutout.wcs)\n",
    "    plt.imshow(cutout.data, origin='lower',cmap='gray', vmin=-200.0, vmax=400)\n",
    "\n",
    "    plt.xlabel('Right Ascension')\n",
    "    plt.ylabel('Declination')\n",
    "\n",
    "    plt.show()\n",
    "\n",
    "    \n",
    "    # sanity check:\n",
    "    # Set the figure's projection to be the WCS of the calexp\n",
    "    plt.subplot(projection=WCS(calexp.getWcs().getFitsMetadata()))\n",
    "\n",
    "    im = plt.imshow(calexp.image.array, cmap='gray', vmin=-200.0, vmax=400,extent=calexp_extent, origin='lower')\n",
    "\n",
    "    cutout.plot_on_original(color='white')\n",
    "\n",
    "    # these plots all have WCS issues, and they rotate between notebook runs\n",
    "    radius=2\n",
    "    aperture = SkyCircularAperture(center_coords, r=radius*u.arcsec)\n",
    "    pix_aperture = aperture.to_pixel(wcs)\n",
    "    pix_aperture.plot(color='b',lw=3)\n",
    "    plt.xlabel('Right Ascension')\n",
    "    plt.ylabel('Declination')\n",
    "\n",
    "    plt.show()\n",
    "\n",
    "    \n",
    "    \n",
    "    "
   ]
  },
  {
   "cell_type": "code",
   "execution_count": null,
   "id": "8b63ac76-0fdb-433d-bc1f-52efcc751f9b",
   "metadata": {},
   "outputs": [],
   "source": [
    "    # Define the extent in pixel coordinates using the bounding box\n",
    "    #calexp_extent = (calexp.getBBox().beginX, calexp.getBBox().endX,\n",
    "    #                 calexp.getBBox().beginY, calexp.getBBox().endY)\n",
    "\n",
    "    #centerx = int(calexp.getBBox().endX / 2.)\n",
    "    #centery = int(calexp.getBBox().endY / 2.)\n",
    "\n",
    "    x,y = skycoord_to_pixel(center_coords, wcs)\n",
    "    positions = skycoord_to_pixel(center_coords, wcs)\n",
    "    print(\"x = \",x)\n",
    "    print(\"y = \",y)\n",
    "    print(\"center_coords\",center_coords)\n",
    "    subfig = calexp.image.array[int(x)-figside:int(x)+figside, int(y)-figside:int(y)+figside]\n",
    "    im = plt.imshow(subfig, cmap='gray', vmin=-200.0, vmax=400,origin='lower')\n",
    "\n",
    "\n",
    "    # Find a way to do this by adjusting the WCS and plotting around RA/Dec\n",
    "    positions = [(figside,figside)]\n",
    "    aperture = CircularAperture(positions,r=15)\n",
    "    aperture.plot(color='b',lw=3)\n",
    "\n",
    "\n",
    "    #subfig = calexp.image.array[centerx-figside:centerx+figside, centery-figside:centery+figside]#[centery-1000:centery+1000]\n",
    "\n",
    "    #im = plt.imshow(subfig, cmap='gray', vmin=-200.0, vmax=400,origin='lower')\n",
    "\n",
    "    plt.xlabel('Right Ascension')\n",
    "    plt.ylabel('Declination')\n",
    "    plt.show()"
   ]
  },
  {
   "cell_type": "code",
   "execution_count": null,
   "id": "d0978258-f2b2-47f3-9059-fe84d521c3ba",
   "metadata": {},
   "outputs": [],
   "source": [
    "# the following is testing junk\n",
    "\n",
    "# now try to make the cutout using butler\n",
    "radec = lsst.geom.SpherePoint(ra*lsst.geom.degrees,dec*lsst.geom.degrees)\n",
    "\n",
    "skymap = butler.get('skyMap')\n",
    "#cutout = cutout_coadd(butler, ra, dec, band='g', datasetType='deepCoadd', cutoutSideLength=1000)\n",
    "\n",
    "# To get the visits used to contruct the deepCoadd\n",
    "#unique_visits = list(set([i['visit'] for i in cutout.getInfo().getCoaddInputs().ccds]))\n",
    "\n",
    "\n",
    "# Look up the tract, patch for the RA, Dec \n",
    "# Looks like tract and patch are NOT identifiers used for calexp. Must be DeepCoadd only\n",
    "tractInfo = skymap.findTract(radec)\n",
    "my_patch = tractInfo.findPatch(radec)\n",
    "\n",
    "# note you can't specify both band and visit, because a visit only observes in 1 band\n",
    "#dataId = {'visit': visits['ccdVisitId'][0], 'detector': 175}#, 'tract': tractInfo, 'patch': my_patch}\n",
    "\n",
    "# The above has some error related to the visit #, so try test obs from tutorial 04b:\n",
    "dataId = {'visit': 192350, 'detector': 175}\n",
    "print(butler.registry.getDatasetType('calexp'))\n",
    "\n",
    "\n",
    "# Select a position at roughly the center of the galaxy cluster:\n",
    "cutout_image = cutout_coadd(butler, ra, dec, datasetType='calexp',\n",
    "                            cutoutSideLength=50, dataId=dataId)\n",
    "\n",
    "print(cutout_image.image)\n",
    "#fig, ax = plt.subplots()\n",
    "#display = afwDisplay.Display(frame=fig)\n",
    "#display.scale('asinh', 'zscale')\n",
    "#display.mtv(cutout_image.image)\n",
    "#plt.imshow(cutout_image.image)\n",
    "#plt.show()\n",
    "#remove_figure(fig)\n",
    "np.shape(cutout_image.image)\n",
    "\n",
    "# deep coadd, we dont' want this because we want the individual time slices\n",
    "#my_deepCoadd = butler.get('deepCoadd', dataId=dataId)\n",
    "# datasetType of calexp = processed visit images, we want this for time series\n",
    "#exposures = butler.get('calexp', dataId=dataId)\n",
    "\n",
    "#xy = geom.PointI(tractInfo.getWcs().skyToPixel(radec))\n",
    "#bbox = geom.BoxI(xy - cutoutSize // 2, cutoutSize)\n",
    "#patch = tractInfo.getSequentialPatchIndex(patchInfo)\n",
    "\n",
    "#coaddId = {'tract': tractInfo.getId(), 'patch': patch, 'band': band}\n",
    "#parameters = {'bbox': bbox}\n",
    "\n",
    "#cutout_image = butler.get(datasetType, parameters=parameters,\n",
    "#                           dataId=coaddId)"
   ]
  },
  {
   "cell_type": "code",
   "execution_count": null,
   "id": "fd220d7d-67a4-407b-bef5-a2c97dd150b6",
   "metadata": {},
   "outputs": [],
   "source": []
  },
  {
   "cell_type": "code",
   "execution_count": null,
   "id": "bbeca826-67d3-400e-9bfa-fab15bc373cc",
   "metadata": {},
   "outputs": [],
   "source": [
    "cutout_image.image[1]"
   ]
  },
  {
   "cell_type": "code",
   "execution_count": null,
   "id": "d84357d7-f00a-45e2-bf76-d8b3be0cc7b4",
   "metadata": {},
   "outputs": [],
   "source": []
  },
  {
   "cell_type": "code",
   "execution_count": null,
   "id": "57147939-5518-4712-bf1b-e38968ba9c37",
   "metadata": {},
   "outputs": [],
   "source": []
  }
 ],
 "metadata": {
  "kernelspec": {
   "display_name": "LSST",
   "language": "python",
   "name": "lsst"
  },
  "language_info": {
   "codemirror_mode": {
    "name": "ipython",
    "version": 3
   },
   "file_extension": ".py",
   "mimetype": "text/x-python",
   "name": "python",
   "nbconvert_exporter": "python",
   "pygments_lexer": "ipython3",
   "version": "3.10.5"
  },
  "toc-autonumbering": false
 },
 "nbformat": 4,
 "nbformat_minor": 5
}
