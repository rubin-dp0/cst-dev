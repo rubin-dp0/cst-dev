{
 "cells": [
  {
   "cell_type": "markdown",
   "id": "749b0ddf",
   "metadata": {},
   "source": [
    "<img align=\"left\" src = https://project.lsst.org/sites/default/files/Rubin-O-Logo_0.png width=250 style=\"padding: 10px\"> \n",
    "<b>CET Template Notebook</b> <br>\n",
    "Contact author(s): <i>Author Name</i> <br>\n",
    "Last verified to run: <i>yyyy-mm-dd</i> <br>\n",
    "LSST Science Piplines version: Weekly <i>yyyy_xx</i> <br>\n",
    "Container Size: <i>medium</i> <br>\n",
    "Targeted learning level: <i>beginner</i> <br>"
   ]
  },
  {
   "cell_type": "markdown",
   "id": "2d9cd09b-d5c4-4610-993b-711bdc9bd80e",
   "metadata": {},
   "source": [
    "_In this template, text in italics are examples or instructions that should be: (a) removed if it is not applicable to the notebook; or (b) replaced with text that is appropriate for the notebook. But bold or regular text should appear pretty much as-is in all CET notebooks. For more information, see the [CET's Guidelines for Tutorial Notebooks](https://confluence.lsstcorp.org/pages/viewpage.action?pageId=168857070)._"
   ]
  },
  {
   "cell_type": "markdown",
   "id": "582ab507-a7ae-4024-95c9-38aabeb602a6",
   "metadata": {},
   "source": [
    "_While developing, use the following code cell to check that the code conforms to standards, but then delete the cell and \"Kernel --> Restart Kernel and Clear All Outputs\" before saving and committing._"
   ]
  },
  {
   "cell_type": "code",
   "execution_count": 1,
   "id": "7acc79a4-8530-42d9-96e5-b7acb4397864",
   "metadata": {},
   "outputs": [],
   "source": [
    "#%load_ext pycodestyle_magic\n",
    "#%flake8_on\n",
    "#import logging\n",
    "#logging.getLogger(\"flake8\").setLevel(logging.FATAL)"
   ]
  },
  {
   "cell_type": "markdown",
   "id": "482777d8-0a8d-432e-ba53-2da536700407",
   "metadata": {},
   "source": [
    "_The six cells below are considered the extended header of the notebook. The first four will be used, verbatim, to create the table of notebook metadata in the README.md file for the repository._"
   ]
  },
  {
   "cell_type": "markdown",
   "id": "9da1a210-d858-42fe-8591-570965b8be1a",
   "metadata": {},
   "source": [
    "**Description:** _Very brief description of notebook._"
   ]
  },
  {
   "cell_type": "markdown",
   "id": "80a0baf5-51ad-40ec-8991-060a7b27c289",
   "metadata": {},
   "source": [
    "**Skills:** _Brief list of skills to match the README.md file for the repository._"
   ]
  },
  {
   "cell_type": "markdown",
   "id": "393da88f-7978-4920-aa4a-a9830df6eed9",
   "metadata": {},
   "source": [
    "**LSST Data Products:** _List the all of the types of LSST catalogs and images used._"
   ]
  },
  {
   "cell_type": "markdown",
   "id": "5c67fab9-136a-4adc-bb42-142b91ab69dd",
   "metadata": {},
   "source": [
    "**Packages:** _List the python packages used._ (_List the packages being taught first, e.g., afwDisplay for a notebook about displaying images. Then supporting packages, e.g., lsst.daf.butler for a notebook about displaying images. It is OK to leave out basic support packages like os or glob.)_"
   ]
  },
  {
   "cell_type": "markdown",
   "id": "8f72b27f",
   "metadata": {},
   "source": [
    "**Credit:**\n",
    "_E.g., \"Originally developed by\" or \"Based on notebooks developed by\" and then people's names, including journal article or software release citations if appropriate._\n",
    "Please consider acknowledging them if this notebook is used for the preparation of journal articles, software releases, or other notebooks."
   ]
  },
  {
   "cell_type": "markdown",
   "id": "28e91cbf-ab7f-4e26-9276-b00299d6065e",
   "metadata": {},
   "source": [
    "**Get Support:**\n",
    "Find DP0-related documentation and resources at <a href=\"https://dp0-2.lsst.io\">dp0-2.lsst.io</a>. Questions are welcome as new topics in the <a href=\"https://community.lsst.org/c/support/dp0\">Support - Data Preview 0 Category</a> of the Rubin Community Forum. Rubin staff will respond to all questions posted there."
   ]
  },
  {
   "cell_type": "markdown",
   "id": "cfc73be0",
   "metadata": {},
   "source": [
    "## 1. Introduction\n",
    "\n",
    "_Provide a light narrative about this notebook, e.g., \"This notebook will teach the user...\"._\n",
    "\n",
    "_Cite or link to any external information or documentation, and cross-reference to other notebooks._"
   ]
  },
  {
   "cell_type": "markdown",
   "id": "dc36f107",
   "metadata": {},
   "source": [
    "### 1.1 Package Imports\n",
    "\n",
    "_All package imports should be done in the first code cell._\n",
    "\n",
    "_Provide explanation or external links to package documentation, where appropriate._\n",
    "\n",
    "_E.g., Numpy is a fundamental package for scientific computing with arrays in Python (<a href=\"https://numpy.org\">numpy.org</a>)._\n",
    "\n",
    "_Use code cell comments to describe the packages being imported._"
   ]
  },
  {
   "cell_type": "code",
   "execution_count": 8,
   "id": "cddc1458",
   "metadata": {},
   "outputs": [],
   "source": [
    "# general python packages\n",
    "import time\n",
    "import numpy as np\n",
    "import matplotlib.pyplot as plt\n",
    "plt.style.use('tableau-colorblind10')\n",
    "import pandas\n",
    "pandas.set_option('display.max_rows', 1000)\n",
    "\n",
    "# LSST package for TAP queries\n",
    "from lsst.rsp import get_tap_service, retrieve_query\n",
    "\n",
    "# LSST package for Butler queries\n",
    "import lsst.daf.butler as Butler\n",
    "\n",
    "# LSST package for image display\n",
    "import lsst.afw.display as afwDisplay\n",
    "import lsst.geom\n"
   ]
  },
  {
   "cell_type": "markdown",
   "id": "c217adff-25ed-4fce-95e7-8aa04630f6cc",
   "metadata": {},
   "source": [
    "### 1.2 Define Functions and Parameters\n",
    "\n",
    "_If your notebook defines functions or parameters to use later or throughout, do it here in sub-section 1.2._\n",
    "\n",
    "_It is OK to rename the subsection to be more specific to the notebook, and/or to use sub-sub-sections like \"1.2.1 Define global cosmological parameter values\" or \"1.2.2 Define a function to make an image cutout\"._\n",
    "\n",
    "_It is OK to remove this sub-section if it is not being used._"
   ]
  },
  {
   "cell_type": "markdown",
   "id": "ec51ac0b",
   "metadata": {
    "tags": []
   },
   "source": [
    "## 2. Search data for a supernova for which to create image cutouts\n",
    "\n",
    "_Use numbers for sections, sub-sections, and sub-sub-sections to enable referencing, e.g., \"I'm having trouble with the second code cell in Section 2.3.\"_\n",
    "\n",
    "_Use section titles that actively describe what is being done, e.g., \"Create a color-magnitude diagram\" instead of \"Plot\", so that the auto-generated table of contents is easy to navigate._\n",
    "\n",
    "### 2.1 Section Sub-heading\n",
    "\n",
    "#### 2.1.1 Section Sub-sub-heading"
   ]
  },
  {
   "cell_type": "code",
   "execution_count": 3,
   "id": "81b8cd59-1ba3-4eaa-846f-6478ed0c3cf5",
   "metadata": {},
   "outputs": [],
   "source": [
    "service = get_tap_service()\n",
    "assert service is not None"
   ]
  },
  {
   "cell_type": "code",
   "execution_count": 4,
   "id": "e3abfe14-e942-41ba-9550-7af5eb03ad1a",
   "metadata": {},
   "outputs": [],
   "source": [
    "# galaxy cluster coords: 55.6521739130, -31.9834710744\n",
    "# grab a DiaObject identified in Tutorial 07a to be a candidate Type 1a SN with relatively few number of \n",
    "# nDiaSources (frames over which flux varies): RA=51.2332445 Dec=-44.509536 DiaObjID=1248649384967537762\n",
    "#%%time\n",
    "\n",
    "# First setup the search like in tutorial 07a:\n",
    "redshift_min = 0.1\n",
    "redshift_max = 0.3\n",
    "snia_peak_mag = -19.0\n",
    "snia_peak_mag_range = 0.5\n",
    "snia_peak_mg_max = 24.0\n",
    "snia_peak_mi_max = 24.0\n",
    "snia_ampl_mr_min = 1.5\n",
    "snia_ampl_mr_max = 5.5\n",
    "snia_peak_mr_min = 18.82\n",
    "snia_peak_mr_max = 22.46\n",
    "# pick a set on the smaller end of time to make the output cutouts managable:\n",
    "snia_nDiaSources_min = 15\n",
    "snia_nDiaSources_max = 20\n",
    "\n",
    "\n",
    "   "
   ]
  },
  {
   "cell_type": "code",
   "execution_count": 6,
   "id": "25f4ebf6-f0e1-494a-bf20-dabd2fa82dd4",
   "metadata": {},
   "outputs": [
    {
     "name": "stdout",
     "output_type": "stream",
     "text": [
      "CPU times: user 52 ms, sys: 2.16 ms, total: 54.1 ms\n",
      "Wall time: 6.58 s\n"
     ]
    }
   ],
   "source": [
    "%%time\n",
    "\n",
    "results = service.search(\"SELECT ra, decl, diaObjectId, nDiaSources, \"\n",
    "                         \"scisql_nanojanskyToAbMag(rPSFluxMin) AS rMagMax, \"\n",
    "                         \"scisql_nanojanskyToAbMag(rPSFluxMax) AS rMagMin, \"\n",
    "                         \"scisql_nanojanskyToAbMag(gPSFluxMax) AS gMagMin, \"\n",
    "                         \"scisql_nanojanskyToAbMag(iPSFluxMax) AS iMagMin, \"\n",
    "                         \"scisql_nanojanskyToAbMag(rPSFluxMin)\"\n",
    "                         \" - scisql_nanojanskyToAbMag(rPSFluxMax) AS rMagAmp \"\n",
    "                         \"FROM dp02_dc2_catalogs.DiaObject \"\n",
    "                         \"WHERE nDiaSources > \"+str(snia_nDiaSources_min)+\" \"\n",
    "                         \"AND nDiaSources < \"+str(snia_nDiaSources_max)+\" \"\n",
    "                         \"AND scisql_nanojanskyToAbMag(rPSFluxMax) > \"+str(snia_peak_mr_min)+\" \"\n",
    "                         \"AND scisql_nanojanskyToAbMag(rPSFluxMax) < \"+str(snia_peak_mr_max)+\" \"\n",
    "                         \"AND scisql_nanojanskyToAbMag(gPSFluxMax) < \"+str(snia_peak_mg_max)+\" \"\n",
    "                         \"AND scisql_nanojanskyToAbMag(iPSFluxMax) < \"+str(snia_peak_mi_max)+\" \"\n",
    "                         \"AND scisql_nanojanskyToAbMag(rPSFluxMin)\"\n",
    "                         \" - scisql_nanojanskyToAbMag(rPSFluxMax) < \"+str(snia_ampl_mr_max)+\" \"\n",
    "                         \"AND scisql_nanojanskyToAbMag(rPSFluxMin)\"\n",
    "                         \" - scisql_nanojanskyToAbMag(rPSFluxMax) > \"+str(snia_ampl_mr_min)+\" \",\n",
    "                         maxrec=1000)\n",
    "\n",
    "DiaObjs = results.to_table()\n",
    "del results"
   ]
  },
  {
   "cell_type": "code",
   "execution_count": 4,
   "id": "486a3822-5ab5-42c9-8565-917e55d4537d",
   "metadata": {},
   "outputs": [
    {
     "data": {
      "text/html": [
       "<div><i>Table length=1000</i>\n",
       "<table id=\"table139998818866448\" class=\"table-striped table-bordered table-condensed\">\n",
       "<thead><tr><th>ra</th><th>decl</th><th>diaObjectId</th><th>nDiaSources</th><th>rMagMax</th><th>rMagMin</th><th>gMagMin</th><th>iMagMin</th><th>rMagAmp</th></tr></thead>\n",
       "<thead><tr><th>deg</th><th>deg</th><th></th><th></th><th></th><th></th><th></th><th></th><th></th></tr></thead>\n",
       "<thead><tr><th>float64</th><th>float64</th><th>int64</th><th>int64</th><th>float64</th><th>float64</th><th>float64</th><th>float64</th><th>float64</th></tr></thead>\n",
       "<tr><td>51.2332445</td><td>-44.509536</td><td>1248649384967537762</td><td>19</td><td>23.735368714085325</td><td>18.97590373930018</td><td>18.198346264103098</td><td>19.814439457113927</td><td>4.759464974785146</td></tr>\n",
       "<tr><td>51.6735058</td><td>-44.4932479</td><td>1248631792781492328</td><td>19</td><td>23.58561832547451</td><td>19.59055504249835</td><td>20.143623389883878</td><td>22.03210883958532</td><td>3.995063282976158</td></tr>\n",
       "<tr><td>59.6711869</td><td>-44.5760311</td><td>1250364623106867975</td><td>17</td><td>21.19770251002847</td><td>19.55007375592156</td><td>18.63866129605477</td><td>17.218179024838108</td><td>1.6476287541069112</td></tr>\n",
       "<tr><td>59.2766834</td><td>-44.5136323</td><td>1250373419199889677</td><td>18</td><td>23.38321000558014</td><td>21.69423956763242</td><td>21.259810263411886</td><td>22.32197599532804</td><td>1.6889704379477202</td></tr>\n",
       "<tr><td>68.8790005</td><td>-44.5228684</td><td>1252546054176374863</td><td>17</td><td>24.942905167752485</td><td>20.440392039021507</td><td>17.970678999672423</td><td>20.99523478783776</td><td>4.502513128730978</td></tr>\n",
       "<tr><td>60.368959</td><td>-44.582947</td><td>1250830816037045527</td><td>19</td><td>23.532239879577165</td><td>21.099157003887804</td><td>21.811210109072316</td><td>21.60654191540347</td><td>2.4330828756893617</td></tr>\n",
       "<tr><td>55.9495772</td><td>-44.549466</td><td>1249977595013890139</td><td>18</td><td>26.580919769065176</td><td>22.375728744981714</td><td>23.05708741170058</td><td>23.307145527229494</td><td>4.205191024083462</td></tr>\n",
       "<tr><td>55.9495772</td><td>-44.549466</td><td>1249493809897668676</td><td>18</td><td>26.580919769065176</td><td>22.375728744981714</td><td>23.05708741170058</td><td>23.307145527229494</td><td>4.205191024083462</td></tr>\n",
       "<tr><td>58.364162</td><td>-44.1181437</td><td>1250522952781267809</td><td>17</td><td>22.631925873915556</td><td>20.99562160930163</td><td>22.433588650756846</td><td>22.19102931432389</td><td>1.6363042646139263</td></tr>\n",
       "<tr><td>...</td><td>...</td><td>...</td><td>...</td><td>...</td><td>...</td><td>...</td><td>...</td><td>...</td></tr>\n",
       "<tr><td>51.8177002</td><td>-38.4959731</td><td>1565458267348402285</td><td>17</td><td>23.13089884276564</td><td>20.92346044626115</td><td>19.824812136069326</td><td>18.797297919158165</td><td>2.2074383965044895</td></tr>\n",
       "<tr><td>66.3321803</td><td>-31.8810868</td><td>1912587282376819529</td><td>19</td><td>22.893648360862706</td><td>21.08347240254283</td><td>21.933146098951546</td><td>21.96599929472241</td><td>1.8101759583198742</td></tr>\n",
       "<tr><td>71.3939544</td><td>-31.7764732</td><td>1913950676795261493</td><td>18</td><td>23.486911600361363</td><td>20.004571909784307</td><td>19.589012188239217</td><td>20.01660516125621</td><td>3.4823396905770565</td></tr>\n",
       "<tr><td>69.0043261</td><td>-30.6380894</td><td>2002588906180051714</td><td>17</td><td>22.84798215702858</td><td>18.949338054260537</td><td>19.82236278716137</td><td>19.06008914583566</td><td>3.898644102768042</td></tr>\n",
       "<tr><td>68.8849783</td><td>-30.463648</td><td>2002659274924228663</td><td>19</td><td>26.15160695373919</td><td>21.627972651263526</td><td>22.053897067313372</td><td>22.044147598072062</td><td>4.523634302475664</td></tr>\n",
       "<tr><td>52.4133053</td><td>-31.6746829</td><td>1909200786563268902</td><td>19</td><td>23.04442976723068</td><td>20.839322858236596</td><td>21.614984379039928</td><td>21.89651458604716</td><td>2.205106908994086</td></tr>\n",
       "<tr><td>52.4426765</td><td>-31.5452786</td><td>1909262359214424164</td><td>17</td><td>21.844564323703107</td><td>18.91588600591735</td><td>19.635504952092397</td><td>19.516017068176986</td><td>2.9286783177857565</td></tr>\n",
       "<tr><td>69.3945584</td><td>-32.4504723</td><td>1913343746376729122</td><td>16</td><td>23.593539451860007</td><td>21.853641528111144</td><td>22.68202574859196</td><td>21.74879624943849</td><td>1.7398979237488632</td></tr>\n",
       "<tr><td>69.5940168</td><td>-32.3545062</td><td>1913334950283710261</td><td>16</td><td>21.42981898578529</td><td>19.188719721392676</td><td>22.508767483231924</td><td>19.914301681060664</td><td>2.241099264392613</td></tr>\n",
       "<tr><td>52.9655662</td><td>-40.3516402</td><td>1404181901786219310</td><td>19</td><td>23.55646575343366</td><td>21.7243328453368</td><td>22.23119732203634</td><td>22.03628490133859</td><td>1.8321329080968596</td></tr>\n",
       "</table></div>"
      ],
      "text/plain": [
       "<Table length=1000>\n",
       "    ra         decl    ...      iMagMin            rMagAmp      \n",
       "   deg         deg     ...                                      \n",
       " float64     float64   ...      float64            float64      \n",
       "---------- ----------- ... ------------------ ------------------\n",
       "51.2332445  -44.509536 ... 19.814439457113927  4.759464974785146\n",
       "51.6735058 -44.4932479 ...  22.03210883958532  3.995063282976158\n",
       "59.6711869 -44.5760311 ... 17.218179024838108 1.6476287541069112\n",
       "59.2766834 -44.5136323 ...  22.32197599532804 1.6889704379477202\n",
       "68.8790005 -44.5228684 ...  20.99523478783776  4.502513128730978\n",
       " 60.368959  -44.582947 ...  21.60654191540347 2.4330828756893617\n",
       "55.9495772  -44.549466 ... 23.307145527229494  4.205191024083462\n",
       "55.9495772  -44.549466 ... 23.307145527229494  4.205191024083462\n",
       " 58.364162 -44.1181437 ...  22.19102931432389 1.6363042646139263\n",
       "       ...         ... ...                ...                ...\n",
       "51.8177002 -38.4959731 ... 18.797297919158165 2.2074383965044895\n",
       "66.3321803 -31.8810868 ...  21.96599929472241 1.8101759583198742\n",
       "71.3939544 -31.7764732 ...  20.01660516125621 3.4823396905770565\n",
       "69.0043261 -30.6380894 ...  19.06008914583566  3.898644102768042\n",
       "68.8849783  -30.463648 ... 22.044147598072062  4.523634302475664\n",
       "52.4133053 -31.6746829 ...  21.89651458604716  2.205106908994086\n",
       "52.4426765 -31.5452786 ... 19.516017068176986 2.9286783177857565\n",
       "69.3945584 -32.4504723 ...  21.74879624943849 1.7398979237488632\n",
       "69.5940168 -32.3545062 ... 19.914301681060664  2.241099264392613\n",
       "52.9655662 -40.3516402 ...  22.03628490133859 1.8321329080968596"
      ]
     },
     "execution_count": 4,
     "metadata": {},
     "output_type": "execute_result"
    }
   ],
   "source": [
    "#display the table\n",
    "DiaObjs"
   ]
  },
  {
   "cell_type": "code",
   "execution_count": 9,
   "id": "cd8ced7f-8b10-4d86-99d0-0b35c96d336e",
   "metadata": {},
   "outputs": [
    {
     "data": {
      "text/html": [
       "<pre style=\"margin: 0.1em;\n",
       "padding-left: 0.25em;\n",
       "border-left-style: solid;\n",
       "font-family: var(--jp-code-font-family);\n",
       "font-size: var(--jp-code-font-size);\n",
       "line-height: var(--jp-code-line-height);\n",
       "\"><span style=\"color: var(--jp-warn-color2)\">botocore.credentials</span> <span style=\"color: var(--jp-info-color0)\">INFO</span>: Found credentials in shared credentials file: /home/christinawilliams/.lsst/aws-credentials.ini</pre>"
      ],
      "text/plain": [
       "<IPython.core.display.HTML object>"
      ]
     },
     "metadata": {},
     "output_type": "display_data"
    },
    {
     "name": "stderr",
     "output_type": "stream",
     "text": [
      "\n",
      "WARNING: version mismatch between CFITSIO header (v4.000999999999999) and linked library (v4.01).\n",
      "\n",
      "\n",
      "WARNING: version mismatch between CFITSIO header (v4.000999999999999) and linked library (v4.01).\n",
      "\n",
      "\n",
      "WARNING: version mismatch between CFITSIO header (v4.000999999999999) and linked library (v4.01).\n",
      "\n"
     ]
    }
   ],
   "source": [
    "# Initialize the Butler  \n",
    "config = 'dp02'\n",
    "collection = '2.2i/runs/DP0.2'\n",
    "butler = Butler.Butler(config, collections=collection)\n",
    "registry = butler.registry"
   ]
  },
  {
   "cell_type": "code",
   "execution_count": 10,
   "id": "6932aec8-7679-4af1-bbba-076f51cc9dd4",
   "metadata": {},
   "outputs": [
    {
     "ename": "NameError",
     "evalue": "name 'cutout_coadd' is not defined",
     "output_type": "error",
     "traceback": [
      "\u001b[0;31m---------------------------------------------------------------------------\u001b[0m",
      "\u001b[0;31mNameError\u001b[0m                                 Traceback (most recent call last)",
      "Input \u001b[0;32mIn [10]\u001b[0m, in \u001b[0;36m<cell line: 2>\u001b[0;34m()\u001b[0m\n\u001b[1;32m      1\u001b[0m ra, dec \u001b[38;5;241m=\u001b[39m DiaObjs[\u001b[38;5;124m'\u001b[39m\u001b[38;5;124mra\u001b[39m\u001b[38;5;124m'\u001b[39m], DiaObjs[\u001b[38;5;124m'\u001b[39m\u001b[38;5;124mdecl\u001b[39m\u001b[38;5;124m'\u001b[39m]\n\u001b[0;32m----> 2\u001b[0m cutout \u001b[38;5;241m=\u001b[39m \u001b[43mcutout_coadd\u001b[49m(butler, ra, dec, band\u001b[38;5;241m=\u001b[39m\u001b[38;5;124m'\u001b[39m\u001b[38;5;124mg\u001b[39m\u001b[38;5;124m'\u001b[39m, datasetType\u001b[38;5;241m=\u001b[39m\u001b[38;5;124m'\u001b[39m\u001b[38;5;124mdeepCoadd\u001b[39m\u001b[38;5;124m'\u001b[39m, cutoutSideLength\u001b[38;5;241m=\u001b[39m\u001b[38;5;241m1000\u001b[39m)\n\u001b[1;32m      4\u001b[0m \u001b[38;5;66;03m# To get the visits used to contruct the deepCoadd\u001b[39;00m\n\u001b[1;32m      5\u001b[0m unique_visits \u001b[38;5;241m=\u001b[39m \u001b[38;5;28mlist\u001b[39m(\u001b[38;5;28mset\u001b[39m([i[\u001b[38;5;124m'\u001b[39m\u001b[38;5;124mvisit\u001b[39m\u001b[38;5;124m'\u001b[39m] \u001b[38;5;28;01mfor\u001b[39;00m i \u001b[38;5;129;01min\u001b[39;00m cutout\u001b[38;5;241m.\u001b[39mgetInfo()\u001b[38;5;241m.\u001b[39mgetCoaddInputs()\u001b[38;5;241m.\u001b[39mccds]))\n",
      "\u001b[0;31mNameError\u001b[0m: name 'cutout_coadd' is not defined"
     ]
    }
   ],
   "source": [
    "ra, dec = DiaObjs['ra'], DiaObjs['decl']\n",
    "#cutout = cutout_coadd(butler, ra, dec, band='g', datasetType='deepCoadd', cutoutSideLength=1000)\n",
    "\n",
    "# To get the visits used to contruct the deepCoadd\n",
    "#unique_visits = list(set([i['visit'] for i in cutout.getInfo().getCoaddInputs().ccds]))\n",
    "\n",
    "# Look up the tract, patch for the RA, Dec\n",
    "tractInfo = skymap.findTract(radec)\n",
    "patchInfo = tractInfo.findPatch(radec)\n",
    "xy = geom.PointI(tractInfo.getWcs().skyToPixel(radec))\n",
    "bbox = geom.BoxI(xy - cutoutSize // 2, cutoutSize)\n",
    "patch = tractInfo.getSequentialPatchIndex(patchInfo)\n",
    "\n",
    "coaddId = {'tract': tractInfo.getId(), 'patch': patch, 'band': band}\n",
    "parameters = {'bbox': bbox}\n",
    "\n",
    "cutout_image = butler.get(datasetType, parameters=parameters,\n",
    "                           dataId=coaddId)"
   ]
  },
  {
   "cell_type": "code",
   "execution_count": 11,
   "id": "906ff14c-c9a4-4308-b7d6-663c657f4f1a",
   "metadata": {
    "tags": []
   },
   "outputs": [
    {
     "ename": "SyntaxError",
     "evalue": "unterminated string literal (detected at line 14) (2384229232.py, line 14)",
     "output_type": "error",
     "traceback": [
      "\u001b[0;36m  Input \u001b[0;32mIn [11]\u001b[0;36m\u001b[0m\n\u001b[0;31m    Which type of coadd to load.  Doesn't support 'calexp'\u001b[0m\n\u001b[0m                                                         ^\u001b[0m\n\u001b[0;31mSyntaxError\u001b[0m\u001b[0;31m:\u001b[0m unterminated string literal (detected at line 14)\n"
     ]
    }
   ],
   "source": [
    "Adapted from DC2 tutorial notebook by Michael Wood-Vasey.\n",
    "\n",
    "Parameters\n",
    "----------\n",
    "butler: lsst.daf.persistence.Butler\n",
    "    Servant providing access to a data repository\n",
    "ra: float\n",
    "    Right ascension of the center of the cutout, in degrees\n",
    "dec: float\n",
    "    Declination of the center of the cutout, in degrees\n",
    "band: string\n",
    "    Filter of the image to load\n",
    "datasetType: string ['deepCoadd']\n",
    "    Which type of coadd to load.  Doesn't support 'calexp'\n",
    "skymap: lsst.afw.skyMap.SkyMap [optional]\n",
    "    Pass in to avoid the Butler read.  Useful if you have lots of them.\n",
    "cutoutSideLength: float [optional]\n",
    "    Size of the cutout region in pixels.\n",
    "\n",
    "Returns\n",
    "-------\n",
    "MaskedImage\n",
    "\"\"\"\n",
    "radec = geom.SpherePoint(ra, dec, geom.degrees)\n",
    "cutoutSize = geom.ExtentI(cutoutSideLength, cutoutSideLength)\n",
    "\n",
    "if skymap is None:\n",
    "    skymap = butler.get(\"skyMap\")\n",
    "\n",
    "# Look up the tract, patch for the RA, Dec\n",
    "tractInfo = skymap.findTract(radec)\n",
    "patchInfo = tractInfo.findPatch(radec)\n",
    "xy = geom.PointI(tractInfo.getWcs().skyToPixel(radec))\n",
    "bbox = geom.BoxI(xy - cutoutSize // 2, cutoutSize)\n",
    "patch = tractInfo.getSequentialPatchIndex(patchInfo)\n",
    "\n",
    "coaddId = {'tract': tractInfo.getId(), 'patch': patch, 'band': band}\n",
    "parameters = {'bbox': bbox}\n",
    "\n",
    "cutout_image = butler.get(datasetType, parameters=parameters,\n",
    "                           dataId=coaddId)\n",
    "\n",
    "return cutout_image"
   ]
  },
  {
   "cell_type": "code",
   "execution_count": null,
   "id": "bbeca826-67d3-400e-9bfa-fab15bc373cc",
   "metadata": {},
   "outputs": [],
   "source": []
  },
  {
   "cell_type": "code",
   "execution_count": null,
   "id": "d84357d7-f00a-45e2-bf76-d8b3be0cc7b4",
   "metadata": {},
   "outputs": [],
   "source": []
  }
 ],
 "metadata": {
  "kernelspec": {
   "display_name": "LSST",
   "language": "python",
   "name": "lsst"
  },
  "language_info": {
   "codemirror_mode": {
    "name": "ipython",
    "version": 3
   },
   "file_extension": ".py",
   "mimetype": "text/x-python",
   "name": "python",
   "nbconvert_exporter": "python",
   "pygments_lexer": "ipython3",
   "version": "3.10.4"
  },
  "toc-autonumbering": false
 },
 "nbformat": 4,
 "nbformat_minor": 5
}
