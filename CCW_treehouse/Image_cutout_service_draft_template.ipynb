{
 "cells": [
  {
   "cell_type": "markdown",
   "id": "749b0ddf",
   "metadata": {},
   "source": [
    "<img align=\"left\" src = https://project.lsst.org/sites/default/files/Rubin-O-Logo_0.png width=250 style=\"padding: 10px\"> \n",
    "<b>CET Template Notebook</b> <br>\n",
    "Contact author(s): <i>Author Name</i> <br>\n",
    "Last verified to run: <i>yyyy-mm-dd</i> <br>\n",
    "LSST Science Piplines version: Weekly <i>yyyy_xx</i> <br>\n",
    "Container Size: <i>medium</i> <br>\n",
    "Targeted learning level: <i>beginner</i> <br>"
   ]
  },
  {
   "cell_type": "markdown",
   "id": "2d9cd09b-d5c4-4610-993b-711bdc9bd80e",
   "metadata": {},
   "source": [
    "_In this template, text in italics are examples or instructions that should be: (a) removed if it is not applicable to the notebook; or (b) replaced with text that is appropriate for the notebook. But bold or regular text should appear pretty much as-is in all CET notebooks. For more information, see the [CET's Guidelines for Tutorial Notebooks](https://confluence.lsstcorp.org/pages/viewpage.action?pageId=168857070)._"
   ]
  },
  {
   "cell_type": "markdown",
   "id": "582ab507-a7ae-4024-95c9-38aabeb602a6",
   "metadata": {},
   "source": [
    "_While developing, use the following code cell to check that the code conforms to standards, but then delete the cell and \"Kernel --> Restart Kernel and Clear All Outputs\" before saving and committing._"
   ]
  },
  {
   "cell_type": "code",
   "execution_count": 23,
   "id": "7acc79a4-8530-42d9-96e5-b7acb4397864",
   "metadata": {},
   "outputs": [],
   "source": [
    "#%load_ext pycodestyle_magic\n",
    "#%flake8_on\n",
    "#import logging\n",
    "#logging.getLogger(\"flake8\").setLevel(logging.FATAL)"
   ]
  },
  {
   "cell_type": "markdown",
   "id": "482777d8-0a8d-432e-ba53-2da536700407",
   "metadata": {},
   "source": [
    "_The six cells below are considered the extended header of the notebook. The first four will be used, verbatim, to create the table of notebook metadata in the README.md file for the repository._"
   ]
  },
  {
   "cell_type": "markdown",
   "id": "9da1a210-d858-42fe-8591-570965b8be1a",
   "metadata": {},
   "source": [
    "**Description:** _Very brief description of notebook._"
   ]
  },
  {
   "cell_type": "markdown",
   "id": "80a0baf5-51ad-40ec-8991-060a7b27c289",
   "metadata": {},
   "source": [
    "**Skills:** _Brief list of skills to match the README.md file for the repository._"
   ]
  },
  {
   "cell_type": "markdown",
   "id": "393da88f-7978-4920-aa4a-a9830df6eed9",
   "metadata": {},
   "source": [
    "**LSST Data Products:** _List the all of the types of LSST catalogs and images used._"
   ]
  },
  {
   "cell_type": "markdown",
   "id": "5c67fab9-136a-4adc-bb42-142b91ab69dd",
   "metadata": {},
   "source": [
    "**Packages:** _List the python packages used._ (_List the packages being taught first, e.g., afwDisplay for a notebook about displaying images. Then supporting packages, e.g., lsst.daf.butler for a notebook about displaying images. It is OK to leave out basic support packages like os or glob.)_"
   ]
  },
  {
   "cell_type": "markdown",
   "id": "8f72b27f",
   "metadata": {},
   "source": [
    "**Credit:**\n",
    "_E.g., \"Originally developed by\" or \"Based on notebooks developed by\" and then people's names, including journal article or software release citations if appropriate._\n",
    "Please consider acknowledging them if this notebook is used for the preparation of journal articles, software releases, or other notebooks."
   ]
  },
  {
   "cell_type": "markdown",
   "id": "28e91cbf-ab7f-4e26-9276-b00299d6065e",
   "metadata": {},
   "source": [
    "**Get Support:**\n",
    "Find DP0-related documentation and resources at <a href=\"https://dp0-2.lsst.io\">dp0-2.lsst.io</a>. Questions are welcome as new topics in the <a href=\"https://community.lsst.org/c/support/dp0\">Support - Data Preview 0 Category</a> of the Rubin Community Forum. Rubin staff will respond to all questions posted there."
   ]
  },
  {
   "cell_type": "markdown",
   "id": "cfc73be0",
   "metadata": {},
   "source": [
    "## 1. Introduction\n",
    "\n",
    "_Provide a light narrative about this notebook, e.g., \"This notebook will teach the user...\"._\n",
    "\n",
    "_Cite or link to any external information or documentation, and cross-reference to other notebooks._"
   ]
  },
  {
   "cell_type": "markdown",
   "id": "dc36f107",
   "metadata": {},
   "source": [
    "### 1.1 Package Imports\n",
    "\n",
    "_All package imports should be done in the first code cell._\n",
    "\n",
    "_Provide explanation or external links to package documentation, where appropriate._\n",
    "\n",
    "_E.g., Numpy is a fundamental package for scientific computing with arrays in Python (<a href=\"https://numpy.org\">numpy.org</a>)._\n",
    "\n",
    "_Use code cell comments to describe the packages being imported._"
   ]
  },
  {
   "cell_type": "code",
   "execution_count": 24,
   "id": "cddc1458",
   "metadata": {},
   "outputs": [],
   "source": [
    "# general python packages\n",
    "import time\n",
    "import numpy as np\n",
    "import matplotlib.pyplot as plt\n",
    "plt.style.use('tableau-colorblind10')\n",
    "import pandas\n",
    "pandas.set_option('display.max_rows', 1000)\n",
    "\n",
    "# LSST package for TAP queries\n",
    "from lsst.rsp import get_tap_service, retrieve_query\n",
    "\n",
    "# LSST package for Butler queries\n",
    "import lsst.daf.butler as Butler\n",
    "\n",
    "# LSST package for image display\n",
    "import lsst.afw.display as afwDisplay\n",
    "import lsst.geom\n",
    "\n",
    "from astropy import units as u\n",
    "from astropy.coordinates import SkyCoord\n",
    "\n",
    "import matplotlib.pyplot as plt\n",
    "import gc\n",
    "\n",
    "# Astropy imports\n",
    "from astropy.wcs import WCS\n",
    "from astropy.visualization import make_lupton_rgb\n",
    "\n",
    "import lsst.geom as geom\n",
    "# Object for multi-band exposures\n",
    "from lsst.afw.image import MultibandExposure\n",
    "\n",
    "afwDisplay.setDefaultBackend('matplotlib')\n",
    "\n",
    "# Set a standard figure size to use\n",
    "plt.rcParams['figure.figsize'] = (8.0, 8.0)\n",
    "\n",
    "plt.style.use('tableau-colorblind10')\n",
    "%matplotlib inline"
   ]
  },
  {
   "cell_type": "markdown",
   "id": "c217adff-25ed-4fce-95e7-8aa04630f6cc",
   "metadata": {},
   "source": [
    "### 1.2 Define Functions and Parameters\n",
    "\n",
    "_If your notebook defines functions or parameters to use later or throughout, do it here in sub-section 1.2._\n",
    "\n",
    "_It is OK to rename the subsection to be more specific to the notebook, and/or to use sub-sub-sections like \"1.2.1 Define global cosmological parameter values\" or \"1.2.2 Define a function to make an image cutout\"._\n",
    "\n",
    "_It is OK to remove this sub-section if it is not being used._"
   ]
  },
  {
   "cell_type": "markdown",
   "id": "ec51ac0b",
   "metadata": {
    "tags": []
   },
   "source": [
    "## 2. Search data for a supernova for which to create image cutouts\n",
    "\n",
    "_Use numbers for sections, sub-sections, and sub-sub-sections to enable referencing, e.g., \"I'm having trouble with the second code cell in Section 2.3.\"_\n",
    "\n",
    "_Use section titles that actively describe what is being done, e.g., \"Create a color-magnitude diagram\" instead of \"Plot\", so that the auto-generated table of contents is easy to navigate._\n",
    "\n",
    "### 2.1 Section Sub-heading\n",
    "\n",
    "#### 2.1.1 Section Sub-sub-heading"
   ]
  },
  {
   "cell_type": "code",
   "execution_count": 25,
   "id": "81b8cd59-1ba3-4eaa-846f-6478ed0c3cf5",
   "metadata": {},
   "outputs": [],
   "source": [
    "service = get_tap_service()\n",
    "assert service is not None"
   ]
  },
  {
   "cell_type": "code",
   "execution_count": 26,
   "id": "e3abfe14-e942-41ba-9550-7af5eb03ad1a",
   "metadata": {},
   "outputs": [],
   "source": [
    "# galaxy cluster coords: 55.6521739130, -31.9834710744\n",
    "# grab a DiaObject identified in Tutorial 07a to be a candidate Type 1a SN with relatively few number of \n",
    "# nDiaSources (frames over which flux varies): RA=51.2332445 Dec=-44.509536 DiaObjID=1248649384967537762\n",
    "#%%time\n",
    "\n",
    "# First setup the search like in tutorial 07a:\n",
    "redshift_min = 0.1\n",
    "redshift_max = 0.3\n",
    "snia_peak_mag = -19.0\n",
    "snia_peak_mag_range = 0.5\n",
    "snia_peak_mg_max = 24.0\n",
    "snia_peak_mi_max = 24.0\n",
    "snia_ampl_mr_min = 1.5\n",
    "snia_ampl_mr_max = 5.5\n",
    "snia_peak_mr_min = 18.82\n",
    "snia_peak_mr_max = 22.46\n",
    "# pick a set on the smaller end of time to make the output cutouts managable:\n",
    "snia_nDiaSources_min = 15\n",
    "snia_nDiaSources_max = 20\n",
    "\n",
    "# Print the contents of the catalog DiaSource or DiaObject so you see what you can access\n",
    "#results = service.search(\"SELECT column_name, datatype, description, unit from TAP_SCHEMA.columns \"\n",
    "#                         \"WHERE table_name = 'dp02_dc2_catalogs.DiaObject'\")\n",
    "#                         \"WHERE table_name = 'dp02_dc2_catalogs.DiaSource'\")\n",
    "#results.to_table().to_pandas()\n",
    "#according to the DPDD, the DiaSource tables should have the ccdVisitId\n",
    "#results = service.search(\"SELECT column_name, datatype, description, unit from TAP_SCHEMA.columns \"\n",
    "#                         \"WHERE table_name = 'dp02_dc2_catalogs.Object'\")\n",
    "#results.to_table().to_pandas()\n"
   ]
  },
  {
   "cell_type": "code",
   "execution_count": 27,
   "id": "25f4ebf6-f0e1-494a-bf20-dabd2fa82dd4",
   "metadata": {},
   "outputs": [
    {
     "name": "stdout",
     "output_type": "stream",
     "text": [
      "CPU times: user 47.2 ms, sys: 1.15 ms, total: 48.4 ms\n",
      "Wall time: 16.2 s\n"
     ]
    }
   ],
   "source": [
    "%%time\n",
    "\n",
    "# retrieve candidate SN:\n",
    "results = service.search(\"SELECT ra, decl, diaObjectId, nDiaSources, \"\n",
    "                         \"scisql_nanojanskyToAbMag(rPSFluxMin) AS rMagMax, \"\n",
    "                         \"scisql_nanojanskyToAbMag(rPSFluxMax) AS rMagMin, \"\n",
    "                         \"scisql_nanojanskyToAbMag(gPSFluxMax) AS gMagMin, \"\n",
    "                         \"scisql_nanojanskyToAbMag(iPSFluxMax) AS iMagMin, \"\n",
    "                         \"scisql_nanojanskyToAbMag(rPSFluxMin)\"\n",
    "                         \" - scisql_nanojanskyToAbMag(rPSFluxMax) AS rMagAmp \"\n",
    "                         \"FROM dp02_dc2_catalogs.DiaObject \"\n",
    "                         \"WHERE nDiaSources > \"+str(snia_nDiaSources_min)+\" \"\n",
    "                         \"AND nDiaSources < \"+str(snia_nDiaSources_max)+\" \"\n",
    "                         \"AND scisql_nanojanskyToAbMag(rPSFluxMax) > \"+str(snia_peak_mr_min)+\" \"\n",
    "                         \"AND scisql_nanojanskyToAbMag(rPSFluxMax) < \"+str(snia_peak_mr_max)+\" \"\n",
    "                         \"AND scisql_nanojanskyToAbMag(gPSFluxMax) < \"+str(snia_peak_mg_max)+\" \"\n",
    "                         \"AND scisql_nanojanskyToAbMag(iPSFluxMax) < \"+str(snia_peak_mi_max)+\" \"\n",
    "                         \"AND scisql_nanojanskyToAbMag(rPSFluxMin)\"\n",
    "                         \" - scisql_nanojanskyToAbMag(rPSFluxMax) < \"+str(snia_ampl_mr_max)+\" \"\n",
    "                         \"AND scisql_nanojanskyToAbMag(rPSFluxMin)\"\n",
    "                         \" - scisql_nanojanskyToAbMag(rPSFluxMax) > \"+str(snia_ampl_mr_min)+\" \",\n",
    "                         maxrec=1000)\n",
    "\n",
    "#to use visitinfo you have to add to end of query:\n",
    "#\"ON visinfo.ccdVisitId = src.ccdVisitId \"\\\n",
    "#        \"WHERE src.objectId = \"+str(sel_objid)+\" \"\n",
    "\n",
    "DiaObjs = results.to_table()\n",
    "del results"
   ]
  },
  {
   "cell_type": "code",
   "execution_count": 28,
   "id": "486a3822-5ab5-42c9-8565-917e55d4537d",
   "metadata": {},
   "outputs": [],
   "source": [
    "#display the table\n",
    "#DiaObjs"
   ]
  },
  {
   "cell_type": "code",
   "execution_count": 29,
   "id": "cd8ced7f-8b10-4d86-99d0-0b35c96d336e",
   "metadata": {},
   "outputs": [],
   "source": [
    "# Initialize the Butler  \n",
    "config = 'dp02'\n",
    "collection = '2.2i/runs/DP0.2'\n",
    "butler = Butler.Butler(config, collections=collection)\n",
    "registry = butler.registry"
   ]
  },
  {
   "cell_type": "code",
   "execution_count": 30,
   "id": "ae5a8202-0a7a-4386-81b4-c8abe742debd",
   "metadata": {},
   "outputs": [],
   "source": [
    "# look again at DiaSource catalog contents\n",
    "results = service.search(\"SELECT column_name, datatype, description, unit from TAP_SCHEMA.columns \"\n",
    "                         \"WHERE table_name = 'dp02_dc2_catalogs.DiaSource'\")\n",
    "#results.to_table().to_pandas()"
   ]
  },
  {
   "cell_type": "code",
   "execution_count": 32,
   "id": "9ae2cb98-085a-4101-93d9-af05fe1b634e",
   "metadata": {},
   "outputs": [],
   "source": [
    "# look again at DiaSource catalog contents\n",
    "ccdvis = service.search(\"SELECT column_name, datatype, description, unit from TAP_SCHEMA.columns \"\n",
    "                         \"WHERE table_name = 'dp02_dc2_catalogs.CcdVisit'\")\n",
    "#ccdvis.to_table().to_pandas()"
   ]
  },
  {
   "cell_type": "code",
   "execution_count": 33,
   "id": "702967b3-17e2-48d7-a1e2-0399c22fc622",
   "metadata": {},
   "outputs": [],
   "source": [
    "query = \"SELECT TOP \" + str(10) + \" \" + \\\n",
    "        \"diaObjectId, ra, decl, ccdVisitId \" + \\\n",
    "        \"FROM dp02_dc2_catalogs.DiaSource \" #+ \\\n",
    "\n",
    "results = service.search(query)\n",
    "#results.to_table().to_pandas()"
   ]
  },
  {
   "cell_type": "code",
   "execution_count": 35,
   "id": "e9e5ef77-7495-44eb-8ddf-a12d307cf9b2",
   "metadata": {},
   "outputs": [
    {
     "name": "stdout",
     "output_type": "stream",
     "text": [
      "1248649384967537762\n",
      "<SkyCoord (ICRS): (ra, dec) in deg\n",
      "    (51.2332445, -44.509536)>\n"
     ]
    }
   ],
   "source": [
    "# just pick a source to use for the cutouts, like the first one\n",
    "ra, dec = DiaObjs['ra'][0], DiaObjs['decl'][0]\n",
    "sel_objid = DiaObjs['diaObjectId'][0]\n",
    "print(sel_objid)\n",
    "\n",
    "center_coords = SkyCoord(ra, dec, frame='icrs', unit='deg')\n",
    "search_radius = 1.0*u.arcmin\n",
    "use_center_coords = str(ra)+\", \"+str(dec) #\"62, -37\"\n",
    "use_radius = \"0.00028\" #1 arcsec in deg\n",
    "\n",
    "print(center_coords)\n",
    "#print(search_radius)\n",
    "                \n",
    "# find the source using a small search radius, but there are too many DiaSources in a small area (weird)\n",
    "query = \"SELECT TOP \" + str(20) + \" \" + \\\n",
    "        \"diaObjectId, ra, decl, coord_ra, coord_dec, ccdVisitId \" + \\\n",
    "        \"FROM dp02_dc2_catalogs.DiaSource \" + \\\n",
    "        \"WHERE CONTAINS(POINT('ICRS', ra, decl), \" + \\\n",
    "        \"CIRCLE('ICRS', \" + use_center_coords + \", \" + use_radius + \")) = 1 \" \n",
    "        \n",
    "visits = service.search(query)\n",
    "#visits.to_table().to_pandas()\n",
    "\n",
    "# try to figure out if these 2 DiaObj are the same thing or if they are separate SN simulated near eachother\n",
    "# Melissa says search appears ok, but still matches a lot of sources"
   ]
  },
  {
   "cell_type": "code",
   "execution_count": 36,
   "id": "9bab5a0f-2778-4449-a97e-9d93217a568b",
   "metadata": {},
   "outputs": [
    {
     "name": "stdout",
     "output_type": "stream",
     "text": [
      "1248649384967537762\n"
     ]
    },
    {
     "data": {
      "text/html": [
       "<div>\n",
       "<style scoped>\n",
       "    .dataframe tbody tr th:only-of-type {\n",
       "        vertical-align: middle;\n",
       "    }\n",
       "\n",
       "    .dataframe tbody tr th {\n",
       "        vertical-align: top;\n",
       "    }\n",
       "\n",
       "    .dataframe thead th {\n",
       "        text-align: right;\n",
       "    }\n",
       "</style>\n",
       "<table border=\"1\" class=\"dataframe\">\n",
       "  <thead>\n",
       "    <tr style=\"text-align: right;\">\n",
       "      <th></th>\n",
       "      <th>diaObjectId</th>\n",
       "      <th>ra</th>\n",
       "      <th>decl</th>\n",
       "      <th>coord_ra</th>\n",
       "      <th>coord_dec</th>\n",
       "      <th>ccdVisitId</th>\n",
       "    </tr>\n",
       "  </thead>\n",
       "  <tbody>\n",
       "    <tr>\n",
       "      <th>0</th>\n",
       "      <td>1248649384967537762</td>\n",
       "      <td>51.233206</td>\n",
       "      <td>-44.509450</td>\n",
       "      <td>51.233244</td>\n",
       "      <td>-44.509536</td>\n",
       "      <td>1192238055</td>\n",
       "    </tr>\n",
       "    <tr>\n",
       "      <th>1</th>\n",
       "      <td>1248649384967537762</td>\n",
       "      <td>51.233246</td>\n",
       "      <td>-44.509487</td>\n",
       "      <td>51.233244</td>\n",
       "      <td>-44.509536</td>\n",
       "      <td>713276030</td>\n",
       "    </tr>\n",
       "    <tr>\n",
       "      <th>2</th>\n",
       "      <td>1248649384967537762</td>\n",
       "      <td>51.233263</td>\n",
       "      <td>-44.509562</td>\n",
       "      <td>51.233244</td>\n",
       "      <td>-44.509536</td>\n",
       "      <td>1198851132</td>\n",
       "    </tr>\n",
       "    <tr>\n",
       "      <th>3</th>\n",
       "      <td>1248649384967537762</td>\n",
       "      <td>51.233277</td>\n",
       "      <td>-44.509578</td>\n",
       "      <td>51.233244</td>\n",
       "      <td>-44.509536</td>\n",
       "      <td>1197880035</td>\n",
       "    </tr>\n",
       "    <tr>\n",
       "      <th>4</th>\n",
       "      <td>1248649384967537762</td>\n",
       "      <td>51.233298</td>\n",
       "      <td>-44.509565</td>\n",
       "      <td>51.233244</td>\n",
       "      <td>-44.509536</td>\n",
       "      <td>880173012</td>\n",
       "    </tr>\n",
       "    <tr>\n",
       "      <th>5</th>\n",
       "      <td>1248649384967537762</td>\n",
       "      <td>51.233320</td>\n",
       "      <td>-44.509517</td>\n",
       "      <td>51.233244</td>\n",
       "      <td>-44.509536</td>\n",
       "      <td>1165727058</td>\n",
       "    </tr>\n",
       "    <tr>\n",
       "      <th>6</th>\n",
       "      <td>1248649384967537762</td>\n",
       "      <td>51.233301</td>\n",
       "      <td>-44.509531</td>\n",
       "      <td>51.233244</td>\n",
       "      <td>-44.509536</td>\n",
       "      <td>923947024</td>\n",
       "    </tr>\n",
       "    <tr>\n",
       "      <th>7</th>\n",
       "      <td>1248649384967537762</td>\n",
       "      <td>51.233237</td>\n",
       "      <td>-44.509520</td>\n",
       "      <td>51.233244</td>\n",
       "      <td>-44.509536</td>\n",
       "      <td>1185099004</td>\n",
       "    </tr>\n",
       "    <tr>\n",
       "      <th>8</th>\n",
       "      <td>1248649384967537762</td>\n",
       "      <td>51.233219</td>\n",
       "      <td>-44.509543</td>\n",
       "      <td>51.233244</td>\n",
       "      <td>-44.509536</td>\n",
       "      <td>1185146182</td>\n",
       "    </tr>\n",
       "    <tr>\n",
       "      <th>9</th>\n",
       "      <td>1248649384967537762</td>\n",
       "      <td>51.233194</td>\n",
       "      <td>-44.509578</td>\n",
       "      <td>51.233244</td>\n",
       "      <td>-44.509536</td>\n",
       "      <td>1185183140</td>\n",
       "    </tr>\n",
       "    <tr>\n",
       "      <th>10</th>\n",
       "      <td>1248649384967537762</td>\n",
       "      <td>51.233335</td>\n",
       "      <td>-44.509476</td>\n",
       "      <td>51.233244</td>\n",
       "      <td>-44.509536</td>\n",
       "      <td>715960086</td>\n",
       "    </tr>\n",
       "    <tr>\n",
       "      <th>11</th>\n",
       "      <td>1248649384967537762</td>\n",
       "      <td>51.233214</td>\n",
       "      <td>-44.509474</td>\n",
       "      <td>51.233244</td>\n",
       "      <td>-44.509536</td>\n",
       "      <td>929445105</td>\n",
       "    </tr>\n",
       "    <tr>\n",
       "      <th>12</th>\n",
       "      <td>1248649384967537762</td>\n",
       "      <td>51.233290</td>\n",
       "      <td>-44.509584</td>\n",
       "      <td>51.233244</td>\n",
       "      <td>-44.509536</td>\n",
       "      <td>1233053014</td>\n",
       "    </tr>\n",
       "    <tr>\n",
       "      <th>13</th>\n",
       "      <td>1248649384967537762</td>\n",
       "      <td>51.233191</td>\n",
       "      <td>-44.509528</td>\n",
       "      <td>51.233244</td>\n",
       "      <td>-44.509536</td>\n",
       "      <td>748928058</td>\n",
       "    </tr>\n",
       "    <tr>\n",
       "      <th>14</th>\n",
       "      <td>1248649384967537762</td>\n",
       "      <td>51.233094</td>\n",
       "      <td>-44.509498</td>\n",
       "      <td>51.233244</td>\n",
       "      <td>-44.509536</td>\n",
       "      <td>1225452100</td>\n",
       "    </tr>\n",
       "    <tr>\n",
       "      <th>15</th>\n",
       "      <td>1248649384967537762</td>\n",
       "      <td>51.233276</td>\n",
       "      <td>-44.509562</td>\n",
       "      <td>51.233244</td>\n",
       "      <td>-44.509536</td>\n",
       "      <td>1217108015</td>\n",
       "    </tr>\n",
       "    <tr>\n",
       "      <th>16</th>\n",
       "      <td>1248649384967537762</td>\n",
       "      <td>51.233181</td>\n",
       "      <td>-44.509589</td>\n",
       "      <td>51.233244</td>\n",
       "      <td>-44.509536</td>\n",
       "      <td>945522097</td>\n",
       "    </tr>\n",
       "    <tr>\n",
       "      <th>17</th>\n",
       "      <td>1248649384967537762</td>\n",
       "      <td>51.233281</td>\n",
       "      <td>-44.509589</td>\n",
       "      <td>51.233244</td>\n",
       "      <td>-44.509536</td>\n",
       "      <td>923915067</td>\n",
       "    </tr>\n",
       "    <tr>\n",
       "      <th>18</th>\n",
       "      <td>1248649384967537762</td>\n",
       "      <td>51.233222</td>\n",
       "      <td>-44.509549</td>\n",
       "      <td>51.233244</td>\n",
       "      <td>-44.509536</td>\n",
       "      <td>1029773093</td>\n",
       "    </tr>\n",
       "  </tbody>\n",
       "</table>\n",
       "</div>"
      ],
      "text/plain": [
       "            diaObjectId         ra       decl   coord_ra  coord_dec  \\\n",
       "0   1248649384967537762  51.233206 -44.509450  51.233244 -44.509536   \n",
       "1   1248649384967537762  51.233246 -44.509487  51.233244 -44.509536   \n",
       "2   1248649384967537762  51.233263 -44.509562  51.233244 -44.509536   \n",
       "3   1248649384967537762  51.233277 -44.509578  51.233244 -44.509536   \n",
       "4   1248649384967537762  51.233298 -44.509565  51.233244 -44.509536   \n",
       "5   1248649384967537762  51.233320 -44.509517  51.233244 -44.509536   \n",
       "6   1248649384967537762  51.233301 -44.509531  51.233244 -44.509536   \n",
       "7   1248649384967537762  51.233237 -44.509520  51.233244 -44.509536   \n",
       "8   1248649384967537762  51.233219 -44.509543  51.233244 -44.509536   \n",
       "9   1248649384967537762  51.233194 -44.509578  51.233244 -44.509536   \n",
       "10  1248649384967537762  51.233335 -44.509476  51.233244 -44.509536   \n",
       "11  1248649384967537762  51.233214 -44.509474  51.233244 -44.509536   \n",
       "12  1248649384967537762  51.233290 -44.509584  51.233244 -44.509536   \n",
       "13  1248649384967537762  51.233191 -44.509528  51.233244 -44.509536   \n",
       "14  1248649384967537762  51.233094 -44.509498  51.233244 -44.509536   \n",
       "15  1248649384967537762  51.233276 -44.509562  51.233244 -44.509536   \n",
       "16  1248649384967537762  51.233181 -44.509589  51.233244 -44.509536   \n",
       "17  1248649384967537762  51.233281 -44.509589  51.233244 -44.509536   \n",
       "18  1248649384967537762  51.233222 -44.509549  51.233244 -44.509536   \n",
       "\n",
       "    ccdVisitId  \n",
       "0   1192238055  \n",
       "1    713276030  \n",
       "2   1198851132  \n",
       "3   1197880035  \n",
       "4    880173012  \n",
       "5   1165727058  \n",
       "6    923947024  \n",
       "7   1185099004  \n",
       "8   1185146182  \n",
       "9   1185183140  \n",
       "10   715960086  \n",
       "11   929445105  \n",
       "12  1233053014  \n",
       "13   748928058  \n",
       "14  1225452100  \n",
       "15  1217108015  \n",
       "16   945522097  \n",
       "17   923915067  \n",
       "18  1029773093  "
      ]
     },
     "execution_count": 36,
     "metadata": {},
     "output_type": "execute_result"
    }
   ],
   "source": [
    "# find the source by matching the source ID, which gives you the exact source\n",
    "query = \"SELECT TOP \" + str(100) + \" \" + \\\n",
    "        \"diaObjectId, ra, decl, coord_ra, coord_dec, ccdVisitId \" + \\\n",
    "        \"FROM dp02_dc2_catalogs.DiaSource \" + \\\n",
    "        \"WHERE diaObjectId = \" + str(sel_objid) + \" \"\n",
    "print(sel_objid)\n",
    "visits = service.search(query)\n",
    "visits.to_table().to_pandas()"
   ]
  },
  {
   "cell_type": "code",
   "execution_count": 37,
   "id": "97ead404-69b5-4ac6-a5c4-e2649976d3d5",
   "metadata": {},
   "outputs": [
    {
     "data": {
      "text/html": [
       "<div>\n",
       "<style scoped>\n",
       "    .dataframe tbody tr th:only-of-type {\n",
       "        vertical-align: middle;\n",
       "    }\n",
       "\n",
       "    .dataframe tbody tr th {\n",
       "        vertical-align: top;\n",
       "    }\n",
       "\n",
       "    .dataframe thead th {\n",
       "        text-align: right;\n",
       "    }\n",
       "</style>\n",
       "<table border=\"1\" class=\"dataframe\">\n",
       "  <thead>\n",
       "    <tr style=\"text-align: right;\">\n",
       "      <th></th>\n",
       "      <th>ccdVisitId</th>\n",
       "      <th>visitId</th>\n",
       "      <th>physical_filter</th>\n",
       "      <th>band</th>\n",
       "      <th>detector</th>\n",
       "      <th>obsStartMJD</th>\n",
       "    </tr>\n",
       "  </thead>\n",
       "  <tbody>\n",
       "    <tr>\n",
       "      <th>0</th>\n",
       "      <td>713276030</td>\n",
       "      <td>713276</td>\n",
       "      <td>i_sim_1.4</td>\n",
       "      <td>i</td>\n",
       "      <td>30</td>\n",
       "      <td>60632.221428</td>\n",
       "    </tr>\n",
       "  </tbody>\n",
       "</table>\n",
       "</div>"
      ],
      "text/plain": [
       "   ccdVisitId  visitId physical_filter band  detector   obsStartMJD\n",
       "0   713276030   713276       i_sim_1.4    i        30  60632.221428"
      ]
     },
     "execution_count": 37,
     "metadata": {},
     "output_type": "execute_result"
    }
   ],
   "source": [
    "# ccdVisitId != visit\n",
    "\n",
    "# ccdvisittable is a separate catalog that contains all observations and I could use that to extract further info. \n",
    "# get detector and visit from ccdvisittable using ccdvisitid. \n",
    "\n",
    "ccdqu = \"SELECT TOP \" + str(10) + \" \" + \\\n",
    "        \"ccdVisitId, visitId, physical_filter, band, detector, obsStartMJD \" + \\\n",
    "        \"FROM dp02_dc2_catalogs.CcdVisit \" + \\\n",
    "        \"WHERE ccdVisitId = \" + str(visits['ccdVisitId'][1]) + \" \"\n",
    "\n",
    "ccdvisit = service.search(ccdqu)\n",
    "ccdvisit.to_table().to_pandas()\n",
    "\n"
   ]
  },
  {
   "cell_type": "code",
   "execution_count": 52,
   "id": "322bf5ed-608c-4d2e-b884-d474669ee516",
   "metadata": {},
   "outputs": [
    {
     "name": "stdout",
     "output_type": "stream",
     "text": [
      "1192238055\n",
      "(0, 4072, 0, 4000)\n",
      "2036 2000\n",
      "(4000, 4072)\n"
     ]
    },
    {
     "data": {
      "image/png": "[encoded data removed]",
      "text/plain": [
       "<Figure size 432x288 with 1 Axes>"
      ]
     },
     "metadata": {
      "needs_background": "light"
     },
     "output_type": "display_data"
    }
   ],
   "source": [
    "# now try to make the cutout using butler\n",
    "\n",
    "print(visits['ccdVisitId'][0])\n",
    "datasetType = 'calexp'\n",
    "\n",
    "#data id for calexp are structured as visit and detector. \n",
    "dataId = {'visit': ccdvisit['visitId'][0], 'detector': ccdvisit['detector'][0]}\n",
    "calexp = butler.get(datasetType, dataId=dataId)\n",
    "\n",
    "#fig = plt.figure()\n",
    "\n",
    "# Set the figure's projection to be the WCS of the calexp\n",
    "plt.subplot(projection=WCS(calexp.getWcs().getFitsMetadata()))\n",
    "\n",
    "# Define the extent in pixel coordinates using the bounding box\n",
    "calexp_extent = (calexp.getBBox().beginX, calexp.getBBox().endX,\n",
    "                 calexp.getBBox().beginY, calexp.getBBox().endY)\n",
    "\n",
    "centerx = int(calexp.getBBox().endX / 2.)\n",
    "centery = int(calexp.getBBox().endY / 2.)\n",
    "print(calexp_extent)\n",
    "print(centerx,centery)\n",
    "\n",
    "# length in pixels of the side of image\n",
    "figside = 100\n",
    "\n",
    "subfig = calexp.image.array[centerx-figside:centerx+figside, centery-figside:centery+figside]#[centery-1000:centery+1000]\n",
    "# Display the calexp image data array using the gray colormap (cmap)\n",
    "#  and use approximately the same min and max scale values as above\n",
    "#im = plt.imshow(calexp.image.array, cmap='gray', vmin=-200.0, vmax=400,\n",
    "#                extent=calexp_extent, origin='lower')\n",
    "\n",
    "print(calexp.image.array.shape)\n",
    "im = plt.imshow(subfig, cmap='gray', vmin=-200.0, vmax=400,origin='lower')\n",
    "\n",
    "plt.xlabel('Right Ascension')\n",
    "plt.ylabel('Declination')\n",
    "plt.show()\n",
    "\n",
    "\n",
    "#fig = plt.figure()\n",
    "#display = afwDisplay.Display(frame=fig)\n",
    "#display.scale('asinh', 'zscale')\n",
    "#display.mtv(calexp.image)\n",
    "plt.show()\n",
    "\n"
   ]
  },
  {
   "cell_type": "code",
   "execution_count": 17,
   "id": "4e2f0ff6-71d2-47bf-af60-dc5d59993d10",
   "metadata": {},
   "outputs": [
    {
     "data": {
      "text/plain": [
       "2036"
      ]
     },
     "execution_count": 17,
     "metadata": {},
     "output_type": "execute_result"
    }
   ],
   "source": [
    "#Now try to loop over the \n"
   ]
  },
  {
   "cell_type": "code",
   "execution_count": null,
   "id": "d0978258-f2b2-47f3-9059-fe84d521c3ba",
   "metadata": {},
   "outputs": [],
   "source": [
    "# the following is testing junk\n",
    "\n",
    "# now try to make the cutout using butler\n",
    "radec = lsst.geom.SpherePoint(ra*lsst.geom.degrees,dec*lsst.geom.degrees)\n",
    "\n",
    "skymap = butler.get('skyMap')\n",
    "#cutout = cutout_coadd(butler, ra, dec, band='g', datasetType='deepCoadd', cutoutSideLength=1000)\n",
    "\n",
    "# To get the visits used to contruct the deepCoadd\n",
    "#unique_visits = list(set([i['visit'] for i in cutout.getInfo().getCoaddInputs().ccds]))\n",
    "\n",
    "\n",
    "# Look up the tract, patch for the RA, Dec \n",
    "# Looks like tract and patch are NOT identifiers used for calexp. Must be DeepCoadd only\n",
    "tractInfo = skymap.findTract(radec)\n",
    "my_patch = tractInfo.findPatch(radec)\n",
    "\n",
    "# note you can't specify both band and visit, because a visit only observes in 1 band\n",
    "#dataId = {'visit': visits['ccdVisitId'][0], 'detector': 175}#, 'tract': tractInfo, 'patch': my_patch}\n",
    "\n",
    "# The above has some error related to the visit #, so try test obs from tutorial 04b:\n",
    "dataId = {'visit': 192350, 'detector': 175}\n",
    "print(butler.registry.getDatasetType('calexp'))\n",
    "\n",
    "\n",
    "# Select a position at roughly the center of the galaxy cluster:\n",
    "cutout_image = cutout_coadd(butler, ra, dec, datasetType='calexp',\n",
    "                            cutoutSideLength=50, dataId=dataId)\n",
    "\n",
    "print(cutout_image.image)\n",
    "#fig, ax = plt.subplots()\n",
    "#display = afwDisplay.Display(frame=fig)\n",
    "#display.scale('asinh', 'zscale')\n",
    "#display.mtv(cutout_image.image)\n",
    "#plt.imshow(cutout_image.image)\n",
    "#plt.show()\n",
    "#remove_figure(fig)\n",
    "np.shape(cutout_image.image)\n",
    "\n",
    "# deep coadd, we dont' want this because we want the individual time slices\n",
    "#my_deepCoadd = butler.get('deepCoadd', dataId=dataId)\n",
    "# datasetType of calexp = processed visit images, we want this for time series\n",
    "#exposures = butler.get('calexp', dataId=dataId)\n",
    "\n",
    "#xy = geom.PointI(tractInfo.getWcs().skyToPixel(radec))\n",
    "#bbox = geom.BoxI(xy - cutoutSize // 2, cutoutSize)\n",
    "#patch = tractInfo.getSequentialPatchIndex(patchInfo)\n",
    "\n",
    "#coaddId = {'tract': tractInfo.getId(), 'patch': patch, 'band': band}\n",
    "#parameters = {'bbox': bbox}\n",
    "\n",
    "#cutout_image = butler.get(datasetType, parameters=parameters,\n",
    "#                           dataId=coaddId)"
   ]
  },
  {
   "cell_type": "code",
   "execution_count": null,
   "id": "fd220d7d-67a4-407b-bef5-a2c97dd150b6",
   "metadata": {},
   "outputs": [],
   "source": []
  },
  {
   "cell_type": "code",
   "execution_count": null,
   "id": "bbeca826-67d3-400e-9bfa-fab15bc373cc",
   "metadata": {},
   "outputs": [],
   "source": [
    "cutout_image.image[1]"
   ]
  },
  {
   "cell_type": "code",
   "execution_count": null,
   "id": "d84357d7-f00a-45e2-bf76-d8b3be0cc7b4",
   "metadata": {},
   "outputs": [],
   "source": []
  }
 ],
 "metadata": {
  "kernelspec": {
   "display_name": "LSST",
   "language": "python",
   "name": "lsst"
  },
  "language_info": {
   "codemirror_mode": {
    "name": "ipython",
    "version": 3
   },
   "file_extension": ".py",
   "mimetype": "text/x-python",
   "name": "python",
   "nbconvert_exporter": "python",
   "pygments_lexer": "ipython3",
   "version": "3.10.4"
  },
  "toc-autonumbering": false
 },
 "nbformat": 4,
 "nbformat_minor": 5
}
