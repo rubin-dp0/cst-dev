{
 "cells": [
  {
   "cell_type": "markdown",
   "id": "bc27f992-6cfd-4c2c-bb8b-5c8a7515f0db",
   "metadata": {},
   "source": [
    "<img align=\"left\" src = https://project.lsst.org/sites/default/files/Rubin-O-Logo_0.png width=250 style=\"padding: 10px\"> \n",
    "<br><b>Introduction to the DP0.3 Moving Object Catalogs</b> <br>\n",
    "Contact author: Bob Abel <br>\n",
    "Last verified to run: 2023-06-27 <br>\n",
    "LSST Science Piplines version: Weekly 2023_21 <br>\n",
    "Container size: medium <br>\n",
    "Targeted learning level: beginner <br>"
   ]
  },
  {
   "cell_type": "markdown",
   "id": "8970ff6f-e555-4715-b9f3-93a3e5888f8d",
   "metadata": {},
   "source": [
    "%load_ext pycodestyle_magic\n",
    "%flake8_on\n",
    "import logging\n",
    "logging.getLogger(\"flake8\").setLevel(logging.FATAL)"
   ]
  },
  {
   "cell_type": "markdown",
   "id": "e57b4248-cf79-4945-956b-3186f3cc41c2",
   "metadata": {},
   "source": [
    "**Description:** DP0.3 moving object catalogs are examined."
   ]
  },
  {
   "cell_type": "markdown",
   "id": "d9fd4286-3bff-4345-affa-0d8e519b8d50",
   "metadata": {},
   "source": [
    "**Skills:** Discover moving object catalogs and create plots for preliminary analysis. "
   ]
  },
  {
   "cell_type": "markdown",
   "id": "7e79e389-8abf-4dff-b503-55c0383084d1",
   "metadata": {},
   "source": [
    "**LSST Data Products:** TAP dp03_catalogs."
   ]
  },
  {
   "cell_type": "markdown",
   "id": "07aae406-2b73-4995-a1c8-fc833a24cee2",
   "metadata": {},
   "source": [
    "**Packages:** lsst.rsp.get_tap_service, lsst.rsp.retrieve_query, numpy, matplotlib"
   ]
  },
  {
   "cell_type": "markdown",
   "id": "8740f32b-3d92-4c10-8d88-46e600a63a96",
   "metadata": {},
   "source": [
    "**Credit:**\n",
    "Mario Jurić and literally every single contributing author to the Rubin Stack Club, DP0 Tutorial, and Delegate Contribution, Jupyter Notebooks, and Jake Vanderplas."
   ]
  },
  {
   "cell_type": "markdown",
   "id": "e7b54235-6bab-4626-a603-13c15a3c93b6",
   "metadata": {},
   "source": [
    "**Get Support:**\n",
    "Find DP0.3-related documentation and resources at <a href=\"https://dp0-3.lsst.io\">dp0-3.lsst.io</a>. Questions are welcome as new topics in the <a href=\"https://community.lsst.org/c/support/dp0\">Support - Data Preview 0 Category</a> of the Rubin Community Forum. Rubin staff will respond to all questions posted there."
   ]
  },
  {
   "cell_type": "markdown",
   "id": "c84499ca-08c3-47a6-b1cc-6e289ec42fdf",
   "metadata": {},
   "source": [
    "## 1. Introduction\n",
    "\n",
    "This notebook will teach the user about the basic constituents of the DP0.3 data set.  DP0.3 consists of both real and simulated solar system objects (asteroids, near-earth objects, Trojans, trans-Neptunian objects, and even a simulated spaceship... but no comets, major planets, or the Moon).  It is a hybrid catalog in which objects from the Minor Planet Center have replaced objects with similar properties from the original simulated data set.  \n",
    "\n",
    "Due to time and effort constraints, only catalog data are available.  Also, since the DP0.2 footprint is far from the ecliptic plane, only a very small fraction of DP0.3 would appear within a DP0.2 visit.  (For those interested, please see notebook **XX** for inserting an DP0.3 object into the appropriate DP0.2 visit calexp image.)\n",
    "\n",
    "For the real objects in the DP0.3, one should consult the `MPCORB` provided instead of querying the actual the Minor Planet Center (see below).\n",
    "\n",
    "For additional information, please consult \n",
    "<a href=\"https://dp0-3.lsst.io\">dp0-3.lsst.io</a>.\n"
   ]
  },
  {
   "cell_type": "markdown",
   "id": "1fdd57af-83de-464a-863f-f0886a70d989",
   "metadata": {},
   "source": [
    "### 1.1 Package Imports\n",
    "\n",
    "Import general python packages and the Rubin TAP service utilities."
   ]
  },
  {
   "cell_type": "code",
   "execution_count": 18,
   "id": "dab33fdd-8ff9-4f8f-b027-77ba5368de5d",
   "metadata": {
    "execution": {
     "iopub.execute_input": "2023-06-27T22:58:40.203929Z",
     "iopub.status.busy": "2023-06-27T22:58:40.203043Z",
     "iopub.status.idle": "2023-06-27T22:58:40.208031Z",
     "shell.execute_reply": "2023-06-27T22:58:40.207347Z",
     "shell.execute_reply.started": "2023-06-27T22:58:40.203897Z"
    },
    "tags": []
   },
   "outputs": [],
   "source": [
    "import numpy as np\n",
    "import matplotlib.pyplot as plt\n",
    "from matplotlib import colormaps\n",
    "import pandas as pd\n",
    "\n",
    "from lsst.rsp import get_tap_service, retrieve_query"
   ]
  },
  {
   "cell_type": "markdown",
   "id": "0484b1ba-eafd-465a-8691-5c1ba3bcc208",
   "metadata": {},
   "source": [
    "## 2. Create the Rubin SSO TAP Service client\n",
    "\n",
    "Get an instance of the SSO TAP service, and assert that it exists.\n",
    "\n",
    "_Note that the DP0.3 TAP service for DP0.3 is \"ssotap\", **not** \"tap\" (which is used for DP0.2)._ "
   ]
  },
  {
   "cell_type": "code",
   "execution_count": 19,
   "id": "a8daf49b-a897-479b-9524-f816bea54733",
   "metadata": {
    "execution": {
     "iopub.execute_input": "2023-06-27T22:58:41.150234Z",
     "iopub.status.busy": "2023-06-27T22:58:41.149447Z",
     "iopub.status.idle": "2023-06-27T22:58:41.210257Z",
     "shell.execute_reply": "2023-06-27T22:58:41.209279Z",
     "shell.execute_reply.started": "2023-06-27T22:58:41.150202Z"
    },
    "tags": []
   },
   "outputs": [],
   "source": [
    "service = get_tap_service(\"ssotap\")\n",
    "assert service is not None"
   ]
  },
  {
   "cell_type": "markdown",
   "id": "d49c768a-e8c5-44a6-bde1-bfa456ac7f98",
   "metadata": {},
   "source": [
    "### 2.1 What are the Moving Object Schemas?\n",
    "\n",
    "Let's take a look at which schemas are available in DP0.3.### 2.1 What are the Moving Object Schemas?"
   ]
  },
  {
   "cell_type": "code",
   "execution_count": 20,
   "id": "d62ab2ef-05df-4024-b514-dc02e4379041",
   "metadata": {
    "execution": {
     "iopub.execute_input": "2023-06-27T22:58:41.912205Z",
     "iopub.status.busy": "2023-06-27T22:58:41.911828Z",
     "iopub.status.idle": "2023-06-27T22:58:42.040271Z",
     "shell.execute_reply": "2023-06-27T22:58:42.039527Z",
     "shell.execute_reply.started": "2023-06-27T22:58:41.912172Z"
    },
    "tags": []
   },
   "outputs": [
    {
     "name": "stdout",
     "output_type": "stream",
     "text": [
      "<class 'pyvo.dal.tap.TAPResults'>\n"
     ]
    }
   ],
   "source": [
    "query = \"SELECT * FROM tap_schema.schemas\"\n",
    "results = service.search(query)\n",
    "print(type(results))"
   ]
  },
  {
   "cell_type": "code",
   "execution_count": 21,
   "id": "d28d584e-a11f-45ff-ab81-e613b806e99e",
   "metadata": {
    "execution": {
     "iopub.execute_input": "2023-06-27T22:58:42.348230Z",
     "iopub.status.busy": "2023-06-27T22:58:42.347622Z",
     "iopub.status.idle": "2023-06-27T22:58:42.451932Z",
     "shell.execute_reply": "2023-06-27T22:58:42.451299Z",
     "shell.execute_reply.started": "2023-06-27T22:58:42.348203Z"
    },
    "tags": []
   },
   "outputs": [
    {
     "data": {
      "text/html": [
       "<div>\n",
       "<style scoped>\n",
       "    .dataframe tbody tr th:only-of-type {\n",
       "        vertical-align: middle;\n",
       "    }\n",
       "\n",
       "    .dataframe tbody tr th {\n",
       "        vertical-align: top;\n",
       "    }\n",
       "\n",
       "    .dataframe thead th {\n",
       "        text-align: right;\n",
       "    }\n",
       "</style>\n",
       "<table border=\"1\" class=\"dataframe\">\n",
       "  <thead>\n",
       "    <tr style=\"text-align: right;\">\n",
       "      <th></th>\n",
       "      <th>description</th>\n",
       "      <th>schema_index</th>\n",
       "      <th>schema_name</th>\n",
       "      <th>utype</th>\n",
       "    </tr>\n",
       "  </thead>\n",
       "  <tbody>\n",
       "    <tr>\n",
       "      <th>0</th>\n",
       "      <td>Data Preview 0.3 contains the catalog products...</td>\n",
       "      <td>0</td>\n",
       "      <td>dp03_catalogs</td>\n",
       "      <td></td>\n",
       "    </tr>\n",
       "    <tr>\n",
       "      <th>1</th>\n",
       "      <td>A TAP-standard-mandated schema to describe tab...</td>\n",
       "      <td>100000</td>\n",
       "      <td>tap_schema</td>\n",
       "      <td></td>\n",
       "    </tr>\n",
       "    <tr>\n",
       "      <th>2</th>\n",
       "      <td>UWS Metadata</td>\n",
       "      <td>120000</td>\n",
       "      <td>uws</td>\n",
       "      <td></td>\n",
       "    </tr>\n",
       "  </tbody>\n",
       "</table>\n",
       "</div>"
      ],
      "text/plain": [
       "                                         description  schema_index   \n",
       "0  Data Preview 0.3 contains the catalog products...             0  \\\n",
       "1  A TAP-standard-mandated schema to describe tab...        100000   \n",
       "2                                       UWS Metadata        120000   \n",
       "\n",
       "     schema_name utype  \n",
       "0  dp03_catalogs        \n",
       "1     tap_schema        \n",
       "2            uws        "
      ]
     },
     "execution_count": 21,
     "metadata": {},
     "output_type": "execute_result"
    }
   ],
   "source": [
    "results = service.search(query).to_table().to_pandas()\n",
    "results"
   ]
  },
  {
   "cell_type": "markdown",
   "id": "057a82f3-76b0-4ae2-b5b7-928a167af408",
   "metadata": {},
   "source": [
    "We see that there is a dp03_catalogs schema."
   ]
  },
  {
   "cell_type": "markdown",
   "id": "e56f59e6-28d7-49f9-9030-118f43bbf5ad",
   "metadata": {},
   "source": [
    "### 2.2 What are in the DP0.3 catalogs?"
   ]
  },
  {
   "cell_type": "code",
   "execution_count": 22,
   "id": "f192cafc-70c0-49ed-936a-e113e9d4066c",
   "metadata": {
    "execution": {
     "iopub.execute_input": "2023-06-27T22:58:43.595491Z",
     "iopub.status.busy": "2023-06-27T22:58:43.594779Z",
     "iopub.status.idle": "2023-06-27T22:58:43.601350Z",
     "shell.execute_reply": "2023-06-27T22:58:43.600688Z",
     "shell.execute_reply.started": "2023-06-27T22:58:43.595461Z"
    },
    "tags": []
   },
   "outputs": [
    {
     "name": "stdout",
     "output_type": "stream",
     "text": [
      "DP0.3 schema is dp03_catalogs\n"
     ]
    }
   ],
   "source": [
    "schema_names = results['schema_name']\n",
    "for name in schema_names:\n",
    "    if name.find('dp03') > -1:\n",
    "        dp03_schema_name = name\n",
    "        break\n",
    "print(\"DP0.3 schema is \" + dp03_schema_name)"
   ]
  },
  {
   "cell_type": "code",
   "execution_count": 23,
   "id": "79bbde6a-bd68-4de8-a02d-2160dfae6bc4",
   "metadata": {
    "execution": {
     "iopub.execute_input": "2023-06-27T22:58:44.050789Z",
     "iopub.status.busy": "2023-06-27T22:58:44.050003Z",
     "iopub.status.idle": "2023-06-27T22:58:44.135692Z",
     "shell.execute_reply": "2023-06-27T22:58:44.135061Z",
     "shell.execute_reply.started": "2023-06-27T22:58:44.050762Z"
    },
    "tags": []
   },
   "outputs": [
    {
     "name": "stdout",
     "output_type": "stream",
     "text": [
      "SELECT * FROM tap_schema.tables WHERE tap_schema.tables.schema_name = 'dp03_catalogs' order by table_index ASC\n"
     ]
    },
    {
     "data": {
      "text/html": [
       "<div><i>Table length=4</i>\n",
       "<table id=\"table140288441601616\" class=\"table-striped table-bordered table-condensed\">\n",
       "<thead><tr><th>description</th><th>schema_name</th><th>table_index</th><th>table_name</th><th>table_type</th><th>utype</th></tr></thead>\n",
       "<thead><tr><th>str512</th><th>str512</th><th>int32</th><th>str64</th><th>str8</th><th>str512</th></tr></thead>\n",
       "<tr><td>The orbit catalog produced by the Minor Planet Center. Ingested daily. O(10M) rows by survey end. The columns are described at https://minorplanetcenter.net//iau/info/MPOrbitFormat.html</td><td>dp03_catalogs</td><td>0</td><td>dp03_catalogs.MPCORB</td><td>table</td><td></td></tr>\n",
       "<tr><td>LSST-computed per-object quantities. 1:1 relationship with MPCORB. Recomputed daily, upon MPCORB ingestion.</td><td>dp03_catalogs</td><td>0</td><td>dp03_catalogs.SSObject</td><td>table</td><td></td></tr>\n",
       "<tr><td>LSST-computed per-source quantities. 1:1 relationship with DIASource. Recomputed daily, upon MPCORB ingestion.</td><td>dp03_catalogs</td><td>0</td><td>dp03_catalogs.SSSource</td><td>table</td><td></td></tr>\n",
       "<tr><td>Table to store &apos;difference image sources&apos;; - sources detected at SNR &gt;=5 on difference images.</td><td>dp03_catalogs</td><td>0</td><td>dp03_catalogs.DiaSource</td><td>table</td><td></td></tr>\n",
       "</table></div>"
      ],
      "text/plain": [
       "<Table length=4>\n",
       "                                                                                       description                                                                                        ...\n",
       "                                                                                          str512                                                                                          ...\n",
       "----------------------------------------------------------------------------------------------------------------------------------------------------------------------------------------- ...\n",
       "The orbit catalog produced by the Minor Planet Center. Ingested daily. O(10M) rows by survey end. The columns are described at https://minorplanetcenter.net//iau/info/MPOrbitFormat.html ...\n",
       "                                                                              LSST-computed per-object quantities. 1:1 relationship with MPCORB. Recomputed daily, upon MPCORB ingestion. ...\n",
       "                                                                           LSST-computed per-source quantities. 1:1 relationship with DIASource. Recomputed daily, upon MPCORB ingestion. ...\n",
       "                                                                                           Table to store 'difference image sources'; - sources detected at SNR >=5 on difference images. ..."
      ]
     },
     "execution_count": 23,
     "metadata": {},
     "output_type": "execute_result"
    }
   ],
   "source": [
    "query = \"SELECT * FROM tap_schema.tables \" \\\n",
    "        \"WHERE tap_schema.tables.schema_name = '\" \\\n",
    "        + dp03_schema_name + \"' order by table_index ASC\"\n",
    "print(query)\n",
    "\n",
    "results = service.search(query)\n",
    "results = results.to_table()\n",
    "results"
   ]
  },
  {
   "cell_type": "markdown",
   "id": "e7302673-cab0-4003-a3dd-d22b1a77a97b",
   "metadata": {},
   "source": [
    "## 3. What's in the MPCORB catalog and how big is it?"
   ]
  },
  {
   "cell_type": "code",
   "execution_count": 24,
   "id": "e965cf06-6e16-4117-a29b-97a6a8577fb2",
   "metadata": {
    "execution": {
     "iopub.execute_input": "2023-06-27T22:58:45.000756Z",
     "iopub.status.busy": "2023-06-27T22:58:44.999756Z",
     "iopub.status.idle": "2023-06-27T22:58:46.620865Z",
     "shell.execute_reply": "2023-06-27T22:58:46.620133Z",
     "shell.execute_reply.started": "2023-06-27T22:58:45.000726Z"
    },
    "tags": []
   },
   "outputs": [
    {
     "data": {
      "text/html": [
       "<div>\n",
       "<style scoped>\n",
       "    .dataframe tbody tr th:only-of-type {\n",
       "        vertical-align: middle;\n",
       "    }\n",
       "\n",
       "    .dataframe tbody tr th {\n",
       "        vertical-align: top;\n",
       "    }\n",
       "\n",
       "    .dataframe thead th {\n",
       "        text-align: right;\n",
       "    }\n",
       "</style>\n",
       "<table border=\"1\" class=\"dataframe\">\n",
       "  <thead>\n",
       "    <tr style=\"text-align: right;\">\n",
       "      <th></th>\n",
       "      <th>COUNT</th>\n",
       "    </tr>\n",
       "  </thead>\n",
       "  <tbody>\n",
       "    <tr>\n",
       "      <th>0</th>\n",
       "      <td>14600302</td>\n",
       "    </tr>\n",
       "  </tbody>\n",
       "</table>\n",
       "</div>"
      ],
      "text/plain": [
       "      COUNT\n",
       "0  14600302"
      ]
     },
     "execution_count": 24,
     "metadata": {},
     "output_type": "execute_result"
    }
   ],
   "source": [
    "results = service.search(\"SELECT COUNT(*) from dp03_catalogs.MPCORB\")\n",
    "results.to_table().to_pandas()"
   ]
  },
  {
   "cell_type": "markdown",
   "id": "1dfddcd0-0a73-4f41-9324-2fc590bb0fbf",
   "metadata": {},
   "source": [
    "There are 14.6M rows. Let's pull out 1% of those, which would be about 43,000 rows. In order to extract data at random, we'll grab a sequence of the ssObjectId's, since they are currently random.\n",
    "\n",
    "For the moment, we can do this mostly simply by making use of a temporary trick associated with the current version of the prompt processing data products:  the fact that `ssObjectID` is a randomly assigned 64-bit long unsigned integer.  (Note:  since ADQL interprets a 64-bit long unsigned integer as a 63-bit _signed_ integer, these range from a very large negative inte ger value to a very large positive integer value.)  To grab a random sample we grab objects over a small continuous range of values of `ssObjectID`.  "
   ]
  },
  {
   "cell_type": "code",
   "execution_count": 25,
   "id": "daf15ffa-ac64-497b-8a08-2df29570fa36",
   "metadata": {
    "execution": {
     "iopub.execute_input": "2023-06-27T22:58:51.608912Z",
     "iopub.status.busy": "2023-06-27T22:58:51.608539Z",
     "iopub.status.idle": "2023-06-27T22:58:51.706985Z",
     "shell.execute_reply": "2023-06-27T22:58:51.706209Z",
     "shell.execute_reply.started": "2023-06-27T22:58:51.608885Z"
    },
    "tags": []
   },
   "outputs": [
    {
     "name": "stdout",
     "output_type": "stream",
     "text": [
      "Absolute min, max =  -9223370383071521539 9223370875126069107\n",
      "1% min, max (from top) =  9131137166374808576 9223370875126069107\n"
     ]
    }
   ],
   "source": [
    "results = service.search(\"SELECT max(ssObjectId), min(ssObjectId) from dp03_catalogs.MPCORB\")\n",
    "\n",
    "min = int(results[0].get('min'))\n",
    "max = int(results[0].get('max'))\n",
    "print('Absolute min, max = ', min, max)\n",
    "min = int(max - (0.01 * max))\n",
    "print('1% min, max (from top) = ', min, max)"
   ]
  },
  {
   "cell_type": "markdown",
   "id": "6ab5d7bb-6c76-4a06-9086-d6d92d458ce3",
   "metadata": {
    "execution": {
     "iopub.execute_input": "2023-06-27T22:39:44.565969Z",
     "iopub.status.busy": "2023-06-27T22:39:44.565076Z",
     "iopub.status.idle": "2023-06-27T22:39:44.570822Z",
     "shell.execute_reply": "2023-06-27T22:39:44.569984Z",
     "shell.execute_reply.started": "2023-06-27T22:39:44.565938Z"
    },
    "tags": []
   },
   "source": [
    "OK, we will grab a random 1% of objects from the `MPCORB` table, making use of the range of `ssObjectID` values we have just found.\n",
    "\n",
    "(_Note that you'll have some warnings from this next query that aren't your fault and will be corrected in the future._)"
   ]
  },
  {
   "cell_type": "code",
   "execution_count": 26,
   "id": "21fc62cd-b749-46fa-8739-f5ba90c36d83",
   "metadata": {
    "execution": {
     "iopub.execute_input": "2023-06-27T22:58:54.615981Z",
     "iopub.status.busy": "2023-06-27T22:58:54.615654Z",
     "iopub.status.idle": "2023-06-27T22:59:01.331670Z",
     "shell.execute_reply": "2023-06-27T22:59:01.330721Z",
     "shell.execute_reply.started": "2023-06-27T22:58:54.615959Z"
    },
    "tags": []
   },
   "outputs": [
    {
     "name": "stderr",
     "output_type": "stream",
     "text": [
      "WARNING: UnitsWarning: Unit 'days' not supported by the VOUnit standard. Did you mean daS or das? [astropy.units.format.vounit]\n"
     ]
    },
    {
     "data": {
      "text/html": [
       "<pre style=\"margin: 0.1em;\n",
       "padding-left: 0.25em;\n",
       "border-left-style: solid;\n",
       "font-family: var(--jp-code-font-family);\n",
       "font-size: var(--jp-code-font-size);\n",
       "line-height: var(--jp-code-line-height);\n",
       "\"><span style=\"color: var(--jp-warn-color2)\">astropy</span> <span style=\"color: var(--jp-warn-color0)\">WARNING</span>: UnitsWarning: Unit &#x27;days&#x27; not supported by the VOUnit standard. Did you mean daS or das?</pre>"
      ],
      "text/plain": [
       "<IPython.core.display.HTML object>"
      ]
     },
     "metadata": {},
     "output_type": "display_data"
    },
    {
     "name": "stderr",
     "output_type": "stream",
     "text": [
      "WARNING: UnitsWarning: Unit 'MJD' not supported by the VOUnit standard. Did you mean MD, MJ, Md, mD, mJ or md? [astropy.units.format.vounit]\n"
     ]
    },
    {
     "data": {
      "text/html": [
       "<pre style=\"margin: 0.1em;\n",
       "padding-left: 0.25em;\n",
       "border-left-style: solid;\n",
       "font-family: var(--jp-code-font-family);\n",
       "font-size: var(--jp-code-font-size);\n",
       "line-height: var(--jp-code-line-height);\n",
       "\"><span style=\"color: var(--jp-warn-color2)\">astropy</span> <span style=\"color: var(--jp-warn-color0)\">WARNING</span>: UnitsWarning: Unit &#x27;MJD&#x27; not supported by the VOUnit standard. Did you mean MD, MJ, Md, mD, mJ or md?</pre>"
      ],
      "text/plain": [
       "<IPython.core.display.HTML object>"
      ]
     },
     "metadata": {},
     "output_type": "display_data"
    },
    {
     "name": "stderr",
     "output_type": "stream",
     "text": [
      "WARNING: UnitsWarning: Unit 'degrees' not supported by the VOUnit standard.  [astropy.units.format.vounit]\n"
     ]
    },
    {
     "data": {
      "text/html": [
       "<pre style=\"margin: 0.1em;\n",
       "padding-left: 0.25em;\n",
       "border-left-style: solid;\n",
       "font-family: var(--jp-code-font-family);\n",
       "font-size: var(--jp-code-font-size);\n",
       "line-height: var(--jp-code-line-height);\n",
       "\"><span style=\"color: var(--jp-warn-color2)\">astropy</span> <span style=\"color: var(--jp-warn-color0)\">WARNING</span>: UnitsWarning: Unit &#x27;degrees&#x27; not supported by the VOUnit standard. </pre>"
      ],
      "text/plain": [
       "<IPython.core.display.HTML object>"
      ]
     },
     "metadata": {},
     "output_type": "display_data"
    },
    {
     "name": "stderr",
     "output_type": "stream",
     "text": [
      "WARNING: UnitsWarning: Unit 'day' not supported by the VOUnit standard. Did you mean daJy, daRy or dayr? [astropy.units.format.vounit]\n"
     ]
    },
    {
     "data": {
      "text/html": [
       "<pre style=\"margin: 0.1em;\n",
       "padding-left: 0.25em;\n",
       "border-left-style: solid;\n",
       "font-family: var(--jp-code-font-family);\n",
       "font-size: var(--jp-code-font-size);\n",
       "line-height: var(--jp-code-line-height);\n",
       "\"><span style=\"color: var(--jp-warn-color2)\">astropy</span> <span style=\"color: var(--jp-warn-color0)\">WARNING</span>: UnitsWarning: Unit &#x27;day&#x27; not supported by the VOUnit standard. Did you mean daJy, daRy or dayr?</pre>"
      ],
      "text/plain": [
       "<IPython.core.display.HTML object>"
      ]
     },
     "metadata": {},
     "output_type": "display_data"
    },
    {
     "data": {
      "text/html": [
       "<div>\n",
       "<style scoped>\n",
       "    .dataframe tbody tr th:only-of-type {\n",
       "        vertical-align: middle;\n",
       "    }\n",
       "\n",
       "    .dataframe tbody tr th {\n",
       "        vertical-align: top;\n",
       "    }\n",
       "\n",
       "    .dataframe thead th {\n",
       "        text-align: right;\n",
       "    }\n",
       "</style>\n",
       "<table border=\"1\" class=\"dataframe\">\n",
       "  <thead>\n",
       "    <tr style=\"text-align: right;\">\n",
       "      <th></th>\n",
       "      <th>arc</th>\n",
       "      <th>arcEnd</th>\n",
       "      <th>arcStart</th>\n",
       "      <th>computer</th>\n",
       "      <th>e</th>\n",
       "      <th>epoch</th>\n",
       "      <th>flags</th>\n",
       "      <th>fullDesignation</th>\n",
       "      <th>incl</th>\n",
       "      <th>lastIncludedObservation</th>\n",
       "      <th>...</th>\n",
       "      <th>nopp</th>\n",
       "      <th>peri</th>\n",
       "      <th>pertsLong</th>\n",
       "      <th>pertsShort</th>\n",
       "      <th>q</th>\n",
       "      <th>reference</th>\n",
       "      <th>rms</th>\n",
       "      <th>ssObjectId</th>\n",
       "      <th>tperi</th>\n",
       "      <th>uncertaintyParameter</th>\n",
       "    </tr>\n",
       "  </thead>\n",
       "  <tbody>\n",
       "    <tr>\n",
       "      <th>0</th>\n",
       "      <td>NaN</td>\n",
       "      <td></td>\n",
       "      <td></td>\n",
       "      <td></td>\n",
       "      <td>0.570970</td>\n",
       "      <td>54800.000000</td>\n",
       "      <td>0</td>\n",
       "      <td>2011 SR00004K</td>\n",
       "      <td>25.939150</td>\n",
       "      <td>NaN</td>\n",
       "      <td>...</td>\n",
       "      <td>0</td>\n",
       "      <td>350.606980</td>\n",
       "      <td></td>\n",
       "      <td></td>\n",
       "      <td>6.113300</td>\n",
       "      <td></td>\n",
       "      <td>NaN</td>\n",
       "      <td>9185009465900868832</td>\n",
       "      <td>20859.963850</td>\n",
       "      <td></td>\n",
       "    </tr>\n",
       "    <tr>\n",
       "      <th>1</th>\n",
       "      <td>NaN</td>\n",
       "      <td></td>\n",
       "      <td></td>\n",
       "      <td></td>\n",
       "      <td>0.363600</td>\n",
       "      <td>54800.000000</td>\n",
       "      <td>0</td>\n",
       "      <td>2011 SR0000iQ</td>\n",
       "      <td>16.353220</td>\n",
       "      <td>NaN</td>\n",
       "      <td>...</td>\n",
       "      <td>0</td>\n",
       "      <td>147.316050</td>\n",
       "      <td></td>\n",
       "      <td></td>\n",
       "      <td>17.303450</td>\n",
       "      <td></td>\n",
       "      <td>NaN</td>\n",
       "      <td>9136273658435248197</td>\n",
       "      <td>51070.857800</td>\n",
       "      <td></td>\n",
       "    </tr>\n",
       "    <tr>\n",
       "      <th>2</th>\n",
       "      <td>NaN</td>\n",
       "      <td></td>\n",
       "      <td></td>\n",
       "      <td></td>\n",
       "      <td>0.422040</td>\n",
       "      <td>54800.000000</td>\n",
       "      <td>0</td>\n",
       "      <td>2011 SR0000jR</td>\n",
       "      <td>16.453660</td>\n",
       "      <td>NaN</td>\n",
       "      <td>...</td>\n",
       "      <td>0</td>\n",
       "      <td>274.863090</td>\n",
       "      <td></td>\n",
       "      <td></td>\n",
       "      <td>6.479600</td>\n",
       "      <td></td>\n",
       "      <td>NaN</td>\n",
       "      <td>9196671585077870249</td>\n",
       "      <td>28521.104640</td>\n",
       "      <td></td>\n",
       "    </tr>\n",
       "    <tr>\n",
       "      <th>3</th>\n",
       "      <td>NaN</td>\n",
       "      <td></td>\n",
       "      <td></td>\n",
       "      <td></td>\n",
       "      <td>0.639530</td>\n",
       "      <td>54800.000000</td>\n",
       "      <td>0</td>\n",
       "      <td>2011 SR0000sn</td>\n",
       "      <td>15.263050</td>\n",
       "      <td>NaN</td>\n",
       "      <td>...</td>\n",
       "      <td>0</td>\n",
       "      <td>226.268830</td>\n",
       "      <td></td>\n",
       "      <td></td>\n",
       "      <td>9.611210</td>\n",
       "      <td></td>\n",
       "      <td>NaN</td>\n",
       "      <td>9165069355693008015</td>\n",
       "      <td>47926.391840</td>\n",
       "      <td></td>\n",
       "    </tr>\n",
       "    <tr>\n",
       "      <th>4</th>\n",
       "      <td>NaN</td>\n",
       "      <td></td>\n",
       "      <td></td>\n",
       "      <td></td>\n",
       "      <td>0.558600</td>\n",
       "      <td>54800.000000</td>\n",
       "      <td>0</td>\n",
       "      <td>2011 SR0000O9</td>\n",
       "      <td>2.014410</td>\n",
       "      <td>NaN</td>\n",
       "      <td>...</td>\n",
       "      <td>0</td>\n",
       "      <td>342.576070</td>\n",
       "      <td></td>\n",
       "      <td></td>\n",
       "      <td>6.387960</td>\n",
       "      <td></td>\n",
       "      <td>NaN</td>\n",
       "      <td>9204187278771900476</td>\n",
       "      <td>54049.125620</td>\n",
       "      <td></td>\n",
       "    </tr>\n",
       "    <tr>\n",
       "      <th>...</th>\n",
       "      <td>...</td>\n",
       "      <td>...</td>\n",
       "      <td>...</td>\n",
       "      <td>...</td>\n",
       "      <td>...</td>\n",
       "      <td>...</td>\n",
       "      <td>...</td>\n",
       "      <td>...</td>\n",
       "      <td>...</td>\n",
       "      <td>...</td>\n",
       "      <td>...</td>\n",
       "      <td>...</td>\n",
       "      <td>...</td>\n",
       "      <td>...</td>\n",
       "      <td>...</td>\n",
       "      <td>...</td>\n",
       "      <td>...</td>\n",
       "      <td>...</td>\n",
       "      <td>...</td>\n",
       "      <td>...</td>\n",
       "      <td>...</td>\n",
       "    </tr>\n",
       "    <tr>\n",
       "      <th>73194</th>\n",
       "      <td>NaN</td>\n",
       "      <td></td>\n",
       "      <td></td>\n",
       "      <td></td>\n",
       "      <td>0.699330</td>\n",
       "      <td>73349.917495</td>\n",
       "      <td>0</td>\n",
       "      <td>2011 SI00029q</td>\n",
       "      <td>8.924373</td>\n",
       "      <td>NaN</td>\n",
       "      <td>...</td>\n",
       "      <td>0</td>\n",
       "      <td>155.486565</td>\n",
       "      <td></td>\n",
       "      <td></td>\n",
       "      <td>1.010904</td>\n",
       "      <td></td>\n",
       "      <td>NaN</td>\n",
       "      <td>9202444422702896229</td>\n",
       "      <td>72771.929158</td>\n",
       "      <td></td>\n",
       "    </tr>\n",
       "    <tr>\n",
       "      <th>73195</th>\n",
       "      <td>NaN</td>\n",
       "      <td></td>\n",
       "      <td></td>\n",
       "      <td></td>\n",
       "      <td>0.241565</td>\n",
       "      <td>82907.000554</td>\n",
       "      <td>0</td>\n",
       "      <td>2011 SI0002l6</td>\n",
       "      <td>9.715864</td>\n",
       "      <td>NaN</td>\n",
       "      <td>...</td>\n",
       "      <td>0</td>\n",
       "      <td>17.733114</td>\n",
       "      <td></td>\n",
       "      <td></td>\n",
       "      <td>0.974737</td>\n",
       "      <td></td>\n",
       "      <td>NaN</td>\n",
       "      <td>9177118190137388277</td>\n",
       "      <td>83012.719158</td>\n",
       "      <td></td>\n",
       "    </tr>\n",
       "    <tr>\n",
       "      <th>73196</th>\n",
       "      <td>NaN</td>\n",
       "      <td></td>\n",
       "      <td></td>\n",
       "      <td></td>\n",
       "      <td>0.563781</td>\n",
       "      <td>61365.350292</td>\n",
       "      <td>0</td>\n",
       "      <td>2011 SI0002qP</td>\n",
       "      <td>4.110239</td>\n",
       "      <td>NaN</td>\n",
       "      <td>...</td>\n",
       "      <td>0</td>\n",
       "      <td>152.428342</td>\n",
       "      <td></td>\n",
       "      <td></td>\n",
       "      <td>0.949081</td>\n",
       "      <td></td>\n",
       "      <td>NaN</td>\n",
       "      <td>9220586587601309840</td>\n",
       "      <td>61834.429501</td>\n",
       "      <td></td>\n",
       "    </tr>\n",
       "    <tr>\n",
       "      <th>73197</th>\n",
       "      <td>NaN</td>\n",
       "      <td></td>\n",
       "      <td></td>\n",
       "      <td></td>\n",
       "      <td>0.686982</td>\n",
       "      <td>64269.689620</td>\n",
       "      <td>0</td>\n",
       "      <td>2011 SI0002uH</td>\n",
       "      <td>1.053755</td>\n",
       "      <td>NaN</td>\n",
       "      <td>...</td>\n",
       "      <td>0</td>\n",
       "      <td>324.365268</td>\n",
       "      <td></td>\n",
       "      <td></td>\n",
       "      <td>0.873964</td>\n",
       "      <td></td>\n",
       "      <td>NaN</td>\n",
       "      <td>9143316944274961815</td>\n",
       "      <td>65005.664047</td>\n",
       "      <td></td>\n",
       "    </tr>\n",
       "    <tr>\n",
       "      <th>73198</th>\n",
       "      <td>NaN</td>\n",
       "      <td></td>\n",
       "      <td></td>\n",
       "      <td></td>\n",
       "      <td>0.541698</td>\n",
       "      <td>70097.664420</td>\n",
       "      <td>0</td>\n",
       "      <td>2011 SI0002wp</td>\n",
       "      <td>23.764471</td>\n",
       "      <td>NaN</td>\n",
       "      <td>...</td>\n",
       "      <td>0</td>\n",
       "      <td>23.457799</td>\n",
       "      <td></td>\n",
       "      <td></td>\n",
       "      <td>0.323058</td>\n",
       "      <td></td>\n",
       "      <td>NaN</td>\n",
       "      <td>9137949399332570056</td>\n",
       "      <td>70025.768514</td>\n",
       "      <td></td>\n",
       "    </tr>\n",
       "  </tbody>\n",
       "</table>\n",
       "<p>73199 rows × 27 columns</p>\n",
       "</div>"
      ],
      "text/plain": [
       "       arc arcEnd arcStart computer         e         epoch  flags   \n",
       "0      NaN                           0.570970  54800.000000      0  \\\n",
       "1      NaN                           0.363600  54800.000000      0   \n",
       "2      NaN                           0.422040  54800.000000      0   \n",
       "3      NaN                           0.639530  54800.000000      0   \n",
       "4      NaN                           0.558600  54800.000000      0   \n",
       "...    ...    ...      ...      ...       ...           ...    ...   \n",
       "73194  NaN                           0.699330  73349.917495      0   \n",
       "73195  NaN                           0.241565  82907.000554      0   \n",
       "73196  NaN                           0.563781  61365.350292      0   \n",
       "73197  NaN                           0.686982  64269.689620      0   \n",
       "73198  NaN                           0.541698  70097.664420      0   \n",
       "\n",
       "      fullDesignation       incl  lastIncludedObservation  ... nopp   \n",
       "0       2011 SR00004K  25.939150                      NaN  ...    0  \\\n",
       "1       2011 SR0000iQ  16.353220                      NaN  ...    0   \n",
       "2       2011 SR0000jR  16.453660                      NaN  ...    0   \n",
       "3       2011 SR0000sn  15.263050                      NaN  ...    0   \n",
       "4       2011 SR0000O9   2.014410                      NaN  ...    0   \n",
       "...               ...        ...                      ...  ...  ...   \n",
       "73194   2011 SI00029q   8.924373                      NaN  ...    0   \n",
       "73195   2011 SI0002l6   9.715864                      NaN  ...    0   \n",
       "73196   2011 SI0002qP   4.110239                      NaN  ...    0   \n",
       "73197   2011 SI0002uH   1.053755                      NaN  ...    0   \n",
       "73198   2011 SI0002wp  23.764471                      NaN  ...    0   \n",
       "\n",
       "             peri  pertsLong  pertsShort          q  reference  rms   \n",
       "0      350.606980                          6.113300             NaN  \\\n",
       "1      147.316050                         17.303450             NaN   \n",
       "2      274.863090                          6.479600             NaN   \n",
       "3      226.268830                          9.611210             NaN   \n",
       "4      342.576070                          6.387960             NaN   \n",
       "...           ...        ...         ...        ...        ...  ...   \n",
       "73194  155.486565                          1.010904             NaN   \n",
       "73195   17.733114                          0.974737             NaN   \n",
       "73196  152.428342                          0.949081             NaN   \n",
       "73197  324.365268                          0.873964             NaN   \n",
       "73198   23.457799                          0.323058             NaN   \n",
       "\n",
       "                ssObjectId         tperi uncertaintyParameter  \n",
       "0      9185009465900868832  20859.963850                       \n",
       "1      9136273658435248197  51070.857800                       \n",
       "2      9196671585077870249  28521.104640                       \n",
       "3      9165069355693008015  47926.391840                       \n",
       "4      9204187278771900476  54049.125620                       \n",
       "...                    ...           ...                  ...  \n",
       "73194  9202444422702896229  72771.929158                       \n",
       "73195  9177118190137388277  83012.719158                       \n",
       "73196  9220586587601309840  61834.429501                       \n",
       "73197  9143316944274961815  65005.664047                       \n",
       "73198  9137949399332570056  70025.768514                       \n",
       "\n",
       "[73199 rows x 27 columns]"
      ]
     },
     "execution_count": 26,
     "metadata": {},
     "output_type": "execute_result"
    }
   ],
   "source": [
    "query = \"\"\"SELECT *\n",
    "FROM dp03_catalogs.MPCORB\n",
    "WHERE ssObjectId < 9223370875126069107 AND ssObjectId > 9131137166374808576\"\"\"\n",
    "\n",
    "df = service.search(query).to_table().to_pandas()\n",
    "df"
   ]
  },
  {
   "cell_type": "markdown",
   "id": "aaa28cea-3137-4a8a-a5a1-756a4943ddbb",
   "metadata": {
    "execution": {
     "iopub.execute_input": "2023-06-27T22:42:58.606568Z",
     "iopub.status.busy": "2023-06-27T22:42:58.605621Z",
     "iopub.status.idle": "2023-06-27T22:42:58.612817Z",
     "shell.execute_reply": "2023-06-27T22:42:58.611762Z",
     "shell.execute_reply.started": "2023-06-27T22:42:58.606523Z"
    },
    "tags": []
   },
   "source": [
    "73199 objects have been returned, but 73199 is not 1% of 14600302.\n",
    "\n",
    "We may have botched something abovec, but let's go with it for now.\n",
    "\n",
    "Let's look at the column information for the data frame we have just created:"
   ]
  },
  {
   "cell_type": "code",
   "execution_count": 27,
   "id": "1752b220-1916-440b-8c3e-616c4e0623f7",
   "metadata": {
    "execution": {
     "iopub.execute_input": "2023-06-27T22:59:01.342721Z",
     "iopub.status.busy": "2023-06-27T22:59:01.342285Z",
     "iopub.status.idle": "2023-06-27T22:59:01.370405Z",
     "shell.execute_reply": "2023-06-27T22:59:01.369717Z",
     "shell.execute_reply.started": "2023-06-27T22:59:01.342699Z"
    },
    "tags": []
   },
   "outputs": [
    {
     "name": "stdout",
     "output_type": "stream",
     "text": [
      "<class 'pandas.core.frame.DataFrame'>\n",
      "RangeIndex: 73199 entries, 0 to 73198\n",
      "Data columns (total 27 columns):\n",
      " #   Column                   Non-Null Count  Dtype  \n",
      "---  ------                   --------------  -----  \n",
      " 0   arc                      0 non-null      float32\n",
      " 1   arcEnd                   73199 non-null  object \n",
      " 2   arcStart                 73199 non-null  object \n",
      " 3   computer                 73199 non-null  object \n",
      " 4   e                        73199 non-null  float64\n",
      " 5   epoch                    73199 non-null  float64\n",
      " 6   flags                    73199 non-null  int32  \n",
      " 7   fullDesignation          73199 non-null  object \n",
      " 8   incl                     73199 non-null  float64\n",
      " 9   lastIncludedObservation  0 non-null      float32\n",
      " 10  mpcDesignation           73199 non-null  object \n",
      " 11  mpcG                     73199 non-null  float32\n",
      " 12  mpcH                     73199 non-null  float32\n",
      " 13  mpcNumber                73199 non-null  int32  \n",
      " 14  n                        0 non-null      float64\n",
      " 15  nobs                     73199 non-null  int32  \n",
      " 16  node                     73199 non-null  float64\n",
      " 17  nopp                     73199 non-null  int32  \n",
      " 18  peri                     73199 non-null  float64\n",
      " 19  pertsLong                73199 non-null  object \n",
      " 20  pertsShort               73199 non-null  object \n",
      " 21  q                        73199 non-null  float64\n",
      " 22  reference                73199 non-null  object \n",
      " 23  rms                      0 non-null      float32\n",
      " 24  ssObjectId               73199 non-null  int64  \n",
      " 25  tperi                    73199 non-null  float64\n",
      " 26  uncertaintyParameter     73199 non-null  object \n",
      "dtypes: float32(5), float64(8), int32(4), int64(1), object(9)\n",
      "memory usage: 12.6+ MB\n"
     ]
    }
   ],
   "source": [
    "df.info()"
   ]
  },
  {
   "cell_type": "code",
   "execution_count": 30,
   "id": "0cdf2982-1cc2-476c-a14b-9ba9d3561fb2",
   "metadata": {
    "execution": {
     "iopub.execute_input": "2023-06-27T22:59:53.340092Z",
     "iopub.status.busy": "2023-06-27T22:59:53.339291Z",
     "iopub.status.idle": "2023-06-27T22:59:53.427445Z",
     "shell.execute_reply": "2023-06-27T22:59:53.426797Z",
     "shell.execute_reply.started": "2023-06-27T22:59:53.340065Z"
    },
    "tags": []
   },
   "outputs": [
    {
     "data": {
      "text/html": [
       "<div>\n",
       "<style scoped>\n",
       "    .dataframe tbody tr th:only-of-type {\n",
       "        vertical-align: middle;\n",
       "    }\n",
       "\n",
       "    .dataframe tbody tr th {\n",
       "        vertical-align: top;\n",
       "    }\n",
       "\n",
       "    .dataframe thead th {\n",
       "        text-align: right;\n",
       "    }\n",
       "</style>\n",
       "<table border=\"1\" class=\"dataframe\">\n",
       "  <thead>\n",
       "    <tr style=\"text-align: right;\">\n",
       "      <th></th>\n",
       "      <th>arc</th>\n",
       "      <th>e</th>\n",
       "      <th>epoch</th>\n",
       "      <th>flags</th>\n",
       "      <th>incl</th>\n",
       "      <th>lastIncludedObservation</th>\n",
       "      <th>mpcG</th>\n",
       "      <th>mpcH</th>\n",
       "      <th>mpcNumber</th>\n",
       "      <th>n</th>\n",
       "      <th>nobs</th>\n",
       "      <th>node</th>\n",
       "      <th>nopp</th>\n",
       "      <th>peri</th>\n",
       "      <th>q</th>\n",
       "      <th>rms</th>\n",
       "      <th>ssObjectId</th>\n",
       "      <th>tperi</th>\n",
       "    </tr>\n",
       "  </thead>\n",
       "  <tbody>\n",
       "    <tr>\n",
       "      <th>count</th>\n",
       "      <td>0.0</td>\n",
       "      <td>73199.000000</td>\n",
       "      <td>73199.000000</td>\n",
       "      <td>73199.0</td>\n",
       "      <td>73199.000000</td>\n",
       "      <td>0.0</td>\n",
       "      <td>73199.000000</td>\n",
       "      <td>73199.000000</td>\n",
       "      <td>73199.0</td>\n",
       "      <td>0.0</td>\n",
       "      <td>73199.0</td>\n",
       "      <td>73199.000000</td>\n",
       "      <td>73199.0</td>\n",
       "      <td>73199.000000</td>\n",
       "      <td>73199.000000</td>\n",
       "      <td>0.0</td>\n",
       "      <td>7.319900e+04</td>\n",
       "      <td>73199.000000</td>\n",
       "    </tr>\n",
       "    <tr>\n",
       "      <th>mean</th>\n",
       "      <td>NaN</td>\n",
       "      <td>0.172110</td>\n",
       "      <td>54802.108562</td>\n",
       "      <td>0.0</td>\n",
       "      <td>10.972516</td>\n",
       "      <td>NaN</td>\n",
       "      <td>0.150000</td>\n",
       "      <td>20.617748</td>\n",
       "      <td>0.0</td>\n",
       "      <td>NaN</td>\n",
       "      <td>0.0</td>\n",
       "      <td>173.933889</td>\n",
       "      <td>0.0</td>\n",
       "      <td>180.749174</td>\n",
       "      <td>2.440718</td>\n",
       "      <td>NaN</td>\n",
       "      <td>9.177219e+18</td>\n",
       "      <td>52907.166256</td>\n",
       "    </tr>\n",
       "    <tr>\n",
       "      <th>std</th>\n",
       "      <td>NaN</td>\n",
       "      <td>0.107582</td>\n",
       "      <td>604.821538</td>\n",
       "      <td>0.0</td>\n",
       "      <td>7.747497</td>\n",
       "      <td>NaN</td>\n",
       "      <td>0.000048</td>\n",
       "      <td>2.177858</td>\n",
       "      <td>0.0</td>\n",
       "      <td>NaN</td>\n",
       "      <td>0.0</td>\n",
       "      <td>104.124171</td>\n",
       "      <td>0.0</td>\n",
       "      <td>104.058915</td>\n",
       "      <td>2.278342</td>\n",
       "      <td>NaN</td>\n",
       "      <td>2.656449e+16</td>\n",
       "      <td>4542.692712</td>\n",
       "    </tr>\n",
       "    <tr>\n",
       "      <th>min</th>\n",
       "      <td>NaN</td>\n",
       "      <td>-0.002850</td>\n",
       "      <td>54090.500000</td>\n",
       "      <td>0.0</td>\n",
       "      <td>0.000990</td>\n",
       "      <td>NaN</td>\n",
       "      <td>0.150000</td>\n",
       "      <td>4.760000</td>\n",
       "      <td>0.0</td>\n",
       "      <td>NaN</td>\n",
       "      <td>0.0</td>\n",
       "      <td>0.011650</td>\n",
       "      <td>0.0</td>\n",
       "      <td>0.003060</td>\n",
       "      <td>0.011427</td>\n",
       "      <td>NaN</td>\n",
       "      <td>9.131138e+18</td>\n",
       "      <td>-63479.039930</td>\n",
       "    </tr>\n",
       "    <tr>\n",
       "      <th>25%</th>\n",
       "      <td>NaN</td>\n",
       "      <td>0.105540</td>\n",
       "      <td>54800.000000</td>\n",
       "      <td>0.0</td>\n",
       "      <td>5.476765</td>\n",
       "      <td>NaN</td>\n",
       "      <td>0.150000</td>\n",
       "      <td>19.610001</td>\n",
       "      <td>0.0</td>\n",
       "      <td>NaN</td>\n",
       "      <td>0.0</td>\n",
       "      <td>83.464248</td>\n",
       "      <td>0.0</td>\n",
       "      <td>90.570235</td>\n",
       "      <td>1.956780</td>\n",
       "      <td>NaN</td>\n",
       "      <td>9.154215e+18</td>\n",
       "      <td>52026.252475</td>\n",
       "    </tr>\n",
       "    <tr>\n",
       "      <th>50%</th>\n",
       "      <td>NaN</td>\n",
       "      <td>0.157540</td>\n",
       "      <td>54800.000000</td>\n",
       "      <td>0.0</td>\n",
       "      <td>9.825610</td>\n",
       "      <td>NaN</td>\n",
       "      <td>0.150000</td>\n",
       "      <td>20.900000</td>\n",
       "      <td>0.0</td>\n",
       "      <td>NaN</td>\n",
       "      <td>0.0</td>\n",
       "      <td>167.619030</td>\n",
       "      <td>0.0</td>\n",
       "      <td>181.001910</td>\n",
       "      <td>2.199550</td>\n",
       "      <td>NaN</td>\n",
       "      <td>9.177232e+18</td>\n",
       "      <td>53802.537050</td>\n",
       "    </tr>\n",
       "    <tr>\n",
       "      <th>75%</th>\n",
       "      <td>NaN</td>\n",
       "      <td>0.211480</td>\n",
       "      <td>54800.000000</td>\n",
       "      <td>0.0</td>\n",
       "      <td>14.184560</td>\n",
       "      <td>NaN</td>\n",
       "      <td>0.150000</td>\n",
       "      <td>22.040001</td>\n",
       "      <td>0.0</td>\n",
       "      <td>NaN</td>\n",
       "      <td>0.0</td>\n",
       "      <td>264.384020</td>\n",
       "      <td>0.0</td>\n",
       "      <td>271.618820</td>\n",
       "      <td>2.574720</td>\n",
       "      <td>NaN</td>\n",
       "      <td>9.200119e+18</td>\n",
       "      <td>54421.666745</td>\n",
       "    </tr>\n",
       "    <tr>\n",
       "      <th>max</th>\n",
       "      <td>NaN</td>\n",
       "      <td>0.999930</td>\n",
       "      <td>90936.183867</td>\n",
       "      <td>0.0</td>\n",
       "      <td>154.846880</td>\n",
       "      <td>NaN</td>\n",
       "      <td>0.150000</td>\n",
       "      <td>26.540001</td>\n",
       "      <td>0.0</td>\n",
       "      <td>NaN</td>\n",
       "      <td>0.0</td>\n",
       "      <td>359.992530</td>\n",
       "      <td>0.0</td>\n",
       "      <td>359.994620</td>\n",
       "      <td>45.345770</td>\n",
       "      <td>NaN</td>\n",
       "      <td>9.223370e+18</td>\n",
       "      <td>112667.605180</td>\n",
       "    </tr>\n",
       "  </tbody>\n",
       "</table>\n",
       "</div>"
      ],
      "text/plain": [
       "       arc             e         epoch    flags          incl   \n",
       "count  0.0  73199.000000  73199.000000  73199.0  73199.000000  \\\n",
       "mean   NaN      0.172110  54802.108562      0.0     10.972516   \n",
       "std    NaN      0.107582    604.821538      0.0      7.747497   \n",
       "min    NaN     -0.002850  54090.500000      0.0      0.000990   \n",
       "25%    NaN      0.105540  54800.000000      0.0      5.476765   \n",
       "50%    NaN      0.157540  54800.000000      0.0      9.825610   \n",
       "75%    NaN      0.211480  54800.000000      0.0     14.184560   \n",
       "max    NaN      0.999930  90936.183867      0.0    154.846880   \n",
       "\n",
       "       lastIncludedObservation          mpcG          mpcH  mpcNumber    n   \n",
       "count                      0.0  73199.000000  73199.000000    73199.0  0.0  \\\n",
       "mean                       NaN      0.150000     20.617748        0.0  NaN   \n",
       "std                        NaN      0.000048      2.177858        0.0  NaN   \n",
       "min                        NaN      0.150000      4.760000        0.0  NaN   \n",
       "25%                        NaN      0.150000     19.610001        0.0  NaN   \n",
       "50%                        NaN      0.150000     20.900000        0.0  NaN   \n",
       "75%                        NaN      0.150000     22.040001        0.0  NaN   \n",
       "max                        NaN      0.150000     26.540001        0.0  NaN   \n",
       "\n",
       "          nobs          node     nopp          peri             q  rms   \n",
       "count  73199.0  73199.000000  73199.0  73199.000000  73199.000000  0.0  \\\n",
       "mean       0.0    173.933889      0.0    180.749174      2.440718  NaN   \n",
       "std        0.0    104.124171      0.0    104.058915      2.278342  NaN   \n",
       "min        0.0      0.011650      0.0      0.003060      0.011427  NaN   \n",
       "25%        0.0     83.464248      0.0     90.570235      1.956780  NaN   \n",
       "50%        0.0    167.619030      0.0    181.001910      2.199550  NaN   \n",
       "75%        0.0    264.384020      0.0    271.618820      2.574720  NaN   \n",
       "max        0.0    359.992530      0.0    359.994620     45.345770  NaN   \n",
       "\n",
       "         ssObjectId          tperi  \n",
       "count  7.319900e+04   73199.000000  \n",
       "mean   9.177219e+18   52907.166256  \n",
       "std    2.656449e+16    4542.692712  \n",
       "min    9.131138e+18  -63479.039930  \n",
       "25%    9.154215e+18   52026.252475  \n",
       "50%    9.177232e+18   53802.537050  \n",
       "75%    9.200119e+18   54421.666745  \n",
       "max    9.223370e+18  112667.605180  "
      ]
     },
     "execution_count": 30,
     "metadata": {},
     "output_type": "execute_result"
    }
   ],
   "source": [
    "df.describe()"
   ]
  },
  {
   "cell_type": "markdown",
   "id": "528bd445-2510-4fbd-985e-f33c91f3e47f",
   "metadata": {},
   "source": [
    "Let's drop all the columns that only contain 'NaN' values:"
   ]
  },
  {
   "cell_type": "code",
   "execution_count": 31,
   "id": "b0ab196d-8766-4102-97ac-046e3bb4868a",
   "metadata": {
    "execution": {
     "iopub.execute_input": "2023-06-27T23:12:22.862022Z",
     "iopub.status.busy": "2023-06-27T23:12:22.861078Z",
     "iopub.status.idle": "2023-06-27T23:12:22.895929Z",
     "shell.execute_reply": "2023-06-27T23:12:22.894949Z",
     "shell.execute_reply.started": "2023-06-27T23:12:22.861991Z"
    },
    "tags": []
   },
   "outputs": [],
   "source": [
    "df.dropna(axis=1, how='all', inplace=True)"
   ]
  },
  {
   "cell_type": "markdown",
   "id": "f84f2210-b8c2-4255-aefe-1f4b751e229c",
   "metadata": {},
   "source": [
    "Let's also drop any columns that contain only one distinct value (e.g., all columns are ' ' or all columns are 0).  We note that `mpcG` is one of the columns that will be dropped, since it was set to 0.15 for all the rows."
   ]
  },
  {
   "cell_type": "code",
   "execution_count": 32,
   "id": "70852f5d-783e-4053-825e-d612ecc88ff1",
   "metadata": {
    "execution": {
     "iopub.execute_input": "2023-06-27T23:15:46.792530Z",
     "iopub.status.busy": "2023-06-27T23:15:46.792114Z",
     "iopub.status.idle": "2023-06-27T23:15:46.932802Z",
     "shell.execute_reply": "2023-06-27T23:15:46.932034Z",
     "shell.execute_reply.started": "2023-06-27T23:15:46.792492Z"
    },
    "tags": []
   },
   "outputs": [],
   "source": [
    "for col in df.columns:\n",
    "    if len(df[col].unique()) == 1:\n",
    "        df.drop(col,inplace=True,axis=1)"
   ]
  },
  {
   "cell_type": "markdown",
   "id": "1f352ed2-08bc-4c02-941a-40dfb9d3faa5",
   "metadata": {},
   "source": [
    "Let's see what columns remain."
   ]
  },
  {
   "cell_type": "code",
   "execution_count": 33,
   "id": "8336d505-2560-4f88-bb6c-69ecc11dd76b",
   "metadata": {
    "execution": {
     "iopub.execute_input": "2023-06-27T23:16:12.815187Z",
     "iopub.status.busy": "2023-06-27T23:16:12.814418Z",
     "iopub.status.idle": "2023-06-27T23:16:12.819794Z",
     "shell.execute_reply": "2023-06-27T23:16:12.819199Z",
     "shell.execute_reply.started": "2023-06-27T23:16:12.815154Z"
    },
    "tags": []
   },
   "outputs": [
    {
     "data": {
      "text/plain": [
       "Index(['e', 'epoch', 'fullDesignation', 'incl', 'mpcDesignation', 'mpcH',\n",
       "       'node', 'peri', 'q', 'ssObjectId', 'tperi'],\n",
       "      dtype='object')"
      ]
     },
     "execution_count": 33,
     "metadata": {},
     "output_type": "execute_result"
    }
   ],
   "source": [
    "df.columns"
   ]
  },
  {
   "cell_type": "markdown",
   "id": "9721c47c-6302-4e0c-8d38-3825ff86266c",
   "metadata": {},
   "source": [
    "Let's make some histograms."
   ]
  },
  {
   "cell_type": "code",
   "execution_count": 34,
   "id": "478cba37-0c97-4132-83e5-6bde2083b6bc",
   "metadata": {
    "execution": {
     "iopub.execute_input": "2023-06-27T23:17:20.551835Z",
     "iopub.status.busy": "2023-06-27T23:17:20.550942Z",
     "iopub.status.idle": "2023-06-27T23:17:22.105727Z",
     "shell.execute_reply": "2023-06-27T23:17:22.104705Z",
     "shell.execute_reply.started": "2023-06-27T23:17:20.551805Z"
    },
    "tags": []
   },
   "outputs": [
    {
     "data": {
      "text/plain": [
       "Text(0.5, 0.98, 'Some MPCORB Histograms')"
      ]
     },
     "execution_count": 34,
     "metadata": {},
     "output_type": "execute_result"
    },
    {
     "data": {
      "image/png": "[encoded data removed]",
      "text/plain": [
       "<Figure size 1000x600 with 6 Axes>"
      ]
     },
     "metadata": {},
     "output_type": "display_data"
    }
   ],
   "source": [
    "# e, epoch, incl, node, peri, rms\n",
    "\n",
    "fig, ax = plt.subplots(2, 3, figsize=(10, 6))\n",
    "ax[0,0].hist(df['e'], bins=100)\n",
    "ax[0,0].set_xlabel('Eccentricity')\n",
    "ax[0,1].hist(df['node'], bins=100)\n",
    "ax[0,1].set_xlabel('node')\n",
    "ax[0,2].hist(df['peri'], bins=100)\n",
    "ax[0,2].set_xlabel('Periapsis')\n",
    "ax[1,0].hist(df['epoch'], bins=100)\n",
    "ax[1,0].set_xlabel('epoch')\n",
    "ax[1,1].hist(df['incl'], bins=100)\n",
    "ax[1,1].set_xlabel('Inclination')\n",
    "ax[1,2].hist(df['mpcH'], bins=100)\n",
    "ax[1,2].set_xlabel('mpCH')\n",
    "fig.suptitle('Some MPCORB Histograms')\n"
   ]
  },
  {
   "cell_type": "markdown",
   "id": "21cfba29-40e6-4e1d-a40f-a5cd83737004",
   "metadata": {},
   "source": [
    "Let's also look at some 2D histograms for eccentricity, nodes, and inclination values."
   ]
  },
  {
   "cell_type": "code",
   "execution_count": 36,
   "id": "1498845d-7bf0-48e7-aef3-0cee68f2f082",
   "metadata": {
    "execution": {
     "iopub.execute_input": "2023-06-27T23:23:35.553473Z",
     "iopub.status.busy": "2023-06-27T23:23:35.552529Z",
     "iopub.status.idle": "2023-06-27T23:23:36.006494Z",
     "shell.execute_reply": "2023-06-27T23:23:36.005550Z",
     "shell.execute_reply.started": "2023-06-27T23:23:35.553437Z"
    },
    "tags": []
   },
   "outputs": [
    {
     "data": {
      "text/plain": [
       "Text(0.5, 0.98, 'Eccentricity, Node and Inclination')"
      ]
     },
     "execution_count": 36,
     "metadata": {},
     "output_type": "execute_result"
    },
    {
     "data": {
      "image/png": "[encoded data removed]",
      "text/plain": [
       "<Figure size 1400x400 with 3 Axes>"
      ]
     },
     "metadata": {},
     "output_type": "display_data"
    }
   ],
   "source": [
    "fig, ax = plt.subplots(1, 3, figsize=(14,4))\n",
    "ax[0].hist2d(df['node'], df['e'], bins=100, norm='log')\n",
    "ax[0].set_xlabel('Node (degrees)')\n",
    "ax[0].set_ylabel('Eccentricity')\n",
    "ax[1].hist2d(df['node'], df['incl'], bins=100, norm='log')\n",
    "ax[1].set_xlabel('Node (degrees)')\n",
    "ax[1].set_ylabel('Inclination (degrees)')\n",
    "ax[2].hist2d(df['e'], df['incl'], bins=100, norm='log')\n",
    "ax[2].set_xlabel('Eccentricity')\n",
    "ax[2].set_ylabel('Inclination (degrees)')\n",
    "fig.suptitle(\"Eccentricity, Node and Inclination\")"
   ]
  },
  {
   "cell_type": "markdown",
   "id": "463704a9-dc73-4f7c-abfd-43b2f9731539",
   "metadata": {
    "execution": {
     "iopub.execute_input": "2023-06-17T15:47:28.771164Z",
     "iopub.status.busy": "2023-06-17T15:47:28.770077Z",
     "iopub.status.idle": "2023-06-17T15:47:28.774678Z",
     "shell.execute_reply": "2023-06-17T15:47:28.773860Z",
     "shell.execute_reply.started": "2023-06-17T15:47:28.771122Z"
    },
    "tags": []
   },
   "source": [
    "## 4. What's in the SSObject catalog and how big is it?\n",
    "\n",
    "Now let's look at the `SSObject` table."
   ]
  },
  {
   "cell_type": "code",
   "execution_count": 50,
   "id": "cd943cfe-7c32-49da-b2eb-af12cf3b78b2",
   "metadata": {
    "execution": {
     "iopub.execute_input": "2023-06-27T23:35:39.594790Z",
     "iopub.status.busy": "2023-06-27T23:35:39.594290Z",
     "iopub.status.idle": "2023-06-27T23:35:39.976038Z",
     "shell.execute_reply": "2023-06-27T23:35:39.975261Z",
     "shell.execute_reply.started": "2023-06-27T23:35:39.594753Z"
    },
    "tags": []
   },
   "outputs": [
    {
     "data": {
      "text/html": [
       "<div>\n",
       "<style scoped>\n",
       "    .dataframe tbody tr th:only-of-type {\n",
       "        vertical-align: middle;\n",
       "    }\n",
       "\n",
       "    .dataframe tbody tr th {\n",
       "        vertical-align: top;\n",
       "    }\n",
       "\n",
       "    .dataframe thead th {\n",
       "        text-align: right;\n",
       "    }\n",
       "</style>\n",
       "<table border=\"1\" class=\"dataframe\">\n",
       "  <thead>\n",
       "    <tr style=\"text-align: right;\">\n",
       "      <th></th>\n",
       "      <th>COUNT</th>\n",
       "    </tr>\n",
       "  </thead>\n",
       "  <tbody>\n",
       "    <tr>\n",
       "      <th>0</th>\n",
       "      <td>10222593</td>\n",
       "    </tr>\n",
       "  </tbody>\n",
       "</table>\n",
       "</div>"
      ],
      "text/plain": [
       "      COUNT\n",
       "0  10222593"
      ]
     },
     "execution_count": 50,
     "metadata": {},
     "output_type": "execute_result"
    }
   ],
   "source": [
    "results = service.search(\"SELECT COUNT(*) from dp03_catalogs.SSObject\")\n",
    "results.to_table().to_pandas()"
   ]
  },
  {
   "cell_type": "markdown",
   "id": "56f8dad2-5f9a-4393-960c-f652440ed3b1",
   "metadata": {},
   "source": [
    "As before, we will consider a random set of objects based on their `ssObjectId` values."
   ]
  },
  {
   "cell_type": "code",
   "execution_count": 51,
   "id": "c78509c8-bb10-4fce-9921-18fe19101e72",
   "metadata": {
    "execution": {
     "iopub.execute_input": "2023-06-27T23:35:40.477141Z",
     "iopub.status.busy": "2023-06-27T23:35:40.476525Z",
     "iopub.status.idle": "2023-06-27T23:35:48.526197Z",
     "shell.execute_reply": "2023-06-27T23:35:48.525552Z",
     "shell.execute_reply.started": "2023-06-27T23:35:40.477107Z"
    },
    "tags": []
   },
   "outputs": [
    {
     "name": "stderr",
     "output_type": "stream",
     "text": [
      "WARNING: UnitsWarning: Unit 'days' not supported by the VOUnit standard. Did you mean daS or das? [astropy.units.format.vounit]\n"
     ]
    },
    {
     "data": {
      "text/html": [
       "<pre style=\"margin: 0.1em;\n",
       "padding-left: 0.25em;\n",
       "border-left-style: solid;\n",
       "font-family: var(--jp-code-font-family);\n",
       "font-size: var(--jp-code-font-size);\n",
       "line-height: var(--jp-code-line-height);\n",
       "\"><span style=\"color: var(--jp-warn-color2)\">astropy</span> <span style=\"color: var(--jp-warn-color0)\">WARNING</span>: UnitsWarning: Unit &#x27;days&#x27; not supported by the VOUnit standard. Did you mean daS or das?</pre>"
      ],
      "text/plain": [
       "<IPython.core.display.HTML object>"
      ]
     },
     "metadata": {},
     "output_type": "display_data"
    },
    {
     "name": "stderr",
     "output_type": "stream",
     "text": [
      "WARNING: UnitsWarning: Unit 'date' not supported by the VOUnit standard. Did you mean daT or dabyte? [astropy.units.format.vounit]\n"
     ]
    },
    {
     "data": {
      "text/html": [
       "<pre style=\"margin: 0.1em;\n",
       "padding-left: 0.25em;\n",
       "border-left-style: solid;\n",
       "font-family: var(--jp-code-font-family);\n",
       "font-size: var(--jp-code-font-size);\n",
       "line-height: var(--jp-code-line-height);\n",
       "\"><span style=\"color: var(--jp-warn-color2)\">astropy</span> <span style=\"color: var(--jp-warn-color0)\">WARNING</span>: UnitsWarning: Unit &#x27;date&#x27; not supported by the VOUnit standard. Did you mean daT or dabyte?</pre>"
      ],
      "text/plain": [
       "<IPython.core.display.HTML object>"
      ]
     },
     "metadata": {},
     "output_type": "display_data"
    },
    {
     "data": {
      "text/html": [
       "<div>\n",
       "<style scoped>\n",
       "    .dataframe tbody tr th:only-of-type {\n",
       "        vertical-align: middle;\n",
       "    }\n",
       "\n",
       "    .dataframe tbody tr th {\n",
       "        vertical-align: top;\n",
       "    }\n",
       "\n",
       "    .dataframe thead th {\n",
       "        text-align: right;\n",
       "    }\n",
       "</style>\n",
       "<table border=\"1\" class=\"dataframe\">\n",
       "  <thead>\n",
       "    <tr style=\"text-align: right;\">\n",
       "      <th></th>\n",
       "      <th>arc</th>\n",
       "      <th>discoverySubmissionDate</th>\n",
       "      <th>firstObservationDate</th>\n",
       "      <th>flags</th>\n",
       "      <th>gChi2</th>\n",
       "      <th>gG12</th>\n",
       "      <th>gG12Err</th>\n",
       "      <th>gH</th>\n",
       "      <th>gH_gG12_Cov</th>\n",
       "      <th>gHErr</th>\n",
       "      <th>...</th>\n",
       "      <th>yH_yG12_Cov</th>\n",
       "      <th>yHErr</th>\n",
       "      <th>yNdata</th>\n",
       "      <th>zChi2</th>\n",
       "      <th>zG12</th>\n",
       "      <th>zG12Err</th>\n",
       "      <th>zH</th>\n",
       "      <th>zH_zG12_Cov</th>\n",
       "      <th>zHErr</th>\n",
       "      <th>zNdata</th>\n",
       "    </tr>\n",
       "  </thead>\n",
       "  <tbody>\n",
       "    <tr>\n",
       "      <th>0</th>\n",
       "      <td>3089.883301</td>\n",
       "      <td>60599.295358</td>\n",
       "      <td>60592.295358</td>\n",
       "      <td>0</td>\n",
       "      <td>1.577042</td>\n",
       "      <td>0.338602</td>\n",
       "      <td>0.202955</td>\n",
       "      <td>21.161713</td>\n",
       "      <td>0.019386</td>\n",
       "      <td>0.106775</td>\n",
       "      <td>...</td>\n",
       "      <td>NaN</td>\n",
       "      <td>NaN</td>\n",
       "      <td>0</td>\n",
       "      <td>NaN</td>\n",
       "      <td>NaN</td>\n",
       "      <td>NaN</td>\n",
       "      <td>NaN</td>\n",
       "      <td>NaN</td>\n",
       "      <td>NaN</td>\n",
       "      <td>0</td>\n",
       "    </tr>\n",
       "    <tr>\n",
       "      <th>1</th>\n",
       "      <td>15.927057</td>\n",
       "      <td>61750.270241</td>\n",
       "      <td>61743.270241</td>\n",
       "      <td>0</td>\n",
       "      <td>NaN</td>\n",
       "      <td>NaN</td>\n",
       "      <td>NaN</td>\n",
       "      <td>NaN</td>\n",
       "      <td>NaN</td>\n",
       "      <td>NaN</td>\n",
       "      <td>...</td>\n",
       "      <td>NaN</td>\n",
       "      <td>NaN</td>\n",
       "      <td>0</td>\n",
       "      <td>NaN</td>\n",
       "      <td>NaN</td>\n",
       "      <td>NaN</td>\n",
       "      <td>NaN</td>\n",
       "      <td>NaN</td>\n",
       "      <td>NaN</td>\n",
       "      <td>0</td>\n",
       "    </tr>\n",
       "    <tr>\n",
       "      <th>2</th>\n",
       "      <td>2.961222</td>\n",
       "      <td>62806.302010</td>\n",
       "      <td>62799.302010</td>\n",
       "      <td>0</td>\n",
       "      <td>NaN</td>\n",
       "      <td>NaN</td>\n",
       "      <td>NaN</td>\n",
       "      <td>NaN</td>\n",
       "      <td>NaN</td>\n",
       "      <td>NaN</td>\n",
       "      <td>...</td>\n",
       "      <td>NaN</td>\n",
       "      <td>NaN</td>\n",
       "      <td>0</td>\n",
       "      <td>NaN</td>\n",
       "      <td>NaN</td>\n",
       "      <td>NaN</td>\n",
       "      <td>NaN</td>\n",
       "      <td>NaN</td>\n",
       "      <td>NaN</td>\n",
       "      <td>0</td>\n",
       "    </tr>\n",
       "    <tr>\n",
       "      <th>3</th>\n",
       "      <td>0.000000</td>\n",
       "      <td>61654.218500</td>\n",
       "      <td>61647.218500</td>\n",
       "      <td>0</td>\n",
       "      <td>NaN</td>\n",
       "      <td>NaN</td>\n",
       "      <td>NaN</td>\n",
       "      <td>NaN</td>\n",
       "      <td>NaN</td>\n",
       "      <td>NaN</td>\n",
       "      <td>...</td>\n",
       "      <td>NaN</td>\n",
       "      <td>NaN</td>\n",
       "      <td>0</td>\n",
       "      <td>NaN</td>\n",
       "      <td>NaN</td>\n",
       "      <td>NaN</td>\n",
       "      <td>NaN</td>\n",
       "      <td>NaN</td>\n",
       "      <td>NaN</td>\n",
       "      <td>0</td>\n",
       "    </tr>\n",
       "    <tr>\n",
       "      <th>4</th>\n",
       "      <td>3270.825439</td>\n",
       "      <td>60509.383445</td>\n",
       "      <td>60502.383445</td>\n",
       "      <td>0</td>\n",
       "      <td>1.676326</td>\n",
       "      <td>0.051856</td>\n",
       "      <td>0.138421</td>\n",
       "      <td>18.936575</td>\n",
       "      <td>0.018925</td>\n",
       "      <td>0.141764</td>\n",
       "      <td>...</td>\n",
       "      <td>NaN</td>\n",
       "      <td>NaN</td>\n",
       "      <td>0</td>\n",
       "      <td>1.403565</td>\n",
       "      <td>0.171461</td>\n",
       "      <td>0.162144</td>\n",
       "      <td>18.205658</td>\n",
       "      <td>0.016147</td>\n",
       "      <td>0.108125</td>\n",
       "      <td>9</td>\n",
       "    </tr>\n",
       "    <tr>\n",
       "      <th>...</th>\n",
       "      <td>...</td>\n",
       "      <td>...</td>\n",
       "      <td>...</td>\n",
       "      <td>...</td>\n",
       "      <td>...</td>\n",
       "      <td>...</td>\n",
       "      <td>...</td>\n",
       "      <td>...</td>\n",
       "      <td>...</td>\n",
       "      <td>...</td>\n",
       "      <td>...</td>\n",
       "      <td>...</td>\n",
       "      <td>...</td>\n",
       "      <td>...</td>\n",
       "      <td>...</td>\n",
       "      <td>...</td>\n",
       "      <td>...</td>\n",
       "      <td>...</td>\n",
       "      <td>...</td>\n",
       "      <td>...</td>\n",
       "      <td>...</td>\n",
       "    </tr>\n",
       "    <tr>\n",
       "      <th>51222</th>\n",
       "      <td>1395.834717</td>\n",
       "      <td>60856.431862</td>\n",
       "      <td>60849.431862</td>\n",
       "      <td>0</td>\n",
       "      <td>NaN</td>\n",
       "      <td>NaN</td>\n",
       "      <td>NaN</td>\n",
       "      <td>NaN</td>\n",
       "      <td>NaN</td>\n",
       "      <td>NaN</td>\n",
       "      <td>...</td>\n",
       "      <td>NaN</td>\n",
       "      <td>NaN</td>\n",
       "      <td>0</td>\n",
       "      <td>NaN</td>\n",
       "      <td>NaN</td>\n",
       "      <td>NaN</td>\n",
       "      <td>NaN</td>\n",
       "      <td>NaN</td>\n",
       "      <td>NaN</td>\n",
       "      <td>0</td>\n",
       "    </tr>\n",
       "    <tr>\n",
       "      <th>51223</th>\n",
       "      <td>3371.791992</td>\n",
       "      <td>60231.321519</td>\n",
       "      <td>60224.321519</td>\n",
       "      <td>0</td>\n",
       "      <td>4.592573</td>\n",
       "      <td>-0.060991</td>\n",
       "      <td>0.727745</td>\n",
       "      <td>20.432423</td>\n",
       "      <td>0.524340</td>\n",
       "      <td>0.738144</td>\n",
       "      <td>...</td>\n",
       "      <td>NaN</td>\n",
       "      <td>NaN</td>\n",
       "      <td>0</td>\n",
       "      <td>NaN</td>\n",
       "      <td>NaN</td>\n",
       "      <td>NaN</td>\n",
       "      <td>NaN</td>\n",
       "      <td>NaN</td>\n",
       "      <td>NaN</td>\n",
       "      <td>0</td>\n",
       "    </tr>\n",
       "    <tr>\n",
       "      <th>51224</th>\n",
       "      <td>7.022134</td>\n",
       "      <td>60968.147893</td>\n",
       "      <td>60961.147893</td>\n",
       "      <td>0</td>\n",
       "      <td>NaN</td>\n",
       "      <td>NaN</td>\n",
       "      <td>NaN</td>\n",
       "      <td>NaN</td>\n",
       "      <td>NaN</td>\n",
       "      <td>NaN</td>\n",
       "      <td>...</td>\n",
       "      <td>NaN</td>\n",
       "      <td>NaN</td>\n",
       "      <td>0</td>\n",
       "      <td>NaN</td>\n",
       "      <td>NaN</td>\n",
       "      <td>NaN</td>\n",
       "      <td>NaN</td>\n",
       "      <td>NaN</td>\n",
       "      <td>NaN</td>\n",
       "      <td>0</td>\n",
       "    </tr>\n",
       "    <tr>\n",
       "      <th>51225</th>\n",
       "      <td>3071.890625</td>\n",
       "      <td>60495.238170</td>\n",
       "      <td>60488.238170</td>\n",
       "      <td>0</td>\n",
       "      <td>1.098199</td>\n",
       "      <td>0.014991</td>\n",
       "      <td>0.073796</td>\n",
       "      <td>20.547508</td>\n",
       "      <td>0.004406</td>\n",
       "      <td>0.065489</td>\n",
       "      <td>...</td>\n",
       "      <td>NaN</td>\n",
       "      <td>NaN</td>\n",
       "      <td>0</td>\n",
       "      <td>NaN</td>\n",
       "      <td>NaN</td>\n",
       "      <td>NaN</td>\n",
       "      <td>NaN</td>\n",
       "      <td>NaN</td>\n",
       "      <td>NaN</td>\n",
       "      <td>0</td>\n",
       "    </tr>\n",
       "    <tr>\n",
       "      <th>51226</th>\n",
       "      <td>2400.992676</td>\n",
       "      <td>60533.149470</td>\n",
       "      <td>60526.149470</td>\n",
       "      <td>0</td>\n",
       "      <td>1.070196</td>\n",
       "      <td>0.354199</td>\n",
       "      <td>0.155204</td>\n",
       "      <td>20.241318</td>\n",
       "      <td>0.018267</td>\n",
       "      <td>0.120746</td>\n",
       "      <td>...</td>\n",
       "      <td>NaN</td>\n",
       "      <td>NaN</td>\n",
       "      <td>0</td>\n",
       "      <td>NaN</td>\n",
       "      <td>NaN</td>\n",
       "      <td>NaN</td>\n",
       "      <td>NaN</td>\n",
       "      <td>NaN</td>\n",
       "      <td>NaN</td>\n",
       "      <td>0</td>\n",
       "    </tr>\n",
       "  </tbody>\n",
       "</table>\n",
       "<p>51227 rows × 55 columns</p>\n",
       "</div>"
      ],
      "text/plain": [
       "               arc  discoverySubmissionDate  firstObservationDate  flags   \n",
       "0      3089.883301             60599.295358          60592.295358      0  \\\n",
       "1        15.927057             61750.270241          61743.270241      0   \n",
       "2         2.961222             62806.302010          62799.302010      0   \n",
       "3         0.000000             61654.218500          61647.218500      0   \n",
       "4      3270.825439             60509.383445          60502.383445      0   \n",
       "...            ...                      ...                   ...    ...   \n",
       "51222  1395.834717             60856.431862          60849.431862      0   \n",
       "51223  3371.791992             60231.321519          60224.321519      0   \n",
       "51224     7.022134             60968.147893          60961.147893      0   \n",
       "51225  3071.890625             60495.238170          60488.238170      0   \n",
       "51226  2400.992676             60533.149470          60526.149470      0   \n",
       "\n",
       "          gChi2      gG12   gG12Err         gH  gH_gG12_Cov     gHErr  ...   \n",
       "0      1.577042  0.338602  0.202955  21.161713     0.019386  0.106775  ...  \\\n",
       "1           NaN       NaN       NaN        NaN          NaN       NaN  ...   \n",
       "2           NaN       NaN       NaN        NaN          NaN       NaN  ...   \n",
       "3           NaN       NaN       NaN        NaN          NaN       NaN  ...   \n",
       "4      1.676326  0.051856  0.138421  18.936575     0.018925  0.141764  ...   \n",
       "...         ...       ...       ...        ...          ...       ...  ...   \n",
       "51222       NaN       NaN       NaN        NaN          NaN       NaN  ...   \n",
       "51223  4.592573 -0.060991  0.727745  20.432423     0.524340  0.738144  ...   \n",
       "51224       NaN       NaN       NaN        NaN          NaN       NaN  ...   \n",
       "51225  1.098199  0.014991  0.073796  20.547508     0.004406  0.065489  ...   \n",
       "51226  1.070196  0.354199  0.155204  20.241318     0.018267  0.120746  ...   \n",
       "\n",
       "       yH_yG12_Cov  yHErr  yNdata     zChi2      zG12   zG12Err         zH   \n",
       "0              NaN    NaN       0       NaN       NaN       NaN        NaN  \\\n",
       "1              NaN    NaN       0       NaN       NaN       NaN        NaN   \n",
       "2              NaN    NaN       0       NaN       NaN       NaN        NaN   \n",
       "3              NaN    NaN       0       NaN       NaN       NaN        NaN   \n",
       "4              NaN    NaN       0  1.403565  0.171461  0.162144  18.205658   \n",
       "...            ...    ...     ...       ...       ...       ...        ...   \n",
       "51222          NaN    NaN       0       NaN       NaN       NaN        NaN   \n",
       "51223          NaN    NaN       0       NaN       NaN       NaN        NaN   \n",
       "51224          NaN    NaN       0       NaN       NaN       NaN        NaN   \n",
       "51225          NaN    NaN       0       NaN       NaN       NaN        NaN   \n",
       "51226          NaN    NaN       0       NaN       NaN       NaN        NaN   \n",
       "\n",
       "       zH_zG12_Cov     zHErr  zNdata  \n",
       "0              NaN       NaN       0  \n",
       "1              NaN       NaN       0  \n",
       "2              NaN       NaN       0  \n",
       "3              NaN       NaN       0  \n",
       "4         0.016147  0.108125       9  \n",
       "...            ...       ...     ...  \n",
       "51222          NaN       NaN       0  \n",
       "51223          NaN       NaN       0  \n",
       "51224          NaN       NaN       0  \n",
       "51225          NaN       NaN       0  \n",
       "51226          NaN       NaN       0  \n",
       "\n",
       "[51227 rows x 55 columns]"
      ]
     },
     "execution_count": 51,
     "metadata": {},
     "output_type": "execute_result"
    }
   ],
   "source": [
    "query = \"\"\"SELECT *\n",
    "FROM dp03_catalogs.ssObject\n",
    "WHERE ssObjectId < 9223370875126069107 AND ssObjectId > 9131137166374808576\"\"\"\n",
    "\n",
    "df = service.search(query).to_table().to_pandas()\n",
    "df"
   ]
  },
  {
   "cell_type": "markdown",
   "id": "4cd4af29-a072-4361-b65b-5979d4812783",
   "metadata": {
    "execution": {
     "iopub.execute_input": "2023-06-27T21:51:31.545543Z",
     "iopub.status.busy": "2023-06-27T21:51:31.545077Z",
     "iopub.status.idle": "2023-06-27T21:51:31.549274Z",
     "shell.execute_reply": "2023-06-27T21:51:31.548724Z",
     "shell.execute_reply.started": "2023-06-27T21:51:31.545521Z"
    },
    "tags": []
   },
   "source": [
    "There are 551227 rows."
   ]
  },
  {
   "cell_type": "code",
   "execution_count": 52,
   "id": "aeeb504b-3ae8-4483-ac8a-809ab113e213",
   "metadata": {
    "execution": {
     "iopub.execute_input": "2023-06-27T23:35:48.537607Z",
     "iopub.status.busy": "2023-06-27T23:35:48.537361Z",
     "iopub.status.idle": "2023-06-27T23:35:48.549278Z",
     "shell.execute_reply": "2023-06-27T23:35:48.548650Z",
     "shell.execute_reply.started": "2023-06-27T23:35:48.537588Z"
    },
    "tags": []
   },
   "outputs": [
    {
     "name": "stdout",
     "output_type": "stream",
     "text": [
      "<class 'pandas.core.frame.DataFrame'>\n",
      "RangeIndex: 51227 entries, 0 to 51226\n",
      "Data columns (total 55 columns):\n",
      " #   Column                   Non-Null Count  Dtype  \n",
      "---  ------                   --------------  -----  \n",
      " 0   arc                      51227 non-null  float32\n",
      " 1   discoverySubmissionDate  51227 non-null  float64\n",
      " 2   firstObservationDate     51227 non-null  float64\n",
      " 3   flags                    51227 non-null  int64  \n",
      " 4   gChi2                    23898 non-null  float32\n",
      " 5   gG12                     23898 non-null  float32\n",
      " 6   gG12Err                  23898 non-null  float32\n",
      " 7   gH                       23898 non-null  float32\n",
      " 8   gH_gG12_Cov              23898 non-null  float32\n",
      " 9   gHErr                    23898 non-null  float32\n",
      " 10  gNdata                   51227 non-null  int32  \n",
      " 11  iChi2                    25998 non-null  float32\n",
      " 12  iG12                     25998 non-null  float32\n",
      " 13  iG12Err                  25998 non-null  float32\n",
      " 14  iH                       25998 non-null  float32\n",
      " 15  iH_iG12_Cov              25998 non-null  float32\n",
      " 16  iHErr                    25998 non-null  float32\n",
      " 17  iNdata                   51227 non-null  int32  \n",
      " 18  maxExtendedness          51227 non-null  float32\n",
      " 19  medianExtendedness       51227 non-null  float32\n",
      " 20  minExtendedness          51227 non-null  float32\n",
      " 21  MOID                     51227 non-null  float32\n",
      " 22  MOIDDeltaV               51227 non-null  float32\n",
      " 23  MOIDEclipticLongitude    51227 non-null  float32\n",
      " 24  MOIDTrueAnomaly          51227 non-null  float32\n",
      " 25  numObs                   51227 non-null  int32  \n",
      " 26  rChi2                    32579 non-null  float32\n",
      " 27  rG12                     32579 non-null  float32\n",
      " 28  rG12Err                  32579 non-null  float32\n",
      " 29  rH                       32579 non-null  float32\n",
      " 30  rH_rG12_Cov              32579 non-null  float32\n",
      " 31  rHErr                    32579 non-null  float32\n",
      " 32  rNdata                   51227 non-null  int32  \n",
      " 33  ssObjectId               51227 non-null  int64  \n",
      " 34  uChi2                    4793 non-null   float32\n",
      " 35  uG12                     4793 non-null   float32\n",
      " 36  uG12Err                  4793 non-null   float32\n",
      " 37  uH                       4793 non-null   float32\n",
      " 38  uH_uG12_Cov              4793 non-null   float32\n",
      " 39  uHErr                    4793 non-null   float32\n",
      " 40  uNdata                   51227 non-null  int32  \n",
      " 41  yChi2                    9554 non-null   float32\n",
      " 42  yG12                     9554 non-null   float32\n",
      " 43  yG12Err                  9554 non-null   float32\n",
      " 44  yH                       9554 non-null   float32\n",
      " 45  yH_yG12_Cov              9554 non-null   float32\n",
      " 46  yHErr                    9554 non-null   float32\n",
      " 47  yNdata                   51227 non-null  int32  \n",
      " 48  zChi2                    16529 non-null  float32\n",
      " 49  zG12                     16529 non-null  float32\n",
      " 50  zG12Err                  16529 non-null  float32\n",
      " 51  zH                       16529 non-null  float32\n",
      " 52  zH_zG12_Cov              16529 non-null  float32\n",
      " 53  zHErr                    16529 non-null  float32\n",
      " 54  zNdata                   51227 non-null  int32  \n",
      "dtypes: float32(44), float64(2), int32(7), int64(2)\n",
      "memory usage: 11.5 MB\n"
     ]
    }
   ],
   "source": [
    "df.info()"
   ]
  },
  {
   "cell_type": "markdown",
   "id": "7ac43d11-b98e-42c5-99ed-8c7df9db2535",
   "metadata": {
    "execution": {
     "iopub.execute_input": "2023-06-27T23:34:20.899166Z",
     "iopub.status.busy": "2023-06-27T23:34:20.898433Z",
     "iopub.status.idle": "2023-06-27T23:34:20.904359Z",
     "shell.execute_reply": "2023-06-27T23:34:20.903385Z",
     "shell.execute_reply.started": "2023-06-27T23:34:20.899124Z"
    },
    "tags": []
   },
   "source": [
    "Let's drop rows that contain any `NaN`'s."
   ]
  },
  {
   "cell_type": "code",
   "execution_count": 53,
   "id": "937fb5ee-ef7b-4ef3-98ea-8d7237fe2a95",
   "metadata": {
    "execution": {
     "iopub.execute_input": "2023-06-27T23:35:48.551135Z",
     "iopub.status.busy": "2023-06-27T23:35:48.550606Z",
     "iopub.status.idle": "2023-06-27T23:35:48.565699Z",
     "shell.execute_reply": "2023-06-27T23:35:48.565094Z",
     "shell.execute_reply.started": "2023-06-27T23:35:48.551114Z"
    },
    "tags": []
   },
   "outputs": [
    {
     "name": "stdout",
     "output_type": "stream",
     "text": [
      "Number of rows before dropping all rows with NaNs: 51227\n",
      "Number of rows after dropping all rows with NaNs: 4774\n"
     ]
    }
   ],
   "source": [
    "print('Number of rows before dropping all rows with NaNs: %d' %len(df))\n",
    "df.dropna(inplace=True)\n",
    "df.reset_index(inplace=True)\n",
    "print('Number of rows after dropping all rows with NaNs: %d' %len(df))\n"
   ]
  },
  {
   "cell_type": "markdown",
   "id": "f5c93746-8820-4dc1-8102-4d67b393b542",
   "metadata": {},
   "source": [
    "Calculate colors - note that these are all absolute (\"H\") magnitudes.  (For solar system objects, absolute magnitudes are defined to be for an object 1 A.U. from the Sun and 1 A.U. from the observer, and at a phase angle (the angle Sun-object-Earth) of 0 degrees.)"
   ]
  },
  {
   "cell_type": "code",
   "execution_count": 54,
   "id": "16eeddc9-f0dc-470c-ab96-252b4cfc66f6",
   "metadata": {
    "execution": {
     "iopub.execute_input": "2023-06-27T23:50:12.817899Z",
     "iopub.status.busy": "2023-06-27T23:50:12.816873Z",
     "iopub.status.idle": "2023-06-27T23:50:12.827004Z",
     "shell.execute_reply": "2023-06-27T23:50:12.826198Z",
     "shell.execute_reply.started": "2023-06-27T23:50:12.817857Z"
    },
    "tags": []
   },
   "outputs": [],
   "source": [
    "df['ug'] = df['uH'] - df['gH']\n",
    "df['gr'] = df['gH'] - df['rH']\n",
    "df['ri'] = df['rH'] - df['iH']\n",
    "df['iz'] = df['iH'] - df['zH']\n",
    "df['zy'] = df['zH'] - df['yH']"
   ]
  },
  {
   "cell_type": "markdown",
   "id": "8296082b-a528-4abd-92ce-52707da8ccc4",
   "metadata": {},
   "source": [
    "Let's plot some color-color diagrams for these objects."
   ]
  },
  {
   "cell_type": "code",
   "execution_count": 55,
   "id": "649578b9-496c-4703-8938-b3084d37cfd2",
   "metadata": {
    "execution": {
     "iopub.execute_input": "2023-06-27T23:50:18.648812Z",
     "iopub.status.busy": "2023-06-27T23:50:18.648006Z",
     "iopub.status.idle": "2023-06-27T23:50:19.183803Z",
     "shell.execute_reply": "2023-06-27T23:50:19.182971Z",
     "shell.execute_reply.started": "2023-06-27T23:50:18.648782Z"
    },
    "tags": []
   },
   "outputs": [
    {
     "data": {
      "text/plain": [
       "Text(0.5, 0.98, 'Color-Color Plots for SSObject Catalog')"
      ]
     },
     "execution_count": 55,
     "metadata": {},
     "output_type": "execute_result"
    },
    {
     "data": {
      "image/png": "[encoded data removed]",
      "text/plain": [
       "<Figure size 1000x700 with 4 Axes>"
      ]
     },
     "metadata": {},
     "output_type": "display_data"
    }
   ],
   "source": [
    "colors = ['ug', 'gr', 'ri', 'iz', 'zy']\n",
    "filters = ['u', 'g', 'r', 'i', 'z', 'i']\n",
    "fig, ax = plt.subplots(2, 2, figsize=(10,7))\n",
    "m = 0\n",
    "ax[0, 0].hist2d(df['ug'], df['gr'], bins=100, norm='log')\n",
    "ax[0, 0].set_xlabel('u - g')\n",
    "ax[0, 0].set_ylabel('g - r')\n",
    "ax[0, 1].hist2d(df['gr'], df['ri'], bins=100, norm='log')\n",
    "ax[0, 1].set_xlabel('g - r')\n",
    "ax[0, 1].set_ylabel('r - i')\n",
    "ax[1, 0].hist2d(df['ri'], df['iz'], bins=100, norm='log')\n",
    "ax[1, 0].set_xlabel('r - i')\n",
    "ax[1, 0].set_ylabel('i - z')\n",
    "ax[1, 1].hist2d(df['iz'], df['zy'], bins=100, norm='log')\n",
    "ax[1, 1].set_xlabel('i - z')\n",
    "ax[1, 1].set_ylabel('z - y')\n",
    "fig.suptitle('Color-Color Plots for SSObject Catalog')\n"
   ]
  },
  {
   "cell_type": "markdown",
   "id": "653f251d-a172-4cda-b3c5-0aeecf28d8e6",
   "metadata": {},
   "source": [
    "The fact that we get two such distinct distributions implies that we might not have obtained a truly random distribution of `SSObject`'s."
   ]
  },
  {
   "cell_type": "markdown",
   "id": "2c6db4aa-1cc1-4ff9-9439-93d44f11e68a",
   "metadata": {
    "execution": {
     "iopub.execute_input": "2023-06-27T23:57:12.787718Z",
     "iopub.status.busy": "2023-06-27T23:57:12.786705Z",
     "iopub.status.idle": "2023-06-27T23:57:12.793611Z",
     "shell.execute_reply": "2023-06-27T23:57:12.792303Z",
     "shell.execute_reply.started": "2023-06-27T23:57:12.787687Z"
    },
    "tags": []
   },
   "source": [
    "Now let's look at the estimated statistical error in the g-band absolute magnitude vs. the g-band absolute magnitude."
   ]
  },
  {
   "cell_type": "code",
   "execution_count": 58,
   "id": "08f4d3c2-d406-479e-b205-34cb7ac3606e",
   "metadata": {
    "execution": {
     "iopub.execute_input": "2023-06-27T23:57:19.803713Z",
     "iopub.status.busy": "2023-06-27T23:57:19.802913Z",
     "iopub.status.idle": "2023-06-27T23:57:19.984415Z",
     "shell.execute_reply": "2023-06-27T23:57:19.983748Z",
     "shell.execute_reply.started": "2023-06-27T23:57:19.803683Z"
    },
    "tags": []
   },
   "outputs": [
    {
     "data": {
      "text/plain": [
       "Text(0.5, 1.0, 'gHErr vs. gH')"
      ]
     },
     "execution_count": 58,
     "metadata": {},
     "output_type": "execute_result"
    },
    {
     "data": {
      "image/png": "[encoded data removed]",
      "text/plain": [
       "<Figure size 500x400 with 1 Axes>"
      ]
     },
     "metadata": {},
     "output_type": "display_data"
    }
   ],
   "source": [
    "plt.figure(figsize=(5,4))\n",
    "plt.hist2d(df['gHErr'], df['gH'], bins=100, norm='log')\n",
    "plt.gca().invert_yaxis()\n",
    "plt.xlabel('H Error')\n",
    "plt.ylabel('H (mag)')\n",
    "plt.title('gHErr vs. gH')"
   ]
  },
  {
   "cell_type": "markdown",
   "id": "ef9ba117-4a6c-4a4c-9b82-5b74a9c40001",
   "metadata": {},
   "source": [
    "## 5. What's in the SSSource catalog and how big is it?\n",
    "\n",
    "Now let's look at the `SSSource` table."
   ]
  },
  {
   "cell_type": "code",
   "execution_count": 59,
   "id": "faa8f8da-ea55-4cf9-a6a5-ce2a9a9e983e",
   "metadata": {
    "execution": {
     "iopub.execute_input": "2023-06-27T23:59:23.244664Z",
     "iopub.status.busy": "2023-06-27T23:59:23.243775Z",
     "iopub.status.idle": "2023-06-28T00:00:34.393185Z",
     "shell.execute_reply": "2023-06-28T00:00:34.392367Z",
     "shell.execute_reply.started": "2023-06-27T23:59:23.244623Z"
    },
    "tags": []
   },
   "outputs": [
    {
     "data": {
      "text/html": [
       "<div>\n",
       "<style scoped>\n",
       "    .dataframe tbody tr th:only-of-type {\n",
       "        vertical-align: middle;\n",
       "    }\n",
       "\n",
       "    .dataframe tbody tr th {\n",
       "        vertical-align: top;\n",
       "    }\n",
       "\n",
       "    .dataframe thead th {\n",
       "        text-align: right;\n",
       "    }\n",
       "</style>\n",
       "<table border=\"1\" class=\"dataframe\">\n",
       "  <thead>\n",
       "    <tr style=\"text-align: right;\">\n",
       "      <th></th>\n",
       "      <th>COUNT</th>\n",
       "    </tr>\n",
       "  </thead>\n",
       "  <tbody>\n",
       "    <tr>\n",
       "      <th>0</th>\n",
       "      <td>1031389589</td>\n",
       "    </tr>\n",
       "  </tbody>\n",
       "</table>\n",
       "</div>"
      ],
      "text/plain": [
       "        COUNT\n",
       "0  1031389589"
      ]
     },
     "execution_count": 59,
     "metadata": {},
     "output_type": "execute_result"
    }
   ],
   "source": [
    "results = service.search(\"SELECT COUNT(*) from dp03_catalogs.SSSource\")\n",
    "results.to_table().to_pandas()"
   ]
  },
  {
   "cell_type": "markdown",
   "id": "3247cc6d-d815-4fea-be3b-ea25d13d9701",
   "metadata": {},
   "source": [
    "**_This table contains over a billion sources!_**\n",
    "\n",
    "As before, we will consider a random set of objects based on their `ssObjectId` values.\n",
    "\n",
    "Even so, this next query takes some time (e.g., one typical run lasted 18 minutes)..."
   ]
  },
  {
   "cell_type": "code",
   "execution_count": 60,
   "id": "4bf3beee-332c-490a-895e-8c6cab78aaee",
   "metadata": {
    "execution": {
     "iopub.execute_input": "2023-06-28T00:00:56.865816Z",
     "iopub.status.busy": "2023-06-28T00:00:56.865015Z",
     "iopub.status.idle": "2023-06-28T00:18:53.571365Z",
     "shell.execute_reply": "2023-06-28T00:18:53.570682Z",
     "shell.execute_reply.started": "2023-06-28T00:00:56.865789Z"
    },
    "tags": []
   },
   "outputs": [
    {
     "data": {
      "text/html": [
       "<div>\n",
       "<style scoped>\n",
       "    .dataframe tbody tr th:only-of-type {\n",
       "        vertical-align: middle;\n",
       "    }\n",
       "\n",
       "    .dataframe tbody tr th {\n",
       "        vertical-align: top;\n",
       "    }\n",
       "\n",
       "    .dataframe thead th {\n",
       "        text-align: right;\n",
       "    }\n",
       "</style>\n",
       "<table border=\"1\" class=\"dataframe\">\n",
       "  <thead>\n",
       "    <tr style=\"text-align: right;\">\n",
       "      <th></th>\n",
       "      <th>diaSourceId</th>\n",
       "      <th>eclipticBeta</th>\n",
       "      <th>eclipticLambda</th>\n",
       "      <th>galacticB</th>\n",
       "      <th>galacticL</th>\n",
       "      <th>heliocentricDist</th>\n",
       "      <th>heliocentricVX</th>\n",
       "      <th>heliocentricVY</th>\n",
       "      <th>heliocentricVZ</th>\n",
       "      <th>heliocentricX</th>\n",
       "      <th>...</th>\n",
       "      <th>residualDec</th>\n",
       "      <th>residualRa</th>\n",
       "      <th>ssObjectId</th>\n",
       "      <th>topocentricDist</th>\n",
       "      <th>topocentricVX</th>\n",
       "      <th>topocentricVY</th>\n",
       "      <th>topocentricVZ</th>\n",
       "      <th>topocentricX</th>\n",
       "      <th>topocentricY</th>\n",
       "      <th>topocentricZ</th>\n",
       "    </tr>\n",
       "  </thead>\n",
       "  <tbody>\n",
       "    <tr>\n",
       "      <th>0</th>\n",
       "      <td>392143802423614332</td>\n",
       "      <td>-3.188224</td>\n",
       "      <td>167.618113</td>\n",
       "      <td>54.929718</td>\n",
       "      <td>254.464829</td>\n",
       "      <td>2.609281</td>\n",
       "      <td>-0.003183</td>\n",
       "      <td>-0.008792</td>\n",
       "      <td>-0.002939</td>\n",
       "      <td>-2.461922</td>\n",
       "      <td>...</td>\n",
       "      <td>NaN</td>\n",
       "      <td>NaN</td>\n",
       "      <td>9131138229541269793</td>\n",
       "      <td>1.653559</td>\n",
       "      <td>0.005932</td>\n",
       "      <td>0.005068</td>\n",
       "      <td>0.002969</td>\n",
       "      <td>-1.612598</td>\n",
       "      <td>0.361386</td>\n",
       "      <td>0.056444</td>\n",
       "    </tr>\n",
       "    <tr>\n",
       "      <th>1</th>\n",
       "      <td>-2155482025328203148</td>\n",
       "      <td>-3.187820</td>\n",
       "      <td>167.612385</td>\n",
       "      <td>54.928244</td>\n",
       "      <td>254.455187</td>\n",
       "      <td>2.609279</td>\n",
       "      <td>-0.003182</td>\n",
       "      <td>-0.008792</td>\n",
       "      <td>-0.002939</td>\n",
       "      <td>-2.461998</td>\n",
       "      <td>...</td>\n",
       "      <td>NaN</td>\n",
       "      <td>NaN</td>\n",
       "      <td>9131138229541269793</td>\n",
       "      <td>1.653451</td>\n",
       "      <td>0.005892</td>\n",
       "      <td>0.005073</td>\n",
       "      <td>0.002971</td>\n",
       "      <td>-1.612457</td>\n",
       "      <td>0.361507</td>\n",
       "      <td>0.056515</td>\n",
       "    </tr>\n",
       "    <tr>\n",
       "      <th>2</th>\n",
       "      <td>1342595478072641016</td>\n",
       "      <td>-2.451004</td>\n",
       "      <td>160.626934</td>\n",
       "      <td>52.788817</td>\n",
       "      <td>243.109818</td>\n",
       "      <td>2.605045</td>\n",
       "      <td>-0.002056</td>\n",
       "      <td>-0.009109</td>\n",
       "      <td>-0.003037</td>\n",
       "      <td>-2.532769</td>\n",
       "      <td>...</td>\n",
       "      <td>NaN</td>\n",
       "      <td>NaN</td>\n",
       "      <td>9131138229541269793</td>\n",
       "      <td>1.633712</td>\n",
       "      <td>-0.000759</td>\n",
       "      <td>0.006922</td>\n",
       "      <td>0.003820</td>\n",
       "      <td>-1.539799</td>\n",
       "      <td>0.524548</td>\n",
       "      <td>0.151270</td>\n",
       "    </tr>\n",
       "    <tr>\n",
       "      <th>3</th>\n",
       "      <td>2072606872722931151</td>\n",
       "      <td>-2.518662</td>\n",
       "      <td>161.128212</td>\n",
       "      <td>52.965287</td>\n",
       "      <td>243.894449</td>\n",
       "      <td>2.605526</td>\n",
       "      <td>-0.002141</td>\n",
       "      <td>-0.009089</td>\n",
       "      <td>-0.003031</td>\n",
       "      <td>-2.528559</td>\n",
       "      <td>...</td>\n",
       "      <td>NaN</td>\n",
       "      <td>NaN</td>\n",
       "      <td>9131138229541269793</td>\n",
       "      <td>1.627975</td>\n",
       "      <td>-0.000228</td>\n",
       "      <td>0.006901</td>\n",
       "      <td>0.003806</td>\n",
       "      <td>-1.538975</td>\n",
       "      <td>0.511110</td>\n",
       "      <td>0.143618</td>\n",
       "    </tr>\n",
       "    <tr>\n",
       "      <th>4</th>\n",
       "      <td>8156415499263638424</td>\n",
       "      <td>-2.557995</td>\n",
       "      <td>161.436433</td>\n",
       "      <td>53.073130</td>\n",
       "      <td>244.378345</td>\n",
       "      <td>2.605802</td>\n",
       "      <td>-0.002192</td>\n",
       "      <td>-0.009077</td>\n",
       "      <td>-0.003027</td>\n",
       "      <td>-2.525951</td>\n",
       "      <td>...</td>\n",
       "      <td>NaN</td>\n",
       "      <td>NaN</td>\n",
       "      <td>9131138229541269793</td>\n",
       "      <td>1.625077</td>\n",
       "      <td>0.000347</td>\n",
       "      <td>0.006787</td>\n",
       "      <td>0.003792</td>\n",
       "      <td>-1.538991</td>\n",
       "      <td>0.503040</td>\n",
       "      <td>0.139045</td>\n",
       "    </tr>\n",
       "    <tr>\n",
       "      <th>...</th>\n",
       "      <td>...</td>\n",
       "      <td>...</td>\n",
       "      <td>...</td>\n",
       "      <td>...</td>\n",
       "      <td>...</td>\n",
       "      <td>...</td>\n",
       "      <td>...</td>\n",
       "      <td>...</td>\n",
       "      <td>...</td>\n",
       "      <td>...</td>\n",
       "      <td>...</td>\n",
       "      <td>...</td>\n",
       "      <td>...</td>\n",
       "      <td>...</td>\n",
       "      <td>...</td>\n",
       "      <td>...</td>\n",
       "      <td>...</td>\n",
       "      <td>...</td>\n",
       "      <td>...</td>\n",
       "      <td>...</td>\n",
       "      <td>...</td>\n",
       "    </tr>\n",
       "    <tr>\n",
       "      <th>5189995</th>\n",
       "      <td>-4630183780981088497</td>\n",
       "      <td>-19.972689</td>\n",
       "      <td>162.302724</td>\n",
       "      <td>37.371231</td>\n",
       "      <td>255.286230</td>\n",
       "      <td>2.694880</td>\n",
       "      <td>-0.005894</td>\n",
       "      <td>-0.008467</td>\n",
       "      <td>-0.000568</td>\n",
       "      <td>-2.321804</td>\n",
       "      <td>...</td>\n",
       "      <td>NaN</td>\n",
       "      <td>NaN</td>\n",
       "      <td>9223370323280082057</td>\n",
       "      <td>1.817683</td>\n",
       "      <td>0.006701</td>\n",
       "      <td>0.002914</td>\n",
       "      <td>0.004276</td>\n",
       "      <td>-1.627514</td>\n",
       "      <td>0.723433</td>\n",
       "      <td>-0.363064</td>\n",
       "    </tr>\n",
       "    <tr>\n",
       "      <th>5189996</th>\n",
       "      <td>1295083018380555837</td>\n",
       "      <td>-20.025738</td>\n",
       "      <td>162.680088</td>\n",
       "      <td>37.437812</td>\n",
       "      <td>255.729750</td>\n",
       "      <td>2.693320</td>\n",
       "      <td>-0.005962</td>\n",
       "      <td>-0.008427</td>\n",
       "      <td>-0.000570</td>\n",
       "      <td>-2.310344</td>\n",
       "      <td>...</td>\n",
       "      <td>NaN</td>\n",
       "      <td>NaN</td>\n",
       "      <td>9223370323280082057</td>\n",
       "      <td>1.829093</td>\n",
       "      <td>0.006955</td>\n",
       "      <td>0.002593</td>\n",
       "      <td>0.004106</td>\n",
       "      <td>-1.640582</td>\n",
       "      <td>0.718544</td>\n",
       "      <td>-0.371166</td>\n",
       "    </tr>\n",
       "    <tr>\n",
       "      <th>5189997</th>\n",
       "      <td>-7552594750373973562</td>\n",
       "      <td>-20.025211</td>\n",
       "      <td>162.675287</td>\n",
       "      <td>37.436841</td>\n",
       "      <td>255.724164</td>\n",
       "      <td>2.693339</td>\n",
       "      <td>-0.005961</td>\n",
       "      <td>-0.008428</td>\n",
       "      <td>-0.000570</td>\n",
       "      <td>-2.310490</td>\n",
       "      <td>...</td>\n",
       "      <td>NaN</td>\n",
       "      <td>NaN</td>\n",
       "      <td>9223370323280082057</td>\n",
       "      <td>1.828946</td>\n",
       "      <td>0.006916</td>\n",
       "      <td>0.002598</td>\n",
       "      <td>0.004108</td>\n",
       "      <td>-1.640413</td>\n",
       "      <td>0.718607</td>\n",
       "      <td>-0.371066</td>\n",
       "    </tr>\n",
       "    <tr>\n",
       "      <th>5189998</th>\n",
       "      <td>-1597337412419539310</td>\n",
       "      <td>-18.253054</td>\n",
       "      <td>156.410095</td>\n",
       "      <td>36.819809</td>\n",
       "      <td>248.012045</td>\n",
       "      <td>2.713802</td>\n",
       "      <td>-0.005037</td>\n",
       "      <td>-0.008921</td>\n",
       "      <td>-0.000535</td>\n",
       "      <td>-2.453018</td>\n",
       "      <td>...</td>\n",
       "      <td>NaN</td>\n",
       "      <td>NaN</td>\n",
       "      <td>9223370323280082057</td>\n",
       "      <td>1.755972</td>\n",
       "      <td>0.001425</td>\n",
       "      <td>0.006111</td>\n",
       "      <td>0.005880</td>\n",
       "      <td>-1.528258</td>\n",
       "      <td>0.831066</td>\n",
       "      <td>-0.239151</td>\n",
       "    </tr>\n",
       "    <tr>\n",
       "      <th>5189999</th>\n",
       "      <td>3120879741781371708</td>\n",
       "      <td>-18.032247</td>\n",
       "      <td>155.914127</td>\n",
       "      <td>36.811627</td>\n",
       "      <td>247.361998</td>\n",
       "      <td>2.715261</td>\n",
       "      <td>-0.004968</td>\n",
       "      <td>-0.008953</td>\n",
       "      <td>-0.000532</td>\n",
       "      <td>-2.462516</td>\n",
       "      <td>...</td>\n",
       "      <td>NaN</td>\n",
       "      <td>NaN</td>\n",
       "      <td>9223370323280082057</td>\n",
       "      <td>1.757932</td>\n",
       "      <td>0.001082</td>\n",
       "      <td>0.006203</td>\n",
       "      <td>0.005959</td>\n",
       "      <td>-1.526050</td>\n",
       "      <td>0.842350</td>\n",
       "      <td>-0.227910</td>\n",
       "    </tr>\n",
       "  </tbody>\n",
       "</table>\n",
       "<p>5190000 rows × 29 columns</p>\n",
       "</div>"
      ],
      "text/plain": [
       "                 diaSourceId  eclipticBeta  eclipticLambda  galacticB   \n",
       "0         392143802423614332     -3.188224      167.618113  54.929718  \\\n",
       "1       -2155482025328203148     -3.187820      167.612385  54.928244   \n",
       "2        1342595478072641016     -2.451004      160.626934  52.788817   \n",
       "3        2072606872722931151     -2.518662      161.128212  52.965287   \n",
       "4        8156415499263638424     -2.557995      161.436433  53.073130   \n",
       "...                      ...           ...             ...        ...   \n",
       "5189995 -4630183780981088497    -19.972689      162.302724  37.371231   \n",
       "5189996  1295083018380555837    -20.025738      162.680088  37.437812   \n",
       "5189997 -7552594750373973562    -20.025211      162.675287  37.436841   \n",
       "5189998 -1597337412419539310    -18.253054      156.410095  36.819809   \n",
       "5189999  3120879741781371708    -18.032247      155.914127  36.811627   \n",
       "\n",
       "          galacticL  heliocentricDist  heliocentricVX  heliocentricVY   \n",
       "0        254.464829          2.609281       -0.003183       -0.008792  \\\n",
       "1        254.455187          2.609279       -0.003182       -0.008792   \n",
       "2        243.109818          2.605045       -0.002056       -0.009109   \n",
       "3        243.894449          2.605526       -0.002141       -0.009089   \n",
       "4        244.378345          2.605802       -0.002192       -0.009077   \n",
       "...             ...               ...             ...             ...   \n",
       "5189995  255.286230          2.694880       -0.005894       -0.008467   \n",
       "5189996  255.729750          2.693320       -0.005962       -0.008427   \n",
       "5189997  255.724164          2.693339       -0.005961       -0.008428   \n",
       "5189998  248.012045          2.713802       -0.005037       -0.008921   \n",
       "5189999  247.361998          2.715261       -0.004968       -0.008953   \n",
       "\n",
       "         heliocentricVZ  heliocentricX  ...  residualDec  residualRa   \n",
       "0             -0.002939      -2.461922  ...          NaN         NaN  \\\n",
       "1             -0.002939      -2.461998  ...          NaN         NaN   \n",
       "2             -0.003037      -2.532769  ...          NaN         NaN   \n",
       "3             -0.003031      -2.528559  ...          NaN         NaN   \n",
       "4             -0.003027      -2.525951  ...          NaN         NaN   \n",
       "...                 ...            ...  ...          ...         ...   \n",
       "5189995       -0.000568      -2.321804  ...          NaN         NaN   \n",
       "5189996       -0.000570      -2.310344  ...          NaN         NaN   \n",
       "5189997       -0.000570      -2.310490  ...          NaN         NaN   \n",
       "5189998       -0.000535      -2.453018  ...          NaN         NaN   \n",
       "5189999       -0.000532      -2.462516  ...          NaN         NaN   \n",
       "\n",
       "                  ssObjectId  topocentricDist  topocentricVX  topocentricVY   \n",
       "0        9131138229541269793         1.653559       0.005932       0.005068  \\\n",
       "1        9131138229541269793         1.653451       0.005892       0.005073   \n",
       "2        9131138229541269793         1.633712      -0.000759       0.006922   \n",
       "3        9131138229541269793         1.627975      -0.000228       0.006901   \n",
       "4        9131138229541269793         1.625077       0.000347       0.006787   \n",
       "...                      ...              ...            ...            ...   \n",
       "5189995  9223370323280082057         1.817683       0.006701       0.002914   \n",
       "5189996  9223370323280082057         1.829093       0.006955       0.002593   \n",
       "5189997  9223370323280082057         1.828946       0.006916       0.002598   \n",
       "5189998  9223370323280082057         1.755972       0.001425       0.006111   \n",
       "5189999  9223370323280082057         1.757932       0.001082       0.006203   \n",
       "\n",
       "         topocentricVZ  topocentricX  topocentricY  topocentricZ  \n",
       "0             0.002969     -1.612598      0.361386      0.056444  \n",
       "1             0.002971     -1.612457      0.361507      0.056515  \n",
       "2             0.003820     -1.539799      0.524548      0.151270  \n",
       "3             0.003806     -1.538975      0.511110      0.143618  \n",
       "4             0.003792     -1.538991      0.503040      0.139045  \n",
       "...                ...           ...           ...           ...  \n",
       "5189995       0.004276     -1.627514      0.723433     -0.363064  \n",
       "5189996       0.004106     -1.640582      0.718544     -0.371166  \n",
       "5189997       0.004108     -1.640413      0.718607     -0.371066  \n",
       "5189998       0.005880     -1.528258      0.831066     -0.239151  \n",
       "5189999       0.005959     -1.526050      0.842350     -0.227910  \n",
       "\n",
       "[5190000 rows x 29 columns]"
      ]
     },
     "execution_count": 60,
     "metadata": {},
     "output_type": "execute_result"
    }
   ],
   "source": [
    "query = \"\"\"SELECT *\n",
    "FROM dp03_catalogs.SSSource\n",
    "WHERE ssObjectId < 9223370875126069107 AND ssObjectId > 9131137166374808576\"\"\"\n",
    "\n",
    "df = service.search(query).to_table().to_pandas()\n",
    "df"
   ]
  },
  {
   "cell_type": "code",
   "execution_count": 61,
   "id": "7937ff01-6f26-4984-a2b3-de1c2457bea6",
   "metadata": {
    "execution": {
     "iopub.execute_input": "2023-06-28T01:03:09.414918Z",
     "iopub.status.busy": "2023-06-28T01:03:09.414351Z",
     "iopub.status.idle": "2023-06-28T01:03:09.896717Z",
     "shell.execute_reply": "2023-06-28T01:03:09.895892Z",
     "shell.execute_reply.started": "2023-06-28T01:03:09.414872Z"
    },
    "tags": []
   },
   "outputs": [
    {
     "data": {
      "text/plain": [
       "Text(0.5, 1.0, 'heliocentricDist vs. topocentricDist')"
      ]
     },
     "execution_count": 61,
     "metadata": {},
     "output_type": "execute_result"
    },
    {
     "data": {
      "image/png": "[encoded data removed]",
      "text/plain": [
       "<Figure size 500x400 with 1 Axes>"
      ]
     },
     "metadata": {},
     "output_type": "display_data"
    }
   ],
   "source": [
    "plt.figure(figsize=(5,4))\n",
    "plt.hist2d(df['heliocentricDist'], df['topocentricDist'], bins=100, norm='log')\n",
    "plt.xlabel('Heliocentric Distance (AU?)')\n",
    "plt.ylabel('Topocentric Distance (AU?)')\n",
    "plt.title('heliocentricDist vs. topocentricDist')"
   ]
  },
  {
   "cell_type": "code",
   "execution_count": 62,
   "id": "bb02faed-9448-45a6-bf74-1515404a3258",
   "metadata": {
    "execution": {
     "iopub.execute_input": "2023-06-28T01:03:24.016698Z",
     "iopub.status.busy": "2023-06-28T01:03:24.015770Z",
     "iopub.status.idle": "2023-06-28T01:04:22.145267Z",
     "shell.execute_reply": "2023-06-28T01:04:22.144292Z",
     "shell.execute_reply.started": "2023-06-28T01:03:24.016661Z"
    },
    "tags": []
   },
   "outputs": [
    {
     "data": {
      "image/png": "[encoded data removed]",
      "text/plain": [
       "<Figure size 640x480 with 1 Axes>"
      ]
     },
     "metadata": {},
     "output_type": "display_data"
    }
   ],
   "source": [
    "from mpl_toolkits.mplot3d import Axes3D\n",
    "\n",
    "fig = plt.figure()\n",
    "ax = fig.add_subplot(111, projection='3d')\n",
    "\n",
    "ax.scatter(df['heliocentricX'], df['heliocentricY'], df['heliocentricZ'], c='blue', marker='.')\n",
    "\n",
    "ax.set_xlabel('heliocentricX')\n",
    "ax.set_ylabel('heliocentricY')\n",
    "ax.set_zlabel('heliocentricZ')\n",
    "ax.set_xlim(-11, -4)\n",
    "ax.set_ylim(2, 6)\n",
    "ax.set_zlim(-4, 2)\n",
    "ax.set_title(\"Heliocentric Coordinates\")\n",
    "plt.show()\n"
   ]
  },
  {
   "cell_type": "code",
   "execution_count": 63,
   "id": "09b02121-c3a1-425f-917c-f22158b9a533",
   "metadata": {
    "execution": {
     "iopub.execute_input": "2023-06-28T01:04:22.157895Z",
     "iopub.status.busy": "2023-06-28T01:04:22.157653Z",
     "iopub.status.idle": "2023-06-28T01:05:31.041473Z",
     "shell.execute_reply": "2023-06-28T01:05:31.040782Z",
     "shell.execute_reply.started": "2023-06-28T01:04:22.157876Z"
    },
    "tags": []
   },
   "outputs": [
    {
     "data": {
      "image/png": "[encoded data removed]",
      "text/plain": [
       "<Figure size 640x480 with 1 Axes>"
      ]
     },
     "metadata": {},
     "output_type": "display_data"
    }
   ],
   "source": [
    "from mpl_toolkits.mplot3d import Axes3D\n",
    "\n",
    "fig = plt.figure()\n",
    "ax = fig.add_subplot(111, projection='3d')\n",
    "\n",
    "ax.scatter(df['topocentricX'], df['topocentricY'], df['topocentricZ'], c='red', marker='.')\n",
    "\n",
    "ax.set_xlabel('topocentricX')\n",
    "ax.set_ylabel('topocentricY')\n",
    "ax.set_zlabel('topocentricZ')\n",
    "ax.set_xlim(-3, 1)\n",
    "ax.set_ylim(2, 6)\n",
    "ax.set_zlim(-4, -1)\n",
    "ax.set_title(\"Topocentric Coordinates\")\n",
    "plt.show()\n"
   ]
  },
  {
   "cell_type": "code",
   "execution_count": 64,
   "id": "1b7261e5-859a-4520-950c-26a8ea648cae",
   "metadata": {
    "execution": {
     "iopub.execute_input": "2023-06-28T01:05:31.043479Z",
     "iopub.status.busy": "2023-06-28T01:05:31.043020Z",
     "iopub.status.idle": "2023-06-28T01:05:31.051328Z",
     "shell.execute_reply": "2023-06-28T01:05:31.050720Z",
     "shell.execute_reply.started": "2023-06-28T01:05:31.043457Z"
    },
    "tags": []
   },
   "outputs": [
    {
     "name": "stdout",
     "output_type": "stream",
     "text": [
      "<class 'pandas.core.frame.DataFrame'>\n",
      "RangeIndex: 5190000 entries, 0 to 5189999\n",
      "Data columns (total 29 columns):\n",
      " #   Column                   Dtype  \n",
      "---  ------                   -----  \n",
      " 0   diaSourceId              int64  \n",
      " 1   eclipticBeta             float64\n",
      " 2   eclipticLambda           float64\n",
      " 3   galacticB                float64\n",
      " 4   galacticL                float64\n",
      " 5   heliocentricDist         float32\n",
      " 6   heliocentricVX           float32\n",
      " 7   heliocentricVY           float32\n",
      " 8   heliocentricVZ           float32\n",
      " 9   heliocentricX            float32\n",
      " 10  heliocentricY            float32\n",
      " 11  heliocentricZ            float32\n",
      " 12  mpcUniqueId              int64  \n",
      " 13  phaseAngle               float32\n",
      " 14  predictedDecSigma        float32\n",
      " 15  predictedMagnitude       float32\n",
      " 16  predictedMagnitudeSigma  float32\n",
      " 17  predictedRaDecCov        float32\n",
      " 18  predictedRaSigma         float32\n",
      " 19  residualDec              float64\n",
      " 20  residualRa               float64\n",
      " 21  ssObjectId               int64  \n",
      " 22  topocentricDist          float32\n",
      " 23  topocentricVX            float32\n",
      " 24  topocentricVY            float32\n",
      " 25  topocentricVZ            float32\n",
      " 26  topocentricX             float32\n",
      " 27  topocentricY             float32\n",
      " 28  topocentricZ             float32\n",
      "dtypes: float32(20), float64(6), int64(3)\n",
      "memory usage: 752.3 MB\n"
     ]
    }
   ],
   "source": [
    "df.info()"
   ]
  },
  {
   "cell_type": "code",
   "execution_count": 65,
   "id": "e16586ec-f5cd-4899-b480-141cc6e8716e",
   "metadata": {
    "execution": {
     "iopub.execute_input": "2023-06-28T01:05:31.052423Z",
     "iopub.status.busy": "2023-06-28T01:05:31.052135Z",
     "iopub.status.idle": "2023-06-28T01:05:45.770667Z",
     "shell.execute_reply": "2023-06-28T01:05:45.769716Z",
     "shell.execute_reply.started": "2023-06-28T01:05:31.052404Z"
    },
    "tags": []
   },
   "outputs": [
    {
     "data": {
      "text/plain": [
       "Text(0, 0.5, 'Ecliptic β (deg)')"
      ]
     },
     "execution_count": 65,
     "metadata": {},
     "output_type": "execute_result"
    },
    {
     "data": {
      "image/png": "[encoded data removed]",
      "text/plain": [
       "<Figure size 500x400 with 1 Axes>"
      ]
     },
     "metadata": {},
     "output_type": "display_data"
    }
   ],
   "source": [
    "plt.figure(figsize=(5,4))\n",
    "plt.scatter(df['eclipticLambda'], df['eclipticBeta'])\n",
    "plt.title('eclipticLambda vs. eclipticBeta')\n",
    "plt.xlabel('Ecliptic λ (deg)')\n",
    "plt.ylabel('Ecliptic β (deg)')"
   ]
  },
  {
   "cell_type": "code",
   "execution_count": 66,
   "id": "5f976d15-c64e-409b-9b4c-79eda2d8257d",
   "metadata": {
    "execution": {
     "iopub.execute_input": "2023-06-28T01:05:45.772724Z",
     "iopub.status.busy": "2023-06-28T01:05:45.772232Z",
     "iopub.status.idle": "2023-06-28T01:05:46.315547Z",
     "shell.execute_reply": "2023-06-28T01:05:46.314383Z",
     "shell.execute_reply.started": "2023-06-28T01:05:45.772683Z"
    },
    "tags": []
   },
   "outputs": [
    {
     "data": {
      "text/plain": [
       "Text(0, 0.5, 'Galactic Latitude (deg)')"
      ]
     },
     "execution_count": 66,
     "metadata": {},
     "output_type": "execute_result"
    },
    {
     "data": {
      "image/png": "[encoded data removed]",
      "text/plain": [
       "<Figure size 500x400 with 1 Axes>"
      ]
     },
     "metadata": {},
     "output_type": "display_data"
    }
   ],
   "source": [
    "plt.figure(figsize=(5,4))\n",
    "plt.hist2d(df['galacticL'], df['galacticB'], bins=100, norm='log')\n",
    "plt.xlabel('Galactic Longitude (deg)')\n",
    "plt.ylabel('Galactic Latitude (deg)')"
   ]
  },
  {
   "cell_type": "markdown",
   "id": "7c568937-4f20-489c-b113-711f32cfad34",
   "metadata": {},
   "source": [
    "## 6. What's in the DiaSource catalog and how big is it?\n"
   ]
  },
  {
   "cell_type": "code",
   "execution_count": 67,
   "id": "97cc39ef-af55-4244-939f-13a79a0f944d",
   "metadata": {
    "execution": {
     "iopub.execute_input": "2023-06-28T01:05:46.317084Z",
     "iopub.status.busy": "2023-06-28T01:05:46.316782Z",
     "iopub.status.idle": "2023-06-28T01:06:35.494294Z",
     "shell.execute_reply": "2023-06-28T01:06:35.493476Z",
     "shell.execute_reply.started": "2023-06-28T01:05:46.317054Z"
    },
    "tags": []
   },
   "outputs": [
    {
     "data": {
      "text/html": [
       "<div>\n",
       "<style scoped>\n",
       "    .dataframe tbody tr th:only-of-type {\n",
       "        vertical-align: middle;\n",
       "    }\n",
       "\n",
       "    .dataframe tbody tr th {\n",
       "        vertical-align: top;\n",
       "    }\n",
       "\n",
       "    .dataframe thead th {\n",
       "        text-align: right;\n",
       "    }\n",
       "</style>\n",
       "<table border=\"1\" class=\"dataframe\">\n",
       "  <thead>\n",
       "    <tr style=\"text-align: right;\">\n",
       "      <th></th>\n",
       "      <th>COUNT</th>\n",
       "    </tr>\n",
       "  </thead>\n",
       "  <tbody>\n",
       "    <tr>\n",
       "      <th>0</th>\n",
       "      <td>1031389589</td>\n",
       "    </tr>\n",
       "  </tbody>\n",
       "</table>\n",
       "</div>"
      ],
      "text/plain": [
       "        COUNT\n",
       "0  1031389589"
      ]
     },
     "execution_count": 67,
     "metadata": {},
     "output_type": "execute_result"
    }
   ],
   "source": [
    "results = service.search(\"SELECT COUNT(*) from dp03_catalogs.DiaSource\")\n",
    "results.to_table().to_pandas()"
   ]
  },
  {
   "cell_type": "code",
   "execution_count": null,
   "id": "e711c337-cbcf-4bf7-b134-22ec4de1dab2",
   "metadata": {
    "execution": {
     "iopub.execute_input": "2023-06-28T01:06:35.495985Z",
     "iopub.status.busy": "2023-06-28T01:06:35.495462Z"
    },
    "tags": []
   },
   "outputs": [],
   "source": [
    "query = \"\"\"SELECT *\n",
    "FROM dp03_catalogs.DiaSource\n",
    "WHERE ssObjectId < 9223370875126069107 AND ssObjectId > 9131137166374808576\"\"\"\n",
    "\n",
    "df = service.search(query).to_table().to_pandas()\n",
    "df"
   ]
  },
  {
   "cell_type": "code",
   "execution_count": null,
   "id": "0d8be1ba-f6ea-4434-8a18-2b4c4f1933ad",
   "metadata": {
    "tags": []
   },
   "outputs": [],
   "source": [
    "df.info()"
   ]
  },
  {
   "cell_type": "markdown",
   "id": "4ecca0ff-381a-44e6-9443-6aa7aea7d3a3",
   "metadata": {},
   "source": [
    "It seems like the true values of ra and dec nearly agree. Does mag add an error function to _magTrue?"
   ]
  },
  {
   "cell_type": "code",
   "execution_count": null,
   "id": "37cd994b-f758-4be4-ab6d-4d1467403cb5",
   "metadata": {
    "tags": []
   },
   "outputs": [],
   "source": [
    "fig, ax = plt.subplots(1, 3, figsize=(14,4))\n",
    "\n",
    "ax[0].scatter(df['_raTrue'], df['ra'])\n",
    "ax[0].set_xlabel('_raTrue')\n",
    "ax[0].set_ylabel('ra')\n",
    "ax[0].set_title('_raTrue vs. ra')\n",
    "\n",
    "ax[1].scatter(df['_decTrue'], df['decl'])\n",
    "ax[1].set_xlabel('_decTrue')\n",
    "ax[1].set_ylabel('decl')\n",
    "ax[1].set_title('_decTrue vs. decl')\n",
    "\n",
    "ax[2].scatter(df['_magTrue'], df['mag'])\n",
    "ax[2].set_xlabel('_magTrue')\n",
    "ax[2].set_ylabel('mag')\n",
    "ax[2].set_title('_magTrue vs. mag')\n",
    "ax[2].invert_xaxis()\n",
    "ax[2].invert_yaxis()"
   ]
  },
  {
   "cell_type": "code",
   "execution_count": null,
   "id": "0a92429d-b631-4955-b839-dc28ab25c318",
   "metadata": {
    "tags": []
   },
   "outputs": [],
   "source": [
    "fig, ax = plt.subplots(1, 3, figsize=(14,4))\n",
    "\n",
    "ax[0].scatter(df['_raTrue'], df['ra'] - df['_raTrue'])\n",
    "ax[0].set_xlabel('_raTrue')\n",
    "ax[0].set_ylabel('ra - ra_True')\n",
    "ax[0].set_title('_raTrue vs. ra')\n",
    "\n",
    "ax[1].scatter(df['_decTrue'], df['decl'] - df['_decTrue'])\n",
    "ax[1].set_xlabel('_decTrue')\n",
    "ax[1].set_ylabel('decl - _decTrue')\n",
    "ax[1].set_title('_decTrue vs. decl - _decTrue')\n",
    "\n",
    "ax[2].scatter(df['_magTrue'], df['mag'] - df['_magTrue'])\n",
    "ax[2].set_xlabel('_magTrue')\n",
    "ax[2].set_ylabel('mag - _magTrue')\n",
    "ax[2].set_title('_magTrue vs. mag - _magTrue')\n",
    "ax[2].invert_xaxis()\n",
    "ax[2].invert_yaxis()"
   ]
  },
  {
   "cell_type": "code",
   "execution_count": null,
   "id": "35c603f7-9140-4a08-80ac-2e674e63a80d",
   "metadata": {
    "tags": []
   },
   "outputs": [],
   "source": [
    "plt.scatter(df['snr'], (df['mag']))\n",
    "plt.gca().invert_yaxis()\n",
    "plt.xlabel('Signal-to-Noise Ratio (\"snr\")')\n",
    "plt.ylabel('magnitude (\"mag\")')\n",
    "plt.title('Why do lower magnitudes have higher SNR? (All filters here)')"
   ]
  },
  {
   "cell_type": "markdown",
   "id": "c4ebbc1f-0f8d-4226-b763-61989c22749e",
   "metadata": {},
   "source": [
    "Try separating the filters into separate tables."
   ]
  },
  {
   "cell_type": "code",
   "execution_count": null,
   "id": "d22a4f3c-3e39-4a31-9658-8fd7f60c925f",
   "metadata": {
    "tags": []
   },
   "outputs": [],
   "source": [
    "filter_label = ['u', 'g', 'r', 'i', 'z', 'y']\n",
    "df_u = df[(df['filter'] == 'u')] \n",
    "df_g = df[(df['filter'] == 'g')]\n",
    "df_r = df[(df['filter'] == 'r')]\n",
    "df_i = df[(df['filter'] == 'i')]\n",
    "df_z = df[(df['filter'] == 'z')] \n",
    "df_y = df[(df['filter'] == 'y')] "
   ]
  },
  {
   "cell_type": "code",
   "execution_count": null,
   "id": "d8e267ce-aa26-4f99-972d-c2cf82c01c68",
   "metadata": {
    "tags": []
   },
   "outputs": [],
   "source": [
    "plot_color = ['violet', 'blue', 'green', 'yellow', 'orange', 'red'] \n",
    "fig, ax, = plt.subplots(2, 3, figsize=(10,6))\n",
    "m = 0\n",
    "ax[0,0].scatter(df_u['snr'], df_u['mag'], color = plot_color[0], label='u')\n",
    "ax[0,1].scatter(df_g['snr'], df_g['mag'], color = plot_color[1], label='g')\n",
    "ax[0,2].scatter(df_r['snr'], df_r['mag'], color = plot_color[2], label='r')\n",
    "ax[1,0].scatter(df_i['snr'], df_i['mag'], color = plot_color[3], label='i')\n",
    "ax[1,1].scatter(df_z['snr'], df_z['mag'], color = plot_color[4], label='z')\n",
    "ax[1,2].scatter(df_y['snr'], df_y['mag'], color = plot_color[5], label='y')\n",
    "fig.suptitle('SNR vs. apparent magnitude for all filters')\n",
    "for i in range(2):\n",
    "    for j in range(3):\n",
    "        ax[i,j].set_xlabel('SNR')\n",
    "        ax[i,j].set_ylabel(filter_label[m] + '_mag')\n",
    "        ax[i,j].invert_yaxis()\n",
    "        ax[i,j].legend()\n",
    "        m += 1"
   ]
  },
  {
   "cell_type": "code",
   "execution_count": null,
   "id": "7cd56d5a-40d6-4a14-95df-09e04200f1de",
   "metadata": {
    "tags": []
   },
   "outputs": [],
   "source": [
    "fig, ax, = plt.subplots(2, 3, figsize=(10,6))\n",
    "\n",
    "ax[0,0].scatter(np.log10(df_u['snr']), df_u['magSigma'], color = plot_color[0], label='u')\n",
    "ax[0,1].scatter(np.log10(df_g['snr']), df_g['magSigma'], color = plot_color[1], label='g')\n",
    "ax[0,2].scatter(np.log10(df_r['snr']), df_r['magSigma'], color = plot_color[2], label='r')\n",
    "ax[1,0].scatter(np.log10(df_i['snr']), df_i['magSigma'], color = plot_color[3], label='i')\n",
    "ax[1,1].scatter(np.log10(df_z['snr']), df_z['magSigma'], color = plot_color[4], label='z')\n",
    "ax[1,2].scatter(np.log10(df_y['snr']), df_y['magSigma'], color = plot_color[5], label='y')\n",
    "fig.suptitle('$Log_{10}$(SNR) vs. ${\\sigma}_{m}$ for all filters')\n",
    "for i in range(2):\n",
    "    for j in range(3):\n",
    "        ax[i,j].set_xlabel('log(SNR)')\n",
    "        ax[i,j].set_ylabel('${\\sigma}_{m}$')\n",
    "        \n",
    "        ax[i,j].legend()\n"
   ]
  },
  {
   "cell_type": "markdown",
   "id": "9c68e5eb-e0ae-4865-9f8a-45b4d6ccf49f",
   "metadata": {},
   "source": [
    "The `magnitude` column encompasses all colors (there's a separate `filter` column) and, as shown below, the number of observations varies for each filter. I think color calculations would focus on ssObjectId. How do we calculate colors for objects? How many observations in how many filters? </span>"
   ]
  },
  {
   "cell_type": "code",
   "execution_count": null,
   "id": "bcd2182d-09c7-4144-a24f-b13e12bdfd98",
   "metadata": {
    "tags": []
   },
   "outputs": [],
   "source": [
    "print(\"There are %d unique ssObjectId's out of %d objects\" %(len(np.unique(df['ssObjectId'])), len(df)))\n"
   ]
  },
  {
   "cell_type": "code",
   "execution_count": null,
   "id": "a1691d3d-5106-4be0-be25-418cbbb2ae42",
   "metadata": {
    "tags": []
   },
   "outputs": [],
   "source": [
    "df = df.sort_values(by=['ssObjectId'])\n",
    "df = df.reset_index()"
   ]
  },
  {
   "cell_type": "code",
   "execution_count": null,
   "id": "99e573d4-1647-448c-81ce-3529916422cd",
   "metadata": {
    "tags": []
   },
   "outputs": [],
   "source": [
    "for i in range(37,56):\n",
    "    print(i, df['ssObjectId'][i], df['mag'][i], df['midPointTai'][i]-60000.)"
   ]
  },
  {
   "cell_type": "markdown",
   "id": "30ae5728-843e-48f7-95a9-f027e1c7b6ee",
   "metadata": {},
   "source": [
    "`ssObjectId` is the moving object identifier, but how should we calculate colors?"
   ]
  },
  {
   "cell_type": "code",
   "execution_count": null,
   "id": "f7787091-17b3-46fe-860f-eeb2637accba",
   "metadata": {
    "execution": {
     "iopub.status.busy": "2023-06-27T22:00:15.781153Z",
     "iopub.status.idle": "2023-06-27T22:00:15.781507Z",
     "shell.execute_reply": "2023-06-27T22:00:15.781342Z",
     "shell.execute_reply.started": "2023-06-27T22:00:15.781327Z"
    },
    "tags": []
   },
   "outputs": [],
   "source": [
    "print('# of Entries for each filter:')\n",
    "print(' u   g   r    i   z   y')\n",
    "print(len(df_u), len(df_g), len(df_r), len(df_i), len(df_z), len(df_y))"
   ]
  },
  {
   "cell_type": "code",
   "execution_count": null,
   "id": "10af5ce9-89b6-4d6b-9a52-55c3e1c4dfa2",
   "metadata": {
    "tags": []
   },
   "outputs": [],
   "source": []
  }
 ],
 "metadata": {
  "kernelspec": {
   "display_name": "LSST",
   "language": "python",
   "name": "lsst"
  },
  "language_info": {
   "codemirror_mode": {
    "name": "ipython",
    "version": 3
   },
   "file_extension": ".py",
   "mimetype": "text/x-python",
   "name": "python",
   "nbconvert_exporter": "python",
   "pygments_lexer": "ipython3",
   "version": "3.10.10"
  }
 },
 "nbformat": 4,
 "nbformat_minor": 5
}
