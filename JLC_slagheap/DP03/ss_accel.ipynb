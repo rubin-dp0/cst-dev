{
 "cells": [
  {
   "cell_type": "code",
   "execution_count": 1,
   "id": "b903346b-e697-41b3-abb9-721ed87f06fb",
   "metadata": {
    "execution": {
     "iopub.execute_input": "2023-09-15T17:28:11.278063Z",
     "iopub.status.busy": "2023-09-15T17:28:11.277725Z",
     "iopub.status.idle": "2023-09-15T17:28:11.826038Z",
     "shell.execute_reply": "2023-09-15T17:28:11.824875Z",
     "shell.execute_reply.started": "2023-09-15T17:28:11.278040Z"
    },
    "tags": []
   },
   "outputs": [],
   "source": [
    "# general python packages\n",
    "import numpy as np\n",
    "import matplotlib.pyplot as plt\n",
    "import astropy.units as u\n",
    "from matplotlib import colormaps\n",
    "plt.style.use('tableau-colorblind10')\n",
    "\n",
    "# LSST package for TAP queries\n",
    "from lsst.rsp import get_tap_service, retrieve_query"
   ]
  },
  {
   "cell_type": "code",
   "execution_count": 2,
   "id": "d93a5025-c1c9-4c20-8d2f-76e2e8f3caf9",
   "metadata": {
    "execution": {
     "iopub.execute_input": "2023-09-15T17:28:12.558123Z",
     "iopub.status.busy": "2023-09-15T17:28:12.557361Z",
     "iopub.status.idle": "2023-09-15T17:28:12.623648Z",
     "shell.execute_reply": "2023-09-15T17:28:12.622796Z",
     "shell.execute_reply.started": "2023-09-15T17:28:12.558095Z"
    },
    "tags": []
   },
   "outputs": [],
   "source": [
    "service = get_tap_service(\"ssotap\")"
   ]
  },
  {
   "cell_type": "code",
   "execution_count": 17,
   "id": "d828703b-7eae-4baa-a5bc-253b58f9ee78",
   "metadata": {
    "execution": {
     "iopub.execute_input": "2023-09-15T17:32:25.728841Z",
     "iopub.status.busy": "2023-09-15T17:32:25.728057Z",
     "iopub.status.idle": "2023-09-15T17:32:25.733230Z",
     "shell.execute_reply": "2023-09-15T17:32:25.732407Z",
     "shell.execute_reply.started": "2023-09-15T17:32:25.728808Z"
    },
    "tags": []
   },
   "outputs": [],
   "source": [
    "def get_obj_matched(objid):\n",
    "\n",
    "    allsrc_tmp = service.search(\"SELECT * FROM dp03_catalogs_10yr.DiaSource as diasrc \\\n",
    "                                 JOIN dp03_catalogs_10yr.SSSource as sssrc \\\n",
    "                                 ON diasrc.diaSourceId = sssrc.diaSourceId \\\n",
    "                                 WHERE diasrc.ssObjectId = \" + str(objid)).to_table().to_pandas()\n",
    "\n",
    "    return allsrc_tmp"
   ]
  },
  {
   "cell_type": "code",
   "execution_count": 4,
   "id": "af0d3430-0967-4f4a-a1ea-4dd22f95d8e0",
   "metadata": {
    "execution": {
     "iopub.execute_input": "2023-09-15T17:28:14.606232Z",
     "iopub.status.busy": "2023-09-15T17:28:14.605554Z",
     "iopub.status.idle": "2023-09-15T17:28:14.615183Z",
     "shell.execute_reply": "2023-09-15T17:28:14.614332Z",
     "shell.execute_reply.started": "2023-09-15T17:28:14.606205Z"
    },
    "tags": []
   },
   "outputs": [],
   "source": [
    "def xyz_orbit_plot_manyobjects(tobs_list, x_list, y_list, z_list):\n",
    "    params = {\n",
    "       'axes.labelsize': 12,\n",
    "       'font.size': 12,\n",
    "       'legend.fontsize': 8,\n",
    "       #   'xtick.labelsize': 16,\n",
    "       'xtick.major.width': 3,\n",
    "       'xtick.minor.width': 2,\n",
    "       'xtick.major.size': 8,\n",
    "       'xtick.minor.size': 5,\n",
    "       'xtick.direction': 'in',\n",
    "       'xtick.top': True,\n",
    "       'lines.linewidth':3,\n",
    "       'axes.linewidth':3,\n",
    "       'axes.labelweight':3,\n",
    "       'axes.titleweight':3,\n",
    "       'ytick.major.width':3,\n",
    "       'ytick.minor.width':2,\n",
    "       'ytick.major.size': 8,\n",
    "       'ytick.minor.size': 5,\n",
    "       'ytick.direction': 'in',\n",
    "       'ytick.right': True,\n",
    "       #   'ytick.labelsize': 20,\n",
    "       'text.usetex': False,\n",
    "       # 'text.latex.preamble': r'\\boldmath',\n",
    "       'figure.figsize': [6, 6],\n",
    "       'figure.facecolor': 'white'\n",
    "       }\n",
    "    \n",
    "    plt.rcParams.update(params)\n",
    "    \n",
    "    fig = plt.figure()\n",
    "    fig.subplots_adjust(hspace=0, wspace=0)\n",
    "\n",
    "    for i in range(len(tobs_list)):\n",
    "        dist = np.sqrt(x_list[i]**2 + y_list[i]**2 + z_list[i]**2)\n",
    "        col = (np.random.random(), np.random.random(), np.random.random())\n",
    "\n",
    "        ax1=plt.subplot(221)\n",
    "        ax1.plot(x_list[i], z_list[i], '.', color=col, ms=5)\n",
    "        ax1.set_ylabel('Z (AU)')\n",
    "        ax1.set_xlabel('X (AU)')\n",
    "        ax1.minorticks_on()\n",
    "\n",
    "        ax2=plt.subplot(222, sharey=ax1)\n",
    "        ax2.plot(y_list[i], z_list[i], '.', color=col, ms=5)\n",
    "        ax2.set_xlabel('Y (AU)')\n",
    "        ax2.minorticks_on()\n",
    "        plt.setp(ax2.get_yticklabels(), visible=False)\n",
    "\n",
    "        ax3=plt.subplot(223, sharex=ax1)\n",
    "        ax3.plot(x_list[i], y_list[i], '.', color=col, ms=5)\n",
    "        ax3.set_ylabel('Y (AU)')\n",
    "        ax3.set_xlabel('X (AU)')\n",
    "        ax3.minorticks_on()\n",
    "\n",
    "    plt.show()"
   ]
  },
  {
   "cell_type": "code",
   "execution_count": 5,
   "id": "bd09e0c7-1d97-4cff-8285-068fdc6af1ee",
   "metadata": {
    "execution": {
     "iopub.execute_input": "2023-09-15T17:28:15.839004Z",
     "iopub.status.busy": "2023-09-15T17:28:15.837906Z",
     "iopub.status.idle": "2023-09-15T17:28:15.858211Z",
     "shell.execute_reply": "2023-09-15T17:28:15.857529Z",
     "shell.execute_reply.started": "2023-09-15T17:28:15.838952Z"
    },
    "tags": []
   },
   "outputs": [],
   "source": [
    "plt.style.use('tableau-colorblind10')\n",
    "%matplotlib inline\n",
    "\n",
    "params = {'axes.labelsize': 18,\n",
    "          'font.size': 18,\n",
    "          'legend.fontsize': 14,\n",
    "          'xtick.major.width': 3,\n",
    "          'xtick.minor.width': 2,\n",
    "          'xtick.major.size': 12,\n",
    "          'xtick.minor.size': 6,\n",
    "          'xtick.direction': 'in',\n",
    "          'xtick.top': True,\n",
    "          'lines.linewidth': 3,\n",
    "          'axes.linewidth': 3,\n",
    "          'axes.labelweight': 3,\n",
    "          'axes.titleweight': 3,\n",
    "          'ytick.major.width': 3,\n",
    "          'ytick.minor.width': 2,\n",
    "          'ytick.major.size': 12,\n",
    "          'ytick.minor.size': 6,\n",
    "          'ytick.direction': 'in',\n",
    "          'ytick.right': True,\n",
    "          'figure.figsize': [6, 6],\n",
    "          'figure.facecolor': 'White'\n",
    "          }\n",
    "plt.rcParams.update(params)"
   ]
  },
  {
   "cell_type": "code",
   "execution_count": 7,
   "id": "5458e0d7-c615-4a92-823e-004880dec03b",
   "metadata": {
    "execution": {
     "iopub.execute_input": "2023-09-15T17:29:11.644246Z",
     "iopub.status.busy": "2023-09-15T17:29:11.643808Z",
     "iopub.status.idle": "2023-09-15T17:29:13.679340Z",
     "shell.execute_reply": "2023-09-15T17:29:13.678674Z",
     "shell.execute_reply.started": "2023-09-15T17:29:11.644221Z"
    },
    "tags": []
   },
   "outputs": [
    {
     "name": "stdout",
     "output_type": "stream",
     "text": [
      "The query returned  11044  results.\n"
     ]
    }
   ],
   "source": [
    "df_mpc_sso = service.search(\"SELECT mpc.ssObjectId, mpc.e, mpc.incl, mpc.q, mpc.peri \\\n",
    "                            FROM dp03_catalogs_10yr.MPCORB as mpc \\\n",
    "                            WHERE mpc.incl > 90.0\").to_table().to_pandas()\n",
    "\n",
    "print('The query returned ',len(df_mpc_sso),' results.')"
   ]
  },
  {
   "cell_type": "code",
   "execution_count": 10,
   "id": "68a83d80-640b-4394-bd8d-b3078e74664b",
   "metadata": {
    "execution": {
     "iopub.execute_input": "2023-09-15T17:30:06.065894Z",
     "iopub.status.busy": "2023-09-15T17:30:06.065051Z",
     "iopub.status.idle": "2023-09-15T17:30:06.722362Z",
     "shell.execute_reply": "2023-09-15T17:30:06.721521Z",
     "shell.execute_reply.started": "2023-09-15T17:30:06.065862Z"
    },
    "tags": []
   },
   "outputs": [
    {
     "name": "stdout",
     "output_type": "stream",
     "text": [
      "The query returned  2687  results.\n"
     ]
    }
   ],
   "source": [
    "df_mpc_sso = service.search(\"SELECT mpc.ssObjectId, mpc.e, mpc.incl, mpc.q, mpc.peri, \\\n",
    "                            sso.ssObjectId, sso.g_H, sso.r_H, sso.i_H, sso.z_H, sso.y_H \\\n",
    "                            FROM dp03_catalogs_10yr.MPCORB as mpc \\\n",
    "                            JOIN dp03_catalogs_10yr.SSObject as sso \\\n",
    "                            ON mpc.ssObjectId = sso.ssObjectId \\\n",
    "                            WHERE mpc.incl > 90.0\").to_table().to_pandas()\n",
    "\n",
    "print('The query returned ',len(df_mpc_sso),' results.')"
   ]
  },
  {
   "cell_type": "markdown",
   "id": "911a49c7-7a49-4eb6-9a73-201056b2b638",
   "metadata": {
    "tags": []
   },
   "source": [
    "I think this is telling us that _none_ of the retrograde (i > 90) bodies are detected and cataloged in SSObject?"
   ]
  },
  {
   "cell_type": "code",
   "execution_count": 12,
   "id": "c149dd7b-b50d-4224-b967-ea2cc1d7d139",
   "metadata": {
    "execution": {
     "iopub.execute_input": "2023-09-15T17:31:21.252271Z",
     "iopub.status.busy": "2023-09-15T17:31:21.251597Z",
     "iopub.status.idle": "2023-09-15T17:31:22.371764Z",
     "shell.execute_reply": "2023-09-15T17:31:22.371098Z",
     "shell.execute_reply.started": "2023-09-15T17:31:21.252238Z"
    },
    "tags": []
   },
   "outputs": [
    {
     "name": "stdout",
     "output_type": "stream",
     "text": [
      "The query returned  1765  results.\n"
     ]
    }
   ],
   "source": [
    "df_mpc_sso = service.search(\"SELECT mpc.ssObjectId, mpc.e, mpc.incl, mpc.q, mpc.peri, \\\n",
    "                            sso.ssObjectId, sso.g_H, sso.r_H, sso.i_H, sso.z_H, sso.y_H \\\n",
    "                            FROM dp03_catalogs_10yr.MPCORB as mpc \\\n",
    "                            JOIN dp03_catalogs_10yr.SSObject as sso \\\n",
    "                            ON mpc.ssObjectId = sso.ssObjectId \\\n",
    "                            WHERE sso.numObs > 150 AND mpc.q < 1.1\").to_table().to_pandas()\n",
    "#                            WHERE sso.numObs > 50 AND (mpc.q < 1.6 OR mpc.q > 3.5)\").to_table().to_pandas()\n",
    "#                             WHERE sso.numObs > 50 AND mpc.e > 0.98\").to_table().to_pandas()\n",
    "#                             WHERE mpc.incl > 90.0\").to_table().to_pandas()\n",
    "\n",
    "print('The query returned ',len(df_mpc_sso),' results.')"
   ]
  },
  {
   "cell_type": "code",
   "execution_count": 13,
   "id": "c4bf8462-7421-4c7e-b6e3-834555d4262e",
   "metadata": {
    "execution": {
     "iopub.execute_input": "2023-09-15T17:31:33.752899Z",
     "iopub.status.busy": "2023-09-15T17:31:33.752052Z",
     "iopub.status.idle": "2023-09-15T17:31:33.776926Z",
     "shell.execute_reply": "2023-09-15T17:31:33.775626Z",
     "shell.execute_reply.started": "2023-09-15T17:31:33.752859Z"
    },
    "tags": []
   },
   "outputs": [
    {
     "data": {
      "text/html": [
       "<div>\n",
       "<style scoped>\n",
       "    .dataframe tbody tr th:only-of-type {\n",
       "        vertical-align: middle;\n",
       "    }\n",
       "\n",
       "    .dataframe tbody tr th {\n",
       "        vertical-align: top;\n",
       "    }\n",
       "\n",
       "    .dataframe thead th {\n",
       "        text-align: right;\n",
       "    }\n",
       "</style>\n",
       "<table border=\"1\" class=\"dataframe\">\n",
       "  <thead>\n",
       "    <tr style=\"text-align: right;\">\n",
       "      <th></th>\n",
       "      <th>ssObjectId</th>\n",
       "      <th>e</th>\n",
       "      <th>incl</th>\n",
       "      <th>q</th>\n",
       "      <th>peri</th>\n",
       "      <th>ssObjectId2</th>\n",
       "      <th>g_H</th>\n",
       "      <th>r_H</th>\n",
       "      <th>i_H</th>\n",
       "      <th>z_H</th>\n",
       "      <th>y_H</th>\n",
       "    </tr>\n",
       "  </thead>\n",
       "  <tbody>\n",
       "    <tr>\n",
       "      <th>0</th>\n",
       "      <td>-5234750409166262016</td>\n",
       "      <td>0.435987</td>\n",
       "      <td>11.883250</td>\n",
       "      <td>1.080947</td>\n",
       "      <td>26.482780</td>\n",
       "      <td>-5234750409166262016</td>\n",
       "      <td>18.141359</td>\n",
       "      <td>17.499477</td>\n",
       "      <td>17.297379</td>\n",
       "      <td>17.350624</td>\n",
       "      <td>NaN</td>\n",
       "    </tr>\n",
       "    <tr>\n",
       "      <th>1</th>\n",
       "      <td>7991128850154218427</td>\n",
       "      <td>0.763999</td>\n",
       "      <td>1.321700</td>\n",
       "      <td>0.441069</td>\n",
       "      <td>43.544950</td>\n",
       "      <td>7991128850154218427</td>\n",
       "      <td>19.550732</td>\n",
       "      <td>18.916409</td>\n",
       "      <td>18.710812</td>\n",
       "      <td>18.776417</td>\n",
       "      <td>NaN</td>\n",
       "    </tr>\n",
       "    <tr>\n",
       "      <th>2</th>\n",
       "      <td>-7789613295760699323</td>\n",
       "      <td>0.623179</td>\n",
       "      <td>6.067580</td>\n",
       "      <td>0.622294</td>\n",
       "      <td>92.792371</td>\n",
       "      <td>-7789613295760699323</td>\n",
       "      <td>18.261578</td>\n",
       "      <td>17.636629</td>\n",
       "      <td>17.455847</td>\n",
       "      <td>17.506680</td>\n",
       "      <td>NaN</td>\n",
       "    </tr>\n",
       "    <tr>\n",
       "      <th>3</th>\n",
       "      <td>8551587316774204226</td>\n",
       "      <td>0.712520</td>\n",
       "      <td>2.521620</td>\n",
       "      <td>0.625595</td>\n",
       "      <td>98.377330</td>\n",
       "      <td>8551587316774204226</td>\n",
       "      <td>16.118109</td>\n",
       "      <td>15.459065</td>\n",
       "      <td>15.249735</td>\n",
       "      <td>15.303591</td>\n",
       "      <td>NaN</td>\n",
       "    </tr>\n",
       "    <tr>\n",
       "      <th>4</th>\n",
       "      <td>-2686348740622689257</td>\n",
       "      <td>0.436676</td>\n",
       "      <td>9.382600</td>\n",
       "      <td>0.769900</td>\n",
       "      <td>127.291143</td>\n",
       "      <td>-2686348740622689257</td>\n",
       "      <td>15.087029</td>\n",
       "      <td>14.425168</td>\n",
       "      <td>14.244156</td>\n",
       "      <td>14.255156</td>\n",
       "      <td>NaN</td>\n",
       "    </tr>\n",
       "    <tr>\n",
       "      <th>...</th>\n",
       "      <td>...</td>\n",
       "      <td>...</td>\n",
       "      <td>...</td>\n",
       "      <td>...</td>\n",
       "      <td>...</td>\n",
       "      <td>...</td>\n",
       "      <td>...</td>\n",
       "      <td>...</td>\n",
       "      <td>...</td>\n",
       "      <td>...</td>\n",
       "      <td>...</td>\n",
       "    </tr>\n",
       "    <tr>\n",
       "      <th>1760</th>\n",
       "      <td>6657481975898767980</td>\n",
       "      <td>0.995465</td>\n",
       "      <td>21.054269</td>\n",
       "      <td>0.222167</td>\n",
       "      <td>160.786528</td>\n",
       "      <td>6657481975898767980</td>\n",
       "      <td>15.558676</td>\n",
       "      <td>15.175577</td>\n",
       "      <td>15.086062</td>\n",
       "      <td>15.033539</td>\n",
       "      <td>NaN</td>\n",
       "    </tr>\n",
       "    <tr>\n",
       "      <th>1761</th>\n",
       "      <td>-34358999358465183</td>\n",
       "      <td>0.993783</td>\n",
       "      <td>123.601655</td>\n",
       "      <td>0.290397</td>\n",
       "      <td>97.261624</td>\n",
       "      <td>-34358999358465183</td>\n",
       "      <td>15.520044</td>\n",
       "      <td>15.011393</td>\n",
       "      <td>14.900069</td>\n",
       "      <td>14.883533</td>\n",
       "      <td>NaN</td>\n",
       "    </tr>\n",
       "    <tr>\n",
       "      <th>1762</th>\n",
       "      <td>839293102145863133</td>\n",
       "      <td>0.995629</td>\n",
       "      <td>161.278282</td>\n",
       "      <td>0.827546</td>\n",
       "      <td>114.227084</td>\n",
       "      <td>839293102145863133</td>\n",
       "      <td>16.462843</td>\n",
       "      <td>15.831499</td>\n",
       "      <td>15.878825</td>\n",
       "      <td>15.771560</td>\n",
       "      <td>NaN</td>\n",
       "    </tr>\n",
       "    <tr>\n",
       "      <th>1763</th>\n",
       "      <td>7264461566670500351</td>\n",
       "      <td>0.996989</td>\n",
       "      <td>8.003656</td>\n",
       "      <td>0.105071</td>\n",
       "      <td>123.434149</td>\n",
       "      <td>7264461566670500351</td>\n",
       "      <td>15.555058</td>\n",
       "      <td>15.086477</td>\n",
       "      <td>14.975512</td>\n",
       "      <td>14.949790</td>\n",
       "      <td>NaN</td>\n",
       "    </tr>\n",
       "    <tr>\n",
       "      <th>1764</th>\n",
       "      <td>-7710554541965342181</td>\n",
       "      <td>0.989859</td>\n",
       "      <td>97.098625</td>\n",
       "      <td>0.606357</td>\n",
       "      <td>113.711909</td>\n",
       "      <td>-7710554541965342181</td>\n",
       "      <td>15.623756</td>\n",
       "      <td>15.154326</td>\n",
       "      <td>15.035293</td>\n",
       "      <td>15.037938</td>\n",
       "      <td>NaN</td>\n",
       "    </tr>\n",
       "  </tbody>\n",
       "</table>\n",
       "<p>1765 rows × 11 columns</p>\n",
       "</div>"
      ],
      "text/plain": [
       "               ssObjectId         e        incl         q        peri   \n",
       "0    -5234750409166262016  0.435987   11.883250  1.080947   26.482780  \\\n",
       "1     7991128850154218427  0.763999    1.321700  0.441069   43.544950   \n",
       "2    -7789613295760699323  0.623179    6.067580  0.622294   92.792371   \n",
       "3     8551587316774204226  0.712520    2.521620  0.625595   98.377330   \n",
       "4    -2686348740622689257  0.436676    9.382600  0.769900  127.291143   \n",
       "...                   ...       ...         ...       ...         ...   \n",
       "1760  6657481975898767980  0.995465   21.054269  0.222167  160.786528   \n",
       "1761   -34358999358465183  0.993783  123.601655  0.290397   97.261624   \n",
       "1762   839293102145863133  0.995629  161.278282  0.827546  114.227084   \n",
       "1763  7264461566670500351  0.996989    8.003656  0.105071  123.434149   \n",
       "1764 -7710554541965342181  0.989859   97.098625  0.606357  113.711909   \n",
       "\n",
       "              ssObjectId2        g_H        r_H        i_H        z_H  y_H  \n",
       "0    -5234750409166262016  18.141359  17.499477  17.297379  17.350624  NaN  \n",
       "1     7991128850154218427  19.550732  18.916409  18.710812  18.776417  NaN  \n",
       "2    -7789613295760699323  18.261578  17.636629  17.455847  17.506680  NaN  \n",
       "3     8551587316774204226  16.118109  15.459065  15.249735  15.303591  NaN  \n",
       "4    -2686348740622689257  15.087029  14.425168  14.244156  14.255156  NaN  \n",
       "...                   ...        ...        ...        ...        ...  ...  \n",
       "1760  6657481975898767980  15.558676  15.175577  15.086062  15.033539  NaN  \n",
       "1761   -34358999358465183  15.520044  15.011393  14.900069  14.883533  NaN  \n",
       "1762   839293102145863133  16.462843  15.831499  15.878825  15.771560  NaN  \n",
       "1763  7264461566670500351  15.555058  15.086477  14.975512  14.949790  NaN  \n",
       "1764 -7710554541965342181  15.623756  15.154326  15.035293  15.037938  NaN  \n",
       "\n",
       "[1765 rows x 11 columns]"
      ]
     },
     "execution_count": 13,
     "metadata": {},
     "output_type": "execute_result"
    }
   ],
   "source": [
    "df_mpc_sso"
   ]
  },
  {
   "cell_type": "code",
   "execution_count": 57,
   "id": "bef6015f-5cf9-49d7-af07-d6afd096367b",
   "metadata": {
    "execution": {
     "iopub.execute_input": "2023-09-15T17:42:05.787184Z",
     "iopub.status.busy": "2023-09-15T17:42:05.786344Z",
     "iopub.status.idle": "2023-09-15T17:42:06.218808Z",
     "shell.execute_reply": "2023-09-15T17:42:06.217788Z",
     "shell.execute_reply.started": "2023-09-15T17:42:05.787154Z"
    },
    "tags": []
   },
   "outputs": [],
   "source": [
    "#ind = 4 # 8 is interesting\n",
    "#src_cat_obj = get_obj_matched(df_mpc_sso.ssObjectId.values[ind])\n",
    "\n",
    "nobj_to_plot = 1\n",
    "pick_obj = df_mpc_sso.sample(nobj_to_plot)\n",
    "src_cat_obj = get_obj_matched(pick_obj.ssObjectId.values[0])"
   ]
  },
  {
   "cell_type": "code",
   "execution_count": 58,
   "id": "c9b323b3-4f57-41b7-9ffc-1167c45296ad",
   "metadata": {
    "execution": {
     "iopub.execute_input": "2023-09-15T17:42:07.270158Z",
     "iopub.status.busy": "2023-09-15T17:42:07.269617Z",
     "iopub.status.idle": "2023-09-15T17:42:07.278323Z",
     "shell.execute_reply": "2023-09-15T17:42:07.277572Z",
     "shell.execute_reply.started": "2023-09-15T17:42:07.270136Z"
    },
    "tags": []
   },
   "outputs": [],
   "source": [
    "src_cat_obj['dt'] = src_cat_obj.midPointMjdTai.diff()\n",
    "src_cat_obj['vhelio_tot'] = np.sqrt(src_cat_obj.heliocentricVX**2 + src_cat_obj.heliocentricVY**2 + src_cat_obj.heliocentricVZ**2)\n",
    "src_cat_obj['dv'] = src_cat_obj.vhelio_tot.diff()\n",
    "src_cat_obj['vtopo_tot'] = np.sqrt(src_cat_obj.topocentricVX**2 + src_cat_obj.topocentricVY**2 + src_cat_obj.topocentricVZ**2)\n",
    "src_cat_obj['dv_topo'] = src_cat_obj.vtopo_tot.diff()"
   ]
  },
  {
   "cell_type": "code",
   "execution_count": 59,
   "id": "38ab4ce0-db69-451a-acb7-3a4d1b34d7d2",
   "metadata": {
    "execution": {
     "iopub.execute_input": "2023-09-15T17:42:08.400302Z",
     "iopub.status.busy": "2023-09-15T17:42:08.399852Z",
     "iopub.status.idle": "2023-09-15T17:42:08.404913Z",
     "shell.execute_reply": "2023-09-15T17:42:08.404139Z",
     "shell.execute_reply.started": "2023-09-15T17:42:08.400280Z"
    },
    "tags": []
   },
   "outputs": [],
   "source": [
    "dv = src_cat_obj.dv.values*u.au/u.second\n",
    "dv_km = dv.to(u.km/u.second)\n",
    "dv_topo = src_cat_obj.dv_topo.values*u.au/u.second\n",
    "dv_topo_km = dv_topo.to(u.km/u.second)\n",
    "dt = src_cat_obj.dt.values*u.day\n",
    "dt_sec = dt.to(u.second)"
   ]
  },
  {
   "cell_type": "code",
   "execution_count": 60,
   "id": "8fd35b5f-6ee3-476d-9dba-67d653fe2c16",
   "metadata": {
    "execution": {
     "iopub.execute_input": "2023-09-15T17:42:09.546110Z",
     "iopub.status.busy": "2023-09-15T17:42:09.545797Z",
     "iopub.status.idle": "2023-09-15T17:42:10.196269Z",
     "shell.execute_reply": "2023-09-15T17:42:10.195625Z",
     "shell.execute_reply.started": "2023-09-15T17:42:09.546091Z"
    },
    "tags": []
   },
   "outputs": [
    {
     "data": {
      "image/png": "[encoded data removed]",
      "text/plain": [
       "<Figure size 600x600 with 2 Axes>"
      ]
     },
     "metadata": {},
     "output_type": "display_data"
    }
   ],
   "source": [
    "fig, axs = plt.subplots(2, 1, figsize=(6, 6), sharex=True)\n",
    "fig.subplots_adjust(hspace = 0)\n",
    "\n",
    "axs[0].plot(src_cat_obj.midPointMjdTai, src_cat_obj.heliocentricDist, 'k.')\n",
    "axs[0].set_title('object: '+str(pick_obj.ssObjectId.values[0]))\n",
    "axs[0].set_ylabel('distHelio (AU)')\n",
    "axs[0].minorticks_on()\n",
    "\n",
    "axs[1].plot(src_cat_obj.midPointMjdTai, dv_km/dt_sec, 'k.')\n",
    "#plt.plot(src_cat_obj.midPointTai, src_cat_obj.dv/(src_cat_obj.dt/365.25), 'k.')\n",
    "axs[1].set_xlabel('midPointTAI (d)')\n",
    "axs[1].set_ylabel('accel (km/s^2)')\n",
    "#plt.ylabel('acceleration (AU/yr^2)')\n",
    "axs[1].minorticks_on()\n",
    "plt.show()\n",
    "# plt.savefig('accel_earth_interaction.png')"
   ]
  },
  {
   "cell_type": "markdown",
   "id": "fd497e9e-df4a-4421-ad93-512a8555c847",
   "metadata": {
    "tags": []
   },
   "source": [
    "# Object I liked:\n",
    "\n",
    "-6115250865060496703"
   ]
  },
  {
   "cell_type": "code",
   "execution_count": 36,
   "id": "05620662-7386-4696-9242-356f91525296",
   "metadata": {
    "execution": {
     "iopub.execute_input": "2023-09-15T17:38:14.938401Z",
     "iopub.status.busy": "2023-09-15T17:38:14.938049Z",
     "iopub.status.idle": "2023-09-15T17:38:40.771623Z",
     "shell.execute_reply": "2023-09-15T17:38:40.770580Z",
     "shell.execute_reply.started": "2023-09-15T17:38:14.938363Z"
    },
    "tags": []
   },
   "outputs": [
    {
     "ename": "KeyboardInterrupt",
     "evalue": "",
     "output_type": "error",
     "traceback": [
      "\u001b[0;31m---------------------------------------------------------------------------\u001b[0m",
      "\u001b[0;31mKeyboardInterrupt\u001b[0m                         Traceback (most recent call last)",
      "Input \u001b[0;32mIn [36]\u001b[0m, in \u001b[0;36m<cell line: 9>\u001b[0;34m()\u001b[0m\n\u001b[1;32m      7\u001b[0m pick_obj_z \u001b[38;5;241m=\u001b[39m []\n\u001b[1;32m      9\u001b[0m \u001b[38;5;28;01mfor\u001b[39;00m i \u001b[38;5;129;01min\u001b[39;00m \u001b[38;5;28mrange\u001b[39m(\u001b[38;5;28mlen\u001b[39m(df_mpc_sso)):\n\u001b[0;32m---> 10\u001b[0m     src_cat_obj \u001b[38;5;241m=\u001b[39m \u001b[43mget_obj_matched\u001b[49m\u001b[43m(\u001b[49m\u001b[43mdf_mpc_sso\u001b[49m\u001b[38;5;241;43m.\u001b[39;49m\u001b[43mssObjectId\u001b[49m\u001b[38;5;241;43m.\u001b[39;49m\u001b[43mvalues\u001b[49m\u001b[43m[\u001b[49m\u001b[43mi\u001b[49m\u001b[43m]\u001b[49m\u001b[43m)\u001b[49m\n\u001b[1;32m     11\u001b[0m     pick_obj_torb\u001b[38;5;241m.\u001b[39mappend(src_cat_obj[\u001b[38;5;124m'\u001b[39m\u001b[38;5;124mmidPointMjdTai\u001b[39m\u001b[38;5;124m'\u001b[39m])\n\u001b[1;32m     12\u001b[0m     pick_obj_x\u001b[38;5;241m.\u001b[39mappend(src_cat_obj[\u001b[38;5;124m'\u001b[39m\u001b[38;5;124mheliocentricX\u001b[39m\u001b[38;5;124m'\u001b[39m])\n",
      "Input \u001b[0;32mIn [17]\u001b[0m, in \u001b[0;36mget_obj_matched\u001b[0;34m(objid)\u001b[0m\n\u001b[1;32m      1\u001b[0m \u001b[38;5;28;01mdef\u001b[39;00m \u001b[38;5;21mget_obj_matched\u001b[39m(objid):\n\u001b[0;32m----> 3\u001b[0m     allsrc_tmp \u001b[38;5;241m=\u001b[39m \u001b[43mservice\u001b[49m\u001b[38;5;241;43m.\u001b[39;49m\u001b[43msearch\u001b[49m\u001b[43m(\u001b[49m\u001b[38;5;124;43m\"\u001b[39;49m\u001b[38;5;124;43mSELECT * FROM dp03_catalogs_10yr.DiaSource as diasrc \u001b[39;49m\u001b[38;5;130;43;01m\\\u001b[39;49;00m\n\u001b[1;32m      4\u001b[0m \u001b[38;5;124;43m                                 JOIN dp03_catalogs_10yr.SSSource as sssrc \u001b[39;49m\u001b[38;5;130;43;01m\\\u001b[39;49;00m\n\u001b[1;32m      5\u001b[0m \u001b[38;5;124;43m                                 ON diasrc.diaSourceId = sssrc.diaSourceId \u001b[39;49m\u001b[38;5;130;43;01m\\\u001b[39;49;00m\n\u001b[1;32m      6\u001b[0m \u001b[38;5;124;43m                                 WHERE diasrc.ssObjectId = \u001b[39;49m\u001b[38;5;124;43m\"\u001b[39;49m\u001b[43m \u001b[49m\u001b[38;5;241;43m+\u001b[39;49m\u001b[43m \u001b[49m\u001b[38;5;28;43mstr\u001b[39;49m\u001b[43m(\u001b[49m\u001b[43mobjid\u001b[49m\u001b[43m)\u001b[49m\u001b[43m)\u001b[49m\u001b[38;5;241m.\u001b[39mto_table()\u001b[38;5;241m.\u001b[39mto_pandas()\n\u001b[1;32m      8\u001b[0m     \u001b[38;5;28;01mreturn\u001b[39;00m allsrc_tmp\n",
      "File \u001b[0;32m/opt/lsst/software/stack/conda/miniconda3-py38_4.9.2/envs/lsst-scipipe-6.0.0/lib/python3.10/site-packages/pyvo/dal/tap.py:257\u001b[0m, in \u001b[0;36mTAPService.run_sync\u001b[0;34m(self, query, language, maxrec, uploads, **keywords)\u001b[0m\n\u001b[1;32m    228\u001b[0m \u001b[38;5;28;01mdef\u001b[39;00m \u001b[38;5;21mrun_sync\u001b[39m(\n\u001b[1;32m    229\u001b[0m         \u001b[38;5;28mself\u001b[39m, query, language\u001b[38;5;241m=\u001b[39m\u001b[38;5;124m\"\u001b[39m\u001b[38;5;124mADQL\u001b[39m\u001b[38;5;124m\"\u001b[39m, maxrec\u001b[38;5;241m=\u001b[39m\u001b[38;5;28;01mNone\u001b[39;00m, uploads\u001b[38;5;241m=\u001b[39m\u001b[38;5;28;01mNone\u001b[39;00m,\n\u001b[1;32m    230\u001b[0m         \u001b[38;5;241m*\u001b[39m\u001b[38;5;241m*\u001b[39mkeywords):\n\u001b[1;32m    231\u001b[0m \u001b[38;5;250m    \u001b[39m\u001b[38;5;124;03m\"\"\"\u001b[39;00m\n\u001b[1;32m    232\u001b[0m \u001b[38;5;124;03m    runs sync query and returns its result\u001b[39;00m\n\u001b[1;32m    233\u001b[0m \n\u001b[0;32m   (...)\u001b[0m\n\u001b[1;32m    253\u001b[0m \u001b[38;5;124;03m    TAPResults\u001b[39;00m\n\u001b[1;32m    254\u001b[0m \u001b[38;5;124;03m    \"\"\"\u001b[39;00m\n\u001b[1;32m    255\u001b[0m     \u001b[38;5;28;01mreturn\u001b[39;00m \u001b[38;5;28;43mself\u001b[39;49m\u001b[38;5;241;43m.\u001b[39;49m\u001b[43mcreate_query\u001b[49m\u001b[43m(\u001b[49m\n\u001b[1;32m    256\u001b[0m \u001b[43m        \u001b[49m\u001b[43mquery\u001b[49m\u001b[43m,\u001b[49m\u001b[43m \u001b[49m\u001b[43mlanguage\u001b[49m\u001b[38;5;241;43m=\u001b[39;49m\u001b[43mlanguage\u001b[49m\u001b[43m,\u001b[49m\u001b[43m \u001b[49m\u001b[43mmaxrec\u001b[49m\u001b[38;5;241;43m=\u001b[39;49m\u001b[43mmaxrec\u001b[49m\u001b[43m,\u001b[49m\u001b[43m \u001b[49m\u001b[43muploads\u001b[49m\u001b[38;5;241;43m=\u001b[39;49m\u001b[43muploads\u001b[49m\u001b[43m,\u001b[49m\n\u001b[0;32m--> 257\u001b[0m \u001b[43m        \u001b[49m\u001b[38;5;241;43m*\u001b[39;49m\u001b[38;5;241;43m*\u001b[39;49m\u001b[43mkeywords\u001b[49m\u001b[43m)\u001b[49m\u001b[38;5;241;43m.\u001b[39;49m\u001b[43mexecute\u001b[49m\u001b[43m(\u001b[49m\u001b[43m)\u001b[49m\n",
      "File \u001b[0;32m/opt/lsst/software/stack/conda/miniconda3-py38_4.9.2/envs/lsst-scipipe-6.0.0/lib/python3.10/site-packages/pyvo/dal/tap.py:1076\u001b[0m, in \u001b[0;36mTAPQuery.execute\u001b[0;34m(self)\u001b[0m\n\u001b[1;32m   1062\u001b[0m \u001b[38;5;28;01mdef\u001b[39;00m \u001b[38;5;21mexecute\u001b[39m(\u001b[38;5;28mself\u001b[39m):\n\u001b[1;32m   1063\u001b[0m \u001b[38;5;250m    \u001b[39m\u001b[38;5;124;03m\"\"\"\u001b[39;00m\n\u001b[1;32m   1064\u001b[0m \u001b[38;5;124;03m    submit the query and return the results as a TAPResults instance\u001b[39;00m\n\u001b[1;32m   1065\u001b[0m \n\u001b[0;32m   (...)\u001b[0m\n\u001b[1;32m   1074\u001b[0m \u001b[38;5;124;03m       for errors parsing the VOTable response\u001b[39;00m\n\u001b[1;32m   1075\u001b[0m \u001b[38;5;124;03m    \"\"\"\u001b[39;00m\n\u001b[0;32m-> 1076\u001b[0m     \u001b[38;5;28;01mreturn\u001b[39;00m TAPResults(\u001b[38;5;28;43mself\u001b[39;49m\u001b[38;5;241;43m.\u001b[39;49m\u001b[43mexecute_votable\u001b[49m\u001b[43m(\u001b[49m\u001b[43m)\u001b[49m, url\u001b[38;5;241m=\u001b[39m\u001b[38;5;28mself\u001b[39m\u001b[38;5;241m.\u001b[39mqueryurl, session\u001b[38;5;241m=\u001b[39m\u001b[38;5;28mself\u001b[39m\u001b[38;5;241m.\u001b[39m_session)\n",
      "File \u001b[0;32m/opt/lsst/software/stack/conda/miniconda3-py38_4.9.2/envs/lsst-scipipe-6.0.0/lib/python3.10/site-packages/pyvo/dal/query.py:241\u001b[0m, in \u001b[0;36mDALQuery.execute_votable\u001b[0;34m(self, post)\u001b[0m\n\u001b[1;32m    216\u001b[0m \u001b[38;5;250m\u001b[39m\u001b[38;5;124;03m\"\"\"\u001b[39;00m\n\u001b[1;32m    217\u001b[0m \u001b[38;5;124;03mSubmit the query and return the results as an AstroPy votable instance.\u001b[39;00m\n\u001b[1;32m    218\u001b[0m \u001b[38;5;124;03mAs this is the level where qualified error messages are available,\u001b[39;00m\n\u001b[0;32m   (...)\u001b[0m\n\u001b[1;32m    238\u001b[0m \u001b[38;5;124;03mDALQueryError\u001b[39;00m\n\u001b[1;32m    239\u001b[0m \u001b[38;5;124;03m\"\"\"\u001b[39;00m\n\u001b[1;32m    240\u001b[0m \u001b[38;5;28;01mtry\u001b[39;00m:\n\u001b[0;32m--> 241\u001b[0m     \u001b[38;5;28;01mreturn\u001b[39;00m \u001b[43mvotableparse\u001b[49m\u001b[43m(\u001b[49m\u001b[38;5;28;43mself\u001b[39;49m\u001b[38;5;241;43m.\u001b[39;49m\u001b[43mexecute_stream\u001b[49m\u001b[43m(\u001b[49m\u001b[43mpost\u001b[49m\u001b[38;5;241;43m=\u001b[39;49m\u001b[43mpost\u001b[49m\u001b[43m)\u001b[49m\u001b[38;5;241;43m.\u001b[39;49m\u001b[43mread\u001b[49m\u001b[43m)\u001b[49m\n\u001b[1;32m    242\u001b[0m \u001b[38;5;28;01mexcept\u001b[39;00m \u001b[38;5;167;01mException\u001b[39;00m \u001b[38;5;28;01mas\u001b[39;00m e:\n\u001b[1;32m    243\u001b[0m     \u001b[38;5;28mself\u001b[39m\u001b[38;5;241m.\u001b[39mraise_if_error()\n",
      "File \u001b[0;32m/opt/lsst/software/stack/conda/miniconda3-py38_4.9.2/envs/lsst-scipipe-6.0.0/lib/python3.10/site-packages/astropy/utils/decorators.py:607\u001b[0m, in \u001b[0;36mdeprecated_renamed_argument.<locals>.decorator.<locals>.wrapper\u001b[0;34m(*args, **kwargs)\u001b[0m\n\u001b[1;32m    604\u001b[0m             msg \u001b[38;5;241m+\u001b[39m\u001b[38;5;241m=\u001b[39m \u001b[38;5;124mf\u001b[39m\u001b[38;5;124m\"\u001b[39m\u001b[38;5;130;01m\\n\u001b[39;00m\u001b[38;5;124m        Use \u001b[39m\u001b[38;5;132;01m{\u001b[39;00malternative\u001b[38;5;132;01m}\u001b[39;00m\u001b[38;5;124m instead.\u001b[39m\u001b[38;5;124m\"\u001b[39m\n\u001b[1;32m    605\u001b[0m         warnings\u001b[38;5;241m.\u001b[39mwarn(msg, warning_type, stacklevel\u001b[38;5;241m=\u001b[39m\u001b[38;5;241m2\u001b[39m)\n\u001b[0;32m--> 607\u001b[0m \u001b[38;5;28;01mreturn\u001b[39;00m \u001b[43mfunction\u001b[49m\u001b[43m(\u001b[49m\u001b[38;5;241;43m*\u001b[39;49m\u001b[43margs\u001b[49m\u001b[43m,\u001b[49m\u001b[43m \u001b[49m\u001b[38;5;241;43m*\u001b[39;49m\u001b[38;5;241;43m*\u001b[39;49m\u001b[43mkwargs\u001b[49m\u001b[43m)\u001b[49m\n",
      "File \u001b[0;32m/opt/lsst/software/stack/conda/miniconda3-py38_4.9.2/envs/lsst-scipipe-6.0.0/lib/python3.10/site-packages/astropy/io/votable/table.py:177\u001b[0m, in \u001b[0;36mparse\u001b[0;34m(source, columns, invalid, verify, chunk_size, table_number, table_id, filename, unit_format, datatype_mapping, _debug_python_based_parser)\u001b[0m\n\u001b[1;32m    172\u001b[0m     config[\u001b[38;5;124m\"\u001b[39m\u001b[38;5;124mfilename\u001b[39m\u001b[38;5;124m\"\u001b[39m] \u001b[38;5;241m=\u001b[39m source\n\u001b[1;32m    174\u001b[0m \u001b[38;5;28;01mwith\u001b[39;00m iterparser\u001b[38;5;241m.\u001b[39mget_xml_iterator(\n\u001b[1;32m    175\u001b[0m     source, _debug_python_based_parser\u001b[38;5;241m=\u001b[39m_debug_python_based_parser\n\u001b[1;32m    176\u001b[0m ) \u001b[38;5;28;01mas\u001b[39;00m iterator:\n\u001b[0;32m--> 177\u001b[0m     \u001b[38;5;28;01mreturn\u001b[39;00m \u001b[43mtree\u001b[49m\u001b[38;5;241;43m.\u001b[39;49m\u001b[43mVOTableFile\u001b[49m\u001b[43m(\u001b[49m\u001b[43mconfig\u001b[49m\u001b[38;5;241;43m=\u001b[39;49m\u001b[43mconfig\u001b[49m\u001b[43m,\u001b[49m\u001b[43m \u001b[49m\u001b[43mpos\u001b[49m\u001b[38;5;241;43m=\u001b[39;49m\u001b[43m(\u001b[49m\u001b[38;5;241;43m1\u001b[39;49m\u001b[43m,\u001b[49m\u001b[43m \u001b[49m\u001b[38;5;241;43m1\u001b[39;49m\u001b[43m)\u001b[49m\u001b[43m)\u001b[49m\u001b[38;5;241;43m.\u001b[39;49m\u001b[43mparse\u001b[49m\u001b[43m(\u001b[49m\u001b[43miterator\u001b[49m\u001b[43m,\u001b[49m\u001b[43m \u001b[49m\u001b[43mconfig\u001b[49m\u001b[43m)\u001b[49m\n",
      "File \u001b[0;32m/opt/lsst/software/stack/conda/miniconda3-py38_4.9.2/envs/lsst-scipipe-6.0.0/lib/python3.10/site-packages/astropy/io/votable/tree.py:3897\u001b[0m, in \u001b[0;36mVOTableFile.parse\u001b[0;34m(self, iterator, config)\u001b[0m\n\u001b[1;32m   3895\u001b[0m \u001b[38;5;28;01mfor\u001b[39;00m start, tag, data, pos \u001b[38;5;129;01min\u001b[39;00m iterator:\n\u001b[1;32m   3896\u001b[0m     \u001b[38;5;28;01mif\u001b[39;00m start:\n\u001b[0;32m-> 3897\u001b[0m         \u001b[43mtag_mapping\u001b[49m\u001b[38;5;241;43m.\u001b[39;49m\u001b[43mget\u001b[49m\u001b[43m(\u001b[49m\u001b[43mtag\u001b[49m\u001b[43m,\u001b[49m\u001b[43m \u001b[49m\u001b[38;5;28;43mself\u001b[39;49m\u001b[38;5;241;43m.\u001b[39;49m\u001b[43m_add_unknown_tag\u001b[49m\u001b[43m)\u001b[49m\u001b[43m(\u001b[49m\n\u001b[1;32m   3898\u001b[0m \u001b[43m            \u001b[49m\u001b[43miterator\u001b[49m\u001b[43m,\u001b[49m\u001b[43m \u001b[49m\u001b[43mtag\u001b[49m\u001b[43m,\u001b[49m\u001b[43m \u001b[49m\u001b[43mdata\u001b[49m\u001b[43m,\u001b[49m\u001b[43m \u001b[49m\u001b[43mconfig\u001b[49m\u001b[43m,\u001b[49m\u001b[43m \u001b[49m\u001b[43mpos\u001b[49m\n\u001b[1;32m   3899\u001b[0m \u001b[43m        \u001b[49m\u001b[43m)\u001b[49m\n\u001b[1;32m   3900\u001b[0m     \u001b[38;5;28;01melif\u001b[39;00m tag \u001b[38;5;241m==\u001b[39m \u001b[38;5;124m\"\u001b[39m\u001b[38;5;124mDESCRIPTION\u001b[39m\u001b[38;5;124m\"\u001b[39m:\n\u001b[1;32m   3901\u001b[0m         \u001b[38;5;28;01mif\u001b[39;00m \u001b[38;5;28mself\u001b[39m\u001b[38;5;241m.\u001b[39mdescription \u001b[38;5;129;01mis\u001b[39;00m \u001b[38;5;129;01mnot\u001b[39;00m \u001b[38;5;28;01mNone\u001b[39;00m:\n",
      "File \u001b[0;32m/opt/lsst/software/stack/conda/miniconda3-py38_4.9.2/envs/lsst-scipipe-6.0.0/lib/python3.10/site-packages/astropy/io/votable/tree.py:3777\u001b[0m, in \u001b[0;36mVOTableFile._add_resource\u001b[0;34m(self, iterator, tag, data, config, pos)\u001b[0m\n\u001b[1;32m   3775\u001b[0m resource \u001b[38;5;241m=\u001b[39m Resource(config\u001b[38;5;241m=\u001b[39mconfig, pos\u001b[38;5;241m=\u001b[39mpos, \u001b[38;5;241m*\u001b[39m\u001b[38;5;241m*\u001b[39mdata)\n\u001b[1;32m   3776\u001b[0m \u001b[38;5;28mself\u001b[39m\u001b[38;5;241m.\u001b[39mresources\u001b[38;5;241m.\u001b[39mappend(resource)\n\u001b[0;32m-> 3777\u001b[0m \u001b[43mresource\u001b[49m\u001b[38;5;241;43m.\u001b[39;49m\u001b[43mparse\u001b[49m\u001b[43m(\u001b[49m\u001b[38;5;28;43mself\u001b[39;49m\u001b[43m,\u001b[49m\u001b[43m \u001b[49m\u001b[43miterator\u001b[49m\u001b[43m,\u001b[49m\u001b[43m \u001b[49m\u001b[43mconfig\u001b[49m\u001b[43m)\u001b[49m\n",
      "File \u001b[0;32m/opt/lsst/software/stack/conda/miniconda3-py38_4.9.2/envs/lsst-scipipe-6.0.0/lib/python3.10/site-packages/astropy/io/votable/tree.py:3575\u001b[0m, in \u001b[0;36mResource.parse\u001b[0;34m(self, votable, iterator, config)\u001b[0m\n\u001b[1;32m   3573\u001b[0m \u001b[38;5;28;01mfor\u001b[39;00m start, tag, data, pos \u001b[38;5;129;01min\u001b[39;00m iterator:\n\u001b[1;32m   3574\u001b[0m     \u001b[38;5;28;01mif\u001b[39;00m start:\n\u001b[0;32m-> 3575\u001b[0m         \u001b[43mtag_mapping\u001b[49m\u001b[38;5;241;43m.\u001b[39;49m\u001b[43mget\u001b[49m\u001b[43m(\u001b[49m\u001b[43mtag\u001b[49m\u001b[43m,\u001b[49m\u001b[43m \u001b[49m\u001b[38;5;28;43mself\u001b[39;49m\u001b[38;5;241;43m.\u001b[39;49m\u001b[43m_add_unknown_tag\u001b[49m\u001b[43m)\u001b[49m\u001b[43m(\u001b[49m\n\u001b[1;32m   3576\u001b[0m \u001b[43m            \u001b[49m\u001b[43miterator\u001b[49m\u001b[43m,\u001b[49m\u001b[43m \u001b[49m\u001b[43mtag\u001b[49m\u001b[43m,\u001b[49m\u001b[43m \u001b[49m\u001b[43mdata\u001b[49m\u001b[43m,\u001b[49m\u001b[43m \u001b[49m\u001b[43mconfig\u001b[49m\u001b[43m,\u001b[49m\u001b[43m \u001b[49m\u001b[43mpos\u001b[49m\n\u001b[1;32m   3577\u001b[0m \u001b[43m        \u001b[49m\u001b[43m)\u001b[49m\n\u001b[1;32m   3578\u001b[0m     \u001b[38;5;28;01melif\u001b[39;00m tag \u001b[38;5;241m==\u001b[39m \u001b[38;5;124m\"\u001b[39m\u001b[38;5;124mDESCRIPTION\u001b[39m\u001b[38;5;124m\"\u001b[39m:\n\u001b[1;32m   3579\u001b[0m         \u001b[38;5;28;01mif\u001b[39;00m \u001b[38;5;28mself\u001b[39m\u001b[38;5;241m.\u001b[39mdescription \u001b[38;5;129;01mis\u001b[39;00m \u001b[38;5;129;01mnot\u001b[39;00m \u001b[38;5;28;01mNone\u001b[39;00m:\n",
      "File \u001b[0;32m/opt/lsst/software/stack/conda/miniconda3-py38_4.9.2/envs/lsst-scipipe-6.0.0/lib/python3.10/site-packages/astropy/io/votable/tree.py:3521\u001b[0m, in \u001b[0;36mResource._add_table\u001b[0;34m(self, iterator, tag, data, config, pos)\u001b[0m\n\u001b[1;32m   3519\u001b[0m table \u001b[38;5;241m=\u001b[39m Table(\u001b[38;5;28mself\u001b[39m\u001b[38;5;241m.\u001b[39m_votable, config\u001b[38;5;241m=\u001b[39mconfig, pos\u001b[38;5;241m=\u001b[39mpos, \u001b[38;5;241m*\u001b[39m\u001b[38;5;241m*\u001b[39mdata)\n\u001b[1;32m   3520\u001b[0m \u001b[38;5;28mself\u001b[39m\u001b[38;5;241m.\u001b[39mtables\u001b[38;5;241m.\u001b[39mappend(table)\n\u001b[0;32m-> 3521\u001b[0m \u001b[43mtable\u001b[49m\u001b[38;5;241;43m.\u001b[39;49m\u001b[43mparse\u001b[49m\u001b[43m(\u001b[49m\u001b[43miterator\u001b[49m\u001b[43m,\u001b[49m\u001b[43m \u001b[49m\u001b[43mconfig\u001b[49m\u001b[43m)\u001b[49m\n",
      "File \u001b[0;32m/opt/lsst/software/stack/conda/miniconda3-py38_4.9.2/envs/lsst-scipipe-6.0.0/lib/python3.10/site-packages/astropy/io/votable/tree.py:2743\u001b[0m, in \u001b[0;36mTable.parse\u001b[0;34m(self, iterator, config)\u001b[0m\n\u001b[1;32m   2741\u001b[0m \u001b[38;5;28;01mif\u001b[39;00m tag \u001b[38;5;241m==\u001b[39m \u001b[38;5;124m\"\u001b[39m\u001b[38;5;124mTABLEDATA\u001b[39m\u001b[38;5;124m\"\u001b[39m:\n\u001b[1;32m   2742\u001b[0m     warn_unknown_attrs(\u001b[38;5;124m\"\u001b[39m\u001b[38;5;124mTABLEDATA\u001b[39m\u001b[38;5;124m\"\u001b[39m, data\u001b[38;5;241m.\u001b[39mkeys(), config, pos)\n\u001b[0;32m-> 2743\u001b[0m     \u001b[38;5;28mself\u001b[39m\u001b[38;5;241m.\u001b[39marray \u001b[38;5;241m=\u001b[39m \u001b[38;5;28;43mself\u001b[39;49m\u001b[38;5;241;43m.\u001b[39;49m\u001b[43m_parse_tabledata\u001b[49m\u001b[43m(\u001b[49m\n\u001b[1;32m   2744\u001b[0m \u001b[43m        \u001b[49m\u001b[43miterator\u001b[49m\u001b[43m,\u001b[49m\u001b[43m \u001b[49m\u001b[43mcolnumbers\u001b[49m\u001b[43m,\u001b[49m\u001b[43m \u001b[49m\u001b[43mfields\u001b[49m\u001b[43m,\u001b[49m\u001b[43m \u001b[49m\u001b[43mconfig\u001b[49m\n\u001b[1;32m   2745\u001b[0m \u001b[43m    \u001b[49m\u001b[43m)\u001b[49m\n\u001b[1;32m   2746\u001b[0m     \u001b[38;5;28;01mbreak\u001b[39;00m\n\u001b[1;32m   2747\u001b[0m \u001b[38;5;28;01melif\u001b[39;00m tag \u001b[38;5;241m==\u001b[39m \u001b[38;5;124m\"\u001b[39m\u001b[38;5;124mBINARY\u001b[39m\u001b[38;5;124m\"\u001b[39m:\n",
      "File \u001b[0;32m/opt/lsst/software/stack/conda/miniconda3-py38_4.9.2/envs/lsst-scipipe-6.0.0/lib/python3.10/site-packages/astropy/io/votable/tree.py:2821\u001b[0m, in \u001b[0;36mTable._parse_tabledata\u001b[0;34m(self, iterator, colnumbers, fields, config)\u001b[0m\n\u001b[1;32m   2819\u001b[0m \u001b[38;5;28;01mfor\u001b[39;00m start, tag, data, pos \u001b[38;5;129;01min\u001b[39;00m iterator:\n\u001b[1;32m   2820\u001b[0m     \u001b[38;5;28;01mif\u001b[39;00m start:\n\u001b[0;32m-> 2821\u001b[0m         binary \u001b[38;5;241m=\u001b[39m \u001b[43mdata\u001b[49m\u001b[38;5;241;43m.\u001b[39;49m\u001b[43mget\u001b[49m\u001b[43m(\u001b[49m\u001b[38;5;124;43m\"\u001b[39;49m\u001b[38;5;124;43mencoding\u001b[39;49m\u001b[38;5;124;43m\"\u001b[39;49m\u001b[43m,\u001b[49m\u001b[43m \u001b[49m\u001b[38;5;28;43;01mNone\u001b[39;49;00m\u001b[43m)\u001b[49m \u001b[38;5;241m==\u001b[39m \u001b[38;5;124m\"\u001b[39m\u001b[38;5;124mbase64\u001b[39m\u001b[38;5;124m\"\u001b[39m\n\u001b[1;32m   2822\u001b[0m         warn_unknown_attrs(tag, data\u001b[38;5;241m.\u001b[39mkeys(), config, pos, [\u001b[38;5;124m\"\u001b[39m\u001b[38;5;124mencoding\u001b[39m\u001b[38;5;124m\"\u001b[39m])\n\u001b[1;32m   2823\u001b[0m     \u001b[38;5;28;01melse\u001b[39;00m:\n",
      "\u001b[0;31mKeyboardInterrupt\u001b[0m: "
     ]
    }
   ],
   "source": [
    "#nobj_to_plot = 10\n",
    "#pick_obj = df_mpc_sso[inner_belt].sample(nobj_to_plot)\n",
    "\n",
    "pick_obj_torb = []\n",
    "pick_obj_x = []\n",
    "pick_obj_y = []\n",
    "pick_obj_z = []\n",
    "\n",
    "for i in range(len(df_mpc_sso)):\n",
    "    src_cat_obj = get_obj_matched(df_mpc_sso.ssObjectId.values[i])\n",
    "    pick_obj_torb.append(src_cat_obj['midPointMjdTai'])\n",
    "    pick_obj_x.append(src_cat_obj['heliocentricX'])\n",
    "    pick_obj_y.append(src_cat_obj['heliocentricY'])\n",
    "    pick_obj_z.append(src_cat_obj['heliocentricZ'])\n"
   ]
  },
  {
   "cell_type": "code",
   "execution_count": 184,
   "id": "92e2f4cd-b57b-4a0c-9a0b-1af34ada75ea",
   "metadata": {
    "execution": {
     "iopub.execute_input": "2023-06-30T01:37:03.267120Z",
     "iopub.status.busy": "2023-06-30T01:37:03.266860Z",
     "iopub.status.idle": "2023-06-30T01:37:03.840344Z",
     "shell.execute_reply": "2023-06-30T01:37:03.839429Z",
     "shell.execute_reply.started": "2023-06-30T01:37:03.267100Z"
    },
    "tags": []
   },
   "outputs": [
    {
     "data": {
      "image/png": "[encoded data removed]",
      "text/plain": [
       "<Figure size 600x600 with 3 Axes>"
      ]
     },
     "metadata": {},
     "output_type": "display_data"
    }
   ],
   "source": [
    "xyz_orbit_plot_manyobjects(pick_obj_torb, pick_obj_x, pick_obj_y, pick_obj_z)"
   ]
  },
  {
   "cell_type": "code",
   "execution_count": null,
   "id": "94fd59bd-5468-4451-9fbd-9ed06c55f848",
   "metadata": {},
   "outputs": [],
   "source": []
  }
 ],
 "metadata": {
  "kernelspec": {
   "display_name": "LSST",
   "language": "python",
   "name": "lsst"
  },
  "language_info": {
   "codemirror_mode": {
    "name": "ipython",
    "version": 3
   },
   "file_extension": ".py",
   "mimetype": "text/x-python",
   "name": "python",
   "nbconvert_exporter": "python",
   "pygments_lexer": "ipython3",
   "version": "3.10.10"
  }
 },
 "nbformat": 4,
 "nbformat_minor": 5
}
