{
 "cells": [
  {
   "cell_type": "code",
   "execution_count": 1,
   "id": "4bdba42d-832b-4e43-a23b-cbcde2c45303",
   "metadata": {
    "execution": {
     "iopub.execute_input": "2023-06-05T21:49:27.167030Z",
     "iopub.status.busy": "2023-06-05T21:49:27.166762Z",
     "iopub.status.idle": "2023-06-05T21:49:30.745168Z",
     "shell.execute_reply": "2023-06-05T21:49:30.744063Z",
     "shell.execute_reply.started": "2023-06-05T21:49:27.167010Z"
    },
    "tags": []
   },
   "outputs": [],
   "source": [
    "import numpy as np\n",
    "import matplotlib.pyplot as plt\n",
    "from astropy.wcs import WCS\n",
    "from astropy.visualization import make_lupton_rgb\n",
    "from astropy.visualization import ZScaleInterval, LinearStretch, ImageNormalize\n",
    "import astropy.units as u\n",
    "import gc\n",
    "import uuid\n",
    "import glob\n",
    "from PIL import Image\n",
    "\n",
    "import lsst.afw.display as afwDisplay\n",
    "from lsst.afw.image import MultibandExposure\n",
    "from lsst.daf.butler import Butler\n",
    "import lsst.geom as geom\n",
    "from lsst.afw.image import Exposure, ExposureF\n",
    "from lsst.pipe.tasks.registerImage import RegisterConfig, RegisterTask\n",
    "\n",
    "# PyVO packages\n",
    "import pyvo\n",
    "from pyvo.dal.adhoc import DatalinkResults, SodaQuery\n",
    "\n",
    "from lsst.rsp import get_tap_service"
   ]
  },
  {
   "cell_type": "code",
   "execution_count": 2,
   "id": "de678f9a-7fb6-4569-add7-fc821d3ea054",
   "metadata": {
    "execution": {
     "iopub.execute_input": "2023-06-05T21:49:30.750032Z",
     "iopub.status.busy": "2023-06-05T21:49:30.749759Z",
     "iopub.status.idle": "2023-06-05T21:49:30.798635Z",
     "shell.execute_reply": "2023-06-05T21:49:30.797499Z",
     "shell.execute_reply.started": "2023-06-05T21:49:30.750008Z"
    },
    "tags": []
   },
   "outputs": [],
   "source": [
    "afwDisplay.setDefaultBackend('matplotlib')\n",
    "plt.style.use('tableau-colorblind10')\n",
    "%matplotlib inline"
   ]
  },
  {
   "cell_type": "code",
   "execution_count": 3,
   "id": "5e810a24-59cc-41dd-9ba0-cc1a75c6832f",
   "metadata": {
    "execution": {
     "iopub.execute_input": "2023-06-05T21:49:30.802783Z",
     "iopub.status.busy": "2023-06-05T21:49:30.802546Z",
     "iopub.status.idle": "2023-06-05T21:49:30.887662Z",
     "shell.execute_reply": "2023-06-05T21:49:30.886687Z",
     "shell.execute_reply.started": "2023-06-05T21:49:30.802761Z"
    },
    "tags": []
   },
   "outputs": [],
   "source": [
    "service = get_tap_service(\"tap\")"
   ]
  },
  {
   "cell_type": "code",
   "execution_count": 4,
   "id": "b3901e5e-42db-4fa1-b568-9adb8b64da26",
   "metadata": {
    "execution": {
     "iopub.execute_input": "2023-06-05T21:49:30.891895Z",
     "iopub.status.busy": "2023-06-05T21:49:30.891633Z",
     "iopub.status.idle": "2023-06-05T21:49:34.409775Z",
     "shell.execute_reply": "2023-06-05T21:49:34.408594Z",
     "shell.execute_reply.started": "2023-06-05T21:49:30.891872Z"
    },
    "tags": []
   },
   "outputs": [],
   "source": [
    "butler = Butler('dp02', collections='2.2i/runs/DP0.2')"
   ]
  },
  {
   "cell_type": "code",
   "execution_count": 5,
   "id": "aafd9d0c-3a02-4bb8-bcd7-854bc461b077",
   "metadata": {
    "execution": {
     "iopub.execute_input": "2023-06-05T21:49:34.414482Z",
     "iopub.status.busy": "2023-06-05T21:49:34.414144Z",
     "iopub.status.idle": "2023-06-05T21:49:34.420847Z",
     "shell.execute_reply": "2023-06-05T21:49:34.419312Z",
     "shell.execute_reply.started": "2023-06-05T21:49:34.414451Z"
    },
    "tags": []
   },
   "outputs": [],
   "source": [
    "plt.style.use('tableau-colorblind10')\n",
    "\n",
    "plot_filter_labels = ['u', 'g', 'r', 'i', 'z', 'y']\n",
    "plot_filter_colors = {'u': '#56b4e9', 'g': '#008060', 'r': '#ff4000',\n",
    "                      'i': '#850000', 'z': '#6600cc', 'y': '#000000'}\n",
    "plot_filter_symbols = {'u': 'o', 'g': '^', 'r': 'v', 'i': 's', 'z': '*', 'y': 'p'}"
   ]
  },
  {
   "cell_type": "code",
   "execution_count": 6,
   "id": "afe88a44-85c1-4bd8-ac2b-4bb163aa2148",
   "metadata": {
    "execution": {
     "iopub.execute_input": "2023-06-05T21:49:34.425234Z",
     "iopub.status.busy": "2023-06-05T21:49:34.424941Z",
     "iopub.status.idle": "2023-06-05T21:49:34.439102Z",
     "shell.execute_reply": "2023-06-05T21:49:34.437742Z",
     "shell.execute_reply.started": "2023-06-05T21:49:34.425211Z"
    },
    "tags": []
   },
   "outputs": [
    {
     "name": "stdout",
     "output_type": "stream",
     "text": [
      "1250953961339360185\n"
     ]
    }
   ],
   "source": [
    "DiaObjID = 1250953961339360185\n",
    "print(DiaObjID)"
   ]
  },
  {
   "cell_type": "code",
   "execution_count": 7,
   "id": "f9fa85fc-40d7-42b9-931b-b2105a5641a1",
   "metadata": {
    "execution": {
     "iopub.execute_input": "2023-06-05T21:49:34.440763Z",
     "iopub.status.busy": "2023-06-05T21:49:34.440446Z",
     "iopub.status.idle": "2023-06-05T21:49:34.666271Z",
     "shell.execute_reply": "2023-06-05T21:49:34.665461Z",
     "shell.execute_reply.started": "2023-06-05T21:49:34.440741Z"
    },
    "tags": []
   },
   "outputs": [],
   "source": [
    "results = service.search(\"SELECT fsodo.coord_ra, fsodo.coord_dec, \"\\\n",
    "                         \"fsodo.diaObjectId, fsodo.ccdVisitId, fsodo.band, \"\\\n",
    "                         \"fsodo.psfDiffFlux, fsodo.psfDiffFluxErr, \"\\\n",
    "                         \"fsodo.psfFlux, fsodo.psfFluxErr, \"\\\n",
    "                         \"cv.expMidptMJD \"\\\n",
    "                         \"FROM dp02_dc2_catalogs.ForcedSourceOnDiaObject as fsodo \"\\\n",
    "                         \"JOIN dp02_dc2_catalogs.CcdVisit as cv ON cv.ccdVisitId = fsodo.ccdVisitId \"\\\n",
    "                         \"WHERE fsodo.diaObjectId = \"+str(DiaObjID))"
   ]
  },
  {
   "cell_type": "code",
   "execution_count": 8,
   "id": "38777bff-c191-4151-982a-f32ab4ec484d",
   "metadata": {
    "execution": {
     "iopub.execute_input": "2023-06-05T21:49:34.667750Z",
     "iopub.status.busy": "2023-06-05T21:49:34.667249Z",
     "iopub.status.idle": "2023-06-05T21:49:34.672925Z",
     "shell.execute_reply": "2023-06-05T21:49:34.672216Z",
     "shell.execute_reply.started": "2023-06-05T21:49:34.667726Z"
    },
    "tags": []
   },
   "outputs": [],
   "source": [
    "forcedSrc = results.to_table()\n",
    "forcedSrc\n",
    "del results"
   ]
  },
  {
   "cell_type": "code",
   "execution_count": 9,
   "id": "b69d84fc-cf94-4ba4-95b0-0e0ae66e855a",
   "metadata": {
    "execution": {
     "iopub.execute_input": "2023-06-05T21:49:34.674155Z",
     "iopub.status.busy": "2023-06-05T21:49:34.673849Z",
     "iopub.status.idle": "2023-06-05T21:49:34.701004Z",
     "shell.execute_reply": "2023-06-05T21:49:34.699389Z",
     "shell.execute_reply.started": "2023-06-05T21:49:34.674136Z"
    },
    "tags": []
   },
   "outputs": [
    {
     "data": {
      "text/html": [
       "<div><i>Table length=470</i>\n",
       "<table id=\"table140695932242144\" class=\"table-striped table-bordered table-condensed\">\n",
       "<thead><tr><th>coord_ra</th><th>coord_dec</th><th>diaObjectId</th><th>ccdVisitId</th><th>band</th><th>psfDiffFlux</th><th>psfDiffFluxErr</th><th>psfFlux</th><th>psfFluxErr</th><th>expMidptMJD</th></tr></thead>\n",
       "<thead><tr><th>deg</th><th>deg</th><th></th><th></th><th></th><th>nJy</th><th>nJy</th><th>nJy</th><th>nJy</th><th>d</th></tr></thead>\n",
       "<thead><tr><th>float64</th><th>float64</th><th>int64</th><th>int64</th><th>object</th><th>float64</th><th>float64</th><th>float64</th><th>float64</th><th>float64</th></tr></thead>\n",
       "<tr><td>60.2901401</td><td>-44.142051</td><td>1250953961339360185</td><td>306218162</td><td>y</td><td>-1860.8964904</td><td>1756.6612246</td><td>-2182.6809799</td><td>1748.0130297</td><td>60009.0613732</td></tr>\n",
       "<tr><td>60.2901401</td><td>-44.142051</td><td>1250953961339360185</td><td>944022184</td><td>g</td><td>3466.5007161</td><td>107.5929099</td><td>3434.206355</td><td>105.083586</td><td>60962.1845452</td></tr>\n",
       "<tr><td>60.2901401</td><td>-44.142051</td><td>1250953961339360185</td><td>677658160</td><td>u</td><td>142.8869939</td><td>173.2933283</td><td>135.5984978</td><td>178.6943917</td><td>60585.2000022</td></tr>\n",
       "<tr><td>60.2901401</td><td>-44.142051</td><td>1250953961339360185</td><td>201707083</td><td>r</td><td>-487.1626094</td><td>172.1758637</td><td>-362.5391704</td><td>171.8586311</td><td>59853.2530172</td></tr>\n",
       "<tr><td>60.2901401</td><td>-44.142051</td><td>1250953961339360185</td><td>668152065</td><td>y</td><td>-1589.8833975</td><td>1174.136922</td><td>-1631.4208407</td><td>1200.0504808</td><td>60571.2881552</td></tr>\n",
       "<tr><td>60.2901401</td><td>-44.142051</td><td>1250953961339360185</td><td>969979156</td><td>r</td><td>58.9247711</td><td>220.5372728</td><td>176.8572168</td><td>220.0953768</td><td>61007.1773932</td></tr>\n",
       "<tr><td>60.2901401</td><td>-44.142051</td><td>1250953961339360185</td><td>1038222133</td><td>r</td><td>6.5545737</td><td>127.9273197</td><td>130.2734536</td><td>127.191395</td><td>61107.0516742</td></tr>\n",
       "<tr><td>60.2901401</td><td>-44.142051</td><td>1250953961339360185</td><td>430217116</td><td>g</td><td>-10.9406254</td><td>82.5641558</td><td>-32.9963024</td><td>80.2975946</td><td>60196.3131982</td></tr>\n",
       "<tr><td>60.2901401</td><td>-44.142051</td><td>1250953961339360185</td><td>1006036157</td><td>r</td><td>-482.4227379</td><td>266.0833471</td><td>-375.2594084</td><td>266.3197877</td><td>61066.0813232</td></tr>\n",
       "<tr><td>...</td><td>...</td><td>...</td><td>...</td><td>...</td><td>...</td><td>...</td><td>...</td><td>...</td><td>...</td></tr>\n",
       "<tr><td>60.2901401</td><td>-44.142051</td><td>1250953961339360185</td><td>923152005</td><td>r</td><td>7103.4290506</td><td>180.8609696</td><td>7218.4914468</td><td>179.9017927</td><td>60936.2576692</td></tr>\n",
       "<tr><td>60.2901401</td><td>-44.142051</td><td>1250953961339360185</td><td>709942184</td><td>y</td><td>-1876.7913536</td><td>1601.3183111</td><td>-1946.7723373</td><td>1594.6381361</td><td>60628.0622472</td></tr>\n",
       "<tr><td>60.2901401</td><td>-44.142051</td><td>1250953961339360185</td><td>976301154</td><td>i</td><td>270.8745611</td><td>297.2276957</td><td>251.179866</td><td>295.4513343</td><td>61017.2441322</td></tr>\n",
       "<tr><td>60.2901401</td><td>-44.142051</td><td>1250953961339360185</td><td>752980145</td><td>i</td><td>196.513204</td><td>310.6522486</td><td>164.7819879</td><td>314.048566</td><td>60692.1816962</td></tr>\n",
       "<tr><td>60.2901401</td><td>-44.142051</td><td>1250953961339360185</td><td>193807117</td><td>r</td><td>19.4659759</td><td>109.2909838</td><td>137.2008067</td><td>111.1047794</td><td>59840.2250872</td></tr>\n",
       "<tr><td>60.2901401</td><td>-44.142051</td><td>1250953961339360185</td><td>250828177</td><td>y</td><td>804.3559639</td><td>1104.6483704</td><td>716.5440461</td><td>1136.9737032</td><td>59927.0390592</td></tr>\n",
       "<tr><td>60.2901401</td><td>-44.142051</td><td>1250953961339360185</td><td>645623003</td><td>i</td><td>59.9495215</td><td>337.012007</td><td>32.1590106</td><td>335.6347034</td><td>60539.3659342</td></tr>\n",
       "<tr><td>60.2901401</td><td>-44.142051</td><td>1250953961339360185</td><td>1168312035</td><td>u</td><td>-95.7730182</td><td>193.6738656</td><td>-114.0345975</td><td>186.7714788</td><td>61297.2883952</td></tr>\n",
       "<tr><td>60.2901401</td><td>-44.142051</td><td>1250953961339360185</td><td>771638039</td><td>y</td><td>568.8565319</td><td>1085.776088</td><td>449.9361972</td><td>1123.3496363</td><td>60717.0696022</td></tr>\n",
       "<tr><td>60.2901401</td><td>-44.142051</td><td>1250953961339360185</td><td>484273114</td><td>g</td><td>-71.4926205</td><td>87.3278356</td><td>-109.7233278</td><td>85.0865007</td><td>60286.0818192</td></tr>\n",
       "</table></div>"
      ],
      "text/plain": [
       "<Table length=470>\n",
       " coord_ra  coord_dec      diaObjectId     ...  psfFluxErr   expMidptMJD \n",
       "   deg        deg                         ...     nJy            d      \n",
       " float64    float64          int64        ...   float64       float64   \n",
       "---------- ---------- ------------------- ... ------------ -------------\n",
       "60.2901401 -44.142051 1250953961339360185 ... 1748.0130297 60009.0613732\n",
       "60.2901401 -44.142051 1250953961339360185 ...   105.083586 60962.1845452\n",
       "60.2901401 -44.142051 1250953961339360185 ...  178.6943917 60585.2000022\n",
       "60.2901401 -44.142051 1250953961339360185 ...  171.8586311 59853.2530172\n",
       "60.2901401 -44.142051 1250953961339360185 ... 1200.0504808 60571.2881552\n",
       "60.2901401 -44.142051 1250953961339360185 ...  220.0953768 61007.1773932\n",
       "60.2901401 -44.142051 1250953961339360185 ...   127.191395 61107.0516742\n",
       "60.2901401 -44.142051 1250953961339360185 ...   80.2975946 60196.3131982\n",
       "60.2901401 -44.142051 1250953961339360185 ...  266.3197877 61066.0813232\n",
       "       ...        ...                 ... ...          ...           ...\n",
       "60.2901401 -44.142051 1250953961339360185 ...  179.9017927 60936.2576692\n",
       "60.2901401 -44.142051 1250953961339360185 ... 1594.6381361 60628.0622472\n",
       "60.2901401 -44.142051 1250953961339360185 ...  295.4513343 61017.2441322\n",
       "60.2901401 -44.142051 1250953961339360185 ...   314.048566 60692.1816962\n",
       "60.2901401 -44.142051 1250953961339360185 ...  111.1047794 59840.2250872\n",
       "60.2901401 -44.142051 1250953961339360185 ... 1136.9737032 59927.0390592\n",
       "60.2901401 -44.142051 1250953961339360185 ...  335.6347034 60539.3659342\n",
       "60.2901401 -44.142051 1250953961339360185 ...  186.7714788 61297.2883952\n",
       "60.2901401 -44.142051 1250953961339360185 ... 1123.3496363 60717.0696022\n",
       "60.2901401 -44.142051 1250953961339360185 ...   85.0865007 60286.0818192"
      ]
     },
     "execution_count": 9,
     "metadata": {},
     "output_type": "execute_result"
    }
   ],
   "source": [
    "forcedSrc"
   ]
  },
  {
   "cell_type": "code",
   "execution_count": 10,
   "id": "80019b9b-b67b-4e8f-bad2-d5bee6b33e9a",
   "metadata": {
    "execution": {
     "iopub.execute_input": "2023-06-05T21:49:34.703524Z",
     "iopub.status.busy": "2023-06-05T21:49:34.702993Z",
     "iopub.status.idle": "2023-06-05T21:49:34.884053Z",
     "shell.execute_reply": "2023-06-05T21:49:34.883018Z",
     "shell.execute_reply.started": "2023-06-05T21:49:34.703488Z"
    },
    "tags": []
   },
   "outputs": [],
   "source": [
    "results = service.search(\"SELECT ra, decl, diaObjectId, diaSourceId, psFlux, psFluxErr, \"\n",
    "                         \"filterName, midPointTai, SNR, ccdVisitId, \"\n",
    "                         \"scisql_nanojanskyToAbMag(psFlux) AS psAbMag \"\n",
    "                         \"FROM dp02_dc2_catalogs.DiaSource \"\n",
    "                         \"WHERE diaObjectId = \"+str(DiaObjID))\n",
    "diaSrc = results.to_table()\n",
    "del results"
   ]
  },
  {
   "cell_type": "code",
   "execution_count": 11,
   "id": "096a7ee5-bc03-4e53-8f2a-e101e6c6f261",
   "metadata": {
    "execution": {
     "iopub.execute_input": "2023-06-05T21:49:34.885802Z",
     "iopub.status.busy": "2023-06-05T21:49:34.885423Z",
     "iopub.status.idle": "2023-06-05T21:49:34.900346Z",
     "shell.execute_reply": "2023-06-05T21:49:34.899409Z",
     "shell.execute_reply.started": "2023-06-05T21:49:34.885778Z"
    },
    "tags": []
   },
   "outputs": [
    {
     "data": {
      "text/html": [
       "<div><i>Table length=27</i>\n",
       "<table id=\"table140695930696656\" class=\"table-striped table-bordered table-condensed\">\n",
       "<thead><tr><th>ra</th><th>decl</th><th>diaObjectId</th><th>diaSourceId</th><th>psFlux</th><th>psFluxErr</th><th>filterName</th><th>midPointTai</th><th>SNR</th><th>ccdVisitId</th><th>psAbMag</th></tr></thead>\n",
       "<thead><tr><th>deg</th><th>deg</th><th></th><th></th><th>nJy</th><th>nJy</th><th></th><th></th><th></th><th></th><th></th></tr></thead>\n",
       "<thead><tr><th>float64</th><th>float64</th><th>int64</th><th>int64</th><th>float64</th><th>float64</th><th>object</th><th>float64</th><th>float64</th><th>int64</th><th>float64</th></tr></thead>\n",
       "<tr><td>60.2901125</td><td>-44.1420786</td><td>1250953961339360185</td><td>501440721752948798</td><td>10728.1910979</td><td>298.7996759</td><td>i</td><td>60949.2700942</td><td>13.0800548</td><td>934006128</td><td>21.323683747840736</td></tr>\n",
       "<tr><td>60.2902053</td><td>-44.1420999</td><td>1250953961339360185</td><td>519058666863722611</td><td>1872.4150715</td><td>249.4993408</td><td>i</td><td>61003.0663112</td><td>3.4689005</td><td>966822108</td><td>23.218994679485633</td></tr>\n",
       "<tr><td>60.290094</td><td>-44.1420676</td><td>1250953961339360185</td><td>519058126771585128</td><td>2118.1968895</td><td>255.2405367</td><td>i</td><td>61003.0658612</td><td>3.0083032</td><td>966821102</td><td>23.08508418511191</td></tr>\n",
       "<tr><td>60.2901202</td><td>-44.1420255</td><td>1250953961339360185</td><td>501445526210740341</td><td>10984.0687235</td><td>305.5120371</td><td>i</td><td>60949.2745512</td><td>15.3669647</td><td>934015077</td><td>21.298091896332963</td></tr>\n",
       "<tr><td>60.2900628</td><td>-44.1420546</td><td>1250953961339360185</td><td>519040893215310007</td><td>2299.9806841</td><td>254.1940593</td><td>i</td><td>61003.0514492</td><td>1.8747777</td><td>966789002</td><td>22.995689528242984</td></tr>\n",
       "<tr><td>60.2901395</td><td>-44.1420251</td><td>1250953961339360185</td><td>506834128545513606</td><td>3306.9228607</td><td>100.3718771</td><td>g</td><td>60962.1981072</td><td>13.7650611</td><td>944052131</td><td>22.60143983896541</td></tr>\n",
       "<tr><td>60.2901823</td><td>-44.1420645</td><td>1250953961339360185</td><td>506816399457386594</td><td>3275.3988351</td><td>106.0072236</td><td>g</td><td>60962.1831932</td><td>14.0158793</td><td>944019108</td><td>22.61183952441946</td></tr>\n",
       "<tr><td>60.290121</td><td>-44.1420711</td><td>1250953961339360185</td><td>506932912256450747</td><td>3265.3097855</td><td>108.5430791</td><td>g</td><td>60962.2831282</td><td>9.5723258</td><td>944236130</td><td>22.6151890254431</td></tr>\n",
       "<tr><td>60.2901308</td><td>-44.1420395</td><td>1250953961339360185</td><td>506818050872311894</td><td>3458.2836048</td><td>107.5550038</td><td>g</td><td>60962.1845452</td><td>13.6656823</td><td>944022184</td><td>22.55284848561562</td></tr>\n",
       "<tr><td>...</td><td>...</td><td>...</td><td>...</td><td>...</td><td>...</td><td>...</td><td>...</td><td>...</td><td>...</td><td>...</td></tr>\n",
       "<tr><td>60.2901173</td><td>-44.1420525</td><td>1250953961339360185</td><td>506494305364344945</td><td>6695.8139362</td><td>204.0531861</td><td>r</td><td>60961.2929622</td><td>13.4921221</td><td>943419161</td><td>21.83549155764016</td></tr>\n",
       "<tr><td>60.2901655</td><td>-44.1420519</td><td>1250953961339360185</td><td>506499055061303427</td><td>6551.6047091</td><td>200.843802</td><td>r</td><td>60961.2972402</td><td>13.2451689</td><td>943428008</td><td>21.859130784008684</td></tr>\n",
       "<tr><td>60.2901379</td><td>-44.1420605</td><td>1250953961339360185</td><td>495613458838978668</td><td>7093.6644401</td><td>180.8579783</td><td>r</td><td>60936.2576692</td><td>19.0271569</td><td>923152005</td><td>21.77282339829415</td></tr>\n",
       "<tr><td>60.2901612</td><td>-44.1420602</td><td>1250953961339360185</td><td>494089887910199453</td><td>5192.8726634</td><td>169.4388192</td><td>r</td><td>60933.2178682</td><td>13.4067232</td><td>920314133</td><td>22.111480816977</td></tr>\n",
       "<tr><td>60.2901592</td><td>-44.1420536</td><td>1250953961339360185</td><td>495590403454533735</td><td>7446.3189717</td><td>190.2356025</td><td>r</td><td>60936.2375362</td><td>18.3420693</td><td>923109061</td><td>21.72014591052971</td></tr>\n",
       "<tr><td>60.290149</td><td>-44.1420492</td><td>1250953961339360185</td><td>506102847012601976</td><td>7334.7463642</td><td>206.5334962</td><td>r</td><td>60960.3356422</td><td>11.8783828</td><td>942690013</td><td>21.736537248700643</td></tr>\n",
       "<tr><td>60.2901415</td><td>-44.1420286</td><td>1250953961339360185</td><td>506120074663297172</td><td>7558.1588554</td><td>215.0266627</td><td>r</td><td>60960.3506542</td><td>12.9954583</td><td>942722102</td><td>21.70395996108898</td></tr>\n",
       "<tr><td>60.2901138</td><td>-44.1420556</td><td>1250953961339360185</td><td>495590998307504250</td><td>7058.5614283</td><td>190.5386716</td><td>r</td><td>60936.2379842</td><td>16.3786583</td><td>923110169</td><td>21.778209503536164</td></tr>\n",
       "<tr><td>60.2901719</td><td>-44.1420564</td><td>1250953961339360185</td><td>505244403846086743</td><td>8127.0853503</td><td>383.6480063</td><td>i</td><td>60958.3646262</td><td>7.1918698</td><td>941091038</td><td>21.625162948203233</td></tr>\n",
       "<tr><td>60.2901723</td><td>-44.1420404</td><td>1250953961339360185</td><td>507665688437981381</td><td>6203.4245778</td><td>237.4306227</td><td>i</td><td>60964.1519322</td><td>8.9742105</td><td>945601032</td><td>21.918421234059444</td></tr>\n",
       "</table></div>"
      ],
      "text/plain": [
       "<Table length=27>\n",
       "    ra         decl        diaObjectId     ... ccdVisitId      psAbMag      \n",
       "   deg         deg                         ...                              \n",
       " float64     float64          int64        ...   int64         float64      \n",
       "---------- ----------- ------------------- ... ---------- ------------------\n",
       "60.2901125 -44.1420786 1250953961339360185 ...  934006128 21.323683747840736\n",
       "60.2902053 -44.1420999 1250953961339360185 ...  966822108 23.218994679485633\n",
       " 60.290094 -44.1420676 1250953961339360185 ...  966821102  23.08508418511191\n",
       "60.2901202 -44.1420255 1250953961339360185 ...  934015077 21.298091896332963\n",
       "60.2900628 -44.1420546 1250953961339360185 ...  966789002 22.995689528242984\n",
       "60.2901395 -44.1420251 1250953961339360185 ...  944052131  22.60143983896541\n",
       "60.2901823 -44.1420645 1250953961339360185 ...  944019108  22.61183952441946\n",
       " 60.290121 -44.1420711 1250953961339360185 ...  944236130   22.6151890254431\n",
       "60.2901308 -44.1420395 1250953961339360185 ...  944022184  22.55284848561562\n",
       "       ...         ...                 ... ...        ...                ...\n",
       "60.2901173 -44.1420525 1250953961339360185 ...  943419161  21.83549155764016\n",
       "60.2901655 -44.1420519 1250953961339360185 ...  943428008 21.859130784008684\n",
       "60.2901379 -44.1420605 1250953961339360185 ...  923152005  21.77282339829415\n",
       "60.2901612 -44.1420602 1250953961339360185 ...  920314133    22.111480816977\n",
       "60.2901592 -44.1420536 1250953961339360185 ...  923109061  21.72014591052971\n",
       " 60.290149 -44.1420492 1250953961339360185 ...  942690013 21.736537248700643\n",
       "60.2901415 -44.1420286 1250953961339360185 ...  942722102  21.70395996108898\n",
       "60.2901138 -44.1420556 1250953961339360185 ...  923110169 21.778209503536164\n",
       "60.2901719 -44.1420564 1250953961339360185 ...  941091038 21.625162948203233\n",
       "60.2901723 -44.1420404 1250953961339360185 ...  945601032 21.918421234059444"
      ]
     },
     "execution_count": 11,
     "metadata": {},
     "output_type": "execute_result"
    }
   ],
   "source": [
    "diaSrc"
   ]
  },
  {
   "cell_type": "code",
   "execution_count": 12,
   "id": "5e485f79-9117-41ba-bbf5-0f5845f1ff20",
   "metadata": {
    "execution": {
     "iopub.execute_input": "2023-06-05T21:49:34.901714Z",
     "iopub.status.busy": "2023-06-05T21:49:34.901461Z",
     "iopub.status.idle": "2023-06-05T21:49:34.917414Z",
     "shell.execute_reply": "2023-06-05T21:49:34.916359Z",
     "shell.execute_reply.started": "2023-06-05T21:49:34.901694Z"
    },
    "tags": []
   },
   "outputs": [],
   "source": [
    "forcedSrc['DiffSNR'] = abs(forcedSrc['psfDiffFlux']/forcedSrc['psfDiffFluxErr'])"
   ]
  },
  {
   "cell_type": "code",
   "execution_count": 13,
   "id": "e8558f6e-29ed-4b0e-a7ad-561c5043e9ff",
   "metadata": {
    "execution": {
     "iopub.execute_input": "2023-06-05T21:49:34.919000Z",
     "iopub.status.busy": "2023-06-05T21:49:34.918702Z",
     "iopub.status.idle": "2023-06-05T21:49:34.935302Z",
     "shell.execute_reply": "2023-06-05T21:49:34.934153Z",
     "shell.execute_reply.started": "2023-06-05T21:49:34.918971Z"
    },
    "tags": []
   },
   "outputs": [],
   "source": [
    "mjd_full_start = np.min(forcedSrc['expMidptMJD'])\n",
    "mjd_full_end = np.max(forcedSrc['expMidptMJD'])\n",
    "\n",
    "mjd_det_start = np.min(diaSrc['midPointTai'])\n",
    "mjd_det_end = np.max(diaSrc['midPointTai'])"
   ]
  },
  {
   "cell_type": "code",
   "execution_count": 14,
   "id": "9532062e-7aca-4596-a8d4-b921b5b698ec",
   "metadata": {
    "execution": {
     "iopub.execute_input": "2023-06-05T21:49:34.937162Z",
     "iopub.status.busy": "2023-06-05T21:49:34.936548Z",
     "iopub.status.idle": "2023-06-05T21:49:35.367857Z",
     "shell.execute_reply": "2023-06-05T21:49:35.366457Z",
     "shell.execute_reply.started": "2023-06-05T21:49:34.937134Z"
    },
    "tags": []
   },
   "outputs": [
    {
     "data": {
      "image/png": "[encoded data removed]",
      "text/plain": [
       "<Figure size 1200x400 with 2 Axes>"
      ]
     },
     "metadata": {},
     "output_type": "display_data"
    }
   ],
   "source": [
    "fig, ax = plt.subplots(1, 2, figsize=(12, 4), sharey=True, sharex=False)\n",
    "\n",
    "for f, filt in enumerate(plot_filter_labels):\n",
    "    fx = np.where(forcedSrc['band'] == filt)[0]\n",
    "    ax[0].plot(forcedSrc['expMidptMJD'][fx], forcedSrc['psfDiffFlux'][fx],\n",
    "               plot_filter_symbols[filt], ms=10, mew=2, mec=plot_filter_colors[filt],\n",
    "               alpha=0.5, color='none', label=filt)\n",
    "    del fx\n",
    "\n",
    "ax[0].set_xlabel('Modified Julian Date')\n",
    "ax[0].set_ylabel('Difference-Image Flux')\n",
    "ax[0].set_title('Forced Photometry (ForcedSourceOnDiaObject)')\n",
    "ax[0].set_xlim(mjd_full_start, mjd_full_end)\n",
    "ax[0].legend(loc='upper left')\n",
    "ax[0].axvspan(mjd_det_start, mjd_det_end, alpha=0.3, color='gray')\n",
    "\n",
    "for f, filt in enumerate(plot_filter_labels):\n",
    "    fx = np.where(diaSrc['filterName'] == filt)[0]\n",
    "    ax[1].plot(diaSrc['midPointTai'][fx], diaSrc['psFlux'][fx],\n",
    "               plot_filter_symbols[filt], ms=10, mew=0, color=plot_filter_colors[filt],\n",
    "               alpha=0.5, label=filt)\n",
    "    del fx\n",
    "\n",
    "ax[1].set_xlabel('Modified Julian Date')\n",
    "ax[1].set_title('SNR>5 Detections (DiaSource)')\n",
    "ax[1].set_xlim(mjd_full_start, mjd_full_end)\n",
    "ax[1].legend(loc='upper left')\n",
    "ax[1].axvspan(mjd_det_start, mjd_det_end, alpha=0.3, color='gray')\n",
    "plt.subplots_adjust(wspace=.0)\n",
    "\n",
    "plt.show()"
   ]
  },
  {
   "cell_type": "code",
   "execution_count": 15,
   "id": "ee3849f9-4ab0-426e-9b9d-652d4ab0971b",
   "metadata": {
    "execution": {
     "iopub.execute_input": "2023-06-05T21:49:35.369508Z",
     "iopub.status.busy": "2023-06-05T21:49:35.369193Z",
     "iopub.status.idle": "2023-06-05T21:49:35.380040Z",
     "shell.execute_reply": "2023-06-05T21:49:35.379205Z",
     "shell.execute_reply.started": "2023-06-05T21:49:35.369479Z"
    },
    "tags": []
   },
   "outputs": [],
   "source": [
    "def make_image_cutout(butler, tap_service, ra, dec, cutout_size=0.01, imtype=None, visit=None, detector=None, filename=None):\n",
    "    \"\"\"Make a cutout using the cutout tool\n",
    "   \n",
    "   Parameters\n",
    "    ----------\n",
    "    # cutout_size is in degrees\n",
    "    # i think we need to add option to request calexp vs deepcoadd\n",
    "   \n",
    "   Returns\n",
    "    -------\n",
    "    \n",
    "    \"\"\"\n",
    "\n",
    "    spherePoint = geom.SpherePoint(ra*geom.degrees, dec*geom.degrees)\n",
    "    registry = butler.registry\n",
    "    if imtype == 'calexp':\n",
    "        dataId = {'visit':visit, 'detector':detector}\n",
    "\n",
    "        # Need the UUID of the image for the cutout service \n",
    "        datasetRef = registry.findDataset('calexp', dataId)\n",
    "\n",
    "        calexp_uuid = datasetRef.id\n",
    "        assert isinstance(calexp_uuid, uuid.UUID)\n",
    "        f\"UUID for calexp: {calexp_uuid}\"\n",
    "\n",
    "        query = \"SELECT access_format, access_url, dataproduct_subtype, lsst_visit, lsst_detector, \" + \\\n",
    "            \"lsst_band, s_ra, s_dec FROM ivoa.ObsCore WHERE dataproduct_type = 'image' \" + \\\n",
    "            \"AND obs_collection = 'LSST.DP02' \" + \\\n",
    "            \"AND dataproduct_subtype = 'lsst.calexp' \" + \\\n",
    "            \"AND lsst_visit = \" + str(visit) + \" \" + \\\n",
    "            \"AND lsst_detector = \" + str(detector)\n",
    "        results = tap_service.search(query) # THIS IS TAP SERVICE\n",
    "\n",
    "    else:\n",
    "        # Find the tract and patch that contain this point\n",
    "        skymap = butler.get('skyMap')\n",
    "        tract = skymap.findTract(spherePoint)\n",
    "        patch = tract.findPatch(spherePoint)\n",
    "\n",
    "        # Now create a dataId from the tract, patch and filter information\n",
    "        dataId = {'band':'i', 'tract':tract.tract_id, 'patch': patch.getSequentialIndex()}\n",
    "\n",
    "        # Need the UUID of the image for the cutout service \n",
    "        datasetRef = registry.findDataset('deepCoadd_calexp', dataId)\n",
    "    \n",
    "        deepCoadd_uuid = datasetRef.id\n",
    "        assert isinstance(deepCoadd_uuid, uuid.UUID)\n",
    "        f\"UUID for deep coadd: {deepCoadd_uuid}\"\n",
    "\n",
    "        #Get from dataID (needs to be fixed)\n",
    "        t = tract.tract_id\n",
    "        p = patch.getSequentialIndex()\n",
    "\n",
    "        query = \"SELECT access_format, access_url, dataproduct_subtype, lsst_patch, lsst_tract, \" + \\\n",
    "            \"lsst_band, s_ra, s_dec FROM ivoa.ObsCore WHERE dataproduct_type = 'image' \" + \\\n",
    "            \"AND obs_collection = 'LSST.DP02' \" + \\\n",
    "            \"AND dataproduct_subtype = 'lsst.deepCoadd_calexp' \" + \\\n",
    "            \"AND lsst_tract = \" + str(t) + \" \" + \\\n",
    "            \"AND lsst_patch = \" + str(p) + \" \" + \\\n",
    "            \"AND lsst_band = 'i' \"\n",
    "        results = tap_service.search(query) # THIS IS TAP SERVICE\n",
    "\n",
    "    #Get datalink\n",
    "    dataLinkUrl = results[0].getdataurl()\n",
    "    f\"Datalink link service url: {dataLinkUrl}\"\n",
    "    auth_session = service._session\n",
    "    dl_results = DatalinkResults.from_result_url(dataLinkUrl,session=auth_session)\n",
    "    f\"{dl_results.status}\"\n",
    "\n",
    "    sq = SodaQuery.from_resource(dl_results, dl_results.get_adhocservice_by_id(\"cutout-sync\"), \n",
    "                                 session=auth_session)\n",
    "\n",
    "    sq.circle = (spherePoint.getRa().asDegrees()* u.deg,\n",
    "                 spherePoint.getDec().asDegrees()*u.deg, \n",
    "                 cutout_size* u.deg)\n",
    "\n",
    "    #sodaCutout = os.path.join(os.getenv('HOME'), 'DATA/soda-cutout.fits')\n",
    "    if filename:\n",
    "        sodaCutout = 'cutouts/'+filename\n",
    "    else:\n",
    "        sodaCutout = 'cutouts/soda-cutout.fits'\n",
    "\n",
    "    with open(sodaCutout, 'bw') as f:\n",
    "        f.write(sq.execute_stream().read())\n",
    "    \n",
    "    return sodaCutout\n"
   ]
  },
  {
   "cell_type": "code",
   "execution_count": 16,
   "id": "0ab223d3-f864-4dc9-8fa1-629d3302b976",
   "metadata": {
    "execution": {
     "iopub.execute_input": "2023-06-05T21:49:35.381453Z",
     "iopub.status.busy": "2023-06-05T21:49:35.381067Z",
     "iopub.status.idle": "2023-06-05T21:49:35.399346Z",
     "shell.execute_reply": "2023-06-05T21:49:35.398335Z",
     "shell.execute_reply.started": "2023-06-05T21:49:35.381428Z"
    },
    "tags": []
   },
   "outputs": [],
   "source": [
    "def cutout_calexp(butler, ra, dec, visit, detector, cutoutSideLength=51, **kwargs):\n",
    "    \n",
    "    \"\"\"\n",
    "    Produce a cutout from a calexp at the given ra, dec position.\n",
    "\n",
    "    Adapted from cutout_coadd which was adapted from a DC2 tutorial\n",
    "    notebook by Michael Wood-Vasey.\n",
    "\n",
    "    Parameters\n",
    "    ----------\n",
    "    butler: lsst.daf.persistence.Butler\n",
    "        Helper object providing access to a data repository\n",
    "    ra: float\n",
    "        Right ascension of the center of the cutout, in degrees\n",
    "    dec: float\n",
    "        Declination of the center of the cutout, in degrees\n",
    "    visit: int\n",
    "        Visit id of the calexp's visit\n",
    "    detector: int\n",
    "        Detector for the calexp\n",
    "    cutoutSideLength: float [optional]\n",
    "        Size of the cutout region in pixels.\n",
    "\n",
    "    Returns\n",
    "    -------\n",
    "    MaskedImage\n",
    "    \"\"\"\n",
    "    \n",
    "    dataId = {'visit': visit, 'detector': detector}    \n",
    "    radec = geom.SpherePoint(ra, dec, geom.degrees)\n",
    "    cutoutSize = geom.ExtentI(cutoutSideLength, cutoutSideLength)    \n",
    "    calexp_wcs = butler.get('calexp.wcs', **dataId)\n",
    "    xy = geom.PointI(calexp_wcs.skyToPixel(radec))\n",
    "    bbox = geom.BoxI(xy - cutoutSize // 2, cutoutSize)\n",
    "    parameters = {'bbox': bbox}\n",
    "    cutout_image = butler.get('calexp', parameters=parameters, **dataId)\n",
    "\n",
    "    return cutout_image"
   ]
  },
  {
   "cell_type": "markdown",
   "id": "772d68d4-e084-4440-86c1-a0dd354fa0f1",
   "metadata": {},
   "source": [
    "## Define the function that makes the animated GIF:"
   ]
  },
  {
   "cell_type": "code",
   "execution_count": 17,
   "id": "dd797262-e7b2-48f9-a5ba-e7244b145e99",
   "metadata": {
    "execution": {
     "iopub.execute_input": "2023-06-05T21:49:35.400800Z",
     "iopub.status.busy": "2023-06-05T21:49:35.400430Z",
     "iopub.status.idle": "2023-06-05T21:49:35.418454Z",
     "shell.execute_reply": "2023-06-05T21:49:35.417491Z",
     "shell.execute_reply.started": "2023-06-05T21:49:35.400775Z"
    },
    "tags": []
   },
   "outputs": [],
   "source": [
    "def make_gif(frame_folder):\n",
    "    frames = [Image.open(image) for image in sorted(glob.glob(f\"{frame_folder}/*.png\"))]\n",
    "    frame_one = frames[0]\n",
    "    frame_one.save(\"animation.gif\", format=\"GIF\", append_images=frames,\n",
    "               save_all=True, duration=500, loop=1)\n"
   ]
  },
  {
   "cell_type": "markdown",
   "id": "fed97162-bfdf-45f2-a79b-bb8b7813e3ef",
   "metadata": {},
   "source": [
    "## Now put these into action. First, make cutouts using the butler:"
   ]
  },
  {
   "cell_type": "code",
   "execution_count": 18,
   "id": "6a2b95ac-625d-4384-876e-8e6199598f7c",
   "metadata": {
    "execution": {
     "iopub.execute_input": "2023-06-05T21:49:35.419822Z",
     "iopub.status.busy": "2023-06-05T21:49:35.419544Z",
     "iopub.status.idle": "2023-06-05T21:49:35.438048Z",
     "shell.execute_reply": "2023-06-05T21:49:35.437129Z",
     "shell.execute_reply.started": "2023-06-05T21:49:35.419800Z"
    },
    "tags": []
   },
   "outputs": [],
   "source": [
    "# Sort the source catalog by observation time:\n",
    "diaSrc.sort('midPointTai')\n"
   ]
  },
  {
   "cell_type": "code",
   "execution_count": 19,
   "id": "b47db442-fb4c-4bb5-b4a6-239e6452e0bd",
   "metadata": {
    "execution": {
     "iopub.execute_input": "2023-06-05T21:49:35.443942Z",
     "iopub.status.busy": "2023-06-05T21:49:35.443376Z",
     "iopub.status.idle": "2023-06-05T21:49:35.455657Z",
     "shell.execute_reply": "2023-06-05T21:49:35.454722Z",
     "shell.execute_reply.started": "2023-06-05T21:49:35.443910Z"
    },
    "tags": []
   },
   "outputs": [
    {
     "name": "stdout",
     "output_type": "stream",
     "text": [
      "942690 13 60.2901401 -44.142051\n"
     ]
    }
   ],
   "source": [
    "ra = forcedSrc[0]['coord_ra']\n",
    "dec = forcedSrc[0]['coord_dec']\n",
    "ccdvisitID = diaSrc[10]['ccdVisitId']\n",
    "\n",
    "visit = str(ccdvisitID)[:-3]\n",
    "detector = str(ccdvisitID)[-3:]\n",
    "visit = int(visit)\n",
    "detector = int(detector)\n",
    "\n",
    "print(visit, detector, ra, dec)\n"
   ]
  },
  {
   "cell_type": "markdown",
   "id": "cbe2bc50-abb7-4a26-90f6-4e02b755c0ce",
   "metadata": {},
   "source": [
    "## Make the cutouts with the SODA service:"
   ]
  },
  {
   "cell_type": "markdown",
   "id": "1bafdc98-f1e7-4d18-bc58-49447b42df66",
   "metadata": {},
   "source": [
    "## Rotate the cutouts to be in the same orientation"
   ]
  },
  {
   "cell_type": "code",
   "execution_count": 20,
   "id": "96477cb4-19da-4d6f-a853-d338cbc4848c",
   "metadata": {
    "execution": {
     "iopub.execute_input": "2023-06-05T21:49:35.456804Z",
     "iopub.status.busy": "2023-06-05T21:49:35.456565Z",
     "iopub.status.idle": "2023-06-05T21:49:35.472559Z",
     "shell.execute_reply": "2023-06-05T21:49:35.471658Z",
     "shell.execute_reply.started": "2023-06-05T21:49:35.456785Z"
    },
    "tags": []
   },
   "outputs": [],
   "source": [
    "def warp_img(ref_img, img_to_warp, ref_wcs, wcs_to_warp):\n",
    "\n",
    "    config = RegisterConfig()\n",
    "    task = RegisterTask(name=\"register\", config=config)\n",
    "    warpedExp = task.warpExposure(img_to_warp, wcs_to_warp, ref_wcs,\n",
    "                                  ref_img.getBBox())\n",
    "\n",
    "    return warpedExp"
   ]
  },
  {
   "cell_type": "code",
   "execution_count": 21,
   "id": "14c7b681-916e-4cdc-88f0-c38b08c761ed",
   "metadata": {
    "execution": {
     "iopub.execute_input": "2023-06-05T21:49:35.474006Z",
     "iopub.status.busy": "2023-06-05T21:49:35.473650Z",
     "iopub.status.idle": "2023-06-05T21:49:35.489527Z",
     "shell.execute_reply": "2023-06-05T21:49:35.488738Z",
     "shell.execute_reply.started": "2023-06-05T21:49:35.473983Z"
    },
    "tags": []
   },
   "outputs": [],
   "source": [
    "def get_minmax_xy(img, cutout_size):\n",
    "\n",
    "    cutout_size = int(cutout_size)\n",
    "    \n",
    "    height = img.height\n",
    "    width = img.width\n",
    "\n",
    "    ceny = (height - 1) / 2\n",
    "    cenx = (width - 1) / 2\n",
    "\n",
    "    minx = int(cenx - ((cutout_size - 1) / 2))\n",
    "    maxx = int(cenx + ((cutout_size - 1) / 2))\n",
    "    miny = int(ceny - ((cutout_size - 1) / 2))\n",
    "    maxy = int(ceny + ((cutout_size - 1) / 2))\n",
    "\n",
    "    return {'minx':minx, 'maxx':maxx, 'miny':miny, 'maxy':maxy}"
   ]
  },
  {
   "cell_type": "code",
   "execution_count": 25,
   "id": "cc9e9fcb-bbac-4de1-8bfa-7c64f8ee7d21",
   "metadata": {
    "execution": {
     "iopub.execute_input": "2023-06-05T21:50:44.788480Z",
     "iopub.status.busy": "2023-06-05T21:50:44.787971Z",
     "iopub.status.idle": "2023-06-05T21:51:42.310985Z",
     "shell.execute_reply": "2023-06-05T21:51:42.309949Z",
     "shell.execute_reply.started": "2023-06-05T21:50:44.788449Z"
    },
    "tags": []
   },
   "outputs": [
    {
     "name": "stdout",
     "output_type": "stream",
     "text": [
      "cutouts/ directory already exists\n",
      "images/ directory already exists\n"
     ]
    }
   ],
   "source": [
    "if os.path.exists('cutouts'):\n",
    "    print('cutouts/ directory already exists')\n",
    "else:\n",
    "    os.mkdir('cutouts')\n",
    "    print('Made a cutouts/ directory')\n",
    "\n",
    "if os.path.exists('images'):\n",
    "    print('images/ directory already exists')\n",
    "else:\n",
    "    os.mkdir('images')\n",
    "    print('Made an images/ directory')\n",
    "\n",
    "ii = 0\n",
    "cutout_size_pix = 131\n",
    "\n",
    "picksrc = (diaSrc['filterName'] == 'r')\n",
    "\n",
    "for src in diaSrc[picksrc]:\n",
    "# for src in diaSrc:\n",
    "    ccdvisitID = src['ccdVisitId']\n",
    "    visit = str(ccdvisitID)[:-3]\n",
    "    detector = str(ccdvisitID)[-3:]\n",
    "    visit = int(visit)\n",
    "    detector = int(detector)\n",
    "\n",
    "    if ii == 0:\n",
    "        # 0.2-arcsec pixels, convert to degrees\n",
    "        cutout_size = (cutout_size_pix*2) * 0.2/3600.0\n",
    "\n",
    "        # Make the first image the reference image that we'll warp all the others to.\n",
    "        fitsname = 'cutout_ref.fits'\n",
    "        make_image_cutout(butler, service, ra, dec, cutout_size=cutout_size, imtype='calexp',\n",
    "                          visit=visit, detector=detector, filename=fitsname)\n",
    "        img_ref = ExposureF('cutouts/'+fitsname)\n",
    "    else:\n",
    "        cutout_size = (cutout_size_pix*1.1) * 0.2/3600.0\n",
    "\n",
    "    ii += 1\n",
    "    \n",
    "    try:\n",
    "        fitsname = 'cutout_'+str(src['diaSourceId'])+'.fits'\n",
    "        make_image_cutout(butler, service, ra, dec, cutout_size=cutout_size, imtype='calexp',\n",
    "                          visit=visit, detector=detector, filename=fitsname)\n",
    "        img = ExposureF('cutouts/'+fitsname)\n",
    "\n",
    "        img_warped = warp_img(img_ref, img, img_ref.getWcs(), img.getWcs())\n",
    "        \n",
    "        fig, ax = plt.subplots()\n",
    "\n",
    "        minmax = get_minmax_xy(img_warped, cutout_size_pix)\n",
    "        im_arr = img_warped.image.array[minmax['minx']:minmax['maxx'], minmax['miny']:minmax['maxy']]\n",
    "        im_arr_bgnorm = im_arr/np.nanmedian(im_arr)\n",
    "        \n",
    "        # Create an ImageNormalize object\n",
    "        norm = ImageNormalize(im_arr_bgnorm, interval=ZScaleInterval(),\n",
    "                              stretch=LinearStretch())\n",
    "        \n",
    "        # plt.imshow(im_arr_bgnorm, origin='lower', norm=norm, cmap='gray')\n",
    "        plt.imshow(im_arr_bgnorm, origin='lower', vmin=-200, vmax=300, cmap='gray')\n",
    "        ax.set_xticklabels([])\n",
    "        ax.set_yticklabels([])\n",
    "        ax.set_xticks([])\n",
    "        ax.set_yticks([])\n",
    "        plt.title('MJD: '+str(src['midPointTai'])+'; band: '+str(src['filterName']))\n",
    "        figname = 'images/cutout_'+str(src['diaSourceId'])+'.png'\n",
    "        if os.path.isfile(figname):\n",
    "            os.remove(figname)\n",
    "        plt.savefig(figname)\n",
    "        plt.close()\n",
    "    except:\n",
    "        print('Calexp not found for source '+str(src['diaSourceId']))"
   ]
  },
  {
   "cell_type": "code",
   "execution_count": 26,
   "id": "3fd19006-c9f0-4f2f-95ef-ca48fcf3a153",
   "metadata": {
    "execution": {
     "iopub.execute_input": "2023-06-05T21:51:42.362900Z",
     "iopub.status.busy": "2023-06-05T21:51:42.362455Z",
     "iopub.status.idle": "2023-06-05T21:51:42.611677Z",
     "shell.execute_reply": "2023-06-05T21:51:42.610570Z",
     "shell.execute_reply.started": "2023-06-05T21:51:42.362866Z"
    },
    "tags": []
   },
   "outputs": [],
   "source": [
    "make_gif('images')"
   ]
  },
  {
   "cell_type": "code",
   "execution_count": null,
   "id": "9dc3b09a-1c7f-42f8-94a2-c15a231f4595",
   "metadata": {},
   "outputs": [],
   "source": []
  },
  {
   "cell_type": "code",
   "execution_count": null,
   "id": "12c6b741-77b5-4792-802f-b7b383d2de01",
   "metadata": {
    "tags": []
   },
   "outputs": [],
   "source": []
  }
 ],
 "metadata": {
  "kernelspec": {
   "display_name": "LSST",
   "language": "python",
   "name": "lsst"
  },
  "language_info": {
   "codemirror_mode": {
    "name": "ipython",
    "version": 3
   },
   "file_extension": ".py",
   "mimetype": "text/x-python",
   "name": "python",
   "nbconvert_exporter": "python",
   "pygments_lexer": "ipython3",
   "version": "3.10.10"
  }
 },
 "nbformat": 4,
 "nbformat_minor": 5
}
