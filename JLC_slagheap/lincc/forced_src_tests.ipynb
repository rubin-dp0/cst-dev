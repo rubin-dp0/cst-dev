{
 "cells": [
  {
   "cell_type": "code",
   "execution_count": 18,
   "id": "20c6c059-b307-49e5-9fa2-05aad8944f53",
   "metadata": {
    "execution": {
     "iopub.execute_input": "2024-02-08T19:18:02.373460Z",
     "iopub.status.busy": "2024-02-08T19:18:02.372092Z",
     "iopub.status.idle": "2024-02-08T19:18:02.377016Z",
     "shell.execute_reply": "2024-02-08T19:18:02.376223Z",
     "shell.execute_reply.started": "2024-02-08T19:18:02.373423Z"
    }
   },
   "outputs": [],
   "source": [
    "from lsst.daf.butler import Butler\n",
    "\n",
    "import numpy as np"
   ]
  },
  {
   "cell_type": "code",
   "execution_count": 19,
   "id": "3d7c5c29-d77b-470b-bb58-49ea7d1d69ab",
   "metadata": {
    "execution": {
     "iopub.execute_input": "2024-02-08T19:18:03.623624Z",
     "iopub.status.busy": "2024-02-08T19:18:03.622642Z",
     "iopub.status.idle": "2024-02-08T19:18:04.895798Z",
     "shell.execute_reply": "2024-02-08T19:18:04.894898Z",
     "shell.execute_reply.started": "2024-02-08T19:18:03.623596Z"
    }
   },
   "outputs": [],
   "source": [
    "butler = Butler('dp02', collections='2.2i/runs/DP0.2')"
   ]
  },
  {
   "cell_type": "code",
   "execution_count": 20,
   "id": "6431a77b-80c4-45c7-af71-4a773dac09f4",
   "metadata": {
    "execution": {
     "iopub.execute_input": "2024-02-08T19:18:05.334546Z",
     "iopub.status.busy": "2024-02-08T19:18:05.333574Z",
     "iopub.status.idle": "2024-02-08T19:18:05.337706Z",
     "shell.execute_reply": "2024-02-08T19:18:05.337038Z",
     "shell.execute_reply.started": "2024-02-08T19:18:05.334515Z"
    }
   },
   "outputs": [],
   "source": [
    "tract = 3828\n",
    "patch = 3\n",
    "dataId = {'tract': tract, 'patch': patch}"
   ]
  },
  {
   "cell_type": "code",
   "execution_count": 21,
   "id": "d7a9682e-57db-4b8f-bf4e-2f7ca992851e",
   "metadata": {
    "execution": {
     "iopub.execute_input": "2024-02-08T19:18:06.332964Z",
     "iopub.status.busy": "2024-02-08T19:18:06.331999Z",
     "iopub.status.idle": "2024-02-08T19:18:19.156582Z",
     "shell.execute_reply": "2024-02-08T19:18:19.155689Z",
     "shell.execute_reply.started": "2024-02-08T19:18:06.332934Z"
    }
   },
   "outputs": [],
   "source": [
    "forced_src = butler.get('forcedSourceTable', dataId=dataId, parameters={'columns':['objectId', 'coord_ra', 'coord_dec','psfFlux', 'psfFluxErr', 'ccdVisitId', 'band']})\n",
    "ccdvisit = butler.get('ccdVisitTable', dataId=dataId, parameters={'columns':['ccdVisitId', 'expMidptMJD']})\n",
    "objtable = butler.get('objectTable', dataId=dataId, parameters={'columns':['objectId', 'coord_ra', 'coord_dec', 'g_psfFlux']})"
   ]
  },
  {
   "cell_type": "code",
   "execution_count": 16,
   "id": "9d051e99-a0bf-4c2a-b275-c995180b9445",
   "metadata": {
    "execution": {
     "iopub.execute_input": "2024-02-07T20:36:31.067002Z",
     "iopub.status.busy": "2024-02-07T20:36:31.066642Z",
     "iopub.status.idle": "2024-02-07T20:36:31.742373Z",
     "shell.execute_reply": "2024-02-07T20:36:31.741410Z",
     "shell.execute_reply.started": "2024-02-07T20:36:31.066973Z"
    }
   },
   "outputs": [],
   "source": [
    "inds = np.unique(forced_src['objectId'])[:5]"
   ]
  },
  {
   "cell_type": "code",
   "execution_count": 17,
   "id": "15c2b5eb-76f6-4ff5-ad20-2ca9c5d0fd30",
   "metadata": {
    "execution": {
     "iopub.execute_input": "2024-02-07T20:41:08.363546Z",
     "iopub.status.busy": "2024-02-07T20:41:08.363108Z",
     "iopub.status.idle": "2024-02-07T20:41:08.369049Z",
     "shell.execute_reply": "2024-02-07T20:41:08.368419Z",
     "shell.execute_reply.started": "2024-02-07T20:41:08.363516Z"
    }
   },
   "outputs": [
    {
     "data": {
      "text/plain": [
       "array([1649927148640665601, 1649927148640665602, 1649927148640665603,\n",
       "       1649927148640665604, 1649927148640665605])"
      ]
     },
     "execution_count": 17,
     "metadata": {},
     "output_type": "execute_result"
    }
   ],
   "source": [
    "inds"
   ]
  },
  {
   "cell_type": "code",
   "execution_count": 9,
   "id": "2af0725e-92d1-4da3-b204-61c03e432c39",
   "metadata": {
    "execution": {
     "iopub.execute_input": "2024-02-07T20:32:27.097414Z",
     "iopub.status.busy": "2024-02-07T20:32:27.096322Z",
     "iopub.status.idle": "2024-02-07T20:32:32.483294Z",
     "shell.execute_reply": "2024-02-07T20:32:32.482437Z",
     "shell.execute_reply.started": "2024-02-07T20:32:27.097377Z"
    }
   },
   "outputs": [],
   "source": [
    "fsrc = forced_src.join(ccdvisit, on='ccdVisitId', lsuffix='_caller', rsuffix='_other')[:100] #.loc(inds[0])"
   ]
  },
  {
   "cell_type": "markdown",
   "id": "b27247d6-9ba4-48fa-909b-4fdea4ee0fce",
   "metadata": {},
   "source": [
    "Problem is that it's keyed on forcedSourceId instead of objectId. "
   ]
  },
  {
   "cell_type": "code",
   "execution_count": 14,
   "id": "e7e55f77-6874-4f4d-81ec-cf032aee7e2b",
   "metadata": {
    "execution": {
     "iopub.execute_input": "2024-02-07T20:05:53.606457Z",
     "iopub.status.busy": "2024-02-07T20:05:53.605619Z",
     "iopub.status.idle": "2024-02-07T20:05:53.612311Z",
     "shell.execute_reply": "2024-02-07T20:05:53.611632Z",
     "shell.execute_reply.started": "2024-02-07T20:05:53.606424Z"
    }
   },
   "outputs": [
    {
     "data": {
      "text/plain": [
       "forcedSourceId\n",
       "619654830914273628    1154197065\n",
       "619654830914273629    1154197065\n",
       "619654830914273630    1154197065\n",
       "619654830914273631    1154197065\n",
       "619654830914273632    1154197065\n",
       "                         ...    \n",
       "655877493630176923    1221667032\n",
       "655877493630176924    1221667032\n",
       "655877493630176925    1221667032\n",
       "655877493630176926    1221667032\n",
       "655877493630176927    1221667032\n",
       "Name: ccdVisitId, Length: 16922251, dtype: int64"
      ]
     },
     "execution_count": 14,
     "metadata": {},
     "output_type": "execute_result"
    }
   ],
   "source": [
    "forced_src['ccdVisitId'] "
   ]
  },
  {
   "cell_type": "code",
   "execution_count": 23,
   "id": "ab68939c-572c-42d0-a305-ad9f9de4137d",
   "metadata": {
    "execution": {
     "iopub.execute_input": "2024-02-08T19:18:39.655637Z",
     "iopub.status.busy": "2024-02-08T19:18:39.654682Z",
     "iopub.status.idle": "2024-02-08T19:18:40.873779Z",
     "shell.execute_reply": "2024-02-08T19:18:40.872851Z",
     "shell.execute_reply.started": "2024-02-08T19:18:39.655605Z"
    }
   },
   "outputs": [],
   "source": [
    "# ccdvisit[forced_src['ccdVisitId'].values]\n",
    "# ccdvisit.loc(forced_src['ccdVisitId'].values)\n",
    "sourceTable_withTime = forced_src.assign(expMidptMJD = ccdvisit.loc[forced_src['ccdVisitId'].values].values)"
   ]
  },
  {
   "cell_type": "code",
   "execution_count": 24,
   "id": "a1c77a05-fe36-412a-87c2-a74914b8f84b",
   "metadata": {
    "execution": {
     "iopub.execute_input": "2024-02-08T19:18:48.473906Z",
     "iopub.status.busy": "2024-02-08T19:18:48.473553Z",
     "iopub.status.idle": "2024-02-08T19:18:48.479013Z",
     "shell.execute_reply": "2024-02-08T19:18:48.478356Z",
     "shell.execute_reply.started": "2024-02-08T19:18:48.473878Z"
    }
   },
   "outputs": [
    {
     "data": {
      "text/plain": [
       "Index(['objectId', 'coord_ra', 'coord_dec', 'psfFlux', 'psfFluxErr',\n",
       "       'ccdVisitId', 'band', 'expMidptMJD'],\n",
       "      dtype='object')"
      ]
     },
     "execution_count": 24,
     "metadata": {},
     "output_type": "execute_result"
    }
   ],
   "source": [
    "sourceTable_withTime.columns"
   ]
  },
  {
   "cell_type": "code",
   "execution_count": 15,
   "id": "99fad6ae-a8ab-4096-a6b5-b08434b31666",
   "metadata": {
    "execution": {
     "iopub.execute_input": "2024-02-07T19:43:48.301470Z",
     "iopub.status.busy": "2024-02-07T19:43:48.300718Z",
     "iopub.status.idle": "2024-02-07T19:43:48.972689Z",
     "shell.execute_reply": "2024-02-07T19:43:48.972106Z",
     "shell.execute_reply.started": "2024-02-07T19:43:48.301442Z"
    }
   },
   "outputs": [
    {
     "data": {
      "text/plain": [
       "39773"
      ]
     },
     "execution_count": 15,
     "metadata": {},
     "output_type": "execute_result"
    }
   ],
   "source": [
    "len(np.unique(forced_src['objectId']))"
   ]
  },
  {
   "cell_type": "markdown",
   "id": "79bf56bb-7ce0-42c8-9011-53442c841964",
   "metadata": {},
   "source": [
    "Try pip installing TAPE, then run lightkurve tools\n",
    "\n",
    "TAPE takes a src table (and, optionally, object table) as input"
   ]
  },
  {
   "cell_type": "code",
   "execution_count": 25,
   "id": "b0cd9867-4c20-4ccb-974e-8d2008bf35fb",
   "metadata": {
    "execution": {
     "iopub.execute_input": "2024-02-08T19:19:00.174691Z",
     "iopub.status.busy": "2024-02-08T19:19:00.173644Z",
     "iopub.status.idle": "2024-02-08T19:19:00.177986Z",
     "shell.execute_reply": "2024-02-08T19:19:00.177135Z",
     "shell.execute_reply.started": "2024-02-08T19:19:00.174654Z"
    }
   },
   "outputs": [],
   "source": [
    "# !pip install lf-tape"
   ]
  },
  {
   "cell_type": "code",
   "execution_count": 26,
   "id": "4f3a3faa-1fb2-44b1-9828-6492f305b1fd",
   "metadata": {
    "execution": {
     "iopub.execute_input": "2024-02-08T19:19:02.722271Z",
     "iopub.status.busy": "2024-02-08T19:19:02.721332Z",
     "iopub.status.idle": "2024-02-08T19:19:04.058048Z",
     "shell.execute_reply": "2024-02-08T19:19:04.057207Z",
     "shell.execute_reply.started": "2024-02-08T19:19:02.722230Z"
    }
   },
   "outputs": [],
   "source": [
    "from tape import Ensemble, ColumnMapper"
   ]
  },
  {
   "cell_type": "code",
   "execution_count": 27,
   "id": "fdd67d74-6bf9-4504-9a09-38a23a222025",
   "metadata": {
    "execution": {
     "iopub.execute_input": "2024-02-08T19:19:04.075490Z",
     "iopub.status.busy": "2024-02-08T19:19:04.075267Z",
     "iopub.status.idle": "2024-02-08T19:19:07.310038Z",
     "shell.execute_reply": "2024-02-08T19:19:07.309041Z",
     "shell.execute_reply.started": "2024-02-08T19:19:04.075471Z"
    }
   },
   "outputs": [
    {
     "data": {
      "text/html": [
       "<pre style=\"margin: 0.1em;\n",
       "padding-left: 0.25em;\n",
       "border-left-style: solid;\n",
       "font-family: var(--jp-code-font-family);\n",
       "font-size: var(--jp-code-font-size);\n",
       "line-height: var(--jp-code-line-height);\n",
       "\"><span style=\"color: var(--jp-warn-color2)\">distributed.scheduler</span> <span style=\"color: var(--jp-info-color0)\">INFO</span>: State start</pre>"
      ],
      "text/plain": [
       "<IPython.core.display.HTML object>"
      ]
     },
     "metadata": {},
     "output_type": "display_data"
    },
    {
     "data": {
      "text/html": [
       "<pre style=\"margin: 0.1em;\n",
       "padding-left: 0.25em;\n",
       "border-left-style: solid;\n",
       "font-family: var(--jp-code-font-family);\n",
       "font-size: var(--jp-code-font-size);\n",
       "line-height: var(--jp-code-line-height);\n",
       "\"><span style=\"color: var(--jp-warn-color2)\">distributed.diskutils</span> <span style=\"color: var(--jp-info-color0)\">INFO</span>: Found stale lock file and directory &#x27;/tmp/dask-scratch-space/worker-1ozp1gwo&#x27;, purging</pre>"
      ],
      "text/plain": [
       "<IPython.core.display.HTML object>"
      ]
     },
     "metadata": {},
     "output_type": "display_data"
    },
    {
     "data": {
      "text/html": [
       "<pre style=\"margin: 0.1em;\n",
       "padding-left: 0.25em;\n",
       "border-left-style: solid;\n",
       "font-family: var(--jp-code-font-family);\n",
       "font-size: var(--jp-code-font-size);\n",
       "line-height: var(--jp-code-line-height);\n",
       "\"><span style=\"color: var(--jp-warn-color2)\">distributed.diskutils</span> <span style=\"color: var(--jp-info-color0)\">INFO</span>: Found stale lock file and directory &#x27;/tmp/dask-scratch-space/scheduler-ql440zn3&#x27;, purging</pre>"
      ],
      "text/plain": [
       "<IPython.core.display.HTML object>"
      ]
     },
     "metadata": {},
     "output_type": "display_data"
    },
    {
     "data": {
      "text/html": [
       "<pre style=\"margin: 0.1em;\n",
       "padding-left: 0.25em;\n",
       "border-left-style: solid;\n",
       "font-family: var(--jp-code-font-family);\n",
       "font-size: var(--jp-code-font-size);\n",
       "line-height: var(--jp-code-line-height);\n",
       "\"><span style=\"color: var(--jp-warn-color2)\">distributed.diskutils</span> <span style=\"color: var(--jp-info-color0)\">INFO</span>: Found stale lock file and directory &#x27;/tmp/dask-scratch-space/worker-zxyt7pxe&#x27;, purging</pre>"
      ],
      "text/plain": [
       "<IPython.core.display.HTML object>"
      ]
     },
     "metadata": {},
     "output_type": "display_data"
    },
    {
     "data": {
      "text/html": [
       "<pre style=\"margin: 0.1em;\n",
       "padding-left: 0.25em;\n",
       "border-left-style: solid;\n",
       "font-family: var(--jp-code-font-family);\n",
       "font-size: var(--jp-code-font-size);\n",
       "line-height: var(--jp-code-line-height);\n",
       "\"><span style=\"color: var(--jp-warn-color2)\">distributed.diskutils</span> <span style=\"color: var(--jp-info-color0)\">INFO</span>: Found stale lock file and directory &#x27;/tmp/dask-scratch-space/worker-w1f9am7d&#x27;, purging</pre>"
      ],
      "text/plain": [
       "<IPython.core.display.HTML object>"
      ]
     },
     "metadata": {},
     "output_type": "display_data"
    },
    {
     "data": {
      "text/html": [
       "<pre style=\"margin: 0.1em;\n",
       "padding-left: 0.25em;\n",
       "border-left-style: solid;\n",
       "font-family: var(--jp-code-font-family);\n",
       "font-size: var(--jp-code-font-size);\n",
       "line-height: var(--jp-code-line-height);\n",
       "\"><span style=\"color: var(--jp-warn-color2)\">distributed.diskutils</span> <span style=\"color: var(--jp-info-color0)\">INFO</span>: Found stale lock file and directory &#x27;/tmp/dask-scratch-space/worker-uwsg3wox&#x27;, purging</pre>"
      ],
      "text/plain": [
       "<IPython.core.display.HTML object>"
      ]
     },
     "metadata": {},
     "output_type": "display_data"
    },
    {
     "data": {
      "text/html": [
       "<pre style=\"margin: 0.1em;\n",
       "padding-left: 0.25em;\n",
       "border-left-style: solid;\n",
       "font-family: var(--jp-code-font-family);\n",
       "font-size: var(--jp-code-font-size);\n",
       "line-height: var(--jp-code-line-height);\n",
       "\"><span style=\"color: var(--jp-warn-color2)\">distributed.scheduler</span> <span style=\"color: var(--jp-info-color0)\">INFO</span>:   Scheduler at:     tcp://127.0.0.1:35719</pre>"
      ],
      "text/plain": [
       "<IPython.core.display.HTML object>"
      ]
     },
     "metadata": {},
     "output_type": "display_data"
    },
    {
     "data": {
      "text/html": [
       "<pre style=\"margin: 0.1em;\n",
       "padding-left: 0.25em;\n",
       "border-left-style: solid;\n",
       "font-family: var(--jp-code-font-family);\n",
       "font-size: var(--jp-code-font-size);\n",
       "line-height: var(--jp-code-line-height);\n",
       "\"><span style=\"color: var(--jp-warn-color2)\">distributed.scheduler</span> <span style=\"color: var(--jp-info-color0)\">INFO</span>:   dashboard at:  http://127.0.0.1:8787/status</pre>"
      ],
      "text/plain": [
       "<IPython.core.display.HTML object>"
      ]
     },
     "metadata": {},
     "output_type": "display_data"
    },
    {
     "data": {
      "text/html": [
       "<pre style=\"margin: 0.1em;\n",
       "padding-left: 0.25em;\n",
       "border-left-style: solid;\n",
       "font-family: var(--jp-code-font-family);\n",
       "font-size: var(--jp-code-font-size);\n",
       "line-height: var(--jp-code-line-height);\n",
       "\"><span style=\"color: var(--jp-warn-color2)\">distributed.scheduler</span> <span style=\"color: var(--jp-info-color0)\">INFO</span>: Registering Worker plugin shuffle</pre>"
      ],
      "text/plain": [
       "<IPython.core.display.HTML object>"
      ]
     },
     "metadata": {},
     "output_type": "display_data"
    },
    {
     "data": {
      "text/html": [
       "<pre style=\"margin: 0.1em;\n",
       "padding-left: 0.25em;\n",
       "border-left-style: solid;\n",
       "font-family: var(--jp-code-font-family);\n",
       "font-size: var(--jp-code-font-size);\n",
       "line-height: var(--jp-code-line-height);\n",
       "\"><span style=\"color: var(--jp-warn-color2)\">distributed.nanny</span> <span style=\"color: var(--jp-info-color0)\">INFO</span>:         Start Nanny at: &#x27;tcp://127.0.0.1:43481&#x27;</pre>"
      ],
      "text/plain": [
       "<IPython.core.display.HTML object>"
      ]
     },
     "metadata": {},
     "output_type": "display_data"
    },
    {
     "data": {
      "text/html": [
       "<pre style=\"margin: 0.1em;\n",
       "padding-left: 0.25em;\n",
       "border-left-style: solid;\n",
       "font-family: var(--jp-code-font-family);\n",
       "font-size: var(--jp-code-font-size);\n",
       "line-height: var(--jp-code-line-height);\n",
       "\"><span style=\"color: var(--jp-warn-color2)\">distributed.nanny</span> <span style=\"color: var(--jp-info-color0)\">INFO</span>:         Start Nanny at: &#x27;tcp://127.0.0.1:37805&#x27;</pre>"
      ],
      "text/plain": [
       "<IPython.core.display.HTML object>"
      ]
     },
     "metadata": {},
     "output_type": "display_data"
    },
    {
     "data": {
      "text/html": [
       "<pre style=\"margin: 0.1em;\n",
       "padding-left: 0.25em;\n",
       "border-left-style: solid;\n",
       "font-family: var(--jp-code-font-family);\n",
       "font-size: var(--jp-code-font-size);\n",
       "line-height: var(--jp-code-line-height);\n",
       "\"><span style=\"color: var(--jp-warn-color2)\">distributed.nanny</span> <span style=\"color: var(--jp-info-color0)\">INFO</span>:         Start Nanny at: &#x27;tcp://127.0.0.1:46147&#x27;</pre>"
      ],
      "text/plain": [
       "<IPython.core.display.HTML object>"
      ]
     },
     "metadata": {},
     "output_type": "display_data"
    },
    {
     "data": {
      "text/html": [
       "<pre style=\"margin: 0.1em;\n",
       "padding-left: 0.25em;\n",
       "border-left-style: solid;\n",
       "font-family: var(--jp-code-font-family);\n",
       "font-size: var(--jp-code-font-size);\n",
       "line-height: var(--jp-code-line-height);\n",
       "\"><span style=\"color: var(--jp-warn-color2)\">distributed.nanny</span> <span style=\"color: var(--jp-info-color0)\">INFO</span>:         Start Nanny at: &#x27;tcp://127.0.0.1:44593&#x27;</pre>"
      ],
      "text/plain": [
       "<IPython.core.display.HTML object>"
      ]
     },
     "metadata": {},
     "output_type": "display_data"
    },
    {
     "data": {
      "text/html": [
       "<pre style=\"margin: 0.1em;\n",
       "padding-left: 0.25em;\n",
       "border-left-style: solid;\n",
       "font-family: var(--jp-code-font-family);\n",
       "font-size: var(--jp-code-font-size);\n",
       "line-height: var(--jp-code-line-height);\n",
       "\"><span style=\"color: var(--jp-warn-color2)\">distributed.scheduler</span> <span style=\"color: var(--jp-info-color0)\">INFO</span>: Register worker &lt;WorkerState &#x27;tcp://127.0.0.1:40761&#x27;, name: 1, status: init, memory: 0, processing: 0&gt;</pre>"
      ],
      "text/plain": [
       "<IPython.core.display.HTML object>"
      ]
     },
     "metadata": {},
     "output_type": "display_data"
    },
    {
     "data": {
      "text/html": [
       "<pre style=\"margin: 0.1em;\n",
       "padding-left: 0.25em;\n",
       "border-left-style: solid;\n",
       "font-family: var(--jp-code-font-family);\n",
       "font-size: var(--jp-code-font-size);\n",
       "line-height: var(--jp-code-line-height);\n",
       "\"><span style=\"color: var(--jp-warn-color2)\">distributed.scheduler</span> <span style=\"color: var(--jp-info-color0)\">INFO</span>: Starting worker compute stream, tcp://127.0.0.1:40761</pre>"
      ],
      "text/plain": [
       "<IPython.core.display.HTML object>"
      ]
     },
     "metadata": {},
     "output_type": "display_data"
    },
    {
     "data": {
      "text/html": [
       "<pre style=\"margin: 0.1em;\n",
       "padding-left: 0.25em;\n",
       "border-left-style: solid;\n",
       "font-family: var(--jp-code-font-family);\n",
       "font-size: var(--jp-code-font-size);\n",
       "line-height: var(--jp-code-line-height);\n",
       "\"><span style=\"color: var(--jp-warn-color2)\">distributed.core</span> <span style=\"color: var(--jp-info-color0)\">INFO</span>: Starting established connection to tcp://127.0.0.1:33934</pre>"
      ],
      "text/plain": [
       "<IPython.core.display.HTML object>"
      ]
     },
     "metadata": {},
     "output_type": "display_data"
    },
    {
     "data": {
      "text/html": [
       "<pre style=\"margin: 0.1em;\n",
       "padding-left: 0.25em;\n",
       "border-left-style: solid;\n",
       "font-family: var(--jp-code-font-family);\n",
       "font-size: var(--jp-code-font-size);\n",
       "line-height: var(--jp-code-line-height);\n",
       "\"><span style=\"color: var(--jp-warn-color2)\">distributed.scheduler</span> <span style=\"color: var(--jp-info-color0)\">INFO</span>: Register worker &lt;WorkerState &#x27;tcp://127.0.0.1:37667&#x27;, name: 3, status: init, memory: 0, processing: 0&gt;</pre>"
      ],
      "text/plain": [
       "<IPython.core.display.HTML object>"
      ]
     },
     "metadata": {},
     "output_type": "display_data"
    },
    {
     "data": {
      "text/html": [
       "<pre style=\"margin: 0.1em;\n",
       "padding-left: 0.25em;\n",
       "border-left-style: solid;\n",
       "font-family: var(--jp-code-font-family);\n",
       "font-size: var(--jp-code-font-size);\n",
       "line-height: var(--jp-code-line-height);\n",
       "\"><span style=\"color: var(--jp-warn-color2)\">distributed.scheduler</span> <span style=\"color: var(--jp-info-color0)\">INFO</span>: Starting worker compute stream, tcp://127.0.0.1:37667</pre>"
      ],
      "text/plain": [
       "<IPython.core.display.HTML object>"
      ]
     },
     "metadata": {},
     "output_type": "display_data"
    },
    {
     "data": {
      "text/html": [
       "<pre style=\"margin: 0.1em;\n",
       "padding-left: 0.25em;\n",
       "border-left-style: solid;\n",
       "font-family: var(--jp-code-font-family);\n",
       "font-size: var(--jp-code-font-size);\n",
       "line-height: var(--jp-code-line-height);\n",
       "\"><span style=\"color: var(--jp-warn-color2)\">distributed.core</span> <span style=\"color: var(--jp-info-color0)\">INFO</span>: Starting established connection to tcp://127.0.0.1:33926</pre>"
      ],
      "text/plain": [
       "<IPython.core.display.HTML object>"
      ]
     },
     "metadata": {},
     "output_type": "display_data"
    },
    {
     "data": {
      "text/html": [
       "<pre style=\"margin: 0.1em;\n",
       "padding-left: 0.25em;\n",
       "border-left-style: solid;\n",
       "font-family: var(--jp-code-font-family);\n",
       "font-size: var(--jp-code-font-size);\n",
       "line-height: var(--jp-code-line-height);\n",
       "\"><span style=\"color: var(--jp-warn-color2)\">distributed.scheduler</span> <span style=\"color: var(--jp-info-color0)\">INFO</span>: Register worker &lt;WorkerState &#x27;tcp://127.0.0.1:43505&#x27;, name: 2, status: init, memory: 0, processing: 0&gt;</pre>"
      ],
      "text/plain": [
       "<IPython.core.display.HTML object>"
      ]
     },
     "metadata": {},
     "output_type": "display_data"
    },
    {
     "data": {
      "text/html": [
       "<pre style=\"margin: 0.1em;\n",
       "padding-left: 0.25em;\n",
       "border-left-style: solid;\n",
       "font-family: var(--jp-code-font-family);\n",
       "font-size: var(--jp-code-font-size);\n",
       "line-height: var(--jp-code-line-height);\n",
       "\"><span style=\"color: var(--jp-warn-color2)\">distributed.scheduler</span> <span style=\"color: var(--jp-info-color0)\">INFO</span>: Starting worker compute stream, tcp://127.0.0.1:43505</pre>"
      ],
      "text/plain": [
       "<IPython.core.display.HTML object>"
      ]
     },
     "metadata": {},
     "output_type": "display_data"
    },
    {
     "data": {
      "text/html": [
       "<pre style=\"margin: 0.1em;\n",
       "padding-left: 0.25em;\n",
       "border-left-style: solid;\n",
       "font-family: var(--jp-code-font-family);\n",
       "font-size: var(--jp-code-font-size);\n",
       "line-height: var(--jp-code-line-height);\n",
       "\"><span style=\"color: var(--jp-warn-color2)\">distributed.core</span> <span style=\"color: var(--jp-info-color0)\">INFO</span>: Starting established connection to tcp://127.0.0.1:33942</pre>"
      ],
      "text/plain": [
       "<IPython.core.display.HTML object>"
      ]
     },
     "metadata": {},
     "output_type": "display_data"
    },
    {
     "data": {
      "text/html": [
       "<pre style=\"margin: 0.1em;\n",
       "padding-left: 0.25em;\n",
       "border-left-style: solid;\n",
       "font-family: var(--jp-code-font-family);\n",
       "font-size: var(--jp-code-font-size);\n",
       "line-height: var(--jp-code-line-height);\n",
       "\"><span style=\"color: var(--jp-warn-color2)\">distributed.scheduler</span> <span style=\"color: var(--jp-info-color0)\">INFO</span>: Register worker &lt;WorkerState &#x27;tcp://127.0.0.1:41965&#x27;, name: 0, status: init, memory: 0, processing: 0&gt;</pre>"
      ],
      "text/plain": [
       "<IPython.core.display.HTML object>"
      ]
     },
     "metadata": {},
     "output_type": "display_data"
    },
    {
     "data": {
      "text/html": [
       "<pre style=\"margin: 0.1em;\n",
       "padding-left: 0.25em;\n",
       "border-left-style: solid;\n",
       "font-family: var(--jp-code-font-family);\n",
       "font-size: var(--jp-code-font-size);\n",
       "line-height: var(--jp-code-line-height);\n",
       "\"><span style=\"color: var(--jp-warn-color2)\">distributed.scheduler</span> <span style=\"color: var(--jp-info-color0)\">INFO</span>: Starting worker compute stream, tcp://127.0.0.1:41965</pre>"
      ],
      "text/plain": [
       "<IPython.core.display.HTML object>"
      ]
     },
     "metadata": {},
     "output_type": "display_data"
    },
    {
     "data": {
      "text/html": [
       "<pre style=\"margin: 0.1em;\n",
       "padding-left: 0.25em;\n",
       "border-left-style: solid;\n",
       "font-family: var(--jp-code-font-family);\n",
       "font-size: var(--jp-code-font-size);\n",
       "line-height: var(--jp-code-line-height);\n",
       "\"><span style=\"color: var(--jp-warn-color2)\">distributed.core</span> <span style=\"color: var(--jp-info-color0)\">INFO</span>: Starting established connection to tcp://127.0.0.1:33954</pre>"
      ],
      "text/plain": [
       "<IPython.core.display.HTML object>"
      ]
     },
     "metadata": {},
     "output_type": "display_data"
    },
    {
     "data": {
      "text/html": [
       "<pre style=\"margin: 0.1em;\n",
       "padding-left: 0.25em;\n",
       "border-left-style: solid;\n",
       "font-family: var(--jp-code-font-family);\n",
       "font-size: var(--jp-code-font-size);\n",
       "line-height: var(--jp-code-line-height);\n",
       "\"><span style=\"color: var(--jp-warn-color2)\">distributed.scheduler</span> <span style=\"color: var(--jp-info-color0)\">INFO</span>: Receive client connection: Client-ebfeea91-c6b6-11ee-a99a-6e8216d1147d</pre>"
      ],
      "text/plain": [
       "<IPython.core.display.HTML object>"
      ]
     },
     "metadata": {},
     "output_type": "display_data"
    },
    {
     "data": {
      "text/html": [
       "<pre style=\"margin: 0.1em;\n",
       "padding-left: 0.25em;\n",
       "border-left-style: solid;\n",
       "font-family: var(--jp-code-font-family);\n",
       "font-size: var(--jp-code-font-size);\n",
       "line-height: var(--jp-code-line-height);\n",
       "\"><span style=\"color: var(--jp-warn-color2)\">distributed.core</span> <span style=\"color: var(--jp-info-color0)\">INFO</span>: Starting established connection to tcp://127.0.0.1:33956</pre>"
      ],
      "text/plain": [
       "<IPython.core.display.HTML object>"
      ]
     },
     "metadata": {},
     "output_type": "display_data"
    }
   ],
   "source": [
    "ens = Ensemble()"
   ]
  },
  {
   "cell_type": "code",
   "execution_count": 28,
   "id": "09be8f42-5cfa-49d5-97ae-6c2705813f0f",
   "metadata": {
    "execution": {
     "iopub.execute_input": "2024-02-08T19:19:21.661696Z",
     "iopub.status.busy": "2024-02-08T19:19:21.660709Z",
     "iopub.status.idle": "2024-02-08T19:19:38.202788Z",
     "shell.execute_reply": "2024-02-08T19:19:38.201859Z",
     "shell.execute_reply.started": "2024-02-08T19:19:21.661665Z"
    }
   },
   "outputs": [
    {
     "name": "stderr",
     "output_type": "stream",
     "text": [
      "/opt/lsst/software/stack/conda/miniconda3-py38_4.9.2/envs/lsst-scipipe-8.0.0/lib/python3.11/site-packages/dask/dataframe/core.py:5446: UserWarning: New index has same name as existing, this is a no-op.\n",
      "  warnings.warn(\n",
      "/home/jcarlin/.local/lib/python3.11/site-packages/tape/ensemble.py:1963: UserWarning: Divisions are not known, syncing using a non-lazy method.\n",
      "  warnings.warn(\"Divisions are not known, syncing using a non-lazy method.\")\n",
      "/opt/lsst/software/stack/conda/miniconda3-py38_4.9.2/envs/lsst-scipipe-8.0.0/lib/python3.11/site-packages/distributed/client.py:3162: UserWarning: Sending large graph of size 1.09 GiB.\n",
      "This may cause some slowdown.\n",
      "Consider scattering data ahead of time and using futures.\n",
      "  warnings.warn(\n",
      "/home/jcarlin/.local/lib/python3.11/site-packages/tape/ensemble.py:1985: UserWarning: Divisions are not known, syncing using a non-lazy method.\n",
      "  warnings.warn(\"Divisions are not known, syncing using a non-lazy method.\")\n",
      "/home/jcarlin/.local/lib/python3.11/site-packages/tape/ensemble.py:1512: UserWarning: Divisions for source are not set, certain downstream dask operations may fail as a result. We recommend setting the `sort` or `sorted` flags when loading data to establish division information.\n",
      "  warnings.warn(\n"
     ]
    },
    {
     "data": {
      "text/plain": [
       "<tape.ensemble.Ensemble at 0x79f4b1506650>"
      ]
     },
     "execution_count": 28,
     "metadata": {},
     "output_type": "execute_result"
    }
   ],
   "source": [
    "column_mapper = ColumnMapper(id_col='objectId', time_col='expMidptMJD', flux_col='psfFlux',\n",
    "                             err_col='psfFluxErr', band_col='band')\n",
    "ens.from_pandas(source_frame=sourceTable_withTime, object_frame=objtable, npartitions=4,\n",
    "                column_mapper=column_mapper)"
   ]
  },
  {
   "cell_type": "code",
   "execution_count": 32,
   "id": "0cda9409-6c66-4bed-a135-58390867eda4",
   "metadata": {
    "execution": {
     "iopub.execute_input": "2024-02-09T21:10:58.145238Z",
     "iopub.status.busy": "2024-02-09T21:10:58.144139Z",
     "iopub.status.idle": "2024-02-09T21:10:58.148764Z",
     "shell.execute_reply": "2024-02-09T21:10:58.148031Z",
     "shell.execute_reply.started": "2024-02-09T21:10:58.145170Z"
    }
   },
   "outputs": [],
   "source": [
    "import light_curve as licu"
   ]
  },
  {
   "cell_type": "code",
   "execution_count": 30,
   "id": "99111e5f-bb71-45b4-9192-be2b922f8ea6",
   "metadata": {
    "execution": {
     "iopub.execute_input": "2024-02-08T19:19:41.623329Z",
     "iopub.status.busy": "2024-02-08T19:19:41.622418Z",
     "iopub.status.idle": "2024-02-08T19:19:41.662104Z",
     "shell.execute_reply": "2024-02-08T19:19:41.661402Z",
     "shell.execute_reply.started": "2024-02-08T19:19:41.623301Z"
    }
   },
   "outputs": [
    {
     "name": "stdout",
     "output_type": "stream",
     "text": [
      "Using generated label, result_1, for a batch result.\n"
     ]
    }
   ],
   "source": [
    "otsu_features = ens.batch(licu.OtsuSplit(), band_to_calc='g', use_map=False)"
   ]
  },
  {
   "cell_type": "code",
   "execution_count": 31,
   "id": "fa1a52e9-c67b-4df5-bad4-b6a8692a80d6",
   "metadata": {
    "execution": {
     "iopub.execute_input": "2024-02-08T19:19:43.103557Z",
     "iopub.status.busy": "2024-02-08T19:19:43.103213Z",
     "iopub.status.idle": "2024-02-08T19:19:57.557925Z",
     "shell.execute_reply": "2024-02-08T19:19:57.557210Z",
     "shell.execute_reply.started": "2024-02-08T19:19:43.103533Z"
    }
   },
   "outputs": [
    {
     "data": {
      "text/html": [
       "<pre style=\"margin: 0.1em;\n",
       "padding-left: 0.25em;\n",
       "border-left-style: solid;\n",
       "font-family: var(--jp-code-font-family);\n",
       "font-size: var(--jp-code-font-size);\n",
       "line-height: var(--jp-code-line-height);\n",
       "\"><span style=\"color: var(--jp-warn-color2)\">distributed.shuffle._scheduler_plugin</span> <span style=\"color: var(--jp-warn-color0)\">WARNING</span>: Shuffle 8583d0c56d1ce63051be687c73f0d3f7 initialized by task (&#x27;shuffle-transfer-8583d0c56d1ce63051be687c73f0d3f7&#x27;, 0) executed on worker tcp://127.0.0.1:43505</pre>"
      ],
      "text/plain": [
       "<IPython.core.display.HTML object>"
      ]
     },
     "metadata": {},
     "output_type": "display_data"
    },
    {
     "data": {
      "text/html": [
       "<pre style=\"margin: 0.1em;\n",
       "padding-left: 0.25em;\n",
       "border-left-style: solid;\n",
       "font-family: var(--jp-code-font-family);\n",
       "font-size: var(--jp-code-font-size);\n",
       "line-height: var(--jp-code-line-height);\n",
       "\"><span style=\"color: var(--jp-warn-color2)\">distributed.shuffle._scheduler_plugin</span> <span style=\"color: var(--jp-warn-color0)\">WARNING</span>: Shuffle 8583d0c56d1ce63051be687c73f0d3f7 deactivated due to stimulus &#x27;task-finished-1707419989.8293233&#x27;</pre>"
      ],
      "text/plain": [
       "<IPython.core.display.HTML object>"
      ]
     },
     "metadata": {},
     "output_type": "display_data"
    },
    {
     "data": {
      "text/html": [
       "<div>\n",
       "<style scoped>\n",
       "    .dataframe tbody tr th:only-of-type {\n",
       "        vertical-align: middle;\n",
       "    }\n",
       "\n",
       "    .dataframe tbody tr th {\n",
       "        vertical-align: top;\n",
       "    }\n",
       "\n",
       "    .dataframe thead th {\n",
       "        text-align: right;\n",
       "    }\n",
       "</style>\n",
       "<table border=\"1\" class=\"dataframe\">\n",
       "  <thead>\n",
       "    <tr style=\"text-align: right;\">\n",
       "      <th></th>\n",
       "      <th>otsu_mean_diff</th>\n",
       "      <th>otsu_std_lower</th>\n",
       "      <th>otsu_std_upper</th>\n",
       "      <th>otsu_lower_to_all_ratio</th>\n",
       "    </tr>\n",
       "    <tr>\n",
       "      <th>objectId</th>\n",
       "      <th></th>\n",
       "      <th></th>\n",
       "      <th></th>\n",
       "      <th></th>\n",
       "    </tr>\n",
       "  </thead>\n",
       "  <tbody>\n",
       "    <tr>\n",
       "      <th>1649927148640665601</th>\n",
       "      <td>395.718303</td>\n",
       "      <td>137.993112</td>\n",
       "      <td>149.463054</td>\n",
       "      <td>0.384615</td>\n",
       "    </tr>\n",
       "    <tr>\n",
       "      <th>1649927148640665602</th>\n",
       "      <td>148.898756</td>\n",
       "      <td>44.208550</td>\n",
       "      <td>57.413679</td>\n",
       "      <td>0.600000</td>\n",
       "    </tr>\n",
       "    <tr>\n",
       "      <th>1649927148640665603</th>\n",
       "      <td>133.357454</td>\n",
       "      <td>40.979675</td>\n",
       "      <td>54.307713</td>\n",
       "      <td>0.550000</td>\n",
       "    </tr>\n",
       "    <tr>\n",
       "      <th>1649927148640665604</th>\n",
       "      <td>211.564265</td>\n",
       "      <td>76.367656</td>\n",
       "      <td>57.299600</td>\n",
       "      <td>0.146341</td>\n",
       "    </tr>\n",
       "    <tr>\n",
       "      <th>1649927148640665605</th>\n",
       "      <td>192.611612</td>\n",
       "      <td>63.681891</td>\n",
       "      <td>61.279205</td>\n",
       "      <td>0.780488</td>\n",
       "    </tr>\n",
       "    <tr>\n",
       "      <th>...</th>\n",
       "      <td>...</td>\n",
       "      <td>...</td>\n",
       "      <td>...</td>\n",
       "      <td>...</td>\n",
       "    </tr>\n",
       "    <tr>\n",
       "      <th>1649927148640719739</th>\n",
       "      <td>147.778925</td>\n",
       "      <td>47.990956</td>\n",
       "      <td>67.104367</td>\n",
       "      <td>0.560976</td>\n",
       "    </tr>\n",
       "    <tr>\n",
       "      <th>1649927148640719740</th>\n",
       "      <td>127.535266</td>\n",
       "      <td>47.758302</td>\n",
       "      <td>55.368316</td>\n",
       "      <td>0.487179</td>\n",
       "    </tr>\n",
       "    <tr>\n",
       "      <th>1649927148640719741</th>\n",
       "      <td>128.582067</td>\n",
       "      <td>51.083263</td>\n",
       "      <td>47.367398</td>\n",
       "      <td>0.560976</td>\n",
       "    </tr>\n",
       "    <tr>\n",
       "      <th>1649927148640719742</th>\n",
       "      <td>119.581192</td>\n",
       "      <td>58.957776</td>\n",
       "      <td>41.110687</td>\n",
       "      <td>0.405405</td>\n",
       "    </tr>\n",
       "    <tr>\n",
       "      <th>1649927148640719743</th>\n",
       "      <td>155.150634</td>\n",
       "      <td>44.535124</td>\n",
       "      <td>61.759070</td>\n",
       "      <td>0.552632</td>\n",
       "    </tr>\n",
       "  </tbody>\n",
       "</table>\n",
       "<p>39773 rows × 4 columns</p>\n",
       "</div>"
      ],
      "text/plain": [
       "                     otsu_mean_diff  otsu_std_lower  otsu_std_upper  \\\n",
       "objectId                                                              \n",
       "1649927148640665601      395.718303      137.993112      149.463054   \n",
       "1649927148640665602      148.898756       44.208550       57.413679   \n",
       "1649927148640665603      133.357454       40.979675       54.307713   \n",
       "1649927148640665604      211.564265       76.367656       57.299600   \n",
       "1649927148640665605      192.611612       63.681891       61.279205   \n",
       "...                             ...             ...             ...   \n",
       "1649927148640719739      147.778925       47.990956       67.104367   \n",
       "1649927148640719740      127.535266       47.758302       55.368316   \n",
       "1649927148640719741      128.582067       51.083263       47.367398   \n",
       "1649927148640719742      119.581192       58.957776       41.110687   \n",
       "1649927148640719743      155.150634       44.535124       61.759070   \n",
       "\n",
       "                     otsu_lower_to_all_ratio  \n",
       "objectId                                      \n",
       "1649927148640665601                 0.384615  \n",
       "1649927148640665602                 0.600000  \n",
       "1649927148640665603                 0.550000  \n",
       "1649927148640665604                 0.146341  \n",
       "1649927148640665605                 0.780488  \n",
       "...                                      ...  \n",
       "1649927148640719739                 0.560976  \n",
       "1649927148640719740                 0.487179  \n",
       "1649927148640719741                 0.560976  \n",
       "1649927148640719742                 0.405405  \n",
       "1649927148640719743                 0.552632  \n",
       "\n",
       "[39773 rows x 4 columns]"
      ]
     },
     "execution_count": 31,
     "metadata": {},
     "output_type": "execute_result"
    }
   ],
   "source": [
    "otsu_features.compute()"
   ]
  },
  {
   "cell_type": "code",
   "execution_count": 28,
   "id": "afa0cecb-faeb-40e9-925b-ca7810c4a77a",
   "metadata": {
    "execution": {
     "iopub.execute_input": "2024-02-07T20:25:24.546274Z",
     "iopub.status.busy": "2024-02-07T20:25:24.545676Z",
     "iopub.status.idle": "2024-02-07T20:25:24.594241Z",
     "shell.execute_reply": "2024-02-07T20:25:24.593392Z",
     "shell.execute_reply.started": "2024-02-07T20:25:24.546249Z"
    }
   },
   "outputs": [
    {
     "data": {
      "text/html": [
       "<div>\n",
       "<style scoped>\n",
       "    .dataframe tbody tr th:only-of-type {\n",
       "        vertical-align: middle;\n",
       "    }\n",
       "\n",
       "    .dataframe tbody tr th {\n",
       "        vertical-align: top;\n",
       "    }\n",
       "\n",
       "    .dataframe thead th {\n",
       "        text-align: right;\n",
       "    }\n",
       "</style>\n",
       "<table border=\"1\" class=\"dataframe\">\n",
       "  <thead>\n",
       "    <tr style=\"text-align: right;\">\n",
       "      <th></th>\n",
       "      <th>coord_ra</th>\n",
       "      <th>coord_dec</th>\n",
       "      <th>psfFlux</th>\n",
       "      <th>psfFluxErr</th>\n",
       "      <th>ccdVisitId</th>\n",
       "      <th>band_caller</th>\n",
       "      <th>visitId</th>\n",
       "      <th>physical_filter</th>\n",
       "      <th>band_other</th>\n",
       "      <th>ra</th>\n",
       "      <th>...</th>\n",
       "      <th>xSize</th>\n",
       "      <th>ySize</th>\n",
       "      <th>llcra</th>\n",
       "      <th>llcdec</th>\n",
       "      <th>ulcra</th>\n",
       "      <th>ulcdec</th>\n",
       "      <th>urcra</th>\n",
       "      <th>urcdec</th>\n",
       "      <th>lrcra</th>\n",
       "      <th>lrcdec</th>\n",
       "    </tr>\n",
       "    <tr>\n",
       "      <th>objectId</th>\n",
       "      <th></th>\n",
       "      <th></th>\n",
       "      <th></th>\n",
       "      <th></th>\n",
       "      <th></th>\n",
       "      <th></th>\n",
       "      <th></th>\n",
       "      <th></th>\n",
       "      <th></th>\n",
       "      <th></th>\n",
       "      <th></th>\n",
       "      <th></th>\n",
       "      <th></th>\n",
       "      <th></th>\n",
       "      <th></th>\n",
       "      <th></th>\n",
       "      <th></th>\n",
       "      <th></th>\n",
       "      <th></th>\n",
       "      <th></th>\n",
       "      <th></th>\n",
       "    </tr>\n",
       "  </thead>\n",
       "  <tbody>\n",
       "    <tr>\n",
       "      <th>1649927148640665603</th>\n",
       "      <td>56.766040</td>\n",
       "      <td>-37.223510</td>\n",
       "      <td>-72.211329</td>\n",
       "      <td>71.863728</td>\n",
       "      <td>1154197065</td>\n",
       "      <td>g</td>\n",
       "      <td>1154197</td>\n",
       "      <td>g_sim_1.4</td>\n",
       "      <td>g</td>\n",
       "      <td>56.637288</td>\n",
       "      <td>...</td>\n",
       "      <td>4071</td>\n",
       "      <td>3999</td>\n",
       "      <td>56.568334</td>\n",
       "      <td>-37.298837</td>\n",
       "      <td>56.452562</td>\n",
       "      <td>-37.09292</td>\n",
       "      <td>56.706002</td>\n",
       "      <td>-37.001598</td>\n",
       "      <td>56.822406</td>\n",
       "      <td>-37.207277</td>\n",
       "    </tr>\n",
       "    <tr>\n",
       "      <th>1649927148640665604</th>\n",
       "      <td>56.761784</td>\n",
       "      <td>-37.223569</td>\n",
       "      <td>144.014276</td>\n",
       "      <td>73.247223</td>\n",
       "      <td>1154197065</td>\n",
       "      <td>g</td>\n",
       "      <td>1154197</td>\n",
       "      <td>g_sim_1.4</td>\n",
       "      <td>g</td>\n",
       "      <td>56.637288</td>\n",
       "      <td>...</td>\n",
       "      <td>4071</td>\n",
       "      <td>3999</td>\n",
       "      <td>56.568334</td>\n",
       "      <td>-37.298837</td>\n",
       "      <td>56.452562</td>\n",
       "      <td>-37.09292</td>\n",
       "      <td>56.706002</td>\n",
       "      <td>-37.001598</td>\n",
       "      <td>56.822406</td>\n",
       "      <td>-37.207277</td>\n",
       "    </tr>\n",
       "    <tr>\n",
       "      <th>1649927148640665605</th>\n",
       "      <td>56.755506</td>\n",
       "      <td>-37.223464</td>\n",
       "      <td>752.371726</td>\n",
       "      <td>76.601724</td>\n",
       "      <td>1154197065</td>\n",
       "      <td>g</td>\n",
       "      <td>1154197</td>\n",
       "      <td>g_sim_1.4</td>\n",
       "      <td>g</td>\n",
       "      <td>56.637288</td>\n",
       "      <td>...</td>\n",
       "      <td>4071</td>\n",
       "      <td>3999</td>\n",
       "      <td>56.568334</td>\n",
       "      <td>-37.298837</td>\n",
       "      <td>56.452562</td>\n",
       "      <td>-37.09292</td>\n",
       "      <td>56.706002</td>\n",
       "      <td>-37.001598</td>\n",
       "      <td>56.822406</td>\n",
       "      <td>-37.207277</td>\n",
       "    </tr>\n",
       "    <tr>\n",
       "      <th>1649927148640665607</th>\n",
       "      <td>56.735204</td>\n",
       "      <td>-37.222980</td>\n",
       "      <td>81.080547</td>\n",
       "      <td>72.858196</td>\n",
       "      <td>1154197065</td>\n",
       "      <td>g</td>\n",
       "      <td>1154197</td>\n",
       "      <td>g_sim_1.4</td>\n",
       "      <td>g</td>\n",
       "      <td>56.637288</td>\n",
       "      <td>...</td>\n",
       "      <td>4071</td>\n",
       "      <td>3999</td>\n",
       "      <td>56.568334</td>\n",
       "      <td>-37.298837</td>\n",
       "      <td>56.452562</td>\n",
       "      <td>-37.09292</td>\n",
       "      <td>56.706002</td>\n",
       "      <td>-37.001598</td>\n",
       "      <td>56.822406</td>\n",
       "      <td>-37.207277</td>\n",
       "    </tr>\n",
       "    <tr>\n",
       "      <th>1649927148640665608</th>\n",
       "      <td>56.727461</td>\n",
       "      <td>-37.223597</td>\n",
       "      <td>-79.685723</td>\n",
       "      <td>72.273233</td>\n",
       "      <td>1154197065</td>\n",
       "      <td>g</td>\n",
       "      <td>1154197</td>\n",
       "      <td>g_sim_1.4</td>\n",
       "      <td>g</td>\n",
       "      <td>56.637288</td>\n",
       "      <td>...</td>\n",
       "      <td>4071</td>\n",
       "      <td>3999</td>\n",
       "      <td>56.568334</td>\n",
       "      <td>-37.298837</td>\n",
       "      <td>56.452562</td>\n",
       "      <td>-37.09292</td>\n",
       "      <td>56.706002</td>\n",
       "      <td>-37.001598</td>\n",
       "      <td>56.822406</td>\n",
       "      <td>-37.207277</td>\n",
       "    </tr>\n",
       "    <tr>\n",
       "      <th>...</th>\n",
       "      <td>...</td>\n",
       "      <td>...</td>\n",
       "      <td>...</td>\n",
       "      <td>...</td>\n",
       "      <td>...</td>\n",
       "      <td>...</td>\n",
       "      <td>...</td>\n",
       "      <td>...</td>\n",
       "      <td>...</td>\n",
       "      <td>...</td>\n",
       "      <td>...</td>\n",
       "      <td>...</td>\n",
       "      <td>...</td>\n",
       "      <td>...</td>\n",
       "      <td>...</td>\n",
       "      <td>...</td>\n",
       "      <td>...</td>\n",
       "      <td>...</td>\n",
       "      <td>...</td>\n",
       "      <td>...</td>\n",
       "      <td>...</td>\n",
       "    </tr>\n",
       "    <tr>\n",
       "      <th>1649927148640665735</th>\n",
       "      <td>56.597783</td>\n",
       "      <td>-37.221377</td>\n",
       "      <td>4.327692</td>\n",
       "      <td>73.411160</td>\n",
       "      <td>1154197065</td>\n",
       "      <td>g</td>\n",
       "      <td>1154197</td>\n",
       "      <td>g_sim_1.4</td>\n",
       "      <td>g</td>\n",
       "      <td>56.637288</td>\n",
       "      <td>...</td>\n",
       "      <td>4071</td>\n",
       "      <td>3999</td>\n",
       "      <td>56.568334</td>\n",
       "      <td>-37.298837</td>\n",
       "      <td>56.452562</td>\n",
       "      <td>-37.09292</td>\n",
       "      <td>56.706002</td>\n",
       "      <td>-37.001598</td>\n",
       "      <td>56.822406</td>\n",
       "      <td>-37.207277</td>\n",
       "    </tr>\n",
       "    <tr>\n",
       "      <th>1649927148640665736</th>\n",
       "      <td>56.694428</td>\n",
       "      <td>-37.220976</td>\n",
       "      <td>369.254412</td>\n",
       "      <td>74.895559</td>\n",
       "      <td>1154197065</td>\n",
       "      <td>g</td>\n",
       "      <td>1154197</td>\n",
       "      <td>g_sim_1.4</td>\n",
       "      <td>g</td>\n",
       "      <td>56.637288</td>\n",
       "      <td>...</td>\n",
       "      <td>4071</td>\n",
       "      <td>3999</td>\n",
       "      <td>56.568334</td>\n",
       "      <td>-37.298837</td>\n",
       "      <td>56.452562</td>\n",
       "      <td>-37.09292</td>\n",
       "      <td>56.706002</td>\n",
       "      <td>-37.001598</td>\n",
       "      <td>56.822406</td>\n",
       "      <td>-37.207277</td>\n",
       "    </tr>\n",
       "    <tr>\n",
       "      <th>1649927148640665737</th>\n",
       "      <td>56.663270</td>\n",
       "      <td>-37.221298</td>\n",
       "      <td>222.916598</td>\n",
       "      <td>74.417111</td>\n",
       "      <td>1154197065</td>\n",
       "      <td>g</td>\n",
       "      <td>1154197</td>\n",
       "      <td>g_sim_1.4</td>\n",
       "      <td>g</td>\n",
       "      <td>56.637288</td>\n",
       "      <td>...</td>\n",
       "      <td>4071</td>\n",
       "      <td>3999</td>\n",
       "      <td>56.568334</td>\n",
       "      <td>-37.298837</td>\n",
       "      <td>56.452562</td>\n",
       "      <td>-37.09292</td>\n",
       "      <td>56.706002</td>\n",
       "      <td>-37.001598</td>\n",
       "      <td>56.822406</td>\n",
       "      <td>-37.207277</td>\n",
       "    </tr>\n",
       "    <tr>\n",
       "      <th>1649927148640665739</th>\n",
       "      <td>56.692888</td>\n",
       "      <td>-37.221327</td>\n",
       "      <td>49.965620</td>\n",
       "      <td>73.247490</td>\n",
       "      <td>1154197065</td>\n",
       "      <td>g</td>\n",
       "      <td>1154197</td>\n",
       "      <td>g_sim_1.4</td>\n",
       "      <td>g</td>\n",
       "      <td>56.637288</td>\n",
       "      <td>...</td>\n",
       "      <td>4071</td>\n",
       "      <td>3999</td>\n",
       "      <td>56.568334</td>\n",
       "      <td>-37.298837</td>\n",
       "      <td>56.452562</td>\n",
       "      <td>-37.09292</td>\n",
       "      <td>56.706002</td>\n",
       "      <td>-37.001598</td>\n",
       "      <td>56.822406</td>\n",
       "      <td>-37.207277</td>\n",
       "    </tr>\n",
       "    <tr>\n",
       "      <th>1649927148640665740</th>\n",
       "      <td>56.601655</td>\n",
       "      <td>-37.221071</td>\n",
       "      <td>306.576495</td>\n",
       "      <td>75.040224</td>\n",
       "      <td>1154197065</td>\n",
       "      <td>g</td>\n",
       "      <td>1154197</td>\n",
       "      <td>g_sim_1.4</td>\n",
       "      <td>g</td>\n",
       "      <td>56.637288</td>\n",
       "      <td>...</td>\n",
       "      <td>4071</td>\n",
       "      <td>3999</td>\n",
       "      <td>56.568334</td>\n",
       "      <td>-37.298837</td>\n",
       "      <td>56.452562</td>\n",
       "      <td>-37.09292</td>\n",
       "      <td>56.706002</td>\n",
       "      <td>-37.001598</td>\n",
       "      <td>56.822406</td>\n",
       "      <td>-37.207277</td>\n",
       "    </tr>\n",
       "  </tbody>\n",
       "</table>\n",
       "<p>100 rows × 35 columns</p>\n",
       "</div>"
      ],
      "text/plain": [
       "                      coord_ra  coord_dec     psfFlux  psfFluxErr  ccdVisitId  \\\n",
       "objectId                                                                        \n",
       "1649927148640665603  56.766040 -37.223510  -72.211329   71.863728  1154197065   \n",
       "1649927148640665604  56.761784 -37.223569  144.014276   73.247223  1154197065   \n",
       "1649927148640665605  56.755506 -37.223464  752.371726   76.601724  1154197065   \n",
       "1649927148640665607  56.735204 -37.222980   81.080547   72.858196  1154197065   \n",
       "1649927148640665608  56.727461 -37.223597  -79.685723   72.273233  1154197065   \n",
       "...                        ...        ...         ...         ...         ...   \n",
       "1649927148640665735  56.597783 -37.221377    4.327692   73.411160  1154197065   \n",
       "1649927148640665736  56.694428 -37.220976  369.254412   74.895559  1154197065   \n",
       "1649927148640665737  56.663270 -37.221298  222.916598   74.417111  1154197065   \n",
       "1649927148640665739  56.692888 -37.221327   49.965620   73.247490  1154197065   \n",
       "1649927148640665740  56.601655 -37.221071  306.576495   75.040224  1154197065   \n",
       "\n",
       "                    band_caller  visitId physical_filter band_other  \\\n",
       "objectId                                                              \n",
       "1649927148640665603           g  1154197       g_sim_1.4          g   \n",
       "1649927148640665604           g  1154197       g_sim_1.4          g   \n",
       "1649927148640665605           g  1154197       g_sim_1.4          g   \n",
       "1649927148640665607           g  1154197       g_sim_1.4          g   \n",
       "1649927148640665608           g  1154197       g_sim_1.4          g   \n",
       "...                         ...      ...             ...        ...   \n",
       "1649927148640665735           g  1154197       g_sim_1.4          g   \n",
       "1649927148640665736           g  1154197       g_sim_1.4          g   \n",
       "1649927148640665737           g  1154197       g_sim_1.4          g   \n",
       "1649927148640665739           g  1154197       g_sim_1.4          g   \n",
       "1649927148640665740           g  1154197       g_sim_1.4          g   \n",
       "\n",
       "                            ra  ...  xSize  ySize      llcra     llcdec  \\\n",
       "objectId                        ...                                       \n",
       "1649927148640665603  56.637288  ...   4071   3999  56.568334 -37.298837   \n",
       "1649927148640665604  56.637288  ...   4071   3999  56.568334 -37.298837   \n",
       "1649927148640665605  56.637288  ...   4071   3999  56.568334 -37.298837   \n",
       "1649927148640665607  56.637288  ...   4071   3999  56.568334 -37.298837   \n",
       "1649927148640665608  56.637288  ...   4071   3999  56.568334 -37.298837   \n",
       "...                        ...  ...    ...    ...        ...        ...   \n",
       "1649927148640665735  56.637288  ...   4071   3999  56.568334 -37.298837   \n",
       "1649927148640665736  56.637288  ...   4071   3999  56.568334 -37.298837   \n",
       "1649927148640665737  56.637288  ...   4071   3999  56.568334 -37.298837   \n",
       "1649927148640665739  56.637288  ...   4071   3999  56.568334 -37.298837   \n",
       "1649927148640665740  56.637288  ...   4071   3999  56.568334 -37.298837   \n",
       "\n",
       "                         ulcra    ulcdec      urcra     urcdec      lrcra  \\\n",
       "objectId                                                                    \n",
       "1649927148640665603  56.452562 -37.09292  56.706002 -37.001598  56.822406   \n",
       "1649927148640665604  56.452562 -37.09292  56.706002 -37.001598  56.822406   \n",
       "1649927148640665605  56.452562 -37.09292  56.706002 -37.001598  56.822406   \n",
       "1649927148640665607  56.452562 -37.09292  56.706002 -37.001598  56.822406   \n",
       "1649927148640665608  56.452562 -37.09292  56.706002 -37.001598  56.822406   \n",
       "...                        ...       ...        ...        ...        ...   \n",
       "1649927148640665735  56.452562 -37.09292  56.706002 -37.001598  56.822406   \n",
       "1649927148640665736  56.452562 -37.09292  56.706002 -37.001598  56.822406   \n",
       "1649927148640665737  56.452562 -37.09292  56.706002 -37.001598  56.822406   \n",
       "1649927148640665739  56.452562 -37.09292  56.706002 -37.001598  56.822406   \n",
       "1649927148640665740  56.452562 -37.09292  56.706002 -37.001598  56.822406   \n",
       "\n",
       "                        lrcdec  \n",
       "objectId                        \n",
       "1649927148640665603 -37.207277  \n",
       "1649927148640665604 -37.207277  \n",
       "1649927148640665605 -37.207277  \n",
       "1649927148640665607 -37.207277  \n",
       "1649927148640665608 -37.207277  \n",
       "...                        ...  \n",
       "1649927148640665735 -37.207277  \n",
       "1649927148640665736 -37.207277  \n",
       "1649927148640665737 -37.207277  \n",
       "1649927148640665739 -37.207277  \n",
       "1649927148640665740 -37.207277  \n",
       "\n",
       "[100 rows x 35 columns]"
      ]
     },
     "execution_count": 28,
     "metadata": {},
     "output_type": "execute_result"
    }
   ],
   "source": [
    "ens.source.head(100)"
   ]
  },
  {
   "cell_type": "code",
   "execution_count": 37,
   "id": "0ad82d5c-0fa4-4375-8508-fcffe8a0b2da",
   "metadata": {
    "execution": {
     "iopub.execute_input": "2024-02-09T21:13:33.915509Z",
     "iopub.status.busy": "2024-02-09T21:13:33.915154Z",
     "iopub.status.idle": "2024-02-09T21:13:33.923491Z",
     "shell.execute_reply": "2024-02-09T21:13:33.922525Z",
     "shell.execute_reply.started": "2024-02-09T21:13:33.915482Z"
    }
   },
   "outputs": [
    {
     "data": {
      "text/plain": [
       "\u001b[0;31mInit signature:\u001b[0m\n",
       "\u001b[0mlicu\u001b[0m\u001b[0;34m.\u001b[0m\u001b[0mPeriodogram\u001b[0m\u001b[0;34m(\u001b[0m\u001b[0;34m\u001b[0m\n",
       "\u001b[0;34m\u001b[0m    \u001b[0mpeaks\u001b[0m\u001b[0;34m=\u001b[0m\u001b[0mEllipsis\u001b[0m\u001b[0;34m,\u001b[0m\u001b[0;34m\u001b[0m\n",
       "\u001b[0;34m\u001b[0m    \u001b[0mresolution\u001b[0m\u001b[0;34m=\u001b[0m\u001b[0mEllipsis\u001b[0m\u001b[0;34m,\u001b[0m\u001b[0;34m\u001b[0m\n",
       "\u001b[0;34m\u001b[0m    \u001b[0mmax_freq_factor\u001b[0m\u001b[0;34m=\u001b[0m\u001b[0mEllipsis\u001b[0m\u001b[0;34m,\u001b[0m\u001b[0;34m\u001b[0m\n",
       "\u001b[0;34m\u001b[0m    \u001b[0mnyquist\u001b[0m\u001b[0;34m=\u001b[0m\u001b[0;34m'average'\u001b[0m\u001b[0;34m,\u001b[0m\u001b[0;34m\u001b[0m\n",
       "\u001b[0;34m\u001b[0m    \u001b[0mfast\u001b[0m\u001b[0;34m=\u001b[0m\u001b[0;32mTrue\u001b[0m\u001b[0;34m,\u001b[0m\u001b[0;34m\u001b[0m\n",
       "\u001b[0;34m\u001b[0m    \u001b[0mfeatures\u001b[0m\u001b[0;34m=\u001b[0m\u001b[0;32mNone\u001b[0m\u001b[0;34m,\u001b[0m\u001b[0;34m\u001b[0m\n",
       "\u001b[0;34m\u001b[0m    \u001b[0mtransform\u001b[0m\u001b[0;34m=\u001b[0m\u001b[0;32mNone\u001b[0m\u001b[0;34m,\u001b[0m\u001b[0;34m\u001b[0m\n",
       "\u001b[0;34m\u001b[0m\u001b[0;34m)\u001b[0m\u001b[0;34m\u001b[0m\u001b[0;34m\u001b[0m\u001b[0m\n",
       "\u001b[0;31mDocstring:\u001b[0m     \n",
       "Peaks of Lomb–Scargle periodogram and periodogram as a meta-feature\n",
       "\n",
       "Periodogram $P(\\omega)$ is an estimate of spectral density of unevenly time series. `peaks` argument\n",
       "corresponds to a number of the most significant spectral density peaks to return. For each peak its\n",
       "period and \"signal to noise\" ratio is returned:\n",
       "\n",
       "$$\n",
       "\\mathrm{signal~to~noise~of~peak} \\equiv \\frac{P(\\omega_\\mathrm{peak}) - \\langle P(\\omega) \\rangle}{\\sigma\\_{P(\\omega)}}.\n",
       "$$\n",
       "\n",
       "[Periodogram] can accept other features for feature extraction from periodogram as it was time\n",
       "series without observation errors (unity weights are used if required). You can even pass one\n",
       "[Periodogram] to another one if you are crazy enough\n",
       "\n",
       "- Depends on: **time**, **magnitude**\n",
       "- Minimum number of observations: as required by sub-features, but at least two\n",
       "- Number of features: **$2 \\times \\mathrm{peaks}$** plus sub-features\n",
       "\n",
       "Parameters\n",
       "----------\n",
       "peaks : int or None, optional\n",
       "    Number of peaks to find, default is 1\n",
       "resolution : float or None, optional\n",
       "    Resolution of frequency grid, default is 10\n",
       "max_freq_factor : float or None, optional\n",
       "    Mulitplier for Nyquist frequency, default is 1\n",
       "nyquist : str or float or None, optional\n",
       "    Type of Nyquist frequency. Could be one of:\n",
       "     - 'average': \"Average\" Nyquist frequency\n",
       "     - 'median': Nyquist frequency is defined by median time interval\n",
       "        between observations\n",
       "     - float: Nyquist frequency is defined by given quantile of time\n",
       "        intervals between observations\n",
       "    Default is 'average'\n",
       "fast : bool or None, optional\n",
       "    Use \"Fast\" (approximate and FFT-based) or direct periodogram algorithm,\n",
       "    default is True\n",
       "features : iterable or None, optional\n",
       "    Features to extract from periodogram considering it as a time-series,\n",
       "    default is None which means no additional features\n",
       "    Features to extract from periodogram considering it as a time-series\n",
       "transform : None, optional\n",
       "    Not supported for Periodogram, peaks are not transformed, but you still\n",
       "    may apply transformation for the underlying features with thier\n",
       "    constructors\n",
       "\n",
       "Attributes\n",
       "----------\n",
       "names : list of str\n",
       "    Feature names\n",
       "descriptions : list of str\n",
       "    Feature descriptions\n",
       "freq_power(t, m)\n",
       "    Get periodogram\n",
       "\n",
       "    Parameters\n",
       "    ----------\n",
       "    t : np.ndarray of np.float32 or np.float64\n",
       "        Time array\n",
       "    m : np.ndarray of np.float32 or np.float64\n",
       "        Magnitude (flux) array\n",
       "\n",
       "    Returns\n",
       "    -------\n",
       "    freq : np.ndarray of np.float32 or np.float64\n",
       "        Frequency grid\n",
       "    power : np.ndarray of np.float32 or np.float64\n",
       "        Periodogram power\n",
       "\n",
       "Examples\n",
       "--------\n",
       ">>> import numpy as np\n",
       ">>> from light_curve import Periodogram\n",
       ">>> periodogram = Periodogram(peaks=2, resolution=20.0, max_freq_factor=2.0,\n",
       "...                           nyquist='average', fast=True)\n",
       ">>> t = np.linspace(0, 10, 101)\n",
       ">>> m = np.sin(2*np.pi * t / 0.7) + 0.5 * np.cos(2*np.pi * t / 3.3)\n",
       ">>> peaks = periodogram(t, m, sorted=True)[::2]\n",
       ">>> frequency, power = periodogram.freq_power(t, m)\n",
       "\u001b[0;31mFile:\u001b[0m           ~/.local/lib/python3.11/site-packages/light_curve/light_curve_ext.py\n",
       "\u001b[0;31mType:\u001b[0m           type\n",
       "\u001b[0;31mSubclasses:\u001b[0m     "
      ]
     },
     "metadata": {},
     "output_type": "display_data"
    }
   ],
   "source": [
    "licu.Periodogram?"
   ]
  },
  {
   "cell_type": "code",
   "execution_count": null,
   "id": "0988052c-d1e0-44a8-b7b8-d14a11cab41e",
   "metadata": {},
   "outputs": [],
   "source": []
  }
 ],
 "metadata": {
  "kernelspec": {
   "display_name": "LSST",
   "language": "python",
   "name": "lsst"
  },
  "language_info": {
   "codemirror_mode": {
    "name": "ipython",
    "version": 3
   },
   "file_extension": ".py",
   "mimetype": "text/x-python",
   "name": "python",
   "nbconvert_exporter": "python",
   "pygments_lexer": "ipython3",
   "version": "3.11.7"
  }
 },
 "nbformat": 4,
 "nbformat_minor": 5
}
