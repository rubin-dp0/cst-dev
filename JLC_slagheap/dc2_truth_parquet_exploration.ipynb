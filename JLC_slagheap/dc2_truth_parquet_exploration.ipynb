{
 "cells": [
  {
   "cell_type": "code",
   "execution_count": 13,
   "id": "536bdd6e-de32-45c7-933e-d72a0d6b2d52",
   "metadata": {},
   "outputs": [],
   "source": [
    "import pandas as pd\n",
    "import matplotlib.pyplot as plt\n",
    "from astropy.table import Table\n",
    "import numpy as np\n",
    "import pyarrow.parquet as pq\n"
   ]
  },
  {
   "cell_type": "code",
   "execution_count": 1,
   "id": "208d21c5-10d4-484a-a9a4-e4ad2f4032f9",
   "metadata": {},
   "outputs": [],
   "source": [
    "stars_path = '/project/jchiang/Run2.2i/truth/stars/'\n",
    "sne_path = '/project/jchiang/Run2.2i/truth/SNe/'"
   ]
  },
  {
   "cell_type": "markdown",
   "id": "fe10f6dd-7710-4308-a5e1-0251cab3dec0",
   "metadata": {},
   "source": [
    "Before reading the files, check out the schema. See also the [DESC DC2 Data Release Note](https://arxiv.org/abs/2101.04855) for schema info (in appendices)."
   ]
  },
  {
   "cell_type": "code",
   "execution_count": 5,
   "id": "08146e03-11c0-4313-ad08-92d36c210a9f",
   "metadata": {},
   "outputs": [
    {
     "name": "stderr",
     "output_type": "stream",
     "text": [
      "WARNING: No table::len::model found in metadata. Guessing {strlen} for schema. [astropy.io.misc.parquet]\n"
     ]
    },
    {
     "data": {
      "text/html": [
       "<pre style=\"margin: 0.1em;\n",
       "padding-left: 0.25em;\n",
       "border-left-style: solid;\n",
       "font-family: var(--jp-code-font-family);\n",
       "font-size: var(--jp-code-font-size);\n",
       "line-height: var(--jp-code-line-height);\n",
       "\"><span style=\"color: var(--jp-warn-color2)\">astropy</span> <span style=\"color: var(--jp-warn-color0)\">WARNING</span>: No table::len::model found in metadata. Guessing {strlen} for schema.</pre>"
      ],
      "text/plain": [
       "<IPython.core.display.HTML object>"
      ]
     },
     "metadata": {},
     "output_type": "display_data"
    },
    {
     "name": "stderr",
     "output_type": "stream",
     "text": [
      "WARNING: No table::len::bandpass found in metadata. Guessing {strlen} for schema. [astropy.io.misc.parquet]\n"
     ]
    },
    {
     "data": {
      "text/html": [
       "<pre style=\"margin: 0.1em;\n",
       "padding-left: 0.25em;\n",
       "border-left-style: solid;\n",
       "font-family: var(--jp-code-font-family);\n",
       "font-size: var(--jp-code-font-size);\n",
       "line-height: var(--jp-code-line-height);\n",
       "\"><span style=\"color: var(--jp-warn-color2)\">astropy</span> <span style=\"color: var(--jp-warn-color0)\">WARNING</span>: No table::len::bandpass found in metadata. Guessing {strlen} for schema.</pre>"
      ],
      "text/plain": [
       "<IPython.core.display.HTML object>"
      ]
     },
     "metadata": {},
     "output_type": "display_data"
    }
   ],
   "source": [
    "star_summary_schema = Table.read(stars_path+'truth_star_summary_v1-0-0.parquet', schema_only=True)\n",
    "star_var_schema = Table.read(stars_path+'truth_star_variability_v1-0-0.parquet', schema_only=True)"
   ]
  },
  {
   "cell_type": "code",
   "execution_count": 15,
   "id": "27e60142-ca90-44d3-badf-cfc2820a57e9",
   "metadata": {},
   "outputs": [
    {
     "name": "stdout",
     "output_type": "stream",
     "text": [
      "['id', 'ra', 'dec', 'flux_u', 'flux_g', 'flux_r', 'flux_i', 'flux_z', 'flux_y', 'model', 'max_stdev_delta_mag', 'above_threshold', 'av', 'rv']\n",
      "['id', 'obsHistID', 'MJD', 'bandpass', 'delta_flux']\n"
     ]
    }
   ],
   "source": [
    "print(star_summary_schema.colnames)\n",
    "print(star_var_schema.colnames)"
   ]
  },
  {
   "cell_type": "code",
   "execution_count": null,
   "id": "d5eda97e-9828-44a9-aca2-f7dc1e29299a",
   "metadata": {},
   "outputs": [],
   "source": [
    "#sn_summary = Table.read(sne_path+'truth_sne_summary_v1-0-0.parquet')\n",
    "#sn_var = Table.read(sne_path+'truth_star_variability_v1-0-0.parquet')"
   ]
  },
  {
   "cell_type": "code",
   "execution_count": 7,
   "id": "cbbced89-cace-49d7-bc99-57dc05260926",
   "metadata": {},
   "outputs": [
    {
     "name": "stderr",
     "output_type": "stream",
     "text": [
      "WARNING: No table::len::model found in metadata. Using longest string ({strlen} characters). [astropy.io.misc.parquet]\n"
     ]
    },
    {
     "data": {
      "text/html": [
       "<pre style=\"margin: 0.1em;\n",
       "padding-left: 0.25em;\n",
       "border-left-style: solid;\n",
       "font-family: var(--jp-code-font-family);\n",
       "font-size: var(--jp-code-font-size);\n",
       "line-height: var(--jp-code-line-height);\n",
       "\"><span style=\"color: var(--jp-warn-color2)\">astropy</span> <span style=\"color: var(--jp-warn-color0)\">WARNING</span>: No table::len::model found in metadata. Using longest string ({strlen} characters).</pre>"
      ],
      "text/plain": [
       "<IPython.core.display.HTML object>"
      ]
     },
     "metadata": {},
     "output_type": "display_data"
    }
   ],
   "source": [
    "star_summary = Table.read(stars_path+'truth_star_summary_v1-0-0.parquet')\n",
    "#star_var = Table.read(stars_path+'truth_star_variability_v1-0-0.parquet')"
   ]
  },
  {
   "cell_type": "code",
   "execution_count": 8,
   "id": "2c1adca0-b200-472d-bad7-e035e526167c",
   "metadata": {},
   "outputs": [],
   "source": [
    "rrl = np.where(star_summary['model'] == 'applyRRly')"
   ]
  },
  {
   "cell_type": "code",
   "execution_count": 9,
   "id": "b4c9a06c-5251-4753-916a-839cf7158ec7",
   "metadata": {},
   "outputs": [
    {
     "data": {
      "image/png": "[encoded data removed]",
      "text/plain": [
       "<Figure size 640x480 with 1 Axes>"
      ]
     },
     "metadata": {},
     "output_type": "display_data"
    }
   ],
   "source": [
    "plt.hist(star_summary[rrl]['max_stdev_delta_mag'], bins=np.arange(0, 1, 0.05), histtype='step')\n",
    "plt.show()"
   ]
  },
  {
   "cell_type": "code",
   "execution_count": 18,
   "id": "1e38c078-c1de-4d05-a1b7-2e0e8601b110",
   "metadata": {},
   "outputs": [
    {
     "name": "stdout",
     "output_type": "stream",
     "text": [
      "211\n"
     ]
    }
   ],
   "source": [
    "print(len(star_summary[rrl]))\n",
    "\n",
    "ids = star_summary['id'][rrl]"
   ]
  },
  {
   "cell_type": "code",
   "execution_count": 17,
   "id": "87ce96a1-47d3-45ec-bb15-15d4e754c3a6",
   "metadata": {},
   "outputs": [
    {
     "name": "stdout",
     "output_type": "stream",
     "text": [
      "0\n",
      "1\n",
      "2\n",
      "3\n",
      "4\n",
      "5\n",
      "6\n",
      "7\n",
      "8\n",
      "9\n",
      "10\n",
      "11\n",
      "12\n",
      "13\n",
      "14\n",
      "15\n",
      "16\n",
      "17\n",
      "18\n",
      "19\n",
      "20\n",
      "21\n",
      "22\n",
      "23\n",
      "24\n",
      "25\n",
      "26\n",
      "27\n",
      "28\n",
      "29\n",
      "30\n",
      "31\n",
      "32\n",
      "33\n",
      "34\n",
      "35\n",
      "36\n",
      "37\n",
      "38\n",
      "39\n",
      "40\n",
      "41\n",
      "42\n",
      "43\n",
      "44\n",
      "45\n",
      "46\n",
      "47\n",
      "48\n",
      "49\n",
      "50\n",
      "51\n",
      "52\n",
      "53\n",
      "54\n",
      "55\n",
      "56\n",
      "57\n",
      "58\n",
      "59\n",
      "60\n",
      "61\n",
      "62\n",
      "63\n",
      "64\n",
      "65\n",
      "66\n",
      "67\n",
      "68\n",
      "69\n",
      "70\n",
      "71\n",
      "72\n",
      "73\n",
      "74\n",
      "75\n",
      "76\n",
      "77\n",
      "78\n",
      "79\n",
      "80\n",
      "81\n",
      "82\n",
      "83\n",
      "84\n",
      "85\n",
      "86\n",
      "87\n",
      "88\n",
      "89\n",
      "90\n",
      "91\n",
      "92\n",
      "93\n",
      "94\n",
      "95\n",
      "96\n",
      "97\n",
      "98\n",
      "99\n",
      "100\n",
      "101\n",
      "102\n",
      "103\n",
      "104\n",
      "105\n",
      "106\n",
      "107\n",
      "108\n",
      "109\n",
      "110\n",
      "111\n",
      "112\n",
      "113\n",
      "114\n",
      "115\n",
      "116\n",
      "117\n",
      "118\n",
      "119\n",
      "120\n",
      "121\n",
      "122\n",
      "123\n",
      "124\n",
      "125\n",
      "126\n",
      "127\n",
      "128\n",
      "129\n",
      "130\n",
      "131\n",
      "132\n",
      "133\n",
      "134\n",
      "135\n",
      "136\n",
      "137\n",
      "138\n",
      "139\n",
      "140\n",
      "141\n",
      "142\n",
      "143\n",
      "144\n",
      "145\n",
      "146\n",
      "147\n",
      "148\n",
      "149\n",
      "150\n",
      "151\n",
      "152\n",
      "153\n",
      "154\n",
      "155\n",
      "156\n",
      "157\n",
      "158\n",
      "159\n",
      "160\n",
      "161\n",
      "162\n",
      "163\n",
      "164\n",
      "165\n",
      "166\n",
      "167\n",
      "168\n",
      "169\n",
      "170\n",
      "171\n",
      "172\n",
      "173\n",
      "174\n",
      "175\n",
      "176\n",
      "177\n",
      "178\n",
      "179\n",
      "180\n",
      "181\n",
      "182\n",
      "183\n",
      "184\n",
      "185\n",
      "186\n",
      "187\n",
      "188\n",
      "189\n",
      "190\n",
      "191\n",
      "192\n",
      "193\n",
      "194\n",
      "195\n",
      "196\n",
      "197\n",
      "198\n",
      "199\n",
      "200\n",
      "201\n",
      "202\n",
      "203\n",
      "204\n",
      "205\n",
      "206\n",
      "207\n",
      "208\n",
      "209\n",
      "210\n",
      "CPU times: user 20min 58s, sys: 14min 3s, total: 35min 1s\n",
      "Wall time: 15min 28s\n"
     ]
    }
   ],
   "source": [
    "%%time\n",
    "\n",
    "for i in range(len(star_summary[rrl])):\n",
    "    if np.mod(i, 20) == 0:\n",
    "        print(i)\n",
    "    fp = pq.read_table(\n",
    "                       source=stars_path+'truth_star_variability_v1-0-0.parquet',\n",
    "                       use_threads=True,\n",
    "                       filters=[('id', '=', star_summary['id'][rrl][i])]\n",
    "                      )\n",
    "    if i == 0:\n",
    "        df = fp.to_pandas()\n",
    "    else:\n",
    "        df0 = fp.to_pandas()\n",
    "        df = pd.concat([df, df0])\n",
    "\n",
    "df.to_csv('dc2_truth_rrlyrae.csv')"
   ]
  },
  {
   "cell_type": "code",
   "execution_count": 29,
   "id": "0dbfd1ba-9999-4c57-acfe-2c8e589e80ab",
   "metadata": {},
   "outputs": [],
   "source": [
    "pick_id0 = (df['id'] == ids[0]) & (df['bandpass'] == 'g')"
   ]
  },
  {
   "cell_type": "code",
   "execution_count": 30,
   "id": "45fc9692-256a-4471-aede-ede2845473d2",
   "metadata": {},
   "outputs": [
    {
     "data": {
      "image/png": "[encoded data removed]",
      "text/plain": [
       "<Figure size 640x480 with 1 Axes>"
      ]
     },
     "metadata": {},
     "output_type": "display_data"
    }
   ],
   "source": [
    "plt.plot(df[pick_id0].MJD, df[pick_id0].delta_flux, 'k.')\n",
    "plt.show()"
   ]
  },
  {
   "cell_type": "code",
   "execution_count": 23,
   "id": "78f80712-0058-4402-b21d-22337e82525b",
   "metadata": {},
   "outputs": [],
   "source": []
  },
  {
   "cell_type": "code",
   "execution_count": null,
   "id": "88bc8ee6-960a-412d-9263-2cf2458639a8",
   "metadata": {},
   "outputs": [],
   "source": []
  }
 ],
 "metadata": {
  "kernelspec": {
   "display_name": "LSST",
   "language": "python",
   "name": "lsst"
  },
  "language_info": {
   "codemirror_mode": {
    "name": "ipython",
    "version": 3
   },
   "file_extension": ".py",
   "mimetype": "text/x-python",
   "name": "python",
   "nbconvert_exporter": "python",
   "pygments_lexer": "ipython3",
   "version": "3.10.5"
  }
 },
 "nbformat": 4,
 "nbformat_minor": 5
}
