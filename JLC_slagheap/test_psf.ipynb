{
 "cells": [
  {
   "cell_type": "code",
   "execution_count": 1,
   "id": "7de760e8-fa22-4170-99de-746d2a956787",
   "metadata": {
    "execution": {
     "iopub.execute_input": "2023-08-15T18:46:40.382470Z",
     "iopub.status.busy": "2023-08-15T18:46:40.382170Z",
     "iopub.status.idle": "2023-08-15T18:46:41.567017Z",
     "shell.execute_reply": "2023-08-15T18:46:41.566309Z",
     "shell.execute_reply.started": "2023-08-15T18:46:40.382449Z"
    },
    "tags": []
   },
   "outputs": [],
   "source": [
    "import numpy as np\n",
    "import matplotlib.pyplot as plt\n",
    "\n",
    "import lsst.sphgeom\n",
    "from lsst.daf.butler import Butler"
   ]
  },
  {
   "cell_type": "code",
   "execution_count": 3,
   "id": "0857c722-92cb-4ce4-ab9e-5a81e73ee4ab",
   "metadata": {
    "execution": {
     "iopub.execute_input": "2023-08-15T18:48:28.906389Z",
     "iopub.status.busy": "2023-08-15T18:48:28.905157Z",
     "iopub.status.idle": "2023-08-15T18:48:31.632958Z",
     "shell.execute_reply": "2023-08-15T18:48:31.632012Z",
     "shell.execute_reply.started": "2023-08-15T18:48:28.906345Z"
    },
    "tags": []
   },
   "outputs": [],
   "source": [
    "config = 'dp02'\n",
    "collections = '2.2i/runs/DP0.2'\n",
    "butler = Butler(config, collections=collections)\n",
    "registry = butler.registry"
   ]
  },
  {
   "cell_type": "code",
   "execution_count": 16,
   "id": "b8f2f821-a399-4a4f-9c34-f99816f1ba0c",
   "metadata": {
    "execution": {
     "iopub.execute_input": "2023-08-09T22:30:25.663036Z",
     "iopub.status.busy": "2023-08-09T22:30:25.662136Z",
     "iopub.status.idle": "2023-08-09T22:30:25.679728Z",
     "shell.execute_reply": "2023-08-09T22:30:25.679138Z",
     "shell.execute_reply.started": "2023-08-09T22:30:25.663004Z"
    },
    "tags": []
   },
   "outputs": [
    {
     "name": "stdout",
     "output_type": "stream",
     "text": [
      "HTM ID=2354987095 at level=14 is a ~1.7e+01\" triangle.\n"
     ]
    }
   ],
   "source": [
    "ra = 62.0 \n",
    "dec = -37.0\n",
    "\n",
    "pixelization = lsst.sphgeom.HtmPixelization(14)\n",
    "\n",
    "htm_id = pixelization.index(\n",
    "    lsst.sphgeom.UnitVector3d(\n",
    "        lsst.sphgeom.LonLat.fromDegrees(ra, dec)\n",
    "    )\n",
    ")\n",
    "\n",
    "# Obtain and print the scale to provide a sense of the size of the sky pixelization being used\n",
    "scale = pixelization.triangle(htm_id).getBoundingCircle().getOpeningAngle().asDegrees()*3600\n",
    "print(f'HTM ID={htm_id} at level={pixelization.getLevel()} is a ~{scale:0.2}\" triangle.')\n",
    "\n",
    "# Find all the visits for the given band:\n",
    "band = 'i'\n",
    "calexp_datasetRefs = registry.queryDatasets(\"calexp\", htm20=htm_id, band=band)\n",
    "coadd_datasetRefs = registry.queryDatasets(\"deepCoadd\", htm20=htm_id, band=band)\n",
    "# print(\"Found \", datasetRefs.count(), \" \",band,\"-band calexps at that position.\")"
   ]
  },
  {
   "cell_type": "code",
   "execution_count": 17,
   "id": "623cee58-2664-47af-a8a3-182844239051",
   "metadata": {
    "execution": {
     "iopub.execute_input": "2023-08-09T22:30:36.943692Z",
     "iopub.status.busy": "2023-08-09T22:30:36.942911Z",
     "iopub.status.idle": "2023-08-09T22:30:38.353776Z",
     "shell.execute_reply": "2023-08-09T22:30:38.353004Z",
     "shell.execute_reply.started": "2023-08-09T22:30:36.943663Z"
    },
    "tags": []
   },
   "outputs": [
    {
     "name": "stdout",
     "output_type": "stream",
     "text": [
      "{instrument: 'LSSTCam-imSim', detector: 85, visit: 713353, ...}\n",
      "{instrument: 'LSSTCam-imSim', detector: 20, visit: 1231964, ...}\n",
      "{instrument: 'LSSTCam-imSim', detector: 158, visit: 230774, ...}\n",
      "{instrument: 'LSSTCam-imSim', detector: 33, visit: 917382, ...}\n",
      "{instrument: 'LSSTCam-imSim', detector: 167, visit: 731800, ...}\n",
      "{instrument: 'LSSTCam-imSim', detector: 34, visit: 497008, ...}\n",
      "{instrument: 'LSSTCam-imSim', detector: 36, visit: 1013741, ...}\n",
      "{instrument: 'LSSTCam-imSim', detector: 39, visit: 1013741, ...}\n",
      "{instrument: 'LSSTCam-imSim', detector: 2, visit: 682761, ...}\n",
      "{instrument: 'LSSTCam-imSim', detector: 0, visit: 1165836, ...}\n",
      "{instrument: 'LSSTCam-imSim', detector: 2, visit: 280269, ...}\n",
      "{instrument: 'LSSTCam-imSim', detector: 146, visit: 472137, ...}\n",
      "{instrument: 'LSSTCam-imSim', detector: 51, visit: 421642, ...}\n",
      "{instrument: 'LSSTCam-imSim', detector: 26, visit: 976253, ...}\n",
      "{instrument: 'LSSTCam-imSim', detector: 97, visit: 932414, ...}\n",
      "{instrument: 'LSSTCam-imSim', detector: 16, visit: 1000791, ...}\n",
      "{instrument: 'LSSTCam-imSim', detector: 17, visit: 1000791, ...}\n",
      "{instrument: 'LSSTCam-imSim', detector: 36, visit: 713382, ...}\n",
      "{instrument: 'LSSTCam-imSim', detector: 77, visit: 641065, ...}\n",
      "{instrument: 'LSSTCam-imSim', detector: 80, visit: 641065, ...}\n",
      "{instrument: 'LSSTCam-imSim', detector: 79, visit: 1197823, ...}\n",
      "{instrument: 'LSSTCam-imSim', detector: 162, visit: 472178, ...}\n",
      "{instrument: 'LSSTCam-imSim', detector: 158, visit: 204712, ...}\n",
      "{instrument: 'LSSTCam-imSim', detector: 109, visit: 457683, ...}\n",
      "{instrument: 'LSSTCam-imSim', detector: 70, visit: 457683, ...}\n",
      "{instrument: 'LSSTCam-imSim', detector: 168, visit: 433954, ...}\n",
      "{instrument: 'LSSTCam-imSim', detector: 107, visit: 679529, ...}\n",
      "{instrument: 'LSSTCam-imSim', detector: 93, visit: 880204, ...}\n",
      "{instrument: 'LSSTCam-imSim', detector: 40, visit: 930406, ...}\n",
      "{instrument: 'LSSTCam-imSim', detector: 111, visit: 458647, ...}\n",
      "{instrument: 'LSSTCam-imSim', detector: 168, visit: 518030, ...}\n",
      "{instrument: 'LSSTCam-imSim', detector: 104, visit: 458647, ...}\n",
      "{instrument: 'LSSTCam-imSim', detector: 65, visit: 692695, ...}\n",
      "{instrument: 'LSSTCam-imSim', detector: 100, visit: 934147, ...}\n",
      "{instrument: 'LSSTCam-imSim', detector: 68, visit: 692695, ...}\n",
      "{instrument: 'LSSTCam-imSim', detector: 116, visit: 457716, ...}\n",
      "{instrument: 'LSSTCam-imSim', detector: 39, visit: 479542, ...}\n",
      "{instrument: 'LSSTCam-imSim', detector: 7, visit: 966878, ...}\n",
      "{instrument: 'LSSTCam-imSim', detector: 14, visit: 679387, ...}\n",
      "{instrument: 'LSSTCam-imSim', detector: 102, visit: 679497, ...}\n",
      "{instrument: 'LSSTCam-imSim', detector: 124, visit: 471902, ...}\n",
      "{instrument: 'LSSTCam-imSim', detector: 7, visit: 263498, ...}\n",
      "{instrument: 'LSSTCam-imSim', detector: 136, visit: 686592, ...}\n",
      "{instrument: 'LSSTCam-imSim', detector: 166, visit: 713094, ...}\n",
      "{instrument: 'LSSTCam-imSim', detector: 54, visit: 679432, ...}\n",
      "{instrument: 'LSSTCam-imSim', detector: 69, visit: 686629, ...}\n",
      "{instrument: 'LSSTCam-imSim', detector: 149, visit: 214463, ...}\n",
      "{instrument: 'LSSTCam-imSim', detector: 128, visit: 1231987, ...}\n",
      "{instrument: 'LSSTCam-imSim', detector: 186, visit: 211199, ...}\n",
      "{instrument: 'LSSTCam-imSim', detector: 30, visit: 930375, ...}\n",
      "{instrument: 'LSSTCam-imSim', detector: 75, visit: 635903, ...}\n",
      "{instrument: 'LSSTCam-imSim', detector: 30, visit: 204710, ...}\n",
      "{instrument: 'LSSTCam-imSim', detector: 8, visit: 654493, ...}\n",
      "{instrument: 'LSSTCam-imSim', detector: 23, visit: 421685, ...}\n",
      "{instrument: 'LSSTCam-imSim', detector: 73, visit: 686630, ...}\n",
      "{instrument: 'LSSTCam-imSim', detector: 76, visit: 686630, ...}\n",
      "{instrument: 'LSSTCam-imSim', detector: 13, visit: 1212007, ...}\n",
      "{instrument: 'LSSTCam-imSim', detector: 17, visit: 211488, ...}\n",
      "{instrument: 'LSSTCam-imSim', detector: 39, visit: 1013703, ...}\n",
      "{instrument: 'LSSTCam-imSim', detector: 160, visit: 211549, ...}\n",
      "{instrument: 'LSSTCam-imSim', detector: 61, visit: 214558, ...}\n",
      "{instrument: 'LSSTCam-imSim', detector: 24, visit: 1000822, ...}\n",
      "{instrument: 'LSSTCam-imSim', detector: 40, visit: 678519, ...}\n",
      "{instrument: 'LSSTCam-imSim', detector: 106, visit: 244020, ...}\n",
      "{instrument: 'LSSTCam-imSim', detector: 150, visit: 934096, ...}\n",
      "{instrument: 'LSSTCam-imSim', detector: 40, visit: 941057, ...}\n",
      "{instrument: 'LSSTCam-imSim', detector: 85, visit: 713352, ...}\n",
      "{instrument: 'LSSTCam-imSim', detector: 22, visit: 930376, ...}\n",
      "{instrument: 'LSSTCam-imSim', detector: 140, visit: 1196500, ...}\n",
      "{instrument: 'LSSTCam-imSim', detector: 85, visit: 471957, ...}\n",
      "{instrument: 'LSSTCam-imSim', detector: 64, visit: 941094, ...}\n",
      "{instrument: 'LSSTCam-imSim', detector: 49, visit: 654461, ...}\n",
      "{instrument: 'LSSTCam-imSim', detector: 3, visit: 679430, ...}\n",
      "{instrument: 'LSSTCam-imSim', detector: 176, visit: 951328, ...}\n",
      "{instrument: 'LSSTCam-imSim', detector: 106, visit: 1030667, ...}\n",
      "{instrument: 'LSSTCam-imSim', detector: 179, visit: 1217196, ...}\n",
      "{instrument: 'LSSTCam-imSim', detector: 0, visit: 410960, ...}\n",
      "{instrument: 'LSSTCam-imSim', detector: 176, visit: 713381, ...}\n",
      "{instrument: 'LSSTCam-imSim', detector: 27, visit: 1160582, ...}\n",
      "{instrument: 'LSSTCam-imSim', detector: 186, visit: 472181, ...}\n",
      "{instrument: 'LSSTCam-imSim', detector: 120, visit: 479512, ...}\n",
      "{instrument: 'LSSTCam-imSim', detector: 78, visit: 214437, ...}\n",
      "{instrument: 'LSSTCam-imSim', detector: 79, visit: 214437, ...}\n",
      "{instrument: 'LSSTCam-imSim', detector: 152, visit: 752163, ...}\n",
      "{instrument: 'LSSTCam-imSim', detector: 42, visit: 976274, ...}\n",
      "{instrument: 'LSSTCam-imSim', detector: 81, visit: 976274, ...}\n",
      "{instrument: 'LSSTCam-imSim', detector: 64, visit: 211543, ...}\n",
      "{instrument: 'LSSTCam-imSim', detector: 44, visit: 880167, ...}\n",
      "{instrument: 'LSSTCam-imSim', detector: 71, visit: 1212006, ...}\n",
      "{instrument: 'LSSTCam-imSim', detector: 112, visit: 214520, ...}\n",
      "{instrument: 'LSSTCam-imSim', detector: 140, visit: 752164, ...}\n",
      "{instrument: 'LSSTCam-imSim', detector: 136, visit: 752164, ...}\n",
      "{instrument: 'LSSTCam-imSim', detector: 137, visit: 752164, ...}\n",
      "{instrument: 'LSSTCam-imSim', detector: 139, visit: 752164, ...}\n",
      "{instrument: 'LSSTCam-imSim', detector: 125, visit: 472134, ...}\n",
      "{instrument: 'LSSTCam-imSim', detector: 114, visit: 1211957, ...}\n",
      "{instrument: 'LSSTCam-imSim', detector: 107, visit: 713062, ...}\n",
      "{instrument: 'LSSTCam-imSim', detector: 70, visit: 930407, ...}\n",
      "{instrument: 'LSSTCam-imSim', detector: 140, visit: 230776, ...}\n",
      "{instrument: 'LSSTCam-imSim', detector: 132, visit: 924125, ...}\n",
      "{instrument: 'LSSTCam-imSim', detector: 101, visit: 1197824, ...}\n",
      "{instrument: 'LSSTCam-imSim', detector: 100, visit: 995031, ...}\n",
      "{instrument: 'LSSTCam-imSim', detector: 169, visit: 1212108, ...}\n",
      "{instrument: 'LSSTCam-imSim', detector: 84, visit: 262031, ...}\n",
      "{instrument: 'LSSTCam-imSim', detector: 14, visit: 1165691, ...}\n",
      "{instrument: 'LSSTCam-imSim', detector: 72, visit: 421684, ...}\n",
      "{instrument: 'LSSTCam-imSim', detector: 135, visit: 945638, ...}\n",
      "{instrument: 'LSSTCam-imSim', detector: 83, visit: 518092, ...}\n",
      "{instrument: 'LSSTCam-imSim', detector: 44, visit: 518092, ...}\n",
      "{instrument: 'LSSTCam-imSim', detector: 99, visit: 945618, ...}\n",
      "{instrument: 'LSSTCam-imSim', detector: 32, visit: 679388, ...}\n",
      "{instrument: 'LSSTCam-imSim', detector: 35, visit: 679388, ...}\n",
      "{instrument: 'LSSTCam-imSim', detector: 84, visit: 211544, ...}\n",
      "{instrument: 'LSSTCam-imSim', detector: 3, visit: 1209140, ...}\n",
      "{instrument: 'LSSTCam-imSim', detector: 6, visit: 1209140, ...}\n",
      "{instrument: 'LSSTCam-imSim', detector: 20, visit: 280218, ...}\n",
      "{instrument: 'LSSTCam-imSim', detector: 4, visit: 924093, ...}\n",
      "{instrument: 'LSSTCam-imSim', detector: 18, visit: 924174, ...}\n",
      "{instrument: 'LSSTCam-imSim', detector: 3, visit: 686593, ...}\n",
      "{instrument: 'LSSTCam-imSim', detector: 159, visit: 479665, ...}\n",
      "{instrument: 'LSSTCam-imSim', detector: 140, visit: 994946, ...}\n",
      "{instrument: 'LSSTCam-imSim', detector: 147, visit: 994946, ...}\n",
      "{instrument: 'LSSTCam-imSim', detector: 148, visit: 682759, ...}\n",
      "{instrument: 'LSSTCam-imSim', detector: 68, visit: 713095, ...}\n",
      "{instrument: 'LSSTCam-imSim', detector: 70, visit: 211532, ...}\n",
      "{instrument: 'LSSTCam-imSim', detector: 45, visit: 497043, ...}\n",
      "{instrument: 'LSSTCam-imSim', detector: 102, visit: 1197857, ...}\n",
      "{instrument: 'LSSTCam-imSim', detector: 188, visit: 433984, ...}\n",
      "{instrument: 'LSSTCam-imSim', detector: 54, visit: 1198854, ...}\n",
      "{instrument: 'LSSTCam-imSim', detector: 1, visit: 433990, ...}\n",
      "{instrument: 'LSSTCam-imSim', detector: 118, visit: 410985, ...}\n",
      "{instrument: 'LSSTCam-imSim', detector: 121, visit: 410985, ...}\n",
      "{instrument: 'LSSTCam-imSim', detector: 129, visit: 256353, ...}\n",
      "{instrument: 'LSSTCam-imSim', detector: 109, visit: 1165869, ...}\n",
      "{instrument: 'LSSTCam-imSim', detector: 112, visit: 1165869, ...}\n"
     ]
    }
   ],
   "source": [
    "for ds in calexp_datasetRefs:\n",
    "    print(ds.dataId)"
   ]
  },
  {
   "cell_type": "code",
   "execution_count": null,
   "id": "d305d21c-41e1-4a22-a6b6-eb9549181dfb",
   "metadata": {},
   "outputs": [],
   "source": []
  },
  {
   "cell_type": "code",
   "execution_count": null,
   "id": "bf0d1248-30fc-4fb8-93c8-ef2faf02da5c",
   "metadata": {},
   "outputs": [],
   "source": []
  },
  {
   "cell_type": "code",
   "execution_count": 6,
   "id": "7f1e250b-cdc2-45c8-be5e-4a3bda30a349",
   "metadata": {
    "execution": {
     "iopub.execute_input": "2023-08-15T18:53:06.993794Z",
     "iopub.status.busy": "2023-08-15T18:53:06.993050Z",
     "iopub.status.idle": "2023-08-15T18:53:07.002431Z",
     "shell.execute_reply": "2023-08-15T18:53:07.001251Z",
     "shell.execute_reply.started": "2023-08-15T18:53:06.993760Z"
    },
    "tags": []
   },
   "outputs": [
    {
     "name": "stdout",
     "output_type": "stream",
     "text": [
      "DatasetType('CcdVisitTable', {instrument}, DataFrame)\n",
      "DatasetType('DiaSourceTable', {band, instrument, physical_filter, visit_system, visit}, DataFrame)\n",
      "DatasetType('calibratedSourceTable', {band, instrument, detector, physical_filter, visit_system, visit}, DataFrame)\n",
      "DatasetType('ccdVisitTable', {instrument}, DataFrame)\n",
      "DatasetType('diaSourceTable', {band, instrument, physical_filter, visit_system, visit}, DataFrame)\n",
      "DatasetType('forcedSourceOnDiaObjectTable', {skymap, tract, patch}, DataFrame)\n",
      "DatasetType('forcedSourceTable', {skymap, tract, patch}, DataFrame)\n",
      "DatasetType('goodSeeingDiff_assocDiaSrcTable', {skymap, tract, patch}, DataFrame)\n",
      "DatasetType('goodSeeingDiff_diaObjTable', {skymap, tract, patch}, DataFrame)\n",
      "DatasetType('goodSeeingDiff_diaSrcTable', {band, instrument, detector, physical_filter, visit_system, visit}, DataFrame)\n",
      "DatasetType('goodSeeingDiff_fullDiaObjTable', {skymap, tract, patch}, DataFrame)\n",
      "DatasetType('objectTable', {skymap, tract, patch}, DataFrame)\n",
      "DatasetType('sourceTable', {band, instrument, detector, physical_filter, visit_system, visit}, DataFrame)\n",
      "DatasetType('visitTable', {instrument}, DataFrame)\n"
     ]
    }
   ],
   "source": [
    "for dt in sorted(registry.queryDatasetTypes('*Table')):\n",
    "    print(dt)\n"
   ]
  },
  {
   "cell_type": "code",
   "execution_count": 7,
   "id": "b87e0104-7c29-495d-9a7d-bf6d9e230856",
   "metadata": {
    "execution": {
     "iopub.execute_input": "2023-08-15T18:54:07.275179Z",
     "iopub.status.busy": "2023-08-15T18:54:07.274002Z",
     "iopub.status.idle": "2023-08-15T18:54:10.683682Z",
     "shell.execute_reply": "2023-08-15T18:54:10.682531Z",
     "shell.execute_reply.started": "2023-08-15T18:54:07.275142Z"
    },
    "tags": []
   },
   "outputs": [],
   "source": [
    "ccdvis = butler.get('ccdVisitTable', instrument='LSSTCam-imSim')"
   ]
  },
  {
   "cell_type": "code",
   "execution_count": 9,
   "id": "507df310-9988-4881-b81a-f6f3bef2b282",
   "metadata": {
    "execution": {
     "iopub.execute_input": "2023-08-15T18:54:30.144127Z",
     "iopub.status.busy": "2023-08-15T18:54:30.143060Z",
     "iopub.status.idle": "2023-08-15T18:54:30.148729Z",
     "shell.execute_reply": "2023-08-15T18:54:30.148113Z",
     "shell.execute_reply.started": "2023-08-15T18:54:30.144094Z"
    },
    "tags": []
   },
   "outputs": [
    {
     "data": {
      "text/plain": [
       "Index(['visitId', 'physical_filter', 'band', 'ra', 'decl', 'zenithDistance',\n",
       "       'zeroPoint', 'psfSigma', 'skyBg', 'skyNoise', 'detector', 'seeing',\n",
       "       'skyRotation', 'expMidpt', 'expMidptMJD', 'expTime', 'obsStart',\n",
       "       'obsStartMJD', 'darkTime', 'xSize', 'ySize', 'llcra', 'llcdec', 'ulcra',\n",
       "       'ulcdec', 'urcra', 'urcdec', 'lrcra', 'lrcdec'],\n",
       "      dtype='object')"
      ]
     },
     "execution_count": 9,
     "metadata": {},
     "output_type": "execute_result"
    }
   ],
   "source": [
    "ccdvis.columns"
   ]
  },
  {
   "cell_type": "code",
   "execution_count": null,
   "id": "cfe087d3-aa59-4809-999e-5bd3adbe8ab8",
   "metadata": {},
   "outputs": [],
   "source": []
  }
 ],
 "metadata": {
  "kernelspec": {
   "display_name": "LSST",
   "language": "python",
   "name": "lsst"
  },
  "language_info": {
   "codemirror_mode": {
    "name": "ipython",
    "version": 3
   },
   "file_extension": ".py",
   "mimetype": "text/x-python",
   "name": "python",
   "nbconvert_exporter": "python",
   "pygments_lexer": "ipython3",
   "version": "3.10.10"
  }
 },
 "nbformat": 4,
 "nbformat_minor": 5
}
