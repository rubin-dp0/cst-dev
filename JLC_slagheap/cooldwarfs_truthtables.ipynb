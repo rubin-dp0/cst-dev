{
 "cells": [
  {
   "cell_type": "markdown",
   "id": "9cd32b73-9795-491b-8c4f-d324d3d1395c",
   "metadata": {
    "tags": []
   },
   "source": [
    "# Read the DESC truth tables in parquet format\n",
    "\n",
    "**A large container must be used for this notebook or the kernel will crash.**\n",
    "\n",
    "**Contact authors:** Jeff Carlin and Melissa Graham <br>\n",
    "**Container size:** large <br>\n",
    "**Last verified to run:** 2023-02-15 <br>\n",
    "**Version:** w_2023_07"
   ]
  },
  {
   "cell_type": "markdown",
   "id": "d756e879-8c46-4e37-96fd-431cc01dcd87",
   "metadata": {},
   "source": [
    "## 1.0. Introduction\n",
    "\n",
    "Jim Chiang has put additional <a href=\"https://parquet.apache.org/\">parquet</a>-format truth tables in `/project` for DP0 delegates:\n",
    " - `/project/jchiang/Run2.2i/truth/` contains\n",
    "   - `SNe/truth_sn_summary_v1-0-0.parquet` (46M)\n",
    "   - `SNe/truth_sn_variability_v1-0-0.parquet` (247M)\n",
    "   - `stars/truth_star_summary_v1-0-0.parquet` (211M)\n",
    "   - `stars/truth_star_variability_v1-0-0.parquet` (5.3G)\n",
    "\n",
    "These truth tables have been publicly released by the DESC, but they are not part of DP0.2. They contain more detailed information about the simulated supernovae (SNe) and stars that were injected into the DP0.2 dataset. \n",
    "\n",
    "> **Warning: these truth tables have not been, and will not be, cross-matched to the DP0.2 DiaObject table nor available via the TAP service like other DP0.2 catalogs.** \n",
    "\n",
    "Attempting to use TAP or SQL on these parquet files will fail.\n",
    "In particular, note that the tutorial notebook \"08_Truth_Tables.ipynb\" uses the `id_truth_type` column to match between DP0.2 truth catalogs, and that this column is *unique* to the DP0.2 truth catalogs.\n",
    "It is *not available* in these auxiliary truth data files that come directly from DESC.\n",
    "\n",
    "This notebook demonstrates the other methods available for users to cross-match their DP0.2 objects of interest with these truth tables.\n",
    "\n",
    "The **schema** for these tables can be found in the DESC's DC2 Data Release note (<a href=\"https://arxiv.org/pdf/2101.04855.pdf\">arXiv:2101.04855</a>),\n",
    "in tables B.3 (truth star summary), B.4 (truth SN summary), B.6 (truth star variability), and B.7 (truth SN variability).\n",
    "\n",
    "> **Warning: the truth star variability file, at 5.3 G, is too large to be read in full and will crash the kernel.**\n",
    "\n",
    "For the large file of truth star variability, users have the option of the `pyarrow` or `dask` packages for retrieving variability data for a single star, and then converting it into a `pandas` dataframe.\n",
    "As demonstrated in Section 2, it takes about 15-20 seconds to retrieve the full simulated light curve for a single star. \n",
    "Use the truth star variability file with care to avoid crashing the kernel.\n",
    "\n",
    "The three files that are <250 MB are small enough to be read in full.\n",
    "The `pandas` package can be used to read the entire table into a dataframe, as demonstrated below.\n",
    "\n",
    "Rerunning cells multiple times might cause a kernel error in this notebook, given the potentially large data volumes.\n",
    "If this happens, go to the \"Kernel\" menu item and choose \"Restart kernel and clear all outputs\" and try again.\n",
    "If issues persist, exit the RSP and log back in with a large container.\n",
    "\n",
    "### 1.1. Import packages."
   ]
  },
  {
   "cell_type": "code",
   "execution_count": 21,
   "id": "c8bc532d-b33f-4c26-b9fe-479f0b31292a",
   "metadata": {
    "execution": {
     "iopub.execute_input": "2024-01-19T21:57:32.737078Z",
     "iopub.status.busy": "2024-01-19T21:57:32.736265Z",
     "iopub.status.idle": "2024-01-19T21:57:32.740696Z",
     "shell.execute_reply": "2024-01-19T21:57:32.740045Z",
     "shell.execute_reply.started": "2024-01-19T21:57:32.737047Z"
    }
   },
   "outputs": [],
   "source": [
    "import numpy as np\n",
    "import matplotlib.pyplot as plt\n",
    "import astropy.units as u\n",
    "import time, gc\n",
    "import pandas as pd\n",
    "import pyarrow.parquet as pq\n",
    "from lsst.rsp import get_tap_service, retrieve_query"
   ]
  },
  {
   "cell_type": "code",
   "execution_count": 22,
   "id": "a54750d1-f90d-4c8d-9a0a-521154800db1",
   "metadata": {
    "execution": {
     "iopub.execute_input": "2024-01-19T21:57:33.468952Z",
     "iopub.status.busy": "2024-01-19T21:57:33.468603Z",
     "iopub.status.idle": "2024-01-19T21:57:33.530565Z",
     "shell.execute_reply": "2024-01-19T21:57:33.529796Z",
     "shell.execute_reply.started": "2024-01-19T21:57:33.468930Z"
    }
   },
   "outputs": [],
   "source": [
    "service = get_tap_service(\"tap\")"
   ]
  },
  {
   "cell_type": "markdown",
   "id": "33a6d262-9ded-41d1-981f-ac111571a2e9",
   "metadata": {},
   "source": [
    "## 2.0. Stars\n",
    "\n",
    "Define the file names of the star truth data."
   ]
  },
  {
   "cell_type": "code",
   "execution_count": 23,
   "id": "2024bca9-4cd3-470a-9bca-16ff2646cee4",
   "metadata": {
    "execution": {
     "iopub.execute_input": "2024-01-19T21:57:34.514899Z",
     "iopub.status.busy": "2024-01-19T21:57:34.514001Z",
     "iopub.status.idle": "2024-01-19T21:57:34.517953Z",
     "shell.execute_reply": "2024-01-19T21:57:34.517240Z",
     "shell.execute_reply.started": "2024-01-19T21:57:34.514870Z"
    }
   },
   "outputs": [],
   "source": [
    "pfnm_star_sum = '/project/jchiang/Run2.2i/truth/stars/truth_star_summary_v1-0-0.parquet'"
   ]
  },
  {
   "cell_type": "markdown",
   "id": "b438cb98-5179-46ca-b713-683388950bbd",
   "metadata": {},
   "source": [
    "### 2.1. Read the full summary table with `pandas`\n",
    "\n",
    "The star summary file, at 211 M, is small enough to be read in entirely with `pandas`, as done below.\n",
    "\n",
    "But, if you attempt to use `pd.read_parquet` with the star variability file (5.3 G), the kernel will crash."
   ]
  },
  {
   "cell_type": "code",
   "execution_count": 24,
   "id": "16d37271-f6e1-45c0-b915-89d7fa3f9bb6",
   "metadata": {
    "execution": {
     "iopub.execute_input": "2024-01-19T21:57:35.872961Z",
     "iopub.status.busy": "2024-01-19T21:57:35.872082Z",
     "iopub.status.idle": "2024-01-19T21:57:36.552819Z",
     "shell.execute_reply": "2024-01-19T21:57:36.552025Z",
     "shell.execute_reply.started": "2024-01-19T21:57:35.872933Z"
    }
   },
   "outputs": [],
   "source": [
    "result_star_sum = pd.read_parquet(pfnm_star_sum)"
   ]
  },
  {
   "cell_type": "markdown",
   "id": "f3dc1d3b-e51b-4b6a-acce-a94b42019f9b",
   "metadata": {},
   "source": [
    "**Option** to view the star summary table."
   ]
  },
  {
   "cell_type": "code",
   "execution_count": 25,
   "id": "59fb479a-323e-48d5-aa14-b8e01cc27633",
   "metadata": {
    "execution": {
     "iopub.execute_input": "2024-01-19T21:57:37.849981Z",
     "iopub.status.busy": "2024-01-19T21:57:37.849079Z",
     "iopub.status.idle": "2024-01-19T21:57:37.852823Z",
     "shell.execute_reply": "2024-01-19T21:57:37.852169Z",
     "shell.execute_reply.started": "2024-01-19T21:57:37.849953Z"
    },
    "tags": []
   },
   "outputs": [],
   "source": [
    "# result_star_sum"
   ]
  },
  {
   "cell_type": "markdown",
   "id": "c2cc670f-d059-473a-91d1-d961b226c916",
   "metadata": {},
   "source": [
    "### 2.2. Identify a single true star of interest\n",
    "\n",
    "Use `numpy.unique` to figure out how many different variable star types there are."
   ]
  },
  {
   "cell_type": "code",
   "execution_count": 26,
   "id": "73109ce8-0004-4e63-9f42-da0d9821b3b9",
   "metadata": {
    "execution": {
     "iopub.execute_input": "2024-01-19T21:57:38.972850Z",
     "iopub.status.busy": "2024-01-19T21:57:38.972348Z",
     "iopub.status.idle": "2024-01-19T21:57:41.216388Z",
     "shell.execute_reply": "2024-01-19T21:57:41.215818Z",
     "shell.execute_reply.started": "2024-01-19T21:57:38.972822Z"
    }
   },
   "outputs": [
    {
     "name": "stdout",
     "output_type": "stream",
     "text": [
      "0 MLT 2361402\n",
      "1 None 126709\n",
      "2 applyRRly 211\n",
      "3 kplr 1744538\n"
     ]
    }
   ],
   "source": [
    "unique_models, counts_models = np.unique(result_star_sum['model'], return_counts=True)\n",
    "for uu in range(len(unique_models)):\n",
    "    print(uu, unique_models[uu], counts_models[uu])"
   ]
  },
  {
   "cell_type": "markdown",
   "id": "70a5e969-a388-455e-8cad-0e235454278c",
   "metadata": {},
   "source": [
    "As described in the DESC DC2 Data Release Note, these types include:\n",
    "1. `applyRRly`: periodic variables (RR Lyrae and Cepheids)\n",
    "2. `MLT`: non-periodic transients/variables such as microlensing events, flaring M-dwarfs, cataclysmic variables, etc.\n",
    "3. `kplr`: stars with no definitive variability class, whose variability is modeled after Kepler lightcurves\n",
    "4. `None`: non-variable stars\n",
    "\n",
    "Use `tx` to index all 211 of the RR Lyrae stars. Print the `id`, `ra`, and `dec` of a random RR Lyrae."
   ]
  },
  {
   "cell_type": "code",
   "execution_count": 27,
   "id": "b9d0c6c2-23c7-47eb-946f-28fae12fbcbb",
   "metadata": {
    "execution": {
     "iopub.execute_input": "2024-01-19T21:57:42.500314Z",
     "iopub.status.busy": "2024-01-19T21:57:42.499464Z",
     "iopub.status.idle": "2024-01-19T21:57:42.519377Z",
     "shell.execute_reply": "2024-01-19T21:57:42.518798Z",
     "shell.execute_reply.started": "2024-01-19T21:57:42.500292Z"
    }
   },
   "outputs": [
    {
     "data": {
      "text/html": [
       "<div>\n",
       "<style scoped>\n",
       "    .dataframe tbody tr th:only-of-type {\n",
       "        vertical-align: middle;\n",
       "    }\n",
       "\n",
       "    .dataframe tbody tr th {\n",
       "        vertical-align: top;\n",
       "    }\n",
       "\n",
       "    .dataframe thead th {\n",
       "        text-align: right;\n",
       "    }\n",
       "</style>\n",
       "<table border=\"1\" class=\"dataframe\">\n",
       "  <thead>\n",
       "    <tr style=\"text-align: right;\">\n",
       "      <th></th>\n",
       "      <th>id</th>\n",
       "      <th>ra</th>\n",
       "      <th>dec</th>\n",
       "      <th>flux_u</th>\n",
       "      <th>flux_g</th>\n",
       "      <th>flux_r</th>\n",
       "      <th>flux_i</th>\n",
       "      <th>flux_z</th>\n",
       "      <th>flux_y</th>\n",
       "      <th>model</th>\n",
       "      <th>max_stdev_delta_mag</th>\n",
       "      <th>above_threshold</th>\n",
       "      <th>av</th>\n",
       "      <th>rv</th>\n",
       "    </tr>\n",
       "  </thead>\n",
       "  <tbody>\n",
       "    <tr>\n",
       "      <th>0</th>\n",
       "      <td>1568506380</td>\n",
       "      <td>66.100848</td>\n",
       "      <td>-26.937555</td>\n",
       "      <td>5.153635e+00</td>\n",
       "      <td>4.960415e+01</td>\n",
       "      <td>1.580730e+02</td>\n",
       "      <td>3.470435e+02</td>\n",
       "      <td>4.987419e+02</td>\n",
       "      <td>5.986466e+02</td>\n",
       "      <td>MLT</td>\n",
       "      <td>0.0</td>\n",
       "      <td>0</td>\n",
       "      <td>0.130902</td>\n",
       "      <td>3.1</td>\n",
       "    </tr>\n",
       "    <tr>\n",
       "      <th>1</th>\n",
       "      <td>1664492176</td>\n",
       "      <td>66.099048</td>\n",
       "      <td>-26.946266</td>\n",
       "      <td>9.245675e-01</td>\n",
       "      <td>8.378922e+00</td>\n",
       "      <td>2.583640e+01</td>\n",
       "      <td>6.260990e+01</td>\n",
       "      <td>9.378958e+01</td>\n",
       "      <td>1.143381e+02</td>\n",
       "      <td>MLT</td>\n",
       "      <td>0.0</td>\n",
       "      <td>0</td>\n",
       "      <td>0.132010</td>\n",
       "      <td>3.1</td>\n",
       "    </tr>\n",
       "    <tr>\n",
       "      <th>2</th>\n",
       "      <td>459335937</td>\n",
       "      <td>66.070192</td>\n",
       "      <td>-26.940069</td>\n",
       "      <td>1.569032e+02</td>\n",
       "      <td>1.299442e+03</td>\n",
       "      <td>4.636729e+03</td>\n",
       "      <td>2.360359e+04</td>\n",
       "      <td>5.251571e+04</td>\n",
       "      <td>8.894358e+04</td>\n",
       "      <td>MLT</td>\n",
       "      <td>0.0</td>\n",
       "      <td>0</td>\n",
       "      <td>0.131201</td>\n",
       "      <td>3.1</td>\n",
       "    </tr>\n",
       "    <tr>\n",
       "      <th>3</th>\n",
       "      <td>1568506704</td>\n",
       "      <td>66.084465</td>\n",
       "      <td>-26.942259</td>\n",
       "      <td>1.305582e+01</td>\n",
       "      <td>1.183114e+02</td>\n",
       "      <td>3.647971e+02</td>\n",
       "      <td>8.839918e+02</td>\n",
       "      <td>1.324188e+03</td>\n",
       "      <td>1.614285e+03</td>\n",
       "      <td>MLT</td>\n",
       "      <td>0.0</td>\n",
       "      <td>0</td>\n",
       "      <td>0.131838</td>\n",
       "      <td>3.1</td>\n",
       "    </tr>\n",
       "    <tr>\n",
       "      <th>4</th>\n",
       "      <td>1568509007</td>\n",
       "      <td>66.077100</td>\n",
       "      <td>-26.953881</td>\n",
       "      <td>1.966530e+01</td>\n",
       "      <td>1.894428e+02</td>\n",
       "      <td>6.040618e+02</td>\n",
       "      <td>1.326789e+03</td>\n",
       "      <td>1.907360e+03</td>\n",
       "      <td>2.289860e+03</td>\n",
       "      <td>MLT</td>\n",
       "      <td>0.0</td>\n",
       "      <td>0</td>\n",
       "      <td>0.133267</td>\n",
       "      <td>3.1</td>\n",
       "    </tr>\n",
       "    <tr>\n",
       "      <th>...</th>\n",
       "      <td>...</td>\n",
       "      <td>...</td>\n",
       "      <td>...</td>\n",
       "      <td>...</td>\n",
       "      <td>...</td>\n",
       "      <td>...</td>\n",
       "      <td>...</td>\n",
       "      <td>...</td>\n",
       "      <td>...</td>\n",
       "      <td>...</td>\n",
       "      <td>...</td>\n",
       "      <td>...</td>\n",
       "      <td>...</td>\n",
       "      <td>...</td>\n",
       "    </tr>\n",
       "    <tr>\n",
       "      <th>4232855</th>\n",
       "      <td>811836</td>\n",
       "      <td>52.744424</td>\n",
       "      <td>-36.134524</td>\n",
       "      <td>5.076070e+05</td>\n",
       "      <td>1.080536e+06</td>\n",
       "      <td>9.087136e+05</td>\n",
       "      <td>7.449787e+05</td>\n",
       "      <td>6.417327e+05</td>\n",
       "      <td>6.258378e+05</td>\n",
       "      <td>None</td>\n",
       "      <td>0.0</td>\n",
       "      <td>0</td>\n",
       "      <td>0.036837</td>\n",
       "      <td>3.1</td>\n",
       "    </tr>\n",
       "    <tr>\n",
       "      <th>4232856</th>\n",
       "      <td>811711</td>\n",
       "      <td>51.714997</td>\n",
       "      <td>-35.380632</td>\n",
       "      <td>1.687590e+06</td>\n",
       "      <td>3.898318e+06</td>\n",
       "      <td>3.951708e+06</td>\n",
       "      <td>3.639226e+06</td>\n",
       "      <td>3.314412e+06</td>\n",
       "      <td>3.255536e+06</td>\n",
       "      <td>None</td>\n",
       "      <td>0.0</td>\n",
       "      <td>0</td>\n",
       "      <td>0.033396</td>\n",
       "      <td>3.1</td>\n",
       "    </tr>\n",
       "    <tr>\n",
       "      <th>4232857</th>\n",
       "      <td>812056</td>\n",
       "      <td>52.212314</td>\n",
       "      <td>-37.740603</td>\n",
       "      <td>9.252690e+04</td>\n",
       "      <td>2.024404e+05</td>\n",
       "      <td>1.727427e+05</td>\n",
       "      <td>1.428821e+05</td>\n",
       "      <td>1.257330e+05</td>\n",
       "      <td>1.234560e+05</td>\n",
       "      <td>None</td>\n",
       "      <td>0.0</td>\n",
       "      <td>0</td>\n",
       "      <td>0.051995</td>\n",
       "      <td>3.1</td>\n",
       "    </tr>\n",
       "    <tr>\n",
       "      <th>4232858</th>\n",
       "      <td>811996</td>\n",
       "      <td>51.416731</td>\n",
       "      <td>-37.322102</td>\n",
       "      <td>9.341741e+05</td>\n",
       "      <td>2.176235e+06</td>\n",
       "      <td>1.933889e+06</td>\n",
       "      <td>1.648674e+06</td>\n",
       "      <td>1.474439e+06</td>\n",
       "      <td>1.460416e+06</td>\n",
       "      <td>None</td>\n",
       "      <td>0.0</td>\n",
       "      <td>0</td>\n",
       "      <td>0.058935</td>\n",
       "      <td>3.1</td>\n",
       "    </tr>\n",
       "    <tr>\n",
       "      <th>4232859</th>\n",
       "      <td>812058</td>\n",
       "      <td>51.789975</td>\n",
       "      <td>-37.721916</td>\n",
       "      <td>2.745065e+05</td>\n",
       "      <td>5.755493e+05</td>\n",
       "      <td>4.834152e+05</td>\n",
       "      <td>3.970652e+05</td>\n",
       "      <td>3.436023e+05</td>\n",
       "      <td>3.352722e+05</td>\n",
       "      <td>None</td>\n",
       "      <td>0.0</td>\n",
       "      <td>0</td>\n",
       "      <td>0.074330</td>\n",
       "      <td>3.1</td>\n",
       "    </tr>\n",
       "  </tbody>\n",
       "</table>\n",
       "<p>4232860 rows × 14 columns</p>\n",
       "</div>"
      ],
      "text/plain": [
       "                 id         ra        dec        flux_u        flux_g  \\\n",
       "0        1568506380  66.100848 -26.937555  5.153635e+00  4.960415e+01   \n",
       "1        1664492176  66.099048 -26.946266  9.245675e-01  8.378922e+00   \n",
       "2         459335937  66.070192 -26.940069  1.569032e+02  1.299442e+03   \n",
       "3        1568506704  66.084465 -26.942259  1.305582e+01  1.183114e+02   \n",
       "4        1568509007  66.077100 -26.953881  1.966530e+01  1.894428e+02   \n",
       "...             ...        ...        ...           ...           ...   \n",
       "4232855      811836  52.744424 -36.134524  5.076070e+05  1.080536e+06   \n",
       "4232856      811711  51.714997 -35.380632  1.687590e+06  3.898318e+06   \n",
       "4232857      812056  52.212314 -37.740603  9.252690e+04  2.024404e+05   \n",
       "4232858      811996  51.416731 -37.322102  9.341741e+05  2.176235e+06   \n",
       "4232859      812058  51.789975 -37.721916  2.745065e+05  5.755493e+05   \n",
       "\n",
       "               flux_r        flux_i        flux_z        flux_y model  \\\n",
       "0        1.580730e+02  3.470435e+02  4.987419e+02  5.986466e+02   MLT   \n",
       "1        2.583640e+01  6.260990e+01  9.378958e+01  1.143381e+02   MLT   \n",
       "2        4.636729e+03  2.360359e+04  5.251571e+04  8.894358e+04   MLT   \n",
       "3        3.647971e+02  8.839918e+02  1.324188e+03  1.614285e+03   MLT   \n",
       "4        6.040618e+02  1.326789e+03  1.907360e+03  2.289860e+03   MLT   \n",
       "...               ...           ...           ...           ...   ...   \n",
       "4232855  9.087136e+05  7.449787e+05  6.417327e+05  6.258378e+05  None   \n",
       "4232856  3.951708e+06  3.639226e+06  3.314412e+06  3.255536e+06  None   \n",
       "4232857  1.727427e+05  1.428821e+05  1.257330e+05  1.234560e+05  None   \n",
       "4232858  1.933889e+06  1.648674e+06  1.474439e+06  1.460416e+06  None   \n",
       "4232859  4.834152e+05  3.970652e+05  3.436023e+05  3.352722e+05  None   \n",
       "\n",
       "         max_stdev_delta_mag  above_threshold        av   rv  \n",
       "0                        0.0                0  0.130902  3.1  \n",
       "1                        0.0                0  0.132010  3.1  \n",
       "2                        0.0                0  0.131201  3.1  \n",
       "3                        0.0                0  0.131838  3.1  \n",
       "4                        0.0                0  0.133267  3.1  \n",
       "...                      ...              ...       ...  ...  \n",
       "4232855                  0.0                0  0.036837  3.1  \n",
       "4232856                  0.0                0  0.033396  3.1  \n",
       "4232857                  0.0                0  0.051995  3.1  \n",
       "4232858                  0.0                0  0.058935  3.1  \n",
       "4232859                  0.0                0  0.074330  3.1  \n",
       "\n",
       "[4232860 rows x 14 columns]"
      ]
     },
     "execution_count": 27,
     "metadata": {},
     "output_type": "execute_result"
    }
   ],
   "source": [
    "result_star_sum"
   ]
  },
  {
   "cell_type": "code",
   "execution_count": 28,
   "id": "d07770ad-b40b-4b39-8896-bbf97aedd041",
   "metadata": {
    "execution": {
     "iopub.execute_input": "2024-01-19T21:57:43.098063Z",
     "iopub.status.busy": "2024-01-19T21:57:43.097241Z",
     "iopub.status.idle": "2024-01-19T21:57:43.104968Z",
     "shell.execute_reply": "2024-01-19T21:57:43.104411Z",
     "shell.execute_reply.started": "2024-01-19T21:57:43.098040Z"
    }
   },
   "outputs": [
    {
     "data": {
      "text/plain": [
       "466094"
      ]
     },
     "execution_count": 28,
     "metadata": {},
     "output_type": "execute_result"
    }
   ],
   "source": [
    "np.sum(result_star_sum['above_threshold'][:])"
   ]
  },
  {
   "cell_type": "code",
   "execution_count": 29,
   "id": "af93da51-fca3-4c35-be0c-b9d12ab4da86",
   "metadata": {
    "execution": {
     "iopub.execute_input": "2024-01-19T21:57:43.737249Z",
     "iopub.status.busy": "2024-01-19T21:57:43.736976Z",
     "iopub.status.idle": "2024-01-19T21:57:43.983736Z",
     "shell.execute_reply": "2024-01-19T21:57:43.983187Z",
     "shell.execute_reply.started": "2024-01-19T21:57:43.737231Z"
    }
   },
   "outputs": [
    {
     "data": {
      "text/plain": [
       "2361402"
      ]
     },
     "execution_count": 29,
     "metadata": {},
     "output_type": "execute_result"
    }
   ],
   "source": [
    "tx = np.where((result_star_sum['model'][:] == 'MLT')) # & (result_star_sum['above_threshold'][:] == 1))\n",
    "len(tx[0])"
   ]
  },
  {
   "cell_type": "code",
   "execution_count": 30,
   "id": "27ffcde9-e29b-425d-af49-7083827f5754",
   "metadata": {
    "execution": {
     "iopub.execute_input": "2024-01-19T21:57:44.313093Z",
     "iopub.status.busy": "2024-01-19T21:57:44.312825Z",
     "iopub.status.idle": "2024-01-19T21:57:44.317235Z",
     "shell.execute_reply": "2024-01-19T21:57:44.316676Z",
     "shell.execute_reply.started": "2024-01-19T21:57:44.313075Z"
    }
   },
   "outputs": [
    {
     "data": {
      "text/plain": [
       "4232860"
      ]
     },
     "execution_count": 30,
     "metadata": {},
     "output_type": "execute_result"
    }
   ],
   "source": [
    "len(result_star_sum)"
   ]
  },
  {
   "cell_type": "code",
   "execution_count": 31,
   "id": "72c3c11e-7d20-4481-9843-baf60c42ee70",
   "metadata": {
    "execution": {
     "iopub.execute_input": "2024-01-19T21:57:44.953916Z",
     "iopub.status.busy": "2024-01-19T21:57:44.953075Z",
     "iopub.status.idle": "2024-01-19T21:57:45.199089Z",
     "shell.execute_reply": "2024-01-19T21:57:45.198527Z",
     "shell.execute_reply.started": "2024-01-19T21:57:44.953892Z"
    }
   },
   "outputs": [
    {
     "name": "stdout",
     "output_type": "stream",
     "text": [
      "31102100049 65.1609684 -35.1200114\n"
     ]
    }
   ],
   "source": [
    "tx = np.where(result_star_sum['model'][:] == 'MLT') # & result_star_sum['above_threshold'][:] == 1)\n",
    "randobj = np.random.choice(tx[0], size=1)\n",
    "print(result_star_sum['id'][randobj[0]], \\\n",
    "      result_star_sum['ra'][randobj[0]], \\\n",
    "      result_star_sum['dec'][randobj[0]])\n",
    "# del tx, ri"
   ]
  },
  {
   "cell_type": "code",
   "execution_count": 32,
   "id": "56e4a2e0-da40-4b52-9f1d-de06c779de03",
   "metadata": {
    "execution": {
     "iopub.execute_input": "2024-01-19T21:57:45.707515Z",
     "iopub.status.busy": "2024-01-19T21:57:45.706678Z",
     "iopub.status.idle": "2024-01-19T21:57:45.837387Z",
     "shell.execute_reply": "2024-01-19T21:57:45.836775Z",
     "shell.execute_reply.started": "2024-01-19T21:57:45.707491Z"
    }
   },
   "outputs": [],
   "source": [
    "umag = (result_star_sum.flux_u.values*u.nJy).to(u.ABmag)\n",
    "gmag = (result_star_sum.flux_g.values*u.nJy).to(u.ABmag)\n",
    "rmag = (result_star_sum.flux_r.values*u.nJy).to(u.ABmag)\n",
    "imag = (result_star_sum.flux_i.values*u.nJy).to(u.ABmag)\n",
    "zmag = (result_star_sum.flux_z.values*u.nJy).to(u.ABmag)\n",
    "ymag = (result_star_sum.flux_y.values*u.nJy).to(u.ABmag)\n",
    "\n",
    "gr = gmag-rmag\n",
    "gi = gmag-imag\n",
    "ri = rmag-imag\n",
    "iz = imag-zmag\n",
    "zy = zmag-ymag"
   ]
  },
  {
   "cell_type": "code",
   "execution_count": 33,
   "id": "68d9ca32-4415-4d9a-8e19-c05094b36731",
   "metadata": {
    "execution": {
     "iopub.execute_input": "2024-01-19T21:57:46.653004Z",
     "iopub.status.busy": "2024-01-19T21:57:46.652100Z",
     "iopub.status.idle": "2024-01-19T21:57:52.643404Z",
     "shell.execute_reply": "2024-01-19T21:57:52.642778Z",
     "shell.execute_reply.started": "2024-01-19T21:57:46.652975Z"
    }
   },
   "outputs": [
    {
     "data": {
      "image/png": "[encoded data removed]",
      "text/plain": [
       "<Figure size 640x480 with 1 Axes>"
      ]
     },
     "metadata": {},
     "output_type": "display_data"
    }
   ],
   "source": [
    "plt.plot(iz, zy, 'k.', alpha=0.1)\n",
    "plt.plot(iz[tx], zy[tx], 'r.', alpha=0.5)\n",
    "plt.xlim(-1, 3)\n",
    "plt.ylim(-1, 3)\n",
    "plt.xlabel('i-z')\n",
    "plt.ylabel('z-y')\n",
    "plt.show()"
   ]
  },
  {
   "cell_type": "code",
   "execution_count": 46,
   "id": "93e90fa8-1764-475c-977c-78e2023c9c21",
   "metadata": {
    "execution": {
     "iopub.execute_input": "2024-01-19T22:20:23.394709Z",
     "iopub.status.busy": "2024-01-19T22:20:23.393593Z",
     "iopub.status.idle": "2024-01-19T22:20:23.406388Z",
     "shell.execute_reply": "2024-01-19T22:20:23.405737Z",
     "shell.execute_reply.started": "2024-01-19T22:20:23.394682Z"
    }
   },
   "outputs": [
    {
     "data": {
      "text/plain": [
       "431143"
      ]
     },
     "execution_count": 46,
     "metadata": {},
     "output_type": "execute_result"
    }
   ],
   "source": [
    "redstars = np.where(iz[tx[0]].value > 0.8)\n",
    "len(redstars[0])"
   ]
  },
  {
   "cell_type": "code",
   "execution_count": 49,
   "id": "c24cb8d2-c610-4763-8924-c7d17d96ed07",
   "metadata": {
    "execution": {
     "iopub.execute_input": "2024-01-19T22:22:27.123293Z",
     "iopub.status.busy": "2024-01-19T22:22:27.122578Z",
     "iopub.status.idle": "2024-01-19T22:22:27.294287Z",
     "shell.execute_reply": "2024-01-19T22:22:27.293670Z",
     "shell.execute_reply.started": "2024-01-19T22:22:27.123270Z"
    }
   },
   "outputs": [
    {
     "data": {
      "text/plain": [
       "(array([2.0000e+00, 5.0000e+00, 1.4000e+01, 2.0000e+01, 4.1000e+01,\n",
       "        9.3000e+01, 1.7800e+02, 3.2400e+02, 5.1100e+02, 8.2700e+02,\n",
       "        1.3430e+03, 1.8760e+03, 2.7270e+03, 3.7330e+03, 5.1480e+03,\n",
       "        7.2380e+03, 9.6440e+03, 1.3164e+04, 1.7550e+04, 2.2341e+04,\n",
       "        2.7089e+04, 3.1518e+04, 3.5029e+04, 3.8267e+04, 4.2809e+04,\n",
       "        4.9414e+04, 5.7134e+04, 4.8928e+04, 1.3734e+04, 4.4200e+02]),\n",
       " array([ 5.79327297,  6.54096937,  7.28866577,  8.03636265,  8.78405857,\n",
       "         9.53175545, 10.27945137, 11.02714825, 11.77484512, 12.52254105,\n",
       "        13.27023792, 14.01793385, 14.76563072, 15.51332664, 16.26102257,\n",
       "        17.0087204 , 17.75641632, 18.50411224, 19.25181007, 19.999506  ,\n",
       "        20.74720192, 21.49489784, 22.24259567, 22.9902916 , 23.73798752,\n",
       "        24.48568535, 25.23338127, 25.98107719, 26.72877312, 27.47647095,\n",
       "        28.22416687]),\n",
       " <BarContainer object of 30 artists>)"
      ]
     },
     "execution_count": 49,
     "metadata": {},
     "output_type": "execute_result"
    },
    {
     "data": {
      "image/png": "[encoded data removed]",
      "text/plain": [
       "<Figure size 640x480 with 1 Axes>"
      ]
     },
     "metadata": {},
     "output_type": "display_data"
    }
   ],
   "source": [
    "plt.hist(imag[redstars].value, bins=30)"
   ]
  },
  {
   "cell_type": "code",
   "execution_count": null,
   "id": "2706404c-7d0a-4ba0-a851-a6e9c75c10be",
   "metadata": {},
   "outputs": [],
   "source": []
  },
  {
   "cell_type": "code",
   "execution_count": null,
   "id": "a7b574a1-66fd-4e23-a4a0-36aab40e6387",
   "metadata": {},
   "outputs": [],
   "source": []
  },
  {
   "cell_type": "code",
   "execution_count": null,
   "id": "f1b45b24-508a-40dd-b221-5e66f0faa987",
   "metadata": {},
   "outputs": [],
   "source": []
  },
  {
   "cell_type": "code",
   "execution_count": 34,
   "id": "455031cc-f197-4697-9304-bb40f3a16fc6",
   "metadata": {
    "execution": {
     "iopub.execute_input": "2024-01-19T21:57:54.724262Z",
     "iopub.status.busy": "2024-01-19T21:57:54.723425Z",
     "iopub.status.idle": "2024-01-19T21:57:54.727414Z",
     "shell.execute_reply": "2024-01-19T21:57:54.726899Z",
     "shell.execute_reply.started": "2024-01-19T21:57:54.724240Z"
    }
   },
   "outputs": [],
   "source": [
    "my_star_id = result_star_sum['id'][randobj[0]]\n",
    "my_star_ra = result_star_sum['ra'][randobj[0]]\n",
    "my_star_dec = result_star_sum['dec'][randobj[0]]"
   ]
  },
  {
   "cell_type": "code",
   "execution_count": 35,
   "id": "4bf9e8bb-1b25-4875-9109-b07d46e30118",
   "metadata": {
    "execution": {
     "iopub.execute_input": "2024-01-19T21:57:55.890608Z",
     "iopub.status.busy": "2024-01-19T21:57:55.889899Z",
     "iopub.status.idle": "2024-01-19T21:57:55.893930Z",
     "shell.execute_reply": "2024-01-19T21:57:55.893352Z",
     "shell.execute_reply.started": "2024-01-19T21:57:55.890585Z"
    }
   },
   "outputs": [
    {
     "name": "stdout",
     "output_type": "stream",
     "text": [
      "31102100049 65.1609684 -35.1200114\n"
     ]
    }
   ],
   "source": [
    "print(my_star_id, my_star_ra, my_star_dec)"
   ]
  },
  {
   "cell_type": "markdown",
   "id": "ad930aa0-90ee-4715-a1f0-cc45e8e1da10",
   "metadata": {},
   "source": [
    "If all we had was an RA and Dec that we got by, for example, identifying a `DiaObject` that we thought might be an RR Lyrae, we could find the `id` in the star summary table.\n",
    "\n",
    "For this example, use RA = 72.5850633 and Dec = -44.6386746."
   ]
  },
  {
   "cell_type": "code",
   "execution_count": 31,
   "id": "69ada608-29ee-4700-8f0d-4a3ee5a33323",
   "metadata": {
    "execution": {
     "iopub.execute_input": "2024-01-19T21:48:02.775853Z",
     "iopub.status.busy": "2024-01-19T21:48:02.775083Z",
     "iopub.status.idle": "2024-01-19T21:48:02.778562Z",
     "shell.execute_reply": "2024-01-19T21:48:02.777972Z",
     "shell.execute_reply.started": "2024-01-19T21:48:02.775827Z"
    }
   },
   "outputs": [],
   "source": [
    "# my_star_ra = 72.5850633\n",
    "# my_star_dec = -44.6386746"
   ]
  },
  {
   "cell_type": "code",
   "execution_count": 32,
   "id": "00e44850-2079-491e-b92f-efb29477c4d1",
   "metadata": {
    "execution": {
     "iopub.execute_input": "2024-01-19T21:48:08.556956Z",
     "iopub.status.busy": "2024-01-19T21:48:08.556366Z",
     "iopub.status.idle": "2024-01-19T21:48:08.624985Z",
     "shell.execute_reply": "2024-01-19T21:48:08.624231Z",
     "shell.execute_reply.started": "2024-01-19T21:48:08.556918Z"
    }
   },
   "outputs": [
    {
     "name": "stdout",
     "output_type": "stream",
     "text": [
      "Unique match identified within 2 arcseconds.\n",
      "31500431204 57.7696272 -33.5449145\n"
     ]
    }
   ],
   "source": [
    "tx = np.where((np.abs(result_star_sum['ra'] - my_star_ra) < 2.0/3600.)\n",
    "              & (np.abs(result_star_sum['dec'] - my_star_dec) < 2.0/3600.))[0]\n",
    "if(len(tx) == 1):\n",
    "    print('Unique match identified within 2 arcseconds.')\n",
    "    print(result_star_sum['id'][tx[0]], \\\n",
    "          result_star_sum['ra'][tx[0]], \\\n",
    "          result_star_sum['dec'][tx[0]])\n",
    "else:\n",
    "    print('Number of matches: ', len(tx))\n",
    "del tx"
   ]
  },
  {
   "cell_type": "code",
   "execution_count": 39,
   "id": "d3af8cab-4f7d-4ba8-a990-1d520e7a0fd1",
   "metadata": {
    "execution": {
     "iopub.execute_input": "2024-01-19T22:14:41.535495Z",
     "iopub.status.busy": "2024-01-19T22:14:41.534557Z",
     "iopub.status.idle": "2024-01-19T22:14:47.423418Z",
     "shell.execute_reply": "2024-01-19T22:14:47.422791Z",
     "shell.execute_reply.started": "2024-01-19T22:14:41.535468Z"
    }
   },
   "outputs": [],
   "source": [
    "results = service.search(\"SELECT coord_ra, coord_dec, objectId, g_psfFlux, r_psfFlux, i_psfFlux, \"\\\n",
    "                         \"detect_isPrimary, g_extendedness, r_extendedness, i_extendedness \"\\\n",
    "                         \"FROM dp02_dc2_catalogs.Object \"\\\n",
    "                         \"WHERE CONTAINS(POINT('ICRS', coord_ra, coord_dec), CIRCLE('ICRS',\"+str(my_star_ra)+\", \"+str(my_star_dec)+\", 0.0005)) = 1 \"\\\n",
    "                         \"AND detect_isPrimary>0.5\", maxrec=100000)\n",
    "objs = results.to_table()\n"
   ]
  },
  {
   "cell_type": "code",
   "execution_count": 40,
   "id": "cb3a8b96-79ce-47df-8d28-c2c262846231",
   "metadata": {
    "execution": {
     "iopub.execute_input": "2024-01-19T22:14:49.976388Z",
     "iopub.status.busy": "2024-01-19T22:14:49.975495Z",
     "iopub.status.idle": "2024-01-19T22:14:49.981770Z",
     "shell.execute_reply": "2024-01-19T22:14:49.981246Z",
     "shell.execute_reply.started": "2024-01-19T22:14:49.976366Z"
    }
   },
   "outputs": [
    {
     "data": {
      "text/html": [
       "<div><i>Table length=1</i>\n",
       "<table id=\"table135585570855632\" class=\"table-striped table-bordered table-condensed\">\n",
       "<thead><tr><th>coord_ra</th><th>coord_dec</th><th>objectId</th><th>g_psfFlux</th><th>r_psfFlux</th><th>i_psfFlux</th><th>detect_isPrimary</th><th>g_extendedness</th><th>r_extendedness</th><th>i_extendedness</th></tr></thead>\n",
       "<thead><tr><th>deg</th><th>deg</th><th></th><th>nJy</th><th>nJy</th><th>nJy</th><th></th><th></th><th></th><th></th></tr></thead>\n",
       "<thead><tr><th>float64</th><th>float64</th><th>int64</th><th>float64</th><th>float64</th><th>float64</th><th>bool</th><th>float64</th><th>float64</th><th>float64</th></tr></thead>\n",
       "<tr><td>65.1609695</td><td>-35.1200118</td><td>1737087634397768515</td><td>1106.5635754</td><td>3513.2820496</td><td>8357.2262517</td><td>True</td><td>1.0</td><td>1.0</td><td>1.0</td></tr>\n",
       "</table></div>"
      ],
      "text/plain": [
       "<Table length=1>\n",
       " coord_ra   coord_dec        objectId      ... r_extendedness i_extendedness\n",
       "   deg         deg                         ...                              \n",
       " float64     float64          int64        ...    float64        float64    \n",
       "---------- ----------- ------------------- ... -------------- --------------\n",
       "65.1609695 -35.1200118 1737087634397768515 ...            1.0            1.0"
      ]
     },
     "execution_count": 40,
     "metadata": {},
     "output_type": "execute_result"
    }
   ],
   "source": [
    "objs"
   ]
  },
  {
   "cell_type": "code",
   "execution_count": 50,
   "id": "98b15776-7375-4efc-bfa0-73bd653c14f3",
   "metadata": {
    "execution": {
     "iopub.execute_input": "2024-01-19T23:03:47.231494Z",
     "iopub.status.busy": "2024-01-19T23:03:47.230589Z",
     "iopub.status.idle": "2024-01-19T23:03:47.234624Z",
     "shell.execute_reply": "2024-01-19T23:03:47.234029Z",
     "shell.execute_reply.started": "2024-01-19T23:03:47.231469Z"
    }
   },
   "outputs": [],
   "source": [
    "sel_objid = objs[0]['objectId']"
   ]
  },
  {
   "cell_type": "code",
   "execution_count": 51,
   "id": "22267dfe-a227-43a4-9bb3-16e5b7f214db",
   "metadata": {
    "execution": {
     "iopub.execute_input": "2024-01-19T23:03:55.593954Z",
     "iopub.status.busy": "2024-01-19T23:03:55.593030Z",
     "iopub.status.idle": "2024-01-19T23:03:55.597125Z",
     "shell.execute_reply": "2024-01-19T23:03:55.596485Z",
     "shell.execute_reply.started": "2024-01-19T23:03:55.593932Z"
    }
   },
   "outputs": [],
   "source": [
    "# Define the query\n",
    "query = \"SELECT src.band, src.ccdVisitId, src.coord_ra, src.coord_dec, \"\\\n",
    "        \"src.objectId, src.psfFlux, src.psfFluxErr, \"\\\n",
    "        \"visinfo.ccdVisitId, visinfo.band, visinfo.expMidptMJD, visinfo.zeroPoint \"\\\n",
    "        \"FROM dp02_dc2_catalogs.ForcedSource as src \"\\\n",
    "        \"JOIN dp02_dc2_catalogs.CcdVisit as visinfo \"\\\n",
    "        \"ON visinfo.ccdVisitId = src.ccdVisitId \"\\\n",
    "        \"WHERE src.objectId = \"+str(sel_objid)+\" \"\n"
   ]
  },
  {
   "cell_type": "code",
   "execution_count": 52,
   "id": "79dbddd7-5b92-4bdf-a9d7-6b0cadad4403",
   "metadata": {
    "execution": {
     "iopub.execute_input": "2024-01-19T23:04:09.702656Z",
     "iopub.status.busy": "2024-01-19T23:04:09.701866Z",
     "iopub.status.idle": "2024-01-19T23:04:12.139023Z",
     "shell.execute_reply": "2024-01-19T23:04:12.138094Z",
     "shell.execute_reply.started": "2024-01-19T23:04:09.702611Z"
    }
   },
   "outputs": [
    {
     "name": "stderr",
     "output_type": "stream",
     "text": [
      "/opt/lsst/software/stack/conda/miniconda3-py38_4.9.2/envs/lsst-scipipe-7.0.1/lib/python3.11/site-packages/astropy/units/function/logarithmic.py:66: RuntimeWarning: invalid value encountered in log10\n",
      "  return dex.to(self._function_unit, np.log10(x))\n"
     ]
    }
   ],
   "source": [
    "results = service.search(query)\n",
    "srcs = results.to_table()\n",
    "\n",
    "srcs['psfMag'] = (srcs['psfFlux'].value*u.nJy).to(u.ABmag)"
   ]
  },
  {
   "cell_type": "code",
   "execution_count": 53,
   "id": "04064181-9211-4ce8-a3b7-ea1cf0807a38",
   "metadata": {
    "execution": {
     "iopub.execute_input": "2024-01-19T23:04:19.807654Z",
     "iopub.status.busy": "2024-01-19T23:04:19.806930Z",
     "iopub.status.idle": "2024-01-19T23:04:19.820346Z",
     "shell.execute_reply": "2024-01-19T23:04:19.819510Z",
     "shell.execute_reply.started": "2024-01-19T23:04:19.807614Z"
    }
   },
   "outputs": [
    {
     "data": {
      "text/html": [
       "<div><i>Table length=425</i>\n",
       "<table id=\"table135585589954832\" class=\"table-striped table-bordered table-condensed\">\n",
       "<thead><tr><th>band</th><th>ccdVisitId</th><th>coord_ra</th><th>coord_dec</th><th>objectId</th><th>psfFlux</th><th>psfFluxErr</th><th>ccdVisitId2</th><th>band2</th><th>expMidptMJD</th><th>zeroPoint</th><th>psfMag</th></tr></thead>\n",
       "<thead><tr><th></th><th></th><th>deg</th><th>deg</th><th></th><th>nJy</th><th>nJy</th><th></th><th></th><th>d</th><th>mag</th><th>mag(AB)</th></tr></thead>\n",
       "<thead><tr><th>object</th><th>int64</th><th>float64</th><th>float64</th><th>int64</th><th>float64</th><th>float64</th><th>int64</th><th>object</th><th>float64</th><th>float32</th><th>float64</th></tr></thead>\n",
       "<tr><td>u</td><td>235785083</td><td>65.1609695</td><td>-35.1200118</td><td>1737087634397768515</td><td>-155.121196</td><td>259.4543556</td><td>235785083</td><td>u</td><td>59905.0642402</td><td>30.4596</td><td>nan</td></tr>\n",
       "<tr><td>u</td><td>1204987138</td><td>65.1609695</td><td>-35.1200118</td><td>1737087634397768515</td><td>70.7722283</td><td>223.2115095</td><td>1204987138</td><td>u</td><td>61351.1109692</td><td>30.4739</td><td>26.77534282548597</td></tr>\n",
       "<tr><td>u</td><td>885376079</td><td>65.1609695</td><td>-35.1200118</td><td>1737087634397768515</td><td>139.7512896</td><td>212.0562329</td><td>885376079</td><td>u</td><td>60878.4139852</td><td>30.4748</td><td>26.036610439577373</td></tr>\n",
       "<tr><td>u</td><td>466760160</td><td>65.1609695</td><td>-35.1200118</td><td>1737087634397768515</td><td>538.6032458</td><td>286.9051641</td><td>466760160</td><td>u</td><td>60261.0952472</td><td>30.455</td><td>24.571827584288698</td></tr>\n",
       "<tr><td>u</td><td>962484004</td><td>65.1609695</td><td>-35.1200118</td><td>1737087634397768515</td><td>-118.5802601</td><td>238.9124291</td><td>962484004</td><td>u</td><td>60996.1048492</td><td>30.4656</td><td>nan</td></tr>\n",
       "<tr><td>u</td><td>963912167</td><td>65.1609695</td><td>-35.1200118</td><td>1737087634397768515</td><td>10.3301839</td><td>207.5420295</td><td>963912167</td><td>u</td><td>60998.0744062</td><td>30.4773</td><td>28.864729867535814</td></tr>\n",
       "<tr><td>u</td><td>418193010</td><td>65.1609695</td><td>-35.1200118</td><td>1737087634397768515</td><td>-233.4443183</td><td>172.5044836</td><td>418193010</td><td>u</td><td>60176.3937672</td><td>30.4809</td><td>nan</td></tr>\n",
       "<tr><td>u</td><td>235062077</td><td>65.1609695</td><td>-35.1200118</td><td>1737087634397768515</td><td>282.1040755</td><td>236.8013558</td><td>235062077</td><td>u</td><td>59904.0762212</td><td>30.4699</td><td>25.273976599088932</td></tr>\n",
       "<tr><td>u</td><td>433074101</td><td>65.1609695</td><td>-35.1200118</td><td>1737087634397768515</td><td>19.1788869</td><td>236.5526305</td><td>433074101</td><td>u</td><td>60200.2540802</td><td>30.4688</td><td>28.19294150480281</td></tr>\n",
       "<tr><td>...</td><td>...</td><td>...</td><td>...</td><td>...</td><td>...</td><td>...</td><td>...</td><td>...</td><td>...</td><td>...</td><td>...</td></tr>\n",
       "<tr><td>i</td><td>1196460077</td><td>65.1609695</td><td>-35.1200118</td><td>1737087634397768515</td><td>8188.1023715</td><td>216.6705189</td><td>1196460077</td><td>i</td><td>61332.3352982</td><td>31.8519</td><td>21.617041840555203</td></tr>\n",
       "<tr><td>i</td><td>932374042</td><td>65.1609695</td><td>-35.1200118</td><td>1737087634397768515</td><td>8451.6752115</td><td>261.1235985</td><td>932374042</td><td>i</td><td>60946.3272282</td><td>31.8438</td><td>21.5826430018852</td></tr>\n",
       "<tr><td>i</td><td>936814021</td><td>65.1609695</td><td>-35.1200118</td><td>1737087634397768515</td><td>8805.9556954</td><td>257.8243587</td><td>936814021</td><td>i</td><td>60952.3684772</td><td>31.8467</td><td>21.538058759742817</td></tr>\n",
       "<tr><td>i</td><td>227915085</td><td>65.1609695</td><td>-35.1200118</td><td>1737087634397768515</td><td>8414.1153136</td><td>276.3614975</td><td>227915085</td><td>i</td><td>59887.1866412</td><td>31.8535</td><td>21.587478850919673</td></tr>\n",
       "<tr><td>i</td><td>1197850036</td><td>65.1609695</td><td>-35.1200118</td><td>1737087634397768515</td><td>8607.9020081</td><td>263.8917325</td><td>1197850036</td><td>i</td><td>61334.2465322</td><td>31.8532</td><td>21.562756714087243</td></tr>\n",
       "<tr><td>i</td><td>945617008</td><td>65.1609695</td><td>-35.1200118</td><td>1737087634397768515</td><td>8753.9509672</td><td>246.8178579</td><td>945617008</td><td>i</td><td>60964.1591492</td><td>31.8491</td><td>21.544489725736923</td></tr>\n",
       "<tr><td>i</td><td>1229689115</td><td>65.1609695</td><td>-35.1200118</td><td>1737087634397768515</td><td>8393.4501086</td><td>250.6031312</td><td>1229689115</td><td>i</td><td>61391.0821072</td><td>31.8506</td><td>21.59014871677945</td></tr>\n",
       "<tr><td>i</td><td>665692001</td><td>65.1609695</td><td>-35.1200118</td><td>1737087634397768515</td><td>8172.0654397</td><td>281.5157772</td><td>665692001</td><td>i</td><td>60568.3183562</td><td>31.8527</td><td>21.619170410780928</td></tr>\n",
       "<tr><td>i</td><td>478990186</td><td>65.1609695</td><td>-35.1200118</td><td>1737087634397768515</td><td>8240.0476988</td><td>321.2935067</td><td>478990186</td><td>i</td><td>60278.2623372</td><td>31.8519</td><td>21.610175685785826</td></tr>\n",
       "<tr><td>i</td><td>1000789100</td><td>65.1609695</td><td>-35.1200118</td><td>1737087634397768515</td><td>8970.802742</td><td>377.0682489</td><td>1000789100</td><td>i</td><td>61059.0757112</td><td>31.8124</td><td>21.51792173218288</td></tr>\n",
       "</table></div>"
      ],
      "text/plain": [
       "<Table length=425>\n",
       " band  ccdVisitId  coord_ra  ...  expMidptMJD  zeroPoint       psfMag      \n",
       "                     deg     ...       d          mag         mag(AB)      \n",
       "object   int64     float64   ...    float64     float32       float64      \n",
       "------ ---------- ---------- ... ------------- --------- ------------------\n",
       "     u  235785083 65.1609695 ... 59905.0642402   30.4596                nan\n",
       "     u 1204987138 65.1609695 ... 61351.1109692   30.4739  26.77534282548597\n",
       "     u  885376079 65.1609695 ... 60878.4139852   30.4748 26.036610439577373\n",
       "     u  466760160 65.1609695 ... 60261.0952472    30.455 24.571827584288698\n",
       "     u  962484004 65.1609695 ... 60996.1048492   30.4656                nan\n",
       "     u  963912167 65.1609695 ... 60998.0744062   30.4773 28.864729867535814\n",
       "     u  418193010 65.1609695 ... 60176.3937672   30.4809                nan\n",
       "     u  235062077 65.1609695 ... 59904.0762212   30.4699 25.273976599088932\n",
       "     u  433074101 65.1609695 ... 60200.2540802   30.4688  28.19294150480281\n",
       "   ...        ...        ... ...           ...       ...                ...\n",
       "     i 1196460077 65.1609695 ... 61332.3352982   31.8519 21.617041840555203\n",
       "     i  932374042 65.1609695 ... 60946.3272282   31.8438   21.5826430018852\n",
       "     i  936814021 65.1609695 ... 60952.3684772   31.8467 21.538058759742817\n",
       "     i  227915085 65.1609695 ... 59887.1866412   31.8535 21.587478850919673\n",
       "     i 1197850036 65.1609695 ... 61334.2465322   31.8532 21.562756714087243\n",
       "     i  945617008 65.1609695 ... 60964.1591492   31.8491 21.544489725736923\n",
       "     i 1229689115 65.1609695 ... 61391.0821072   31.8506  21.59014871677945\n",
       "     i  665692001 65.1609695 ... 60568.3183562   31.8527 21.619170410780928\n",
       "     i  478990186 65.1609695 ... 60278.2623372   31.8519 21.610175685785826\n",
       "     i 1000789100 65.1609695 ... 61059.0757112   31.8124  21.51792173218288"
      ]
     },
     "execution_count": 53,
     "metadata": {},
     "output_type": "execute_result"
    }
   ],
   "source": [
    "srcs"
   ]
  },
  {
   "cell_type": "code",
   "execution_count": 55,
   "id": "bfcee1ad-bb21-4323-9182-fe3f8a9236b9",
   "metadata": {
    "execution": {
     "iopub.execute_input": "2024-01-19T23:04:58.947316Z",
     "iopub.status.busy": "2024-01-19T23:04:58.946484Z",
     "iopub.status.idle": "2024-01-19T23:04:58.952567Z",
     "shell.execute_reply": "2024-01-19T23:04:58.951882Z",
     "shell.execute_reply.started": "2024-01-19T23:04:58.947289Z"
    }
   },
   "outputs": [],
   "source": [
    "picku = (srcs['band'] == 'u')\n",
    "pickg = (srcs['band'] == 'g')\n",
    "pickr = (srcs['band'] == 'r')\n",
    "picki = (srcs['band'] == 'i')\n",
    "pickz = (srcs['band'] == 'z')\n",
    "picky = (srcs['band'] == 'y')"
   ]
  },
  {
   "cell_type": "code",
   "execution_count": 56,
   "id": "1a919a6a-9aa3-4806-9941-c216d84bdf14",
   "metadata": {
    "execution": {
     "iopub.execute_input": "2024-01-19T23:05:11.960503Z",
     "iopub.status.busy": "2024-01-19T23:05:11.959682Z",
     "iopub.status.idle": "2024-01-19T23:05:12.085825Z",
     "shell.execute_reply": "2024-01-19T23:05:12.085094Z",
     "shell.execute_reply.started": "2024-01-19T23:05:11.960477Z"
    }
   },
   "outputs": [
    {
     "data": {
      "image/png": "[encoded data removed]",
      "text/plain": [
       "<Figure size 640x480 with 1 Axes>"
      ]
     },
     "metadata": {},
     "output_type": "display_data"
    }
   ],
   "source": [
    "plt.plot(srcs[pickr]['expMidptMJD'], srcs[pickr]['psfMag'], 'k.')\n",
    "plt.show()"
   ]
  },
  {
   "cell_type": "code",
   "execution_count": null,
   "id": "5281f775-453b-48a1-9b23-9444a72eda11",
   "metadata": {},
   "outputs": [],
   "source": []
  },
  {
   "cell_type": "code",
   "execution_count": null,
   "id": "153187a1-2a5c-4092-b933-b27a84e9cbb8",
   "metadata": {},
   "outputs": [],
   "source": []
  },
  {
   "cell_type": "code",
   "execution_count": null,
   "id": "e6d92214-ee08-4740-8d2f-06c4fef688a7",
   "metadata": {},
   "outputs": [],
   "source": []
  },
  {
   "cell_type": "code",
   "execution_count": null,
   "id": "11d1e034-08ba-4216-b7ec-38935f9cc2bc",
   "metadata": {},
   "outputs": [],
   "source": []
  },
  {
   "cell_type": "code",
   "execution_count": null,
   "id": "cd0a1ad3-2cd1-4b85-a020-5bb83b7ec557",
   "metadata": {},
   "outputs": [],
   "source": []
  },
  {
   "cell_type": "markdown",
   "id": "8b96ca23-74c0-4550-b543-a0ea95e2f021",
   "metadata": {},
   "source": [
    "Clean up."
   ]
  },
  {
   "cell_type": "code",
   "execution_count": null,
   "id": "bc24c699-b9ba-4273-ba9d-266e07d82513",
   "metadata": {
    "tags": []
   },
   "outputs": [],
   "source": [
    "del result_star_sum, my_star_ra, my_star_dec\n",
    "gc.collect()"
   ]
  },
  {
   "cell_type": "markdown",
   "id": "a2211840-e561-459d-b170-65ac37aea050",
   "metadata": {},
   "source": [
    "### 2.3. Use `pyarrow` to retrieve the true light curve\n",
    "\n",
    "Use `pyarrow` to retrieve the  true variability (true light curve) for this one RR Lyrae of interest, with `id` = 836896.\n",
    "\n",
    "Read the parquet table and only retrieve rows where `id` = 836896. This takes about 10 seconds."
   ]
  },
  {
   "cell_type": "code",
   "execution_count": null,
   "id": "83267c64-7c06-4fdd-9bc5-8bcfab07980b",
   "metadata": {
    "execution": {
     "iopub.execute_input": "2024-01-19T21:48:30.189225Z",
     "iopub.status.busy": "2024-01-19T21:48:30.188491Z"
    },
    "tags": []
   },
   "outputs": [],
   "source": [
    "result = pq.read_table(pfnm_star_var, use_threads=False,\n",
    "                       filters=[('id', '==', my_star_id)])"
   ]
  },
  {
   "cell_type": "markdown",
   "id": "80dee140-eb9e-473c-97ff-70cfd1449a30",
   "metadata": {},
   "source": [
    "Convert the result ot a pandas dataframe, `df`. This takes <1 second."
   ]
  },
  {
   "cell_type": "code",
   "execution_count": 35,
   "id": "1c501dc3-3b5c-4131-83f6-8b616eb79b51",
   "metadata": {
    "execution": {
     "iopub.execute_input": "2023-12-06T18:01:39.449883Z",
     "iopub.status.busy": "2023-12-06T18:01:39.449679Z",
     "iopub.status.idle": "2023-12-06T18:01:39.454026Z",
     "shell.execute_reply": "2023-12-06T18:01:39.453547Z",
     "shell.execute_reply.started": "2023-12-06T18:01:39.449867Z"
    }
   },
   "outputs": [],
   "source": [
    "df = result.to_pandas()"
   ]
  },
  {
   "cell_type": "markdown",
   "id": "2fce9bce-727b-4d46-9157-c27a3c0de626",
   "metadata": {},
   "source": [
    "**Option** to show the dataframe."
   ]
  },
  {
   "cell_type": "code",
   "execution_count": 36,
   "id": "3a4b2cea-de1a-4aa2-b9e6-3ea6bca08cbf",
   "metadata": {
    "execution": {
     "iopub.execute_input": "2023-12-06T18:01:39.455195Z",
     "iopub.status.busy": "2023-12-06T18:01:39.454972Z",
     "iopub.status.idle": "2023-12-06T18:01:39.469778Z",
     "shell.execute_reply": "2023-12-06T18:01:39.469296Z",
     "shell.execute_reply.started": "2023-12-06T18:01:39.455180Z"
    },
    "tags": []
   },
   "outputs": [
    {
     "data": {
      "text/html": [
       "<div>\n",
       "<style scoped>\n",
       "    .dataframe tbody tr th:only-of-type {\n",
       "        vertical-align: middle;\n",
       "    }\n",
       "\n",
       "    .dataframe tbody tr th {\n",
       "        vertical-align: top;\n",
       "    }\n",
       "\n",
       "    .dataframe thead th {\n",
       "        text-align: right;\n",
       "    }\n",
       "</style>\n",
       "<table border=\"1\" class=\"dataframe\">\n",
       "  <thead>\n",
       "    <tr style=\"text-align: right;\">\n",
       "      <th></th>\n",
       "      <th>id</th>\n",
       "      <th>obsHistID</th>\n",
       "      <th>MJD</th>\n",
       "      <th>bandpass</th>\n",
       "      <th>delta_flux</th>\n",
       "    </tr>\n",
       "  </thead>\n",
       "  <tbody>\n",
       "  </tbody>\n",
       "</table>\n",
       "</div>"
      ],
      "text/plain": [
       "Empty DataFrame\n",
       "Columns: [id, obsHistID, MJD, bandpass, delta_flux]\n",
       "Index: []"
      ]
     },
     "execution_count": 36,
     "metadata": {},
     "output_type": "execute_result"
    }
   ],
   "source": [
    "df"
   ]
  },
  {
   "cell_type": "markdown",
   "id": "e8331823-2383-4841-b6a3-76c9736cec76",
   "metadata": {},
   "source": [
    "Plot the g, r, and i-band `delta_flux` values."
   ]
  },
  {
   "cell_type": "code",
   "execution_count": null,
   "id": "5a3207dd-4cff-41d7-ba8f-8d1e166e78e4",
   "metadata": {},
   "outputs": [],
   "source": [
    "gx = df['bandpass'][:] == 'g'\n",
    "rx = df['bandpass'][:] == 'r'\n",
    "ix = df['bandpass'][:] == 'i'\n",
    "plt.plot(df['MJD'][gx], df['delta_flux'][gx], \\\n",
    "         'o', ms=3, mew=0, alpha=0.3, color='darkgreen')\n",
    "plt.plot(df['MJD'][rx], df['delta_flux'][rx], \\\n",
    "         'o', ms=3, mew=0, alpha=0.3, color='darkorange')\n",
    "plt.plot(df['MJD'][ix], df['delta_flux'][ix], \\\n",
    "         'o', ms=3, mew=0, alpha=0.3, color='black')\n",
    "plt.xlabel('MJD (days)')\n",
    "plt.ylabel('delta$\\_$flux (nJy)')\n",
    "plt.show()\n",
    "del gx, rx, ix"
   ]
  },
  {
   "cell_type": "code",
   "execution_count": null,
   "id": "63214b81-404c-463e-a5b3-0859bd9de540",
   "metadata": {},
   "outputs": [],
   "source": [
    "del result, df\n",
    "gc.collect()"
   ]
  },
  {
   "cell_type": "markdown",
   "id": "4fbf38dd-5218-46ad-9d93-26633f15a079",
   "metadata": {},
   "source": [
    "### 2.4. Use `dask` to retrieve the true light curve\n",
    "\n",
    "Use `dask` to retrieve the  true variability (true light curve) for this one RR Lyrae of interest, with `id` = 836896.\n",
    "\n",
    "**Option** to read the parquet file and view what `dd.read_parquet` returns. Note that it is the structure of the dataframe, NOT a dataframe filled with values."
   ]
  },
  {
   "cell_type": "code",
   "execution_count": null,
   "id": "91167569-4833-4b22-8ee1-7f4fc7daa724",
   "metadata": {
    "tags": []
   },
   "outputs": [],
   "source": [
    "# result = dd.read_parquet(pfnm_star_var)"
   ]
  },
  {
   "cell_type": "code",
   "execution_count": null,
   "id": "7ae79d9f-e056-47ee-b583-0f86f374d58c",
   "metadata": {
    "tags": []
   },
   "outputs": [],
   "source": [
    "# result"
   ]
  },
  {
   "cell_type": "code",
   "execution_count": null,
   "id": "bce46dcf-ef38-4660-a2f3-33cf56800e05",
   "metadata": {
    "tags": []
   },
   "outputs": [],
   "source": [
    "# del result"
   ]
  },
  {
   "cell_type": "markdown",
   "id": "1a38040f-5240-4892-9c22-b10b463a1529",
   "metadata": {},
   "source": [
    "Read the parquet table and only retrieve rows where `id` = 836896. This takes <1 second."
   ]
  },
  {
   "cell_type": "code",
   "execution_count": null,
   "id": "c46acec9-fcc8-40f0-be9b-764513e1b021",
   "metadata": {},
   "outputs": [],
   "source": [
    "result = dd.read_parquet(pfnm_star_var, filters = [('id', '==', 836896)])"
   ]
  },
  {
   "cell_type": "markdown",
   "id": "a651bb75-b182-442b-8d8d-d30e43a1ea8e",
   "metadata": {},
   "source": [
    "Convert the result into a `pandas` dataframe. This takes up to 15 seconds."
   ]
  },
  {
   "cell_type": "code",
   "execution_count": null,
   "id": "78752e78-478d-41b7-9907-ab97c1413d8c",
   "metadata": {},
   "outputs": [],
   "source": [
    "df = result.compute()"
   ]
  },
  {
   "cell_type": "markdown",
   "id": "8db861ac-7059-47e3-98ae-6d1b5e30b145",
   "metadata": {},
   "source": [
    "**Option** to show the `pandas` dataframe."
   ]
  },
  {
   "cell_type": "code",
   "execution_count": null,
   "id": "e3e984d0-a91d-4125-9a20-a1230fbeb0ec",
   "metadata": {
    "tags": []
   },
   "outputs": [],
   "source": [
    "# df"
   ]
  },
  {
   "cell_type": "markdown",
   "id": "016646aa-27d2-45dc-ad25-45af2fddbda0",
   "metadata": {},
   "source": [
    "Plot the g, r, and i-band `delta_flux` values."
   ]
  },
  {
   "cell_type": "code",
   "execution_count": null,
   "id": "34ad50e3-bec1-4cdb-8fc0-5137e722966d",
   "metadata": {},
   "outputs": [],
   "source": [
    "gx = df['bandpass'][:] == 'g'\n",
    "rx = df['bandpass'][:] == 'r'\n",
    "ix = df['bandpass'][:] == 'i'\n",
    "plt.plot(df['MJD'][gx], df['delta_flux'][gx], \\\n",
    "         'o', ms=3, mew=0, alpha=0.3, color='darkgreen')\n",
    "plt.plot(df['MJD'][rx], df['delta_flux'][rx], \\\n",
    "         'o', ms=3, mew=0, alpha=0.3, color='darkorange')\n",
    "plt.plot(df['MJD'][ix], df['delta_flux'][ix], \\\n",
    "         'o', ms=3, mew=0, alpha=0.3, color='black')\n",
    "plt.xlabel('MJD (days)')\n",
    "plt.ylabel('delta$\\_$flux (nJy)')\n",
    "plt.show()\n",
    "del gx, rx, ix"
   ]
  },
  {
   "cell_type": "code",
   "execution_count": null,
   "id": "e8a32325-5810-4204-be18-379ffe3ba706",
   "metadata": {},
   "outputs": [],
   "source": [
    "del result, df\n",
    "gc.collect()"
   ]
  },
  {
   "cell_type": "code",
   "execution_count": null,
   "id": "dc31e1e4-93cd-4b92-8de7-8956a6a365de",
   "metadata": {},
   "outputs": [],
   "source": []
  }
 ],
 "metadata": {
  "kernelspec": {
   "display_name": "LSST",
   "language": "python",
   "name": "lsst"
  },
  "language_info": {
   "codemirror_mode": {
    "name": "ipython",
    "version": 3
   },
   "file_extension": ".py",
   "mimetype": "text/x-python",
   "name": "python",
   "nbconvert_exporter": "python",
   "pygments_lexer": "ipython3",
   "version": "3.11.7"
  }
 },
 "nbformat": 4,
 "nbformat_minor": 5
}
